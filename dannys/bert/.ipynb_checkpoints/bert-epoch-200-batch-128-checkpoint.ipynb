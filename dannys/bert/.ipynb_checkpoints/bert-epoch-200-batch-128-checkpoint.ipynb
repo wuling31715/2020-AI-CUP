{
 "cells": [
  {
   "cell_type": "code",
   "execution_count": 1,
   "metadata": {},
   "outputs": [],
   "source": [
    "import re\n",
    "import pandas as pd\n",
    "import tensorflow as tf\n",
    "from matplotlib import pyplot as plt"
   ]
  },
  {
   "cell_type": "code",
   "execution_count": 2,
   "metadata": {},
   "outputs": [],
   "source": [
    "def select_gpu(N):\n",
    "    gpus = tf.config.experimental.list_physical_devices('GPU')\n",
    "    print(gpus)\n",
    "    if gpus:\n",
    "        try:\n",
    "            for gpu in gpus:\n",
    "                tf.config.experimental.set_memory_growth(gpu, True)\n",
    "            tf.config.experimental.set_visible_devices(gpus[N], 'GPU')\n",
    "            logical_gpus = tf.config.experimental.list_logical_devices('GPU')\n",
    "            print(len(gpus), \"Physical GPUs,\", len(logical_gpus), \"Logical GPUs\")\n",
    "        except RuntimeError as e:\n",
    "            print(e)    "
   ]
  },
  {
   "cell_type": "code",
   "execution_count": 3,
   "metadata": {},
   "outputs": [
    {
     "name": "stdout",
     "output_type": "stream",
     "text": [
      "[PhysicalDevice(name='/physical_device:GPU:0', device_type='GPU'), PhysicalDevice(name='/physical_device:GPU:1', device_type='GPU'), PhysicalDevice(name='/physical_device:GPU:2', device_type='GPU')]\n",
      "3 Physical GPUs, 1 Logical GPUs\n"
     ]
    }
   ],
   "source": [
    "select_gpu(0)\n",
    "epochs = 200\n",
    "batch_size = 128\n",
    "model_name = 'bert-chinese'\n",
    "embedding_path = '/home/Danny/pretrain_model/{}'.format(model_name)"
   ]
  },
  {
   "cell_type": "code",
   "execution_count": 4,
   "metadata": {},
   "outputs": [],
   "source": [
    "# 不用儲存article_id, 轉成list\n",
    "def training_txt_to_list(path):\n",
    "    with open(path, 'r') as f:\n",
    "        txt = str(f.read())\n",
    "    txt_list = txt.split('\\n')\n",
    "    text_label_list = list()\n",
    "    tmp = list()\n",
    "    for line in txt_list:\n",
    "        if line == '--------------------':\n",
    "            text_label_list.append(tmp)\n",
    "            tmp = list()\n",
    "            continue\n",
    "        if line == '':\n",
    "            continue\n",
    "        tmp.append(line)\n",
    "    x = list()\n",
    "    y = list()\n",
    "    for text_label in text_label_list:\n",
    "        text = text_label[0]\n",
    "        label = text_label[2:]\n",
    "        label_list = ['O' for i in range(len(text))]\n",
    "        for i in label:\n",
    "            entity = i.split('\\t')\n",
    "            if int(entity[1]) > int(entity[2]):\n",
    "                continue\n",
    "            b = int(entity[1])\n",
    "            label_list[b] = 'B-{}'.format(entity[-1])\n",
    "            for j in range(int(entity[1])+1, int(entity[2])):\n",
    "                label_list[j] = 'I-{}'.format(entity[-1])\n",
    "        for i, j in enumerate(text):\n",
    "            if j == '，' or j == '。' or j == '？':\n",
    "                label_list[i] = j\n",
    "                \n",
    "        text_list = re.split('\\uff0c|\\u3002|\\uff1f', text)\n",
    "        for sentence in text_list:\n",
    "            x.append([i for i in sentence])\n",
    "        x = x[:-1]\n",
    "            \n",
    "        sentence = list()\n",
    "        for i in label_list:\n",
    "            if i == '，' or i == '。' or i == '？':\n",
    "                y.append(sentence)\n",
    "                sentence = list()\n",
    "            else:\n",
    "                sentence.append(i)\n",
    "                \n",
    "    return [x, y]"
   ]
  },
  {
   "cell_type": "code",
   "execution_count": 5,
   "metadata": {},
   "outputs": [],
   "source": [
    "x1, y1 = training_txt_to_list('/home/Danny/AI-CUP-2020/datasets/stage1/SampleData_deid.txt')"
   ]
  },
  {
   "cell_type": "code",
   "execution_count": 6,
   "metadata": {},
   "outputs": [],
   "source": [
    "x2, y2 = training_txt_to_list('/home/Danny/AI-CUP-2020/datasets/stage2/train_1_update.txt')"
   ]
  },
  {
   "cell_type": "code",
   "execution_count": 7,
   "metadata": {},
   "outputs": [],
   "source": [
    "x4, y4 = training_txt_to_list('/home/Danny/AI-CUP-2020/datasets/stage4/train_2.txt')"
   ]
  },
  {
   "cell_type": "code",
   "execution_count": 8,
   "metadata": {},
   "outputs": [
    {
     "name": "stdout",
     "output_type": "stream",
     "text": [
      "76162\n",
      "76162\n"
     ]
    }
   ],
   "source": [
    "x = x1 + x2 + x4\n",
    "y = y1 + y2 + y4\n",
    "print(len(x))\n",
    "print(len(y))"
   ]
  },
  {
   "cell_type": "code",
   "execution_count": 9,
   "metadata": {},
   "outputs": [
    {
     "name": "stdout",
     "output_type": "stream",
     "text": [
      "48743 48743\n",
      "12186 12186\n",
      "15233 15233\n"
     ]
    }
   ],
   "source": [
    "from sklearn.model_selection import train_test_split\n",
    "train_x, test_x, train_y, test_y = train_test_split(x, y, test_size=0.2, random_state=42)\n",
    "train_x, valid_x, train_y, valid_y = train_test_split(train_x, train_y, test_size=0.2, random_state=42)\n",
    "print(len(train_x), len(train_y))\n",
    "print(len(valid_x), len(valid_y))\n",
    "print(len(test_x), len(test_y))"
   ]
  },
  {
   "cell_type": "code",
   "execution_count": 10,
   "metadata": {},
   "outputs": [
    {
     "name": "stderr",
     "output_type": "stream",
     "text": [
      "2020-12-13 20:33:50,843 [DEBUG] kashgari - ------------------------------------------------\n",
      "2020-12-13 20:33:50,844 [DEBUG] kashgari - Loaded transformer model's vocab\n",
      "2020-12-13 20:33:50,844 [DEBUG] kashgari - config_path       : /home/Danny/pretrain_model/bert-chinese/bert_config.json\n",
      "2020-12-13 20:33:50,844 [DEBUG] kashgari - vocab_path      : /home/Danny/pretrain_model/bert-chinese/vocab.txt\n",
      "2020-12-13 20:33:50,845 [DEBUG] kashgari - checkpoint_path : /home/Danny/pretrain_model/bert-chinese/bert_model.ckpt\n",
      "2020-12-13 20:33:50,845 [DEBUG] kashgari - Top 50 words    : ['[PAD]', '[unused1]', '[unused2]', '[unused3]', '[unused4]', '[unused5]', '[unused6]', '[unused7]', '[unused8]', '[unused9]', '[unused10]', '[unused11]', '[unused12]', '[unused13]', '[unused14]', '[unused15]', '[unused16]', '[unused17]', '[unused18]', '[unused19]', '[unused20]', '[unused21]', '[unused22]', '[unused23]', '[unused24]', '[unused25]', '[unused26]', '[unused27]', '[unused28]', '[unused29]', '[unused30]', '[unused31]', '[unused32]', '[unused33]', '[unused34]', '[unused35]', '[unused36]', '[unused37]', '[unused38]', '[unused39]', '[unused40]', '[unused41]', '[unused42]', '[unused43]', '[unused44]', '[unused45]', '[unused46]', '[unused47]', '[unused48]', '[unused49]']\n",
      "2020-12-13 20:33:50,845 [DEBUG] kashgari - ------------------------------------------------\n",
      "Preparing text vocab dict: 100%|██████████| 48743/48743 [00:00<00:00, 502236.64it/s]\n",
      "Preparing text vocab dict: 100%|██████████| 12186/12186 [00:00<00:00, 491648.60it/s]\n",
      "2020-12-13 20:33:50,972 [DEBUG] kashgari - --- Build vocab dict finished, Total: 1742 ---\n",
      "2020-12-13 20:33:50,972 [DEBUG] kashgari - Top-10: ['[PAD]', '[UNK]', '[CLS]', '[SEP]', '：', '師', '是', '民', '眾', '醫']\n",
      "Preparing text vocab dict: 100%|██████████| 48743/48743 [00:00<00:00, 686153.81it/s]\n",
      "Preparing text vocab dict: 100%|██████████| 12186/12186 [00:00<00:00, 685153.80it/s]\n",
      "2020-12-13 20:33:51,064 [DEBUG] kashgari - --- Build vocab dict finished, Total: 28 ---\n",
      "2020-12-13 20:33:51,065 [DEBUG] kashgari - Top-10: ['[PAD]', 'O', 'I-time', 'B-time', 'I-med_exam', 'I-name', 'I-location', 'B-med_exam', 'I-money', 'B-name']\n",
      "Calculating sequence length: 100%|██████████| 48743/48743 [00:00<00:00, 1796574.22it/s]\n",
      "Calculating sequence length: 100%|██████████| 12186/12186 [00:00<00:00, 1797116.44it/s]\n",
      "2020-12-13 20:33:55,335 [DEBUG] kashgari - Calculated sequence length = 19\n",
      "2020-12-13 20:33:57,105 [DEBUG] kashgari - fit input shape: (2, 128, 19)\n",
      "2020-12-13 20:33:57,106 [DEBUG] kashgari - fit input shape: (128, 19)\n"
     ]
    },
    {
     "name": "stdout",
     "output_type": "stream",
     "text": [
      "Epoch 1/200\n",
      "380/380 [==============================] - 50s 132ms/step - loss: 0.5068 - accuracy: 0.9752 - val_loss: 24.1184 - val_accuracy: 0.9870\n",
      "Epoch 2/200\n",
      "380/380 [==============================] - 49s 128ms/step - loss: 0.1754 - accuracy: 0.9877 - val_loss: 23.6660 - val_accuracy: 0.9895\n",
      "Epoch 3/200\n",
      "380/380 [==============================] - 49s 129ms/step - loss: 0.1321 - accuracy: 0.9895 - val_loss: 23.2297 - val_accuracy: 0.9898\n",
      "Epoch 4/200\n",
      "380/380 [==============================] - 48s 126ms/step - loss: 0.1058 - accuracy: 0.9910 - val_loss: 22.7966 - val_accuracy: 0.9901\n",
      "Epoch 5/200\n",
      "380/380 [==============================] - 48s 127ms/step - loss: 0.0873 - accuracy: 0.9918 - val_loss: 22.4015 - val_accuracy: 0.9903\n",
      "Epoch 6/200\n",
      "380/380 [==============================] - 49s 129ms/step - loss: 0.0726 - accuracy: 0.9927 - val_loss: 22.0049 - val_accuracy: 0.9893\n",
      "Epoch 7/200\n",
      "380/380 [==============================] - 48s 127ms/step - loss: 0.0620 - accuracy: 0.9934 - val_loss: 21.6305 - val_accuracy: 0.9881\n",
      "Epoch 8/200\n",
      "380/380 [==============================] - 48s 127ms/step - loss: 0.0537 - accuracy: 0.9942 - val_loss: 21.2732 - val_accuracy: 0.9840\n",
      "Epoch 9/200\n",
      "380/380 [==============================] - 49s 130ms/step - loss: 0.0481 - accuracy: 0.9946 - val_loss: 20.9184 - val_accuracy: 0.9794\n",
      "Epoch 10/200\n",
      "380/380 [==============================] - 48s 125ms/step - loss: 0.0417 - accuracy: 0.9951 - val_loss: 20.5993 - val_accuracy: 0.9769\n",
      "Epoch 11/200\n",
      "380/380 [==============================] - 48s 126ms/step - loss: 0.0366 - accuracy: 0.9957 - val_loss: 20.3106 - val_accuracy: 0.9755\n",
      "Epoch 12/200\n",
      "380/380 [==============================] - 48s 126ms/step - loss: 0.0328 - accuracy: 0.9961 - val_loss: 20.0103 - val_accuracy: 0.9733\n",
      "Epoch 13/200\n",
      "380/380 [==============================] - 48s 126ms/step - loss: 0.0309 - accuracy: 0.9963 - val_loss: 19.7461 - val_accuracy: 0.9707\n",
      "Epoch 14/200\n",
      "380/380 [==============================] - 48s 126ms/step - loss: 0.0292 - accuracy: 0.9964 - val_loss: 19.4633 - val_accuracy: 0.9729\n",
      "Epoch 15/200\n",
      "380/380 [==============================] - 48s 126ms/step - loss: 0.0268 - accuracy: 0.9966 - val_loss: 19.2272 - val_accuracy: 0.9707\n",
      "Epoch 16/200\n",
      "380/380 [==============================] - 48s 126ms/step - loss: 0.0256 - accuracy: 0.9967 - val_loss: 18.9963 - val_accuracy: 0.9699\n",
      "Epoch 17/200\n",
      "380/380 [==============================] - 48s 126ms/step - loss: 0.0227 - accuracy: 0.9971 - val_loss: 18.7561 - val_accuracy: 0.9578\n",
      "Epoch 18/200\n",
      "380/380 [==============================] - 48s 127ms/step - loss: 0.0226 - accuracy: 0.9971 - val_loss: 18.5477 - val_accuracy: 0.9552\n",
      "Epoch 19/200\n",
      "380/380 [==============================] - 48s 127ms/step - loss: 0.0217 - accuracy: 0.9971 - val_loss: 18.3085 - val_accuracy: 0.9550\n",
      "Epoch 20/200\n",
      "380/380 [==============================] - 48s 127ms/step - loss: 0.0187 - accuracy: 0.9975 - val_loss: 18.1267 - val_accuracy: 0.9551\n",
      "Epoch 21/200\n",
      "380/380 [==============================] - 48s 127ms/step - loss: 0.0194 - accuracy: 0.9974 - val_loss: 17.9485 - val_accuracy: 0.9538\n",
      "Epoch 22/200\n",
      "380/380 [==============================] - 48s 127ms/step - loss: 0.0187 - accuracy: 0.9975 - val_loss: 17.7482 - val_accuracy: 0.9531\n",
      "Epoch 23/200\n",
      "380/380 [==============================] - 48s 127ms/step - loss: 0.0188 - accuracy: 0.9975 - val_loss: 17.5294 - val_accuracy: 0.9520\n",
      "Epoch 24/200\n",
      "380/380 [==============================] - 48s 127ms/step - loss: 0.0171 - accuracy: 0.9976 - val_loss: 17.3414 - val_accuracy: 0.9367\n",
      "Epoch 25/200\n",
      "380/380 [==============================] - 48s 127ms/step - loss: 0.0178 - accuracy: 0.9975 - val_loss: 17.1362 - val_accuracy: 0.9385\n",
      "Epoch 26/200\n",
      "380/380 [==============================] - 48s 127ms/step - loss: 0.0151 - accuracy: 0.9979 - val_loss: 17.0115 - val_accuracy: 0.9385\n",
      "Epoch 27/200\n",
      "380/380 [==============================] - 48s 127ms/step - loss: 0.0151 - accuracy: 0.9979 - val_loss: 16.8637 - val_accuracy: 0.9369\n",
      "Epoch 28/200\n",
      "380/380 [==============================] - 48s 127ms/step - loss: 0.0142 - accuracy: 0.9981 - val_loss: 16.7453 - val_accuracy: 0.9371\n",
      "Epoch 29/200\n",
      "380/380 [==============================] - 48s 127ms/step - loss: 0.0162 - accuracy: 0.9976 - val_loss: 16.5850 - val_accuracy: 0.9370\n",
      "Epoch 30/200\n",
      "380/380 [==============================] - 48s 127ms/step - loss: 0.0144 - accuracy: 0.9979 - val_loss: 16.4273 - val_accuracy: 0.9374\n",
      "Epoch 31/200\n",
      "380/380 [==============================] - 48s 127ms/step - loss: 0.0151 - accuracy: 0.9977 - val_loss: 16.2997 - val_accuracy: 0.9348\n",
      "Epoch 32/200\n",
      "380/380 [==============================] - 48s 127ms/step - loss: 0.0129 - accuracy: 0.9982 - val_loss: 16.1909 - val_accuracy: 0.9347\n",
      "Epoch 33/200\n",
      "380/380 [==============================] - 48s 127ms/step - loss: 0.0139 - accuracy: 0.9980 - val_loss: 16.0176 - val_accuracy: 0.9362\n",
      "Epoch 34/200\n",
      "380/380 [==============================] - 48s 127ms/step - loss: 0.0127 - accuracy: 0.9982 - val_loss: 15.9449 - val_accuracy: 0.8397\n",
      "Epoch 35/200\n",
      "380/380 [==============================] - 48s 127ms/step - loss: 0.0119 - accuracy: 0.9983 - val_loss: 15.8112 - val_accuracy: 0.9354\n",
      "Epoch 36/200\n",
      "380/380 [==============================] - 48s 127ms/step - loss: 0.0116 - accuracy: 0.9983 - val_loss: 15.7453 - val_accuracy: 0.7028\n",
      "Epoch 37/200\n",
      "380/380 [==============================] - 48s 127ms/step - loss: 0.0130 - accuracy: 0.9981 - val_loss: 15.6347 - val_accuracy: 0.7026\n",
      "Epoch 38/200\n",
      "380/380 [==============================] - 48s 127ms/step - loss: 0.0121 - accuracy: 0.9983 - val_loss: 15.5554 - val_accuracy: 0.7006\n",
      "Epoch 39/200\n",
      "380/380 [==============================] - 48s 127ms/step - loss: 0.0117 - accuracy: 0.9983 - val_loss: 15.4258 - val_accuracy: 0.7015\n",
      "Epoch 40/200\n",
      "380/380 [==============================] - 48s 127ms/step - loss: 0.0112 - accuracy: 0.9984 - val_loss: 15.3290 - val_accuracy: 0.7009\n",
      "Epoch 41/200\n",
      "380/380 [==============================] - 48s 127ms/step - loss: 0.0109 - accuracy: 0.9984 - val_loss: 15.2731 - val_accuracy: 0.7012\n",
      "Epoch 42/200\n",
      "380/380 [==============================] - 48s 127ms/step - loss: 0.0107 - accuracy: 0.9983 - val_loss: 15.1557 - val_accuracy: 0.7013\n",
      "Epoch 43/200\n",
      "380/380 [==============================] - 48s 127ms/step - loss: 0.0119 - accuracy: 0.9983 - val_loss: 15.0600 - val_accuracy: 0.7011\n",
      "Epoch 44/200\n",
      "380/380 [==============================] - 48s 127ms/step - loss: 0.0124 - accuracy: 0.9981 - val_loss: 14.9566 - val_accuracy: 0.7009\n",
      "Epoch 45/200\n",
      "380/380 [==============================] - 48s 127ms/step - loss: 0.0117 - accuracy: 0.9983 - val_loss: 14.8897 - val_accuracy: 0.7005\n",
      "Epoch 46/200\n",
      "380/380 [==============================] - 48s 127ms/step - loss: 0.0094 - accuracy: 0.9986 - val_loss: 14.8004 - val_accuracy: 0.6998\n",
      "Epoch 47/200\n",
      "380/380 [==============================] - 48s 127ms/step - loss: 0.0114 - accuracy: 0.9984 - val_loss: 14.7148 - val_accuracy: 0.6479\n",
      "Epoch 48/200\n",
      "380/380 [==============================] - 48s 127ms/step - loss: 0.0102 - accuracy: 0.9985 - val_loss: 14.6140 - val_accuracy: 0.6989\n",
      "Epoch 49/200\n",
      "380/380 [==============================] - 48s 127ms/step - loss: 0.0102 - accuracy: 0.9984 - val_loss: 14.5372 - val_accuracy: 0.6988\n",
      "Epoch 50/200\n",
      "380/380 [==============================] - 48s 127ms/step - loss: 0.0101 - accuracy: 0.9985 - val_loss: 14.4395 - val_accuracy: 0.6469\n",
      "Epoch 51/200\n",
      "380/380 [==============================] - 48s 127ms/step - loss: 0.0105 - accuracy: 0.9985 - val_loss: 14.3452 - val_accuracy: 0.6981\n",
      "Epoch 52/200\n",
      "380/380 [==============================] - 48s 127ms/step - loss: 0.0102 - accuracy: 0.9985 - val_loss: 14.2875 - val_accuracy: 0.6460\n",
      "Epoch 53/200\n",
      "380/380 [==============================] - 48s 127ms/step - loss: 0.0106 - accuracy: 0.9985 - val_loss: 14.2215 - val_accuracy: 0.6474\n",
      "Epoch 54/200\n",
      "380/380 [==============================] - 48s 127ms/step - loss: 0.0101 - accuracy: 0.9985 - val_loss: 14.1742 - val_accuracy: 0.6459\n",
      "Epoch 55/200\n",
      "380/380 [==============================] - 48s 127ms/step - loss: 0.0100 - accuracy: 0.9983 - val_loss: 14.1708 - val_accuracy: 0.5891\n",
      "Epoch 56/200\n"
     ]
    },
    {
     "name": "stdout",
     "output_type": "stream",
     "text": [
      "380/380 [==============================] - 48s 127ms/step - loss: 0.0096 - accuracy: 0.9986 - val_loss: 14.0780 - val_accuracy: 0.5893\n",
      "Epoch 57/200\n",
      "380/380 [==============================] - 48s 127ms/step - loss: 0.0099 - accuracy: 0.9985 - val_loss: 14.0155 - val_accuracy: 0.5406\n",
      "Epoch 58/200\n",
      "380/380 [==============================] - 48s 127ms/step - loss: 0.0097 - accuracy: 0.9986 - val_loss: 13.9960 - val_accuracy: 0.4898\n",
      "Epoch 59/200\n",
      "380/380 [==============================] - 48s 127ms/step - loss: 0.0088 - accuracy: 0.9987 - val_loss: 13.8810 - val_accuracy: 0.5408\n",
      "Epoch 60/200\n",
      "380/380 [==============================] - 48s 127ms/step - loss: 0.0090 - accuracy: 0.9987 - val_loss: 13.8847 - val_accuracy: 0.4376\n",
      "Epoch 61/200\n",
      "380/380 [==============================] - 48s 127ms/step - loss: 0.0092 - accuracy: 0.9987 - val_loss: 13.8368 - val_accuracy: 0.3948\n",
      "Epoch 62/200\n",
      "380/380 [==============================] - 48s 127ms/step - loss: 0.0093 - accuracy: 0.9986 - val_loss: 13.7885 - val_accuracy: 0.3048\n",
      "Epoch 63/200\n",
      "380/380 [==============================] - 48s 127ms/step - loss: 0.0085 - accuracy: 0.9986 - val_loss: 13.7443 - val_accuracy: 0.1713\n",
      "Epoch 64/200\n",
      "380/380 [==============================] - 48s 127ms/step - loss: 0.0096 - accuracy: 0.9985 - val_loss: 13.6419 - val_accuracy: 0.1969\n",
      "Epoch 65/200\n",
      "380/380 [==============================] - 48s 127ms/step - loss: 0.0090 - accuracy: 0.9986 - val_loss: 13.6455 - val_accuracy: 0.1489\n",
      "Epoch 66/200\n",
      "380/380 [==============================] - 48s 127ms/step - loss: 0.0104 - accuracy: 0.9985 - val_loss: 13.5976 - val_accuracy: 0.1476\n",
      "Epoch 67/200\n",
      "380/380 [==============================] - 48s 127ms/step - loss: 0.0091 - accuracy: 0.9987 - val_loss: 13.5376 - val_accuracy: 0.1466\n",
      "Epoch 68/200\n",
      "380/380 [==============================] - 48s 127ms/step - loss: 0.0088 - accuracy: 0.9986 - val_loss: 13.5149 - val_accuracy: 0.1468\n",
      "Epoch 69/200\n",
      "380/380 [==============================] - 48s 127ms/step - loss: 0.0083 - accuracy: 0.9986 - val_loss: 13.5069 - val_accuracy: 0.1447\n",
      "Epoch 70/200\n",
      "380/380 [==============================] - 48s 127ms/step - loss: 0.0088 - accuracy: 0.9987 - val_loss: 13.4388 - val_accuracy: 0.1465\n",
      "Epoch 71/200\n",
      "380/380 [==============================] - 48s 127ms/step - loss: 0.0086 - accuracy: 0.9987 - val_loss: 13.4082 - val_accuracy: 0.1462\n",
      "Epoch 72/200\n",
      "380/380 [==============================] - 48s 127ms/step - loss: 0.0081 - accuracy: 0.9988 - val_loss: 13.3390 - val_accuracy: 0.1463\n",
      "Epoch 73/200\n",
      "380/380 [==============================] - 48s 127ms/step - loss: 0.0087 - accuracy: 0.9987 - val_loss: 13.3595 - val_accuracy: 0.1440\n",
      "Epoch 74/200\n",
      "380/380 [==============================] - 48s 127ms/step - loss: 0.0086 - accuracy: 0.9986 - val_loss: 13.2920 - val_accuracy: 0.1443\n",
      "Epoch 75/200\n",
      "380/380 [==============================] - 48s 127ms/step - loss: 0.0074 - accuracy: 0.9988 - val_loss: 13.2771 - val_accuracy: 0.1440\n",
      "Epoch 76/200\n",
      "380/380 [==============================] - 48s 127ms/step - loss: 0.0083 - accuracy: 0.9987 - val_loss: 13.2579 - val_accuracy: 0.1435\n",
      "Epoch 77/200\n",
      "380/380 [==============================] - 48s 127ms/step - loss: 0.0087 - accuracy: 0.9986 - val_loss: 13.2100 - val_accuracy: 0.0358\n",
      "Epoch 78/200\n",
      "380/380 [==============================] - 48s 127ms/step - loss: 0.0082 - accuracy: 0.9987 - val_loss: 13.1971 - val_accuracy: 0.0367\n",
      "Epoch 79/200\n",
      "380/380 [==============================] - 48s 127ms/step - loss: 0.0072 - accuracy: 0.9989 - val_loss: 13.2007 - val_accuracy: 0.0368\n",
      "Epoch 80/200\n",
      "380/380 [==============================] - 48s 127ms/step - loss: 0.0086 - accuracy: 0.9986 - val_loss: 13.2062 - val_accuracy: 0.0357\n",
      "Epoch 81/200\n",
      "380/380 [==============================] - 48s 127ms/step - loss: 0.0085 - accuracy: 0.9987 - val_loss: 13.1681 - val_accuracy: 0.0330\n",
      "Epoch 82/200\n",
      "380/380 [==============================] - 48s 127ms/step - loss: 0.0088 - accuracy: 0.9986 - val_loss: 13.1338 - val_accuracy: 0.0330\n",
      "Epoch 83/200\n",
      "380/380 [==============================] - 48s 127ms/step - loss: 0.0083 - accuracy: 0.9988 - val_loss: 13.1323 - val_accuracy: 0.0347\n",
      "Epoch 84/200\n",
      "380/380 [==============================] - 48s 127ms/step - loss: 0.0080 - accuracy: 0.9987 - val_loss: 13.0719 - val_accuracy: 0.0326\n",
      "Epoch 85/200\n",
      "380/380 [==============================] - 48s 128ms/step - loss: 0.0086 - accuracy: 0.9987 - val_loss: 13.0587 - val_accuracy: 0.0327\n",
      "Epoch 86/200\n",
      "380/380 [==============================] - 48s 127ms/step - loss: 0.0081 - accuracy: 0.9986 - val_loss: 13.0830 - val_accuracy: 0.0292\n",
      "Epoch 87/200\n",
      "380/380 [==============================] - 48s 127ms/step - loss: 0.0080 - accuracy: 0.9988 - val_loss: 13.0448 - val_accuracy: 0.0289\n",
      "Epoch 88/200\n",
      "380/380 [==============================] - 48s 127ms/step - loss: 0.0078 - accuracy: 0.9988 - val_loss: 13.0037 - val_accuracy: 0.0313\n",
      "Epoch 89/200\n",
      "380/380 [==============================] - 48s 127ms/step - loss: 0.0078 - accuracy: 0.9987 - val_loss: 12.9394 - val_accuracy: 0.0298\n",
      "Epoch 90/200\n",
      "380/380 [==============================] - 48s 127ms/step - loss: 0.0074 - accuracy: 0.9989 - val_loss: 12.9319 - val_accuracy: 0.0266\n",
      "Epoch 91/200\n",
      "380/380 [==============================] - 48s 127ms/step - loss: 0.0079 - accuracy: 0.9988 - val_loss: 12.9703 - val_accuracy: 0.0311\n",
      "Epoch 92/200\n",
      "380/380 [==============================] - 48s 127ms/step - loss: 0.0087 - accuracy: 0.9987 - val_loss: 12.9224 - val_accuracy: 0.0269\n",
      "Epoch 93/200\n",
      "380/380 [==============================] - 48s 127ms/step - loss: 0.0071 - accuracy: 0.9989 - val_loss: 12.8720 - val_accuracy: 0.0261\n",
      "Epoch 94/200\n",
      "380/380 [==============================] - 48s 127ms/step - loss: 0.0075 - accuracy: 0.9987 - val_loss: 12.8875 - val_accuracy: 0.0264\n",
      "Epoch 95/200\n",
      "380/380 [==============================] - 48s 127ms/step - loss: 0.0071 - accuracy: 0.9989 - val_loss: 12.8767 - val_accuracy: 0.0237\n",
      "Epoch 96/200\n",
      "380/380 [==============================] - 48s 127ms/step - loss: 0.0084 - accuracy: 0.9986 - val_loss: 12.8945 - val_accuracy: 0.0253\n",
      "Epoch 97/200\n",
      "380/380 [==============================] - 48s 127ms/step - loss: 0.0070 - accuracy: 0.9990 - val_loss: 12.8986 - val_accuracy: 0.0262\n",
      "Epoch 98/200\n",
      "380/380 [==============================] - 48s 127ms/step - loss: 0.0071 - accuracy: 0.9989 - val_loss: 12.8646 - val_accuracy: 0.0250\n",
      "Epoch 99/200\n",
      "380/380 [==============================] - 48s 127ms/step - loss: 0.0071 - accuracy: 0.9989 - val_loss: 12.8788 - val_accuracy: 0.0206\n",
      "Epoch 100/200\n",
      "380/380 [==============================] - 48s 127ms/step - loss: 0.0075 - accuracy: 0.9988 - val_loss: 12.8428 - val_accuracy: 0.0205\n",
      "Epoch 101/200\n",
      "380/380 [==============================] - 48s 127ms/step - loss: 0.0082 - accuracy: 0.9988 - val_loss: 12.7982 - val_accuracy: 0.0222\n",
      "Epoch 102/200\n",
      "380/380 [==============================] - 48s 127ms/step - loss: 0.0073 - accuracy: 0.9989 - val_loss: 12.7781 - val_accuracy: 0.0239\n",
      "Epoch 103/200\n",
      "380/380 [==============================] - 48s 127ms/step - loss: 0.0058 - accuracy: 0.9990 - val_loss: 12.7371 - val_accuracy: 0.0210\n",
      "Epoch 104/200\n",
      "380/380 [==============================] - 48s 127ms/step - loss: 0.0074 - accuracy: 0.9989 - val_loss: 12.7527 - val_accuracy: 0.0202\n",
      "Epoch 105/200\n",
      "380/380 [==============================] - 48s 127ms/step - loss: 0.0074 - accuracy: 0.9989 - val_loss: 12.6987 - val_accuracy: 0.0204\n",
      "Epoch 106/200\n",
      "380/380 [==============================] - 48s 127ms/step - loss: 0.0072 - accuracy: 0.9989 - val_loss: 12.6697 - val_accuracy: 0.0187\n",
      "Epoch 107/200\n",
      "380/380 [==============================] - 48s 127ms/step - loss: 0.0069 - accuracy: 0.9989 - val_loss: 12.6452 - val_accuracy: 0.0174\n",
      "Epoch 108/200\n",
      "380/380 [==============================] - 48s 127ms/step - loss: 0.0076 - accuracy: 0.9988 - val_loss: 12.6486 - val_accuracy: 0.0175\n",
      "Epoch 109/200\n",
      "380/380 [==============================] - 48s 127ms/step - loss: 0.0070 - accuracy: 0.9988 - val_loss: 12.6645 - val_accuracy: 0.0164\n",
      "Epoch 110/200\n",
      "380/380 [==============================] - 48s 127ms/step - loss: 0.0073 - accuracy: 0.9988 - val_loss: 12.6424 - val_accuracy: 0.0159\n",
      "Epoch 111/200\n"
     ]
    },
    {
     "name": "stdout",
     "output_type": "stream",
     "text": [
      "380/380 [==============================] - 48s 127ms/step - loss: 0.0071 - accuracy: 0.9989 - val_loss: 12.6214 - val_accuracy: 0.0177\n",
      "Epoch 112/200\n",
      "380/380 [==============================] - 48s 127ms/step - loss: 0.0077 - accuracy: 0.9988 - val_loss: 12.6507 - val_accuracy: 0.0178\n",
      "Epoch 113/200\n",
      "380/380 [==============================] - 48s 127ms/step - loss: 0.0074 - accuracy: 0.9989 - val_loss: 12.6726 - val_accuracy: 0.0164\n",
      "Epoch 114/200\n",
      "380/380 [==============================] - 48s 127ms/step - loss: 0.0076 - accuracy: 0.9988 - val_loss: 12.6956 - val_accuracy: 0.0137\n",
      "Epoch 115/200\n",
      "380/380 [==============================] - 48s 127ms/step - loss: 0.0073 - accuracy: 0.9988 - val_loss: 12.6820 - val_accuracy: 0.0133\n",
      "Epoch 116/200\n",
      "380/380 [==============================] - 48s 127ms/step - loss: 0.0079 - accuracy: 0.9987 - val_loss: 12.6458 - val_accuracy: 0.0133\n",
      "Epoch 117/200\n",
      "380/380 [==============================] - 48s 127ms/step - loss: 0.0062 - accuracy: 0.9990 - val_loss: 12.6316 - val_accuracy: 0.0144\n",
      "Epoch 118/200\n",
      "380/380 [==============================] - 48s 127ms/step - loss: 0.0065 - accuracy: 0.9989 - val_loss: 12.5858 - val_accuracy: 0.0135\n",
      "Epoch 119/200\n",
      "380/380 [==============================] - 48s 127ms/step - loss: 0.0077 - accuracy: 0.9988 - val_loss: 12.5876 - val_accuracy: 0.0133\n",
      "Epoch 120/200\n",
      "380/380 [==============================] - 48s 127ms/step - loss: 0.0076 - accuracy: 0.9988 - val_loss: 12.5809 - val_accuracy: 0.0137\n",
      "Epoch 121/200\n",
      "380/380 [==============================] - 48s 127ms/step - loss: 0.0072 - accuracy: 0.9988 - val_loss: 12.5726 - val_accuracy: 0.0130\n",
      "Epoch 122/200\n",
      "380/380 [==============================] - 48s 127ms/step - loss: 0.0070 - accuracy: 0.9988 - val_loss: 12.5919 - val_accuracy: 0.0123\n",
      "Epoch 123/200\n",
      "380/380 [==============================] - 48s 127ms/step - loss: 0.0076 - accuracy: 0.9987 - val_loss: 12.5530 - val_accuracy: 0.0118\n",
      "Epoch 124/200\n",
      "380/380 [==============================] - 48s 127ms/step - loss: 0.0070 - accuracy: 0.9988 - val_loss: 12.5608 - val_accuracy: 0.0123\n",
      "Epoch 125/200\n",
      "380/380 [==============================] - 48s 127ms/step - loss: 0.0074 - accuracy: 0.9989 - val_loss: 12.5745 - val_accuracy: 0.0109\n",
      "Epoch 126/200\n",
      "380/380 [==============================] - 49s 129ms/step - loss: 0.0075 - accuracy: 0.9988 - val_loss: 12.5830 - val_accuracy: 0.0107\n",
      "Epoch 127/200\n",
      "380/380 [==============================] - 50s 130ms/step - loss: 0.0071 - accuracy: 0.9989 - val_loss: 12.5798 - val_accuracy: 0.0099\n",
      "Epoch 128/200\n",
      "380/380 [==============================] - 49s 128ms/step - loss: 0.0070 - accuracy: 0.9989 - val_loss: 12.6421 - val_accuracy: 0.0081\n",
      "Epoch 129/200\n",
      "380/380 [==============================] - 50s 132ms/step - loss: 0.0071 - accuracy: 0.9989 - val_loss: 12.6342 - val_accuracy: 0.0083\n",
      "Epoch 130/200\n",
      "380/380 [==============================] - 49s 128ms/step - loss: 0.0060 - accuracy: 0.9990 - val_loss: 12.5935 - val_accuracy: 0.0076\n",
      "Epoch 131/200\n",
      "380/380 [==============================] - 48s 126ms/step - loss: 0.0065 - accuracy: 0.9989 - val_loss: 12.6228 - val_accuracy: 0.0087\n",
      "Epoch 132/200\n",
      "380/380 [==============================] - 48s 127ms/step - loss: 0.0072 - accuracy: 0.9989 - val_loss: 12.6312 - val_accuracy: 0.0086\n",
      "Epoch 133/200\n",
      "380/380 [==============================] - 48s 127ms/step - loss: 0.0061 - accuracy: 0.9990 - val_loss: 12.6312 - val_accuracy: 0.0078\n",
      "Epoch 134/200\n",
      "380/380 [==============================] - 49s 128ms/step - loss: 0.0070 - accuracy: 0.9990 - val_loss: 12.5818 - val_accuracy: 0.0074\n",
      "Epoch 135/200\n",
      "380/380 [==============================] - 50s 131ms/step - loss: 0.0066 - accuracy: 0.9989 - val_loss: 12.6029 - val_accuracy: 0.0074\n",
      "Epoch 136/200\n",
      "380/380 [==============================] - 49s 128ms/step - loss: 0.0073 - accuracy: 0.9989 - val_loss: 12.5716 - val_accuracy: 0.0075\n",
      "Epoch 137/200\n",
      "380/380 [==============================] - 50s 132ms/step - loss: 0.0076 - accuracy: 0.9988 - val_loss: 12.6284 - val_accuracy: 0.0078\n",
      "Epoch 138/200\n",
      "380/380 [==============================] - 48s 127ms/step - loss: 0.0063 - accuracy: 0.9990 - val_loss: 12.5201 - val_accuracy: 0.0073\n",
      "Epoch 139/200\n",
      "380/380 [==============================] - 48s 127ms/step - loss: 0.0066 - accuracy: 0.9989 - val_loss: 12.5154 - val_accuracy: 0.0076\n",
      "Epoch 140/200\n",
      "380/380 [==============================] - 48s 127ms/step - loss: 0.0057 - accuracy: 0.9991 - val_loss: 12.5133 - val_accuracy: 0.0074\n",
      "Epoch 141/200\n",
      "380/380 [==============================] - 48s 127ms/step - loss: 0.0066 - accuracy: 0.9990 - val_loss: 12.5432 - val_accuracy: 0.0074\n",
      "Epoch 142/200\n",
      "380/380 [==============================] - 48s 127ms/step - loss: 0.0071 - accuracy: 0.9989 - val_loss: 12.5000 - val_accuracy: 0.0065\n",
      "Epoch 143/200\n",
      "380/380 [==============================] - 50s 131ms/step - loss: 0.0061 - accuracy: 0.9990 - val_loss: 12.4937 - val_accuracy: 0.0065\n",
      "Epoch 144/200\n",
      "380/380 [==============================] - 49s 128ms/step - loss: 0.0060 - accuracy: 0.9990 - val_loss: 12.4452 - val_accuracy: 0.0065\n",
      "Epoch 145/200\n",
      "380/380 [==============================] - 50s 132ms/step - loss: 0.0066 - accuracy: 0.9989 - val_loss: 12.4720 - val_accuracy: 0.0066\n",
      "Epoch 146/200\n",
      "380/380 [==============================] - 48s 127ms/step - loss: 0.0060 - accuracy: 0.9990 - val_loss: 12.5054 - val_accuracy: 0.0067\n",
      "Epoch 147/200\n",
      "380/380 [==============================] - 48s 127ms/step - loss: 0.0063 - accuracy: 0.9990 - val_loss: 12.4839 - val_accuracy: 0.0062\n",
      "Epoch 148/200\n",
      "380/380 [==============================] - 50s 131ms/step - loss: 0.0064 - accuracy: 0.9990 - val_loss: 12.4737 - val_accuracy: 0.0054\n",
      "Epoch 149/200\n",
      "380/380 [==============================] - 49s 128ms/step - loss: 0.0065 - accuracy: 0.9991 - val_loss: 12.4435 - val_accuracy: 0.0062\n",
      "Epoch 150/200\n",
      "380/380 [==============================] - 50s 131ms/step - loss: 0.0067 - accuracy: 0.9990 - val_loss: 12.4424 - val_accuracy: 0.0056\n",
      "Epoch 151/200\n",
      "380/380 [==============================] - 49s 130ms/step - loss: 0.0056 - accuracy: 0.9991 - val_loss: 12.4336 - val_accuracy: 0.0051\n",
      "Epoch 152/200\n",
      "380/380 [==============================] - 49s 128ms/step - loss: 0.0068 - accuracy: 0.9988 - val_loss: 12.5110 - val_accuracy: 0.0065\n",
      "Epoch 153/200\n",
      "380/380 [==============================] - 48s 127ms/step - loss: 0.0067 - accuracy: 0.9989 - val_loss: 12.4570 - val_accuracy: 0.0066\n",
      "Epoch 154/200\n",
      "380/380 [==============================] - 48s 127ms/step - loss: 0.0070 - accuracy: 0.9989 - val_loss: 12.4430 - val_accuracy: 0.0054\n",
      "Epoch 155/200\n",
      "380/380 [==============================] - 48s 127ms/step - loss: 0.0071 - accuracy: 0.9989 - val_loss: 12.4390 - val_accuracy: 0.0064\n",
      "Epoch 156/200\n",
      "380/380 [==============================] - 48s 127ms/step - loss: 0.0066 - accuracy: 0.9989 - val_loss: 12.4281 - val_accuracy: 0.0053\n",
      "Epoch 157/200\n",
      "380/380 [==============================] - 48s 127ms/step - loss: 0.0068 - accuracy: 0.9990 - val_loss: 12.4147 - val_accuracy: 0.0065\n",
      "Epoch 158/200\n",
      "380/380 [==============================] - 50s 132ms/step - loss: 0.0069 - accuracy: 0.9988 - val_loss: 12.3994 - val_accuracy: 0.0050\n",
      "Epoch 159/200\n",
      "380/380 [==============================] - 48s 127ms/step - loss: 0.0064 - accuracy: 0.9990 - val_loss: 12.4332 - val_accuracy: 0.0050\n",
      "Epoch 160/200\n",
      "380/380 [==============================] - 48s 127ms/step - loss: 0.0066 - accuracy: 0.9990 - val_loss: 12.4153 - val_accuracy: 0.0053\n",
      "Epoch 161/200\n",
      "380/380 [==============================] - 48s 127ms/step - loss: 0.0065 - accuracy: 0.9989 - val_loss: 12.4272 - val_accuracy: 0.0054\n",
      "Epoch 162/200\n",
      "380/380 [==============================] - 48s 127ms/step - loss: 0.0065 - accuracy: 0.9990 - val_loss: 12.3830 - val_accuracy: 0.0053\n",
      "Epoch 163/200\n",
      "380/380 [==============================] - 48s 127ms/step - loss: 0.0062 - accuracy: 0.9991 - val_loss: 12.3528 - val_accuracy: 0.0052\n",
      "Epoch 164/200\n",
      "380/380 [==============================] - 48s 127ms/step - loss: 0.0069 - accuracy: 0.9989 - val_loss: 12.3957 - val_accuracy: 0.0055\n",
      "Epoch 165/200\n",
      "380/380 [==============================] - 48s 127ms/step - loss: 0.0056 - accuracy: 0.9991 - val_loss: 12.3983 - val_accuracy: 0.0049\n",
      "Epoch 166/200\n"
     ]
    },
    {
     "name": "stdout",
     "output_type": "stream",
     "text": [
      "380/380 [==============================] - 48s 127ms/step - loss: 0.0061 - accuracy: 0.9990 - val_loss: 12.4289 - val_accuracy: 0.0063\n",
      "Epoch 167/200\n",
      "380/380 [==============================] - 50s 131ms/step - loss: 0.0058 - accuracy: 0.9990 - val_loss: 12.4435 - val_accuracy: 0.0054\n",
      "Epoch 168/200\n",
      "380/380 [==============================] - 50s 132ms/step - loss: 0.0062 - accuracy: 0.9990 - val_loss: 12.4593 - val_accuracy: 0.0053\n",
      "Epoch 169/200\n",
      "380/380 [==============================] - 48s 127ms/step - loss: 0.0051 - accuracy: 0.9992 - val_loss: 12.4045 - val_accuracy: 0.0056\n",
      "Epoch 170/200\n",
      "380/380 [==============================] - 48s 127ms/step - loss: 0.0061 - accuracy: 0.9990 - val_loss: 12.4057 - val_accuracy: 0.0049\n",
      "Epoch 171/200\n",
      "380/380 [==============================] - 48s 127ms/step - loss: 0.0073 - accuracy: 0.9989 - val_loss: 12.4706 - val_accuracy: 0.0052\n",
      "Epoch 172/200\n",
      "380/380 [==============================] - 48s 127ms/step - loss: 0.0061 - accuracy: 0.9990 - val_loss: 12.4564 - val_accuracy: 0.0051\n",
      "Epoch 173/200\n",
      "380/380 [==============================] - 48s 127ms/step - loss: 0.0064 - accuracy: 0.9990 - val_loss: 12.4649 - val_accuracy: 0.0049\n",
      "Epoch 174/200\n",
      "380/380 [==============================] - 48s 127ms/step - loss: 0.0066 - accuracy: 0.9989 - val_loss: 12.4852 - val_accuracy: 0.0049\n",
      "Epoch 175/200\n",
      "380/380 [==============================] - 48s 127ms/step - loss: 0.0058 - accuracy: 0.9990 - val_loss: 12.4786 - val_accuracy: 0.0047\n",
      "Epoch 176/200\n",
      "380/380 [==============================] - 50s 130ms/step - loss: 0.0058 - accuracy: 0.9990 - val_loss: 12.4766 - val_accuracy: 0.0045\n",
      "Epoch 177/200\n",
      "380/380 [==============================] - 48s 127ms/step - loss: 0.0055 - accuracy: 0.9991 - val_loss: 12.4715 - val_accuracy: 0.0042\n",
      "Epoch 178/200\n",
      "380/380 [==============================] - 48s 127ms/step - loss: 0.0054 - accuracy: 0.9990 - val_loss: 12.4974 - val_accuracy: 0.0037\n",
      "Epoch 179/200\n",
      "380/380 [==============================] - 48s 127ms/step - loss: 0.0068 - accuracy: 0.9989 - val_loss: 12.4871 - val_accuracy: 0.0047\n",
      "Epoch 180/200\n",
      "380/380 [==============================] - 48s 127ms/step - loss: 0.0063 - accuracy: 0.9989 - val_loss: 12.4712 - val_accuracy: 0.0049\n",
      "Epoch 181/200\n",
      "380/380 [==============================] - 48s 127ms/step - loss: 0.0061 - accuracy: 0.9991 - val_loss: 12.5135 - val_accuracy: 0.0042\n",
      "Epoch 182/200\n",
      "380/380 [==============================] - 48s 127ms/step - loss: 0.0065 - accuracy: 0.9989 - val_loss: 12.4859 - val_accuracy: 0.0041\n",
      "Epoch 183/200\n",
      "380/380 [==============================] - 48s 127ms/step - loss: 0.0056 - accuracy: 0.9991 - val_loss: 12.5050 - val_accuracy: 0.0048\n",
      "Epoch 184/200\n",
      "380/380 [==============================] - 50s 131ms/step - loss: 0.0058 - accuracy: 0.9991 - val_loss: 12.4792 - val_accuracy: 0.0049\n",
      "Epoch 185/200\n",
      "380/380 [==============================] - 48s 127ms/step - loss: 0.0057 - accuracy: 0.9989 - val_loss: 12.5101 - val_accuracy: 0.0047\n",
      "Epoch 186/200\n",
      "380/380 [==============================] - 48s 127ms/step - loss: 0.0061 - accuracy: 0.9991 - val_loss: 12.4175 - val_accuracy: 0.0054\n",
      "Epoch 187/200\n",
      "380/380 [==============================] - 48s 127ms/step - loss: 0.0060 - accuracy: 0.9990 - val_loss: 12.4394 - val_accuracy: 0.0051\n",
      "Epoch 188/200\n",
      "380/380 [==============================] - 48s 127ms/step - loss: 0.0057 - accuracy: 0.9991 - val_loss: 12.4232 - val_accuracy: 0.0046\n",
      "Epoch 189/200\n",
      "380/380 [==============================] - 48s 127ms/step - loss: 0.0057 - accuracy: 0.9991 - val_loss: 12.4192 - val_accuracy: 0.0046\n",
      "Epoch 190/200\n",
      "380/380 [==============================] - 48s 127ms/step - loss: 0.0056 - accuracy: 0.9990 - val_loss: 12.4125 - val_accuracy: 0.0042\n",
      "Epoch 191/200\n",
      "380/380 [==============================] - 48s 127ms/step - loss: 0.0063 - accuracy: 0.9990 - val_loss: 12.4229 - val_accuracy: 0.0046\n",
      "Epoch 192/200\n",
      "380/380 [==============================] - 49s 129ms/step - loss: 0.0058 - accuracy: 0.9990 - val_loss: 12.3490 - val_accuracy: 0.0041\n",
      "Epoch 193/200\n",
      "380/380 [==============================] - 49s 128ms/step - loss: 0.0057 - accuracy: 0.9991 - val_loss: 12.3845 - val_accuracy: 0.0038\n",
      "Epoch 194/200\n",
      "380/380 [==============================] - 48s 127ms/step - loss: 0.0062 - accuracy: 0.9990 - val_loss: 12.3571 - val_accuracy: 0.0039\n",
      "Epoch 195/200\n",
      "380/380 [==============================] - 48s 127ms/step - loss: 0.0055 - accuracy: 0.9991 - val_loss: 12.3372 - val_accuracy: 0.0037\n",
      "Epoch 196/200\n",
      "380/380 [==============================] - 48s 127ms/step - loss: 0.0061 - accuracy: 0.9990 - val_loss: 12.3816 - val_accuracy: 0.0038\n",
      "Epoch 197/200\n",
      "380/380 [==============================] - 48s 127ms/step - loss: 0.0062 - accuracy: 0.9990 - val_loss: 12.3882 - val_accuracy: 0.0037\n",
      "Epoch 198/200\n",
      "380/380 [==============================] - 48s 127ms/step - loss: 0.0068 - accuracy: 0.9989 - val_loss: 12.3561 - val_accuracy: 0.0037\n",
      "Epoch 199/200\n",
      "380/380 [==============================] - 48s 127ms/step - loss: 0.0055 - accuracy: 0.9990 - val_loss: 12.3619 - val_accuracy: 0.0036\n",
      "Epoch 200/200\n",
      "380/380 [==============================] - 49s 130ms/step - loss: 0.0057 - accuracy: 0.9991 - val_loss: 12.2862 - val_accuracy: 0.0040\n"
     ]
    }
   ],
   "source": [
    "import kashgari\n",
    "from kashgari.tasks.labeling import BiLSTM_CRF_Model\n",
    "from kashgari.embeddings import BertEmbedding\n",
    "kashgari.config.use_cudnn_cell = True\n",
    "bert_embedding = BertEmbedding(embedding_path, \n",
    "                           sequence_length='auto',\n",
    "                           trainable=True,\n",
    "                           task='kashgari.LABELING', \n",
    "                          )\n",
    "model = BiLSTM_CRF_Model(bert_embedding)\n",
    "history = model.fit(train_x,\n",
    "                    train_y,\n",
    "                    valid_x,\n",
    "                    valid_y,\n",
    "                    epochs=epochs,\n",
    "                    batch_size=batch_size,\n",
    "                   )"
   ]
  },
  {
   "cell_type": "code",
   "execution_count": 19,
   "metadata": {},
   "outputs": [
    {
     "name": "stderr",
     "output_type": "stream",
     "text": [
      "2020-12-13 23:20:26,899 [DEBUG] kashgari - predict seq_length: None, input: (2, 15233, 65)\n"
     ]
    },
    {
     "name": "stdout",
     "output_type": "stream",
     "text": [
      "477/477 [==============================] - 40s 84ms/step\n"
     ]
    },
    {
     "name": "stderr",
     "output_type": "stream",
     "text": [
      "2020-12-13 23:21:07,267 [DEBUG] kashgari - predict output: (15233, 65)\n",
      "2020-12-13 23:21:07,268 [DEBUG] kashgari - predict output argmax: [[0 1 1 ... 1 1 1]\n",
      " [0 1 1 ... 1 1 1]\n",
      " [0 1 1 ... 1 1 1]\n",
      " ...\n",
      " [0 1 1 ... 1 1 1]\n",
      " [0 1 1 ... 1 1 1]\n",
      " [0 1 1 ... 1 1 1]]\n"
     ]
    },
    {
     "name": "stdout",
     "output_type": "stream",
     "text": [
      "\n",
      "                precision    recall  f1-score   support\n",
      "\n",
      "          time     0.8462    0.8144    0.8299       878\n",
      "      med_exam     0.9254    0.9254    0.9254       134\n",
      "          name     0.9500    0.8636    0.9048        88\n",
      "      location     0.9425    0.8039    0.8677       102\n",
      "       contact     0.8667    0.7222    0.7879        18\n",
      "         money     0.9756    0.9302    0.9524        43\n",
      "    profession     0.8750    0.4118    0.5600        17\n",
      "            ID     0.7500    0.3333    0.4615         9\n",
      "        family     1.0000    0.4545    0.6250        11\n",
      "  organization     1.0000    0.5000    0.6667         2\n",
      "        others     0.0000    0.0000    0.0000         1\n",
      "clinical_event     0.0000    0.0000    0.0000         1\n",
      "     education     0.5000    0.5000    0.5000         2\n",
      "\n",
      "     micro avg     0.8732    0.8170    0.8441      1306\n",
      "     macro avg     0.8728    0.8170    0.8414      1306\n",
      "\n"
     ]
    },
    {
     "name": "stderr",
     "output_type": "stream",
     "text": [
      "2020-12-13 23:21:17,162 [INFO] kashgari - model saved to /home/Danny/AI-CUP-2020/Danny/kashgari/output/bert-chinese_epoch_200_batch_128\n"
     ]
    },
    {
     "data": {
      "text/plain": [
       "'/home/Danny/AI-CUP-2020/Danny/kashgari/output/bert-chinese_epoch_200_batch_128'"
      ]
     },
     "execution_count": 19,
     "metadata": {},
     "output_type": "execute_result"
    }
   ],
   "source": [
    "model.evaluate(test_x, test_y)\n",
    "model_path = 'model/{}_epoch_{}_batch_{}'.format(model_name, epochs, batch_size)\n",
    "model.save(model_path)"
   ]
  },
  {
   "cell_type": "code",
   "execution_count": 20,
   "metadata": {},
   "outputs": [
    {
     "data": {
      "image/png": "[encoded data removed]",
      "text/plain": [
       "<Figure size 432x288 with 1 Axes>"
      ]
     },
     "metadata": {
      "needs_background": "light"
     },
     "output_type": "display_data"
    }
   ],
   "source": [
    "plt.plot(history.history['accuracy'])\n",
    "plt.plot(history.history['val_accuracy'])\n",
    "plt.plot(history.history['loss'])\n",
    "plt.plot(history.history['val_loss'])\n",
    "plt.title('model accuracy')\n",
    "plt.ylabel('accuracy')\n",
    "plt.xlabel('epoch')\n",
    "plt.legend(['accuracy', 'val_accuracy', 'loss', 'val_loss'])\n",
    "plt.show()"
   ]
  },
  {
   "cell_type": "code",
   "execution_count": 21,
   "metadata": {},
   "outputs": [],
   "source": [
    "# 需要儲存article_id, 轉成dataframe\n",
    "def predicting_txt_to_dataframe(path):    \n",
    "    with open(path, 'r') as f:\n",
    "        txt = str(f.read())\n",
    "        txt_list = txt.split('\\n')\n",
    "    row_list = list()\n",
    "    tmp_list = list()\n",
    "    for row in txt_list:\n",
    "        if row == '--------------------':\n",
    "            tmp_list[0] = tmp_list[0].replace('article_id:', '')\n",
    "            tmp_list[0] = int(tmp_list[0])\n",
    "            row_list.append(tmp_list)\n",
    "            tmp_list = list()\n",
    "            continue\n",
    "        if len(row) > 0:\n",
    "            tmp_list.append(row)\n",
    "    df = pd.DataFrame(row_list, columns=['article_id','text'])\n",
    "    return df"
   ]
  },
  {
   "cell_type": "code",
   "execution_count": 22,
   "metadata": {},
   "outputs": [],
   "source": [
    "def predict_NER(text):\n",
    "    x_list = list()    \n",
    "    text_list = re.split('\\uff0c|\\u3002|\\uff1f', text)\n",
    "    for article in text_list:\n",
    "        x_list.append([i for i in article])\n",
    "    y_list_list = model.predict(x_list)\n",
    "    y_list = list()\n",
    "    for sentence in y_list_list:\n",
    "        for word in sentence:\n",
    "            y_list.append(word)\n",
    "        y_list.append('O') # append(，。？)\n",
    "    y_list = y_list[:-1]\n",
    "    return y_list"
   ]
  },
  {
   "cell_type": "code",
   "execution_count": 23,
   "metadata": {},
   "outputs": [],
   "source": [
    "def output_NER(article_id, text, y_list):\n",
    "    output_str = str()\n",
    "    flag = False\n",
    "    for i, j in enumerate(y_list):\n",
    "        if j != 'O':\n",
    "            if j[0] == 'B':\n",
    "                start_position = i\n",
    "                entity_type = j.split('-')[-1]\n",
    "                flag = True\n",
    "        elif j == 'O' and flag == True:\n",
    "            end_position = i\n",
    "            flag = False\n",
    "            entity_text = text[start_position: end_position]\n",
    "            entity = '{}\\t{}\\t{}\\t{}\\t{}\\n'.format(article_id, start_position, end_position, entity_text, entity_type)  \n",
    "            output_str += entity\n",
    "    return output_str"
   ]
  },
  {
   "cell_type": "code",
   "execution_count": 24,
   "metadata": {},
   "outputs": [
    {
     "name": "stderr",
     "output_type": "stream",
     "text": [
      "2020-12-13 23:21:17,288 [DEBUG] kashgari - predict seq_length: None, input: (2, 368, 29)\n"
     ]
    },
    {
     "name": "stdout",
     "output_type": "stream",
     "text": [
      "12/12 [==============================] - 0s 41ms/step\n"
     ]
    },
    {
     "name": "stderr",
     "output_type": "stream",
     "text": [
      "2020-12-13 23:21:17,856 [DEBUG] kashgari - predict output: (368, 29)\n",
      "2020-12-13 23:21:17,857 [DEBUG] kashgari - predict output argmax: [[0 1 1 ... 1 1 1]\n",
      " [0 1 1 ... 1 1 1]\n",
      " [0 1 1 ... 1 1 1]\n",
      " ...\n",
      " [0 1 1 ... 1 1 1]\n",
      " [0 1 1 ... 1 1 1]\n",
      " [0 0 0 ... 0 0 0]]\n",
      "2020-12-13 23:21:17,859 [DEBUG] kashgari - predict seq_length: None, input: (2, 78, 33)\n"
     ]
    },
    {
     "name": "stdout",
     "output_type": "stream",
     "text": [
      "3/3 [==============================] - 0s 28ms/step\n"
     ]
    },
    {
     "name": "stderr",
     "output_type": "stream",
     "text": [
      "2020-12-13 23:21:18,012 [DEBUG] kashgari - predict output: (78, 33)\n",
      "2020-12-13 23:21:18,013 [DEBUG] kashgari - predict output argmax: [[0 1 1 ... 1 1 1]\n",
      " [0 1 1 ... 1 1 1]\n",
      " [0 1 1 ... 1 1 1]\n",
      " ...\n",
      " [0 1 0 ... 1 1 1]\n",
      " [0 1 1 ... 1 1 1]\n",
      " [0 1 1 ... 1 1 1]]\n",
      "2020-12-13 23:21:18,015 [DEBUG] kashgari - predict seq_length: None, input: (2, 159, 29)\n"
     ]
    },
    {
     "name": "stdout",
     "output_type": "stream",
     "text": [
      "5/5 [==============================] - 0s 35ms/step\n"
     ]
    },
    {
     "name": "stderr",
     "output_type": "stream",
     "text": [
      "2020-12-13 23:21:18,253 [DEBUG] kashgari - predict output: (159, 29)\n",
      "2020-12-13 23:21:18,254 [DEBUG] kashgari - predict output argmax: [[0 1 1 ... 1 1 1]\n",
      " [0 1 1 ... 1 1 1]\n",
      " [0 1 1 ... 1 1 1]\n",
      " ...\n",
      " [0 1 1 ... 1 1 1]\n",
      " [0 1 1 ... 1 1 1]\n",
      " [0 0 0 ... 0 0 0]]\n",
      "2020-12-13 23:21:18,258 [DEBUG] kashgari - predict seq_length: None, input: (2, 329, 28)\n"
     ]
    },
    {
     "name": "stdout",
     "output_type": "stream",
     "text": [
      "11/11 [==============================] - 0s 38ms/step\n"
     ]
    },
    {
     "name": "stderr",
     "output_type": "stream",
     "text": [
      "2020-12-13 23:21:18,745 [DEBUG] kashgari - predict output: (329, 28)\n",
      "2020-12-13 23:21:18,746 [DEBUG] kashgari - predict output argmax: [[0 1 1 ... 1 1 1]\n",
      " [0 1 1 ... 1 1 1]\n",
      " [0 1 1 ... 1 1 1]\n",
      " ...\n",
      " [0 1 1 ... 1 1 1]\n",
      " [0 1 1 ... 1 1 1]\n",
      " [0 0 0 ... 0 0 0]]\n",
      "2020-12-13 23:21:18,748 [DEBUG] kashgari - predict seq_length: None, input: (2, 227, 29)\n"
     ]
    },
    {
     "name": "stdout",
     "output_type": "stream",
     "text": [
      "8/8 [==============================] - 0s 36ms/step\n"
     ]
    },
    {
     "name": "stderr",
     "output_type": "stream",
     "text": [
      "2020-12-13 23:21:19,104 [DEBUG] kashgari - predict output: (227, 29)\n",
      "2020-12-13 23:21:19,105 [DEBUG] kashgari - predict output argmax: [[0 1 1 ... 2 2 2]\n",
      " [0 1 1 ... 1 1 1]\n",
      " [0 3 2 ... 2 2 2]\n",
      " ...\n",
      " [0 1 1 ... 1 1 1]\n",
      " [0 1 1 ... 1 1 1]\n",
      " [0 0 0 ... 0 0 0]]\n",
      "2020-12-13 23:21:19,109 [DEBUG] kashgari - predict seq_length: None, input: (2, 295, 26)\n"
     ]
    },
    {
     "name": "stdout",
     "output_type": "stream",
     "text": [
      "10/10 [==============================] - 0s 36ms/step\n"
     ]
    },
    {
     "name": "stderr",
     "output_type": "stream",
     "text": [
      "2020-12-13 23:21:19,533 [DEBUG] kashgari - predict output: (295, 26)\n",
      "2020-12-13 23:21:19,534 [DEBUG] kashgari - predict output argmax: [[0 1 1 ... 1 1 1]\n",
      " [0 1 1 ... 1 1 1]\n",
      " [0 1 1 ... 0 1 1]\n",
      " ...\n",
      " [0 1 1 ... 1 1 1]\n",
      " [0 1 1 ... 1 1 1]\n",
      " [0 0 0 ... 0 0 0]]\n",
      "2020-12-13 23:21:19,537 [DEBUG] kashgari - predict seq_length: None, input: (2, 183, 25)\n"
     ]
    },
    {
     "name": "stdout",
     "output_type": "stream",
     "text": [
      "6/6 [==============================] - 0s 33ms/step\n"
     ]
    },
    {
     "name": "stderr",
     "output_type": "stream",
     "text": [
      "2020-12-13 23:21:19,798 [DEBUG] kashgari - predict output: (183, 25)\n",
      "2020-12-13 23:21:19,799 [DEBUG] kashgari - predict output argmax: [[0 1 1 ... 1 1 1]\n",
      " [0 1 1 ... 1 1 1]\n",
      " [0 1 1 ... 1 1 1]\n",
      " ...\n",
      " [0 1 9 ... 1 1 1]\n",
      " [0 1 1 ... 1 1 1]\n",
      " [0 0 0 ... 0 0 0]]\n",
      "2020-12-13 23:21:19,801 [DEBUG] kashgari - predict seq_length: None, input: (2, 126, 19)\n"
     ]
    },
    {
     "name": "stdout",
     "output_type": "stream",
     "text": [
      "4/4 [==============================] - 0s 26ms/step\n"
     ]
    },
    {
     "name": "stderr",
     "output_type": "stream",
     "text": [
      "2020-12-13 23:21:19,964 [DEBUG] kashgari - predict output: (126, 19)\n",
      "2020-12-13 23:21:19,964 [DEBUG] kashgari - predict output argmax: [[0 1 1 ... 1 0 1]\n",
      " [0 1 1 ... 1 1 1]\n",
      " [0 1 1 ... 1 1 1]\n",
      " ...\n",
      " [0 1 1 ... 1 1 1]\n",
      " [0 1 1 ... 1 1 1]\n",
      " [0 0 0 ... 0 0 0]]\n",
      "2020-12-13 23:21:19,967 [DEBUG] kashgari - predict seq_length: None, input: (2, 117, 23)\n"
     ]
    },
    {
     "name": "stdout",
     "output_type": "stream",
     "text": [
      "4/4 [==============================] - 0s 28ms/step\n"
     ]
    },
    {
     "name": "stderr",
     "output_type": "stream",
     "text": [
      "2020-12-13 23:21:20,139 [DEBUG] kashgari - predict output: (117, 23)\n",
      "2020-12-13 23:21:20,140 [DEBUG] kashgari - predict output argmax: [[0 1 1 ... 1 1 1]\n",
      " [0 1 1 ... 1 1 1]\n",
      " [0 1 1 ... 1 1 1]\n",
      " ...\n",
      " [0 1 1 ... 1 1 1]\n",
      " [0 1 1 ... 1 1 1]\n",
      " [0 0 0 ... 0 0 0]]\n",
      "2020-12-13 23:21:20,142 [DEBUG] kashgari - predict seq_length: None, input: (2, 91, 22)\n"
     ]
    },
    {
     "name": "stdout",
     "output_type": "stream",
     "text": [
      "3/3 [==============================] - 0s 26ms/step\n"
     ]
    },
    {
     "name": "stderr",
     "output_type": "stream",
     "text": [
      "2020-12-13 23:21:20,286 [DEBUG] kashgari - predict output: (91, 22)\n",
      "2020-12-13 23:21:20,287 [DEBUG] kashgari - predict output argmax: [[0 1 1 ... 1 1 1]\n",
      " [0 1 1 ... 1 1 1]\n",
      " [0 1 1 ... 1 1 1]\n",
      " ...\n",
      " [0 1 1 ... 1 1 1]\n",
      " [0 1 1 ... 1 1 1]\n",
      " [0 0 0 ... 0 0 0]]\n",
      "2020-12-13 23:21:20,289 [DEBUG] kashgari - predict seq_length: None, input: (2, 63, 25)\n"
     ]
    },
    {
     "name": "stdout",
     "output_type": "stream",
     "text": [
      "2/2 [==============================] - 0s 21ms/step\n"
     ]
    },
    {
     "name": "stderr",
     "output_type": "stream",
     "text": [
      "2020-12-13 23:21:20,391 [DEBUG] kashgari - predict output: (63, 25)\n",
      "2020-12-13 23:21:20,392 [DEBUG] kashgari - predict output argmax: [[0 1 1 ... 1 1 1]\n",
      " [0 1 1 ... 1 1 1]\n",
      " [0 1 1 ... 1 1 1]\n",
      " ...\n",
      " [0 1 1 ... 1 1 1]\n",
      " [0 1 1 ... 1 1 1]\n",
      " [0 0 0 ... 0 0 0]]\n",
      "2020-12-13 23:21:20,395 [DEBUG] kashgari - predict seq_length: None, input: (2, 259, 32)\n"
     ]
    },
    {
     "name": "stdout",
     "output_type": "stream",
     "text": [
      "9/9 [==============================] - 0s 39ms/step\n"
     ]
    },
    {
     "name": "stderr",
     "output_type": "stream",
     "text": [
      "2020-12-13 23:21:20,823 [DEBUG] kashgari - predict output: (259, 32)\n",
      "2020-12-13 23:21:20,823 [DEBUG] kashgari - predict output argmax: [[0 1 1 ... 4 4 4]\n",
      " [0 1 1 ... 1 1 1]\n",
      " [0 7 4 ... 1 1 1]\n",
      " ...\n",
      " [0 1 1 ... 1 1 1]\n",
      " [0 1 1 ... 1 1 1]\n",
      " [0 0 0 ... 0 0 0]]\n",
      "2020-12-13 23:21:20,825 [DEBUG] kashgari - predict seq_length: None, input: (2, 109, 20)\n"
     ]
    },
    {
     "name": "stdout",
     "output_type": "stream",
     "text": [
      "4/4 [==============================] - 0s 25ms/step\n"
     ]
    },
    {
     "name": "stderr",
     "output_type": "stream",
     "text": [
      "2020-12-13 23:21:20,980 [DEBUG] kashgari - predict output: (109, 20)\n",
      "2020-12-13 23:21:20,981 [DEBUG] kashgari - predict output argmax: [[0 1 1 ... 1 0 1]\n",
      " [0 1 1 ... 1 1 1]\n",
      " [0 1 1 ... 1 1 1]\n",
      " ...\n",
      " [0 1 1 ... 1 1 1]\n",
      " [0 1 1 ... 1 1 1]\n",
      " [0 0 0 ... 0 0 0]]\n",
      "2020-12-13 23:21:20,983 [DEBUG] kashgari - predict seq_length: None, input: (2, 122, 22)\n"
     ]
    },
    {
     "name": "stdout",
     "output_type": "stream",
     "text": [
      "4/4 [==============================] - 0s 27ms/step\n"
     ]
    },
    {
     "name": "stderr",
     "output_type": "stream",
     "text": [
      "2020-12-13 23:21:21,149 [DEBUG] kashgari - predict output: (122, 22)\n",
      "2020-12-13 23:21:21,150 [DEBUG] kashgari - predict output argmax: [[0 1 1 ... 1 1 1]\n",
      " [0 1 1 ... 1 1 1]\n",
      " [0 1 1 ... 1 1 1]\n",
      " ...\n",
      " [0 1 1 ... 1 1 1]\n",
      " [0 1 1 ... 1 1 1]\n",
      " [0 0 0 ... 0 0 0]]\n",
      "2020-12-13 23:21:21,153 [DEBUG] kashgari - predict seq_length: None, input: (2, 158, 40)\n"
     ]
    },
    {
     "name": "stdout",
     "output_type": "stream",
     "text": [
      "5/5 [==============================] - 0s 44ms/step\n"
     ]
    },
    {
     "name": "stderr",
     "output_type": "stream",
     "text": [
      "2020-12-13 23:21:21,452 [DEBUG] kashgari - predict output: (158, 40)\n",
      "2020-12-13 23:21:21,453 [DEBUG] kashgari - predict output argmax: [[0 1 1 ... 1 1 1]\n",
      " [0 1 1 ... 1 1 1]\n",
      " [0 1 1 ... 1 1 1]\n",
      " ...\n",
      " [0 1 1 ... 1 1 1]\n",
      " [0 1 1 ... 1 1 1]\n",
      " [0 1 1 ... 2 2 2]]\n",
      "2020-12-13 23:21:21,455 [DEBUG] kashgari - predict seq_length: None, input: (2, 218, 34)\n"
     ]
    },
    {
     "name": "stdout",
     "output_type": "stream",
     "text": [
      "7/7 [==============================] - 0s 41ms/step\n"
     ]
    },
    {
     "name": "stderr",
     "output_type": "stream",
     "text": [
      "2020-12-13 23:21:21,819 [DEBUG] kashgari - predict output: (218, 34)\n",
      "2020-12-13 23:21:21,819 [DEBUG] kashgari - predict output argmax: [[0 1 1 ... 1 1 1]\n",
      " [0 1 1 ... 1 1 1]\n",
      " [0 1 1 ... 1 1 1]\n",
      " ...\n",
      " [0 1 1 ... 1 1 1]\n",
      " [0 1 1 ... 1 1 1]\n",
      " [0 0 0 ... 0 0 0]]\n",
      "2020-12-13 23:21:21,821 [DEBUG] kashgari - predict seq_length: None, input: (2, 103, 16)\n"
     ]
    },
    {
     "name": "stdout",
     "output_type": "stream",
     "text": [
      "4/4 [==============================] - 0s 22ms/step\n"
     ]
    },
    {
     "name": "stderr",
     "output_type": "stream",
     "text": [
      "2020-12-13 23:21:21,961 [DEBUG] kashgari - predict output: (103, 16)\n",
      "2020-12-13 23:21:21,962 [DEBUG] kashgari - predict output argmax: [[0 1 1 ... 1 1 1]\n",
      " [0 1 1 ... 1 1 1]\n",
      " [0 1 1 ... 1 1 1]\n",
      " ...\n",
      " [0 1 1 ... 1 1 1]\n",
      " [0 1 1 ... 5 5 5]\n",
      " [0 1 1 ... 1 1 1]]\n",
      "2020-12-13 23:21:21,967 [DEBUG] kashgari - predict seq_length: None, input: (2, 310, 40)\n"
     ]
    },
    {
     "name": "stdout",
     "output_type": "stream",
     "text": [
      "10/10 [==============================] - 0s 48ms/step\n"
     ]
    },
    {
     "name": "stderr",
     "output_type": "stream",
     "text": [
      "2020-12-13 23:21:22,529 [DEBUG] kashgari - predict output: (310, 40)\n",
      "2020-12-13 23:21:22,530 [DEBUG] kashgari - predict output argmax: [[0 1 1 ... 1 1 1]\n",
      " [0 1 1 ... 1 1 1]\n",
      " [0 1 1 ... 1 1 1]\n",
      " ...\n",
      " [0 1 1 ... 1 1 1]\n",
      " [0 1 1 ... 1 1 1]\n",
      " [0 0 0 ... 0 0 0]]\n",
      "2020-12-13 23:21:22,532 [DEBUG] kashgari - predict seq_length: None, input: (2, 73, 22)\n"
     ]
    },
    {
     "name": "stdout",
     "output_type": "stream",
     "text": [
      "3/3 [==============================] - 0s 22ms/step\n"
     ]
    },
    {
     "name": "stderr",
     "output_type": "stream",
     "text": [
      "2020-12-13 23:21:22,656 [DEBUG] kashgari - predict output: (73, 22)\n",
      "2020-12-13 23:21:22,657 [DEBUG] kashgari - predict output argmax: [[0 1 1 ... 1 1 1]\n",
      " [0 1 1 ... 1 1 1]\n",
      " [0 3 2 ... 1 1 1]\n",
      " ...\n",
      " [0 1 1 ... 1 1 1]\n",
      " [0 1 1 ... 1 1 1]\n",
      " [0 0 0 ... 0 0 0]]\n",
      "2020-12-13 23:21:22,664 [DEBUG] kashgari - predict seq_length: None, input: (2, 624, 50)\n"
     ]
    },
    {
     "name": "stdout",
     "output_type": "stream",
     "text": [
      "20/20 [==============================] - 1s 62ms/step\n"
     ]
    },
    {
     "name": "stderr",
     "output_type": "stream",
     "text": [
      "2020-12-13 23:21:24,016 [DEBUG] kashgari - predict output: (624, 50)\n",
      "2020-12-13 23:21:24,017 [DEBUG] kashgari - predict output argmax: [[0 1 1 ... 1 1 1]\n",
      " [0 1 1 ... 1 1 1]\n",
      " [0 1 1 ... 1 1 1]\n",
      " ...\n",
      " [0 1 1 ... 1 1 1]\n",
      " [0 1 1 ... 1 1 1]\n",
      " [0 0 0 ... 0 0 0]]\n",
      "2020-12-13 23:21:24,022 [DEBUG] kashgari - predict seq_length: None, input: (2, 445, 35)\n"
     ]
    },
    {
     "name": "stdout",
     "output_type": "stream",
     "text": [
      "14/14 [==============================] - 1s 47ms/step\n"
     ]
    },
    {
     "name": "stderr",
     "output_type": "stream",
     "text": [
      "2020-12-13 23:21:24,753 [DEBUG] kashgari - predict output: (445, 35)\n",
      "2020-12-13 23:21:24,753 [DEBUG] kashgari - predict output argmax: [[0 1 1 ... 1 1 1]\n",
      " [0 1 1 ... 1 1 1]\n",
      " [0 1 1 ... 1 1 1]\n",
      " ...\n",
      " [0 1 1 ... 1 1 1]\n",
      " [0 1 3 ... 2 2 2]\n",
      " [0 0 0 ... 0 0 0]]\n",
      "2020-12-13 23:21:24,758 [DEBUG] kashgari - predict seq_length: None, input: (2, 357, 34)\n"
     ]
    },
    {
     "name": "stdout",
     "output_type": "stream",
     "text": [
      "12/12 [==============================] - 1s 44ms/step\n"
     ]
    },
    {
     "name": "stderr",
     "output_type": "stream",
     "text": [
      "2020-12-13 23:21:25,358 [DEBUG] kashgari - predict output: (357, 34)\n",
      "2020-12-13 23:21:25,358 [DEBUG] kashgari - predict output argmax: [[0 1 1 ... 1 1 1]\n",
      " [0 1 1 ... 1 1 1]\n",
      " [0 1 1 ... 1 1 1]\n",
      " ...\n",
      " [0 1 1 ... 1 1 1]\n",
      " [0 1 1 ... 1 1 1]\n",
      " [0 0 0 ... 0 0 0]]\n",
      "2020-12-13 23:21:25,362 [DEBUG] kashgari - predict seq_length: None, input: (2, 328, 49)\n"
     ]
    },
    {
     "name": "stdout",
     "output_type": "stream",
     "text": [
      "11/11 [==============================] - 1s 58ms/step\n"
     ]
    },
    {
     "name": "stderr",
     "output_type": "stream",
     "text": [
      "2020-12-13 23:21:26,103 [DEBUG] kashgari - predict output: (328, 49)\n",
      "2020-12-13 23:21:26,104 [DEBUG] kashgari - predict output argmax: [[0 1 1 ... 1 1 1]\n",
      " [0 1 1 ... 1 1 1]\n",
      " [0 1 1 ... 1 1 1]\n",
      " ...\n",
      " [0 1 1 ... 1 1 1]\n",
      " [0 1 1 ... 1 1 1]\n",
      " [0 0 0 ... 0 0 0]]\n",
      "2020-12-13 23:21:26,107 [DEBUG] kashgari - predict seq_length: None, input: (2, 133, 59)\n"
     ]
    },
    {
     "name": "stdout",
     "output_type": "stream",
     "text": [
      "5/5 [==============================] - 0s 54ms/step\n"
     ]
    },
    {
     "name": "stderr",
     "output_type": "stream",
     "text": [
      "2020-12-13 23:21:26,475 [DEBUG] kashgari - predict output: (133, 59)\n",
      "2020-12-13 23:21:26,476 [DEBUG] kashgari - predict output argmax: [[0 1 1 ... 1 1 1]\n",
      " [0 1 1 ... 1 1 1]\n",
      " [0 1 1 ... 1 1 1]\n",
      " ...\n",
      " [0 1 1 ... 1 1 1]\n",
      " [0 1 1 ... 1 1 1]\n",
      " [0 0 0 ... 0 0 0]]\n",
      "2020-12-13 23:21:26,478 [DEBUG] kashgari - predict seq_length: None, input: (2, 129, 23)\n"
     ]
    },
    {
     "name": "stdout",
     "output_type": "stream",
     "text": [
      "5/5 [==============================] - 0s 28ms/step\n"
     ]
    },
    {
     "name": "stderr",
     "output_type": "stream",
     "text": [
      "2020-12-13 23:21:26,687 [DEBUG] kashgari - predict output: (129, 23)\n",
      "2020-12-13 23:21:26,687 [DEBUG] kashgari - predict output argmax: [[0 1 1 ... 1 1 1]\n",
      " [0 1 1 ... 1 1 1]\n",
      " [0 1 1 ... 1 1 1]\n",
      " ...\n",
      " [0 1 0 ... 1 1 1]\n",
      " [0 1 1 ... 1 1 1]\n",
      " [0 0 0 ... 0 0 0]]\n",
      "2020-12-13 23:21:26,690 [DEBUG] kashgari - predict seq_length: None, input: (2, 131, 30)\n"
     ]
    },
    {
     "name": "stdout",
     "output_type": "stream",
     "text": [
      "5/5 [==============================] - 0s 33ms/step\n"
     ]
    },
    {
     "name": "stderr",
     "output_type": "stream",
     "text": [
      "2020-12-13 23:21:26,921 [DEBUG] kashgari - predict output: (131, 30)\n",
      "2020-12-13 23:21:26,922 [DEBUG] kashgari - predict output argmax: [[0 1 1 ... 1 1 1]\n",
      " [0 3 2 ... 1 1 1]\n",
      " [0 1 1 ... 1 1 1]\n",
      " ...\n",
      " [0 1 1 ... 1 1 1]\n",
      " [0 1 1 ... 1 1 1]\n",
      " [0 0 0 ... 0 0 0]]\n",
      "2020-12-13 23:21:26,926 [DEBUG] kashgari - predict seq_length: None, input: (2, 234, 34)\n"
     ]
    },
    {
     "name": "stdout",
     "output_type": "stream",
     "text": [
      "8/8 [==============================] - 0s 41ms/step\n"
     ]
    },
    {
     "name": "stderr",
     "output_type": "stream",
     "text": [
      "2020-12-13 23:21:27,325 [DEBUG] kashgari - predict output: (234, 34)\n",
      "2020-12-13 23:21:27,326 [DEBUG] kashgari - predict output argmax: [[0 1 1 ... 2 2 2]\n",
      " [0 1 1 ... 1 1 1]\n",
      " [0 1 1 ... 1 1 1]\n",
      " ...\n",
      " [0 1 1 ... 1 1 1]\n",
      " [0 1 1 ... 1 1 1]\n",
      " [0 0 0 ... 0 0 0]]\n",
      "2020-12-13 23:21:27,328 [DEBUG] kashgari - predict seq_length: None, input: (2, 79, 33)\n"
     ]
    },
    {
     "name": "stdout",
     "output_type": "stream",
     "text": [
      "3/3 [==============================] - 0s 28ms/step\n"
     ]
    },
    {
     "name": "stderr",
     "output_type": "stream",
     "text": [
      "2020-12-13 23:21:27,478 [DEBUG] kashgari - predict output: (79, 33)\n",
      "2020-12-13 23:21:27,479 [DEBUG] kashgari - predict output argmax: [[0 1 1 ... 1 1 1]\n",
      " [0 1 1 ... 1 1 1]\n",
      " [0 1 1 ... 1 1 1]\n",
      " ...\n",
      " [0 1 1 ... 1 1 1]\n",
      " [0 1 1 ... 1 1 1]\n",
      " [0 0 0 ... 0 0 0]]\n",
      "2020-12-13 23:21:27,483 [DEBUG] kashgari - predict seq_length: None, input: (2, 260, 37)\n"
     ]
    },
    {
     "name": "stdout",
     "output_type": "stream",
     "text": [
      "9/9 [==============================] - 0s 44ms/step\n"
     ]
    },
    {
     "name": "stderr",
     "output_type": "stream",
     "text": [
      "2020-12-13 23:21:27,958 [DEBUG] kashgari - predict output: (260, 37)\n",
      "2020-12-13 23:21:27,958 [DEBUG] kashgari - predict output argmax: [[0 1 1 ... 1 1 1]\n",
      " [0 1 1 ... 1 1 1]\n",
      " [0 1 1 ... 1 1 1]\n",
      " ...\n",
      " [0 1 1 ... 1 1 1]\n",
      " [0 1 1 ... 1 1 1]\n",
      " [0 0 0 ... 0 0 0]]\n",
      "2020-12-13 23:21:27,961 [DEBUG] kashgari - predict seq_length: None, input: (2, 255, 35)\n"
     ]
    },
    {
     "name": "stdout",
     "output_type": "stream",
     "text": [
      "8/8 [==============================] - 0s 44ms/step\n"
     ]
    },
    {
     "name": "stderr",
     "output_type": "stream",
     "text": [
      "2020-12-13 23:21:28,387 [DEBUG] kashgari - predict output: (255, 35)\n",
      "2020-12-13 23:21:28,388 [DEBUG] kashgari - predict output argmax: [[0 1 1 ... 1 1 1]\n",
      " [0 1 1 ... 1 1 1]\n",
      " [0 1 1 ... 1 1 1]\n",
      " ...\n",
      " [0 1 1 ... 1 1 1]\n",
      " [0 1 1 ... 1 1 1]\n",
      " [0 0 0 ... 0 0 0]]\n",
      "2020-12-13 23:21:28,390 [DEBUG] kashgari - predict seq_length: None, input: (2, 175, 41)\n"
     ]
    },
    {
     "name": "stdout",
     "output_type": "stream",
     "text": [
      "6/6 [==============================] - 0s 45ms/step\n"
     ]
    },
    {
     "name": "stderr",
     "output_type": "stream",
     "text": [
      "2020-12-13 23:21:28,745 [DEBUG] kashgari - predict output: (175, 41)\n",
      "2020-12-13 23:21:28,745 [DEBUG] kashgari - predict output argmax: [[0 1 1 ... 1 1 1]\n",
      " [0 1 1 ... 1 1 1]\n",
      " [0 1 1 ... 1 1 1]\n",
      " ...\n",
      " [0 1 1 ... 1 1 1]\n",
      " [0 1 1 ... 1 1 1]\n",
      " [0 0 0 ... 0 0 0]]\n",
      "2020-12-13 23:21:28,748 [DEBUG] kashgari - predict seq_length: None, input: (2, 189, 31)\n"
     ]
    },
    {
     "name": "stdout",
     "output_type": "stream",
     "text": [
      "6/6 [==============================] - 0s 38ms/step\n"
     ]
    },
    {
     "name": "stderr",
     "output_type": "stream",
     "text": [
      "2020-12-13 23:21:29,042 [DEBUG] kashgari - predict output: (189, 31)\n",
      "2020-12-13 23:21:29,043 [DEBUG] kashgari - predict output argmax: [[0 1 1 ... 1 1 1]\n",
      " [0 1 1 ... 1 1 1]\n",
      " [0 1 1 ... 1 1 1]\n",
      " ...\n",
      " [0 1 1 ... 1 1 1]\n",
      " [0 1 1 ... 1 1 1]\n",
      " [0 0 0 ... 0 0 0]]\n",
      "2020-12-13 23:21:29,047 [DEBUG] kashgari - predict seq_length: None, input: (2, 292, 31)\n"
     ]
    },
    {
     "name": "stdout",
     "output_type": "stream",
     "text": [
      "10/10 [==============================] - 0s 40ms/step\n"
     ]
    },
    {
     "name": "stderr",
     "output_type": "stream",
     "text": [
      "2020-12-13 23:21:29,512 [DEBUG] kashgari - predict output: (292, 31)\n",
      "2020-12-13 23:21:29,513 [DEBUG] kashgari - predict output argmax: [[0 1 1 ... 1 1 1]\n",
      " [0 1 1 ... 1 1 1]\n",
      " [0 1 1 ... 1 1 1]\n",
      " ...\n",
      " [0 1 1 ... 1 1 1]\n",
      " [0 1 1 ... 1 1 1]\n",
      " [0 0 0 ... 0 0 0]]\n",
      "2020-12-13 23:21:29,516 [DEBUG] kashgari - predict seq_length: None, input: (2, 97, 38)\n"
     ]
    },
    {
     "name": "stdout",
     "output_type": "stream",
     "text": [
      "4/4 [==============================] - 0s 35ms/step\n"
     ]
    },
    {
     "name": "stderr",
     "output_type": "stream",
     "text": [
      "2020-12-13 23:21:29,735 [DEBUG] kashgari - predict output: (97, 38)\n",
      "2020-12-13 23:21:29,736 [DEBUG] kashgari - predict output argmax: [[0 1 1 ... 1 1 1]\n",
      " [0 1 1 ... 2 2 2]\n",
      " [0 1 1 ... 1 1 1]\n",
      " ...\n",
      " [0 1 1 ... 1 1 1]\n",
      " [0 1 1 ... 1 1 1]\n",
      " [0 0 0 ... 0 0 0]]\n",
      "2020-12-13 23:21:29,742 [DEBUG] kashgari - predict seq_length: None, input: (2, 351, 56)\n"
     ]
    },
    {
     "name": "stdout",
     "output_type": "stream",
     "text": [
      "11/11 [==============================] - 1s 67ms/step\n"
     ]
    },
    {
     "name": "stderr",
     "output_type": "stream",
     "text": [
      "2020-12-13 23:21:30,581 [DEBUG] kashgari - predict output: (351, 56)\n",
      "2020-12-13 23:21:30,582 [DEBUG] kashgari - predict output argmax: [[0 1 1 ... 1 1 1]\n",
      " [0 1 1 ... 1 1 1]\n",
      " [0 1 1 ... 1 1 1]\n",
      " ...\n",
      " [0 1 1 ... 1 1 1]\n",
      " [0 1 1 ... 1 1 1]\n",
      " [0 0 0 ... 0 0 0]]\n",
      "2020-12-13 23:21:30,586 [DEBUG] kashgari - predict seq_length: None, input: (2, 297, 46)\n"
     ]
    },
    {
     "name": "stdout",
     "output_type": "stream",
     "text": [
      "10/10 [==============================] - 1s 57ms/step\n"
     ]
    },
    {
     "name": "stderr",
     "output_type": "stream",
     "text": [
      "2020-12-13 23:21:31,251 [DEBUG] kashgari - predict output: (297, 46)\n",
      "2020-12-13 23:21:31,251 [DEBUG] kashgari - predict output argmax: [[0 1 1 ... 1 1 1]\n",
      " [0 1 1 ... 1 1 1]\n",
      " [0 1 1 ... 1 1 1]\n",
      " ...\n",
      " [0 1 1 ... 1 1 1]\n",
      " [0 1 1 ... 1 1 1]\n",
      " [0 0 0 ... 0 0 0]]\n",
      "2020-12-13 23:21:31,254 [DEBUG] kashgari - predict seq_length: None, input: (2, 136, 21)\n"
     ]
    },
    {
     "name": "stdout",
     "output_type": "stream",
     "text": [
      "5/5 [==============================] - 0s 27ms/step\n"
     ]
    },
    {
     "name": "stderr",
     "output_type": "stream",
     "text": [
      "2020-12-13 23:21:31,446 [DEBUG] kashgari - predict output: (136, 21)\n",
      "2020-12-13 23:21:31,447 [DEBUG] kashgari - predict output argmax: [[0 1 1 ... 1 1 1]\n",
      " [0 1 1 ... 1 1 1]\n",
      " [0 1 1 ... 2 2 2]\n",
      " ...\n",
      " [0 1 1 ... 1 1 1]\n",
      " [0 1 1 ... 1 1 1]\n",
      " [0 0 0 ... 0 0 0]]\n",
      "2020-12-13 23:21:31,450 [DEBUG] kashgari - predict seq_length: None, input: (2, 115, 42)\n"
     ]
    },
    {
     "name": "stdout",
     "output_type": "stream",
     "text": [
      "4/4 [==============================] - 0s 40ms/step\n"
     ]
    },
    {
     "name": "stderr",
     "output_type": "stream",
     "text": [
      "2020-12-13 23:21:31,700 [DEBUG] kashgari - predict output: (115, 42)\n",
      "2020-12-13 23:21:31,701 [DEBUG] kashgari - predict output argmax: [[0 1 1 ... 1 1 1]\n",
      " [0 1 1 ... 1 1 1]\n",
      " [0 1 1 ... 1 1 1]\n",
      " ...\n",
      " [0 1 1 ... 1 1 1]\n",
      " [0 1 1 ... 1 1 1]\n",
      " [0 0 0 ... 0 0 0]]\n",
      "2020-12-13 23:21:31,703 [DEBUG] kashgari - predict seq_length: None, input: (2, 89, 23)\n"
     ]
    },
    {
     "name": "stdout",
     "output_type": "stream",
     "text": [
      "3/3 [==============================] - 0s 24ms/step\n"
     ]
    },
    {
     "name": "stderr",
     "output_type": "stream",
     "text": [
      "2020-12-13 23:21:31,839 [DEBUG] kashgari - predict output: (89, 23)\n",
      "2020-12-13 23:21:31,839 [DEBUG] kashgari - predict output argmax: [[0 1 1 ... 1 1 1]\n",
      " [0 1 1 ... 1 1 1]\n",
      " [0 1 1 ... 1 1 1]\n",
      " ...\n",
      " [0 1 1 ... 1 1 1]\n",
      " [0 1 1 ... 1 1 1]\n",
      " [0 0 0 ... 0 0 0]]\n",
      "2020-12-13 23:21:31,843 [DEBUG] kashgari - predict seq_length: None, input: (2, 251, 52)\n"
     ]
    },
    {
     "name": "stdout",
     "output_type": "stream",
     "text": [
      "8/8 [==============================] - 0s 61ms/step\n"
     ]
    },
    {
     "name": "stderr",
     "output_type": "stream",
     "text": [
      "2020-12-13 23:21:32,431 [DEBUG] kashgari - predict output: (251, 52)\n",
      "2020-12-13 23:21:32,431 [DEBUG] kashgari - predict output argmax: [[0 1 1 ... 1 1 1]\n",
      " [0 1 1 ... 1 1 1]\n",
      " [0 1 1 ... 1 1 1]\n",
      " ...\n",
      " [0 1 1 ... 1 1 1]\n",
      " [0 1 1 ... 1 1 1]\n",
      " [0 0 0 ... 0 0 0]]\n",
      "2020-12-13 23:21:32,433 [DEBUG] kashgari - predict seq_length: None, input: (2, 153, 20)\n"
     ]
    },
    {
     "name": "stdout",
     "output_type": "stream",
     "text": [
      "5/5 [==============================] - 0s 28ms/step\n"
     ]
    },
    {
     "name": "stderr",
     "output_type": "stream",
     "text": [
      "2020-12-13 23:21:32,628 [DEBUG] kashgari - predict output: (153, 20)\n",
      "2020-12-13 23:21:32,628 [DEBUG] kashgari - predict output argmax: [[ 0  1  1 ...  1  1  1]\n",
      " [ 0  1  0 ...  1  1  1]\n",
      " [ 0  1  1 ... 22 22 22]\n",
      " ...\n",
      " [ 0  1  1 ...  1  1  1]\n",
      " [ 0  1  1 ...  1  1  1]\n",
      " [ 0  0  0 ...  0  0  0]]\n",
      "2020-12-13 23:21:32,631 [DEBUG] kashgari - predict seq_length: None, input: (2, 169, 47)\n"
     ]
    },
    {
     "name": "stdout",
     "output_type": "stream",
     "text": [
      "6/6 [==============================] - 0s 52ms/step\n"
     ]
    },
    {
     "name": "stderr",
     "output_type": "stream",
     "text": [
      "2020-12-13 23:21:33,033 [DEBUG] kashgari - predict output: (169, 47)\n",
      "2020-12-13 23:21:33,034 [DEBUG] kashgari - predict output argmax: [[0 1 1 ... 1 1 1]\n",
      " [0 1 1 ... 1 1 1]\n",
      " [0 1 1 ... 1 1 1]\n",
      " ...\n",
      " [0 1 1 ... 1 1 1]\n",
      " [0 1 1 ... 1 1 1]\n",
      " [0 0 0 ... 0 0 0]]\n",
      "2020-12-13 23:21:33,038 [DEBUG] kashgari - predict seq_length: None, input: (2, 324, 37)\n"
     ]
    },
    {
     "name": "stdout",
     "output_type": "stream",
     "text": [
      "11/11 [==============================] - 1s 46ms/step\n"
     ]
    },
    {
     "name": "stderr",
     "output_type": "stream",
     "text": [
      "2020-12-13 23:21:33,625 [DEBUG] kashgari - predict output: (324, 37)\n",
      "2020-12-13 23:21:33,626 [DEBUG] kashgari - predict output argmax: [[0 1 1 ... 1 1 1]\n",
      " [0 1 1 ... 1 1 1]\n",
      " [0 1 1 ... 1 1 1]\n",
      " ...\n",
      " [0 1 1 ... 5 5 5]\n",
      " [0 1 1 ... 1 1 1]\n",
      " [0 0 0 ... 0 0 0]]\n",
      "2020-12-13 23:21:33,629 [DEBUG] kashgari - predict seq_length: None, input: (2, 157, 35)\n"
     ]
    },
    {
     "name": "stdout",
     "output_type": "stream",
     "text": [
      "5/5 [==============================] - 0s 40ms/step\n"
     ]
    },
    {
     "name": "stderr",
     "output_type": "stream",
     "text": [
      "2020-12-13 23:21:33,903 [DEBUG] kashgari - predict output: (157, 35)\n",
      "2020-12-13 23:21:33,904 [DEBUG] kashgari - predict output argmax: [[0 1 1 ... 1 1 1]\n",
      " [0 1 1 ... 1 1 1]\n",
      " [0 1 1 ... 1 1 1]\n",
      " ...\n",
      " [0 1 1 ... 1 1 1]\n",
      " [0 1 1 ... 1 1 1]\n",
      " [0 0 0 ... 0 0 0]]\n",
      "2020-12-13 23:21:33,907 [DEBUG] kashgari - predict seq_length: None, input: (2, 191, 27)\n"
     ]
    },
    {
     "name": "stdout",
     "output_type": "stream",
     "text": [
      "6/6 [==============================] - 0s 35ms/step\n"
     ]
    },
    {
     "name": "stderr",
     "output_type": "stream",
     "text": [
      "2020-12-13 23:21:34,181 [DEBUG] kashgari - predict output: (191, 27)\n",
      "2020-12-13 23:21:34,182 [DEBUG] kashgari - predict output argmax: [[0 1 1 ... 1 1 1]\n",
      " [0 1 1 ... 1 1 1]\n",
      " [0 1 1 ... 1 1 1]\n",
      " ...\n",
      " [0 1 1 ... 1 1 1]\n",
      " [0 1 1 ... 1 1 1]\n",
      " [0 0 0 ... 0 0 0]]\n",
      "2020-12-13 23:21:34,184 [DEBUG] kashgari - predict seq_length: None, input: (2, 115, 36)\n"
     ]
    },
    {
     "name": "stdout",
     "output_type": "stream",
     "text": [
      "4/4 [==============================] - 0s 37ms/step\n"
     ]
    },
    {
     "name": "stderr",
     "output_type": "stream",
     "text": [
      "2020-12-13 23:21:34,409 [DEBUG] kashgari - predict output: (115, 36)\n",
      "2020-12-13 23:21:34,410 [DEBUG] kashgari - predict output argmax: [[0 1 1 ... 1 1 1]\n",
      " [0 1 1 ... 1 1 1]\n",
      " [0 1 1 ... 1 1 1]\n",
      " ...\n",
      " [0 1 1 ... 1 1 1]\n",
      " [0 1 1 ... 1 1 1]\n",
      " [0 0 0 ... 0 0 0]]\n",
      "2020-12-13 23:21:34,416 [DEBUG] kashgari - predict seq_length: None, input: (2, 529, 33)\n"
     ]
    },
    {
     "name": "stdout",
     "output_type": "stream",
     "text": [
      "17/17 [==============================] - 1s 45ms/step\n"
     ]
    },
    {
     "name": "stderr",
     "output_type": "stream",
     "text": [
      "2020-12-13 23:21:35,262 [DEBUG] kashgari - predict output: (529, 33)\n",
      "2020-12-13 23:21:35,262 [DEBUG] kashgari - predict output argmax: [[0 1 1 ... 1 1 1]\n",
      " [0 1 1 ... 1 1 1]\n",
      " [0 1 1 ... 1 1 1]\n",
      " ...\n",
      " [0 1 1 ... 1 1 1]\n",
      " [0 1 1 ... 1 1 1]\n",
      " [0 0 0 ... 0 0 0]]\n",
      "2020-12-13 23:21:35,265 [DEBUG] kashgari - predict seq_length: None, input: (2, 217, 32)\n"
     ]
    },
    {
     "name": "stdout",
     "output_type": "stream",
     "text": [
      "7/7 [==============================] - 0s 40ms/step\n"
     ]
    },
    {
     "name": "stderr",
     "output_type": "stream",
     "text": [
      "2020-12-13 23:21:35,617 [DEBUG] kashgari - predict output: (217, 32)\n",
      "2020-12-13 23:21:35,618 [DEBUG] kashgari - predict output argmax: [[0 1 1 ... 1 1 1]\n",
      " [0 1 1 ... 1 1 1]\n",
      " [0 1 1 ... 1 1 1]\n",
      " ...\n",
      " [0 1 1 ... 1 1 1]\n",
      " [0 1 1 ... 1 1 1]\n",
      " [0 0 0 ... 0 0 0]]\n",
      "2020-12-13 23:21:35,620 [DEBUG] kashgari - predict seq_length: None, input: (2, 186, 47)\n"
     ]
    },
    {
     "name": "stdout",
     "output_type": "stream",
     "text": [
      "6/6 [==============================] - 0s 55ms/step\n"
     ]
    },
    {
     "name": "stderr",
     "output_type": "stream",
     "text": [
      "2020-12-13 23:21:36,042 [DEBUG] kashgari - predict output: (186, 47)\n",
      "2020-12-13 23:21:36,043 [DEBUG] kashgari - predict output argmax: [[0 1 1 ... 1 1 1]\n",
      " [0 1 1 ... 1 1 1]\n",
      " [0 1 1 ... 1 1 1]\n",
      " ...\n",
      " [0 1 1 ... 1 1 1]\n",
      " [0 1 0 ... 1 1 1]\n",
      " [0 0 0 ... 0 0 0]]\n",
      "2020-12-13 23:21:36,047 [DEBUG] kashgari - predict seq_length: None, input: (2, 410, 55)\n"
     ]
    },
    {
     "name": "stdout",
     "output_type": "stream",
     "text": [
      "13/13 [==============================] - 1s 67ms/step\n"
     ]
    },
    {
     "name": "stderr",
     "output_type": "stream",
     "text": [
      "2020-12-13 23:21:37,025 [DEBUG] kashgari - predict output: (410, 55)\n",
      "2020-12-13 23:21:37,025 [DEBUG] kashgari - predict output argmax: [[0 1 1 ... 1 1 1]\n",
      " [0 1 1 ... 1 1 1]\n",
      " [0 1 1 ... 1 1 1]\n",
      " ...\n",
      " [0 1 1 ... 1 1 1]\n",
      " [0 1 1 ... 1 1 1]\n",
      " [0 0 0 ... 0 0 0]]\n",
      "2020-12-13 23:21:37,029 [DEBUG] kashgari - predict seq_length: None, input: (2, 347, 42)\n"
     ]
    },
    {
     "name": "stdout",
     "output_type": "stream",
     "text": [
      "11/11 [==============================] - 1s 52ms/step\n"
     ]
    },
    {
     "name": "stderr",
     "output_type": "stream",
     "text": [
      "2020-12-13 23:21:37,687 [DEBUG] kashgari - predict output: (347, 42)\n",
      "2020-12-13 23:21:37,688 [DEBUG] kashgari - predict output argmax: [[0 1 1 ... 1 1 1]\n",
      " [0 1 1 ... 1 1 1]\n",
      " [0 1 1 ... 1 1 1]\n",
      " ...\n",
      " [0 1 1 ... 1 1 1]\n",
      " [0 1 1 ... 1 1 1]\n",
      " [0 0 0 ... 0 0 0]]\n",
      "2020-12-13 23:21:37,693 [DEBUG] kashgari - predict seq_length: None, input: (2, 524, 65)\n"
     ]
    },
    {
     "name": "stdout",
     "output_type": "stream",
     "text": [
      "17/17 [==============================] - 1s 78ms/step\n"
     ]
    },
    {
     "name": "stderr",
     "output_type": "stream",
     "text": [
      "2020-12-13 23:21:39,150 [DEBUG] kashgari - predict output: (524, 65)\n",
      "2020-12-13 23:21:39,151 [DEBUG] kashgari - predict output argmax: [[0 1 1 ... 1 1 1]\n",
      " [0 1 1 ... 1 1 1]\n",
      " [0 1 1 ... 1 1 1]\n",
      " ...\n",
      " [0 1 1 ... 1 1 1]\n",
      " [0 1 1 ... 1 1 1]\n",
      " [0 0 0 ... 0 0 0]]\n",
      "2020-12-13 23:21:39,155 [DEBUG] kashgari - predict seq_length: None, input: (2, 182, 29)\n"
     ]
    },
    {
     "name": "stdout",
     "output_type": "stream",
     "text": [
      "6/6 [==============================] - 0s 36ms/step\n"
     ]
    },
    {
     "name": "stderr",
     "output_type": "stream",
     "text": [
      "2020-12-13 23:21:39,434 [DEBUG] kashgari - predict output: (182, 29)\n",
      "2020-12-13 23:21:39,435 [DEBUG] kashgari - predict output argmax: [[0 1 1 ... 1 1 1]\n",
      " [0 1 1 ... 1 1 1]\n",
      " [0 1 1 ... 1 1 1]\n",
      " ...\n",
      " [0 1 1 ... 1 1 1]\n",
      " [0 1 1 ... 1 1 1]\n",
      " [0 0 0 ... 0 0 0]]\n",
      "2020-12-13 23:21:39,438 [DEBUG] kashgari - predict seq_length: None, input: (2, 163, 20)\n"
     ]
    },
    {
     "name": "stdout",
     "output_type": "stream",
     "text": [
      "6/6 [==============================] - 0s 27ms/step\n"
     ]
    },
    {
     "name": "stderr",
     "output_type": "stream",
     "text": [
      "2020-12-13 23:21:39,660 [DEBUG] kashgari - predict output: (163, 20)\n",
      "2020-12-13 23:21:39,661 [DEBUG] kashgari - predict output argmax: [[0 1 1 ... 1 1 1]\n",
      " [0 1 1 ... 1 1 1]\n",
      " [0 1 1 ... 1 1 1]\n",
      " ...\n",
      " [0 1 0 ... 1 1 1]\n",
      " [0 1 1 ... 1 1 1]\n",
      " [0 0 0 ... 0 0 0]]\n",
      "2020-12-13 23:21:39,663 [DEBUG] kashgari - predict seq_length: None, input: (2, 97, 19)\n"
     ]
    },
    {
     "name": "stdout",
     "output_type": "stream",
     "text": [
      "4/4 [==============================] - 0s 23ms/step\n"
     ]
    },
    {
     "name": "stderr",
     "output_type": "stream",
     "text": [
      "2020-12-13 23:21:39,805 [DEBUG] kashgari - predict output: (97, 19)\n",
      "2020-12-13 23:21:39,806 [DEBUG] kashgari - predict output argmax: [[0 1 1 ... 1 1 1]\n",
      " [0 1 1 ... 1 1 1]\n",
      " [0 1 0 ... 1 1 1]\n",
      " ...\n",
      " [0 1 1 ... 1 1 1]\n",
      " [0 1 1 ... 1 1 1]\n",
      " [0 0 0 ... 0 0 0]]\n",
      "2020-12-13 23:21:39,809 [DEBUG] kashgari - predict seq_length: None, input: (2, 189, 21)\n"
     ]
    },
    {
     "name": "stdout",
     "output_type": "stream",
     "text": [
      "6/6 [==============================] - 0s 30ms/step\n"
     ]
    },
    {
     "name": "stderr",
     "output_type": "stream",
     "text": [
      "2020-12-13 23:21:40,047 [DEBUG] kashgari - predict output: (189, 21)\n",
      "2020-12-13 23:21:40,048 [DEBUG] kashgari - predict output argmax: [[0 1 1 ... 1 1 1]\n",
      " [0 1 0 ... 1 1 1]\n",
      " [0 1 1 ... 1 1 1]\n",
      " ...\n",
      " [0 1 1 ... 1 1 1]\n",
      " [0 1 1 ... 1 1 1]\n",
      " [0 0 0 ... 0 0 0]]\n",
      "2020-12-13 23:21:40,053 [DEBUG] kashgari - predict seq_length: None, input: (2, 320, 25)\n"
     ]
    },
    {
     "name": "stdout",
     "output_type": "stream",
     "text": [
      "10/10 [==============================] - 0s 28ms/step\n"
     ]
    },
    {
     "name": "stderr",
     "output_type": "stream",
     "text": [
      "2020-12-13 23:21:40,391 [DEBUG] kashgari - predict output: (320, 25)\n",
      "2020-12-13 23:21:40,391 [DEBUG] kashgari - predict output argmax: [[0 1 1 ... 1 1 1]\n",
      " [0 1 1 ... 1 1 1]\n",
      " [0 1 1 ... 1 1 1]\n",
      " ...\n",
      " [0 1 0 ... 1 1 1]\n",
      " [0 1 1 ... 1 1 1]\n",
      " [0 0 0 ... 0 0 0]]\n",
      "2020-12-13 23:21:40,395 [DEBUG] kashgari - predict seq_length: None, input: (2, 301, 20)\n"
     ]
    },
    {
     "name": "stdout",
     "output_type": "stream",
     "text": [
      "10/10 [==============================] - 0s 30ms/step\n"
     ]
    },
    {
     "name": "stderr",
     "output_type": "stream",
     "text": [
      "2020-12-13 23:21:40,753 [DEBUG] kashgari - predict output: (301, 20)\n",
      "2020-12-13 23:21:40,753 [DEBUG] kashgari - predict output argmax: [[0 1 1 ... 1 1 1]\n",
      " [0 1 1 ... 1 1 1]\n",
      " [0 1 1 ... 1 1 1]\n",
      " ...\n",
      " [0 1 0 ... 1 1 1]\n",
      " [0 1 1 ... 1 1 1]\n",
      " [0 0 0 ... 0 0 0]]\n",
      "2020-12-13 23:21:40,756 [DEBUG] kashgari - predict seq_length: None, input: (2, 82, 35)\n"
     ]
    },
    {
     "name": "stdout",
     "output_type": "stream",
     "text": [
      "3/3 [==============================] - 0s 30ms/step\n"
     ]
    },
    {
     "name": "stderr",
     "output_type": "stream",
     "text": [
      "2020-12-13 23:21:40,916 [DEBUG] kashgari - predict output: (82, 35)\n",
      "2020-12-13 23:21:40,917 [DEBUG] kashgari - predict output argmax: [[0 1 1 ... 1 1 1]\n",
      " [0 1 1 ... 1 1 1]\n",
      " [0 1 1 ... 1 1 1]\n",
      " ...\n",
      " [0 1 1 ... 1 1 1]\n",
      " [0 1 1 ... 1 1 1]\n",
      " [0 0 0 ... 0 0 0]]\n",
      "2020-12-13 23:21:40,921 [DEBUG] kashgari - predict seq_length: None, input: (2, 192, 37)\n"
     ]
    },
    {
     "name": "stdout",
     "output_type": "stream",
     "text": [
      "6/6 [==============================] - 0s 37ms/step\n"
     ]
    },
    {
     "name": "stderr",
     "output_type": "stream",
     "text": [
      "2020-12-13 23:21:41,212 [DEBUG] kashgari - predict output: (192, 37)\n",
      "2020-12-13 23:21:41,213 [DEBUG] kashgari - predict output argmax: [[0 1 1 ... 1 1 1]\n",
      " [0 1 3 ... 1 1 1]\n",
      " [0 1 1 ... 1 1 1]\n",
      " ...\n",
      " [0 1 1 ... 1 1 1]\n",
      " [0 1 1 ... 1 1 1]\n",
      " [0 0 0 ... 0 0 0]]\n",
      "2020-12-13 23:21:41,218 [DEBUG] kashgari - predict seq_length: None, input: (2, 264, 48)\n"
     ]
    },
    {
     "name": "stdout",
     "output_type": "stream",
     "text": [
      "9/9 [==============================] - 0s 55ms/step\n"
     ]
    },
    {
     "name": "stderr",
     "output_type": "stream",
     "text": [
      "2020-12-13 23:21:41,799 [DEBUG] kashgari - predict output: (264, 48)\n",
      "2020-12-13 23:21:41,799 [DEBUG] kashgari - predict output argmax: [[0 1 1 ... 1 1 1]\n",
      " [0 1 1 ... 1 1 1]\n",
      " [0 1 1 ... 1 1 1]\n",
      " ...\n",
      " [0 1 1 ... 1 1 1]\n",
      " [0 1 1 ... 1 1 1]\n",
      " [0 0 0 ... 0 0 0]]\n",
      "2020-12-13 23:21:41,803 [DEBUG] kashgari - predict seq_length: None, input: (2, 247, 43)\n"
     ]
    },
    {
     "name": "stdout",
     "output_type": "stream",
     "text": [
      "8/8 [==============================] - 0s 51ms/step\n"
     ]
    },
    {
     "name": "stderr",
     "output_type": "stream",
     "text": [
      "2020-12-13 23:21:42,293 [DEBUG] kashgari - predict output: (247, 43)\n",
      "2020-12-13 23:21:42,294 [DEBUG] kashgari - predict output argmax: [[0 1 1 ... 1 1 1]\n",
      " [0 1 1 ... 1 1 1]\n",
      " [0 1 1 ... 1 1 1]\n",
      " ...\n",
      " [0 1 1 ... 1 1 1]\n",
      " [0 1 1 ... 1 1 1]\n",
      " [0 0 0 ... 0 0 0]]\n",
      "2020-12-13 23:21:42,296 [DEBUG] kashgari - predict seq_length: None, input: (2, 120, 21)\n"
     ]
    },
    {
     "name": "stdout",
     "output_type": "stream",
     "text": [
      "4/4 [==============================] - 0s 27ms/step\n"
     ]
    },
    {
     "name": "stderr",
     "output_type": "stream",
     "text": [
      "2020-12-13 23:21:42,458 [DEBUG] kashgari - predict output: (120, 21)\n",
      "2020-12-13 23:21:42,459 [DEBUG] kashgari - predict output argmax: [[0 1 1 ... 2 2 2]\n",
      " [0 1 1 ... 1 1 1]\n",
      " [0 3 2 ... 1 1 1]\n",
      " ...\n",
      " [0 1 1 ... 1 1 1]\n",
      " [0 1 1 ... 1 1 1]\n",
      " [0 0 0 ... 0 0 0]]\n",
      "2020-12-13 23:21:42,461 [DEBUG] kashgari - predict seq_length: None, input: (2, 49, 21)\n"
     ]
    },
    {
     "name": "stdout",
     "output_type": "stream",
     "text": [
      "2/2 [==============================] - 0s 15ms/step\n"
     ]
    },
    {
     "name": "stderr",
     "output_type": "stream",
     "text": [
      "2020-12-13 23:21:42,549 [DEBUG] kashgari - predict output: (49, 21)\n",
      "2020-12-13 23:21:42,550 [DEBUG] kashgari - predict output argmax: [[0 1 1 ... 1 1 1]\n",
      " [0 1 1 ... 1 1 1]\n",
      " [0 1 1 ... 1 1 1]\n",
      " ...\n",
      " [0 1 1 ... 1 1 1]\n",
      " [0 1 1 ... 1 1 1]\n",
      " [0 0 0 ... 0 0 0]]\n",
      "2020-12-13 23:21:42,553 [DEBUG] kashgari - predict seq_length: None, input: (2, 104, 32)\n"
     ]
    },
    {
     "name": "stdout",
     "output_type": "stream",
     "text": [
      "4/4 [==============================] - 0s 30ms/step\n"
     ]
    },
    {
     "name": "stderr",
     "output_type": "stream",
     "text": [
      "2020-12-13 23:21:42,743 [DEBUG] kashgari - predict output: (104, 32)\n",
      "2020-12-13 23:21:42,744 [DEBUG] kashgari - predict output argmax: [[0 1 1 ... 2 2 2]\n",
      " [0 1 1 ... 1 1 1]\n",
      " [0 1 1 ... 1 1 1]\n",
      " ...\n",
      " [0 1 1 ... 1 1 1]\n",
      " [0 1 1 ... 1 1 1]\n",
      " [0 0 0 ... 0 0 0]]\n",
      "2020-12-13 23:21:42,747 [DEBUG] kashgari - predict seq_length: None, input: (2, 190, 33)\n"
     ]
    },
    {
     "name": "stdout",
     "output_type": "stream",
     "text": [
      "6/6 [==============================] - 0s 40ms/step\n"
     ]
    },
    {
     "name": "stderr",
     "output_type": "stream",
     "text": [
      "2020-12-13 23:21:43,057 [DEBUG] kashgari - predict output: (190, 33)\n",
      "2020-12-13 23:21:43,057 [DEBUG] kashgari - predict output argmax: [[0 1 1 ... 1 1 1]\n",
      " [0 1 1 ... 1 1 1]\n",
      " [0 1 1 ... 1 1 1]\n",
      " ...\n",
      " [0 1 1 ... 1 1 1]\n",
      " [0 1 1 ... 1 1 1]\n",
      " [0 0 0 ... 0 0 0]]\n",
      "2020-12-13 23:21:43,060 [DEBUG] kashgari - predict seq_length: None, input: (2, 79, 25)\n"
     ]
    },
    {
     "name": "stdout",
     "output_type": "stream",
     "text": [
      "3/3 [==============================] - 0s 23ms/step\n"
     ]
    },
    {
     "name": "stderr",
     "output_type": "stream",
     "text": [
      "2020-12-13 23:21:43,189 [DEBUG] kashgari - predict output: (79, 25)\n",
      "2020-12-13 23:21:43,190 [DEBUG] kashgari - predict output argmax: [[0 1 1 ... 1 1 1]\n",
      " [0 1 1 ... 1 1 1]\n",
      " [0 1 1 ... 1 1 1]\n",
      " ...\n",
      " [0 1 1 ... 1 1 1]\n",
      " [0 1 1 ... 1 1 1]\n",
      " [0 0 0 ... 0 0 0]]\n",
      "2020-12-13 23:21:43,193 [DEBUG] kashgari - predict seq_length: None, input: (2, 162, 39)\n"
     ]
    },
    {
     "name": "stdout",
     "output_type": "stream",
     "text": [
      "6/6 [==============================] - 0s 41ms/step\n"
     ]
    },
    {
     "name": "stderr",
     "output_type": "stream",
     "text": [
      "2020-12-13 23:21:43,520 [DEBUG] kashgari - predict output: (162, 39)\n",
      "2020-12-13 23:21:43,521 [DEBUG] kashgari - predict output argmax: [[0 1 1 ... 1 1 1]\n",
      " [0 1 1 ... 1 1 1]\n",
      " [0 1 1 ... 1 1 1]\n",
      " ...\n",
      " [0 1 1 ... 1 1 1]\n",
      " [0 1 1 ... 1 1 1]\n",
      " [0 0 0 ... 0 0 0]]\n",
      "2020-12-13 23:21:43,523 [DEBUG] kashgari - predict seq_length: None, input: (2, 96, 23)\n"
     ]
    },
    {
     "name": "stdout",
     "output_type": "stream",
     "text": [
      "3/3 [==============================] - 0s 21ms/step\n"
     ]
    },
    {
     "name": "stderr",
     "output_type": "stream",
     "text": [
      "2020-12-13 23:21:43,637 [DEBUG] kashgari - predict output: (96, 23)\n",
      "2020-12-13 23:21:43,638 [DEBUG] kashgari - predict output argmax: [[0 1 1 ... 1 1 1]\n",
      " [0 1 1 ... 1 1 1]\n",
      " [0 1 1 ... 1 1 1]\n",
      " ...\n",
      " [0 1 1 ... 1 1 1]\n",
      " [0 1 1 ... 1 1 1]\n",
      " [0 0 0 ... 0 0 0]]\n",
      "2020-12-13 23:21:43,642 [DEBUG] kashgari - predict seq_length: None, input: (2, 197, 40)\n"
     ]
    },
    {
     "name": "stdout",
     "output_type": "stream",
     "text": [
      "7/7 [==============================] - 0s 44ms/step\n"
     ]
    },
    {
     "name": "stderr",
     "output_type": "stream",
     "text": [
      "2020-12-13 23:21:44,027 [DEBUG] kashgari - predict output: (197, 40)\n",
      "2020-12-13 23:21:44,027 [DEBUG] kashgari - predict output argmax: [[0 1 1 ... 1 1 1]\n",
      " [0 1 1 ... 1 1 1]\n",
      " [0 1 1 ... 1 1 1]\n",
      " ...\n",
      " [0 1 1 ... 1 1 1]\n",
      " [0 1 1 ... 1 1 1]\n",
      " [0 0 0 ... 0 0 0]]\n"
     ]
    }
   ],
   "source": [
    "df = predicting_txt_to_dataframe('/home/Danny/AI-CUP-2020/datasets/stage4/development_2.txt')\n",
    "output_str = \"article_id\\tstart_position\\tend_position\\tentity_text\\tentity_type\\n\"\n",
    "\n",
    "for article_id, text in zip(df['article_id'], df['text']):\n",
    "    x_list = [word for word in text]\n",
    "    y_list = predict_NER(text)\n",
    "    output_str += output_NER(article_id, text, y_list)"
   ]
  },
  {
   "cell_type": "code",
   "execution_count": 27,
   "metadata": {},
   "outputs": [],
   "source": [
    "# print(output_str)"
   ]
  },
  {
   "cell_type": "code",
   "execution_count": 26,
   "metadata": {},
   "outputs": [],
   "source": [
    "output_path = 'output/{}_epoch_{}_batch_{}.tsv'.format(model_name, epochs, batch_size)\n",
    "with open(output_path, 'w', encoding='utf-8') as f:\n",
    "    f.write(output_str)"
   ]
  },
  {
   "cell_type": "code",
   "execution_count": null,
   "metadata": {},
   "outputs": [],
   "source": []
  }
 ],
 "metadata": {
  "kernelspec": {
   "display_name": "Python 3",
   "language": "python",
   "name": "python3"
  },
  "language_info": {
   "codemirror_mode": {
    "name": "ipython",
    "version": 3
   },
   "file_extension": ".py",
   "mimetype": "text/x-python",
   "name": "python",
   "nbconvert_exporter": "python",
   "pygments_lexer": "ipython3",
   "version": "3.6.10"
  }
 },
 "nbformat": 4,
 "nbformat_minor": 4
}
