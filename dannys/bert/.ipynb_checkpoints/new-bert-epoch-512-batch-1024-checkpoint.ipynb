{
 "cells": [
  {
   "cell_type": "code",
   "execution_count": 1,
   "metadata": {},
   "outputs": [],
   "source": [
    "import re\n",
    "import pandas as pd\n",
    "import tensorflow as tf\n",
    "from matplotlib import pyplot as plt"
   ]
  },
  {
   "cell_type": "code",
   "execution_count": 2,
   "metadata": {},
   "outputs": [],
   "source": [
    "def select_gpu(N):\n",
    "    gpus = tf.config.experimental.list_physical_devices('GPU')\n",
    "    print(gpus)\n",
    "    if gpus:\n",
    "        try:\n",
    "            for gpu in gpus:\n",
    "                tf.config.experimental.set_memory_growth(gpu, True)\n",
    "            tf.config.experimental.set_visible_devices(gpus[N], 'GPU')\n",
    "            logical_gpus = tf.config.experimental.list_logical_devices('GPU')\n",
    "            print(len(gpus), \"Physical GPUs,\", len(logical_gpus), \"Logical GPUs\")\n",
    "        except RuntimeError as e:\n",
    "            print(e)    "
   ]
  },
  {
   "cell_type": "code",
   "execution_count": 3,
   "metadata": {},
   "outputs": [
    {
     "name": "stdout",
     "output_type": "stream",
     "text": [
      "[PhysicalDevice(name='/physical_device:GPU:0', device_type='GPU'), PhysicalDevice(name='/physical_device:GPU:1', device_type='GPU'), PhysicalDevice(name='/physical_device:GPU:2', device_type='GPU')]\n",
      "3 Physical GPUs, 1 Logical GPUs\n"
     ]
    }
   ],
   "source": [
    "select_gpu(0)\n",
    "epochs = 128\n",
    "batch_size = 1024\n",
    "model_name = 'bert-chinese'\n",
    "embedding_path = '/home/Danny/pretrain_model/{}'.format(model_name)"
   ]
  },
  {
   "cell_type": "code",
   "execution_count": 4,
   "metadata": {},
   "outputs": [],
   "source": [
    "# 不用儲存article_id, 轉成list\n",
    "def training_txt_to_list(path):\n",
    "    with open(path, 'r') as f:\n",
    "        txt = str(f.read())\n",
    "    txt_list = txt.split('\\n')\n",
    "    text_label_list = list()\n",
    "    tmp = list()\n",
    "    for line in txt_list:\n",
    "        if line == '--------------------':\n",
    "            text_label_list.append(tmp)\n",
    "            tmp = list()\n",
    "            continue\n",
    "        if line == '':\n",
    "            continue\n",
    "        tmp.append(line)\n",
    "    x = list()\n",
    "    y = list()\n",
    "    for text_label in text_label_list:\n",
    "        text = text_label[0]\n",
    "        label = text_label[2:]\n",
    "        label_list = ['O' for i in range(len(text))]\n",
    "        for i in label:\n",
    "            entity = i.split('\\t')\n",
    "            if int(entity[1]) > int(entity[2]):\n",
    "                continue\n",
    "            b = int(entity[1])\n",
    "            label_list[b] = 'B-{}'.format(entity[-1])\n",
    "            for j in range(int(entity[1])+1, int(entity[2])):\n",
    "                label_list[j] = 'I-{}'.format(entity[-1])\n",
    "        for i, j in enumerate(text):\n",
    "            if j == '，' or j == '。' or j == '？':\n",
    "                label_list[i] = j\n",
    "                \n",
    "        text_list = re.split('\\uff0c|\\u3002|\\uff1f', text)\n",
    "        for sentence in text_list:\n",
    "            x.append([i for i in sentence])\n",
    "        x = x[:-1]\n",
    "            \n",
    "        sentence = list()\n",
    "        for i in label_list:\n",
    "            if i == '，' or i == '。' or i == '？':\n",
    "                y.append(sentence)\n",
    "                sentence = list()\n",
    "            else:\n",
    "                sentence.append(i)\n",
    "                \n",
    "    return [x, y]"
   ]
  },
  {
   "cell_type": "code",
   "execution_count": 5,
   "metadata": {},
   "outputs": [],
   "source": [
    "x1, y1 = training_txt_to_list('/home/Danny/AI-CUP-2020/datasets/stage1/SampleData_deid.txt')"
   ]
  },
  {
   "cell_type": "code",
   "execution_count": 6,
   "metadata": {},
   "outputs": [],
   "source": [
    "x2, y2 = training_txt_to_list('/home/Danny/AI-CUP-2020/datasets/stage2/train_1_update.txt')"
   ]
  },
  {
   "cell_type": "code",
   "execution_count": 7,
   "metadata": {},
   "outputs": [],
   "source": [
    "x4, y4 = training_txt_to_list('/home/Danny/AI-CUP-2020/datasets/stage4/train_2.txt')"
   ]
  },
  {
   "cell_type": "code",
   "execution_count": 8,
   "metadata": {},
   "outputs": [
    {
     "name": "stdout",
     "output_type": "stream",
     "text": [
      "76162\n",
      "76162\n"
     ]
    }
   ],
   "source": [
    "x = x1 + x2 + x4\n",
    "y = y1 + y2 + y4\n",
    "print(len(x))\n",
    "print(len(y))"
   ]
  },
  {
   "cell_type": "code",
   "execution_count": 9,
   "metadata": {},
   "outputs": [
    {
     "data": {
      "text/html": [
       "<div>\n",
       "<style scoped>\n",
       "    .dataframe tbody tr th:only-of-type {\n",
       "        vertical-align: middle;\n",
       "    }\n",
       "\n",
       "    .dataframe tbody tr th {\n",
       "        vertical-align: top;\n",
       "    }\n",
       "\n",
       "    .dataframe thead th {\n",
       "        text-align: right;\n",
       "    }\n",
       "</style>\n",
       "<table border=\"1\" class=\"dataframe\">\n",
       "  <thead>\n",
       "    <tr style=\"text-align: right;\">\n",
       "      <th></th>\n",
       "      <th>x</th>\n",
       "      <th>y</th>\n",
       "    </tr>\n",
       "  </thead>\n",
       "  <tbody>\n",
       "    <tr>\n",
       "      <th>0</th>\n",
       "      <td>[醫, 師, ：, 你, 有, 做, 超, 音, 波, 嘛]</td>\n",
       "      <td>[O, O, O, O, O, O, O, O, O, O]</td>\n",
       "    </tr>\n",
       "    <tr>\n",
       "      <th>1</th>\n",
       "      <td>[那, 我, 們, 來, 看, 報, 告]</td>\n",
       "      <td>[O, O, O, O, O, O, O]</td>\n",
       "    </tr>\n",
       "    <tr>\n",
       "      <th>2</th>\n",
       "      <td>[有, 些, 部, 分, 有, 紅, 字, 耶]</td>\n",
       "      <td>[O, O, O, O, O, O, O, O]</td>\n",
       "    </tr>\n",
       "    <tr>\n",
       "      <th>3</th>\n",
       "      <td>[民, 眾, ：, 紅, 字, 是, 甚, 麼, 意, 思]</td>\n",
       "      <td>[O, O, O, O, O, O, O, O, O, O]</td>\n",
       "    </tr>\n",
       "    <tr>\n",
       "      <th>4</th>\n",
       "      <td>[醫, 師, ：, 就, 是, 肝, 功, 能, 有, 比, 較, 高]</td>\n",
       "      <td>[O, O, O, O, O, O, O, O, O, O, O, O]</td>\n",
       "    </tr>\n",
       "    <tr>\n",
       "      <th>...</th>\n",
       "      <td>...</td>\n",
       "      <td>...</td>\n",
       "    </tr>\n",
       "    <tr>\n",
       "      <th>76157</th>\n",
       "      <td>[醫, 師, ：, 他, 有, 在, 騎, 腳, 踏, 車]</td>\n",
       "      <td>[O, O, O, O, O, O, O, O, O, O]</td>\n",
       "    </tr>\n",
       "    <tr>\n",
       "      <th>76158</th>\n",
       "      <td>[民, 眾, ：, 恩]</td>\n",
       "      <td>[O, O, O, O]</td>\n",
       "    </tr>\n",
       "    <tr>\n",
       "      <th>76159</th>\n",
       "      <td>[醫, 師, ：, 騎, 腳, 踏, 車, 可, 以]</td>\n",
       "      <td>[O, O, O, O, O, O, O, O, O]</td>\n",
       "    </tr>\n",
       "    <tr>\n",
       "      <th>76160</th>\n",
       "      <td>[小, 美]</td>\n",
       "      <td>[B-name, I-name]</td>\n",
       "    </tr>\n",
       "    <tr>\n",
       "      <th>76161</th>\n",
       "      <td>[那, 我, 們, 先, 讓, 他, 去, 照, 個, X, 光]</td>\n",
       "      <td>[O, O, O, O, O, O, O, O, O, O, O]</td>\n",
       "    </tr>\n",
       "  </tbody>\n",
       "</table>\n",
       "<p>76162 rows × 2 columns</p>\n",
       "</div>"
      ],
      "text/plain": [
       "                                          x  \\\n",
       "0            [醫, 師, ：, 你, 有, 做, 超, 音, 波, 嘛]   \n",
       "1                     [那, 我, 們, 來, 看, 報, 告]   \n",
       "2                  [有, 些, 部, 分, 有, 紅, 字, 耶]   \n",
       "3            [民, 眾, ：, 紅, 字, 是, 甚, 麼, 意, 思]   \n",
       "4      [醫, 師, ：, 就, 是, 肝, 功, 能, 有, 比, 較, 高]   \n",
       "...                                     ...   \n",
       "76157        [醫, 師, ：, 他, 有, 在, 騎, 腳, 踏, 車]   \n",
       "76158                          [民, 眾, ：, 恩]   \n",
       "76159           [醫, 師, ：, 騎, 腳, 踏, 車, 可, 以]   \n",
       "76160                                [小, 美]   \n",
       "76161     [那, 我, 們, 先, 讓, 他, 去, 照, 個, X, 光]   \n",
       "\n",
       "                                          y  \n",
       "0            [O, O, O, O, O, O, O, O, O, O]  \n",
       "1                     [O, O, O, O, O, O, O]  \n",
       "2                  [O, O, O, O, O, O, O, O]  \n",
       "3            [O, O, O, O, O, O, O, O, O, O]  \n",
       "4      [O, O, O, O, O, O, O, O, O, O, O, O]  \n",
       "...                                     ...  \n",
       "76157        [O, O, O, O, O, O, O, O, O, O]  \n",
       "76158                          [O, O, O, O]  \n",
       "76159           [O, O, O, O, O, O, O, O, O]  \n",
       "76160                      [B-name, I-name]  \n",
       "76161     [O, O, O, O, O, O, O, O, O, O, O]  \n",
       "\n",
       "[76162 rows x 2 columns]"
      ]
     },
     "execution_count": 9,
     "metadata": {},
     "output_type": "execute_result"
    }
   ],
   "source": [
    "df = pd.DataFrame({'x': x, 'y': y})\n",
    "df"
   ]
  },
  {
   "cell_type": "code",
   "execution_count": 10,
   "metadata": {},
   "outputs": [
    {
     "name": "stderr",
     "output_type": "stream",
     "text": [
      "/home/Danny/anaconda3/lib/python3.6/site-packages/ipykernel_launcher.py:4: SettingWithCopyWarning: \n",
      "A value is trying to be set on a copy of a slice from a DataFrame.\n",
      "Try using .loc[row_indexer,col_indexer] = value instead\n",
      "\n",
      "See the caveats in the documentation: https://pandas.pydata.org/pandas-docs/stable/user_guide/indexing.html#returning-a-view-versus-a-copy\n",
      "  after removing the cwd from sys.path.\n",
      "/home/Danny/anaconda3/lib/python3.6/site-packages/ipykernel_launcher.py:5: SettingWithCopyWarning: \n",
      "A value is trying to be set on a copy of a slice from a DataFrame.\n",
      "Try using .loc[row_indexer,col_indexer] = value instead\n",
      "\n",
      "See the caveats in the documentation: https://pandas.pydata.org/pandas-docs/stable/user_guide/indexing.html#returning-a-view-versus-a-copy\n",
      "  \"\"\"\n"
     ]
    },
    {
     "data": {
      "text/html": [
       "<div>\n",
       "<style scoped>\n",
       "    .dataframe tbody tr th:only-of-type {\n",
       "        vertical-align: middle;\n",
       "    }\n",
       "\n",
       "    .dataframe tbody tr th {\n",
       "        vertical-align: top;\n",
       "    }\n",
       "\n",
       "    .dataframe thead th {\n",
       "        text-align: right;\n",
       "    }\n",
       "</style>\n",
       "<table border=\"1\" class=\"dataframe\">\n",
       "  <thead>\n",
       "    <tr style=\"text-align: right;\">\n",
       "      <th></th>\n",
       "      <th>x</th>\n",
       "      <th>y</th>\n",
       "    </tr>\n",
       "  </thead>\n",
       "  <tbody>\n",
       "    <tr>\n",
       "      <th>0</th>\n",
       "      <td>[醫, 師, ：, 你, 有, 做, 超, 音, 波, 嘛]</td>\n",
       "      <td>[O, O, O, O, O, O, O, O, O, O]</td>\n",
       "    </tr>\n",
       "    <tr>\n",
       "      <th>1</th>\n",
       "      <td>[那, 我, 們, 來, 看, 報, 告]</td>\n",
       "      <td>[O, O, O, O, O, O, O]</td>\n",
       "    </tr>\n",
       "    <tr>\n",
       "      <th>2</th>\n",
       "      <td>[有, 些, 部, 分, 有, 紅, 字, 耶]</td>\n",
       "      <td>[O, O, O, O, O, O, O, O]</td>\n",
       "    </tr>\n",
       "    <tr>\n",
       "      <th>3</th>\n",
       "      <td>[民, 眾, ：, 紅, 字, 是, 甚, 麼, 意, 思]</td>\n",
       "      <td>[O, O, O, O, O, O, O, O, O, O]</td>\n",
       "    </tr>\n",
       "    <tr>\n",
       "      <th>4</th>\n",
       "      <td>[醫, 師, ：, 就, 是, 肝, 功, 能, 有, 比, 較, 高]</td>\n",
       "      <td>[O, O, O, O, O, O, O, O, O, O, O, O]</td>\n",
       "    </tr>\n",
       "    <tr>\n",
       "      <th>...</th>\n",
       "      <td>...</td>\n",
       "      <td>...</td>\n",
       "    </tr>\n",
       "    <tr>\n",
       "      <th>75713</th>\n",
       "      <td>[醫, 師, ：, 7, 4, 0, 3]</td>\n",
       "      <td>[O, O, O, B-ID, I-ID, I-ID, I-ID]</td>\n",
       "    </tr>\n",
       "    <tr>\n",
       "      <th>75714</th>\n",
       "      <td>[醫, 師, ：, 6, 6, 6, 0, 8, 9, 7, 4, 0, 3]</td>\n",
       "      <td>[O, O, O, B-ID, I-ID, I-ID, I-ID, I-ID, I-ID, ...</td>\n",
       "    </tr>\n",
       "    <tr>\n",
       "      <th>75716</th>\n",
       "      <td>[護, 理, 師, ：, 6, 6, 6, 0, 9, 8]</td>\n",
       "      <td>[O, O, O, O, B-ID, I-ID, I-ID, I-ID, I-ID, I-ID]</td>\n",
       "    </tr>\n",
       "    <tr>\n",
       "      <th>75717</th>\n",
       "      <td>[醫, 師, ：, 0, 9, 8, 7, 4, 0, 3]</td>\n",
       "      <td>[O, O, O, B-ID, I-ID, I-ID, I-ID, I-ID, I-ID, ...</td>\n",
       "    </tr>\n",
       "    <tr>\n",
       "      <th>76102</th>\n",
       "      <td>[好, 像, 是, 那, 時, 候, 跑, 完, 6, 0, 0, 0, 公, 尺]</td>\n",
       "      <td>[O, O, O, O, O, O, O, O, O, O, O, O, O, O]</td>\n",
       "    </tr>\n",
       "  </tbody>\n",
       "</table>\n",
       "<p>31521 rows × 2 columns</p>\n",
       "</div>"
      ],
      "text/plain": [
       "                                                x  \\\n",
       "0                  [醫, 師, ：, 你, 有, 做, 超, 音, 波, 嘛]   \n",
       "1                           [那, 我, 們, 來, 看, 報, 告]   \n",
       "2                        [有, 些, 部, 分, 有, 紅, 字, 耶]   \n",
       "3                  [民, 眾, ：, 紅, 字, 是, 甚, 麼, 意, 思]   \n",
       "4            [醫, 師, ：, 就, 是, 肝, 功, 能, 有, 比, 較, 高]   \n",
       "...                                           ...   \n",
       "75713                       [醫, 師, ：, 7, 4, 0, 3]   \n",
       "75714     [醫, 師, ：, 6, 6, 6, 0, 8, 9, 7, 4, 0, 3]   \n",
       "75716              [護, 理, 師, ：, 6, 6, 6, 0, 9, 8]   \n",
       "75717              [醫, 師, ：, 0, 9, 8, 7, 4, 0, 3]   \n",
       "76102  [好, 像, 是, 那, 時, 候, 跑, 完, 6, 0, 0, 0, 公, 尺]   \n",
       "\n",
       "                                                       y  \n",
       "0                         [O, O, O, O, O, O, O, O, O, O]  \n",
       "1                                  [O, O, O, O, O, O, O]  \n",
       "2                               [O, O, O, O, O, O, O, O]  \n",
       "3                         [O, O, O, O, O, O, O, O, O, O]  \n",
       "4                   [O, O, O, O, O, O, O, O, O, O, O, O]  \n",
       "...                                                  ...  \n",
       "75713                  [O, O, O, B-ID, I-ID, I-ID, I-ID]  \n",
       "75714  [O, O, O, B-ID, I-ID, I-ID, I-ID, I-ID, I-ID, ...  \n",
       "75716   [O, O, O, O, B-ID, I-ID, I-ID, I-ID, I-ID, I-ID]  \n",
       "75717  [O, O, O, B-ID, I-ID, I-ID, I-ID, I-ID, I-ID, ...  \n",
       "76102         [O, O, O, O, O, O, O, O, O, O, O, O, O, O]  \n",
       "\n",
       "[31521 rows x 2 columns]"
      ]
     },
     "execution_count": 10,
     "metadata": {},
     "output_type": "execute_result"
    }
   ],
   "source": [
    "df['x'] = df['x'].apply(lambda row : str(row))\n",
    "df['y'] = df['y'].apply(lambda row : str(row))\n",
    "df = df.drop_duplicates()\n",
    "df['x'] = df['x'].apply(lambda row : eval(row))\n",
    "df['y'] = df['y'].apply(lambda row : eval(row))\n",
    "df"
   ]
  },
  {
   "cell_type": "code",
   "execution_count": 11,
   "metadata": {},
   "outputs": [],
   "source": [
    "x = df['x'].to_list()\n",
    "y = df['y'].to_list()"
   ]
  },
  {
   "cell_type": "code",
   "execution_count": 12,
   "metadata": {},
   "outputs": [
    {
     "name": "stdout",
     "output_type": "stream",
     "text": [
      "20172 20172\n",
      "5044 5044\n",
      "6305 6305\n"
     ]
    }
   ],
   "source": [
    "from sklearn.model_selection import train_test_split\n",
    "train_x, test_x, train_y, test_y = train_test_split(x, y, test_size=0.2, random_state=42)\n",
    "train_x, valid_x, train_y, valid_y = train_test_split(train_x, train_y, test_size=0.2, random_state=42)\n",
    "print(len(train_x), len(train_y))\n",
    "print(len(valid_x), len(valid_y))\n",
    "print(len(test_x), len(test_y))"
   ]
  },
  {
   "cell_type": "code",
   "execution_count": 13,
   "metadata": {
    "scrolled": false
   },
   "outputs": [
    {
     "name": "stderr",
     "output_type": "stream",
     "text": [
      "2020-12-15 10:54:55,317 [DEBUG] kashgari - ------------------------------------------------\n",
      "2020-12-15 10:54:55,318 [DEBUG] kashgari - Loaded transformer model's vocab\n",
      "2020-12-15 10:54:55,319 [DEBUG] kashgari - config_path       : /home/Danny/pretrain_model/bert-chinese/bert_config.json\n",
      "2020-12-15 10:54:55,319 [DEBUG] kashgari - vocab_path      : /home/Danny/pretrain_model/bert-chinese/vocab.txt\n",
      "2020-12-15 10:54:55,320 [DEBUG] kashgari - checkpoint_path : /home/Danny/pretrain_model/bert-chinese/bert_model.ckpt\n",
      "2020-12-15 10:54:55,320 [DEBUG] kashgari - Top 50 words    : ['[PAD]', '[unused1]', '[unused2]', '[unused3]', '[unused4]', '[unused5]', '[unused6]', '[unused7]', '[unused8]', '[unused9]', '[unused10]', '[unused11]', '[unused12]', '[unused13]', '[unused14]', '[unused15]', '[unused16]', '[unused17]', '[unused18]', '[unused19]', '[unused20]', '[unused21]', '[unused22]', '[unused23]', '[unused24]', '[unused25]', '[unused26]', '[unused27]', '[unused28]', '[unused29]', '[unused30]', '[unused31]', '[unused32]', '[unused33]', '[unused34]', '[unused35]', '[unused36]', '[unused37]', '[unused38]', '[unused39]', '[unused40]', '[unused41]', '[unused42]', '[unused43]', '[unused44]', '[unused45]', '[unused46]', '[unused47]', '[unused48]', '[unused49]']\n",
      "2020-12-15 10:54:55,321 [DEBUG] kashgari - ------------------------------------------------\n",
      "Preparing text vocab dict: 100%|██████████| 20172/20172 [00:00<00:00, 382827.24it/s]\n",
      "Preparing text vocab dict: 100%|██████████| 5044/5044 [00:00<00:00, 387183.06it/s]\n",
      "2020-12-15 10:54:55,393 [DEBUG] kashgari - --- Build vocab dict finished, Total: 1551 ---\n",
      "2020-12-15 10:54:55,394 [DEBUG] kashgari - Top-10: ['[PAD]', '[UNK]', '[CLS]', '[SEP]', '：', '是', '師', '有', '醫', '個']\n",
      "Preparing text vocab dict: 100%|██████████| 20172/20172 [00:00<00:00, 536390.15it/s]\n",
      "Preparing text vocab dict: 100%|██████████| 5044/5044 [00:00<00:00, 500498.45it/s]\n",
      "2020-12-15 10:54:55,445 [DEBUG] kashgari - --- Build vocab dict finished, Total: 28 ---\n",
      "2020-12-15 10:54:55,445 [DEBUG] kashgari - Top-10: ['[PAD]', 'O', 'I-time', 'B-time', 'I-med_exam', 'I-name', 'I-location', 'B-med_exam', 'I-money', 'B-name']\n",
      "Calculating sequence length: 100%|██████████| 20172/20172 [00:00<00:00, 1489804.73it/s]\n",
      "Calculating sequence length: 100%|██████████| 5044/5044 [00:00<00:00, 1344095.89it/s]\n",
      "2020-12-15 10:54:58,390 [DEBUG] kashgari - Calculated sequence length = 21\n",
      "2020-12-15 10:55:00,517 [DEBUG] kashgari - fit input shape: (2, 1024, 21)\n",
      "2020-12-15 10:55:00,518 [DEBUG] kashgari - fit input shape: (1024, 21)\n"
     ]
    },
    {
     "name": "stdout",
     "output_type": "stream",
     "text": [
      "Epoch 1/128\n",
      "19/19 [==============================] - 18s 933ms/step - loss: 4.4103 - accuracy: 0.8492 - val_loss: 28.0917 - val_accuracy: 0.9696\n",
      "Epoch 2/128\n",
      "19/19 [==============================] - 13s 701ms/step - loss: 1.2747 - accuracy: 0.9661 - val_loss: 28.2451 - val_accuracy: 0.9698\n",
      "Epoch 3/128\n",
      "19/19 [==============================] - 13s 695ms/step - loss: 0.8947 - accuracy: 0.9692 - val_loss: 28.0896 - val_accuracy: 0.9743\n",
      "Epoch 4/128\n",
      "19/19 [==============================] - 13s 697ms/step - loss: 0.7326 - accuracy: 0.9729 - val_loss: 28.0393 - val_accuracy: 0.9771\n",
      "Epoch 5/128\n",
      "19/19 [==============================] - 13s 699ms/step - loss: 0.6307 - accuracy: 0.9756 - val_loss: 27.9546 - val_accuracy: 0.9795\n",
      "Epoch 6/128\n",
      "19/19 [==============================] - 13s 698ms/step - loss: 0.5665 - accuracy: 0.9766 - val_loss: 27.9828 - val_accuracy: 0.9792\n",
      "Epoch 7/128\n",
      "19/19 [==============================] - 13s 700ms/step - loss: 0.5090 - accuracy: 0.9778 - val_loss: 27.9127 - val_accuracy: 0.9807\n",
      "Epoch 8/128\n",
      "19/19 [==============================] - 13s 699ms/step - loss: 0.4674 - accuracy: 0.9792 - val_loss: 27.8711 - val_accuracy: 0.9820\n",
      "Epoch 9/128\n",
      "19/19 [==============================] - 13s 701ms/step - loss: 0.4231 - accuracy: 0.9800 - val_loss: 27.7940 - val_accuracy: 0.9826\n",
      "Epoch 10/128\n",
      "19/19 [==============================] - 14s 718ms/step - loss: 0.3921 - accuracy: 0.9810 - val_loss: 27.8503 - val_accuracy: 0.9838\n",
      "Epoch 11/128\n",
      "19/19 [==============================] - 13s 701ms/step - loss: 0.3722 - accuracy: 0.9819 - val_loss: 27.7743 - val_accuracy: 0.9846\n",
      "Epoch 12/128\n",
      "19/19 [==============================] - 13s 701ms/step - loss: 0.3491 - accuracy: 0.9826 - val_loss: 27.8416 - val_accuracy: 0.9852\n",
      "Epoch 13/128\n",
      "19/19 [==============================] - 13s 701ms/step - loss: 0.3312 - accuracy: 0.9836 - val_loss: 27.6580 - val_accuracy: 0.9860\n",
      "Epoch 14/128\n",
      "19/19 [==============================] - 13s 703ms/step - loss: 0.3104 - accuracy: 0.9842 - val_loss: 27.6737 - val_accuracy: 0.9863\n",
      "Epoch 15/128\n",
      "19/19 [==============================] - 13s 701ms/step - loss: 0.2923 - accuracy: 0.9849 - val_loss: 27.7538 - val_accuracy: 0.9861\n",
      "Epoch 16/128\n",
      "19/19 [==============================] - 13s 702ms/step - loss: 0.2873 - accuracy: 0.9851 - val_loss: 27.6506 - val_accuracy: 0.9866\n",
      "Epoch 17/128\n",
      "19/19 [==============================] - 13s 703ms/step - loss: 0.2682 - accuracy: 0.9860 - val_loss: 27.5590 - val_accuracy: 0.9867\n",
      "Epoch 18/128\n",
      "19/19 [==============================] - 13s 702ms/step - loss: 0.2641 - accuracy: 0.9865 - val_loss: 27.6577 - val_accuracy: 0.9861\n",
      "Epoch 19/128\n",
      "19/19 [==============================] - 13s 702ms/step - loss: 0.2490 - accuracy: 0.9869 - val_loss: 27.4713 - val_accuracy: 0.9868\n",
      "Epoch 20/128\n",
      "19/19 [==============================] - 13s 702ms/step - loss: 0.2362 - accuracy: 0.9878 - val_loss: 27.5182 - val_accuracy: 0.9866\n",
      "Epoch 21/128\n",
      "19/19 [==============================] - 14s 712ms/step - loss: 0.2267 - accuracy: 0.9879 - val_loss: 27.4321 - val_accuracy: 0.9870\n",
      "Epoch 22/128\n",
      "19/19 [==============================] - 14s 711ms/step - loss: 0.2239 - accuracy: 0.9878 - val_loss: 27.3637 - val_accuracy: 0.9870\n",
      "Epoch 23/128\n",
      "19/19 [==============================] - 13s 702ms/step - loss: 0.2165 - accuracy: 0.9881 - val_loss: 27.4125 - val_accuracy: 0.9868\n",
      "Epoch 24/128\n",
      "19/19 [==============================] - 13s 703ms/step - loss: 0.2018 - accuracy: 0.9892 - val_loss: 27.3864 - val_accuracy: 0.9863\n",
      "Epoch 25/128\n",
      "19/19 [==============================] - 13s 704ms/step - loss: 0.1968 - accuracy: 0.9890 - val_loss: 27.3353 - val_accuracy: 0.9879\n",
      "Epoch 26/128\n",
      "19/19 [==============================] - 13s 704ms/step - loss: 0.1859 - accuracy: 0.9898 - val_loss: 27.3620 - val_accuracy: 0.9871\n",
      "Epoch 27/128\n",
      "19/19 [==============================] - 13s 702ms/step - loss: 0.1758 - accuracy: 0.9904 - val_loss: 27.4112 - val_accuracy: 0.9885\n",
      "Epoch 28/128\n",
      "19/19 [==============================] - 13s 701ms/step - loss: 0.1801 - accuracy: 0.9903 - val_loss: 27.3730 - val_accuracy: 0.9872\n",
      "Epoch 29/128\n",
      "19/19 [==============================] - 13s 701ms/step - loss: 0.1631 - accuracy: 0.9911 - val_loss: 27.4219 - val_accuracy: 0.9872\n",
      "Epoch 30/128\n",
      "19/19 [==============================] - 13s 701ms/step - loss: 0.1645 - accuracy: 0.9909 - val_loss: 27.3208 - val_accuracy: 0.9871\n",
      "Epoch 31/128\n",
      "19/19 [==============================] - 13s 702ms/step - loss: 0.1579 - accuracy: 0.9911 - val_loss: 27.3783 - val_accuracy: 0.9869\n",
      "Epoch 32/128\n",
      "19/19 [==============================] - 13s 703ms/step - loss: 0.1483 - accuracy: 0.9919 - val_loss: 27.3581 - val_accuracy: 0.9868\n",
      "Epoch 33/128\n",
      "19/19 [==============================] - 13s 703ms/step - loss: 0.1444 - accuracy: 0.9917 - val_loss: 27.2700 - val_accuracy: 0.9863\n",
      "Epoch 34/128\n",
      "19/19 [==============================] - 13s 701ms/step - loss: 0.1351 - accuracy: 0.9925 - val_loss: 27.0508 - val_accuracy: 0.9872\n",
      "Epoch 35/128\n",
      "19/19 [==============================] - 13s 702ms/step - loss: 0.1352 - accuracy: 0.9924 - val_loss: 27.1374 - val_accuracy: 0.9876\n",
      "Epoch 36/128\n",
      "19/19 [==============================] - 13s 703ms/step - loss: 0.1291 - accuracy: 0.9926 - val_loss: 27.2464 - val_accuracy: 0.9870\n",
      "Epoch 37/128\n",
      "19/19 [==============================] - 13s 701ms/step - loss: 0.1228 - accuracy: 0.9932 - val_loss: 27.1026 - val_accuracy: 0.9866\n",
      "Epoch 38/128\n",
      "19/19 [==============================] - 13s 701ms/step - loss: 0.1147 - accuracy: 0.9935 - val_loss: 27.1527 - val_accuracy: 0.9874\n",
      "Epoch 39/128\n",
      "19/19 [==============================] - 13s 702ms/step - loss: 0.1139 - accuracy: 0.9936 - val_loss: 27.1989 - val_accuracy: 0.9858\n",
      "Epoch 40/128\n",
      "19/19 [==============================] - 13s 701ms/step - loss: 0.1073 - accuracy: 0.9940 - val_loss: 27.0487 - val_accuracy: 0.9870\n",
      "Epoch 41/128\n",
      "19/19 [==============================] - 14s 713ms/step - loss: 0.1058 - accuracy: 0.9940 - val_loss: 27.0872 - val_accuracy: 0.9869\n",
      "Epoch 42/128\n",
      "19/19 [==============================] - 14s 713ms/step - loss: 0.1028 - accuracy: 0.9940 - val_loss: 27.0517 - val_accuracy: 0.9871\n",
      "Epoch 43/128\n",
      "19/19 [==============================] - 13s 702ms/step - loss: 0.0964 - accuracy: 0.9945 - val_loss: 27.0726 - val_accuracy: 0.9872\n",
      "Epoch 44/128\n",
      "19/19 [==============================] - 13s 702ms/step - loss: 0.0933 - accuracy: 0.9948 - val_loss: 27.0081 - val_accuracy: 0.9870\n",
      "Epoch 45/128\n",
      "19/19 [==============================] - 13s 702ms/step - loss: 0.0941 - accuracy: 0.9945 - val_loss: 26.8923 - val_accuracy: 0.9871\n",
      "Epoch 46/128\n",
      "19/19 [==============================] - 13s 703ms/step - loss: 0.0891 - accuracy: 0.9949 - val_loss: 27.0146 - val_accuracy: 0.9868\n",
      "Epoch 47/128\n",
      "19/19 [==============================] - 13s 701ms/step - loss: 0.0841 - accuracy: 0.9952 - val_loss: 27.0988 - val_accuracy: 0.9870\n",
      "Epoch 48/128\n",
      "19/19 [==============================] - 13s 702ms/step - loss: 0.0866 - accuracy: 0.9951 - val_loss: 26.8893 - val_accuracy: 0.9869\n",
      "Epoch 49/128\n",
      "19/19 [==============================] - 13s 703ms/step - loss: 0.0850 - accuracy: 0.9951 - val_loss: 26.8413 - val_accuracy: 0.9870\n",
      "Epoch 50/128\n",
      "19/19 [==============================] - 13s 703ms/step - loss: 0.0771 - accuracy: 0.9955 - val_loss: 26.9349 - val_accuracy: 0.9865\n",
      "Epoch 51/128\n",
      "19/19 [==============================] - 13s 701ms/step - loss: 0.0765 - accuracy: 0.9958 - val_loss: 26.8381 - val_accuracy: 0.9877\n",
      "Epoch 52/128\n",
      "19/19 [==============================] - 13s 702ms/step - loss: 0.0731 - accuracy: 0.9958 - val_loss: 26.9111 - val_accuracy: 0.9867\n",
      "Epoch 53/128\n",
      "19/19 [==============================] - 13s 702ms/step - loss: 0.0754 - accuracy: 0.9956 - val_loss: 27.0266 - val_accuracy: 0.9873\n",
      "Epoch 54/128\n",
      "19/19 [==============================] - 13s 703ms/step - loss: 0.0691 - accuracy: 0.9960 - val_loss: 26.7623 - val_accuracy: 0.9867\n",
      "Epoch 55/128\n",
      "19/19 [==============================] - 13s 702ms/step - loss: 0.0697 - accuracy: 0.9961 - val_loss: 26.8193 - val_accuracy: 0.9859\n",
      "Epoch 56/128\n",
      "19/19 [==============================] - 13s 703ms/step - loss: 0.0683 - accuracy: 0.9963 - val_loss: 26.9208 - val_accuracy: 0.9867\n",
      "Epoch 57/128\n"
     ]
    },
    {
     "name": "stdout",
     "output_type": "stream",
     "text": [
      "19/19 [==============================] - 13s 702ms/step - loss: 0.0630 - accuracy: 0.9965 - val_loss: 26.9850 - val_accuracy: 0.9870\n",
      "Epoch 58/128\n",
      "19/19 [==============================] - 13s 701ms/step - loss: 0.0609 - accuracy: 0.9966 - val_loss: 26.8570 - val_accuracy: 0.9862\n",
      "Epoch 59/128\n",
      "19/19 [==============================] - 13s 702ms/step - loss: 0.0600 - accuracy: 0.9965 - val_loss: 26.7403 - val_accuracy: 0.9868\n",
      "Epoch 60/128\n",
      "19/19 [==============================] - 13s 702ms/step - loss: 0.0575 - accuracy: 0.9969 - val_loss: 26.7007 - val_accuracy: 0.9864\n",
      "Epoch 61/128\n",
      "19/19 [==============================] - 14s 711ms/step - loss: 0.0558 - accuracy: 0.9968 - val_loss: 26.7123 - val_accuracy: 0.9865\n",
      "Epoch 62/128\n",
      "19/19 [==============================] - 14s 711ms/step - loss: 0.0508 - accuracy: 0.9972 - val_loss: 26.8214 - val_accuracy: 0.9864\n",
      "Epoch 63/128\n",
      "19/19 [==============================] - 13s 702ms/step - loss: 0.0576 - accuracy: 0.9967 - val_loss: 26.6963 - val_accuracy: 0.9865\n",
      "Epoch 64/128\n",
      "19/19 [==============================] - 13s 701ms/step - loss: 0.0542 - accuracy: 0.9970 - val_loss: 26.7935 - val_accuracy: 0.9859\n",
      "Epoch 65/128\n",
      "19/19 [==============================] - 13s 702ms/step - loss: 0.0529 - accuracy: 0.9971 - val_loss: 26.7214 - val_accuracy: 0.9867\n",
      "Epoch 66/128\n",
      "19/19 [==============================] - 13s 702ms/step - loss: 0.0544 - accuracy: 0.9969 - val_loss: 26.6669 - val_accuracy: 0.9872\n",
      "Epoch 67/128\n",
      "19/19 [==============================] - 13s 702ms/step - loss: 0.0477 - accuracy: 0.9974 - val_loss: 26.7265 - val_accuracy: 0.9859\n",
      "Epoch 68/128\n",
      "19/19 [==============================] - 13s 702ms/step - loss: 0.0483 - accuracy: 0.9973 - val_loss: 26.7177 - val_accuracy: 0.9857\n",
      "Epoch 69/128\n",
      "19/19 [==============================] - 14s 717ms/step - loss: 0.0485 - accuracy: 0.9973 - val_loss: 26.7143 - val_accuracy: 0.9862\n",
      "Epoch 70/128\n",
      "19/19 [==============================] - 13s 701ms/step - loss: 0.0474 - accuracy: 0.9972 - val_loss: 26.7278 - val_accuracy: 0.9865\n",
      "Epoch 71/128\n",
      "19/19 [==============================] - 13s 701ms/step - loss: 0.0468 - accuracy: 0.9974 - val_loss: 26.5421 - val_accuracy: 0.9861\n",
      "Epoch 72/128\n",
      "19/19 [==============================] - 13s 702ms/step - loss: 0.0462 - accuracy: 0.9974 - val_loss: 26.7144 - val_accuracy: 0.9868\n",
      "Epoch 73/128\n",
      "19/19 [==============================] - 13s 702ms/step - loss: 0.0472 - accuracy: 0.9973 - val_loss: 26.6188 - val_accuracy: 0.9869\n",
      "Epoch 74/128\n",
      "19/19 [==============================] - 13s 703ms/step - loss: 0.0437 - accuracy: 0.9975 - val_loss: 26.6604 - val_accuracy: 0.9865\n",
      "Epoch 75/128\n",
      "19/19 [==============================] - 13s 702ms/step - loss: 0.0428 - accuracy: 0.9975 - val_loss: 26.5918 - val_accuracy: 0.9860\n",
      "Epoch 76/128\n",
      "19/19 [==============================] - 13s 706ms/step - loss: 0.0418 - accuracy: 0.9976 - val_loss: 26.6587 - val_accuracy: 0.9866\n",
      "Epoch 77/128\n",
      "19/19 [==============================] - 13s 707ms/step - loss: 0.0417 - accuracy: 0.9977 - val_loss: 26.5752 - val_accuracy: 0.9858\n",
      "Epoch 78/128\n",
      "19/19 [==============================] - 13s 711ms/step - loss: 0.0445 - accuracy: 0.9975 - val_loss: 26.5187 - val_accuracy: 0.9862\n",
      "Epoch 79/128\n",
      "19/19 [==============================] - 13s 709ms/step - loss: 0.0396 - accuracy: 0.9978 - val_loss: 26.5620 - val_accuracy: 0.9873\n",
      "Epoch 80/128\n",
      "19/19 [==============================] - 13s 710ms/step - loss: 0.0384 - accuracy: 0.9978 - val_loss: 26.5656 - val_accuracy: 0.9875\n",
      "Epoch 81/128\n",
      "19/19 [==============================] - 14s 721ms/step - loss: 0.0400 - accuracy: 0.9977 - val_loss: 26.5284 - val_accuracy: 0.9867\n",
      "Epoch 82/128\n",
      "19/19 [==============================] - 14s 721ms/step - loss: 0.0387 - accuracy: 0.9978 - val_loss: 26.3846 - val_accuracy: 0.9873\n",
      "Epoch 83/128\n",
      "19/19 [==============================] - 14s 711ms/step - loss: 0.0377 - accuracy: 0.9978 - val_loss: 26.5317 - val_accuracy: 0.9862\n",
      "Epoch 84/128\n",
      "19/19 [==============================] - 13s 708ms/step - loss: 0.0366 - accuracy: 0.9977 - val_loss: 26.3856 - val_accuracy: 0.9864\n",
      "Epoch 85/128\n",
      "19/19 [==============================] - 13s 710ms/step - loss: 0.0359 - accuracy: 0.9979 - val_loss: 26.4834 - val_accuracy: 0.9863\n",
      "Epoch 86/128\n",
      "19/19 [==============================] - 13s 709ms/step - loss: 0.0370 - accuracy: 0.9980 - val_loss: 26.4757 - val_accuracy: 0.9874\n",
      "Epoch 87/128\n",
      "19/19 [==============================] - 14s 711ms/step - loss: 0.0353 - accuracy: 0.9980 - val_loss: 26.5105 - val_accuracy: 0.9871\n",
      "Epoch 88/128\n",
      "19/19 [==============================] - 14s 711ms/step - loss: 0.0361 - accuracy: 0.9978 - val_loss: 26.4940 - val_accuracy: 0.9870\n",
      "Epoch 89/128\n",
      "19/19 [==============================] - 13s 710ms/step - loss: 0.0360 - accuracy: 0.9979 - val_loss: 26.3736 - val_accuracy: 0.9862\n",
      "Epoch 90/128\n",
      "19/19 [==============================] - 14s 713ms/step - loss: 0.0335 - accuracy: 0.9980 - val_loss: 26.4483 - val_accuracy: 0.9867\n",
      "Epoch 91/128\n",
      "19/19 [==============================] - 13s 709ms/step - loss: 0.0336 - accuracy: 0.9980 - val_loss: 26.4064 - val_accuracy: 0.9875\n",
      "Epoch 92/128\n",
      "19/19 [==============================] - 13s 710ms/step - loss: 0.0347 - accuracy: 0.9978 - val_loss: 26.4881 - val_accuracy: 0.9872\n",
      "Epoch 93/128\n",
      "19/19 [==============================] - 13s 710ms/step - loss: 0.0384 - accuracy: 0.9978 - val_loss: 26.4292 - val_accuracy: 0.9855\n",
      "Epoch 94/128\n",
      "19/19 [==============================] - 13s 710ms/step - loss: 0.0336 - accuracy: 0.9979 - val_loss: 26.3795 - val_accuracy: 0.9866\n",
      "Epoch 95/128\n",
      "19/19 [==============================] - 13s 701ms/step - loss: 0.0315 - accuracy: 0.9981 - val_loss: 26.3717 - val_accuracy: 0.9869\n",
      "Epoch 96/128\n",
      "19/19 [==============================] - 13s 701ms/step - loss: 0.0321 - accuracy: 0.9980 - val_loss: 26.3332 - val_accuracy: 0.9872\n",
      "Epoch 97/128\n",
      "19/19 [==============================] - 13s 700ms/step - loss: 0.0305 - accuracy: 0.9982 - val_loss: 26.4480 - val_accuracy: 0.9866\n",
      "Epoch 98/128\n",
      "19/19 [==============================] - 13s 701ms/step - loss: 0.0283 - accuracy: 0.9983 - val_loss: 26.4122 - val_accuracy: 0.9868\n",
      "Epoch 99/128\n",
      "19/19 [==============================] - 13s 700ms/step - loss: 0.0294 - accuracy: 0.9981 - val_loss: 26.3552 - val_accuracy: 0.9873\n",
      "Epoch 100/128\n",
      "19/19 [==============================] - 13s 700ms/step - loss: 0.0279 - accuracy: 0.9983 - val_loss: 26.3772 - val_accuracy: 0.9869\n",
      "Epoch 101/128\n",
      "19/19 [==============================] - 13s 710ms/step - loss: 0.0271 - accuracy: 0.9984 - val_loss: 26.3198 - val_accuracy: 0.9867\n",
      "Epoch 102/128\n",
      "19/19 [==============================] - 13s 710ms/step - loss: 0.0285 - accuracy: 0.9982 - val_loss: 26.3380 - val_accuracy: 0.9864\n",
      "Epoch 103/128\n",
      "19/19 [==============================] - 13s 701ms/step - loss: 0.0279 - accuracy: 0.9982 - val_loss: 26.3208 - val_accuracy: 0.9844\n",
      "Epoch 104/128\n",
      "19/19 [==============================] - 13s 702ms/step - loss: 0.0287 - accuracy: 0.9983 - val_loss: 26.4021 - val_accuracy: 0.9841\n",
      "Epoch 105/128\n",
      "19/19 [==============================] - 13s 703ms/step - loss: 0.0258 - accuracy: 0.9983 - val_loss: 26.3662 - val_accuracy: 0.9854\n",
      "Epoch 106/128\n",
      "19/19 [==============================] - 13s 702ms/step - loss: 0.0259 - accuracy: 0.9985 - val_loss: 26.2774 - val_accuracy: 0.9857\n",
      "Epoch 107/128\n",
      "19/19 [==============================] - 13s 701ms/step - loss: 0.0285 - accuracy: 0.9983 - val_loss: 26.3534 - val_accuracy: 0.9857\n",
      "Epoch 108/128\n",
      "19/19 [==============================] - 13s 701ms/step - loss: 0.0267 - accuracy: 0.9983 - val_loss: 26.2736 - val_accuracy: 0.9857\n",
      "Epoch 109/128\n",
      "19/19 [==============================] - 13s 701ms/step - loss: 0.0263 - accuracy: 0.9984 - val_loss: 26.2097 - val_accuracy: 0.9867\n",
      "Epoch 110/128\n",
      "19/19 [==============================] - 13s 702ms/step - loss: 0.0282 - accuracy: 0.9983 - val_loss: 26.2507 - val_accuracy: 0.9855\n",
      "Epoch 111/128\n",
      "19/19 [==============================] - 13s 702ms/step - loss: 0.0285 - accuracy: 0.9982 - val_loss: 26.3429 - val_accuracy: 0.9855\n",
      "Epoch 112/128\n",
      "19/19 [==============================] - 13s 700ms/step - loss: 0.0287 - accuracy: 0.9983 - val_loss: 26.2218 - val_accuracy: 0.9846\n",
      "Epoch 113/128\n"
     ]
    },
    {
     "name": "stdout",
     "output_type": "stream",
     "text": [
      "19/19 [==============================] - 13s 702ms/step - loss: 0.0237 - accuracy: 0.9986 - val_loss: 26.2818 - val_accuracy: 0.9854\n",
      "Epoch 114/128\n",
      "19/19 [==============================] - 13s 702ms/step - loss: 0.0237 - accuracy: 0.9986 - val_loss: 26.2795 - val_accuracy: 0.9857\n",
      "Epoch 115/128\n",
      "19/19 [==============================] - 13s 701ms/step - loss: 0.0239 - accuracy: 0.9986 - val_loss: 26.1941 - val_accuracy: 0.9840\n",
      "Epoch 116/128\n",
      "19/19 [==============================] - 13s 701ms/step - loss: 0.0229 - accuracy: 0.9986 - val_loss: 26.1905 - val_accuracy: 0.9846\n",
      "Epoch 117/128\n",
      "19/19 [==============================] - 13s 702ms/step - loss: 0.0247 - accuracy: 0.9985 - val_loss: 26.2204 - val_accuracy: 0.9846\n",
      "Epoch 118/128\n",
      "19/19 [==============================] - 13s 703ms/step - loss: 0.0233 - accuracy: 0.9986 - val_loss: 26.1244 - val_accuracy: 0.9831\n",
      "Epoch 119/128\n",
      "19/19 [==============================] - 13s 702ms/step - loss: 0.0229 - accuracy: 0.9987 - val_loss: 26.0984 - val_accuracy: 0.9844\n",
      "Epoch 120/128\n",
      "19/19 [==============================] - 13s 701ms/step - loss: 0.0222 - accuracy: 0.9986 - val_loss: 26.2094 - val_accuracy: 0.9839\n",
      "Epoch 121/128\n",
      "19/19 [==============================] - 14s 711ms/step - loss: 0.0223 - accuracy: 0.9986 - val_loss: 26.1996 - val_accuracy: 0.9842\n",
      "Epoch 122/128\n",
      "19/19 [==============================] - 14s 712ms/step - loss: 0.0224 - accuracy: 0.9986 - val_loss: 26.2230 - val_accuracy: 0.9830\n",
      "Epoch 123/128\n",
      "19/19 [==============================] - 13s 701ms/step - loss: 0.0208 - accuracy: 0.9987 - val_loss: 26.0969 - val_accuracy: 0.9832\n",
      "Epoch 124/128\n",
      "19/19 [==============================] - 13s 703ms/step - loss: 0.0218 - accuracy: 0.9985 - val_loss: 26.1706 - val_accuracy: 0.9838\n",
      "Epoch 125/128\n",
      "19/19 [==============================] - 13s 701ms/step - loss: 0.0226 - accuracy: 0.9985 - val_loss: 26.0734 - val_accuracy: 0.9842\n",
      "Epoch 126/128\n",
      "19/19 [==============================] - 13s 702ms/step - loss: 0.0218 - accuracy: 0.9985 - val_loss: 26.1469 - val_accuracy: 0.9841\n",
      "Epoch 127/128\n",
      "19/19 [==============================] - 13s 702ms/step - loss: 0.0214 - accuracy: 0.9985 - val_loss: 26.0747 - val_accuracy: 0.9843\n",
      "Epoch 128/128\n",
      "19/19 [==============================] - 13s 702ms/step - loss: 0.0227 - accuracy: 0.9985 - val_loss: 26.1206 - val_accuracy: 0.9837\n",
      "CPU times: user 19min 14s, sys: 2min 34s, total: 21min 49s\n",
      "Wall time: 30min 15s\n"
     ]
    }
   ],
   "source": [
    "%%time\n",
    "import kashgari\n",
    "from kashgari.tasks.labeling import BiLSTM_CRF_Model\n",
    "from kashgari.embeddings import BertEmbedding\n",
    "kashgari.config.use_cudnn_cell = True\n",
    "bert_embedding = BertEmbedding(embedding_path, \n",
    "                           sequence_length='auto',\n",
    "                           trainable=True,\n",
    "                           task='kashgari.LABELING', \n",
    "                          )\n",
    "model = BiLSTM_CRF_Model(bert_embedding)\n",
    "history = model.fit(train_x,\n",
    "                    train_y,\n",
    "                    valid_x,\n",
    "                    valid_y,\n",
    "                    epochs=epochs,\n",
    "                    batch_size=batch_size,\n",
    "                   )"
   ]
  },
  {
   "cell_type": "code",
   "execution_count": 14,
   "metadata": {},
   "outputs": [
    {
     "name": "stderr",
     "output_type": "stream",
     "text": [
      "2020-12-15 11:25:10,726 [WARNING] kashgari - Sequence length is None, will use the max length of the samples, which is 102\n",
      "2020-12-15 11:25:10,779 [DEBUG] kashgari - predict seq_length: None, input: (2, 6305, 102)\n"
     ]
    },
    {
     "name": "stdout",
     "output_type": "stream",
     "text": [
      "198/198 [==============================] - 26s 131ms/step\n"
     ]
    },
    {
     "name": "stderr",
     "output_type": "stream",
     "text": [
      "2020-12-15 11:25:41,248 [DEBUG] kashgari - predict output: (6305, 102)\n",
      "2020-12-15 11:25:41,249 [DEBUG] kashgari - predict output argmax: [[0 7 4 ... 4 4 4]\n",
      " [0 1 1 ... 2 2 2]\n",
      " [0 1 1 ... 1 1 1]\n",
      " ...\n",
      " [0 1 1 ... 1 1 1]\n",
      " [0 1 1 ... 1 1 1]\n",
      " [0 1 1 ... 1 1 1]]\n"
     ]
    },
    {
     "name": "stdout",
     "output_type": "stream",
     "text": [
      "\n",
      "              precision    recall  f1-score   support\n",
      "\n",
      "        name     0.8696    0.8889    0.8791        45\n",
      "        time     0.6771    0.6898    0.6834       532\n",
      "    med_exam     0.6724    0.7879    0.7256        99\n",
      "       money     0.6190    0.6500    0.6341        20\n",
      "    location     0.8039    0.8542    0.8283        48\n",
      "     contact     0.4000    0.1667    0.2353        12\n",
      "   education     0.0000    0.0000    0.0000         2\n",
      "  profession     0.5000    0.6667    0.5714         3\n",
      "      family     0.3333    0.5000    0.4000         8\n",
      "organization     0.0000    0.0000    0.0000         1\n",
      "          ID     0.2000    0.2500    0.2222         4\n",
      "      others     1.0000    1.0000    1.0000         1\n",
      "\n",
      "   micro avg     0.6837    0.7084    0.6958       775\n",
      "   macro avg     0.6809    0.7084    0.6930       775\n",
      "\n"
     ]
    },
    {
     "name": "stderr",
     "output_type": "stream",
     "text": [
      "2020-12-15 11:26:52,932 [INFO] kashgari - model saved to /home/Danny/AI-CUP-2020/Danny/kashgari/model/bert-chinese_epoch_128_batch_1024\n"
     ]
    },
    {
     "data": {
      "text/plain": [
       "'/home/Danny/AI-CUP-2020/Danny/kashgari/model/bert-chinese_epoch_128_batch_1024'"
      ]
     },
     "execution_count": 14,
     "metadata": {},
     "output_type": "execute_result"
    }
   ],
   "source": [
    "model.evaluate(test_x, test_y)\n",
    "model_path = 'model/{}_epoch_{}_batch_{}'.format(model_name, epochs, batch_size)\n",
    "model.save(model_path)"
   ]
  },
  {
   "cell_type": "code",
   "execution_count": 15,
   "metadata": {},
   "outputs": [
    {
     "data": {
      "image/png": "[encoded data removed]",
      "text/plain": [
       "<Figure size 432x288 with 1 Axes>"
      ]
     },
     "metadata": {
      "needs_background": "light"
     },
     "output_type": "display_data"
    }
   ],
   "source": [
    "plt.plot(history.history['accuracy'])\n",
    "plt.plot(history.history['val_accuracy'])\n",
    "plt.plot(history.history['loss'])\n",
    "plt.plot(history.history['val_loss'])\n",
    "plt.title('model accuracy')\n",
    "plt.ylabel('accuracy')\n",
    "plt.xlabel('epoch')\n",
    "plt.legend(['accuracy', 'val_accuracy', 'loss', 'val_loss'])\n",
    "plt.show()"
   ]
  },
  {
   "cell_type": "code",
   "execution_count": 16,
   "metadata": {},
   "outputs": [],
   "source": [
    "# 需要儲存article_id, 轉成dataframe\n",
    "def predicting_txt_to_dataframe(path):    \n",
    "    with open(path, 'r') as f:\n",
    "        txt = str(f.read())\n",
    "        txt_list = txt.split('\\n')\n",
    "    row_list = list()\n",
    "    tmp_list = list()\n",
    "    for row in txt_list:\n",
    "        if row == '--------------------':\n",
    "            tmp_list[0] = tmp_list[0].replace('article_id:', '')\n",
    "            tmp_list[0] = int(tmp_list[0])\n",
    "            row_list.append(tmp_list)\n",
    "            tmp_list = list()\n",
    "            continue\n",
    "        if len(row) > 0:\n",
    "            tmp_list.append(row)\n",
    "    df = pd.DataFrame(row_list, columns=['article_id','text'])\n",
    "    return df"
   ]
  },
  {
   "cell_type": "code",
   "execution_count": 17,
   "metadata": {},
   "outputs": [],
   "source": [
    "def predict_NER(text):\n",
    "    x_list = list()    \n",
    "    text_list = re.split('\\uff0c|\\u3002|\\uff1f', text)\n",
    "    for article in text_list:\n",
    "        x_list.append([i for i in article])\n",
    "    y_list_list = model.predict(x_list)\n",
    "    y_list = list()\n",
    "    for sentence in y_list_list:\n",
    "        for word in sentence:\n",
    "            y_list.append(word)\n",
    "        y_list.append('O') # append(，。？)\n",
    "    y_list = y_list[:-1]\n",
    "    return y_list"
   ]
  },
  {
   "cell_type": "code",
   "execution_count": 18,
   "metadata": {},
   "outputs": [],
   "source": [
    "def output_NER(article_id, text, y_list):\n",
    "    output_str = str()\n",
    "    flag = False\n",
    "    for i, j in enumerate(y_list):\n",
    "        if j != 'O':\n",
    "            if j[0] == 'B':\n",
    "                start_position = i\n",
    "                entity_type = j.split('-')[-1]\n",
    "                flag = True\n",
    "        elif j == 'O' and flag == True:\n",
    "            end_position = i\n",
    "            flag = False\n",
    "            entity_text = text[start_position: end_position]\n",
    "            entity = '{}\\t{}\\t{}\\t{}\\t{}\\n'.format(article_id, start_position, end_position, entity_text, entity_type)  \n",
    "            output_str += entity\n",
    "    return output_str"
   ]
  },
  {
   "cell_type": "code",
   "execution_count": null,
   "metadata": {},
   "outputs": [
    {
     "name": "stderr",
     "output_type": "stream",
     "text": [
      "2020-12-15 11:26:53,120 [DEBUG] kashgari - predict seq_length: None, input: (2, 70, 17)\n"
     ]
    },
    {
     "name": "stdout",
     "output_type": "stream",
     "text": [
      "3/3 [==============================] - 0s 23ms/step\n"
     ]
    },
    {
     "name": "stderr",
     "output_type": "stream",
     "text": [
      "2020-12-15 11:26:57,009 [DEBUG] kashgari - predict output: (70, 17)\n",
      "2020-12-15 11:26:57,010 [DEBUG] kashgari - predict output argmax: [[0 1 1 ... 1 0 1]\n",
      " [0 1 1 ... 1 1 1]\n",
      " [0 1 1 ... 1 1 1]\n",
      " ...\n",
      " [0 1 0 ... 1 1 1]\n",
      " [0 1 1 ... 1 1 1]\n",
      " [0 0 0 ... 0 0 0]]\n",
      "2020-12-15 11:26:57,014 [DEBUG] kashgari - predict seq_length: None, input: (2, 131, 28)\n"
     ]
    },
    {
     "name": "stdout",
     "output_type": "stream",
     "text": [
      "5/5 [==============================] - 0s 38ms/step\n"
     ]
    },
    {
     "name": "stderr",
     "output_type": "stream",
     "text": [
      "2020-12-15 11:27:01,365 [DEBUG] kashgari - predict output: (131, 28)\n",
      "2020-12-15 11:27:01,366 [DEBUG] kashgari - predict output argmax: [[0 1 1 ... 1 1 1]\n",
      " [0 1 1 ... 1 1 1]\n",
      " [0 1 1 ... 1 1 1]\n",
      " ...\n",
      " [0 1 1 ... 1 1 1]\n",
      " [0 1 1 ... 1 1 1]\n",
      " [0 0 0 ... 0 0 0]]\n",
      "2020-12-15 11:27:01,371 [DEBUG] kashgari - predict seq_length: None, input: (2, 198, 47)\n"
     ]
    },
    {
     "name": "stdout",
     "output_type": "stream",
     "text": [
      "7/7 [==============================] - 0s 59ms/step\n"
     ]
    },
    {
     "name": "stderr",
     "output_type": "stream",
     "text": [
      "2020-12-15 11:27:06,096 [DEBUG] kashgari - predict output: (198, 47)\n",
      "2020-12-15 11:27:06,097 [DEBUG] kashgari - predict output argmax: [[0 1 1 ... 1 1 1]\n",
      " [0 1 1 ... 1 1 1]\n",
      " [0 1 1 ... 1 1 1]\n",
      " ...\n",
      " [0 1 1 ... 1 1 1]\n",
      " [0 1 1 ... 1 1 1]\n",
      " [0 1 1 ... 1 1 1]]\n",
      "2020-12-15 11:27:06,099 [DEBUG] kashgari - predict seq_length: None, input: (2, 96, 41)\n"
     ]
    },
    {
     "name": "stdout",
     "output_type": "stream",
     "text": [
      "3/3 [==============================] - 0s 37ms/step\n"
     ]
    },
    {
     "name": "stderr",
     "output_type": "stream",
     "text": [
      "2020-12-15 11:27:08,815 [DEBUG] kashgari - predict output: (96, 41)\n",
      "2020-12-15 11:27:08,817 [DEBUG] kashgari - predict output argmax: [[0 1 1 ... 1 1 1]\n",
      " [0 1 1 ... 1 1 1]\n",
      " [0 1 1 ... 1 1 1]\n",
      " ...\n",
      " [0 1 1 ... 1 1 1]\n",
      " [0 1 1 ... 1 1 1]\n",
      " [0 0 0 ... 0 0 0]]\n",
      "2020-12-15 11:27:08,819 [DEBUG] kashgari - predict seq_length: None, input: (2, 73, 17)\n"
     ]
    },
    {
     "name": "stdout",
     "output_type": "stream",
     "text": [
      "3/3 [==============================] - 0s 22ms/step\n"
     ]
    },
    {
     "name": "stderr",
     "output_type": "stream",
     "text": [
      "2020-12-15 11:27:08,947 [DEBUG] kashgari - predict output: (73, 17)\n",
      "2020-12-15 11:27:08,948 [DEBUG] kashgari - predict output argmax: [[0 1 1 ... 1 1 1]\n",
      " [0 1 9 ... 1 1 1]\n",
      " [0 1 1 ... 1 1 1]\n",
      " ...\n",
      " [0 1 1 ... 1 1 1]\n",
      " [0 1 0 ... 1 1 1]\n",
      " [0 0 0 ... 0 0 0]]\n",
      "2020-12-15 11:27:08,954 [DEBUG] kashgari - predict seq_length: None, input: (2, 266, 23)\n"
     ]
    },
    {
     "name": "stdout",
     "output_type": "stream",
     "text": [
      "9/9 [==============================] - 0s 40ms/step\n"
     ]
    },
    {
     "name": "stderr",
     "output_type": "stream",
     "text": [
      "2020-12-15 11:27:13,027 [DEBUG] kashgari - predict output: (266, 23)\n",
      "2020-12-15 11:27:13,028 [DEBUG] kashgari - predict output argmax: [[0 1 1 ... 1 1 1]\n",
      " [0 1 1 ... 1 1 1]\n",
      " [0 1 1 ... 1 1 1]\n",
      " ...\n",
      " [0 1 1 ... 1 1 1]\n",
      " [0 1 1 ... 1 1 1]\n",
      " [0 1 1 ... 1 1 1]]\n",
      "2020-12-15 11:27:13,033 [DEBUG] kashgari - predict seq_length: None, input: (2, 308, 21)\n"
     ]
    },
    {
     "name": "stdout",
     "output_type": "stream",
     "text": [
      "10/10 [==============================] - 0s 38ms/step\n"
     ]
    },
    {
     "name": "stderr",
     "output_type": "stream",
     "text": [
      "2020-12-15 11:27:17,158 [DEBUG] kashgari - predict output: (308, 21)\n",
      "2020-12-15 11:27:17,159 [DEBUG] kashgari - predict output argmax: [[0 1 1 ... 1 1 1]\n",
      " [0 1 0 ... 1 1 1]\n",
      " [0 1 1 ... 1 1 1]\n",
      " ...\n",
      " [0 1 1 ... 1 1 1]\n",
      " [0 1 0 ... 1 1 1]\n",
      " [0 0 0 ... 0 0 0]]\n",
      "2020-12-15 11:27:17,163 [DEBUG] kashgari - predict seq_length: None, input: (2, 139, 38)\n"
     ]
    },
    {
     "name": "stdout",
     "output_type": "stream",
     "text": [
      "5/5 [==============================] - 0s 45ms/step\n"
     ]
    },
    {
     "name": "stderr",
     "output_type": "stream",
     "text": [
      "2020-12-15 11:27:21,104 [DEBUG] kashgari - predict output: (139, 38)\n",
      "2020-12-15 11:27:21,105 [DEBUG] kashgari - predict output argmax: [[0 1 1 ... 1 1 1]\n",
      " [0 1 1 ... 1 1 1]\n",
      " [0 1 1 ... 1 1 1]\n",
      " ...\n",
      " [0 1 1 ... 1 1 1]\n",
      " [0 1 1 ... 1 1 1]\n",
      " [0 0 0 ... 0 0 0]]\n",
      "2020-12-15 11:27:21,108 [DEBUG] kashgari - predict seq_length: None, input: (2, 167, 22)\n"
     ]
    },
    {
     "name": "stdout",
     "output_type": "stream",
     "text": [
      "6/6 [==============================] - 0s 33ms/step\n"
     ]
    },
    {
     "name": "stderr",
     "output_type": "stream",
     "text": [
      "2020-12-15 11:27:25,535 [DEBUG] kashgari - predict output: (167, 22)\n",
      "2020-12-15 11:27:25,536 [DEBUG] kashgari - predict output argmax: [[0 1 1 ... 5 5 5]\n",
      " [0 1 1 ... 1 1 1]\n",
      " [0 1 0 ... 1 1 1]\n",
      " ...\n",
      " [0 1 1 ... 1 1 1]\n",
      " [0 1 1 ... 4 4 4]\n",
      " [0 0 0 ... 0 0 0]]\n",
      "2020-12-15 11:27:25,541 [DEBUG] kashgari - predict seq_length: None, input: (2, 272, 41)\n"
     ]
    },
    {
     "name": "stdout",
     "output_type": "stream",
     "text": [
      "9/9 [==============================] - 0s 55ms/step\n"
     ]
    },
    {
     "name": "stderr",
     "output_type": "stream",
     "text": [
      "2020-12-15 11:27:30,034 [DEBUG] kashgari - predict output: (272, 41)\n",
      "2020-12-15 11:27:30,036 [DEBUG] kashgari - predict output argmax: [[0 1 1 ... 5 5 5]\n",
      " [0 1 7 ... 4 4 4]\n",
      " [0 1 1 ... 1 1 1]\n",
      " ...\n",
      " [0 1 1 ... 1 1 1]\n",
      " [0 1 1 ... 1 1 1]\n",
      " [0 0 0 ... 0 0 0]]\n",
      "2020-12-15 11:27:30,042 [DEBUG] kashgari - predict seq_length: None, input: (2, 143, 63)\n"
     ]
    },
    {
     "name": "stdout",
     "output_type": "stream",
     "text": [
      "5/5 [==============================] - 0s 71ms/step\n"
     ]
    },
    {
     "name": "stderr",
     "output_type": "stream",
     "text": [
      "2020-12-15 11:27:34,632 [DEBUG] kashgari - predict output: (143, 63)\n",
      "2020-12-15 11:27:34,633 [DEBUG] kashgari - predict output argmax: [[0 1 1 ... 1 1 1]\n",
      " [0 1 1 ... 1 1 1]\n",
      " [0 1 1 ... 1 1 1]\n",
      " ...\n",
      " [0 1 1 ... 1 1 1]\n",
      " [0 1 1 ... 1 1 1]\n",
      " [0 0 0 ... 0 0 0]]\n",
      "2020-12-15 11:27:34,640 [DEBUG] kashgari - predict seq_length: None, input: (2, 663, 42)\n"
     ]
    },
    {
     "name": "stdout",
     "output_type": "stream",
     "text": [
      "21/21 [==============================] - 1s 59ms/step\n"
     ]
    },
    {
     "name": "stderr",
     "output_type": "stream",
     "text": [
      "2020-12-15 11:27:39,620 [DEBUG] kashgari - predict output: (663, 42)\n",
      "2020-12-15 11:27:39,621 [DEBUG] kashgari - predict output argmax: [[0 1 1 ... 1 1 1]\n",
      " [0 1 1 ... 1 1 1]\n",
      " [0 1 1 ... 1 1 1]\n",
      " ...\n",
      " [0 1 1 ... 1 1 1]\n",
      " [0 1 1 ... 1 1 1]\n",
      " [0 0 0 ... 0 0 0]]\n",
      "2020-12-15 11:27:39,623 [DEBUG] kashgari - predict seq_length: None, input: (2, 39, 25)\n"
     ]
    },
    {
     "name": "stdout",
     "output_type": "stream",
     "text": [
      "2/2 [==============================] - 0s 16ms/step\n"
     ]
    },
    {
     "name": "stderr",
     "output_type": "stream",
     "text": [
      "2020-12-15 11:27:43,355 [DEBUG] kashgari - predict output: (39, 25)\n",
      "2020-12-15 11:27:43,359 [DEBUG] kashgari - predict output argmax: [[0 1 1 1 1 0 1 1 1 1 1 1 1 1 1 1 1 1 1 1 1 1 1 1 1]\n",
      " [0 1 1 1 1 0 1 1 1 1 1 1 1 1 1 1 1 1 1 1 1 1 1 1 1]\n",
      " [0 1 1 1 1 1 1 1 1 1 1 1 1 1 1 1 0 1 1 1 1 1 1 1 1]\n",
      " [0 1 1 1 1 1 1 1 1 1 1 0 1 1 1 1 1 1 1 1 1 1 1 1 1]\n",
      " [0 1 1 1 1 1 1 1 1 1 1 1 0 1 1 1 1 1 1 1 1 1 1 1 1]\n",
      " [0 1 1 1 1 0 1 1 1 1 1 1 1 1 1 1 1 1 1 1 1 1 1 1 1]\n",
      " [0 1 1 1 0 1 1 1 1 1 1 1 1 1 1 1 1 1 1 1 1 1 1 1 1]\n",
      " [0 1 1 1 1 0 1 1 1 1 1 1 1 1 1 1 1 1 1 1 1 1 1 1 1]\n",
      " [0 1 1 0 1 1 1 1 1 1 1 1 1 1 1 1 1 1 1 1 1 1 1 1 1]\n",
      " [0 1 1 1 1 1 1 1 1 1 1 1 0 1 1 1 1 1 1 1 1 1 1 1 1]\n",
      " [0 1 1 1 1 1 1 1 1 1 0 1 1 1 1 1 1 1 1 1 1 1 1 1 1]\n",
      " [0 1 1 1 1 1 1 0 1 1 1 1 1 1 1 1 1 1 1 1 1 1 1 1 1]\n",
      " [0 1 1 1 1 0 1 1 1 1 1 1 1 1 1 1 1 1 1 1 1 1 1 1 1]\n",
      " [0 1 1 1 1 0 1 1 1 1 1 1 1 1 1 1 1 1 1 1 1 1 1 1 1]\n",
      " [0 1 1 1 1 1 1 1 1 1 1 1 1 1 0 1 1 1 1 1 1 1 1 1 1]\n",
      " [0 1 1 1 1 0 1 1 1 1 1 1 1 1 1 1 1 1 1 1 1 1 1 1 1]\n",
      " [0 1 1 1 0 1 1 1 1 1 1 1 1 1 1 1 1 1 1 1 1 1 1 1 1]\n",
      " [0 1 1 1 1 1 1 1 1 1 1 1 1 1 0 1 1 1 1 1 1 1 1 1 1]\n",
      " [0 1 1 1 1 1 0 1 1 1 1 1 1 1 1 1 1 1 1 1 1 1 1 1 1]\n",
      " [0 1 1 1 1 1 1 1 1 1 1 1 1 1 1 1 1 0 1 1 1 1 1 1 1]\n",
      " [0 1 1 1 1 3 2 1 1 1 1 0 1 1 1 1 1 1 1 1 1 1 1 1 1]\n",
      " [0 1 1 1 1 0 1 1 1 1 1 1 1 1 1 1 1 1 1 1 1 1 1 1 1]\n",
      " [0 1 1 1 1 1 1 1 1 1 1 0 1 1 1 1 1 1 1 1 1 1 1 1 1]\n",
      " [0 1 1 1 1 0 1 1 1 1 1 1 1 1 1 1 1 1 1 1 1 1 1 1 1]\n",
      " [0 1 1 1 1 1 0 1 1 1 1 1 1 1 1 1 1 1 1 1 1 1 1 1 1]\n",
      " [0 1 1 1 1 0 1 1 1 1 1 1 1 1 1 1 1 1 1 1 1 1 1 1 1]\n",
      " [0 1 1 1 1 1 1 1 1 1 1 1 1 1 1 1 1 1 1 1 1 1 1 1 0]\n",
      " [0 1 1 1 1 0 1 1 1 1 1 1 1 1 1 1 1 1 1 1 1 1 1 1 1]\n",
      " [0 1 1 1 0 1 1 1 1 1 1 1 1 1 1 1 1 1 1 1 1 1 1 1 1]\n",
      " [0 1 1 1 1 1 0 1 1 1 1 1 1 1 1 1 1 1 1 1 1 1 1 1 1]\n",
      " [0 1 1 1 1 1 0 1 1 1 1 1 1 1 1 1 1 1 1 1 1 1 1 1 1]\n",
      " [0 1 0 1 1 1 1 1 1 1 1 1 1 1 1 1 1 1 1 1 1 1 1 1 1]\n",
      " [0 1 1 1 1 1 1 1 1 1 1 1 0 1 1 1 1 1 1 1 1 1 1 1 1]\n",
      " [0 1 1 1 1 0 1 1 1 1 1 1 1 1 1 1 1 1 1 1 1 1 1 1 1]\n",
      " [0 1 1 1 1 3 2 2 2 1 1 1 1 1 0 1 1 1 1 1 1 1 1 1 1]\n",
      " [0 1 1 1 1 0 1 1 1 1 1 1 1 1 1 1 1 1 1 1 1 1 1 1 1]\n",
      " [0 1 1 1 1 1 0 1 1 1 1 1 1 1 1 1 1 1 1 1 1 1 1 1 1]\n",
      " [0 1 1 0 1 1 1 1 1 1 1 1 1 1 1 1 1 1 1 1 1 1 1 1 1]\n",
      " [0 0 0 0 0 0 0 0 0 0 0 0 0 0 0 0 0 0 0 0 0 0 0 0 0]]\n",
      "2020-12-15 11:27:43,362 [DEBUG] kashgari - predict seq_length: None, input: (2, 175, 22)\n"
     ]
    },
    {
     "name": "stdout",
     "output_type": "stream",
     "text": [
      "6/6 [==============================] - 0s 35ms/step\n"
     ]
    },
    {
     "name": "stderr",
     "output_type": "stream",
     "text": [
      "2020-12-15 11:27:43,646 [DEBUG] kashgari - predict output: (175, 22)\n",
      "2020-12-15 11:27:43,647 [DEBUG] kashgari - predict output argmax: [[0 1 1 ... 1 1 1]\n",
      " [0 1 1 ... 1 1 1]\n",
      " [0 1 1 ... 1 1 1]\n",
      " ...\n",
      " [0 1 1 ... 1 1 1]\n",
      " [0 1 1 ... 1 1 1]\n",
      " [0 0 0 ... 0 0 0]]\n",
      "2020-12-15 11:27:43,651 [DEBUG] kashgari - predict seq_length: None, input: (2, 143, 28)\n"
     ]
    },
    {
     "name": "stdout",
     "output_type": "stream",
     "text": [
      "5/5 [==============================] - 0s 37ms/step\n"
     ]
    },
    {
     "name": "stderr",
     "output_type": "stream",
     "text": [
      "2020-12-15 11:27:43,912 [DEBUG] kashgari - predict output: (143, 28)\n",
      "2020-12-15 11:27:43,913 [DEBUG] kashgari - predict output argmax: [[0 1 1 ... 1 1 1]\n",
      " [0 1 1 ... 1 1 1]\n",
      " [0 1 1 ... 1 1 1]\n",
      " ...\n",
      " [0 1 1 ... 1 1 1]\n",
      " [0 1 1 ... 1 1 1]\n",
      " [0 0 0 ... 0 0 0]]\n",
      "2020-12-15 11:27:43,916 [DEBUG] kashgari - predict seq_length: None, input: (2, 88, 21)\n"
     ]
    },
    {
     "name": "stdout",
     "output_type": "stream",
     "text": [
      "3/3 [==============================] - 0s 25ms/step\n"
     ]
    },
    {
     "name": "stderr",
     "output_type": "stream",
     "text": [
      "2020-12-15 11:27:44,054 [DEBUG] kashgari - predict output: (88, 21)\n",
      "2020-12-15 11:27:44,055 [DEBUG] kashgari - predict output argmax: [[0 1 1 ... 1 1 1]\n",
      " [0 1 1 ... 1 1 1]\n",
      " [0 1 1 ... 1 1 1]\n",
      " ...\n",
      " [0 1 1 ... 1 1 1]\n",
      " [0 1 1 ... 1 1 1]\n",
      " [0 0 0 ... 0 0 0]]\n",
      "2020-12-15 11:27:44,058 [DEBUG] kashgari - predict seq_length: None, input: (2, 121, 28)\n"
     ]
    },
    {
     "name": "stdout",
     "output_type": "stream",
     "text": [
      "4/4 [==============================] - 0s 33ms/step\n"
     ]
    },
    {
     "name": "stderr",
     "output_type": "stream",
     "text": [
      "2020-12-15 11:27:44,266 [DEBUG] kashgari - predict output: (121, 28)\n",
      "2020-12-15 11:27:44,267 [DEBUG] kashgari - predict output argmax: [[0 1 1 ... 1 1 1]\n",
      " [0 1 1 ... 1 1 1]\n",
      " [0 1 1 ... 1 1 1]\n",
      " ...\n",
      " [0 1 1 ... 1 1 1]\n",
      " [0 1 1 ... 1 1 1]\n",
      " [0 0 0 ... 0 0 0]]\n",
      "2020-12-15 11:27:44,269 [DEBUG] kashgari - predict seq_length: None, input: (2, 85, 27)\n"
     ]
    },
    {
     "name": "stdout",
     "output_type": "stream",
     "text": [
      "3/3 [==============================] - 0s 32ms/step\n"
     ]
    },
    {
     "name": "stderr",
     "output_type": "stream",
     "text": [
      "2020-12-15 11:27:48,747 [DEBUG] kashgari - predict output: (85, 27)\n",
      "2020-12-15 11:27:48,748 [DEBUG] kashgari - predict output argmax: [[0 1 1 ... 1 1 1]\n",
      " [0 1 1 ... 1 1 1]\n",
      " [0 1 1 ... 1 1 1]\n",
      " ...\n",
      " [0 1 1 ... 1 1 1]\n",
      " [0 1 1 ... 1 1 1]\n",
      " [0 0 0 ... 0 0 0]]\n",
      "2020-12-15 11:27:48,753 [DEBUG] kashgari - predict seq_length: None, input: (2, 255, 19)\n"
     ]
    },
    {
     "name": "stdout",
     "output_type": "stream",
     "text": [
      "8/8 [==============================] - 0s 36ms/step\n"
     ]
    },
    {
     "name": "stderr",
     "output_type": "stream",
     "text": [
      "2020-12-15 11:27:52,764 [DEBUG] kashgari - predict output: (255, 19)\n",
      "2020-12-15 11:27:52,765 [DEBUG] kashgari - predict output argmax: [[0 1 1 ... 1 1 1]\n",
      " [0 1 1 ... 1 1 1]\n",
      " [0 1 1 ... 1 1 1]\n",
      " ...\n",
      " [0 1 1 ... 1 1 1]\n",
      " [0 1 1 ... 1 1 1]\n",
      " [0 0 0 ... 0 0 0]]\n",
      "2020-12-15 11:27:52,769 [DEBUG] kashgari - predict seq_length: None, input: (2, 202, 29)\n"
     ]
    },
    {
     "name": "stdout",
     "output_type": "stream",
     "text": [
      "7/7 [==============================] - 0s 42ms/step\n"
     ]
    },
    {
     "name": "stderr",
     "output_type": "stream",
     "text": [
      "2020-12-15 11:27:56,885 [DEBUG] kashgari - predict output: (202, 29)\n",
      "2020-12-15 11:27:56,886 [DEBUG] kashgari - predict output argmax: [[0 1 1 ... 1 1 1]\n",
      " [0 1 1 ... 1 1 1]\n",
      " [0 1 1 ... 1 1 0]\n",
      " ...\n",
      " [0 1 1 ... 1 1 1]\n",
      " [0 1 1 ... 1 1 1]\n",
      " [0 0 0 ... 0 0 0]]\n",
      "2020-12-15 11:27:56,889 [DEBUG] kashgari - predict seq_length: None, input: (2, 198, 19)\n"
     ]
    },
    {
     "name": "stdout",
     "output_type": "stream",
     "text": [
      "7/7 [==============================] - 0s 33ms/step\n"
     ]
    },
    {
     "name": "stderr",
     "output_type": "stream",
     "text": [
      "2020-12-15 11:27:57,187 [DEBUG] kashgari - predict output: (198, 19)\n",
      "2020-12-15 11:27:57,188 [DEBUG] kashgari - predict output argmax: [[0 1 1 ... 1 1 1]\n",
      " [0 1 1 ... 1 1 1]\n",
      " [0 1 1 ... 1 1 1]\n",
      " ...\n",
      " [0 1 1 ... 1 1 1]\n",
      " [0 1 1 ... 6 6 6]\n",
      " [0 0 0 ... 0 0 0]]\n",
      "2020-12-15 11:27:57,191 [DEBUG] kashgari - predict seq_length: None, input: (2, 102, 39)\n"
     ]
    },
    {
     "name": "stdout",
     "output_type": "stream",
     "text": [
      "4/4 [==============================] - 0s 41ms/step\n"
     ]
    },
    {
     "name": "stderr",
     "output_type": "stream",
     "text": [
      "2020-12-15 11:28:01,147 [DEBUG] kashgari - predict output: (102, 39)\n",
      "2020-12-15 11:28:01,148 [DEBUG] kashgari - predict output argmax: [[0 1 1 ... 1 1 1]\n",
      " [0 1 1 ... 1 1 1]\n",
      " [0 1 1 ... 1 1 1]\n",
      " ...\n",
      " [0 1 1 ... 1 1 1]\n",
      " [0 1 1 ... 1 1 1]\n",
      " [0 0 0 ... 0 0 0]]\n",
      "2020-12-15 11:28:01,150 [DEBUG] kashgari - predict seq_length: None, input: (2, 72, 36)\n"
     ]
    },
    {
     "name": "stdout",
     "output_type": "stream",
     "text": [
      "3/3 [==============================] - 0s 33ms/step\n"
     ]
    },
    {
     "name": "stderr",
     "output_type": "stream",
     "text": [
      "2020-12-15 11:28:05,402 [DEBUG] kashgari - predict output: (72, 36)\n",
      "2020-12-15 11:28:05,403 [DEBUG] kashgari - predict output argmax: [[0 1 1 ... 1 1 1]\n",
      " [0 1 0 ... 1 1 1]\n",
      " [0 1 1 ... 1 1 1]\n",
      " ...\n",
      " [0 1 1 ... 1 1 1]\n",
      " [0 1 1 ... 1 1 1]\n",
      " [0 0 0 ... 0 0 0]]\n",
      "2020-12-15 11:28:05,408 [DEBUG] kashgari - predict seq_length: None, input: (2, 246, 27)\n"
     ]
    },
    {
     "name": "stdout",
     "output_type": "stream",
     "text": [
      "8/8 [==============================] - 0s 44ms/step\n"
     ]
    },
    {
     "name": "stderr",
     "output_type": "stream",
     "text": [
      "2020-12-15 11:28:05,842 [DEBUG] kashgari - predict output: (246, 27)\n",
      "2020-12-15 11:28:05,843 [DEBUG] kashgari - predict output argmax: [[0 1 1 ... 1 1 1]\n",
      " [0 1 1 ... 1 1 1]\n",
      " [0 1 1 ... 1 1 1]\n",
      " ...\n",
      " [0 1 1 ... 1 1 1]\n",
      " [0 1 1 ... 1 1 1]\n",
      " [0 0 0 ... 0 0 0]]\n",
      "2020-12-15 11:28:05,846 [DEBUG] kashgari - predict seq_length: None, input: (2, 57, 34)\n"
     ]
    }
   ],
   "source": [
    "df = predicting_txt_to_dataframe('/home/Danny/AI-CUP-2020/datasets/stage5/test.txt')\n",
    "output_str = \"article_id\\tstart_position\\tend_position\\tentity_text\\tentity_type\\n\"\n",
    "\n",
    "for article_id, text in zip(df['article_id'], df['text']):\n",
    "    x_list = [word for word in text]\n",
    "    y_list = predict_NER(text)\n",
    "    output_str += output_NER(article_id, text, y_list)"
   ]
  },
  {
   "cell_type": "code",
   "execution_count": null,
   "metadata": {},
   "outputs": [],
   "source": [
    "output_path = 'output/{}_epoch_{}_batch_{}.tsv'.format(model_name, epochs, batch_size)\n",
    "with open(output_path, 'w', encoding='utf-8') as f:\n",
    "    f.write(output_str)"
   ]
  },
  {
   "cell_type": "code",
   "execution_count": null,
   "metadata": {},
   "outputs": [],
   "source": [
    "df = pd.read_csv(output_path, sep='\\t')\n",
    "df"
   ]
  },
  {
   "cell_type": "code",
   "execution_count": null,
   "metadata": {},
   "outputs": [],
   "source": []
  }
 ],
 "metadata": {
  "kernelspec": {
   "display_name": "Python 3",
   "language": "python",
   "name": "python3"
  },
  "language_info": {
   "codemirror_mode": {
    "name": "ipython",
    "version": 3
   },
   "file_extension": ".py",
   "mimetype": "text/x-python",
   "name": "python",
   "nbconvert_exporter": "python",
   "pygments_lexer": "ipython3",
   "version": "3.6.10"
  }
 },
 "nbformat": 4,
 "nbformat_minor": 4
}
