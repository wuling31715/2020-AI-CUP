{
 "cells": [
  {
   "cell_type": "code",
   "execution_count": 1,
   "metadata": {},
   "outputs": [],
   "source": [
    "import re\n",
    "import os\n",
    "import pandas as pd\n",
    "import tensorflow as tf\n",
    "from matplotlib import pyplot as plt"
   ]
  },
  {
   "cell_type": "code",
   "execution_count": 2,
   "metadata": {},
   "outputs": [],
   "source": [
    "def select_gpu(N):\n",
    "    gpus = tf.config.experimental.list_physical_devices('GPU')\n",
    "    print(gpus)\n",
    "    if gpus:\n",
    "        try:\n",
    "            for gpu in gpus:\n",
    "                tf.config.experimental.set_memory_growth(gpu, True)\n",
    "            tf.config.experimental.set_visible_devices(gpus[N], 'GPU')\n",
    "            logical_gpus = tf.config.experimental.list_logical_devices('GPU')\n",
    "            print(len(gpus), \"Physical GPUs,\", len(logical_gpus), \"Logical GPUs\")\n",
    "        except RuntimeError as e:\n",
    "            print(e)    "
   ]
  },
  {
   "cell_type": "code",
   "execution_count": 3,
   "metadata": {},
   "outputs": [
    {
     "name": "stdout",
     "output_type": "stream",
     "text": [
      "[PhysicalDevice(name='/physical_device:GPU:0', device_type='GPU'), PhysicalDevice(name='/physical_device:GPU:1', device_type='GPU'), PhysicalDevice(name='/physical_device:GPU:2', device_type='GPU')]\n",
      "3 Physical GPUs, 1 Logical GPUs\n"
     ]
    }
   ],
   "source": [
    "select_gpu(2)\n",
    "epochs = 200\n",
    "batch_size = 128\n",
    "model_name = 'roberta-chinese'\n",
    "embedding_path = '/home/Danny/pretrain_model/{}'.format(model_name)"
   ]
  },
  {
   "cell_type": "code",
   "execution_count": 4,
   "metadata": {},
   "outputs": [],
   "source": [
    "# 不用儲存article_id, 轉成list\n",
    "def training_txt_to_list(path):\n",
    "    with open(path, 'r') as f:\n",
    "        txt = str(f.read())\n",
    "    txt_list = txt.split('\\n')\n",
    "    text_label_list = list()\n",
    "    tmp = list()\n",
    "    for line in txt_list:\n",
    "        if line == '--------------------':\n",
    "            text_label_list.append(tmp)\n",
    "            tmp = list()\n",
    "            continue\n",
    "        if line == '':\n",
    "            continue\n",
    "        tmp.append(line)\n",
    "    x = list()\n",
    "    y = list()\n",
    "    for text_label in text_label_list:\n",
    "        text = text_label[0]\n",
    "        label = text_label[2:]\n",
    "        label_list = ['O' for i in range(len(text))]\n",
    "        for i in label:\n",
    "            entity = i.split('\\t')\n",
    "            if int(entity[1]) > int(entity[2]):\n",
    "                continue\n",
    "            b = int(entity[1])\n",
    "            label_list[b] = 'B-{}'.format(entity[-1])\n",
    "            for j in range(int(entity[1])+1, int(entity[2])):\n",
    "                label_list[j] = 'I-{}'.format(entity[-1])\n",
    "        for i, j in enumerate(text):\n",
    "            if j == '，' or j == '。' or j == '？':\n",
    "                label_list[i] = j\n",
    "                \n",
    "        text_list = re.split('\\uff0c|\\u3002|\\uff1f', text)\n",
    "        for sentence in text_list:\n",
    "            x.append([i for i in sentence])\n",
    "        x = x[:-1]\n",
    "            \n",
    "        sentence = list()\n",
    "        for i in label_list:\n",
    "            if i == '，' or i == '。' or i == '？':\n",
    "                y.append(sentence)\n",
    "                sentence = list()\n",
    "            else:\n",
    "                sentence.append(i)\n",
    "                \n",
    "    return [x, y]"
   ]
  },
  {
   "cell_type": "code",
   "execution_count": 5,
   "metadata": {},
   "outputs": [],
   "source": [
    "x1, y1 = training_txt_to_list('/home/Danny/AI-CUP-2020/datasets/stage1/SampleData_deid.txt')"
   ]
  },
  {
   "cell_type": "code",
   "execution_count": 6,
   "metadata": {},
   "outputs": [],
   "source": [
    "x2, y2 = training_txt_to_list('/home/Danny/AI-CUP-2020/datasets/stage2/train_1_update.txt')"
   ]
  },
  {
   "cell_type": "code",
   "execution_count": 7,
   "metadata": {},
   "outputs": [],
   "source": [
    "x4, y4 = training_txt_to_list('/home/Danny/AI-CUP-2020/datasets/stage4/train_2.txt')"
   ]
  },
  {
   "cell_type": "code",
   "execution_count": 8,
   "metadata": {},
   "outputs": [
    {
     "name": "stdout",
     "output_type": "stream",
     "text": [
      "76162\n",
      "76162\n"
     ]
    }
   ],
   "source": [
    "x = x1 + x2 + x4\n",
    "y = y1 + y2 + y4\n",
    "print(len(x))\n",
    "print(len(y))"
   ]
  },
  {
   "cell_type": "code",
   "execution_count": 9,
   "metadata": {},
   "outputs": [
    {
     "name": "stdout",
     "output_type": "stream",
     "text": [
      "48743 48743\n",
      "12186 12186\n",
      "15233 15233\n"
     ]
    }
   ],
   "source": [
    "from sklearn.model_selection import train_test_split\n",
    "train_x, test_x, train_y, test_y = train_test_split(x, y, test_size=0.2, random_state=42)\n",
    "train_x, valid_x, train_y, valid_y = train_test_split(train_x, train_y, test_size=0.2, random_state=42)\n",
    "print(len(train_x), len(train_y))\n",
    "print(len(valid_x), len(valid_y))\n",
    "print(len(test_x), len(test_y))"
   ]
  },
  {
   "cell_type": "code",
   "execution_count": null,
   "metadata": {},
   "outputs": [
    {
     "name": "stderr",
     "output_type": "stream",
     "text": [
      "2020-12-13 20:47:17,179 [DEBUG] kashgari - ------------------------------------------------\n",
      "2020-12-13 20:47:17,180 [DEBUG] kashgari - Loaded transformer model's vocab\n",
      "2020-12-13 20:47:17,180 [DEBUG] kashgari - config_path       : /home/Danny/pretrain_model/roberta-chinese/bert_config.json\n",
      "2020-12-13 20:47:17,181 [DEBUG] kashgari - vocab_path      : /home/Danny/pretrain_model/roberta-chinese/vocab.txt\n",
      "2020-12-13 20:47:17,181 [DEBUG] kashgari - checkpoint_path : /home/Danny/pretrain_model/roberta-chinese/bert_model.ckpt\n",
      "2020-12-13 20:47:17,182 [DEBUG] kashgari - Top 50 words    : ['[PAD]', '[unused1]', '[unused2]', '[unused3]', '[unused4]', '[unused5]', '[unused6]', '[unused7]', '[unused8]', '[unused9]', '[unused10]', '[unused11]', '[unused12]', '[unused13]', '[unused14]', '[unused15]', '[unused16]', '[unused17]', '[unused18]', '[unused19]', '[unused20]', '[unused21]', '[unused22]', '[unused23]', '[unused24]', '[unused25]', '[unused26]', '[unused27]', '[unused28]', '[unused29]', '[unused30]', '[unused31]', '[unused32]', '[unused33]', '[unused34]', '[unused35]', '[unused36]', '[unused37]', '[unused38]', '[unused39]', '[unused40]', '[unused41]', '[unused42]', '[unused43]', '[unused44]', '[unused45]', '[unused46]', '[unused47]', '[unused48]', '[unused49]']\n",
      "2020-12-13 20:47:17,182 [DEBUG] kashgari - ------------------------------------------------\n",
      "Preparing text vocab dict: 100%|██████████| 48743/48743 [00:00<00:00, 505281.50it/s]\n",
      "Preparing text vocab dict: 100%|██████████| 12186/12186 [00:00<00:00, 497738.67it/s]\n",
      "2020-12-13 20:47:17,307 [DEBUG] kashgari - --- Build vocab dict finished, Total: 1742 ---\n",
      "2020-12-13 20:47:17,308 [DEBUG] kashgari - Top-10: ['[PAD]', '[UNK]', '[CLS]', '[SEP]', '：', '師', '是', '民', '眾', '醫']\n",
      "Preparing text vocab dict: 100%|██████████| 48743/48743 [00:00<00:00, 687778.88it/s]\n",
      "Preparing text vocab dict: 100%|██████████| 12186/12186 [00:00<00:00, 686451.27it/s]\n",
      "2020-12-13 20:47:17,399 [DEBUG] kashgari - --- Build vocab dict finished, Total: 28 ---\n",
      "2020-12-13 20:47:17,400 [DEBUG] kashgari - Top-10: ['[PAD]', 'O', 'I-time', 'B-time', 'I-med_exam', 'I-name', 'I-location', 'B-med_exam', 'I-money', 'B-name']\n",
      "Calculating sequence length: 100%|██████████| 48743/48743 [00:00<00:00, 1581054.23it/s]\n",
      "Calculating sequence length: 100%|██████████| 12186/12186 [00:00<00:00, 1829668.46it/s]\n",
      "2020-12-13 20:47:23,570 [DEBUG] kashgari - Calculated sequence length = 19\n",
      "2020-12-13 20:47:25,088 [DEBUG] kashgari - fit input shape: (2, 128, 19)\n",
      "2020-12-13 20:47:25,089 [DEBUG] kashgari - fit input shape: (128, 19)\n"
     ]
    },
    {
     "name": "stdout",
     "output_type": "stream",
     "text": [
      "Epoch 1/200\n",
      "380/380 [==============================] - 49s 129ms/step - loss: 0.6127 - accuracy: 0.9689 - val_loss: 23.0815 - val_accuracy: 0.9868\n",
      "Epoch 2/200\n",
      "380/380 [==============================] - 46s 121ms/step - loss: 0.1936 - accuracy: 0.9866 - val_loss: 22.6022 - val_accuracy: 0.9882\n",
      "Epoch 3/200\n",
      "380/380 [==============================] - 46s 122ms/step - loss: 0.1473 - accuracy: 0.9882 - val_loss: 22.1363 - val_accuracy: 0.9894\n",
      "Epoch 4/200\n",
      "380/380 [==============================] - 46s 122ms/step - loss: 0.1242 - accuracy: 0.9894 - val_loss: 21.6699 - val_accuracy: 0.9896\n",
      "Epoch 5/200\n",
      "380/380 [==============================] - 46s 122ms/step - loss: 0.1040 - accuracy: 0.9902 - val_loss: 21.2223 - val_accuracy: 0.9885\n",
      "Epoch 6/200\n",
      "380/380 [==============================] - 46s 122ms/step - loss: 0.0910 - accuracy: 0.9909 - val_loss: 20.7881 - val_accuracy: 0.9861\n",
      "Epoch 7/200\n",
      "380/380 [==============================] - 46s 122ms/step - loss: 0.0791 - accuracy: 0.9915 - val_loss: 20.3598 - val_accuracy: 0.9853\n",
      "Epoch 8/200\n",
      "380/380 [==============================] - 46s 122ms/step - loss: 0.0702 - accuracy: 0.9922 - val_loss: 19.9739 - val_accuracy: 0.9815\n",
      "Epoch 9/200\n",
      "380/380 [==============================] - 46s 122ms/step - loss: 0.0641 - accuracy: 0.9925 - val_loss: 19.5909 - val_accuracy: 0.9804\n",
      "Epoch 10/200\n",
      "380/380 [==============================] - 46s 122ms/step - loss: 0.0581 - accuracy: 0.9932 - val_loss: 19.2366 - val_accuracy: 0.9768\n",
      "Epoch 11/200\n",
      "380/380 [==============================] - 46s 122ms/step - loss: 0.0554 - accuracy: 0.9934 - val_loss: 18.8847 - val_accuracy: 0.9649\n",
      "Epoch 12/200\n",
      "380/380 [==============================] - 46s 122ms/step - loss: 0.0498 - accuracy: 0.9937 - val_loss: 18.5634 - val_accuracy: 0.9617\n",
      "Epoch 13/200\n",
      "380/380 [==============================] - 46s 122ms/step - loss: 0.0458 - accuracy: 0.9943 - val_loss: 18.2426 - val_accuracy: 0.9628\n",
      "Epoch 14/200\n",
      "380/380 [==============================] - 46s 122ms/step - loss: 0.0440 - accuracy: 0.9946 - val_loss: 17.9405 - val_accuracy: 0.9471\n",
      "Epoch 15/200\n",
      "380/380 [==============================] - 46s 122ms/step - loss: 0.0407 - accuracy: 0.9948 - val_loss: 17.6654 - val_accuracy: 0.9490\n",
      "Epoch 16/200\n",
      "380/380 [==============================] - 46s 122ms/step - loss: 0.0374 - accuracy: 0.9953 - val_loss: 17.4341 - val_accuracy: 0.9265\n",
      "Epoch 17/200\n",
      "380/380 [==============================] - 46s 122ms/step - loss: 0.0366 - accuracy: 0.9953 - val_loss: 17.1850 - val_accuracy: 0.9284\n",
      "Epoch 18/200\n",
      "380/380 [==============================] - 46s 122ms/step - loss: 0.0334 - accuracy: 0.9957 - val_loss: 16.9411 - val_accuracy: 0.9297\n",
      "Epoch 19/200\n",
      "380/380 [==============================] - 46s 122ms/step - loss: 0.0321 - accuracy: 0.9956 - val_loss: 16.7149 - val_accuracy: 0.8320\n",
      "Epoch 20/200\n",
      "380/380 [==============================] - 46s 122ms/step - loss: 0.0326 - accuracy: 0.9956 - val_loss: 16.4838 - val_accuracy: 0.8289\n",
      "Epoch 21/200\n",
      "380/380 [==============================] - 46s 122ms/step - loss: 0.0289 - accuracy: 0.9961 - val_loss: 16.3001 - val_accuracy: 0.7565\n",
      "Epoch 22/200\n",
      "380/380 [==============================] - 46s 122ms/step - loss: 0.0285 - accuracy: 0.9961 - val_loss: 16.0936 - val_accuracy: 0.7551\n",
      "Epoch 23/200\n",
      "380/380 [==============================] - 46s 122ms/step - loss: 0.0266 - accuracy: 0.9963 - val_loss: 15.8771 - val_accuracy: 0.6929\n",
      "Epoch 24/200\n",
      "380/380 [==============================] - 46s 122ms/step - loss: 0.0250 - accuracy: 0.9967 - val_loss: 15.6756 - val_accuracy: 0.6947\n",
      "Epoch 25/200\n",
      "380/380 [==============================] - 46s 122ms/step - loss: 0.0246 - accuracy: 0.9968 - val_loss: 15.5076 - val_accuracy: 0.6942\n",
      "Epoch 26/200\n",
      "380/380 [==============================] - 46s 122ms/step - loss: 0.0239 - accuracy: 0.9967 - val_loss: 15.3388 - val_accuracy: 0.6273\n",
      "Epoch 27/200\n",
      "380/380 [==============================] - 46s 122ms/step - loss: 0.0241 - accuracy: 0.9969 - val_loss: 15.1775 - val_accuracy: 0.6285\n",
      "Epoch 28/200\n",
      "380/380 [==============================] - 46s 122ms/step - loss: 0.0208 - accuracy: 0.9971 - val_loss: 15.0307 - val_accuracy: 0.5729\n",
      "Epoch 29/200\n",
      "380/380 [==============================] - 46s 122ms/step - loss: 0.0218 - accuracy: 0.9970 - val_loss: 14.9022 - val_accuracy: 0.5731\n",
      "Epoch 30/200\n",
      "380/380 [==============================] - 46s 122ms/step - loss: 0.0231 - accuracy: 0.9968 - val_loss: 14.7712 - val_accuracy: 0.5706\n",
      "Epoch 31/200\n",
      "380/380 [==============================] - 46s 122ms/step - loss: 0.0201 - accuracy: 0.9972 - val_loss: 14.6175 - val_accuracy: 0.5719\n",
      "Epoch 32/200\n",
      "380/380 [==============================] - 46s 122ms/step - loss: 0.0191 - accuracy: 0.9974 - val_loss: 14.4813 - val_accuracy: 0.5711\n",
      "Epoch 33/200\n",
      "380/380 [==============================] - 46s 122ms/step - loss: 0.0195 - accuracy: 0.9974 - val_loss: 14.3523 - val_accuracy: 0.5717\n",
      "Epoch 34/200\n",
      "380/380 [==============================] - 46s 122ms/step - loss: 0.0194 - accuracy: 0.9974 - val_loss: 14.2470 - val_accuracy: 0.5152\n",
      "Epoch 35/200\n",
      "380/380 [==============================] - 46s 122ms/step - loss: 0.0185 - accuracy: 0.9975 - val_loss: 14.1793 - val_accuracy: 0.5150\n",
      "Epoch 36/200\n",
      "380/380 [==============================] - 46s 122ms/step - loss: 0.0205 - accuracy: 0.9972 - val_loss: 14.0755 - val_accuracy: 0.4534\n",
      "Epoch 37/200\n",
      "380/380 [==============================] - 46s 122ms/step - loss: 0.0175 - accuracy: 0.9976 - val_loss: 14.0104 - val_accuracy: 0.4568\n",
      "Epoch 38/200\n",
      "380/380 [==============================] - 46s 122ms/step - loss: 0.0176 - accuracy: 0.9975 - val_loss: 13.9334 - val_accuracy: 0.4553\n",
      "Epoch 39/200\n",
      "380/380 [==============================] - 46s 122ms/step - loss: 0.0178 - accuracy: 0.9976 - val_loss: 13.8292 - val_accuracy: 0.4087\n",
      "Epoch 40/200\n",
      "380/380 [==============================] - 46s 122ms/step - loss: 0.0171 - accuracy: 0.9976 - val_loss: 13.7570 - val_accuracy: 0.4084\n",
      "Epoch 41/200\n",
      "380/380 [==============================] - 46s 122ms/step - loss: 0.0186 - accuracy: 0.9973 - val_loss: 13.6313 - val_accuracy: 0.4078\n",
      "Epoch 42/200\n",
      "380/380 [==============================] - 46s 122ms/step - loss: 0.0177 - accuracy: 0.9976 - val_loss: 13.5270 - val_accuracy: 0.4081\n",
      "Epoch 43/200\n",
      "380/380 [==============================] - 46s 122ms/step - loss: 0.0167 - accuracy: 0.9977 - val_loss: 13.4832 - val_accuracy: 0.3103\n",
      "Epoch 44/200\n",
      "380/380 [==============================] - 46s 122ms/step - loss: 0.0160 - accuracy: 0.9977 - val_loss: 13.3814 - val_accuracy: 0.3569\n",
      "Epoch 45/200\n",
      "380/380 [==============================] - 46s 122ms/step - loss: 0.0175 - accuracy: 0.9976 - val_loss: 13.2772 - val_accuracy: 0.3089\n",
      "Epoch 46/200\n",
      "380/380 [==============================] - 46s 122ms/step - loss: 0.0161 - accuracy: 0.9977 - val_loss: 13.2130 - val_accuracy: 0.3075\n",
      "Epoch 47/200\n",
      "380/380 [==============================] - 46s 122ms/step - loss: 0.0147 - accuracy: 0.9980 - val_loss: 13.1386 - val_accuracy: 0.3087\n",
      "Epoch 48/200\n",
      "380/380 [==============================] - 46s 122ms/step - loss: 0.0153 - accuracy: 0.9979 - val_loss: 13.0906 - val_accuracy: 0.2622\n",
      "Epoch 49/200\n",
      "380/380 [==============================] - 46s 122ms/step - loss: 0.0144 - accuracy: 0.9979 - val_loss: 13.0186 - val_accuracy: 0.2636\n",
      "Epoch 50/200\n",
      "380/380 [==============================] - 46s 122ms/step - loss: 0.0142 - accuracy: 0.9980 - val_loss: 12.9460 - val_accuracy: 0.2634\n",
      "Epoch 51/200\n",
      "380/380 [==============================] - 46s 122ms/step - loss: 0.0156 - accuracy: 0.9979 - val_loss: 12.9050 - val_accuracy: 0.1599\n",
      "Epoch 52/200\n",
      "380/380 [==============================] - 46s 122ms/step - loss: 0.0164 - accuracy: 0.9978 - val_loss: 12.8703 - val_accuracy: 0.1601\n",
      "Epoch 53/200\n",
      "380/380 [==============================] - 46s 122ms/step - loss: 0.0148 - accuracy: 0.9980 - val_loss: 12.8274 - val_accuracy: 0.1346\n",
      "Epoch 54/200\n",
      "380/380 [==============================] - 46s 122ms/step - loss: 0.0142 - accuracy: 0.9980 - val_loss: 12.7259 - val_accuracy: 0.1351\n",
      "Epoch 55/200\n",
      "380/380 [==============================] - 46s 122ms/step - loss: 0.0135 - accuracy: 0.9981 - val_loss: 12.6788 - val_accuracy: 0.1326\n",
      "Epoch 56/200\n"
     ]
    },
    {
     "name": "stdout",
     "output_type": "stream",
     "text": [
      "380/380 [==============================] - 46s 122ms/step - loss: 0.0135 - accuracy: 0.9980 - val_loss: 12.6454 - val_accuracy: 0.1282\n",
      "Epoch 57/200\n",
      "380/380 [==============================] - 46s 122ms/step - loss: 0.0137 - accuracy: 0.9981 - val_loss: 12.5950 - val_accuracy: 0.1330\n",
      "Epoch 58/200\n",
      "380/380 [==============================] - 46s 122ms/step - loss: 0.0139 - accuracy: 0.9980 - val_loss: 12.5434 - val_accuracy: 0.1302\n",
      "Epoch 59/200\n",
      "380/380 [==============================] - 46s 122ms/step - loss: 0.0140 - accuracy: 0.9978 - val_loss: 12.5147 - val_accuracy: 0.1264\n",
      "Epoch 60/200\n",
      "380/380 [==============================] - 46s 122ms/step - loss: 0.0126 - accuracy: 0.9982 - val_loss: 12.4898 - val_accuracy: 0.1254\n",
      "Epoch 61/200\n",
      "380/380 [==============================] - 46s 122ms/step - loss: 0.0127 - accuracy: 0.9982 - val_loss: 12.4346 - val_accuracy: 0.1257\n",
      "Epoch 62/200\n",
      "380/380 [==============================] - 46s 122ms/step - loss: 0.0134 - accuracy: 0.9981 - val_loss: 12.4100 - val_accuracy: 0.1247\n",
      "Epoch 63/200\n",
      "380/380 [==============================] - 46s 122ms/step - loss: 0.0142 - accuracy: 0.9981 - val_loss: 12.3742 - val_accuracy: 0.1239\n",
      "Epoch 64/200\n",
      "380/380 [==============================] - 46s 122ms/step - loss: 0.0140 - accuracy: 0.9982 - val_loss: 12.3503 - val_accuracy: 0.1247\n",
      "Epoch 65/200\n",
      "380/380 [==============================] - 46s 122ms/step - loss: 0.0131 - accuracy: 0.9982 - val_loss: 12.3113 - val_accuracy: 0.0186\n",
      "Epoch 66/200\n",
      "380/380 [==============================] - 46s 122ms/step - loss: 0.0132 - accuracy: 0.9981 - val_loss: 12.2707 - val_accuracy: 0.0186\n",
      "Epoch 67/200\n",
      "380/380 [==============================] - 46s 122ms/step - loss: 0.0145 - accuracy: 0.9980 - val_loss: 12.1880 - val_accuracy: 0.1257\n",
      "Epoch 68/200\n",
      "380/380 [==============================] - 46s 122ms/step - loss: 0.0126 - accuracy: 0.9983 - val_loss: 12.1541 - val_accuracy: 0.1247\n",
      "Epoch 69/200\n",
      "380/380 [==============================] - 46s 122ms/step - loss: 0.0131 - accuracy: 0.9982 - val_loss: 12.1601 - val_accuracy: 0.0186\n",
      "Epoch 70/200\n",
      "380/380 [==============================] - 46s 122ms/step - loss: 0.0134 - accuracy: 0.9982 - val_loss: 12.1417 - val_accuracy: 0.0189\n",
      "Epoch 71/200\n",
      "380/380 [==============================] - 46s 122ms/step - loss: 0.0125 - accuracy: 0.9983 - val_loss: 12.0967 - val_accuracy: 0.0193\n",
      "Epoch 72/200\n",
      "380/380 [==============================] - 46s 122ms/step - loss: 0.0131 - accuracy: 0.9982 - val_loss: 12.0494 - val_accuracy: 0.0185\n",
      "Epoch 73/200\n",
      "380/380 [==============================] - 46s 122ms/step - loss: 0.0123 - accuracy: 0.9984 - val_loss: 11.9860 - val_accuracy: 0.0184\n",
      "Epoch 74/200\n",
      "380/380 [==============================] - 46s 122ms/step - loss: 0.0124 - accuracy: 0.9982 - val_loss: 12.0091 - val_accuracy: 0.0184\n",
      "Epoch 75/200\n",
      "380/380 [==============================] - 46s 122ms/step - loss: 0.0129 - accuracy: 0.9982 - val_loss: 11.9922 - val_accuracy: 0.0188\n",
      "Epoch 76/200\n",
      "380/380 [==============================] - 46s 122ms/step - loss: 0.0116 - accuracy: 0.9984 - val_loss: 11.9440 - val_accuracy: 0.0187\n",
      "Epoch 77/200\n",
      "380/380 [==============================] - 46s 122ms/step - loss: 0.0121 - accuracy: 0.9983 - val_loss: 11.9702 - val_accuracy: 0.0187\n",
      "Epoch 78/200\n",
      "380/380 [==============================] - 46s 122ms/step - loss: 0.0121 - accuracy: 0.9983 - val_loss: 11.9579 - val_accuracy: 0.0189\n",
      "Epoch 79/200\n",
      "380/380 [==============================] - 46s 122ms/step - loss: 0.0121 - accuracy: 0.9983 - val_loss: 11.9289 - val_accuracy: 0.0181\n",
      "Epoch 80/200\n",
      "380/380 [==============================] - 46s 122ms/step - loss: 0.0121 - accuracy: 0.9982 - val_loss: 11.8382 - val_accuracy: 0.0180\n",
      "Epoch 81/200\n",
      "380/380 [==============================] - 46s 122ms/step - loss: 0.0124 - accuracy: 0.9982 - val_loss: 11.8599 - val_accuracy: 0.0183\n",
      "Epoch 82/200\n",
      "380/380 [==============================] - 46s 122ms/step - loss: 0.0120 - accuracy: 0.9984 - val_loss: 11.8119 - val_accuracy: 0.0185\n",
      "Epoch 83/200\n",
      "380/380 [==============================] - 46s 122ms/step - loss: 0.0123 - accuracy: 0.9982 - val_loss: 11.7702 - val_accuracy: 0.0177\n",
      "Epoch 84/200\n",
      "380/380 [==============================] - 46s 122ms/step - loss: 0.0117 - accuracy: 0.9983 - val_loss: 11.7783 - val_accuracy: 0.0181\n",
      "Epoch 85/200\n",
      "380/380 [==============================] - 46s 122ms/step - loss: 0.0109 - accuracy: 0.9985 - val_loss: 11.7711 - val_accuracy: 0.0176\n",
      "Epoch 86/200\n",
      " 97/380 [======>.......................] - ETA: 28s - loss: 0.0097 - accuracy: 0.9986"
     ]
    }
   ],
   "source": [
    "import kashgari\n",
    "from kashgari.tasks.labeling import BiLSTM_CRF_Model\n",
    "from kashgari.embeddings import TransformerEmbedding\n",
    "kashgari.config.use_cudnn_cell = True\n",
    "\n",
    "embedding_path = '/home/Danny/pretrain_model/{}'.format(model_name)\n",
    "vocab_path = os.path.join(embedding_path, 'vocab.txt')\n",
    "config_path = os.path.join(embedding_path, 'bert_config.json')\n",
    "checkpoint_path = os.path.join(embedding_path, 'bert_model.ckpt')\n",
    "embedding = TransformerEmbedding(vocab_path, \n",
    "                                 config_path, \n",
    "                                 checkpoint_path,\n",
    "                                 bert_type='bert',\n",
    "                                 sequence_length='auto',\n",
    "                                 trainable=True,\n",
    "                                 task='kashgari.LABELING',\n",
    "                                )\n",
    "\n",
    "model = BiLSTM_CRF_Model(embedding)\n",
    "history = model.fit(train_x,\n",
    "                    train_y,\n",
    "                    valid_x,\n",
    "                    valid_y,\n",
    "                    epochs=epochs,\n",
    "                    batch_size=batch_size,\n",
    "                   )"
   ]
  },
  {
   "cell_type": "code",
   "execution_count": null,
   "metadata": {},
   "outputs": [],
   "source": [
    "model.evaluate(test_x, test_y)\n",
    "model_path = 'output/{}_epoch_{}_batch_{}'.format(model_name, epochs, batch_size)\n",
    "model.save(model_path)"
   ]
  },
  {
   "cell_type": "code",
   "execution_count": null,
   "metadata": {},
   "outputs": [],
   "source": [
    "plt.plot(history.history['accuracy'])\n",
    "plt.plot(history.history['val_accuracy'])\n",
    "plt.plot(history.history['loss'])\n",
    "plt.plot(history.history['val_loss'])\n",
    "plt.title('model accuracy')\n",
    "plt.ylabel('accuracy')\n",
    "plt.xlabel('epoch')\n",
    "plt.legend(['accuracy', 'val_accuracy', 'loss', 'val_loss'])\n",
    "plt.show()"
   ]
  },
  {
   "cell_type": "code",
   "execution_count": null,
   "metadata": {},
   "outputs": [],
   "source": [
    "# 需要儲存article_id, 轉成dataframe\n",
    "def predicting_txt_to_dataframe(path):    \n",
    "    with open(path, 'r') as f:\n",
    "        txt = str(f.read())\n",
    "        txt_list = txt.split('\\n')\n",
    "    row_list = list()\n",
    "    tmp_list = list()\n",
    "    for row in txt_list:\n",
    "        if row == '--------------------':\n",
    "            tmp_list[0] = tmp_list[0].replace('article_id:', '')\n",
    "            tmp_list[0] = int(tmp_list[0])\n",
    "            row_list.append(tmp_list)\n",
    "            tmp_list = list()\n",
    "            continue\n",
    "        if len(row) > 0:\n",
    "            tmp_list.append(row)\n",
    "    df = pd.DataFrame(row_list, columns=['article_id','text'])\n",
    "    return df"
   ]
  },
  {
   "cell_type": "code",
   "execution_count": null,
   "metadata": {},
   "outputs": [],
   "source": [
    "def predict_NER(text):\n",
    "    x_list = list()    \n",
    "    text_list = re.split('\\uff0c|\\u3002|\\uff1f', text)\n",
    "    for article in text_list:\n",
    "        x_list.append([i for i in article])\n",
    "    y_list_list = model.predict(x_list)\n",
    "    y_list = list()\n",
    "    for sentence in y_list_list:\n",
    "        for word in sentence:\n",
    "            y_list.append(word)\n",
    "        y_list.append('O') # append(，。？)\n",
    "    y_list = y_list[:-1]\n",
    "    return y_list"
   ]
  },
  {
   "cell_type": "code",
   "execution_count": null,
   "metadata": {},
   "outputs": [],
   "source": [
    "def output_NER(article_id, text, y_list):\n",
    "    output_str = str()\n",
    "    flag = False\n",
    "    for i, j in enumerate(y_list):\n",
    "        if j != 'O':\n",
    "            if j[0] == 'B':\n",
    "                start_position = i\n",
    "                entity_type = j.split('-')[-1]\n",
    "                flag = True\n",
    "        elif j == 'O' and flag == True:\n",
    "            end_position = i\n",
    "            flag = False\n",
    "            entity_text = text[start_position: end_position]\n",
    "            entity = '{}\\t{}\\t{}\\t{}\\t{}\\n'.format(article_id, start_position, end_position, entity_text, entity_type)  \n",
    "            output_str += entity\n",
    "    return output_str"
   ]
  },
  {
   "cell_type": "code",
   "execution_count": null,
   "metadata": {},
   "outputs": [],
   "source": [
    "df = predicting_txt_to_dataframe('/home/Danny/AI-CUP-2020/datasets/stage4/development_2.txt')\n",
    "output_str = \"article_id\\tstart_position\\tend_position\\tentity_text\\tentity_type\\n\"\n",
    "\n",
    "for article_id, text in zip(df['article_id'], df['text']):\n",
    "    x_list = [word for word in text]\n",
    "    y_list = predict_NER(text)\n",
    "    output_str += output_NER(article_id, text, y_list)"
   ]
  },
  {
   "cell_type": "code",
   "execution_count": null,
   "metadata": {},
   "outputs": [],
   "source": [
    "print(output_str)"
   ]
  },
  {
   "cell_type": "code",
   "execution_count": null,
   "metadata": {},
   "outputs": [],
   "source": [
    "output_path = 'output/{}_epoch_{}_batch_{}.tsv'.format(model_name, epochs, batch_size)\n",
    "with open(output_path, 'w', encoding='utf-8') as f:\n",
    "    f.write(output_str)"
   ]
  },
  {
   "cell_type": "code",
   "execution_count": null,
   "metadata": {},
   "outputs": [],
   "source": []
  }
 ],
 "metadata": {
  "kernelspec": {
   "display_name": "Python 3",
   "language": "python",
   "name": "python3"
  },
  "language_info": {
   "codemirror_mode": {
    "name": "ipython",
    "version": 3
   },
   "file_extension": ".py",
   "mimetype": "text/x-python",
   "name": "python",
   "nbconvert_exporter": "python",
   "pygments_lexer": "ipython3",
   "version": "3.6.10"
  }
 },
 "nbformat": 4,
 "nbformat_minor": 4
}
