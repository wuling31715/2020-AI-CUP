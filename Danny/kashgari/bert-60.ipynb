{
 "cells": [
  {
   "cell_type": "code",
   "execution_count": 1,
   "metadata": {},
   "outputs": [],
   "source": [
    "import re\n",
    "import pandas as pd\n",
    "import tensorflow as tf\n",
    "from matplotlib import pyplot as plt"
   ]
  },
  {
   "cell_type": "code",
   "execution_count": 2,
   "metadata": {},
   "outputs": [],
   "source": [
    "def select_gpu(N):\n",
    "    gpus = tf.config.experimental.list_physical_devices('GPU')\n",
    "    print(gpus)\n",
    "    if gpus:\n",
    "        try:\n",
    "            for gpu in gpus:\n",
    "                tf.config.experimental.set_memory_growth(gpu, True)\n",
    "            tf.config.experimental.set_visible_devices(gpus[N], 'GPU')\n",
    "            logical_gpus = tf.config.experimental.list_logical_devices('GPU')\n",
    "            print(len(gpus), \"Physical GPUs,\", len(logical_gpus), \"Logical GPUs\")\n",
    "        except RuntimeError as e:\n",
    "            print(e)    "
   ]
  },
  {
   "cell_type": "code",
   "execution_count": 3,
   "metadata": {},
   "outputs": [
    {
     "name": "stdout",
     "output_type": "stream",
     "text": [
      "[PhysicalDevice(name='/physical_device:GPU:0', device_type='GPU'), PhysicalDevice(name='/physical_device:GPU:1', device_type='GPU'), PhysicalDevice(name='/physical_device:GPU:2', device_type='GPU')]\n",
      "3 Physical GPUs, 1 Logical GPUs\n"
     ]
    }
   ],
   "source": [
    "select_gpu(0)\n",
    "epochs = 60\n",
    "batch_size = 512\n",
    "model_name = 'bert-chinese'\n",
    "embedding_path = '/home/Danny/pretrain_model/{}'.format(model_name)"
   ]
  },
  {
   "cell_type": "code",
   "execution_count": 4,
   "metadata": {},
   "outputs": [],
   "source": [
    "# 不用儲存article_id, 轉成list\n",
    "def training_txt_to_list(path):\n",
    "    with open(path, 'r') as f:\n",
    "        txt = str(f.read())\n",
    "    txt_list = txt.split('\\n')\n",
    "    text_label_list = list()\n",
    "    tmp = list()\n",
    "    for line in txt_list:\n",
    "        if line == '--------------------':\n",
    "            text_label_list.append(tmp)\n",
    "            tmp = list()\n",
    "            continue\n",
    "        if line == '':\n",
    "            continue\n",
    "        tmp.append(line)\n",
    "    x = list()\n",
    "    y = list()\n",
    "    for text_label in text_label_list:\n",
    "        text = text_label[0]\n",
    "        label = text_label[2:]\n",
    "        label_list = ['O' for i in range(len(text))]\n",
    "        for i in label:\n",
    "            entity = i.split('\\t')\n",
    "            if int(entity[1]) > int(entity[2]):\n",
    "                continue\n",
    "            b = int(entity[1])\n",
    "            label_list[b] = 'B-{}'.format(entity[-1])\n",
    "            for j in range(int(entity[1])+1, int(entity[2])):\n",
    "                label_list[j] = 'I-{}'.format(entity[-1])\n",
    "        for i, j in enumerate(text):\n",
    "            if j == '，' or j == '。' or j == '？':\n",
    "                label_list[i] = j\n",
    "                \n",
    "        text_list = re.split('\\uff0c|\\u3002|\\uff1f', text)\n",
    "        for sentence in text_list:\n",
    "            x.append([i for i in sentence])\n",
    "            \n",
    "        tmp = list()\n",
    "        for i in label_list:\n",
    "            if i == '，' or i == '。' or i == '？':\n",
    "                y.append(tmp)\n",
    "                tmp = list()\n",
    "            else:\n",
    "                tmp.append(i)\n",
    "        y.append(label_list)\n",
    "    return [x, y]"
   ]
  },
  {
   "cell_type": "code",
   "execution_count": 5,
   "metadata": {},
   "outputs": [],
   "source": [
    "# 需要儲存article_id, 轉成dataframe\n",
    "def predicting_txt_to_dataframe(path):    \n",
    "    with open(path, 'r') as f:\n",
    "        txt = str(f.read())\n",
    "        txt_list = txt.split('\\n')\n",
    "    row_list = list()\n",
    "    tmp_list = list()\n",
    "    for row in txt_list:\n",
    "        if row == '--------------------':\n",
    "            tmp_list[0] = tmp_list[0].replace('article_id:', '')\n",
    "            tmp_list[0] = int(tmp_list[0])\n",
    "            row_list.append(tmp_list)\n",
    "            tmp_list = list()\n",
    "            continue\n",
    "        if len(row) > 0:\n",
    "            tmp_list.append(row)\n",
    "    df = pd.DataFrame(row_list, columns=['article_id','text'])\n",
    "    return df"
   ]
  },
  {
   "cell_type": "code",
   "execution_count": 6,
   "metadata": {},
   "outputs": [],
   "source": [
    "def predict_NER(text):\n",
    "    x_list = list()    \n",
    "    text_list = re.split('\\uff0c|\\u3002|\\uff1f', text)\n",
    "    for article in text_list:\n",
    "        x_list.append([i for i in article])\n",
    "    y_list_list = model.predict(x_list)\n",
    "    y_list = list()\n",
    "    for sentence in y_list_list:\n",
    "        for word in sentence:\n",
    "            y_list.append(word)\n",
    "        y_list.append('O') # append(，。？)\n",
    "    y_list = y_list[:-1]\n",
    "    return y_list"
   ]
  },
  {
   "cell_type": "code",
   "execution_count": 7,
   "metadata": {},
   "outputs": [],
   "source": [
    "def output_NER(article_id, text, y_list):\n",
    "    output_str = str()\n",
    "    flag = False\n",
    "    for i, j in enumerate(y_list):\n",
    "        if j != 'O':\n",
    "            if j[0] == 'B':\n",
    "                start_position = i\n",
    "                entity_type = j.split('-')[-1]\n",
    "                flag = True\n",
    "        elif j == 'O' and flag == True:\n",
    "            end_position = i\n",
    "            flag = False\n",
    "            entity_text = text[start_position: end_position]\n",
    "            entity = '{}\\t{}\\t{}\\t{}\\t{}\\n'.format(article_id, start_position, end_position, entity_text, entity_type)  \n",
    "            output_str += entity\n",
    "    return output_str"
   ]
  },
  {
   "cell_type": "code",
   "execution_count": 8,
   "metadata": {},
   "outputs": [],
   "source": [
    "x1, y1 = training_txt_to_list('/home/Danny/AI-CUP-2020/datasets/stage1/SampleData_deid.txt')"
   ]
  },
  {
   "cell_type": "code",
   "execution_count": 9,
   "metadata": {},
   "outputs": [],
   "source": [
    "x2, y2 = training_txt_to_list('/home/Danny/AI-CUP-2020/datasets/stage2/train_1_update.txt')"
   ]
  },
  {
   "cell_type": "code",
   "execution_count": 10,
   "metadata": {},
   "outputs": [],
   "source": [
    "x4, y4 = training_txt_to_list('/home/Danny/AI-CUP-2020/datasets/stage4/train_2.txt')"
   ]
  },
  {
   "cell_type": "code",
   "execution_count": 11,
   "metadata": {},
   "outputs": [
    {
     "name": "stdout",
     "output_type": "stream",
     "text": [
      "76508\n",
      "76508\n"
     ]
    }
   ],
   "source": [
    "x = x1 + x2 + x4\n",
    "y = y1 + y2 + y4\n",
    "print(len(x))\n",
    "print(len(y))"
   ]
  },
  {
   "cell_type": "code",
   "execution_count": 12,
   "metadata": {},
   "outputs": [
    {
     "name": "stdout",
     "output_type": "stream",
     "text": [
      "48964 48964\n",
      "12242 12242\n",
      "15302 15302\n"
     ]
    }
   ],
   "source": [
    "from sklearn.model_selection import train_test_split\n",
    "train_x, test_x, train_y, test_y = train_test_split(x, y, test_size=0.2, random_state=42)\n",
    "train_x, valid_x, train_y, valid_y = train_test_split(train_x, train_y, test_size=0.2, random_state=42)\n",
    "print(len(train_x), len(train_y))\n",
    "print(len(valid_x), len(valid_y))\n",
    "print(len(test_x), len(test_y))"
   ]
  },
  {
   "cell_type": "code",
   "execution_count": 13,
   "metadata": {},
   "outputs": [
    {
     "name": "stderr",
     "output_type": "stream",
     "text": [
      "2020-12-12 12:50:47,439 [DEBUG] kashgari - ------------------------------------------------\n",
      "2020-12-12 12:50:47,440 [DEBUG] kashgari - Loaded transformer model's vocab\n",
      "2020-12-12 12:50:47,440 [DEBUG] kashgari - config_path       : /home/Danny/pretrain_model/bert-chinese/bert_config.json\n",
      "2020-12-12 12:50:47,441 [DEBUG] kashgari - vocab_path      : /home/Danny/pretrain_model/bert-chinese/vocab.txt\n",
      "2020-12-12 12:50:47,441 [DEBUG] kashgari - checkpoint_path : /home/Danny/pretrain_model/bert-chinese/bert_model.ckpt\n",
      "2020-12-12 12:50:47,441 [DEBUG] kashgari - Top 50 words    : ['[PAD]', '[unused1]', '[unused2]', '[unused3]', '[unused4]', '[unused5]', '[unused6]', '[unused7]', '[unused8]', '[unused9]', '[unused10]', '[unused11]', '[unused12]', '[unused13]', '[unused14]', '[unused15]', '[unused16]', '[unused17]', '[unused18]', '[unused19]', '[unused20]', '[unused21]', '[unused22]', '[unused23]', '[unused24]', '[unused25]', '[unused26]', '[unused27]', '[unused28]', '[unused29]', '[unused30]', '[unused31]', '[unused32]', '[unused33]', '[unused34]', '[unused35]', '[unused36]', '[unused37]', '[unused38]', '[unused39]', '[unused40]', '[unused41]', '[unused42]', '[unused43]', '[unused44]', '[unused45]', '[unused46]', '[unused47]', '[unused48]', '[unused49]']\n",
      "2020-12-12 12:50:47,442 [DEBUG] kashgari - ------------------------------------------------\n",
      "Preparing text vocab dict: 100%|██████████| 48964/48964 [00:00<00:00, 522197.67it/s]\n",
      "Preparing text vocab dict: 100%|██████████| 12242/12242 [00:00<00:00, 522846.56it/s]\n",
      "2020-12-12 12:50:47,564 [DEBUG] kashgari - --- Build vocab dict finished, Total: 1738 ---\n",
      "2020-12-12 12:50:47,564 [DEBUG] kashgari - Top-10: ['[PAD]', '[UNK]', '[CLS]', '[SEP]', '：', '師', '是', '民', '眾', '醫']\n",
      "Preparing text vocab dict: 100%|██████████| 48964/48964 [00:00<00:00, 408407.79it/s]\n",
      "Preparing text vocab dict: 100%|██████████| 12242/12242 [00:00<00:00, 461605.34it/s]\n",
      "2020-12-12 12:50:47,714 [DEBUG] kashgari - --- Build vocab dict finished, Total: 31 ---\n",
      "2020-12-12 12:50:47,714 [DEBUG] kashgari - Top-10: ['[PAD]', 'O', '。', '，', 'I-time', '？', 'B-time', 'I-med_exam', 'I-name', 'I-location']\n",
      "Calculating sequence length: 100%|██████████| 48964/48964 [00:00<00:00, 1899041.10it/s]\n",
      "Calculating sequence length: 100%|██████████| 12242/12242 [00:00<00:00, 1958974.08it/s]\n",
      "2020-12-12 12:50:50,160 [DEBUG] kashgari - Calculated sequence length = 19\n",
      "2020-12-12 12:50:51,687 [DEBUG] kashgari - fit input shape: (2, 512, 19)\n",
      "2020-12-12 12:50:51,687 [DEBUG] kashgari - fit input shape: (512, 19)\n"
     ]
    },
    {
     "name": "stdout",
     "output_type": "stream",
     "text": [
      "Epoch 1/60\n",
      "95/95 [==============================] - 39s 412ms/step - loss: 1.1869 - accuracy: 0.9504 - val_loss: 24.5865 - val_accuracy: 0.9819\n",
      "Epoch 2/60\n",
      "95/95 [==============================] - 78s 816ms/step - loss: 0.3154 - accuracy: 0.9818 - val_loss: 24.4758 - val_accuracy: 0.9857\n",
      "Epoch 3/60\n",
      "95/95 [==============================] - 102s 1s/step - loss: 0.2244 - accuracy: 0.9859 - val_loss: 24.3691 - val_accuracy: 0.9881\n",
      "Epoch 4/60\n",
      "95/95 [==============================] - 95s 1s/step - loss: 0.1873 - accuracy: 0.9878 - val_loss: 24.2065 - val_accuracy: 0.9889\n",
      "Epoch 5/60\n",
      "95/95 [==============================] - 71s 745ms/step - loss: 0.1649 - accuracy: 0.9890 - val_loss: 24.1907 - val_accuracy: 0.9898\n",
      "Epoch 6/60\n",
      "95/95 [==============================] - 71s 746ms/step - loss: 0.1465 - accuracy: 0.9897 - val_loss: 24.0359 - val_accuracy: 0.9906\n",
      "Epoch 7/60\n",
      "95/95 [==============================] - 71s 747ms/step - loss: 0.1300 - accuracy: 0.9905 - val_loss: 23.9437 - val_accuracy: 0.9912\n",
      "Epoch 8/60\n",
      "95/95 [==============================] - 71s 747ms/step - loss: 0.1165 - accuracy: 0.9913 - val_loss: 23.8881 - val_accuracy: 0.9912\n",
      "Epoch 9/60\n",
      "95/95 [==============================] - 71s 748ms/step - loss: 0.1032 - accuracy: 0.9921 - val_loss: 23.8063 - val_accuracy: 0.9913\n",
      "Epoch 10/60\n",
      "95/95 [==============================] - 71s 748ms/step - loss: 0.0959 - accuracy: 0.9924 - val_loss: 23.7010 - val_accuracy: 0.9919\n",
      "Epoch 11/60\n",
      "95/95 [==============================] - 71s 748ms/step - loss: 0.0866 - accuracy: 0.9933 - val_loss: 23.6388 - val_accuracy: 0.9925\n",
      "Epoch 12/60\n",
      "95/95 [==============================] - 73s 771ms/step - loss: 0.0804 - accuracy: 0.9936 - val_loss: 23.5670 - val_accuracy: 0.9923\n",
      "Epoch 13/60\n",
      "95/95 [==============================] - 73s 772ms/step - loss: 0.0721 - accuracy: 0.9941 - val_loss: 23.4788 - val_accuracy: 0.9927\n",
      "Epoch 14/60\n",
      "95/95 [==============================] - 73s 771ms/step - loss: 0.0656 - accuracy: 0.9946 - val_loss: 23.3902 - val_accuracy: 0.9930\n",
      "Epoch 15/60\n",
      "95/95 [==============================] - 73s 771ms/step - loss: 0.0603 - accuracy: 0.9950 - val_loss: 23.3457 - val_accuracy: 0.9924\n",
      "Epoch 16/60\n",
      "95/95 [==============================] - 73s 771ms/step - loss: 0.0545 - accuracy: 0.9954 - val_loss: 23.2710 - val_accuracy: 0.9922\n",
      "Epoch 17/60\n",
      "95/95 [==============================] - 71s 748ms/step - loss: 0.0519 - accuracy: 0.9957 - val_loss: 23.2173 - val_accuracy: 0.9916\n",
      "Epoch 18/60\n",
      "95/95 [==============================] - 73s 772ms/step - loss: 0.0471 - accuracy: 0.9960 - val_loss: 23.1582 - val_accuracy: 0.9929\n",
      "Epoch 19/60\n",
      "95/95 [==============================] - 73s 772ms/step - loss: 0.0424 - accuracy: 0.9965 - val_loss: 23.1096 - val_accuracy: 0.9927\n",
      "Epoch 20/60\n",
      "95/95 [==============================] - 71s 747ms/step - loss: 0.0428 - accuracy: 0.9962 - val_loss: 23.0392 - val_accuracy: 0.9927\n",
      "Epoch 21/60\n",
      "95/95 [==============================] - 73s 772ms/step - loss: 0.0386 - accuracy: 0.9966 - val_loss: 22.9902 - val_accuracy: 0.9927\n",
      "Epoch 22/60\n",
      "95/95 [==============================] - 73s 772ms/step - loss: 0.0359 - accuracy: 0.9969 - val_loss: 22.9407 - val_accuracy: 0.9928\n",
      "Epoch 23/60\n",
      "95/95 [==============================] - 73s 771ms/step - loss: 0.0347 - accuracy: 0.9970 - val_loss: 22.8497 - val_accuracy: 0.9928\n",
      "Epoch 24/60\n",
      "95/95 [==============================] - 73s 771ms/step - loss: 0.0315 - accuracy: 0.9973 - val_loss: 22.8185 - val_accuracy: 0.9923\n",
      "Epoch 25/60\n",
      "95/95 [==============================] - 71s 749ms/step - loss: 0.0294 - accuracy: 0.9974 - val_loss: 22.7577 - val_accuracy: 0.9920\n",
      "Epoch 26/60\n",
      "95/95 [==============================] - 71s 748ms/step - loss: 0.0282 - accuracy: 0.9976 - val_loss: 22.7075 - val_accuracy: 0.9920\n",
      "Epoch 27/60\n",
      "95/95 [==============================] - 71s 748ms/step - loss: 0.0267 - accuracy: 0.9978 - val_loss: 22.7082 - val_accuracy: 0.9921\n",
      "Epoch 28/60\n",
      "95/95 [==============================] - 71s 749ms/step - loss: 0.0253 - accuracy: 0.9978 - val_loss: 22.6358 - val_accuracy: 0.9916\n",
      "Epoch 29/60\n",
      "95/95 [==============================] - 73s 773ms/step - loss: 0.0249 - accuracy: 0.9977 - val_loss: 22.5991 - val_accuracy: 0.9913\n",
      "Epoch 30/60\n",
      "95/95 [==============================] - 73s 772ms/step - loss: 0.0243 - accuracy: 0.9977 - val_loss: 22.5566 - val_accuracy: 0.9908\n",
      "Epoch 31/60\n",
      "95/95 [==============================] - 73s 771ms/step - loss: 0.0221 - accuracy: 0.9979 - val_loss: 22.4831 - val_accuracy: 0.9899\n",
      "Epoch 32/60\n",
      "95/95 [==============================] - 73s 771ms/step - loss: 0.0218 - accuracy: 0.9980 - val_loss: 22.4544 - val_accuracy: 0.9891\n",
      "Epoch 33/60\n",
      "95/95 [==============================] - 73s 772ms/step - loss: 0.0214 - accuracy: 0.9981 - val_loss: 22.3956 - val_accuracy: 0.9898\n",
      "Epoch 34/60\n",
      "95/95 [==============================] - 73s 771ms/step - loss: 0.0217 - accuracy: 0.9980 - val_loss: 22.3561 - val_accuracy: 0.9903\n",
      "Epoch 35/60\n",
      "95/95 [==============================] - 73s 772ms/step - loss: 0.0215 - accuracy: 0.9980 - val_loss: 22.3089 - val_accuracy: 0.9890\n",
      "Epoch 36/60\n",
      "95/95 [==============================] - 71s 748ms/step - loss: 0.0188 - accuracy: 0.9983 - val_loss: 22.2840 - val_accuracy: 0.9885\n",
      "Epoch 37/60\n",
      "95/95 [==============================] - 73s 773ms/step - loss: 0.0197 - accuracy: 0.9981 - val_loss: 22.2340 - val_accuracy: 0.9895\n",
      "Epoch 38/60\n",
      "95/95 [==============================] - 73s 773ms/step - loss: 0.0173 - accuracy: 0.9983 - val_loss: 22.1488 - val_accuracy: 0.9871\n",
      "Epoch 39/60\n",
      "95/95 [==============================] - 73s 771ms/step - loss: 0.0177 - accuracy: 0.9984 - val_loss: 22.1453 - val_accuracy: 0.9861\n",
      "Epoch 40/60\n",
      "95/95 [==============================] - 73s 771ms/step - loss: 0.0168 - accuracy: 0.9984 - val_loss: 22.0929 - val_accuracy: 0.9850\n",
      "Epoch 41/60\n",
      "95/95 [==============================] - 71s 749ms/step - loss: 0.0157 - accuracy: 0.9985 - val_loss: 22.0635 - val_accuracy: 0.9802\n",
      "Epoch 42/60\n",
      "95/95 [==============================] - 71s 749ms/step - loss: 0.0172 - accuracy: 0.9983 - val_loss: 22.0256 - val_accuracy: 0.9781\n",
      "Epoch 43/60\n",
      "95/95 [==============================] - 73s 772ms/step - loss: 0.0161 - accuracy: 0.9985 - val_loss: 21.9776 - val_accuracy: 0.9779\n",
      "Epoch 44/60\n",
      "95/95 [==============================] - 73s 772ms/step - loss: 0.0155 - accuracy: 0.9984 - val_loss: 21.9461 - val_accuracy: 0.9758\n",
      "Epoch 45/60\n",
      "95/95 [==============================] - 72s 759ms/step - loss: 0.0165 - accuracy: 0.9983 - val_loss: 21.8526 - val_accuracy: 0.9761\n",
      "Epoch 46/60\n",
      "95/95 [==============================] - 71s 749ms/step - loss: 0.0155 - accuracy: 0.9985 - val_loss: 21.8119 - val_accuracy: 0.9752\n",
      "Epoch 47/60\n",
      "95/95 [==============================] - 73s 773ms/step - loss: 0.0146 - accuracy: 0.9985 - val_loss: 21.7715 - val_accuracy: 0.9762\n",
      "Epoch 48/60\n",
      "95/95 [==============================] - 73s 772ms/step - loss: 0.0134 - accuracy: 0.9986 - val_loss: 21.7214 - val_accuracy: 0.9756\n",
      "Epoch 49/60\n",
      "95/95 [==============================] - 73s 773ms/step - loss: 0.0138 - accuracy: 0.9986 - val_loss: 21.6713 - val_accuracy: 0.9739\n",
      "Epoch 50/60\n",
      "95/95 [==============================] - 73s 770ms/step - loss: 0.0133 - accuracy: 0.9986 - val_loss: 21.6389 - val_accuracy: 0.9732\n",
      "Epoch 51/60\n",
      "95/95 [==============================] - 73s 771ms/step - loss: 0.0152 - accuracy: 0.9983 - val_loss: 21.6103 - val_accuracy: 0.9669\n",
      "Epoch 52/60\n",
      "95/95 [==============================] - 73s 771ms/step - loss: 0.0136 - accuracy: 0.9986 - val_loss: 21.5493 - val_accuracy: 0.9671\n",
      "Epoch 53/60\n",
      "95/95 [==============================] - 73s 770ms/step - loss: 0.0137 - accuracy: 0.9986 - val_loss: 21.4851 - val_accuracy: 0.9652\n",
      "Epoch 54/60\n",
      "95/95 [==============================] - 73s 771ms/step - loss: 0.0124 - accuracy: 0.9986 - val_loss: 21.4349 - val_accuracy: 0.9486\n",
      "Epoch 55/60\n",
      "95/95 [==============================] - 71s 747ms/step - loss: 0.0145 - accuracy: 0.9985 - val_loss: 21.3698 - val_accuracy: 0.9478\n",
      "Epoch 56/60\n",
      "95/95 [==============================] - 71s 748ms/step - loss: 0.0133 - accuracy: 0.9986 - val_loss: 21.3451 - val_accuracy: 0.9308\n",
      "Epoch 57/60\n"
     ]
    },
    {
     "name": "stdout",
     "output_type": "stream",
     "text": [
      "95/95 [==============================] - 71s 747ms/step - loss: 0.0133 - accuracy: 0.9985 - val_loss: 21.2777 - val_accuracy: 0.7620\n",
      "Epoch 58/60\n",
      "95/95 [==============================] - 73s 770ms/step - loss: 0.0115 - accuracy: 0.9987 - val_loss: 21.2481 - val_accuracy: 0.6932\n",
      "Epoch 59/60\n",
      "95/95 [==============================] - 73s 770ms/step - loss: 0.0116 - accuracy: 0.9988 - val_loss: 21.1891 - val_accuracy: 0.5055\n",
      "Epoch 60/60\n",
      "95/95 [==============================] - 71s 747ms/step - loss: 0.0127 - accuracy: 0.9986 - val_loss: 21.0847 - val_accuracy: 0.3928\n"
     ]
    }
   ],
   "source": [
    "import kashgari\n",
    "from kashgari.tasks.labeling import BiLSTM_CRF_Model\n",
    "from kashgari.embeddings import BertEmbedding\n",
    "kashgari.config.use_cudnn_cell = True\n",
    "bert_embedding = BertEmbedding(embedding_path, \n",
    "                           sequence_length='auto',\n",
    "                           trainable=True,\n",
    "                           task='kashgari.LABELING', \n",
    "                          )\n",
    "model = BiLSTM_CRF_Model(bert_embedding)\n",
    "history = model.fit(train_x,\n",
    "                    train_y,\n",
    "                    valid_x,\n",
    "                    valid_y,\n",
    "                    epochs=epochs,\n",
    "                    batch_size=batch_size,\n",
    "                   )"
   ]
  },
  {
   "cell_type": "code",
   "execution_count": 14,
   "metadata": {},
   "outputs": [
    {
     "name": "stderr",
     "output_type": "stream",
     "text": [
      "2020-12-12 14:04:29,673 [WARNING] kashgari - Sequence length is None, will use the max length of the samples, which is 72\n",
      "2020-12-12 14:04:29,759 [DEBUG] kashgari - predict seq_length: None, input: (2, 15302, 72)\n"
     ]
    },
    {
     "name": "stdout",
     "output_type": "stream",
     "text": [
      "479/479 [==============================] - 190s 396ms/step\n"
     ]
    },
    {
     "name": "stderr",
     "output_type": "stream",
     "text": [
      "2020-12-12 14:07:43,516 [DEBUG] kashgari - predict output: (15302, 72)\n",
      "2020-12-12 14:07:43,517 [DEBUG] kashgari - predict output argmax: [[0 1 1 ... 1 1 1]\n",
      " [0 1 1 ... 1 1 1]\n",
      " [0 1 1 ... 1 1 1]\n",
      " ...\n",
      " [0 1 1 ... 1 1 1]\n",
      " [0 1 1 ... 1 1 1]\n",
      " [0 1 1 ... 1 1 1]]\n"
     ]
    },
    {
     "name": "stdout",
     "output_type": "stream",
     "text": [
      "\n",
      "                precision    recall  f1-score   support\n",
      "\n",
      "      med_exam     0.8252    0.8429    0.8339       140\n",
      "          time     0.8667    0.8432    0.8548       848\n",
      "         money     0.7031    0.8654    0.7759        52\n",
      "          name     0.9302    0.8000    0.8602       100\n",
      "            ID     1.0000    0.6250    0.7692         8\n",
      "      location     0.9268    0.8352    0.8786        91\n",
      "  organization     1.0000    0.3333    0.5000         3\n",
      "clinical_event     1.0000    0.2500    0.4000         4\n",
      "        family     1.0000    0.5294    0.6923        17\n",
      "       contact     1.0000    0.5385    0.7000        13\n",
      "    profession     0.6667    0.4444    0.5333         9\n",
      "     education     0.0000    0.0000    0.0000         1\n",
      "\n",
      "     micro avg     0.8633    0.8250    0.8437      1286\n",
      "     macro avg     0.8673    0.8250    0.8420      1286\n",
      "\n"
     ]
    },
    {
     "name": "stderr",
     "output_type": "stream",
     "text": [
      "2020-12-12 14:07:52,597 [INFO] kashgari - model saved to /home/Danny/AI-CUP-2020/Danny/kashgari/model/bert-chinese-epoch-60\n"
     ]
    },
    {
     "data": {
      "text/plain": [
       "'/home/Danny/AI-CUP-2020/Danny/kashgari/model/bert-chinese-epoch-60'"
      ]
     },
     "execution_count": 14,
     "metadata": {},
     "output_type": "execute_result"
    }
   ],
   "source": [
    "model.evaluate(test_x, test_y)\n",
    "model_path = 'model/{}-epoch-{}'.format(model_name, epochs)\n",
    "model.save(model_path)"
   ]
  },
  {
   "cell_type": "code",
   "execution_count": 15,
   "metadata": {},
   "outputs": [
    {
     "data": {
      "image/png": "[encoded data removed]",
      "text/plain": [
       "<Figure size 432x288 with 1 Axes>"
      ]
     },
     "metadata": {
      "needs_background": "light"
     },
     "output_type": "display_data"
    }
   ],
   "source": [
    "plt.plot(history.history['accuracy'])\n",
    "plt.plot(history.history['val_accuracy'])\n",
    "plt.plot(history.history['loss'])\n",
    "plt.plot(history.history['val_loss'])\n",
    "plt.title('model accuracy')\n",
    "plt.ylabel('accuracy')\n",
    "plt.xlabel('epoch')\n",
    "plt.legend(['accuracy', 'val_accuracy', 'loss', 'val_loss'])\n",
    "plt.show()"
   ]
  },
  {
   "cell_type": "code",
   "execution_count": 16,
   "metadata": {},
   "outputs": [],
   "source": [
    "# def predict_NER(model, text, sequence_length):\n",
    "#     x_list = list()\n",
    "#     while len(text) > sequence_length:\n",
    "#         x_list.append([i for i in text[:sequence_length]])\n",
    "#         text = text[sequence_length:]        \n",
    "#     x_list.append([i for i in text[:sequence_length]])\n",
    "#     y_list = model.predict(x_list)\n",
    "#     merge_list = list()\n",
    "#     for i in y_list:\n",
    "#         for j in i:\n",
    "#             merge_list.append(j)\n",
    "#     return merge_list"
   ]
  },
  {
   "cell_type": "code",
   "execution_count": 17,
   "metadata": {},
   "outputs": [],
   "source": [
    "# def output_NER(article_id, text, y):\n",
    "#     output = str()\n",
    "#     flag = False\n",
    "#     for i, j in enumerate(y):\n",
    "#         if j != 'O':\n",
    "#             if j[0] == 'B':\n",
    "#                 start_position = i\n",
    "#                 entity_type = j.split('-')[-1]\n",
    "#                 flag = True\n",
    "#         elif j == 'O' and flag == True:\n",
    "#             end_position = i\n",
    "#             flag = False\n",
    "#             entity_text = text[start_position: end_position]\n",
    "#             output += '{}\\t{}\\t{}\\t{}\\t{}\\n'.format(article_id, start_position, end_position, entity_text, entity_type)  \n",
    "#     return output"
   ]
  },
  {
   "cell_type": "code",
   "execution_count": 18,
   "metadata": {},
   "outputs": [],
   "source": [
    "# for article_id, text in zip(df['article_id'], df['text']):\n",
    "#     y = predict_NER(model, text, sequence_length)\n",
    "#     output += output_NER(article_id, text, y)"
   ]
  },
  {
   "cell_type": "code",
   "execution_count": 19,
   "metadata": {},
   "outputs": [
    {
     "name": "stderr",
     "output_type": "stream",
     "text": [
      "2020-12-12 14:07:52,721 [DEBUG] kashgari - predict seq_length: None, input: (2, 368, 29)\n"
     ]
    },
    {
     "name": "stdout",
     "output_type": "stream",
     "text": [
      "12/12 [==============================] - 2s 176ms/step\n"
     ]
    },
    {
     "name": "stderr",
     "output_type": "stream",
     "text": [
      "2020-12-12 14:07:58,049 [DEBUG] kashgari - predict output: (368, 29)\n",
      "2020-12-12 14:07:58,049 [DEBUG] kashgari - predict output argmax: [[0 1 1 ... 1 1 1]\n",
      " [0 1 1 ... 1 1 1]\n",
      " [0 1 1 ... 1 1 1]\n",
      " ...\n",
      " [0 1 1 ... 1 1 1]\n",
      " [0 1 1 ... 1 1 1]\n",
      " [0 1 0 ... 0 0 0]]\n",
      "2020-12-12 14:07:58,051 [DEBUG] kashgari - predict seq_length: None, input: (2, 78, 33)\n"
     ]
    },
    {
     "name": "stdout",
     "output_type": "stream",
     "text": [
      "3/3 [==============================] - 0s 146ms/step\n"
     ]
    },
    {
     "name": "stderr",
     "output_type": "stream",
     "text": [
      "2020-12-12 14:08:01,799 [DEBUG] kashgari - predict output: (78, 33)\n",
      "2020-12-12 14:08:01,800 [DEBUG] kashgari - predict output argmax: [[0 1 1 ... 1 1 1]\n",
      " [0 1 1 ... 1 1 1]\n",
      " [0 1 1 ... 1 1 1]\n",
      " ...\n",
      " [0 1 0 ... 1 1 1]\n",
      " [0 1 1 ... 1 1 1]\n",
      " [0 1 1 ... 1 1 1]]\n",
      "2020-12-12 14:08:01,803 [DEBUG] kashgari - predict seq_length: None, input: (2, 159, 29)\n"
     ]
    },
    {
     "name": "stdout",
     "output_type": "stream",
     "text": [
      "5/5 [==============================] - 1s 179ms/step\n"
     ]
    },
    {
     "name": "stderr",
     "output_type": "stream",
     "text": [
      "2020-12-12 14:08:02,942 [DEBUG] kashgari - predict output: (159, 29)\n",
      "2020-12-12 14:08:02,943 [DEBUG] kashgari - predict output argmax: [[0 1 1 ... 1 1 1]\n",
      " [0 1 1 ... 1 1 1]\n",
      " [0 1 1 ... 1 1 1]\n",
      " ...\n",
      " [0 1 1 ... 1 1 1]\n",
      " [0 1 1 ... 1 1 1]\n",
      " [0 1 0 ... 0 0 0]]\n",
      "2020-12-12 14:08:02,950 [DEBUG] kashgari - predict seq_length: None, input: (2, 329, 28)\n"
     ]
    },
    {
     "name": "stdout",
     "output_type": "stream",
     "text": [
      "11/11 [==============================] - 2s 179ms/step\n"
     ]
    },
    {
     "name": "stderr",
     "output_type": "stream",
     "text": [
      "2020-12-12 14:08:08,117 [DEBUG] kashgari - predict output: (329, 28)\n",
      "2020-12-12 14:08:08,118 [DEBUG] kashgari - predict output argmax: [[0 1 1 ... 1 1 1]\n",
      " [0 1 1 ... 1 1 1]\n",
      " [0 1 1 ... 1 1 1]\n",
      " ...\n",
      " [0 1 1 ... 1 1 1]\n",
      " [0 1 1 ... 1 1 1]\n",
      " [0 1 0 ... 0 0 0]]\n",
      "2020-12-12 14:08:08,122 [DEBUG] kashgari - predict seq_length: None, input: (2, 227, 29)\n"
     ]
    },
    {
     "name": "stdout",
     "output_type": "stream",
     "text": [
      "8/8 [==============================] - 1s 164ms/step\n"
     ]
    },
    {
     "name": "stderr",
     "output_type": "stream",
     "text": [
      "2020-12-12 14:08:09,762 [DEBUG] kashgari - predict output: (227, 29)\n",
      "2020-12-12 14:08:09,763 [DEBUG] kashgari - predict output argmax: [[ 0  1  1 ...  4  4  4]\n",
      " [ 0  1  1 ...  1  1  1]\n",
      " [ 0 10  7 ...  7  7  7]\n",
      " ...\n",
      " [ 0  1  1 ...  1  1  1]\n",
      " [ 0  1  1 ...  1  1  1]\n",
      " [ 0  1  0 ...  0  0  0]]\n",
      "2020-12-12 14:08:09,767 [DEBUG] kashgari - predict seq_length: None, input: (2, 295, 26)\n"
     ]
    },
    {
     "name": "stdout",
     "output_type": "stream",
     "text": [
      "10/10 [==============================] - 2s 157ms/step\n"
     ]
    },
    {
     "name": "stderr",
     "output_type": "stream",
     "text": [
      "2020-12-12 14:08:14,665 [DEBUG] kashgari - predict output: (295, 26)\n",
      "2020-12-12 14:08:14,666 [DEBUG] kashgari - predict output argmax: [[0 1 1 ... 1 1 1]\n",
      " [0 1 1 ... 1 1 1]\n",
      " [0 1 1 ... 0 1 1]\n",
      " ...\n",
      " [0 1 1 ... 1 1 1]\n",
      " [0 1 1 ... 1 1 1]\n",
      " [0 1 0 ... 0 0 0]]\n",
      "2020-12-12 14:08:14,668 [DEBUG] kashgari - predict seq_length: None, input: (2, 183, 25)\n"
     ]
    },
    {
     "name": "stdout",
     "output_type": "stream",
     "text": [
      "6/6 [==============================] - 1s 173ms/step\n"
     ]
    },
    {
     "name": "stderr",
     "output_type": "stream",
     "text": [
      "2020-12-12 14:08:18,862 [DEBUG] kashgari - predict output: (183, 25)\n",
      "2020-12-12 14:08:18,863 [DEBUG] kashgari - predict output argmax: [[ 0  1  1 ...  1  1  1]\n",
      " [ 0  1  1 ...  1  1  1]\n",
      " [ 0  1  1 ...  1  1  1]\n",
      " ...\n",
      " [ 0  1 13 ...  1  1  1]\n",
      " [ 0  1  1 ...  1  1  1]\n",
      " [ 0  1  0 ...  0  0  0]]\n",
      "2020-12-12 14:08:18,864 [DEBUG] kashgari - predict seq_length: None, input: (2, 126, 19)\n"
     ]
    },
    {
     "name": "stdout",
     "output_type": "stream",
     "text": [
      "4/4 [==============================] - 0s 119ms/step\n"
     ]
    },
    {
     "name": "stderr",
     "output_type": "stream",
     "text": [
      "2020-12-12 14:08:22,436 [DEBUG] kashgari - predict output: (126, 19)\n",
      "2020-12-12 14:08:22,437 [DEBUG] kashgari - predict output argmax: [[0 1 1 ... 1 0 1]\n",
      " [0 1 1 ... 1 1 1]\n",
      " [0 1 1 ... 1 1 1]\n",
      " ...\n",
      " [0 1 1 ... 1 1 1]\n",
      " [0 1 1 ... 1 1 1]\n",
      " [0 1 0 ... 0 0 0]]\n",
      "2020-12-12 14:08:22,440 [DEBUG] kashgari - predict seq_length: None, input: (2, 117, 23)\n"
     ]
    },
    {
     "name": "stdout",
     "output_type": "stream",
     "text": [
      "4/4 [==============================] - 0s 120ms/step\n"
     ]
    },
    {
     "name": "stderr",
     "output_type": "stream",
     "text": [
      "2020-12-12 14:08:26,353 [DEBUG] kashgari - predict output: (117, 23)\n",
      "2020-12-12 14:08:26,354 [DEBUG] kashgari - predict output argmax: [[0 1 1 ... 1 1 1]\n",
      " [0 1 1 ... 1 1 1]\n",
      " [0 1 1 ... 1 1 1]\n",
      " ...\n",
      " [0 1 1 ... 1 1 1]\n",
      " [0 1 1 ... 1 1 1]\n",
      " [0 1 0 ... 0 0 0]]\n",
      "2020-12-12 14:08:26,357 [DEBUG] kashgari - predict seq_length: None, input: (2, 91, 22)\n"
     ]
    },
    {
     "name": "stdout",
     "output_type": "stream",
     "text": [
      "3/3 [==============================] - 0s 120ms/step\n"
     ]
    },
    {
     "name": "stderr",
     "output_type": "stream",
     "text": [
      "2020-12-12 14:08:29,841 [DEBUG] kashgari - predict output: (91, 22)\n",
      "2020-12-12 14:08:29,842 [DEBUG] kashgari - predict output argmax: [[0 1 1 ... 1 1 1]\n",
      " [0 1 1 ... 1 1 1]\n",
      " [0 1 1 ... 1 1 1]\n",
      " ...\n",
      " [0 1 1 ... 1 1 1]\n",
      " [0 1 1 ... 1 1 1]\n",
      " [0 1 0 ... 0 0 0]]\n",
      "2020-12-12 14:08:29,843 [DEBUG] kashgari - predict seq_length: None, input: (2, 63, 25)\n"
     ]
    },
    {
     "name": "stdout",
     "output_type": "stream",
     "text": [
      "2/2 [==============================] - 0s 146ms/step\n"
     ]
    },
    {
     "name": "stderr",
     "output_type": "stream",
     "text": [
      "2020-12-12 14:08:30,252 [DEBUG] kashgari - predict output: (63, 25)\n",
      "2020-12-12 14:08:30,253 [DEBUG] kashgari - predict output argmax: [[0 1 1 ... 1 1 1]\n",
      " [0 1 1 ... 1 1 1]\n",
      " [0 1 1 ... 1 1 1]\n",
      " ...\n",
      " [0 1 1 ... 1 1 1]\n",
      " [0 1 1 ... 1 1 1]\n",
      " [0 1 0 ... 0 0 0]]\n",
      "2020-12-12 14:08:30,258 [DEBUG] kashgari - predict seq_length: None, input: (2, 259, 32)\n"
     ]
    },
    {
     "name": "stdout",
     "output_type": "stream",
     "text": [
      "9/9 [==============================] - 2s 180ms/step\n"
     ]
    },
    {
     "name": "stderr",
     "output_type": "stream",
     "text": [
      "2020-12-12 14:08:35,097 [DEBUG] kashgari - predict output: (259, 32)\n",
      "2020-12-12 14:08:35,098 [DEBUG] kashgari - predict output argmax: [[ 0  1  1 ...  7  7  7]\n",
      " [ 0  1  1 ...  1  1  1]\n",
      " [ 0 10  7 ...  1  1  1]\n",
      " ...\n",
      " [ 0  1  1 ...  1  1  1]\n",
      " [ 0  1  1 ...  1  1  1]\n",
      " [ 0  1  0 ...  0  0  0]]\n",
      "2020-12-12 14:08:35,099 [DEBUG] kashgari - predict seq_length: None, input: (2, 109, 20)\n"
     ]
    },
    {
     "name": "stdout",
     "output_type": "stream",
     "text": [
      "4/4 [==============================] - 0s 115ms/step\n"
     ]
    },
    {
     "name": "stderr",
     "output_type": "stream",
     "text": [
      "2020-12-12 14:08:38,660 [DEBUG] kashgari - predict output: (109, 20)\n",
      "2020-12-12 14:08:38,661 [DEBUG] kashgari - predict output argmax: [[0 1 1 ... 1 0 1]\n",
      " [0 1 1 ... 1 1 1]\n",
      " [0 1 1 ... 1 1 1]\n",
      " ...\n",
      " [0 1 1 ... 1 1 1]\n",
      " [0 1 1 ... 1 1 1]\n",
      " [0 1 0 ... 0 0 0]]\n",
      "2020-12-12 14:08:38,663 [DEBUG] kashgari - predict seq_length: None, input: (2, 122, 22)\n"
     ]
    },
    {
     "name": "stdout",
     "output_type": "stream",
     "text": [
      "4/4 [==============================] - 0s 113ms/step\n"
     ]
    },
    {
     "name": "stderr",
     "output_type": "stream",
     "text": [
      "2020-12-12 14:08:39,440 [DEBUG] kashgari - predict output: (122, 22)\n",
      "2020-12-12 14:08:39,441 [DEBUG] kashgari - predict output argmax: [[0 1 1 ... 1 1 1]\n",
      " [0 1 1 ... 1 1 1]\n",
      " [0 1 1 ... 1 1 1]\n",
      " ...\n",
      " [0 1 1 ... 1 1 1]\n",
      " [0 1 1 ... 1 1 1]\n",
      " [0 1 0 ... 0 0 0]]\n",
      "2020-12-12 14:08:39,444 [DEBUG] kashgari - predict seq_length: None, input: (2, 158, 40)\n"
     ]
    },
    {
     "name": "stdout",
     "output_type": "stream",
     "text": [
      "5/5 [==============================] - 1s 181ms/step\n"
     ]
    },
    {
     "name": "stderr",
     "output_type": "stream",
     "text": [
      "2020-12-12 14:08:43,714 [DEBUG] kashgari - predict output: (158, 40)\n",
      "2020-12-12 14:08:43,714 [DEBUG] kashgari - predict output argmax: [[0 1 1 ... 1 1 1]\n",
      " [0 1 1 ... 1 1 1]\n",
      " [0 1 1 ... 1 1 1]\n",
      " ...\n",
      " [0 1 1 ... 1 1 1]\n",
      " [0 1 1 ... 1 1 1]\n",
      " [0 1 1 ... 4 4 4]]\n",
      "2020-12-12 14:08:43,717 [DEBUG] kashgari - predict seq_length: None, input: (2, 218, 34)\n"
     ]
    },
    {
     "name": "stdout",
     "output_type": "stream",
     "text": [
      "7/7 [==============================] - 1s 190ms/step\n"
     ]
    },
    {
     "name": "stderr",
     "output_type": "stream",
     "text": [
      "2020-12-12 14:08:48,808 [DEBUG] kashgari - predict output: (218, 34)\n",
      "2020-12-12 14:08:48,809 [DEBUG] kashgari - predict output argmax: [[0 1 1 ... 1 1 1]\n",
      " [0 1 1 ... 1 1 1]\n",
      " [0 1 1 ... 1 1 1]\n",
      " ...\n",
      " [0 1 1 ... 1 1 1]\n",
      " [0 1 1 ... 1 1 1]\n",
      " [0 1 0 ... 0 0 0]]\n",
      "2020-12-12 14:08:48,811 [DEBUG] kashgari - predict seq_length: None, input: (2, 103, 16)\n"
     ]
    },
    {
     "name": "stdout",
     "output_type": "stream",
     "text": [
      "4/4 [==============================] - 0s 108ms/step\n"
     ]
    },
    {
     "name": "stderr",
     "output_type": "stream",
     "text": [
      "2020-12-12 14:08:52,219 [DEBUG] kashgari - predict output: (103, 16)\n",
      "2020-12-12 14:08:52,220 [DEBUG] kashgari - predict output argmax: [[0 1 1 ... 1 1 1]\n",
      " [0 1 1 ... 1 1 1]\n",
      " [0 1 1 ... 1 1 1]\n",
      " ...\n",
      " [0 1 1 ... 1 1 1]\n",
      " [0 1 1 ... 8 8 8]\n",
      " [0 1 1 ... 1 1 1]]\n",
      "2020-12-12 14:08:52,226 [DEBUG] kashgari - predict seq_length: None, input: (2, 310, 40)\n"
     ]
    },
    {
     "name": "stdout",
     "output_type": "stream",
     "text": [
      "10/10 [==============================] - 2s 220ms/step\n"
     ]
    },
    {
     "name": "stderr",
     "output_type": "stream",
     "text": [
      "2020-12-12 14:08:54,772 [DEBUG] kashgari - predict output: (310, 40)\n",
      "2020-12-12 14:08:54,773 [DEBUG] kashgari - predict output argmax: [[0 1 1 ... 1 1 1]\n",
      " [0 1 1 ... 1 1 1]\n",
      " [0 1 1 ... 1 1 1]\n",
      " ...\n",
      " [0 1 1 ... 1 1 1]\n",
      " [0 1 1 ... 1 1 1]\n",
      " [0 1 0 ... 0 0 0]]\n",
      "2020-12-12 14:08:54,775 [DEBUG] kashgari - predict seq_length: None, input: (2, 73, 22)\n"
     ]
    },
    {
     "name": "stdout",
     "output_type": "stream",
     "text": [
      "3/3 [==============================] - 0s 115ms/step\n"
     ]
    },
    {
     "name": "stderr",
     "output_type": "stream",
     "text": [
      "2020-12-12 14:08:55,430 [DEBUG] kashgari - predict output: (73, 22)\n",
      "2020-12-12 14:08:55,431 [DEBUG] kashgari - predict output argmax: [[0 1 1 ... 1 1 1]\n",
      " [0 1 1 ... 1 1 1]\n",
      " [0 6 4 ... 1 1 1]\n",
      " ...\n",
      " [0 1 1 ... 1 1 1]\n",
      " [0 1 1 ... 1 1 1]\n",
      " [0 1 0 ... 0 0 0]]\n",
      "2020-12-12 14:08:55,439 [DEBUG] kashgari - predict seq_length: None, input: (2, 624, 50)\n"
     ]
    },
    {
     "name": "stdout",
     "output_type": "stream",
     "text": [
      "20/20 [==============================] - 6s 281ms/step\n"
     ]
    },
    {
     "name": "stderr",
     "output_type": "stream",
     "text": [
      "2020-12-12 14:09:04,318 [DEBUG] kashgari - predict output: (624, 50)\n",
      "2020-12-12 14:09:04,319 [DEBUG] kashgari - predict output argmax: [[0 1 1 ... 1 1 1]\n",
      " [0 1 1 ... 1 1 1]\n",
      " [0 1 1 ... 1 1 1]\n",
      " ...\n",
      " [0 1 1 ... 1 1 1]\n",
      " [0 1 1 ... 1 1 1]\n",
      " [0 1 0 ... 0 0 0]]\n",
      "2020-12-12 14:09:04,327 [DEBUG] kashgari - predict seq_length: None, input: (2, 445, 35)\n"
     ]
    },
    {
     "name": "stdout",
     "output_type": "stream",
     "text": [
      "14/14 [==============================] - 3s 219ms/step\n"
     ]
    },
    {
     "name": "stderr",
     "output_type": "stream",
     "text": [
      "2020-12-12 14:09:10,600 [DEBUG] kashgari - predict output: (445, 35)\n",
      "2020-12-12 14:09:10,601 [DEBUG] kashgari - predict output argmax: [[0 1 1 ... 1 1 1]\n",
      " [0 1 1 ... 1 1 1]\n",
      " [0 1 1 ... 1 1 1]\n",
      " ...\n",
      " [0 1 1 ... 1 1 1]\n",
      " [0 1 6 ... 4 4 4]\n",
      " [0 1 0 ... 0 0 0]]\n",
      "2020-12-12 14:09:10,605 [DEBUG] kashgari - predict seq_length: None, input: (2, 357, 34)\n"
     ]
    },
    {
     "name": "stdout",
     "output_type": "stream",
     "text": [
      "12/12 [==============================] - 2s 206ms/step\n"
     ]
    },
    {
     "name": "stderr",
     "output_type": "stream",
     "text": [
      "2020-12-12 14:09:13,204 [DEBUG] kashgari - predict output: (357, 34)\n",
      "2020-12-12 14:09:13,205 [DEBUG] kashgari - predict output argmax: [[0 1 1 ... 1 1 1]\n",
      " [0 1 1 ... 1 1 1]\n",
      " [0 1 1 ... 1 1 1]\n",
      " ...\n",
      " [0 1 1 ... 1 1 1]\n",
      " [0 1 1 ... 1 1 1]\n",
      " [0 1 0 ... 0 0 0]]\n",
      "2020-12-12 14:09:13,208 [DEBUG] kashgari - predict seq_length: None, input: (2, 328, 49)\n"
     ]
    },
    {
     "name": "stdout",
     "output_type": "stream",
     "text": [
      "11/11 [==============================] - 3s 263ms/step\n"
     ]
    },
    {
     "name": "stderr",
     "output_type": "stream",
     "text": [
      "2020-12-12 14:09:19,277 [DEBUG] kashgari - predict output: (328, 49)\n",
      "2020-12-12 14:09:19,278 [DEBUG] kashgari - predict output argmax: [[0 1 1 ... 1 1 1]\n",
      " [0 1 1 ... 1 1 1]\n",
      " [0 1 1 ... 1 1 1]\n",
      " ...\n",
      " [0 1 1 ... 1 1 1]\n",
      " [0 1 1 ... 1 1 1]\n",
      " [0 1 0 ... 0 0 0]]\n",
      "2020-12-12 14:09:19,280 [DEBUG] kashgari - predict seq_length: None, input: (2, 133, 59)\n"
     ]
    },
    {
     "name": "stdout",
     "output_type": "stream",
     "text": [
      "5/5 [==============================] - 1s 267ms/step\n"
     ]
    },
    {
     "name": "stderr",
     "output_type": "stream",
     "text": [
      "2020-12-12 14:09:23,893 [DEBUG] kashgari - predict output: (133, 59)\n",
      "2020-12-12 14:09:23,894 [DEBUG] kashgari - predict output argmax: [[0 1 1 ... 1 1 1]\n",
      " [0 1 1 ... 1 1 1]\n",
      " [0 1 1 ... 1 1 1]\n",
      " ...\n",
      " [0 1 1 ... 1 1 1]\n",
      " [0 1 1 ... 1 1 1]\n",
      " [0 1 0 ... 0 0 0]]\n",
      "2020-12-12 14:09:23,896 [DEBUG] kashgari - predict seq_length: None, input: (2, 129, 23)\n"
     ]
    },
    {
     "name": "stdout",
     "output_type": "stream",
     "text": [
      "5/5 [==============================] - 1s 152ms/step\n"
     ]
    },
    {
     "name": "stderr",
     "output_type": "stream",
     "text": [
      "2020-12-12 14:09:24,864 [DEBUG] kashgari - predict output: (129, 23)\n",
      "2020-12-12 14:09:24,865 [DEBUG] kashgari - predict output argmax: [[0 1 1 ... 1 1 1]\n",
      " [0 1 1 ... 1 1 1]\n",
      " [0 1 1 ... 1 1 1]\n",
      " ...\n",
      " [0 1 0 ... 1 1 1]\n",
      " [0 1 1 ... 1 1 1]\n",
      " [0 1 0 ... 0 0 0]]\n",
      "2020-12-12 14:09:24,868 [DEBUG] kashgari - predict seq_length: None, input: (2, 131, 30)\n"
     ]
    },
    {
     "name": "stdout",
     "output_type": "stream",
     "text": [
      "5/5 [==============================] - 1s 170ms/step\n"
     ]
    },
    {
     "name": "stderr",
     "output_type": "stream",
     "text": [
      "2020-12-12 14:09:29,476 [DEBUG] kashgari - predict output: (131, 30)\n",
      "2020-12-12 14:09:29,477 [DEBUG] kashgari - predict output argmax: [[0 1 1 ... 1 1 1]\n",
      " [0 6 4 ... 1 1 1]\n",
      " [0 1 1 ... 1 1 1]\n",
      " ...\n",
      " [0 1 1 ... 1 1 1]\n",
      " [0 1 1 ... 1 1 1]\n",
      " [0 1 0 ... 0 0 0]]\n",
      "2020-12-12 14:09:29,481 [DEBUG] kashgari - predict seq_length: None, input: (2, 234, 34)\n"
     ]
    },
    {
     "name": "stdout",
     "output_type": "stream",
     "text": [
      "8/8 [==============================] - 2s 205ms/step\n"
     ]
    },
    {
     "name": "stderr",
     "output_type": "stream",
     "text": [
      "2020-12-12 14:09:31,416 [DEBUG] kashgari - predict output: (234, 34)\n",
      "2020-12-12 14:09:31,417 [DEBUG] kashgari - predict output argmax: [[0 1 1 ... 4 4 4]\n",
      " [0 1 1 ... 1 1 1]\n",
      " [0 1 1 ... 1 1 1]\n",
      " ...\n",
      " [0 1 1 ... 1 1 1]\n",
      " [0 1 1 ... 1 1 1]\n",
      " [0 1 0 ... 0 0 0]]\n",
      "2020-12-12 14:09:31,418 [DEBUG] kashgari - predict seq_length: None, input: (2, 79, 33)\n"
     ]
    },
    {
     "name": "stdout",
     "output_type": "stream",
     "text": [
      "3/3 [==============================] - 0s 161ms/step\n"
     ]
    },
    {
     "name": "stderr",
     "output_type": "stream",
     "text": [
      "2020-12-12 14:09:32,171 [DEBUG] kashgari - predict output: (79, 33)\n",
      "2020-12-12 14:09:32,172 [DEBUG] kashgari - predict output argmax: [[0 1 1 ... 1 1 1]\n",
      " [0 1 1 ... 1 1 1]\n",
      " [0 1 1 ... 1 1 1]\n",
      " ...\n",
      " [0 1 1 ... 1 1 1]\n",
      " [0 1 1 ... 1 1 1]\n",
      " [0 1 0 ... 0 0 0]]\n",
      "2020-12-12 14:09:32,177 [DEBUG] kashgari - predict seq_length: None, input: (2, 260, 37)\n"
     ]
    },
    {
     "name": "stdout",
     "output_type": "stream",
     "text": [
      "9/9 [==============================] - 2s 205ms/step\n"
     ]
    },
    {
     "name": "stderr",
     "output_type": "stream",
     "text": [
      "2020-12-12 14:09:36,978 [DEBUG] kashgari - predict output: (260, 37)\n",
      "2020-12-12 14:09:36,979 [DEBUG] kashgari - predict output argmax: [[0 1 1 ... 1 1 1]\n",
      " [0 1 1 ... 1 1 1]\n",
      " [0 1 1 ... 1 1 1]\n",
      " ...\n",
      " [0 1 1 ... 1 1 1]\n",
      " [0 1 1 ... 1 1 1]\n",
      " [0 1 0 ... 0 0 0]]\n",
      "2020-12-12 14:09:36,981 [DEBUG] kashgari - predict seq_length: None, input: (2, 255, 35)\n"
     ]
    },
    {
     "name": "stdout",
     "output_type": "stream",
     "text": [
      "8/8 [==============================] - 2s 188ms/step\n"
     ]
    },
    {
     "name": "stderr",
     "output_type": "stream",
     "text": [
      "2020-12-12 14:09:38,799 [DEBUG] kashgari - predict output: (255, 35)\n",
      "2020-12-12 14:09:38,799 [DEBUG] kashgari - predict output argmax: [[0 1 1 ... 1 1 1]\n",
      " [0 1 1 ... 1 1 1]\n",
      " [0 1 1 ... 1 1 1]\n",
      " ...\n",
      " [0 1 1 ... 1 1 1]\n",
      " [0 1 1 ... 1 1 1]\n",
      " [0 1 0 ... 0 0 0]]\n",
      "2020-12-12 14:09:38,803 [DEBUG] kashgari - predict seq_length: None, input: (2, 175, 41)\n"
     ]
    },
    {
     "name": "stdout",
     "output_type": "stream",
     "text": [
      "6/6 [==============================] - 1s 205ms/step\n"
     ]
    },
    {
     "name": "stderr",
     "output_type": "stream",
     "text": [
      "2020-12-12 14:09:43,094 [DEBUG] kashgari - predict output: (175, 41)\n",
      "2020-12-12 14:09:43,095 [DEBUG] kashgari - predict output argmax: [[0 1 1 ... 1 1 1]\n",
      " [0 1 1 ... 1 1 1]\n",
      " [0 1 1 ... 1 1 1]\n",
      " ...\n",
      " [0 1 1 ... 1 1 1]\n",
      " [0 1 1 ... 1 1 1]\n",
      " [0 1 0 ... 0 0 0]]\n",
      "2020-12-12 14:09:43,097 [DEBUG] kashgari - predict seq_length: None, input: (2, 189, 31)\n"
     ]
    },
    {
     "name": "stdout",
     "output_type": "stream",
     "text": [
      "6/6 [==============================] - 1s 160ms/step\n"
     ]
    },
    {
     "name": "stderr",
     "output_type": "stream",
     "text": [
      "2020-12-12 14:09:47,197 [DEBUG] kashgari - predict output: (189, 31)\n",
      "2020-12-12 14:09:47,198 [DEBUG] kashgari - predict output argmax: [[0 1 1 ... 1 1 1]\n",
      " [0 1 1 ... 1 1 1]\n",
      " [0 1 1 ... 1 1 1]\n",
      " ...\n",
      " [0 1 1 ... 1 1 1]\n",
      " [0 1 1 ... 1 1 1]\n",
      " [0 1 0 ... 0 0 0]]\n",
      "2020-12-12 14:09:47,201 [DEBUG] kashgari - predict seq_length: None, input: (2, 292, 31)\n"
     ]
    },
    {
     "name": "stdout",
     "output_type": "stream",
     "text": [
      "10/10 [==============================] - 2s 194ms/step\n"
     ]
    },
    {
     "name": "stderr",
     "output_type": "stream",
     "text": [
      "2020-12-12 14:09:49,409 [DEBUG] kashgari - predict output: (292, 31)\n",
      "2020-12-12 14:09:49,410 [DEBUG] kashgari - predict output argmax: [[0 1 1 ... 1 1 1]\n",
      " [0 1 1 ... 1 1 1]\n",
      " [0 1 1 ... 1 1 1]\n",
      " ...\n",
      " [0 1 1 ... 1 1 1]\n",
      " [0 1 1 ... 1 1 1]\n",
      " [0 1 0 ... 0 0 0]]\n",
      "2020-12-12 14:09:49,412 [DEBUG] kashgari - predict seq_length: None, input: (2, 97, 38)\n"
     ]
    },
    {
     "name": "stdout",
     "output_type": "stream",
     "text": [
      "4/4 [==============================] - 1s 177ms/step\n"
     ]
    },
    {
     "name": "stderr",
     "output_type": "stream",
     "text": [
      "2020-12-12 14:09:53,322 [DEBUG] kashgari - predict output: (97, 38)\n",
      "2020-12-12 14:09:53,323 [DEBUG] kashgari - predict output argmax: [[0 1 1 ... 1 1 1]\n",
      " [0 1 1 ... 4 4 4]\n",
      " [0 1 1 ... 1 1 1]\n",
      " ...\n",
      " [0 1 1 ... 1 1 1]\n",
      " [0 1 1 ... 1 1 1]\n",
      " [0 1 0 ... 0 0 0]]\n",
      "2020-12-12 14:09:53,327 [DEBUG] kashgari - predict seq_length: None, input: (2, 351, 56)\n"
     ]
    },
    {
     "name": "stdout",
     "output_type": "stream",
     "text": [
      "11/11 [==============================] - 3s 293ms/step\n"
     ]
    },
    {
     "name": "stderr",
     "output_type": "stream",
     "text": [
      "2020-12-12 14:09:59,852 [DEBUG] kashgari - predict output: (351, 56)\n",
      "2020-12-12 14:09:59,853 [DEBUG] kashgari - predict output argmax: [[0 1 1 ... 1 1 1]\n",
      " [0 1 1 ... 1 1 1]\n",
      " [0 1 1 ... 1 1 1]\n",
      " ...\n",
      " [0 1 1 ... 1 1 1]\n",
      " [0 1 1 ... 1 1 1]\n",
      " [0 1 0 ... 0 0 0]]\n",
      "2020-12-12 14:09:59,857 [DEBUG] kashgari - predict seq_length: None, input: (2, 297, 46)\n"
     ]
    },
    {
     "name": "stdout",
     "output_type": "stream",
     "text": [
      "10/10 [==============================] - 2s 248ms/step\n"
     ]
    },
    {
     "name": "stderr",
     "output_type": "stream",
     "text": [
      "2020-12-12 14:10:05,433 [DEBUG] kashgari - predict output: (297, 46)\n",
      "2020-12-12 14:10:05,433 [DEBUG] kashgari - predict output argmax: [[0 1 1 ... 1 1 1]\n",
      " [0 1 1 ... 1 1 1]\n",
      " [0 1 1 ... 1 1 1]\n",
      " ...\n",
      " [0 1 1 ... 1 1 1]\n",
      " [0 1 1 ... 1 1 1]\n",
      " [0 1 0 ... 0 0 0]]\n",
      "2020-12-12 14:10:05,435 [DEBUG] kashgari - predict seq_length: None, input: (2, 136, 21)\n"
     ]
    },
    {
     "name": "stdout",
     "output_type": "stream",
     "text": [
      "5/5 [==============================] - 1s 147ms/step\n"
     ]
    },
    {
     "name": "stderr",
     "output_type": "stream",
     "text": [
      "2020-12-12 14:10:09,936 [DEBUG] kashgari - predict output: (136, 21)\n",
      "2020-12-12 14:10:09,937 [DEBUG] kashgari - predict output argmax: [[0 1 1 ... 1 1 1]\n",
      " [0 1 1 ... 1 1 1]\n",
      " [0 1 1 ... 4 4 4]\n",
      " ...\n",
      " [0 1 1 ... 1 1 1]\n",
      " [0 1 1 ... 1 1 1]\n",
      " [0 1 0 ... 0 0 0]]\n",
      "2020-12-12 14:10:09,940 [DEBUG] kashgari - predict seq_length: None, input: (2, 115, 42)\n"
     ]
    },
    {
     "name": "stdout",
     "output_type": "stream",
     "text": [
      "4/4 [==============================] - 1s 184ms/step\n"
     ]
    },
    {
     "name": "stderr",
     "output_type": "stream",
     "text": [
      "2020-12-12 14:10:13,861 [DEBUG] kashgari - predict output: (115, 42)\n",
      "2020-12-12 14:10:13,862 [DEBUG] kashgari - predict output argmax: [[0 1 1 ... 1 1 1]\n",
      " [0 1 1 ... 1 1 1]\n",
      " [0 1 1 ... 1 1 1]\n",
      " ...\n",
      " [0 1 1 ... 1 1 1]\n",
      " [0 1 1 ... 1 1 1]\n",
      " [0 1 0 ... 0 0 0]]\n",
      "2020-12-12 14:10:13,864 [DEBUG] kashgari - predict seq_length: None, input: (2, 89, 23)\n"
     ]
    },
    {
     "name": "stdout",
     "output_type": "stream",
     "text": [
      "3/3 [==============================] - 0s 121ms/step\n"
     ]
    },
    {
     "name": "stderr",
     "output_type": "stream",
     "text": [
      "2020-12-12 14:10:14,553 [DEBUG] kashgari - predict output: (89, 23)\n",
      "2020-12-12 14:10:14,554 [DEBUG] kashgari - predict output argmax: [[0 1 1 ... 1 1 1]\n",
      " [0 1 1 ... 1 1 1]\n",
      " [0 1 1 ... 1 1 1]\n",
      " ...\n",
      " [0 1 1 ... 1 1 1]\n",
      " [0 1 1 ... 1 1 1]\n",
      " [0 1 0 ... 0 0 0]]\n",
      "2020-12-12 14:10:14,558 [DEBUG] kashgari - predict seq_length: None, input: (2, 251, 52)\n"
     ]
    },
    {
     "name": "stdout",
     "output_type": "stream",
     "text": [
      "8/8 [==============================] - 2s 240ms/step\n"
     ]
    },
    {
     "name": "stderr",
     "output_type": "stream",
     "text": [
      "2020-12-12 14:10:19,709 [DEBUG] kashgari - predict output: (251, 52)\n",
      "2020-12-12 14:10:19,710 [DEBUG] kashgari - predict output argmax: [[0 1 1 ... 1 1 1]\n",
      " [0 1 1 ... 1 1 1]\n",
      " [0 1 1 ... 1 1 1]\n",
      " ...\n",
      " [0 1 1 ... 1 1 1]\n",
      " [0 1 1 ... 1 1 1]\n",
      " [0 1 0 ... 0 0 0]]\n",
      "2020-12-12 14:10:19,715 [DEBUG] kashgari - predict seq_length: None, input: (2, 153, 20)\n"
     ]
    },
    {
     "name": "stdout",
     "output_type": "stream",
     "text": [
      "5/5 [==============================] - 1s 132ms/step\n"
     ]
    },
    {
     "name": "stderr",
     "output_type": "stream",
     "text": [
      "2020-12-12 14:10:20,691 [DEBUG] kashgari - predict output: (153, 20)\n",
      "2020-12-12 14:10:20,692 [DEBUG] kashgari - predict output argmax: [[0 1 1 ... 1 1 1]\n",
      " [0 1 0 ... 1 1 1]\n",
      " [0 1 1 ... 1 1 1]\n",
      " ...\n",
      " [0 1 1 ... 1 1 1]\n",
      " [0 1 1 ... 1 1 1]\n",
      " [0 1 0 ... 0 0 0]]\n",
      "2020-12-12 14:10:20,695 [DEBUG] kashgari - predict seq_length: None, input: (2, 169, 47)\n"
     ]
    },
    {
     "name": "stdout",
     "output_type": "stream",
     "text": [
      "6/6 [==============================] - 1s 230ms/step\n"
     ]
    },
    {
     "name": "stderr",
     "output_type": "stream",
     "text": [
      "2020-12-12 14:10:25,418 [DEBUG] kashgari - predict output: (169, 47)\n",
      "2020-12-12 14:10:25,419 [DEBUG] kashgari - predict output argmax: [[0 1 1 ... 1 1 1]\n",
      " [0 1 1 ... 1 1 1]\n",
      " [0 1 1 ... 1 1 1]\n",
      " ...\n",
      " [0 1 1 ... 1 1 1]\n",
      " [0 1 1 ... 1 1 1]\n",
      " [0 1 0 ... 0 0 0]]\n",
      "2020-12-12 14:10:25,422 [DEBUG] kashgari - predict seq_length: None, input: (2, 324, 37)\n"
     ]
    },
    {
     "name": "stdout",
     "output_type": "stream",
     "text": [
      "11/11 [==============================] - 2s 216ms/step\n"
     ]
    },
    {
     "name": "stderr",
     "output_type": "stream",
     "text": [
      "2020-12-12 14:10:28,039 [DEBUG] kashgari - predict output: (324, 37)\n",
      "2020-12-12 14:10:28,039 [DEBUG] kashgari - predict output argmax: [[0 1 1 ... 1 1 1]\n",
      " [0 1 1 ... 1 1 1]\n",
      " [0 1 1 ... 1 1 1]\n",
      " ...\n",
      " [0 1 1 ... 8 8 8]\n",
      " [0 1 1 ... 1 1 1]\n",
      " [0 1 0 ... 0 0 0]]\n",
      "2020-12-12 14:10:28,042 [DEBUG] kashgari - predict seq_length: None, input: (2, 157, 35)\n"
     ]
    },
    {
     "name": "stdout",
     "output_type": "stream",
     "text": [
      "5/5 [==============================] - 1s 169ms/step\n"
     ]
    },
    {
     "name": "stderr",
     "output_type": "stream",
     "text": [
      "2020-12-12 14:10:29,233 [DEBUG] kashgari - predict output: (157, 35)\n",
      "2020-12-12 14:10:29,234 [DEBUG] kashgari - predict output argmax: [[0 1 1 ... 1 1 1]\n",
      " [0 1 1 ... 1 1 1]\n",
      " [0 1 1 ... 1 1 1]\n",
      " ...\n",
      " [0 1 1 ... 1 1 1]\n",
      " [0 1 1 ... 1 1 1]\n",
      " [0 1 0 ... 0 0 0]]\n",
      "2020-12-12 14:10:29,236 [DEBUG] kashgari - predict seq_length: None, input: (2, 191, 27)\n"
     ]
    },
    {
     "name": "stdout",
     "output_type": "stream",
     "text": [
      "6/6 [==============================] - 1s 147ms/step\n"
     ]
    },
    {
     "name": "stderr",
     "output_type": "stream",
     "text": [
      "2020-12-12 14:10:33,255 [DEBUG] kashgari - predict output: (191, 27)\n",
      "2020-12-12 14:10:33,256 [DEBUG] kashgari - predict output argmax: [[0 1 1 ... 1 1 1]\n",
      " [0 1 1 ... 1 1 1]\n",
      " [0 1 1 ... 1 1 1]\n",
      " ...\n",
      " [0 1 1 ... 1 1 1]\n",
      " [0 1 1 ... 1 1 1]\n",
      " [0 1 0 ... 0 0 0]]\n",
      "2020-12-12 14:10:33,258 [DEBUG] kashgari - predict seq_length: None, input: (2, 115, 36)\n"
     ]
    },
    {
     "name": "stdout",
     "output_type": "stream",
     "text": [
      "4/4 [==============================] - 1s 190ms/step\n"
     ]
    },
    {
     "name": "stderr",
     "output_type": "stream",
     "text": [
      "2020-12-12 14:10:37,164 [DEBUG] kashgari - predict output: (115, 36)\n",
      "2020-12-12 14:10:37,165 [DEBUG] kashgari - predict output argmax: [[0 1 1 ... 1 1 1]\n",
      " [0 1 1 ... 1 1 1]\n",
      " [0 1 1 ... 1 1 1]\n",
      " ...\n",
      " [0 1 1 ... 1 1 1]\n",
      " [0 1 1 ... 1 1 1]\n",
      " [0 1 0 ... 0 0 0]]\n",
      "2020-12-12 14:10:37,170 [DEBUG] kashgari - predict seq_length: None, input: (2, 529, 33)\n"
     ]
    },
    {
     "name": "stdout",
     "output_type": "stream",
     "text": [
      "17/17 [==============================] - 4s 211ms/step\n"
     ]
    },
    {
     "name": "stderr",
     "output_type": "stream",
     "text": [
      "2020-12-12 14:10:41,035 [DEBUG] kashgari - predict output: (529, 33)\n",
      "2020-12-12 14:10:41,036 [DEBUG] kashgari - predict output argmax: [[0 1 1 ... 1 1 1]\n",
      " [0 1 1 ... 1 1 1]\n",
      " [0 1 1 ... 1 1 1]\n",
      " ...\n",
      " [0 1 1 ... 1 1 1]\n",
      " [0 1 1 ... 1 1 1]\n",
      " [0 1 0 ... 0 0 0]]\n",
      "2020-12-12 14:10:41,039 [DEBUG] kashgari - predict seq_length: None, input: (2, 217, 32)\n"
     ]
    },
    {
     "name": "stdout",
     "output_type": "stream",
     "text": [
      "7/7 [==============================] - 1s 207ms/step\n"
     ]
    },
    {
     "name": "stderr",
     "output_type": "stream",
     "text": [
      "2020-12-12 14:10:42,636 [DEBUG] kashgari - predict output: (217, 32)\n",
      "2020-12-12 14:10:42,636 [DEBUG] kashgari - predict output argmax: [[0 1 1 ... 1 1 1]\n",
      " [0 1 1 ... 1 1 1]\n",
      " [0 1 1 ... 1 1 1]\n",
      " ...\n",
      " [0 1 1 ... 1 1 1]\n",
      " [0 1 1 ... 1 1 1]\n",
      " [0 1 0 ... 0 0 0]]\n",
      "2020-12-12 14:10:42,640 [DEBUG] kashgari - predict seq_length: None, input: (2, 186, 47)\n"
     ]
    },
    {
     "name": "stdout",
     "output_type": "stream",
     "text": [
      "6/6 [==============================] - 1s 210ms/step\n"
     ]
    },
    {
     "name": "stderr",
     "output_type": "stream",
     "text": [
      "2020-12-12 14:10:44,285 [DEBUG] kashgari - predict output: (186, 47)\n",
      "2020-12-12 14:10:44,286 [DEBUG] kashgari - predict output argmax: [[0 1 1 ... 1 1 1]\n",
      " [0 1 1 ... 1 1 1]\n",
      " [0 1 1 ... 1 1 1]\n",
      " ...\n",
      " [0 1 1 ... 1 1 1]\n",
      " [0 1 0 ... 1 1 1]\n",
      " [0 1 0 ... 0 0 0]]\n",
      "2020-12-12 14:10:44,290 [DEBUG] kashgari - predict seq_length: None, input: (2, 410, 55)\n"
     ]
    },
    {
     "name": "stdout",
     "output_type": "stream",
     "text": [
      "13/13 [==============================] - 4s 298ms/step\n"
     ]
    },
    {
     "name": "stderr",
     "output_type": "stream",
     "text": [
      "2020-12-12 14:10:51,388 [DEBUG] kashgari - predict output: (410, 55)\n",
      "2020-12-12 14:10:51,389 [DEBUG] kashgari - predict output argmax: [[0 1 1 ... 1 1 1]\n",
      " [0 1 1 ... 1 1 1]\n",
      " [0 1 1 ... 1 1 1]\n",
      " ...\n",
      " [0 1 1 ... 1 1 1]\n",
      " [0 1 1 ... 1 1 1]\n",
      " [0 1 0 ... 0 0 0]]\n",
      "2020-12-12 14:10:51,393 [DEBUG] kashgari - predict seq_length: None, input: (2, 347, 42)\n"
     ]
    },
    {
     "name": "stdout",
     "output_type": "stream",
     "text": [
      "11/11 [==============================] - 2s 225ms/step\n"
     ]
    },
    {
     "name": "stderr",
     "output_type": "stream",
     "text": [
      "2020-12-12 14:10:54,238 [DEBUG] kashgari - predict output: (347, 42)\n",
      "2020-12-12 14:10:54,239 [DEBUG] kashgari - predict output argmax: [[0 1 1 ... 1 1 1]\n",
      " [0 1 1 ... 1 1 1]\n",
      " [0 1 1 ... 1 1 1]\n",
      " ...\n",
      " [0 1 1 ... 1 1 1]\n",
      " [0 1 1 ... 1 1 1]\n",
      " [0 1 0 ... 0 0 0]]\n",
      "2020-12-12 14:10:54,244 [DEBUG] kashgari - predict seq_length: None, input: (2, 524, 65)\n"
     ]
    },
    {
     "name": "stdout",
     "output_type": "stream",
     "text": [
      "17/17 [==============================] - 6s 352ms/step\n"
     ]
    },
    {
     "name": "stderr",
     "output_type": "stream",
     "text": [
      "2020-12-12 14:11:03,456 [DEBUG] kashgari - predict output: (524, 65)\n",
      "2020-12-12 14:11:03,457 [DEBUG] kashgari - predict output argmax: [[0 1 1 ... 1 1 1]\n",
      " [0 1 1 ... 1 1 1]\n",
      " [0 1 1 ... 1 1 1]\n",
      " ...\n",
      " [0 1 1 ... 1 1 1]\n",
      " [0 1 1 ... 1 1 1]\n",
      " [0 1 0 ... 0 0 0]]\n",
      "2020-12-12 14:11:03,460 [DEBUG] kashgari - predict seq_length: None, input: (2, 182, 29)\n"
     ]
    },
    {
     "name": "stdout",
     "output_type": "stream",
     "text": [
      "6/6 [==============================] - 1s 153ms/step\n"
     ]
    },
    {
     "name": "stderr",
     "output_type": "stream",
     "text": [
      "2020-12-12 14:11:04,718 [DEBUG] kashgari - predict output: (182, 29)\n",
      "2020-12-12 14:11:04,718 [DEBUG] kashgari - predict output argmax: [[0 1 1 ... 1 1 1]\n",
      " [0 1 1 ... 1 1 1]\n",
      " [0 1 1 ... 1 1 1]\n",
      " ...\n",
      " [0 1 1 ... 1 1 1]\n",
      " [0 1 1 ... 1 1 1]\n",
      " [0 1 0 ... 0 0 0]]\n",
      "2020-12-12 14:11:04,721 [DEBUG] kashgari - predict seq_length: None, input: (2, 163, 20)\n"
     ]
    },
    {
     "name": "stdout",
     "output_type": "stream",
     "text": [
      "6/6 [==============================] - 1s 134ms/step\n"
     ]
    },
    {
     "name": "stderr",
     "output_type": "stream",
     "text": [
      "2020-12-12 14:11:05,800 [DEBUG] kashgari - predict output: (163, 20)\n",
      "2020-12-12 14:11:05,801 [DEBUG] kashgari - predict output argmax: [[0 1 1 ... 1 1 1]\n",
      " [0 1 1 ... 1 1 1]\n",
      " [0 1 1 ... 1 1 1]\n",
      " ...\n",
      " [0 1 0 ... 1 1 1]\n",
      " [0 1 1 ... 1 1 1]\n",
      " [0 1 0 ... 0 0 0]]\n",
      "2020-12-12 14:11:05,806 [DEBUG] kashgari - predict seq_length: None, input: (2, 97, 19)\n"
     ]
    },
    {
     "name": "stdout",
     "output_type": "stream",
     "text": [
      "4/4 [==============================] - 0s 112ms/step\n"
     ]
    },
    {
     "name": "stderr",
     "output_type": "stream",
     "text": [
      "2020-12-12 14:11:06,555 [DEBUG] kashgari - predict output: (97, 19)\n",
      "2020-12-12 14:11:06,556 [DEBUG] kashgari - predict output argmax: [[0 1 1 ... 1 1 1]\n",
      " [0 1 1 ... 1 1 1]\n",
      " [0 1 0 ... 1 1 1]\n",
      " ...\n",
      " [0 1 1 ... 1 1 1]\n",
      " [0 1 1 ... 1 1 1]\n",
      " [0 1 0 ... 0 0 0]]\n",
      "2020-12-12 14:11:06,560 [DEBUG] kashgari - predict seq_length: None, input: (2, 189, 21)\n"
     ]
    },
    {
     "name": "stdout",
     "output_type": "stream",
     "text": [
      "6/6 [==============================] - 1s 139ms/step\n"
     ]
    },
    {
     "name": "stderr",
     "output_type": "stream",
     "text": [
      "2020-12-12 14:11:07,716 [DEBUG] kashgari - predict output: (189, 21)\n",
      "2020-12-12 14:11:07,719 [DEBUG] kashgari - predict output argmax: [[0 1 1 ... 1 1 1]\n",
      " [0 1 0 ... 1 1 1]\n",
      " [0 1 1 ... 1 1 1]\n",
      " ...\n",
      " [0 1 1 ... 1 1 1]\n",
      " [0 1 1 ... 1 1 1]\n",
      " [0 1 0 ... 0 0 0]]\n",
      "2020-12-12 14:11:07,724 [DEBUG] kashgari - predict seq_length: None, input: (2, 320, 25)\n"
     ]
    },
    {
     "name": "stdout",
     "output_type": "stream",
     "text": [
      "10/10 [==============================] - 1s 97ms/step\n"
     ]
    },
    {
     "name": "stderr",
     "output_type": "stream",
     "text": [
      "2020-12-12 14:11:10,877 [DEBUG] kashgari - predict output: (320, 25)\n",
      "2020-12-12 14:11:10,878 [DEBUG] kashgari - predict output argmax: [[0 1 1 ... 1 1 1]\n",
      " [0 1 1 ... 1 1 1]\n",
      " [0 1 1 ... 1 1 1]\n",
      " ...\n",
      " [0 1 0 ... 1 1 1]\n",
      " [0 1 1 ... 1 1 1]\n",
      " [0 1 0 ... 0 0 0]]\n",
      "2020-12-12 14:11:10,881 [DEBUG] kashgari - predict seq_length: None, input: (2, 301, 20)\n"
     ]
    },
    {
     "name": "stdout",
     "output_type": "stream",
     "text": [
      "10/10 [==============================] - 2s 155ms/step\n"
     ]
    },
    {
     "name": "stderr",
     "output_type": "stream",
     "text": [
      "2020-12-12 14:11:12,743 [DEBUG] kashgari - predict output: (301, 20)\n",
      "2020-12-12 14:11:12,744 [DEBUG] kashgari - predict output argmax: [[0 1 1 ... 1 1 1]\n",
      " [0 1 1 ... 1 1 1]\n",
      " [0 1 1 ... 1 1 1]\n",
      " ...\n",
      " [0 1 0 ... 1 1 1]\n",
      " [0 1 1 ... 1 1 1]\n",
      " [0 1 0 ... 0 0 0]]\n",
      "2020-12-12 14:11:12,747 [DEBUG] kashgari - predict seq_length: None, input: (2, 82, 35)\n"
     ]
    },
    {
     "name": "stdout",
     "output_type": "stream",
     "text": [
      "3/3 [==============================] - 0s 151ms/step\n"
     ]
    },
    {
     "name": "stderr",
     "output_type": "stream",
     "text": [
      "2020-12-12 14:11:13,505 [DEBUG] kashgari - predict output: (82, 35)\n",
      "2020-12-12 14:11:13,505 [DEBUG] kashgari - predict output argmax: [[0 1 1 ... 1 1 1]\n",
      " [0 1 1 ... 1 1 1]\n",
      " [0 1 1 ... 1 1 1]\n",
      " ...\n",
      " [0 1 1 ... 1 1 1]\n",
      " [0 1 1 ... 1 1 1]\n",
      " [0 1 0 ... 0 0 0]]\n",
      "2020-12-12 14:11:13,509 [DEBUG] kashgari - predict seq_length: None, input: (2, 192, 37)\n"
     ]
    },
    {
     "name": "stdout",
     "output_type": "stream",
     "text": [
      "6/6 [==============================] - 1s 144ms/step\n"
     ]
    },
    {
     "name": "stderr",
     "output_type": "stream",
     "text": [
      "2020-12-12 14:11:16,617 [DEBUG] kashgari - predict output: (192, 37)\n",
      "2020-12-12 14:11:16,618 [DEBUG] kashgari - predict output argmax: [[0 1 1 ... 1 1 1]\n",
      " [0 1 6 ... 1 1 1]\n",
      " [0 1 1 ... 4 4 4]\n",
      " ...\n",
      " [0 1 1 ... 1 1 1]\n",
      " [0 1 1 ... 1 1 1]\n",
      " [0 1 0 ... 0 0 0]]\n",
      "2020-12-12 14:11:16,622 [DEBUG] kashgari - predict seq_length: None, input: (2, 264, 48)\n"
     ]
    },
    {
     "name": "stdout",
     "output_type": "stream",
     "text": [
      "9/9 [==============================] - 2s 258ms/step\n"
     ]
    },
    {
     "name": "stderr",
     "output_type": "stream",
     "text": [
      "2020-12-12 14:11:23,139 [DEBUG] kashgari - predict output: (264, 48)\n",
      "2020-12-12 14:11:23,140 [DEBUG] kashgari - predict output argmax: [[0 1 1 ... 1 1 1]\n",
      " [0 1 1 ... 1 1 1]\n",
      " [0 1 1 ... 1 1 1]\n",
      " ...\n",
      " [0 1 1 ... 1 1 1]\n",
      " [0 1 1 ... 1 1 1]\n",
      " [0 1 0 ... 0 0 0]]\n",
      "2020-12-12 14:11:23,143 [DEBUG] kashgari - predict seq_length: None, input: (2, 247, 43)\n"
     ]
    },
    {
     "name": "stdout",
     "output_type": "stream",
     "text": [
      "8/8 [==============================] - 2s 216ms/step\n"
     ]
    },
    {
     "name": "stderr",
     "output_type": "stream",
     "text": [
      "2020-12-12 14:11:28,022 [DEBUG] kashgari - predict output: (247, 43)\n",
      "2020-12-12 14:11:28,022 [DEBUG] kashgari - predict output argmax: [[0 1 1 ... 1 1 1]\n",
      " [0 1 1 ... 1 1 1]\n",
      " [0 1 1 ... 1 1 1]\n",
      " ...\n",
      " [0 1 1 ... 1 1 1]\n",
      " [0 1 1 ... 1 1 1]\n",
      " [0 1 0 ... 0 0 0]]\n",
      "2020-12-12 14:11:28,024 [DEBUG] kashgari - predict seq_length: None, input: (2, 120, 21)\n"
     ]
    },
    {
     "name": "stdout",
     "output_type": "stream",
     "text": [
      "4/4 [==============================] - 0s 112ms/step\n"
     ]
    },
    {
     "name": "stderr",
     "output_type": "stream",
     "text": [
      "2020-12-12 14:11:28,719 [DEBUG] kashgari - predict output: (120, 21)\n",
      "2020-12-12 14:11:28,720 [DEBUG] kashgari - predict output argmax: [[ 0  1  1 ... 21 21 21]\n",
      " [ 0  1  1 ...  1  1  1]\n",
      " [ 0  6  4 ...  1  1  1]\n",
      " ...\n",
      " [ 0  1  1 ...  1  1  1]\n",
      " [ 0  1  1 ...  1  1  1]\n",
      " [ 0  1  0 ...  0  0  0]]\n",
      "2020-12-12 14:11:28,722 [DEBUG] kashgari - predict seq_length: None, input: (2, 49, 21)\n"
     ]
    },
    {
     "name": "stdout",
     "output_type": "stream",
     "text": [
      "2/2 [==============================] - 0s 32ms/step\n"
     ]
    },
    {
     "name": "stderr",
     "output_type": "stream",
     "text": [
      "2020-12-12 14:11:29,096 [DEBUG] kashgari - predict output: (49, 21)\n",
      "2020-12-12 14:11:29,097 [DEBUG] kashgari - predict output argmax: [[0 1 1 ... 1 1 1]\n",
      " [0 1 1 ... 1 1 1]\n",
      " [0 1 1 ... 1 1 1]\n",
      " ...\n",
      " [0 1 1 ... 1 1 1]\n",
      " [0 1 1 ... 1 1 1]\n",
      " [0 1 0 ... 0 0 0]]\n",
      "2020-12-12 14:11:29,099 [DEBUG] kashgari - predict seq_length: None, input: (2, 104, 32)\n"
     ]
    },
    {
     "name": "stdout",
     "output_type": "stream",
     "text": [
      "4/4 [==============================] - 1s 141ms/step\n"
     ]
    },
    {
     "name": "stderr",
     "output_type": "stream",
     "text": [
      "2020-12-12 14:11:29,996 [DEBUG] kashgari - predict output: (104, 32)\n",
      "2020-12-12 14:11:29,996 [DEBUG] kashgari - predict output argmax: [[0 1 1 ... 4 4 4]\n",
      " [0 1 1 ... 1 1 1]\n",
      " [0 1 1 ... 1 1 1]\n",
      " ...\n",
      " [0 1 1 ... 1 1 1]\n",
      " [0 1 1 ... 1 1 1]\n",
      " [0 1 0 ... 0 0 0]]\n",
      "2020-12-12 14:11:29,999 [DEBUG] kashgari - predict seq_length: None, input: (2, 190, 33)\n"
     ]
    },
    {
     "name": "stdout",
     "output_type": "stream",
     "text": [
      "6/6 [==============================] - 1s 192ms/step\n"
     ]
    },
    {
     "name": "stderr",
     "output_type": "stream",
     "text": [
      "2020-12-12 14:11:31,402 [DEBUG] kashgari - predict output: (190, 33)\n",
      "2020-12-12 14:11:31,403 [DEBUG] kashgari - predict output argmax: [[0 1 1 ... 1 1 1]\n",
      " [0 1 1 ... 1 1 1]\n",
      " [0 1 1 ... 1 1 1]\n",
      " ...\n",
      " [0 1 1 ... 1 1 1]\n",
      " [0 1 1 ... 1 1 1]\n",
      " [0 1 0 ... 0 0 0]]\n",
      "2020-12-12 14:11:31,406 [DEBUG] kashgari - predict seq_length: None, input: (2, 79, 25)\n"
     ]
    },
    {
     "name": "stdout",
     "output_type": "stream",
     "text": [
      "3/3 [==============================] - 0s 129ms/step\n"
     ]
    },
    {
     "name": "stderr",
     "output_type": "stream",
     "text": [
      "2020-12-12 14:11:32,102 [DEBUG] kashgari - predict output: (79, 25)\n",
      "2020-12-12 14:11:32,103 [DEBUG] kashgari - predict output argmax: [[0 1 1 ... 1 1 1]\n",
      " [0 1 1 ... 1 1 1]\n",
      " [0 1 1 ... 1 1 1]\n",
      " ...\n",
      " [0 1 1 ... 1 1 1]\n",
      " [0 1 1 ... 1 1 1]\n",
      " [0 1 0 ... 0 0 0]]\n",
      "2020-12-12 14:11:32,106 [DEBUG] kashgari - predict seq_length: None, input: (2, 162, 39)\n"
     ]
    },
    {
     "name": "stdout",
     "output_type": "stream",
     "text": [
      "6/6 [==============================] - 1s 168ms/step\n"
     ]
    },
    {
     "name": "stderr",
     "output_type": "stream",
     "text": [
      "2020-12-12 14:11:36,347 [DEBUG] kashgari - predict output: (162, 39)\n",
      "2020-12-12 14:11:36,348 [DEBUG] kashgari - predict output argmax: [[0 1 1 ... 1 1 1]\n",
      " [0 1 1 ... 1 1 1]\n",
      " [0 1 1 ... 1 1 1]\n",
      " ...\n",
      " [0 1 1 ... 1 1 1]\n",
      " [0 1 1 ... 1 1 1]\n",
      " [0 1 0 ... 0 0 0]]\n",
      "2020-12-12 14:11:36,350 [DEBUG] kashgari - predict seq_length: None, input: (2, 96, 23)\n"
     ]
    },
    {
     "name": "stdout",
     "output_type": "stream",
     "text": [
      "3/3 [==============================] - 0s 72ms/step\n"
     ]
    },
    {
     "name": "stderr",
     "output_type": "stream",
     "text": [
      "2020-12-12 14:11:38,725 [DEBUG] kashgari - predict output: (96, 23)\n",
      "2020-12-12 14:11:38,726 [DEBUG] kashgari - predict output argmax: [[0 1 1 ... 1 1 1]\n",
      " [0 1 1 ... 1 1 1]\n",
      " [0 1 1 ... 1 1 1]\n",
      " ...\n",
      " [0 1 1 ... 1 1 1]\n",
      " [0 1 1 ... 1 1 1]\n",
      " [0 1 0 ... 0 0 0]]\n",
      "2020-12-12 14:11:38,729 [DEBUG] kashgari - predict seq_length: None, input: (2, 197, 40)\n"
     ]
    },
    {
     "name": "stdout",
     "output_type": "stream",
     "text": [
      "7/7 [==============================] - 1s 211ms/step\n"
     ]
    },
    {
     "name": "stderr",
     "output_type": "stream",
     "text": [
      "2020-12-12 14:11:40,410 [DEBUG] kashgari - predict output: (197, 40)\n",
      "2020-12-12 14:11:40,410 [DEBUG] kashgari - predict output argmax: [[0 1 1 ... 1 1 1]\n",
      " [0 1 1 ... 1 1 1]\n",
      " [0 1 1 ... 1 1 1]\n",
      " ...\n",
      " [0 1 1 ... 1 1 1]\n",
      " [0 1 1 ... 1 1 1]\n",
      " [0 1 0 ... 0 0 0]]\n"
     ]
    }
   ],
   "source": [
    "df = predicting_txt_to_dataframe('/home/Danny/AI-CUP-2020/datasets/stage4/development_2.txt')\n",
    "output_str = \"article_id\\tstart_position\\tend_position\\tentity_text\\tentity_type\\n\"\n",
    "\n",
    "for article_id, text in zip(df['article_id'], df['text']):\n",
    "    x_list = [word for word in text]\n",
    "    y_list = predict_NER(text)\n",
    "    output_str += output_NER(article_id, text, y_list)"
   ]
  },
  {
   "cell_type": "code",
   "execution_count": 20,
   "metadata": {},
   "outputs": [
    {
     "name": "stdout",
     "output_type": "stream",
     "text": [
      "article_id\tstart_position\tend_position\tentity_text\tentity_type\n",
      "0\t273\t276\t李醫生\tname\n",
      "0\t320\t322\t25\tmed_exam\n",
      "0\t326\t328\t25\tmed_exam\n",
      "0\t409\t411\t4點\ttime\n",
      "0\t615\t619\t11點多\ttime\n",
      "0\t644\t647\t這兩天\ttime\n",
      "0\t817\t819\t晚上\ttime\n",
      "0\t1168\t1172\t7月21\ttime\n",
      "0\t2200\t2203\t13號\ttime\n",
      "0\t2214\t2217\t15天\ttime\n",
      "0\t2226\t2228\t3天\ttime\n",
      "0\t2319\t2322\t禮拜一\ttime\n",
      "0\t2332\t2335\t禮拜一\ttime\n",
      "0\t2372\t2375\t前幾天\ttime\n",
      "0\t2555\t2558\t皇后區\tlocation\n",
      "0\t2735\t2740\t布魯克林區\tlocation\n",
      "0\t2752\t2755\t皇后區\tlocation\n",
      "0\t2774\t2777\t皇后區\tlocation\n",
      "0\t2807\t2810\t下禮拜\ttime\n",
      "0\t3029\t3031\t昨天\ttime\n",
      "0\t3067\t3070\t下禮拜\ttime\n",
      "0\t3340\t3343\t下禮拜\ttime\n",
      "1\t59\t62\t108\tmed_exam\n",
      "1\t66\t69\t108\tmed_exam\n",
      "1\t457\t460\t五月中\ttime\n",
      "1\t671\t674\t三個月\ttime\n",
      "2\t27\t32\t8月17號\ttime\n",
      "2\t40\t45\t上上個禮拜\ttime\n",
      "2\t53\t56\t110\tmed_exam\n",
      "2\t85\t88\t110\tmed_exam\n",
      "2\t111\t114\t6.0\tmed_exam\n",
      "2\t279\t282\t2年前\ttime\n",
      "2\t496\t498\t泰國\tlocation\n",
      "2\t563\t566\t光華路\tlocation\n",
      "2\t571\t574\t光華路\tlocation\n",
      "2\t980\t982\t兩天\ttime\n",
      "2\t1096\t1098\t半年\ttime\n",
      "2\t1114\t1116\t半年\ttime\n",
      "2\t1118\t1120\t半年\ttime\n",
      "2\t1147\t1150\t三個月\ttime\n",
      "2\t1226\t1231\t一兩個禮拜\ttime\n",
      "3\t157\t159\t晚上\ttime\n",
      "3\t183\t186\t7點多\ttime\n",
      "3\t187\t190\t8點多\ttime\n",
      "3\t233\t236\t9點多\ttime\n",
      "3\t240\t243\t10點\ttime\n",
      "3\t250\t255\t6月15號\ttime\n",
      "3\t256\t259\t16號\ttime\n",
      "3\t265\t268\t16號\ttime\n",
      "3\t272\t274\t14\tmed_exam\n",
      "3\t275\t277\t15\tmed_exam\n",
      "3\t278\t281\t16號\ttime\n",
      "3\t302\t306\t1個禮拜\ttime\n",
      "3\t576\t580\t6月4號\ttime\n",
      "3\t582\t584\t前年\ttime\n",
      "3\t592\t594\t前年\ttime\n",
      "3\t609\t611\t一年\ttime\n",
      "3\t1430\t1436\t洗禮拜1、3\ttime\n",
      "3\t1437\t1438\t5\ttime\n",
      "3\t1443\t1446\t禮拜2\ttime\n",
      "3\t1456\t1461\t禮拜2、4\ttime\n",
      "3\t1472\t1475\t禮拜2\ttime\n",
      "3\t1489\t1494\t禮拜1、3\ttime\n",
      "3\t1842\t1844\t高醫\tlocation\n",
      "3\t1873\t1877\t4、5月\ttime\n",
      "3\t1882\t1884\t去年\ttime\n",
      "3\t1890\t1894\t108年\ttime\n",
      "3\t1899\t1903\t106年\ttime\n",
      "3\t1910\t1914\t106年\ttime\n",
      "3\t1921\t1925\t4、5月\ttime\n",
      "3\t1929\t1931\t四月\ttime\n",
      "3\t1932\t1934\t五月\ttime\n",
      "3\t1947\t1949\t高醫\tlocation\n",
      "3\t2021\t2025\t4、5月\ttime\n",
      "3\t2033\t2036\t8月份\ttime\n",
      "3\t2041\t2043\t8月\ttime\n",
      "3\t2046\t2048\t8月\ttime\n",
      "3\t2102\t2104\t5年\ttime\n",
      "3\t2105\t2107\t5年\ttime\n",
      "3\t2178\t2183\t八月23日\ttime\n",
      "3\t2195\t2200\t八月23日\ttime\n",
      "3\t2204\t2207\t八月份\ttime\n",
      "3\t2219\t2225\t6、7、8月\ttime\n",
      "3\t2230\t2233\t八月份\ttime\n",
      "3\t2250\t2254\t106年\ttime\n",
      "3\t3081\t3087\t1、2個小時\ttime\n",
      "3\t3101\t3107\t1、2個小時\ttime\n",
      "3\t3108\t3114\t1、2個小時\ttime\n",
      "3\t3131\t3133\t明天\ttime\n",
      "4\t7\t12\t6月14號\ttime\n",
      "4\t18\t20\t14\tmed_exam\n",
      "4\t24\t26\t13\tmed_exam\n",
      "4\t28\t30\t14\tmed_exam\n",
      "4\t38\t40\t14\tmed_exam\n",
      "4\t42\t44\t13\tmed_exam\n",
      "4\t45\t47\t14\tmed_exam\n",
      "4\t146\t148\t昨天\ttime\n",
      "4\t187\t190\t林醫師\tname\n",
      "4\t318\t321\t巫醫師\tname\n",
      "4\t338\t343\t前一個禮拜\ttime\n",
      "4\t354\t358\t上個禮拜\ttime\n",
      "4\t388\t392\t一個禮拜\ttime\n",
      "4\t623\t625\t昨天\ttime\n",
      "4\t666\t668\t昨天\ttime\n",
      "4\t687\t690\t70多\tmed_exam\n",
      "4\t731\t734\t林醫師\tname\n",
      "4\t806\t809\t林醫師\tname\n",
      "4\t815\t818\t林醫師\tname\n",
      "4\t838\t840\t昨天\ttime\n",
      "4\t844\t847\t林醫師\tname\n",
      "4\t872\t877\t6月24號\ttime\n",
      "4\t880\t883\t林醫師\tname\n",
      "4\t1051\t1054\t呂醫師\tname\n",
      "4\t1134\t1137\t前幾天\ttime\n",
      "4\t1537\t1540\t許醫師\tname\n",
      "4\t1606\t1609\t林醫師\tname\n",
      "4\t1620\t1623\t林醫師\tname\n",
      "4\t1665\t1668\t林醫師\tname\n",
      "4\t1724\t1729\t巫大維醫師\tname\n",
      "4\t1811\t1814\t林醫師\tname\n",
      "4\t1959\t1963\t這三個月\ttime\n",
      "4\t1974\t1977\t三個月\ttime\n",
      "4\t1979\t1982\t三個月\ttime\n",
      "4\t1988\t1991\t三個月\ttime\n",
      "5\t326\t327\t三\ttime\n",
      "5\t861\t866\t1．6公分\tmed_exam\n",
      "5\t968\t970\t2點\ttime\n",
      "5\t1028\t1030\t今天\ttime\n",
      "5\t1052\t1055\t10點\ttime\n",
      "5\t1886\t1889\t禮拜三\ttime\n",
      "5\t1893\t1896\t禮拜三\ttime\n",
      "5\t1919\t1921\t上午\ttime\n",
      "5\t1922\t1925\t禮拜三\ttime\n",
      "5\t1927\t1929\t上午\ttime\n",
      "5\t2326\t2328\t基隆\tlocation\n",
      "5\t2378\t2380\t老媽\tfamily\n",
      "5\t2381\t2383\t基隆\tlocation\n",
      "5\t2433\t2436\t禮拜三\ttime\n",
      "5\t2437\t2441\t6月6號\ttime\n",
      "6\t86\t88\t前年\ttime\n",
      "6\t158\t162\t今年5月\ttime\n",
      "6\t376\t380\t7月4號\ttime\n",
      "6\t802\t805\t三四天\ttime\n",
      "6\t822\t825\t三四天\ttime\n",
      "6\t829\t832\t三四天\ttime\n",
      "6\t994\t997\t418\tmed_exam\n",
      "6\t1003\t1006\t418\tmed_exam\n",
      "6\t1041\t1044\t418\tmed_exam\n",
      "6\t1091\t1093\t小姐\tname\n",
      "6\t1170\t1173\t343\tmed_exam\n",
      "6\t1177\t1180\t343\tmed_exam\n",
      "6\t1217\t1219\t今天\ttime\n",
      "6\t1250\t1253\t吳醫師\tname\n",
      "6\t1625\t1627\t櫻木\tname\n",
      "7\t108\t111\t張醫師\tname\n",
      "7\t240\t243\t132\tmed_exam\n",
      "7\t247\t250\t132\tmed_exam\n",
      "7\t272\t274\t91\tmed_exam\n",
      "7\t278\t280\t91\tmed_exam\n",
      "7\t323\t325\t72\tmed_exam\n",
      "7\t432\t435\t張醫師\tname\n",
      "7\t717\t720\t三百多\tmed_exam\n",
      "7\t889\t892\t三個月\ttime\n",
      "7\t910\t913\t三個月\ttime\n",
      "7\t1038\t1041\t三個月\ttime\n",
      "7\t1045\t1048\t三個月\ttime\n",
      "8\t215\t218\t黃醫師\tname\n",
      "8\t262\t265\t黃醫師\tname\n",
      "8\t484\t486\t晚上\ttime\n",
      "8\t533\t536\t黃醫師\tname\n",
      "8\t683\t689\t一到兩個禮拜\ttime\n",
      "8\t764\t767\t黃醫師\tname\n",
      "8\t932\t935\t王阿明\tname\n",
      "9\t35\t37\t五月\ttime\n",
      "9\t94\t97\t一個月\ttime\n",
      "9\t314\t316\t9月\ttime\n",
      "9\t417\t421\t73公斤\tmed_exam\n",
      "9\t439\t442\t170\tmed_exam\n",
      "9\t446\t449\t170\tmed_exam\n",
      "10\t71\t73\t74\tmed_exam\n",
      "10\t78\t80\t74\tmed_exam\n",
      "10\t160\t164\t下下禮拜\ttime\n",
      "10\t175\t178\t下禮拜\ttime\n",
      "10\t181\t185\t下禮拜三\ttime\n",
      "10\t221\t224\t一個月\ttime\n",
      "10\t241\t245\t兩個禮拜\ttime\n",
      "10\t262\t266\t四個禮拜\ttime\n",
      "10\t472\t476\t四個禮拜\ttime\n",
      "10\t491\t494\t禮拜三\ttime\n",
      "10\t537\t541\t十月六號\ttime\n",
      "11\t3\t6\t120\tmed_exam\n",
      "11\t7\t9\t71\tmed_exam\n",
      "11\t17\t21\t18.5\tmed_exam\n",
      "11\t123\t125\t北榮\tlocation\n",
      "11\t132\t135\t林醫師\tname\n",
      "11\t143\t146\t林醫師\tname\n",
      "11\t154\t158\t紐約醫院\tlocation\n",
      "11\t174\t178\t紐約醫院\tlocation\n",
      "11\t210\t213\t林醫師\tname\n",
      "11\t313\t316\t林醫師\tname\n",
      "11\t362\t364\t北榮\tlocation\n",
      "11\t376\t379\t王醫師\tname\n",
      "11\t388\t390\t哥哥\tfamily\n",
      "11\t392\t394\t大哥\tfamily\n",
      "11\t417\t419\t北榮\tlocation\n",
      "11\t455\t458\t林醫師\tname\n",
      "11\t484\t486\t昨天\ttime\n",
      "11\t513\t516\t林醫師\tname\n",
      "11\t676\t680\t紐約醫院\tlocation\n",
      "11\t729\t732\t三個月\ttime\n",
      "11\t763\t766\t四個月\ttime\n",
      "11\t930\t933\t林醫師\tname\n",
      "11\t1097\t1099\t6月\ttime\n",
      "11\t1153\t1156\t兩個月\ttime\n",
      "11\t1179\t1182\t兩個月\ttime\n",
      "11\t1184\t1186\t前天\ttime\n",
      "11\t1196\t1198\t前天\ttime\n",
      "11\t1233\t1236\t兩個月\ttime\n",
      "11\t1273\t1276\t兩個月\ttime\n",
      "11\t1353\t1355\t紐約\tlocation\n",
      "11\t1358\t1362\t紐約醫院\tlocation\n",
      "11\t1416\t1419\t兩個月\ttime\n",
      "11\t1470\t1472\t紐約\tlocation\n",
      "11\t1647\t1649\t兩年\ttime\n",
      "11\t1662\t1664\t後年\ttime\n",
      "11\t1784\t1786\t北榮\tlocation\n",
      "11\t1806\t1808\t北榮\tlocation\n",
      "11\t1869\t1872\t林醫師\tname\n",
      "11\t1888\t1890\t去年\ttime\n",
      "11\t2029\t2032\t林醫師\tname\n",
      "11\t2137\t2140\t4個月\ttime\n",
      "11\t2144\t2147\t4個月\ttime\n",
      "11\t2148\t2154\t10月17號\ttime\n",
      "11\t2245\t2247\t荷蘭\tlocation\n",
      "11\t2303\t2305\t一年\ttime\n",
      "11\t2334\t2336\t一年\ttime\n",
      "11\t2347\t2350\t巫醫師\tname\n",
      "12\t214\t220\t3點多4點多\ttime\n",
      "12\t342\t345\t129\tmed_exam\n",
      "12\t349\t352\t129\tmed_exam\n",
      "12\t353\t355\t81\tmed_exam\n",
      "12\t360\t363\t129\tmed_exam\n",
      "12\t364\t366\t81\tmed_exam\n",
      "12\t407\t412\t7月26號\ttime\n",
      "12\t434\t436\t92\tmed_exam\n",
      "12\t628\t630\t亞尼\tname\n",
      "12\t678\t681\t高麗精\tlocation\n",
      "12\t855\t857\t85\tmed_exam\n",
      "12\t885\t887\t85\tmed_exam\n",
      "13\t48\t52\t9月2號\ttime\n",
      "13\t60\t63\t9．7\tmed_exam\n",
      "13\t87\t89\t56\tmed_exam\n",
      "13\t126\t128\t56\tmed_exam\n",
      "13\t158\t161\t9．6\tmed_exam\n",
      "13\t166\t169\t9．8\tmed_exam\n",
      "13\t188\t191\t9．6\tmed_exam\n",
      "13\t394\t398\t2019\tmed_exam\n",
      "13\t446\t448\t早上\ttime\n",
      "13\t463\t465\t3月\ttime\n",
      "13\t481\t484\t7個月\ttime\n",
      "13\t488\t491\t10月\ttime\n",
      "13\t492\t496\t10月底\ttime\n",
      "14\t27\t30\t753\tmed_exam\n",
      "14\t45\t47\t37\tmed_exam\n",
      "14\t121\t125\t一、兩天\ttime\n",
      "14\t137\t139\t三天\ttime\n",
      "14\t242\t246\t38.7\tmed_exam\n",
      "14\t250\t253\t387\tmed_exam\n",
      "14\t371\t373\t68\tmed_exam\n",
      "14\t379\t380\t7\tmed_exam\n",
      "14\t384\t388\t68.7\tmed_exam\n",
      "14\t459\t462\t2個月\ttime\n",
      "14\t476\t479\t2個月\ttime\n",
      "14\t621\t624\t這個月\ttime\n",
      "14\t655\t657\t8月\ttime\n",
      "14\t662\t664\t4月\ttime\n",
      "14\t671\t673\t4月\ttime\n",
      "14\t701\t703\t8月\ttime\n",
      "14\t1092\t1096\t今、今年\ttime\n",
      "14\t1136\t1140\t前兩個月\ttime\n",
      "14\t1168\t1170\t22\ttime\n",
      "14\t1173\t1177\t5月21\ttime\n",
      "14\t1179\t1184\t5月21號\ttime\n",
      "14\t1385\t1390\t9月20號\ttime\n",
      "14\t1396\t1398\t9月\ttime\n",
      "15\t92\t95\t2.4\tmed_exam\n",
      "15\t99\t102\t2.4\tmed_exam\n",
      "15\t177\t179\t58\tmed_exam\n",
      "15\t182\t185\t2.4\tmed_exam\n",
      "15\t632\t634\t前鎮\tlocation\n",
      "15\t1228\t1231\t五十幾\tmed_exam\n",
      "15\t1277\t1280\t一個月\ttime\n",
      "15\t1437\t1439\t10\tmed_exam\n",
      "15\t1452\t1456\t0.55\tmed_exam\n",
      "16\t203\t207\t三個禮拜\ttime\n",
      "16\t218\t222\t六個禮拜\ttime\n",
      "16\t235\t239\t六個禮拜\ttime\n",
      "16\t257\t261\t六個禮拜\ttime\n",
      "16\t324\t328\t5.02\tmed_exam\n",
      "16\t337\t341\t7.64\tmed_exam\n",
      "16\t353\t357\t0.62\tmed_exam\n",
      "16\t367\t371\t7.83\tmed_exam\n",
      "16\t383\t386\t8.5\tmed_exam\n",
      "16\t397\t401\t7.83\tmed_exam\n",
      "16\t402\t406\t7.02\tmed_exam\n",
      "16\t424\t427\t三個月\ttime\n",
      "16\t447\t449\t兩年\ttime\n",
      "16\t715\t719\t林大醫師\tname\n",
      "17\t1567\t1569\t明天\ttime\n",
      "17\t1578\t1580\t明天\ttime\n",
      "17\t1584\t1587\t明後天\ttime\n",
      "17\t1593\t1595\t明天\ttime\n",
      "17\t1596\t1599\t禮拜一\ttime\n",
      "17\t1604\t1606\t明天\ttime\n",
      "17\t1611\t1616\t今天禮拜天\ttime\n",
      "17\t1621\t1626\t今天禮拜天\ttime\n",
      "17\t1630\t1633\t禮拜一\ttime\n",
      "17\t1637\t1640\t禮拜一\ttime\n",
      "17\t1656\t1659\t禮拜二\ttime\n",
      "17\t1663\t1666\t禮拜二\ttime\n",
      "17\t1679\t1682\t禮拜二\ttime\n",
      "17\t1850\t1852\t今天\ttime\n",
      "17\t2034\t2036\t五月\ttime\n",
      "17\t2038\t2041\t五月份\ttime\n",
      "17\t2062\t2065\t六月份\ttime\n",
      "17\t2167\t2169\t台中\tlocation\n",
      "17\t2174\t2176\t四天\ttime\n",
      "17\t2179\t2181\t七天\ttime\n",
      "17\t2185\t2187\t台中\tlocation\n",
      "17\t2225\t2229\t四天下班\ttime\n",
      "17\t2344\t2346\t五月\ttime\n",
      "17\t2467\t2469\t兩天\ttime\n",
      "17\t2506\t2509\t前三天\ttime\n",
      "18\t21\t24\t五月中\ttime\n",
      "18\t237\t240\t921\tmed_exam\n",
      "18\t265\t268\t500\tmoney\n",
      "18\t429\t432\t三個月\ttime\n",
      "19\t821\t823\t叔叔\tfamily\n",
      "19\t832\t834\t叔叔\tfamily\n",
      "19\t932\t935\t0.1\tmed_exam\n",
      "19\t945\t948\t0.2\tmed_exam\n",
      "19\t967\t970\t0.8\tmed_exam\n",
      "19\t971\t974\t0.7\tmed_exam\n",
      "19\t1239\t1241\t晚上\ttime\n",
      "19\t1906\t1909\t150\tmed_exam\n",
      "19\t2498\t2501\t下禮拜\ttime\n",
      "19\t3013\t3015\t陽明\tlocation\n",
      "19\t3082\t3084\t陽明\tlocation\n",
      "19\t3093\t3095\t陽明\tlocation\n",
      "19\t3178\t3182\t一個禮拜\ttime\n",
      "19\t3837\t3839\t陽明\tlocation\n",
      "19\t3869\t3871\t陽明\tlocation\n",
      "19\t4017\t4019\t長榮\tlocation\n",
      "19\t4101\t4104\t十四天\ttime\n",
      "19\t4543\t4546\t下禮拜\ttime\n",
      "19\t5007\t5009\t昨天\ttime\n",
      "19\t5487\t5490\t下禮拜\ttime\n",
      "19\t5625\t5628\t下禮拜\ttime\n",
      "19\t5949\t5952\t下禮拜\ttime\n",
      "19\t5967\t5969\t老爸\tfamily\n",
      "19\t6021\t6024\t下禮拜\ttime\n",
      "20\t266\t269\t這個月\ttime\n",
      "20\t765\t769\t臺東花蓮\tlocation\n",
      "20\t1010\t1014\t一兩年前\ttime\n",
      "20\t1307\t1313\t三個月三個月\ttime\n",
      "20\t1314\t1317\t三個月\ttime\n",
      "20\t3013\t3016\t三個月\ttime\n",
      "20\t4646\t4650\t8月2號\ttime\n",
      "20\t4659\t4664\t8月20號\ttime\n",
      "21\t1107\t1110\t一個月\ttime\n",
      "21\t1231\t1233\t一零\ttime\n",
      "21\t1234\t1236\t六九\ttime\n",
      "21\t1274\t1278\t一個禮拜\ttime\n",
      "21\t2553\t2555\t彰化\tlocation\n",
      "21\t2723\t2725\t泰國\tlocation\n",
      "21\t2944\t2946\t兩週\ttime\n",
      "21\t3323\t3325\t泰國\tlocation\n",
      "22\t6\t9\t王醫師\tname\n",
      "22\t112\t115\t王醫師\tname\n",
      "22\t523\t525\t陽明\tlocation\n",
      "22\t535\t537\t基隆\tlocation\n",
      "22\t740\t742\t基隆\tlocation\n",
      "22\t775\t777\t北醫\tlocation\n",
      "22\t828\t830\t北醫\tlocation\n",
      "22\t831\t833\t高醫\tlocation\n",
      "22\t836\t838\t北醫\tlocation\n",
      "22\t845\t847\t北醫\tlocation\n",
      "22\t981\t984\t四個月\ttime\n",
      "22\t989\t992\t四個月\ttime\n",
      "22\t2104\t2107\t三個月\ttime\n",
      "22\t2736\t2739\t王醫師\tname\n",
      "22\t3274\t3276\t今天\ttime\n",
      "22\t3361\t3364\t三六九\ttime\n",
      "22\t3366\t3369\t三六九\ttime\n",
      "22\t3484\t3488\t一萬多塊\tmoney\n",
      "22\t3576\t3579\t三個月\ttime\n",
      "22\t3604\t3607\t王醫師\tname\n",
      "22\t3612\t3618\t禮拜一的早上\ttime\n",
      "22\t3619\t3622\t禮拜三\ttime\n",
      "22\t3623\t3625\t下午\ttime\n",
      "22\t3637\t3640\t禮拜一\ttime\n",
      "22\t3641\t3644\t禮拜三\ttime\n",
      "22\t3702\t3705\t王醫師\tname\n",
      "23\t6\t9\t王醫師\tname\n",
      "23\t57\t60\t王醫師\tname\n",
      "23\t249\t252\t211\tmed_exam\n",
      "23\t576\t579\t王醫師\tname\n",
      "23\t636\t639\t王醫師\tname\n",
      "23\t741\t743\t今天\ttime\n",
      "23\t868\t872\t每個禮拜\ttime\n",
      "23\t1002\t1006\t一個禮拜\ttime\n",
      "23\t1018\t1022\t一個禮拜\ttime\n",
      "23\t1027\t1030\t一個月\ttime\n",
      "23\t1126\t1130\t2111\ttime\n",
      "23\t1756\t1759\t王醫師\tname\n",
      "24\t55\t58\t這個月\ttime\n",
      "24\t170\t172\t兩天\ttime\n",
      "24\t174\t176\t兩天\ttime\n",
      "24\t382\t384\t七天\ttime\n",
      "24\t716\t718\t台中\tlocation\n",
      "25\t7\t10\t這個月\ttime\n",
      "25\t147\t158\t12345678910\tmed_exam\n",
      "25\t294\t297\t這個月\ttime\n",
      "26\t15\t17\t5月\ttime\n",
      "26\t281\t284\t一個月\ttime\n",
      "26\t302\t305\t一個月\ttime\n",
      "26\t732\t734\t69\tmed_exam\n",
      "26\t974\t976\t今天\ttime\n",
      "26\t977\t979\t三個\ttime\n",
      "26\t2569\t2572\t林小姐\tname\n",
      "27\t11\t13\t台中\tlocation\n",
      "27\t97\t99\t台中\tlocation\n",
      "27\t112\t114\t台中\tlocation\n",
      "27\t263\t265\t台中\tlocation\n",
      "27\t355\t358\t上個月\ttime\n",
      "27\t373\t377\t今天十三\ttime\n",
      "27\t398\t401\t十三天\ttime\n",
      "27\t451\t454\t十三天\ttime\n",
      "27\t517\t520\t十三天\ttime\n",
      "27\t593\t597\t這一個月\ttime\n",
      "28\t30\t32\t一年\ttime\n",
      "28\t64\t66\t一年\ttime\n",
      "28\t1158\t1160\t昨天\ttime\n",
      "28\t2339\t2341\t今天\ttime\n",
      "28\t2553\t2555\t四天\ttime\n",
      "29\t33\t35\t桃園\tlocation\n",
      "29\t41\t43\t桃園\tlocation\n",
      "29\t51\t53\t小蘭\tname\n",
      "29\t215\t217\t一年\ttime\n",
      "29\t224\t226\t一年\ttime\n",
      "29\t456\t458\t69\ttime\n",
      "29\t471\t473\t69\tmed_exam\n",
      "29\t480\t482\t69\ttime\n",
      "29\t485\t487\t69\tmed_exam\n",
      "29\t559\t562\t三個月\ttime\n",
      "29\t1365\t1368\t552\tmoney\n",
      "29\t1376\t1383\t16000多塊\tmoney\n",
      "29\t1386\t1391\t17000\tmoney\n",
      "29\t1469\t1472\t每個月\ttime\n",
      "29\t1758\t1760\t北區\tlocation\n",
      "29\t1763\t1766\t中西區\tlocation\n",
      "29\t1838\t1841\t369\tmed_exam\n",
      "29\t1924\t1928\t前3個月\ttime\n",
      "29\t1939\t1941\t7月\ttime\n",
      "29\t1942\t1944\t8月\ttime\n",
      "29\t1945\t1947\t9月\ttime\n",
      "29\t2022\t2030\t第一個月7月6號\ttime\n",
      "29\t2054\t2056\t8月\ttime\n",
      "29\t2059\t2062\t一個月\ttime\n",
      "29\t2153\t2155\t9月\ttime\n",
      "29\t2325\t2328\t三個月\ttime\n",
      "30\t153\t155\t一年\ttime\n",
      "30\t159\t161\t一年\ttime\n",
      "30\t189\t191\t8年\ttime\n",
      "30\t197\t199\t8年\ttime\n",
      "30\t219\t221\t8年\ttime\n",
      "30\t250\t252\t嘉義\tlocation\n",
      "30\t256\t260\t兩到三天\ttime\n",
      "30\t444\t448\t今天禮拜\ttime\n",
      "30\t449\t452\t禮拜二\ttime\n",
      "30\t488\t492\t3456\ttime\n",
      "30\t510\t513\t禮拜日\ttime\n",
      "30\t525\t528\t禮拜日\ttime\n",
      "30\t841\t844\t211\ttime\n",
      "30\t1158\t1160\t一年\ttime\n",
      "30\t1256\t1259\t馬拉加\tlocation\n",
      "30\t1260\t1262\t美國\tlocation\n",
      "30\t1538\t1541\t30億\ttime\n",
      "30\t1593\t1597\t第6個月\ttime\n",
      "31\t82\t85\t這個月\ttime\n",
      "31\t160\t164\t11點整\ttime\n",
      "31\t203\t209\t晚上11點整\ttime\n",
      "31\t278\t281\t4個月\ttime\n",
      "31\t1794\t1796\t今天\ttime\n",
      "31\t1804\t1806\t今天\ttime\n",
      "31\t1812\t1814\t今天\ttime\n",
      "31\t1862\t1865\t9月中\ttime\n",
      "31\t1874\t1878\t12月中\ttime\n",
      "31\t1890\t1894\t12月中\ttime\n",
      "31\t1917\t1919\t今天\ttime\n",
      "31\t1924\t1928\t8月3號\ttime\n",
      "31\t2012\t2015\t三個月\ttime\n",
      "31\t2027\t2031\t第一個月\ttime\n",
      "32\t495\t498\t一個月\ttime\n",
      "32\t512\t515\t一個月\ttime\n",
      "32\t946\t948\t兩天\ttime\n",
      "32\t1208\t1210\t小美\tname\n",
      "32\t1251\t1255\t每個禮拜\ttime\n",
      "32\t1333\t1334\t三\ttime\n",
      "32\t1381\t1384\t一個月\ttime\n",
      "32\t1444\t1447\t五千塊\tmoney\n",
      "32\t1458\t1460\t四千\tmoney\n",
      "32\t1461\t1463\t五千\tmoney\n",
      "32\t1542\t1544\t泰國\tlocation\n",
      "32\t1950\t1953\t五百多\tmoney\n",
      "32\t1967\t1969\t嘉義\tlocation\n",
      "32\t2408\t2411\t三個月\ttime\n",
      "32\t2596\t2598\t一年\ttime\n",
      "33\t44\t50\t禮拜二的早上\ttime\n",
      "33\t51\t54\t禮拜五\ttime\n",
      "33\t55\t57\t下午\ttime\n",
      "33\t880\t885\t10月7號\ttime\n",
      "33\t899\t902\t下禮拜\ttime\n",
      "33\t916\t919\t二早上\ttime\n",
      "33\t920\t923\t五下午\ttime\n",
      "34\t88\t90\t萬華\tlocation\n",
      "34\t91\t93\t北醫\tlocation\n",
      "34\t98\t103\t萬華的北醫\tlocation\n",
      "34\t436\t440\t四五年前\ttime\n",
      "34\t724\t727\t半年前\ttime\n",
      "34\t732\t734\t半年\ttime\n",
      "34\t772\t775\t五個月\ttime\n",
      "34\t779\t782\t五個月\ttime\n",
      "34\t2804\t2810\t1800多塊\tmoney\n",
      "34\t2859\t2862\t800\tmoney\n",
      "34\t2882\t2885\t700\tmoney\n",
      "34\t2898\t2901\t4、5\ttime\n",
      "34\t2916\t2919\t400\tmoney\n",
      "34\t2946\t2951\t1000塊\tmoney\n",
      "34\t3023\t3025\t今天\ttime\n",
      "34\t4220\t4223\t下禮拜\ttime\n",
      "34\t4248\t4251\t禮拜二\ttime\n",
      "34\t4292\t4295\t禮拜三\ttime\n",
      "34\t4296\t4298\t下午\ttime\n",
      "34\t4299\t4302\t禮拜五\ttime\n",
      "34\t4303\t4305\t早上\ttime\n",
      "34\t4414\t4420\t禮拜三的下午\ttime\n",
      "34\t4421\t4424\t禮拜五\ttime\n",
      "34\t4425\t4427\t早上\ttime\n",
      "34\t4433\t4436\t禮拜五\ttime\n",
      "34\t4437\t4439\t早上\ttime\n",
      "34\t4450\t4454\t下禮拜五\ttime\n",
      "34\t4459\t4462\t禮拜五\ttime\n",
      "34\t4482\t4486\t下禮拜五\ttime\n",
      "34\t4495\t4498\t禮拜五\ttime\n",
      "34\t4499\t4501\t早上\ttime\n",
      "34\t4502\t4507\t7月21號\ttime\n",
      "34\t4537\t4540\t下禮拜\ttime\n",
      "34\t4558\t4560\t基隆\tlocation\n",
      "34\t4572\t4574\t萬華\tlocation\n",
      "34\t4579\t4581\t萬華\tlocation\n",
      "34\t4582\t4584\t萬華\tlocation\n",
      "34\t4585\t4587\t北醫\tlocation\n",
      "34\t4593\t4595\t萬華\tlocation\n",
      "34\t4596\t4598\t北醫\tlocation\n",
      "35\t168\t171\t陳小姐\tname\n",
      "35\t221\t224\t陳小姐\tname\n",
      "35\t1488\t1490\t今天\ttime\n",
      "35\t1674\t1678\t1個禮拜\ttime\n",
      "35\t1684\t1686\t今天\ttime\n",
      "35\t2132\t2135\t禮拜一\ttime\n",
      "35\t2370\t2372\t今天\ttime\n",
      "35\t3486\t3489\t三個月\ttime\n",
      "35\t4003\t4005\t今天\ttime\n",
      "35\t4128\t4133\t2010年\ttime\n",
      "35\t4279\t4281\t泰國\tlocation\n",
      "35\t4309\t4312\t一萬二\tmoney\n",
      "35\t4313\t4316\t一萬三\tmoney\n",
      "35\t4446\t4448\t泰國\tlocation\n",
      "35\t4631\t4633\t英國\tlocation\n",
      "35\t4634\t4636\t法國\tlocation\n",
      "35\t4741\t4743\t泰國\tlocation\n",
      "35\t4785\t4789\t600塊\tmoney\n",
      "35\t4810\t4812\t泰國\tlocation\n",
      "35\t4831\t4835\t1000\tmoney\n",
      "35\t4836\t4842\t1500台幣\tmoney\n",
      "35\t4854\t4858\t500塊\tmoney\n",
      "35\t4859\t4863\t600塊\tmoney\n",
      "35\t5071\t5076\t下下個禮拜\ttime\n",
      "36\t17\t20\t六點半\ttime\n",
      "36\t43\t48\t七點四十二\ttime\n",
      "36\t71\t73\t後天\ttime\n",
      "36\t116\t119\t這個月\ttime\n",
      "36\t291\t293\t明天\ttime\n",
      "36\t586\t590\t第七個月\ttime\n",
      "36\t601\t604\t下半年\ttime\n",
      "36\t660\t665\t四月二十五\ttime\n",
      "36\t678\t683\t四月二十五\ttime\n",
      "36\t715\t720\t四月二十五\ttime\n",
      "37\t4\t7\t這個月\ttime\n",
      "37\t87\t89\t傍晚\ttime\n",
      "37\t93\t95\t傍晚\ttime\n",
      "37\t229\t231\t早上\ttime\n",
      "37\t848\t853\t第十一個月\ttime\n",
      "37\t981\t986\t400多塊\tmoney\n",
      "37\t1040\t1043\t一萬三\tmoney\n",
      "37\t1069\t1072\t4千多\tmoney\n",
      "37\t1073\t1075\t5千\tmoney\n",
      "37\t1244\t1246\t英國\tlocation\n",
      "37\t1326\t1330\t1500\tmed_exam\n",
      "38\t70\t72\t高雄\tlocation\n",
      "38\t84\t86\t高雄\tlocation\n",
      "38\t92\t94\t高雄\tlocation\n",
      "38\t115\t117\t七天\ttime\n",
      "38\t138\t139\t八\tmed_exam\n",
      "38\t141\t143\t八號\ttime\n",
      "38\t160\t164\t兩個禮拜\ttime\n",
      "38\t177\t179\t高雄\tlocation\n",
      "38\t582\t584\t高雄\tlocation\n",
      "38\t636\t637\t九\ttime\n",
      "38\t648\t651\t下個月\ttime\n",
      "39\t141\t144\t三個月\ttime\n",
      "40\t221\t224\t江醫師\tname\n",
      "40\t399\t402\t廖醫師\tname\n",
      "40\t488\t491\t替代役\tprofession\n",
      "40\t515\t519\t那一年前\ttime\n",
      "40\t561\t564\t半年前\ttime\n",
      "40\t662\t664\t半年\ttime\n",
      "40\t846\t848\t今天\ttime\n",
      "41\t101\t104\t張醫師\tname\n",
      "41\t109\t112\t張醫師\tname\n",
      "41\t766\t769\t15天\ttime\n",
      "41\t794\t797\t15天\ttime\n",
      "41\t982\t985\t張醫師\tname\n",
      "41\t1014\t1017\t張醫師\tname\n",
      "41\t1019\t1022\t勝利路\tlocation\n",
      "41\t1027\t1030\t勝利路\tlocation\n",
      "41\t1041\t1045\t勝利國小\tlocation\n",
      "41\t1066\t1068\t老媽\tfamily\n",
      "41\t1071\t1074\t民生路\tlocation\n",
      "41\t1078\t1081\t府前路\tlocation\n",
      "41\t1101\t1104\t張小發\tname\n",
      "41\t1111\t1114\t張小發\tname\n",
      "41\t1115\t1118\t張小男\tname\n",
      "41\t1119\t1121\t弟弟\tfamily\n",
      "41\t1144\t1146\t老媽\tfamily\n",
      "41\t1221\t1223\t孫女\tfamily\n",
      "41\t1249\t1252\t張大明\tname\n",
      "41\t1278\t1282\t一個禮拜\ttime\n",
      "41\t1358\t1361\t南一中\tlocation\n",
      "41\t1374\t1377\t張醫師\tname\n",
      "41\t1905\t1908\t三個月\ttime\n",
      "42\t540\t542\t12\tmed_exam\n",
      "42\t679\t684\t黃明明醫師\tname\n",
      "42\t688\t693\t黃明明醫師\tname\n",
      "42\t1136\t1138\t德國\tlocation\n",
      "42\t2021\t2024\t119\tmed_exam\n",
      "42\t2132\t2135\t江醫師\tname\n",
      "42\t2388\t2389\t1\tmed_exam\n",
      "42\t2391\t2394\t119\tmed_exam\n",
      "42\t2726\t2729\t119\ttime\n",
      "42\t2976\t2979\t江醫師\tname\n",
      "43\t220\t222\t半年\ttime\n",
      "43\t264\t269\t7月12號\ttime\n",
      "43\t287\t291\t兩個禮拜\ttime\n",
      "43\t449\t451\t56\tmed_exam\n",
      "43\t455\t457\t56\tmed_exam\n",
      "43\t483\t488\t7月12號\ttime\n",
      "43\t560\t562\t早上\ttime\n",
      "43\t565\t567\t中午\ttime\n",
      "43\t678\t682\t4個禮拜\ttime\n",
      "43\t702\t704\t下午\ttime\n",
      "43\t762\t765\t禮拜五\ttime\n",
      "43\t766\t768\t早上\ttime\n",
      "43\t787\t790\t禮拜五\ttime\n",
      "43\t791\t793\t早上\ttime\n",
      "43\t819\t823\t兩個禮拜\ttime\n",
      "43\t828\t831\t810\tmed_exam\n",
      "43\t832\t837\t8月10號\ttime\n",
      "43\t862\t866\t兩個禮拜\ttime\n",
      "43\t971\t975\t3個禮拜\ttime\n",
      "43\t1065\t1067\t14\tmed_exam\n",
      "43\t1085\t1087\t7天\ttime\n",
      "43\t1129\t1131\t7天\ttime\n",
      "43\t1354\t1358\t3000\tmoney\n",
      "43\t1359\t1363\t8000\tmoney\n",
      "43\t1550\t1553\t3個月\ttime\n",
      "43\t1637\t1640\t6個月\ttime\n",
      "44\t4\t8\t這個禮拜\ttime\n",
      "44\t17\t21\t這個禮拜\ttime\n",
      "44\t1629\t1631\t畜牧\tprofession\n",
      "44\t1662\t1664\t日本\tlocation\n",
      "44\t1787\t1790\t下禮拜\ttime\n",
      "45\t35\t37\t今天\ttime\n",
      "45\t93\t97\t7月12\ttime\n",
      "45\t105\t107\t12\ttime\n",
      "45\t128\t130\t今天\ttime\n",
      "45\t453\t455\t小俊\tname\n",
      "45\t485\t488\t兩個月\ttime\n",
      "45\t500\t503\t一個月\ttime\n",
      "45\t564\t567\t3個月\ttime\n",
      "45\t574\t576\t8月\ttime\n",
      "45\t585\t588\t11月\ttime\n",
      "45\t616\t620\t8月18\ttime\n",
      "45\t627\t630\t9月初\ttime\n",
      "45\t634\t637\t8月初\ttime\n",
      "45\t640\t643\t9月底\ttime\n",
      "45\t665\t668\t兩個月\ttime\n",
      "45\t678\t681\t兩個月\ttime\n",
      "45\t704\t710\t11月30號\ttime\n",
      "45\t920\t926\t11月30號\ttime\n",
      "45\t1153\t1156\t兩個月\ttime\n",
      "45\t1162\t1167\t1555塊\tmoney\n",
      "46\t216\t219\t三天多\ttime\n",
      "46\t233\t237\t7月21\ttime\n",
      "46\t238\t242\t7月23\ttime\n",
      "46\t246\t250\t7月21\ttime\n",
      "46\t251\t255\t7月23\ttime\n",
      "46\t259\t262\t一二三\ttime\n",
      "46\t274\t279\t上個禮拜三\ttime\n",
      "46\t288\t291\t禮拜四\ttime\n",
      "46\t298\t301\t禮拜一\ttime\n",
      "46\t341\t346\t7月23號\ttime\n",
      "46\t405\t409\t37.5\tmed_exam\n",
      "46\t444\t446\t早上\ttime\n",
      "46\t456\t459\t36幾\tmed_exam\n",
      "46\t485\t489\t37.2\tmed_exam\n",
      "46\t496\t500\t37.5\tmed_exam\n",
      "46\t589\t591\t早上\ttime\n",
      "46\t604\t606\t早上\ttime\n",
      "46\t663\t665\t早上\ttime\n",
      "46\t707\t711\t36.5\tmed_exam\n",
      "46\t726\t728\t下午\ttime\n",
      "46\t734\t737\t37度\tmed_exam\n",
      "46\t749\t752\t37度\tmed_exam\n",
      "46\t877\t879\t37\tmed_exam\n",
      "46\t972\t974\t今天\ttime\n",
      "46\t986\t989\t188\tmed_exam\n",
      "46\t993\t995\t75\tmed_exam\n",
      "46\t1032\t1035\t188\tmed_exam\n",
      "46\t1037\t1039\t75\tmed_exam\n",
      "46\t1048\t1050\t30\tmed_exam\n",
      "46\t1054\t1056\t13\tmed_exam\n",
      "46\t1313\t1316\t七八十\tmed_exam\n",
      "46\t1349\t1352\t189\tmed_exam\n",
      "46\t1356\t1359\t201\ttime\n",
      "46\t1424\t1428\t4.1%\tmed_exam\n",
      "46\t1456\t1458\t13\tmed_exam\n",
      "46\t1460\t1464\t4.1%\tmed_exam\n",
      "46\t1635\t1638\t這兩天\ttime\n",
      "46\t1688\t1690\t21\ttime\n",
      "46\t1691\t1693\t22\ttime\n",
      "46\t1743\t1745\t今天\ttime\n",
      "46\t1748\t1752\t36.2\tmed_exam\n",
      "46\t1771\t1775\t36.2\tmed_exam\n",
      "46\t1783\t1787\t36.8\tmed_exam\n",
      "46\t1810\t1814\t37.5\tmed_exam\n",
      "46\t1827\t1831\t37.5\tmed_exam\n",
      "46\t1881\t1885\t37.5\tmed_exam\n",
      "46\t1925\t1928\t38度\tmed_exam\n",
      "46\t2484\t2489\t兩三個禮拜\ttime\n",
      "46\t3002\t3005\t134\tmed_exam\n",
      "46\t3009\t3012\t134\tmed_exam\n",
      "46\t3043\t3045\t10\tmed_exam\n",
      "46\t3122\t3125\t136\tmed_exam\n",
      "46\t3376\t3378\t10\tmed_exam\n",
      "46\t3393\t3395\t10\tmed_exam\n",
      "46\t3815\t3818\t28天\ttime\n",
      "46\t3819\t3822\t28天\ttime\n",
      "46\t3857\t3861\t兩個禮拜\ttime\n",
      "46\t3870\t3874\t兩個禮拜\ttime\n",
      "46\t3889\t3893\t兩個禮拜\ttime\n",
      "46\t3922\t3925\t上禮拜\ttime\n",
      "46\t4003\t4007\t兩個禮拜\ttime\n",
      "46\t4029\t4033\t下下禮拜\ttime\n",
      "46\t4366\t4368\t四週\ttime\n",
      "46\t4382\t4384\t兩週\ttime\n",
      "46\t4389\t4391\t四週\ttime\n",
      "46\t4929\t4932\t三個月\ttime\n",
      "47\t189\t192\t15天\ttime\n",
      "47\t203\t205\t今天\ttime\n",
      "47\t206\t208\t12\ttime\n",
      "47\t212\t214\t今天\ttime\n",
      "47\t215\t217\t12\ttime\n",
      "47\t303\t306\t林醫師\tname\n",
      "47\t716\t718\t33\tmed_exam\n",
      "47\t721\t724\t120\tmed_exam\n",
      "47\t741\t744\t515\tmed_exam\n",
      "47\t745\t748\t433\tmed_exam\n",
      "47\t749\t752\t124\tmed_exam\n",
      "47\t818\t821\t4.3\tmed_exam\n",
      "47\t841\t845\t7500\tmoney\n",
      "47\t854\t858\t53萬9\tmed_exam\n",
      "47\t865\t868\t5萬2\tmed_exam\n",
      "47\t961\t965\t下個禮拜\ttime\n",
      "47\t1188\t1191\t阿里山\tlocation\n",
      "47\t1219\t1222\t阿里山\tlocation\n",
      "47\t1257\t1260\t阿里山\tlocation\n",
      "47\t1553\t1557\t下下禮拜\ttime\n",
      "47\t1781\t1785\t下下禮拜\ttime\n",
      "47\t1788\t1790\t今天\ttime\n",
      "47\t2130\t2132\t今天\ttime\n",
      "47\t2271\t2274\t789\tmed_exam\n",
      "47\t2280\t2282\t小萱\tname\n",
      "48\t13\t15\t小明\tname\n",
      "48\t331\t334\t189\tmed_exam\n",
      "48\t335\t338\t189\tmed_exam\n",
      "48\t360\t363\t189\tmed_exam\n",
      "48\t401\t404\t166\tmed_exam\n",
      "48\t407\t410\t189\tmed_exam\n",
      "48\t421\t424\t166\tmed_exam\n",
      "48\t428\t431\t166\tmed_exam\n",
      "48\t441\t444\t217\tmed_exam\n",
      "48\t455\t458\t200\tmed_exam\n",
      "48\t463\t466\t225\tmed_exam\n",
      "48\t473\t476\t200\tmed_exam\n",
      "48\t562\t564\t47\tmed_exam\n",
      "48\t568\t570\t22\tmed_exam\n",
      "48\t647\t650\t兩個月\ttime\n",
      "48\t655\t658\t兩個月\ttime\n",
      "48\t659\t662\t兩個月\ttime\n",
      "48\t839\t841\t65\tmed_exam\n",
      "48\t847\t849\t小明\tname\n",
      "48\t1410\t1415\t25000\tmoney\n",
      "48\t1428\t1433\t25000\tmoney\n",
      "48\t1437\t1442\t30000\tmoney\n",
      "48\t1448\t1453\t30000\tmoney\n",
      "48\t1486\t1491\t25000\tmoney\n",
      "48\t1492\t1494\t25\tmed_exam\n",
      "48\t1499\t1501\t25\tmed_exam\n",
      "48\t1528\t1531\t143\tmed_exam\n",
      "48\t1535\t1538\t143\tmed_exam\n",
      "49\t60\t62\t清華\tlocation\n",
      "49\t91\t93\t小美\tname\n",
      "49\t126\t131\t9月10號\ttime\n",
      "49\t153\t158\t9月10號\ttime\n",
      "49\t160\t162\t小美\tname\n",
      "49\t335\t337\t36\tmed_exam\n",
      "49\t342\t344\t36\tmed_exam\n",
      "49\t349\t351\t36\tmed_exam\n",
      "49\t352\t356\t36.9\tmed_exam\n",
      "49\t357\t361\t36.7\tmed_exam\n",
      "49\t362\t366\t36.6\tmed_exam\n",
      "49\t924\t927\t半小時\ttime\n",
      "49\t961\t963\t小明\tname\n",
      "49\t983\t985\t今天\ttime\n",
      "49\t986\t989\t禮拜三\ttime\n",
      "49\t990\t992\t下午\ttime\n",
      "49\t1208\t1214\t禮拜一的早上\ttime\n",
      "49\t1340\t1346\t禮拜一的早上\ttime\n",
      "49\t1352\t1358\t禮拜一的早上\ttime\n",
      "49\t1365\t1370\t李英俊教授\tname\n",
      "49\t2058\t2060\t台北\tlocation\n",
      "49\t2065\t2067\t高雄\tlocation\n",
      "49\t2082\t2084\t中山\tlocation\n",
      "49\t2117\t2119\t公職\tprofession\n",
      "49\t2849\t2851\t台北\tlocation\n",
      "49\t2928\t2930\t小美\tname\n",
      "49\t2943\t2946\t禮拜一\ttime\n",
      "49\t3040\t3045\t下個禮拜一\ttime\n",
      "49\t3049\t3053\t9月8號\ttime\n",
      "49\t3338\t3341\t許醫師\tname\n",
      "49\t3781\t3783\t三嬸\tfamily\n",
      "49\t3886\t3888\t三嬸\tfamily\n",
      "49\t3923\t3926\t親姐姐\tfamily\n",
      "49\t3937\t3939\t姑姑\tfamily\n",
      "49\t4168\t4171\t禮拜一\ttime\n",
      "49\t4518\t4522\t台北榮總\tlocation\n",
      "49\t4534\t4536\t台大\tlocation\n",
      "49\t4541\t4543\t台大\tlocation\n",
      "49\t4547\t4549\t台大\tlocation\n",
      "49\t4609\t4611\t兩天\ttime\n",
      "49\t4778\t4780\t小美\tname\n",
      "50\t13\t15\t奇美\tlocation\n",
      "50\t82\t85\t禮拜六\ttime\n",
      "50\t87\t90\t禮拜六\ttime\n",
      "50\t92\t95\t禮拜六\ttime\n",
      "50\t96\t98\t早上\ttime\n",
      "50\t125\t128\t禮拜天\ttime\n",
      "50\t129\t133\t7月17\ttime\n",
      "50\t138\t140\t前天\ttime\n",
      "50\t144\t146\t前天\ttime\n",
      "50\t151\t153\t前天\ttime\n",
      "50\t159\t161\t昨天\ttime\n",
      "50\t200\t202\t38\tmed_exam\n",
      "50\t204\t206\t38\tmed_exam\n",
      "50\t208\t210\t30\tmed_exam\n",
      "50\t212\t216\t38.6\tmed_exam\n",
      "50\t217\t221\t38.7\tmed_exam\n",
      "50\t325\t329\t6月25\ttime\n",
      "50\t334\t336\t昨天\ttime\n",
      "50\t460\t462\t今天\ttime\n",
      "50\t463\t465\t早上\ttime\n",
      "50\t604\t606\t三天\ttime\n",
      "50\t721\t725\t36.9\tmed_exam\n",
      "50\t729\t733\t36.9\tmed_exam\n",
      "50\t1180\t1184\t那個月底\ttime\n",
      "50\t1201\t1205\t11.幾\tmed_exam\n",
      "50\t1209\t1213\t11.幾\tmed_exam\n",
      "50\t1224\t1227\t11.\tmed_exam\n",
      "50\t1290\t1293\t11號\ttime\n",
      "50\t1320\t1322\t8號\ttime\n",
      "50\t1455\t1457\t禮拜\ttime\n",
      "50\t1459\t1462\t禮拜五\ttime\n",
      "50\t1463\t1465\t早上\ttime\n",
      "50\t1490\t1492\t早上\ttime\n",
      "50\t2008\t2013\t88821\tmed_exam\n",
      "50\t2028\t2032\t27.7\tmed_exam\n",
      "50\t3188\t3191\t兩三天\ttime\n",
      "50\t3513\t3515\t台大\tlocation\n",
      "50\t3573\t3577\t下個禮拜\ttime\n",
      "50\t3908\t3910\t早晚\ttime\n",
      "51\t25\t28\t第三週\ttime\n",
      "51\t133\t136\t第三週\ttime\n",
      "51\t170\t172\t奇美\tname\n",
      "51\t232\t235\t吳醫師\tname\n",
      "51\t582\t585\t第三週\ttime\n",
      "51\t1263\t1266\t1月份\ttime\n",
      "51\t1283\t1286\t1月份\ttime\n",
      "51\t1523\t1528\t1月16號\ttime\n",
      "51\t1532\t1533\t1\ttime\n",
      "51\t1535\t1540\t1月16號\ttime\n",
      "51\t1545\t1547\t1月\ttime\n",
      "51\t1558\t1563\t1月16號\ttime\n",
      "51\t2039\t2043\t三個禮拜\ttime\n",
      "51\t2051\t2056\t第三個禮拜\ttime\n",
      "51\t2061\t2066\t前兩個禮拜\ttime\n",
      "51\t2093\t2098\t第三個禮拜\ttime\n",
      "51\t2334\t2338\t2、4週\ttime\n",
      "51\t2391\t2394\t吳醫師\tname\n",
      "51\t2866\t2868\t65\tmed_exam\n",
      "51\t2882\t2884\t54\tmed_exam\n",
      "51\t3285\t3288\t這一週\ttime\n",
      "51\t3289\t3292\t上禮拜\ttime\n",
      "51\t3796\t3798\t54\tmed_exam\n",
      "51\t3802\t3804\t58\tmed_exam\n",
      "51\t3814\t3815\t5\tmed_exam\n",
      "51\t3825\t3827\t58\tmed_exam\n",
      "51\t3923\t3926\t一個月\ttime\n",
      "51\t3927\t3929\t三週\ttime\n",
      "51\t3935\t3938\t一個月\ttime\n",
      "51\t3945\t3948\t一個月\ttime\n",
      "51\t3949\t3951\t三週\ttime\n",
      "51\t3967\t3969\t三週\ttime\n",
      "51\t4034\t4037\t22萬\tmoney\n",
      "51\t4366\t4368\t明天\ttime\n",
      "51\t4396\t4398\t明天\ttime\n",
      "51\t4437\t4439\t兩週\ttime\n",
      "51\t4441\t4444\t第三週\ttime\n",
      "51\t4480\t4483\t第三週\ttime\n",
      "51\t4495\t4498\t第三週\ttime\n",
      "51\t4513\t4515\t三週\ttime\n",
      "51\t4517\t4520\t上一週\ttime\n",
      "51\t4552\t4557\t三個禮拜後\ttime\n",
      "51\t4566\t4570\t兩個禮拜\ttime\n",
      "51\t4573\t4577\t兩個禮拜\ttime\n",
      "51\t4610\t4614\t一個禮拜\ttime\n",
      "51\t4847\t4849\t66\tmed_exam\n",
      "51\t4858\t4860\t66\tmed_exam\n",
      "51\t5574\t5581\t2020年5月\ttime\n",
      "52\t101\t104\t330\tmed_exam\n",
      "52\t176\t181\t15000\tmoney\n",
      "52\t195\t199\t3200\tmoney\n",
      "52\t203\t207\t3200\tmoney\n",
      "52\t262\t266\t10.7\tmed_exam\n",
      "52\t294\t298\t10.7\tmed_exam\n",
      "52\t332\t336\t兩個禮拜\ttime\n",
      "52\t397\t402\t兩個禮拜內\ttime\n",
      "52\t526\t529\t林醫師\tname\n",
      "52\t532\t535\t780\tmed_exam\n",
      "52\t541\t544\t林醫師\tname\n",
      "52\t545\t548\t780\tmed_exam\n",
      "52\t582\t585\t450\tmed_exam\n",
      "52\t703\t706\t林醫師\tname\n",
      "52\t812\t815\t450\tmed_exam\n",
      "52\t816\t819\t450\tmed_exam\n",
      "52\t900\t903\t這個月\ttime\n",
      "52\t1164\t1169\t7月15號\ttime\n",
      "52\t1221\t1226\t7月28號\ttime\n",
      "52\t1271\t1273\t小美\tname\n",
      "52\t1276\t1279\t陳老師\tname\n",
      "52\t1391\t1395\t兩個禮拜\ttime\n",
      "52\t1441\t1445\t100塊\tmoney\n",
      "52\t1587\t1592\t8月20號\ttime\n",
      "52\t1602\t1607\t8月20號\ttime\n",
      "53\t114\t118\t兩個禮拜\ttime\n",
      "53\t337\t341\t兩個禮拜\ttime\n",
      "53\t409\t413\t十月二號\ttime\n",
      "53\t439\t444\t六百七十九\tmed_exam\n",
      "53\t526\t528\t台南\tlocation\n",
      "53\t650\t653\t一千二\tmoney\n",
      "54\t567\t573\t十二月二十二\ttime\n",
      "55\t128\t131\t一個月\ttime\n",
      "55\t282\t285\t一個月\ttime\n",
      "55\t738\t740\t早上\ttime\n",
      "55\t835\t837\t今天\ttime\n",
      "55\t1063\t1065\t去年\ttime\n",
      "55\t1109\t1112\t五月中\ttime\n",
      "56\t28\t31\t星期三\ttime\n",
      "56\t1248\t1250\t爸爸\tfamily\n",
      "56\t1528\t1530\t榮總\tlocation\n",
      "56\t1860\t1863\t一個月\ttime\n",
      "56\t2152\t2157\t九月二十五\ttime\n",
      "56\t2166\t2169\t兩個月\ttime\n",
      "56\t2175\t2179\t十月一號\ttime\n",
      "56\t2207\t2212\t二十五禮拜\ttime\n",
      "56\t2216\t2219\t禮拜四\ttime\n",
      "56\t2220\t2222\t下午\ttime\n",
      "56\t2300\t2302\t九天\ttime\n",
      "56\t2307\t2310\t十幾天\ttime\n",
      "57\t33\t38\t十五個小時\ttime\n",
      "57\t69\t73\t九個小時\ttime\n",
      "57\t172\t175\t前一天\ttime\n",
      "57\t279\t281\t一年\ttime\n",
      "57\t380\t382\t今天\ttime\n",
      "57\t416\t419\t八十五\tmed_exam\n",
      "57\t423\t426\t八十五\tmed_exam\n",
      "57\t441\t444\t一七五\tmed_exam\n",
      "57\t448\t451\t一七五\tmed_exam\n",
      "57\t509\t511\t一年\ttime\n",
      "57\t519\t522\t三、三\ttime\n",
      "57\t523\t525\t四年\ttime\n",
      "57\t529\t533\t三、四年\ttime\n",
      "57\t746\t750\t三個禮拜\ttime\n",
      "57\t753\t758\t四個禮拜前\ttime\n",
      "57\t798\t802\t三個禮拜\ttime\n",
      "57\t889\t892\t一九二\tmed_exam\n",
      "57\t971\t974\t二八一\ttime\n",
      "57\t1066\t1069\t一百三\tmed_exam\n",
      "57\t1221\t1223\t政鴻\tname\n",
      "57\t1306\t1309\t五十歲\ttime\n",
      "57\t1777\t1779\t嘉芳\tlocation\n",
      "57\t1790\t1793\t兩個月\ttime\n",
      "57\t1800\t1803\t下禮拜\ttime\n",
      "57\t1813\t1816\t五個月\ttime\n",
      "57\t1850\t1853\t五個月\ttime\n",
      "57\t1859\t1862\t五個月\ttime\n",
      "57\t1876\t1879\t五個月\ttime\n",
      "57\t1909\t1912\t五個月\ttime\n",
      "57\t2041\t2043\t表姊\tfamily\n",
      "57\t2081\t2084\t十二月\ttime\n",
      "58\t6\t11\t56783\tID\n",
      "58\t42\t46\t這一兩天\ttime\n",
      "58\t217\t220\t禮拜四\ttime\n",
      "58\t229\t231\t今天\ttime\n",
      "58\t232\t234\t早上\ttime\n",
      "58\t696\t698\t今天\ttime\n",
      "58\t767\t770\t三個月\ttime\n",
      "59\t4\t7\t禮拜天\ttime\n",
      "59\t12\t15\t禮拜一\ttime\n",
      "59\t21\t23\t中午\ttime\n",
      "59\t30\t33\t禮拜二\ttime\n",
      "59\t164\t167\t禮拜一\ttime\n",
      "59\t169\t172\t禮拜二\ttime\n",
      "59\t460\t463\t巫醫師\tname\n",
      "59\t491\t494\t林醫師\tname\n",
      "59\t615\t618\t王醫師\tname\n",
      "59\t737\t739\t昨天\ttime\n",
      "59\t894\t896\t三天\ttime\n",
      "59\t1027\t1030\t王醫師\tname\n",
      "59\t1124\t1126\t台大\tlocation\n",
      "59\t1135\t1137\t台大\tlocation\n",
      "59\t1223\t1226\t楊醫師\tname\n",
      "59\t1261\t1264\t下禮拜\ttime\n",
      "59\t1271\t1274\t下禮拜\ttime\n",
      "59\t1302\t1305\t楊醫師\tname\n",
      "59\t1917\t1919\t台大\tlocation\n",
      "59\t1941\t1945\t陽明醫院\tlocation\n",
      "59\t2052\t2055\t12樓\ttime\n",
      "60\t96\t98\t嘉義\tlocation\n",
      "60\t104\t106\t嘉義\tlocation\n",
      "60\t107\t109\t台南\tlocation\n",
      "60\t364\t367\t兩個月\ttime\n",
      "60\t415\t418\t這個月\ttime\n",
      "60\t519\t520\t7\ttime\n",
      "60\t521\t524\t8月底\ttime\n",
      "60\t547\t550\t8月底\ttime\n",
      "60\t685\t687\t今天\ttime\n",
      "60\t1177\t1180\t8月7\ttime\n",
      "60\t1184\t1187\t8月7\ttime\n",
      "60\t1196\t1199\t禮拜三\ttime\n",
      "60\t1200\t1202\t下午\ttime\n",
      "60\t1206\t1209\t禮拜三\ttime\n",
      "60\t1210\t1212\t下午\ttime\n",
      "60\t1228\t1231\t禮拜四\ttime\n",
      "60\t1234\t1237\t禮拜四\ttime\n",
      "60\t1238\t1240\t早上\ttime\n",
      "60\t1244\t1247\t禮拜五\ttime\n",
      "60\t1248\t1250\t早上\ttime\n",
      "60\t1259\t1262\t禮拜五\ttime\n",
      "60\t1263\t1265\t早上\ttime\n",
      "60\t1271\t1273\t早上\ttime\n",
      "60\t1301\t1304\t10點\ttime\n",
      "60\t1315\t1319\t9點45\ttime\n",
      "60\t1339\t1342\t禮拜三\ttime\n",
      "60\t1349\t1352\t禮拜三\ttime\n",
      "60\t1367\t1369\t早上\ttime\n",
      "60\t1407\t1410\t禮拜五\ttime\n",
      "60\t1411\t1413\t早上\ttime\n",
      "60\t1423\t1426\t8月7\ttime\n",
      "60\t1430\t1433\t8月7\ttime\n",
      "60\t1498\t1501\t李小姐\tname\n",
      "60\t1540\t1543\t5月份\ttime\n",
      "60\t1549\t1551\t5月\ttime\n",
      "60\t1554\t1556\t35\tmed_exam\n",
      "60\t1560\t1563\t這個月\ttime\n",
      "60\t1577\t1580\t這個月\ttime\n",
      "60\t1705\t1707\t阿美\tname\n",
      "60\t1718\t1723\t6月15號\ttime\n",
      "60\t1815\t1818\t李小龍\tname\n",
      "60\t1822\t1825\t李小龍\tname\n",
      "60\t1855\t1857\t小夫\tname\n",
      "60\t1875\t1880\t6月15號\ttime\n",
      "60\t1898\t1903\t6月15號\ttime\n",
      "60\t1986\t1989\t台北市\tlocation\n",
      "60\t2008\t2012\t9654\tmed_exam\n",
      "60\t2016\t2020\t9654\tmed_exam\n",
      "60\t2028\t2030\t85\tmed_exam\n",
      "60\t2034\t2038\t1996\tmed_exam\n",
      "60\t2043\t2047\t1996\tmed_exam\n",
      "60\t2053\t2058\t5月21號\ttime\n",
      "60\t2064\t2068\t5月21\ttime\n",
      "60\t2084\t2087\t6月底\ttime\n",
      "60\t2091\t2093\t35\tmed_exam\n",
      "60\t2105\t2108\t15號\ttime\n",
      "60\t2130\t2135\t6月15號\ttime\n",
      "60\t2146\t2151\t6月15號\ttime\n",
      "60\t2192\t2197\t6月15號\ttime\n",
      "60\t2220\t2225\t6月15號\ttime\n",
      "60\t2262\t2267\t6月15號\ttime\n",
      "60\t2269\t2274\t6月15號\ttime\n",
      "60\t2283\t2288\t6月15號\ttime\n",
      "60\t2292\t2297\t6月15號\ttime\n",
      "60\t2443\t2446\t5月多\ttime\n",
      "60\t2456\t2461\t6月15號\ttime\n",
      "60\t2497\t2499\t5月\ttime\n",
      "60\t2503\t2505\t35\tmed_exam\n",
      "60\t2509\t2511\t4月\ttime\n",
      "60\t2581\t2584\t兩三年\ttime\n",
      "60\t2599\t2602\t兩三年\ttime\n",
      "61\t173\t176\t一個月\ttime\n",
      "61\t651\t655\t第一個月\ttime\n",
      "61\t919\t922\t下個月\ttime\n",
      "61\t2022\t2028\t11月12號\ttime\n",
      "61\t2038\t2043\t11月12\ttime\n",
      "61\t2051\t2057\t禮拜三的早上\ttime\n",
      "61\t2129\t2135\t11月12號\ttime\n",
      "61\t2213\t2216\t十幾號\ttime\n",
      "61\t2280\t2282\t台北\tlocation\n",
      "61\t2293\t2295\t台北\tlocation\n",
      "61\t2343\t2346\t五月中\ttime\n",
      "61\t2388\t2391\t三百年\ttime\n",
      "61\t2421\t2426\t11月12\ttime\n",
      "62\t5\t9\t0938\tID\n",
      "62\t13\t16\t這個月\ttime\n",
      "62\t795\t799\t第十個月\ttime\n",
      "62\t906\t911\t11月29\ttime\n",
      "62\t915\t918\t禮拜五\ttime\n",
      "62\t919\t921\t下午\ttime\n",
      "63\t343\t347\t上上個月\ttime\n",
      "63\t353\t356\t下個月\ttime\n",
      "64\t4\t6\t今天\ttime\n",
      "64\t9\t12\t兩個月\ttime\n",
      "64\t746\t749\t兩個月\ttime\n",
      "64\t801\t804\t下個月\ttime\n",
      "64\t914\t916\t一年\ttime\n",
      "64\t976\t985\t287179403\ttime\n",
      "64\t1005\t1008\t第三年\ttime\n",
      "64\t1056\t1059\t一兩年\ttime\n",
      "64\t1117\t1119\t泰國\tlocation\n",
      "65\t205\t208\t上個月\ttime\n",
      "65\t1277\t1279\t1號\ttime\n",
      "66\t25\t27\t小明\tname\n",
      "66\t253\t255\t前天\ttime\n",
      "66\t269\t271\t前天\ttime\n",
      "67\t34\t37\t許小姐\tname\n",
      "67\t61\t64\t許小姐\tname\n",
      "67\t330\t333\t半年多\ttime\n",
      "67\t678\t681\t王醫師\tname\n",
      "67\t881\t884\t王醫師\tname\n",
      "67\t1012\t1015\t每個月\ttime\n",
      "67\t1081\t1084\t下個月\ttime\n",
      "67\t1113\t1116\t三個月\ttime\n",
      "67\t1204\t1207\t禮拜三\ttime\n",
      "67\t1208\t1211\t禮拜五\ttime\n",
      "67\t1223\t1226\t王醫師\tname\n",
      "67\t1236\t1239\t王醫師\tname\n",
      "67\t1240\t1243\t禮拜三\ttime\n",
      "67\t1244\t1246\t下午\ttime\n",
      "67\t1247\t1250\t禮拜五\ttime\n",
      "67\t1251\t1253\t早上\ttime\n",
      "67\t1290\t1293\t禮拜二\ttime\n",
      "67\t1300\t1303\t禮拜二\ttime\n",
      "67\t1313\t1316\t禮拜二\ttime\n",
      "67\t1366\t1369\t禮拜三\ttime\n",
      "67\t1389\t1392\t禮拜三\ttime\n",
      "67\t1412\t1415\t禮拜五\ttime\n",
      "67\t1416\t1418\t當週\ttime\n",
      "67\t1419\t1422\t禮拜五\ttime\n",
      "67\t1449\t1455\t下週的禮拜五\ttime\n",
      "67\t1478\t1480\t28\tmed_exam\n",
      "68\t43\t45\t晚上\ttime\n",
      "68\t632\t636\t這一個月\ttime\n",
      "68\t683\t685\t早上\ttime\n",
      "68\t730\t733\t下個月\ttime\n",
      "69\t267\t269\t姐姐\tfamily\n",
      "69\t1239\t1242\t前一天\ttime\n",
      "69\t1248\t1250\t今天\ttime\n",
      "69\t1251\t1255\t9月10\ttime\n",
      "69\t1267\t1270\t9月9\ttime\n",
      "69\t1271\t1278\t9月11、12\ttime\n",
      "69\t1320\t1324\t5、6點\ttime\n",
      "69\t1337\t1339\t6點\ttime\n",
      "69\t1342\t1344\t6點\ttime\n",
      "69\t1407\t1410\t11號\ttime\n",
      "69\t1432\t1437\t12號4點\ttime\n",
      "69\t1518\t1521\t前一天\ttime\n",
      "69\t1529\t1532\t前一天\ttime\n",
      "69\t1597\t1601\t9月8號\ttime\n",
      "69\t1609\t1611\t6點\ttime\n",
      "69\t1639\t1641\t4點\ttime\n",
      "69\t1834\t1836\t三天\ttime\n",
      "\n"
     ]
    }
   ],
   "source": [
    "print(output_str)"
   ]
  },
  {
   "cell_type": "code",
   "execution_count": 21,
   "metadata": {},
   "outputs": [],
   "source": [
    "output_path = 'output/{}-epo-{}.tsv'.format(model_name, epochs)\n",
    "with open(output_path, 'w', encoding='utf-8') as f:\n",
    "    f.write(output_str)"
   ]
  },
  {
   "cell_type": "code",
   "execution_count": null,
   "metadata": {},
   "outputs": [],
   "source": []
  },
  {
   "cell_type": "code",
   "execution_count": null,
   "metadata": {},
   "outputs": [],
   "source": []
  }
 ],
 "metadata": {
  "kernelspec": {
   "display_name": "Python 3",
   "language": "python",
   "name": "python3"
  },
  "language_info": {
   "codemirror_mode": {
    "name": "ipython",
    "version": 3
   },
   "file_extension": ".py",
   "mimetype": "text/x-python",
   "name": "python",
   "nbconvert_exporter": "python",
   "pygments_lexer": "ipython3",
   "version": "3.6.10"
  }
 },
 "nbformat": 4,
 "nbformat_minor": 4
}
