{
 "cells": [
  {
   "cell_type": "code",
   "execution_count": 1,
   "metadata": {},
   "outputs": [],
   "source": [
    "import re\n",
    "import pandas as pd\n",
    "import tensorflow as tf\n",
    "from matplotlib import pyplot as plt"
   ]
  },
  {
   "cell_type": "code",
   "execution_count": 2,
   "metadata": {},
   "outputs": [],
   "source": [
    "def select_gpu(N):\n",
    "    gpus = tf.config.experimental.list_physical_devices('GPU')\n",
    "    print(gpus)\n",
    "    if gpus:\n",
    "        try:\n",
    "            for gpu in gpus:\n",
    "                tf.config.experimental.set_memory_growth(gpu, True)\n",
    "            tf.config.experimental.set_visible_devices(gpus[N], 'GPU')\n",
    "            logical_gpus = tf.config.experimental.list_logical_devices('GPU')\n",
    "            print(len(gpus), \"Physical GPUs,\", len(logical_gpus), \"Logical GPUs\")\n",
    "        except RuntimeError as e:\n",
    "            print(e)    "
   ]
  },
  {
   "cell_type": "code",
   "execution_count": 3,
   "metadata": {},
   "outputs": [
    {
     "name": "stdout",
     "output_type": "stream",
     "text": [
      "[PhysicalDevice(name='/physical_device:GPU:0', device_type='GPU'), PhysicalDevice(name='/physical_device:GPU:1', device_type='GPU'), PhysicalDevice(name='/physical_device:GPU:2', device_type='GPU')]\n",
      "3 Physical GPUs, 1 Logical GPUs\n"
     ]
    }
   ],
   "source": [
    "select_gpu(2)\n",
    "epochs = 512\n",
    "batch_size = 1024\n",
    "model_name = 'bert-chinese'\n",
    "embedding_path = '/home/Danny/pretrain_model/{}'.format(model_name)"
   ]
  },
  {
   "cell_type": "code",
   "execution_count": 4,
   "metadata": {},
   "outputs": [],
   "source": [
    "# 不用儲存article_id, 轉成list\n",
    "def training_txt_to_list(path):\n",
    "    with open(path, 'r') as f:\n",
    "        txt = str(f.read())\n",
    "    txt_list = txt.split('\\n')\n",
    "    text_label_list = list()\n",
    "    tmp = list()\n",
    "    for line in txt_list:\n",
    "        if line == '--------------------':\n",
    "            text_label_list.append(tmp)\n",
    "            tmp = list()\n",
    "            continue\n",
    "        if line == '':\n",
    "            continue\n",
    "        tmp.append(line)\n",
    "    x = list()\n",
    "    y = list()\n",
    "    for text_label in text_label_list:\n",
    "        text = text_label[0]\n",
    "        label = text_label[2:]\n",
    "        label_list = ['O' for i in range(len(text))]\n",
    "        for i in label:\n",
    "            entity = i.split('\\t')\n",
    "            if int(entity[1]) > int(entity[2]):\n",
    "                continue\n",
    "            b = int(entity[1])\n",
    "            label_list[b] = 'B-{}'.format(entity[-1])\n",
    "            for j in range(int(entity[1])+1, int(entity[2])):\n",
    "                label_list[j] = 'I-{}'.format(entity[-1])\n",
    "        for i, j in enumerate(text):\n",
    "            if j == '，' or j == '。' or j == '？':\n",
    "                label_list[i] = j\n",
    "                \n",
    "        text_list = re.split('\\uff0c|\\u3002|\\uff1f', text)\n",
    "        for sentence in text_list:\n",
    "            x.append([i for i in sentence])\n",
    "        x = x[:-1]\n",
    "            \n",
    "        sentence = list()\n",
    "        for i in label_list:\n",
    "            if i == '，' or i == '。' or i == '？':\n",
    "                y.append(sentence)\n",
    "                sentence = list()\n",
    "            else:\n",
    "                sentence.append(i)\n",
    "                \n",
    "    return [x, y]"
   ]
  },
  {
   "cell_type": "code",
   "execution_count": 5,
   "metadata": {},
   "outputs": [],
   "source": [
    "x1, y1 = training_txt_to_list('/home/Danny/AI-CUP-2020/datasets/stage1/SampleData_deid.txt')"
   ]
  },
  {
   "cell_type": "code",
   "execution_count": 6,
   "metadata": {},
   "outputs": [],
   "source": [
    "x2, y2 = training_txt_to_list('/home/Danny/AI-CUP-2020/datasets/stage2/train_1_update.txt')"
   ]
  },
  {
   "cell_type": "code",
   "execution_count": 7,
   "metadata": {},
   "outputs": [],
   "source": [
    "x4, y4 = training_txt_to_list('/home/Danny/AI-CUP-2020/datasets/stage4/train_2.txt')"
   ]
  },
  {
   "cell_type": "code",
   "execution_count": 8,
   "metadata": {},
   "outputs": [
    {
     "name": "stdout",
     "output_type": "stream",
     "text": [
      "76162\n",
      "76162\n"
     ]
    }
   ],
   "source": [
    "x = x1 + x2 + x4\n",
    "y = y1 + y2 + y4\n",
    "print(len(x))\n",
    "print(len(y))"
   ]
  },
  {
   "cell_type": "code",
   "execution_count": 9,
   "metadata": {},
   "outputs": [
    {
     "name": "stdout",
     "output_type": "stream",
     "text": [
      "48743 48743\n",
      "12186 12186\n",
      "15233 15233\n"
     ]
    }
   ],
   "source": [
    "from sklearn.model_selection import train_test_split\n",
    "train_x, test_x, train_y, test_y = train_test_split(x, y, test_size=0.2, random_state=42)\n",
    "train_x, valid_x, train_y, valid_y = train_test_split(train_x, train_y, test_size=0.2, random_state=42)\n",
    "print(len(train_x), len(train_y))\n",
    "print(len(valid_x), len(valid_y))\n",
    "print(len(test_x), len(test_y))"
   ]
  },
  {
   "cell_type": "code",
   "execution_count": 10,
   "metadata": {
    "scrolled": false
   },
   "outputs": [
    {
     "name": "stderr",
     "output_type": "stream",
     "text": [
      "2020-12-14 13:20:05,914 [DEBUG] kashgari - ------------------------------------------------\n",
      "2020-12-14 13:20:05,915 [DEBUG] kashgari - Loaded transformer model's vocab\n",
      "2020-12-14 13:20:05,915 [DEBUG] kashgari - config_path       : /home/Danny/pretrain_model/bert-chinese/bert_config.json\n",
      "2020-12-14 13:20:05,916 [DEBUG] kashgari - vocab_path      : /home/Danny/pretrain_model/bert-chinese/vocab.txt\n",
      "2020-12-14 13:20:05,916 [DEBUG] kashgari - checkpoint_path : /home/Danny/pretrain_model/bert-chinese/bert_model.ckpt\n",
      "2020-12-14 13:20:05,917 [DEBUG] kashgari - Top 50 words    : ['[PAD]', '[unused1]', '[unused2]', '[unused3]', '[unused4]', '[unused5]', '[unused6]', '[unused7]', '[unused8]', '[unused9]', '[unused10]', '[unused11]', '[unused12]', '[unused13]', '[unused14]', '[unused15]', '[unused16]', '[unused17]', '[unused18]', '[unused19]', '[unused20]', '[unused21]', '[unused22]', '[unused23]', '[unused24]', '[unused25]', '[unused26]', '[unused27]', '[unused28]', '[unused29]', '[unused30]', '[unused31]', '[unused32]', '[unused33]', '[unused34]', '[unused35]', '[unused36]', '[unused37]', '[unused38]', '[unused39]', '[unused40]', '[unused41]', '[unused42]', '[unused43]', '[unused44]', '[unused45]', '[unused46]', '[unused47]', '[unused48]', '[unused49]']\n",
      "2020-12-14 13:20:05,917 [DEBUG] kashgari - ------------------------------------------------\n",
      "Preparing text vocab dict: 100%|██████████| 48743/48743 [00:00<00:00, 398010.68it/s]\n",
      "Preparing text vocab dict: 100%|██████████| 12186/12186 [00:00<00:00, 435253.24it/s]\n",
      "2020-12-14 13:20:06,074 [DEBUG] kashgari - --- Build vocab dict finished, Total: 1742 ---\n",
      "2020-12-14 13:20:06,074 [DEBUG] kashgari - Top-10: ['[PAD]', '[UNK]', '[CLS]', '[SEP]', '：', '師', '是', '民', '眾', '醫']\n",
      "Preparing text vocab dict: 100%|██████████| 48743/48743 [00:00<00:00, 582087.10it/s]\n",
      "Preparing text vocab dict: 100%|██████████| 12186/12186 [00:00<00:00, 568262.35it/s]\n",
      "2020-12-14 13:20:06,183 [DEBUG] kashgari - --- Build vocab dict finished, Total: 28 ---\n",
      "2020-12-14 13:20:06,183 [DEBUG] kashgari - Top-10: ['[PAD]', 'O', 'I-time', 'B-time', 'I-med_exam', 'I-name', 'I-location', 'B-med_exam', 'I-money', 'B-name']\n",
      "Calculating sequence length: 100%|██████████| 48743/48743 [00:00<00:00, 1118354.11it/s]\n",
      "Calculating sequence length: 100%|██████████| 12186/12186 [00:00<00:00, 1372165.39it/s]\n",
      "2020-12-14 13:20:10,292 [DEBUG] kashgari - Calculated sequence length = 19\n",
      "2020-12-14 13:20:12,545 [DEBUG] kashgari - fit input shape: (2, 1024, 19)\n",
      "2020-12-14 13:20:12,546 [DEBUG] kashgari - fit input shape: (1024, 19)\n"
     ]
    },
    {
     "name": "stdout",
     "output_type": "stream",
     "text": [
      "Epoch 1/512\n",
      "47/47 [==============================] - 43s 913ms/step - loss: 1.9720 - accuracy: 0.9187 - val_loss: 26.4777 - val_accuracy: 0.6618\n",
      "Epoch 2/512\n",
      "47/47 [==============================] - 41s 867ms/step - loss: 0.4904 - accuracy: 0.9782 - val_loss: 26.4248 - val_accuracy: 0.6704\n",
      "Epoch 3/512\n",
      "47/47 [==============================] - 41s 878ms/step - loss: 0.3628 - accuracy: 0.9815 - val_loss: 26.2859 - val_accuracy: 0.6749\n",
      "Epoch 4/512\n",
      "47/47 [==============================] - 43s 909ms/step - loss: 0.2920 - accuracy: 0.9836 - val_loss: 26.2272 - val_accuracy: 0.6783\n",
      "Epoch 5/512\n",
      "47/47 [==============================] - 42s 899ms/step - loss: 0.2467 - accuracy: 0.9854 - val_loss: 26.1766 - val_accuracy: 0.6794\n",
      "Epoch 6/512\n",
      "47/47 [==============================] - 44s 928ms/step - loss: 0.2160 - accuracy: 0.9869 - val_loss: 26.1261 - val_accuracy: 0.6805\n",
      "Epoch 7/512\n",
      "47/47 [==============================] - 42s 889ms/step - loss: 0.1961 - accuracy: 0.9877 - val_loss: 26.1024 - val_accuracy: 0.6811\n",
      "Epoch 8/512\n",
      "47/47 [==============================] - 44s 926ms/step - loss: 0.1803 - accuracy: 0.9884 - val_loss: 26.0320 - val_accuracy: 0.6819\n",
      "Epoch 9/512\n",
      "47/47 [==============================] - 43s 916ms/step - loss: 0.1626 - accuracy: 0.9895 - val_loss: 25.9457 - val_accuracy: 0.6814\n",
      "Epoch 10/512\n",
      "47/47 [==============================] - 43s 916ms/step - loss: 0.1557 - accuracy: 0.9896 - val_loss: 25.9291 - val_accuracy: 0.9904\n",
      "Epoch 11/512\n",
      "47/47 [==============================] - 42s 885ms/step - loss: 0.1444 - accuracy: 0.9903 - val_loss: 25.8962 - val_accuracy: 0.9906\n",
      "Epoch 12/512\n",
      "47/47 [==============================] - 40s 849ms/step - loss: 0.1345 - accuracy: 0.9907 - val_loss: 25.8763 - val_accuracy: 0.9909\n",
      "Epoch 13/512\n",
      "47/47 [==============================] - 39s 837ms/step - loss: 0.1273 - accuracy: 0.9912 - val_loss: 25.8456 - val_accuracy: 0.9913\n",
      "Epoch 14/512\n",
      "47/47 [==============================] - 39s 826ms/step - loss: 0.1196 - accuracy: 0.9916 - val_loss: 25.7652 - val_accuracy: 0.9913\n",
      "Epoch 15/512\n",
      "47/47 [==============================] - 38s 818ms/step - loss: 0.1101 - accuracy: 0.9924 - val_loss: 25.7421 - val_accuracy: 0.9915\n",
      "Epoch 16/512\n",
      "47/47 [==============================] - 38s 811ms/step - loss: 0.1035 - accuracy: 0.9927 - val_loss: 25.6709 - val_accuracy: 0.9914\n",
      "Epoch 17/512\n",
      "47/47 [==============================] - 38s 807ms/step - loss: 0.0984 - accuracy: 0.9931 - val_loss: 25.6113 - val_accuracy: 0.9909\n",
      "Epoch 18/512\n",
      "47/47 [==============================] - 38s 804ms/step - loss: 0.0910 - accuracy: 0.9934 - val_loss: 25.6303 - val_accuracy: 0.9886\n",
      "Epoch 19/512\n",
      "47/47 [==============================] - 38s 802ms/step - loss: 0.0881 - accuracy: 0.9936 - val_loss: 25.5637 - val_accuracy: 0.9887\n",
      "Epoch 20/512\n",
      "47/47 [==============================] - 38s 802ms/step - loss: 0.0852 - accuracy: 0.9938 - val_loss: 25.5247 - val_accuracy: 0.9884\n",
      "Epoch 21/512\n",
      "47/47 [==============================] - 38s 802ms/step - loss: 0.0778 - accuracy: 0.9943 - val_loss: 25.4805 - val_accuracy: 0.9875\n",
      "Epoch 22/512\n",
      "47/47 [==============================] - 38s 803ms/step - loss: 0.0729 - accuracy: 0.9946 - val_loss: 25.4673 - val_accuracy: 0.9889\n",
      "Epoch 23/512\n",
      "47/47 [==============================] - 38s 812ms/step - loss: 0.0683 - accuracy: 0.9949 - val_loss: 25.4072 - val_accuracy: 0.9875\n",
      "Epoch 24/512\n",
      "47/47 [==============================] - 38s 816ms/step - loss: 0.0664 - accuracy: 0.9950 - val_loss: 25.4044 - val_accuracy: 0.9858\n",
      "Epoch 25/512\n",
      "47/47 [==============================] - 39s 827ms/step - loss: 0.0611 - accuracy: 0.9956 - val_loss: 25.3516 - val_accuracy: 0.9863\n",
      "Epoch 26/512\n",
      "47/47 [==============================] - 40s 841ms/step - loss: 0.0588 - accuracy: 0.9955 - val_loss: 25.2766 - val_accuracy: 0.9844\n",
      "Epoch 27/512\n",
      "47/47 [==============================] - 41s 868ms/step - loss: 0.0555 - accuracy: 0.9958 - val_loss: 25.3168 - val_accuracy: 0.9805\n",
      "Epoch 28/512\n",
      "47/47 [==============================] - 41s 867ms/step - loss: 0.0543 - accuracy: 0.9958 - val_loss: 25.2772 - val_accuracy: 0.9812\n",
      "Epoch 29/512\n",
      "47/47 [==============================] - 40s 850ms/step - loss: 0.0480 - accuracy: 0.9963 - val_loss: 25.2190 - val_accuracy: 0.9795\n",
      "Epoch 30/512\n",
      "47/47 [==============================] - 40s 842ms/step - loss: 0.0465 - accuracy: 0.9965 - val_loss: 25.2017 - val_accuracy: 0.9814\n",
      "Epoch 31/512\n",
      "47/47 [==============================] - 39s 832ms/step - loss: 0.0454 - accuracy: 0.9965 - val_loss: 25.1298 - val_accuracy: 0.9805\n",
      "Epoch 32/512\n",
      "47/47 [==============================] - 39s 823ms/step - loss: 0.0427 - accuracy: 0.9967 - val_loss: 25.1149 - val_accuracy: 0.9791\n",
      "Epoch 33/512\n",
      "47/47 [==============================] - 38s 817ms/step - loss: 0.0428 - accuracy: 0.9966 - val_loss: 25.0745 - val_accuracy: 0.8072\n",
      "Epoch 34/512\n",
      "47/47 [==============================] - 38s 811ms/step - loss: 0.0398 - accuracy: 0.9970 - val_loss: 25.1110 - val_accuracy: 0.7342\n",
      "Epoch 35/512\n",
      "47/47 [==============================] - 38s 809ms/step - loss: 0.0361 - accuracy: 0.9973 - val_loss: 25.0313 - val_accuracy: 0.6530\n",
      "Epoch 36/512\n",
      "47/47 [==============================] - 38s 806ms/step - loss: 0.0343 - accuracy: 0.9974 - val_loss: 25.0127 - val_accuracy: 0.6149\n",
      "Epoch 37/512\n",
      "47/47 [==============================] - 38s 805ms/step - loss: 0.0330 - accuracy: 0.9975 - val_loss: 24.9985 - val_accuracy: 0.5678\n",
      "Epoch 38/512\n",
      "47/47 [==============================] - 38s 804ms/step - loss: 0.0356 - accuracy: 0.9971 - val_loss: 25.0317 - val_accuracy: 0.5227\n",
      "Epoch 39/512\n",
      "47/47 [==============================] - 38s 808ms/step - loss: 0.0299 - accuracy: 0.9978 - val_loss: 24.9589 - val_accuracy: 0.5212\n",
      "Epoch 40/512\n",
      "47/47 [==============================] - 38s 812ms/step - loss: 0.0312 - accuracy: 0.9975 - val_loss: 24.9079 - val_accuracy: 0.4799\n",
      "Epoch 41/512\n",
      "47/47 [==============================] - 65s 1s/step - loss: 0.0293 - accuracy: 0.9977 - val_loss: 24.9385 - val_accuracy: 0.4775\n",
      "Epoch 42/512\n",
      "47/47 [==============================] - 73s 2s/step - loss: 0.0275 - accuracy: 0.9979 - val_loss: 24.8498 - val_accuracy: 0.4342\n",
      "Epoch 43/512\n",
      "47/47 [==============================] - 80s 2s/step - loss: 0.0280 - accuracy: 0.9978 - val_loss: 24.9183 - val_accuracy: 0.4292\n",
      "Epoch 44/512\n",
      "47/47 [==============================] - 47s 1s/step - loss: 0.0256 - accuracy: 0.9980 - val_loss: 24.8477 - val_accuracy: 0.3767\n",
      "Epoch 45/512\n",
      "47/47 [==============================] - 46s 975ms/step - loss: 0.0249 - accuracy: 0.9980 - val_loss: 24.7850 - val_accuracy: 0.3735\n",
      "Epoch 46/512\n",
      "47/47 [==============================] - 45s 951ms/step - loss: 0.0264 - accuracy: 0.9979 - val_loss: 24.8046 - val_accuracy: 0.3189\n",
      "Epoch 47/512\n",
      "47/47 [==============================] - 45s 965ms/step - loss: 0.0244 - accuracy: 0.9980 - val_loss: 24.7795 - val_accuracy: 0.3197\n",
      "Epoch 48/512\n",
      "47/47 [==============================] - 45s 953ms/step - loss: 0.0245 - accuracy: 0.9980 - val_loss: 24.7751 - val_accuracy: 0.3174\n",
      "Epoch 49/512\n",
      "47/47 [==============================] - 47s 1s/step - loss: 0.0235 - accuracy: 0.9982 - val_loss: 24.7581 - val_accuracy: 0.3160\n",
      "Epoch 50/512\n",
      "47/47 [==============================] - 48s 1s/step - loss: 0.0258 - accuracy: 0.9979 - val_loss: 24.7170 - val_accuracy: 0.2523\n",
      "Epoch 51/512\n",
      "47/47 [==============================] - 47s 998ms/step - loss: 0.0235 - accuracy: 0.9980 - val_loss: 24.7003 - val_accuracy: 0.2537\n",
      "Epoch 52/512\n",
      "47/47 [==============================] - 49s 1s/step - loss: 0.0229 - accuracy: 0.9981 - val_loss: 24.6400 - val_accuracy: 0.2518\n",
      "Epoch 53/512\n",
      "47/47 [==============================] - 49s 1s/step - loss: 0.0204 - accuracy: 0.9984 - val_loss: 24.6776 - val_accuracy: 0.2507\n",
      "Epoch 54/512\n",
      "47/47 [==============================] - 48s 1s/step - loss: 0.0196 - accuracy: 0.9984 - val_loss: 24.6122 - val_accuracy: 0.0799\n",
      "Epoch 55/512\n",
      "47/47 [==============================] - 50s 1s/step - loss: 0.0188 - accuracy: 0.9985 - val_loss: 24.5931 - val_accuracy: 0.0725\n",
      "Epoch 56/512\n",
      "47/47 [==============================] - 49s 1s/step - loss: 0.0180 - accuracy: 0.9986 - val_loss: 24.5849 - val_accuracy: 0.0728\n",
      "Epoch 57/512\n"
     ]
    },
    {
     "name": "stdout",
     "output_type": "stream",
     "text": [
      "47/47 [==============================] - 46s 971ms/step - loss: 0.0187 - accuracy: 0.9984 - val_loss: 24.5611 - val_accuracy: 0.0570\n",
      "Epoch 58/512\n",
      "47/47 [==============================] - 47s 1s/step - loss: 0.0178 - accuracy: 0.9985 - val_loss: 24.5144 - val_accuracy: 0.0541\n",
      "Epoch 59/512\n",
      "47/47 [==============================] - 47s 1s/step - loss: 0.0175 - accuracy: 0.9985 - val_loss: 24.5177 - val_accuracy: 0.0542\n",
      "Epoch 60/512\n",
      "47/47 [==============================] - 48s 1s/step - loss: 0.0199 - accuracy: 0.9983 - val_loss: 24.5197 - val_accuracy: 0.0524\n",
      "Epoch 61/512\n",
      "47/47 [==============================] - 48s 1s/step - loss: 0.0179 - accuracy: 0.9985 - val_loss: 24.4789 - val_accuracy: 0.0535\n",
      "Epoch 62/512\n",
      "47/47 [==============================] - 48s 1s/step - loss: 0.0162 - accuracy: 0.9987 - val_loss: 24.4819 - val_accuracy: 0.0522\n",
      "Epoch 63/512\n",
      "47/47 [==============================] - 51s 1s/step - loss: 0.0151 - accuracy: 0.9988 - val_loss: 24.4436 - val_accuracy: 0.0520\n",
      "Epoch 64/512\n",
      "47/47 [==============================] - 49s 1s/step - loss: 0.0162 - accuracy: 0.9987 - val_loss: 24.4659 - val_accuracy: 0.0526\n",
      "Epoch 65/512\n",
      "47/47 [==============================] - 52s 1s/step - loss: 0.0143 - accuracy: 0.9987 - val_loss: 24.4200 - val_accuracy: 0.0489\n",
      "Epoch 66/512\n",
      "47/47 [==============================] - 50s 1s/step - loss: 0.0153 - accuracy: 0.9987 - val_loss: 24.3823 - val_accuracy: 0.0485\n",
      "Epoch 67/512\n",
      "47/47 [==============================] - 50s 1s/step - loss: 0.0152 - accuracy: 0.9986 - val_loss: 24.4264 - val_accuracy: 0.0475\n",
      "Epoch 68/512\n",
      "47/47 [==============================] - 49s 1s/step - loss: 0.0136 - accuracy: 0.9988 - val_loss: 24.3802 - val_accuracy: 0.0480\n",
      "Epoch 69/512\n",
      "47/47 [==============================] - 54s 1s/step - loss: 0.0144 - accuracy: 0.9988 - val_loss: 24.3500 - val_accuracy: 0.0480\n",
      "Epoch 70/512\n",
      "47/47 [==============================] - 50s 1s/step - loss: 0.0138 - accuracy: 0.9988 - val_loss: 24.3317 - val_accuracy: 0.0479\n",
      "Epoch 71/512\n",
      "47/47 [==============================] - 50s 1s/step - loss: 0.0144 - accuracy: 0.9988 - val_loss: 24.2986 - val_accuracy: 0.0470\n",
      "Epoch 72/512\n",
      "47/47 [==============================] - 48s 1s/step - loss: 0.0125 - accuracy: 0.9989 - val_loss: 24.3513 - val_accuracy: 0.0462\n",
      "Epoch 73/512\n",
      "47/47 [==============================] - 49s 1s/step - loss: 0.0161 - accuracy: 0.9986 - val_loss: 24.3291 - val_accuracy: 0.0390\n",
      "Epoch 74/512\n",
      "47/47 [==============================] - 48s 1s/step - loss: 0.0136 - accuracy: 0.9987 - val_loss: 24.2638 - val_accuracy: 0.0391\n",
      "Epoch 75/512\n",
      "47/47 [==============================] - 49s 1s/step - loss: 0.0136 - accuracy: 0.9988 - val_loss: 24.2524 - val_accuracy: 0.0400\n",
      "Epoch 76/512\n",
      "47/47 [==============================] - 52s 1s/step - loss: 0.0126 - accuracy: 0.9989 - val_loss: 24.2748 - val_accuracy: 0.0389\n",
      "Epoch 77/512\n",
      "47/47 [==============================] - 52s 1s/step - loss: 0.0128 - accuracy: 0.9989 - val_loss: 24.2268 - val_accuracy: 0.0384\n",
      "Epoch 78/512\n",
      "47/47 [==============================] - 49s 1s/step - loss: 0.0130 - accuracy: 0.9988 - val_loss: 24.1604 - val_accuracy: 0.0338\n",
      "Epoch 79/512\n",
      "47/47 [==============================] - 51s 1s/step - loss: 0.0123 - accuracy: 0.9988 - val_loss: 24.2023 - val_accuracy: 0.0330\n",
      "Epoch 80/512\n",
      "47/47 [==============================] - 49s 1s/step - loss: 0.0124 - accuracy: 0.9988 - val_loss: 24.1400 - val_accuracy: 0.0263\n",
      "Epoch 81/512\n",
      "47/47 [==============================] - 50s 1s/step - loss: 0.0119 - accuracy: 0.9989 - val_loss: 24.1191 - val_accuracy: 0.0267\n",
      "Epoch 82/512\n",
      "47/47 [==============================] - 53s 1s/step - loss: 0.0126 - accuracy: 0.9988 - val_loss: 24.1495 - val_accuracy: 0.0267\n",
      "Epoch 83/512\n",
      "47/47 [==============================] - 50s 1s/step - loss: 0.0113 - accuracy: 0.9990 - val_loss: 24.1141 - val_accuracy: 0.0264\n",
      "Epoch 84/512\n",
      "47/47 [==============================] - 51s 1s/step - loss: 0.0105 - accuracy: 0.9990 - val_loss: 24.0730 - val_accuracy: 0.0259\n",
      "Epoch 85/512\n",
      "47/47 [==============================] - 49s 1s/step - loss: 0.0108 - accuracy: 0.9990 - val_loss: 23.9889 - val_accuracy: 0.0268\n",
      "Epoch 86/512\n",
      "47/47 [==============================] - 50s 1s/step - loss: 0.0107 - accuracy: 0.9991 - val_loss: 24.0478 - val_accuracy: 0.0256\n",
      "Epoch 87/512\n",
      "47/47 [==============================] - 49s 1s/step - loss: 0.0105 - accuracy: 0.9990 - val_loss: 24.0407 - val_accuracy: 0.0230\n",
      "Epoch 88/512\n",
      "47/47 [==============================] - 49s 1s/step - loss: 0.0100 - accuracy: 0.9991 - val_loss: 24.0232 - val_accuracy: 0.0231\n",
      "Epoch 89/512\n",
      "47/47 [==============================] - 50s 1s/step - loss: 0.0104 - accuracy: 0.9990 - val_loss: 23.9865 - val_accuracy: 0.0230\n",
      "Epoch 90/512\n",
      "47/47 [==============================] - 51s 1s/step - loss: 0.0093 - accuracy: 0.9991 - val_loss: 23.9623 - val_accuracy: 0.0233\n",
      "Epoch 91/512\n",
      "47/47 [==============================] - 50s 1s/step - loss: 0.0096 - accuracy: 0.9991 - val_loss: 23.9725 - val_accuracy: 0.0233\n",
      "Epoch 92/512\n",
      "47/47 [==============================] - 51s 1s/step - loss: 0.0103 - accuracy: 0.9989 - val_loss: 23.9213 - val_accuracy: 0.0234\n",
      "Epoch 93/512\n",
      "47/47 [==============================] - 53s 1s/step - loss: 0.0109 - accuracy: 0.9990 - val_loss: 23.8912 - val_accuracy: 0.0220\n",
      "Epoch 94/512\n",
      "47/47 [==============================] - 55s 1s/step - loss: 0.0100 - accuracy: 0.9990 - val_loss: 23.9412 - val_accuracy: 0.0216\n",
      "Epoch 95/512\n",
      "47/47 [==============================] - 55s 1s/step - loss: 0.0108 - accuracy: 0.9990 - val_loss: 23.9005 - val_accuracy: 0.0223\n",
      "Epoch 96/512\n",
      "47/47 [==============================] - 59s 1s/step - loss: 0.0101 - accuracy: 0.9989 - val_loss: 23.8756 - val_accuracy: 0.0215\n",
      "Epoch 97/512\n",
      "47/47 [==============================] - 60s 1s/step - loss: 0.0095 - accuracy: 0.9990 - val_loss: 23.8205 - val_accuracy: 0.0196\n",
      "Epoch 98/512\n",
      "47/47 [==============================] - 59s 1s/step - loss: 0.0104 - accuracy: 0.9990 - val_loss: 23.8116 - val_accuracy: 0.0199\n",
      "Epoch 99/512\n",
      "47/47 [==============================] - 58s 1s/step - loss: 0.0098 - accuracy: 0.9990 - val_loss: 23.7974 - val_accuracy: 0.0200\n",
      "Epoch 100/512\n",
      "47/47 [==============================] - 54s 1s/step - loss: 0.0096 - accuracy: 0.9990 - val_loss: 23.8075 - val_accuracy: 0.0196\n",
      "Epoch 101/512\n",
      "47/47 [==============================] - 45s 957ms/step - loss: 0.0095 - accuracy: 0.9990 - val_loss: 23.8249 - val_accuracy: 0.0196\n",
      "Epoch 102/512\n",
      "47/47 [==============================] - 45s 954ms/step - loss: 0.0097 - accuracy: 0.9990 - val_loss: 23.8057 - val_accuracy: 0.0195\n",
      "Epoch 103/512\n",
      "47/47 [==============================] - 44s 927ms/step - loss: 0.0099 - accuracy: 0.9989 - val_loss: 23.7419 - val_accuracy: 0.0193\n",
      "Epoch 104/512\n",
      "47/47 [==============================] - 44s 937ms/step - loss: 0.0086 - accuracy: 0.9991 - val_loss: 23.7051 - val_accuracy: 0.0189\n",
      "Epoch 105/512\n",
      "47/47 [==============================] - 42s 903ms/step - loss: 0.0084 - accuracy: 0.9990 - val_loss: 23.6826 - val_accuracy: 0.0188\n",
      "Epoch 106/512\n",
      "47/47 [==============================] - 43s 908ms/step - loss: 0.0088 - accuracy: 0.9991 - val_loss: 23.6235 - val_accuracy: 0.0190\n",
      "Epoch 107/512\n",
      "47/47 [==============================] - 42s 892ms/step - loss: 0.0093 - accuracy: 0.9990 - val_loss: 23.6501 - val_accuracy: 0.0189\n",
      "Epoch 108/512\n",
      "47/47 [==============================] - 41s 864ms/step - loss: 0.0088 - accuracy: 0.9991 - val_loss: 23.6160 - val_accuracy: 0.0189\n",
      "Epoch 109/512\n",
      "47/47 [==============================] - 40s 861ms/step - loss: 0.0082 - accuracy: 0.9992 - val_loss: 23.5990 - val_accuracy: 0.0190\n",
      "Epoch 110/512\n",
      "47/47 [==============================] - 41s 873ms/step - loss: 0.0076 - accuracy: 0.9992 - val_loss: 23.5630 - val_accuracy: 0.0187\n",
      "Epoch 111/512\n",
      "47/47 [==============================] - 41s 869ms/step - loss: 0.0085 - accuracy: 0.9991 - val_loss: 23.5408 - val_accuracy: 0.0187\n",
      "Epoch 112/512\n",
      "47/47 [==============================] - 41s 871ms/step - loss: 0.0080 - accuracy: 0.9991 - val_loss: 23.5411 - val_accuracy: 0.0185\n",
      "Epoch 113/512\n",
      "47/47 [==============================] - 40s 854ms/step - loss: 0.0084 - accuracy: 0.9991 - val_loss: 23.5470 - val_accuracy: 0.0188\n"
     ]
    },
    {
     "name": "stdout",
     "output_type": "stream",
     "text": [
      "Epoch 114/512\n",
      "47/47 [==============================] - 41s 874ms/step - loss: 0.0080 - accuracy: 0.9992 - val_loss: 23.4834 - val_accuracy: 0.0185\n",
      "Epoch 115/512\n",
      "47/47 [==============================] - 41s 866ms/step - loss: 0.0080 - accuracy: 0.9991 - val_loss: 23.4732 - val_accuracy: 0.0180\n",
      "Epoch 116/512\n",
      "47/47 [==============================] - 40s 855ms/step - loss: 0.0085 - accuracy: 0.9990 - val_loss: 23.4916 - val_accuracy: 0.0187\n",
      "Epoch 117/512\n",
      "47/47 [==============================] - 40s 847ms/step - loss: 0.0085 - accuracy: 0.9990 - val_loss: 23.4217 - val_accuracy: 0.0183\n",
      "Epoch 118/512\n",
      "47/47 [==============================] - 40s 843ms/step - loss: 0.0074 - accuracy: 0.9992 - val_loss: 23.4553 - val_accuracy: 0.0185\n",
      "Epoch 119/512\n",
      "47/47 [==============================] - 40s 846ms/step - loss: 0.0073 - accuracy: 0.9992 - val_loss: 23.4173 - val_accuracy: 0.0177\n",
      "Epoch 120/512\n",
      "47/47 [==============================] - 40s 844ms/step - loss: 0.0083 - accuracy: 0.9991 - val_loss: 23.4027 - val_accuracy: 0.0174\n",
      "Epoch 121/512\n",
      "47/47 [==============================] - 40s 841ms/step - loss: 0.0079 - accuracy: 0.9990 - val_loss: 23.3585 - val_accuracy: 0.0172\n",
      "Epoch 122/512\n",
      "47/47 [==============================] - 40s 843ms/step - loss: 0.0081 - accuracy: 0.9991 - val_loss: 23.3569 - val_accuracy: 0.0178\n",
      "Epoch 123/512\n",
      "47/47 [==============================] - 40s 843ms/step - loss: 0.0072 - accuracy: 0.9992 - val_loss: 23.3383 - val_accuracy: 0.0175\n",
      "Epoch 124/512\n",
      "47/47 [==============================] - 40s 841ms/step - loss: 0.0070 - accuracy: 0.9992 - val_loss: 23.2929 - val_accuracy: 0.0171\n",
      "Epoch 125/512\n",
      "47/47 [==============================] - 39s 839ms/step - loss: 0.0079 - accuracy: 0.9991 - val_loss: 23.2721 - val_accuracy: 0.0172\n",
      "Epoch 126/512\n",
      "47/47 [==============================] - 40s 841ms/step - loss: 0.0078 - accuracy: 0.9991 - val_loss: 23.2555 - val_accuracy: 0.0171\n",
      "Epoch 127/512\n",
      "47/47 [==============================] - 40s 842ms/step - loss: 0.0081 - accuracy: 0.9991 - val_loss: 23.2439 - val_accuracy: 0.0170\n",
      "Epoch 128/512\n",
      "47/47 [==============================] - 39s 840ms/step - loss: 0.0083 - accuracy: 0.9991 - val_loss: 23.2055 - val_accuracy: 0.0171\n",
      "Epoch 129/512\n",
      "47/47 [==============================] - 40s 841ms/step - loss: 0.0081 - accuracy: 0.9991 - val_loss: 23.2229 - val_accuracy: 0.0169\n",
      "Epoch 130/512\n",
      "47/47 [==============================] - 40s 841ms/step - loss: 0.0074 - accuracy: 0.9992 - val_loss: 23.1753 - val_accuracy: 0.0173\n",
      "Epoch 131/512\n",
      "47/47 [==============================] - 40s 862ms/step - loss: 0.0064 - accuracy: 0.9992 - val_loss: 23.1719 - val_accuracy: 0.0169\n",
      "Epoch 132/512\n",
      "47/47 [==============================] - 39s 839ms/step - loss: 0.0067 - accuracy: 0.9992 - val_loss: 23.1447 - val_accuracy: 0.0168\n",
      "Epoch 133/512\n",
      "47/47 [==============================] - 39s 840ms/step - loss: 0.0062 - accuracy: 0.9993 - val_loss: 23.1037 - val_accuracy: 0.0168\n",
      "Epoch 134/512\n",
      "47/47 [==============================] - 40s 842ms/step - loss: 0.0066 - accuracy: 0.9992 - val_loss: 23.0652 - val_accuracy: 0.0165\n",
      "Epoch 135/512\n",
      "47/47 [==============================] - 40s 842ms/step - loss: 0.0063 - accuracy: 0.9993 - val_loss: 23.0699 - val_accuracy: 0.0168\n",
      "Epoch 136/512\n",
      "47/47 [==============================] - 40s 841ms/step - loss: 0.0067 - accuracy: 0.9992 - val_loss: 23.0645 - val_accuracy: 0.0163\n",
      "Epoch 137/512\n",
      "47/47 [==============================] - 40s 841ms/step - loss: 0.0073 - accuracy: 0.9991 - val_loss: 23.0287 - val_accuracy: 0.0159\n",
      "Epoch 138/512\n",
      "47/47 [==============================] - 40s 844ms/step - loss: 0.0069 - accuracy: 0.9992 - val_loss: 23.0211 - val_accuracy: 0.0158\n",
      "Epoch 139/512\n",
      "47/47 [==============================] - 41s 865ms/step - loss: 0.0069 - accuracy: 0.9991 - val_loss: 22.9668 - val_accuracy: 0.0158\n",
      "Epoch 140/512\n",
      "47/47 [==============================] - 44s 935ms/step - loss: 0.0076 - accuracy: 0.9991 - val_loss: 22.9246 - val_accuracy: 0.0160\n",
      "Epoch 141/512\n",
      "47/47 [==============================] - 49s 1s/step - loss: 0.0072 - accuracy: 0.9990 - val_loss: 22.9238 - val_accuracy: 0.0158\n",
      "Epoch 142/512\n",
      "47/47 [==============================] - 52s 1s/step - loss: 0.0074 - accuracy: 0.9991 - val_loss: 22.8950 - val_accuracy: 0.0154\n",
      "Epoch 143/512\n",
      "47/47 [==============================] - 58s 1s/step - loss: 0.0066 - accuracy: 0.9992 - val_loss: 22.8641 - val_accuracy: 0.0155\n",
      "Epoch 144/512\n",
      "47/47 [==============================] - 54s 1s/step - loss: 0.0074 - accuracy: 0.9991 - val_loss: 22.8610 - val_accuracy: 0.0156\n",
      "Epoch 145/512\n",
      "47/47 [==============================] - 47s 1s/step - loss: 0.0080 - accuracy: 0.9991 - val_loss: 22.8045 - val_accuracy: 0.0155\n",
      "Epoch 146/512\n",
      "47/47 [==============================] - 44s 928ms/step - loss: 0.0068 - accuracy: 0.9992 - val_loss: 22.8140 - val_accuracy: 0.0155\n",
      "Epoch 147/512\n",
      "47/47 [==============================] - 42s 900ms/step - loss: 0.0071 - accuracy: 0.9992 - val_loss: 22.7892 - val_accuracy: 0.0159\n",
      "Epoch 148/512\n",
      "47/47 [==============================] - 41s 872ms/step - loss: 0.0078 - accuracy: 0.9991 - val_loss: 22.7055 - val_accuracy: 0.0155\n",
      "Epoch 149/512\n",
      "47/47 [==============================] - 42s 889ms/step - loss: 0.0066 - accuracy: 0.9992 - val_loss: 22.7426 - val_accuracy: 0.0152\n",
      "Epoch 150/512\n",
      "47/47 [==============================] - 40s 860ms/step - loss: 0.0069 - accuracy: 0.9991 - val_loss: 22.6635 - val_accuracy: 0.0155\n",
      "Epoch 151/512\n",
      "47/47 [==============================] - 40s 861ms/step - loss: 0.0067 - accuracy: 0.9992 - val_loss: 22.6506 - val_accuracy: 0.0153\n",
      "Epoch 152/512\n",
      "47/47 [==============================] - 40s 854ms/step - loss: 0.0062 - accuracy: 0.9992 - val_loss: 22.6056 - val_accuracy: 0.0154\n",
      "Epoch 153/512\n",
      "47/47 [==============================] - 42s 884ms/step - loss: 0.0059 - accuracy: 0.9992 - val_loss: 22.6234 - val_accuracy: 0.0154\n",
      "Epoch 154/512\n",
      "47/47 [==============================] - 41s 874ms/step - loss: 0.0056 - accuracy: 0.9993 - val_loss: 22.5950 - val_accuracy: 0.0153\n",
      "Epoch 155/512\n",
      "47/47 [==============================] - 40s 858ms/step - loss: 0.0064 - accuracy: 0.9991 - val_loss: 22.5189 - val_accuracy: 0.0155\n",
      "Epoch 156/512\n",
      "47/47 [==============================] - 40s 858ms/step - loss: 0.0058 - accuracy: 0.9992 - val_loss: 22.5351 - val_accuracy: 0.0155\n",
      "Epoch 157/512\n",
      "47/47 [==============================] - 40s 854ms/step - loss: 0.0059 - accuracy: 0.9992 - val_loss: 22.5125 - val_accuracy: 0.0153\n",
      "Epoch 158/512\n",
      "47/47 [==============================] - 41s 879ms/step - loss: 0.0064 - accuracy: 0.9992 - val_loss: 22.4906 - val_accuracy: 0.0154\n",
      "Epoch 159/512\n",
      "47/47 [==============================] - 41s 882ms/step - loss: 0.0062 - accuracy: 0.9992 - val_loss: 22.4564 - val_accuracy: 0.0154\n",
      "Epoch 160/512\n",
      "47/47 [==============================] - 40s 860ms/step - loss: 0.0067 - accuracy: 0.9992 - val_loss: 22.4257 - val_accuracy: 0.0155\n",
      "Epoch 161/512\n",
      "47/47 [==============================] - 40s 852ms/step - loss: 0.0064 - accuracy: 0.9992 - val_loss: 22.3830 - val_accuracy: 0.0156\n",
      "Epoch 162/512\n",
      "47/47 [==============================] - 40s 860ms/step - loss: 0.0062 - accuracy: 0.9991 - val_loss: 22.3472 - val_accuracy: 0.0153\n",
      "Epoch 163/512\n",
      "47/47 [==============================] - 40s 854ms/step - loss: 0.0064 - accuracy: 0.9992 - val_loss: 22.3562 - val_accuracy: 0.0155\n",
      "Epoch 164/512\n",
      "47/47 [==============================] - 41s 864ms/step - loss: 0.0054 - accuracy: 0.9993 - val_loss: 22.3449 - val_accuracy: 0.0156\n",
      "Epoch 165/512\n",
      "47/47 [==============================] - 40s 850ms/step - loss: 0.0067 - accuracy: 0.9991 - val_loss: 22.3112 - val_accuracy: 0.0153\n",
      "Epoch 166/512\n",
      "47/47 [==============================] - 41s 869ms/step - loss: 0.0065 - accuracy: 0.9992 - val_loss: 22.2656 - val_accuracy: 0.0154\n",
      "Epoch 167/512\n",
      "47/47 [==============================] - 40s 850ms/step - loss: 0.0059 - accuracy: 0.9992 - val_loss: 22.2424 - val_accuracy: 0.0155\n",
      "Epoch 168/512\n",
      "47/47 [==============================] - 40s 854ms/step - loss: 0.0068 - accuracy: 0.9991 - val_loss: 22.2188 - val_accuracy: 0.0153\n",
      "Epoch 169/512\n",
      "47/47 [==============================] - 40s 857ms/step - loss: 0.0061 - accuracy: 0.9991 - val_loss: 22.1890 - val_accuracy: 0.0155\n"
     ]
    },
    {
     "name": "stdout",
     "output_type": "stream",
     "text": [
      "Epoch 170/512\n",
      "47/47 [==============================] - 40s 861ms/step - loss: 0.0062 - accuracy: 0.9992 - val_loss: 22.1305 - val_accuracy: 0.0155\n",
      "Epoch 171/512\n",
      "47/47 [==============================] - 40s 853ms/step - loss: 0.0060 - accuracy: 0.9992 - val_loss: 22.1001 - val_accuracy: 0.0152\n",
      "Epoch 172/512\n",
      "47/47 [==============================] - 40s 855ms/step - loss: 0.0056 - accuracy: 0.9991 - val_loss: 22.1138 - val_accuracy: 0.0150\n",
      "Epoch 173/512\n",
      "47/47 [==============================] - 40s 857ms/step - loss: 0.0073 - accuracy: 0.9989 - val_loss: 22.0699 - val_accuracy: 0.0151\n",
      "Epoch 174/512\n",
      "47/47 [==============================] - 41s 864ms/step - loss: 0.0056 - accuracy: 0.9992 - val_loss: 22.0208 - val_accuracy: 0.0152\n",
      "Epoch 175/512\n",
      "47/47 [==============================] - 40s 858ms/step - loss: 0.0064 - accuracy: 0.9991 - val_loss: 21.9569 - val_accuracy: 0.0155\n",
      "Epoch 176/512\n",
      "47/47 [==============================] - 41s 871ms/step - loss: 0.0063 - accuracy: 0.9991 - val_loss: 21.9632 - val_accuracy: 0.0155\n",
      "Epoch 177/512\n",
      "47/47 [==============================] - 40s 846ms/step - loss: 0.0058 - accuracy: 0.9992 - val_loss: 21.9211 - val_accuracy: 0.0152\n",
      "Epoch 178/512\n",
      "47/47 [==============================] - 40s 844ms/step - loss: 0.0057 - accuracy: 0.9991 - val_loss: 21.8947 - val_accuracy: 0.0151\n",
      "Epoch 179/512\n",
      "47/47 [==============================] - 40s 845ms/step - loss: 0.0060 - accuracy: 0.9992 - val_loss: 21.8576 - val_accuracy: 0.0153\n",
      "Epoch 180/512\n",
      "47/47 [==============================] - 40s 843ms/step - loss: 0.0055 - accuracy: 0.9993 - val_loss: 21.8512 - val_accuracy: 0.0152\n",
      "Epoch 181/512\n",
      "47/47 [==============================] - 40s 843ms/step - loss: 0.0055 - accuracy: 0.9992 - val_loss: 21.7978 - val_accuracy: 0.0153\n",
      "Epoch 182/512\n",
      "47/47 [==============================] - 40s 842ms/step - loss: 0.0052 - accuracy: 0.9992 - val_loss: 21.7844 - val_accuracy: 0.0155\n",
      "Epoch 183/512\n",
      "47/47 [==============================] - 40s 840ms/step - loss: 0.0054 - accuracy: 0.9992 - val_loss: 21.7443 - val_accuracy: 0.0155\n",
      "Epoch 184/512\n",
      "47/47 [==============================] - 39s 839ms/step - loss: 0.0049 - accuracy: 0.9993 - val_loss: 21.7298 - val_accuracy: 0.0156\n",
      "Epoch 185/512\n",
      "47/47 [==============================] - 39s 839ms/step - loss: 0.0054 - accuracy: 0.9992 - val_loss: 21.6936 - val_accuracy: 0.0157\n",
      "Epoch 186/512\n",
      "47/47 [==============================] - 39s 840ms/step - loss: 0.0047 - accuracy: 0.9993 - val_loss: 21.6882 - val_accuracy: 0.0158\n",
      "Epoch 187/512\n",
      "47/47 [==============================] - 39s 839ms/step - loss: 0.0054 - accuracy: 0.9992 - val_loss: 21.5905 - val_accuracy: 0.0153\n",
      "Epoch 188/512\n",
      "47/47 [==============================] - 39s 838ms/step - loss: 0.0052 - accuracy: 0.9992 - val_loss: 21.6432 - val_accuracy: 0.0153\n",
      "Epoch 189/512\n",
      "47/47 [==============================] - 39s 837ms/step - loss: 0.0052 - accuracy: 0.9992 - val_loss: 21.6058 - val_accuracy: 0.0152\n",
      "Epoch 190/512\n",
      "47/47 [==============================] - 39s 837ms/step - loss: 0.0048 - accuracy: 0.9993 - val_loss: 21.5235 - val_accuracy: 0.0152\n",
      "Epoch 191/512\n",
      "47/47 [==============================] - 39s 837ms/step - loss: 0.0057 - accuracy: 0.9992 - val_loss: 21.5673 - val_accuracy: 0.0152\n",
      "Epoch 192/512\n",
      "47/47 [==============================] - 39s 837ms/step - loss: 0.0054 - accuracy: 0.9992 - val_loss: 21.5126 - val_accuracy: 0.0152\n",
      "Epoch 193/512\n",
      "47/47 [==============================] - 40s 843ms/step - loss: 0.0047 - accuracy: 0.9993 - val_loss: 21.4472 - val_accuracy: 0.0153\n",
      "Epoch 194/512\n",
      "47/47 [==============================] - 40s 845ms/step - loss: 0.0048 - accuracy: 0.9993 - val_loss: 21.4405 - val_accuracy: 0.0153\n",
      "Epoch 195/512\n",
      "47/47 [==============================] - 39s 838ms/step - loss: 0.0052 - accuracy: 0.9993 - val_loss: 21.4100 - val_accuracy: 0.0155\n",
      "Epoch 196/512\n",
      "47/47 [==============================] - 39s 838ms/step - loss: 0.0057 - accuracy: 0.9992 - val_loss: 21.3726 - val_accuracy: 0.0150\n",
      "Epoch 197/512\n",
      "47/47 [==============================] - 39s 837ms/step - loss: 0.0054 - accuracy: 0.9992 - val_loss: 21.3640 - val_accuracy: 0.0148\n",
      "Epoch 198/512\n",
      "47/47 [==============================] - 40s 846ms/step - loss: 0.0055 - accuracy: 0.9993 - val_loss: 21.3536 - val_accuracy: 0.0151\n",
      "Epoch 199/512\n",
      "47/47 [==============================] - 41s 871ms/step - loss: 0.0049 - accuracy: 0.9992 - val_loss: 21.3331 - val_accuracy: 0.0152\n",
      "Epoch 200/512\n",
      "47/47 [==============================] - 44s 927ms/step - loss: 0.0048 - accuracy: 0.9993 - val_loss: 21.2853 - val_accuracy: 0.0151\n",
      "Epoch 201/512\n",
      "47/47 [==============================] - 49s 1s/step - loss: 0.0053 - accuracy: 0.9993 - val_loss: 21.2628 - val_accuracy: 0.0153\n",
      "Epoch 202/512\n",
      "47/47 [==============================] - 49s 1s/step - loss: 0.0049 - accuracy: 0.9992 - val_loss: 21.2348 - val_accuracy: 0.0151\n",
      "Epoch 203/512\n",
      "47/47 [==============================] - 52s 1s/step - loss: 0.0044 - accuracy: 0.9993 - val_loss: 21.2015 - val_accuracy: 0.0152\n",
      "Epoch 204/512\n",
      "47/47 [==============================] - 47s 1s/step - loss: 0.0048 - accuracy: 0.9992 - val_loss: 21.1863 - val_accuracy: 0.0153\n",
      "Epoch 205/512\n",
      "47/47 [==============================] - 43s 914ms/step - loss: 0.0045 - accuracy: 0.9993 - val_loss: 21.1887 - val_accuracy: 0.0151\n",
      "Epoch 206/512\n",
      "47/47 [==============================] - 42s 895ms/step - loss: 0.0047 - accuracy: 0.9993 - val_loss: 21.1845 - val_accuracy: 0.0151\n",
      "Epoch 207/512\n",
      "47/47 [==============================] - 40s 858ms/step - loss: 0.0048 - accuracy: 0.9992 - val_loss: 21.1613 - val_accuracy: 0.0154\n",
      "Epoch 208/512\n",
      "47/47 [==============================] - 41s 865ms/step - loss: 0.0049 - accuracy: 0.9993 - val_loss: 21.1245 - val_accuracy: 0.0136\n",
      "Epoch 209/512\n",
      "47/47 [==============================] - 41s 864ms/step - loss: 0.0046 - accuracy: 0.9993 - val_loss: 21.1133 - val_accuracy: 0.0141\n",
      "Epoch 210/512\n",
      "47/47 [==============================] - 40s 842ms/step - loss: 0.0054 - accuracy: 0.9992 - val_loss: 21.0314 - val_accuracy: 0.0139\n",
      "Epoch 211/512\n",
      "47/47 [==============================] - 40s 843ms/step - loss: 0.0050 - accuracy: 0.9992 - val_loss: 21.0045 - val_accuracy: 0.0137\n",
      "Epoch 212/512\n",
      "47/47 [==============================] - 40s 860ms/step - loss: 0.0044 - accuracy: 0.9993 - val_loss: 21.0075 - val_accuracy: 0.0138\n",
      "Epoch 213/512\n",
      "47/47 [==============================] - 39s 839ms/step - loss: 0.0049 - accuracy: 0.9993 - val_loss: 20.9738 - val_accuracy: 0.0139\n",
      "Epoch 214/512\n",
      "47/47 [==============================] - 40s 841ms/step - loss: 0.0050 - accuracy: 0.9992 - val_loss: 20.9314 - val_accuracy: 0.0142\n",
      "Epoch 215/512\n",
      "47/47 [==============================] - 39s 840ms/step - loss: 0.0045 - accuracy: 0.9994 - val_loss: 20.8918 - val_accuracy: 0.0138\n",
      "Epoch 216/512\n",
      "47/47 [==============================] - 39s 839ms/step - loss: 0.0049 - accuracy: 0.9993 - val_loss: 20.9110 - val_accuracy: 0.0139\n",
      "Epoch 217/512\n",
      "47/47 [==============================] - 39s 839ms/step - loss: 0.0047 - accuracy: 0.9992 - val_loss: 20.8938 - val_accuracy: 0.0141\n",
      "Epoch 218/512\n",
      "47/47 [==============================] - 39s 836ms/step - loss: 0.0049 - accuracy: 0.9993 - val_loss: 20.8240 - val_accuracy: 0.0136\n",
      "Epoch 219/512\n",
      "47/47 [==============================] - 39s 837ms/step - loss: 0.0044 - accuracy: 0.9993 - val_loss: 20.8668 - val_accuracy: 0.0137\n",
      "Epoch 220/512\n",
      "47/47 [==============================] - 39s 836ms/step - loss: 0.0053 - accuracy: 0.9992 - val_loss: 20.8024 - val_accuracy: 0.0140\n",
      "Epoch 221/512\n",
      "47/47 [==============================] - 39s 837ms/step - loss: 0.0046 - accuracy: 0.9993 - val_loss: 20.7866 - val_accuracy: 0.0138\n",
      "Epoch 222/512\n",
      "47/47 [==============================] - 39s 836ms/step - loss: 0.0050 - accuracy: 0.9993 - val_loss: 20.7597 - val_accuracy: 0.0140\n",
      "Epoch 223/512\n",
      "47/47 [==============================] - 39s 837ms/step - loss: 0.0054 - accuracy: 0.9992 - val_loss: 20.7412 - val_accuracy: 0.0138\n",
      "Epoch 224/512\n",
      "47/47 [==============================] - 39s 837ms/step - loss: 0.0047 - accuracy: 0.9992 - val_loss: 20.7042 - val_accuracy: 0.0140\n",
      "Epoch 225/512\n",
      "47/47 [==============================] - 39s 837ms/step - loss: 0.0049 - accuracy: 0.9992 - val_loss: 20.6712 - val_accuracy: 0.0138\n"
     ]
    },
    {
     "name": "stdout",
     "output_type": "stream",
     "text": [
      "Epoch 226/512\n",
      "47/47 [==============================] - 39s 836ms/step - loss: 0.0048 - accuracy: 0.9993 - val_loss: 20.6446 - val_accuracy: 0.0141\n",
      "Epoch 227/512\n",
      "47/47 [==============================] - 39s 837ms/step - loss: 0.0047 - accuracy: 0.9993 - val_loss: 20.6398 - val_accuracy: 0.0141\n",
      "Epoch 228/512\n",
      "47/47 [==============================] - 39s 836ms/step - loss: 0.0044 - accuracy: 0.9993 - val_loss: 20.6307 - val_accuracy: 0.0137\n",
      "Epoch 229/512\n",
      "47/47 [==============================] - 40s 843ms/step - loss: 0.0043 - accuracy: 0.9993 - val_loss: 20.5654 - val_accuracy: 0.0138\n",
      "Epoch 230/512\n",
      "47/47 [==============================] - 39s 837ms/step - loss: 0.0046 - accuracy: 0.9992 - val_loss: 20.5843 - val_accuracy: 0.0139\n",
      "Epoch 231/512\n",
      "47/47 [==============================] - 39s 839ms/step - loss: 0.0042 - accuracy: 0.9994 - val_loss: 20.5529 - val_accuracy: 0.0140\n",
      "Epoch 232/512\n",
      "47/47 [==============================] - 39s 836ms/step - loss: 0.0049 - accuracy: 0.9992 - val_loss: 20.5046 - val_accuracy: 0.0140\n",
      "Epoch 233/512\n",
      "47/47 [==============================] - 39s 837ms/step - loss: 0.0049 - accuracy: 0.9992 - val_loss: 20.4503 - val_accuracy: 0.0141\n",
      "Epoch 234/512\n",
      "47/47 [==============================] - 39s 836ms/step - loss: 0.0048 - accuracy: 0.9991 - val_loss: 20.4368 - val_accuracy: 0.0139\n",
      "Epoch 235/512\n",
      "47/47 [==============================] - 39s 836ms/step - loss: 0.0046 - accuracy: 0.9993 - val_loss: 20.4181 - val_accuracy: 0.0138\n",
      "Epoch 236/512\n",
      "47/47 [==============================] - 39s 836ms/step - loss: 0.0046 - accuracy: 0.9993 - val_loss: 20.4383 - val_accuracy: 0.0136\n",
      "Epoch 237/512\n",
      "47/47 [==============================] - 39s 839ms/step - loss: 0.0046 - accuracy: 0.9992 - val_loss: 20.3973 - val_accuracy: 0.0140\n",
      "Epoch 238/512\n",
      "47/47 [==============================] - 39s 838ms/step - loss: 0.0046 - accuracy: 0.9993 - val_loss: 20.3332 - val_accuracy: 0.0138\n",
      "Epoch 239/512\n",
      "47/47 [==============================] - 39s 835ms/step - loss: 0.0045 - accuracy: 0.9993 - val_loss: 20.3196 - val_accuracy: 0.0140\n",
      "Epoch 240/512\n",
      "47/47 [==============================] - 39s 836ms/step - loss: 0.0047 - accuracy: 0.9993 - val_loss: 20.3213 - val_accuracy: 0.0138\n",
      "Epoch 241/512\n",
      "47/47 [==============================] - 40s 843ms/step - loss: 0.0038 - accuracy: 0.9994 - val_loss: 20.2771 - val_accuracy: 0.0135\n",
      "Epoch 242/512\n",
      "47/47 [==============================] - 40s 843ms/step - loss: 0.0049 - accuracy: 0.9993 - val_loss: 20.2866 - val_accuracy: 0.0138\n",
      "Epoch 243/512\n",
      "47/47 [==============================] - 39s 837ms/step - loss: 0.0044 - accuracy: 0.9993 - val_loss: 20.2393 - val_accuracy: 0.0140\n",
      "Epoch 244/512\n",
      "47/47 [==============================] - 39s 839ms/step - loss: 0.0044 - accuracy: 0.9992 - val_loss: 20.2337 - val_accuracy: 0.0139\n",
      "Epoch 245/512\n",
      "47/47 [==============================] - 39s 836ms/step - loss: 0.0044 - accuracy: 0.9992 - val_loss: 20.2260 - val_accuracy: 0.0139\n",
      "Epoch 246/512\n",
      "47/47 [==============================] - 39s 837ms/step - loss: 0.0042 - accuracy: 0.9994 - val_loss: 20.1618 - val_accuracy: 0.0140\n",
      "Epoch 247/512\n",
      "47/47 [==============================] - 39s 836ms/step - loss: 0.0046 - accuracy: 0.9993 - val_loss: 20.1680 - val_accuracy: 0.0139\n",
      "Epoch 248/512\n",
      "47/47 [==============================] - 39s 836ms/step - loss: 0.0044 - accuracy: 0.9993 - val_loss: 20.1652 - val_accuracy: 0.0139\n",
      "Epoch 249/512\n",
      "47/47 [==============================] - 39s 837ms/step - loss: 0.0046 - accuracy: 0.9992 - val_loss: 20.1439 - val_accuracy: 0.0139\n",
      "Epoch 250/512\n",
      "47/47 [==============================] - 39s 839ms/step - loss: 0.0043 - accuracy: 0.9993 - val_loss: 20.0727 - val_accuracy: 0.0139\n",
      "Epoch 251/512\n",
      "47/47 [==============================] - 39s 836ms/step - loss: 0.0043 - accuracy: 0.9994 - val_loss: 20.0955 - val_accuracy: 0.0134\n",
      "Epoch 252/512\n",
      "47/47 [==============================] - 39s 836ms/step - loss: 0.0041 - accuracy: 0.9993 - val_loss: 20.0695 - val_accuracy: 0.0140\n",
      "Epoch 253/512\n",
      "47/47 [==============================] - 39s 837ms/step - loss: 0.0042 - accuracy: 0.9992 - val_loss: 20.0768 - val_accuracy: 0.0139\n",
      "Epoch 254/512\n",
      "47/47 [==============================] - 39s 836ms/step - loss: 0.0051 - accuracy: 0.9992 - val_loss: 19.9903 - val_accuracy: 0.0139\n",
      "Epoch 255/512\n",
      "47/47 [==============================] - 39s 836ms/step - loss: 0.0047 - accuracy: 0.9993 - val_loss: 19.9526 - val_accuracy: 0.0138\n",
      "Epoch 256/512\n",
      "47/47 [==============================] - 39s 836ms/step - loss: 0.0045 - accuracy: 0.9992 - val_loss: 19.9796 - val_accuracy: 0.0141\n",
      "Epoch 257/512\n",
      "47/47 [==============================] - 39s 836ms/step - loss: 0.0041 - accuracy: 0.9992 - val_loss: 19.9596 - val_accuracy: 0.0137\n",
      "Epoch 258/512\n",
      "47/47 [==============================] - 39s 836ms/step - loss: 0.0043 - accuracy: 0.9993 - val_loss: 19.9300 - val_accuracy: 0.0141\n",
      "Epoch 259/512\n",
      "47/47 [==============================] - 39s 838ms/step - loss: 0.0044 - accuracy: 0.9993 - val_loss: 19.9455 - val_accuracy: 0.0139\n",
      "Epoch 260/512\n",
      "47/47 [==============================] - 39s 836ms/step - loss: 0.0040 - accuracy: 0.9993 - val_loss: 19.9108 - val_accuracy: 0.0140\n",
      "Epoch 261/512\n",
      "47/47 [==============================] - 39s 837ms/step - loss: 0.0036 - accuracy: 0.9994 - val_loss: 19.8926 - val_accuracy: 0.0139\n",
      "Epoch 262/512\n",
      "47/47 [==============================] - 39s 836ms/step - loss: 0.0043 - accuracy: 0.9993 - val_loss: 19.8881 - val_accuracy: 0.0141\n",
      "Epoch 263/512\n",
      "47/47 [==============================] - 39s 836ms/step - loss: 0.0040 - accuracy: 0.9993 - val_loss: 19.8430 - val_accuracy: 0.0139\n",
      "Epoch 264/512\n",
      "47/47 [==============================] - 39s 836ms/step - loss: 0.0041 - accuracy: 0.9994 - val_loss: 19.8340 - val_accuracy: 0.0139\n",
      "Epoch 265/512\n",
      "47/47 [==============================] - 39s 839ms/step - loss: 0.0044 - accuracy: 0.9992 - val_loss: 19.7941 - val_accuracy: 0.0139\n",
      "Epoch 266/512\n",
      "47/47 [==============================] - 39s 836ms/step - loss: 0.0047 - accuracy: 0.9992 - val_loss: 19.8077 - val_accuracy: 0.0139\n",
      "Epoch 267/512\n",
      "47/47 [==============================] - 39s 836ms/step - loss: 0.0042 - accuracy: 0.9994 - val_loss: 19.7744 - val_accuracy: 0.0140\n",
      "Epoch 268/512\n",
      "47/47 [==============================] - 39s 835ms/step - loss: 0.0047 - accuracy: 0.9992 - val_loss: 19.7722 - val_accuracy: 0.0142\n",
      "Epoch 269/512\n",
      "47/47 [==============================] - 39s 838ms/step - loss: 0.0039 - accuracy: 0.9993 - val_loss: 19.7454 - val_accuracy: 0.0139\n",
      "Epoch 270/512\n",
      "47/47 [==============================] - 39s 836ms/step - loss: 0.0037 - accuracy: 0.9994 - val_loss: 19.6970 - val_accuracy: 0.0139\n",
      "Epoch 271/512\n",
      "47/47 [==============================] - 39s 836ms/step - loss: 0.0047 - accuracy: 0.9992 - val_loss: 19.7051 - val_accuracy: 0.0138\n",
      "Epoch 272/512\n",
      "47/47 [==============================] - 39s 835ms/step - loss: 0.0051 - accuracy: 0.9991 - val_loss: 19.7241 - val_accuracy: 0.0138\n",
      "Epoch 273/512\n",
      "47/47 [==============================] - 39s 835ms/step - loss: 0.0044 - accuracy: 0.9992 - val_loss: 19.6724 - val_accuracy: 0.0141\n",
      "Epoch 274/512\n",
      "47/47 [==============================] - 39s 836ms/step - loss: 0.0040 - accuracy: 0.9994 - val_loss: 19.6506 - val_accuracy: 0.0138\n",
      "Epoch 275/512\n",
      "47/47 [==============================] - 39s 836ms/step - loss: 0.0044 - accuracy: 0.9992 - val_loss: 19.6245 - val_accuracy: 0.0135\n",
      "Epoch 276/512\n",
      "47/47 [==============================] - 39s 835ms/step - loss: 0.0042 - accuracy: 0.9993 - val_loss: 19.6314 - val_accuracy: 0.0142\n",
      "Epoch 277/512\n",
      "47/47 [==============================] - 39s 836ms/step - loss: 0.0044 - accuracy: 0.9993 - val_loss: 19.5702 - val_accuracy: 0.0141\n",
      "Epoch 278/512\n",
      "47/47 [==============================] - 39s 838ms/step - loss: 0.0039 - accuracy: 0.9994 - val_loss: 19.5674 - val_accuracy: 0.0139\n",
      "Epoch 279/512\n",
      "47/47 [==============================] - 39s 834ms/step - loss: 0.0040 - accuracy: 0.9993 - val_loss: 19.4939 - val_accuracy: 0.0140\n",
      "Epoch 280/512\n",
      "47/47 [==============================] - 39s 835ms/step - loss: 0.0038 - accuracy: 0.9993 - val_loss: 19.5315 - val_accuracy: 0.0139\n",
      "Epoch 281/512\n",
      "47/47 [==============================] - 39s 835ms/step - loss: 0.0039 - accuracy: 0.9993 - val_loss: 19.5061 - val_accuracy: 0.0141\n"
     ]
    },
    {
     "name": "stdout",
     "output_type": "stream",
     "text": [
      "Epoch 282/512\n",
      "47/47 [==============================] - 39s 836ms/step - loss: 0.0040 - accuracy: 0.9993 - val_loss: 19.4632 - val_accuracy: 0.0142\n",
      "Epoch 283/512\n",
      "47/47 [==============================] - 39s 836ms/step - loss: 0.0041 - accuracy: 0.9993 - val_loss: 19.4633 - val_accuracy: 0.0140\n",
      "Epoch 284/512\n",
      "47/47 [==============================] - 39s 835ms/step - loss: 0.0040 - accuracy: 0.9993 - val_loss: 19.4475 - val_accuracy: 0.0139\n",
      "Epoch 285/512\n",
      "47/47 [==============================] - 39s 836ms/step - loss: 0.0035 - accuracy: 0.9993 - val_loss: 19.4128 - val_accuracy: 0.0137\n",
      "Epoch 286/512\n",
      "47/47 [==============================] - 39s 837ms/step - loss: 0.0036 - accuracy: 0.9994 - val_loss: 19.3482 - val_accuracy: 0.0136\n",
      "Epoch 287/512\n",
      "47/47 [==============================] - 39s 836ms/step - loss: 0.0041 - accuracy: 0.9992 - val_loss: 19.3681 - val_accuracy: 0.0138\n",
      "Epoch 288/512\n",
      "47/47 [==============================] - 39s 836ms/step - loss: 0.0037 - accuracy: 0.9994 - val_loss: 19.3285 - val_accuracy: 0.0136\n",
      "Epoch 289/512\n",
      "47/47 [==============================] - 40s 843ms/step - loss: 0.0039 - accuracy: 0.9993 - val_loss: 19.3297 - val_accuracy: 0.0137\n",
      "Epoch 290/512\n",
      "47/47 [==============================] - 40s 842ms/step - loss: 0.0042 - accuracy: 0.9993 - val_loss: 19.3153 - val_accuracy: 0.0137\n",
      "Epoch 291/512\n",
      "47/47 [==============================] - 39s 836ms/step - loss: 0.0043 - accuracy: 0.9993 - val_loss: 19.2987 - val_accuracy: 0.0139\n",
      "Epoch 292/512\n",
      "47/47 [==============================] - 40s 843ms/step - loss: 0.0041 - accuracy: 0.9993 - val_loss: 19.2823 - val_accuracy: 0.0135\n",
      "Epoch 293/512\n",
      "47/47 [==============================] - 39s 834ms/step - loss: 0.0035 - accuracy: 0.9994 - val_loss: 19.2831 - val_accuracy: 0.0136\n",
      "Epoch 294/512\n",
      "47/47 [==============================] - 39s 836ms/step - loss: 0.0038 - accuracy: 0.9993 - val_loss: 19.2677 - val_accuracy: 0.0137\n",
      "Epoch 295/512\n",
      "47/47 [==============================] - 39s 837ms/step - loss: 0.0040 - accuracy: 0.9993 - val_loss: 19.2295 - val_accuracy: 0.0139\n",
      "Epoch 296/512\n",
      "47/47 [==============================] - 39s 836ms/step - loss: 0.0038 - accuracy: 0.9993 - val_loss: 19.2388 - val_accuracy: 0.0138\n",
      "Epoch 297/512\n",
      "47/47 [==============================] - 39s 836ms/step - loss: 0.0039 - accuracy: 0.9993 - val_loss: 19.1875 - val_accuracy: 0.0134\n",
      "Epoch 298/512\n",
      "47/47 [==============================] - 39s 837ms/step - loss: 0.0040 - accuracy: 0.9994 - val_loss: 19.1953 - val_accuracy: 0.0136\n",
      "Epoch 299/512\n",
      "47/47 [==============================] - 39s 838ms/step - loss: 0.0043 - accuracy: 0.9993 - val_loss: 19.1737 - val_accuracy: 0.0138\n",
      "Epoch 300/512\n",
      "47/47 [==============================] - 39s 836ms/step - loss: 0.0043 - accuracy: 0.9992 - val_loss: 19.1182 - val_accuracy: 0.0138\n",
      "Epoch 301/512\n",
      "47/47 [==============================] - 39s 836ms/step - loss: 0.0047 - accuracy: 0.9992 - val_loss: 19.1367 - val_accuracy: 0.0135\n",
      "Epoch 302/512\n",
      "47/47 [==============================] - 39s 836ms/step - loss: 0.0043 - accuracy: 0.9992 - val_loss: 19.0894 - val_accuracy: 0.0136\n",
      "Epoch 303/512\n",
      "47/47 [==============================] - 39s 836ms/step - loss: 0.0042 - accuracy: 0.9993 - val_loss: 19.0710 - val_accuracy: 0.0138\n",
      "Epoch 304/512\n",
      "47/47 [==============================] - 39s 835ms/step - loss: 0.0040 - accuracy: 0.9993 - val_loss: 19.0774 - val_accuracy: 0.0139\n",
      "Epoch 305/512\n",
      "47/47 [==============================] - 39s 836ms/step - loss: 0.0039 - accuracy: 0.9992 - val_loss: 19.0874 - val_accuracy: 0.0138\n",
      "Epoch 306/512\n",
      "47/47 [==============================] - 39s 834ms/step - loss: 0.0042 - accuracy: 0.9992 - val_loss: 19.0338 - val_accuracy: 0.0137\n",
      "Epoch 307/512\n",
      "47/47 [==============================] - 39s 837ms/step - loss: 0.0037 - accuracy: 0.9994 - val_loss: 19.0084 - val_accuracy: 0.0138\n",
      "Epoch 308/512\n",
      "47/47 [==============================] - 39s 837ms/step - loss: 0.0039 - accuracy: 0.9993 - val_loss: 19.0297 - val_accuracy: 0.0137\n",
      "Epoch 309/512\n",
      "47/47 [==============================] - 39s 836ms/step - loss: 0.0036 - accuracy: 0.9993 - val_loss: 19.0494 - val_accuracy: 0.0138\n",
      "Epoch 310/512\n",
      "47/47 [==============================] - 39s 836ms/step - loss: 0.0041 - accuracy: 0.9993 - val_loss: 18.9621 - val_accuracy: 0.0139\n",
      "Epoch 311/512\n",
      "47/47 [==============================] - 39s 835ms/step - loss: 0.0037 - accuracy: 0.9994 - val_loss: 18.9848 - val_accuracy: 0.0135\n",
      "Epoch 312/512\n",
      "47/47 [==============================] - 39s 836ms/step - loss: 0.0040 - accuracy: 0.9992 - val_loss: 19.0076 - val_accuracy: 0.0138\n",
      "Epoch 313/512\n",
      "47/47 [==============================] - 39s 837ms/step - loss: 0.0035 - accuracy: 0.9993 - val_loss: 18.9652 - val_accuracy: 0.0137\n",
      "Epoch 314/512\n",
      "47/47 [==============================] - 39s 836ms/step - loss: 0.0038 - accuracy: 0.9994 - val_loss: 18.9532 - val_accuracy: 0.0137\n",
      "Epoch 315/512\n",
      "47/47 [==============================] - 39s 835ms/step - loss: 0.0040 - accuracy: 0.9993 - val_loss: 18.9388 - val_accuracy: 0.0137\n",
      "Epoch 316/512\n",
      "47/47 [==============================] - 39s 835ms/step - loss: 0.0034 - accuracy: 0.9994 - val_loss: 18.8813 - val_accuracy: 0.0140\n",
      "Epoch 317/512\n",
      "47/47 [==============================] - 39s 838ms/step - loss: 0.0037 - accuracy: 0.9993 - val_loss: 18.8661 - val_accuracy: 0.0138\n",
      "Epoch 318/512\n",
      "47/47 [==============================] - 39s 838ms/step - loss: 0.0037 - accuracy: 0.9993 - val_loss: 18.8401 - val_accuracy: 0.0136\n",
      "Epoch 319/512\n",
      "47/47 [==============================] - 39s 836ms/step - loss: 0.0039 - accuracy: 0.9993 - val_loss: 18.8725 - val_accuracy: 0.0139\n",
      "Epoch 320/512\n",
      "47/47 [==============================] - 39s 836ms/step - loss: 0.0036 - accuracy: 0.9993 - val_loss: 18.8182 - val_accuracy: 0.0138\n",
      "Epoch 321/512\n",
      "47/47 [==============================] - 39s 835ms/step - loss: 0.0036 - accuracy: 0.9994 - val_loss: 18.8239 - val_accuracy: 0.0137\n",
      "Epoch 322/512\n",
      "47/47 [==============================] - 39s 836ms/step - loss: 0.0039 - accuracy: 0.9993 - val_loss: 18.7972 - val_accuracy: 0.0137\n",
      "Epoch 323/512\n",
      "47/47 [==============================] - 39s 836ms/step - loss: 0.0038 - accuracy: 0.9993 - val_loss: 18.7702 - val_accuracy: 0.0138\n",
      "Epoch 324/512\n",
      "47/47 [==============================] - 39s 835ms/step - loss: 0.0033 - accuracy: 0.9994 - val_loss: 18.7760 - val_accuracy: 0.0137\n",
      "Epoch 325/512\n",
      "47/47 [==============================] - 39s 834ms/step - loss: 0.0039 - accuracy: 0.9993 - val_loss: 18.7468 - val_accuracy: 0.0137\n",
      "Epoch 326/512\n",
      "47/47 [==============================] - 39s 834ms/step - loss: 0.0041 - accuracy: 0.9993 - val_loss: 18.7340 - val_accuracy: 0.0136\n",
      "Epoch 327/512\n",
      "47/47 [==============================] - 39s 836ms/step - loss: 0.0036 - accuracy: 0.9993 - val_loss: 18.7476 - val_accuracy: 0.0137\n",
      "Epoch 328/512\n",
      "47/47 [==============================] - 39s 837ms/step - loss: 0.0034 - accuracy: 0.9994 - val_loss: 18.7454 - val_accuracy: 0.0141\n",
      "Epoch 329/512\n",
      "47/47 [==============================] - 39s 835ms/step - loss: 0.0033 - accuracy: 0.9994 - val_loss: 18.7196 - val_accuracy: 0.0134\n",
      "Epoch 330/512\n",
      "47/47 [==============================] - 39s 837ms/step - loss: 0.0037 - accuracy: 0.9993 - val_loss: 18.6914 - val_accuracy: 0.0138\n",
      "Epoch 331/512\n",
      "47/47 [==============================] - 39s 836ms/step - loss: 0.0035 - accuracy: 0.9994 - val_loss: 18.6863 - val_accuracy: 0.0137\n",
      "Epoch 332/512\n",
      "47/47 [==============================] - 39s 838ms/step - loss: 0.0037 - accuracy: 0.9993 - val_loss: 18.7041 - val_accuracy: 0.0139\n",
      "Epoch 333/512\n",
      "47/47 [==============================] - 39s 836ms/step - loss: 0.0037 - accuracy: 0.9993 - val_loss: 18.6904 - val_accuracy: 0.0140\n",
      "Epoch 334/512\n",
      "47/47 [==============================] - 39s 835ms/step - loss: 0.0037 - accuracy: 0.9993 - val_loss: 18.6463 - val_accuracy: 0.0139\n",
      "Epoch 335/512\n",
      "47/47 [==============================] - 39s 836ms/step - loss: 0.0033 - accuracy: 0.9994 - val_loss: 18.6509 - val_accuracy: 0.0140\n",
      "Epoch 336/512\n",
      "47/47 [==============================] - 39s 835ms/step - loss: 0.0034 - accuracy: 0.9994 - val_loss: 18.6382 - val_accuracy: 0.0139\n",
      "Epoch 337/512\n",
      "47/47 [==============================] - 40s 842ms/step - loss: 0.0037 - accuracy: 0.9993 - val_loss: 18.6050 - val_accuracy: 0.0138\n"
     ]
    },
    {
     "name": "stdout",
     "output_type": "stream",
     "text": [
      "Epoch 338/512\n",
      "47/47 [==============================] - 40s 843ms/step - loss: 0.0037 - accuracy: 0.9994 - val_loss: 18.5554 - val_accuracy: 0.0137\n",
      "Epoch 339/512\n",
      "47/47 [==============================] - 39s 837ms/step - loss: 0.0035 - accuracy: 0.9994 - val_loss: 18.5463 - val_accuracy: 0.0135\n",
      "Epoch 340/512\n",
      "47/47 [==============================] - 39s 835ms/step - loss: 0.0038 - accuracy: 0.9993 - val_loss: 18.5085 - val_accuracy: 0.0141\n",
      "Epoch 341/512\n",
      "47/47 [==============================] - 39s 837ms/step - loss: 0.0036 - accuracy: 0.9994 - val_loss: 18.5267 - val_accuracy: 0.0135\n",
      "Epoch 342/512\n",
      "47/47 [==============================] - 39s 836ms/step - loss: 0.0037 - accuracy: 0.9993 - val_loss: 18.5000 - val_accuracy: 0.0138\n",
      "Epoch 343/512\n",
      "47/47 [==============================] - 39s 835ms/step - loss: 0.0033 - accuracy: 0.9994 - val_loss: 18.4972 - val_accuracy: 0.0138\n",
      "Epoch 344/512\n",
      "47/47 [==============================] - 39s 835ms/step - loss: 0.0034 - accuracy: 0.9994 - val_loss: 18.5001 - val_accuracy: 0.0138\n",
      "Epoch 345/512\n",
      "47/47 [==============================] - 39s 836ms/step - loss: 0.0036 - accuracy: 0.9993 - val_loss: 18.4819 - val_accuracy: 0.0140\n",
      "Epoch 346/512\n",
      "47/47 [==============================] - 39s 836ms/step - loss: 0.0043 - accuracy: 0.9992 - val_loss: 18.4994 - val_accuracy: 0.0136\n",
      "Epoch 347/512\n",
      "47/47 [==============================] - 39s 835ms/step - loss: 0.0036 - accuracy: 0.9993 - val_loss: 18.4594 - val_accuracy: 0.0138\n",
      "Epoch 348/512\n",
      "47/47 [==============================] - 39s 837ms/step - loss: 0.0042 - accuracy: 0.9993 - val_loss: 18.4254 - val_accuracy: 0.0140\n",
      "Epoch 349/512\n",
      "47/47 [==============================] - 39s 836ms/step - loss: 0.0038 - accuracy: 0.9994 - val_loss: 18.4283 - val_accuracy: 0.0133\n",
      "Epoch 350/512\n",
      "47/47 [==============================] - 39s 836ms/step - loss: 0.0039 - accuracy: 0.9993 - val_loss: 18.4234 - val_accuracy: 0.0137\n",
      "Epoch 351/512\n",
      "47/47 [==============================] - 39s 835ms/step - loss: 0.0033 - accuracy: 0.9994 - val_loss: 18.4594 - val_accuracy: 0.0139\n",
      "Epoch 352/512\n",
      "47/47 [==============================] - 39s 835ms/step - loss: 0.0034 - accuracy: 0.9994 - val_loss: 18.4497 - val_accuracy: 0.0140\n",
      "Epoch 353/512\n",
      "47/47 [==============================] - 39s 837ms/step - loss: 0.0032 - accuracy: 0.9994 - val_loss: 18.4606 - val_accuracy: 0.0136\n",
      "Epoch 354/512\n",
      "47/47 [==============================] - 39s 837ms/step - loss: 0.0034 - accuracy: 0.9994 - val_loss: 18.4554 - val_accuracy: 0.0137\n",
      "Epoch 355/512\n",
      "47/47 [==============================] - 39s 837ms/step - loss: 0.0036 - accuracy: 0.9993 - val_loss: 18.4253 - val_accuracy: 0.0142\n",
      "Epoch 356/512\n",
      "47/47 [==============================] - 39s 837ms/step - loss: 0.0032 - accuracy: 0.9994 - val_loss: 18.4062 - val_accuracy: 0.0140\n",
      "Epoch 357/512\n",
      "47/47 [==============================] - 39s 838ms/step - loss: 0.0037 - accuracy: 0.9993 - val_loss: 18.4116 - val_accuracy: 0.0141\n",
      "Epoch 358/512\n",
      "47/47 [==============================] - 39s 837ms/step - loss: 0.0035 - accuracy: 0.9993 - val_loss: 18.4161 - val_accuracy: 0.0139\n",
      "Epoch 359/512\n",
      "47/47 [==============================] - 39s 835ms/step - loss: 0.0034 - accuracy: 0.9994 - val_loss: 18.3860 - val_accuracy: 0.0140\n",
      "Epoch 360/512\n",
      "47/47 [==============================] - 39s 836ms/step - loss: 0.0037 - accuracy: 0.9994 - val_loss: 18.3918 - val_accuracy: 0.0140\n",
      "Epoch 361/512\n",
      "47/47 [==============================] - 39s 835ms/step - loss: 0.0035 - accuracy: 0.9994 - val_loss: 18.3593 - val_accuracy: 0.0140\n",
      "Epoch 362/512\n",
      "47/47 [==============================] - 39s 835ms/step - loss: 0.0035 - accuracy: 0.9994 - val_loss: 18.3608 - val_accuracy: 0.0144\n",
      "Epoch 363/512\n",
      "47/47 [==============================] - 39s 835ms/step - loss: 0.0035 - accuracy: 0.9994 - val_loss: 18.3691 - val_accuracy: 0.0141\n",
      "Epoch 364/512\n",
      "47/47 [==============================] - 39s 835ms/step - loss: 0.0035 - accuracy: 0.9993 - val_loss: 18.3568 - val_accuracy: 0.0143\n",
      "Epoch 365/512\n",
      "47/47 [==============================] - 39s 838ms/step - loss: 0.0037 - accuracy: 0.9993 - val_loss: 18.3399 - val_accuracy: 0.0141\n",
      "Epoch 366/512\n",
      "47/47 [==============================] - 39s 836ms/step - loss: 0.0039 - accuracy: 0.9993 - val_loss: 18.3258 - val_accuracy: 0.0137\n",
      "Epoch 367/512\n",
      "47/47 [==============================] - 39s 836ms/step - loss: 0.0035 - accuracy: 0.9993 - val_loss: 18.3110 - val_accuracy: 0.0139\n",
      "Epoch 368/512\n",
      "47/47 [==============================] - 39s 836ms/step - loss: 0.0033 - accuracy: 0.9994 - val_loss: 18.2990 - val_accuracy: 0.0142\n",
      "Epoch 369/512\n",
      "47/47 [==============================] - 39s 836ms/step - loss: 0.0035 - accuracy: 0.9994 - val_loss: 18.2761 - val_accuracy: 0.0139\n",
      "Epoch 370/512\n",
      "47/47 [==============================] - 39s 836ms/step - loss: 0.0037 - accuracy: 0.9993 - val_loss: 18.3064 - val_accuracy: 0.0141\n",
      "Epoch 371/512\n",
      "47/47 [==============================] - 39s 836ms/step - loss: 0.0033 - accuracy: 0.9994 - val_loss: 18.2694 - val_accuracy: 0.0143\n",
      "Epoch 372/512\n",
      "47/47 [==============================] - 39s 837ms/step - loss: 0.0037 - accuracy: 0.9993 - val_loss: 18.2811 - val_accuracy: 0.0139\n",
      "Epoch 373/512\n",
      "47/47 [==============================] - 39s 837ms/step - loss: 0.0033 - accuracy: 0.9994 - val_loss: 18.2453 - val_accuracy: 0.0140\n",
      "Epoch 374/512\n",
      "47/47 [==============================] - 39s 837ms/step - loss: 0.0032 - accuracy: 0.9994 - val_loss: 18.2386 - val_accuracy: 0.0139\n",
      "Epoch 375/512\n",
      "47/47 [==============================] - 39s 836ms/step - loss: 0.0036 - accuracy: 0.9993 - val_loss: 18.2207 - val_accuracy: 0.0138\n",
      "Epoch 376/512\n",
      "47/47 [==============================] - 39s 835ms/step - loss: 0.0034 - accuracy: 0.9993 - val_loss: 18.2476 - val_accuracy: 0.0139\n",
      "Epoch 377/512\n",
      "47/47 [==============================] - 39s 837ms/step - loss: 0.0037 - accuracy: 0.9993 - val_loss: 18.2196 - val_accuracy: 0.0139\n",
      "Epoch 378/512\n",
      "47/47 [==============================] - 39s 837ms/step - loss: 0.0037 - accuracy: 0.9993 - val_loss: 18.2203 - val_accuracy: 0.0141\n",
      "Epoch 379/512\n",
      "47/47 [==============================] - 39s 836ms/step - loss: 0.0033 - accuracy: 0.9994 - val_loss: 18.2639 - val_accuracy: 0.0139\n",
      "Epoch 380/512\n",
      "47/47 [==============================] - 39s 836ms/step - loss: 0.0037 - accuracy: 0.9993 - val_loss: 18.1687 - val_accuracy: 0.0139\n",
      "Epoch 381/512\n",
      "47/47 [==============================] - 39s 837ms/step - loss: 0.0034 - accuracy: 0.9994 - val_loss: 18.2141 - val_accuracy: 0.0135\n",
      "Epoch 382/512\n",
      "47/47 [==============================] - 39s 837ms/step - loss: 0.0030 - accuracy: 0.9994 - val_loss: 18.1568 - val_accuracy: 0.0136\n",
      "Epoch 383/512\n",
      "47/47 [==============================] - 39s 837ms/step - loss: 0.0041 - accuracy: 0.9992 - val_loss: 18.1549 - val_accuracy: 0.0143\n",
      "Epoch 384/512\n",
      "47/47 [==============================] - 39s 837ms/step - loss: 0.0037 - accuracy: 0.9993 - val_loss: 18.1491 - val_accuracy: 0.0140\n",
      "Epoch 385/512\n",
      "47/47 [==============================] - 40s 844ms/step - loss: 0.0035 - accuracy: 0.9994 - val_loss: 18.1722 - val_accuracy: 0.0135\n",
      "Epoch 386/512\n",
      "47/47 [==============================] - 40s 844ms/step - loss: 0.0037 - accuracy: 0.9993 - val_loss: 18.1385 - val_accuracy: 0.0138\n",
      "Epoch 387/512\n",
      "47/47 [==============================] - 39s 838ms/step - loss: 0.0043 - accuracy: 0.9992 - val_loss: 18.1545 - val_accuracy: 0.0138\n",
      "Epoch 388/512\n",
      "47/47 [==============================] - 39s 837ms/step - loss: 0.0031 - accuracy: 0.9994 - val_loss: 18.0937 - val_accuracy: 0.0139\n",
      "Epoch 389/512\n",
      "47/47 [==============================] - 39s 837ms/step - loss: 0.0035 - accuracy: 0.9993 - val_loss: 18.1459 - val_accuracy: 0.0140\n",
      "Epoch 390/512\n",
      "47/47 [==============================] - 39s 837ms/step - loss: 0.0036 - accuracy: 0.9993 - val_loss: 18.1297 - val_accuracy: 0.0139\n",
      "Epoch 391/512\n",
      "47/47 [==============================] - 39s 837ms/step - loss: 0.0034 - accuracy: 0.9993 - val_loss: 18.0968 - val_accuracy: 0.0138\n",
      "Epoch 392/512\n",
      "47/47 [==============================] - 39s 837ms/step - loss: 0.0038 - accuracy: 0.9992 - val_loss: 18.1462 - val_accuracy: 0.0138\n",
      "Epoch 393/512\n",
      "47/47 [==============================] - 39s 837ms/step - loss: 0.0033 - accuracy: 0.9994 - val_loss: 18.1297 - val_accuracy: 0.0138\n"
     ]
    },
    {
     "name": "stdout",
     "output_type": "stream",
     "text": [
      "Epoch 394/512\n",
      "47/47 [==============================] - 39s 835ms/step - loss: 0.0037 - accuracy: 0.9993 - val_loss: 18.1188 - val_accuracy: 0.0138\n",
      "Epoch 395/512\n",
      "47/47 [==============================] - 39s 839ms/step - loss: 0.0040 - accuracy: 0.9993 - val_loss: 18.1118 - val_accuracy: 0.0137\n",
      "Epoch 396/512\n",
      "47/47 [==============================] - 39s 838ms/step - loss: 0.0038 - accuracy: 0.9992 - val_loss: 18.0927 - val_accuracy: 0.0138\n",
      "Epoch 397/512\n",
      "47/47 [==============================] - 39s 838ms/step - loss: 0.0033 - accuracy: 0.9994 - val_loss: 18.0693 - val_accuracy: 0.0139\n",
      "Epoch 398/512\n",
      "47/47 [==============================] - 39s 837ms/step - loss: 0.0032 - accuracy: 0.9994 - val_loss: 18.0660 - val_accuracy: 0.0138\n",
      "Epoch 399/512\n",
      "47/47 [==============================] - 39s 836ms/step - loss: 0.0035 - accuracy: 0.9993 - val_loss: 18.0913 - val_accuracy: 0.0138\n",
      "Epoch 400/512\n",
      "47/47 [==============================] - 39s 836ms/step - loss: 0.0033 - accuracy: 0.9994 - val_loss: 18.0654 - val_accuracy: 0.0137\n",
      "Epoch 401/512\n",
      "47/47 [==============================] - 39s 833ms/step - loss: 0.0032 - accuracy: 0.9994 - val_loss: 18.0677 - val_accuracy: 0.0140\n",
      "Epoch 402/512\n",
      "47/47 [==============================] - 39s 836ms/step - loss: 0.0037 - accuracy: 0.9993 - val_loss: 18.0536 - val_accuracy: 0.0137\n",
      "Epoch 403/512\n",
      "47/47 [==============================] - 39s 835ms/step - loss: 0.0033 - accuracy: 0.9994 - val_loss: 18.0534 - val_accuracy: 0.0136\n",
      "Epoch 404/512\n",
      "47/47 [==============================] - 39s 834ms/step - loss: 0.0034 - accuracy: 0.9994 - val_loss: 18.0432 - val_accuracy: 0.0138\n",
      "Epoch 405/512\n",
      "47/47 [==============================] - 39s 835ms/step - loss: 0.0033 - accuracy: 0.9994 - val_loss: 18.0318 - val_accuracy: 0.0141\n",
      "Epoch 406/512\n",
      "47/47 [==============================] - 39s 836ms/step - loss: 0.0032 - accuracy: 0.9994 - val_loss: 18.0399 - val_accuracy: 0.0139\n",
      "Epoch 407/512\n",
      "47/47 [==============================] - 39s 835ms/step - loss: 0.0033 - accuracy: 0.9993 - val_loss: 18.0526 - val_accuracy: 0.0137\n",
      "Epoch 408/512\n",
      "47/47 [==============================] - 39s 835ms/step - loss: 0.0037 - accuracy: 0.9994 - val_loss: 18.0472 - val_accuracy: 0.0136\n",
      "Epoch 409/512\n",
      "47/47 [==============================] - 39s 835ms/step - loss: 0.0033 - accuracy: 0.9994 - val_loss: 18.0205 - val_accuracy: 0.0137\n",
      "Epoch 410/512\n",
      "47/47 [==============================] - 39s 835ms/step - loss: 0.0034 - accuracy: 0.9993 - val_loss: 17.9825 - val_accuracy: 0.0136\n",
      "Epoch 411/512\n",
      "47/47 [==============================] - 39s 834ms/step - loss: 0.0032 - accuracy: 0.9993 - val_loss: 18.0388 - val_accuracy: 0.0139\n",
      "Epoch 412/512\n",
      "47/47 [==============================] - 39s 836ms/step - loss: 0.0036 - accuracy: 0.9993 - val_loss: 18.0212 - val_accuracy: 0.0134\n",
      "Epoch 413/512\n",
      "47/47 [==============================] - 39s 836ms/step - loss: 0.0031 - accuracy: 0.9994 - val_loss: 17.9778 - val_accuracy: 0.0140\n",
      "Epoch 414/512\n",
      "47/47 [==============================] - 39s 836ms/step - loss: 0.0034 - accuracy: 0.9993 - val_loss: 17.9768 - val_accuracy: 0.0138\n",
      "Epoch 415/512\n",
      "47/47 [==============================] - 39s 835ms/step - loss: 0.0035 - accuracy: 0.9993 - val_loss: 17.9779 - val_accuracy: 0.0137\n",
      "Epoch 416/512\n",
      "47/47 [==============================] - 39s 837ms/step - loss: 0.0033 - accuracy: 0.9994 - val_loss: 17.9873 - val_accuracy: 0.0140\n",
      "Epoch 417/512\n",
      "47/47 [==============================] - 39s 838ms/step - loss: 0.0034 - accuracy: 0.9993 - val_loss: 17.9754 - val_accuracy: 0.0140\n",
      "Epoch 418/512\n",
      "47/47 [==============================] - 39s 838ms/step - loss: 0.0038 - accuracy: 0.9993 - val_loss: 17.9494 - val_accuracy: 0.0137\n",
      "Epoch 419/512\n",
      "47/47 [==============================] - 39s 838ms/step - loss: 0.0034 - accuracy: 0.9993 - val_loss: 17.9768 - val_accuracy: 0.0142\n",
      "Epoch 420/512\n",
      "47/47 [==============================] - 39s 837ms/step - loss: 0.0032 - accuracy: 0.9993 - val_loss: 17.9515 - val_accuracy: 0.0139\n",
      "Epoch 421/512\n",
      "47/47 [==============================] - 39s 837ms/step - loss: 0.0033 - accuracy: 0.9994 - val_loss: 17.8636 - val_accuracy: 0.0138\n",
      "Epoch 422/512\n",
      "47/47 [==============================] - 39s 835ms/step - loss: 0.0037 - accuracy: 0.9993 - val_loss: 17.9127 - val_accuracy: 0.0136\n",
      "Epoch 423/512\n",
      "47/47 [==============================] - 39s 836ms/step - loss: 0.0032 - accuracy: 0.9993 - val_loss: 17.9257 - val_accuracy: 0.0136\n",
      "Epoch 424/512\n",
      "47/47 [==============================] - 39s 835ms/step - loss: 0.0030 - accuracy: 0.9994 - val_loss: 17.9248 - val_accuracy: 0.0142\n",
      "Epoch 425/512\n",
      "47/47 [==============================] - 39s 836ms/step - loss: 0.0034 - accuracy: 0.9994 - val_loss: 17.8884 - val_accuracy: 0.0138\n",
      "Epoch 426/512\n",
      "47/47 [==============================] - 39s 836ms/step - loss: 0.0032 - accuracy: 0.9994 - val_loss: 17.8988 - val_accuracy: 0.0134\n",
      "Epoch 427/512\n",
      "47/47 [==============================] - 39s 837ms/step - loss: 0.0035 - accuracy: 0.9993 - val_loss: 17.8826 - val_accuracy: 0.0137\n",
      "Epoch 428/512\n",
      "47/47 [==============================] - 39s 839ms/step - loss: 0.0032 - accuracy: 0.9994 - val_loss: 17.8489 - val_accuracy: 0.0138\n",
      "Epoch 429/512\n",
      "47/47 [==============================] - 39s 836ms/step - loss: 0.0030 - accuracy: 0.9994 - val_loss: 17.8691 - val_accuracy: 0.0137\n",
      "Epoch 430/512\n",
      "47/47 [==============================] - 39s 838ms/step - loss: 0.0034 - accuracy: 0.9993 - val_loss: 17.8419 - val_accuracy: 0.0138\n",
      "Epoch 431/512\n",
      "47/47 [==============================] - 39s 836ms/step - loss: 0.0034 - accuracy: 0.9994 - val_loss: 17.8331 - val_accuracy: 0.0134\n",
      "Epoch 432/512\n",
      "47/47 [==============================] - 39s 837ms/step - loss: 0.0033 - accuracy: 0.9994 - val_loss: 17.7968 - val_accuracy: 0.0137\n",
      "Epoch 433/512\n",
      "47/47 [==============================] - 40s 844ms/step - loss: 0.0029 - accuracy: 0.9994 - val_loss: 17.8167 - val_accuracy: 0.0137\n",
      "Epoch 434/512\n",
      "47/47 [==============================] - 40s 844ms/step - loss: 0.0034 - accuracy: 0.9993 - val_loss: 17.7944 - val_accuracy: 0.0136\n",
      "Epoch 435/512\n",
      "47/47 [==============================] - 39s 837ms/step - loss: 0.0036 - accuracy: 0.9994 - val_loss: 17.7992 - val_accuracy: 0.0140\n",
      "Epoch 436/512\n",
      "47/47 [==============================] - 39s 838ms/step - loss: 0.0036 - accuracy: 0.9993 - val_loss: 17.8109 - val_accuracy: 0.0137\n",
      "Epoch 437/512\n",
      "47/47 [==============================] - 39s 837ms/step - loss: 0.0033 - accuracy: 0.9994 - val_loss: 17.8110 - val_accuracy: 0.0136\n",
      "Epoch 438/512\n",
      "47/47 [==============================] - 39s 836ms/step - loss: 0.0031 - accuracy: 0.9994 - val_loss: 17.7907 - val_accuracy: 0.0138\n",
      "Epoch 439/512\n",
      "47/47 [==============================] - 39s 838ms/step - loss: 0.0033 - accuracy: 0.9993 - val_loss: 17.7592 - val_accuracy: 0.0138\n",
      "Epoch 440/512\n",
      "47/47 [==============================] - 39s 837ms/step - loss: 0.0029 - accuracy: 0.9995 - val_loss: 17.7556 - val_accuracy: 0.0136\n",
      "Epoch 441/512\n",
      "47/47 [==============================] - 39s 837ms/step - loss: 0.0031 - accuracy: 0.9993 - val_loss: 17.7800 - val_accuracy: 0.0138\n",
      "Epoch 442/512\n",
      "47/47 [==============================] - 39s 837ms/step - loss: 0.0033 - accuracy: 0.9994 - val_loss: 17.7363 - val_accuracy: 0.0138\n",
      "Epoch 443/512\n",
      "47/47 [==============================] - 39s 838ms/step - loss: 0.0039 - accuracy: 0.9992 - val_loss: 17.7555 - val_accuracy: 0.0137\n",
      "Epoch 444/512\n",
      "47/47 [==============================] - 39s 839ms/step - loss: 0.0039 - accuracy: 0.9992 - val_loss: 17.7547 - val_accuracy: 0.0139\n",
      "Epoch 445/512\n",
      "47/47 [==============================] - 39s 837ms/step - loss: 0.0036 - accuracy: 0.9993 - val_loss: 17.7292 - val_accuracy: 0.0135\n",
      "Epoch 446/512\n",
      "47/47 [==============================] - 39s 837ms/step - loss: 0.0036 - accuracy: 0.9993 - val_loss: 17.7184 - val_accuracy: 0.0137\n",
      "Epoch 447/512\n",
      "47/47 [==============================] - 39s 836ms/step - loss: 0.0029 - accuracy: 0.9995 - val_loss: 17.7269 - val_accuracy: 0.0137\n",
      "Epoch 448/512\n",
      "47/47 [==============================] - 39s 835ms/step - loss: 0.0030 - accuracy: 0.9994 - val_loss: 17.7057 - val_accuracy: 0.0139\n",
      "Epoch 449/512\n",
      "47/47 [==============================] - 39s 837ms/step - loss: 0.0031 - accuracy: 0.9994 - val_loss: 17.7314 - val_accuracy: 0.0135\n"
     ]
    },
    {
     "name": "stdout",
     "output_type": "stream",
     "text": [
      "Epoch 450/512\n",
      "47/47 [==============================] - 39s 837ms/step - loss: 0.0031 - accuracy: 0.9994 - val_loss: 17.7354 - val_accuracy: 0.0135\n",
      "Epoch 451/512\n",
      "47/47 [==============================] - 39s 836ms/step - loss: 0.0029 - accuracy: 0.9994 - val_loss: 17.6743 - val_accuracy: 0.0138\n",
      "Epoch 452/512\n",
      "47/47 [==============================] - 39s 837ms/step - loss: 0.0035 - accuracy: 0.9994 - val_loss: 17.6750 - val_accuracy: 0.0139\n",
      "Epoch 453/512\n",
      "47/47 [==============================] - 39s 835ms/step - loss: 0.0031 - accuracy: 0.9994 - val_loss: 17.6684 - val_accuracy: 0.0139\n",
      "Epoch 454/512\n",
      "47/47 [==============================] - 39s 836ms/step - loss: 0.0032 - accuracy: 0.9994 - val_loss: 17.6559 - val_accuracy: 0.0138\n",
      "Epoch 455/512\n",
      "47/47 [==============================] - 39s 836ms/step - loss: 0.0033 - accuracy: 0.9994 - val_loss: 17.6260 - val_accuracy: 0.0139\n",
      "Epoch 456/512\n",
      "47/47 [==============================] - 39s 837ms/step - loss: 0.0031 - accuracy: 0.9994 - val_loss: 17.6715 - val_accuracy: 0.0136\n",
      "Epoch 457/512\n",
      "47/47 [==============================] - 39s 835ms/step - loss: 0.0035 - accuracy: 0.9993 - val_loss: 17.6191 - val_accuracy: 0.0136\n",
      "Epoch 458/512\n",
      "47/47 [==============================] - 39s 835ms/step - loss: 0.0034 - accuracy: 0.9993 - val_loss: 17.6291 - val_accuracy: 0.0141\n",
      "Epoch 459/512\n",
      "47/47 [==============================] - 39s 836ms/step - loss: 0.0033 - accuracy: 0.9993 - val_loss: 17.6320 - val_accuracy: 0.0139\n",
      "Epoch 460/512\n",
      "47/47 [==============================] - 39s 836ms/step - loss: 0.0033 - accuracy: 0.9994 - val_loss: 17.5994 - val_accuracy: 0.0136\n",
      "Epoch 461/512\n",
      "47/47 [==============================] - 39s 836ms/step - loss: 0.0030 - accuracy: 0.9994 - val_loss: 17.6457 - val_accuracy: 0.0136\n",
      "Epoch 462/512\n",
      "47/47 [==============================] - 40s 841ms/step - loss: 0.0033 - accuracy: 0.9994 - val_loss: 17.5900 - val_accuracy: 0.0137\n",
      "Epoch 463/512\n",
      "47/47 [==============================] - 39s 839ms/step - loss: 0.0029 - accuracy: 0.9994 - val_loss: 17.6278 - val_accuracy: 0.0135\n",
      "Epoch 464/512\n",
      "47/47 [==============================] - 39s 840ms/step - loss: 0.0032 - accuracy: 0.9994 - val_loss: 17.6183 - val_accuracy: 0.0135\n",
      "Epoch 465/512\n",
      "47/47 [==============================] - 39s 839ms/step - loss: 0.0036 - accuracy: 0.9994 - val_loss: 17.5997 - val_accuracy: 0.0138\n",
      "Epoch 466/512\n",
      "47/47 [==============================] - 40s 841ms/step - loss: 0.0033 - accuracy: 0.9994 - val_loss: 17.5762 - val_accuracy: 0.0139\n",
      "Epoch 467/512\n",
      "47/47 [==============================] - 40s 845ms/step - loss: 0.0033 - accuracy: 0.9994 - val_loss: 17.5716 - val_accuracy: 0.0139\n",
      "Epoch 468/512\n",
      "47/47 [==============================] - 40s 853ms/step - loss: 0.0032 - accuracy: 0.9993 - val_loss: 17.5678 - val_accuracy: 0.0136\n",
      "Epoch 469/512\n",
      "47/47 [==============================] - 40s 852ms/step - loss: 0.0034 - accuracy: 0.9993 - val_loss: 17.5344 - val_accuracy: 0.0137\n",
      "Epoch 470/512\n",
      "47/47 [==============================] - 40s 852ms/step - loss: 0.0032 - accuracy: 0.9994 - val_loss: 17.5361 - val_accuracy: 0.0138\n",
      "Epoch 471/512\n",
      "47/47 [==============================] - 40s 846ms/step - loss: 0.0032 - accuracy: 0.9994 - val_loss: 17.5692 - val_accuracy: 0.0131\n",
      "Epoch 472/512\n",
      "47/47 [==============================] - 40s 853ms/step - loss: 0.0031 - accuracy: 0.9994 - val_loss: 17.5233 - val_accuracy: 0.0134\n",
      "Epoch 473/512\n",
      "47/47 [==============================] - 40s 849ms/step - loss: 0.0031 - accuracy: 0.9994 - val_loss: 17.4906 - val_accuracy: 0.0134\n",
      "Epoch 474/512\n",
      "47/47 [==============================] - 41s 865ms/step - loss: 0.0033 - accuracy: 0.9993 - val_loss: 17.5280 - val_accuracy: 0.0130\n",
      "Epoch 475/512\n",
      "47/47 [==============================] - 40s 845ms/step - loss: 0.0030 - accuracy: 0.9994 - val_loss: 17.4831 - val_accuracy: 0.0125\n",
      "Epoch 476/512\n",
      "47/47 [==============================] - 40s 856ms/step - loss: 0.0030 - accuracy: 0.9994 - val_loss: 17.5244 - val_accuracy: 0.0130\n",
      "Epoch 477/512\n",
      "47/47 [==============================] - 40s 850ms/step - loss: 0.0031 - accuracy: 0.9993 - val_loss: 17.4553 - val_accuracy: 0.0132\n",
      "Epoch 478/512\n",
      "47/47 [==============================] - 41s 865ms/step - loss: 0.0032 - accuracy: 0.9993 - val_loss: 17.4517 - val_accuracy: 0.0125\n",
      "Epoch 479/512\n",
      "47/47 [==============================] - 40s 847ms/step - loss: 0.0033 - accuracy: 0.9993 - val_loss: 17.4106 - val_accuracy: 0.0127\n",
      "Epoch 480/512\n",
      "47/47 [==============================] - 40s 854ms/step - loss: 0.0031 - accuracy: 0.9994 - val_loss: 17.4098 - val_accuracy: 0.0123\n",
      "Epoch 481/512\n",
      "47/47 [==============================] - 40s 854ms/step - loss: 0.0030 - accuracy: 0.9993 - val_loss: 17.3873 - val_accuracy: 0.0123\n",
      "Epoch 482/512\n",
      "47/47 [==============================] - 40s 850ms/step - loss: 0.0033 - accuracy: 0.9993 - val_loss: 17.3840 - val_accuracy: 0.0126\n",
      "Epoch 483/512\n",
      "47/47 [==============================] - 40s 852ms/step - loss: 0.0034 - accuracy: 0.9993 - val_loss: 17.4217 - val_accuracy: 0.0123\n",
      "Epoch 484/512\n",
      "47/47 [==============================] - 40s 849ms/step - loss: 0.0032 - accuracy: 0.9993 - val_loss: 17.4492 - val_accuracy: 0.0126\n",
      "Epoch 485/512\n",
      "47/47 [==============================] - 40s 841ms/step - loss: 0.0033 - accuracy: 0.9993 - val_loss: 17.4343 - val_accuracy: 0.0125\n",
      "Epoch 486/512\n",
      "47/47 [==============================] - 40s 843ms/step - loss: 0.0033 - accuracy: 0.9994 - val_loss: 17.4351 - val_accuracy: 0.0123\n",
      "Epoch 487/512\n",
      "47/47 [==============================] - 40s 842ms/step - loss: 0.0031 - accuracy: 0.9994 - val_loss: 17.4116 - val_accuracy: 0.0128\n",
      "Epoch 488/512\n",
      "47/47 [==============================] - 40s 843ms/step - loss: 0.0035 - accuracy: 0.9993 - val_loss: 17.3920 - val_accuracy: 0.0126\n",
      "Epoch 489/512\n",
      "47/47 [==============================] - 40s 842ms/step - loss: 0.0032 - accuracy: 0.9993 - val_loss: 17.4037 - val_accuracy: 0.0128\n",
      "Epoch 490/512\n",
      "47/47 [==============================] - 39s 840ms/step - loss: 0.0035 - accuracy: 0.9993 - val_loss: 17.3986 - val_accuracy: 0.0120\n",
      "Epoch 491/512\n",
      "47/47 [==============================] - 40s 843ms/step - loss: 0.0035 - accuracy: 0.9993 - val_loss: 17.4468 - val_accuracy: 0.0126\n",
      "Epoch 492/512\n",
      "47/47 [==============================] - 40s 849ms/step - loss: 0.0031 - accuracy: 0.9995 - val_loss: 17.3915 - val_accuracy: 0.0121\n",
      "Epoch 493/512\n",
      "47/47 [==============================] - 40s 861ms/step - loss: 0.0028 - accuracy: 0.9995 - val_loss: 17.4136 - val_accuracy: 0.0127\n",
      "Epoch 494/512\n",
      "47/47 [==============================] - 40s 845ms/step - loss: 0.0032 - accuracy: 0.9994 - val_loss: 17.4053 - val_accuracy: 0.0124\n",
      "Epoch 495/512\n",
      "47/47 [==============================] - 40s 847ms/step - loss: 0.0032 - accuracy: 0.9994 - val_loss: 17.4055 - val_accuracy: 0.0124\n",
      "Epoch 496/512\n",
      "47/47 [==============================] - 41s 866ms/step - loss: 0.0029 - accuracy: 0.9994 - val_loss: 17.4311 - val_accuracy: 0.0126\n",
      "Epoch 497/512\n",
      "47/47 [==============================] - 41s 869ms/step - loss: 0.0032 - accuracy: 0.9994 - val_loss: 17.4048 - val_accuracy: 0.0127\n",
      "Epoch 498/512\n",
      "47/47 [==============================] - 40s 847ms/step - loss: 0.0032 - accuracy: 0.9993 - val_loss: 17.4056 - val_accuracy: 0.0124\n",
      "Epoch 499/512\n",
      "47/47 [==============================] - 41s 873ms/step - loss: 0.0031 - accuracy: 0.9994 - val_loss: 17.4179 - val_accuracy: 0.0124\n",
      "Epoch 500/512\n",
      "47/47 [==============================] - 40s 849ms/step - loss: 0.0032 - accuracy: 0.9994 - val_loss: 17.3703 - val_accuracy: 0.0126\n",
      "Epoch 501/512\n",
      "47/47 [==============================] - 40s 854ms/step - loss: 0.0035 - accuracy: 0.9993 - val_loss: 17.3923 - val_accuracy: 0.0128\n",
      "Epoch 502/512\n",
      "47/47 [==============================] - 40s 850ms/step - loss: 0.0029 - accuracy: 0.9994 - val_loss: 17.4065 - val_accuracy: 0.0127\n",
      "Epoch 503/512\n",
      "47/47 [==============================] - 40s 854ms/step - loss: 0.0030 - accuracy: 0.9995 - val_loss: 17.3688 - val_accuracy: 0.0132\n",
      "Epoch 504/512\n",
      "47/47 [==============================] - 40s 848ms/step - loss: 0.0031 - accuracy: 0.9994 - val_loss: 17.3817 - val_accuracy: 0.0129\n",
      "Epoch 505/512\n",
      "47/47 [==============================] - 40s 853ms/step - loss: 0.0031 - accuracy: 0.9994 - val_loss: 17.3658 - val_accuracy: 0.0126\n"
     ]
    },
    {
     "name": "stdout",
     "output_type": "stream",
     "text": [
      "Epoch 506/512\n",
      "47/47 [==============================] - 40s 848ms/step - loss: 0.0036 - accuracy: 0.9994 - val_loss: 17.3390 - val_accuracy: 0.0130\n",
      "Epoch 507/512\n",
      "47/47 [==============================] - 40s 849ms/step - loss: 0.0029 - accuracy: 0.9994 - val_loss: 17.3713 - val_accuracy: 0.0130\n",
      "Epoch 508/512\n",
      "47/47 [==============================] - 40s 845ms/step - loss: 0.0032 - accuracy: 0.9993 - val_loss: 17.3812 - val_accuracy: 0.0127\n",
      "Epoch 509/512\n",
      "47/47 [==============================] - 40s 843ms/step - loss: 0.0034 - accuracy: 0.9993 - val_loss: 17.3412 - val_accuracy: 0.0130\n",
      "Epoch 510/512\n",
      "47/47 [==============================] - 40s 841ms/step - loss: 0.0034 - accuracy: 0.9994 - val_loss: 17.3644 - val_accuracy: 0.0128\n",
      "Epoch 511/512\n",
      "47/47 [==============================] - 39s 839ms/step - loss: 0.0032 - accuracy: 0.9993 - val_loss: 17.3302 - val_accuracy: 0.0132\n",
      "Epoch 512/512\n",
      "47/47 [==============================] - 39s 834ms/step - loss: 0.0030 - accuracy: 0.9994 - val_loss: 17.3617 - val_accuracy: 0.0134\n"
     ]
    }
   ],
   "source": [
    "%%time\n",
    "import kashgari\n",
    "from kashgari.tasks.labeling import BiLSTM_CRF_Model\n",
    "from kashgari.embeddings import BertEmbedding\n",
    "kashgari.config.use_cudnn_cell = True\n",
    "bert_embedding = BertEmbedding(embedding_path, \n",
    "                           sequence_length='auto',\n",
    "                           trainable=True,\n",
    "                           task='kashgari.LABELING', \n",
    "                          )\n",
    "model = BiLSTM_CRF_Model(bert_embedding)\n",
    "history = model.fit(train_x,\n",
    "                    train_y,\n",
    "                    valid_x,\n",
    "                    valid_y,\n",
    "                    epochs=epochs,\n",
    "                    batch_size=batch_size,\n",
    "                   )"
   ]
  },
  {
   "cell_type": "code",
   "execution_count": 11,
   "metadata": {},
   "outputs": [
    {
     "name": "stderr",
     "output_type": "stream",
     "text": [
      "2020-12-14 19:18:40,105 [WARNING] kashgari - Sequence length is None, will use the max length of the samples, which is 65\n",
      "2020-12-14 19:18:40,213 [DEBUG] kashgari - predict seq_length: None, input: (2, 15233, 65)\n"
     ]
    },
    {
     "name": "stdout",
     "output_type": "stream",
     "text": [
      "477/477 [==============================] - 47s 99ms/step\n"
     ]
    },
    {
     "name": "stderr",
     "output_type": "stream",
     "text": [
      "2020-12-14 19:19:31,655 [DEBUG] kashgari - predict output: (15233, 65)\n",
      "2020-12-14 19:19:31,656 [DEBUG] kashgari - predict output argmax: [[0 1 1 ... 1 1 1]\n",
      " [0 1 1 ... 1 1 1]\n",
      " [0 1 1 ... 1 1 1]\n",
      " ...\n",
      " [0 1 1 ... 1 1 1]\n",
      " [0 1 1 ... 1 1 1]\n",
      " [0 1 1 ... 1 1 1]]\n"
     ]
    },
    {
     "name": "stdout",
     "output_type": "stream",
     "text": [
      "\n",
      "                precision    recall  f1-score   support\n",
      "\n",
      "      med_exam     0.8732    0.9254    0.8986       134\n",
      "          time     0.8174    0.8770    0.8462       878\n",
      "         money     0.9024    0.8605    0.8810        43\n",
      "          name     0.9767    0.9545    0.9655        88\n",
      "      location     0.9457    0.8529    0.8969       102\n",
      "       contact     0.8667    0.7222    0.7879        18\n",
      "        others     0.0000    0.0000    0.0000         1\n",
      "            ID     1.0000    0.3333    0.5000         9\n",
      "        family     1.0000    0.6364    0.7778        11\n",
      "    profession     0.7000    0.4118    0.5185        17\n",
      "clinical_event     0.0000    0.0000    0.0000         1\n",
      "     education     1.0000    0.5000    0.6667         2\n",
      "  organization     1.0000    1.0000    1.0000         2\n",
      "\n",
      "     micro avg     0.8464    0.8691    0.8576      1306\n",
      "     macro avg     0.8479    0.8691    0.8553      1306\n",
      "\n"
     ]
    },
    {
     "name": "stderr",
     "output_type": "stream",
     "text": [
      "2020-12-14 19:20:45,439 [INFO] kashgari - model saved to /home/Danny/AI-CUP-2020/Danny/kashgari/model/bert-chinese_epoch_512_batch_1024\n"
     ]
    },
    {
     "data": {
      "text/plain": [
       "'/home/Danny/AI-CUP-2020/Danny/kashgari/model/bert-chinese_epoch_512_batch_1024'"
      ]
     },
     "execution_count": 11,
     "metadata": {},
     "output_type": "execute_result"
    }
   ],
   "source": [
    "model.evaluate(test_x, test_y)\n",
    "model_path = 'model/{}_epoch_{}_batch_{}'.format(model_name, epochs, batch_size)\n",
    "model.save(model_path)"
   ]
  },
  {
   "cell_type": "code",
   "execution_count": 12,
   "metadata": {},
   "outputs": [
    {
     "data": {
      "image/png": "[encoded data removed]",
      "text/plain": [
       "<Figure size 432x288 with 1 Axes>"
      ]
     },
     "metadata": {
      "needs_background": "light"
     },
     "output_type": "display_data"
    }
   ],
   "source": [
    "plt.plot(history.history['accuracy'])\n",
    "plt.plot(history.history['val_accuracy'])\n",
    "plt.plot(history.history['loss'])\n",
    "plt.plot(history.history['val_loss'])\n",
    "plt.title('model accuracy')\n",
    "plt.ylabel('accuracy')\n",
    "plt.xlabel('epoch')\n",
    "plt.legend(['accuracy', 'val_accuracy', 'loss', 'val_loss'])\n",
    "plt.show()"
   ]
  },
  {
   "cell_type": "code",
   "execution_count": 13,
   "metadata": {},
   "outputs": [],
   "source": [
    "# 需要儲存article_id, 轉成dataframe\n",
    "def predicting_txt_to_dataframe(path):    \n",
    "    with open(path, 'r') as f:\n",
    "        txt = str(f.read())\n",
    "        txt_list = txt.split('\\n')\n",
    "    row_list = list()\n",
    "    tmp_list = list()\n",
    "    for row in txt_list:\n",
    "        if row == '--------------------':\n",
    "            tmp_list[0] = tmp_list[0].replace('article_id:', '')\n",
    "            tmp_list[0] = int(tmp_list[0])\n",
    "            row_list.append(tmp_list)\n",
    "            tmp_list = list()\n",
    "            continue\n",
    "        if len(row) > 0:\n",
    "            tmp_list.append(row)\n",
    "    df = pd.DataFrame(row_list, columns=['article_id','text'])\n",
    "    return df"
   ]
  },
  {
   "cell_type": "code",
   "execution_count": 14,
   "metadata": {},
   "outputs": [],
   "source": [
    "def predict_NER(text):\n",
    "    x_list = list()    \n",
    "    text_list = re.split('\\uff0c|\\u3002|\\uff1f', text)\n",
    "    for article in text_list:\n",
    "        x_list.append([i for i in article])\n",
    "    y_list_list = model.predict(x_list)\n",
    "    y_list = list()\n",
    "    for sentence in y_list_list:\n",
    "        for word in sentence:\n",
    "            y_list.append(word)\n",
    "        y_list.append('O') # append(，。？)\n",
    "    y_list = y_list[:-1]\n",
    "    return y_list"
   ]
  },
  {
   "cell_type": "code",
   "execution_count": 15,
   "metadata": {},
   "outputs": [],
   "source": [
    "def output_NER(article_id, text, y_list):\n",
    "    output_str = str()\n",
    "    flag = False\n",
    "    for i, j in enumerate(y_list):\n",
    "        if j != 'O':\n",
    "            if j[0] == 'B':\n",
    "                start_position = i\n",
    "                entity_type = j.split('-')[-1]\n",
    "                flag = True\n",
    "        elif j == 'O' and flag == True:\n",
    "            end_position = i\n",
    "            flag = False\n",
    "            entity_text = text[start_position: end_position]\n",
    "            entity = '{}\\t{}\\t{}\\t{}\\t{}\\n'.format(article_id, start_position, end_position, entity_text, entity_type)  \n",
    "            output_str += entity\n",
    "    return output_str"
   ]
  },
  {
   "cell_type": "code",
   "execution_count": null,
   "metadata": {},
   "outputs": [
    {
     "name": "stderr",
     "output_type": "stream",
     "text": [
      "2020-12-14 22:09:11,568 [DEBUG] kashgari - predict seq_length: None, input: (2, 70, 17)\n"
     ]
    },
    {
     "name": "stdout",
     "output_type": "stream",
     "text": [
      "3/3 [==============================] - 0s 25ms/step\n"
     ]
    },
    {
     "name": "stderr",
     "output_type": "stream",
     "text": [
      "2020-12-14 22:09:15,968 [DEBUG] kashgari - predict output: (70, 17)\n",
      "2020-12-14 22:09:15,969 [DEBUG] kashgari - predict output argmax: [[0 1 1 ... 1 0 1]\n",
      " [0 1 1 ... 1 1 1]\n",
      " [0 1 1 ... 1 1 1]\n",
      " ...\n",
      " [0 1 0 ... 1 1 1]\n",
      " [0 1 1 ... 1 1 1]\n",
      " [0 0 0 ... 0 0 0]]\n",
      "2020-12-14 22:09:15,972 [DEBUG] kashgari - predict seq_length: None, input: (2, 131, 28)\n"
     ]
    },
    {
     "name": "stdout",
     "output_type": "stream",
     "text": [
      "5/5 [==============================] - 0s 41ms/step\n"
     ]
    },
    {
     "name": "stderr",
     "output_type": "stream",
     "text": [
      "2020-12-14 22:09:16,269 [DEBUG] kashgari - predict output: (131, 28)\n",
      "2020-12-14 22:09:16,270 [DEBUG] kashgari - predict output argmax: [[0 1 1 ... 1 1 1]\n",
      " [0 1 1 ... 1 1 1]\n",
      " [0 1 1 ... 1 1 1]\n",
      " ...\n",
      " [0 1 1 ... 1 1 1]\n",
      " [0 1 1 ... 1 1 1]\n",
      " [0 0 0 ... 0 0 0]]\n",
      "2020-12-14 22:09:16,274 [DEBUG] kashgari - predict seq_length: None, input: (2, 198, 47)\n"
     ]
    },
    {
     "name": "stdout",
     "output_type": "stream",
     "text": [
      "7/7 [==============================] - 0s 62ms/step\n"
     ]
    },
    {
     "name": "stderr",
     "output_type": "stream",
     "text": [
      "2020-12-14 22:09:16,821 [DEBUG] kashgari - predict output: (198, 47)\n",
      "2020-12-14 22:09:16,822 [DEBUG] kashgari - predict output argmax: [[0 1 1 ... 1 1 1]\n",
      " [0 1 1 ... 1 1 1]\n",
      " [0 1 1 ... 1 1 1]\n",
      " ...\n",
      " [0 1 1 ... 1 1 1]\n",
      " [0 1 1 ... 1 1 1]\n",
      " [0 1 1 ... 1 1 1]]\n",
      "2020-12-14 22:09:16,825 [DEBUG] kashgari - predict seq_length: None, input: (2, 96, 41)\n"
     ]
    },
    {
     "name": "stdout",
     "output_type": "stream",
     "text": [
      "3/3 [==============================] - 0s 39ms/step\n"
     ]
    },
    {
     "name": "stderr",
     "output_type": "stream",
     "text": [
      "2020-12-14 22:09:19,821 [DEBUG] kashgari - predict output: (96, 41)\n",
      "2020-12-14 22:09:19,822 [DEBUG] kashgari - predict output argmax: [[0 1 1 ... 1 1 1]\n",
      " [0 1 1 ... 1 1 1]\n",
      " [0 1 1 ... 1 1 1]\n",
      " ...\n",
      " [0 1 1 ... 1 1 1]\n",
      " [0 1 1 ... 1 1 1]\n",
      " [0 0 0 ... 0 0 0]]\n",
      "2020-12-14 22:09:19,824 [DEBUG] kashgari - predict seq_length: None, input: (2, 73, 17)\n"
     ]
    },
    {
     "name": "stdout",
     "output_type": "stream",
     "text": [
      "3/3 [==============================] - 0s 22ms/step\n"
     ]
    },
    {
     "name": "stderr",
     "output_type": "stream",
     "text": [
      "2020-12-14 22:09:19,964 [DEBUG] kashgari - predict output: (73, 17)\n",
      "2020-12-14 22:09:19,965 [DEBUG] kashgari - predict output argmax: [[0 1 1 ... 1 1 1]\n",
      " [0 1 9 ... 1 1 1]\n",
      " [0 1 1 ... 1 1 1]\n",
      " ...\n",
      " [0 1 1 ... 1 1 1]\n",
      " [0 1 0 ... 1 1 1]\n",
      " [0 0 0 ... 0 0 0]]\n",
      "2020-12-14 22:09:19,970 [DEBUG] kashgari - predict seq_length: None, input: (2, 266, 23)\n"
     ]
    },
    {
     "name": "stdout",
     "output_type": "stream",
     "text": [
      "9/9 [==============================] - 0s 44ms/step\n"
     ]
    },
    {
     "name": "stderr",
     "output_type": "stream",
     "text": [
      "2020-12-14 22:09:20,443 [DEBUG] kashgari - predict output: (266, 23)\n",
      "2020-12-14 22:09:20,444 [DEBUG] kashgari - predict output argmax: [[0 1 1 ... 1 1 1]\n",
      " [0 1 1 ... 1 1 1]\n",
      " [0 1 1 ... 1 1 1]\n",
      " ...\n",
      " [0 1 1 ... 1 1 1]\n",
      " [0 1 1 ... 1 1 1]\n",
      " [0 1 1 ... 1 1 1]]\n",
      "2020-12-14 22:09:20,448 [DEBUG] kashgari - predict seq_length: None, input: (2, 308, 21)\n"
     ]
    },
    {
     "name": "stdout",
     "output_type": "stream",
     "text": [
      "10/10 [==============================] - 0s 38ms/step\n"
     ]
    },
    {
     "name": "stderr",
     "output_type": "stream",
     "text": [
      "2020-12-14 22:09:20,901 [DEBUG] kashgari - predict output: (308, 21)\n",
      "2020-12-14 22:09:20,902 [DEBUG] kashgari - predict output argmax: [[0 1 1 ... 1 1 1]\n",
      " [0 1 0 ... 1 1 1]\n",
      " [0 1 1 ... 1 1 1]\n",
      " ...\n",
      " [0 1 1 ... 1 1 1]\n",
      " [0 1 0 ... 1 1 1]\n",
      " [0 0 0 ... 0 0 0]]\n",
      "2020-12-14 22:09:20,905 [DEBUG] kashgari - predict seq_length: None, input: (2, 139, 38)\n"
     ]
    },
    {
     "name": "stdout",
     "output_type": "stream",
     "text": [
      "5/5 [==============================] - 0s 46ms/step\n"
     ]
    },
    {
     "name": "stderr",
     "output_type": "stream",
     "text": [
      "2020-12-14 22:09:21,233 [DEBUG] kashgari - predict output: (139, 38)\n",
      "2020-12-14 22:09:21,234 [DEBUG] kashgari - predict output argmax: [[0 1 1 ... 1 1 1]\n",
      " [0 1 1 ... 1 1 1]\n",
      " [0 1 1 ... 1 1 1]\n",
      " ...\n",
      " [0 1 1 ... 1 1 1]\n",
      " [0 1 1 ... 1 1 1]\n",
      " [0 0 0 ... 0 0 0]]\n",
      "2020-12-14 22:09:21,237 [DEBUG] kashgari - predict seq_length: None, input: (2, 167, 22)\n"
     ]
    },
    {
     "name": "stdout",
     "output_type": "stream",
     "text": [
      "6/6 [==============================] - 0s 34ms/step\n"
     ]
    },
    {
     "name": "stderr",
     "output_type": "stream",
     "text": [
      "2020-12-14 22:09:21,516 [DEBUG] kashgari - predict output: (167, 22)\n",
      "2020-12-14 22:09:21,517 [DEBUG] kashgari - predict output argmax: [[0 1 1 ... 5 5 5]\n",
      " [0 1 1 ... 1 1 1]\n",
      " [0 1 0 ... 1 1 1]\n",
      " ...\n",
      " [0 1 1 ... 1 1 1]\n",
      " [0 1 1 ... 2 2 2]\n",
      " [0 0 0 ... 0 0 0]]\n",
      "2020-12-14 22:09:21,522 [DEBUG] kashgari - predict seq_length: None, input: (2, 272, 41)\n"
     ]
    },
    {
     "name": "stdout",
     "output_type": "stream",
     "text": [
      "9/9 [==============================] - 1s 60ms/step\n"
     ]
    },
    {
     "name": "stderr",
     "output_type": "stream",
     "text": [
      "2020-12-14 22:09:22,158 [DEBUG] kashgari - predict output: (272, 41)\n",
      "2020-12-14 22:09:22,160 [DEBUG] kashgari - predict output argmax: [[ 0  1  1 ...  5  5  5]\n",
      " [ 0 17 11 ... 11 11 11]\n",
      " [ 0  1  1 ...  1  1  1]\n",
      " ...\n",
      " [ 0  1  1 ...  1  1  1]\n",
      " [ 0  1  1 ...  1  1  1]\n",
      " [ 0  0  0 ...  0  0  0]]\n",
      "2020-12-14 22:09:22,162 [DEBUG] kashgari - predict seq_length: None, input: (2, 143, 63)\n"
     ]
    },
    {
     "name": "stdout",
     "output_type": "stream",
     "text": [
      "5/5 [==============================] - 0s 76ms/step\n"
     ]
    },
    {
     "name": "stderr",
     "output_type": "stream",
     "text": [
      "2020-12-14 22:09:26,864 [DEBUG] kashgari - predict output: (143, 63)\n",
      "2020-12-14 22:09:26,865 [DEBUG] kashgari - predict output argmax: [[0 1 1 ... 1 1 1]\n",
      " [0 1 1 ... 1 1 1]\n",
      " [0 1 1 ... 1 1 1]\n",
      " ...\n",
      " [0 1 1 ... 1 1 1]\n",
      " [0 1 1 ... 1 1 1]\n",
      " [0 0 0 ... 0 0 0]]\n",
      "2020-12-14 22:09:26,873 [DEBUG] kashgari - predict seq_length: None, input: (2, 663, 42)\n"
     ]
    },
    {
     "name": "stdout",
     "output_type": "stream",
     "text": [
      "21/21 [==============================] - 1s 65ms/step\n"
     ]
    },
    {
     "name": "stderr",
     "output_type": "stream",
     "text": [
      "2020-12-14 22:09:28,351 [DEBUG] kashgari - predict output: (663, 42)\n",
      "2020-12-14 22:09:28,351 [DEBUG] kashgari - predict output argmax: [[0 1 1 ... 1 1 1]\n",
      " [0 1 1 ... 1 1 1]\n",
      " [0 1 1 ... 1 1 1]\n",
      " ...\n",
      " [0 1 1 ... 1 1 1]\n",
      " [0 1 1 ... 1 1 1]\n",
      " [0 0 0 ... 0 0 0]]\n",
      "2020-12-14 22:09:28,354 [DEBUG] kashgari - predict seq_length: None, input: (2, 39, 25)\n"
     ]
    },
    {
     "name": "stdout",
     "output_type": "stream",
     "text": [
      "2/2 [==============================] - 0s 17ms/step\n"
     ]
    },
    {
     "name": "stderr",
     "output_type": "stream",
     "text": [
      "2020-12-14 22:09:28,467 [DEBUG] kashgari - predict output: (39, 25)\n",
      "2020-12-14 22:09:28,471 [DEBUG] kashgari - predict output argmax: [[0 1 1 1 1 0 1 1 1 1 1 1 1 1 1 1 1 1 1 1 1 1 1 1 1]\n",
      " [0 1 1 1 1 0 1 1 1 1 1 1 1 1 1 1 1 1 1 1 1 1 1 1 1]\n",
      " [0 1 1 1 1 1 1 1 1 1 1 1 1 1 1 1 0 1 1 1 1 1 1 1 1]\n",
      " [0 1 1 1 1 1 1 1 1 1 1 0 1 1 1 1 1 1 1 1 1 1 1 1 1]\n",
      " [0 1 1 1 1 1 1 1 1 1 1 1 0 1 1 1 1 1 1 1 1 1 1 1 1]\n",
      " [0 1 1 1 1 0 1 1 1 1 1 1 1 1 1 1 1 1 1 1 1 1 1 1 1]\n",
      " [0 1 1 1 0 1 1 1 1 1 1 1 1 1 1 1 1 1 1 1 1 1 1 1 1]\n",
      " [0 1 1 1 1 0 1 1 1 1 1 1 1 1 1 1 1 1 1 1 1 1 1 1 1]\n",
      " [0 1 1 0 1 1 1 1 1 1 1 1 1 1 1 1 1 1 1 1 1 1 1 1 1]\n",
      " [0 1 1 1 1 1 1 1 1 1 1 1 0 1 1 1 1 1 1 1 1 1 1 1 1]\n",
      " [0 1 1 1 1 1 1 1 1 1 0 1 1 1 1 1 1 1 1 1 1 1 1 1 1]\n",
      " [0 1 1 1 1 1 1 0 1 1 1 1 1 1 1 1 1 1 1 1 1 1 1 1 1]\n",
      " [0 1 1 1 1 0 1 1 1 1 1 1 1 1 1 1 1 1 1 1 1 1 1 1 1]\n",
      " [0 1 1 1 1 0 1 1 1 1 1 1 1 1 1 1 1 1 1 1 1 1 1 1 1]\n",
      " [0 1 1 1 1 1 1 1 1 1 1 1 1 1 0 1 1 1 1 1 1 1 1 1 1]\n",
      " [0 1 1 1 1 0 1 1 1 1 1 1 1 1 1 1 1 1 1 1 1 1 1 1 1]\n",
      " [0 1 1 1 0 1 1 1 1 1 1 1 1 1 1 1 1 1 1 1 1 1 1 1 1]\n",
      " [0 1 1 1 1 1 1 1 1 1 1 1 1 1 0 1 1 1 1 1 1 1 1 1 1]\n",
      " [0 1 1 1 1 1 0 1 1 1 1 1 1 1 1 1 1 1 1 1 1 1 1 1 1]\n",
      " [0 1 1 1 1 1 1 1 1 1 1 1 1 1 1 1 1 0 1 1 1 1 1 1 1]\n",
      " [0 1 1 1 1 3 2 1 1 1 1 0 1 1 1 1 1 1 1 1 1 1 1 1 1]\n",
      " [0 1 1 1 1 0 1 1 1 1 1 1 1 1 1 1 1 1 1 1 1 1 1 1 1]\n",
      " [0 1 1 1 1 1 1 1 1 1 1 0 1 1 1 1 1 1 1 1 1 1 1 1 1]\n",
      " [0 1 1 1 1 0 1 1 1 1 1 1 1 1 1 1 1 1 1 1 1 1 1 1 1]\n",
      " [0 1 1 1 1 1 0 1 1 1 1 1 1 1 1 1 1 1 1 1 1 1 1 1 1]\n",
      " [0 1 1 1 1 0 1 1 1 1 1 1 1 1 1 1 1 1 1 1 1 1 1 1 1]\n",
      " [0 1 1 1 1 1 1 1 1 1 1 1 1 1 1 1 1 1 1 1 1 1 1 1 0]\n",
      " [0 1 1 1 1 0 1 1 1 1 1 1 1 1 1 1 1 1 1 1 1 1 1 1 1]\n",
      " [0 1 1 1 0 1 1 1 1 1 1 1 1 1 1 1 1 1 1 1 1 1 1 1 1]\n",
      " [0 1 1 1 1 1 0 1 1 1 1 1 1 1 1 1 1 1 1 1 1 1 1 1 1]\n",
      " [0 1 1 1 1 1 0 1 1 1 1 1 1 1 1 1 1 1 1 1 1 1 1 1 1]\n",
      " [0 1 0 1 1 1 1 1 1 1 1 1 1 1 1 1 1 1 1 1 1 1 1 1 1]\n",
      " [0 1 1 1 1 1 1 1 1 1 1 1 0 1 1 1 1 1 1 1 1 1 1 1 1]\n",
      " [0 1 1 1 1 0 1 1 1 1 1 1 1 1 1 1 1 1 1 1 1 1 1 1 1]\n",
      " [0 1 1 1 1 3 2 2 2 1 1 1 1 1 0 1 1 1 1 1 1 1 1 1 1]\n",
      " [0 1 1 1 1 0 1 1 1 1 1 1 1 1 1 1 1 1 1 1 1 1 1 1 1]\n",
      " [0 1 1 1 1 1 0 1 1 1 1 1 1 1 1 1 1 1 1 1 1 1 1 1 1]\n",
      " [0 1 1 0 1 1 1 1 1 1 1 1 1 1 1 1 1 1 1 1 1 1 1 1 1]\n",
      " [0 0 0 0 0 0 0 0 0 0 0 0 0 0 0 0 0 0 0 0 0 0 0 0 0]]\n",
      "2020-12-14 22:09:28,474 [DEBUG] kashgari - predict seq_length: None, input: (2, 175, 22)\n"
     ]
    },
    {
     "name": "stdout",
     "output_type": "stream",
     "text": [
      "6/6 [==============================] - 0s 35ms/step\n"
     ]
    },
    {
     "name": "stderr",
     "output_type": "stream",
     "text": [
      "2020-12-14 22:09:28,768 [DEBUG] kashgari - predict output: (175, 22)\n",
      "2020-12-14 22:09:28,769 [DEBUG] kashgari - predict output argmax: [[0 1 1 ... 1 1 1]\n",
      " [0 1 1 ... 1 1 1]\n",
      " [0 1 1 ... 1 1 1]\n",
      " ...\n",
      " [0 1 1 ... 1 1 1]\n",
      " [0 1 1 ... 1 1 1]\n",
      " [0 0 0 ... 0 0 0]]\n",
      "2020-12-14 22:09:28,772 [DEBUG] kashgari - predict seq_length: None, input: (2, 143, 28)\n"
     ]
    },
    {
     "name": "stdout",
     "output_type": "stream",
     "text": [
      "5/5 [==============================] - 0s 40ms/step\n"
     ]
    },
    {
     "name": "stderr",
     "output_type": "stream",
     "text": [
      "2020-12-14 22:09:29,054 [DEBUG] kashgari - predict output: (143, 28)\n",
      "2020-12-14 22:09:29,055 [DEBUG] kashgari - predict output argmax: [[0 1 1 ... 1 1 1]\n",
      " [0 1 1 ... 1 1 1]\n",
      " [0 1 1 ... 1 1 1]\n",
      " ...\n",
      " [0 1 1 ... 1 1 1]\n",
      " [0 1 1 ... 1 1 1]\n",
      " [0 0 0 ... 0 0 0]]\n",
      "2020-12-14 22:09:29,057 [DEBUG] kashgari - predict seq_length: None, input: (2, 88, 21)\n"
     ]
    },
    {
     "name": "stdout",
     "output_type": "stream",
     "text": [
      "3/3 [==============================] - 0s 29ms/step\n"
     ]
    },
    {
     "name": "stderr",
     "output_type": "stream",
     "text": [
      "2020-12-14 22:09:29,213 [DEBUG] kashgari - predict output: (88, 21)\n",
      "2020-12-14 22:09:29,215 [DEBUG] kashgari - predict output argmax: [[0 1 1 ... 1 1 1]\n",
      " [0 1 1 ... 1 1 1]\n",
      " [0 1 1 ... 1 1 1]\n",
      " ...\n",
      " [0 1 1 ... 2 2 2]\n",
      " [0 1 1 ... 1 1 1]\n",
      " [0 0 0 ... 0 0 0]]\n",
      "2020-12-14 22:09:29,218 [DEBUG] kashgari - predict seq_length: None, input: (2, 121, 28)\n"
     ]
    },
    {
     "name": "stdout",
     "output_type": "stream",
     "text": [
      "4/4 [==============================] - 0s 39ms/step\n"
     ]
    },
    {
     "name": "stderr",
     "output_type": "stream",
     "text": [
      "2020-12-14 22:09:29,449 [DEBUG] kashgari - predict output: (121, 28)\n",
      "2020-12-14 22:09:29,450 [DEBUG] kashgari - predict output argmax: [[0 1 1 ... 1 1 1]\n",
      " [0 1 1 ... 1 1 1]\n",
      " [0 1 1 ... 1 1 1]\n",
      " ...\n",
      " [0 1 1 ... 1 1 1]\n",
      " [0 1 1 ... 1 1 1]\n",
      " [0 0 0 ... 0 0 0]]\n",
      "2020-12-14 22:09:29,451 [DEBUG] kashgari - predict seq_length: None, input: (2, 85, 27)\n"
     ]
    },
    {
     "name": "stdout",
     "output_type": "stream",
     "text": [
      "3/3 [==============================] - 0s 34ms/step\n"
     ]
    },
    {
     "name": "stderr",
     "output_type": "stream",
     "text": [
      "2020-12-14 22:09:29,628 [DEBUG] kashgari - predict output: (85, 27)\n",
      "2020-12-14 22:09:29,629 [DEBUG] kashgari - predict output argmax: [[0 1 1 ... 1 1 1]\n",
      " [0 1 1 ... 1 1 1]\n",
      " [0 1 1 ... 1 1 1]\n",
      " ...\n",
      " [0 1 1 ... 1 1 1]\n",
      " [0 1 1 ... 1 1 1]\n",
      " [0 0 0 ... 0 0 0]]\n",
      "2020-12-14 22:09:29,632 [DEBUG] kashgari - predict seq_length: None, input: (2, 255, 19)\n"
     ]
    },
    {
     "name": "stdout",
     "output_type": "stream",
     "text": [
      "8/8 [==============================] - 0s 37ms/step\n"
     ]
    },
    {
     "name": "stderr",
     "output_type": "stream",
     "text": [
      "2020-12-14 22:09:30,003 [DEBUG] kashgari - predict output: (255, 19)\n",
      "2020-12-14 22:09:30,004 [DEBUG] kashgari - predict output argmax: [[0 1 1 ... 1 1 1]\n",
      " [0 1 1 ... 1 1 1]\n",
      " [0 1 1 ... 1 1 1]\n",
      " ...\n",
      " [0 1 1 ... 1 1 1]\n",
      " [0 1 1 ... 1 1 1]\n",
      " [0 0 0 ... 0 0 0]]\n",
      "2020-12-14 22:09:30,009 [DEBUG] kashgari - predict seq_length: None, input: (2, 202, 29)\n"
     ]
    },
    {
     "name": "stdout",
     "output_type": "stream",
     "text": [
      "7/7 [==============================] - 0s 43ms/step\n"
     ]
    },
    {
     "name": "stderr",
     "output_type": "stream",
     "text": [
      "2020-12-14 22:09:30,405 [DEBUG] kashgari - predict output: (202, 29)\n",
      "2020-12-14 22:09:30,407 [DEBUG] kashgari - predict output argmax: [[0 1 1 ... 1 1 1]\n",
      " [0 1 1 ... 1 1 1]\n",
      " [0 1 1 ... 1 1 0]\n",
      " ...\n",
      " [0 1 1 ... 1 1 1]\n",
      " [0 1 1 ... 1 1 1]\n",
      " [0 0 0 ... 0 0 0]]\n",
      "2020-12-14 22:09:30,411 [DEBUG] kashgari - predict seq_length: None, input: (2, 198, 19)\n"
     ]
    },
    {
     "name": "stdout",
     "output_type": "stream",
     "text": [
      "7/7 [==============================] - 0s 35ms/step\n"
     ]
    },
    {
     "name": "stderr",
     "output_type": "stream",
     "text": [
      "2020-12-14 22:09:30,725 [DEBUG] kashgari - predict output: (198, 19)\n",
      "2020-12-14 22:09:30,727 [DEBUG] kashgari - predict output argmax: [[0 1 1 ... 1 1 1]\n",
      " [0 1 1 ... 1 1 1]\n",
      " [0 1 1 ... 1 1 1]\n",
      " ...\n",
      " [0 1 1 ... 1 1 1]\n",
      " [0 1 1 ... 6 6 6]\n",
      " [0 0 0 ... 0 0 0]]\n",
      "2020-12-14 22:09:30,730 [DEBUG] kashgari - predict seq_length: None, input: (2, 102, 39)\n"
     ]
    },
    {
     "name": "stdout",
     "output_type": "stream",
     "text": [
      "4/4 [==============================] - 0s 45ms/step\n"
     ]
    },
    {
     "name": "stderr",
     "output_type": "stream",
     "text": [
      "2020-12-14 22:09:31,011 [DEBUG] kashgari - predict output: (102, 39)\n",
      "2020-12-14 22:09:31,012 [DEBUG] kashgari - predict output argmax: [[0 1 1 ... 1 1 1]\n",
      " [0 1 1 ... 1 1 1]\n",
      " [0 1 1 ... 1 1 1]\n",
      " ...\n",
      " [0 1 1 ... 1 1 1]\n",
      " [0 1 1 ... 1 1 1]\n",
      " [0 0 0 ... 0 0 0]]\n",
      "2020-12-14 22:09:31,014 [DEBUG] kashgari - predict seq_length: None, input: (2, 72, 36)\n"
     ]
    },
    {
     "name": "stdout",
     "output_type": "stream",
     "text": [
      "3/3 [==============================] - 0s 33ms/step\n"
     ]
    },
    {
     "name": "stderr",
     "output_type": "stream",
     "text": [
      "2020-12-14 22:09:31,212 [DEBUG] kashgari - predict output: (72, 36)\n",
      "2020-12-14 22:09:31,216 [DEBUG] kashgari - predict output argmax: [[0 1 1 ... 1 1 1]\n",
      " [0 1 0 ... 1 1 1]\n",
      " [0 1 1 ... 1 1 1]\n",
      " ...\n",
      " [0 1 1 ... 1 1 1]\n",
      " [0 1 1 ... 1 1 1]\n",
      " [0 0 0 ... 0 0 0]]\n",
      "2020-12-14 22:09:31,221 [DEBUG] kashgari - predict seq_length: None, input: (2, 246, 27)\n"
     ]
    },
    {
     "name": "stdout",
     "output_type": "stream",
     "text": [
      "8/8 [==============================] - 0s 43ms/step\n"
     ]
    },
    {
     "name": "stderr",
     "output_type": "stream",
     "text": [
      "2020-12-14 22:09:31,652 [DEBUG] kashgari - predict output: (246, 27)\n",
      "2020-12-14 22:09:31,653 [DEBUG] kashgari - predict output argmax: [[0 1 1 ... 1 1 1]\n",
      " [0 1 1 ... 1 1 1]\n",
      " [0 1 1 ... 1 1 1]\n",
      " ...\n",
      " [0 1 1 ... 1 1 1]\n",
      " [0 1 1 ... 1 1 1]\n",
      " [0 0 0 ... 0 0 0]]\n",
      "2020-12-14 22:09:31,655 [DEBUG] kashgari - predict seq_length: None, input: (2, 57, 34)\n"
     ]
    },
    {
     "name": "stdout",
     "output_type": "stream",
     "text": [
      "2/2 [==============================] - 0s 27ms/step\n"
     ]
    },
    {
     "name": "stderr",
     "output_type": "stream",
     "text": [
      "2020-12-14 22:09:31,796 [DEBUG] kashgari - predict output: (57, 34)\n",
      "2020-12-14 22:09:31,797 [DEBUG] kashgari - predict output argmax: [[0 1 1 ... 1 1 1]\n",
      " [0 1 1 ... 1 1 1]\n",
      " [0 1 1 ... 1 1 1]\n",
      " ...\n",
      " [0 1 1 ... 1 1 1]\n",
      " [0 1 1 ... 1 1 1]\n",
      " [0 0 0 ... 0 0 0]]\n",
      "2020-12-14 22:09:31,800 [DEBUG] kashgari - predict seq_length: None, input: (2, 82, 21)\n"
     ]
    },
    {
     "name": "stdout",
     "output_type": "stream",
     "text": [
      "3/3 [==============================] - 0s 30ms/step\n"
     ]
    },
    {
     "name": "stderr",
     "output_type": "stream",
     "text": [
      "2020-12-14 22:09:31,960 [DEBUG] kashgari - predict output: (82, 21)\n",
      "2020-12-14 22:09:31,961 [DEBUG] kashgari - predict output argmax: [[0 1 1 ... 1 1 1]\n",
      " [0 1 1 ... 1 1 1]\n",
      " [0 1 1 ... 1 1 1]\n",
      " ...\n",
      " [0 1 1 ... 1 1 1]\n",
      " [0 1 1 ... 1 1 1]\n",
      " [0 0 0 ... 0 0 0]]\n",
      "2020-12-14 22:09:31,965 [DEBUG] kashgari - predict seq_length: None, input: (2, 185, 32)\n"
     ]
    },
    {
     "name": "stdout",
     "output_type": "stream",
     "text": [
      "6/6 [==============================] - 0s 46ms/step\n"
     ]
    },
    {
     "name": "stderr",
     "output_type": "stream",
     "text": [
      "2020-12-14 22:09:32,330 [DEBUG] kashgari - predict output: (185, 32)\n",
      "2020-12-14 22:09:32,332 [DEBUG] kashgari - predict output argmax: [[0 1 1 ... 1 1 1]\n",
      " [0 1 1 ... 1 1 1]\n",
      " [0 1 1 ... 1 1 1]\n",
      " ...\n",
      " [0 1 1 ... 1 1 1]\n",
      " [0 1 1 ... 1 1 1]\n",
      " [0 0 0 ... 0 0 0]]\n",
      "2020-12-14 22:09:32,335 [DEBUG] kashgari - predict seq_length: None, input: (2, 148, 28)\n"
     ]
    },
    {
     "name": "stdout",
     "output_type": "stream",
     "text": [
      "5/5 [==============================] - 0s 39ms/step\n"
     ]
    },
    {
     "name": "stderr",
     "output_type": "stream",
     "text": [
      "2020-12-14 22:09:32,615 [DEBUG] kashgari - predict output: (148, 28)\n",
      "2020-12-14 22:09:32,615 [DEBUG] kashgari - predict output argmax: [[0 1 1 ... 1 1 1]\n",
      " [0 1 1 ... 1 1 1]\n",
      " [0 1 1 ... 1 1 1]\n",
      " ...\n",
      " [0 1 1 ... 1 1 1]\n",
      " [0 1 1 ... 1 1 1]\n",
      " [0 0 0 ... 0 0 0]]\n",
      "2020-12-14 22:09:32,620 [DEBUG] kashgari - predict seq_length: None, input: (2, 281, 23)\n"
     ]
    },
    {
     "name": "stdout",
     "output_type": "stream",
     "text": [
      "9/9 [==============================] - 0s 42ms/step\n"
     ]
    },
    {
     "name": "stderr",
     "output_type": "stream",
     "text": [
      "2020-12-14 22:09:33,074 [DEBUG] kashgari - predict output: (281, 23)\n",
      "2020-12-14 22:09:33,075 [DEBUG] kashgari - predict output argmax: [[0 1 1 ... 1 1 1]\n",
      " [0 1 1 ... 1 1 1]\n",
      " [0 1 1 ... 1 1 1]\n",
      " ...\n",
      " [0 1 0 ... 1 1 1]\n",
      " [0 1 1 ... 1 1 1]\n",
      " [0 0 0 ... 0 0 0]]\n",
      "2020-12-14 22:09:33,077 [DEBUG] kashgari - predict seq_length: None, input: (2, 116, 20)\n"
     ]
    },
    {
     "name": "stdout",
     "output_type": "stream",
     "text": [
      "4/4 [==============================] - 0s 32ms/step\n"
     ]
    },
    {
     "name": "stderr",
     "output_type": "stream",
     "text": [
      "2020-12-14 22:09:33,272 [DEBUG] kashgari - predict output: (116, 20)\n",
      "2020-12-14 22:09:33,273 [DEBUG] kashgari - predict output argmax: [[0 1 1 ... 1 1 1]\n",
      " [0 1 1 ... 1 1 1]\n",
      " [0 1 1 ... 1 1 1]\n",
      " ...\n",
      " [0 1 1 ... 1 1 1]\n",
      " [0 1 1 ... 1 1 1]\n",
      " [0 0 0 ... 0 0 0]]\n",
      "2020-12-14 22:09:33,276 [DEBUG] kashgari - predict seq_length: None, input: (2, 168, 25)\n"
     ]
    },
    {
     "name": "stdout",
     "output_type": "stream",
     "text": [
      "6/6 [==============================] - 0s 39ms/step\n"
     ]
    },
    {
     "name": "stderr",
     "output_type": "stream",
     "text": [
      "2020-12-14 22:09:33,592 [DEBUG] kashgari - predict output: (168, 25)\n",
      "2020-12-14 22:09:33,593 [DEBUG] kashgari - predict output argmax: [[0 1 1 ... 1 1 1]\n",
      " [0 1 1 ... 1 1 1]\n",
      " [0 3 2 ... 1 1 1]\n",
      " ...\n",
      " [0 1 1 ... 1 1 1]\n",
      " [0 1 1 ... 1 1 1]\n",
      " [0 0 0 ... 0 0 0]]\n",
      "2020-12-14 22:09:33,597 [DEBUG] kashgari - predict seq_length: None, input: (2, 218, 30)\n"
     ]
    },
    {
     "name": "stdout",
     "output_type": "stream",
     "text": [
      "7/7 [==============================] - 0s 46ms/step\n"
     ]
    },
    {
     "name": "stderr",
     "output_type": "stream",
     "text": [
      "2020-12-14 22:09:33,999 [DEBUG] kashgari - predict output: (218, 30)\n",
      "2020-12-14 22:09:34,001 [DEBUG] kashgari - predict output argmax: [[0 1 1 ... 1 1 1]\n",
      " [0 1 1 ... 1 1 1]\n",
      " [0 1 1 ... 1 1 1]\n",
      " ...\n",
      " [0 1 1 ... 1 1 1]\n",
      " [0 1 1 ... 1 1 1]\n",
      " [0 0 0 ... 0 0 0]]\n",
      "2020-12-14 22:09:34,003 [DEBUG] kashgari - predict seq_length: None, input: (2, 123, 32)\n"
     ]
    },
    {
     "name": "stdout",
     "output_type": "stream",
     "text": [
      "4/4 [==============================] - 0s 42ms/step\n"
     ]
    },
    {
     "name": "stderr",
     "output_type": "stream",
     "text": [
      "2020-12-14 22:09:34,252 [DEBUG] kashgari - predict output: (123, 32)\n",
      "2020-12-14 22:09:34,253 [DEBUG] kashgari - predict output argmax: [[0 1 1 ... 1 1 1]\n",
      " [0 1 1 ... 1 1 1]\n",
      " [0 1 1 ... 1 1 1]\n",
      " ...\n",
      " [0 1 1 ... 1 1 1]\n",
      " [0 1 1 ... 1 1 1]\n",
      " [0 0 0 ... 0 0 0]]\n",
      "2020-12-14 22:09:34,255 [DEBUG] kashgari - predict seq_length: None, input: (2, 82, 21)\n"
     ]
    },
    {
     "name": "stdout",
     "output_type": "stream",
     "text": [
      "3/3 [==============================] - 0s 28ms/step\n"
     ]
    },
    {
     "name": "stderr",
     "output_type": "stream",
     "text": [
      "2020-12-14 22:09:34,402 [DEBUG] kashgari - predict output: (82, 21)\n",
      "2020-12-14 22:09:34,403 [DEBUG] kashgari - predict output argmax: [[0 1 1 ... 1 1 1]\n",
      " [0 1 1 ... 1 1 1]\n",
      " [0 3 2 ... 1 1 1]\n",
      " ...\n",
      " [0 1 1 ... 1 1 1]\n",
      " [0 1 1 ... 1 1 1]\n",
      " [0 0 0 ... 0 0 0]]\n",
      "2020-12-14 22:09:34,405 [DEBUG] kashgari - predict seq_length: None, input: (2, 95, 19)\n"
     ]
    },
    {
     "name": "stdout",
     "output_type": "stream",
     "text": [
      "3/3 [==============================] - 0s 27ms/step\n"
     ]
    },
    {
     "name": "stderr",
     "output_type": "stream",
     "text": [
      "2020-12-14 22:09:34,553 [DEBUG] kashgari - predict output: (95, 19)\n",
      "2020-12-14 22:09:34,554 [DEBUG] kashgari - predict output argmax: [[0 1 1 ... 2 2 2]\n",
      " [0 3 2 ... 1 1 1]\n",
      " [0 1 1 ... 1 1 1]\n",
      " ...\n",
      " [0 1 0 ... 1 1 1]\n",
      " [0 1 1 ... 1 1 1]\n",
      " [0 0 0 ... 0 0 0]]\n",
      "2020-12-14 22:09:34,560 [DEBUG] kashgari - predict seq_length: None, input: (2, 245, 24)\n"
     ]
    },
    {
     "name": "stdout",
     "output_type": "stream",
     "text": [
      "8/8 [==============================] - 0s 42ms/step\n"
     ]
    },
    {
     "name": "stderr",
     "output_type": "stream",
     "text": [
      "2020-12-14 22:09:39,324 [DEBUG] kashgari - predict output: (245, 24)\n",
      "2020-12-14 22:09:39,325 [DEBUG] kashgari - predict output argmax: [[ 0  1  1 ...  1  1  1]\n",
      " [ 0  1  1 ...  1  1  1]\n",
      " [ 0  1  1 ...  1  1  1]\n",
      " ...\n",
      " [ 0 17 11 ...  5  5  5]\n",
      " [ 0  1  1 ...  1  1  1]\n",
      " [ 0  0  0 ...  0  0  0]]\n",
      "2020-12-14 22:09:39,328 [DEBUG] kashgari - predict seq_length: None, input: (2, 126, 31)\n"
     ]
    },
    {
     "name": "stdout",
     "output_type": "stream",
     "text": [
      "4/4 [==============================] - 0s 43ms/step\n"
     ]
    },
    {
     "name": "stderr",
     "output_type": "stream",
     "text": [
      "2020-12-14 22:09:39,594 [DEBUG] kashgari - predict output: (126, 31)\n",
      "2020-12-14 22:09:39,594 [DEBUG] kashgari - predict output argmax: [[ 0  1  1 ...  1  1  1]\n",
      " [ 0 17 11 ...  4  4  4]\n",
      " [ 0  1  1 ...  1  1  1]\n",
      " ...\n",
      " [ 0  1  7 ...  1  1  1]\n",
      " [ 0  1  1 ...  1  1  1]\n",
      " [ 0  0  0 ...  0  0  0]]\n",
      "2020-12-14 22:09:39,596 [DEBUG] kashgari - predict seq_length: None, input: (2, 64, 19)\n"
     ]
    },
    {
     "name": "stdout",
     "output_type": "stream",
     "text": [
      "2/2 [==============================] - 0s 20ms/step\n"
     ]
    },
    {
     "name": "stderr",
     "output_type": "stream",
     "text": [
      "2020-12-14 22:09:42,535 [DEBUG] kashgari - predict output: (64, 19)\n",
      "2020-12-14 22:09:42,536 [DEBUG] kashgari - predict output argmax: [[0 1 1 ... 1 1 1]\n",
      " [0 1 1 ... 1 1 1]\n",
      " [0 1 1 ... 1 1 1]\n",
      " ...\n",
      " [0 1 1 ... 1 1 1]\n",
      " [0 1 1 ... 1 1 1]\n",
      " [0 0 0 ... 0 0 0]]\n",
      "2020-12-14 22:09:42,538 [DEBUG] kashgari - predict seq_length: None, input: (2, 93, 24)\n"
     ]
    },
    {
     "name": "stdout",
     "output_type": "stream",
     "text": [
      "3/3 [==============================] - 0s 34ms/step\n"
     ]
    },
    {
     "name": "stderr",
     "output_type": "stream",
     "text": [
      "2020-12-14 22:09:42,717 [DEBUG] kashgari - predict output: (93, 24)\n",
      "2020-12-14 22:09:42,719 [DEBUG] kashgari - predict output argmax: [[0 1 1 ... 1 1 1]\n",
      " [0 1 1 ... 1 1 1]\n",
      " [0 1 1 ... 1 1 1]\n",
      " ...\n",
      " [0 1 1 ... 1 1 1]\n",
      " [0 1 1 ... 1 1 1]\n",
      " [0 0 0 ... 0 0 0]]\n",
      "2020-12-14 22:09:42,725 [DEBUG] kashgari - predict seq_length: None, input: (2, 214, 16)\n"
     ]
    },
    {
     "name": "stdout",
     "output_type": "stream",
     "text": [
      "7/7 [==============================] - 0s 34ms/step\n"
     ]
    },
    {
     "name": "stderr",
     "output_type": "stream",
     "text": [
      "2020-12-14 22:09:43,032 [DEBUG] kashgari - predict output: (214, 16)\n",
      "2020-12-14 22:09:43,033 [DEBUG] kashgari - predict output argmax: [[0 1 1 ... 1 1 1]\n",
      " [0 1 1 ... 1 1 1]\n",
      " [0 1 1 ... 1 1 1]\n",
      " ...\n",
      " [0 1 1 ... 1 1 1]\n",
      " [0 1 1 ... 1 1 1]\n",
      " [0 0 0 ... 0 0 0]]\n",
      "2020-12-14 22:09:43,036 [DEBUG] kashgari - predict seq_length: None, input: (2, 53, 20)\n"
     ]
    },
    {
     "name": "stdout",
     "output_type": "stream",
     "text": [
      "2/2 [==============================] - 0s 19ms/step\n"
     ]
    },
    {
     "name": "stderr",
     "output_type": "stream",
     "text": [
      "2020-12-14 22:09:43,139 [DEBUG] kashgari - predict output: (53, 20)\n",
      "2020-12-14 22:09:43,140 [DEBUG] kashgari - predict output argmax: [[0 1 1 ... 1 1 1]\n",
      " [0 1 1 ... 1 1 1]\n",
      " [0 1 1 ... 1 1 1]\n",
      " ...\n",
      " [0 1 1 ... 1 1 1]\n",
      " [0 1 1 ... 1 1 1]\n",
      " [0 0 0 ... 0 0 0]]\n",
      "2020-12-14 22:09:43,147 [DEBUG] kashgari - predict seq_length: None, input: (2, 384, 18)\n"
     ]
    },
    {
     "name": "stdout",
     "output_type": "stream",
     "text": [
      "12/12 [==============================] - 0s 28ms/step\n"
     ]
    },
    {
     "name": "stderr",
     "output_type": "stream",
     "text": [
      "2020-12-14 22:09:46,383 [DEBUG] kashgari - predict output: (384, 18)\n",
      "2020-12-14 22:09:46,384 [DEBUG] kashgari - predict output argmax: [[0 1 1 ... 1 1 1]\n",
      " [0 1 1 ... 1 1 1]\n",
      " [0 1 1 ... 1 1 1]\n",
      " ...\n",
      " [0 1 1 ... 1 1 1]\n",
      " [0 1 1 ... 1 1 1]\n",
      " [0 0 0 ... 0 0 0]]\n",
      "2020-12-14 22:09:46,388 [DEBUG] kashgari - predict seq_length: None, input: (2, 172, 24)\n"
     ]
    },
    {
     "name": "stdout",
     "output_type": "stream",
     "text": [
      "6/6 [==============================] - 0s 38ms/step\n"
     ]
    },
    {
     "name": "stderr",
     "output_type": "stream",
     "text": [
      "2020-12-14 22:09:46,690 [DEBUG] kashgari - predict output: (172, 24)\n",
      "2020-12-14 22:09:46,691 [DEBUG] kashgari - predict output argmax: [[0 1 1 ... 5 5 5]\n",
      " [0 1 1 ... 1 1 1]\n",
      " [0 1 1 ... 1 1 1]\n",
      " ...\n",
      " [0 1 1 ... 1 1 1]\n",
      " [0 1 1 ... 1 1 1]\n",
      " [0 0 0 ... 0 0 0]]\n",
      "2020-12-14 22:09:46,693 [DEBUG] kashgari - predict seq_length: None, input: (2, 114, 24)\n"
     ]
    },
    {
     "name": "stdout",
     "output_type": "stream",
     "text": [
      "4/4 [==============================] - 0s 34ms/step\n"
     ]
    },
    {
     "name": "stderr",
     "output_type": "stream",
     "text": [
      "2020-12-14 22:09:46,901 [DEBUG] kashgari - predict output: (114, 24)\n",
      "2020-12-14 22:09:46,902 [DEBUG] kashgari - predict output argmax: [[0 1 1 ... 1 1 1]\n",
      " [0 1 1 ... 1 1 0]\n",
      " [0 1 1 ... 1 1 1]\n",
      " ...\n",
      " [0 1 1 ... 1 1 1]\n",
      " [0 1 1 ... 2 2 2]\n",
      " [0 0 0 ... 0 0 0]]\n",
      "2020-12-14 22:09:46,905 [DEBUG] kashgari - predict seq_length: None, input: (2, 111, 47)\n"
     ]
    },
    {
     "name": "stdout",
     "output_type": "stream",
     "text": [
      "4/4 [==============================] - 0s 54ms/step\n"
     ]
    },
    {
     "name": "stderr",
     "output_type": "stream",
     "text": [
      "2020-12-14 22:09:47,238 [DEBUG] kashgari - predict output: (111, 47)\n",
      "2020-12-14 22:09:47,239 [DEBUG] kashgari - predict output argmax: [[0 1 1 ... 2 2 2]\n",
      " [0 1 1 ... 1 1 1]\n",
      " [0 1 0 ... 1 1 1]\n",
      " ...\n",
      " [0 1 1 ... 1 1 1]\n",
      " [0 1 1 ... 1 1 1]\n",
      " [0 0 0 ... 0 0 0]]\n",
      "2020-12-14 22:09:47,244 [DEBUG] kashgari - predict seq_length: None, input: (2, 350, 34)\n"
     ]
    },
    {
     "name": "stdout",
     "output_type": "stream",
     "text": [
      "11/11 [==============================] - 1s 55ms/step\n"
     ]
    },
    {
     "name": "stderr",
     "output_type": "stream",
     "text": [
      "2020-12-14 22:09:47,946 [DEBUG] kashgari - predict output: (350, 34)\n",
      "2020-12-14 22:09:47,947 [DEBUG] kashgari - predict output argmax: [[ 0  1  1 ...  1  1  1]\n",
      " [ 0  1  1 ...  1  1  1]\n",
      " [ 0  1  1 ...  1  1  1]\n",
      " ...\n",
      " [ 0  1  1 ... 16 16 16]\n",
      " [ 0  1  1 ...  1  1  1]\n",
      " [ 0  0  0 ...  0  0  0]]\n",
      "2020-12-14 22:09:47,949 [DEBUG] kashgari - predict seq_length: None, input: (2, 56, 20)\n"
     ]
    },
    {
     "name": "stdout",
     "output_type": "stream",
     "text": [
      "2/2 [==============================] - 0s 19ms/step\n"
     ]
    },
    {
     "name": "stderr",
     "output_type": "stream",
     "text": [
      "2020-12-14 22:09:48,050 [DEBUG] kashgari - predict output: (56, 20)\n",
      "2020-12-14 22:09:48,051 [DEBUG] kashgari - predict output argmax: [[0 1 1 ... 1 1 1]\n",
      " [0 1 1 ... 1 1 1]\n",
      " [0 1 1 ... 1 1 1]\n",
      " ...\n",
      " [0 1 1 ... 1 1 1]\n",
      " [0 1 1 ... 1 1 1]\n",
      " [0 0 0 ... 0 0 0]]\n",
      "2020-12-14 22:09:48,054 [DEBUG] kashgari - predict seq_length: None, input: (2, 131, 17)\n"
     ]
    },
    {
     "name": "stdout",
     "output_type": "stream",
     "text": [
      "5/5 [==============================] - 0s 31ms/step\n"
     ]
    },
    {
     "name": "stderr",
     "output_type": "stream",
     "text": [
      "2020-12-14 22:09:48,279 [DEBUG] kashgari - predict output: (131, 17)\n",
      "2020-12-14 22:09:48,280 [DEBUG] kashgari - predict output argmax: [[0 1 1 ... 1 1 1]\n",
      " [0 1 1 ... 1 1 1]\n",
      " [0 1 1 ... 1 1 1]\n",
      " ...\n",
      " [0 1 1 ... 1 1 1]\n",
      " [0 1 1 ... 1 1 1]\n",
      " [0 0 0 ... 0 0 0]]\n",
      "2020-12-14 22:09:48,285 [DEBUG] kashgari - predict seq_length: None, input: (2, 184, 34)\n"
     ]
    },
    {
     "name": "stdout",
     "output_type": "stream",
     "text": [
      "6/6 [==============================] - 0s 50ms/step\n"
     ]
    },
    {
     "name": "stderr",
     "output_type": "stream",
     "text": [
      "2020-12-14 22:09:48,678 [DEBUG] kashgari - predict output: (184, 34)\n",
      "2020-12-14 22:09:48,679 [DEBUG] kashgari - predict output argmax: [[0 1 1 ... 1 1 1]\n",
      " [0 1 1 ... 1 1 1]\n",
      " [0 1 1 ... 1 1 1]\n",
      " ...\n",
      " [0 1 1 ... 1 1 1]\n",
      " [0 1 1 ... 1 1 1]\n",
      " [0 0 0 ... 0 0 0]]\n",
      "2020-12-14 22:09:48,682 [DEBUG] kashgari - predict seq_length: None, input: (2, 133, 51)\n"
     ]
    },
    {
     "name": "stdout",
     "output_type": "stream",
     "text": [
      "5/5 [==============================] - 0s 62ms/step\n"
     ]
    },
    {
     "name": "stderr",
     "output_type": "stream",
     "text": [
      "2020-12-14 22:09:53,466 [DEBUG] kashgari - predict output: (133, 51)\n",
      "2020-12-14 22:09:53,467 [DEBUG] kashgari - predict output argmax: [[0 1 1 ... 1 1 1]\n",
      " [0 9 5 ... 2 2 2]\n",
      " [0 1 1 ... 1 1 1]\n",
      " ...\n",
      " [0 1 0 ... 1 1 1]\n",
      " [0 1 1 ... 1 1 1]\n",
      " [0 0 0 ... 0 0 0]]\n",
      "2020-12-14 22:09:53,471 [DEBUG] kashgari - predict seq_length: None, input: (2, 210, 53)\n"
     ]
    },
    {
     "name": "stdout",
     "output_type": "stream",
     "text": [
      "7/7 [==============================] - 1s 75ms/step\n"
     ]
    },
    {
     "name": "stderr",
     "output_type": "stream",
     "text": [
      "2020-12-14 22:09:58,479 [DEBUG] kashgari - predict output: (210, 53)\n",
      "2020-12-14 22:09:58,479 [DEBUG] kashgari - predict output argmax: [[ 0  1  1 ...  1  1  1]\n",
      " [ 0  1  1 ...  1  1  1]\n",
      " [ 0  1  1 ...  5  5  5]\n",
      " ...\n",
      " [ 0  1  1 ... 11 11 11]\n",
      " [ 0  1  1 ...  1  1  1]\n",
      " [ 0  0  0 ...  0  0  0]]\n",
      "2020-12-14 22:09:58,484 [DEBUG] kashgari - predict seq_length: None, input: (2, 193, 55)\n"
     ]
    },
    {
     "name": "stdout",
     "output_type": "stream",
     "text": [
      "7/7 [==============================] - 0s 69ms/step\n"
     ]
    },
    {
     "name": "stderr",
     "output_type": "stream",
     "text": [
      "2020-12-14 22:09:59,090 [DEBUG] kashgari - predict output: (193, 55)\n",
      "2020-12-14 22:09:59,091 [DEBUG] kashgari - predict output argmax: [[0 1 1 ... 1 1 1]\n",
      " [0 9 5 ... 2 2 2]\n",
      " [0 1 1 ... 1 1 1]\n",
      " ...\n",
      " [0 1 1 ... 1 1 1]\n",
      " [0 1 1 ... 1 1 1]\n",
      " [0 0 0 ... 0 0 0]]\n",
      "2020-12-14 22:09:59,093 [DEBUG] kashgari - predict seq_length: None, input: (2, 75, 30)\n"
     ]
    },
    {
     "name": "stdout",
     "output_type": "stream",
     "text": [
      "3/3 [==============================] - 0s 35ms/step\n"
     ]
    },
    {
     "name": "stderr",
     "output_type": "stream",
     "text": [
      "2020-12-14 22:09:59,276 [DEBUG] kashgari - predict output: (75, 30)\n",
      "2020-12-14 22:09:59,277 [DEBUG] kashgari - predict output argmax: [[0 1 1 ... 1 1 1]\n",
      " [0 1 1 ... 1 1 1]\n",
      " [0 1 1 ... 0 1 1]\n",
      " ...\n",
      " [0 1 0 ... 1 1 1]\n",
      " [0 1 1 ... 1 1 1]\n",
      " [0 0 0 ... 0 0 0]]\n",
      "2020-12-14 22:09:59,281 [DEBUG] kashgari - predict seq_length: None, input: (2, 280, 46)\n"
     ]
    },
    {
     "name": "stdout",
     "output_type": "stream",
     "text": [
      "9/9 [==============================] - 1s 70ms/step\n"
     ]
    },
    {
     "name": "stderr",
     "output_type": "stream",
     "text": [
      "2020-12-14 22:10:00,025 [DEBUG] kashgari - predict output: (280, 46)\n",
      "2020-12-14 22:10:00,026 [DEBUG] kashgari - predict output argmax: [[0 1 1 ... 1 1 1]\n",
      " [0 1 1 ... 1 1 1]\n",
      " [0 1 1 ... 1 1 1]\n",
      " ...\n",
      " [0 1 1 ... 1 1 1]\n",
      " [0 1 1 ... 1 1 1]\n",
      " [0 0 0 ... 0 0 0]]\n",
      "2020-12-14 22:10:00,030 [DEBUG] kashgari - predict seq_length: None, input: (2, 210, 20)\n"
     ]
    },
    {
     "name": "stdout",
     "output_type": "stream",
     "text": [
      "7/7 [==============================] - 0s 36ms/step\n"
     ]
    },
    {
     "name": "stderr",
     "output_type": "stream",
     "text": [
      "2020-12-14 22:10:00,349 [DEBUG] kashgari - predict output: (210, 20)\n",
      "2020-12-14 22:10:00,351 [DEBUG] kashgari - predict output argmax: [[0 1 1 ... 1 1 1]\n",
      " [0 1 1 ... 1 1 1]\n",
      " [0 1 0 ... 1 1 1]\n",
      " ...\n",
      " [0 1 0 ... 1 1 1]\n",
      " [0 1 1 ... 1 1 1]\n",
      " [0 0 0 ... 0 0 0]]\n",
      "2020-12-14 22:10:00,354 [DEBUG] kashgari - predict seq_length: None, input: (2, 176, 24)\n"
     ]
    },
    {
     "name": "stdout",
     "output_type": "stream",
     "text": [
      "6/6 [==============================] - 0s 38ms/step\n"
     ]
    },
    {
     "name": "stderr",
     "output_type": "stream",
     "text": [
      "2020-12-14 22:10:00,669 [DEBUG] kashgari - predict output: (176, 24)\n",
      "2020-12-14 22:10:00,670 [DEBUG] kashgari - predict output argmax: [[0 1 1 ... 1 1 1]\n",
      " [0 1 1 ... 1 1 1]\n",
      " [0 1 1 ... 1 1 1]\n",
      " ...\n",
      " [0 1 1 ... 1 1 1]\n",
      " [0 1 1 ... 1 1 1]\n",
      " [0 0 0 ... 0 0 0]]\n",
      "2020-12-14 22:10:00,675 [DEBUG] kashgari - predict seq_length: None, input: (2, 218, 25)\n"
     ]
    }
   ],
   "source": [
    "df = predicting_txt_to_dataframe('/home/Danny/AI-CUP-2020/datasets/stage5/test.txt')\n",
    "output_str = \"article_id\\tstart_position\\tend_position\\tentity_text\\tentity_type\\n\"\n",
    "\n",
    "for article_id, text in zip(df['article_id'], df['text']):\n",
    "    x_list = [word for word in text]\n",
    "    y_list = predict_NER(text)\n",
    "    output_str += output_NER(article_id, text, y_list)"
   ]
  },
  {
   "cell_type": "code",
   "execution_count": null,
   "metadata": {},
   "outputs": [],
   "source": [
    "# print(output_str)"
   ]
  },
  {
   "cell_type": "code",
   "execution_count": null,
   "metadata": {},
   "outputs": [],
   "source": [
    "output_path = 'output/{}_epoch_{}_batch_{}.tsv'.format(model_name, epochs, batch_size)\n",
    "with open(output_path, 'w', encoding='utf-8') as f:\n",
    "    f.write(output_str)"
   ]
  },
  {
   "cell_type": "code",
   "execution_count": null,
   "metadata": {},
   "outputs": [],
   "source": []
  }
 ],
 "metadata": {
  "kernelspec": {
   "display_name": "Python 3",
   "language": "python",
   "name": "python3"
  },
  "language_info": {
   "codemirror_mode": {
    "name": "ipython",
    "version": 3
   },
   "file_extension": ".py",
   "mimetype": "text/x-python",
   "name": "python",
   "nbconvert_exporter": "python",
   "pygments_lexer": "ipython3",
   "version": "3.6.10"
  }
 },
 "nbformat": 4,
 "nbformat_minor": 4
}
