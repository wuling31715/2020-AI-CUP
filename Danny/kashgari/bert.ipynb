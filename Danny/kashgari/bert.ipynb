{
 "cells": [
  {
   "cell_type": "code",
   "execution_count": 1,
   "metadata": {},
   "outputs": [
    {
     "name": "stdout",
     "output_type": "stream",
     "text": [
      "[PhysicalDevice(name='/physical_device:GPU:0', device_type='GPU'), PhysicalDevice(name='/physical_device:GPU:1', device_type='GPU'), PhysicalDevice(name='/physical_device:GPU:2', device_type='GPU')]\n",
      "3 Physical GPUs, 1 Logical GPUs\n"
     ]
    }
   ],
   "source": [
    "import tensorflow as tf\n",
    "\n",
    "def select_gpu(N):\n",
    "    gpus = tf.config.experimental.list_physical_devices('GPU')\n",
    "    print(gpus)\n",
    "    if gpus:\n",
    "        try:\n",
    "            for gpu in gpus:\n",
    "                tf.config.experimental.set_memory_growth(gpu, True)\n",
    "            tf.config.experimental.set_visible_devices(gpus[N], 'GPU')\n",
    "            logical_gpus = tf.config.experimental.list_logical_devices('GPU')\n",
    "            print(len(gpus), \"Physical GPUs,\", len(logical_gpus), \"Logical GPUs\")\n",
    "        except RuntimeError as e:\n",
    "            print(e)    \n",
    "\n",
    "select_gpu(2)"
   ]
  },
  {
   "cell_type": "code",
   "execution_count": 2,
   "metadata": {},
   "outputs": [],
   "source": [
    "import re"
   ]
  },
  {
   "cell_type": "code",
   "execution_count": 3,
   "metadata": {},
   "outputs": [],
   "source": [
    "sequence_length = 128\n",
    "epochs = 20\n",
    "model_name = 'bert-chinese'"
   ]
  },
  {
   "cell_type": "code",
   "execution_count": 4,
   "metadata": {},
   "outputs": [],
   "source": [
    "def txt_to_list(path, sequence_length):\n",
    "    with open(path, 'r') as f:\n",
    "        txt = str(f.read())\n",
    "    txt_list = txt.split('\\n')\n",
    "    text_label_list = list()\n",
    "    tmp = list()\n",
    "    for line in txt_list:\n",
    "        if line == '--------------------':\n",
    "            text_label_list.append(tmp)\n",
    "            tmp = list()\n",
    "            continue\n",
    "        if line == '':\n",
    "            continue\n",
    "        tmp.append(line)\n",
    "    x = list()\n",
    "    y = list()\n",
    "    for text_label in text_label_list:\n",
    "        text = text_label[0]\n",
    "#         text_list = [i for i in text]\n",
    "        label = text_label[2:]\n",
    "        label_list = ['O' for i in range(len(text))]\n",
    "        for i in label:\n",
    "            entity = i.split('\\t')\n",
    "            if int(entity[1]) > int(entity[2]):\n",
    "                continue\n",
    "#                 print(entity)            \n",
    "            b = int(entity[1])\n",
    "            label_list[b] = 'B-{}'.format(entity[-1])\n",
    "            for j in range(int(entity[1])+1, int(entity[2])):\n",
    "                label_list[j] = 'I-{}'.format(entity[-1])\n",
    "        for i, j in enumerate(text):\n",
    "            if j == '，' or j == '。' or j == '？':\n",
    "                label_list[i] = j\n",
    "        \n",
    "        text_list = re.split('\\uff0c|\\u3002|\\uff1f', text)\n",
    "        for sentence in text_list:\n",
    "#             while len(sentence) < sequence_length:\n",
    "#                 sentence += 'O'\n",
    "#             if len(sentence) > sequence_length:\n",
    "#                 sentence = sentence[:sequence_length]\n",
    "            x.append([i for i in sentence])\n",
    "            \n",
    "        tmp = list()\n",
    "        for i in label_list:\n",
    "            if i == '，' or i == '。' or i == '？':\n",
    "#                 while len(tmp) < sequence_length:\n",
    "#                     tmp.append('O')\n",
    "#                 if len(tmp) > sequence_length:\n",
    "#                     tmp = tmp[:sequence_length]\n",
    "                y.append(tmp)\n",
    "                tmp = list()\n",
    "            else:\n",
    "                tmp.append(i)\n",
    "        y.append(label_list)\n",
    "    return [x, y]"
   ]
  },
  {
   "cell_type": "code",
   "execution_count": 5,
   "metadata": {},
   "outputs": [],
   "source": [
    "x1, y1 = txt_to_list('/home/Danny/AI-CUP-2020/datasets/stage1/SampleData_deid.txt', sequence_length)"
   ]
  },
  {
   "cell_type": "code",
   "execution_count": 6,
   "metadata": {},
   "outputs": [],
   "source": [
    "x2, y2 = txt_to_list('/home/Danny/AI-CUP-2020/datasets/stage2/train_1_update.txt', sequence_length)"
   ]
  },
  {
   "cell_type": "code",
   "execution_count": 7,
   "metadata": {},
   "outputs": [],
   "source": [
    "x4, y4 = txt_to_list('/home/Danny/AI-CUP-2020/datasets/stage4/train_2.txt', sequence_length)"
   ]
  },
  {
   "cell_type": "code",
   "execution_count": 8,
   "metadata": {},
   "outputs": [
    {
     "name": "stdout",
     "output_type": "stream",
     "text": [
      "76508\n",
      "76508\n"
     ]
    }
   ],
   "source": [
    "x = x1 + x2 + x4\n",
    "y = y1 + y2 + y4\n",
    "print(len(x))\n",
    "print(len(y))"
   ]
  },
  {
   "cell_type": "code",
   "execution_count": 9,
   "metadata": {},
   "outputs": [
    {
     "name": "stdout",
     "output_type": "stream",
     "text": [
      "48964 48964\n",
      "12242 12242\n",
      "15302 15302\n"
     ]
    }
   ],
   "source": [
    "from sklearn.model_selection import train_test_split\n",
    "train_x, test_x, train_y, test_y = train_test_split(x, y, test_size=0.2, random_state=42)\n",
    "train_x, valid_x, train_y, valid_y = train_test_split(train_x, train_y, test_size=0.2, random_state=42)\n",
    "print(len(train_x), len(train_y))\n",
    "print(len(valid_x), len(valid_y))\n",
    "print(len(test_x), len(test_y))"
   ]
  },
  {
   "cell_type": "code",
   "execution_count": 10,
   "metadata": {},
   "outputs": [
    {
     "name": "stderr",
     "output_type": "stream",
     "text": [
      "2020-12-03 01:51:06,840 [DEBUG] kashgari - ------------------------------------------------\n",
      "2020-12-03 01:51:06,841 [DEBUG] kashgari - Loaded transformer model's vocab\n",
      "2020-12-03 01:51:06,841 [DEBUG] kashgari - config_path       : /home/Danny/pretrain_model/bert-chinese/bert_config.json\n",
      "2020-12-03 01:51:06,842 [DEBUG] kashgari - vocab_path      : /home/Danny/pretrain_model/bert-chinese/vocab.txt\n",
      "2020-12-03 01:51:06,842 [DEBUG] kashgari - checkpoint_path : /home/Danny/pretrain_model/bert-chinese/bert_model.ckpt\n",
      "2020-12-03 01:51:06,842 [DEBUG] kashgari - Top 50 words    : ['[PAD]', '[unused1]', '[unused2]', '[unused3]', '[unused4]', '[unused5]', '[unused6]', '[unused7]', '[unused8]', '[unused9]', '[unused10]', '[unused11]', '[unused12]', '[unused13]', '[unused14]', '[unused15]', '[unused16]', '[unused17]', '[unused18]', '[unused19]', '[unused20]', '[unused21]', '[unused22]', '[unused23]', '[unused24]', '[unused25]', '[unused26]', '[unused27]', '[unused28]', '[unused29]', '[unused30]', '[unused31]', '[unused32]', '[unused33]', '[unused34]', '[unused35]', '[unused36]', '[unused37]', '[unused38]', '[unused39]', '[unused40]', '[unused41]', '[unused42]', '[unused43]', '[unused44]', '[unused45]', '[unused46]', '[unused47]', '[unused48]', '[unused49]']\n",
      "2020-12-03 01:51:06,843 [DEBUG] kashgari - ------------------------------------------------\n",
      "Preparing text vocab dict: 100%|██████████| 48964/48964 [00:00<00:00, 419269.42it/s]\n",
      "Preparing text vocab dict: 100%|██████████| 12242/12242 [00:00<00:00, 479911.30it/s]\n",
      "2020-12-03 01:51:06,990 [DEBUG] kashgari - --- Build vocab dict finished, Total: 1738 ---\n",
      "2020-12-03 01:51:06,990 [DEBUG] kashgari - Top-10: ['[PAD]', '[UNK]', '[CLS]', '[SEP]', '：', '師', '是', '民', '眾', '醫']\n",
      "Preparing text vocab dict: 100%|██████████| 48964/48964 [00:00<00:00, 369200.33it/s]\n",
      "Preparing text vocab dict: 100%|██████████| 12242/12242 [00:00<00:00, 411072.62it/s]\n",
      "2020-12-03 01:51:07,155 [DEBUG] kashgari - --- Build vocab dict finished, Total: 31 ---\n",
      "2020-12-03 01:51:07,156 [DEBUG] kashgari - Top-10: ['[PAD]', 'O', '。', '，', 'I-time', '？', 'B-time', 'I-med_exam', 'I-name', 'I-location']\n",
      "Calculating sequence length: 100%|██████████| 48964/48964 [00:00<00:00, 1634147.88it/s]\n",
      "Calculating sequence length: 100%|██████████| 12242/12242 [00:00<00:00, 1706549.77it/s]\n",
      "2020-12-03 01:51:10,133 [DEBUG] kashgari - Calculated sequence length = 19\n",
      "2020-12-03 01:51:11,915 [DEBUG] kashgari - fit input shape: (2, 256, 19)\n",
      "2020-12-03 01:51:11,916 [DEBUG] kashgari - fit input shape: (256, 19)\n"
     ]
    },
    {
     "name": "stdout",
     "output_type": "stream",
     "text": [
      "Epoch 1/20\n",
      "191/191 [==============================] - 68s 357ms/step - loss: 0.7913 - accuracy: 0.9655 - val_loss: 26.5608 - val_accuracy: 0.9856\n",
      "Epoch 2/20\n",
      "191/191 [==============================] - 65s 341ms/step - loss: 0.2258 - accuracy: 0.9855 - val_loss: 26.2844 - val_accuracy: 0.9885\n",
      "Epoch 3/20\n",
      "191/191 [==============================] - 64s 336ms/step - loss: 0.1732 - accuracy: 0.9883 - val_loss: 26.1087 - val_accuracy: 0.9899\n",
      "Epoch 4/20\n",
      "191/191 [==============================] - 61s 317ms/step - loss: 0.1455 - accuracy: 0.9894 - val_loss: 25.9310 - val_accuracy: 0.9902\n",
      "Epoch 5/20\n",
      "191/191 [==============================] - 66s 344ms/step - loss: 0.1232 - accuracy: 0.9907 - val_loss: 25.7460 - val_accuracy: 0.9904\n",
      "Epoch 6/20\n",
      "191/191 [==============================] - 66s 344ms/step - loss: 0.1063 - accuracy: 0.9915 - val_loss: 25.5341 - val_accuracy: 0.9892\n",
      "Epoch 7/20\n",
      "191/191 [==============================] - 66s 344ms/step - loss: 0.0930 - accuracy: 0.9922 - val_loss: 25.3592 - val_accuracy: 0.9840\n",
      "Epoch 8/20\n",
      "191/191 [==============================] - 62s 327ms/step - loss: 0.0802 - accuracy: 0.9931 - val_loss: 25.1917 - val_accuracy: 0.9764\n",
      "Epoch 9/20\n",
      "191/191 [==============================] - 63s 331ms/step - loss: 0.0699 - accuracy: 0.9940 - val_loss: 25.0494 - val_accuracy: 0.9734\n",
      "Epoch 10/20\n",
      "191/191 [==============================] - 66s 344ms/step - loss: 0.0636 - accuracy: 0.9943 - val_loss: 24.8788 - val_accuracy: 0.7965\n",
      "Epoch 11/20\n",
      "191/191 [==============================] - 66s 345ms/step - loss: 0.0558 - accuracy: 0.9949 - val_loss: 24.7266 - val_accuracy: 0.4769\n",
      "Epoch 12/20\n",
      "191/191 [==============================] - 65s 342ms/step - loss: 0.0503 - accuracy: 0.9952 - val_loss: 24.5809 - val_accuracy: 0.3735\n",
      "Epoch 13/20\n",
      "191/191 [==============================] - 61s 317ms/step - loss: 0.0462 - accuracy: 0.9956 - val_loss: 24.4264 - val_accuracy: 0.3181\n",
      "Epoch 14/20\n",
      "191/191 [==============================] - 64s 335ms/step - loss: 0.0417 - accuracy: 0.9959 - val_loss: 24.3200 - val_accuracy: 0.2550\n",
      "Epoch 15/20\n",
      "191/191 [==============================] - 66s 344ms/step - loss: 0.0389 - accuracy: 0.9962 - val_loss: 24.1580 - val_accuracy: 0.2511\n",
      "Epoch 16/20\n",
      "191/191 [==============================] - 66s 344ms/step - loss: 0.0346 - accuracy: 0.9966 - val_loss: 24.0236 - val_accuracy: 0.2383\n",
      "Epoch 17/20\n",
      "191/191 [==============================] - 66s 346ms/step - loss: 0.0324 - accuracy: 0.9968 - val_loss: 23.8965 - val_accuracy: 0.0611\n",
      "Epoch 18/20\n",
      "191/191 [==============================] - 60s 317ms/step - loss: 0.0304 - accuracy: 0.9970 - val_loss: 23.7749 - val_accuracy: 0.0566\n",
      "Epoch 19/20\n",
      "191/191 [==============================] - 64s 337ms/step - loss: 0.0293 - accuracy: 0.9970 - val_loss: 23.6701 - val_accuracy: 0.0395\n",
      "Epoch 20/20\n",
      "191/191 [==============================] - 66s 344ms/step - loss: 0.0282 - accuracy: 0.9972 - val_loss: 23.5339 - val_accuracy: 0.0395\n"
     ]
    }
   ],
   "source": [
    "import kashgari\n",
    "from kashgari.tasks.labeling import BiLSTM_CRF_Model\n",
    "from kashgari.embeddings import BertEmbedding\n",
    "kashgari.config.use_cudnn_cell = True\n",
    "embed_path = '/home/Danny/pretrain_model/{}'.format(model_name)\n",
    "bert_embed = BertEmbedding(embed_path, sequence_length=sequence_length)\n",
    "model = BiLSTM_CRF_Model(bert_embed)\n",
    "model.summary()\n",
    "history = model.fit(train_x,\n",
    "                    train_y,\n",
    "                    valid_x,\n",
    "                    valid_y,\n",
    "                    epochs=epochs,\n",
    "                    batch_size=256,\n",
    "                   )"
   ]
  },
  {
   "cell_type": "code",
   "execution_count": null,
   "metadata": {},
   "outputs": [
    {
     "name": "stderr",
     "output_type": "stream",
     "text": [
      "2020-12-03 02:12:59,411 [WARNING] kashgari - Sequence length is None, will use the max length of the samples, which is 72\n",
      "2020-12-03 02:12:59,514 [DEBUG] kashgari - predict seq_length: None, input: (2, 15302, 72)\n"
     ]
    },
    {
     "name": "stdout",
     "output_type": "stream",
     "text": [
      "256/479 [===============>..............] - ETA: 44s"
     ]
    }
   ],
   "source": [
    "model.evaluate(test_x, test_y)\n",
    "model_path = 'model/{}-epoch-{}'.format(model_name, epochs)\n",
    "model.save(model_path)"
   ]
  },
  {
   "cell_type": "code",
   "execution_count": null,
   "metadata": {},
   "outputs": [],
   "source": [
    "from matplotlib import pyplot as plt"
   ]
  },
  {
   "cell_type": "code",
   "execution_count": null,
   "metadata": {},
   "outputs": [],
   "source": [
    "plt.plot(history.history['accuracy'])\n",
    "plt.plot(history.history['val_accuracy'])\n",
    "plt.plot(history.history['loss'])\n",
    "plt.plot(history.history['val_loss'])\n",
    "plt.title('model accuracy')\n",
    "plt.ylabel('accuracy')\n",
    "plt.xlabel('epoch')\n",
    "plt.legend(['accuracy', 'val_accuracy', 'loss', 'val_loss'])\n",
    "plt.show()"
   ]
  },
  {
   "cell_type": "code",
   "execution_count": null,
   "metadata": {},
   "outputs": [],
   "source": [
    "import pandas as pd\n",
    "df = pd.read_csv('/home/Danny/AI-CUP-2020/datasets/stage4/development_2.csv')\n",
    "df"
   ]
  },
  {
   "cell_type": "code",
   "execution_count": null,
   "metadata": {},
   "outputs": [],
   "source": [
    "def predict_NER(model, text, sequence_length):\n",
    "    x_list = list()\n",
    "    while len(text) > sequence_length:\n",
    "        x_list.append([i for i in text[:sequence_length]])\n",
    "        text = text[sequence_length:]        \n",
    "    x_list.append([i for i in text[:sequence_length]])\n",
    "    y_list = model.predict(x_list)\n",
    "    merge_list = list()\n",
    "    for i in y_list:\n",
    "        for j in i:\n",
    "            merge_list.append(j)\n",
    "    return merge_list"
   ]
  },
  {
   "cell_type": "code",
   "execution_count": null,
   "metadata": {},
   "outputs": [],
   "source": [
    "def output_NER(article_id, text, y):\n",
    "    output = str()\n",
    "    flag = False\n",
    "    for i, j in enumerate(y):\n",
    "        if j != 'O':\n",
    "            if j[0] == 'B':\n",
    "                start_position = i\n",
    "                entity_type = j.split('-')[-1]\n",
    "                flag = True\n",
    "        elif j == 'O' and flag == True:\n",
    "            end_position = i\n",
    "            flag = False\n",
    "            entity_text = text[start_position: end_position]\n",
    "            output += '{}\\t{}\\t{}\\t{}\\t{}\\n'.format(article_id, start_position, end_position, entity_text, entity_type)  \n",
    "    return output"
   ]
  },
  {
   "cell_type": "code",
   "execution_count": null,
   "metadata": {},
   "outputs": [],
   "source": [
    "output=\"article_id\\tstart_position\\tend_position\\tentity_text\\tentity_type\\n\"\n",
    "for article_id, text in zip(df['article_id'], df['text']):\n",
    "    y = predict_NER(model, text, sequence_length)\n",
    "    output += output_NER(article_id, text, y)"
   ]
  },
  {
   "cell_type": "code",
   "execution_count": null,
   "metadata": {},
   "outputs": [],
   "source": [
    "print(output)"
   ]
  },
  {
   "cell_type": "code",
   "execution_count": null,
   "metadata": {},
   "outputs": [],
   "source": [
    "output_path='output/{}-epo-{}.tsv'.format(model_name, epochs)\n",
    "with open(output_path, 'w', encoding='utf-8') as f:\n",
    "    f.write(output)"
   ]
  },
  {
   "cell_type": "code",
   "execution_count": null,
   "metadata": {},
   "outputs": [],
   "source": []
  }
 ],
 "metadata": {
  "kernelspec": {
   "display_name": "Python 3",
   "language": "python",
   "name": "python3"
  },
  "language_info": {
   "codemirror_mode": {
    "name": "ipython",
    "version": 3
   },
   "file_extension": ".py",
   "mimetype": "text/x-python",
   "name": "python",
   "nbconvert_exporter": "python",
   "pygments_lexer": "ipython3",
   "version": "3.6.10"
  }
 },
 "nbformat": 4,
 "nbformat_minor": 4
}
