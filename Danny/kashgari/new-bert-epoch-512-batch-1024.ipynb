{
 "cells": [
  {
   "cell_type": "code",
   "execution_count": 1,
   "metadata": {},
   "outputs": [],
   "source": [
    "import re\n",
    "import pandas as pd\n",
    "import tensorflow as tf\n",
    "from matplotlib import pyplot as plt"
   ]
  },
  {
   "cell_type": "code",
   "execution_count": 2,
   "metadata": {},
   "outputs": [],
   "source": [
    "def select_gpu(N):\n",
    "    gpus = tf.config.experimental.list_physical_devices('GPU')\n",
    "    print(gpus)\n",
    "    if gpus:\n",
    "        try:\n",
    "            for gpu in gpus:\n",
    "                tf.config.experimental.set_memory_growth(gpu, True)\n",
    "            tf.config.experimental.set_visible_devices(gpus[N], 'GPU')\n",
    "            logical_gpus = tf.config.experimental.list_logical_devices('GPU')\n",
    "            print(len(gpus), \"Physical GPUs,\", len(logical_gpus), \"Logical GPUs\")\n",
    "        except RuntimeError as e:\n",
    "            print(e)    "
   ]
  },
  {
   "cell_type": "code",
   "execution_count": 3,
   "metadata": {},
   "outputs": [
    {
     "name": "stdout",
     "output_type": "stream",
     "text": [
      "[PhysicalDevice(name='/physical_device:GPU:0', device_type='GPU'), PhysicalDevice(name='/physical_device:GPU:1', device_type='GPU'), PhysicalDevice(name='/physical_device:GPU:2', device_type='GPU')]\n",
      "3 Physical GPUs, 1 Logical GPUs\n"
     ]
    }
   ],
   "source": [
    "select_gpu(0)\n",
    "epochs = 512\n",
    "batch_size = 1024\n",
    "model_name = 'bert-chinese'\n",
    "embedding_path = '/home/Danny/pretrain_model/{}'.format(model_name)"
   ]
  },
  {
   "cell_type": "code",
   "execution_count": 4,
   "metadata": {},
   "outputs": [],
   "source": [
    "# 不用儲存article_id, 轉成list\n",
    "def training_txt_to_list(path):\n",
    "    with open(path, 'r') as f:\n",
    "        txt = str(f.read())\n",
    "    txt_list = txt.split('\\n')\n",
    "    text_label_list = list()\n",
    "    tmp = list()\n",
    "    for line in txt_list:\n",
    "        if line == '--------------------':\n",
    "            text_label_list.append(tmp)\n",
    "            tmp = list()\n",
    "            continue\n",
    "        if line == '':\n",
    "            continue\n",
    "        tmp.append(line)\n",
    "    x = list()\n",
    "    y = list()\n",
    "    for text_label in text_label_list:\n",
    "        text = text_label[0]\n",
    "        label = text_label[2:]\n",
    "        label_list = ['O' for i in range(len(text))]\n",
    "        for i in label:\n",
    "            entity = i.split('\\t')\n",
    "            if int(entity[1]) > int(entity[2]):\n",
    "                continue\n",
    "            b = int(entity[1])\n",
    "            label_list[b] = 'B-{}'.format(entity[-1])\n",
    "            for j in range(int(entity[1])+1, int(entity[2])):\n",
    "                label_list[j] = 'I-{}'.format(entity[-1])\n",
    "        for i, j in enumerate(text):\n",
    "            if j == '，' or j == '。' or j == '？':\n",
    "                label_list[i] = j\n",
    "                \n",
    "        text_list = re.split('\\uff0c|\\u3002|\\uff1f', text)\n",
    "        for sentence in text_list:\n",
    "            x.append([i for i in sentence])\n",
    "        x = x[:-1]\n",
    "            \n",
    "        sentence = list()\n",
    "        for i in label_list:\n",
    "            if i == '，' or i == '。' or i == '？':\n",
    "                y.append(sentence)\n",
    "                sentence = list()\n",
    "            else:\n",
    "                sentence.append(i)\n",
    "                \n",
    "    return [x, y]"
   ]
  },
  {
   "cell_type": "code",
   "execution_count": 5,
   "metadata": {},
   "outputs": [],
   "source": [
    "x1, y1 = training_txt_to_list('/home/Danny/AI-CUP-2020/datasets/stage1/SampleData_deid.txt')"
   ]
  },
  {
   "cell_type": "code",
   "execution_count": 6,
   "metadata": {},
   "outputs": [],
   "source": [
    "x2, y2 = training_txt_to_list('/home/Danny/AI-CUP-2020/datasets/stage2/train_1_update.txt')"
   ]
  },
  {
   "cell_type": "code",
   "execution_count": 7,
   "metadata": {},
   "outputs": [],
   "source": [
    "x4, y4 = training_txt_to_list('/home/Danny/AI-CUP-2020/datasets/stage4/train_2.txt')"
   ]
  },
  {
   "cell_type": "code",
   "execution_count": 8,
   "metadata": {},
   "outputs": [
    {
     "name": "stdout",
     "output_type": "stream",
     "text": [
      "76162\n",
      "76162\n"
     ]
    }
   ],
   "source": [
    "x = x1 + x2 + x4\n",
    "y = y1 + y2 + y4\n",
    "print(len(x))\n",
    "print(len(y))"
   ]
  },
  {
   "cell_type": "code",
   "execution_count": 9,
   "metadata": {},
   "outputs": [
    {
     "data": {
      "text/html": [
       "<div>\n",
       "<style scoped>\n",
       "    .dataframe tbody tr th:only-of-type {\n",
       "        vertical-align: middle;\n",
       "    }\n",
       "\n",
       "    .dataframe tbody tr th {\n",
       "        vertical-align: top;\n",
       "    }\n",
       "\n",
       "    .dataframe thead th {\n",
       "        text-align: right;\n",
       "    }\n",
       "</style>\n",
       "<table border=\"1\" class=\"dataframe\">\n",
       "  <thead>\n",
       "    <tr style=\"text-align: right;\">\n",
       "      <th></th>\n",
       "      <th>x</th>\n",
       "      <th>y</th>\n",
       "    </tr>\n",
       "  </thead>\n",
       "  <tbody>\n",
       "    <tr>\n",
       "      <th>0</th>\n",
       "      <td>[醫, 師, ：, 你, 有, 做, 超, 音, 波, 嘛]</td>\n",
       "      <td>[O, O, O, O, O, O, O, O, O, O]</td>\n",
       "    </tr>\n",
       "    <tr>\n",
       "      <th>1</th>\n",
       "      <td>[那, 我, 們, 來, 看, 報, 告]</td>\n",
       "      <td>[O, O, O, O, O, O, O]</td>\n",
       "    </tr>\n",
       "    <tr>\n",
       "      <th>2</th>\n",
       "      <td>[有, 些, 部, 分, 有, 紅, 字, 耶]</td>\n",
       "      <td>[O, O, O, O, O, O, O, O]</td>\n",
       "    </tr>\n",
       "    <tr>\n",
       "      <th>3</th>\n",
       "      <td>[民, 眾, ：, 紅, 字, 是, 甚, 麼, 意, 思]</td>\n",
       "      <td>[O, O, O, O, O, O, O, O, O, O]</td>\n",
       "    </tr>\n",
       "    <tr>\n",
       "      <th>4</th>\n",
       "      <td>[醫, 師, ：, 就, 是, 肝, 功, 能, 有, 比, 較, 高]</td>\n",
       "      <td>[O, O, O, O, O, O, O, O, O, O, O, O]</td>\n",
       "    </tr>\n",
       "    <tr>\n",
       "      <th>...</th>\n",
       "      <td>...</td>\n",
       "      <td>...</td>\n",
       "    </tr>\n",
       "    <tr>\n",
       "      <th>76157</th>\n",
       "      <td>[醫, 師, ：, 他, 有, 在, 騎, 腳, 踏, 車]</td>\n",
       "      <td>[O, O, O, O, O, O, O, O, O, O]</td>\n",
       "    </tr>\n",
       "    <tr>\n",
       "      <th>76158</th>\n",
       "      <td>[民, 眾, ：, 恩]</td>\n",
       "      <td>[O, O, O, O]</td>\n",
       "    </tr>\n",
       "    <tr>\n",
       "      <th>76159</th>\n",
       "      <td>[醫, 師, ：, 騎, 腳, 踏, 車, 可, 以]</td>\n",
       "      <td>[O, O, O, O, O, O, O, O, O]</td>\n",
       "    </tr>\n",
       "    <tr>\n",
       "      <th>76160</th>\n",
       "      <td>[小, 美]</td>\n",
       "      <td>[B-name, I-name]</td>\n",
       "    </tr>\n",
       "    <tr>\n",
       "      <th>76161</th>\n",
       "      <td>[那, 我, 們, 先, 讓, 他, 去, 照, 個, X, 光]</td>\n",
       "      <td>[O, O, O, O, O, O, O, O, O, O, O]</td>\n",
       "    </tr>\n",
       "  </tbody>\n",
       "</table>\n",
       "<p>76162 rows × 2 columns</p>\n",
       "</div>"
      ],
      "text/plain": [
       "                                          x  \\\n",
       "0            [醫, 師, ：, 你, 有, 做, 超, 音, 波, 嘛]   \n",
       "1                     [那, 我, 們, 來, 看, 報, 告]   \n",
       "2                  [有, 些, 部, 分, 有, 紅, 字, 耶]   \n",
       "3            [民, 眾, ：, 紅, 字, 是, 甚, 麼, 意, 思]   \n",
       "4      [醫, 師, ：, 就, 是, 肝, 功, 能, 有, 比, 較, 高]   \n",
       "...                                     ...   \n",
       "76157        [醫, 師, ：, 他, 有, 在, 騎, 腳, 踏, 車]   \n",
       "76158                          [民, 眾, ：, 恩]   \n",
       "76159           [醫, 師, ：, 騎, 腳, 踏, 車, 可, 以]   \n",
       "76160                                [小, 美]   \n",
       "76161     [那, 我, 們, 先, 讓, 他, 去, 照, 個, X, 光]   \n",
       "\n",
       "                                          y  \n",
       "0            [O, O, O, O, O, O, O, O, O, O]  \n",
       "1                     [O, O, O, O, O, O, O]  \n",
       "2                  [O, O, O, O, O, O, O, O]  \n",
       "3            [O, O, O, O, O, O, O, O, O, O]  \n",
       "4      [O, O, O, O, O, O, O, O, O, O, O, O]  \n",
       "...                                     ...  \n",
       "76157        [O, O, O, O, O, O, O, O, O, O]  \n",
       "76158                          [O, O, O, O]  \n",
       "76159           [O, O, O, O, O, O, O, O, O]  \n",
       "76160                      [B-name, I-name]  \n",
       "76161     [O, O, O, O, O, O, O, O, O, O, O]  \n",
       "\n",
       "[76162 rows x 2 columns]"
      ]
     },
     "execution_count": 9,
     "metadata": {},
     "output_type": "execute_result"
    }
   ],
   "source": [
    "df = pd.DataFrame({'x': x, 'y': y})\n",
    "df"
   ]
  },
  {
   "cell_type": "code",
   "execution_count": 10,
   "metadata": {},
   "outputs": [
    {
     "name": "stderr",
     "output_type": "stream",
     "text": [
      "/home/Danny/anaconda3/lib/python3.6/site-packages/ipykernel_launcher.py:4: SettingWithCopyWarning: \n",
      "A value is trying to be set on a copy of a slice from a DataFrame.\n",
      "Try using .loc[row_indexer,col_indexer] = value instead\n",
      "\n",
      "See the caveats in the documentation: https://pandas.pydata.org/pandas-docs/stable/user_guide/indexing.html#returning-a-view-versus-a-copy\n",
      "  after removing the cwd from sys.path.\n",
      "/home/Danny/anaconda3/lib/python3.6/site-packages/ipykernel_launcher.py:5: SettingWithCopyWarning: \n",
      "A value is trying to be set on a copy of a slice from a DataFrame.\n",
      "Try using .loc[row_indexer,col_indexer] = value instead\n",
      "\n",
      "See the caveats in the documentation: https://pandas.pydata.org/pandas-docs/stable/user_guide/indexing.html#returning-a-view-versus-a-copy\n",
      "  \"\"\"\n"
     ]
    },
    {
     "data": {
      "text/html": [
       "<div>\n",
       "<style scoped>\n",
       "    .dataframe tbody tr th:only-of-type {\n",
       "        vertical-align: middle;\n",
       "    }\n",
       "\n",
       "    .dataframe tbody tr th {\n",
       "        vertical-align: top;\n",
       "    }\n",
       "\n",
       "    .dataframe thead th {\n",
       "        text-align: right;\n",
       "    }\n",
       "</style>\n",
       "<table border=\"1\" class=\"dataframe\">\n",
       "  <thead>\n",
       "    <tr style=\"text-align: right;\">\n",
       "      <th></th>\n",
       "      <th>x</th>\n",
       "      <th>y</th>\n",
       "    </tr>\n",
       "  </thead>\n",
       "  <tbody>\n",
       "    <tr>\n",
       "      <th>0</th>\n",
       "      <td>[醫, 師, ：, 你, 有, 做, 超, 音, 波, 嘛]</td>\n",
       "      <td>[O, O, O, O, O, O, O, O, O, O]</td>\n",
       "    </tr>\n",
       "    <tr>\n",
       "      <th>1</th>\n",
       "      <td>[那, 我, 們, 來, 看, 報, 告]</td>\n",
       "      <td>[O, O, O, O, O, O, O]</td>\n",
       "    </tr>\n",
       "    <tr>\n",
       "      <th>2</th>\n",
       "      <td>[有, 些, 部, 分, 有, 紅, 字, 耶]</td>\n",
       "      <td>[O, O, O, O, O, O, O, O]</td>\n",
       "    </tr>\n",
       "    <tr>\n",
       "      <th>3</th>\n",
       "      <td>[民, 眾, ：, 紅, 字, 是, 甚, 麼, 意, 思]</td>\n",
       "      <td>[O, O, O, O, O, O, O, O, O, O]</td>\n",
       "    </tr>\n",
       "    <tr>\n",
       "      <th>4</th>\n",
       "      <td>[醫, 師, ：, 就, 是, 肝, 功, 能, 有, 比, 較, 高]</td>\n",
       "      <td>[O, O, O, O, O, O, O, O, O, O, O, O]</td>\n",
       "    </tr>\n",
       "    <tr>\n",
       "      <th>...</th>\n",
       "      <td>...</td>\n",
       "      <td>...</td>\n",
       "    </tr>\n",
       "    <tr>\n",
       "      <th>75713</th>\n",
       "      <td>[醫, 師, ：, 7, 4, 0, 3]</td>\n",
       "      <td>[O, O, O, B-ID, I-ID, I-ID, I-ID]</td>\n",
       "    </tr>\n",
       "    <tr>\n",
       "      <th>75714</th>\n",
       "      <td>[醫, 師, ：, 6, 6, 6, 0, 8, 9, 7, 4, 0, 3]</td>\n",
       "      <td>[O, O, O, B-ID, I-ID, I-ID, I-ID, I-ID, I-ID, ...</td>\n",
       "    </tr>\n",
       "    <tr>\n",
       "      <th>75716</th>\n",
       "      <td>[護, 理, 師, ：, 6, 6, 6, 0, 9, 8]</td>\n",
       "      <td>[O, O, O, O, B-ID, I-ID, I-ID, I-ID, I-ID, I-ID]</td>\n",
       "    </tr>\n",
       "    <tr>\n",
       "      <th>75717</th>\n",
       "      <td>[醫, 師, ：, 0, 9, 8, 7, 4, 0, 3]</td>\n",
       "      <td>[O, O, O, B-ID, I-ID, I-ID, I-ID, I-ID, I-ID, ...</td>\n",
       "    </tr>\n",
       "    <tr>\n",
       "      <th>76102</th>\n",
       "      <td>[好, 像, 是, 那, 時, 候, 跑, 完, 6, 0, 0, 0, 公, 尺]</td>\n",
       "      <td>[O, O, O, O, O, O, O, O, O, O, O, O, O, O]</td>\n",
       "    </tr>\n",
       "  </tbody>\n",
       "</table>\n",
       "<p>31521 rows × 2 columns</p>\n",
       "</div>"
      ],
      "text/plain": [
       "                                                x  \\\n",
       "0                  [醫, 師, ：, 你, 有, 做, 超, 音, 波, 嘛]   \n",
       "1                           [那, 我, 們, 來, 看, 報, 告]   \n",
       "2                        [有, 些, 部, 分, 有, 紅, 字, 耶]   \n",
       "3                  [民, 眾, ：, 紅, 字, 是, 甚, 麼, 意, 思]   \n",
       "4            [醫, 師, ：, 就, 是, 肝, 功, 能, 有, 比, 較, 高]   \n",
       "...                                           ...   \n",
       "75713                       [醫, 師, ：, 7, 4, 0, 3]   \n",
       "75714     [醫, 師, ：, 6, 6, 6, 0, 8, 9, 7, 4, 0, 3]   \n",
       "75716              [護, 理, 師, ：, 6, 6, 6, 0, 9, 8]   \n",
       "75717              [醫, 師, ：, 0, 9, 8, 7, 4, 0, 3]   \n",
       "76102  [好, 像, 是, 那, 時, 候, 跑, 完, 6, 0, 0, 0, 公, 尺]   \n",
       "\n",
       "                                                       y  \n",
       "0                         [O, O, O, O, O, O, O, O, O, O]  \n",
       "1                                  [O, O, O, O, O, O, O]  \n",
       "2                               [O, O, O, O, O, O, O, O]  \n",
       "3                         [O, O, O, O, O, O, O, O, O, O]  \n",
       "4                   [O, O, O, O, O, O, O, O, O, O, O, O]  \n",
       "...                                                  ...  \n",
       "75713                  [O, O, O, B-ID, I-ID, I-ID, I-ID]  \n",
       "75714  [O, O, O, B-ID, I-ID, I-ID, I-ID, I-ID, I-ID, ...  \n",
       "75716   [O, O, O, O, B-ID, I-ID, I-ID, I-ID, I-ID, I-ID]  \n",
       "75717  [O, O, O, B-ID, I-ID, I-ID, I-ID, I-ID, I-ID, ...  \n",
       "76102         [O, O, O, O, O, O, O, O, O, O, O, O, O, O]  \n",
       "\n",
       "[31521 rows x 2 columns]"
      ]
     },
     "execution_count": 10,
     "metadata": {},
     "output_type": "execute_result"
    }
   ],
   "source": [
    "df['x'] = df['x'].apply(lambda row : str(row))\n",
    "df['y'] = df['y'].apply(lambda row : str(row))\n",
    "df = df.drop_duplicates()\n",
    "df['x'] = df['x'].apply(lambda row : eval(row))\n",
    "df['y'] = df['y'].apply(lambda row : eval(row))\n",
    "df"
   ]
  },
  {
   "cell_type": "code",
   "execution_count": 11,
   "metadata": {},
   "outputs": [],
   "source": [
    "x = df['x'].to_list()\n",
    "y = df['y'].to_list()"
   ]
  },
  {
   "cell_type": "code",
   "execution_count": 12,
   "metadata": {},
   "outputs": [
    {
     "name": "stdout",
     "output_type": "stream",
     "text": [
      "20172 20172\n",
      "5044 5044\n",
      "6305 6305\n"
     ]
    }
   ],
   "source": [
    "from sklearn.model_selection import train_test_split\n",
    "train_x, test_x, train_y, test_y = train_test_split(x, y, test_size=0.2, random_state=42)\n",
    "train_x, valid_x, train_y, valid_y = train_test_split(train_x, train_y, test_size=0.2, random_state=42)\n",
    "print(len(train_x), len(train_y))\n",
    "print(len(valid_x), len(valid_y))\n",
    "print(len(test_x), len(test_y))"
   ]
  },
  {
   "cell_type": "code",
   "execution_count": 13,
   "metadata": {
    "scrolled": false
   },
   "outputs": [
    {
     "name": "stderr",
     "output_type": "stream",
     "text": [
      "2020-12-15 13:11:08,233 [DEBUG] kashgari - ------------------------------------------------\n",
      "2020-12-15 13:11:08,233 [DEBUG] kashgari - Loaded transformer model's vocab\n",
      "2020-12-15 13:11:08,234 [DEBUG] kashgari - config_path       : /home/Danny/pretrain_model/bert-chinese/bert_config.json\n",
      "2020-12-15 13:11:08,235 [DEBUG] kashgari - vocab_path      : /home/Danny/pretrain_model/bert-chinese/vocab.txt\n",
      "2020-12-15 13:11:08,235 [DEBUG] kashgari - checkpoint_path : /home/Danny/pretrain_model/bert-chinese/bert_model.ckpt\n",
      "2020-12-15 13:11:08,236 [DEBUG] kashgari - Top 50 words    : ['[PAD]', '[unused1]', '[unused2]', '[unused3]', '[unused4]', '[unused5]', '[unused6]', '[unused7]', '[unused8]', '[unused9]', '[unused10]', '[unused11]', '[unused12]', '[unused13]', '[unused14]', '[unused15]', '[unused16]', '[unused17]', '[unused18]', '[unused19]', '[unused20]', '[unused21]', '[unused22]', '[unused23]', '[unused24]', '[unused25]', '[unused26]', '[unused27]', '[unused28]', '[unused29]', '[unused30]', '[unused31]', '[unused32]', '[unused33]', '[unused34]', '[unused35]', '[unused36]', '[unused37]', '[unused38]', '[unused39]', '[unused40]', '[unused41]', '[unused42]', '[unused43]', '[unused44]', '[unused45]', '[unused46]', '[unused47]', '[unused48]', '[unused49]']\n",
      "2020-12-15 13:11:08,236 [DEBUG] kashgari - ------------------------------------------------\n",
      "Preparing text vocab dict: 100%|██████████| 20172/20172 [00:00<00:00, 379217.07it/s]\n",
      "Preparing text vocab dict: 100%|██████████| 5044/5044 [00:00<00:00, 390016.76it/s]\n",
      "2020-12-15 13:11:08,310 [DEBUG] kashgari - --- Build vocab dict finished, Total: 1551 ---\n",
      "2020-12-15 13:11:08,310 [DEBUG] kashgari - Top-10: ['[PAD]', '[UNK]', '[CLS]', '[SEP]', '：', '是', '師', '有', '醫', '個']\n",
      "Preparing text vocab dict: 100%|██████████| 20172/20172 [00:00<00:00, 521428.44it/s]\n",
      "Preparing text vocab dict: 100%|██████████| 5044/5044 [00:00<00:00, 532054.16it/s]\n",
      "2020-12-15 13:11:08,363 [DEBUG] kashgari - --- Build vocab dict finished, Total: 28 ---\n",
      "2020-12-15 13:11:08,364 [DEBUG] kashgari - Top-10: ['[PAD]', 'O', 'I-time', 'B-time', 'I-med_exam', 'I-name', 'I-location', 'B-med_exam', 'I-money', 'B-name']\n",
      "Calculating sequence length: 100%|██████████| 20172/20172 [00:00<00:00, 1349810.95it/s]\n",
      "Calculating sequence length: 100%|██████████| 5044/5044 [00:00<00:00, 1229146.49it/s]\n",
      "2020-12-15 13:12:33,966 [DEBUG] kashgari - Calculated sequence length = 21\n",
      "2020-12-15 13:12:36,977 [DEBUG] kashgari - fit input shape: (2, 1024, 21)\n",
      "2020-12-15 13:12:36,978 [DEBUG] kashgari - fit input shape: (1024, 21)\n"
     ]
    },
    {
     "name": "stdout",
     "output_type": "stream",
     "text": [
      "Epoch 1/512\n",
      "19/19 [==============================] - 18s 931ms/step - loss: 4.6722 - accuracy: 0.8503 - val_loss: 29.6126 - val_accuracy: 0.9701\n",
      "Epoch 2/512\n",
      "19/19 [==============================] - 13s 706ms/step - loss: 1.2668 - accuracy: 0.9660 - val_loss: 29.6904 - val_accuracy: 0.9696\n",
      "Epoch 3/512\n",
      "19/19 [==============================] - 13s 699ms/step - loss: 0.8944 - accuracy: 0.9700 - val_loss: 29.5175 - val_accuracy: 0.9753\n",
      "Epoch 4/512\n",
      "19/19 [==============================] - 13s 699ms/step - loss: 0.7169 - accuracy: 0.9734 - val_loss: 29.4567 - val_accuracy: 0.9769\n",
      "Epoch 5/512\n",
      "19/19 [==============================] - 13s 700ms/step - loss: 0.6138 - accuracy: 0.9755 - val_loss: 29.3248 - val_accuracy: 0.9789\n",
      "Epoch 6/512\n",
      "19/19 [==============================] - 13s 701ms/step - loss: 0.5412 - accuracy: 0.9776 - val_loss: 29.4935 - val_accuracy: 0.9803\n",
      "Epoch 7/512\n",
      "19/19 [==============================] - 13s 700ms/step - loss: 0.4846 - accuracy: 0.9783 - val_loss: 29.3893 - val_accuracy: 0.9771\n",
      "Epoch 8/512\n",
      "19/19 [==============================] - 13s 700ms/step - loss: 0.4376 - accuracy: 0.9796 - val_loss: 29.4190 - val_accuracy: 0.9779\n",
      "Epoch 9/512\n",
      "19/19 [==============================] - 13s 699ms/step - loss: 0.4035 - accuracy: 0.9809 - val_loss: 29.3285 - val_accuracy: 0.9800\n",
      "Epoch 10/512\n",
      "19/19 [==============================] - 14s 716ms/step - loss: 0.3874 - accuracy: 0.9813 - val_loss: 29.1859 - val_accuracy: 0.9808\n",
      "Epoch 11/512\n",
      "19/19 [==============================] - 13s 703ms/step - loss: 0.3484 - accuracy: 0.9831 - val_loss: 29.2745 - val_accuracy: 0.9808\n",
      "Epoch 12/512\n",
      "19/19 [==============================] - 13s 702ms/step - loss: 0.3393 - accuracy: 0.9830 - val_loss: 29.2315 - val_accuracy: 0.9812\n",
      "Epoch 13/512\n",
      "19/19 [==============================] - 14s 712ms/step - loss: 0.3203 - accuracy: 0.9841 - val_loss: 29.1644 - val_accuracy: 0.9807\n",
      "Epoch 14/512\n",
      "19/19 [==============================] - 14s 714ms/step - loss: 0.3021 - accuracy: 0.9847 - val_loss: 29.2591 - val_accuracy: 0.9817\n",
      "Epoch 15/512\n",
      "19/19 [==============================] - 13s 705ms/step - loss: 0.2861 - accuracy: 0.9856 - val_loss: 29.1514 - val_accuracy: 0.9812\n",
      "Epoch 16/512\n",
      "19/19 [==============================] - 13s 707ms/step - loss: 0.2815 - accuracy: 0.9857 - val_loss: 29.2842 - val_accuracy: 0.9822\n",
      "Epoch 17/512\n",
      "19/19 [==============================] - 13s 707ms/step - loss: 0.2652 - accuracy: 0.9866 - val_loss: 29.0395 - val_accuracy: 0.9821\n",
      "Epoch 18/512\n",
      "19/19 [==============================] - 13s 707ms/step - loss: 0.2535 - accuracy: 0.9863 - val_loss: 29.0588 - val_accuracy: 0.9819\n",
      "Epoch 19/512\n",
      "19/19 [==============================] - 13s 708ms/step - loss: 0.2458 - accuracy: 0.9869 - val_loss: 29.0232 - val_accuracy: 0.9817\n",
      "Epoch 20/512\n",
      "19/19 [==============================] - 13s 707ms/step - loss: 0.2336 - accuracy: 0.9879 - val_loss: 28.9321 - val_accuracy: 0.9814\n",
      "Epoch 21/512\n",
      "19/19 [==============================] - 14s 730ms/step - loss: 0.2230 - accuracy: 0.9883 - val_loss: 29.1333 - val_accuracy: 0.9820\n",
      "Epoch 22/512\n",
      "19/19 [==============================] - 14s 730ms/step - loss: 0.2136 - accuracy: 0.9885 - val_loss: 29.1225 - val_accuracy: 0.9823\n",
      "Epoch 23/512\n",
      "19/19 [==============================] - 14s 720ms/step - loss: 0.2082 - accuracy: 0.9885 - val_loss: 28.9180 - val_accuracy: 0.9829\n",
      "Epoch 24/512\n",
      "19/19 [==============================] - 13s 706ms/step - loss: 0.2027 - accuracy: 0.9891 - val_loss: 28.8911 - val_accuracy: 0.9809\n",
      "Epoch 25/512\n",
      "19/19 [==============================] - 13s 709ms/step - loss: 0.1917 - accuracy: 0.9894 - val_loss: 29.0367 - val_accuracy: 0.9826\n",
      "Epoch 26/512\n",
      "19/19 [==============================] - 13s 709ms/step - loss: 0.1873 - accuracy: 0.9897 - val_loss: 28.9023 - val_accuracy: 0.9819\n",
      "Epoch 27/512\n",
      "19/19 [==============================] - 13s 709ms/step - loss: 0.1805 - accuracy: 0.9899 - val_loss: 28.8500 - val_accuracy: 0.9833\n",
      "Epoch 28/512\n",
      "19/19 [==============================] - 13s 708ms/step - loss: 0.1675 - accuracy: 0.9906 - val_loss: 28.7758 - val_accuracy: 0.9832\n",
      "Epoch 29/512\n",
      "19/19 [==============================] - 13s 709ms/step - loss: 0.1634 - accuracy: 0.9909 - val_loss: 28.7608 - val_accuracy: 0.9842\n",
      "Epoch 30/512\n",
      "19/19 [==============================] - 13s 709ms/step - loss: 0.1648 - accuracy: 0.9906 - val_loss: 28.8221 - val_accuracy: 0.9830\n",
      "Epoch 31/512\n",
      "19/19 [==============================] - 14s 738ms/step - loss: 0.1528 - accuracy: 0.9914 - val_loss: 28.8668 - val_accuracy: 0.9839\n",
      "Epoch 32/512\n",
      "19/19 [==============================] - 13s 710ms/step - loss: 0.1489 - accuracy: 0.9917 - val_loss: 28.7885 - val_accuracy: 0.9824\n",
      "Epoch 33/512\n",
      "19/19 [==============================] - 14s 715ms/step - loss: 0.1422 - accuracy: 0.9922 - val_loss: 28.8658 - val_accuracy: 0.9835\n",
      "Epoch 34/512\n",
      "19/19 [==============================] - 13s 707ms/step - loss: 0.1333 - accuracy: 0.9924 - val_loss: 28.7869 - val_accuracy: 0.9837\n",
      "Epoch 35/512\n",
      "19/19 [==============================] - 13s 706ms/step - loss: 0.1327 - accuracy: 0.9926 - val_loss: 28.6558 - val_accuracy: 0.9822\n",
      "Epoch 36/512\n",
      "19/19 [==============================] - 13s 708ms/step - loss: 0.1265 - accuracy: 0.9930 - val_loss: 28.6499 - val_accuracy: 0.9824\n",
      "Epoch 37/512\n",
      "19/19 [==============================] - 13s 708ms/step - loss: 0.1224 - accuracy: 0.9928 - val_loss: 28.5043 - val_accuracy: 0.9827\n",
      "Epoch 38/512\n",
      "19/19 [==============================] - 13s 707ms/step - loss: 0.1176 - accuracy: 0.9934 - val_loss: 28.6325 - val_accuracy: 0.9828\n",
      "Epoch 39/512\n",
      "19/19 [==============================] - 13s 708ms/step - loss: 0.1182 - accuracy: 0.9932 - val_loss: 28.6769 - val_accuracy: 0.9800\n",
      "Epoch 40/512\n",
      "19/19 [==============================] - 14s 728ms/step - loss: 0.1130 - accuracy: 0.9937 - val_loss: 28.7266 - val_accuracy: 0.9841\n",
      "Epoch 41/512\n",
      "19/19 [==============================] - 14s 719ms/step - loss: 0.1092 - accuracy: 0.9939 - val_loss: 28.7228 - val_accuracy: 0.9822\n",
      "Epoch 42/512\n",
      "19/19 [==============================] - 14s 718ms/step - loss: 0.1030 - accuracy: 0.9943 - val_loss: 28.4617 - val_accuracy: 0.9828\n",
      "Epoch 43/512\n",
      "19/19 [==============================] - 14s 715ms/step - loss: 0.0982 - accuracy: 0.9945 - val_loss: 28.5742 - val_accuracy: 0.9813\n",
      "Epoch 44/512\n",
      "19/19 [==============================] - 14s 718ms/step - loss: 0.0963 - accuracy: 0.9946 - val_loss: 28.5331 - val_accuracy: 0.9825\n",
      "Epoch 45/512\n",
      "19/19 [==============================] - 14s 713ms/step - loss: 0.0942 - accuracy: 0.9945 - val_loss: 28.5164 - val_accuracy: 0.9826\n",
      "Epoch 46/512\n",
      "19/19 [==============================] - 14s 714ms/step - loss: 0.0880 - accuracy: 0.9952 - val_loss: 28.6195 - val_accuracy: 0.9831\n",
      "Epoch 47/512\n",
      "19/19 [==============================] - 14s 713ms/step - loss: 0.0892 - accuracy: 0.9951 - val_loss: 28.4473 - val_accuracy: 0.9807\n",
      "Epoch 48/512\n",
      "19/19 [==============================] - 14s 712ms/step - loss: 0.0862 - accuracy: 0.9949 - val_loss: 28.5683 - val_accuracy: 0.9833\n",
      "Epoch 49/512\n",
      "19/19 [==============================] - 14s 712ms/step - loss: 0.0823 - accuracy: 0.9954 - val_loss: 28.4841 - val_accuracy: 0.9819\n",
      "Epoch 50/512\n",
      "19/19 [==============================] - 14s 718ms/step - loss: 0.0896 - accuracy: 0.9949 - val_loss: 28.4290 - val_accuracy: 0.9830\n",
      "Epoch 51/512\n",
      "19/19 [==============================] - 14s 715ms/step - loss: 0.0813 - accuracy: 0.9953 - val_loss: 28.5348 - val_accuracy: 0.9809\n",
      "Epoch 52/512\n",
      "19/19 [==============================] - 14s 715ms/step - loss: 0.0804 - accuracy: 0.9953 - val_loss: 28.4135 - val_accuracy: 0.9841\n",
      "Epoch 53/512\n",
      "19/19 [==============================] - 14s 716ms/step - loss: 0.0768 - accuracy: 0.9955 - val_loss: 28.4242 - val_accuracy: 0.9822\n",
      "Epoch 54/512\n",
      "19/19 [==============================] - 14s 714ms/step - loss: 0.0707 - accuracy: 0.9960 - val_loss: 28.4618 - val_accuracy: 0.9820\n",
      "Epoch 55/512\n",
      "19/19 [==============================] - 14s 715ms/step - loss: 0.0681 - accuracy: 0.9962 - val_loss: 28.3902 - val_accuracy: 0.9834\n",
      "Epoch 56/512\n",
      "19/19 [==============================] - 14s 712ms/step - loss: 0.0676 - accuracy: 0.9960 - val_loss: 28.3868 - val_accuracy: 0.9817\n",
      "Epoch 57/512\n"
     ]
    },
    {
     "name": "stdout",
     "output_type": "stream",
     "text": [
      "19/19 [==============================] - 14s 713ms/step - loss: 0.0649 - accuracy: 0.9965 - val_loss: 28.4062 - val_accuracy: 0.9830\n",
      "Epoch 58/512\n",
      "19/19 [==============================] - 14s 712ms/step - loss: 0.0643 - accuracy: 0.9962 - val_loss: 28.4455 - val_accuracy: 0.9824\n",
      "Epoch 59/512\n",
      "19/19 [==============================] - 13s 706ms/step - loss: 0.0622 - accuracy: 0.9964 - val_loss: 28.3365 - val_accuracy: 0.9832\n",
      "Epoch 60/512\n",
      "19/19 [==============================] - 13s 706ms/step - loss: 0.0595 - accuracy: 0.9967 - val_loss: 28.2847 - val_accuracy: 0.9827\n",
      "Epoch 61/512\n",
      "19/19 [==============================] - 14s 716ms/step - loss: 0.0583 - accuracy: 0.9967 - val_loss: 28.2506 - val_accuracy: 0.9831\n",
      "Epoch 62/512\n",
      "19/19 [==============================] - 14s 715ms/step - loss: 0.0591 - accuracy: 0.9967 - val_loss: 28.1309 - val_accuracy: 0.9823\n",
      "Epoch 63/512\n",
      "19/19 [==============================] - 13s 705ms/step - loss: 0.0584 - accuracy: 0.9967 - val_loss: 28.2216 - val_accuracy: 0.9828\n",
      "Epoch 64/512\n",
      "19/19 [==============================] - 13s 704ms/step - loss: 0.0540 - accuracy: 0.9969 - val_loss: 28.3175 - val_accuracy: 0.9820\n",
      "Epoch 65/512\n",
      "19/19 [==============================] - 13s 705ms/step - loss: 0.0542 - accuracy: 0.9969 - val_loss: 28.1682 - val_accuracy: 0.9825\n",
      "Epoch 66/512\n",
      "19/19 [==============================] - 13s 705ms/step - loss: 0.0528 - accuracy: 0.9970 - val_loss: 28.1958 - val_accuracy: 0.9834\n",
      "Epoch 67/512\n",
      "19/19 [==============================] - 13s 705ms/step - loss: 0.0570 - accuracy: 0.9968 - val_loss: 28.3395 - val_accuracy: 0.9819\n",
      "Epoch 68/512\n",
      "19/19 [==============================] - 13s 708ms/step - loss: 0.0520 - accuracy: 0.9968 - val_loss: 28.1532 - val_accuracy: 0.9823\n",
      "Epoch 69/512\n",
      "19/19 [==============================] - 14s 724ms/step - loss: 0.0492 - accuracy: 0.9971 - val_loss: 28.0740 - val_accuracy: 0.9827\n",
      "Epoch 70/512\n",
      "19/19 [==============================] - 13s 708ms/step - loss: 0.0477 - accuracy: 0.9973 - val_loss: 28.2347 - val_accuracy: 0.9834\n",
      "Epoch 71/512\n",
      "19/19 [==============================] - 13s 709ms/step - loss: 0.0477 - accuracy: 0.9973 - val_loss: 28.2123 - val_accuracy: 0.9832\n",
      "Epoch 72/512\n",
      "19/19 [==============================] - 13s 707ms/step - loss: 0.0449 - accuracy: 0.9976 - val_loss: 28.2594 - val_accuracy: 0.9837\n",
      "Epoch 73/512\n",
      "19/19 [==============================] - 13s 709ms/step - loss: 0.0469 - accuracy: 0.9973 - val_loss: 28.3096 - val_accuracy: 0.9817\n",
      "Epoch 74/512\n",
      "19/19 [==============================] - 13s 708ms/step - loss: 0.0424 - accuracy: 0.9976 - val_loss: 28.2610 - val_accuracy: 0.9826\n",
      "Epoch 75/512\n",
      "19/19 [==============================] - 13s 707ms/step - loss: 0.0420 - accuracy: 0.9976 - val_loss: 28.1280 - val_accuracy: 0.9816\n",
      "Epoch 76/512\n",
      "19/19 [==============================] - 13s 709ms/step - loss: 0.0420 - accuracy: 0.9976 - val_loss: 28.2501 - val_accuracy: 0.9810\n",
      "Epoch 77/512\n",
      "19/19 [==============================] - 13s 708ms/step - loss: 0.0422 - accuracy: 0.9975 - val_loss: 28.1783 - val_accuracy: 0.9823\n",
      "Epoch 78/512\n",
      "19/19 [==============================] - 13s 709ms/step - loss: 0.0407 - accuracy: 0.9976 - val_loss: 28.2056 - val_accuracy: 0.9824\n",
      "Epoch 79/512\n",
      "19/19 [==============================] - 13s 709ms/step - loss: 0.0403 - accuracy: 0.9976 - val_loss: 28.2012 - val_accuracy: 0.9831\n",
      "Epoch 80/512\n",
      "19/19 [==============================] - 13s 709ms/step - loss: 0.0398 - accuracy: 0.9978 - val_loss: 28.1274 - val_accuracy: 0.9819\n",
      "Epoch 81/512\n",
      "19/19 [==============================] - 14s 718ms/step - loss: 0.0394 - accuracy: 0.9978 - val_loss: 28.0547 - val_accuracy: 0.9822\n",
      "Epoch 82/512\n",
      "19/19 [==============================] - 14s 717ms/step - loss: 0.0387 - accuracy: 0.9978 - val_loss: 28.2296 - val_accuracy: 0.9823\n",
      "Epoch 83/512\n",
      "19/19 [==============================] - 13s 708ms/step - loss: 0.0384 - accuracy: 0.9978 - val_loss: 28.1734 - val_accuracy: 0.9820\n",
      "Epoch 84/512\n",
      "19/19 [==============================] - 13s 707ms/step - loss: 0.0385 - accuracy: 0.9977 - val_loss: 28.0958 - val_accuracy: 0.9833\n",
      "Epoch 85/512\n",
      "19/19 [==============================] - 13s 709ms/step - loss: 0.0382 - accuracy: 0.9977 - val_loss: 28.1216 - val_accuracy: 0.9814\n",
      "Epoch 86/512\n",
      "19/19 [==============================] - 13s 709ms/step - loss: 0.0368 - accuracy: 0.9980 - val_loss: 28.1263 - val_accuracy: 0.9824\n",
      "Epoch 87/512\n",
      "19/19 [==============================] - 13s 709ms/step - loss: 0.0377 - accuracy: 0.9977 - val_loss: 28.0811 - val_accuracy: 0.9824\n",
      "Epoch 88/512\n",
      "19/19 [==============================] - 13s 708ms/step - loss: 0.0358 - accuracy: 0.9980 - val_loss: 28.1847 - val_accuracy: 0.9826\n",
      "Epoch 89/512\n",
      "19/19 [==============================] - 13s 709ms/step - loss: 0.0361 - accuracy: 0.9978 - val_loss: 28.0444 - val_accuracy: 0.9822\n",
      "Epoch 90/512\n",
      "19/19 [==============================] - 13s 709ms/step - loss: 0.0355 - accuracy: 0.9979 - val_loss: 28.1975 - val_accuracy: 0.9822\n",
      "Epoch 91/512\n",
      "19/19 [==============================] - 13s 708ms/step - loss: 0.0346 - accuracy: 0.9979 - val_loss: 28.0029 - val_accuracy: 0.9830\n",
      "Epoch 92/512\n",
      "19/19 [==============================] - 13s 709ms/step - loss: 0.0337 - accuracy: 0.9980 - val_loss: 28.0966 - val_accuracy: 0.9831\n",
      "Epoch 93/512\n",
      "19/19 [==============================] - 13s 709ms/step - loss: 0.0330 - accuracy: 0.9980 - val_loss: 28.0877 - val_accuracy: 0.9818\n",
      "Epoch 94/512\n",
      "19/19 [==============================] - 14s 711ms/step - loss: 0.0321 - accuracy: 0.9981 - val_loss: 27.9966 - val_accuracy: 0.9806\n",
      "Epoch 95/512\n",
      "19/19 [==============================] - 13s 709ms/step - loss: 0.0371 - accuracy: 0.9978 - val_loss: 27.9558 - val_accuracy: 0.9809\n",
      "Epoch 96/512\n",
      "19/19 [==============================] - 13s 708ms/step - loss: 0.0352 - accuracy: 0.9977 - val_loss: 28.0888 - val_accuracy: 0.9825\n",
      "Epoch 97/512\n",
      "19/19 [==============================] - 13s 709ms/step - loss: 0.0330 - accuracy: 0.9981 - val_loss: 27.9457 - val_accuracy: 0.9835\n",
      "Epoch 98/512\n",
      "19/19 [==============================] - 14s 711ms/step - loss: 0.0321 - accuracy: 0.9980 - val_loss: 27.9238 - val_accuracy: 0.9829\n",
      "Epoch 99/512\n",
      "19/19 [==============================] - 13s 709ms/step - loss: 0.0337 - accuracy: 0.9979 - val_loss: 28.0267 - val_accuracy: 0.9833\n",
      "Epoch 100/512\n",
      "19/19 [==============================] - 13s 709ms/step - loss: 0.0335 - accuracy: 0.9979 - val_loss: 27.8487 - val_accuracy: 0.9823\n",
      "Epoch 101/512\n",
      "19/19 [==============================] - 14s 721ms/step - loss: 0.0321 - accuracy: 0.9980 - val_loss: 27.9023 - val_accuracy: 0.9816\n",
      "Epoch 102/512\n",
      "19/19 [==============================] - 14s 720ms/step - loss: 0.0304 - accuracy: 0.9983 - val_loss: 27.9645 - val_accuracy: 0.9801\n",
      "Epoch 103/512\n",
      "19/19 [==============================] - 13s 707ms/step - loss: 0.0295 - accuracy: 0.9982 - val_loss: 27.8965 - val_accuracy: 0.9812\n",
      "Epoch 104/512\n",
      "19/19 [==============================] - 13s 708ms/step - loss: 0.0294 - accuracy: 0.9982 - val_loss: 27.9923 - val_accuracy: 0.9820\n",
      "Epoch 105/512\n",
      "19/19 [==============================] - 13s 709ms/step - loss: 0.0285 - accuracy: 0.9983 - val_loss: 27.9163 - val_accuracy: 0.9846\n",
      "Epoch 106/512\n",
      "19/19 [==============================] - 13s 710ms/step - loss: 0.0315 - accuracy: 0.9981 - val_loss: 27.9266 - val_accuracy: 0.9829\n",
      "Epoch 107/512\n",
      "19/19 [==============================] - 13s 709ms/step - loss: 0.0262 - accuracy: 0.9983 - val_loss: 27.7955 - val_accuracy: 0.9828\n",
      "Epoch 108/512\n",
      "19/19 [==============================] - 13s 708ms/step - loss: 0.0268 - accuracy: 0.9984 - val_loss: 27.8449 - val_accuracy: 0.9829\n",
      "Epoch 109/512\n",
      "19/19 [==============================] - 13s 709ms/step - loss: 0.0270 - accuracy: 0.9983 - val_loss: 27.7446 - val_accuracy: 0.9823\n",
      "Epoch 110/512\n",
      "19/19 [==============================] - 13s 708ms/step - loss: 0.0284 - accuracy: 0.9980 - val_loss: 27.8155 - val_accuracy: 0.9827\n",
      "Epoch 111/512\n",
      "19/19 [==============================] - 13s 709ms/step - loss: 0.0280 - accuracy: 0.9981 - val_loss: 27.8149 - val_accuracy: 0.9816\n",
      "Epoch 112/512\n",
      "19/19 [==============================] - 13s 710ms/step - loss: 0.0261 - accuracy: 0.9984 - val_loss: 27.9528 - val_accuracy: 0.9822\n",
      "Epoch 113/512\n"
     ]
    },
    {
     "name": "stdout",
     "output_type": "stream",
     "text": [
      "19/19 [==============================] - 13s 709ms/step - loss: 0.0259 - accuracy: 0.9984 - val_loss: 27.8214 - val_accuracy: 0.9830\n",
      "Epoch 114/512\n",
      "19/19 [==============================] - 13s 708ms/step - loss: 0.0249 - accuracy: 0.9985 - val_loss: 27.8218 - val_accuracy: 0.9835\n",
      "Epoch 115/512\n",
      "19/19 [==============================] - 13s 708ms/step - loss: 0.0257 - accuracy: 0.9985 - val_loss: 27.9049 - val_accuracy: 0.9812\n",
      "Epoch 116/512\n",
      "19/19 [==============================] - 13s 708ms/step - loss: 0.0244 - accuracy: 0.9985 - val_loss: 27.7747 - val_accuracy: 0.9821\n",
      "Epoch 117/512\n",
      "19/19 [==============================] - 13s 710ms/step - loss: 0.0240 - accuracy: 0.9985 - val_loss: 27.9970 - val_accuracy: 0.9799\n",
      "Epoch 118/512\n",
      "19/19 [==============================] - 13s 708ms/step - loss: 0.0243 - accuracy: 0.9984 - val_loss: 27.8337 - val_accuracy: 0.9808\n",
      "Epoch 119/512\n",
      "19/19 [==============================] - 13s 709ms/step - loss: 0.0275 - accuracy: 0.9982 - val_loss: 27.8757 - val_accuracy: 0.9808\n",
      "Epoch 120/512\n",
      "19/19 [==============================] - 13s 708ms/step - loss: 0.0265 - accuracy: 0.9982 - val_loss: 27.8555 - val_accuracy: 0.9809\n",
      "Epoch 121/512\n",
      "19/19 [==============================] - 14s 719ms/step - loss: 0.0222 - accuracy: 0.9985 - val_loss: 27.8570 - val_accuracy: 0.9828\n",
      "Epoch 122/512\n",
      "19/19 [==============================] - 14s 720ms/step - loss: 0.0240 - accuracy: 0.9984 - val_loss: 27.7700 - val_accuracy: 0.9806\n",
      "Epoch 123/512\n",
      "19/19 [==============================] - 13s 708ms/step - loss: 0.0259 - accuracy: 0.9983 - val_loss: 27.8917 - val_accuracy: 0.9796\n",
      "Epoch 124/512\n",
      "19/19 [==============================] - 13s 710ms/step - loss: 0.0225 - accuracy: 0.9986 - val_loss: 27.7547 - val_accuracy: 0.9816\n",
      "Epoch 125/512\n",
      "19/19 [==============================] - 13s 708ms/step - loss: 0.0218 - accuracy: 0.9986 - val_loss: 27.7365 - val_accuracy: 0.9818\n",
      "Epoch 126/512\n",
      "19/19 [==============================] - 13s 710ms/step - loss: 0.0214 - accuracy: 0.9986 - val_loss: 27.7816 - val_accuracy: 0.9827\n",
      "Epoch 127/512\n",
      "19/19 [==============================] - 13s 710ms/step - loss: 0.0257 - accuracy: 0.9984 - val_loss: 27.7079 - val_accuracy: 0.9816\n",
      "Epoch 128/512\n",
      "19/19 [==============================] - 13s 709ms/step - loss: 0.0231 - accuracy: 0.9985 - val_loss: 27.7072 - val_accuracy: 0.9819\n",
      "Epoch 129/512\n",
      "19/19 [==============================] - 13s 710ms/step - loss: 0.0224 - accuracy: 0.9986 - val_loss: 27.7314 - val_accuracy: 0.9795\n",
      "Epoch 130/512\n",
      "19/19 [==============================] - 13s 710ms/step - loss: 0.0230 - accuracy: 0.9985 - val_loss: 27.6435 - val_accuracy: 0.9808\n",
      "Epoch 131/512\n",
      "19/19 [==============================] - 13s 709ms/step - loss: 0.0230 - accuracy: 0.9986 - val_loss: 27.6480 - val_accuracy: 0.9807\n",
      "Epoch 132/512\n",
      "19/19 [==============================] - 13s 710ms/step - loss: 0.0209 - accuracy: 0.9986 - val_loss: 27.7314 - val_accuracy: 0.9804\n",
      "Epoch 133/512\n",
      "19/19 [==============================] - 13s 708ms/step - loss: 0.0216 - accuracy: 0.9987 - val_loss: 27.6462 - val_accuracy: 0.9798\n",
      "Epoch 134/512\n",
      "19/19 [==============================] - 13s 708ms/step - loss: 0.0204 - accuracy: 0.9986 - val_loss: 27.5861 - val_accuracy: 0.9807\n",
      "Epoch 135/512\n",
      "19/19 [==============================] - 13s 710ms/step - loss: 0.0199 - accuracy: 0.9987 - val_loss: 27.7649 - val_accuracy: 0.9804\n",
      "Epoch 136/512\n",
      "19/19 [==============================] - 13s 708ms/step - loss: 0.0221 - accuracy: 0.9985 - val_loss: 27.6465 - val_accuracy: 0.9811\n",
      "Epoch 137/512\n",
      "19/19 [==============================] - 13s 711ms/step - loss: 0.0207 - accuracy: 0.9987 - val_loss: 27.7852 - val_accuracy: 0.9808\n",
      "Epoch 138/512\n",
      "19/19 [==============================] - 13s 709ms/step - loss: 0.0196 - accuracy: 0.9988 - val_loss: 27.6787 - val_accuracy: 0.9767\n",
      "Epoch 139/512\n",
      "19/19 [==============================] - 13s 710ms/step - loss: 0.0195 - accuracy: 0.9988 - val_loss: 27.7463 - val_accuracy: 0.9778\n",
      "Epoch 140/512\n",
      "19/19 [==============================] - 13s 710ms/step - loss: 0.0210 - accuracy: 0.9986 - val_loss: 27.7340 - val_accuracy: 0.9771\n",
      "Epoch 141/512\n",
      "19/19 [==============================] - 14s 719ms/step - loss: 0.0207 - accuracy: 0.9986 - val_loss: 27.5567 - val_accuracy: 0.9761\n",
      "Epoch 142/512\n",
      "19/19 [==============================] - 14s 718ms/step - loss: 0.0192 - accuracy: 0.9988 - val_loss: 27.5912 - val_accuracy: 0.9769\n",
      "Epoch 143/512\n",
      "19/19 [==============================] - 13s 710ms/step - loss: 0.0196 - accuracy: 0.9986 - val_loss: 27.6662 - val_accuracy: 0.9779\n",
      "Epoch 144/512\n",
      "19/19 [==============================] - 13s 709ms/step - loss: 0.0213 - accuracy: 0.9985 - val_loss: 27.6582 - val_accuracy: 0.9767\n",
      "Epoch 145/512\n",
      "19/19 [==============================] - 13s 708ms/step - loss: 0.0197 - accuracy: 0.9987 - val_loss: 27.6160 - val_accuracy: 0.9780\n",
      "Epoch 146/512\n",
      "19/19 [==============================] - 13s 708ms/step - loss: 0.0181 - accuracy: 0.9988 - val_loss: 27.6787 - val_accuracy: 0.9767\n",
      "Epoch 147/512\n",
      "19/19 [==============================] - 13s 709ms/step - loss: 0.0202 - accuracy: 0.9986 - val_loss: 27.7141 - val_accuracy: 0.9771\n",
      "Epoch 148/512\n",
      "19/19 [==============================] - 13s 707ms/step - loss: 0.0212 - accuracy: 0.9984 - val_loss: 27.6867 - val_accuracy: 0.9791\n",
      "Epoch 149/512\n",
      "19/19 [==============================] - 13s 709ms/step - loss: 0.0201 - accuracy: 0.9987 - val_loss: 27.5130 - val_accuracy: 0.9784\n",
      "Epoch 150/512\n",
      "19/19 [==============================] - 13s 708ms/step - loss: 0.0191 - accuracy: 0.9987 - val_loss: 27.5383 - val_accuracy: 0.9760\n",
      "Epoch 151/512\n",
      "19/19 [==============================] - 14s 727ms/step - loss: 0.0187 - accuracy: 0.9986 - val_loss: 27.5128 - val_accuracy: 0.9770\n",
      "Epoch 152/512\n",
      "19/19 [==============================] - 14s 711ms/step - loss: 0.0172 - accuracy: 0.9988 - val_loss: 27.6459 - val_accuracy: 0.9774\n",
      "Epoch 153/512\n",
      "19/19 [==============================] - 13s 709ms/step - loss: 0.0182 - accuracy: 0.9987 - val_loss: 27.5612 - val_accuracy: 0.9766\n",
      "Epoch 154/512\n",
      "19/19 [==============================] - 13s 708ms/step - loss: 0.0177 - accuracy: 0.9987 - val_loss: 27.3670 - val_accuracy: 0.9758\n",
      "Epoch 155/512\n",
      "19/19 [==============================] - 13s 709ms/step - loss: 0.0181 - accuracy: 0.9987 - val_loss: 27.5049 - val_accuracy: 0.9774\n",
      "Epoch 156/512\n",
      "19/19 [==============================] - 13s 710ms/step - loss: 0.0164 - accuracy: 0.9988 - val_loss: 27.4866 - val_accuracy: 0.9769\n",
      "Epoch 157/512\n",
      "19/19 [==============================] - 13s 710ms/step - loss: 0.0173 - accuracy: 0.9988 - val_loss: 27.5847 - val_accuracy: 0.9754\n",
      "Epoch 158/512\n",
      "19/19 [==============================] - 13s 709ms/step - loss: 0.0162 - accuracy: 0.9989 - val_loss: 27.5533 - val_accuracy: 0.9762\n",
      "Epoch 159/512\n",
      "19/19 [==============================] - 13s 708ms/step - loss: 0.0174 - accuracy: 0.9987 - val_loss: 27.5338 - val_accuracy: 0.9750\n",
      "Epoch 160/512\n",
      "19/19 [==============================] - 14s 711ms/step - loss: 0.0155 - accuracy: 0.9988 - val_loss: 27.4864 - val_accuracy: 0.9774\n",
      "Epoch 161/512\n",
      "19/19 [==============================] - 14s 719ms/step - loss: 0.0183 - accuracy: 0.9988 - val_loss: 27.4893 - val_accuracy: 0.9757\n",
      "Epoch 162/512\n",
      "19/19 [==============================] - 14s 719ms/step - loss: 0.0165 - accuracy: 0.9988 - val_loss: 27.4815 - val_accuracy: 0.9767\n",
      "Epoch 163/512\n",
      "19/19 [==============================] - 13s 707ms/step - loss: 0.0162 - accuracy: 0.9989 - val_loss: 27.4593 - val_accuracy: 0.9755\n",
      "Epoch 164/512\n",
      "19/19 [==============================] - 13s 709ms/step - loss: 0.0186 - accuracy: 0.9986 - val_loss: 27.4885 - val_accuracy: 0.9764\n",
      "Epoch 165/512\n",
      "19/19 [==============================] - 13s 710ms/step - loss: 0.0161 - accuracy: 0.9989 - val_loss: 27.3579 - val_accuracy: 0.9779\n",
      "Epoch 166/512\n",
      "19/19 [==============================] - 13s 709ms/step - loss: 0.0173 - accuracy: 0.9988 - val_loss: 27.5069 - val_accuracy: 0.9782\n",
      "Epoch 167/512\n",
      "19/19 [==============================] - 13s 709ms/step - loss: 0.0163 - accuracy: 0.9987 - val_loss: 27.4920 - val_accuracy: 0.9792\n",
      "Epoch 168/512\n",
      "19/19 [==============================] - 13s 710ms/step - loss: 0.0170 - accuracy: 0.9988 - val_loss: 27.4240 - val_accuracy: 0.9791\n"
     ]
    },
    {
     "name": "stdout",
     "output_type": "stream",
     "text": [
      "Epoch 169/512\n",
      "19/19 [==============================] - 13s 707ms/step - loss: 0.0171 - accuracy: 0.9988 - val_loss: 27.4960 - val_accuracy: 0.9769\n",
      "Epoch 170/512\n",
      "19/19 [==============================] - 13s 709ms/step - loss: 0.0175 - accuracy: 0.9987 - val_loss: 27.4751 - val_accuracy: 0.9768\n",
      "Epoch 171/512\n",
      "19/19 [==============================] - 13s 708ms/step - loss: 0.0142 - accuracy: 0.9990 - val_loss: 27.4288 - val_accuracy: 0.9759\n",
      "Epoch 172/512\n",
      "19/19 [==============================] - 14s 726ms/step - loss: 0.0151 - accuracy: 0.9989 - val_loss: 27.3509 - val_accuracy: 0.9753\n",
      "Epoch 173/512\n",
      "19/19 [==============================] - 13s 708ms/step - loss: 0.0167 - accuracy: 0.9988 - val_loss: 27.3253 - val_accuracy: 0.9764\n",
      "Epoch 174/512\n",
      "19/19 [==============================] - 13s 709ms/step - loss: 0.0156 - accuracy: 0.9989 - val_loss: 27.3427 - val_accuracy: 0.9753\n",
      "Epoch 175/512\n",
      "19/19 [==============================] - 13s 708ms/step - loss: 0.0148 - accuracy: 0.9990 - val_loss: 27.3259 - val_accuracy: 0.9757\n",
      "Epoch 176/512\n",
      "19/19 [==============================] - 14s 711ms/step - loss: 0.0157 - accuracy: 0.9988 - val_loss: 27.3277 - val_accuracy: 0.9746\n",
      "Epoch 177/512\n",
      "19/19 [==============================] - 13s 708ms/step - loss: 0.0150 - accuracy: 0.9989 - val_loss: 27.3631 - val_accuracy: 0.9752\n",
      "Epoch 178/512\n",
      "19/19 [==============================] - 13s 710ms/step - loss: 0.0168 - accuracy: 0.9986 - val_loss: 27.4888 - val_accuracy: 0.9744\n",
      "Epoch 179/512\n",
      "19/19 [==============================] - 13s 710ms/step - loss: 0.0164 - accuracy: 0.9988 - val_loss: 27.4862 - val_accuracy: 0.9768\n",
      "Epoch 180/512\n",
      "19/19 [==============================] - 13s 709ms/step - loss: 0.0158 - accuracy: 0.9988 - val_loss: 27.4140 - val_accuracy: 0.9775\n",
      "Epoch 181/512\n",
      "19/19 [==============================] - 14s 721ms/step - loss: 0.0152 - accuracy: 0.9988 - val_loss: 27.3887 - val_accuracy: 0.9728\n",
      "Epoch 182/512\n",
      "19/19 [==============================] - 14s 718ms/step - loss: 0.0163 - accuracy: 0.9988 - val_loss: 27.1651 - val_accuracy: 0.9746\n",
      "Epoch 183/512\n",
      "19/19 [==============================] - 13s 709ms/step - loss: 0.0180 - accuracy: 0.9987 - val_loss: 27.1892 - val_accuracy: 0.9764\n",
      "Epoch 184/512\n",
      "19/19 [==============================] - 14s 711ms/step - loss: 0.0168 - accuracy: 0.9986 - val_loss: 27.1476 - val_accuracy: 0.9771\n",
      "Epoch 185/512\n",
      "19/19 [==============================] - 13s 709ms/step - loss: 0.0167 - accuracy: 0.9987 - val_loss: 27.3925 - val_accuracy: 0.9760\n",
      "Epoch 186/512\n",
      "19/19 [==============================] - 13s 709ms/step - loss: 0.0151 - accuracy: 0.9987 - val_loss: 27.4618 - val_accuracy: 0.9780\n",
      "Epoch 187/512\n",
      "19/19 [==============================] - 13s 710ms/step - loss: 0.0142 - accuracy: 0.9990 - val_loss: 27.2921 - val_accuracy: 0.9765\n",
      "Epoch 188/512\n",
      "19/19 [==============================] - 14s 711ms/step - loss: 0.0156 - accuracy: 0.9987 - val_loss: 27.3281 - val_accuracy: 0.9772\n",
      "Epoch 189/512\n",
      "19/19 [==============================] - 13s 710ms/step - loss: 0.0152 - accuracy: 0.9988 - val_loss: 27.2513 - val_accuracy: 0.9769\n",
      "Epoch 190/512\n",
      "19/19 [==============================] - 13s 710ms/step - loss: 0.0142 - accuracy: 0.9989 - val_loss: 27.2911 - val_accuracy: 0.9779\n",
      "Epoch 191/512\n",
      "19/19 [==============================] - 13s 710ms/step - loss: 0.0150 - accuracy: 0.9989 - val_loss: 27.3371 - val_accuracy: 0.9754\n",
      "Epoch 192/512\n",
      "19/19 [==============================] - 13s 710ms/step - loss: 0.0156 - accuracy: 0.9988 - val_loss: 27.1174 - val_accuracy: 0.9771\n",
      "Epoch 193/512\n",
      "19/19 [==============================] - 13s 709ms/step - loss: 0.0146 - accuracy: 0.9989 - val_loss: 27.3380 - val_accuracy: 0.9766\n",
      "Epoch 194/512\n",
      "19/19 [==============================] - 14s 727ms/step - loss: 0.0154 - accuracy: 0.9988 - val_loss: 27.2651 - val_accuracy: 0.9766\n",
      "Epoch 195/512\n",
      "19/19 [==============================] - 13s 710ms/step - loss: 0.0137 - accuracy: 0.9990 - val_loss: 27.0906 - val_accuracy: 0.9761\n",
      "Epoch 196/512\n",
      "19/19 [==============================] - 14s 711ms/step - loss: 0.0157 - accuracy: 0.9988 - val_loss: 27.2444 - val_accuracy: 0.9767\n",
      "Epoch 197/512\n",
      "19/19 [==============================] - 13s 709ms/step - loss: 0.0150 - accuracy: 0.9988 - val_loss: 27.2415 - val_accuracy: 0.9757\n",
      "Epoch 198/512\n",
      "19/19 [==============================] - 13s 709ms/step - loss: 0.0148 - accuracy: 0.9987 - val_loss: 27.1665 - val_accuracy: 0.9729\n",
      "Epoch 199/512\n",
      "19/19 [==============================] - 13s 709ms/step - loss: 0.0138 - accuracy: 0.9989 - val_loss: 27.1400 - val_accuracy: 0.9776\n",
      "Epoch 200/512\n",
      "19/19 [==============================] - 13s 709ms/step - loss: 0.0153 - accuracy: 0.9987 - val_loss: 27.1955 - val_accuracy: 0.9753\n",
      "Epoch 201/512\n",
      "19/19 [==============================] - 14s 720ms/step - loss: 0.0148 - accuracy: 0.9988 - val_loss: 27.2573 - val_accuracy: 0.9751\n",
      "Epoch 202/512\n",
      "19/19 [==============================] - 14s 719ms/step - loss: 0.0152 - accuracy: 0.9987 - val_loss: 27.1678 - val_accuracy: 0.9766\n",
      "Epoch 203/512\n",
      "19/19 [==============================] - 13s 710ms/step - loss: 0.0137 - accuracy: 0.9988 - val_loss: 27.1590 - val_accuracy: 0.9755\n",
      "Epoch 204/512\n",
      "19/19 [==============================] - 13s 710ms/step - loss: 0.0149 - accuracy: 0.9987 - val_loss: 27.1544 - val_accuracy: 0.9751\n",
      "Epoch 205/512\n",
      "19/19 [==============================] - 13s 710ms/step - loss: 0.0140 - accuracy: 0.9987 - val_loss: 27.1112 - val_accuracy: 0.9764\n",
      "Epoch 206/512\n",
      "19/19 [==============================] - 13s 710ms/step - loss: 0.0135 - accuracy: 0.9989 - val_loss: 27.1260 - val_accuracy: 0.9774\n",
      "Epoch 207/512\n",
      "19/19 [==============================] - 14s 711ms/step - loss: 0.0137 - accuracy: 0.9989 - val_loss: 27.1063 - val_accuracy: 0.9770\n",
      "Epoch 208/512\n",
      "19/19 [==============================] - 13s 710ms/step - loss: 0.0127 - accuracy: 0.9990 - val_loss: 27.1289 - val_accuracy: 0.9767\n",
      "Epoch 209/512\n",
      "19/19 [==============================] - 13s 710ms/step - loss: 0.0147 - accuracy: 0.9988 - val_loss: 27.0570 - val_accuracy: 0.9783\n",
      "Epoch 210/512\n",
      "19/19 [==============================] - 13s 710ms/step - loss: 0.0127 - accuracy: 0.9990 - val_loss: 27.1100 - val_accuracy: 0.9775\n",
      "Epoch 211/512\n",
      "19/19 [==============================] - 13s 710ms/step - loss: 0.0133 - accuracy: 0.9990 - val_loss: 27.0352 - val_accuracy: 0.9756\n",
      "Epoch 212/512\n",
      "19/19 [==============================] - 13s 709ms/step - loss: 0.0128 - accuracy: 0.9988 - val_loss: 26.9969 - val_accuracy: 0.9746\n",
      "Epoch 213/512\n",
      "19/19 [==============================] - 14s 711ms/step - loss: 0.0128 - accuracy: 0.9989 - val_loss: 27.1434 - val_accuracy: 0.9754\n",
      "Epoch 214/512\n",
      "19/19 [==============================] - 13s 709ms/step - loss: 0.0124 - accuracy: 0.9990 - val_loss: 26.9839 - val_accuracy: 0.9762\n",
      "Epoch 215/512\n",
      "19/19 [==============================] - 13s 710ms/step - loss: 0.0130 - accuracy: 0.9987 - val_loss: 27.1450 - val_accuracy: 0.9736\n",
      "Epoch 216/512\n",
      "19/19 [==============================] - 13s 710ms/step - loss: 0.0142 - accuracy: 0.9987 - val_loss: 27.2372 - val_accuracy: 0.9758\n",
      "Epoch 217/512\n",
      "19/19 [==============================] - 13s 709ms/step - loss: 0.0139 - accuracy: 0.9989 - val_loss: 27.0523 - val_accuracy: 0.9729\n",
      "Epoch 218/512\n",
      "19/19 [==============================] - 14s 711ms/step - loss: 0.0121 - accuracy: 0.9991 - val_loss: 27.1190 - val_accuracy: 0.9696\n",
      "Epoch 219/512\n",
      "19/19 [==============================] - 13s 710ms/step - loss: 0.0120 - accuracy: 0.9989 - val_loss: 26.9767 - val_accuracy: 0.9682\n",
      "Epoch 220/512\n",
      "19/19 [==============================] - 14s 712ms/step - loss: 0.0113 - accuracy: 0.9990 - val_loss: 27.0089 - val_accuracy: 0.9543\n",
      "Epoch 221/512\n",
      "19/19 [==============================] - 14s 721ms/step - loss: 0.0127 - accuracy: 0.9989 - val_loss: 26.9897 - val_accuracy: 0.8482\n",
      "Epoch 222/512\n",
      "19/19 [==============================] - 14s 721ms/step - loss: 0.0119 - accuracy: 0.9989 - val_loss: 27.0160 - val_accuracy: 0.8481\n",
      "Epoch 223/512\n",
      "19/19 [==============================] - 14s 711ms/step - loss: 0.0138 - accuracy: 0.9987 - val_loss: 27.1662 - val_accuracy: 0.8232\n",
      "Epoch 224/512\n",
      "19/19 [==============================] - 13s 709ms/step - loss: 0.0115 - accuracy: 0.9990 - val_loss: 27.0686 - val_accuracy: 0.8216\n"
     ]
    },
    {
     "name": "stdout",
     "output_type": "stream",
     "text": [
      "Epoch 225/512\n",
      "19/19 [==============================] - 13s 710ms/step - loss: 0.0132 - accuracy: 0.9989 - val_loss: 26.9555 - val_accuracy: 0.7924\n",
      "Epoch 226/512\n",
      "19/19 [==============================] - 13s 709ms/step - loss: 0.0121 - accuracy: 0.9989 - val_loss: 26.9516 - val_accuracy: 0.7945\n",
      "Epoch 227/512\n",
      "19/19 [==============================] - 13s 710ms/step - loss: 0.0113 - accuracy: 0.9990 - val_loss: 26.8896 - val_accuracy: 0.7978\n",
      "Epoch 228/512\n",
      "19/19 [==============================] - 13s 709ms/step - loss: 0.0117 - accuracy: 0.9989 - val_loss: 26.9233 - val_accuracy: 0.7996\n",
      "Epoch 229/512\n",
      "19/19 [==============================] - 13s 709ms/step - loss: 0.0127 - accuracy: 0.9988 - val_loss: 26.9252 - val_accuracy: 0.7599\n",
      "Epoch 230/512\n",
      "19/19 [==============================] - 13s 710ms/step - loss: 0.0120 - accuracy: 0.9989 - val_loss: 27.0396 - val_accuracy: 0.7588\n",
      "Epoch 231/512\n",
      "19/19 [==============================] - 13s 710ms/step - loss: 0.0128 - accuracy: 0.9989 - val_loss: 26.8693 - val_accuracy: 0.7604\n",
      "Epoch 232/512\n",
      "19/19 [==============================] - 13s 708ms/step - loss: 0.0126 - accuracy: 0.9989 - val_loss: 26.8660 - val_accuracy: 0.7229\n",
      "Epoch 233/512\n",
      "19/19 [==============================] - 13s 709ms/step - loss: 0.0127 - accuracy: 0.9988 - val_loss: 26.8991 - val_accuracy: 0.7213\n",
      "Epoch 234/512\n",
      "19/19 [==============================] - 13s 710ms/step - loss: 0.0122 - accuracy: 0.9990 - val_loss: 26.9411 - val_accuracy: 0.6757\n",
      "Epoch 235/512\n",
      "19/19 [==============================] - 14s 711ms/step - loss: 0.0108 - accuracy: 0.9990 - val_loss: 26.9832 - val_accuracy: 0.6734\n",
      "Epoch 236/512\n",
      "19/19 [==============================] - 13s 709ms/step - loss: 0.0115 - accuracy: 0.9989 - val_loss: 27.0941 - val_accuracy: 0.6721\n",
      "Epoch 237/512\n",
      "19/19 [==============================] - 14s 711ms/step - loss: 0.0116 - accuracy: 0.9990 - val_loss: 26.8071 - val_accuracy: 0.6347\n",
      "Epoch 238/512\n",
      "19/19 [==============================] - 13s 710ms/step - loss: 0.0136 - accuracy: 0.9987 - val_loss: 26.8767 - val_accuracy: 0.6253\n",
      "Epoch 239/512\n",
      "19/19 [==============================] - 13s 709ms/step - loss: 0.0141 - accuracy: 0.9988 - val_loss: 26.7872 - val_accuracy: 0.6377\n",
      "Epoch 240/512\n",
      "19/19 [==============================] - 13s 708ms/step - loss: 0.0122 - accuracy: 0.9989 - val_loss: 26.8129 - val_accuracy: 0.6322\n",
      "Epoch 241/512\n",
      "19/19 [==============================] - 14s 719ms/step - loss: 0.0124 - accuracy: 0.9989 - val_loss: 26.8951 - val_accuracy: 0.5747\n",
      "Epoch 242/512\n",
      "19/19 [==============================] - 14s 719ms/step - loss: 0.0118 - accuracy: 0.9990 - val_loss: 26.7935 - val_accuracy: 0.5769\n",
      "Epoch 243/512\n",
      "19/19 [==============================] - 13s 710ms/step - loss: 0.0115 - accuracy: 0.9989 - val_loss: 26.8128 - val_accuracy: 0.5705\n",
      "Epoch 244/512\n",
      "19/19 [==============================] - 13s 710ms/step - loss: 0.0118 - accuracy: 0.9990 - val_loss: 26.8341 - val_accuracy: 0.5733\n",
      "Epoch 245/512\n",
      "19/19 [==============================] - 13s 707ms/step - loss: 0.0120 - accuracy: 0.9988 - val_loss: 26.8569 - val_accuracy: 0.5655\n",
      "Epoch 246/512\n",
      "19/19 [==============================] - 13s 709ms/step - loss: 0.0113 - accuracy: 0.9990 - val_loss: 26.7988 - val_accuracy: 0.5724\n",
      "Epoch 247/512\n",
      "19/19 [==============================] - 13s 709ms/step - loss: 0.0115 - accuracy: 0.9991 - val_loss: 26.6830 - val_accuracy: 0.5261\n",
      "Epoch 248/512\n",
      "19/19 [==============================] - 13s 708ms/step - loss: 0.0124 - accuracy: 0.9989 - val_loss: 26.7945 - val_accuracy: 0.5184\n",
      "Epoch 249/512\n",
      "19/19 [==============================] - 13s 709ms/step - loss: 0.0124 - accuracy: 0.9990 - val_loss: 26.8983 - val_accuracy: 0.5167\n",
      "Epoch 250/512\n",
      "19/19 [==============================] - 13s 708ms/step - loss: 0.0112 - accuracy: 0.9989 - val_loss: 26.7700 - val_accuracy: 0.5207\n",
      "Epoch 251/512\n",
      "19/19 [==============================] - 13s 709ms/step - loss: 0.0107 - accuracy: 0.9990 - val_loss: 26.7685 - val_accuracy: 0.4682\n",
      "Epoch 252/512\n",
      "19/19 [==============================] - 13s 707ms/step - loss: 0.0096 - accuracy: 0.9991 - val_loss: 26.6939 - val_accuracy: 0.4733\n",
      "Epoch 253/512\n",
      "19/19 [==============================] - 13s 708ms/step - loss: 0.0109 - accuracy: 0.9990 - val_loss: 26.7708 - val_accuracy: 0.4709\n",
      "Epoch 254/512\n",
      "19/19 [==============================] - 13s 709ms/step - loss: 0.0103 - accuracy: 0.9991 - val_loss: 26.7635 - val_accuracy: 0.4704\n",
      "Epoch 255/512\n",
      "19/19 [==============================] - 13s 709ms/step - loss: 0.0117 - accuracy: 0.9989 - val_loss: 26.7111 - val_accuracy: 0.4692\n",
      "Epoch 256/512\n",
      "19/19 [==============================] - 13s 708ms/step - loss: 0.0115 - accuracy: 0.9989 - val_loss: 26.7411 - val_accuracy: 0.4716\n",
      "Epoch 257/512\n",
      "19/19 [==============================] - 13s 709ms/step - loss: 0.0122 - accuracy: 0.9988 - val_loss: 26.8036 - val_accuracy: 0.4697\n",
      "Epoch 258/512\n",
      "19/19 [==============================] - 13s 708ms/step - loss: 0.0118 - accuracy: 0.9989 - val_loss: 26.6787 - val_accuracy: 0.4742\n",
      "Epoch 259/512\n",
      "19/19 [==============================] - 13s 708ms/step - loss: 0.0102 - accuracy: 0.9991 - val_loss: 26.6751 - val_accuracy: 0.4685\n",
      "Epoch 260/512\n",
      "19/19 [==============================] - 13s 709ms/step - loss: 0.0100 - accuracy: 0.9991 - val_loss: 26.6806 - val_accuracy: 0.4187\n",
      "Epoch 261/512\n",
      "19/19 [==============================] - 14s 719ms/step - loss: 0.0112 - accuracy: 0.9990 - val_loss: 26.6068 - val_accuracy: 0.4217\n",
      "Epoch 262/512\n",
      "19/19 [==============================] - 14s 719ms/step - loss: 0.0104 - accuracy: 0.9990 - val_loss: 26.6050 - val_accuracy: 0.4158\n",
      "Epoch 263/512\n",
      "19/19 [==============================] - 13s 710ms/step - loss: 0.0121 - accuracy: 0.9989 - val_loss: 26.7188 - val_accuracy: 0.4187\n",
      "Epoch 264/512\n",
      "19/19 [==============================] - 13s 708ms/step - loss: 0.0106 - accuracy: 0.9989 - val_loss: 26.6127 - val_accuracy: 0.4141\n",
      "Epoch 265/512\n",
      "19/19 [==============================] - 13s 708ms/step - loss: 0.0112 - accuracy: 0.9989 - val_loss: 26.5723 - val_accuracy: 0.4215\n",
      "Epoch 266/512\n",
      "19/19 [==============================] - 13s 708ms/step - loss: 0.0121 - accuracy: 0.9988 - val_loss: 26.6990 - val_accuracy: 0.4104\n",
      "Epoch 267/512\n",
      "19/19 [==============================] - 13s 709ms/step - loss: 0.0110 - accuracy: 0.9990 - val_loss: 26.7370 - val_accuracy: 0.3666\n",
      "Epoch 268/512\n",
      "19/19 [==============================] - 13s 709ms/step - loss: 0.0121 - accuracy: 0.9988 - val_loss: 26.6283 - val_accuracy: 0.3701\n",
      "Epoch 269/512\n",
      "19/19 [==============================] - 13s 708ms/step - loss: 0.0104 - accuracy: 0.9990 - val_loss: 26.5707 - val_accuracy: 0.3723\n",
      "Epoch 270/512\n",
      "19/19 [==============================] - 13s 708ms/step - loss: 0.0096 - accuracy: 0.9990 - val_loss: 26.7019 - val_accuracy: 0.3669\n",
      "Epoch 271/512\n",
      "19/19 [==============================] - 14s 711ms/step - loss: 0.0097 - accuracy: 0.9990 - val_loss: 26.6458 - val_accuracy: 0.3735\n",
      "Epoch 272/512\n",
      "19/19 [==============================] - 13s 710ms/step - loss: 0.0107 - accuracy: 0.9989 - val_loss: 26.6802 - val_accuracy: 0.3692\n",
      "Epoch 273/512\n",
      "19/19 [==============================] - 13s 709ms/step - loss: 0.0112 - accuracy: 0.9990 - val_loss: 26.5417 - val_accuracy: 0.3733\n",
      "Epoch 274/512\n",
      "19/19 [==============================] - 13s 708ms/step - loss: 0.0107 - accuracy: 0.9990 - val_loss: 26.6028 - val_accuracy: 0.3746\n",
      "Epoch 275/512\n",
      "19/19 [==============================] - 13s 709ms/step - loss: 0.0097 - accuracy: 0.9991 - val_loss: 26.7186 - val_accuracy: 0.3676\n",
      "Epoch 276/512\n",
      "19/19 [==============================] - 13s 708ms/step - loss: 0.0102 - accuracy: 0.9989 - val_loss: 26.5029 - val_accuracy: 0.3726\n",
      "Epoch 277/512\n",
      "19/19 [==============================] - 13s 709ms/step - loss: 0.0095 - accuracy: 0.9990 - val_loss: 26.6082 - val_accuracy: 0.3723\n",
      "Epoch 278/512\n",
      "19/19 [==============================] - 13s 710ms/step - loss: 0.0095 - accuracy: 0.9991 - val_loss: 26.4385 - val_accuracy: 0.3722\n",
      "Epoch 279/512\n",
      "19/19 [==============================] - 13s 710ms/step - loss: 0.0109 - accuracy: 0.9989 - val_loss: 26.5324 - val_accuracy: 0.3745\n",
      "Epoch 280/512\n",
      "19/19 [==============================] - 13s 708ms/step - loss: 0.0097 - accuracy: 0.9991 - val_loss: 26.5026 - val_accuracy: 0.3667\n"
     ]
    },
    {
     "name": "stdout",
     "output_type": "stream",
     "text": [
      "Epoch 281/512\n",
      "19/19 [==============================] - 14s 717ms/step - loss: 0.0096 - accuracy: 0.9991 - val_loss: 26.5733 - val_accuracy: 0.3654\n",
      "Epoch 282/512\n",
      "19/19 [==============================] - 14s 719ms/step - loss: 0.0112 - accuracy: 0.9987 - val_loss: 26.4883 - val_accuracy: 0.3678\n",
      "Epoch 283/512\n",
      "19/19 [==============================] - 13s 709ms/step - loss: 0.0119 - accuracy: 0.9988 - val_loss: 26.4392 - val_accuracy: 0.3687\n",
      "Epoch 284/512\n",
      "19/19 [==============================] - 13s 708ms/step - loss: 0.0122 - accuracy: 0.9988 - val_loss: 26.5333 - val_accuracy: 0.3658\n",
      "Epoch 285/512\n",
      "19/19 [==============================] - 13s 709ms/step - loss: 0.0110 - accuracy: 0.9989 - val_loss: 26.4883 - val_accuracy: 0.3693\n",
      "Epoch 286/512\n",
      "19/19 [==============================] - 13s 709ms/step - loss: 0.0106 - accuracy: 0.9989 - val_loss: 26.5675 - val_accuracy: 0.3614\n",
      "Epoch 287/512\n",
      "19/19 [==============================] - 13s 709ms/step - loss: 0.0095 - accuracy: 0.9989 - val_loss: 26.4106 - val_accuracy: 0.3641\n",
      "Epoch 288/512\n",
      "19/19 [==============================] - 13s 710ms/step - loss: 0.0103 - accuracy: 0.9990 - val_loss: 26.5378 - val_accuracy: 0.3583\n",
      "Epoch 289/512\n",
      "19/19 [==============================] - 13s 708ms/step - loss: 0.0106 - accuracy: 0.9989 - val_loss: 26.4724 - val_accuracy: 0.3653\n",
      "Epoch 290/512\n",
      "19/19 [==============================] - 13s 709ms/step - loss: 0.0110 - accuracy: 0.9989 - val_loss: 26.3415 - val_accuracy: 0.3656\n",
      "Epoch 291/512\n",
      "19/19 [==============================] - 13s 709ms/step - loss: 0.0111 - accuracy: 0.9988 - val_loss: 26.3163 - val_accuracy: 0.3341\n",
      "Epoch 292/512\n",
      "19/19 [==============================] - 13s 709ms/step - loss: 0.0104 - accuracy: 0.9989 - val_loss: 26.2988 - val_accuracy: 0.3308\n",
      "Epoch 293/512\n",
      "19/19 [==============================] - 13s 708ms/step - loss: 0.0113 - accuracy: 0.9988 - val_loss: 26.3772 - val_accuracy: 0.3319\n",
      "Epoch 294/512\n",
      "19/19 [==============================] - 13s 707ms/step - loss: 0.0100 - accuracy: 0.9989 - val_loss: 26.5069 - val_accuracy: 0.3314\n",
      "Epoch 295/512\n",
      "19/19 [==============================] - 13s 708ms/step - loss: 0.0102 - accuracy: 0.9990 - val_loss: 26.4534 - val_accuracy: 0.2708\n",
      "Epoch 296/512\n",
      "19/19 [==============================] - 13s 710ms/step - loss: 0.0092 - accuracy: 0.9991 - val_loss: 26.3368 - val_accuracy: 0.2697\n",
      "Epoch 297/512\n",
      "19/19 [==============================] - 13s 708ms/step - loss: 0.0097 - accuracy: 0.9990 - val_loss: 26.2868 - val_accuracy: 0.2710\n",
      "Epoch 298/512\n",
      "19/19 [==============================] - 13s 708ms/step - loss: 0.0087 - accuracy: 0.9991 - val_loss: 26.3115 - val_accuracy: 0.2730\n",
      "Epoch 299/512\n",
      "19/19 [==============================] - 13s 709ms/step - loss: 0.0100 - accuracy: 0.9990 - val_loss: 26.3230 - val_accuracy: 0.2681\n",
      "Epoch 300/512\n",
      "19/19 [==============================] - 13s 709ms/step - loss: 0.0113 - accuracy: 0.9988 - val_loss: 26.2477 - val_accuracy: 0.2661\n",
      "Epoch 301/512\n",
      "19/19 [==============================] - 14s 718ms/step - loss: 0.0104 - accuracy: 0.9989 - val_loss: 26.3254 - val_accuracy: 0.2631\n",
      "Epoch 302/512\n",
      "19/19 [==============================] - 14s 718ms/step - loss: 0.0095 - accuracy: 0.9990 - val_loss: 26.2751 - val_accuracy: 0.2630\n",
      "Epoch 303/512\n",
      "19/19 [==============================] - 13s 709ms/step - loss: 0.0104 - accuracy: 0.9988 - val_loss: 26.2426 - val_accuracy: 0.2580\n",
      "Epoch 304/512\n",
      "19/19 [==============================] - 13s 707ms/step - loss: 0.0105 - accuracy: 0.9988 - val_loss: 26.0827 - val_accuracy: 0.2352\n",
      "Epoch 305/512\n",
      "19/19 [==============================] - 13s 707ms/step - loss: 0.0110 - accuracy: 0.9988 - val_loss: 26.0882 - val_accuracy: 0.2375\n",
      "Epoch 306/512\n",
      "19/19 [==============================] - 13s 708ms/step - loss: 0.0088 - accuracy: 0.9991 - val_loss: 26.2716 - val_accuracy: 0.2331\n",
      "Epoch 307/512\n",
      "19/19 [==============================] - 13s 708ms/step - loss: 0.0098 - accuracy: 0.9989 - val_loss: 26.1287 - val_accuracy: 0.2349\n",
      "Epoch 308/512\n",
      "19/19 [==============================] - 13s 709ms/step - loss: 0.0099 - accuracy: 0.9990 - val_loss: 26.1835 - val_accuracy: 0.2383\n",
      "Epoch 309/512\n",
      "19/19 [==============================] - 13s 709ms/step - loss: 0.0098 - accuracy: 0.9991 - val_loss: 26.1069 - val_accuracy: 0.2392\n",
      "Epoch 310/512\n",
      "19/19 [==============================] - 13s 708ms/step - loss: 0.0106 - accuracy: 0.9988 - val_loss: 26.2520 - val_accuracy: 0.2339\n",
      "Epoch 311/512\n",
      "19/19 [==============================] - 13s 709ms/step - loss: 0.0093 - accuracy: 0.9990 - val_loss: 26.0853 - val_accuracy: 0.2386\n",
      "Epoch 312/512\n",
      "19/19 [==============================] - 13s 710ms/step - loss: 0.0102 - accuracy: 0.9988 - val_loss: 26.1261 - val_accuracy: 0.2376\n",
      "Epoch 313/512\n",
      "19/19 [==============================] - 13s 709ms/step - loss: 0.0097 - accuracy: 0.9990 - val_loss: 26.0936 - val_accuracy: 0.2388\n",
      "Epoch 314/512\n",
      "19/19 [==============================] - 13s 709ms/step - loss: 0.0093 - accuracy: 0.9990 - val_loss: 26.1630 - val_accuracy: 0.2361\n",
      "Epoch 315/512\n",
      "19/19 [==============================] - 13s 708ms/step - loss: 0.0095 - accuracy: 0.9989 - val_loss: 26.1288 - val_accuracy: 0.2379\n",
      "Epoch 316/512\n",
      "19/19 [==============================] - 13s 708ms/step - loss: 0.0083 - accuracy: 0.9991 - val_loss: 26.1126 - val_accuracy: 0.2369\n",
      "Epoch 317/512\n",
      "19/19 [==============================] - 13s 707ms/step - loss: 0.0094 - accuracy: 0.9989 - val_loss: 26.1554 - val_accuracy: 0.2362\n",
      "Epoch 318/512\n",
      "19/19 [==============================] - 13s 709ms/step - loss: 0.0090 - accuracy: 0.9991 - val_loss: 26.0775 - val_accuracy: 0.2356\n",
      "Epoch 319/512\n",
      "19/19 [==============================] - 13s 710ms/step - loss: 0.0094 - accuracy: 0.9990 - val_loss: 26.2381 - val_accuracy: 0.2314\n",
      "Epoch 320/512\n",
      "19/19 [==============================] - 13s 707ms/step - loss: 0.0092 - accuracy: 0.9989 - val_loss: 26.1777 - val_accuracy: 0.2168\n",
      "Epoch 321/512\n",
      "19/19 [==============================] - 14s 719ms/step - loss: 0.0092 - accuracy: 0.9990 - val_loss: 25.9954 - val_accuracy: 0.2220\n",
      "Epoch 322/512\n",
      "19/19 [==============================] - 14s 718ms/step - loss: 0.0085 - accuracy: 0.9991 - val_loss: 26.0392 - val_accuracy: 0.2186\n",
      "Epoch 323/512\n",
      "19/19 [==============================] - 13s 709ms/step - loss: 0.0101 - accuracy: 0.9989 - val_loss: 26.0848 - val_accuracy: 0.2182\n",
      "Epoch 324/512\n",
      "19/19 [==============================] - 13s 710ms/step - loss: 0.0096 - accuracy: 0.9990 - val_loss: 26.0087 - val_accuracy: 0.2202\n",
      "Epoch 325/512\n",
      "19/19 [==============================] - 13s 709ms/step - loss: 0.0090 - accuracy: 0.9990 - val_loss: 26.0043 - val_accuracy: 0.2158\n",
      "Epoch 326/512\n",
      "19/19 [==============================] - 13s 709ms/step - loss: 0.0108 - accuracy: 0.9988 - val_loss: 26.0069 - val_accuracy: 0.2172\n",
      "Epoch 327/512\n",
      "19/19 [==============================] - 13s 709ms/step - loss: 0.0087 - accuracy: 0.9990 - val_loss: 26.0910 - val_accuracy: 0.2205\n",
      "Epoch 328/512\n",
      "19/19 [==============================] - 13s 708ms/step - loss: 0.0091 - accuracy: 0.9990 - val_loss: 25.9439 - val_accuracy: 0.2167\n",
      "Epoch 329/512\n",
      "19/19 [==============================] - 13s 708ms/step - loss: 0.0106 - accuracy: 0.9988 - val_loss: 25.9865 - val_accuracy: 0.2152\n",
      "Epoch 330/512\n",
      "19/19 [==============================] - 13s 710ms/step - loss: 0.0103 - accuracy: 0.9989 - val_loss: 25.9394 - val_accuracy: 0.2166\n",
      "Epoch 331/512\n",
      "19/19 [==============================] - 13s 710ms/step - loss: 0.0102 - accuracy: 0.9990 - val_loss: 25.9703 - val_accuracy: 0.2141\n",
      "Epoch 332/512\n",
      "19/19 [==============================] - 13s 710ms/step - loss: 0.0084 - accuracy: 0.9991 - val_loss: 26.0293 - val_accuracy: 0.2155\n",
      "Epoch 333/512\n",
      "19/19 [==============================] - 13s 710ms/step - loss: 0.0097 - accuracy: 0.9989 - val_loss: 25.9237 - val_accuracy: 0.2172\n",
      "Epoch 334/512\n",
      "19/19 [==============================] - 13s 709ms/step - loss: 0.0095 - accuracy: 0.9990 - val_loss: 25.8313 - val_accuracy: 0.2146\n",
      "Epoch 335/512\n",
      "19/19 [==============================] - 13s 708ms/step - loss: 0.0094 - accuracy: 0.9988 - val_loss: 25.9677 - val_accuracy: 0.2122\n",
      "Epoch 336/512\n",
      "19/19 [==============================] - 13s 709ms/step - loss: 0.0098 - accuracy: 0.9988 - val_loss: 25.9491 - val_accuracy: 0.2144\n"
     ]
    },
    {
     "name": "stdout",
     "output_type": "stream",
     "text": [
      "Epoch 337/512\n",
      "19/19 [==============================] - 13s 709ms/step - loss: 0.0085 - accuracy: 0.9990 - val_loss: 25.8712 - val_accuracy: 0.2131\n",
      "Epoch 338/512\n",
      "19/19 [==============================] - 13s 709ms/step - loss: 0.0087 - accuracy: 0.9990 - val_loss: 25.9497 - val_accuracy: 0.2077\n",
      "Epoch 339/512\n",
      "19/19 [==============================] - 13s 710ms/step - loss: 0.0090 - accuracy: 0.9989 - val_loss: 25.8729 - val_accuracy: 0.2107\n",
      "Epoch 340/512\n",
      "19/19 [==============================] - 13s 710ms/step - loss: 0.0091 - accuracy: 0.9990 - val_loss: 25.8220 - val_accuracy: 0.2093\n",
      "Epoch 341/512\n",
      "19/19 [==============================] - 14s 720ms/step - loss: 0.0103 - accuracy: 0.9989 - val_loss: 25.8120 - val_accuracy: 0.2103\n",
      "Epoch 342/512\n",
      "19/19 [==============================] - 14s 720ms/step - loss: 0.0082 - accuracy: 0.9990 - val_loss: 25.9936 - val_accuracy: 0.2060\n",
      "Epoch 343/512\n",
      "19/19 [==============================] - 13s 708ms/step - loss: 0.0106 - accuracy: 0.9989 - val_loss: 25.8709 - val_accuracy: 0.2057\n",
      "Epoch 344/512\n",
      "19/19 [==============================] - 13s 710ms/step - loss: 0.0096 - accuracy: 0.9990 - val_loss: 25.7784 - val_accuracy: 0.2078\n",
      "Epoch 345/512\n",
      "19/19 [==============================] - 13s 708ms/step - loss: 0.0096 - accuracy: 0.9989 - val_loss: 25.8694 - val_accuracy: 0.2059\n",
      "Epoch 346/512\n",
      "19/19 [==============================] - 13s 709ms/step - loss: 0.0078 - accuracy: 0.9991 - val_loss: 25.7595 - val_accuracy: 0.2098\n",
      "Epoch 347/512\n",
      "19/19 [==============================] - 13s 708ms/step - loss: 0.0075 - accuracy: 0.9991 - val_loss: 25.7737 - val_accuracy: 0.2098\n",
      "Epoch 348/512\n",
      "19/19 [==============================] - 13s 708ms/step - loss: 0.0091 - accuracy: 0.9989 - val_loss: 25.7494 - val_accuracy: 0.2128\n",
      "Epoch 349/512\n",
      "19/19 [==============================] - 13s 708ms/step - loss: 0.0098 - accuracy: 0.9989 - val_loss: 25.7135 - val_accuracy: 0.2091\n",
      "Epoch 350/512\n",
      "19/19 [==============================] - 13s 709ms/step - loss: 0.0095 - accuracy: 0.9990 - val_loss: 25.8580 - val_accuracy: 0.2106\n",
      "Epoch 351/512\n",
      "19/19 [==============================] - 13s 709ms/step - loss: 0.0090 - accuracy: 0.9988 - val_loss: 25.7099 - val_accuracy: 0.2117\n",
      "Epoch 352/512\n",
      "19/19 [==============================] - 13s 710ms/step - loss: 0.0090 - accuracy: 0.9989 - val_loss: 25.8023 - val_accuracy: 0.2079\n",
      "Epoch 353/512\n",
      "19/19 [==============================] - 13s 709ms/step - loss: 0.0082 - accuracy: 0.9991 - val_loss: 25.6918 - val_accuracy: 0.2110\n",
      "Epoch 354/512\n",
      "19/19 [==============================] - 13s 708ms/step - loss: 0.0088 - accuracy: 0.9990 - val_loss: 25.7578 - val_accuracy: 0.2107\n",
      "Epoch 355/512\n",
      "19/19 [==============================] - 13s 710ms/step - loss: 0.0088 - accuracy: 0.9990 - val_loss: 25.7539 - val_accuracy: 0.2087\n",
      "Epoch 356/512\n",
      "19/19 [==============================] - 13s 709ms/step - loss: 0.0100 - accuracy: 0.9989 - val_loss: 25.7056 - val_accuracy: 0.0836\n",
      "Epoch 357/512\n",
      "19/19 [==============================] - 13s 709ms/step - loss: 0.0091 - accuracy: 0.9990 - val_loss: 25.6439 - val_accuracy: 0.0742\n",
      "Epoch 358/512\n",
      "19/19 [==============================] - 13s 708ms/step - loss: 0.0103 - accuracy: 0.9988 - val_loss: 25.6297 - val_accuracy: 0.0762\n",
      "Epoch 359/512\n",
      "19/19 [==============================] - 13s 710ms/step - loss: 0.0100 - accuracy: 0.9988 - val_loss: 25.6456 - val_accuracy: 0.0740\n",
      "Epoch 360/512\n",
      "19/19 [==============================] - 13s 710ms/step - loss: 0.0093 - accuracy: 0.9989 - val_loss: 25.5128 - val_accuracy: 0.0725\n",
      "Epoch 361/512\n",
      "19/19 [==============================] - 14s 719ms/step - loss: 0.0090 - accuracy: 0.9989 - val_loss: 25.5182 - val_accuracy: 0.0599\n",
      "Epoch 362/512\n",
      "19/19 [==============================] - 14s 718ms/step - loss: 0.0097 - accuracy: 0.9990 - val_loss: 25.4438 - val_accuracy: 0.0700\n",
      "Epoch 363/512\n",
      "19/19 [==============================] - 13s 709ms/step - loss: 0.0098 - accuracy: 0.9988 - val_loss: 25.4484 - val_accuracy: 0.0576\n",
      "Epoch 364/512\n",
      "19/19 [==============================] - 13s 710ms/step - loss: 0.0090 - accuracy: 0.9991 - val_loss: 25.4975 - val_accuracy: 0.0613\n",
      "Epoch 365/512\n",
      "19/19 [==============================] - 13s 710ms/step - loss: 0.0094 - accuracy: 0.9989 - val_loss: 25.4111 - val_accuracy: 0.0749\n",
      "Epoch 366/512\n",
      "19/19 [==============================] - 13s 709ms/step - loss: 0.0096 - accuracy: 0.9988 - val_loss: 25.4831 - val_accuracy: 0.0746\n",
      "Epoch 367/512\n",
      "19/19 [==============================] - 13s 708ms/step - loss: 0.0091 - accuracy: 0.9990 - val_loss: 25.5034 - val_accuracy: 0.0774\n",
      "Epoch 368/512\n",
      "19/19 [==============================] - 13s 709ms/step - loss: 0.0090 - accuracy: 0.9990 - val_loss: 25.5712 - val_accuracy: 0.0660\n",
      "Epoch 369/512\n",
      "19/19 [==============================] - 13s 709ms/step - loss: 0.0093 - accuracy: 0.9990 - val_loss: 25.5125 - val_accuracy: 0.0722\n",
      "Epoch 370/512\n",
      "19/19 [==============================] - 13s 710ms/step - loss: 0.0092 - accuracy: 0.9989 - val_loss: 25.3733 - val_accuracy: 0.0681\n",
      "Epoch 371/512\n",
      "19/19 [==============================] - 13s 709ms/step - loss: 0.0102 - accuracy: 0.9989 - val_loss: 25.4802 - val_accuracy: 0.0719\n",
      "Epoch 372/512\n",
      "19/19 [==============================] - 13s 709ms/step - loss: 0.0082 - accuracy: 0.9990 - val_loss: 25.4508 - val_accuracy: 0.0663\n",
      "Epoch 373/512\n",
      "19/19 [==============================] - 13s 709ms/step - loss: 0.0079 - accuracy: 0.9990 - val_loss: 25.4244 - val_accuracy: 0.0657\n",
      "Epoch 374/512\n",
      "19/19 [==============================] - 13s 708ms/step - loss: 0.0082 - accuracy: 0.9990 - val_loss: 25.5108 - val_accuracy: 0.0649\n",
      "Epoch 375/512\n",
      "19/19 [==============================] - 13s 710ms/step - loss: 0.0091 - accuracy: 0.9988 - val_loss: 25.5023 - val_accuracy: 0.0622\n",
      "Epoch 376/512\n",
      "19/19 [==============================] - 13s 710ms/step - loss: 0.0091 - accuracy: 0.9989 - val_loss: 25.3980 - val_accuracy: 0.0600\n",
      "Epoch 377/512\n",
      "19/19 [==============================] - 13s 710ms/step - loss: 0.0085 - accuracy: 0.9991 - val_loss: 25.3788 - val_accuracy: 0.0585\n",
      "Epoch 378/512\n",
      "19/19 [==============================] - 14s 711ms/step - loss: 0.0103 - accuracy: 0.9988 - val_loss: 25.3659 - val_accuracy: 0.0556\n",
      "Epoch 379/512\n",
      "19/19 [==============================] - 13s 707ms/step - loss: 0.0093 - accuracy: 0.9989 - val_loss: 25.4096 - val_accuracy: 0.0553\n",
      "Epoch 380/512\n",
      "19/19 [==============================] - 13s 709ms/step - loss: 0.0086 - accuracy: 0.9989 - val_loss: 25.3128 - val_accuracy: 0.0577\n",
      "Epoch 381/512\n",
      "19/19 [==============================] - 14s 720ms/step - loss: 0.0082 - accuracy: 0.9990 - val_loss: 25.2743 - val_accuracy: 0.0529\n",
      "Epoch 382/512\n",
      "19/19 [==============================] - 14s 720ms/step - loss: 0.0087 - accuracy: 0.9990 - val_loss: 25.2464 - val_accuracy: 0.0502\n",
      "Epoch 383/512\n",
      "19/19 [==============================] - 14s 711ms/step - loss: 0.0088 - accuracy: 0.9989 - val_loss: 25.2085 - val_accuracy: 0.0548\n",
      "Epoch 384/512\n",
      "19/19 [==============================] - 13s 710ms/step - loss: 0.0085 - accuracy: 0.9990 - val_loss: 25.3578 - val_accuracy: 0.0565\n",
      "Epoch 385/512\n",
      "19/19 [==============================] - 13s 710ms/step - loss: 0.0081 - accuracy: 0.9990 - val_loss: 25.2083 - val_accuracy: 0.0595\n",
      "Epoch 386/512\n",
      "19/19 [==============================] - 13s 710ms/step - loss: 0.0103 - accuracy: 0.9988 - val_loss: 25.2724 - val_accuracy: 0.0571\n",
      "Epoch 387/512\n",
      "19/19 [==============================] - 13s 710ms/step - loss: 0.0095 - accuracy: 0.9989 - val_loss: 25.2969 - val_accuracy: 0.0589\n",
      "Epoch 388/512\n",
      "19/19 [==============================] - 13s 710ms/step - loss: 0.0088 - accuracy: 0.9988 - val_loss: 25.1934 - val_accuracy: 0.0567\n",
      "Epoch 389/512\n",
      "19/19 [==============================] - 13s 708ms/step - loss: 0.0080 - accuracy: 0.9989 - val_loss: 25.2505 - val_accuracy: 0.0550\n",
      "Epoch 390/512\n",
      "19/19 [==============================] - 13s 710ms/step - loss: 0.0077 - accuracy: 0.9991 - val_loss: 25.1094 - val_accuracy: 0.0528\n",
      "Epoch 391/512\n",
      "19/19 [==============================] - 13s 709ms/step - loss: 0.0092 - accuracy: 0.9989 - val_loss: 25.2053 - val_accuracy: 0.0520\n",
      "Epoch 392/512\n",
      "19/19 [==============================] - 13s 709ms/step - loss: 0.0081 - accuracy: 0.9988 - val_loss: 25.1163 - val_accuracy: 0.0495\n"
     ]
    },
    {
     "name": "stdout",
     "output_type": "stream",
     "text": [
      "Epoch 393/512\n",
      "19/19 [==============================] - 13s 710ms/step - loss: 0.0070 - accuracy: 0.9991 - val_loss: 25.1521 - val_accuracy: 0.0428\n",
      "Epoch 394/512\n",
      "19/19 [==============================] - 13s 709ms/step - loss: 0.0085 - accuracy: 0.9990 - val_loss: 25.2292 - val_accuracy: 0.0410\n",
      "Epoch 395/512\n",
      "19/19 [==============================] - 13s 709ms/step - loss: 0.0095 - accuracy: 0.9989 - val_loss: 25.1254 - val_accuracy: 0.0430\n",
      "Epoch 396/512\n",
      "19/19 [==============================] - 13s 709ms/step - loss: 0.0071 - accuracy: 0.9992 - val_loss: 25.2318 - val_accuracy: 0.0416\n",
      "Epoch 397/512\n",
      "19/19 [==============================] - 13s 709ms/step - loss: 0.0074 - accuracy: 0.9991 - val_loss: 25.0816 - val_accuracy: 0.0465\n",
      "Epoch 398/512\n",
      "19/19 [==============================] - 13s 709ms/step - loss: 0.0091 - accuracy: 0.9988 - val_loss: 25.1094 - val_accuracy: 0.0457\n",
      "Epoch 399/512\n",
      "19/19 [==============================] - 13s 709ms/step - loss: 0.0083 - accuracy: 0.9990 - val_loss: 25.0490 - val_accuracy: 0.0486\n",
      "Epoch 400/512\n",
      "19/19 [==============================] - 13s 709ms/step - loss: 0.0080 - accuracy: 0.9990 - val_loss: 25.1310 - val_accuracy: 0.0495\n",
      "Epoch 401/512\n",
      "19/19 [==============================] - 14s 720ms/step - loss: 0.0078 - accuracy: 0.9991 - val_loss: 25.0131 - val_accuracy: 0.0490\n",
      "Epoch 402/512\n",
      "19/19 [==============================] - 14s 718ms/step - loss: 0.0072 - accuracy: 0.9990 - val_loss: 25.0534 - val_accuracy: 0.0500\n",
      "Epoch 403/512\n",
      "19/19 [==============================] - 13s 709ms/step - loss: 0.0073 - accuracy: 0.9991 - val_loss: 24.9920 - val_accuracy: 0.0472\n",
      "Epoch 404/512\n",
      "19/19 [==============================] - 13s 708ms/step - loss: 0.0073 - accuracy: 0.9990 - val_loss: 25.1485 - val_accuracy: 0.0497\n",
      "Epoch 405/512\n",
      "19/19 [==============================] - 13s 709ms/step - loss: 0.0070 - accuracy: 0.9990 - val_loss: 25.0350 - val_accuracy: 0.0457\n",
      "Epoch 406/512\n",
      "19/19 [==============================] - 13s 708ms/step - loss: 0.0072 - accuracy: 0.9990 - val_loss: 25.0198 - val_accuracy: 0.0449\n",
      "Epoch 407/512\n",
      "19/19 [==============================] - 13s 707ms/step - loss: 0.0074 - accuracy: 0.9990 - val_loss: 24.9980 - val_accuracy: 0.0449\n",
      "Epoch 408/512\n",
      "19/19 [==============================] - 13s 709ms/step - loss: 0.0065 - accuracy: 0.9993 - val_loss: 25.0366 - val_accuracy: 0.0437\n",
      "Epoch 409/512\n",
      "19/19 [==============================] - 13s 708ms/step - loss: 0.0066 - accuracy: 0.9992 - val_loss: 24.9808 - val_accuracy: 0.0447\n",
      "Epoch 410/512\n",
      "19/19 [==============================] - 13s 708ms/step - loss: 0.0073 - accuracy: 0.9991 - val_loss: 24.9520 - val_accuracy: 0.0427\n",
      "Epoch 411/512\n",
      "19/19 [==============================] - 13s 708ms/step - loss: 0.0067 - accuracy: 0.9991 - val_loss: 24.8886 - val_accuracy: 0.0448\n",
      "Epoch 412/512\n",
      "19/19 [==============================] - 13s 709ms/step - loss: 0.0069 - accuracy: 0.9989 - val_loss: 24.9386 - val_accuracy: 0.0425\n",
      "Epoch 413/512\n",
      "19/19 [==============================] - 13s 708ms/step - loss: 0.0077 - accuracy: 0.9991 - val_loss: 24.9136 - val_accuracy: 0.0434\n",
      "Epoch 414/512\n",
      "19/19 [==============================] - 13s 709ms/step - loss: 0.0074 - accuracy: 0.9991 - val_loss: 24.8445 - val_accuracy: 0.0446\n",
      "Epoch 415/512\n",
      "19/19 [==============================] - 13s 709ms/step - loss: 0.0071 - accuracy: 0.9991 - val_loss: 24.9139 - val_accuracy: 0.0430\n",
      "Epoch 416/512\n",
      "19/19 [==============================] - 13s 708ms/step - loss: 0.0069 - accuracy: 0.9990 - val_loss: 24.9543 - val_accuracy: 0.0460\n",
      "Epoch 417/512\n",
      "19/19 [==============================] - 13s 709ms/step - loss: 0.0068 - accuracy: 0.9990 - val_loss: 24.8431 - val_accuracy: 0.0463\n",
      "Epoch 418/512\n",
      "19/19 [==============================] - 13s 709ms/step - loss: 0.0077 - accuracy: 0.9989 - val_loss: 24.8939 - val_accuracy: 0.0384\n",
      "Epoch 419/512\n",
      "19/19 [==============================] - 13s 710ms/step - loss: 0.0074 - accuracy: 0.9991 - val_loss: 24.9748 - val_accuracy: 0.0377\n",
      "Epoch 420/512\n",
      "19/19 [==============================] - 13s 710ms/step - loss: 0.0071 - accuracy: 0.9991 - val_loss: 24.9605 - val_accuracy: 0.0399\n",
      "Epoch 421/512\n",
      "19/19 [==============================] - 14s 718ms/step - loss: 0.0060 - accuracy: 0.9992 - val_loss: 24.8235 - val_accuracy: 0.0386\n",
      "Epoch 422/512\n",
      "19/19 [==============================] - 14s 719ms/step - loss: 0.0071 - accuracy: 0.9990 - val_loss: 24.8605 - val_accuracy: 0.0368\n",
      "Epoch 423/512\n",
      "19/19 [==============================] - 14s 711ms/step - loss: 0.0064 - accuracy: 0.9991 - val_loss: 24.7528 - val_accuracy: 0.0406\n",
      "Epoch 424/512\n",
      "19/19 [==============================] - 13s 709ms/step - loss: 0.0075 - accuracy: 0.9991 - val_loss: 24.8308 - val_accuracy: 0.0413\n",
      "Epoch 425/512\n",
      "19/19 [==============================] - 13s 709ms/step - loss: 0.0055 - accuracy: 0.9992 - val_loss: 24.8180 - val_accuracy: 0.0405\n",
      "Epoch 426/512\n",
      "19/19 [==============================] - 13s 710ms/step - loss: 0.0063 - accuracy: 0.9991 - val_loss: 24.7798 - val_accuracy: 0.0397\n",
      "Epoch 427/512\n",
      "19/19 [==============================] - 13s 708ms/step - loss: 0.0055 - accuracy: 0.9992 - val_loss: 24.7566 - val_accuracy: 0.0416\n",
      "Epoch 428/512\n",
      "19/19 [==============================] - 14s 711ms/step - loss: 0.0060 - accuracy: 0.9991 - val_loss: 24.7958 - val_accuracy: 0.0398\n",
      "Epoch 429/512\n",
      "19/19 [==============================] - 13s 707ms/step - loss: 0.0078 - accuracy: 0.9990 - val_loss: 24.8326 - val_accuracy: 0.0405\n",
      "Epoch 430/512\n",
      "19/19 [==============================] - 13s 709ms/step - loss: 0.0061 - accuracy: 0.9990 - val_loss: 24.9223 - val_accuracy: 0.0415\n",
      "Epoch 431/512\n",
      "19/19 [==============================] - 13s 708ms/step - loss: 0.0076 - accuracy: 0.9989 - val_loss: 24.7600 - val_accuracy: 0.0410\n",
      "Epoch 432/512\n",
      "19/19 [==============================] - 13s 704ms/step - loss: 0.0076 - accuracy: 0.9990 - val_loss: 24.7624 - val_accuracy: 0.0412\n",
      "Epoch 433/512\n",
      "19/19 [==============================] - 13s 704ms/step - loss: 0.0073 - accuracy: 0.9989 - val_loss: 24.7188 - val_accuracy: 0.0406\n",
      "Epoch 434/512\n",
      "19/19 [==============================] - 13s 704ms/step - loss: 0.0069 - accuracy: 0.9990 - val_loss: 24.6535 - val_accuracy: 0.0401\n",
      "Epoch 435/512\n",
      "19/19 [==============================] - 13s 705ms/step - loss: 0.0070 - accuracy: 0.9990 - val_loss: 24.7337 - val_accuracy: 0.0382\n",
      "Epoch 436/512\n",
      "19/19 [==============================] - 13s 704ms/step - loss: 0.0067 - accuracy: 0.9991 - val_loss: 24.8245 - val_accuracy: 0.0404\n",
      "Epoch 437/512\n",
      "19/19 [==============================] - 13s 705ms/step - loss: 0.0076 - accuracy: 0.9989 - val_loss: 24.7966 - val_accuracy: 0.0414\n",
      "Epoch 438/512\n",
      "19/19 [==============================] - 13s 705ms/step - loss: 0.0072 - accuracy: 0.9991 - val_loss: 24.7598 - val_accuracy: 0.0409\n",
      "Epoch 439/512\n",
      "19/19 [==============================] - 13s 703ms/step - loss: 0.0069 - accuracy: 0.9990 - val_loss: 24.6806 - val_accuracy: 0.0406\n",
      "Epoch 440/512\n",
      "19/19 [==============================] - 13s 705ms/step - loss: 0.0068 - accuracy: 0.9991 - val_loss: 24.6241 - val_accuracy: 0.0392\n",
      "Epoch 441/512\n",
      "19/19 [==============================] - 14s 714ms/step - loss: 0.0066 - accuracy: 0.9992 - val_loss: 24.6226 - val_accuracy: 0.0369\n",
      "Epoch 442/512\n",
      "19/19 [==============================] - 14s 716ms/step - loss: 0.0065 - accuracy: 0.9991 - val_loss: 24.5501 - val_accuracy: 0.0375\n",
      "Epoch 443/512\n",
      "19/19 [==============================] - 13s 705ms/step - loss: 0.0078 - accuracy: 0.9990 - val_loss: 24.6767 - val_accuracy: 0.0368\n",
      "Epoch 444/512\n",
      "19/19 [==============================] - 13s 705ms/step - loss: 0.0065 - accuracy: 0.9990 - val_loss: 24.6227 - val_accuracy: 0.0394\n",
      "Epoch 445/512\n",
      "19/19 [==============================] - 13s 705ms/step - loss: 0.0062 - accuracy: 0.9991 - val_loss: 24.5048 - val_accuracy: 0.0371\n",
      "Epoch 446/512\n",
      "19/19 [==============================] - 13s 705ms/step - loss: 0.0071 - accuracy: 0.9991 - val_loss: 24.5702 - val_accuracy: 0.0349\n",
      "Epoch 447/512\n",
      "19/19 [==============================] - 13s 705ms/step - loss: 0.0060 - accuracy: 0.9991 - val_loss: 24.6350 - val_accuracy: 0.0372\n",
      "Epoch 448/512\n",
      "19/19 [==============================] - 13s 704ms/step - loss: 0.0072 - accuracy: 0.9989 - val_loss: 24.5079 - val_accuracy: 0.0397\n"
     ]
    },
    {
     "name": "stdout",
     "output_type": "stream",
     "text": [
      "Epoch 449/512\n",
      "19/19 [==============================] - 13s 705ms/step - loss: 0.0066 - accuracy: 0.9992 - val_loss: 24.5954 - val_accuracy: 0.0383\n",
      "Epoch 450/512\n",
      "19/19 [==============================] - 13s 704ms/step - loss: 0.0065 - accuracy: 0.9990 - val_loss: 24.5181 - val_accuracy: 0.0372\n",
      "Epoch 451/512\n",
      "19/19 [==============================] - 13s 705ms/step - loss: 0.0063 - accuracy: 0.9991 - val_loss: 24.4772 - val_accuracy: 0.0375\n",
      "Epoch 452/512\n",
      "19/19 [==============================] - 13s 704ms/step - loss: 0.0064 - accuracy: 0.9991 - val_loss: 24.4924 - val_accuracy: 0.0418\n",
      "Epoch 453/512\n",
      "19/19 [==============================] - 13s 704ms/step - loss: 0.0067 - accuracy: 0.9991 - val_loss: 24.4953 - val_accuracy: 0.0414\n",
      "Epoch 454/512\n",
      "19/19 [==============================] - 13s 704ms/step - loss: 0.0063 - accuracy: 0.9992 - val_loss: 24.4907 - val_accuracy: 0.0396\n",
      "Epoch 455/512\n",
      "19/19 [==============================] - 13s 704ms/step - loss: 0.0075 - accuracy: 0.9990 - val_loss: 24.4981 - val_accuracy: 0.0383\n",
      "Epoch 456/512\n",
      "19/19 [==============================] - 13s 704ms/step - loss: 0.0062 - accuracy: 0.9991 - val_loss: 24.5380 - val_accuracy: 0.0378\n",
      "Epoch 457/512\n",
      "19/19 [==============================] - 13s 705ms/step - loss: 0.0069 - accuracy: 0.9991 - val_loss: 24.5706 - val_accuracy: 0.0400\n",
      "Epoch 458/512\n",
      "19/19 [==============================] - 13s 704ms/step - loss: 0.0063 - accuracy: 0.9991 - val_loss: 24.4745 - val_accuracy: 0.0357\n",
      "Epoch 459/512\n",
      "19/19 [==============================] - 13s 705ms/step - loss: 0.0072 - accuracy: 0.9990 - val_loss: 24.4816 - val_accuracy: 0.0379\n",
      "Epoch 460/512\n",
      "19/19 [==============================] - 13s 704ms/step - loss: 0.0068 - accuracy: 0.9990 - val_loss: 24.4136 - val_accuracy: 0.0375\n",
      "Epoch 461/512\n",
      "19/19 [==============================] - 14s 714ms/step - loss: 0.0076 - accuracy: 0.9990 - val_loss: 24.3358 - val_accuracy: 0.0372\n",
      "Epoch 462/512\n",
      "19/19 [==============================] - 14s 714ms/step - loss: 0.0082 - accuracy: 0.9989 - val_loss: 24.4483 - val_accuracy: 0.0356\n",
      "Epoch 463/512\n",
      "19/19 [==============================] - 13s 705ms/step - loss: 0.0071 - accuracy: 0.9990 - val_loss: 24.5141 - val_accuracy: 0.0339\n",
      "Epoch 464/512\n",
      "19/19 [==============================] - 13s 704ms/step - loss: 0.0069 - accuracy: 0.9991 - val_loss: 24.2737 - val_accuracy: 0.0358\n",
      "Epoch 465/512\n",
      "19/19 [==============================] - 13s 704ms/step - loss: 0.0083 - accuracy: 0.9989 - val_loss: 24.3972 - val_accuracy: 0.0350\n",
      "Epoch 466/512\n",
      "19/19 [==============================] - 13s 704ms/step - loss: 0.0073 - accuracy: 0.9990 - val_loss: 24.3082 - val_accuracy: 0.0319\n",
      "Epoch 467/512\n",
      "19/19 [==============================] - 13s 704ms/step - loss: 0.0066 - accuracy: 0.9991 - val_loss: 24.4230 - val_accuracy: 0.0355\n",
      "Epoch 468/512\n",
      "19/19 [==============================] - 13s 705ms/step - loss: 0.0071 - accuracy: 0.9990 - val_loss: 24.3800 - val_accuracy: 0.0346\n",
      "Epoch 469/512\n",
      "19/19 [==============================] - 13s 704ms/step - loss: 0.0077 - accuracy: 0.9989 - val_loss: 24.3727 - val_accuracy: 0.0388\n",
      "Epoch 470/512\n",
      "19/19 [==============================] - 13s 703ms/step - loss: 0.0072 - accuracy: 0.9989 - val_loss: 24.2135 - val_accuracy: 0.0392\n",
      "Epoch 471/512\n",
      "19/19 [==============================] - 13s 704ms/step - loss: 0.0066 - accuracy: 0.9990 - val_loss: 24.3917 - val_accuracy: 0.0368\n",
      "Epoch 472/512\n",
      "19/19 [==============================] - 14s 723ms/step - loss: 0.0066 - accuracy: 0.9991 - val_loss: 24.2273 - val_accuracy: 0.0381\n",
      "Epoch 473/512\n",
      "19/19 [==============================] - 13s 705ms/step - loss: 0.0064 - accuracy: 0.9991 - val_loss: 24.2337 - val_accuracy: 0.0352\n",
      "Epoch 474/512\n",
      "19/19 [==============================] - 13s 703ms/step - loss: 0.0056 - accuracy: 0.9991 - val_loss: 24.2210 - val_accuracy: 0.0344\n",
      "Epoch 475/512\n",
      "19/19 [==============================] - 13s 704ms/step - loss: 0.0067 - accuracy: 0.9990 - val_loss: 24.1670 - val_accuracy: 0.0358\n",
      "Epoch 476/512\n",
      "19/19 [==============================] - 13s 705ms/step - loss: 0.0076 - accuracy: 0.9990 - val_loss: 24.2082 - val_accuracy: 0.0369\n",
      "Epoch 477/512\n",
      "19/19 [==============================] - 13s 703ms/step - loss: 0.0086 - accuracy: 0.9989 - val_loss: 24.2177 - val_accuracy: 0.0353\n",
      "Epoch 478/512\n",
      "19/19 [==============================] - 13s 703ms/step - loss: 0.0097 - accuracy: 0.9988 - val_loss: 24.2067 - val_accuracy: 0.0330\n",
      "Epoch 479/512\n",
      "19/19 [==============================] - 13s 703ms/step - loss: 0.0083 - accuracy: 0.9988 - val_loss: 24.1604 - val_accuracy: 0.0344\n",
      "Epoch 480/512\n",
      "19/19 [==============================] - 13s 704ms/step - loss: 0.0078 - accuracy: 0.9989 - val_loss: 24.1917 - val_accuracy: 0.0346\n",
      "Epoch 481/512\n",
      "19/19 [==============================] - 14s 714ms/step - loss: 0.0066 - accuracy: 0.9991 - val_loss: 24.0813 - val_accuracy: 0.0331\n",
      "Epoch 482/512\n",
      "19/19 [==============================] - 14s 713ms/step - loss: 0.0064 - accuracy: 0.9991 - val_loss: 24.1395 - val_accuracy: 0.0369\n",
      "Epoch 483/512\n",
      "19/19 [==============================] - 13s 704ms/step - loss: 0.0070 - accuracy: 0.9990 - val_loss: 24.1659 - val_accuracy: 0.0357\n",
      "Epoch 484/512\n",
      "19/19 [==============================] - 13s 704ms/step - loss: 0.0079 - accuracy: 0.9989 - val_loss: 24.1829 - val_accuracy: 0.0345\n",
      "Epoch 485/512\n",
      "19/19 [==============================] - 13s 704ms/step - loss: 0.0066 - accuracy: 0.9991 - val_loss: 24.0958 - val_accuracy: 0.0347\n",
      "Epoch 486/512\n",
      "19/19 [==============================] - 13s 703ms/step - loss: 0.0064 - accuracy: 0.9992 - val_loss: 24.0679 - val_accuracy: 0.0336\n",
      "Epoch 487/512\n",
      "19/19 [==============================] - 13s 708ms/step - loss: 0.0066 - accuracy: 0.9989 - val_loss: 24.0024 - val_accuracy: 0.0339\n",
      "Epoch 488/512\n",
      "19/19 [==============================] - 13s 704ms/step - loss: 0.0073 - accuracy: 0.9989 - val_loss: 23.9990 - val_accuracy: 0.0326\n",
      "Epoch 489/512\n",
      "19/19 [==============================] - 13s 704ms/step - loss: 0.0063 - accuracy: 0.9991 - val_loss: 24.0246 - val_accuracy: 0.0334\n",
      "Epoch 490/512\n",
      "19/19 [==============================] - 13s 707ms/step - loss: 0.0060 - accuracy: 0.9991 - val_loss: 23.9946 - val_accuracy: 0.0314\n",
      "Epoch 491/512\n",
      "19/19 [==============================] - 14s 711ms/step - loss: 0.0060 - accuracy: 0.9990 - val_loss: 23.9404 - val_accuracy: 0.0293\n",
      "Epoch 492/512\n",
      "19/19 [==============================] - 13s 710ms/step - loss: 0.0069 - accuracy: 0.9990 - val_loss: 23.9735 - val_accuracy: 0.0309\n",
      "Epoch 493/512\n",
      "19/19 [==============================] - 14s 712ms/step - loss: 0.0063 - accuracy: 0.9989 - val_loss: 24.0016 - val_accuracy: 0.0310\n",
      "Epoch 494/512\n",
      "19/19 [==============================] - 14s 712ms/step - loss: 0.0062 - accuracy: 0.9990 - val_loss: 23.9365 - val_accuracy: 0.0316\n",
      "Epoch 495/512\n",
      "19/19 [==============================] - 14s 713ms/step - loss: 0.0062 - accuracy: 0.9991 - val_loss: 23.8858 - val_accuracy: 0.0323\n",
      "Epoch 496/512\n",
      "19/19 [==============================] - 14s 722ms/step - loss: 0.0066 - accuracy: 0.9990 - val_loss: 24.0037 - val_accuracy: 0.0317\n",
      "Epoch 497/512\n",
      "19/19 [==============================] - 14s 722ms/step - loss: 0.0063 - accuracy: 0.9990 - val_loss: 23.9432 - val_accuracy: 0.0307\n",
      "Epoch 498/512\n",
      "19/19 [==============================] - 14s 724ms/step - loss: 0.0083 - accuracy: 0.9989 - val_loss: 23.9221 - val_accuracy: 0.0357\n",
      "Epoch 499/512\n",
      "19/19 [==============================] - 14s 723ms/step - loss: 0.0071 - accuracy: 0.9991 - val_loss: 23.9830 - val_accuracy: 0.0318\n",
      "Epoch 500/512\n",
      "19/19 [==============================] - 14s 720ms/step - loss: 0.0069 - accuracy: 0.9991 - val_loss: 23.9042 - val_accuracy: 0.0322\n",
      "Epoch 501/512\n",
      "19/19 [==============================] - 14s 732ms/step - loss: 0.0068 - accuracy: 0.9990 - val_loss: 23.9491 - val_accuracy: 0.0335\n",
      "Epoch 502/512\n",
      "19/19 [==============================] - 14s 731ms/step - loss: 0.0067 - accuracy: 0.9989 - val_loss: 23.8386 - val_accuracy: 0.0328\n",
      "Epoch 503/512\n",
      "19/19 [==============================] - 14s 719ms/step - loss: 0.0073 - accuracy: 0.9990 - val_loss: 23.8647 - val_accuracy: 0.0339\n",
      "Epoch 504/512\n",
      "19/19 [==============================] - 14s 721ms/step - loss: 0.0065 - accuracy: 0.9992 - val_loss: 23.7223 - val_accuracy: 0.0334\n"
     ]
    },
    {
     "name": "stdout",
     "output_type": "stream",
     "text": [
      "Epoch 505/512\n",
      "19/19 [==============================] - 14s 722ms/step - loss: 0.0071 - accuracy: 0.9990 - val_loss: 23.9489 - val_accuracy: 0.0322\n",
      "Epoch 506/512\n",
      "19/19 [==============================] - 14s 719ms/step - loss: 0.0062 - accuracy: 0.9991 - val_loss: 23.8562 - val_accuracy: 0.0317\n",
      "Epoch 507/512\n",
      "19/19 [==============================] - 14s 719ms/step - loss: 0.0061 - accuracy: 0.9992 - val_loss: 23.7181 - val_accuracy: 0.0311\n",
      "Epoch 508/512\n",
      "19/19 [==============================] - 14s 720ms/step - loss: 0.0065 - accuracy: 0.9990 - val_loss: 23.7886 - val_accuracy: 0.0317\n",
      "Epoch 509/512\n",
      "19/19 [==============================] - 14s 719ms/step - loss: 0.0060 - accuracy: 0.9991 - val_loss: 23.7409 - val_accuracy: 0.0314\n",
      "Epoch 510/512\n",
      "19/19 [==============================] - 14s 722ms/step - loss: 0.0058 - accuracy: 0.9991 - val_loss: 23.7596 - val_accuracy: 0.0341\n",
      "Epoch 511/512\n",
      "19/19 [==============================] - 14s 719ms/step - loss: 0.0065 - accuracy: 0.9989 - val_loss: 23.6506 - val_accuracy: 0.0324\n",
      "Epoch 512/512\n",
      "19/19 [==============================] - 14s 719ms/step - loss: 0.0054 - accuracy: 0.9991 - val_loss: 23.7125 - val_accuracy: 0.0320\n",
      "CPU times: user 1h 16min 29s, sys: 10min 44s, total: 1h 27min 14s\n",
      "Wall time: 2h 2min 23s\n"
     ]
    }
   ],
   "source": [
    "%%time\n",
    "import kashgari\n",
    "from kashgari.tasks.labeling import BiLSTM_CRF_Model\n",
    "from kashgari.embeddings import BertEmbedding\n",
    "kashgari.config.use_cudnn_cell = True\n",
    "bert_embedding = BertEmbedding(embedding_path, \n",
    "                           sequence_length='auto',\n",
    "                           trainable=True,\n",
    "                           task='kashgari.LABELING', \n",
    "                          )\n",
    "model = BiLSTM_CRF_Model(bert_embedding)\n",
    "history = model.fit(train_x,\n",
    "                    train_y,\n",
    "                    valid_x,\n",
    "                    valid_y,\n",
    "                    epochs=epochs,\n",
    "                    batch_size=batch_size,\n",
    "                   )"
   ]
  },
  {
   "cell_type": "code",
   "execution_count": 14,
   "metadata": {},
   "outputs": [
    {
     "name": "stderr",
     "output_type": "stream",
     "text": [
      "2020-12-15 15:13:29,732 [WARNING] kashgari - Sequence length is None, will use the max length of the samples, which is 102\n",
      "2020-12-15 15:13:29,793 [DEBUG] kashgari - predict seq_length: None, input: (2, 6305, 102)\n"
     ]
    },
    {
     "name": "stdout",
     "output_type": "stream",
     "text": [
      "198/198 [==============================] - 28s 140ms/step\n"
     ]
    },
    {
     "name": "stderr",
     "output_type": "stream",
     "text": [
      "2020-12-15 15:14:02,553 [DEBUG] kashgari - predict output: (6305, 102)\n",
      "2020-12-15 15:14:02,554 [DEBUG] kashgari - predict output argmax: [[0 7 4 ... 4 4 4]\n",
      " [0 1 1 ... 2 2 2]\n",
      " [0 1 1 ... 1 1 1]\n",
      " ...\n",
      " [0 1 1 ... 1 1 1]\n",
      " [0 1 1 ... 1 1 1]\n",
      " [0 1 1 ... 1 1 1]]\n"
     ]
    },
    {
     "name": "stdout",
     "output_type": "stream",
     "text": [
      "\n",
      "              precision    recall  f1-score   support\n",
      "\n",
      "        time     0.7110    0.7030    0.7070       532\n",
      "        name     0.8478    0.8667    0.8571        45\n",
      "    med_exam     0.7027    0.7879    0.7429        99\n",
      "      family     0.2857    0.5000    0.3636         8\n",
      "    location     0.8077    0.8750    0.8400        48\n",
      "          ID     0.0000    0.0000    0.0000         4\n",
      "      others     1.0000    1.0000    1.0000         1\n",
      "       money     0.5000    0.4500    0.4737        20\n",
      "   education     0.0000    0.0000    0.0000         2\n",
      "     contact     0.3333    0.0833    0.1333        12\n",
      "  profession     0.5000    0.3333    0.4000         3\n",
      "organization     0.0000    0.0000    0.0000         1\n",
      "\n",
      "   micro avg     0.7047    0.7084    0.7066       775\n",
      "   macro avg     0.7013    0.7084    0.7029       775\n",
      "\n"
     ]
    },
    {
     "name": "stderr",
     "output_type": "stream",
     "text": [
      "2020-12-15 15:15:14,343 [INFO] kashgari - model saved to /home/Danny/AI-CUP-2020/Danny/kashgari/model/bert-chinese_epoch_512_batch_1024\n"
     ]
    },
    {
     "data": {
      "text/plain": [
       "'/home/Danny/AI-CUP-2020/Danny/kashgari/model/bert-chinese_epoch_512_batch_1024'"
      ]
     },
     "execution_count": 14,
     "metadata": {},
     "output_type": "execute_result"
    }
   ],
   "source": [
    "model.evaluate(test_x, test_y)\n",
    "model_path = 'model/{}_epoch_{}_batch_{}'.format(model_name, epochs, batch_size)\n",
    "model.save(model_path)"
   ]
  },
  {
   "cell_type": "code",
   "execution_count": 15,
   "metadata": {},
   "outputs": [
    {
     "data": {
      "image/png": "[encoded data removed]",
      "text/plain": [
       "<Figure size 432x288 with 1 Axes>"
      ]
     },
     "metadata": {
      "needs_background": "light"
     },
     "output_type": "display_data"
    }
   ],
   "source": [
    "plt.plot(history.history['accuracy'])\n",
    "plt.plot(history.history['val_accuracy'])\n",
    "plt.plot(history.history['loss'])\n",
    "plt.plot(history.history['val_loss'])\n",
    "plt.title('model accuracy')\n",
    "plt.ylabel('accuracy')\n",
    "plt.xlabel('epoch')\n",
    "plt.legend(['accuracy', 'val_accuracy', 'loss', 'val_loss'])\n",
    "plt.show()"
   ]
  },
  {
   "cell_type": "code",
   "execution_count": 16,
   "metadata": {},
   "outputs": [],
   "source": [
    "# 需要儲存article_id, 轉成dataframe\n",
    "def predicting_txt_to_dataframe(path):    \n",
    "    with open(path, 'r') as f:\n",
    "        txt = str(f.read())\n",
    "        txt_list = txt.split('\\n')\n",
    "    row_list = list()\n",
    "    tmp_list = list()\n",
    "    for row in txt_list:\n",
    "        if row == '--------------------':\n",
    "            tmp_list[0] = tmp_list[0].replace('article_id:', '')\n",
    "            tmp_list[0] = int(tmp_list[0])\n",
    "            row_list.append(tmp_list)\n",
    "            tmp_list = list()\n",
    "            continue\n",
    "        if len(row) > 0:\n",
    "            tmp_list.append(row)\n",
    "    df = pd.DataFrame(row_list, columns=['article_id','text'])\n",
    "    return df"
   ]
  },
  {
   "cell_type": "code",
   "execution_count": 17,
   "metadata": {},
   "outputs": [],
   "source": [
    "def predict_NER(text):\n",
    "    x_list = list()    \n",
    "    text_list = re.split('\\uff0c|\\u3002|\\uff1f', text)\n",
    "    for article in text_list:\n",
    "        x_list.append([i for i in article])\n",
    "    y_list_list = model.predict(x_list)\n",
    "    y_list = list()\n",
    "    for sentence in y_list_list:\n",
    "        for word in sentence:\n",
    "            y_list.append(word)\n",
    "        y_list.append('O') # append(，。？)\n",
    "    y_list = y_list[:-1]\n",
    "    return y_list"
   ]
  },
  {
   "cell_type": "code",
   "execution_count": 18,
   "metadata": {},
   "outputs": [],
   "source": [
    "def output_NER(article_id, text, y_list):\n",
    "    output_str = str()\n",
    "    flag = False\n",
    "    for i, j in enumerate(y_list):\n",
    "        if j != 'O':\n",
    "            if j[0] == 'B':\n",
    "                start_position = i\n",
    "                entity_type = j.split('-')[-1]\n",
    "                flag = True\n",
    "        elif j == 'O' and flag == True:\n",
    "            end_position = i\n",
    "            flag = False\n",
    "            entity_text = text[start_position: end_position]\n",
    "            entity = '{}\\t{}\\t{}\\t{}\\t{}\\n'.format(article_id, start_position, end_position, entity_text, entity_type)  \n",
    "            output_str += entity\n",
    "    return output_str"
   ]
  },
  {
   "cell_type": "code",
   "execution_count": 19,
   "metadata": {},
   "outputs": [
    {
     "name": "stderr",
     "output_type": "stream",
     "text": [
      "2020-12-15 15:15:14,763 [DEBUG] kashgari - predict seq_length: None, input: (2, 70, 17)\n"
     ]
    },
    {
     "name": "stdout",
     "output_type": "stream",
     "text": [
      "3/3 [==============================] - 0s 24ms/step\n"
     ]
    },
    {
     "name": "stderr",
     "output_type": "stream",
     "text": [
      "2020-12-15 15:15:20,224 [DEBUG] kashgari - predict output: (70, 17)\n",
      "2020-12-15 15:15:20,225 [DEBUG] kashgari - predict output argmax: [[0 1 1 ... 1 0 1]\n",
      " [0 1 1 ... 1 1 1]\n",
      " [0 1 1 ... 1 1 1]\n",
      " ...\n",
      " [0 1 0 ... 1 1 1]\n",
      " [0 1 1 ... 1 1 1]\n",
      " [0 0 0 ... 0 0 0]]\n",
      "2020-12-15 15:15:20,227 [DEBUG] kashgari - predict seq_length: None, input: (2, 131, 28)\n"
     ]
    },
    {
     "name": "stdout",
     "output_type": "stream",
     "text": [
      "5/5 [==============================] - 0s 44ms/step\n"
     ]
    },
    {
     "name": "stderr",
     "output_type": "stream",
     "text": [
      "2020-12-15 15:15:24,965 [DEBUG] kashgari - predict output: (131, 28)\n",
      "2020-12-15 15:15:24,966 [DEBUG] kashgari - predict output argmax: [[0 1 1 ... 1 1 1]\n",
      " [0 1 1 ... 1 1 1]\n",
      " [0 1 1 ... 1 1 1]\n",
      " ...\n",
      " [0 1 1 ... 1 1 1]\n",
      " [0 1 1 ... 1 1 1]\n",
      " [0 0 0 ... 0 0 0]]\n",
      "2020-12-15 15:15:24,972 [DEBUG] kashgari - predict seq_length: None, input: (2, 198, 47)\n"
     ]
    },
    {
     "name": "stdout",
     "output_type": "stream",
     "text": [
      "7/7 [==============================] - 0s 66ms/step\n"
     ]
    },
    {
     "name": "stderr",
     "output_type": "stream",
     "text": [
      "2020-12-15 15:15:30,078 [DEBUG] kashgari - predict output: (198, 47)\n",
      "2020-12-15 15:15:30,079 [DEBUG] kashgari - predict output argmax: [[0 1 1 ... 1 1 1]\n",
      " [0 1 1 ... 1 1 1]\n",
      " [0 1 1 ... 1 1 1]\n",
      " ...\n",
      " [0 1 1 ... 1 1 1]\n",
      " [0 1 1 ... 1 1 1]\n",
      " [0 1 1 ... 1 1 1]]\n",
      "2020-12-15 15:15:30,081 [DEBUG] kashgari - predict seq_length: None, input: (2, 96, 41)\n"
     ]
    },
    {
     "name": "stdout",
     "output_type": "stream",
     "text": [
      "3/3 [==============================] - 0s 41ms/step\n"
     ]
    },
    {
     "name": "stderr",
     "output_type": "stream",
     "text": [
      "2020-12-15 15:15:33,562 [DEBUG] kashgari - predict output: (96, 41)\n",
      "2020-12-15 15:15:33,563 [DEBUG] kashgari - predict output argmax: [[0 1 1 ... 1 1 1]\n",
      " [0 1 1 ... 1 1 1]\n",
      " [0 1 1 ... 1 1 1]\n",
      " ...\n",
      " [0 1 1 ... 1 1 1]\n",
      " [0 1 1 ... 1 1 1]\n",
      " [0 0 0 ... 0 0 0]]\n",
      "2020-12-15 15:15:33,565 [DEBUG] kashgari - predict seq_length: None, input: (2, 73, 17)\n"
     ]
    },
    {
     "name": "stdout",
     "output_type": "stream",
     "text": [
      "3/3 [==============================] - 0s 26ms/step\n"
     ]
    },
    {
     "name": "stderr",
     "output_type": "stream",
     "text": [
      "2020-12-15 15:15:33,725 [DEBUG] kashgari - predict output: (73, 17)\n",
      "2020-12-15 15:15:33,726 [DEBUG] kashgari - predict output argmax: [[0 1 1 ... 1 1 1]\n",
      " [0 1 9 ... 1 1 1]\n",
      " [0 1 1 ... 1 1 1]\n",
      " ...\n",
      " [0 1 1 ... 1 1 1]\n",
      " [0 1 0 ... 1 1 1]\n",
      " [0 0 0 ... 0 0 0]]\n",
      "2020-12-15 15:15:33,730 [DEBUG] kashgari - predict seq_length: None, input: (2, 266, 23)\n"
     ]
    },
    {
     "name": "stdout",
     "output_type": "stream",
     "text": [
      "9/9 [==============================] - 0s 44ms/step\n"
     ]
    },
    {
     "name": "stderr",
     "output_type": "stream",
     "text": [
      "2020-12-15 15:15:38,767 [DEBUG] kashgari - predict output: (266, 23)\n",
      "2020-12-15 15:15:38,768 [DEBUG] kashgari - predict output argmax: [[0 1 1 ... 1 1 1]\n",
      " [0 1 1 ... 1 1 1]\n",
      " [0 1 1 ... 1 1 1]\n",
      " ...\n",
      " [0 1 1 ... 1 1 1]\n",
      " [0 1 1 ... 1 1 1]\n",
      " [0 1 1 ... 1 1 1]]\n",
      "2020-12-15 15:15:38,772 [DEBUG] kashgari - predict seq_length: None, input: (2, 308, 21)\n"
     ]
    },
    {
     "name": "stdout",
     "output_type": "stream",
     "text": [
      "10/10 [==============================] - 0s 43ms/step\n"
     ]
    },
    {
     "name": "stderr",
     "output_type": "stream",
     "text": [
      "2020-12-15 15:15:44,570 [DEBUG] kashgari - predict output: (308, 21)\n",
      "2020-12-15 15:15:44,571 [DEBUG] kashgari - predict output argmax: [[0 1 1 ... 1 1 1]\n",
      " [0 1 0 ... 1 1 1]\n",
      " [0 1 1 ... 1 1 1]\n",
      " ...\n",
      " [0 1 1 ... 1 1 1]\n",
      " [0 1 0 ... 1 1 1]\n",
      " [0 0 0 ... 0 0 0]]\n",
      "2020-12-15 15:15:44,574 [DEBUG] kashgari - predict seq_length: None, input: (2, 139, 38)\n"
     ]
    },
    {
     "name": "stdout",
     "output_type": "stream",
     "text": [
      "5/5 [==============================] - 0s 50ms/step\n"
     ]
    },
    {
     "name": "stderr",
     "output_type": "stream",
     "text": [
      "2020-12-15 15:15:49,530 [DEBUG] kashgari - predict output: (139, 38)\n",
      "2020-12-15 15:15:49,532 [DEBUG] kashgari - predict output argmax: [[0 1 1 ... 1 1 1]\n",
      " [0 1 1 ... 1 1 1]\n",
      " [0 1 1 ... 1 1 1]\n",
      " ...\n",
      " [0 1 1 ... 1 1 1]\n",
      " [0 1 1 ... 1 1 1]\n",
      " [0 0 0 ... 0 0 0]]\n",
      "2020-12-15 15:15:49,535 [DEBUG] kashgari - predict seq_length: None, input: (2, 167, 22)\n"
     ]
    },
    {
     "name": "stdout",
     "output_type": "stream",
     "text": [
      "6/6 [==============================] - 0s 38ms/step\n"
     ]
    },
    {
     "name": "stderr",
     "output_type": "stream",
     "text": [
      "2020-12-15 15:15:54,361 [DEBUG] kashgari - predict output: (167, 22)\n",
      "2020-12-15 15:15:54,366 [DEBUG] kashgari - predict output argmax: [[0 1 1 ... 5 5 5]\n",
      " [0 1 1 ... 1 1 1]\n",
      " [0 1 0 ... 1 1 1]\n",
      " ...\n",
      " [0 1 1 ... 1 1 1]\n",
      " [0 1 1 ... 2 2 2]\n",
      " [0 0 0 ... 0 0 0]]\n",
      "2020-12-15 15:15:54,372 [DEBUG] kashgari - predict seq_length: None, input: (2, 272, 41)\n"
     ]
    },
    {
     "name": "stdout",
     "output_type": "stream",
     "text": [
      "9/9 [==============================] - 1s 61ms/step\n"
     ]
    },
    {
     "name": "stderr",
     "output_type": "stream",
     "text": [
      "2020-12-15 15:15:59,486 [DEBUG] kashgari - predict output: (272, 41)\n",
      "2020-12-15 15:15:59,487 [DEBUG] kashgari - predict output argmax: [[0 1 1 ... 5 5 5]\n",
      " [0 1 7 ... 4 4 4]\n",
      " [0 1 1 ... 1 1 1]\n",
      " ...\n",
      " [0 1 1 ... 1 1 1]\n",
      " [0 1 1 ... 1 1 1]\n",
      " [0 0 0 ... 0 0 0]]\n",
      "2020-12-15 15:15:59,499 [DEBUG] kashgari - predict seq_length: None, input: (2, 143, 63)\n"
     ]
    },
    {
     "name": "stdout",
     "output_type": "stream",
     "text": [
      "5/5 [==============================] - 0s 72ms/step\n"
     ]
    },
    {
     "name": "stderr",
     "output_type": "stream",
     "text": [
      "2020-12-15 15:16:04,457 [DEBUG] kashgari - predict output: (143, 63)\n",
      "2020-12-15 15:16:04,457 [DEBUG] kashgari - predict output argmax: [[0 1 1 ... 1 1 1]\n",
      " [0 1 1 ... 1 1 1]\n",
      " [0 1 1 ... 1 1 1]\n",
      " ...\n",
      " [0 1 1 ... 1 1 1]\n",
      " [0 1 1 ... 1 1 1]\n",
      " [0 0 0 ... 0 0 0]]\n",
      "2020-12-15 15:16:04,465 [DEBUG] kashgari - predict seq_length: None, input: (2, 663, 42)\n"
     ]
    },
    {
     "name": "stdout",
     "output_type": "stream",
     "text": [
      "21/21 [==============================] - 1s 65ms/step\n"
     ]
    },
    {
     "name": "stderr",
     "output_type": "stream",
     "text": [
      "2020-12-15 15:16:10,608 [DEBUG] kashgari - predict output: (663, 42)\n",
      "2020-12-15 15:16:10,610 [DEBUG] kashgari - predict output argmax: [[0 1 1 ... 1 1 1]\n",
      " [0 1 1 ... 1 1 1]\n",
      " [0 1 1 ... 1 1 1]\n",
      " ...\n",
      " [0 1 1 ... 1 1 1]\n",
      " [0 1 1 ... 1 1 1]\n",
      " [0 0 0 ... 0 0 0]]\n",
      "2020-12-15 15:16:10,614 [DEBUG] kashgari - predict seq_length: None, input: (2, 39, 25)\n"
     ]
    },
    {
     "name": "stdout",
     "output_type": "stream",
     "text": [
      "2/2 [==============================] - 0s 21ms/step\n"
     ]
    },
    {
     "name": "stderr",
     "output_type": "stream",
     "text": [
      "2020-12-15 15:16:16,192 [DEBUG] kashgari - predict output: (39, 25)\n",
      "2020-12-15 15:16:16,195 [DEBUG] kashgari - predict output argmax: [[0 1 1 1 1 0 1 1 1 1 1 1 1 1 1 1 1 1 1 1 1 1 1 1 1]\n",
      " [0 1 1 1 1 0 1 1 1 1 1 1 1 1 1 1 1 1 1 1 1 1 1 1 1]\n",
      " [0 1 1 1 1 1 1 1 1 1 1 1 1 1 1 1 0 1 1 1 1 1 1 1 1]\n",
      " [0 1 1 1 1 1 1 1 1 1 1 0 1 1 1 1 1 1 1 1 1 1 1 1 1]\n",
      " [0 1 1 1 1 1 1 1 1 1 1 1 0 1 1 1 1 1 1 1 1 1 1 1 1]\n",
      " [0 1 1 1 1 0 1 1 1 1 1 1 1 1 1 1 1 1 1 1 1 1 1 1 1]\n",
      " [0 1 1 1 0 1 1 1 1 1 1 1 1 1 1 1 1 1 1 1 1 1 1 1 1]\n",
      " [0 1 1 1 1 0 1 1 1 1 1 1 1 1 1 1 1 1 1 1 1 1 1 1 1]\n",
      " [0 1 1 0 1 1 1 1 1 1 1 1 1 1 1 1 1 1 1 1 1 1 1 1 1]\n",
      " [0 1 1 1 1 1 1 1 1 1 1 1 0 1 1 1 1 1 1 1 1 1 1 1 1]\n",
      " [0 1 1 1 1 1 1 1 1 1 0 1 1 1 1 1 1 1 1 1 1 1 1 1 1]\n",
      " [0 1 1 1 1 1 1 0 1 1 1 1 1 1 1 1 1 1 1 1 1 1 1 1 1]\n",
      " [0 1 1 1 1 0 1 1 1 1 1 1 1 1 1 1 1 1 1 1 1 1 1 1 1]\n",
      " [0 1 1 1 1 0 1 1 1 1 1 1 1 1 1 1 1 1 1 1 1 1 1 1 1]\n",
      " [0 1 1 1 1 1 1 1 1 1 1 1 1 1 0 1 1 1 1 1 1 1 1 1 1]\n",
      " [0 1 1 1 1 0 1 1 1 1 1 1 1 1 1 1 1 1 1 1 1 1 1 1 1]\n",
      " [0 1 1 1 0 1 1 1 1 1 1 1 1 1 1 1 1 1 1 1 1 1 1 1 1]\n",
      " [0 1 1 1 1 1 1 1 1 1 1 1 1 1 0 1 1 1 1 1 1 1 1 1 1]\n",
      " [0 1 1 1 1 1 0 1 1 1 1 1 1 1 1 1 1 1 1 1 1 1 1 1 1]\n",
      " [0 1 1 1 1 1 1 1 1 1 1 1 1 1 1 1 1 0 1 1 1 1 1 1 1]\n",
      " [0 1 1 1 1 3 2 1 1 1 1 0 1 1 1 1 1 1 1 1 1 1 1 1 1]\n",
      " [0 1 1 1 1 0 1 1 1 1 1 1 1 1 1 1 1 1 1 1 1 1 1 1 1]\n",
      " [0 1 1 1 1 1 1 1 1 1 1 0 1 1 1 1 1 1 1 1 1 1 1 1 1]\n",
      " [0 1 1 1 1 0 1 1 1 1 1 1 1 1 1 1 1 1 1 1 1 1 1 1 1]\n",
      " [0 1 1 1 1 1 0 1 1 1 1 1 1 1 1 1 1 1 1 1 1 1 1 1 1]\n",
      " [0 1 1 1 1 0 1 1 1 1 1 1 1 1 1 1 1 1 1 1 1 1 1 1 1]\n",
      " [0 1 1 1 1 1 1 1 1 1 1 1 1 1 1 1 1 1 1 1 1 1 1 1 0]\n",
      " [0 1 1 1 1 0 1 1 1 1 1 1 1 1 1 1 1 1 1 1 1 1 1 1 1]\n",
      " [0 1 1 1 0 1 1 1 1 1 1 1 1 1 1 1 1 1 1 1 1 1 1 1 1]\n",
      " [0 1 1 1 1 1 0 1 1 1 1 1 1 1 1 1 1 1 1 1 1 1 1 1 1]\n",
      " [0 1 1 1 1 1 0 1 1 1 1 1 1 1 1 1 1 1 1 1 1 1 1 1 1]\n",
      " [0 1 0 1 1 1 1 1 1 1 1 1 1 1 1 1 1 1 1 1 1 1 1 1 1]\n",
      " [0 1 1 1 1 1 1 1 1 1 1 1 0 1 1 1 1 1 1 1 1 1 1 1 1]\n",
      " [0 1 1 1 1 0 1 1 1 1 1 1 1 1 1 1 1 1 1 1 1 1 1 1 1]\n",
      " [0 1 1 1 1 3 2 2 2 1 1 1 1 1 0 1 1 1 1 1 1 1 1 1 1]\n",
      " [0 1 1 1 1 0 1 1 1 1 1 1 1 1 1 1 1 1 1 1 1 1 1 1 1]\n",
      " [0 1 1 1 1 1 0 1 1 1 1 1 1 1 1 1 1 1 1 1 1 1 1 1 1]\n",
      " [0 1 1 0 1 1 1 1 1 1 1 1 1 1 1 1 1 1 1 1 1 1 1 1 1]\n",
      " [0 0 0 0 0 0 0 0 0 0 0 0 0 0 0 0 0 0 0 0 0 0 0 0 0]]\n",
      "2020-12-15 15:16:16,199 [DEBUG] kashgari - predict seq_length: None, input: (2, 175, 22)\n"
     ]
    },
    {
     "name": "stdout",
     "output_type": "stream",
     "text": [
      "6/6 [==============================] - 0s 41ms/step\n"
     ]
    },
    {
     "name": "stderr",
     "output_type": "stream",
     "text": [
      "2020-12-15 15:16:16,527 [DEBUG] kashgari - predict output: (175, 22)\n",
      "2020-12-15 15:16:16,529 [DEBUG] kashgari - predict output argmax: [[0 1 1 ... 1 1 1]\n",
      " [0 1 1 ... 1 1 1]\n",
      " [0 1 1 ... 1 1 1]\n",
      " ...\n",
      " [0 1 1 ... 1 1 1]\n",
      " [0 1 1 ... 1 1 1]\n",
      " [0 0 0 ... 0 0 0]]\n",
      "2020-12-15 15:16:16,532 [DEBUG] kashgari - predict seq_length: None, input: (2, 143, 28)\n"
     ]
    },
    {
     "name": "stdout",
     "output_type": "stream",
     "text": [
      "5/5 [==============================] - 0s 45ms/step\n"
     ]
    },
    {
     "name": "stderr",
     "output_type": "stream",
     "text": [
      "2020-12-15 15:16:16,853 [DEBUG] kashgari - predict output: (143, 28)\n",
      "2020-12-15 15:16:16,854 [DEBUG] kashgari - predict output argmax: [[0 1 1 ... 1 1 1]\n",
      " [0 1 1 ... 1 1 1]\n",
      " [0 1 1 ... 1 1 1]\n",
      " ...\n",
      " [0 1 1 ... 1 1 1]\n",
      " [0 1 1 ... 1 1 1]\n",
      " [0 0 0 ... 0 0 0]]\n",
      "2020-12-15 15:16:16,857 [DEBUG] kashgari - predict seq_length: None, input: (2, 88, 21)\n"
     ]
    },
    {
     "name": "stdout",
     "output_type": "stream",
     "text": [
      "3/3 [==============================] - 0s 33ms/step\n"
     ]
    },
    {
     "name": "stderr",
     "output_type": "stream",
     "text": [
      "2020-12-15 15:16:17,031 [DEBUG] kashgari - predict output: (88, 21)\n",
      "2020-12-15 15:16:17,032 [DEBUG] kashgari - predict output argmax: [[0 1 1 ... 1 1 1]\n",
      " [0 1 1 ... 1 1 1]\n",
      " [0 1 1 ... 1 1 1]\n",
      " ...\n",
      " [0 1 1 ... 1 1 1]\n",
      " [0 1 1 ... 1 1 1]\n",
      " [0 0 0 ... 0 0 0]]\n",
      "2020-12-15 15:16:17,034 [DEBUG] kashgari - predict seq_length: None, input: (2, 121, 28)\n"
     ]
    },
    {
     "name": "stdout",
     "output_type": "stream",
     "text": [
      "4/4 [==============================] - 0s 44ms/step\n"
     ]
    },
    {
     "name": "stderr",
     "output_type": "stream",
     "text": [
      "2020-12-15 15:16:17,293 [DEBUG] kashgari - predict output: (121, 28)\n",
      "2020-12-15 15:16:17,294 [DEBUG] kashgari - predict output argmax: [[0 1 1 ... 1 1 1]\n",
      " [0 1 1 ... 1 1 1]\n",
      " [0 1 1 ... 1 1 1]\n",
      " ...\n",
      " [0 1 1 ... 1 1 1]\n",
      " [0 1 1 ... 1 1 1]\n",
      " [0 0 0 ... 0 0 0]]\n",
      "2020-12-15 15:16:17,297 [DEBUG] kashgari - predict seq_length: None, input: (2, 85, 27)\n"
     ]
    },
    {
     "name": "stdout",
     "output_type": "stream",
     "text": [
      "3/3 [==============================] - 0s 32ms/step\n"
     ]
    },
    {
     "name": "stderr",
     "output_type": "stream",
     "text": [
      "2020-12-15 15:16:21,913 [DEBUG] kashgari - predict output: (85, 27)\n",
      "2020-12-15 15:16:21,915 [DEBUG] kashgari - predict output argmax: [[0 1 1 ... 1 1 1]\n",
      " [0 1 1 ... 1 1 1]\n",
      " [0 1 1 ... 1 1 1]\n",
      " ...\n",
      " [0 1 1 ... 1 1 1]\n",
      " [0 1 1 ... 1 1 1]\n",
      " [0 0 0 ... 0 0 0]]\n",
      "2020-12-15 15:16:21,920 [DEBUG] kashgari - predict seq_length: None, input: (2, 255, 19)\n"
     ]
    },
    {
     "name": "stdout",
     "output_type": "stream",
     "text": [
      "8/8 [==============================] - 0s 41ms/step\n"
     ]
    },
    {
     "name": "stderr",
     "output_type": "stream",
     "text": [
      "2020-12-15 15:16:26,678 [DEBUG] kashgari - predict output: (255, 19)\n",
      "2020-12-15 15:16:26,679 [DEBUG] kashgari - predict output argmax: [[0 1 1 ... 1 1 1]\n",
      " [0 1 1 ... 1 1 1]\n",
      " [0 1 1 ... 1 1 1]\n",
      " ...\n",
      " [0 1 1 ... 1 1 1]\n",
      " [0 1 1 ... 1 1 1]\n",
      " [0 0 0 ... 0 0 0]]\n",
      "2020-12-15 15:16:26,682 [DEBUG] kashgari - predict seq_length: None, input: (2, 202, 29)\n"
     ]
    },
    {
     "name": "stdout",
     "output_type": "stream",
     "text": [
      "7/7 [==============================] - 0s 48ms/step\n"
     ]
    },
    {
     "name": "stderr",
     "output_type": "stream",
     "text": [
      "2020-12-15 15:16:31,640 [DEBUG] kashgari - predict output: (202, 29)\n",
      "2020-12-15 15:16:31,641 [DEBUG] kashgari - predict output argmax: [[0 1 1 ... 1 1 1]\n",
      " [0 1 1 ... 1 1 1]\n",
      " [0 1 1 ... 1 1 0]\n",
      " ...\n",
      " [0 1 1 ... 1 1 1]\n",
      " [0 1 1 ... 1 1 1]\n",
      " [0 0 0 ... 0 0 0]]\n",
      "2020-12-15 15:16:31,645 [DEBUG] kashgari - predict seq_length: None, input: (2, 198, 19)\n"
     ]
    },
    {
     "name": "stdout",
     "output_type": "stream",
     "text": [
      "7/7 [==============================] - 0s 36ms/step\n"
     ]
    },
    {
     "name": "stderr",
     "output_type": "stream",
     "text": [
      "2020-12-15 15:16:31,968 [DEBUG] kashgari - predict output: (198, 19)\n",
      "2020-12-15 15:16:31,969 [DEBUG] kashgari - predict output argmax: [[0 1 1 ... 1 1 1]\n",
      " [0 1 1 ... 1 1 1]\n",
      " [0 1 1 ... 1 1 1]\n",
      " ...\n",
      " [0 1 1 ... 1 1 1]\n",
      " [0 1 1 ... 6 6 6]\n",
      " [0 0 0 ... 0 0 0]]\n",
      "2020-12-15 15:16:31,972 [DEBUG] kashgari - predict seq_length: None, input: (2, 102, 39)\n"
     ]
    },
    {
     "name": "stdout",
     "output_type": "stream",
     "text": [
      "4/4 [==============================] - 0s 44ms/step\n"
     ]
    },
    {
     "name": "stderr",
     "output_type": "stream",
     "text": [
      "2020-12-15 15:16:36,665 [DEBUG] kashgari - predict output: (102, 39)\n",
      "2020-12-15 15:16:36,666 [DEBUG] kashgari - predict output argmax: [[0 1 1 ... 1 1 1]\n",
      " [0 1 1 ... 1 1 1]\n",
      " [0 1 1 ... 1 1 1]\n",
      " ...\n",
      " [0 1 1 ... 1 1 1]\n",
      " [0 1 1 ... 1 1 1]\n",
      " [0 0 0 ... 0 0 0]]\n",
      "2020-12-15 15:16:36,669 [DEBUG] kashgari - predict seq_length: None, input: (2, 72, 36)\n"
     ]
    },
    {
     "name": "stdout",
     "output_type": "stream",
     "text": [
      "3/3 [==============================] - 0s 38ms/step\n"
     ]
    },
    {
     "name": "stderr",
     "output_type": "stream",
     "text": [
      "2020-12-15 15:16:41,246 [DEBUG] kashgari - predict output: (72, 36)\n",
      "2020-12-15 15:16:41,247 [DEBUG] kashgari - predict output argmax: [[0 1 1 ... 1 1 1]\n",
      " [0 1 0 ... 1 1 1]\n",
      " [0 1 1 ... 1 1 1]\n",
      " ...\n",
      " [0 1 1 ... 1 1 1]\n",
      " [0 1 1 ... 1 1 1]\n",
      " [0 0 0 ... 0 0 0]]\n",
      "2020-12-15 15:16:41,251 [DEBUG] kashgari - predict seq_length: None, input: (2, 246, 27)\n"
     ]
    },
    {
     "name": "stdout",
     "output_type": "stream",
     "text": [
      "8/8 [==============================] - 0s 49ms/step\n"
     ]
    },
    {
     "name": "stderr",
     "output_type": "stream",
     "text": [
      "2020-12-15 15:16:41,724 [DEBUG] kashgari - predict output: (246, 27)\n",
      "2020-12-15 15:16:41,725 [DEBUG] kashgari - predict output argmax: [[0 1 1 ... 1 1 1]\n",
      " [0 1 1 ... 1 1 1]\n",
      " [0 1 1 ... 1 1 1]\n",
      " ...\n",
      " [0 1 1 ... 1 1 1]\n",
      " [0 1 1 ... 1 1 1]\n",
      " [0 0 0 ... 0 0 0]]\n",
      "2020-12-15 15:16:41,726 [DEBUG] kashgari - predict seq_length: None, input: (2, 57, 34)\n"
     ]
    },
    {
     "name": "stdout",
     "output_type": "stream",
     "text": [
      "2/2 [==============================] - 0s 37ms/step\n"
     ]
    },
    {
     "name": "stderr",
     "output_type": "stream",
     "text": [
      "2020-12-15 15:16:46,375 [DEBUG] kashgari - predict output: (57, 34)\n",
      "2020-12-15 15:16:46,376 [DEBUG] kashgari - predict output argmax: [[0 1 1 ... 1 1 1]\n",
      " [0 1 1 ... 1 1 1]\n",
      " [0 1 1 ... 1 1 1]\n",
      " ...\n",
      " [0 1 1 ... 1 1 1]\n",
      " [0 1 1 ... 1 1 1]\n",
      " [0 0 0 ... 0 0 0]]\n",
      "2020-12-15 15:16:46,377 [DEBUG] kashgari - predict seq_length: None, input: (2, 82, 21)\n"
     ]
    },
    {
     "name": "stdout",
     "output_type": "stream",
     "text": [
      "3/3 [==============================] - 0s 28ms/step\n"
     ]
    },
    {
     "name": "stderr",
     "output_type": "stream",
     "text": [
      "2020-12-15 15:16:46,535 [DEBUG] kashgari - predict output: (82, 21)\n",
      "2020-12-15 15:16:46,536 [DEBUG] kashgari - predict output argmax: [[0 1 1 ... 1 1 1]\n",
      " [0 1 1 ... 1 1 1]\n",
      " [0 1 1 ... 1 1 1]\n",
      " ...\n",
      " [0 1 1 ... 1 1 1]\n",
      " [0 1 1 ... 1 1 1]\n",
      " [0 0 0 ... 0 0 0]]\n",
      "2020-12-15 15:16:46,541 [DEBUG] kashgari - predict seq_length: None, input: (2, 185, 32)\n"
     ]
    },
    {
     "name": "stdout",
     "output_type": "stream",
     "text": [
      "6/6 [==============================] - 0s 52ms/step\n"
     ]
    },
    {
     "name": "stderr",
     "output_type": "stream",
     "text": [
      "2020-12-15 15:16:52,625 [DEBUG] kashgari - predict output: (185, 32)\n",
      "2020-12-15 15:16:52,627 [DEBUG] kashgari - predict output argmax: [[0 1 1 ... 1 1 1]\n",
      " [0 1 1 ... 1 1 1]\n",
      " [0 1 1 ... 1 1 1]\n",
      " ...\n",
      " [0 1 1 ... 1 1 1]\n",
      " [0 1 1 ... 1 1 1]\n",
      " [0 0 0 ... 0 0 0]]\n",
      "2020-12-15 15:16:52,629 [DEBUG] kashgari - predict seq_length: None, input: (2, 148, 28)\n"
     ]
    },
    {
     "name": "stdout",
     "output_type": "stream",
     "text": [
      "5/5 [==============================] - 0s 44ms/step\n"
     ]
    },
    {
     "name": "stderr",
     "output_type": "stream",
     "text": [
      "2020-12-15 15:16:52,934 [DEBUG] kashgari - predict output: (148, 28)\n",
      "2020-12-15 15:16:52,935 [DEBUG] kashgari - predict output argmax: [[0 1 1 ... 1 1 1]\n",
      " [0 1 1 ... 1 1 1]\n",
      " [0 1 1 ... 1 1 1]\n",
      " ...\n",
      " [0 1 1 ... 1 1 1]\n",
      " [0 1 1 ... 1 1 1]\n",
      " [0 0 0 ... 0 0 0]]\n",
      "2020-12-15 15:16:52,939 [DEBUG] kashgari - predict seq_length: None, input: (2, 281, 23)\n"
     ]
    },
    {
     "name": "stdout",
     "output_type": "stream",
     "text": [
      "9/9 [==============================] - 0s 43ms/step\n"
     ]
    },
    {
     "name": "stderr",
     "output_type": "stream",
     "text": [
      "2020-12-15 15:16:53,421 [DEBUG] kashgari - predict output: (281, 23)\n",
      "2020-12-15 15:16:53,422 [DEBUG] kashgari - predict output argmax: [[0 1 1 ... 1 1 1]\n",
      " [0 1 1 ... 1 1 1]\n",
      " [0 1 1 ... 1 1 1]\n",
      " ...\n",
      " [0 1 0 ... 1 1 1]\n",
      " [0 1 1 ... 1 1 1]\n",
      " [0 0 0 ... 0 0 0]]\n",
      "2020-12-15 15:16:53,424 [DEBUG] kashgari - predict seq_length: None, input: (2, 116, 20)\n"
     ]
    },
    {
     "name": "stdout",
     "output_type": "stream",
     "text": [
      "4/4 [==============================] - 0s 31ms/step\n"
     ]
    },
    {
     "name": "stderr",
     "output_type": "stream",
     "text": [
      "2020-12-15 15:16:57,930 [DEBUG] kashgari - predict output: (116, 20)\n",
      "2020-12-15 15:16:57,931 [DEBUG] kashgari - predict output argmax: [[0 1 1 ... 1 1 1]\n",
      " [0 1 1 ... 1 1 1]\n",
      " [0 1 1 ... 1 1 1]\n",
      " ...\n",
      " [0 1 1 ... 1 1 1]\n",
      " [0 1 1 ... 1 1 1]\n",
      " [0 0 0 ... 0 0 0]]\n",
      "2020-12-15 15:16:57,934 [DEBUG] kashgari - predict seq_length: None, input: (2, 168, 25)\n"
     ]
    },
    {
     "name": "stdout",
     "output_type": "stream",
     "text": [
      "6/6 [==============================] - 0s 39ms/step\n"
     ]
    },
    {
     "name": "stderr",
     "output_type": "stream",
     "text": [
      "2020-12-15 15:16:58,244 [DEBUG] kashgari - predict output: (168, 25)\n",
      "2020-12-15 15:16:58,245 [DEBUG] kashgari - predict output argmax: [[0 1 1 ... 1 1 1]\n",
      " [0 1 1 ... 1 1 1]\n",
      " [0 3 2 ... 1 1 1]\n",
      " ...\n",
      " [0 1 1 ... 1 1 1]\n",
      " [0 1 1 ... 1 1 1]\n",
      " [0 0 0 ... 0 0 0]]\n",
      "2020-12-15 15:16:58,249 [DEBUG] kashgari - predict seq_length: None, input: (2, 218, 30)\n"
     ]
    },
    {
     "name": "stdout",
     "output_type": "stream",
     "text": [
      "7/7 [==============================] - 0s 46ms/step\n"
     ]
    },
    {
     "name": "stderr",
     "output_type": "stream",
     "text": [
      "2020-12-15 15:17:02,827 [DEBUG] kashgari - predict output: (218, 30)\n",
      "2020-12-15 15:17:02,828 [DEBUG] kashgari - predict output argmax: [[0 1 1 ... 1 1 1]\n",
      " [0 1 1 ... 1 1 1]\n",
      " [0 1 1 ... 1 1 1]\n",
      " ...\n",
      " [0 1 1 ... 1 1 1]\n",
      " [0 1 1 ... 1 1 1]\n",
      " [0 0 0 ... 0 0 0]]\n",
      "2020-12-15 15:17:02,831 [DEBUG] kashgari - predict seq_length: None, input: (2, 123, 32)\n"
     ]
    },
    {
     "name": "stdout",
     "output_type": "stream",
     "text": [
      "4/4 [==============================] - 0s 43ms/step\n"
     ]
    },
    {
     "name": "stderr",
     "output_type": "stream",
     "text": [
      "2020-12-15 15:17:03,090 [DEBUG] kashgari - predict output: (123, 32)\n",
      "2020-12-15 15:17:03,091 [DEBUG] kashgari - predict output argmax: [[0 1 1 ... 1 1 1]\n",
      " [0 1 1 ... 1 1 1]\n",
      " [0 1 1 ... 1 1 1]\n",
      " ...\n",
      " [0 1 1 ... 1 1 1]\n",
      " [0 1 1 ... 1 1 1]\n",
      " [0 0 0 ... 0 0 0]]\n",
      "2020-12-15 15:17:03,093 [DEBUG] kashgari - predict seq_length: None, input: (2, 82, 21)\n"
     ]
    },
    {
     "name": "stdout",
     "output_type": "stream",
     "text": [
      "3/3 [==============================] - 0s 26ms/step\n"
     ]
    },
    {
     "name": "stderr",
     "output_type": "stream",
     "text": [
      "2020-12-15 15:17:03,239 [DEBUG] kashgari - predict output: (82, 21)\n",
      "2020-12-15 15:17:03,240 [DEBUG] kashgari - predict output argmax: [[0 1 1 ... 1 1 1]\n",
      " [0 1 1 ... 1 1 1]\n",
      " [0 3 2 ... 1 1 1]\n",
      " ...\n",
      " [0 1 1 ... 1 1 1]\n",
      " [0 1 1 ... 1 1 1]\n",
      " [0 0 0 ... 0 0 0]]\n",
      "2020-12-15 15:17:03,242 [DEBUG] kashgari - predict seq_length: None, input: (2, 95, 19)\n"
     ]
    },
    {
     "name": "stdout",
     "output_type": "stream",
     "text": [
      "3/3 [==============================] - 0s 26ms/step\n"
     ]
    },
    {
     "name": "stderr",
     "output_type": "stream",
     "text": [
      "2020-12-15 15:17:03,402 [DEBUG] kashgari - predict output: (95, 19)\n",
      "2020-12-15 15:17:03,403 [DEBUG] kashgari - predict output argmax: [[0 1 1 ... 2 2 2]\n",
      " [0 3 2 ... 1 1 1]\n",
      " [0 1 1 ... 1 1 1]\n",
      " ...\n",
      " [0 1 0 ... 1 1 1]\n",
      " [0 1 1 ... 1 1 1]\n",
      " [0 0 0 ... 0 0 0]]\n",
      "2020-12-15 15:17:03,409 [DEBUG] kashgari - predict seq_length: None, input: (2, 245, 24)\n"
     ]
    },
    {
     "name": "stdout",
     "output_type": "stream",
     "text": [
      "8/8 [==============================] - 0s 42ms/step\n"
     ]
    },
    {
     "name": "stderr",
     "output_type": "stream",
     "text": [
      "2020-12-15 15:17:07,945 [DEBUG] kashgari - predict output: (245, 24)\n",
      "2020-12-15 15:17:07,946 [DEBUG] kashgari - predict output argmax: [[0 1 1 ... 1 1 1]\n",
      " [0 1 1 ... 1 1 1]\n",
      " [0 1 1 ... 1 1 1]\n",
      " ...\n",
      " [0 1 7 ... 1 1 1]\n",
      " [0 1 1 ... 1 1 1]\n",
      " [0 0 0 ... 0 0 0]]\n",
      "2020-12-15 15:17:07,949 [DEBUG] kashgari - predict seq_length: None, input: (2, 126, 31)\n"
     ]
    },
    {
     "name": "stdout",
     "output_type": "stream",
     "text": [
      "4/4 [==============================] - 0s 45ms/step\n"
     ]
    },
    {
     "name": "stderr",
     "output_type": "stream",
     "text": [
      "2020-12-15 15:17:12,692 [DEBUG] kashgari - predict output: (126, 31)\n",
      "2020-12-15 15:17:12,693 [DEBUG] kashgari - predict output argmax: [[0 1 1 ... 1 1 1]\n",
      " [0 1 1 ... 4 4 4]\n",
      " [0 1 1 ... 1 1 1]\n",
      " ...\n",
      " [0 1 7 ... 1 1 1]\n",
      " [0 1 1 ... 1 1 1]\n",
      " [0 0 0 ... 0 0 0]]\n",
      "2020-12-15 15:17:12,694 [DEBUG] kashgari - predict seq_length: None, input: (2, 64, 19)\n"
     ]
    },
    {
     "name": "stdout",
     "output_type": "stream",
     "text": [
      "2/2 [==============================] - 0s 15ms/step\n"
     ]
    },
    {
     "name": "stderr",
     "output_type": "stream",
     "text": [
      "2020-12-15 15:17:15,608 [DEBUG] kashgari - predict output: (64, 19)\n",
      "2020-12-15 15:17:15,609 [DEBUG] kashgari - predict output argmax: [[0 1 1 ... 1 1 1]\n",
      " [0 1 1 ... 1 1 1]\n",
      " [0 1 1 ... 1 1 1]\n",
      " ...\n",
      " [0 1 1 ... 1 1 1]\n",
      " [0 1 1 ... 1 1 1]\n",
      " [0 0 0 ... 0 0 0]]\n",
      "2020-12-15 15:17:15,611 [DEBUG] kashgari - predict seq_length: None, input: (2, 93, 24)\n"
     ]
    },
    {
     "name": "stdout",
     "output_type": "stream",
     "text": [
      "3/3 [==============================] - 0s 35ms/step\n"
     ]
    },
    {
     "name": "stderr",
     "output_type": "stream",
     "text": [
      "2020-12-15 15:17:15,796 [DEBUG] kashgari - predict output: (93, 24)\n",
      "2020-12-15 15:17:15,797 [DEBUG] kashgari - predict output argmax: [[0 1 1 ... 1 1 1]\n",
      " [0 1 1 ... 1 1 1]\n",
      " [0 1 1 ... 1 1 1]\n",
      " ...\n",
      " [0 1 1 ... 1 1 1]\n",
      " [0 1 1 ... 1 1 1]\n",
      " [0 0 0 ... 0 0 0]]\n",
      "2020-12-15 15:17:15,802 [DEBUG] kashgari - predict seq_length: None, input: (2, 214, 16)\n"
     ]
    },
    {
     "name": "stdout",
     "output_type": "stream",
     "text": [
      "7/7 [==============================] - 0s 34ms/step\n"
     ]
    },
    {
     "name": "stderr",
     "output_type": "stream",
     "text": [
      "2020-12-15 15:17:20,209 [DEBUG] kashgari - predict output: (214, 16)\n",
      "2020-12-15 15:17:20,209 [DEBUG] kashgari - predict output argmax: [[0 1 1 ... 1 1 1]\n",
      " [0 1 1 ... 1 1 1]\n",
      " [0 1 1 ... 1 1 1]\n",
      " ...\n",
      " [0 1 1 ... 1 1 1]\n",
      " [0 1 1 ... 1 1 1]\n",
      " [0 0 0 ... 0 0 0]]\n",
      "2020-12-15 15:17:20,212 [DEBUG] kashgari - predict seq_length: None, input: (2, 53, 20)\n"
     ]
    },
    {
     "name": "stdout",
     "output_type": "stream",
     "text": [
      "2/2 [==============================] - 0s 23ms/step\n"
     ]
    },
    {
     "name": "stderr",
     "output_type": "stream",
     "text": [
      "2020-12-15 15:17:20,326 [DEBUG] kashgari - predict output: (53, 20)\n",
      "2020-12-15 15:17:20,327 [DEBUG] kashgari - predict output argmax: [[0 1 1 ... 1 1 1]\n",
      " [0 1 1 ... 1 1 1]\n",
      " [0 1 1 ... 1 1 1]\n",
      " ...\n",
      " [0 1 1 ... 1 1 1]\n",
      " [0 1 1 ... 1 1 1]\n",
      " [0 0 0 ... 0 0 0]]\n",
      "2020-12-15 15:17:20,333 [DEBUG] kashgari - predict seq_length: None, input: (2, 384, 18)\n"
     ]
    },
    {
     "name": "stdout",
     "output_type": "stream",
     "text": [
      "12/12 [==============================] - 0s 28ms/step\n"
     ]
    },
    {
     "name": "stderr",
     "output_type": "stream",
     "text": [
      "2020-12-15 15:17:23,943 [DEBUG] kashgari - predict output: (384, 18)\n",
      "2020-12-15 15:17:23,944 [DEBUG] kashgari - predict output argmax: [[0 1 1 ... 1 1 1]\n",
      " [0 1 1 ... 1 1 1]\n",
      " [0 1 1 ... 1 1 1]\n",
      " ...\n",
      " [0 1 1 ... 1 1 1]\n",
      " [0 1 1 ... 1 1 1]\n",
      " [0 0 0 ... 0 0 0]]\n",
      "2020-12-15 15:17:23,947 [DEBUG] kashgari - predict seq_length: None, input: (2, 172, 24)\n"
     ]
    },
    {
     "name": "stdout",
     "output_type": "stream",
     "text": [
      "6/6 [==============================] - 0s 36ms/step\n"
     ]
    },
    {
     "name": "stderr",
     "output_type": "stream",
     "text": [
      "2020-12-15 15:17:24,233 [DEBUG] kashgari - predict output: (172, 24)\n",
      "2020-12-15 15:17:24,234 [DEBUG] kashgari - predict output argmax: [[0 1 1 ... 1 1 1]\n",
      " [0 1 1 ... 1 1 1]\n",
      " [0 1 1 ... 1 1 1]\n",
      " ...\n",
      " [0 1 1 ... 1 1 1]\n",
      " [0 1 1 ... 1 1 1]\n",
      " [0 0 0 ... 0 0 0]]\n",
      "2020-12-15 15:17:24,236 [DEBUG] kashgari - predict seq_length: None, input: (2, 114, 24)\n"
     ]
    },
    {
     "name": "stdout",
     "output_type": "stream",
     "text": [
      "4/4 [==============================] - 0s 32ms/step\n"
     ]
    },
    {
     "name": "stderr",
     "output_type": "stream",
     "text": [
      "2020-12-15 15:17:24,441 [DEBUG] kashgari - predict output: (114, 24)\n",
      "2020-12-15 15:17:24,442 [DEBUG] kashgari - predict output argmax: [[0 1 1 ... 1 1 1]\n",
      " [0 1 1 ... 1 1 0]\n",
      " [0 1 1 ... 1 1 1]\n",
      " ...\n",
      " [0 1 1 ... 1 1 1]\n",
      " [0 1 1 ... 1 1 1]\n",
      " [0 0 0 ... 0 0 0]]\n",
      "2020-12-15 15:17:24,445 [DEBUG] kashgari - predict seq_length: None, input: (2, 111, 47)\n"
     ]
    },
    {
     "name": "stdout",
     "output_type": "stream",
     "text": [
      "4/4 [==============================] - 0s 51ms/step\n"
     ]
    },
    {
     "name": "stderr",
     "output_type": "stream",
     "text": [
      "2020-12-15 15:17:24,763 [DEBUG] kashgari - predict output: (111, 47)\n",
      "2020-12-15 15:17:24,764 [DEBUG] kashgari - predict output argmax: [[0 1 1 ... 2 2 2]\n",
      " [0 1 1 ... 1 1 1]\n",
      " [0 1 0 ... 1 1 1]\n",
      " ...\n",
      " [0 1 1 ... 1 1 1]\n",
      " [0 1 1 ... 1 1 1]\n",
      " [0 0 0 ... 0 0 0]]\n",
      "2020-12-15 15:17:24,771 [DEBUG] kashgari - predict seq_length: None, input: (2, 350, 34)\n"
     ]
    },
    {
     "name": "stdout",
     "output_type": "stream",
     "text": [
      "11/11 [==============================] - 1s 51ms/step\n"
     ]
    },
    {
     "name": "stderr",
     "output_type": "stream",
     "text": [
      "2020-12-15 15:17:25,414 [DEBUG] kashgari - predict output: (350, 34)\n",
      "2020-12-15 15:17:25,415 [DEBUG] kashgari - predict output argmax: [[ 0  1  1 ...  1  1  1]\n",
      " [ 0  1  1 ...  1  1  1]\n",
      " [ 0  1  1 ...  1  1  1]\n",
      " ...\n",
      " [ 0  1  1 ... 14 14 14]\n",
      " [ 0  1  1 ...  1  1  1]\n",
      " [ 0  0  0 ...  0  0  0]]\n",
      "2020-12-15 15:17:25,417 [DEBUG] kashgari - predict seq_length: None, input: (2, 56, 20)\n"
     ]
    },
    {
     "name": "stdout",
     "output_type": "stream",
     "text": [
      "2/2 [==============================] - 0s 20ms/step\n"
     ]
    },
    {
     "name": "stderr",
     "output_type": "stream",
     "text": [
      "2020-12-15 15:17:25,526 [DEBUG] kashgari - predict output: (56, 20)\n",
      "2020-12-15 15:17:25,527 [DEBUG] kashgari - predict output argmax: [[0 1 1 ... 1 1 1]\n",
      " [0 1 1 ... 1 1 1]\n",
      " [0 1 1 ... 1 1 1]\n",
      " ...\n",
      " [0 1 1 ... 1 1 1]\n",
      " [0 1 1 ... 1 1 1]\n",
      " [0 0 0 ... 0 0 0]]\n",
      "2020-12-15 15:17:25,532 [DEBUG] kashgari - predict seq_length: None, input: (2, 131, 17)\n"
     ]
    },
    {
     "name": "stdout",
     "output_type": "stream",
     "text": [
      "5/5 [==============================] - 0s 29ms/step\n"
     ]
    },
    {
     "name": "stderr",
     "output_type": "stream",
     "text": [
      "2020-12-15 15:17:25,738 [DEBUG] kashgari - predict output: (131, 17)\n",
      "2020-12-15 15:17:25,738 [DEBUG] kashgari - predict output argmax: [[0 1 1 ... 1 1 1]\n",
      " [0 1 1 ... 1 1 1]\n",
      " [0 1 1 ... 1 1 1]\n",
      " ...\n",
      " [0 1 1 ... 1 1 1]\n",
      " [0 1 1 ... 1 1 1]\n",
      " [0 0 0 ... 0 0 0]]\n",
      "2020-12-15 15:17:25,741 [DEBUG] kashgari - predict seq_length: None, input: (2, 184, 34)\n"
     ]
    },
    {
     "name": "stdout",
     "output_type": "stream",
     "text": [
      "6/6 [==============================] - 0s 48ms/step\n"
     ]
    },
    {
     "name": "stderr",
     "output_type": "stream",
     "text": [
      "2020-12-15 15:17:26,110 [DEBUG] kashgari - predict output: (184, 34)\n",
      "2020-12-15 15:17:26,111 [DEBUG] kashgari - predict output argmax: [[0 1 1 ... 1 1 1]\n",
      " [0 1 1 ... 1 1 1]\n",
      " [0 1 1 ... 1 1 1]\n",
      " ...\n",
      " [0 1 1 ... 1 1 1]\n",
      " [0 1 1 ... 1 1 1]\n",
      " [0 0 0 ... 0 0 0]]\n",
      "2020-12-15 15:17:26,113 [DEBUG] kashgari - predict seq_length: None, input: (2, 133, 51)\n"
     ]
    },
    {
     "name": "stdout",
     "output_type": "stream",
     "text": [
      "5/5 [==============================] - 0s 56ms/step\n"
     ]
    },
    {
     "name": "stderr",
     "output_type": "stream",
     "text": [
      "2020-12-15 15:17:30,750 [DEBUG] kashgari - predict output: (133, 51)\n",
      "2020-12-15 15:17:30,751 [DEBUG] kashgari - predict output argmax: [[0 1 1 ... 1 1 1]\n",
      " [0 9 5 ... 4 4 4]\n",
      " [0 1 1 ... 1 1 1]\n",
      " ...\n",
      " [0 1 0 ... 1 1 1]\n",
      " [0 1 1 ... 1 1 1]\n",
      " [0 0 0 ... 0 0 0]]\n",
      "2020-12-15 15:17:30,754 [DEBUG] kashgari - predict seq_length: None, input: (2, 210, 53)\n"
     ]
    },
    {
     "name": "stdout",
     "output_type": "stream",
     "text": [
      "7/7 [==============================] - 0s 68ms/step\n"
     ]
    },
    {
     "name": "stderr",
     "output_type": "stream",
     "text": [
      "2020-12-15 15:17:35,504 [DEBUG] kashgari - predict output: (210, 53)\n",
      "2020-12-15 15:17:35,505 [DEBUG] kashgari - predict output argmax: [[0 1 1 ... 1 1 1]\n",
      " [0 1 1 ... 1 1 1]\n",
      " [0 1 1 ... 5 5 5]\n",
      " ...\n",
      " [0 1 1 ... 1 1 1]\n",
      " [0 1 1 ... 1 1 1]\n",
      " [0 0 0 ... 0 0 0]]\n",
      "2020-12-15 15:17:35,509 [DEBUG] kashgari - predict seq_length: None, input: (2, 193, 55)\n"
     ]
    },
    {
     "name": "stdout",
     "output_type": "stream",
     "text": [
      "7/7 [==============================] - 0s 65ms/step\n"
     ]
    },
    {
     "name": "stderr",
     "output_type": "stream",
     "text": [
      "2020-12-15 15:17:41,515 [DEBUG] kashgari - predict output: (193, 55)\n",
      "2020-12-15 15:17:41,516 [DEBUG] kashgari - predict output argmax: [[ 0  1  1 ...  1  1  1]\n",
      " [ 0  1  1 ... 14 14 14]\n",
      " [ 0  1  1 ...  1  1  1]\n",
      " ...\n",
      " [ 0  1  1 ...  1  1  1]\n",
      " [ 0  1  1 ...  1  1  1]\n",
      " [ 0  0  0 ...  0  0  0]]\n",
      "2020-12-15 15:17:41,518 [DEBUG] kashgari - predict seq_length: None, input: (2, 75, 30)\n"
     ]
    },
    {
     "name": "stdout",
     "output_type": "stream",
     "text": [
      "3/3 [==============================] - 0s 27ms/step\n"
     ]
    },
    {
     "name": "stderr",
     "output_type": "stream",
     "text": [
      "2020-12-15 15:17:41,682 [DEBUG] kashgari - predict output: (75, 30)\n",
      "2020-12-15 15:17:41,682 [DEBUG] kashgari - predict output argmax: [[0 1 1 ... 1 1 1]\n",
      " [0 1 1 ... 1 1 1]\n",
      " [0 1 1 ... 0 1 1]\n",
      " ...\n",
      " [0 1 0 ... 1 1 1]\n",
      " [0 1 1 ... 1 1 1]\n",
      " [0 0 0 ... 0 0 0]]\n",
      "2020-12-15 15:17:41,688 [DEBUG] kashgari - predict seq_length: None, input: (2, 280, 46)\n"
     ]
    },
    {
     "name": "stdout",
     "output_type": "stream",
     "text": [
      "9/9 [==============================] - 1s 63ms/step\n"
     ]
    },
    {
     "name": "stderr",
     "output_type": "stream",
     "text": [
      "2020-12-15 15:17:46,570 [DEBUG] kashgari - predict output: (280, 46)\n",
      "2020-12-15 15:17:46,571 [DEBUG] kashgari - predict output argmax: [[0 1 1 ... 1 1 1]\n",
      " [0 1 1 ... 1 1 1]\n",
      " [0 1 1 ... 1 1 1]\n",
      " ...\n",
      " [0 1 1 ... 1 1 1]\n",
      " [0 1 1 ... 1 1 1]\n",
      " [0 0 0 ... 0 0 0]]\n",
      "2020-12-15 15:17:46,574 [DEBUG] kashgari - predict seq_length: None, input: (2, 210, 20)\n"
     ]
    },
    {
     "name": "stdout",
     "output_type": "stream",
     "text": [
      "7/7 [==============================] - 0s 33ms/step\n"
     ]
    },
    {
     "name": "stderr",
     "output_type": "stream",
     "text": [
      "2020-12-15 15:17:46,871 [DEBUG] kashgari - predict output: (210, 20)\n",
      "2020-12-15 15:17:46,872 [DEBUG] kashgari - predict output argmax: [[0 1 1 ... 1 1 1]\n",
      " [0 1 1 ... 1 1 1]\n",
      " [0 1 0 ... 1 1 1]\n",
      " ...\n",
      " [0 1 0 ... 1 1 1]\n",
      " [0 1 1 ... 1 1 1]\n",
      " [0 0 0 ... 0 0 0]]\n",
      "2020-12-15 15:17:46,881 [DEBUG] kashgari - predict seq_length: None, input: (2, 176, 24)\n"
     ]
    },
    {
     "name": "stdout",
     "output_type": "stream",
     "text": [
      "6/6 [==============================] - 0s 36ms/step\n"
     ]
    },
    {
     "name": "stderr",
     "output_type": "stream",
     "text": [
      "2020-12-15 15:17:47,176 [DEBUG] kashgari - predict output: (176, 24)\n",
      "2020-12-15 15:17:47,177 [DEBUG] kashgari - predict output argmax: [[0 1 1 ... 1 1 1]\n",
      " [0 1 1 ... 1 1 1]\n",
      " [0 1 1 ... 1 1 1]\n",
      " ...\n",
      " [0 1 1 ... 1 1 1]\n",
      " [0 1 1 ... 1 1 1]\n",
      " [0 0 0 ... 0 0 0]]\n",
      "2020-12-15 15:17:47,181 [DEBUG] kashgari - predict seq_length: None, input: (2, 218, 25)\n"
     ]
    },
    {
     "name": "stdout",
     "output_type": "stream",
     "text": [
      "7/7 [==============================] - 0s 41ms/step\n"
     ]
    },
    {
     "name": "stderr",
     "output_type": "stream",
     "text": [
      "2020-12-15 15:17:47,537 [DEBUG] kashgari - predict output: (218, 25)\n",
      "2020-12-15 15:17:47,538 [DEBUG] kashgari - predict output argmax: [[0 1 1 ... 1 1 1]\n",
      " [0 1 1 ... 1 1 1]\n",
      " [0 1 1 ... 1 1 1]\n",
      " ...\n",
      " [0 1 1 ... 1 1 1]\n",
      " [0 1 1 ... 1 1 1]\n",
      " [0 0 0 ... 0 0 0]]\n",
      "2020-12-15 15:17:47,541 [DEBUG] kashgari - predict seq_length: None, input: (2, 91, 23)\n"
     ]
    },
    {
     "name": "stdout",
     "output_type": "stream",
     "text": [
      "3/3 [==============================] - 0s 32ms/step\n"
     ]
    },
    {
     "name": "stderr",
     "output_type": "stream",
     "text": [
      "2020-12-15 15:17:47,704 [DEBUG] kashgari - predict output: (91, 23)\n",
      "2020-12-15 15:17:47,705 [DEBUG] kashgari - predict output argmax: [[0 1 1 ... 1 1 1]\n",
      " [0 1 1 ... 1 1 1]\n",
      " [0 1 1 ... 1 1 1]\n",
      " ...\n",
      " [0 1 1 ... 1 1 1]\n",
      " [0 1 1 ... 1 1 1]\n",
      " [0 0 0 ... 0 0 0]]\n",
      "2020-12-15 15:17:47,709 [DEBUG] kashgari - predict seq_length: None, input: (2, 194, 28)\n"
     ]
    },
    {
     "name": "stdout",
     "output_type": "stream",
     "text": [
      "7/7 [==============================] - 0s 41ms/step\n"
     ]
    },
    {
     "name": "stderr",
     "output_type": "stream",
     "text": [
      "2020-12-15 15:17:48,071 [DEBUG] kashgari - predict output: (194, 28)\n",
      "2020-12-15 15:17:48,076 [DEBUG] kashgari - predict output argmax: [[0 1 1 ... 1 1 1]\n",
      " [0 1 1 ... 1 1 1]\n",
      " [0 1 1 ... 1 1 1]\n",
      " ...\n",
      " [0 3 2 ... 1 1 1]\n",
      " [0 1 1 ... 1 1 1]\n",
      " [0 0 0 ... 0 0 0]]\n",
      "2020-12-15 15:17:48,078 [DEBUG] kashgari - predict seq_length: None, input: (2, 179, 23)\n"
     ]
    },
    {
     "name": "stdout",
     "output_type": "stream",
     "text": [
      "6/6 [==============================] - 0s 37ms/step\n"
     ]
    },
    {
     "name": "stderr",
     "output_type": "stream",
     "text": [
      "2020-12-15 15:17:48,382 [DEBUG] kashgari - predict output: (179, 23)\n",
      "2020-12-15 15:17:48,383 [DEBUG] kashgari - predict output argmax: [[0 1 1 ... 1 1 1]\n",
      " [0 1 1 ... 1 1 1]\n",
      " [0 1 1 ... 1 1 1]\n",
      " ...\n",
      " [0 1 1 ... 1 1 1]\n",
      " [0 1 1 ... 1 1 1]\n",
      " [0 0 0 ... 0 0 0]]\n",
      "2020-12-15 15:17:48,387 [DEBUG] kashgari - predict seq_length: None, input: (2, 234, 40)\n"
     ]
    },
    {
     "name": "stdout",
     "output_type": "stream",
     "text": [
      "8/8 [==============================] - 0s 56ms/step\n"
     ]
    },
    {
     "name": "stderr",
     "output_type": "stream",
     "text": [
      "2020-12-15 15:17:53,163 [DEBUG] kashgari - predict output: (234, 40)\n",
      "2020-12-15 15:17:53,164 [DEBUG] kashgari - predict output argmax: [[0 1 1 ... 1 1 1]\n",
      " [0 1 1 ... 1 1 1]\n",
      " [0 1 1 ... 1 1 1]\n",
      " ...\n",
      " [0 1 1 ... 1 1 1]\n",
      " [0 1 1 ... 1 1 1]\n",
      " [0 0 0 ... 0 0 0]]\n",
      "2020-12-15 15:17:53,169 [DEBUG] kashgari - predict seq_length: None, input: (2, 250, 26)\n"
     ]
    },
    {
     "name": "stdout",
     "output_type": "stream",
     "text": [
      "8/8 [==============================] - 0s 45ms/step\n"
     ]
    },
    {
     "name": "stderr",
     "output_type": "stream",
     "text": [
      "2020-12-15 15:17:57,766 [DEBUG] kashgari - predict output: (250, 26)\n",
      "2020-12-15 15:17:57,767 [DEBUG] kashgari - predict output argmax: [[0 1 1 ... 1 1 1]\n",
      " [0 1 0 ... 1 1 1]\n",
      " [0 1 1 ... 1 1 1]\n",
      " ...\n",
      " [0 1 1 ... 1 1 1]\n",
      " [0 1 1 ... 1 1 1]\n",
      " [0 0 0 ... 0 0 0]]\n",
      "2020-12-15 15:17:57,770 [DEBUG] kashgari - predict seq_length: None, input: (2, 170, 43)\n"
     ]
    },
    {
     "name": "stdout",
     "output_type": "stream",
     "text": [
      "6/6 [==============================] - 0s 54ms/step\n"
     ]
    },
    {
     "name": "stderr",
     "output_type": "stream",
     "text": [
      "2020-12-15 15:18:02,506 [DEBUG] kashgari - predict output: (170, 43)\n",
      "2020-12-15 15:18:02,508 [DEBUG] kashgari - predict output argmax: [[0 1 1 ... 1 1 1]\n",
      " [0 1 1 ... 1 1 1]\n",
      " [0 1 1 ... 1 1 0]\n",
      " ...\n",
      " [0 1 1 ... 1 1 1]\n",
      " [0 1 1 ... 1 1 1]\n",
      " [0 0 0 ... 0 0 0]]\n",
      "2020-12-15 15:18:02,511 [DEBUG] kashgari - predict seq_length: None, input: (2, 145, 34)\n"
     ]
    },
    {
     "name": "stdout",
     "output_type": "stream",
     "text": [
      "5/5 [==============================] - 0s 45ms/step\n"
     ]
    },
    {
     "name": "stderr",
     "output_type": "stream",
     "text": [
      "2020-12-15 15:18:02,830 [DEBUG] kashgari - predict output: (145, 34)\n",
      "2020-12-15 15:18:02,831 [DEBUG] kashgari - predict output argmax: [[0 1 1 ... 1 1 1]\n",
      " [0 3 2 ... 1 1 1]\n",
      " [0 1 1 ... 1 1 1]\n",
      " ...\n",
      " [0 1 1 ... 1 1 1]\n",
      " [0 1 0 ... 1 1 1]\n",
      " [0 0 0 ... 0 0 0]]\n",
      "2020-12-15 15:18:02,835 [DEBUG] kashgari - predict seq_length: None, input: (2, 102, 29)\n"
     ]
    },
    {
     "name": "stdout",
     "output_type": "stream",
     "text": [
      "4/4 [==============================] - 0s 36ms/step\n"
     ]
    },
    {
     "name": "stderr",
     "output_type": "stream",
     "text": [
      "2020-12-15 15:18:03,059 [DEBUG] kashgari - predict output: (102, 29)\n",
      "2020-12-15 15:18:03,060 [DEBUG] kashgari - predict output argmax: [[0 1 1 ... 1 1 1]\n",
      " [0 1 1 ... 1 1 1]\n",
      " [0 1 1 ... 1 1 1]\n",
      " ...\n",
      " [0 1 1 ... 1 1 1]\n",
      " [0 1 1 ... 1 1 1]\n",
      " [0 0 0 ... 0 0 0]]\n",
      "2020-12-15 15:18:03,066 [DEBUG] kashgari - predict seq_length: None, input: (2, 340, 20)\n"
     ]
    },
    {
     "name": "stdout",
     "output_type": "stream",
     "text": [
      "11/11 [==============================] - 0s 37ms/step\n"
     ]
    },
    {
     "name": "stderr",
     "output_type": "stream",
     "text": [
      "2020-12-15 15:18:03,539 [DEBUG] kashgari - predict output: (340, 20)\n",
      "2020-12-15 15:18:03,540 [DEBUG] kashgari - predict output argmax: [[0 1 1 ... 1 1 1]\n",
      " [0 1 1 ... 1 1 1]\n",
      " [0 1 1 ... 1 1 1]\n",
      " ...\n",
      " [0 1 1 ... 1 1 1]\n",
      " [0 1 1 ... 1 1 1]\n",
      " [0 0 0 ... 0 0 0]]\n",
      "2020-12-15 15:18:03,543 [DEBUG] kashgari - predict seq_length: None, input: (2, 122, 23)\n"
     ]
    },
    {
     "name": "stdout",
     "output_type": "stream",
     "text": [
      "4/4 [==============================] - 0s 35ms/step\n"
     ]
    },
    {
     "name": "stderr",
     "output_type": "stream",
     "text": [
      "2020-12-15 15:18:03,759 [DEBUG] kashgari - predict output: (122, 23)\n",
      "2020-12-15 15:18:03,760 [DEBUG] kashgari - predict output argmax: [[0 1 1 ... 5 5 5]\n",
      " [0 3 2 ... 1 1 1]\n",
      " [0 1 1 ... 1 1 1]\n",
      " ...\n",
      " [0 1 1 ... 1 1 1]\n",
      " [0 1 1 ... 1 1 1]\n",
      " [0 0 0 ... 0 0 0]]\n",
      "2020-12-15 15:18:03,766 [DEBUG] kashgari - predict seq_length: None, input: (2, 381, 28)\n"
     ]
    },
    {
     "name": "stdout",
     "output_type": "stream",
     "text": [
      "12/12 [==============================] - 1s 46ms/step\n"
     ]
    },
    {
     "name": "stderr",
     "output_type": "stream",
     "text": [
      "2020-12-15 15:18:04,401 [DEBUG] kashgari - predict output: (381, 28)\n",
      "2020-12-15 15:18:04,402 [DEBUG] kashgari - predict output argmax: [[0 1 1 ... 1 1 1]\n",
      " [0 1 1 ... 1 1 1]\n",
      " [0 1 1 ... 1 1 1]\n",
      " ...\n",
      " [0 1 1 ... 1 1 1]\n",
      " [0 1 0 ... 1 1 1]\n",
      " [0 0 0 ... 0 0 0]]\n",
      "2020-12-15 15:18:04,405 [DEBUG] kashgari - predict seq_length: None, input: (2, 244, 27)\n"
     ]
    },
    {
     "name": "stdout",
     "output_type": "stream",
     "text": [
      "8/8 [==============================] - 0s 42ms/step\n"
     ]
    },
    {
     "name": "stderr",
     "output_type": "stream",
     "text": [
      "2020-12-15 15:18:04,821 [DEBUG] kashgari - predict output: (244, 27)\n",
      "2020-12-15 15:18:04,822 [DEBUG] kashgari - predict output argmax: [[0 1 1 ... 1 1 1]\n",
      " [0 1 1 ... 1 1 1]\n",
      " [0 1 1 ... 1 1 1]\n",
      " ...\n",
      " [0 1 1 ... 1 1 1]\n",
      " [0 1 1 ... 1 1 1]\n",
      " [0 0 0 ... 0 0 0]]\n",
      "2020-12-15 15:18:04,825 [DEBUG] kashgari - predict seq_length: None, input: (2, 91, 46)\n"
     ]
    },
    {
     "name": "stdout",
     "output_type": "stream",
     "text": [
      "3/3 [==============================] - 0s 46ms/step\n"
     ]
    },
    {
     "name": "stderr",
     "output_type": "stream",
     "text": [
      "2020-12-15 15:18:05,068 [DEBUG] kashgari - predict output: (91, 46)\n",
      "2020-12-15 15:18:05,069 [DEBUG] kashgari - predict output argmax: [[0 1 1 ... 1 1 1]\n",
      " [0 1 1 ... 1 1 1]\n",
      " [0 1 1 ... 1 1 1]\n",
      " ...\n",
      " [0 1 1 ... 1 1 1]\n",
      " [0 1 1 ... 1 1 1]\n",
      " [0 0 0 ... 0 0 0]]\n",
      "2020-12-15 15:18:05,073 [DEBUG] kashgari - predict seq_length: None, input: (2, 223, 42)\n"
     ]
    },
    {
     "name": "stdout",
     "output_type": "stream",
     "text": [
      "7/7 [==============================] - 0s 56ms/step\n"
     ]
    },
    {
     "name": "stderr",
     "output_type": "stream",
     "text": [
      "2020-12-15 15:18:05,564 [DEBUG] kashgari - predict output: (223, 42)\n",
      "2020-12-15 15:18:05,565 [DEBUG] kashgari - predict output argmax: [[0 1 1 ... 1 1 1]\n",
      " [0 1 1 ... 1 1 1]\n",
      " [0 1 0 ... 1 1 1]\n",
      " ...\n",
      " [0 1 1 ... 1 1 1]\n",
      " [0 1 1 ... 1 1 1]\n",
      " [0 0 0 ... 0 0 0]]\n",
      "2020-12-15 15:18:05,567 [DEBUG] kashgari - predict seq_length: None, input: (2, 146, 25)\n"
     ]
    },
    {
     "name": "stdout",
     "output_type": "stream",
     "text": [
      "5/5 [==============================] - 0s 37ms/step\n"
     ]
    },
    {
     "name": "stderr",
     "output_type": "stream",
     "text": [
      "2020-12-15 15:18:05,822 [DEBUG] kashgari - predict output: (146, 25)\n",
      "2020-12-15 15:18:05,823 [DEBUG] kashgari - predict output argmax: [[0 1 1 ... 2 2 2]\n",
      " [0 1 1 ... 1 1 1]\n",
      " [0 1 1 ... 1 1 1]\n",
      " ...\n",
      " [0 1 1 ... 1 1 1]\n",
      " [0 1 1 ... 1 1 1]\n",
      " [0 0 0 ... 0 0 0]]\n",
      "2020-12-15 15:18:05,826 [DEBUG] kashgari - predict seq_length: None, input: (2, 162, 23)\n"
     ]
    },
    {
     "name": "stdout",
     "output_type": "stream",
     "text": [
      "6/6 [==============================] - 0s 37ms/step\n"
     ]
    },
    {
     "name": "stderr",
     "output_type": "stream",
     "text": [
      "2020-12-15 15:18:06,114 [DEBUG] kashgari - predict output: (162, 23)\n",
      "2020-12-15 15:18:06,115 [DEBUG] kashgari - predict output argmax: [[0 1 1 ... 1 1 1]\n",
      " [0 1 1 ... 1 1 1]\n",
      " [0 1 1 ... 1 1 1]\n",
      " ...\n",
      " [0 1 1 ... 1 1 1]\n",
      " [0 1 1 ... 1 1 1]\n",
      " [0 0 0 ... 0 0 0]]\n",
      "2020-12-15 15:18:06,118 [DEBUG] kashgari - predict seq_length: None, input: (2, 244, 27)\n"
     ]
    },
    {
     "name": "stdout",
     "output_type": "stream",
     "text": [
      "8/8 [==============================] - 0s 43ms/step\n"
     ]
    },
    {
     "name": "stderr",
     "output_type": "stream",
     "text": [
      "2020-12-15 15:18:06,541 [DEBUG] kashgari - predict output: (244, 27)\n",
      "2020-12-15 15:18:06,542 [DEBUG] kashgari - predict output argmax: [[0 1 1 ... 1 1 1]\n",
      " [0 9 5 ... 5 5 5]\n",
      " [0 1 1 ... 1 1 1]\n",
      " ...\n",
      " [0 1 1 ... 1 1 1]\n",
      " [0 1 1 ... 0 1 1]\n",
      " [0 0 0 ... 0 0 0]]\n",
      "2020-12-15 15:18:06,545 [DEBUG] kashgari - predict seq_length: None, input: (2, 170, 18)\n"
     ]
    },
    {
     "name": "stdout",
     "output_type": "stream",
     "text": [
      "6/6 [==============================] - 0s 32ms/step\n"
     ]
    },
    {
     "name": "stderr",
     "output_type": "stream",
     "text": [
      "2020-12-15 15:18:10,904 [DEBUG] kashgari - predict output: (170, 18)\n",
      "2020-12-15 15:18:10,904 [DEBUG] kashgari - predict output argmax: [[0 1 1 ... 0 1 1]\n",
      " [0 1 1 ... 1 1 1]\n",
      " [0 1 1 ... 1 1 1]\n",
      " ...\n",
      " [0 1 1 ... 1 1 1]\n",
      " [0 1 1 ... 1 1 1]\n",
      " [0 0 0 ... 0 0 0]]\n",
      "2020-12-15 15:18:10,908 [DEBUG] kashgari - predict seq_length: None, input: (2, 199, 36)\n"
     ]
    },
    {
     "name": "stdout",
     "output_type": "stream",
     "text": [
      "7/7 [==============================] - 0s 49ms/step\n"
     ]
    },
    {
     "name": "stderr",
     "output_type": "stream",
     "text": [
      "2020-12-15 15:18:11,346 [DEBUG] kashgari - predict output: (199, 36)\n",
      "2020-12-15 15:18:11,347 [DEBUG] kashgari - predict output argmax: [[0 1 1 ... 1 1 1]\n",
      " [0 1 1 ... 1 1 1]\n",
      " [0 1 1 ... 1 1 1]\n",
      " ...\n",
      " [0 1 1 ... 1 1 1]\n",
      " [0 1 1 ... 1 1 1]\n",
      " [0 0 0 ... 0 0 0]]\n",
      "2020-12-15 15:18:11,355 [DEBUG] kashgari - predict seq_length: None, input: (2, 557, 17)\n"
     ]
    },
    {
     "name": "stdout",
     "output_type": "stream",
     "text": [
      "18/18 [==============================] - 1s 37ms/step\n"
     ]
    },
    {
     "name": "stderr",
     "output_type": "stream",
     "text": [
      "2020-12-15 15:18:12,091 [DEBUG] kashgari - predict output: (557, 17)\n",
      "2020-12-15 15:18:12,092 [DEBUG] kashgari - predict output argmax: [[0 1 1 ... 1 1 1]\n",
      " [0 1 0 ... 1 1 1]\n",
      " [0 9 5 ... 5 5 5]\n",
      " ...\n",
      " [0 1 1 ... 1 1 1]\n",
      " [0 1 1 ... 1 1 1]\n",
      " [0 0 0 ... 0 0 0]]\n",
      "2020-12-15 15:18:12,095 [DEBUG] kashgari - predict seq_length: None, input: (2, 278, 42)\n"
     ]
    },
    {
     "name": "stdout",
     "output_type": "stream",
     "text": [
      "9/9 [==============================] - 1s 57ms/step\n"
     ]
    },
    {
     "name": "stderr",
     "output_type": "stream",
     "text": [
      "2020-12-15 15:18:12,698 [DEBUG] kashgari - predict output: (278, 42)\n",
      "2020-12-15 15:18:12,699 [DEBUG] kashgari - predict output argmax: [[0 1 1 ... 1 1 1]\n",
      " [0 1 1 ... 1 1 1]\n",
      " [0 1 1 ... 1 1 1]\n",
      " ...\n",
      " [0 1 0 ... 1 1 1]\n",
      " [0 1 1 ... 1 1 1]\n",
      " [0 0 0 ... 0 0 0]]\n",
      "2020-12-15 15:18:12,702 [DEBUG] kashgari - predict seq_length: None, input: (2, 91, 19)\n"
     ]
    },
    {
     "name": "stdout",
     "output_type": "stream",
     "text": [
      "3/3 [==============================] - 0s 26ms/step\n"
     ]
    },
    {
     "name": "stderr",
     "output_type": "stream",
     "text": [
      "2020-12-15 15:18:12,846 [DEBUG] kashgari - predict output: (91, 19)\n",
      "2020-12-15 15:18:12,850 [DEBUG] kashgari - predict output argmax: [[0 1 1 ... 1 1 1]\n",
      " [0 1 1 ... 1 1 1]\n",
      " [0 1 1 ... 1 1 1]\n",
      " ...\n",
      " [0 1 0 ... 1 1 1]\n",
      " [0 1 1 ... 1 1 1]\n",
      " [0 0 0 ... 0 0 0]]\n",
      "2020-12-15 15:18:12,855 [DEBUG] kashgari - predict seq_length: None, input: (2, 296, 24)\n"
     ]
    },
    {
     "name": "stdout",
     "output_type": "stream",
     "text": [
      "10/10 [==============================] - 0s 41ms/step\n"
     ]
    },
    {
     "name": "stderr",
     "output_type": "stream",
     "text": [
      "2020-12-15 15:18:13,343 [DEBUG] kashgari - predict output: (296, 24)\n",
      "2020-12-15 15:18:13,345 [DEBUG] kashgari - predict output argmax: [[0 1 1 ... 1 1 1]\n",
      " [0 1 1 ... 1 1 1]\n",
      " [0 1 1 ... 1 1 1]\n",
      " ...\n",
      " [0 1 1 ... 1 1 1]\n",
      " [0 1 1 ... 1 1 1]\n",
      " [0 0 0 ... 0 0 0]]\n",
      "2020-12-15 15:18:13,348 [DEBUG] kashgari - predict seq_length: None, input: (2, 154, 48)\n"
     ]
    },
    {
     "name": "stdout",
     "output_type": "stream",
     "text": [
      "5/5 [==============================] - 0s 65ms/step\n"
     ]
    },
    {
     "name": "stderr",
     "output_type": "stream",
     "text": [
      "2020-12-15 15:18:18,219 [DEBUG] kashgari - predict output: (154, 48)\n",
      "2020-12-15 15:18:18,224 [DEBUG] kashgari - predict output argmax: [[0 1 1 ... 1 1 1]\n",
      " [0 1 1 ... 1 1 1]\n",
      " [0 1 1 ... 1 1 1]\n",
      " ...\n",
      " [0 1 1 ... 1 1 1]\n",
      " [0 1 1 ... 1 1 1]\n",
      " [0 0 0 ... 0 0 0]]\n",
      "2020-12-15 15:18:18,227 [DEBUG] kashgari - predict seq_length: None, input: (2, 206, 37)\n"
     ]
    },
    {
     "name": "stdout",
     "output_type": "stream",
     "text": [
      "7/7 [==============================] - 0s 48ms/step\n"
     ]
    },
    {
     "name": "stderr",
     "output_type": "stream",
     "text": [
      "2020-12-15 15:18:22,973 [DEBUG] kashgari - predict output: (206, 37)\n",
      "2020-12-15 15:18:22,974 [DEBUG] kashgari - predict output argmax: [[0 1 1 ... 1 1 1]\n",
      " [0 1 1 ... 1 1 1]\n",
      " [0 1 1 ... 1 1 1]\n",
      " ...\n",
      " [0 1 1 ... 1 1 1]\n",
      " [0 1 9 ... 1 1 1]\n",
      " [0 0 0 ... 0 0 0]]\n",
      "2020-12-15 15:18:22,982 [DEBUG] kashgari - predict seq_length: None, input: (2, 241, 20)\n"
     ]
    },
    {
     "name": "stdout",
     "output_type": "stream",
     "text": [
      "8/8 [==============================] - 0s 33ms/step\n"
     ]
    },
    {
     "name": "stderr",
     "output_type": "stream",
     "text": [
      "2020-12-15 15:18:23,311 [DEBUG] kashgari - predict output: (241, 20)\n",
      "2020-12-15 15:18:23,312 [DEBUG] kashgari - predict output argmax: [[0 1 1 ... 1 1 1]\n",
      " [0 3 2 ... 2 2 2]\n",
      " [0 1 0 ... 1 1 1]\n",
      " ...\n",
      " [0 1 1 ... 1 1 1]\n",
      " [0 1 1 ... 1 1 1]\n",
      " [0 0 0 ... 0 0 0]]\n",
      "2020-12-15 15:18:23,319 [DEBUG] kashgari - predict seq_length: None, input: (2, 459, 31)\n"
     ]
    },
    {
     "name": "stdout",
     "output_type": "stream",
     "text": [
      "15/15 [==============================] - 1s 49ms/step\n"
     ]
    },
    {
     "name": "stderr",
     "output_type": "stream",
     "text": [
      "2020-12-15 15:18:24,147 [DEBUG] kashgari - predict output: (459, 31)\n",
      "2020-12-15 15:18:24,151 [DEBUG] kashgari - predict output argmax: [[0 1 1 ... 1 1 1]\n",
      " [0 1 1 ... 1 1 1]\n",
      " [0 1 1 ... 1 1 1]\n",
      " ...\n",
      " [0 1 1 ... 1 1 1]\n",
      " [0 1 1 ... 1 1 1]\n",
      " [0 0 0 ... 0 0 0]]\n",
      "2020-12-15 15:18:24,155 [DEBUG] kashgari - predict seq_length: None, input: (2, 223, 34)\n"
     ]
    },
    {
     "name": "stdout",
     "output_type": "stream",
     "text": [
      "7/7 [==============================] - 0s 50ms/step\n"
     ]
    },
    {
     "name": "stderr",
     "output_type": "stream",
     "text": [
      "2020-12-15 15:18:24,597 [DEBUG] kashgari - predict output: (223, 34)\n",
      "2020-12-15 15:18:24,598 [DEBUG] kashgari - predict output argmax: [[0 1 1 ... 1 1 1]\n",
      " [0 1 1 ... 1 1 1]\n",
      " [0 1 1 ... 1 1 1]\n",
      " ...\n",
      " [0 1 1 ... 1 1 1]\n",
      " [0 1 1 ... 1 1 1]\n",
      " [0 0 0 ... 0 0 0]]\n",
      "2020-12-15 15:18:24,606 [DEBUG] kashgari - predict seq_length: None, input: (2, 358, 26)\n"
     ]
    },
    {
     "name": "stdout",
     "output_type": "stream",
     "text": [
      "12/12 [==============================] - 1s 42ms/step\n"
     ]
    },
    {
     "name": "stderr",
     "output_type": "stream",
     "text": [
      "2020-12-15 15:18:25,196 [DEBUG] kashgari - predict output: (358, 26)\n",
      "2020-12-15 15:18:25,197 [DEBUG] kashgari - predict output argmax: [[0 1 1 ... 1 1 1]\n",
      " [0 1 1 ... 1 1 1]\n",
      " [0 1 0 ... 1 1 1]\n",
      " ...\n",
      " [0 1 1 ... 1 1 1]\n",
      " [0 1 1 ... 1 1 1]\n",
      " [0 0 0 ... 0 0 0]]\n",
      "2020-12-15 15:18:25,199 [DEBUG] kashgari - predict seq_length: None, input: (2, 72, 20)\n"
     ]
    },
    {
     "name": "stdout",
     "output_type": "stream",
     "text": [
      "3/3 [==============================] - 0s 24ms/step\n"
     ]
    },
    {
     "name": "stderr",
     "output_type": "stream",
     "text": [
      "2020-12-15 15:18:25,339 [DEBUG] kashgari - predict output: (72, 20)\n",
      "2020-12-15 15:18:25,340 [DEBUG] kashgari - predict output argmax: [[0 1 1 ... 1 1 1]\n",
      " [0 1 1 ... 1 1 1]\n",
      " [0 1 1 ... 1 1 1]\n",
      " ...\n",
      " [0 1 1 ... 1 1 1]\n",
      " [0 1 1 ... 1 1 1]\n",
      " [0 0 0 ... 0 0 0]]\n",
      "2020-12-15 15:18:25,341 [DEBUG] kashgari - predict seq_length: None, input: (2, 75, 24)\n"
     ]
    },
    {
     "name": "stdout",
     "output_type": "stream",
     "text": [
      "3/3 [==============================] - 0s 26ms/step\n"
     ]
    },
    {
     "name": "stderr",
     "output_type": "stream",
     "text": [
      "2020-12-15 15:18:25,495 [DEBUG] kashgari - predict output: (75, 24)\n",
      "2020-12-15 15:18:25,496 [DEBUG] kashgari - predict output argmax: [[0 1 1 ... 1 1 1]\n",
      " [0 1 1 ... 1 1 1]\n",
      " [0 1 1 ... 1 1 1]\n",
      " ...\n",
      " [0 1 1 ... 1 1 1]\n",
      " [0 1 1 ... 1 1 1]\n",
      " [0 0 0 ... 0 0 0]]\n",
      "2020-12-15 15:18:25,500 [DEBUG] kashgari - predict seq_length: None, input: (2, 191, 36)\n"
     ]
    },
    {
     "name": "stdout",
     "output_type": "stream",
     "text": [
      "6/6 [==============================] - 0s 49ms/step\n"
     ]
    },
    {
     "name": "stderr",
     "output_type": "stream",
     "text": [
      "2020-12-15 15:18:25,890 [DEBUG] kashgari - predict output: (191, 36)\n",
      "2020-12-15 15:18:25,891 [DEBUG] kashgari - predict output argmax: [[0 1 1 ... 1 1 1]\n",
      " [0 1 1 ... 1 1 1]\n",
      " [0 1 1 ... 1 1 1]\n",
      " ...\n",
      " [0 1 1 ... 1 1 1]\n",
      " [0 1 1 ... 1 1 1]\n",
      " [0 0 0 ... 0 0 0]]\n",
      "2020-12-15 15:18:25,893 [DEBUG] kashgari - predict seq_length: None, input: (2, 149, 19)\n"
     ]
    },
    {
     "name": "stdout",
     "output_type": "stream",
     "text": [
      "5/5 [==============================] - 0s 30ms/step\n"
     ]
    },
    {
     "name": "stderr",
     "output_type": "stream",
     "text": [
      "2020-12-15 15:18:26,119 [DEBUG] kashgari - predict output: (149, 19)\n",
      "2020-12-15 15:18:26,121 [DEBUG] kashgari - predict output argmax: [[0 1 1 ... 5 5 5]\n",
      " [0 1 1 ... 2 2 2]\n",
      " [0 1 1 ... 1 1 1]\n",
      " ...\n",
      " [0 1 1 ... 1 1 1]\n",
      " [0 1 1 ... 1 1 1]\n",
      " [0 0 0 ... 0 0 0]]\n",
      "2020-12-15 15:18:26,129 [DEBUG] kashgari - predict seq_length: None, input: (2, 176, 22)\n"
     ]
    },
    {
     "name": "stdout",
     "output_type": "stream",
     "text": [
      "6/6 [==============================] - 0s 35ms/step\n"
     ]
    },
    {
     "name": "stderr",
     "output_type": "stream",
     "text": [
      "2020-12-15 15:18:26,409 [DEBUG] kashgari - predict output: (176, 22)\n",
      "2020-12-15 15:18:26,410 [DEBUG] kashgari - predict output argmax: [[ 0  1  1 ...  1  1  1]\n",
      " [ 0  1  1 ...  1  1  1]\n",
      " [ 0  1  1 ...  1  1  1]\n",
      " ...\n",
      " [ 0  1  7 ... 14 14 14]\n",
      " [ 0  1  1 ...  1  1  1]\n",
      " [ 0  0  0 ...  0  0  0]]\n",
      "2020-12-15 15:18:26,414 [DEBUG] kashgari - predict seq_length: None, input: (2, 112, 45)\n"
     ]
    },
    {
     "name": "stdout",
     "output_type": "stream",
     "text": [
      "4/4 [==============================] - 0s 56ms/step\n"
     ]
    },
    {
     "name": "stderr",
     "output_type": "stream",
     "text": [
      "2020-12-15 15:18:31,393 [DEBUG] kashgari - predict output: (112, 45)\n",
      "2020-12-15 15:18:31,394 [DEBUG] kashgari - predict output argmax: [[0 1 1 ... 4 4 4]\n",
      " [0 1 1 ... 1 1 1]\n",
      " [0 1 1 ... 1 1 1]\n",
      " ...\n",
      " [0 1 1 ... 1 1 1]\n",
      " [0 1 1 ... 1 1 1]\n",
      " [0 0 0 ... 0 0 0]]\n",
      "2020-12-15 15:18:31,397 [DEBUG] kashgari - predict seq_length: None, input: (2, 269, 21)\n"
     ]
    },
    {
     "name": "stdout",
     "output_type": "stream",
     "text": [
      "9/9 [==============================] - 0s 40ms/step\n"
     ]
    },
    {
     "name": "stderr",
     "output_type": "stream",
     "text": [
      "2020-12-15 15:18:31,837 [DEBUG] kashgari - predict output: (269, 21)\n",
      "2020-12-15 15:18:31,838 [DEBUG] kashgari - predict output argmax: [[0 1 1 ... 1 1 1]\n",
      " [0 1 1 ... 1 1 1]\n",
      " [0 1 1 ... 1 1 1]\n",
      " ...\n",
      " [0 1 1 ... 1 1 1]\n",
      " [0 1 1 ... 1 1 1]\n",
      " [0 0 0 ... 0 0 0]]\n",
      "2020-12-15 15:18:31,841 [DEBUG] kashgari - predict seq_length: None, input: (2, 112, 18)\n"
     ]
    },
    {
     "name": "stdout",
     "output_type": "stream",
     "text": [
      "4/4 [==============================] - 0s 28ms/step\n"
     ]
    },
    {
     "name": "stderr",
     "output_type": "stream",
     "text": [
      "2020-12-15 15:18:32,029 [DEBUG] kashgari - predict output: (112, 18)\n",
      "2020-12-15 15:18:32,030 [DEBUG] kashgari - predict output argmax: [[0 1 1 ... 1 1 1]\n",
      " [0 1 1 ... 1 1 1]\n",
      " [0 1 1 ... 1 1 1]\n",
      " ...\n",
      " [0 1 1 ... 1 1 1]\n",
      " [0 1 7 ... 1 1 1]\n",
      " [0 0 0 ... 0 0 0]]\n",
      "2020-12-15 15:18:32,036 [DEBUG] kashgari - predict seq_length: None, input: (2, 352, 22)\n"
     ]
    },
    {
     "name": "stdout",
     "output_type": "stream",
     "text": [
      "11/11 [==============================] - 0s 30ms/step\n"
     ]
    },
    {
     "name": "stderr",
     "output_type": "stream",
     "text": [
      "2020-12-15 15:18:35,278 [DEBUG] kashgari - predict output: (352, 22)\n",
      "2020-12-15 15:18:35,279 [DEBUG] kashgari - predict output argmax: [[0 1 1 ... 1 1 1]\n",
      " [0 1 1 ... 1 1 1]\n",
      " [0 1 1 ... 1 1 1]\n",
      " ...\n",
      " [0 1 1 ... 1 1 1]\n",
      " [0 1 1 ... 1 1 1]\n",
      " [0 0 0 ... 0 0 0]]\n",
      "2020-12-15 15:18:35,283 [DEBUG] kashgari - predict seq_length: None, input: (2, 243, 24)\n"
     ]
    },
    {
     "name": "stdout",
     "output_type": "stream",
     "text": [
      "8/8 [==============================] - 0s 40ms/step\n"
     ]
    },
    {
     "name": "stderr",
     "output_type": "stream",
     "text": [
      "2020-12-15 15:18:35,675 [DEBUG] kashgari - predict output: (243, 24)\n",
      "2020-12-15 15:18:35,676 [DEBUG] kashgari - predict output argmax: [[0 1 1 ... 1 1 1]\n",
      " [0 1 1 ... 1 1 1]\n",
      " [0 1 1 ... 1 1 1]\n",
      " ...\n",
      " [0 1 1 ... 1 1 1]\n",
      " [0 1 1 ... 1 1 1]\n",
      " [0 0 0 ... 0 0 0]]\n",
      "2020-12-15 15:18:35,681 [DEBUG] kashgari - predict seq_length: None, input: (2, 340, 27)\n"
     ]
    },
    {
     "name": "stdout",
     "output_type": "stream",
     "text": [
      "11/11 [==============================] - 0s 44ms/step\n"
     ]
    },
    {
     "name": "stderr",
     "output_type": "stream",
     "text": [
      "2020-12-15 15:18:36,242 [DEBUG] kashgari - predict output: (340, 27)\n",
      "2020-12-15 15:18:36,242 [DEBUG] kashgari - predict output argmax: [[0 1 1 ... 1 1 1]\n",
      " [0 1 1 ... 1 1 1]\n",
      " [0 1 1 ... 1 1 1]\n",
      " ...\n",
      " [0 1 1 ... 1 1 1]\n",
      " [0 1 1 ... 1 1 1]\n",
      " [0 0 0 ... 0 0 0]]\n",
      "2020-12-15 15:18:36,247 [DEBUG] kashgari - predict seq_length: None, input: (2, 384, 25)\n"
     ]
    },
    {
     "name": "stdout",
     "output_type": "stream",
     "text": [
      "12/12 [==============================] - 0s 34ms/step\n"
     ]
    },
    {
     "name": "stderr",
     "output_type": "stream",
     "text": [
      "2020-12-15 15:18:39,658 [DEBUG] kashgari - predict output: (384, 25)\n",
      "2020-12-15 15:18:39,659 [DEBUG] kashgari - predict output argmax: [[0 1 1 ... 1 1 1]\n",
      " [0 1 1 ... 1 1 1]\n",
      " [0 9 5 ... 1 1 1]\n",
      " ...\n",
      " [0 1 1 ... 1 1 1]\n",
      " [0 1 1 ... 1 1 1]\n",
      " [0 0 0 ... 0 0 0]]\n",
      "2020-12-15 15:18:39,661 [DEBUG] kashgari - predict seq_length: None, input: (2, 112, 36)\n"
     ]
    },
    {
     "name": "stdout",
     "output_type": "stream",
     "text": [
      "4/4 [==============================] - 0s 39ms/step\n"
     ]
    },
    {
     "name": "stderr",
     "output_type": "stream",
     "text": [
      "2020-12-15 15:18:39,898 [DEBUG] kashgari - predict output: (112, 36)\n",
      "2020-12-15 15:18:39,899 [DEBUG] kashgari - predict output argmax: [[0 1 1 ... 1 1 1]\n",
      " [0 1 1 ... 1 1 1]\n",
      " [0 1 1 ... 1 1 1]\n",
      " ...\n",
      " [0 1 1 ... 1 1 1]\n",
      " [0 1 0 ... 1 1 1]\n",
      " [0 0 0 ... 0 0 0]]\n",
      "2020-12-15 15:18:39,903 [DEBUG] kashgari - predict seq_length: None, input: (2, 222, 28)\n"
     ]
    },
    {
     "name": "stdout",
     "output_type": "stream",
     "text": [
      "7/7 [==============================] - 0s 42ms/step\n"
     ]
    },
    {
     "name": "stderr",
     "output_type": "stream",
     "text": [
      "2020-12-15 15:18:40,277 [DEBUG] kashgari - predict output: (222, 28)\n",
      "2020-12-15 15:18:40,278 [DEBUG] kashgari - predict output argmax: [[0 1 1 ... 1 1 1]\n",
      " [0 1 1 ... 1 1 1]\n",
      " [0 1 1 ... 1 1 1]\n",
      " ...\n",
      " [0 1 1 ... 1 1 1]\n",
      " [0 1 1 ... 1 1 1]\n",
      " [0 0 0 ... 0 0 0]]\n",
      "2020-12-15 15:18:40,282 [DEBUG] kashgari - predict seq_length: None, input: (2, 255, 34)\n"
     ]
    },
    {
     "name": "stdout",
     "output_type": "stream",
     "text": [
      "8/8 [==============================] - 0s 50ms/step\n"
     ]
    },
    {
     "name": "stderr",
     "output_type": "stream",
     "text": [
      "2020-12-15 15:18:40,768 [DEBUG] kashgari - predict output: (255, 34)\n",
      "2020-12-15 15:18:40,769 [DEBUG] kashgari - predict output argmax: [[0 1 1 ... 1 1 1]\n",
      " [0 1 1 ... 1 1 1]\n",
      " [0 1 1 ... 1 1 1]\n",
      " ...\n",
      " [0 1 1 ... 1 1 1]\n",
      " [0 1 1 ... 1 1 1]\n",
      " [0 0 0 ... 0 0 0]]\n",
      "2020-12-15 15:18:40,771 [DEBUG] kashgari - predict seq_length: None, input: (2, 67, 25)\n"
     ]
    },
    {
     "name": "stdout",
     "output_type": "stream",
     "text": [
      "3/3 [==============================] - 0s 26ms/step\n"
     ]
    },
    {
     "name": "stderr",
     "output_type": "stream",
     "text": [
      "2020-12-15 15:18:40,928 [DEBUG] kashgari - predict output: (67, 25)\n",
      "2020-12-15 15:18:40,929 [DEBUG] kashgari - predict output argmax: [[0 1 1 ... 1 1 1]\n",
      " [0 1 1 ... 1 1 1]\n",
      " [0 1 1 ... 1 1 1]\n",
      " ...\n",
      " [0 1 1 ... 1 1 1]\n",
      " [0 1 1 ... 1 1 1]\n",
      " [0 0 0 ... 0 0 0]]\n",
      "2020-12-15 15:18:40,932 [DEBUG] kashgari - predict seq_length: None, input: (2, 77, 53)\n"
     ]
    },
    {
     "name": "stdout",
     "output_type": "stream",
     "text": [
      "3/3 [==============================] - 0s 46ms/step\n"
     ]
    },
    {
     "name": "stderr",
     "output_type": "stream",
     "text": [
      "2020-12-15 15:18:41,181 [DEBUG] kashgari - predict output: (77, 53)\n",
      "2020-12-15 15:18:41,182 [DEBUG] kashgari - predict output argmax: [[0 1 1 ... 1 1 1]\n",
      " [0 1 1 ... 1 1 1]\n",
      " [0 1 1 ... 1 1 1]\n",
      " ...\n",
      " [0 1 1 ... 1 1 1]\n",
      " [0 1 1 ... 1 1 1]\n",
      " [0 0 0 ... 0 0 0]]\n",
      "2020-12-15 15:18:41,184 [DEBUG] kashgari - predict seq_length: None, input: (2, 67, 27)\n"
     ]
    },
    {
     "name": "stdout",
     "output_type": "stream",
     "text": [
      "3/3 [==============================] - 0s 27ms/step\n"
     ]
    },
    {
     "name": "stderr",
     "output_type": "stream",
     "text": [
      "2020-12-15 15:18:41,340 [DEBUG] kashgari - predict output: (67, 27)\n",
      "2020-12-15 15:18:41,341 [DEBUG] kashgari - predict output argmax: [[ 0  1  1 ...  1  1  1]\n",
      " [ 0  1  1 ...  1  1  1]\n",
      " [ 0  1  1 ...  1  1  1]\n",
      " ...\n",
      " [ 0  1  1 ... 14 14 14]\n",
      " [ 0  1  1 ...  1  1  1]\n",
      " [ 0  0  0 ...  0  0  0]]\n",
      "2020-12-15 15:18:41,344 [DEBUG] kashgari - predict seq_length: None, input: (2, 72, 19)\n"
     ]
    },
    {
     "name": "stdout",
     "output_type": "stream",
     "text": [
      "3/3 [==============================] - 0s 25ms/step\n"
     ]
    },
    {
     "name": "stderr",
     "output_type": "stream",
     "text": [
      "2020-12-15 15:18:41,491 [DEBUG] kashgari - predict output: (72, 19)\n",
      "2020-12-15 15:18:41,492 [DEBUG] kashgari - predict output argmax: [[0 1 1 ... 1 1 0]\n",
      " [0 1 1 ... 1 1 1]\n",
      " [0 1 1 ... 1 1 1]\n",
      " ...\n",
      " [0 1 1 ... 1 1 1]\n",
      " [0 1 1 ... 1 1 1]\n",
      " [0 0 0 ... 0 0 0]]\n",
      "2020-12-15 15:18:41,495 [DEBUG] kashgari - predict seq_length: None, input: (2, 98, 24)\n"
     ]
    },
    {
     "name": "stdout",
     "output_type": "stream",
     "text": [
      "4/4 [==============================] - 0s 31ms/step\n"
     ]
    },
    {
     "name": "stderr",
     "output_type": "stream",
     "text": [
      "2020-12-15 15:18:41,699 [DEBUG] kashgari - predict output: (98, 24)\n",
      "2020-12-15 15:18:41,700 [DEBUG] kashgari - predict output argmax: [[0 1 1 ... 1 1 1]\n",
      " [0 1 1 ... 1 1 1]\n",
      " [0 1 1 ... 1 1 1]\n",
      " ...\n",
      " [0 1 1 ... 1 1 1]\n",
      " [0 1 1 ... 1 1 1]\n",
      " [0 0 0 ... 0 0 0]]\n",
      "2020-12-15 15:18:41,703 [DEBUG] kashgari - predict seq_length: None, input: (2, 87, 37)\n"
     ]
    },
    {
     "name": "stdout",
     "output_type": "stream",
     "text": [
      "3/3 [==============================] - 0s 36ms/step\n"
     ]
    },
    {
     "name": "stderr",
     "output_type": "stream",
     "text": [
      "2020-12-15 15:18:41,902 [DEBUG] kashgari - predict output: (87, 37)\n",
      "2020-12-15 15:18:41,903 [DEBUG] kashgari - predict output argmax: [[0 1 1 ... 1 1 1]\n",
      " [0 1 1 ... 1 1 1]\n",
      " [0 1 1 ... 1 1 1]\n",
      " ...\n",
      " [0 1 1 ... 1 1 1]\n",
      " [0 1 1 ... 1 1 1]\n",
      " [0 0 0 ... 0 0 0]]\n",
      "2020-12-15 15:18:41,908 [DEBUG] kashgari - predict seq_length: None, input: (2, 311, 29)\n"
     ]
    },
    {
     "name": "stdout",
     "output_type": "stream",
     "text": [
      "10/10 [==============================] - 0s 46ms/step\n"
     ]
    },
    {
     "name": "stderr",
     "output_type": "stream",
     "text": [
      "2020-12-15 15:18:42,447 [DEBUG] kashgari - predict output: (311, 29)\n",
      "2020-12-15 15:18:42,449 [DEBUG] kashgari - predict output argmax: [[0 1 1 ... 1 1 1]\n",
      " [0 1 1 ... 1 1 1]\n",
      " [0 1 1 ... 1 1 1]\n",
      " ...\n",
      " [0 1 1 ... 1 1 1]\n",
      " [0 1 1 ... 1 1 1]\n",
      " [0 0 0 ... 0 0 0]]\n",
      "2020-12-15 15:18:42,455 [DEBUG] kashgari - predict seq_length: None, input: (2, 447, 20)\n"
     ]
    },
    {
     "name": "stdout",
     "output_type": "stream",
     "text": [
      "14/14 [==============================] - 1s 38ms/step\n"
     ]
    },
    {
     "name": "stderr",
     "output_type": "stream",
     "text": [
      "2020-12-15 15:18:43,062 [DEBUG] kashgari - predict output: (447, 20)\n",
      "2020-12-15 15:18:43,063 [DEBUG] kashgari - predict output argmax: [[0 1 1 ... 1 1 1]\n",
      " [0 1 1 ... 1 1 1]\n",
      " [0 1 1 ... 1 1 1]\n",
      " ...\n",
      " [0 1 1 ... 1 1 1]\n",
      " [0 1 0 ... 1 1 1]\n",
      " [0 0 0 ... 0 0 0]]\n",
      "2020-12-15 15:18:43,066 [DEBUG] kashgari - predict seq_length: None, input: (2, 218, 19)\n"
     ]
    },
    {
     "name": "stdout",
     "output_type": "stream",
     "text": [
      "7/7 [==============================] - 0s 37ms/step\n"
     ]
    },
    {
     "name": "stderr",
     "output_type": "stream",
     "text": [
      "2020-12-15 15:18:43,394 [DEBUG] kashgari - predict output: (218, 19)\n",
      "2020-12-15 15:18:43,395 [DEBUG] kashgari - predict output argmax: [[0 1 1 ... 1 1 1]\n",
      " [0 1 1 ... 1 1 1]\n",
      " [0 1 1 ... 1 1 1]\n",
      " ...\n",
      " [0 1 1 ... 1 1 1]\n",
      " [0 1 1 ... 1 1 1]\n",
      " [0 0 0 ... 0 0 0]]\n",
      "2020-12-15 15:18:43,398 [DEBUG] kashgari - predict seq_length: None, input: (2, 285, 30)\n"
     ]
    },
    {
     "name": "stdout",
     "output_type": "stream",
     "text": [
      "9/9 [==============================] - 0s 46ms/step\n"
     ]
    },
    {
     "name": "stderr",
     "output_type": "stream",
     "text": [
      "2020-12-15 15:18:43,895 [DEBUG] kashgari - predict output: (285, 30)\n",
      "2020-12-15 15:18:43,897 [DEBUG] kashgari - predict output argmax: [[0 1 1 ... 4 4 4]\n",
      " [0 1 1 ... 4 4 4]\n",
      " [0 1 1 ... 1 1 1]\n",
      " ...\n",
      " [0 1 1 ... 1 1 1]\n",
      " [0 1 1 ... 1 1 1]\n",
      " [0 0 0 ... 0 0 0]]\n",
      "2020-12-15 15:18:43,901 [DEBUG] kashgari - predict seq_length: None, input: (2, 424, 21)\n"
     ]
    },
    {
     "name": "stdout",
     "output_type": "stream",
     "text": [
      "14/14 [==============================] - 1s 38ms/step\n"
     ]
    },
    {
     "name": "stderr",
     "output_type": "stream",
     "text": [
      "2020-12-15 15:18:44,517 [DEBUG] kashgari - predict output: (424, 21)\n",
      "2020-12-15 15:18:44,518 [DEBUG] kashgari - predict output argmax: [[0 1 1 ... 1 1 1]\n",
      " [0 1 1 ... 1 1 1]\n",
      " [0 1 1 ... 1 1 1]\n",
      " ...\n",
      " [0 1 1 ... 1 1 1]\n",
      " [0 1 1 ... 1 1 1]\n",
      " [0 0 0 ... 0 0 0]]\n",
      "2020-12-15 15:18:44,520 [DEBUG] kashgari - predict seq_length: None, input: (2, 94, 30)\n"
     ]
    },
    {
     "name": "stdout",
     "output_type": "stream",
     "text": [
      "3/3 [==============================] - 0s 35ms/step\n"
     ]
    },
    {
     "name": "stderr",
     "output_type": "stream",
     "text": [
      "2020-12-15 15:18:44,708 [DEBUG] kashgari - predict output: (94, 30)\n",
      "2020-12-15 15:18:44,709 [DEBUG] kashgari - predict output argmax: [[0 1 1 ... 1 1 1]\n",
      " [0 1 1 ... 1 1 1]\n",
      " [0 1 1 ... 1 1 1]\n",
      " ...\n",
      " [0 1 1 ... 1 1 1]\n",
      " [0 1 1 ... 1 1 1]\n",
      " [0 0 0 ... 0 0 0]]\n",
      "2020-12-15 15:18:44,714 [DEBUG] kashgari - predict seq_length: None, input: (2, 202, 34)\n"
     ]
    },
    {
     "name": "stdout",
     "output_type": "stream",
     "text": [
      "7/7 [==============================] - 0s 46ms/step\n"
     ]
    },
    {
     "name": "stderr",
     "output_type": "stream",
     "text": [
      "2020-12-15 15:18:45,134 [DEBUG] kashgari - predict output: (202, 34)\n",
      "2020-12-15 15:18:45,136 [DEBUG] kashgari - predict output argmax: [[0 1 1 ... 1 1 1]\n",
      " [0 1 1 ... 1 1 1]\n",
      " [0 1 1 ... 1 1 1]\n",
      " ...\n",
      " [0 1 1 ... 1 1 1]\n",
      " [0 1 1 ... 1 1 1]\n",
      " [0 0 0 ... 0 0 0]]\n",
      "2020-12-15 15:18:45,140 [DEBUG] kashgari - predict seq_length: None, input: (2, 242, 50)\n"
     ]
    },
    {
     "name": "stdout",
     "output_type": "stream",
     "text": [
      "8/8 [==============================] - 1s 67ms/step\n"
     ]
    },
    {
     "name": "stderr",
     "output_type": "stream",
     "text": [
      "2020-12-15 15:18:51,461 [DEBUG] kashgari - predict output: (242, 50)\n",
      "2020-12-15 15:18:51,462 [DEBUG] kashgari - predict output argmax: [[0 1 1 ... 1 1 1]\n",
      " [0 1 1 ... 1 1 1]\n",
      " [0 1 1 ... 1 1 1]\n",
      " ...\n",
      " [0 1 1 ... 1 1 1]\n",
      " [0 1 1 ... 1 1 1]\n",
      " [0 1 1 ... 1 1 1]]\n",
      "2020-12-15 15:18:51,465 [DEBUG] kashgari - predict seq_length: None, input: (2, 269, 38)\n"
     ]
    },
    {
     "name": "stdout",
     "output_type": "stream",
     "text": [
      "9/9 [==============================] - 0s 53ms/step\n"
     ]
    },
    {
     "name": "stderr",
     "output_type": "stream",
     "text": [
      "2020-12-15 15:18:52,039 [DEBUG] kashgari - predict output: (269, 38)\n",
      "2020-12-15 15:18:52,040 [DEBUG] kashgari - predict output argmax: [[0 1 1 ... 1 1 1]\n",
      " [0 1 1 ... 1 1 1]\n",
      " [0 1 1 ... 1 1 1]\n",
      " ...\n",
      " [0 1 1 ... 1 1 1]\n",
      " [0 1 1 ... 1 1 1]\n",
      " [0 0 0 ... 0 0 0]]\n",
      "2020-12-15 15:18:52,044 [DEBUG] kashgari - predict seq_length: None, input: (2, 108, 35)\n"
     ]
    },
    {
     "name": "stdout",
     "output_type": "stream",
     "text": [
      "4/4 [==============================] - 0s 43ms/step\n"
     ]
    },
    {
     "name": "stderr",
     "output_type": "stream",
     "text": [
      "2020-12-15 15:18:56,802 [DEBUG] kashgari - predict output: (108, 35)\n",
      "2020-12-15 15:18:56,803 [DEBUG] kashgari - predict output argmax: [[0 1 1 ... 1 1 1]\n",
      " [0 1 0 ... 1 1 1]\n",
      " [0 1 1 ... 1 1 1]\n",
      " ...\n",
      " [0 1 1 ... 1 1 1]\n",
      " [0 1 1 ... 1 1 1]\n",
      " [0 0 0 ... 0 0 0]]\n",
      "2020-12-15 15:18:56,807 [DEBUG] kashgari - predict seq_length: None, input: (2, 136, 30)\n"
     ]
    },
    {
     "name": "stdout",
     "output_type": "stream",
     "text": [
      "5/5 [==============================] - 0s 41ms/step\n"
     ]
    },
    {
     "name": "stderr",
     "output_type": "stream",
     "text": [
      "2020-12-15 15:18:57,101 [DEBUG] kashgari - predict output: (136, 30)\n",
      "2020-12-15 15:18:57,102 [DEBUG] kashgari - predict output argmax: [[0 1 1 ... 1 1 1]\n",
      " [0 1 1 ... 1 1 1]\n",
      " [0 1 1 ... 1 1 1]\n",
      " ...\n",
      " [0 1 1 ... 1 1 1]\n",
      " [0 1 1 ... 1 1 1]\n",
      " [0 0 0 ... 0 0 0]]\n",
      "2020-12-15 15:18:57,107 [DEBUG] kashgari - predict seq_length: None, input: (2, 217, 28)\n"
     ]
    },
    {
     "name": "stdout",
     "output_type": "stream",
     "text": [
      "7/7 [==============================] - 0s 44ms/step\n"
     ]
    },
    {
     "name": "stderr",
     "output_type": "stream",
     "text": [
      "2020-12-15 15:18:57,498 [DEBUG] kashgari - predict output: (217, 28)\n",
      "2020-12-15 15:18:57,499 [DEBUG] kashgari - predict output argmax: [[0 1 1 ... 1 1 1]\n",
      " [0 1 1 ... 1 1 1]\n",
      " [0 1 1 ... 1 1 1]\n",
      " ...\n",
      " [0 1 1 ... 1 1 1]\n",
      " [0 1 1 ... 1 1 1]\n",
      " [0 0 0 ... 0 0 0]]\n",
      "2020-12-15 15:18:57,501 [DEBUG] kashgari - predict seq_length: None, input: (2, 83, 27)\n"
     ]
    },
    {
     "name": "stdout",
     "output_type": "stream",
     "text": [
      "3/3 [==============================] - 0s 32ms/step\n"
     ]
    },
    {
     "name": "stderr",
     "output_type": "stream",
     "text": [
      "2020-12-15 15:18:57,673 [DEBUG] kashgari - predict output: (83, 27)\n",
      "2020-12-15 15:18:57,674 [DEBUG] kashgari - predict output argmax: [[0 1 1 ... 1 1 1]\n",
      " [0 1 1 ... 1 1 1]\n",
      " [0 1 1 ... 1 1 1]\n",
      " ...\n",
      " [0 1 1 ... 1 1 1]\n",
      " [0 1 1 ... 1 1 1]\n",
      " [0 0 0 ... 0 0 0]]\n",
      "2020-12-15 15:18:57,679 [DEBUG] kashgari - predict seq_length: None, input: (2, 392, 36)\n"
     ]
    },
    {
     "name": "stdout",
     "output_type": "stream",
     "text": [
      "13/13 [==============================] - 1s 50ms/step\n"
     ]
    },
    {
     "name": "stderr",
     "output_type": "stream",
     "text": [
      "2020-12-15 15:18:58,423 [DEBUG] kashgari - predict output: (392, 36)\n",
      "2020-12-15 15:18:58,424 [DEBUG] kashgari - predict output argmax: [[0 1 1 ... 1 1 1]\n",
      " [0 1 1 ... 1 1 1]\n",
      " [0 1 1 ... 1 1 1]\n",
      " ...\n",
      " [0 1 1 ... 1 1 1]\n",
      " [0 1 1 ... 1 1 1]\n",
      " [0 0 0 ... 0 0 0]]\n",
      "2020-12-15 15:18:58,427 [DEBUG] kashgari - predict seq_length: None, input: (2, 108, 41)\n"
     ]
    },
    {
     "name": "stdout",
     "output_type": "stream",
     "text": [
      "4/4 [==============================] - 0s 41ms/step\n"
     ]
    },
    {
     "name": "stderr",
     "output_type": "stream",
     "text": [
      "2020-12-15 15:18:58,672 [DEBUG] kashgari - predict output: (108, 41)\n",
      "2020-12-15 15:18:58,674 [DEBUG] kashgari - predict output argmax: [[0 1 1 ... 1 1 1]\n",
      " [0 1 1 ... 1 1 1]\n",
      " [0 1 1 ... 1 1 1]\n",
      " ...\n",
      " [0 1 1 ... 1 1 1]\n",
      " [0 1 1 ... 1 1 1]\n",
      " [0 0 0 ... 0 0 0]]\n",
      "2020-12-15 15:18:58,677 [DEBUG] kashgari - predict seq_length: None, input: (2, 221, 26)\n"
     ]
    },
    {
     "name": "stdout",
     "output_type": "stream",
     "text": [
      "7/7 [==============================] - 0s 38ms/step\n"
     ]
    },
    {
     "name": "stderr",
     "output_type": "stream",
     "text": [
      "2020-12-15 15:18:59,015 [DEBUG] kashgari - predict output: (221, 26)\n",
      "2020-12-15 15:18:59,016 [DEBUG] kashgari - predict output argmax: [[0 1 1 ... 1 1 1]\n",
      " [0 1 1 ... 1 1 1]\n",
      " [0 1 1 ... 1 1 1]\n",
      " ...\n",
      " [0 1 1 ... 1 1 1]\n",
      " [0 1 1 ... 1 1 1]\n",
      " [0 0 0 ... 0 0 0]]\n",
      "2020-12-15 15:18:59,019 [DEBUG] kashgari - predict seq_length: None, input: (2, 94, 45)\n"
     ]
    },
    {
     "name": "stdout",
     "output_type": "stream",
     "text": [
      "3/3 [==============================] - 0s 44ms/step\n"
     ]
    },
    {
     "name": "stderr",
     "output_type": "stream",
     "text": [
      "2020-12-15 15:18:59,247 [DEBUG] kashgari - predict output: (94, 45)\n",
      "2020-12-15 15:18:59,248 [DEBUG] kashgari - predict output argmax: [[0 1 1 ... 1 1 1]\n",
      " [0 1 1 ... 1 1 1]\n",
      " [0 1 1 ... 1 1 1]\n",
      " ...\n",
      " [0 1 1 ... 1 1 1]\n",
      " [0 1 1 ... 1 1 1]\n",
      " [0 0 0 ... 0 0 0]]\n",
      "2020-12-15 15:18:59,250 [DEBUG] kashgari - predict seq_length: None, input: (2, 59, 21)\n"
     ]
    },
    {
     "name": "stdout",
     "output_type": "stream",
     "text": [
      "2/2 [==============================] - 0s 19ms/step\n"
     ]
    },
    {
     "name": "stderr",
     "output_type": "stream",
     "text": [
      "2020-12-15 15:18:59,349 [DEBUG] kashgari - predict output: (59, 21)\n",
      "2020-12-15 15:18:59,350 [DEBUG] kashgari - predict output argmax: [[0 1 1 ... 1 1 1]\n",
      " [0 1 1 ... 1 1 1]\n",
      " [0 1 1 ... 1 1 1]\n",
      " ...\n",
      " [0 1 1 ... 1 1 1]\n",
      " [0 1 1 ... 1 1 1]\n",
      " [0 0 0 ... 0 0 0]]\n",
      "2020-12-15 15:18:59,353 [DEBUG] kashgari - predict seq_length: None, input: (2, 101, 33)\n"
     ]
    },
    {
     "name": "stdout",
     "output_type": "stream",
     "text": [
      "4/4 [==============================] - 0s 37ms/step\n"
     ]
    },
    {
     "name": "stderr",
     "output_type": "stream",
     "text": [
      "2020-12-15 15:19:03,666 [DEBUG] kashgari - predict output: (101, 33)\n",
      "2020-12-15 15:19:03,667 [DEBUG] kashgari - predict output argmax: [[0 1 1 ... 1 1 1]\n",
      " [0 1 1 ... 1 1 1]\n",
      " [0 1 1 ... 1 1 1]\n",
      " ...\n",
      " [0 1 1 ... 1 1 1]\n",
      " [0 1 1 ... 1 1 1]\n",
      " [0 0 0 ... 0 0 0]]\n",
      "2020-12-15 15:19:03,670 [DEBUG] kashgari - predict seq_length: None, input: (2, 64, 33)\n"
     ]
    },
    {
     "name": "stdout",
     "output_type": "stream",
     "text": [
      "2/2 [==============================] - 0s 23ms/step\n"
     ]
    },
    {
     "name": "stderr",
     "output_type": "stream",
     "text": [
      "2020-12-15 15:19:06,325 [DEBUG] kashgari - predict output: (64, 33)\n",
      "2020-12-15 15:19:06,326 [DEBUG] kashgari - predict output argmax: [[0 1 1 ... 1 1 1]\n",
      " [0 1 1 ... 1 1 0]\n",
      " [0 1 1 ... 1 1 1]\n",
      " ...\n",
      " [0 1 1 ... 4 4 4]\n",
      " [0 1 1 ... 1 1 1]\n",
      " [0 0 0 ... 0 0 0]]\n",
      "2020-12-15 15:19:06,328 [DEBUG] kashgari - predict seq_length: None, input: (2, 85, 30)\n"
     ]
    },
    {
     "name": "stdout",
     "output_type": "stream",
     "text": [
      "3/3 [==============================] - 0s 32ms/step\n"
     ]
    },
    {
     "name": "stderr",
     "output_type": "stream",
     "text": [
      "2020-12-15 15:19:06,508 [DEBUG] kashgari - predict output: (85, 30)\n",
      "2020-12-15 15:19:06,509 [DEBUG] kashgari - predict output argmax: [[0 1 1 ... 1 1 1]\n",
      " [0 1 1 ... 1 1 1]\n",
      " [0 1 1 ... 1 1 1]\n",
      " ...\n",
      " [0 1 1 ... 1 1 1]\n",
      " [0 1 1 ... 1 1 1]\n",
      " [0 0 0 ... 0 0 0]]\n",
      "2020-12-15 15:19:06,512 [DEBUG] kashgari - predict seq_length: None, input: (2, 89, 33)\n"
     ]
    },
    {
     "name": "stdout",
     "output_type": "stream",
     "text": [
      "3/3 [==============================] - 0s 36ms/step\n"
     ]
    },
    {
     "name": "stderr",
     "output_type": "stream",
     "text": [
      "2020-12-15 15:19:06,698 [DEBUG] kashgari - predict output: (89, 33)\n",
      "2020-12-15 15:19:06,699 [DEBUG] kashgari - predict output argmax: [[0 1 1 ... 2 2 2]\n",
      " [0 1 1 ... 1 1 1]\n",
      " [0 1 1 ... 1 1 1]\n",
      " ...\n",
      " [0 1 1 ... 1 1 1]\n",
      " [0 1 1 ... 1 1 1]\n",
      " [0 0 0 ... 0 0 0]]\n",
      "2020-12-15 15:19:06,704 [DEBUG] kashgari - predict seq_length: None, input: (2, 254, 27)\n"
     ]
    },
    {
     "name": "stdout",
     "output_type": "stream",
     "text": [
      "8/8 [==============================] - 0s 39ms/step\n"
     ]
    },
    {
     "name": "stderr",
     "output_type": "stream",
     "text": [
      "2020-12-15 15:19:07,089 [DEBUG] kashgari - predict output: (254, 27)\n",
      "2020-12-15 15:19:07,090 [DEBUG] kashgari - predict output argmax: [[0 1 1 ... 1 1 1]\n",
      " [0 1 1 ... 1 1 1]\n",
      " [0 1 1 ... 1 1 1]\n",
      " ...\n",
      " [0 1 1 ... 1 1 1]\n",
      " [0 1 1 ... 1 1 1]\n",
      " [0 0 0 ... 0 0 0]]\n",
      "2020-12-15 15:19:07,093 [DEBUG] kashgari - predict seq_length: None, input: (2, 129, 29)\n"
     ]
    },
    {
     "name": "stdout",
     "output_type": "stream",
     "text": [
      "5/5 [==============================] - 0s 36ms/step\n"
     ]
    },
    {
     "name": "stderr",
     "output_type": "stream",
     "text": [
      "2020-12-15 15:19:07,342 [DEBUG] kashgari - predict output: (129, 29)\n",
      "2020-12-15 15:19:07,343 [DEBUG] kashgari - predict output argmax: [[0 1 1 ... 1 1 1]\n",
      " [0 1 1 ... 1 1 1]\n",
      " [0 1 1 ... 1 1 1]\n",
      " ...\n",
      " [0 1 1 ... 1 1 1]\n",
      " [0 1 1 ... 1 1 1]\n",
      " [0 0 0 ... 0 0 0]]\n",
      "2020-12-15 15:19:07,346 [DEBUG] kashgari - predict seq_length: None, input: (2, 130, 26)\n"
     ]
    },
    {
     "name": "stdout",
     "output_type": "stream",
     "text": [
      "5/5 [==============================] - 0s 34ms/step\n"
     ]
    },
    {
     "name": "stderr",
     "output_type": "stream",
     "text": [
      "2020-12-15 15:19:07,595 [DEBUG] kashgari - predict output: (130, 26)\n",
      "2020-12-15 15:19:07,596 [DEBUG] kashgari - predict output argmax: [[ 0  1  1 ...  1  1  1]\n",
      " [ 0  1  1 ...  1  1  1]\n",
      " [ 0  1  1 ...  1  1  1]\n",
      " ...\n",
      " [ 0  1  1 ...  1  1  1]\n",
      " [ 0  1  1 ... 14 14 14]\n",
      " [ 0  0  0 ...  0  0  0]]\n",
      "2020-12-15 15:19:07,599 [DEBUG] kashgari - predict seq_length: None, input: (2, 143, 37)\n"
     ]
    },
    {
     "name": "stdout",
     "output_type": "stream",
     "text": [
      "5/5 [==============================] - 0s 43ms/step\n"
     ]
    },
    {
     "name": "stderr",
     "output_type": "stream",
     "text": [
      "2020-12-15 15:19:07,893 [DEBUG] kashgari - predict output: (143, 37)\n",
      "2020-12-15 15:19:07,894 [DEBUG] kashgari - predict output argmax: [[0 1 1 ... 1 1 1]\n",
      " [0 1 1 ... 1 1 1]\n",
      " [0 1 1 ... 1 1 1]\n",
      " ...\n",
      " [0 1 1 ... 1 1 1]\n",
      " [0 1 1 ... 1 1 1]\n",
      " [0 0 0 ... 0 0 0]]\n",
      "2020-12-15 15:19:07,897 [DEBUG] kashgari - predict seq_length: None, input: (2, 107, 36)\n"
     ]
    },
    {
     "name": "stdout",
     "output_type": "stream",
     "text": [
      "4/4 [==============================] - 0s 37ms/step\n"
     ]
    },
    {
     "name": "stderr",
     "output_type": "stream",
     "text": [
      "2020-12-15 15:19:08,123 [DEBUG] kashgari - predict output: (107, 36)\n",
      "2020-12-15 15:19:08,124 [DEBUG] kashgari - predict output argmax: [[0 1 1 ... 1 1 1]\n",
      " [0 1 1 ... 1 1 1]\n",
      " [0 1 1 ... 1 1 1]\n",
      " ...\n",
      " [0 1 1 ... 1 1 1]\n",
      " [0 1 1 ... 1 1 1]\n",
      " [0 0 0 ... 0 0 0]]\n",
      "2020-12-15 15:19:08,127 [DEBUG] kashgari - predict seq_length: None, input: (2, 70, 28)\n"
     ]
    },
    {
     "name": "stdout",
     "output_type": "stream",
     "text": [
      "3/3 [==============================] - 0s 26ms/step\n"
     ]
    },
    {
     "name": "stderr",
     "output_type": "stream",
     "text": [
      "2020-12-15 15:19:08,274 [DEBUG] kashgari - predict output: (70, 28)\n",
      "2020-12-15 15:19:08,275 [DEBUG] kashgari - predict output argmax: [[0 1 1 ... 1 1 1]\n",
      " [0 1 1 ... 1 1 1]\n",
      " [0 1 1 ... 1 1 1]\n",
      " ...\n",
      " [0 1 1 ... 1 1 1]\n",
      " [0 1 1 ... 1 1 1]\n",
      " [0 0 0 ... 0 0 0]]\n",
      "2020-12-15 15:19:08,278 [DEBUG] kashgari - predict seq_length: None, input: (2, 189, 26)\n"
     ]
    },
    {
     "name": "stdout",
     "output_type": "stream",
     "text": [
      "6/6 [==============================] - 0s 36ms/step\n"
     ]
    },
    {
     "name": "stderr",
     "output_type": "stream",
     "text": [
      "2020-12-15 15:19:08,570 [DEBUG] kashgari - predict output: (189, 26)\n",
      "2020-12-15 15:19:08,571 [DEBUG] kashgari - predict output argmax: [[0 1 1 ... 1 1 1]\n",
      " [0 1 1 ... 1 1 1]\n",
      " [0 1 1 ... 1 1 1]\n",
      " ...\n",
      " [0 1 1 ... 1 1 1]\n",
      " [0 1 1 ... 1 1 1]\n",
      " [0 0 0 ... 0 0 0]]\n",
      "2020-12-15 15:19:08,573 [DEBUG] kashgari - predict seq_length: None, input: (2, 99, 48)\n"
     ]
    },
    {
     "name": "stdout",
     "output_type": "stream",
     "text": [
      "4/4 [==============================] - 0s 43ms/step\n"
     ]
    },
    {
     "name": "stderr",
     "output_type": "stream",
     "text": [
      "2020-12-15 15:19:08,842 [DEBUG] kashgari - predict output: (99, 48)\n",
      "2020-12-15 15:19:08,843 [DEBUG] kashgari - predict output argmax: [[0 1 1 ... 1 1 1]\n",
      " [0 1 1 ... 1 1 1]\n",
      " [0 1 1 ... 1 1 1]\n",
      " ...\n",
      " [0 1 1 ... 1 1 1]\n",
      " [0 1 1 ... 1 1 1]\n",
      " [0 0 0 ... 0 0 0]]\n",
      "2020-12-15 15:19:08,846 [DEBUG] kashgari - predict seq_length: None, input: (2, 213, 35)\n"
     ]
    },
    {
     "name": "stdout",
     "output_type": "stream",
     "text": [
      "7/7 [==============================] - 0s 47ms/step\n"
     ]
    },
    {
     "name": "stderr",
     "output_type": "stream",
     "text": [
      "2020-12-15 15:19:09,254 [DEBUG] kashgari - predict output: (213, 35)\n",
      "2020-12-15 15:19:09,255 [DEBUG] kashgari - predict output argmax: [[0 1 1 ... 1 1 1]\n",
      " [0 1 1 ... 1 1 1]\n",
      " [0 1 1 ... 1 1 1]\n",
      " ...\n",
      " [0 1 1 ... 1 1 1]\n",
      " [0 1 0 ... 1 1 1]\n",
      " [0 0 0 ... 0 0 0]]\n",
      "2020-12-15 15:19:09,258 [DEBUG] kashgari - predict seq_length: None, input: (2, 181, 40)\n"
     ]
    },
    {
     "name": "stdout",
     "output_type": "stream",
     "text": [
      "6/6 [==============================] - 0s 47ms/step\n"
     ]
    },
    {
     "name": "stderr",
     "output_type": "stream",
     "text": [
      "2020-12-15 15:19:09,629 [DEBUG] kashgari - predict output: (181, 40)\n",
      "2020-12-15 15:19:09,630 [DEBUG] kashgari - predict output argmax: [[0 1 1 ... 1 1 1]\n",
      " [0 1 1 ... 1 1 1]\n",
      " [0 1 1 ... 1 1 1]\n",
      " ...\n",
      " [0 1 1 ... 1 1 1]\n",
      " [0 1 1 ... 1 1 1]\n",
      " [0 0 0 ... 0 0 0]]\n",
      "2020-12-15 15:19:09,632 [DEBUG] kashgari - predict seq_length: None, input: (2, 119, 34)\n"
     ]
    },
    {
     "name": "stdout",
     "output_type": "stream",
     "text": [
      "4/4 [==============================] - 0s 39ms/step\n"
     ]
    },
    {
     "name": "stderr",
     "output_type": "stream",
     "text": [
      "2020-12-15 15:19:09,869 [DEBUG] kashgari - predict output: (119, 34)\n",
      "2020-12-15 15:19:09,870 [DEBUG] kashgari - predict output argmax: [[0 1 1 ... 1 1 1]\n",
      " [0 1 0 ... 1 1 1]\n",
      " [0 1 1 ... 1 1 1]\n",
      " ...\n",
      " [0 1 1 ... 1 1 1]\n",
      " [0 1 1 ... 1 1 1]\n",
      " [0 0 0 ... 0 0 0]]\n",
      "2020-12-15 15:19:09,873 [DEBUG] kashgari - predict seq_length: None, input: (2, 188, 52)\n"
     ]
    },
    {
     "name": "stdout",
     "output_type": "stream",
     "text": [
      "6/6 [==============================] - 0s 68ms/step\n"
     ]
    },
    {
     "name": "stderr",
     "output_type": "stream",
     "text": [
      "2020-12-15 15:19:14,065 [DEBUG] kashgari - predict output: (188, 52)\n",
      "2020-12-15 15:19:14,066 [DEBUG] kashgari - predict output argmax: [[0 1 1 ... 1 1 1]\n",
      " [0 1 1 ... 1 1 1]\n",
      " [0 1 1 ... 1 1 1]\n",
      " ...\n",
      " [0 1 1 ... 1 1 1]\n",
      " [0 1 1 ... 1 1 1]\n",
      " [0 0 0 ... 0 0 0]]\n",
      "2020-12-15 15:19:14,070 [DEBUG] kashgari - predict seq_length: None, input: (2, 252, 30)\n"
     ]
    },
    {
     "name": "stdout",
     "output_type": "stream",
     "text": [
      "8/8 [==============================] - 0s 42ms/step\n"
     ]
    },
    {
     "name": "stderr",
     "output_type": "stream",
     "text": [
      "2020-12-15 15:19:14,486 [DEBUG] kashgari - predict output: (252, 30)\n",
      "2020-12-15 15:19:14,487 [DEBUG] kashgari - predict output argmax: [[0 1 1 ... 1 1 1]\n",
      " [0 1 1 ... 1 1 1]\n",
      " [0 1 1 ... 1 1 1]\n",
      " ...\n",
      " [0 1 1 ... 1 1 1]\n",
      " [0 1 1 ... 1 1 1]\n",
      " [0 0 0 ... 0 0 0]]\n",
      "2020-12-15 15:19:14,493 [DEBUG] kashgari - predict seq_length: None, input: (2, 249, 38)\n"
     ]
    },
    {
     "name": "stdout",
     "output_type": "stream",
     "text": [
      "8/8 [==============================] - 0s 51ms/step\n"
     ]
    },
    {
     "name": "stderr",
     "output_type": "stream",
     "text": [
      "2020-12-15 15:19:14,991 [DEBUG] kashgari - predict output: (249, 38)\n",
      "2020-12-15 15:19:14,992 [DEBUG] kashgari - predict output argmax: [[0 1 1 ... 1 1 1]\n",
      " [0 1 1 ... 1 1 1]\n",
      " [0 1 3 ... 1 1 1]\n",
      " ...\n",
      " [0 1 1 ... 1 1 1]\n",
      " [0 1 1 ... 1 1 1]\n",
      " [0 0 0 ... 0 0 0]]\n",
      "2020-12-15 15:19:14,994 [DEBUG] kashgari - predict seq_length: None, input: (2, 65, 44)\n"
     ]
    },
    {
     "name": "stdout",
     "output_type": "stream",
     "text": [
      "3/3 [==============================] - 0s 35ms/step\n"
     ]
    },
    {
     "name": "stderr",
     "output_type": "stream",
     "text": [
      "2020-12-15 15:19:18,845 [DEBUG] kashgari - predict output: (65, 44)\n",
      "2020-12-15 15:19:18,846 [DEBUG] kashgari - predict output argmax: [[ 0  1  1 ...  1  1  1]\n",
      " [ 0  1  1 ...  1  1  1]\n",
      " [ 0  1  1 ...  1  1  1]\n",
      " ...\n",
      " [ 0  1  1 ... 11 11 11]\n",
      " [ 0  1  1 ...  1  1  1]\n",
      " [ 0  0  0 ...  0  0  0]]\n",
      "2020-12-15 15:19:18,852 [DEBUG] kashgari - predict seq_length: None, input: (2, 265, 41)\n"
     ]
    },
    {
     "name": "stdout",
     "output_type": "stream",
     "text": [
      "9/9 [==============================] - 0s 53ms/step\n"
     ]
    },
    {
     "name": "stderr",
     "output_type": "stream",
     "text": [
      "2020-12-15 15:19:19,425 [DEBUG] kashgari - predict output: (265, 41)\n",
      "2020-12-15 15:19:19,426 [DEBUG] kashgari - predict output argmax: [[0 1 1 ... 1 1 1]\n",
      " [0 1 1 ... 1 1 1]\n",
      " [0 1 1 ... 1 1 1]\n",
      " ...\n",
      " [0 1 1 ... 1 1 1]\n",
      " [0 1 1 ... 1 1 1]\n",
      " [0 0 0 ... 0 0 0]]\n",
      "2020-12-15 15:19:19,429 [DEBUG] kashgari - predict seq_length: None, input: (2, 163, 33)\n"
     ]
    },
    {
     "name": "stdout",
     "output_type": "stream",
     "text": [
      "6/6 [==============================] - 0s 40ms/step\n"
     ]
    },
    {
     "name": "stderr",
     "output_type": "stream",
     "text": [
      "2020-12-15 15:19:19,746 [DEBUG] kashgari - predict output: (163, 33)\n",
      "2020-12-15 15:19:19,748 [DEBUG] kashgari - predict output argmax: [[0 1 1 ... 2 2 2]\n",
      " [0 1 1 ... 2 2 2]\n",
      " [0 1 1 ... 2 2 2]\n",
      " ...\n",
      " [0 1 1 ... 1 1 1]\n",
      " [0 1 1 ... 1 1 1]\n",
      " [0 0 0 ... 0 0 0]]\n",
      "2020-12-15 15:19:19,750 [DEBUG] kashgari - predict seq_length: None, input: (2, 166, 33)\n"
     ]
    },
    {
     "name": "stdout",
     "output_type": "stream",
     "text": [
      "6/6 [==============================] - 0s 40ms/step\n"
     ]
    },
    {
     "name": "stderr",
     "output_type": "stream",
     "text": [
      "2020-12-15 15:19:20,068 [DEBUG] kashgari - predict output: (166, 33)\n",
      "2020-12-15 15:19:20,069 [DEBUG] kashgari - predict output argmax: [[0 1 1 ... 5 5 5]\n",
      " [0 1 7 ... 1 1 1]\n",
      " [0 1 1 ... 1 1 1]\n",
      " ...\n",
      " [0 1 1 ... 1 1 1]\n",
      " [0 1 1 ... 1 1 1]\n",
      " [0 0 0 ... 0 0 0]]\n",
      "2020-12-15 15:19:20,072 [DEBUG] kashgari - predict seq_length: None, input: (2, 152, 37)\n"
     ]
    },
    {
     "name": "stdout",
     "output_type": "stream",
     "text": [
      "5/5 [==============================] - 0s 45ms/step\n"
     ]
    },
    {
     "name": "stderr",
     "output_type": "stream",
     "text": [
      "2020-12-15 15:19:20,381 [DEBUG] kashgari - predict output: (152, 37)\n",
      "2020-12-15 15:19:20,382 [DEBUG] kashgari - predict output argmax: [[0 1 1 ... 1 1 1]\n",
      " [0 1 1 ... 1 1 1]\n",
      " [0 1 1 ... 1 1 1]\n",
      " ...\n",
      " [0 1 1 ... 1 1 1]\n",
      " [0 1 1 ... 1 1 1]\n",
      " [0 0 0 ... 0 0 0]]\n",
      "2020-12-15 15:19:20,385 [DEBUG] kashgari - predict seq_length: None, input: (2, 129, 26)\n"
     ]
    },
    {
     "name": "stdout",
     "output_type": "stream",
     "text": [
      "5/5 [==============================] - 0s 34ms/step\n"
     ]
    },
    {
     "name": "stderr",
     "output_type": "stream",
     "text": [
      "2020-12-15 15:19:20,625 [DEBUG] kashgari - predict output: (129, 26)\n",
      "2020-12-15 15:19:20,626 [DEBUG] kashgari - predict output argmax: [[0 1 1 ... 1 1 1]\n",
      " [0 1 1 ... 1 1 1]\n",
      " [0 1 1 ... 1 1 1]\n",
      " ...\n",
      " [0 1 1 ... 1 1 1]\n",
      " [0 1 1 ... 1 1 1]\n",
      " [0 0 0 ... 0 0 0]]\n",
      "2020-12-15 15:19:20,630 [DEBUG] kashgari - predict seq_length: None, input: (2, 260, 42)\n"
     ]
    },
    {
     "name": "stdout",
     "output_type": "stream",
     "text": [
      "9/9 [==============================] - 0s 52ms/step\n"
     ]
    },
    {
     "name": "stderr",
     "output_type": "stream",
     "text": [
      "2020-12-15 15:19:21,193 [DEBUG] kashgari - predict output: (260, 42)\n",
      "2020-12-15 15:19:21,194 [DEBUG] kashgari - predict output argmax: [[0 1 1 ... 1 1 1]\n",
      " [0 1 1 ... 1 1 1]\n",
      " [0 1 1 ... 1 1 1]\n",
      " ...\n",
      " [0 1 1 ... 1 1 1]\n",
      " [0 1 1 ... 1 1 1]\n",
      " [0 0 0 ... 0 0 0]]\n",
      "2020-12-15 15:19:21,203 [DEBUG] kashgari - predict seq_length: None, input: (2, 557, 59)\n"
     ]
    },
    {
     "name": "stdout",
     "output_type": "stream",
     "text": [
      "18/18 [==============================] - 1s 75ms/step\n"
     ]
    },
    {
     "name": "stderr",
     "output_type": "stream",
     "text": [
      "2020-12-15 15:19:26,364 [DEBUG] kashgari - predict output: (557, 59)\n",
      "2020-12-15 15:19:26,365 [DEBUG] kashgari - predict output argmax: [[ 0  1  1 ...  1  1  1]\n",
      " [ 0  1  1 ...  1  1  1]\n",
      " [ 0  1  1 ...  1  1  1]\n",
      " ...\n",
      " [ 0  1  1 ... 14 14 14]\n",
      " [ 0  1  1 ...  1  1  1]\n",
      " [ 0  0  0 ...  0  0  0]]\n",
      "2020-12-15 15:19:26,369 [DEBUG] kashgari - predict seq_length: None, input: (2, 144, 72)\n"
     ]
    },
    {
     "name": "stdout",
     "output_type": "stream",
     "text": [
      "5/5 [==============================] - 0s 77ms/step\n"
     ]
    },
    {
     "name": "stderr",
     "output_type": "stream",
     "text": [
      "2020-12-15 15:19:30,632 [DEBUG] kashgari - predict output: (144, 72)\n",
      "2020-12-15 15:19:30,632 [DEBUG] kashgari - predict output argmax: [[0 1 1 ... 1 1 1]\n",
      " [0 1 1 ... 1 1 1]\n",
      " [0 1 1 ... 1 1 1]\n",
      " ...\n",
      " [0 1 1 ... 1 1 1]\n",
      " [0 1 1 ... 1 1 1]\n",
      " [0 0 0 ... 0 0 0]]\n",
      "2020-12-15 15:19:30,638 [DEBUG] kashgari - predict seq_length: None, input: (2, 474, 27)\n"
     ]
    },
    {
     "name": "stdout",
     "output_type": "stream",
     "text": [
      "15/15 [==============================] - 1s 43ms/step\n"
     ]
    },
    {
     "name": "stderr",
     "output_type": "stream",
     "text": [
      "2020-12-15 15:19:31,353 [DEBUG] kashgari - predict output: (474, 27)\n",
      "2020-12-15 15:19:31,354 [DEBUG] kashgari - predict output argmax: [[0 1 1 ... 1 1 1]\n",
      " [0 1 1 ... 1 1 1]\n",
      " [0 1 1 ... 1 1 1]\n",
      " ...\n",
      " [0 1 1 ... 1 1 1]\n",
      " [0 1 1 ... 1 1 1]\n",
      " [0 0 0 ... 0 0 0]]\n",
      "2020-12-15 15:19:31,361 [DEBUG] kashgari - predict seq_length: None, input: (2, 253, 34)\n"
     ]
    },
    {
     "name": "stdout",
     "output_type": "stream",
     "text": [
      "8/8 [==============================] - 0s 46ms/step\n"
     ]
    },
    {
     "name": "stderr",
     "output_type": "stream",
     "text": [
      "2020-12-15 15:19:31,815 [DEBUG] kashgari - predict output: (253, 34)\n",
      "2020-12-15 15:19:31,816 [DEBUG] kashgari - predict output argmax: [[0 1 1 ... 1 1 1]\n",
      " [0 1 1 ... 1 1 1]\n",
      " [0 1 1 ... 1 1 1]\n",
      " ...\n",
      " [0 1 1 ... 1 1 1]\n",
      " [0 1 1 ... 1 1 1]\n",
      " [0 0 0 ... 0 0 0]]\n",
      "2020-12-15 15:19:31,820 [DEBUG] kashgari - predict seq_length: None, input: (2, 210, 45)\n"
     ]
    },
    {
     "name": "stdout",
     "output_type": "stream",
     "text": [
      "7/7 [==============================] - 0s 57ms/step\n"
     ]
    },
    {
     "name": "stderr",
     "output_type": "stream",
     "text": [
      "2020-12-15 15:19:32,323 [DEBUG] kashgari - predict output: (210, 45)\n",
      "2020-12-15 15:19:32,324 [DEBUG] kashgari - predict output argmax: [[0 1 1 ... 1 1 1]\n",
      " [0 1 1 ... 1 1 1]\n",
      " [0 1 1 ... 1 1 1]\n",
      " ...\n",
      " [0 1 1 ... 2 2 2]\n",
      " [0 1 1 ... 1 1 1]\n",
      " [0 0 0 ... 0 0 0]]\n",
      "2020-12-15 15:19:32,328 [DEBUG] kashgari - predict seq_length: None, input: (2, 244, 32)\n"
     ]
    },
    {
     "name": "stdout",
     "output_type": "stream",
     "text": [
      "8/8 [==============================] - 0s 43ms/step\n"
     ]
    },
    {
     "name": "stderr",
     "output_type": "stream",
     "text": [
      "2020-12-15 15:19:32,750 [DEBUG] kashgari - predict output: (244, 32)\n",
      "2020-12-15 15:19:32,751 [DEBUG] kashgari - predict output argmax: [[0 1 1 ... 1 1 1]\n",
      " [0 1 1 ... 1 1 1]\n",
      " [0 1 1 ... 1 1 1]\n",
      " ...\n",
      " [0 1 1 ... 1 1 1]\n",
      " [0 1 0 ... 1 1 1]\n",
      " [0 0 0 ... 0 0 0]]\n",
      "2020-12-15 15:19:32,758 [DEBUG] kashgari - predict seq_length: None, input: (2, 319, 36)\n"
     ]
    },
    {
     "name": "stdout",
     "output_type": "stream",
     "text": [
      "10/10 [==============================] - 0s 49ms/step\n"
     ]
    },
    {
     "name": "stderr",
     "output_type": "stream",
     "text": [
      "2020-12-15 15:19:33,337 [DEBUG] kashgari - predict output: (319, 36)\n",
      "2020-12-15 15:19:33,339 [DEBUG] kashgari - predict output argmax: [[0 1 1 ... 1 1 1]\n",
      " [0 1 1 ... 1 1 1]\n",
      " [0 1 1 ... 1 1 1]\n",
      " ...\n",
      " [0 1 1 ... 1 1 1]\n",
      " [0 1 1 ... 1 1 1]\n",
      " [0 0 0 ... 0 0 0]]\n",
      "2020-12-15 15:19:33,344 [DEBUG] kashgari - predict seq_length: None, input: (2, 437, 36)\n"
     ]
    },
    {
     "name": "stdout",
     "output_type": "stream",
     "text": [
      "14/14 [==============================] - 1s 52ms/step\n"
     ]
    },
    {
     "name": "stderr",
     "output_type": "stream",
     "text": [
      "2020-12-15 15:19:34,159 [DEBUG] kashgari - predict output: (437, 36)\n",
      "2020-12-15 15:19:34,160 [DEBUG] kashgari - predict output argmax: [[0 1 1 ... 1 1 1]\n",
      " [0 1 1 ... 1 1 1]\n",
      " [0 1 1 ... 1 1 1]\n",
      " ...\n",
      " [0 1 1 ... 1 1 1]\n",
      " [0 1 1 ... 1 1 1]\n",
      " [0 0 0 ... 0 0 0]]\n",
      "2020-12-15 15:19:34,164 [DEBUG] kashgari - predict seq_length: None, input: (2, 171, 78)\n"
     ]
    },
    {
     "name": "stdout",
     "output_type": "stream",
     "text": [
      "6/6 [==============================] - 0s 80ms/step\n"
     ]
    },
    {
     "name": "stderr",
     "output_type": "stream",
     "text": [
      "2020-12-15 15:19:38,419 [DEBUG] kashgari - predict output: (171, 78)\n",
      "2020-12-15 15:19:38,420 [DEBUG] kashgari - predict output argmax: [[0 1 1 ... 1 1 1]\n",
      " [0 1 1 ... 1 1 1]\n",
      " [0 1 1 ... 1 1 1]\n",
      " ...\n",
      " [0 1 1 ... 1 1 1]\n",
      " [0 1 1 ... 1 1 1]\n",
      " [0 0 0 ... 0 0 0]]\n"
     ]
    }
   ],
   "source": [
    "df = predicting_txt_to_dataframe('/home/Danny/AI-CUP-2020/datasets/stage5/test.txt')\n",
    "output_str = \"article_id\\tstart_position\\tend_position\\tentity_text\\tentity_type\\n\"\n",
    "\n",
    "for article_id, text in zip(df['article_id'], df['text']):\n",
    "    x_list = [word for word in text]\n",
    "    y_list = predict_NER(text)\n",
    "    output_str += output_NER(article_id, text, y_list)"
   ]
  },
  {
   "cell_type": "code",
   "execution_count": 20,
   "metadata": {},
   "outputs": [],
   "source": [
    "output_path = 'output/{}_epoch_{}_batch_{}.tsv'.format(model_name, epochs, batch_size)\n",
    "with open(output_path, 'w', encoding='utf-8') as f:\n",
    "    f.write(output_str)"
   ]
  },
  {
   "cell_type": "code",
   "execution_count": 21,
   "metadata": {},
   "outputs": [
    {
     "data": {
      "text/html": [
       "<div>\n",
       "<style scoped>\n",
       "    .dataframe tbody tr th:only-of-type {\n",
       "        vertical-align: middle;\n",
       "    }\n",
       "\n",
       "    .dataframe tbody tr th {\n",
       "        vertical-align: top;\n",
       "    }\n",
       "\n",
       "    .dataframe thead th {\n",
       "        text-align: right;\n",
       "    }\n",
       "</style>\n",
       "<table border=\"1\" class=\"dataframe\">\n",
       "  <thead>\n",
       "    <tr style=\"text-align: right;\">\n",
       "      <th></th>\n",
       "      <th>article_id</th>\n",
       "      <th>start_position</th>\n",
       "      <th>end_position</th>\n",
       "      <th>entity_text</th>\n",
       "      <th>entity_type</th>\n",
       "    </tr>\n",
       "  </thead>\n",
       "  <tbody>\n",
       "    <tr>\n",
       "      <th>0</th>\n",
       "      <td>0</td>\n",
       "      <td>113</td>\n",
       "      <td>115</td>\n",
       "      <td>今天</td>\n",
       "      <td>time</td>\n",
       "    </tr>\n",
       "    <tr>\n",
       "      <th>1</th>\n",
       "      <td>0</td>\n",
       "      <td>227</td>\n",
       "      <td>229</td>\n",
       "      <td>麻豆</td>\n",
       "      <td>location</td>\n",
       "    </tr>\n",
       "    <tr>\n",
       "      <th>2</th>\n",
       "      <td>0</td>\n",
       "      <td>237</td>\n",
       "      <td>239</td>\n",
       "      <td>麻豆</td>\n",
       "      <td>location</td>\n",
       "    </tr>\n",
       "    <tr>\n",
       "      <th>3</th>\n",
       "      <td>1</td>\n",
       "      <td>31</td>\n",
       "      <td>33</td>\n",
       "      <td>今天</td>\n",
       "      <td>time</td>\n",
       "    </tr>\n",
       "    <tr>\n",
       "      <th>4</th>\n",
       "      <td>1</td>\n",
       "      <td>40</td>\n",
       "      <td>42</td>\n",
       "      <td>昨天</td>\n",
       "      <td>time</td>\n",
       "    </tr>\n",
       "    <tr>\n",
       "      <th>...</th>\n",
       "      <td>...</td>\n",
       "      <td>...</td>\n",
       "      <td>...</td>\n",
       "      <td>...</td>\n",
       "      <td>...</td>\n",
       "    </tr>\n",
       "    <tr>\n",
       "      <th>2590</th>\n",
       "      <td>157</td>\n",
       "      <td>3822</td>\n",
       "      <td>3825</td>\n",
       "      <td>禮拜五</td>\n",
       "      <td>time</td>\n",
       "    </tr>\n",
       "    <tr>\n",
       "      <th>2591</th>\n",
       "      <td>158</td>\n",
       "      <td>193</td>\n",
       "      <td>197</td>\n",
       "      <td>四個禮拜</td>\n",
       "      <td>time</td>\n",
       "    </tr>\n",
       "    <tr>\n",
       "      <th>2592</th>\n",
       "      <td>158</td>\n",
       "      <td>1143</td>\n",
       "      <td>1145</td>\n",
       "      <td>今天</td>\n",
       "      <td>time</td>\n",
       "    </tr>\n",
       "    <tr>\n",
       "      <th>2593</th>\n",
       "      <td>158</td>\n",
       "      <td>1199</td>\n",
       "      <td>1201</td>\n",
       "      <td>小安</td>\n",
       "      <td>name</td>\n",
       "    </tr>\n",
       "    <tr>\n",
       "      <th>2594</th>\n",
       "      <td>158</td>\n",
       "      <td>1381</td>\n",
       "      <td>1390</td>\n",
       "      <td>124699678</td>\n",
       "      <td>med_exam</td>\n",
       "    </tr>\n",
       "  </tbody>\n",
       "</table>\n",
       "<p>2595 rows × 5 columns</p>\n",
       "</div>"
      ],
      "text/plain": [
       "      article_id  start_position  end_position entity_text entity_type\n",
       "0              0             113           115          今天        time\n",
       "1              0             227           229          麻豆    location\n",
       "2              0             237           239          麻豆    location\n",
       "3              1              31            33          今天        time\n",
       "4              1              40            42          昨天        time\n",
       "...          ...             ...           ...         ...         ...\n",
       "2590         157            3822          3825         禮拜五        time\n",
       "2591         158             193           197        四個禮拜        time\n",
       "2592         158            1143          1145          今天        time\n",
       "2593         158            1199          1201          小安        name\n",
       "2594         158            1381          1390   124699678    med_exam\n",
       "\n",
       "[2595 rows x 5 columns]"
      ]
     },
     "execution_count": 21,
     "metadata": {},
     "output_type": "execute_result"
    }
   ],
   "source": [
    "df = pd.read_csv(output_path, sep='\\t')\n",
    "df"
   ]
  },
  {
   "cell_type": "code",
   "execution_count": null,
   "metadata": {},
   "outputs": [],
   "source": []
  }
 ],
 "metadata": {
  "kernelspec": {
   "display_name": "Python 3",
   "language": "python",
   "name": "python3"
  },
  "language_info": {
   "codemirror_mode": {
    "name": "ipython",
    "version": 3
   },
   "file_extension": ".py",
   "mimetype": "text/x-python",
   "name": "python",
   "nbconvert_exporter": "python",
   "pygments_lexer": "ipython3",
   "version": "3.6.10"
  }
 },
 "nbformat": 4,
 "nbformat_minor": 4
}
