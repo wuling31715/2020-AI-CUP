{
 "cells": [
  {
   "cell_type": "code",
   "execution_count": 1,
   "metadata": {},
   "outputs": [],
   "source": [
    "import re\n",
    "import pandas as pd\n",
    "import tensorflow as tf\n",
    "from matplotlib import pyplot as plt"
   ]
  },
  {
   "cell_type": "code",
   "execution_count": 2,
   "metadata": {},
   "outputs": [],
   "source": [
    "def select_gpu(N):\n",
    "    gpus = tf.config.experimental.list_physical_devices('GPU')\n",
    "    print(gpus)\n",
    "    if gpus:\n",
    "        try:\n",
    "            for gpu in gpus:\n",
    "                tf.config.experimental.set_memory_growth(gpu, True)\n",
    "            tf.config.experimental.set_visible_devices(gpus[N], 'GPU')\n",
    "            logical_gpus = tf.config.experimental.list_logical_devices('GPU')\n",
    "            print(len(gpus), \"Physical GPUs,\", len(logical_gpus), \"Logical GPUs\")\n",
    "        except RuntimeError as e:\n",
    "            print(e)    "
   ]
  },
  {
   "cell_type": "code",
   "execution_count": 3,
   "metadata": {},
   "outputs": [
    {
     "name": "stdout",
     "output_type": "stream",
     "text": [
      "[PhysicalDevice(name='/physical_device:GPU:0', device_type='GPU'), PhysicalDevice(name='/physical_device:GPU:1', device_type='GPU'), PhysicalDevice(name='/physical_device:GPU:2', device_type='GPU')]\n",
      "3 Physical GPUs, 1 Logical GPUs\n"
     ]
    }
   ],
   "source": [
    "select_gpu(0)\n",
    "epochs = 10\n",
    "batch_size = 1024\n",
    "model_name = 'bert-chinese'\n",
    "embedding_path = '/home/Danny/pretrain_model/{}'.format(model_name)"
   ]
  },
  {
   "cell_type": "code",
   "execution_count": 4,
   "metadata": {},
   "outputs": [],
   "source": [
    "# 不用儲存article_id, 轉成list\n",
    "def training_txt_to_list(path):\n",
    "    with open(path, 'r') as f:\n",
    "        txt = str(f.read())\n",
    "    txt_list = txt.split('\\n')\n",
    "    text_label_list = list()\n",
    "    tmp = list()\n",
    "    for line in txt_list:\n",
    "        if line == '--------------------':\n",
    "            text_label_list.append(tmp)\n",
    "            tmp = list()\n",
    "            continue\n",
    "        if line == '':\n",
    "            continue\n",
    "        tmp.append(line)\n",
    "    x = list()\n",
    "    y = list()\n",
    "    for text_label in text_label_list:\n",
    "        text = text_label[0]\n",
    "        label = text_label[2:]\n",
    "        label_list = ['O' for i in range(len(text))]\n",
    "        for i in label:\n",
    "            entity = i.split('\\t')\n",
    "            if int(entity[1]) > int(entity[2]):\n",
    "                continue\n",
    "            b = int(entity[1])\n",
    "            label_list[b] = 'B-{}'.format(entity[-1])\n",
    "            for j in range(int(entity[1])+1, int(entity[2])):\n",
    "                label_list[j] = 'I-{}'.format(entity[-1])\n",
    "        for i, j in enumerate(text):\n",
    "            if j == '，' or j == '。' or j == '？':\n",
    "                label_list[i] = j\n",
    "                \n",
    "        text_list = re.split('\\uff0c|\\u3002|\\uff1f', text)\n",
    "        for sentence in text_list:\n",
    "            x.append([i for i in sentence])\n",
    "        x = x[:-1]\n",
    "            \n",
    "        sentence = list()\n",
    "        for i in label_list:\n",
    "            if i == '，' or i == '。' or i == '？':\n",
    "                y.append(sentence)\n",
    "                sentence = list()\n",
    "            else:\n",
    "                sentence.append(i)\n",
    "                \n",
    "    return [x, y]"
   ]
  },
  {
   "cell_type": "code",
   "execution_count": 5,
   "metadata": {},
   "outputs": [],
   "source": [
    "x1, y1 = training_txt_to_list('/home/Danny/AI-CUP-2020/datasets/stage1/SampleData_deid.txt')"
   ]
  },
  {
   "cell_type": "code",
   "execution_count": 6,
   "metadata": {},
   "outputs": [],
   "source": [
    "x2, y2 = training_txt_to_list('/home/Danny/AI-CUP-2020/datasets/stage2/train_1_update.txt')"
   ]
  },
  {
   "cell_type": "code",
   "execution_count": 7,
   "metadata": {},
   "outputs": [],
   "source": [
    "x4, y4 = training_txt_to_list('/home/Danny/AI-CUP-2020/datasets/stage4/train_2.txt')"
   ]
  },
  {
   "cell_type": "code",
   "execution_count": 8,
   "metadata": {},
   "outputs": [
    {
     "name": "stdout",
     "output_type": "stream",
     "text": [
      "44334\n",
      "44334\n"
     ]
    }
   ],
   "source": [
    "x = x1 + x2 + x4\n",
    "y = y1 + y2 + y4\n",
    "print(len(x))\n",
    "print(len(y))"
   ]
  },
  {
   "cell_type": "code",
   "execution_count": 9,
   "metadata": {},
   "outputs": [
    {
     "data": {
      "text/html": [
       "<div>\n",
       "<style scoped>\n",
       "    .dataframe tbody tr th:only-of-type {\n",
       "        vertical-align: middle;\n",
       "    }\n",
       "\n",
       "    .dataframe tbody tr th {\n",
       "        vertical-align: top;\n",
       "    }\n",
       "\n",
       "    .dataframe thead th {\n",
       "        text-align: right;\n",
       "    }\n",
       "</style>\n",
       "<table border=\"1\" class=\"dataframe\">\n",
       "  <thead>\n",
       "    <tr style=\"text-align: right;\">\n",
       "      <th></th>\n",
       "      <th>x</th>\n",
       "      <th>y</th>\n",
       "    </tr>\n",
       "  </thead>\n",
       "  <tbody>\n",
       "    <tr>\n",
       "      <th>0</th>\n",
       "      <td>[醫, 師, ：, 你, 有, 做, 超, 音, 波, 嘛, ，, 那, 我, 們, 來, ...</td>\n",
       "      <td>[O, O, O, O, O, O, O, O, O, O, O, O, O, O, O, ...</td>\n",
       "    </tr>\n",
       "    <tr>\n",
       "      <th>1</th>\n",
       "      <td>[民, 眾, ：, 紅, 字, 是, 甚, 麼, 意, 思]</td>\n",
       "      <td>[O, O, O, O, O, O, O, O, O, O]</td>\n",
       "    </tr>\n",
       "    <tr>\n",
       "      <th>2</th>\n",
       "      <td>[醫, 師, ：, 就, 是, 肝, 功, 能, 有, 比, 較, 高, ，, 肝, 功, ...</td>\n",
       "      <td>[O, O, O, O, O, O, O, O, O, O, O, O, O, O, O, ...</td>\n",
       "    </tr>\n",
       "    <tr>\n",
       "      <th>3</th>\n",
       "      <td>[民, 眾, ：, 它, 會, 自, 動, 修, 復, 阿]</td>\n",
       "      <td>[O, O, O, O, O, O, O, O, O, O]</td>\n",
       "    </tr>\n",
       "    <tr>\n",
       "      <th>4</th>\n",
       "      <td>[醫, 師, ：, 你, 有, 抗, 體, 了, 阿, ，, 所, 以, 你, B, 肝, ...</td>\n",
       "      <td>[O, O, O, O, O, O, O, O, O, O, O, O, O, O, O, ...</td>\n",
       "    </tr>\n",
       "    <tr>\n",
       "      <th>...</th>\n",
       "      <td>...</td>\n",
       "      <td>...</td>\n",
       "    </tr>\n",
       "    <tr>\n",
       "      <th>44329</th>\n",
       "      <td>[民, 眾, ：, 阿, 就, 都, 可, 以, 走, ，, 只, 是, 就, 會, 累, ...</td>\n",
       "      <td>[O, O, O, O, O, O, O, O, O, O, O, O, O, O, O, ...</td>\n",
       "    </tr>\n",
       "    <tr>\n",
       "      <th>44330</th>\n",
       "      <td>[家, 屬, ：, 沒, 那, 麼, 累, 啦, ！, 他, 後, 來, 有, 在, 騎, ...</td>\n",
       "      <td>[O, O, O, O, O, O, O, O, O, O, O, O, O, O, O, ...</td>\n",
       "    </tr>\n",
       "    <tr>\n",
       "      <th>44331</th>\n",
       "      <td>[醫, 師, ：, 他, 有, 在, 騎, 腳, 踏, 車]</td>\n",
       "      <td>[O, O, O, O, O, O, O, O, O, O]</td>\n",
       "    </tr>\n",
       "    <tr>\n",
       "      <th>44332</th>\n",
       "      <td>[民, 眾, ：, 恩]</td>\n",
       "      <td>[O, O, O, O]</td>\n",
       "    </tr>\n",
       "    <tr>\n",
       "      <th>44333</th>\n",
       "      <td>[醫, 師, ：, 騎, 腳, 踏, 車, 可, 以, ，, 小, 美, ，, 那, 我, ...</td>\n",
       "      <td>[O, O, O, O, O, O, O, O, O, O, B-name, I-name,...</td>\n",
       "    </tr>\n",
       "  </tbody>\n",
       "</table>\n",
       "<p>44334 rows × 2 columns</p>\n",
       "</div>"
      ],
      "text/plain": [
       "                                                       x  \\\n",
       "0      [醫, 師, ：, 你, 有, 做, 超, 音, 波, 嘛, ，, 那, 我, 們, 來, ...   \n",
       "1                         [民, 眾, ：, 紅, 字, 是, 甚, 麼, 意, 思]   \n",
       "2      [醫, 師, ：, 就, 是, 肝, 功, 能, 有, 比, 較, 高, ，, 肝, 功, ...   \n",
       "3                         [民, 眾, ：, 它, 會, 自, 動, 修, 復, 阿]   \n",
       "4      [醫, 師, ：, 你, 有, 抗, 體, 了, 阿, ，, 所, 以, 你, B, 肝, ...   \n",
       "...                                                  ...   \n",
       "44329  [民, 眾, ：, 阿, 就, 都, 可, 以, 走, ，, 只, 是, 就, 會, 累, ...   \n",
       "44330  [家, 屬, ：, 沒, 那, 麼, 累, 啦, ！, 他, 後, 來, 有, 在, 騎, ...   \n",
       "44331                     [醫, 師, ：, 他, 有, 在, 騎, 腳, 踏, 車]   \n",
       "44332                                       [民, 眾, ：, 恩]   \n",
       "44333  [醫, 師, ：, 騎, 腳, 踏, 車, 可, 以, ，, 小, 美, ，, 那, 我, ...   \n",
       "\n",
       "                                                       y  \n",
       "0      [O, O, O, O, O, O, O, O, O, O, O, O, O, O, O, ...  \n",
       "1                         [O, O, O, O, O, O, O, O, O, O]  \n",
       "2      [O, O, O, O, O, O, O, O, O, O, O, O, O, O, O, ...  \n",
       "3                         [O, O, O, O, O, O, O, O, O, O]  \n",
       "4      [O, O, O, O, O, O, O, O, O, O, O, O, O, O, O, ...  \n",
       "...                                                  ...  \n",
       "44329  [O, O, O, O, O, O, O, O, O, O, O, O, O, O, O, ...  \n",
       "44330  [O, O, O, O, O, O, O, O, O, O, O, O, O, O, O, ...  \n",
       "44331                     [O, O, O, O, O, O, O, O, O, O]  \n",
       "44332                                       [O, O, O, O]  \n",
       "44333  [O, O, O, O, O, O, O, O, O, O, B-name, I-name,...  \n",
       "\n",
       "[44334 rows x 2 columns]"
      ]
     },
     "execution_count": 9,
     "metadata": {},
     "output_type": "execute_result"
    }
   ],
   "source": [
    "df = pd.DataFrame({'x': x, 'y': y})\n",
    "df"
   ]
  },
  {
   "cell_type": "code",
   "execution_count": 10,
   "metadata": {},
   "outputs": [
    {
     "name": "stderr",
     "output_type": "stream",
     "text": [
      "/home/Danny/anaconda3/lib/python3.6/site-packages/ipykernel_launcher.py:4: SettingWithCopyWarning: \n",
      "A value is trying to be set on a copy of a slice from a DataFrame.\n",
      "Try using .loc[row_indexer,col_indexer] = value instead\n",
      "\n",
      "See the caveats in the documentation: https://pandas.pydata.org/pandas-docs/stable/user_guide/indexing.html#returning-a-view-versus-a-copy\n",
      "  after removing the cwd from sys.path.\n",
      "/home/Danny/anaconda3/lib/python3.6/site-packages/ipykernel_launcher.py:5: SettingWithCopyWarning: \n",
      "A value is trying to be set on a copy of a slice from a DataFrame.\n",
      "Try using .loc[row_indexer,col_indexer] = value instead\n",
      "\n",
      "See the caveats in the documentation: https://pandas.pydata.org/pandas-docs/stable/user_guide/indexing.html#returning-a-view-versus-a-copy\n",
      "  \"\"\"\n"
     ]
    },
    {
     "data": {
      "text/html": [
       "<div>\n",
       "<style scoped>\n",
       "    .dataframe tbody tr th:only-of-type {\n",
       "        vertical-align: middle;\n",
       "    }\n",
       "\n",
       "    .dataframe tbody tr th {\n",
       "        vertical-align: top;\n",
       "    }\n",
       "\n",
       "    .dataframe thead th {\n",
       "        text-align: right;\n",
       "    }\n",
       "</style>\n",
       "<table border=\"1\" class=\"dataframe\">\n",
       "  <thead>\n",
       "    <tr style=\"text-align: right;\">\n",
       "      <th></th>\n",
       "      <th>x</th>\n",
       "      <th>y</th>\n",
       "    </tr>\n",
       "  </thead>\n",
       "  <tbody>\n",
       "    <tr>\n",
       "      <th>0</th>\n",
       "      <td>[醫, 師, ：, 你, 有, 做, 超, 音, 波, 嘛, ，, 那, 我, 們, 來, ...</td>\n",
       "      <td>[O, O, O, O, O, O, O, O, O, O, O, O, O, O, O, ...</td>\n",
       "    </tr>\n",
       "    <tr>\n",
       "      <th>1</th>\n",
       "      <td>[民, 眾, ：, 紅, 字, 是, 甚, 麼, 意, 思]</td>\n",
       "      <td>[O, O, O, O, O, O, O, O, O, O]</td>\n",
       "    </tr>\n",
       "    <tr>\n",
       "      <th>2</th>\n",
       "      <td>[醫, 師, ：, 就, 是, 肝, 功, 能, 有, 比, 較, 高, ，, 肝, 功, ...</td>\n",
       "      <td>[O, O, O, O, O, O, O, O, O, O, O, O, O, O, O, ...</td>\n",
       "    </tr>\n",
       "    <tr>\n",
       "      <th>3</th>\n",
       "      <td>[民, 眾, ：, 它, 會, 自, 動, 修, 復, 阿]</td>\n",
       "      <td>[O, O, O, O, O, O, O, O, O, O]</td>\n",
       "    </tr>\n",
       "    <tr>\n",
       "      <th>4</th>\n",
       "      <td>[醫, 師, ：, 你, 有, 抗, 體, 了, 阿, ，, 所, 以, 你, B, 肝, ...</td>\n",
       "      <td>[O, O, O, O, O, O, O, O, O, O, O, O, O, O, O, ...</td>\n",
       "    </tr>\n",
       "    <tr>\n",
       "      <th>...</th>\n",
       "      <td>...</td>\n",
       "      <td>...</td>\n",
       "    </tr>\n",
       "    <tr>\n",
       "      <th>44053</th>\n",
       "      <td>[醫, 師, ：, 7, 4, 0, 3]</td>\n",
       "      <td>[O, O, O, B-ID, I-ID, I-ID, I-ID]</td>\n",
       "    </tr>\n",
       "    <tr>\n",
       "      <th>44054</th>\n",
       "      <td>[醫, 師, ：, 6, 6, 6, 0, 8, 9, 7, 4, 0, 3, ，, 好]</td>\n",
       "      <td>[O, O, O, B-ID, I-ID, I-ID, I-ID, I-ID, I-ID, ...</td>\n",
       "    </tr>\n",
       "    <tr>\n",
       "      <th>44055</th>\n",
       "      <td>[護, 理, 師, ：, 6, 6, 6, 0, 9, 8]</td>\n",
       "      <td>[O, O, O, O, B-ID, I-ID, I-ID, I-ID, I-ID, I-ID]</td>\n",
       "    </tr>\n",
       "    <tr>\n",
       "      <th>44056</th>\n",
       "      <td>[醫, 師, ：, 0, 9, 8, 7, 4, 0, 3]</td>\n",
       "      <td>[O, O, O, B-ID, I-ID, I-ID, I-ID, I-ID, I-ID, ...</td>\n",
       "    </tr>\n",
       "    <tr>\n",
       "      <th>44303</th>\n",
       "      <td>[民, 眾, ：, 對, 對, ，, 好, 像, 是, 那, 時, 候, 跑, 完, 6, ...</td>\n",
       "      <td>[O, O, O, O, O, O, O, O, O, O, O, O, O, O, O, ...</td>\n",
       "    </tr>\n",
       "  </tbody>\n",
       "</table>\n",
       "<p>19910 rows × 2 columns</p>\n",
       "</div>"
      ],
      "text/plain": [
       "                                                       x  \\\n",
       "0      [醫, 師, ：, 你, 有, 做, 超, 音, 波, 嘛, ，, 那, 我, 們, 來, ...   \n",
       "1                         [民, 眾, ：, 紅, 字, 是, 甚, 麼, 意, 思]   \n",
       "2      [醫, 師, ：, 就, 是, 肝, 功, 能, 有, 比, 較, 高, ，, 肝, 功, ...   \n",
       "3                         [民, 眾, ：, 它, 會, 自, 動, 修, 復, 阿]   \n",
       "4      [醫, 師, ：, 你, 有, 抗, 體, 了, 阿, ，, 所, 以, 你, B, 肝, ...   \n",
       "...                                                  ...   \n",
       "44053                              [醫, 師, ：, 7, 4, 0, 3]   \n",
       "44054      [醫, 師, ：, 6, 6, 6, 0, 8, 9, 7, 4, 0, 3, ，, 好]   \n",
       "44055                     [護, 理, 師, ：, 6, 6, 6, 0, 9, 8]   \n",
       "44056                     [醫, 師, ：, 0, 9, 8, 7, 4, 0, 3]   \n",
       "44303  [民, 眾, ：, 對, 對, ，, 好, 像, 是, 那, 時, 候, 跑, 完, 6, ...   \n",
       "\n",
       "                                                       y  \n",
       "0      [O, O, O, O, O, O, O, O, O, O, O, O, O, O, O, ...  \n",
       "1                         [O, O, O, O, O, O, O, O, O, O]  \n",
       "2      [O, O, O, O, O, O, O, O, O, O, O, O, O, O, O, ...  \n",
       "3                         [O, O, O, O, O, O, O, O, O, O]  \n",
       "4      [O, O, O, O, O, O, O, O, O, O, O, O, O, O, O, ...  \n",
       "...                                                  ...  \n",
       "44053                  [O, O, O, B-ID, I-ID, I-ID, I-ID]  \n",
       "44054  [O, O, O, B-ID, I-ID, I-ID, I-ID, I-ID, I-ID, ...  \n",
       "44055   [O, O, O, O, B-ID, I-ID, I-ID, I-ID, I-ID, I-ID]  \n",
       "44056  [O, O, O, B-ID, I-ID, I-ID, I-ID, I-ID, I-ID, ...  \n",
       "44303  [O, O, O, O, O, O, O, O, O, O, O, O, O, O, O, ...  \n",
       "\n",
       "[19910 rows x 2 columns]"
      ]
     },
     "execution_count": 10,
     "metadata": {},
     "output_type": "execute_result"
    }
   ],
   "source": [
    "df['x'] = df['x'].apply(lambda row : str(row))\n",
    "df['y'] = df['y'].apply(lambda row : str(row))\n",
    "df = df.drop_duplicates()\n",
    "df['x'] = df['x'].apply(lambda row : eval(row))\n",
    "df['y'] = df['y'].apply(lambda row : eval(row))\n",
    "df"
   ]
  },
  {
   "cell_type": "code",
   "execution_count": 11,
   "metadata": {},
   "outputs": [],
   "source": [
    "x = df['x'].to_list()\n",
    "y = df['y'].to_list()"
   ]
  },
  {
   "cell_type": "code",
   "execution_count": 12,
   "metadata": {},
   "outputs": [
    {
     "name": "stdout",
     "output_type": "stream",
     "text": [
      "12742 12742\n",
      "3186 3186\n",
      "3982 3982\n"
     ]
    }
   ],
   "source": [
    "from sklearn.model_selection import train_test_split\n",
    "train_x, test_x, train_y, test_y = train_test_split(x, y, test_size=0.2, random_state=42)\n",
    "train_x, valid_x, train_y, valid_y = train_test_split(train_x, train_y, test_size=0.2, random_state=42)\n",
    "print(len(train_x), len(train_y))\n",
    "print(len(valid_x), len(valid_y))\n",
    "print(len(test_x), len(test_y))"
   ]
  },
  {
   "cell_type": "code",
   "execution_count": 13,
   "metadata": {
    "scrolled": false
   },
   "outputs": [
    {
     "name": "stderr",
     "output_type": "stream",
     "text": [
      "2020-12-15 10:13:05,168 [DEBUG] kashgari - ------------------------------------------------\n",
      "2020-12-15 10:13:05,169 [DEBUG] kashgari - Loaded transformer model's vocab\n",
      "2020-12-15 10:13:05,170 [DEBUG] kashgari - config_path       : /home/Danny/pretrain_model/bert-chinese/bert_config.json\n",
      "2020-12-15 10:13:05,170 [DEBUG] kashgari - vocab_path      : /home/Danny/pretrain_model/bert-chinese/vocab.txt\n",
      "2020-12-15 10:13:05,171 [DEBUG] kashgari - checkpoint_path : /home/Danny/pretrain_model/bert-chinese/bert_model.ckpt\n",
      "2020-12-15 10:13:05,171 [DEBUG] kashgari - Top 50 words    : ['[PAD]', '[unused1]', '[unused2]', '[unused3]', '[unused4]', '[unused5]', '[unused6]', '[unused7]', '[unused8]', '[unused9]', '[unused10]', '[unused11]', '[unused12]', '[unused13]', '[unused14]', '[unused15]', '[unused16]', '[unused17]', '[unused18]', '[unused19]', '[unused20]', '[unused21]', '[unused22]', '[unused23]', '[unused24]', '[unused25]', '[unused26]', '[unused27]', '[unused28]', '[unused29]', '[unused30]', '[unused31]', '[unused32]', '[unused33]', '[unused34]', '[unused35]', '[unused36]', '[unused37]', '[unused38]', '[unused39]', '[unused40]', '[unused41]', '[unused42]', '[unused43]', '[unused44]', '[unused45]', '[unused46]', '[unused47]', '[unused48]', '[unused49]']\n",
      "2020-12-15 10:13:05,172 [DEBUG] kashgari - ------------------------------------------------\n",
      "Preparing text vocab dict: 100%|██████████| 12742/12742 [00:00<00:00, 236580.72it/s]\n",
      "Preparing text vocab dict: 100%|██████████| 3186/3186 [00:00<00:00, 273116.67it/s]\n",
      "2020-12-15 10:13:05,243 [DEBUG] kashgari - --- Build vocab dict finished, Total: 1557 ---\n",
      "2020-12-15 10:13:05,244 [DEBUG] kashgari - Top-10: ['[PAD]', '[UNK]', '[CLS]', '[SEP]', '：', '，', '是', '師', '醫', '有']\n",
      "Preparing text vocab dict: 100%|██████████| 12742/12742 [00:00<00:00, 356736.88it/s]\n",
      "Preparing text vocab dict: 100%|██████████| 3186/3186 [00:00<00:00, 337016.79it/s]\n",
      "2020-12-15 10:13:05,293 [DEBUG] kashgari - --- Build vocab dict finished, Total: 28 ---\n",
      "2020-12-15 10:13:05,293 [DEBUG] kashgari - Top-10: ['[PAD]', 'O', 'I-time', 'B-time', 'I-med_exam', 'I-name', 'I-location', 'B-med_exam', 'I-money', 'B-location']\n",
      "Calculating sequence length: 100%|██████████| 12742/12742 [00:00<00:00, 1446303.90it/s]\n",
      "Calculating sequence length: 100%|██████████| 3186/3186 [00:00<00:00, 1333105.80it/s]\n",
      "2020-12-15 10:13:08,351 [DEBUG] kashgari - Calculated sequence length = 46\n",
      "2020-12-15 10:13:10,323 [DEBUG] kashgari - fit input shape: (2, 1024, 46)\n",
      "2020-12-15 10:13:10,324 [DEBUG] kashgari - fit input shape: (1024, 46)\n"
     ]
    },
    {
     "name": "stdout",
     "output_type": "stream",
     "text": [
      "Epoch 1/10\n",
      "12/12 [==============================] - 23s 2s/step - loss: 6.8711 - accuracy: 0.8088 - val_loss: 43.4967 - val_accuracy: 0.9385\n",
      "Epoch 2/10\n",
      "12/12 [==============================] - 18s 2s/step - loss: 1.8891 - accuracy: 0.9583 - val_loss: 42.8647 - val_accuracy: 0.9694\n",
      "Epoch 3/10\n",
      "12/12 [==============================] - 18s 1s/step - loss: 1.3356 - accuracy: 0.9676 - val_loss: 42.5984 - val_accuracy: 0.9698\n",
      "Epoch 4/10\n",
      "12/12 [==============================] - 18s 1s/step - loss: 1.0116 - accuracy: 0.9704 - val_loss: 42.5707 - val_accuracy: 0.9728\n",
      "Epoch 5/10\n",
      "12/12 [==============================] - 18s 1s/step - loss: 0.8831 - accuracy: 0.9733 - val_loss: 42.7329 - val_accuracy: 0.9761\n",
      "Epoch 6/10\n",
      "12/12 [==============================] - 18s 1s/step - loss: 0.7832 - accuracy: 0.9749 - val_loss: 42.6002 - val_accuracy: 0.9760\n",
      "Epoch 7/10\n",
      "12/12 [==============================] - 18s 1s/step - loss: 0.7040 - accuracy: 0.9769 - val_loss: 42.5533 - val_accuracy: 0.9780\n",
      "Epoch 8/10\n",
      "12/12 [==============================] - 18s 1s/step - loss: 0.6347 - accuracy: 0.9781 - val_loss: 42.5775 - val_accuracy: 0.9790\n",
      "Epoch 9/10\n",
      "12/12 [==============================] - 18s 1s/step - loss: 0.5818 - accuracy: 0.9792 - val_loss: 42.4511 - val_accuracy: 0.9794\n",
      "Epoch 10/10\n",
      "12/12 [==============================] - 18s 1s/step - loss: 0.5377 - accuracy: 0.9798 - val_loss: 42.3445 - val_accuracy: 0.9800\n",
      "CPU times: user 2min 9s, sys: 17.8 s, total: 2min 27s\n",
      "Wall time: 3min 35s\n"
     ]
    }
   ],
   "source": [
    "%%time\n",
    "import kashgari\n",
    "from kashgari.tasks.labeling import BiLSTM_CRF_Model\n",
    "from kashgari.embeddings import BertEmbedding\n",
    "kashgari.config.use_cudnn_cell = True\n",
    "bert_embedding = BertEmbedding(embedding_path, \n",
    "                           sequence_length='auto',\n",
    "                           trainable=True,\n",
    "                           task='kashgari.LABELING', \n",
    "                          )\n",
    "model = BiLSTM_CRF_Model(bert_embedding)\n",
    "history = model.fit(train_x,\n",
    "                    train_y,\n",
    "                    valid_x,\n",
    "                    valid_y,\n",
    "                    epochs=epochs,\n",
    "                    batch_size=batch_size,\n",
    "                   )"
   ]
  },
  {
   "cell_type": "code",
   "execution_count": null,
   "metadata": {},
   "outputs": [
    {
     "name": "stderr",
     "output_type": "stream",
     "text": [
      "2020-12-15 10:16:40,515 [WARNING] kashgari - Sequence length is None, will use the max length of the samples, which is 243\n",
      "2020-12-15 10:16:40,556 [DEBUG] kashgari - predict seq_length: None, input: (2, 3982, 243)\n"
     ]
    },
    {
     "name": "stdout",
     "output_type": "stream",
     "text": [
      "125/125 [==============================] - 38s 302ms/step\n"
     ]
    },
    {
     "name": "stderr",
     "output_type": "stream",
     "text": [
      "2020-12-15 10:17:23,043 [DEBUG] kashgari - predict output: (3982, 243)\n",
      "2020-12-15 10:17:23,044 [DEBUG] kashgari - predict output argmax: [[0 1 1 ... 1 1 1]\n",
      " [0 1 1 ... 1 1 1]\n",
      " [0 1 1 ... 1 1 1]\n",
      " ...\n",
      " [0 1 1 ... 1 1 1]\n",
      " [0 1 1 ... 1 1 1]\n",
      " [0 1 1 ... 1 1 1]]\n"
     ]
    },
    {
     "name": "stdout",
     "output_type": "stream",
     "text": [
      "\n",
      "                precision    recall  f1-score   support\n",
      "\n",
      "          time     0.4529    0.5475    0.4957       579\n",
      "      med_exam     0.2941    0.2174    0.2500        92\n",
      "      location     0.0000    0.0000    0.0000        48\n",
      "          name     0.0000    0.0000    0.0000        53\n",
      "            ID     0.0000    0.0000    0.0000         6\n",
      "         money     0.0000    0.0000    0.0000        21\n",
      "       contact     0.0000    0.0000    0.0000        12\n",
      "        family     0.0000    0.0000    0.0000         9\n",
      "  organization     0.0000    0.0000    0.0000         3\n",
      "    profession     0.0000    0.0000    0.0000         5\n",
      "clinical_event     0.0000    0.0000    0.0000         1\n",
      "\n",
      "     micro avg     0.4388    0.4065    0.4220       829\n",
      "     macro avg     0.3489    0.4065    0.3740       829\n",
      "\n"
     ]
    }
   ],
   "source": [
    "model.evaluate(test_x, test_y)\n",
    "model_path = 'model/{}_epoch_{}_batch_{}'.format(model_name, epochs, batch_size)\n",
    "model.save(model_path)"
   ]
  },
  {
   "cell_type": "code",
   "execution_count": null,
   "metadata": {},
   "outputs": [],
   "source": [
    "plt.plot(history.history['accuracy'])\n",
    "plt.plot(history.history['val_accuracy'])\n",
    "plt.plot(history.history['loss'])\n",
    "plt.plot(history.history['val_loss'])\n",
    "plt.title('model accuracy')\n",
    "plt.ylabel('accuracy')\n",
    "plt.xlabel('epoch')\n",
    "plt.legend(['accuracy', 'val_accuracy', 'loss', 'val_loss'])\n",
    "plt.show()"
   ]
  },
  {
   "cell_type": "code",
   "execution_count": null,
   "metadata": {},
   "outputs": [],
   "source": [
    "# 需要儲存article_id, 轉成dataframe\n",
    "def predicting_txt_to_dataframe(path):    \n",
    "    with open(path, 'r') as f:\n",
    "        txt = str(f.read())\n",
    "        txt_list = txt.split('\\n')\n",
    "    row_list = list()\n",
    "    tmp_list = list()\n",
    "    for row in txt_list:\n",
    "        if row == '--------------------':\n",
    "            tmp_list[0] = tmp_list[0].replace('article_id:', '')\n",
    "            tmp_list[0] = int(tmp_list[0])\n",
    "            row_list.append(tmp_list)\n",
    "            tmp_list = list()\n",
    "            continue\n",
    "        if len(row) > 0:\n",
    "            tmp_list.append(row)\n",
    "    df = pd.DataFrame(row_list, columns=['article_id','text'])\n",
    "    return df"
   ]
  },
  {
   "cell_type": "code",
   "execution_count": null,
   "metadata": {},
   "outputs": [],
   "source": [
    "def predict_NER(text):\n",
    "    x_list = list()    \n",
    "    text_list = re.split('\\uff0c|\\u3002|\\uff1f', text)\n",
    "    for article in text_list:\n",
    "        x_list.append([i for i in article])\n",
    "    y_list_list = model.predict(x_list)\n",
    "    y_list = list()\n",
    "    for sentence in y_list_list:\n",
    "        for word in sentence:\n",
    "            y_list.append(word)\n",
    "        y_list.append('O') # append(，。？)\n",
    "    y_list = y_list[:-1]\n",
    "    return y_list"
   ]
  },
  {
   "cell_type": "code",
   "execution_count": null,
   "metadata": {},
   "outputs": [],
   "source": [
    "def output_NER(article_id, text, y_list):\n",
    "    output_str = str()\n",
    "    flag = False\n",
    "    for i, j in enumerate(y_list):\n",
    "        if j != 'O':\n",
    "            if j[0] == 'B':\n",
    "                start_position = i\n",
    "                entity_type = j.split('-')[-1]\n",
    "                flag = True\n",
    "        elif j == 'O' and flag == True:\n",
    "            end_position = i\n",
    "            flag = False\n",
    "            entity_text = text[start_position: end_position]\n",
    "            entity = '{}\\t{}\\t{}\\t{}\\t{}\\n'.format(article_id, start_position, end_position, entity_text, entity_type)  \n",
    "            output_str += entity\n",
    "    return output_str"
   ]
  },
  {
   "cell_type": "code",
   "execution_count": null,
   "metadata": {},
   "outputs": [],
   "source": [
    "df = predicting_txt_to_dataframe('/home/Danny/AI-CUP-2020/datasets/stage5/test.txt')\n",
    "output_str = \"article_id\\tstart_position\\tend_position\\tentity_text\\tentity_type\\n\"\n",
    "\n",
    "for article_id, text in zip(df['article_id'], df['text']):\n",
    "    x_list = [word for word in text]\n",
    "    y_list = predict_NER(text)\n",
    "    output_str += output_NER(article_id, text, y_list)"
   ]
  },
  {
   "cell_type": "code",
   "execution_count": null,
   "metadata": {},
   "outputs": [],
   "source": [
    "# print(output_str)"
   ]
  },
  {
   "cell_type": "code",
   "execution_count": null,
   "metadata": {},
   "outputs": [],
   "source": [
    "output_path = 'output/{}_epoch_{}_batch_{}.tsv'.format(model_name, epochs, batch_size)\n",
    "with open(output_path, 'w', encoding='utf-8') as f:\n",
    "    f.write(output_str)"
   ]
  },
  {
   "cell_type": "code",
   "execution_count": null,
   "metadata": {},
   "outputs": [],
   "source": [
    "df = pd.read_csv(output_path)\n",
    "df"
   ]
  },
  {
   "cell_type": "code",
   "execution_count": null,
   "metadata": {},
   "outputs": [],
   "source": []
  }
 ],
 "metadata": {
  "kernelspec": {
   "display_name": "Python 3",
   "language": "python",
   "name": "python3"
  },
  "language_info": {
   "codemirror_mode": {
    "name": "ipython",
    "version": 3
   },
   "file_extension": ".py",
   "mimetype": "text/x-python",
   "name": "python",
   "nbconvert_exporter": "python",
   "pygments_lexer": "ipython3",
   "version": "3.6.10"
  }
 },
 "nbformat": 4,
 "nbformat_minor": 4
}
