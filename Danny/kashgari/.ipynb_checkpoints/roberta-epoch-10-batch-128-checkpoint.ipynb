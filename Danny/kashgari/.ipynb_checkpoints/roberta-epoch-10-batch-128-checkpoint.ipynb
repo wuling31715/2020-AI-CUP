{
 "cells": [
  {
   "cell_type": "code",
   "execution_count": 1,
   "metadata": {},
   "outputs": [],
   "source": [
    "import re\n",
    "import os\n",
    "import pandas as pd\n",
    "import tensorflow as tf\n",
    "from matplotlib import pyplot as plt"
   ]
  },
  {
   "cell_type": "code",
   "execution_count": 2,
   "metadata": {},
   "outputs": [],
   "source": [
    "def select_gpu(N):\n",
    "    gpus = tf.config.experimental.list_physical_devices('GPU')\n",
    "    print(gpus)\n",
    "    if gpus:\n",
    "        try:\n",
    "            for gpu in gpus:\n",
    "                tf.config.experimental.set_memory_growth(gpu, True)\n",
    "            tf.config.experimental.set_visible_devices(gpus[N], 'GPU')\n",
    "            logical_gpus = tf.config.experimental.list_logical_devices('GPU')\n",
    "            print(len(gpus), \"Physical GPUs,\", len(logical_gpus), \"Logical GPUs\")\n",
    "        except RuntimeError as e:\n",
    "            print(e)    "
   ]
  },
  {
   "cell_type": "code",
   "execution_count": 3,
   "metadata": {},
   "outputs": [
    {
     "name": "stdout",
     "output_type": "stream",
     "text": [
      "[PhysicalDevice(name='/physical_device:GPU:0', device_type='GPU'), PhysicalDevice(name='/physical_device:GPU:1', device_type='GPU'), PhysicalDevice(name='/physical_device:GPU:2', device_type='GPU')]\n",
      "3 Physical GPUs, 1 Logical GPUs\n"
     ]
    }
   ],
   "source": [
    "select_gpu(2)\n",
    "epochs = 200\n",
    "batch_size = 128\n",
    "model_name = 'roberta-chinese'\n",
    "embedding_path = '/home/Danny/pretrain_model/{}'.format(model_name)"
   ]
  },
  {
   "cell_type": "code",
   "execution_count": 4,
   "metadata": {},
   "outputs": [],
   "source": [
    "# 不用儲存article_id, 轉成list\n",
    "def training_txt_to_list(path):\n",
    "    with open(path, 'r') as f:\n",
    "        txt = str(f.read())\n",
    "    txt_list = txt.split('\\n')\n",
    "    text_label_list = list()\n",
    "    tmp = list()\n",
    "    for line in txt_list:\n",
    "        if line == '--------------------':\n",
    "            text_label_list.append(tmp)\n",
    "            tmp = list()\n",
    "            continue\n",
    "        if line == '':\n",
    "            continue\n",
    "        tmp.append(line)\n",
    "    x = list()\n",
    "    y = list()\n",
    "    for text_label in text_label_list:\n",
    "        text = text_label[0]\n",
    "        label = text_label[2:]\n",
    "        label_list = ['O' for i in range(len(text))]\n",
    "        for i in label:\n",
    "            entity = i.split('\\t')\n",
    "            if int(entity[1]) > int(entity[2]):\n",
    "                continue\n",
    "            b = int(entity[1])\n",
    "            label_list[b] = 'B-{}'.format(entity[-1])\n",
    "            for j in range(int(entity[1])+1, int(entity[2])):\n",
    "                label_list[j] = 'I-{}'.format(entity[-1])\n",
    "        for i, j in enumerate(text):\n",
    "            if j == '，' or j == '。' or j == '？':\n",
    "                label_list[i] = j\n",
    "                \n",
    "        text_list = re.split('\\uff0c|\\u3002|\\uff1f', text)\n",
    "        for sentence in text_list:\n",
    "            x.append([i for i in sentence])\n",
    "        x = x[:-1]\n",
    "            \n",
    "        sentence = list()\n",
    "        for i in label_list:\n",
    "            if i == '，' or i == '。' or i == '？':\n",
    "                y.append(sentence)\n",
    "                sentence = list()\n",
    "            else:\n",
    "                sentence.append(i)\n",
    "                \n",
    "    return [x, y]"
   ]
  },
  {
   "cell_type": "code",
   "execution_count": 5,
   "metadata": {},
   "outputs": [],
   "source": [
    "x1, y1 = training_txt_to_list('/home/Danny/AI-CUP-2020/datasets/stage1/SampleData_deid.txt')"
   ]
  },
  {
   "cell_type": "code",
   "execution_count": 6,
   "metadata": {},
   "outputs": [],
   "source": [
    "x2, y2 = training_txt_to_list('/home/Danny/AI-CUP-2020/datasets/stage2/train_1_update.txt')"
   ]
  },
  {
   "cell_type": "code",
   "execution_count": 7,
   "metadata": {},
   "outputs": [],
   "source": [
    "x4, y4 = training_txt_to_list('/home/Danny/AI-CUP-2020/datasets/stage4/train_2.txt')"
   ]
  },
  {
   "cell_type": "code",
   "execution_count": 8,
   "metadata": {},
   "outputs": [
    {
     "name": "stdout",
     "output_type": "stream",
     "text": [
      "76162\n",
      "76162\n"
     ]
    }
   ],
   "source": [
    "x = x1 + x2 + x4\n",
    "y = y1 + y2 + y4\n",
    "print(len(x))\n",
    "print(len(y))"
   ]
  },
  {
   "cell_type": "code",
   "execution_count": 9,
   "metadata": {},
   "outputs": [
    {
     "name": "stdout",
     "output_type": "stream",
     "text": [
      "48743 48743\n",
      "12186 12186\n",
      "15233 15233\n"
     ]
    }
   ],
   "source": [
    "from sklearn.model_selection import train_test_split\n",
    "train_x, test_x, train_y, test_y = train_test_split(x, y, test_size=0.2, random_state=42)\n",
    "train_x, valid_x, train_y, valid_y = train_test_split(train_x, train_y, test_size=0.2, random_state=42)\n",
    "print(len(train_x), len(train_y))\n",
    "print(len(valid_x), len(valid_y))\n",
    "print(len(test_x), len(test_y))"
   ]
  },
  {
   "cell_type": "code",
   "execution_count": 11,
   "metadata": {},
   "outputs": [
    {
     "name": "stderr",
     "output_type": "stream",
     "text": [
      "2020-12-13 20:47:17,179 [DEBUG] kashgari - ------------------------------------------------\n",
      "2020-12-13 20:47:17,180 [DEBUG] kashgari - Loaded transformer model's vocab\n",
      "2020-12-13 20:47:17,180 [DEBUG] kashgari - config_path       : /home/Danny/pretrain_model/roberta-chinese/bert_config.json\n",
      "2020-12-13 20:47:17,181 [DEBUG] kashgari - vocab_path      : /home/Danny/pretrain_model/roberta-chinese/vocab.txt\n",
      "2020-12-13 20:47:17,181 [DEBUG] kashgari - checkpoint_path : /home/Danny/pretrain_model/roberta-chinese/bert_model.ckpt\n",
      "2020-12-13 20:47:17,182 [DEBUG] kashgari - Top 50 words    : ['[PAD]', '[unused1]', '[unused2]', '[unused3]', '[unused4]', '[unused5]', '[unused6]', '[unused7]', '[unused8]', '[unused9]', '[unused10]', '[unused11]', '[unused12]', '[unused13]', '[unused14]', '[unused15]', '[unused16]', '[unused17]', '[unused18]', '[unused19]', '[unused20]', '[unused21]', '[unused22]', '[unused23]', '[unused24]', '[unused25]', '[unused26]', '[unused27]', '[unused28]', '[unused29]', '[unused30]', '[unused31]', '[unused32]', '[unused33]', '[unused34]', '[unused35]', '[unused36]', '[unused37]', '[unused38]', '[unused39]', '[unused40]', '[unused41]', '[unused42]', '[unused43]', '[unused44]', '[unused45]', '[unused46]', '[unused47]', '[unused48]', '[unused49]']\n",
      "2020-12-13 20:47:17,182 [DEBUG] kashgari - ------------------------------------------------\n",
      "Preparing text vocab dict: 100%|██████████| 48743/48743 [00:00<00:00, 505281.50it/s]\n",
      "Preparing text vocab dict: 100%|██████████| 12186/12186 [00:00<00:00, 497738.67it/s]\n",
      "2020-12-13 20:47:17,307 [DEBUG] kashgari - --- Build vocab dict finished, Total: 1742 ---\n",
      "2020-12-13 20:47:17,308 [DEBUG] kashgari - Top-10: ['[PAD]', '[UNK]', '[CLS]', '[SEP]', '：', '師', '是', '民', '眾', '醫']\n",
      "Preparing text vocab dict: 100%|██████████| 48743/48743 [00:00<00:00, 687778.88it/s]\n",
      "Preparing text vocab dict: 100%|██████████| 12186/12186 [00:00<00:00, 686451.27it/s]\n",
      "2020-12-13 20:47:17,399 [DEBUG] kashgari - --- Build vocab dict finished, Total: 28 ---\n",
      "2020-12-13 20:47:17,400 [DEBUG] kashgari - Top-10: ['[PAD]', 'O', 'I-time', 'B-time', 'I-med_exam', 'I-name', 'I-location', 'B-med_exam', 'I-money', 'B-name']\n",
      "Calculating sequence length: 100%|██████████| 48743/48743 [00:00<00:00, 1581054.23it/s]\n",
      "Calculating sequence length: 100%|██████████| 12186/12186 [00:00<00:00, 1829668.46it/s]\n",
      "2020-12-13 20:47:23,570 [DEBUG] kashgari - Calculated sequence length = 19\n",
      "2020-12-13 20:47:25,088 [DEBUG] kashgari - fit input shape: (2, 128, 19)\n",
      "2020-12-13 20:47:25,089 [DEBUG] kashgari - fit input shape: (128, 19)\n"
     ]
    },
    {
     "name": "stdout",
     "output_type": "stream",
     "text": [
      "Epoch 1/200\n",
      "380/380 [==============================] - 49s 129ms/step - loss: 0.6127 - accuracy: 0.9689 - val_loss: 23.0815 - val_accuracy: 0.9868\n",
      "Epoch 2/200\n",
      "380/380 [==============================] - 46s 121ms/step - loss: 0.1936 - accuracy: 0.9866 - val_loss: 22.6022 - val_accuracy: 0.9882\n",
      "Epoch 3/200\n",
      "380/380 [==============================] - 46s 122ms/step - loss: 0.1473 - accuracy: 0.9882 - val_loss: 22.1363 - val_accuracy: 0.9894\n",
      "Epoch 4/200\n",
      "380/380 [==============================] - 46s 122ms/step - loss: 0.1242 - accuracy: 0.9894 - val_loss: 21.6699 - val_accuracy: 0.9896\n",
      "Epoch 5/200\n",
      "380/380 [==============================] - 46s 122ms/step - loss: 0.1040 - accuracy: 0.9902 - val_loss: 21.2223 - val_accuracy: 0.9885\n",
      "Epoch 6/200\n",
      "380/380 [==============================] - 46s 122ms/step - loss: 0.0910 - accuracy: 0.9909 - val_loss: 20.7881 - val_accuracy: 0.9861\n",
      "Epoch 7/200\n",
      "380/380 [==============================] - 46s 122ms/step - loss: 0.0791 - accuracy: 0.9915 - val_loss: 20.3598 - val_accuracy: 0.9853\n",
      "Epoch 8/200\n",
      "380/380 [==============================] - 46s 122ms/step - loss: 0.0702 - accuracy: 0.9922 - val_loss: 19.9739 - val_accuracy: 0.9815\n",
      "Epoch 9/200\n",
      "380/380 [==============================] - 46s 122ms/step - loss: 0.0641 - accuracy: 0.9925 - val_loss: 19.5909 - val_accuracy: 0.9804\n",
      "Epoch 10/200\n",
      "380/380 [==============================] - 46s 122ms/step - loss: 0.0581 - accuracy: 0.9932 - val_loss: 19.2366 - val_accuracy: 0.9768\n",
      "Epoch 11/200\n",
      "380/380 [==============================] - 46s 122ms/step - loss: 0.0554 - accuracy: 0.9934 - val_loss: 18.8847 - val_accuracy: 0.9649\n",
      "Epoch 12/200\n",
      "380/380 [==============================] - 46s 122ms/step - loss: 0.0498 - accuracy: 0.9937 - val_loss: 18.5634 - val_accuracy: 0.9617\n",
      "Epoch 13/200\n",
      "380/380 [==============================] - 46s 122ms/step - loss: 0.0458 - accuracy: 0.9943 - val_loss: 18.2426 - val_accuracy: 0.9628\n",
      "Epoch 14/200\n",
      "380/380 [==============================] - 46s 122ms/step - loss: 0.0440 - accuracy: 0.9946 - val_loss: 17.9405 - val_accuracy: 0.9471\n",
      "Epoch 15/200\n",
      "380/380 [==============================] - 46s 122ms/step - loss: 0.0407 - accuracy: 0.9948 - val_loss: 17.6654 - val_accuracy: 0.9490\n",
      "Epoch 16/200\n",
      "380/380 [==============================] - 46s 122ms/step - loss: 0.0374 - accuracy: 0.9953 - val_loss: 17.4341 - val_accuracy: 0.9265\n",
      "Epoch 17/200\n",
      "380/380 [==============================] - 46s 122ms/step - loss: 0.0366 - accuracy: 0.9953 - val_loss: 17.1850 - val_accuracy: 0.9284\n",
      "Epoch 18/200\n",
      "380/380 [==============================] - 46s 122ms/step - loss: 0.0334 - accuracy: 0.9957 - val_loss: 16.9411 - val_accuracy: 0.9297\n",
      "Epoch 19/200\n",
      "380/380 [==============================] - 46s 122ms/step - loss: 0.0321 - accuracy: 0.9956 - val_loss: 16.7149 - val_accuracy: 0.8320\n",
      "Epoch 20/200\n",
      "380/380 [==============================] - 46s 122ms/step - loss: 0.0326 - accuracy: 0.9956 - val_loss: 16.4838 - val_accuracy: 0.8289\n",
      "Epoch 21/200\n",
      "380/380 [==============================] - 46s 122ms/step - loss: 0.0289 - accuracy: 0.9961 - val_loss: 16.3001 - val_accuracy: 0.7565\n",
      "Epoch 22/200\n",
      "380/380 [==============================] - 46s 122ms/step - loss: 0.0285 - accuracy: 0.9961 - val_loss: 16.0936 - val_accuracy: 0.7551\n",
      "Epoch 23/200\n",
      "380/380 [==============================] - 46s 122ms/step - loss: 0.0266 - accuracy: 0.9963 - val_loss: 15.8771 - val_accuracy: 0.6929\n",
      "Epoch 24/200\n",
      "380/380 [==============================] - 46s 122ms/step - loss: 0.0250 - accuracy: 0.9967 - val_loss: 15.6756 - val_accuracy: 0.6947\n",
      "Epoch 25/200\n",
      "380/380 [==============================] - 46s 122ms/step - loss: 0.0246 - accuracy: 0.9968 - val_loss: 15.5076 - val_accuracy: 0.6942\n",
      "Epoch 26/200\n",
      "380/380 [==============================] - 46s 122ms/step - loss: 0.0239 - accuracy: 0.9967 - val_loss: 15.3388 - val_accuracy: 0.6273\n",
      "Epoch 27/200\n",
      "380/380 [==============================] - 46s 122ms/step - loss: 0.0241 - accuracy: 0.9969 - val_loss: 15.1775 - val_accuracy: 0.6285\n",
      "Epoch 28/200\n",
      "380/380 [==============================] - 46s 122ms/step - loss: 0.0208 - accuracy: 0.9971 - val_loss: 15.0307 - val_accuracy: 0.5729\n",
      "Epoch 29/200\n",
      "380/380 [==============================] - 46s 122ms/step - loss: 0.0218 - accuracy: 0.9970 - val_loss: 14.9022 - val_accuracy: 0.5731\n",
      "Epoch 30/200\n",
      "380/380 [==============================] - 46s 122ms/step - loss: 0.0231 - accuracy: 0.9968 - val_loss: 14.7712 - val_accuracy: 0.5706\n",
      "Epoch 31/200\n",
      "380/380 [==============================] - 46s 122ms/step - loss: 0.0201 - accuracy: 0.9972 - val_loss: 14.6175 - val_accuracy: 0.5719\n",
      "Epoch 32/200\n",
      "380/380 [==============================] - 46s 122ms/step - loss: 0.0191 - accuracy: 0.9974 - val_loss: 14.4813 - val_accuracy: 0.5711\n",
      "Epoch 33/200\n",
      "380/380 [==============================] - 46s 122ms/step - loss: 0.0195 - accuracy: 0.9974 - val_loss: 14.3523 - val_accuracy: 0.5717\n",
      "Epoch 34/200\n",
      "380/380 [==============================] - 46s 122ms/step - loss: 0.0194 - accuracy: 0.9974 - val_loss: 14.2470 - val_accuracy: 0.5152\n",
      "Epoch 35/200\n",
      "380/380 [==============================] - 46s 122ms/step - loss: 0.0185 - accuracy: 0.9975 - val_loss: 14.1793 - val_accuracy: 0.5150\n",
      "Epoch 36/200\n",
      "380/380 [==============================] - 46s 122ms/step - loss: 0.0205 - accuracy: 0.9972 - val_loss: 14.0755 - val_accuracy: 0.4534\n",
      "Epoch 37/200\n",
      "380/380 [==============================] - 46s 122ms/step - loss: 0.0175 - accuracy: 0.9976 - val_loss: 14.0104 - val_accuracy: 0.4568\n",
      "Epoch 38/200\n",
      "380/380 [==============================] - 46s 122ms/step - loss: 0.0176 - accuracy: 0.9975 - val_loss: 13.9334 - val_accuracy: 0.4553\n",
      "Epoch 39/200\n",
      "380/380 [==============================] - 46s 122ms/step - loss: 0.0178 - accuracy: 0.9976 - val_loss: 13.8292 - val_accuracy: 0.4087\n",
      "Epoch 40/200\n",
      "380/380 [==============================] - 46s 122ms/step - loss: 0.0171 - accuracy: 0.9976 - val_loss: 13.7570 - val_accuracy: 0.4084\n",
      "Epoch 41/200\n",
      "380/380 [==============================] - 46s 122ms/step - loss: 0.0186 - accuracy: 0.9973 - val_loss: 13.6313 - val_accuracy: 0.4078\n",
      "Epoch 42/200\n",
      "380/380 [==============================] - 46s 122ms/step - loss: 0.0177 - accuracy: 0.9976 - val_loss: 13.5270 - val_accuracy: 0.4081\n",
      "Epoch 43/200\n",
      "380/380 [==============================] - 46s 122ms/step - loss: 0.0167 - accuracy: 0.9977 - val_loss: 13.4832 - val_accuracy: 0.3103\n",
      "Epoch 44/200\n",
      "380/380 [==============================] - 46s 122ms/step - loss: 0.0160 - accuracy: 0.9977 - val_loss: 13.3814 - val_accuracy: 0.3569\n",
      "Epoch 45/200\n",
      "380/380 [==============================] - 46s 122ms/step - loss: 0.0175 - accuracy: 0.9976 - val_loss: 13.2772 - val_accuracy: 0.3089\n",
      "Epoch 46/200\n",
      "380/380 [==============================] - 46s 122ms/step - loss: 0.0161 - accuracy: 0.9977 - val_loss: 13.2130 - val_accuracy: 0.3075\n",
      "Epoch 47/200\n",
      "380/380 [==============================] - 46s 122ms/step - loss: 0.0147 - accuracy: 0.9980 - val_loss: 13.1386 - val_accuracy: 0.3087\n",
      "Epoch 48/200\n",
      "380/380 [==============================] - 46s 122ms/step - loss: 0.0153 - accuracy: 0.9979 - val_loss: 13.0906 - val_accuracy: 0.2622\n",
      "Epoch 49/200\n",
      "380/380 [==============================] - 46s 122ms/step - loss: 0.0144 - accuracy: 0.9979 - val_loss: 13.0186 - val_accuracy: 0.2636\n",
      "Epoch 50/200\n",
      "380/380 [==============================] - 46s 122ms/step - loss: 0.0142 - accuracy: 0.9980 - val_loss: 12.9460 - val_accuracy: 0.2634\n",
      "Epoch 51/200\n",
      "380/380 [==============================] - 46s 122ms/step - loss: 0.0156 - accuracy: 0.9979 - val_loss: 12.9050 - val_accuracy: 0.1599\n",
      "Epoch 52/200\n",
      "380/380 [==============================] - 46s 122ms/step - loss: 0.0164 - accuracy: 0.9978 - val_loss: 12.8703 - val_accuracy: 0.1601\n",
      "Epoch 53/200\n",
      "380/380 [==============================] - 46s 122ms/step - loss: 0.0148 - accuracy: 0.9980 - val_loss: 12.8274 - val_accuracy: 0.1346\n",
      "Epoch 54/200\n",
      "380/380 [==============================] - 46s 122ms/step - loss: 0.0142 - accuracy: 0.9980 - val_loss: 12.7259 - val_accuracy: 0.1351\n",
      "Epoch 55/200\n",
      "380/380 [==============================] - 46s 122ms/step - loss: 0.0135 - accuracy: 0.9981 - val_loss: 12.6788 - val_accuracy: 0.1326\n",
      "Epoch 56/200\n"
     ]
    },
    {
     "name": "stdout",
     "output_type": "stream",
     "text": [
      "380/380 [==============================] - 46s 122ms/step - loss: 0.0135 - accuracy: 0.9980 - val_loss: 12.6454 - val_accuracy: 0.1282\n",
      "Epoch 57/200\n",
      "380/380 [==============================] - 46s 122ms/step - loss: 0.0137 - accuracy: 0.9981 - val_loss: 12.5950 - val_accuracy: 0.1330\n",
      "Epoch 58/200\n",
      "380/380 [==============================] - 46s 122ms/step - loss: 0.0139 - accuracy: 0.9980 - val_loss: 12.5434 - val_accuracy: 0.1302\n",
      "Epoch 59/200\n",
      "380/380 [==============================] - 46s 122ms/step - loss: 0.0140 - accuracy: 0.9978 - val_loss: 12.5147 - val_accuracy: 0.1264\n",
      "Epoch 60/200\n",
      "380/380 [==============================] - 46s 122ms/step - loss: 0.0126 - accuracy: 0.9982 - val_loss: 12.4898 - val_accuracy: 0.1254\n",
      "Epoch 61/200\n",
      "380/380 [==============================] - 46s 122ms/step - loss: 0.0127 - accuracy: 0.9982 - val_loss: 12.4346 - val_accuracy: 0.1257\n",
      "Epoch 62/200\n",
      "380/380 [==============================] - 46s 122ms/step - loss: 0.0134 - accuracy: 0.9981 - val_loss: 12.4100 - val_accuracy: 0.1247\n",
      "Epoch 63/200\n",
      "380/380 [==============================] - 46s 122ms/step - loss: 0.0142 - accuracy: 0.9981 - val_loss: 12.3742 - val_accuracy: 0.1239\n",
      "Epoch 64/200\n",
      "380/380 [==============================] - 46s 122ms/step - loss: 0.0140 - accuracy: 0.9982 - val_loss: 12.3503 - val_accuracy: 0.1247\n",
      "Epoch 65/200\n",
      "380/380 [==============================] - 46s 122ms/step - loss: 0.0131 - accuracy: 0.9982 - val_loss: 12.3113 - val_accuracy: 0.0186\n",
      "Epoch 66/200\n",
      "380/380 [==============================] - 46s 122ms/step - loss: 0.0132 - accuracy: 0.9981 - val_loss: 12.2707 - val_accuracy: 0.0186\n",
      "Epoch 67/200\n",
      "380/380 [==============================] - 46s 122ms/step - loss: 0.0145 - accuracy: 0.9980 - val_loss: 12.1880 - val_accuracy: 0.1257\n",
      "Epoch 68/200\n",
      "380/380 [==============================] - 46s 122ms/step - loss: 0.0126 - accuracy: 0.9983 - val_loss: 12.1541 - val_accuracy: 0.1247\n",
      "Epoch 69/200\n",
      "380/380 [==============================] - 46s 122ms/step - loss: 0.0131 - accuracy: 0.9982 - val_loss: 12.1601 - val_accuracy: 0.0186\n",
      "Epoch 70/200\n",
      "380/380 [==============================] - 46s 122ms/step - loss: 0.0134 - accuracy: 0.9982 - val_loss: 12.1417 - val_accuracy: 0.0189\n",
      "Epoch 71/200\n",
      "380/380 [==============================] - 46s 122ms/step - loss: 0.0125 - accuracy: 0.9983 - val_loss: 12.0967 - val_accuracy: 0.0193\n",
      "Epoch 72/200\n",
      "380/380 [==============================] - 46s 122ms/step - loss: 0.0131 - accuracy: 0.9982 - val_loss: 12.0494 - val_accuracy: 0.0185\n",
      "Epoch 73/200\n",
      "380/380 [==============================] - 46s 122ms/step - loss: 0.0123 - accuracy: 0.9984 - val_loss: 11.9860 - val_accuracy: 0.0184\n",
      "Epoch 74/200\n",
      "380/380 [==============================] - 46s 122ms/step - loss: 0.0124 - accuracy: 0.9982 - val_loss: 12.0091 - val_accuracy: 0.0184\n",
      "Epoch 75/200\n",
      "380/380 [==============================] - 46s 122ms/step - loss: 0.0129 - accuracy: 0.9982 - val_loss: 11.9922 - val_accuracy: 0.0188\n",
      "Epoch 76/200\n",
      "380/380 [==============================] - 46s 122ms/step - loss: 0.0116 - accuracy: 0.9984 - val_loss: 11.9440 - val_accuracy: 0.0187\n",
      "Epoch 77/200\n",
      "380/380 [==============================] - 46s 122ms/step - loss: 0.0121 - accuracy: 0.9983 - val_loss: 11.9702 - val_accuracy: 0.0187\n",
      "Epoch 78/200\n",
      "380/380 [==============================] - 46s 122ms/step - loss: 0.0121 - accuracy: 0.9983 - val_loss: 11.9579 - val_accuracy: 0.0189\n",
      "Epoch 79/200\n",
      "380/380 [==============================] - 46s 122ms/step - loss: 0.0121 - accuracy: 0.9983 - val_loss: 11.9289 - val_accuracy: 0.0181\n",
      "Epoch 80/200\n",
      "380/380 [==============================] - 46s 122ms/step - loss: 0.0121 - accuracy: 0.9982 - val_loss: 11.8382 - val_accuracy: 0.0180\n",
      "Epoch 81/200\n",
      "380/380 [==============================] - 46s 122ms/step - loss: 0.0124 - accuracy: 0.9982 - val_loss: 11.8599 - val_accuracy: 0.0183\n",
      "Epoch 82/200\n",
      "380/380 [==============================] - 46s 122ms/step - loss: 0.0120 - accuracy: 0.9984 - val_loss: 11.8119 - val_accuracy: 0.0185\n",
      "Epoch 83/200\n",
      "380/380 [==============================] - 46s 122ms/step - loss: 0.0123 - accuracy: 0.9982 - val_loss: 11.7702 - val_accuracy: 0.0177\n",
      "Epoch 84/200\n",
      "380/380 [==============================] - 46s 122ms/step - loss: 0.0117 - accuracy: 0.9983 - val_loss: 11.7783 - val_accuracy: 0.0181\n",
      "Epoch 85/200\n",
      "380/380 [==============================] - 46s 122ms/step - loss: 0.0109 - accuracy: 0.9985 - val_loss: 11.7711 - val_accuracy: 0.0176\n",
      "Epoch 86/200\n",
      "380/380 [==============================] - 46s 122ms/step - loss: 0.0121 - accuracy: 0.9984 - val_loss: 11.7043 - val_accuracy: 0.0175\n",
      "Epoch 87/200\n",
      "380/380 [==============================] - 46s 122ms/step - loss: 0.0114 - accuracy: 0.9985 - val_loss: 11.7138 - val_accuracy: 0.0181\n",
      "Epoch 88/200\n",
      "380/380 [==============================] - 46s 122ms/step - loss: 0.0124 - accuracy: 0.9983 - val_loss: 11.6922 - val_accuracy: 0.0186\n",
      "Epoch 89/200\n",
      "380/380 [==============================] - 46s 122ms/step - loss: 0.0124 - accuracy: 0.9983 - val_loss: 11.7183 - val_accuracy: 0.0178\n",
      "Epoch 90/200\n",
      "380/380 [==============================] - 46s 122ms/step - loss: 0.0109 - accuracy: 0.9984 - val_loss: 11.6611 - val_accuracy: 0.0174\n",
      "Epoch 91/200\n",
      "380/380 [==============================] - 46s 122ms/step - loss: 0.0123 - accuracy: 0.9983 - val_loss: 11.6169 - val_accuracy: 0.0174\n",
      "Epoch 92/200\n",
      "380/380 [==============================] - 46s 122ms/step - loss: 0.0116 - accuracy: 0.9983 - val_loss: 11.6056 - val_accuracy: 0.0174\n",
      "Epoch 93/200\n",
      "380/380 [==============================] - 46s 122ms/step - loss: 0.0125 - accuracy: 0.9983 - val_loss: 11.5770 - val_accuracy: 0.0174\n",
      "Epoch 94/200\n",
      "380/380 [==============================] - 46s 122ms/step - loss: 0.0102 - accuracy: 0.9985 - val_loss: 11.5827 - val_accuracy: 0.0174\n",
      "Epoch 95/200\n",
      "380/380 [==============================] - 46s 122ms/step - loss: 0.0117 - accuracy: 0.9984 - val_loss: 11.5410 - val_accuracy: 0.0165\n",
      "Epoch 96/200\n",
      "380/380 [==============================] - 46s 122ms/step - loss: 0.0111 - accuracy: 0.9985 - val_loss: 11.5211 - val_accuracy: 0.0171\n",
      "Epoch 97/200\n",
      "380/380 [==============================] - 46s 122ms/step - loss: 0.0118 - accuracy: 0.9983 - val_loss: 11.5111 - val_accuracy: 0.0168\n",
      "Epoch 98/200\n",
      "380/380 [==============================] - 46s 122ms/step - loss: 0.0106 - accuracy: 0.9984 - val_loss: 11.4926 - val_accuracy: 0.0171\n",
      "Epoch 99/200\n",
      "380/380 [==============================] - 46s 122ms/step - loss: 0.0112 - accuracy: 0.9985 - val_loss: 11.4229 - val_accuracy: 0.0167\n",
      "Epoch 100/200\n",
      "380/380 [==============================] - 46s 122ms/step - loss: 0.0112 - accuracy: 0.9984 - val_loss: 11.4249 - val_accuracy: 0.0172\n",
      "Epoch 101/200\n",
      "380/380 [==============================] - 46s 122ms/step - loss: 0.0105 - accuracy: 0.9985 - val_loss: 11.4510 - val_accuracy: 0.0168\n",
      "Epoch 102/200\n",
      "380/380 [==============================] - 46s 122ms/step - loss: 0.0100 - accuracy: 0.9985 - val_loss: 11.4360 - val_accuracy: 0.0170\n",
      "Epoch 103/200\n",
      "380/380 [==============================] - 46s 122ms/step - loss: 0.0106 - accuracy: 0.9985 - val_loss: 11.4014 - val_accuracy: 0.0167\n",
      "Epoch 104/200\n",
      "380/380 [==============================] - 46s 122ms/step - loss: 0.0112 - accuracy: 0.9985 - val_loss: 11.4442 - val_accuracy: 0.0165\n",
      "Epoch 105/200\n",
      "380/380 [==============================] - 46s 122ms/step - loss: 0.0099 - accuracy: 0.9986 - val_loss: 11.3934 - val_accuracy: 0.0161\n",
      "Epoch 106/200\n",
      "380/380 [==============================] - 46s 122ms/step - loss: 0.0101 - accuracy: 0.9985 - val_loss: 11.3835 - val_accuracy: 0.0166\n",
      "Epoch 107/200\n",
      "380/380 [==============================] - 46s 122ms/step - loss: 0.0098 - accuracy: 0.9986 - val_loss: 11.3642 - val_accuracy: 0.0167\n",
      "Epoch 108/200\n",
      "380/380 [==============================] - 46s 122ms/step - loss: 0.0112 - accuracy: 0.9986 - val_loss: 11.3831 - val_accuracy: 0.0164\n",
      "Epoch 109/200\n",
      "380/380 [==============================] - 46s 122ms/step - loss: 0.0126 - accuracy: 0.9981 - val_loss: 11.4159 - val_accuracy: 0.0161\n",
      "Epoch 110/200\n",
      "380/380 [==============================] - 46s 122ms/step - loss: 0.0108 - accuracy: 0.9985 - val_loss: 11.3997 - val_accuracy: 0.0165\n",
      "Epoch 111/200\n"
     ]
    },
    {
     "name": "stdout",
     "output_type": "stream",
     "text": [
      "380/380 [==============================] - 46s 122ms/step - loss: 0.0108 - accuracy: 0.9985 - val_loss: 11.3991 - val_accuracy: 0.0166\n",
      "Epoch 112/200\n",
      "380/380 [==============================] - 46s 122ms/step - loss: 0.0106 - accuracy: 0.9986 - val_loss: 11.3981 - val_accuracy: 0.0159\n",
      "Epoch 113/200\n",
      "380/380 [==============================] - 46s 122ms/step - loss: 0.0117 - accuracy: 0.9984 - val_loss: 11.3884 - val_accuracy: 0.0165\n",
      "Epoch 114/200\n",
      "380/380 [==============================] - 47s 124ms/step - loss: 0.0113 - accuracy: 0.9984 - val_loss: 11.3356 - val_accuracy: 0.0148\n",
      "Epoch 115/200\n",
      "380/380 [==============================] - 47s 124ms/step - loss: 0.0115 - accuracy: 0.9983 - val_loss: 11.3143 - val_accuracy: 0.0143\n",
      "Epoch 116/200\n",
      "380/380 [==============================] - 47s 123ms/step - loss: 0.0098 - accuracy: 0.9986 - val_loss: 11.2755 - val_accuracy: 0.0144\n",
      "Epoch 117/200\n",
      "380/380 [==============================] - 48s 126ms/step - loss: 0.0105 - accuracy: 0.9985 - val_loss: 11.2259 - val_accuracy: 0.0144\n",
      "Epoch 118/200\n",
      "380/380 [==============================] - 47s 123ms/step - loss: 0.0101 - accuracy: 0.9985 - val_loss: 11.2439 - val_accuracy: 0.0145\n",
      "Epoch 119/200\n",
      "380/380 [==============================] - 46s 122ms/step - loss: 0.0096 - accuracy: 0.9987 - val_loss: 11.2123 - val_accuracy: 0.0146\n",
      "Epoch 120/200\n",
      "380/380 [==============================] - 46s 122ms/step - loss: 0.0099 - accuracy: 0.9987 - val_loss: 11.2415 - val_accuracy: 0.0146\n",
      "Epoch 121/200\n",
      "380/380 [==============================] - 46s 122ms/step - loss: 0.0103 - accuracy: 0.9985 - val_loss: 11.1957 - val_accuracy: 0.0145\n",
      "Epoch 122/200\n",
      "380/380 [==============================] - 46s 122ms/step - loss: 0.0110 - accuracy: 0.9984 - val_loss: 11.1997 - val_accuracy: 0.0144\n",
      "Epoch 123/200\n",
      "380/380 [==============================] - 48s 126ms/step - loss: 0.0105 - accuracy: 0.9984 - val_loss: 11.2193 - val_accuracy: 0.0148\n",
      "Epoch 124/200\n",
      "380/380 [==============================] - 47s 124ms/step - loss: 0.0109 - accuracy: 0.9985 - val_loss: 11.1682 - val_accuracy: 0.0147\n",
      "Epoch 125/200\n",
      "380/380 [==============================] - 48s 126ms/step - loss: 0.0105 - accuracy: 0.9984 - val_loss: 11.2291 - val_accuracy: 0.0147\n",
      "Epoch 126/200\n",
      "380/380 [==============================] - 46s 121ms/step - loss: 0.0111 - accuracy: 0.9984 - val_loss: 11.2297 - val_accuracy: 0.0147\n",
      "Epoch 127/200\n",
      "380/380 [==============================] - 46s 121ms/step - loss: 0.0096 - accuracy: 0.9986 - val_loss: 11.2271 - val_accuracy: 0.0145\n",
      "Epoch 128/200\n",
      "380/380 [==============================] - 46s 121ms/step - loss: 0.0102 - accuracy: 0.9986 - val_loss: 11.2317 - val_accuracy: 0.0149\n",
      "Epoch 129/200\n",
      "380/380 [==============================] - 46s 122ms/step - loss: 0.0096 - accuracy: 0.9987 - val_loss: 11.2240 - val_accuracy: 0.0146\n",
      "Epoch 130/200\n",
      "380/380 [==============================] - 46s 122ms/step - loss: 0.0106 - accuracy: 0.9986 - val_loss: 11.2892 - val_accuracy: 0.0147\n",
      "Epoch 131/200\n",
      "380/380 [==============================] - 46s 122ms/step - loss: 0.0099 - accuracy: 0.9986 - val_loss: 11.2644 - val_accuracy: 0.0148\n",
      "Epoch 132/200\n",
      "380/380 [==============================] - 48s 126ms/step - loss: 0.0093 - accuracy: 0.9987 - val_loss: 11.2679 - val_accuracy: 0.0147\n",
      "Epoch 133/200\n",
      "380/380 [==============================] - 47s 124ms/step - loss: 0.0106 - accuracy: 0.9985 - val_loss: 11.1876 - val_accuracy: 0.0148\n",
      "Epoch 134/200\n",
      "380/380 [==============================] - 47s 124ms/step - loss: 0.0107 - accuracy: 0.9985 - val_loss: 11.2280 - val_accuracy: 0.0148\n",
      "Epoch 135/200\n",
      "380/380 [==============================] - 46s 122ms/step - loss: 0.0101 - accuracy: 0.9986 - val_loss: 11.1967 - val_accuracy: 0.0153\n",
      "Epoch 136/200\n",
      "380/380 [==============================] - 47s 123ms/step - loss: 0.0108 - accuracy: 0.9985 - val_loss: 11.2221 - val_accuracy: 0.0150\n",
      "Epoch 137/200\n",
      "380/380 [==============================] - 47s 124ms/step - loss: 0.0097 - accuracy: 0.9986 - val_loss: 11.1903 - val_accuracy: 0.0148\n",
      "Epoch 138/200\n",
      "380/380 [==============================] - 47s 123ms/step - loss: 0.0096 - accuracy: 0.9986 - val_loss: 11.1929 - val_accuracy: 0.0147\n",
      "Epoch 139/200\n",
      "380/380 [==============================] - 47s 125ms/step - loss: 0.0110 - accuracy: 0.9985 - val_loss: 11.1900 - val_accuracy: 0.0145\n",
      "Epoch 140/200\n",
      "380/380 [==============================] - 47s 124ms/step - loss: 0.0096 - accuracy: 0.9987 - val_loss: 11.1404 - val_accuracy: 0.0146\n",
      "Epoch 141/200\n",
      "380/380 [==============================] - 47s 124ms/step - loss: 0.0107 - accuracy: 0.9986 - val_loss: 11.1569 - val_accuracy: 0.0143\n",
      "Epoch 142/200\n",
      "380/380 [==============================] - 46s 121ms/step - loss: 0.0101 - accuracy: 0.9987 - val_loss: 11.1464 - val_accuracy: 0.0146\n",
      "Epoch 143/200\n",
      "380/380 [==============================] - 46s 121ms/step - loss: 0.0106 - accuracy: 0.9986 - val_loss: 11.1593 - val_accuracy: 0.0145\n",
      "Epoch 144/200\n",
      "380/380 [==============================] - 46s 122ms/step - loss: 0.0104 - accuracy: 0.9986 - val_loss: 11.1673 - val_accuracy: 0.0144\n",
      "Epoch 145/200\n",
      "380/380 [==============================] - 46s 122ms/step - loss: 0.0092 - accuracy: 0.9986 - val_loss: 11.0927 - val_accuracy: 0.0148\n",
      "Epoch 146/200\n",
      "380/380 [==============================] - 46s 122ms/step - loss: 0.0097 - accuracy: 0.9985 - val_loss: 11.1016 - val_accuracy: 0.0144\n",
      "Epoch 147/200\n",
      "380/380 [==============================] - 47s 124ms/step - loss: 0.0096 - accuracy: 0.9987 - val_loss: 11.0860 - val_accuracy: 0.0147\n",
      "Epoch 148/200\n",
      "380/380 [==============================] - 47s 123ms/step - loss: 0.0113 - accuracy: 0.9985 - val_loss: 11.0772 - val_accuracy: 0.0145\n",
      "Epoch 149/200\n",
      "380/380 [==============================] - 46s 121ms/step - loss: 0.0103 - accuracy: 0.9986 - val_loss: 11.0918 - val_accuracy: 0.0146\n",
      "Epoch 150/200\n",
      "380/380 [==============================] - 46s 122ms/step - loss: 0.0095 - accuracy: 0.9986 - val_loss: 11.0983 - val_accuracy: 0.0146\n",
      "Epoch 151/200\n",
      "380/380 [==============================] - 46s 122ms/step - loss: 0.0104 - accuracy: 0.9986 - val_loss: 11.0930 - val_accuracy: 0.0145\n",
      "Epoch 152/200\n",
      "380/380 [==============================] - 46s 122ms/step - loss: 0.0100 - accuracy: 0.9987 - val_loss: 11.0270 - val_accuracy: 0.0144\n",
      "Epoch 153/200\n",
      "380/380 [==============================] - 46s 121ms/step - loss: 0.0095 - accuracy: 0.9987 - val_loss: 11.0016 - val_accuracy: 0.0143\n",
      "Epoch 154/200\n",
      "380/380 [==============================] - 46s 121ms/step - loss: 0.0090 - accuracy: 0.9987 - val_loss: 11.0114 - val_accuracy: 0.0145\n",
      "Epoch 155/200\n",
      "380/380 [==============================] - 46s 121ms/step - loss: 0.0092 - accuracy: 0.9987 - val_loss: 11.0329 - val_accuracy: 0.0143\n",
      "Epoch 156/200\n",
      "380/380 [==============================] - 46s 122ms/step - loss: 0.0103 - accuracy: 0.9984 - val_loss: 10.9617 - val_accuracy: 0.0143\n",
      "Epoch 157/200\n",
      "380/380 [==============================] - 48s 126ms/step - loss: 0.0098 - accuracy: 0.9986 - val_loss: 10.9844 - val_accuracy: 0.0143\n",
      "Epoch 158/200\n",
      "380/380 [==============================] - 48s 126ms/step - loss: 0.0099 - accuracy: 0.9987 - val_loss: 10.9606 - val_accuracy: 0.0144\n",
      "Epoch 159/200\n",
      "380/380 [==============================] - 46s 122ms/step - loss: 0.0098 - accuracy: 0.9987 - val_loss: 10.9302 - val_accuracy: 0.0144\n",
      "Epoch 160/200\n",
      "380/380 [==============================] - 46s 121ms/step - loss: 0.0091 - accuracy: 0.9987 - val_loss: 10.9449 - val_accuracy: 0.0143\n",
      "Epoch 161/200\n",
      "380/380 [==============================] - 46s 121ms/step - loss: 0.0104 - accuracy: 0.9986 - val_loss: 10.9158 - val_accuracy: 0.0145\n",
      "Epoch 162/200\n",
      "380/380 [==============================] - 46s 122ms/step - loss: 0.0098 - accuracy: 0.9986 - val_loss: 10.9344 - val_accuracy: 0.0144\n",
      "Epoch 163/200\n",
      "380/380 [==============================] - 46s 122ms/step - loss: 0.0096 - accuracy: 0.9986 - val_loss: 10.9298 - val_accuracy: 0.0143\n",
      "Epoch 164/200\n",
      "380/380 [==============================] - 46s 122ms/step - loss: 0.0095 - accuracy: 0.9987 - val_loss: 10.8902 - val_accuracy: 0.0144\n",
      "Epoch 165/200\n",
      "380/380 [==============================] - 46s 122ms/step - loss: 0.0086 - accuracy: 0.9987 - val_loss: 10.9581 - val_accuracy: 0.0144\n",
      "Epoch 166/200\n"
     ]
    },
    {
     "name": "stdout",
     "output_type": "stream",
     "text": [
      "380/380 [==============================] - 47s 123ms/step - loss: 0.0088 - accuracy: 0.9988 - val_loss: 10.9610 - val_accuracy: 0.0144\n",
      "Epoch 167/200\n",
      "380/380 [==============================] - 47s 125ms/step - loss: 0.0091 - accuracy: 0.9988 - val_loss: 10.9661 - val_accuracy: 0.0143\n",
      "Epoch 168/200\n",
      "380/380 [==============================] - 46s 122ms/step - loss: 0.0096 - accuracy: 0.9986 - val_loss: 10.9450 - val_accuracy: 0.0143\n",
      "Epoch 169/200\n",
      "380/380 [==============================] - 46s 122ms/step - loss: 0.0089 - accuracy: 0.9988 - val_loss: 10.8894 - val_accuracy: 0.0144\n",
      "Epoch 170/200\n",
      "380/380 [==============================] - 46s 122ms/step - loss: 0.0088 - accuracy: 0.9988 - val_loss: 10.9016 - val_accuracy: 0.0146\n",
      "Epoch 171/200\n",
      "380/380 [==============================] - 46s 121ms/step - loss: 0.0086 - accuracy: 0.9988 - val_loss: 10.9442 - val_accuracy: 0.0142\n",
      "Epoch 172/200\n",
      "380/380 [==============================] - 46s 122ms/step - loss: 0.0098 - accuracy: 0.9986 - val_loss: 10.9484 - val_accuracy: 0.0145\n",
      "Epoch 173/200\n",
      "380/380 [==============================] - 46s 122ms/step - loss: 0.0094 - accuracy: 0.9987 - val_loss: 10.9304 - val_accuracy: 0.0143\n",
      "Epoch 174/200\n",
      "380/380 [==============================] - 46s 121ms/step - loss: 0.0091 - accuracy: 0.9986 - val_loss: 10.9085 - val_accuracy: 0.0144\n",
      "Epoch 175/200\n",
      "380/380 [==============================] - 48s 126ms/step - loss: 0.0095 - accuracy: 0.9986 - val_loss: 10.9481 - val_accuracy: 0.0145\n",
      "Epoch 176/200\n",
      "380/380 [==============================] - 46s 122ms/step - loss: 0.0094 - accuracy: 0.9987 - val_loss: 10.9139 - val_accuracy: 0.0144\n",
      "Epoch 177/200\n",
      "380/380 [==============================] - 46s 122ms/step - loss: 0.0094 - accuracy: 0.9987 - val_loss: 10.9708 - val_accuracy: 0.0146\n",
      "Epoch 178/200\n",
      "380/380 [==============================] - 46s 122ms/step - loss: 0.0094 - accuracy: 0.9986 - val_loss: 10.9960 - val_accuracy: 0.0145\n",
      "Epoch 179/200\n",
      "380/380 [==============================] - 46s 122ms/step - loss: 0.0088 - accuracy: 0.9988 - val_loss: 10.9366 - val_accuracy: 0.0146\n",
      "Epoch 180/200\n",
      "380/380 [==============================] - 46s 122ms/step - loss: 0.0092 - accuracy: 0.9988 - val_loss: 10.9369 - val_accuracy: 0.0144\n",
      "Epoch 181/200\n",
      "380/380 [==============================] - 46s 122ms/step - loss: 0.0096 - accuracy: 0.9987 - val_loss: 10.9479 - val_accuracy: 0.0143\n",
      "Epoch 182/200\n",
      "380/380 [==============================] - 46s 122ms/step - loss: 0.0082 - accuracy: 0.9988 - val_loss: 10.9267 - val_accuracy: 0.0143\n",
      "Epoch 183/200\n",
      "380/380 [==============================] - 48s 126ms/step - loss: 0.0091 - accuracy: 0.9986 - val_loss: 10.9253 - val_accuracy: 0.0143\n",
      "Epoch 184/200\n",
      "380/380 [==============================] - 46s 121ms/step - loss: 0.0089 - accuracy: 0.9987 - val_loss: 10.9756 - val_accuracy: 0.0144\n",
      "Epoch 185/200\n",
      "380/380 [==============================] - 46s 121ms/step - loss: 0.0090 - accuracy: 0.9989 - val_loss: 10.9955 - val_accuracy: 0.0145\n",
      "Epoch 186/200\n",
      "380/380 [==============================] - 46s 122ms/step - loss: 0.0102 - accuracy: 0.9986 - val_loss: 10.9532 - val_accuracy: 0.0144\n",
      "Epoch 187/200\n",
      "380/380 [==============================] - 46s 121ms/step - loss: 0.0086 - accuracy: 0.9987 - val_loss: 10.9890 - val_accuracy: 0.0146\n",
      "Epoch 188/200\n",
      "380/380 [==============================] - 46s 122ms/step - loss: 0.0086 - accuracy: 0.9988 - val_loss: 10.9405 - val_accuracy: 0.0145\n",
      "Epoch 189/200\n",
      "380/380 [==============================] - 46s 122ms/step - loss: 0.0085 - accuracy: 0.9987 - val_loss: 10.9571 - val_accuracy: 0.0144\n",
      "Epoch 190/200\n",
      "380/380 [==============================] - 46s 122ms/step - loss: 0.0096 - accuracy: 0.9986 - val_loss: 11.0284 - val_accuracy: 0.0144\n",
      "Epoch 191/200\n",
      "380/380 [==============================] - 46s 122ms/step - loss: 0.0091 - accuracy: 0.9988 - val_loss: 11.0439 - val_accuracy: 0.0144\n",
      "Epoch 192/200\n",
      "380/380 [==============================] - 47s 125ms/step - loss: 0.0094 - accuracy: 0.9985 - val_loss: 11.0435 - val_accuracy: 0.0143\n",
      "Epoch 193/200\n",
      "380/380 [==============================] - 46s 120ms/step - loss: 0.0094 - accuracy: 0.9986 - val_loss: 10.9749 - val_accuracy: 0.0145\n",
      "Epoch 194/200\n",
      "380/380 [==============================] - 46s 120ms/step - loss: 0.0092 - accuracy: 0.9988 - val_loss: 11.0210 - val_accuracy: 0.0147\n",
      "Epoch 195/200\n",
      "380/380 [==============================] - 46s 120ms/step - loss: 0.0091 - accuracy: 0.9987 - val_loss: 10.9383 - val_accuracy: 0.0145\n",
      "Epoch 196/200\n",
      "380/380 [==============================] - 45s 120ms/step - loss: 0.0091 - accuracy: 0.9987 - val_loss: 10.9768 - val_accuracy: 0.0144\n",
      "Epoch 197/200\n",
      "380/380 [==============================] - 46s 120ms/step - loss: 0.0087 - accuracy: 0.9987 - val_loss: 10.9531 - val_accuracy: 0.0144\n",
      "Epoch 198/200\n",
      "380/380 [==============================] - 46s 121ms/step - loss: 0.0091 - accuracy: 0.9987 - val_loss: 10.9772 - val_accuracy: 0.0144\n",
      "Epoch 199/200\n",
      "380/380 [==============================] - 46s 120ms/step - loss: 0.0097 - accuracy: 0.9986 - val_loss: 10.9371 - val_accuracy: 0.0144\n",
      "Epoch 200/200\n",
      "380/380 [==============================] - 47s 123ms/step - loss: 0.0098 - accuracy: 0.9987 - val_loss: 10.9875 - val_accuracy: 0.0145\n"
     ]
    }
   ],
   "source": [
    "import kashgari\n",
    "from kashgari.tasks.labeling import BiLSTM_CRF_Model\n",
    "from kashgari.embeddings import TransformerEmbedding\n",
    "kashgari.config.use_cudnn_cell = True\n",
    "\n",
    "embedding_path = '/home/Danny/pretrain_model/{}'.format(model_name)\n",
    "vocab_path = os.path.join(embedding_path, 'vocab.txt')\n",
    "config_path = os.path.join(embedding_path, 'bert_config.json')\n",
    "checkpoint_path = os.path.join(embedding_path, 'bert_model.ckpt')\n",
    "embedding = TransformerEmbedding(vocab_path, \n",
    "                                 config_path, \n",
    "                                 checkpoint_path,\n",
    "                                 bert_type='bert',\n",
    "                                 sequence_length='auto',\n",
    "                                 trainable=True,\n",
    "                                 task='kashgari.LABELING',\n",
    "                                )\n",
    "\n",
    "model = BiLSTM_CRF_Model(embedding)\n",
    "history = model.fit(train_x,\n",
    "                    train_y,\n",
    "                    valid_x,\n",
    "                    valid_y,\n",
    "                    epochs=epochs,\n",
    "                    batch_size=batch_size,\n",
    "                   )"
   ]
  },
  {
   "cell_type": "code",
   "execution_count": 20,
   "metadata": {},
   "outputs": [
    {
     "name": "stderr",
     "output_type": "stream",
     "text": [
      "2020-12-13 23:27:14,891 [DEBUG] kashgari - predict seq_length: None, input: (2, 15233, 65)\n"
     ]
    },
    {
     "name": "stdout",
     "output_type": "stream",
     "text": [
      "477/477 [==============================] - 37s 77ms/step\n"
     ]
    },
    {
     "name": "stderr",
     "output_type": "stream",
     "text": [
      "2020-12-13 23:27:52,330 [DEBUG] kashgari - predict output: (15233, 65)\n",
      "2020-12-13 23:27:52,330 [DEBUG] kashgari - predict output argmax: [[0 1 1 ... 1 1 1]\n",
      " [0 1 1 ... 1 1 1]\n",
      " [0 1 1 ... 1 1 1]\n",
      " ...\n",
      " [0 1 1 ... 1 1 1]\n",
      " [0 1 1 ... 1 1 1]\n",
      " [0 1 1 ... 1 1 1]]\n"
     ]
    },
    {
     "name": "stdout",
     "output_type": "stream",
     "text": [
      "\n",
      "                precision    recall  f1-score   support\n",
      "\n",
      "          time     0.8390    0.8189    0.8288       878\n",
      "     education     1.0000    0.5000    0.6667         2\n",
      "         money     0.8723    0.9535    0.9111        43\n",
      "    profession     0.8750    0.4118    0.5600        17\n",
      "       contact     0.9091    0.5556    0.6897        18\n",
      "          name     1.0000    0.8750    0.9333        88\n",
      "      location     0.9667    0.8529    0.9062       102\n",
      "      med_exam     0.9231    0.8955    0.9091       134\n",
      "        family     1.0000    0.4545    0.6250        11\n",
      "  organization     1.0000    0.5000    0.6667         2\n",
      "            ID     1.0000    0.4444    0.6154         9\n",
      "        others     1.0000    1.0000    1.0000         1\n",
      "clinical_event     1.0000    1.0000    1.0000         1\n",
      "\n",
      "     micro avg     0.8710    0.8224    0.8460      1306\n",
      "     macro avg     0.8742    0.8224    0.8440      1306\n",
      "\n"
     ]
    },
    {
     "name": "stderr",
     "output_type": "stream",
     "text": [
      "2020-12-13 23:28:01,361 [INFO] kashgari - model saved to /home/Danny/AI-CUP-2020/Danny/kashgari/output/roberta-chinese_epoch_200_batch_128\n"
     ]
    },
    {
     "data": {
      "text/plain": [
       "'/home/Danny/AI-CUP-2020/Danny/kashgari/output/roberta-chinese_epoch_200_batch_128'"
      ]
     },
     "execution_count": 20,
     "metadata": {},
     "output_type": "execute_result"
    }
   ],
   "source": [
    "model.evaluate(test_x, test_y)\n",
    "model_path = 'model/{}_epoch_{}_batch_{}'.format(model_name, epochs, batch_size)\n",
    "model.save(model_path)"
   ]
  },
  {
   "cell_type": "code",
   "execution_count": 21,
   "metadata": {},
   "outputs": [
    {
     "data": {
      "image/png": "[encoded data removed]",
      "text/plain": [
       "<Figure size 432x288 with 1 Axes>"
      ]
     },
     "metadata": {
      "needs_background": "light"
     },
     "output_type": "display_data"
    }
   ],
   "source": [
    "plt.plot(history.history['accuracy'])\n",
    "plt.plot(history.history['val_accuracy'])\n",
    "plt.plot(history.history['loss'])\n",
    "plt.plot(history.history['val_loss'])\n",
    "plt.title('model accuracy')\n",
    "plt.ylabel('accuracy')\n",
    "plt.xlabel('epoch')\n",
    "plt.legend(['accuracy', 'val_accuracy', 'loss', 'val_loss'])\n",
    "plt.show()"
   ]
  },
  {
   "cell_type": "code",
   "execution_count": 22,
   "metadata": {},
   "outputs": [],
   "source": [
    "# 需要儲存article_id, 轉成dataframe\n",
    "def predicting_txt_to_dataframe(path):    \n",
    "    with open(path, 'r') as f:\n",
    "        txt = str(f.read())\n",
    "        txt_list = txt.split('\\n')\n",
    "    row_list = list()\n",
    "    tmp_list = list()\n",
    "    for row in txt_list:\n",
    "        if row == '--------------------':\n",
    "            tmp_list[0] = tmp_list[0].replace('article_id:', '')\n",
    "            tmp_list[0] = int(tmp_list[0])\n",
    "            row_list.append(tmp_list)\n",
    "            tmp_list = list()\n",
    "            continue\n",
    "        if len(row) > 0:\n",
    "            tmp_list.append(row)\n",
    "    df = pd.DataFrame(row_list, columns=['article_id','text'])\n",
    "    return df"
   ]
  },
  {
   "cell_type": "code",
   "execution_count": 23,
   "metadata": {},
   "outputs": [],
   "source": [
    "def predict_NER(text):\n",
    "    x_list = list()    \n",
    "    text_list = re.split('\\uff0c|\\u3002|\\uff1f', text)\n",
    "    for article in text_list:\n",
    "        x_list.append([i for i in article])\n",
    "    y_list_list = model.predict(x_list)\n",
    "    y_list = list()\n",
    "    for sentence in y_list_list:\n",
    "        for word in sentence:\n",
    "            y_list.append(word)\n",
    "        y_list.append('O') # append(，。？)\n",
    "    y_list = y_list[:-1]\n",
    "    return y_list"
   ]
  },
  {
   "cell_type": "code",
   "execution_count": 24,
   "metadata": {},
   "outputs": [],
   "source": [
    "def output_NER(article_id, text, y_list):\n",
    "    output_str = str()\n",
    "    flag = False\n",
    "    for i, j in enumerate(y_list):\n",
    "        if j != 'O':\n",
    "            if j[0] == 'B':\n",
    "                start_position = i\n",
    "                entity_type = j.split('-')[-1]\n",
    "                flag = True\n",
    "        elif j == 'O' and flag == True:\n",
    "            end_position = i\n",
    "            flag = False\n",
    "            entity_text = text[start_position: end_position]\n",
    "            entity = '{}\\t{}\\t{}\\t{}\\t{}\\n'.format(article_id, start_position, end_position, entity_text, entity_type)  \n",
    "            output_str += entity\n",
    "    return output_str"
   ]
  },
  {
   "cell_type": "code",
   "execution_count": 25,
   "metadata": {},
   "outputs": [
    {
     "name": "stderr",
     "output_type": "stream",
     "text": [
      "2020-12-13 23:28:01,475 [DEBUG] kashgari - predict seq_length: None, input: (2, 368, 29)\n"
     ]
    },
    {
     "name": "stdout",
     "output_type": "stream",
     "text": [
      "12/12 [==============================] - 0s 39ms/step\n"
     ]
    },
    {
     "name": "stderr",
     "output_type": "stream",
     "text": [
      "2020-12-13 23:28:02,015 [DEBUG] kashgari - predict output: (368, 29)\n",
      "2020-12-13 23:28:02,016 [DEBUG] kashgari - predict output argmax: [[0 1 1 ... 1 1 1]\n",
      " [0 1 1 ... 1 1 1]\n",
      " [0 1 1 ... 1 1 1]\n",
      " ...\n",
      " [0 1 1 ... 1 1 1]\n",
      " [0 1 1 ... 1 1 1]\n",
      " [0 0 0 ... 0 0 0]]\n",
      "2020-12-13 23:28:02,018 [DEBUG] kashgari - predict seq_length: None, input: (2, 78, 33)\n"
     ]
    },
    {
     "name": "stdout",
     "output_type": "stream",
     "text": [
      "3/3 [==============================] - 0s 27ms/step\n"
     ]
    },
    {
     "name": "stderr",
     "output_type": "stream",
     "text": [
      "2020-12-13 23:28:02,162 [DEBUG] kashgari - predict output: (78, 33)\n",
      "2020-12-13 23:28:02,162 [DEBUG] kashgari - predict output argmax: [[0 1 1 ... 1 1 1]\n",
      " [0 1 1 ... 1 1 1]\n",
      " [0 1 1 ... 1 1 1]\n",
      " ...\n",
      " [0 1 0 ... 1 1 1]\n",
      " [0 1 1 ... 1 1 1]\n",
      " [0 1 1 ... 1 1 1]]\n",
      "2020-12-13 23:28:02,165 [DEBUG] kashgari - predict seq_length: None, input: (2, 159, 29)\n"
     ]
    },
    {
     "name": "stdout",
     "output_type": "stream",
     "text": [
      "5/5 [==============================] - 0s 32ms/step\n"
     ]
    },
    {
     "name": "stderr",
     "output_type": "stream",
     "text": [
      "2020-12-13 23:28:02,392 [DEBUG] kashgari - predict output: (159, 29)\n",
      "2020-12-13 23:28:02,393 [DEBUG] kashgari - predict output argmax: [[0 1 1 ... 1 1 1]\n",
      " [0 1 1 ... 1 1 1]\n",
      " [0 1 1 ... 1 1 1]\n",
      " ...\n",
      " [0 1 1 ... 1 1 1]\n",
      " [0 1 1 ... 1 1 1]\n",
      " [0 0 0 ... 0 0 0]]\n",
      "2020-12-13 23:28:02,398 [DEBUG] kashgari - predict seq_length: None, input: (2, 329, 28)\n"
     ]
    },
    {
     "name": "stdout",
     "output_type": "stream",
     "text": [
      "11/11 [==============================] - 0s 35ms/step\n"
     ]
    },
    {
     "name": "stderr",
     "output_type": "stream",
     "text": [
      "2020-12-13 23:28:02,848 [DEBUG] kashgari - predict output: (329, 28)\n",
      "2020-12-13 23:28:02,848 [DEBUG] kashgari - predict output argmax: [[0 1 1 ... 1 1 1]\n",
      " [0 1 1 ... 1 1 1]\n",
      " [0 1 1 ... 1 1 1]\n",
      " ...\n",
      " [0 1 1 ... 1 1 1]\n",
      " [0 1 1 ... 1 1 1]\n",
      " [0 0 0 ... 0 0 0]]\n",
      "2020-12-13 23:28:02,851 [DEBUG] kashgari - predict seq_length: None, input: (2, 227, 29)\n"
     ]
    },
    {
     "name": "stdout",
     "output_type": "stream",
     "text": [
      "8/8 [==============================] - 0s 34ms/step\n"
     ]
    },
    {
     "name": "stderr",
     "output_type": "stream",
     "text": [
      "2020-12-13 23:28:03,180 [DEBUG] kashgari - predict output: (227, 29)\n",
      "2020-12-13 23:28:03,180 [DEBUG] kashgari - predict output argmax: [[0 1 1 ... 2 2 2]\n",
      " [0 1 1 ... 1 1 1]\n",
      " [0 3 2 ... 2 2 2]\n",
      " ...\n",
      " [0 1 1 ... 1 1 1]\n",
      " [0 1 1 ... 1 1 1]\n",
      " [0 0 0 ... 0 0 0]]\n",
      "2020-12-13 23:28:03,185 [DEBUG] kashgari - predict seq_length: None, input: (2, 295, 26)\n"
     ]
    },
    {
     "name": "stdout",
     "output_type": "stream",
     "text": [
      "10/10 [==============================] - 0s 33ms/step\n"
     ]
    },
    {
     "name": "stderr",
     "output_type": "stream",
     "text": [
      "2020-12-13 23:28:03,575 [DEBUG] kashgari - predict output: (295, 26)\n",
      "2020-12-13 23:28:03,576 [DEBUG] kashgari - predict output argmax: [[0 1 1 ... 1 1 1]\n",
      " [0 1 1 ... 1 1 1]\n",
      " [0 1 1 ... 0 1 1]\n",
      " ...\n",
      " [0 1 1 ... 1 1 1]\n",
      " [0 1 1 ... 1 1 1]\n",
      " [0 0 0 ... 0 0 0]]\n",
      "2020-12-13 23:28:03,581 [DEBUG] kashgari - predict seq_length: None, input: (2, 183, 25)\n"
     ]
    },
    {
     "name": "stdout",
     "output_type": "stream",
     "text": [
      "6/6 [==============================] - 0s 31ms/step\n"
     ]
    },
    {
     "name": "stderr",
     "output_type": "stream",
     "text": [
      "2020-12-13 23:28:03,825 [DEBUG] kashgari - predict output: (183, 25)\n",
      "2020-12-13 23:28:03,825 [DEBUG] kashgari - predict output argmax: [[0 1 1 ... 1 1 1]\n",
      " [0 1 1 ... 1 1 1]\n",
      " [0 1 1 ... 1 1 1]\n",
      " ...\n",
      " [0 1 9 ... 1 1 1]\n",
      " [0 1 1 ... 1 1 1]\n",
      " [0 0 0 ... 0 0 0]]\n",
      "2020-12-13 23:28:03,828 [DEBUG] kashgari - predict seq_length: None, input: (2, 126, 19)\n"
     ]
    },
    {
     "name": "stdout",
     "output_type": "stream",
     "text": [
      "4/4 [==============================] - 0s 24ms/step\n"
     ]
    },
    {
     "name": "stderr",
     "output_type": "stream",
     "text": [
      "2020-12-13 23:28:03,983 [DEBUG] kashgari - predict output: (126, 19)\n",
      "2020-12-13 23:28:03,984 [DEBUG] kashgari - predict output argmax: [[0 1 1 ... 1 0 1]\n",
      " [0 1 1 ... 1 1 1]\n",
      " [0 1 1 ... 1 1 1]\n",
      " ...\n",
      " [0 1 1 ... 1 1 1]\n",
      " [0 1 1 ... 1 1 1]\n",
      " [0 0 0 ... 0 0 0]]\n",
      "2020-12-13 23:28:03,986 [DEBUG] kashgari - predict seq_length: None, input: (2, 117, 23)\n"
     ]
    },
    {
     "name": "stdout",
     "output_type": "stream",
     "text": [
      "4/4 [==============================] - 0s 26ms/step\n"
     ]
    },
    {
     "name": "stderr",
     "output_type": "stream",
     "text": [
      "2020-12-13 23:28:04,147 [DEBUG] kashgari - predict output: (117, 23)\n",
      "2020-12-13 23:28:04,148 [DEBUG] kashgari - predict output argmax: [[0 1 1 ... 1 1 1]\n",
      " [0 1 1 ... 1 1 1]\n",
      " [0 1 1 ... 1 1 1]\n",
      " ...\n",
      " [0 1 1 ... 1 1 1]\n",
      " [0 1 1 ... 1 1 1]\n",
      " [0 0 0 ... 0 0 0]]\n",
      "2020-12-13 23:28:04,150 [DEBUG] kashgari - predict seq_length: None, input: (2, 91, 22)\n"
     ]
    },
    {
     "name": "stdout",
     "output_type": "stream",
     "text": [
      "3/3 [==============================] - 0s 22ms/step\n"
     ]
    },
    {
     "name": "stderr",
     "output_type": "stream",
     "text": [
      "2020-12-13 23:28:04,274 [DEBUG] kashgari - predict output: (91, 22)\n",
      "2020-12-13 23:28:04,275 [DEBUG] kashgari - predict output argmax: [[0 1 1 ... 1 1 1]\n",
      " [0 1 1 ... 1 1 1]\n",
      " [0 1 1 ... 1 1 1]\n",
      " ...\n",
      " [0 1 1 ... 1 1 1]\n",
      " [0 1 1 ... 1 1 1]\n",
      " [0 0 0 ... 0 0 0]]\n",
      "2020-12-13 23:28:04,276 [DEBUG] kashgari - predict seq_length: None, input: (2, 63, 25)\n"
     ]
    },
    {
     "name": "stdout",
     "output_type": "stream",
     "text": [
      "2/2 [==============================] - 0s 19ms/step\n"
     ]
    },
    {
     "name": "stderr",
     "output_type": "stream",
     "text": [
      "2020-12-13 23:28:04,375 [DEBUG] kashgari - predict output: (63, 25)\n",
      "2020-12-13 23:28:04,375 [DEBUG] kashgari - predict output argmax: [[0 1 1 ... 1 1 1]\n",
      " [0 1 1 ... 1 1 1]\n",
      " [0 1 1 ... 1 1 1]\n",
      " ...\n",
      " [0 1 1 ... 1 1 1]\n",
      " [0 1 1 ... 1 1 1]\n",
      " [0 0 0 ... 0 0 0]]\n",
      "2020-12-13 23:28:04,379 [DEBUG] kashgari - predict seq_length: None, input: (2, 259, 32)\n"
     ]
    },
    {
     "name": "stdout",
     "output_type": "stream",
     "text": [
      "9/9 [==============================] - 0s 37ms/step\n"
     ]
    },
    {
     "name": "stderr",
     "output_type": "stream",
     "text": [
      "2020-12-13 23:28:04,783 [DEBUG] kashgari - predict output: (259, 32)\n",
      "2020-12-13 23:28:04,784 [DEBUG] kashgari - predict output argmax: [[0 1 1 ... 4 4 4]\n",
      " [0 1 1 ... 1 1 1]\n",
      " [0 7 4 ... 1 1 1]\n",
      " ...\n",
      " [0 1 1 ... 1 1 1]\n",
      " [0 1 1 ... 1 1 1]\n",
      " [0 0 0 ... 0 0 0]]\n",
      "2020-12-13 23:28:04,786 [DEBUG] kashgari - predict seq_length: None, input: (2, 109, 20)\n"
     ]
    },
    {
     "name": "stdout",
     "output_type": "stream",
     "text": [
      "4/4 [==============================] - 0s 23ms/step\n"
     ]
    },
    {
     "name": "stderr",
     "output_type": "stream",
     "text": [
      "2020-12-13 23:28:04,930 [DEBUG] kashgari - predict output: (109, 20)\n",
      "2020-12-13 23:28:04,931 [DEBUG] kashgari - predict output argmax: [[0 1 1 ... 1 0 1]\n",
      " [0 1 1 ... 1 1 1]\n",
      " [0 1 1 ... 1 1 1]\n",
      " ...\n",
      " [0 1 1 ... 1 1 1]\n",
      " [0 1 1 ... 1 1 1]\n",
      " [0 0 0 ... 0 0 0]]\n",
      "2020-12-13 23:28:04,934 [DEBUG] kashgari - predict seq_length: None, input: (2, 122, 22)\n"
     ]
    },
    {
     "name": "stdout",
     "output_type": "stream",
     "text": [
      "4/4 [==============================] - 0s 25ms/step\n"
     ]
    },
    {
     "name": "stderr",
     "output_type": "stream",
     "text": [
      "2020-12-13 23:28:05,089 [DEBUG] kashgari - predict output: (122, 22)\n",
      "2020-12-13 23:28:05,090 [DEBUG] kashgari - predict output argmax: [[0 1 1 ... 1 1 1]\n",
      " [0 1 1 ... 1 1 1]\n",
      " [0 1 1 ... 1 1 1]\n",
      " ...\n",
      " [0 1 1 ... 1 1 1]\n",
      " [0 1 1 ... 1 1 1]\n",
      " [0 0 0 ... 0 0 0]]\n",
      "2020-12-13 23:28:05,093 [DEBUG] kashgari - predict seq_length: None, input: (2, 158, 40)\n"
     ]
    },
    {
     "name": "stdout",
     "output_type": "stream",
     "text": [
      "5/5 [==============================] - 0s 41ms/step\n"
     ]
    },
    {
     "name": "stderr",
     "output_type": "stream",
     "text": [
      "2020-12-13 23:28:05,371 [DEBUG] kashgari - predict output: (158, 40)\n",
      "2020-12-13 23:28:05,372 [DEBUG] kashgari - predict output argmax: [[0 1 1 ... 1 1 1]\n",
      " [0 1 1 ... 1 1 1]\n",
      " [0 1 1 ... 1 1 1]\n",
      " ...\n",
      " [0 1 1 ... 1 1 1]\n",
      " [0 1 1 ... 1 1 1]\n",
      " [0 1 1 ... 2 2 2]]\n",
      "2020-12-13 23:28:05,375 [DEBUG] kashgari - predict seq_length: None, input: (2, 218, 34)\n"
     ]
    },
    {
     "name": "stdout",
     "output_type": "stream",
     "text": [
      "7/7 [==============================] - 0s 38ms/step\n"
     ]
    },
    {
     "name": "stderr",
     "output_type": "stream",
     "text": [
      "2020-12-13 23:28:05,714 [DEBUG] kashgari - predict output: (218, 34)\n",
      "2020-12-13 23:28:05,715 [DEBUG] kashgari - predict output argmax: [[0 1 1 ... 1 1 1]\n",
      " [0 1 1 ... 1 1 1]\n",
      " [0 1 1 ... 1 1 1]\n",
      " ...\n",
      " [0 1 1 ... 1 1 1]\n",
      " [0 1 1 ... 1 1 1]\n",
      " [0 0 0 ... 0 0 0]]\n",
      "2020-12-13 23:28:05,717 [DEBUG] kashgari - predict seq_length: None, input: (2, 103, 16)\n"
     ]
    },
    {
     "name": "stdout",
     "output_type": "stream",
     "text": [
      "4/4 [==============================] - 0s 21ms/step\n"
     ]
    },
    {
     "name": "stderr",
     "output_type": "stream",
     "text": [
      "2020-12-13 23:28:05,850 [DEBUG] kashgari - predict output: (103, 16)\n",
      "2020-12-13 23:28:05,851 [DEBUG] kashgari - predict output argmax: [[0 1 1 ... 1 1 1]\n",
      " [0 1 1 ... 1 1 1]\n",
      " [0 1 1 ... 1 1 1]\n",
      " ...\n",
      " [0 1 1 ... 1 1 1]\n",
      " [0 1 1 ... 5 5 5]\n",
      " [0 1 1 ... 1 1 1]]\n",
      "2020-12-13 23:28:05,856 [DEBUG] kashgari - predict seq_length: None, input: (2, 310, 40)\n"
     ]
    },
    {
     "name": "stdout",
     "output_type": "stream",
     "text": [
      "10/10 [==============================] - 0s 46ms/step\n"
     ]
    },
    {
     "name": "stderr",
     "output_type": "stream",
     "text": [
      "2020-12-13 23:28:06,387 [DEBUG] kashgari - predict output: (310, 40)\n",
      "2020-12-13 23:28:06,388 [DEBUG] kashgari - predict output argmax: [[0 1 1 ... 1 1 1]\n",
      " [0 1 1 ... 1 1 1]\n",
      " [0 1 1 ... 1 1 1]\n",
      " ...\n",
      " [0 1 1 ... 1 1 1]\n",
      " [0 1 1 ... 1 1 1]\n",
      " [0 0 0 ... 0 0 0]]\n",
      "2020-12-13 23:28:06,390 [DEBUG] kashgari - predict seq_length: None, input: (2, 73, 22)\n"
     ]
    },
    {
     "name": "stdout",
     "output_type": "stream",
     "text": [
      "3/3 [==============================] - 0s 20ms/step\n"
     ]
    },
    {
     "name": "stderr",
     "output_type": "stream",
     "text": [
      "2020-12-13 23:28:06,499 [DEBUG] kashgari - predict output: (73, 22)\n",
      "2020-12-13 23:28:06,500 [DEBUG] kashgari - predict output argmax: [[0 1 1 ... 1 1 1]\n",
      " [0 1 1 ... 1 1 1]\n",
      " [0 3 2 ... 1 1 1]\n",
      " ...\n",
      " [0 1 1 ... 1 1 1]\n",
      " [0 1 1 ... 1 1 1]\n",
      " [0 0 0 ... 0 0 0]]\n",
      "2020-12-13 23:28:06,510 [DEBUG] kashgari - predict seq_length: None, input: (2, 624, 50)\n"
     ]
    },
    {
     "name": "stdout",
     "output_type": "stream",
     "text": [
      "20/20 [==============================] - 1s 58ms/step\n"
     ]
    },
    {
     "name": "stderr",
     "output_type": "stream",
     "text": [
      "2020-12-13 23:28:07,765 [DEBUG] kashgari - predict output: (624, 50)\n",
      "2020-12-13 23:28:07,766 [DEBUG] kashgari - predict output argmax: [[0 1 1 ... 1 1 1]\n",
      " [0 1 1 ... 1 1 1]\n",
      " [0 1 1 ... 1 1 1]\n",
      " ...\n",
      " [0 1 1 ... 1 1 1]\n",
      " [0 1 1 ... 1 1 1]\n",
      " [0 0 0 ... 0 0 0]]\n",
      "2020-12-13 23:28:07,770 [DEBUG] kashgari - predict seq_length: None, input: (2, 445, 35)\n"
     ]
    },
    {
     "name": "stdout",
     "output_type": "stream",
     "text": [
      "14/14 [==============================] - 1s 44ms/step\n"
     ]
    },
    {
     "name": "stderr",
     "output_type": "stream",
     "text": [
      "2020-12-13 23:28:08,454 [DEBUG] kashgari - predict output: (445, 35)\n",
      "2020-12-13 23:28:08,455 [DEBUG] kashgari - predict output argmax: [[0 1 1 ... 1 1 1]\n",
      " [0 1 1 ... 1 1 1]\n",
      " [0 1 1 ... 1 1 1]\n",
      " ...\n",
      " [0 1 1 ... 1 1 1]\n",
      " [0 1 3 ... 2 2 2]\n",
      " [0 0 0 ... 0 0 0]]\n",
      "2020-12-13 23:28:08,461 [DEBUG] kashgari - predict seq_length: None, input: (2, 357, 34)\n"
     ]
    },
    {
     "name": "stdout",
     "output_type": "stream",
     "text": [
      "12/12 [==============================] - 0s 40ms/step\n"
     ]
    },
    {
     "name": "stderr",
     "output_type": "stream",
     "text": [
      "2020-12-13 23:28:09,012 [DEBUG] kashgari - predict output: (357, 34)\n",
      "2020-12-13 23:28:09,012 [DEBUG] kashgari - predict output argmax: [[0 1 1 ... 1 1 1]\n",
      " [0 1 1 ... 1 1 1]\n",
      " [0 1 1 ... 1 1 1]\n",
      " ...\n",
      " [0 1 1 ... 1 1 1]\n",
      " [0 1 1 ... 1 1 1]\n",
      " [0 0 0 ... 0 0 0]]\n",
      "2020-12-13 23:28:09,016 [DEBUG] kashgari - predict seq_length: None, input: (2, 328, 49)\n"
     ]
    },
    {
     "name": "stdout",
     "output_type": "stream",
     "text": [
      "11/11 [==============================] - 1s 54ms/step\n"
     ]
    },
    {
     "name": "stderr",
     "output_type": "stream",
     "text": [
      "2020-12-13 23:28:09,699 [DEBUG] kashgari - predict output: (328, 49)\n",
      "2020-12-13 23:28:09,700 [DEBUG] kashgari - predict output argmax: [[0 1 1 ... 1 1 1]\n",
      " [0 1 1 ... 1 1 1]\n",
      " [0 1 1 ... 1 1 1]\n",
      " ...\n",
      " [0 1 1 ... 1 1 1]\n",
      " [0 1 1 ... 1 1 1]\n",
      " [0 0 0 ... 0 0 0]]\n",
      "2020-12-13 23:28:09,702 [DEBUG] kashgari - predict seq_length: None, input: (2, 133, 59)\n"
     ]
    },
    {
     "name": "stdout",
     "output_type": "stream",
     "text": [
      "5/5 [==============================] - 0s 50ms/step\n"
     ]
    },
    {
     "name": "stderr",
     "output_type": "stream",
     "text": [
      "2020-12-13 23:28:10,043 [DEBUG] kashgari - predict output: (133, 59)\n",
      "2020-12-13 23:28:10,043 [DEBUG] kashgari - predict output argmax: [[0 1 1 ... 1 1 1]\n",
      " [0 1 1 ... 1 1 1]\n",
      " [0 1 1 ... 1 1 1]\n",
      " ...\n",
      " [0 1 1 ... 1 1 1]\n",
      " [0 1 1 ... 1 1 1]\n",
      " [0 0 0 ... 0 0 0]]\n",
      "2020-12-13 23:28:10,047 [DEBUG] kashgari - predict seq_length: None, input: (2, 129, 23)\n"
     ]
    },
    {
     "name": "stdout",
     "output_type": "stream",
     "text": [
      "5/5 [==============================] - 0s 27ms/step\n"
     ]
    },
    {
     "name": "stderr",
     "output_type": "stream",
     "text": [
      "2020-12-13 23:28:10,240 [DEBUG] kashgari - predict output: (129, 23)\n",
      "2020-12-13 23:28:10,241 [DEBUG] kashgari - predict output argmax: [[0 1 1 ... 1 1 1]\n",
      " [0 1 1 ... 1 1 1]\n",
      " [0 1 1 ... 1 1 1]\n",
      " ...\n",
      " [0 1 0 ... 1 1 1]\n",
      " [0 1 1 ... 1 1 1]\n",
      " [0 0 0 ... 0 0 0]]\n",
      "2020-12-13 23:28:10,243 [DEBUG] kashgari - predict seq_length: None, input: (2, 131, 30)\n"
     ]
    },
    {
     "name": "stdout",
     "output_type": "stream",
     "text": [
      "5/5 [==============================] - 0s 30ms/step\n"
     ]
    },
    {
     "name": "stderr",
     "output_type": "stream",
     "text": [
      "2020-12-13 23:28:10,461 [DEBUG] kashgari - predict output: (131, 30)\n",
      "2020-12-13 23:28:10,461 [DEBUG] kashgari - predict output argmax: [[0 1 1 ... 1 1 1]\n",
      " [0 3 2 ... 1 1 1]\n",
      " [0 1 1 ... 1 1 1]\n",
      " ...\n",
      " [0 1 1 ... 1 1 1]\n",
      " [0 1 1 ... 1 1 1]\n",
      " [0 0 0 ... 0 0 0]]\n",
      "2020-12-13 23:28:10,466 [DEBUG] kashgari - predict seq_length: None, input: (2, 234, 34)\n"
     ]
    },
    {
     "name": "stdout",
     "output_type": "stream",
     "text": [
      "8/8 [==============================] - 0s 37ms/step\n"
     ]
    },
    {
     "name": "stderr",
     "output_type": "stream",
     "text": [
      "2020-12-13 23:28:10,830 [DEBUG] kashgari - predict output: (234, 34)\n",
      "2020-12-13 23:28:10,831 [DEBUG] kashgari - predict output argmax: [[0 1 1 ... 2 2 2]\n",
      " [0 1 1 ... 1 1 1]\n",
      " [0 1 1 ... 1 1 1]\n",
      " ...\n",
      " [0 1 1 ... 1 1 1]\n",
      " [0 1 1 ... 1 1 1]\n",
      " [0 0 0 ... 0 0 0]]\n",
      "2020-12-13 23:28:10,833 [DEBUG] kashgari - predict seq_length: None, input: (2, 79, 33)\n"
     ]
    },
    {
     "name": "stdout",
     "output_type": "stream",
     "text": [
      "3/3 [==============================] - 0s 25ms/step\n"
     ]
    },
    {
     "name": "stderr",
     "output_type": "stream",
     "text": [
      "2020-12-13 23:28:10,972 [DEBUG] kashgari - predict output: (79, 33)\n",
      "2020-12-13 23:28:10,972 [DEBUG] kashgari - predict output argmax: [[0 1 1 ... 1 1 1]\n",
      " [0 1 1 ... 1 1 1]\n",
      " [0 1 1 ... 1 1 1]\n",
      " ...\n",
      " [0 1 1 ... 1 1 1]\n",
      " [0 1 1 ... 1 1 1]\n",
      " [0 0 0 ... 0 0 0]]\n",
      "2020-12-13 23:28:10,978 [DEBUG] kashgari - predict seq_length: None, input: (2, 260, 37)\n"
     ]
    },
    {
     "name": "stdout",
     "output_type": "stream",
     "text": [
      "9/9 [==============================] - 0s 42ms/step\n"
     ]
    },
    {
     "name": "stderr",
     "output_type": "stream",
     "text": [
      "2020-12-13 23:28:11,425 [DEBUG] kashgari - predict output: (260, 37)\n",
      "2020-12-13 23:28:11,426 [DEBUG] kashgari - predict output argmax: [[0 1 1 ... 1 1 1]\n",
      " [0 1 1 ... 1 1 1]\n",
      " [0 1 1 ... 1 1 1]\n",
      " ...\n",
      " [0 1 1 ... 1 1 1]\n",
      " [0 1 1 ... 1 1 1]\n",
      " [0 0 0 ... 0 0 0]]\n",
      "2020-12-13 23:28:11,429 [DEBUG] kashgari - predict seq_length: None, input: (2, 255, 35)\n"
     ]
    },
    {
     "name": "stdout",
     "output_type": "stream",
     "text": [
      "8/8 [==============================] - 0s 41ms/step\n"
     ]
    },
    {
     "name": "stderr",
     "output_type": "stream",
     "text": [
      "2020-12-13 23:28:11,824 [DEBUG] kashgari - predict output: (255, 35)\n",
      "2020-12-13 23:28:11,825 [DEBUG] kashgari - predict output argmax: [[0 1 1 ... 1 1 1]\n",
      " [0 1 1 ... 1 1 1]\n",
      " [0 1 1 ... 1 1 1]\n",
      " ...\n",
      " [0 1 1 ... 1 1 1]\n",
      " [0 1 1 ... 1 1 1]\n",
      " [0 0 0 ... 0 0 0]]\n",
      "2020-12-13 23:28:11,829 [DEBUG] kashgari - predict seq_length: None, input: (2, 175, 41)\n"
     ]
    },
    {
     "name": "stdout",
     "output_type": "stream",
     "text": [
      "6/6 [==============================] - 0s 42ms/step\n"
     ]
    },
    {
     "name": "stderr",
     "output_type": "stream",
     "text": [
      "2020-12-13 23:28:12,162 [DEBUG] kashgari - predict output: (175, 41)\n",
      "2020-12-13 23:28:12,163 [DEBUG] kashgari - predict output argmax: [[0 1 1 ... 1 1 1]\n",
      " [0 1 1 ... 1 1 1]\n",
      " [0 1 1 ... 1 1 1]\n",
      " ...\n",
      " [0 1 1 ... 1 1 1]\n",
      " [0 1 1 ... 1 1 1]\n",
      " [0 0 0 ... 0 0 0]]\n",
      "2020-12-13 23:28:12,166 [DEBUG] kashgari - predict seq_length: None, input: (2, 189, 31)\n"
     ]
    },
    {
     "name": "stdout",
     "output_type": "stream",
     "text": [
      "6/6 [==============================] - 0s 36ms/step\n"
     ]
    },
    {
     "name": "stderr",
     "output_type": "stream",
     "text": [
      "2020-12-13 23:28:12,442 [DEBUG] kashgari - predict output: (189, 31)\n",
      "2020-12-13 23:28:12,443 [DEBUG] kashgari - predict output argmax: [[0 1 1 ... 1 1 1]\n",
      " [0 1 1 ... 1 1 1]\n",
      " [0 1 1 ... 1 1 1]\n",
      " ...\n",
      " [0 1 1 ... 1 1 1]\n",
      " [0 1 1 ... 1 1 1]\n",
      " [0 0 0 ... 0 0 0]]\n",
      "2020-12-13 23:28:12,447 [DEBUG] kashgari - predict seq_length: None, input: (2, 292, 31)\n"
     ]
    },
    {
     "name": "stdout",
     "output_type": "stream",
     "text": [
      "10/10 [==============================] - 0s 36ms/step\n"
     ]
    },
    {
     "name": "stderr",
     "output_type": "stream",
     "text": [
      "2020-12-13 23:28:12,877 [DEBUG] kashgari - predict output: (292, 31)\n",
      "2020-12-13 23:28:12,878 [DEBUG] kashgari - predict output argmax: [[0 1 1 ... 1 1 1]\n",
      " [0 1 1 ... 1 1 1]\n",
      " [0 1 1 ... 1 1 1]\n",
      " ...\n",
      " [0 1 1 ... 1 1 1]\n",
      " [0 1 1 ... 1 1 1]\n",
      " [0 0 0 ... 0 0 0]]\n",
      "2020-12-13 23:28:12,880 [DEBUG] kashgari - predict seq_length: None, input: (2, 97, 38)\n"
     ]
    },
    {
     "name": "stdout",
     "output_type": "stream",
     "text": [
      "4/4 [==============================] - 0s 32ms/step\n"
     ]
    },
    {
     "name": "stderr",
     "output_type": "stream",
     "text": [
      "2020-12-13 23:28:13,078 [DEBUG] kashgari - predict output: (97, 38)\n",
      "2020-12-13 23:28:13,079 [DEBUG] kashgari - predict output argmax: [[0 1 1 ... 1 1 1]\n",
      " [0 1 1 ... 2 2 2]\n",
      " [0 1 1 ... 1 1 1]\n",
      " ...\n",
      " [0 1 1 ... 1 1 1]\n",
      " [0 1 1 ... 1 1 1]\n",
      " [0 0 0 ... 0 0 0]]\n",
      "2020-12-13 23:28:13,084 [DEBUG] kashgari - predict seq_length: None, input: (2, 351, 56)\n"
     ]
    },
    {
     "name": "stdout",
     "output_type": "stream",
     "text": [
      "11/11 [==============================] - 1s 62ms/step\n"
     ]
    },
    {
     "name": "stderr",
     "output_type": "stream",
     "text": [
      "2020-12-13 23:28:13,866 [DEBUG] kashgari - predict output: (351, 56)\n",
      "2020-12-13 23:28:13,867 [DEBUG] kashgari - predict output argmax: [[0 1 1 ... 1 1 1]\n",
      " [0 1 1 ... 1 1 1]\n",
      " [0 1 1 ... 1 1 1]\n",
      " ...\n",
      " [0 1 1 ... 1 1 1]\n",
      " [0 1 1 ... 1 1 1]\n",
      " [0 0 0 ... 0 0 0]]\n",
      "2020-12-13 23:28:13,871 [DEBUG] kashgari - predict seq_length: None, input: (2, 297, 46)\n"
     ]
    },
    {
     "name": "stdout",
     "output_type": "stream",
     "text": [
      "10/10 [==============================] - 1s 53ms/step\n"
     ]
    },
    {
     "name": "stderr",
     "output_type": "stream",
     "text": [
      "2020-12-13 23:28:14,495 [DEBUG] kashgari - predict output: (297, 46)\n",
      "2020-12-13 23:28:14,496 [DEBUG] kashgari - predict output argmax: [[0 1 1 ... 1 1 1]\n",
      " [0 1 1 ... 1 1 1]\n",
      " [0 1 1 ... 1 1 1]\n",
      " ...\n",
      " [0 1 1 ... 1 1 1]\n",
      " [0 1 1 ... 1 1 1]\n",
      " [0 0 0 ... 0 0 0]]\n",
      "2020-12-13 23:28:14,498 [DEBUG] kashgari - predict seq_length: None, input: (2, 136, 21)\n"
     ]
    },
    {
     "name": "stdout",
     "output_type": "stream",
     "text": [
      "5/5 [==============================] - 0s 25ms/step\n"
     ]
    },
    {
     "name": "stderr",
     "output_type": "stream",
     "text": [
      "2020-12-13 23:28:14,673 [DEBUG] kashgari - predict output: (136, 21)\n",
      "2020-12-13 23:28:14,674 [DEBUG] kashgari - predict output argmax: [[0 1 1 ... 1 1 1]\n",
      " [0 1 1 ... 1 1 1]\n",
      " [0 1 1 ... 2 2 2]\n",
      " ...\n",
      " [0 1 1 ... 1 1 1]\n",
      " [0 1 1 ... 1 1 1]\n",
      " [0 0 0 ... 0 0 0]]\n",
      "2020-12-13 23:28:14,677 [DEBUG] kashgari - predict seq_length: None, input: (2, 115, 42)\n"
     ]
    },
    {
     "name": "stdout",
     "output_type": "stream",
     "text": [
      "4/4 [==============================] - 0s 37ms/step\n"
     ]
    },
    {
     "name": "stderr",
     "output_type": "stream",
     "text": [
      "2020-12-13 23:28:14,900 [DEBUG] kashgari - predict output: (115, 42)\n",
      "2020-12-13 23:28:14,901 [DEBUG] kashgari - predict output argmax: [[0 1 1 ... 1 1 1]\n",
      " [0 1 1 ... 1 1 1]\n",
      " [0 1 1 ... 1 1 1]\n",
      " ...\n",
      " [0 1 1 ... 1 1 1]\n",
      " [0 1 1 ... 1 1 1]\n",
      " [0 0 0 ... 0 0 0]]\n",
      "2020-12-13 23:28:14,904 [DEBUG] kashgari - predict seq_length: None, input: (2, 89, 23)\n"
     ]
    },
    {
     "name": "stdout",
     "output_type": "stream",
     "text": [
      "3/3 [==============================] - 0s 23ms/step\n"
     ]
    },
    {
     "name": "stderr",
     "output_type": "stream",
     "text": [
      "2020-12-13 23:28:15,032 [DEBUG] kashgari - predict output: (89, 23)\n",
      "2020-12-13 23:28:15,033 [DEBUG] kashgari - predict output argmax: [[0 1 1 ... 1 1 1]\n",
      " [0 1 1 ... 1 1 1]\n",
      " [0 1 1 ... 1 1 1]\n",
      " ...\n",
      " [0 1 1 ... 1 1 1]\n",
      " [0 1 1 ... 1 1 1]\n",
      " [0 0 0 ... 0 0 0]]\n",
      "2020-12-13 23:28:15,038 [DEBUG] kashgari - predict seq_length: None, input: (2, 251, 52)\n"
     ]
    },
    {
     "name": "stdout",
     "output_type": "stream",
     "text": [
      "8/8 [==============================] - 0s 56ms/step\n"
     ]
    },
    {
     "name": "stderr",
     "output_type": "stream",
     "text": [
      "2020-12-13 23:28:15,574 [DEBUG] kashgari - predict output: (251, 52)\n",
      "2020-12-13 23:28:15,574 [DEBUG] kashgari - predict output argmax: [[0 1 1 ... 1 1 1]\n",
      " [0 1 1 ... 1 1 1]\n",
      " [0 1 1 ... 1 1 1]\n",
      " ...\n",
      " [0 1 1 ... 1 1 1]\n",
      " [0 1 1 ... 1 1 1]\n",
      " [0 0 0 ... 0 0 0]]\n",
      "2020-12-13 23:28:15,577 [DEBUG] kashgari - predict seq_length: None, input: (2, 153, 20)\n"
     ]
    },
    {
     "name": "stdout",
     "output_type": "stream",
     "text": [
      "5/5 [==============================] - 0s 26ms/step\n"
     ]
    },
    {
     "name": "stderr",
     "output_type": "stream",
     "text": [
      "2020-12-13 23:28:15,763 [DEBUG] kashgari - predict output: (153, 20)\n",
      "2020-12-13 23:28:15,764 [DEBUG] kashgari - predict output argmax: [[0 1 1 ... 1 1 1]\n",
      " [0 1 0 ... 1 1 1]\n",
      " [0 1 1 ... 1 1 1]\n",
      " ...\n",
      " [0 1 1 ... 1 1 1]\n",
      " [0 1 1 ... 1 1 1]\n",
      " [0 0 0 ... 0 0 0]]\n",
      "2020-12-13 23:28:15,767 [DEBUG] kashgari - predict seq_length: None, input: (2, 169, 47)\n"
     ]
    },
    {
     "name": "stdout",
     "output_type": "stream",
     "text": [
      "6/6 [==============================] - 0s 47ms/step\n"
     ]
    },
    {
     "name": "stderr",
     "output_type": "stream",
     "text": [
      "2020-12-13 23:28:16,135 [DEBUG] kashgari - predict output: (169, 47)\n",
      "2020-12-13 23:28:16,136 [DEBUG] kashgari - predict output argmax: [[0 1 1 ... 1 1 1]\n",
      " [0 1 1 ... 1 1 1]\n",
      " [0 1 1 ... 1 1 1]\n",
      " ...\n",
      " [0 1 1 ... 1 1 1]\n",
      " [0 1 1 ... 1 1 1]\n",
      " [0 0 0 ... 0 0 0]]\n",
      "2020-12-13 23:28:16,141 [DEBUG] kashgari - predict seq_length: None, input: (2, 324, 37)\n"
     ]
    },
    {
     "name": "stdout",
     "output_type": "stream",
     "text": [
      "11/11 [==============================] - 0s 43ms/step\n"
     ]
    },
    {
     "name": "stderr",
     "output_type": "stream",
     "text": [
      "2020-12-13 23:28:16,693 [DEBUG] kashgari - predict output: (324, 37)\n",
      "2020-12-13 23:28:16,694 [DEBUG] kashgari - predict output argmax: [[0 1 1 ... 1 1 1]\n",
      " [0 1 1 ... 1 1 1]\n",
      " [0 1 1 ... 1 1 1]\n",
      " ...\n",
      " [0 1 1 ... 1 1 1]\n",
      " [0 1 1 ... 1 1 1]\n",
      " [0 0 0 ... 0 0 0]]\n",
      "2020-12-13 23:28:16,696 [DEBUG] kashgari - predict seq_length: None, input: (2, 157, 35)\n"
     ]
    },
    {
     "name": "stdout",
     "output_type": "stream",
     "text": [
      "5/5 [==============================] - 0s 38ms/step\n"
     ]
    },
    {
     "name": "stderr",
     "output_type": "stream",
     "text": [
      "2020-12-13 23:28:16,948 [DEBUG] kashgari - predict output: (157, 35)\n",
      "2020-12-13 23:28:16,948 [DEBUG] kashgari - predict output argmax: [[0 1 1 ... 1 1 1]\n",
      " [0 1 1 ... 1 1 1]\n",
      " [0 1 1 ... 1 1 1]\n",
      " ...\n",
      " [0 1 1 ... 1 1 1]\n",
      " [0 1 1 ... 1 1 1]\n",
      " [0 0 0 ... 0 0 0]]\n",
      "2020-12-13 23:28:16,952 [DEBUG] kashgari - predict seq_length: None, input: (2, 191, 27)\n"
     ]
    },
    {
     "name": "stdout",
     "output_type": "stream",
     "text": [
      "6/6 [==============================] - 0s 32ms/step\n"
     ]
    },
    {
     "name": "stderr",
     "output_type": "stream",
     "text": [
      "2020-12-13 23:28:17,202 [DEBUG] kashgari - predict output: (191, 27)\n",
      "2020-12-13 23:28:17,203 [DEBUG] kashgari - predict output argmax: [[0 1 1 ... 1 1 1]\n",
      " [0 1 1 ... 1 1 1]\n",
      " [0 1 1 ... 1 1 1]\n",
      " ...\n",
      " [0 1 1 ... 1 1 1]\n",
      " [0 1 1 ... 1 1 1]\n",
      " [0 0 0 ... 0 0 0]]\n",
      "2020-12-13 23:28:17,205 [DEBUG] kashgari - predict seq_length: None, input: (2, 115, 36)\n"
     ]
    },
    {
     "name": "stdout",
     "output_type": "stream",
     "text": [
      "4/4 [==============================] - 0s 33ms/step\n"
     ]
    },
    {
     "name": "stderr",
     "output_type": "stream",
     "text": [
      "2020-12-13 23:28:17,404 [DEBUG] kashgari - predict output: (115, 36)\n",
      "2020-12-13 23:28:17,405 [DEBUG] kashgari - predict output argmax: [[0 1 1 ... 1 1 1]\n",
      " [0 1 1 ... 1 1 1]\n",
      " [0 1 1 ... 1 1 1]\n",
      " ...\n",
      " [0 1 1 ... 1 1 1]\n",
      " [0 1 1 ... 1 1 1]\n",
      " [0 0 0 ... 0 0 0]]\n",
      "2020-12-13 23:28:17,414 [DEBUG] kashgari - predict seq_length: None, input: (2, 529, 33)\n"
     ]
    },
    {
     "name": "stdout",
     "output_type": "stream",
     "text": [
      "17/17 [==============================] - 1s 42ms/step\n"
     ]
    },
    {
     "name": "stderr",
     "output_type": "stream",
     "text": [
      "2020-12-13 23:28:18,193 [DEBUG] kashgari - predict output: (529, 33)\n",
      "2020-12-13 23:28:18,193 [DEBUG] kashgari - predict output argmax: [[0 1 1 ... 1 1 1]\n",
      " [0 1 1 ... 1 1 1]\n",
      " [0 1 1 ... 1 1 1]\n",
      " ...\n",
      " [0 1 1 ... 1 1 1]\n",
      " [0 1 1 ... 1 1 1]\n",
      " [0 0 0 ... 0 0 0]]\n",
      "2020-12-13 23:28:18,196 [DEBUG] kashgari - predict seq_length: None, input: (2, 217, 32)\n"
     ]
    },
    {
     "name": "stdout",
     "output_type": "stream",
     "text": [
      "7/7 [==============================] - 0s 37ms/step\n"
     ]
    },
    {
     "name": "stderr",
     "output_type": "stream",
     "text": [
      "2020-12-13 23:28:18,522 [DEBUG] kashgari - predict output: (217, 32)\n",
      "2020-12-13 23:28:18,523 [DEBUG] kashgari - predict output argmax: [[0 1 1 ... 1 1 1]\n",
      " [0 1 1 ... 1 1 1]\n",
      " [0 1 1 ... 1 1 1]\n",
      " ...\n",
      " [0 1 1 ... 1 1 1]\n",
      " [0 1 1 ... 1 1 1]\n",
      " [0 0 0 ... 0 0 0]]\n",
      "2020-12-13 23:28:18,525 [DEBUG] kashgari - predict seq_length: None, input: (2, 186, 47)\n"
     ]
    },
    {
     "name": "stdout",
     "output_type": "stream",
     "text": [
      "6/6 [==============================] - 0s 51ms/step\n"
     ]
    },
    {
     "name": "stderr",
     "output_type": "stream",
     "text": [
      "2020-12-13 23:28:18,915 [DEBUG] kashgari - predict output: (186, 47)\n",
      "2020-12-13 23:28:18,916 [DEBUG] kashgari - predict output argmax: [[0 1 1 ... 1 1 1]\n",
      " [0 1 1 ... 1 1 1]\n",
      " [0 1 1 ... 1 1 1]\n",
      " ...\n",
      " [0 1 1 ... 1 1 1]\n",
      " [0 1 0 ... 1 1 1]\n",
      " [0 0 0 ... 0 0 0]]\n",
      "2020-12-13 23:28:18,920 [DEBUG] kashgari - predict seq_length: None, input: (2, 410, 55)\n"
     ]
    },
    {
     "name": "stdout",
     "output_type": "stream",
     "text": [
      "13/13 [==============================] - 1s 62ms/step\n"
     ]
    },
    {
     "name": "stderr",
     "output_type": "stream",
     "text": [
      "2020-12-13 23:28:19,827 [DEBUG] kashgari - predict output: (410, 55)\n",
      "2020-12-13 23:28:19,828 [DEBUG] kashgari - predict output argmax: [[0 1 1 ... 1 1 1]\n",
      " [0 1 1 ... 1 1 1]\n",
      " [0 1 1 ... 1 1 1]\n",
      " ...\n",
      " [0 1 1 ... 1 1 1]\n",
      " [0 1 1 ... 1 1 1]\n",
      " [0 0 0 ... 0 0 0]]\n",
      "2020-12-13 23:28:19,835 [DEBUG] kashgari - predict seq_length: None, input: (2, 347, 42)\n"
     ]
    },
    {
     "name": "stdout",
     "output_type": "stream",
     "text": [
      "11/11 [==============================] - 1s 48ms/step\n"
     ]
    },
    {
     "name": "stderr",
     "output_type": "stream",
     "text": [
      "2020-12-13 23:28:20,447 [DEBUG] kashgari - predict output: (347, 42)\n",
      "2020-12-13 23:28:20,447 [DEBUG] kashgari - predict output argmax: [[0 1 1 ... 1 1 1]\n",
      " [0 1 1 ... 1 1 1]\n",
      " [0 1 1 ... 1 1 1]\n",
      " ...\n",
      " [0 1 1 ... 1 1 1]\n",
      " [0 1 1 ... 1 1 1]\n",
      " [0 0 0 ... 0 0 0]]\n",
      "2020-12-13 23:28:20,453 [DEBUG] kashgari - predict seq_length: None, input: (2, 524, 65)\n"
     ]
    },
    {
     "name": "stdout",
     "output_type": "stream",
     "text": [
      "17/17 [==============================] - 1s 72ms/step\n"
     ]
    },
    {
     "name": "stderr",
     "output_type": "stream",
     "text": [
      "2020-12-13 23:28:21,785 [DEBUG] kashgari - predict output: (524, 65)\n",
      "2020-12-13 23:28:21,786 [DEBUG] kashgari - predict output argmax: [[0 1 1 ... 1 1 1]\n",
      " [0 1 1 ... 1 1 1]\n",
      " [0 1 1 ... 1 1 1]\n",
      " ...\n",
      " [0 1 1 ... 1 1 1]\n",
      " [0 1 1 ... 1 1 1]\n",
      " [0 0 0 ... 0 0 0]]\n",
      "2020-12-13 23:28:21,788 [DEBUG] kashgari - predict seq_length: None, input: (2, 182, 29)\n"
     ]
    },
    {
     "name": "stdout",
     "output_type": "stream",
     "text": [
      "6/6 [==============================] - 0s 33ms/step\n"
     ]
    },
    {
     "name": "stderr",
     "output_type": "stream",
     "text": [
      "2020-12-13 23:28:22,048 [DEBUG] kashgari - predict output: (182, 29)\n",
      "2020-12-13 23:28:22,048 [DEBUG] kashgari - predict output argmax: [[0 1 1 ... 1 1 1]\n",
      " [0 1 1 ... 1 1 1]\n",
      " [0 1 1 ... 1 1 1]\n",
      " ...\n",
      " [0 1 1 ... 1 1 1]\n",
      " [0 1 1 ... 1 1 1]\n",
      " [0 0 0 ... 0 0 0]]\n",
      "2020-12-13 23:28:22,052 [DEBUG] kashgari - predict seq_length: None, input: (2, 163, 20)\n"
     ]
    },
    {
     "name": "stdout",
     "output_type": "stream",
     "text": [
      "6/6 [==============================] - 0s 25ms/step\n"
     ]
    },
    {
     "name": "stderr",
     "output_type": "stream",
     "text": [
      "2020-12-13 23:28:22,257 [DEBUG] kashgari - predict output: (163, 20)\n",
      "2020-12-13 23:28:22,258 [DEBUG] kashgari - predict output argmax: [[0 1 1 ... 1 1 1]\n",
      " [0 1 1 ... 1 1 1]\n",
      " [0 1 1 ... 1 1 1]\n",
      " ...\n",
      " [0 1 0 ... 1 1 1]\n",
      " [0 1 1 ... 1 1 1]\n",
      " [0 0 0 ... 0 0 0]]\n",
      "2020-12-13 23:28:22,260 [DEBUG] kashgari - predict seq_length: None, input: (2, 97, 19)\n"
     ]
    },
    {
     "name": "stdout",
     "output_type": "stream",
     "text": [
      "4/4 [==============================] - 0s 22ms/step\n"
     ]
    },
    {
     "name": "stderr",
     "output_type": "stream",
     "text": [
      "2020-12-13 23:28:22,400 [DEBUG] kashgari - predict output: (97, 19)\n",
      "2020-12-13 23:28:22,401 [DEBUG] kashgari - predict output argmax: [[0 1 1 ... 1 1 1]\n",
      " [0 1 1 ... 1 1 1]\n",
      " [0 1 0 ... 1 1 1]\n",
      " ...\n",
      " [0 1 1 ... 1 1 1]\n",
      " [0 1 1 ... 1 1 1]\n",
      " [0 0 0 ... 0 0 0]]\n",
      "2020-12-13 23:28:22,405 [DEBUG] kashgari - predict seq_length: None, input: (2, 189, 21)\n"
     ]
    },
    {
     "name": "stdout",
     "output_type": "stream",
     "text": [
      "6/6 [==============================] - 0s 28ms/step\n"
     ]
    },
    {
     "name": "stderr",
     "output_type": "stream",
     "text": [
      "2020-12-13 23:28:22,624 [DEBUG] kashgari - predict output: (189, 21)\n",
      "2020-12-13 23:28:22,625 [DEBUG] kashgari - predict output argmax: [[0 1 1 ... 1 1 1]\n",
      " [0 1 0 ... 1 1 1]\n",
      " [0 1 1 ... 1 1 1]\n",
      " ...\n",
      " [0 1 1 ... 1 1 1]\n",
      " [0 1 1 ... 1 1 1]\n",
      " [0 0 0 ... 0 0 0]]\n",
      "2020-12-13 23:28:22,630 [DEBUG] kashgari - predict seq_length: None, input: (2, 320, 25)\n"
     ]
    },
    {
     "name": "stdout",
     "output_type": "stream",
     "text": [
      "10/10 [==============================] - 0s 28ms/step\n"
     ]
    },
    {
     "name": "stderr",
     "output_type": "stream",
     "text": [
      "2020-12-13 23:28:22,957 [DEBUG] kashgari - predict output: (320, 25)\n",
      "2020-12-13 23:28:22,958 [DEBUG] kashgari - predict output argmax: [[0 1 1 ... 1 1 1]\n",
      " [0 1 1 ... 1 1 1]\n",
      " [0 1 1 ... 1 1 1]\n",
      " ...\n",
      " [0 1 0 ... 1 1 1]\n",
      " [0 1 1 ... 1 1 1]\n",
      " [0 0 0 ... 0 0 0]]\n",
      "2020-12-13 23:28:22,961 [DEBUG] kashgari - predict seq_length: None, input: (2, 301, 20)\n"
     ]
    },
    {
     "name": "stdout",
     "output_type": "stream",
     "text": [
      "10/10 [==============================] - 0s 29ms/step\n"
     ]
    },
    {
     "name": "stderr",
     "output_type": "stream",
     "text": [
      "2020-12-13 23:28:23,303 [DEBUG] kashgari - predict output: (301, 20)\n",
      "2020-12-13 23:28:23,304 [DEBUG] kashgari - predict output argmax: [[0 1 1 ... 1 1 1]\n",
      " [0 1 1 ... 1 1 1]\n",
      " [0 1 1 ... 1 1 1]\n",
      " ...\n",
      " [0 1 0 ... 1 1 1]\n",
      " [0 1 1 ... 1 1 1]\n",
      " [0 0 0 ... 0 0 0]]\n",
      "2020-12-13 23:28:23,307 [DEBUG] kashgari - predict seq_length: None, input: (2, 82, 35)\n"
     ]
    },
    {
     "name": "stdout",
     "output_type": "stream",
     "text": [
      "3/3 [==============================] - 0s 29ms/step\n"
     ]
    },
    {
     "name": "stderr",
     "output_type": "stream",
     "text": [
      "2020-12-13 23:28:23,457 [DEBUG] kashgari - predict output: (82, 35)\n",
      "2020-12-13 23:28:23,458 [DEBUG] kashgari - predict output argmax: [[0 1 1 ... 1 1 1]\n",
      " [0 1 1 ... 1 1 1]\n",
      " [0 1 1 ... 1 1 1]\n",
      " ...\n",
      " [0 1 1 ... 1 1 1]\n",
      " [0 1 1 ... 1 1 1]\n",
      " [0 0 0 ... 0 0 0]]\n",
      "2020-12-13 23:28:23,462 [DEBUG] kashgari - predict seq_length: None, input: (2, 192, 37)\n"
     ]
    },
    {
     "name": "stdout",
     "output_type": "stream",
     "text": [
      "6/6 [==============================] - 0s 35ms/step\n"
     ]
    },
    {
     "name": "stderr",
     "output_type": "stream",
     "text": [
      "2020-12-13 23:28:23,733 [DEBUG] kashgari - predict output: (192, 37)\n",
      "2020-12-13 23:28:23,734 [DEBUG] kashgari - predict output argmax: [[0 1 1 ... 2 2 2]\n",
      " [0 1 3 ... 1 1 1]\n",
      " [0 1 1 ... 2 2 2]\n",
      " ...\n",
      " [0 1 1 ... 1 1 1]\n",
      " [0 1 1 ... 1 1 1]\n",
      " [0 0 0 ... 0 0 0]]\n",
      "2020-12-13 23:28:23,738 [DEBUG] kashgari - predict seq_length: None, input: (2, 264, 48)\n"
     ]
    },
    {
     "name": "stdout",
     "output_type": "stream",
     "text": [
      "9/9 [==============================] - 0s 52ms/step\n"
     ]
    },
    {
     "name": "stderr",
     "output_type": "stream",
     "text": [
      "2020-12-13 23:28:24,296 [DEBUG] kashgari - predict output: (264, 48)\n",
      "2020-12-13 23:28:24,297 [DEBUG] kashgari - predict output argmax: [[0 1 1 ... 1 1 1]\n",
      " [0 1 1 ... 1 1 1]\n",
      " [0 1 1 ... 1 1 1]\n",
      " ...\n",
      " [0 1 1 ... 1 1 1]\n",
      " [0 1 1 ... 1 1 1]\n",
      " [0 0 0 ... 0 0 0]]\n",
      "2020-12-13 23:28:24,301 [DEBUG] kashgari - predict seq_length: None, input: (2, 247, 43)\n"
     ]
    },
    {
     "name": "stdout",
     "output_type": "stream",
     "text": [
      "8/8 [==============================] - 0s 47ms/step\n"
     ]
    },
    {
     "name": "stderr",
     "output_type": "stream",
     "text": [
      "2020-12-13 23:28:24,754 [DEBUG] kashgari - predict output: (247, 43)\n",
      "2020-12-13 23:28:24,755 [DEBUG] kashgari - predict output argmax: [[0 1 1 ... 1 1 1]\n",
      " [0 1 1 ... 1 1 1]\n",
      " [0 1 1 ... 1 1 1]\n",
      " ...\n",
      " [0 1 1 ... 1 1 1]\n",
      " [0 1 1 ... 1 1 1]\n",
      " [0 0 0 ... 0 0 0]]\n",
      "2020-12-13 23:28:24,757 [DEBUG] kashgari - predict seq_length: None, input: (2, 120, 21)\n"
     ]
    },
    {
     "name": "stdout",
     "output_type": "stream",
     "text": [
      "4/4 [==============================] - 0s 24ms/step\n"
     ]
    },
    {
     "name": "stderr",
     "output_type": "stream",
     "text": [
      "2020-12-13 23:28:24,904 [DEBUG] kashgari - predict output: (120, 21)\n",
      "2020-12-13 23:28:24,905 [DEBUG] kashgari - predict output argmax: [[0 1 1 ... 2 2 2]\n",
      " [0 1 1 ... 1 1 1]\n",
      " [0 3 2 ... 1 1 1]\n",
      " ...\n",
      " [0 1 1 ... 1 1 1]\n",
      " [0 1 1 ... 1 1 1]\n",
      " [0 0 0 ... 0 0 0]]\n",
      "2020-12-13 23:28:24,908 [DEBUG] kashgari - predict seq_length: None, input: (2, 49, 21)\n"
     ]
    },
    {
     "name": "stdout",
     "output_type": "stream",
     "text": [
      "2/2 [==============================] - 0s 15ms/step\n"
     ]
    },
    {
     "name": "stderr",
     "output_type": "stream",
     "text": [
      "2020-12-13 23:28:24,987 [DEBUG] kashgari - predict output: (49, 21)\n",
      "2020-12-13 23:28:24,988 [DEBUG] kashgari - predict output argmax: [[0 1 1 ... 1 1 1]\n",
      " [0 1 1 ... 1 1 1]\n",
      " [0 1 1 ... 1 1 1]\n",
      " ...\n",
      " [0 1 1 ... 1 1 1]\n",
      " [0 1 1 ... 1 1 1]\n",
      " [0 0 0 ... 0 0 0]]\n",
      "2020-12-13 23:28:24,991 [DEBUG] kashgari - predict seq_length: None, input: (2, 104, 32)\n"
     ]
    },
    {
     "name": "stdout",
     "output_type": "stream",
     "text": [
      "4/4 [==============================] - 0s 29ms/step\n"
     ]
    },
    {
     "name": "stderr",
     "output_type": "stream",
     "text": [
      "2020-12-13 23:28:25,173 [DEBUG] kashgari - predict output: (104, 32)\n",
      "2020-12-13 23:28:25,174 [DEBUG] kashgari - predict output argmax: [[0 1 1 ... 1 1 1]\n",
      " [0 1 1 ... 1 1 1]\n",
      " [0 1 1 ... 1 1 1]\n",
      " ...\n",
      " [0 1 1 ... 1 1 1]\n",
      " [0 1 1 ... 1 1 1]\n",
      " [0 0 0 ... 0 0 0]]\n",
      "2020-12-13 23:28:25,179 [DEBUG] kashgari - predict seq_length: None, input: (2, 190, 33)\n"
     ]
    },
    {
     "name": "stdout",
     "output_type": "stream",
     "text": [
      "6/6 [==============================] - 0s 38ms/step\n"
     ]
    },
    {
     "name": "stderr",
     "output_type": "stream",
     "text": [
      "2020-12-13 23:28:25,469 [DEBUG] kashgari - predict output: (190, 33)\n",
      "2020-12-13 23:28:25,469 [DEBUG] kashgari - predict output argmax: [[0 1 1 ... 1 1 1]\n",
      " [0 1 1 ... 1 1 1]\n",
      " [0 1 1 ... 1 1 1]\n",
      " ...\n",
      " [0 1 1 ... 1 1 1]\n",
      " [0 1 1 ... 1 1 1]\n",
      " [0 0 0 ... 0 0 0]]\n",
      "2020-12-13 23:28:25,472 [DEBUG] kashgari - predict seq_length: None, input: (2, 79, 25)\n"
     ]
    },
    {
     "name": "stdout",
     "output_type": "stream",
     "text": [
      "3/3 [==============================] - 0s 23ms/step\n"
     ]
    },
    {
     "name": "stderr",
     "output_type": "stream",
     "text": [
      "2020-12-13 23:28:25,597 [DEBUG] kashgari - predict output: (79, 25)\n",
      "2020-12-13 23:28:25,598 [DEBUG] kashgari - predict output argmax: [[0 1 1 ... 1 1 1]\n",
      " [0 1 1 ... 1 1 1]\n",
      " [0 1 1 ... 1 1 1]\n",
      " ...\n",
      " [0 1 1 ... 1 1 1]\n",
      " [0 1 1 ... 1 1 1]\n",
      " [0 0 0 ... 0 0 0]]\n",
      "2020-12-13 23:28:25,601 [DEBUG] kashgari - predict seq_length: None, input: (2, 162, 39)\n"
     ]
    },
    {
     "name": "stdout",
     "output_type": "stream",
     "text": [
      "6/6 [==============================] - 0s 39ms/step\n"
     ]
    },
    {
     "name": "stderr",
     "output_type": "stream",
     "text": [
      "2020-12-13 23:28:25,909 [DEBUG] kashgari - predict output: (162, 39)\n",
      "2020-12-13 23:28:25,909 [DEBUG] kashgari - predict output argmax: [[0 1 1 ... 1 1 1]\n",
      " [0 1 1 ... 1 1 1]\n",
      " [0 1 1 ... 1 1 1]\n",
      " ...\n",
      " [0 1 1 ... 1 1 1]\n",
      " [0 1 1 ... 1 1 1]\n",
      " [0 0 0 ... 0 0 0]]\n",
      "2020-12-13 23:28:25,912 [DEBUG] kashgari - predict seq_length: None, input: (2, 96, 23)\n"
     ]
    },
    {
     "name": "stdout",
     "output_type": "stream",
     "text": [
      "3/3 [==============================] - 0s 21ms/step\n"
     ]
    },
    {
     "name": "stderr",
     "output_type": "stream",
     "text": [
      "2020-12-13 23:28:26,022 [DEBUG] kashgari - predict output: (96, 23)\n",
      "2020-12-13 23:28:26,023 [DEBUG] kashgari - predict output argmax: [[0 1 1 ... 1 1 1]\n",
      " [0 1 1 ... 1 1 1]\n",
      " [0 1 1 ... 1 1 1]\n",
      " ...\n",
      " [0 1 1 ... 1 1 1]\n",
      " [0 1 1 ... 1 1 1]\n",
      " [0 0 0 ... 0 0 0]]\n",
      "2020-12-13 23:28:26,026 [DEBUG] kashgari - predict seq_length: None, input: (2, 197, 40)\n"
     ]
    },
    {
     "name": "stdout",
     "output_type": "stream",
     "text": [
      "7/7 [==============================] - 0s 41ms/step\n"
     ]
    },
    {
     "name": "stderr",
     "output_type": "stream",
     "text": [
      "2020-12-13 23:28:26,398 [DEBUG] kashgari - predict output: (197, 40)\n",
      "2020-12-13 23:28:26,399 [DEBUG] kashgari - predict output argmax: [[0 1 1 ... 1 1 1]\n",
      " [0 1 1 ... 1 1 1]\n",
      " [0 1 1 ... 1 1 1]\n",
      " ...\n",
      " [0 1 1 ... 1 1 1]\n",
      " [0 1 1 ... 1 1 1]\n",
      " [0 0 0 ... 0 0 0]]\n"
     ]
    }
   ],
   "source": [
    "df = predicting_txt_to_dataframe('/home/Danny/AI-CUP-2020/datasets/stage4/development_2.txt')\n",
    "output_str = \"article_id\\tstart_position\\tend_position\\tentity_text\\tentity_type\\n\"\n",
    "\n",
    "for article_id, text in zip(df['article_id'], df['text']):\n",
    "    x_list = [word for word in text]\n",
    "    y_list = predict_NER(text)\n",
    "    output_str += output_NER(article_id, text, y_list)"
   ]
  },
  {
   "cell_type": "code",
   "execution_count": 28,
   "metadata": {},
   "outputs": [],
   "source": [
    "# print(output_str)"
   ]
  },
  {
   "cell_type": "code",
   "execution_count": 27,
   "metadata": {},
   "outputs": [],
   "source": [
    "output_path = 'output/{}_epoch_{}_batch_{}.tsv'.format(model_name, epochs, batch_size)\n",
    "with open(output_path, 'w', encoding='utf-8') as f:\n",
    "    f.write(output_str)"
   ]
  },
  {
   "cell_type": "code",
   "execution_count": null,
   "metadata": {},
   "outputs": [],
   "source": []
  }
 ],
 "metadata": {
  "kernelspec": {
   "display_name": "Python 3",
   "language": "python",
   "name": "python3"
  },
  "language_info": {
   "codemirror_mode": {
    "name": "ipython",
    "version": 3
   },
   "file_extension": ".py",
   "mimetype": "text/x-python",
   "name": "python",
   "nbconvert_exporter": "python",
   "pygments_lexer": "ipython3",
   "version": "3.6.10"
  }
 },
 "nbformat": 4,
 "nbformat_minor": 4
}
