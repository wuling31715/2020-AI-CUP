{
 "cells": [
  {
   "cell_type": "code",
   "execution_count": 1,
   "metadata": {},
   "outputs": [],
   "source": [
    "from ckiptagger import data_utils, construct_dictionary, WS, POS, NER\n",
    "import os\n",
    "import re\n",
    "import pandas as pd\n",
    "os.environ[\"CUDA_VISIBLE_DEVICES\"] = \"0\""
   ]
  },
  {
   "cell_type": "code",
   "execution_count": 2,
   "metadata": {
    "scrolled": true
   },
   "outputs": [],
   "source": [
    "# data_utils.download_data_gdown(\"./\")"
   ]
  },
  {
   "cell_type": "code",
   "execution_count": 3,
   "metadata": {},
   "outputs": [
    {
     "name": "stdout",
     "output_type": "stream",
     "text": [
      "CPU times: user 7.67 s, sys: 1.42 s, total: 9.08 s\n",
      "Wall time: 9.39 s\n"
     ]
    }
   ],
   "source": [
    "%%time\n",
    "ws = WS(\"./data\", disable_cuda=False)\n",
    "pos = POS(\"./data\", disable_cuda=False)\n",
    "ner = NER(\"./data\", disable_cuda=False)"
   ]
  },
  {
   "cell_type": "code",
   "execution_count": 4,
   "metadata": {},
   "outputs": [],
   "source": [
    "def predicting_txt_to_dataframe(path):    \n",
    "    with open(path, 'r') as f:\n",
    "        txt = str(f.read())\n",
    "        txt_list = txt.split('\\n')\n",
    "    row_list = list()\n",
    "    tmp_list = list()\n",
    "    for row in txt_list:\n",
    "        if row == '--------------------':\n",
    "            tmp_list[0] = tmp_list[0].replace('article_id:', '')\n",
    "            tmp_list[0] = int(tmp_list[0])\n",
    "            row_list.append(tmp_list)\n",
    "            tmp_list = list()\n",
    "            continue\n",
    "        if len(row) > 0:\n",
    "            tmp_list.append(row)\n",
    "    df = pd.DataFrame(row_list, columns=['article_id','text'])\n",
    "    return df"
   ]
  },
  {
   "cell_type": "code",
   "execution_count": 5,
   "metadata": {},
   "outputs": [
    {
     "data": {
      "text/html": [
       "<div>\n",
       "<style scoped>\n",
       "    .dataframe tbody tr th:only-of-type {\n",
       "        vertical-align: middle;\n",
       "    }\n",
       "\n",
       "    .dataframe tbody tr th {\n",
       "        vertical-align: top;\n",
       "    }\n",
       "\n",
       "    .dataframe thead th {\n",
       "        text-align: right;\n",
       "    }\n",
       "</style>\n",
       "<table border=\"1\" class=\"dataframe\">\n",
       "  <thead>\n",
       "    <tr style=\"text-align: right;\">\n",
       "      <th></th>\n",
       "      <th>article_id</th>\n",
       "      <th>text</th>\n",
       "    </tr>\n",
       "  </thead>\n",
       "  <tbody>\n",
       "    <tr>\n",
       "      <th>0</th>\n",
       "      <td>0</td>\n",
       "      <td>醫師：最近人有沒有什麼不舒服？民眾：沒有。醫師：沒有喔。我們本來說要月，年底才打對不對？民眾...</td>\n",
       "    </tr>\n",
       "    <tr>\n",
       "      <th>1</th>\n",
       "      <td>1</td>\n",
       "      <td>醫師：要去上課嗎？民眾：沒有。這學期已經開始不上課了。醫師：啊今天的，呃，應該是昨天的抽血。...</td>\n",
       "    </tr>\n",
       "    <tr>\n",
       "      <th>2</th>\n",
       "      <td>2</td>\n",
       "      <td>醫師：後來那個吃藥沒有問題對不對？民眾：沒有。醫師：诶？你是打針的？民眾：對。醫師：阿身上有...</td>\n",
       "    </tr>\n",
       "    <tr>\n",
       "      <th>3</th>\n",
       "      <td>3</td>\n",
       "      <td>民眾：我自己昨天開始，一天吃一次一粒。醫師：一次一粒，減半量還好？民眾：阿可是……減到今天早...</td>\n",
       "    </tr>\n",
       "    <tr>\n",
       "      <th>4</th>\n",
       "      <td>4</td>\n",
       "      <td>醫師：喔，啊嘉明最近還好嗎？民眾：ＯＫ。醫師：啊今年的流感打了嗎？民眾：還沒。醫師：那我們今...</td>\n",
       "    </tr>\n",
       "    <tr>\n",
       "      <th>...</th>\n",
       "      <td>...</td>\n",
       "      <td>...</td>\n",
       "    </tr>\n",
       "    <tr>\n",
       "      <th>154</th>\n",
       "      <td>154</td>\n",
       "      <td>醫師：這個月還好嗎？民眾：就……醫師：這個月有去碰嗎？民眾：沒有，不去碰的時候就會覺得慾望非...</td>\n",
       "    </tr>\n",
       "    <tr>\n",
       "      <th>155</th>\n",
       "      <td>155</td>\n",
       "      <td>醫師：啊這個月還好嗎？民眾：還好啊。醫師：好，所以你反正天天吃啦齁？民眾：對。醫師：好，我們...</td>\n",
       "    </tr>\n",
       "    <tr>\n",
       "      <th>156</th>\n",
       "      <td>156</td>\n",
       "      <td>醫師：好那所以總之就是好，所以總之反正，總之就是……這這……就是反正你剩下的藥你就是……就是...</td>\n",
       "    </tr>\n",
       "    <tr>\n",
       "      <th>157</th>\n",
       "      <td>157</td>\n",
       "      <td>醫師：好，所以第一個月吃藥的狀況怎麼樣？民眾：嗯，吃藥狀況喔？醫師：嗯。民眾：就是吃了，一開...</td>\n",
       "    </tr>\n",
       "    <tr>\n",
       "      <th>158</th>\n",
       "      <td>158</td>\n",
       "      <td>個管師：你上次有領了啊哈。民眾：我知道啊。個管師：你怎麼就是用後不理了呢？民眾：不是……醫師...</td>\n",
       "    </tr>\n",
       "  </tbody>\n",
       "</table>\n",
       "<p>159 rows × 2 columns</p>\n",
       "</div>"
      ],
      "text/plain": [
       "     article_id                                               text\n",
       "0             0  醫師：最近人有沒有什麼不舒服？民眾：沒有。醫師：沒有喔。我們本來說要月，年底才打對不對？民眾...\n",
       "1             1  醫師：要去上課嗎？民眾：沒有。這學期已經開始不上課了。醫師：啊今天的，呃，應該是昨天的抽血。...\n",
       "2             2  醫師：後來那個吃藥沒有問題對不對？民眾：沒有。醫師：诶？你是打針的？民眾：對。醫師：阿身上有...\n",
       "3             3  民眾：我自己昨天開始，一天吃一次一粒。醫師：一次一粒，減半量還好？民眾：阿可是……減到今天早...\n",
       "4             4  醫師：喔，啊嘉明最近還好嗎？民眾：ＯＫ。醫師：啊今年的流感打了嗎？民眾：還沒。醫師：那我們今...\n",
       "..          ...                                                ...\n",
       "154         154  醫師：這個月還好嗎？民眾：就……醫師：這個月有去碰嗎？民眾：沒有，不去碰的時候就會覺得慾望非...\n",
       "155         155  醫師：啊這個月還好嗎？民眾：還好啊。醫師：好，所以你反正天天吃啦齁？民眾：對。醫師：好，我們...\n",
       "156         156  醫師：好那所以總之就是好，所以總之反正，總之就是……這這……就是反正你剩下的藥你就是……就是...\n",
       "157         157  醫師：好，所以第一個月吃藥的狀況怎麼樣？民眾：嗯，吃藥狀況喔？醫師：嗯。民眾：就是吃了，一開...\n",
       "158         158  個管師：你上次有領了啊哈。民眾：我知道啊。個管師：你怎麼就是用後不理了呢？民眾：不是……醫師...\n",
       "\n",
       "[159 rows x 2 columns]"
      ]
     },
     "execution_count": 5,
     "metadata": {},
     "output_type": "execute_result"
    }
   ],
   "source": [
    "df = predicting_txt_to_dataframe('/home/Danny/AI-CUP-2020/datasets/stage5/test.txt')\n",
    "df"
   ]
  },
  {
   "cell_type": "code",
   "execution_count": 6,
   "metadata": {},
   "outputs": [],
   "source": [
    "sentence_list = df['text'].to_list()"
   ]
  },
  {
   "cell_type": "code",
   "execution_count": 7,
   "metadata": {},
   "outputs": [],
   "source": [
    "# article = '醫師：你有做超音波嘛，那我們來看報告，有些部分有紅字耶。民眾：紅字是甚麼意思？醫師：就是肝功能有比較高，肝功能68，就是這個ALP是68，這樣比較高，正常應是50以下，另外就是你之前說你有B肝，但是你B肝已經好了耶。民眾：它會自動修復阿。醫師：你有抗體了阿，所以你B肝已經沒帶原了耶。民眾：我以前被關的時候，就有在固定驗血，那時候說有B肝。醫師：阿你現在已經有保護的抗體了。但是你現在有C肝。民眾：C肝？醫師：C型肝炎，A、B、C的C型肝炎。這部分你沒有檢查過對不對。民眾：沒有耶，但是一般被關的時候都會驗血，還是他只會驗B肝沒有驗C肝？醫師：一般都會這樣耶。民眾：但是那時候他只跟我說B肝，沒C肝。醫師：那你那是甚麼時候做的檢查？民眾：很久以前了。醫師：我建議這個C肝要檢查一下。民眾：要怎麼檢查？要抽血嗎？醫師：要再做進一步更精密的檢查，看C型肝炎的基因，這樣比較準。然後另外就是我建議你做是因為現在C肝目前有藥物可以治療。民眾：恩對。醫師：你知道嘛，C肝因為有符合歐洲的標準，政府會幫你出錢。民眾：喔～醫師：可以申請看看。民眾：喔～醫師：阿這個是意外發現啦。民眾：喔～醫師：對阿，所以我們就會另外看一下。也許已經好了，假如在測病毒的基因，假如測起來好了，那也沒關係，但你要確定，要再做進一步的檢查確定這樣子。民眾：喔～醫師：阿超音波的話，你說你都是腰側右側這邊會痛嗎？民眾：恩，這邊會痛。他這個有可能是因為我坐骨神經痛，會不會是因為我久沒去復健，才會這樣？醫師：一般都是如果有受傷過或是做工作的話，有受傷過的話，那個脊椎尾骨壓到神經。民眾：喔～那會引起這樣狀況嗎？醫師：他會繞一圈拉，他如果是神經的話。民眾：對，他通常都從後面腰椎右側這邊開始痛起來。醫師：這樣喔。民眾：想說所以真的會這樣影響到嗎？醫師：這邊是坐骨神經耶，上面這邊是脊椎耶。民眾：不是，我本來受傷的時候我走路都會不太能走，然後去復健的時候都會拉開，拉開才比較會好。然後我現在手還會痛。醫師：你腰椎痛跟手痛會有關係嗎？民眾：不知道耶。醫師：因為你這邊是腰椎耶，受傷比較多，然後上面這個地方是胸椎耶。民眾：喔，算是不同這樣就對了喔。醫師：對，那所以胸椎這邊會痛嗎，你會嗎？民眾：不會耶。就是腰椎這邊會刺痛，有時候會，有時候不會，抽痛抽痛這樣。醫師：那看一下超音波影像左邊，這裡是肝臟，然後探頭是放肚子中間這邊。民眾：恩。醫師：看起來也還好，看起來沒有長甚麼。那看其他超音波影像，這邊有看到肌肉，下面這邊就是肝臟，下面旁邊是膽囊，膽囊的地方在這裡。民眾：喔～醫師：所以肝、膽、腎臟應該有照給你看，就是貼在肝臟的下面。民眾：恩。醫師：你有一顆腎臟水瘤。民眾：恩。醫師：這顆，是一個水泡，這是良性的。民眾：喔～這樣就看的出來了喔？醫師：超音波影像這裡看起來就不同，水的話就會看起來就會是黑黑的。民眾：恩。醫師：因為腎臟有水泡，他本來就是過濾的器官，所以長水泡在發育上有的時候就會這樣。民眾：喔～醫師：但是左邊的腎臟反而沒怎樣。然後脾臟在旁邊，在左邊這邊，脾臟的大小是10.78公分，這樣是正常，所以跟脾臟沒關係。民眾：恩。醫師：所以你這些器官看起來是還好。那另外一個器官就是胃，你的胃會怎麼樣嗎？胃會脹脹的還是怎麼樣嗎？民眾：恩，會胃脹脹的。但是我有去過三多路上的胃腸科診所看過，也是給長庚醫院醫師照過，他說是甚麼我也忘記了。醫師：是胃潰瘍嗎？民眾：他說是胃最上面這邊，他說是胃酸最多的地方，他也有幫我照過了，他說沒什麼。醫師：沒怎樣這樣嘛。民眾：我有先去他那邊照，再來這邊。醫師：喔，所以沒有胃潰瘍，所以應該是還好。民眾：這種好像都要吞胃鏡最準，對嗎？醫師：如果要看胃的話，就要照胃鏡去看。如果是胃炎就要看表面啦。民眾：恩。醫師：這個超音波的話是看實體器官，實心的器官啦。但是因為胃是袋狀的器官，所以要用胃鏡去看。民眾：恩。但是我手痛這邊好像不是胃。像是肌肉扭到或是肌肉瘀青，如果拉到或是碰到會痛。醫師：痛會牽到後面嗎？民眾：不會。醫師：只有這個地方會痛而已嗎？民眾：對，就只有這個點會痛而已。醫師：但是你脊椎還沒照過超音波嘛。但是你腰椎這邊是會痠嘛。民眾：對，以前有傷到過，不是撞到，應該是下車的時候，從比較矮的車子出來的時候，要彎下腰出來，就扭到，就是要下車的時候，左腳跨出來，要彎下腰再直起來的時候就會扭到。醫師：這是不是還要再幫你照一下超音波？民眾：應該是不用再照了啦，之前有照過了。醫師：有照過這樣好啦。民眾：重點應該是要復健，但是我很懶得去復健啦。我十天沒去了。醫師：但現在最重要的應該是你的肝的部分，C肝要檢查。民眾：如果沒睡的話，這個指數會升高嗎？醫師：會，如果喝酒、沒睡、工作過度、沒有休息的話，就會這樣子，就指數會比較高一點。民眾：喔～醫師：那我今天就幫你抽好了，驗一下C肝的基因這樣子。民眾：好啊。醫師：然後我開個保肝片給你好不好？民眾：好啊。醫師：好齁。民眾：結果還是要很努力去做復健嘛。這樣還是要看時間去。醫師：對阿，因為還要工作，你做甚麼工作？民眾：我打撲克牌。醫師：打撲克牌？你說真的嗎？民眾：真的阿。醫師：是。民眾：我打撲克牌都會坐整天。醫師：是電腦的那種撲克牌嗎？民眾：不是啦，是人跟人在打的那種。醫師：你開賭場喔？民眾：沒有啦，我們都是朋友約一約，然後跟比較好的老闆約一下來打而已。醫師：沒有，開個玩笑一下而已這樣。民眾：喔～沒有啦。醫師：因為我有個病人是開賭場，他說他很忙。民眾：這樣喔。醫師：那假如真的還有病毒的複合量，就代表體內還有C肝的病毒。我再拜託我同事幫你處理，他可以申請。民眾：因為我以前有吸過海洛英。醫師：哇～民眾：很久以前了。就是因為注射那個才引起肝炎。醫師：對阿，因為大部分C肝都是因為打針引起的。阿你HIV有驗過嗎？民眾：有阿，以前被關的時候都有驗過。醫師：不然等一下也可以順便驗一下，因為我們驗C肝的時候都會順便驗一下。民眾，好啊。醫師：那我們就順便驗一下。民眾：好啊。醫師：但是我們驗這個不用空腹這樣子，等一下就可以直接去抽血了。民眾：好啊。醫師：然後我們之後抽完，回來看一下報告。民眾：報告這麼快出來喔？醫師：對。沒辦法馬上看，因為這個比較精密。民眾：喔，改天來看。醫師：對，改天來看。民眾：好啊，都可以。醫師：這差不多要四五天的作業。民眾：好啊，都可以。醫師：可以啦齁，那我們就3月18號。民眾：下禮拜好了。醫師：下禮拜嗎？那我們3月24日看。民眾：那天假日耶。護理師：3月24醫院有看診。民眾：禮拜二到禮拜四其中一天好了，不要假日，假日沒空。醫師：不然3月31日好了？民眾：好啊。醫師：沒差嘛。民眾：恩，沒關係。因為這個是慢性病比較沒差嘛。醫師：對，他沒有立即性的危險，但是要追蹤啦。民眾：喔～因為C肝現在吃藥都要看病一下。醫師：你有朋友在治療的嗎？民眾：有阿，他都自己自費，好像很貴。醫師：有一些病人會去印度買學名藥，因為印度仿的，效果不錯，但是比原廠藥還要便宜。民眾：好。醫師：那外面稍等一下，等一下給你單子去抽血。民眾：好啊。'\n",
    "# sentence_list = article.split('。')\n",
    "# sentence_list = re.split('\\uff0c|\\u3002|\\uff1f', article)\n",
    "# sentence_list = [article]"
   ]
  },
  {
   "cell_type": "code",
   "execution_count": 8,
   "metadata": {},
   "outputs": [],
   "source": [
    "# word_sentence_list = ws(\n",
    "#     sentence_list,\n",
    "    # sentence_segmentation = True, # To consider delimiters\n",
    "    # segment_delimiter_set = {\",\", \"。\", \":\", \"?\", \"!\", \";\"}), # This is the defualt set of delimiters\n",
    "    # recommend_dictionary = dictionary1, # words in this dictionary are encouraged\n",
    "    # coerce_dictionary = dictionary2, # words in this dictionary are forced\n",
    "# )"
   ]
  },
  {
   "cell_type": "code",
   "execution_count": 9,
   "metadata": {},
   "outputs": [
    {
     "name": "stdout",
     "output_type": "stream",
     "text": [
      "[(2, {'醫師': 1.0})]\n"
     ]
    }
   ],
   "source": [
    "word_to_weight = {\n",
    "    \"醫師\": 1,\n",
    "}\n",
    "dictionary = construct_dictionary(word_to_weight)\n",
    "print(dictionary)"
   ]
  },
  {
   "cell_type": "code",
   "execution_count": 10,
   "metadata": {},
   "outputs": [
    {
     "name": "stdout",
     "output_type": "stream",
     "text": [
      "CPU times: user 3min 32s, sys: 18.4 s, total: 3min 50s\n",
      "Wall time: 1min 38s\n"
     ]
    }
   ],
   "source": [
    "%%time\n",
    "word_sentence_list = ws(\n",
    "    sentence_list,\n",
    "    coerce_dictionary = dictionary\n",
    ")\n",
    "pos_sentence_list = pos(word_sentence_list)\n",
    "entity_sentence_list = ner(word_sentence_list, pos_sentence_list)"
   ]
  },
  {
   "cell_type": "code",
   "execution_count": 11,
   "metadata": {},
   "outputs": [],
   "source": [
    "def get_entity_type(entity_type):\n",
    "    if entity_type == 'DATE':\n",
    "        return 'time'\n",
    "    if entity_type == 'TIME':\n",
    "        return 'time'\n",
    "    if entity_type == 'CARDINAL':\n",
    "        return 'med_exam'\n",
    "    if entity_type == 'QUANTITY':\n",
    "        return 'med_exam'\n",
    "    if entity_type == 'LOC':\n",
    "        return 'location'\n",
    "    if entity_type == 'FAC':\n",
    "        return 'location'\n",
    "    if entity_type == 'GPE':\n",
    "        return 'location'    \n",
    "    if entity_type == 'ORG':\n",
    "        return 'education'\n",
    "    if entity_type == 'MONEY':\n",
    "        return 'money'    \n",
    "    if entity_type == 'PERSON':\n",
    "        return 'name'    "
   ]
  },
  {
   "cell_type": "code",
   "execution_count": 12,
   "metadata": {},
   "outputs": [],
   "source": [
    "with open('ckip.tsv', 'w', encoding='utf-8') as f:\n",
    "    f.write('{}\\t{}\\t{}\\t{}\\t{}\\n'.format('article_id', 'start_position', 'end_position', 'entity_text', 'entity_type'))\n",
    "    for i, sentence in enumerate(sentence_list):\n",
    "        article_id = i\n",
    "        for entity in sorted(entity_sentence_list[i]):\n",
    "            start_position = entity[0]\n",
    "            end_position = entity[1]\n",
    "            entity_text = entity[3]\n",
    "            entity_type = get_entity_type(entity[2])\n",
    "            if entity_type:\n",
    "                row = '{}\\t{}\\t{}\\t{}\\t{}\\n'.format(article_id, start_position, end_position, entity_text, entity_type)\n",
    "                f.write(row)\n",
    "#             else:\n",
    "#                 print(entity)"
   ]
  },
  {
   "cell_type": "code",
   "execution_count": 13,
   "metadata": {},
   "outputs": [
    {
     "data": {
      "text/html": [
       "<div>\n",
       "<style scoped>\n",
       "    .dataframe tbody tr th:only-of-type {\n",
       "        vertical-align: middle;\n",
       "    }\n",
       "\n",
       "    .dataframe tbody tr th {\n",
       "        vertical-align: top;\n",
       "    }\n",
       "\n",
       "    .dataframe thead th {\n",
       "        text-align: right;\n",
       "    }\n",
       "</style>\n",
       "<table border=\"1\" class=\"dataframe\">\n",
       "  <thead>\n",
       "    <tr style=\"text-align: right;\">\n",
       "      <th></th>\n",
       "      <th>article_id</th>\n",
       "      <th>start_position</th>\n",
       "      <th>end_position</th>\n",
       "      <th>entity_text</th>\n",
       "      <th>entity_type</th>\n",
       "    </tr>\n",
       "  </thead>\n",
       "  <tbody>\n",
       "    <tr>\n",
       "      <th>0</th>\n",
       "      <td>0</td>\n",
       "      <td>36</td>\n",
       "      <td>38</td>\n",
       "      <td>年底</td>\n",
       "      <td>time</td>\n",
       "    </tr>\n",
       "    <tr>\n",
       "      <th>1</th>\n",
       "      <td>0</td>\n",
       "      <td>113</td>\n",
       "      <td>115</td>\n",
       "      <td>今天</td>\n",
       "      <td>time</td>\n",
       "    </tr>\n",
       "    <tr>\n",
       "      <th>2</th>\n",
       "      <td>0</td>\n",
       "      <td>227</td>\n",
       "      <td>229</td>\n",
       "      <td>麻豆</td>\n",
       "      <td>location</td>\n",
       "    </tr>\n",
       "    <tr>\n",
       "      <th>3</th>\n",
       "      <td>0</td>\n",
       "      <td>237</td>\n",
       "      <td>239</td>\n",
       "      <td>麻豆</td>\n",
       "      <td>location</td>\n",
       "    </tr>\n",
       "    <tr>\n",
       "      <th>4</th>\n",
       "      <td>0</td>\n",
       "      <td>295</td>\n",
       "      <td>297</td>\n",
       "      <td>今年</td>\n",
       "      <td>time</td>\n",
       "    </tr>\n",
       "    <tr>\n",
       "      <th>...</th>\n",
       "      <td>...</td>\n",
       "      <td>...</td>\n",
       "      <td>...</td>\n",
       "      <td>...</td>\n",
       "      <td>...</td>\n",
       "    </tr>\n",
       "    <tr>\n",
       "      <th>5241</th>\n",
       "      <td>158</td>\n",
       "      <td>1113</td>\n",
       "      <td>1116</td>\n",
       "      <td>下個月</td>\n",
       "      <td>time</td>\n",
       "    </tr>\n",
       "    <tr>\n",
       "      <th>5242</th>\n",
       "      <td>158</td>\n",
       "      <td>1143</td>\n",
       "      <td>1145</td>\n",
       "      <td>今天</td>\n",
       "      <td>time</td>\n",
       "    </tr>\n",
       "    <tr>\n",
       "      <th>5243</th>\n",
       "      <td>158</td>\n",
       "      <td>1199</td>\n",
       "      <td>1201</td>\n",
       "      <td>小安</td>\n",
       "      <td>name</td>\n",
       "    </tr>\n",
       "    <tr>\n",
       "      <th>5244</th>\n",
       "      <td>158</td>\n",
       "      <td>1353</td>\n",
       "      <td>1355</td>\n",
       "      <td>今天</td>\n",
       "      <td>time</td>\n",
       "    </tr>\n",
       "    <tr>\n",
       "      <th>5245</th>\n",
       "      <td>158</td>\n",
       "      <td>1489</td>\n",
       "      <td>1491</td>\n",
       "      <td>明年</td>\n",
       "      <td>time</td>\n",
       "    </tr>\n",
       "  </tbody>\n",
       "</table>\n",
       "<p>5246 rows × 5 columns</p>\n",
       "</div>"
      ],
      "text/plain": [
       "      article_id  start_position  end_position entity_text entity_type\n",
       "0              0              36            38          年底        time\n",
       "1              0             113           115          今天        time\n",
       "2              0             227           229          麻豆    location\n",
       "3              0             237           239          麻豆    location\n",
       "4              0             295           297          今年        time\n",
       "...          ...             ...           ...         ...         ...\n",
       "5241         158            1113          1116         下個月        time\n",
       "5242         158            1143          1145          今天        time\n",
       "5243         158            1199          1201          小安        name\n",
       "5244         158            1353          1355          今天        time\n",
       "5245         158            1489          1491          明年        time\n",
       "\n",
       "[5246 rows x 5 columns]"
      ]
     },
     "execution_count": 13,
     "metadata": {},
     "output_type": "execute_result"
    }
   ],
   "source": [
    "df = pd.read_csv('ckip.tsv', sep='\\t')\n",
    "df"
   ]
  },
  {
   "cell_type": "code",
   "execution_count": 14,
   "metadata": {},
   "outputs": [],
   "source": [
    "time = df[df['entity_type'] == 'time'][['entity_text']]\n",
    "time = time.drop_duplicates()\n",
    "time.to_csv('ckip_time.csv', index=False)"
   ]
  },
  {
   "cell_type": "code",
   "execution_count": 15,
   "metadata": {},
   "outputs": [],
   "source": [
    "location = df[df['entity_type'] == 'location'][['entity_text']]\n",
    "location = location.drop_duplicates()\n",
    "location.to_csv('ckip_location.csv', index=False)"
   ]
  },
  {
   "cell_type": "code",
   "execution_count": 16,
   "metadata": {},
   "outputs": [],
   "source": [
    "education = df[df['entity_type'] == 'education'][['entity_text']]\n",
    "education = education.drop_duplicates()\n",
    "education.to_csv('ckip_education.csv', index=False)"
   ]
  },
  {
   "cell_type": "code",
   "execution_count": 17,
   "metadata": {},
   "outputs": [],
   "source": [
    "money = df[df['entity_type'] == 'money'][['entity_text']]\n",
    "money = money.drop_duplicates()\n",
    "money.to_csv('ckip_money.csv', index=False)"
   ]
  },
  {
   "cell_type": "code",
   "execution_count": 18,
   "metadata": {},
   "outputs": [],
   "source": [
    "med_exam = df[df['entity_type'] == 'med_exam'][['entity_text']]\n",
    "med_exam = med_exam.drop_duplicates()\n",
    "med_exam.to_csv('ckip_med_exam.csv', index=False)"
   ]
  },
  {
   "cell_type": "code",
   "execution_count": 19,
   "metadata": {},
   "outputs": [],
   "source": [
    "name = df[df['entity_type'] == 'name'][['entity_text']]\n",
    "name = name.drop_duplicates()\n",
    "name.to_csv('ckip_name.csv', index=False)"
   ]
  },
  {
   "cell_type": "code",
   "execution_count": null,
   "metadata": {},
   "outputs": [],
   "source": []
  }
 ],
 "metadata": {
  "kernelspec": {
   "display_name": "Python 3",
   "language": "python",
   "name": "python3"
  },
  "language_info": {
   "codemirror_mode": {
    "name": "ipython",
    "version": 3
   },
   "file_extension": ".py",
   "mimetype": "text/x-python",
   "name": "python",
   "nbconvert_exporter": "python",
   "pygments_lexer": "ipython3",
   "version": "3.6.10"
  }
 },
 "nbformat": 4,
 "nbformat_minor": 4
}
