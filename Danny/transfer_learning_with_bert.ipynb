{
 "cells": [
  {
   "cell_type": "code",
   "execution_count": 1,
   "metadata": {},
   "outputs": [],
   "source": [
    "def txt_to_list(path):\n",
    "    with open(path, 'r') as f:\n",
    "        txt = str(f.read())\n",
    "    txt_list = txt.split('\\n')\n",
    "    text_label_list = list()\n",
    "    tmp = list()\n",
    "    for line in txt_list:\n",
    "        if line == '--------------------':\n",
    "            text_label_list.append(tmp)\n",
    "            tmp = list()\n",
    "            continue\n",
    "        if line == '':\n",
    "            continue\n",
    "        tmp.append(line)\n",
    "    x = list()\n",
    "    y = list()\n",
    "    for text_label in text_label_list:\n",
    "        text = text_label[0]\n",
    "        text_list = list()\n",
    "        for i in text:\n",
    "            text_list.append(i)\n",
    "        label = text_label[2:]\n",
    "        label_list = ['O' for i in range(len(text_list))]\n",
    "        for i in label:\n",
    "            entity = i.split('\\t')\n",
    "            b = int(entity[1])\n",
    "            label_list[b] = 'B-{}'.format(entity[-1])\n",
    "            for j in range(int(entity[1])+1, int(entity[2])):\n",
    "                label_list[j] = 'I-{}'.format(entity[-1])\n",
    "        x.append(text_list)\n",
    "        y.append(label_list)\n",
    "    return [x, y]"
   ]
  },
  {
   "cell_type": "code",
   "execution_count": 2,
   "metadata": {},
   "outputs": [],
   "source": [
    "x1, y1 = txt_to_list('../datasets/stage1/SampleData_deid.txt')"
   ]
  },
  {
   "cell_type": "code",
   "execution_count": 3,
   "metadata": {},
   "outputs": [],
   "source": [
    "x2, y2 = txt_to_list('../datasets/stage2/train_1_update.txt')"
   ]
  },
  {
   "cell_type": "code",
   "execution_count": 4,
   "metadata": {},
   "outputs": [],
   "source": [
    "x4, y4 = txt_to_list('../datasets/stage4/train_2.txt')"
   ]
  },
  {
   "cell_type": "code",
   "execution_count": 5,
   "metadata": {},
   "outputs": [
    {
     "data": {
      "text/plain": [
       "346"
      ]
     },
     "execution_count": 5,
     "metadata": {},
     "output_type": "execute_result"
    }
   ],
   "source": [
    "x = x1 + x2 + x4\n",
    "len(x)"
   ]
  },
  {
   "cell_type": "code",
   "execution_count": 6,
   "metadata": {},
   "outputs": [
    {
     "data": {
      "text/plain": [
       "346"
      ]
     },
     "execution_count": 6,
     "metadata": {},
     "output_type": "execute_result"
    }
   ],
   "source": [
    "y = y1 + y2 + y4\n",
    "len(y)"
   ]
  },
  {
   "cell_type": "code",
   "execution_count": 7,
   "metadata": {},
   "outputs": [
    {
     "name": "stdout",
     "output_type": "stream",
     "text": [
      "220 220\n",
      "56 56\n",
      "70 70\n"
     ]
    }
   ],
   "source": [
    "from sklearn.model_selection import train_test_split\n",
    "train_x, test_x, train_y, test_y = train_test_split(x, y, test_size=0.2, random_state=42)\n",
    "train_x, valid_x, train_y, valid_y = train_test_split(train_x, train_y, test_size=0.2, random_state=42)\n",
    "print(len(train_x), len(train_y))\n",
    "print(len(valid_x), len(valid_y))\n",
    "print(len(test_x), len(test_y))"
   ]
  },
  {
   "cell_type": "code",
   "execution_count": 14,
   "metadata": {},
   "outputs": [
    {
     "name": "stderr",
     "output_type": "stream",
     "text": [
      "WARNING:root:CuDNN enabled, this will speed up the training, but will make model incompatible with CPU device.\n",
      "WARNING:root:Sequence length will auto set at 95% of sequence length\n"
     ]
    },
    {
     "name": "stdout",
     "output_type": "stream",
     "text": [
      "Model: \"model_5\"\n",
      "_________________________________________________________________\n",
      "Layer (type)                 Output Shape              Param #   \n",
      "=================================================================\n",
      "input (InputLayer)           [(None, 4211)]            0         \n",
      "_________________________________________________________________\n",
      "layer_embedding (Embedding)  (None, 4211, 100)         172400    \n",
      "_________________________________________________________________\n",
      "layer_blstm (Bidirectional)  (None, 4211, 256)         235520    \n",
      "_________________________________________________________________\n",
      "layer_dropout (Dropout)      (None, 4211, 256)         0         \n",
      "_________________________________________________________________\n",
      "layer_time_distributed (Time (None, 4211, 28)          7196      \n",
      "_________________________________________________________________\n",
      "activation_2 (Activation)    (None, 4211, 28)          0         \n",
      "=================================================================\n",
      "Total params: 415,116\n",
      "Trainable params: 415,116\n",
      "Non-trainable params: 0\n",
      "_________________________________________________________________\n",
      "Epoch 1/10\n",
      "4/4 [==============================] - 3s 630ms/step - loss: 3.2292 - acc: 0.6014 - val_loss: 2.9713 - val_acc: 0.8515\n",
      "Epoch 2/10\n",
      "4/4 [==============================] - 1s 320ms/step - loss: 2.6094 - acc: 0.6765 - val_loss: 1.5541 - val_acc: 0.5058\n",
      "Epoch 3/10\n",
      "4/4 [==============================] - 1s 321ms/step - loss: 1.3647 - acc: 0.5150 - val_loss: 0.8616 - val_acc: 0.5085\n",
      "Epoch 4/10\n",
      "4/4 [==============================] - 1s 325ms/step - loss: 0.7576 - acc: 0.7246 - val_loss: 0.5801 - val_acc: 0.9851\n",
      "Epoch 5/10\n",
      "4/4 [==============================] - 1s 322ms/step - loss: 0.4719 - acc: 0.8999 - val_loss: 0.3200 - val_acc: 0.9834\n",
      "Epoch 6/10\n",
      "4/4 [==============================] - 1s 320ms/step - loss: 0.2845 - acc: 0.9714 - val_loss: 0.1615 - val_acc: 0.9841\n",
      "Epoch 7/10\n",
      "4/4 [==============================] - 1s 323ms/step - loss: 0.1529 - acc: 0.9844 - val_loss: 0.1190 - val_acc: 0.9842\n",
      "Epoch 8/10\n",
      "4/4 [==============================] - 1s 327ms/step - loss: 0.1160 - acc: 0.9846 - val_loss: 0.1091 - val_acc: 0.9836\n",
      "Epoch 9/10\n",
      "4/4 [==============================] - 1s 323ms/step - loss: 0.1084 - acc: 0.9841 - val_loss: 0.1053 - val_acc: 0.9833\n",
      "Epoch 10/10\n",
      "4/4 [==============================] - 1s 323ms/step - loss: 0.1030 - acc: 0.9841 - val_loss: 0.1018 - val_acc: 0.9835\n",
      "              precision    recall  f1-score   support\n",
      "\n",
      "       money     0.0000    0.0000    0.0000        38\n",
      "        time     0.0000    0.0000    0.0000       794\n",
      "    med_exam     0.0000    0.0000    0.0000       170\n",
      "    location     0.0000    0.0000    0.0000        87\n",
      "        name     0.0000    0.0000    0.0000        93\n",
      "      family     0.0000    0.0000    0.0000        31\n",
      "  profession     0.0000    0.0000    0.0000        14\n",
      "   education     0.0000    0.0000    0.0000         2\n",
      "     contact     0.0000    0.0000    0.0000        18\n",
      "          ID     0.0000    0.0000    0.0000         6\n",
      "organization     0.0000    0.0000    0.0000         1\n",
      "\n",
      "   micro avg     0.0000    0.0000    0.0000      1254\n",
      "   macro avg     0.0000    0.0000    0.0000      1254\n",
      "\n"
     ]
    }
   ],
   "source": [
    "import kashgari\n",
    "kashgari.config.use_cudnn_cell = True\n",
    "from kashgari.tasks.labeling.models import BiLSTM_Model\n",
    "\n",
    "model = BiLSTM_Model()\n",
    "model.fit(train_x,\n",
    "          train_y,\n",
    "          valid_x,\n",
    "          valid_y,\n",
    "          epochs=10)\n",
    "model.evaluate(test_x, test_y)\n",
    "model.save('model/BiLSTM')"
   ]
  },
  {
   "cell_type": "code",
   "execution_count": 19,
   "metadata": {},
   "outputs": [],
   "source": [
    "# loaded_model = kashgari.utils.load_model('model/BiLSTM')\n",
    "# loaded_model.predict(test_x)[0]"
   ]
  },
  {
   "cell_type": "code",
   "execution_count": 16,
   "metadata": {},
   "outputs": [
    {
     "name": "stderr",
     "output_type": "stream",
     "text": [
      "WARNING:root:Sequence length will auto set at 95% of sequence length\n",
      "WARNING:root:Model will be built until sequence length is determined\n",
      "WARNING:root:Sequence length will auto set at 95% of sequence length\n"
     ]
    },
    {
     "name": "stdout",
     "output_type": "stream",
     "text": [
      "Model: \"model_7\"\n",
      "_________________________________________________________________\n",
      "Layer (type)                 Output Shape              Param #   \n",
      "=================================================================\n",
      "input (InputLayer)           [(None, 4211)]            0         \n",
      "_________________________________________________________________\n",
      "layer_embedding (Embedding)  (None, 4211, 100)         172400    \n",
      "_________________________________________________________________\n",
      "layer_blstm (Bidirectional)  (None, 4211, 256)         235520    \n",
      "_________________________________________________________________\n",
      "layer_dropout (Dropout)      (None, 4211, 256)         0         \n",
      "_________________________________________________________________\n",
      "layer_time_distributed (Time (None, 4211, 28)          7196      \n",
      "_________________________________________________________________\n",
      "activation_3 (Activation)    (None, 4211, 28)          0         \n",
      "=================================================================\n",
      "Total params: 415,116\n",
      "Trainable params: 415,116\n",
      "Non-trainable params: 0\n",
      "_________________________________________________________________\n",
      "Epoch 1/10\n",
      "4/4 [==============================] - 3s 675ms/step - loss: 3.2221 - acc: 0.6336 - val_loss: 2.9804 - val_acc: 0.9775\n",
      "Epoch 2/10\n",
      "4/4 [==============================] - 1s 318ms/step - loss: 2.6510 - acc: 0.8835 - val_loss: 1.6218 - val_acc: 0.5058\n",
      "Epoch 3/10\n",
      "4/4 [==============================] - 1s 329ms/step - loss: 1.1855 - acc: 0.5290 - val_loss: 0.6260 - val_acc: 0.5115\n",
      "Epoch 4/10\n",
      "4/4 [==============================] - 1s 328ms/step - loss: 0.6735 - acc: 0.6932 - val_loss: 0.5043 - val_acc: 0.9863\n",
      "Epoch 5/10\n",
      "4/4 [==============================] - 1s 322ms/step - loss: 0.4329 - acc: 0.8980 - val_loss: 0.2712 - val_acc: 0.9789\n",
      "Epoch 6/10\n",
      "4/4 [==============================] - 1s 325ms/step - loss: 0.2434 - acc: 0.9762 - val_loss: 0.1589 - val_acc: 0.9800\n",
      "Epoch 7/10\n",
      "4/4 [==============================] - 1s 339ms/step - loss: 0.1502 - acc: 0.9807 - val_loss: 0.1302 - val_acc: 0.9806\n",
      "Epoch 8/10\n",
      "4/4 [==============================] - 1s 324ms/step - loss: 0.1300 - acc: 0.9813 - val_loss: 0.1230 - val_acc: 0.9812\n",
      "Epoch 9/10\n",
      "4/4 [==============================] - 1s 322ms/step - loss: 0.1245 - acc: 0.9820 - val_loss: 0.1151 - val_acc: 0.9819\n",
      "Epoch 10/10\n",
      "4/4 [==============================] - 1s 328ms/step - loss: 0.1118 - acc: 0.9829 - val_loss: 0.1069 - val_acc: 0.9829\n",
      "              precision    recall  f1-score   support\n",
      "\n",
      "       money     0.0000    0.0000    0.0000        38\n",
      "        time     0.0000    0.0000    0.0000       794\n",
      "    med_exam     0.0000    0.0000    0.0000       170\n",
      "    location     0.0000    0.0000    0.0000        87\n",
      "        name     0.0000    0.0000    0.0000        93\n",
      "      family     0.0000    0.0000    0.0000        31\n",
      "  profession     0.0000    0.0000    0.0000        14\n",
      "   education     0.0000    0.0000    0.0000         2\n",
      "     contact     0.0000    0.0000    0.0000        18\n",
      "          ID     0.0000    0.0000    0.0000         6\n",
      "organization     0.0000    0.0000    0.0000         1\n",
      "\n",
      "   micro avg     0.0000    0.0000    0.0000      1254\n",
      "   macro avg     0.0000    0.0000    0.0000      1254\n",
      "\n"
     ]
    }
   ],
   "source": [
    "import kashgari\n",
    "from kashgari.tasks.labeling import BiLSTM_Model\n",
    "from kashgari.embeddings import BERTEmbedding\n",
    "\n",
    "bert_embed = BERTEmbedding('chinese_L-12_H-768_A-12',\n",
    "                           task=kashgari.LABELING)\n",
    "model = BiLSTM_Model(bert_embed)\n",
    "model = BiLSTM_Model()\n",
    "model.fit(train_x,\n",
    "          train_y,\n",
    "          valid_x,\n",
    "          valid_y,\n",
    "          epochs=10)\n",
    "model.evaluate(test_x, test_y)\n",
    "model.save('model/BERT_BiLSTM')"
   ]
  },
  {
   "cell_type": "code",
   "execution_count": 20,
   "metadata": {},
   "outputs": [],
   "source": [
    "# loaded_model = kashgari.utils.load_model('model/BERT_BiLSTM')\n",
    "# loaded_model.predict(test_x)[0]"
   ]
  },
  {
   "cell_type": "code",
   "execution_count": null,
   "metadata": {},
   "outputs": [],
   "source": []
  }
 ],
 "metadata": {
  "kernelspec": {
   "display_name": "Python 3",
   "language": "python",
   "name": "python3"
  },
  "language_info": {
   "codemirror_mode": {
    "name": "ipython",
    "version": 3
   },
   "file_extension": ".py",
   "mimetype": "text/x-python",
   "name": "python",
   "nbconvert_exporter": "python",
   "pygments_lexer": "ipython3",
   "version": "3.6.10"
  }
 },
 "nbformat": 4,
 "nbformat_minor": 4
}
