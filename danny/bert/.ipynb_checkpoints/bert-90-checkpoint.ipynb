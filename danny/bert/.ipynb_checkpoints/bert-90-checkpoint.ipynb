{
 "cells": [
  {
   "cell_type": "code",
   "execution_count": 1,
   "metadata": {},
   "outputs": [],
   "source": [
    "import re\n",
    "import pandas as pd\n",
    "import tensorflow as tf\n",
    "from matplotlib import pyplot as plt"
   ]
  },
  {
   "cell_type": "code",
   "execution_count": 2,
   "metadata": {},
   "outputs": [],
   "source": [
    "def select_gpu(N):\n",
    "    gpus = tf.config.experimental.list_physical_devices('GPU')\n",
    "    print(gpus)\n",
    "    if gpus:\n",
    "        try:\n",
    "            for gpu in gpus:\n",
    "                tf.config.experimental.set_memory_growth(gpu, True)\n",
    "            tf.config.experimental.set_visible_devices(gpus[N], 'GPU')\n",
    "            logical_gpus = tf.config.experimental.list_logical_devices('GPU')\n",
    "            print(len(gpus), \"Physical GPUs,\", len(logical_gpus), \"Logical GPUs\")\n",
    "        except RuntimeError as e:\n",
    "            print(e)    "
   ]
  },
  {
   "cell_type": "code",
   "execution_count": 3,
   "metadata": {},
   "outputs": [
    {
     "name": "stdout",
     "output_type": "stream",
     "text": [
      "[PhysicalDevice(name='/physical_device:GPU:0', device_type='GPU'), PhysicalDevice(name='/physical_device:GPU:1', device_type='GPU'), PhysicalDevice(name='/physical_device:GPU:2', device_type='GPU')]\n",
      "3 Physical GPUs, 1 Logical GPUs\n"
     ]
    }
   ],
   "source": [
    "select_gpu(1)\n",
    "epochs = 80\n",
    "batch_size = 512\n",
    "model_name = 'bert-chinese'\n",
    "embedding_path = '/home/Danny/pretrain_model/{}'.format(model_name)"
   ]
  },
  {
   "cell_type": "code",
   "execution_count": 4,
   "metadata": {},
   "outputs": [],
   "source": [
    "# 不用儲存article_id, 轉成list\n",
    "def training_txt_to_list(path):\n",
    "    with open(path, 'r') as f:\n",
    "        txt = str(f.read())\n",
    "    txt_list = txt.split('\\n')\n",
    "    text_label_list = list()\n",
    "    tmp = list()\n",
    "    for line in txt_list:\n",
    "        if line == '--------------------':\n",
    "            text_label_list.append(tmp)\n",
    "            tmp = list()\n",
    "            continue\n",
    "        if line == '':\n",
    "            continue\n",
    "        tmp.append(line)\n",
    "    x = list()\n",
    "    y = list()\n",
    "    for text_label in text_label_list:\n",
    "        text = text_label[0]\n",
    "        label = text_label[2:]\n",
    "        label_list = ['O' for i in range(len(text))]\n",
    "        for i in label:\n",
    "            entity = i.split('\\t')\n",
    "            if int(entity[1]) > int(entity[2]):\n",
    "                continue\n",
    "            b = int(entity[1])\n",
    "            label_list[b] = 'B-{}'.format(entity[-1])\n",
    "            for j in range(int(entity[1])+1, int(entity[2])):\n",
    "                label_list[j] = 'I-{}'.format(entity[-1])\n",
    "        for i, j in enumerate(text):\n",
    "            if j == '，' or j == '。' or j == '？':\n",
    "                label_list[i] = j\n",
    "                \n",
    "        text_list = re.split('\\uff0c|\\u3002|\\uff1f', text)\n",
    "        for sentence in text_list:\n",
    "            x.append([i for i in sentence])\n",
    "            \n",
    "        tmp = list()\n",
    "        for i in label_list:\n",
    "            if i == '，' or i == '。' or i == '？':\n",
    "                y.append(tmp)\n",
    "                tmp = list()\n",
    "            else:\n",
    "                tmp.append(i)\n",
    "        y.append(label_list)\n",
    "    return [x, y]"
   ]
  },
  {
   "cell_type": "code",
   "execution_count": 5,
   "metadata": {},
   "outputs": [],
   "source": [
    "# 需要儲存article_id, 轉成dataframe\n",
    "def predicting_txt_to_dataframe(path):    \n",
    "    with open(path, 'r') as f:\n",
    "        txt = str(f.read())\n",
    "        txt_list = txt.split('\\n')\n",
    "    row_list = list()\n",
    "    tmp_list = list()\n",
    "    for row in txt_list:\n",
    "        if row == '--------------------':\n",
    "            tmp_list[0] = tmp_list[0].replace('article_id:', '')\n",
    "            tmp_list[0] = int(tmp_list[0])\n",
    "            row_list.append(tmp_list)\n",
    "            tmp_list = list()\n",
    "            continue\n",
    "        if len(row) > 0:\n",
    "            tmp_list.append(row)\n",
    "    df = pd.DataFrame(row_list, columns=['article_id','text'])\n",
    "    return df"
   ]
  },
  {
   "cell_type": "code",
   "execution_count": 6,
   "metadata": {},
   "outputs": [],
   "source": [
    "def predict_NER(text):\n",
    "    x_list = list()    \n",
    "    text_list = re.split('\\uff0c|\\u3002|\\uff1f', text)\n",
    "    for article in text_list:\n",
    "        x_list.append([i for i in article])\n",
    "    y_list_list = model.predict(x_list)\n",
    "    y_list = list()\n",
    "    for sentence in y_list_list:\n",
    "        for word in sentence:\n",
    "            y_list.append(word)\n",
    "        y_list.append('O') # append(，。？)\n",
    "    y_list = y_list[:-1]\n",
    "    return y_list"
   ]
  },
  {
   "cell_type": "code",
   "execution_count": 7,
   "metadata": {},
   "outputs": [],
   "source": [
    "def output_NER(article_id, text, y_list):\n",
    "    output_str = str()\n",
    "    flag = False\n",
    "    for i, j in enumerate(y_list):\n",
    "        if j != 'O':\n",
    "            if j[0] == 'B':\n",
    "                start_position = i\n",
    "                entity_type = j.split('-')[-1]\n",
    "                flag = True\n",
    "        elif j == 'O' and flag == True:\n",
    "            end_position = i\n",
    "            flag = False\n",
    "            entity_text = text[start_position: end_position]\n",
    "            entity = '{}\\t{}\\t{}\\t{}\\t{}\\n'.format(article_id, start_position, end_position, entity_text, entity_type)  \n",
    "            output_str += entity\n",
    "    return output_str"
   ]
  },
  {
   "cell_type": "code",
   "execution_count": 8,
   "metadata": {},
   "outputs": [],
   "source": [
    "x1, y1 = training_txt_to_list('/home/Danny/AI-CUP-2020/datasets/stage1/SampleData_deid.txt')"
   ]
  },
  {
   "cell_type": "code",
   "execution_count": 9,
   "metadata": {},
   "outputs": [],
   "source": [
    "x2, y2 = training_txt_to_list('/home/Danny/AI-CUP-2020/datasets/stage2/train_1_update.txt')"
   ]
  },
  {
   "cell_type": "code",
   "execution_count": 10,
   "metadata": {},
   "outputs": [],
   "source": [
    "x4, y4 = training_txt_to_list('/home/Danny/AI-CUP-2020/datasets/stage4/train_2.txt')"
   ]
  },
  {
   "cell_type": "code",
   "execution_count": 11,
   "metadata": {},
   "outputs": [
    {
     "name": "stdout",
     "output_type": "stream",
     "text": [
      "76508\n",
      "76508\n"
     ]
    }
   ],
   "source": [
    "x = x1 + x2 + x4\n",
    "y = y1 + y2 + y4\n",
    "print(len(x))\n",
    "print(len(y))"
   ]
  },
  {
   "cell_type": "code",
   "execution_count": 12,
   "metadata": {},
   "outputs": [
    {
     "name": "stdout",
     "output_type": "stream",
     "text": [
      "48964 48964\n",
      "12242 12242\n",
      "15302 15302\n"
     ]
    }
   ],
   "source": [
    "from sklearn.model_selection import train_test_split\n",
    "train_x, test_x, train_y, test_y = train_test_split(x, y, test_size=0.2, random_state=42)\n",
    "train_x, valid_x, train_y, valid_y = train_test_split(train_x, train_y, test_size=0.2, random_state=42)\n",
    "print(len(train_x), len(train_y))\n",
    "print(len(valid_x), len(valid_y))\n",
    "print(len(test_x), len(test_y))"
   ]
  },
  {
   "cell_type": "code",
   "execution_count": 13,
   "metadata": {},
   "outputs": [
    {
     "name": "stderr",
     "output_type": "stream",
     "text": [
      "2020-12-12 12:56:11,398 [DEBUG] kashgari - ------------------------------------------------\n",
      "2020-12-12 12:56:11,398 [DEBUG] kashgari - Loaded transformer model's vocab\n",
      "2020-12-12 12:56:11,399 [DEBUG] kashgari - config_path       : /home/Danny/pretrain_model/bert-chinese/bert_config.json\n",
      "2020-12-12 12:56:11,399 [DEBUG] kashgari - vocab_path      : /home/Danny/pretrain_model/bert-chinese/vocab.txt\n",
      "2020-12-12 12:56:11,399 [DEBUG] kashgari - checkpoint_path : /home/Danny/pretrain_model/bert-chinese/bert_model.ckpt\n",
      "2020-12-12 12:56:11,400 [DEBUG] kashgari - Top 50 words    : ['[PAD]', '[unused1]', '[unused2]', '[unused3]', '[unused4]', '[unused5]', '[unused6]', '[unused7]', '[unused8]', '[unused9]', '[unused10]', '[unused11]', '[unused12]', '[unused13]', '[unused14]', '[unused15]', '[unused16]', '[unused17]', '[unused18]', '[unused19]', '[unused20]', '[unused21]', '[unused22]', '[unused23]', '[unused24]', '[unused25]', '[unused26]', '[unused27]', '[unused28]', '[unused29]', '[unused30]', '[unused31]', '[unused32]', '[unused33]', '[unused34]', '[unused35]', '[unused36]', '[unused37]', '[unused38]', '[unused39]', '[unused40]', '[unused41]', '[unused42]', '[unused43]', '[unused44]', '[unused45]', '[unused46]', '[unused47]', '[unused48]', '[unused49]']\n",
      "2020-12-12 12:56:11,400 [DEBUG] kashgari - ------------------------------------------------\n",
      "Preparing text vocab dict: 100%|██████████| 48964/48964 [00:00<00:00, 484165.43it/s]\n",
      "Preparing text vocab dict: 100%|██████████| 12242/12242 [00:00<00:00, 497424.75it/s]\n",
      "2020-12-12 12:56:11,531 [DEBUG] kashgari - --- Build vocab dict finished, Total: 1738 ---\n",
      "2020-12-12 12:56:11,532 [DEBUG] kashgari - Top-10: ['[PAD]', '[UNK]', '[CLS]', '[SEP]', '：', '師', '是', '民', '眾', '醫']\n",
      "Preparing text vocab dict: 100%|██████████| 48964/48964 [00:00<00:00, 379053.23it/s]\n",
      "Preparing text vocab dict: 100%|██████████| 12242/12242 [00:00<00:00, 438051.71it/s]\n",
      "2020-12-12 12:56:11,692 [DEBUG] kashgari - --- Build vocab dict finished, Total: 31 ---\n",
      "2020-12-12 12:56:11,692 [DEBUG] kashgari - Top-10: ['[PAD]', 'O', '。', '，', 'I-time', '？', 'B-time', 'I-med_exam', 'I-name', 'I-location']\n",
      "Calculating sequence length: 100%|██████████| 48964/48964 [00:00<00:00, 1939757.65it/s]\n",
      "Calculating sequence length: 100%|██████████| 12242/12242 [00:00<00:00, 1954500.00it/s]\n",
      "2020-12-12 12:56:14,183 [DEBUG] kashgari - Calculated sequence length = 19\n",
      "2020-12-12 12:56:15,720 [DEBUG] kashgari - fit input shape: (2, 512, 19)\n",
      "2020-12-12 12:56:15,720 [DEBUG] kashgari - fit input shape: (512, 19)\n"
     ]
    },
    {
     "name": "stdout",
     "output_type": "stream",
     "text": [
      "Epoch 1/80\n",
      "95/95 [==============================] - 36s 384ms/step - loss: 1.2067 - accuracy: 0.9500 - val_loss: 25.8592 - val_accuracy: 0.9819\n",
      "Epoch 2/80\n",
      "95/95 [==============================] - 34s 353ms/step - loss: 0.3172 - accuracy: 0.9818 - val_loss: 25.6907 - val_accuracy: 0.9861\n",
      "Epoch 3/80\n",
      "95/95 [==============================] - 34s 355ms/step - loss: 0.2285 - accuracy: 0.9858 - val_loss: 25.5865 - val_accuracy: 0.9884\n",
      "Epoch 4/80\n",
      "95/95 [==============================] - 34s 357ms/step - loss: 0.1875 - accuracy: 0.9877 - val_loss: 25.4955 - val_accuracy: 0.9894\n",
      "Epoch 5/80\n",
      "95/95 [==============================] - 34s 357ms/step - loss: 0.1642 - accuracy: 0.9890 - val_loss: 25.4143 - val_accuracy: 0.9899\n",
      "Epoch 6/80\n",
      "95/95 [==============================] - 34s 358ms/step - loss: 0.1463 - accuracy: 0.9899 - val_loss: 25.2527 - val_accuracy: 0.9902\n",
      "Epoch 7/80\n",
      "95/95 [==============================] - 34s 358ms/step - loss: 0.1320 - accuracy: 0.9907 - val_loss: 25.2087 - val_accuracy: 0.9908\n",
      "Epoch 8/80\n",
      "95/95 [==============================] - 34s 359ms/step - loss: 0.1176 - accuracy: 0.9915 - val_loss: 25.1025 - val_accuracy: 0.9885\n",
      "Epoch 9/80\n",
      "95/95 [==============================] - 34s 360ms/step - loss: 0.1059 - accuracy: 0.9920 - val_loss: 25.0593 - val_accuracy: 0.9884\n",
      "Epoch 10/80\n",
      "95/95 [==============================] - 34s 360ms/step - loss: 0.0969 - accuracy: 0.9928 - val_loss: 24.9635 - val_accuracy: 0.9889\n",
      "Epoch 11/80\n",
      "95/95 [==============================] - 34s 361ms/step - loss: 0.0884 - accuracy: 0.9931 - val_loss: 24.8721 - val_accuracy: 0.9893\n",
      "Epoch 12/80\n",
      "95/95 [==============================] - 34s 362ms/step - loss: 0.0804 - accuracy: 0.9936 - val_loss: 24.8356 - val_accuracy: 0.9897\n",
      "Epoch 13/80\n",
      "95/95 [==============================] - 34s 362ms/step - loss: 0.0721 - accuracy: 0.9943 - val_loss: 24.7375 - val_accuracy: 0.9886\n",
      "Epoch 14/80\n",
      "95/95 [==============================] - 34s 362ms/step - loss: 0.0658 - accuracy: 0.9948 - val_loss: 24.6581 - val_accuracy: 0.9895\n",
      "Epoch 15/80\n",
      "95/95 [==============================] - 34s 362ms/step - loss: 0.0613 - accuracy: 0.9951 - val_loss: 24.5411 - val_accuracy: 0.9897\n",
      "Epoch 16/80\n",
      "95/95 [==============================] - 34s 362ms/step - loss: 0.0560 - accuracy: 0.9954 - val_loss: 24.5043 - val_accuracy: 0.9890\n",
      "Epoch 17/80\n",
      "95/95 [==============================] - 34s 363ms/step - loss: 0.0531 - accuracy: 0.9955 - val_loss: 24.4350 - val_accuracy: 0.9900\n",
      "Epoch 18/80\n",
      "95/95 [==============================] - 34s 362ms/step - loss: 0.0481 - accuracy: 0.9960 - val_loss: 24.3607 - val_accuracy: 0.9890\n",
      "Epoch 19/80\n",
      "95/95 [==============================] - 34s 363ms/step - loss: 0.0446 - accuracy: 0.9963 - val_loss: 24.3071 - val_accuracy: 0.9905\n",
      "Epoch 20/80\n",
      "95/95 [==============================] - 34s 362ms/step - loss: 0.0418 - accuracy: 0.9964 - val_loss: 24.2959 - val_accuracy: 0.9896\n",
      "Epoch 21/80\n",
      "95/95 [==============================] - 34s 362ms/step - loss: 0.0368 - accuracy: 0.9970 - val_loss: 24.1939 - val_accuracy: 0.9894\n",
      "Epoch 22/80\n",
      "95/95 [==============================] - 34s 363ms/step - loss: 0.0371 - accuracy: 0.9968 - val_loss: 24.1772 - val_accuracy: 0.9901\n",
      "Epoch 23/80\n",
      "95/95 [==============================] - 34s 363ms/step - loss: 0.0355 - accuracy: 0.9969 - val_loss: 24.0878 - val_accuracy: 0.9896\n",
      "Epoch 24/80\n",
      "95/95 [==============================] - 34s 363ms/step - loss: 0.0330 - accuracy: 0.9971 - val_loss: 24.0595 - val_accuracy: 0.9895\n",
      "Epoch 25/80\n",
      "95/95 [==============================] - 34s 363ms/step - loss: 0.0310 - accuracy: 0.9975 - val_loss: 23.9654 - val_accuracy: 0.9896\n",
      "Epoch 26/80\n",
      "95/95 [==============================] - 34s 363ms/step - loss: 0.0310 - accuracy: 0.9974 - val_loss: 23.9065 - val_accuracy: 0.9904\n",
      "Epoch 27/80\n",
      "95/95 [==============================] - 35s 363ms/step - loss: 0.0297 - accuracy: 0.9975 - val_loss: 23.9219 - val_accuracy: 0.9892\n",
      "Epoch 28/80\n",
      "95/95 [==============================] - 34s 363ms/step - loss: 0.0282 - accuracy: 0.9975 - val_loss: 23.8722 - val_accuracy: 0.9886\n",
      "Epoch 29/80\n",
      "95/95 [==============================] - 34s 363ms/step - loss: 0.0268 - accuracy: 0.9976 - val_loss: 23.7416 - val_accuracy: 0.9881\n",
      "Epoch 30/80\n",
      "95/95 [==============================] - 35s 363ms/step - loss: 0.0250 - accuracy: 0.9977 - val_loss: 23.7265 - val_accuracy: 0.9882\n",
      "Epoch 31/80\n",
      "95/95 [==============================] - 34s 363ms/step - loss: 0.0228 - accuracy: 0.9980 - val_loss: 23.6998 - val_accuracy: 0.9882\n",
      "Epoch 32/80\n",
      "95/95 [==============================] - 35s 363ms/step - loss: 0.0222 - accuracy: 0.9979 - val_loss: 23.6814 - val_accuracy: 0.9885\n",
      "Epoch 33/80\n",
      "95/95 [==============================] - 35s 363ms/step - loss: 0.0222 - accuracy: 0.9980 - val_loss: 23.5979 - val_accuracy: 0.9883\n",
      "Epoch 34/80\n",
      "95/95 [==============================] - 35s 363ms/step - loss: 0.0206 - accuracy: 0.9982 - val_loss: 23.5253 - val_accuracy: 0.9876\n",
      "Epoch 35/80\n",
      "95/95 [==============================] - 34s 363ms/step - loss: 0.0211 - accuracy: 0.9981 - val_loss: 23.4929 - val_accuracy: 0.9878\n",
      "Epoch 36/80\n",
      "95/95 [==============================] - 34s 363ms/step - loss: 0.0201 - accuracy: 0.9982 - val_loss: 23.4670 - val_accuracy: 0.9860\n",
      "Epoch 37/80\n",
      "95/95 [==============================] - 35s 363ms/step - loss: 0.0188 - accuracy: 0.9983 - val_loss: 23.3951 - val_accuracy: 0.8169\n",
      "Epoch 38/80\n",
      "95/95 [==============================] - 35s 363ms/step - loss: 0.0189 - accuracy: 0.9981 - val_loss: 23.3656 - val_accuracy: 0.8165\n",
      "Epoch 39/80\n",
      "95/95 [==============================] - 34s 363ms/step - loss: 0.0180 - accuracy: 0.9982 - val_loss: 23.3325 - val_accuracy: 0.8156\n",
      "Epoch 40/80\n",
      "95/95 [==============================] - 35s 363ms/step - loss: 0.0171 - accuracy: 0.9984 - val_loss: 23.2902 - val_accuracy: 0.8149\n",
      "Epoch 41/80\n",
      "95/95 [==============================] - 35s 363ms/step - loss: 0.0180 - accuracy: 0.9982 - val_loss: 23.2318 - val_accuracy: 0.8154\n",
      "Epoch 42/80\n",
      "95/95 [==============================] - 34s 363ms/step - loss: 0.0166 - accuracy: 0.9984 - val_loss: 23.2083 - val_accuracy: 0.8154\n",
      "Epoch 43/80\n",
      "95/95 [==============================] - 34s 363ms/step - loss: 0.0161 - accuracy: 0.9985 - val_loss: 23.1212 - val_accuracy: 0.8108\n",
      "Epoch 44/80\n",
      "95/95 [==============================] - 34s 363ms/step - loss: 0.0167 - accuracy: 0.9984 - val_loss: 23.0629 - val_accuracy: 0.8097\n",
      "Epoch 45/80\n",
      "95/95 [==============================] - 35s 363ms/step - loss: 0.0164 - accuracy: 0.9983 - val_loss: 23.0477 - val_accuracy: 0.8101\n",
      "Epoch 46/80\n",
      "95/95 [==============================] - 35s 363ms/step - loss: 0.0153 - accuracy: 0.9985 - val_loss: 22.9798 - val_accuracy: 0.8071\n",
      "Epoch 47/80\n",
      "95/95 [==============================] - 34s 363ms/step - loss: 0.0142 - accuracy: 0.9986 - val_loss: 22.9483 - val_accuracy: 0.8080\n",
      "Epoch 48/80\n",
      "95/95 [==============================] - 34s 363ms/step - loss: 0.0149 - accuracy: 0.9984 - val_loss: 22.8548 - val_accuracy: 0.8079\n",
      "Epoch 49/80\n",
      "95/95 [==============================] - 35s 363ms/step - loss: 0.0147 - accuracy: 0.9984 - val_loss: 22.8437 - val_accuracy: 0.8073\n",
      "Epoch 50/80\n",
      "95/95 [==============================] - 34s 363ms/step - loss: 0.0142 - accuracy: 0.9986 - val_loss: 22.7782 - val_accuracy: 0.8053\n",
      "Epoch 51/80\n",
      "95/95 [==============================] - 35s 363ms/step - loss: 0.0134 - accuracy: 0.9986 - val_loss: 22.7278 - val_accuracy: 0.7953\n",
      "Epoch 52/80\n",
      "95/95 [==============================] - 34s 363ms/step - loss: 0.0152 - accuracy: 0.9984 - val_loss: 22.6654 - val_accuracy: 0.7932\n",
      "Epoch 53/80\n",
      "95/95 [==============================] - 34s 363ms/step - loss: 0.0138 - accuracy: 0.9985 - val_loss: 22.6482 - val_accuracy: 0.7929\n",
      "Epoch 54/80\n",
      "95/95 [==============================] - 34s 363ms/step - loss: 0.0132 - accuracy: 0.9987 - val_loss: 22.5897 - val_accuracy: 0.7914\n",
      "Epoch 55/80\n",
      "95/95 [==============================] - 34s 363ms/step - loss: 0.0135 - accuracy: 0.9986 - val_loss: 22.5422 - val_accuracy: 0.7915\n",
      "Epoch 56/80\n",
      "95/95 [==============================] - 34s 363ms/step - loss: 0.0131 - accuracy: 0.9986 - val_loss: 22.4735 - val_accuracy: 0.7813\n",
      "Epoch 57/80\n"
     ]
    },
    {
     "name": "stdout",
     "output_type": "stream",
     "text": [
      "95/95 [==============================] - 34s 362ms/step - loss: 0.0151 - accuracy: 0.9984 - val_loss: 22.4119 - val_accuracy: 0.2395\n",
      "Epoch 58/80\n",
      "95/95 [==============================] - 35s 363ms/step - loss: 0.0133 - accuracy: 0.9985 - val_loss: 22.3719 - val_accuracy: 0.2383\n",
      "Epoch 59/80\n",
      "95/95 [==============================] - 34s 363ms/step - loss: 0.0116 - accuracy: 0.9988 - val_loss: 22.3251 - val_accuracy: 0.2371\n",
      "Epoch 60/80\n",
      "95/95 [==============================] - 35s 364ms/step - loss: 0.0111 - accuracy: 0.9987 - val_loss: 22.2840 - val_accuracy: 0.2374\n",
      "Epoch 61/80\n",
      "95/95 [==============================] - 35s 363ms/step - loss: 0.0110 - accuracy: 0.9988 - val_loss: 22.2260 - val_accuracy: 0.2366\n",
      "Epoch 62/80\n",
      "95/95 [==============================] - 34s 363ms/step - loss: 0.0110 - accuracy: 0.9988 - val_loss: 22.1577 - val_accuracy: 0.2363\n",
      "Epoch 63/80\n",
      "95/95 [==============================] - 35s 364ms/step - loss: 0.0117 - accuracy: 0.9987 - val_loss: 22.0721 - val_accuracy: 0.2353\n",
      "Epoch 64/80\n",
      "95/95 [==============================] - 35s 363ms/step - loss: 0.0115 - accuracy: 0.9987 - val_loss: 22.0855 - val_accuracy: 0.2346\n",
      "Epoch 65/80\n",
      "95/95 [==============================] - 35s 363ms/step - loss: 0.0105 - accuracy: 0.9988 - val_loss: 22.0226 - val_accuracy: 0.2351\n",
      "Epoch 66/80\n",
      "95/95 [==============================] - 34s 363ms/step - loss: 0.0101 - accuracy: 0.9989 - val_loss: 21.9526 - val_accuracy: 0.2330\n",
      "Epoch 67/80\n",
      "95/95 [==============================] - 35s 364ms/step - loss: 0.0110 - accuracy: 0.9988 - val_loss: 21.8963 - val_accuracy: 0.2321\n",
      "Epoch 68/80\n",
      "95/95 [==============================] - 35s 363ms/step - loss: 0.0104 - accuracy: 0.9988 - val_loss: 21.8617 - val_accuracy: 0.2322\n",
      "Epoch 69/80\n",
      "95/95 [==============================] - 35s 364ms/step - loss: 0.0098 - accuracy: 0.9988 - val_loss: 21.8055 - val_accuracy: 0.2334\n",
      "Epoch 70/80\n",
      "95/95 [==============================] - 35s 364ms/step - loss: 0.0099 - accuracy: 0.9988 - val_loss: 21.7229 - val_accuracy: 0.2307\n",
      "Epoch 71/80\n",
      "95/95 [==============================] - 35s 363ms/step - loss: 0.0110 - accuracy: 0.9988 - val_loss: 21.6714 - val_accuracy: 0.2323\n",
      "Epoch 72/80\n",
      "95/95 [==============================] - 35s 364ms/step - loss: 0.0104 - accuracy: 0.9988 - val_loss: 21.6568 - val_accuracy: 0.2309\n",
      "Epoch 73/80\n",
      "95/95 [==============================] - 34s 363ms/step - loss: 0.0096 - accuracy: 0.9988 - val_loss: 21.5916 - val_accuracy: 0.2299\n",
      "Epoch 74/80\n",
      "95/95 [==============================] - 35s 365ms/step - loss: 0.0106 - accuracy: 0.9987 - val_loss: 21.5512 - val_accuracy: 0.2293\n",
      "Epoch 75/80\n",
      "95/95 [==============================] - 35s 364ms/step - loss: 0.0103 - accuracy: 0.9988 - val_loss: 21.4995 - val_accuracy: 0.2300\n",
      "Epoch 76/80\n",
      "95/95 [==============================] - 34s 363ms/step - loss: 0.0106 - accuracy: 0.9986 - val_loss: 21.4120 - val_accuracy: 0.0485\n",
      "Epoch 77/80\n",
      "95/95 [==============================] - 34s 363ms/step - loss: 0.0095 - accuracy: 0.9989 - val_loss: 21.3601 - val_accuracy: 0.0486\n",
      "Epoch 78/80\n",
      "95/95 [==============================] - 35s 363ms/step - loss: 0.0099 - accuracy: 0.9988 - val_loss: 21.3029 - val_accuracy: 0.0448\n",
      "Epoch 79/80\n",
      "95/95 [==============================] - 35s 363ms/step - loss: 0.0106 - accuracy: 0.9986 - val_loss: 21.1951 - val_accuracy: 0.0470\n",
      "Epoch 80/80\n",
      "95/95 [==============================] - 34s 363ms/step - loss: 0.0111 - accuracy: 0.9987 - val_loss: 21.1754 - val_accuracy: 0.0471\n"
     ]
    }
   ],
   "source": [
    "import kashgari\n",
    "from kashgari.tasks.labeling import BiLSTM_CRF_Model\n",
    "from kashgari.embeddings import BertEmbedding\n",
    "kashgari.config.use_cudnn_cell = True\n",
    "bert_embedding = BertEmbedding(embedding_path, \n",
    "                           sequence_length='auto',\n",
    "                           trainable=True,\n",
    "                           task='kashgari.LABELING', \n",
    "                          )\n",
    "model = BiLSTM_CRF_Model(bert_embedding)\n",
    "history = model.fit(train_x,\n",
    "                    train_y,\n",
    "                    valid_x,\n",
    "                    valid_y,\n",
    "                    epochs=epochs,\n",
    "                    batch_size=batch_size,\n",
    "                   )"
   ]
  },
  {
   "cell_type": "code",
   "execution_count": 14,
   "metadata": {},
   "outputs": [
    {
     "name": "stderr",
     "output_type": "stream",
     "text": [
      "2020-12-12 13:42:46,984 [WARNING] kashgari - Sequence length is None, will use the max length of the samples, which is 72\n",
      "2020-12-12 13:42:47,073 [DEBUG] kashgari - predict seq_length: None, input: (2, 15302, 72)\n"
     ]
    },
    {
     "name": "stdout",
     "output_type": "stream",
     "text": [
      "479/479 [==============================] - 42s 88ms/step\n"
     ]
    },
    {
     "name": "stderr",
     "output_type": "stream",
     "text": [
      "2020-12-12 13:43:32,421 [DEBUG] kashgari - predict output: (15302, 72)\n",
      "2020-12-12 13:43:32,422 [DEBUG] kashgari - predict output argmax: [[0 1 1 ... 1 1 1]\n",
      " [0 1 1 ... 1 1 1]\n",
      " [0 1 1 ... 1 1 1]\n",
      " ...\n",
      " [0 1 1 ... 1 1 1]\n",
      " [0 1 1 ... 1 1 1]\n",
      " [0 1 1 ... 1 1 1]]\n"
     ]
    },
    {
     "name": "stdout",
     "output_type": "stream",
     "text": [
      "\n",
      "                precision    recall  f1-score   support\n",
      "\n",
      "      med_exam     0.8889    0.8571    0.8727       140\n",
      "          time     0.8308    0.8455    0.8381       848\n",
      "          name     0.9333    0.8400    0.8842       100\n",
      "      location     0.9176    0.8571    0.8864        91\n",
      "         money     0.6324    0.8269    0.7167        52\n",
      "    profession     0.8000    0.4444    0.5714         9\n",
      "            ID     0.7500    0.7500    0.7500         8\n",
      "clinical_event     1.0000    0.7500    0.8571         4\n",
      "       contact     0.8889    0.6154    0.7273        13\n",
      "        family     1.0000    0.6471    0.7857        17\n",
      "  organization     1.0000    0.3333    0.5000         3\n",
      "     education     0.0000    0.0000    0.0000         1\n",
      "\n",
      "     micro avg     0.8412    0.8359    0.8385      1286\n",
      "     macro avg     0.8456    0.8359    0.8384      1286\n",
      "\n"
     ]
    },
    {
     "name": "stderr",
     "output_type": "stream",
     "text": [
      "2020-12-12 13:43:41,470 [INFO] kashgari - model saved to /home/Danny/AI-CUP-2020/Danny/kashgari/model/bert-chinese-epoch-80\n"
     ]
    },
    {
     "data": {
      "text/plain": [
       "'/home/Danny/AI-CUP-2020/Danny/kashgari/model/bert-chinese-epoch-80'"
      ]
     },
     "execution_count": 14,
     "metadata": {},
     "output_type": "execute_result"
    }
   ],
   "source": [
    "model.evaluate(test_x, test_y)\n",
    "model_path = 'model/{}-epoch-{}'.format(model_name, epochs)\n",
    "model.save(model_path)"
   ]
  },
  {
   "cell_type": "code",
   "execution_count": 15,
   "metadata": {},
   "outputs": [
    {
     "data": {
      "image/png": "[encoded data removed]",
      "text/plain": [
       "<Figure size 432x288 with 1 Axes>"
      ]
     },
     "metadata": {
      "needs_background": "light"
     },
     "output_type": "display_data"
    }
   ],
   "source": [
    "plt.plot(history.history['accuracy'])\n",
    "plt.plot(history.history['val_accuracy'])\n",
    "plt.plot(history.history['loss'])\n",
    "plt.plot(history.history['val_loss'])\n",
    "plt.title('model accuracy')\n",
    "plt.ylabel('accuracy')\n",
    "plt.xlabel('epoch')\n",
    "plt.legend(['accuracy', 'val_accuracy', 'loss', 'val_loss'])\n",
    "plt.show()"
   ]
  },
  {
   "cell_type": "code",
   "execution_count": 16,
   "metadata": {},
   "outputs": [],
   "source": [
    "# def predict_NER(model, text, sequence_length):\n",
    "#     x_list = list()\n",
    "#     while len(text) > sequence_length:\n",
    "#         x_list.append([i for i in text[:sequence_length]])\n",
    "#         text = text[sequence_length:]        \n",
    "#     x_list.append([i for i in text[:sequence_length]])\n",
    "#     y_list = model.predict(x_list)\n",
    "#     merge_list = list()\n",
    "#     for i in y_list:\n",
    "#         for j in i:\n",
    "#             merge_list.append(j)\n",
    "#     return merge_list"
   ]
  },
  {
   "cell_type": "code",
   "execution_count": 17,
   "metadata": {},
   "outputs": [],
   "source": [
    "# def output_NER(article_id, text, y):\n",
    "#     output = str()\n",
    "#     flag = False\n",
    "#     for i, j in enumerate(y):\n",
    "#         if j != 'O':\n",
    "#             if j[0] == 'B':\n",
    "#                 start_position = i\n",
    "#                 entity_type = j.split('-')[-1]\n",
    "#                 flag = True\n",
    "#         elif j == 'O' and flag == True:\n",
    "#             end_position = i\n",
    "#             flag = False\n",
    "#             entity_text = text[start_position: end_position]\n",
    "#             output += '{}\\t{}\\t{}\\t{}\\t{}\\n'.format(article_id, start_position, end_position, entity_text, entity_type)  \n",
    "#     return output"
   ]
  },
  {
   "cell_type": "code",
   "execution_count": 18,
   "metadata": {},
   "outputs": [],
   "source": [
    "# for article_id, text in zip(df['article_id'], df['text']):\n",
    "#     y = predict_NER(model, text, sequence_length)\n",
    "#     output += output_NER(article_id, text, y)"
   ]
  },
  {
   "cell_type": "code",
   "execution_count": 19,
   "metadata": {},
   "outputs": [
    {
     "name": "stderr",
     "output_type": "stream",
     "text": [
      "2020-12-12 13:43:41,605 [DEBUG] kashgari - predict seq_length: None, input: (2, 368, 29)\n"
     ]
    },
    {
     "name": "stdout",
     "output_type": "stream",
     "text": [
      "12/12 [==============================] - 0s 40ms/step\n"
     ]
    },
    {
     "name": "stderr",
     "output_type": "stream",
     "text": [
      "2020-12-12 13:43:45,176 [DEBUG] kashgari - predict output: (368, 29)\n",
      "2020-12-12 13:43:45,177 [DEBUG] kashgari - predict output argmax: [[0 1 1 ... 1 1 1]\n",
      " [0 1 1 ... 1 1 1]\n",
      " [0 1 1 ... 1 1 1]\n",
      " ...\n",
      " [0 1 1 ... 1 1 1]\n",
      " [0 1 1 ... 1 1 1]\n",
      " [0 1 0 ... 0 0 0]]\n",
      "2020-12-12 13:43:45,179 [DEBUG] kashgari - predict seq_length: None, input: (2, 78, 33)\n"
     ]
    },
    {
     "name": "stdout",
     "output_type": "stream",
     "text": [
      "3/3 [==============================] - 0s 30ms/step\n"
     ]
    },
    {
     "name": "stderr",
     "output_type": "stream",
     "text": [
      "2020-12-12 13:43:48,209 [DEBUG] kashgari - predict output: (78, 33)\n",
      "2020-12-12 13:43:48,210 [DEBUG] kashgari - predict output argmax: [[0 1 1 ... 1 1 1]\n",
      " [0 1 1 ... 1 1 1]\n",
      " [0 1 1 ... 1 1 1]\n",
      " ...\n",
      " [0 1 0 ... 1 1 1]\n",
      " [0 1 1 ... 1 1 1]\n",
      " [0 1 1 ... 1 1 1]]\n",
      "2020-12-12 13:43:48,213 [DEBUG] kashgari - predict seq_length: None, input: (2, 159, 29)\n"
     ]
    },
    {
     "name": "stdout",
     "output_type": "stream",
     "text": [
      "5/5 [==============================] - 0s 38ms/step\n"
     ]
    },
    {
     "name": "stderr",
     "output_type": "stream",
     "text": [
      "2020-12-12 13:43:48,471 [DEBUG] kashgari - predict output: (159, 29)\n",
      "2020-12-12 13:43:48,471 [DEBUG] kashgari - predict output argmax: [[0 1 1 ... 1 1 1]\n",
      " [0 1 1 ... 1 1 1]\n",
      " [0 1 1 ... 1 1 1]\n",
      " ...\n",
      " [0 1 1 ... 1 1 1]\n",
      " [0 1 1 ... 1 1 1]\n",
      " [0 1 0 ... 0 0 0]]\n",
      "2020-12-12 13:43:48,476 [DEBUG] kashgari - predict seq_length: None, input: (2, 329, 28)\n"
     ]
    },
    {
     "name": "stdout",
     "output_type": "stream",
     "text": [
      "11/11 [==============================] - 0s 39ms/step\n"
     ]
    },
    {
     "name": "stderr",
     "output_type": "stream",
     "text": [
      "2020-12-12 13:43:51,842 [DEBUG] kashgari - predict output: (329, 28)\n",
      "2020-12-12 13:43:51,842 [DEBUG] kashgari - predict output argmax: [[0 1 1 ... 1 1 1]\n",
      " [0 1 1 ... 1 1 1]\n",
      " [0 1 1 ... 1 1 1]\n",
      " ...\n",
      " [0 1 1 ... 1 1 1]\n",
      " [0 1 1 ... 1 1 1]\n",
      " [0 1 0 ... 0 0 0]]\n",
      "2020-12-12 13:43:51,845 [DEBUG] kashgari - predict seq_length: None, input: (2, 227, 29)\n"
     ]
    },
    {
     "name": "stdout",
     "output_type": "stream",
     "text": [
      "8/8 [==============================] - 0s 35ms/step\n"
     ]
    },
    {
     "name": "stderr",
     "output_type": "stream",
     "text": [
      "2020-12-12 13:43:52,185 [DEBUG] kashgari - predict output: (227, 29)\n",
      "2020-12-12 13:43:52,186 [DEBUG] kashgari - predict output argmax: [[ 0  1  1 ...  4  4  4]\n",
      " [ 0  1  1 ...  1  1  1]\n",
      " [ 0 10  7 ...  7  7  7]\n",
      " ...\n",
      " [ 0  1  1 ...  1  1  1]\n",
      " [ 0  1  1 ...  1  1  1]\n",
      " [ 0  1  0 ...  0  0  0]]\n",
      "2020-12-12 13:43:52,191 [DEBUG] kashgari - predict seq_length: None, input: (2, 295, 26)\n"
     ]
    },
    {
     "name": "stdout",
     "output_type": "stream",
     "text": [
      "10/10 [==============================] - 0s 37ms/step\n"
     ]
    },
    {
     "name": "stderr",
     "output_type": "stream",
     "text": [
      "2020-12-12 13:43:55,428 [DEBUG] kashgari - predict output: (295, 26)\n",
      "2020-12-12 13:43:55,429 [DEBUG] kashgari - predict output argmax: [[0 1 1 ... 1 1 1]\n",
      " [0 1 1 ... 1 1 1]\n",
      " [0 1 1 ... 0 1 1]\n",
      " ...\n",
      " [0 1 1 ... 1 1 1]\n",
      " [0 1 1 ... 1 1 1]\n",
      " [0 1 0 ... 0 0 0]]\n",
      "2020-12-12 13:43:55,432 [DEBUG] kashgari - predict seq_length: None, input: (2, 183, 25)\n"
     ]
    },
    {
     "name": "stdout",
     "output_type": "stream",
     "text": [
      "6/6 [==============================] - 0s 35ms/step\n"
     ]
    },
    {
     "name": "stderr",
     "output_type": "stream",
     "text": [
      "2020-12-12 13:43:58,865 [DEBUG] kashgari - predict output: (183, 25)\n",
      "2020-12-12 13:43:58,866 [DEBUG] kashgari - predict output argmax: [[ 0  1  1 ...  1  1  1]\n",
      " [ 0  1  1 ...  1  1  1]\n",
      " [ 0  1  1 ...  1  1  1]\n",
      " ...\n",
      " [ 0  1 13 ...  1  1  1]\n",
      " [ 0  1  1 ...  1  1  1]\n",
      " [ 0  1  0 ...  0  0  0]]\n",
      "2020-12-12 13:43:58,868 [DEBUG] kashgari - predict seq_length: None, input: (2, 126, 19)\n"
     ]
    },
    {
     "name": "stdout",
     "output_type": "stream",
     "text": [
      "4/4 [==============================] - 0s 28ms/step\n"
     ]
    },
    {
     "name": "stderr",
     "output_type": "stream",
     "text": [
      "2020-12-12 13:44:01,927 [DEBUG] kashgari - predict output: (126, 19)\n",
      "2020-12-12 13:44:01,928 [DEBUG] kashgari - predict output argmax: [[0 1 1 ... 1 0 1]\n",
      " [0 1 1 ... 1 1 1]\n",
      " [0 1 1 ... 1 1 1]\n",
      " ...\n",
      " [0 1 1 ... 1 1 1]\n",
      " [0 1 1 ... 1 1 1]\n",
      " [0 1 0 ... 0 0 0]]\n",
      "2020-12-12 13:44:01,930 [DEBUG] kashgari - predict seq_length: None, input: (2, 117, 23)\n"
     ]
    },
    {
     "name": "stdout",
     "output_type": "stream",
     "text": [
      "4/4 [==============================] - 0s 31ms/step\n"
     ]
    },
    {
     "name": "stderr",
     "output_type": "stream",
     "text": [
      "2020-12-12 13:44:05,023 [DEBUG] kashgari - predict output: (117, 23)\n",
      "2020-12-12 13:44:05,024 [DEBUG] kashgari - predict output argmax: [[0 1 1 ... 1 1 1]\n",
      " [0 1 1 ... 1 1 1]\n",
      " [0 1 1 ... 1 1 1]\n",
      " ...\n",
      " [0 1 1 ... 1 1 1]\n",
      " [0 1 1 ... 1 1 1]\n",
      " [0 1 0 ... 0 0 0]]\n",
      "2020-12-12 13:44:05,026 [DEBUG] kashgari - predict seq_length: None, input: (2, 91, 22)\n"
     ]
    },
    {
     "name": "stdout",
     "output_type": "stream",
     "text": [
      "3/3 [==============================] - 0s 25ms/step\n"
     ]
    },
    {
     "name": "stderr",
     "output_type": "stream",
     "text": [
      "2020-12-12 13:44:07,953 [DEBUG] kashgari - predict output: (91, 22)\n",
      "2020-12-12 13:44:07,954 [DEBUG] kashgari - predict output argmax: [[0 1 1 ... 1 1 1]\n",
      " [0 1 1 ... 1 1 1]\n",
      " [0 1 1 ... 1 1 1]\n",
      " ...\n",
      " [0 1 1 ... 1 1 1]\n",
      " [0 1 1 ... 1 1 1]\n",
      " [0 1 0 ... 0 0 0]]\n",
      "2020-12-12 13:44:07,955 [DEBUG] kashgari - predict seq_length: None, input: (2, 63, 25)\n"
     ]
    },
    {
     "name": "stdout",
     "output_type": "stream",
     "text": [
      "2/2 [==============================] - 0s 21ms/step\n"
     ]
    },
    {
     "name": "stderr",
     "output_type": "stream",
     "text": [
      "2020-12-12 13:44:08,060 [DEBUG] kashgari - predict output: (63, 25)\n",
      "2020-12-12 13:44:08,061 [DEBUG] kashgari - predict output argmax: [[0 1 1 ... 1 1 1]\n",
      " [0 1 1 ... 1 1 1]\n",
      " [0 1 1 ... 1 1 1]\n",
      " ...\n",
      " [0 1 1 ... 1 1 1]\n",
      " [0 1 1 ... 1 1 1]\n",
      " [0 1 0 ... 0 0 0]]\n",
      "2020-12-12 13:44:08,066 [DEBUG] kashgari - predict seq_length: None, input: (2, 259, 32)\n"
     ]
    },
    {
     "name": "stdout",
     "output_type": "stream",
     "text": [
      "9/9 [==============================] - 0s 40ms/step\n"
     ]
    },
    {
     "name": "stderr",
     "output_type": "stream",
     "text": [
      "2020-12-12 13:44:11,333 [DEBUG] kashgari - predict output: (259, 32)\n",
      "2020-12-12 13:44:11,334 [DEBUG] kashgari - predict output argmax: [[ 0  1  1 ...  7  7  7]\n",
      " [ 0  1  1 ...  1  1  1]\n",
      " [ 0 10  7 ...  1  1  1]\n",
      " ...\n",
      " [ 0  1  1 ...  1  1  1]\n",
      " [ 0  1  1 ...  1  1  1]\n",
      " [ 0  1  0 ...  0  0  0]]\n",
      "2020-12-12 13:44:11,336 [DEBUG] kashgari - predict seq_length: None, input: (2, 109, 20)\n"
     ]
    },
    {
     "name": "stdout",
     "output_type": "stream",
     "text": [
      "4/4 [==============================] - 0s 26ms/step\n"
     ]
    },
    {
     "name": "stderr",
     "output_type": "stream",
     "text": [
      "2020-12-12 13:44:14,826 [DEBUG] kashgari - predict output: (109, 20)\n",
      "2020-12-12 13:44:14,827 [DEBUG] kashgari - predict output argmax: [[0 1 1 ... 1 0 1]\n",
      " [0 1 1 ... 1 1 1]\n",
      " [0 1 1 ... 1 1 1]\n",
      " ...\n",
      " [0 1 1 ... 1 1 1]\n",
      " [0 1 1 ... 1 1 1]\n",
      " [0 1 0 ... 0 0 0]]\n",
      "2020-12-12 13:44:14,830 [DEBUG] kashgari - predict seq_length: None, input: (2, 122, 22)\n"
     ]
    },
    {
     "name": "stdout",
     "output_type": "stream",
     "text": [
      "4/4 [==============================] - 0s 27ms/step\n"
     ]
    },
    {
     "name": "stderr",
     "output_type": "stream",
     "text": [
      "2020-12-12 13:44:14,994 [DEBUG] kashgari - predict output: (122, 22)\n",
      "2020-12-12 13:44:14,995 [DEBUG] kashgari - predict output argmax: [[0 1 1 ... 1 1 1]\n",
      " [0 1 1 ... 1 1 1]\n",
      " [0 1 1 ... 1 1 1]\n",
      " ...\n",
      " [0 1 1 ... 1 1 1]\n",
      " [0 1 1 ... 1 1 1]\n",
      " [0 1 0 ... 0 0 0]]\n",
      "2020-12-12 13:44:14,999 [DEBUG] kashgari - predict seq_length: None, input: (2, 158, 40)\n"
     ]
    },
    {
     "name": "stdout",
     "output_type": "stream",
     "text": [
      "5/5 [==============================] - 0s 46ms/step\n"
     ]
    },
    {
     "name": "stderr",
     "output_type": "stream",
     "text": [
      "2020-12-12 13:44:18,225 [DEBUG] kashgari - predict output: (158, 40)\n",
      "2020-12-12 13:44:18,226 [DEBUG] kashgari - predict output argmax: [[0 1 1 ... 1 1 1]\n",
      " [0 1 1 ... 1 1 1]\n",
      " [0 1 1 ... 1 1 1]\n",
      " ...\n",
      " [0 1 1 ... 1 1 1]\n",
      " [0 1 1 ... 1 1 1]\n",
      " [0 1 1 ... 4 4 4]]\n",
      "2020-12-12 13:44:18,229 [DEBUG] kashgari - predict seq_length: None, input: (2, 218, 34)\n"
     ]
    },
    {
     "name": "stdout",
     "output_type": "stream",
     "text": [
      "7/7 [==============================] - 0s 44ms/step\n"
     ]
    },
    {
     "name": "stderr",
     "output_type": "stream",
     "text": [
      "2020-12-12 13:44:21,433 [DEBUG] kashgari - predict output: (218, 34)\n",
      "2020-12-12 13:44:21,434 [DEBUG] kashgari - predict output argmax: [[0 1 1 ... 1 1 1]\n",
      " [0 1 1 ... 1 1 1]\n",
      " [0 1 1 ... 1 1 1]\n",
      " ...\n",
      " [0 1 1 ... 1 1 1]\n",
      " [0 1 1 ... 1 1 1]\n",
      " [0 1 0 ... 0 0 0]]\n",
      "2020-12-12 13:44:21,436 [DEBUG] kashgari - predict seq_length: None, input: (2, 103, 16)\n"
     ]
    },
    {
     "name": "stdout",
     "output_type": "stream",
     "text": [
      "4/4 [==============================] - 0s 23ms/step\n"
     ]
    },
    {
     "name": "stderr",
     "output_type": "stream",
     "text": [
      "2020-12-12 13:44:24,338 [DEBUG] kashgari - predict output: (103, 16)\n",
      "2020-12-12 13:44:24,339 [DEBUG] kashgari - predict output argmax: [[0 1 1 ... 1 1 1]\n",
      " [0 1 1 ... 1 1 1]\n",
      " [0 1 1 ... 1 1 1]\n",
      " ...\n",
      " [0 1 1 ... 1 1 1]\n",
      " [0 1 1 ... 8 8 8]\n",
      " [0 1 1 ... 1 1 1]]\n",
      "2020-12-12 13:44:24,343 [DEBUG] kashgari - predict seq_length: None, input: (2, 310, 40)\n"
     ]
    },
    {
     "name": "stdout",
     "output_type": "stream",
     "text": [
      "10/10 [==============================] - 0s 48ms/step\n"
     ]
    },
    {
     "name": "stderr",
     "output_type": "stream",
     "text": [
      "2020-12-12 13:44:24,910 [DEBUG] kashgari - predict output: (310, 40)\n",
      "2020-12-12 13:44:24,910 [DEBUG] kashgari - predict output argmax: [[0 1 1 ... 1 1 1]\n",
      " [0 1 1 ... 1 1 1]\n",
      " [0 1 1 ... 1 1 1]\n",
      " ...\n",
      " [0 1 1 ... 1 1 1]\n",
      " [0 1 1 ... 1 1 1]\n",
      " [0 1 0 ... 0 0 0]]\n",
      "2020-12-12 13:44:24,912 [DEBUG] kashgari - predict seq_length: None, input: (2, 73, 22)\n"
     ]
    },
    {
     "name": "stdout",
     "output_type": "stream",
     "text": [
      "3/3 [==============================] - 0s 20ms/step\n"
     ]
    },
    {
     "name": "stderr",
     "output_type": "stream",
     "text": [
      "2020-12-12 13:44:25,024 [DEBUG] kashgari - predict output: (73, 22)\n",
      "2020-12-12 13:44:25,025 [DEBUG] kashgari - predict output argmax: [[0 1 1 ... 1 1 1]\n",
      " [0 1 1 ... 1 1 1]\n",
      " [0 6 4 ... 1 1 1]\n",
      " ...\n",
      " [0 1 1 ... 1 1 1]\n",
      " [0 1 1 ... 1 1 1]\n",
      " [0 1 0 ... 0 0 0]]\n",
      "2020-12-12 13:44:25,033 [DEBUG] kashgari - predict seq_length: None, input: (2, 624, 50)\n"
     ]
    },
    {
     "name": "stdout",
     "output_type": "stream",
     "text": [
      "20/20 [==============================] - 1s 61ms/step\n"
     ]
    },
    {
     "name": "stderr",
     "output_type": "stream",
     "text": [
      "2020-12-12 13:44:29,189 [DEBUG] kashgari - predict output: (624, 50)\n",
      "2020-12-12 13:44:29,190 [DEBUG] kashgari - predict output argmax: [[0 1 1 ... 1 1 1]\n",
      " [0 1 1 ... 1 1 1]\n",
      " [0 1 1 ... 1 1 1]\n",
      " ...\n",
      " [0 1 1 ... 1 1 1]\n",
      " [0 1 1 ... 1 1 1]\n",
      " [0 1 0 ... 0 0 0]]\n",
      "2020-12-12 13:44:29,195 [DEBUG] kashgari - predict seq_length: None, input: (2, 445, 35)\n"
     ]
    },
    {
     "name": "stdout",
     "output_type": "stream",
     "text": [
      "14/14 [==============================] - 1s 47ms/step\n"
     ]
    },
    {
     "name": "stderr",
     "output_type": "stream",
     "text": [
      "2020-12-12 13:44:32,831 [DEBUG] kashgari - predict output: (445, 35)\n",
      "2020-12-12 13:44:32,832 [DEBUG] kashgari - predict output argmax: [[0 1 1 ... 1 1 1]\n",
      " [0 1 1 ... 1 1 1]\n",
      " [0 1 1 ... 1 1 1]\n",
      " ...\n",
      " [0 1 1 ... 1 1 1]\n",
      " [0 1 6 ... 4 4 4]\n",
      " [0 1 0 ... 0 0 0]]\n",
      "2020-12-12 13:44:32,836 [DEBUG] kashgari - predict seq_length: None, input: (2, 357, 34)\n"
     ]
    },
    {
     "name": "stdout",
     "output_type": "stream",
     "text": [
      "12/12 [==============================] - 0s 41ms/step\n"
     ]
    },
    {
     "name": "stderr",
     "output_type": "stream",
     "text": [
      "2020-12-12 13:44:33,397 [DEBUG] kashgari - predict output: (357, 34)\n",
      "2020-12-12 13:44:33,398 [DEBUG] kashgari - predict output argmax: [[0 1 1 ... 1 1 1]\n",
      " [0 1 1 ... 1 1 1]\n",
      " [0 1 1 ... 1 1 1]\n",
      " ...\n",
      " [0 1 1 ... 1 1 1]\n",
      " [0 1 1 ... 1 1 1]\n",
      " [0 1 0 ... 0 0 0]]\n",
      "2020-12-12 13:44:33,402 [DEBUG] kashgari - predict seq_length: None, input: (2, 328, 49)\n"
     ]
    },
    {
     "name": "stdout",
     "output_type": "stream",
     "text": [
      "11/11 [==============================] - 1s 57ms/step\n"
     ]
    },
    {
     "name": "stderr",
     "output_type": "stream",
     "text": [
      "2020-12-12 13:44:37,510 [DEBUG] kashgari - predict output: (328, 49)\n",
      "2020-12-12 13:44:37,511 [DEBUG] kashgari - predict output argmax: [[0 1 1 ... 1 1 1]\n",
      " [0 1 1 ... 1 1 1]\n",
      " [0 1 1 ... 1 1 1]\n",
      " ...\n",
      " [0 1 1 ... 1 1 1]\n",
      " [0 1 1 ... 1 1 1]\n",
      " [0 1 0 ... 0 0 0]]\n",
      "2020-12-12 13:44:37,515 [DEBUG] kashgari - predict seq_length: None, input: (2, 133, 59)\n"
     ]
    },
    {
     "name": "stdout",
     "output_type": "stream",
     "text": [
      "5/5 [==============================] - 0s 57ms/step\n"
     ]
    },
    {
     "name": "stderr",
     "output_type": "stream",
     "text": [
      "2020-12-12 13:44:40,756 [DEBUG] kashgari - predict output: (133, 59)\n",
      "2020-12-12 13:44:40,757 [DEBUG] kashgari - predict output argmax: [[0 1 1 ... 1 1 1]\n",
      " [0 1 1 ... 1 1 1]\n",
      " [0 1 1 ... 1 1 1]\n",
      " ...\n",
      " [0 1 1 ... 1 1 1]\n",
      " [0 1 1 ... 1 1 1]\n",
      " [0 1 0 ... 0 0 0]]\n",
      "2020-12-12 13:44:40,759 [DEBUG] kashgari - predict seq_length: None, input: (2, 129, 23)\n"
     ]
    },
    {
     "name": "stdout",
     "output_type": "stream",
     "text": [
      "5/5 [==============================] - 0s 28ms/step\n"
     ]
    },
    {
     "name": "stderr",
     "output_type": "stream",
     "text": [
      "2020-12-12 13:44:40,961 [DEBUG] kashgari - predict output: (129, 23)\n",
      "2020-12-12 13:44:40,961 [DEBUG] kashgari - predict output argmax: [[0 1 1 ... 1 1 1]\n",
      " [0 1 1 ... 1 1 1]\n",
      " [0 1 1 ... 1 1 1]\n",
      " ...\n",
      " [0 1 0 ... 1 1 1]\n",
      " [0 1 1 ... 1 1 1]\n",
      " [0 1 0 ... 0 0 0]]\n",
      "2020-12-12 13:44:40,965 [DEBUG] kashgari - predict seq_length: None, input: (2, 131, 30)\n"
     ]
    },
    {
     "name": "stdout",
     "output_type": "stream",
     "text": [
      "5/5 [==============================] - 0s 35ms/step\n"
     ]
    },
    {
     "name": "stderr",
     "output_type": "stream",
     "text": [
      "2020-12-12 13:44:44,086 [DEBUG] kashgari - predict output: (131, 30)\n",
      "2020-12-12 13:44:44,087 [DEBUG] kashgari - predict output argmax: [[0 1 1 ... 1 1 1]\n",
      " [0 1 1 ... 1 1 1]\n",
      " [0 1 1 ... 1 1 1]\n",
      " ...\n",
      " [0 1 1 ... 1 1 1]\n",
      " [0 1 1 ... 1 1 1]\n",
      " [0 1 0 ... 0 0 0]]\n",
      "2020-12-12 13:44:44,090 [DEBUG] kashgari - predict seq_length: None, input: (2, 234, 34)\n"
     ]
    },
    {
     "name": "stdout",
     "output_type": "stream",
     "text": [
      "8/8 [==============================] - 0s 38ms/step\n"
     ]
    },
    {
     "name": "stderr",
     "output_type": "stream",
     "text": [
      "2020-12-12 13:44:44,465 [DEBUG] kashgari - predict output: (234, 34)\n",
      "2020-12-12 13:44:44,465 [DEBUG] kashgari - predict output argmax: [[0 1 1 ... 4 4 4]\n",
      " [0 1 1 ... 1 1 1]\n",
      " [0 1 1 ... 1 1 1]\n",
      " ...\n",
      " [0 1 1 ... 1 1 1]\n",
      " [0 1 1 ... 1 1 1]\n",
      " [0 1 0 ... 0 0 0]]\n",
      "2020-12-12 13:44:44,467 [DEBUG] kashgari - predict seq_length: None, input: (2, 79, 33)\n"
     ]
    },
    {
     "name": "stdout",
     "output_type": "stream",
     "text": [
      "3/3 [==============================] - 0s 27ms/step\n"
     ]
    },
    {
     "name": "stderr",
     "output_type": "stream",
     "text": [
      "2020-12-12 13:44:44,613 [DEBUG] kashgari - predict output: (79, 33)\n",
      "2020-12-12 13:44:44,614 [DEBUG] kashgari - predict output argmax: [[0 1 1 ... 1 1 1]\n",
      " [0 1 1 ... 1 1 1]\n",
      " [0 1 1 ... 1 1 1]\n",
      " ...\n",
      " [0 1 1 ... 1 1 1]\n",
      " [0 1 1 ... 1 1 1]\n",
      " [0 1 0 ... 0 0 0]]\n",
      "2020-12-12 13:44:44,618 [DEBUG] kashgari - predict seq_length: None, input: (2, 260, 37)\n"
     ]
    },
    {
     "name": "stdout",
     "output_type": "stream",
     "text": [
      "9/9 [==============================] - 0s 47ms/step\n"
     ]
    },
    {
     "name": "stderr",
     "output_type": "stream",
     "text": [
      "2020-12-12 13:44:48,001 [DEBUG] kashgari - predict output: (260, 37)\n",
      "2020-12-12 13:44:48,002 [DEBUG] kashgari - predict output argmax: [[0 1 1 ... 1 1 1]\n",
      " [0 1 1 ... 1 1 1]\n",
      " [0 1 1 ... 1 1 1]\n",
      " ...\n",
      " [0 1 1 ... 1 1 1]\n",
      " [0 1 1 ... 1 1 1]\n",
      " [0 1 0 ... 0 0 0]]\n",
      "2020-12-12 13:44:48,005 [DEBUG] kashgari - predict seq_length: None, input: (2, 255, 35)\n"
     ]
    },
    {
     "name": "stdout",
     "output_type": "stream",
     "text": [
      "8/8 [==============================] - 0s 42ms/step\n"
     ]
    },
    {
     "name": "stderr",
     "output_type": "stream",
     "text": [
      "2020-12-12 13:44:48,412 [DEBUG] kashgari - predict output: (255, 35)\n",
      "2020-12-12 13:44:48,413 [DEBUG] kashgari - predict output argmax: [[0 1 1 ... 1 1 1]\n",
      " [0 1 1 ... 1 1 1]\n",
      " [0 1 1 ... 1 1 1]\n",
      " ...\n",
      " [0 1 1 ... 1 1 1]\n",
      " [0 1 1 ... 1 1 1]\n",
      " [0 1 0 ... 0 0 0]]\n",
      "2020-12-12 13:44:48,415 [DEBUG] kashgari - predict seq_length: None, input: (2, 175, 41)\n"
     ]
    },
    {
     "name": "stdout",
     "output_type": "stream",
     "text": [
      "6/6 [==============================] - 0s 49ms/step\n"
     ]
    },
    {
     "name": "stderr",
     "output_type": "stream",
     "text": [
      "2020-12-12 13:44:51,731 [DEBUG] kashgari - predict output: (175, 41)\n",
      "2020-12-12 13:44:51,731 [DEBUG] kashgari - predict output argmax: [[0 1 1 ... 1 1 1]\n",
      " [0 1 1 ... 1 1 1]\n",
      " [0 1 1 ... 1 1 1]\n",
      " ...\n",
      " [0 1 1 ... 1 1 1]\n",
      " [0 1 1 ... 1 1 1]\n",
      " [0 1 0 ... 0 0 0]]\n",
      "2020-12-12 13:44:51,734 [DEBUG] kashgari - predict seq_length: None, input: (2, 189, 31)\n"
     ]
    },
    {
     "name": "stdout",
     "output_type": "stream",
     "text": [
      "6/6 [==============================] - 0s 42ms/step\n"
     ]
    },
    {
     "name": "stderr",
     "output_type": "stream",
     "text": [
      "2020-12-12 13:44:54,892 [DEBUG] kashgari - predict output: (189, 31)\n",
      "2020-12-12 13:44:54,892 [DEBUG] kashgari - predict output argmax: [[0 1 1 ... 1 1 1]\n",
      " [0 1 1 ... 1 1 1]\n",
      " [0 1 1 ... 1 1 1]\n",
      " ...\n",
      " [0 1 1 ... 1 1 1]\n",
      " [0 1 1 ... 1 1 1]\n",
      " [0 1 0 ... 0 0 0]]\n",
      "2020-12-12 13:44:54,897 [DEBUG] kashgari - predict seq_length: None, input: (2, 292, 31)\n"
     ]
    },
    {
     "name": "stdout",
     "output_type": "stream",
     "text": [
      "10/10 [==============================] - 0s 38ms/step\n"
     ]
    },
    {
     "name": "stderr",
     "output_type": "stream",
     "text": [
      "2020-12-12 13:44:55,341 [DEBUG] kashgari - predict output: (292, 31)\n",
      "2020-12-12 13:44:55,342 [DEBUG] kashgari - predict output argmax: [[0 1 1 ... 1 1 1]\n",
      " [0 1 1 ... 1 1 1]\n",
      " [0 1 1 ... 1 1 1]\n",
      " ...\n",
      " [0 1 1 ... 1 1 1]\n",
      " [0 1 1 ... 1 1 1]\n",
      " [0 1 0 ... 0 0 0]]\n",
      "2020-12-12 13:44:55,344 [DEBUG] kashgari - predict seq_length: None, input: (2, 97, 38)\n"
     ]
    },
    {
     "name": "stdout",
     "output_type": "stream",
     "text": [
      "4/4 [==============================] - 0s 34ms/step\n"
     ]
    },
    {
     "name": "stderr",
     "output_type": "stream",
     "text": [
      "2020-12-12 13:44:58,277 [DEBUG] kashgari - predict output: (97, 38)\n",
      "2020-12-12 13:44:58,278 [DEBUG] kashgari - predict output argmax: [[0 1 1 ... 1 1 1]\n",
      " [0 1 1 ... 4 4 4]\n",
      " [0 1 1 ... 1 1 1]\n",
      " ...\n",
      " [0 1 1 ... 1 1 1]\n",
      " [0 1 1 ... 1 1 1]\n",
      " [0 1 0 ... 0 0 0]]\n",
      "2020-12-12 13:44:58,285 [DEBUG] kashgari - predict seq_length: None, input: (2, 351, 56)\n"
     ]
    },
    {
     "name": "stdout",
     "output_type": "stream",
     "text": [
      "11/11 [==============================] - 1s 66ms/step\n"
     ]
    },
    {
     "name": "stderr",
     "output_type": "stream",
     "text": [
      "2020-12-12 13:45:02,594 [DEBUG] kashgari - predict output: (351, 56)\n",
      "2020-12-12 13:45:02,594 [DEBUG] kashgari - predict output argmax: [[0 1 1 ... 1 1 1]\n",
      " [0 1 1 ... 1 1 1]\n",
      " [0 1 1 ... 1 1 1]\n",
      " ...\n",
      " [0 1 1 ... 1 1 1]\n",
      " [0 1 1 ... 1 1 1]\n",
      " [0 1 0 ... 0 0 0]]\n",
      "2020-12-12 13:45:02,598 [DEBUG] kashgari - predict seq_length: None, input: (2, 297, 46)\n"
     ]
    },
    {
     "name": "stdout",
     "output_type": "stream",
     "text": [
      "10/10 [==============================] - 1s 56ms/step\n"
     ]
    },
    {
     "name": "stderr",
     "output_type": "stream",
     "text": [
      "2020-12-12 13:45:06,142 [DEBUG] kashgari - predict output: (297, 46)\n",
      "2020-12-12 13:45:06,143 [DEBUG] kashgari - predict output argmax: [[0 1 1 ... 1 1 1]\n",
      " [0 1 1 ... 1 1 1]\n",
      " [0 1 1 ... 1 1 1]\n",
      " ...\n",
      " [0 1 1 ... 1 1 1]\n",
      " [0 1 1 ... 1 1 1]\n",
      " [0 1 0 ... 0 0 0]]\n",
      "2020-12-12 13:45:06,146 [DEBUG] kashgari - predict seq_length: None, input: (2, 136, 21)\n"
     ]
    },
    {
     "name": "stdout",
     "output_type": "stream",
     "text": [
      "5/5 [==============================] - 0s 28ms/step\n"
     ]
    },
    {
     "name": "stderr",
     "output_type": "stream",
     "text": [
      "2020-12-12 13:45:09,246 [DEBUG] kashgari - predict output: (136, 21)\n",
      "2020-12-12 13:45:09,247 [DEBUG] kashgari - predict output argmax: [[0 1 1 ... 1 1 1]\n",
      " [0 1 1 ... 1 1 1]\n",
      " [0 1 1 ... 4 4 4]\n",
      " ...\n",
      " [0 1 1 ... 1 1 1]\n",
      " [0 1 1 ... 1 1 1]\n",
      " [0 1 0 ... 0 0 0]]\n",
      "2020-12-12 13:45:09,250 [DEBUG] kashgari - predict seq_length: None, input: (2, 115, 42)\n"
     ]
    },
    {
     "name": "stdout",
     "output_type": "stream",
     "text": [
      "4/4 [==============================] - 0s 42ms/step\n"
     ]
    },
    {
     "name": "stderr",
     "output_type": "stream",
     "text": [
      "2020-12-12 13:45:12,460 [DEBUG] kashgari - predict output: (115, 42)\n",
      "2020-12-12 13:45:12,461 [DEBUG] kashgari - predict output argmax: [[0 1 1 ... 1 1 1]\n",
      " [0 1 1 ... 1 1 1]\n",
      " [0 1 1 ... 1 1 1]\n",
      " ...\n",
      " [0 1 1 ... 1 1 1]\n",
      " [0 1 1 ... 1 1 1]\n",
      " [0 1 0 ... 0 0 0]]\n",
      "2020-12-12 13:45:12,463 [DEBUG] kashgari - predict seq_length: None, input: (2, 89, 23)\n"
     ]
    },
    {
     "name": "stdout",
     "output_type": "stream",
     "text": [
      "3/3 [==============================] - 0s 26ms/step\n"
     ]
    },
    {
     "name": "stderr",
     "output_type": "stream",
     "text": [
      "2020-12-12 13:45:12,608 [DEBUG] kashgari - predict output: (89, 23)\n",
      "2020-12-12 13:45:12,609 [DEBUG] kashgari - predict output argmax: [[0 1 1 ... 1 1 1]\n",
      " [0 1 1 ... 1 1 1]\n",
      " [0 1 1 ... 1 1 1]\n",
      " ...\n",
      " [0 1 1 ... 1 1 1]\n",
      " [0 1 1 ... 1 1 1]\n",
      " [0 1 0 ... 0 0 0]]\n",
      "2020-12-12 13:45:12,613 [DEBUG] kashgari - predict seq_length: None, input: (2, 251, 52)\n"
     ]
    },
    {
     "name": "stdout",
     "output_type": "stream",
     "text": [
      "8/8 [==============================] - 0s 61ms/step\n"
     ]
    },
    {
     "name": "stderr",
     "output_type": "stream",
     "text": [
      "2020-12-12 13:45:15,997 [DEBUG] kashgari - predict output: (251, 52)\n",
      "2020-12-12 13:45:15,998 [DEBUG] kashgari - predict output argmax: [[0 1 1 ... 1 1 1]\n",
      " [0 1 1 ... 1 1 1]\n",
      " [0 1 1 ... 1 1 1]\n",
      " ...\n",
      " [0 1 1 ... 1 1 1]\n",
      " [0 1 1 ... 1 1 1]\n",
      " [0 1 0 ... 0 0 0]]\n",
      "2020-12-12 13:45:16,000 [DEBUG] kashgari - predict seq_length: None, input: (2, 153, 20)\n"
     ]
    },
    {
     "name": "stdout",
     "output_type": "stream",
     "text": [
      "5/5 [==============================] - 0s 25ms/step\n"
     ]
    },
    {
     "name": "stderr",
     "output_type": "stream",
     "text": [
      "2020-12-12 13:45:16,176 [DEBUG] kashgari - predict output: (153, 20)\n",
      "2020-12-12 13:45:16,177 [DEBUG] kashgari - predict output argmax: [[ 0  1  1 ...  1  1  1]\n",
      " [ 0  1  0 ...  1  1  1]\n",
      " [ 0  1  1 ... 25 25 25]\n",
      " ...\n",
      " [ 0  1  1 ...  1  1  1]\n",
      " [ 0  1  1 ...  1  1  1]\n",
      " [ 0  1  0 ...  0  0  0]]\n",
      "2020-12-12 13:45:16,181 [DEBUG] kashgari - predict seq_length: None, input: (2, 169, 47)\n"
     ]
    },
    {
     "name": "stdout",
     "output_type": "stream",
     "text": [
      "6/6 [==============================] - 0s 53ms/step\n"
     ]
    },
    {
     "name": "stderr",
     "output_type": "stream",
     "text": [
      "2020-12-12 13:45:19,485 [DEBUG] kashgari - predict output: (169, 47)\n",
      "2020-12-12 13:45:19,486 [DEBUG] kashgari - predict output argmax: [[0 1 1 ... 1 1 1]\n",
      " [0 1 1 ... 1 1 1]\n",
      " [0 1 1 ... 1 1 1]\n",
      " ...\n",
      " [0 1 1 ... 1 1 1]\n",
      " [0 1 1 ... 1 1 1]\n",
      " [0 1 0 ... 0 0 0]]\n",
      "2020-12-12 13:45:19,489 [DEBUG] kashgari - predict seq_length: None, input: (2, 324, 37)\n"
     ]
    },
    {
     "name": "stdout",
     "output_type": "stream",
     "text": [
      "11/11 [==============================] - 0s 44ms/step\n"
     ]
    },
    {
     "name": "stderr",
     "output_type": "stream",
     "text": [
      "2020-12-12 13:45:20,047 [DEBUG] kashgari - predict output: (324, 37)\n",
      "2020-12-12 13:45:20,048 [DEBUG] kashgari - predict output argmax: [[0 1 1 ... 1 1 1]\n",
      " [0 1 1 ... 1 1 1]\n",
      " [0 1 1 ... 1 1 1]\n",
      " ...\n",
      " [0 1 1 ... 8 8 8]\n",
      " [0 1 1 ... 1 1 1]\n",
      " [0 1 0 ... 0 0 0]]\n",
      "2020-12-12 13:45:20,050 [DEBUG] kashgari - predict seq_length: None, input: (2, 157, 35)\n"
     ]
    },
    {
     "name": "stdout",
     "output_type": "stream",
     "text": [
      "5/5 [==============================] - 0s 38ms/step\n"
     ]
    },
    {
     "name": "stderr",
     "output_type": "stream",
     "text": [
      "2020-12-12 13:45:20,309 [DEBUG] kashgari - predict output: (157, 35)\n",
      "2020-12-12 13:45:20,310 [DEBUG] kashgari - predict output argmax: [[0 1 1 ... 1 1 1]\n",
      " [0 1 1 ... 1 1 1]\n",
      " [0 1 1 ... 1 1 1]\n",
      " ...\n",
      " [0 1 1 ... 1 1 1]\n",
      " [0 1 1 ... 1 1 1]\n",
      " [0 1 0 ... 0 0 0]]\n",
      "2020-12-12 13:45:20,312 [DEBUG] kashgari - predict seq_length: None, input: (2, 191, 27)\n"
     ]
    },
    {
     "name": "stdout",
     "output_type": "stream",
     "text": [
      "6/6 [==============================] - 0s 38ms/step\n"
     ]
    },
    {
     "name": "stderr",
     "output_type": "stream",
     "text": [
      "2020-12-12 13:45:23,483 [DEBUG] kashgari - predict output: (191, 27)\n",
      "2020-12-12 13:45:23,484 [DEBUG] kashgari - predict output argmax: [[0 1 1 ... 1 1 1]\n",
      " [0 1 1 ... 1 1 1]\n",
      " [0 1 1 ... 1 1 1]\n",
      " ...\n",
      " [0 1 1 ... 1 1 1]\n",
      " [0 1 1 ... 1 1 1]\n",
      " [0 1 0 ... 0 0 0]]\n",
      "2020-12-12 13:45:23,487 [DEBUG] kashgari - predict seq_length: None, input: (2, 115, 36)\n"
     ]
    },
    {
     "name": "stdout",
     "output_type": "stream",
     "text": [
      "4/4 [==============================] - 0s 39ms/step\n"
     ]
    },
    {
     "name": "stderr",
     "output_type": "stream",
     "text": [
      "2020-12-12 13:45:26,602 [DEBUG] kashgari - predict output: (115, 36)\n",
      "2020-12-12 13:45:26,603 [DEBUG] kashgari - predict output argmax: [[0 1 1 ... 1 1 1]\n",
      " [0 1 1 ... 1 1 1]\n",
      " [0 1 1 ... 1 1 1]\n",
      " ...\n",
      " [0 1 1 ... 1 1 1]\n",
      " [0 1 1 ... 1 1 1]\n",
      " [0 1 0 ... 0 0 0]]\n",
      "2020-12-12 13:45:26,610 [DEBUG] kashgari - predict seq_length: None, input: (2, 529, 33)\n"
     ]
    },
    {
     "name": "stdout",
     "output_type": "stream",
     "text": [
      "17/17 [==============================] - 1s 42ms/step\n"
     ]
    },
    {
     "name": "stderr",
     "output_type": "stream",
     "text": [
      "2020-12-12 13:45:27,413 [DEBUG] kashgari - predict output: (529, 33)\n",
      "2020-12-12 13:45:27,413 [DEBUG] kashgari - predict output argmax: [[0 1 1 ... 1 1 1]\n",
      " [0 1 1 ... 1 1 1]\n",
      " [0 1 1 ... 1 1 1]\n",
      " ...\n",
      " [0 1 1 ... 1 1 1]\n",
      " [0 1 1 ... 1 1 1]\n",
      " [0 1 0 ... 0 0 0]]\n",
      "2020-12-12 13:45:27,416 [DEBUG] kashgari - predict seq_length: None, input: (2, 217, 32)\n"
     ]
    },
    {
     "name": "stdout",
     "output_type": "stream",
     "text": [
      "7/7 [==============================] - 0s 37ms/step\n"
     ]
    },
    {
     "name": "stderr",
     "output_type": "stream",
     "text": [
      "2020-12-12 13:45:27,748 [DEBUG] kashgari - predict output: (217, 32)\n",
      "2020-12-12 13:45:27,749 [DEBUG] kashgari - predict output argmax: [[0 1 1 ... 1 1 1]\n",
      " [0 1 1 ... 1 1 1]\n",
      " [0 1 1 ... 1 1 1]\n",
      " ...\n",
      " [0 1 1 ... 1 1 1]\n",
      " [0 1 1 ... 1 1 1]\n",
      " [0 1 0 ... 0 0 0]]\n",
      "2020-12-12 13:45:27,751 [DEBUG] kashgari - predict seq_length: None, input: (2, 186, 47)\n"
     ]
    },
    {
     "name": "stdout",
     "output_type": "stream",
     "text": [
      "6/6 [==============================] - 0s 52ms/step\n"
     ]
    },
    {
     "name": "stderr",
     "output_type": "stream",
     "text": [
      "2020-12-12 13:45:28,149 [DEBUG] kashgari - predict output: (186, 47)\n",
      "2020-12-12 13:45:28,149 [DEBUG] kashgari - predict output argmax: [[0 1 1 ... 1 1 1]\n",
      " [0 1 1 ... 1 1 1]\n",
      " [0 1 1 ... 1 1 1]\n",
      " ...\n",
      " [0 1 1 ... 1 1 1]\n",
      " [0 1 0 ... 1 1 1]\n",
      " [0 1 0 ... 0 0 0]]\n",
      "2020-12-12 13:45:28,154 [DEBUG] kashgari - predict seq_length: None, input: (2, 410, 55)\n"
     ]
    },
    {
     "name": "stdout",
     "output_type": "stream",
     "text": [
      "13/13 [==============================] - 1s 64ms/step\n"
     ]
    },
    {
     "name": "stderr",
     "output_type": "stream",
     "text": [
      "2020-12-12 13:45:31,957 [DEBUG] kashgari - predict output: (410, 55)\n",
      "2020-12-12 13:45:31,958 [DEBUG] kashgari - predict output argmax: [[0 1 1 ... 1 1 1]\n",
      " [0 1 1 ... 1 1 1]\n",
      " [0 1 1 ... 1 1 1]\n",
      " ...\n",
      " [0 1 1 ... 1 1 1]\n",
      " [0 1 1 ... 1 1 1]\n",
      " [0 1 0 ... 0 0 0]]\n",
      "2020-12-12 13:45:31,962 [DEBUG] kashgari - predict seq_length: None, input: (2, 347, 42)\n"
     ]
    },
    {
     "name": "stdout",
     "output_type": "stream",
     "text": [
      "11/11 [==============================] - 1s 49ms/step\n"
     ]
    },
    {
     "name": "stderr",
     "output_type": "stream",
     "text": [
      "2020-12-12 13:45:32,582 [DEBUG] kashgari - predict output: (347, 42)\n",
      "2020-12-12 13:45:32,582 [DEBUG] kashgari - predict output argmax: [[0 1 1 ... 1 1 1]\n",
      " [0 1 1 ... 1 1 1]\n",
      " [0 1 1 ... 1 1 1]\n",
      " ...\n",
      " [0 1 1 ... 1 1 1]\n",
      " [0 1 1 ... 1 1 1]\n",
      " [0 1 0 ... 0 0 0]]\n",
      "2020-12-12 13:45:32,588 [DEBUG] kashgari - predict seq_length: None, input: (2, 524, 65)\n"
     ]
    },
    {
     "name": "stdout",
     "output_type": "stream",
     "text": [
      "17/17 [==============================] - 1s 75ms/step\n"
     ]
    },
    {
     "name": "stderr",
     "output_type": "stream",
     "text": [
      "2020-12-12 13:45:37,768 [DEBUG] kashgari - predict output: (524, 65)\n",
      "2020-12-12 13:45:37,769 [DEBUG] kashgari - predict output argmax: [[0 1 1 ... 1 1 1]\n",
      " [0 1 1 ... 1 1 1]\n",
      " [0 1 1 ... 1 1 1]\n",
      " ...\n",
      " [0 1 1 ... 1 1 1]\n",
      " [0 1 1 ... 1 1 1]\n",
      " [0 1 0 ... 0 0 0]]\n",
      "2020-12-12 13:45:37,772 [DEBUG] kashgari - predict seq_length: None, input: (2, 182, 29)\n"
     ]
    },
    {
     "name": "stdout",
     "output_type": "stream",
     "text": [
      "6/6 [==============================] - 0s 34ms/step\n"
     ]
    },
    {
     "name": "stderr",
     "output_type": "stream",
     "text": [
      "2020-12-12 13:45:38,039 [DEBUG] kashgari - predict output: (182, 29)\n",
      "2020-12-12 13:45:38,039 [DEBUG] kashgari - predict output argmax: [[0 1 1 ... 1 1 1]\n",
      " [0 1 1 ... 1 1 1]\n",
      " [0 1 1 ... 1 1 1]\n",
      " ...\n",
      " [0 1 1 ... 1 1 1]\n",
      " [0 1 1 ... 1 1 1]\n",
      " [0 1 0 ... 0 0 0]]\n",
      "2020-12-12 13:45:38,042 [DEBUG] kashgari - predict seq_length: None, input: (2, 163, 20)\n"
     ]
    },
    {
     "name": "stdout",
     "output_type": "stream",
     "text": [
      "6/6 [==============================] - 0s 26ms/step\n"
     ]
    },
    {
     "name": "stderr",
     "output_type": "stream",
     "text": [
      "2020-12-12 13:45:38,251 [DEBUG] kashgari - predict output: (163, 20)\n",
      "2020-12-12 13:45:38,252 [DEBUG] kashgari - predict output argmax: [[0 1 1 ... 1 1 1]\n",
      " [0 1 1 ... 1 1 1]\n",
      " [0 1 1 ... 1 1 1]\n",
      " ...\n",
      " [0 1 0 ... 1 1 1]\n",
      " [0 1 1 ... 1 1 1]\n",
      " [0 1 0 ... 0 0 0]]\n",
      "2020-12-12 13:45:38,255 [DEBUG] kashgari - predict seq_length: None, input: (2, 97, 19)\n"
     ]
    },
    {
     "name": "stdout",
     "output_type": "stream",
     "text": [
      "4/4 [==============================] - 0s 21ms/step\n"
     ]
    },
    {
     "name": "stderr",
     "output_type": "stream",
     "text": [
      "2020-12-12 13:45:38,392 [DEBUG] kashgari - predict output: (97, 19)\n",
      "2020-12-12 13:45:38,393 [DEBUG] kashgari - predict output argmax: [[0 1 1 ... 1 1 1]\n",
      " [0 1 1 ... 1 1 1]\n",
      " [0 1 0 ... 1 1 1]\n",
      " ...\n",
      " [0 1 1 ... 1 1 1]\n",
      " [0 1 1 ... 1 1 1]\n",
      " [0 1 0 ... 0 0 0]]\n",
      "2020-12-12 13:45:38,396 [DEBUG] kashgari - predict seq_length: None, input: (2, 189, 21)\n"
     ]
    },
    {
     "name": "stdout",
     "output_type": "stream",
     "text": [
      "6/6 [==============================] - 0s 28ms/step\n"
     ]
    },
    {
     "name": "stderr",
     "output_type": "stream",
     "text": [
      "2020-12-12 13:45:38,621 [DEBUG] kashgari - predict output: (189, 21)\n",
      "2020-12-12 13:45:38,622 [DEBUG] kashgari - predict output argmax: [[0 1 1 ... 1 1 1]\n",
      " [0 1 0 ... 1 1 1]\n",
      " [0 1 1 ... 1 1 1]\n",
      " ...\n",
      " [0 1 1 ... 1 1 1]\n",
      " [0 1 1 ... 1 1 1]\n",
      " [0 1 0 ... 0 0 0]]\n",
      "2020-12-12 13:45:38,626 [DEBUG] kashgari - predict seq_length: None, input: (2, 320, 25)\n"
     ]
    },
    {
     "name": "stdout",
     "output_type": "stream",
     "text": [
      "10/10 [==============================] - 0s 31ms/step\n"
     ]
    },
    {
     "name": "stderr",
     "output_type": "stream",
     "text": [
      "2020-12-12 13:45:41,008 [DEBUG] kashgari - predict output: (320, 25)\n",
      "2020-12-12 13:45:41,009 [DEBUG] kashgari - predict output argmax: [[0 1 1 ... 1 1 1]\n",
      " [0 1 1 ... 1 1 1]\n",
      " [0 1 1 ... 1 1 1]\n",
      " ...\n",
      " [0 1 0 ... 1 1 1]\n",
      " [0 1 1 ... 1 1 1]\n",
      " [0 1 0 ... 0 0 0]]\n",
      "2020-12-12 13:45:41,012 [DEBUG] kashgari - predict seq_length: None, input: (2, 301, 20)\n"
     ]
    },
    {
     "name": "stdout",
     "output_type": "stream",
     "text": [
      "10/10 [==============================] - 0s 29ms/step\n"
     ]
    },
    {
     "name": "stderr",
     "output_type": "stream",
     "text": [
      "2020-12-12 13:45:41,357 [DEBUG] kashgari - predict output: (301, 20)\n",
      "2020-12-12 13:45:41,358 [DEBUG] kashgari - predict output argmax: [[0 1 1 ... 1 1 1]\n",
      " [0 1 1 ... 1 1 1]\n",
      " [0 1 1 ... 1 1 1]\n",
      " ...\n",
      " [0 1 0 ... 1 1 1]\n",
      " [0 1 1 ... 1 1 1]\n",
      " [0 1 0 ... 0 0 0]]\n",
      "2020-12-12 13:45:41,360 [DEBUG] kashgari - predict seq_length: None, input: (2, 82, 35)\n"
     ]
    },
    {
     "name": "stdout",
     "output_type": "stream",
     "text": [
      "3/3 [==============================] - 0s 28ms/step\n"
     ]
    },
    {
     "name": "stderr",
     "output_type": "stream",
     "text": [
      "2020-12-12 13:45:41,508 [DEBUG] kashgari - predict output: (82, 35)\n",
      "2020-12-12 13:45:41,508 [DEBUG] kashgari - predict output argmax: [[0 1 1 ... 1 1 1]\n",
      " [0 1 1 ... 1 1 1]\n",
      " [0 1 1 ... 1 1 1]\n",
      " ...\n",
      " [0 1 1 ... 1 1 1]\n",
      " [0 1 1 ... 1 1 1]\n",
      " [0 1 0 ... 0 0 0]]\n",
      "2020-12-12 13:45:41,513 [DEBUG] kashgari - predict seq_length: None, input: (2, 192, 37)\n"
     ]
    },
    {
     "name": "stdout",
     "output_type": "stream",
     "text": [
      "6/6 [==============================] - 0s 39ms/step\n"
     ]
    },
    {
     "name": "stderr",
     "output_type": "stream",
     "text": [
      "2020-12-12 13:45:43,774 [DEBUG] kashgari - predict output: (192, 37)\n",
      "2020-12-12 13:45:43,774 [DEBUG] kashgari - predict output argmax: [[0 1 1 ... 4 4 4]\n",
      " [0 1 6 ... 1 1 1]\n",
      " [0 1 1 ... 4 4 4]\n",
      " ...\n",
      " [0 1 1 ... 1 1 1]\n",
      " [0 1 1 ... 1 1 1]\n",
      " [0 1 0 ... 0 0 0]]\n",
      "2020-12-12 13:45:43,778 [DEBUG] kashgari - predict seq_length: None, input: (2, 264, 48)\n"
     ]
    },
    {
     "name": "stdout",
     "output_type": "stream",
     "text": [
      "9/9 [==============================] - 1s 57ms/step\n"
     ]
    },
    {
     "name": "stderr",
     "output_type": "stream",
     "text": [
      "2020-12-12 13:45:47,186 [DEBUG] kashgari - predict output: (264, 48)\n",
      "2020-12-12 13:45:47,187 [DEBUG] kashgari - predict output argmax: [[0 1 1 ... 1 1 1]\n",
      " [0 1 1 ... 1 1 1]\n",
      " [0 1 1 ... 1 1 1]\n",
      " ...\n",
      " [0 1 1 ... 1 1 1]\n",
      " [0 1 1 ... 1 1 1]\n",
      " [0 1 0 ... 0 0 0]]\n",
      "2020-12-12 13:45:47,190 [DEBUG] kashgari - predict seq_length: None, input: (2, 247, 43)\n"
     ]
    },
    {
     "name": "stdout",
     "output_type": "stream",
     "text": [
      "8/8 [==============================] - 0s 50ms/step\n"
     ]
    },
    {
     "name": "stderr",
     "output_type": "stream",
     "text": [
      "2020-12-12 13:45:50,419 [DEBUG] kashgari - predict output: (247, 43)\n",
      "2020-12-12 13:45:50,420 [DEBUG] kashgari - predict output argmax: [[0 1 1 ... 1 1 1]\n",
      " [0 1 1 ... 1 1 1]\n",
      " [0 1 1 ... 1 1 1]\n",
      " ...\n",
      " [0 1 1 ... 1 1 1]\n",
      " [0 1 1 ... 1 1 1]\n",
      " [0 1 0 ... 0 0 0]]\n",
      "2020-12-12 13:45:50,422 [DEBUG] kashgari - predict seq_length: None, input: (2, 120, 21)\n"
     ]
    },
    {
     "name": "stdout",
     "output_type": "stream",
     "text": [
      "4/4 [==============================] - 0s 25ms/step\n"
     ]
    },
    {
     "name": "stderr",
     "output_type": "stream",
     "text": [
      "2020-12-12 13:45:50,573 [DEBUG] kashgari - predict output: (120, 21)\n",
      "2020-12-12 13:45:50,574 [DEBUG] kashgari - predict output argmax: [[ 0  1  1 ... 21 21 21]\n",
      " [ 0  1  1 ...  1  1  1]\n",
      " [ 0  6  4 ...  1  1  1]\n",
      " ...\n",
      " [ 0  1  1 ...  1  1  1]\n",
      " [ 0  1  1 ...  1  1  1]\n",
      " [ 0  1  0 ...  0  0  0]]\n",
      "2020-12-12 13:45:50,576 [DEBUG] kashgari - predict seq_length: None, input: (2, 49, 21)\n"
     ]
    },
    {
     "name": "stdout",
     "output_type": "stream",
     "text": [
      "2/2 [==============================] - 0s 16ms/step\n"
     ]
    },
    {
     "name": "stderr",
     "output_type": "stream",
     "text": [
      "2020-12-12 13:45:50,661 [DEBUG] kashgari - predict output: (49, 21)\n",
      "2020-12-12 13:45:50,662 [DEBUG] kashgari - predict output argmax: [[0 1 1 ... 1 1 1]\n",
      " [0 1 1 ... 1 1 1]\n",
      " [0 1 1 ... 1 1 1]\n",
      " ...\n",
      " [0 1 1 ... 1 1 1]\n",
      " [0 1 1 ... 1 1 1]\n",
      " [0 1 0 ... 0 0 0]]\n",
      "2020-12-12 13:45:50,664 [DEBUG] kashgari - predict seq_length: None, input: (2, 104, 32)\n"
     ]
    },
    {
     "name": "stdout",
     "output_type": "stream",
     "text": [
      "4/4 [==============================] - 0s 29ms/step\n"
     ]
    },
    {
     "name": "stderr",
     "output_type": "stream",
     "text": [
      "2020-12-12 13:45:50,847 [DEBUG] kashgari - predict output: (104, 32)\n",
      "2020-12-12 13:45:50,848 [DEBUG] kashgari - predict output argmax: [[0 1 1 ... 4 4 4]\n",
      " [0 1 1 ... 1 1 1]\n",
      " [0 1 1 ... 1 1 1]\n",
      " ...\n",
      " [0 1 1 ... 1 1 1]\n",
      " [0 1 1 ... 1 1 1]\n",
      " [0 1 0 ... 0 0 0]]\n",
      "2020-12-12 13:45:50,854 [DEBUG] kashgari - predict seq_length: None, input: (2, 190, 33)\n"
     ]
    },
    {
     "name": "stdout",
     "output_type": "stream",
     "text": [
      "6/6 [==============================] - 0s 37ms/step\n"
     ]
    },
    {
     "name": "stderr",
     "output_type": "stream",
     "text": [
      "2020-12-12 13:45:51,142 [DEBUG] kashgari - predict output: (190, 33)\n",
      "2020-12-12 13:45:51,142 [DEBUG] kashgari - predict output argmax: [[0 1 1 ... 1 1 1]\n",
      " [0 1 1 ... 1 1 1]\n",
      " [0 1 1 ... 1 1 1]\n",
      " ...\n",
      " [0 1 1 ... 1 1 1]\n",
      " [0 1 1 ... 1 1 1]\n",
      " [0 1 0 ... 0 0 0]]\n",
      "2020-12-12 13:45:51,144 [DEBUG] kashgari - predict seq_length: None, input: (2, 79, 25)\n"
     ]
    },
    {
     "name": "stdout",
     "output_type": "stream",
     "text": [
      "3/3 [==============================] - 0s 23ms/step\n"
     ]
    },
    {
     "name": "stderr",
     "output_type": "stream",
     "text": [
      "2020-12-12 13:45:51,271 [DEBUG] kashgari - predict output: (79, 25)\n",
      "2020-12-12 13:45:51,272 [DEBUG] kashgari - predict output argmax: [[0 1 1 ... 1 1 1]\n",
      " [0 1 1 ... 1 1 1]\n",
      " [0 1 1 ... 1 1 1]\n",
      " ...\n",
      " [0 1 1 ... 1 1 1]\n",
      " [0 1 1 ... 1 1 1]\n",
      " [0 1 0 ... 0 0 0]]\n",
      "2020-12-12 13:45:51,275 [DEBUG] kashgari - predict seq_length: None, input: (2, 162, 39)\n"
     ]
    },
    {
     "name": "stdout",
     "output_type": "stream",
     "text": [
      "6/6 [==============================] - 0s 44ms/step\n"
     ]
    },
    {
     "name": "stderr",
     "output_type": "stream",
     "text": [
      "2020-12-12 13:45:54,553 [DEBUG] kashgari - predict output: (162, 39)\n",
      "2020-12-12 13:45:54,553 [DEBUG] kashgari - predict output argmax: [[0 1 1 ... 1 1 1]\n",
      " [0 1 1 ... 1 1 1]\n",
      " [0 1 1 ... 1 1 1]\n",
      " ...\n",
      " [0 1 1 ... 1 1 1]\n",
      " [0 1 1 ... 1 1 1]\n",
      " [0 1 0 ... 0 0 0]]\n",
      "2020-12-12 13:45:54,555 [DEBUG] kashgari - predict seq_length: None, input: (2, 96, 23)\n"
     ]
    },
    {
     "name": "stdout",
     "output_type": "stream",
     "text": [
      "3/3 [==============================] - 0s 23ms/step\n"
     ]
    },
    {
     "name": "stderr",
     "output_type": "stream",
     "text": [
      "2020-12-12 13:45:56,818 [DEBUG] kashgari - predict output: (96, 23)\n",
      "2020-12-12 13:45:56,818 [DEBUG] kashgari - predict output argmax: [[0 1 1 ... 1 1 1]\n",
      " [0 1 1 ... 1 1 1]\n",
      " [0 1 1 ... 1 1 1]\n",
      " ...\n",
      " [0 1 1 ... 1 1 1]\n",
      " [0 1 1 ... 1 1 1]\n",
      " [0 1 0 ... 0 0 0]]\n",
      "2020-12-12 13:45:56,822 [DEBUG] kashgari - predict seq_length: None, input: (2, 197, 40)\n"
     ]
    },
    {
     "name": "stdout",
     "output_type": "stream",
     "text": [
      "7/7 [==============================] - 0s 43ms/step\n"
     ]
    },
    {
     "name": "stderr",
     "output_type": "stream",
     "text": [
      "2020-12-12 13:45:57,207 [DEBUG] kashgari - predict output: (197, 40)\n",
      "2020-12-12 13:45:57,208 [DEBUG] kashgari - predict output argmax: [[0 1 1 ... 1 1 1]\n",
      " [0 1 1 ... 1 1 1]\n",
      " [0 1 1 ... 1 1 1]\n",
      " ...\n",
      " [0 1 1 ... 1 1 1]\n",
      " [0 1 1 ... 1 1 1]\n",
      " [0 1 0 ... 0 0 0]]\n"
     ]
    }
   ],
   "source": [
    "df = predicting_txt_to_dataframe('/home/Danny/AI-CUP-2020/datasets/stage4/development_2.txt')\n",
    "output_str = \"article_id\\tstart_position\\tend_position\\tentity_text\\tentity_type\\n\"\n",
    "\n",
    "for article_id, text in zip(df['article_id'], df['text']):\n",
    "    x_list = [word for word in text]\n",
    "    y_list = predict_NER(text)\n",
    "    output_str += output_NER(article_id, text, y_list)"
   ]
  },
  {
   "cell_type": "code",
   "execution_count": 20,
   "metadata": {},
   "outputs": [
    {
     "name": "stdout",
     "output_type": "stream",
     "text": [
      "article_id\tstart_position\tend_position\tentity_text\tentity_type\n",
      "0\t256\t258\t25\tmed_exam\n",
      "0\t273\t276\t李醫生\tname\n",
      "0\t320\t322\t25\tmed_exam\n",
      "0\t326\t328\t25\tmed_exam\n",
      "0\t400\t403\t11點\ttime\n",
      "0\t409\t411\t4點\ttime\n",
      "0\t615\t619\t11點多\ttime\n",
      "0\t645\t647\t兩天\ttime\n",
      "0\t817\t819\t晚上\ttime\n",
      "0\t1090\t1092\t那天\ttime\n",
      "0\t1168\t1172\t7月21\ttime\n",
      "0\t1571\t1573\t10\tmed_exam\n",
      "0\t2200\t2203\t13號\ttime\n",
      "0\t2214\t2217\t15天\ttime\n",
      "0\t2226\t2228\t3天\ttime\n",
      "0\t2259\t2263\t一個禮拜\ttime\n",
      "0\t2319\t2322\t禮拜一\ttime\n",
      "0\t2332\t2335\t禮拜一\ttime\n",
      "0\t2372\t2375\t前幾天\ttime\n",
      "0\t2555\t2558\t皇后區\tlocation\n",
      "0\t2624\t2628\t下下禮拜\ttime\n",
      "0\t2735\t2740\t布魯克林區\tlocation\n",
      "0\t2752\t2755\t皇后區\tlocation\n",
      "0\t2774\t2777\t皇后區\tlocation\n",
      "0\t2807\t2810\t下禮拜\ttime\n",
      "0\t3029\t3031\t昨天\ttime\n",
      "0\t3067\t3070\t下禮拜\ttime\n",
      "0\t3340\t3343\t下禮拜\ttime\n",
      "1\t59\t62\t108\tmed_exam\n",
      "1\t66\t69\t108\tmed_exam\n",
      "1\t457\t460\t五月中\ttime\n",
      "1\t671\t674\t三個月\ttime\n",
      "2\t27\t32\t8月17號\ttime\n",
      "2\t40\t45\t上上個禮拜\ttime\n",
      "2\t53\t56\t110\tmed_exam\n",
      "2\t111\t114\t6.0\tmed_exam\n",
      "2\t279\t282\t2年前\ttime\n",
      "2\t563\t566\t光華路\tlocation\n",
      "2\t571\t574\t光華路\tlocation\n",
      "2\t980\t982\t兩天\ttime\n",
      "2\t1096\t1098\t半年\ttime\n",
      "2\t1114\t1116\t半年\ttime\n",
      "2\t1118\t1120\t半年\ttime\n",
      "2\t1139\t1141\t爸爸\tfamily\n",
      "2\t1147\t1150\t三個月\ttime\n",
      "2\t1226\t1231\t一兩個禮拜\ttime\n",
      "3\t157\t159\t晚上\ttime\n",
      "3\t183\t186\t7點多\ttime\n",
      "3\t187\t190\t8點多\ttime\n",
      "3\t233\t236\t9點多\ttime\n",
      "3\t250\t255\t6月15號\ttime\n",
      "3\t256\t259\t16號\ttime\n",
      "3\t265\t268\t16號\ttime\n",
      "3\t272\t274\t14\ttime\n",
      "3\t275\t277\t15\ttime\n",
      "3\t278\t281\t16號\ttime\n",
      "3\t302\t306\t1個禮拜\ttime\n",
      "3\t576\t580\t6月4號\ttime\n",
      "3\t582\t584\t前年\ttime\n",
      "3\t592\t594\t前年\ttime\n",
      "3\t609\t611\t一年\ttime\n",
      "3\t913\t917\t50分鐘\ttime\n",
      "3\t1430\t1434\t洗禮拜1\ttime\n",
      "3\t1443\t1446\t禮拜2\ttime\n",
      "3\t1456\t1459\t禮拜2\ttime\n",
      "3\t1472\t1475\t禮拜2\ttime\n",
      "3\t1478\t1479\t6\ttime\n",
      "3\t1489\t1492\t禮拜1\ttime\n",
      "3\t1842\t1844\t高醫\tlocation\n",
      "3\t1873\t1877\t4、5月\ttime\n",
      "3\t1882\t1884\t去年\ttime\n",
      "3\t1890\t1894\t108年\ttime\n",
      "3\t1899\t1903\t106年\ttime\n",
      "3\t1910\t1914\t106年\ttime\n",
      "3\t1921\t1925\t4、5月\ttime\n",
      "3\t1929\t1931\t四月\ttime\n",
      "3\t1932\t1934\t五月\ttime\n",
      "3\t1947\t1949\t高醫\tlocation\n",
      "3\t2021\t2025\t4、5月\ttime\n",
      "3\t2033\t2036\t8月份\ttime\n",
      "3\t2041\t2043\t8月\ttime\n",
      "3\t2046\t2048\t8月\ttime\n",
      "3\t2102\t2104\t5年\ttime\n",
      "3\t2105\t2107\t5年\ttime\n",
      "3\t2178\t2183\t八月23日\ttime\n",
      "3\t2195\t2200\t八月23日\ttime\n",
      "3\t2204\t2207\t八月份\ttime\n",
      "3\t2219\t2225\t6、7、8月\ttime\n",
      "3\t2230\t2233\t八月份\ttime\n",
      "3\t2250\t2254\t106年\ttime\n",
      "3\t3081\t3087\t1、2個小時\ttime\n",
      "3\t3101\t3107\t1、2個小時\ttime\n",
      "3\t3108\t3114\t1、2個小時\ttime\n",
      "3\t3131\t3133\t明天\ttime\n",
      "4\t7\t12\t6月14號\ttime\n",
      "4\t18\t20\t14\tmed_exam\n",
      "4\t24\t26\t13\ttime\n",
      "4\t28\t30\t14\ttime\n",
      "4\t38\t40\t14\tmed_exam\n",
      "4\t42\t44\t13\tmed_exam\n",
      "4\t45\t47\t14\tmed_exam\n",
      "4\t146\t148\t昨天\ttime\n",
      "4\t187\t190\t林醫師\tname\n",
      "4\t318\t321\t巫醫師\tname\n",
      "4\t338\t343\t前一個禮拜\ttime\n",
      "4\t354\t358\t上個禮拜\ttime\n",
      "4\t388\t392\t一個禮拜\ttime\n",
      "4\t623\t625\t昨天\ttime\n",
      "4\t666\t668\t昨天\ttime\n",
      "4\t687\t690\t70多\tmed_exam\n",
      "4\t731\t734\t林醫師\tname\n",
      "4\t806\t809\t林醫師\tname\n",
      "4\t815\t818\t林醫師\tname\n",
      "4\t838\t840\t昨天\ttime\n",
      "4\t844\t847\t林醫師\tname\n",
      "4\t872\t877\t6月24號\ttime\n",
      "4\t880\t883\t林醫師\tname\n",
      "4\t1051\t1054\t呂醫師\tname\n",
      "4\t1537\t1540\t許醫師\tname\n",
      "4\t1606\t1609\t林醫師\tname\n",
      "4\t1620\t1623\t林醫師\tname\n",
      "4\t1692\t1695\t張醫師\tname\n",
      "4\t1724\t1727\t巫大維\tname\n",
      "4\t1811\t1814\t林醫師\tname\n",
      "4\t1912\t1915\t巫醫師\tname\n",
      "4\t1959\t1963\t這三個月\ttime\n",
      "4\t1974\t1977\t三個月\ttime\n",
      "4\t1979\t1982\t三個月\ttime\n",
      "4\t1988\t1991\t三個月\ttime\n",
      "5\t88\t90\t八點\ttime\n",
      "5\t861\t866\t1．6公分\tmed_exam\n",
      "5\t968\t970\t2點\ttime\n",
      "5\t1047\t1051\t昨天晚上\ttime\n",
      "5\t1052\t1055\t10點\ttime\n",
      "5\t1876\t1880\t一個禮拜\ttime\n",
      "5\t1886\t1889\t禮拜三\ttime\n",
      "5\t1893\t1896\t禮拜三\ttime\n",
      "5\t1919\t1921\t上午\ttime\n",
      "5\t1922\t1925\t禮拜三\ttime\n",
      "5\t1927\t1929\t上午\ttime\n",
      "5\t2326\t2328\t基隆\tlocation\n",
      "5\t2381\t2383\t基隆\tlocation\n",
      "5\t2433\t2436\t禮拜三\ttime\n",
      "5\t2437\t2441\t6月6號\ttime\n",
      "6\t86\t88\t前年\ttime\n",
      "6\t158\t162\t今年5月\ttime\n",
      "6\t376\t380\t7月4號\ttime\n",
      "6\t822\t825\t三四天\ttime\n",
      "6\t829\t832\t三四天\ttime\n",
      "6\t894\t899\t一兩個禮拜\ttime\n",
      "6\t994\t997\t418\tmed_exam\n",
      "6\t1003\t1006\t418\tmed_exam\n",
      "6\t1041\t1044\t418\tmed_exam\n",
      "6\t1091\t1093\t小姐\tname\n",
      "6\t1170\t1173\t343\tmed_exam\n",
      "6\t1177\t1180\t343\tmed_exam\n",
      "6\t1217\t1219\t今天\ttime\n",
      "6\t1250\t1253\t吳醫師\tname\n",
      "6\t1625\t1627\t櫻木\tname\n",
      "7\t108\t111\t張醫師\tname\n",
      "7\t240\t243\t132\tmed_exam\n",
      "7\t247\t250\t132\tmed_exam\n",
      "7\t272\t274\t91\tmed_exam\n",
      "7\t278\t280\t91\tmed_exam\n",
      "7\t323\t325\t72\tmed_exam\n",
      "7\t432\t435\t張醫師\tname\n",
      "7\t717\t720\t三百多\tmed_exam\n",
      "7\t889\t892\t三個月\ttime\n",
      "7\t910\t913\t三個月\ttime\n",
      "7\t1038\t1041\t三個月\ttime\n",
      "7\t1045\t1048\t三個月\ttime\n",
      "8\t215\t218\t黃醫師\tname\n",
      "8\t262\t265\t黃醫師\tname\n",
      "8\t484\t486\t晚上\ttime\n",
      "8\t533\t536\t黃醫師\tname\n",
      "8\t601\t604\t一個月\ttime\n",
      "8\t683\t689\t一到兩個禮拜\ttime\n",
      "8\t764\t767\t黃醫師\tname\n",
      "8\t932\t935\t王阿明\tname\n",
      "9\t35\t37\t五月\ttime\n",
      "9\t84\t87\t一個月\ttime\n",
      "9\t314\t316\t9月\ttime\n",
      "9\t418\t421\t3公斤\tmed_exam\n",
      "9\t439\t442\t170\tmed_exam\n",
      "9\t446\t449\t170\tmed_exam\n",
      "10\t71\t73\t74\tmed_exam\n",
      "10\t78\t80\t74\tmed_exam\n",
      "10\t160\t164\t下下禮拜\ttime\n",
      "10\t175\t178\t下禮拜\ttime\n",
      "10\t181\t185\t下禮拜三\ttime\n",
      "10\t221\t224\t一個月\ttime\n",
      "10\t262\t266\t四個禮拜\ttime\n",
      "10\t472\t476\t四個禮拜\ttime\n",
      "10\t491\t494\t禮拜三\ttime\n",
      "10\t537\t541\t十月六號\ttime\n",
      "11\t3\t6\t120\tID\n",
      "11\t7\t9\t71\tmed_exam\n",
      "11\t17\t21\t18.5\tmed_exam\n",
      "11\t26\t29\t上禮拜\ttime\n",
      "11\t123\t125\t北榮\tlocation\n",
      "11\t132\t135\t林醫師\tname\n",
      "11\t143\t146\t林醫師\tname\n",
      "11\t154\t158\t紐約醫院\tlocation\n",
      "11\t174\t178\t紐約醫院\tlocation\n",
      "11\t210\t213\t林醫師\tname\n",
      "11\t313\t316\t林醫師\tname\n",
      "11\t362\t364\t北榮\tlocation\n",
      "11\t368\t371\t巫醫師\tname\n",
      "11\t376\t379\t王醫師\tname\n",
      "11\t388\t390\t哥哥\tfamily\n",
      "11\t392\t394\t大哥\tfamily\n",
      "11\t417\t419\t北榮\tlocation\n",
      "11\t455\t458\t林醫師\tname\n",
      "11\t484\t486\t昨天\ttime\n",
      "11\t513\t516\t林醫師\tname\n",
      "11\t592\t594\t兩年\ttime\n",
      "11\t676\t680\t紐約醫院\tlocation\n",
      "11\t729\t732\t三個月\ttime\n",
      "11\t763\t766\t四個月\ttime\n",
      "11\t930\t933\t林醫師\tname\n",
      "11\t1097\t1099\t6月\ttime\n",
      "11\t1153\t1156\t兩個月\ttime\n",
      "11\t1179\t1182\t兩個月\ttime\n",
      "11\t1184\t1186\t前天\ttime\n",
      "11\t1196\t1198\t前天\ttime\n",
      "11\t1233\t1236\t兩個月\ttime\n",
      "11\t1238\t1241\t兩個月\ttime\n",
      "11\t1273\t1276\t兩個月\ttime\n",
      "11\t1353\t1355\t紐約\tlocation\n",
      "11\t1358\t1362\t紐約醫院\tlocation\n",
      "11\t1416\t1419\t兩個月\ttime\n",
      "11\t1470\t1472\t紐約\tlocation\n",
      "11\t1647\t1649\t兩年\ttime\n",
      "11\t1662\t1664\t後年\ttime\n",
      "11\t1784\t1786\t北榮\tlocation\n",
      "11\t1806\t1808\t北榮\tlocation\n",
      "11\t1869\t1872\t林醫師\tname\n",
      "11\t1888\t1890\t去年\ttime\n",
      "11\t2029\t2032\t林醫師\tname\n",
      "11\t2137\t2140\t4個月\ttime\n",
      "11\t2144\t2147\t4個月\ttime\n",
      "11\t2148\t2154\t10月17號\ttime\n",
      "11\t2245\t2247\t荷蘭\tlocation\n",
      "11\t2303\t2305\t一年\ttime\n",
      "11\t2334\t2336\t一年\ttime\n",
      "11\t2347\t2350\t巫醫師\tname\n",
      "12\t214\t220\t3點多4點多\ttime\n",
      "12\t342\t345\t129\tmed_exam\n",
      "12\t349\t352\t129\tmed_exam\n",
      "12\t353\t355\t81\tmed_exam\n",
      "12\t360\t363\t129\tmed_exam\n",
      "12\t364\t366\t81\tmed_exam\n",
      "12\t407\t412\t7月26號\ttime\n",
      "12\t434\t436\t92\tmed_exam\n",
      "12\t628\t630\t亞尼\tname\n",
      "12\t678\t681\t高麗精\tname\n",
      "12\t855\t857\t85\tmed_exam\n",
      "12\t885\t887\t85\tmed_exam\n",
      "13\t48\t52\t9月2號\ttime\n",
      "13\t60\t63\t9．7\tmed_exam\n",
      "13\t87\t89\t56\tmed_exam\n",
      "13\t126\t128\t56\tmed_exam\n",
      "13\t158\t161\t9．6\tmed_exam\n",
      "13\t166\t169\t9．8\tmed_exam\n",
      "13\t188\t191\t9．6\tmed_exam\n",
      "13\t394\t398\t2019\ttime\n",
      "13\t446\t448\t早上\ttime\n",
      "13\t463\t465\t3月\ttime\n",
      "13\t481\t484\t7個月\ttime\n",
      "13\t488\t491\t10月\ttime\n",
      "13\t492\t496\t10月底\ttime\n",
      "14\t27\t30\t753\tmed_exam\n",
      "14\t45\t47\t37\tmed_exam\n",
      "14\t121\t125\t一、兩天\ttime\n",
      "14\t137\t139\t三天\ttime\n",
      "14\t242\t246\t38.7\tmed_exam\n",
      "14\t250\t253\t387\tID\n",
      "14\t371\t373\t68\tmed_exam\n",
      "14\t379\t380\t7\tmed_exam\n",
      "14\t384\t388\t68.7\tmed_exam\n",
      "14\t459\t462\t2個月\ttime\n",
      "14\t476\t479\t2個月\ttime\n",
      "14\t621\t624\t這個月\ttime\n",
      "14\t655\t657\t8月\ttime\n",
      "14\t662\t664\t4月\ttime\n",
      "14\t671\t673\t4月\ttime\n",
      "14\t1092\t1096\t今、今年\ttime\n",
      "14\t1136\t1140\t前兩個月\ttime\n",
      "14\t1168\t1170\t22\ttime\n",
      "14\t1173\t1177\t5月21\ttime\n",
      "14\t1179\t1184\t5月21號\ttime\n",
      "14\t1385\t1390\t9月20號\ttime\n",
      "14\t1396\t1398\t9月\ttime\n",
      "15\t92\t95\t2.4\tmed_exam\n",
      "15\t99\t102\t2.4\tmed_exam\n",
      "15\t177\t179\t58\tmed_exam\n",
      "15\t182\t185\t2.4\tmed_exam\n",
      "15\t632\t634\t前鎮\tlocation\n",
      "15\t1228\t1231\t五十幾\tmed_exam\n",
      "15\t1277\t1280\t一個月\ttime\n",
      "15\t1288\t1291\t一個月\ttime\n",
      "15\t1437\t1439\t10\tmed_exam\n",
      "15\t1452\t1456\t0.55\tmed_exam\n",
      "16\t203\t207\t三個禮拜\ttime\n",
      "16\t218\t222\t六個禮拜\ttime\n",
      "16\t235\t239\t六個禮拜\ttime\n",
      "16\t257\t261\t六個禮拜\ttime\n",
      "16\t324\t328\t5.02\tmed_exam\n",
      "16\t337\t341\t7.64\tmed_exam\n",
      "16\t353\t357\t0.62\tmed_exam\n",
      "16\t367\t371\t7.83\tmed_exam\n",
      "16\t383\t386\t8.5\tmed_exam\n",
      "16\t397\t401\t7.83\tmed_exam\n",
      "16\t402\t406\t7.02\tmed_exam\n",
      "16\t424\t427\t三個月\ttime\n",
      "16\t447\t449\t兩年\ttime\n",
      "16\t678\t681\t鐘醫師\tname\n",
      "16\t715\t719\t林大醫師\tname\n",
      "17\t1578\t1580\t明天\ttime\n",
      "17\t1593\t1595\t明天\ttime\n",
      "17\t1596\t1599\t禮拜一\ttime\n",
      "17\t1604\t1606\t明天\ttime\n",
      "17\t1613\t1616\t禮拜天\ttime\n",
      "17\t1623\t1626\t禮拜天\ttime\n",
      "17\t1630\t1633\t禮拜一\ttime\n",
      "17\t1637\t1640\t禮拜一\ttime\n",
      "17\t1656\t1659\t禮拜二\ttime\n",
      "17\t1663\t1666\t禮拜二\ttime\n",
      "17\t1679\t1682\t禮拜二\ttime\n",
      "17\t1692\t1694\t小花\tname\n",
      "17\t2026\t2028\t跨月\ttime\n",
      "17\t2034\t2036\t五月\ttime\n",
      "17\t2038\t2041\t五月份\ttime\n",
      "17\t2062\t2065\t六月份\ttime\n",
      "17\t2167\t2169\t台中\tlocation\n",
      "17\t2185\t2187\t台中\tlocation\n",
      "17\t2225\t2227\t四天\ttime\n",
      "17\t2344\t2346\t五月\ttime\n",
      "17\t2467\t2469\t兩天\ttime\n",
      "17\t2506\t2509\t前三天\ttime\n",
      "18\t21\t24\t五月中\ttime\n",
      "18\t237\t240\t921\tmed_exam\n",
      "18\t265\t268\t500\tmoney\n",
      "18\t429\t432\t三個月\ttime\n",
      "19\t821\t823\t叔叔\tfamily\n",
      "19\t832\t834\t叔叔\tfamily\n",
      "19\t932\t935\t0.1\tmed_exam\n",
      "19\t945\t948\t0.2\tmed_exam\n",
      "19\t967\t970\t0.8\tmed_exam\n",
      "19\t971\t974\t0.7\tmed_exam\n",
      "19\t1239\t1241\t晚上\ttime\n",
      "19\t1906\t1909\t150\tmed_exam\n",
      "19\t2498\t2501\t下禮拜\ttime\n",
      "19\t3013\t3015\t陽明\tlocation\n",
      "19\t3082\t3084\t陽明\tlocation\n",
      "19\t3093\t3095\t陽明\tlocation\n",
      "19\t3178\t3182\t一個禮拜\ttime\n",
      "19\t3837\t3839\t陽明\tlocation\n",
      "19\t3869\t3871\t陽明\tlocation\n",
      "19\t4017\t4019\t長榮\tlocation\n",
      "19\t4101\t4104\t十四天\ttime\n",
      "19\t4140\t4141\t五\ttime\n",
      "19\t4142\t4145\t六十歲\ttime\n",
      "19\t4543\t4546\t下禮拜\ttime\n",
      "19\t5007\t5009\t昨天\ttime\n",
      "19\t5298\t5300\t叔叔\tfamily\n",
      "19\t5487\t5490\t下禮拜\ttime\n",
      "19\t5625\t5628\t下禮拜\ttime\n",
      "19\t5949\t5952\t下禮拜\ttime\n",
      "19\t6021\t6024\t下禮拜\ttime\n",
      "20\t10\t13\t這個月\ttime\n",
      "20\t266\t269\t這個月\ttime\n",
      "20\t304\t306\t一天\ttime\n",
      "20\t765\t769\t臺東花蓮\tlocation\n",
      "20\t893\t897\t這一兩天\ttime\n",
      "20\t1010\t1014\t一兩年前\ttime\n",
      "20\t2110\t2114\t一個禮拜\ttime\n",
      "20\t4646\t4650\t8月2號\ttime\n",
      "20\t4659\t4664\t8月20號\ttime\n",
      "21\t882\t886\trush\tcontact\n",
      "21\t1093\t1096\t一個月\ttime\n",
      "21\t1107\t1110\t一個月\ttime\n",
      "21\t1274\t1278\t一個禮拜\ttime\n",
      "21\t1337\t1341\t一個禮拜\ttime\n",
      "21\t2553\t2555\t彰化\tlocation\n",
      "21\t2714\t2716\t泰國\tlocation\n",
      "21\t2723\t2725\t泰國\tlocation\n",
      "21\t2944\t2946\t兩週\ttime\n",
      "21\t2947\t2949\t六週\ttime\n",
      "21\t3323\t3325\t泰國\tlocation\n",
      "22\t6\t9\t王醫師\tname\n",
      "22\t112\t115\t王醫師\tname\n",
      "22\t523\t525\t陽明\tlocation\n",
      "22\t535\t537\t基隆\tlocation\n",
      "22\t538\t540\t陽明\tlocation\n",
      "22\t740\t742\t基隆\tlocation\n",
      "22\t743\t745\t陽明\tlocation\n",
      "22\t775\t777\t北醫\tlocation\n",
      "22\t828\t830\t北醫\tlocation\n",
      "22\t831\t833\t高醫\tlocation\n",
      "22\t836\t838\t北醫\tlocation\n",
      "22\t845\t847\t北醫\tlocation\n",
      "22\t981\t984\t四個月\ttime\n",
      "22\t989\t992\t四個月\ttime\n",
      "22\t2104\t2107\t三個月\ttime\n",
      "22\t2824\t2826\t今天\ttime\n",
      "22\t3484\t3488\t一萬多塊\tmoney\n",
      "22\t3503\t3506\t414\tmoney\n",
      "22\t3604\t3607\t王醫師\tname\n",
      "22\t3612\t3618\t禮拜一的早上\ttime\n",
      "22\t3619\t3622\t禮拜三\ttime\n",
      "22\t3623\t3625\t下午\ttime\n",
      "22\t3637\t3640\t禮拜一\ttime\n",
      "22\t3641\t3644\t禮拜三\ttime\n",
      "22\t3691\t3694\t每個月\ttime\n",
      "22\t3702\t3705\t王醫師\tname\n",
      "22\t3764\t3766\t今天\ttime\n",
      "23\t6\t9\t王醫師\tname\n",
      "23\t57\t60\t王醫師\tname\n",
      "23\t249\t252\t211\tmed_exam\n",
      "23\t576\t579\t王醫師\tname\n",
      "23\t636\t639\t王醫師\tname\n",
      "23\t1002\t1006\t一個禮拜\ttime\n",
      "23\t1027\t1030\t一個月\ttime\n",
      "23\t1090\t1094\t一個禮拜\ttime\n",
      "23\t1126\t1130\t2111\ttime\n",
      "23\t1200\t1203\t一個月\ttime\n",
      "23\t1756\t1759\t王醫師\tname\n",
      "23\t1789\t1791\t今天\ttime\n",
      "24\t55\t58\t這個月\ttime\n",
      "24\t259\t263\t一個禮拜\ttime\n",
      "24\t513\t516\t這個月\ttime\n",
      "24\t716\t718\t台中\tlocation\n",
      "25\t124\t126\t今天\ttime\n",
      "25\t147\t158\t12345678910\ttime\n",
      "25\t268\t271\t一個月\ttime\n",
      "25\t294\t297\t這個月\ttime\n",
      "26\t15\t17\t5月\ttime\n",
      "26\t234\t236\t周末\ttime\n",
      "26\t281\t284\t一個月\ttime\n",
      "26\t302\t305\t一個月\ttime\n",
      "26\t732\t734\t69\ttime\n",
      "26\t1166\t1172\ttinder\tcontact\n",
      "26\t2161\t2165\tLINE\tcontact\n",
      "26\t2339\t2342\t三個月\ttime\n",
      "26\t2569\t2572\t林小姐\tname\n",
      "27\t11\t13\t台中\tlocation\n",
      "27\t97\t99\t台中\tlocation\n",
      "27\t112\t114\t台中\tlocation\n",
      "27\t263\t265\t台中\tlocation\n",
      "27\t326\t330\t這一個月\ttime\n",
      "27\t355\t358\t上個月\ttime\n",
      "27\t375\t377\t十三\ttime\n",
      "27\t398\t401\t十三天\ttime\n",
      "27\t451\t454\t十三天\ttime\n",
      "27\t517\t520\t十三天\ttime\n",
      "27\t593\t597\t這一個月\ttime\n",
      "28\t30\t32\t一年\ttime\n",
      "28\t64\t66\t一年\ttime\n",
      "28\t1158\t1160\t昨天\ttime\n",
      "28\t2339\t2341\t今天\ttime\n",
      "28\t2377\t2380\t那一天\ttime\n",
      "28\t2553\t2555\t四天\ttime\n",
      "29\t33\t35\t桃園\tlocation\n",
      "29\t41\t43\t桃園\tlocation\n",
      "29\t51\t53\t小蘭\tname\n",
      "29\t215\t217\t一年\ttime\n",
      "29\t224\t226\t一年\ttime\n",
      "29\t256\t259\t三個月\ttime\n",
      "29\t471\t473\t69\tmed_exam\n",
      "29\t480\t482\t69\ttime\n",
      "29\t485\t487\t69\tmed_exam\n",
      "29\t559\t562\t三個月\ttime\n",
      "29\t747\t750\t陳醫師\tname\n",
      "29\t1365\t1368\t552\tmoney\n",
      "29\t1376\t1383\t16000多塊\tmoney\n",
      "29\t1386\t1391\t17000\tmoney\n",
      "29\t1469\t1472\t每個月\ttime\n",
      "29\t1758\t1760\t北區\tlocation\n",
      "29\t1763\t1766\t中西區\tlocation\n",
      "29\t1838\t1841\t369\tmed_exam\n",
      "29\t1855\t1858\t每個月\ttime\n",
      "29\t1924\t1928\t前3個月\ttime\n",
      "29\t1939\t1941\t7月\ttime\n",
      "29\t1942\t1944\t8月\ttime\n",
      "29\t1945\t1947\t9月\ttime\n",
      "29\t2026\t2030\t7月6號\ttime\n",
      "29\t2054\t2056\t8月\ttime\n",
      "29\t2059\t2062\t一個月\ttime\n",
      "29\t2153\t2155\t9月\ttime\n",
      "29\t2323\t2328\t前面三個月\ttime\n",
      "30\t153\t155\t一年\ttime\n",
      "30\t159\t161\t一年\ttime\n",
      "30\t189\t191\t8年\ttime\n",
      "30\t197\t199\t8年\ttime\n",
      "30\t219\t221\t8年\ttime\n",
      "30\t250\t252\t嘉義\tlocation\n",
      "30\t288\t292\t一個禮拜\ttime\n",
      "30\t444\t448\t今天禮拜\ttime\n",
      "30\t449\t452\t禮拜二\ttime\n",
      "30\t469\t472\t禮拜日\ttime\n",
      "30\t488\t492\t3456\ttime\n",
      "30\t510\t513\t禮拜日\ttime\n",
      "30\t525\t528\t禮拜日\ttime\n",
      "30\t841\t844\t211\ttime\n",
      "30\t1158\t1160\t一年\ttime\n",
      "30\t1239\t1242\t馬拉加\tlocation\n",
      "30\t1256\t1259\t馬拉加\tlocation\n",
      "30\t1260\t1262\t美國\tlocation\n",
      "30\t1538\t1541\t30億\tmoney\n",
      "30\t1593\t1597\t第6個月\ttime\n",
      "30\t1629\t1631\t半年\ttime\n",
      "31\t82\t85\t這個月\ttime\n",
      "31\t160\t164\t11點整\ttime\n",
      "31\t203\t209\t晚上11點整\ttime\n",
      "31\t278\t281\t4個月\ttime\n",
      "31\t911\t914\t這個月\ttime\n",
      "31\t1794\t1796\t今天\ttime\n",
      "31\t1804\t1806\t今天\ttime\n",
      "31\t1812\t1814\t今天\ttime\n",
      "31\t1862\t1865\t9月中\ttime\n",
      "31\t1874\t1878\t12月中\ttime\n",
      "31\t1890\t1894\t12月中\ttime\n",
      "31\t1917\t1919\t今天\ttime\n",
      "31\t1924\t1928\t8月3號\ttime\n",
      "31\t2012\t2015\t三個月\ttime\n",
      "32\t495\t498\t一個月\ttime\n",
      "32\t512\t515\t一個月\ttime\n",
      "32\t594\t596\t明天\ttime\n",
      "32\t695\t699\t兩個小時\ttime\n",
      "32\t700\t704\t兩個小時\ttime\n",
      "32\t1208\t1210\t小美\tname\n",
      "32\t1312\t1315\t六個月\ttime\n",
      "32\t1335\t1336\t六\ttime\n",
      "32\t1444\t1447\t五千塊\tmoney\n",
      "32\t1458\t1460\t四千\tmoney\n",
      "32\t1461\t1465\t五千之間\tmoney\n",
      "32\t1542\t1544\t泰國\tlocation\n",
      "32\t1950\t1953\t五百多\tmoney\n",
      "32\t1967\t1969\t嘉義\tlocation\n",
      "32\t2292\t2296\t兩到四週\ttime\n",
      "32\t2408\t2411\t三個月\ttime\n",
      "32\t2596\t2598\t一年\ttime\n",
      "32\t2730\t2733\t一年後\ttime\n",
      "33\t44\t50\t禮拜二的早上\ttime\n",
      "33\t51\t54\t禮拜五\ttime\n",
      "33\t55\t57\t下午\ttime\n",
      "33\t874\t877\t下個月\ttime\n",
      "33\t880\t885\t10月7號\ttime\n",
      "33\t916\t919\t二早上\ttime\n",
      "33\t920\t923\t五下午\ttime\n",
      "34\t88\t90\t萬華\tlocation\n",
      "34\t91\t93\t北醫\tlocation\n",
      "34\t98\t100\t萬華\tlocation\n",
      "34\t101\t103\t北醫\tlocation\n",
      "34\t436\t440\t四五年前\ttime\n",
      "34\t513\t515\t半年\ttime\n",
      "34\t724\t727\t半年前\ttime\n",
      "34\t732\t735\t半年前\ttime\n",
      "34\t772\t775\t五個月\ttime\n",
      "34\t779\t782\t五個月\ttime\n",
      "34\t2479\t2482\t50歲\ttime\n",
      "34\t2804\t2810\t1800多塊\tmoney\n",
      "34\t2859\t2863\t800多\tmoney\n",
      "34\t2874\t2877\t三個月\ttime\n",
      "34\t2882\t2885\t700\tmoney\n",
      "34\t2916\t2920\t400多\tmoney\n",
      "34\t2946\t2951\t1000塊\tmoney\n",
      "34\t3023\t3025\t今天\ttime\n",
      "34\t4220\t4223\t下禮拜\ttime\n",
      "34\t4248\t4251\t禮拜二\ttime\n",
      "34\t4252\t4254\t晚上\ttime\n",
      "34\t4292\t4295\t禮拜三\ttime\n",
      "34\t4296\t4298\t下午\ttime\n",
      "34\t4299\t4302\t禮拜五\ttime\n",
      "34\t4303\t4305\t早上\ttime\n",
      "34\t4414\t4417\t禮拜三\ttime\n",
      "34\t4418\t4420\t下午\ttime\n",
      "34\t4421\t4424\t禮拜五\ttime\n",
      "34\t4425\t4427\t早上\ttime\n",
      "34\t4433\t4436\t禮拜五\ttime\n",
      "34\t4437\t4439\t早上\ttime\n",
      "34\t4450\t4454\t下禮拜五\ttime\n",
      "34\t4459\t4462\t禮拜五\ttime\n",
      "34\t4482\t4486\t下禮拜五\ttime\n",
      "34\t4495\t4498\t禮拜五\ttime\n",
      "34\t4499\t4501\t早上\ttime\n",
      "34\t4502\t4507\t7月21號\ttime\n",
      "34\t4537\t4540\t下禮拜\ttime\n",
      "34\t4558\t4560\t基隆\tlocation\n",
      "34\t4572\t4574\t萬華\tlocation\n",
      "34\t4579\t4581\t萬華\tlocation\n",
      "34\t4582\t4584\t萬華\tlocation\n",
      "34\t4585\t4587\t北醫\tlocation\n",
      "34\t4593\t4595\t萬華\tlocation\n",
      "34\t4596\t4598\t北醫\tlocation\n",
      "35\t168\t171\t陳小姐\tname\n",
      "35\t221\t224\t陳小姐\tname\n",
      "35\t1488\t1490\t今天\ttime\n",
      "35\t1674\t1678\t1個禮拜\ttime\n",
      "35\t1988\t1991\t兩小時\ttime\n",
      "35\t2132\t2135\t禮拜一\ttime\n",
      "35\t2137\t2139\t早上\ttime\n",
      "35\t2142\t2145\t一兩點\ttime\n",
      "35\t2206\t2209\t一禮拜\ttime\n",
      "35\t2370\t2372\t今天\ttime\n",
      "35\t3480\t3482\t半年\ttime\n",
      "35\t3486\t3489\t三個月\ttime\n",
      "35\t3624\t3627\t50歲\ttime\n",
      "35\t4003\t4005\t今天\ttime\n",
      "35\t4128\t4133\t2010年\ttime\n",
      "35\t4228\t4233\t12000\tmoney\n",
      "35\t4309\t4312\t一萬二\tmoney\n",
      "35\t4313\t4316\t一萬三\tmoney\n",
      "35\t4446\t4448\t泰國\tlocation\n",
      "35\t4624\t4626\t澳洲\tlocation\n",
      "35\t4631\t4633\t英國\tlocation\n",
      "35\t4634\t4636\t法國\tlocation\n",
      "35\t4741\t4743\t泰國\tlocation\n",
      "35\t4780\t4784\t500塊\tmoney\n",
      "35\t4785\t4789\t600塊\tmoney\n",
      "35\t4810\t4812\t泰國\tlocation\n",
      "35\t4831\t4835\t1000\tmoney\n",
      "35\t4836\t4842\t1500台幣\tmoney\n",
      "35\t4854\t4858\t500塊\tmoney\n",
      "35\t4859\t4863\t600塊\tmoney\n",
      "35\t5071\t5076\t下下個禮拜\ttime\n",
      "36\t17\t20\t六點半\ttime\n",
      "36\t28\t31\t六點半\ttime\n",
      "36\t71\t73\t後天\ttime\n",
      "36\t74\t76\t下午\ttime\n",
      "36\t78\t82\tLine\tcontact\n",
      "36\t116\t119\t這個月\ttime\n",
      "36\t291\t293\t明天\ttime\n",
      "36\t586\t590\t第七個月\ttime\n",
      "36\t601\t604\t下半年\ttime\n",
      "36\t660\t665\t四月二十五\ttime\n",
      "36\t678\t683\t四月二十五\ttime\n",
      "36\t715\t720\t四月二十五\ttime\n",
      "37\t4\t7\t這個月\ttime\n",
      "37\t87\t89\t傍晚\ttime\n",
      "37\t93\t95\t傍晚\ttime\n",
      "37\t848\t853\t第十一個月\ttime\n",
      "37\t981\t986\t400多塊\tmoney\n",
      "37\t1040\t1043\t一萬三\tmoney\n",
      "37\t1069\t1072\t4千多\tmoney\n",
      "37\t1073\t1075\t5千\tmoney\n",
      "37\t1122\t1124\t泰國\tlocation\n",
      "37\t1238\t1240\t美國\tlocation\n",
      "37\t1241\t1243\t澳洲\tlocation\n",
      "37\t1244\t1246\t英國\tlocation\n",
      "37\t1247\t1250\t加拿大\tlocation\n",
      "37\t1326\t1330\t1500\tmoney\n",
      "38\t70\t72\t高雄\tlocation\n",
      "38\t84\t86\t高雄\tlocation\n",
      "38\t92\t94\t高雄\tlocation\n",
      "38\t115\t117\t七天\ttime\n",
      "38\t138\t143\t八⋯⋯八號\ttime\n",
      "38\t160\t164\t兩個禮拜\ttime\n",
      "38\t177\t179\t高雄\tlocation\n",
      "38\t582\t584\t高雄\tlocation\n",
      "38\t632\t633\t七\ttime\n",
      "38\t636\t637\t九\ttime\n",
      "38\t648\t651\t下個月\ttime\n",
      "39\t22\t25\t一個月\ttime\n",
      "39\t34\t37\t一個月\ttime\n",
      "39\t141\t144\t三個月\ttime\n",
      "39\t823\t825\t一年\ttime\n",
      "39\t834\t836\t一年\ttime\n",
      "39\t1715\t1720\t兩、三個月\ttime\n",
      "39\t2008\t2011\t六個月\ttime\n",
      "40\t16\t18\t碩班\teducation\n",
      "40\t221\t224\t江醫師\tname\n",
      "40\t290\t293\t江醫師\tname\n",
      "40\t377\t379\t十月\ttime\n",
      "40\t399\t402\t廖醫師\tname\n",
      "40\t488\t491\t替代役\tprofession\n",
      "40\t561\t564\t半年前\ttime\n",
      "40\t662\t664\t半年\ttime\n",
      "40\t846\t848\t今天\ttime\n",
      "41\t93\t96\t張醫師\tname\n",
      "41\t101\t104\t張醫師\tname\n",
      "41\t109\t112\t張醫師\tname\n",
      "41\t623\t626\t張醫師\tname\n",
      "41\t766\t769\t15天\ttime\n",
      "41\t809\t812\t15天\ttime\n",
      "41\t982\t985\t張醫師\tname\n",
      "41\t1014\t1017\t張醫師\tname\n",
      "41\t1019\t1022\t勝利路\tlocation\n",
      "41\t1027\t1030\t勝利路\tlocation\n",
      "41\t1041\t1045\t勝利國小\tlocation\n",
      "41\t1066\t1068\t老媽\tfamily\n",
      "41\t1071\t1074\t民生路\tlocation\n",
      "41\t1078\t1081\t府前路\tlocation\n",
      "41\t1101\t1104\t張小發\tname\n",
      "41\t1112\t1114\t小發\tname\n",
      "41\t1115\t1118\t張小男\tname\n",
      "41\t1144\t1146\t老媽\tfamily\n",
      "41\t1216\t1218\t孫子\tfamily\n",
      "41\t1221\t1223\t孫女\tfamily\n",
      "41\t1250\t1252\t大明\tname\n",
      "41\t1278\t1282\t一個禮拜\ttime\n",
      "41\t1358\t1361\t南一中\tlocation\n",
      "41\t1374\t1377\t張醫師\tname\n",
      "42\t534\t536\t12\ttime\n",
      "42\t540\t542\t12\ttime\n",
      "42\t675\t676\t黃\tname\n",
      "42\t679\t684\t黃明明醫師\tname\n",
      "42\t688\t691\t黃明明\tname\n",
      "42\t1136\t1138\t德國\tlocation\n",
      "42\t1433\t1436\t李醫師\tname\n",
      "42\t2021\t2024\t119\tmed_exam\n",
      "42\t2132\t2135\t江醫師\tname\n",
      "42\t2388\t2389\t1\tmed_exam\n",
      "42\t2391\t2394\t119\tmed_exam\n",
      "42\t2726\t2729\t119\tmed_exam\n",
      "42\t2976\t2979\t江醫師\tname\n",
      "43\t209\t211\t半年\ttime\n",
      "43\t213\t216\t三個月\ttime\n",
      "43\t220\t222\t半年\ttime\n",
      "43\t264\t269\t7月12號\ttime\n",
      "43\t287\t291\t兩個禮拜\ttime\n",
      "43\t449\t451\t56\tmed_exam\n",
      "43\t455\t457\t56\tmed_exam\n",
      "43\t483\t488\t7月12號\ttime\n",
      "43\t560\t562\t早上\ttime\n",
      "43\t678\t682\t4個禮拜\ttime\n",
      "43\t702\t704\t下午\ttime\n",
      "43\t762\t765\t禮拜五\ttime\n",
      "43\t787\t790\t禮拜五\ttime\n",
      "43\t791\t793\t早上\ttime\n",
      "43\t819\t823\t兩個禮拜\ttime\n",
      "43\t828\t831\t810\tmed_exam\n",
      "43\t832\t837\t8月10號\ttime\n",
      "43\t862\t866\t兩個禮拜\ttime\n",
      "43\t971\t975\t3個禮拜\ttime\n",
      "43\t1065\t1067\t14\tmed_exam\n",
      "43\t1085\t1087\t7天\ttime\n",
      "43\t1129\t1131\t7天\ttime\n",
      "43\t1354\t1358\t3000\tmoney\n",
      "43\t1359\t1363\t8000\tmoney\n",
      "43\t1550\t1553\t3個月\ttime\n",
      "43\t1560\t1563\t三個月\ttime\n",
      "43\t1637\t1640\t6個月\ttime\n",
      "44\t4\t8\t這個禮拜\ttime\n",
      "44\t17\t21\t這個禮拜\ttime\n",
      "44\t710\t714\t兩個禮拜\ttime\n",
      "44\t1662\t1664\t日本\tlocation\n",
      "44\t1787\t1790\t下禮拜\ttime\n",
      "45\t5\t7\t今天\ttime\n",
      "45\t35\t37\t今天\ttime\n",
      "45\t93\t97\t7月12\ttime\n",
      "45\t128\t130\t今天\ttime\n",
      "45\t453\t455\t小俊\tname\n",
      "45\t477\t480\t兩個月\ttime\n",
      "45\t485\t488\t兩個月\ttime\n",
      "45\t500\t503\t一個月\ttime\n",
      "45\t564\t567\t3個月\ttime\n",
      "45\t574\t576\t8月\ttime\n",
      "45\t585\t588\t11月\ttime\n",
      "45\t616\t620\t8月18\ttime\n",
      "45\t627\t630\t9月初\ttime\n",
      "45\t634\t637\t8月初\ttime\n",
      "45\t640\t643\t9月底\ttime\n",
      "45\t646\t649\t兩個月\ttime\n",
      "45\t665\t668\t兩個月\ttime\n",
      "45\t678\t681\t兩個月\ttime\n",
      "45\t704\t710\t11月30號\ttime\n",
      "45\t920\t926\t11月30號\ttime\n",
      "45\t1153\t1156\t兩個月\ttime\n",
      "45\t1162\t1167\t1555塊\tmoney\n",
      "46\t216\t219\t三天多\ttime\n",
      "46\t233\t237\t7月21\ttime\n",
      "46\t238\t242\t7月23\ttime\n",
      "46\t246\t250\t7月21\ttime\n",
      "46\t251\t255\t7月23\ttime\n",
      "46\t259\t262\t一二三\ttime\n",
      "46\t274\t279\t上個禮拜三\ttime\n",
      "46\t288\t291\t禮拜四\ttime\n",
      "46\t298\t301\t禮拜一\ttime\n",
      "46\t341\t346\t7月23號\ttime\n",
      "46\t405\t409\t37.5\tmed_exam\n",
      "46\t444\t446\t早上\ttime\n",
      "46\t456\t459\t36幾\tmed_exam\n",
      "46\t485\t489\t37.2\tmed_exam\n",
      "46\t496\t500\t37.5\tmed_exam\n",
      "46\t663\t665\t早上\ttime\n",
      "46\t707\t711\t36.5\tmed_exam\n",
      "46\t726\t728\t下午\ttime\n",
      "46\t734\t737\t37度\tmed_exam\n",
      "46\t749\t752\t37度\tmed_exam\n",
      "46\t877\t879\t37\tmed_exam\n",
      "46\t972\t974\t今天\ttime\n",
      "46\t986\t989\t188\tmed_exam\n",
      "46\t993\t995\t75\tmed_exam\n",
      "46\t1011\t1013\t50\tmed_exam\n",
      "46\t1032\t1035\t188\tmed_exam\n",
      "46\t1037\t1039\t75\tmed_exam\n",
      "46\t1048\t1050\t30\tmoney\n",
      "46\t1054\t1056\t13\tmed_exam\n",
      "46\t1349\t1352\t189\tmed_exam\n",
      "46\t1356\t1359\t201\tmed_exam\n",
      "46\t1424\t1428\t4.1%\tmed_exam\n",
      "46\t1456\t1458\t13\tmed_exam\n",
      "46\t1460\t1464\t4.1%\tmed_exam\n",
      "46\t1636\t1638\t兩天\ttime\n",
      "46\t1688\t1690\t21\ttime\n",
      "46\t1691\t1693\t22\ttime\n",
      "46\t1734\t1736\t早上\ttime\n",
      "46\t1743\t1745\t今天\ttime\n",
      "46\t1748\t1752\t36.2\tmed_exam\n",
      "46\t1771\t1775\t36.2\tmed_exam\n",
      "46\t1783\t1787\t36.8\tmed_exam\n",
      "46\t1810\t1814\t37.5\tmed_exam\n",
      "46\t1827\t1831\t37.5\tmed_exam\n",
      "46\t1881\t1885\t37.5\tmed_exam\n",
      "46\t1925\t1928\t38度\tmed_exam\n",
      "46\t2484\t2489\t兩三個禮拜\ttime\n",
      "46\t3002\t3005\t134\tmed_exam\n",
      "46\t3009\t3012\t134\tmed_exam\n",
      "46\t3027\t3029\t10\tmed_exam\n",
      "46\t3043\t3045\t10\tmed_exam\n",
      "46\t3076\t3078\t10\tmed_exam\n",
      "46\t3090\t3092\t10\tmed_exam\n",
      "46\t3122\t3125\t136\tmed_exam\n",
      "46\t3330\t3332\t10\tmed_exam\n",
      "46\t3376\t3378\t10\tmed_exam\n",
      "46\t3393\t3395\t10\tmed_exam\n",
      "46\t3637\t3639\t今天\ttime\n",
      "46\t3815\t3818\t28天\ttime\n",
      "46\t3819\t3822\t28天\ttime\n",
      "46\t3857\t3861\t兩個禮拜\ttime\n",
      "46\t3870\t3874\t兩個禮拜\ttime\n",
      "46\t3889\t3893\t兩個禮拜\ttime\n",
      "46\t4003\t4007\t兩個禮拜\ttime\n",
      "46\t4029\t4033\t下下禮拜\ttime\n",
      "46\t4366\t4368\t四週\ttime\n",
      "46\t4382\t4385\t兩週後\ttime\n",
      "46\t4389\t4391\t四週\ttime\n",
      "46\t4929\t4932\t三個月\ttime\n",
      "47\t189\t192\t15天\ttime\n",
      "47\t206\t208\t12\ttime\n",
      "47\t212\t214\t今天\ttime\n",
      "47\t215\t217\t12\ttime\n",
      "47\t303\t306\t林醫師\tname\n",
      "47\t716\t718\t33\tmed_exam\n",
      "47\t721\t724\t120\tmed_exam\n",
      "47\t741\t744\t515\tmed_exam\n",
      "47\t745\t748\t433\tmed_exam\n",
      "47\t749\t752\t124\tmed_exam\n",
      "47\t818\t821\t4.3\tmed_exam\n",
      "47\t841\t845\t7500\tmoney\n",
      "47\t854\t858\t53萬9\tmed_exam\n",
      "47\t865\t868\t5萬2\tmed_exam\n",
      "47\t890\t892\t今天\ttime\n",
      "47\t915\t917\t5天\ttime\n",
      "47\t961\t965\t下個禮拜\ttime\n",
      "47\t1188\t1191\t阿里山\tlocation\n",
      "47\t1219\t1222\t阿里山\tlocation\n",
      "47\t1257\t1260\t阿里山\tlocation\n",
      "47\t1553\t1557\t下下禮拜\ttime\n",
      "47\t1674\t1676\t晚上\ttime\n",
      "47\t1742\t1744\t白天\ttime\n",
      "47\t1781\t1785\t下下禮拜\ttime\n",
      "47\t2130\t2132\t今天\ttime\n",
      "47\t2271\t2274\t789\tmed_exam\n",
      "47\t2280\t2282\t小萱\tname\n",
      "48\t6\t10\t5889\tmed_exam\n",
      "48\t13\t15\t小明\tname\n",
      "48\t331\t334\t189\tmed_exam\n",
      "48\t335\t338\t189\tmed_exam\n",
      "48\t360\t363\t189\tmed_exam\n",
      "48\t401\t404\t166\tmed_exam\n",
      "48\t407\t410\t189\tmed_exam\n",
      "48\t421\t424\t166\tmed_exam\n",
      "48\t428\t431\t166\tmed_exam\n",
      "48\t441\t444\t217\tmed_exam\n",
      "48\t455\t458\t200\tmed_exam\n",
      "48\t463\t466\t225\tmed_exam\n",
      "48\t473\t476\t200\tmed_exam\n",
      "48\t562\t564\t47\tmed_exam\n",
      "48\t568\t570\t22\tmed_exam\n",
      "48\t647\t650\t兩個月\ttime\n",
      "48\t655\t658\t兩個月\ttime\n",
      "48\t659\t662\t兩個月\ttime\n",
      "48\t839\t841\t65\tmed_exam\n",
      "48\t847\t849\t小明\tname\n",
      "48\t1410\t1415\t25000\tmoney\n",
      "48\t1428\t1433\t25000\tmoney\n",
      "48\t1437\t1442\t30000\tmoney\n",
      "48\t1448\t1453\t30000\tmoney\n",
      "48\t1486\t1491\t25000\tmoney\n",
      "48\t1492\t1494\t25\tmed_exam\n",
      "48\t1499\t1501\t25\tmed_exam\n",
      "48\t1528\t1531\t143\tmed_exam\n",
      "48\t1535\t1538\t143\tmed_exam\n",
      "48\t1759\t1762\t兩個月\ttime\n",
      "49\t60\t62\t清華\tlocation\n",
      "49\t91\t93\t小美\tname\n",
      "49\t126\t131\t9月10號\ttime\n",
      "49\t153\t158\t9月10號\ttime\n",
      "49\t160\t162\t小美\tname\n",
      "49\t335\t337\t36\tmed_exam\n",
      "49\t342\t344\t36\tmed_exam\n",
      "49\t349\t351\t36\tmed_exam\n",
      "49\t352\t356\t36.9\tmed_exam\n",
      "49\t357\t361\t36.7\tmed_exam\n",
      "49\t362\t366\t36.6\tmed_exam\n",
      "49\t961\t963\t小明\tname\n",
      "49\t983\t985\t今天\ttime\n",
      "49\t986\t989\t禮拜三\ttime\n",
      "49\t990\t992\t下午\ttime\n",
      "49\t1169\t1171\t今天\ttime\n",
      "49\t1208\t1211\t禮拜一\ttime\n",
      "49\t1212\t1214\t早上\ttime\n",
      "49\t1282\t1284\t今天\ttime\n",
      "49\t1340\t1343\t禮拜一\ttime\n",
      "49\t1344\t1346\t早上\ttime\n",
      "49\t1352\t1355\t禮拜一\ttime\n",
      "49\t1356\t1358\t早上\ttime\n",
      "49\t1365\t1368\t李英俊\tname\n",
      "49\t2058\t2060\t台北\tlocation\n",
      "49\t2065\t2067\t高雄\tlocation\n",
      "49\t2082\t2084\t中山\tlocation\n",
      "49\t2849\t2851\t台北\tlocation\n",
      "49\t2928\t2930\t小美\tname\n",
      "49\t2943\t2946\t禮拜一\ttime\n",
      "49\t3040\t3045\t下個禮拜一\ttime\n",
      "49\t3049\t3053\t9月8號\ttime\n",
      "49\t3330\t3333\t許醫師\tname\n",
      "49\t3338\t3341\t許醫師\tname\n",
      "49\t3886\t3888\t三嬸\tfamily\n",
      "49\t3923\t3926\t親姐姐\tfamily\n",
      "49\t4168\t4171\t禮拜一\ttime\n",
      "49\t4518\t4522\t台北榮總\tlocation\n",
      "49\t4541\t4543\t台大\teducation\n",
      "49\t4547\t4549\t台大\tlocation\n",
      "49\t4609\t4611\t兩天\ttime\n",
      "49\t4778\t4780\t小美\tname\n",
      "50\t13\t15\t奇美\tlocation\n",
      "50\t82\t85\t禮拜六\ttime\n",
      "50\t87\t90\t禮拜六\ttime\n",
      "50\t92\t95\t禮拜六\ttime\n",
      "50\t96\t98\t早上\ttime\n",
      "50\t125\t128\t禮拜天\ttime\n",
      "50\t129\t133\t7月17\ttime\n",
      "50\t138\t140\t前天\ttime\n",
      "50\t144\t146\t前天\ttime\n",
      "50\t151\t153\t前天\ttime\n",
      "50\t159\t161\t昨天\ttime\n",
      "50\t212\t216\t38.6\tmed_exam\n",
      "50\t217\t221\t38.7\tmed_exam\n",
      "50\t325\t329\t6月25\ttime\n",
      "50\t334\t336\t昨天\ttime\n",
      "50\t449\t451\t今天\ttime\n",
      "50\t460\t462\t今天\ttime\n",
      "50\t463\t465\t早上\ttime\n",
      "50\t721\t725\t36.9\tmed_exam\n",
      "50\t729\t733\t36.9\tmed_exam\n",
      "50\t1201\t1205\t11.幾\tmed_exam\n",
      "50\t1209\t1213\t11.幾\tmed_exam\n",
      "50\t1224\t1228\t11.幾\tmed_exam\n",
      "50\t1290\t1293\t11號\ttime\n",
      "50\t1320\t1322\t8號\ttime\n",
      "50\t1455\t1457\t禮拜\ttime\n",
      "50\t1459\t1462\t禮拜五\ttime\n",
      "50\t1463\t1465\t早上\ttime\n",
      "50\t1490\t1492\t早上\ttime\n",
      "50\t1517\t1519\t早上\ttime\n",
      "50\t2008\t2013\t88821\tID\n",
      "50\t2028\t2032\t27.7\tmed_exam\n",
      "50\t3188\t3191\t兩三天\ttime\n",
      "50\t3194\t3196\t兩天\ttime\n",
      "50\t3513\t3515\t台大\tlocation\n",
      "50\t3573\t3577\t下個禮拜\ttime\n",
      "50\t3908\t3910\t早晚\ttime\n",
      "51\t25\t28\t第三週\ttime\n",
      "51\t133\t136\t第三週\ttime\n",
      "51\t170\t172\t奇美\tlocation\n",
      "51\t232\t235\t吳醫師\tname\n",
      "51\t582\t585\t第三週\ttime\n",
      "51\t625\t627\t奇美\tlocation\n",
      "51\t1263\t1266\t1月份\ttime\n",
      "51\t1283\t1286\t1月份\ttime\n",
      "51\t1523\t1528\t1月16號\ttime\n",
      "51\t1532\t1533\t1\ttime\n",
      "51\t1535\t1540\t1月16號\ttime\n",
      "51\t1545\t1547\t1月\ttime\n",
      "51\t1558\t1563\t1月16號\ttime\n",
      "51\t1676\t1678\t半年\ttime\n",
      "51\t2039\t2043\t三個禮拜\ttime\n",
      "51\t2051\t2056\t第三個禮拜\ttime\n",
      "51\t2061\t2066\t前兩個禮拜\ttime\n",
      "51\t2093\t2098\t第三個禮拜\ttime\n",
      "51\t2334\t2338\t2、4週\ttime\n",
      "51\t2391\t2394\t吳醫師\tname\n",
      "51\t2866\t2870\t65公斤\tmed_exam\n",
      "51\t2882\t2884\t54\tmed_exam\n",
      "51\t3285\t3288\t這一週\ttime\n",
      "51\t3289\t3292\t上禮拜\ttime\n",
      "51\t3510\t3512\t媽媽\tfamily\n",
      "51\t3796\t3798\t54\tmed_exam\n",
      "51\t3802\t3804\t58\tmed_exam\n",
      "51\t3814\t3816\t58\tmed_exam\n",
      "51\t3825\t3827\t58\tmed_exam\n",
      "51\t3909\t3912\t一個月\ttime\n",
      "51\t3915\t3918\t一個月\ttime\n",
      "51\t3923\t3926\t一個月\ttime\n",
      "51\t3927\t3929\t三週\ttime\n",
      "51\t3935\t3938\t一個月\ttime\n",
      "51\t3945\t3948\t一個月\ttime\n",
      "51\t3949\t3951\t三週\ttime\n",
      "51\t3967\t3969\t三週\ttime\n",
      "51\t4000\t4003\t22萬\tmed_exam\n",
      "51\t4034\t4037\t22萬\tmed_exam\n",
      "51\t4366\t4368\t明天\ttime\n",
      "51\t4396\t4398\t明天\ttime\n",
      "51\t4437\t4439\t兩週\ttime\n",
      "51\t4441\t4444\t第三週\ttime\n",
      "51\t4480\t4483\t第三週\ttime\n",
      "51\t4495\t4498\t第三週\ttime\n",
      "51\t4513\t4515\t三週\ttime\n",
      "51\t4517\t4520\t上一週\ttime\n",
      "51\t4552\t4556\t三個禮拜\ttime\n",
      "51\t4566\t4570\t兩個禮拜\ttime\n",
      "51\t4573\t4577\t兩個禮拜\ttime\n",
      "51\t4610\t4614\t一個禮拜\ttime\n",
      "51\t4828\t4830\t10\tmed_exam\n",
      "51\t4847\t4849\t66\tmed_exam\n",
      "51\t4858\t4860\t66\tmed_exam\n",
      "51\t5193\t5195\t阿公\tfamily\n",
      "51\t5574\t5581\t2020年5月\ttime\n",
      "51\t5852\t5854\t四天\ttime\n",
      "51\t5856\t5858\t五天\ttime\n",
      "52\t101\t104\t330\tmed_exam\n",
      "52\t176\t181\t15000\tmoney\n",
      "52\t195\t199\t3200\tmed_exam\n",
      "52\t203\t207\t3200\tID\n",
      "52\t262\t266\t10.7\tmed_exam\n",
      "52\t294\t298\t10.7\tmed_exam\n",
      "52\t332\t336\t兩個禮拜\ttime\n",
      "52\t397\t402\t兩個禮拜內\ttime\n",
      "52\t526\t529\t林醫師\tname\n",
      "52\t541\t544\t林醫師\tname\n",
      "52\t545\t548\t780\tmed_exam\n",
      "52\t582\t585\t450\tmed_exam\n",
      "52\t589\t592\t450\tmoney\n",
      "52\t691\t694\t450\tmed_exam\n",
      "52\t900\t903\t這個月\ttime\n",
      "52\t1164\t1169\t7月15號\ttime\n",
      "52\t1221\t1226\t7月28號\ttime\n",
      "52\t1271\t1273\t小美\tname\n",
      "52\t1276\t1279\t陳老師\tname\n",
      "52\t1280\t1284\t兩個禮拜\ttime\n",
      "52\t1391\t1395\t兩個禮拜\ttime\n",
      "52\t1441\t1445\t100塊\tmoney\n",
      "52\t1587\t1592\t8月20號\ttime\n",
      "52\t1602\t1607\t8月20號\ttime\n",
      "53\t114\t118\t兩個禮拜\ttime\n",
      "53\t337\t341\t兩個禮拜\ttime\n",
      "53\t409\t413\t十月二號\ttime\n",
      "53\t439\t444\t六百七十九\tmed_exam\n",
      "53\t526\t528\t台南\tlocation\n",
      "53\t650\t653\t一千二\tmoney\n",
      "54\t254\t256\t去年\ttime\n",
      "54\t567\t573\t十二月二十二\ttime\n",
      "55\t128\t131\t一個月\ttime\n",
      "55\t282\t285\t一個月\ttime\n",
      "55\t1043\t1045\t去年\ttime\n",
      "55\t1063\t1065\t去年\ttime\n",
      "55\t1109\t1112\t五月中\ttime\n",
      "56\t28\t31\t星期三\ttime\n",
      "56\t608\t610\t今天\ttime\n",
      "56\t1528\t1530\t榮總\tlocation\n",
      "56\t1860\t1863\t一個月\ttime\n",
      "56\t2152\t2157\t九月二十五\ttime\n",
      "56\t2166\t2169\t兩個月\ttime\n",
      "56\t2175\t2179\t十月一號\ttime\n",
      "56\t2207\t2212\t二十五禮拜\ttime\n",
      "56\t2216\t2219\t禮拜四\ttime\n",
      "56\t2220\t2222\t下午\ttime\n",
      "56\t2300\t2302\t九天\ttime\n",
      "56\t2307\t2310\t十幾天\ttime\n",
      "57\t33\t38\t十五個小時\ttime\n",
      "57\t60\t64\t九個小時\ttime\n",
      "57\t69\t73\t九個小時\ttime\n",
      "57\t279\t281\t一年\ttime\n",
      "57\t287\t289\t一年\ttime\n",
      "57\t423\t426\t八十五\tmed_exam\n",
      "57\t441\t444\t一七五\tmed_exam\n",
      "57\t448\t451\t一七五\tmed_exam\n",
      "57\t490\t493\t一年內\ttime\n",
      "57\t509\t511\t一年\ttime\n",
      "57\t519\t520\t三\ttime\n",
      "57\t521\t522\t三\ttime\n",
      "57\t523\t525\t四年\ttime\n",
      "57\t529\t533\t三、四年\ttime\n",
      "57\t746\t750\t三個禮拜\ttime\n",
      "57\t753\t758\t四個禮拜前\ttime\n",
      "57\t798\t802\t三個禮拜\ttime\n",
      "57\t889\t892\t一九二\tmed_exam\n",
      "57\t971\t974\t二八一\ttime\n",
      "57\t1066\t1069\t一百三\tmed_exam\n",
      "57\t1306\t1309\t五十歲\ttime\n",
      "57\t1777\t1779\t嘉芳\tlocation\n",
      "57\t1790\t1793\t兩個月\ttime\n",
      "57\t1800\t1803\t下禮拜\ttime\n",
      "57\t1813\t1816\t五個月\ttime\n",
      "57\t1850\t1853\t五個月\ttime\n",
      "57\t1859\t1862\t五個月\ttime\n",
      "57\t1876\t1879\t五個月\ttime\n",
      "57\t1909\t1912\t五個月\ttime\n",
      "57\t2017\t2019\t小叔\tfamily\n",
      "57\t2081\t2084\t十二月\ttime\n",
      "58\t6\t11\t56783\tID\n",
      "58\t217\t220\t禮拜四\ttime\n",
      "58\t232\t234\t早上\ttime\n",
      "58\t696\t698\t今天\ttime\n",
      "58\t767\t770\t三個月\ttime\n",
      "59\t4\t7\t禮拜天\ttime\n",
      "59\t8\t10\t中午\ttime\n",
      "59\t12\t15\t禮拜一\ttime\n",
      "59\t21\t23\t中午\ttime\n",
      "59\t30\t33\t禮拜二\ttime\n",
      "59\t164\t167\t禮拜一\ttime\n",
      "59\t169\t172\t禮拜二\ttime\n",
      "59\t491\t494\t林醫師\tname\n",
      "59\t615\t618\t王醫師\tname\n",
      "59\t625\t627\t陽明\tlocation\n",
      "59\t750\t752\t昨天\ttime\n",
      "59\t894\t896\t三天\ttime\n",
      "59\t907\t909\t三天\ttime\n",
      "59\t921\t923\t中午\ttime\n",
      "59\t980\t981\t三\ttime\n",
      "59\t1027\t1030\t王醫師\tname\n",
      "59\t1124\t1126\t台大\tlocation\n",
      "59\t1135\t1137\t台大\tlocation\n",
      "59\t1223\t1226\t楊醫師\tname\n",
      "59\t1261\t1264\t下禮拜\ttime\n",
      "59\t1302\t1305\t楊醫師\tname\n",
      "59\t1917\t1919\t台大\tlocation\n",
      "59\t1941\t1945\t陽明醫院\tlocation\n",
      "59\t2052\t2055\t12樓\ttime\n",
      "60\t96\t98\t嘉義\tlocation\n",
      "60\t104\t106\t嘉義\tlocation\n",
      "60\t107\t109\t台南\tlocation\n",
      "60\t364\t367\t兩個月\ttime\n",
      "60\t404\t407\t這個月\ttime\n",
      "60\t415\t418\t這個月\ttime\n",
      "60\t426\t429\t這個月\ttime\n",
      "60\t515\t516\t5\ttime\n",
      "60\t519\t520\t7\ttime\n",
      "60\t521\t524\t8月底\ttime\n",
      "60\t547\t550\t8月底\ttime\n",
      "60\t685\t687\t今天\ttime\n",
      "60\t1177\t1180\t8月7\ttime\n",
      "60\t1184\t1187\t8月7\ttime\n",
      "60\t1196\t1199\t禮拜三\ttime\n",
      "60\t1200\t1202\t下午\ttime\n",
      "60\t1206\t1209\t禮拜三\ttime\n",
      "60\t1210\t1212\t下午\ttime\n",
      "60\t1228\t1231\t禮拜四\ttime\n",
      "60\t1234\t1237\t禮拜四\ttime\n",
      "60\t1238\t1240\t早上\ttime\n",
      "60\t1244\t1247\t禮拜五\ttime\n",
      "60\t1248\t1250\t早上\ttime\n",
      "60\t1259\t1262\t禮拜五\ttime\n",
      "60\t1263\t1265\t早上\ttime\n",
      "60\t1271\t1273\t早上\ttime\n",
      "60\t1301\t1304\t10點\ttime\n",
      "60\t1315\t1319\t9點45\ttime\n",
      "60\t1339\t1342\t禮拜三\ttime\n",
      "60\t1343\t1345\t下午\ttime\n",
      "60\t1349\t1352\t禮拜三\ttime\n",
      "60\t1360\t1362\t下午\ttime\n",
      "60\t1407\t1410\t禮拜五\ttime\n",
      "60\t1411\t1413\t早上\ttime\n",
      "60\t1423\t1426\t8月7\ttime\n",
      "60\t1430\t1433\t8月7\ttime\n",
      "60\t1540\t1543\t5月份\ttime\n",
      "60\t1549\t1551\t5月\ttime\n",
      "60\t1554\t1556\t35\tmed_exam\n",
      "60\t1560\t1563\t這個月\ttime\n",
      "60\t1577\t1580\t這個月\ttime\n",
      "60\t1705\t1707\t阿美\tname\n",
      "60\t1718\t1723\t6月15號\ttime\n",
      "60\t1822\t1825\t李小龍\tname\n",
      "60\t1855\t1857\t小夫\tname\n",
      "60\t1875\t1880\t6月15號\ttime\n",
      "60\t1898\t1903\t6月15號\ttime\n",
      "60\t1986\t1989\t台北市\tlocation\n",
      "60\t2008\t2012\t9654\tID\n",
      "60\t2016\t2020\t9654\tID\n",
      "60\t2028\t2030\t85\tmed_exam\n",
      "60\t2034\t2038\t1996\tmed_exam\n",
      "60\t2043\t2047\t1996\tID\n",
      "60\t2053\t2058\t5月21號\ttime\n",
      "60\t2064\t2068\t5月21\ttime\n",
      "60\t2084\t2087\t6月底\ttime\n",
      "60\t2091\t2093\t35\tmed_exam\n",
      "60\t2105\t2108\t15號\ttime\n",
      "60\t2130\t2135\t6月15號\ttime\n",
      "60\t2146\t2151\t6月15號\ttime\n",
      "60\t2192\t2197\t6月15號\ttime\n",
      "60\t2220\t2225\t6月15號\ttime\n",
      "60\t2262\t2267\t6月15號\ttime\n",
      "60\t2269\t2274\t6月15號\ttime\n",
      "60\t2283\t2288\t6月15號\ttime\n",
      "60\t2292\t2297\t6月15號\ttime\n",
      "60\t2443\t2446\t5月多\ttime\n",
      "60\t2456\t2461\t6月15號\ttime\n",
      "60\t2497\t2499\t5月\ttime\n",
      "60\t2503\t2505\t35\tmed_exam\n",
      "60\t2509\t2511\t4月\ttime\n",
      "60\t2581\t2584\t兩三年\ttime\n",
      "60\t2599\t2602\t兩三年\ttime\n",
      "61\t173\t176\t一個月\ttime\n",
      "61\t651\t655\t第一個月\ttime\n",
      "61\t791\t793\t睡前\ttime\n",
      "61\t919\t922\t下個月\ttime\n",
      "61\t2022\t2028\t11月12號\ttime\n",
      "61\t2038\t2043\t11月12\ttime\n",
      "61\t2051\t2054\t禮拜三\ttime\n",
      "61\t2055\t2057\t早上\ttime\n",
      "61\t2129\t2135\t11月12號\ttime\n",
      "61\t2213\t2216\t十幾號\ttime\n",
      "61\t2280\t2282\t台北\tlocation\n",
      "61\t2293\t2295\t台北\tlocation\n",
      "61\t2343\t2346\t五月中\ttime\n",
      "61\t2421\t2426\t11月12\ttime\n",
      "62\t5\t9\t0938\tID\n",
      "62\t13\t16\t這個月\ttime\n",
      "62\t50\t53\t這個月\ttime\n",
      "62\t300\t302\t一年\ttime\n",
      "62\t795\t799\t第十個月\ttime\n",
      "62\t906\t911\t11月29\ttime\n",
      "62\t915\t918\t禮拜五\ttime\n",
      "62\t919\t921\t下午\ttime\n",
      "63\t343\t347\t上上個月\ttime\n",
      "63\t353\t356\t下個月\ttime\n",
      "64\t4\t6\t今天\ttime\n",
      "64\t9\t12\t兩個月\ttime\n",
      "64\t746\t749\t兩個月\ttime\n",
      "64\t782\t785\t兩個月\ttime\n",
      "64\t801\t804\t下個月\ttime\n",
      "64\t914\t916\t一年\ttime\n",
      "64\t975\t985\tE287179403\ttime\n",
      "64\t1005\t1008\t第三年\ttime\n",
      "64\t1056\t1059\t一兩年\ttime\n",
      "64\t1117\t1119\t泰國\tlocation\n",
      "65\t190\t193\t這個月\ttime\n",
      "65\t205\t208\t上個月\ttime\n",
      "65\t1277\t1279\t1號\ttime\n",
      "65\t1483\t1485\t0號\ttime\n",
      "66\t27\t30\t這個月\ttime\n",
      "66\t253\t255\t前天\ttime\n",
      "66\t269\t271\t前天\ttime\n",
      "67\t34\t37\t許小姐\tname\n",
      "67\t61\t64\t許小姐\tname\n",
      "67\t330\t333\t半年多\ttime\n",
      "67\t678\t681\t王醫師\tname\n",
      "67\t881\t884\t王醫師\tname\n",
      "67\t960\t962\t今天\ttime\n",
      "67\t1012\t1015\t每個月\ttime\n",
      "67\t1081\t1084\t下個月\ttime\n",
      "67\t1113\t1116\t三個月\ttime\n",
      "67\t1204\t1207\t禮拜三\ttime\n",
      "67\t1208\t1211\t禮拜五\ttime\n",
      "67\t1223\t1226\t王醫師\tname\n",
      "67\t1236\t1239\t王醫師\tname\n",
      "67\t1240\t1243\t禮拜三\ttime\n",
      "67\t1244\t1246\t下午\ttime\n",
      "67\t1247\t1250\t禮拜五\ttime\n",
      "67\t1251\t1253\t早上\ttime\n",
      "67\t1290\t1293\t禮拜二\ttime\n",
      "67\t1300\t1303\t禮拜二\ttime\n",
      "67\t1313\t1316\t禮拜二\ttime\n",
      "67\t1366\t1369\t禮拜三\ttime\n",
      "67\t1389\t1392\t禮拜三\ttime\n",
      "67\t1412\t1415\t禮拜五\ttime\n",
      "67\t1419\t1422\t禮拜五\ttime\n",
      "67\t1449\t1451\t下週\ttime\n",
      "67\t1452\t1455\t禮拜五\ttime\n",
      "67\t1478\t1480\t28\tmed_exam\n",
      "67\t1557\t1560\t一個月\ttime\n",
      "67\t1599\t1602\t28天\ttime\n",
      "68\t31\t33\t今天\ttime\n",
      "68\t144\t147\t這個月\ttime\n",
      "68\t632\t636\t這一個月\ttime\n",
      "68\t730\t733\t下個月\ttime\n",
      "69\t267\t269\t姐姐\tfamily\n",
      "69\t1239\t1242\t前一天\ttime\n",
      "69\t1248\t1250\t今天\ttime\n",
      "69\t1251\t1255\t9月10\ttime\n",
      "69\t1267\t1270\t9月9\ttime\n",
      "69\t1271\t1275\t9月11\ttime\n",
      "69\t1276\t1278\t12\ttime\n",
      "69\t1320\t1324\t5、6點\ttime\n",
      "69\t1337\t1339\t6點\ttime\n",
      "69\t1342\t1344\t6點\ttime\n",
      "69\t1407\t1410\t11號\ttime\n",
      "69\t1432\t1437\t12號4點\ttime\n",
      "69\t1518\t1521\t前一天\ttime\n",
      "69\t1529\t1532\t前一天\ttime\n",
      "69\t1597\t1601\t9月8號\ttime\n",
      "69\t1634\t1636\t7點\ttime\n",
      "\n"
     ]
    }
   ],
   "source": [
    "print(output_str)"
   ]
  },
  {
   "cell_type": "code",
   "execution_count": 21,
   "metadata": {},
   "outputs": [],
   "source": [
    "output_path = 'output/{}-epo-{}.tsv'.format(model_name, epochs)\n",
    "with open(output_path, 'w', encoding='utf-8') as f:\n",
    "    f.write(output_str)"
   ]
  },
  {
   "cell_type": "code",
   "execution_count": null,
   "metadata": {},
   "outputs": [],
   "source": []
  },
  {
   "cell_type": "code",
   "execution_count": null,
   "metadata": {},
   "outputs": [],
   "source": []
  }
 ],
 "metadata": {
  "kernelspec": {
   "display_name": "Python 3",
   "language": "python",
   "name": "python3"
  },
  "language_info": {
   "codemirror_mode": {
    "name": "ipython",
    "version": 3
   },
   "file_extension": ".py",
   "mimetype": "text/x-python",
   "name": "python",
   "nbconvert_exporter": "python",
   "pygments_lexer": "ipython3",
   "version": "3.6.10"
  }
 },
 "nbformat": 4,
 "nbformat_minor": 4
}
