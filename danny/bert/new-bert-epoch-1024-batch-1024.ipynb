{
 "cells": [
  {
   "cell_type": "code",
   "execution_count": 1,
   "metadata": {},
   "outputs": [],
   "source": [
    "import re\n",
    "import pandas as pd\n",
    "import tensorflow as tf\n",
    "from matplotlib import pyplot as plt"
   ]
  },
  {
   "cell_type": "code",
   "execution_count": 2,
   "metadata": {},
   "outputs": [],
   "source": [
    "def select_gpu(N):\n",
    "    gpus = tf.config.experimental.list_physical_devices('GPU')\n",
    "    print(gpus)\n",
    "    if gpus:\n",
    "        try:\n",
    "            for gpu in gpus:\n",
    "                tf.config.experimental.set_memory_growth(gpu, True)\n",
    "            tf.config.experimental.set_visible_devices(gpus[N], 'GPU')\n",
    "            logical_gpus = tf.config.experimental.list_logical_devices('GPU')\n",
    "            print(len(gpus), \"Physical GPUs,\", len(logical_gpus), \"Logical GPUs\")\n",
    "        except RuntimeError as e:\n",
    "            print(e)    "
   ]
  },
  {
   "cell_type": "code",
   "execution_count": 3,
   "metadata": {},
   "outputs": [
    {
     "name": "stdout",
     "output_type": "stream",
     "text": [
      "[PhysicalDevice(name='/physical_device:GPU:0', device_type='GPU'), PhysicalDevice(name='/physical_device:GPU:1', device_type='GPU'), PhysicalDevice(name='/physical_device:GPU:2', device_type='GPU')]\n",
      "3 Physical GPUs, 1 Logical GPUs\n"
     ]
    }
   ],
   "source": [
    "select_gpu(0)\n",
    "epochs = 1024\n",
    "batch_size = 1024\n",
    "model_name = 'bert-chinese'\n",
    "embedding_path = '/home/Danny/pretrain_model/{}'.format(model_name)"
   ]
  },
  {
   "cell_type": "code",
   "execution_count": 4,
   "metadata": {},
   "outputs": [],
   "source": [
    "# 不用儲存article_id, 轉成list\n",
    "def training_txt_to_list(path):\n",
    "    with open(path, 'r') as f:\n",
    "        txt = str(f.read())\n",
    "    txt_list = txt.split('\\n')\n",
    "    text_label_list = list()\n",
    "    tmp = list()\n",
    "    for line in txt_list:\n",
    "        if line == '--------------------':\n",
    "            text_label_list.append(tmp)\n",
    "            tmp = list()\n",
    "            continue\n",
    "        if line == '':\n",
    "            continue\n",
    "        tmp.append(line)\n",
    "    x = list()\n",
    "    y = list()\n",
    "    for text_label in text_label_list:\n",
    "        text = text_label[0]\n",
    "        label = text_label[2:]\n",
    "        label_list = ['O' for i in range(len(text))]\n",
    "        for i in label:\n",
    "            entity = i.split('\\t')\n",
    "            if int(entity[1]) > int(entity[2]):\n",
    "                continue\n",
    "            b = int(entity[1])\n",
    "            label_list[b] = 'B-{}'.format(entity[-1])\n",
    "            for j in range(int(entity[1])+1, int(entity[2])):\n",
    "                label_list[j] = 'I-{}'.format(entity[-1])\n",
    "        for i, j in enumerate(text):\n",
    "            if j == '，' or j == '。' or j == '？':\n",
    "                label_list[i] = j\n",
    "                \n",
    "        text_list = re.split('\\uff0c|\\u3002|\\uff1f', text)\n",
    "        for sentence in text_list:\n",
    "            x.append([i for i in sentence])\n",
    "        x = x[:-1]\n",
    "            \n",
    "        sentence = list()\n",
    "        for i in label_list:\n",
    "            if i == '，' or i == '。' or i == '？':\n",
    "                y.append(sentence)\n",
    "                sentence = list()\n",
    "            else:\n",
    "                sentence.append(i)\n",
    "                \n",
    "    return [x, y]"
   ]
  },
  {
   "cell_type": "code",
   "execution_count": 5,
   "metadata": {},
   "outputs": [],
   "source": [
    "x1, y1 = training_txt_to_list('/home/Danny/AI-CUP-2020/datasets/stage1/SampleData_deid.txt')"
   ]
  },
  {
   "cell_type": "code",
   "execution_count": 6,
   "metadata": {},
   "outputs": [],
   "source": [
    "x2, y2 = training_txt_to_list('/home/Danny/AI-CUP-2020/datasets/stage2/train_1_update.txt')"
   ]
  },
  {
   "cell_type": "code",
   "execution_count": 7,
   "metadata": {},
   "outputs": [],
   "source": [
    "x4, y4 = training_txt_to_list('/home/Danny/AI-CUP-2020/datasets/stage4/train_2.txt')"
   ]
  },
  {
   "cell_type": "code",
   "execution_count": 8,
   "metadata": {},
   "outputs": [
    {
     "name": "stdout",
     "output_type": "stream",
     "text": [
      "76162\n",
      "76162\n"
     ]
    }
   ],
   "source": [
    "x = x1 + x2 + x4\n",
    "y = y1 + y2 + y4\n",
    "print(len(x))\n",
    "print(len(y))"
   ]
  },
  {
   "cell_type": "code",
   "execution_count": 9,
   "metadata": {},
   "outputs": [
    {
     "data": {
      "text/html": [
       "<div>\n",
       "<style scoped>\n",
       "    .dataframe tbody tr th:only-of-type {\n",
       "        vertical-align: middle;\n",
       "    }\n",
       "\n",
       "    .dataframe tbody tr th {\n",
       "        vertical-align: top;\n",
       "    }\n",
       "\n",
       "    .dataframe thead th {\n",
       "        text-align: right;\n",
       "    }\n",
       "</style>\n",
       "<table border=\"1\" class=\"dataframe\">\n",
       "  <thead>\n",
       "    <tr style=\"text-align: right;\">\n",
       "      <th></th>\n",
       "      <th>x</th>\n",
       "      <th>y</th>\n",
       "    </tr>\n",
       "  </thead>\n",
       "  <tbody>\n",
       "    <tr>\n",
       "      <th>0</th>\n",
       "      <td>[醫, 師, ：, 你, 有, 做, 超, 音, 波, 嘛]</td>\n",
       "      <td>[O, O, O, O, O, O, O, O, O, O]</td>\n",
       "    </tr>\n",
       "    <tr>\n",
       "      <th>1</th>\n",
       "      <td>[那, 我, 們, 來, 看, 報, 告]</td>\n",
       "      <td>[O, O, O, O, O, O, O]</td>\n",
       "    </tr>\n",
       "    <tr>\n",
       "      <th>2</th>\n",
       "      <td>[有, 些, 部, 分, 有, 紅, 字, 耶]</td>\n",
       "      <td>[O, O, O, O, O, O, O, O]</td>\n",
       "    </tr>\n",
       "    <tr>\n",
       "      <th>3</th>\n",
       "      <td>[民, 眾, ：, 紅, 字, 是, 甚, 麼, 意, 思]</td>\n",
       "      <td>[O, O, O, O, O, O, O, O, O, O]</td>\n",
       "    </tr>\n",
       "    <tr>\n",
       "      <th>4</th>\n",
       "      <td>[醫, 師, ：, 就, 是, 肝, 功, 能, 有, 比, 較, 高]</td>\n",
       "      <td>[O, O, O, O, O, O, O, O, O, O, O, O]</td>\n",
       "    </tr>\n",
       "    <tr>\n",
       "      <th>...</th>\n",
       "      <td>...</td>\n",
       "      <td>...</td>\n",
       "    </tr>\n",
       "    <tr>\n",
       "      <th>76157</th>\n",
       "      <td>[醫, 師, ：, 他, 有, 在, 騎, 腳, 踏, 車]</td>\n",
       "      <td>[O, O, O, O, O, O, O, O, O, O]</td>\n",
       "    </tr>\n",
       "    <tr>\n",
       "      <th>76158</th>\n",
       "      <td>[民, 眾, ：, 恩]</td>\n",
       "      <td>[O, O, O, O]</td>\n",
       "    </tr>\n",
       "    <tr>\n",
       "      <th>76159</th>\n",
       "      <td>[醫, 師, ：, 騎, 腳, 踏, 車, 可, 以]</td>\n",
       "      <td>[O, O, O, O, O, O, O, O, O]</td>\n",
       "    </tr>\n",
       "    <tr>\n",
       "      <th>76160</th>\n",
       "      <td>[小, 美]</td>\n",
       "      <td>[B-name, I-name]</td>\n",
       "    </tr>\n",
       "    <tr>\n",
       "      <th>76161</th>\n",
       "      <td>[那, 我, 們, 先, 讓, 他, 去, 照, 個, X, 光]</td>\n",
       "      <td>[O, O, O, O, O, O, O, O, O, O, O]</td>\n",
       "    </tr>\n",
       "  </tbody>\n",
       "</table>\n",
       "<p>76162 rows × 2 columns</p>\n",
       "</div>"
      ],
      "text/plain": [
       "                                          x  \\\n",
       "0            [醫, 師, ：, 你, 有, 做, 超, 音, 波, 嘛]   \n",
       "1                     [那, 我, 們, 來, 看, 報, 告]   \n",
       "2                  [有, 些, 部, 分, 有, 紅, 字, 耶]   \n",
       "3            [民, 眾, ：, 紅, 字, 是, 甚, 麼, 意, 思]   \n",
       "4      [醫, 師, ：, 就, 是, 肝, 功, 能, 有, 比, 較, 高]   \n",
       "...                                     ...   \n",
       "76157        [醫, 師, ：, 他, 有, 在, 騎, 腳, 踏, 車]   \n",
       "76158                          [民, 眾, ：, 恩]   \n",
       "76159           [醫, 師, ：, 騎, 腳, 踏, 車, 可, 以]   \n",
       "76160                                [小, 美]   \n",
       "76161     [那, 我, 們, 先, 讓, 他, 去, 照, 個, X, 光]   \n",
       "\n",
       "                                          y  \n",
       "0            [O, O, O, O, O, O, O, O, O, O]  \n",
       "1                     [O, O, O, O, O, O, O]  \n",
       "2                  [O, O, O, O, O, O, O, O]  \n",
       "3            [O, O, O, O, O, O, O, O, O, O]  \n",
       "4      [O, O, O, O, O, O, O, O, O, O, O, O]  \n",
       "...                                     ...  \n",
       "76157        [O, O, O, O, O, O, O, O, O, O]  \n",
       "76158                          [O, O, O, O]  \n",
       "76159           [O, O, O, O, O, O, O, O, O]  \n",
       "76160                      [B-name, I-name]  \n",
       "76161     [O, O, O, O, O, O, O, O, O, O, O]  \n",
       "\n",
       "[76162 rows x 2 columns]"
      ]
     },
     "execution_count": 9,
     "metadata": {},
     "output_type": "execute_result"
    }
   ],
   "source": [
    "df = pd.DataFrame({'x': x, 'y': y})\n",
    "df"
   ]
  },
  {
   "cell_type": "code",
   "execution_count": 10,
   "metadata": {},
   "outputs": [
    {
     "name": "stderr",
     "output_type": "stream",
     "text": [
      "/home/Danny/anaconda3/lib/python3.6/site-packages/ipykernel_launcher.py:4: SettingWithCopyWarning: \n",
      "A value is trying to be set on a copy of a slice from a DataFrame.\n",
      "Try using .loc[row_indexer,col_indexer] = value instead\n",
      "\n",
      "See the caveats in the documentation: https://pandas.pydata.org/pandas-docs/stable/user_guide/indexing.html#returning-a-view-versus-a-copy\n",
      "  after removing the cwd from sys.path.\n",
      "/home/Danny/anaconda3/lib/python3.6/site-packages/ipykernel_launcher.py:5: SettingWithCopyWarning: \n",
      "A value is trying to be set on a copy of a slice from a DataFrame.\n",
      "Try using .loc[row_indexer,col_indexer] = value instead\n",
      "\n",
      "See the caveats in the documentation: https://pandas.pydata.org/pandas-docs/stable/user_guide/indexing.html#returning-a-view-versus-a-copy\n",
      "  \"\"\"\n"
     ]
    },
    {
     "data": {
      "text/html": [
       "<div>\n",
       "<style scoped>\n",
       "    .dataframe tbody tr th:only-of-type {\n",
       "        vertical-align: middle;\n",
       "    }\n",
       "\n",
       "    .dataframe tbody tr th {\n",
       "        vertical-align: top;\n",
       "    }\n",
       "\n",
       "    .dataframe thead th {\n",
       "        text-align: right;\n",
       "    }\n",
       "</style>\n",
       "<table border=\"1\" class=\"dataframe\">\n",
       "  <thead>\n",
       "    <tr style=\"text-align: right;\">\n",
       "      <th></th>\n",
       "      <th>x</th>\n",
       "      <th>y</th>\n",
       "    </tr>\n",
       "  </thead>\n",
       "  <tbody>\n",
       "    <tr>\n",
       "      <th>0</th>\n",
       "      <td>[醫, 師, ：, 你, 有, 做, 超, 音, 波, 嘛]</td>\n",
       "      <td>[O, O, O, O, O, O, O, O, O, O]</td>\n",
       "    </tr>\n",
       "    <tr>\n",
       "      <th>1</th>\n",
       "      <td>[那, 我, 們, 來, 看, 報, 告]</td>\n",
       "      <td>[O, O, O, O, O, O, O]</td>\n",
       "    </tr>\n",
       "    <tr>\n",
       "      <th>2</th>\n",
       "      <td>[有, 些, 部, 分, 有, 紅, 字, 耶]</td>\n",
       "      <td>[O, O, O, O, O, O, O, O]</td>\n",
       "    </tr>\n",
       "    <tr>\n",
       "      <th>3</th>\n",
       "      <td>[民, 眾, ：, 紅, 字, 是, 甚, 麼, 意, 思]</td>\n",
       "      <td>[O, O, O, O, O, O, O, O, O, O]</td>\n",
       "    </tr>\n",
       "    <tr>\n",
       "      <th>4</th>\n",
       "      <td>[醫, 師, ：, 就, 是, 肝, 功, 能, 有, 比, 較, 高]</td>\n",
       "      <td>[O, O, O, O, O, O, O, O, O, O, O, O]</td>\n",
       "    </tr>\n",
       "    <tr>\n",
       "      <th>...</th>\n",
       "      <td>...</td>\n",
       "      <td>...</td>\n",
       "    </tr>\n",
       "    <tr>\n",
       "      <th>75713</th>\n",
       "      <td>[醫, 師, ：, 7, 4, 0, 3]</td>\n",
       "      <td>[O, O, O, B-ID, I-ID, I-ID, I-ID]</td>\n",
       "    </tr>\n",
       "    <tr>\n",
       "      <th>75714</th>\n",
       "      <td>[醫, 師, ：, 6, 6, 6, 0, 8, 9, 7, 4, 0, 3]</td>\n",
       "      <td>[O, O, O, B-ID, I-ID, I-ID, I-ID, I-ID, I-ID, ...</td>\n",
       "    </tr>\n",
       "    <tr>\n",
       "      <th>75716</th>\n",
       "      <td>[護, 理, 師, ：, 6, 6, 6, 0, 9, 8]</td>\n",
       "      <td>[O, O, O, O, B-ID, I-ID, I-ID, I-ID, I-ID, I-ID]</td>\n",
       "    </tr>\n",
       "    <tr>\n",
       "      <th>75717</th>\n",
       "      <td>[醫, 師, ：, 0, 9, 8, 7, 4, 0, 3]</td>\n",
       "      <td>[O, O, O, B-ID, I-ID, I-ID, I-ID, I-ID, I-ID, ...</td>\n",
       "    </tr>\n",
       "    <tr>\n",
       "      <th>76102</th>\n",
       "      <td>[好, 像, 是, 那, 時, 候, 跑, 完, 6, 0, 0, 0, 公, 尺]</td>\n",
       "      <td>[O, O, O, O, O, O, O, O, O, O, O, O, O, O]</td>\n",
       "    </tr>\n",
       "  </tbody>\n",
       "</table>\n",
       "<p>31521 rows × 2 columns</p>\n",
       "</div>"
      ],
      "text/plain": [
       "                                                x  \\\n",
       "0                  [醫, 師, ：, 你, 有, 做, 超, 音, 波, 嘛]   \n",
       "1                           [那, 我, 們, 來, 看, 報, 告]   \n",
       "2                        [有, 些, 部, 分, 有, 紅, 字, 耶]   \n",
       "3                  [民, 眾, ：, 紅, 字, 是, 甚, 麼, 意, 思]   \n",
       "4            [醫, 師, ：, 就, 是, 肝, 功, 能, 有, 比, 較, 高]   \n",
       "...                                           ...   \n",
       "75713                       [醫, 師, ：, 7, 4, 0, 3]   \n",
       "75714     [醫, 師, ：, 6, 6, 6, 0, 8, 9, 7, 4, 0, 3]   \n",
       "75716              [護, 理, 師, ：, 6, 6, 6, 0, 9, 8]   \n",
       "75717              [醫, 師, ：, 0, 9, 8, 7, 4, 0, 3]   \n",
       "76102  [好, 像, 是, 那, 時, 候, 跑, 完, 6, 0, 0, 0, 公, 尺]   \n",
       "\n",
       "                                                       y  \n",
       "0                         [O, O, O, O, O, O, O, O, O, O]  \n",
       "1                                  [O, O, O, O, O, O, O]  \n",
       "2                               [O, O, O, O, O, O, O, O]  \n",
       "3                         [O, O, O, O, O, O, O, O, O, O]  \n",
       "4                   [O, O, O, O, O, O, O, O, O, O, O, O]  \n",
       "...                                                  ...  \n",
       "75713                  [O, O, O, B-ID, I-ID, I-ID, I-ID]  \n",
       "75714  [O, O, O, B-ID, I-ID, I-ID, I-ID, I-ID, I-ID, ...  \n",
       "75716   [O, O, O, O, B-ID, I-ID, I-ID, I-ID, I-ID, I-ID]  \n",
       "75717  [O, O, O, B-ID, I-ID, I-ID, I-ID, I-ID, I-ID, ...  \n",
       "76102         [O, O, O, O, O, O, O, O, O, O, O, O, O, O]  \n",
       "\n",
       "[31521 rows x 2 columns]"
      ]
     },
     "execution_count": 10,
     "metadata": {},
     "output_type": "execute_result"
    }
   ],
   "source": [
    "df['x'] = df['x'].apply(lambda row : str(row))\n",
    "df['y'] = df['y'].apply(lambda row : str(row))\n",
    "df = df.drop_duplicates()\n",
    "df['x'] = df['x'].apply(lambda row : eval(row))\n",
    "df['y'] = df['y'].apply(lambda row : eval(row))\n",
    "df"
   ]
  },
  {
   "cell_type": "code",
   "execution_count": 11,
   "metadata": {},
   "outputs": [],
   "source": [
    "x = df['x'].to_list()\n",
    "y = df['y'].to_list()"
   ]
  },
  {
   "cell_type": "code",
   "execution_count": 12,
   "metadata": {},
   "outputs": [
    {
     "name": "stdout",
     "output_type": "stream",
     "text": [
      "20172 20172\n",
      "5044 5044\n",
      "6305 6305\n"
     ]
    }
   ],
   "source": [
    "from sklearn.model_selection import train_test_split\n",
    "train_x, test_x, train_y, test_y = train_test_split(x, y, test_size=0.2, random_state=42)\n",
    "train_x, valid_x, train_y, valid_y = train_test_split(train_x, train_y, test_size=0.2, random_state=42)\n",
    "print(len(train_x), len(train_y))\n",
    "print(len(valid_x), len(valid_y))\n",
    "print(len(test_x), len(test_y))"
   ]
  },
  {
   "cell_type": "code",
   "execution_count": 13,
   "metadata": {
    "scrolled": false
   },
   "outputs": [
    {
     "name": "stderr",
     "output_type": "stream",
     "text": [
      "2020-12-15 15:26:38,833 [DEBUG] kashgari - ------------------------------------------------\n",
      "2020-12-15 15:26:38,834 [DEBUG] kashgari - Loaded transformer model's vocab\n",
      "2020-12-15 15:26:38,834 [DEBUG] kashgari - config_path       : /home/Danny/pretrain_model/bert-chinese/bert_config.json\n",
      "2020-12-15 15:26:38,835 [DEBUG] kashgari - vocab_path      : /home/Danny/pretrain_model/bert-chinese/vocab.txt\n",
      "2020-12-15 15:26:38,835 [DEBUG] kashgari - checkpoint_path : /home/Danny/pretrain_model/bert-chinese/bert_model.ckpt\n",
      "2020-12-15 15:26:38,836 [DEBUG] kashgari - Top 50 words    : ['[PAD]', '[unused1]', '[unused2]', '[unused3]', '[unused4]', '[unused5]', '[unused6]', '[unused7]', '[unused8]', '[unused9]', '[unused10]', '[unused11]', '[unused12]', '[unused13]', '[unused14]', '[unused15]', '[unused16]', '[unused17]', '[unused18]', '[unused19]', '[unused20]', '[unused21]', '[unused22]', '[unused23]', '[unused24]', '[unused25]', '[unused26]', '[unused27]', '[unused28]', '[unused29]', '[unused30]', '[unused31]', '[unused32]', '[unused33]', '[unused34]', '[unused35]', '[unused36]', '[unused37]', '[unused38]', '[unused39]', '[unused40]', '[unused41]', '[unused42]', '[unused43]', '[unused44]', '[unused45]', '[unused46]', '[unused47]', '[unused48]', '[unused49]']\n",
      "2020-12-15 15:26:38,836 [DEBUG] kashgari - ------------------------------------------------\n",
      "Preparing text vocab dict: 100%|██████████| 20172/20172 [00:00<00:00, 321437.53it/s]\n",
      "Preparing text vocab dict: 100%|██████████| 5044/5044 [00:00<00:00, 391866.14it/s]\n",
      "2020-12-15 15:26:38,918 [DEBUG] kashgari - --- Build vocab dict finished, Total: 1551 ---\n",
      "2020-12-15 15:26:38,919 [DEBUG] kashgari - Top-10: ['[PAD]', '[UNK]', '[CLS]', '[SEP]', '：', '是', '師', '有', '醫', '個']\n",
      "Preparing text vocab dict: 100%|██████████| 20172/20172 [00:00<00:00, 443563.40it/s]\n",
      "Preparing text vocab dict: 100%|██████████| 5044/5044 [00:00<00:00, 498740.41it/s]\n",
      "2020-12-15 15:26:38,977 [DEBUG] kashgari - --- Build vocab dict finished, Total: 28 ---\n",
      "2020-12-15 15:26:38,978 [DEBUG] kashgari - Top-10: ['[PAD]', 'O', 'I-time', 'B-time', 'I-med_exam', 'I-name', 'I-location', 'B-med_exam', 'I-money', 'B-name']\n",
      "Calculating sequence length: 100%|██████████| 20172/20172 [00:00<00:00, 1363164.00it/s]\n",
      "Calculating sequence length: 100%|██████████| 5044/5044 [00:00<00:00, 1500962.71it/s]\n",
      "2020-12-15 15:26:41,975 [DEBUG] kashgari - Calculated sequence length = 21\n",
      "2020-12-15 15:26:44,169 [DEBUG] kashgari - fit input shape: (2, 1024, 21)\n",
      "2020-12-15 15:26:44,170 [DEBUG] kashgari - fit input shape: (1024, 21)\n"
     ]
    },
    {
     "name": "stdout",
     "output_type": "stream",
     "text": [
      "Epoch 1/1024\n",
      "19/19 [==============================] - 18s 933ms/step - loss: 4.4436 - accuracy: 0.8508 - val_loss: 29.2580 - val_accuracy: 0.9693\n",
      "Epoch 2/1024\n",
      "19/19 [==============================] - 13s 705ms/step - loss: 1.2681 - accuracy: 0.9664 - val_loss: 29.1579 - val_accuracy: 0.9707\n",
      "Epoch 3/1024\n",
      "19/19 [==============================] - 13s 700ms/step - loss: 0.8948 - accuracy: 0.9694 - val_loss: 29.1220 - val_accuracy: 0.9723\n",
      "Epoch 4/1024\n",
      "19/19 [==============================] - 13s 700ms/step - loss: 0.7105 - accuracy: 0.9736 - val_loss: 29.1860 - val_accuracy: 0.9753\n",
      "Epoch 5/1024\n",
      "19/19 [==============================] - 13s 703ms/step - loss: 0.6068 - accuracy: 0.9758 - val_loss: 28.9306 - val_accuracy: 0.9761\n",
      "Epoch 6/1024\n",
      "19/19 [==============================] - 13s 701ms/step - loss: 0.5324 - accuracy: 0.9774 - val_loss: 28.9663 - val_accuracy: 0.9784\n",
      "Epoch 7/1024\n",
      "19/19 [==============================] - 13s 704ms/step - loss: 0.4806 - accuracy: 0.9782 - val_loss: 28.8168 - val_accuracy: 0.9814\n",
      "Epoch 8/1024\n",
      "19/19 [==============================] - 13s 705ms/step - loss: 0.4384 - accuracy: 0.9794 - val_loss: 28.8069 - val_accuracy: 0.9833\n",
      "Epoch 9/1024\n",
      "19/19 [==============================] - 13s 706ms/step - loss: 0.3963 - accuracy: 0.9808 - val_loss: 28.8737 - val_accuracy: 0.9842\n",
      "Epoch 10/1024\n",
      "19/19 [==============================] - 14s 721ms/step - loss: 0.3747 - accuracy: 0.9818 - val_loss: 28.8433 - val_accuracy: 0.9839\n",
      "Epoch 11/1024\n",
      "19/19 [==============================] - 13s 707ms/step - loss: 0.3416 - accuracy: 0.9833 - val_loss: 28.8421 - val_accuracy: 0.9852\n",
      "Epoch 12/1024\n",
      "19/19 [==============================] - 13s 707ms/step - loss: 0.3287 - accuracy: 0.9836 - val_loss: 28.7414 - val_accuracy: 0.9853\n",
      "Epoch 13/1024\n",
      "19/19 [==============================] - 13s 707ms/step - loss: 0.3124 - accuracy: 0.9845 - val_loss: 28.6570 - val_accuracy: 0.9861\n",
      "Epoch 14/1024\n",
      "19/19 [==============================] - 13s 707ms/step - loss: 0.2910 - accuracy: 0.9851 - val_loss: 28.8444 - val_accuracy: 0.9860\n",
      "Epoch 15/1024\n",
      "19/19 [==============================] - 13s 707ms/step - loss: 0.2825 - accuracy: 0.9852 - val_loss: 28.6388 - val_accuracy: 0.9867\n",
      "Epoch 16/1024\n",
      "19/19 [==============================] - 13s 706ms/step - loss: 0.2661 - accuracy: 0.9862 - val_loss: 28.7579 - val_accuracy: 0.9865\n",
      "Epoch 17/1024\n",
      "19/19 [==============================] - 13s 706ms/step - loss: 0.2613 - accuracy: 0.9862 - val_loss: 28.8287 - val_accuracy: 0.9860\n",
      "Epoch 18/1024\n",
      "19/19 [==============================] - 13s 707ms/step - loss: 0.2469 - accuracy: 0.9870 - val_loss: 28.5634 - val_accuracy: 0.9868\n",
      "Epoch 19/1024\n",
      "19/19 [==============================] - 13s 707ms/step - loss: 0.2311 - accuracy: 0.9875 - val_loss: 28.6826 - val_accuracy: 0.9873\n",
      "Epoch 20/1024\n",
      "19/19 [==============================] - 13s 708ms/step - loss: 0.2292 - accuracy: 0.9876 - val_loss: 28.4076 - val_accuracy: 0.9869\n",
      "Epoch 21/1024\n",
      "19/19 [==============================] - 14s 719ms/step - loss: 0.2190 - accuracy: 0.9881 - val_loss: 28.5014 - val_accuracy: 0.9866\n",
      "Epoch 22/1024\n",
      "19/19 [==============================] - 14s 717ms/step - loss: 0.2098 - accuracy: 0.9885 - val_loss: 28.4732 - val_accuracy: 0.9865\n",
      "Epoch 23/1024\n",
      "19/19 [==============================] - 13s 707ms/step - loss: 0.2013 - accuracy: 0.9888 - val_loss: 28.6073 - val_accuracy: 0.9872\n",
      "Epoch 24/1024\n",
      "19/19 [==============================] - 13s 707ms/step - loss: 0.1957 - accuracy: 0.9893 - val_loss: 28.4460 - val_accuracy: 0.9865\n",
      "Epoch 25/1024\n",
      "19/19 [==============================] - 13s 708ms/step - loss: 0.1850 - accuracy: 0.9893 - val_loss: 28.4080 - val_accuracy: 0.9871\n",
      "Epoch 26/1024\n",
      "19/19 [==============================] - 13s 709ms/step - loss: 0.1781 - accuracy: 0.9900 - val_loss: 28.4212 - val_accuracy: 0.9870\n",
      "Epoch 27/1024\n",
      "19/19 [==============================] - 13s 708ms/step - loss: 0.1749 - accuracy: 0.9901 - val_loss: 28.3234 - val_accuracy: 0.9879\n",
      "Epoch 28/1024\n",
      "19/19 [==============================] - 13s 709ms/step - loss: 0.1641 - accuracy: 0.9908 - val_loss: 28.3804 - val_accuracy: 0.9886\n",
      "Epoch 29/1024\n",
      "19/19 [==============================] - 13s 708ms/step - loss: 0.1531 - accuracy: 0.9915 - val_loss: 28.4307 - val_accuracy: 0.9868\n",
      "Epoch 30/1024\n",
      "19/19 [==============================] - 13s 709ms/step - loss: 0.1539 - accuracy: 0.9913 - val_loss: 28.3359 - val_accuracy: 0.9873\n",
      "Epoch 31/1024\n",
      "19/19 [==============================] - 13s 710ms/step - loss: 0.1481 - accuracy: 0.9916 - val_loss: 28.3273 - val_accuracy: 0.9880\n",
      "Epoch 32/1024\n",
      "19/19 [==============================] - 13s 708ms/step - loss: 0.1386 - accuracy: 0.9918 - val_loss: 28.2260 - val_accuracy: 0.9880\n",
      "Epoch 33/1024\n",
      "19/19 [==============================] - 13s 707ms/step - loss: 0.1365 - accuracy: 0.9922 - val_loss: 28.2781 - val_accuracy: 0.9879\n",
      "Epoch 34/1024\n",
      "19/19 [==============================] - 14s 711ms/step - loss: 0.1290 - accuracy: 0.9925 - val_loss: 28.2668 - val_accuracy: 0.9863\n",
      "Epoch 35/1024\n",
      "19/19 [==============================] - 13s 708ms/step - loss: 0.1255 - accuracy: 0.9928 - val_loss: 28.3744 - val_accuracy: 0.9868\n",
      "Epoch 36/1024\n",
      "19/19 [==============================] - 13s 709ms/step - loss: 0.1225 - accuracy: 0.9932 - val_loss: 28.0881 - val_accuracy: 0.9870\n",
      "Epoch 37/1024\n",
      "19/19 [==============================] - 13s 708ms/step - loss: 0.1168 - accuracy: 0.9933 - val_loss: 28.2300 - val_accuracy: 0.9877\n",
      "Epoch 38/1024\n",
      "19/19 [==============================] - 13s 709ms/step - loss: 0.1067 - accuracy: 0.9939 - val_loss: 28.0652 - val_accuracy: 0.9877\n",
      "Epoch 39/1024\n",
      "19/19 [==============================] - 13s 709ms/step - loss: 0.1072 - accuracy: 0.9939 - val_loss: 28.0850 - val_accuracy: 0.9875\n",
      "Epoch 40/1024\n",
      "19/19 [==============================] - 13s 708ms/step - loss: 0.1027 - accuracy: 0.9943 - val_loss: 28.1820 - val_accuracy: 0.9866\n",
      "Epoch 41/1024\n",
      "19/19 [==============================] - 14s 718ms/step - loss: 0.0985 - accuracy: 0.9944 - val_loss: 28.0563 - val_accuracy: 0.9870\n",
      "Epoch 42/1024\n",
      "19/19 [==============================] - 14s 717ms/step - loss: 0.0961 - accuracy: 0.9945 - val_loss: 27.9635 - val_accuracy: 0.9865\n",
      "Epoch 43/1024\n",
      "19/19 [==============================] - 13s 710ms/step - loss: 0.0963 - accuracy: 0.9943 - val_loss: 28.0673 - val_accuracy: 0.9828\n",
      "Epoch 44/1024\n",
      "19/19 [==============================] - 13s 709ms/step - loss: 0.0861 - accuracy: 0.9954 - val_loss: 28.0964 - val_accuracy: 0.9833\n",
      "Epoch 45/1024\n",
      "19/19 [==============================] - 13s 709ms/step - loss: 0.0859 - accuracy: 0.9952 - val_loss: 28.0812 - val_accuracy: 0.9821\n",
      "Epoch 46/1024\n",
      "19/19 [==============================] - 14s 712ms/step - loss: 0.0837 - accuracy: 0.9954 - val_loss: 28.0039 - val_accuracy: 0.9831\n",
      "Epoch 47/1024\n",
      "19/19 [==============================] - 14s 711ms/step - loss: 0.0852 - accuracy: 0.9949 - val_loss: 28.0504 - val_accuracy: 0.9841\n",
      "Epoch 48/1024\n",
      "19/19 [==============================] - 13s 709ms/step - loss: 0.0784 - accuracy: 0.9956 - val_loss: 28.1005 - val_accuracy: 0.9845\n",
      "Epoch 49/1024\n",
      "19/19 [==============================] - 13s 710ms/step - loss: 0.0773 - accuracy: 0.9954 - val_loss: 27.9872 - val_accuracy: 0.9831\n",
      "Epoch 50/1024\n",
      "19/19 [==============================] - 13s 710ms/step - loss: 0.0756 - accuracy: 0.9955 - val_loss: 27.8174 - val_accuracy: 0.9841\n",
      "Epoch 51/1024\n",
      "19/19 [==============================] - 13s 709ms/step - loss: 0.0754 - accuracy: 0.9957 - val_loss: 27.9775 - val_accuracy: 0.9833\n",
      "Epoch 52/1024\n",
      "19/19 [==============================] - 14s 711ms/step - loss: 0.0712 - accuracy: 0.9959 - val_loss: 27.9490 - val_accuracy: 0.9844\n",
      "Epoch 53/1024\n",
      "19/19 [==============================] - 13s 709ms/step - loss: 0.0667 - accuracy: 0.9960 - val_loss: 28.0121 - val_accuracy: 0.9827\n",
      "Epoch 54/1024\n",
      "19/19 [==============================] - 13s 710ms/step - loss: 0.0675 - accuracy: 0.9963 - val_loss: 27.9091 - val_accuracy: 0.9838\n",
      "Epoch 55/1024\n",
      "19/19 [==============================] - 13s 710ms/step - loss: 0.0639 - accuracy: 0.9965 - val_loss: 27.8693 - val_accuracy: 0.9827\n",
      "Epoch 56/1024\n",
      "19/19 [==============================] - 14s 711ms/step - loss: 0.0599 - accuracy: 0.9968 - val_loss: 27.9099 - val_accuracy: 0.9827\n"
     ]
    },
    {
     "name": "stdout",
     "output_type": "stream",
     "text": [
      "Epoch 57/1024\n",
      "19/19 [==============================] - 13s 710ms/step - loss: 0.0606 - accuracy: 0.9966 - val_loss: 27.8947 - val_accuracy: 0.9820\n",
      "Epoch 58/1024\n",
      "19/19 [==============================] - 14s 711ms/step - loss: 0.0613 - accuracy: 0.9963 - val_loss: 27.8141 - val_accuracy: 0.9844\n",
      "Epoch 59/1024\n",
      "19/19 [==============================] - 14s 711ms/step - loss: 0.0602 - accuracy: 0.9965 - val_loss: 27.9176 - val_accuracy: 0.9828\n",
      "Epoch 60/1024\n",
      "19/19 [==============================] - 14s 711ms/step - loss: 0.0576 - accuracy: 0.9967 - val_loss: 27.8348 - val_accuracy: 0.9841\n",
      "Epoch 61/1024\n",
      "19/19 [==============================] - 14s 722ms/step - loss: 0.0551 - accuracy: 0.9969 - val_loss: 27.9861 - val_accuracy: 0.9839\n",
      "Epoch 62/1024\n",
      "19/19 [==============================] - 14s 718ms/step - loss: 0.0533 - accuracy: 0.9968 - val_loss: 27.9189 - val_accuracy: 0.9827\n",
      "Epoch 63/1024\n",
      "19/19 [==============================] - 13s 709ms/step - loss: 0.0499 - accuracy: 0.9972 - val_loss: 27.8015 - val_accuracy: 0.9833\n",
      "Epoch 64/1024\n",
      "19/19 [==============================] - 13s 708ms/step - loss: 0.0505 - accuracy: 0.9971 - val_loss: 27.7440 - val_accuracy: 0.9833\n",
      "Epoch 65/1024\n",
      "19/19 [==============================] - 13s 708ms/step - loss: 0.0472 - accuracy: 0.9973 - val_loss: 27.8506 - val_accuracy: 0.9841\n",
      "Epoch 66/1024\n",
      "19/19 [==============================] - 13s 709ms/step - loss: 0.0462 - accuracy: 0.9973 - val_loss: 27.7235 - val_accuracy: 0.9834\n",
      "Epoch 67/1024\n",
      "19/19 [==============================] - 13s 708ms/step - loss: 0.0450 - accuracy: 0.9975 - val_loss: 27.7974 - val_accuracy: 0.9824\n",
      "Epoch 68/1024\n",
      "19/19 [==============================] - 13s 708ms/step - loss: 0.0443 - accuracy: 0.9975 - val_loss: 27.7645 - val_accuracy: 0.9836\n",
      "Epoch 69/1024\n",
      "19/19 [==============================] - 14s 725ms/step - loss: 0.0443 - accuracy: 0.9975 - val_loss: 27.7499 - val_accuracy: 0.9837\n",
      "Epoch 70/1024\n",
      "19/19 [==============================] - 13s 705ms/step - loss: 0.0445 - accuracy: 0.9974 - val_loss: 27.7369 - val_accuracy: 0.9839\n",
      "Epoch 71/1024\n",
      "19/19 [==============================] - 13s 707ms/step - loss: 0.0450 - accuracy: 0.9975 - val_loss: 27.8171 - val_accuracy: 0.9837\n",
      "Epoch 72/1024\n",
      "19/19 [==============================] - 13s 708ms/step - loss: 0.0423 - accuracy: 0.9976 - val_loss: 27.6610 - val_accuracy: 0.9836\n",
      "Epoch 73/1024\n",
      "19/19 [==============================] - 13s 706ms/step - loss: 0.0438 - accuracy: 0.9973 - val_loss: 27.6440 - val_accuracy: 0.9832\n",
      "Epoch 74/1024\n",
      "19/19 [==============================] - 13s 705ms/step - loss: 0.0406 - accuracy: 0.9978 - val_loss: 27.6983 - val_accuracy: 0.9842\n",
      "Epoch 75/1024\n",
      "19/19 [==============================] - 13s 707ms/step - loss: 0.0413 - accuracy: 0.9976 - val_loss: 27.7411 - val_accuracy: 0.9829\n",
      "Epoch 76/1024\n",
      "19/19 [==============================] - 13s 706ms/step - loss: 0.0406 - accuracy: 0.9975 - val_loss: 27.6346 - val_accuracy: 0.9822\n",
      "Epoch 77/1024\n",
      "19/19 [==============================] - 13s 706ms/step - loss: 0.0373 - accuracy: 0.9979 - val_loss: 27.6661 - val_accuracy: 0.9824\n",
      "Epoch 78/1024\n",
      "19/19 [==============================] - 13s 706ms/step - loss: 0.0394 - accuracy: 0.9976 - val_loss: 27.6909 - val_accuracy: 0.9823\n",
      "Epoch 79/1024\n",
      "19/19 [==============================] - 13s 707ms/step - loss: 0.0374 - accuracy: 0.9978 - val_loss: 27.5718 - val_accuracy: 0.9835\n",
      "Epoch 80/1024\n",
      "19/19 [==============================] - 13s 707ms/step - loss: 0.0357 - accuracy: 0.9979 - val_loss: 27.6883 - val_accuracy: 0.9837\n",
      "Epoch 81/1024\n",
      "19/19 [==============================] - 14s 715ms/step - loss: 0.0393 - accuracy: 0.9978 - val_loss: 27.5530 - val_accuracy: 0.9839\n",
      "Epoch 82/1024\n",
      "19/19 [==============================] - 14s 716ms/step - loss: 0.0370 - accuracy: 0.9979 - val_loss: 27.4536 - val_accuracy: 0.9816\n",
      "Epoch 83/1024\n",
      "19/19 [==============================] - 13s 707ms/step - loss: 0.0348 - accuracy: 0.9980 - val_loss: 27.4633 - val_accuracy: 0.9819\n",
      "Epoch 84/1024\n",
      "19/19 [==============================] - 13s 707ms/step - loss: 0.0380 - accuracy: 0.9977 - val_loss: 27.5476 - val_accuracy: 0.9825\n",
      "Epoch 85/1024\n",
      "19/19 [==============================] - 13s 705ms/step - loss: 0.0352 - accuracy: 0.9979 - val_loss: 27.6068 - val_accuracy: 0.9824\n",
      "Epoch 86/1024\n",
      "19/19 [==============================] - 13s 705ms/step - loss: 0.0347 - accuracy: 0.9978 - val_loss: 27.5548 - val_accuracy: 0.9815\n",
      "Epoch 87/1024\n",
      "19/19 [==============================] - 13s 705ms/step - loss: 0.0328 - accuracy: 0.9979 - val_loss: 27.5948 - val_accuracy: 0.9833\n",
      "Epoch 88/1024\n",
      "19/19 [==============================] - 13s 705ms/step - loss: 0.0341 - accuracy: 0.9980 - val_loss: 27.4714 - val_accuracy: 0.9840\n",
      "Epoch 89/1024\n",
      "19/19 [==============================] - 13s 706ms/step - loss: 0.0358 - accuracy: 0.9979 - val_loss: 27.5616 - val_accuracy: 0.9843\n",
      "Epoch 90/1024\n",
      "19/19 [==============================] - 13s 706ms/step - loss: 0.0317 - accuracy: 0.9981 - val_loss: 27.6076 - val_accuracy: 0.9849\n",
      "Epoch 91/1024\n",
      "19/19 [==============================] - 13s 706ms/step - loss: 0.0338 - accuracy: 0.9978 - val_loss: 27.5169 - val_accuracy: 0.9834\n",
      "Epoch 92/1024\n",
      "19/19 [==============================] - 13s 706ms/step - loss: 0.0338 - accuracy: 0.9980 - val_loss: 27.4360 - val_accuracy: 0.9821\n",
      "Epoch 93/1024\n",
      "19/19 [==============================] - 13s 707ms/step - loss: 0.0320 - accuracy: 0.9981 - val_loss: 27.5832 - val_accuracy: 0.9829\n",
      "Epoch 94/1024\n",
      "19/19 [==============================] - 13s 706ms/step - loss: 0.0307 - accuracy: 0.9980 - val_loss: 27.3380 - val_accuracy: 0.9819\n",
      "Epoch 95/1024\n",
      "19/19 [==============================] - 13s 707ms/step - loss: 0.0321 - accuracy: 0.9980 - val_loss: 27.4764 - val_accuracy: 0.9819\n",
      "Epoch 96/1024\n",
      "19/19 [==============================] - 13s 706ms/step - loss: 0.0311 - accuracy: 0.9982 - val_loss: 27.4346 - val_accuracy: 0.9842\n",
      "Epoch 97/1024\n",
      "19/19 [==============================] - 13s 707ms/step - loss: 0.0338 - accuracy: 0.9978 - val_loss: 27.5420 - val_accuracy: 0.9831\n",
      "Epoch 98/1024\n",
      "19/19 [==============================] - 13s 707ms/step - loss: 0.0295 - accuracy: 0.9983 - val_loss: 27.3199 - val_accuracy: 0.9834\n",
      "Epoch 99/1024\n",
      "19/19 [==============================] - 13s 706ms/step - loss: 0.0276 - accuracy: 0.9984 - val_loss: 27.3741 - val_accuracy: 0.9826\n",
      "Epoch 100/1024\n",
      "19/19 [==============================] - 13s 707ms/step - loss: 0.0305 - accuracy: 0.9981 - val_loss: 27.4285 - val_accuracy: 0.9833\n",
      "Epoch 101/1024\n",
      "19/19 [==============================] - 14s 717ms/step - loss: 0.0280 - accuracy: 0.9984 - val_loss: 27.4936 - val_accuracy: 0.9801\n",
      "Epoch 102/1024\n",
      "19/19 [==============================] - 14s 716ms/step - loss: 0.0326 - accuracy: 0.9980 - val_loss: 27.4373 - val_accuracy: 0.9814\n",
      "Epoch 103/1024\n",
      "19/19 [==============================] - 13s 705ms/step - loss: 0.0273 - accuracy: 0.9983 - val_loss: 27.2578 - val_accuracy: 0.9832\n",
      "Epoch 104/1024\n",
      "19/19 [==============================] - 13s 707ms/step - loss: 0.0255 - accuracy: 0.9985 - val_loss: 27.4307 - val_accuracy: 0.9818\n",
      "Epoch 105/1024\n",
      "19/19 [==============================] - 13s 707ms/step - loss: 0.0264 - accuracy: 0.9984 - val_loss: 27.3990 - val_accuracy: 0.9828\n",
      "Epoch 106/1024\n",
      "19/19 [==============================] - 13s 705ms/step - loss: 0.0261 - accuracy: 0.9983 - val_loss: 27.2531 - val_accuracy: 0.9829\n",
      "Epoch 107/1024\n",
      "19/19 [==============================] - 13s 705ms/step - loss: 0.0259 - accuracy: 0.9984 - val_loss: 27.3074 - val_accuracy: 0.9840\n",
      "Epoch 108/1024\n",
      "19/19 [==============================] - 13s 705ms/step - loss: 0.0256 - accuracy: 0.9985 - val_loss: 27.3043 - val_accuracy: 0.9834\n",
      "Epoch 109/1024\n",
      "19/19 [==============================] - 13s 706ms/step - loss: 0.0257 - accuracy: 0.9984 - val_loss: 27.3815 - val_accuracy: 0.9843\n",
      "Epoch 110/1024\n",
      "19/19 [==============================] - 13s 705ms/step - loss: 0.0240 - accuracy: 0.9985 - val_loss: 27.4498 - val_accuracy: 0.9834\n",
      "Epoch 111/1024\n",
      "19/19 [==============================] - 13s 705ms/step - loss: 0.0234 - accuracy: 0.9986 - val_loss: 27.2796 - val_accuracy: 0.9827\n",
      "Epoch 112/1024\n",
      "19/19 [==============================] - 13s 705ms/step - loss: 0.0219 - accuracy: 0.9986 - val_loss: 27.2985 - val_accuracy: 0.9831\n",
      "Epoch 113/1024\n",
      "19/19 [==============================] - 13s 705ms/step - loss: 0.0223 - accuracy: 0.9985 - val_loss: 27.2515 - val_accuracy: 0.9838\n",
      "Epoch 114/1024\n",
      "19/19 [==============================] - 13s 705ms/step - loss: 0.0247 - accuracy: 0.9984 - val_loss: 27.4080 - val_accuracy: 0.9832\n",
      "Epoch 115/1024\n",
      "19/19 [==============================] - 13s 706ms/step - loss: 0.0213 - accuracy: 0.9986 - val_loss: 27.4030 - val_accuracy: 0.9830\n",
      "Epoch 116/1024\n",
      "19/19 [==============================] - 13s 706ms/step - loss: 0.0224 - accuracy: 0.9986 - val_loss: 27.2270 - val_accuracy: 0.9831\n",
      "Epoch 117/1024\n",
      "19/19 [==============================] - 13s 706ms/step - loss: 0.0223 - accuracy: 0.9985 - val_loss: 27.3155 - val_accuracy: 0.9835\n",
      "Epoch 118/1024\n",
      "19/19 [==============================] - 13s 706ms/step - loss: 0.0227 - accuracy: 0.9984 - val_loss: 27.2384 - val_accuracy: 0.9809\n",
      "Epoch 119/1024\n",
      "19/19 [==============================] - 13s 706ms/step - loss: 0.0211 - accuracy: 0.9986 - val_loss: 27.2217 - val_accuracy: 0.9829\n",
      "Epoch 120/1024\n",
      "19/19 [==============================] - 13s 706ms/step - loss: 0.0220 - accuracy: 0.9985 - val_loss: 27.4117 - val_accuracy: 0.9820\n",
      "Epoch 121/1024\n",
      "19/19 [==============================] - 14s 714ms/step - loss: 0.0230 - accuracy: 0.9986 - val_loss: 27.2392 - val_accuracy: 0.9810\n",
      "Epoch 122/1024\n",
      "19/19 [==============================] - 14s 714ms/step - loss: 0.0219 - accuracy: 0.9985 - val_loss: 27.3148 - val_accuracy: 0.9822\n",
      "Epoch 123/1024\n",
      "19/19 [==============================] - 13s 705ms/step - loss: 0.0210 - accuracy: 0.9987 - val_loss: 27.2485 - val_accuracy: 0.9821\n",
      "Epoch 124/1024\n",
      "19/19 [==============================] - 13s 708ms/step - loss: 0.0207 - accuracy: 0.9988 - val_loss: 27.3136 - val_accuracy: 0.9818\n",
      "Epoch 125/1024\n",
      "19/19 [==============================] - 13s 707ms/step - loss: 0.0206 - accuracy: 0.9986 - val_loss: 27.2107 - val_accuracy: 0.9826\n",
      "Epoch 126/1024\n",
      "19/19 [==============================] - 13s 705ms/step - loss: 0.0209 - accuracy: 0.9986 - val_loss: 27.3140 - val_accuracy: 0.9821\n",
      "Epoch 127/1024\n",
      "19/19 [==============================] - 13s 706ms/step - loss: 0.0192 - accuracy: 0.9988 - val_loss: 27.1734 - val_accuracy: 0.9817\n",
      "Epoch 128/1024\n",
      "19/19 [==============================] - 13s 706ms/step - loss: 0.0200 - accuracy: 0.9986 - val_loss: 27.1684 - val_accuracy: 0.9838\n",
      "Epoch 129/1024\n",
      "19/19 [==============================] - 13s 707ms/step - loss: 0.0216 - accuracy: 0.9985 - val_loss: 27.0805 - val_accuracy: 0.9830\n",
      "Epoch 130/1024\n",
      "19/19 [==============================] - 13s 705ms/step - loss: 0.0251 - accuracy: 0.9982 - val_loss: 27.2372 - val_accuracy: 0.9840\n",
      "Epoch 131/1024\n",
      "19/19 [==============================] - 13s 705ms/step - loss: 0.0202 - accuracy: 0.9987 - val_loss: 27.1822 - val_accuracy: 0.9818\n",
      "Epoch 132/1024\n",
      "19/19 [==============================] - 13s 704ms/step - loss: 0.0203 - accuracy: 0.9987 - val_loss: 27.1109 - val_accuracy: 0.9814\n",
      "Epoch 133/1024\n",
      "19/19 [==============================] - 13s 705ms/step - loss: 0.0207 - accuracy: 0.9986 - val_loss: 27.0109 - val_accuracy: 0.9826\n",
      "Epoch 134/1024\n",
      "19/19 [==============================] - 13s 708ms/step - loss: 0.0207 - accuracy: 0.9986 - val_loss: 27.2011 - val_accuracy: 0.9816\n",
      "Epoch 135/1024\n",
      "19/19 [==============================] - 13s 704ms/step - loss: 0.0188 - accuracy: 0.9988 - val_loss: 27.0114 - val_accuracy: 0.9815\n",
      "Epoch 136/1024\n",
      "19/19 [==============================] - 13s 706ms/step - loss: 0.0201 - accuracy: 0.9987 - val_loss: 27.1272 - val_accuracy: 0.9816\n",
      "Epoch 137/1024\n",
      "19/19 [==============================] - 13s 705ms/step - loss: 0.0197 - accuracy: 0.9986 - val_loss: 27.0774 - val_accuracy: 0.9811\n",
      "Epoch 138/1024\n",
      "19/19 [==============================] - 13s 706ms/step - loss: 0.0179 - accuracy: 0.9989 - val_loss: 27.1129 - val_accuracy: 0.9820\n",
      "Epoch 139/1024\n",
      "19/19 [==============================] - 13s 705ms/step - loss: 0.0170 - accuracy: 0.9989 - val_loss: 27.0034 - val_accuracy: 0.9817\n",
      "Epoch 140/1024\n",
      "19/19 [==============================] - 13s 707ms/step - loss: 0.0186 - accuracy: 0.9986 - val_loss: 27.0999 - val_accuracy: 0.9809\n",
      "Epoch 141/1024\n",
      "19/19 [==============================] - 14s 717ms/step - loss: 0.0178 - accuracy: 0.9988 - val_loss: 27.0658 - val_accuracy: 0.9817\n",
      "Epoch 142/1024\n",
      "19/19 [==============================] - 14s 716ms/step - loss: 0.0199 - accuracy: 0.9987 - val_loss: 27.0314 - val_accuracy: 0.9802\n",
      "Epoch 143/1024\n",
      "19/19 [==============================] - 13s 706ms/step - loss: 0.0218 - accuracy: 0.9985 - val_loss: 27.0833 - val_accuracy: 0.9793\n",
      "Epoch 144/1024\n",
      "19/19 [==============================] - 13s 707ms/step - loss: 0.0241 - accuracy: 0.9983 - val_loss: 27.0166 - val_accuracy: 0.9807\n",
      "Epoch 145/1024\n",
      "19/19 [==============================] - 13s 706ms/step - loss: 0.0240 - accuracy: 0.9982 - val_loss: 27.0994 - val_accuracy: 0.9820\n",
      "Epoch 146/1024\n",
      "19/19 [==============================] - 13s 707ms/step - loss: 0.0195 - accuracy: 0.9986 - val_loss: 27.0724 - val_accuracy: 0.9828\n",
      "Epoch 147/1024\n",
      "19/19 [==============================] - 13s 706ms/step - loss: 0.0182 - accuracy: 0.9988 - val_loss: 27.0774 - val_accuracy: 0.9831\n",
      "Epoch 148/1024\n",
      "19/19 [==============================] - 13s 707ms/step - loss: 0.0184 - accuracy: 0.9987 - val_loss: 26.9928 - val_accuracy: 0.9830\n",
      "Epoch 149/1024\n",
      "19/19 [==============================] - 13s 708ms/step - loss: 0.0176 - accuracy: 0.9987 - val_loss: 26.9883 - val_accuracy: 0.9827\n",
      "Epoch 150/1024\n",
      "19/19 [==============================] - 13s 706ms/step - loss: 0.0183 - accuracy: 0.9987 - val_loss: 26.9825 - val_accuracy: 0.9823\n",
      "Epoch 151/1024\n",
      "19/19 [==============================] - 14s 723ms/step - loss: 0.0170 - accuracy: 0.9987 - val_loss: 26.9841 - val_accuracy: 0.9835\n",
      "Epoch 152/1024\n",
      "19/19 [==============================] - 13s 708ms/step - loss: 0.0177 - accuracy: 0.9988 - val_loss: 26.9493 - val_accuracy: 0.9829\n",
      "Epoch 153/1024\n",
      "19/19 [==============================] - 13s 709ms/step - loss: 0.0162 - accuracy: 0.9988 - val_loss: 27.0109 - val_accuracy: 0.9806\n",
      "Epoch 154/1024\n",
      "19/19 [==============================] - 13s 708ms/step - loss: 0.0153 - accuracy: 0.9991 - val_loss: 26.7887 - val_accuracy: 0.9836\n",
      "Epoch 155/1024\n",
      "19/19 [==============================] - 13s 707ms/step - loss: 0.0162 - accuracy: 0.9989 - val_loss: 27.0242 - val_accuracy: 0.9782\n",
      "Epoch 156/1024\n",
      "19/19 [==============================] - 13s 707ms/step - loss: 0.0164 - accuracy: 0.9987 - val_loss: 26.9477 - val_accuracy: 0.9785\n",
      "Epoch 157/1024\n",
      "19/19 [==============================] - 13s 707ms/step - loss: 0.0150 - accuracy: 0.9989 - val_loss: 26.8901 - val_accuracy: 0.9773\n",
      "Epoch 158/1024\n",
      "19/19 [==============================] - 13s 707ms/step - loss: 0.0165 - accuracy: 0.9988 - val_loss: 26.9528 - val_accuracy: 0.9784\n",
      "Epoch 159/1024\n",
      "19/19 [==============================] - 13s 708ms/step - loss: 0.0167 - accuracy: 0.9988 - val_loss: 27.0085 - val_accuracy: 0.9778\n",
      "Epoch 160/1024\n",
      "19/19 [==============================] - 13s 709ms/step - loss: 0.0167 - accuracy: 0.9987 - val_loss: 27.0788 - val_accuracy: 0.9783\n",
      "Epoch 161/1024\n",
      "19/19 [==============================] - 14s 718ms/step - loss: 0.0157 - accuracy: 0.9988 - val_loss: 26.7861 - val_accuracy: 0.9793\n",
      "Epoch 162/1024\n",
      "19/19 [==============================] - 14s 715ms/step - loss: 0.0157 - accuracy: 0.9988 - val_loss: 26.8608 - val_accuracy: 0.9786\n",
      "Epoch 163/1024\n",
      "19/19 [==============================] - 13s 708ms/step - loss: 0.0159 - accuracy: 0.9988 - val_loss: 26.9232 - val_accuracy: 0.9790\n",
      "Epoch 164/1024\n",
      "19/19 [==============================] - 13s 708ms/step - loss: 0.0153 - accuracy: 0.9988 - val_loss: 26.8912 - val_accuracy: 0.9791\n",
      "Epoch 165/1024\n",
      "19/19 [==============================] - 13s 707ms/step - loss: 0.0151 - accuracy: 0.9988 - val_loss: 26.8556 - val_accuracy: 0.9795\n",
      "Epoch 166/1024\n",
      "19/19 [==============================] - 13s 709ms/step - loss: 0.0156 - accuracy: 0.9989 - val_loss: 26.8855 - val_accuracy: 0.9811\n",
      "Epoch 167/1024\n"
     ]
    },
    {
     "name": "stdout",
     "output_type": "stream",
     "text": [
      "19/19 [==============================] - 13s 708ms/step - loss: 0.0156 - accuracy: 0.9989 - val_loss: 26.8411 - val_accuracy: 0.9814\n",
      "Epoch 168/1024\n",
      "19/19 [==============================] - 13s 708ms/step - loss: 0.0159 - accuracy: 0.9988 - val_loss: 26.7619 - val_accuracy: 0.9809\n",
      "Epoch 169/1024\n",
      "19/19 [==============================] - 13s 707ms/step - loss: 0.0165 - accuracy: 0.9989 - val_loss: 26.7501 - val_accuracy: 0.9791\n",
      "Epoch 170/1024\n",
      "19/19 [==============================] - 13s 707ms/step - loss: 0.0146 - accuracy: 0.9989 - val_loss: 26.7182 - val_accuracy: 0.9797\n",
      "Epoch 171/1024\n",
      "19/19 [==============================] - 13s 706ms/step - loss: 0.0162 - accuracy: 0.9987 - val_loss: 26.8211 - val_accuracy: 0.9807\n",
      "Epoch 172/1024\n",
      "19/19 [==============================] - 14s 725ms/step - loss: 0.0150 - accuracy: 0.9989 - val_loss: 26.7671 - val_accuracy: 0.9813\n",
      "Epoch 173/1024\n",
      "19/19 [==============================] - 13s 707ms/step - loss: 0.0146 - accuracy: 0.9989 - val_loss: 26.8379 - val_accuracy: 0.9780\n",
      "Epoch 174/1024\n",
      "19/19 [==============================] - 13s 707ms/step - loss: 0.0140 - accuracy: 0.9989 - val_loss: 26.8717 - val_accuracy: 0.9787\n",
      "Epoch 175/1024\n",
      "19/19 [==============================] - 13s 706ms/step - loss: 0.0162 - accuracy: 0.9987 - val_loss: 26.6141 - val_accuracy: 0.9797\n",
      "Epoch 176/1024\n",
      "19/19 [==============================] - 13s 707ms/step - loss: 0.0148 - accuracy: 0.9988 - val_loss: 26.7504 - val_accuracy: 0.9789\n",
      "Epoch 177/1024\n",
      "19/19 [==============================] - 13s 707ms/step - loss: 0.0134 - accuracy: 0.9989 - val_loss: 26.8236 - val_accuracy: 0.9764\n",
      "Epoch 178/1024\n",
      "19/19 [==============================] - 13s 706ms/step - loss: 0.0159 - accuracy: 0.9988 - val_loss: 26.7089 - val_accuracy: 0.9805\n",
      "Epoch 179/1024\n",
      "19/19 [==============================] - 13s 706ms/step - loss: 0.0150 - accuracy: 0.9988 - val_loss: 26.8060 - val_accuracy: 0.9744\n",
      "Epoch 180/1024\n",
      "19/19 [==============================] - 13s 709ms/step - loss: 0.0144 - accuracy: 0.9988 - val_loss: 26.8289 - val_accuracy: 0.9787\n",
      "Epoch 181/1024\n",
      "19/19 [==============================] - 14s 716ms/step - loss: 0.0158 - accuracy: 0.9987 - val_loss: 26.7731 - val_accuracy: 0.9786\n",
      "Epoch 182/1024\n",
      "19/19 [==============================] - 14s 717ms/step - loss: 0.0142 - accuracy: 0.9990 - val_loss: 26.6405 - val_accuracy: 0.9785\n",
      "Epoch 183/1024\n",
      "19/19 [==============================] - 13s 708ms/step - loss: 0.0138 - accuracy: 0.9989 - val_loss: 26.5900 - val_accuracy: 0.9800\n",
      "Epoch 184/1024\n",
      "19/19 [==============================] - 13s 708ms/step - loss: 0.0134 - accuracy: 0.9990 - val_loss: 26.5569 - val_accuracy: 0.9795\n",
      "Epoch 185/1024\n",
      "19/19 [==============================] - 13s 708ms/step - loss: 0.0132 - accuracy: 0.9990 - val_loss: 26.7546 - val_accuracy: 0.9784\n",
      "Epoch 186/1024\n",
      "19/19 [==============================] - 13s 707ms/step - loss: 0.0146 - accuracy: 0.9987 - val_loss: 26.7503 - val_accuracy: 0.9802\n",
      "Epoch 187/1024\n",
      "19/19 [==============================] - 13s 707ms/step - loss: 0.0135 - accuracy: 0.9989 - val_loss: 26.7846 - val_accuracy: 0.9797\n",
      "Epoch 188/1024\n",
      "19/19 [==============================] - 13s 709ms/step - loss: 0.0133 - accuracy: 0.9990 - val_loss: 26.5826 - val_accuracy: 0.9793\n",
      "Epoch 189/1024\n",
      "19/19 [==============================] - 13s 706ms/step - loss: 0.0153 - accuracy: 0.9987 - val_loss: 26.6564 - val_accuracy: 0.9797\n",
      "Epoch 190/1024\n",
      "19/19 [==============================] - 13s 707ms/step - loss: 0.0134 - accuracy: 0.9989 - val_loss: 26.6015 - val_accuracy: 0.9792\n",
      "Epoch 191/1024\n",
      "19/19 [==============================] - 13s 707ms/step - loss: 0.0142 - accuracy: 0.9988 - val_loss: 26.6820 - val_accuracy: 0.9788\n",
      "Epoch 192/1024\n",
      "19/19 [==============================] - 13s 707ms/step - loss: 0.0134 - accuracy: 0.9990 - val_loss: 26.6170 - val_accuracy: 0.9781\n",
      "Epoch 193/1024\n",
      "19/19 [==============================] - 13s 707ms/step - loss: 0.0141 - accuracy: 0.9988 - val_loss: 26.5823 - val_accuracy: 0.9792\n",
      "Epoch 194/1024\n",
      "19/19 [==============================] - 14s 722ms/step - loss: 0.0122 - accuracy: 0.9990 - val_loss: 26.6060 - val_accuracy: 0.9792\n",
      "Epoch 195/1024\n",
      "19/19 [==============================] - 13s 708ms/step - loss: 0.0129 - accuracy: 0.9989 - val_loss: 26.5553 - val_accuracy: 0.9779\n",
      "Epoch 196/1024\n",
      "19/19 [==============================] - 13s 706ms/step - loss: 0.0128 - accuracy: 0.9989 - val_loss: 26.5562 - val_accuracy: 0.9784\n",
      "Epoch 197/1024\n",
      "19/19 [==============================] - 13s 708ms/step - loss: 0.0140 - accuracy: 0.9988 - val_loss: 26.5653 - val_accuracy: 0.9774\n",
      "Epoch 198/1024\n",
      "19/19 [==============================] - 13s 707ms/step - loss: 0.0144 - accuracy: 0.9989 - val_loss: 26.5937 - val_accuracy: 0.9797\n",
      "Epoch 199/1024\n",
      "19/19 [==============================] - 13s 706ms/step - loss: 0.0123 - accuracy: 0.9990 - val_loss: 26.4781 - val_accuracy: 0.9746\n",
      "Epoch 200/1024\n",
      "19/19 [==============================] - 13s 705ms/step - loss: 0.0135 - accuracy: 0.9989 - val_loss: 26.6258 - val_accuracy: 0.9785\n",
      "Epoch 201/1024\n",
      "19/19 [==============================] - 14s 715ms/step - loss: 0.0135 - accuracy: 0.9989 - val_loss: 26.6776 - val_accuracy: 0.9775\n",
      "Epoch 202/1024\n",
      "19/19 [==============================] - 14s 715ms/step - loss: 0.0124 - accuracy: 0.9989 - val_loss: 26.7096 - val_accuracy: 0.9787\n",
      "Epoch 203/1024\n",
      "19/19 [==============================] - 13s 706ms/step - loss: 0.0135 - accuracy: 0.9990 - val_loss: 26.6443 - val_accuracy: 0.9772\n",
      "Epoch 204/1024\n",
      "19/19 [==============================] - 13s 706ms/step - loss: 0.0123 - accuracy: 0.9990 - val_loss: 26.4623 - val_accuracy: 0.9809\n",
      "Epoch 205/1024\n",
      "19/19 [==============================] - 13s 707ms/step - loss: 0.0131 - accuracy: 0.9989 - val_loss: 26.5689 - val_accuracy: 0.9823\n",
      "Epoch 206/1024\n",
      "19/19 [==============================] - 13s 707ms/step - loss: 0.0123 - accuracy: 0.9989 - val_loss: 26.4891 - val_accuracy: 0.9799\n",
      "Epoch 207/1024\n",
      "19/19 [==============================] - 13s 705ms/step - loss: 0.0131 - accuracy: 0.9989 - val_loss: 26.5901 - val_accuracy: 0.9817\n",
      "Epoch 208/1024\n",
      "19/19 [==============================] - 13s 707ms/step - loss: 0.0134 - accuracy: 0.9989 - val_loss: 26.5546 - val_accuracy: 0.9785\n",
      "Epoch 209/1024\n",
      "19/19 [==============================] - 13s 706ms/step - loss: 0.0136 - accuracy: 0.9988 - val_loss: 26.5185 - val_accuracy: 0.9809\n",
      "Epoch 210/1024\n",
      "19/19 [==============================] - 13s 706ms/step - loss: 0.0139 - accuracy: 0.9988 - val_loss: 26.5296 - val_accuracy: 0.9802\n",
      "Epoch 211/1024\n",
      "19/19 [==============================] - 13s 706ms/step - loss: 0.0122 - accuracy: 0.9989 - val_loss: 26.4763 - val_accuracy: 0.9806\n",
      "Epoch 212/1024\n",
      "19/19 [==============================] - 13s 705ms/step - loss: 0.0111 - accuracy: 0.9992 - val_loss: 26.4609 - val_accuracy: 0.9773\n",
      "Epoch 213/1024\n",
      "19/19 [==============================] - 13s 706ms/step - loss: 0.0117 - accuracy: 0.9991 - val_loss: 26.5306 - val_accuracy: 0.9783\n",
      "Epoch 214/1024\n",
      "19/19 [==============================] - 13s 706ms/step - loss: 0.0113 - accuracy: 0.9991 - val_loss: 26.4871 - val_accuracy: 0.9766\n",
      "Epoch 215/1024\n",
      "19/19 [==============================] - 13s 707ms/step - loss: 0.0123 - accuracy: 0.9989 - val_loss: 26.4290 - val_accuracy: 0.9769\n",
      "Epoch 216/1024\n",
      "19/19 [==============================] - 13s 706ms/step - loss: 0.0123 - accuracy: 0.9990 - val_loss: 26.4162 - val_accuracy: 0.9764\n",
      "Epoch 217/1024\n",
      "19/19 [==============================] - 13s 705ms/step - loss: 0.0127 - accuracy: 0.9990 - val_loss: 26.4279 - val_accuracy: 0.9760\n",
      "Epoch 218/1024\n",
      "19/19 [==============================] - 13s 707ms/step - loss: 0.0121 - accuracy: 0.9990 - val_loss: 26.3766 - val_accuracy: 0.9786\n",
      "Epoch 219/1024\n",
      "19/19 [==============================] - 13s 707ms/step - loss: 0.0140 - accuracy: 0.9987 - val_loss: 26.4537 - val_accuracy: 0.9772\n",
      "Epoch 220/1024\n",
      "19/19 [==============================] - 13s 706ms/step - loss: 0.0145 - accuracy: 0.9988 - val_loss: 26.3450 - val_accuracy: 0.9790\n",
      "Epoch 221/1024\n",
      "19/19 [==============================] - 14s 717ms/step - loss: 0.0139 - accuracy: 0.9987 - val_loss: 26.4876 - val_accuracy: 0.9775\n",
      "Epoch 222/1024\n",
      "19/19 [==============================] - 14s 716ms/step - loss: 0.0133 - accuracy: 0.9988 - val_loss: 26.4453 - val_accuracy: 0.9799\n",
      "Epoch 223/1024\n",
      "19/19 [==============================] - 13s 706ms/step - loss: 0.0126 - accuracy: 0.9989 - val_loss: 26.2347 - val_accuracy: 0.9788\n",
      "Epoch 224/1024\n",
      "19/19 [==============================] - 13s 707ms/step - loss: 0.0133 - accuracy: 0.9988 - val_loss: 26.4322 - val_accuracy: 0.9795\n",
      "Epoch 225/1024\n",
      "19/19 [==============================] - 13s 707ms/step - loss: 0.0121 - accuracy: 0.9990 - val_loss: 26.3981 - val_accuracy: 0.9795\n",
      "Epoch 226/1024\n",
      "19/19 [==============================] - 13s 706ms/step - loss: 0.0107 - accuracy: 0.9990 - val_loss: 26.2946 - val_accuracy: 0.9820\n",
      "Epoch 227/1024\n",
      "19/19 [==============================] - 13s 706ms/step - loss: 0.0123 - accuracy: 0.9989 - val_loss: 26.2546 - val_accuracy: 0.9805\n",
      "Epoch 228/1024\n",
      "19/19 [==============================] - 13s 707ms/step - loss: 0.0122 - accuracy: 0.9989 - val_loss: 26.3326 - val_accuracy: 0.9808\n",
      "Epoch 229/1024\n",
      "19/19 [==============================] - 13s 707ms/step - loss: 0.0108 - accuracy: 0.9990 - val_loss: 26.4106 - val_accuracy: 0.9792\n",
      "Epoch 230/1024\n",
      "19/19 [==============================] - 13s 707ms/step - loss: 0.0114 - accuracy: 0.9989 - val_loss: 26.4079 - val_accuracy: 0.9787\n",
      "Epoch 231/1024\n",
      "19/19 [==============================] - 13s 706ms/step - loss: 0.0111 - accuracy: 0.9990 - val_loss: 26.3314 - val_accuracy: 0.9802\n",
      "Epoch 232/1024\n",
      "19/19 [==============================] - 13s 704ms/step - loss: 0.0104 - accuracy: 0.9991 - val_loss: 26.3249 - val_accuracy: 0.9777\n",
      "Epoch 233/1024\n",
      "19/19 [==============================] - 13s 707ms/step - loss: 0.0106 - accuracy: 0.9991 - val_loss: 26.3152 - val_accuracy: 0.9761\n",
      "Epoch 234/1024\n",
      "19/19 [==============================] - 13s 705ms/step - loss: 0.0114 - accuracy: 0.9990 - val_loss: 26.1889 - val_accuracy: 0.9755\n",
      "Epoch 235/1024\n",
      "19/19 [==============================] - 13s 706ms/step - loss: 0.0112 - accuracy: 0.9989 - val_loss: 26.2600 - val_accuracy: 0.9759\n",
      "Epoch 236/1024\n",
      "19/19 [==============================] - 13s 706ms/step - loss: 0.0100 - accuracy: 0.9991 - val_loss: 26.3753 - val_accuracy: 0.9764\n",
      "Epoch 237/1024\n",
      "19/19 [==============================] - 13s 708ms/step - loss: 0.0117 - accuracy: 0.9989 - val_loss: 26.1342 - val_accuracy: 0.9770\n",
      "Epoch 238/1024\n",
      "19/19 [==============================] - 13s 706ms/step - loss: 0.0117 - accuracy: 0.9988 - val_loss: 26.3110 - val_accuracy: 0.9772\n",
      "Epoch 239/1024\n",
      "19/19 [==============================] - 13s 705ms/step - loss: 0.0114 - accuracy: 0.9990 - val_loss: 26.2237 - val_accuracy: 0.9786\n",
      "Epoch 240/1024\n",
      "19/19 [==============================] - 13s 706ms/step - loss: 0.0124 - accuracy: 0.9988 - val_loss: 26.1295 - val_accuracy: 0.9763\n",
      "Epoch 241/1024\n",
      "19/19 [==============================] - 14s 716ms/step - loss: 0.0120 - accuracy: 0.9989 - val_loss: 26.1508 - val_accuracy: 0.9781\n",
      "Epoch 242/1024\n",
      "19/19 [==============================] - 14s 716ms/step - loss: 0.0121 - accuracy: 0.9989 - val_loss: 26.2099 - val_accuracy: 0.9760\n",
      "Epoch 243/1024\n",
      "19/19 [==============================] - 13s 706ms/step - loss: 0.0115 - accuracy: 0.9988 - val_loss: 26.3071 - val_accuracy: 0.9791\n",
      "Epoch 244/1024\n",
      "19/19 [==============================] - 13s 706ms/step - loss: 0.0115 - accuracy: 0.9989 - val_loss: 26.1351 - val_accuracy: 0.9798\n",
      "Epoch 245/1024\n",
      "19/19 [==============================] - 13s 707ms/step - loss: 0.0122 - accuracy: 0.9989 - val_loss: 26.2471 - val_accuracy: 0.9791\n",
      "Epoch 246/1024\n",
      "19/19 [==============================] - 13s 705ms/step - loss: 0.0103 - accuracy: 0.9990 - val_loss: 26.2277 - val_accuracy: 0.9784\n",
      "Epoch 247/1024\n",
      "19/19 [==============================] - 13s 707ms/step - loss: 0.0118 - accuracy: 0.9989 - val_loss: 26.1442 - val_accuracy: 0.9781\n",
      "Epoch 248/1024\n",
      "19/19 [==============================] - 13s 706ms/step - loss: 0.0113 - accuracy: 0.9990 - val_loss: 26.1513 - val_accuracy: 0.9792\n",
      "Epoch 249/1024\n",
      "19/19 [==============================] - 13s 706ms/step - loss: 0.0106 - accuracy: 0.9990 - val_loss: 26.1209 - val_accuracy: 0.9790\n",
      "Epoch 250/1024\n",
      "19/19 [==============================] - 13s 706ms/step - loss: 0.0116 - accuracy: 0.9989 - val_loss: 26.1599 - val_accuracy: 0.9776\n",
      "Epoch 251/1024\n",
      "19/19 [==============================] - 13s 705ms/step - loss: 0.0106 - accuracy: 0.9989 - val_loss: 26.1469 - val_accuracy: 0.9766\n",
      "Epoch 252/1024\n",
      "19/19 [==============================] - 13s 707ms/step - loss: 0.0110 - accuracy: 0.9990 - val_loss: 26.1170 - val_accuracy: 0.9755\n",
      "Epoch 253/1024\n",
      "19/19 [==============================] - 13s 706ms/step - loss: 0.0099 - accuracy: 0.9991 - val_loss: 26.1488 - val_accuracy: 0.9755\n",
      "Epoch 254/1024\n",
      "19/19 [==============================] - 13s 708ms/step - loss: 0.0117 - accuracy: 0.9989 - val_loss: 26.1696 - val_accuracy: 0.9759\n",
      "Epoch 255/1024\n",
      "19/19 [==============================] - 13s 707ms/step - loss: 0.0112 - accuracy: 0.9989 - val_loss: 26.1145 - val_accuracy: 0.9739\n",
      "Epoch 256/1024\n",
      "19/19 [==============================] - 13s 706ms/step - loss: 0.0119 - accuracy: 0.9989 - val_loss: 26.0943 - val_accuracy: 0.9760\n",
      "Epoch 257/1024\n",
      "19/19 [==============================] - 13s 706ms/step - loss: 0.0101 - accuracy: 0.9990 - val_loss: 26.0258 - val_accuracy: 0.9765\n",
      "Epoch 258/1024\n",
      "19/19 [==============================] - 13s 706ms/step - loss: 0.0098 - accuracy: 0.9990 - val_loss: 26.0132 - val_accuracy: 0.9777\n",
      "Epoch 259/1024\n",
      "19/19 [==============================] - 13s 706ms/step - loss: 0.0112 - accuracy: 0.9989 - val_loss: 26.0354 - val_accuracy: 0.9771\n",
      "Epoch 260/1024\n",
      "19/19 [==============================] - 13s 706ms/step - loss: 0.0104 - accuracy: 0.9990 - val_loss: 25.9868 - val_accuracy: 0.9784\n",
      "Epoch 261/1024\n",
      "19/19 [==============================] - 14s 715ms/step - loss: 0.0114 - accuracy: 0.9987 - val_loss: 26.0079 - val_accuracy: 0.9784\n",
      "Epoch 262/1024\n",
      "19/19 [==============================] - 14s 715ms/step - loss: 0.0107 - accuracy: 0.9990 - val_loss: 26.0233 - val_accuracy: 0.9785\n",
      "Epoch 263/1024\n",
      "19/19 [==============================] - 13s 706ms/step - loss: 0.0105 - accuracy: 0.9990 - val_loss: 25.9587 - val_accuracy: 0.9790\n",
      "Epoch 264/1024\n",
      "19/19 [==============================] - 13s 706ms/step - loss: 0.0120 - accuracy: 0.9989 - val_loss: 25.9482 - val_accuracy: 0.9785\n",
      "Epoch 265/1024\n",
      "19/19 [==============================] - 13s 706ms/step - loss: 0.0119 - accuracy: 0.9990 - val_loss: 25.8625 - val_accuracy: 0.9753\n",
      "Epoch 266/1024\n",
      "19/19 [==============================] - 13s 706ms/step - loss: 0.0108 - accuracy: 0.9989 - val_loss: 25.9176 - val_accuracy: 0.9773\n",
      "Epoch 267/1024\n",
      "19/19 [==============================] - 13s 707ms/step - loss: 0.0109 - accuracy: 0.9988 - val_loss: 25.8826 - val_accuracy: 0.9764\n",
      "Epoch 268/1024\n",
      "19/19 [==============================] - 13s 706ms/step - loss: 0.0113 - accuracy: 0.9989 - val_loss: 25.9823 - val_accuracy: 0.9771\n",
      "Epoch 269/1024\n",
      "19/19 [==============================] - 13s 705ms/step - loss: 0.0106 - accuracy: 0.9990 - val_loss: 25.9458 - val_accuracy: 0.9765\n",
      "Epoch 270/1024\n",
      "19/19 [==============================] - 13s 707ms/step - loss: 0.0107 - accuracy: 0.9989 - val_loss: 25.9806 - val_accuracy: 0.9752\n",
      "Epoch 271/1024\n",
      "19/19 [==============================] - 13s 706ms/step - loss: 0.0112 - accuracy: 0.9989 - val_loss: 26.0073 - val_accuracy: 0.9722\n",
      "Epoch 272/1024\n",
      "19/19 [==============================] - 13s 706ms/step - loss: 0.0095 - accuracy: 0.9991 - val_loss: 25.8926 - val_accuracy: 0.9724\n",
      "Epoch 273/1024\n",
      "19/19 [==============================] - 13s 706ms/step - loss: 0.0102 - accuracy: 0.9989 - val_loss: 25.9773 - val_accuracy: 0.9723\n",
      "Epoch 274/1024\n",
      "19/19 [==============================] - 13s 705ms/step - loss: 0.0098 - accuracy: 0.9989 - val_loss: 25.8463 - val_accuracy: 0.9745\n",
      "Epoch 275/1024\n",
      "19/19 [==============================] - 13s 707ms/step - loss: 0.0099 - accuracy: 0.9989 - val_loss: 25.8902 - val_accuracy: 0.9719\n",
      "Epoch 276/1024\n",
      "19/19 [==============================] - 13s 706ms/step - loss: 0.0096 - accuracy: 0.9990 - val_loss: 25.8670 - val_accuracy: 0.9727\n",
      "Epoch 277/1024\n"
     ]
    },
    {
     "name": "stdout",
     "output_type": "stream",
     "text": [
      "19/19 [==============================] - 13s 706ms/step - loss: 0.0101 - accuracy: 0.9990 - val_loss: 25.8693 - val_accuracy: 0.9726\n",
      "Epoch 278/1024\n",
      "19/19 [==============================] - 13s 707ms/step - loss: 0.0111 - accuracy: 0.9989 - val_loss: 25.8517 - val_accuracy: 0.9730\n",
      "Epoch 279/1024\n",
      "19/19 [==============================] - 13s 706ms/step - loss: 0.0100 - accuracy: 0.9990 - val_loss: 25.8408 - val_accuracy: 0.9754\n",
      "Epoch 280/1024\n",
      "19/19 [==============================] - 13s 708ms/step - loss: 0.0094 - accuracy: 0.9991 - val_loss: 25.8854 - val_accuracy: 0.9756\n",
      "Epoch 281/1024\n",
      "19/19 [==============================] - 14s 717ms/step - loss: 0.0099 - accuracy: 0.9990 - val_loss: 25.8579 - val_accuracy: 0.9756\n",
      "Epoch 282/1024\n",
      "19/19 [==============================] - 14s 717ms/step - loss: 0.0099 - accuracy: 0.9990 - val_loss: 25.8562 - val_accuracy: 0.9773\n",
      "Epoch 283/1024\n",
      "19/19 [==============================] - 13s 706ms/step - loss: 0.0102 - accuracy: 0.9990 - val_loss: 25.7578 - val_accuracy: 0.9760\n",
      "Epoch 284/1024\n",
      "19/19 [==============================] - 13s 706ms/step - loss: 0.0110 - accuracy: 0.9989 - val_loss: 25.8410 - val_accuracy: 0.9784\n",
      "Epoch 285/1024\n",
      "19/19 [==============================] - 13s 706ms/step - loss: 0.0117 - accuracy: 0.9987 - val_loss: 25.7651 - val_accuracy: 0.9774\n",
      "Epoch 286/1024\n",
      "19/19 [==============================] - 13s 707ms/step - loss: 0.0104 - accuracy: 0.9989 - val_loss: 25.6645 - val_accuracy: 0.9758\n",
      "Epoch 287/1024\n",
      "19/19 [==============================] - 13s 706ms/step - loss: 0.0106 - accuracy: 0.9990 - val_loss: 25.6578 - val_accuracy: 0.9765\n",
      "Epoch 288/1024\n",
      "19/19 [==============================] - 13s 708ms/step - loss: 0.0108 - accuracy: 0.9989 - val_loss: 25.7515 - val_accuracy: 0.9771\n",
      "Epoch 289/1024\n",
      "19/19 [==============================] - 13s 706ms/step - loss: 0.0098 - accuracy: 0.9990 - val_loss: 25.6632 - val_accuracy: 0.9743\n",
      "Epoch 290/1024\n",
      "19/19 [==============================] - 13s 707ms/step - loss: 0.0094 - accuracy: 0.9989 - val_loss: 25.7143 - val_accuracy: 0.9733\n",
      "Epoch 291/1024\n",
      "19/19 [==============================] - 13s 706ms/step - loss: 0.0115 - accuracy: 0.9987 - val_loss: 25.6984 - val_accuracy: 0.9743\n",
      "Epoch 292/1024\n",
      "19/19 [==============================] - 13s 706ms/step - loss: 0.0102 - accuracy: 0.9989 - val_loss: 25.5951 - val_accuracy: 0.9734\n",
      "Epoch 293/1024\n",
      "19/19 [==============================] - 13s 707ms/step - loss: 0.0093 - accuracy: 0.9991 - val_loss: 25.6780 - val_accuracy: 0.9707\n",
      "Epoch 294/1024\n",
      "19/19 [==============================] - 13s 706ms/step - loss: 0.0121 - accuracy: 0.9987 - val_loss: 25.6015 - val_accuracy: 0.9710\n",
      "Epoch 295/1024\n",
      "19/19 [==============================] - 13s 706ms/step - loss: 0.0113 - accuracy: 0.9988 - val_loss: 25.6962 - val_accuracy: 0.9728\n",
      "Epoch 296/1024\n",
      "19/19 [==============================] - 13s 706ms/step - loss: 0.0093 - accuracy: 0.9990 - val_loss: 25.6185 - val_accuracy: 0.9746\n",
      "Epoch 297/1024\n",
      "19/19 [==============================] - 13s 706ms/step - loss: 0.0097 - accuracy: 0.9990 - val_loss: 25.5303 - val_accuracy: 0.9760\n",
      "Epoch 298/1024\n",
      "19/19 [==============================] - 13s 706ms/step - loss: 0.0113 - accuracy: 0.9988 - val_loss: 25.6369 - val_accuracy: 0.9760\n",
      "Epoch 299/1024\n",
      "19/19 [==============================] - 13s 707ms/step - loss: 0.0107 - accuracy: 0.9988 - val_loss: 25.6261 - val_accuracy: 0.9771\n",
      "Epoch 300/1024\n",
      "19/19 [==============================] - 13s 708ms/step - loss: 0.0130 - accuracy: 0.9987 - val_loss: 25.6290 - val_accuracy: 0.9751\n",
      "Epoch 301/1024\n",
      "19/19 [==============================] - 14s 715ms/step - loss: 0.0099 - accuracy: 0.9990 - val_loss: 25.4045 - val_accuracy: 0.9761\n",
      "Epoch 302/1024\n",
      "19/19 [==============================] - 14s 718ms/step - loss: 0.0109 - accuracy: 0.9989 - val_loss: 25.5183 - val_accuracy: 0.9766\n",
      "Epoch 303/1024\n",
      "19/19 [==============================] - 13s 706ms/step - loss: 0.0111 - accuracy: 0.9989 - val_loss: 25.5285 - val_accuracy: 0.9768\n",
      "Epoch 304/1024\n",
      "19/19 [==============================] - 13s 707ms/step - loss: 0.0098 - accuracy: 0.9989 - val_loss: 25.5304 - val_accuracy: 0.9763\n",
      "Epoch 305/1024\n",
      "19/19 [==============================] - 13s 706ms/step - loss: 0.0106 - accuracy: 0.9989 - val_loss: 25.5549 - val_accuracy: 0.9762\n",
      "Epoch 306/1024\n",
      "19/19 [==============================] - 13s 708ms/step - loss: 0.0107 - accuracy: 0.9988 - val_loss: 25.4272 - val_accuracy: 0.9750\n",
      "Epoch 307/1024\n",
      "19/19 [==============================] - 13s 708ms/step - loss: 0.0109 - accuracy: 0.9988 - val_loss: 25.5123 - val_accuracy: 0.9752\n",
      "Epoch 308/1024\n",
      "19/19 [==============================] - 13s 707ms/step - loss: 0.0099 - accuracy: 0.9989 - val_loss: 25.4555 - val_accuracy: 0.9727\n",
      "Epoch 309/1024\n",
      "19/19 [==============================] - 13s 707ms/step - loss: 0.0116 - accuracy: 0.9988 - val_loss: 25.4366 - val_accuracy: 0.9733\n",
      "Epoch 310/1024\n",
      "19/19 [==============================] - 13s 705ms/step - loss: 0.0097 - accuracy: 0.9990 - val_loss: 25.5405 - val_accuracy: 0.9709\n",
      "Epoch 311/1024\n",
      "19/19 [==============================] - 13s 707ms/step - loss: 0.0111 - accuracy: 0.9988 - val_loss: 25.3695 - val_accuracy: 0.9684\n",
      "Epoch 312/1024\n",
      "19/19 [==============================] - 13s 705ms/step - loss: 0.0094 - accuracy: 0.9989 - val_loss: 25.4652 - val_accuracy: 0.9702\n",
      "Epoch 313/1024\n",
      "19/19 [==============================] - 13s 706ms/step - loss: 0.0113 - accuracy: 0.9987 - val_loss: 25.4927 - val_accuracy: 0.9691\n",
      "Epoch 314/1024\n",
      "19/19 [==============================] - 13s 706ms/step - loss: 0.0110 - accuracy: 0.9989 - val_loss: 25.3943 - val_accuracy: 0.9690\n",
      "Epoch 315/1024\n",
      "19/19 [==============================] - 13s 708ms/step - loss: 0.0098 - accuracy: 0.9989 - val_loss: 25.4217 - val_accuracy: 0.9710\n",
      "Epoch 316/1024\n",
      "19/19 [==============================] - 13s 706ms/step - loss: 0.0113 - accuracy: 0.9988 - val_loss: 25.4951 - val_accuracy: 0.9720\n",
      "Epoch 317/1024\n",
      "19/19 [==============================] - 13s 707ms/step - loss: 0.0102 - accuracy: 0.9989 - val_loss: 25.2999 - val_accuracy: 0.9754\n",
      "Epoch 318/1024\n",
      "19/19 [==============================] - 13s 706ms/step - loss: 0.0109 - accuracy: 0.9987 - val_loss: 25.2263 - val_accuracy: 0.9769\n",
      "Epoch 319/1024\n",
      "19/19 [==============================] - 13s 708ms/step - loss: 0.0121 - accuracy: 0.9986 - val_loss: 25.3255 - val_accuracy: 0.9743\n",
      "Epoch 320/1024\n",
      "19/19 [==============================] - 13s 707ms/step - loss: 0.0098 - accuracy: 0.9990 - val_loss: 25.3118 - val_accuracy: 0.9767\n",
      "Epoch 321/1024\n",
      "19/19 [==============================] - 14s 717ms/step - loss: 0.0107 - accuracy: 0.9990 - val_loss: 25.2155 - val_accuracy: 0.9760\n",
      "Epoch 322/1024\n",
      "19/19 [==============================] - 14s 716ms/step - loss: 0.0097 - accuracy: 0.9990 - val_loss: 25.3585 - val_accuracy: 0.9749\n",
      "Epoch 323/1024\n",
      "19/19 [==============================] - 13s 708ms/step - loss: 0.0104 - accuracy: 0.9989 - val_loss: 25.2539 - val_accuracy: 0.9742\n",
      "Epoch 324/1024\n",
      "19/19 [==============================] - 13s 707ms/step - loss: 0.0124 - accuracy: 0.9987 - val_loss: 25.2725 - val_accuracy: 0.9749\n",
      "Epoch 325/1024\n",
      "19/19 [==============================] - 13s 707ms/step - loss: 0.0115 - accuracy: 0.9989 - val_loss: 25.0766 - val_accuracy: 0.9724\n",
      "Epoch 326/1024\n",
      "19/19 [==============================] - 13s 707ms/step - loss: 0.0105 - accuracy: 0.9988 - val_loss: 25.2630 - val_accuracy: 0.9706\n",
      "Epoch 327/1024\n",
      "19/19 [==============================] - 13s 707ms/step - loss: 0.0108 - accuracy: 0.9989 - val_loss: 25.2407 - val_accuracy: 0.9675\n",
      "Epoch 328/1024\n",
      "19/19 [==============================] - 13s 706ms/step - loss: 0.0104 - accuracy: 0.9988 - val_loss: 25.1720 - val_accuracy: 0.9632\n",
      "Epoch 329/1024\n",
      "19/19 [==============================] - 13s 706ms/step - loss: 0.0096 - accuracy: 0.9990 - val_loss: 25.1936 - val_accuracy: 0.9668\n",
      "Epoch 330/1024\n",
      "19/19 [==============================] - 13s 707ms/step - loss: 0.0114 - accuracy: 0.9987 - val_loss: 25.1569 - val_accuracy: 0.9679\n",
      "Epoch 331/1024\n",
      "19/19 [==============================] - 13s 708ms/step - loss: 0.0101 - accuracy: 0.9989 - val_loss: 25.1128 - val_accuracy: 0.9690\n",
      "Epoch 332/1024\n",
      "19/19 [==============================] - 13s 709ms/step - loss: 0.0116 - accuracy: 0.9987 - val_loss: 25.2843 - val_accuracy: 0.9646\n",
      "Epoch 333/1024\n",
      "19/19 [==============================] - 13s 707ms/step - loss: 0.0115 - accuracy: 0.9989 - val_loss: 25.1245 - val_accuracy: 0.9691\n",
      "Epoch 334/1024\n",
      "19/19 [==============================] - 13s 706ms/step - loss: 0.0108 - accuracy: 0.9988 - val_loss: 25.0888 - val_accuracy: 0.9721\n",
      "Epoch 335/1024\n",
      "19/19 [==============================] - 13s 707ms/step - loss: 0.0102 - accuracy: 0.9989 - val_loss: 24.9532 - val_accuracy: 0.9743\n",
      "Epoch 336/1024\n",
      "19/19 [==============================] - 13s 706ms/step - loss: 0.0106 - accuracy: 0.9988 - val_loss: 25.0338 - val_accuracy: 0.9724\n",
      "Epoch 337/1024\n",
      "19/19 [==============================] - 13s 707ms/step - loss: 0.0105 - accuracy: 0.9989 - val_loss: 25.0240 - val_accuracy: 0.9715\n",
      "Epoch 338/1024\n",
      "19/19 [==============================] - 13s 707ms/step - loss: 0.0117 - accuracy: 0.9988 - val_loss: 24.9555 - val_accuracy: 0.9719\n",
      "Epoch 339/1024\n",
      "19/19 [==============================] - 13s 706ms/step - loss: 0.0108 - accuracy: 0.9989 - val_loss: 24.9802 - val_accuracy: 0.9689\n",
      "Epoch 340/1024\n",
      "19/19 [==============================] - 13s 706ms/step - loss: 0.0090 - accuracy: 0.9989 - val_loss: 24.9660 - val_accuracy: 0.9679\n",
      "Epoch 341/1024\n",
      "19/19 [==============================] - 14s 716ms/step - loss: 0.0099 - accuracy: 0.9988 - val_loss: 24.9527 - val_accuracy: 0.9667\n",
      "Epoch 342/1024\n",
      "19/19 [==============================] - 14s 715ms/step - loss: 0.0088 - accuracy: 0.9989 - val_loss: 24.9134 - val_accuracy: 0.9663\n",
      "Epoch 343/1024\n",
      "19/19 [==============================] - 13s 707ms/step - loss: 0.0093 - accuracy: 0.9989 - val_loss: 24.8633 - val_accuracy: 0.9658\n",
      "Epoch 344/1024\n",
      "19/19 [==============================] - 13s 706ms/step - loss: 0.0089 - accuracy: 0.9990 - val_loss: 24.9197 - val_accuracy: 0.9664\n",
      "Epoch 345/1024\n",
      "19/19 [==============================] - 13s 707ms/step - loss: 0.0091 - accuracy: 0.9990 - val_loss: 24.9300 - val_accuracy: 0.9672\n",
      "Epoch 346/1024\n",
      "19/19 [==============================] - 13s 707ms/step - loss: 0.0075 - accuracy: 0.9990 - val_loss: 24.8959 - val_accuracy: 0.9683\n",
      "Epoch 347/1024\n",
      "19/19 [==============================] - 13s 705ms/step - loss: 0.0079 - accuracy: 0.9990 - val_loss: 24.8550 - val_accuracy: 0.9677\n",
      "Epoch 348/1024\n",
      "19/19 [==============================] - 13s 707ms/step - loss: 0.0081 - accuracy: 0.9989 - val_loss: 24.8121 - val_accuracy: 0.9670\n",
      "Epoch 349/1024\n",
      "19/19 [==============================] - 13s 706ms/step - loss: 0.0071 - accuracy: 0.9992 - val_loss: 25.0669 - val_accuracy: 0.9684\n",
      "Epoch 350/1024\n",
      "19/19 [==============================] - 13s 707ms/step - loss: 0.0073 - accuracy: 0.9991 - val_loss: 24.8748 - val_accuracy: 0.9664\n",
      "Epoch 351/1024\n",
      "19/19 [==============================] - 13s 705ms/step - loss: 0.0064 - accuracy: 0.9992 - val_loss: 24.9053 - val_accuracy: 0.9680\n",
      "Epoch 352/1024\n",
      "19/19 [==============================] - 13s 705ms/step - loss: 0.0076 - accuracy: 0.9990 - val_loss: 24.9256 - val_accuracy: 0.9667\n",
      "Epoch 353/1024\n",
      "19/19 [==============================] - 13s 707ms/step - loss: 0.0068 - accuracy: 0.9991 - val_loss: 24.8813 - val_accuracy: 0.9666\n",
      "Epoch 354/1024\n",
      "19/19 [==============================] - 13s 707ms/step - loss: 0.0074 - accuracy: 0.9990 - val_loss: 24.7786 - val_accuracy: 0.9679\n",
      "Epoch 355/1024\n",
      "19/19 [==============================] - 13s 707ms/step - loss: 0.0078 - accuracy: 0.9990 - val_loss: 24.8418 - val_accuracy: 0.9685\n",
      "Epoch 356/1024\n",
      "19/19 [==============================] - 13s 705ms/step - loss: 0.0076 - accuracy: 0.9991 - val_loss: 24.8367 - val_accuracy: 0.9685\n",
      "Epoch 357/1024\n",
      "19/19 [==============================] - 13s 707ms/step - loss: 0.0075 - accuracy: 0.9991 - val_loss: 24.9240 - val_accuracy: 0.9645\n",
      "Epoch 358/1024\n",
      "19/19 [==============================] - 13s 705ms/step - loss: 0.0071 - accuracy: 0.9991 - val_loss: 24.8282 - val_accuracy: 0.9674\n",
      "Epoch 359/1024\n",
      "19/19 [==============================] - 13s 705ms/step - loss: 0.0076 - accuracy: 0.9990 - val_loss: 24.7226 - val_accuracy: 0.9664\n",
      "Epoch 360/1024\n",
      "19/19 [==============================] - 13s 705ms/step - loss: 0.0072 - accuracy: 0.9991 - val_loss: 24.8394 - val_accuracy: 0.9660\n",
      "Epoch 361/1024\n",
      "19/19 [==============================] - 14s 717ms/step - loss: 0.0078 - accuracy: 0.9990 - val_loss: 24.7997 - val_accuracy: 0.9660\n",
      "Epoch 362/1024\n",
      "19/19 [==============================] - 14s 715ms/step - loss: 0.0075 - accuracy: 0.9990 - val_loss: 24.7464 - val_accuracy: 0.9652\n",
      "Epoch 363/1024\n",
      "19/19 [==============================] - 13s 705ms/step - loss: 0.0081 - accuracy: 0.9990 - val_loss: 24.7348 - val_accuracy: 0.9649\n",
      "Epoch 364/1024\n",
      "19/19 [==============================] - 13s 707ms/step - loss: 0.0072 - accuracy: 0.9991 - val_loss: 24.7325 - val_accuracy: 0.9565\n",
      "Epoch 365/1024\n",
      "19/19 [==============================] - 13s 706ms/step - loss: 0.0071 - accuracy: 0.9991 - val_loss: 24.7173 - val_accuracy: 0.9569\n",
      "Epoch 366/1024\n",
      "19/19 [==============================] - 13s 706ms/step - loss: 0.0064 - accuracy: 0.9992 - val_loss: 24.7361 - val_accuracy: 0.9581\n",
      "Epoch 367/1024\n",
      "19/19 [==============================] - 13s 704ms/step - loss: 0.0071 - accuracy: 0.9991 - val_loss: 24.7077 - val_accuracy: 0.9572\n",
      "Epoch 368/1024\n",
      "19/19 [==============================] - 13s 706ms/step - loss: 0.0072 - accuracy: 0.9990 - val_loss: 24.6742 - val_accuracy: 0.9578\n",
      "Epoch 369/1024\n",
      "19/19 [==============================] - 13s 707ms/step - loss: 0.0070 - accuracy: 0.9990 - val_loss: 24.6763 - val_accuracy: 0.9550\n",
      "Epoch 370/1024\n",
      "19/19 [==============================] - 13s 708ms/step - loss: 0.0088 - accuracy: 0.9989 - val_loss: 24.6771 - val_accuracy: 0.9576\n",
      "Epoch 371/1024\n",
      "19/19 [==============================] - 13s 707ms/step - loss: 0.0074 - accuracy: 0.9990 - val_loss: 24.5736 - val_accuracy: 0.9584\n",
      "Epoch 372/1024\n",
      "19/19 [==============================] - 13s 707ms/step - loss: 0.0085 - accuracy: 0.9990 - val_loss: 24.7299 - val_accuracy: 0.9588\n",
      "Epoch 373/1024\n",
      "19/19 [==============================] - 13s 706ms/step - loss: 0.0068 - accuracy: 0.9991 - val_loss: 24.7130 - val_accuracy: 0.9562\n",
      "Epoch 374/1024\n",
      "19/19 [==============================] - 13s 705ms/step - loss: 0.0074 - accuracy: 0.9991 - val_loss: 24.6899 - val_accuracy: 0.9571\n",
      "Epoch 375/1024\n",
      "19/19 [==============================] - 13s 707ms/step - loss: 0.0070 - accuracy: 0.9990 - val_loss: 24.6917 - val_accuracy: 0.9413\n",
      "Epoch 376/1024\n",
      "19/19 [==============================] - 13s 705ms/step - loss: 0.0068 - accuracy: 0.9991 - val_loss: 24.5954 - val_accuracy: 0.9378\n",
      "Epoch 377/1024\n",
      "19/19 [==============================] - 13s 706ms/step - loss: 0.0070 - accuracy: 0.9990 - val_loss: 24.6796 - val_accuracy: 0.9384\n",
      "Epoch 378/1024\n",
      "19/19 [==============================] - 13s 707ms/step - loss: 0.0066 - accuracy: 0.9992 - val_loss: 24.6542 - val_accuracy: 0.9353\n",
      "Epoch 379/1024\n",
      "19/19 [==============================] - 13s 708ms/step - loss: 0.0077 - accuracy: 0.9990 - val_loss: 24.6215 - val_accuracy: 0.9349\n",
      "Epoch 380/1024\n",
      "19/19 [==============================] - 13s 707ms/step - loss: 0.0078 - accuracy: 0.9991 - val_loss: 24.5766 - val_accuracy: 0.9348\n",
      "Epoch 381/1024\n",
      "19/19 [==============================] - 14s 716ms/step - loss: 0.0077 - accuracy: 0.9990 - val_loss: 24.5757 - val_accuracy: 0.9365\n",
      "Epoch 382/1024\n",
      "19/19 [==============================] - 14s 716ms/step - loss: 0.0064 - accuracy: 0.9992 - val_loss: 24.4584 - val_accuracy: 0.9353\n",
      "Epoch 383/1024\n",
      "19/19 [==============================] - 13s 707ms/step - loss: 0.0075 - accuracy: 0.9990 - val_loss: 24.5202 - val_accuracy: 0.9301\n",
      "Epoch 384/1024\n",
      "19/19 [==============================] - 13s 706ms/step - loss: 0.0083 - accuracy: 0.9990 - val_loss: 24.5252 - val_accuracy: 0.9332\n",
      "Epoch 385/1024\n",
      "19/19 [==============================] - 13s 708ms/step - loss: 0.0085 - accuracy: 0.9989 - val_loss: 24.5707 - val_accuracy: 0.9328\n",
      "Epoch 386/1024\n",
      "19/19 [==============================] - 13s 706ms/step - loss: 0.0077 - accuracy: 0.9991 - val_loss: 24.4867 - val_accuracy: 0.9333\n",
      "Epoch 387/1024\n"
     ]
    },
    {
     "name": "stdout",
     "output_type": "stream",
     "text": [
      "19/19 [==============================] - 13s 708ms/step - loss: 0.0071 - accuracy: 0.9990 - val_loss: 24.5070 - val_accuracy: 0.9390\n",
      "Epoch 388/1024\n",
      "19/19 [==============================] - 13s 706ms/step - loss: 0.0065 - accuracy: 0.9991 - val_loss: 24.4395 - val_accuracy: 0.9061\n",
      "Epoch 389/1024\n",
      "19/19 [==============================] - 13s 707ms/step - loss: 0.0076 - accuracy: 0.9989 - val_loss: 24.3891 - val_accuracy: 0.9027\n",
      "Epoch 390/1024\n",
      "19/19 [==============================] - 13s 706ms/step - loss: 0.0078 - accuracy: 0.9989 - val_loss: 24.4187 - val_accuracy: 0.7837\n",
      "Epoch 391/1024\n",
      "19/19 [==============================] - 13s 707ms/step - loss: 0.0074 - accuracy: 0.9990 - val_loss: 24.4537 - val_accuracy: 0.7832\n",
      "Epoch 392/1024\n",
      "19/19 [==============================] - 13s 707ms/step - loss: 0.0075 - accuracy: 0.9991 - val_loss: 24.4704 - val_accuracy: 0.7860\n",
      "Epoch 393/1024\n",
      "19/19 [==============================] - 13s 705ms/step - loss: 0.0084 - accuracy: 0.9989 - val_loss: 24.4406 - val_accuracy: 0.7434\n",
      "Epoch 394/1024\n",
      "19/19 [==============================] - 13s 705ms/step - loss: 0.0066 - accuracy: 0.9991 - val_loss: 24.3749 - val_accuracy: 0.7452\n",
      "Epoch 395/1024\n",
      "19/19 [==============================] - 13s 707ms/step - loss: 0.0075 - accuracy: 0.9990 - val_loss: 24.3294 - val_accuracy: 0.7848\n",
      "Epoch 396/1024\n",
      "19/19 [==============================] - 13s 706ms/step - loss: 0.0066 - accuracy: 0.9991 - val_loss: 24.4326 - val_accuracy: 0.7476\n",
      "Epoch 397/1024\n",
      "19/19 [==============================] - 13s 706ms/step - loss: 0.0071 - accuracy: 0.9992 - val_loss: 24.4660 - val_accuracy: 0.7848\n",
      "Epoch 398/1024\n",
      "19/19 [==============================] - 13s 705ms/step - loss: 0.0068 - accuracy: 0.9991 - val_loss: 24.3430 - val_accuracy: 0.7477\n",
      "Epoch 399/1024\n",
      "19/19 [==============================] - 13s 706ms/step - loss: 0.0066 - accuracy: 0.9991 - val_loss: 24.2771 - val_accuracy: 0.7446\n",
      "Epoch 400/1024\n",
      "19/19 [==============================] - 13s 705ms/step - loss: 0.0069 - accuracy: 0.9991 - val_loss: 24.3104 - val_accuracy: 0.7470\n",
      "Epoch 401/1024\n",
      "19/19 [==============================] - 14s 716ms/step - loss: 0.0062 - accuracy: 0.9992 - val_loss: 24.3085 - val_accuracy: 0.7468\n",
      "Epoch 402/1024\n",
      "19/19 [==============================] - 14s 716ms/step - loss: 0.0065 - accuracy: 0.9991 - val_loss: 24.3184 - val_accuracy: 0.7466\n",
      "Epoch 403/1024\n",
      "19/19 [==============================] - 13s 707ms/step - loss: 0.0065 - accuracy: 0.9991 - val_loss: 24.2393 - val_accuracy: 0.7436\n",
      "Epoch 404/1024\n",
      "19/19 [==============================] - 13s 707ms/step - loss: 0.0067 - accuracy: 0.9991 - val_loss: 24.4324 - val_accuracy: 0.7442\n",
      "Epoch 405/1024\n",
      "19/19 [==============================] - 13s 706ms/step - loss: 0.0061 - accuracy: 0.9993 - val_loss: 24.3359 - val_accuracy: 0.7008\n",
      "Epoch 406/1024\n",
      "19/19 [==============================] - 13s 705ms/step - loss: 0.0074 - accuracy: 0.9990 - val_loss: 24.2122 - val_accuracy: 0.6962\n",
      "Epoch 407/1024\n",
      "19/19 [==============================] - 13s 707ms/step - loss: 0.0073 - accuracy: 0.9990 - val_loss: 24.3296 - val_accuracy: 0.6979\n",
      "Epoch 408/1024\n",
      "19/19 [==============================] - 13s 705ms/step - loss: 0.0076 - accuracy: 0.9991 - val_loss: 24.3299 - val_accuracy: 0.7027\n",
      "Epoch 409/1024\n",
      "19/19 [==============================] - 13s 703ms/step - loss: 0.0073 - accuracy: 0.9991 - val_loss: 24.2763 - val_accuracy: 0.6970\n",
      "Epoch 410/1024\n",
      "19/19 [==============================] - 13s 702ms/step - loss: 0.0065 - accuracy: 0.9992 - val_loss: 24.2182 - val_accuracy: 0.7409\n",
      "Epoch 411/1024\n",
      "19/19 [==============================] - 13s 703ms/step - loss: 0.0063 - accuracy: 0.9992 - val_loss: 24.2422 - val_accuracy: 0.6706\n",
      "Epoch 412/1024\n",
      "19/19 [==============================] - 13s 702ms/step - loss: 0.0076 - accuracy: 0.9990 - val_loss: 24.2815 - val_accuracy: 0.6140\n",
      "Epoch 413/1024\n",
      "19/19 [==============================] - 13s 703ms/step - loss: 0.0070 - accuracy: 0.9991 - val_loss: 24.3105 - val_accuracy: 0.6151\n",
      "Epoch 414/1024\n",
      "19/19 [==============================] - 13s 702ms/step - loss: 0.0067 - accuracy: 0.9992 - val_loss: 24.1729 - val_accuracy: 0.6105\n",
      "Epoch 415/1024\n",
      "19/19 [==============================] - 13s 703ms/step - loss: 0.0072 - accuracy: 0.9991 - val_loss: 24.2293 - val_accuracy: 0.6151\n",
      "Epoch 416/1024\n",
      "19/19 [==============================] - 13s 702ms/step - loss: 0.0071 - accuracy: 0.9990 - val_loss: 24.0893 - val_accuracy: 0.6086\n",
      "Epoch 417/1024\n",
      "19/19 [==============================] - 13s 703ms/step - loss: 0.0077 - accuracy: 0.9991 - val_loss: 24.1697 - val_accuracy: 0.5553\n",
      "Epoch 418/1024\n",
      "19/19 [==============================] - 13s 707ms/step - loss: 0.0072 - accuracy: 0.9990 - val_loss: 24.2157 - val_accuracy: 0.5580\n",
      "Epoch 419/1024\n",
      "19/19 [==============================] - 13s 706ms/step - loss: 0.0077 - accuracy: 0.9989 - val_loss: 24.0168 - val_accuracy: 0.5506\n",
      "Epoch 420/1024\n",
      "19/19 [==============================] - 13s 707ms/step - loss: 0.0091 - accuracy: 0.9988 - val_loss: 24.0095 - val_accuracy: 0.5528\n",
      "Epoch 421/1024\n",
      "19/19 [==============================] - 14s 717ms/step - loss: 0.0083 - accuracy: 0.9990 - val_loss: 24.1372 - val_accuracy: 0.5551\n",
      "Epoch 422/1024\n",
      "19/19 [==============================] - 14s 717ms/step - loss: 0.0079 - accuracy: 0.9989 - val_loss: 23.9906 - val_accuracy: 0.5518\n",
      "Epoch 423/1024\n",
      "19/19 [==============================] - 13s 707ms/step - loss: 0.0072 - accuracy: 0.9990 - val_loss: 24.0252 - val_accuracy: 0.5532\n",
      "Epoch 424/1024\n",
      "19/19 [==============================] - 13s 705ms/step - loss: 0.0074 - accuracy: 0.9991 - val_loss: 23.9906 - val_accuracy: 0.5528\n",
      "Epoch 425/1024\n",
      "19/19 [==============================] - 13s 707ms/step - loss: 0.0059 - accuracy: 0.9991 - val_loss: 24.1181 - val_accuracy: 0.5542\n",
      "Epoch 426/1024\n",
      "19/19 [==============================] - 13s 706ms/step - loss: 0.0066 - accuracy: 0.9990 - val_loss: 24.0157 - val_accuracy: 0.5543\n",
      "Epoch 427/1024\n",
      "19/19 [==============================] - 13s 707ms/step - loss: 0.0067 - accuracy: 0.9991 - val_loss: 24.1219 - val_accuracy: 0.5586\n",
      "Epoch 428/1024\n",
      "19/19 [==============================] - 13s 707ms/step - loss: 0.0066 - accuracy: 0.9990 - val_loss: 23.9961 - val_accuracy: 0.5554\n",
      "Epoch 429/1024\n",
      "19/19 [==============================] - 13s 706ms/step - loss: 0.0060 - accuracy: 0.9991 - val_loss: 24.0049 - val_accuracy: 0.4989\n",
      "Epoch 430/1024\n",
      "19/19 [==============================] - 13s 707ms/step - loss: 0.0072 - accuracy: 0.9990 - val_loss: 24.0085 - val_accuracy: 0.4387\n",
      "Epoch 431/1024\n",
      "19/19 [==============================] - 13s 707ms/step - loss: 0.0069 - accuracy: 0.9991 - val_loss: 23.9469 - val_accuracy: 0.4345\n",
      "Epoch 432/1024\n",
      "19/19 [==============================] - 13s 707ms/step - loss: 0.0063 - accuracy: 0.9992 - val_loss: 23.9655 - val_accuracy: 0.4324\n",
      "Epoch 433/1024\n",
      "19/19 [==============================] - 13s 706ms/step - loss: 0.0069 - accuracy: 0.9991 - val_loss: 23.8845 - val_accuracy: 0.4317\n",
      "Epoch 434/1024\n",
      "19/19 [==============================] - 13s 708ms/step - loss: 0.0067 - accuracy: 0.9991 - val_loss: 23.9817 - val_accuracy: 0.4421\n",
      "Epoch 435/1024\n",
      "19/19 [==============================] - 13s 707ms/step - loss: 0.0073 - accuracy: 0.9990 - val_loss: 23.9341 - val_accuracy: 0.4357\n",
      "Epoch 436/1024\n",
      "19/19 [==============================] - 13s 705ms/step - loss: 0.0070 - accuracy: 0.9990 - val_loss: 23.8306 - val_accuracy: 0.3863\n",
      "Epoch 437/1024\n",
      "19/19 [==============================] - 13s 707ms/step - loss: 0.0067 - accuracy: 0.9990 - val_loss: 23.9114 - val_accuracy: 0.2999\n",
      "Epoch 438/1024\n",
      "19/19 [==============================] - 13s 707ms/step - loss: 0.0061 - accuracy: 0.9991 - val_loss: 23.8922 - val_accuracy: 0.2985\n",
      "Epoch 439/1024\n",
      "19/19 [==============================] - 13s 708ms/step - loss: 0.0061 - accuracy: 0.9992 - val_loss: 23.8537 - val_accuracy: 0.2656\n",
      "Epoch 440/1024\n",
      "19/19 [==============================] - 13s 706ms/step - loss: 0.0057 - accuracy: 0.9992 - val_loss: 23.9312 - val_accuracy: 0.2668\n",
      "Epoch 441/1024\n",
      "19/19 [==============================] - 14s 716ms/step - loss: 0.0063 - accuracy: 0.9990 - val_loss: 23.8706 - val_accuracy: 0.2291\n",
      "Epoch 442/1024\n",
      "19/19 [==============================] - 14s 716ms/step - loss: 0.0078 - accuracy: 0.9989 - val_loss: 23.8464 - val_accuracy: 0.2014\n",
      "Epoch 443/1024\n",
      "19/19 [==============================] - 13s 706ms/step - loss: 0.0071 - accuracy: 0.9989 - val_loss: 23.8806 - val_accuracy: 0.1698\n",
      "Epoch 444/1024\n",
      "19/19 [==============================] - 13s 707ms/step - loss: 0.0071 - accuracy: 0.9990 - val_loss: 23.9491 - val_accuracy: 0.1679\n",
      "Epoch 445/1024\n",
      "19/19 [==============================] - 13s 707ms/step - loss: 0.0061 - accuracy: 0.9991 - val_loss: 23.7562 - val_accuracy: 0.1661\n",
      "Epoch 446/1024\n",
      "19/19 [==============================] - 13s 706ms/step - loss: 0.0064 - accuracy: 0.9991 - val_loss: 23.7561 - val_accuracy: 0.1653\n",
      "Epoch 447/1024\n",
      "19/19 [==============================] - 13s 709ms/step - loss: 0.0068 - accuracy: 0.9990 - val_loss: 23.8246 - val_accuracy: 0.0762\n",
      "Epoch 448/1024\n",
      "19/19 [==============================] - 13s 708ms/step - loss: 0.0073 - accuracy: 0.9989 - val_loss: 23.6566 - val_accuracy: 0.0743\n",
      "Epoch 449/1024\n",
      "19/19 [==============================] - 13s 707ms/step - loss: 0.0063 - accuracy: 0.9991 - val_loss: 23.6672 - val_accuracy: 0.0702\n",
      "Epoch 450/1024\n",
      "19/19 [==============================] - 13s 706ms/step - loss: 0.0062 - accuracy: 0.9991 - val_loss: 23.6823 - val_accuracy: 0.0698\n",
      "Epoch 451/1024\n",
      "19/19 [==============================] - 13s 706ms/step - loss: 0.0059 - accuracy: 0.9991 - val_loss: 23.6281 - val_accuracy: 0.0702\n",
      "Epoch 452/1024\n",
      "19/19 [==============================] - 13s 706ms/step - loss: 0.0062 - accuracy: 0.9991 - val_loss: 23.7421 - val_accuracy: 0.0659\n",
      "Epoch 453/1024\n",
      "19/19 [==============================] - 13s 705ms/step - loss: 0.0078 - accuracy: 0.9988 - val_loss: 23.6727 - val_accuracy: 0.0626\n",
      "Epoch 454/1024\n",
      "19/19 [==============================] - 13s 707ms/step - loss: 0.0070 - accuracy: 0.9991 - val_loss: 23.7271 - val_accuracy: 0.0635\n",
      "Epoch 455/1024\n",
      "19/19 [==============================] - 13s 706ms/step - loss: 0.0071 - accuracy: 0.9990 - val_loss: 23.7533 - val_accuracy: 0.0630\n",
      "Epoch 456/1024\n",
      "19/19 [==============================] - 13s 705ms/step - loss: 0.0055 - accuracy: 0.9992 - val_loss: 23.6449 - val_accuracy: 0.0605\n",
      "Epoch 457/1024\n",
      "19/19 [==============================] - 13s 707ms/step - loss: 0.0067 - accuracy: 0.9990 - val_loss: 23.6790 - val_accuracy: 0.0631\n",
      "Epoch 458/1024\n",
      "19/19 [==============================] - 13s 708ms/step - loss: 0.0061 - accuracy: 0.9990 - val_loss: 23.6125 - val_accuracy: 0.0636\n",
      "Epoch 459/1024\n",
      "19/19 [==============================] - 13s 707ms/step - loss: 0.0067 - accuracy: 0.9990 - val_loss: 23.5524 - val_accuracy: 0.0612\n",
      "Epoch 460/1024\n",
      "19/19 [==============================] - 13s 706ms/step - loss: 0.0061 - accuracy: 0.9991 - val_loss: 23.5169 - val_accuracy: 0.0621\n",
      "Epoch 461/1024\n",
      "19/19 [==============================] - 14s 716ms/step - loss: 0.0055 - accuracy: 0.9993 - val_loss: 23.6135 - val_accuracy: 0.0626\n",
      "Epoch 462/1024\n",
      "19/19 [==============================] - 14s 717ms/step - loss: 0.0063 - accuracy: 0.9991 - val_loss: 23.6743 - val_accuracy: 0.0642\n",
      "Epoch 463/1024\n",
      "19/19 [==============================] - 13s 707ms/step - loss: 0.0055 - accuracy: 0.9991 - val_loss: 23.5969 - val_accuracy: 0.0580\n",
      "Epoch 464/1024\n",
      "19/19 [==============================] - 13s 707ms/step - loss: 0.0059 - accuracy: 0.9992 - val_loss: 23.5518 - val_accuracy: 0.0588\n",
      "Epoch 465/1024\n",
      "19/19 [==============================] - 13s 706ms/step - loss: 0.0061 - accuracy: 0.9990 - val_loss: 23.6114 - val_accuracy: 0.0607\n",
      "Epoch 466/1024\n",
      "19/19 [==============================] - 13s 705ms/step - loss: 0.0062 - accuracy: 0.9992 - val_loss: 23.5303 - val_accuracy: 0.0560\n",
      "Epoch 467/1024\n",
      "19/19 [==============================] - 13s 705ms/step - loss: 0.0060 - accuracy: 0.9992 - val_loss: 23.5454 - val_accuracy: 0.0542\n",
      "Epoch 468/1024\n",
      "19/19 [==============================] - 13s 706ms/step - loss: 0.0065 - accuracy: 0.9991 - val_loss: 23.4838 - val_accuracy: 0.0541\n",
      "Epoch 469/1024\n",
      "19/19 [==============================] - 13s 706ms/step - loss: 0.0070 - accuracy: 0.9991 - val_loss: 23.4650 - val_accuracy: 0.0546\n",
      "Epoch 470/1024\n",
      "19/19 [==============================] - 13s 707ms/step - loss: 0.0069 - accuracy: 0.9990 - val_loss: 23.5170 - val_accuracy: 0.0554\n",
      "Epoch 471/1024\n",
      "19/19 [==============================] - 13s 705ms/step - loss: 0.0058 - accuracy: 0.9992 - val_loss: 23.5126 - val_accuracy: 0.0582\n",
      "Epoch 472/1024\n",
      "19/19 [==============================] - 13s 706ms/step - loss: 0.0072 - accuracy: 0.9990 - val_loss: 23.5695 - val_accuracy: 0.0601\n",
      "Epoch 473/1024\n",
      "19/19 [==============================] - 13s 706ms/step - loss: 0.0063 - accuracy: 0.9991 - val_loss: 23.4219 - val_accuracy: 0.0546\n",
      "Epoch 474/1024\n",
      "19/19 [==============================] - 13s 707ms/step - loss: 0.0069 - accuracy: 0.9990 - val_loss: 23.4772 - val_accuracy: 0.0538\n",
      "Epoch 475/1024\n",
      "19/19 [==============================] - 13s 706ms/step - loss: 0.0057 - accuracy: 0.9992 - val_loss: 23.4895 - val_accuracy: 0.0551\n",
      "Epoch 476/1024\n",
      "19/19 [==============================] - 13s 706ms/step - loss: 0.0058 - accuracy: 0.9991 - val_loss: 23.4009 - val_accuracy: 0.0561\n",
      "Epoch 477/1024\n",
      "19/19 [==============================] - 13s 706ms/step - loss: 0.0057 - accuracy: 0.9992 - val_loss: 23.3660 - val_accuracy: 0.0562\n",
      "Epoch 478/1024\n",
      "19/19 [==============================] - 13s 706ms/step - loss: 0.0058 - accuracy: 0.9992 - val_loss: 23.3885 - val_accuracy: 0.0565\n",
      "Epoch 479/1024\n",
      "19/19 [==============================] - 13s 708ms/step - loss: 0.0063 - accuracy: 0.9990 - val_loss: 23.4043 - val_accuracy: 0.0568\n",
      "Epoch 480/1024\n",
      "19/19 [==============================] - 13s 707ms/step - loss: 0.0068 - accuracy: 0.9991 - val_loss: 23.3339 - val_accuracy: 0.0557\n",
      "Epoch 481/1024\n",
      "19/19 [==============================] - 14s 717ms/step - loss: 0.0072 - accuracy: 0.9990 - val_loss: 23.3261 - val_accuracy: 0.0561\n",
      "Epoch 482/1024\n",
      "19/19 [==============================] - 14s 715ms/step - loss: 0.0068 - accuracy: 0.9990 - val_loss: 23.2886 - val_accuracy: 0.0518\n",
      "Epoch 483/1024\n",
      "19/19 [==============================] - 13s 707ms/step - loss: 0.0068 - accuracy: 0.9990 - val_loss: 23.3111 - val_accuracy: 0.0594\n",
      "Epoch 484/1024\n",
      "19/19 [==============================] - 13s 706ms/step - loss: 0.0070 - accuracy: 0.9990 - val_loss: 23.3143 - val_accuracy: 0.0580\n",
      "Epoch 485/1024\n",
      "19/19 [==============================] - 13s 706ms/step - loss: 0.0067 - accuracy: 0.9989 - val_loss: 23.2122 - val_accuracy: 0.0572\n",
      "Epoch 486/1024\n",
      "19/19 [==============================] - 13s 706ms/step - loss: 0.0064 - accuracy: 0.9990 - val_loss: 23.1887 - val_accuracy: 0.0587\n",
      "Epoch 487/1024\n",
      "19/19 [==============================] - 13s 706ms/step - loss: 0.0064 - accuracy: 0.9991 - val_loss: 23.2119 - val_accuracy: 0.0552\n",
      "Epoch 488/1024\n",
      "19/19 [==============================] - 13s 706ms/step - loss: 0.0059 - accuracy: 0.9991 - val_loss: 23.2697 - val_accuracy: 0.0583\n",
      "Epoch 489/1024\n",
      "19/19 [==============================] - 13s 705ms/step - loss: 0.0057 - accuracy: 0.9991 - val_loss: 23.1584 - val_accuracy: 0.0548\n",
      "Epoch 490/1024\n",
      "19/19 [==============================] - 13s 707ms/step - loss: 0.0061 - accuracy: 0.9992 - val_loss: 23.2072 - val_accuracy: 0.0558\n",
      "Epoch 491/1024\n",
      "19/19 [==============================] - 13s 707ms/step - loss: 0.0067 - accuracy: 0.9991 - val_loss: 23.1880 - val_accuracy: 0.0567\n",
      "Epoch 492/1024\n",
      "19/19 [==============================] - 13s 706ms/step - loss: 0.0071 - accuracy: 0.9990 - val_loss: 23.1259 - val_accuracy: 0.0594\n",
      "Epoch 493/1024\n",
      "19/19 [==============================] - 13s 707ms/step - loss: 0.0073 - accuracy: 0.9989 - val_loss: 23.1475 - val_accuracy: 0.0523\n",
      "Epoch 494/1024\n",
      "19/19 [==============================] - 13s 707ms/step - loss: 0.0057 - accuracy: 0.9992 - val_loss: 23.1600 - val_accuracy: 0.0557\n",
      "Epoch 495/1024\n",
      "19/19 [==============================] - 13s 708ms/step - loss: 0.0072 - accuracy: 0.9988 - val_loss: 23.1623 - val_accuracy: 0.0546\n",
      "Epoch 496/1024\n",
      "19/19 [==============================] - 13s 708ms/step - loss: 0.0061 - accuracy: 0.9991 - val_loss: 23.1029 - val_accuracy: 0.0533\n",
      "Epoch 497/1024\n"
     ]
    },
    {
     "name": "stdout",
     "output_type": "stream",
     "text": [
      "19/19 [==============================] - 13s 705ms/step - loss: 0.0065 - accuracy: 0.9990 - val_loss: 23.1613 - val_accuracy: 0.0531\n",
      "Epoch 498/1024\n",
      "19/19 [==============================] - 13s 707ms/step - loss: 0.0068 - accuracy: 0.9990 - val_loss: 23.0820 - val_accuracy: 0.0521\n",
      "Epoch 499/1024\n",
      "19/19 [==============================] - 13s 707ms/step - loss: 0.0055 - accuracy: 0.9991 - val_loss: 23.0610 - val_accuracy: 0.0511\n",
      "Epoch 500/1024\n",
      "19/19 [==============================] - 13s 705ms/step - loss: 0.0072 - accuracy: 0.9990 - val_loss: 23.0826 - val_accuracy: 0.0495\n",
      "Epoch 501/1024\n",
      "19/19 [==============================] - 14s 714ms/step - loss: 0.0070 - accuracy: 0.9991 - val_loss: 23.0514 - val_accuracy: 0.0556\n",
      "Epoch 502/1024\n",
      "19/19 [==============================] - 14s 715ms/step - loss: 0.0080 - accuracy: 0.9988 - val_loss: 22.9852 - val_accuracy: 0.0504\n",
      "Epoch 503/1024\n",
      "19/19 [==============================] - 13s 705ms/step - loss: 0.0082 - accuracy: 0.9989 - val_loss: 23.0904 - val_accuracy: 0.0626\n",
      "Epoch 504/1024\n",
      "19/19 [==============================] - 13s 706ms/step - loss: 0.0075 - accuracy: 0.9989 - val_loss: 23.0412 - val_accuracy: 0.0577\n",
      "Epoch 505/1024\n",
      "19/19 [==============================] - 13s 706ms/step - loss: 0.0068 - accuracy: 0.9990 - val_loss: 22.9797 - val_accuracy: 0.0568\n",
      "Epoch 506/1024\n",
      "19/19 [==============================] - 13s 705ms/step - loss: 0.0068 - accuracy: 0.9989 - val_loss: 23.0091 - val_accuracy: 0.0479\n",
      "Epoch 507/1024\n",
      "19/19 [==============================] - 13s 705ms/step - loss: 0.0068 - accuracy: 0.9990 - val_loss: 23.0151 - val_accuracy: 0.0531\n",
      "Epoch 508/1024\n",
      "19/19 [==============================] - 13s 706ms/step - loss: 0.0062 - accuracy: 0.9990 - val_loss: 23.0248 - val_accuracy: 0.0545\n",
      "Epoch 509/1024\n",
      "19/19 [==============================] - 13s 707ms/step - loss: 0.0058 - accuracy: 0.9991 - val_loss: 22.9209 - val_accuracy: 0.0524\n",
      "Epoch 510/1024\n",
      "19/19 [==============================] - 13s 707ms/step - loss: 0.0066 - accuracy: 0.9991 - val_loss: 22.9706 - val_accuracy: 0.0536\n",
      "Epoch 511/1024\n",
      "19/19 [==============================] - 13s 706ms/step - loss: 0.0065 - accuracy: 0.9989 - val_loss: 22.8755 - val_accuracy: 0.0516\n",
      "Epoch 512/1024\n",
      "19/19 [==============================] - 13s 707ms/step - loss: 0.0061 - accuracy: 0.9991 - val_loss: 22.8798 - val_accuracy: 0.0487\n",
      "Epoch 513/1024\n",
      "19/19 [==============================] - 13s 706ms/step - loss: 0.0059 - accuracy: 0.9992 - val_loss: 22.9360 - val_accuracy: 0.0520\n",
      "Epoch 514/1024\n",
      "19/19 [==============================] - 13s 707ms/step - loss: 0.0057 - accuracy: 0.9991 - val_loss: 22.8424 - val_accuracy: 0.0514\n",
      "Epoch 515/1024\n",
      "19/19 [==============================] - 13s 705ms/step - loss: 0.0075 - accuracy: 0.9990 - val_loss: 22.9568 - val_accuracy: 0.0541\n",
      "Epoch 516/1024\n",
      "19/19 [==============================] - 13s 706ms/step - loss: 0.0061 - accuracy: 0.9991 - val_loss: 22.8211 - val_accuracy: 0.0498\n",
      "Epoch 517/1024\n",
      "19/19 [==============================] - 13s 706ms/step - loss: 0.0065 - accuracy: 0.9990 - val_loss: 22.8318 - val_accuracy: 0.0503\n",
      "Epoch 518/1024\n",
      "19/19 [==============================] - 13s 707ms/step - loss: 0.0060 - accuracy: 0.9990 - val_loss: 22.8065 - val_accuracy: 0.0490\n",
      "Epoch 519/1024\n",
      "19/19 [==============================] - 13s 707ms/step - loss: 0.0067 - accuracy: 0.9989 - val_loss: 22.8573 - val_accuracy: 0.0495\n",
      "Epoch 520/1024\n",
      "19/19 [==============================] - 13s 704ms/step - loss: 0.0062 - accuracy: 0.9990 - val_loss: 22.8319 - val_accuracy: 0.0563\n",
      "Epoch 521/1024\n",
      "19/19 [==============================] - 14s 717ms/step - loss: 0.0056 - accuracy: 0.9991 - val_loss: 22.8296 - val_accuracy: 0.0517\n",
      "Epoch 522/1024\n",
      "19/19 [==============================] - 14s 716ms/step - loss: 0.0055 - accuracy: 0.9992 - val_loss: 22.7262 - val_accuracy: 0.0527\n",
      "Epoch 523/1024\n",
      "19/19 [==============================] - 13s 708ms/step - loss: 0.0059 - accuracy: 0.9991 - val_loss: 22.8042 - val_accuracy: 0.0511\n",
      "Epoch 524/1024\n",
      "19/19 [==============================] - 13s 707ms/step - loss: 0.0063 - accuracy: 0.9990 - val_loss: 22.7721 - val_accuracy: 0.0493\n",
      "Epoch 525/1024\n",
      "19/19 [==============================] - 13s 705ms/step - loss: 0.0047 - accuracy: 0.9992 - val_loss: 22.7416 - val_accuracy: 0.0536\n",
      "Epoch 526/1024\n",
      "19/19 [==============================] - 13s 707ms/step - loss: 0.0059 - accuracy: 0.9990 - val_loss: 22.6753 - val_accuracy: 0.0490\n",
      "Epoch 527/1024\n",
      "19/19 [==============================] - 13s 707ms/step - loss: 0.0056 - accuracy: 0.9992 - val_loss: 22.8299 - val_accuracy: 0.0488\n",
      "Epoch 528/1024\n",
      "19/19 [==============================] - 13s 707ms/step - loss: 0.0065 - accuracy: 0.9990 - val_loss: 22.7030 - val_accuracy: 0.0437\n",
      "Epoch 529/1024\n",
      "19/19 [==============================] - 13s 706ms/step - loss: 0.0059 - accuracy: 0.9991 - val_loss: 22.7602 - val_accuracy: 0.0466\n",
      "Epoch 530/1024\n",
      "19/19 [==============================] - 13s 708ms/step - loss: 0.0060 - accuracy: 0.9990 - val_loss: 22.6335 - val_accuracy: 0.0458\n",
      "Epoch 531/1024\n",
      "19/19 [==============================] - 13s 706ms/step - loss: 0.0051 - accuracy: 0.9992 - val_loss: 22.6006 - val_accuracy: 0.0449\n",
      "Epoch 532/1024\n",
      "19/19 [==============================] - 13s 706ms/step - loss: 0.0060 - accuracy: 0.9990 - val_loss: 22.6892 - val_accuracy: 0.0489\n",
      "Epoch 533/1024\n",
      "19/19 [==============================] - 13s 707ms/step - loss: 0.0060 - accuracy: 0.9991 - val_loss: 22.7221 - val_accuracy: 0.0467\n",
      "Epoch 534/1024\n",
      "19/19 [==============================] - 13s 706ms/step - loss: 0.0063 - accuracy: 0.9990 - val_loss: 22.6489 - val_accuracy: 0.0486\n",
      "Epoch 535/1024\n",
      "19/19 [==============================] - 13s 708ms/step - loss: 0.0063 - accuracy: 0.9989 - val_loss: 22.7071 - val_accuracy: 0.0500\n",
      "Epoch 536/1024\n",
      "19/19 [==============================] - 13s 707ms/step - loss: 0.0056 - accuracy: 0.9992 - val_loss: 22.6501 - val_accuracy: 0.0474\n",
      "Epoch 537/1024\n",
      "19/19 [==============================] - 13s 706ms/step - loss: 0.0060 - accuracy: 0.9992 - val_loss: 22.6791 - val_accuracy: 0.0496\n",
      "Epoch 538/1024\n",
      "19/19 [==============================] - 13s 706ms/step - loss: 0.0067 - accuracy: 0.9990 - val_loss: 22.5770 - val_accuracy: 0.0454\n",
      "Epoch 539/1024\n",
      "19/19 [==============================] - 13s 707ms/step - loss: 0.0074 - accuracy: 0.9990 - val_loss: 22.4959 - val_accuracy: 0.0486\n",
      "Epoch 540/1024\n",
      "19/19 [==============================] - 13s 707ms/step - loss: 0.0065 - accuracy: 0.9990 - val_loss: 22.6132 - val_accuracy: 0.0479\n",
      "Epoch 541/1024\n",
      "19/19 [==============================] - 14s 717ms/step - loss: 0.0058 - accuracy: 0.9991 - val_loss: 22.5647 - val_accuracy: 0.0472\n",
      "Epoch 542/1024\n",
      "19/19 [==============================] - 14s 718ms/step - loss: 0.0059 - accuracy: 0.9991 - val_loss: 22.5536 - val_accuracy: 0.0473\n",
      "Epoch 543/1024\n",
      "19/19 [==============================] - 13s 706ms/step - loss: 0.0059 - accuracy: 0.9990 - val_loss: 22.6078 - val_accuracy: 0.0462\n",
      "Epoch 544/1024\n",
      "19/19 [==============================] - 13s 707ms/step - loss: 0.0059 - accuracy: 0.9991 - val_loss: 22.6210 - val_accuracy: 0.0475\n",
      "Epoch 545/1024\n",
      "19/19 [==============================] - 13s 706ms/step - loss: 0.0062 - accuracy: 0.9991 - val_loss: 22.5950 - val_accuracy: 0.0423\n",
      "Epoch 546/1024\n",
      "19/19 [==============================] - 13s 705ms/step - loss: 0.0051 - accuracy: 0.9993 - val_loss: 22.4358 - val_accuracy: 0.0433\n",
      "Epoch 547/1024\n",
      "19/19 [==============================] - 13s 705ms/step - loss: 0.0056 - accuracy: 0.9991 - val_loss: 22.5031 - val_accuracy: 0.0414\n",
      "Epoch 548/1024\n",
      "19/19 [==============================] - 13s 706ms/step - loss: 0.0059 - accuracy: 0.9991 - val_loss: 22.5220 - val_accuracy: 0.0390\n",
      "Epoch 549/1024\n",
      "19/19 [==============================] - 14s 728ms/step - loss: 0.0072 - accuracy: 0.9989 - val_loss: 22.6099 - val_accuracy: 0.0432\n",
      "Epoch 550/1024\n",
      "19/19 [==============================] - 13s 705ms/step - loss: 0.0074 - accuracy: 0.9989 - val_loss: 22.4579 - val_accuracy: 0.0379\n",
      "Epoch 551/1024\n",
      "19/19 [==============================] - 13s 708ms/step - loss: 0.0070 - accuracy: 0.9989 - val_loss: 22.4562 - val_accuracy: 0.0376\n",
      "Epoch 552/1024\n",
      "19/19 [==============================] - 13s 707ms/step - loss: 0.0065 - accuracy: 0.9990 - val_loss: 22.3402 - val_accuracy: 0.0404\n",
      "Epoch 553/1024\n",
      "19/19 [==============================] - 13s 706ms/step - loss: 0.0071 - accuracy: 0.9989 - val_loss: 22.4656 - val_accuracy: 0.0389\n",
      "Epoch 554/1024\n",
      "19/19 [==============================] - 13s 705ms/step - loss: 0.0067 - accuracy: 0.9989 - val_loss: 22.3962 - val_accuracy: 0.0451\n",
      "Epoch 555/1024\n",
      "19/19 [==============================] - 13s 707ms/step - loss: 0.0059 - accuracy: 0.9991 - val_loss: 22.5144 - val_accuracy: 0.0392\n",
      "Epoch 556/1024\n",
      "19/19 [==============================] - 13s 706ms/step - loss: 0.0059 - accuracy: 0.9992 - val_loss: 22.3364 - val_accuracy: 0.0391\n",
      "Epoch 557/1024\n",
      "19/19 [==============================] - 13s 705ms/step - loss: 0.0059 - accuracy: 0.9991 - val_loss: 22.4095 - val_accuracy: 0.0400\n",
      "Epoch 558/1024\n",
      "19/19 [==============================] - 13s 706ms/step - loss: 0.0060 - accuracy: 0.9990 - val_loss: 22.3598 - val_accuracy: 0.0407\n",
      "Epoch 559/1024\n",
      "19/19 [==============================] - 13s 706ms/step - loss: 0.0063 - accuracy: 0.9990 - val_loss: 22.4143 - val_accuracy: 0.0374\n",
      "Epoch 560/1024\n",
      "19/19 [==============================] - 13s 706ms/step - loss: 0.0057 - accuracy: 0.9991 - val_loss: 22.3431 - val_accuracy: 0.0381\n",
      "Epoch 561/1024\n",
      "19/19 [==============================] - 14s 715ms/step - loss: 0.0061 - accuracy: 0.9990 - val_loss: 22.4205 - val_accuracy: 0.0358\n",
      "Epoch 562/1024\n",
      "19/19 [==============================] - 14s 715ms/step - loss: 0.0062 - accuracy: 0.9990 - val_loss: 22.2983 - val_accuracy: 0.0364\n",
      "Epoch 563/1024\n",
      "19/19 [==============================] - 13s 706ms/step - loss: 0.0056 - accuracy: 0.9991 - val_loss: 22.3110 - val_accuracy: 0.0355\n",
      "Epoch 564/1024\n",
      "19/19 [==============================] - 13s 708ms/step - loss: 0.0056 - accuracy: 0.9990 - val_loss: 22.2979 - val_accuracy: 0.0349\n",
      "Epoch 565/1024\n",
      "19/19 [==============================] - 13s 707ms/step - loss: 0.0054 - accuracy: 0.9991 - val_loss: 22.3379 - val_accuracy: 0.0357\n",
      "Epoch 566/1024\n",
      "19/19 [==============================] - 13s 707ms/step - loss: 0.0061 - accuracy: 0.9990 - val_loss: 22.3552 - val_accuracy: 0.0329\n",
      "Epoch 567/1024\n",
      "19/19 [==============================] - 13s 707ms/step - loss: 0.0062 - accuracy: 0.9990 - val_loss: 22.2535 - val_accuracy: 0.0354\n",
      "Epoch 568/1024\n",
      "19/19 [==============================] - 13s 707ms/step - loss: 0.0056 - accuracy: 0.9991 - val_loss: 22.2068 - val_accuracy: 0.0367\n",
      "Epoch 569/1024\n",
      "19/19 [==============================] - 13s 706ms/step - loss: 0.0055 - accuracy: 0.9992 - val_loss: 22.3190 - val_accuracy: 0.0354\n",
      "Epoch 570/1024\n",
      "19/19 [==============================] - 13s 705ms/step - loss: 0.0068 - accuracy: 0.9989 - val_loss: 22.2440 - val_accuracy: 0.0351\n",
      "Epoch 571/1024\n",
      "19/19 [==============================] - 13s 706ms/step - loss: 0.0054 - accuracy: 0.9991 - val_loss: 22.1780 - val_accuracy: 0.0351\n",
      "Epoch 572/1024\n",
      "19/19 [==============================] - 13s 704ms/step - loss: 0.0058 - accuracy: 0.9991 - val_loss: 22.1664 - val_accuracy: 0.0371\n",
      "Epoch 573/1024\n",
      "19/19 [==============================] - 13s 705ms/step - loss: 0.0050 - accuracy: 0.9992 - val_loss: 22.1616 - val_accuracy: 0.0352\n",
      "Epoch 574/1024\n",
      "19/19 [==============================] - 13s 707ms/step - loss: 0.0053 - accuracy: 0.9990 - val_loss: 22.2824 - val_accuracy: 0.0352\n",
      "Epoch 575/1024\n",
      "19/19 [==============================] - 13s 705ms/step - loss: 0.0049 - accuracy: 0.9992 - val_loss: 22.1557 - val_accuracy: 0.0344\n",
      "Epoch 576/1024\n",
      "19/19 [==============================] - 13s 705ms/step - loss: 0.0058 - accuracy: 0.9991 - val_loss: 22.1888 - val_accuracy: 0.0369\n",
      "Epoch 577/1024\n",
      "19/19 [==============================] - 13s 706ms/step - loss: 0.0059 - accuracy: 0.9991 - val_loss: 22.2018 - val_accuracy: 0.0350\n",
      "Epoch 578/1024\n",
      "19/19 [==============================] - 13s 707ms/step - loss: 0.0057 - accuracy: 0.9990 - val_loss: 22.2471 - val_accuracy: 0.0358\n",
      "Epoch 579/1024\n",
      "19/19 [==============================] - 13s 707ms/step - loss: 0.0056 - accuracy: 0.9990 - val_loss: 22.1659 - val_accuracy: 0.0369\n",
      "Epoch 580/1024\n",
      "19/19 [==============================] - 13s 707ms/step - loss: 0.0057 - accuracy: 0.9991 - val_loss: 22.1479 - val_accuracy: 0.0306\n",
      "Epoch 581/1024\n",
      "19/19 [==============================] - 14s 715ms/step - loss: 0.0055 - accuracy: 0.9991 - val_loss: 22.2192 - val_accuracy: 0.0306\n",
      "Epoch 582/1024\n",
      "19/19 [==============================] - 14s 718ms/step - loss: 0.0052 - accuracy: 0.9992 - val_loss: 22.1216 - val_accuracy: 0.0307\n",
      "Epoch 583/1024\n",
      "19/19 [==============================] - 13s 705ms/step - loss: 0.0053 - accuracy: 0.9991 - val_loss: 22.1365 - val_accuracy: 0.0336\n",
      "Epoch 584/1024\n",
      "19/19 [==============================] - 13s 704ms/step - loss: 0.0064 - accuracy: 0.9989 - val_loss: 22.2113 - val_accuracy: 0.0304\n",
      "Epoch 585/1024\n",
      "19/19 [==============================] - 13s 705ms/step - loss: 0.0061 - accuracy: 0.9991 - val_loss: 22.1032 - val_accuracy: 0.0318\n",
      "Epoch 586/1024\n",
      "19/19 [==============================] - 13s 707ms/step - loss: 0.0066 - accuracy: 0.9989 - val_loss: 22.1289 - val_accuracy: 0.0305\n",
      "Epoch 587/1024\n",
      "19/19 [==============================] - 13s 706ms/step - loss: 0.0069 - accuracy: 0.9990 - val_loss: 22.0348 - val_accuracy: 0.0314\n",
      "Epoch 588/1024\n",
      "19/19 [==============================] - 13s 706ms/step - loss: 0.0056 - accuracy: 0.9991 - val_loss: 22.0536 - val_accuracy: 0.0336\n",
      "Epoch 589/1024\n",
      "19/19 [==============================] - 13s 706ms/step - loss: 0.0062 - accuracy: 0.9989 - val_loss: 22.0529 - val_accuracy: 0.0300\n",
      "Epoch 590/1024\n",
      "19/19 [==============================] - 13s 705ms/step - loss: 0.0068 - accuracy: 0.9990 - val_loss: 22.1570 - val_accuracy: 0.0340\n",
      "Epoch 591/1024\n",
      "19/19 [==============================] - 13s 708ms/step - loss: 0.0050 - accuracy: 0.9992 - val_loss: 22.1702 - val_accuracy: 0.0308\n",
      "Epoch 592/1024\n",
      "19/19 [==============================] - 13s 706ms/step - loss: 0.0052 - accuracy: 0.9992 - val_loss: 22.0336 - val_accuracy: 0.0263\n",
      "Epoch 593/1024\n",
      "19/19 [==============================] - 13s 706ms/step - loss: 0.0074 - accuracy: 0.9990 - val_loss: 22.0625 - val_accuracy: 0.0267\n",
      "Epoch 594/1024\n",
      "19/19 [==============================] - 13s 707ms/step - loss: 0.0060 - accuracy: 0.9990 - val_loss: 21.9195 - val_accuracy: 0.0277\n",
      "Epoch 595/1024\n",
      "19/19 [==============================] - 13s 705ms/step - loss: 0.0061 - accuracy: 0.9991 - val_loss: 22.0634 - val_accuracy: 0.0259\n",
      "Epoch 596/1024\n",
      "19/19 [==============================] - 13s 706ms/step - loss: 0.0058 - accuracy: 0.9991 - val_loss: 22.0037 - val_accuracy: 0.0255\n",
      "Epoch 597/1024\n",
      "19/19 [==============================] - 13s 706ms/step - loss: 0.0058 - accuracy: 0.9991 - val_loss: 22.0124 - val_accuracy: 0.0263\n",
      "Epoch 598/1024\n",
      "19/19 [==============================] - 13s 705ms/step - loss: 0.0060 - accuracy: 0.9990 - val_loss: 21.9305 - val_accuracy: 0.0267\n",
      "Epoch 599/1024\n",
      "19/19 [==============================] - 13s 706ms/step - loss: 0.0065 - accuracy: 0.9990 - val_loss: 21.9715 - val_accuracy: 0.0270\n",
      "Epoch 600/1024\n",
      "19/19 [==============================] - 13s 706ms/step - loss: 0.0061 - accuracy: 0.9990 - val_loss: 21.9138 - val_accuracy: 0.0247\n",
      "Epoch 601/1024\n",
      "19/19 [==============================] - 14s 717ms/step - loss: 0.0062 - accuracy: 0.9990 - val_loss: 21.9274 - val_accuracy: 0.0252\n",
      "Epoch 602/1024\n",
      "19/19 [==============================] - 14s 716ms/step - loss: 0.0063 - accuracy: 0.9991 - val_loss: 21.9281 - val_accuracy: 0.0254\n",
      "Epoch 603/1024\n",
      "19/19 [==============================] - 13s 707ms/step - loss: 0.0056 - accuracy: 0.9991 - val_loss: 21.8442 - val_accuracy: 0.0257\n",
      "Epoch 604/1024\n",
      "19/19 [==============================] - 13s 707ms/step - loss: 0.0048 - accuracy: 0.9993 - val_loss: 21.9654 - val_accuracy: 0.0261\n",
      "Epoch 605/1024\n",
      "19/19 [==============================] - 13s 706ms/step - loss: 0.0058 - accuracy: 0.9991 - val_loss: 21.8930 - val_accuracy: 0.0255\n",
      "Epoch 606/1024\n",
      "19/19 [==============================] - 13s 705ms/step - loss: 0.0057 - accuracy: 0.9991 - val_loss: 21.8890 - val_accuracy: 0.0260\n",
      "Epoch 607/1024\n"
     ]
    },
    {
     "name": "stdout",
     "output_type": "stream",
     "text": [
      "19/19 [==============================] - 13s 706ms/step - loss: 0.0063 - accuracy: 0.9989 - val_loss: 21.8386 - val_accuracy: 0.0250\n",
      "Epoch 608/1024\n",
      "19/19 [==============================] - 13s 706ms/step - loss: 0.0060 - accuracy: 0.9990 - val_loss: 21.8235 - val_accuracy: 0.0265\n",
      "Epoch 609/1024\n",
      "19/19 [==============================] - 13s 707ms/step - loss: 0.0062 - accuracy: 0.9990 - val_loss: 21.8794 - val_accuracy: 0.0250\n",
      "Epoch 610/1024\n",
      "19/19 [==============================] - 13s 705ms/step - loss: 0.0060 - accuracy: 0.9991 - val_loss: 21.7204 - val_accuracy: 0.0267\n",
      "Epoch 611/1024\n",
      "19/19 [==============================] - 13s 706ms/step - loss: 0.0058 - accuracy: 0.9990 - val_loss: 21.9088 - val_accuracy: 0.0261\n",
      "Epoch 612/1024\n",
      "19/19 [==============================] - 13s 705ms/step - loss: 0.0062 - accuracy: 0.9990 - val_loss: 21.8389 - val_accuracy: 0.0270\n",
      "Epoch 613/1024\n",
      "19/19 [==============================] - 13s 705ms/step - loss: 0.0060 - accuracy: 0.9990 - val_loss: 21.7932 - val_accuracy: 0.0261\n",
      "Epoch 614/1024\n",
      "19/19 [==============================] - 13s 706ms/step - loss: 0.0058 - accuracy: 0.9990 - val_loss: 21.9074 - val_accuracy: 0.0251\n",
      "Epoch 615/1024\n",
      "19/19 [==============================] - 13s 707ms/step - loss: 0.0052 - accuracy: 0.9992 - val_loss: 21.8326 - val_accuracy: 0.0268\n",
      "Epoch 616/1024\n",
      "19/19 [==============================] - 13s 706ms/step - loss: 0.0052 - accuracy: 0.9991 - val_loss: 21.9209 - val_accuracy: 0.0262\n",
      "Epoch 617/1024\n",
      "19/19 [==============================] - 13s 707ms/step - loss: 0.0057 - accuracy: 0.9989 - val_loss: 21.7851 - val_accuracy: 0.0239\n",
      "Epoch 618/1024\n",
      "19/19 [==============================] - 13s 705ms/step - loss: 0.0052 - accuracy: 0.9992 - val_loss: 21.8388 - val_accuracy: 0.0250\n",
      "Epoch 619/1024\n",
      "19/19 [==============================] - 13s 706ms/step - loss: 0.0057 - accuracy: 0.9990 - val_loss: 21.7509 - val_accuracy: 0.0247\n",
      "Epoch 620/1024\n",
      "19/19 [==============================] - 13s 707ms/step - loss: 0.0058 - accuracy: 0.9991 - val_loss: 21.7976 - val_accuracy: 0.0228\n",
      "Epoch 621/1024\n",
      "19/19 [==============================] - 14s 716ms/step - loss: 0.0085 - accuracy: 0.9987 - val_loss: 21.7488 - val_accuracy: 0.0249\n",
      "Epoch 622/1024\n",
      "19/19 [==============================] - 14s 714ms/step - loss: 0.0062 - accuracy: 0.9990 - val_loss: 21.7312 - val_accuracy: 0.0254\n",
      "Epoch 623/1024\n",
      "19/19 [==============================] - 13s 707ms/step - loss: 0.0063 - accuracy: 0.9989 - val_loss: 21.6882 - val_accuracy: 0.0249\n",
      "Epoch 624/1024\n",
      "19/19 [==============================] - 13s 706ms/step - loss: 0.0051 - accuracy: 0.9991 - val_loss: 21.6988 - val_accuracy: 0.0257\n",
      "Epoch 625/1024\n",
      "19/19 [==============================] - 13s 706ms/step - loss: 0.0054 - accuracy: 0.9991 - val_loss: 21.7646 - val_accuracy: 0.0249\n",
      "Epoch 626/1024\n",
      "19/19 [==============================] - 13s 706ms/step - loss: 0.0051 - accuracy: 0.9991 - val_loss: 21.6065 - val_accuracy: 0.0242\n",
      "Epoch 627/1024\n",
      "19/19 [==============================] - 13s 707ms/step - loss: 0.0059 - accuracy: 0.9990 - val_loss: 21.5880 - val_accuracy: 0.0250\n",
      "Epoch 628/1024\n",
      "19/19 [==============================] - 13s 707ms/step - loss: 0.0060 - accuracy: 0.9989 - val_loss: 21.6334 - val_accuracy: 0.0250\n",
      "Epoch 629/1024\n",
      "19/19 [==============================] - 13s 705ms/step - loss: 0.0064 - accuracy: 0.9988 - val_loss: 21.5759 - val_accuracy: 0.0264\n",
      "Epoch 630/1024\n",
      "19/19 [==============================] - 13s 708ms/step - loss: 0.0061 - accuracy: 0.9990 - val_loss: 21.6790 - val_accuracy: 0.0254\n",
      "Epoch 631/1024\n",
      "19/19 [==============================] - 13s 705ms/step - loss: 0.0067 - accuracy: 0.9989 - val_loss: 21.6264 - val_accuracy: 0.0269\n",
      "Epoch 632/1024\n",
      "19/19 [==============================] - 13s 705ms/step - loss: 0.0062 - accuracy: 0.9989 - val_loss: 21.6534 - val_accuracy: 0.0260\n",
      "Epoch 633/1024\n",
      "19/19 [==============================] - 13s 705ms/step - loss: 0.0057 - accuracy: 0.9991 - val_loss: 21.6416 - val_accuracy: 0.0254\n",
      "Epoch 634/1024\n",
      "19/19 [==============================] - 13s 706ms/step - loss: 0.0056 - accuracy: 0.9991 - val_loss: 21.5434 - val_accuracy: 0.0252\n",
      "Epoch 635/1024\n",
      "19/19 [==============================] - 13s 707ms/step - loss: 0.0057 - accuracy: 0.9990 - val_loss: 21.5269 - val_accuracy: 0.0253\n",
      "Epoch 636/1024\n",
      "19/19 [==============================] - 13s 707ms/step - loss: 0.0057 - accuracy: 0.9990 - val_loss: 21.5688 - val_accuracy: 0.0251\n",
      "Epoch 637/1024\n",
      "19/19 [==============================] - 13s 705ms/step - loss: 0.0070 - accuracy: 0.9988 - val_loss: 21.6402 - val_accuracy: 0.0250\n",
      "Epoch 638/1024\n",
      "19/19 [==============================] - 13s 704ms/step - loss: 0.0051 - accuracy: 0.9992 - val_loss: 21.5340 - val_accuracy: 0.0221\n",
      "Epoch 639/1024\n",
      "19/19 [==============================] - 13s 706ms/step - loss: 0.0058 - accuracy: 0.9990 - val_loss: 21.5283 - val_accuracy: 0.0234\n",
      "Epoch 640/1024\n",
      "19/19 [==============================] - 13s 705ms/step - loss: 0.0047 - accuracy: 0.9992 - val_loss: 21.4321 - val_accuracy: 0.0233\n",
      "Epoch 641/1024\n",
      "19/19 [==============================] - 14s 716ms/step - loss: 0.0050 - accuracy: 0.9991 - val_loss: 21.5381 - val_accuracy: 0.0221\n",
      "Epoch 642/1024\n",
      "19/19 [==============================] - 14s 715ms/step - loss: 0.0047 - accuracy: 0.9992 - val_loss: 21.5018 - val_accuracy: 0.0224\n",
      "Epoch 643/1024\n",
      "19/19 [==============================] - 13s 704ms/step - loss: 0.0056 - accuracy: 0.9992 - val_loss: 21.5846 - val_accuracy: 0.0229\n",
      "Epoch 644/1024\n",
      "19/19 [==============================] - 13s 705ms/step - loss: 0.0051 - accuracy: 0.9990 - val_loss: 21.5176 - val_accuracy: 0.0244\n",
      "Epoch 645/1024\n",
      "19/19 [==============================] - 13s 706ms/step - loss: 0.0054 - accuracy: 0.9991 - val_loss: 21.5688 - val_accuracy: 0.0241\n",
      "Epoch 646/1024\n",
      "19/19 [==============================] - 13s 707ms/step - loss: 0.0054 - accuracy: 0.9991 - val_loss: 21.4130 - val_accuracy: 0.0233\n",
      "Epoch 647/1024\n",
      "19/19 [==============================] - 13s 705ms/step - loss: 0.0060 - accuracy: 0.9990 - val_loss: 21.4548 - val_accuracy: 0.0264\n",
      "Epoch 648/1024\n",
      "19/19 [==============================] - 13s 707ms/step - loss: 0.0058 - accuracy: 0.9990 - val_loss: 21.5599 - val_accuracy: 0.0248\n",
      "Epoch 649/1024\n",
      "19/19 [==============================] - 13s 707ms/step - loss: 0.0062 - accuracy: 0.9990 - val_loss: 21.4499 - val_accuracy: 0.0251\n",
      "Epoch 650/1024\n",
      "19/19 [==============================] - 13s 706ms/step - loss: 0.0090 - accuracy: 0.9988 - val_loss: 21.4754 - val_accuracy: 0.0261\n",
      "Epoch 651/1024\n",
      "19/19 [==============================] - 13s 707ms/step - loss: 0.0074 - accuracy: 0.9988 - val_loss: 21.3096 - val_accuracy: 0.0245\n",
      "Epoch 652/1024\n",
      "19/19 [==============================] - 13s 707ms/step - loss: 0.0063 - accuracy: 0.9990 - val_loss: 21.4512 - val_accuracy: 0.0239\n",
      "Epoch 653/1024\n",
      "19/19 [==============================] - 13s 706ms/step - loss: 0.0064 - accuracy: 0.9991 - val_loss: 21.4143 - val_accuracy: 0.0212\n",
      "Epoch 654/1024\n",
      "19/19 [==============================] - 13s 706ms/step - loss: 0.0062 - accuracy: 0.9989 - val_loss: 21.2607 - val_accuracy: 0.0237\n",
      "Epoch 655/1024\n",
      "19/19 [==============================] - 13s 706ms/step - loss: 0.0065 - accuracy: 0.9991 - val_loss: 21.3910 - val_accuracy: 0.0225\n",
      "Epoch 656/1024\n",
      "19/19 [==============================] - 13s 707ms/step - loss: 0.0056 - accuracy: 0.9991 - val_loss: 21.3209 - val_accuracy: 0.0231\n",
      "Epoch 657/1024\n",
      "19/19 [==============================] - 13s 706ms/step - loss: 0.0059 - accuracy: 0.9990 - val_loss: 21.2999 - val_accuracy: 0.0239\n",
      "Epoch 658/1024\n",
      "19/19 [==============================] - 13s 706ms/step - loss: 0.0056 - accuracy: 0.9991 - val_loss: 21.3584 - val_accuracy: 0.0239\n",
      "Epoch 659/1024\n",
      "19/19 [==============================] - 13s 707ms/step - loss: 0.0056 - accuracy: 0.9991 - val_loss: 21.3525 - val_accuracy: 0.0241\n",
      "Epoch 660/1024\n",
      "19/19 [==============================] - 13s 707ms/step - loss: 0.0054 - accuracy: 0.9992 - val_loss: 21.2375 - val_accuracy: 0.0219\n",
      "Epoch 661/1024\n",
      "19/19 [==============================] - 14s 716ms/step - loss: 0.0053 - accuracy: 0.9991 - val_loss: 21.1749 - val_accuracy: 0.0235\n",
      "Epoch 662/1024\n",
      "19/19 [==============================] - 14s 716ms/step - loss: 0.0055 - accuracy: 0.9991 - val_loss: 21.3210 - val_accuracy: 0.0233\n",
      "Epoch 663/1024\n",
      "19/19 [==============================] - 13s 708ms/step - loss: 0.0041 - accuracy: 0.9991 - val_loss: 21.2158 - val_accuracy: 0.0231\n",
      "Epoch 664/1024\n",
      "19/19 [==============================] - 13s 707ms/step - loss: 0.0050 - accuracy: 0.9991 - val_loss: 21.2844 - val_accuracy: 0.0230\n",
      "Epoch 665/1024\n",
      "19/19 [==============================] - 13s 706ms/step - loss: 0.0056 - accuracy: 0.9991 - val_loss: 21.2760 - val_accuracy: 0.0226\n",
      "Epoch 666/1024\n",
      "19/19 [==============================] - 13s 706ms/step - loss: 0.0047 - accuracy: 0.9992 - val_loss: 21.3266 - val_accuracy: 0.0220\n",
      "Epoch 667/1024\n",
      "19/19 [==============================] - 13s 706ms/step - loss: 0.0047 - accuracy: 0.9992 - val_loss: 21.2066 - val_accuracy: 0.0225\n",
      "Epoch 668/1024\n",
      "19/19 [==============================] - 13s 706ms/step - loss: 0.0043 - accuracy: 0.9992 - val_loss: 21.1911 - val_accuracy: 0.0228\n",
      "Epoch 669/1024\n",
      "19/19 [==============================] - 13s 706ms/step - loss: 0.0056 - accuracy: 0.9990 - val_loss: 21.1578 - val_accuracy: 0.0237\n",
      "Epoch 670/1024\n",
      "19/19 [==============================] - 13s 707ms/step - loss: 0.0057 - accuracy: 0.9990 - val_loss: 21.1873 - val_accuracy: 0.0231\n",
      "Epoch 671/1024\n",
      "19/19 [==============================] - 13s 705ms/step - loss: 0.0053 - accuracy: 0.9992 - val_loss: 21.2473 - val_accuracy: 0.0226\n",
      "Epoch 672/1024\n",
      "19/19 [==============================] - 13s 707ms/step - loss: 0.0051 - accuracy: 0.9991 - val_loss: 21.2188 - val_accuracy: 0.0234\n",
      "Epoch 673/1024\n",
      "19/19 [==============================] - 13s 707ms/step - loss: 0.0049 - accuracy: 0.9991 - val_loss: 21.2470 - val_accuracy: 0.0230\n",
      "Epoch 674/1024\n",
      "19/19 [==============================] - 13s 707ms/step - loss: 0.0053 - accuracy: 0.9990 - val_loss: 21.2146 - val_accuracy: 0.0221\n",
      "Epoch 675/1024\n",
      "19/19 [==============================] - 13s 707ms/step - loss: 0.0051 - accuracy: 0.9991 - val_loss: 21.2050 - val_accuracy: 0.0218\n",
      "Epoch 676/1024\n",
      "19/19 [==============================] - 13s 706ms/step - loss: 0.0051 - accuracy: 0.9991 - val_loss: 21.2364 - val_accuracy: 0.0225\n",
      "Epoch 677/1024\n",
      "19/19 [==============================] - 13s 706ms/step - loss: 0.0046 - accuracy: 0.9991 - val_loss: 21.2094 - val_accuracy: 0.0240\n",
      "Epoch 678/1024\n",
      "19/19 [==============================] - 13s 706ms/step - loss: 0.0043 - accuracy: 0.9993 - val_loss: 21.1844 - val_accuracy: 0.0231\n",
      "Epoch 679/1024\n",
      "19/19 [==============================] - 13s 707ms/step - loss: 0.0051 - accuracy: 0.9991 - val_loss: 21.1698 - val_accuracy: 0.0231\n",
      "Epoch 680/1024\n",
      "19/19 [==============================] - 13s 707ms/step - loss: 0.0046 - accuracy: 0.9992 - val_loss: 21.0993 - val_accuracy: 0.0220\n",
      "Epoch 681/1024\n",
      "19/19 [==============================] - 14s 715ms/step - loss: 0.0049 - accuracy: 0.9991 - val_loss: 21.1721 - val_accuracy: 0.0227\n",
      "Epoch 682/1024\n",
      "19/19 [==============================] - 14s 715ms/step - loss: 0.0052 - accuracy: 0.9991 - val_loss: 21.1056 - val_accuracy: 0.0236\n",
      "Epoch 683/1024\n",
      "19/19 [==============================] - 13s 706ms/step - loss: 0.0050 - accuracy: 0.9991 - val_loss: 21.1377 - val_accuracy: 0.0230\n",
      "Epoch 684/1024\n",
      "19/19 [==============================] - 13s 707ms/step - loss: 0.0048 - accuracy: 0.9991 - val_loss: 21.0354 - val_accuracy: 0.0226\n",
      "Epoch 685/1024\n",
      "19/19 [==============================] - 13s 706ms/step - loss: 0.0048 - accuracy: 0.9990 - val_loss: 21.0807 - val_accuracy: 0.0209\n",
      "Epoch 686/1024\n",
      "19/19 [==============================] - 13s 708ms/step - loss: 0.0045 - accuracy: 0.9992 - val_loss: 21.1517 - val_accuracy: 0.0215\n",
      "Epoch 687/1024\n",
      "19/19 [==============================] - 13s 709ms/step - loss: 0.0045 - accuracy: 0.9992 - val_loss: 21.1452 - val_accuracy: 0.0224\n",
      "Epoch 688/1024\n",
      "19/19 [==============================] - 13s 707ms/step - loss: 0.0050 - accuracy: 0.9991 - val_loss: 21.0954 - val_accuracy: 0.0225\n",
      "Epoch 689/1024\n",
      "19/19 [==============================] - 13s 706ms/step - loss: 0.0051 - accuracy: 0.9990 - val_loss: 21.2103 - val_accuracy: 0.0233\n",
      "Epoch 690/1024\n",
      "19/19 [==============================] - 13s 708ms/step - loss: 0.0049 - accuracy: 0.9991 - val_loss: 21.1187 - val_accuracy: 0.0217\n",
      "Epoch 691/1024\n",
      "19/19 [==============================] - 13s 707ms/step - loss: 0.0044 - accuracy: 0.9992 - val_loss: 21.0996 - val_accuracy: 0.0219\n",
      "Epoch 692/1024\n",
      "19/19 [==============================] - 13s 706ms/step - loss: 0.0050 - accuracy: 0.9992 - val_loss: 21.0415 - val_accuracy: 0.0211\n",
      "Epoch 693/1024\n",
      "19/19 [==============================] - 13s 706ms/step - loss: 0.0047 - accuracy: 0.9991 - val_loss: 20.9967 - val_accuracy: 0.0218\n",
      "Epoch 694/1024\n",
      "19/19 [==============================] - 13s 707ms/step - loss: 0.0046 - accuracy: 0.9991 - val_loss: 21.0567 - val_accuracy: 0.0223\n",
      "Epoch 695/1024\n",
      "19/19 [==============================] - 13s 707ms/step - loss: 0.0049 - accuracy: 0.9991 - val_loss: 21.0808 - val_accuracy: 0.0224\n",
      "Epoch 696/1024\n",
      "19/19 [==============================] - 13s 706ms/step - loss: 0.0049 - accuracy: 0.9991 - val_loss: 21.0166 - val_accuracy: 0.0225\n",
      "Epoch 697/1024\n",
      "19/19 [==============================] - 13s 705ms/step - loss: 0.0056 - accuracy: 0.9990 - val_loss: 21.1135 - val_accuracy: 0.0221\n",
      "Epoch 698/1024\n",
      "19/19 [==============================] - 13s 707ms/step - loss: 0.0061 - accuracy: 0.9989 - val_loss: 21.0279 - val_accuracy: 0.0208\n",
      "Epoch 699/1024\n",
      "19/19 [==============================] - 13s 706ms/step - loss: 0.0055 - accuracy: 0.9991 - val_loss: 21.0171 - val_accuracy: 0.0203\n",
      "Epoch 700/1024\n",
      "19/19 [==============================] - 13s 707ms/step - loss: 0.0052 - accuracy: 0.9991 - val_loss: 21.0365 - val_accuracy: 0.0207\n",
      "Epoch 701/1024\n",
      "19/19 [==============================] - 14s 717ms/step - loss: 0.0047 - accuracy: 0.9992 - val_loss: 21.0654 - val_accuracy: 0.0214\n",
      "Epoch 702/1024\n",
      "19/19 [==============================] - 14s 717ms/step - loss: 0.0056 - accuracy: 0.9991 - val_loss: 21.0431 - val_accuracy: 0.0201\n",
      "Epoch 703/1024\n",
      "19/19 [==============================] - 13s 706ms/step - loss: 0.0057 - accuracy: 0.9990 - val_loss: 20.9477 - val_accuracy: 0.0205\n",
      "Epoch 704/1024\n",
      "19/19 [==============================] - 13s 706ms/step - loss: 0.0050 - accuracy: 0.9993 - val_loss: 21.0441 - val_accuracy: 0.0219\n",
      "Epoch 705/1024\n",
      "19/19 [==============================] - 13s 706ms/step - loss: 0.0051 - accuracy: 0.9990 - val_loss: 21.0715 - val_accuracy: 0.0221\n",
      "Epoch 706/1024\n",
      "19/19 [==============================] - 13s 707ms/step - loss: 0.0053 - accuracy: 0.9991 - val_loss: 21.0329 - val_accuracy: 0.0212\n",
      "Epoch 707/1024\n",
      "19/19 [==============================] - 13s 707ms/step - loss: 0.0050 - accuracy: 0.9991 - val_loss: 21.0005 - val_accuracy: 0.0212\n",
      "Epoch 708/1024\n",
      "19/19 [==============================] - 13s 705ms/step - loss: 0.0058 - accuracy: 0.9988 - val_loss: 20.9683 - val_accuracy: 0.0214\n",
      "Epoch 709/1024\n",
      "19/19 [==============================] - 13s 706ms/step - loss: 0.0064 - accuracy: 0.9989 - val_loss: 20.9932 - val_accuracy: 0.0212\n",
      "Epoch 710/1024\n",
      "19/19 [==============================] - 13s 707ms/step - loss: 0.0056 - accuracy: 0.9990 - val_loss: 21.0580 - val_accuracy: 0.0200\n",
      "Epoch 711/1024\n",
      "19/19 [==============================] - 13s 706ms/step - loss: 0.0053 - accuracy: 0.9991 - val_loss: 20.9699 - val_accuracy: 0.0215\n",
      "Epoch 712/1024\n",
      "19/19 [==============================] - 13s 706ms/step - loss: 0.0058 - accuracy: 0.9991 - val_loss: 20.9970 - val_accuracy: 0.0217\n",
      "Epoch 713/1024\n",
      "19/19 [==============================] - 13s 706ms/step - loss: 0.0048 - accuracy: 0.9992 - val_loss: 21.0288 - val_accuracy: 0.0201\n",
      "Epoch 714/1024\n",
      "19/19 [==============================] - 13s 706ms/step - loss: 0.0053 - accuracy: 0.9990 - val_loss: 20.9981 - val_accuracy: 0.0200\n",
      "Epoch 715/1024\n",
      "19/19 [==============================] - 13s 706ms/step - loss: 0.0053 - accuracy: 0.9989 - val_loss: 20.8874 - val_accuracy: 0.0198\n",
      "Epoch 716/1024\n",
      "19/19 [==============================] - 13s 706ms/step - loss: 0.0052 - accuracy: 0.9991 - val_loss: 20.9138 - val_accuracy: 0.0188\n",
      "Epoch 717/1024\n"
     ]
    },
    {
     "name": "stdout",
     "output_type": "stream",
     "text": [
      "19/19 [==============================] - 13s 706ms/step - loss: 0.0057 - accuracy: 0.9990 - val_loss: 20.9651 - val_accuracy: 0.0202\n",
      "Epoch 718/1024\n",
      "19/19 [==============================] - 13s 705ms/step - loss: 0.0055 - accuracy: 0.9991 - val_loss: 20.9436 - val_accuracy: 0.0204\n",
      "Epoch 719/1024\n",
      "19/19 [==============================] - 13s 707ms/step - loss: 0.0051 - accuracy: 0.9992 - val_loss: 20.8829 - val_accuracy: 0.0178\n",
      "Epoch 720/1024\n",
      "19/19 [==============================] - 13s 705ms/step - loss: 0.0054 - accuracy: 0.9991 - val_loss: 20.9548 - val_accuracy: 0.0183\n",
      "Epoch 721/1024\n",
      "19/19 [==============================] - 14s 717ms/step - loss: 0.0049 - accuracy: 0.9991 - val_loss: 20.9149 - val_accuracy: 0.0198\n",
      "Epoch 722/1024\n",
      "19/19 [==============================] - 14s 716ms/step - loss: 0.0047 - accuracy: 0.9992 - val_loss: 20.8945 - val_accuracy: 0.0216\n",
      "Epoch 723/1024\n",
      "19/19 [==============================] - 13s 707ms/step - loss: 0.0048 - accuracy: 0.9991 - val_loss: 20.8795 - val_accuracy: 0.0198\n",
      "Epoch 724/1024\n",
      "19/19 [==============================] - 13s 705ms/step - loss: 0.0053 - accuracy: 0.9990 - val_loss: 20.9599 - val_accuracy: 0.0193\n",
      "Epoch 725/1024\n",
      "19/19 [==============================] - 13s 705ms/step - loss: 0.0044 - accuracy: 0.9992 - val_loss: 20.8887 - val_accuracy: 0.0201\n",
      "Epoch 726/1024\n",
      "19/19 [==============================] - 13s 704ms/step - loss: 0.0051 - accuracy: 0.9991 - val_loss: 20.8678 - val_accuracy: 0.0202\n",
      "Epoch 727/1024\n",
      "19/19 [==============================] - 13s 707ms/step - loss: 0.0046 - accuracy: 0.9991 - val_loss: 20.8644 - val_accuracy: 0.0204\n",
      "Epoch 728/1024\n",
      "19/19 [==============================] - 13s 706ms/step - loss: 0.0051 - accuracy: 0.9991 - val_loss: 20.8643 - val_accuracy: 0.0186\n",
      "Epoch 729/1024\n",
      "19/19 [==============================] - 13s 707ms/step - loss: 0.0054 - accuracy: 0.9991 - val_loss: 20.8742 - val_accuracy: 0.0176\n",
      "Epoch 730/1024\n",
      "19/19 [==============================] - 13s 708ms/step - loss: 0.0046 - accuracy: 0.9992 - val_loss: 20.7440 - val_accuracy: 0.0185\n",
      "Epoch 731/1024\n",
      "19/19 [==============================] - 13s 706ms/step - loss: 0.0056 - accuracy: 0.9990 - val_loss: 20.8213 - val_accuracy: 0.0178\n",
      "Epoch 732/1024\n",
      "19/19 [==============================] - 13s 706ms/step - loss: 0.0052 - accuracy: 0.9991 - val_loss: 20.8232 - val_accuracy: 0.0197\n",
      "Epoch 733/1024\n",
      "19/19 [==============================] - 13s 706ms/step - loss: 0.0057 - accuracy: 0.9991 - val_loss: 20.8378 - val_accuracy: 0.0200\n",
      "Epoch 734/1024\n",
      "19/19 [==============================] - 13s 707ms/step - loss: 0.0056 - accuracy: 0.9991 - val_loss: 20.7491 - val_accuracy: 0.0202\n",
      "Epoch 735/1024\n",
      "19/19 [==============================] - 13s 707ms/step - loss: 0.0056 - accuracy: 0.9990 - val_loss: 20.7870 - val_accuracy: 0.0188\n",
      "Epoch 736/1024\n",
      "19/19 [==============================] - 13s 707ms/step - loss: 0.0045 - accuracy: 0.9992 - val_loss: 20.7588 - val_accuracy: 0.0179\n",
      "Epoch 737/1024\n",
      "19/19 [==============================] - 14s 730ms/step - loss: 0.0051 - accuracy: 0.9990 - val_loss: 20.7917 - val_accuracy: 0.0202\n",
      "Epoch 738/1024\n",
      "19/19 [==============================] - 13s 705ms/step - loss: 0.0047 - accuracy: 0.9992 - val_loss: 20.8455 - val_accuracy: 0.0187\n",
      "Epoch 739/1024\n",
      "19/19 [==============================] - 13s 706ms/step - loss: 0.0041 - accuracy: 0.9993 - val_loss: 20.6596 - val_accuracy: 0.0183\n",
      "Epoch 740/1024\n",
      "19/19 [==============================] - 13s 705ms/step - loss: 0.0046 - accuracy: 0.9991 - val_loss: 20.8185 - val_accuracy: 0.0186\n",
      "Epoch 741/1024\n",
      "19/19 [==============================] - 14s 715ms/step - loss: 0.0041 - accuracy: 0.9992 - val_loss: 20.7555 - val_accuracy: 0.0194\n",
      "Epoch 742/1024\n",
      "19/19 [==============================] - 14s 718ms/step - loss: 0.0052 - accuracy: 0.9991 - val_loss: 20.7634 - val_accuracy: 0.0189\n",
      "Epoch 743/1024\n",
      "19/19 [==============================] - 13s 707ms/step - loss: 0.0049 - accuracy: 0.9991 - val_loss: 20.6811 - val_accuracy: 0.0186\n",
      "Epoch 744/1024\n",
      "19/19 [==============================] - 13s 706ms/step - loss: 0.0048 - accuracy: 0.9991 - val_loss: 20.7244 - val_accuracy: 0.0188\n",
      "Epoch 745/1024\n",
      "19/19 [==============================] - 13s 706ms/step - loss: 0.0048 - accuracy: 0.9991 - val_loss: 20.7360 - val_accuracy: 0.0191\n",
      "Epoch 746/1024\n",
      "19/19 [==============================] - 13s 706ms/step - loss: 0.0050 - accuracy: 0.9990 - val_loss: 20.8064 - val_accuracy: 0.0173\n",
      "Epoch 747/1024\n",
      "19/19 [==============================] - 13s 706ms/step - loss: 0.0050 - accuracy: 0.9991 - val_loss: 20.6721 - val_accuracy: 0.0191\n",
      "Epoch 748/1024\n",
      "19/19 [==============================] - 13s 707ms/step - loss: 0.0047 - accuracy: 0.9991 - val_loss: 20.7300 - val_accuracy: 0.0169\n",
      "Epoch 749/1024\n",
      "19/19 [==============================] - 13s 707ms/step - loss: 0.0052 - accuracy: 0.9990 - val_loss: 20.7203 - val_accuracy: 0.0200\n",
      "Epoch 750/1024\n",
      "19/19 [==============================] - 13s 706ms/step - loss: 0.0049 - accuracy: 0.9990 - val_loss: 20.7103 - val_accuracy: 0.0188\n",
      "Epoch 751/1024\n",
      "19/19 [==============================] - 13s 706ms/step - loss: 0.0047 - accuracy: 0.9991 - val_loss: 20.7198 - val_accuracy: 0.0179\n",
      "Epoch 752/1024\n",
      "19/19 [==============================] - 13s 706ms/step - loss: 0.0046 - accuracy: 0.9991 - val_loss: 20.6758 - val_accuracy: 0.0165\n",
      "Epoch 753/1024\n",
      "19/19 [==============================] - 13s 706ms/step - loss: 0.0043 - accuracy: 0.9992 - val_loss: 20.7749 - val_accuracy: 0.0182\n",
      "Epoch 754/1024\n",
      "19/19 [==============================] - 13s 708ms/step - loss: 0.0047 - accuracy: 0.9991 - val_loss: 20.7114 - val_accuracy: 0.0191\n",
      "Epoch 755/1024\n",
      "19/19 [==============================] - 13s 707ms/step - loss: 0.0048 - accuracy: 0.9991 - val_loss: 20.7184 - val_accuracy: 0.0181\n",
      "Epoch 756/1024\n",
      "19/19 [==============================] - 13s 707ms/step - loss: 0.0047 - accuracy: 0.9993 - val_loss: 20.7190 - val_accuracy: 0.0194\n",
      "Epoch 757/1024\n",
      "19/19 [==============================] - 13s 708ms/step - loss: 0.0052 - accuracy: 0.9990 - val_loss: 20.6304 - val_accuracy: 0.0194\n",
      "Epoch 758/1024\n",
      "19/19 [==============================] - 13s 707ms/step - loss: 0.0045 - accuracy: 0.9993 - val_loss: 20.6743 - val_accuracy: 0.0172\n",
      "Epoch 759/1024\n",
      "19/19 [==============================] - 13s 706ms/step - loss: 0.0047 - accuracy: 0.9991 - val_loss: 20.5788 - val_accuracy: 0.0166\n",
      "Epoch 760/1024\n",
      "19/19 [==============================] - 13s 706ms/step - loss: 0.0057 - accuracy: 0.9990 - val_loss: 20.6235 - val_accuracy: 0.0167\n",
      "Epoch 761/1024\n",
      "19/19 [==============================] - 14s 717ms/step - loss: 0.0050 - accuracy: 0.9991 - val_loss: 20.7021 - val_accuracy: 0.0179\n",
      "Epoch 762/1024\n",
      "19/19 [==============================] - 14s 716ms/step - loss: 0.0046 - accuracy: 0.9991 - val_loss: 20.5123 - val_accuracy: 0.0169\n",
      "Epoch 763/1024\n",
      "19/19 [==============================] - 13s 707ms/step - loss: 0.0044 - accuracy: 0.9991 - val_loss: 20.5792 - val_accuracy: 0.0174\n",
      "Epoch 764/1024\n",
      "19/19 [==============================] - 13s 707ms/step - loss: 0.0049 - accuracy: 0.9990 - val_loss: 20.6615 - val_accuracy: 0.0174\n",
      "Epoch 765/1024\n",
      "19/19 [==============================] - 13s 708ms/step - loss: 0.0042 - accuracy: 0.9991 - val_loss: 20.6573 - val_accuracy: 0.0169\n",
      "Epoch 766/1024\n",
      "19/19 [==============================] - 13s 707ms/step - loss: 0.0050 - accuracy: 0.9990 - val_loss: 20.6125 - val_accuracy: 0.0165\n",
      "Epoch 767/1024\n",
      "19/19 [==============================] - 13s 707ms/step - loss: 0.0051 - accuracy: 0.9990 - val_loss: 20.5362 - val_accuracy: 0.0175\n",
      "Epoch 768/1024\n",
      "19/19 [==============================] - 13s 708ms/step - loss: 0.0056 - accuracy: 0.9989 - val_loss: 20.5398 - val_accuracy: 0.0173\n",
      "Epoch 769/1024\n",
      "19/19 [==============================] - 13s 708ms/step - loss: 0.0054 - accuracy: 0.9990 - val_loss: 20.5473 - val_accuracy: 0.0196\n",
      "Epoch 770/1024\n",
      "19/19 [==============================] - 13s 707ms/step - loss: 0.0052 - accuracy: 0.9991 - val_loss: 20.4972 - val_accuracy: 0.0177\n",
      "Epoch 771/1024\n",
      "19/19 [==============================] - 13s 707ms/step - loss: 0.0049 - accuracy: 0.9990 - val_loss: 20.5114 - val_accuracy: 0.0171\n",
      "Epoch 772/1024\n",
      "19/19 [==============================] - 13s 705ms/step - loss: 0.0049 - accuracy: 0.9991 - val_loss: 20.5464 - val_accuracy: 0.0175\n",
      "Epoch 773/1024\n",
      "19/19 [==============================] - 13s 708ms/step - loss: 0.0048 - accuracy: 0.9991 - val_loss: 20.5174 - val_accuracy: 0.0171\n",
      "Epoch 774/1024\n",
      "19/19 [==============================] - 13s 708ms/step - loss: 0.0052 - accuracy: 0.9991 - val_loss: 20.6207 - val_accuracy: 0.0176\n",
      "Epoch 775/1024\n",
      "19/19 [==============================] - 13s 706ms/step - loss: 0.0056 - accuracy: 0.9990 - val_loss: 20.4289 - val_accuracy: 0.0173\n",
      "Epoch 776/1024\n",
      "19/19 [==============================] - 13s 706ms/step - loss: 0.0054 - accuracy: 0.9991 - val_loss: 20.5981 - val_accuracy: 0.0161\n",
      "Epoch 777/1024\n",
      "19/19 [==============================] - 13s 706ms/step - loss: 0.0053 - accuracy: 0.9990 - val_loss: 20.5109 - val_accuracy: 0.0191\n",
      "Epoch 778/1024\n",
      "19/19 [==============================] - 13s 707ms/step - loss: 0.0044 - accuracy: 0.9992 - val_loss: 20.4731 - val_accuracy: 0.0181\n",
      "Epoch 779/1024\n",
      "19/19 [==============================] - 13s 707ms/step - loss: 0.0044 - accuracy: 0.9992 - val_loss: 20.5112 - val_accuracy: 0.0168\n",
      "Epoch 780/1024\n",
      "19/19 [==============================] - 13s 708ms/step - loss: 0.0043 - accuracy: 0.9992 - val_loss: 20.5508 - val_accuracy: 0.0169\n",
      "Epoch 781/1024\n",
      "19/19 [==============================] - 14s 717ms/step - loss: 0.0050 - accuracy: 0.9990 - val_loss: 20.4848 - val_accuracy: 0.0184\n",
      "Epoch 782/1024\n",
      "19/19 [==============================] - 14s 717ms/step - loss: 0.0049 - accuracy: 0.9990 - val_loss: 20.4571 - val_accuracy: 0.0182\n",
      "Epoch 783/1024\n",
      "19/19 [==============================] - 13s 708ms/step - loss: 0.0047 - accuracy: 0.9992 - val_loss: 20.5316 - val_accuracy: 0.0171\n",
      "Epoch 784/1024\n",
      "19/19 [==============================] - 13s 706ms/step - loss: 0.0047 - accuracy: 0.9992 - val_loss: 20.4575 - val_accuracy: 0.0167\n",
      "Epoch 785/1024\n",
      "19/19 [==============================] - 13s 706ms/step - loss: 0.0049 - accuracy: 0.9992 - val_loss: 20.5313 - val_accuracy: 0.0162\n",
      "Epoch 786/1024\n",
      "19/19 [==============================] - 13s 706ms/step - loss: 0.0044 - accuracy: 0.9991 - val_loss: 20.4786 - val_accuracy: 0.0171\n",
      "Epoch 787/1024\n",
      "19/19 [==============================] - 13s 707ms/step - loss: 0.0047 - accuracy: 0.9990 - val_loss: 20.4029 - val_accuracy: 0.0174\n",
      "Epoch 788/1024\n",
      "19/19 [==============================] - 13s 707ms/step - loss: 0.0049 - accuracy: 0.9991 - val_loss: 20.3584 - val_accuracy: 0.0170\n",
      "Epoch 789/1024\n",
      "19/19 [==============================] - 13s 707ms/step - loss: 0.0052 - accuracy: 0.9990 - val_loss: 20.4011 - val_accuracy: 0.0164\n",
      "Epoch 790/1024\n",
      "19/19 [==============================] - 13s 708ms/step - loss: 0.0045 - accuracy: 0.9992 - val_loss: 20.4389 - val_accuracy: 0.0160\n",
      "Epoch 791/1024\n",
      "19/19 [==============================] - 13s 706ms/step - loss: 0.0043 - accuracy: 0.9993 - val_loss: 20.4338 - val_accuracy: 0.0175\n",
      "Epoch 792/1024\n",
      "19/19 [==============================] - 13s 706ms/step - loss: 0.0048 - accuracy: 0.9991 - val_loss: 20.4234 - val_accuracy: 0.0164\n",
      "Epoch 793/1024\n",
      "19/19 [==============================] - 13s 707ms/step - loss: 0.0044 - accuracy: 0.9992 - val_loss: 20.3621 - val_accuracy: 0.0171\n",
      "Epoch 794/1024\n",
      "19/19 [==============================] - 13s 708ms/step - loss: 0.0055 - accuracy: 0.9991 - val_loss: 20.3879 - val_accuracy: 0.0171\n",
      "Epoch 795/1024\n",
      "19/19 [==============================] - 13s 708ms/step - loss: 0.0047 - accuracy: 0.9991 - val_loss: 20.3739 - val_accuracy: 0.0165\n",
      "Epoch 796/1024\n",
      "19/19 [==============================] - 13s 709ms/step - loss: 0.0046 - accuracy: 0.9992 - val_loss: 20.3555 - val_accuracy: 0.0164\n",
      "Epoch 797/1024\n",
      "19/19 [==============================] - 13s 708ms/step - loss: 0.0045 - accuracy: 0.9991 - val_loss: 20.3263 - val_accuracy: 0.0158\n",
      "Epoch 798/1024\n",
      "19/19 [==============================] - 13s 707ms/step - loss: 0.0053 - accuracy: 0.9991 - val_loss: 20.3788 - val_accuracy: 0.0154\n",
      "Epoch 799/1024\n",
      "19/19 [==============================] - 13s 706ms/step - loss: 0.0051 - accuracy: 0.9991 - val_loss: 20.3063 - val_accuracy: 0.0157\n",
      "Epoch 800/1024\n",
      "19/19 [==============================] - 13s 707ms/step - loss: 0.0050 - accuracy: 0.9991 - val_loss: 20.3584 - val_accuracy: 0.0179\n",
      "Epoch 801/1024\n",
      "19/19 [==============================] - 14s 718ms/step - loss: 0.0049 - accuracy: 0.9991 - val_loss: 20.3251 - val_accuracy: 0.0168\n",
      "Epoch 802/1024\n",
      "19/19 [==============================] - 14s 714ms/step - loss: 0.0051 - accuracy: 0.9991 - val_loss: 20.3545 - val_accuracy: 0.0166\n",
      "Epoch 803/1024\n",
      "19/19 [==============================] - 13s 707ms/step - loss: 0.0051 - accuracy: 0.9989 - val_loss: 20.3435 - val_accuracy: 0.0175\n",
      "Epoch 804/1024\n",
      "19/19 [==============================] - 13s 707ms/step - loss: 0.0056 - accuracy: 0.9989 - val_loss: 20.3930 - val_accuracy: 0.0167\n",
      "Epoch 805/1024\n",
      "19/19 [==============================] - 13s 706ms/step - loss: 0.0066 - accuracy: 0.9989 - val_loss: 20.2540 - val_accuracy: 0.0148\n",
      "Epoch 806/1024\n",
      "19/19 [==============================] - 13s 706ms/step - loss: 0.0056 - accuracy: 0.9991 - val_loss: 20.2216 - val_accuracy: 0.0175\n",
      "Epoch 807/1024\n",
      "19/19 [==============================] - 13s 708ms/step - loss: 0.0049 - accuracy: 0.9991 - val_loss: 20.2537 - val_accuracy: 0.0167\n",
      "Epoch 808/1024\n",
      "19/19 [==============================] - 13s 709ms/step - loss: 0.0044 - accuracy: 0.9992 - val_loss: 20.2440 - val_accuracy: 0.0170\n",
      "Epoch 809/1024\n",
      "19/19 [==============================] - 13s 706ms/step - loss: 0.0050 - accuracy: 0.9991 - val_loss: 20.2216 - val_accuracy: 0.0165\n",
      "Epoch 810/1024\n",
      "19/19 [==============================] - 13s 708ms/step - loss: 0.0053 - accuracy: 0.9991 - val_loss: 20.2306 - val_accuracy: 0.0175\n",
      "Epoch 811/1024\n",
      "19/19 [==============================] - 13s 707ms/step - loss: 0.0051 - accuracy: 0.9990 - val_loss: 20.2108 - val_accuracy: 0.0175\n",
      "Epoch 812/1024\n",
      "19/19 [==============================] - 13s 707ms/step - loss: 0.0044 - accuracy: 0.9992 - val_loss: 20.2432 - val_accuracy: 0.0152\n",
      "Epoch 813/1024\n",
      "19/19 [==============================] - 13s 709ms/step - loss: 0.0051 - accuracy: 0.9991 - val_loss: 20.2430 - val_accuracy: 0.0160\n",
      "Epoch 814/1024\n",
      "19/19 [==============================] - 13s 708ms/step - loss: 0.0048 - accuracy: 0.9991 - val_loss: 20.1901 - val_accuracy: 0.0166\n",
      "Epoch 815/1024\n",
      "19/19 [==============================] - 13s 706ms/step - loss: 0.0045 - accuracy: 0.9992 - val_loss: 20.2490 - val_accuracy: 0.0164\n",
      "Epoch 816/1024\n",
      "19/19 [==============================] - 13s 708ms/step - loss: 0.0054 - accuracy: 0.9990 - val_loss: 20.1677 - val_accuracy: 0.0157\n",
      "Epoch 817/1024\n",
      "19/19 [==============================] - 13s 707ms/step - loss: 0.0046 - accuracy: 0.9993 - val_loss: 20.2425 - val_accuracy: 0.0167\n",
      "Epoch 818/1024\n",
      "19/19 [==============================] - 13s 708ms/step - loss: 0.0051 - accuracy: 0.9990 - val_loss: 20.2162 - val_accuracy: 0.0162\n",
      "Epoch 819/1024\n",
      "19/19 [==============================] - 13s 709ms/step - loss: 0.0048 - accuracy: 0.9991 - val_loss: 20.2673 - val_accuracy: 0.0155\n",
      "Epoch 820/1024\n",
      "19/19 [==============================] - 13s 706ms/step - loss: 0.0049 - accuracy: 0.9991 - val_loss: 20.3083 - val_accuracy: 0.0162\n",
      "Epoch 821/1024\n",
      "19/19 [==============================] - 14s 719ms/step - loss: 0.0063 - accuracy: 0.9990 - val_loss: 20.1277 - val_accuracy: 0.0140\n",
      "Epoch 822/1024\n",
      "19/19 [==============================] - 14s 716ms/step - loss: 0.0079 - accuracy: 0.9988 - val_loss: 20.2301 - val_accuracy: 0.0161\n",
      "Epoch 823/1024\n",
      "19/19 [==============================] - 13s 706ms/step - loss: 0.0063 - accuracy: 0.9988 - val_loss: 20.2860 - val_accuracy: 0.0161\n",
      "Epoch 824/1024\n",
      "19/19 [==============================] - 13s 707ms/step - loss: 0.0058 - accuracy: 0.9991 - val_loss: 20.1309 - val_accuracy: 0.0152\n",
      "Epoch 825/1024\n",
      "19/19 [==============================] - 13s 707ms/step - loss: 0.0048 - accuracy: 0.9993 - val_loss: 20.2388 - val_accuracy: 0.0154\n",
      "Epoch 826/1024\n",
      "19/19 [==============================] - 13s 709ms/step - loss: 0.0054 - accuracy: 0.9989 - val_loss: 20.1124 - val_accuracy: 0.0163\n",
      "Epoch 827/1024\n"
     ]
    },
    {
     "name": "stdout",
     "output_type": "stream",
     "text": [
      "19/19 [==============================] - 13s 709ms/step - loss: 0.0051 - accuracy: 0.9991 - val_loss: 20.1174 - val_accuracy: 0.0154\n",
      "Epoch 828/1024\n",
      "19/19 [==============================] - 13s 708ms/step - loss: 0.0050 - accuracy: 0.9991 - val_loss: 20.1654 - val_accuracy: 0.0152\n",
      "Epoch 829/1024\n",
      "19/19 [==============================] - 13s 707ms/step - loss: 0.0047 - accuracy: 0.9990 - val_loss: 20.1622 - val_accuracy: 0.0151\n",
      "Epoch 830/1024\n",
      "19/19 [==============================] - 13s 709ms/step - loss: 0.0052 - accuracy: 0.9991 - val_loss: 20.2011 - val_accuracy: 0.0172\n",
      "Epoch 831/1024\n",
      "19/19 [==============================] - 13s 709ms/step - loss: 0.0046 - accuracy: 0.9991 - val_loss: 20.1282 - val_accuracy: 0.0161\n",
      "Epoch 832/1024\n",
      "19/19 [==============================] - 13s 706ms/step - loss: 0.0047 - accuracy: 0.9991 - val_loss: 20.1698 - val_accuracy: 0.0154\n",
      "Epoch 833/1024\n",
      "19/19 [==============================] - 13s 707ms/step - loss: 0.0050 - accuracy: 0.9991 - val_loss: 20.1383 - val_accuracy: 0.0148\n",
      "Epoch 834/1024\n",
      "19/19 [==============================] - 13s 707ms/step - loss: 0.0045 - accuracy: 0.9992 - val_loss: 20.1366 - val_accuracy: 0.0144\n",
      "Epoch 835/1024\n",
      "19/19 [==============================] - 13s 707ms/step - loss: 0.0051 - accuracy: 0.9991 - val_loss: 20.1109 - val_accuracy: 0.0151\n",
      "Epoch 836/1024\n",
      "19/19 [==============================] - 13s 707ms/step - loss: 0.0047 - accuracy: 0.9991 - val_loss: 20.0700 - val_accuracy: 0.0151\n",
      "Epoch 837/1024\n",
      "19/19 [==============================] - 13s 707ms/step - loss: 0.0041 - accuracy: 0.9991 - val_loss: 20.1652 - val_accuracy: 0.0143\n",
      "Epoch 838/1024\n",
      "19/19 [==============================] - 13s 706ms/step - loss: 0.0047 - accuracy: 0.9991 - val_loss: 20.0170 - val_accuracy: 0.0146\n",
      "Epoch 839/1024\n",
      "19/19 [==============================] - 13s 707ms/step - loss: 0.0054 - accuracy: 0.9990 - val_loss: 20.1437 - val_accuracy: 0.0150\n",
      "Epoch 840/1024\n",
      "19/19 [==============================] - 13s 709ms/step - loss: 0.0048 - accuracy: 0.9992 - val_loss: 20.0296 - val_accuracy: 0.0155\n",
      "Epoch 841/1024\n",
      "19/19 [==============================] - 14s 719ms/step - loss: 0.0050 - accuracy: 0.9991 - val_loss: 20.1044 - val_accuracy: 0.0143\n",
      "Epoch 842/1024\n",
      "19/19 [==============================] - 14s 718ms/step - loss: 0.0049 - accuracy: 0.9991 - val_loss: 20.0853 - val_accuracy: 0.0137\n",
      "Epoch 843/1024\n",
      "19/19 [==============================] - 13s 707ms/step - loss: 0.0051 - accuracy: 0.9992 - val_loss: 20.1430 - val_accuracy: 0.0135\n",
      "Epoch 844/1024\n",
      "19/19 [==============================] - 13s 706ms/step - loss: 0.0050 - accuracy: 0.9990 - val_loss: 20.0889 - val_accuracy: 0.0130\n",
      "Epoch 845/1024\n",
      "19/19 [==============================] - 13s 709ms/step - loss: 0.0045 - accuracy: 0.9992 - val_loss: 20.0763 - val_accuracy: 0.0130\n",
      "Epoch 846/1024\n",
      "19/19 [==============================] - 13s 707ms/step - loss: 0.0047 - accuracy: 0.9991 - val_loss: 20.0755 - val_accuracy: 0.0132\n",
      "Epoch 847/1024\n",
      "19/19 [==============================] - 13s 707ms/step - loss: 0.0051 - accuracy: 0.9989 - val_loss: 20.0278 - val_accuracy: 0.0140\n",
      "Epoch 848/1024\n",
      "19/19 [==============================] - 13s 707ms/step - loss: 0.0048 - accuracy: 0.9992 - val_loss: 20.0864 - val_accuracy: 0.0132\n",
      "Epoch 849/1024\n",
      "19/19 [==============================] - 13s 707ms/step - loss: 0.0047 - accuracy: 0.9991 - val_loss: 20.1009 - val_accuracy: 0.0142\n",
      "Epoch 850/1024\n",
      "19/19 [==============================] - 13s 708ms/step - loss: 0.0047 - accuracy: 0.9991 - val_loss: 20.1051 - val_accuracy: 0.0131\n",
      "Epoch 851/1024\n",
      "19/19 [==============================] - 13s 708ms/step - loss: 0.0049 - accuracy: 0.9990 - val_loss: 20.0771 - val_accuracy: 0.0135\n",
      "Epoch 852/1024\n",
      "19/19 [==============================] - 13s 708ms/step - loss: 0.0045 - accuracy: 0.9992 - val_loss: 20.1117 - val_accuracy: 0.0135\n",
      "Epoch 853/1024\n",
      "19/19 [==============================] - 13s 708ms/step - loss: 0.0044 - accuracy: 0.9991 - val_loss: 20.0882 - val_accuracy: 0.0141\n",
      "Epoch 854/1024\n",
      "19/19 [==============================] - 13s 708ms/step - loss: 0.0049 - accuracy: 0.9990 - val_loss: 20.0406 - val_accuracy: 0.0135\n",
      "Epoch 855/1024\n",
      "19/19 [==============================] - 13s 704ms/step - loss: 0.0057 - accuracy: 0.9990 - val_loss: 20.1029 - val_accuracy: 0.0124\n",
      "Epoch 856/1024\n",
      "19/19 [==============================] - 13s 702ms/step - loss: 0.0059 - accuracy: 0.9991 - val_loss: 20.0704 - val_accuracy: 0.0119\n",
      "Epoch 857/1024\n",
      "19/19 [==============================] - 13s 704ms/step - loss: 0.0057 - accuracy: 0.9990 - val_loss: 20.0410 - val_accuracy: 0.0129\n",
      "Epoch 858/1024\n",
      "19/19 [==============================] - 13s 704ms/step - loss: 0.0054 - accuracy: 0.9990 - val_loss: 20.0149 - val_accuracy: 0.0132\n",
      "Epoch 859/1024\n",
      "19/19 [==============================] - 13s 703ms/step - loss: 0.0051 - accuracy: 0.9991 - val_loss: 20.0038 - val_accuracy: 0.0124\n",
      "Epoch 860/1024\n",
      "19/19 [==============================] - 13s 704ms/step - loss: 0.0046 - accuracy: 0.9992 - val_loss: 20.0095 - val_accuracy: 0.0130\n",
      "Epoch 861/1024\n",
      "19/19 [==============================] - 14s 714ms/step - loss: 0.0045 - accuracy: 0.9992 - val_loss: 20.0760 - val_accuracy: 0.0137\n",
      "Epoch 862/1024\n",
      "19/19 [==============================] - 14s 713ms/step - loss: 0.0049 - accuracy: 0.9991 - val_loss: 19.9627 - val_accuracy: 0.0145\n",
      "Epoch 863/1024\n",
      "19/19 [==============================] - 13s 704ms/step - loss: 0.0052 - accuracy: 0.9991 - val_loss: 19.9683 - val_accuracy: 0.0135\n",
      "Epoch 864/1024\n",
      "19/19 [==============================] - 13s 703ms/step - loss: 0.0047 - accuracy: 0.9990 - val_loss: 19.9769 - val_accuracy: 0.0142\n",
      "Epoch 865/1024\n",
      "19/19 [==============================] - 13s 704ms/step - loss: 0.0042 - accuracy: 0.9992 - val_loss: 20.0435 - val_accuracy: 0.0128\n",
      "Epoch 866/1024\n",
      "19/19 [==============================] - 13s 705ms/step - loss: 0.0044 - accuracy: 0.9990 - val_loss: 19.9641 - val_accuracy: 0.0131\n",
      "Epoch 867/1024\n",
      "19/19 [==============================] - 13s 703ms/step - loss: 0.0049 - accuracy: 0.9991 - val_loss: 20.0042 - val_accuracy: 0.0143\n",
      "Epoch 868/1024\n",
      "19/19 [==============================] - 13s 703ms/step - loss: 0.0047 - accuracy: 0.9992 - val_loss: 19.9378 - val_accuracy: 0.0137\n",
      "Epoch 869/1024\n",
      "19/19 [==============================] - 13s 703ms/step - loss: 0.0045 - accuracy: 0.9992 - val_loss: 19.9651 - val_accuracy: 0.0131\n",
      "Epoch 870/1024\n",
      "19/19 [==============================] - 13s 704ms/step - loss: 0.0040 - accuracy: 0.9992 - val_loss: 19.9797 - val_accuracy: 0.0115\n",
      "Epoch 871/1024\n",
      "19/19 [==============================] - 13s 704ms/step - loss: 0.0045 - accuracy: 0.9991 - val_loss: 20.0521 - val_accuracy: 0.0131\n",
      "Epoch 872/1024\n",
      "19/19 [==============================] - 13s 704ms/step - loss: 0.0048 - accuracy: 0.9990 - val_loss: 19.9673 - val_accuracy: 0.0140\n",
      "Epoch 873/1024\n",
      "19/19 [==============================] - 13s 704ms/step - loss: 0.0041 - accuracy: 0.9993 - val_loss: 20.0175 - val_accuracy: 0.0119\n",
      "Epoch 874/1024\n",
      "19/19 [==============================] - 13s 705ms/step - loss: 0.0053 - accuracy: 0.9990 - val_loss: 20.0386 - val_accuracy: 0.0128\n",
      "Epoch 875/1024\n",
      "19/19 [==============================] - 13s 703ms/step - loss: 0.0048 - accuracy: 0.9990 - val_loss: 19.9480 - val_accuracy: 0.0134\n",
      "Epoch 876/1024\n",
      "19/19 [==============================] - 13s 704ms/step - loss: 0.0047 - accuracy: 0.9991 - val_loss: 19.9097 - val_accuracy: 0.0137\n",
      "Epoch 877/1024\n",
      "19/19 [==============================] - 13s 705ms/step - loss: 0.0045 - accuracy: 0.9991 - val_loss: 19.9767 - val_accuracy: 0.0134\n",
      "Epoch 878/1024\n",
      "19/19 [==============================] - 13s 704ms/step - loss: 0.0045 - accuracy: 0.9991 - val_loss: 19.9955 - val_accuracy: 0.0131\n",
      "Epoch 879/1024\n",
      "19/19 [==============================] - 13s 704ms/step - loss: 0.0045 - accuracy: 0.9992 - val_loss: 20.1033 - val_accuracy: 0.0127\n",
      "Epoch 880/1024\n",
      "19/19 [==============================] - 13s 704ms/step - loss: 0.0044 - accuracy: 0.9992 - val_loss: 19.9230 - val_accuracy: 0.0137\n",
      "Epoch 881/1024\n",
      "19/19 [==============================] - 14s 714ms/step - loss: 0.0052 - accuracy: 0.9991 - val_loss: 20.0039 - val_accuracy: 0.0131\n",
      "Epoch 882/1024\n",
      "19/19 [==============================] - 14s 714ms/step - loss: 0.0051 - accuracy: 0.9990 - val_loss: 19.9905 - val_accuracy: 0.0125\n",
      "Epoch 883/1024\n",
      "19/19 [==============================] - 13s 703ms/step - loss: 0.0048 - accuracy: 0.9991 - val_loss: 19.8996 - val_accuracy: 0.0133\n",
      "Epoch 884/1024\n",
      "19/19 [==============================] - 13s 704ms/step - loss: 0.0045 - accuracy: 0.9992 - val_loss: 19.9671 - val_accuracy: 0.0126\n",
      "Epoch 885/1024\n",
      "19/19 [==============================] - 13s 703ms/step - loss: 0.0046 - accuracy: 0.9991 - val_loss: 19.9247 - val_accuracy: 0.0128\n",
      "Epoch 886/1024\n",
      "19/19 [==============================] - 13s 704ms/step - loss: 0.0047 - accuracy: 0.9991 - val_loss: 19.8598 - val_accuracy: 0.0124\n",
      "Epoch 887/1024\n",
      "19/19 [==============================] - 13s 704ms/step - loss: 0.0043 - accuracy: 0.9992 - val_loss: 19.9037 - val_accuracy: 0.0127\n",
      "Epoch 888/1024\n",
      "19/19 [==============================] - 13s 704ms/step - loss: 0.0051 - accuracy: 0.9990 - val_loss: 19.8716 - val_accuracy: 0.0129\n",
      "Epoch 889/1024\n",
      "19/19 [==============================] - 13s 706ms/step - loss: 0.0043 - accuracy: 0.9992 - val_loss: 19.9046 - val_accuracy: 0.0107\n",
      "Epoch 890/1024\n",
      "19/19 [==============================] - 13s 704ms/step - loss: 0.0050 - accuracy: 0.9991 - val_loss: 19.9077 - val_accuracy: 0.0132\n",
      "Epoch 891/1024\n",
      "19/19 [==============================] - 13s 703ms/step - loss: 0.0049 - accuracy: 0.9990 - val_loss: 19.9167 - val_accuracy: 0.0122\n",
      "Epoch 892/1024\n",
      "19/19 [==============================] - 13s 703ms/step - loss: 0.0049 - accuracy: 0.9992 - val_loss: 19.8647 - val_accuracy: 0.0123\n",
      "Epoch 893/1024\n",
      "19/19 [==============================] - 13s 705ms/step - loss: 0.0039 - accuracy: 0.9993 - val_loss: 19.9259 - val_accuracy: 0.0126\n",
      "Epoch 894/1024\n",
      "19/19 [==============================] - 13s 704ms/step - loss: 0.0045 - accuracy: 0.9992 - val_loss: 19.8885 - val_accuracy: 0.0133\n",
      "Epoch 895/1024\n",
      "19/19 [==============================] - 13s 705ms/step - loss: 0.0043 - accuracy: 0.9991 - val_loss: 19.8252 - val_accuracy: 0.0130\n",
      "Epoch 896/1024\n",
      "19/19 [==============================] - 13s 704ms/step - loss: 0.0045 - accuracy: 0.9991 - val_loss: 19.8484 - val_accuracy: 0.0132\n",
      "Epoch 897/1024\n",
      "19/19 [==============================] - 13s 704ms/step - loss: 0.0045 - accuracy: 0.9992 - val_loss: 19.8642 - val_accuracy: 0.0132\n",
      "Epoch 898/1024\n",
      "19/19 [==============================] - 13s 704ms/step - loss: 0.0050 - accuracy: 0.9991 - val_loss: 19.8879 - val_accuracy: 0.0126\n",
      "Epoch 899/1024\n",
      "19/19 [==============================] - 13s 701ms/step - loss: 0.0051 - accuracy: 0.9990 - val_loss: 19.8671 - val_accuracy: 0.0133\n",
      "Epoch 900/1024\n",
      "19/19 [==============================] - 13s 702ms/step - loss: 0.0051 - accuracy: 0.9990 - val_loss: 19.8456 - val_accuracy: 0.0125\n",
      "Epoch 901/1024\n",
      "19/19 [==============================] - 14s 712ms/step - loss: 0.0046 - accuracy: 0.9991 - val_loss: 19.8239 - val_accuracy: 0.0128\n",
      "Epoch 902/1024\n",
      "19/19 [==============================] - 14s 712ms/step - loss: 0.0048 - accuracy: 0.9991 - val_loss: 19.9283 - val_accuracy: 0.0129\n",
      "Epoch 903/1024\n",
      "19/19 [==============================] - 13s 704ms/step - loss: 0.0046 - accuracy: 0.9991 - val_loss: 19.9277 - val_accuracy: 0.0126\n",
      "Epoch 904/1024\n",
      "19/19 [==============================] - 13s 704ms/step - loss: 0.0050 - accuracy: 0.9991 - val_loss: 19.8145 - val_accuracy: 0.0131\n",
      "Epoch 905/1024\n",
      "19/19 [==============================] - 13s 703ms/step - loss: 0.0043 - accuracy: 0.9991 - val_loss: 19.8357 - val_accuracy: 0.0121\n",
      "Epoch 906/1024\n",
      "19/19 [==============================] - 13s 703ms/step - loss: 0.0046 - accuracy: 0.9992 - val_loss: 19.8812 - val_accuracy: 0.0137\n",
      "Epoch 907/1024\n",
      "19/19 [==============================] - 13s 702ms/step - loss: 0.0045 - accuracy: 0.9991 - val_loss: 19.8776 - val_accuracy: 0.0114\n",
      "Epoch 908/1024\n",
      "19/19 [==============================] - 13s 703ms/step - loss: 0.0051 - accuracy: 0.9990 - val_loss: 19.7691 - val_accuracy: 0.0125\n",
      "Epoch 909/1024\n",
      "19/19 [==============================] - 13s 703ms/step - loss: 0.0053 - accuracy: 0.9990 - val_loss: 19.8476 - val_accuracy: 0.0132\n",
      "Epoch 910/1024\n",
      "19/19 [==============================] - 13s 704ms/step - loss: 0.0053 - accuracy: 0.9990 - val_loss: 19.8169 - val_accuracy: 0.0113\n",
      "Epoch 911/1024\n",
      "19/19 [==============================] - 13s 704ms/step - loss: 0.0049 - accuracy: 0.9990 - val_loss: 19.7474 - val_accuracy: 0.0135\n",
      "Epoch 912/1024\n",
      "19/19 [==============================] - 13s 703ms/step - loss: 0.0047 - accuracy: 0.9990 - val_loss: 19.7515 - val_accuracy: 0.0130\n",
      "Epoch 913/1024\n",
      "19/19 [==============================] - 14s 729ms/step - loss: 0.0048 - accuracy: 0.9991 - val_loss: 19.7861 - val_accuracy: 0.0124\n",
      "Epoch 914/1024\n",
      "19/19 [==============================] - 13s 704ms/step - loss: 0.0053 - accuracy: 0.9990 - val_loss: 19.7404 - val_accuracy: 0.0133\n",
      "Epoch 915/1024\n",
      "19/19 [==============================] - 13s 705ms/step - loss: 0.0047 - accuracy: 0.9992 - val_loss: 19.8052 - val_accuracy: 0.0132\n",
      "Epoch 916/1024\n",
      "19/19 [==============================] - 13s 703ms/step - loss: 0.0047 - accuracy: 0.9991 - val_loss: 19.7657 - val_accuracy: 0.0125\n",
      "Epoch 917/1024\n",
      "19/19 [==============================] - 13s 703ms/step - loss: 0.0044 - accuracy: 0.9992 - val_loss: 19.7609 - val_accuracy: 0.0121\n",
      "Epoch 918/1024\n",
      "19/19 [==============================] - 13s 703ms/step - loss: 0.0047 - accuracy: 0.9991 - val_loss: 19.7233 - val_accuracy: 0.0116\n",
      "Epoch 919/1024\n",
      "19/19 [==============================] - 13s 702ms/step - loss: 0.0047 - accuracy: 0.9992 - val_loss: 19.7003 - val_accuracy: 0.0126\n",
      "Epoch 920/1024\n",
      "19/19 [==============================] - 13s 704ms/step - loss: 0.0048 - accuracy: 0.9992 - val_loss: 19.7163 - val_accuracy: 0.0123\n",
      "Epoch 921/1024\n",
      "19/19 [==============================] - 14s 713ms/step - loss: 0.0049 - accuracy: 0.9990 - val_loss: 19.7494 - val_accuracy: 0.0129\n",
      "Epoch 922/1024\n",
      "19/19 [==============================] - 14s 713ms/step - loss: 0.0050 - accuracy: 0.9990 - val_loss: 19.7305 - val_accuracy: 0.0124\n",
      "Epoch 923/1024\n",
      "19/19 [==============================] - 13s 703ms/step - loss: 0.0048 - accuracy: 0.9992 - val_loss: 19.7652 - val_accuracy: 0.0123\n",
      "Epoch 924/1024\n",
      "19/19 [==============================] - 13s 704ms/step - loss: 0.0048 - accuracy: 0.9992 - val_loss: 19.7279 - val_accuracy: 0.0130\n",
      "Epoch 925/1024\n",
      "19/19 [==============================] - 13s 702ms/step - loss: 0.0046 - accuracy: 0.9991 - val_loss: 19.7741 - val_accuracy: 0.0124\n",
      "Epoch 926/1024\n",
      "19/19 [==============================] - 13s 703ms/step - loss: 0.0044 - accuracy: 0.9992 - val_loss: 19.6901 - val_accuracy: 0.0126\n",
      "Epoch 927/1024\n",
      "19/19 [==============================] - 13s 703ms/step - loss: 0.0047 - accuracy: 0.9990 - val_loss: 19.6390 - val_accuracy: 0.0110\n",
      "Epoch 928/1024\n",
      "19/19 [==============================] - 13s 702ms/step - loss: 0.0048 - accuracy: 0.9991 - val_loss: 19.7425 - val_accuracy: 0.0125\n",
      "Epoch 929/1024\n",
      "19/19 [==============================] - 13s 703ms/step - loss: 0.0045 - accuracy: 0.9992 - val_loss: 19.6547 - val_accuracy: 0.0116\n",
      "Epoch 930/1024\n",
      "19/19 [==============================] - 13s 703ms/step - loss: 0.0048 - accuracy: 0.9990 - val_loss: 19.6558 - val_accuracy: 0.0124\n",
      "Epoch 931/1024\n",
      "19/19 [==============================] - 13s 703ms/step - loss: 0.0046 - accuracy: 0.9991 - val_loss: 19.7244 - val_accuracy: 0.0120\n",
      "Epoch 932/1024\n",
      "19/19 [==============================] - 13s 703ms/step - loss: 0.0043 - accuracy: 0.9991 - val_loss: 19.7004 - val_accuracy: 0.0117\n",
      "Epoch 933/1024\n",
      "19/19 [==============================] - 13s 703ms/step - loss: 0.0046 - accuracy: 0.9991 - val_loss: 19.7683 - val_accuracy: 0.0134\n",
      "Epoch 934/1024\n",
      "19/19 [==============================] - 13s 704ms/step - loss: 0.0047 - accuracy: 0.9990 - val_loss: 19.6543 - val_accuracy: 0.0126\n",
      "Epoch 935/1024\n",
      "19/19 [==============================] - 13s 703ms/step - loss: 0.0045 - accuracy: 0.9992 - val_loss: 19.6647 - val_accuracy: 0.0137\n",
      "Epoch 936/1024\n",
      "19/19 [==============================] - 13s 702ms/step - loss: 0.0047 - accuracy: 0.9991 - val_loss: 19.6986 - val_accuracy: 0.0120\n",
      "Epoch 937/1024\n"
     ]
    },
    {
     "name": "stdout",
     "output_type": "stream",
     "text": [
      "19/19 [==============================] - 13s 704ms/step - loss: 0.0042 - accuracy: 0.9992 - val_loss: 19.6273 - val_accuracy: 0.0123\n",
      "Epoch 938/1024\n",
      "19/19 [==============================] - 13s 703ms/step - loss: 0.0040 - accuracy: 0.9991 - val_loss: 19.6973 - val_accuracy: 0.0113\n",
      "Epoch 939/1024\n",
      "19/19 [==============================] - 13s 704ms/step - loss: 0.0041 - accuracy: 0.9992 - val_loss: 19.7130 - val_accuracy: 0.0122\n",
      "Epoch 940/1024\n",
      "19/19 [==============================] - 13s 704ms/step - loss: 0.0050 - accuracy: 0.9991 - val_loss: 19.6775 - val_accuracy: 0.0125\n",
      "Epoch 941/1024\n",
      "19/19 [==============================] - 14s 713ms/step - loss: 0.0045 - accuracy: 0.9990 - val_loss: 19.7405 - val_accuracy: 0.0116\n",
      "Epoch 942/1024\n",
      "19/19 [==============================] - 14s 712ms/step - loss: 0.0043 - accuracy: 0.9991 - val_loss: 19.6479 - val_accuracy: 0.0115\n",
      "Epoch 943/1024\n",
      "19/19 [==============================] - 14s 726ms/step - loss: 0.0045 - accuracy: 0.9991 - val_loss: 19.6324 - val_accuracy: 0.0120\n",
      "Epoch 944/1024\n",
      "19/19 [==============================] - 13s 703ms/step - loss: 0.0044 - accuracy: 0.9992 - val_loss: 19.6665 - val_accuracy: 0.0116\n",
      "Epoch 945/1024\n",
      "19/19 [==============================] - 13s 703ms/step - loss: 0.0043 - accuracy: 0.9991 - val_loss: 19.6715 - val_accuracy: 0.0099\n",
      "Epoch 946/1024\n",
      "19/19 [==============================] - 13s 703ms/step - loss: 0.0045 - accuracy: 0.9992 - val_loss: 19.6786 - val_accuracy: 0.0109\n",
      "Epoch 947/1024\n",
      "19/19 [==============================] - 13s 703ms/step - loss: 0.0049 - accuracy: 0.9990 - val_loss: 19.6538 - val_accuracy: 0.0115\n",
      "Epoch 948/1024\n",
      "19/19 [==============================] - 13s 704ms/step - loss: 0.0048 - accuracy: 0.9992 - val_loss: 19.5975 - val_accuracy: 0.0123\n",
      "Epoch 949/1024\n",
      "19/19 [==============================] - 13s 703ms/step - loss: 0.0049 - accuracy: 0.9991 - val_loss: 19.5920 - val_accuracy: 0.0118\n",
      "Epoch 950/1024\n",
      "19/19 [==============================] - 13s 703ms/step - loss: 0.0045 - accuracy: 0.9991 - val_loss: 19.5355 - val_accuracy: 0.0119\n",
      "Epoch 951/1024\n",
      "19/19 [==============================] - 13s 705ms/step - loss: 0.0044 - accuracy: 0.9992 - val_loss: 19.5901 - val_accuracy: 0.0112\n",
      "Epoch 952/1024\n",
      "19/19 [==============================] - 13s 704ms/step - loss: 0.0040 - accuracy: 0.9993 - val_loss: 19.5682 - val_accuracy: 0.0111\n",
      "Epoch 953/1024\n",
      "19/19 [==============================] - 13s 704ms/step - loss: 0.0044 - accuracy: 0.9991 - val_loss: 19.6837 - val_accuracy: 0.0112\n",
      "Epoch 954/1024\n",
      "19/19 [==============================] - 13s 703ms/step - loss: 0.0047 - accuracy: 0.9990 - val_loss: 19.6752 - val_accuracy: 0.0123\n",
      "Epoch 955/1024\n",
      "19/19 [==============================] - 13s 702ms/step - loss: 0.0059 - accuracy: 0.9990 - val_loss: 19.5747 - val_accuracy: 0.0128\n",
      "Epoch 956/1024\n",
      "19/19 [==============================] - 13s 704ms/step - loss: 0.0048 - accuracy: 0.9990 - val_loss: 19.5553 - val_accuracy: 0.0127\n",
      "Epoch 957/1024\n",
      "19/19 [==============================] - 13s 702ms/step - loss: 0.0046 - accuracy: 0.9992 - val_loss: 19.5193 - val_accuracy: 0.0115\n",
      "Epoch 958/1024\n",
      "19/19 [==============================] - 13s 703ms/step - loss: 0.0045 - accuracy: 0.9991 - val_loss: 19.5525 - val_accuracy: 0.0115\n",
      "Epoch 959/1024\n",
      "19/19 [==============================] - 13s 705ms/step - loss: 0.0048 - accuracy: 0.9992 - val_loss: 19.5123 - val_accuracy: 0.0120\n",
      "Epoch 960/1024\n",
      "19/19 [==============================] - 13s 703ms/step - loss: 0.0042 - accuracy: 0.9993 - val_loss: 19.6141 - val_accuracy: 0.0117\n",
      "Epoch 961/1024\n",
      "19/19 [==============================] - 14s 714ms/step - loss: 0.0042 - accuracy: 0.9991 - val_loss: 19.5231 - val_accuracy: 0.0113\n",
      "Epoch 962/1024\n",
      "19/19 [==============================] - 14s 712ms/step - loss: 0.0043 - accuracy: 0.9991 - val_loss: 19.4549 - val_accuracy: 0.0117\n",
      "Epoch 963/1024\n",
      "19/19 [==============================] - 13s 702ms/step - loss: 0.0050 - accuracy: 0.9990 - val_loss: 19.4477 - val_accuracy: 0.0118\n",
      "Epoch 964/1024\n",
      "19/19 [==============================] - 13s 703ms/step - loss: 0.0046 - accuracy: 0.9991 - val_loss: 19.4808 - val_accuracy: 0.0118\n",
      "Epoch 965/1024\n",
      "19/19 [==============================] - 13s 704ms/step - loss: 0.0039 - accuracy: 0.9992 - val_loss: 19.5217 - val_accuracy: 0.0105\n",
      "Epoch 966/1024\n",
      "19/19 [==============================] - 13s 703ms/step - loss: 0.0051 - accuracy: 0.9989 - val_loss: 19.5798 - val_accuracy: 0.0108\n",
      "Epoch 967/1024\n",
      "19/19 [==============================] - 13s 703ms/step - loss: 0.0045 - accuracy: 0.9990 - val_loss: 19.5666 - val_accuracy: 0.0113\n",
      "Epoch 968/1024\n",
      "19/19 [==============================] - 13s 703ms/step - loss: 0.0045 - accuracy: 0.9991 - val_loss: 19.5652 - val_accuracy: 0.0115\n",
      "Epoch 969/1024\n",
      "19/19 [==============================] - 13s 703ms/step - loss: 0.0049 - accuracy: 0.9991 - val_loss: 19.5579 - val_accuracy: 0.0110\n",
      "Epoch 970/1024\n",
      "19/19 [==============================] - 13s 705ms/step - loss: 0.0046 - accuracy: 0.9991 - val_loss: 19.5950 - val_accuracy: 0.0111\n",
      "Epoch 971/1024\n",
      "19/19 [==============================] - 13s 702ms/step - loss: 0.0047 - accuracy: 0.9992 - val_loss: 19.6283 - val_accuracy: 0.0113\n",
      "Epoch 972/1024\n",
      "19/19 [==============================] - 13s 703ms/step - loss: 0.0047 - accuracy: 0.9991 - val_loss: 19.5673 - val_accuracy: 0.0113\n",
      "Epoch 973/1024\n",
      "19/19 [==============================] - 13s 702ms/step - loss: 0.0046 - accuracy: 0.9991 - val_loss: 19.6299 - val_accuracy: 0.0125\n",
      "Epoch 974/1024\n",
      "19/19 [==============================] - 13s 703ms/step - loss: 0.0044 - accuracy: 0.9991 - val_loss: 19.5968 - val_accuracy: 0.0117\n",
      "Epoch 975/1024\n",
      "19/19 [==============================] - 13s 702ms/step - loss: 0.0047 - accuracy: 0.9990 - val_loss: 19.5039 - val_accuracy: 0.0112\n",
      "Epoch 976/1024\n",
      "19/19 [==============================] - 13s 703ms/step - loss: 0.0054 - accuracy: 0.9991 - val_loss: 19.5495 - val_accuracy: 0.0116\n",
      "Epoch 977/1024\n",
      "19/19 [==============================] - 13s 703ms/step - loss: 0.0051 - accuracy: 0.9990 - val_loss: 19.4894 - val_accuracy: 0.0114\n",
      "Epoch 978/1024\n",
      "19/19 [==============================] - 13s 703ms/step - loss: 0.0050 - accuracy: 0.9990 - val_loss: 19.4901 - val_accuracy: 0.0115\n",
      "Epoch 979/1024\n",
      "19/19 [==============================] - 13s 704ms/step - loss: 0.0052 - accuracy: 0.9991 - val_loss: 19.5147 - val_accuracy: 0.0118\n",
      "Epoch 980/1024\n",
      "19/19 [==============================] - 13s 704ms/step - loss: 0.0046 - accuracy: 0.9991 - val_loss: 19.5697 - val_accuracy: 0.0117\n",
      "Epoch 981/1024\n",
      "19/19 [==============================] - 14s 714ms/step - loss: 0.0048 - accuracy: 0.9991 - val_loss: 19.5168 - val_accuracy: 0.0107\n",
      "Epoch 982/1024\n",
      "19/19 [==============================] - 14s 713ms/step - loss: 0.0050 - accuracy: 0.9990 - val_loss: 19.5011 - val_accuracy: 0.0106\n",
      "Epoch 983/1024\n",
      "19/19 [==============================] - 13s 704ms/step - loss: 0.0046 - accuracy: 0.9992 - val_loss: 19.5271 - val_accuracy: 0.0113\n",
      "Epoch 984/1024\n",
      "19/19 [==============================] - 13s 704ms/step - loss: 0.0049 - accuracy: 0.9991 - val_loss: 19.5202 - val_accuracy: 0.0111\n",
      "Epoch 985/1024\n",
      "19/19 [==============================] - 13s 704ms/step - loss: 0.0045 - accuracy: 0.9992 - val_loss: 19.4875 - val_accuracy: 0.0106\n",
      "Epoch 986/1024\n",
      "19/19 [==============================] - 13s 703ms/step - loss: 0.0044 - accuracy: 0.9991 - val_loss: 19.4848 - val_accuracy: 0.0109\n",
      "Epoch 987/1024\n",
      "19/19 [==============================] - 13s 703ms/step - loss: 0.0041 - accuracy: 0.9991 - val_loss: 19.5172 - val_accuracy: 0.0095\n",
      "Epoch 988/1024\n",
      "19/19 [==============================] - 13s 704ms/step - loss: 0.0046 - accuracy: 0.9991 - val_loss: 19.4206 - val_accuracy: 0.0103\n",
      "Epoch 989/1024\n",
      "19/19 [==============================] - 13s 704ms/step - loss: 0.0045 - accuracy: 0.9991 - val_loss: 19.4281 - val_accuracy: 0.0106\n",
      "Epoch 990/1024\n",
      "19/19 [==============================] - 13s 703ms/step - loss: 0.0043 - accuracy: 0.9991 - val_loss: 19.4520 - val_accuracy: 0.0103\n",
      "Epoch 991/1024\n",
      "19/19 [==============================] - 13s 703ms/step - loss: 0.0042 - accuracy: 0.9991 - val_loss: 19.4511 - val_accuracy: 0.0103\n",
      "Epoch 992/1024\n",
      "19/19 [==============================] - 13s 703ms/step - loss: 0.0051 - accuracy: 0.9989 - val_loss: 19.5115 - val_accuracy: 0.0104\n",
      "Epoch 993/1024\n",
      "19/19 [==============================] - 13s 702ms/step - loss: 0.0049 - accuracy: 0.9990 - val_loss: 19.4129 - val_accuracy: 0.0109\n",
      "Epoch 994/1024\n",
      "19/19 [==============================] - 13s 703ms/step - loss: 0.0051 - accuracy: 0.9990 - val_loss: 19.4236 - val_accuracy: 0.0105\n",
      "Epoch 995/1024\n",
      "19/19 [==============================] - 13s 704ms/step - loss: 0.0046 - accuracy: 0.9991 - val_loss: 19.4514 - val_accuracy: 0.0108\n",
      "Epoch 996/1024\n",
      "19/19 [==============================] - 13s 702ms/step - loss: 0.0044 - accuracy: 0.9992 - val_loss: 19.4973 - val_accuracy: 0.0111\n",
      "Epoch 997/1024\n",
      "19/19 [==============================] - 13s 703ms/step - loss: 0.0053 - accuracy: 0.9990 - val_loss: 19.5126 - val_accuracy: 0.0104\n",
      "Epoch 998/1024\n",
      "19/19 [==============================] - 13s 702ms/step - loss: 0.0044 - accuracy: 0.9990 - val_loss: 19.4212 - val_accuracy: 0.0102\n",
      "Epoch 999/1024\n",
      "19/19 [==============================] - 13s 705ms/step - loss: 0.0047 - accuracy: 0.9991 - val_loss: 19.3493 - val_accuracy: 0.0108\n",
      "Epoch 1000/1024\n",
      "19/19 [==============================] - 13s 704ms/step - loss: 0.0050 - accuracy: 0.9991 - val_loss: 19.3521 - val_accuracy: 0.0112\n",
      "Epoch 1001/1024\n",
      "19/19 [==============================] - 14s 713ms/step - loss: 0.0046 - accuracy: 0.9991 - val_loss: 19.4773 - val_accuracy: 0.0092\n",
      "Epoch 1002/1024\n",
      "19/19 [==============================] - 14s 713ms/step - loss: 0.0046 - accuracy: 0.9991 - val_loss: 19.3250 - val_accuracy: 0.0105\n",
      "Epoch 1003/1024\n",
      "19/19 [==============================] - 13s 703ms/step - loss: 0.0045 - accuracy: 0.9991 - val_loss: 19.4163 - val_accuracy: 0.0103\n",
      "Epoch 1004/1024\n",
      "19/19 [==============================] - 13s 703ms/step - loss: 0.0046 - accuracy: 0.9991 - val_loss: 19.4403 - val_accuracy: 0.0100\n",
      "Epoch 1005/1024\n",
      "19/19 [==============================] - 13s 703ms/step - loss: 0.0040 - accuracy: 0.9992 - val_loss: 19.3946 - val_accuracy: 0.0102\n",
      "Epoch 1006/1024\n",
      "19/19 [==============================] - 13s 703ms/step - loss: 0.0039 - accuracy: 0.9993 - val_loss: 19.4065 - val_accuracy: 0.0108\n",
      "Epoch 1007/1024\n",
      "19/19 [==============================] - 13s 704ms/step - loss: 0.0048 - accuracy: 0.9990 - val_loss: 19.3918 - val_accuracy: 0.0108\n",
      "Epoch 1008/1024\n",
      "19/19 [==============================] - 13s 702ms/step - loss: 0.0047 - accuracy: 0.9991 - val_loss: 19.4410 - val_accuracy: 0.0104\n",
      "Epoch 1009/1024\n",
      "19/19 [==============================] - 13s 703ms/step - loss: 0.0041 - accuracy: 0.9991 - val_loss: 19.3669 - val_accuracy: 0.0111\n",
      "Epoch 1010/1024\n",
      "19/19 [==============================] - 13s 702ms/step - loss: 0.0042 - accuracy: 0.9991 - val_loss: 19.3096 - val_accuracy: 0.0111\n",
      "Epoch 1011/1024\n",
      "19/19 [==============================] - 13s 703ms/step - loss: 0.0043 - accuracy: 0.9991 - val_loss: 19.3496 - val_accuracy: 0.0099\n",
      "Epoch 1012/1024\n",
      "19/19 [==============================] - 13s 703ms/step - loss: 0.0037 - accuracy: 0.9992 - val_loss: 19.4068 - val_accuracy: 0.0105\n",
      "Epoch 1013/1024\n",
      "19/19 [==============================] - 13s 705ms/step - loss: 0.0040 - accuracy: 0.9992 - val_loss: 19.3442 - val_accuracy: 0.0102\n",
      "Epoch 1014/1024\n",
      "19/19 [==============================] - 13s 704ms/step - loss: 0.0039 - accuracy: 0.9992 - val_loss: 19.3648 - val_accuracy: 0.0102\n",
      "Epoch 1015/1024\n",
      "19/19 [==============================] - 13s 703ms/step - loss: 0.0044 - accuracy: 0.9991 - val_loss: 19.3206 - val_accuracy: 0.0096\n",
      "Epoch 1016/1024\n",
      "19/19 [==============================] - 13s 703ms/step - loss: 0.0046 - accuracy: 0.9991 - val_loss: 19.3900 - val_accuracy: 0.0108\n",
      "Epoch 1017/1024\n",
      "19/19 [==============================] - 13s 704ms/step - loss: 0.0045 - accuracy: 0.9991 - val_loss: 19.4052 - val_accuracy: 0.0100\n",
      "Epoch 1018/1024\n",
      "19/19 [==============================] - 13s 703ms/step - loss: 0.0043 - accuracy: 0.9991 - val_loss: 19.3880 - val_accuracy: 0.0098\n",
      "Epoch 1019/1024\n",
      "19/19 [==============================] - 13s 703ms/step - loss: 0.0042 - accuracy: 0.9991 - val_loss: 19.3294 - val_accuracy: 0.0095\n",
      "Epoch 1020/1024\n",
      "19/19 [==============================] - 13s 703ms/step - loss: 0.0040 - accuracy: 0.9993 - val_loss: 19.3062 - val_accuracy: 0.0107\n",
      "Epoch 1021/1024\n",
      "19/19 [==============================] - 14s 713ms/step - loss: 0.0040 - accuracy: 0.9991 - val_loss: 19.3889 - val_accuracy: 0.0106\n",
      "Epoch 1022/1024\n",
      "19/19 [==============================] - 14s 713ms/step - loss: 0.0043 - accuracy: 0.9992 - val_loss: 19.2345 - val_accuracy: 0.0085\n",
      "Epoch 1023/1024\n",
      "19/19 [==============================] - 13s 704ms/step - loss: 0.0047 - accuracy: 0.9990 - val_loss: 19.4154 - val_accuracy: 0.0100\n",
      "Epoch 1024/1024\n",
      "19/19 [==============================] - 13s 702ms/step - loss: 0.0045 - accuracy: 0.9991 - val_loss: 19.3598 - val_accuracy: 0.0094\n",
      "CPU times: user 2h 30min 18s, sys: 20min 54s, total: 2h 51min 12s\n",
      "Wall time: 4h 21s\n"
     ]
    }
   ],
   "source": [
    "%%time\n",
    "import kashgari\n",
    "from kashgari.tasks.labeling import BiLSTM_CRF_Model\n",
    "from kashgari.embeddings import BertEmbedding\n",
    "kashgari.config.use_cudnn_cell = True\n",
    "bert_embedding = BertEmbedding(embedding_path, \n",
    "                           sequence_length='auto',\n",
    "                           trainable=True,\n",
    "                           task='kashgari.LABELING', \n",
    "                          )\n",
    "model = BiLSTM_CRF_Model(bert_embedding)\n",
    "history = model.fit(train_x,\n",
    "                    train_y,\n",
    "                    valid_x,\n",
    "                    valid_y,\n",
    "                    epochs=epochs,\n",
    "                    batch_size=batch_size,\n",
    "                   )"
   ]
  },
  {
   "cell_type": "code",
   "execution_count": 14,
   "metadata": {},
   "outputs": [
    {
     "name": "stderr",
     "output_type": "stream",
     "text": [
      "2020-12-15 19:26:59,624 [WARNING] kashgari - Sequence length is None, will use the max length of the samples, which is 102\n",
      "2020-12-15 19:26:59,676 [DEBUG] kashgari - predict seq_length: None, input: (2, 6305, 102)\n"
     ]
    },
    {
     "name": "stdout",
     "output_type": "stream",
     "text": [
      "198/198 [==============================] - 26s 131ms/step\n"
     ]
    },
    {
     "name": "stderr",
     "output_type": "stream",
     "text": [
      "2020-12-15 19:27:29,827 [DEBUG] kashgari - predict output: (6305, 102)\n",
      "2020-12-15 19:27:29,828 [DEBUG] kashgari - predict output argmax: [[0 3 2 ... 2 2 2]\n",
      " [0 1 1 ... 2 2 2]\n",
      " [0 1 1 ... 1 1 1]\n",
      " ...\n",
      " [0 1 1 ... 1 1 1]\n",
      " [0 1 1 ... 1 1 1]\n",
      " [0 1 1 ... 1 1 1]]\n"
     ]
    },
    {
     "name": "stdout",
     "output_type": "stream",
     "text": [
      "\n",
      "              precision    recall  f1-score   support\n",
      "\n",
      "        time     0.6970    0.7481    0.7217       532\n",
      "    location     0.8000    0.9167    0.8544        48\n",
      "    med_exam     0.7170    0.7677    0.7415        99\n",
      "        name     0.7778    0.9333    0.8485        45\n",
      "       money     0.5500    0.5500    0.5500        20\n",
      "      family     0.3333    0.3750    0.3529         8\n",
      "          ID     0.1667    0.2500    0.2000         4\n",
      "  profession     1.0000    0.6667    0.8000         3\n",
      "     contact     0.5000    0.2500    0.3333        12\n",
      "organization     1.0000    1.0000    1.0000         1\n",
      "   education     0.0000    0.0000    0.0000         2\n",
      "      others     1.0000    1.0000    1.0000         1\n",
      "\n",
      "   micro avg     0.7004    0.7510    0.7248       775\n",
      "   macro avg     0.6975    0.7510    0.7220       775\n",
      "\n"
     ]
    },
    {
     "name": "stderr",
     "output_type": "stream",
     "text": [
      "2020-12-15 19:28:41,371 [INFO] kashgari - model saved to /home/Danny/AI-CUP-2020/Danny/kashgari/model/bert-chinese_epoch_1024_batch_1024\n"
     ]
    },
    {
     "data": {
      "text/plain": [
       "'/home/Danny/AI-CUP-2020/Danny/kashgari/model/bert-chinese_epoch_1024_batch_1024'"
      ]
     },
     "execution_count": 14,
     "metadata": {},
     "output_type": "execute_result"
    }
   ],
   "source": [
    "model.evaluate(test_x, test_y)\n",
    "model_path = 'model/{}_epoch_{}_batch_{}'.format(model_name, epochs, batch_size)\n",
    "model.save(model_path)"
   ]
  },
  {
   "cell_type": "code",
   "execution_count": 15,
   "metadata": {},
   "outputs": [
    {
     "data": {
      "image/png": "[encoded data removed]",
      "text/plain": [
       "<Figure size 432x288 with 1 Axes>"
      ]
     },
     "metadata": {
      "needs_background": "light"
     },
     "output_type": "display_data"
    }
   ],
   "source": [
    "plt.plot(history.history['accuracy'])\n",
    "plt.plot(history.history['val_accuracy'])\n",
    "plt.plot(history.history['loss'])\n",
    "plt.plot(history.history['val_loss'])\n",
    "plt.title('model accuracy')\n",
    "plt.ylabel('accuracy')\n",
    "plt.xlabel('epoch')\n",
    "plt.legend(['accuracy', 'val_accuracy', 'loss', 'val_loss'])\n",
    "plt.show()"
   ]
  },
  {
   "cell_type": "code",
   "execution_count": 16,
   "metadata": {},
   "outputs": [],
   "source": [
    "# 需要儲存article_id, 轉成dataframe\n",
    "def predicting_txt_to_dataframe(path):    \n",
    "    with open(path, 'r') as f:\n",
    "        txt = str(f.read())\n",
    "        txt_list = txt.split('\\n')\n",
    "    row_list = list()\n",
    "    tmp_list = list()\n",
    "    for row in txt_list:\n",
    "        if row == '--------------------':\n",
    "            tmp_list[0] = tmp_list[0].replace('article_id:', '')\n",
    "            tmp_list[0] = int(tmp_list[0])\n",
    "            row_list.append(tmp_list)\n",
    "            tmp_list = list()\n",
    "            continue\n",
    "        if len(row) > 0:\n",
    "            tmp_list.append(row)\n",
    "    df = pd.DataFrame(row_list, columns=['article_id','text'])\n",
    "    return df"
   ]
  },
  {
   "cell_type": "code",
   "execution_count": 17,
   "metadata": {},
   "outputs": [],
   "source": [
    "def predict_NER(text):\n",
    "    x_list = list()    \n",
    "    text_list = re.split('\\uff0c|\\u3002|\\uff1f', text)\n",
    "    for article in text_list:\n",
    "        x_list.append([i for i in article])\n",
    "    y_list_list = model.predict(x_list)\n",
    "    y_list = list()\n",
    "    for sentence in y_list_list:\n",
    "        for word in sentence:\n",
    "            y_list.append(word)\n",
    "        y_list.append('O') # append(，。？)\n",
    "    y_list = y_list[:-1]\n",
    "    return y_list"
   ]
  },
  {
   "cell_type": "code",
   "execution_count": 18,
   "metadata": {},
   "outputs": [],
   "source": [
    "def output_NER(article_id, text, y_list):\n",
    "    output_str = str()\n",
    "    flag = False\n",
    "    for i, j in enumerate(y_list):\n",
    "        if j != 'O':\n",
    "            if j[0] == 'B':\n",
    "                start_position = i\n",
    "                entity_type = j.split('-')[-1]\n",
    "                flag = True\n",
    "        elif j == 'O' and flag == True:\n",
    "            end_position = i\n",
    "            flag = False\n",
    "            entity_text = text[start_position: end_position]\n",
    "            entity = '{}\\t{}\\t{}\\t{}\\t{}\\n'.format(article_id, start_position, end_position, entity_text, entity_type)  \n",
    "            output_str += entity\n",
    "    return output_str"
   ]
  },
  {
   "cell_type": "code",
   "execution_count": 19,
   "metadata": {},
   "outputs": [
    {
     "name": "stderr",
     "output_type": "stream",
     "text": [
      "2020-12-15 19:28:41,531 [DEBUG] kashgari - predict seq_length: None, input: (2, 70, 17)\n"
     ]
    },
    {
     "name": "stdout",
     "output_type": "stream",
     "text": [
      "3/3 [==============================] - 0s 23ms/step\n"
     ]
    },
    {
     "name": "stderr",
     "output_type": "stream",
     "text": [
      "2020-12-15 19:28:45,807 [DEBUG] kashgari - predict output: (70, 17)\n",
      "2020-12-15 19:28:45,807 [DEBUG] kashgari - predict output argmax: [[0 1 1 ... 1 0 1]\n",
      " [0 1 1 ... 1 1 1]\n",
      " [0 1 1 ... 1 1 1]\n",
      " ...\n",
      " [0 1 0 ... 1 1 1]\n",
      " [0 1 1 ... 1 1 1]\n",
      " [0 0 0 ... 0 0 0]]\n",
      "2020-12-15 19:28:45,810 [DEBUG] kashgari - predict seq_length: None, input: (2, 131, 28)\n"
     ]
    },
    {
     "name": "stdout",
     "output_type": "stream",
     "text": [
      "5/5 [==============================] - 0s 38ms/step\n"
     ]
    },
    {
     "name": "stderr",
     "output_type": "stream",
     "text": [
      "2020-12-15 19:28:49,839 [DEBUG] kashgari - predict output: (131, 28)\n",
      "2020-12-15 19:28:49,840 [DEBUG] kashgari - predict output argmax: [[0 1 1 ... 1 1 1]\n",
      " [0 1 1 ... 1 1 1]\n",
      " [0 1 1 ... 1 1 1]\n",
      " ...\n",
      " [0 1 1 ... 1 1 1]\n",
      " [0 1 1 ... 1 1 1]\n",
      " [0 0 0 ... 0 0 0]]\n",
      "2020-12-15 19:28:49,844 [DEBUG] kashgari - predict seq_length: None, input: (2, 198, 47)\n"
     ]
    },
    {
     "name": "stdout",
     "output_type": "stream",
     "text": [
      "7/7 [==============================] - 0s 61ms/step\n"
     ]
    },
    {
     "name": "stderr",
     "output_type": "stream",
     "text": [
      "2020-12-15 19:28:53,956 [DEBUG] kashgari - predict output: (198, 47)\n",
      "2020-12-15 19:28:53,957 [DEBUG] kashgari - predict output argmax: [[0 1 1 ... 1 1 1]\n",
      " [0 1 1 ... 1 1 1]\n",
      " [0 1 1 ... 1 1 1]\n",
      " ...\n",
      " [0 1 1 ... 1 1 1]\n",
      " [0 1 1 ... 1 1 1]\n",
      " [0 1 1 ... 1 1 1]]\n",
      "2020-12-15 19:28:53,960 [DEBUG] kashgari - predict seq_length: None, input: (2, 96, 41)\n"
     ]
    },
    {
     "name": "stdout",
     "output_type": "stream",
     "text": [
      "3/3 [==============================] - 0s 37ms/step\n"
     ]
    },
    {
     "name": "stderr",
     "output_type": "stream",
     "text": [
      "2020-12-15 19:28:56,655 [DEBUG] kashgari - predict output: (96, 41)\n",
      "2020-12-15 19:28:56,656 [DEBUG] kashgari - predict output argmax: [[0 1 1 ... 1 1 1]\n",
      " [0 1 1 ... 1 1 1]\n",
      " [0 1 1 ... 1 1 1]\n",
      " ...\n",
      " [0 1 1 ... 1 1 1]\n",
      " [0 1 1 ... 1 1 1]\n",
      " [0 0 0 ... 0 0 0]]\n",
      "2020-12-15 19:28:56,659 [DEBUG] kashgari - predict seq_length: None, input: (2, 73, 17)\n"
     ]
    },
    {
     "name": "stdout",
     "output_type": "stream",
     "text": [
      "3/3 [==============================] - 0s 23ms/step\n"
     ]
    },
    {
     "name": "stderr",
     "output_type": "stream",
     "text": [
      "2020-12-15 19:28:56,790 [DEBUG] kashgari - predict output: (73, 17)\n",
      "2020-12-15 19:28:56,791 [DEBUG] kashgari - predict output argmax: [[0 1 1 ... 1 1 1]\n",
      " [0 1 9 ... 1 1 1]\n",
      " [0 1 1 ... 1 1 1]\n",
      " ...\n",
      " [0 1 1 ... 1 1 1]\n",
      " [0 1 0 ... 1 1 1]\n",
      " [0 0 0 ... 0 0 0]]\n",
      "2020-12-15 19:28:56,797 [DEBUG] kashgari - predict seq_length: None, input: (2, 266, 23)\n"
     ]
    },
    {
     "name": "stdout",
     "output_type": "stream",
     "text": [
      "9/9 [==============================] - 0s 41ms/step\n"
     ]
    },
    {
     "name": "stderr",
     "output_type": "stream",
     "text": [
      "2020-12-15 19:29:00,835 [DEBUG] kashgari - predict output: (266, 23)\n",
      "2020-12-15 19:29:00,836 [DEBUG] kashgari - predict output argmax: [[0 1 1 ... 1 1 1]\n",
      " [0 1 1 ... 1 1 1]\n",
      " [0 1 1 ... 1 1 1]\n",
      " ...\n",
      " [0 1 1 ... 1 1 1]\n",
      " [0 1 1 ... 1 1 1]\n",
      " [0 1 1 ... 1 1 1]]\n",
      "2020-12-15 19:29:00,840 [DEBUG] kashgari - predict seq_length: None, input: (2, 308, 21)\n"
     ]
    },
    {
     "name": "stdout",
     "output_type": "stream",
     "text": [
      "10/10 [==============================] - 0s 35ms/step\n"
     ]
    },
    {
     "name": "stderr",
     "output_type": "stream",
     "text": [
      "2020-12-15 19:29:04,862 [DEBUG] kashgari - predict output: (308, 21)\n",
      "2020-12-15 19:29:04,863 [DEBUG] kashgari - predict output argmax: [[0 1 1 ... 1 1 1]\n",
      " [0 1 0 ... 1 1 1]\n",
      " [0 1 1 ... 1 1 1]\n",
      " ...\n",
      " [0 1 1 ... 1 1 1]\n",
      " [0 1 0 ... 1 1 1]\n",
      " [0 0 0 ... 0 0 0]]\n",
      "2020-12-15 19:29:04,867 [DEBUG] kashgari - predict seq_length: None, input: (2, 139, 38)\n"
     ]
    },
    {
     "name": "stdout",
     "output_type": "stream",
     "text": [
      "5/5 [==============================] - 0s 44ms/step\n"
     ]
    },
    {
     "name": "stderr",
     "output_type": "stream",
     "text": [
      "2020-12-15 19:29:08,797 [DEBUG] kashgari - predict output: (139, 38)\n",
      "2020-12-15 19:29:08,798 [DEBUG] kashgari - predict output argmax: [[0 1 1 ... 1 1 1]\n",
      " [0 1 1 ... 1 1 1]\n",
      " [0 1 1 ... 1 1 1]\n",
      " ...\n",
      " [0 1 1 ... 1 1 1]\n",
      " [0 1 1 ... 1 1 1]\n",
      " [0 0 0 ... 0 0 0]]\n",
      "2020-12-15 19:29:08,801 [DEBUG] kashgari - predict seq_length: None, input: (2, 167, 22)\n"
     ]
    },
    {
     "name": "stdout",
     "output_type": "stream",
     "text": [
      "6/6 [==============================] - 0s 32ms/step\n"
     ]
    },
    {
     "name": "stderr",
     "output_type": "stream",
     "text": [
      "2020-12-15 19:29:13,631 [DEBUG] kashgari - predict output: (167, 22)\n",
      "2020-12-15 19:29:13,632 [DEBUG] kashgari - predict output argmax: [[0 1 1 ... 5 5 5]\n",
      " [0 1 1 ... 1 1 1]\n",
      " [0 1 0 ... 1 1 1]\n",
      " ...\n",
      " [0 1 1 ... 1 1 1]\n",
      " [0 1 1 ... 4 4 4]\n",
      " [0 0 0 ... 0 0 0]]\n",
      "2020-12-15 19:29:13,638 [DEBUG] kashgari - predict seq_length: None, input: (2, 272, 41)\n"
     ]
    },
    {
     "name": "stdout",
     "output_type": "stream",
     "text": [
      "9/9 [==============================] - 0s 54ms/step\n"
     ]
    },
    {
     "name": "stderr",
     "output_type": "stream",
     "text": [
      "2020-12-15 19:29:17,846 [DEBUG] kashgari - predict output: (272, 41)\n",
      "2020-12-15 19:29:17,847 [DEBUG] kashgari - predict output argmax: [[0 1 1 ... 5 5 5]\n",
      " [0 1 7 ... 4 4 4]\n",
      " [0 1 1 ... 1 1 1]\n",
      " ...\n",
      " [0 1 1 ... 1 1 1]\n",
      " [0 1 1 ... 1 1 1]\n",
      " [0 0 0 ... 0 0 0]]\n",
      "2020-12-15 19:29:17,850 [DEBUG] kashgari - predict seq_length: None, input: (2, 143, 63)\n"
     ]
    },
    {
     "name": "stdout",
     "output_type": "stream",
     "text": [
      "5/5 [==============================] - 0s 68ms/step\n"
     ]
    },
    {
     "name": "stderr",
     "output_type": "stream",
     "text": [
      "2020-12-15 19:29:21,938 [DEBUG] kashgari - predict output: (143, 63)\n",
      "2020-12-15 19:29:21,939 [DEBUG] kashgari - predict output argmax: [[0 1 1 ... 1 1 1]\n",
      " [0 1 1 ... 1 1 1]\n",
      " [0 1 1 ... 1 1 1]\n",
      " ...\n",
      " [0 1 1 ... 1 1 1]\n",
      " [0 1 1 ... 1 1 1]\n",
      " [0 0 0 ... 0 0 0]]\n",
      "2020-12-15 19:29:21,945 [DEBUG] kashgari - predict seq_length: None, input: (2, 663, 42)\n"
     ]
    },
    {
     "name": "stdout",
     "output_type": "stream",
     "text": [
      "21/21 [==============================] - 1s 57ms/step\n"
     ]
    },
    {
     "name": "stderr",
     "output_type": "stream",
     "text": [
      "2020-12-15 19:29:26,895 [DEBUG] kashgari - predict output: (663, 42)\n",
      "2020-12-15 19:29:26,896 [DEBUG] kashgari - predict output argmax: [[0 1 1 ... 1 1 1]\n",
      " [0 1 1 ... 1 1 1]\n",
      " [0 1 1 ... 1 1 1]\n",
      " ...\n",
      " [0 1 1 ... 1 1 1]\n",
      " [0 1 1 ... 1 1 1]\n",
      " [0 0 0 ... 0 0 0]]\n",
      "2020-12-15 19:29:26,899 [DEBUG] kashgari - predict seq_length: None, input: (2, 39, 25)\n"
     ]
    },
    {
     "name": "stdout",
     "output_type": "stream",
     "text": [
      "2/2 [==============================] - 0s 17ms/step\n"
     ]
    },
    {
     "name": "stderr",
     "output_type": "stream",
     "text": [
      "2020-12-15 19:29:30,635 [DEBUG] kashgari - predict output: (39, 25)\n",
      "2020-12-15 19:29:30,639 [DEBUG] kashgari - predict output argmax: [[0 1 1 1 1 0 1 1 1 1 1 1 1 1 1 1 1 1 1 1 1 1 1 1 1]\n",
      " [0 1 1 1 1 0 1 1 1 1 1 1 1 1 1 1 1 1 1 1 1 1 1 1 1]\n",
      " [0 1 1 1 1 1 1 1 1 1 1 1 1 1 1 1 0 1 1 1 1 1 1 1 1]\n",
      " [0 1 1 1 1 1 1 1 1 1 1 0 1 1 1 1 1 1 1 1 1 1 1 1 1]\n",
      " [0 1 1 1 1 1 1 1 1 1 1 1 0 1 1 1 1 1 1 1 1 1 1 1 1]\n",
      " [0 1 1 1 1 0 1 1 1 1 1 1 1 1 1 1 1 1 1 1 1 1 1 1 1]\n",
      " [0 1 1 1 0 1 1 1 1 1 1 1 1 1 1 1 1 1 1 1 1 1 1 1 1]\n",
      " [0 1 1 1 1 0 1 1 1 1 1 1 1 1 1 1 1 1 1 1 1 1 1 1 1]\n",
      " [0 1 1 0 1 1 1 1 1 1 1 1 1 1 1 1 1 1 1 1 1 1 1 1 1]\n",
      " [0 1 1 1 1 1 1 1 1 1 1 1 0 1 1 1 1 1 1 1 1 1 1 1 1]\n",
      " [0 1 1 1 1 1 1 1 1 1 0 1 1 1 1 1 1 1 1 1 1 1 1 1 1]\n",
      " [0 1 1 1 1 1 1 0 1 1 1 1 1 1 1 1 1 1 1 1 1 1 1 1 1]\n",
      " [0 1 1 1 1 0 1 1 1 1 1 1 1 1 1 1 1 1 1 1 1 1 1 1 1]\n",
      " [0 1 1 1 1 0 1 1 1 1 1 1 1 1 1 1 1 1 1 1 1 1 1 1 1]\n",
      " [0 1 1 1 1 1 1 1 1 1 1 1 1 1 0 1 1 1 1 1 1 1 1 1 1]\n",
      " [0 1 1 1 1 0 1 1 1 1 1 1 1 1 1 1 1 1 1 1 1 1 1 1 1]\n",
      " [0 1 1 1 0 1 1 1 1 1 1 1 1 1 1 1 1 1 1 1 1 1 1 1 1]\n",
      " [0 1 1 1 1 1 1 1 1 1 1 1 1 1 0 1 1 1 1 1 1 1 1 1 1]\n",
      " [0 1 1 1 1 1 0 1 1 1 1 1 1 1 1 1 1 1 1 1 1 1 1 1 1]\n",
      " [0 1 1 1 1 1 1 1 1 1 1 1 1 1 1 1 1 0 1 1 1 1 1 1 1]\n",
      " [0 1 1 1 1 3 2 1 1 1 1 0 1 1 1 1 1 1 1 1 1 1 1 1 1]\n",
      " [0 1 1 1 1 0 1 1 1 1 1 1 1 1 1 1 1 1 1 1 1 1 1 1 1]\n",
      " [0 1 1 1 1 1 1 1 1 1 1 0 1 1 1 1 1 1 1 1 1 1 1 1 1]\n",
      " [0 1 1 1 1 0 1 1 1 1 1 1 1 1 1 1 1 1 1 1 1 1 1 1 1]\n",
      " [0 1 1 1 1 1 0 1 1 1 1 1 1 1 1 1 1 1 1 1 1 1 1 1 1]\n",
      " [0 1 1 1 1 0 1 1 1 1 1 1 1 1 1 1 1 1 1 1 1 1 1 1 1]\n",
      " [0 1 1 1 1 1 1 1 1 1 1 1 1 1 1 1 1 1 1 1 1 1 1 1 0]\n",
      " [0 1 1 1 1 0 1 1 1 1 1 1 1 1 1 1 1 1 1 1 1 1 1 1 1]\n",
      " [0 1 1 1 0 1 1 1 1 1 1 1 1 1 1 1 1 1 1 1 1 1 1 1 1]\n",
      " [0 1 1 1 1 1 0 1 1 1 1 1 1 1 1 1 1 1 1 1 1 1 1 1 1]\n",
      " [0 1 1 1 1 1 0 1 1 1 1 1 1 1 1 1 1 1 1 1 1 1 1 1 1]\n",
      " [0 1 0 1 1 1 1 1 1 1 1 1 1 1 1 1 1 1 1 1 1 1 1 1 1]\n",
      " [0 1 1 1 1 1 1 1 1 1 1 1 0 1 1 1 1 1 1 1 1 1 1 1 1]\n",
      " [0 1 1 1 1 0 1 1 1 1 1 1 1 1 1 1 1 1 1 1 1 1 1 1 1]\n",
      " [0 1 1 1 1 3 2 2 2 1 1 1 1 1 0 1 1 1 1 1 1 1 1 1 1]\n",
      " [0 1 1 1 1 0 1 1 1 1 1 1 1 1 1 1 1 1 1 1 1 1 1 1 1]\n",
      " [0 1 1 1 1 1 0 1 1 1 1 1 1 1 1 1 1 1 1 1 1 1 1 1 1]\n",
      " [0 1 1 0 1 1 1 1 1 1 1 1 1 1 1 1 1 1 1 1 1 1 1 1 1]\n",
      " [0 0 0 0 0 0 0 0 0 0 0 0 0 0 0 0 0 0 0 0 0 0 0 0 0]]\n",
      "2020-12-15 19:29:30,643 [DEBUG] kashgari - predict seq_length: None, input: (2, 175, 22)\n"
     ]
    },
    {
     "name": "stdout",
     "output_type": "stream",
     "text": [
      "6/6 [==============================] - 0s 35ms/step\n"
     ]
    },
    {
     "name": "stderr",
     "output_type": "stream",
     "text": [
      "2020-12-15 19:29:30,922 [DEBUG] kashgari - predict output: (175, 22)\n",
      "2020-12-15 19:29:30,923 [DEBUG] kashgari - predict output argmax: [[0 1 1 ... 1 1 1]\n",
      " [0 1 1 ... 1 1 1]\n",
      " [0 1 1 ... 1 1 1]\n",
      " ...\n",
      " [0 1 1 ... 1 1 1]\n",
      " [0 1 1 ... 1 1 1]\n",
      " [0 0 0 ... 0 0 0]]\n",
      "2020-12-15 19:29:30,927 [DEBUG] kashgari - predict seq_length: None, input: (2, 143, 28)\n"
     ]
    },
    {
     "name": "stdout",
     "output_type": "stream",
     "text": [
      "5/5 [==============================] - 0s 38ms/step\n"
     ]
    },
    {
     "name": "stderr",
     "output_type": "stream",
     "text": [
      "2020-12-15 19:29:31,199 [DEBUG] kashgari - predict output: (143, 28)\n",
      "2020-12-15 19:29:31,200 [DEBUG] kashgari - predict output argmax: [[0 1 1 ... 1 1 1]\n",
      " [0 1 1 ... 1 1 1]\n",
      " [0 1 1 ... 1 1 1]\n",
      " ...\n",
      " [0 1 1 ... 1 1 1]\n",
      " [0 1 1 ... 1 1 1]\n",
      " [0 0 0 ... 0 0 0]]\n",
      "2020-12-15 19:29:31,203 [DEBUG] kashgari - predict seq_length: None, input: (2, 88, 21)\n"
     ]
    },
    {
     "name": "stdout",
     "output_type": "stream",
     "text": [
      "3/3 [==============================] - 0s 25ms/step\n"
     ]
    },
    {
     "name": "stderr",
     "output_type": "stream",
     "text": [
      "2020-12-15 19:29:31,341 [DEBUG] kashgari - predict output: (88, 21)\n",
      "2020-12-15 19:29:31,342 [DEBUG] kashgari - predict output argmax: [[0 1 1 ... 1 1 1]\n",
      " [0 1 1 ... 1 1 1]\n",
      " [0 1 1 ... 1 1 1]\n",
      " ...\n",
      " [0 1 1 ... 1 1 1]\n",
      " [0 1 1 ... 1 1 1]\n",
      " [0 0 0 ... 0 0 0]]\n",
      "2020-12-15 19:29:31,346 [DEBUG] kashgari - predict seq_length: None, input: (2, 121, 28)\n"
     ]
    },
    {
     "name": "stdout",
     "output_type": "stream",
     "text": [
      "4/4 [==============================] - 0s 33ms/step\n"
     ]
    },
    {
     "name": "stderr",
     "output_type": "stream",
     "text": [
      "2020-12-15 19:29:31,549 [DEBUG] kashgari - predict output: (121, 28)\n",
      "2020-12-15 19:29:31,550 [DEBUG] kashgari - predict output argmax: [[0 1 1 ... 1 1 1]\n",
      " [0 1 1 ... 1 1 1]\n",
      " [0 1 1 ... 1 1 1]\n",
      " ...\n",
      " [0 1 1 ... 1 1 1]\n",
      " [0 1 1 ... 1 1 1]\n",
      " [0 0 0 ... 0 0 0]]\n",
      "2020-12-15 19:29:31,553 [DEBUG] kashgari - predict seq_length: None, input: (2, 85, 27)\n"
     ]
    },
    {
     "name": "stdout",
     "output_type": "stream",
     "text": [
      "3/3 [==============================] - 0s 30ms/step\n"
     ]
    },
    {
     "name": "stderr",
     "output_type": "stream",
     "text": [
      "2020-12-15 19:29:35,381 [DEBUG] kashgari - predict output: (85, 27)\n",
      "2020-12-15 19:29:35,382 [DEBUG] kashgari - predict output argmax: [[0 1 1 ... 1 1 1]\n",
      " [0 1 1 ... 1 1 1]\n",
      " [0 1 1 ... 1 1 1]\n",
      " ...\n",
      " [0 1 1 ... 1 1 1]\n",
      " [0 1 1 ... 1 1 1]\n",
      " [0 0 0 ... 0 0 0]]\n",
      "2020-12-15 19:29:35,388 [DEBUG] kashgari - predict seq_length: None, input: (2, 255, 19)\n"
     ]
    },
    {
     "name": "stdout",
     "output_type": "stream",
     "text": [
      "8/8 [==============================] - 0s 34ms/step\n"
     ]
    },
    {
     "name": "stderr",
     "output_type": "stream",
     "text": [
      "2020-12-15 19:29:39,335 [DEBUG] kashgari - predict output: (255, 19)\n",
      "2020-12-15 19:29:39,336 [DEBUG] kashgari - predict output argmax: [[0 1 1 ... 1 1 1]\n",
      " [0 1 1 ... 1 1 1]\n",
      " [0 1 1 ... 1 1 1]\n",
      " ...\n",
      " [0 1 1 ... 1 1 1]\n",
      " [0 1 1 ... 1 1 1]\n",
      " [0 0 0 ... 0 0 0]]\n",
      "2020-12-15 19:29:39,339 [DEBUG] kashgari - predict seq_length: None, input: (2, 202, 29)\n"
     ]
    },
    {
     "name": "stdout",
     "output_type": "stream",
     "text": [
      "7/7 [==============================] - 0s 41ms/step\n"
     ]
    },
    {
     "name": "stderr",
     "output_type": "stream",
     "text": [
      "2020-12-15 19:29:44,230 [DEBUG] kashgari - predict output: (202, 29)\n",
      "2020-12-15 19:29:44,231 [DEBUG] kashgari - predict output argmax: [[0 1 1 ... 1 1 1]\n",
      " [0 1 1 ... 1 1 1]\n",
      " [0 1 1 ... 1 1 0]\n",
      " ...\n",
      " [0 1 1 ... 1 1 1]\n",
      " [0 1 1 ... 1 1 1]\n",
      " [0 0 0 ... 0 0 0]]\n",
      "2020-12-15 19:29:44,234 [DEBUG] kashgari - predict seq_length: None, input: (2, 198, 19)\n"
     ]
    },
    {
     "name": "stdout",
     "output_type": "stream",
     "text": [
      "7/7 [==============================] - 0s 31ms/step\n"
     ]
    },
    {
     "name": "stderr",
     "output_type": "stream",
     "text": [
      "2020-12-15 19:29:44,516 [DEBUG] kashgari - predict output: (198, 19)\n",
      "2020-12-15 19:29:44,517 [DEBUG] kashgari - predict output argmax: [[0 1 1 ... 1 1 1]\n",
      " [0 1 1 ... 1 1 1]\n",
      " [0 1 1 ... 1 1 1]\n",
      " ...\n",
      " [0 1 1 ... 1 1 1]\n",
      " [0 1 1 ... 6 6 6]\n",
      " [0 0 0 ... 0 0 0]]\n",
      "2020-12-15 19:29:44,520 [DEBUG] kashgari - predict seq_length: None, input: (2, 102, 39)\n"
     ]
    },
    {
     "name": "stdout",
     "output_type": "stream",
     "text": [
      "4/4 [==============================] - 0s 41ms/step\n"
     ]
    },
    {
     "name": "stderr",
     "output_type": "stream",
     "text": [
      "2020-12-15 19:29:48,414 [DEBUG] kashgari - predict output: (102, 39)\n",
      "2020-12-15 19:29:48,415 [DEBUG] kashgari - predict output argmax: [[0 1 1 ... 1 1 1]\n",
      " [0 1 1 ... 1 1 1]\n",
      " [0 1 1 ... 1 1 1]\n",
      " ...\n",
      " [0 1 1 ... 1 1 1]\n",
      " [0 1 1 ... 1 1 1]\n",
      " [0 0 0 ... 0 0 0]]\n",
      "2020-12-15 19:29:48,417 [DEBUG] kashgari - predict seq_length: None, input: (2, 72, 36)\n"
     ]
    },
    {
     "name": "stdout",
     "output_type": "stream",
     "text": [
      "3/3 [==============================] - 0s 32ms/step\n"
     ]
    },
    {
     "name": "stderr",
     "output_type": "stream",
     "text": [
      "2020-12-15 19:29:52,227 [DEBUG] kashgari - predict output: (72, 36)\n",
      "2020-12-15 19:29:52,228 [DEBUG] kashgari - predict output argmax: [[0 1 1 ... 1 1 1]\n",
      " [0 1 0 ... 1 1 1]\n",
      " [0 1 1 ... 1 1 1]\n",
      " ...\n",
      " [0 1 1 ... 1 1 1]\n",
      " [0 1 1 ... 1 1 1]\n",
      " [0 0 0 ... 0 0 0]]\n",
      "2020-12-15 19:29:52,234 [DEBUG] kashgari - predict seq_length: None, input: (2, 246, 27)\n"
     ]
    },
    {
     "name": "stdout",
     "output_type": "stream",
     "text": [
      "8/8 [==============================] - 0s 41ms/step\n"
     ]
    },
    {
     "name": "stderr",
     "output_type": "stream",
     "text": [
      "2020-12-15 19:29:52,636 [DEBUG] kashgari - predict output: (246, 27)\n",
      "2020-12-15 19:29:52,637 [DEBUG] kashgari - predict output argmax: [[0 1 1 ... 1 1 1]\n",
      " [0 1 1 ... 1 1 1]\n",
      " [0 1 1 ... 1 1 1]\n",
      " ...\n",
      " [0 1 1 ... 1 1 1]\n",
      " [0 1 1 ... 1 1 1]\n",
      " [0 0 0 ... 0 0 0]]\n",
      "2020-12-15 19:29:52,639 [DEBUG] kashgari - predict seq_length: None, input: (2, 57, 34)\n"
     ]
    },
    {
     "name": "stdout",
     "output_type": "stream",
     "text": [
      "2/2 [==============================] - 0s 27ms/step\n"
     ]
    },
    {
     "name": "stderr",
     "output_type": "stream",
     "text": [
      "2020-12-15 19:29:56,594 [DEBUG] kashgari - predict output: (57, 34)\n",
      "2020-12-15 19:29:56,595 [DEBUG] kashgari - predict output argmax: [[0 1 1 ... 1 1 1]\n",
      " [0 1 1 ... 1 1 1]\n",
      " [0 1 1 ... 1 1 1]\n",
      " ...\n",
      " [0 1 1 ... 1 1 1]\n",
      " [0 1 1 ... 1 1 1]\n",
      " [0 0 0 ... 0 0 0]]\n",
      "2020-12-15 19:29:56,598 [DEBUG] kashgari - predict seq_length: None, input: (2, 82, 21)\n"
     ]
    },
    {
     "name": "stdout",
     "output_type": "stream",
     "text": [
      "3/3 [==============================] - 0s 27ms/step\n"
     ]
    },
    {
     "name": "stderr",
     "output_type": "stream",
     "text": [
      "2020-12-15 19:29:56,748 [DEBUG] kashgari - predict output: (82, 21)\n",
      "2020-12-15 19:29:56,749 [DEBUG] kashgari - predict output argmax: [[0 1 1 ... 1 1 1]\n",
      " [0 1 1 ... 1 1 1]\n",
      " [0 1 1 ... 1 1 1]\n",
      " ...\n",
      " [0 1 1 ... 1 1 1]\n",
      " [0 1 1 ... 1 1 1]\n",
      " [0 0 0 ... 0 0 0]]\n",
      "2020-12-15 19:29:56,753 [DEBUG] kashgari - predict seq_length: None, input: (2, 185, 32)\n"
     ]
    },
    {
     "name": "stdout",
     "output_type": "stream",
     "text": [
      "6/6 [==============================] - 0s 43ms/step\n"
     ]
    },
    {
     "name": "stderr",
     "output_type": "stream",
     "text": [
      "2020-12-15 19:30:00,703 [DEBUG] kashgari - predict output: (185, 32)\n",
      "2020-12-15 19:30:00,704 [DEBUG] kashgari - predict output argmax: [[0 1 1 ... 1 1 1]\n",
      " [0 1 1 ... 1 1 1]\n",
      " [0 1 1 ... 1 1 1]\n",
      " ...\n",
      " [0 1 1 ... 1 1 1]\n",
      " [0 1 1 ... 1 1 1]\n",
      " [0 0 0 ... 0 0 0]]\n",
      "2020-12-15 19:30:00,706 [DEBUG] kashgari - predict seq_length: None, input: (2, 148, 28)\n"
     ]
    },
    {
     "name": "stdout",
     "output_type": "stream",
     "text": [
      "5/5 [==============================] - 0s 34ms/step\n"
     ]
    },
    {
     "name": "stderr",
     "output_type": "stream",
     "text": [
      "2020-12-15 19:30:00,944 [DEBUG] kashgari - predict output: (148, 28)\n",
      "2020-12-15 19:30:00,945 [DEBUG] kashgari - predict output argmax: [[0 1 1 ... 1 1 1]\n",
      " [0 1 1 ... 1 1 1]\n",
      " [0 1 1 ... 1 1 1]\n",
      " ...\n",
      " [0 1 1 ... 1 1 1]\n",
      " [0 1 1 ... 1 1 1]\n",
      " [0 0 0 ... 0 0 0]]\n",
      "2020-12-15 19:30:00,949 [DEBUG] kashgari - predict seq_length: None, input: (2, 281, 23)\n"
     ]
    },
    {
     "name": "stdout",
     "output_type": "stream",
     "text": [
      "9/9 [==============================] - 0s 38ms/step\n"
     ]
    },
    {
     "name": "stderr",
     "output_type": "stream",
     "text": [
      "2020-12-15 19:30:01,358 [DEBUG] kashgari - predict output: (281, 23)\n",
      "2020-12-15 19:30:01,359 [DEBUG] kashgari - predict output argmax: [[0 1 1 ... 1 1 1]\n",
      " [0 1 1 ... 1 1 1]\n",
      " [0 1 1 ... 1 1 1]\n",
      " ...\n",
      " [0 1 0 ... 1 1 1]\n",
      " [0 1 1 ... 1 1 1]\n",
      " [0 0 0 ... 0 0 0]]\n",
      "2020-12-15 19:30:01,361 [DEBUG] kashgari - predict seq_length: None, input: (2, 116, 20)\n"
     ]
    },
    {
     "name": "stdout",
     "output_type": "stream",
     "text": [
      "4/4 [==============================] - 0s 29ms/step\n"
     ]
    },
    {
     "name": "stderr",
     "output_type": "stream",
     "text": [
      "2020-12-15 19:30:05,183 [DEBUG] kashgari - predict output: (116, 20)\n",
      "2020-12-15 19:30:05,184 [DEBUG] kashgari - predict output argmax: [[0 1 1 ... 1 1 1]\n",
      " [0 1 1 ... 1 1 1]\n",
      " [0 1 1 ... 1 1 1]\n",
      " ...\n",
      " [0 1 1 ... 1 1 1]\n",
      " [0 1 1 ... 1 1 1]\n",
      " [0 0 0 ... 0 0 0]]\n",
      "2020-12-15 19:30:05,187 [DEBUG] kashgari - predict seq_length: None, input: (2, 168, 25)\n"
     ]
    },
    {
     "name": "stdout",
     "output_type": "stream",
     "text": [
      "6/6 [==============================] - 0s 38ms/step\n"
     ]
    },
    {
     "name": "stderr",
     "output_type": "stream",
     "text": [
      "2020-12-15 19:30:05,490 [DEBUG] kashgari - predict output: (168, 25)\n",
      "2020-12-15 19:30:05,491 [DEBUG] kashgari - predict output argmax: [[0 1 1 ... 1 1 1]\n",
      " [0 1 1 ... 1 1 1]\n",
      " [0 3 2 ... 1 1 1]\n",
      " ...\n",
      " [0 1 1 ... 1 1 1]\n",
      " [0 1 1 ... 1 1 1]\n",
      " [0 0 0 ... 0 0 0]]\n",
      "2020-12-15 19:30:05,497 [DEBUG] kashgari - predict seq_length: None, input: (2, 218, 30)\n"
     ]
    },
    {
     "name": "stdout",
     "output_type": "stream",
     "text": [
      "7/7 [==============================] - 0s 42ms/step\n"
     ]
    },
    {
     "name": "stderr",
     "output_type": "stream",
     "text": [
      "2020-12-15 19:30:09,524 [DEBUG] kashgari - predict output: (218, 30)\n",
      "2020-12-15 19:30:09,525 [DEBUG] kashgari - predict output argmax: [[0 1 1 ... 1 1 1]\n",
      " [0 1 1 ... 1 1 1]\n",
      " [0 1 1 ... 1 1 1]\n",
      " ...\n",
      " [0 1 1 ... 1 1 1]\n",
      " [0 1 1 ... 1 1 1]\n",
      " [0 0 0 ... 0 0 0]]\n",
      "2020-12-15 19:30:09,528 [DEBUG] kashgari - predict seq_length: None, input: (2, 123, 32)\n"
     ]
    },
    {
     "name": "stdout",
     "output_type": "stream",
     "text": [
      "4/4 [==============================] - 0s 34ms/step\n"
     ]
    },
    {
     "name": "stderr",
     "output_type": "stream",
     "text": [
      "2020-12-15 19:30:09,737 [DEBUG] kashgari - predict output: (123, 32)\n",
      "2020-12-15 19:30:09,738 [DEBUG] kashgari - predict output argmax: [[0 1 1 ... 1 1 1]\n",
      " [0 1 1 ... 1 1 1]\n",
      " [0 1 1 ... 1 1 1]\n",
      " ...\n",
      " [0 1 1 ... 1 1 1]\n",
      " [0 1 1 ... 1 1 1]\n",
      " [0 0 0 ... 0 0 0]]\n",
      "2020-12-15 19:30:09,740 [DEBUG] kashgari - predict seq_length: None, input: (2, 82, 21)\n"
     ]
    },
    {
     "name": "stdout",
     "output_type": "stream",
     "text": [
      "3/3 [==============================] - 0s 22ms/step\n"
     ]
    },
    {
     "name": "stderr",
     "output_type": "stream",
     "text": [
      "2020-12-15 19:30:09,865 [DEBUG] kashgari - predict output: (82, 21)\n",
      "2020-12-15 19:30:09,866 [DEBUG] kashgari - predict output argmax: [[0 1 1 ... 1 1 1]\n",
      " [0 1 1 ... 1 1 1]\n",
      " [0 3 2 ... 1 1 1]\n",
      " ...\n",
      " [0 1 1 ... 1 1 1]\n",
      " [0 1 1 ... 1 1 1]\n",
      " [0 0 0 ... 0 0 0]]\n",
      "2020-12-15 19:30:09,868 [DEBUG] kashgari - predict seq_length: None, input: (2, 95, 19)\n"
     ]
    },
    {
     "name": "stdout",
     "output_type": "stream",
     "text": [
      "3/3 [==============================] - 0s 23ms/step\n"
     ]
    },
    {
     "name": "stderr",
     "output_type": "stream",
     "text": [
      "2020-12-15 19:30:10,003 [DEBUG] kashgari - predict output: (95, 19)\n",
      "2020-12-15 19:30:10,004 [DEBUG] kashgari - predict output argmax: [[0 1 1 ... 2 2 2]\n",
      " [0 1 1 ... 1 1 1]\n",
      " [0 1 1 ... 1 1 1]\n",
      " ...\n",
      " [0 1 0 ... 1 1 1]\n",
      " [0 1 1 ... 1 1 1]\n",
      " [0 0 0 ... 0 0 0]]\n",
      "2020-12-15 19:30:10,008 [DEBUG] kashgari - predict seq_length: None, input: (2, 245, 24)\n"
     ]
    },
    {
     "name": "stdout",
     "output_type": "stream",
     "text": [
      "8/8 [==============================] - 0s 39ms/step\n"
     ]
    },
    {
     "name": "stderr",
     "output_type": "stream",
     "text": [
      "2020-12-15 19:30:14,108 [DEBUG] kashgari - predict output: (245, 24)\n",
      "2020-12-15 19:30:14,109 [DEBUG] kashgari - predict output argmax: [[ 0  1  1 ...  1  1  1]\n",
      " [ 0  1  1 ...  1  1  1]\n",
      " [ 0  1  1 ...  1  1  1]\n",
      " ...\n",
      " [ 0 17 11 ...  5  5  5]\n",
      " [ 0  1  1 ...  1  1  1]\n",
      " [ 0  0  0 ...  0  0  0]]\n",
      "2020-12-15 19:30:14,111 [DEBUG] kashgari - predict seq_length: None, input: (2, 126, 31)\n"
     ]
    },
    {
     "name": "stdout",
     "output_type": "stream",
     "text": [
      "4/4 [==============================] - 0s 40ms/step\n"
     ]
    },
    {
     "name": "stderr",
     "output_type": "stream",
     "text": [
      "2020-12-15 19:30:17,971 [DEBUG] kashgari - predict output: (126, 31)\n",
      "2020-12-15 19:30:17,972 [DEBUG] kashgari - predict output argmax: [[0 1 1 ... 1 1 1]\n",
      " [0 1 1 ... 4 4 4]\n",
      " [0 1 1 ... 1 1 1]\n",
      " ...\n",
      " [0 1 7 ... 1 1 1]\n",
      " [0 1 1 ... 1 1 1]\n",
      " [0 0 0 ... 0 0 0]]\n",
      "2020-12-15 19:30:17,974 [DEBUG] kashgari - predict seq_length: None, input: (2, 64, 19)\n"
     ]
    },
    {
     "name": "stdout",
     "output_type": "stream",
     "text": [
      "2/2 [==============================] - 0s 15ms/step\n"
     ]
    },
    {
     "name": "stderr",
     "output_type": "stream",
     "text": [
      "2020-12-15 19:30:21,698 [DEBUG] kashgari - predict output: (64, 19)\n",
      "2020-12-15 19:30:21,699 [DEBUG] kashgari - predict output argmax: [[0 1 1 ... 1 1 1]\n",
      " [0 1 1 ... 1 1 1]\n",
      " [0 1 1 ... 1 1 1]\n",
      " ...\n",
      " [0 1 1 ... 1 1 1]\n",
      " [0 1 1 ... 1 1 1]\n",
      " [0 0 0 ... 0 0 0]]\n",
      "2020-12-15 19:30:21,702 [DEBUG] kashgari - predict seq_length: None, input: (2, 93, 24)\n"
     ]
    },
    {
     "name": "stdout",
     "output_type": "stream",
     "text": [
      "3/3 [==============================] - 0s 30ms/step\n"
     ]
    },
    {
     "name": "stderr",
     "output_type": "stream",
     "text": [
      "2020-12-15 19:30:21,867 [DEBUG] kashgari - predict output: (93, 24)\n",
      "2020-12-15 19:30:21,868 [DEBUG] kashgari - predict output argmax: [[0 1 1 ... 1 1 1]\n",
      " [0 1 1 ... 1 1 1]\n",
      " [0 1 1 ... 1 1 1]\n",
      " ...\n",
      " [0 1 1 ... 1 1 1]\n",
      " [0 1 1 ... 1 1 1]\n",
      " [0 0 0 ... 0 0 0]]\n",
      "2020-12-15 19:30:21,872 [DEBUG] kashgari - predict seq_length: None, input: (2, 214, 16)\n"
     ]
    },
    {
     "name": "stdout",
     "output_type": "stream",
     "text": [
      "7/7 [==============================] - 0s 33ms/step\n"
     ]
    },
    {
     "name": "stderr",
     "output_type": "stream",
     "text": [
      "2020-12-15 19:30:25,771 [DEBUG] kashgari - predict output: (214, 16)\n",
      "2020-12-15 19:30:25,772 [DEBUG] kashgari - predict output argmax: [[0 1 1 ... 1 1 1]\n",
      " [0 1 1 ... 1 1 1]\n",
      " [0 1 1 ... 1 1 1]\n",
      " ...\n",
      " [0 1 1 ... 1 1 1]\n",
      " [0 1 1 ... 1 1 1]\n",
      " [0 0 0 ... 0 0 0]]\n",
      "2020-12-15 19:30:25,775 [DEBUG] kashgari - predict seq_length: None, input: (2, 53, 20)\n"
     ]
    },
    {
     "name": "stdout",
     "output_type": "stream",
     "text": [
      "2/2 [==============================] - 0s 17ms/step\n"
     ]
    },
    {
     "name": "stderr",
     "output_type": "stream",
     "text": [
      "2020-12-15 19:30:25,875 [DEBUG] kashgari - predict output: (53, 20)\n",
      "2020-12-15 19:30:25,876 [DEBUG] kashgari - predict output argmax: [[0 1 1 ... 1 1 1]\n",
      " [0 1 1 ... 1 1 1]\n",
      " [0 1 1 ... 1 1 1]\n",
      " ...\n",
      " [0 1 1 ... 1 1 1]\n",
      " [0 1 1 ... 1 1 1]\n",
      " [0 0 0 ... 0 0 0]]\n",
      "2020-12-15 19:30:25,884 [DEBUG] kashgari - predict seq_length: None, input: (2, 384, 18)\n"
     ]
    },
    {
     "name": "stdout",
     "output_type": "stream",
     "text": [
      "12/12 [==============================] - 0s 26ms/step\n"
     ]
    },
    {
     "name": "stderr",
     "output_type": "stream",
     "text": [
      "2020-12-15 19:30:28,802 [DEBUG] kashgari - predict output: (384, 18)\n",
      "2020-12-15 19:30:28,803 [DEBUG] kashgari - predict output argmax: [[0 1 1 ... 1 1 1]\n",
      " [0 1 1 ... 1 1 1]\n",
      " [0 1 1 ... 1 1 1]\n",
      " ...\n",
      " [0 1 1 ... 1 1 1]\n",
      " [0 1 1 ... 1 1 1]\n",
      " [0 0 0 ... 0 0 0]]\n",
      "2020-12-15 19:30:28,806 [DEBUG] kashgari - predict seq_length: None, input: (2, 172, 24)\n"
     ]
    },
    {
     "name": "stdout",
     "output_type": "stream",
     "text": [
      "6/6 [==============================] - 0s 33ms/step\n"
     ]
    },
    {
     "name": "stderr",
     "output_type": "stream",
     "text": [
      "2020-12-15 19:30:29,075 [DEBUG] kashgari - predict output: (172, 24)\n",
      "2020-12-15 19:30:29,076 [DEBUG] kashgari - predict output argmax: [[0 1 1 ... 5 5 5]\n",
      " [0 1 1 ... 1 1 1]\n",
      " [0 1 1 ... 1 1 1]\n",
      " ...\n",
      " [0 1 1 ... 1 1 1]\n",
      " [0 1 1 ... 1 1 1]\n",
      " [0 0 0 ... 0 0 0]]\n",
      "2020-12-15 19:30:29,078 [DEBUG] kashgari - predict seq_length: None, input: (2, 114, 24)\n"
     ]
    },
    {
     "name": "stdout",
     "output_type": "stream",
     "text": [
      "4/4 [==============================] - 0s 30ms/step\n"
     ]
    },
    {
     "name": "stderr",
     "output_type": "stream",
     "text": [
      "2020-12-15 19:30:29,263 [DEBUG] kashgari - predict output: (114, 24)\n",
      "2020-12-15 19:30:29,263 [DEBUG] kashgari - predict output argmax: [[0 1 1 ... 1 1 1]\n",
      " [0 1 1 ... 1 1 0]\n",
      " [0 1 1 ... 1 1 1]\n",
      " ...\n",
      " [0 1 1 ... 1 1 1]\n",
      " [0 1 1 ... 2 2 2]\n",
      " [0 0 0 ... 0 0 0]]\n",
      "2020-12-15 19:30:29,267 [DEBUG] kashgari - predict seq_length: None, input: (2, 111, 47)\n"
     ]
    },
    {
     "name": "stdout",
     "output_type": "stream",
     "text": [
      "4/4 [==============================] - 0s 49ms/step\n"
     ]
    },
    {
     "name": "stderr",
     "output_type": "stream",
     "text": [
      "2020-12-15 19:30:29,561 [DEBUG] kashgari - predict output: (111, 47)\n",
      "2020-12-15 19:30:29,562 [DEBUG] kashgari - predict output argmax: [[0 1 1 ... 4 4 4]\n",
      " [0 1 1 ... 1 1 1]\n",
      " [0 1 0 ... 1 1 1]\n",
      " ...\n",
      " [0 1 1 ... 1 1 1]\n",
      " [0 1 1 ... 1 1 1]\n",
      " [0 0 0 ... 0 0 0]]\n",
      "2020-12-15 19:30:29,567 [DEBUG] kashgari - predict seq_length: None, input: (2, 350, 34)\n"
     ]
    },
    {
     "name": "stdout",
     "output_type": "stream",
     "text": [
      "11/11 [==============================] - 1s 47ms/step\n"
     ]
    },
    {
     "name": "stderr",
     "output_type": "stream",
     "text": [
      "2020-12-15 19:30:30,159 [DEBUG] kashgari - predict output: (350, 34)\n",
      "2020-12-15 19:30:30,160 [DEBUG] kashgari - predict output argmax: [[0 1 1 ... 1 1 1]\n",
      " [0 1 1 ... 1 1 1]\n",
      " [0 1 1 ... 1 1 1]\n",
      " ...\n",
      " [0 1 1 ... 2 2 2]\n",
      " [0 1 1 ... 1 1 1]\n",
      " [0 0 0 ... 0 0 0]]\n",
      "2020-12-15 19:30:30,163 [DEBUG] kashgari - predict seq_length: None, input: (2, 56, 20)\n"
     ]
    },
    {
     "name": "stdout",
     "output_type": "stream",
     "text": [
      "2/2 [==============================] - 0s 18ms/step\n"
     ]
    },
    {
     "name": "stderr",
     "output_type": "stream",
     "text": [
      "2020-12-15 19:30:30,263 [DEBUG] kashgari - predict output: (56, 20)\n",
      "2020-12-15 19:30:30,264 [DEBUG] kashgari - predict output argmax: [[0 1 1 ... 1 1 1]\n",
      " [0 1 1 ... 1 1 1]\n",
      " [0 1 1 ... 1 1 1]\n",
      " ...\n",
      " [0 1 1 ... 1 1 1]\n",
      " [0 1 1 ... 1 1 1]\n",
      " [0 0 0 ... 0 0 0]]\n",
      "2020-12-15 19:30:30,268 [DEBUG] kashgari - predict seq_length: None, input: (2, 131, 17)\n"
     ]
    },
    {
     "name": "stdout",
     "output_type": "stream",
     "text": [
      "5/5 [==============================] - 0s 26ms/step\n"
     ]
    },
    {
     "name": "stderr",
     "output_type": "stream",
     "text": [
      "2020-12-15 19:30:30,460 [DEBUG] kashgari - predict output: (131, 17)\n",
      "2020-12-15 19:30:30,461 [DEBUG] kashgari - predict output argmax: [[0 1 1 ... 1 1 1]\n",
      " [0 1 1 ... 1 1 1]\n",
      " [0 1 1 ... 1 1 1]\n",
      " ...\n",
      " [0 1 1 ... 1 1 1]\n",
      " [0 1 1 ... 1 1 1]\n",
      " [0 0 0 ... 0 0 0]]\n",
      "2020-12-15 19:30:30,465 [DEBUG] kashgari - predict seq_length: None, input: (2, 184, 34)\n"
     ]
    },
    {
     "name": "stdout",
     "output_type": "stream",
     "text": [
      "6/6 [==============================] - 0s 43ms/step\n"
     ]
    },
    {
     "name": "stderr",
     "output_type": "stream",
     "text": [
      "2020-12-15 19:30:30,802 [DEBUG] kashgari - predict output: (184, 34)\n",
      "2020-12-15 19:30:30,803 [DEBUG] kashgari - predict output argmax: [[0 1 1 ... 1 1 1]\n",
      " [0 1 1 ... 1 1 1]\n",
      " [0 1 1 ... 1 1 1]\n",
      " ...\n",
      " [0 1 1 ... 1 1 1]\n",
      " [0 1 1 ... 1 1 1]\n",
      " [0 0 0 ... 0 0 0]]\n",
      "2020-12-15 19:30:30,806 [DEBUG] kashgari - predict seq_length: None, input: (2, 133, 51)\n"
     ]
    },
    {
     "name": "stdout",
     "output_type": "stream",
     "text": [
      "5/5 [==============================] - 0s 56ms/step\n"
     ]
    },
    {
     "name": "stderr",
     "output_type": "stream",
     "text": [
      "2020-12-15 19:30:34,836 [DEBUG] kashgari - predict output: (133, 51)\n",
      "2020-12-15 19:30:34,838 [DEBUG] kashgari - predict output argmax: [[0 1 1 ... 1 1 1]\n",
      " [0 9 5 ... 4 4 4]\n",
      " [0 1 1 ... 1 1 1]\n",
      " ...\n",
      " [0 1 0 ... 1 1 1]\n",
      " [0 1 1 ... 1 1 1]\n",
      " [0 0 0 ... 0 0 0]]\n",
      "2020-12-15 19:30:34,841 [DEBUG] kashgari - predict seq_length: None, input: (2, 210, 53)\n"
     ]
    },
    {
     "name": "stdout",
     "output_type": "stream",
     "text": [
      "7/7 [==============================] - 0s 62ms/step\n"
     ]
    },
    {
     "name": "stderr",
     "output_type": "stream",
     "text": [
      "2020-12-15 19:30:39,026 [DEBUG] kashgari - predict output: (210, 53)\n",
      "2020-12-15 19:30:39,027 [DEBUG] kashgari - predict output argmax: [[0 1 1 ... 1 1 1]\n",
      " [0 1 1 ... 1 1 1]\n",
      " [0 1 1 ... 5 5 5]\n",
      " ...\n",
      " [0 1 1 ... 1 1 1]\n",
      " [0 1 1 ... 1 1 1]\n",
      " [0 0 0 ... 0 0 0]]\n",
      "2020-12-15 19:30:39,030 [DEBUG] kashgari - predict seq_length: None, input: (2, 193, 55)\n"
     ]
    },
    {
     "name": "stdout",
     "output_type": "stream",
     "text": [
      "7/7 [==============================] - 0s 64ms/step\n"
     ]
    },
    {
     "name": "stderr",
     "output_type": "stream",
     "text": [
      "2020-12-15 19:30:43,238 [DEBUG] kashgari - predict output: (193, 55)\n",
      "2020-12-15 19:30:43,239 [DEBUG] kashgari - predict output argmax: [[ 0  1  1 ...  1  1  1]\n",
      " [ 0  9  5 ... 11 11 11]\n",
      " [ 0  1  1 ...  1  1  1]\n",
      " ...\n",
      " [ 0  1  1 ...  1  1  1]\n",
      " [ 0  1  1 ...  1  1  1]\n",
      " [ 0  0  0 ...  0  0  0]]\n",
      "2020-12-15 19:30:43,241 [DEBUG] kashgari - predict seq_length: None, input: (2, 75, 30)\n"
     ]
    },
    {
     "name": "stdout",
     "output_type": "stream",
     "text": [
      "3/3 [==============================] - 0s 27ms/step\n"
     ]
    },
    {
     "name": "stderr",
     "output_type": "stream",
     "text": [
      "2020-12-15 19:30:43,394 [DEBUG] kashgari - predict output: (75, 30)\n",
      "2020-12-15 19:30:43,395 [DEBUG] kashgari - predict output argmax: [[0 1 1 ... 1 1 1]\n",
      " [0 1 1 ... 1 1 1]\n",
      " [0 1 1 ... 0 1 1]\n",
      " ...\n",
      " [0 1 0 ... 1 1 1]\n",
      " [0 1 1 ... 1 1 1]\n",
      " [0 0 0 ... 0 0 0]]\n",
      "2020-12-15 19:30:43,400 [DEBUG] kashgari - predict seq_length: None, input: (2, 280, 46)\n"
     ]
    },
    {
     "name": "stdout",
     "output_type": "stream",
     "text": [
      "9/9 [==============================] - 1s 61ms/step\n"
     ]
    },
    {
     "name": "stderr",
     "output_type": "stream",
     "text": [
      "2020-12-15 19:30:47,691 [DEBUG] kashgari - predict output: (280, 46)\n",
      "2020-12-15 19:30:47,692 [DEBUG] kashgari - predict output argmax: [[0 1 1 ... 1 1 1]\n",
      " [0 1 1 ... 1 1 1]\n",
      " [0 1 1 ... 1 1 1]\n",
      " ...\n",
      " [0 1 1 ... 1 1 1]\n",
      " [0 1 1 ... 1 1 1]\n",
      " [0 0 0 ... 0 0 0]]\n",
      "2020-12-15 19:30:47,695 [DEBUG] kashgari - predict seq_length: None, input: (2, 210, 20)\n"
     ]
    },
    {
     "name": "stdout",
     "output_type": "stream",
     "text": [
      "7/7 [==============================] - 0s 30ms/step\n"
     ]
    },
    {
     "name": "stderr",
     "output_type": "stream",
     "text": [
      "2020-12-15 19:30:47,970 [DEBUG] kashgari - predict output: (210, 20)\n",
      "2020-12-15 19:30:47,971 [DEBUG] kashgari - predict output argmax: [[0 1 1 ... 1 1 1]\n",
      " [0 1 1 ... 1 1 1]\n",
      " [0 1 0 ... 1 1 1]\n",
      " ...\n",
      " [0 1 0 ... 1 1 1]\n",
      " [0 1 1 ... 1 1 1]\n",
      " [0 0 0 ... 0 0 0]]\n",
      "2020-12-15 19:30:47,974 [DEBUG] kashgari - predict seq_length: None, input: (2, 176, 24)\n"
     ]
    },
    {
     "name": "stdout",
     "output_type": "stream",
     "text": [
      "6/6 [==============================] - 0s 34ms/step\n"
     ]
    },
    {
     "name": "stderr",
     "output_type": "stream",
     "text": [
      "2020-12-15 19:30:48,246 [DEBUG] kashgari - predict output: (176, 24)\n",
      "2020-12-15 19:30:48,248 [DEBUG] kashgari - predict output argmax: [[0 1 1 ... 1 1 1]\n",
      " [0 1 1 ... 1 1 1]\n",
      " [0 1 1 ... 1 1 1]\n",
      " ...\n",
      " [0 1 1 ... 1 1 1]\n",
      " [0 1 1 ... 1 1 1]\n",
      " [0 0 0 ... 0 0 0]]\n",
      "2020-12-15 19:30:48,252 [DEBUG] kashgari - predict seq_length: None, input: (2, 218, 25)\n"
     ]
    },
    {
     "name": "stdout",
     "output_type": "stream",
     "text": [
      "7/7 [==============================] - 0s 37ms/step\n"
     ]
    },
    {
     "name": "stderr",
     "output_type": "stream",
     "text": [
      "2020-12-15 19:30:48,582 [DEBUG] kashgari - predict output: (218, 25)\n",
      "2020-12-15 19:30:48,583 [DEBUG] kashgari - predict output argmax: [[0 1 1 ... 1 1 1]\n",
      " [0 1 1 ... 1 1 1]\n",
      " [0 1 1 ... 1 1 1]\n",
      " ...\n",
      " [0 1 1 ... 1 1 1]\n",
      " [0 1 1 ... 1 1 1]\n",
      " [0 0 0 ... 0 0 0]]\n",
      "2020-12-15 19:30:48,585 [DEBUG] kashgari - predict seq_length: None, input: (2, 91, 23)\n"
     ]
    },
    {
     "name": "stdout",
     "output_type": "stream",
     "text": [
      "3/3 [==============================] - 0s 27ms/step\n"
     ]
    },
    {
     "name": "stderr",
     "output_type": "stream",
     "text": [
      "2020-12-15 19:30:48,735 [DEBUG] kashgari - predict output: (91, 23)\n",
      "2020-12-15 19:30:48,736 [DEBUG] kashgari - predict output argmax: [[0 1 1 ... 1 1 1]\n",
      " [0 1 1 ... 1 1 1]\n",
      " [0 1 1 ... 1 1 1]\n",
      " ...\n",
      " [0 1 1 ... 1 1 1]\n",
      " [0 1 1 ... 1 1 1]\n",
      " [0 0 0 ... 0 0 0]]\n",
      "2020-12-15 19:30:48,740 [DEBUG] kashgari - predict seq_length: None, input: (2, 194, 28)\n"
     ]
    },
    {
     "name": "stdout",
     "output_type": "stream",
     "text": [
      "7/7 [==============================] - 0s 35ms/step\n"
     ]
    },
    {
     "name": "stderr",
     "output_type": "stream",
     "text": [
      "2020-12-15 19:30:49,058 [DEBUG] kashgari - predict output: (194, 28)\n",
      "2020-12-15 19:30:49,059 [DEBUG] kashgari - predict output argmax: [[0 1 1 ... 1 1 1]\n",
      " [0 1 1 ... 1 1 1]\n",
      " [0 1 1 ... 1 1 1]\n",
      " ...\n",
      " [0 3 2 ... 1 1 1]\n",
      " [0 1 1 ... 1 1 1]\n",
      " [0 0 0 ... 0 0 0]]\n",
      "2020-12-15 19:30:49,062 [DEBUG] kashgari - predict seq_length: None, input: (2, 179, 23)\n"
     ]
    },
    {
     "name": "stdout",
     "output_type": "stream",
     "text": [
      "6/6 [==============================] - 0s 33ms/step\n"
     ]
    },
    {
     "name": "stderr",
     "output_type": "stream",
     "text": [
      "2020-12-15 19:30:49,331 [DEBUG] kashgari - predict output: (179, 23)\n",
      "2020-12-15 19:30:49,332 [DEBUG] kashgari - predict output argmax: [[0 1 1 ... 1 1 1]\n",
      " [0 1 1 ... 1 1 1]\n",
      " [0 1 1 ... 1 1 1]\n",
      " ...\n",
      " [0 1 1 ... 1 1 1]\n",
      " [0 1 1 ... 1 1 1]\n",
      " [0 0 0 ... 0 0 0]]\n",
      "2020-12-15 19:30:49,337 [DEBUG] kashgari - predict seq_length: None, input: (2, 234, 40)\n"
     ]
    },
    {
     "name": "stdout",
     "output_type": "stream",
     "text": [
      "8/8 [==============================] - 0s 50ms/step\n"
     ]
    },
    {
     "name": "stderr",
     "output_type": "stream",
     "text": [
      "2020-12-15 19:30:53,435 [DEBUG] kashgari - predict output: (234, 40)\n",
      "2020-12-15 19:30:53,437 [DEBUG] kashgari - predict output argmax: [[0 1 1 ... 1 1 1]\n",
      " [0 1 1 ... 1 1 1]\n",
      " [0 1 1 ... 1 1 1]\n",
      " ...\n",
      " [0 1 1 ... 1 1 1]\n",
      " [0 1 1 ... 1 1 1]\n",
      " [0 0 0 ... 0 0 0]]\n",
      "2020-12-15 19:30:53,440 [DEBUG] kashgari - predict seq_length: None, input: (2, 250, 26)\n"
     ]
    },
    {
     "name": "stdout",
     "output_type": "stream",
     "text": [
      "8/8 [==============================] - 0s 38ms/step\n"
     ]
    },
    {
     "name": "stderr",
     "output_type": "stream",
     "text": [
      "2020-12-15 19:30:57,431 [DEBUG] kashgari - predict output: (250, 26)\n",
      "2020-12-15 19:30:57,432 [DEBUG] kashgari - predict output argmax: [[0 1 1 ... 1 1 1]\n",
      " [0 1 0 ... 1 1 1]\n",
      " [0 1 1 ... 1 1 1]\n",
      " ...\n",
      " [0 1 1 ... 1 1 1]\n",
      " [0 1 1 ... 1 1 1]\n",
      " [0 0 0 ... 0 0 0]]\n",
      "2020-12-15 19:30:57,436 [DEBUG] kashgari - predict seq_length: None, input: (2, 170, 43)\n"
     ]
    },
    {
     "name": "stdout",
     "output_type": "stream",
     "text": [
      "6/6 [==============================] - 0s 48ms/step\n"
     ]
    },
    {
     "name": "stderr",
     "output_type": "stream",
     "text": [
      "2020-12-15 19:31:01,413 [DEBUG] kashgari - predict output: (170, 43)\n",
      "2020-12-15 19:31:01,414 [DEBUG] kashgari - predict output argmax: [[0 1 1 ... 1 1 1]\n",
      " [0 1 1 ... 1 1 1]\n",
      " [0 1 1 ... 1 1 0]\n",
      " ...\n",
      " [0 1 1 ... 1 1 1]\n",
      " [0 1 1 ... 1 1 1]\n",
      " [0 0 0 ... 0 0 0]]\n",
      "2020-12-15 19:31:01,417 [DEBUG] kashgari - predict seq_length: None, input: (2, 145, 34)\n"
     ]
    },
    {
     "name": "stdout",
     "output_type": "stream",
     "text": [
      "5/5 [==============================] - 0s 38ms/step\n"
     ]
    },
    {
     "name": "stderr",
     "output_type": "stream",
     "text": [
      "2020-12-15 19:31:01,684 [DEBUG] kashgari - predict output: (145, 34)\n",
      "2020-12-15 19:31:01,685 [DEBUG] kashgari - predict output argmax: [[0 1 1 ... 5 5 5]\n",
      " [0 3 2 ... 1 1 1]\n",
      " [0 1 1 ... 1 1 1]\n",
      " ...\n",
      " [0 1 1 ... 1 1 1]\n",
      " [0 1 0 ... 1 1 1]\n",
      " [0 0 0 ... 0 0 0]]\n",
      "2020-12-15 19:31:01,688 [DEBUG] kashgari - predict seq_length: None, input: (2, 102, 29)\n"
     ]
    },
    {
     "name": "stdout",
     "output_type": "stream",
     "text": [
      "4/4 [==============================] - 0s 32ms/step\n"
     ]
    },
    {
     "name": "stderr",
     "output_type": "stream",
     "text": [
      "2020-12-15 19:31:01,887 [DEBUG] kashgari - predict output: (102, 29)\n",
      "2020-12-15 19:31:01,888 [DEBUG] kashgari - predict output argmax: [[0 1 1 ... 1 1 1]\n",
      " [0 1 1 ... 1 1 1]\n",
      " [0 1 1 ... 1 1 1]\n",
      " ...\n",
      " [0 1 1 ... 1 1 1]\n",
      " [0 1 1 ... 1 1 1]\n",
      " [0 0 0 ... 0 0 0]]\n",
      "2020-12-15 19:31:01,893 [DEBUG] kashgari - predict seq_length: None, input: (2, 340, 20)\n"
     ]
    },
    {
     "name": "stdout",
     "output_type": "stream",
     "text": [
      "11/11 [==============================] - 0s 33ms/step\n"
     ]
    },
    {
     "name": "stderr",
     "output_type": "stream",
     "text": [
      "2020-12-15 19:31:02,326 [DEBUG] kashgari - predict output: (340, 20)\n",
      "2020-12-15 19:31:02,327 [DEBUG] kashgari - predict output argmax: [[0 1 1 ... 1 1 1]\n",
      " [0 1 1 ... 1 1 1]\n",
      " [0 1 1 ... 1 1 1]\n",
      " ...\n",
      " [0 1 1 ... 1 1 1]\n",
      " [0 1 1 ... 1 1 1]\n",
      " [0 0 0 ... 0 0 0]]\n",
      "2020-12-15 19:31:02,331 [DEBUG] kashgari - predict seq_length: None, input: (2, 122, 23)\n"
     ]
    },
    {
     "name": "stdout",
     "output_type": "stream",
     "text": [
      "4/4 [==============================] - 0s 31ms/step\n"
     ]
    },
    {
     "name": "stderr",
     "output_type": "stream",
     "text": [
      "2020-12-15 19:31:02,527 [DEBUG] kashgari - predict output: (122, 23)\n",
      "2020-12-15 19:31:02,528 [DEBUG] kashgari - predict output argmax: [[0 1 1 ... 5 5 5]\n",
      " [0 3 2 ... 1 1 1]\n",
      " [0 1 1 ... 1 1 1]\n",
      " ...\n",
      " [0 1 1 ... 1 1 1]\n",
      " [0 1 1 ... 1 1 1]\n",
      " [0 0 0 ... 0 0 0]]\n",
      "2020-12-15 19:31:02,534 [DEBUG] kashgari - predict seq_length: None, input: (2, 381, 28)\n"
     ]
    },
    {
     "name": "stdout",
     "output_type": "stream",
     "text": [
      "12/12 [==============================] - 0s 41ms/step\n"
     ]
    },
    {
     "name": "stderr",
     "output_type": "stream",
     "text": [
      "2020-12-15 19:31:03,097 [DEBUG] kashgari - predict output: (381, 28)\n",
      "2020-12-15 19:31:03,098 [DEBUG] kashgari - predict output argmax: [[0 1 1 ... 1 1 1]\n",
      " [0 1 1 ... 1 1 1]\n",
      " [0 1 1 ... 1 1 1]\n",
      " ...\n",
      " [0 1 1 ... 1 1 1]\n",
      " [0 1 0 ... 1 1 1]\n",
      " [0 0 0 ... 0 0 0]]\n",
      "2020-12-15 19:31:03,103 [DEBUG] kashgari - predict seq_length: None, input: (2, 244, 27)\n"
     ]
    },
    {
     "name": "stdout",
     "output_type": "stream",
     "text": [
      "8/8 [==============================] - 0s 37ms/step\n"
     ]
    },
    {
     "name": "stderr",
     "output_type": "stream",
     "text": [
      "2020-12-15 19:31:03,481 [DEBUG] kashgari - predict output: (244, 27)\n",
      "2020-12-15 19:31:03,482 [DEBUG] kashgari - predict output argmax: [[0 1 1 ... 1 1 1]\n",
      " [0 1 1 ... 1 1 1]\n",
      " [0 1 1 ... 1 1 1]\n",
      " ...\n",
      " [0 1 1 ... 1 1 1]\n",
      " [0 1 1 ... 1 1 1]\n",
      " [0 0 0 ... 0 0 0]]\n",
      "2020-12-15 19:31:03,484 [DEBUG] kashgari - predict seq_length: None, input: (2, 91, 46)\n"
     ]
    },
    {
     "name": "stdout",
     "output_type": "stream",
     "text": [
      "3/3 [==============================] - 0s 43ms/step\n"
     ]
    },
    {
     "name": "stderr",
     "output_type": "stream",
     "text": [
      "2020-12-15 19:31:03,707 [DEBUG] kashgari - predict output: (91, 46)\n",
      "2020-12-15 19:31:03,709 [DEBUG] kashgari - predict output argmax: [[0 1 1 ... 1 1 1]\n",
      " [0 1 1 ... 1 1 1]\n",
      " [0 1 1 ... 1 1 1]\n",
      " ...\n",
      " [0 1 1 ... 1 1 1]\n",
      " [0 1 1 ... 1 1 1]\n",
      " [0 0 0 ... 0 0 0]]\n",
      "2020-12-15 19:31:03,712 [DEBUG] kashgari - predict seq_length: None, input: (2, 223, 42)\n"
     ]
    },
    {
     "name": "stdout",
     "output_type": "stream",
     "text": [
      "7/7 [==============================] - 0s 51ms/step\n"
     ]
    },
    {
     "name": "stderr",
     "output_type": "stream",
     "text": [
      "2020-12-15 19:31:04,160 [DEBUG] kashgari - predict output: (223, 42)\n",
      "2020-12-15 19:31:04,161 [DEBUG] kashgari - predict output argmax: [[0 1 1 ... 1 1 1]\n",
      " [0 1 1 ... 1 1 1]\n",
      " [0 1 0 ... 1 1 1]\n",
      " ...\n",
      " [0 1 1 ... 1 1 1]\n",
      " [0 1 1 ... 1 1 1]\n",
      " [0 0 0 ... 0 0 0]]\n",
      "2020-12-15 19:31:04,165 [DEBUG] kashgari - predict seq_length: None, input: (2, 146, 25)\n"
     ]
    },
    {
     "name": "stdout",
     "output_type": "stream",
     "text": [
      "5/5 [==============================] - 0s 34ms/step\n"
     ]
    },
    {
     "name": "stderr",
     "output_type": "stream",
     "text": [
      "2020-12-15 19:31:04,404 [DEBUG] kashgari - predict output: (146, 25)\n",
      "2020-12-15 19:31:04,405 [DEBUG] kashgari - predict output argmax: [[0 1 1 ... 2 2 2]\n",
      " [0 1 1 ... 1 1 1]\n",
      " [0 1 1 ... 1 1 1]\n",
      " ...\n",
      " [0 1 1 ... 1 1 1]\n",
      " [0 1 1 ... 1 1 1]\n",
      " [0 0 0 ... 0 0 0]]\n",
      "2020-12-15 19:31:04,409 [DEBUG] kashgari - predict seq_length: None, input: (2, 162, 23)\n"
     ]
    },
    {
     "name": "stdout",
     "output_type": "stream",
     "text": [
      "6/6 [==============================] - 0s 33ms/step\n"
     ]
    },
    {
     "name": "stderr",
     "output_type": "stream",
     "text": [
      "2020-12-15 19:31:04,676 [DEBUG] kashgari - predict output: (162, 23)\n",
      "2020-12-15 19:31:04,676 [DEBUG] kashgari - predict output argmax: [[0 1 1 ... 1 1 1]\n",
      " [0 1 1 ... 1 1 1]\n",
      " [0 1 1 ... 1 1 1]\n",
      " ...\n",
      " [0 1 1 ... 1 1 1]\n",
      " [0 1 1 ... 1 1 1]\n",
      " [0 0 0 ... 0 0 0]]\n",
      "2020-12-15 19:31:04,681 [DEBUG] kashgari - predict seq_length: None, input: (2, 244, 27)\n"
     ]
    },
    {
     "name": "stdout",
     "output_type": "stream",
     "text": [
      "8/8 [==============================] - 0s 38ms/step\n"
     ]
    },
    {
     "name": "stderr",
     "output_type": "stream",
     "text": [
      "2020-12-15 19:31:05,053 [DEBUG] kashgari - predict output: (244, 27)\n",
      "2020-12-15 19:31:05,054 [DEBUG] kashgari - predict output argmax: [[0 1 1 ... 1 1 1]\n",
      " [0 9 5 ... 5 5 5]\n",
      " [0 1 1 ... 1 1 1]\n",
      " ...\n",
      " [0 1 1 ... 1 1 1]\n",
      " [0 1 1 ... 0 1 1]\n",
      " [0 0 0 ... 0 0 0]]\n",
      "2020-12-15 19:31:05,058 [DEBUG] kashgari - predict seq_length: None, input: (2, 170, 18)\n"
     ]
    },
    {
     "name": "stdout",
     "output_type": "stream",
     "text": [
      "6/6 [==============================] - 0s 31ms/step\n"
     ]
    },
    {
     "name": "stderr",
     "output_type": "stream",
     "text": [
      "2020-12-15 19:31:08,891 [DEBUG] kashgari - predict output: (170, 18)\n",
      "2020-12-15 19:31:08,891 [DEBUG] kashgari - predict output argmax: [[0 1 1 ... 0 1 1]\n",
      " [0 1 1 ... 1 1 1]\n",
      " [0 1 1 ... 1 1 1]\n",
      " ...\n",
      " [0 1 1 ... 1 1 1]\n",
      " [0 1 1 ... 1 1 1]\n",
      " [0 0 0 ... 0 0 0]]\n",
      "2020-12-15 19:31:08,895 [DEBUG] kashgari - predict seq_length: None, input: (2, 199, 36)\n"
     ]
    },
    {
     "name": "stdout",
     "output_type": "stream",
     "text": [
      "7/7 [==============================] - 0s 47ms/step\n"
     ]
    },
    {
     "name": "stderr",
     "output_type": "stream",
     "text": [
      "2020-12-15 19:31:09,313 [DEBUG] kashgari - predict output: (199, 36)\n",
      "2020-12-15 19:31:09,314 [DEBUG] kashgari - predict output argmax: [[0 1 1 ... 1 1 1]\n",
      " [0 1 1 ... 1 1 1]\n",
      " [0 1 1 ... 1 1 1]\n",
      " ...\n",
      " [0 1 1 ... 1 1 1]\n",
      " [0 1 1 ... 1 1 1]\n",
      " [0 0 0 ... 0 0 0]]\n",
      "2020-12-15 19:31:09,322 [DEBUG] kashgari - predict seq_length: None, input: (2, 557, 17)\n"
     ]
    },
    {
     "name": "stdout",
     "output_type": "stream",
     "text": [
      "18/18 [==============================] - 1s 33ms/step\n"
     ]
    },
    {
     "name": "stderr",
     "output_type": "stream",
     "text": [
      "2020-12-15 19:31:09,985 [DEBUG] kashgari - predict output: (557, 17)\n",
      "2020-12-15 19:31:09,986 [DEBUG] kashgari - predict output argmax: [[0 1 1 ... 1 1 1]\n",
      " [0 1 0 ... 1 1 1]\n",
      " [0 9 5 ... 5 5 5]\n",
      " ...\n",
      " [0 1 1 ... 1 1 1]\n",
      " [0 1 1 ... 1 1 1]\n",
      " [0 0 0 ... 0 0 0]]\n",
      "2020-12-15 19:31:09,989 [DEBUG] kashgari - predict seq_length: None, input: (2, 278, 42)\n"
     ]
    },
    {
     "name": "stdout",
     "output_type": "stream",
     "text": [
      "9/9 [==============================] - 0s 52ms/step\n"
     ]
    },
    {
     "name": "stderr",
     "output_type": "stream",
     "text": [
      "2020-12-15 19:31:10,558 [DEBUG] kashgari - predict output: (278, 42)\n",
      "2020-12-15 19:31:10,559 [DEBUG] kashgari - predict output argmax: [[0 1 1 ... 1 1 1]\n",
      " [0 1 1 ... 1 1 1]\n",
      " [0 1 1 ... 1 1 1]\n",
      " ...\n",
      " [0 1 0 ... 1 1 1]\n",
      " [0 1 1 ... 1 1 1]\n",
      " [0 0 0 ... 0 0 0]]\n",
      "2020-12-15 19:31:10,563 [DEBUG] kashgari - predict seq_length: None, input: (2, 91, 19)\n"
     ]
    },
    {
     "name": "stdout",
     "output_type": "stream",
     "text": [
      "3/3 [==============================] - 0s 25ms/step\n"
     ]
    },
    {
     "name": "stderr",
     "output_type": "stream",
     "text": [
      "2020-12-15 19:31:10,705 [DEBUG] kashgari - predict output: (91, 19)\n",
      "2020-12-15 19:31:10,706 [DEBUG] kashgari - predict output argmax: [[0 1 1 ... 1 1 1]\n",
      " [0 1 1 ... 1 1 1]\n",
      " [0 1 1 ... 1 1 1]\n",
      " ...\n",
      " [0 1 0 ... 1 1 1]\n",
      " [0 1 1 ... 1 1 1]\n",
      " [0 0 0 ... 0 0 0]]\n",
      "2020-12-15 19:31:10,713 [DEBUG] kashgari - predict seq_length: None, input: (2, 296, 24)\n"
     ]
    },
    {
     "name": "stdout",
     "output_type": "stream",
     "text": [
      "10/10 [==============================] - 0s 37ms/step\n"
     ]
    },
    {
     "name": "stderr",
     "output_type": "stream",
     "text": [
      "2020-12-15 19:31:11,149 [DEBUG] kashgari - predict output: (296, 24)\n",
      "2020-12-15 19:31:11,150 [DEBUG] kashgari - predict output argmax: [[0 1 1 ... 1 1 1]\n",
      " [0 1 1 ... 1 1 1]\n",
      " [0 1 1 ... 1 1 1]\n",
      " ...\n",
      " [0 1 1 ... 1 1 1]\n",
      " [0 1 1 ... 1 1 1]\n",
      " [0 0 0 ... 0 0 0]]\n",
      "2020-12-15 19:31:11,153 [DEBUG] kashgari - predict seq_length: None, input: (2, 154, 48)\n"
     ]
    },
    {
     "name": "stdout",
     "output_type": "stream",
     "text": [
      "5/5 [==============================] - 0s 58ms/step\n"
     ]
    },
    {
     "name": "stderr",
     "output_type": "stream",
     "text": [
      "2020-12-15 19:31:15,204 [DEBUG] kashgari - predict output: (154, 48)\n",
      "2020-12-15 19:31:15,205 [DEBUG] kashgari - predict output argmax: [[0 1 1 ... 1 1 1]\n",
      " [0 1 1 ... 1 1 1]\n",
      " [0 1 1 ... 1 1 1]\n",
      " ...\n",
      " [0 1 1 ... 1 1 1]\n",
      " [0 1 1 ... 1 1 1]\n",
      " [0 0 0 ... 0 0 0]]\n",
      "2020-12-15 19:31:15,208 [DEBUG] kashgari - predict seq_length: None, input: (2, 206, 37)\n"
     ]
    },
    {
     "name": "stdout",
     "output_type": "stream",
     "text": [
      "7/7 [==============================] - 0s 52ms/step\n"
     ]
    },
    {
     "name": "stderr",
     "output_type": "stream",
     "text": [
      "2020-12-15 19:31:20,879 [DEBUG] kashgari - predict output: (206, 37)\n",
      "2020-12-15 19:31:20,880 [DEBUG] kashgari - predict output argmax: [[0 1 1 ... 1 1 1]\n",
      " [0 1 1 ... 1 1 1]\n",
      " [0 1 1 ... 1 1 1]\n",
      " ...\n",
      " [0 1 1 ... 1 1 1]\n",
      " [0 1 9 ... 1 1 1]\n",
      " [0 0 0 ... 0 0 0]]\n",
      "2020-12-15 19:31:20,884 [DEBUG] kashgari - predict seq_length: None, input: (2, 241, 20)\n"
     ]
    },
    {
     "name": "stdout",
     "output_type": "stream",
     "text": [
      "8/8 [==============================] - 0s 32ms/step\n"
     ]
    },
    {
     "name": "stderr",
     "output_type": "stream",
     "text": [
      "2020-12-15 19:31:21,207 [DEBUG] kashgari - predict output: (241, 20)\n",
      "2020-12-15 19:31:21,208 [DEBUG] kashgari - predict output argmax: [[0 1 1 ... 1 1 1]\n",
      " [0 1 1 ... 1 1 1]\n",
      " [0 1 0 ... 1 1 1]\n",
      " ...\n",
      " [0 1 1 ... 1 1 1]\n",
      " [0 1 1 ... 1 1 1]\n",
      " [0 0 0 ... 0 0 0]]\n",
      "2020-12-15 19:31:21,215 [DEBUG] kashgari - predict seq_length: None, input: (2, 459, 31)\n"
     ]
    },
    {
     "name": "stdout",
     "output_type": "stream",
     "text": [
      "15/15 [==============================] - 1s 46ms/step\n"
     ]
    },
    {
     "name": "stderr",
     "output_type": "stream",
     "text": [
      "2020-12-15 19:31:21,991 [DEBUG] kashgari - predict output: (459, 31)\n",
      "2020-12-15 19:31:21,992 [DEBUG] kashgari - predict output argmax: [[0 1 1 ... 1 1 1]\n",
      " [0 1 1 ... 1 1 1]\n",
      " [0 1 1 ... 1 1 1]\n",
      " ...\n",
      " [0 1 1 ... 1 1 1]\n",
      " [0 1 1 ... 1 1 1]\n",
      " [0 0 0 ... 0 0 0]]\n",
      "2020-12-15 19:31:21,996 [DEBUG] kashgari - predict seq_length: None, input: (2, 223, 34)\n"
     ]
    },
    {
     "name": "stdout",
     "output_type": "stream",
     "text": [
      "7/7 [==============================] - 0s 45ms/step\n"
     ]
    },
    {
     "name": "stderr",
     "output_type": "stream",
     "text": [
      "2020-12-15 19:31:22,395 [DEBUG] kashgari - predict output: (223, 34)\n",
      "2020-12-15 19:31:22,396 [DEBUG] kashgari - predict output argmax: [[0 1 1 ... 1 1 1]\n",
      " [0 1 1 ... 1 1 1]\n",
      " [0 1 1 ... 1 1 1]\n",
      " ...\n",
      " [0 1 1 ... 1 1 1]\n",
      " [0 1 1 ... 1 1 1]\n",
      " [0 0 0 ... 0 0 0]]\n",
      "2020-12-15 19:31:22,400 [DEBUG] kashgari - predict seq_length: None, input: (2, 358, 26)\n"
     ]
    },
    {
     "name": "stdout",
     "output_type": "stream",
     "text": [
      "12/12 [==============================] - 0s 40ms/step\n"
     ]
    },
    {
     "name": "stderr",
     "output_type": "stream",
     "text": [
      "2020-12-15 19:31:22,964 [DEBUG] kashgari - predict output: (358, 26)\n",
      "2020-12-15 19:31:22,965 [DEBUG] kashgari - predict output argmax: [[0 1 1 ... 1 1 1]\n",
      " [0 1 1 ... 1 1 1]\n",
      " [0 1 0 ... 1 1 1]\n",
      " ...\n",
      " [0 1 1 ... 1 1 1]\n",
      " [0 1 1 ... 1 1 1]\n",
      " [0 0 0 ... 0 0 0]]\n",
      "2020-12-15 19:31:22,968 [DEBUG] kashgari - predict seq_length: None, input: (2, 72, 20)\n"
     ]
    },
    {
     "name": "stdout",
     "output_type": "stream",
     "text": [
      "3/3 [==============================] - 0s 24ms/step\n"
     ]
    },
    {
     "name": "stderr",
     "output_type": "stream",
     "text": [
      "2020-12-15 19:31:23,100 [DEBUG] kashgari - predict output: (72, 20)\n",
      "2020-12-15 19:31:23,101 [DEBUG] kashgari - predict output argmax: [[0 1 1 ... 1 1 1]\n",
      " [0 1 1 ... 1 1 1]\n",
      " [0 1 1 ... 1 1 1]\n",
      " ...\n",
      " [0 1 1 ... 1 1 1]\n",
      " [0 1 1 ... 1 1 1]\n",
      " [0 0 0 ... 0 0 0]]\n",
      "2020-12-15 19:31:23,104 [DEBUG] kashgari - predict seq_length: None, input: (2, 75, 24)\n"
     ]
    },
    {
     "name": "stdout",
     "output_type": "stream",
     "text": [
      "3/3 [==============================] - 0s 25ms/step\n"
     ]
    },
    {
     "name": "stderr",
     "output_type": "stream",
     "text": [
      "2020-12-15 19:31:23,250 [DEBUG] kashgari - predict output: (75, 24)\n",
      "2020-12-15 19:31:23,251 [DEBUG] kashgari - predict output argmax: [[0 1 1 ... 1 1 1]\n",
      " [0 1 1 ... 1 1 1]\n",
      " [0 1 1 ... 1 1 1]\n",
      " ...\n",
      " [0 1 1 ... 1 1 1]\n",
      " [0 1 1 ... 1 1 1]\n",
      " [0 0 0 ... 0 0 0]]\n",
      "2020-12-15 19:31:23,255 [DEBUG] kashgari - predict seq_length: None, input: (2, 191, 36)\n"
     ]
    },
    {
     "name": "stdout",
     "output_type": "stream",
     "text": [
      "6/6 [==============================] - 0s 45ms/step\n"
     ]
    },
    {
     "name": "stderr",
     "output_type": "stream",
     "text": [
      "2020-12-15 19:31:23,607 [DEBUG] kashgari - predict output: (191, 36)\n",
      "2020-12-15 19:31:23,607 [DEBUG] kashgari - predict output argmax: [[0 1 1 ... 1 1 1]\n",
      " [0 1 1 ... 1 1 1]\n",
      " [0 1 1 ... 1 1 1]\n",
      " ...\n",
      " [0 1 1 ... 1 1 1]\n",
      " [0 1 1 ... 1 1 1]\n",
      " [0 0 0 ... 0 0 0]]\n",
      "2020-12-15 19:31:23,610 [DEBUG] kashgari - predict seq_length: None, input: (2, 149, 19)\n"
     ]
    },
    {
     "name": "stdout",
     "output_type": "stream",
     "text": [
      "5/5 [==============================] - 0s 30ms/step\n"
     ]
    },
    {
     "name": "stderr",
     "output_type": "stream",
     "text": [
      "2020-12-15 19:31:23,824 [DEBUG] kashgari - predict output: (149, 19)\n",
      "2020-12-15 19:31:23,825 [DEBUG] kashgari - predict output argmax: [[0 1 1 ... 5 5 5]\n",
      " [0 1 1 ... 4 4 4]\n",
      " [0 1 1 ... 1 1 1]\n",
      " ...\n",
      " [0 1 1 ... 1 1 1]\n",
      " [0 1 1 ... 1 1 1]\n",
      " [0 0 0 ... 0 0 0]]\n",
      "2020-12-15 19:31:23,829 [DEBUG] kashgari - predict seq_length: None, input: (2, 176, 22)\n"
     ]
    },
    {
     "name": "stdout",
     "output_type": "stream",
     "text": [
      "6/6 [==============================] - 0s 32ms/step\n"
     ]
    },
    {
     "name": "stderr",
     "output_type": "stream",
     "text": [
      "2020-12-15 19:31:24,089 [DEBUG] kashgari - predict output: (176, 22)\n",
      "2020-12-15 19:31:24,090 [DEBUG] kashgari - predict output argmax: [[0 1 1 ... 1 1 1]\n",
      " [0 1 1 ... 1 1 1]\n",
      " [0 1 1 ... 1 1 1]\n",
      " ...\n",
      " [0 1 7 ... 4 4 4]\n",
      " [0 1 1 ... 1 1 1]\n",
      " [0 0 0 ... 0 0 0]]\n",
      "2020-12-15 19:31:24,093 [DEBUG] kashgari - predict seq_length: None, input: (2, 112, 45)\n"
     ]
    },
    {
     "name": "stdout",
     "output_type": "stream",
     "text": [
      "4/4 [==============================] - 0s 51ms/step\n"
     ]
    },
    {
     "name": "stderr",
     "output_type": "stream",
     "text": [
      "2020-12-15 19:31:27,975 [DEBUG] kashgari - predict output: (112, 45)\n",
      "2020-12-15 19:31:27,976 [DEBUG] kashgari - predict output argmax: [[0 1 1 ... 4 4 4]\n",
      " [0 1 1 ... 1 1 1]\n",
      " [0 1 1 ... 1 1 1]\n",
      " ...\n",
      " [0 1 1 ... 1 1 1]\n",
      " [0 1 1 ... 1 1 1]\n",
      " [0 0 0 ... 0 0 0]]\n",
      "2020-12-15 19:31:27,980 [DEBUG] kashgari - predict seq_length: None, input: (2, 269, 21)\n"
     ]
    },
    {
     "name": "stdout",
     "output_type": "stream",
     "text": [
      "9/9 [==============================] - 0s 36ms/step\n"
     ]
    },
    {
     "name": "stderr",
     "output_type": "stream",
     "text": [
      "2020-12-15 19:31:28,376 [DEBUG] kashgari - predict output: (269, 21)\n",
      "2020-12-15 19:31:28,377 [DEBUG] kashgari - predict output argmax: [[0 1 1 ... 1 1 1]\n",
      " [0 1 1 ... 1 1 1]\n",
      " [0 1 1 ... 1 1 1]\n",
      " ...\n",
      " [0 1 1 ... 1 1 1]\n",
      " [0 1 1 ... 1 1 1]\n",
      " [0 0 0 ... 0 0 0]]\n",
      "2020-12-15 19:31:28,381 [DEBUG] kashgari - predict seq_length: None, input: (2, 112, 18)\n"
     ]
    },
    {
     "name": "stdout",
     "output_type": "stream",
     "text": [
      "4/4 [==============================] - 0s 26ms/step\n"
     ]
    },
    {
     "name": "stderr",
     "output_type": "stream",
     "text": [
      "2020-12-15 19:31:28,554 [DEBUG] kashgari - predict output: (112, 18)\n",
      "2020-12-15 19:31:28,555 [DEBUG] kashgari - predict output argmax: [[0 1 1 ... 1 1 1]\n",
      " [0 1 1 ... 1 1 1]\n",
      " [0 1 1 ... 1 1 1]\n",
      " ...\n",
      " [0 1 1 ... 1 1 1]\n",
      " [0 1 7 ... 1 1 1]\n",
      " [0 0 0 ... 0 0 0]]\n",
      "2020-12-15 19:31:28,562 [DEBUG] kashgari - predict seq_length: None, input: (2, 352, 22)\n"
     ]
    },
    {
     "name": "stdout",
     "output_type": "stream",
     "text": [
      "11/11 [==============================] - 0s 30ms/step\n"
     ]
    },
    {
     "name": "stderr",
     "output_type": "stream",
     "text": [
      "2020-12-15 19:31:31,707 [DEBUG] kashgari - predict output: (352, 22)\n",
      "2020-12-15 19:31:31,708 [DEBUG] kashgari - predict output argmax: [[0 1 1 ... 1 1 1]\n",
      " [0 1 1 ... 1 1 1]\n",
      " [0 1 1 ... 1 1 1]\n",
      " ...\n",
      " [0 1 1 ... 1 1 1]\n",
      " [0 1 1 ... 1 1 1]\n",
      " [0 0 0 ... 0 0 0]]\n",
      "2020-12-15 19:31:31,712 [DEBUG] kashgari - predict seq_length: None, input: (2, 243, 24)\n"
     ]
    },
    {
     "name": "stdout",
     "output_type": "stream",
     "text": [
      "8/8 [==============================] - 0s 36ms/step\n"
     ]
    },
    {
     "name": "stderr",
     "output_type": "stream",
     "text": [
      "2020-12-15 19:31:32,071 [DEBUG] kashgari - predict output: (243, 24)\n",
      "2020-12-15 19:31:32,072 [DEBUG] kashgari - predict output argmax: [[0 1 1 ... 1 1 1]\n",
      " [0 1 1 ... 1 1 1]\n",
      " [0 1 1 ... 1 1 1]\n",
      " ...\n",
      " [0 1 1 ... 1 1 1]\n",
      " [0 1 1 ... 1 1 1]\n",
      " [0 0 0 ... 0 0 0]]\n",
      "2020-12-15 19:31:32,078 [DEBUG] kashgari - predict seq_length: None, input: (2, 340, 27)\n"
     ]
    },
    {
     "name": "stdout",
     "output_type": "stream",
     "text": [
      "11/11 [==============================] - 0s 40ms/step\n"
     ]
    },
    {
     "name": "stderr",
     "output_type": "stream",
     "text": [
      "2020-12-15 19:31:32,601 [DEBUG] kashgari - predict output: (340, 27)\n",
      "2020-12-15 19:31:32,602 [DEBUG] kashgari - predict output argmax: [[0 1 1 ... 1 1 1]\n",
      " [0 1 1 ... 1 1 1]\n",
      " [0 1 1 ... 1 1 1]\n",
      " ...\n",
      " [0 1 1 ... 1 1 1]\n",
      " [0 1 1 ... 1 1 1]\n",
      " [0 0 0 ... 0 0 0]]\n",
      "2020-12-15 19:31:32,606 [DEBUG] kashgari - predict seq_length: None, input: (2, 384, 25)\n"
     ]
    },
    {
     "name": "stdout",
     "output_type": "stream",
     "text": [
      "12/12 [==============================] - 0s 33ms/step\n"
     ]
    },
    {
     "name": "stderr",
     "output_type": "stream",
     "text": [
      "2020-12-15 19:31:35,607 [DEBUG] kashgari - predict output: (384, 25)\n",
      "2020-12-15 19:31:35,608 [DEBUG] kashgari - predict output argmax: [[0 1 1 ... 1 1 1]\n",
      " [0 1 1 ... 1 1 1]\n",
      " [0 1 1 ... 1 1 1]\n",
      " ...\n",
      " [0 1 1 ... 1 1 1]\n",
      " [0 1 1 ... 1 1 1]\n",
      " [0 0 0 ... 0 0 0]]\n",
      "2020-12-15 19:31:35,611 [DEBUG] kashgari - predict seq_length: None, input: (2, 112, 36)\n"
     ]
    },
    {
     "name": "stdout",
     "output_type": "stream",
     "text": [
      "4/4 [==============================] - 0s 38ms/step\n"
     ]
    },
    {
     "name": "stderr",
     "output_type": "stream",
     "text": [
      "2020-12-15 19:31:35,845 [DEBUG] kashgari - predict output: (112, 36)\n",
      "2020-12-15 19:31:35,846 [DEBUG] kashgari - predict output argmax: [[0 1 1 ... 1 1 1]\n",
      " [0 1 1 ... 1 1 1]\n",
      " [0 1 1 ... 1 1 1]\n",
      " ...\n",
      " [0 1 1 ... 1 1 1]\n",
      " [0 1 0 ... 1 1 1]\n",
      " [0 0 0 ... 0 0 0]]\n",
      "2020-12-15 19:31:35,850 [DEBUG] kashgari - predict seq_length: None, input: (2, 222, 28)\n"
     ]
    },
    {
     "name": "stdout",
     "output_type": "stream",
     "text": [
      "7/7 [==============================] - 0s 38ms/step\n"
     ]
    },
    {
     "name": "stderr",
     "output_type": "stream",
     "text": [
      "2020-12-15 19:31:36,192 [DEBUG] kashgari - predict output: (222, 28)\n",
      "2020-12-15 19:31:36,193 [DEBUG] kashgari - predict output argmax: [[0 1 1 ... 1 1 1]\n",
      " [0 1 1 ... 1 1 1]\n",
      " [0 1 1 ... 1 1 1]\n",
      " ...\n",
      " [0 1 1 ... 1 1 1]\n",
      " [0 1 1 ... 1 1 1]\n",
      " [0 0 0 ... 0 0 0]]\n",
      "2020-12-15 19:31:36,197 [DEBUG] kashgari - predict seq_length: None, input: (2, 255, 34)\n"
     ]
    },
    {
     "name": "stdout",
     "output_type": "stream",
     "text": [
      "8/8 [==============================] - 0s 47ms/step\n"
     ]
    },
    {
     "name": "stderr",
     "output_type": "stream",
     "text": [
      "2020-12-15 19:31:36,654 [DEBUG] kashgari - predict output: (255, 34)\n",
      "2020-12-15 19:31:36,654 [DEBUG] kashgari - predict output argmax: [[0 1 1 ... 1 1 1]\n",
      " [0 1 1 ... 1 1 1]\n",
      " [0 1 1 ... 1 1 1]\n",
      " ...\n",
      " [0 1 1 ... 1 1 1]\n",
      " [0 1 1 ... 1 1 1]\n",
      " [0 0 0 ... 0 0 0]]\n",
      "2020-12-15 19:31:36,657 [DEBUG] kashgari - predict seq_length: None, input: (2, 67, 25)\n"
     ]
    },
    {
     "name": "stdout",
     "output_type": "stream",
     "text": [
      "3/3 [==============================] - 0s 27ms/step\n"
     ]
    },
    {
     "name": "stderr",
     "output_type": "stream",
     "text": [
      "2020-12-15 19:31:36,808 [DEBUG] kashgari - predict output: (67, 25)\n",
      "2020-12-15 19:31:36,809 [DEBUG] kashgari - predict output argmax: [[0 1 1 ... 1 1 1]\n",
      " [0 1 1 ... 1 1 1]\n",
      " [0 1 1 ... 1 1 1]\n",
      " ...\n",
      " [0 1 1 ... 1 1 1]\n",
      " [0 1 1 ... 1 1 1]\n",
      " [0 0 0 ... 0 0 0]]\n",
      "2020-12-15 19:31:36,812 [DEBUG] kashgari - predict seq_length: None, input: (2, 77, 53)\n"
     ]
    },
    {
     "name": "stdout",
     "output_type": "stream",
     "text": [
      "3/3 [==============================] - 0s 44ms/step\n"
     ]
    },
    {
     "name": "stderr",
     "output_type": "stream",
     "text": [
      "2020-12-15 19:31:37,048 [DEBUG] kashgari - predict output: (77, 53)\n",
      "2020-12-15 19:31:37,049 [DEBUG] kashgari - predict output argmax: [[0 1 1 ... 1 1 1]\n",
      " [0 1 1 ... 1 1 1]\n",
      " [0 1 1 ... 1 1 1]\n",
      " ...\n",
      " [0 1 1 ... 1 1 1]\n",
      " [0 1 1 ... 1 1 1]\n",
      " [0 0 0 ... 0 0 0]]\n",
      "2020-12-15 19:31:37,051 [DEBUG] kashgari - predict seq_length: None, input: (2, 67, 27)\n"
     ]
    },
    {
     "name": "stdout",
     "output_type": "stream",
     "text": [
      "3/3 [==============================] - 0s 27ms/step\n"
     ]
    },
    {
     "name": "stderr",
     "output_type": "stream",
     "text": [
      "2020-12-15 19:31:37,200 [DEBUG] kashgari - predict output: (67, 27)\n",
      "2020-12-15 19:31:37,201 [DEBUG] kashgari - predict output argmax: [[0 1 1 ... 1 1 1]\n",
      " [0 1 1 ... 1 1 1]\n",
      " [0 1 1 ... 1 1 1]\n",
      " ...\n",
      " [0 1 1 ... 4 4 4]\n",
      " [0 1 1 ... 1 1 1]\n",
      " [0 0 0 ... 0 0 0]]\n",
      "2020-12-15 19:31:37,205 [DEBUG] kashgari - predict seq_length: None, input: (2, 72, 19)\n"
     ]
    },
    {
     "name": "stdout",
     "output_type": "stream",
     "text": [
      "3/3 [==============================] - 0s 23ms/step\n"
     ]
    },
    {
     "name": "stderr",
     "output_type": "stream",
     "text": [
      "2020-12-15 19:31:37,337 [DEBUG] kashgari - predict output: (72, 19)\n",
      "2020-12-15 19:31:37,338 [DEBUG] kashgari - predict output argmax: [[0 1 1 ... 1 1 0]\n",
      " [0 1 1 ... 1 1 1]\n",
      " [0 1 1 ... 1 1 1]\n",
      " ...\n",
      " [0 1 1 ... 1 1 1]\n",
      " [0 1 1 ... 1 1 1]\n",
      " [0 0 0 ... 0 0 0]]\n",
      "2020-12-15 19:31:37,342 [DEBUG] kashgari - predict seq_length: None, input: (2, 98, 24)\n"
     ]
    },
    {
     "name": "stdout",
     "output_type": "stream",
     "text": [
      "4/4 [==============================] - 0s 28ms/step\n"
     ]
    },
    {
     "name": "stderr",
     "output_type": "stream",
     "text": [
      "2020-12-15 19:31:37,521 [DEBUG] kashgari - predict output: (98, 24)\n",
      "2020-12-15 19:31:37,522 [DEBUG] kashgari - predict output argmax: [[0 1 1 ... 1 1 1]\n",
      " [0 1 1 ... 1 1 1]\n",
      " [0 1 1 ... 1 1 1]\n",
      " ...\n",
      " [0 1 1 ... 1 1 1]\n",
      " [0 1 1 ... 1 1 1]\n",
      " [0 0 0 ... 0 0 0]]\n",
      "2020-12-15 19:31:37,526 [DEBUG] kashgari - predict seq_length: None, input: (2, 87, 37)\n"
     ]
    },
    {
     "name": "stdout",
     "output_type": "stream",
     "text": [
      "3/3 [==============================] - 0s 35ms/step\n"
     ]
    },
    {
     "name": "stderr",
     "output_type": "stream",
     "text": [
      "2020-12-15 19:31:37,714 [DEBUG] kashgari - predict output: (87, 37)\n",
      "2020-12-15 19:31:37,715 [DEBUG] kashgari - predict output argmax: [[0 1 1 ... 1 1 1]\n",
      " [0 1 1 ... 1 1 1]\n",
      " [0 1 1 ... 1 1 1]\n",
      " ...\n",
      " [0 1 1 ... 1 1 1]\n",
      " [0 1 1 ... 1 1 1]\n",
      " [0 0 0 ... 0 0 0]]\n",
      "2020-12-15 19:31:37,720 [DEBUG] kashgari - predict seq_length: None, input: (2, 311, 29)\n"
     ]
    },
    {
     "name": "stdout",
     "output_type": "stream",
     "text": [
      "10/10 [==============================] - 0s 42ms/step\n"
     ]
    },
    {
     "name": "stderr",
     "output_type": "stream",
     "text": [
      "2020-12-15 19:31:38,214 [DEBUG] kashgari - predict output: (311, 29)\n",
      "2020-12-15 19:31:38,215 [DEBUG] kashgari - predict output argmax: [[0 1 1 ... 1 1 1]\n",
      " [0 1 1 ... 1 1 1]\n",
      " [0 1 1 ... 1 1 1]\n",
      " ...\n",
      " [0 1 1 ... 1 1 1]\n",
      " [0 1 1 ... 1 1 1]\n",
      " [0 0 0 ... 0 0 0]]\n",
      "2020-12-15 19:31:38,220 [DEBUG] kashgari - predict seq_length: None, input: (2, 447, 20)\n"
     ]
    },
    {
     "name": "stdout",
     "output_type": "stream",
     "text": [
      "14/14 [==============================] - 0s 35ms/step\n"
     ]
    },
    {
     "name": "stderr",
     "output_type": "stream",
     "text": [
      "2020-12-15 19:31:38,769 [DEBUG] kashgari - predict output: (447, 20)\n",
      "2020-12-15 19:31:38,770 [DEBUG] kashgari - predict output argmax: [[0 1 1 ... 1 1 1]\n",
      " [0 1 1 ... 1 1 1]\n",
      " [0 1 1 ... 1 1 1]\n",
      " ...\n",
      " [0 1 1 ... 1 1 1]\n",
      " [0 1 0 ... 1 1 1]\n",
      " [0 0 0 ... 0 0 0]]\n",
      "2020-12-15 19:31:38,774 [DEBUG] kashgari - predict seq_length: None, input: (2, 218, 19)\n"
     ]
    },
    {
     "name": "stdout",
     "output_type": "stream",
     "text": [
      "7/7 [==============================] - 0s 32ms/step\n"
     ]
    },
    {
     "name": "stderr",
     "output_type": "stream",
     "text": [
      "2020-12-15 19:31:39,072 [DEBUG] kashgari - predict output: (218, 19)\n",
      "2020-12-15 19:31:39,073 [DEBUG] kashgari - predict output argmax: [[0 1 1 ... 1 1 1]\n",
      " [0 1 1 ... 1 1 1]\n",
      " [0 1 1 ... 1 1 1]\n",
      " ...\n",
      " [0 1 1 ... 1 1 1]\n",
      " [0 1 1 ... 1 1 1]\n",
      " [0 0 0 ... 0 0 0]]\n",
      "2020-12-15 19:31:39,079 [DEBUG] kashgari - predict seq_length: None, input: (2, 285, 30)\n"
     ]
    },
    {
     "name": "stdout",
     "output_type": "stream",
     "text": [
      "9/9 [==============================] - 0s 42ms/step\n"
     ]
    },
    {
     "name": "stderr",
     "output_type": "stream",
     "text": [
      "2020-12-15 19:31:39,536 [DEBUG] kashgari - predict output: (285, 30)\n",
      "2020-12-15 19:31:39,537 [DEBUG] kashgari - predict output argmax: [[0 1 1 ... 4 4 4]\n",
      " [0 1 1 ... 4 4 4]\n",
      " [0 1 1 ... 1 1 1]\n",
      " ...\n",
      " [0 1 1 ... 1 1 1]\n",
      " [0 1 1 ... 1 1 1]\n",
      " [0 0 0 ... 0 0 0]]\n",
      "2020-12-15 19:31:39,542 [DEBUG] kashgari - predict seq_length: None, input: (2, 424, 21)\n"
     ]
    },
    {
     "name": "stdout",
     "output_type": "stream",
     "text": [
      "14/14 [==============================] - 0s 34ms/step\n"
     ]
    },
    {
     "name": "stderr",
     "output_type": "stream",
     "text": [
      "2020-12-15 19:31:40,081 [DEBUG] kashgari - predict output: (424, 21)\n",
      "2020-12-15 19:31:40,082 [DEBUG] kashgari - predict output argmax: [[0 1 1 ... 1 1 1]\n",
      " [0 1 1 ... 1 1 1]\n",
      " [0 1 1 ... 1 1 1]\n",
      " ...\n",
      " [0 1 1 ... 1 1 1]\n",
      " [0 1 1 ... 1 1 1]\n",
      " [0 0 0 ... 0 0 0]]\n",
      "2020-12-15 19:31:40,084 [DEBUG] kashgari - predict seq_length: None, input: (2, 94, 30)\n"
     ]
    },
    {
     "name": "stdout",
     "output_type": "stream",
     "text": [
      "3/3 [==============================] - 0s 30ms/step\n"
     ]
    },
    {
     "name": "stderr",
     "output_type": "stream",
     "text": [
      "2020-12-15 19:31:40,240 [DEBUG] kashgari - predict output: (94, 30)\n",
      "2020-12-15 19:31:40,241 [DEBUG] kashgari - predict output argmax: [[0 1 1 ... 1 1 1]\n",
      " [0 1 1 ... 1 1 1]\n",
      " [0 1 1 ... 1 1 1]\n",
      " ...\n",
      " [0 1 1 ... 1 1 1]\n",
      " [0 1 1 ... 1 1 1]\n",
      " [0 0 0 ... 0 0 0]]\n",
      "2020-12-15 19:31:40,245 [DEBUG] kashgari - predict seq_length: None, input: (2, 202, 34)\n"
     ]
    },
    {
     "name": "stdout",
     "output_type": "stream",
     "text": [
      "7/7 [==============================] - 0s 42ms/step\n"
     ]
    },
    {
     "name": "stderr",
     "output_type": "stream",
     "text": [
      "2020-12-15 19:31:40,618 [DEBUG] kashgari - predict output: (202, 34)\n",
      "2020-12-15 19:31:40,619 [DEBUG] kashgari - predict output argmax: [[0 1 1 ... 1 1 1]\n",
      " [0 1 1 ... 1 1 1]\n",
      " [0 1 1 ... 1 1 1]\n",
      " ...\n",
      " [0 1 1 ... 1 1 1]\n",
      " [0 1 1 ... 1 1 1]\n",
      " [0 0 0 ... 0 0 0]]\n",
      "2020-12-15 19:31:40,622 [DEBUG] kashgari - predict seq_length: None, input: (2, 242, 50)\n"
     ]
    },
    {
     "name": "stdout",
     "output_type": "stream",
     "text": [
      "8/8 [==============================] - 1s 64ms/step\n"
     ]
    },
    {
     "name": "stderr",
     "output_type": "stream",
     "text": [
      "2020-12-15 19:31:44,870 [DEBUG] kashgari - predict output: (242, 50)\n",
      "2020-12-15 19:31:44,871 [DEBUG] kashgari - predict output argmax: [[0 1 1 ... 1 1 1]\n",
      " [0 1 1 ... 1 1 1]\n",
      " [0 1 1 ... 1 1 1]\n",
      " ...\n",
      " [0 1 1 ... 1 1 1]\n",
      " [0 1 1 ... 1 1 1]\n",
      " [0 1 1 ... 1 1 1]]\n",
      "2020-12-15 19:31:44,874 [DEBUG] kashgari - predict seq_length: None, input: (2, 269, 38)\n"
     ]
    },
    {
     "name": "stdout",
     "output_type": "stream",
     "text": [
      "9/9 [==============================] - 0s 49ms/step\n"
     ]
    },
    {
     "name": "stderr",
     "output_type": "stream",
     "text": [
      "2020-12-15 19:31:45,399 [DEBUG] kashgari - predict output: (269, 38)\n",
      "2020-12-15 19:31:45,400 [DEBUG] kashgari - predict output argmax: [[0 1 1 ... 1 1 1]\n",
      " [0 1 1 ... 1 1 1]\n",
      " [0 1 1 ... 1 1 1]\n",
      " ...\n",
      " [0 1 1 ... 1 1 1]\n",
      " [0 1 1 ... 1 1 1]\n",
      " [0 0 0 ... 0 0 0]]\n",
      "2020-12-15 19:31:45,404 [DEBUG] kashgari - predict seq_length: None, input: (2, 108, 35)\n"
     ]
    },
    {
     "name": "stdout",
     "output_type": "stream",
     "text": [
      "4/4 [==============================] - 0s 40ms/step\n"
     ]
    },
    {
     "name": "stderr",
     "output_type": "stream",
     "text": [
      "2020-12-15 19:31:49,407 [DEBUG] kashgari - predict output: (108, 35)\n",
      "2020-12-15 19:31:49,408 [DEBUG] kashgari - predict output argmax: [[0 1 1 ... 1 1 1]\n",
      " [0 1 0 ... 1 1 1]\n",
      " [0 1 1 ... 1 1 1]\n",
      " ...\n",
      " [0 1 1 ... 1 1 1]\n",
      " [0 1 1 ... 1 1 1]\n",
      " [0 0 0 ... 0 0 0]]\n",
      "2020-12-15 19:31:49,411 [DEBUG] kashgari - predict seq_length: None, input: (2, 136, 30)\n"
     ]
    },
    {
     "name": "stdout",
     "output_type": "stream",
     "text": [
      "5/5 [==============================] - 0s 39ms/step\n"
     ]
    },
    {
     "name": "stderr",
     "output_type": "stream",
     "text": [
      "2020-12-15 19:31:49,689 [DEBUG] kashgari - predict output: (136, 30)\n",
      "2020-12-15 19:31:49,690 [DEBUG] kashgari - predict output argmax: [[0 1 1 ... 1 1 1]\n",
      " [0 1 1 ... 1 1 1]\n",
      " [0 1 1 ... 1 1 1]\n",
      " ...\n",
      " [0 1 1 ... 1 1 1]\n",
      " [0 1 1 ... 1 1 1]\n",
      " [0 0 0 ... 0 0 0]]\n",
      "2020-12-15 19:31:49,694 [DEBUG] kashgari - predict seq_length: None, input: (2, 217, 28)\n"
     ]
    },
    {
     "name": "stdout",
     "output_type": "stream",
     "text": [
      "7/7 [==============================] - 0s 40ms/step\n"
     ]
    },
    {
     "name": "stderr",
     "output_type": "stream",
     "text": [
      "2020-12-15 19:31:50,053 [DEBUG] kashgari - predict output: (217, 28)\n",
      "2020-12-15 19:31:50,054 [DEBUG] kashgari - predict output argmax: [[0 1 1 ... 1 1 1]\n",
      " [0 1 1 ... 1 1 1]\n",
      " [0 1 1 ... 1 1 1]\n",
      " ...\n",
      " [0 1 1 ... 1 1 1]\n",
      " [0 1 1 ... 1 1 1]\n",
      " [0 0 0 ... 0 0 0]]\n",
      "2020-12-15 19:31:50,056 [DEBUG] kashgari - predict seq_length: None, input: (2, 83, 27)\n"
     ]
    },
    {
     "name": "stdout",
     "output_type": "stream",
     "text": [
      "3/3 [==============================] - 0s 27ms/step\n"
     ]
    },
    {
     "name": "stderr",
     "output_type": "stream",
     "text": [
      "2020-12-15 19:31:50,208 [DEBUG] kashgari - predict output: (83, 27)\n",
      "2020-12-15 19:31:50,209 [DEBUG] kashgari - predict output argmax: [[0 1 1 ... 1 1 1]\n",
      " [0 1 1 ... 1 1 1]\n",
      " [0 1 1 ... 1 1 1]\n",
      " ...\n",
      " [0 1 1 ... 1 1 1]\n",
      " [0 1 1 ... 1 1 1]\n",
      " [0 0 0 ... 0 0 0]]\n",
      "2020-12-15 19:31:50,215 [DEBUG] kashgari - predict seq_length: None, input: (2, 392, 36)\n"
     ]
    },
    {
     "name": "stdout",
     "output_type": "stream",
     "text": [
      "13/13 [==============================] - 1s 48ms/step\n"
     ]
    },
    {
     "name": "stderr",
     "output_type": "stream",
     "text": [
      "2020-12-15 19:31:50,930 [DEBUG] kashgari - predict output: (392, 36)\n",
      "2020-12-15 19:31:50,931 [DEBUG] kashgari - predict output argmax: [[0 1 1 ... 1 1 1]\n",
      " [0 1 1 ... 1 1 1]\n",
      " [0 1 1 ... 1 1 1]\n",
      " ...\n",
      " [0 1 1 ... 1 1 1]\n",
      " [0 1 1 ... 1 1 1]\n",
      " [0 0 0 ... 0 0 0]]\n",
      "2020-12-15 19:31:50,934 [DEBUG] kashgari - predict seq_length: None, input: (2, 108, 41)\n"
     ]
    },
    {
     "name": "stdout",
     "output_type": "stream",
     "text": [
      "4/4 [==============================] - 0s 41ms/step\n"
     ]
    },
    {
     "name": "stderr",
     "output_type": "stream",
     "text": [
      "2020-12-15 19:31:51,183 [DEBUG] kashgari - predict output: (108, 41)\n",
      "2020-12-15 19:31:51,184 [DEBUG] kashgari - predict output argmax: [[0 1 1 ... 1 1 1]\n",
      " [0 1 1 ... 1 1 1]\n",
      " [0 1 1 ... 1 1 1]\n",
      " ...\n",
      " [0 1 1 ... 1 1 1]\n",
      " [0 1 1 ... 1 1 1]\n",
      " [0 0 0 ... 0 0 0]]\n",
      "2020-12-15 19:31:51,189 [DEBUG] kashgari - predict seq_length: None, input: (2, 221, 26)\n"
     ]
    },
    {
     "name": "stdout",
     "output_type": "stream",
     "text": [
      "7/7 [==============================] - 0s 37ms/step\n"
     ]
    },
    {
     "name": "stderr",
     "output_type": "stream",
     "text": [
      "2020-12-15 19:31:51,525 [DEBUG] kashgari - predict output: (221, 26)\n",
      "2020-12-15 19:31:51,526 [DEBUG] kashgari - predict output argmax: [[0 1 1 ... 1 1 1]\n",
      " [0 1 1 ... 1 1 1]\n",
      " [0 1 1 ... 1 1 1]\n",
      " ...\n",
      " [0 1 1 ... 1 1 1]\n",
      " [0 1 1 ... 1 1 1]\n",
      " [0 0 0 ... 0 0 0]]\n",
      "2020-12-15 19:31:51,528 [DEBUG] kashgari - predict seq_length: None, input: (2, 94, 45)\n"
     ]
    },
    {
     "name": "stdout",
     "output_type": "stream",
     "text": [
      "3/3 [==============================] - 0s 43ms/step\n"
     ]
    },
    {
     "name": "stderr",
     "output_type": "stream",
     "text": [
      "2020-12-15 19:31:51,754 [DEBUG] kashgari - predict output: (94, 45)\n",
      "2020-12-15 19:31:51,755 [DEBUG] kashgari - predict output argmax: [[0 1 1 ... 1 1 1]\n",
      " [0 1 1 ... 1 1 1]\n",
      " [0 1 1 ... 1 1 1]\n",
      " ...\n",
      " [0 1 1 ... 1 1 1]\n",
      " [0 1 1 ... 1 1 1]\n",
      " [0 0 0 ... 0 0 0]]\n",
      "2020-12-15 19:31:51,757 [DEBUG] kashgari - predict seq_length: None, input: (2, 59, 21)\n"
     ]
    },
    {
     "name": "stdout",
     "output_type": "stream",
     "text": [
      "2/2 [==============================] - 0s 19ms/step\n"
     ]
    },
    {
     "name": "stderr",
     "output_type": "stream",
     "text": [
      "2020-12-15 19:31:51,853 [DEBUG] kashgari - predict output: (59, 21)\n",
      "2020-12-15 19:31:51,854 [DEBUG] kashgari - predict output argmax: [[0 1 1 ... 1 1 1]\n",
      " [0 1 1 ... 1 1 1]\n",
      " [0 1 1 ... 1 1 1]\n",
      " ...\n",
      " [0 1 1 ... 1 1 1]\n",
      " [0 1 1 ... 1 1 1]\n",
      " [0 0 0 ... 0 0 0]]\n",
      "2020-12-15 19:31:51,857 [DEBUG] kashgari - predict seq_length: None, input: (2, 101, 33)\n"
     ]
    },
    {
     "name": "stdout",
     "output_type": "stream",
     "text": [
      "4/4 [==============================] - 0s 36ms/step\n"
     ]
    },
    {
     "name": "stderr",
     "output_type": "stream",
     "text": [
      "2020-12-15 19:31:55,690 [DEBUG] kashgari - predict output: (101, 33)\n",
      "2020-12-15 19:31:55,691 [DEBUG] kashgari - predict output argmax: [[0 1 1 ... 1 1 1]\n",
      " [0 1 1 ... 1 1 1]\n",
      " [0 1 1 ... 1 1 1]\n",
      " ...\n",
      " [0 1 1 ... 1 1 1]\n",
      " [0 1 1 ... 1 1 1]\n",
      " [0 0 0 ... 0 0 0]]\n",
      "2020-12-15 19:31:55,694 [DEBUG] kashgari - predict seq_length: None, input: (2, 64, 33)\n"
     ]
    },
    {
     "name": "stdout",
     "output_type": "stream",
     "text": [
      "2/2 [==============================] - 0s 23ms/step\n"
     ]
    },
    {
     "name": "stderr",
     "output_type": "stream",
     "text": [
      "2020-12-15 19:31:58,344 [DEBUG] kashgari - predict output: (64, 33)\n",
      "2020-12-15 19:31:58,345 [DEBUG] kashgari - predict output argmax: [[0 1 1 ... 1 1 1]\n",
      " [0 1 1 ... 1 1 0]\n",
      " [0 1 1 ... 1 1 1]\n",
      " ...\n",
      " [0 1 1 ... 4 4 4]\n",
      " [0 1 1 ... 1 1 1]\n",
      " [0 0 0 ... 0 0 0]]\n",
      "2020-12-15 19:31:58,347 [DEBUG] kashgari - predict seq_length: None, input: (2, 85, 30)\n"
     ]
    },
    {
     "name": "stdout",
     "output_type": "stream",
     "text": [
      "3/3 [==============================] - 0s 34ms/step\n"
     ]
    },
    {
     "name": "stderr",
     "output_type": "stream",
     "text": [
      "2020-12-15 19:31:58,534 [DEBUG] kashgari - predict output: (85, 30)\n",
      "2020-12-15 19:31:58,535 [DEBUG] kashgari - predict output argmax: [[0 1 1 ... 1 1 1]\n",
      " [0 1 1 ... 1 1 1]\n",
      " [0 1 1 ... 1 1 1]\n",
      " ...\n",
      " [0 1 1 ... 1 1 1]\n",
      " [0 1 1 ... 1 1 1]\n",
      " [0 0 0 ... 0 0 0]]\n",
      "2020-12-15 19:31:58,538 [DEBUG] kashgari - predict seq_length: None, input: (2, 89, 33)\n"
     ]
    },
    {
     "name": "stdout",
     "output_type": "stream",
     "text": [
      "3/3 [==============================] - 0s 35ms/step\n"
     ]
    },
    {
     "name": "stderr",
     "output_type": "stream",
     "text": [
      "2020-12-15 19:31:58,731 [DEBUG] kashgari - predict output: (89, 33)\n",
      "2020-12-15 19:31:58,732 [DEBUG] kashgari - predict output argmax: [[0 1 1 ... 2 2 2]\n",
      " [0 1 1 ... 1 1 1]\n",
      " [0 1 1 ... 1 1 1]\n",
      " ...\n",
      " [0 1 1 ... 1 1 1]\n",
      " [0 3 2 ... 1 1 1]\n",
      " [0 0 0 ... 0 0 0]]\n",
      "2020-12-15 19:31:58,737 [DEBUG] kashgari - predict seq_length: None, input: (2, 254, 27)\n"
     ]
    },
    {
     "name": "stdout",
     "output_type": "stream",
     "text": [
      "8/8 [==============================] - 0s 40ms/step\n"
     ]
    },
    {
     "name": "stderr",
     "output_type": "stream",
     "text": [
      "2020-12-15 19:31:59,134 [DEBUG] kashgari - predict output: (254, 27)\n",
      "2020-12-15 19:31:59,135 [DEBUG] kashgari - predict output argmax: [[0 1 1 ... 1 1 1]\n",
      " [0 1 1 ... 1 1 1]\n",
      " [0 1 1 ... 1 1 1]\n",
      " ...\n",
      " [0 1 1 ... 1 1 1]\n",
      " [0 1 1 ... 1 1 1]\n",
      " [0 0 0 ... 0 0 0]]\n",
      "2020-12-15 19:31:59,139 [DEBUG] kashgari - predict seq_length: None, input: (2, 129, 29)\n"
     ]
    },
    {
     "name": "stdout",
     "output_type": "stream",
     "text": [
      "5/5 [==============================] - 0s 35ms/step\n"
     ]
    },
    {
     "name": "stderr",
     "output_type": "stream",
     "text": [
      "2020-12-15 19:31:59,389 [DEBUG] kashgari - predict output: (129, 29)\n",
      "2020-12-15 19:31:59,390 [DEBUG] kashgari - predict output argmax: [[0 1 1 ... 1 1 1]\n",
      " [0 1 1 ... 1 1 1]\n",
      " [0 1 1 ... 1 1 1]\n",
      " ...\n",
      " [0 1 1 ... 1 1 1]\n",
      " [0 1 1 ... 1 1 1]\n",
      " [0 0 0 ... 0 0 0]]\n",
      "2020-12-15 19:31:59,394 [DEBUG] kashgari - predict seq_length: None, input: (2, 130, 26)\n"
     ]
    },
    {
     "name": "stdout",
     "output_type": "stream",
     "text": [
      "5/5 [==============================] - 0s 33ms/step\n"
     ]
    },
    {
     "name": "stderr",
     "output_type": "stream",
     "text": [
      "2020-12-15 19:31:59,630 [DEBUG] kashgari - predict output: (130, 26)\n",
      "2020-12-15 19:31:59,631 [DEBUG] kashgari - predict output argmax: [[0 1 1 ... 1 1 1]\n",
      " [0 1 1 ... 1 1 1]\n",
      " [0 1 1 ... 1 1 1]\n",
      " ...\n",
      " [0 1 1 ... 1 1 1]\n",
      " [0 1 1 ... 4 4 4]\n",
      " [0 0 0 ... 0 0 0]]\n",
      "2020-12-15 19:31:59,636 [DEBUG] kashgari - predict seq_length: None, input: (2, 143, 37)\n"
     ]
    },
    {
     "name": "stdout",
     "output_type": "stream",
     "text": [
      "5/5 [==============================] - 0s 42ms/step\n"
     ]
    },
    {
     "name": "stderr",
     "output_type": "stream",
     "text": [
      "2020-12-15 19:31:59,927 [DEBUG] kashgari - predict output: (143, 37)\n",
      "2020-12-15 19:31:59,928 [DEBUG] kashgari - predict output argmax: [[0 1 1 ... 1 1 1]\n",
      " [0 1 1 ... 1 1 1]\n",
      " [0 1 1 ... 1 1 1]\n",
      " ...\n",
      " [0 1 1 ... 1 1 1]\n",
      " [0 1 1 ... 1 1 1]\n",
      " [0 0 0 ... 0 0 0]]\n",
      "2020-12-15 19:31:59,931 [DEBUG] kashgari - predict seq_length: None, input: (2, 107, 36)\n"
     ]
    },
    {
     "name": "stdout",
     "output_type": "stream",
     "text": [
      "4/4 [==============================] - 0s 39ms/step\n"
     ]
    },
    {
     "name": "stderr",
     "output_type": "stream",
     "text": [
      "2020-12-15 19:32:00,167 [DEBUG] kashgari - predict output: (107, 36)\n",
      "2020-12-15 19:32:00,168 [DEBUG] kashgari - predict output argmax: [[0 1 1 ... 1 1 1]\n",
      " [0 1 1 ... 1 1 1]\n",
      " [0 1 1 ... 1 1 1]\n",
      " ...\n",
      " [0 1 1 ... 1 1 1]\n",
      " [0 1 1 ... 1 1 1]\n",
      " [0 0 0 ... 0 0 0]]\n",
      "2020-12-15 19:32:00,170 [DEBUG] kashgari - predict seq_length: None, input: (2, 70, 28)\n"
     ]
    },
    {
     "name": "stdout",
     "output_type": "stream",
     "text": [
      "3/3 [==============================] - 0s 26ms/step\n"
     ]
    },
    {
     "name": "stderr",
     "output_type": "stream",
     "text": [
      "2020-12-15 19:32:00,320 [DEBUG] kashgari - predict output: (70, 28)\n",
      "2020-12-15 19:32:00,321 [DEBUG] kashgari - predict output argmax: [[0 1 1 ... 1 1 1]\n",
      " [0 1 1 ... 1 1 1]\n",
      " [0 1 1 ... 1 1 1]\n",
      " ...\n",
      " [0 1 1 ... 1 1 1]\n",
      " [0 1 1 ... 1 1 1]\n",
      " [0 0 0 ... 0 0 0]]\n",
      "2020-12-15 19:32:00,326 [DEBUG] kashgari - predict seq_length: None, input: (2, 189, 26)\n"
     ]
    },
    {
     "name": "stdout",
     "output_type": "stream",
     "text": [
      "6/6 [==============================] - 0s 38ms/step\n"
     ]
    },
    {
     "name": "stderr",
     "output_type": "stream",
     "text": [
      "2020-12-15 19:32:00,626 [DEBUG] kashgari - predict output: (189, 26)\n",
      "2020-12-15 19:32:00,627 [DEBUG] kashgari - predict output argmax: [[0 1 1 ... 1 1 1]\n",
      " [0 1 1 ... 1 1 1]\n",
      " [0 1 1 ... 1 1 1]\n",
      " ...\n",
      " [0 1 1 ... 1 1 1]\n",
      " [0 1 1 ... 1 1 1]\n",
      " [0 0 0 ... 0 0 0]]\n",
      "2020-12-15 19:32:00,630 [DEBUG] kashgari - predict seq_length: None, input: (2, 99, 48)\n"
     ]
    },
    {
     "name": "stdout",
     "output_type": "stream",
     "text": [
      "4/4 [==============================] - 0s 46ms/step\n"
     ]
    },
    {
     "name": "stderr",
     "output_type": "stream",
     "text": [
      "2020-12-15 19:32:00,909 [DEBUG] kashgari - predict output: (99, 48)\n",
      "2020-12-15 19:32:00,910 [DEBUG] kashgari - predict output argmax: [[0 1 1 ... 1 1 1]\n",
      " [0 1 1 ... 1 1 1]\n",
      " [0 1 1 ... 1 1 1]\n",
      " ...\n",
      " [0 1 1 ... 1 1 1]\n",
      " [0 1 1 ... 1 1 1]\n",
      " [0 0 0 ... 0 0 0]]\n",
      "2020-12-15 19:32:00,913 [DEBUG] kashgari - predict seq_length: None, input: (2, 213, 35)\n"
     ]
    },
    {
     "name": "stdout",
     "output_type": "stream",
     "text": [
      "7/7 [==============================] - 0s 45ms/step\n"
     ]
    },
    {
     "name": "stderr",
     "output_type": "stream",
     "text": [
      "2020-12-15 19:32:01,310 [DEBUG] kashgari - predict output: (213, 35)\n",
      "2020-12-15 19:32:01,311 [DEBUG] kashgari - predict output argmax: [[0 1 1 ... 1 1 1]\n",
      " [0 1 1 ... 1 1 1]\n",
      " [0 1 1 ... 1 1 1]\n",
      " ...\n",
      " [0 1 1 ... 1 1 1]\n",
      " [0 1 0 ... 1 1 1]\n",
      " [0 0 0 ... 0 0 0]]\n",
      "2020-12-15 19:32:01,314 [DEBUG] kashgari - predict seq_length: None, input: (2, 181, 40)\n"
     ]
    },
    {
     "name": "stdout",
     "output_type": "stream",
     "text": [
      "6/6 [==============================] - 0s 47ms/step\n"
     ]
    },
    {
     "name": "stderr",
     "output_type": "stream",
     "text": [
      "2020-12-15 19:32:01,691 [DEBUG] kashgari - predict output: (181, 40)\n",
      "2020-12-15 19:32:01,692 [DEBUG] kashgari - predict output argmax: [[0 1 1 ... 1 1 1]\n",
      " [0 1 1 ... 1 1 1]\n",
      " [0 1 1 ... 1 1 1]\n",
      " ...\n",
      " [0 1 1 ... 1 1 1]\n",
      " [0 1 1 ... 1 1 1]\n",
      " [0 0 0 ... 0 0 0]]\n",
      "2020-12-15 19:32:01,694 [DEBUG] kashgari - predict seq_length: None, input: (2, 119, 34)\n"
     ]
    },
    {
     "name": "stdout",
     "output_type": "stream",
     "text": [
      "4/4 [==============================] - 0s 38ms/step\n"
     ]
    },
    {
     "name": "stderr",
     "output_type": "stream",
     "text": [
      "2020-12-15 19:32:01,924 [DEBUG] kashgari - predict output: (119, 34)\n",
      "2020-12-15 19:32:01,925 [DEBUG] kashgari - predict output argmax: [[0 1 1 ... 1 1 1]\n",
      " [0 1 0 ... 1 1 1]\n",
      " [0 1 1 ... 1 1 1]\n",
      " ...\n",
      " [0 1 1 ... 1 1 1]\n",
      " [0 1 1 ... 1 1 1]\n",
      " [0 0 0 ... 0 0 0]]\n",
      "2020-12-15 19:32:01,929 [DEBUG] kashgari - predict seq_length: None, input: (2, 188, 52)\n"
     ]
    },
    {
     "name": "stdout",
     "output_type": "stream",
     "text": [
      "6/6 [==============================] - 0s 65ms/step\n"
     ]
    },
    {
     "name": "stderr",
     "output_type": "stream",
     "text": [
      "2020-12-15 19:32:06,061 [DEBUG] kashgari - predict output: (188, 52)\n",
      "2020-12-15 19:32:06,062 [DEBUG] kashgari - predict output argmax: [[0 1 1 ... 1 1 1]\n",
      " [0 1 1 ... 1 1 1]\n",
      " [0 1 1 ... 1 1 1]\n",
      " ...\n",
      " [0 1 1 ... 1 1 1]\n",
      " [0 1 1 ... 1 1 1]\n",
      " [0 0 0 ... 0 0 0]]\n",
      "2020-12-15 19:32:06,066 [DEBUG] kashgari - predict seq_length: None, input: (2, 252, 30)\n"
     ]
    },
    {
     "name": "stdout",
     "output_type": "stream",
     "text": [
      "8/8 [==============================] - 0s 42ms/step\n"
     ]
    },
    {
     "name": "stderr",
     "output_type": "stream",
     "text": [
      "2020-12-15 19:32:06,480 [DEBUG] kashgari - predict output: (252, 30)\n",
      "2020-12-15 19:32:06,481 [DEBUG] kashgari - predict output argmax: [[0 1 1 ... 1 1 1]\n",
      " [0 1 1 ... 1 1 1]\n",
      " [0 1 1 ... 1 1 1]\n",
      " ...\n",
      " [0 1 1 ... 1 1 1]\n",
      " [0 1 1 ... 1 1 1]\n",
      " [0 0 0 ... 0 0 0]]\n",
      "2020-12-15 19:32:06,486 [DEBUG] kashgari - predict seq_length: None, input: (2, 249, 38)\n"
     ]
    },
    {
     "name": "stdout",
     "output_type": "stream",
     "text": [
      "8/8 [==============================] - 0s 48ms/step\n"
     ]
    },
    {
     "name": "stderr",
     "output_type": "stream",
     "text": [
      "2020-12-15 19:32:06,958 [DEBUG] kashgari - predict output: (249, 38)\n",
      "2020-12-15 19:32:06,959 [DEBUG] kashgari - predict output argmax: [[0 1 1 ... 1 1 1]\n",
      " [0 1 1 ... 1 1 1]\n",
      " [0 1 3 ... 1 1 1]\n",
      " ...\n",
      " [0 1 1 ... 1 1 1]\n",
      " [0 1 1 ... 1 1 1]\n",
      " [0 0 0 ... 0 0 0]]\n",
      "2020-12-15 19:32:06,962 [DEBUG] kashgari - predict seq_length: None, input: (2, 65, 44)\n"
     ]
    },
    {
     "name": "stdout",
     "output_type": "stream",
     "text": [
      "3/3 [==============================] - 0s 36ms/step\n"
     ]
    },
    {
     "name": "stderr",
     "output_type": "stream",
     "text": [
      "2020-12-15 19:32:10,753 [DEBUG] kashgari - predict output: (65, 44)\n",
      "2020-12-15 19:32:10,754 [DEBUG] kashgari - predict output argmax: [[ 0  1  1 ...  1  1  1]\n",
      " [ 0  1  1 ...  1  1  1]\n",
      " [ 0  1  1 ...  1  1  1]\n",
      " ...\n",
      " [ 0  1  1 ... 11 11 11]\n",
      " [ 0  1  1 ...  1  1  1]\n",
      " [ 0  0  0 ...  0  0  0]]\n",
      "2020-12-15 19:32:10,759 [DEBUG] kashgari - predict seq_length: None, input: (2, 265, 41)\n"
     ]
    },
    {
     "name": "stdout",
     "output_type": "stream",
     "text": [
      "9/9 [==============================] - 0s 55ms/step\n"
     ]
    },
    {
     "name": "stderr",
     "output_type": "stream",
     "text": [
      "2020-12-15 19:32:11,352 [DEBUG] kashgari - predict output: (265, 41)\n",
      "2020-12-15 19:32:11,353 [DEBUG] kashgari - predict output argmax: [[0 1 1 ... 1 1 1]\n",
      " [0 1 1 ... 1 1 1]\n",
      " [0 1 1 ... 1 1 1]\n",
      " ...\n",
      " [0 1 1 ... 1 1 1]\n",
      " [0 1 1 ... 1 1 1]\n",
      " [0 0 0 ... 0 0 0]]\n",
      "2020-12-15 19:32:11,356 [DEBUG] kashgari - predict seq_length: None, input: (2, 163, 33)\n"
     ]
    },
    {
     "name": "stdout",
     "output_type": "stream",
     "text": [
      "6/6 [==============================] - 0s 40ms/step\n"
     ]
    },
    {
     "name": "stderr",
     "output_type": "stream",
     "text": [
      "2020-12-15 19:32:11,674 [DEBUG] kashgari - predict output: (163, 33)\n",
      "2020-12-15 19:32:11,675 [DEBUG] kashgari - predict output argmax: [[0 1 1 ... 2 2 2]\n",
      " [0 1 1 ... 2 2 2]\n",
      " [0 1 1 ... 2 2 2]\n",
      " ...\n",
      " [0 1 1 ... 1 1 1]\n",
      " [0 1 1 ... 1 1 1]\n",
      " [0 0 0 ... 0 0 0]]\n",
      "2020-12-15 19:32:11,680 [DEBUG] kashgari - predict seq_length: None, input: (2, 166, 33)\n"
     ]
    },
    {
     "name": "stdout",
     "output_type": "stream",
     "text": [
      "6/6 [==============================] - 0s 40ms/step\n"
     ]
    },
    {
     "name": "stderr",
     "output_type": "stream",
     "text": [
      "2020-12-15 19:32:12,002 [DEBUG] kashgari - predict output: (166, 33)\n",
      "2020-12-15 19:32:12,003 [DEBUG] kashgari - predict output argmax: [[0 1 1 ... 5 5 5]\n",
      " [0 1 7 ... 4 4 4]\n",
      " [0 1 1 ... 1 1 1]\n",
      " ...\n",
      " [0 1 1 ... 1 1 1]\n",
      " [0 1 1 ... 1 1 1]\n",
      " [0 0 0 ... 0 0 0]]\n",
      "2020-12-15 19:32:12,006 [DEBUG] kashgari - predict seq_length: None, input: (2, 152, 37)\n"
     ]
    },
    {
     "name": "stdout",
     "output_type": "stream",
     "text": [
      "5/5 [==============================] - 0s 45ms/step\n"
     ]
    },
    {
     "name": "stderr",
     "output_type": "stream",
     "text": [
      "2020-12-15 19:32:12,318 [DEBUG] kashgari - predict output: (152, 37)\n",
      "2020-12-15 19:32:12,318 [DEBUG] kashgari - predict output argmax: [[0 1 1 ... 1 1 1]\n",
      " [0 1 1 ... 1 1 1]\n",
      " [0 1 1 ... 1 1 1]\n",
      " ...\n",
      " [0 1 1 ... 1 1 1]\n",
      " [0 1 1 ... 1 1 1]\n",
      " [0 0 0 ... 0 0 0]]\n",
      "2020-12-15 19:32:12,321 [DEBUG] kashgari - predict seq_length: None, input: (2, 129, 26)\n"
     ]
    },
    {
     "name": "stdout",
     "output_type": "stream",
     "text": [
      "5/5 [==============================] - 0s 33ms/step\n"
     ]
    },
    {
     "name": "stderr",
     "output_type": "stream",
     "text": [
      "2020-12-15 19:32:12,558 [DEBUG] kashgari - predict output: (129, 26)\n",
      "2020-12-15 19:32:12,559 [DEBUG] kashgari - predict output argmax: [[0 1 1 ... 1 1 1]\n",
      " [0 1 1 ... 1 1 1]\n",
      " [0 1 1 ... 1 1 1]\n",
      " ...\n",
      " [0 1 1 ... 1 1 1]\n",
      " [0 1 1 ... 1 1 1]\n",
      " [0 0 0 ... 0 0 0]]\n",
      "2020-12-15 19:32:12,562 [DEBUG] kashgari - predict seq_length: None, input: (2, 260, 42)\n"
     ]
    },
    {
     "name": "stdout",
     "output_type": "stream",
     "text": [
      "9/9 [==============================] - 0s 51ms/step\n"
     ]
    },
    {
     "name": "stderr",
     "output_type": "stream",
     "text": [
      "2020-12-15 19:32:13,110 [DEBUG] kashgari - predict output: (260, 42)\n",
      "2020-12-15 19:32:13,111 [DEBUG] kashgari - predict output argmax: [[0 1 1 ... 1 1 1]\n",
      " [0 1 1 ... 1 1 1]\n",
      " [0 1 1 ... 1 1 1]\n",
      " ...\n",
      " [0 1 1 ... 1 1 1]\n",
      " [0 1 1 ... 1 1 1]\n",
      " [0 0 0 ... 0 0 0]]\n",
      "2020-12-15 19:32:13,118 [DEBUG] kashgari - predict seq_length: None, input: (2, 557, 59)\n"
     ]
    },
    {
     "name": "stdout",
     "output_type": "stream",
     "text": [
      "18/18 [==============================] - 1s 75ms/step\n"
     ]
    },
    {
     "name": "stderr",
     "output_type": "stream",
     "text": [
      "2020-12-15 19:32:18,192 [DEBUG] kashgari - predict output: (557, 59)\n",
      "2020-12-15 19:32:18,193 [DEBUG] kashgari - predict output argmax: [[ 0  1  1 ...  1  1  1]\n",
      " [ 0  1  1 ...  1  1  1]\n",
      " [ 0  1  1 ...  1  1  1]\n",
      " ...\n",
      " [ 0  1  1 ... 14 14 14]\n",
      " [ 0  1  1 ...  1  1  1]\n",
      " [ 0  0  0 ...  0  0  0]]\n",
      "2020-12-15 19:32:18,197 [DEBUG] kashgari - predict seq_length: None, input: (2, 144, 72)\n"
     ]
    },
    {
     "name": "stdout",
     "output_type": "stream",
     "text": [
      "5/5 [==============================] - 0s 73ms/step\n"
     ]
    },
    {
     "name": "stderr",
     "output_type": "stream",
     "text": [
      "2020-12-15 19:32:22,308 [DEBUG] kashgari - predict output: (144, 72)\n",
      "2020-12-15 19:32:22,309 [DEBUG] kashgari - predict output argmax: [[0 1 1 ... 1 1 1]\n",
      " [0 1 1 ... 1 1 1]\n",
      " [0 1 1 ... 1 1 1]\n",
      " ...\n",
      " [0 1 1 ... 1 1 1]\n",
      " [0 1 1 ... 1 1 1]\n",
      " [0 0 0 ... 0 0 0]]\n",
      "2020-12-15 19:32:22,314 [DEBUG] kashgari - predict seq_length: None, input: (2, 474, 27)\n"
     ]
    },
    {
     "name": "stdout",
     "output_type": "stream",
     "text": [
      "15/15 [==============================] - 1s 42ms/step\n"
     ]
    },
    {
     "name": "stderr",
     "output_type": "stream",
     "text": [
      "2020-12-15 19:32:23,013 [DEBUG] kashgari - predict output: (474, 27)\n",
      "2020-12-15 19:32:23,014 [DEBUG] kashgari - predict output argmax: [[0 1 1 ... 1 1 1]\n",
      " [0 1 1 ... 1 1 1]\n",
      " [0 1 1 ... 1 1 1]\n",
      " ...\n",
      " [0 1 1 ... 1 1 1]\n",
      " [0 1 1 ... 1 1 1]\n",
      " [0 0 0 ... 0 0 0]]\n",
      "2020-12-15 19:32:23,018 [DEBUG] kashgari - predict seq_length: None, input: (2, 253, 34)\n"
     ]
    },
    {
     "name": "stdout",
     "output_type": "stream",
     "text": [
      "8/8 [==============================] - 0s 45ms/step\n"
     ]
    },
    {
     "name": "stderr",
     "output_type": "stream",
     "text": [
      "2020-12-15 19:32:23,461 [DEBUG] kashgari - predict output: (253, 34)\n",
      "2020-12-15 19:32:23,463 [DEBUG] kashgari - predict output argmax: [[0 1 1 ... 1 1 1]\n",
      " [0 1 1 ... 1 1 1]\n",
      " [0 1 1 ... 1 1 1]\n",
      " ...\n",
      " [0 1 1 ... 1 1 1]\n",
      " [0 1 1 ... 1 1 1]\n",
      " [0 0 0 ... 0 0 0]]\n",
      "2020-12-15 19:32:23,466 [DEBUG] kashgari - predict seq_length: None, input: (2, 210, 45)\n"
     ]
    },
    {
     "name": "stdout",
     "output_type": "stream",
     "text": [
      "7/7 [==============================] - 0s 58ms/step\n"
     ]
    },
    {
     "name": "stderr",
     "output_type": "stream",
     "text": [
      "2020-12-15 19:32:23,971 [DEBUG] kashgari - predict output: (210, 45)\n",
      "2020-12-15 19:32:23,972 [DEBUG] kashgari - predict output argmax: [[0 1 1 ... 1 1 1]\n",
      " [0 1 1 ... 1 1 1]\n",
      " [0 1 1 ... 1 1 1]\n",
      " ...\n",
      " [0 1 1 ... 2 2 2]\n",
      " [0 1 1 ... 1 1 1]\n",
      " [0 0 0 ... 0 0 0]]\n",
      "2020-12-15 19:32:23,976 [DEBUG] kashgari - predict seq_length: None, input: (2, 244, 32)\n"
     ]
    },
    {
     "name": "stdout",
     "output_type": "stream",
     "text": [
      "8/8 [==============================] - 0s 44ms/step\n"
     ]
    },
    {
     "name": "stderr",
     "output_type": "stream",
     "text": [
      "2020-12-15 19:32:24,418 [DEBUG] kashgari - predict output: (244, 32)\n",
      "2020-12-15 19:32:24,419 [DEBUG] kashgari - predict output argmax: [[0 1 1 ... 1 1 1]\n",
      " [0 1 1 ... 1 1 1]\n",
      " [0 1 1 ... 1 1 1]\n",
      " ...\n",
      " [0 1 1 ... 1 1 1]\n",
      " [0 1 0 ... 1 1 1]\n",
      " [0 0 0 ... 0 0 0]]\n",
      "2020-12-15 19:32:24,423 [DEBUG] kashgari - predict seq_length: None, input: (2, 319, 36)\n"
     ]
    },
    {
     "name": "stdout",
     "output_type": "stream",
     "text": [
      "10/10 [==============================] - 1s 51ms/step\n"
     ]
    },
    {
     "name": "stderr",
     "output_type": "stream",
     "text": [
      "2020-12-15 19:32:25,016 [DEBUG] kashgari - predict output: (319, 36)\n",
      "2020-12-15 19:32:25,017 [DEBUG] kashgari - predict output argmax: [[0 1 1 ... 1 1 1]\n",
      " [0 1 1 ... 1 1 1]\n",
      " [0 1 1 ... 1 1 1]\n",
      " ...\n",
      " [0 1 1 ... 1 1 1]\n",
      " [0 1 1 ... 1 1 1]\n",
      " [0 0 0 ... 0 0 0]]\n",
      "2020-12-15 19:32:25,022 [DEBUG] kashgari - predict seq_length: None, input: (2, 437, 36)\n"
     ]
    },
    {
     "name": "stdout",
     "output_type": "stream",
     "text": [
      "14/14 [==============================] - 1s 51ms/step\n"
     ]
    },
    {
     "name": "stderr",
     "output_type": "stream",
     "text": [
      "2020-12-15 19:32:25,827 [DEBUG] kashgari - predict output: (437, 36)\n",
      "2020-12-15 19:32:25,829 [DEBUG] kashgari - predict output argmax: [[0 1 1 ... 1 1 1]\n",
      " [0 1 1 ... 1 1 1]\n",
      " [0 1 1 ... 1 1 1]\n",
      " ...\n",
      " [0 1 1 ... 1 1 1]\n",
      " [0 1 1 ... 1 1 1]\n",
      " [0 0 0 ... 0 0 0]]\n",
      "2020-12-15 19:32:25,832 [DEBUG] kashgari - predict seq_length: None, input: (2, 171, 78)\n"
     ]
    },
    {
     "name": "stdout",
     "output_type": "stream",
     "text": [
      "6/6 [==============================] - 1s 85ms/step\n"
     ]
    },
    {
     "name": "stderr",
     "output_type": "stream",
     "text": [
      "2020-12-15 19:32:30,066 [DEBUG] kashgari - predict output: (171, 78)\n",
      "2020-12-15 19:32:30,068 [DEBUG] kashgari - predict output argmax: [[0 1 1 ... 1 1 1]\n",
      " [0 1 1 ... 1 1 1]\n",
      " [0 1 1 ... 1 1 1]\n",
      " ...\n",
      " [0 1 1 ... 1 1 1]\n",
      " [0 1 1 ... 1 1 1]\n",
      " [0 0 0 ... 0 0 0]]\n"
     ]
    }
   ],
   "source": [
    "df = predicting_txt_to_dataframe('/home/Danny/AI-CUP-2020/datasets/stage5/test.txt')\n",
    "output_str = \"article_id\\tstart_position\\tend_position\\tentity_text\\tentity_type\\n\"\n",
    "\n",
    "for article_id, text in zip(df['article_id'], df['text']):\n",
    "    x_list = [word for word in text]\n",
    "    y_list = predict_NER(text)\n",
    "    output_str += output_NER(article_id, text, y_list)"
   ]
  },
  {
   "cell_type": "code",
   "execution_count": 20,
   "metadata": {},
   "outputs": [],
   "source": [
    "output_path = 'output/{}_epoch_{}_batch_{}.tsv'.format(model_name, epochs, batch_size)\n",
    "with open(output_path, 'w', encoding='utf-8') as f:\n",
    "    f.write(output_str)"
   ]
  },
  {
   "cell_type": "code",
   "execution_count": 21,
   "metadata": {},
   "outputs": [
    {
     "data": {
      "text/html": [
       "<div>\n",
       "<style scoped>\n",
       "    .dataframe tbody tr th:only-of-type {\n",
       "        vertical-align: middle;\n",
       "    }\n",
       "\n",
       "    .dataframe tbody tr th {\n",
       "        vertical-align: top;\n",
       "    }\n",
       "\n",
       "    .dataframe thead th {\n",
       "        text-align: right;\n",
       "    }\n",
       "</style>\n",
       "<table border=\"1\" class=\"dataframe\">\n",
       "  <thead>\n",
       "    <tr style=\"text-align: right;\">\n",
       "      <th></th>\n",
       "      <th>article_id</th>\n",
       "      <th>start_position</th>\n",
       "      <th>end_position</th>\n",
       "      <th>entity_text</th>\n",
       "      <th>entity_type</th>\n",
       "    </tr>\n",
       "  </thead>\n",
       "  <tbody>\n",
       "    <tr>\n",
       "      <th>0</th>\n",
       "      <td>0</td>\n",
       "      <td>113</td>\n",
       "      <td>115</td>\n",
       "      <td>今天</td>\n",
       "      <td>time</td>\n",
       "    </tr>\n",
       "    <tr>\n",
       "      <th>1</th>\n",
       "      <td>0</td>\n",
       "      <td>227</td>\n",
       "      <td>229</td>\n",
       "      <td>麻豆</td>\n",
       "      <td>location</td>\n",
       "    </tr>\n",
       "    <tr>\n",
       "      <th>2</th>\n",
       "      <td>0</td>\n",
       "      <td>237</td>\n",
       "      <td>239</td>\n",
       "      <td>麻豆</td>\n",
       "      <td>location</td>\n",
       "    </tr>\n",
       "    <tr>\n",
       "      <th>3</th>\n",
       "      <td>0</td>\n",
       "      <td>295</td>\n",
       "      <td>297</td>\n",
       "      <td>今年</td>\n",
       "      <td>time</td>\n",
       "    </tr>\n",
       "    <tr>\n",
       "      <th>4</th>\n",
       "      <td>1</td>\n",
       "      <td>31</td>\n",
       "      <td>33</td>\n",
       "      <td>今天</td>\n",
       "      <td>time</td>\n",
       "    </tr>\n",
       "    <tr>\n",
       "      <th>...</th>\n",
       "      <td>...</td>\n",
       "      <td>...</td>\n",
       "      <td>...</td>\n",
       "      <td>...</td>\n",
       "      <td>...</td>\n",
       "    </tr>\n",
       "    <tr>\n",
       "      <th>2769</th>\n",
       "      <td>158</td>\n",
       "      <td>448</td>\n",
       "      <td>451</td>\n",
       "      <td>二十幾</td>\n",
       "      <td>med_exam</td>\n",
       "    </tr>\n",
       "    <tr>\n",
       "      <th>2770</th>\n",
       "      <td>158</td>\n",
       "      <td>1074</td>\n",
       "      <td>1076</td>\n",
       "      <td>今天</td>\n",
       "      <td>time</td>\n",
       "    </tr>\n",
       "    <tr>\n",
       "      <th>2771</th>\n",
       "      <td>158</td>\n",
       "      <td>1143</td>\n",
       "      <td>1145</td>\n",
       "      <td>今天</td>\n",
       "      <td>time</td>\n",
       "    </tr>\n",
       "    <tr>\n",
       "      <th>2772</th>\n",
       "      <td>158</td>\n",
       "      <td>1199</td>\n",
       "      <td>1201</td>\n",
       "      <td>小安</td>\n",
       "      <td>name</td>\n",
       "    </tr>\n",
       "    <tr>\n",
       "      <th>2773</th>\n",
       "      <td>158</td>\n",
       "      <td>1381</td>\n",
       "      <td>1390</td>\n",
       "      <td>124699678</td>\n",
       "      <td>med_exam</td>\n",
       "    </tr>\n",
       "  </tbody>\n",
       "</table>\n",
       "<p>2774 rows × 5 columns</p>\n",
       "</div>"
      ],
      "text/plain": [
       "      article_id  start_position  end_position entity_text entity_type\n",
       "0              0             113           115          今天        time\n",
       "1              0             227           229          麻豆    location\n",
       "2              0             237           239          麻豆    location\n",
       "3              0             295           297          今年        time\n",
       "4              1              31            33          今天        time\n",
       "...          ...             ...           ...         ...         ...\n",
       "2769         158             448           451         二十幾    med_exam\n",
       "2770         158            1074          1076          今天        time\n",
       "2771         158            1143          1145          今天        time\n",
       "2772         158            1199          1201          小安        name\n",
       "2773         158            1381          1390   124699678    med_exam\n",
       "\n",
       "[2774 rows x 5 columns]"
      ]
     },
     "execution_count": 21,
     "metadata": {},
     "output_type": "execute_result"
    }
   ],
   "source": [
    "df = pd.read_csv(output_path, sep='\\t')\n",
    "df"
   ]
  },
  {
   "cell_type": "code",
   "execution_count": null,
   "metadata": {},
   "outputs": [],
   "source": []
  }
 ],
 "metadata": {
  "kernelspec": {
   "display_name": "Python 3",
   "language": "python",
   "name": "python3"
  },
  "language_info": {
   "codemirror_mode": {
    "name": "ipython",
    "version": 3
   },
   "file_extension": ".py",
   "mimetype": "text/x-python",
   "name": "python",
   "nbconvert_exporter": "python",
   "pygments_lexer": "ipython3",
   "version": "3.6.10"
  }
 },
 "nbformat": 4,
 "nbformat_minor": 4
}
