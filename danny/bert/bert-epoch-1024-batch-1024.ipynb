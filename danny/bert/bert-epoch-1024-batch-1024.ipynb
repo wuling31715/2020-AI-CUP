{
 "cells": [
  {
   "cell_type": "code",
   "execution_count": 1,
   "metadata": {},
   "outputs": [],
   "source": [
    "import re\n",
    "import pandas as pd\n",
    "import tensorflow as tf\n",
    "from matplotlib import pyplot as plt"
   ]
  },
  {
   "cell_type": "code",
   "execution_count": 2,
   "metadata": {},
   "outputs": [],
   "source": [
    "def select_gpu(N):\n",
    "    gpus = tf.config.experimental.list_physical_devices('GPU')\n",
    "    print(gpus)\n",
    "    if gpus:\n",
    "        try:\n",
    "            for gpu in gpus:\n",
    "                tf.config.experimental.set_memory_growth(gpu, True)\n",
    "            tf.config.experimental.set_visible_devices(gpus[N], 'GPU')\n",
    "            logical_gpus = tf.config.experimental.list_logical_devices('GPU')\n",
    "            print(len(gpus), \"Physical GPUs,\", len(logical_gpus), \"Logical GPUs\")\n",
    "        except RuntimeError as e:\n",
    "            print(e)    "
   ]
  },
  {
   "cell_type": "code",
   "execution_count": 3,
   "metadata": {},
   "outputs": [
    {
     "name": "stdout",
     "output_type": "stream",
     "text": [
      "[PhysicalDevice(name='/physical_device:GPU:0', device_type='GPU'), PhysicalDevice(name='/physical_device:GPU:1', device_type='GPU'), PhysicalDevice(name='/physical_device:GPU:2', device_type='GPU')]\n",
      "3 Physical GPUs, 1 Logical GPUs\n"
     ]
    }
   ],
   "source": [
    "select_gpu(0)\n",
    "epochs = 1024\n",
    "batch_size = 1024\n",
    "model_name = 'bert-chinese'\n",
    "embedding_path = '/home/Danny/pretrain_model/{}'.format(model_name)"
   ]
  },
  {
   "cell_type": "code",
   "execution_count": 1,
   "metadata": {},
   "outputs": [],
   "source": [
    "# 不用儲存article_id, 轉成list\n",
    "def training_txt_to_list(path):\n",
    "    with open(path, 'r') as f:\n",
    "        txt = str(f.read())\n",
    "    txt_list = txt.split('\\n')\n",
    "    text_label_list = list()\n",
    "    tmp = list()\n",
    "    for line in txt_list:\n",
    "        if line == '--------------------':\n",
    "            text_label_list.append(tmp)\n",
    "            tmp = list()\n",
    "            continue\n",
    "        if line == '':\n",
    "            continue\n",
    "        tmp.append(line)\n",
    "    x = list()\n",
    "    y = list()\n",
    "    for text_label in text_label_list:\n",
    "        text = text_label[0]\n",
    "        label = text_label[2:]\n",
    "        label_list = ['O' for i in range(len(text))]\n",
    "        for i in label:\n",
    "            entity = i.split('\\t')\n",
    "            if int(entity[1]) > int(entity[2]):\n",
    "                continue\n",
    "            b = int(entity[1])\n",
    "            label_list[b] = 'B-{}'.format(entity[-1])\n",
    "            for j in range(int(entity[1])+1, int(entity[2])):\n",
    "                label_list[j] = 'I-{}'.format(entity[-1])\n",
    "        for i, j in enumerate(text):\n",
    "            if j == '，' or j == '。' or j == '？':\n",
    "                label_list[i] = j\n",
    "                \n",
    "        text_list = re.split('\\uff0c|\\u3002|\\uff1f', text)\n",
    "        for sentence in text_list:\n",
    "            x.append([i for i in sentence])\n",
    "        x = x[:-1]\n",
    "            \n",
    "        sentence = list()\n",
    "        for i in label_list:\n",
    "            if i == '，' or i == '。' or i == '？':\n",
    "                y.append(sentence)\n",
    "                sentence = list()\n",
    "            else:\n",
    "                sentence.append(i)\n",
    "                \n",
    "    return [x, y]"
   ]
  },
  {
   "cell_type": "code",
   "execution_count": 5,
   "metadata": {},
   "outputs": [],
   "source": [
    "x1, y1 = training_txt_to_list('/home/Danny/AI-CUP-2020/datasets/stage1/SampleData_deid.txt')"
   ]
  },
  {
   "cell_type": "code",
   "execution_count": 6,
   "metadata": {},
   "outputs": [],
   "source": [
    "x2, y2 = training_txt_to_list('/home/Danny/AI-CUP-2020/datasets/stage2/train_1_update.txt')"
   ]
  },
  {
   "cell_type": "code",
   "execution_count": 7,
   "metadata": {},
   "outputs": [],
   "source": [
    "x4, y4 = training_txt_to_list('/home/Danny/AI-CUP-2020/datasets/stage4/train_2.txt')"
   ]
  },
  {
   "cell_type": "code",
   "execution_count": 8,
   "metadata": {},
   "outputs": [
    {
     "name": "stdout",
     "output_type": "stream",
     "text": [
      "76162\n",
      "76162\n"
     ]
    }
   ],
   "source": [
    "x = x4\n",
    "y = y4\n",
    "print(len(x))\n",
    "print(len(y))"
   ]
  },
  {
   "cell_type": "code",
   "execution_count": 9,
   "metadata": {},
   "outputs": [
    {
     "name": "stdout",
     "output_type": "stream",
     "text": [
      "48743 48743\n",
      "12186 12186\n",
      "15233 15233\n"
     ]
    }
   ],
   "source": [
    "from sklearn.model_selection import train_test_split\n",
    "train_x, test_x, train_y, test_y = train_test_split(x, y, test_size=0.2, random_state=42)\n",
    "train_x, valid_x, train_y, valid_y = train_test_split(train_x, train_y, test_size=0.2, random_state=42)\n",
    "print(len(train_x), len(train_y))\n",
    "print(len(valid_x), len(valid_y))\n",
    "print(len(test_x), len(test_y))"
   ]
  },
  {
   "cell_type": "code",
   "execution_count": 10,
   "metadata": {
    "scrolled": true
   },
   "outputs": [
    {
     "name": "stderr",
     "output_type": "stream",
     "text": [
      "2020-12-14 22:43:33,133 [DEBUG] kashgari - ------------------------------------------------\n",
      "2020-12-14 22:43:33,134 [DEBUG] kashgari - Loaded transformer model's vocab\n",
      "2020-12-14 22:43:33,134 [DEBUG] kashgari - config_path       : /home/Danny/pretrain_model/bert-chinese/bert_config.json\n",
      "2020-12-14 22:43:33,135 [DEBUG] kashgari - vocab_path      : /home/Danny/pretrain_model/bert-chinese/vocab.txt\n",
      "2020-12-14 22:43:33,135 [DEBUG] kashgari - checkpoint_path : /home/Danny/pretrain_model/bert-chinese/bert_model.ckpt\n",
      "2020-12-14 22:43:33,135 [DEBUG] kashgari - Top 50 words    : ['[PAD]', '[unused1]', '[unused2]', '[unused3]', '[unused4]', '[unused5]', '[unused6]', '[unused7]', '[unused8]', '[unused9]', '[unused10]', '[unused11]', '[unused12]', '[unused13]', '[unused14]', '[unused15]', '[unused16]', '[unused17]', '[unused18]', '[unused19]', '[unused20]', '[unused21]', '[unused22]', '[unused23]', '[unused24]', '[unused25]', '[unused26]', '[unused27]', '[unused28]', '[unused29]', '[unused30]', '[unused31]', '[unused32]', '[unused33]', '[unused34]', '[unused35]', '[unused36]', '[unused37]', '[unused38]', '[unused39]', '[unused40]', '[unused41]', '[unused42]', '[unused43]', '[unused44]', '[unused45]', '[unused46]', '[unused47]', '[unused48]', '[unused49]']\n",
      "2020-12-14 22:43:33,136 [DEBUG] kashgari - ------------------------------------------------\n",
      "Preparing text vocab dict: 100%|██████████| 48743/48743 [00:00<00:00, 399478.21it/s]\n",
      "Preparing text vocab dict: 100%|██████████| 12186/12186 [00:00<00:00, 347637.75it/s]\n",
      "2020-12-14 22:43:33,304 [DEBUG] kashgari - --- Build vocab dict finished, Total: 1742 ---\n",
      "2020-12-14 22:43:33,305 [DEBUG] kashgari - Top-10: ['[PAD]', '[UNK]', '[CLS]', '[SEP]', '：', '師', '是', '民', '眾', '醫']\n",
      "Preparing text vocab dict: 100%|██████████| 48743/48743 [00:00<00:00, 559988.82it/s]\n",
      "Preparing text vocab dict: 100%|██████████| 12186/12186 [00:00<00:00, 466110.28it/s]\n",
      "2020-12-14 22:43:33,422 [DEBUG] kashgari - --- Build vocab dict finished, Total: 28 ---\n",
      "2020-12-14 22:43:33,423 [DEBUG] kashgari - Top-10: ['[PAD]', 'O', 'I-time', 'B-time', 'I-med_exam', 'I-name', 'I-location', 'B-med_exam', 'I-money', 'B-name']\n",
      "Calculating sequence length: 100%|██████████| 48743/48743 [00:00<00:00, 1121624.37it/s]\n",
      "Calculating sequence length: 100%|██████████| 12186/12186 [00:00<00:00, 820084.85it/s]\n",
      "2020-12-14 22:43:36,981 [DEBUG] kashgari - Calculated sequence length = 19\n",
      "2020-12-14 22:43:39,200 [DEBUG] kashgari - fit input shape: (2, 1024, 19)\n",
      "2020-12-14 22:43:39,201 [DEBUG] kashgari - fit input shape: (1024, 19)\n"
     ]
    },
    {
     "name": "stdout",
     "output_type": "stream",
     "text": [
      "Epoch 1/1024\n",
      "47/47 [==============================] - 37s 795ms/step - loss: 1.6411 - accuracy: 0.9289 - val_loss: 21.7794 - val_accuracy: 0.9742\n",
      "Epoch 2/1024\n",
      "47/47 [==============================] - 33s 695ms/step - loss: 0.4392 - accuracy: 0.9784 - val_loss: 21.6170 - val_accuracy: 0.9814\n",
      "Epoch 3/1024\n",
      "47/47 [==============================] - 33s 694ms/step - loss: 0.3233 - accuracy: 0.9821 - val_loss: 21.5689 - val_accuracy: 0.9840\n",
      "Epoch 4/1024\n",
      "47/47 [==============================] - 33s 695ms/step - loss: 0.2538 - accuracy: 0.9841 - val_loss: 21.4615 - val_accuracy: 0.9865\n",
      "Epoch 5/1024\n",
      "47/47 [==============================] - 33s 692ms/step - loss: 0.2156 - accuracy: 0.9858 - val_loss: 21.4409 - val_accuracy: 0.9882\n",
      "Epoch 6/1024\n",
      "47/47 [==============================] - 33s 696ms/step - loss: 0.1887 - accuracy: 0.9873 - val_loss: 21.3580 - val_accuracy: 0.9894\n",
      "Epoch 7/1024\n",
      "47/47 [==============================] - 33s 694ms/step - loss: 0.1715 - accuracy: 0.9882 - val_loss: 21.2900 - val_accuracy: 0.9899\n",
      "Epoch 8/1024\n",
      "47/47 [==============================] - 33s 694ms/step - loss: 0.1577 - accuracy: 0.9889 - val_loss: 21.2793 - val_accuracy: 0.9901\n",
      "Epoch 9/1024\n",
      "47/47 [==============================] - 33s 694ms/step - loss: 0.1453 - accuracy: 0.9895 - val_loss: 21.2311 - val_accuracy: 0.9903\n",
      "Epoch 10/1024\n",
      "47/47 [==============================] - 33s 694ms/step - loss: 0.1371 - accuracy: 0.9899 - val_loss: 21.1848 - val_accuracy: 0.9908\n",
      "Epoch 11/1024\n",
      "47/47 [==============================] - 33s 695ms/step - loss: 0.1263 - accuracy: 0.9908 - val_loss: 21.1335 - val_accuracy: 0.9915\n",
      "Epoch 12/1024\n",
      "47/47 [==============================] - 33s 694ms/step - loss: 0.1156 - accuracy: 0.9913 - val_loss: 21.0860 - val_accuracy: 0.9917\n",
      "Epoch 13/1024\n",
      "47/47 [==============================] - 33s 694ms/step - loss: 0.1091 - accuracy: 0.9917 - val_loss: 21.0803 - val_accuracy: 0.9911\n",
      "Epoch 14/1024\n",
      "47/47 [==============================] - 33s 695ms/step - loss: 0.1015 - accuracy: 0.9923 - val_loss: 20.9952 - val_accuracy: 0.9916\n",
      "Epoch 15/1024\n",
      "47/47 [==============================] - 33s 695ms/step - loss: 0.0979 - accuracy: 0.9923 - val_loss: 20.9861 - val_accuracy: 0.9916\n",
      "Epoch 16/1024\n",
      "47/47 [==============================] - 33s 693ms/step - loss: 0.0901 - accuracy: 0.9930 - val_loss: 20.9013 - val_accuracy: 0.9919\n",
      "Epoch 17/1024\n",
      "47/47 [==============================] - 33s 695ms/step - loss: 0.0847 - accuracy: 0.9931 - val_loss: 20.8876 - val_accuracy: 0.9926\n",
      "Epoch 18/1024\n",
      "47/47 [==============================] - 33s 694ms/step - loss: 0.0796 - accuracy: 0.9935 - val_loss: 20.8792 - val_accuracy: 0.9923\n",
      "Epoch 19/1024\n",
      "47/47 [==============================] - 33s 694ms/step - loss: 0.0740 - accuracy: 0.9940 - val_loss: 20.8234 - val_accuracy: 0.9921\n",
      "Epoch 20/1024\n",
      "47/47 [==============================] - 33s 694ms/step - loss: 0.0696 - accuracy: 0.9944 - val_loss: 20.7889 - val_accuracy: 0.9920\n",
      "Epoch 21/1024\n",
      "47/47 [==============================] - 33s 694ms/step - loss: 0.0644 - accuracy: 0.9948 - val_loss: 20.7878 - val_accuracy: 0.9926\n",
      "Epoch 22/1024\n",
      "47/47 [==============================] - 33s 694ms/step - loss: 0.0608 - accuracy: 0.9951 - val_loss: 20.7102 - val_accuracy: 0.9929\n",
      "Epoch 23/1024\n",
      "47/47 [==============================] - 33s 694ms/step - loss: 0.0594 - accuracy: 0.9951 - val_loss: 20.6964 - val_accuracy: 0.9919\n",
      "Epoch 24/1024\n",
      "47/47 [==============================] - 33s 694ms/step - loss: 0.0564 - accuracy: 0.9952 - val_loss: 20.6634 - val_accuracy: 0.9933\n",
      "Epoch 25/1024\n",
      "47/47 [==============================] - 33s 694ms/step - loss: 0.0520 - accuracy: 0.9957 - val_loss: 20.5898 - val_accuracy: 0.9929\n",
      "Epoch 26/1024\n",
      "47/47 [==============================] - 33s 695ms/step - loss: 0.0488 - accuracy: 0.9960 - val_loss: 20.5738 - val_accuracy: 0.9926\n",
      "Epoch 27/1024\n",
      "47/47 [==============================] - 33s 693ms/step - loss: 0.0465 - accuracy: 0.9963 - val_loss: 20.5709 - val_accuracy: 0.9927\n",
      "Epoch 28/1024\n",
      "47/47 [==============================] - 33s 694ms/step - loss: 0.0444 - accuracy: 0.9964 - val_loss: 20.5424 - val_accuracy: 0.9930\n",
      "Epoch 29/1024\n",
      "47/47 [==============================] - 33s 694ms/step - loss: 0.0427 - accuracy: 0.9965 - val_loss: 20.5230 - val_accuracy: 0.9932\n",
      "Epoch 30/1024\n",
      "47/47 [==============================] - 33s 696ms/step - loss: 0.0390 - accuracy: 0.9969 - val_loss: 20.5208 - val_accuracy: 0.9923\n",
      "Epoch 31/1024\n",
      "47/47 [==============================] - 33s 696ms/step - loss: 0.0384 - accuracy: 0.9969 - val_loss: 20.4891 - val_accuracy: 0.9932\n",
      "Epoch 32/1024\n",
      "47/47 [==============================] - 33s 696ms/step - loss: 0.0378 - accuracy: 0.9968 - val_loss: 20.4309 - val_accuracy: 0.9935\n",
      "Epoch 33/1024\n",
      "47/47 [==============================] - 33s 695ms/step - loss: 0.0356 - accuracy: 0.9970 - val_loss: 20.4460 - val_accuracy: 0.9930\n",
      "Epoch 34/1024\n",
      "47/47 [==============================] - 33s 695ms/step - loss: 0.0329 - accuracy: 0.9972 - val_loss: 20.4079 - val_accuracy: 0.9929\n",
      "Epoch 35/1024\n",
      "47/47 [==============================] - 33s 696ms/step - loss: 0.0321 - accuracy: 0.9974 - val_loss: 20.4093 - val_accuracy: 0.9931\n",
      "Epoch 36/1024\n",
      "47/47 [==============================] - 33s 696ms/step - loss: 0.0306 - accuracy: 0.9973 - val_loss: 20.3663 - val_accuracy: 0.9930\n",
      "Epoch 37/1024\n",
      "47/47 [==============================] - 33s 696ms/step - loss: 0.0291 - accuracy: 0.9976 - val_loss: 20.3161 - val_accuracy: 0.9932\n",
      "Epoch 38/1024\n",
      "47/47 [==============================] - 33s 696ms/step - loss: 0.0269 - accuracy: 0.9979 - val_loss: 20.2890 - val_accuracy: 0.9934\n",
      "Epoch 39/1024\n",
      "47/47 [==============================] - 33s 696ms/step - loss: 0.0274 - accuracy: 0.9978 - val_loss: 20.3189 - val_accuracy: 0.9936\n",
      "Epoch 40/1024\n",
      "47/47 [==============================] - 33s 694ms/step - loss: 0.0265 - accuracy: 0.9979 - val_loss: 20.2625 - val_accuracy: 0.9936\n",
      "Epoch 41/1024\n",
      "47/47 [==============================] - 33s 696ms/step - loss: 0.0249 - accuracy: 0.9980 - val_loss: 20.2558 - val_accuracy: 0.9938\n",
      "Epoch 42/1024\n",
      "47/47 [==============================] - 33s 696ms/step - loss: 0.0248 - accuracy: 0.9980 - val_loss: 20.2300 - val_accuracy: 0.9939\n",
      "Epoch 43/1024\n",
      "47/47 [==============================] - 33s 695ms/step - loss: 0.0233 - accuracy: 0.9981 - val_loss: 20.2246 - val_accuracy: 0.9931\n",
      "Epoch 44/1024\n",
      "47/47 [==============================] - 33s 696ms/step - loss: 0.0230 - accuracy: 0.9981 - val_loss: 20.2077 - val_accuracy: 0.9929\n",
      "Epoch 45/1024\n",
      "47/47 [==============================] - 33s 695ms/step - loss: 0.0235 - accuracy: 0.9979 - val_loss: 20.1969 - val_accuracy: 0.9932\n",
      "Epoch 46/1024\n",
      "47/47 [==============================] - 33s 695ms/step - loss: 0.0231 - accuracy: 0.9980 - val_loss: 20.1603 - val_accuracy: 0.9939\n",
      "Epoch 47/1024\n",
      "47/47 [==============================] - 33s 695ms/step - loss: 0.0224 - accuracy: 0.9979 - val_loss: 20.1013 - val_accuracy: 0.9935\n",
      "Epoch 48/1024\n",
      "47/47 [==============================] - 33s 695ms/step - loss: 0.0223 - accuracy: 0.9980 - val_loss: 20.1183 - val_accuracy: 0.9935\n",
      "Epoch 49/1024\n",
      "47/47 [==============================] - 33s 700ms/step - loss: 0.0226 - accuracy: 0.9980 - val_loss: 20.1019 - val_accuracy: 0.9934\n",
      "Epoch 50/1024\n",
      "47/47 [==============================] - 33s 700ms/step - loss: 0.0214 - accuracy: 0.9982 - val_loss: 20.0463 - val_accuracy: 0.9934\n",
      "Epoch 51/1024\n",
      "47/47 [==============================] - 33s 696ms/step - loss: 0.0189 - accuracy: 0.9983 - val_loss: 20.0471 - val_accuracy: 0.9935\n",
      "Epoch 52/1024\n",
      "47/47 [==============================] - 33s 696ms/step - loss: 0.0175 - accuracy: 0.9985 - val_loss: 20.0149 - val_accuracy: 0.9937\n",
      "Epoch 53/1024\n",
      "47/47 [==============================] - 33s 696ms/step - loss: 0.0168 - accuracy: 0.9985 - val_loss: 20.0255 - val_accuracy: 0.9938\n",
      "Epoch 54/1024\n",
      "47/47 [==============================] - 33s 695ms/step - loss: 0.0176 - accuracy: 0.9985 - val_loss: 19.9898 - val_accuracy: 0.9937\n",
      "Epoch 55/1024\n",
      "47/47 [==============================] - 33s 695ms/step - loss: 0.0164 - accuracy: 0.9986 - val_loss: 19.9501 - val_accuracy: 0.9935\n",
      "Epoch 56/1024\n",
      "47/47 [==============================] - 33s 695ms/step - loss: 0.0158 - accuracy: 0.9986 - val_loss: 19.9459 - val_accuracy: 0.9936\n"
     ]
    },
    {
     "name": "stdout",
     "output_type": "stream",
     "text": [
      "Epoch 57/1024\n",
      "47/47 [==============================] - 33s 696ms/step - loss: 0.0158 - accuracy: 0.9986 - val_loss: 19.9554 - val_accuracy: 0.9934\n",
      "Epoch 58/1024\n",
      "47/47 [==============================] - 33s 696ms/step - loss: 0.0149 - accuracy: 0.9987 - val_loss: 19.9552 - val_accuracy: 0.9934\n",
      "Epoch 59/1024\n",
      "47/47 [==============================] - 33s 697ms/step - loss: 0.0152 - accuracy: 0.9986 - val_loss: 19.9001 - val_accuracy: 0.9931\n",
      "Epoch 60/1024\n",
      "47/47 [==============================] - 33s 696ms/step - loss: 0.0156 - accuracy: 0.9986 - val_loss: 19.8902 - val_accuracy: 0.9936\n",
      "Epoch 61/1024\n",
      "47/47 [==============================] - 33s 696ms/step - loss: 0.0146 - accuracy: 0.9987 - val_loss: 19.9307 - val_accuracy: 0.9936\n",
      "Epoch 62/1024\n",
      "47/47 [==============================] - 33s 696ms/step - loss: 0.0139 - accuracy: 0.9987 - val_loss: 19.8590 - val_accuracy: 0.9924\n",
      "Epoch 63/1024\n",
      "47/47 [==============================] - 33s 695ms/step - loss: 0.0144 - accuracy: 0.9988 - val_loss: 19.8610 - val_accuracy: 0.9923\n",
      "Epoch 64/1024\n",
      "47/47 [==============================] - 33s 696ms/step - loss: 0.0132 - accuracy: 0.9988 - val_loss: 19.8292 - val_accuracy: 0.9923\n",
      "Epoch 65/1024\n",
      "47/47 [==============================] - 33s 696ms/step - loss: 0.0128 - accuracy: 0.9989 - val_loss: 19.8528 - val_accuracy: 0.9923\n",
      "Epoch 66/1024\n",
      "47/47 [==============================] - 33s 696ms/step - loss: 0.0134 - accuracy: 0.9988 - val_loss: 19.7986 - val_accuracy: 0.9925\n",
      "Epoch 67/1024\n",
      "47/47 [==============================] - 33s 697ms/step - loss: 0.0130 - accuracy: 0.9989 - val_loss: 19.7584 - val_accuracy: 0.9925\n",
      "Epoch 68/1024\n",
      "47/47 [==============================] - 33s 697ms/step - loss: 0.0129 - accuracy: 0.9988 - val_loss: 19.7825 - val_accuracy: 0.9897\n",
      "Epoch 69/1024\n",
      "47/47 [==============================] - 33s 697ms/step - loss: 0.0130 - accuracy: 0.9988 - val_loss: 19.8076 - val_accuracy: 0.9901\n",
      "Epoch 70/1024\n",
      "47/47 [==============================] - 33s 696ms/step - loss: 0.0128 - accuracy: 0.9987 - val_loss: 19.7135 - val_accuracy: 0.9900\n",
      "Epoch 71/1024\n",
      "47/47 [==============================] - 33s 696ms/step - loss: 0.0125 - accuracy: 0.9989 - val_loss: 19.7453 - val_accuracy: 0.9902\n",
      "Epoch 72/1024\n",
      "47/47 [==============================] - 33s 697ms/step - loss: 0.0125 - accuracy: 0.9989 - val_loss: 19.7507 - val_accuracy: 0.9897\n",
      "Epoch 73/1024\n",
      "47/47 [==============================] - 33s 696ms/step - loss: 0.0118 - accuracy: 0.9989 - val_loss: 19.7100 - val_accuracy: 0.9897\n",
      "Epoch 74/1024\n",
      "47/47 [==============================] - 33s 696ms/step - loss: 0.0120 - accuracy: 0.9988 - val_loss: 19.6687 - val_accuracy: 0.9897\n",
      "Epoch 75/1024\n",
      "47/47 [==============================] - 33s 696ms/step - loss: 0.0120 - accuracy: 0.9989 - val_loss: 19.6931 - val_accuracy: 0.9889\n",
      "Epoch 76/1024\n",
      "47/47 [==============================] - 33s 697ms/step - loss: 0.0121 - accuracy: 0.9988 - val_loss: 19.6497 - val_accuracy: 0.9895\n",
      "Epoch 77/1024\n",
      "47/47 [==============================] - 33s 697ms/step - loss: 0.0110 - accuracy: 0.9991 - val_loss: 19.6368 - val_accuracy: 0.9892\n",
      "Epoch 78/1024\n",
      "47/47 [==============================] - 33s 697ms/step - loss: 0.0114 - accuracy: 0.9990 - val_loss: 19.6249 - val_accuracy: 0.9890\n",
      "Epoch 79/1024\n",
      "47/47 [==============================] - 33s 696ms/step - loss: 0.0111 - accuracy: 0.9990 - val_loss: 19.5924 - val_accuracy: 0.9899\n",
      "Epoch 80/1024\n",
      "47/47 [==============================] - 33s 697ms/step - loss: 0.0099 - accuracy: 0.9990 - val_loss: 19.6394 - val_accuracy: 0.9892\n",
      "Epoch 81/1024\n",
      "47/47 [==============================] - 33s 698ms/step - loss: 0.0097 - accuracy: 0.9990 - val_loss: 19.5855 - val_accuracy: 0.9900\n",
      "Epoch 82/1024\n",
      "47/47 [==============================] - 33s 697ms/step - loss: 0.0122 - accuracy: 0.9988 - val_loss: 19.5173 - val_accuracy: 0.9898\n",
      "Epoch 83/1024\n",
      "47/47 [==============================] - 33s 696ms/step - loss: 0.0109 - accuracy: 0.9990 - val_loss: 19.5551 - val_accuracy: 0.9896\n",
      "Epoch 84/1024\n",
      "47/47 [==============================] - 33s 695ms/step - loss: 0.0108 - accuracy: 0.9989 - val_loss: 19.5112 - val_accuracy: 0.9897\n",
      "Epoch 85/1024\n",
      "47/47 [==============================] - 33s 696ms/step - loss: 0.0104 - accuracy: 0.9990 - val_loss: 19.5110 - val_accuracy: 0.9898\n",
      "Epoch 86/1024\n",
      "47/47 [==============================] - 33s 696ms/step - loss: 0.0098 - accuracy: 0.9990 - val_loss: 19.5068 - val_accuracy: 0.9896\n",
      "Epoch 87/1024\n",
      "47/47 [==============================] - 33s 696ms/step - loss: 0.0113 - accuracy: 0.9988 - val_loss: 19.4724 - val_accuracy: 0.9894\n",
      "Epoch 88/1024\n",
      "47/47 [==============================] - 33s 697ms/step - loss: 0.0101 - accuracy: 0.9990 - val_loss: 19.4553 - val_accuracy: 0.9891\n",
      "Epoch 89/1024\n",
      "47/47 [==============================] - 33s 696ms/step - loss: 0.0096 - accuracy: 0.9991 - val_loss: 19.4727 - val_accuracy: 0.9891\n",
      "Epoch 90/1024\n",
      "47/47 [==============================] - 33s 696ms/step - loss: 0.0090 - accuracy: 0.9991 - val_loss: 19.3757 - val_accuracy: 0.9884\n",
      "Epoch 91/1024\n",
      "47/47 [==============================] - 33s 696ms/step - loss: 0.0099 - accuracy: 0.9990 - val_loss: 19.3855 - val_accuracy: 0.9886\n",
      "Epoch 92/1024\n",
      "47/47 [==============================] - 33s 696ms/step - loss: 0.0092 - accuracy: 0.9991 - val_loss: 19.3939 - val_accuracy: 0.9888\n",
      "Epoch 93/1024\n",
      "47/47 [==============================] - 33s 696ms/step - loss: 0.0098 - accuracy: 0.9991 - val_loss: 19.4067 - val_accuracy: 0.9879\n",
      "Epoch 94/1024\n",
      "47/47 [==============================] - 33s 696ms/step - loss: 0.0102 - accuracy: 0.9989 - val_loss: 19.3471 - val_accuracy: 0.9877\n",
      "Epoch 95/1024\n",
      "47/47 [==============================] - 33s 696ms/step - loss: 0.0094 - accuracy: 0.9990 - val_loss: 19.3427 - val_accuracy: 0.9882\n",
      "Epoch 96/1024\n",
      "47/47 [==============================] - 33s 695ms/step - loss: 0.0090 - accuracy: 0.9991 - val_loss: 19.3158 - val_accuracy: 0.9880\n",
      "Epoch 97/1024\n",
      "47/47 [==============================] - 33s 702ms/step - loss: 0.0080 - accuracy: 0.9992 - val_loss: 19.2842 - val_accuracy: 0.9877\n",
      "Epoch 98/1024\n",
      "47/47 [==============================] - 33s 700ms/step - loss: 0.0090 - accuracy: 0.9990 - val_loss: 19.2609 - val_accuracy: 0.9872\n",
      "Epoch 99/1024\n",
      "47/47 [==============================] - 33s 696ms/step - loss: 0.0094 - accuracy: 0.9990 - val_loss: 19.2241 - val_accuracy: 0.9875\n",
      "Epoch 100/1024\n",
      "47/47 [==============================] - 33s 697ms/step - loss: 0.0079 - accuracy: 0.9991 - val_loss: 19.2661 - val_accuracy: 0.9874\n",
      "Epoch 101/1024\n",
      "47/47 [==============================] - 33s 696ms/step - loss: 0.0094 - accuracy: 0.9990 - val_loss: 19.2109 - val_accuracy: 0.9878\n",
      "Epoch 102/1024\n",
      "47/47 [==============================] - 33s 696ms/step - loss: 0.0086 - accuracy: 0.9990 - val_loss: 19.1867 - val_accuracy: 0.9884\n",
      "Epoch 103/1024\n",
      "47/47 [==============================] - 33s 696ms/step - loss: 0.0094 - accuracy: 0.9989 - val_loss: 19.1893 - val_accuracy: 0.9881\n",
      "Epoch 104/1024\n",
      "47/47 [==============================] - 33s 696ms/step - loss: 0.0087 - accuracy: 0.9990 - val_loss: 19.1798 - val_accuracy: 0.9855\n",
      "Epoch 105/1024\n",
      "47/47 [==============================] - 33s 696ms/step - loss: 0.0087 - accuracy: 0.9991 - val_loss: 19.1537 - val_accuracy: 0.9844\n",
      "Epoch 106/1024\n",
      "47/47 [==============================] - 33s 697ms/step - loss: 0.0083 - accuracy: 0.9991 - val_loss: 19.1542 - val_accuracy: 0.9846\n",
      "Epoch 107/1024\n",
      "47/47 [==============================] - 32s 691ms/step - loss: 0.0086 - accuracy: 0.9990 - val_loss: 19.1158 - val_accuracy: 0.9844\n",
      "Epoch 108/1024\n",
      "47/47 [==============================] - 32s 690ms/step - loss: 0.0070 - accuracy: 0.9993 - val_loss: 19.0846 - val_accuracy: 0.9829\n",
      "Epoch 109/1024\n",
      "47/47 [==============================] - 32s 691ms/step - loss: 0.0073 - accuracy: 0.9992 - val_loss: 19.0856 - val_accuracy: 0.9830\n",
      "Epoch 110/1024\n",
      "47/47 [==============================] - 32s 690ms/step - loss: 0.0077 - accuracy: 0.9991 - val_loss: 19.0673 - val_accuracy: 0.9819\n",
      "Epoch 111/1024\n",
      "47/47 [==============================] - 32s 691ms/step - loss: 0.0083 - accuracy: 0.9990 - val_loss: 19.0833 - val_accuracy: 0.9829\n",
      "Epoch 112/1024\n",
      "47/47 [==============================] - 32s 690ms/step - loss: 0.0085 - accuracy: 0.9990 - val_loss: 18.9840 - val_accuracy: 0.9833\n",
      "Epoch 113/1024\n",
      "47/47 [==============================] - 32s 690ms/step - loss: 0.0078 - accuracy: 0.9991 - val_loss: 19.0050 - val_accuracy: 0.9830\n",
      "Epoch 114/1024\n",
      "47/47 [==============================] - 32s 691ms/step - loss: 0.0078 - accuracy: 0.9991 - val_loss: 19.0021 - val_accuracy: 0.9816\n",
      "Epoch 115/1024\n",
      "47/47 [==============================] - 32s 690ms/step - loss: 0.0072 - accuracy: 0.9992 - val_loss: 18.9551 - val_accuracy: 0.9822\n",
      "Epoch 116/1024\n",
      "47/47 [==============================] - 32s 691ms/step - loss: 0.0078 - accuracy: 0.9990 - val_loss: 18.9545 - val_accuracy: 0.9821\n",
      "Epoch 117/1024\n",
      "47/47 [==============================] - 33s 692ms/step - loss: 0.0079 - accuracy: 0.9990 - val_loss: 18.9307 - val_accuracy: 0.9811\n",
      "Epoch 118/1024\n",
      "47/47 [==============================] - 32s 691ms/step - loss: 0.0084 - accuracy: 0.9991 - val_loss: 18.9005 - val_accuracy: 0.9816\n",
      "Epoch 119/1024\n",
      "47/47 [==============================] - 32s 691ms/step - loss: 0.0072 - accuracy: 0.9991 - val_loss: 18.8728 - val_accuracy: 0.9810\n",
      "Epoch 120/1024\n",
      "47/47 [==============================] - 32s 691ms/step - loss: 0.0081 - accuracy: 0.9990 - val_loss: 18.8637 - val_accuracy: 0.9803\n",
      "Epoch 121/1024\n",
      "47/47 [==============================] - 32s 691ms/step - loss: 0.0075 - accuracy: 0.9991 - val_loss: 18.8646 - val_accuracy: 0.9802\n",
      "Epoch 122/1024\n",
      "47/47 [==============================] - 33s 692ms/step - loss: 0.0076 - accuracy: 0.9991 - val_loss: 18.8304 - val_accuracy: 0.9796\n",
      "Epoch 123/1024\n",
      "47/47 [==============================] - 32s 691ms/step - loss: 0.0075 - accuracy: 0.9990 - val_loss: 18.7776 - val_accuracy: 0.9799\n",
      "Epoch 124/1024\n",
      "47/47 [==============================] - 32s 691ms/step - loss: 0.0070 - accuracy: 0.9991 - val_loss: 18.7703 - val_accuracy: 0.9802\n",
      "Epoch 125/1024\n",
      "47/47 [==============================] - 32s 690ms/step - loss: 0.0071 - accuracy: 0.9991 - val_loss: 18.7941 - val_accuracy: 0.9805\n",
      "Epoch 126/1024\n",
      "47/47 [==============================] - 32s 691ms/step - loss: 0.0066 - accuracy: 0.9992 - val_loss: 18.7447 - val_accuracy: 0.9801\n",
      "Epoch 127/1024\n",
      "47/47 [==============================] - 32s 691ms/step - loss: 0.0069 - accuracy: 0.9992 - val_loss: 18.7577 - val_accuracy: 0.9794\n",
      "Epoch 128/1024\n",
      "47/47 [==============================] - 32s 689ms/step - loss: 0.0077 - accuracy: 0.9991 - val_loss: 18.7068 - val_accuracy: 0.9787\n",
      "Epoch 129/1024\n",
      "47/47 [==============================] - 32s 691ms/step - loss: 0.0066 - accuracy: 0.9992 - val_loss: 18.6769 - val_accuracy: 0.9779\n",
      "Epoch 130/1024\n",
      "47/47 [==============================] - 32s 690ms/step - loss: 0.0071 - accuracy: 0.9992 - val_loss: 18.6881 - val_accuracy: 0.9787\n",
      "Epoch 131/1024\n",
      "47/47 [==============================] - 32s 690ms/step - loss: 0.0063 - accuracy: 0.9993 - val_loss: 18.6225 - val_accuracy: 0.9787\n",
      "Epoch 132/1024\n",
      "47/47 [==============================] - 32s 690ms/step - loss: 0.0066 - accuracy: 0.9992 - val_loss: 18.6279 - val_accuracy: 0.9787\n",
      "Epoch 133/1024\n",
      "47/47 [==============================] - 32s 690ms/step - loss: 0.0066 - accuracy: 0.9992 - val_loss: 18.6368 - val_accuracy: 0.9772\n",
      "Epoch 134/1024\n",
      "47/47 [==============================] - 32s 690ms/step - loss: 0.0067 - accuracy: 0.9992 - val_loss: 18.5753 - val_accuracy: 0.9778\n",
      "Epoch 135/1024\n",
      "47/47 [==============================] - 32s 690ms/step - loss: 0.0066 - accuracy: 0.9992 - val_loss: 18.5844 - val_accuracy: 0.9767\n",
      "Epoch 136/1024\n",
      "47/47 [==============================] - 32s 690ms/step - loss: 0.0067 - accuracy: 0.9992 - val_loss: 18.5464 - val_accuracy: 0.9764\n",
      "Epoch 137/1024\n",
      "47/47 [==============================] - 32s 690ms/step - loss: 0.0071 - accuracy: 0.9991 - val_loss: 18.5021 - val_accuracy: 0.9772\n",
      "Epoch 138/1024\n",
      "47/47 [==============================] - 32s 691ms/step - loss: 0.0059 - accuracy: 0.9993 - val_loss: 18.5154 - val_accuracy: 0.9756\n",
      "Epoch 139/1024\n",
      "47/47 [==============================] - 32s 691ms/step - loss: 0.0065 - accuracy: 0.9993 - val_loss: 18.4986 - val_accuracy: 0.9755\n",
      "Epoch 140/1024\n",
      "47/47 [==============================] - 32s 691ms/step - loss: 0.0067 - accuracy: 0.9992 - val_loss: 18.4642 - val_accuracy: 0.9768\n",
      "Epoch 141/1024\n",
      "47/47 [==============================] - 32s 691ms/step - loss: 0.0067 - accuracy: 0.9991 - val_loss: 18.4218 - val_accuracy: 0.9755\n",
      "Epoch 142/1024\n",
      "47/47 [==============================] - 32s 691ms/step - loss: 0.0062 - accuracy: 0.9992 - val_loss: 18.4106 - val_accuracy: 0.9762\n",
      "Epoch 143/1024\n",
      "47/47 [==============================] - 32s 691ms/step - loss: 0.0067 - accuracy: 0.9991 - val_loss: 18.4044 - val_accuracy: 0.9755\n",
      "Epoch 144/1024\n",
      "47/47 [==============================] - 32s 691ms/step - loss: 0.0076 - accuracy: 0.9991 - val_loss: 18.3724 - val_accuracy: 0.9752\n",
      "Epoch 145/1024\n",
      "47/47 [==============================] - 33s 696ms/step - loss: 0.0066 - accuracy: 0.9991 - val_loss: 18.2848 - val_accuracy: 0.9756\n",
      "Epoch 146/1024\n",
      "47/47 [==============================] - 33s 696ms/step - loss: 0.0069 - accuracy: 0.9991 - val_loss: 18.3659 - val_accuracy: 0.9747\n",
      "Epoch 147/1024\n",
      "47/47 [==============================] - 32s 691ms/step - loss: 0.0060 - accuracy: 0.9993 - val_loss: 18.2689 - val_accuracy: 0.9753\n",
      "Epoch 148/1024\n",
      "47/47 [==============================] - 32s 691ms/step - loss: 0.0063 - accuracy: 0.9992 - val_loss: 18.2513 - val_accuracy: 0.9755\n",
      "Epoch 149/1024\n",
      "47/47 [==============================] - 33s 692ms/step - loss: 0.0065 - accuracy: 0.9992 - val_loss: 18.2330 - val_accuracy: 0.9755\n",
      "Epoch 150/1024\n",
      "47/47 [==============================] - 32s 691ms/step - loss: 0.0062 - accuracy: 0.9992 - val_loss: 18.2226 - val_accuracy: 0.9768\n",
      "Epoch 151/1024\n",
      "47/47 [==============================] - 32s 690ms/step - loss: 0.0061 - accuracy: 0.9992 - val_loss: 18.1797 - val_accuracy: 0.9757\n",
      "Epoch 152/1024\n",
      "47/47 [==============================] - 32s 690ms/step - loss: 0.0063 - accuracy: 0.9992 - val_loss: 18.1554 - val_accuracy: 0.9753\n",
      "Epoch 153/1024\n",
      "47/47 [==============================] - 32s 691ms/step - loss: 0.0060 - accuracy: 0.9991 - val_loss: 18.1798 - val_accuracy: 0.9747\n",
      "Epoch 154/1024\n",
      "47/47 [==============================] - 32s 690ms/step - loss: 0.0058 - accuracy: 0.9993 - val_loss: 18.1046 - val_accuracy: 0.9748\n",
      "Epoch 155/1024\n",
      "47/47 [==============================] - 32s 690ms/step - loss: 0.0058 - accuracy: 0.9992 - val_loss: 18.0926 - val_accuracy: 0.9745\n",
      "Epoch 156/1024\n",
      "47/47 [==============================] - 32s 690ms/step - loss: 0.0061 - accuracy: 0.9992 - val_loss: 18.0643 - val_accuracy: 0.9747\n",
      "Epoch 157/1024\n",
      "47/47 [==============================] - 32s 690ms/step - loss: 0.0057 - accuracy: 0.9993 - val_loss: 18.0460 - val_accuracy: 0.9734\n",
      "Epoch 158/1024\n",
      "47/47 [==============================] - 32s 690ms/step - loss: 0.0060 - accuracy: 0.9992 - val_loss: 18.0115 - val_accuracy: 0.9740\n",
      "Epoch 159/1024\n",
      "47/47 [==============================] - 33s 695ms/step - loss: 0.0057 - accuracy: 0.9992 - val_loss: 17.9786 - val_accuracy: 0.9743\n",
      "Epoch 160/1024\n",
      "47/47 [==============================] - 32s 689ms/step - loss: 0.0050 - accuracy: 0.9993 - val_loss: 17.9781 - val_accuracy: 0.9739\n",
      "Epoch 161/1024\n",
      "47/47 [==============================] - 32s 689ms/step - loss: 0.0070 - accuracy: 0.9991 - val_loss: 17.9883 - val_accuracy: 0.9674\n",
      "Epoch 162/1024\n",
      "47/47 [==============================] - 32s 690ms/step - loss: 0.0058 - accuracy: 0.9992 - val_loss: 17.9403 - val_accuracy: 0.9669\n",
      "Epoch 163/1024\n",
      "47/47 [==============================] - 32s 689ms/step - loss: 0.0065 - accuracy: 0.9991 - val_loss: 17.8881 - val_accuracy: 0.9672\n",
      "Epoch 164/1024\n",
      "47/47 [==============================] - 32s 690ms/step - loss: 0.0062 - accuracy: 0.9991 - val_loss: 17.8834 - val_accuracy: 0.9666\n",
      "Epoch 165/1024\n",
      "47/47 [==============================] - 32s 690ms/step - loss: 0.0061 - accuracy: 0.9992 - val_loss: 17.8823 - val_accuracy: 0.9666\n",
      "Epoch 166/1024\n",
      "47/47 [==============================] - 32s 690ms/step - loss: 0.0058 - accuracy: 0.9991 - val_loss: 17.8237 - val_accuracy: 0.9675\n",
      "Epoch 167/1024\n"
     ]
    },
    {
     "name": "stdout",
     "output_type": "stream",
     "text": [
      "47/47 [==============================] - 32s 690ms/step - loss: 0.0060 - accuracy: 0.9992 - val_loss: 17.7827 - val_accuracy: 0.9664\n",
      "Epoch 168/1024\n",
      "47/47 [==============================] - 32s 690ms/step - loss: 0.0050 - accuracy: 0.9993 - val_loss: 17.7628 - val_accuracy: 0.9657\n",
      "Epoch 169/1024\n",
      "47/47 [==============================] - 32s 690ms/step - loss: 0.0056 - accuracy: 0.9993 - val_loss: 17.7391 - val_accuracy: 0.9652\n",
      "Epoch 170/1024\n",
      "47/47 [==============================] - 32s 690ms/step - loss: 0.0055 - accuracy: 0.9992 - val_loss: 17.7032 - val_accuracy: 0.9646\n",
      "Epoch 171/1024\n",
      "47/47 [==============================] - 32s 689ms/step - loss: 0.0059 - accuracy: 0.9991 - val_loss: 17.7242 - val_accuracy: 0.9621\n",
      "Epoch 172/1024\n",
      "47/47 [==============================] - 32s 691ms/step - loss: 0.0052 - accuracy: 0.9993 - val_loss: 17.6356 - val_accuracy: 0.9631\n",
      "Epoch 173/1024\n",
      "47/47 [==============================] - 32s 691ms/step - loss: 0.0053 - accuracy: 0.9993 - val_loss: 17.5981 - val_accuracy: 0.9627\n",
      "Epoch 174/1024\n",
      "47/47 [==============================] - 32s 690ms/step - loss: 0.0058 - accuracy: 0.9993 - val_loss: 17.5952 - val_accuracy: 0.9618\n",
      "Epoch 175/1024\n",
      "47/47 [==============================] - 32s 690ms/step - loss: 0.0057 - accuracy: 0.9992 - val_loss: 17.5938 - val_accuracy: 0.9599\n",
      "Epoch 176/1024\n",
      "47/47 [==============================] - 32s 690ms/step - loss: 0.0057 - accuracy: 0.9992 - val_loss: 17.5716 - val_accuracy: 0.9599\n",
      "Epoch 177/1024\n",
      "47/47 [==============================] - 32s 690ms/step - loss: 0.0049 - accuracy: 0.9993 - val_loss: 17.5552 - val_accuracy: 0.9585\n",
      "Epoch 178/1024\n",
      "47/47 [==============================] - 32s 690ms/step - loss: 0.0053 - accuracy: 0.9992 - val_loss: 17.5393 - val_accuracy: 0.9585\n",
      "Epoch 179/1024\n",
      "47/47 [==============================] - 32s 691ms/step - loss: 0.0053 - accuracy: 0.9993 - val_loss: 17.5067 - val_accuracy: 0.9577\n",
      "Epoch 180/1024\n",
      "47/47 [==============================] - 32s 691ms/step - loss: 0.0056 - accuracy: 0.9993 - val_loss: 17.4746 - val_accuracy: 0.9577\n",
      "Epoch 181/1024\n",
      "47/47 [==============================] - 32s 689ms/step - loss: 0.0058 - accuracy: 0.9992 - val_loss: 17.4466 - val_accuracy: 0.9576\n",
      "Epoch 182/1024\n",
      "47/47 [==============================] - 32s 690ms/step - loss: 0.0050 - accuracy: 0.9992 - val_loss: 17.3761 - val_accuracy: 0.9419\n",
      "Epoch 183/1024\n",
      "47/47 [==============================] - 32s 691ms/step - loss: 0.0047 - accuracy: 0.9993 - val_loss: 17.3715 - val_accuracy: 0.9412\n",
      "Epoch 184/1024\n",
      "47/47 [==============================] - 32s 690ms/step - loss: 0.0054 - accuracy: 0.9992 - val_loss: 17.3505 - val_accuracy: 0.9429\n",
      "Epoch 185/1024\n",
      "47/47 [==============================] - 32s 690ms/step - loss: 0.0053 - accuracy: 0.9992 - val_loss: 17.3493 - val_accuracy: 0.9419\n",
      "Epoch 186/1024\n",
      "47/47 [==============================] - 32s 691ms/step - loss: 0.0052 - accuracy: 0.9993 - val_loss: 17.3245 - val_accuracy: 0.9398\n",
      "Epoch 187/1024\n",
      "47/47 [==============================] - 32s 691ms/step - loss: 0.0048 - accuracy: 0.9993 - val_loss: 17.2902 - val_accuracy: 0.9429\n",
      "Epoch 188/1024\n",
      "47/47 [==============================] - 33s 692ms/step - loss: 0.0049 - accuracy: 0.9993 - val_loss: 17.2898 - val_accuracy: 0.9416\n",
      "Epoch 189/1024\n",
      "47/47 [==============================] - 32s 691ms/step - loss: 0.0049 - accuracy: 0.9992 - val_loss: 17.3077 - val_accuracy: 0.9234\n",
      "Epoch 190/1024\n",
      "47/47 [==============================] - 32s 690ms/step - loss: 0.0061 - accuracy: 0.9992 - val_loss: 17.2459 - val_accuracy: 0.9260\n",
      "Epoch 191/1024\n",
      "47/47 [==============================] - 32s 690ms/step - loss: 0.0055 - accuracy: 0.9992 - val_loss: 17.2077 - val_accuracy: 0.9260\n",
      "Epoch 192/1024\n",
      "47/47 [==============================] - 32s 690ms/step - loss: 0.0055 - accuracy: 0.9992 - val_loss: 17.1593 - val_accuracy: 0.9276\n",
      "Epoch 193/1024\n",
      "47/47 [==============================] - 33s 695ms/step - loss: 0.0050 - accuracy: 0.9993 - val_loss: 17.1674 - val_accuracy: 0.8324\n",
      "Epoch 194/1024\n",
      "47/47 [==============================] - 33s 696ms/step - loss: 0.0045 - accuracy: 0.9993 - val_loss: 17.1419 - val_accuracy: 0.7577\n",
      "Epoch 195/1024\n",
      "47/47 [==============================] - 32s 691ms/step - loss: 0.0046 - accuracy: 0.9993 - val_loss: 17.1228 - val_accuracy: 0.6861\n",
      "Epoch 196/1024\n",
      "47/47 [==============================] - 32s 690ms/step - loss: 0.0052 - accuracy: 0.9993 - val_loss: 17.1073 - val_accuracy: 0.6852\n",
      "Epoch 197/1024\n",
      "47/47 [==============================] - 32s 691ms/step - loss: 0.0050 - accuracy: 0.9993 - val_loss: 17.0904 - val_accuracy: 0.6220\n",
      "Epoch 198/1024\n",
      "47/47 [==============================] - 32s 691ms/step - loss: 0.0051 - accuracy: 0.9992 - val_loss: 17.0378 - val_accuracy: 0.6218\n",
      "Epoch 199/1024\n",
      "47/47 [==============================] - 32s 691ms/step - loss: 0.0051 - accuracy: 0.9993 - val_loss: 17.0289 - val_accuracy: 0.4461\n",
      "Epoch 200/1024\n",
      "47/47 [==============================] - 32s 690ms/step - loss: 0.0046 - accuracy: 0.9993 - val_loss: 16.9730 - val_accuracy: 0.3903\n",
      "Epoch 201/1024\n",
      "47/47 [==============================] - 32s 690ms/step - loss: 0.0050 - accuracy: 0.9993 - val_loss: 16.9782 - val_accuracy: 0.2530\n",
      "Epoch 202/1024\n",
      "47/47 [==============================] - 32s 691ms/step - loss: 0.0048 - accuracy: 0.9993 - val_loss: 16.9748 - val_accuracy: 0.3407\n",
      "Epoch 203/1024\n",
      "47/47 [==============================] - 32s 690ms/step - loss: 0.0058 - accuracy: 0.9992 - val_loss: 16.9570 - val_accuracy: 0.1646\n",
      "Epoch 204/1024\n",
      "47/47 [==============================] - 32s 691ms/step - loss: 0.0054 - accuracy: 0.9992 - val_loss: 16.9134 - val_accuracy: 0.2192\n",
      "Epoch 205/1024\n",
      "47/47 [==============================] - 32s 690ms/step - loss: 0.0050 - accuracy: 0.9992 - val_loss: 16.8995 - val_accuracy: 0.1627\n",
      "Epoch 206/1024\n",
      "47/47 [==============================] - 32s 689ms/step - loss: 0.0043 - accuracy: 0.9993 - val_loss: 16.8764 - val_accuracy: 0.1878\n",
      "Epoch 207/1024\n",
      "47/47 [==============================] - 32s 689ms/step - loss: 0.0050 - accuracy: 0.9992 - val_loss: 16.8196 - val_accuracy: 0.1640\n",
      "Epoch 208/1024\n",
      "47/47 [==============================] - 32s 690ms/step - loss: 0.0045 - accuracy: 0.9993 - val_loss: 16.8456 - val_accuracy: 0.1645\n",
      "Epoch 209/1024\n",
      "47/47 [==============================] - 32s 690ms/step - loss: 0.0048 - accuracy: 0.9992 - val_loss: 16.7978 - val_accuracy: 0.1642\n",
      "Epoch 210/1024\n",
      "47/47 [==============================] - 32s 690ms/step - loss: 0.0047 - accuracy: 0.9993 - val_loss: 16.7556 - val_accuracy: 0.1633\n",
      "Epoch 211/1024\n",
      "47/47 [==============================] - 32s 690ms/step - loss: 0.0043 - accuracy: 0.9993 - val_loss: 16.7558 - val_accuracy: 0.1643\n",
      "Epoch 212/1024\n",
      "47/47 [==============================] - 32s 690ms/step - loss: 0.0049 - accuracy: 0.9993 - val_loss: 16.7478 - val_accuracy: 0.1645\n",
      "Epoch 213/1024\n",
      "47/47 [==============================] - 32s 690ms/step - loss: 0.0050 - accuracy: 0.9992 - val_loss: 16.6966 - val_accuracy: 0.1643\n",
      "Epoch 214/1024\n",
      "47/47 [==============================] - 32s 690ms/step - loss: 0.0045 - accuracy: 0.9993 - val_loss: 16.6975 - val_accuracy: 0.1635\n",
      "Epoch 215/1024\n",
      "47/47 [==============================] - 32s 690ms/step - loss: 0.0044 - accuracy: 0.9994 - val_loss: 16.6967 - val_accuracy: 0.1635\n",
      "Epoch 216/1024\n",
      "47/47 [==============================] - 32s 689ms/step - loss: 0.0049 - accuracy: 0.9992 - val_loss: 16.6286 - val_accuracy: 0.1618\n",
      "Epoch 217/1024\n",
      "47/47 [==============================] - 32s 689ms/step - loss: 0.0044 - accuracy: 0.9993 - val_loss: 16.6285 - val_accuracy: 0.1632\n",
      "Epoch 218/1024\n",
      "47/47 [==============================] - 32s 689ms/step - loss: 0.0042 - accuracy: 0.9993 - val_loss: 16.6177 - val_accuracy: 0.1634\n",
      "Epoch 219/1024\n",
      "47/47 [==============================] - 32s 689ms/step - loss: 0.0042 - accuracy: 0.9993 - val_loss: 16.5561 - val_accuracy: 0.1604\n",
      "Epoch 220/1024\n",
      "47/47 [==============================] - 32s 690ms/step - loss: 0.0046 - accuracy: 0.9993 - val_loss: 16.5484 - val_accuracy: 0.1612\n",
      "Epoch 221/1024\n",
      "47/47 [==============================] - 32s 690ms/step - loss: 0.0054 - accuracy: 0.9992 - val_loss: 16.5230 - val_accuracy: 0.1617\n",
      "Epoch 222/1024\n",
      "47/47 [==============================] - 32s 690ms/step - loss: 0.0046 - accuracy: 0.9993 - val_loss: 16.5166 - val_accuracy: 0.0482\n",
      "Epoch 223/1024\n",
      "47/47 [==============================] - 32s 690ms/step - loss: 0.0055 - accuracy: 0.9991 - val_loss: 16.4981 - val_accuracy: 0.0489\n",
      "Epoch 224/1024\n",
      "47/47 [==============================] - 32s 690ms/step - loss: 0.0059 - accuracy: 0.9991 - val_loss: 16.4638 - val_accuracy: 0.0485\n",
      "Epoch 225/1024\n",
      "47/47 [==============================] - 32s 689ms/step - loss: 0.0047 - accuracy: 0.9993 - val_loss: 16.4711 - val_accuracy: 0.0473\n",
      "Epoch 226/1024\n",
      "47/47 [==============================] - 32s 689ms/step - loss: 0.0043 - accuracy: 0.9993 - val_loss: 16.4486 - val_accuracy: 0.0475\n",
      "Epoch 227/1024\n",
      "47/47 [==============================] - 32s 689ms/step - loss: 0.0050 - accuracy: 0.9992 - val_loss: 16.3957 - val_accuracy: 0.0474\n",
      "Epoch 228/1024\n",
      "47/47 [==============================] - 32s 690ms/step - loss: 0.0047 - accuracy: 0.9993 - val_loss: 16.4005 - val_accuracy: 0.0478\n",
      "Epoch 229/1024\n",
      "47/47 [==============================] - 33s 697ms/step - loss: 0.0042 - accuracy: 0.9994 - val_loss: 16.3747 - val_accuracy: 0.0465\n",
      "Epoch 230/1024\n",
      "47/47 [==============================] - 32s 690ms/step - loss: 0.0044 - accuracy: 0.9992 - val_loss: 16.3475 - val_accuracy: 0.0454\n",
      "Epoch 231/1024\n",
      "47/47 [==============================] - 32s 691ms/step - loss: 0.0049 - accuracy: 0.9992 - val_loss: 16.3567 - val_accuracy: 0.0474\n",
      "Epoch 232/1024\n",
      "47/47 [==============================] - 32s 690ms/step - loss: 0.0049 - accuracy: 0.9992 - val_loss: 16.3261 - val_accuracy: 0.0451\n",
      "Epoch 233/1024\n",
      "47/47 [==============================] - 32s 690ms/step - loss: 0.0045 - accuracy: 0.9994 - val_loss: 16.2873 - val_accuracy: 0.0453\n",
      "Epoch 234/1024\n",
      "47/47 [==============================] - 32s 690ms/step - loss: 0.0046 - accuracy: 0.9992 - val_loss: 16.2553 - val_accuracy: 0.0444\n",
      "Epoch 235/1024\n",
      "47/47 [==============================] - 32s 691ms/step - loss: 0.0045 - accuracy: 0.9993 - val_loss: 16.2280 - val_accuracy: 0.0441\n",
      "Epoch 236/1024\n",
      "47/47 [==============================] - 32s 691ms/step - loss: 0.0040 - accuracy: 0.9993 - val_loss: 16.2268 - val_accuracy: 0.0429\n",
      "Epoch 237/1024\n",
      "47/47 [==============================] - 32s 691ms/step - loss: 0.0043 - accuracy: 0.9993 - val_loss: 16.2072 - val_accuracy: 0.0439\n",
      "Epoch 238/1024\n",
      "47/47 [==============================] - 32s 691ms/step - loss: 0.0043 - accuracy: 0.9993 - val_loss: 16.1735 - val_accuracy: 0.0442\n",
      "Epoch 239/1024\n",
      "47/47 [==============================] - 33s 692ms/step - loss: 0.0041 - accuracy: 0.9993 - val_loss: 16.1883 - val_accuracy: 0.0437\n",
      "Epoch 240/1024\n",
      "47/47 [==============================] - 32s 691ms/step - loss: 0.0045 - accuracy: 0.9992 - val_loss: 16.1744 - val_accuracy: 0.0430\n",
      "Epoch 241/1024\n",
      "47/47 [==============================] - 33s 695ms/step - loss: 0.0043 - accuracy: 0.9994 - val_loss: 16.1242 - val_accuracy: 0.0424\n",
      "Epoch 242/1024\n",
      "47/47 [==============================] - 33s 694ms/step - loss: 0.0050 - accuracy: 0.9992 - val_loss: 16.1716 - val_accuracy: 0.0426\n",
      "Epoch 243/1024\n",
      "47/47 [==============================] - 32s 691ms/step - loss: 0.0042 - accuracy: 0.9993 - val_loss: 16.1239 - val_accuracy: 0.0391\n",
      "Epoch 244/1024\n",
      "47/47 [==============================] - 32s 690ms/step - loss: 0.0044 - accuracy: 0.9993 - val_loss: 16.0952 - val_accuracy: 0.0422\n",
      "Epoch 245/1024\n",
      "47/47 [==============================] - 32s 691ms/step - loss: 0.0047 - accuracy: 0.9992 - val_loss: 16.0869 - val_accuracy: 0.0411\n",
      "Epoch 246/1024\n",
      "47/47 [==============================] - 32s 690ms/step - loss: 0.0041 - accuracy: 0.9994 - val_loss: 16.0669 - val_accuracy: 0.0429\n",
      "Epoch 247/1024\n",
      "47/47 [==============================] - 32s 691ms/step - loss: 0.0041 - accuracy: 0.9993 - val_loss: 16.0570 - val_accuracy: 0.0407\n",
      "Epoch 248/1024\n",
      "47/47 [==============================] - 32s 690ms/step - loss: 0.0041 - accuracy: 0.9993 - val_loss: 16.0208 - val_accuracy: 0.0409\n",
      "Epoch 249/1024\n",
      "47/47 [==============================] - 32s 691ms/step - loss: 0.0043 - accuracy: 0.9993 - val_loss: 16.0064 - val_accuracy: 0.0406\n",
      "Epoch 250/1024\n",
      "47/47 [==============================] - 32s 690ms/step - loss: 0.0043 - accuracy: 0.9992 - val_loss: 15.9857 - val_accuracy: 0.0383\n",
      "Epoch 251/1024\n",
      "47/47 [==============================] - 32s 690ms/step - loss: 0.0048 - accuracy: 0.9993 - val_loss: 15.9563 - val_accuracy: 0.0380\n",
      "Epoch 252/1024\n",
      "47/47 [==============================] - 32s 690ms/step - loss: 0.0048 - accuracy: 0.9993 - val_loss: 15.9629 - val_accuracy: 0.0414\n",
      "Epoch 253/1024\n",
      "47/47 [==============================] - 32s 690ms/step - loss: 0.0044 - accuracy: 0.9992 - val_loss: 15.9175 - val_accuracy: 0.0392\n",
      "Epoch 254/1024\n",
      "47/47 [==============================] - 32s 691ms/step - loss: 0.0040 - accuracy: 0.9993 - val_loss: 15.9589 - val_accuracy: 0.0368\n",
      "Epoch 255/1024\n",
      "47/47 [==============================] - 32s 690ms/step - loss: 0.0038 - accuracy: 0.9994 - val_loss: 15.9018 - val_accuracy: 0.0358\n",
      "Epoch 256/1024\n",
      "47/47 [==============================] - 32s 689ms/step - loss: 0.0044 - accuracy: 0.9993 - val_loss: 15.8929 - val_accuracy: 0.0360\n",
      "Epoch 257/1024\n",
      "47/47 [==============================] - 32s 689ms/step - loss: 0.0040 - accuracy: 0.9993 - val_loss: 15.8879 - val_accuracy: 0.0376\n",
      "Epoch 258/1024\n",
      "47/47 [==============================] - 32s 690ms/step - loss: 0.0044 - accuracy: 0.9993 - val_loss: 15.8602 - val_accuracy: 0.0357\n",
      "Epoch 259/1024\n",
      "47/47 [==============================] - 32s 690ms/step - loss: 0.0039 - accuracy: 0.9993 - val_loss: 15.8544 - val_accuracy: 0.0367\n",
      "Epoch 260/1024\n",
      "47/47 [==============================] - 32s 690ms/step - loss: 0.0043 - accuracy: 0.9993 - val_loss: 15.8429 - val_accuracy: 0.0360\n",
      "Epoch 261/1024\n",
      "47/47 [==============================] - 32s 690ms/step - loss: 0.0042 - accuracy: 0.9993 - val_loss: 15.8191 - val_accuracy: 0.0374\n",
      "Epoch 262/1024\n",
      "47/47 [==============================] - 32s 690ms/step - loss: 0.0041 - accuracy: 0.9994 - val_loss: 15.7823 - val_accuracy: 0.0346\n",
      "Epoch 263/1024\n",
      "47/47 [==============================] - 32s 690ms/step - loss: 0.0040 - accuracy: 0.9994 - val_loss: 15.7779 - val_accuracy: 0.0347\n",
      "Epoch 264/1024\n",
      "47/47 [==============================] - 32s 689ms/step - loss: 0.0041 - accuracy: 0.9993 - val_loss: 15.7721 - val_accuracy: 0.0335\n",
      "Epoch 265/1024\n",
      "47/47 [==============================] - 32s 689ms/step - loss: 0.0037 - accuracy: 0.9994 - val_loss: 15.7658 - val_accuracy: 0.0322\n",
      "Epoch 266/1024\n",
      "47/47 [==============================] - 32s 690ms/step - loss: 0.0042 - accuracy: 0.9992 - val_loss: 15.7457 - val_accuracy: 0.0302\n",
      "Epoch 267/1024\n",
      "47/47 [==============================] - 32s 690ms/step - loss: 0.0044 - accuracy: 0.9992 - val_loss: 15.7077 - val_accuracy: 0.0331\n",
      "Epoch 268/1024\n",
      "47/47 [==============================] - 32s 689ms/step - loss: 0.0043 - accuracy: 0.9992 - val_loss: 15.6791 - val_accuracy: 0.0327\n",
      "Epoch 269/1024\n",
      "47/47 [==============================] - 32s 689ms/step - loss: 0.0042 - accuracy: 0.9993 - val_loss: 15.6794 - val_accuracy: 0.0313\n",
      "Epoch 270/1024\n",
      "47/47 [==============================] - 32s 689ms/step - loss: 0.0037 - accuracy: 0.9993 - val_loss: 15.6328 - val_accuracy: 0.0319\n",
      "Epoch 271/1024\n",
      "47/47 [==============================] - 32s 689ms/step - loss: 0.0042 - accuracy: 0.9992 - val_loss: 15.6335 - val_accuracy: 0.0314\n",
      "Epoch 272/1024\n",
      "47/47 [==============================] - 32s 689ms/step - loss: 0.0043 - accuracy: 0.9993 - val_loss: 15.6233 - val_accuracy: 0.0331\n",
      "Epoch 273/1024\n",
      "47/47 [==============================] - 32s 689ms/step - loss: 0.0037 - accuracy: 0.9994 - val_loss: 15.6085 - val_accuracy: 0.0344\n",
      "Epoch 274/1024\n",
      "47/47 [==============================] - 32s 690ms/step - loss: 0.0039 - accuracy: 0.9993 - val_loss: 15.5807 - val_accuracy: 0.0333\n",
      "Epoch 275/1024\n",
      "47/47 [==============================] - 32s 689ms/step - loss: 0.0038 - accuracy: 0.9993 - val_loss: 15.5616 - val_accuracy: 0.0330\n",
      "Epoch 276/1024\n",
      "47/47 [==============================] - 32s 688ms/step - loss: 0.0041 - accuracy: 0.9994 - val_loss: 15.5692 - val_accuracy: 0.0316\n",
      "Epoch 277/1024\n"
     ]
    },
    {
     "name": "stdout",
     "output_type": "stream",
     "text": [
      "47/47 [==============================] - 32s 690ms/step - loss: 0.0042 - accuracy: 0.9992 - val_loss: 15.5646 - val_accuracy: 0.0305\n",
      "Epoch 278/1024\n",
      "47/47 [==============================] - 32s 689ms/step - loss: 0.0040 - accuracy: 0.9993 - val_loss: 15.5583 - val_accuracy: 0.0308\n",
      "Epoch 279/1024\n",
      "47/47 [==============================] - 32s 690ms/step - loss: 0.0045 - accuracy: 0.9992 - val_loss: 15.4623 - val_accuracy: 0.0296\n",
      "Epoch 280/1024\n",
      "47/47 [==============================] - 32s 690ms/step - loss: 0.0040 - accuracy: 0.9994 - val_loss: 15.4493 - val_accuracy: 0.0251\n",
      "Epoch 281/1024\n",
      "47/47 [==============================] - 32s 690ms/step - loss: 0.0036 - accuracy: 0.9993 - val_loss: 15.4104 - val_accuracy: 0.0263\n",
      "Epoch 282/1024\n",
      "47/47 [==============================] - 32s 689ms/step - loss: 0.0039 - accuracy: 0.9993 - val_loss: 15.4466 - val_accuracy: 0.0280\n",
      "Epoch 283/1024\n",
      "47/47 [==============================] - 32s 690ms/step - loss: 0.0037 - accuracy: 0.9993 - val_loss: 15.4018 - val_accuracy: 0.0260\n",
      "Epoch 284/1024\n",
      "47/47 [==============================] - 32s 690ms/step - loss: 0.0042 - accuracy: 0.9992 - val_loss: 15.4058 - val_accuracy: 0.0257\n",
      "Epoch 285/1024\n",
      "47/47 [==============================] - 32s 690ms/step - loss: 0.0041 - accuracy: 0.9993 - val_loss: 15.3845 - val_accuracy: 0.0272\n",
      "Epoch 286/1024\n",
      "47/47 [==============================] - 32s 689ms/step - loss: 0.0042 - accuracy: 0.9993 - val_loss: 15.3297 - val_accuracy: 0.0260\n",
      "Epoch 287/1024\n",
      "47/47 [==============================] - 32s 690ms/step - loss: 0.0044 - accuracy: 0.9992 - val_loss: 15.3779 - val_accuracy: 0.0254\n",
      "Epoch 288/1024\n",
      "47/47 [==============================] - 32s 690ms/step - loss: 0.0042 - accuracy: 0.9993 - val_loss: 15.3400 - val_accuracy: 0.0258\n",
      "Epoch 289/1024\n",
      "47/47 [==============================] - 33s 694ms/step - loss: 0.0042 - accuracy: 0.9993 - val_loss: 15.3184 - val_accuracy: 0.0259\n",
      "Epoch 290/1024\n",
      "47/47 [==============================] - 33s 695ms/step - loss: 0.0038 - accuracy: 0.9994 - val_loss: 15.2996 - val_accuracy: 0.0270\n",
      "Epoch 291/1024\n",
      "47/47 [==============================] - 32s 689ms/step - loss: 0.0044 - accuracy: 0.9993 - val_loss: 15.2765 - val_accuracy: 0.0273\n",
      "Epoch 292/1024\n",
      "47/47 [==============================] - 32s 689ms/step - loss: 0.0035 - accuracy: 0.9993 - val_loss: 15.2539 - val_accuracy: 0.0277\n",
      "Epoch 293/1024\n",
      "47/47 [==============================] - 32s 689ms/step - loss: 0.0034 - accuracy: 0.9994 - val_loss: 15.2430 - val_accuracy: 0.0257\n",
      "Epoch 294/1024\n",
      "47/47 [==============================] - 32s 689ms/step - loss: 0.0036 - accuracy: 0.9994 - val_loss: 15.2426 - val_accuracy: 0.0252\n",
      "Epoch 295/1024\n",
      "47/47 [==============================] - 32s 689ms/step - loss: 0.0040 - accuracy: 0.9993 - val_loss: 15.2437 - val_accuracy: 0.0246\n",
      "Epoch 296/1024\n",
      "47/47 [==============================] - 32s 690ms/step - loss: 0.0042 - accuracy: 0.9993 - val_loss: 15.2362 - val_accuracy: 0.0237\n",
      "Epoch 297/1024\n",
      "47/47 [==============================] - 32s 690ms/step - loss: 0.0039 - accuracy: 0.9993 - val_loss: 15.2091 - val_accuracy: 0.0259\n",
      "Epoch 298/1024\n",
      "47/47 [==============================] - 33s 692ms/step - loss: 0.0042 - accuracy: 0.9993 - val_loss: 15.2201 - val_accuracy: 0.0246\n",
      "Epoch 299/1024\n",
      "47/47 [==============================] - 33s 692ms/step - loss: 0.0037 - accuracy: 0.9993 - val_loss: 15.1846 - val_accuracy: 0.0238\n",
      "Epoch 300/1024\n",
      "47/47 [==============================] - 32s 691ms/step - loss: 0.0037 - accuracy: 0.9994 - val_loss: 15.1983 - val_accuracy: 0.0237\n",
      "Epoch 301/1024\n",
      "47/47 [==============================] - 32s 691ms/step - loss: 0.0042 - accuracy: 0.9992 - val_loss: 15.1965 - val_accuracy: 0.0240\n",
      "Epoch 302/1024\n",
      "47/47 [==============================] - 32s 691ms/step - loss: 0.0043 - accuracy: 0.9993 - val_loss: 15.2009 - val_accuracy: 0.0244\n",
      "Epoch 303/1024\n",
      "47/47 [==============================] - 32s 691ms/step - loss: 0.0038 - accuracy: 0.9993 - val_loss: 15.1811 - val_accuracy: 0.0228\n",
      "Epoch 304/1024\n",
      "47/47 [==============================] - 32s 690ms/step - loss: 0.0037 - accuracy: 0.9992 - val_loss: 15.1553 - val_accuracy: 0.0232\n",
      "Epoch 305/1024\n",
      "47/47 [==============================] - 32s 689ms/step - loss: 0.0038 - accuracy: 0.9993 - val_loss: 15.1571 - val_accuracy: 0.0225\n",
      "Epoch 306/1024\n",
      "47/47 [==============================] - 32s 691ms/step - loss: 0.0041 - accuracy: 0.9992 - val_loss: 15.1184 - val_accuracy: 0.0223\n",
      "Epoch 307/1024\n",
      "47/47 [==============================] - 32s 691ms/step - loss: 0.0039 - accuracy: 0.9993 - val_loss: 15.1168 - val_accuracy: 0.0212\n",
      "Epoch 308/1024\n",
      "47/47 [==============================] - 32s 691ms/step - loss: 0.0041 - accuracy: 0.9993 - val_loss: 15.1083 - val_accuracy: 0.0225\n",
      "Epoch 309/1024\n",
      "47/47 [==============================] - 32s 690ms/step - loss: 0.0039 - accuracy: 0.9993 - val_loss: 15.0726 - val_accuracy: 0.0223\n",
      "Epoch 310/1024\n",
      "47/47 [==============================] - 32s 691ms/step - loss: 0.0038 - accuracy: 0.9993 - val_loss: 15.0852 - val_accuracy: 0.0214\n",
      "Epoch 311/1024\n",
      "47/47 [==============================] - 32s 690ms/step - loss: 0.0042 - accuracy: 0.9993 - val_loss: 15.0587 - val_accuracy: 0.0211\n",
      "Epoch 312/1024\n",
      "47/47 [==============================] - 32s 691ms/step - loss: 0.0041 - accuracy: 0.9993 - val_loss: 15.0131 - val_accuracy: 0.0212\n",
      "Epoch 313/1024\n",
      "47/47 [==============================] - 32s 691ms/step - loss: 0.0038 - accuracy: 0.9993 - val_loss: 15.0303 - val_accuracy: 0.0219\n",
      "Epoch 314/1024\n",
      "47/47 [==============================] - 32s 690ms/step - loss: 0.0037 - accuracy: 0.9993 - val_loss: 14.9903 - val_accuracy: 0.0227\n",
      "Epoch 315/1024\n",
      "47/47 [==============================] - 32s 689ms/step - loss: 0.0039 - accuracy: 0.9993 - val_loss: 14.9951 - val_accuracy: 0.0213\n",
      "Epoch 316/1024\n",
      "47/47 [==============================] - 32s 690ms/step - loss: 0.0038 - accuracy: 0.9993 - val_loss: 15.0033 - val_accuracy: 0.0223\n",
      "Epoch 317/1024\n",
      "47/47 [==============================] - 32s 690ms/step - loss: 0.0039 - accuracy: 0.9993 - val_loss: 14.9584 - val_accuracy: 0.0212\n",
      "Epoch 318/1024\n",
      "47/47 [==============================] - 32s 690ms/step - loss: 0.0036 - accuracy: 0.9993 - val_loss: 15.0046 - val_accuracy: 0.0210\n",
      "Epoch 319/1024\n",
      "47/47 [==============================] - 32s 690ms/step - loss: 0.0040 - accuracy: 0.9993 - val_loss: 14.9478 - val_accuracy: 0.0210\n",
      "Epoch 320/1024\n",
      "47/47 [==============================] - 32s 691ms/step - loss: 0.0038 - accuracy: 0.9993 - val_loss: 14.9463 - val_accuracy: 0.0216\n",
      "Epoch 321/1024\n",
      "47/47 [==============================] - 32s 691ms/step - loss: 0.0033 - accuracy: 0.9994 - val_loss: 14.9428 - val_accuracy: 0.0204\n",
      "Epoch 322/1024\n",
      "47/47 [==============================] - 32s 690ms/step - loss: 0.0038 - accuracy: 0.9993 - val_loss: 14.9498 - val_accuracy: 0.0197\n",
      "Epoch 323/1024\n",
      "47/47 [==============================] - 32s 690ms/step - loss: 0.0037 - accuracy: 0.9994 - val_loss: 14.9007 - val_accuracy: 0.0193\n",
      "Epoch 324/1024\n",
      "47/47 [==============================] - 32s 690ms/step - loss: 0.0042 - accuracy: 0.9991 - val_loss: 14.9189 - val_accuracy: 0.0190\n",
      "Epoch 325/1024\n",
      "47/47 [==============================] - 32s 690ms/step - loss: 0.0034 - accuracy: 0.9993 - val_loss: 14.8829 - val_accuracy: 0.0189\n",
      "Epoch 326/1024\n",
      "47/47 [==============================] - 32s 690ms/step - loss: 0.0034 - accuracy: 0.9994 - val_loss: 14.8540 - val_accuracy: 0.0204\n",
      "Epoch 327/1024\n",
      "47/47 [==============================] - 32s 690ms/step - loss: 0.0034 - accuracy: 0.9994 - val_loss: 14.8447 - val_accuracy: 0.0196\n",
      "Epoch 328/1024\n",
      "47/47 [==============================] - 32s 689ms/step - loss: 0.0035 - accuracy: 0.9994 - val_loss: 14.8113 - val_accuracy: 0.0197\n",
      "Epoch 329/1024\n",
      "47/47 [==============================] - 32s 691ms/step - loss: 0.0035 - accuracy: 0.9994 - val_loss: 14.8382 - val_accuracy: 0.0204\n",
      "Epoch 330/1024\n",
      "47/47 [==============================] - 32s 690ms/step - loss: 0.0034 - accuracy: 0.9994 - val_loss: 14.8160 - val_accuracy: 0.0191\n",
      "Epoch 331/1024\n",
      "47/47 [==============================] - 32s 688ms/step - loss: 0.0034 - accuracy: 0.9994 - val_loss: 14.8072 - val_accuracy: 0.0184\n",
      "Epoch 332/1024\n",
      "47/47 [==============================] - 32s 689ms/step - loss: 0.0038 - accuracy: 0.9993 - val_loss: 14.7779 - val_accuracy: 0.0184\n",
      "Epoch 333/1024\n",
      "47/47 [==============================] - 32s 689ms/step - loss: 0.0036 - accuracy: 0.9994 - val_loss: 14.7704 - val_accuracy: 0.0183\n",
      "Epoch 334/1024\n",
      "47/47 [==============================] - 32s 689ms/step - loss: 0.0035 - accuracy: 0.9994 - val_loss: 14.7412 - val_accuracy: 0.0188\n",
      "Epoch 335/1024\n",
      "47/47 [==============================] - 32s 690ms/step - loss: 0.0033 - accuracy: 0.9994 - val_loss: 14.7161 - val_accuracy: 0.0176\n",
      "Epoch 336/1024\n",
      "47/47 [==============================] - 32s 690ms/step - loss: 0.0033 - accuracy: 0.9993 - val_loss: 14.6883 - val_accuracy: 0.0165\n",
      "Epoch 337/1024\n",
      "47/47 [==============================] - 33s 695ms/step - loss: 0.0034 - accuracy: 0.9993 - val_loss: 14.7421 - val_accuracy: 0.0172\n",
      "Epoch 338/1024\n",
      "47/47 [==============================] - 33s 694ms/step - loss: 0.0034 - accuracy: 0.9994 - val_loss: 14.7118 - val_accuracy: 0.0170\n",
      "Epoch 339/1024\n",
      "47/47 [==============================] - 32s 690ms/step - loss: 0.0038 - accuracy: 0.9993 - val_loss: 14.6679 - val_accuracy: 0.0172\n",
      "Epoch 340/1024\n",
      "47/47 [==============================] - 32s 689ms/step - loss: 0.0038 - accuracy: 0.9993 - val_loss: 14.6829 - val_accuracy: 0.0161\n",
      "Epoch 341/1024\n",
      "47/47 [==============================] - 32s 689ms/step - loss: 0.0033 - accuracy: 0.9993 - val_loss: 14.6607 - val_accuracy: 0.0155\n",
      "Epoch 342/1024\n",
      "47/47 [==============================] - 32s 690ms/step - loss: 0.0039 - accuracy: 0.9993 - val_loss: 14.6618 - val_accuracy: 0.0144\n",
      "Epoch 343/1024\n",
      "47/47 [==============================] - 32s 689ms/step - loss: 0.0037 - accuracy: 0.9993 - val_loss: 14.6441 - val_accuracy: 0.0138\n",
      "Epoch 344/1024\n",
      "47/47 [==============================] - 32s 689ms/step - loss: 0.0033 - accuracy: 0.9993 - val_loss: 14.6163 - val_accuracy: 0.0142\n",
      "Epoch 345/1024\n",
      "47/47 [==============================] - 32s 689ms/step - loss: 0.0035 - accuracy: 0.9994 - val_loss: 14.6310 - val_accuracy: 0.0139\n",
      "Epoch 346/1024\n",
      "47/47 [==============================] - 32s 689ms/step - loss: 0.0035 - accuracy: 0.9993 - val_loss: 14.6193 - val_accuracy: 0.0141\n",
      "Epoch 347/1024\n",
      "47/47 [==============================] - 32s 689ms/step - loss: 0.0035 - accuracy: 0.9994 - val_loss: 14.6026 - val_accuracy: 0.0139\n",
      "Epoch 348/1024\n",
      "47/47 [==============================] - 32s 689ms/step - loss: 0.0040 - accuracy: 0.9992 - val_loss: 14.6419 - val_accuracy: 0.0143\n",
      "Epoch 349/1024\n",
      "47/47 [==============================] - 32s 689ms/step - loss: 0.0036 - accuracy: 0.9993 - val_loss: 14.5920 - val_accuracy: 0.0137\n",
      "Epoch 350/1024\n",
      "47/47 [==============================] - 32s 690ms/step - loss: 0.0036 - accuracy: 0.9993 - val_loss: 14.5739 - val_accuracy: 0.0140\n",
      "Epoch 351/1024\n",
      "47/47 [==============================] - 32s 689ms/step - loss: 0.0035 - accuracy: 0.9993 - val_loss: 14.5591 - val_accuracy: 0.0136\n",
      "Epoch 352/1024\n",
      "47/47 [==============================] - 32s 690ms/step - loss: 0.0032 - accuracy: 0.9993 - val_loss: 14.5792 - val_accuracy: 0.0133\n",
      "Epoch 353/1024\n",
      "47/47 [==============================] - 32s 689ms/step - loss: 0.0035 - accuracy: 0.9994 - val_loss: 14.5663 - val_accuracy: 0.0138\n",
      "Epoch 354/1024\n",
      "47/47 [==============================] - 32s 689ms/step - loss: 0.0038 - accuracy: 0.9993 - val_loss: 14.5621 - val_accuracy: 0.0140\n",
      "Epoch 355/1024\n",
      "47/47 [==============================] - 32s 689ms/step - loss: 0.0032 - accuracy: 0.9993 - val_loss: 14.5537 - val_accuracy: 0.0134\n",
      "Epoch 356/1024\n",
      "47/47 [==============================] - 32s 690ms/step - loss: 0.0035 - accuracy: 0.9994 - val_loss: 14.5282 - val_accuracy: 0.0136\n",
      "Epoch 357/1024\n",
      "47/47 [==============================] - 32s 691ms/step - loss: 0.0034 - accuracy: 0.9994 - val_loss: 14.4987 - val_accuracy: 0.0124\n",
      "Epoch 358/1024\n",
      "47/47 [==============================] - 32s 690ms/step - loss: 0.0036 - accuracy: 0.9993 - val_loss: 14.4946 - val_accuracy: 0.0118\n",
      "Epoch 359/1024\n",
      "47/47 [==============================] - 32s 690ms/step - loss: 0.0038 - accuracy: 0.9993 - val_loss: 14.4910 - val_accuracy: 0.0123\n",
      "Epoch 360/1024\n",
      "47/47 [==============================] - 32s 690ms/step - loss: 0.0037 - accuracy: 0.9993 - val_loss: 14.4738 - val_accuracy: 0.0119\n",
      "Epoch 361/1024\n",
      "47/47 [==============================] - 32s 690ms/step - loss: 0.0038 - accuracy: 0.9993 - val_loss: 14.4571 - val_accuracy: 0.0108\n",
      "Epoch 362/1024\n",
      "47/47 [==============================] - 32s 690ms/step - loss: 0.0040 - accuracy: 0.9994 - val_loss: 14.4540 - val_accuracy: 0.0115\n",
      "Epoch 363/1024\n",
      "47/47 [==============================] - 32s 691ms/step - loss: 0.0034 - accuracy: 0.9994 - val_loss: 14.4401 - val_accuracy: 0.0109\n",
      "Epoch 364/1024\n",
      "47/47 [==============================] - 32s 690ms/step - loss: 0.0037 - accuracy: 0.9993 - val_loss: 14.4691 - val_accuracy: 0.0113\n",
      "Epoch 365/1024\n",
      "47/47 [==============================] - 32s 690ms/step - loss: 0.0034 - accuracy: 0.9993 - val_loss: 14.3981 - val_accuracy: 0.0102\n",
      "Epoch 366/1024\n",
      "47/47 [==============================] - 32s 689ms/step - loss: 0.0037 - accuracy: 0.9993 - val_loss: 14.4251 - val_accuracy: 0.0126\n",
      "Epoch 367/1024\n",
      "47/47 [==============================] - 32s 691ms/step - loss: 0.0032 - accuracy: 0.9994 - val_loss: 14.4178 - val_accuracy: 0.0115\n",
      "Epoch 368/1024\n",
      "47/47 [==============================] - 32s 689ms/step - loss: 0.0035 - accuracy: 0.9993 - val_loss: 14.3910 - val_accuracy: 0.0116\n",
      "Epoch 369/1024\n",
      "47/47 [==============================] - 32s 690ms/step - loss: 0.0036 - accuracy: 0.9993 - val_loss: 14.3864 - val_accuracy: 0.0092\n",
      "Epoch 370/1024\n",
      "47/47 [==============================] - 32s 690ms/step - loss: 0.0036 - accuracy: 0.9994 - val_loss: 14.4037 - val_accuracy: 0.0090\n",
      "Epoch 371/1024\n",
      "47/47 [==============================] - 32s 691ms/step - loss: 0.0035 - accuracy: 0.9994 - val_loss: 14.3787 - val_accuracy: 0.0084\n",
      "Epoch 372/1024\n",
      "47/47 [==============================] - 32s 690ms/step - loss: 0.0036 - accuracy: 0.9994 - val_loss: 14.3821 - val_accuracy: 0.0096\n",
      "Epoch 373/1024\n",
      "47/47 [==============================] - 32s 689ms/step - loss: 0.0039 - accuracy: 0.9993 - val_loss: 14.3810 - val_accuracy: 0.0094\n",
      "Epoch 374/1024\n",
      "47/47 [==============================] - 32s 690ms/step - loss: 0.0036 - accuracy: 0.9994 - val_loss: 14.3687 - val_accuracy: 0.0082\n",
      "Epoch 375/1024\n",
      "47/47 [==============================] - 32s 690ms/step - loss: 0.0035 - accuracy: 0.9993 - val_loss: 14.3648 - val_accuracy: 0.0087\n",
      "Epoch 376/1024\n",
      "47/47 [==============================] - 32s 690ms/step - loss: 0.0036 - accuracy: 0.9993 - val_loss: 14.3378 - val_accuracy: 0.0082\n",
      "Epoch 377/1024\n",
      "47/47 [==============================] - 33s 696ms/step - loss: 0.0037 - accuracy: 0.9994 - val_loss: 14.2995 - val_accuracy: 0.0080\n",
      "Epoch 378/1024\n",
      "47/47 [==============================] - 32s 690ms/step - loss: 0.0034 - accuracy: 0.9993 - val_loss: 14.2894 - val_accuracy: 0.0080\n",
      "Epoch 379/1024\n",
      "47/47 [==============================] - 32s 689ms/step - loss: 0.0040 - accuracy: 0.9993 - val_loss: 14.2688 - val_accuracy: 0.0071\n",
      "Epoch 380/1024\n",
      "47/47 [==============================] - 32s 689ms/step - loss: 0.0035 - accuracy: 0.9994 - val_loss: 14.2891 - val_accuracy: 0.0076\n",
      "Epoch 381/1024\n",
      "47/47 [==============================] - 32s 688ms/step - loss: 0.0033 - accuracy: 0.9994 - val_loss: 14.2825 - val_accuracy: 0.0080\n",
      "Epoch 382/1024\n",
      "47/47 [==============================] - 32s 689ms/step - loss: 0.0029 - accuracy: 0.9995 - val_loss: 14.2521 - val_accuracy: 0.0079\n",
      "Epoch 383/1024\n",
      "47/47 [==============================] - 32s 690ms/step - loss: 0.0033 - accuracy: 0.9993 - val_loss: 14.2325 - val_accuracy: 0.0072\n",
      "Epoch 384/1024\n",
      "47/47 [==============================] - 32s 691ms/step - loss: 0.0037 - accuracy: 0.9992 - val_loss: 14.2415 - val_accuracy: 0.0076\n",
      "Epoch 385/1024\n",
      "47/47 [==============================] - 33s 695ms/step - loss: 0.0037 - accuracy: 0.9993 - val_loss: 14.2111 - val_accuracy: 0.0071\n",
      "Epoch 386/1024\n",
      "47/47 [==============================] - 33s 695ms/step - loss: 0.0035 - accuracy: 0.9994 - val_loss: 14.2332 - val_accuracy: 0.0074\n",
      "Epoch 387/1024\n"
     ]
    },
    {
     "name": "stdout",
     "output_type": "stream",
     "text": [
      "47/47 [==============================] - 32s 691ms/step - loss: 0.0031 - accuracy: 0.9995 - val_loss: 14.1975 - val_accuracy: 0.0076\n",
      "Epoch 388/1024\n",
      "47/47 [==============================] - 32s 688ms/step - loss: 0.0029 - accuracy: 0.9994 - val_loss: 14.1827 - val_accuracy: 0.0069\n",
      "Epoch 389/1024\n",
      "47/47 [==============================] - 32s 690ms/step - loss: 0.0031 - accuracy: 0.9993 - val_loss: 14.1369 - val_accuracy: 0.0072\n",
      "Epoch 390/1024\n",
      "47/47 [==============================] - 32s 690ms/step - loss: 0.0034 - accuracy: 0.9993 - val_loss: 14.1672 - val_accuracy: 0.0067\n",
      "Epoch 391/1024\n",
      "47/47 [==============================] - 32s 690ms/step - loss: 0.0036 - accuracy: 0.9993 - val_loss: 14.1466 - val_accuracy: 0.0071\n",
      "Epoch 392/1024\n",
      "47/47 [==============================] - 32s 690ms/step - loss: 0.0034 - accuracy: 0.9993 - val_loss: 14.1376 - val_accuracy: 0.0069\n",
      "Epoch 393/1024\n",
      "47/47 [==============================] - 32s 690ms/step - loss: 0.0044 - accuracy: 0.9993 - val_loss: 14.1349 - val_accuracy: 0.0070\n",
      "Epoch 394/1024\n",
      "47/47 [==============================] - 32s 689ms/step - loss: 0.0036 - accuracy: 0.9993 - val_loss: 14.1148 - val_accuracy: 0.0069\n",
      "Epoch 395/1024\n",
      "47/47 [==============================] - 32s 689ms/step - loss: 0.0035 - accuracy: 0.9994 - val_loss: 14.1158 - val_accuracy: 0.0070\n",
      "Epoch 396/1024\n",
      "47/47 [==============================] - 32s 689ms/step - loss: 0.0032 - accuracy: 0.9994 - val_loss: 14.1337 - val_accuracy: 0.0076\n",
      "Epoch 397/1024\n",
      "47/47 [==============================] - 32s 690ms/step - loss: 0.0032 - accuracy: 0.9994 - val_loss: 14.1110 - val_accuracy: 0.0075\n",
      "Epoch 398/1024\n",
      "47/47 [==============================] - 32s 690ms/step - loss: 0.0032 - accuracy: 0.9994 - val_loss: 14.0889 - val_accuracy: 0.0071\n",
      "Epoch 399/1024\n",
      "47/47 [==============================] - 32s 689ms/step - loss: 0.0035 - accuracy: 0.9994 - val_loss: 14.1018 - val_accuracy: 0.0069\n",
      "Epoch 400/1024\n",
      "47/47 [==============================] - 32s 689ms/step - loss: 0.0034 - accuracy: 0.9993 - val_loss: 14.0894 - val_accuracy: 0.0069\n",
      "Epoch 401/1024\n",
      "47/47 [==============================] - 32s 689ms/step - loss: 0.0039 - accuracy: 0.9993 - val_loss: 14.0735 - val_accuracy: 0.0078\n",
      "Epoch 402/1024\n",
      "47/47 [==============================] - 32s 690ms/step - loss: 0.0032 - accuracy: 0.9994 - val_loss: 14.1157 - val_accuracy: 0.0071\n",
      "Epoch 403/1024\n",
      "47/47 [==============================] - 32s 689ms/step - loss: 0.0033 - accuracy: 0.9994 - val_loss: 14.0687 - val_accuracy: 0.0073\n",
      "Epoch 404/1024\n",
      "47/47 [==============================] - 32s 689ms/step - loss: 0.0033 - accuracy: 0.9993 - val_loss: 14.0905 - val_accuracy: 0.0067\n",
      "Epoch 405/1024\n",
      "47/47 [==============================] - 32s 689ms/step - loss: 0.0042 - accuracy: 0.9992 - val_loss: 14.0821 - val_accuracy: 0.0064\n",
      "Epoch 406/1024\n",
      "47/47 [==============================] - 32s 690ms/step - loss: 0.0035 - accuracy: 0.9993 - val_loss: 14.0780 - val_accuracy: 0.0065\n",
      "Epoch 407/1024\n",
      "47/47 [==============================] - 32s 690ms/step - loss: 0.0037 - accuracy: 0.9992 - val_loss: 14.0797 - val_accuracy: 0.0063\n",
      "Epoch 408/1024\n",
      "47/47 [==============================] - 32s 689ms/step - loss: 0.0037 - accuracy: 0.9993 - val_loss: 14.0360 - val_accuracy: 0.0072\n",
      "Epoch 409/1024\n",
      "47/47 [==============================] - 32s 689ms/step - loss: 0.0037 - accuracy: 0.9993 - val_loss: 14.0200 - val_accuracy: 0.0070\n",
      "Epoch 410/1024\n",
      "47/47 [==============================] - 32s 690ms/step - loss: 0.0033 - accuracy: 0.9993 - val_loss: 14.0503 - val_accuracy: 0.0063\n",
      "Epoch 411/1024\n",
      "47/47 [==============================] - 32s 690ms/step - loss: 0.0031 - accuracy: 0.9994 - val_loss: 14.0230 - val_accuracy: 0.0065\n",
      "Epoch 412/1024\n",
      "47/47 [==============================] - 32s 689ms/step - loss: 0.0033 - accuracy: 0.9994 - val_loss: 14.0154 - val_accuracy: 0.0060\n",
      "Epoch 413/1024\n",
      "47/47 [==============================] - 32s 689ms/step - loss: 0.0034 - accuracy: 0.9994 - val_loss: 14.0084 - val_accuracy: 0.0063\n",
      "Epoch 414/1024\n",
      "47/47 [==============================] - 32s 689ms/step - loss: 0.0031 - accuracy: 0.9995 - val_loss: 14.0042 - val_accuracy: 0.0065\n",
      "Epoch 415/1024\n",
      "47/47 [==============================] - 32s 690ms/step - loss: 0.0031 - accuracy: 0.9994 - val_loss: 14.0027 - val_accuracy: 0.0065\n",
      "Epoch 416/1024\n",
      "47/47 [==============================] - 32s 690ms/step - loss: 0.0030 - accuracy: 0.9993 - val_loss: 14.0293 - val_accuracy: 0.0063\n",
      "Epoch 417/1024\n",
      "47/47 [==============================] - 32s 690ms/step - loss: 0.0036 - accuracy: 0.9993 - val_loss: 14.0278 - val_accuracy: 0.0064\n",
      "Epoch 418/1024\n",
      "47/47 [==============================] - 32s 690ms/step - loss: 0.0034 - accuracy: 0.9994 - val_loss: 13.9943 - val_accuracy: 0.0063\n",
      "Epoch 419/1024\n",
      "47/47 [==============================] - 32s 689ms/step - loss: 0.0032 - accuracy: 0.9994 - val_loss: 13.9697 - val_accuracy: 0.0062\n",
      "Epoch 420/1024\n",
      "47/47 [==============================] - 32s 690ms/step - loss: 0.0036 - accuracy: 0.9993 - val_loss: 13.9506 - val_accuracy: 0.0065\n",
      "Epoch 421/1024\n",
      "47/47 [==============================] - 32s 689ms/step - loss: 0.0034 - accuracy: 0.9994 - val_loss: 13.9589 - val_accuracy: 0.0065\n",
      "Epoch 422/1024\n",
      "47/47 [==============================] - 32s 689ms/step - loss: 0.0030 - accuracy: 0.9994 - val_loss: 13.9439 - val_accuracy: 0.0057\n",
      "Epoch 423/1024\n",
      "47/47 [==============================] - 32s 689ms/step - loss: 0.0032 - accuracy: 0.9994 - val_loss: 13.9392 - val_accuracy: 0.0059\n",
      "Epoch 424/1024\n",
      "47/47 [==============================] - 32s 689ms/step - loss: 0.0027 - accuracy: 0.9994 - val_loss: 13.9364 - val_accuracy: 0.0063\n",
      "Epoch 425/1024\n",
      "47/47 [==============================] - 32s 689ms/step - loss: 0.0033 - accuracy: 0.9993 - val_loss: 13.9020 - val_accuracy: 0.0062\n",
      "Epoch 426/1024\n",
      "47/47 [==============================] - 32s 690ms/step - loss: 0.0030 - accuracy: 0.9995 - val_loss: 13.9060 - val_accuracy: 0.0063\n",
      "Epoch 427/1024\n",
      "47/47 [==============================] - 32s 689ms/step - loss: 0.0031 - accuracy: 0.9994 - val_loss: 13.9186 - val_accuracy: 0.0059\n",
      "Epoch 428/1024\n",
      "47/47 [==============================] - 32s 690ms/step - loss: 0.0032 - accuracy: 0.9994 - val_loss: 13.8980 - val_accuracy: 0.0062\n",
      "Epoch 429/1024\n",
      "47/47 [==============================] - 32s 690ms/step - loss: 0.0029 - accuracy: 0.9994 - val_loss: 13.8741 - val_accuracy: 0.0060\n",
      "Epoch 430/1024\n",
      "47/47 [==============================] - 32s 689ms/step - loss: 0.0037 - accuracy: 0.9993 - val_loss: 13.9074 - val_accuracy: 0.0059\n",
      "Epoch 431/1024\n",
      "47/47 [==============================] - 32s 690ms/step - loss: 0.0032 - accuracy: 0.9994 - val_loss: 13.8705 - val_accuracy: 0.0060\n",
      "Epoch 432/1024\n",
      "47/47 [==============================] - 32s 689ms/step - loss: 0.0036 - accuracy: 0.9994 - val_loss: 13.8528 - val_accuracy: 0.0062\n",
      "Epoch 433/1024\n",
      "47/47 [==============================] - 33s 695ms/step - loss: 0.0033 - accuracy: 0.9993 - val_loss: 13.8585 - val_accuracy: 0.0060\n",
      "Epoch 434/1024\n",
      "47/47 [==============================] - 33s 695ms/step - loss: 0.0036 - accuracy: 0.9993 - val_loss: 13.8442 - val_accuracy: 0.0060\n",
      "Epoch 435/1024\n",
      "47/47 [==============================] - 32s 690ms/step - loss: 0.0032 - accuracy: 0.9994 - val_loss: 13.8492 - val_accuracy: 0.0056\n",
      "Epoch 436/1024\n",
      "47/47 [==============================] - 32s 690ms/step - loss: 0.0035 - accuracy: 0.9993 - val_loss: 13.8620 - val_accuracy: 0.0059\n",
      "Epoch 437/1024\n",
      "47/47 [==============================] - 32s 688ms/step - loss: 0.0035 - accuracy: 0.9993 - val_loss: 13.8303 - val_accuracy: 0.0060\n",
      "Epoch 438/1024\n",
      "47/47 [==============================] - 32s 689ms/step - loss: 0.0029 - accuracy: 0.9994 - val_loss: 13.8651 - val_accuracy: 0.0056\n",
      "Epoch 439/1024\n",
      "47/47 [==============================] - 32s 689ms/step - loss: 0.0034 - accuracy: 0.9994 - val_loss: 13.8539 - val_accuracy: 0.0054\n",
      "Epoch 440/1024\n",
      "47/47 [==============================] - 32s 689ms/step - loss: 0.0030 - accuracy: 0.9994 - val_loss: 13.8466 - val_accuracy: 0.0058\n",
      "Epoch 441/1024\n",
      "47/47 [==============================] - 32s 689ms/step - loss: 0.0032 - accuracy: 0.9994 - val_loss: 13.8257 - val_accuracy: 0.0056\n",
      "Epoch 442/1024\n",
      "47/47 [==============================] - 32s 689ms/step - loss: 0.0028 - accuracy: 0.9995 - val_loss: 13.8112 - val_accuracy: 0.0056\n",
      "Epoch 443/1024\n",
      "47/47 [==============================] - 32s 690ms/step - loss: 0.0033 - accuracy: 0.9993 - val_loss: 13.8359 - val_accuracy: 0.0045\n",
      "Epoch 444/1024\n",
      "47/47 [==============================] - 32s 689ms/step - loss: 0.0034 - accuracy: 0.9994 - val_loss: 13.8133 - val_accuracy: 0.0048\n",
      "Epoch 445/1024\n",
      "47/47 [==============================] - 32s 689ms/step - loss: 0.0030 - accuracy: 0.9994 - val_loss: 13.8168 - val_accuracy: 0.0048\n",
      "Epoch 446/1024\n",
      "47/47 [==============================] - 32s 689ms/step - loss: 0.0035 - accuracy: 0.9994 - val_loss: 13.8417 - val_accuracy: 0.0046\n",
      "Epoch 447/1024\n",
      "47/47 [==============================] - 32s 689ms/step - loss: 0.0030 - accuracy: 0.9993 - val_loss: 13.8125 - val_accuracy: 0.0046\n",
      "Epoch 448/1024\n",
      "47/47 [==============================] - 32s 690ms/step - loss: 0.0035 - accuracy: 0.9993 - val_loss: 13.8220 - val_accuracy: 0.0047\n",
      "Epoch 449/1024\n",
      "47/47 [==============================] - 32s 690ms/step - loss: 0.0031 - accuracy: 0.9994 - val_loss: 13.8118 - val_accuracy: 0.0048\n",
      "Epoch 450/1024\n",
      "47/47 [==============================] - 32s 689ms/step - loss: 0.0033 - accuracy: 0.9994 - val_loss: 13.8095 - val_accuracy: 0.0049\n",
      "Epoch 451/1024\n",
      "47/47 [==============================] - 32s 689ms/step - loss: 0.0037 - accuracy: 0.9993 - val_loss: 13.8080 - val_accuracy: 0.0050\n",
      "Epoch 452/1024\n",
      "47/47 [==============================] - 32s 690ms/step - loss: 0.0034 - accuracy: 0.9994 - val_loss: 13.7761 - val_accuracy: 0.0043\n",
      "Epoch 453/1024\n",
      "47/47 [==============================] - 32s 689ms/step - loss: 0.0029 - accuracy: 0.9993 - val_loss: 13.7755 - val_accuracy: 0.0048\n",
      "Epoch 454/1024\n",
      "47/47 [==============================] - 32s 690ms/step - loss: 0.0033 - accuracy: 0.9994 - val_loss: 13.8012 - val_accuracy: 0.0048\n",
      "Epoch 455/1024\n",
      "47/47 [==============================] - 32s 690ms/step - loss: 0.0031 - accuracy: 0.9994 - val_loss: 13.7892 - val_accuracy: 0.0047\n",
      "Epoch 456/1024\n",
      "47/47 [==============================] - 32s 689ms/step - loss: 0.0031 - accuracy: 0.9994 - val_loss: 13.7979 - val_accuracy: 0.0043\n",
      "Epoch 457/1024\n",
      "47/47 [==============================] - 32s 689ms/step - loss: 0.0037 - accuracy: 0.9993 - val_loss: 13.7911 - val_accuracy: 0.0045\n",
      "Epoch 458/1024\n",
      "47/47 [==============================] - 32s 690ms/step - loss: 0.0031 - accuracy: 0.9993 - val_loss: 13.7603 - val_accuracy: 0.0044\n",
      "Epoch 459/1024\n",
      "47/47 [==============================] - 32s 689ms/step - loss: 0.0029 - accuracy: 0.9994 - val_loss: 13.7738 - val_accuracy: 0.0044\n",
      "Epoch 460/1024\n",
      "47/47 [==============================] - 32s 689ms/step - loss: 0.0035 - accuracy: 0.9993 - val_loss: 13.7627 - val_accuracy: 0.0045\n",
      "Epoch 461/1024\n",
      "47/47 [==============================] - 32s 690ms/step - loss: 0.0035 - accuracy: 0.9993 - val_loss: 13.7613 - val_accuracy: 0.0044\n",
      "Epoch 462/1024\n",
      "47/47 [==============================] - 32s 690ms/step - loss: 0.0035 - accuracy: 0.9993 - val_loss: 13.7304 - val_accuracy: 0.0045\n",
      "Epoch 463/1024\n",
      "47/47 [==============================] - 32s 689ms/step - loss: 0.0032 - accuracy: 0.9994 - val_loss: 13.7489 - val_accuracy: 0.0045\n",
      "Epoch 464/1024\n",
      "47/47 [==============================] - 32s 690ms/step - loss: 0.0033 - accuracy: 0.9994 - val_loss: 13.7562 - val_accuracy: 0.0044\n",
      "Epoch 465/1024\n",
      "47/47 [==============================] - 32s 690ms/step - loss: 0.0030 - accuracy: 0.9994 - val_loss: 13.7543 - val_accuracy: 0.0043\n",
      "Epoch 466/1024\n",
      "47/47 [==============================] - 32s 690ms/step - loss: 0.0031 - accuracy: 0.9994 - val_loss: 13.7228 - val_accuracy: 0.0037\n",
      "Epoch 467/1024\n",
      "47/47 [==============================] - 32s 689ms/step - loss: 0.0029 - accuracy: 0.9995 - val_loss: 13.7310 - val_accuracy: 0.0038\n",
      "Epoch 468/1024\n",
      "47/47 [==============================] - 32s 690ms/step - loss: 0.0031 - accuracy: 0.9994 - val_loss: 13.7275 - val_accuracy: 0.0043\n",
      "Epoch 469/1024\n",
      "47/47 [==============================] - 32s 689ms/step - loss: 0.0033 - accuracy: 0.9993 - val_loss: 13.6898 - val_accuracy: 0.0039\n",
      "Epoch 470/1024\n",
      "47/47 [==============================] - 32s 689ms/step - loss: 0.0034 - accuracy: 0.9994 - val_loss: 13.6951 - val_accuracy: 0.0038\n",
      "Epoch 471/1024\n",
      "47/47 [==============================] - 32s 689ms/step - loss: 0.0032 - accuracy: 0.9994 - val_loss: 13.7072 - val_accuracy: 0.0038\n",
      "Epoch 472/1024\n",
      "47/47 [==============================] - 32s 689ms/step - loss: 0.0033 - accuracy: 0.9994 - val_loss: 13.6842 - val_accuracy: 0.0038\n",
      "Epoch 473/1024\n",
      "47/47 [==============================] - 32s 689ms/step - loss: 0.0032 - accuracy: 0.9994 - val_loss: 13.6925 - val_accuracy: 0.0036\n",
      "Epoch 474/1024\n",
      "47/47 [==============================] - 32s 689ms/step - loss: 0.0030 - accuracy: 0.9994 - val_loss: 13.6913 - val_accuracy: 0.0035\n",
      "Epoch 475/1024\n",
      "47/47 [==============================] - 32s 689ms/step - loss: 0.0030 - accuracy: 0.9994 - val_loss: 13.6716 - val_accuracy: 0.0028\n",
      "Epoch 476/1024\n",
      "47/47 [==============================] - 32s 689ms/step - loss: 0.0029 - accuracy: 0.9994 - val_loss: 13.6781 - val_accuracy: 0.0029\n",
      "Epoch 477/1024\n",
      "47/47 [==============================] - 32s 690ms/step - loss: 0.0030 - accuracy: 0.9993 - val_loss: 13.6738 - val_accuracy: 0.0031\n",
      "Epoch 478/1024\n",
      "47/47 [==============================] - 32s 689ms/step - loss: 0.0035 - accuracy: 0.9993 - val_loss: 13.6421 - val_accuracy: 0.0030\n",
      "Epoch 479/1024\n",
      "47/47 [==============================] - 32s 690ms/step - loss: 0.0039 - accuracy: 0.9992 - val_loss: 13.6461 - val_accuracy: 0.0032\n",
      "Epoch 480/1024\n",
      "47/47 [==============================] - 32s 690ms/step - loss: 0.0035 - accuracy: 0.9993 - val_loss: 13.6630 - val_accuracy: 0.0035\n",
      "Epoch 481/1024\n",
      "47/47 [==============================] - 33s 693ms/step - loss: 0.0032 - accuracy: 0.9994 - val_loss: 13.6341 - val_accuracy: 0.0030\n",
      "Epoch 482/1024\n",
      "47/47 [==============================] - 33s 694ms/step - loss: 0.0031 - accuracy: 0.9994 - val_loss: 13.6288 - val_accuracy: 0.0030\n",
      "Epoch 483/1024\n",
      "47/47 [==============================] - 32s 690ms/step - loss: 0.0028 - accuracy: 0.9995 - val_loss: 13.6349 - val_accuracy: 0.0032\n",
      "Epoch 484/1024\n",
      "47/47 [==============================] - 32s 689ms/step - loss: 0.0032 - accuracy: 0.9993 - val_loss: 13.6264 - val_accuracy: 0.0028\n",
      "Epoch 485/1024\n",
      "47/47 [==============================] - 32s 690ms/step - loss: 0.0032 - accuracy: 0.9994 - val_loss: 13.6001 - val_accuracy: 0.0027\n",
      "Epoch 486/1024\n",
      "47/47 [==============================] - 32s 689ms/step - loss: 0.0030 - accuracy: 0.9994 - val_loss: 13.6292 - val_accuracy: 0.0026\n",
      "Epoch 487/1024\n",
      "47/47 [==============================] - 32s 689ms/step - loss: 0.0031 - accuracy: 0.9994 - val_loss: 13.5850 - val_accuracy: 0.0029\n",
      "Epoch 488/1024\n",
      "47/47 [==============================] - 32s 689ms/step - loss: 0.0028 - accuracy: 0.9994 - val_loss: 13.6099 - val_accuracy: 0.0028\n",
      "Epoch 489/1024\n",
      "47/47 [==============================] - 32s 689ms/step - loss: 0.0030 - accuracy: 0.9994 - val_loss: 13.5999 - val_accuracy: 0.0028\n",
      "Epoch 490/1024\n",
      "47/47 [==============================] - 32s 690ms/step - loss: 0.0033 - accuracy: 0.9994 - val_loss: 13.5928 - val_accuracy: 0.0026\n",
      "Epoch 491/1024\n",
      "47/47 [==============================] - 32s 689ms/step - loss: 0.0030 - accuracy: 0.9994 - val_loss: 13.6045 - val_accuracy: 0.0027\n",
      "Epoch 492/1024\n",
      "47/47 [==============================] - 32s 690ms/step - loss: 0.0033 - accuracy: 0.9994 - val_loss: 13.6139 - val_accuracy: 0.0028\n",
      "Epoch 493/1024\n",
      "47/47 [==============================] - 32s 690ms/step - loss: 0.0032 - accuracy: 0.9994 - val_loss: 13.6221 - val_accuracy: 0.0031\n",
      "Epoch 494/1024\n",
      "47/47 [==============================] - 32s 689ms/step - loss: 0.0027 - accuracy: 0.9994 - val_loss: 13.6192 - val_accuracy: 0.0026\n",
      "Epoch 495/1024\n",
      "47/47 [==============================] - 32s 689ms/step - loss: 0.0027 - accuracy: 0.9995 - val_loss: 13.6116 - val_accuracy: 0.0028\n",
      "Epoch 496/1024\n",
      "47/47 [==============================] - 32s 689ms/step - loss: 0.0035 - accuracy: 0.9993 - val_loss: 13.5877 - val_accuracy: 0.0027\n",
      "Epoch 497/1024\n"
     ]
    },
    {
     "name": "stdout",
     "output_type": "stream",
     "text": [
      "47/47 [==============================] - 32s 691ms/step - loss: 0.0034 - accuracy: 0.9993 - val_loss: 13.6158 - val_accuracy: 0.0023\n",
      "Epoch 498/1024\n",
      "47/47 [==============================] - 32s 689ms/step - loss: 0.0033 - accuracy: 0.9993 - val_loss: 13.6006 - val_accuracy: 0.0025\n",
      "Epoch 499/1024\n",
      "47/47 [==============================] - 32s 689ms/step - loss: 0.0029 - accuracy: 0.9994 - val_loss: 13.5911 - val_accuracy: 0.0026\n",
      "Epoch 500/1024\n",
      "47/47 [==============================] - 32s 690ms/step - loss: 0.0032 - accuracy: 0.9993 - val_loss: 13.6032 - val_accuracy: 0.0024\n",
      "Epoch 501/1024\n",
      "47/47 [==============================] - 32s 690ms/step - loss: 0.0030 - accuracy: 0.9994 - val_loss: 13.5961 - val_accuracy: 0.0022\n",
      "Epoch 502/1024\n",
      "47/47 [==============================] - 32s 690ms/step - loss: 0.0034 - accuracy: 0.9993 - val_loss: 13.5967 - val_accuracy: 0.0022\n",
      "Epoch 503/1024\n",
      "47/47 [==============================] - 32s 689ms/step - loss: 0.0031 - accuracy: 0.9994 - val_loss: 13.6072 - val_accuracy: 0.0023\n",
      "Epoch 504/1024\n",
      "47/47 [==============================] - 32s 689ms/step - loss: 0.0030 - accuracy: 0.9994 - val_loss: 13.5883 - val_accuracy: 0.0027\n",
      "Epoch 505/1024\n",
      "47/47 [==============================] - 32s 689ms/step - loss: 0.0031 - accuracy: 0.9994 - val_loss: 13.6131 - val_accuracy: 0.0024\n",
      "Epoch 506/1024\n",
      "47/47 [==============================] - 32s 690ms/step - loss: 0.0028 - accuracy: 0.9994 - val_loss: 13.5863 - val_accuracy: 0.0022\n",
      "Epoch 507/1024\n",
      "47/47 [==============================] - 32s 690ms/step - loss: 0.0028 - accuracy: 0.9994 - val_loss: 13.5625 - val_accuracy: 0.0025\n",
      "Epoch 508/1024\n",
      "47/47 [==============================] - 32s 691ms/step - loss: 0.0028 - accuracy: 0.9994 - val_loss: 13.5953 - val_accuracy: 0.0023\n",
      "Epoch 509/1024\n",
      "47/47 [==============================] - 32s 689ms/step - loss: 0.0030 - accuracy: 0.9993 - val_loss: 13.5722 - val_accuracy: 0.0023\n",
      "Epoch 510/1024\n",
      "47/47 [==============================] - 32s 689ms/step - loss: 0.0030 - accuracy: 0.9994 - val_loss: 13.5831 - val_accuracy: 0.0023\n",
      "Epoch 511/1024\n",
      "47/47 [==============================] - 32s 689ms/step - loss: 0.0033 - accuracy: 0.9993 - val_loss: 13.5695 - val_accuracy: 0.0022\n",
      "Epoch 512/1024\n",
      "47/47 [==============================] - 32s 690ms/step - loss: 0.0035 - accuracy: 0.9993 - val_loss: 13.5687 - val_accuracy: 0.0024\n",
      "Epoch 513/1024\n",
      "47/47 [==============================] - 32s 689ms/step - loss: 0.0032 - accuracy: 0.9993 - val_loss: 13.5716 - val_accuracy: 0.0025\n",
      "Epoch 514/1024\n",
      "47/47 [==============================] - 32s 690ms/step - loss: 0.0036 - accuracy: 0.9993 - val_loss: 13.5544 - val_accuracy: 0.0022\n",
      "Epoch 515/1024\n",
      "47/47 [==============================] - 32s 690ms/step - loss: 0.0029 - accuracy: 0.9995 - val_loss: 13.5255 - val_accuracy: 0.0023\n",
      "Epoch 516/1024\n",
      "47/47 [==============================] - 32s 690ms/step - loss: 0.0034 - accuracy: 0.9994 - val_loss: 13.5362 - val_accuracy: 0.0024\n",
      "Epoch 517/1024\n",
      "47/47 [==============================] - 32s 690ms/step - loss: 0.0031 - accuracy: 0.9994 - val_loss: 13.5327 - val_accuracy: 0.0022\n",
      "Epoch 518/1024\n",
      "47/47 [==============================] - 32s 689ms/step - loss: 0.0031 - accuracy: 0.9994 - val_loss: 13.5542 - val_accuracy: 0.0023\n",
      "Epoch 519/1024\n",
      "47/47 [==============================] - 32s 690ms/step - loss: 0.0033 - accuracy: 0.9994 - val_loss: 13.5133 - val_accuracy: 0.0022\n",
      "Epoch 520/1024\n",
      "47/47 [==============================] - 32s 689ms/step - loss: 0.0031 - accuracy: 0.9994 - val_loss: 13.5210 - val_accuracy: 0.0022\n",
      "Epoch 521/1024\n",
      "47/47 [==============================] - 32s 690ms/step - loss: 0.0031 - accuracy: 0.9994 - val_loss: 13.5019 - val_accuracy: 0.0021\n",
      "Epoch 522/1024\n",
      "47/47 [==============================] - 32s 689ms/step - loss: 0.0035 - accuracy: 0.9993 - val_loss: 13.5098 - val_accuracy: 0.0023\n",
      "Epoch 523/1024\n",
      "47/47 [==============================] - 32s 689ms/step - loss: 0.0032 - accuracy: 0.9994 - val_loss: 13.5025 - val_accuracy: 0.0023\n",
      "Epoch 524/1024\n",
      "47/47 [==============================] - 32s 689ms/step - loss: 0.0035 - accuracy: 0.9993 - val_loss: 13.4920 - val_accuracy: 0.0021\n",
      "Epoch 525/1024\n",
      "47/47 [==============================] - 32s 689ms/step - loss: 0.0033 - accuracy: 0.9993 - val_loss: 13.4872 - val_accuracy: 0.0021\n",
      "Epoch 526/1024\n",
      "47/47 [==============================] - 32s 689ms/step - loss: 0.0030 - accuracy: 0.9994 - val_loss: 13.4932 - val_accuracy: 0.0022\n",
      "Epoch 527/1024\n",
      "47/47 [==============================] - 32s 690ms/step - loss: 0.0033 - accuracy: 0.9994 - val_loss: 13.4915 - val_accuracy: 0.0023\n",
      "Epoch 528/1024\n",
      "47/47 [==============================] - 32s 689ms/step - loss: 0.0029 - accuracy: 0.9994 - val_loss: 13.4625 - val_accuracy: 0.0020\n",
      "Epoch 529/1024\n",
      "47/47 [==============================] - 33s 694ms/step - loss: 0.0030 - accuracy: 0.9994 - val_loss: 13.4678 - val_accuracy: 0.0022\n",
      "Epoch 530/1024\n",
      "47/47 [==============================] - 33s 693ms/step - loss: 0.0031 - accuracy: 0.9993 - val_loss: 13.4609 - val_accuracy: 0.0023\n",
      "Epoch 531/1024\n",
      "47/47 [==============================] - 32s 689ms/step - loss: 0.0029 - accuracy: 0.9994 - val_loss: 13.4637 - val_accuracy: 0.0022\n",
      "Epoch 532/1024\n",
      "47/47 [==============================] - 32s 689ms/step - loss: 0.0032 - accuracy: 0.9994 - val_loss: 13.4333 - val_accuracy: 0.0021\n",
      "Epoch 533/1024\n",
      "47/47 [==============================] - 32s 689ms/step - loss: 0.0030 - accuracy: 0.9994 - val_loss: 13.4430 - val_accuracy: 0.0022\n",
      "Epoch 534/1024\n",
      "47/47 [==============================] - 32s 689ms/step - loss: 0.0028 - accuracy: 0.9994 - val_loss: 13.4510 - val_accuracy: 0.0021\n",
      "Epoch 535/1024\n",
      "47/47 [==============================] - 32s 689ms/step - loss: 0.0028 - accuracy: 0.9995 - val_loss: 13.4287 - val_accuracy: 0.0020\n",
      "Epoch 536/1024\n",
      "47/47 [==============================] - 32s 689ms/step - loss: 0.0027 - accuracy: 0.9995 - val_loss: 13.4245 - val_accuracy: 0.0024\n",
      "Epoch 537/1024\n",
      "47/47 [==============================] - 32s 690ms/step - loss: 0.0032 - accuracy: 0.9993 - val_loss: 13.4378 - val_accuracy: 0.0021\n",
      "Epoch 538/1024\n",
      "47/47 [==============================] - 32s 689ms/step - loss: 0.0033 - accuracy: 0.9994 - val_loss: 13.4070 - val_accuracy: 0.0023\n",
      "Epoch 539/1024\n",
      "47/47 [==============================] - 32s 689ms/step - loss: 0.0033 - accuracy: 0.9993 - val_loss: 13.4475 - val_accuracy: 0.0022\n",
      "Epoch 540/1024\n",
      "47/47 [==============================] - 32s 690ms/step - loss: 0.0036 - accuracy: 0.9993 - val_loss: 13.4157 - val_accuracy: 0.0022\n",
      "Epoch 541/1024\n",
      "47/47 [==============================] - 32s 688ms/step - loss: 0.0032 - accuracy: 0.9994 - val_loss: 13.3989 - val_accuracy: 0.0022\n",
      "Epoch 542/1024\n",
      "47/47 [==============================] - 32s 689ms/step - loss: 0.0030 - accuracy: 0.9994 - val_loss: 13.4141 - val_accuracy: 0.0022\n",
      "Epoch 543/1024\n",
      "47/47 [==============================] - 32s 689ms/step - loss: 0.0027 - accuracy: 0.9995 - val_loss: 13.4289 - val_accuracy: 0.0022\n",
      "Epoch 544/1024\n",
      "47/47 [==============================] - 32s 687ms/step - loss: 0.0032 - accuracy: 0.9993 - val_loss: 13.4329 - val_accuracy: 0.0022\n",
      "Epoch 545/1024\n",
      "47/47 [==============================] - 32s 689ms/step - loss: 0.0028 - accuracy: 0.9994 - val_loss: 13.4157 - val_accuracy: 0.0023\n",
      "Epoch 546/1024\n",
      "47/47 [==============================] - 32s 689ms/step - loss: 0.0028 - accuracy: 0.9994 - val_loss: 13.4519 - val_accuracy: 0.0024\n",
      "Epoch 547/1024\n",
      "47/47 [==============================] - 32s 690ms/step - loss: 0.0029 - accuracy: 0.9994 - val_loss: 13.4445 - val_accuracy: 0.0022\n",
      "Epoch 548/1024\n",
      "47/47 [==============================] - 32s 689ms/step - loss: 0.0029 - accuracy: 0.9994 - val_loss: 13.4237 - val_accuracy: 0.0021\n",
      "Epoch 549/1024\n",
      "47/47 [==============================] - 32s 691ms/step - loss: 0.0031 - accuracy: 0.9994 - val_loss: 13.4585 - val_accuracy: 0.0023\n",
      "Epoch 550/1024\n",
      "47/47 [==============================] - 32s 689ms/step - loss: 0.0028 - accuracy: 0.9994 - val_loss: 13.4374 - val_accuracy: 0.0022\n",
      "Epoch 551/1024\n",
      "47/47 [==============================] - 32s 690ms/step - loss: 0.0032 - accuracy: 0.9993 - val_loss: 13.4243 - val_accuracy: 0.0022\n",
      "Epoch 552/1024\n",
      "47/47 [==============================] - 32s 690ms/step - loss: 0.0031 - accuracy: 0.9994 - val_loss: 13.4302 - val_accuracy: 0.0023\n",
      "Epoch 553/1024\n",
      "47/47 [==============================] - 32s 689ms/step - loss: 0.0027 - accuracy: 0.9995 - val_loss: 13.4204 - val_accuracy: 0.0023\n",
      "Epoch 554/1024\n",
      "47/47 [==============================] - 32s 689ms/step - loss: 0.0030 - accuracy: 0.9994 - val_loss: 13.4091 - val_accuracy: 0.0022\n",
      "Epoch 555/1024\n",
      "47/47 [==============================] - 32s 689ms/step - loss: 0.0029 - accuracy: 0.9994 - val_loss: 13.4160 - val_accuracy: 0.0021\n",
      "Epoch 556/1024\n",
      "47/47 [==============================] - 32s 690ms/step - loss: 0.0027 - accuracy: 0.9994 - val_loss: 13.4216 - val_accuracy: 0.0022\n",
      "Epoch 557/1024\n",
      "47/47 [==============================] - 32s 689ms/step - loss: 0.0030 - accuracy: 0.9993 - val_loss: 13.4197 - val_accuracy: 0.0022\n",
      "Epoch 558/1024\n",
      "47/47 [==============================] - 32s 689ms/step - loss: 0.0026 - accuracy: 0.9994 - val_loss: 13.4149 - val_accuracy: 0.0023\n",
      "Epoch 559/1024\n",
      "47/47 [==============================] - 32s 689ms/step - loss: 0.0031 - accuracy: 0.9994 - val_loss: 13.4086 - val_accuracy: 0.0021\n",
      "Epoch 560/1024\n",
      "47/47 [==============================] - 32s 689ms/step - loss: 0.0030 - accuracy: 0.9994 - val_loss: 13.4075 - val_accuracy: 0.0021\n",
      "Epoch 561/1024\n",
      "47/47 [==============================] - 32s 690ms/step - loss: 0.0028 - accuracy: 0.9994 - val_loss: 13.4488 - val_accuracy: 0.0023\n",
      "Epoch 562/1024\n",
      "47/47 [==============================] - 32s 690ms/step - loss: 0.0031 - accuracy: 0.9994 - val_loss: 13.4207 - val_accuracy: 0.0021\n",
      "Epoch 563/1024\n",
      "47/47 [==============================] - 32s 690ms/step - loss: 0.0029 - accuracy: 0.9993 - val_loss: 13.4317 - val_accuracy: 0.0021\n",
      "Epoch 564/1024\n",
      "47/47 [==============================] - 32s 691ms/step - loss: 0.0029 - accuracy: 0.9994 - val_loss: 13.3986 - val_accuracy: 0.0022\n",
      "Epoch 565/1024\n",
      "47/47 [==============================] - 32s 690ms/step - loss: 0.0028 - accuracy: 0.9994 - val_loss: 13.4086 - val_accuracy: 0.0022\n",
      "Epoch 566/1024\n",
      "47/47 [==============================] - 32s 690ms/step - loss: 0.0025 - accuracy: 0.9995 - val_loss: 13.3959 - val_accuracy: 0.0021\n",
      "Epoch 567/1024\n",
      "47/47 [==============================] - 32s 690ms/step - loss: 0.0030 - accuracy: 0.9994 - val_loss: 13.3964 - val_accuracy: 0.0023\n",
      "Epoch 568/1024\n",
      "47/47 [==============================] - 32s 689ms/step - loss: 0.0030 - accuracy: 0.9993 - val_loss: 13.4278 - val_accuracy: 0.0022\n",
      "Epoch 569/1024\n",
      "47/47 [==============================] - 32s 690ms/step - loss: 0.0029 - accuracy: 0.9994 - val_loss: 13.3994 - val_accuracy: 0.0021\n",
      "Epoch 570/1024\n",
      "47/47 [==============================] - 32s 690ms/step - loss: 0.0033 - accuracy: 0.9993 - val_loss: 13.4090 - val_accuracy: 0.0022\n",
      "Epoch 571/1024\n",
      "47/47 [==============================] - 32s 690ms/step - loss: 0.0027 - accuracy: 0.9994 - val_loss: 13.3904 - val_accuracy: 0.0023\n",
      "Epoch 572/1024\n",
      "47/47 [==============================] - 32s 690ms/step - loss: 0.0032 - accuracy: 0.9993 - val_loss: 13.4030 - val_accuracy: 0.0022\n",
      "Epoch 573/1024\n",
      "47/47 [==============================] - 32s 691ms/step - loss: 0.0029 - accuracy: 0.9994 - val_loss: 13.4046 - val_accuracy: 0.0023\n",
      "Epoch 574/1024\n",
      "47/47 [==============================] - 32s 691ms/step - loss: 0.0032 - accuracy: 0.9993 - val_loss: 13.3699 - val_accuracy: 0.0022\n",
      "Epoch 575/1024\n",
      "47/47 [==============================] - 32s 691ms/step - loss: 0.0030 - accuracy: 0.9993 - val_loss: 13.3713 - val_accuracy: 0.0021\n",
      "Epoch 576/1024\n",
      "47/47 [==============================] - 32s 691ms/step - loss: 0.0032 - accuracy: 0.9993 - val_loss: 13.3753 - val_accuracy: 0.0022\n",
      "Epoch 577/1024\n",
      "47/47 [==============================] - 33s 696ms/step - loss: 0.0028 - accuracy: 0.9994 - val_loss: 13.3699 - val_accuracy: 0.0022\n",
      "Epoch 578/1024\n",
      "47/47 [==============================] - 33s 696ms/step - loss: 0.0029 - accuracy: 0.9994 - val_loss: 13.3775 - val_accuracy: 0.0022\n",
      "Epoch 579/1024\n",
      "47/47 [==============================] - 32s 691ms/step - loss: 0.0028 - accuracy: 0.9994 - val_loss: 13.3759 - val_accuracy: 0.0023\n",
      "Epoch 580/1024\n",
      "47/47 [==============================] - 32s 691ms/step - loss: 0.0031 - accuracy: 0.9994 - val_loss: 13.3772 - val_accuracy: 0.0022\n",
      "Epoch 581/1024\n",
      "47/47 [==============================] - 32s 690ms/step - loss: 0.0030 - accuracy: 0.9994 - val_loss: 13.3930 - val_accuracy: 0.0022\n",
      "Epoch 582/1024\n",
      "47/47 [==============================] - 32s 691ms/step - loss: 0.0028 - accuracy: 0.9994 - val_loss: 13.3695 - val_accuracy: 0.0020\n",
      "Epoch 583/1024\n",
      "47/47 [==============================] - 32s 691ms/step - loss: 0.0029 - accuracy: 0.9994 - val_loss: 13.3557 - val_accuracy: 0.0019\n",
      "Epoch 584/1024\n",
      "47/47 [==============================] - 32s 691ms/step - loss: 0.0034 - accuracy: 0.9994 - val_loss: 13.3712 - val_accuracy: 0.0019\n",
      "Epoch 585/1024\n",
      "47/47 [==============================] - 32s 691ms/step - loss: 0.0031 - accuracy: 0.9993 - val_loss: 13.3417 - val_accuracy: 0.0020\n",
      "Epoch 586/1024\n",
      "47/47 [==============================] - 32s 691ms/step - loss: 0.0029 - accuracy: 0.9995 - val_loss: 13.3222 - val_accuracy: 0.0021\n",
      "Epoch 587/1024\n",
      "47/47 [==============================] - 32s 690ms/step - loss: 0.0030 - accuracy: 0.9994 - val_loss: 13.3370 - val_accuracy: 0.0020\n",
      "Epoch 588/1024\n",
      "47/47 [==============================] - 32s 690ms/step - loss: 0.0031 - accuracy: 0.9994 - val_loss: 13.3692 - val_accuracy: 0.0020\n",
      "Epoch 589/1024\n",
      "47/47 [==============================] - 32s 691ms/step - loss: 0.0030 - accuracy: 0.9994 - val_loss: 13.3812 - val_accuracy: 0.0020\n",
      "Epoch 590/1024\n",
      "47/47 [==============================] - 32s 691ms/step - loss: 0.0033 - accuracy: 0.9994 - val_loss: 13.3738 - val_accuracy: 0.0021\n",
      "Epoch 591/1024\n",
      "47/47 [==============================] - 32s 691ms/step - loss: 0.0027 - accuracy: 0.9994 - val_loss: 13.3819 - val_accuracy: 0.0022\n",
      "Epoch 592/1024\n",
      "47/47 [==============================] - 33s 692ms/step - loss: 0.0029 - accuracy: 0.9994 - val_loss: 13.3905 - val_accuracy: 0.0023\n",
      "Epoch 593/1024\n",
      "47/47 [==============================] - 32s 690ms/step - loss: 0.0030 - accuracy: 0.9994 - val_loss: 13.4008 - val_accuracy: 0.0022\n",
      "Epoch 594/1024\n",
      "47/47 [==============================] - 32s 690ms/step - loss: 0.0031 - accuracy: 0.9995 - val_loss: 13.3817 - val_accuracy: 0.0022\n",
      "Epoch 595/1024\n",
      "47/47 [==============================] - 32s 690ms/step - loss: 0.0030 - accuracy: 0.9993 - val_loss: 13.4006 - val_accuracy: 0.0023\n",
      "Epoch 596/1024\n",
      "47/47 [==============================] - 32s 691ms/step - loss: 0.0039 - accuracy: 0.9993 - val_loss: 13.3759 - val_accuracy: 0.0021\n",
      "Epoch 597/1024\n",
      "47/47 [==============================] - 32s 691ms/step - loss: 0.0031 - accuracy: 0.9994 - val_loss: 13.3639 - val_accuracy: 0.0022\n",
      "Epoch 598/1024\n",
      "47/47 [==============================] - 32s 690ms/step - loss: 0.0035 - accuracy: 0.9993 - val_loss: 13.3993 - val_accuracy: 0.0021\n",
      "Epoch 599/1024\n",
      "47/47 [==============================] - 32s 691ms/step - loss: 0.0028 - accuracy: 0.9994 - val_loss: 13.4298 - val_accuracy: 0.0022\n",
      "Epoch 600/1024\n",
      "47/47 [==============================] - 32s 691ms/step - loss: 0.0029 - accuracy: 0.9993 - val_loss: 13.3987 - val_accuracy: 0.0022\n",
      "Epoch 601/1024\n",
      "47/47 [==============================] - 32s 690ms/step - loss: 0.0031 - accuracy: 0.9994 - val_loss: 13.4276 - val_accuracy: 0.0021\n",
      "Epoch 602/1024\n",
      "47/47 [==============================] - 32s 691ms/step - loss: 0.0030 - accuracy: 0.9994 - val_loss: 13.3964 - val_accuracy: 0.0022\n",
      "Epoch 603/1024\n",
      "47/47 [==============================] - 32s 691ms/step - loss: 0.0029 - accuracy: 0.9994 - val_loss: 13.4236 - val_accuracy: 0.0022\n",
      "Epoch 604/1024\n",
      "47/47 [==============================] - 32s 690ms/step - loss: 0.0026 - accuracy: 0.9994 - val_loss: 13.3930 - val_accuracy: 0.0021\n",
      "Epoch 605/1024\n",
      "47/47 [==============================] - 32s 691ms/step - loss: 0.0031 - accuracy: 0.9993 - val_loss: 13.4327 - val_accuracy: 0.0020\n",
      "Epoch 606/1024\n",
      "47/47 [==============================] - 32s 690ms/step - loss: 0.0029 - accuracy: 0.9994 - val_loss: 13.4166 - val_accuracy: 0.0022\n",
      "Epoch 607/1024\n"
     ]
    },
    {
     "name": "stdout",
     "output_type": "stream",
     "text": [
      "47/47 [==============================] - 32s 691ms/step - loss: 0.0029 - accuracy: 0.9994 - val_loss: 13.4225 - val_accuracy: 0.0020\n",
      "Epoch 608/1024\n",
      "47/47 [==============================] - 32s 691ms/step - loss: 0.0029 - accuracy: 0.9994 - val_loss: 13.3948 - val_accuracy: 0.0021\n",
      "Epoch 609/1024\n",
      "47/47 [==============================] - 32s 690ms/step - loss: 0.0029 - accuracy: 0.9995 - val_loss: 13.4230 - val_accuracy: 0.0020\n",
      "Epoch 610/1024\n",
      "47/47 [==============================] - 32s 690ms/step - loss: 0.0032 - accuracy: 0.9994 - val_loss: 13.4011 - val_accuracy: 0.0023\n",
      "Epoch 611/1024\n",
      "47/47 [==============================] - 32s 689ms/step - loss: 0.0029 - accuracy: 0.9994 - val_loss: 13.4040 - val_accuracy: 0.0023\n",
      "Epoch 612/1024\n",
      "47/47 [==============================] - 32s 690ms/step - loss: 0.0030 - accuracy: 0.9993 - val_loss: 13.4111 - val_accuracy: 0.0022\n",
      "Epoch 613/1024\n",
      "47/47 [==============================] - 32s 690ms/step - loss: 0.0028 - accuracy: 0.9995 - val_loss: 13.4000 - val_accuracy: 0.0023\n",
      "Epoch 614/1024\n",
      "47/47 [==============================] - 32s 690ms/step - loss: 0.0028 - accuracy: 0.9994 - val_loss: 13.3780 - val_accuracy: 0.0020\n",
      "Epoch 615/1024\n",
      "47/47 [==============================] - 32s 689ms/step - loss: 0.0035 - accuracy: 0.9993 - val_loss: 13.3699 - val_accuracy: 0.0020\n",
      "Epoch 616/1024\n",
      "47/47 [==============================] - 32s 690ms/step - loss: 0.0031 - accuracy: 0.9994 - val_loss: 13.3866 - val_accuracy: 0.0020\n",
      "Epoch 617/1024\n",
      "47/47 [==============================] - 32s 689ms/step - loss: 0.0034 - accuracy: 0.9994 - val_loss: 13.3252 - val_accuracy: 0.0019\n",
      "Epoch 618/1024\n",
      "47/47 [==============================] - 32s 689ms/step - loss: 0.0029 - accuracy: 0.9994 - val_loss: 13.3637 - val_accuracy: 0.0020\n",
      "Epoch 619/1024\n",
      "47/47 [==============================] - 32s 689ms/step - loss: 0.0027 - accuracy: 0.9994 - val_loss: 13.3421 - val_accuracy: 0.0020\n",
      "Epoch 620/1024\n",
      "47/47 [==============================] - 32s 689ms/step - loss: 0.0033 - accuracy: 0.9993 - val_loss: 13.3272 - val_accuracy: 0.0019\n",
      "Epoch 621/1024\n",
      "47/47 [==============================] - 32s 688ms/step - loss: 0.0028 - accuracy: 0.9994 - val_loss: 13.3223 - val_accuracy: 0.0021\n",
      "Epoch 622/1024\n",
      "47/47 [==============================] - 32s 689ms/step - loss: 0.0030 - accuracy: 0.9994 - val_loss: 13.3222 - val_accuracy: 0.0019\n",
      "Epoch 623/1024\n",
      "47/47 [==============================] - 32s 689ms/step - loss: 0.0031 - accuracy: 0.9993 - val_loss: 13.3206 - val_accuracy: 0.0017\n",
      "Epoch 624/1024\n",
      "47/47 [==============================] - 32s 689ms/step - loss: 0.0030 - accuracy: 0.9995 - val_loss: 13.3315 - val_accuracy: 0.0015\n",
      "Epoch 625/1024\n",
      "47/47 [==============================] - 33s 694ms/step - loss: 0.0028 - accuracy: 0.9994 - val_loss: 13.3373 - val_accuracy: 0.0014\n",
      "Epoch 626/1024\n",
      "47/47 [==============================] - 33s 694ms/step - loss: 0.0029 - accuracy: 0.9994 - val_loss: 13.3479 - val_accuracy: 0.0015\n",
      "Epoch 627/1024\n",
      "47/47 [==============================] - 32s 689ms/step - loss: 0.0030 - accuracy: 0.9994 - val_loss: 13.3308 - val_accuracy: 0.0015\n",
      "Epoch 628/1024\n",
      "47/47 [==============================] - 32s 690ms/step - loss: 0.0028 - accuracy: 0.9994 - val_loss: 13.3472 - val_accuracy: 0.0015\n",
      "Epoch 629/1024\n",
      "47/47 [==============================] - 32s 690ms/step - loss: 0.0030 - accuracy: 0.9994 - val_loss: 13.3077 - val_accuracy: 0.0016\n",
      "Epoch 630/1024\n",
      "47/47 [==============================] - 32s 690ms/step - loss: 0.0029 - accuracy: 0.9994 - val_loss: 13.3003 - val_accuracy: 0.0016\n",
      "Epoch 631/1024\n",
      "47/47 [==============================] - 32s 690ms/step - loss: 0.0028 - accuracy: 0.9994 - val_loss: 13.3214 - val_accuracy: 0.0015\n",
      "Epoch 632/1024\n",
      "47/47 [==============================] - 32s 690ms/step - loss: 0.0027 - accuracy: 0.9995 - val_loss: 13.3163 - val_accuracy: 0.0015\n",
      "Epoch 633/1024\n",
      "47/47 [==============================] - 32s 691ms/step - loss: 0.0025 - accuracy: 0.9994 - val_loss: 13.3131 - val_accuracy: 0.0015\n",
      "Epoch 634/1024\n",
      "47/47 [==============================] - 32s 691ms/step - loss: 0.0027 - accuracy: 0.9994 - val_loss: 13.2866 - val_accuracy: 0.0016\n",
      "Epoch 635/1024\n",
      "47/47 [==============================] - 32s 690ms/step - loss: 0.0031 - accuracy: 0.9994 - val_loss: 13.2897 - val_accuracy: 0.0016\n",
      "Epoch 636/1024\n",
      "47/47 [==============================] - 32s 689ms/step - loss: 0.0031 - accuracy: 0.9994 - val_loss: 13.3345 - val_accuracy: 0.0016\n",
      "Epoch 637/1024\n",
      "47/47 [==============================] - 32s 691ms/step - loss: 0.0034 - accuracy: 0.9993 - val_loss: 13.3016 - val_accuracy: 0.0015\n",
      "Epoch 638/1024\n",
      "47/47 [==============================] - 32s 691ms/step - loss: 0.0029 - accuracy: 0.9994 - val_loss: 13.3028 - val_accuracy: 0.0013\n",
      "Epoch 639/1024\n",
      "47/47 [==============================] - 32s 691ms/step - loss: 0.0034 - accuracy: 0.9993 - val_loss: 13.3382 - val_accuracy: 0.0015\n",
      "Epoch 640/1024\n",
      "47/47 [==============================] - 32s 690ms/step - loss: 0.0027 - accuracy: 0.9994 - val_loss: 13.3486 - val_accuracy: 0.0016\n",
      "Epoch 641/1024\n",
      "47/47 [==============================] - 32s 690ms/step - loss: 0.0028 - accuracy: 0.9994 - val_loss: 13.3560 - val_accuracy: 0.0016\n",
      "Epoch 642/1024\n",
      "47/47 [==============================] - 32s 690ms/step - loss: 0.0035 - accuracy: 0.9993 - val_loss: 13.3271 - val_accuracy: 0.0016\n",
      "Epoch 643/1024\n",
      "47/47 [==============================] - 32s 691ms/step - loss: 0.0032 - accuracy: 0.9994 - val_loss: 13.3202 - val_accuracy: 0.0015\n",
      "Epoch 644/1024\n",
      "47/47 [==============================] - 32s 691ms/step - loss: 0.0029 - accuracy: 0.9994 - val_loss: 13.3445 - val_accuracy: 0.0015\n",
      "Epoch 645/1024\n",
      "47/47 [==============================] - 32s 691ms/step - loss: 0.0026 - accuracy: 0.9994 - val_loss: 13.3756 - val_accuracy: 0.0013\n",
      "Epoch 646/1024\n",
      "47/47 [==============================] - 32s 690ms/step - loss: 0.0028 - accuracy: 0.9994 - val_loss: 13.3684 - val_accuracy: 0.0015\n",
      "Epoch 647/1024\n",
      "47/47 [==============================] - 32s 691ms/step - loss: 0.0034 - accuracy: 0.9993 - val_loss: 13.3391 - val_accuracy: 0.0015\n",
      "Epoch 648/1024\n",
      "47/47 [==============================] - 32s 690ms/step - loss: 0.0028 - accuracy: 0.9994 - val_loss: 13.3135 - val_accuracy: 0.0014\n",
      "Epoch 649/1024\n",
      "47/47 [==============================] - 32s 689ms/step - loss: 0.0025 - accuracy: 0.9994 - val_loss: 13.3453 - val_accuracy: 0.0014\n",
      "Epoch 650/1024\n",
      "47/47 [==============================] - 32s 689ms/step - loss: 0.0027 - accuracy: 0.9995 - val_loss: 13.3470 - val_accuracy: 0.0015\n",
      "Epoch 651/1024\n",
      "47/47 [==============================] - 32s 689ms/step - loss: 0.0025 - accuracy: 0.9995 - val_loss: 13.3215 - val_accuracy: 0.0014\n",
      "Epoch 652/1024\n",
      "47/47 [==============================] - 32s 689ms/step - loss: 0.0027 - accuracy: 0.9994 - val_loss: 13.3299 - val_accuracy: 0.0015\n",
      "Epoch 653/1024\n",
      "47/47 [==============================] - 32s 690ms/step - loss: 0.0026 - accuracy: 0.9995 - val_loss: 13.3648 - val_accuracy: 0.0016\n",
      "Epoch 654/1024\n",
      "47/47 [==============================] - 32s 690ms/step - loss: 0.0027 - accuracy: 0.9994 - val_loss: 13.3219 - val_accuracy: 0.0015\n",
      "Epoch 655/1024\n",
      "47/47 [==============================] - 32s 690ms/step - loss: 0.0024 - accuracy: 0.9995 - val_loss: 13.3334 - val_accuracy: 0.0016\n",
      "Epoch 656/1024\n",
      "47/47 [==============================] - 32s 689ms/step - loss: 0.0026 - accuracy: 0.9994 - val_loss: 13.3034 - val_accuracy: 0.0015\n",
      "Epoch 657/1024\n",
      "47/47 [==============================] - 32s 690ms/step - loss: 0.0025 - accuracy: 0.9995 - val_loss: 13.3251 - val_accuracy: 0.0015\n",
      "Epoch 658/1024\n",
      "47/47 [==============================] - 32s 691ms/step - loss: 0.0030 - accuracy: 0.9993 - val_loss: 13.3254 - val_accuracy: 0.0015\n",
      "Epoch 659/1024\n",
      "47/47 [==============================] - 32s 690ms/step - loss: 0.0029 - accuracy: 0.9994 - val_loss: 13.3105 - val_accuracy: 0.0016\n",
      "Epoch 660/1024\n",
      "47/47 [==============================] - 32s 689ms/step - loss: 0.0028 - accuracy: 0.9994 - val_loss: 13.3121 - val_accuracy: 0.0015\n",
      "Epoch 661/1024\n",
      "47/47 [==============================] - 32s 690ms/step - loss: 0.0026 - accuracy: 0.9994 - val_loss: 13.3128 - val_accuracy: 0.0015\n",
      "Epoch 662/1024\n",
      "47/47 [==============================] - 32s 690ms/step - loss: 0.0029 - accuracy: 0.9994 - val_loss: 13.2995 - val_accuracy: 0.0015\n",
      "Epoch 663/1024\n",
      "47/47 [==============================] - 32s 690ms/step - loss: 0.0030 - accuracy: 0.9994 - val_loss: 13.2801 - val_accuracy: 0.0015\n",
      "Epoch 664/1024\n",
      "47/47 [==============================] - 32s 691ms/step - loss: 0.0029 - accuracy: 0.9994 - val_loss: 13.2939 - val_accuracy: 0.0015\n",
      "Epoch 665/1024\n",
      "47/47 [==============================] - 32s 691ms/step - loss: 0.0027 - accuracy: 0.9994 - val_loss: 13.3069 - val_accuracy: 0.0015\n",
      "Epoch 666/1024\n",
      "47/47 [==============================] - 32s 690ms/step - loss: 0.0026 - accuracy: 0.9995 - val_loss: 13.2717 - val_accuracy: 0.0015\n",
      "Epoch 667/1024\n",
      "47/47 [==============================] - 33s 692ms/step - loss: 0.0025 - accuracy: 0.9995 - val_loss: 13.2492 - val_accuracy: 0.0016\n",
      "Epoch 668/1024\n",
      "47/47 [==============================] - 32s 690ms/step - loss: 0.0028 - accuracy: 0.9994 - val_loss: 13.2590 - val_accuracy: 0.0016\n",
      "Epoch 669/1024\n",
      "47/47 [==============================] - 32s 691ms/step - loss: 0.0030 - accuracy: 0.9994 - val_loss: 13.2829 - val_accuracy: 0.0015\n",
      "Epoch 670/1024\n",
      "47/47 [==============================] - 32s 690ms/step - loss: 0.0028 - accuracy: 0.9994 - val_loss: 13.2508 - val_accuracy: 0.0015\n",
      "Epoch 671/1024\n",
      "47/47 [==============================] - 32s 690ms/step - loss: 0.0031 - accuracy: 0.9994 - val_loss: 13.2838 - val_accuracy: 0.0015\n",
      "Epoch 672/1024\n",
      "47/47 [==============================] - 32s 691ms/step - loss: 0.0031 - accuracy: 0.9994 - val_loss: 13.2840 - val_accuracy: 0.0015\n",
      "Epoch 673/1024\n",
      "47/47 [==============================] - 33s 694ms/step - loss: 0.0028 - accuracy: 0.9994 - val_loss: 13.2715 - val_accuracy: 0.0015\n",
      "Epoch 674/1024\n",
      "47/47 [==============================] - 33s 697ms/step - loss: 0.0031 - accuracy: 0.9994 - val_loss: 13.2556 - val_accuracy: 0.0015\n",
      "Epoch 675/1024\n",
      "47/47 [==============================] - 32s 690ms/step - loss: 0.0033 - accuracy: 0.9993 - val_loss: 13.2653 - val_accuracy: 0.0014\n",
      "Epoch 676/1024\n",
      "47/47 [==============================] - 32s 691ms/step - loss: 0.0027 - accuracy: 0.9994 - val_loss: 13.2641 - val_accuracy: 0.0015\n",
      "Epoch 677/1024\n",
      "47/47 [==============================] - 32s 691ms/step - loss: 0.0029 - accuracy: 0.9994 - val_loss: 13.2385 - val_accuracy: 0.0014\n",
      "Epoch 678/1024\n",
      "47/47 [==============================] - 32s 691ms/step - loss: 0.0028 - accuracy: 0.9994 - val_loss: 13.2667 - val_accuracy: 0.0015\n",
      "Epoch 679/1024\n",
      "47/47 [==============================] - 32s 691ms/step - loss: 0.0032 - accuracy: 0.9993 - val_loss: 13.2442 - val_accuracy: 0.0014\n",
      "Epoch 680/1024\n",
      "47/47 [==============================] - 32s 690ms/step - loss: 0.0031 - accuracy: 0.9993 - val_loss: 13.2585 - val_accuracy: 0.0014\n",
      "Epoch 681/1024\n",
      "47/47 [==============================] - 32s 691ms/step - loss: 0.0028 - accuracy: 0.9994 - val_loss: 13.2407 - val_accuracy: 0.0013\n",
      "Epoch 682/1024\n",
      "47/47 [==============================] - 32s 690ms/step - loss: 0.0027 - accuracy: 0.9994 - val_loss: 13.2518 - val_accuracy: 0.0014\n",
      "Epoch 683/1024\n",
      "47/47 [==============================] - 32s 691ms/step - loss: 0.0026 - accuracy: 0.9994 - val_loss: 13.2639 - val_accuracy: 0.0014\n",
      "Epoch 684/1024\n",
      "47/47 [==============================] - 32s 691ms/step - loss: 0.0028 - accuracy: 0.9995 - val_loss: 13.2528 - val_accuracy: 0.0013\n",
      "Epoch 685/1024\n",
      "47/47 [==============================] - 32s 691ms/step - loss: 0.0028 - accuracy: 0.9993 - val_loss: 13.2740 - val_accuracy: 0.0014\n",
      "Epoch 686/1024\n",
      "47/47 [==============================] - 32s 690ms/step - loss: 0.0025 - accuracy: 0.9994 - val_loss: 13.2739 - val_accuracy: 0.0013\n",
      "Epoch 687/1024\n",
      "47/47 [==============================] - 32s 690ms/step - loss: 0.0028 - accuracy: 0.9994 - val_loss: 13.2557 - val_accuracy: 0.0014\n",
      "Epoch 688/1024\n",
      "47/47 [==============================] - 32s 691ms/step - loss: 0.0030 - accuracy: 0.9994 - val_loss: 13.2824 - val_accuracy: 0.0015\n",
      "Epoch 689/1024\n",
      "47/47 [==============================] - 32s 691ms/step - loss: 0.0030 - accuracy: 0.9994 - val_loss: 13.2604 - val_accuracy: 0.0015\n",
      "Epoch 690/1024\n",
      "47/47 [==============================] - 33s 692ms/step - loss: 0.0026 - accuracy: 0.9995 - val_loss: 13.2730 - val_accuracy: 0.0013\n",
      "Epoch 691/1024\n",
      "47/47 [==============================] - 32s 691ms/step - loss: 0.0029 - accuracy: 0.9994 - val_loss: 13.2689 - val_accuracy: 0.0011\n",
      "Epoch 692/1024\n",
      "47/47 [==============================] - 32s 691ms/step - loss: 0.0031 - accuracy: 0.9994 - val_loss: 13.2850 - val_accuracy: 0.0012\n",
      "Epoch 693/1024\n",
      "47/47 [==============================] - 32s 691ms/step - loss: 0.0029 - accuracy: 0.9994 - val_loss: 13.2653 - val_accuracy: 0.0012\n",
      "Epoch 694/1024\n",
      "47/47 [==============================] - 32s 691ms/step - loss: 0.0027 - accuracy: 0.9994 - val_loss: 13.2824 - val_accuracy: 0.0014\n",
      "Epoch 695/1024\n",
      "47/47 [==============================] - 32s 690ms/step - loss: 0.0027 - accuracy: 0.9994 - val_loss: 13.2671 - val_accuracy: 0.0014\n",
      "Epoch 696/1024\n",
      "47/47 [==============================] - 32s 689ms/step - loss: 0.0029 - accuracy: 0.9994 - val_loss: 13.2773 - val_accuracy: 0.0012\n",
      "Epoch 697/1024\n",
      "47/47 [==============================] - 32s 689ms/step - loss: 0.0028 - accuracy: 0.9994 - val_loss: 13.2565 - val_accuracy: 0.0014\n",
      "Epoch 698/1024\n",
      "47/47 [==============================] - 32s 690ms/step - loss: 0.0029 - accuracy: 0.9994 - val_loss: 13.2765 - val_accuracy: 0.0012\n",
      "Epoch 699/1024\n",
      "47/47 [==============================] - 32s 690ms/step - loss: 0.0028 - accuracy: 0.9994 - val_loss: 13.2829 - val_accuracy: 0.0011\n",
      "Epoch 700/1024\n",
      "47/47 [==============================] - 32s 690ms/step - loss: 0.0031 - accuracy: 0.9993 - val_loss: 13.2708 - val_accuracy: 0.0013\n",
      "Epoch 701/1024\n",
      "47/47 [==============================] - 32s 690ms/step - loss: 0.0030 - accuracy: 0.9994 - val_loss: 13.2741 - val_accuracy: 0.0014\n",
      "Epoch 702/1024\n",
      "47/47 [==============================] - 32s 690ms/step - loss: 0.0029 - accuracy: 0.9994 - val_loss: 13.2741 - val_accuracy: 0.0014\n",
      "Epoch 703/1024\n",
      "47/47 [==============================] - 32s 690ms/step - loss: 0.0028 - accuracy: 0.9995 - val_loss: 13.2648 - val_accuracy: 0.0015\n",
      "Epoch 704/1024\n",
      "47/47 [==============================] - 32s 690ms/step - loss: 0.0028 - accuracy: 0.9994 - val_loss: 13.2499 - val_accuracy: 0.0012\n",
      "Epoch 705/1024\n",
      "47/47 [==============================] - 32s 690ms/step - loss: 0.0027 - accuracy: 0.9994 - val_loss: 13.2731 - val_accuracy: 0.0014\n",
      "Epoch 706/1024\n",
      "47/47 [==============================] - 32s 691ms/step - loss: 0.0026 - accuracy: 0.9995 - val_loss: 13.2603 - val_accuracy: 0.0015\n",
      "Epoch 707/1024\n",
      "47/47 [==============================] - 32s 691ms/step - loss: 0.0027 - accuracy: 0.9994 - val_loss: 13.2689 - val_accuracy: 0.0014\n",
      "Epoch 708/1024\n",
      "47/47 [==============================] - 32s 690ms/step - loss: 0.0025 - accuracy: 0.9994 - val_loss: 13.2663 - val_accuracy: 0.0013\n",
      "Epoch 709/1024\n",
      "47/47 [==============================] - 32s 690ms/step - loss: 0.0026 - accuracy: 0.9995 - val_loss: 13.2496 - val_accuracy: 0.0014\n",
      "Epoch 710/1024\n",
      "47/47 [==============================] - 32s 690ms/step - loss: 0.0027 - accuracy: 0.9994 - val_loss: 13.2435 - val_accuracy: 0.0012\n",
      "Epoch 711/1024\n",
      "47/47 [==============================] - 32s 691ms/step - loss: 0.0026 - accuracy: 0.9995 - val_loss: 13.2181 - val_accuracy: 0.0013\n",
      "Epoch 712/1024\n",
      "47/47 [==============================] - 32s 690ms/step - loss: 0.0031 - accuracy: 0.9994 - val_loss: 13.2319 - val_accuracy: 0.0015\n",
      "Epoch 713/1024\n",
      "47/47 [==============================] - 32s 690ms/step - loss: 0.0031 - accuracy: 0.9994 - val_loss: 13.2085 - val_accuracy: 0.0015\n",
      "Epoch 714/1024\n",
      "47/47 [==============================] - 32s 690ms/step - loss: 0.0029 - accuracy: 0.9994 - val_loss: 13.2107 - val_accuracy: 0.0015\n",
      "Epoch 715/1024\n",
      "47/47 [==============================] - 32s 691ms/step - loss: 0.0031 - accuracy: 0.9994 - val_loss: 13.2369 - val_accuracy: 0.0013\n",
      "Epoch 716/1024\n",
      "47/47 [==============================] - 32s 691ms/step - loss: 0.0031 - accuracy: 0.9994 - val_loss: 13.2350 - val_accuracy: 0.0012\n",
      "Epoch 717/1024\n"
     ]
    },
    {
     "name": "stdout",
     "output_type": "stream",
     "text": [
      "47/47 [==============================] - 32s 690ms/step - loss: 0.0031 - accuracy: 0.9993 - val_loss: 13.2182 - val_accuracy: 0.0011\n",
      "Epoch 718/1024\n",
      "47/47 [==============================] - 32s 691ms/step - loss: 0.0027 - accuracy: 0.9994 - val_loss: 13.2475 - val_accuracy: 0.0011\n",
      "Epoch 719/1024\n",
      "47/47 [==============================] - 32s 691ms/step - loss: 0.0027 - accuracy: 0.9994 - val_loss: 13.2425 - val_accuracy: 0.0012\n",
      "Epoch 720/1024\n",
      "47/47 [==============================] - 32s 690ms/step - loss: 0.0025 - accuracy: 0.9994 - val_loss: 13.2430 - val_accuracy: 0.0012\n",
      "Epoch 721/1024\n",
      "47/47 [==============================] - 33s 695ms/step - loss: 0.0024 - accuracy: 0.9995 - val_loss: 13.2734 - val_accuracy: 0.0012\n",
      "Epoch 722/1024\n",
      "47/47 [==============================] - 33s 694ms/step - loss: 0.0028 - accuracy: 0.9994 - val_loss: 13.2522 - val_accuracy: 0.0013\n",
      "Epoch 723/1024\n",
      "47/47 [==============================] - 32s 691ms/step - loss: 0.0028 - accuracy: 0.9995 - val_loss: 13.2584 - val_accuracy: 0.0013\n",
      "Epoch 724/1024\n",
      "47/47 [==============================] - 32s 690ms/step - loss: 0.0027 - accuracy: 0.9994 - val_loss: 13.2519 - val_accuracy: 0.0012\n",
      "Epoch 725/1024\n",
      "47/47 [==============================] - 32s 691ms/step - loss: 0.0028 - accuracy: 0.9994 - val_loss: 13.2467 - val_accuracy: 0.0013\n",
      "Epoch 726/1024\n",
      "47/47 [==============================] - 32s 690ms/step - loss: 0.0027 - accuracy: 0.9995 - val_loss: 13.2785 - val_accuracy: 0.0013\n",
      "Epoch 727/1024\n",
      "47/47 [==============================] - 32s 691ms/step - loss: 0.0026 - accuracy: 0.9995 - val_loss: 13.2442 - val_accuracy: 0.0012\n",
      "Epoch 728/1024\n",
      "47/47 [==============================] - 32s 690ms/step - loss: 0.0024 - accuracy: 0.9994 - val_loss: 13.2498 - val_accuracy: 0.0013\n",
      "Epoch 729/1024\n",
      "47/47 [==============================] - 32s 690ms/step - loss: 0.0026 - accuracy: 0.9995 - val_loss: 13.2551 - val_accuracy: 0.0012\n",
      "Epoch 730/1024\n",
      "47/47 [==============================] - 32s 690ms/step - loss: 0.0030 - accuracy: 0.9993 - val_loss: 13.2545 - val_accuracy: 0.0012\n",
      "Epoch 731/1024\n",
      "47/47 [==============================] - 32s 690ms/step - loss: 0.0028 - accuracy: 0.9995 - val_loss: 13.2592 - val_accuracy: 0.0012\n",
      "Epoch 732/1024\n",
      "47/47 [==============================] - 32s 690ms/step - loss: 0.0030 - accuracy: 0.9993 - val_loss: 13.2558 - val_accuracy: 0.0013\n",
      "Epoch 733/1024\n",
      "47/47 [==============================] - 32s 690ms/step - loss: 0.0029 - accuracy: 0.9994 - val_loss: 13.2609 - val_accuracy: 0.0013\n",
      "Epoch 734/1024\n",
      "47/47 [==============================] - 32s 691ms/step - loss: 0.0028 - accuracy: 0.9994 - val_loss: 13.2584 - val_accuracy: 0.0012\n",
      "Epoch 735/1024\n",
      "47/47 [==============================] - 32s 690ms/step - loss: 0.0028 - accuracy: 0.9994 - val_loss: 13.2569 - val_accuracy: 0.0013\n",
      "Epoch 736/1024\n",
      "47/47 [==============================] - 32s 690ms/step - loss: 0.0037 - accuracy: 0.9992 - val_loss: 13.2253 - val_accuracy: 0.0013\n",
      "Epoch 737/1024\n",
      "47/47 [==============================] - 32s 691ms/step - loss: 0.0030 - accuracy: 0.9994 - val_loss: 13.2778 - val_accuracy: 0.0012\n",
      "Epoch 738/1024\n",
      "47/47 [==============================] - 32s 691ms/step - loss: 0.0026 - accuracy: 0.9994 - val_loss: 13.2474 - val_accuracy: 0.0013\n",
      "Epoch 739/1024\n",
      "47/47 [==============================] - 32s 690ms/step - loss: 0.0025 - accuracy: 0.9994 - val_loss: 13.2596 - val_accuracy: 0.0012\n",
      "Epoch 740/1024\n",
      "47/47 [==============================] - 32s 690ms/step - loss: 0.0027 - accuracy: 0.9994 - val_loss: 13.2622 - val_accuracy: 0.0012\n",
      "Epoch 741/1024\n",
      "47/47 [==============================] - 32s 690ms/step - loss: 0.0028 - accuracy: 0.9994 - val_loss: 13.2211 - val_accuracy: 0.0012\n",
      "Epoch 742/1024\n",
      "47/47 [==============================] - 32s 690ms/step - loss: 0.0027 - accuracy: 0.9994 - val_loss: 13.2125 - val_accuracy: 0.0012\n",
      "Epoch 743/1024\n",
      "47/47 [==============================] - 32s 690ms/step - loss: 0.0027 - accuracy: 0.9994 - val_loss: 13.2462 - val_accuracy: 0.0012\n",
      "Epoch 744/1024\n",
      "47/47 [==============================] - 32s 691ms/step - loss: 0.0026 - accuracy: 0.9994 - val_loss: 13.2391 - val_accuracy: 0.0012\n",
      "Epoch 745/1024\n",
      "47/47 [==============================] - 32s 690ms/step - loss: 0.0026 - accuracy: 0.9994 - val_loss: 13.2449 - val_accuracy: 0.0012\n",
      "Epoch 746/1024\n",
      "47/47 [==============================] - 32s 690ms/step - loss: 0.0030 - accuracy: 0.9994 - val_loss: 13.2369 - val_accuracy: 0.0012\n",
      "Epoch 747/1024\n",
      "47/47 [==============================] - 32s 691ms/step - loss: 0.0025 - accuracy: 0.9994 - val_loss: 13.2328 - val_accuracy: 0.0011\n",
      "Epoch 748/1024\n",
      "47/47 [==============================] - 32s 691ms/step - loss: 0.0028 - accuracy: 0.9995 - val_loss: 13.1969 - val_accuracy: 0.0012\n",
      "Epoch 749/1024\n",
      "47/47 [==============================] - 32s 691ms/step - loss: 0.0025 - accuracy: 0.9994 - val_loss: 13.2147 - val_accuracy: 0.0012\n",
      "Epoch 750/1024\n",
      "47/47 [==============================] - 32s 690ms/step - loss: 0.0029 - accuracy: 0.9994 - val_loss: 13.2385 - val_accuracy: 0.0012\n",
      "Epoch 751/1024\n",
      "47/47 [==============================] - 32s 690ms/step - loss: 0.0028 - accuracy: 0.9994 - val_loss: 13.2451 - val_accuracy: 0.0013\n",
      "Epoch 752/1024\n",
      "47/47 [==============================] - 32s 691ms/step - loss: 0.0027 - accuracy: 0.9994 - val_loss: 13.2483 - val_accuracy: 0.0013\n",
      "Epoch 753/1024\n",
      "47/47 [==============================] - 32s 690ms/step - loss: 0.0026 - accuracy: 0.9995 - val_loss: 13.2231 - val_accuracy: 0.0012\n",
      "Epoch 754/1024\n",
      "47/47 [==============================] - 32s 690ms/step - loss: 0.0027 - accuracy: 0.9994 - val_loss: 13.2359 - val_accuracy: 0.0013\n",
      "Epoch 755/1024\n",
      "47/47 [==============================] - 32s 690ms/step - loss: 0.0027 - accuracy: 0.9994 - val_loss: 13.2546 - val_accuracy: 0.0012\n",
      "Epoch 756/1024\n",
      "47/47 [==============================] - 32s 691ms/step - loss: 0.0026 - accuracy: 0.9995 - val_loss: 13.2291 - val_accuracy: 0.0012\n",
      "Epoch 757/1024\n",
      "47/47 [==============================] - 32s 691ms/step - loss: 0.0027 - accuracy: 0.9994 - val_loss: 13.2502 - val_accuracy: 0.0012\n",
      "Epoch 758/1024\n",
      "47/47 [==============================] - 32s 690ms/step - loss: 0.0026 - accuracy: 0.9994 - val_loss: 13.2511 - val_accuracy: 0.0012\n",
      "Epoch 759/1024\n",
      "47/47 [==============================] - 32s 690ms/step - loss: 0.0025 - accuracy: 0.9994 - val_loss: 13.2134 - val_accuracy: 0.0011\n",
      "Epoch 760/1024\n",
      "47/47 [==============================] - 32s 690ms/step - loss: 0.0028 - accuracy: 0.9994 - val_loss: 13.1979 - val_accuracy: 0.0011\n",
      "Epoch 761/1024\n",
      "47/47 [==============================] - 32s 691ms/step - loss: 0.0025 - accuracy: 0.9995 - val_loss: 13.2145 - val_accuracy: 0.0011\n",
      "Epoch 762/1024\n",
      "47/47 [==============================] - 32s 691ms/step - loss: 0.0027 - accuracy: 0.9994 - val_loss: 13.2396 - val_accuracy: 0.0011\n",
      "Epoch 763/1024\n",
      "47/47 [==============================] - 32s 691ms/step - loss: 0.0027 - accuracy: 0.9994 - val_loss: 13.2332 - val_accuracy: 0.0010\n",
      "Epoch 764/1024\n",
      "47/47 [==============================] - 32s 691ms/step - loss: 0.0027 - accuracy: 0.9995 - val_loss: 13.2316 - val_accuracy: 0.0011\n",
      "Epoch 765/1024\n",
      "47/47 [==============================] - 32s 690ms/step - loss: 0.0028 - accuracy: 0.9994 - val_loss: 13.2379 - val_accuracy: 0.0011\n",
      "Epoch 766/1024\n",
      "47/47 [==============================] - 32s 691ms/step - loss: 0.0029 - accuracy: 0.9994 - val_loss: 13.2096 - val_accuracy: 0.0011\n",
      "Epoch 767/1024\n",
      "47/47 [==============================] - 32s 690ms/step - loss: 0.0028 - accuracy: 0.9993 - val_loss: 13.2031 - val_accuracy: 0.0012\n",
      "Epoch 768/1024\n",
      "47/47 [==============================] - 32s 691ms/step - loss: 0.0026 - accuracy: 0.9994 - val_loss: 13.1961 - val_accuracy: 0.0011\n",
      "Epoch 769/1024\n",
      "47/47 [==============================] - 33s 696ms/step - loss: 0.0025 - accuracy: 0.9995 - val_loss: 13.1888 - val_accuracy: 0.0011\n",
      "Epoch 770/1024\n",
      "47/47 [==============================] - 33s 695ms/step - loss: 0.0027 - accuracy: 0.9994 - val_loss: 13.1862 - val_accuracy: 0.0012\n",
      "Epoch 771/1024\n",
      "47/47 [==============================] - 32s 690ms/step - loss: 0.0027 - accuracy: 0.9994 - val_loss: 13.1803 - val_accuracy: 0.0011\n",
      "Epoch 772/1024\n",
      "47/47 [==============================] - 32s 691ms/step - loss: 0.0026 - accuracy: 0.9995 - val_loss: 13.1954 - val_accuracy: 0.0011\n",
      "Epoch 773/1024\n",
      "47/47 [==============================] - 32s 691ms/step - loss: 0.0029 - accuracy: 0.9994 - val_loss: 13.2138 - val_accuracy: 0.0011\n",
      "Epoch 774/1024\n",
      "47/47 [==============================] - 32s 691ms/step - loss: 0.0026 - accuracy: 0.9994 - val_loss: 13.2080 - val_accuracy: 0.0011\n",
      "Epoch 775/1024\n",
      "47/47 [==============================] - 32s 690ms/step - loss: 0.0028 - accuracy: 0.9994 - val_loss: 13.2200 - val_accuracy: 0.0011\n",
      "Epoch 776/1024\n",
      "47/47 [==============================] - 32s 691ms/step - loss: 0.0028 - accuracy: 0.9995 - val_loss: 13.2203 - val_accuracy: 9.8803e-04\n",
      "Epoch 777/1024\n",
      "47/47 [==============================] - 32s 690ms/step - loss: 0.0032 - accuracy: 0.9993 - val_loss: 13.2190 - val_accuracy: 0.0011\n",
      "Epoch 778/1024\n",
      "47/47 [==============================] - 32s 690ms/step - loss: 0.0031 - accuracy: 0.9994 - val_loss: 13.2356 - val_accuracy: 0.0012\n",
      "Epoch 779/1024\n",
      "47/47 [==============================] - 32s 690ms/step - loss: 0.0033 - accuracy: 0.9993 - val_loss: 13.2400 - val_accuracy: 0.0011\n",
      "Epoch 780/1024\n",
      "47/47 [==============================] - 32s 690ms/step - loss: 0.0031 - accuracy: 0.9994 - val_loss: 13.2332 - val_accuracy: 0.0011\n",
      "Epoch 781/1024\n",
      "47/47 [==============================] - 32s 690ms/step - loss: 0.0029 - accuracy: 0.9994 - val_loss: 13.2291 - val_accuracy: 0.0011\n",
      "Epoch 782/1024\n",
      "47/47 [==============================] - 32s 690ms/step - loss: 0.0031 - accuracy: 0.9994 - val_loss: 13.2281 - val_accuracy: 0.0012\n",
      "Epoch 783/1024\n",
      "47/47 [==============================] - 32s 690ms/step - loss: 0.0025 - accuracy: 0.9995 - val_loss: 13.2482 - val_accuracy: 0.0011\n",
      "Epoch 784/1024\n",
      "47/47 [==============================] - 32s 690ms/step - loss: 0.0027 - accuracy: 0.9994 - val_loss: 13.2498 - val_accuracy: 0.0011\n",
      "Epoch 785/1024\n",
      "47/47 [==============================] - 32s 690ms/step - loss: 0.0026 - accuracy: 0.9994 - val_loss: 13.2553 - val_accuracy: 0.0012\n",
      "Epoch 786/1024\n",
      "47/47 [==============================] - 32s 690ms/step - loss: 0.0029 - accuracy: 0.9994 - val_loss: 13.2561 - val_accuracy: 0.0011\n",
      "Epoch 787/1024\n",
      "47/47 [==============================] - 32s 690ms/step - loss: 0.0028 - accuracy: 0.9994 - val_loss: 13.2547 - val_accuracy: 0.0011\n",
      "Epoch 788/1024\n",
      "47/47 [==============================] - 32s 690ms/step - loss: 0.0030 - accuracy: 0.9994 - val_loss: 13.2296 - val_accuracy: 0.0012\n",
      "Epoch 789/1024\n",
      "47/47 [==============================] - 32s 690ms/step - loss: 0.0029 - accuracy: 0.9994 - val_loss: 13.2417 - val_accuracy: 0.0011\n",
      "Epoch 790/1024\n",
      "47/47 [==============================] - 32s 690ms/step - loss: 0.0028 - accuracy: 0.9994 - val_loss: 13.2604 - val_accuracy: 0.0011\n",
      "Epoch 791/1024\n",
      "47/47 [==============================] - 32s 690ms/step - loss: 0.0027 - accuracy: 0.9994 - val_loss: 13.2673 - val_accuracy: 0.0011\n",
      "Epoch 792/1024\n",
      "47/47 [==============================] - 32s 690ms/step - loss: 0.0031 - accuracy: 0.9993 - val_loss: 13.2694 - val_accuracy: 0.0011\n",
      "Epoch 793/1024\n",
      "47/47 [==============================] - 32s 691ms/step - loss: 0.0030 - accuracy: 0.9995 - val_loss: 13.2491 - val_accuracy: 0.0012\n",
      "Epoch 794/1024\n",
      "47/47 [==============================] - 32s 691ms/step - loss: 0.0027 - accuracy: 0.9994 - val_loss: 13.2558 - val_accuracy: 0.0012\n",
      "Epoch 795/1024\n",
      "47/47 [==============================] - 32s 690ms/step - loss: 0.0030 - accuracy: 0.9994 - val_loss: 13.2369 - val_accuracy: 0.0011\n",
      "Epoch 796/1024\n",
      "47/47 [==============================] - 32s 690ms/step - loss: 0.0028 - accuracy: 0.9994 - val_loss: 13.2361 - val_accuracy: 0.0011\n",
      "Epoch 797/1024\n",
      "47/47 [==============================] - 32s 691ms/step - loss: 0.0030 - accuracy: 0.9994 - val_loss: 13.2174 - val_accuracy: 0.0011\n",
      "Epoch 798/1024\n",
      "47/47 [==============================] - 32s 690ms/step - loss: 0.0029 - accuracy: 0.9994 - val_loss: 13.2262 - val_accuracy: 9.8021e-04\n",
      "Epoch 799/1024\n",
      "47/47 [==============================] - 32s 691ms/step - loss: 0.0031 - accuracy: 0.9993 - val_loss: 13.2355 - val_accuracy: 0.0011\n",
      "Epoch 800/1024\n",
      "47/47 [==============================] - 33s 692ms/step - loss: 0.0026 - accuracy: 0.9995 - val_loss: 13.2148 - val_accuracy: 9.9917e-04\n",
      "Epoch 801/1024\n",
      "47/47 [==============================] - 32s 691ms/step - loss: 0.0025 - accuracy: 0.9995 - val_loss: 13.2011 - val_accuracy: 0.0011\n",
      "Epoch 802/1024\n",
      "47/47 [==============================] - 32s 690ms/step - loss: 0.0031 - accuracy: 0.9993 - val_loss: 13.2107 - val_accuracy: 0.0011\n",
      "Epoch 803/1024\n",
      "47/47 [==============================] - 32s 691ms/step - loss: 0.0026 - accuracy: 0.9994 - val_loss: 13.1996 - val_accuracy: 0.0011\n",
      "Epoch 804/1024\n",
      "47/47 [==============================] - 32s 691ms/step - loss: 0.0023 - accuracy: 0.9995 - val_loss: 13.2180 - val_accuracy: 0.0012\n",
      "Epoch 805/1024\n",
      "47/47 [==============================] - 32s 691ms/step - loss: 0.0028 - accuracy: 0.9994 - val_loss: 13.1790 - val_accuracy: 0.0011\n",
      "Epoch 806/1024\n",
      "47/47 [==============================] - 32s 690ms/step - loss: 0.0025 - accuracy: 0.9994 - val_loss: 13.1829 - val_accuracy: 0.0011\n",
      "Epoch 807/1024\n",
      "47/47 [==============================] - 32s 690ms/step - loss: 0.0026 - accuracy: 0.9995 - val_loss: 13.1534 - val_accuracy: 0.0011\n",
      "Epoch 808/1024\n",
      "47/47 [==============================] - 32s 690ms/step - loss: 0.0026 - accuracy: 0.9994 - val_loss: 13.1632 - val_accuracy: 0.0011\n",
      "Epoch 809/1024\n",
      "47/47 [==============================] - 32s 690ms/step - loss: 0.0027 - accuracy: 0.9994 - val_loss: 13.1626 - val_accuracy: 0.0011\n",
      "Epoch 810/1024\n",
      "47/47 [==============================] - 32s 691ms/step - loss: 0.0026 - accuracy: 0.9994 - val_loss: 13.1552 - val_accuracy: 0.0011\n",
      "Epoch 811/1024\n",
      "47/47 [==============================] - 32s 690ms/step - loss: 0.0035 - accuracy: 0.9993 - val_loss: 13.1731 - val_accuracy: 0.0011\n",
      "Epoch 812/1024\n",
      "47/47 [==============================] - 32s 691ms/step - loss: 0.0030 - accuracy: 0.9993 - val_loss: 13.1288 - val_accuracy: 0.0012\n",
      "Epoch 813/1024\n",
      "47/47 [==============================] - 32s 690ms/step - loss: 0.0029 - accuracy: 0.9994 - val_loss: 13.1561 - val_accuracy: 0.0011\n",
      "Epoch 814/1024\n",
      "47/47 [==============================] - 32s 690ms/step - loss: 0.0027 - accuracy: 0.9994 - val_loss: 13.1282 - val_accuracy: 0.0012\n",
      "Epoch 815/1024\n",
      "47/47 [==============================] - 32s 690ms/step - loss: 0.0024 - accuracy: 0.9996 - val_loss: 13.1697 - val_accuracy: 0.0011\n",
      "Epoch 816/1024\n",
      "47/47 [==============================] - 32s 690ms/step - loss: 0.0024 - accuracy: 0.9995 - val_loss: 13.1479 - val_accuracy: 0.0011\n",
      "Epoch 817/1024\n",
      "47/47 [==============================] - 33s 695ms/step - loss: 0.0029 - accuracy: 0.9993 - val_loss: 13.1434 - val_accuracy: 0.0011\n",
      "Epoch 818/1024\n",
      "47/47 [==============================] - 33s 695ms/step - loss: 0.0030 - accuracy: 0.9994 - val_loss: 13.1609 - val_accuracy: 0.0011\n",
      "Epoch 819/1024\n",
      "47/47 [==============================] - 33s 692ms/step - loss: 0.0029 - accuracy: 0.9994 - val_loss: 13.1461 - val_accuracy: 0.0011\n",
      "Epoch 820/1024\n",
      "47/47 [==============================] - 32s 691ms/step - loss: 0.0027 - accuracy: 0.9994 - val_loss: 13.1730 - val_accuracy: 0.0012\n",
      "Epoch 821/1024\n",
      "47/47 [==============================] - 32s 690ms/step - loss: 0.0027 - accuracy: 0.9994 - val_loss: 13.1785 - val_accuracy: 0.0011\n",
      "Epoch 822/1024\n",
      "47/47 [==============================] - 32s 690ms/step - loss: 0.0029 - accuracy: 0.9994 - val_loss: 13.1584 - val_accuracy: 0.0011\n",
      "Epoch 823/1024\n",
      "47/47 [==============================] - 32s 691ms/step - loss: 0.0027 - accuracy: 0.9994 - val_loss: 13.1775 - val_accuracy: 0.0011\n",
      "Epoch 824/1024\n",
      "47/47 [==============================] - 32s 689ms/step - loss: 0.0025 - accuracy: 0.9995 - val_loss: 13.1656 - val_accuracy: 0.0011\n",
      "Epoch 825/1024\n",
      "47/47 [==============================] - 32s 690ms/step - loss: 0.0025 - accuracy: 0.9994 - val_loss: 13.1652 - val_accuracy: 0.0011\n",
      "Epoch 826/1024\n",
      "47/47 [==============================] - 32s 690ms/step - loss: 0.0025 - accuracy: 0.9994 - val_loss: 13.2003 - val_accuracy: 0.0012\n",
      "Epoch 827/1024\n"
     ]
    },
    {
     "name": "stdout",
     "output_type": "stream",
     "text": [
      "47/47 [==============================] - 32s 690ms/step - loss: 0.0027 - accuracy: 0.9993 - val_loss: 13.1852 - val_accuracy: 0.0010\n",
      "Epoch 828/1024\n",
      "47/47 [==============================] - 32s 690ms/step - loss: 0.0026 - accuracy: 0.9995 - val_loss: 13.2157 - val_accuracy: 0.0012\n",
      "Epoch 829/1024\n",
      "47/47 [==============================] - 33s 699ms/step - loss: 0.0026 - accuracy: 0.9994 - val_loss: 13.1725 - val_accuracy: 0.0011\n",
      "Epoch 830/1024\n",
      "47/47 [==============================] - 32s 691ms/step - loss: 0.0025 - accuracy: 0.9994 - val_loss: 13.1729 - val_accuracy: 0.0011\n",
      "Epoch 831/1024\n",
      "47/47 [==============================] - 32s 690ms/step - loss: 0.0025 - accuracy: 0.9994 - val_loss: 13.1911 - val_accuracy: 0.0011\n",
      "Epoch 832/1024\n",
      "47/47 [==============================] - 32s 691ms/step - loss: 0.0026 - accuracy: 0.9994 - val_loss: 13.1924 - val_accuracy: 0.0010\n",
      "Epoch 833/1024\n",
      "47/47 [==============================] - 32s 691ms/step - loss: 0.0026 - accuracy: 0.9994 - val_loss: 13.1719 - val_accuracy: 0.0011\n",
      "Epoch 834/1024\n",
      "47/47 [==============================] - 32s 691ms/step - loss: 0.0030 - accuracy: 0.9994 - val_loss: 13.1666 - val_accuracy: 0.0011\n",
      "Epoch 835/1024\n",
      "47/47 [==============================] - 32s 691ms/step - loss: 0.0026 - accuracy: 0.9995 - val_loss: 13.1889 - val_accuracy: 0.0012\n",
      "Epoch 836/1024\n",
      "47/47 [==============================] - 32s 690ms/step - loss: 0.0025 - accuracy: 0.9994 - val_loss: 13.1903 - val_accuracy: 0.0011\n",
      "Epoch 837/1024\n",
      "47/47 [==============================] - 32s 690ms/step - loss: 0.0027 - accuracy: 0.9994 - val_loss: 13.1955 - val_accuracy: 0.0011\n",
      "Epoch 838/1024\n",
      "47/47 [==============================] - 32s 690ms/step - loss: 0.0027 - accuracy: 0.9994 - val_loss: 13.1344 - val_accuracy: 0.0012\n",
      "Epoch 839/1024\n",
      "47/47 [==============================] - 32s 691ms/step - loss: 0.0026 - accuracy: 0.9994 - val_loss: 13.1669 - val_accuracy: 0.0011\n",
      "Epoch 840/1024\n",
      "47/47 [==============================] - 32s 690ms/step - loss: 0.0026 - accuracy: 0.9994 - val_loss: 13.1532 - val_accuracy: 0.0012\n",
      "Epoch 841/1024\n",
      "47/47 [==============================] - 32s 691ms/step - loss: 0.0024 - accuracy: 0.9995 - val_loss: 13.1469 - val_accuracy: 0.0011\n",
      "Epoch 842/1024\n",
      "47/47 [==============================] - 32s 691ms/step - loss: 0.0026 - accuracy: 0.9994 - val_loss: 13.1411 - val_accuracy: 0.0011\n",
      "Epoch 843/1024\n",
      "47/47 [==============================] - 32s 690ms/step - loss: 0.0027 - accuracy: 0.9994 - val_loss: 13.1547 - val_accuracy: 0.0011\n",
      "Epoch 844/1024\n",
      "47/47 [==============================] - 32s 691ms/step - loss: 0.0026 - accuracy: 0.9994 - val_loss: 13.1520 - val_accuracy: 0.0012\n",
      "Epoch 845/1024\n",
      "47/47 [==============================] - 32s 690ms/step - loss: 0.0028 - accuracy: 0.9994 - val_loss: 13.1422 - val_accuracy: 0.0011\n",
      "Epoch 846/1024\n",
      "47/47 [==============================] - 32s 690ms/step - loss: 0.0028 - accuracy: 0.9995 - val_loss: 13.1570 - val_accuracy: 0.0012\n",
      "Epoch 847/1024\n",
      "47/47 [==============================] - 32s 691ms/step - loss: 0.0023 - accuracy: 0.9995 - val_loss: 13.1670 - val_accuracy: 0.0012\n",
      "Epoch 848/1024\n",
      "47/47 [==============================] - 32s 690ms/step - loss: 0.0025 - accuracy: 0.9994 - val_loss: 13.1593 - val_accuracy: 0.0012\n",
      "Epoch 849/1024\n",
      "47/47 [==============================] - 32s 690ms/step - loss: 0.0024 - accuracy: 0.9995 - val_loss: 13.1597 - val_accuracy: 0.0012\n",
      "Epoch 850/1024\n",
      "47/47 [==============================] - 32s 690ms/step - loss: 0.0026 - accuracy: 0.9995 - val_loss: 13.1573 - val_accuracy: 0.0012\n",
      "Epoch 851/1024\n",
      "47/47 [==============================] - 32s 690ms/step - loss: 0.0027 - accuracy: 0.9994 - val_loss: 13.1671 - val_accuracy: 0.0011\n",
      "Epoch 852/1024\n",
      "47/47 [==============================] - 32s 690ms/step - loss: 0.0027 - accuracy: 0.9994 - val_loss: 13.1598 - val_accuracy: 0.0011\n",
      "Epoch 853/1024\n",
      "47/47 [==============================] - 32s 690ms/step - loss: 0.0026 - accuracy: 0.9994 - val_loss: 13.1468 - val_accuracy: 0.0011\n",
      "Epoch 854/1024\n",
      "47/47 [==============================] - 32s 690ms/step - loss: 0.0026 - accuracy: 0.9994 - val_loss: 13.1375 - val_accuracy: 0.0011\n",
      "Epoch 855/1024\n",
      "47/47 [==============================] - 32s 691ms/step - loss: 0.0029 - accuracy: 0.9993 - val_loss: 13.1327 - val_accuracy: 0.0012\n",
      "Epoch 856/1024\n",
      "47/47 [==============================] - 32s 690ms/step - loss: 0.0029 - accuracy: 0.9994 - val_loss: 13.1294 - val_accuracy: 0.0012\n",
      "Epoch 857/1024\n",
      "47/47 [==============================] - 32s 691ms/step - loss: 0.0029 - accuracy: 0.9994 - val_loss: 13.1400 - val_accuracy: 0.0011\n",
      "Epoch 858/1024\n",
      "47/47 [==============================] - 32s 691ms/step - loss: 0.0024 - accuracy: 0.9995 - val_loss: 13.1490 - val_accuracy: 0.0011\n",
      "Epoch 859/1024\n",
      "47/47 [==============================] - 32s 691ms/step - loss: 0.0027 - accuracy: 0.9994 - val_loss: 13.1322 - val_accuracy: 0.0011\n",
      "Epoch 860/1024\n",
      "47/47 [==============================] - 32s 690ms/step - loss: 0.0028 - accuracy: 0.9994 - val_loss: 13.1323 - val_accuracy: 0.0011\n",
      "Epoch 861/1024\n",
      "47/47 [==============================] - 32s 690ms/step - loss: 0.0029 - accuracy: 0.9994 - val_loss: 13.1381 - val_accuracy: 0.0012\n",
      "Epoch 862/1024\n",
      "47/47 [==============================] - 32s 690ms/step - loss: 0.0029 - accuracy: 0.9994 - val_loss: 13.1282 - val_accuracy: 0.0011\n",
      "Epoch 863/1024\n",
      "47/47 [==============================] - 33s 692ms/step - loss: 0.0030 - accuracy: 0.9993 - val_loss: 13.1277 - val_accuracy: 0.0012\n",
      "Epoch 864/1024\n",
      "47/47 [==============================] - 32s 690ms/step - loss: 0.0030 - accuracy: 0.9993 - val_loss: 13.1146 - val_accuracy: 0.0011\n",
      "Epoch 865/1024\n",
      "47/47 [==============================] - 33s 695ms/step - loss: 0.0026 - accuracy: 0.9994 - val_loss: 13.1277 - val_accuracy: 0.0011\n",
      "Epoch 866/1024\n",
      "47/47 [==============================] - 33s 695ms/step - loss: 0.0027 - accuracy: 0.9994 - val_loss: 13.1171 - val_accuracy: 0.0012\n",
      "Epoch 867/1024\n",
      "47/47 [==============================] - 32s 690ms/step - loss: 0.0026 - accuracy: 0.9994 - val_loss: 13.1200 - val_accuracy: 0.0012\n",
      "Epoch 868/1024\n",
      "47/47 [==============================] - 32s 689ms/step - loss: 0.0027 - accuracy: 0.9994 - val_loss: 13.1218 - val_accuracy: 0.0012\n",
      "Epoch 869/1024\n",
      "47/47 [==============================] - 32s 690ms/step - loss: 0.0026 - accuracy: 0.9994 - val_loss: 13.1263 - val_accuracy: 0.0011\n",
      "Epoch 870/1024\n",
      "47/47 [==============================] - 32s 689ms/step - loss: 0.0026 - accuracy: 0.9995 - val_loss: 13.1101 - val_accuracy: 0.0011\n",
      "Epoch 871/1024\n",
      "47/47 [==============================] - 32s 689ms/step - loss: 0.0028 - accuracy: 0.9994 - val_loss: 13.1408 - val_accuracy: 0.0012\n",
      "Epoch 872/1024\n",
      "47/47 [==============================] - 32s 689ms/step - loss: 0.0030 - accuracy: 0.9994 - val_loss: 13.1281 - val_accuracy: 0.0011\n",
      "Epoch 873/1024\n",
      "47/47 [==============================] - 32s 689ms/step - loss: 0.0027 - accuracy: 0.9994 - val_loss: 13.1288 - val_accuracy: 0.0011\n",
      "Epoch 874/1024\n",
      "47/47 [==============================] - 32s 690ms/step - loss: 0.0028 - accuracy: 0.9994 - val_loss: 13.1697 - val_accuracy: 0.0011\n",
      "Epoch 875/1024\n",
      "47/47 [==============================] - 32s 689ms/step - loss: 0.0026 - accuracy: 0.9995 - val_loss: 13.1255 - val_accuracy: 0.0011\n",
      "Epoch 876/1024\n",
      "47/47 [==============================] - 32s 689ms/step - loss: 0.0024 - accuracy: 0.9994 - val_loss: 13.1224 - val_accuracy: 0.0011\n",
      "Epoch 877/1024\n",
      "47/47 [==============================] - 32s 690ms/step - loss: 0.0028 - accuracy: 0.9994 - val_loss: 13.1333 - val_accuracy: 0.0012\n",
      "Epoch 878/1024\n",
      "47/47 [==============================] - 32s 690ms/step - loss: 0.0025 - accuracy: 0.9994 - val_loss: 13.1467 - val_accuracy: 0.0011\n",
      "Epoch 879/1024\n",
      "47/47 [==============================] - 32s 689ms/step - loss: 0.0028 - accuracy: 0.9994 - val_loss: 13.1472 - val_accuracy: 9.7313e-04\n",
      "Epoch 880/1024\n",
      "47/47 [==============================] - 32s 689ms/step - loss: 0.0027 - accuracy: 0.9994 - val_loss: 13.1702 - val_accuracy: 8.6025e-04\n",
      "Epoch 881/1024\n",
      "47/47 [==============================] - 32s 690ms/step - loss: 0.0028 - accuracy: 0.9994 - val_loss: 13.1799 - val_accuracy: 9.5929e-04\n",
      "Epoch 882/1024\n",
      "47/47 [==============================] - 32s 689ms/step - loss: 0.0025 - accuracy: 0.9994 - val_loss: 13.1542 - val_accuracy: 0.0011\n",
      "Epoch 883/1024\n",
      "47/47 [==============================] - 32s 689ms/step - loss: 0.0025 - accuracy: 0.9995 - val_loss: 13.1523 - val_accuracy: 0.0011\n",
      "Epoch 884/1024\n",
      "47/47 [==============================] - 32s 689ms/step - loss: 0.0026 - accuracy: 0.9994 - val_loss: 13.1830 - val_accuracy: 0.0010\n",
      "Epoch 885/1024\n",
      "47/47 [==============================] - 32s 689ms/step - loss: 0.0025 - accuracy: 0.9994 - val_loss: 13.1828 - val_accuracy: 9.4234e-04\n",
      "Epoch 886/1024\n",
      "47/47 [==============================] - 32s 689ms/step - loss: 0.0029 - accuracy: 0.9994 - val_loss: 13.1566 - val_accuracy: 0.0011\n",
      "Epoch 887/1024\n",
      "47/47 [==============================] - 32s 690ms/step - loss: 0.0029 - accuracy: 0.9994 - val_loss: 13.1454 - val_accuracy: 0.0011\n",
      "Epoch 888/1024\n",
      "47/47 [==============================] - 32s 689ms/step - loss: 0.0028 - accuracy: 0.9994 - val_loss: 13.1408 - val_accuracy: 0.0011\n",
      "Epoch 889/1024\n",
      "47/47 [==============================] - 32s 689ms/step - loss: 0.0026 - accuracy: 0.9994 - val_loss: 13.1562 - val_accuracy: 0.0010\n",
      "Epoch 890/1024\n",
      "47/47 [==============================] - 32s 689ms/step - loss: 0.0027 - accuracy: 0.9993 - val_loss: 13.1192 - val_accuracy: 0.0011\n",
      "Epoch 891/1024\n",
      "47/47 [==============================] - 32s 690ms/step - loss: 0.0027 - accuracy: 0.9994 - val_loss: 13.1248 - val_accuracy: 0.0011\n",
      "Epoch 892/1024\n",
      "47/47 [==============================] - 32s 690ms/step - loss: 0.0026 - accuracy: 0.9994 - val_loss: 13.1361 - val_accuracy: 9.4070e-04\n",
      "Epoch 893/1024\n",
      "47/47 [==============================] - 32s 690ms/step - loss: 0.0026 - accuracy: 0.9994 - val_loss: 13.1330 - val_accuracy: 9.6938e-04\n",
      "Epoch 894/1024\n",
      "47/47 [==============================] - 32s 691ms/step - loss: 0.0029 - accuracy: 0.9994 - val_loss: 13.1533 - val_accuracy: 0.0012\n",
      "Epoch 895/1024\n",
      "47/47 [==============================] - 32s 690ms/step - loss: 0.0029 - accuracy: 0.9994 - val_loss: 13.1656 - val_accuracy: 0.0010\n",
      "Epoch 896/1024\n",
      "47/47 [==============================] - 32s 690ms/step - loss: 0.0028 - accuracy: 0.9994 - val_loss: 13.1691 - val_accuracy: 9.5608e-04\n",
      "Epoch 897/1024\n",
      "47/47 [==============================] - 32s 691ms/step - loss: 0.0027 - accuracy: 0.9994 - val_loss: 13.1926 - val_accuracy: 9.8537e-04\n",
      "Epoch 898/1024\n",
      "47/47 [==============================] - 32s 690ms/step - loss: 0.0027 - accuracy: 0.9994 - val_loss: 13.1305 - val_accuracy: 9.3735e-04\n",
      "Epoch 899/1024\n",
      "47/47 [==============================] - 32s 690ms/step - loss: 0.0027 - accuracy: 0.9995 - val_loss: 13.1562 - val_accuracy: 9.5068e-04\n",
      "Epoch 900/1024\n",
      "47/47 [==============================] - 32s 691ms/step - loss: 0.0026 - accuracy: 0.9994 - val_loss: 13.1323 - val_accuracy: 0.0010\n",
      "Epoch 901/1024\n",
      "47/47 [==============================] - 32s 691ms/step - loss: 0.0029 - accuracy: 0.9993 - val_loss: 13.1631 - val_accuracy: 9.8109e-04\n",
      "Epoch 902/1024\n",
      "47/47 [==============================] - 32s 690ms/step - loss: 0.0026 - accuracy: 0.9994 - val_loss: 13.1570 - val_accuracy: 9.2753e-04\n",
      "Epoch 903/1024\n",
      "47/47 [==============================] - 32s 690ms/step - loss: 0.0026 - accuracy: 0.9995 - val_loss: 13.1380 - val_accuracy: 9.6685e-04\n",
      "Epoch 904/1024\n",
      "47/47 [==============================] - 32s 690ms/step - loss: 0.0028 - accuracy: 0.9994 - val_loss: 13.1164 - val_accuracy: 9.3791e-04\n",
      "Epoch 905/1024\n",
      "47/47 [==============================] - 32s 690ms/step - loss: 0.0026 - accuracy: 0.9994 - val_loss: 13.1529 - val_accuracy: 9.5308e-04\n",
      "Epoch 906/1024\n",
      "47/47 [==============================] - 32s 690ms/step - loss: 0.0026 - accuracy: 0.9995 - val_loss: 13.0968 - val_accuracy: 9.0639e-04\n",
      "Epoch 907/1024\n",
      "47/47 [==============================] - 32s 690ms/step - loss: 0.0027 - accuracy: 0.9995 - val_loss: 13.1599 - val_accuracy: 9.5455e-04\n",
      "Epoch 908/1024\n",
      "47/47 [==============================] - 32s 689ms/step - loss: 0.0027 - accuracy: 0.9994 - val_loss: 13.1245 - val_accuracy: 9.3091e-04\n",
      "Epoch 909/1024\n",
      "47/47 [==============================] - 32s 690ms/step - loss: 0.0025 - accuracy: 0.9994 - val_loss: 13.1570 - val_accuracy: 9.6382e-04\n",
      "Epoch 910/1024\n",
      "47/47 [==============================] - 32s 689ms/step - loss: 0.0025 - accuracy: 0.9995 - val_loss: 13.1525 - val_accuracy: 0.0010\n",
      "Epoch 911/1024\n",
      "47/47 [==============================] - 32s 689ms/step - loss: 0.0023 - accuracy: 0.9995 - val_loss: 13.1670 - val_accuracy: 9.8420e-04\n",
      "Epoch 912/1024\n",
      "47/47 [==============================] - 32s 690ms/step - loss: 0.0024 - accuracy: 0.9995 - val_loss: 13.1394 - val_accuracy: 9.8610e-04\n",
      "Epoch 913/1024\n",
      "47/47 [==============================] - 33s 695ms/step - loss: 0.0026 - accuracy: 0.9994 - val_loss: 13.1342 - val_accuracy: 0.0010\n",
      "Epoch 914/1024\n",
      "47/47 [==============================] - 33s 695ms/step - loss: 0.0030 - accuracy: 0.9993 - val_loss: 13.1209 - val_accuracy: 8.6893e-04\n",
      "Epoch 915/1024\n",
      "47/47 [==============================] - 33s 699ms/step - loss: 0.0027 - accuracy: 0.9994 - val_loss: 13.1392 - val_accuracy: 9.4800e-04\n",
      "Epoch 916/1024\n",
      "47/47 [==============================] - 32s 690ms/step - loss: 0.0028 - accuracy: 0.9994 - val_loss: 13.1520 - val_accuracy: 9.3709e-04\n",
      "Epoch 917/1024\n",
      "47/47 [==============================] - 32s 690ms/step - loss: 0.0028 - accuracy: 0.9994 - val_loss: 13.1449 - val_accuracy: 9.4661e-04\n",
      "Epoch 918/1024\n",
      "47/47 [==============================] - 32s 690ms/step - loss: 0.0027 - accuracy: 0.9994 - val_loss: 13.1492 - val_accuracy: 9.0015e-04\n",
      "Epoch 919/1024\n",
      "47/47 [==============================] - 32s 690ms/step - loss: 0.0028 - accuracy: 0.9994 - val_loss: 13.1551 - val_accuracy: 0.0010\n",
      "Epoch 920/1024\n",
      "47/47 [==============================] - 32s 691ms/step - loss: 0.0024 - accuracy: 0.9995 - val_loss: 13.1406 - val_accuracy: 0.0010\n",
      "Epoch 921/1024\n",
      "47/47 [==============================] - 32s 691ms/step - loss: 0.0025 - accuracy: 0.9994 - val_loss: 13.1662 - val_accuracy: 9.5507e-04\n",
      "Epoch 922/1024\n",
      "47/47 [==============================] - 32s 690ms/step - loss: 0.0027 - accuracy: 0.9994 - val_loss: 13.1352 - val_accuracy: 9.8888e-04\n",
      "Epoch 923/1024\n",
      "47/47 [==============================] - 32s 691ms/step - loss: 0.0025 - accuracy: 0.9995 - val_loss: 13.1568 - val_accuracy: 9.7404e-04\n",
      "Epoch 924/1024\n",
      "47/47 [==============================] - 32s 690ms/step - loss: 0.0026 - accuracy: 0.9994 - val_loss: 13.1199 - val_accuracy: 9.0527e-04\n",
      "Epoch 925/1024\n",
      "47/47 [==============================] - 32s 691ms/step - loss: 0.0028 - accuracy: 0.9994 - val_loss: 13.1069 - val_accuracy: 0.0010\n",
      "Epoch 926/1024\n",
      "47/47 [==============================] - 32s 691ms/step - loss: 0.0024 - accuracy: 0.9994 - val_loss: 13.1161 - val_accuracy: 9.5563e-04\n",
      "Epoch 927/1024\n",
      "47/47 [==============================] - 32s 690ms/step - loss: 0.0024 - accuracy: 0.9994 - val_loss: 13.1408 - val_accuracy: 0.0011\n",
      "Epoch 928/1024\n",
      "47/47 [==============================] - 32s 690ms/step - loss: 0.0021 - accuracy: 0.9995 - val_loss: 13.0962 - val_accuracy: 0.0011\n",
      "Epoch 929/1024\n",
      "47/47 [==============================] - 32s 690ms/step - loss: 0.0025 - accuracy: 0.9994 - val_loss: 13.1248 - val_accuracy: 0.0011\n",
      "Epoch 930/1024\n",
      "47/47 [==============================] - 32s 690ms/step - loss: 0.0027 - accuracy: 0.9994 - val_loss: 13.1084 - val_accuracy: 8.9520e-04\n",
      "Epoch 931/1024\n",
      "47/47 [==============================] - 32s 691ms/step - loss: 0.0026 - accuracy: 0.9995 - val_loss: 13.1195 - val_accuracy: 0.0010\n",
      "Epoch 932/1024\n",
      "47/47 [==============================] - 32s 691ms/step - loss: 0.0027 - accuracy: 0.9994 - val_loss: 13.1528 - val_accuracy: 9.9882e-04\n",
      "Epoch 933/1024\n",
      "47/47 [==============================] - 32s 690ms/step - loss: 0.0026 - accuracy: 0.9995 - val_loss: 13.1259 - val_accuracy: 9.9240e-04\n",
      "Epoch 934/1024\n",
      "47/47 [==============================] - 32s 690ms/step - loss: 0.0027 - accuracy: 0.9994 - val_loss: 13.1375 - val_accuracy: 0.0010\n",
      "Epoch 935/1024\n",
      "47/47 [==============================] - 32s 691ms/step - loss: 0.0031 - accuracy: 0.9994 - val_loss: 13.1363 - val_accuracy: 9.8236e-04\n",
      "Epoch 936/1024\n"
     ]
    },
    {
     "name": "stdout",
     "output_type": "stream",
     "text": [
      "47/47 [==============================] - 32s 690ms/step - loss: 0.0028 - accuracy: 0.9994 - val_loss: 13.1336 - val_accuracy: 9.4864e-04\n",
      "Epoch 937/1024\n",
      "47/47 [==============================] - 32s 690ms/step - loss: 0.0027 - accuracy: 0.9993 - val_loss: 13.1397 - val_accuracy: 9.0350e-04\n",
      "Epoch 938/1024\n",
      "47/47 [==============================] - 32s 690ms/step - loss: 0.0027 - accuracy: 0.9994 - val_loss: 13.1505 - val_accuracy: 9.7178e-04\n",
      "Epoch 939/1024\n",
      "47/47 [==============================] - 32s 690ms/step - loss: 0.0027 - accuracy: 0.9994 - val_loss: 13.1398 - val_accuracy: 9.2078e-04\n",
      "Epoch 940/1024\n",
      "47/47 [==============================] - 32s 690ms/step - loss: 0.0030 - accuracy: 0.9993 - val_loss: 13.1808 - val_accuracy: 9.8699e-04\n",
      "Epoch 941/1024\n",
      "47/47 [==============================] - 32s 690ms/step - loss: 0.0027 - accuracy: 0.9994 - val_loss: 13.1644 - val_accuracy: 9.5338e-04\n",
      "Epoch 942/1024\n",
      "47/47 [==============================] - 32s 689ms/step - loss: 0.0026 - accuracy: 0.9994 - val_loss: 13.1568 - val_accuracy: 9.4958e-04\n",
      "Epoch 943/1024\n",
      "47/47 [==============================] - 32s 689ms/step - loss: 0.0025 - accuracy: 0.9994 - val_loss: 13.1953 - val_accuracy: 9.1210e-04\n",
      "Epoch 944/1024\n",
      "47/47 [==============================] - 32s 689ms/step - loss: 0.0027 - accuracy: 0.9994 - val_loss: 13.1898 - val_accuracy: 9.2056e-04\n",
      "Epoch 945/1024\n",
      "47/47 [==============================] - 32s 689ms/step - loss: 0.0029 - accuracy: 0.9994 - val_loss: 13.2036 - val_accuracy: 9.1399e-04\n",
      "Epoch 946/1024\n",
      "47/47 [==============================] - 32s 690ms/step - loss: 0.0028 - accuracy: 0.9994 - val_loss: 13.1743 - val_accuracy: 0.0010\n",
      "Epoch 947/1024\n",
      "47/47 [==============================] - 32s 689ms/step - loss: 0.0027 - accuracy: 0.9994 - val_loss: 13.1733 - val_accuracy: 9.8199e-04\n",
      "Epoch 948/1024\n",
      "47/47 [==============================] - 32s 689ms/step - loss: 0.0027 - accuracy: 0.9994 - val_loss: 13.1720 - val_accuracy: 9.9962e-04\n",
      "Epoch 949/1024\n",
      "47/47 [==============================] - 32s 690ms/step - loss: 0.0027 - accuracy: 0.9994 - val_loss: 13.1592 - val_accuracy: 9.8429e-04\n",
      "Epoch 950/1024\n",
      "47/47 [==============================] - 32s 688ms/step - loss: 0.0026 - accuracy: 0.9994 - val_loss: 13.1625 - val_accuracy: 0.0010\n",
      "Epoch 951/1024\n",
      "47/47 [==============================] - 32s 690ms/step - loss: 0.0025 - accuracy: 0.9995 - val_loss: 13.1779 - val_accuracy: 9.6307e-04\n",
      "Epoch 952/1024\n",
      "47/47 [==============================] - 32s 690ms/step - loss: 0.0023 - accuracy: 0.9995 - val_loss: 13.1342 - val_accuracy: 9.5896e-04\n",
      "Epoch 953/1024\n",
      "47/47 [==============================] - 32s 689ms/step - loss: 0.0026 - accuracy: 0.9995 - val_loss: 13.1614 - val_accuracy: 9.2989e-04\n",
      "Epoch 954/1024\n",
      "47/47 [==============================] - 32s 689ms/step - loss: 0.0026 - accuracy: 0.9994 - val_loss: 13.1563 - val_accuracy: 9.6570e-04\n",
      "Epoch 955/1024\n",
      "47/47 [==============================] - 32s 689ms/step - loss: 0.0027 - accuracy: 0.9994 - val_loss: 13.1316 - val_accuracy: 0.0010\n",
      "Epoch 956/1024\n",
      "47/47 [==============================] - 32s 690ms/step - loss: 0.0023 - accuracy: 0.9995 - val_loss: 13.1383 - val_accuracy: 9.8288e-04\n",
      "Epoch 957/1024\n",
      "47/47 [==============================] - 32s 689ms/step - loss: 0.0025 - accuracy: 0.9995 - val_loss: 13.1510 - val_accuracy: 0.0010\n",
      "Epoch 958/1024\n",
      "47/47 [==============================] - 32s 689ms/step - loss: 0.0027 - accuracy: 0.9994 - val_loss: 13.1306 - val_accuracy: 9.3992e-04\n",
      "Epoch 959/1024\n",
      "47/47 [==============================] - 32s 689ms/step - loss: 0.0027 - accuracy: 0.9994 - val_loss: 13.1356 - val_accuracy: 0.0010\n",
      "Epoch 960/1024\n",
      "47/47 [==============================] - 32s 690ms/step - loss: 0.0026 - accuracy: 0.9995 - val_loss: 13.1422 - val_accuracy: 0.0010\n",
      "Epoch 961/1024\n",
      "47/47 [==============================] - 33s 694ms/step - loss: 0.0025 - accuracy: 0.9995 - val_loss: 13.1635 - val_accuracy: 9.7593e-04\n",
      "Epoch 962/1024\n",
      "47/47 [==============================] - 33s 694ms/step - loss: 0.0029 - accuracy: 0.9994 - val_loss: 13.1538 - val_accuracy: 9.5622e-04\n",
      "Epoch 963/1024\n",
      "47/47 [==============================] - 32s 689ms/step - loss: 0.0027 - accuracy: 0.9994 - val_loss: 13.1348 - val_accuracy: 9.5014e-04\n",
      "Epoch 964/1024\n",
      "47/47 [==============================] - 32s 689ms/step - loss: 0.0027 - accuracy: 0.9994 - val_loss: 13.1498 - val_accuracy: 9.7633e-04\n",
      "Epoch 965/1024\n",
      "47/47 [==============================] - 32s 689ms/step - loss: 0.0026 - accuracy: 0.9994 - val_loss: 13.1587 - val_accuracy: 9.6424e-04\n",
      "Epoch 966/1024\n",
      "47/47 [==============================] - 32s 690ms/step - loss: 0.0028 - accuracy: 0.9994 - val_loss: 13.1741 - val_accuracy: 9.5599e-04\n",
      "Epoch 967/1024\n",
      "47/47 [==============================] - 32s 689ms/step - loss: 0.0025 - accuracy: 0.9994 - val_loss: 13.1713 - val_accuracy: 9.0218e-04\n",
      "Epoch 968/1024\n",
      "47/47 [==============================] - 32s 689ms/step - loss: 0.0024 - accuracy: 0.9994 - val_loss: 13.1901 - val_accuracy: 9.8489e-04\n",
      "Epoch 969/1024\n",
      "47/47 [==============================] - 32s 690ms/step - loss: 0.0028 - accuracy: 0.9993 - val_loss: 13.2028 - val_accuracy: 8.8731e-04\n",
      "Epoch 970/1024\n",
      "47/47 [==============================] - 32s 689ms/step - loss: 0.0027 - accuracy: 0.9994 - val_loss: 13.2326 - val_accuracy: 0.0010\n",
      "Epoch 971/1024\n",
      "47/47 [==============================] - 32s 689ms/step - loss: 0.0022 - accuracy: 0.9995 - val_loss: 13.2001 - val_accuracy: 9.4805e-04\n",
      "Epoch 972/1024\n",
      "47/47 [==============================] - 32s 690ms/step - loss: 0.0028 - accuracy: 0.9994 - val_loss: 13.1756 - val_accuracy: 9.6265e-04\n",
      "Epoch 973/1024\n",
      "47/47 [==============================] - 32s 690ms/step - loss: 0.0027 - accuracy: 0.9995 - val_loss: 13.2218 - val_accuracy: 9.4682e-04\n",
      "Epoch 974/1024\n",
      "47/47 [==============================] - 32s 690ms/step - loss: 0.0028 - accuracy: 0.9995 - val_loss: 13.2028 - val_accuracy: 9.3648e-04\n",
      "Epoch 975/1024\n",
      "47/47 [==============================] - 32s 689ms/step - loss: 0.0023 - accuracy: 0.9995 - val_loss: 13.1902 - val_accuracy: 9.0699e-04\n",
      "Epoch 976/1024\n",
      "47/47 [==============================] - 32s 689ms/step - loss: 0.0025 - accuracy: 0.9994 - val_loss: 13.2057 - val_accuracy: 9.0344e-04\n",
      "Epoch 977/1024\n",
      "47/47 [==============================] - 32s 690ms/step - loss: 0.0024 - accuracy: 0.9994 - val_loss: 13.2109 - val_accuracy: 9.3004e-04\n",
      "Epoch 978/1024\n",
      "47/47 [==============================] - 32s 689ms/step - loss: 0.0024 - accuracy: 0.9995 - val_loss: 13.2141 - val_accuracy: 9.1940e-04\n",
      "Epoch 979/1024\n",
      "47/47 [==============================] - 32s 689ms/step - loss: 0.0024 - accuracy: 0.9995 - val_loss: 13.1968 - val_accuracy: 8.6731e-04\n",
      "Epoch 980/1024\n",
      "47/47 [==============================] - 32s 689ms/step - loss: 0.0025 - accuracy: 0.9994 - val_loss: 13.1921 - val_accuracy: 9.2971e-04\n",
      "Epoch 981/1024\n",
      "47/47 [==============================] - 32s 689ms/step - loss: 0.0025 - accuracy: 0.9995 - val_loss: 13.2285 - val_accuracy: 9.5609e-04\n",
      "Epoch 982/1024\n",
      "47/47 [==============================] - 32s 689ms/step - loss: 0.0024 - accuracy: 0.9995 - val_loss: 13.1988 - val_accuracy: 8.8791e-04\n",
      "Epoch 983/1024\n",
      "47/47 [==============================] - 32s 690ms/step - loss: 0.0028 - accuracy: 0.9994 - val_loss: 13.2141 - val_accuracy: 8.7675e-04\n",
      "Epoch 984/1024\n",
      "47/47 [==============================] - 32s 689ms/step - loss: 0.0024 - accuracy: 0.9995 - val_loss: 13.2149 - val_accuracy: 9.3939e-04\n",
      "Epoch 985/1024\n",
      "47/47 [==============================] - 32s 689ms/step - loss: 0.0026 - accuracy: 0.9994 - val_loss: 13.2077 - val_accuracy: 9.8866e-04\n",
      "Epoch 986/1024\n",
      "47/47 [==============================] - 32s 690ms/step - loss: 0.0028 - accuracy: 0.9994 - val_loss: 13.1906 - val_accuracy: 9.4097e-04\n",
      "Epoch 987/1024\n",
      "47/47 [==============================] - 32s 689ms/step - loss: 0.0028 - accuracy: 0.9994 - val_loss: 13.1916 - val_accuracy: 0.0010\n",
      "Epoch 988/1024\n",
      "47/47 [==============================] - 32s 690ms/step - loss: 0.0026 - accuracy: 0.9994 - val_loss: 13.1947 - val_accuracy: 0.0010\n",
      "Epoch 989/1024\n",
      "47/47 [==============================] - 32s 689ms/step - loss: 0.0023 - accuracy: 0.9995 - val_loss: 13.1850 - val_accuracy: 9.0649e-04\n",
      "Epoch 990/1024\n",
      "47/47 [==============================] - 32s 690ms/step - loss: 0.0027 - accuracy: 0.9994 - val_loss: 13.2143 - val_accuracy: 8.9979e-04\n",
      "Epoch 991/1024\n",
      "47/47 [==============================] - 32s 688ms/step - loss: 0.0027 - accuracy: 0.9994 - val_loss: 13.1819 - val_accuracy: 9.3003e-04\n",
      "Epoch 992/1024\n",
      "47/47 [==============================] - 32s 689ms/step - loss: 0.0025 - accuracy: 0.9994 - val_loss: 13.1920 - val_accuracy: 0.0010\n",
      "Epoch 993/1024\n",
      "47/47 [==============================] - 32s 690ms/step - loss: 0.0025 - accuracy: 0.9994 - val_loss: 13.1963 - val_accuracy: 0.0011\n",
      "Epoch 994/1024\n",
      "47/47 [==============================] - 32s 691ms/step - loss: 0.0023 - accuracy: 0.9995 - val_loss: 13.1997 - val_accuracy: 9.9989e-04\n",
      "Epoch 995/1024\n",
      "47/47 [==============================] - 32s 690ms/step - loss: 0.0028 - accuracy: 0.9994 - val_loss: 13.1959 - val_accuracy: 9.7553e-04\n",
      "Epoch 996/1024\n",
      "47/47 [==============================] - 32s 688ms/step - loss: 0.0023 - accuracy: 0.9995 - val_loss: 13.2029 - val_accuracy: 9.2756e-04\n",
      "Epoch 997/1024\n",
      "47/47 [==============================] - 32s 690ms/step - loss: 0.0028 - accuracy: 0.9993 - val_loss: 13.2272 - val_accuracy: 9.1965e-04\n",
      "Epoch 998/1024\n",
      "47/47 [==============================] - 32s 689ms/step - loss: 0.0024 - accuracy: 0.9995 - val_loss: 13.2138 - val_accuracy: 9.9151e-04\n",
      "Epoch 999/1024\n",
      "47/47 [==============================] - 32s 690ms/step - loss: 0.0028 - accuracy: 0.9993 - val_loss: 13.2234 - val_accuracy: 9.3969e-04\n",
      "Epoch 1000/1024\n",
      "47/47 [==============================] - 32s 689ms/step - loss: 0.0030 - accuracy: 0.9994 - val_loss: 13.2274 - val_accuracy: 9.6802e-04\n",
      "Epoch 1001/1024\n",
      "47/47 [==============================] - 32s 689ms/step - loss: 0.0026 - accuracy: 0.9994 - val_loss: 13.2136 - val_accuracy: 9.9528e-04\n",
      "Epoch 1002/1024\n",
      "47/47 [==============================] - 32s 691ms/step - loss: 0.0025 - accuracy: 0.9994 - val_loss: 13.1816 - val_accuracy: 9.5787e-04\n",
      "Epoch 1003/1024\n",
      "47/47 [==============================] - 32s 690ms/step - loss: 0.0025 - accuracy: 0.9994 - val_loss: 13.1832 - val_accuracy: 9.1554e-04\n",
      "Epoch 1004/1024\n",
      "47/47 [==============================] - 32s 689ms/step - loss: 0.0028 - accuracy: 0.9994 - val_loss: 13.1812 - val_accuracy: 9.5997e-04\n",
      "Epoch 1005/1024\n",
      "47/47 [==============================] - 32s 689ms/step - loss: 0.0029 - accuracy: 0.9994 - val_loss: 13.2094 - val_accuracy: 9.8119e-04\n",
      "Epoch 1006/1024\n",
      "47/47 [==============================] - 32s 689ms/step - loss: 0.0024 - accuracy: 0.9995 - val_loss: 13.2087 - val_accuracy: 9.5529e-04\n",
      "Epoch 1007/1024\n",
      "47/47 [==============================] - 32s 691ms/step - loss: 0.0026 - accuracy: 0.9994 - val_loss: 13.1841 - val_accuracy: 0.0010\n",
      "Epoch 1008/1024\n",
      "47/47 [==============================] - 32s 690ms/step - loss: 0.0027 - accuracy: 0.9994 - val_loss: 13.1953 - val_accuracy: 9.5834e-04\n",
      "Epoch 1009/1024\n",
      "47/47 [==============================] - 33s 695ms/step - loss: 0.0024 - accuracy: 0.9994 - val_loss: 13.1975 - val_accuracy: 8.8501e-04\n",
      "Epoch 1010/1024\n",
      "47/47 [==============================] - 33s 695ms/step - loss: 0.0027 - accuracy: 0.9994 - val_loss: 13.2113 - val_accuracy: 9.9926e-04\n",
      "Epoch 1011/1024\n",
      "47/47 [==============================] - 32s 690ms/step - loss: 0.0026 - accuracy: 0.9995 - val_loss: 13.2154 - val_accuracy: 9.7306e-04\n",
      "Epoch 1012/1024\n",
      "47/47 [==============================] - 32s 689ms/step - loss: 0.0025 - accuracy: 0.9994 - val_loss: 13.2122 - val_accuracy: 7.9118e-04\n",
      "Epoch 1013/1024\n",
      "47/47 [==============================] - 32s 689ms/step - loss: 0.0030 - accuracy: 0.9994 - val_loss: 13.2291 - val_accuracy: 8.9467e-04\n",
      "Epoch 1014/1024\n",
      "47/47 [==============================] - 32s 690ms/step - loss: 0.0026 - accuracy: 0.9994 - val_loss: 13.2358 - val_accuracy: 9.5547e-04\n",
      "Epoch 1015/1024\n",
      "47/47 [==============================] - 32s 689ms/step - loss: 0.0024 - accuracy: 0.9995 - val_loss: 13.1828 - val_accuracy: 9.3293e-04\n",
      "Epoch 1016/1024\n",
      "47/47 [==============================] - 32s 690ms/step - loss: 0.0022 - accuracy: 0.9995 - val_loss: 13.1998 - val_accuracy: 9.2256e-04\n",
      "Epoch 1017/1024\n",
      "47/47 [==============================] - 32s 691ms/step - loss: 0.0022 - accuracy: 0.9995 - val_loss: 13.2056 - val_accuracy: 9.5577e-04\n",
      "Epoch 1018/1024\n",
      "47/47 [==============================] - 32s 691ms/step - loss: 0.0025 - accuracy: 0.9994 - val_loss: 13.2478 - val_accuracy: 8.5966e-04\n",
      "Epoch 1019/1024\n",
      "47/47 [==============================] - 32s 690ms/step - loss: 0.0027 - accuracy: 0.9994 - val_loss: 13.2311 - val_accuracy: 9.0591e-04\n",
      "Epoch 1020/1024\n",
      "47/47 [==============================] - 32s 690ms/step - loss: 0.0024 - accuracy: 0.9995 - val_loss: 13.2289 - val_accuracy: 9.6463e-04\n",
      "Epoch 1021/1024\n",
      "47/47 [==============================] - 32s 690ms/step - loss: 0.0025 - accuracy: 0.9994 - val_loss: 13.1927 - val_accuracy: 9.0577e-04\n",
      "Epoch 1022/1024\n",
      "47/47 [==============================] - 32s 690ms/step - loss: 0.0025 - accuracy: 0.9994 - val_loss: 13.2107 - val_accuracy: 8.7906e-04\n",
      "Epoch 1023/1024\n",
      "47/47 [==============================] - 32s 691ms/step - loss: 0.0026 - accuracy: 0.9994 - val_loss: 13.1956 - val_accuracy: 8.6826e-04\n",
      "Epoch 1024/1024\n",
      "47/47 [==============================] - 32s 690ms/step - loss: 0.0025 - accuracy: 0.9995 - val_loss: 13.2087 - val_accuracy: 8.7897e-04\n",
      "CPU times: user 5h 56min 41s, sys: 50min 13s, total: 6h 46min 55s\n",
      "Wall time: 9h 24min 30s\n"
     ]
    }
   ],
   "source": [
    "%%time\n",
    "import kashgari\n",
    "from kashgari.tasks.labeling import BiLSTM_CRF_Model\n",
    "from kashgari.embeddings import BertEmbedding\n",
    "kashgari.config.use_cudnn_cell = True\n",
    "bert_embedding = BertEmbedding(embedding_path, \n",
    "                           sequence_length='auto',\n",
    "                           trainable=True,\n",
    "                           task='kashgari.LABELING', \n",
    "                          )\n",
    "model = BiLSTM_CRF_Model(bert_embedding)\n",
    "history = model.fit(train_x,\n",
    "                    train_y,\n",
    "                    valid_x,\n",
    "                    valid_y,\n",
    "                    epochs=epochs,\n",
    "                    batch_size=batch_size,\n",
    "                   )"
   ]
  },
  {
   "cell_type": "code",
   "execution_count": 11,
   "metadata": {},
   "outputs": [
    {
     "name": "stderr",
     "output_type": "stream",
     "text": [
      "2020-12-15 08:08:02,335 [WARNING] kashgari - Sequence length is None, will use the max length of the samples, which is 65\n",
      "2020-12-15 08:08:02,445 [DEBUG] kashgari - predict seq_length: None, input: (2, 15233, 65)\n"
     ]
    },
    {
     "name": "stdout",
     "output_type": "stream",
     "text": [
      "477/477 [==============================] - 42s 88ms/step\n"
     ]
    },
    {
     "name": "stderr",
     "output_type": "stream",
     "text": [
      "2020-12-15 08:08:49,066 [DEBUG] kashgari - predict output: (15233, 65)\n",
      "2020-12-15 08:08:49,067 [DEBUG] kashgari - predict output argmax: [[0 1 1 ... 1 1 1]\n",
      " [0 1 1 ... 1 1 1]\n",
      " [0 1 1 ... 1 1 1]\n",
      " ...\n",
      " [0 1 1 ... 1 1 1]\n",
      " [0 1 1 ... 1 1 1]\n",
      " [0 1 1 ... 1 1 1]]\n"
     ]
    },
    {
     "name": "stdout",
     "output_type": "stream",
     "text": [
      "\n",
      "                precision    recall  f1-score   support\n",
      "\n",
      "          time     0.8339    0.8292    0.8315       878\n",
      "      med_exam     0.9453    0.9030    0.9237       134\n",
      "          name     0.9756    0.9091    0.9412        88\n",
      "      location     0.9381    0.8922    0.9146       102\n",
      "         money     0.9268    0.8837    0.9048        43\n",
      "    profession     0.8750    0.4118    0.5600        17\n",
      "       contact     0.8462    0.6111    0.7097        18\n",
      "            ID     1.0000    0.4444    0.6154         9\n",
      "        family     1.0000    0.6364    0.7778        11\n",
      "     education     1.0000    0.5000    0.6667         2\n",
      "clinical_event     0.0000    0.0000    0.0000         1\n",
      "  organization     0.0000    0.0000    0.0000         2\n",
      "        others     0.0000    0.0000    0.0000         1\n",
      "\n",
      "     micro avg     0.8676    0.8331    0.8500      1306\n",
      "     macro avg     0.8670    0.8331    0.8473      1306\n",
      "\n"
     ]
    },
    {
     "name": "stderr",
     "output_type": "stream",
     "text": [
      "2020-12-15 08:10:02,271 [INFO] kashgari - model saved to /home/Danny/AI-CUP-2020/Danny/kashgari/model/bert-chinese_epoch_1024_batch_1024\n"
     ]
    },
    {
     "data": {
      "text/plain": [
       "'/home/Danny/AI-CUP-2020/Danny/kashgari/model/bert-chinese_epoch_1024_batch_1024'"
      ]
     },
     "execution_count": 11,
     "metadata": {},
     "output_type": "execute_result"
    }
   ],
   "source": [
    "model.evaluate(test_x, test_y)\n",
    "model_path = 'model/{}_epoch_{}_batch_{}'.format(model_name, epochs, batch_size)\n",
    "model.save(model_path)"
   ]
  },
  {
   "cell_type": "code",
   "execution_count": 12,
   "metadata": {},
   "outputs": [
    {
     "data": {
      "image/png": "[encoded data removed]",
      "text/plain": [
       "<Figure size 432x288 with 1 Axes>"
      ]
     },
     "metadata": {
      "needs_background": "light"
     },
     "output_type": "display_data"
    }
   ],
   "source": [
    "plt.plot(history.history['accuracy'])\n",
    "plt.plot(history.history['val_accuracy'])\n",
    "plt.plot(history.history['loss'])\n",
    "plt.plot(history.history['val_loss'])\n",
    "plt.title('model accuracy')\n",
    "plt.ylabel('accuracy')\n",
    "plt.xlabel('epoch')\n",
    "plt.legend(['accuracy', 'val_accuracy', 'loss', 'val_loss'])\n",
    "plt.show()"
   ]
  },
  {
   "cell_type": "code",
   "execution_count": 13,
   "metadata": {},
   "outputs": [],
   "source": [
    "# 需要儲存article_id, 轉成dataframe\n",
    "def predicting_txt_to_dataframe(path):    \n",
    "    with open(path, 'r') as f:\n",
    "        txt = str(f.read())\n",
    "        txt_list = txt.split('\\n')\n",
    "    row_list = list()\n",
    "    tmp_list = list()\n",
    "    for row in txt_list:\n",
    "        if row == '--------------------':\n",
    "            tmp_list[0] = tmp_list[0].replace('article_id:', '')\n",
    "            tmp_list[0] = int(tmp_list[0])\n",
    "            row_list.append(tmp_list)\n",
    "            tmp_list = list()\n",
    "            continue\n",
    "        if len(row) > 0:\n",
    "            tmp_list.append(row)\n",
    "    df = pd.DataFrame(row_list, columns=['article_id','text'])\n",
    "    return df"
   ]
  },
  {
   "cell_type": "code",
   "execution_count": 14,
   "metadata": {},
   "outputs": [],
   "source": [
    "def predict_NER(text):\n",
    "    x_list = list()    \n",
    "    text_list = re.split('\\uff0c|\\u3002|\\uff1f', text)\n",
    "    for article in text_list:\n",
    "        x_list.append([i for i in article])\n",
    "    y_list_list = model.predict(x_list)\n",
    "    y_list = list()\n",
    "    for sentence in y_list_list:\n",
    "        for word in sentence:\n",
    "            y_list.append(word)\n",
    "        y_list.append('O') # append(，。？)\n",
    "    y_list = y_list[:-1]\n",
    "    return y_list"
   ]
  },
  {
   "cell_type": "code",
   "execution_count": 15,
   "metadata": {},
   "outputs": [],
   "source": [
    "def output_NER(article_id, text, y_list):\n",
    "    output_str = str()\n",
    "    flag = False\n",
    "    for i, j in enumerate(y_list):\n",
    "        if j != 'O':\n",
    "            if j[0] == 'B':\n",
    "                start_position = i\n",
    "                entity_type = j.split('-')[-1]\n",
    "                flag = True\n",
    "        elif j == 'O' and flag == True:\n",
    "            end_position = i\n",
    "            flag = False\n",
    "            entity_text = text[start_position: end_position]\n",
    "            entity = '{}\\t{}\\t{}\\t{}\\t{}\\n'.format(article_id, start_position, end_position, entity_text, entity_type)  \n",
    "            output_str += entity\n",
    "    return output_str"
   ]
  },
  {
   "cell_type": "code",
   "execution_count": 16,
   "metadata": {},
   "outputs": [
    {
     "name": "stderr",
     "output_type": "stream",
     "text": [
      "2020-12-15 08:10:02,437 [DEBUG] kashgari - predict seq_length: None, input: (2, 70, 17)\n"
     ]
    },
    {
     "name": "stdout",
     "output_type": "stream",
     "text": [
      "3/3 [==============================] - 0s 24ms/step\n"
     ]
    },
    {
     "name": "stderr",
     "output_type": "stream",
     "text": [
      "2020-12-15 08:10:06,302 [DEBUG] kashgari - predict output: (70, 17)\n",
      "2020-12-15 08:10:06,303 [DEBUG] kashgari - predict output argmax: [[0 1 1 ... 1 0 1]\n",
      " [0 1 1 ... 1 1 1]\n",
      " [0 1 1 ... 1 1 1]\n",
      " ...\n",
      " [0 1 0 ... 1 1 1]\n",
      " [0 1 1 ... 1 1 1]\n",
      " [0 0 0 ... 0 0 0]]\n",
      "2020-12-15 08:10:06,306 [DEBUG] kashgari - predict seq_length: None, input: (2, 131, 28)\n"
     ]
    },
    {
     "name": "stdout",
     "output_type": "stream",
     "text": [
      "5/5 [==============================] - 0s 38ms/step\n"
     ]
    },
    {
     "name": "stderr",
     "output_type": "stream",
     "text": [
      "2020-12-15 08:10:10,248 [DEBUG] kashgari - predict output: (131, 28)\n",
      "2020-12-15 08:10:10,249 [DEBUG] kashgari - predict output argmax: [[0 1 1 ... 1 1 1]\n",
      " [0 1 1 ... 1 1 1]\n",
      " [0 1 1 ... 1 1 1]\n",
      " ...\n",
      " [0 1 1 ... 1 1 1]\n",
      " [0 1 1 ... 1 1 1]\n",
      " [0 0 0 ... 0 0 0]]\n",
      "2020-12-15 08:10:10,253 [DEBUG] kashgari - predict seq_length: None, input: (2, 198, 47)\n"
     ]
    },
    {
     "name": "stdout",
     "output_type": "stream",
     "text": [
      "7/7 [==============================] - 0s 59ms/step\n"
     ]
    },
    {
     "name": "stderr",
     "output_type": "stream",
     "text": [
      "2020-12-15 08:10:14,443 [DEBUG] kashgari - predict output: (198, 47)\n",
      "2020-12-15 08:10:14,444 [DEBUG] kashgari - predict output argmax: [[0 1 1 ... 1 1 1]\n",
      " [0 1 1 ... 1 1 1]\n",
      " [0 1 1 ... 1 1 1]\n",
      " ...\n",
      " [0 1 1 ... 1 1 1]\n",
      " [0 1 1 ... 1 1 1]\n",
      " [0 1 1 ... 1 1 1]]\n",
      "2020-12-15 08:10:14,448 [DEBUG] kashgari - predict seq_length: None, input: (2, 96, 41)\n"
     ]
    },
    {
     "name": "stdout",
     "output_type": "stream",
     "text": [
      "3/3 [==============================] - 0s 36ms/step\n"
     ]
    },
    {
     "name": "stderr",
     "output_type": "stream",
     "text": [
      "2020-12-15 08:10:17,193 [DEBUG] kashgari - predict output: (96, 41)\n",
      "2020-12-15 08:10:17,194 [DEBUG] kashgari - predict output argmax: [[0 1 1 ... 1 1 1]\n",
      " [0 1 1 ... 1 1 1]\n",
      " [0 1 1 ... 1 1 1]\n",
      " ...\n",
      " [0 1 1 ... 1 1 1]\n",
      " [0 1 1 ... 1 1 1]\n",
      " [0 0 0 ... 0 0 0]]\n",
      "2020-12-15 08:10:17,196 [DEBUG] kashgari - predict seq_length: None, input: (2, 73, 17)\n"
     ]
    },
    {
     "name": "stdout",
     "output_type": "stream",
     "text": [
      "3/3 [==============================] - 0s 22ms/step\n"
     ]
    },
    {
     "name": "stderr",
     "output_type": "stream",
     "text": [
      "2020-12-15 08:10:17,326 [DEBUG] kashgari - predict output: (73, 17)\n",
      "2020-12-15 08:10:17,327 [DEBUG] kashgari - predict output argmax: [[0 1 1 ... 1 1 1]\n",
      " [0 1 9 ... 1 1 1]\n",
      " [0 1 1 ... 1 1 1]\n",
      " ...\n",
      " [0 1 1 ... 1 1 1]\n",
      " [0 1 0 ... 1 1 1]\n",
      " [0 0 0 ... 0 0 0]]\n",
      "2020-12-15 08:10:17,332 [DEBUG] kashgari - predict seq_length: None, input: (2, 266, 23)\n"
     ]
    },
    {
     "name": "stdout",
     "output_type": "stream",
     "text": [
      "9/9 [==============================] - 0s 41ms/step\n"
     ]
    },
    {
     "name": "stderr",
     "output_type": "stream",
     "text": [
      "2020-12-15 08:10:21,463 [DEBUG] kashgari - predict output: (266, 23)\n",
      "2020-12-15 08:10:21,464 [DEBUG] kashgari - predict output argmax: [[0 1 1 ... 1 1 1]\n",
      " [0 1 1 ... 1 1 1]\n",
      " [0 1 1 ... 1 1 1]\n",
      " ...\n",
      " [0 1 1 ... 1 1 1]\n",
      " [0 1 1 ... 1 1 1]\n",
      " [0 1 1 ... 1 1 1]]\n",
      "2020-12-15 08:10:21,470 [DEBUG] kashgari - predict seq_length: None, input: (2, 308, 21)\n"
     ]
    },
    {
     "name": "stdout",
     "output_type": "stream",
     "text": [
      "10/10 [==============================] - 0s 34ms/step\n"
     ]
    },
    {
     "name": "stderr",
     "output_type": "stream",
     "text": [
      "2020-12-15 08:10:26,222 [DEBUG] kashgari - predict output: (308, 21)\n",
      "2020-12-15 08:10:26,223 [DEBUG] kashgari - predict output argmax: [[0 1 1 ... 1 1 1]\n",
      " [0 1 0 ... 1 1 1]\n",
      " [0 1 1 ... 1 1 1]\n",
      " ...\n",
      " [0 1 1 ... 1 1 1]\n",
      " [0 1 0 ... 1 1 1]\n",
      " [0 0 0 ... 0 0 0]]\n",
      "2020-12-15 08:10:26,226 [DEBUG] kashgari - predict seq_length: None, input: (2, 139, 38)\n"
     ]
    },
    {
     "name": "stdout",
     "output_type": "stream",
     "text": [
      "5/5 [==============================] - 0s 45ms/step\n"
     ]
    },
    {
     "name": "stderr",
     "output_type": "stream",
     "text": [
      "2020-12-15 08:10:30,233 [DEBUG] kashgari - predict output: (139, 38)\n",
      "2020-12-15 08:10:30,234 [DEBUG] kashgari - predict output argmax: [[0 1 1 ... 1 1 1]\n",
      " [0 1 1 ... 1 1 1]\n",
      " [0 1 1 ... 1 1 1]\n",
      " ...\n",
      " [0 1 1 ... 1 1 1]\n",
      " [0 1 1 ... 1 1 1]\n",
      " [0 0 0 ... 0 0 0]]\n",
      "2020-12-15 08:10:30,237 [DEBUG] kashgari - predict seq_length: None, input: (2, 167, 22)\n"
     ]
    },
    {
     "name": "stdout",
     "output_type": "stream",
     "text": [
      "6/6 [==============================] - 0s 34ms/step\n"
     ]
    },
    {
     "name": "stderr",
     "output_type": "stream",
     "text": [
      "2020-12-15 08:10:34,182 [DEBUG] kashgari - predict output: (167, 22)\n",
      "2020-12-15 08:10:34,183 [DEBUG] kashgari - predict output argmax: [[0 1 1 ... 5 5 5]\n",
      " [0 1 1 ... 1 1 1]\n",
      " [0 1 0 ... 1 1 1]\n",
      " ...\n",
      " [0 1 1 ... 1 1 1]\n",
      " [0 1 1 ... 4 4 4]\n",
      " [0 0 0 ... 0 0 0]]\n",
      "2020-12-15 08:10:34,189 [DEBUG] kashgari - predict seq_length: None, input: (2, 272, 41)\n"
     ]
    },
    {
     "name": "stdout",
     "output_type": "stream",
     "text": [
      "9/9 [==============================] - 0s 55ms/step\n"
     ]
    },
    {
     "name": "stderr",
     "output_type": "stream",
     "text": [
      "2020-12-15 08:10:38,476 [DEBUG] kashgari - predict output: (272, 41)\n",
      "2020-12-15 08:10:38,476 [DEBUG] kashgari - predict output argmax: [[0 1 1 ... 5 5 5]\n",
      " [0 1 7 ... 4 4 4]\n",
      " [0 1 1 ... 1 1 1]\n",
      " ...\n",
      " [0 1 1 ... 1 1 1]\n",
      " [0 1 1 ... 1 1 1]\n",
      " [0 0 0 ... 0 0 0]]\n",
      "2020-12-15 08:10:38,479 [DEBUG] kashgari - predict seq_length: None, input: (2, 143, 63)\n"
     ]
    },
    {
     "name": "stdout",
     "output_type": "stream",
     "text": [
      "5/5 [==============================] - 0s 66ms/step\n"
     ]
    },
    {
     "name": "stderr",
     "output_type": "stream",
     "text": [
      "2020-12-15 08:10:42,579 [DEBUG] kashgari - predict output: (143, 63)\n",
      "2020-12-15 08:10:42,579 [DEBUG] kashgari - predict output argmax: [[0 1 1 ... 1 1 1]\n",
      " [0 1 1 ... 1 1 1]\n",
      " [0 1 1 ... 1 1 1]\n",
      " ...\n",
      " [0 1 1 ... 1 1 1]\n",
      " [0 1 1 ... 1 1 1]\n",
      " [0 0 0 ... 0 0 0]]\n",
      "2020-12-15 08:10:42,586 [DEBUG] kashgari - predict seq_length: None, input: (2, 663, 42)\n"
     ]
    },
    {
     "name": "stdout",
     "output_type": "stream",
     "text": [
      "21/21 [==============================] - 1s 59ms/step\n"
     ]
    },
    {
     "name": "stderr",
     "output_type": "stream",
     "text": [
      "2020-12-15 08:10:47,576 [DEBUG] kashgari - predict output: (663, 42)\n",
      "2020-12-15 08:10:47,577 [DEBUG] kashgari - predict output argmax: [[0 1 1 ... 1 1 1]\n",
      " [0 1 1 ... 1 1 1]\n",
      " [0 1 1 ... 1 1 1]\n",
      " ...\n",
      " [0 1 1 ... 1 1 1]\n",
      " [0 1 1 ... 1 1 1]\n",
      " [0 0 0 ... 0 0 0]]\n",
      "2020-12-15 08:10:47,579 [DEBUG] kashgari - predict seq_length: None, input: (2, 39, 25)\n"
     ]
    },
    {
     "name": "stdout",
     "output_type": "stream",
     "text": [
      "2/2 [==============================] - 0s 15ms/step\n"
     ]
    },
    {
     "name": "stderr",
     "output_type": "stream",
     "text": [
      "2020-12-15 08:10:51,344 [DEBUG] kashgari - predict output: (39, 25)\n",
      "2020-12-15 08:10:51,347 [DEBUG] kashgari - predict output argmax: [[0 1 1 1 1 0 1 1 1 1 1 1 1 1 1 1 1 1 1 1 1 1 1 1 1]\n",
      " [0 1 1 1 1 0 1 1 1 1 1 1 1 1 1 1 1 1 1 1 1 1 1 1 1]\n",
      " [0 1 1 1 1 1 1 1 1 1 1 1 1 1 1 1 0 1 1 1 1 1 1 1 1]\n",
      " [0 1 1 1 1 1 1 1 1 1 1 0 1 1 1 1 1 1 1 1 1 1 1 1 1]\n",
      " [0 1 1 1 1 1 1 1 1 1 1 1 0 1 1 1 1 1 1 1 1 1 1 1 1]\n",
      " [0 1 1 1 1 0 1 1 1 1 1 1 1 1 1 1 1 1 1 1 1 1 1 1 1]\n",
      " [0 1 1 1 0 1 1 1 1 1 1 1 1 1 1 1 1 1 1 1 1 1 1 1 1]\n",
      " [0 1 1 1 1 0 1 1 1 1 1 1 1 1 1 1 1 1 1 1 1 1 1 1 1]\n",
      " [0 1 1 0 1 1 1 1 1 1 1 1 1 1 1 1 1 1 1 1 1 1 1 1 1]\n",
      " [0 1 1 1 1 1 1 1 1 1 1 1 0 1 1 1 1 1 1 1 1 1 1 1 1]\n",
      " [0 1 1 1 1 1 1 1 1 1 0 1 1 1 1 1 1 1 1 1 1 1 1 1 1]\n",
      " [0 1 1 1 1 1 1 0 1 1 1 1 1 1 1 1 1 1 1 1 1 1 1 1 1]\n",
      " [0 1 1 1 1 0 1 1 1 1 1 1 1 1 1 1 1 1 1 1 1 1 1 1 1]\n",
      " [0 1 1 1 1 0 1 1 1 1 1 1 1 1 1 1 1 1 1 1 1 1 1 1 1]\n",
      " [0 1 1 1 1 1 1 1 1 1 1 1 1 1 0 1 1 1 1 1 1 1 1 1 1]\n",
      " [0 1 1 1 1 0 1 1 1 1 1 1 1 1 1 1 1 1 1 1 1 1 1 1 1]\n",
      " [0 1 1 1 0 1 1 1 1 1 1 1 1 1 1 1 1 1 1 1 1 1 1 1 1]\n",
      " [0 1 1 1 1 1 1 1 1 1 1 1 1 1 0 1 1 1 1 1 1 1 1 1 1]\n",
      " [0 1 1 1 1 1 0 1 1 1 1 1 1 1 1 1 1 1 1 1 1 1 1 1 1]\n",
      " [0 1 1 1 1 1 1 1 1 1 1 1 1 1 1 1 1 0 1 1 1 1 1 1 1]\n",
      " [0 1 1 1 1 3 2 1 1 1 1 0 1 1 1 1 1 1 1 1 1 1 1 1 1]\n",
      " [0 1 1 1 1 0 1 1 1 1 1 1 1 1 1 1 1 1 1 1 1 1 1 1 1]\n",
      " [0 1 1 1 1 1 1 1 1 1 1 0 1 1 1 1 1 1 1 1 1 1 1 1 1]\n",
      " [0 1 1 1 1 0 1 1 1 1 1 1 1 1 1 1 1 1 1 1 1 1 1 1 1]\n",
      " [0 1 1 1 1 1 0 1 1 1 1 1 1 1 1 1 1 1 1 1 1 1 1 1 1]\n",
      " [0 1 1 1 1 0 1 1 1 1 1 1 1 1 1 1 1 1 1 1 1 1 1 1 1]\n",
      " [0 1 1 1 1 1 1 1 1 1 1 1 1 1 1 1 1 1 1 1 1 1 1 1 0]\n",
      " [0 3 2 1 1 0 1 1 1 1 1 1 1 1 1 1 1 1 1 1 1 1 1 1 1]\n",
      " [0 1 1 1 0 1 1 1 1 1 1 1 1 1 1 1 1 1 1 1 1 1 1 1 1]\n",
      " [0 1 1 1 1 1 0 1 1 1 1 1 1 1 1 1 1 1 1 1 1 1 1 1 1]\n",
      " [0 1 1 1 1 1 0 1 1 1 1 1 1 1 1 1 1 1 1 1 1 1 1 1 1]\n",
      " [0 1 0 1 1 1 1 1 1 1 1 1 1 1 1 1 1 1 1 1 1 1 1 1 1]\n",
      " [0 1 1 1 1 1 1 1 1 1 1 1 0 1 1 1 1 1 1 1 1 1 1 1 1]\n",
      " [0 1 1 1 1 0 1 1 1 1 1 1 1 1 1 1 1 1 1 1 1 1 1 1 1]\n",
      " [0 1 1 1 1 3 2 2 2 1 1 1 1 1 0 1 1 1 1 1 1 1 1 1 1]\n",
      " [0 1 1 1 1 0 1 1 1 1 1 1 1 1 1 1 1 1 1 1 1 1 1 1 1]\n",
      " [0 1 1 1 1 1 0 1 1 1 1 1 1 1 1 1 1 1 1 1 1 1 1 1 1]\n",
      " [0 1 1 0 1 1 1 1 1 1 1 1 1 1 1 1 1 1 1 1 1 1 1 1 1]\n",
      " [0 0 0 0 0 0 0 0 0 0 0 0 0 0 0 0 0 0 0 0 0 0 0 0 0]]\n",
      "2020-12-15 08:10:51,351 [DEBUG] kashgari - predict seq_length: None, input: (2, 175, 22)\n"
     ]
    },
    {
     "name": "stdout",
     "output_type": "stream",
     "text": [
      "6/6 [==============================] - 0s 34ms/step\n"
     ]
    },
    {
     "name": "stderr",
     "output_type": "stream",
     "text": [
      "2020-12-15 08:10:51,629 [DEBUG] kashgari - predict output: (175, 22)\n",
      "2020-12-15 08:10:51,630 [DEBUG] kashgari - predict output argmax: [[0 1 1 ... 1 1 1]\n",
      " [0 1 1 ... 1 1 1]\n",
      " [0 1 1 ... 1 1 1]\n",
      " ...\n",
      " [0 1 1 ... 1 1 1]\n",
      " [0 1 1 ... 1 1 1]\n",
      " [0 0 0 ... 0 0 0]]\n",
      "2020-12-15 08:10:51,634 [DEBUG] kashgari - predict seq_length: None, input: (2, 143, 28)\n"
     ]
    },
    {
     "name": "stdout",
     "output_type": "stream",
     "text": [
      "5/5 [==============================] - 0s 37ms/step\n"
     ]
    },
    {
     "name": "stderr",
     "output_type": "stream",
     "text": [
      "2020-12-15 08:10:51,894 [DEBUG] kashgari - predict output: (143, 28)\n",
      "2020-12-15 08:10:51,895 [DEBUG] kashgari - predict output argmax: [[0 1 1 ... 1 1 1]\n",
      " [0 1 1 ... 1 1 1]\n",
      " [0 1 1 ... 1 1 1]\n",
      " ...\n",
      " [0 1 1 ... 1 1 1]\n",
      " [0 1 1 ... 1 1 1]\n",
      " [0 0 0 ... 0 0 0]]\n",
      "2020-12-15 08:10:51,898 [DEBUG] kashgari - predict seq_length: None, input: (2, 88, 21)\n"
     ]
    },
    {
     "name": "stdout",
     "output_type": "stream",
     "text": [
      "3/3 [==============================] - 0s 28ms/step\n"
     ]
    },
    {
     "name": "stderr",
     "output_type": "stream",
     "text": [
      "2020-12-15 08:10:52,050 [DEBUG] kashgari - predict output: (88, 21)\n",
      "2020-12-15 08:10:52,051 [DEBUG] kashgari - predict output argmax: [[0 1 1 ... 1 1 1]\n",
      " [0 1 1 ... 1 1 1]\n",
      " [0 1 1 ... 1 1 1]\n",
      " ...\n",
      " [0 1 1 ... 2 2 2]\n",
      " [0 1 1 ... 1 1 1]\n",
      " [0 0 0 ... 0 0 0]]\n",
      "2020-12-15 08:10:52,055 [DEBUG] kashgari - predict seq_length: None, input: (2, 121, 28)\n"
     ]
    },
    {
     "name": "stdout",
     "output_type": "stream",
     "text": [
      "4/4 [==============================] - 0s 34ms/step\n"
     ]
    },
    {
     "name": "stderr",
     "output_type": "stream",
     "text": [
      "2020-12-15 08:10:52,268 [DEBUG] kashgari - predict output: (121, 28)\n",
      "2020-12-15 08:10:52,269 [DEBUG] kashgari - predict output argmax: [[0 1 1 ... 1 1 1]\n",
      " [0 1 1 ... 1 1 1]\n",
      " [0 1 1 ... 1 1 1]\n",
      " ...\n",
      " [0 1 1 ... 1 1 1]\n",
      " [0 1 1 ... 1 1 1]\n",
      " [0 0 0 ... 0 0 0]]\n",
      "2020-12-15 08:10:52,272 [DEBUG] kashgari - predict seq_length: None, input: (2, 85, 27)\n"
     ]
    },
    {
     "name": "stdout",
     "output_type": "stream",
     "text": [
      "3/3 [==============================] - 0s 31ms/step\n"
     ]
    },
    {
     "name": "stderr",
     "output_type": "stream",
     "text": [
      "2020-12-15 08:10:57,346 [DEBUG] kashgari - predict output: (85, 27)\n",
      "2020-12-15 08:10:57,347 [DEBUG] kashgari - predict output argmax: [[0 1 1 ... 1 1 1]\n",
      " [0 1 1 ... 1 1 1]\n",
      " [0 1 1 ... 1 1 1]\n",
      " ...\n",
      " [0 1 1 ... 1 1 1]\n",
      " [0 1 1 ... 1 1 1]\n",
      " [0 0 0 ... 0 0 0]]\n",
      "2020-12-15 08:10:57,352 [DEBUG] kashgari - predict seq_length: None, input: (2, 255, 19)\n"
     ]
    },
    {
     "name": "stdout",
     "output_type": "stream",
     "text": [
      "8/8 [==============================] - 0s 37ms/step\n"
     ]
    },
    {
     "name": "stderr",
     "output_type": "stream",
     "text": [
      "2020-12-15 08:11:01,473 [DEBUG] kashgari - predict output: (255, 19)\n",
      "2020-12-15 08:11:01,474 [DEBUG] kashgari - predict output argmax: [[0 1 1 ... 1 1 1]\n",
      " [0 1 1 ... 1 1 1]\n",
      " [0 1 1 ... 1 1 1]\n",
      " ...\n",
      " [0 1 1 ... 1 1 1]\n",
      " [0 1 1 ... 1 1 1]\n",
      " [0 0 0 ... 0 0 0]]\n",
      "2020-12-15 08:11:01,479 [DEBUG] kashgari - predict seq_length: None, input: (2, 202, 29)\n"
     ]
    },
    {
     "name": "stdout",
     "output_type": "stream",
     "text": [
      "7/7 [==============================] - 0s 40ms/step\n"
     ]
    },
    {
     "name": "stderr",
     "output_type": "stream",
     "text": [
      "2020-12-15 08:11:05,526 [DEBUG] kashgari - predict output: (202, 29)\n",
      "2020-12-15 08:11:05,527 [DEBUG] kashgari - predict output argmax: [[0 1 1 ... 1 1 1]\n",
      " [0 1 1 ... 1 1 1]\n",
      " [0 1 1 ... 1 1 0]\n",
      " ...\n",
      " [0 1 1 ... 1 1 1]\n",
      " [0 1 1 ... 1 1 1]\n",
      " [0 0 0 ... 0 0 0]]\n",
      "2020-12-15 08:11:05,530 [DEBUG] kashgari - predict seq_length: None, input: (2, 198, 19)\n"
     ]
    },
    {
     "name": "stdout",
     "output_type": "stream",
     "text": [
      "7/7 [==============================] - 0s 32ms/step\n"
     ]
    },
    {
     "name": "stderr",
     "output_type": "stream",
     "text": [
      "2020-12-15 08:11:05,820 [DEBUG] kashgari - predict output: (198, 19)\n",
      "2020-12-15 08:11:05,821 [DEBUG] kashgari - predict output argmax: [[ 0  1  1 ...  1  1  1]\n",
      " [ 0  1  1 ...  1  1  1]\n",
      " [ 0  1  1 ...  1  1  1]\n",
      " ...\n",
      " [ 0 10  6 ...  6  6  6]\n",
      " [ 0  1  1 ...  6  6  6]\n",
      " [ 0  0  0 ...  0  0  0]]\n",
      "2020-12-15 08:11:05,824 [DEBUG] kashgari - predict seq_length: None, input: (2, 102, 39)\n"
     ]
    },
    {
     "name": "stdout",
     "output_type": "stream",
     "text": [
      "4/4 [==============================] - 0s 43ms/step\n"
     ]
    },
    {
     "name": "stderr",
     "output_type": "stream",
     "text": [
      "2020-12-15 08:11:10,102 [DEBUG] kashgari - predict output: (102, 39)\n",
      "2020-12-15 08:11:10,103 [DEBUG] kashgari - predict output argmax: [[0 1 1 ... 1 1 1]\n",
      " [0 1 1 ... 1 1 1]\n",
      " [0 1 1 ... 1 1 1]\n",
      " ...\n",
      " [0 1 1 ... 1 1 1]\n",
      " [0 1 1 ... 1 1 1]\n",
      " [0 0 0 ... 0 0 0]]\n",
      "2020-12-15 08:11:10,105 [DEBUG] kashgari - predict seq_length: None, input: (2, 72, 36)\n"
     ]
    },
    {
     "name": "stdout",
     "output_type": "stream",
     "text": [
      "3/3 [==============================] - 0s 32ms/step\n"
     ]
    },
    {
     "name": "stderr",
     "output_type": "stream",
     "text": [
      "2020-12-15 08:11:13,964 [DEBUG] kashgari - predict output: (72, 36)\n",
      "2020-12-15 08:11:13,965 [DEBUG] kashgari - predict output argmax: [[0 1 1 ... 1 1 1]\n",
      " [0 1 0 ... 1 1 1]\n",
      " [0 1 1 ... 1 1 1]\n",
      " ...\n",
      " [0 1 1 ... 1 1 1]\n",
      " [0 1 1 ... 1 1 1]\n",
      " [0 0 0 ... 0 0 0]]\n",
      "2020-12-15 08:11:13,969 [DEBUG] kashgari - predict seq_length: None, input: (2, 246, 27)\n"
     ]
    },
    {
     "name": "stdout",
     "output_type": "stream",
     "text": [
      "8/8 [==============================] - 0s 42ms/step\n"
     ]
    },
    {
     "name": "stderr",
     "output_type": "stream",
     "text": [
      "2020-12-15 08:11:14,387 [DEBUG] kashgari - predict output: (246, 27)\n",
      "2020-12-15 08:11:14,389 [DEBUG] kashgari - predict output argmax: [[0 1 1 ... 1 1 1]\n",
      " [0 1 1 ... 1 1 1]\n",
      " [0 1 1 ... 1 1 1]\n",
      " ...\n",
      " [0 1 1 ... 1 1 1]\n",
      " [0 1 1 ... 1 1 1]\n",
      " [0 0 0 ... 0 0 0]]\n",
      "2020-12-15 08:11:14,391 [DEBUG] kashgari - predict seq_length: None, input: (2, 57, 34)\n"
     ]
    },
    {
     "name": "stdout",
     "output_type": "stream",
     "text": [
      "2/2 [==============================] - 0s 27ms/step\n"
     ]
    },
    {
     "name": "stderr",
     "output_type": "stream",
     "text": [
      "2020-12-15 08:11:18,228 [DEBUG] kashgari - predict output: (57, 34)\n",
      "2020-12-15 08:11:18,229 [DEBUG] kashgari - predict output argmax: [[0 1 1 ... 1 1 1]\n",
      " [0 1 1 ... 1 1 1]\n",
      " [0 1 1 ... 1 1 1]\n",
      " ...\n",
      " [0 1 1 ... 1 1 1]\n",
      " [0 1 1 ... 1 1 1]\n",
      " [0 0 0 ... 0 0 0]]\n",
      "2020-12-15 08:11:18,231 [DEBUG] kashgari - predict seq_length: None, input: (2, 82, 21)\n"
     ]
    },
    {
     "name": "stdout",
     "output_type": "stream",
     "text": [
      "3/3 [==============================] - 0s 28ms/step\n"
     ]
    },
    {
     "name": "stderr",
     "output_type": "stream",
     "text": [
      "2020-12-15 08:11:18,385 [DEBUG] kashgari - predict output: (82, 21)\n",
      "2020-12-15 08:11:18,385 [DEBUG] kashgari - predict output argmax: [[0 1 1 ... 1 1 1]\n",
      " [0 1 1 ... 1 1 1]\n",
      " [0 1 1 ... 1 1 1]\n",
      " ...\n",
      " [0 1 1 ... 1 1 1]\n",
      " [0 1 1 ... 1 1 1]\n",
      " [0 0 0 ... 0 0 0]]\n",
      "2020-12-15 08:11:18,389 [DEBUG] kashgari - predict seq_length: None, input: (2, 185, 32)\n"
     ]
    },
    {
     "name": "stdout",
     "output_type": "stream",
     "text": [
      "6/6 [==============================] - 0s 42ms/step\n"
     ]
    },
    {
     "name": "stderr",
     "output_type": "stream",
     "text": [
      "2020-12-15 08:11:22,735 [DEBUG] kashgari - predict output: (185, 32)\n",
      "2020-12-15 08:11:22,736 [DEBUG] kashgari - predict output argmax: [[0 1 1 ... 1 1 1]\n",
      " [0 1 1 ... 1 1 1]\n",
      " [0 1 1 ... 1 1 1]\n",
      " ...\n",
      " [0 1 1 ... 1 1 1]\n",
      " [0 1 1 ... 1 1 1]\n",
      " [0 0 0 ... 0 0 0]]\n",
      "2020-12-15 08:11:22,739 [DEBUG] kashgari - predict seq_length: None, input: (2, 148, 28)\n"
     ]
    },
    {
     "name": "stdout",
     "output_type": "stream",
     "text": [
      "5/5 [==============================] - 0s 32ms/step\n"
     ]
    },
    {
     "name": "stderr",
     "output_type": "stream",
     "text": [
      "2020-12-15 08:11:22,969 [DEBUG] kashgari - predict output: (148, 28)\n",
      "2020-12-15 08:11:22,970 [DEBUG] kashgari - predict output argmax: [[0 1 1 ... 1 1 1]\n",
      " [0 1 1 ... 1 1 1]\n",
      " [0 1 1 ... 1 1 1]\n",
      " ...\n",
      " [0 1 1 ... 1 1 1]\n",
      " [0 1 1 ... 1 1 1]\n",
      " [0 0 0 ... 0 0 0]]\n",
      "2020-12-15 08:11:22,975 [DEBUG] kashgari - predict seq_length: None, input: (2, 281, 23)\n"
     ]
    },
    {
     "name": "stdout",
     "output_type": "stream",
     "text": [
      "9/9 [==============================] - 0s 36ms/step\n"
     ]
    },
    {
     "name": "stderr",
     "output_type": "stream",
     "text": [
      "2020-12-15 08:11:23,374 [DEBUG] kashgari - predict output: (281, 23)\n",
      "2020-12-15 08:11:23,375 [DEBUG] kashgari - predict output argmax: [[0 1 1 ... 1 1 1]\n",
      " [0 1 1 ... 1 1 1]\n",
      " [0 1 1 ... 1 1 1]\n",
      " ...\n",
      " [0 1 0 ... 1 1 1]\n",
      " [0 1 1 ... 1 1 1]\n",
      " [0 0 0 ... 0 0 0]]\n",
      "2020-12-15 08:11:23,379 [DEBUG] kashgari - predict seq_length: None, input: (2, 116, 20)\n"
     ]
    },
    {
     "name": "stdout",
     "output_type": "stream",
     "text": [
      "4/4 [==============================] - 0s 29ms/step\n"
     ]
    },
    {
     "name": "stderr",
     "output_type": "stream",
     "text": [
      "2020-12-15 08:11:27,281 [DEBUG] kashgari - predict output: (116, 20)\n",
      "2020-12-15 08:11:27,282 [DEBUG] kashgari - predict output argmax: [[0 1 1 ... 1 1 1]\n",
      " [0 1 1 ... 1 1 1]\n",
      " [0 1 1 ... 1 1 1]\n",
      " ...\n",
      " [0 1 1 ... 1 1 1]\n",
      " [0 1 1 ... 1 1 1]\n",
      " [0 0 0 ... 0 0 0]]\n",
      "2020-12-15 08:11:27,286 [DEBUG] kashgari - predict seq_length: None, input: (2, 168, 25)\n"
     ]
    },
    {
     "name": "stdout",
     "output_type": "stream",
     "text": [
      "6/6 [==============================] - 0s 38ms/step\n"
     ]
    },
    {
     "name": "stderr",
     "output_type": "stream",
     "text": [
      "2020-12-15 08:11:27,591 [DEBUG] kashgari - predict output: (168, 25)\n",
      "2020-12-15 08:11:27,592 [DEBUG] kashgari - predict output argmax: [[0 1 1 ... 1 1 1]\n",
      " [0 1 1 ... 1 1 1]\n",
      " [0 3 2 ... 1 1 1]\n",
      " ...\n",
      " [0 1 1 ... 1 1 1]\n",
      " [0 1 1 ... 1 1 1]\n",
      " [0 0 0 ... 0 0 0]]\n",
      "2020-12-15 08:11:27,596 [DEBUG] kashgari - predict seq_length: None, input: (2, 218, 30)\n"
     ]
    },
    {
     "name": "stdout",
     "output_type": "stream",
     "text": [
      "7/7 [==============================] - 0s 43ms/step\n"
     ]
    },
    {
     "name": "stderr",
     "output_type": "stream",
     "text": [
      "2020-12-15 08:11:31,774 [DEBUG] kashgari - predict output: (218, 30)\n",
      "2020-12-15 08:11:31,775 [DEBUG] kashgari - predict output argmax: [[0 1 1 ... 1 1 1]\n",
      " [0 1 1 ... 1 1 1]\n",
      " [0 1 1 ... 1 1 1]\n",
      " ...\n",
      " [0 1 1 ... 1 1 1]\n",
      " [0 1 1 ... 1 1 1]\n",
      " [0 0 0 ... 0 0 0]]\n",
      "2020-12-15 08:11:31,777 [DEBUG] kashgari - predict seq_length: None, input: (2, 123, 32)\n"
     ]
    },
    {
     "name": "stdout",
     "output_type": "stream",
     "text": [
      "4/4 [==============================] - 0s 36ms/step\n"
     ]
    },
    {
     "name": "stderr",
     "output_type": "stream",
     "text": [
      "2020-12-15 08:11:32,002 [DEBUG] kashgari - predict output: (123, 32)\n",
      "2020-12-15 08:11:32,003 [DEBUG] kashgari - predict output argmax: [[0 1 1 ... 1 1 1]\n",
      " [0 1 1 ... 1 1 1]\n",
      " [0 1 1 ... 1 1 1]\n",
      " ...\n",
      " [0 1 1 ... 1 1 1]\n",
      " [0 1 1 ... 1 1 1]\n",
      " [0 0 0 ... 0 0 0]]\n",
      "2020-12-15 08:11:32,006 [DEBUG] kashgari - predict seq_length: None, input: (2, 82, 21)\n"
     ]
    },
    {
     "name": "stdout",
     "output_type": "stream",
     "text": [
      "3/3 [==============================] - 0s 23ms/step\n"
     ]
    },
    {
     "name": "stderr",
     "output_type": "stream",
     "text": [
      "2020-12-15 08:11:32,138 [DEBUG] kashgari - predict output: (82, 21)\n",
      "2020-12-15 08:11:32,139 [DEBUG] kashgari - predict output argmax: [[0 1 1 ... 1 1 1]\n",
      " [0 1 1 ... 1 1 1]\n",
      " [0 3 2 ... 1 1 1]\n",
      " ...\n",
      " [0 1 1 ... 1 1 1]\n",
      " [0 1 1 ... 1 1 1]\n",
      " [0 0 0 ... 0 0 0]]\n",
      "2020-12-15 08:11:32,142 [DEBUG] kashgari - predict seq_length: None, input: (2, 95, 19)\n"
     ]
    },
    {
     "name": "stdout",
     "output_type": "stream",
     "text": [
      "3/3 [==============================] - 0s 25ms/step\n"
     ]
    },
    {
     "name": "stderr",
     "output_type": "stream",
     "text": [
      "2020-12-15 08:11:32,278 [DEBUG] kashgari - predict output: (95, 19)\n",
      "2020-12-15 08:11:32,279 [DEBUG] kashgari - predict output argmax: [[0 1 1 ... 2 2 2]\n",
      " [0 3 2 ... 1 1 1]\n",
      " [0 1 1 ... 1 1 1]\n",
      " ...\n",
      " [0 1 0 ... 1 1 1]\n",
      " [0 1 1 ... 1 1 1]\n",
      " [0 0 0 ... 0 0 0]]\n",
      "2020-12-15 08:11:32,285 [DEBUG] kashgari - predict seq_length: None, input: (2, 245, 24)\n"
     ]
    },
    {
     "name": "stdout",
     "output_type": "stream",
     "text": [
      "8/8 [==============================] - 0s 39ms/step\n"
     ]
    },
    {
     "name": "stderr",
     "output_type": "stream",
     "text": [
      "2020-12-15 08:11:37,768 [DEBUG] kashgari - predict output: (245, 24)\n",
      "2020-12-15 08:11:37,769 [DEBUG] kashgari - predict output argmax: [[0 1 1 ... 1 1 1]\n",
      " [0 1 1 ... 1 1 1]\n",
      " [0 1 1 ... 1 1 1]\n",
      " ...\n",
      " [0 1 3 ... 5 5 5]\n",
      " [0 1 1 ... 1 1 1]\n",
      " [0 0 0 ... 0 0 0]]\n",
      "2020-12-15 08:11:37,772 [DEBUG] kashgari - predict seq_length: None, input: (2, 126, 31)\n"
     ]
    },
    {
     "name": "stdout",
     "output_type": "stream",
     "text": [
      "4/4 [==============================] - 0s 39ms/step\n"
     ]
    },
    {
     "name": "stderr",
     "output_type": "stream",
     "text": [
      "2020-12-15 08:11:41,728 [DEBUG] kashgari - predict output: (126, 31)\n",
      "2020-12-15 08:11:41,729 [DEBUG] kashgari - predict output argmax: [[0 1 1 ... 1 1 1]\n",
      " [0 1 1 ... 4 4 4]\n",
      " [0 1 1 ... 1 1 1]\n",
      " ...\n",
      " [0 1 7 ... 1 1 1]\n",
      " [0 1 1 ... 1 1 1]\n",
      " [0 0 0 ... 0 0 0]]\n",
      "2020-12-15 08:11:41,731 [DEBUG] kashgari - predict seq_length: None, input: (2, 64, 19)\n"
     ]
    },
    {
     "name": "stdout",
     "output_type": "stream",
     "text": [
      "2/2 [==============================] - 0s 15ms/step\n"
     ]
    },
    {
     "name": "stderr",
     "output_type": "stream",
     "text": [
      "2020-12-15 08:11:44,399 [DEBUG] kashgari - predict output: (64, 19)\n",
      "2020-12-15 08:11:44,400 [DEBUG] kashgari - predict output argmax: [[0 1 1 ... 1 1 1]\n",
      " [0 1 1 ... 1 1 1]\n",
      " [0 1 1 ... 1 1 1]\n",
      " ...\n",
      " [0 1 1 ... 1 1 1]\n",
      " [0 1 1 ... 1 1 1]\n",
      " [0 0 0 ... 0 0 0]]\n",
      "2020-12-15 08:11:44,403 [DEBUG] kashgari - predict seq_length: None, input: (2, 93, 24)\n"
     ]
    },
    {
     "name": "stdout",
     "output_type": "stream",
     "text": [
      "3/3 [==============================] - 0s 31ms/step\n"
     ]
    },
    {
     "name": "stderr",
     "output_type": "stream",
     "text": [
      "2020-12-15 08:11:44,567 [DEBUG] kashgari - predict output: (93, 24)\n",
      "2020-12-15 08:11:44,568 [DEBUG] kashgari - predict output argmax: [[0 1 1 ... 1 1 1]\n",
      " [0 1 1 ... 1 1 1]\n",
      " [0 1 1 ... 1 1 1]\n",
      " ...\n",
      " [0 1 1 ... 1 1 1]\n",
      " [0 1 1 ... 1 1 1]\n",
      " [0 0 0 ... 0 0 0]]\n",
      "2020-12-15 08:11:44,572 [DEBUG] kashgari - predict seq_length: None, input: (2, 214, 16)\n"
     ]
    },
    {
     "name": "stdout",
     "output_type": "stream",
     "text": [
      "7/7 [==============================] - 0s 31ms/step\n"
     ]
    },
    {
     "name": "stderr",
     "output_type": "stream",
     "text": [
      "2020-12-15 08:11:48,601 [DEBUG] kashgari - predict output: (214, 16)\n",
      "2020-12-15 08:11:48,602 [DEBUG] kashgari - predict output argmax: [[0 1 1 ... 1 1 1]\n",
      " [0 1 1 ... 1 1 1]\n",
      " [0 1 1 ... 1 1 1]\n",
      " ...\n",
      " [0 1 1 ... 1 1 1]\n",
      " [0 1 1 ... 1 1 1]\n",
      " [0 0 0 ... 0 0 0]]\n",
      "2020-12-15 08:11:48,604 [DEBUG] kashgari - predict seq_length: None, input: (2, 53, 20)\n"
     ]
    },
    {
     "name": "stdout",
     "output_type": "stream",
     "text": [
      "2/2 [==============================] - 0s 19ms/step\n"
     ]
    },
    {
     "name": "stderr",
     "output_type": "stream",
     "text": [
      "2020-12-15 08:11:48,712 [DEBUG] kashgari - predict output: (53, 20)\n",
      "2020-12-15 08:11:48,712 [DEBUG] kashgari - predict output argmax: [[0 1 1 ... 1 1 1]\n",
      " [0 1 1 ... 1 1 1]\n",
      " [0 1 1 ... 1 1 1]\n",
      " ...\n",
      " [0 1 1 ... 1 1 1]\n",
      " [0 1 1 ... 1 1 1]\n",
      " [0 0 0 ... 0 0 0]]\n",
      "2020-12-15 08:11:48,718 [DEBUG] kashgari - predict seq_length: None, input: (2, 384, 18)\n"
     ]
    },
    {
     "name": "stdout",
     "output_type": "stream",
     "text": [
      "12/12 [==============================] - 0s 26ms/step\n"
     ]
    },
    {
     "name": "stderr",
     "output_type": "stream",
     "text": [
      "2020-12-15 08:11:51,693 [DEBUG] kashgari - predict output: (384, 18)\n",
      "2020-12-15 08:11:51,694 [DEBUG] kashgari - predict output argmax: [[0 1 1 ... 1 1 1]\n",
      " [0 1 1 ... 1 1 1]\n",
      " [0 1 1 ... 1 1 1]\n",
      " ...\n",
      " [0 1 1 ... 1 1 1]\n",
      " [0 1 1 ... 1 1 1]\n",
      " [0 0 0 ... 0 0 0]]\n",
      "2020-12-15 08:11:51,697 [DEBUG] kashgari - predict seq_length: None, input: (2, 172, 24)\n"
     ]
    },
    {
     "name": "stdout",
     "output_type": "stream",
     "text": [
      "6/6 [==============================] - 0s 35ms/step\n"
     ]
    },
    {
     "name": "stderr",
     "output_type": "stream",
     "text": [
      "2020-12-15 08:11:51,978 [DEBUG] kashgari - predict output: (172, 24)\n",
      "2020-12-15 08:11:51,979 [DEBUG] kashgari - predict output argmax: [[0 1 1 ... 5 5 5]\n",
      " [0 1 1 ... 1 1 1]\n",
      " [0 1 1 ... 1 1 1]\n",
      " ...\n",
      " [0 1 1 ... 1 1 1]\n",
      " [0 1 1 ... 1 1 1]\n",
      " [0 0 0 ... 0 0 0]]\n",
      "2020-12-15 08:11:51,982 [DEBUG] kashgari - predict seq_length: None, input: (2, 114, 24)\n"
     ]
    },
    {
     "name": "stdout",
     "output_type": "stream",
     "text": [
      "4/4 [==============================] - 0s 31ms/step\n"
     ]
    },
    {
     "name": "stderr",
     "output_type": "stream",
     "text": [
      "2020-12-15 08:11:52,175 [DEBUG] kashgari - predict output: (114, 24)\n",
      "2020-12-15 08:11:52,176 [DEBUG] kashgari - predict output argmax: [[0 1 1 ... 1 1 1]\n",
      " [0 1 1 ... 1 1 0]\n",
      " [0 1 1 ... 1 1 1]\n",
      " ...\n",
      " [0 1 1 ... 1 1 1]\n",
      " [0 1 1 ... 2 2 2]\n",
      " [0 0 0 ... 0 0 0]]\n",
      "2020-12-15 08:11:52,179 [DEBUG] kashgari - predict seq_length: None, input: (2, 111, 47)\n"
     ]
    },
    {
     "name": "stdout",
     "output_type": "stream",
     "text": [
      "4/4 [==============================] - 0s 49ms/step\n"
     ]
    },
    {
     "name": "stderr",
     "output_type": "stream",
     "text": [
      "2020-12-15 08:11:52,473 [DEBUG] kashgari - predict output: (111, 47)\n",
      "2020-12-15 08:11:52,474 [DEBUG] kashgari - predict output argmax: [[0 1 1 ... 2 2 2]\n",
      " [0 1 1 ... 1 1 1]\n",
      " [0 1 0 ... 1 1 1]\n",
      " ...\n",
      " [0 1 1 ... 1 1 1]\n",
      " [0 1 1 ... 1 1 1]\n",
      " [0 0 0 ... 0 0 0]]\n",
      "2020-12-15 08:11:52,479 [DEBUG] kashgari - predict seq_length: None, input: (2, 350, 34)\n"
     ]
    },
    {
     "name": "stdout",
     "output_type": "stream",
     "text": [
      "11/11 [==============================] - 1s 48ms/step\n"
     ]
    },
    {
     "name": "stderr",
     "output_type": "stream",
     "text": [
      "2020-12-15 08:11:53,091 [DEBUG] kashgari - predict output: (350, 34)\n",
      "2020-12-15 08:11:53,092 [DEBUG] kashgari - predict output argmax: [[0 1 1 ... 1 1 1]\n",
      " [0 1 1 ... 1 1 1]\n",
      " [0 1 1 ... 1 1 1]\n",
      " ...\n",
      " [0 1 1 ... 2 2 2]\n",
      " [0 1 1 ... 1 1 1]\n",
      " [0 0 0 ... 0 0 0]]\n",
      "2020-12-15 08:11:53,094 [DEBUG] kashgari - predict seq_length: None, input: (2, 56, 20)\n"
     ]
    },
    {
     "name": "stdout",
     "output_type": "stream",
     "text": [
      "2/2 [==============================] - 0s 18ms/step\n"
     ]
    },
    {
     "name": "stderr",
     "output_type": "stream",
     "text": [
      "2020-12-15 08:11:53,190 [DEBUG] kashgari - predict output: (56, 20)\n",
      "2020-12-15 08:11:53,191 [DEBUG] kashgari - predict output argmax: [[0 1 1 ... 1 1 1]\n",
      " [0 1 1 ... 1 1 1]\n",
      " [0 1 1 ... 1 1 1]\n",
      " ...\n",
      " [0 1 1 ... 1 1 1]\n",
      " [0 1 1 ... 1 1 1]\n",
      " [0 0 0 ... 0 0 0]]\n",
      "2020-12-15 08:11:53,194 [DEBUG] kashgari - predict seq_length: None, input: (2, 131, 17)\n"
     ]
    },
    {
     "name": "stdout",
     "output_type": "stream",
     "text": [
      "5/5 [==============================] - 0s 28ms/step\n"
     ]
    },
    {
     "name": "stderr",
     "output_type": "stream",
     "text": [
      "2020-12-15 08:11:53,393 [DEBUG] kashgari - predict output: (131, 17)\n",
      "2020-12-15 08:11:53,394 [DEBUG] kashgari - predict output argmax: [[0 1 1 ... 1 1 1]\n",
      " [0 1 1 ... 1 1 1]\n",
      " [0 1 1 ... 1 1 1]\n",
      " ...\n",
      " [0 1 1 ... 1 1 1]\n",
      " [0 1 1 ... 1 1 1]\n",
      " [0 0 0 ... 0 0 0]]\n",
      "2020-12-15 08:11:53,399 [DEBUG] kashgari - predict seq_length: None, input: (2, 184, 34)\n"
     ]
    },
    {
     "name": "stdout",
     "output_type": "stream",
     "text": [
      "6/6 [==============================] - 0s 43ms/step\n"
     ]
    },
    {
     "name": "stderr",
     "output_type": "stream",
     "text": [
      "2020-12-15 08:11:53,740 [DEBUG] kashgari - predict output: (184, 34)\n",
      "2020-12-15 08:11:53,741 [DEBUG] kashgari - predict output argmax: [[0 1 1 ... 1 1 1]\n",
      " [0 1 1 ... 1 1 1]\n",
      " [0 1 1 ... 1 1 1]\n",
      " ...\n",
      " [0 1 1 ... 1 1 1]\n",
      " [0 1 1 ... 1 1 1]\n",
      " [0 0 0 ... 0 0 0]]\n",
      "2020-12-15 08:11:53,743 [DEBUG] kashgari - predict seq_length: None, input: (2, 133, 51)\n"
     ]
    },
    {
     "name": "stdout",
     "output_type": "stream",
     "text": [
      "5/5 [==============================] - 0s 54ms/step\n"
     ]
    },
    {
     "name": "stderr",
     "output_type": "stream",
     "text": [
      "2020-12-15 08:11:57,800 [DEBUG] kashgari - predict output: (133, 51)\n",
      "2020-12-15 08:11:57,801 [DEBUG] kashgari - predict output argmax: [[0 1 1 ... 1 1 1]\n",
      " [0 9 5 ... 4 4 4]\n",
      " [0 1 1 ... 1 1 1]\n",
      " ...\n",
      " [0 1 0 ... 1 1 1]\n",
      " [0 1 1 ... 1 1 1]\n",
      " [0 0 0 ... 0 0 0]]\n",
      "2020-12-15 08:11:57,805 [DEBUG] kashgari - predict seq_length: None, input: (2, 210, 53)\n"
     ]
    },
    {
     "name": "stdout",
     "output_type": "stream",
     "text": [
      "7/7 [==============================] - 0s 66ms/step\n"
     ]
    },
    {
     "name": "stderr",
     "output_type": "stream",
     "text": [
      "2020-12-15 08:12:02,031 [DEBUG] kashgari - predict output: (210, 53)\n",
      "2020-12-15 08:12:02,032 [DEBUG] kashgari - predict output argmax: [[0 1 1 ... 1 1 1]\n",
      " [0 1 1 ... 1 1 1]\n",
      " [0 1 1 ... 5 5 5]\n",
      " ...\n",
      " [0 1 1 ... 1 1 1]\n",
      " [0 1 1 ... 1 1 1]\n",
      " [0 0 0 ... 0 0 0]]\n",
      "2020-12-15 08:12:02,035 [DEBUG] kashgari - predict seq_length: None, input: (2, 193, 55)\n"
     ]
    },
    {
     "name": "stdout",
     "output_type": "stream",
     "text": [
      "7/7 [==============================] - 0s 60ms/step\n"
     ]
    },
    {
     "name": "stderr",
     "output_type": "stream",
     "text": [
      "2020-12-15 08:12:06,229 [DEBUG] kashgari - predict output: (193, 55)\n",
      "2020-12-15 08:12:06,229 [DEBUG] kashgari - predict output argmax: [[ 0  1  1 ...  1  1  1]\n",
      " [ 0  9  5 ... 11 11 11]\n",
      " [ 0  1  1 ...  1  1  1]\n",
      " ...\n",
      " [ 0  1  1 ...  1  1  1]\n",
      " [ 0  1  1 ...  1  1  1]\n",
      " [ 0  0  0 ...  0  0  0]]\n",
      "2020-12-15 08:12:06,232 [DEBUG] kashgari - predict seq_length: None, input: (2, 75, 30)\n"
     ]
    },
    {
     "name": "stdout",
     "output_type": "stream",
     "text": [
      "3/3 [==============================] - 0s 27ms/step\n"
     ]
    },
    {
     "name": "stderr",
     "output_type": "stream",
     "text": [
      "2020-12-15 08:12:06,381 [DEBUG] kashgari - predict output: (75, 30)\n",
      "2020-12-15 08:12:06,381 [DEBUG] kashgari - predict output argmax: [[0 1 1 ... 1 1 1]\n",
      " [0 1 1 ... 1 1 1]\n",
      " [0 1 1 ... 0 1 1]\n",
      " ...\n",
      " [0 1 0 ... 1 1 1]\n",
      " [0 1 1 ... 1 1 1]\n",
      " [0 0 0 ... 0 0 0]]\n",
      "2020-12-15 08:12:06,387 [DEBUG] kashgari - predict seq_length: None, input: (2, 280, 46)\n"
     ]
    },
    {
     "name": "stdout",
     "output_type": "stream",
     "text": [
      "9/9 [==============================] - 1s 62ms/step\n"
     ]
    },
    {
     "name": "stderr",
     "output_type": "stream",
     "text": [
      "2020-12-15 08:12:10,723 [DEBUG] kashgari - predict output: (280, 46)\n",
      "2020-12-15 08:12:10,723 [DEBUG] kashgari - predict output argmax: [[0 1 1 ... 1 1 1]\n",
      " [0 1 1 ... 1 1 1]\n",
      " [0 1 1 ... 1 1 1]\n",
      " ...\n",
      " [0 1 1 ... 1 1 1]\n",
      " [0 1 1 ... 1 1 1]\n",
      " [0 0 0 ... 0 0 0]]\n",
      "2020-12-15 08:12:10,727 [DEBUG] kashgari - predict seq_length: None, input: (2, 210, 20)\n"
     ]
    },
    {
     "name": "stdout",
     "output_type": "stream",
     "text": [
      "7/7 [==============================] - 0s 32ms/step\n"
     ]
    },
    {
     "name": "stderr",
     "output_type": "stream",
     "text": [
      "2020-12-15 08:12:11,013 [DEBUG] kashgari - predict output: (210, 20)\n",
      "2020-12-15 08:12:11,015 [DEBUG] kashgari - predict output argmax: [[0 1 1 ... 1 1 1]\n",
      " [0 1 1 ... 1 1 1]\n",
      " [0 1 0 ... 1 1 1]\n",
      " ...\n",
      " [0 1 0 ... 1 1 1]\n",
      " [0 1 1 ... 1 1 1]\n",
      " [0 0 0 ... 0 0 0]]\n",
      "2020-12-15 08:12:11,017 [DEBUG] kashgari - predict seq_length: None, input: (2, 176, 24)\n"
     ]
    },
    {
     "name": "stdout",
     "output_type": "stream",
     "text": [
      "6/6 [==============================] - 0s 34ms/step\n"
     ]
    },
    {
     "name": "stderr",
     "output_type": "stream",
     "text": [
      "2020-12-15 08:12:11,294 [DEBUG] kashgari - predict output: (176, 24)\n",
      "2020-12-15 08:12:11,295 [DEBUG] kashgari - predict output argmax: [[0 1 1 ... 1 1 1]\n",
      " [0 1 1 ... 1 1 1]\n",
      " [0 1 1 ... 1 1 1]\n",
      " ...\n",
      " [0 1 1 ... 1 1 1]\n",
      " [0 1 1 ... 1 1 1]\n",
      " [0 0 0 ... 0 0 0]]\n",
      "2020-12-15 08:12:11,299 [DEBUG] kashgari - predict seq_length: None, input: (2, 218, 25)\n"
     ]
    },
    {
     "name": "stdout",
     "output_type": "stream",
     "text": [
      "7/7 [==============================] - 0s 38ms/step\n"
     ]
    },
    {
     "name": "stderr",
     "output_type": "stream",
     "text": [
      "2020-12-15 08:12:11,638 [DEBUG] kashgari - predict output: (218, 25)\n",
      "2020-12-15 08:12:11,639 [DEBUG] kashgari - predict output argmax: [[0 1 1 ... 1 1 1]\n",
      " [0 1 1 ... 1 1 1]\n",
      " [0 1 1 ... 1 1 1]\n",
      " ...\n",
      " [0 1 1 ... 1 1 1]\n",
      " [0 1 1 ... 1 1 1]\n",
      " [0 0 0 ... 0 0 0]]\n",
      "2020-12-15 08:12:11,642 [DEBUG] kashgari - predict seq_length: None, input: (2, 91, 23)\n"
     ]
    },
    {
     "name": "stdout",
     "output_type": "stream",
     "text": [
      "3/3 [==============================] - 0s 28ms/step\n"
     ]
    },
    {
     "name": "stderr",
     "output_type": "stream",
     "text": [
      "2020-12-15 08:12:11,794 [DEBUG] kashgari - predict output: (91, 23)\n",
      "2020-12-15 08:12:11,795 [DEBUG] kashgari - predict output argmax: [[0 1 1 ... 1 1 1]\n",
      " [0 1 1 ... 1 1 1]\n",
      " [0 1 1 ... 1 1 1]\n",
      " ...\n",
      " [0 1 1 ... 1 1 1]\n",
      " [0 1 1 ... 1 1 1]\n",
      " [0 0 0 ... 0 0 0]]\n",
      "2020-12-15 08:12:11,798 [DEBUG] kashgari - predict seq_length: None, input: (2, 194, 28)\n"
     ]
    },
    {
     "name": "stdout",
     "output_type": "stream",
     "text": [
      "7/7 [==============================] - 0s 38ms/step\n"
     ]
    },
    {
     "name": "stderr",
     "output_type": "stream",
     "text": [
      "2020-12-15 08:12:12,150 [DEBUG] kashgari - predict output: (194, 28)\n",
      "2020-12-15 08:12:12,151 [DEBUG] kashgari - predict output argmax: [[0 1 1 ... 1 1 1]\n",
      " [0 1 1 ... 1 1 1]\n",
      " [0 1 1 ... 4 4 4]\n",
      " ...\n",
      " [0 3 2 ... 1 1 1]\n",
      " [0 1 1 ... 1 1 1]\n",
      " [0 0 0 ... 0 0 0]]\n",
      "2020-12-15 08:12:12,156 [DEBUG] kashgari - predict seq_length: None, input: (2, 179, 23)\n"
     ]
    },
    {
     "name": "stdout",
     "output_type": "stream",
     "text": [
      "6/6 [==============================] - 0s 35ms/step\n"
     ]
    },
    {
     "name": "stderr",
     "output_type": "stream",
     "text": [
      "2020-12-15 08:12:12,433 [DEBUG] kashgari - predict output: (179, 23)\n",
      "2020-12-15 08:12:12,434 [DEBUG] kashgari - predict output argmax: [[0 1 1 ... 1 1 1]\n",
      " [0 1 1 ... 1 1 1]\n",
      " [0 1 1 ... 1 1 1]\n",
      " ...\n",
      " [0 1 1 ... 1 1 1]\n",
      " [0 1 1 ... 1 1 1]\n",
      " [0 0 0 ... 0 0 0]]\n",
      "2020-12-15 08:12:12,439 [DEBUG] kashgari - predict seq_length: None, input: (2, 234, 40)\n"
     ]
    },
    {
     "name": "stdout",
     "output_type": "stream",
     "text": [
      "8/8 [==============================] - 0s 51ms/step\n"
     ]
    },
    {
     "name": "stderr",
     "output_type": "stream",
     "text": [
      "2020-12-15 08:12:16,650 [DEBUG] kashgari - predict output: (234, 40)\n",
      "2020-12-15 08:12:16,651 [DEBUG] kashgari - predict output argmax: [[0 1 1 ... 1 1 1]\n",
      " [0 1 1 ... 1 1 1]\n",
      " [0 1 1 ... 1 1 1]\n",
      " ...\n",
      " [0 1 1 ... 1 1 1]\n",
      " [0 1 1 ... 1 1 1]\n",
      " [0 0 0 ... 0 0 0]]\n",
      "2020-12-15 08:12:16,655 [DEBUG] kashgari - predict seq_length: None, input: (2, 250, 26)\n"
     ]
    },
    {
     "name": "stdout",
     "output_type": "stream",
     "text": [
      "8/8 [==============================] - 0s 41ms/step\n"
     ]
    },
    {
     "name": "stderr",
     "output_type": "stream",
     "text": [
      "2020-12-15 08:12:21,172 [DEBUG] kashgari - predict output: (250, 26)\n",
      "2020-12-15 08:12:21,173 [DEBUG] kashgari - predict output argmax: [[0 1 1 ... 1 1 1]\n",
      " [0 1 0 ... 1 1 1]\n",
      " [0 1 1 ... 1 1 1]\n",
      " ...\n",
      " [0 1 1 ... 1 1 1]\n",
      " [0 1 1 ... 1 1 1]\n",
      " [0 0 0 ... 0 0 0]]\n",
      "2020-12-15 08:12:21,177 [DEBUG] kashgari - predict seq_length: None, input: (2, 170, 43)\n"
     ]
    },
    {
     "name": "stdout",
     "output_type": "stream",
     "text": [
      "6/6 [==============================] - 0s 48ms/step\n"
     ]
    },
    {
     "name": "stderr",
     "output_type": "stream",
     "text": [
      "2020-12-15 08:12:26,643 [DEBUG] kashgari - predict output: (170, 43)\n",
      "2020-12-15 08:12:26,644 [DEBUG] kashgari - predict output argmax: [[0 1 1 ... 1 1 1]\n",
      " [0 1 1 ... 1 1 1]\n",
      " [0 1 1 ... 1 1 0]\n",
      " ...\n",
      " [0 1 1 ... 1 1 1]\n",
      " [0 1 1 ... 1 1 1]\n",
      " [0 0 0 ... 0 0 0]]\n",
      "2020-12-15 08:12:26,647 [DEBUG] kashgari - predict seq_length: None, input: (2, 145, 34)\n"
     ]
    },
    {
     "name": "stdout",
     "output_type": "stream",
     "text": [
      "5/5 [==============================] - 0s 41ms/step\n"
     ]
    },
    {
     "name": "stderr",
     "output_type": "stream",
     "text": [
      "2020-12-15 08:12:26,929 [DEBUG] kashgari - predict output: (145, 34)\n",
      "2020-12-15 08:12:26,930 [DEBUG] kashgari - predict output argmax: [[0 1 1 ... 5 5 5]\n",
      " [0 3 2 ... 1 1 1]\n",
      " [0 1 1 ... 1 1 1]\n",
      " ...\n",
      " [0 1 1 ... 1 1 1]\n",
      " [0 1 0 ... 1 1 1]\n",
      " [0 0 0 ... 0 0 0]]\n",
      "2020-12-15 08:12:26,932 [DEBUG] kashgari - predict seq_length: None, input: (2, 102, 29)\n"
     ]
    },
    {
     "name": "stdout",
     "output_type": "stream",
     "text": [
      "4/4 [==============================] - 0s 31ms/step\n"
     ]
    },
    {
     "name": "stderr",
     "output_type": "stream",
     "text": [
      "2020-12-15 08:12:27,131 [DEBUG] kashgari - predict output: (102, 29)\n",
      "2020-12-15 08:12:27,132 [DEBUG] kashgari - predict output argmax: [[0 1 1 ... 1 1 1]\n",
      " [0 1 1 ... 1 1 1]\n",
      " [0 1 1 ... 1 1 1]\n",
      " ...\n",
      " [0 1 1 ... 1 1 1]\n",
      " [0 1 1 ... 1 1 1]\n",
      " [0 0 0 ... 0 0 0]]\n",
      "2020-12-15 08:12:27,138 [DEBUG] kashgari - predict seq_length: None, input: (2, 340, 20)\n"
     ]
    },
    {
     "name": "stdout",
     "output_type": "stream",
     "text": [
      "11/11 [==============================] - 0s 34ms/step\n"
     ]
    },
    {
     "name": "stderr",
     "output_type": "stream",
     "text": [
      "2020-12-15 08:12:27,580 [DEBUG] kashgari - predict output: (340, 20)\n",
      "2020-12-15 08:12:27,581 [DEBUG] kashgari - predict output argmax: [[0 1 1 ... 1 1 1]\n",
      " [0 1 1 ... 1 1 1]\n",
      " [0 1 1 ... 1 1 1]\n",
      " ...\n",
      " [0 1 1 ... 1 1 1]\n",
      " [0 1 1 ... 1 1 1]\n",
      " [0 0 0 ... 0 0 0]]\n",
      "2020-12-15 08:12:27,584 [DEBUG] kashgari - predict seq_length: None, input: (2, 122, 23)\n"
     ]
    },
    {
     "name": "stdout",
     "output_type": "stream",
     "text": [
      "4/4 [==============================] - 0s 31ms/step\n"
     ]
    },
    {
     "name": "stderr",
     "output_type": "stream",
     "text": [
      "2020-12-15 08:12:27,778 [DEBUG] kashgari - predict output: (122, 23)\n",
      "2020-12-15 08:12:27,779 [DEBUG] kashgari - predict output argmax: [[0 1 1 ... 5 5 5]\n",
      " [0 1 1 ... 1 1 1]\n",
      " [0 1 1 ... 1 1 1]\n",
      " ...\n",
      " [0 1 1 ... 1 1 1]\n",
      " [0 1 1 ... 1 1 1]\n",
      " [0 0 0 ... 0 0 0]]\n",
      "2020-12-15 08:12:27,790 [DEBUG] kashgari - predict seq_length: None, input: (2, 381, 28)\n"
     ]
    },
    {
     "name": "stdout",
     "output_type": "stream",
     "text": [
      "12/12 [==============================] - 1s 43ms/step\n"
     ]
    },
    {
     "name": "stderr",
     "output_type": "stream",
     "text": [
      "2020-12-15 08:12:28,391 [DEBUG] kashgari - predict output: (381, 28)\n",
      "2020-12-15 08:12:28,392 [DEBUG] kashgari - predict output argmax: [[0 1 1 ... 1 1 1]\n",
      " [0 1 1 ... 1 1 1]\n",
      " [0 1 1 ... 1 1 1]\n",
      " ...\n",
      " [0 1 1 ... 1 1 1]\n",
      " [0 1 0 ... 1 1 1]\n",
      " [0 0 0 ... 0 0 0]]\n",
      "2020-12-15 08:12:28,396 [DEBUG] kashgari - predict seq_length: None, input: (2, 244, 27)\n"
     ]
    },
    {
     "name": "stdout",
     "output_type": "stream",
     "text": [
      "8/8 [==============================] - 0s 38ms/step\n"
     ]
    },
    {
     "name": "stderr",
     "output_type": "stream",
     "text": [
      "2020-12-15 08:12:28,775 [DEBUG] kashgari - predict output: (244, 27)\n",
      "2020-12-15 08:12:28,777 [DEBUG] kashgari - predict output argmax: [[0 1 1 ... 1 1 1]\n",
      " [0 1 1 ... 1 1 1]\n",
      " [0 1 1 ... 1 1 1]\n",
      " ...\n",
      " [0 1 1 ... 1 1 1]\n",
      " [0 1 1 ... 1 1 1]\n",
      " [0 0 0 ... 0 0 0]]\n",
      "2020-12-15 08:12:28,779 [DEBUG] kashgari - predict seq_length: None, input: (2, 91, 46)\n"
     ]
    },
    {
     "name": "stdout",
     "output_type": "stream",
     "text": [
      "3/3 [==============================] - 0s 42ms/step\n"
     ]
    },
    {
     "name": "stderr",
     "output_type": "stream",
     "text": [
      "2020-12-15 08:12:29,001 [DEBUG] kashgari - predict output: (91, 46)\n",
      "2020-12-15 08:12:29,002 [DEBUG] kashgari - predict output argmax: [[0 1 1 ... 1 1 1]\n",
      " [0 1 1 ... 1 1 1]\n",
      " [0 1 1 ... 1 1 1]\n",
      " ...\n",
      " [0 1 1 ... 1 1 1]\n",
      " [0 1 1 ... 1 1 1]\n",
      " [0 0 0 ... 0 0 0]]\n",
      "2020-12-15 08:12:29,006 [DEBUG] kashgari - predict seq_length: None, input: (2, 223, 42)\n"
     ]
    },
    {
     "name": "stdout",
     "output_type": "stream",
     "text": [
      "7/7 [==============================] - 0s 53ms/step\n"
     ]
    },
    {
     "name": "stderr",
     "output_type": "stream",
     "text": [
      "2020-12-15 08:12:29,467 [DEBUG] kashgari - predict output: (223, 42)\n",
      "2020-12-15 08:12:29,468 [DEBUG] kashgari - predict output argmax: [[0 1 1 ... 1 1 1]\n",
      " [0 1 1 ... 1 1 1]\n",
      " [0 1 0 ... 1 1 1]\n",
      " ...\n",
      " [0 1 1 ... 1 1 1]\n",
      " [0 1 1 ... 1 1 1]\n",
      " [0 0 0 ... 0 0 0]]\n",
      "2020-12-15 08:12:29,470 [DEBUG] kashgari - predict seq_length: None, input: (2, 146, 25)\n"
     ]
    },
    {
     "name": "stdout",
     "output_type": "stream",
     "text": [
      "5/5 [==============================] - 0s 34ms/step\n"
     ]
    },
    {
     "name": "stderr",
     "output_type": "stream",
     "text": [
      "2020-12-15 08:12:29,712 [DEBUG] kashgari - predict output: (146, 25)\n",
      "2020-12-15 08:12:29,713 [DEBUG] kashgari - predict output argmax: [[0 1 1 ... 2 2 2]\n",
      " [0 1 1 ... 1 1 1]\n",
      " [0 1 1 ... 1 1 1]\n",
      " ...\n",
      " [0 1 1 ... 1 1 1]\n",
      " [0 1 1 ... 1 1 1]\n",
      " [0 0 0 ... 0 0 0]]\n",
      "2020-12-15 08:12:29,717 [DEBUG] kashgari - predict seq_length: None, input: (2, 162, 23)\n"
     ]
    },
    {
     "name": "stdout",
     "output_type": "stream",
     "text": [
      "6/6 [==============================] - 0s 35ms/step\n"
     ]
    },
    {
     "name": "stderr",
     "output_type": "stream",
     "text": [
      "2020-12-15 08:12:29,995 [DEBUG] kashgari - predict output: (162, 23)\n",
      "2020-12-15 08:12:29,996 [DEBUG] kashgari - predict output argmax: [[0 1 1 ... 1 1 1]\n",
      " [0 1 1 ... 1 1 1]\n",
      " [0 1 1 ... 1 1 1]\n",
      " ...\n",
      " [0 1 1 ... 1 1 1]\n",
      " [0 1 1 ... 1 1 1]\n",
      " [0 0 0 ... 0 0 0]]\n",
      "2020-12-15 08:12:30,001 [DEBUG] kashgari - predict seq_length: None, input: (2, 244, 27)\n"
     ]
    },
    {
     "name": "stdout",
     "output_type": "stream",
     "text": [
      "8/8 [==============================] - 0s 40ms/step\n"
     ]
    },
    {
     "name": "stderr",
     "output_type": "stream",
     "text": [
      "2020-12-15 08:12:30,394 [DEBUG] kashgari - predict output: (244, 27)\n",
      "2020-12-15 08:12:30,395 [DEBUG] kashgari - predict output argmax: [[0 1 1 ... 1 1 1]\n",
      " [0 9 5 ... 5 5 5]\n",
      " [0 1 1 ... 1 1 1]\n",
      " ...\n",
      " [0 1 1 ... 1 1 1]\n",
      " [0 1 1 ... 0 1 1]\n",
      " [0 0 0 ... 0 0 0]]\n",
      "2020-12-15 08:12:30,397 [DEBUG] kashgari - predict seq_length: None, input: (2, 170, 18)\n"
     ]
    },
    {
     "name": "stdout",
     "output_type": "stream",
     "text": [
      "6/6 [==============================] - 0s 33ms/step\n"
     ]
    },
    {
     "name": "stderr",
     "output_type": "stream",
     "text": [
      "2020-12-15 08:12:34,342 [DEBUG] kashgari - predict output: (170, 18)\n",
      "2020-12-15 08:12:34,343 [DEBUG] kashgari - predict output argmax: [[0 1 1 ... 0 1 1]\n",
      " [0 1 1 ... 1 1 1]\n",
      " [0 1 1 ... 1 1 1]\n",
      " ...\n",
      " [0 1 1 ... 1 1 1]\n",
      " [0 1 1 ... 1 1 1]\n",
      " [0 0 0 ... 0 0 0]]\n",
      "2020-12-15 08:12:34,347 [DEBUG] kashgari - predict seq_length: None, input: (2, 199, 36)\n"
     ]
    },
    {
     "name": "stdout",
     "output_type": "stream",
     "text": [
      "7/7 [==============================] - 0s 47ms/step\n"
     ]
    },
    {
     "name": "stderr",
     "output_type": "stream",
     "text": [
      "2020-12-15 08:12:34,770 [DEBUG] kashgari - predict output: (199, 36)\n",
      "2020-12-15 08:12:34,771 [DEBUG] kashgari - predict output argmax: [[0 1 1 ... 1 1 1]\n",
      " [0 1 1 ... 1 1 1]\n",
      " [0 1 1 ... 1 1 1]\n",
      " ...\n",
      " [0 1 1 ... 1 1 1]\n",
      " [0 1 1 ... 1 1 1]\n",
      " [0 0 0 ... 0 0 0]]\n",
      "2020-12-15 08:12:34,780 [DEBUG] kashgari - predict seq_length: None, input: (2, 557, 17)\n"
     ]
    },
    {
     "name": "stdout",
     "output_type": "stream",
     "text": [
      "18/18 [==============================] - 1s 34ms/step\n"
     ]
    },
    {
     "name": "stderr",
     "output_type": "stream",
     "text": [
      "2020-12-15 08:12:35,458 [DEBUG] kashgari - predict output: (557, 17)\n",
      "2020-12-15 08:12:35,459 [DEBUG] kashgari - predict output argmax: [[0 1 1 ... 1 1 1]\n",
      " [0 1 0 ... 1 1 1]\n",
      " [0 9 5 ... 5 5 5]\n",
      " ...\n",
      " [0 1 1 ... 1 1 1]\n",
      " [0 1 1 ... 1 1 1]\n",
      " [0 0 0 ... 0 0 0]]\n",
      "2020-12-15 08:12:35,463 [DEBUG] kashgari - predict seq_length: None, input: (2, 278, 42)\n"
     ]
    },
    {
     "name": "stdout",
     "output_type": "stream",
     "text": [
      "9/9 [==============================] - 0s 53ms/step\n"
     ]
    },
    {
     "name": "stderr",
     "output_type": "stream",
     "text": [
      "2020-12-15 08:12:36,033 [DEBUG] kashgari - predict output: (278, 42)\n",
      "2020-12-15 08:12:36,034 [DEBUG] kashgari - predict output argmax: [[0 1 1 ... 1 1 1]\n",
      " [0 1 1 ... 1 1 1]\n",
      " [0 1 1 ... 1 1 1]\n",
      " ...\n",
      " [0 1 0 ... 1 1 1]\n",
      " [0 1 1 ... 1 1 1]\n",
      " [0 0 0 ... 0 0 0]]\n",
      "2020-12-15 08:12:36,039 [DEBUG] kashgari - predict seq_length: None, input: (2, 91, 19)\n"
     ]
    },
    {
     "name": "stdout",
     "output_type": "stream",
     "text": [
      "3/3 [==============================] - 0s 24ms/step\n"
     ]
    },
    {
     "name": "stderr",
     "output_type": "stream",
     "text": [
      "2020-12-15 08:12:36,176 [DEBUG] kashgari - predict output: (91, 19)\n",
      "2020-12-15 08:12:36,177 [DEBUG] kashgari - predict output argmax: [[0 1 1 ... 1 1 1]\n",
      " [0 1 1 ... 1 1 1]\n",
      " [0 1 1 ... 1 1 1]\n",
      " ...\n",
      " [0 1 0 ... 1 1 1]\n",
      " [0 1 1 ... 1 1 1]\n",
      " [0 0 0 ... 0 0 0]]\n",
      "2020-12-15 08:12:36,183 [DEBUG] kashgari - predict seq_length: None, input: (2, 296, 24)\n"
     ]
    },
    {
     "name": "stdout",
     "output_type": "stream",
     "text": [
      "10/10 [==============================] - 0s 36ms/step\n"
     ]
    },
    {
     "name": "stderr",
     "output_type": "stream",
     "text": [
      "2020-12-15 08:12:36,618 [DEBUG] kashgari - predict output: (296, 24)\n",
      "2020-12-15 08:12:36,620 [DEBUG] kashgari - predict output argmax: [[0 1 1 ... 1 1 1]\n",
      " [0 1 1 ... 1 1 1]\n",
      " [0 1 1 ... 1 1 1]\n",
      " ...\n",
      " [0 1 1 ... 1 1 1]\n",
      " [0 1 1 ... 1 1 1]\n",
      " [0 0 0 ... 0 0 0]]\n",
      "2020-12-15 08:12:36,623 [DEBUG] kashgari - predict seq_length: None, input: (2, 154, 48)\n"
     ]
    },
    {
     "name": "stdout",
     "output_type": "stream",
     "text": [
      "5/5 [==============================] - 0s 55ms/step\n"
     ]
    },
    {
     "name": "stderr",
     "output_type": "stream",
     "text": [
      "2020-12-15 08:12:40,741 [DEBUG] kashgari - predict output: (154, 48)\n",
      "2020-12-15 08:12:40,742 [DEBUG] kashgari - predict output argmax: [[0 1 1 ... 1 1 1]\n",
      " [0 1 1 ... 1 1 1]\n",
      " [0 1 1 ... 1 1 1]\n",
      " ...\n",
      " [0 1 1 ... 1 1 1]\n",
      " [0 1 1 ... 1 1 1]\n",
      " [0 0 0 ... 0 0 0]]\n",
      "2020-12-15 08:12:40,745 [DEBUG] kashgari - predict seq_length: None, input: (2, 206, 37)\n"
     ]
    },
    {
     "name": "stdout",
     "output_type": "stream",
     "text": [
      "7/7 [==============================] - 0s 49ms/step\n"
     ]
    },
    {
     "name": "stderr",
     "output_type": "stream",
     "text": [
      "2020-12-15 08:12:45,008 [DEBUG] kashgari - predict output: (206, 37)\n",
      "2020-12-15 08:12:45,009 [DEBUG] kashgari - predict output argmax: [[0 1 1 ... 1 1 1]\n",
      " [0 1 1 ... 1 1 1]\n",
      " [0 1 1 ... 1 1 1]\n",
      " ...\n",
      " [0 1 1 ... 1 1 1]\n",
      " [0 1 9 ... 1 1 1]\n",
      " [0 0 0 ... 0 0 0]]\n",
      "2020-12-15 08:12:45,012 [DEBUG] kashgari - predict seq_length: None, input: (2, 241, 20)\n"
     ]
    },
    {
     "name": "stdout",
     "output_type": "stream",
     "text": [
      "8/8 [==============================] - 0s 32ms/step\n"
     ]
    },
    {
     "name": "stderr",
     "output_type": "stream",
     "text": [
      "2020-12-15 08:12:45,333 [DEBUG] kashgari - predict output: (241, 20)\n",
      "2020-12-15 08:12:45,335 [DEBUG] kashgari - predict output argmax: [[0 1 1 ... 1 1 1]\n",
      " [0 1 1 ... 1 1 1]\n",
      " [0 1 0 ... 1 1 1]\n",
      " ...\n",
      " [0 1 1 ... 1 1 1]\n",
      " [0 1 1 ... 1 1 1]\n",
      " [0 0 0 ... 0 0 0]]\n",
      "2020-12-15 08:12:45,340 [DEBUG] kashgari - predict seq_length: None, input: (2, 459, 31)\n"
     ]
    },
    {
     "name": "stdout",
     "output_type": "stream",
     "text": [
      "15/15 [==============================] - 1s 46ms/step\n"
     ]
    },
    {
     "name": "stderr",
     "output_type": "stream",
     "text": [
      "2020-12-15 08:12:46,120 [DEBUG] kashgari - predict output: (459, 31)\n",
      "2020-12-15 08:12:46,121 [DEBUG] kashgari - predict output argmax: [[0 1 1 ... 1 1 1]\n",
      " [0 1 1 ... 1 1 1]\n",
      " [0 1 1 ... 1 1 1]\n",
      " ...\n",
      " [0 1 1 ... 1 1 1]\n",
      " [0 1 1 ... 1 1 1]\n",
      " [0 0 0 ... 0 0 0]]\n",
      "2020-12-15 08:12:46,125 [DEBUG] kashgari - predict seq_length: None, input: (2, 223, 34)\n"
     ]
    },
    {
     "name": "stdout",
     "output_type": "stream",
     "text": [
      "7/7 [==============================] - 0s 46ms/step\n"
     ]
    },
    {
     "name": "stderr",
     "output_type": "stream",
     "text": [
      "2020-12-15 08:12:46,529 [DEBUG] kashgari - predict output: (223, 34)\n",
      "2020-12-15 08:12:46,530 [DEBUG] kashgari - predict output argmax: [[0 1 1 ... 1 1 1]\n",
      " [0 1 1 ... 1 1 1]\n",
      " [0 1 1 ... 1 1 1]\n",
      " ...\n",
      " [0 1 1 ... 1 1 1]\n",
      " [0 1 1 ... 1 1 1]\n",
      " [0 0 0 ... 0 0 0]]\n",
      "2020-12-15 08:12:46,535 [DEBUG] kashgari - predict seq_length: None, input: (2, 358, 26)\n"
     ]
    },
    {
     "name": "stdout",
     "output_type": "stream",
     "text": [
      "12/12 [==============================] - 0s 41ms/step\n"
     ]
    },
    {
     "name": "stderr",
     "output_type": "stream",
     "text": [
      "2020-12-15 08:12:47,097 [DEBUG] kashgari - predict output: (358, 26)\n",
      "2020-12-15 08:12:47,098 [DEBUG] kashgari - predict output argmax: [[0 1 1 ... 1 1 1]\n",
      " [0 1 1 ... 1 1 1]\n",
      " [0 1 0 ... 1 1 1]\n",
      " ...\n",
      " [0 1 1 ... 1 1 1]\n",
      " [0 1 1 ... 1 1 1]\n",
      " [0 0 0 ... 0 0 0]]\n",
      "2020-12-15 08:12:47,102 [DEBUG] kashgari - predict seq_length: None, input: (2, 72, 20)\n"
     ]
    },
    {
     "name": "stdout",
     "output_type": "stream",
     "text": [
      "3/3 [==============================] - 0s 23ms/step\n"
     ]
    },
    {
     "name": "stderr",
     "output_type": "stream",
     "text": [
      "2020-12-15 08:12:47,237 [DEBUG] kashgari - predict output: (72, 20)\n",
      "2020-12-15 08:12:47,238 [DEBUG] kashgari - predict output argmax: [[0 1 1 ... 1 1 1]\n",
      " [0 1 1 ... 1 1 1]\n",
      " [0 1 1 ... 1 1 1]\n",
      " ...\n",
      " [0 1 1 ... 1 1 1]\n",
      " [0 1 1 ... 1 1 1]\n",
      " [0 0 0 ... 0 0 0]]\n",
      "2020-12-15 08:12:47,241 [DEBUG] kashgari - predict seq_length: None, input: (2, 75, 24)\n"
     ]
    },
    {
     "name": "stdout",
     "output_type": "stream",
     "text": [
      "3/3 [==============================] - 0s 25ms/step\n"
     ]
    },
    {
     "name": "stderr",
     "output_type": "stream",
     "text": [
      "2020-12-15 08:12:47,385 [DEBUG] kashgari - predict output: (75, 24)\n",
      "2020-12-15 08:12:47,386 [DEBUG] kashgari - predict output argmax: [[0 1 1 ... 1 1 1]\n",
      " [0 1 1 ... 1 1 1]\n",
      " [0 1 1 ... 1 1 1]\n",
      " ...\n",
      " [0 1 1 ... 1 1 1]\n",
      " [0 1 1 ... 1 1 1]\n",
      " [0 0 0 ... 0 0 0]]\n",
      "2020-12-15 08:12:47,390 [DEBUG] kashgari - predict seq_length: None, input: (2, 191, 36)\n"
     ]
    },
    {
     "name": "stdout",
     "output_type": "stream",
     "text": [
      "6/6 [==============================] - 0s 45ms/step\n"
     ]
    },
    {
     "name": "stderr",
     "output_type": "stream",
     "text": [
      "2020-12-15 08:12:47,740 [DEBUG] kashgari - predict output: (191, 36)\n",
      "2020-12-15 08:12:47,741 [DEBUG] kashgari - predict output argmax: [[0 1 1 ... 1 1 1]\n",
      " [0 1 1 ... 1 1 1]\n",
      " [0 1 1 ... 1 1 1]\n",
      " ...\n",
      " [0 1 1 ... 1 1 1]\n",
      " [0 1 1 ... 1 1 1]\n",
      " [0 0 0 ... 0 0 0]]\n",
      "2020-12-15 08:12:47,745 [DEBUG] kashgari - predict seq_length: None, input: (2, 149, 19)\n"
     ]
    },
    {
     "name": "stdout",
     "output_type": "stream",
     "text": [
      "5/5 [==============================] - 0s 30ms/step\n"
     ]
    },
    {
     "name": "stderr",
     "output_type": "stream",
     "text": [
      "2020-12-15 08:12:47,956 [DEBUG] kashgari - predict output: (149, 19)\n",
      "2020-12-15 08:12:47,957 [DEBUG] kashgari - predict output argmax: [[0 1 1 ... 5 5 5]\n",
      " [0 1 1 ... 4 4 4]\n",
      " [0 1 1 ... 1 1 1]\n",
      " ...\n",
      " [0 1 1 ... 1 1 1]\n",
      " [0 1 1 ... 1 1 1]\n",
      " [0 0 0 ... 0 0 0]]\n",
      "2020-12-15 08:12:47,961 [DEBUG] kashgari - predict seq_length: None, input: (2, 176, 22)\n"
     ]
    },
    {
     "name": "stdout",
     "output_type": "stream",
     "text": [
      "6/6 [==============================] - 0s 32ms/step\n"
     ]
    },
    {
     "name": "stderr",
     "output_type": "stream",
     "text": [
      "2020-12-15 08:12:48,217 [DEBUG] kashgari - predict output: (176, 22)\n",
      "2020-12-15 08:12:48,218 [DEBUG] kashgari - predict output argmax: [[ 0  1  1 ...  1  1  1]\n",
      " [ 0  1  1 ...  1  1  1]\n",
      " [ 0  1  1 ...  1  1  1]\n",
      " ...\n",
      " [ 0 17 11 ... 11 11 11]\n",
      " [ 0  1  1 ...  1  1  1]\n",
      " [ 0  0  0 ...  0  0  0]]\n",
      "2020-12-15 08:12:48,221 [DEBUG] kashgari - predict seq_length: None, input: (2, 112, 45)\n"
     ]
    },
    {
     "name": "stdout",
     "output_type": "stream",
     "text": [
      "4/4 [==============================] - 0s 51ms/step\n"
     ]
    },
    {
     "name": "stderr",
     "output_type": "stream",
     "text": [
      "2020-12-15 08:12:52,248 [DEBUG] kashgari - predict output: (112, 45)\n",
      "2020-12-15 08:12:52,249 [DEBUG] kashgari - predict output argmax: [[0 1 1 ... 2 2 2]\n",
      " [0 1 1 ... 1 1 1]\n",
      " [0 1 1 ... 1 1 1]\n",
      " ...\n",
      " [0 1 1 ... 1 1 1]\n",
      " [0 1 1 ... 1 1 1]\n",
      " [0 0 0 ... 0 0 0]]\n",
      "2020-12-15 08:12:52,252 [DEBUG] kashgari - predict seq_length: None, input: (2, 269, 21)\n"
     ]
    },
    {
     "name": "stdout",
     "output_type": "stream",
     "text": [
      "9/9 [==============================] - 0s 33ms/step\n"
     ]
    },
    {
     "name": "stderr",
     "output_type": "stream",
     "text": [
      "2020-12-15 08:12:52,623 [DEBUG] kashgari - predict output: (269, 21)\n",
      "2020-12-15 08:12:52,624 [DEBUG] kashgari - predict output argmax: [[0 1 1 ... 1 1 1]\n",
      " [0 1 1 ... 1 1 1]\n",
      " [0 1 1 ... 1 1 1]\n",
      " ...\n",
      " [0 1 1 ... 1 1 1]\n",
      " [0 1 1 ... 1 1 1]\n",
      " [0 0 0 ... 0 0 0]]\n",
      "2020-12-15 08:12:52,628 [DEBUG] kashgari - predict seq_length: None, input: (2, 112, 18)\n"
     ]
    },
    {
     "name": "stdout",
     "output_type": "stream",
     "text": [
      "4/4 [==============================] - 0s 24ms/step\n"
     ]
    },
    {
     "name": "stderr",
     "output_type": "stream",
     "text": [
      "2020-12-15 08:12:52,782 [DEBUG] kashgari - predict output: (112, 18)\n",
      "2020-12-15 08:12:52,783 [DEBUG] kashgari - predict output argmax: [[0 1 1 ... 1 1 1]\n",
      " [0 1 1 ... 1 1 1]\n",
      " [0 1 1 ... 1 1 1]\n",
      " ...\n",
      " [0 1 1 ... 1 1 1]\n",
      " [0 1 7 ... 1 1 1]\n",
      " [0 0 0 ... 0 0 0]]\n",
      "2020-12-15 08:12:52,789 [DEBUG] kashgari - predict seq_length: None, input: (2, 352, 22)\n"
     ]
    },
    {
     "name": "stdout",
     "output_type": "stream",
     "text": [
      "11/11 [==============================] - 0s 30ms/step\n"
     ]
    },
    {
     "name": "stderr",
     "output_type": "stream",
     "text": [
      "2020-12-15 08:12:55,741 [DEBUG] kashgari - predict output: (352, 22)\n",
      "2020-12-15 08:12:55,742 [DEBUG] kashgari - predict output argmax: [[0 1 1 ... 1 1 1]\n",
      " [0 1 1 ... 1 1 1]\n",
      " [0 1 1 ... 1 1 1]\n",
      " ...\n",
      " [0 1 1 ... 1 1 1]\n",
      " [0 1 1 ... 1 1 1]\n",
      " [0 0 0 ... 0 0 0]]\n",
      "2020-12-15 08:12:55,745 [DEBUG] kashgari - predict seq_length: None, input: (2, 243, 24)\n"
     ]
    },
    {
     "name": "stdout",
     "output_type": "stream",
     "text": [
      "8/8 [==============================] - 0s 35ms/step\n"
     ]
    },
    {
     "name": "stderr",
     "output_type": "stream",
     "text": [
      "2020-12-15 08:12:56,098 [DEBUG] kashgari - predict output: (243, 24)\n",
      "2020-12-15 08:12:56,099 [DEBUG] kashgari - predict output argmax: [[0 1 1 ... 1 1 1]\n",
      " [0 1 1 ... 1 1 1]\n",
      " [0 1 1 ... 1 1 1]\n",
      " ...\n",
      " [0 1 1 ... 1 1 1]\n",
      " [0 1 1 ... 1 1 1]\n",
      " [0 0 0 ... 0 0 0]]\n",
      "2020-12-15 08:12:56,106 [DEBUG] kashgari - predict seq_length: None, input: (2, 340, 27)\n"
     ]
    },
    {
     "name": "stdout",
     "output_type": "stream",
     "text": [
      "11/11 [==============================] - 0s 42ms/step\n"
     ]
    },
    {
     "name": "stderr",
     "output_type": "stream",
     "text": [
      "2020-12-15 08:12:56,643 [DEBUG] kashgari - predict output: (340, 27)\n",
      "2020-12-15 08:12:56,644 [DEBUG] kashgari - predict output argmax: [[0 1 1 ... 1 1 1]\n",
      " [0 1 1 ... 1 1 1]\n",
      " [0 1 1 ... 1 1 1]\n",
      " ...\n",
      " [0 1 1 ... 1 1 1]\n",
      " [0 1 1 ... 1 1 1]\n",
      " [0 0 0 ... 0 0 0]]\n",
      "2020-12-15 08:12:56,650 [DEBUG] kashgari - predict seq_length: None, input: (2, 384, 25)\n"
     ]
    },
    {
     "name": "stdout",
     "output_type": "stream",
     "text": [
      "12/12 [==============================] - 0s 33ms/step\n"
     ]
    },
    {
     "name": "stderr",
     "output_type": "stream",
     "text": [
      "2020-12-15 08:12:59,692 [DEBUG] kashgari - predict output: (384, 25)\n",
      "2020-12-15 08:12:59,693 [DEBUG] kashgari - predict output argmax: [[0 1 1 ... 1 1 1]\n",
      " [0 1 1 ... 1 1 1]\n",
      " [0 1 1 ... 1 1 1]\n",
      " ...\n",
      " [0 1 1 ... 1 1 1]\n",
      " [0 1 1 ... 1 1 1]\n",
      " [0 0 0 ... 0 0 0]]\n",
      "2020-12-15 08:12:59,696 [DEBUG] kashgari - predict seq_length: None, input: (2, 112, 36)\n"
     ]
    },
    {
     "name": "stdout",
     "output_type": "stream",
     "text": [
      "4/4 [==============================] - 0s 39ms/step\n"
     ]
    },
    {
     "name": "stderr",
     "output_type": "stream",
     "text": [
      "2020-12-15 08:12:59,934 [DEBUG] kashgari - predict output: (112, 36)\n",
      "2020-12-15 08:12:59,935 [DEBUG] kashgari - predict output argmax: [[0 1 1 ... 1 1 1]\n",
      " [0 1 1 ... 1 1 1]\n",
      " [0 1 1 ... 1 1 1]\n",
      " ...\n",
      " [0 1 1 ... 1 1 1]\n",
      " [0 1 0 ... 1 1 1]\n",
      " [0 0 0 ... 0 0 0]]\n",
      "2020-12-15 08:12:59,939 [DEBUG] kashgari - predict seq_length: None, input: (2, 222, 28)\n"
     ]
    },
    {
     "name": "stdout",
     "output_type": "stream",
     "text": [
      "7/7 [==============================] - 0s 41ms/step\n"
     ]
    },
    {
     "name": "stderr",
     "output_type": "stream",
     "text": [
      "2020-12-15 08:13:00,304 [DEBUG] kashgari - predict output: (222, 28)\n",
      "2020-12-15 08:13:00,304 [DEBUG] kashgari - predict output argmax: [[0 1 1 ... 1 1 1]\n",
      " [0 1 1 ... 1 1 1]\n",
      " [0 1 1 ... 1 1 1]\n",
      " ...\n",
      " [0 1 1 ... 1 1 1]\n",
      " [0 1 1 ... 1 1 1]\n",
      " [0 0 0 ... 0 0 0]]\n",
      "2020-12-15 08:13:00,308 [DEBUG] kashgari - predict seq_length: None, input: (2, 255, 34)\n"
     ]
    },
    {
     "name": "stdout",
     "output_type": "stream",
     "text": [
      "8/8 [==============================] - 0s 47ms/step\n"
     ]
    },
    {
     "name": "stderr",
     "output_type": "stream",
     "text": [
      "2020-12-15 08:13:00,761 [DEBUG] kashgari - predict output: (255, 34)\n",
      "2020-12-15 08:13:00,762 [DEBUG] kashgari - predict output argmax: [[0 1 1 ... 1 1 1]\n",
      " [0 1 1 ... 1 1 1]\n",
      " [0 1 1 ... 1 1 1]\n",
      " ...\n",
      " [0 1 1 ... 1 1 1]\n",
      " [0 1 1 ... 1 1 1]\n",
      " [0 0 0 ... 0 0 0]]\n",
      "2020-12-15 08:13:00,764 [DEBUG] kashgari - predict seq_length: None, input: (2, 67, 25)\n"
     ]
    },
    {
     "name": "stdout",
     "output_type": "stream",
     "text": [
      "3/3 [==============================] - 0s 25ms/step\n"
     ]
    },
    {
     "name": "stderr",
     "output_type": "stream",
     "text": [
      "2020-12-15 08:13:00,907 [DEBUG] kashgari - predict output: (67, 25)\n",
      "2020-12-15 08:13:00,908 [DEBUG] kashgari - predict output argmax: [[0 1 1 ... 1 1 1]\n",
      " [0 1 1 ... 1 1 1]\n",
      " [0 1 1 ... 1 1 1]\n",
      " ...\n",
      " [0 1 1 ... 1 1 1]\n",
      " [0 1 1 ... 1 1 1]\n",
      " [0 0 0 ... 0 0 0]]\n",
      "2020-12-15 08:13:00,910 [DEBUG] kashgari - predict seq_length: None, input: (2, 77, 53)\n"
     ]
    },
    {
     "name": "stdout",
     "output_type": "stream",
     "text": [
      "3/3 [==============================] - 0s 44ms/step\n"
     ]
    },
    {
     "name": "stderr",
     "output_type": "stream",
     "text": [
      "2020-12-15 08:13:01,143 [DEBUG] kashgari - predict output: (77, 53)\n",
      "2020-12-15 08:13:01,144 [DEBUG] kashgari - predict output argmax: [[0 1 1 ... 1 1 1]\n",
      " [0 1 1 ... 1 1 1]\n",
      " [0 1 1 ... 1 1 1]\n",
      " ...\n",
      " [0 1 1 ... 1 1 1]\n",
      " [0 1 1 ... 1 1 1]\n",
      " [0 0 0 ... 0 0 0]]\n",
      "2020-12-15 08:13:01,146 [DEBUG] kashgari - predict seq_length: None, input: (2, 67, 27)\n"
     ]
    },
    {
     "name": "stdout",
     "output_type": "stream",
     "text": [
      "3/3 [==============================] - 0s 27ms/step\n"
     ]
    },
    {
     "name": "stderr",
     "output_type": "stream",
     "text": [
      "2020-12-15 08:13:01,299 [DEBUG] kashgari - predict output: (67, 27)\n",
      "2020-12-15 08:13:01,300 [DEBUG] kashgari - predict output argmax: [[ 0  1  1 ...  1  1  1]\n",
      " [ 0  1  1 ...  1  1  1]\n",
      " [ 0  1  1 ...  1  1  1]\n",
      " ...\n",
      " [ 0  1  1 ... 11 11 11]\n",
      " [ 0  1  1 ...  1  1  1]\n",
      " [ 0  0  0 ...  0  0  0]]\n",
      "2020-12-15 08:13:01,303 [DEBUG] kashgari - predict seq_length: None, input: (2, 72, 19)\n"
     ]
    },
    {
     "name": "stdout",
     "output_type": "stream",
     "text": [
      "3/3 [==============================] - 0s 24ms/step\n"
     ]
    },
    {
     "name": "stderr",
     "output_type": "stream",
     "text": [
      "2020-12-15 08:13:01,437 [DEBUG] kashgari - predict output: (72, 19)\n",
      "2020-12-15 08:13:01,438 [DEBUG] kashgari - predict output argmax: [[0 1 1 ... 1 1 0]\n",
      " [0 1 1 ... 1 1 1]\n",
      " [0 1 1 ... 1 1 1]\n",
      " ...\n",
      " [0 1 1 ... 1 1 1]\n",
      " [0 1 1 ... 1 1 1]\n",
      " [0 0 0 ... 0 0 0]]\n",
      "2020-12-15 08:13:01,441 [DEBUG] kashgari - predict seq_length: None, input: (2, 98, 24)\n"
     ]
    },
    {
     "name": "stdout",
     "output_type": "stream",
     "text": [
      "4/4 [==============================] - 0s 29ms/step\n"
     ]
    },
    {
     "name": "stderr",
     "output_type": "stream",
     "text": [
      "2020-12-15 08:13:01,626 [DEBUG] kashgari - predict output: (98, 24)\n",
      "2020-12-15 08:13:01,627 [DEBUG] kashgari - predict output argmax: [[0 1 1 ... 1 1 1]\n",
      " [0 1 1 ... 1 1 1]\n",
      " [0 1 1 ... 1 1 1]\n",
      " ...\n",
      " [0 1 1 ... 1 1 1]\n",
      " [0 1 1 ... 1 1 1]\n",
      " [0 0 0 ... 0 0 0]]\n",
      "2020-12-15 08:13:01,629 [DEBUG] kashgari - predict seq_length: None, input: (2, 87, 37)\n"
     ]
    },
    {
     "name": "stdout",
     "output_type": "stream",
     "text": [
      "3/3 [==============================] - 0s 37ms/step\n"
     ]
    },
    {
     "name": "stderr",
     "output_type": "stream",
     "text": [
      "2020-12-15 08:13:01,821 [DEBUG] kashgari - predict output: (87, 37)\n",
      "2020-12-15 08:13:01,822 [DEBUG] kashgari - predict output argmax: [[0 1 1 ... 1 1 1]\n",
      " [0 1 1 ... 1 1 1]\n",
      " [0 1 1 ... 1 1 1]\n",
      " ...\n",
      " [0 1 1 ... 1 1 1]\n",
      " [0 1 1 ... 1 1 1]\n",
      " [0 0 0 ... 0 0 0]]\n",
      "2020-12-15 08:13:01,828 [DEBUG] kashgari - predict seq_length: None, input: (2, 311, 29)\n"
     ]
    },
    {
     "name": "stdout",
     "output_type": "stream",
     "text": [
      "10/10 [==============================] - 0s 43ms/step\n"
     ]
    },
    {
     "name": "stderr",
     "output_type": "stream",
     "text": [
      "2020-12-15 08:13:02,341 [DEBUG] kashgari - predict output: (311, 29)\n",
      "2020-12-15 08:13:02,342 [DEBUG] kashgari - predict output argmax: [[0 1 1 ... 1 1 1]\n",
      " [0 1 1 ... 1 1 1]\n",
      " [0 1 1 ... 1 1 1]\n",
      " ...\n",
      " [0 1 1 ... 1 1 1]\n",
      " [0 1 1 ... 1 1 1]\n",
      " [0 0 0 ... 0 0 0]]\n",
      "2020-12-15 08:13:02,350 [DEBUG] kashgari - predict seq_length: None, input: (2, 447, 20)\n"
     ]
    },
    {
     "name": "stdout",
     "output_type": "stream",
     "text": [
      "14/14 [==============================] - 0s 35ms/step\n"
     ]
    },
    {
     "name": "stderr",
     "output_type": "stream",
     "text": [
      "2020-12-15 08:13:02,903 [DEBUG] kashgari - predict output: (447, 20)\n",
      "2020-12-15 08:13:02,904 [DEBUG] kashgari - predict output argmax: [[0 1 1 ... 1 1 1]\n",
      " [0 1 1 ... 1 1 1]\n",
      " [0 1 1 ... 1 1 1]\n",
      " ...\n",
      " [0 1 1 ... 1 1 1]\n",
      " [0 1 0 ... 1 1 1]\n",
      " [0 0 0 ... 0 0 0]]\n",
      "2020-12-15 08:13:02,907 [DEBUG] kashgari - predict seq_length: None, input: (2, 218, 19)\n"
     ]
    },
    {
     "name": "stdout",
     "output_type": "stream",
     "text": [
      "7/7 [==============================] - 0s 33ms/step\n"
     ]
    },
    {
     "name": "stderr",
     "output_type": "stream",
     "text": [
      "2020-12-15 08:13:03,201 [DEBUG] kashgari - predict output: (218, 19)\n",
      "2020-12-15 08:13:03,202 [DEBUG] kashgari - predict output argmax: [[0 1 1 ... 1 1 1]\n",
      " [0 1 1 ... 1 1 1]\n",
      " [0 1 1 ... 1 1 1]\n",
      " ...\n",
      " [0 1 1 ... 1 1 1]\n",
      " [0 1 1 ... 1 1 1]\n",
      " [0 0 0 ... 0 0 0]]\n",
      "2020-12-15 08:13:03,208 [DEBUG] kashgari - predict seq_length: None, input: (2, 285, 30)\n"
     ]
    },
    {
     "name": "stdout",
     "output_type": "stream",
     "text": [
      "9/9 [==============================] - 0s 43ms/step\n"
     ]
    },
    {
     "name": "stderr",
     "output_type": "stream",
     "text": [
      "2020-12-15 08:13:03,677 [DEBUG] kashgari - predict output: (285, 30)\n",
      "2020-12-15 08:13:03,679 [DEBUG] kashgari - predict output argmax: [[0 1 1 ... 4 4 4]\n",
      " [0 1 1 ... 4 4 4]\n",
      " [0 1 1 ... 1 1 1]\n",
      " ...\n",
      " [0 1 1 ... 1 1 1]\n",
      " [0 1 1 ... 1 1 1]\n",
      " [0 0 0 ... 0 0 0]]\n",
      "2020-12-15 08:13:03,685 [DEBUG] kashgari - predict seq_length: None, input: (2, 424, 21)\n"
     ]
    },
    {
     "name": "stdout",
     "output_type": "stream",
     "text": [
      "14/14 [==============================] - 1s 36ms/step\n"
     ]
    },
    {
     "name": "stderr",
     "output_type": "stream",
     "text": [
      "2020-12-15 08:13:04,257 [DEBUG] kashgari - predict output: (424, 21)\n",
      "2020-12-15 08:13:04,259 [DEBUG] kashgari - predict output argmax: [[0 1 1 ... 1 1 1]\n",
      " [0 1 1 ... 1 1 1]\n",
      " [0 1 1 ... 1 1 1]\n",
      " ...\n",
      " [0 1 1 ... 1 1 1]\n",
      " [0 1 1 ... 1 1 1]\n",
      " [0 0 0 ... 0 0 0]]\n",
      "2020-12-15 08:13:04,261 [DEBUG] kashgari - predict seq_length: None, input: (2, 94, 30)\n"
     ]
    },
    {
     "name": "stdout",
     "output_type": "stream",
     "text": [
      "3/3 [==============================] - 0s 31ms/step\n"
     ]
    },
    {
     "name": "stderr",
     "output_type": "stream",
     "text": [
      "2020-12-15 08:13:04,429 [DEBUG] kashgari - predict output: (94, 30)\n",
      "2020-12-15 08:13:04,430 [DEBUG] kashgari - predict output argmax: [[0 1 1 ... 1 1 1]\n",
      " [0 1 1 ... 1 1 1]\n",
      " [0 1 1 ... 1 1 1]\n",
      " ...\n",
      " [0 1 1 ... 1 1 1]\n",
      " [0 1 1 ... 1 1 1]\n",
      " [0 0 0 ... 0 0 0]]\n",
      "2020-12-15 08:13:04,434 [DEBUG] kashgari - predict seq_length: None, input: (2, 202, 34)\n"
     ]
    },
    {
     "name": "stdout",
     "output_type": "stream",
     "text": [
      "7/7 [==============================] - 0s 43ms/step\n"
     ]
    },
    {
     "name": "stderr",
     "output_type": "stream",
     "text": [
      "2020-12-15 08:13:04,812 [DEBUG] kashgari - predict output: (202, 34)\n",
      "2020-12-15 08:13:04,813 [DEBUG] kashgari - predict output argmax: [[0 1 1 ... 1 1 1]\n",
      " [0 1 1 ... 1 1 1]\n",
      " [0 1 1 ... 1 1 1]\n",
      " ...\n",
      " [0 1 1 ... 1 1 1]\n",
      " [0 1 1 ... 1 1 1]\n",
      " [0 0 0 ... 0 0 0]]\n",
      "2020-12-15 08:13:04,819 [DEBUG] kashgari - predict seq_length: None, input: (2, 242, 50)\n"
     ]
    },
    {
     "name": "stdout",
     "output_type": "stream",
     "text": [
      "8/8 [==============================] - 1s 64ms/step\n"
     ]
    },
    {
     "name": "stderr",
     "output_type": "stream",
     "text": [
      "2020-12-15 08:13:09,172 [DEBUG] kashgari - predict output: (242, 50)\n",
      "2020-12-15 08:13:09,173 [DEBUG] kashgari - predict output argmax: [[0 1 1 ... 1 1 1]\n",
      " [0 1 1 ... 1 1 1]\n",
      " [0 1 1 ... 1 1 1]\n",
      " ...\n",
      " [0 1 1 ... 1 1 1]\n",
      " [0 1 1 ... 1 1 1]\n",
      " [0 1 1 ... 1 1 1]]\n",
      "2020-12-15 08:13:09,177 [DEBUG] kashgari - predict seq_length: None, input: (2, 269, 38)\n"
     ]
    },
    {
     "name": "stdout",
     "output_type": "stream",
     "text": [
      "9/9 [==============================] - 0s 50ms/step\n"
     ]
    },
    {
     "name": "stderr",
     "output_type": "stream",
     "text": [
      "2020-12-15 08:13:09,713 [DEBUG] kashgari - predict output: (269, 38)\n",
      "2020-12-15 08:13:09,714 [DEBUG] kashgari - predict output argmax: [[0 1 1 ... 1 1 1]\n",
      " [0 1 1 ... 1 1 1]\n",
      " [0 1 1 ... 1 1 1]\n",
      " ...\n",
      " [0 1 1 ... 1 1 1]\n",
      " [0 1 1 ... 1 1 1]\n",
      " [0 0 0 ... 0 0 0]]\n",
      "2020-12-15 08:13:09,718 [DEBUG] kashgari - predict seq_length: None, input: (2, 108, 35)\n"
     ]
    },
    {
     "name": "stdout",
     "output_type": "stream",
     "text": [
      "4/4 [==============================] - 0s 40ms/step\n"
     ]
    },
    {
     "name": "stderr",
     "output_type": "stream",
     "text": [
      "2020-12-15 08:13:13,692 [DEBUG] kashgari - predict output: (108, 35)\n",
      "2020-12-15 08:13:13,693 [DEBUG] kashgari - predict output argmax: [[0 1 1 ... 1 1 1]\n",
      " [0 1 0 ... 1 1 1]\n",
      " [0 1 1 ... 1 1 1]\n",
      " ...\n",
      " [0 1 1 ... 1 1 1]\n",
      " [0 1 1 ... 1 1 1]\n",
      " [0 0 0 ... 0 0 0]]\n",
      "2020-12-15 08:13:13,696 [DEBUG] kashgari - predict seq_length: None, input: (2, 136, 30)\n"
     ]
    },
    {
     "name": "stdout",
     "output_type": "stream",
     "text": [
      "5/5 [==============================] - 0s 40ms/step\n"
     ]
    },
    {
     "name": "stderr",
     "output_type": "stream",
     "text": [
      "2020-12-15 08:13:13,976 [DEBUG] kashgari - predict output: (136, 30)\n",
      "2020-12-15 08:13:13,977 [DEBUG] kashgari - predict output argmax: [[0 1 1 ... 1 1 1]\n",
      " [0 1 1 ... 1 1 1]\n",
      " [0 1 1 ... 1 1 1]\n",
      " ...\n",
      " [0 1 1 ... 1 1 1]\n",
      " [0 1 1 ... 1 1 1]\n",
      " [0 0 0 ... 0 0 0]]\n",
      "2020-12-15 08:13:13,981 [DEBUG] kashgari - predict seq_length: None, input: (2, 217, 28)\n"
     ]
    },
    {
     "name": "stdout",
     "output_type": "stream",
     "text": [
      "7/7 [==============================] - 0s 43ms/step\n"
     ]
    },
    {
     "name": "stderr",
     "output_type": "stream",
     "text": [
      "2020-12-15 08:13:14,360 [DEBUG] kashgari - predict output: (217, 28)\n",
      "2020-12-15 08:13:14,361 [DEBUG] kashgari - predict output argmax: [[0 1 1 ... 1 1 1]\n",
      " [0 1 1 ... 1 1 1]\n",
      " [0 1 1 ... 1 1 1]\n",
      " ...\n",
      " [0 1 1 ... 1 1 1]\n",
      " [0 1 1 ... 1 1 1]\n",
      " [0 0 0 ... 0 0 0]]\n",
      "2020-12-15 08:13:14,363 [DEBUG] kashgari - predict seq_length: None, input: (2, 83, 27)\n"
     ]
    },
    {
     "name": "stdout",
     "output_type": "stream",
     "text": [
      "3/3 [==============================] - 0s 29ms/step\n"
     ]
    },
    {
     "name": "stderr",
     "output_type": "stream",
     "text": [
      "2020-12-15 08:13:14,521 [DEBUG] kashgari - predict output: (83, 27)\n",
      "2020-12-15 08:13:14,522 [DEBUG] kashgari - predict output argmax: [[0 1 1 ... 1 1 1]\n",
      " [0 1 1 ... 1 1 1]\n",
      " [0 1 1 ... 1 1 1]\n",
      " ...\n",
      " [0 1 1 ... 1 1 1]\n",
      " [0 1 1 ... 1 1 1]\n",
      " [0 0 0 ... 0 0 0]]\n",
      "2020-12-15 08:13:14,528 [DEBUG] kashgari - predict seq_length: None, input: (2, 392, 36)\n"
     ]
    },
    {
     "name": "stdout",
     "output_type": "stream",
     "text": [
      "13/13 [==============================] - 1s 50ms/step\n"
     ]
    },
    {
     "name": "stderr",
     "output_type": "stream",
     "text": [
      "2020-12-15 08:13:15,269 [DEBUG] kashgari - predict output: (392, 36)\n",
      "2020-12-15 08:13:15,270 [DEBUG] kashgari - predict output argmax: [[0 1 1 ... 1 1 1]\n",
      " [0 1 1 ... 1 1 1]\n",
      " [0 1 1 ... 1 1 1]\n",
      " ...\n",
      " [0 1 1 ... 1 1 1]\n",
      " [0 1 1 ... 1 1 1]\n",
      " [0 0 0 ... 0 0 0]]\n",
      "2020-12-15 08:13:15,273 [DEBUG] kashgari - predict seq_length: None, input: (2, 108, 41)\n"
     ]
    },
    {
     "name": "stdout",
     "output_type": "stream",
     "text": [
      "4/4 [==============================] - 0s 42ms/step\n"
     ]
    },
    {
     "name": "stderr",
     "output_type": "stream",
     "text": [
      "2020-12-15 08:13:15,526 [DEBUG] kashgari - predict output: (108, 41)\n",
      "2020-12-15 08:13:15,527 [DEBUG] kashgari - predict output argmax: [[0 1 1 ... 1 1 1]\n",
      " [0 1 1 ... 1 1 1]\n",
      " [0 1 1 ... 1 1 1]\n",
      " ...\n",
      " [0 1 1 ... 1 1 1]\n",
      " [0 1 1 ... 1 1 1]\n",
      " [0 0 0 ... 0 0 0]]\n",
      "2020-12-15 08:13:15,531 [DEBUG] kashgari - predict seq_length: None, input: (2, 221, 26)\n"
     ]
    },
    {
     "name": "stdout",
     "output_type": "stream",
     "text": [
      "7/7 [==============================] - 0s 38ms/step\n"
     ]
    },
    {
     "name": "stderr",
     "output_type": "stream",
     "text": [
      "2020-12-15 08:13:15,870 [DEBUG] kashgari - predict output: (221, 26)\n",
      "2020-12-15 08:13:15,871 [DEBUG] kashgari - predict output argmax: [[0 1 1 ... 1 1 1]\n",
      " [0 1 1 ... 1 1 1]\n",
      " [0 1 1 ... 1 1 1]\n",
      " ...\n",
      " [0 1 1 ... 1 1 1]\n",
      " [0 1 1 ... 1 1 1]\n",
      " [0 0 0 ... 0 0 0]]\n",
      "2020-12-15 08:13:15,875 [DEBUG] kashgari - predict seq_length: None, input: (2, 94, 45)\n"
     ]
    },
    {
     "name": "stdout",
     "output_type": "stream",
     "text": [
      "3/3 [==============================] - 0s 46ms/step\n"
     ]
    },
    {
     "name": "stderr",
     "output_type": "stream",
     "text": [
      "2020-12-15 08:13:16,111 [DEBUG] kashgari - predict output: (94, 45)\n",
      "2020-12-15 08:13:16,112 [DEBUG] kashgari - predict output argmax: [[0 1 1 ... 1 1 1]\n",
      " [0 1 1 ... 1 1 1]\n",
      " [0 1 1 ... 1 1 1]\n",
      " ...\n",
      " [0 1 1 ... 1 1 1]\n",
      " [0 1 1 ... 1 1 1]\n",
      " [0 0 0 ... 0 0 0]]\n",
      "2020-12-15 08:13:16,114 [DEBUG] kashgari - predict seq_length: None, input: (2, 59, 21)\n"
     ]
    },
    {
     "name": "stdout",
     "output_type": "stream",
     "text": [
      "2/2 [==============================] - 0s 19ms/step\n"
     ]
    },
    {
     "name": "stderr",
     "output_type": "stream",
     "text": [
      "2020-12-15 08:13:16,223 [DEBUG] kashgari - predict output: (59, 21)\n",
      "2020-12-15 08:13:16,224 [DEBUG] kashgari - predict output argmax: [[0 1 1 ... 1 1 1]\n",
      " [0 1 1 ... 1 1 1]\n",
      " [0 1 1 ... 1 1 1]\n",
      " ...\n",
      " [0 1 1 ... 1 1 1]\n",
      " [0 1 1 ... 1 1 1]\n",
      " [0 0 0 ... 0 0 0]]\n",
      "2020-12-15 08:13:16,226 [DEBUG] kashgari - predict seq_length: None, input: (2, 101, 33)\n"
     ]
    },
    {
     "name": "stdout",
     "output_type": "stream",
     "text": [
      "4/4 [==============================] - 0s 38ms/step\n"
     ]
    },
    {
     "name": "stderr",
     "output_type": "stream",
     "text": [
      "2020-12-15 08:13:20,126 [DEBUG] kashgari - predict output: (101, 33)\n",
      "2020-12-15 08:13:20,127 [DEBUG] kashgari - predict output argmax: [[0 1 1 ... 1 1 1]\n",
      " [0 1 1 ... 1 1 1]\n",
      " [0 1 1 ... 1 1 1]\n",
      " ...\n",
      " [0 1 1 ... 1 1 1]\n",
      " [0 1 1 ... 1 1 1]\n",
      " [0 0 0 ... 0 0 0]]\n",
      "2020-12-15 08:13:20,129 [DEBUG] kashgari - predict seq_length: None, input: (2, 64, 33)\n"
     ]
    },
    {
     "name": "stdout",
     "output_type": "stream",
     "text": [
      "2/2 [==============================] - 0s 23ms/step\n"
     ]
    },
    {
     "name": "stderr",
     "output_type": "stream",
     "text": [
      "2020-12-15 08:13:22,826 [DEBUG] kashgari - predict output: (64, 33)\n",
      "2020-12-15 08:13:22,827 [DEBUG] kashgari - predict output argmax: [[0 1 1 ... 1 1 1]\n",
      " [0 1 1 ... 1 1 0]\n",
      " [0 1 1 ... 1 1 1]\n",
      " ...\n",
      " [0 1 1 ... 4 4 4]\n",
      " [0 1 1 ... 1 1 1]\n",
      " [0 0 0 ... 0 0 0]]\n",
      "2020-12-15 08:13:22,829 [DEBUG] kashgari - predict seq_length: None, input: (2, 85, 30)\n"
     ]
    },
    {
     "name": "stdout",
     "output_type": "stream",
     "text": [
      "3/3 [==============================] - 0s 33ms/step\n"
     ]
    },
    {
     "name": "stderr",
     "output_type": "stream",
     "text": [
      "2020-12-15 08:13:23,007 [DEBUG] kashgari - predict output: (85, 30)\n",
      "2020-12-15 08:13:23,008 [DEBUG] kashgari - predict output argmax: [[0 1 1 ... 1 1 1]\n",
      " [0 1 1 ... 1 1 1]\n",
      " [0 1 1 ... 1 1 1]\n",
      " ...\n",
      " [0 1 1 ... 1 1 1]\n",
      " [0 1 1 ... 1 1 1]\n",
      " [0 0 0 ... 0 0 0]]\n",
      "2020-12-15 08:13:23,010 [DEBUG] kashgari - predict seq_length: None, input: (2, 89, 33)\n"
     ]
    },
    {
     "name": "stdout",
     "output_type": "stream",
     "text": [
      "3/3 [==============================] - 0s 34ms/step\n"
     ]
    },
    {
     "name": "stderr",
     "output_type": "stream",
     "text": [
      "2020-12-15 08:13:23,202 [DEBUG] kashgari - predict output: (89, 33)\n",
      "2020-12-15 08:13:23,203 [DEBUG] kashgari - predict output argmax: [[0 1 1 ... 2 2 2]\n",
      " [0 1 1 ... 1 1 1]\n",
      " [0 1 1 ... 1 1 1]\n",
      " ...\n",
      " [0 1 1 ... 1 1 1]\n",
      " [0 1 1 ... 1 1 1]\n",
      " [0 0 0 ... 0 0 0]]\n",
      "2020-12-15 08:13:23,207 [DEBUG] kashgari - predict seq_length: None, input: (2, 254, 27)\n"
     ]
    },
    {
     "name": "stdout",
     "output_type": "stream",
     "text": [
      "8/8 [==============================] - 0s 40ms/step\n"
     ]
    },
    {
     "name": "stderr",
     "output_type": "stream",
     "text": [
      "2020-12-15 08:13:23,605 [DEBUG] kashgari - predict output: (254, 27)\n",
      "2020-12-15 08:13:23,605 [DEBUG] kashgari - predict output argmax: [[0 1 1 ... 1 1 1]\n",
      " [0 1 1 ... 1 1 1]\n",
      " [0 1 1 ... 1 1 1]\n",
      " ...\n",
      " [0 1 1 ... 1 1 1]\n",
      " [0 1 1 ... 1 1 1]\n",
      " [0 0 0 ... 0 0 0]]\n",
      "2020-12-15 08:13:23,608 [DEBUG] kashgari - predict seq_length: None, input: (2, 129, 29)\n"
     ]
    },
    {
     "name": "stdout",
     "output_type": "stream",
     "text": [
      "5/5 [==============================] - 0s 35ms/step\n"
     ]
    },
    {
     "name": "stderr",
     "output_type": "stream",
     "text": [
      "2020-12-15 08:13:23,855 [DEBUG] kashgari - predict output: (129, 29)\n",
      "2020-12-15 08:13:23,856 [DEBUG] kashgari - predict output argmax: [[0 1 1 ... 1 1 1]\n",
      " [0 1 1 ... 1 1 1]\n",
      " [0 1 1 ... 1 1 1]\n",
      " ...\n",
      " [0 1 1 ... 1 1 1]\n",
      " [0 1 1 ... 1 1 1]\n",
      " [0 0 0 ... 0 0 0]]\n",
      "2020-12-15 08:13:23,859 [DEBUG] kashgari - predict seq_length: None, input: (2, 130, 26)\n"
     ]
    },
    {
     "name": "stdout",
     "output_type": "stream",
     "text": [
      "5/5 [==============================] - 0s 34ms/step\n"
     ]
    },
    {
     "name": "stderr",
     "output_type": "stream",
     "text": [
      "2020-12-15 08:13:24,111 [DEBUG] kashgari - predict output: (130, 26)\n",
      "2020-12-15 08:13:24,112 [DEBUG] kashgari - predict output argmax: [[0 1 1 ... 1 1 1]\n",
      " [0 1 1 ... 1 1 1]\n",
      " [0 1 1 ... 1 1 1]\n",
      " ...\n",
      " [0 1 1 ... 1 1 1]\n",
      " [0 1 1 ... 2 2 2]\n",
      " [0 0 0 ... 0 0 0]]\n",
      "2020-12-15 08:13:24,116 [DEBUG] kashgari - predict seq_length: None, input: (2, 143, 37)\n"
     ]
    },
    {
     "name": "stdout",
     "output_type": "stream",
     "text": [
      "5/5 [==============================] - 0s 43ms/step\n"
     ]
    },
    {
     "name": "stderr",
     "output_type": "stream",
     "text": [
      "2020-12-15 08:13:24,418 [DEBUG] kashgari - predict output: (143, 37)\n",
      "2020-12-15 08:13:24,419 [DEBUG] kashgari - predict output argmax: [[0 1 1 ... 1 1 1]\n",
      " [0 1 1 ... 1 1 1]\n",
      " [0 1 1 ... 1 1 1]\n",
      " ...\n",
      " [0 1 1 ... 1 1 1]\n",
      " [0 1 1 ... 1 1 1]\n",
      " [0 0 0 ... 0 0 0]]\n",
      "2020-12-15 08:13:24,421 [DEBUG] kashgari - predict seq_length: None, input: (2, 107, 36)\n"
     ]
    },
    {
     "name": "stdout",
     "output_type": "stream",
     "text": [
      "4/4 [==============================] - 0s 37ms/step\n"
     ]
    },
    {
     "name": "stderr",
     "output_type": "stream",
     "text": [
      "2020-12-15 08:13:24,652 [DEBUG] kashgari - predict output: (107, 36)\n",
      "2020-12-15 08:13:24,652 [DEBUG] kashgari - predict output argmax: [[0 1 1 ... 1 1 1]\n",
      " [0 1 1 ... 1 1 1]\n",
      " [0 1 1 ... 1 1 1]\n",
      " ...\n",
      " [0 1 1 ... 1 1 1]\n",
      " [0 1 1 ... 1 1 1]\n",
      " [0 0 0 ... 0 0 0]]\n",
      "2020-12-15 08:13:24,655 [DEBUG] kashgari - predict seq_length: None, input: (2, 70, 28)\n"
     ]
    },
    {
     "name": "stdout",
     "output_type": "stream",
     "text": [
      "3/3 [==============================] - 0s 26ms/step\n"
     ]
    },
    {
     "name": "stderr",
     "output_type": "stream",
     "text": [
      "2020-12-15 08:13:24,802 [DEBUG] kashgari - predict output: (70, 28)\n",
      "2020-12-15 08:13:24,802 [DEBUG] kashgari - predict output argmax: [[0 1 1 ... 1 1 1]\n",
      " [0 1 1 ... 1 1 1]\n",
      " [0 1 1 ... 1 1 1]\n",
      " ...\n",
      " [0 1 1 ... 1 1 1]\n",
      " [0 1 1 ... 1 1 1]\n",
      " [0 0 0 ... 0 0 0]]\n",
      "2020-12-15 08:13:24,807 [DEBUG] kashgari - predict seq_length: None, input: (2, 189, 26)\n"
     ]
    },
    {
     "name": "stdout",
     "output_type": "stream",
     "text": [
      "6/6 [==============================] - 0s 37ms/step\n"
     ]
    },
    {
     "name": "stderr",
     "output_type": "stream",
     "text": [
      "2020-12-15 08:13:25,101 [DEBUG] kashgari - predict output: (189, 26)\n",
      "2020-12-15 08:13:25,102 [DEBUG] kashgari - predict output argmax: [[0 1 1 ... 1 1 1]\n",
      " [0 1 1 ... 1 1 1]\n",
      " [0 1 1 ... 1 1 1]\n",
      " ...\n",
      " [0 1 1 ... 1 1 1]\n",
      " [0 1 1 ... 1 1 1]\n",
      " [0 0 0 ... 0 0 0]]\n",
      "2020-12-15 08:13:25,106 [DEBUG] kashgari - predict seq_length: None, input: (2, 99, 48)\n"
     ]
    },
    {
     "name": "stdout",
     "output_type": "stream",
     "text": [
      "4/4 [==============================] - 0s 45ms/step\n"
     ]
    },
    {
     "name": "stderr",
     "output_type": "stream",
     "text": [
      "2020-12-15 08:13:25,391 [DEBUG] kashgari - predict output: (99, 48)\n",
      "2020-12-15 08:13:25,392 [DEBUG] kashgari - predict output argmax: [[0 1 1 ... 1 1 1]\n",
      " [0 1 1 ... 1 1 1]\n",
      " [0 1 1 ... 1 1 1]\n",
      " ...\n",
      " [0 1 1 ... 1 1 1]\n",
      " [0 1 1 ... 1 1 1]\n",
      " [0 0 0 ... 0 0 0]]\n",
      "2020-12-15 08:13:25,396 [DEBUG] kashgari - predict seq_length: None, input: (2, 213, 35)\n"
     ]
    },
    {
     "name": "stdout",
     "output_type": "stream",
     "text": [
      "7/7 [==============================] - 0s 45ms/step\n"
     ]
    },
    {
     "name": "stderr",
     "output_type": "stream",
     "text": [
      "2020-12-15 08:13:25,799 [DEBUG] kashgari - predict output: (213, 35)\n",
      "2020-12-15 08:13:25,800 [DEBUG] kashgari - predict output argmax: [[0 1 1 ... 1 1 1]\n",
      " [0 1 1 ... 1 1 1]\n",
      " [0 1 1 ... 1 1 1]\n",
      " ...\n",
      " [0 1 1 ... 1 1 1]\n",
      " [0 1 0 ... 1 1 1]\n",
      " [0 0 0 ... 0 0 0]]\n",
      "2020-12-15 08:13:25,803 [DEBUG] kashgari - predict seq_length: None, input: (2, 181, 40)\n"
     ]
    },
    {
     "name": "stdout",
     "output_type": "stream",
     "text": [
      "6/6 [==============================] - 0s 48ms/step\n"
     ]
    },
    {
     "name": "stderr",
     "output_type": "stream",
     "text": [
      "2020-12-15 08:13:26,174 [DEBUG] kashgari - predict output: (181, 40)\n",
      "2020-12-15 08:13:26,175 [DEBUG] kashgari - predict output argmax: [[0 1 1 ... 1 1 1]\n",
      " [0 1 1 ... 1 1 1]\n",
      " [0 1 1 ... 1 1 1]\n",
      " ...\n",
      " [0 1 1 ... 1 1 1]\n",
      " [0 1 1 ... 1 1 1]\n",
      " [0 0 0 ... 0 0 0]]\n",
      "2020-12-15 08:13:26,178 [DEBUG] kashgari - predict seq_length: None, input: (2, 119, 34)\n"
     ]
    },
    {
     "name": "stdout",
     "output_type": "stream",
     "text": [
      "4/4 [==============================] - 0s 38ms/step\n"
     ]
    },
    {
     "name": "stderr",
     "output_type": "stream",
     "text": [
      "2020-12-15 08:13:26,410 [DEBUG] kashgari - predict output: (119, 34)\n",
      "2020-12-15 08:13:26,411 [DEBUG] kashgari - predict output argmax: [[0 1 1 ... 1 1 1]\n",
      " [0 1 0 ... 1 1 1]\n",
      " [0 1 1 ... 1 1 1]\n",
      " ...\n",
      " [0 1 1 ... 1 1 1]\n",
      " [0 1 1 ... 1 1 1]\n",
      " [0 0 0 ... 0 0 0]]\n",
      "2020-12-15 08:13:26,414 [DEBUG] kashgari - predict seq_length: None, input: (2, 188, 52)\n"
     ]
    },
    {
     "name": "stdout",
     "output_type": "stream",
     "text": [
      "6/6 [==============================] - 0s 65ms/step\n"
     ]
    },
    {
     "name": "stderr",
     "output_type": "stream",
     "text": [
      "2020-12-15 08:13:30,677 [DEBUG] kashgari - predict output: (188, 52)\n",
      "2020-12-15 08:13:30,678 [DEBUG] kashgari - predict output argmax: [[0 1 1 ... 1 1 1]\n",
      " [0 1 1 ... 1 1 1]\n",
      " [0 1 1 ... 1 1 1]\n",
      " ...\n",
      " [0 1 1 ... 1 1 1]\n",
      " [0 1 1 ... 1 1 1]\n",
      " [0 0 0 ... 0 0 0]]\n",
      "2020-12-15 08:13:30,682 [DEBUG] kashgari - predict seq_length: None, input: (2, 252, 30)\n"
     ]
    },
    {
     "name": "stdout",
     "output_type": "stream",
     "text": [
      "8/8 [==============================] - 0s 43ms/step\n"
     ]
    },
    {
     "name": "stderr",
     "output_type": "stream",
     "text": [
      "2020-12-15 08:13:31,102 [DEBUG] kashgari - predict output: (252, 30)\n",
      "2020-12-15 08:13:31,103 [DEBUG] kashgari - predict output argmax: [[0 1 1 ... 1 1 1]\n",
      " [0 1 1 ... 1 1 1]\n",
      " [0 1 1 ... 1 1 1]\n",
      " ...\n",
      " [0 1 1 ... 1 1 1]\n",
      " [0 1 1 ... 1 1 1]\n",
      " [0 0 0 ... 0 0 0]]\n",
      "2020-12-15 08:13:31,108 [DEBUG] kashgari - predict seq_length: None, input: (2, 249, 38)\n"
     ]
    },
    {
     "name": "stdout",
     "output_type": "stream",
     "text": [
      "8/8 [==============================] - 0s 50ms/step\n"
     ]
    },
    {
     "name": "stderr",
     "output_type": "stream",
     "text": [
      "2020-12-15 08:13:31,594 [DEBUG] kashgari - predict output: (249, 38)\n",
      "2020-12-15 08:13:31,595 [DEBUG] kashgari - predict output argmax: [[0 1 1 ... 1 1 1]\n",
      " [0 1 1 ... 1 1 1]\n",
      " [0 1 3 ... 1 1 1]\n",
      " ...\n",
      " [0 1 1 ... 1 1 1]\n",
      " [0 1 1 ... 1 1 1]\n",
      " [0 0 0 ... 0 0 0]]\n",
      "2020-12-15 08:13:31,598 [DEBUG] kashgari - predict seq_length: None, input: (2, 65, 44)\n"
     ]
    },
    {
     "name": "stdout",
     "output_type": "stream",
     "text": [
      "3/3 [==============================] - 0s 35ms/step\n"
     ]
    },
    {
     "name": "stderr",
     "output_type": "stream",
     "text": [
      "2020-12-15 08:13:35,866 [DEBUG] kashgari - predict output: (65, 44)\n",
      "2020-12-15 08:13:35,867 [DEBUG] kashgari - predict output argmax: [[0 1 1 ... 1 1 1]\n",
      " [0 1 1 ... 1 1 1]\n",
      " [0 1 1 ... 1 1 1]\n",
      " ...\n",
      " [0 1 1 ... 4 4 4]\n",
      " [0 1 1 ... 1 1 1]\n",
      " [0 0 0 ... 0 0 0]]\n",
      "2020-12-15 08:13:35,871 [DEBUG] kashgari - predict seq_length: None, input: (2, 265, 41)\n"
     ]
    },
    {
     "name": "stdout",
     "output_type": "stream",
     "text": [
      "9/9 [==============================] - 0s 54ms/step\n"
     ]
    },
    {
     "name": "stderr",
     "output_type": "stream",
     "text": [
      "2020-12-15 08:13:36,459 [DEBUG] kashgari - predict output: (265, 41)\n",
      "2020-12-15 08:13:36,460 [DEBUG] kashgari - predict output argmax: [[0 1 1 ... 1 1 1]\n",
      " [0 1 1 ... 1 1 1]\n",
      " [0 1 1 ... 1 1 1]\n",
      " ...\n",
      " [0 1 1 ... 1 1 1]\n",
      " [0 1 1 ... 1 1 1]\n",
      " [0 0 0 ... 0 0 0]]\n",
      "2020-12-15 08:13:36,464 [DEBUG] kashgari - predict seq_length: None, input: (2, 163, 33)\n"
     ]
    },
    {
     "name": "stdout",
     "output_type": "stream",
     "text": [
      "6/6 [==============================] - 0s 41ms/step\n"
     ]
    },
    {
     "name": "stderr",
     "output_type": "stream",
     "text": [
      "2020-12-15 08:13:36,796 [DEBUG] kashgari - predict output: (163, 33)\n",
      "2020-12-15 08:13:36,797 [DEBUG] kashgari - predict output argmax: [[0 1 1 ... 2 2 2]\n",
      " [0 1 1 ... 2 2 2]\n",
      " [0 1 1 ... 2 2 2]\n",
      " ...\n",
      " [0 1 1 ... 1 1 1]\n",
      " [0 1 1 ... 1 1 1]\n",
      " [0 0 0 ... 0 0 0]]\n",
      "2020-12-15 08:13:36,800 [DEBUG] kashgari - predict seq_length: None, input: (2, 166, 33)\n"
     ]
    },
    {
     "name": "stdout",
     "output_type": "stream",
     "text": [
      "6/6 [==============================] - 0s 42ms/step\n"
     ]
    },
    {
     "name": "stderr",
     "output_type": "stream",
     "text": [
      "2020-12-15 08:13:37,130 [DEBUG] kashgari - predict output: (166, 33)\n",
      "2020-12-15 08:13:37,131 [DEBUG] kashgari - predict output argmax: [[0 1 1 ... 5 5 5]\n",
      " [0 1 7 ... 4 4 4]\n",
      " [0 1 1 ... 1 1 1]\n",
      " ...\n",
      " [0 1 1 ... 1 1 1]\n",
      " [0 1 1 ... 1 1 1]\n",
      " [0 0 0 ... 0 0 0]]\n",
      "2020-12-15 08:13:37,136 [DEBUG] kashgari - predict seq_length: None, input: (2, 152, 37)\n"
     ]
    },
    {
     "name": "stdout",
     "output_type": "stream",
     "text": [
      "5/5 [==============================] - 0s 45ms/step\n"
     ]
    },
    {
     "name": "stderr",
     "output_type": "stream",
     "text": [
      "2020-12-15 08:13:37,446 [DEBUG] kashgari - predict output: (152, 37)\n",
      "2020-12-15 08:13:37,447 [DEBUG] kashgari - predict output argmax: [[0 1 1 ... 1 1 1]\n",
      " [0 1 1 ... 1 1 1]\n",
      " [0 1 1 ... 1 1 1]\n",
      " ...\n",
      " [0 1 1 ... 1 1 1]\n",
      " [0 1 1 ... 1 1 1]\n",
      " [0 0 0 ... 0 0 0]]\n",
      "2020-12-15 08:13:37,450 [DEBUG] kashgari - predict seq_length: None, input: (2, 129, 26)\n"
     ]
    },
    {
     "name": "stdout",
     "output_type": "stream",
     "text": [
      "5/5 [==============================] - 0s 33ms/step\n"
     ]
    },
    {
     "name": "stderr",
     "output_type": "stream",
     "text": [
      "2020-12-15 08:13:37,685 [DEBUG] kashgari - predict output: (129, 26)\n",
      "2020-12-15 08:13:37,686 [DEBUG] kashgari - predict output argmax: [[0 1 1 ... 1 1 1]\n",
      " [0 1 1 ... 1 1 1]\n",
      " [0 1 1 ... 1 1 1]\n",
      " ...\n",
      " [0 1 1 ... 1 1 1]\n",
      " [0 1 1 ... 1 1 1]\n",
      " [0 0 0 ... 0 0 0]]\n",
      "2020-12-15 08:13:37,690 [DEBUG] kashgari - predict seq_length: None, input: (2, 260, 42)\n"
     ]
    },
    {
     "name": "stdout",
     "output_type": "stream",
     "text": [
      "9/9 [==============================] - 0s 53ms/step\n"
     ]
    },
    {
     "name": "stderr",
     "output_type": "stream",
     "text": [
      "2020-12-15 08:13:38,256 [DEBUG] kashgari - predict output: (260, 42)\n",
      "2020-12-15 08:13:38,257 [DEBUG] kashgari - predict output argmax: [[0 1 1 ... 1 1 1]\n",
      " [0 1 1 ... 1 1 1]\n",
      " [0 1 1 ... 1 1 1]\n",
      " ...\n",
      " [0 1 1 ... 1 1 1]\n",
      " [0 1 1 ... 1 1 1]\n",
      " [0 0 0 ... 0 0 0]]\n",
      "2020-12-15 08:13:38,266 [DEBUG] kashgari - predict seq_length: None, input: (2, 557, 59)\n"
     ]
    },
    {
     "name": "stdout",
     "output_type": "stream",
     "text": [
      "18/18 [==============================] - 1s 78ms/step\n"
     ]
    },
    {
     "name": "stderr",
     "output_type": "stream",
     "text": [
      "2020-12-15 08:13:45,312 [DEBUG] kashgari - predict output: (557, 59)\n",
      "2020-12-15 08:13:45,313 [DEBUG] kashgari - predict output argmax: [[0 1 1 ... 1 1 1]\n",
      " [0 1 1 ... 1 1 1]\n",
      " [0 1 1 ... 1 1 1]\n",
      " ...\n",
      " [0 1 1 ... 2 2 2]\n",
      " [0 1 1 ... 1 1 1]\n",
      " [0 0 0 ... 0 0 0]]\n",
      "2020-12-15 08:13:45,318 [DEBUG] kashgari - predict seq_length: None, input: (2, 144, 72)\n"
     ]
    },
    {
     "name": "stdout",
     "output_type": "stream",
     "text": [
      "5/5 [==============================] - 0s 74ms/step\n"
     ]
    },
    {
     "name": "stderr",
     "output_type": "stream",
     "text": [
      "2020-12-15 08:13:49,497 [DEBUG] kashgari - predict output: (144, 72)\n",
      "2020-12-15 08:13:49,498 [DEBUG] kashgari - predict output argmax: [[0 1 1 ... 1 1 1]\n",
      " [0 1 1 ... 1 1 1]\n",
      " [0 1 1 ... 1 1 1]\n",
      " ...\n",
      " [0 1 1 ... 1 1 1]\n",
      " [0 1 1 ... 1 1 1]\n",
      " [0 0 0 ... 0 0 0]]\n",
      "2020-12-15 08:13:49,504 [DEBUG] kashgari - predict seq_length: None, input: (2, 474, 27)\n"
     ]
    },
    {
     "name": "stdout",
     "output_type": "stream",
     "text": [
      "15/15 [==============================] - 1s 43ms/step\n"
     ]
    },
    {
     "name": "stderr",
     "output_type": "stream",
     "text": [
      "2020-12-15 08:13:50,219 [DEBUG] kashgari - predict output: (474, 27)\n",
      "2020-12-15 08:13:50,220 [DEBUG] kashgari - predict output argmax: [[0 1 1 ... 1 1 1]\n",
      " [0 1 1 ... 1 1 1]\n",
      " [0 1 1 ... 1 1 1]\n",
      " ...\n",
      " [0 1 1 ... 1 1 1]\n",
      " [0 1 1 ... 1 1 1]\n",
      " [0 0 0 ... 0 0 0]]\n",
      "2020-12-15 08:13:50,224 [DEBUG] kashgari - predict seq_length: None, input: (2, 253, 34)\n"
     ]
    },
    {
     "name": "stdout",
     "output_type": "stream",
     "text": [
      "8/8 [==============================] - 0s 47ms/step\n"
     ]
    },
    {
     "name": "stderr",
     "output_type": "stream",
     "text": [
      "2020-12-15 08:13:50,686 [DEBUG] kashgari - predict output: (253, 34)\n",
      "2020-12-15 08:13:50,687 [DEBUG] kashgari - predict output argmax: [[0 1 1 ... 1 1 1]\n",
      " [0 1 1 ... 1 1 1]\n",
      " [0 1 1 ... 1 1 1]\n",
      " ...\n",
      " [0 1 1 ... 1 1 1]\n",
      " [0 1 1 ... 1 1 1]\n",
      " [0 0 0 ... 0 0 0]]\n",
      "2020-12-15 08:13:50,691 [DEBUG] kashgari - predict seq_length: None, input: (2, 210, 45)\n"
     ]
    },
    {
     "name": "stdout",
     "output_type": "stream",
     "text": [
      "7/7 [==============================] - 0s 57ms/step\n"
     ]
    },
    {
     "name": "stderr",
     "output_type": "stream",
     "text": [
      "2020-12-15 08:13:51,192 [DEBUG] kashgari - predict output: (210, 45)\n",
      "2020-12-15 08:13:51,193 [DEBUG] kashgari - predict output argmax: [[0 1 1 ... 1 1 1]\n",
      " [0 1 1 ... 1 1 1]\n",
      " [0 1 1 ... 1 1 1]\n",
      " ...\n",
      " [0 1 1 ... 2 2 2]\n",
      " [0 1 1 ... 1 1 1]\n",
      " [0 0 0 ... 0 0 0]]\n",
      "2020-12-15 08:13:51,197 [DEBUG] kashgari - predict seq_length: None, input: (2, 244, 32)\n"
     ]
    },
    {
     "name": "stdout",
     "output_type": "stream",
     "text": [
      "8/8 [==============================] - 0s 43ms/step\n"
     ]
    },
    {
     "name": "stderr",
     "output_type": "stream",
     "text": [
      "2020-12-15 08:13:51,618 [DEBUG] kashgari - predict output: (244, 32)\n",
      "2020-12-15 08:13:51,619 [DEBUG] kashgari - predict output argmax: [[0 1 1 ... 1 1 1]\n",
      " [0 1 1 ... 1 1 1]\n",
      " [0 1 1 ... 1 1 1]\n",
      " ...\n",
      " [0 1 1 ... 1 1 1]\n",
      " [0 1 0 ... 1 1 1]\n",
      " [0 0 0 ... 0 0 0]]\n",
      "2020-12-15 08:13:51,623 [DEBUG] kashgari - predict seq_length: None, input: (2, 319, 36)\n"
     ]
    },
    {
     "name": "stdout",
     "output_type": "stream",
     "text": [
      "10/10 [==============================] - 1s 50ms/step\n"
     ]
    },
    {
     "name": "stderr",
     "output_type": "stream",
     "text": [
      "2020-12-15 08:13:52,213 [DEBUG] kashgari - predict output: (319, 36)\n",
      "2020-12-15 08:13:52,214 [DEBUG] kashgari - predict output argmax: [[0 1 1 ... 1 1 1]\n",
      " [0 1 1 ... 1 1 1]\n",
      " [0 1 1 ... 1 1 1]\n",
      " ...\n",
      " [0 1 1 ... 1 1 1]\n",
      " [0 1 1 ... 1 1 1]\n",
      " [0 0 0 ... 0 0 0]]\n",
      "2020-12-15 08:13:52,220 [DEBUG] kashgari - predict seq_length: None, input: (2, 437, 36)\n"
     ]
    },
    {
     "name": "stdout",
     "output_type": "stream",
     "text": [
      "14/14 [==============================] - 1s 51ms/step\n"
     ]
    },
    {
     "name": "stderr",
     "output_type": "stream",
     "text": [
      "2020-12-15 08:13:53,029 [DEBUG] kashgari - predict output: (437, 36)\n",
      "2020-12-15 08:13:53,030 [DEBUG] kashgari - predict output argmax: [[0 1 1 ... 1 1 1]\n",
      " [0 1 1 ... 1 1 1]\n",
      " [0 1 1 ... 1 1 1]\n",
      " ...\n",
      " [0 1 1 ... 1 1 1]\n",
      " [0 1 1 ... 1 1 1]\n",
      " [0 0 0 ... 0 0 0]]\n",
      "2020-12-15 08:13:53,033 [DEBUG] kashgari - predict seq_length: None, input: (2, 171, 78)\n"
     ]
    },
    {
     "name": "stdout",
     "output_type": "stream",
     "text": [
      "6/6 [==============================] - 0s 83ms/step\n"
     ]
    },
    {
     "name": "stderr",
     "output_type": "stream",
     "text": [
      "2020-12-15 08:13:57,630 [DEBUG] kashgari - predict output: (171, 78)\n",
      "2020-12-15 08:13:57,630 [DEBUG] kashgari - predict output argmax: [[0 1 1 ... 1 1 1]\n",
      " [0 1 1 ... 1 1 1]\n",
      " [0 1 1 ... 1 1 1]\n",
      " ...\n",
      " [0 1 1 ... 1 1 1]\n",
      " [0 1 1 ... 1 1 1]\n",
      " [0 0 0 ... 0 0 0]]\n"
     ]
    }
   ],
   "source": [
    "df = predicting_txt_to_dataframe('/home/Danny/AI-CUP-2020/datasets/stage5/test.txt')\n",
    "output_str = \"article_id\\tstart_position\\tend_position\\tentity_text\\tentity_type\\n\"\n",
    "\n",
    "for article_id, text in zip(df['article_id'], df['text']):\n",
    "    x_list = [word for word in text]\n",
    "    y_list = predict_NER(text)\n",
    "    output_str += output_NER(article_id, text, y_list)"
   ]
  },
  {
   "cell_type": "code",
   "execution_count": 17,
   "metadata": {},
   "outputs": [],
   "source": [
    "# print(output_str)"
   ]
  },
  {
   "cell_type": "code",
   "execution_count": 18,
   "metadata": {},
   "outputs": [],
   "source": [
    "output_path = 'output/{}_epoch_{}_batch_{}.tsv'.format(model_name, epochs, batch_size)\n",
    "with open(output_path, 'w', encoding='utf-8') as f:\n",
    "    f.write(output_str)"
   ]
  },
  {
   "cell_type": "code",
   "execution_count": null,
   "metadata": {},
   "outputs": [],
   "source": []
  }
 ],
 "metadata": {
  "kernelspec": {
   "display_name": "Python 3",
   "language": "python",
   "name": "python3"
  },
  "language_info": {
   "codemirror_mode": {
    "name": "ipython",
    "version": 3
   },
   "file_extension": ".py",
   "mimetype": "text/x-python",
   "name": "python",
   "nbconvert_exporter": "python",
   "pygments_lexer": "ipython3",
   "version": "3.8.3"
  }
 },
 "nbformat": 4,
 "nbformat_minor": 4
}
