{
 "cells": [
  {
   "cell_type": "code",
   "execution_count": 1,
   "metadata": {},
   "outputs": [],
   "source": [
    "import re\n",
    "import pandas as pd\n",
    "import tensorflow as tf\n",
    "from matplotlib import pyplot as plt"
   ]
  },
  {
   "cell_type": "code",
   "execution_count": 2,
   "metadata": {},
   "outputs": [],
   "source": [
    "def select_gpu(N):\n",
    "    gpus = tf.config.experimental.list_physical_devices('GPU')\n",
    "    print(gpus)\n",
    "    if gpus:\n",
    "        try:\n",
    "            for gpu in gpus:\n",
    "                tf.config.experimental.set_memory_growth(gpu, True)\n",
    "            tf.config.experimental.set_visible_devices(gpus[N], 'GPU')\n",
    "            logical_gpus = tf.config.experimental.list_logical_devices('GPU')\n",
    "            print(len(gpus), \"Physical GPUs,\", len(logical_gpus), \"Logical GPUs\")\n",
    "        except RuntimeError as e:\n",
    "            print(e)    "
   ]
  },
  {
   "cell_type": "code",
   "execution_count": 3,
   "metadata": {},
   "outputs": [
    {
     "name": "stdout",
     "output_type": "stream",
     "text": [
      "[PhysicalDevice(name='/physical_device:GPU:0', device_type='GPU'), PhysicalDevice(name='/physical_device:GPU:1', device_type='GPU'), PhysicalDevice(name='/physical_device:GPU:2', device_type='GPU')]\n",
      "3 Physical GPUs, 1 Logical GPUs\n"
     ]
    }
   ],
   "source": [
    "select_gpu(2)\n",
    "epochs = 10\n",
    "batch_size = 16\n",
    "model_name = 'bert-chinese'\n",
    "embedding_path = '/home/Danny/pretrain_model/{}'.format(model_name)"
   ]
  },
  {
   "cell_type": "code",
   "execution_count": 4,
   "metadata": {},
   "outputs": [],
   "source": [
    "# 不用儲存article_id, 轉成list\n",
    "def training_txt_to_list(path):\n",
    "    with open(path, 'r') as f:\n",
    "        txt = str(f.read())\n",
    "    txt_list = txt.split('\\n')\n",
    "    text_label_list = list()\n",
    "    tmp = list()\n",
    "    for line in txt_list:\n",
    "        if line == '--------------------':\n",
    "            text_label_list.append(tmp)\n",
    "            tmp = list()\n",
    "            continue\n",
    "        if line == '':\n",
    "            continue\n",
    "        tmp.append(line)\n",
    "    x = list()\n",
    "    y = list()\n",
    "    for text_label in text_label_list:\n",
    "        text = text_label[0]\n",
    "        label = text_label[2:]\n",
    "        label_list = ['O' for i in range(len(text))]\n",
    "        for i in label:\n",
    "            entity = i.split('\\t')\n",
    "            if int(entity[1]) > int(entity[2]):\n",
    "                continue\n",
    "            b = int(entity[1])\n",
    "            label_list[b] = 'B-{}'.format(entity[-1])\n",
    "            for j in range(int(entity[1])+1, int(entity[2])):\n",
    "                label_list[j] = 'I-{}'.format(entity[-1])\n",
    "        for i, j in enumerate(text):\n",
    "            if j == '，' or j == '。' or j == '？':\n",
    "                label_list[i] = j\n",
    "                \n",
    "        text_list = re.split('\\uff0c|\\u3002|\\uff1f', text)\n",
    "        for sentence in text_list:\n",
    "            x.append([i for i in sentence])\n",
    "        x = x[:-1]\n",
    "            \n",
    "        sentence = list()\n",
    "        for i in label_list:\n",
    "            if i == '，' or i == '。' or i == '？':\n",
    "                y.append(sentence)\n",
    "                sentence = list()\n",
    "            else:\n",
    "                sentence.append(i)\n",
    "                \n",
    "    return [x, y]"
   ]
  },
  {
   "cell_type": "code",
   "execution_count": 5,
   "metadata": {},
   "outputs": [],
   "source": [
    "x1, y1 = training_txt_to_list('/home/Danny/AI-CUP-2020/datasets/stage1/SampleData_deid.txt')"
   ]
  },
  {
   "cell_type": "code",
   "execution_count": 6,
   "metadata": {},
   "outputs": [],
   "source": [
    "x2, y2 = training_txt_to_list('/home/Danny/AI-CUP-2020/datasets/stage2/train_1_update.txt')"
   ]
  },
  {
   "cell_type": "code",
   "execution_count": 7,
   "metadata": {},
   "outputs": [],
   "source": [
    "x4, y4 = training_txt_to_list('/home/Danny/AI-CUP-2020/datasets/stage4/train_2.txt')"
   ]
  },
  {
   "cell_type": "code",
   "execution_count": 8,
   "metadata": {},
   "outputs": [
    {
     "name": "stdout",
     "output_type": "stream",
     "text": [
      "76162\n",
      "76162\n"
     ]
    }
   ],
   "source": [
    "x = x1 + x2 + x4\n",
    "y = y1 + y2 + y4\n",
    "print(len(x))\n",
    "print(len(y))"
   ]
  },
  {
   "cell_type": "code",
   "execution_count": 9,
   "metadata": {},
   "outputs": [
    {
     "name": "stdout",
     "output_type": "stream",
     "text": [
      "48743 48743\n",
      "12186 12186\n",
      "15233 15233\n"
     ]
    }
   ],
   "source": [
    "from sklearn.model_selection import train_test_split\n",
    "train_x, test_x, train_y, test_y = train_test_split(x, y, test_size=0.2, random_state=42)\n",
    "train_x, valid_x, train_y, valid_y = train_test_split(train_x, train_y, test_size=0.2, random_state=42)\n",
    "print(len(train_x), len(train_y))\n",
    "print(len(valid_x), len(valid_y))\n",
    "print(len(test_x), len(test_y))"
   ]
  },
  {
   "cell_type": "code",
   "execution_count": 10,
   "metadata": {},
   "outputs": [
    {
     "name": "stderr",
     "output_type": "stream",
     "text": [
      "2020-12-13 16:43:14,695 [DEBUG] kashgari - ------------------------------------------------\n",
      "2020-12-13 16:43:14,696 [DEBUG] kashgari - Loaded transformer model's vocab\n",
      "2020-12-13 16:43:14,696 [DEBUG] kashgari - config_path       : /home/Danny/pretrain_model/bert-chinese/bert_config.json\n",
      "2020-12-13 16:43:14,697 [DEBUG] kashgari - vocab_path      : /home/Danny/pretrain_model/bert-chinese/vocab.txt\n",
      "2020-12-13 16:43:14,698 [DEBUG] kashgari - checkpoint_path : /home/Danny/pretrain_model/bert-chinese/bert_model.ckpt\n",
      "2020-12-13 16:43:14,698 [DEBUG] kashgari - Top 50 words    : ['[PAD]', '[unused1]', '[unused2]', '[unused3]', '[unused4]', '[unused5]', '[unused6]', '[unused7]', '[unused8]', '[unused9]', '[unused10]', '[unused11]', '[unused12]', '[unused13]', '[unused14]', '[unused15]', '[unused16]', '[unused17]', '[unused18]', '[unused19]', '[unused20]', '[unused21]', '[unused22]', '[unused23]', '[unused24]', '[unused25]', '[unused26]', '[unused27]', '[unused28]', '[unused29]', '[unused30]', '[unused31]', '[unused32]', '[unused33]', '[unused34]', '[unused35]', '[unused36]', '[unused37]', '[unused38]', '[unused39]', '[unused40]', '[unused41]', '[unused42]', '[unused43]', '[unused44]', '[unused45]', '[unused46]', '[unused47]', '[unused48]', '[unused49]']\n",
      "2020-12-13 16:43:14,698 [DEBUG] kashgari - ------------------------------------------------\n",
      "Preparing text vocab dict: 100%|██████████| 48743/48743 [00:00<00:00, 479055.03it/s]\n",
      "Preparing text vocab dict: 100%|██████████| 12186/12186 [00:00<00:00, 493447.53it/s]\n",
      "2020-12-13 16:43:14,829 [DEBUG] kashgari - --- Build vocab dict finished, Total: 1742 ---\n",
      "2020-12-13 16:43:14,829 [DEBUG] kashgari - Top-10: ['[PAD]', '[UNK]', '[CLS]', '[SEP]', '：', '師', '是', '民', '眾', '醫']\n",
      "Preparing text vocab dict: 100%|██████████| 48743/48743 [00:00<00:00, 676271.50it/s]\n",
      "Preparing text vocab dict: 100%|██████████| 12186/12186 [00:00<00:00, 697010.62it/s]\n",
      "2020-12-13 16:43:14,921 [DEBUG] kashgari - --- Build vocab dict finished, Total: 28 ---\n",
      "2020-12-13 16:43:14,922 [DEBUG] kashgari - Top-10: ['[PAD]', 'O', 'I-time', 'B-time', 'I-med_exam', 'I-name', 'I-location', 'B-med_exam', 'I-money', 'B-name']\n",
      "Calculating sequence length: 100%|██████████| 48743/48743 [00:00<00:00, 1811618.50it/s]\n",
      "Calculating sequence length: 100%|██████████| 12186/12186 [00:00<00:00, 1834133.15it/s]\n",
      "2020-12-13 16:43:17,608 [DEBUG] kashgari - Calculated sequence length = 19\n",
      "2020-12-13 16:43:19,200 [DEBUG] kashgari - fit input shape: (2, 16, 19)\n",
      "2020-12-13 16:43:19,201 [DEBUG] kashgari - fit input shape: (16, 19)\n"
     ]
    },
    {
     "name": "stdout",
     "output_type": "stream",
     "text": [
      "Epoch 1/10\n",
      "3046/3046 [==============================] - 465s 153ms/step - loss: 0.2267 - accuracy: 0.9847 - val_loss: 20.0065 - val_accuracy: 0.9875\n",
      "Epoch 2/10\n",
      "3046/3046 [==============================] - 642s 211ms/step - loss: 0.1029 - accuracy: 0.9882 - val_loss: 17.2859 - val_accuracy: 0.9829\n",
      "Epoch 3/10\n",
      "3046/3046 [==============================] - 773s 254ms/step - loss: 0.0769 - accuracy: 0.9895 - val_loss: 15.3288 - val_accuracy: 0.9847\n",
      "Epoch 4/10\n",
      "3046/3046 [==============================] - 773s 254ms/step - loss: 0.0652 - accuracy: 0.9904 - val_loss: 14.0081 - val_accuracy: 0.9807\n",
      "Epoch 5/10\n",
      "3046/3046 [==============================] - 767s 252ms/step - loss: 0.0593 - accuracy: 0.9911 - val_loss: 13.0560 - val_accuracy: 0.9841\n",
      "Epoch 6/10\n",
      "3046/3046 [==============================] - 760s 249ms/step - loss: 0.0517 - accuracy: 0.9919 - val_loss: 12.3513 - val_accuracy: 0.9829\n",
      "Epoch 7/10\n",
      "3046/3046 [==============================] - 646s 212ms/step - loss: 0.0483 - accuracy: 0.9923 - val_loss: 11.8756 - val_accuracy: 0.9792\n",
      "Epoch 8/10\n",
      "3046/3046 [==============================] - 641s 210ms/step - loss: 0.0453 - accuracy: 0.9928 - val_loss: 11.4206 - val_accuracy: 0.9806\n",
      "Epoch 9/10\n",
      "3046/3046 [==============================] - 635s 208ms/step - loss: 0.0420 - accuracy: 0.9930 - val_loss: 11.2012 - val_accuracy: 0.9647\n",
      "Epoch 10/10\n",
      "3046/3046 [==============================] - 642s 211ms/step - loss: 0.0398 - accuracy: 0.9933 - val_loss: 10.9013 - val_accuracy: 0.9663\n"
     ]
    }
   ],
   "source": [
    "import kashgari\n",
    "from kashgari.tasks.labeling import BiLSTM_CRF_Model\n",
    "from kashgari.embeddings import BertEmbedding\n",
    "kashgari.config.use_cudnn_cell = True\n",
    "bert_embedding = BertEmbedding(embedding_path, \n",
    "                           sequence_length='auto',\n",
    "                           trainable=True,\n",
    "                           task='kashgari.LABELING', \n",
    "                          )\n",
    "model = BiLSTM_CRF_Model(bert_embedding)\n",
    "history = model.fit(train_x,\n",
    "                    train_y,\n",
    "                    valid_x,\n",
    "                    valid_y,\n",
    "                    epochs=epochs,\n",
    "                    batch_size=batch_size,\n",
    "                   )"
   ]
  },
  {
   "cell_type": "code",
   "execution_count": 11,
   "metadata": {},
   "outputs": [
    {
     "name": "stderr",
     "output_type": "stream",
     "text": [
      "2020-12-13 18:35:56,067 [WARNING] kashgari - Sequence length is None, will use the max length of the samples, which is 65\n",
      "2020-12-13 18:35:56,201 [DEBUG] kashgari - predict seq_length: None, input: (2, 15233, 65)\n"
     ]
    },
    {
     "name": "stdout",
     "output_type": "stream",
     "text": [
      "477/477 [==============================] - 129s 271ms/step\n"
     ]
    },
    {
     "name": "stderr",
     "output_type": "stream",
     "text": [
      "2020-12-13 18:38:10,229 [DEBUG] kashgari - predict output: (15233, 65)\n",
      "2020-12-13 18:38:10,231 [DEBUG] kashgari - predict output argmax: [[0 1 1 ... 1 1 1]\n",
      " [0 1 1 ... 1 1 1]\n",
      " [0 1 1 ... 1 1 1]\n",
      " ...\n",
      " [0 1 1 ... 1 1 1]\n",
      " [0 1 1 ... 1 1 1]\n",
      " [0 1 1 ... 1 1 1]]\n"
     ]
    },
    {
     "name": "stdout",
     "output_type": "stream",
     "text": [
      "\n",
      "                precision    recall  f1-score   support\n",
      "\n",
      "          time     0.7601    0.7688    0.7644       878\n",
      "          name     0.9867    0.8409    0.9080        88\n",
      "      med_exam     0.7843    0.8955    0.8362       134\n",
      "         money     0.7500    0.9070    0.8211        43\n",
      "      location     0.9355    0.8529    0.8923       102\n",
      "    profession     0.8750    0.4118    0.5600        17\n",
      "       contact     0.8000    0.6667    0.7273        18\n",
      "     education     1.0000    0.5000    0.6667         2\n",
      "            ID     0.7500    0.3333    0.4615         9\n",
      "  organization     0.2500    0.5000    0.3333         2\n",
      "        family     0.7778    0.6364    0.7000        11\n",
      "        others     0.0000    0.0000    0.0000         1\n",
      "clinical_event     0.0000    0.0000    0.0000         1\n",
      "\n",
      "     micro avg     0.7880    0.7856    0.7868      1306\n",
      "     macro avg     0.7918    0.7856    0.7855      1306\n",
      "\n"
     ]
    },
    {
     "name": "stderr",
     "output_type": "stream",
     "text": [
      "2020-12-13 18:38:21,220 [INFO] kashgari - model saved to /home/Danny/AI-CUP-2020/Danny/kashgari/model/bert-chinese-epoch-10\n"
     ]
    },
    {
     "data": {
      "text/plain": [
       "'/home/Danny/AI-CUP-2020/Danny/kashgari/model/bert-chinese-epoch-10'"
      ]
     },
     "execution_count": 11,
     "metadata": {},
     "output_type": "execute_result"
    }
   ],
   "source": [
    "model.evaluate(test_x, test_y)\n",
    "model_path = 'model/{}-epoch-{}'.format(model_name, epochs)\n",
    "model.save(model_path)"
   ]
  },
  {
   "cell_type": "code",
   "execution_count": 12,
   "metadata": {},
   "outputs": [
    {
     "data": {
      "image/png": "[encoded data removed]",
      "text/plain": [
       "<Figure size 432x288 with 1 Axes>"
      ]
     },
     "metadata": {
      "needs_background": "light"
     },
     "output_type": "display_data"
    }
   ],
   "source": [
    "plt.plot(history.history['accuracy'])\n",
    "plt.plot(history.history['val_accuracy'])\n",
    "plt.plot(history.history['loss'])\n",
    "plt.plot(history.history['val_loss'])\n",
    "plt.title('model accuracy')\n",
    "plt.ylabel('accuracy')\n",
    "plt.xlabel('epoch')\n",
    "plt.legend(['accuracy', 'val_accuracy', 'loss', 'val_loss'])\n",
    "plt.show()"
   ]
  },
  {
   "cell_type": "code",
   "execution_count": 13,
   "metadata": {},
   "outputs": [],
   "source": [
    "# 需要儲存article_id, 轉成dataframe\n",
    "def predicting_txt_to_dataframe(path):    \n",
    "    with open(path, 'r') as f:\n",
    "        txt = str(f.read())\n",
    "        txt_list = txt.split('\\n')\n",
    "    row_list = list()\n",
    "    tmp_list = list()\n",
    "    for row in txt_list:\n",
    "        if row == '--------------------':\n",
    "            tmp_list[0] = tmp_list[0].replace('article_id:', '')\n",
    "            tmp_list[0] = int(tmp_list[0])\n",
    "            row_list.append(tmp_list)\n",
    "            tmp_list = list()\n",
    "            continue\n",
    "        if len(row) > 0:\n",
    "            tmp_list.append(row)\n",
    "    df = pd.DataFrame(row_list, columns=['article_id','text'])\n",
    "    return df"
   ]
  },
  {
   "cell_type": "code",
   "execution_count": 14,
   "metadata": {},
   "outputs": [],
   "source": [
    "def predict_NER(text):\n",
    "    x_list = list()    \n",
    "    text_list = re.split('\\uff0c|\\u3002|\\uff1f', text)\n",
    "    for article in text_list:\n",
    "        x_list.append([i for i in article])\n",
    "    y_list_list = model.predict(x_list)\n",
    "    y_list = list()\n",
    "    for sentence in y_list_list:\n",
    "        for word in sentence:\n",
    "            y_list.append(word)\n",
    "        y_list.append('O') # append(，。？)\n",
    "    y_list = y_list[:-1]\n",
    "    return y_list"
   ]
  },
  {
   "cell_type": "code",
   "execution_count": 15,
   "metadata": {},
   "outputs": [],
   "source": [
    "def output_NER(article_id, text, y_list):\n",
    "    output_str = str()\n",
    "    flag = False\n",
    "    for i, j in enumerate(y_list):\n",
    "        if j != 'O':\n",
    "            if j[0] == 'B':\n",
    "                start_position = i\n",
    "                entity_type = j.split('-')[-1]\n",
    "                flag = True\n",
    "        elif j == 'O' and flag == True:\n",
    "            end_position = i\n",
    "            flag = False\n",
    "            entity_text = text[start_position: end_position]\n",
    "            entity = '{}\\t{}\\t{}\\t{}\\t{}\\n'.format(article_id, start_position, end_position, entity_text, entity_type)  \n",
    "            output_str += entity\n",
    "    return output_str"
   ]
  },
  {
   "cell_type": "code",
   "execution_count": 16,
   "metadata": {},
   "outputs": [
    {
     "name": "stderr",
     "output_type": "stream",
     "text": [
      "2020-12-13 18:38:21,559 [DEBUG] kashgari - predict seq_length: None, input: (2, 368, 29)\n"
     ]
    },
    {
     "name": "stdout",
     "output_type": "stream",
     "text": [
      "12/12 [==============================] - 2s 152ms/step\n"
     ]
    },
    {
     "name": "stderr",
     "output_type": "stream",
     "text": [
      "2020-12-13 18:38:26,586 [DEBUG] kashgari - predict output: (368, 29)\n",
      "2020-12-13 18:38:26,587 [DEBUG] kashgari - predict output argmax: [[0 1 1 ... 1 1 1]\n",
      " [0 1 1 ... 1 1 1]\n",
      " [0 1 1 ... 1 1 1]\n",
      " ...\n",
      " [0 1 1 ... 1 1 1]\n",
      " [0 1 1 ... 1 1 1]\n",
      " [0 0 0 ... 0 0 0]]\n",
      "2020-12-13 18:38:26,588 [DEBUG] kashgari - predict seq_length: None, input: (2, 78, 33)\n"
     ]
    },
    {
     "name": "stdout",
     "output_type": "stream",
     "text": [
      "3/3 [==============================] - 0s 111ms/step\n"
     ]
    },
    {
     "name": "stderr",
     "output_type": "stream",
     "text": [
      "2020-12-13 18:38:30,159 [DEBUG] kashgari - predict output: (78, 33)\n",
      "2020-12-13 18:38:30,160 [DEBUG] kashgari - predict output argmax: [[0 1 1 ... 1 1 1]\n",
      " [0 1 1 ... 1 1 1]\n",
      " [0 1 1 ... 1 1 1]\n",
      " ...\n",
      " [0 1 0 ... 1 1 1]\n",
      " [0 1 1 ... 1 1 1]\n",
      " [0 1 1 ... 1 1 1]]\n",
      "2020-12-13 18:38:30,163 [DEBUG] kashgari - predict seq_length: None, input: (2, 159, 29)\n"
     ]
    },
    {
     "name": "stdout",
     "output_type": "stream",
     "text": [
      "5/5 [==============================] - 1s 137ms/step\n"
     ]
    },
    {
     "name": "stderr",
     "output_type": "stream",
     "text": [
      "2020-12-13 18:38:31,025 [DEBUG] kashgari - predict output: (159, 29)\n",
      "2020-12-13 18:38:31,026 [DEBUG] kashgari - predict output argmax: [[0 1 1 ... 1 1 1]\n",
      " [0 1 1 ... 1 1 1]\n",
      " [0 1 1 ... 1 1 1]\n",
      " ...\n",
      " [0 1 1 ... 1 1 1]\n",
      " [0 1 1 ... 1 1 1]\n",
      " [0 0 0 ... 0 0 0]]\n",
      "2020-12-13 18:38:31,032 [DEBUG] kashgari - predict seq_length: None, input: (2, 329, 28)\n"
     ]
    },
    {
     "name": "stdout",
     "output_type": "stream",
     "text": [
      "11/11 [==============================] - 2s 145ms/step\n"
     ]
    },
    {
     "name": "stderr",
     "output_type": "stream",
     "text": [
      "2020-12-13 18:38:35,791 [DEBUG] kashgari - predict output: (329, 28)\n",
      "2020-12-13 18:38:35,792 [DEBUG] kashgari - predict output argmax: [[0 1 1 ... 1 1 1]\n",
      " [0 1 1 ... 1 1 1]\n",
      " [0 1 1 ... 1 1 1]\n",
      " ...\n",
      " [0 1 1 ... 1 1 1]\n",
      " [0 1 1 ... 1 1 1]\n",
      " [0 0 0 ... 0 0 0]]\n",
      "2020-12-13 18:38:35,798 [DEBUG] kashgari - predict seq_length: None, input: (2, 227, 29)\n"
     ]
    },
    {
     "name": "stdout",
     "output_type": "stream",
     "text": [
      "8/8 [==============================] - 1s 145ms/step\n"
     ]
    },
    {
     "name": "stderr",
     "output_type": "stream",
     "text": [
      "2020-12-13 18:38:37,140 [DEBUG] kashgari - predict output: (227, 29)\n",
      "2020-12-13 18:38:37,140 [DEBUG] kashgari - predict output argmax: [[0 1 1 ... 2 2 2]\n",
      " [0 1 1 ... 1 1 1]\n",
      " [0 7 4 ... 4 4 4]\n",
      " ...\n",
      " [0 1 1 ... 1 1 1]\n",
      " [0 1 1 ... 1 1 1]\n",
      " [0 0 0 ... 0 0 0]]\n",
      "2020-12-13 18:38:37,145 [DEBUG] kashgari - predict seq_length: None, input: (2, 295, 26)\n"
     ]
    },
    {
     "name": "stdout",
     "output_type": "stream",
     "text": [
      "10/10 [==============================] - 1s 138ms/step\n"
     ]
    },
    {
     "name": "stderr",
     "output_type": "stream",
     "text": [
      "2020-12-13 18:38:42,044 [DEBUG] kashgari - predict output: (295, 26)\n",
      "2020-12-13 18:38:42,045 [DEBUG] kashgari - predict output argmax: [[0 1 1 ... 1 1 1]\n",
      " [0 1 1 ... 1 1 1]\n",
      " [0 1 1 ... 0 1 1]\n",
      " ...\n",
      " [0 1 1 ... 1 1 1]\n",
      " [0 1 1 ... 1 1 1]\n",
      " [0 0 0 ... 0 0 0]]\n",
      "2020-12-13 18:38:42,049 [DEBUG] kashgari - predict seq_length: None, input: (2, 183, 25)\n"
     ]
    },
    {
     "name": "stdout",
     "output_type": "stream",
     "text": [
      "6/6 [==============================] - 1s 124ms/step\n"
     ]
    },
    {
     "name": "stderr",
     "output_type": "stream",
     "text": [
      "2020-12-13 18:38:46,056 [DEBUG] kashgari - predict output: (183, 25)\n",
      "2020-12-13 18:38:46,057 [DEBUG] kashgari - predict output argmax: [[0 1 1 ... 1 1 1]\n",
      " [0 1 1 ... 1 1 1]\n",
      " [0 1 1 ... 1 1 1]\n",
      " ...\n",
      " [0 1 9 ... 1 1 1]\n",
      " [0 1 1 ... 1 1 1]\n",
      " [0 0 0 ... 0 0 0]]\n",
      "2020-12-13 18:38:46,059 [DEBUG] kashgari - predict seq_length: None, input: (2, 126, 19)\n"
     ]
    },
    {
     "name": "stdout",
     "output_type": "stream",
     "text": [
      "4/4 [==============================] - 0s 99ms/step\n"
     ]
    },
    {
     "name": "stderr",
     "output_type": "stream",
     "text": [
      "2020-12-13 18:38:49,593 [DEBUG] kashgari - predict output: (126, 19)\n",
      "2020-12-13 18:38:49,593 [DEBUG] kashgari - predict output argmax: [[0 1 1 ... 1 0 1]\n",
      " [0 1 1 ... 1 1 1]\n",
      " [0 1 1 ... 1 1 1]\n",
      " ...\n",
      " [0 1 1 ... 1 1 1]\n",
      " [0 1 1 ... 1 1 1]\n",
      " [0 0 0 ... 0 0 0]]\n",
      "2020-12-13 18:38:49,596 [DEBUG] kashgari - predict seq_length: None, input: (2, 117, 23)\n"
     ]
    },
    {
     "name": "stdout",
     "output_type": "stream",
     "text": [
      "4/4 [==============================] - 0s 101ms/step\n"
     ]
    },
    {
     "name": "stderr",
     "output_type": "stream",
     "text": [
      "2020-12-13 18:38:53,222 [DEBUG] kashgari - predict output: (117, 23)\n",
      "2020-12-13 18:38:53,222 [DEBUG] kashgari - predict output argmax: [[0 1 1 ... 1 1 1]\n",
      " [0 1 1 ... 1 1 1]\n",
      " [0 1 1 ... 1 1 1]\n",
      " ...\n",
      " [0 1 1 ... 1 1 1]\n",
      " [0 1 1 ... 1 1 1]\n",
      " [0 0 0 ... 0 0 0]]\n",
      "2020-12-13 18:38:53,224 [DEBUG] kashgari - predict seq_length: None, input: (2, 91, 22)\n"
     ]
    },
    {
     "name": "stdout",
     "output_type": "stream",
     "text": [
      "3/3 [==============================] - 0s 93ms/step\n"
     ]
    },
    {
     "name": "stderr",
     "output_type": "stream",
     "text": [
      "2020-12-13 18:38:57,105 [DEBUG] kashgari - predict output: (91, 22)\n",
      "2020-12-13 18:38:57,106 [DEBUG] kashgari - predict output argmax: [[0 1 1 ... 1 1 1]\n",
      " [0 1 1 ... 1 1 1]\n",
      " [0 1 1 ... 1 1 1]\n",
      " ...\n",
      " [0 1 1 ... 1 1 1]\n",
      " [0 1 1 ... 1 1 1]\n",
      " [0 0 0 ... 0 0 0]]\n",
      "2020-12-13 18:38:57,108 [DEBUG] kashgari - predict seq_length: None, input: (2, 63, 25)\n"
     ]
    },
    {
     "name": "stdout",
     "output_type": "stream",
     "text": [
      "2/2 [==============================] - 0s 65ms/step\n"
     ]
    },
    {
     "name": "stderr",
     "output_type": "stream",
     "text": [
      "2020-12-13 18:38:57,401 [DEBUG] kashgari - predict output: (63, 25)\n",
      "2020-12-13 18:38:57,402 [DEBUG] kashgari - predict output argmax: [[0 1 1 ... 1 1 1]\n",
      " [0 1 1 ... 1 1 1]\n",
      " [0 1 1 ... 1 1 1]\n",
      " ...\n",
      " [0 1 1 ... 1 1 1]\n",
      " [0 1 1 ... 1 1 1]\n",
      " [0 0 0 ... 0 0 0]]\n",
      "2020-12-13 18:38:57,405 [DEBUG] kashgari - predict seq_length: None, input: (2, 259, 32)\n"
     ]
    },
    {
     "name": "stdout",
     "output_type": "stream",
     "text": [
      "9/9 [==============================] - 1s 151ms/step\n"
     ]
    },
    {
     "name": "stderr",
     "output_type": "stream",
     "text": [
      "2020-12-13 18:39:01,949 [DEBUG] kashgari - predict output: (259, 32)\n",
      "2020-12-13 18:39:01,949 [DEBUG] kashgari - predict output argmax: [[0 1 1 ... 4 4 4]\n",
      " [0 1 1 ... 1 1 1]\n",
      " [0 7 4 ... 1 1 1]\n",
      " ...\n",
      " [0 1 1 ... 1 1 1]\n",
      " [0 1 1 ... 1 1 1]\n",
      " [0 0 0 ... 0 0 0]]\n",
      "2020-12-13 18:39:01,951 [DEBUG] kashgari - predict seq_length: None, input: (2, 109, 20)\n"
     ]
    },
    {
     "name": "stdout",
     "output_type": "stream",
     "text": [
      "4/4 [==============================] - 0s 95ms/step\n"
     ]
    },
    {
     "name": "stderr",
     "output_type": "stream",
     "text": [
      "2020-12-13 18:39:05,525 [DEBUG] kashgari - predict output: (109, 20)\n",
      "2020-12-13 18:39:05,525 [DEBUG] kashgari - predict output argmax: [[0 1 1 ... 1 0 1]\n",
      " [0 1 1 ... 1 1 1]\n",
      " [0 1 1 ... 1 1 1]\n",
      " ...\n",
      " [0 1 1 ... 1 1 1]\n",
      " [0 1 1 ... 1 1 1]\n",
      " [0 0 0 ... 0 0 0]]\n",
      "2020-12-13 18:39:05,528 [DEBUG] kashgari - predict seq_length: None, input: (2, 122, 22)\n"
     ]
    },
    {
     "name": "stdout",
     "output_type": "stream",
     "text": [
      "4/4 [==============================] - 0s 108ms/step\n"
     ]
    },
    {
     "name": "stderr",
     "output_type": "stream",
     "text": [
      "2020-12-13 18:39:06,107 [DEBUG] kashgari - predict output: (122, 22)\n",
      "2020-12-13 18:39:06,108 [DEBUG] kashgari - predict output argmax: [[0 1 1 ... 1 1 1]\n",
      " [0 1 1 ... 1 1 1]\n",
      " [0 1 1 ... 1 1 1]\n",
      " ...\n",
      " [0 1 1 ... 1 1 1]\n",
      " [0 1 1 ... 1 1 1]\n",
      " [0 0 0 ... 0 0 0]]\n",
      "2020-12-13 18:39:06,110 [DEBUG] kashgari - predict seq_length: None, input: (2, 158, 40)\n"
     ]
    },
    {
     "name": "stdout",
     "output_type": "stream",
     "text": [
      "5/5 [==============================] - 1s 146ms/step\n"
     ]
    },
    {
     "name": "stderr",
     "output_type": "stream",
     "text": [
      "2020-12-13 18:39:10,090 [DEBUG] kashgari - predict output: (158, 40)\n",
      "2020-12-13 18:39:10,090 [DEBUG] kashgari - predict output argmax: [[0 1 1 ... 1 1 1]\n",
      " [0 1 1 ... 1 1 1]\n",
      " [0 1 1 ... 1 1 1]\n",
      " ...\n",
      " [0 1 1 ... 1 1 1]\n",
      " [0 1 1 ... 1 1 1]\n",
      " [0 1 1 ... 2 2 2]]\n",
      "2020-12-13 18:39:10,094 [DEBUG] kashgari - predict seq_length: None, input: (2, 218, 34)\n"
     ]
    },
    {
     "name": "stdout",
     "output_type": "stream",
     "text": [
      "7/7 [==============================] - 1s 148ms/step\n"
     ]
    },
    {
     "name": "stderr",
     "output_type": "stream",
     "text": [
      "2020-12-13 18:39:14,246 [DEBUG] kashgari - predict output: (218, 34)\n",
      "2020-12-13 18:39:14,247 [DEBUG] kashgari - predict output argmax: [[0 1 1 ... 1 1 1]\n",
      " [0 1 1 ... 1 1 1]\n",
      " [0 1 1 ... 1 1 1]\n",
      " ...\n",
      " [0 1 1 ... 1 1 1]\n",
      " [0 1 1 ... 1 1 1]\n",
      " [0 0 0 ... 0 0 0]]\n",
      "2020-12-13 18:39:14,249 [DEBUG] kashgari - predict seq_length: None, input: (2, 103, 16)\n"
     ]
    },
    {
     "name": "stdout",
     "output_type": "stream",
     "text": [
      "4/4 [==============================] - 0s 86ms/step\n"
     ]
    },
    {
     "name": "stderr",
     "output_type": "stream",
     "text": [
      "2020-12-13 18:39:20,525 [DEBUG] kashgari - predict output: (103, 16)\n",
      "2020-12-13 18:39:20,526 [DEBUG] kashgari - predict output argmax: [[0 1 1 ... 1 1 1]\n",
      " [0 1 1 ... 1 1 1]\n",
      " [0 1 1 ... 1 1 1]\n",
      " ...\n",
      " [0 1 1 ... 1 1 1]\n",
      " [0 1 1 ... 5 5 5]\n",
      " [0 1 1 ... 1 1 1]]\n",
      "2020-12-13 18:39:20,531 [DEBUG] kashgari - predict seq_length: None, input: (2, 310, 40)\n"
     ]
    },
    {
     "name": "stdout",
     "output_type": "stream",
     "text": [
      "10/10 [==============================] - 2s 169ms/step\n"
     ]
    },
    {
     "name": "stderr",
     "output_type": "stream",
     "text": [
      "2020-12-13 18:39:22,450 [DEBUG] kashgari - predict output: (310, 40)\n",
      "2020-12-13 18:39:22,452 [DEBUG] kashgari - predict output argmax: [[0 1 1 ... 1 1 1]\n",
      " [0 1 1 ... 1 1 1]\n",
      " [0 1 1 ... 1 1 1]\n",
      " ...\n",
      " [0 1 1 ... 1 1 1]\n",
      " [0 1 1 ... 1 1 1]\n",
      " [0 0 0 ... 0 0 0]]\n",
      "2020-12-13 18:39:22,455 [DEBUG] kashgari - predict seq_length: None, input: (2, 73, 22)\n"
     ]
    },
    {
     "name": "stdout",
     "output_type": "stream",
     "text": [
      "3/3 [==============================] - 0s 101ms/step\n"
     ]
    },
    {
     "name": "stderr",
     "output_type": "stream",
     "text": [
      "2020-12-13 18:39:22,909 [DEBUG] kashgari - predict output: (73, 22)\n",
      "2020-12-13 18:39:22,910 [DEBUG] kashgari - predict output argmax: [[0 1 1 ... 1 1 1]\n",
      " [0 1 1 ... 1 1 1]\n",
      " [0 3 2 ... 1 1 1]\n",
      " ...\n",
      " [0 1 1 ... 1 1 1]\n",
      " [0 1 1 ... 1 1 1]\n",
      " [0 0 0 ... 0 0 0]]\n",
      "2020-12-13 18:39:22,917 [DEBUG] kashgari - predict seq_length: None, input: (2, 624, 50)\n"
     ]
    },
    {
     "name": "stdout",
     "output_type": "stream",
     "text": [
      "20/20 [==============================] - 4s 213ms/step\n"
     ]
    },
    {
     "name": "stderr",
     "output_type": "stream",
     "text": [
      "2020-12-13 18:39:32,197 [DEBUG] kashgari - predict output: (624, 50)\n",
      "2020-12-13 18:39:32,198 [DEBUG] kashgari - predict output argmax: [[0 1 1 ... 1 1 1]\n",
      " [0 1 1 ... 1 1 1]\n",
      " [0 1 1 ... 1 1 1]\n",
      " ...\n",
      " [0 1 1 ... 1 1 1]\n",
      " [0 1 1 ... 1 1 1]\n",
      " [0 0 0 ... 0 0 0]]\n",
      "2020-12-13 18:39:32,202 [DEBUG] kashgari - predict seq_length: None, input: (2, 445, 35)\n"
     ]
    },
    {
     "name": "stdout",
     "output_type": "stream",
     "text": [
      "14/14 [==============================] - 2s 170ms/step\n"
     ]
    },
    {
     "name": "stderr",
     "output_type": "stream",
     "text": [
      "2020-12-13 18:39:37,822 [DEBUG] kashgari - predict output: (445, 35)\n",
      "2020-12-13 18:39:37,823 [DEBUG] kashgari - predict output argmax: [[0 1 1 ... 1 1 1]\n",
      " [0 1 1 ... 1 1 1]\n",
      " [0 1 1 ... 1 1 1]\n",
      " ...\n",
      " [0 1 1 ... 1 1 1]\n",
      " [0 1 3 ... 2 2 2]\n",
      " [0 0 0 ... 0 0 0]]\n",
      "2020-12-13 18:39:37,829 [DEBUG] kashgari - predict seq_length: None, input: (2, 357, 34)\n"
     ]
    },
    {
     "name": "stdout",
     "output_type": "stream",
     "text": [
      "12/12 [==============================] - 2s 161ms/step\n"
     ]
    },
    {
     "name": "stderr",
     "output_type": "stream",
     "text": [
      "2020-12-13 18:39:39,953 [DEBUG] kashgari - predict output: (357, 34)\n",
      "2020-12-13 18:39:39,954 [DEBUG] kashgari - predict output argmax: [[0 1 1 ... 1 1 1]\n",
      " [0 1 1 ... 1 1 1]\n",
      " [0 1 1 ... 1 1 1]\n",
      " ...\n",
      " [0 1 1 ... 1 1 1]\n",
      " [0 1 1 ... 1 1 1]\n",
      " [0 0 0 ... 0 0 0]]\n",
      "2020-12-13 18:39:39,957 [DEBUG] kashgari - predict seq_length: None, input: (2, 328, 49)\n"
     ]
    },
    {
     "name": "stdout",
     "output_type": "stream",
     "text": [
      "11/11 [==============================] - 2s 199ms/step\n"
     ]
    },
    {
     "name": "stderr",
     "output_type": "stream",
     "text": [
      "2020-12-13 18:39:45,432 [DEBUG] kashgari - predict output: (328, 49)\n",
      "2020-12-13 18:39:45,433 [DEBUG] kashgari - predict output argmax: [[0 1 1 ... 1 1 1]\n",
      " [0 1 1 ... 1 1 1]\n",
      " [0 1 1 ... 1 1 1]\n",
      " ...\n",
      " [0 1 1 ... 1 1 1]\n",
      " [0 1 1 ... 1 1 1]\n",
      " [0 0 0 ... 0 0 0]]\n",
      "2020-12-13 18:39:45,435 [DEBUG] kashgari - predict seq_length: None, input: (2, 133, 59)\n"
     ]
    },
    {
     "name": "stdout",
     "output_type": "stream",
     "text": [
      "5/5 [==============================] - 1s 192ms/step\n"
     ]
    },
    {
     "name": "stderr",
     "output_type": "stream",
     "text": [
      "2020-12-13 18:39:49,706 [DEBUG] kashgari - predict output: (133, 59)\n",
      "2020-12-13 18:39:49,707 [DEBUG] kashgari - predict output argmax: [[0 1 1 ... 1 1 1]\n",
      " [0 1 1 ... 1 1 1]\n",
      " [0 1 1 ... 1 1 1]\n",
      " ...\n",
      " [0 1 1 ... 1 1 1]\n",
      " [0 1 1 ... 1 1 1]\n",
      " [0 0 0 ... 0 0 0]]\n",
      "2020-12-13 18:39:49,710 [DEBUG] kashgari - predict seq_length: None, input: (2, 129, 23)\n"
     ]
    },
    {
     "name": "stdout",
     "output_type": "stream",
     "text": [
      "5/5 [==============================] - 1s 109ms/step\n"
     ]
    },
    {
     "name": "stderr",
     "output_type": "stream",
     "text": [
      "2020-12-13 18:39:50,420 [DEBUG] kashgari - predict output: (129, 23)\n",
      "2020-12-13 18:39:50,421 [DEBUG] kashgari - predict output argmax: [[0 1 1 ... 1 1 1]\n",
      " [0 1 1 ... 1 1 1]\n",
      " [0 1 1 ... 1 1 1]\n",
      " ...\n",
      " [0 1 0 ... 1 1 1]\n",
      " [0 1 1 ... 1 1 1]\n",
      " [0 0 0 ... 0 0 0]]\n",
      "2020-12-13 18:39:50,423 [DEBUG] kashgari - predict seq_length: None, input: (2, 131, 30)\n"
     ]
    },
    {
     "name": "stdout",
     "output_type": "stream",
     "text": [
      "5/5 [==============================] - 1s 131ms/step\n"
     ]
    },
    {
     "name": "stderr",
     "output_type": "stream",
     "text": [
      "2020-12-13 18:39:54,258 [DEBUG] kashgari - predict output: (131, 30)\n",
      "2020-12-13 18:39:54,259 [DEBUG] kashgari - predict output argmax: [[0 1 1 ... 1 1 1]\n",
      " [0 1 1 ... 1 1 1]\n",
      " [0 1 1 ... 1 1 1]\n",
      " ...\n",
      " [0 1 1 ... 1 1 1]\n",
      " [0 1 1 ... 1 1 1]\n",
      " [0 0 0 ... 0 0 0]]\n",
      "2020-12-13 18:39:54,264 [DEBUG] kashgari - predict seq_length: None, input: (2, 234, 34)\n"
     ]
    },
    {
     "name": "stdout",
     "output_type": "stream",
     "text": [
      "8/8 [==============================] - 1s 154ms/step\n"
     ]
    },
    {
     "name": "stderr",
     "output_type": "stream",
     "text": [
      "2020-12-13 18:39:55,697 [DEBUG] kashgari - predict output: (234, 34)\n",
      "2020-12-13 18:39:55,698 [DEBUG] kashgari - predict output argmax: [[0 1 1 ... 2 2 2]\n",
      " [0 1 1 ... 1 1 1]\n",
      " [0 1 1 ... 1 1 1]\n",
      " ...\n",
      " [0 1 1 ... 1 1 1]\n",
      " [0 1 1 ... 1 1 1]\n",
      " [0 0 0 ... 0 0 0]]\n",
      "2020-12-13 18:39:55,701 [DEBUG] kashgari - predict seq_length: None, input: (2, 79, 33)\n"
     ]
    },
    {
     "name": "stdout",
     "output_type": "stream",
     "text": [
      "3/3 [==============================] - 0s 114ms/step\n"
     ]
    },
    {
     "name": "stderr",
     "output_type": "stream",
     "text": [
      "2020-12-13 18:39:56,247 [DEBUG] kashgari - predict output: (79, 33)\n",
      "2020-12-13 18:39:56,247 [DEBUG] kashgari - predict output argmax: [[0 1 1 ... 1 1 1]\n",
      " [0 1 1 ... 1 1 1]\n",
      " [0 1 1 ... 1 1 1]\n",
      " ...\n",
      " [0 1 1 ... 1 1 1]\n",
      " [0 1 1 ... 1 1 1]\n",
      " [0 0 0 ... 0 0 0]]\n",
      "2020-12-13 18:39:56,251 [DEBUG] kashgari - predict seq_length: None, input: (2, 260, 37)\n"
     ]
    },
    {
     "name": "stdout",
     "output_type": "stream",
     "text": [
      "9/9 [==============================] - 1s 159ms/step\n"
     ]
    },
    {
     "name": "stderr",
     "output_type": "stream",
     "text": [
      "2020-12-13 18:40:00,822 [DEBUG] kashgari - predict output: (260, 37)\n",
      "2020-12-13 18:40:00,823 [DEBUG] kashgari - predict output argmax: [[0 1 1 ... 1 1 1]\n",
      " [0 1 1 ... 1 1 1]\n",
      " [0 1 1 ... 1 1 1]\n",
      " ...\n",
      " [0 1 1 ... 1 1 1]\n",
      " [0 1 1 ... 1 1 1]\n",
      " [0 0 0 ... 0 0 0]]\n",
      "2020-12-13 18:40:00,826 [DEBUG] kashgari - predict seq_length: None, input: (2, 255, 35)\n"
     ]
    },
    {
     "name": "stdout",
     "output_type": "stream",
     "text": [
      "8/8 [==============================] - 1s 158ms/step\n"
     ]
    },
    {
     "name": "stderr",
     "output_type": "stream",
     "text": [
      "2020-12-13 18:40:02,302 [DEBUG] kashgari - predict output: (255, 35)\n",
      "2020-12-13 18:40:02,303 [DEBUG] kashgari - predict output argmax: [[0 1 1 ... 1 1 1]\n",
      " [0 1 1 ... 1 1 1]\n",
      " [0 1 1 ... 1 1 1]\n",
      " ...\n",
      " [0 1 1 ... 1 1 1]\n",
      " [0 1 1 ... 1 1 1]\n",
      " [0 0 0 ... 0 0 0]]\n",
      "2020-12-13 18:40:02,307 [DEBUG] kashgari - predict seq_length: None, input: (2, 175, 41)\n"
     ]
    },
    {
     "name": "stdout",
     "output_type": "stream",
     "text": [
      "6/6 [==============================] - 1s 159ms/step\n"
     ]
    },
    {
     "name": "stderr",
     "output_type": "stream",
     "text": [
      "2020-12-13 18:40:07,048 [DEBUG] kashgari - predict output: (175, 41)\n",
      "2020-12-13 18:40:07,048 [DEBUG] kashgari - predict output argmax: [[0 1 1 ... 1 1 1]\n",
      " [0 1 1 ... 1 1 1]\n",
      " [0 1 1 ... 1 1 1]\n",
      " ...\n",
      " [0 1 1 ... 1 1 1]\n",
      " [0 1 1 ... 1 1 1]\n",
      " [0 0 0 ... 0 0 0]]\n",
      "2020-12-13 18:40:07,052 [DEBUG] kashgari - predict seq_length: None, input: (2, 189, 31)\n"
     ]
    },
    {
     "name": "stdout",
     "output_type": "stream",
     "text": [
      "6/6 [==============================] - 1s 137ms/step\n"
     ]
    },
    {
     "name": "stderr",
     "output_type": "stream",
     "text": [
      "2020-12-13 18:40:11,160 [DEBUG] kashgari - predict output: (189, 31)\n",
      "2020-12-13 18:40:11,161 [DEBUG] kashgari - predict output argmax: [[0 1 1 ... 1 1 1]\n",
      " [0 1 1 ... 1 1 1]\n",
      " [0 1 1 ... 1 1 1]\n",
      " ...\n",
      " [0 1 1 ... 1 1 1]\n",
      " [0 1 1 ... 1 1 1]\n",
      " [0 0 0 ... 0 0 0]]\n",
      "2020-12-13 18:40:11,164 [DEBUG] kashgari - predict seq_length: None, input: (2, 292, 31)\n"
     ]
    },
    {
     "name": "stdout",
     "output_type": "stream",
     "text": [
      "10/10 [==============================] - 1s 146ms/step\n"
     ]
    },
    {
     "name": "stderr",
     "output_type": "stream",
     "text": [
      "2020-12-13 18:40:12,802 [DEBUG] kashgari - predict output: (292, 31)\n",
      "2020-12-13 18:40:12,802 [DEBUG] kashgari - predict output argmax: [[0 1 1 ... 1 1 1]\n",
      " [0 1 1 ... 1 1 1]\n",
      " [0 1 1 ... 1 1 1]\n",
      " ...\n",
      " [0 1 1 ... 1 1 1]\n",
      " [0 1 1 ... 1 1 1]\n",
      " [0 0 0 ... 0 0 0]]\n",
      "2020-12-13 18:40:12,805 [DEBUG] kashgari - predict seq_length: None, input: (2, 97, 38)\n"
     ]
    },
    {
     "name": "stdout",
     "output_type": "stream",
     "text": [
      "4/4 [==============================] - 1s 136ms/step\n"
     ]
    },
    {
     "name": "stderr",
     "output_type": "stream",
     "text": [
      "2020-12-13 18:40:16,661 [DEBUG] kashgari - predict output: (97, 38)\n",
      "2020-12-13 18:40:16,661 [DEBUG] kashgari - predict output argmax: [[0 1 1 ... 1 1 1]\n",
      " [0 1 1 ... 2 2 2]\n",
      " [0 1 1 ... 1 1 1]\n",
      " ...\n",
      " [0 1 1 ... 1 1 1]\n",
      " [0 1 1 ... 1 1 1]\n",
      " [0 0 0 ... 0 0 0]]\n",
      "2020-12-13 18:40:16,667 [DEBUG] kashgari - predict seq_length: None, input: (2, 351, 56)\n"
     ]
    },
    {
     "name": "stdout",
     "output_type": "stream",
     "text": [
      "11/11 [==============================] - 2s 219ms/step\n"
     ]
    },
    {
     "name": "stderr",
     "output_type": "stream",
     "text": [
      "2020-12-13 18:40:22,340 [DEBUG] kashgari - predict output: (351, 56)\n",
      "2020-12-13 18:40:22,340 [DEBUG] kashgari - predict output argmax: [[0 1 1 ... 1 1 1]\n",
      " [0 1 1 ... 1 1 1]\n",
      " [0 1 1 ... 1 1 1]\n",
      " ...\n",
      " [0 1 1 ... 1 1 1]\n",
      " [0 1 1 ... 1 1 1]\n",
      " [0 0 0 ... 0 0 0]]\n",
      "2020-12-13 18:40:22,346 [DEBUG] kashgari - predict seq_length: None, input: (2, 297, 46)\n"
     ]
    },
    {
     "name": "stdout",
     "output_type": "stream",
     "text": [
      "10/10 [==============================] - 2s 187ms/step\n"
     ]
    },
    {
     "name": "stderr",
     "output_type": "stream",
     "text": [
      "2020-12-13 18:40:27,982 [DEBUG] kashgari - predict output: (297, 46)\n",
      "2020-12-13 18:40:27,983 [DEBUG] kashgari - predict output argmax: [[0 1 1 ... 1 1 1]\n",
      " [0 1 1 ... 1 1 1]\n",
      " [0 1 1 ... 1 1 1]\n",
      " ...\n",
      " [0 1 1 ... 1 1 1]\n",
      " [0 1 1 ... 1 1 1]\n",
      " [0 0 0 ... 0 0 0]]\n",
      "2020-12-13 18:40:27,985 [DEBUG] kashgari - predict seq_length: None, input: (2, 136, 21)\n"
     ]
    },
    {
     "name": "stdout",
     "output_type": "stream",
     "text": [
      "5/5 [==============================] - 0s 97ms/step\n"
     ]
    },
    {
     "name": "stderr",
     "output_type": "stream",
     "text": [
      "2020-12-13 18:40:33,461 [DEBUG] kashgari - predict output: (136, 21)\n",
      "2020-12-13 18:40:33,461 [DEBUG] kashgari - predict output argmax: [[0 1 1 ... 1 1 1]\n",
      " [0 1 1 ... 1 1 1]\n",
      " [0 1 1 ... 2 2 2]\n",
      " ...\n",
      " [0 1 1 ... 1 1 1]\n",
      " [0 1 1 ... 1 1 1]\n",
      " [0 0 0 ... 0 0 0]]\n",
      "2020-12-13 18:40:33,464 [DEBUG] kashgari - predict seq_length: None, input: (2, 115, 42)\n"
     ]
    },
    {
     "name": "stdout",
     "output_type": "stream",
     "text": [
      "4/4 [==============================] - 1s 146ms/step\n"
     ]
    },
    {
     "name": "stderr",
     "output_type": "stream",
     "text": [
      "2020-12-13 18:40:39,042 [DEBUG] kashgari - predict output: (115, 42)\n",
      "2020-12-13 18:40:39,043 [DEBUG] kashgari - predict output argmax: [[0 1 1 ... 1 1 1]\n",
      " [0 1 1 ... 1 1 1]\n",
      " [0 1 1 ... 1 1 1]\n",
      " ...\n",
      " [0 1 1 ... 1 1 1]\n",
      " [0 1 1 ... 1 1 1]\n",
      " [0 0 0 ... 0 0 0]]\n",
      "2020-12-13 18:40:39,046 [DEBUG] kashgari - predict seq_length: None, input: (2, 89, 23)\n"
     ]
    },
    {
     "name": "stdout",
     "output_type": "stream",
     "text": [
      "3/3 [==============================] - 0s 104ms/step\n"
     ]
    },
    {
     "name": "stderr",
     "output_type": "stream",
     "text": [
      "2020-12-13 18:40:39,525 [DEBUG] kashgari - predict output: (89, 23)\n",
      "2020-12-13 18:40:39,526 [DEBUG] kashgari - predict output argmax: [[0 1 1 ... 1 1 1]\n",
      " [0 1 1 ... 1 1 1]\n",
      " [0 1 1 ... 1 1 1]\n",
      " ...\n",
      " [0 1 1 ... 1 1 1]\n",
      " [0 1 1 ... 1 1 1]\n",
      " [0 0 0 ... 0 0 0]]\n",
      "2020-12-13 18:40:39,531 [DEBUG] kashgari - predict seq_length: None, input: (2, 251, 52)\n"
     ]
    },
    {
     "name": "stdout",
     "output_type": "stream",
     "text": [
      "8/8 [==============================] - 2s 205ms/step\n"
     ]
    },
    {
     "name": "stderr",
     "output_type": "stream",
     "text": [
      "2020-12-13 18:40:45,568 [DEBUG] kashgari - predict output: (251, 52)\n",
      "2020-12-13 18:40:45,569 [DEBUG] kashgari - predict output argmax: [[0 1 1 ... 1 1 1]\n",
      " [0 1 1 ... 1 1 1]\n",
      " [0 1 1 ... 1 1 1]\n",
      " ...\n",
      " [0 1 1 ... 1 1 1]\n",
      " [0 1 1 ... 1 1 1]\n",
      " [0 0 0 ... 0 0 0]]\n",
      "2020-12-13 18:40:45,571 [DEBUG] kashgari - predict seq_length: None, input: (2, 153, 20)\n"
     ]
    },
    {
     "name": "stdout",
     "output_type": "stream",
     "text": [
      "5/5 [==============================] - 1s 105ms/step\n"
     ]
    },
    {
     "name": "stderr",
     "output_type": "stream",
     "text": [
      "2020-12-13 18:40:46,255 [DEBUG] kashgari - predict output: (153, 20)\n",
      "2020-12-13 18:40:46,255 [DEBUG] kashgari - predict output argmax: [[0 1 1 ... 1 1 1]\n",
      " [0 1 0 ... 1 1 1]\n",
      " [0 1 1 ... 1 1 1]\n",
      " ...\n",
      " [0 1 1 ... 1 1 1]\n",
      " [0 1 1 ... 1 1 1]\n",
      " [0 0 0 ... 0 0 0]]\n",
      "2020-12-13 18:40:46,259 [DEBUG] kashgari - predict seq_length: None, input: (2, 169, 47)\n"
     ]
    },
    {
     "name": "stdout",
     "output_type": "stream",
     "text": [
      "6/6 [==============================] - 1s 175ms/step\n"
     ]
    },
    {
     "name": "stderr",
     "output_type": "stream",
     "text": [
      "2020-12-13 18:40:50,543 [DEBUG] kashgari - predict output: (169, 47)\n",
      "2020-12-13 18:40:50,543 [DEBUG] kashgari - predict output argmax: [[0 1 1 ... 1 1 1]\n",
      " [0 1 1 ... 1 1 1]\n",
      " [0 1 1 ... 1 1 1]\n",
      " ...\n",
      " [0 1 1 ... 1 1 1]\n",
      " [0 1 1 ... 1 1 1]\n",
      " [0 0 0 ... 0 0 0]]\n",
      "2020-12-13 18:40:50,547 [DEBUG] kashgari - predict seq_length: None, input: (2, 324, 37)\n"
     ]
    },
    {
     "name": "stdout",
     "output_type": "stream",
     "text": [
      "11/11 [==============================] - 2s 167ms/step\n"
     ]
    },
    {
     "name": "stderr",
     "output_type": "stream",
     "text": [
      "2020-12-13 18:40:52,594 [DEBUG] kashgari - predict output: (324, 37)\n",
      "2020-12-13 18:40:52,595 [DEBUG] kashgari - predict output argmax: [[0 1 1 ... 1 1 1]\n",
      " [0 1 1 ... 1 1 1]\n",
      " [0 1 1 ... 1 1 1]\n",
      " ...\n",
      " [0 1 1 ... 5 5 5]\n",
      " [0 1 1 ... 1 1 1]\n",
      " [0 0 0 ... 0 0 0]]\n",
      "2020-12-13 18:40:52,597 [DEBUG] kashgari - predict seq_length: None, input: (2, 157, 35)\n"
     ]
    },
    {
     "name": "stdout",
     "output_type": "stream",
     "text": [
      "5/5 [==============================] - 1s 146ms/step\n"
     ]
    },
    {
     "name": "stderr",
     "output_type": "stream",
     "text": [
      "2020-12-13 18:40:53,533 [DEBUG] kashgari - predict output: (157, 35)\n",
      "2020-12-13 18:40:53,533 [DEBUG] kashgari - predict output argmax: [[0 1 1 ... 1 1 1]\n",
      " [0 1 1 ... 1 1 1]\n",
      " [0 1 1 ... 1 1 1]\n",
      " ...\n",
      " [0 1 1 ... 1 1 1]\n",
      " [0 1 1 ... 1 1 1]\n",
      " [0 0 0 ... 0 0 0]]\n",
      "2020-12-13 18:40:53,537 [DEBUG] kashgari - predict seq_length: None, input: (2, 191, 27)\n"
     ]
    },
    {
     "name": "stdout",
     "output_type": "stream",
     "text": [
      "6/6 [==============================] - 1s 133ms/step\n"
     ]
    },
    {
     "name": "stderr",
     "output_type": "stream",
     "text": [
      "2020-12-13 18:40:57,400 [DEBUG] kashgari - predict output: (191, 27)\n",
      "2020-12-13 18:40:57,401 [DEBUG] kashgari - predict output argmax: [[0 1 1 ... 1 1 1]\n",
      " [0 1 1 ... 1 1 1]\n",
      " [0 1 1 ... 1 1 1]\n",
      " ...\n",
      " [0 1 1 ... 1 1 1]\n",
      " [0 1 1 ... 1 1 1]\n",
      " [0 0 0 ... 0 0 0]]\n",
      "2020-12-13 18:40:57,403 [DEBUG] kashgari - predict seq_length: None, input: (2, 115, 36)\n"
     ]
    },
    {
     "name": "stdout",
     "output_type": "stream",
     "text": [
      "4/4 [==============================] - 1s 135ms/step\n"
     ]
    },
    {
     "name": "stderr",
     "output_type": "stream",
     "text": [
      "2020-12-13 18:41:01,155 [DEBUG] kashgari - predict output: (115, 36)\n",
      "2020-12-13 18:41:01,156 [DEBUG] kashgari - predict output argmax: [[0 1 1 ... 1 1 1]\n",
      " [0 1 1 ... 1 1 1]\n",
      " [0 1 1 ... 1 1 1]\n",
      " ...\n",
      " [0 1 1 ... 1 1 1]\n",
      " [0 1 1 ... 1 1 1]\n",
      " [0 0 0 ... 0 0 0]]\n",
      "2020-12-13 18:41:01,163 [DEBUG] kashgari - predict seq_length: None, input: (2, 529, 33)\n"
     ]
    },
    {
     "name": "stdout",
     "output_type": "stream",
     "text": [
      "17/17 [==============================] - 3s 160ms/step\n"
     ]
    },
    {
     "name": "stderr",
     "output_type": "stream",
     "text": [
      "2020-12-13 18:41:04,093 [DEBUG] kashgari - predict output: (529, 33)\n",
      "2020-12-13 18:41:04,093 [DEBUG] kashgari - predict output argmax: [[0 1 1 ... 1 1 1]\n",
      " [0 1 1 ... 1 1 1]\n",
      " [0 1 1 ... 1 1 1]\n",
      " ...\n",
      " [0 1 1 ... 1 1 1]\n",
      " [0 1 1 ... 1 1 1]\n",
      " [0 0 0 ... 0 0 0]]\n",
      "2020-12-13 18:41:04,096 [DEBUG] kashgari - predict seq_length: None, input: (2, 217, 32)\n"
     ]
    },
    {
     "name": "stdout",
     "output_type": "stream",
     "text": [
      "7/7 [==============================] - 1s 148ms/step\n"
     ]
    },
    {
     "name": "stderr",
     "output_type": "stream",
     "text": [
      "2020-12-13 18:41:05,319 [DEBUG] kashgari - predict output: (217, 32)\n",
      "2020-12-13 18:41:05,320 [DEBUG] kashgari - predict output argmax: [[0 1 1 ... 1 1 1]\n",
      " [0 1 1 ... 1 1 1]\n",
      " [0 1 1 ... 1 1 1]\n",
      " ...\n",
      " [0 1 1 ... 1 1 1]\n",
      " [0 1 1 ... 1 1 1]\n",
      " [0 0 0 ... 0 0 0]]\n",
      "2020-12-13 18:41:05,324 [DEBUG] kashgari - predict seq_length: None, input: (2, 186, 47)\n"
     ]
    },
    {
     "name": "stdout",
     "output_type": "stream",
     "text": [
      "6/6 [==============================] - 1s 180ms/step\n"
     ]
    },
    {
     "name": "stderr",
     "output_type": "stream",
     "text": [
      "2020-12-13 18:41:06,658 [DEBUG] kashgari - predict output: (186, 47)\n",
      "2020-12-13 18:41:06,659 [DEBUG] kashgari - predict output argmax: [[0 1 1 ... 1 1 1]\n",
      " [0 1 1 ... 1 1 1]\n",
      " [0 1 1 ... 1 1 1]\n",
      " ...\n",
      " [0 1 1 ... 1 1 1]\n",
      " [0 1 0 ... 1 1 1]\n",
      " [0 0 0 ... 0 0 0]]\n",
      "2020-12-13 18:41:06,663 [DEBUG] kashgari - predict seq_length: None, input: (2, 410, 55)\n"
     ]
    },
    {
     "name": "stdout",
     "output_type": "stream",
     "text": [
      "13/13 [==============================] - 3s 223ms/step\n"
     ]
    },
    {
     "name": "stderr",
     "output_type": "stream",
     "text": [
      "2020-12-13 18:41:12,831 [DEBUG] kashgari - predict output: (410, 55)\n",
      "2020-12-13 18:41:12,831 [DEBUG] kashgari - predict output argmax: [[0 1 1 ... 1 1 1]\n",
      " [0 1 1 ... 1 1 1]\n",
      " [0 1 1 ... 1 1 1]\n",
      " ...\n",
      " [0 1 1 ... 1 1 1]\n",
      " [0 1 1 ... 1 1 1]\n",
      " [0 0 0 ... 0 0 0]]\n",
      "2020-12-13 18:41:12,835 [DEBUG] kashgari - predict seq_length: None, input: (2, 347, 42)\n"
     ]
    },
    {
     "name": "stdout",
     "output_type": "stream",
     "text": [
      "11/11 [==============================] - 2s 176ms/step\n"
     ]
    },
    {
     "name": "stderr",
     "output_type": "stream",
     "text": [
      "2020-12-13 18:41:14,996 [DEBUG] kashgari - predict output: (347, 42)\n",
      "2020-12-13 18:41:14,996 [DEBUG] kashgari - predict output argmax: [[0 1 1 ... 1 1 1]\n",
      " [0 1 1 ... 1 1 1]\n",
      " [0 1 1 ... 1 1 1]\n",
      " ...\n",
      " [0 1 1 ... 1 1 1]\n",
      " [0 1 1 ... 1 1 1]\n",
      " [0 0 0 ... 0 0 0]]\n",
      "2020-12-13 18:41:15,001 [DEBUG] kashgari - predict seq_length: None, input: (2, 524, 65)\n"
     ]
    },
    {
     "name": "stdout",
     "output_type": "stream",
     "text": [
      "17/17 [==============================] - 4s 255ms/step\n"
     ]
    },
    {
     "name": "stderr",
     "output_type": "stream",
     "text": [
      "2020-12-13 18:41:19,653 [DEBUG] kashgari - predict output: (524, 65)\n",
      "2020-12-13 18:41:19,656 [DEBUG] kashgari - predict output argmax: [[0 1 1 ... 1 1 1]\n",
      " [0 1 1 ... 1 1 1]\n",
      " [0 1 1 ... 1 1 1]\n",
      " ...\n",
      " [0 1 1 ... 1 1 1]\n",
      " [0 1 1 ... 1 1 1]\n",
      " [0 0 0 ... 0 0 0]]\n",
      "2020-12-13 18:41:19,658 [DEBUG] kashgari - predict seq_length: None, input: (2, 182, 29)\n"
     ]
    },
    {
     "name": "stdout",
     "output_type": "stream",
     "text": [
      "6/6 [==============================] - 1s 128ms/step\n"
     ]
    },
    {
     "name": "stderr",
     "output_type": "stream",
     "text": [
      "2020-12-13 18:41:20,613 [DEBUG] kashgari - predict output: (182, 29)\n",
      "2020-12-13 18:41:20,613 [DEBUG] kashgari - predict output argmax: [[0 1 1 ... 1 1 1]\n",
      " [0 1 1 ... 1 1 1]\n",
      " [0 1 1 ... 1 1 1]\n",
      " ...\n",
      " [0 1 1 ... 1 1 1]\n",
      " [0 1 1 ... 1 1 1]\n",
      " [0 0 0 ... 0 0 0]]\n",
      "2020-12-13 18:41:20,615 [DEBUG] kashgari - predict seq_length: None, input: (2, 163, 20)\n"
     ]
    },
    {
     "name": "stdout",
     "output_type": "stream",
     "text": [
      "6/6 [==============================] - 1s 111ms/step\n"
     ]
    },
    {
     "name": "stderr",
     "output_type": "stream",
     "text": [
      "2020-12-13 18:41:21,433 [DEBUG] kashgari - predict output: (163, 20)\n",
      "2020-12-13 18:41:21,434 [DEBUG] kashgari - predict output argmax: [[0 1 1 ... 1 1 1]\n",
      " [0 1 1 ... 1 1 1]\n",
      " [0 1 1 ... 1 1 1]\n",
      " ...\n",
      " [0 1 0 ... 1 1 1]\n",
      " [0 1 1 ... 1 1 1]\n",
      " [0 0 0 ... 0 0 0]]\n",
      "2020-12-13 18:41:21,436 [DEBUG] kashgari - predict seq_length: None, input: (2, 97, 19)\n"
     ]
    },
    {
     "name": "stdout",
     "output_type": "stream",
     "text": [
      "4/4 [==============================] - 0s 91ms/step\n"
     ]
    },
    {
     "name": "stderr",
     "output_type": "stream",
     "text": [
      "2020-12-13 18:41:21,965 [DEBUG] kashgari - predict output: (97, 19)\n",
      "2020-12-13 18:41:21,966 [DEBUG] kashgari - predict output argmax: [[0 1 1 ... 1 1 1]\n",
      " [0 1 1 ... 1 1 1]\n",
      " [0 1 0 ... 1 1 1]\n",
      " ...\n",
      " [0 1 1 ... 1 1 1]\n",
      " [0 1 1 ... 1 1 1]\n",
      " [0 0 0 ... 0 0 0]]\n",
      "2020-12-13 18:41:21,969 [DEBUG] kashgari - predict seq_length: None, input: (2, 189, 21)\n"
     ]
    },
    {
     "name": "stdout",
     "output_type": "stream",
     "text": [
      "6/6 [==============================] - 1s 115ms/step\n"
     ]
    },
    {
     "name": "stderr",
     "output_type": "stream",
     "text": [
      "2020-12-13 18:41:22,831 [DEBUG] kashgari - predict output: (189, 21)\n",
      "2020-12-13 18:41:22,831 [DEBUG] kashgari - predict output argmax: [[0 1 1 ... 1 1 1]\n",
      " [0 1 0 ... 1 1 1]\n",
      " [0 1 1 ... 1 1 1]\n",
      " ...\n",
      " [0 1 1 ... 1 1 1]\n",
      " [0 1 1 ... 1 1 1]\n",
      " [0 0 0 ... 0 0 0]]\n",
      "2020-12-13 18:41:22,835 [DEBUG] kashgari - predict seq_length: None, input: (2, 320, 25)\n"
     ]
    },
    {
     "name": "stdout",
     "output_type": "stream",
     "text": [
      "10/10 [==============================] - 1s 84ms/step\n"
     ]
    },
    {
     "name": "stderr",
     "output_type": "stream",
     "text": [
      "2020-12-13 18:41:25,984 [DEBUG] kashgari - predict output: (320, 25)\n",
      "2020-12-13 18:41:25,985 [DEBUG] kashgari - predict output argmax: [[0 1 1 ... 1 1 1]\n",
      " [0 1 1 ... 1 1 1]\n",
      " [0 1 1 ... 1 1 1]\n",
      " ...\n",
      " [0 1 0 ... 1 1 1]\n",
      " [0 1 1 ... 1 1 1]\n",
      " [0 0 0 ... 0 0 0]]\n",
      "2020-12-13 18:41:25,989 [DEBUG] kashgari - predict seq_length: None, input: (2, 301, 20)\n"
     ]
    },
    {
     "name": "stdout",
     "output_type": "stream",
     "text": [
      "10/10 [==============================] - 1s 120ms/step\n"
     ]
    },
    {
     "name": "stderr",
     "output_type": "stream",
     "text": [
      "2020-12-13 18:41:27,349 [DEBUG] kashgari - predict output: (301, 20)\n",
      "2020-12-13 18:41:27,350 [DEBUG] kashgari - predict output argmax: [[0 1 1 ... 1 1 1]\n",
      " [0 1 1 ... 1 1 1]\n",
      " [0 1 1 ... 1 1 1]\n",
      " ...\n",
      " [0 1 0 ... 1 1 1]\n",
      " [0 1 1 ... 1 1 1]\n",
      " [0 0 0 ... 0 0 0]]\n",
      "2020-12-13 18:41:27,353 [DEBUG] kashgari - predict seq_length: None, input: (2, 82, 35)\n"
     ]
    },
    {
     "name": "stdout",
     "output_type": "stream",
     "text": [
      "3/3 [==============================] - 0s 118ms/step\n"
     ]
    },
    {
     "name": "stderr",
     "output_type": "stream",
     "text": [
      "2020-12-13 18:41:27,907 [DEBUG] kashgari - predict output: (82, 35)\n",
      "2020-12-13 18:41:27,908 [DEBUG] kashgari - predict output argmax: [[0 1 1 ... 1 1 1]\n",
      " [0 1 1 ... 1 1 1]\n",
      " [0 1 1 ... 1 1 1]\n",
      " ...\n",
      " [0 1 1 ... 1 1 1]\n",
      " [0 1 1 ... 1 1 1]\n",
      " [0 0 0 ... 0 0 0]]\n",
      "2020-12-13 18:41:27,911 [DEBUG] kashgari - predict seq_length: None, input: (2, 192, 37)\n"
     ]
    },
    {
     "name": "stdout",
     "output_type": "stream",
     "text": [
      "6/6 [==============================] - 1s 109ms/step\n"
     ]
    },
    {
     "name": "stderr",
     "output_type": "stream",
     "text": [
      "2020-12-13 18:41:30,889 [DEBUG] kashgari - predict output: (192, 37)\n",
      "2020-12-13 18:41:30,890 [DEBUG] kashgari - predict output argmax: [[0 1 1 ... 2 2 2]\n",
      " [0 1 3 ... 1 1 1]\n",
      " [0 1 1 ... 2 2 2]\n",
      " ...\n",
      " [0 1 1 ... 1 1 1]\n",
      " [0 1 1 ... 1 1 1]\n",
      " [0 0 0 ... 0 0 0]]\n",
      "2020-12-13 18:41:30,893 [DEBUG] kashgari - predict seq_length: None, input: (2, 264, 48)\n"
     ]
    },
    {
     "name": "stdout",
     "output_type": "stream",
     "text": [
      "9/9 [==============================] - 2s 194ms/step\n"
     ]
    },
    {
     "name": "stderr",
     "output_type": "stream",
     "text": [
      "2020-12-13 18:41:35,990 [DEBUG] kashgari - predict output: (264, 48)\n",
      "2020-12-13 18:41:35,991 [DEBUG] kashgari - predict output argmax: [[0 1 1 ... 1 1 1]\n",
      " [0 1 1 ... 1 1 1]\n",
      " [0 1 1 ... 1 1 1]\n",
      " ...\n",
      " [0 1 1 ... 1 1 1]\n",
      " [0 1 1 ... 1 1 1]\n",
      " [0 0 0 ... 0 0 0]]\n",
      "2020-12-13 18:41:35,994 [DEBUG] kashgari - predict seq_length: None, input: (2, 247, 43)\n"
     ]
    },
    {
     "name": "stdout",
     "output_type": "stream",
     "text": [
      "8/8 [==============================] - 1s 168ms/step\n"
     ]
    },
    {
     "name": "stderr",
     "output_type": "stream",
     "text": [
      "2020-12-13 18:41:40,578 [DEBUG] kashgari - predict output: (247, 43)\n",
      "2020-12-13 18:41:40,579 [DEBUG] kashgari - predict output argmax: [[0 1 1 ... 1 1 1]\n",
      " [0 1 1 ... 1 1 1]\n",
      " [0 1 1 ... 1 1 1]\n",
      " ...\n",
      " [0 1 1 ... 1 1 1]\n",
      " [0 1 1 ... 1 1 1]\n",
      " [0 0 0 ... 0 0 0]]\n",
      "2020-12-13 18:41:40,581 [DEBUG] kashgari - predict seq_length: None, input: (2, 120, 21)\n"
     ]
    },
    {
     "name": "stdout",
     "output_type": "stream",
     "text": [
      "4/4 [==============================] - 0s 96ms/step\n"
     ]
    },
    {
     "name": "stderr",
     "output_type": "stream",
     "text": [
      "2020-12-13 18:41:41,096 [DEBUG] kashgari - predict output: (120, 21)\n",
      "2020-12-13 18:41:41,097 [DEBUG] kashgari - predict output argmax: [[0 1 1 ... 2 2 2]\n",
      " [0 1 1 ... 1 1 1]\n",
      " [0 3 2 ... 1 1 1]\n",
      " ...\n",
      " [0 1 1 ... 1 1 1]\n",
      " [0 1 1 ... 1 1 1]\n",
      " [0 0 0 ... 0 0 0]]\n",
      "2020-12-13 18:41:41,099 [DEBUG] kashgari - predict seq_length: None, input: (2, 49, 21)\n"
     ]
    },
    {
     "name": "stdout",
     "output_type": "stream",
     "text": [
      "2/2 [==============================] - 0s 71ms/step\n"
     ]
    },
    {
     "name": "stderr",
     "output_type": "stream",
     "text": [
      "2020-12-13 18:41:41,373 [DEBUG] kashgari - predict output: (49, 21)\n",
      "2020-12-13 18:41:41,374 [DEBUG] kashgari - predict output argmax: [[0 1 1 ... 1 1 1]\n",
      " [0 1 1 ... 1 1 1]\n",
      " [0 1 1 ... 1 1 1]\n",
      " ...\n",
      " [0 1 1 ... 1 1 1]\n",
      " [0 1 1 ... 1 1 1]\n",
      " [0 0 0 ... 0 0 0]]\n",
      "2020-12-13 18:41:41,377 [DEBUG] kashgari - predict seq_length: None, input: (2, 104, 32)\n"
     ]
    },
    {
     "name": "stdout",
     "output_type": "stream",
     "text": [
      "4/4 [==============================] - 0s 124ms/step\n"
     ]
    },
    {
     "name": "stderr",
     "output_type": "stream",
     "text": [
      "2020-12-13 18:41:42,067 [DEBUG] kashgari - predict output: (104, 32)\n",
      "2020-12-13 18:41:42,068 [DEBUG] kashgari - predict output argmax: [[0 1 1 ... 2 2 2]\n",
      " [0 1 1 ... 1 1 1]\n",
      " [0 1 1 ... 1 1 1]\n",
      " ...\n",
      " [0 1 1 ... 1 1 1]\n",
      " [0 1 1 ... 1 1 1]\n",
      " [0 0 0 ... 0 0 0]]\n",
      "2020-12-13 18:41:42,071 [DEBUG] kashgari - predict seq_length: None, input: (2, 190, 33)\n"
     ]
    },
    {
     "name": "stdout",
     "output_type": "stream",
     "text": [
      "6/6 [==============================] - 1s 135ms/step\n"
     ]
    },
    {
     "name": "stderr",
     "output_type": "stream",
     "text": [
      "2020-12-13 18:41:43,085 [DEBUG] kashgari - predict output: (190, 33)\n",
      "2020-12-13 18:41:43,086 [DEBUG] kashgari - predict output argmax: [[0 1 1 ... 1 1 1]\n",
      " [0 1 1 ... 1 1 1]\n",
      " [0 1 1 ... 1 1 1]\n",
      " ...\n",
      " [0 1 1 ... 1 1 1]\n",
      " [0 1 1 ... 1 1 1]\n",
      " [0 0 0 ... 0 0 0]]\n",
      "2020-12-13 18:41:43,088 [DEBUG] kashgari - predict seq_length: None, input: (2, 79, 25)\n"
     ]
    },
    {
     "name": "stdout",
     "output_type": "stream",
     "text": [
      "3/3 [==============================] - 0s 103ms/step\n"
     ]
    },
    {
     "name": "stderr",
     "output_type": "stream",
     "text": [
      "2020-12-13 18:41:43,544 [DEBUG] kashgari - predict output: (79, 25)\n",
      "2020-12-13 18:41:43,545 [DEBUG] kashgari - predict output argmax: [[0 1 1 ... 1 1 1]\n",
      " [0 1 1 ... 1 1 1]\n",
      " [0 1 1 ... 1 1 1]\n",
      " ...\n",
      " [0 1 1 ... 1 1 1]\n",
      " [0 1 1 ... 1 1 1]\n",
      " [0 0 0 ... 0 0 0]]\n",
      "2020-12-13 18:41:43,548 [DEBUG] kashgari - predict seq_length: None, input: (2, 162, 39)\n"
     ]
    },
    {
     "name": "stdout",
     "output_type": "stream",
     "text": [
      "6/6 [==============================] - 1s 152ms/step\n"
     ]
    },
    {
     "name": "stderr",
     "output_type": "stream",
     "text": [
      "2020-12-13 18:41:49,562 [DEBUG] kashgari - predict output: (162, 39)\n",
      "2020-12-13 18:41:49,563 [DEBUG] kashgari - predict output argmax: [[0 1 1 ... 1 1 1]\n",
      " [0 1 1 ... 1 1 1]\n",
      " [0 1 1 ... 1 1 1]\n",
      " ...\n",
      " [0 1 1 ... 1 1 1]\n",
      " [0 1 1 ... 1 1 1]\n",
      " [0 0 0 ... 0 0 0]]\n",
      "2020-12-13 18:41:49,565 [DEBUG] kashgari - predict seq_length: None, input: (2, 96, 23)\n"
     ]
    },
    {
     "name": "stdout",
     "output_type": "stream",
     "text": [
      "3/3 [==============================] - 0s 64ms/step\n"
     ]
    },
    {
     "name": "stderr",
     "output_type": "stream",
     "text": [
      "2020-12-13 18:41:53,301 [DEBUG] kashgari - predict output: (96, 23)\n",
      "2020-12-13 18:41:53,301 [DEBUG] kashgari - predict output argmax: [[0 1 1 ... 1 1 1]\n",
      " [0 1 1 ... 1 1 1]\n",
      " [0 1 1 ... 1 1 1]\n",
      " ...\n",
      " [0 1 1 ... 1 1 1]\n",
      " [0 1 1 ... 1 1 1]\n",
      " [0 0 0 ... 0 0 0]]\n",
      "2020-12-13 18:41:53,304 [DEBUG] kashgari - predict seq_length: None, input: (2, 197, 40)\n"
     ]
    },
    {
     "name": "stdout",
     "output_type": "stream",
     "text": [
      "7/7 [==============================] - 1s 165ms/step\n"
     ]
    },
    {
     "name": "stderr",
     "output_type": "stream",
     "text": [
      "2020-12-13 18:41:54,687 [DEBUG] kashgari - predict output: (197, 40)\n",
      "2020-12-13 18:41:54,688 [DEBUG] kashgari - predict output argmax: [[0 1 1 ... 1 1 1]\n",
      " [0 1 1 ... 1 1 1]\n",
      " [0 1 1 ... 1 1 1]\n",
      " ...\n",
      " [0 1 1 ... 1 1 1]\n",
      " [0 1 1 ... 1 1 1]\n",
      " [0 0 0 ... 0 0 0]]\n"
     ]
    }
   ],
   "source": [
    "df = predicting_txt_to_dataframe('/home/Danny/AI-CUP-2020/datasets/stage4/development_2.txt')\n",
    "output_str = \"article_id\\tstart_position\\tend_position\\tentity_text\\tentity_type\\n\"\n",
    "\n",
    "for article_id, text in zip(df['article_id'], df['text']):\n",
    "    x_list = [word for word in text]\n",
    "    y_list = predict_NER(text)\n",
    "    output_str += output_NER(article_id, text, y_list)"
   ]
  },
  {
   "cell_type": "code",
   "execution_count": 17,
   "metadata": {},
   "outputs": [
    {
     "name": "stdout",
     "output_type": "stream",
     "text": [
      "article_id\tstart_position\tend_position\tentity_text\tentity_type\n",
      "0\t320\t322\t25\tmed_exam\n",
      "0\t326\t328\t25\tmed_exam\n",
      "0\t370\t372\t晚上\ttime\n",
      "0\t615\t619\t11點多\ttime\n",
      "0\t817\t819\t晚上\ttime\n",
      "0\t1168\t1172\t7月21\ttime\n",
      "0\t2200\t2203\t13號\ttime\n",
      "0\t2214\t2217\t15天\ttime\n",
      "0\t2226\t2228\t3天\ttime\n",
      "0\t2319\t2322\t禮拜一\ttime\n",
      "0\t2332\t2335\t禮拜一\ttime\n",
      "0\t2555\t2558\t皇后區\tlocation\n",
      "0\t2624\t2628\t下下禮拜\ttime\n",
      "0\t2735\t2740\t布魯克林區\tlocation\n",
      "0\t2752\t2755\t皇后區\tlocation\n",
      "0\t2807\t2810\t下禮拜\ttime\n",
      "0\t3029\t3031\t昨天\ttime\n",
      "0\t3067\t3070\t下禮拜\ttime\n",
      "0\t3340\t3343\t下禮拜\ttime\n",
      "1\t59\t62\t108\tmed_exam\n",
      "1\t66\t69\t108\tmed_exam\n",
      "1\t457\t460\t五月中\ttime\n",
      "1\t671\t674\t三個月\ttime\n",
      "2\t27\t32\t8月17號\ttime\n",
      "2\t40\t45\t上上個禮拜\ttime\n",
      "2\t53\t56\t110\tmed_exam\n",
      "2\t85\t88\t110\tmed_exam\n",
      "2\t111\t114\t6.0\tmed_exam\n",
      "2\t279\t282\t2年前\ttime\n",
      "2\t563\t566\t光華路\tlocation\n",
      "2\t571\t574\t光華路\tlocation\n",
      "2\t1096\t1098\t半年\ttime\n",
      "2\t1114\t1116\t半年\ttime\n",
      "2\t1139\t1141\t爸爸\tfamily\n",
      "2\t1226\t1231\t一兩個禮拜\ttime\n",
      "3\t183\t186\t7點多\ttime\n",
      "3\t187\t190\t8點多\ttime\n",
      "3\t233\t236\t9點多\ttime\n",
      "3\t250\t255\t6月15號\ttime\n",
      "3\t256\t259\t16號\ttime\n",
      "3\t265\t268\t16號\ttime\n",
      "3\t272\t274\t14\tmed_exam\n",
      "3\t275\t277\t15\tmed_exam\n",
      "3\t278\t281\t16號\ttime\n",
      "3\t302\t306\t1個禮拜\ttime\n",
      "3\t576\t580\t6月4號\ttime\n",
      "3\t582\t584\t前年\ttime\n",
      "3\t592\t594\t前年\ttime\n",
      "3\t609\t611\t一年\ttime\n",
      "3\t904\t908\t一個小時\ttime\n",
      "3\t913\t917\t50分鐘\ttime\n",
      "3\t981\t985\t一個小時\ttime\n",
      "3\t1430\t1438\t洗禮拜1、3、5\ttime\n",
      "3\t1443\t1446\t禮拜2\ttime\n",
      "3\t1456\t1459\t禮拜2\ttime\n",
      "3\t1460\t1463\t4、6\ttime\n",
      "3\t1472\t1475\t禮拜2\ttime\n",
      "3\t1489\t1492\t禮拜1\ttime\n",
      "3\t1842\t1844\t高醫\tlocation\n",
      "3\t1857\t1859\t高醫\tlocation\n",
      "3\t1873\t1877\t4、5月\ttime\n",
      "3\t1882\t1884\t去年\ttime\n",
      "3\t1890\t1894\t108年\ttime\n",
      "3\t1899\t1903\t106年\ttime\n",
      "3\t1910\t1914\t106年\ttime\n",
      "3\t1921\t1925\t4、5月\ttime\n",
      "3\t1929\t1931\t四月\ttime\n",
      "3\t1932\t1934\t五月\ttime\n",
      "3\t1947\t1949\t高醫\tlocation\n",
      "3\t2021\t2025\t4、5月\ttime\n",
      "3\t2033\t2036\t8月份\ttime\n",
      "3\t2041\t2043\t8月\ttime\n",
      "3\t2046\t2048\t8月\ttime\n",
      "3\t2102\t2104\t5年\ttime\n",
      "3\t2105\t2107\t5年\ttime\n",
      "3\t2178\t2183\t八月23日\ttime\n",
      "3\t2195\t2200\t八月23日\ttime\n",
      "3\t2204\t2207\t八月份\ttime\n",
      "3\t2219\t2225\t6、7、8月\ttime\n",
      "3\t2230\t2233\t八月份\ttime\n",
      "3\t2250\t2254\t106年\ttime\n",
      "3\t3077\t3079\t半天\ttime\n",
      "3\t3081\t3087\t1、2個小時\ttime\n",
      "3\t3093\t3097\t1個小時\ttime\n",
      "3\t3101\t3107\t1、2個小時\ttime\n",
      "3\t3108\t3114\t1、2個小時\ttime\n",
      "3\t3128\t3130\t今天\ttime\n",
      "3\t3131\t3133\t明天\ttime\n",
      "4\t7\t12\t6月14號\ttime\n",
      "4\t18\t20\t14\tmed_exam\n",
      "4\t24\t26\t13\tmed_exam\n",
      "4\t28\t30\t14\tmed_exam\n",
      "4\t38\t40\t14\tmed_exam\n",
      "4\t42\t44\t13\tmed_exam\n",
      "4\t45\t47\t14\tmed_exam\n",
      "4\t146\t148\t昨天\ttime\n",
      "4\t187\t190\t林醫師\tname\n",
      "4\t338\t343\t前一個禮拜\ttime\n",
      "4\t354\t358\t上個禮拜\ttime\n",
      "4\t388\t392\t一個禮拜\ttime\n",
      "4\t615\t617\t今天\ttime\n",
      "4\t666\t668\t昨天\ttime\n",
      "4\t684\t690\t60多70多\tmoney\n",
      "4\t726\t728\t晚上\ttime\n",
      "4\t731\t734\t林醫師\tname\n",
      "4\t806\t809\t林醫師\tname\n",
      "4\t815\t818\t林醫師\tname\n",
      "4\t838\t840\t昨天\ttime\n",
      "4\t844\t847\t林醫師\tname\n",
      "4\t872\t877\t6月24號\ttime\n",
      "4\t880\t883\t林醫師\tname\n",
      "4\t1051\t1054\t呂醫師\tname\n",
      "4\t1537\t1540\t許醫師\tname\n",
      "4\t1606\t1609\t林醫師\tname\n",
      "4\t1620\t1623\t林醫師\tname\n",
      "4\t1665\t1668\t林醫師\tname\n",
      "4\t1692\t1695\t張醫師\tname\n",
      "4\t1720\t1723\t巫醫師\tname\n",
      "4\t1724\t1729\t巫大維醫師\tname\n",
      "4\t1811\t1814\t林醫師\tname\n",
      "4\t1912\t1915\t巫醫師\tname\n",
      "4\t1959\t1963\t這三個月\ttime\n",
      "4\t1967\t1970\t三個月\ttime\n",
      "4\t1974\t1977\t三個月\ttime\n",
      "4\t1979\t1982\t三個月\ttime\n",
      "4\t1988\t1991\t三個月\ttime\n",
      "5\t83\t87\t今天早上\ttime\n",
      "5\t861\t866\t1．6公分\tmed_exam\n",
      "5\t968\t970\t2點\ttime\n",
      "5\t1028\t1030\t今天\ttime\n",
      "5\t1047\t1051\t昨天晚上\ttime\n",
      "5\t1052\t1055\t10點\ttime\n",
      "5\t1801\t1804\t這幾天\ttime\n",
      "5\t1876\t1880\t一個禮拜\ttime\n",
      "5\t1886\t1889\t禮拜三\ttime\n",
      "5\t1893\t1896\t禮拜三\ttime\n",
      "5\t1919\t1921\t上午\ttime\n",
      "5\t1922\t1925\t禮拜三\ttime\n",
      "5\t1927\t1929\t上午\ttime\n",
      "5\t2322\t2324\t媽媽\tfamily\n",
      "5\t2326\t2328\t基隆\tlocation\n",
      "5\t2378\t2380\t老媽\tfamily\n",
      "5\t2381\t2383\t基隆\tlocation\n",
      "5\t2423\t2425\t老媽\tfamily\n",
      "5\t2433\t2436\t禮拜三\ttime\n",
      "5\t2437\t2441\t6月6號\ttime\n",
      "6\t28\t32\t上個禮拜\ttime\n",
      "6\t86\t88\t前年\ttime\n",
      "6\t158\t162\t今年5月\ttime\n",
      "6\t376\t380\t7月4號\ttime\n",
      "6\t829\t832\t三四天\ttime\n",
      "6\t894\t899\t一兩個禮拜\ttime\n",
      "6\t994\t997\t418\tmed_exam\n",
      "6\t1003\t1006\t418\tmed_exam\n",
      "6\t1041\t1045\t418喔\tmed_exam\n",
      "6\t1170\t1173\t343\tmed_exam\n",
      "6\t1177\t1180\t343\tmed_exam\n",
      "6\t1227\t1229\t今天\ttime\n",
      "6\t1250\t1253\t吳醫師\tname\n",
      "6\t1550\t1554\t一個禮拜\ttime\n",
      "6\t1625\t1627\t櫻木\tname\n",
      "7\t108\t111\t張醫師\tname\n",
      "7\t240\t243\t132\tmed_exam\n",
      "7\t247\t250\t132\tmed_exam\n",
      "7\t272\t274\t91\tmed_exam\n",
      "7\t278\t280\t91\tmed_exam\n",
      "7\t323\t325\t72\tmed_exam\n",
      "7\t432\t435\t張醫師\tname\n",
      "7\t717\t720\t三百多\tmed_exam\n",
      "7\t889\t892\t三個月\ttime\n",
      "7\t910\t913\t三個月\ttime\n",
      "7\t1038\t1041\t三個月\ttime\n",
      "7\t1045\t1048\t三個月\ttime\n",
      "8\t215\t218\t黃醫師\tname\n",
      "8\t262\t265\t黃醫師\tname\n",
      "8\t533\t536\t黃醫師\tname\n",
      "8\t601\t604\t一個月\ttime\n",
      "8\t685\t689\t兩個禮拜\ttime\n",
      "8\t764\t767\t黃醫師\tname\n",
      "8\t932\t935\t王阿明\tname\n",
      "9\t35\t37\t五月\ttime\n",
      "9\t84\t87\t一個月\ttime\n",
      "9\t314\t316\t9月\ttime\n",
      "9\t417\t421\t73公斤\tmed_exam\n",
      "9\t439\t442\t170\tmed_exam\n",
      "9\t446\t449\t170\tmed_exam\n",
      "10\t71\t73\t74\tmed_exam\n",
      "10\t78\t80\t74\tmed_exam\n",
      "10\t160\t164\t下下禮拜\ttime\n",
      "10\t181\t185\t下禮拜三\ttime\n",
      "10\t221\t224\t一個月\ttime\n",
      "10\t241\t245\t兩個禮拜\ttime\n",
      "10\t262\t266\t四個禮拜\ttime\n",
      "10\t472\t476\t四個禮拜\ttime\n",
      "10\t491\t494\t禮拜三\ttime\n",
      "10\t537\t541\t十月六號\ttime\n",
      "11\t3\t6\t120\tmed_exam\n",
      "11\t7\t9\t71\tmed_exam\n",
      "11\t17\t21\t18.5\tmed_exam\n",
      "11\t26\t29\t上禮拜\ttime\n",
      "11\t123\t125\t北榮\tlocation\n",
      "11\t132\t135\t林醫師\tname\n",
      "11\t143\t146\t林醫師\tname\n",
      "11\t154\t158\t紐約醫院\tlocation\n",
      "11\t174\t178\t紐約醫院\tlocation\n",
      "11\t199\t202\t10年\ttime\n",
      "11\t210\t213\t林醫師\tname\n",
      "11\t313\t316\t林醫師\tname\n",
      "11\t362\t364\t北榮\tlocation\n",
      "11\t368\t371\t巫醫師\tname\n",
      "11\t376\t379\t王醫師\tname\n",
      "11\t388\t390\t哥哥\tfamily\n",
      "11\t392\t394\t大哥\tfamily\n",
      "11\t417\t419\t北榮\tlocation\n",
      "11\t455\t458\t林醫師\tname\n",
      "11\t484\t486\t昨天\ttime\n",
      "11\t513\t516\t林醫師\tname\n",
      "11\t592\t594\t兩年\ttime\n",
      "11\t676\t680\t紐約醫院\tlocation\n",
      "11\t729\t732\t三個月\ttime\n",
      "11\t763\t766\t四個月\ttime\n",
      "11\t930\t933\t林醫師\tname\n",
      "11\t1097\t1099\t6月\ttime\n",
      "11\t1153\t1156\t兩個月\ttime\n",
      "11\t1179\t1182\t兩個月\ttime\n",
      "11\t1184\t1186\t前天\ttime\n",
      "11\t1196\t1198\t前天\ttime\n",
      "11\t1233\t1236\t兩個月\ttime\n",
      "11\t1238\t1241\t兩個月\ttime\n",
      "11\t1273\t1276\t兩個月\ttime\n",
      "11\t1353\t1355\t紐約\tlocation\n",
      "11\t1358\t1362\t紐約醫院\tlocation\n",
      "11\t1416\t1419\t兩個月\ttime\n",
      "11\t1470\t1472\t紐約\tlocation\n",
      "11\t1647\t1649\t兩年\ttime\n",
      "11\t1653\t1655\t後年\ttime\n",
      "11\t1662\t1664\t後年\ttime\n",
      "11\t1784\t1786\t北榮\tlocation\n",
      "11\t1806\t1808\t北榮\tlocation\n",
      "11\t1869\t1872\t林醫師\tname\n",
      "11\t1888\t1890\t去年\ttime\n",
      "11\t2014\t2016\t今年\ttime\n",
      "11\t2029\t2032\t林醫師\tname\n",
      "11\t2137\t2140\t4個月\ttime\n",
      "11\t2144\t2147\t4個月\ttime\n",
      "11\t2148\t2154\t10月17號\ttime\n",
      "11\t2245\t2247\t荷蘭\tlocation\n",
      "11\t2303\t2305\t一年\ttime\n",
      "11\t2334\t2336\t一年\ttime\n",
      "11\t2347\t2350\t巫醫師\tname\n",
      "12\t214\t220\t3點多4點多\ttime\n",
      "12\t342\t345\t129\tmed_exam\n",
      "12\t349\t352\t129\tmed_exam\n",
      "12\t353\t355\t81\tmed_exam\n",
      "12\t360\t366\t129、81\tmed_exam\n",
      "12\t407\t412\t7月26號\ttime\n",
      "12\t434\t436\t92\tmed_exam\n",
      "12\t678\t681\t高麗精\tlocation\n",
      "12\t855\t857\t85\tmed_exam\n",
      "12\t885\t887\t85\tmed_exam\n",
      "13\t48\t52\t9月2號\ttime\n",
      "13\t60\t63\t9．7\tmed_exam\n",
      "13\t87\t89\t56\tmed_exam\n",
      "13\t126\t128\t56\tmed_exam\n",
      "13\t158\t161\t9．6\tmed_exam\n",
      "13\t166\t169\t9．8\tmed_exam\n",
      "13\t188\t191\t9．6\tmed_exam\n",
      "13\t394\t398\t2019\ttime\n",
      "13\t463\t465\t3月\ttime\n",
      "13\t481\t484\t7個月\ttime\n",
      "13\t488\t491\t10月\ttime\n",
      "13\t492\t496\t10月底\ttime\n",
      "14\t27\t30\t753\tmed_exam\n",
      "14\t45\t47\t37\tmed_exam\n",
      "14\t121\t125\t一、兩天\ttime\n",
      "14\t137\t139\t三天\ttime\n",
      "14\t242\t246\t38.7\tmed_exam\n",
      "14\t250\t253\t387\tmed_exam\n",
      "14\t371\t374\t68點\ttime\n",
      "14\t379\t380\t7\tmed_exam\n",
      "14\t384\t388\t68.7\tmed_exam\n",
      "14\t459\t462\t2個月\ttime\n",
      "14\t476\t479\t2個月\ttime\n",
      "14\t655\t657\t8月\ttime\n",
      "14\t662\t664\t4月\ttime\n",
      "14\t671\t673\t4月\ttime\n",
      "14\t701\t703\t8月\ttime\n",
      "14\t1092\t1096\t今、今年\ttime\n",
      "14\t1134\t1140\t前、前兩個月\ttime\n",
      "14\t1168\t1170\t22\tmed_exam\n",
      "14\t1173\t1178\t5月21喔\ttime\n",
      "14\t1179\t1184\t5月21號\ttime\n",
      "14\t1385\t1390\t9月20號\ttime\n",
      "14\t1396\t1398\t9月\ttime\n",
      "15\t60\t62\t今天\ttime\n",
      "15\t92\t95\t2.4\tmed_exam\n",
      "15\t99\t102\t2.4\tmed_exam\n",
      "15\t177\t179\t58\tmed_exam\n",
      "15\t182\t185\t2.4\tmed_exam\n",
      "15\t247\t249\t兒子\tfamily\n",
      "15\t632\t634\t前鎮\tlocation\n",
      "15\t1228\t1231\t五十幾\tmed_exam\n",
      "15\t1277\t1280\t一個月\ttime\n",
      "15\t1288\t1291\t一個月\ttime\n",
      "15\t1437\t1439\t10\tmed_exam\n",
      "15\t1452\t1456\t0.55\tmed_exam\n",
      "16\t203\t207\t三個禮拜\ttime\n",
      "16\t218\t222\t六個禮拜\ttime\n",
      "16\t235\t239\t六個禮拜\ttime\n",
      "16\t257\t261\t六個禮拜\ttime\n",
      "16\t324\t328\t5.02\tmed_exam\n",
      "16\t337\t341\t7.64\tmed_exam\n",
      "16\t353\t357\t0.62\tmed_exam\n",
      "16\t367\t371\t7.83\tmed_exam\n",
      "16\t383\t386\t8.5\tmed_exam\n",
      "16\t391\t393\t8.\tmed_exam\n",
      "16\t397\t401\t7.83\tmed_exam\n",
      "16\t402\t406\t7.02\tmed_exam\n",
      "16\t424\t427\t三個月\ttime\n",
      "16\t447\t449\t兩年\ttime\n",
      "16\t678\t681\t鐘醫師\tname\n",
      "16\t715\t719\t林大醫師\tname\n",
      "17\t1567\t1569\t明天\ttime\n",
      "17\t1578\t1580\t明天\ttime\n",
      "17\t1584\t1587\t明後天\ttime\n",
      "17\t1593\t1595\t明天\ttime\n",
      "17\t1596\t1599\t禮拜一\ttime\n",
      "17\t1604\t1606\t明天\ttime\n",
      "17\t1611\t1616\t今天禮拜天\ttime\n",
      "17\t1621\t1626\t今天禮拜天\ttime\n",
      "17\t1630\t1633\t禮拜一\ttime\n",
      "17\t1637\t1640\t禮拜一\ttime\n",
      "17\t1656\t1659\t禮拜二\ttime\n",
      "17\t1663\t1666\t禮拜二\ttime\n",
      "17\t1679\t1682\t禮拜二\ttime\n",
      "17\t1692\t1694\t小花\tname\n",
      "17\t1852\t1855\t颱風天\ttime\n",
      "17\t2034\t2036\t五月\ttime\n",
      "17\t2038\t2041\t五月份\ttime\n",
      "17\t2062\t2065\t六月份\ttime\n",
      "17\t2167\t2169\t台中\tlocation\n",
      "17\t2174\t2176\t四天\ttime\n",
      "17\t2179\t2181\t七天\ttime\n",
      "17\t2185\t2187\t台中\tlocation\n",
      "17\t2225\t2227\t四天\ttime\n",
      "17\t2344\t2346\t五月\ttime\n",
      "17\t2467\t2469\t兩天\ttime\n",
      "17\t2506\t2509\t前三天\ttime\n",
      "18\t21\t24\t五月中\ttime\n",
      "18\t237\t240\t921\tmed_exam\n",
      "18\t265\t268\t500\tmoney\n",
      "18\t429\t432\t三個月\ttime\n",
      "19\t417\t419\t今天\ttime\n",
      "19\t427\t429\t今天\ttime\n",
      "19\t821\t823\t叔叔\tfamily\n",
      "19\t832\t834\t叔叔\tfamily\n",
      "19\t932\t935\t0.1\tmed_exam\n",
      "19\t945\t948\t0.2\tmed_exam\n",
      "19\t967\t970\t0.8\tmed_exam\n",
      "19\t971\t974\t0.7\tmed_exam\n",
      "19\t1906\t1909\t150\tmed_exam\n",
      "19\t2498\t2501\t下禮拜\ttime\n",
      "19\t3013\t3015\t陽明\tlocation\n",
      "19\t3082\t3084\t陽明\tlocation\n",
      "19\t3093\t3095\t陽明\tname\n",
      "19\t3178\t3182\t一個禮拜\ttime\n",
      "19\t3837\t3839\t陽明\tlocation\n",
      "19\t3869\t3871\t陽明\tlocation\n",
      "19\t4017\t4019\t長榮\tlocation\n",
      "19\t4101\t4104\t十四天\ttime\n",
      "19\t4142\t4145\t六十歲\ttime\n",
      "19\t4543\t4546\t下禮拜\ttime\n",
      "19\t5007\t5009\t昨天\ttime\n",
      "19\t5100\t5102\t今天\ttime\n",
      "19\t5114\t5116\t今天\ttime\n",
      "19\t5298\t5300\t叔叔\tfamily\n",
      "19\t5625\t5628\t下禮拜\ttime\n",
      "19\t5949\t5952\t下禮拜\ttime\n",
      "19\t5967\t5969\t老爸\tfamily\n",
      "19\t6021\t6024\t下禮拜\ttime\n",
      "20\t266\t269\t這個月\ttime\n",
      "20\t315\t318\t這個月\ttime\n",
      "20\t765\t769\t臺東花蓮\tlocation\n",
      "20\t893\t897\t這一兩天\ttime\n",
      "20\t1010\t1014\t一兩年前\ttime\n",
      "20\t2110\t2114\t一個禮拜\ttime\n",
      "20\t4646\t4650\t8月2號\ttime\n",
      "20\t4659\t4664\t8月20號\ttime\n",
      "21\t512\t516\t交友軟體\torganization\n",
      "21\t1093\t1096\t一個月\ttime\n",
      "21\t1107\t1110\t一個月\ttime\n",
      "21\t1234\t1236\t六九\ttime\n",
      "21\t1274\t1278\t一個禮拜\ttime\n",
      "21\t1337\t1341\t一個禮拜\ttime\n",
      "21\t2553\t2555\t彰化\tlocation\n",
      "21\t2944\t2946\t兩週\ttime\n",
      "21\t3013\t3015\t超商\tlocation\n",
      "22\t6\t9\t王醫師\tname\n",
      "22\t112\t115\t王醫師\tname\n",
      "22\t523\t525\t陽明\tlocation\n",
      "22\t535\t537\t基隆\tlocation\n",
      "22\t538\t540\t陽明\tname\n",
      "22\t740\t742\t基隆\tlocation\n",
      "22\t775\t777\t北醫\tlocation\n",
      "22\t828\t830\t北醫\tlocation\n",
      "22\t831\t833\t高醫\tlocation\n",
      "22\t836\t838\t北醫\tlocation\n",
      "22\t845\t847\t北醫\tlocation\n",
      "22\t981\t984\t四個月\ttime\n",
      "22\t989\t992\t四個月\ttime\n",
      "22\t2104\t2107\t三個月\ttime\n",
      "22\t2109\t2112\t六個月\ttime\n",
      "22\t2736\t2739\t王醫師\tname\n",
      "22\t3302\t3305\t每個月\ttime\n",
      "22\t3339\t3342\t每個月\ttime\n",
      "22\t3351\t3354\t三個月\ttime\n",
      "22\t3361\t3364\t三六九\tmed_exam\n",
      "22\t3484\t3488\t一萬多塊\tmoney\n",
      "22\t3503\t3506\t414\tmed_exam\n",
      "22\t3576\t3579\t三個月\ttime\n",
      "22\t3604\t3607\t王醫師\tname\n",
      "22\t3612\t3615\t禮拜一\ttime\n",
      "22\t3616\t3618\t早上\ttime\n",
      "22\t3619\t3622\t禮拜三\ttime\n",
      "22\t3623\t3625\t下午\ttime\n",
      "22\t3637\t3640\t禮拜一\ttime\n",
      "22\t3641\t3644\t禮拜三\ttime\n",
      "22\t3702\t3705\t王醫師\tname\n",
      "23\t6\t9\t王醫師\tname\n",
      "23\t57\t60\t王醫師\tname\n",
      "23\t249\t252\t211\tmed_exam\n",
      "23\t576\t579\t王醫師\tname\n",
      "23\t636\t639\t王醫師\tname\n",
      "23\t741\t743\t今天\ttime\n",
      "23\t828\t832\t交友軟體\torganization\n",
      "23\t868\t872\t每個禮拜\ttime\n",
      "23\t1002\t1006\t一個禮拜\ttime\n",
      "23\t1018\t1022\t一個禮拜\ttime\n",
      "23\t1163\t1167\t一個禮拜\ttime\n",
      "23\t1210\t1213\t一個月\ttime\n",
      "23\t1756\t1759\t王醫師\tname\n",
      "24\t170\t172\t兩天\ttime\n",
      "24\t259\t263\t一個禮拜\ttime\n",
      "24\t716\t718\t台中\tlocation\n",
      "25\t147\t158\t12345678910\tmoney\n",
      "25\t268\t271\t一個月\ttime\n",
      "25\t294\t297\t這個月\ttime\n",
      "25\t1130\t1133\t四五天\ttime\n",
      "26\t15\t17\t5月\ttime\n",
      "26\t234\t236\t周末\ttime\n",
      "26\t243\t245\t平日\ttime\n",
      "26\t247\t249\t今天\ttime\n",
      "26\t281\t284\t一個月\ttime\n",
      "26\t302\t305\t一個月\ttime\n",
      "26\t923\t927\t交友軟體\torganization\n",
      "26\t962\t964\t今天\ttime\n",
      "26\t974\t976\t今天\ttime\n",
      "26\t990\t994\t交友軟體\torganization\n",
      "26\t1437\t1441\t交友軟體\torganization\n",
      "26\t1447\t1451\t交友軟體\torganization\n",
      "26\t1694\t1696\t小梅\tname\n",
      "26\t2569\t2572\t林小姐\tname\n",
      "27\t11\t13\t台中\tlocation\n",
      "27\t97\t99\t台中\tlocation\n",
      "27\t112\t114\t台中\tlocation\n",
      "27\t263\t265\t台中\tlocation\n",
      "27\t326\t330\t這一個月\ttime\n",
      "27\t355\t358\t上個月\ttime\n",
      "27\t398\t401\t十三天\ttime\n",
      "27\t451\t454\t十三天\ttime\n",
      "27\t517\t520\t十三天\ttime\n",
      "27\t593\t597\t這一個月\ttime\n",
      "28\t30\t32\t一年\ttime\n",
      "28\t64\t66\t一年\ttime\n",
      "28\t2339\t2341\t今天\ttime\n",
      "28\t2553\t2555\t四天\ttime\n",
      "29\t33\t35\t桃園\tlocation\n",
      "29\t41\t43\t桃園\tlocation\n",
      "29\t51\t54\t小蘭姊\tname\n",
      "29\t215\t217\t一年\ttime\n",
      "29\t224\t226\t一年\ttime\n",
      "29\t229\t232\t這一年\ttime\n",
      "29\t379\t383\t每三個月\ttime\n",
      "29\t471\t473\t69\tmed_exam\n",
      "29\t1365\t1368\t552\tmoney\n",
      "29\t1376\t1383\t16000多塊\tmoney\n",
      "29\t1386\t1391\t17000\tmoney\n",
      "29\t1758\t1760\t北區\tlocation\n",
      "29\t1763\t1766\t中西區\tlocation\n",
      "29\t1838\t1841\t369\tmed_exam\n",
      "29\t1855\t1858\t每個月\ttime\n",
      "29\t1924\t1928\t前3個月\ttime\n",
      "29\t1939\t1941\t7月\ttime\n",
      "29\t1942\t1944\t8月\ttime\n",
      "29\t1945\t1947\t9月\ttime\n",
      "29\t2026\t2030\t7月6號\ttime\n",
      "29\t2054\t2056\t8月\ttime\n",
      "29\t2059\t2062\t一個月\ttime\n",
      "29\t2153\t2155\t9月\ttime\n",
      "30\t153\t155\t一年\ttime\n",
      "30\t159\t161\t一年\ttime\n",
      "30\t189\t191\t8年\ttime\n",
      "30\t197\t199\t8年\ttime\n",
      "30\t219\t221\t8年\ttime\n",
      "30\t250\t252\t嘉義\tlocation\n",
      "30\t256\t260\t兩到三天\ttime\n",
      "30\t288\t292\t一個禮拜\ttime\n",
      "30\t444\t448\t今天禮拜\ttime\n",
      "30\t449\t452\t禮拜二\ttime\n",
      "30\t469\t472\t禮拜日\ttime\n",
      "30\t510\t513\t禮拜日\ttime\n",
      "30\t525\t528\t禮拜日\ttime\n",
      "30\t1158\t1160\t一年\ttime\n",
      "30\t1239\t1242\t馬拉加\tlocation\n",
      "30\t1256\t1259\t馬拉加\tlocation\n",
      "30\t1260\t1262\t美國\tlocation\n",
      "30\t1538\t1541\t30億\tmoney\n",
      "30\t1591\t1593\t今天\ttime\n",
      "30\t1594\t1597\t6個月\ttime\n",
      "30\t1600\t1602\t今天\ttime\n",
      "30\t1624\t1626\t今天\ttime\n",
      "30\t1629\t1631\t半年\ttime\n",
      "31\t203\t209\t晚上11點整\ttime\n",
      "31\t278\t281\t4個月\ttime\n",
      "31\t1812\t1814\t今天\ttime\n",
      "31\t1862\t1865\t9月中\ttime\n",
      "31\t1874\t1878\t12月中\ttime\n",
      "31\t1890\t1894\t12月中\ttime\n",
      "31\t1917\t1919\t今天\ttime\n",
      "31\t1924\t1928\t8月3號\ttime\n",
      "31\t2012\t2015\t三個月\ttime\n",
      "32\t495\t498\t一個月\ttime\n",
      "32\t512\t515\t一個月\ttime\n",
      "32\t946\t948\t兩天\ttime\n",
      "32\t1208\t1210\t小美\tname\n",
      "32\t1251\t1255\t每個禮拜\ttime\n",
      "32\t1312\t1315\t六個月\ttime\n",
      "32\t1381\t1384\t一個月\ttime\n",
      "32\t1444\t1447\t五千塊\tmoney\n",
      "32\t1458\t1463\t四千到五千\tmoney\n",
      "32\t1542\t1544\t泰國\tlocation\n",
      "32\t1950\t1953\t五百多\tmed_exam\n",
      "32\t1967\t1969\t嘉義\tlocation\n",
      "32\t2292\t2296\t兩到四週\ttime\n",
      "32\t2312\t2315\t三個月\ttime\n",
      "32\t2408\t2411\t三個月\ttime\n",
      "32\t2596\t2598\t一年\ttime\n",
      "32\t2730\t2733\t一年後\ttime\n",
      "33\t44\t47\t禮拜二\ttime\n",
      "33\t48\t50\t早上\ttime\n",
      "33\t51\t54\t禮拜五\ttime\n",
      "33\t55\t57\t下午\ttime\n",
      "33\t812\t814\t今天\ttime\n",
      "33\t880\t885\t10月7號\ttime\n",
      "33\t899\t902\t下禮拜\ttime\n",
      "33\t916\t919\t二早上\ttime\n",
      "33\t920\t923\t五下午\ttime\n",
      "34\t88\t93\t萬華的北醫\tlocation\n",
      "34\t98\t103\t萬華的北醫\tlocation\n",
      "34\t436\t440\t四五年前\ttime\n",
      "34\t724\t727\t半年前\ttime\n",
      "34\t732\t735\t半年前\ttime\n",
      "34\t772\t775\t五個月\ttime\n",
      "34\t779\t782\t五個月\ttime\n",
      "34\t1805\t1809\t一個禮拜\ttime\n",
      "34\t2479\t2482\t50歲\ttime\n",
      "34\t2587\t2591\t414塊\tmoney\n",
      "34\t2804\t2810\t1800多塊\tmoney\n",
      "34\t2830\t2832\t半年\ttime\n",
      "34\t2859\t2863\t800多\tmoney\n",
      "34\t2874\t2877\t三個月\ttime\n",
      "34\t2916\t2919\t400\tmoney\n",
      "34\t2946\t2951\t1000塊\tmoney\n",
      "34\t4220\t4223\t下禮拜\ttime\n",
      "34\t4248\t4251\t禮拜二\ttime\n",
      "34\t4292\t4295\t禮拜三\ttime\n",
      "34\t4296\t4298\t下午\ttime\n",
      "34\t4299\t4302\t禮拜五\ttime\n",
      "34\t4303\t4305\t早上\ttime\n",
      "34\t4414\t4417\t禮拜三\ttime\n",
      "34\t4418\t4420\t下午\ttime\n",
      "34\t4421\t4424\t禮拜五\ttime\n",
      "34\t4425\t4427\t早上\ttime\n",
      "34\t4433\t4436\t禮拜五\ttime\n",
      "34\t4437\t4439\t早上\ttime\n",
      "34\t4450\t4454\t下禮拜五\ttime\n",
      "34\t4459\t4462\t禮拜五\ttime\n",
      "34\t4482\t4486\t下禮拜五\ttime\n",
      "34\t4495\t4498\t禮拜五\ttime\n",
      "34\t4499\t4501\t早上\ttime\n",
      "34\t4502\t4507\t7月21號\ttime\n",
      "34\t4537\t4540\t下禮拜\ttime\n",
      "34\t4558\t4560\t基隆\tlocation\n",
      "34\t4572\t4574\t萬華\tlocation\n",
      "34\t4579\t4581\t萬華\tlocation\n",
      "34\t4582\t4584\t萬華\tlocation\n",
      "34\t4585\t4587\t北醫\tlocation\n",
      "34\t4593\t4595\t萬華\tlocation\n",
      "34\t4596\t4598\t北醫\tlocation\n",
      "35\t1674\t1678\t1個禮拜\ttime\n",
      "35\t2132\t2139\t禮拜一隔天早上\ttime\n",
      "35\t2370\t2372\t今天\ttime\n",
      "35\t3001\t3005\t一個禮拜\ttime\n",
      "35\t3397\t3399\t半年\ttime\n",
      "35\t3480\t3482\t半年\ttime\n",
      "35\t4003\t4005\t今天\ttime\n",
      "35\t4128\t4133\t2010年\ttime\n",
      "35\t4228\t4233\t12000\tmoney\n",
      "35\t4309\t4312\t一萬二\tmoney\n",
      "35\t4313\t4316\t一萬三\tmoney\n",
      "35\t4554\t4556\t今天\ttime\n",
      "35\t4780\t4784\t500塊\tmoney\n",
      "35\t4785\t4789\t600塊\tmoney\n",
      "35\t4831\t4842\t1000到1500台幣\tmoney\n",
      "35\t4854\t4858\t500塊\tmoney\n",
      "35\t4859\t4863\t600塊\tmoney\n",
      "35\t5071\t5076\t下下個禮拜\ttime\n",
      "36\t17\t20\t六點半\ttime\n",
      "36\t28\t31\t六點半\ttime\n",
      "36\t78\t82\tLine\tcontact\n",
      "36\t116\t119\t這個月\ttime\n",
      "36\t291\t293\t明天\ttime\n",
      "36\t579\t581\t今天\ttime\n",
      "36\t586\t590\t第七個月\ttime\n",
      "36\t601\t604\t下半年\ttime\n",
      "36\t660\t665\t四月二十五\ttime\n",
      "36\t678\t683\t四月二十五\ttime\n",
      "36\t715\t720\t四月二十五\ttime\n",
      "37\t4\t7\t這個月\ttime\n",
      "37\t222\t224\t早上\ttime\n",
      "37\t229\t231\t早上\ttime\n",
      "37\t845\t847\t今天\ttime\n",
      "37\t848\t853\t第十一個月\ttime\n",
      "37\t981\t986\t400多塊\tmoney\n",
      "37\t1040\t1043\t一萬三\tmoney\n",
      "37\t1069\t1072\t4千多\tmoney\n",
      "37\t1073\t1075\t5千\tmoney\n",
      "37\t1241\t1243\t澳洲\tlocation\n",
      "37\t1244\t1246\t英國\tlocation\n",
      "37\t1326\t1330\t1500\tmed_exam\n",
      "38\t70\t72\t高雄\tlocation\n",
      "38\t84\t86\t高雄\tlocation\n",
      "38\t92\t94\t高雄\tlocation\n",
      "38\t115\t117\t七天\ttime\n",
      "38\t141\t143\t八號\ttime\n",
      "38\t160\t164\t兩個禮拜\ttime\n",
      "38\t177\t179\t高雄\tlocation\n",
      "38\t582\t584\t高雄\tlocation\n",
      "38\t641\t644\t下個月\ttime\n",
      "38\t648\t651\t下個月\ttime\n",
      "38\t662\t664\t今天\ttime\n",
      "39\t141\t144\t三個月\ttime\n",
      "39\t823\t825\t一年\ttime\n",
      "39\t834\t836\t一年\ttime\n",
      "39\t2008\t2011\t六個月\ttime\n",
      "40\t221\t224\t江醫師\tname\n",
      "40\t290\t293\t江醫師\tname\n",
      "40\t377\t379\t十月\ttime\n",
      "40\t399\t402\t廖醫師\tname\n",
      "40\t488\t491\t替代役\tprofession\n",
      "40\t561\t564\t半年前\ttime\n",
      "40\t662\t664\t半年\ttime\n",
      "40\t846\t848\t今天\ttime\n",
      "40\t975\t977\t今天\ttime\n",
      "41\t93\t96\t張醫師\tname\n",
      "41\t101\t104\t張醫師\tname\n",
      "41\t109\t112\t張醫師\tname\n",
      "41\t766\t769\t15天\ttime\n",
      "41\t794\t797\t15天\ttime\n",
      "41\t809\t812\t15天\ttime\n",
      "41\t885\t888\t張醫師\tname\n",
      "41\t982\t985\t張醫師\tname\n",
      "41\t1014\t1017\t張醫師\tname\n",
      "41\t1019\t1022\t勝利路\tlocation\n",
      "41\t1027\t1030\t勝利路\tlocation\n",
      "41\t1041\t1045\t勝利國小\tlocation\n",
      "41\t1061\t1063\t老媽\tfamily\n",
      "41\t1066\t1068\t老媽\tfamily\n",
      "41\t1071\t1074\t民生路\tlocation\n",
      "41\t1078\t1081\t府前路\tlocation\n",
      "41\t1090\t1093\t張小發\tname\n",
      "41\t1101\t1104\t張小發\tname\n",
      "41\t1111\t1114\t張小發\tname\n",
      "41\t1115\t1118\t張小男\tname\n",
      "41\t1119\t1121\t弟弟\tfamily\n",
      "41\t1144\t1146\t老媽\tfamily\n",
      "41\t1172\t1174\t孫子\tfamily\n",
      "41\t1216\t1218\t孫子\tfamily\n",
      "41\t1221\t1223\t孫女\tfamily\n",
      "41\t1249\t1252\t張大明\tname\n",
      "41\t1278\t1282\t一個禮拜\ttime\n",
      "41\t1358\t1361\t南一中\tlocation\n",
      "41\t1374\t1377\t張醫師\tname\n",
      "41\t1475\t1477\t姊姊\tfamily\n",
      "42\t534\t536\t12\tmed_exam\n",
      "42\t540\t542\t12\tmed_exam\n",
      "42\t679\t684\t黃明明醫師\tname\n",
      "42\t688\t693\t黃明明醫師\tname\n",
      "42\t1136\t1138\t德國\tlocation\n",
      "42\t1433\t1436\t李醫師\tname\n",
      "42\t2021\t2024\t119\tmed_exam\n",
      "42\t2132\t2135\t江醫師\tname\n",
      "42\t2391\t2394\t119\tmed_exam\n",
      "42\t2976\t2979\t江醫師\tname\n",
      "43\t209\t211\t半年\ttime\n",
      "43\t220\t222\t半年\ttime\n",
      "43\t264\t269\t7月12號\ttime\n",
      "43\t287\t291\t兩個禮拜\ttime\n",
      "43\t449\t451\t56\tmed_exam\n",
      "43\t455\t457\t56\tmed_exam\n",
      "43\t483\t488\t7月12號\ttime\n",
      "43\t678\t682\t4個禮拜\ttime\n",
      "43\t762\t765\t禮拜五\ttime\n",
      "43\t766\t768\t早上\ttime\n",
      "43\t786\t790\t那禮拜五\ttime\n",
      "43\t791\t793\t早上\ttime\n",
      "43\t828\t831\t810\tmoney\n",
      "43\t832\t837\t8月10號\ttime\n",
      "43\t862\t866\t兩個禮拜\ttime\n",
      "43\t971\t975\t3個禮拜\ttime\n",
      "43\t1085\t1087\t7天\ttime\n",
      "43\t1129\t1131\t7天\ttime\n",
      "43\t1354\t1363\t3000到8000\tmoney\n",
      "43\t1550\t1553\t3個月\ttime\n",
      "43\t1560\t1563\t三個月\ttime\n",
      "43\t1637\t1640\t6個月\ttime\n",
      "44\t4\t8\t這個禮拜\ttime\n",
      "44\t17\t21\t這個禮拜\ttime\n",
      "44\t708\t714\t整整兩個禮拜\ttime\n",
      "44\t1662\t1664\t日本\tlocation\n",
      "44\t1787\t1790\t下禮拜\ttime\n",
      "45\t5\t7\t今天\ttime\n",
      "45\t35\t37\t今天\ttime\n",
      "45\t93\t97\t7月12\ttime\n",
      "45\t128\t130\t今天\ttime\n",
      "45\t453\t455\t小俊\tname\n",
      "45\t477\t480\t兩個月\ttime\n",
      "45\t485\t488\t兩個月\ttime\n",
      "45\t500\t503\t一個月\ttime\n",
      "45\t564\t567\t3個月\ttime\n",
      "45\t574\t576\t8月\ttime\n",
      "45\t585\t588\t11月\ttime\n",
      "45\t616\t620\t8月18\ttime\n",
      "45\t627\t630\t9月初\ttime\n",
      "45\t634\t637\t8月初\ttime\n",
      "45\t640\t643\t9月底\ttime\n",
      "45\t646\t649\t兩個月\ttime\n",
      "45\t665\t668\t兩個月\ttime\n",
      "45\t678\t681\t兩個月\ttime\n",
      "45\t704\t710\t11月30號\ttime\n",
      "45\t920\t926\t11月30號\ttime\n",
      "45\t1153\t1156\t兩個月\ttime\n",
      "45\t1162\t1167\t1555塊\tmoney\n",
      "45\t1254\t1257\t兩個月\ttime\n",
      "46\t216\t219\t三天多\ttime\n",
      "46\t233\t237\t7月21\ttime\n",
      "46\t238\t242\t7月23\ttime\n",
      "46\t246\t250\t7月21\ttime\n",
      "46\t251\t255\t7月23\ttime\n",
      "46\t259\t262\t一二三\tmed_exam\n",
      "46\t267\t270\t一二三\tmed_exam\n",
      "46\t274\t279\t上個禮拜三\ttime\n",
      "46\t288\t291\t禮拜四\ttime\n",
      "46\t298\t301\t禮拜一\ttime\n",
      "46\t341\t346\t7月23號\ttime\n",
      "46\t405\t409\t37.5\tmed_exam\n",
      "46\t456\t459\t36幾\tmed_exam\n",
      "46\t485\t489\t37.2\tmed_exam\n",
      "46\t496\t500\t37.5\tmed_exam\n",
      "46\t685\t689\t0.5度\tmed_exam\n",
      "46\t707\t711\t36.5\tmed_exam\n",
      "46\t734\t737\t37度\tmed_exam\n",
      "46\t749\t752\t37度\tmed_exam\n",
      "46\t877\t879\t37\tmed_exam\n",
      "46\t972\t974\t今天\ttime\n",
      "46\t986\t989\t188\tmed_exam\n",
      "46\t993\t995\t75\tmed_exam\n",
      "46\t1032\t1035\t188\tmed_exam\n",
      "46\t1037\t1039\t75\tmed_exam\n",
      "46\t1054\t1056\t13\tmed_exam\n",
      "46\t1313\t1316\t七八十\tmed_exam\n",
      "46\t1349\t1352\t189\tmed_exam\n",
      "46\t1356\t1359\t201\tmed_exam\n",
      "46\t1424\t1428\t4.1%\tmed_exam\n",
      "46\t1456\t1458\t13\tmed_exam\n",
      "46\t1460\t1464\t4.1%\tmed_exam\n",
      "46\t1688\t1690\t21\ttime\n",
      "46\t1691\t1693\t22\ttime\n",
      "46\t1731\t1733\t今天\ttime\n",
      "46\t1743\t1745\t今天\ttime\n",
      "46\t1748\t1752\t36.2\tmed_exam\n",
      "46\t1771\t1775\t36.2\tmed_exam\n",
      "46\t1783\t1787\t36.8\tmed_exam\n",
      "46\t1810\t1814\t37.5\tmed_exam\n",
      "46\t1827\t1831\t37.5\tmed_exam\n",
      "46\t1881\t1885\t37.5\tmed_exam\n",
      "46\t1925\t1928\t38度\tmed_exam\n",
      "46\t2264\t2266\t這週\ttime\n",
      "46\t2484\t2489\t兩三個禮拜\ttime\n",
      "46\t2897\t2899\t今天\ttime\n",
      "46\t3002\t3005\t134\tmed_exam\n",
      "46\t3009\t3012\t134\tmed_exam\n",
      "46\t3043\t3045\t10\tmed_exam\n",
      "46\t3637\t3639\t今天\ttime\n",
      "46\t3815\t3818\t28天\ttime\n",
      "46\t3819\t3822\t28天\ttime\n",
      "46\t3857\t3861\t兩個禮拜\ttime\n",
      "46\t3870\t3874\t兩個禮拜\ttime\n",
      "46\t3889\t3893\t兩個禮拜\ttime\n",
      "46\t3922\t3925\t上禮拜\ttime\n",
      "46\t4003\t4007\t兩個禮拜\ttime\n",
      "46\t4029\t4033\t下下禮拜\ttime\n",
      "46\t4277\t4279\t四週\ttime\n",
      "46\t4366\t4368\t四週\ttime\n",
      "46\t4382\t4384\t兩週\ttime\n",
      "46\t4389\t4391\t四週\ttime\n",
      "46\t4929\t4932\t三個月\ttime\n",
      "47\t189\t192\t15天\ttime\n",
      "47\t203\t205\t今天\ttime\n",
      "47\t206\t208\t12\tmed_exam\n",
      "47\t212\t214\t今天\ttime\n",
      "47\t215\t217\t12\tmed_exam\n",
      "47\t303\t306\t林醫師\tname\n",
      "47\t372\t374\t今天\ttime\n",
      "47\t669\t671\t今天\ttime\n",
      "47\t721\t724\t120\tmoney\n",
      "47\t741\t744\t515\tmed_exam\n",
      "47\t745\t748\t433\tmed_exam\n",
      "47\t749\t752\t124\tmed_exam\n",
      "47\t818\t821\t4.3\tmed_exam\n",
      "47\t841\t845\t7500\tmoney\n",
      "47\t854\t858\t53萬9\tmed_exam\n",
      "47\t865\t868\t5萬2\tmed_exam\n",
      "47\t890\t892\t今天\ttime\n",
      "47\t915\t917\t5天\ttime\n",
      "47\t961\t965\t下個禮拜\ttime\n",
      "47\t991\t993\t7天\ttime\n",
      "47\t1188\t1191\t阿里山\tlocation\n",
      "47\t1219\t1222\t阿里山\tlocation\n",
      "47\t1257\t1260\t阿里山\tlocation\n",
      "47\t1553\t1557\t下下禮拜\ttime\n",
      "47\t1781\t1785\t下下禮拜\ttime\n",
      "47\t1788\t1790\t今天\ttime\n",
      "47\t2130\t2132\t今天\ttime\n",
      "47\t2184\t2186\t今天\ttime\n",
      "47\t2271\t2274\t789\tmed_exam\n",
      "47\t2280\t2282\t小萱\tname\n",
      "48\t6\t10\t5889\tmed_exam\n",
      "48\t13\t15\t小明\tname\n",
      "48\t331\t334\t189\tmed_exam\n",
      "48\t335\t338\t189\tmed_exam\n",
      "48\t360\t363\t189\tmed_exam\n",
      "48\t401\t404\t166\tmed_exam\n",
      "48\t407\t410\t189\tmed_exam\n",
      "48\t421\t424\t166\tmed_exam\n",
      "48\t428\t431\t166\tmed_exam\n",
      "48\t441\t444\t217\tmed_exam\n",
      "48\t455\t458\t200\tmed_exam\n",
      "48\t463\t466\t225\tmed_exam\n",
      "48\t473\t476\t200\tmoney\n",
      "48\t568\t570\t22\tmed_exam\n",
      "48\t647\t650\t兩個月\ttime\n",
      "48\t655\t658\t兩個月\ttime\n",
      "48\t659\t662\t兩個月\ttime\n",
      "48\t839\t841\t65\tmed_exam\n",
      "48\t847\t849\t小明\tname\n",
      "48\t1072\t1076\t六個小時\ttime\n",
      "48\t1410\t1415\t25000\tmoney\n",
      "48\t1428\t1433\t25000\tmoney\n",
      "48\t1437\t1442\t30000\tmoney\n",
      "48\t1448\t1453\t30000\tmoney\n",
      "48\t1486\t1491\t25000\tmoney\n",
      "48\t1492\t1495\t25K\tmed_exam\n",
      "48\t1499\t1501\t25\tmed_exam\n",
      "48\t1528\t1531\t143\tmed_exam\n",
      "48\t1535\t1538\t143\tmed_exam\n",
      "48\t1759\t1762\t兩個月\ttime\n",
      "49\t3\t5\t今天\ttime\n",
      "49\t14\t16\t爸爸\tfamily\n",
      "49\t60\t62\t清華\tlocation\n",
      "49\t91\t93\t小美\tname\n",
      "49\t126\t131\t9月10號\ttime\n",
      "49\t153\t158\t9月10號\ttime\n",
      "49\t159\t162\t阿小美\tname\n",
      "49\t335\t337\t36\tmed_exam\n",
      "49\t342\t344\t36\tmed_exam\n",
      "49\t349\t351\t36\tmed_exam\n",
      "49\t352\t356\t36.9\tmed_exam\n",
      "49\t357\t361\t36.7\tmed_exam\n",
      "49\t362\t366\t36.6\tmed_exam\n",
      "49\t924\t927\t半小時\ttime\n",
      "49\t961\t963\t小明\tname\n",
      "49\t983\t985\t今天\ttime\n",
      "49\t986\t989\t禮拜三\ttime\n",
      "49\t990\t992\t下午\ttime\n",
      "49\t1169\t1171\t今天\ttime\n",
      "49\t1172\t1174\t下午\ttime\n",
      "49\t1208\t1211\t禮拜一\ttime\n",
      "49\t1212\t1214\t早上\ttime\n",
      "49\t1282\t1284\t今天\ttime\n",
      "49\t1340\t1343\t禮拜一\ttime\n",
      "49\t1344\t1346\t早上\ttime\n",
      "49\t1352\t1355\t禮拜一\ttime\n",
      "49\t1356\t1358\t早上\ttime\n",
      "49\t1365\t1368\t李英俊\tname\n",
      "49\t2058\t2060\t台北\tlocation\n",
      "49\t2065\t2067\t高雄\tlocation\n",
      "49\t2082\t2084\t中山\tlocation\n",
      "49\t2196\t2198\t學校\tlocation\n",
      "49\t2849\t2851\t台北\tlocation\n",
      "49\t2928\t2930\t小美\tname\n",
      "49\t2943\t2946\t禮拜一\ttime\n",
      "49\t3040\t3045\t下個禮拜一\ttime\n",
      "49\t3049\t3053\t9月8號\ttime\n",
      "49\t3330\t3333\t許醫師\tname\n",
      "49\t3338\t3341\t許醫師\tname\n",
      "49\t3756\t3758\t姪子\tfamily\n",
      "49\t3784\t3786\t兒子\tfamily\n",
      "49\t3800\t3802\t三嬸\tname\n",
      "49\t3803\t3805\t兒子\tfamily\n",
      "49\t3886\t3888\t三嬸\tfamily\n",
      "49\t3889\t3891\t兒子\tfamily\n",
      "49\t3923\t3926\t親姐姐\tfamily\n",
      "49\t3946\t3948\t姑姑\tfamily\n",
      "49\t3949\t3951\t兒子\tfamily\n",
      "49\t4033\t4035\t媽媽\tfamily\n",
      "49\t4168\t4171\t禮拜一\ttime\n",
      "49\t4518\t4522\t台北榮總\tlocation\n",
      "49\t4534\t4536\t台大\tlocation\n",
      "49\t4541\t4543\t台大\tlocation\n",
      "49\t4547\t4549\t台大\tlocation\n",
      "49\t4609\t4611\t兩天\ttime\n",
      "49\t4778\t4780\t小美\tname\n",
      "50\t13\t15\t奇美\tlocation\n",
      "50\t82\t85\t禮拜六\ttime\n",
      "50\t87\t90\t禮拜六\ttime\n",
      "50\t92\t95\t禮拜六\ttime\n",
      "50\t96\t98\t早上\ttime\n",
      "50\t125\t128\t禮拜天\ttime\n",
      "50\t129\t133\t7月17\ttime\n",
      "50\t138\t140\t前天\ttime\n",
      "50\t144\t146\t前天\ttime\n",
      "50\t151\t153\t前天\ttime\n",
      "50\t159\t161\t昨天\ttime\n",
      "50\t163\t165\t昨天\ttime\n",
      "50\t200\t202\t38\tmed_exam\n",
      "50\t204\t206\t38\tmed_exam\n",
      "50\t208\t210\t30\ttime\n",
      "50\t212\t216\t38.6\tmed_exam\n",
      "50\t217\t221\t38.7\tmed_exam\n",
      "50\t325\t329\t6月25\ttime\n",
      "50\t334\t336\t昨天\ttime\n",
      "50\t449\t451\t今天\ttime\n",
      "50\t460\t462\t今天\ttime\n",
      "50\t463\t465\t早上\ttime\n",
      "50\t542\t544\t今天\ttime\n",
      "50\t721\t725\t36.9\tmed_exam\n",
      "50\t729\t733\t36.9\tmed_exam\n",
      "50\t1201\t1205\t11.幾\tmed_exam\n",
      "50\t1209\t1213\t11.幾\tmed_exam\n",
      "50\t1224\t1228\t11.幾\tmed_exam\n",
      "50\t1290\t1293\t11號\ttime\n",
      "50\t1320\t1322\t8號\ttime\n",
      "50\t1459\t1462\t禮拜五\ttime\n",
      "50\t1463\t1465\t早上\ttime\n",
      "50\t2008\t2013\t88821\tID\n",
      "50\t2028\t2032\t27.7\tmed_exam\n",
      "50\t3187\t3191\t這兩三天\ttime\n",
      "50\t3430\t3432\t嚴選\tlocation\n",
      "50\t3513\t3515\t台大\tlocation\n",
      "50\t3573\t3577\t下個禮拜\ttime\n",
      "51\t170\t172\t奇美\tlocation\n",
      "51\t625\t627\t奇美\tlocation\n",
      "51\t1263\t1266\t1月份\ttime\n",
      "51\t1283\t1286\t1月份\ttime\n",
      "51\t1523\t1528\t1月16號\ttime\n",
      "51\t1532\t1540\t1……1月16號\ttime\n",
      "51\t1545\t1547\t1月\ttime\n",
      "51\t1558\t1563\t1月16號\ttime\n",
      "51\t1676\t1678\t半年\ttime\n",
      "51\t2039\t2043\t三個禮拜\ttime\n",
      "51\t2051\t2056\t第三個禮拜\ttime\n",
      "51\t2061\t2066\t前兩個禮拜\ttime\n",
      "51\t2093\t2098\t第三個禮拜\ttime\n",
      "51\t2334\t2338\t2、4週\ttime\n",
      "51\t2391\t2394\t吳醫師\tname\n",
      "51\t2848\t2851\t一個月\ttime\n",
      "51\t2856\t2860\t10公斤\tmed_exam\n",
      "51\t2866\t2870\t65公斤\tmed_exam\n",
      "51\t2882\t2886\t54公斤\tmed_exam\n",
      "51\t3285\t3288\t這一週\ttime\n",
      "51\t3289\t3292\t上禮拜\ttime\n",
      "51\t3510\t3512\t媽媽\tfamily\n",
      "51\t3796\t3798\t54\tmed_exam\n",
      "51\t3802\t3804\t58\tmed_exam\n",
      "51\t3814\t3816\t58\tmed_exam\n",
      "51\t3825\t3827\t58\tmed_exam\n",
      "51\t3909\t3912\t一個月\ttime\n",
      "51\t3923\t3926\t一個月\ttime\n",
      "51\t3927\t3929\t三週\ttime\n",
      "51\t3945\t3948\t一個月\ttime\n",
      "51\t3949\t3951\t三週\ttime\n",
      "51\t3967\t3969\t三週\ttime\n",
      "51\t4034\t4037\t22萬\tmoney\n",
      "51\t4366\t4368\t明天\ttime\n",
      "51\t4396\t4398\t明天\ttime\n",
      "51\t4437\t4439\t兩週\ttime\n",
      "51\t4441\t4444\t第三週\ttime\n",
      "51\t4480\t4483\t第三週\ttime\n",
      "51\t4495\t4498\t第三週\ttime\n",
      "51\t4513\t4515\t三週\ttime\n",
      "51\t4517\t4520\t上一週\ttime\n",
      "51\t4552\t4556\t三個禮拜\ttime\n",
      "51\t4566\t4570\t兩個禮拜\ttime\n",
      "51\t4573\t4577\t兩個禮拜\ttime\n",
      "51\t4610\t4614\t一個禮拜\ttime\n",
      "51\t4779\t4781\t學校\tlocation\n",
      "51\t4828\t4832\t10公斤\tmed_exam\n",
      "51\t4847\t4851\t66公斤\tmed_exam\n",
      "51\t4858\t4862\t66公斤\tmed_exam\n",
      "51\t5193\t5195\t阿公\tfamily\n",
      "51\t5259\t5261\t阿公\tfamily\n",
      "51\t5574\t5581\t2020年5月\ttime\n",
      "51\t5852\t5854\t四天\ttime\n",
      "52\t101\t104\t330\tmed_exam\n",
      "52\t176\t181\t15000\tmoney\n",
      "52\t195\t199\t3200\tmoney\n",
      "52\t203\t207\t3200\tmoney\n",
      "52\t262\t266\t10.7\tmed_exam\n",
      "52\t294\t298\t10.7\tmed_exam\n",
      "52\t332\t336\t兩個禮拜\ttime\n",
      "52\t397\t401\t兩個禮拜\ttime\n",
      "52\t526\t529\t林醫師\tname\n",
      "52\t541\t544\t林醫師\tname\n",
      "52\t545\t548\t780\tmed_exam\n",
      "52\t582\t585\t450\tmoney\n",
      "52\t589\t592\t450\tmoney\n",
      "52\t691\t694\t450\tmoney\n",
      "52\t703\t706\t林醫師\tname\n",
      "52\t812\t815\t450\tmoney\n",
      "52\t816\t819\t450\tmoney\n",
      "52\t900\t903\t這個月\ttime\n",
      "52\t1164\t1169\t7月15號\ttime\n",
      "52\t1221\t1226\t7月28號\ttime\n",
      "52\t1271\t1273\t小美\tname\n",
      "52\t1276\t1279\t陳老師\tname\n",
      "52\t1280\t1284\t兩個禮拜\ttime\n",
      "52\t1391\t1395\t兩個禮拜\ttime\n",
      "52\t1409\t1413\t一個禮拜\ttime\n",
      "52\t1441\t1445\t100塊\tmoney\n",
      "52\t1587\t1592\t8月20號\ttime\n",
      "52\t1602\t1607\t8月20號\ttime\n",
      "53\t114\t118\t兩個禮拜\ttime\n",
      "53\t337\t341\t兩個禮拜\ttime\n",
      "53\t409\t413\t十月二號\ttime\n",
      "53\t439\t444\t六百七十九\tmed_exam\n",
      "53\t526\t528\t台南\tlocation\n",
      "53\t650\t653\t一千二\tmoney\n",
      "54\t3\t5\t阿明\tname\n",
      "54\t254\t256\t去年\ttime\n",
      "54\t567\t573\t十二月二十二\ttime\n",
      "55\t128\t131\t一個月\ttime\n",
      "55\t282\t285\t一個月\ttime\n",
      "55\t738\t740\t早上\ttime\n",
      "55\t830\t832\t今天\ttime\n",
      "55\t835\t837\t今天\ttime\n",
      "55\t871\t873\t保險\tprofession\n",
      "55\t1043\t1045\t去年\ttime\n",
      "55\t1063\t1065\t去年\ttime\n",
      "55\t1072\t1074\t今年\ttime\n",
      "55\t1104\t1106\t今年\ttime\n",
      "55\t1109\t1112\t五月中\ttime\n",
      "55\t1266\t1268\t一年\ttime\n",
      "56\t28\t31\t星期三\ttime\n",
      "56\t608\t610\t今天\ttime\n",
      "56\t1109\t1113\t百分之五\tmed_exam\n",
      "56\t1248\t1250\t爸爸\tfamily\n",
      "56\t1528\t1530\t榮總\tlocation\n",
      "56\t2152\t2157\t九月二十五\ttime\n",
      "56\t2166\t2169\t兩個月\ttime\n",
      "56\t2175\t2179\t十月一號\ttime\n",
      "56\t2207\t2212\t二十五禮拜\ttime\n",
      "56\t2216\t2219\t禮拜四\ttime\n",
      "56\t2300\t2302\t九天\ttime\n",
      "56\t2307\t2310\t十幾天\ttime\n",
      "57\t33\t38\t十五個小時\ttime\n",
      "57\t69\t73\t九個小時\ttime\n",
      "57\t279\t281\t一年\ttime\n",
      "57\t287\t289\t一年\ttime\n",
      "57\t416\t419\t八十五\tmed_exam\n",
      "57\t423\t426\t八十五\tmed_exam\n",
      "57\t441\t444\t一七五\tmed_exam\n",
      "57\t448\t451\t一七五\tmed_exam\n",
      "57\t490\t492\t一年\ttime\n",
      "57\t509\t511\t一年\ttime\n",
      "57\t523\t525\t四年\ttime\n",
      "57\t529\t533\t三、四年\ttime\n",
      "57\t746\t750\t三個禮拜\ttime\n",
      "57\t753\t758\t四個禮拜前\ttime\n",
      "57\t798\t802\t三個禮拜\ttime\n",
      "57\t889\t892\t一九二\tmed_exam\n",
      "57\t971\t974\t二八一\ttime\n",
      "57\t1066\t1069\t一百三\tmed_exam\n",
      "57\t1221\t1223\t政鴻\tname\n",
      "57\t1306\t1309\t五十歲\ttime\n",
      "57\t1777\t1779\t嘉芳\tlocation\n",
      "57\t1790\t1793\t兩個月\ttime\n",
      "57\t1800\t1803\t下禮拜\ttime\n",
      "57\t1813\t1816\t五個月\ttime\n",
      "57\t1850\t1853\t五個月\ttime\n",
      "57\t1859\t1862\t五個月\ttime\n",
      "57\t1876\t1879\t五個月\ttime\n",
      "57\t1909\t1912\t五個月\ttime\n",
      "57\t2017\t2019\t小叔\tname\n",
      "57\t2024\t2026\t小叔\tname\n",
      "57\t2038\t2040\t表哥\tfamily\n",
      "57\t2041\t2043\t表姊\tfamily\n",
      "57\t2081\t2084\t十二月\ttime\n",
      "58\t6\t11\t56783\tID\n",
      "58\t217\t220\t禮拜四\ttime\n",
      "58\t229\t231\t今天\ttime\n",
      "58\t696\t698\t今天\ttime\n",
      "58\t767\t770\t三個月\ttime\n",
      "59\t4\t7\t禮拜天\ttime\n",
      "59\t8\t10\t中午\ttime\n",
      "59\t12\t15\t禮拜一\ttime\n",
      "59\t21\t23\t中午\ttime\n",
      "59\t30\t33\t禮拜二\ttime\n",
      "59\t164\t167\t禮拜一\ttime\n",
      "59\t169\t172\t禮拜二\ttime\n",
      "59\t491\t494\t林醫師\tname\n",
      "59\t615\t618\t王醫師\tname\n",
      "59\t625\t627\t陽明\tname\n",
      "59\t726\t728\t昨天\ttime\n",
      "59\t737\t739\t昨天\ttime\n",
      "59\t750\t752\t昨天\ttime\n",
      "59\t753\t755\t早上\ttime\n",
      "59\t894\t896\t三天\ttime\n",
      "59\t907\t909\t三天\ttime\n",
      "59\t920\t923\t中中午\ttime\n",
      "59\t1027\t1030\t王醫師\tname\n",
      "59\t1043\t1045\t今天\ttime\n",
      "59\t1124\t1126\t台大\tlocation\n",
      "59\t1135\t1137\t台大\tlocation\n",
      "59\t1223\t1226\t楊醫師\tname\n",
      "59\t1261\t1264\t下禮拜\ttime\n",
      "59\t1271\t1274\t下禮拜\ttime\n",
      "59\t1302\t1305\t楊醫師\tname\n",
      "59\t1917\t1919\t台大\tlocation\n",
      "59\t1941\t1945\t陽明醫院\tlocation\n",
      "59\t2052\t2055\t12樓\ttime\n",
      "59\t2114\t2116\t今天\ttime\n",
      "60\t96\t98\t嘉義\tlocation\n",
      "60\t104\t106\t嘉義\tlocation\n",
      "60\t107\t109\t台南\tlocation\n",
      "60\t364\t367\t兩個月\ttime\n",
      "60\t521\t524\t8月底\ttime\n",
      "60\t547\t550\t8月底\ttime\n",
      "60\t685\t687\t今天\ttime\n",
      "60\t1177\t1180\t8月7\ttime\n",
      "60\t1184\t1187\t8月7\ttime\n",
      "60\t1196\t1199\t禮拜三\ttime\n",
      "60\t1200\t1202\t下午\ttime\n",
      "60\t1206\t1209\t禮拜三\ttime\n",
      "60\t1210\t1212\t下午\ttime\n",
      "60\t1222\t1224\t早上\ttime\n",
      "60\t1228\t1231\t禮拜四\ttime\n",
      "60\t1234\t1237\t禮拜四\ttime\n",
      "60\t1238\t1240\t早上\ttime\n",
      "60\t1244\t1247\t禮拜五\ttime\n",
      "60\t1248\t1250\t早上\ttime\n",
      "60\t1259\t1262\t禮拜五\ttime\n",
      "60\t1263\t1265\t早上\ttime\n",
      "60\t1301\t1304\t10點\ttime\n",
      "60\t1312\t1314\t今天\ttime\n",
      "60\t1315\t1319\t9點45\ttime\n",
      "60\t1339\t1342\t禮拜三\ttime\n",
      "60\t1407\t1410\t禮拜五\ttime\n",
      "60\t1411\t1413\t早上\ttime\n",
      "60\t1423\t1426\t8月7\ttime\n",
      "60\t1430\t1433\t8月7\ttime\n",
      "60\t1540\t1543\t5月份\ttime\n",
      "60\t1549\t1551\t5月\ttime\n",
      "60\t1554\t1556\t35\tmed_exam\n",
      "60\t1560\t1563\t這個月\ttime\n",
      "60\t1705\t1707\t阿美\tname\n",
      "60\t1718\t1723\t6月15號\ttime\n",
      "60\t1815\t1818\t李小龍\tname\n",
      "60\t1855\t1857\t小夫\tname\n",
      "60\t1875\t1880\t6月15號\ttime\n",
      "60\t1898\t1903\t6月15號\ttime\n",
      "60\t1921\t1923\t丈夫\tfamily\n",
      "60\t1929\t1931\t丈夫\tfamily\n",
      "60\t1986\t1989\t台北市\tlocation\n",
      "60\t2008\t2012\t9654\tmed_exam\n",
      "60\t2016\t2020\t9654\tmed_exam\n",
      "60\t2028\t2030\t85\tmed_exam\n",
      "60\t2034\t2038\t1996\ttime\n",
      "60\t2043\t2047\t1996\tmed_exam\n",
      "60\t2053\t2058\t5月21號\ttime\n",
      "60\t2064\t2068\t5月21\ttime\n",
      "60\t2084\t2087\t6月底\ttime\n",
      "60\t2091\t2093\t35\tmed_exam\n",
      "60\t2105\t2108\t15號\ttime\n",
      "60\t2130\t2135\t6月15號\ttime\n",
      "60\t2146\t2151\t6月15號\ttime\n",
      "60\t2192\t2197\t6月15號\ttime\n",
      "60\t2220\t2225\t6月15號\ttime\n",
      "60\t2262\t2267\t6月15號\ttime\n",
      "60\t2269\t2274\t6月15號\ttime\n",
      "60\t2283\t2288\t6月15號\ttime\n",
      "60\t2292\t2297\t6月15號\ttime\n",
      "60\t2443\t2446\t5月多\ttime\n",
      "60\t2456\t2461\t6月15號\ttime\n",
      "60\t2497\t2499\t5月\ttime\n",
      "60\t2503\t2505\t35\tmed_exam\n",
      "60\t2509\t2511\t4月\ttime\n",
      "60\t2599\t2602\t兩三年\ttime\n",
      "61\t651\t655\t第一個月\ttime\n",
      "61\t919\t922\t下個月\ttime\n",
      "61\t2022\t2028\t11月12號\ttime\n",
      "61\t2030\t2033\t兩個月\ttime\n",
      "61\t2038\t2043\t11月12\ttime\n",
      "61\t2051\t2054\t禮拜三\ttime\n",
      "61\t2055\t2057\t早上\ttime\n",
      "61\t2129\t2135\t11月12號\ttime\n",
      "61\t2213\t2216\t十幾號\ttime\n",
      "61\t2280\t2282\t台北\tlocation\n",
      "61\t2293\t2295\t台北\tlocation\n",
      "61\t2343\t2346\t五月中\ttime\n",
      "61\t2421\t2426\t11月12\ttime\n",
      "62\t5\t9\t0938\ttime\n",
      "62\t13\t16\t這個月\ttime\n",
      "62\t300\t302\t一年\ttime\n",
      "62\t795\t799\t第十個月\ttime\n",
      "62\t817\t821\t三分之二\tmed_exam\n",
      "62\t906\t911\t11月29\ttime\n",
      "62\t915\t918\t禮拜五\ttime\n",
      "62\t919\t921\t下午\ttime\n",
      "63\t154\t158\t這一個月\ttime\n",
      "63\t343\t347\t上上個月\ttime\n",
      "63\t353\t356\t下個月\ttime\n",
      "64\t4\t6\t今天\ttime\n",
      "64\t9\t12\t兩個月\ttime\n",
      "64\t746\t749\t兩個月\ttime\n",
      "64\t782\t785\t兩個月\ttime\n",
      "64\t801\t804\t下個月\ttime\n",
      "64\t914\t916\t一年\ttime\n",
      "64\t976\t985\t287179403\tmoney\n",
      "64\t1005\t1008\t第三年\ttime\n",
      "64\t1056\t1059\t一兩年\ttime\n",
      "65\t190\t193\t這個月\ttime\n",
      "65\t1107\t1109\t3倍\tmed_exam\n",
      "65\t1110\t1112\t5倍\tmed_exam\n",
      "66\t27\t30\t這個月\ttime\n",
      "66\t253\t255\t前天\ttime\n",
      "66\t269\t271\t前天\ttime\n",
      "67\t34\t37\t許小姐\tname\n",
      "67\t61\t64\t許小姐\tname\n",
      "67\t330\t333\t半年多\ttime\n",
      "67\t678\t681\t王醫師\tname\n",
      "67\t812\t816\tLINE\tcontact\n",
      "67\t881\t884\t王醫師\tname\n",
      "67\t960\t962\t今天\ttime\n",
      "67\t1012\t1015\t每個月\ttime\n",
      "67\t1081\t1084\t下個月\ttime\n",
      "67\t1113\t1116\t三個月\ttime\n",
      "67\t1204\t1207\t禮拜三\ttime\n",
      "67\t1208\t1211\t禮拜五\ttime\n",
      "67\t1223\t1226\t王醫師\tname\n",
      "67\t1236\t1239\t王醫師\tname\n",
      "67\t1240\t1243\t禮拜三\ttime\n",
      "67\t1244\t1246\t下午\ttime\n",
      "67\t1247\t1250\t禮拜五\ttime\n",
      "67\t1251\t1253\t早上\ttime\n",
      "67\t1300\t1303\t禮拜二\ttime\n",
      "67\t1313\t1316\t禮拜二\ttime\n",
      "67\t1366\t1369\t禮拜三\ttime\n",
      "67\t1385\t1388\t這個月\ttime\n",
      "67\t1389\t1392\t禮拜三\ttime\n",
      "67\t1412\t1415\t禮拜五\ttime\n",
      "67\t1419\t1422\t禮拜五\ttime\n",
      "67\t1449\t1451\t下週\ttime\n",
      "67\t1452\t1455\t禮拜五\ttime\n",
      "67\t1478\t1480\t28\tmed_exam\n",
      "68\t31\t33\t今天\ttime\n",
      "68\t43\t45\t晚上\ttime\n",
      "68\t52\t56\t晚上上班\ttime\n",
      "68\t632\t636\t這一個月\ttime\n",
      "68\t683\t685\t早上\ttime\n",
      "68\t730\t733\t下個月\ttime\n",
      "69\t267\t269\t姐姐\tfamily\n",
      "69\t362\t365\t這個月\ttime\n",
      "69\t1056\t1059\t前兩天\ttime\n",
      "69\t1248\t1250\t今天\ttime\n",
      "69\t1251\t1255\t9月10\ttime\n",
      "69\t1267\t1270\t9月9\ttime\n",
      "69\t1271\t1275\t9月11\ttime\n",
      "69\t1276\t1278\t12\tmed_exam\n",
      "69\t1320\t1324\t5、6點\ttime\n",
      "69\t1337\t1339\t6點\ttime\n",
      "69\t1342\t1344\t6點\ttime\n",
      "69\t1432\t1437\t12號4點\ttime\n",
      "69\t1597\t1601\t9月8號\ttime\n",
      "69\t1609\t1611\t6點\ttime\n",
      "69\t1634\t1636\t7點\ttime\n",
      "\n"
     ]
    }
   ],
   "source": [
    "print(output_str)"
   ]
  },
  {
   "cell_type": "code",
   "execution_count": 18,
   "metadata": {},
   "outputs": [],
   "source": [
    "output_path = 'output/{}-epo-{}.tsv'.format(model_name, epochs)\n",
    "with open(output_path, 'w', encoding='utf-8') as f:\n",
    "    f.write(output_str)"
   ]
  }
 ],
 "metadata": {
  "kernelspec": {
   "display_name": "Python 3",
   "language": "python",
   "name": "python3"
  },
  "language_info": {
   "codemirror_mode": {
    "name": "ipython",
    "version": 3
   },
   "file_extension": ".py",
   "mimetype": "text/x-python",
   "name": "python",
   "nbconvert_exporter": "python",
   "pygments_lexer": "ipython3",
   "version": "3.6.10"
  }
 },
 "nbformat": 4,
 "nbformat_minor": 4
}
