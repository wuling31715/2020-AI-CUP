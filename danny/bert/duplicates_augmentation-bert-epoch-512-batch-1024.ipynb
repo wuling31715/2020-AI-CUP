{
 "cells": [
  {
   "cell_type": "code",
   "execution_count": 1,
   "metadata": {},
   "outputs": [],
   "source": [
    "import re\n",
    "import pandas as pd\n",
    "import tensorflow as tf\n",
    "from matplotlib import pyplot as plt"
   ]
  },
  {
   "cell_type": "code",
   "execution_count": 2,
   "metadata": {},
   "outputs": [],
   "source": [
    "def select_gpu(N):\n",
    "    gpus = tf.config.experimental.list_physical_devices('GPU')\n",
    "    print(gpus)\n",
    "    if gpus:\n",
    "        try:\n",
    "            for gpu in gpus:\n",
    "                tf.config.experimental.set_memory_growth(gpu, True)\n",
    "            tf.config.experimental.set_visible_devices(gpus[N], 'GPU')\n",
    "            logical_gpus = tf.config.experimental.list_logical_devices('GPU')\n",
    "            print(len(gpus), \"Physical GPUs,\", len(logical_gpus), \"Logical GPUs\")\n",
    "        except RuntimeError as e:\n",
    "            print(e)    "
   ]
  },
  {
   "cell_type": "code",
   "execution_count": 3,
   "metadata": {},
   "outputs": [
    {
     "name": "stdout",
     "output_type": "stream",
     "text": [
      "[PhysicalDevice(name='/physical_device:GPU:0', device_type='GPU'), PhysicalDevice(name='/physical_device:GPU:1', device_type='GPU'), PhysicalDevice(name='/physical_device:GPU:2', device_type='GPU')]\n",
      "3 Physical GPUs, 1 Logical GPUs\n"
     ]
    }
   ],
   "source": [
    "select_gpu(0)\n",
    "epochs = 512\n",
    "batch_size = 1024\n",
    "model_name = 'bert-chinese'\n",
    "embedding_path = '/home/Danny/pretrain_model/{}'.format(model_name)"
   ]
  },
  {
   "cell_type": "code",
   "execution_count": 4,
   "metadata": {},
   "outputs": [],
   "source": [
    "# 不用儲存article_id, 轉成list\n",
    "def training_txt_to_list(path):\n",
    "    with open(path, 'r') as f:\n",
    "        txt = str(f.read())\n",
    "    txt_list = txt.split('\\n')\n",
    "    text_label_list = list()\n",
    "    tmp = list()\n",
    "    for line in txt_list:\n",
    "        if line == '--------------------':\n",
    "            text_label_list.append(tmp)\n",
    "            tmp = list()\n",
    "            continue\n",
    "        if line == '':\n",
    "            continue\n",
    "        tmp.append(line)\n",
    "    x = list()\n",
    "    y = list()\n",
    "    for text_label in text_label_list:\n",
    "        text = text_label[0]\n",
    "        label = text_label[2:]\n",
    "        label_list = ['O' for i in range(len(text))]\n",
    "        for i in label:\n",
    "            entity = i.split('\\t')\n",
    "            if int(entity[1]) > int(entity[2]):\n",
    "                continue\n",
    "            b = int(entity[1])\n",
    "            label_list[b] = 'B-{}'.format(entity[-1])\n",
    "            for j in range(int(entity[1])+1, int(entity[2])):\n",
    "                label_list[j] = 'I-{}'.format(entity[-1])\n",
    "        for i, j in enumerate(text):\n",
    "            if j == '，' or j == '。' or j == '？':\n",
    "                label_list[i] = j\n",
    "                \n",
    "        text_list = re.split('\\uff0c|\\u3002|\\uff1f', text)\n",
    "        for sentence in text_list:\n",
    "            x.append([i for i in sentence])\n",
    "        x = x[:-1]\n",
    "            \n",
    "        sentence = list()\n",
    "        for i in label_list:\n",
    "            if i == '，' or i == '。' or i == '？':\n",
    "                y.append(sentence)\n",
    "                sentence = list()\n",
    "            else:\n",
    "                sentence.append(i)\n",
    "                \n",
    "    return [x, y]"
   ]
  },
  {
   "cell_type": "code",
   "execution_count": 5,
   "metadata": {},
   "outputs": [],
   "source": [
    "x1, y1 = training_txt_to_list('/home/Danny/AI-CUP-2020/datasets/stage1/SampleData_deid.txt')"
   ]
  },
  {
   "cell_type": "code",
   "execution_count": 6,
   "metadata": {},
   "outputs": [],
   "source": [
    "x2, y2 = training_txt_to_list('/home/Danny/AI-CUP-2020/datasets/stage2/train_1_update.txt')"
   ]
  },
  {
   "cell_type": "code",
   "execution_count": 7,
   "metadata": {},
   "outputs": [],
   "source": [
    "x4, y4 = training_txt_to_list('/home/Danny/AI-CUP-2020/datasets/stage4/train_2.txt')"
   ]
  },
  {
   "cell_type": "code",
   "execution_count": 8,
   "metadata": {},
   "outputs": [
    {
     "name": "stdout",
     "output_type": "stream",
     "text": [
      "76162\n",
      "76162\n"
     ]
    }
   ],
   "source": [
    "x = x1 + x2 + x4\n",
    "y = y1 + y2 + y4\n",
    "print(len(x))\n",
    "print(len(y))"
   ]
  },
  {
   "cell_type": "code",
   "execution_count": 9,
   "metadata": {},
   "outputs": [
    {
     "data": {
      "text/html": [
       "<div>\n",
       "<style scoped>\n",
       "    .dataframe tbody tr th:only-of-type {\n",
       "        vertical-align: middle;\n",
       "    }\n",
       "\n",
       "    .dataframe tbody tr th {\n",
       "        vertical-align: top;\n",
       "    }\n",
       "\n",
       "    .dataframe thead th {\n",
       "        text-align: right;\n",
       "    }\n",
       "</style>\n",
       "<table border=\"1\" class=\"dataframe\">\n",
       "  <thead>\n",
       "    <tr style=\"text-align: right;\">\n",
       "      <th></th>\n",
       "      <th>x</th>\n",
       "      <th>y</th>\n",
       "    </tr>\n",
       "  </thead>\n",
       "  <tbody>\n",
       "    <tr>\n",
       "      <th>0</th>\n",
       "      <td>[醫, 師, ：, 你, 有, 做, 超, 音, 波, 嘛]</td>\n",
       "      <td>[O, O, O, O, O, O, O, O, O, O]</td>\n",
       "    </tr>\n",
       "    <tr>\n",
       "      <th>1</th>\n",
       "      <td>[那, 我, 們, 來, 看, 報, 告]</td>\n",
       "      <td>[O, O, O, O, O, O, O]</td>\n",
       "    </tr>\n",
       "    <tr>\n",
       "      <th>2</th>\n",
       "      <td>[有, 些, 部, 分, 有, 紅, 字, 耶]</td>\n",
       "      <td>[O, O, O, O, O, O, O, O]</td>\n",
       "    </tr>\n",
       "    <tr>\n",
       "      <th>3</th>\n",
       "      <td>[民, 眾, ：, 紅, 字, 是, 甚, 麼, 意, 思]</td>\n",
       "      <td>[O, O, O, O, O, O, O, O, O, O]</td>\n",
       "    </tr>\n",
       "    <tr>\n",
       "      <th>4</th>\n",
       "      <td>[醫, 師, ：, 就, 是, 肝, 功, 能, 有, 比, 較, 高]</td>\n",
       "      <td>[O, O, O, O, O, O, O, O, O, O, O, O]</td>\n",
       "    </tr>\n",
       "    <tr>\n",
       "      <th>...</th>\n",
       "      <td>...</td>\n",
       "      <td>...</td>\n",
       "    </tr>\n",
       "    <tr>\n",
       "      <th>76157</th>\n",
       "      <td>[醫, 師, ：, 他, 有, 在, 騎, 腳, 踏, 車]</td>\n",
       "      <td>[O, O, O, O, O, O, O, O, O, O]</td>\n",
       "    </tr>\n",
       "    <tr>\n",
       "      <th>76158</th>\n",
       "      <td>[民, 眾, ：, 恩]</td>\n",
       "      <td>[O, O, O, O]</td>\n",
       "    </tr>\n",
       "    <tr>\n",
       "      <th>76159</th>\n",
       "      <td>[醫, 師, ：, 騎, 腳, 踏, 車, 可, 以]</td>\n",
       "      <td>[O, O, O, O, O, O, O, O, O]</td>\n",
       "    </tr>\n",
       "    <tr>\n",
       "      <th>76160</th>\n",
       "      <td>[小, 美]</td>\n",
       "      <td>[B-name, I-name]</td>\n",
       "    </tr>\n",
       "    <tr>\n",
       "      <th>76161</th>\n",
       "      <td>[那, 我, 們, 先, 讓, 他, 去, 照, 個, X, 光]</td>\n",
       "      <td>[O, O, O, O, O, O, O, O, O, O, O]</td>\n",
       "    </tr>\n",
       "  </tbody>\n",
       "</table>\n",
       "<p>76162 rows × 2 columns</p>\n",
       "</div>"
      ],
      "text/plain": [
       "                                          x  \\\n",
       "0            [醫, 師, ：, 你, 有, 做, 超, 音, 波, 嘛]   \n",
       "1                     [那, 我, 們, 來, 看, 報, 告]   \n",
       "2                  [有, 些, 部, 分, 有, 紅, 字, 耶]   \n",
       "3            [民, 眾, ：, 紅, 字, 是, 甚, 麼, 意, 思]   \n",
       "4      [醫, 師, ：, 就, 是, 肝, 功, 能, 有, 比, 較, 高]   \n",
       "...                                     ...   \n",
       "76157        [醫, 師, ：, 他, 有, 在, 騎, 腳, 踏, 車]   \n",
       "76158                          [民, 眾, ：, 恩]   \n",
       "76159           [醫, 師, ：, 騎, 腳, 踏, 車, 可, 以]   \n",
       "76160                                [小, 美]   \n",
       "76161     [那, 我, 們, 先, 讓, 他, 去, 照, 個, X, 光]   \n",
       "\n",
       "                                          y  \n",
       "0            [O, O, O, O, O, O, O, O, O, O]  \n",
       "1                     [O, O, O, O, O, O, O]  \n",
       "2                  [O, O, O, O, O, O, O, O]  \n",
       "3            [O, O, O, O, O, O, O, O, O, O]  \n",
       "4      [O, O, O, O, O, O, O, O, O, O, O, O]  \n",
       "...                                     ...  \n",
       "76157        [O, O, O, O, O, O, O, O, O, O]  \n",
       "76158                          [O, O, O, O]  \n",
       "76159           [O, O, O, O, O, O, O, O, O]  \n",
       "76160                      [B-name, I-name]  \n",
       "76161     [O, O, O, O, O, O, O, O, O, O, O]  \n",
       "\n",
       "[76162 rows x 2 columns]"
      ]
     },
     "execution_count": 9,
     "metadata": {},
     "output_type": "execute_result"
    }
   ],
   "source": [
    "df = pd.DataFrame({'x': x, 'y': y})\n",
    "df"
   ]
  },
  {
   "cell_type": "code",
   "execution_count": 10,
   "metadata": {},
   "outputs": [],
   "source": [
    "clinical_event = pd.read_csv('/home/Danny/AI-CUP-2020/datasets/augmentation/clinical_event.csv')\n",
    "contact = pd.read_csv('/home/Danny/AI-CUP-2020/datasets/augmentation/contact.csv')\n",
    "education = pd.read_csv('/home/Danny/AI-CUP-2020/datasets/augmentation/education.csv')\n",
    "family = pd.read_csv('/home/Danny/AI-CUP-2020/datasets/augmentation/family.csv')\n",
    "profession = pd.read_csv('/home/Danny/AI-CUP-2020/datasets/augmentation/profession.csv')"
   ]
  },
  {
   "cell_type": "code",
   "execution_count": 11,
   "metadata": {},
   "outputs": [
    {
     "data": {
      "text/html": [
       "<div>\n",
       "<style scoped>\n",
       "    .dataframe tbody tr th:only-of-type {\n",
       "        vertical-align: middle;\n",
       "    }\n",
       "\n",
       "    .dataframe tbody tr th {\n",
       "        vertical-align: top;\n",
       "    }\n",
       "\n",
       "    .dataframe thead th {\n",
       "        text-align: right;\n",
       "    }\n",
       "</style>\n",
       "<table border=\"1\" class=\"dataframe\">\n",
       "  <thead>\n",
       "    <tr style=\"text-align: right;\">\n",
       "      <th></th>\n",
       "      <th>x</th>\n",
       "      <th>y</th>\n",
       "    </tr>\n",
       "  </thead>\n",
       "  <tbody>\n",
       "    <tr>\n",
       "      <th>0</th>\n",
       "      <td>[醫, 師, ：, 你, 有, 做, 超, 音, 波, 嘛]</td>\n",
       "      <td>[O, O, O, O, O, O, O, O, O, O]</td>\n",
       "    </tr>\n",
       "    <tr>\n",
       "      <th>1</th>\n",
       "      <td>[那, 我, 們, 來, 看, 報, 告]</td>\n",
       "      <td>[O, O, O, O, O, O, O]</td>\n",
       "    </tr>\n",
       "    <tr>\n",
       "      <th>2</th>\n",
       "      <td>[有, 些, 部, 分, 有, 紅, 字, 耶]</td>\n",
       "      <td>[O, O, O, O, O, O, O, O]</td>\n",
       "    </tr>\n",
       "    <tr>\n",
       "      <th>3</th>\n",
       "      <td>[民, 眾, ：, 紅, 字, 是, 甚, 麼, 意, 思]</td>\n",
       "      <td>[O, O, O, O, O, O, O, O, O, O]</td>\n",
       "    </tr>\n",
       "    <tr>\n",
       "      <th>4</th>\n",
       "      <td>[醫, 師, ：, 就, 是, 肝, 功, 能, 有, 比, 較, 高]</td>\n",
       "      <td>[O, O, O, O, O, O, O, O, O, O, O, O]</td>\n",
       "    </tr>\n",
       "    <tr>\n",
       "      <th>...</th>\n",
       "      <td>...</td>\n",
       "      <td>...</td>\n",
       "    </tr>\n",
       "    <tr>\n",
       "      <th>495</th>\n",
       "      <td>['那', '個', '時', '候', '是', '白', '天', '釣', '具', ...</td>\n",
       "      <td>['O', 'O', 'O', 'O', 'O', 'O', 'O', 'B-profess...</td>\n",
       "    </tr>\n",
       "    <tr>\n",
       "      <th>496</th>\n",
       "      <td>['因', '為', '我', '是', '還', '是', '網', '球', '球', ...</td>\n",
       "      <td>['O', 'O', 'O', 'O', 'O', 'O', 'B-profession',...</td>\n",
       "    </tr>\n",
       "    <tr>\n",
       "      <th>497</th>\n",
       "      <td>['醫', '師', '：', '你', '是', '採', '椰', '子', '工', ...</td>\n",
       "      <td>['O', 'O', 'O', 'O', 'O', 'B-profession', 'I-p...</td>\n",
       "    </tr>\n",
       "    <tr>\n",
       "      <th>498</th>\n",
       "      <td>['安', '養', '院', '工', '作', '人', '員']</td>\n",
       "      <td>['B-profession', 'I-profession', 'I-profession...</td>\n",
       "    </tr>\n",
       "    <tr>\n",
       "      <th>499</th>\n",
       "      <td>['我', '在', '駕', '駛', '人', '員', '的']</td>\n",
       "      <td>['O', 'O', 'B-profession', 'I-profession', 'I-...</td>\n",
       "    </tr>\n",
       "  </tbody>\n",
       "</table>\n",
       "<p>78362 rows × 2 columns</p>\n",
       "</div>"
      ],
      "text/plain": [
       "                                                     x  \\\n",
       "0                       [醫, 師, ：, 你, 有, 做, 超, 音, 波, 嘛]   \n",
       "1                                [那, 我, 們, 來, 看, 報, 告]   \n",
       "2                             [有, 些, 部, 分, 有, 紅, 字, 耶]   \n",
       "3                       [民, 眾, ：, 紅, 字, 是, 甚, 麼, 意, 思]   \n",
       "4                 [醫, 師, ：, 就, 是, 肝, 功, 能, 有, 比, 較, 高]   \n",
       "..                                                 ...   \n",
       "495  ['那', '個', '時', '候', '是', '白', '天', '釣', '具', ...   \n",
       "496  ['因', '為', '我', '是', '還', '是', '網', '球', '球', ...   \n",
       "497  ['醫', '師', '：', '你', '是', '採', '椰', '子', '工', ...   \n",
       "498                ['安', '養', '院', '工', '作', '人', '員']   \n",
       "499                ['我', '在', '駕', '駛', '人', '員', '的']   \n",
       "\n",
       "                                                     y  \n",
       "0                       [O, O, O, O, O, O, O, O, O, O]  \n",
       "1                                [O, O, O, O, O, O, O]  \n",
       "2                             [O, O, O, O, O, O, O, O]  \n",
       "3                       [O, O, O, O, O, O, O, O, O, O]  \n",
       "4                 [O, O, O, O, O, O, O, O, O, O, O, O]  \n",
       "..                                                 ...  \n",
       "495  ['O', 'O', 'O', 'O', 'O', 'O', 'O', 'B-profess...  \n",
       "496  ['O', 'O', 'O', 'O', 'O', 'O', 'B-profession',...  \n",
       "497  ['O', 'O', 'O', 'O', 'O', 'B-profession', 'I-p...  \n",
       "498  ['B-profession', 'I-profession', 'I-profession...  \n",
       "499  ['O', 'O', 'B-profession', 'I-profession', 'I-...  \n",
       "\n",
       "[78362 rows x 2 columns]"
      ]
     },
     "execution_count": 11,
     "metadata": {},
     "output_type": "execute_result"
    }
   ],
   "source": [
    "df = df.append(clinical_event)\n",
    "df = df.append(contact)\n",
    "df = df.append(education)\n",
    "df = df.append(family)\n",
    "df = df.append(profession)\n",
    "df"
   ]
  },
  {
   "cell_type": "code",
   "execution_count": 13,
   "metadata": {},
   "outputs": [
    {
     "data": {
      "text/html": [
       "<div>\n",
       "<style scoped>\n",
       "    .dataframe tbody tr th:only-of-type {\n",
       "        vertical-align: middle;\n",
       "    }\n",
       "\n",
       "    .dataframe tbody tr th {\n",
       "        vertical-align: top;\n",
       "    }\n",
       "\n",
       "    .dataframe thead th {\n",
       "        text-align: right;\n",
       "    }\n",
       "</style>\n",
       "<table border=\"1\" class=\"dataframe\">\n",
       "  <thead>\n",
       "    <tr style=\"text-align: right;\">\n",
       "      <th></th>\n",
       "      <th>x</th>\n",
       "      <th>y</th>\n",
       "    </tr>\n",
       "  </thead>\n",
       "  <tbody>\n",
       "    <tr>\n",
       "      <th>0</th>\n",
       "      <td>[醫, 師, ：, 你, 有, 做, 超, 音, 波, 嘛]</td>\n",
       "      <td>[O, O, O, O, O, O, O, O, O, O]</td>\n",
       "    </tr>\n",
       "    <tr>\n",
       "      <th>1</th>\n",
       "      <td>[那, 我, 們, 來, 看, 報, 告]</td>\n",
       "      <td>[O, O, O, O, O, O, O]</td>\n",
       "    </tr>\n",
       "    <tr>\n",
       "      <th>2</th>\n",
       "      <td>[有, 些, 部, 分, 有, 紅, 字, 耶]</td>\n",
       "      <td>[O, O, O, O, O, O, O, O]</td>\n",
       "    </tr>\n",
       "    <tr>\n",
       "      <th>3</th>\n",
       "      <td>[民, 眾, ：, 紅, 字, 是, 甚, 麼, 意, 思]</td>\n",
       "      <td>[O, O, O, O, O, O, O, O, O, O]</td>\n",
       "    </tr>\n",
       "    <tr>\n",
       "      <th>4</th>\n",
       "      <td>[醫, 師, ：, 就, 是, 肝, 功, 能, 有, 比, 較, 高]</td>\n",
       "      <td>[O, O, O, O, O, O, O, O, O, O, O, O]</td>\n",
       "    </tr>\n",
       "    <tr>\n",
       "      <th>...</th>\n",
       "      <td>...</td>\n",
       "      <td>...</td>\n",
       "    </tr>\n",
       "    <tr>\n",
       "      <th>495</th>\n",
       "      <td>[那, 個, 時, 候, 是, 白, 天, 釣, 具, 製, 造, 工, 人]</td>\n",
       "      <td>[O, O, O, O, O, O, O, B-profession, I-professi...</td>\n",
       "    </tr>\n",
       "    <tr>\n",
       "      <th>496</th>\n",
       "      <td>[因, 為, 我, 是, 還, 是, 網, 球, 球, 員, 嘛]</td>\n",
       "      <td>[O, O, O, O, O, O, B-profession, I-profession,...</td>\n",
       "    </tr>\n",
       "    <tr>\n",
       "      <th>497</th>\n",
       "      <td>[醫, 師, ：, 你, 是, 採, 椰, 子, 工, 是, 不, 是]</td>\n",
       "      <td>[O, O, O, O, O, B-profession, I-profession, I-...</td>\n",
       "    </tr>\n",
       "    <tr>\n",
       "      <th>498</th>\n",
       "      <td>[安, 養, 院, 工, 作, 人, 員]</td>\n",
       "      <td>[B-profession, I-profession, I-profession, I-p...</td>\n",
       "    </tr>\n",
       "    <tr>\n",
       "      <th>499</th>\n",
       "      <td>[我, 在, 駕, 駛, 人, 員, 的]</td>\n",
       "      <td>[O, O, B-profession, I-profession, I-professio...</td>\n",
       "    </tr>\n",
       "  </tbody>\n",
       "</table>\n",
       "<p>78362 rows × 2 columns</p>\n",
       "</div>"
      ],
      "text/plain": [
       "                                           x  \\\n",
       "0             [醫, 師, ：, 你, 有, 做, 超, 音, 波, 嘛]   \n",
       "1                      [那, 我, 們, 來, 看, 報, 告]   \n",
       "2                   [有, 些, 部, 分, 有, 紅, 字, 耶]   \n",
       "3             [民, 眾, ：, 紅, 字, 是, 甚, 麼, 意, 思]   \n",
       "4       [醫, 師, ：, 就, 是, 肝, 功, 能, 有, 比, 較, 高]   \n",
       "..                                       ...   \n",
       "495  [那, 個, 時, 候, 是, 白, 天, 釣, 具, 製, 造, 工, 人]   \n",
       "496        [因, 為, 我, 是, 還, 是, 網, 球, 球, 員, 嘛]   \n",
       "497     [醫, 師, ：, 你, 是, 採, 椰, 子, 工, 是, 不, 是]   \n",
       "498                    [安, 養, 院, 工, 作, 人, 員]   \n",
       "499                    [我, 在, 駕, 駛, 人, 員, 的]   \n",
       "\n",
       "                                                     y  \n",
       "0                       [O, O, O, O, O, O, O, O, O, O]  \n",
       "1                                [O, O, O, O, O, O, O]  \n",
       "2                             [O, O, O, O, O, O, O, O]  \n",
       "3                       [O, O, O, O, O, O, O, O, O, O]  \n",
       "4                 [O, O, O, O, O, O, O, O, O, O, O, O]  \n",
       "..                                                 ...  \n",
       "495  [O, O, O, O, O, O, O, B-profession, I-professi...  \n",
       "496  [O, O, O, O, O, O, B-profession, I-profession,...  \n",
       "497  [O, O, O, O, O, B-profession, I-profession, I-...  \n",
       "498  [B-profession, I-profession, I-profession, I-p...  \n",
       "499  [O, O, B-profession, I-profession, I-professio...  \n",
       "\n",
       "[78362 rows x 2 columns]"
      ]
     },
     "execution_count": 13,
     "metadata": {},
     "output_type": "execute_result"
    }
   ],
   "source": [
    "df['x'] = df['x'].apply(lambda row : str(row))\n",
    "df['y'] = df['y'].apply(lambda row : str(row))\n",
    "# df = df.drop_duplicates()\n",
    "df['x'] = df['x'].apply(lambda row : eval(row))\n",
    "df['y'] = df['y'].apply(lambda row : eval(row))\n",
    "df"
   ]
  },
  {
   "cell_type": "code",
   "execution_count": 14,
   "metadata": {},
   "outputs": [],
   "source": [
    "x = df['x'].to_list()\n",
    "y = df['y'].to_list()"
   ]
  },
  {
   "cell_type": "code",
   "execution_count": 15,
   "metadata": {},
   "outputs": [
    {
     "name": "stdout",
     "output_type": "stream",
     "text": [
      "50151 50151\n",
      "12538 12538\n",
      "15673 15673\n"
     ]
    }
   ],
   "source": [
    "from sklearn.model_selection import train_test_split\n",
    "train_x, test_x, train_y, test_y = train_test_split(x, y, test_size=0.2, random_state=42)\n",
    "train_x, valid_x, train_y, valid_y = train_test_split(train_x, train_y, test_size=0.2, random_state=42)\n",
    "print(len(train_x), len(train_y))\n",
    "print(len(valid_x), len(valid_y))\n",
    "print(len(test_x), len(test_y))"
   ]
  },
  {
   "cell_type": "code",
   "execution_count": 16,
   "metadata": {
    "scrolled": true
   },
   "outputs": [
    {
     "name": "stderr",
     "output_type": "stream",
     "text": [
      "2020-12-17 17:05:43,369 [DEBUG] kashgari - ------------------------------------------------\n",
      "2020-12-17 17:05:43,370 [DEBUG] kashgari - Loaded transformer model's vocab\n",
      "2020-12-17 17:05:43,370 [DEBUG] kashgari - config_path       : /home/Danny/pretrain_model/bert-chinese/bert_config.json\n",
      "2020-12-17 17:05:43,370 [DEBUG] kashgari - vocab_path      : /home/Danny/pretrain_model/bert-chinese/vocab.txt\n",
      "2020-12-17 17:05:43,371 [DEBUG] kashgari - checkpoint_path : /home/Danny/pretrain_model/bert-chinese/bert_model.ckpt\n",
      "2020-12-17 17:05:43,371 [DEBUG] kashgari - Top 50 words    : ['[PAD]', '[unused1]', '[unused2]', '[unused3]', '[unused4]', '[unused5]', '[unused6]', '[unused7]', '[unused8]', '[unused9]', '[unused10]', '[unused11]', '[unused12]', '[unused13]', '[unused14]', '[unused15]', '[unused16]', '[unused17]', '[unused18]', '[unused19]', '[unused20]', '[unused21]', '[unused22]', '[unused23]', '[unused24]', '[unused25]', '[unused26]', '[unused27]', '[unused28]', '[unused29]', '[unused30]', '[unused31]', '[unused32]', '[unused33]', '[unused34]', '[unused35]', '[unused36]', '[unused37]', '[unused38]', '[unused39]', '[unused40]', '[unused41]', '[unused42]', '[unused43]', '[unused44]', '[unused45]', '[unused46]', '[unused47]', '[unused48]', '[unused49]']\n",
      "2020-12-17 17:05:43,371 [DEBUG] kashgari - ------------------------------------------------\n",
      "Preparing text vocab dict: 100%|██████████| 50151/50151 [00:00<00:00, 535590.99it/s]\n",
      "Preparing text vocab dict: 100%|██████████| 12538/12538 [00:00<00:00, 419745.09it/s]\n",
      "2020-12-17 17:05:43,499 [DEBUG] kashgari - --- Build vocab dict finished, Total: 1842 ---\n",
      "2020-12-17 17:05:43,500 [DEBUG] kashgari - Top-10: ['[PAD]', '[UNK]', '[CLS]', '[SEP]', '：', '師', '是', '民', '眾', '醫']\n",
      "Preparing text vocab dict: 100%|██████████| 50151/50151 [00:00<00:00, 682885.51it/s]\n",
      "Preparing text vocab dict: 100%|██████████| 12538/12538 [00:00<00:00, 716655.54it/s]\n",
      "2020-12-17 17:05:43,593 [DEBUG] kashgari - --- Build vocab dict finished, Total: 28 ---\n",
      "2020-12-17 17:05:43,594 [DEBUG] kashgari - Top-10: ['[PAD]', 'O', 'I-time', 'I-education', 'B-time', 'I-profession', 'I-clinical_event', 'I-med_exam', 'I-contact', 'I-name']\n",
      "Calculating sequence length: 100%|██████████| 50151/50151 [00:00<00:00, 1964442.18it/s]\n",
      "Calculating sequence length: 100%|██████████| 12538/12538 [00:00<00:00, 2075548.94it/s]\n",
      "2020-12-17 17:05:46,011 [DEBUG] kashgari - Calculated sequence length = 19\n",
      "2020-12-17 17:05:47,552 [DEBUG] kashgari - fit input shape: (2, 1024, 19)\n",
      "2020-12-17 17:05:47,552 [DEBUG] kashgari - fit input shape: (1024, 19)\n"
     ]
    },
    {
     "name": "stdout",
     "output_type": "stream",
     "text": [
      "Epoch 1/512\n",
      "48/48 [==============================] - 38s 784ms/step - loss: 2.2985 - accuracy: 0.9125 - val_loss: 25.5652 - val_accuracy: 0.9695\n",
      "Epoch 2/512\n",
      "48/48 [==============================] - 35s 726ms/step - loss: 0.7009 - accuracy: 0.9698 - val_loss: 25.4548 - val_accuracy: 0.9762\n",
      "Epoch 3/512\n",
      "48/48 [==============================] - 35s 728ms/step - loss: 0.4870 - accuracy: 0.9746 - val_loss: 25.3767 - val_accuracy: 0.9798\n",
      "Epoch 4/512\n",
      "48/48 [==============================] - 35s 732ms/step - loss: 0.3694 - accuracy: 0.9782 - val_loss: 25.2754 - val_accuracy: 0.9835\n",
      "Epoch 5/512\n",
      "48/48 [==============================] - 35s 735ms/step - loss: 0.2975 - accuracy: 0.9819 - val_loss: 25.1399 - val_accuracy: 0.9857\n",
      "Epoch 6/512\n",
      "48/48 [==============================] - 35s 735ms/step - loss: 0.2513 - accuracy: 0.9844 - val_loss: 25.0910 - val_accuracy: 0.9875\n",
      "Epoch 7/512\n",
      "48/48 [==============================] - 35s 736ms/step - loss: 0.2202 - accuracy: 0.9859 - val_loss: 25.0104 - val_accuracy: 0.9882\n",
      "Epoch 8/512\n",
      "48/48 [==============================] - 35s 736ms/step - loss: 0.1991 - accuracy: 0.9869 - val_loss: 24.9801 - val_accuracy: 0.9888\n",
      "Epoch 9/512\n",
      "48/48 [==============================] - 35s 737ms/step - loss: 0.1791 - accuracy: 0.9881 - val_loss: 24.8909 - val_accuracy: 0.9898\n",
      "Epoch 10/512\n",
      "48/48 [==============================] - 35s 738ms/step - loss: 0.1653 - accuracy: 0.9887 - val_loss: 24.8577 - val_accuracy: 0.9901\n",
      "Epoch 11/512\n",
      "48/48 [==============================] - 35s 738ms/step - loss: 0.1553 - accuracy: 0.9894 - val_loss: 24.7831 - val_accuracy: 0.9902\n",
      "Epoch 12/512\n",
      "48/48 [==============================] - 35s 737ms/step - loss: 0.1404 - accuracy: 0.9902 - val_loss: 24.7428 - val_accuracy: 0.9904\n",
      "Epoch 13/512\n",
      "48/48 [==============================] - 35s 738ms/step - loss: 0.1336 - accuracy: 0.9905 - val_loss: 24.6924 - val_accuracy: 0.9903\n",
      "Epoch 14/512\n",
      "48/48 [==============================] - 35s 737ms/step - loss: 0.1235 - accuracy: 0.9911 - val_loss: 24.6631 - val_accuracy: 0.9909\n",
      "Epoch 15/512\n",
      "48/48 [==============================] - 35s 739ms/step - loss: 0.1151 - accuracy: 0.9917 - val_loss: 24.6097 - val_accuracy: 0.9914\n",
      "Epoch 16/512\n",
      "48/48 [==============================] - 35s 739ms/step - loss: 0.1116 - accuracy: 0.9917 - val_loss: 24.5726 - val_accuracy: 0.9912\n",
      "Epoch 17/512\n",
      "48/48 [==============================] - 35s 739ms/step - loss: 0.1027 - accuracy: 0.9924 - val_loss: 24.5134 - val_accuracy: 0.9917\n",
      "Epoch 18/512\n",
      "48/48 [==============================] - 35s 739ms/step - loss: 0.0963 - accuracy: 0.9928 - val_loss: 24.4514 - val_accuracy: 0.9916\n",
      "Epoch 19/512\n",
      "48/48 [==============================] - 35s 739ms/step - loss: 0.0899 - accuracy: 0.9933 - val_loss: 24.4472 - val_accuracy: 0.9919\n",
      "Epoch 20/512\n",
      "48/48 [==============================] - 36s 741ms/step - loss: 0.0866 - accuracy: 0.9935 - val_loss: 24.3871 - val_accuracy: 0.9921\n",
      "Epoch 21/512\n",
      "48/48 [==============================] - 35s 739ms/step - loss: 0.0805 - accuracy: 0.9940 - val_loss: 24.3062 - val_accuracy: 0.9924\n",
      "Epoch 22/512\n",
      "48/48 [==============================] - 36s 740ms/step - loss: 0.0771 - accuracy: 0.9944 - val_loss: 24.2993 - val_accuracy: 0.9922\n",
      "Epoch 23/512\n",
      "48/48 [==============================] - 36s 740ms/step - loss: 0.0736 - accuracy: 0.9944 - val_loss: 24.2642 - val_accuracy: 0.9927\n",
      "Epoch 24/512\n",
      "48/48 [==============================] - 36s 740ms/step - loss: 0.0689 - accuracy: 0.9949 - val_loss: 24.2244 - val_accuracy: 0.9929\n",
      "Epoch 25/512\n",
      "48/48 [==============================] - 36s 741ms/step - loss: 0.0673 - accuracy: 0.9946 - val_loss: 24.1820 - val_accuracy: 0.9930\n",
      "Epoch 26/512\n",
      "48/48 [==============================] - 36s 740ms/step - loss: 0.0638 - accuracy: 0.9952 - val_loss: 24.1570 - val_accuracy: 0.9930\n",
      "Epoch 27/512\n",
      "48/48 [==============================] - 36s 742ms/step - loss: 0.0596 - accuracy: 0.9956 - val_loss: 24.1344 - val_accuracy: 0.9932\n",
      "Epoch 28/512\n",
      "48/48 [==============================] - 36s 742ms/step - loss: 0.0548 - accuracy: 0.9959 - val_loss: 24.0764 - val_accuracy: 0.9931\n",
      "Epoch 29/512\n",
      "48/48 [==============================] - 36s 742ms/step - loss: 0.0535 - accuracy: 0.9960 - val_loss: 24.0602 - val_accuracy: 0.9932\n",
      "Epoch 30/512\n",
      "48/48 [==============================] - 36s 742ms/step - loss: 0.0516 - accuracy: 0.9961 - val_loss: 24.0380 - val_accuracy: 0.9933\n",
      "Epoch 31/512\n",
      "48/48 [==============================] - 36s 742ms/step - loss: 0.0492 - accuracy: 0.9963 - val_loss: 23.9992 - val_accuracy: 0.9931\n",
      "Epoch 32/512\n",
      "48/48 [==============================] - 36s 742ms/step - loss: 0.0488 - accuracy: 0.9962 - val_loss: 23.9567 - val_accuracy: 0.9932\n",
      "Epoch 33/512\n",
      "48/48 [==============================] - 36s 742ms/step - loss: 0.0469 - accuracy: 0.9964 - val_loss: 23.9436 - val_accuracy: 0.9932\n",
      "Epoch 34/512\n",
      "48/48 [==============================] - 36s 742ms/step - loss: 0.0444 - accuracy: 0.9966 - val_loss: 23.9249 - val_accuracy: 0.9935\n",
      "Epoch 35/512\n",
      "48/48 [==============================] - 36s 743ms/step - loss: 0.0400 - accuracy: 0.9969 - val_loss: 23.8793 - val_accuracy: 0.9926\n",
      "Epoch 36/512\n",
      "48/48 [==============================] - 36s 742ms/step - loss: 0.0398 - accuracy: 0.9968 - val_loss: 23.8608 - val_accuracy: 0.9914\n",
      "Epoch 37/512\n",
      "48/48 [==============================] - 36s 742ms/step - loss: 0.0397 - accuracy: 0.9969 - val_loss: 23.7806 - val_accuracy: 0.9914\n",
      "Epoch 38/512\n",
      "48/48 [==============================] - 36s 742ms/step - loss: 0.0364 - accuracy: 0.9970 - val_loss: 23.7871 - val_accuracy: 0.9916\n",
      "Epoch 39/512\n",
      "48/48 [==============================] - 36s 743ms/step - loss: 0.0364 - accuracy: 0.9972 - val_loss: 23.7694 - val_accuracy: 0.9920\n",
      "Epoch 40/512\n",
      "48/48 [==============================] - 36s 742ms/step - loss: 0.0329 - accuracy: 0.9974 - val_loss: 23.7622 - val_accuracy: 0.9918\n",
      "Epoch 41/512\n",
      "48/48 [==============================] - 36s 742ms/step - loss: 0.0336 - accuracy: 0.9974 - val_loss: 23.7205 - val_accuracy: 0.9915\n",
      "Epoch 42/512\n",
      "48/48 [==============================] - 36s 742ms/step - loss: 0.0331 - accuracy: 0.9975 - val_loss: 23.7053 - val_accuracy: 0.9905\n",
      "Epoch 43/512\n",
      "48/48 [==============================] - 36s 743ms/step - loss: 0.0332 - accuracy: 0.9972 - val_loss: 23.6954 - val_accuracy: 0.9904\n",
      "Epoch 44/512\n",
      "48/48 [==============================] - 36s 742ms/step - loss: 0.0306 - accuracy: 0.9976 - val_loss: 23.6326 - val_accuracy: 0.9909\n",
      "Epoch 45/512\n",
      "48/48 [==============================] - 36s 742ms/step - loss: 0.0296 - accuracy: 0.9977 - val_loss: 23.6185 - val_accuracy: 0.9910\n",
      "Epoch 46/512\n",
      "48/48 [==============================] - 36s 742ms/step - loss: 0.0300 - accuracy: 0.9975 - val_loss: 23.6292 - val_accuracy: 0.9913\n",
      "Epoch 47/512\n",
      "48/48 [==============================] - 36s 742ms/step - loss: 0.0274 - accuracy: 0.9978 - val_loss: 23.5703 - val_accuracy: 0.9911\n",
      "Epoch 48/512\n",
      "48/48 [==============================] - 36s 742ms/step - loss: 0.0288 - accuracy: 0.9976 - val_loss: 23.5641 - val_accuracy: 0.9909\n",
      "Epoch 49/512\n",
      "48/48 [==============================] - 36s 743ms/step - loss: 0.0255 - accuracy: 0.9980 - val_loss: 23.5380 - val_accuracy: 0.9909\n",
      "Epoch 50/512\n",
      "48/48 [==============================] - 36s 744ms/step - loss: 0.0246 - accuracy: 0.9979 - val_loss: 23.5072 - val_accuracy: 0.9909\n",
      "Epoch 51/512\n",
      "48/48 [==============================] - 36s 743ms/step - loss: 0.0249 - accuracy: 0.9980 - val_loss: 23.5140 - val_accuracy: 0.9894\n",
      "Epoch 52/512\n",
      "48/48 [==============================] - 36s 742ms/step - loss: 0.0248 - accuracy: 0.9981 - val_loss: 23.4640 - val_accuracy: 0.9891\n",
      "Epoch 53/512\n",
      "48/48 [==============================] - 36s 743ms/step - loss: 0.0247 - accuracy: 0.9980 - val_loss: 23.4585 - val_accuracy: 0.9885\n",
      "Epoch 54/512\n",
      "48/48 [==============================] - 36s 744ms/step - loss: 0.0247 - accuracy: 0.9980 - val_loss: 23.3972 - val_accuracy: 0.9886\n",
      "Epoch 55/512\n",
      "48/48 [==============================] - 36s 742ms/step - loss: 0.0233 - accuracy: 0.9981 - val_loss: 23.3776 - val_accuracy: 0.9890\n",
      "Epoch 56/512\n",
      "48/48 [==============================] - 36s 742ms/step - loss: 0.0214 - accuracy: 0.9983 - val_loss: 23.3726 - val_accuracy: 0.9895\n",
      "Epoch 57/512\n"
     ]
    },
    {
     "name": "stdout",
     "output_type": "stream",
     "text": [
      "48/48 [==============================] - 36s 742ms/step - loss: 0.0225 - accuracy: 0.9982 - val_loss: 23.3312 - val_accuracy: 0.9895\n",
      "Epoch 58/512\n",
      "48/48 [==============================] - 36s 743ms/step - loss: 0.0234 - accuracy: 0.9981 - val_loss: 23.3117 - val_accuracy: 0.9896\n",
      "Epoch 59/512\n",
      "48/48 [==============================] - 36s 742ms/step - loss: 0.0218 - accuracy: 0.9981 - val_loss: 23.3084 - val_accuracy: 0.9895\n",
      "Epoch 60/512\n",
      "48/48 [==============================] - 36s 743ms/step - loss: 0.0219 - accuracy: 0.9982 - val_loss: 23.2775 - val_accuracy: 0.9893\n",
      "Epoch 61/512\n",
      "48/48 [==============================] - 36s 742ms/step - loss: 0.0207 - accuracy: 0.9982 - val_loss: 23.2728 - val_accuracy: 0.9880\n",
      "Epoch 62/512\n",
      "48/48 [==============================] - 36s 742ms/step - loss: 0.0205 - accuracy: 0.9983 - val_loss: 23.2355 - val_accuracy: 0.9879\n",
      "Epoch 63/512\n",
      "48/48 [==============================] - 36s 742ms/step - loss: 0.0201 - accuracy: 0.9982 - val_loss: 23.2063 - val_accuracy: 0.9876\n",
      "Epoch 64/512\n",
      "48/48 [==============================] - 36s 742ms/step - loss: 0.0208 - accuracy: 0.9983 - val_loss: 23.1962 - val_accuracy: 0.9877\n",
      "Epoch 65/512\n",
      "48/48 [==============================] - 36s 742ms/step - loss: 0.0188 - accuracy: 0.9984 - val_loss: 23.1667 - val_accuracy: 0.9876\n",
      "Epoch 66/512\n",
      "48/48 [==============================] - 36s 743ms/step - loss: 0.0172 - accuracy: 0.9985 - val_loss: 23.1562 - val_accuracy: 0.9874\n",
      "Epoch 67/512\n",
      "48/48 [==============================] - 36s 742ms/step - loss: 0.0176 - accuracy: 0.9985 - val_loss: 23.1461 - val_accuracy: 0.9862\n",
      "Epoch 68/512\n",
      "48/48 [==============================] - 36s 742ms/step - loss: 0.0173 - accuracy: 0.9984 - val_loss: 23.0993 - val_accuracy: 0.9838\n",
      "Epoch 69/512\n",
      "48/48 [==============================] - 36s 742ms/step - loss: 0.0169 - accuracy: 0.9985 - val_loss: 23.0882 - val_accuracy: 0.9789\n",
      "Epoch 70/512\n",
      "48/48 [==============================] - 36s 741ms/step - loss: 0.0177 - accuracy: 0.9984 - val_loss: 23.0509 - val_accuracy: 0.9771\n",
      "Epoch 71/512\n",
      "48/48 [==============================] - 36s 742ms/step - loss: 0.0169 - accuracy: 0.9984 - val_loss: 23.0330 - val_accuracy: 0.9741\n",
      "Epoch 72/512\n",
      "48/48 [==============================] - 36s 743ms/step - loss: 0.0168 - accuracy: 0.9984 - val_loss: 23.0351 - val_accuracy: 0.9728\n",
      "Epoch 73/512\n",
      "48/48 [==============================] - 36s 742ms/step - loss: 0.0173 - accuracy: 0.9983 - val_loss: 22.9994 - val_accuracy: 0.9741\n",
      "Epoch 74/512\n",
      "48/48 [==============================] - 36s 743ms/step - loss: 0.0152 - accuracy: 0.9986 - val_loss: 22.9799 - val_accuracy: 0.9738\n",
      "Epoch 75/512\n",
      "48/48 [==============================] - 36s 743ms/step - loss: 0.0163 - accuracy: 0.9986 - val_loss: 22.9770 - val_accuracy: 0.9743\n",
      "Epoch 76/512\n",
      "48/48 [==============================] - 36s 742ms/step - loss: 0.0159 - accuracy: 0.9986 - val_loss: 22.9654 - val_accuracy: 0.9741\n",
      "Epoch 77/512\n",
      "48/48 [==============================] - 36s 743ms/step - loss: 0.0146 - accuracy: 0.9987 - val_loss: 22.9289 - val_accuracy: 0.8110\n",
      "Epoch 78/512\n",
      "48/48 [==============================] - 36s 743ms/step - loss: 0.0149 - accuracy: 0.9987 - val_loss: 22.9215 - val_accuracy: 0.7650\n",
      "Epoch 79/512\n",
      "48/48 [==============================] - 36s 742ms/step - loss: 0.0147 - accuracy: 0.9986 - val_loss: 22.8573 - val_accuracy: 0.5719\n",
      "Epoch 80/512\n",
      "48/48 [==============================] - 36s 742ms/step - loss: 0.0151 - accuracy: 0.9987 - val_loss: 22.8515 - val_accuracy: 0.5343\n",
      "Epoch 81/512\n",
      "48/48 [==============================] - 36s 743ms/step - loss: 0.0154 - accuracy: 0.9985 - val_loss: 22.8361 - val_accuracy: 0.4555\n",
      "Epoch 82/512\n",
      "48/48 [==============================] - 36s 743ms/step - loss: 0.0141 - accuracy: 0.9986 - val_loss: 22.8220 - val_accuracy: 0.4104\n",
      "Epoch 83/512\n",
      "48/48 [==============================] - 36s 742ms/step - loss: 0.0142 - accuracy: 0.9987 - val_loss: 22.7755 - val_accuracy: 0.4094\n",
      "Epoch 84/512\n",
      "48/48 [==============================] - 36s 742ms/step - loss: 0.0138 - accuracy: 0.9987 - val_loss: 22.7837 - val_accuracy: 0.3636\n",
      "Epoch 85/512\n",
      "48/48 [==============================] - 36s 743ms/step - loss: 0.0149 - accuracy: 0.9986 - val_loss: 22.7657 - val_accuracy: 0.3638\n",
      "Epoch 86/512\n",
      "48/48 [==============================] - 36s 742ms/step - loss: 0.0137 - accuracy: 0.9987 - val_loss: 22.7369 - val_accuracy: 0.3239\n",
      "Epoch 87/512\n",
      "48/48 [==============================] - 36s 742ms/step - loss: 0.0131 - accuracy: 0.9987 - val_loss: 22.7130 - val_accuracy: 0.3228\n",
      "Epoch 88/512\n",
      "48/48 [==============================] - 36s 743ms/step - loss: 0.0125 - accuracy: 0.9988 - val_loss: 22.6872 - val_accuracy: 0.3206\n",
      "Epoch 89/512\n",
      "48/48 [==============================] - 36s 742ms/step - loss: 0.0135 - accuracy: 0.9986 - val_loss: 22.6751 - val_accuracy: 0.2764\n",
      "Epoch 90/512\n",
      "48/48 [==============================] - 36s 742ms/step - loss: 0.0142 - accuracy: 0.9987 - val_loss: 22.6554 - val_accuracy: 0.2738\n",
      "Epoch 91/512\n",
      "48/48 [==============================] - 36s 742ms/step - loss: 0.0135 - accuracy: 0.9986 - val_loss: 22.6112 - val_accuracy: 0.2675\n",
      "Epoch 92/512\n",
      "48/48 [==============================] - 36s 742ms/step - loss: 0.0140 - accuracy: 0.9986 - val_loss: 22.5964 - val_accuracy: 0.2668\n",
      "Epoch 93/512\n",
      "48/48 [==============================] - 36s 742ms/step - loss: 0.0133 - accuracy: 0.9987 - val_loss: 22.5912 - val_accuracy: 0.2229\n",
      "Epoch 94/512\n",
      "48/48 [==============================] - 36s 742ms/step - loss: 0.0134 - accuracy: 0.9987 - val_loss: 22.5599 - val_accuracy: 0.2230\n",
      "Epoch 95/512\n",
      "48/48 [==============================] - 36s 741ms/step - loss: 0.0132 - accuracy: 0.9986 - val_loss: 22.5425 - val_accuracy: 0.2218\n",
      "Epoch 96/512\n",
      "48/48 [==============================] - 36s 743ms/step - loss: 0.0136 - accuracy: 0.9987 - val_loss: 22.5101 - val_accuracy: 0.2186\n",
      "Epoch 97/512\n",
      "48/48 [==============================] - 36s 741ms/step - loss: 0.0138 - accuracy: 0.9986 - val_loss: 22.4774 - val_accuracy: 0.1510\n",
      "Epoch 98/512\n",
      "48/48 [==============================] - 36s 744ms/step - loss: 0.0137 - accuracy: 0.9986 - val_loss: 22.4683 - val_accuracy: 0.1483\n",
      "Epoch 99/512\n",
      "48/48 [==============================] - 36s 742ms/step - loss: 0.0131 - accuracy: 0.9986 - val_loss: 22.4015 - val_accuracy: 0.0864\n",
      "Epoch 100/512\n",
      "48/48 [==============================] - 36s 743ms/step - loss: 0.0128 - accuracy: 0.9986 - val_loss: 22.3892 - val_accuracy: 0.0859\n",
      "Epoch 101/512\n",
      "48/48 [==============================] - 36s 742ms/step - loss: 0.0131 - accuracy: 0.9986 - val_loss: 22.3990 - val_accuracy: 0.0842\n",
      "Epoch 102/512\n",
      "48/48 [==============================] - 36s 743ms/step - loss: 0.0133 - accuracy: 0.9986 - val_loss: 22.3545 - val_accuracy: 0.0811\n",
      "Epoch 103/512\n",
      "48/48 [==============================] - 36s 742ms/step - loss: 0.0131 - accuracy: 0.9986 - val_loss: 22.3097 - val_accuracy: 0.0802\n",
      "Epoch 104/512\n",
      "48/48 [==============================] - 36s 743ms/step - loss: 0.0136 - accuracy: 0.9985 - val_loss: 22.2851 - val_accuracy: 0.0773\n",
      "Epoch 105/512\n",
      "48/48 [==============================] - 36s 743ms/step - loss: 0.0135 - accuracy: 0.9985 - val_loss: 22.2446 - val_accuracy: 0.0763\n",
      "Epoch 106/512\n",
      "48/48 [==============================] - 36s 742ms/step - loss: 0.0122 - accuracy: 0.9988 - val_loss: 22.2408 - val_accuracy: 0.0657\n",
      "Epoch 107/512\n",
      "48/48 [==============================] - 36s 743ms/step - loss: 0.0123 - accuracy: 0.9987 - val_loss: 22.2063 - val_accuracy: 0.0665\n",
      "Epoch 108/512\n",
      "48/48 [==============================] - 36s 742ms/step - loss: 0.0108 - accuracy: 0.9987 - val_loss: 22.1891 - val_accuracy: 0.0660\n",
      "Epoch 109/512\n",
      "48/48 [==============================] - 36s 742ms/step - loss: 0.0111 - accuracy: 0.9988 - val_loss: 22.1511 - val_accuracy: 0.0632\n",
      "Epoch 110/512\n",
      "48/48 [==============================] - 36s 743ms/step - loss: 0.0107 - accuracy: 0.9988 - val_loss: 22.1473 - val_accuracy: 0.0619\n",
      "Epoch 111/512\n",
      "48/48 [==============================] - 36s 742ms/step - loss: 0.0107 - accuracy: 0.9988 - val_loss: 22.1106 - val_accuracy: 0.0628\n",
      "Epoch 112/512\n",
      "48/48 [==============================] - 36s 742ms/step - loss: 0.0105 - accuracy: 0.9988 - val_loss: 22.1030 - val_accuracy: 0.0617\n",
      "Epoch 113/512\n"
     ]
    },
    {
     "name": "stdout",
     "output_type": "stream",
     "text": [
      "48/48 [==============================] - 36s 742ms/step - loss: 0.0106 - accuracy: 0.9988 - val_loss: 22.0774 - val_accuracy: 0.0520\n",
      "Epoch 114/512\n",
      "48/48 [==============================] - 36s 742ms/step - loss: 0.0110 - accuracy: 0.9987 - val_loss: 22.0382 - val_accuracy: 0.0516\n",
      "Epoch 115/512\n",
      "48/48 [==============================] - 36s 743ms/step - loss: 0.0100 - accuracy: 0.9989 - val_loss: 22.0412 - val_accuracy: 0.0518\n",
      "Epoch 116/512\n",
      "48/48 [==============================] - 36s 742ms/step - loss: 0.0100 - accuracy: 0.9989 - val_loss: 22.0029 - val_accuracy: 0.0481\n",
      "Epoch 117/512\n",
      "48/48 [==============================] - 36s 741ms/step - loss: 0.0106 - accuracy: 0.9988 - val_loss: 21.9545 - val_accuracy: 0.0480\n",
      "Epoch 118/512\n",
      "48/48 [==============================] - 36s 741ms/step - loss: 0.0106 - accuracy: 0.9988 - val_loss: 21.9468 - val_accuracy: 0.0411\n",
      "Epoch 119/512\n",
      "48/48 [==============================] - 36s 747ms/step - loss: 0.0093 - accuracy: 0.9990 - val_loss: 21.9431 - val_accuracy: 0.0395\n",
      "Epoch 120/512\n",
      "48/48 [==============================] - 36s 742ms/step - loss: 0.0097 - accuracy: 0.9989 - val_loss: 21.9148 - val_accuracy: 0.0380\n",
      "Epoch 121/512\n",
      "48/48 [==============================] - 36s 742ms/step - loss: 0.0097 - accuracy: 0.9989 - val_loss: 21.8796 - val_accuracy: 0.0395\n",
      "Epoch 122/512\n",
      "48/48 [==============================] - 36s 743ms/step - loss: 0.0102 - accuracy: 0.9988 - val_loss: 21.8409 - val_accuracy: 0.0407\n",
      "Epoch 123/512\n",
      "48/48 [==============================] - 36s 742ms/step - loss: 0.0095 - accuracy: 0.9989 - val_loss: 21.8321 - val_accuracy: 0.0383\n",
      "Epoch 124/512\n",
      "48/48 [==============================] - 36s 743ms/step - loss: 0.0098 - accuracy: 0.9988 - val_loss: 21.7874 - val_accuracy: 0.0387\n",
      "Epoch 125/512\n",
      "48/48 [==============================] - 36s 743ms/step - loss: 0.0098 - accuracy: 0.9988 - val_loss: 21.7985 - val_accuracy: 0.0366\n",
      "Epoch 126/512\n",
      "48/48 [==============================] - 36s 743ms/step - loss: 0.0091 - accuracy: 0.9989 - val_loss: 21.7493 - val_accuracy: 0.0375\n",
      "Epoch 127/512\n",
      "48/48 [==============================] - 36s 743ms/step - loss: 0.0091 - accuracy: 0.9989 - val_loss: 21.7374 - val_accuracy: 0.0383\n",
      "Epoch 128/512\n",
      "48/48 [==============================] - 36s 741ms/step - loss: 0.0095 - accuracy: 0.9989 - val_loss: 21.7092 - val_accuracy: 0.0374\n",
      "Epoch 129/512\n",
      "48/48 [==============================] - 36s 743ms/step - loss: 0.0093 - accuracy: 0.9989 - val_loss: 21.6494 - val_accuracy: 0.0376\n",
      "Epoch 130/512\n",
      "48/48 [==============================] - 36s 742ms/step - loss: 0.0096 - accuracy: 0.9989 - val_loss: 21.6529 - val_accuracy: 0.0376\n",
      "Epoch 131/512\n",
      "48/48 [==============================] - 36s 741ms/step - loss: 0.0096 - accuracy: 0.9989 - val_loss: 21.6231 - val_accuracy: 0.0376\n",
      "Epoch 132/512\n",
      "48/48 [==============================] - 36s 742ms/step - loss: 0.0096 - accuracy: 0.9988 - val_loss: 21.5993 - val_accuracy: 0.0343\n",
      "Epoch 133/512\n",
      "48/48 [==============================] - 36s 742ms/step - loss: 0.0083 - accuracy: 0.9990 - val_loss: 21.5811 - val_accuracy: 0.0346\n",
      "Epoch 134/512\n",
      "48/48 [==============================] - 36s 742ms/step - loss: 0.0088 - accuracy: 0.9990 - val_loss: 21.5528 - val_accuracy: 0.0337\n",
      "Epoch 135/512\n",
      "48/48 [==============================] - 36s 742ms/step - loss: 0.0084 - accuracy: 0.9990 - val_loss: 21.5147 - val_accuracy: 0.0340\n",
      "Epoch 136/512\n",
      "48/48 [==============================] - 36s 742ms/step - loss: 0.0087 - accuracy: 0.9989 - val_loss: 21.5015 - val_accuracy: 0.0343\n",
      "Epoch 137/512\n",
      "48/48 [==============================] - 36s 741ms/step - loss: 0.0088 - accuracy: 0.9989 - val_loss: 21.4529 - val_accuracy: 0.0338\n",
      "Epoch 138/512\n",
      "48/48 [==============================] - 36s 742ms/step - loss: 0.0104 - accuracy: 0.9988 - val_loss: 21.4033 - val_accuracy: 0.0319\n",
      "Epoch 139/512\n",
      "48/48 [==============================] - 36s 742ms/step - loss: 0.0098 - accuracy: 0.9988 - val_loss: 21.4087 - val_accuracy: 0.0317\n",
      "Epoch 140/512\n",
      "48/48 [==============================] - 36s 742ms/step - loss: 0.0094 - accuracy: 0.9989 - val_loss: 21.3559 - val_accuracy: 0.0320\n",
      "Epoch 141/512\n",
      "48/48 [==============================] - 36s 742ms/step - loss: 0.0090 - accuracy: 0.9989 - val_loss: 21.3134 - val_accuracy: 0.0319\n",
      "Epoch 142/512\n",
      "48/48 [==============================] - 36s 743ms/step - loss: 0.0090 - accuracy: 0.9989 - val_loss: 21.3045 - val_accuracy: 0.0326\n",
      "Epoch 143/512\n",
      "48/48 [==============================] - 36s 743ms/step - loss: 0.0083 - accuracy: 0.9990 - val_loss: 21.2689 - val_accuracy: 0.0324\n",
      "Epoch 144/512\n",
      "48/48 [==============================] - 36s 742ms/step - loss: 0.0085 - accuracy: 0.9989 - val_loss: 21.2477 - val_accuracy: 0.0315\n",
      "Epoch 145/512\n",
      "48/48 [==============================] - 36s 741ms/step - loss: 0.0088 - accuracy: 0.9989 - val_loss: 21.2057 - val_accuracy: 0.0322\n",
      "Epoch 146/512\n",
      "48/48 [==============================] - 36s 742ms/step - loss: 0.0086 - accuracy: 0.9990 - val_loss: 21.1790 - val_accuracy: 0.0320\n",
      "Epoch 147/512\n",
      "48/48 [==============================] - 36s 742ms/step - loss: 0.0082 - accuracy: 0.9990 - val_loss: 21.1464 - val_accuracy: 0.0316\n",
      "Epoch 148/512\n",
      "48/48 [==============================] - 36s 742ms/step - loss: 0.0080 - accuracy: 0.9990 - val_loss: 21.1374 - val_accuracy: 0.0318\n",
      "Epoch 149/512\n",
      "48/48 [==============================] - 36s 741ms/step - loss: 0.0077 - accuracy: 0.9990 - val_loss: 21.1020 - val_accuracy: 0.0320\n",
      "Epoch 150/512\n",
      "48/48 [==============================] - 36s 741ms/step - loss: 0.0083 - accuracy: 0.9990 - val_loss: 21.0669 - val_accuracy: 0.0314\n",
      "Epoch 151/512\n",
      "48/48 [==============================] - 36s 742ms/step - loss: 0.0082 - accuracy: 0.9989 - val_loss: 21.0501 - val_accuracy: 0.0311\n",
      "Epoch 152/512\n",
      "48/48 [==============================] - 36s 742ms/step - loss: 0.0086 - accuracy: 0.9989 - val_loss: 21.0105 - val_accuracy: 0.0305\n",
      "Epoch 153/512\n",
      "48/48 [==============================] - 36s 742ms/step - loss: 0.0104 - accuracy: 0.9987 - val_loss: 20.9915 - val_accuracy: 0.0301\n",
      "Epoch 154/512\n",
      "48/48 [==============================] - 36s 741ms/step - loss: 0.0090 - accuracy: 0.9988 - val_loss: 20.9520 - val_accuracy: 0.0297\n",
      "Epoch 155/512\n",
      "48/48 [==============================] - 36s 743ms/step - loss: 0.0084 - accuracy: 0.9990 - val_loss: 20.9077 - val_accuracy: 0.0294\n",
      "Epoch 156/512\n",
      "48/48 [==============================] - 36s 742ms/step - loss: 0.0080 - accuracy: 0.9990 - val_loss: 20.9026 - val_accuracy: 0.0288\n",
      "Epoch 157/512\n",
      "48/48 [==============================] - 36s 742ms/step - loss: 0.0072 - accuracy: 0.9990 - val_loss: 20.8774 - val_accuracy: 0.0292\n",
      "Epoch 158/512\n",
      "48/48 [==============================] - 36s 741ms/step - loss: 0.0076 - accuracy: 0.9989 - val_loss: 20.8512 - val_accuracy: 0.0295\n",
      "Epoch 159/512\n",
      "48/48 [==============================] - 36s 741ms/step - loss: 0.0083 - accuracy: 0.9989 - val_loss: 20.8086 - val_accuracy: 0.0292\n",
      "Epoch 160/512\n",
      "48/48 [==============================] - 36s 742ms/step - loss: 0.0083 - accuracy: 0.9989 - val_loss: 20.7670 - val_accuracy: 0.0292\n",
      "Epoch 161/512\n",
      "48/48 [==============================] - 36s 742ms/step - loss: 0.0079 - accuracy: 0.9990 - val_loss: 20.7440 - val_accuracy: 0.0290\n",
      "Epoch 162/512\n",
      "48/48 [==============================] - 36s 741ms/step - loss: 0.0073 - accuracy: 0.9990 - val_loss: 20.7418 - val_accuracy: 0.0297\n",
      "Epoch 163/512\n",
      "48/48 [==============================] - 36s 741ms/step - loss: 0.0078 - accuracy: 0.9989 - val_loss: 20.6946 - val_accuracy: 0.0294\n",
      "Epoch 164/512\n",
      "48/48 [==============================] - 36s 743ms/step - loss: 0.0077 - accuracy: 0.9989 - val_loss: 20.6461 - val_accuracy: 0.0286\n",
      "Epoch 165/512\n",
      "48/48 [==============================] - 36s 743ms/step - loss: 0.0078 - accuracy: 0.9989 - val_loss: 20.6225 - val_accuracy: 0.0296\n",
      "Epoch 166/512\n",
      "48/48 [==============================] - 36s 742ms/step - loss: 0.0078 - accuracy: 0.9988 - val_loss: 20.5685 - val_accuracy: 0.0305\n",
      "Epoch 167/512\n",
      "48/48 [==============================] - 36s 747ms/step - loss: 0.0080 - accuracy: 0.9989 - val_loss: 20.5488 - val_accuracy: 0.0292\n",
      "Epoch 168/512\n",
      "48/48 [==============================] - 36s 741ms/step - loss: 0.0069 - accuracy: 0.9990 - val_loss: 20.5066 - val_accuracy: 0.0297\n"
     ]
    },
    {
     "name": "stdout",
     "output_type": "stream",
     "text": [
      "Epoch 169/512\n",
      "48/48 [==============================] - 36s 742ms/step - loss: 0.0078 - accuracy: 0.9989 - val_loss: 20.4862 - val_accuracy: 0.0291\n",
      "Epoch 170/512\n",
      "48/48 [==============================] - 36s 742ms/step - loss: 0.0067 - accuracy: 0.9990 - val_loss: 20.4672 - val_accuracy: 0.0296\n",
      "Epoch 171/512\n",
      "48/48 [==============================] - 36s 741ms/step - loss: 0.0073 - accuracy: 0.9990 - val_loss: 20.4264 - val_accuracy: 0.0298\n",
      "Epoch 172/512\n",
      "48/48 [==============================] - 36s 742ms/step - loss: 0.0074 - accuracy: 0.9989 - val_loss: 20.3957 - val_accuracy: 0.0298\n",
      "Epoch 173/512\n",
      "48/48 [==============================] - 36s 743ms/step - loss: 0.0071 - accuracy: 0.9990 - val_loss: 20.3505 - val_accuracy: 0.0296\n",
      "Epoch 174/512\n",
      "48/48 [==============================] - 36s 742ms/step - loss: 0.0072 - accuracy: 0.9989 - val_loss: 20.3417 - val_accuracy: 0.0295\n",
      "Epoch 175/512\n",
      "48/48 [==============================] - 36s 743ms/step - loss: 0.0075 - accuracy: 0.9990 - val_loss: 20.3319 - val_accuracy: 0.0297\n",
      "Epoch 176/512\n",
      "48/48 [==============================] - 36s 742ms/step - loss: 0.0077 - accuracy: 0.9988 - val_loss: 20.2724 - val_accuracy: 0.0301\n",
      "Epoch 177/512\n",
      "48/48 [==============================] - 36s 742ms/step - loss: 0.0074 - accuracy: 0.9989 - val_loss: 20.2411 - val_accuracy: 0.0290\n",
      "Epoch 178/512\n",
      "48/48 [==============================] - 36s 743ms/step - loss: 0.0069 - accuracy: 0.9990 - val_loss: 20.2100 - val_accuracy: 0.0300\n",
      "Epoch 179/512\n",
      "48/48 [==============================] - 36s 742ms/step - loss: 0.0075 - accuracy: 0.9990 - val_loss: 20.1718 - val_accuracy: 0.0295\n",
      "Epoch 180/512\n",
      "48/48 [==============================] - 36s 742ms/step - loss: 0.0079 - accuracy: 0.9990 - val_loss: 20.1646 - val_accuracy: 0.0290\n",
      "Epoch 181/512\n",
      "48/48 [==============================] - 36s 742ms/step - loss: 0.0075 - accuracy: 0.9989 - val_loss: 20.1038 - val_accuracy: 0.0294\n",
      "Epoch 182/512\n",
      "48/48 [==============================] - 36s 742ms/step - loss: 0.0073 - accuracy: 0.9990 - val_loss: 20.0672 - val_accuracy: 0.0288\n",
      "Epoch 183/512\n",
      "48/48 [==============================] - 36s 742ms/step - loss: 0.0069 - accuracy: 0.9990 - val_loss: 20.0531 - val_accuracy: 0.0293\n",
      "Epoch 184/512\n",
      "48/48 [==============================] - 36s 742ms/step - loss: 0.0070 - accuracy: 0.9990 - val_loss: 20.0116 - val_accuracy: 0.0294\n",
      "Epoch 185/512\n",
      "48/48 [==============================] - 36s 742ms/step - loss: 0.0067 - accuracy: 0.9990 - val_loss: 19.9715 - val_accuracy: 0.0286\n",
      "Epoch 186/512\n",
      "48/48 [==============================] - 36s 742ms/step - loss: 0.0071 - accuracy: 0.9990 - val_loss: 19.9441 - val_accuracy: 0.0293\n",
      "Epoch 187/512\n",
      "48/48 [==============================] - 36s 742ms/step - loss: 0.0071 - accuracy: 0.9989 - val_loss: 19.9180 - val_accuracy: 0.0291\n",
      "Epoch 188/512\n",
      "48/48 [==============================] - 36s 743ms/step - loss: 0.0079 - accuracy: 0.9988 - val_loss: 19.8528 - val_accuracy: 0.0288\n",
      "Epoch 189/512\n",
      "48/48 [==============================] - 36s 742ms/step - loss: 0.0076 - accuracy: 0.9989 - val_loss: 19.8716 - val_accuracy: 0.0262\n",
      "Epoch 190/512\n",
      "48/48 [==============================] - 36s 742ms/step - loss: 0.0069 - accuracy: 0.9990 - val_loss: 19.8040 - val_accuracy: 0.0259\n",
      "Epoch 191/512\n",
      "48/48 [==============================] - 36s 742ms/step - loss: 0.0066 - accuracy: 0.9990 - val_loss: 19.7878 - val_accuracy: 0.0264\n",
      "Epoch 192/512\n",
      "48/48 [==============================] - 36s 741ms/step - loss: 0.0071 - accuracy: 0.9990 - val_loss: 19.7624 - val_accuracy: 0.0263\n",
      "Epoch 193/512\n",
      "48/48 [==============================] - 36s 742ms/step - loss: 0.0072 - accuracy: 0.9988 - val_loss: 19.7230 - val_accuracy: 0.0265\n",
      "Epoch 194/512\n",
      "48/48 [==============================] - 36s 743ms/step - loss: 0.0068 - accuracy: 0.9990 - val_loss: 19.7106 - val_accuracy: 0.0262\n",
      "Epoch 195/512\n",
      "48/48 [==============================] - 36s 743ms/step - loss: 0.0073 - accuracy: 0.9989 - val_loss: 19.6730 - val_accuracy: 0.0267\n",
      "Epoch 196/512\n",
      "48/48 [==============================] - 36s 743ms/step - loss: 0.0070 - accuracy: 0.9990 - val_loss: 19.6577 - val_accuracy: 0.0266\n",
      "Epoch 197/512\n",
      "48/48 [==============================] - 36s 743ms/step - loss: 0.0062 - accuracy: 0.9991 - val_loss: 19.6139 - val_accuracy: 0.0272\n",
      "Epoch 198/512\n",
      "48/48 [==============================] - 36s 743ms/step - loss: 0.0076 - accuracy: 0.9989 - val_loss: 19.5920 - val_accuracy: 0.0273\n",
      "Epoch 199/512\n",
      "48/48 [==============================] - 36s 740ms/step - loss: 0.0066 - accuracy: 0.9990 - val_loss: 19.5373 - val_accuracy: 0.0261\n",
      "Epoch 200/512\n",
      "48/48 [==============================] - 36s 743ms/step - loss: 0.0064 - accuracy: 0.9990 - val_loss: 19.5206 - val_accuracy: 0.0275\n",
      "Epoch 201/512\n",
      "48/48 [==============================] - 36s 744ms/step - loss: 0.0062 - accuracy: 0.9991 - val_loss: 19.4949 - val_accuracy: 0.0270\n",
      "Epoch 202/512\n",
      "48/48 [==============================] - 36s 743ms/step - loss: 0.0065 - accuracy: 0.9990 - val_loss: 19.4546 - val_accuracy: 0.0272\n",
      "Epoch 203/512\n",
      "48/48 [==============================] - 36s 742ms/step - loss: 0.0068 - accuracy: 0.9990 - val_loss: 19.4257 - val_accuracy: 0.0273\n",
      "Epoch 204/512\n",
      "48/48 [==============================] - 36s 741ms/step - loss: 0.0066 - accuracy: 0.9990 - val_loss: 19.3884 - val_accuracy: 0.0271\n",
      "Epoch 205/512\n",
      "48/48 [==============================] - 36s 743ms/step - loss: 0.0066 - accuracy: 0.9990 - val_loss: 19.3650 - val_accuracy: 0.0271\n",
      "Epoch 206/512\n",
      "48/48 [==============================] - 36s 742ms/step - loss: 0.0066 - accuracy: 0.9989 - val_loss: 19.3246 - val_accuracy: 0.0273\n",
      "Epoch 207/512\n",
      "48/48 [==============================] - 36s 742ms/step - loss: 0.0058 - accuracy: 0.9991 - val_loss: 19.2805 - val_accuracy: 0.0270\n",
      "Epoch 208/512\n",
      "48/48 [==============================] - 36s 742ms/step - loss: 0.0068 - accuracy: 0.9990 - val_loss: 19.2595 - val_accuracy: 0.0265\n",
      "Epoch 209/512\n",
      "48/48 [==============================] - 36s 743ms/step - loss: 0.0075 - accuracy: 0.9988 - val_loss: 19.2287 - val_accuracy: 0.0271\n",
      "Epoch 210/512\n",
      "48/48 [==============================] - 36s 743ms/step - loss: 0.0068 - accuracy: 0.9989 - val_loss: 19.2098 - val_accuracy: 0.0271\n",
      "Epoch 211/512\n",
      "48/48 [==============================] - 36s 743ms/step - loss: 0.0063 - accuracy: 0.9990 - val_loss: 19.1634 - val_accuracy: 0.0273\n",
      "Epoch 212/512\n",
      "48/48 [==============================] - 36s 742ms/step - loss: 0.0064 - accuracy: 0.9990 - val_loss: 19.1368 - val_accuracy: 0.0271\n",
      "Epoch 213/512\n",
      "48/48 [==============================] - 36s 742ms/step - loss: 0.0060 - accuracy: 0.9990 - val_loss: 19.1318 - val_accuracy: 0.0270\n",
      "Epoch 214/512\n",
      "48/48 [==============================] - 36s 742ms/step - loss: 0.0062 - accuracy: 0.9990 - val_loss: 19.1016 - val_accuracy: 0.0268\n",
      "Epoch 215/512\n",
      "48/48 [==============================] - 36s 744ms/step - loss: 0.0065 - accuracy: 0.9990 - val_loss: 19.0525 - val_accuracy: 0.0269\n",
      "Epoch 216/512\n",
      "48/48 [==============================] - 36s 743ms/step - loss: 0.0059 - accuracy: 0.9991 - val_loss: 19.0389 - val_accuracy: 0.0264\n",
      "Epoch 217/512\n",
      "48/48 [==============================] - 36s 743ms/step - loss: 0.0062 - accuracy: 0.9990 - val_loss: 19.0389 - val_accuracy: 0.0218\n",
      "Epoch 218/512\n",
      "48/48 [==============================] - 36s 743ms/step - loss: 0.0060 - accuracy: 0.9990 - val_loss: 18.9953 - val_accuracy: 0.0214\n",
      "Epoch 219/512\n",
      "48/48 [==============================] - 36s 743ms/step - loss: 0.0065 - accuracy: 0.9990 - val_loss: 18.9712 - val_accuracy: 0.0214\n",
      "Epoch 220/512\n",
      "48/48 [==============================] - 36s 744ms/step - loss: 0.0058 - accuracy: 0.9991 - val_loss: 18.9406 - val_accuracy: 0.0212\n",
      "Epoch 221/512\n",
      "48/48 [==============================] - 36s 744ms/step - loss: 0.0070 - accuracy: 0.9989 - val_loss: 18.9166 - val_accuracy: 0.0215\n",
      "Epoch 222/512\n",
      "48/48 [==============================] - 36s 743ms/step - loss: 0.0073 - accuracy: 0.9989 - val_loss: 18.8777 - val_accuracy: 0.0204\n",
      "Epoch 223/512\n",
      "48/48 [==============================] - 36s 742ms/step - loss: 0.0065 - accuracy: 0.9990 - val_loss: 18.8459 - val_accuracy: 0.0212\n",
      "Epoch 224/512\n",
      "48/48 [==============================] - 36s 743ms/step - loss: 0.0068 - accuracy: 0.9989 - val_loss: 18.8197 - val_accuracy: 0.0213\n"
     ]
    },
    {
     "name": "stdout",
     "output_type": "stream",
     "text": [
      "Epoch 225/512\n",
      "48/48 [==============================] - 36s 743ms/step - loss: 0.0066 - accuracy: 0.9989 - val_loss: 18.7755 - val_accuracy: 0.0211\n",
      "Epoch 226/512\n",
      "48/48 [==============================] - 36s 742ms/step - loss: 0.0064 - accuracy: 0.9990 - val_loss: 18.7604 - val_accuracy: 0.0212\n",
      "Epoch 227/512\n",
      "48/48 [==============================] - 36s 741ms/step - loss: 0.0058 - accuracy: 0.9991 - val_loss: 18.7487 - val_accuracy: 0.0214\n",
      "Epoch 228/512\n",
      "48/48 [==============================] - 36s 742ms/step - loss: 0.0064 - accuracy: 0.9989 - val_loss: 18.7117 - val_accuracy: 0.0208\n",
      "Epoch 229/512\n",
      "48/48 [==============================] - 36s 744ms/step - loss: 0.0070 - accuracy: 0.9988 - val_loss: 18.6875 - val_accuracy: 0.0212\n",
      "Epoch 230/512\n",
      "48/48 [==============================] - 36s 744ms/step - loss: 0.0067 - accuracy: 0.9990 - val_loss: 18.6762 - val_accuracy: 0.0215\n",
      "Epoch 231/512\n",
      "48/48 [==============================] - 36s 743ms/step - loss: 0.0066 - accuracy: 0.9990 - val_loss: 18.6542 - val_accuracy: 0.0217\n",
      "Epoch 232/512\n",
      "48/48 [==============================] - 36s 741ms/step - loss: 0.0069 - accuracy: 0.9990 - val_loss: 18.6330 - val_accuracy: 0.0217\n",
      "Epoch 233/512\n",
      "48/48 [==============================] - 36s 741ms/step - loss: 0.0065 - accuracy: 0.9989 - val_loss: 18.5792 - val_accuracy: 0.0217\n",
      "Epoch 234/512\n",
      "48/48 [==============================] - 35s 739ms/step - loss: 0.0067 - accuracy: 0.9990 - val_loss: 18.5818 - val_accuracy: 0.0205\n",
      "Epoch 235/512\n",
      "48/48 [==============================] - 36s 742ms/step - loss: 0.0065 - accuracy: 0.9990 - val_loss: 18.5490 - val_accuracy: 0.0209\n",
      "Epoch 236/512\n",
      "48/48 [==============================] - 36s 741ms/step - loss: 0.0056 - accuracy: 0.9991 - val_loss: 18.5112 - val_accuracy: 0.0212\n",
      "Epoch 237/512\n",
      "48/48 [==============================] - 36s 740ms/step - loss: 0.0056 - accuracy: 0.9991 - val_loss: 18.4906 - val_accuracy: 0.0214\n",
      "Epoch 238/512\n",
      "48/48 [==============================] - 36s 740ms/step - loss: 0.0064 - accuracy: 0.9990 - val_loss: 18.4727 - val_accuracy: 0.0211\n",
      "Epoch 239/512\n",
      "48/48 [==============================] - 36s 740ms/step - loss: 0.0062 - accuracy: 0.9990 - val_loss: 18.4319 - val_accuracy: 0.0210\n",
      "Epoch 240/512\n",
      "48/48 [==============================] - 36s 740ms/step - loss: 0.0066 - accuracy: 0.9989 - val_loss: 18.4201 - val_accuracy: 0.0208\n",
      "Epoch 241/512\n",
      "48/48 [==============================] - 36s 740ms/step - loss: 0.0058 - accuracy: 0.9990 - val_loss: 18.3867 - val_accuracy: 0.0210\n",
      "Epoch 242/512\n",
      "48/48 [==============================] - 36s 740ms/step - loss: 0.0060 - accuracy: 0.9990 - val_loss: 18.3466 - val_accuracy: 0.0212\n",
      "Epoch 243/512\n",
      "48/48 [==============================] - 36s 740ms/step - loss: 0.0055 - accuracy: 0.9991 - val_loss: 18.3416 - val_accuracy: 0.0212\n",
      "Epoch 244/512\n",
      "48/48 [==============================] - 36s 740ms/step - loss: 0.0058 - accuracy: 0.9990 - val_loss: 18.3139 - val_accuracy: 0.0208\n",
      "Epoch 245/512\n",
      "48/48 [==============================] - 35s 739ms/step - loss: 0.0059 - accuracy: 0.9990 - val_loss: 18.3221 - val_accuracy: 0.0210\n",
      "Epoch 246/512\n",
      "48/48 [==============================] - 35s 739ms/step - loss: 0.0060 - accuracy: 0.9990 - val_loss: 18.3055 - val_accuracy: 0.0207\n",
      "Epoch 247/512\n",
      "48/48 [==============================] - 36s 740ms/step - loss: 0.0061 - accuracy: 0.9989 - val_loss: 18.2556 - val_accuracy: 0.0210\n",
      "Epoch 248/512\n",
      "48/48 [==============================] - 35s 739ms/step - loss: 0.0063 - accuracy: 0.9990 - val_loss: 18.2155 - val_accuracy: 0.0211\n",
      "Epoch 249/512\n",
      "48/48 [==============================] - 35s 739ms/step - loss: 0.0057 - accuracy: 0.9990 - val_loss: 18.2211 - val_accuracy: 0.0213\n",
      "Epoch 250/512\n",
      "48/48 [==============================] - 35s 739ms/step - loss: 0.0062 - accuracy: 0.9990 - val_loss: 18.2050 - val_accuracy: 0.0208\n",
      "Epoch 251/512\n",
      "48/48 [==============================] - 35s 738ms/step - loss: 0.0057 - accuracy: 0.9990 - val_loss: 18.1997 - val_accuracy: 0.0206\n",
      "Epoch 252/512\n",
      "48/48 [==============================] - 35s 738ms/step - loss: 0.0053 - accuracy: 0.9991 - val_loss: 18.1789 - val_accuracy: 0.0200\n",
      "Epoch 253/512\n",
      "48/48 [==============================] - 35s 739ms/step - loss: 0.0050 - accuracy: 0.9991 - val_loss: 18.1677 - val_accuracy: 0.0203\n",
      "Epoch 254/512\n",
      "48/48 [==============================] - 35s 739ms/step - loss: 0.0056 - accuracy: 0.9991 - val_loss: 18.1540 - val_accuracy: 0.0201\n",
      "Epoch 255/512\n",
      "48/48 [==============================] - 36s 741ms/step - loss: 0.0049 - accuracy: 0.9991 - val_loss: 18.1341 - val_accuracy: 0.0201\n",
      "Epoch 256/512\n",
      "48/48 [==============================] - 36s 745ms/step - loss: 0.0055 - accuracy: 0.9991 - val_loss: 18.1331 - val_accuracy: 0.0200\n",
      "Epoch 257/512\n",
      "48/48 [==============================] - 36s 740ms/step - loss: 0.0058 - accuracy: 0.9990 - val_loss: 18.1022 - val_accuracy: 0.0201\n",
      "Epoch 258/512\n",
      "48/48 [==============================] - 35s 739ms/step - loss: 0.0060 - accuracy: 0.9990 - val_loss: 18.0706 - val_accuracy: 0.0202\n",
      "Epoch 259/512\n",
      "48/48 [==============================] - 35s 739ms/step - loss: 0.0054 - accuracy: 0.9991 - val_loss: 18.0497 - val_accuracy: 0.0200\n",
      "Epoch 260/512\n",
      "48/48 [==============================] - 36s 740ms/step - loss: 0.0052 - accuracy: 0.9991 - val_loss: 18.0325 - val_accuracy: 0.0196\n",
      "Epoch 261/512\n",
      "48/48 [==============================] - 36s 741ms/step - loss: 0.0055 - accuracy: 0.9991 - val_loss: 17.9911 - val_accuracy: 0.0193\n",
      "Epoch 262/512\n",
      "48/48 [==============================] - 36s 740ms/step - loss: 0.0059 - accuracy: 0.9991 - val_loss: 17.9781 - val_accuracy: 0.0197\n",
      "Epoch 263/512\n",
      "48/48 [==============================] - 36s 740ms/step - loss: 0.0057 - accuracy: 0.9990 - val_loss: 17.9511 - val_accuracy: 0.0198\n",
      "Epoch 264/512\n",
      "48/48 [==============================] - 36s 740ms/step - loss: 0.0053 - accuracy: 0.9990 - val_loss: 17.9639 - val_accuracy: 0.0196\n",
      "Epoch 265/512\n",
      "48/48 [==============================] - 36s 740ms/step - loss: 0.0057 - accuracy: 0.9990 - val_loss: 17.9126 - val_accuracy: 0.0200\n",
      "Epoch 266/512\n",
      "48/48 [==============================] - 36s 740ms/step - loss: 0.0060 - accuracy: 0.9990 - val_loss: 17.9140 - val_accuracy: 0.0188\n",
      "Epoch 267/512\n",
      "48/48 [==============================] - 36s 741ms/step - loss: 0.0056 - accuracy: 0.9991 - val_loss: 17.8601 - val_accuracy: 0.0184\n",
      "Epoch 268/512\n",
      "48/48 [==============================] - 36s 741ms/step - loss: 0.0053 - accuracy: 0.9991 - val_loss: 17.8505 - val_accuracy: 0.0179\n",
      "Epoch 269/512\n",
      "48/48 [==============================] - 36s 740ms/step - loss: 0.0057 - accuracy: 0.9991 - val_loss: 17.8382 - val_accuracy: 0.0181\n",
      "Epoch 270/512\n",
      "48/48 [==============================] - 36s 741ms/step - loss: 0.0057 - accuracy: 0.9990 - val_loss: 17.8160 - val_accuracy: 0.0179\n",
      "Epoch 271/512\n",
      "48/48 [==============================] - 36s 741ms/step - loss: 0.0060 - accuracy: 0.9989 - val_loss: 17.7977 - val_accuracy: 0.0181\n",
      "Epoch 272/512\n",
      "48/48 [==============================] - 36s 740ms/step - loss: 0.0060 - accuracy: 0.9990 - val_loss: 17.7858 - val_accuracy: 0.0177\n",
      "Epoch 273/512\n",
      "48/48 [==============================] - 36s 740ms/step - loss: 0.0057 - accuracy: 0.9990 - val_loss: 17.7475 - val_accuracy: 0.0176\n",
      "Epoch 274/512\n",
      "48/48 [==============================] - 36s 740ms/step - loss: 0.0059 - accuracy: 0.9990 - val_loss: 17.7200 - val_accuracy: 0.0181\n",
      "Epoch 275/512\n",
      "48/48 [==============================] - 36s 740ms/step - loss: 0.0056 - accuracy: 0.9991 - val_loss: 17.7140 - val_accuracy: 0.0178\n",
      "Epoch 276/512\n",
      "48/48 [==============================] - 36s 741ms/step - loss: 0.0061 - accuracy: 0.9990 - val_loss: 17.6837 - val_accuracy: 0.0170\n",
      "Epoch 277/512\n",
      "48/48 [==============================] - 36s 741ms/step - loss: 0.0068 - accuracy: 0.9988 - val_loss: 17.6541 - val_accuracy: 0.0166\n",
      "Epoch 278/512\n",
      "48/48 [==============================] - 36s 741ms/step - loss: 0.0055 - accuracy: 0.9991 - val_loss: 17.6339 - val_accuracy: 0.0172\n",
      "Epoch 279/512\n",
      "48/48 [==============================] - 36s 740ms/step - loss: 0.0049 - accuracy: 0.9991 - val_loss: 17.6478 - val_accuracy: 0.0171\n",
      "Epoch 280/512\n",
      "48/48 [==============================] - 36s 740ms/step - loss: 0.0059 - accuracy: 0.9990 - val_loss: 17.6073 - val_accuracy: 0.0169\n"
     ]
    },
    {
     "name": "stdout",
     "output_type": "stream",
     "text": [
      "Epoch 281/512\n",
      "48/48 [==============================] - 36s 740ms/step - loss: 0.0052 - accuracy: 0.9991 - val_loss: 17.5833 - val_accuracy: 0.0165\n",
      "Epoch 282/512\n",
      "48/48 [==============================] - 36s 741ms/step - loss: 0.0055 - accuracy: 0.9991 - val_loss: 17.6015 - val_accuracy: 0.0160\n",
      "Epoch 283/512\n",
      "48/48 [==============================] - 36s 740ms/step - loss: 0.0057 - accuracy: 0.9990 - val_loss: 17.5745 - val_accuracy: 0.0166\n",
      "Epoch 284/512\n",
      "48/48 [==============================] - 36s 741ms/step - loss: 0.0060 - accuracy: 0.9990 - val_loss: 17.5260 - val_accuracy: 0.0169\n",
      "Epoch 285/512\n",
      "48/48 [==============================] - 36s 740ms/step - loss: 0.0057 - accuracy: 0.9991 - val_loss: 17.4920 - val_accuracy: 0.0168\n",
      "Epoch 286/512\n",
      "48/48 [==============================] - 36s 741ms/step - loss: 0.0056 - accuracy: 0.9990 - val_loss: 17.4934 - val_accuracy: 0.0168\n",
      "Epoch 287/512\n",
      "48/48 [==============================] - 36s 740ms/step - loss: 0.0048 - accuracy: 0.9991 - val_loss: 17.4819 - val_accuracy: 0.0171\n",
      "Epoch 288/512\n",
      "48/48 [==============================] - 36s 741ms/step - loss: 0.0051 - accuracy: 0.9990 - val_loss: 17.4880 - val_accuracy: 0.0171\n",
      "Epoch 289/512\n",
      "48/48 [==============================] - 35s 739ms/step - loss: 0.0056 - accuracy: 0.9990 - val_loss: 17.4392 - val_accuracy: 0.0172\n",
      "Epoch 290/512\n",
      "48/48 [==============================] - 36s 740ms/step - loss: 0.0056 - accuracy: 0.9991 - val_loss: 17.4506 - val_accuracy: 0.0167\n",
      "Epoch 291/512\n",
      "48/48 [==============================] - 35s 739ms/step - loss: 0.0050 - accuracy: 0.9991 - val_loss: 17.4415 - val_accuracy: 0.0169\n",
      "Epoch 292/512\n",
      "48/48 [==============================] - 36s 740ms/step - loss: 0.0052 - accuracy: 0.9990 - val_loss: 17.4364 - val_accuracy: 0.0169\n",
      "Epoch 293/512\n",
      "48/48 [==============================] - 36s 740ms/step - loss: 0.0050 - accuracy: 0.9991 - val_loss: 17.3853 - val_accuracy: 0.0170\n",
      "Epoch 294/512\n",
      "48/48 [==============================] - 36s 740ms/step - loss: 0.0053 - accuracy: 0.9990 - val_loss: 17.3706 - val_accuracy: 0.0163\n",
      "Epoch 295/512\n",
      "48/48 [==============================] - 36s 741ms/step - loss: 0.0052 - accuracy: 0.9991 - val_loss: 17.3627 - val_accuracy: 0.0167\n",
      "Epoch 296/512\n",
      "48/48 [==============================] - 36s 740ms/step - loss: 0.0050 - accuracy: 0.9991 - val_loss: 17.3468 - val_accuracy: 0.0164\n",
      "Epoch 297/512\n",
      "48/48 [==============================] - 36s 740ms/step - loss: 0.0058 - accuracy: 0.9989 - val_loss: 17.3210 - val_accuracy: 0.0153\n",
      "Epoch 298/512\n",
      "48/48 [==============================] - 36s 740ms/step - loss: 0.0052 - accuracy: 0.9991 - val_loss: 17.3095 - val_accuracy: 0.0151\n",
      "Epoch 299/512\n",
      "48/48 [==============================] - 36s 740ms/step - loss: 0.0058 - accuracy: 0.9990 - val_loss: 17.2881 - val_accuracy: 0.0154\n",
      "Epoch 300/512\n",
      "48/48 [==============================] - 36s 740ms/step - loss: 0.0061 - accuracy: 0.9989 - val_loss: 17.2716 - val_accuracy: 0.0153\n",
      "Epoch 301/512\n",
      "48/48 [==============================] - 36s 741ms/step - loss: 0.0058 - accuracy: 0.9989 - val_loss: 17.2349 - val_accuracy: 0.0142\n",
      "Epoch 302/512\n",
      "48/48 [==============================] - 36s 740ms/step - loss: 0.0053 - accuracy: 0.9990 - val_loss: 17.2099 - val_accuracy: 0.0145\n",
      "Epoch 303/512\n",
      "48/48 [==============================] - 36s 740ms/step - loss: 0.0052 - accuracy: 0.9991 - val_loss: 17.2084 - val_accuracy: 0.0146\n",
      "Epoch 304/512\n",
      "48/48 [==============================] - 36s 740ms/step - loss: 0.0052 - accuracy: 0.9991 - val_loss: 17.2076 - val_accuracy: 0.0152\n",
      "Epoch 305/512\n",
      "48/48 [==============================] - 35s 739ms/step - loss: 0.0050 - accuracy: 0.9990 - val_loss: 17.1780 - val_accuracy: 0.0146\n",
      "Epoch 306/512\n",
      "48/48 [==============================] - 36s 740ms/step - loss: 0.0059 - accuracy: 0.9990 - val_loss: 17.1844 - val_accuracy: 0.0150\n",
      "Epoch 307/512\n",
      "48/48 [==============================] - 36s 740ms/step - loss: 0.0055 - accuracy: 0.9990 - val_loss: 17.1608 - val_accuracy: 0.0141\n",
      "Epoch 308/512\n",
      "48/48 [==============================] - 35s 740ms/step - loss: 0.0053 - accuracy: 0.9991 - val_loss: 17.1413 - val_accuracy: 0.0136\n",
      "Epoch 309/512\n",
      "48/48 [==============================] - 36s 741ms/step - loss: 0.0046 - accuracy: 0.9991 - val_loss: 17.1488 - val_accuracy: 0.0133\n",
      "Epoch 310/512\n",
      "48/48 [==============================] - 36s 740ms/step - loss: 0.0056 - accuracy: 0.9990 - val_loss: 17.1200 - val_accuracy: 0.0140\n",
      "Epoch 311/512\n",
      "48/48 [==============================] - 36s 740ms/step - loss: 0.0053 - accuracy: 0.9991 - val_loss: 17.1125 - val_accuracy: 0.0137\n",
      "Epoch 312/512\n",
      "48/48 [==============================] - 36s 740ms/step - loss: 0.0056 - accuracy: 0.9991 - val_loss: 17.0927 - val_accuracy: 0.0136\n",
      "Epoch 313/512\n",
      "48/48 [==============================] - 36s 740ms/step - loss: 0.0047 - accuracy: 0.9992 - val_loss: 17.0738 - val_accuracy: 0.0131\n",
      "Epoch 314/512\n",
      "48/48 [==============================] - 36s 740ms/step - loss: 0.0050 - accuracy: 0.9991 - val_loss: 17.0630 - val_accuracy: 0.0130\n",
      "Epoch 315/512\n",
      "48/48 [==============================] - 36s 740ms/step - loss: 0.0049 - accuracy: 0.9990 - val_loss: 17.0508 - val_accuracy: 0.0132\n",
      "Epoch 316/512\n",
      "48/48 [==============================] - 36s 740ms/step - loss: 0.0053 - accuracy: 0.9991 - val_loss: 17.0465 - val_accuracy: 0.0134\n",
      "Epoch 317/512\n",
      "48/48 [==============================] - 36s 741ms/step - loss: 0.0057 - accuracy: 0.9990 - val_loss: 17.0105 - val_accuracy: 0.0130\n",
      "Epoch 318/512\n",
      "48/48 [==============================] - 36s 740ms/step - loss: 0.0057 - accuracy: 0.9989 - val_loss: 17.0180 - val_accuracy: 0.0121\n",
      "Epoch 319/512\n",
      "48/48 [==============================] - 36s 740ms/step - loss: 0.0058 - accuracy: 0.9990 - val_loss: 17.0013 - val_accuracy: 0.0128\n",
      "Epoch 320/512\n",
      "48/48 [==============================] - 35s 739ms/step - loss: 0.0053 - accuracy: 0.9990 - val_loss: 16.9720 - val_accuracy: 0.0130\n",
      "Epoch 321/512\n",
      "48/48 [==============================] - 36s 740ms/step - loss: 0.0051 - accuracy: 0.9991 - val_loss: 16.9285 - val_accuracy: 0.0137\n",
      "Epoch 322/512\n",
      "48/48 [==============================] - 35s 739ms/step - loss: 0.0049 - accuracy: 0.9991 - val_loss: 16.9435 - val_accuracy: 0.0132\n",
      "Epoch 323/512\n",
      "48/48 [==============================] - 35s 738ms/step - loss: 0.0047 - accuracy: 0.9991 - val_loss: 16.9555 - val_accuracy: 0.0133\n",
      "Epoch 324/512\n",
      "48/48 [==============================] - 35s 738ms/step - loss: 0.0054 - accuracy: 0.9989 - val_loss: 16.9584 - val_accuracy: 0.0134\n",
      "Epoch 325/512\n",
      "48/48 [==============================] - 35s 738ms/step - loss: 0.0053 - accuracy: 0.9991 - val_loss: 16.9106 - val_accuracy: 0.0130\n",
      "Epoch 326/512\n",
      "48/48 [==============================] - 35s 737ms/step - loss: 0.0047 - accuracy: 0.9991 - val_loss: 16.9132 - val_accuracy: 0.0134\n",
      "Epoch 327/512\n",
      "48/48 [==============================] - 35s 738ms/step - loss: 0.0050 - accuracy: 0.9991 - val_loss: 16.8974 - val_accuracy: 0.0133\n",
      "Epoch 328/512\n",
      "48/48 [==============================] - 35s 739ms/step - loss: 0.0057 - accuracy: 0.9989 - val_loss: 16.9090 - val_accuracy: 0.0129\n",
      "Epoch 329/512\n",
      "48/48 [==============================] - 35s 737ms/step - loss: 0.0057 - accuracy: 0.9990 - val_loss: 16.8753 - val_accuracy: 0.0130\n",
      "Epoch 330/512\n",
      "48/48 [==============================] - 35s 738ms/step - loss: 0.0057 - accuracy: 0.9989 - val_loss: 16.8634 - val_accuracy: 0.0128\n",
      "Epoch 331/512\n",
      "48/48 [==============================] - 35s 739ms/step - loss: 0.0049 - accuracy: 0.9991 - val_loss: 16.8455 - val_accuracy: 0.0131\n",
      "Epoch 332/512\n",
      "48/48 [==============================] - 35s 739ms/step - loss: 0.0045 - accuracy: 0.9991 - val_loss: 16.8745 - val_accuracy: 0.0129\n",
      "Epoch 333/512\n",
      "48/48 [==============================] - 36s 740ms/step - loss: 0.0046 - accuracy: 0.9992 - val_loss: 16.8342 - val_accuracy: 0.0131\n",
      "Epoch 334/512\n",
      "48/48 [==============================] - 35s 739ms/step - loss: 0.0050 - accuracy: 0.9991 - val_loss: 16.8507 - val_accuracy: 0.0131\n",
      "Epoch 335/512\n",
      "48/48 [==============================] - 36s 740ms/step - loss: 0.0058 - accuracy: 0.9990 - val_loss: 16.7968 - val_accuracy: 0.0132\n",
      "Epoch 336/512\n",
      "48/48 [==============================] - 36s 740ms/step - loss: 0.0053 - accuracy: 0.9990 - val_loss: 16.8122 - val_accuracy: 0.0130\n"
     ]
    },
    {
     "name": "stdout",
     "output_type": "stream",
     "text": [
      "Epoch 337/512\n",
      "48/48 [==============================] - 35s 739ms/step - loss: 0.0052 - accuracy: 0.9991 - val_loss: 16.7884 - val_accuracy: 0.0130\n",
      "Epoch 338/512\n",
      "48/48 [==============================] - 35s 739ms/step - loss: 0.0052 - accuracy: 0.9990 - val_loss: 16.7563 - val_accuracy: 0.0132\n",
      "Epoch 339/512\n",
      "48/48 [==============================] - 36s 740ms/step - loss: 0.0047 - accuracy: 0.9991 - val_loss: 16.7569 - val_accuracy: 0.0134\n",
      "Epoch 340/512\n",
      "48/48 [==============================] - 36s 740ms/step - loss: 0.0049 - accuracy: 0.9991 - val_loss: 16.7470 - val_accuracy: 0.0131\n",
      "Epoch 341/512\n",
      "48/48 [==============================] - 36s 741ms/step - loss: 0.0050 - accuracy: 0.9991 - val_loss: 16.7335 - val_accuracy: 0.0129\n",
      "Epoch 342/512\n",
      "48/48 [==============================] - 36s 740ms/step - loss: 0.0051 - accuracy: 0.9991 - val_loss: 16.7028 - val_accuracy: 0.0131\n",
      "Epoch 343/512\n",
      "48/48 [==============================] - 36s 741ms/step - loss: 0.0050 - accuracy: 0.9991 - val_loss: 16.7177 - val_accuracy: 0.0132\n",
      "Epoch 344/512\n",
      "48/48 [==============================] - 36s 741ms/step - loss: 0.0050 - accuracy: 0.9991 - val_loss: 16.6973 - val_accuracy: 0.0131\n",
      "Epoch 345/512\n",
      "48/48 [==============================] - 36s 740ms/step - loss: 0.0048 - accuracy: 0.9992 - val_loss: 16.6815 - val_accuracy: 0.0132\n",
      "Epoch 346/512\n",
      "48/48 [==============================] - 35s 739ms/step - loss: 0.0045 - accuracy: 0.9991 - val_loss: 16.6765 - val_accuracy: 0.0127\n",
      "Epoch 347/512\n",
      "48/48 [==============================] - 35s 739ms/step - loss: 0.0050 - accuracy: 0.9990 - val_loss: 16.6697 - val_accuracy: 0.0122\n",
      "Epoch 348/512\n",
      "48/48 [==============================] - 36s 740ms/step - loss: 0.0051 - accuracy: 0.9990 - val_loss: 16.6767 - val_accuracy: 0.0123\n",
      "Epoch 349/512\n",
      "48/48 [==============================] - 36s 741ms/step - loss: 0.0045 - accuracy: 0.9992 - val_loss: 16.6715 - val_accuracy: 0.0119\n",
      "Epoch 350/512\n",
      "48/48 [==============================] - 36s 740ms/step - loss: 0.0052 - accuracy: 0.9991 - val_loss: 16.6521 - val_accuracy: 0.0125\n",
      "Epoch 351/512\n",
      "48/48 [==============================] - 36s 740ms/step - loss: 0.0049 - accuracy: 0.9991 - val_loss: 16.6501 - val_accuracy: 0.0121\n",
      "Epoch 352/512\n",
      "48/48 [==============================] - 36s 740ms/step - loss: 0.0046 - accuracy: 0.9991 - val_loss: 16.6345 - val_accuracy: 0.0124\n",
      "Epoch 353/512\n",
      "48/48 [==============================] - 36s 740ms/step - loss: 0.0046 - accuracy: 0.9992 - val_loss: 16.6313 - val_accuracy: 0.0121\n",
      "Epoch 354/512\n",
      "48/48 [==============================] - 36s 742ms/step - loss: 0.0056 - accuracy: 0.9990 - val_loss: 16.6077 - val_accuracy: 0.0121\n",
      "Epoch 355/512\n",
      "48/48 [==============================] - 35s 740ms/step - loss: 0.0051 - accuracy: 0.9990 - val_loss: 16.5956 - val_accuracy: 0.0117\n",
      "Epoch 356/512\n",
      "48/48 [==============================] - 36s 740ms/step - loss: 0.0049 - accuracy: 0.9991 - val_loss: 16.5617 - val_accuracy: 0.0119\n",
      "Epoch 357/512\n",
      "48/48 [==============================] - 36s 740ms/step - loss: 0.0051 - accuracy: 0.9990 - val_loss: 16.5828 - val_accuracy: 0.0118\n",
      "Epoch 358/512\n",
      "48/48 [==============================] - 36s 740ms/step - loss: 0.0045 - accuracy: 0.9992 - val_loss: 16.5663 - val_accuracy: 0.0118\n",
      "Epoch 359/512\n",
      "48/48 [==============================] - 36s 741ms/step - loss: 0.0054 - accuracy: 0.9990 - val_loss: 16.5476 - val_accuracy: 0.0108\n",
      "Epoch 360/512\n",
      "48/48 [==============================] - 36s 741ms/step - loss: 0.0051 - accuracy: 0.9990 - val_loss: 16.5339 - val_accuracy: 0.0108\n",
      "Epoch 361/512\n",
      "48/48 [==============================] - 36s 740ms/step - loss: 0.0054 - accuracy: 0.9990 - val_loss: 16.5157 - val_accuracy: 0.0110\n",
      "Epoch 362/512\n",
      "48/48 [==============================] - 36s 741ms/step - loss: 0.0050 - accuracy: 0.9991 - val_loss: 16.5180 - val_accuracy: 0.0106\n",
      "Epoch 363/512\n",
      "48/48 [==============================] - 36s 741ms/step - loss: 0.0048 - accuracy: 0.9991 - val_loss: 16.5330 - val_accuracy: 0.0107\n",
      "Epoch 364/512\n",
      "48/48 [==============================] - 36s 740ms/step - loss: 0.0054 - accuracy: 0.9990 - val_loss: 16.4880 - val_accuracy: 0.0106\n",
      "Epoch 365/512\n",
      "48/48 [==============================] - 36s 740ms/step - loss: 0.0049 - accuracy: 0.9991 - val_loss: 16.4917 - val_accuracy: 0.0103\n",
      "Epoch 366/512\n",
      "48/48 [==============================] - 36s 740ms/step - loss: 0.0046 - accuracy: 0.9991 - val_loss: 16.4613 - val_accuracy: 0.0106\n",
      "Epoch 367/512\n",
      "48/48 [==============================] - 36s 740ms/step - loss: 0.0052 - accuracy: 0.9991 - val_loss: 16.4313 - val_accuracy: 0.0102\n",
      "Epoch 368/512\n",
      "48/48 [==============================] - 36s 741ms/step - loss: 0.0050 - accuracy: 0.9990 - val_loss: 16.4565 - val_accuracy: 0.0104\n",
      "Epoch 369/512\n",
      "48/48 [==============================] - 36s 740ms/step - loss: 0.0047 - accuracy: 0.9991 - val_loss: 16.4586 - val_accuracy: 0.0103\n",
      "Epoch 370/512\n",
      "48/48 [==============================] - 36s 740ms/step - loss: 0.0057 - accuracy: 0.9989 - val_loss: 16.4611 - val_accuracy: 0.0102\n",
      "Epoch 371/512\n",
      "48/48 [==============================] - 36s 740ms/step - loss: 0.0052 - accuracy: 0.9990 - val_loss: 16.4346 - val_accuracy: 0.0106\n",
      "Epoch 372/512\n",
      "48/48 [==============================] - 36s 741ms/step - loss: 0.0051 - accuracy: 0.9991 - val_loss: 16.4299 - val_accuracy: 0.0103\n",
      "Epoch 373/512\n",
      "48/48 [==============================] - 36s 740ms/step - loss: 0.0049 - accuracy: 0.9990 - val_loss: 16.4156 - val_accuracy: 0.0103\n",
      "Epoch 374/512\n",
      "48/48 [==============================] - 36s 740ms/step - loss: 0.0045 - accuracy: 0.9991 - val_loss: 16.4084 - val_accuracy: 0.0098\n",
      "Epoch 375/512\n",
      "48/48 [==============================] - 36s 740ms/step - loss: 0.0049 - accuracy: 0.9991 - val_loss: 16.4002 - val_accuracy: 0.0105\n",
      "Epoch 376/512\n",
      "48/48 [==============================] - 36s 741ms/step - loss: 0.0047 - accuracy: 0.9991 - val_loss: 16.4177 - val_accuracy: 0.0097\n",
      "Epoch 377/512\n",
      "48/48 [==============================] - 35s 739ms/step - loss: 0.0048 - accuracy: 0.9991 - val_loss: 16.3810 - val_accuracy: 0.0098\n",
      "Epoch 378/512\n",
      "48/48 [==============================] - 36s 741ms/step - loss: 0.0047 - accuracy: 0.9991 - val_loss: 16.3815 - val_accuracy: 0.0098\n",
      "Epoch 379/512\n",
      "48/48 [==============================] - 36s 740ms/step - loss: 0.0048 - accuracy: 0.9991 - val_loss: 16.3636 - val_accuracy: 0.0096\n",
      "Epoch 380/512\n",
      "48/48 [==============================] - 36s 741ms/step - loss: 0.0048 - accuracy: 0.9990 - val_loss: 16.3655 - val_accuracy: 0.0097\n",
      "Epoch 381/512\n",
      "48/48 [==============================] - 36s 741ms/step - loss: 0.0050 - accuracy: 0.9991 - val_loss: 16.3409 - val_accuracy: 0.0101\n",
      "Epoch 382/512\n",
      "48/48 [==============================] - 36s 741ms/step - loss: 0.0050 - accuracy: 0.9990 - val_loss: 16.3443 - val_accuracy: 0.0097\n",
      "Epoch 383/512\n",
      "48/48 [==============================] - 36s 740ms/step - loss: 0.0052 - accuracy: 0.9991 - val_loss: 16.3474 - val_accuracy: 0.0097\n",
      "Epoch 384/512\n",
      "48/48 [==============================] - 36s 740ms/step - loss: 0.0051 - accuracy: 0.9990 - val_loss: 16.3190 - val_accuracy: 0.0101\n",
      "Epoch 385/512\n",
      "48/48 [==============================] - 36s 740ms/step - loss: 0.0050 - accuracy: 0.9991 - val_loss: 16.2925 - val_accuracy: 0.0098\n",
      "Epoch 386/512\n",
      "48/48 [==============================] - 36s 740ms/step - loss: 0.0047 - accuracy: 0.9992 - val_loss: 16.2859 - val_accuracy: 0.0101\n",
      "Epoch 387/512\n",
      "48/48 [==============================] - 36s 740ms/step - loss: 0.0046 - accuracy: 0.9991 - val_loss: 16.2970 - val_accuracy: 0.0103\n",
      "Epoch 388/512\n",
      "48/48 [==============================] - 36s 740ms/step - loss: 0.0043 - accuracy: 0.9992 - val_loss: 16.2716 - val_accuracy: 0.0105\n",
      "Epoch 389/512\n",
      "48/48 [==============================] - 36s 741ms/step - loss: 0.0044 - accuracy: 0.9991 - val_loss: 16.2876 - val_accuracy: 0.0106\n",
      "Epoch 390/512\n",
      "48/48 [==============================] - 36s 740ms/step - loss: 0.0044 - accuracy: 0.9992 - val_loss: 16.2590 - val_accuracy: 0.0104\n",
      "Epoch 391/512\n",
      "48/48 [==============================] - 36s 740ms/step - loss: 0.0057 - accuracy: 0.9990 - val_loss: 16.2486 - val_accuracy: 0.0106\n",
      "Epoch 392/512\n",
      "48/48 [==============================] - 36s 740ms/step - loss: 0.0052 - accuracy: 0.9990 - val_loss: 16.2357 - val_accuracy: 0.0105\n"
     ]
    },
    {
     "name": "stdout",
     "output_type": "stream",
     "text": [
      "Epoch 393/512\n",
      "48/48 [==============================] - 36s 741ms/step - loss: 0.0043 - accuracy: 0.9991 - val_loss: 16.2136 - val_accuracy: 0.0106\n",
      "Epoch 394/512\n",
      "48/48 [==============================] - 36s 740ms/step - loss: 0.0042 - accuracy: 0.9992 - val_loss: 16.1758 - val_accuracy: 0.0105\n",
      "Epoch 395/512\n",
      "48/48 [==============================] - 36s 741ms/step - loss: 0.0050 - accuracy: 0.9990 - val_loss: 16.1830 - val_accuracy: 0.0104\n",
      "Epoch 396/512\n",
      "48/48 [==============================] - 36s 741ms/step - loss: 0.0046 - accuracy: 0.9990 - val_loss: 16.1895 - val_accuracy: 0.0103\n",
      "Epoch 397/512\n",
      "48/48 [==============================] - 36s 740ms/step - loss: 0.0045 - accuracy: 0.9991 - val_loss: 16.1558 - val_accuracy: 0.0102\n",
      "Epoch 398/512\n",
      "48/48 [==============================] - 36s 740ms/step - loss: 0.0042 - accuracy: 0.9991 - val_loss: 16.1210 - val_accuracy: 0.0101\n",
      "Epoch 399/512\n",
      "48/48 [==============================] - 36s 740ms/step - loss: 0.0045 - accuracy: 0.9991 - val_loss: 16.1185 - val_accuracy: 0.0099\n",
      "Epoch 400/512\n",
      "48/48 [==============================] - 36s 740ms/step - loss: 0.0049 - accuracy: 0.9991 - val_loss: 16.1169 - val_accuracy: 0.0091\n",
      "Epoch 401/512\n",
      "48/48 [==============================] - 36s 741ms/step - loss: 0.0042 - accuracy: 0.9992 - val_loss: 16.1118 - val_accuracy: 0.0098\n",
      "Epoch 402/512\n",
      "48/48 [==============================] - 36s 740ms/step - loss: 0.0050 - accuracy: 0.9991 - val_loss: 16.1061 - val_accuracy: 0.0093\n",
      "Epoch 403/512\n",
      "48/48 [==============================] - 36s 740ms/step - loss: 0.0049 - accuracy: 0.9990 - val_loss: 16.0834 - val_accuracy: 0.0094\n",
      "Epoch 404/512\n",
      "48/48 [==============================] - 36s 741ms/step - loss: 0.0048 - accuracy: 0.9991 - val_loss: 16.0787 - val_accuracy: 0.0085\n",
      "Epoch 405/512\n",
      "48/48 [==============================] - 36s 740ms/step - loss: 0.0041 - accuracy: 0.9992 - val_loss: 16.0885 - val_accuracy: 0.0097\n",
      "Epoch 406/512\n",
      "48/48 [==============================] - 36s 741ms/step - loss: 0.0046 - accuracy: 0.9992 - val_loss: 16.0685 - val_accuracy: 0.0100\n",
      "Epoch 407/512\n",
      "48/48 [==============================] - 36s 741ms/step - loss: 0.0049 - accuracy: 0.9991 - val_loss: 16.0800 - val_accuracy: 0.0088\n",
      "Epoch 408/512\n",
      "48/48 [==============================] - 36s 740ms/step - loss: 0.0045 - accuracy: 0.9991 - val_loss: 16.0497 - val_accuracy: 0.0102\n",
      "Epoch 409/512\n",
      "48/48 [==============================] - 36s 740ms/step - loss: 0.0044 - accuracy: 0.9991 - val_loss: 16.0484 - val_accuracy: 0.0101\n",
      "Epoch 410/512\n",
      "48/48 [==============================] - 36s 740ms/step - loss: 0.0047 - accuracy: 0.9991 - val_loss: 16.0344 - val_accuracy: 0.0094\n",
      "Epoch 411/512\n",
      "48/48 [==============================] - 36s 741ms/step - loss: 0.0049 - accuracy: 0.9991 - val_loss: 16.0453 - val_accuracy: 0.0100\n",
      "Epoch 412/512\n",
      "48/48 [==============================] - 36s 741ms/step - loss: 0.0051 - accuracy: 0.9991 - val_loss: 16.0239 - val_accuracy: 0.0101\n",
      "Epoch 413/512\n",
      "48/48 [==============================] - 36s 740ms/step - loss: 0.0045 - accuracy: 0.9991 - val_loss: 16.0291 - val_accuracy: 0.0101\n",
      "Epoch 414/512\n",
      "48/48 [==============================] - 36s 740ms/step - loss: 0.0046 - accuracy: 0.9991 - val_loss: 16.0413 - val_accuracy: 0.0100\n",
      "Epoch 415/512\n",
      "48/48 [==============================] - 36s 740ms/step - loss: 0.0041 - accuracy: 0.9991 - val_loss: 16.0102 - val_accuracy: 0.0100\n",
      "Epoch 416/512\n",
      "48/48 [==============================] - 36s 740ms/step - loss: 0.0039 - accuracy: 0.9992 - val_loss: 15.9883 - val_accuracy: 0.0098\n",
      "Epoch 417/512\n",
      "48/48 [==============================] - 36s 740ms/step - loss: 0.0046 - accuracy: 0.9991 - val_loss: 15.9977 - val_accuracy: 0.0096\n",
      "Epoch 418/512\n",
      "48/48 [==============================] - 36s 740ms/step - loss: 0.0047 - accuracy: 0.9991 - val_loss: 15.9905 - val_accuracy: 0.0098\n",
      "Epoch 419/512\n",
      "48/48 [==============================] - 36s 740ms/step - loss: 0.0045 - accuracy: 0.9991 - val_loss: 15.9723 - val_accuracy: 0.0094\n",
      "Epoch 420/512\n",
      "48/48 [==============================] - 36s 740ms/step - loss: 0.0043 - accuracy: 0.9992 - val_loss: 15.9540 - val_accuracy: 0.0096\n",
      "Epoch 421/512\n",
      "48/48 [==============================] - 36s 740ms/step - loss: 0.0046 - accuracy: 0.9992 - val_loss: 15.9251 - val_accuracy: 0.0094\n",
      "Epoch 422/512\n",
      "48/48 [==============================] - 36s 740ms/step - loss: 0.0046 - accuracy: 0.9991 - val_loss: 15.9435 - val_accuracy: 0.0097\n",
      "Epoch 423/512\n",
      "48/48 [==============================] - 36s 741ms/step - loss: 0.0045 - accuracy: 0.9990 - val_loss: 15.9301 - val_accuracy: 0.0087\n",
      "Epoch 424/512\n",
      "48/48 [==============================] - 36s 741ms/step - loss: 0.0046 - accuracy: 0.9991 - val_loss: 15.9504 - val_accuracy: 0.0090\n",
      "Epoch 425/512\n",
      "48/48 [==============================] - 36s 740ms/step - loss: 0.0047 - accuracy: 0.9990 - val_loss: 15.9335 - val_accuracy: 0.0086\n",
      "Epoch 426/512\n",
      "48/48 [==============================] - 36s 741ms/step - loss: 0.0049 - accuracy: 0.9990 - val_loss: 15.8931 - val_accuracy: 0.0088\n",
      "Epoch 427/512\n",
      "48/48 [==============================] - 36s 740ms/step - loss: 0.0049 - accuracy: 0.9991 - val_loss: 15.8854 - val_accuracy: 0.0094\n",
      "Epoch 428/512\n",
      "48/48 [==============================] - 36s 740ms/step - loss: 0.0048 - accuracy: 0.9991 - val_loss: 15.8993 - val_accuracy: 0.0084\n",
      "Epoch 429/512\n",
      "48/48 [==============================] - 35s 739ms/step - loss: 0.0052 - accuracy: 0.9990 - val_loss: 15.8972 - val_accuracy: 0.0086\n",
      "Epoch 430/512\n",
      "48/48 [==============================] - 36s 740ms/step - loss: 0.0055 - accuracy: 0.9990 - val_loss: 15.8984 - val_accuracy: 0.0084\n",
      "Epoch 431/512\n",
      "48/48 [==============================] - 36s 740ms/step - loss: 0.0052 - accuracy: 0.9990 - val_loss: 15.8735 - val_accuracy: 0.0079\n",
      "Epoch 432/512\n",
      "48/48 [==============================] - 36s 740ms/step - loss: 0.0045 - accuracy: 0.9991 - val_loss: 15.8574 - val_accuracy: 0.0087\n",
      "Epoch 433/512\n",
      "48/48 [==============================] - 36s 740ms/step - loss: 0.0046 - accuracy: 0.9991 - val_loss: 15.8474 - val_accuracy: 0.0084\n",
      "Epoch 434/512\n",
      "48/48 [==============================] - 36s 741ms/step - loss: 0.0048 - accuracy: 0.9991 - val_loss: 15.8613 - val_accuracy: 0.0085\n",
      "Epoch 435/512\n",
      "48/48 [==============================] - 36s 740ms/step - loss: 0.0045 - accuracy: 0.9991 - val_loss: 15.8317 - val_accuracy: 0.0078\n",
      "Epoch 436/512\n",
      "48/48 [==============================] - 35s 739ms/step - loss: 0.0045 - accuracy: 0.9992 - val_loss: 15.8199 - val_accuracy: 0.0076\n",
      "Epoch 437/512\n",
      "48/48 [==============================] - 36s 740ms/step - loss: 0.0046 - accuracy: 0.9992 - val_loss: 15.8321 - val_accuracy: 0.0079\n",
      "Epoch 438/512\n",
      "48/48 [==============================] - 35s 739ms/step - loss: 0.0043 - accuracy: 0.9992 - val_loss: 15.8443 - val_accuracy: 0.0077\n",
      "Epoch 439/512\n",
      "48/48 [==============================] - 36s 740ms/step - loss: 0.0047 - accuracy: 0.9990 - val_loss: 15.8352 - val_accuracy: 0.0087\n",
      "Epoch 440/512\n",
      "48/48 [==============================] - 35s 739ms/step - loss: 0.0045 - accuracy: 0.9992 - val_loss: 15.8346 - val_accuracy: 0.0084\n",
      "Epoch 441/512\n",
      "48/48 [==============================] - 35s 740ms/step - loss: 0.0044 - accuracy: 0.9991 - val_loss: 15.8327 - val_accuracy: 0.0083\n",
      "Epoch 442/512\n",
      "48/48 [==============================] - 36s 740ms/step - loss: 0.0045 - accuracy: 0.9991 - val_loss: 15.7878 - val_accuracy: 0.0085\n",
      "Epoch 443/512\n",
      "48/48 [==============================] - 36s 740ms/step - loss: 0.0042 - accuracy: 0.9992 - val_loss: 15.7755 - val_accuracy: 0.0083\n",
      "Epoch 444/512\n",
      "48/48 [==============================] - 36s 740ms/step - loss: 0.0042 - accuracy: 0.9992 - val_loss: 15.7673 - val_accuracy: 0.0081\n",
      "Epoch 445/512\n",
      "48/48 [==============================] - 36s 741ms/step - loss: 0.0047 - accuracy: 0.9990 - val_loss: 15.7607 - val_accuracy: 0.0084\n",
      "Epoch 446/512\n",
      "48/48 [==============================] - 36s 740ms/step - loss: 0.0048 - accuracy: 0.9991 - val_loss: 15.7596 - val_accuracy: 0.0082\n",
      "Epoch 447/512\n",
      "48/48 [==============================] - 35s 739ms/step - loss: 0.0052 - accuracy: 0.9990 - val_loss: 15.7548 - val_accuracy: 0.0082\n",
      "Epoch 448/512\n",
      "48/48 [==============================] - 35s 739ms/step - loss: 0.0050 - accuracy: 0.9990 - val_loss: 15.7332 - val_accuracy: 0.0084\n"
     ]
    },
    {
     "name": "stdout",
     "output_type": "stream",
     "text": [
      "Epoch 449/512\n",
      "48/48 [==============================] - 36s 740ms/step - loss: 0.0047 - accuracy: 0.9991 - val_loss: 15.7226 - val_accuracy: 0.0082\n",
      "Epoch 450/512\n",
      "48/48 [==============================] - 35s 739ms/step - loss: 0.0048 - accuracy: 0.9990 - val_loss: 15.7157 - val_accuracy: 0.0081\n",
      "Epoch 451/512\n",
      "48/48 [==============================] - 35s 740ms/step - loss: 0.0046 - accuracy: 0.9991 - val_loss: 15.7249 - val_accuracy: 0.0078\n",
      "Epoch 452/512\n",
      "48/48 [==============================] - 36s 740ms/step - loss: 0.0042 - accuracy: 0.9991 - val_loss: 15.7023 - val_accuracy: 0.0082\n",
      "Epoch 453/512\n",
      "48/48 [==============================] - 35s 740ms/step - loss: 0.0048 - accuracy: 0.9991 - val_loss: 15.6898 - val_accuracy: 0.0077\n",
      "Epoch 454/512\n",
      "48/48 [==============================] - 36s 741ms/step - loss: 0.0044 - accuracy: 0.9991 - val_loss: 15.7229 - val_accuracy: 0.0068\n",
      "Epoch 455/512\n",
      "48/48 [==============================] - 35s 739ms/step - loss: 0.0043 - accuracy: 0.9992 - val_loss: 15.7000 - val_accuracy: 0.0070\n",
      "Epoch 456/512\n",
      "48/48 [==============================] - 35s 739ms/step - loss: 0.0044 - accuracy: 0.9991 - val_loss: 15.7176 - val_accuracy: 0.0071\n",
      "Epoch 457/512\n",
      "48/48 [==============================] - 36s 740ms/step - loss: 0.0040 - accuracy: 0.9992 - val_loss: 15.6873 - val_accuracy: 0.0066\n",
      "Epoch 458/512\n",
      "48/48 [==============================] - 36s 740ms/step - loss: 0.0047 - accuracy: 0.9991 - val_loss: 15.7212 - val_accuracy: 0.0071\n",
      "Epoch 459/512\n",
      "48/48 [==============================] - 35s 740ms/step - loss: 0.0048 - accuracy: 0.9991 - val_loss: 15.7087 - val_accuracy: 0.0070\n",
      "Epoch 460/512\n",
      "48/48 [==============================] - 35s 739ms/step - loss: 0.0045 - accuracy: 0.9992 - val_loss: 15.6842 - val_accuracy: 0.0066\n",
      "Epoch 461/512\n",
      "48/48 [==============================] - 35s 739ms/step - loss: 0.0044 - accuracy: 0.9992 - val_loss: 15.7093 - val_accuracy: 0.0066\n",
      "Epoch 462/512\n",
      "48/48 [==============================] - 36s 740ms/step - loss: 0.0046 - accuracy: 0.9991 - val_loss: 15.6660 - val_accuracy: 0.0066\n",
      "Epoch 463/512\n",
      "48/48 [==============================] - 36s 740ms/step - loss: 0.0046 - accuracy: 0.9991 - val_loss: 15.6733 - val_accuracy: 0.0067\n",
      "Epoch 464/512\n",
      "48/48 [==============================] - 35s 739ms/step - loss: 0.0046 - accuracy: 0.9991 - val_loss: 15.6349 - val_accuracy: 0.0067\n",
      "Epoch 465/512\n",
      "48/48 [==============================] - 35s 739ms/step - loss: 0.0046 - accuracy: 0.9990 - val_loss: 15.6364 - val_accuracy: 0.0068\n",
      "Epoch 466/512\n",
      "48/48 [==============================] - 36s 740ms/step - loss: 0.0050 - accuracy: 0.9990 - val_loss: 15.6424 - val_accuracy: 0.0059\n",
      "Epoch 467/512\n",
      "48/48 [==============================] - 36s 741ms/step - loss: 0.0049 - accuracy: 0.9991 - val_loss: 15.6426 - val_accuracy: 0.0060\n",
      "Epoch 468/512\n",
      "48/48 [==============================] - 36s 741ms/step - loss: 0.0043 - accuracy: 0.9990 - val_loss: 15.6405 - val_accuracy: 0.0061\n",
      "Epoch 469/512\n",
      "48/48 [==============================] - 35s 739ms/step - loss: 0.0042 - accuracy: 0.9992 - val_loss: 15.6191 - val_accuracy: 0.0060\n",
      "Epoch 470/512\n",
      "48/48 [==============================] - 36s 740ms/step - loss: 0.0042 - accuracy: 0.9992 - val_loss: 15.6525 - val_accuracy: 0.0060\n",
      "Epoch 471/512\n",
      "48/48 [==============================] - 36s 741ms/step - loss: 0.0040 - accuracy: 0.9992 - val_loss: 15.6012 - val_accuracy: 0.0061\n",
      "Epoch 472/512\n",
      "48/48 [==============================] - 35s 740ms/step - loss: 0.0044 - accuracy: 0.9991 - val_loss: 15.6145 - val_accuracy: 0.0063\n",
      "Epoch 473/512\n",
      "48/48 [==============================] - 36s 740ms/step - loss: 0.0046 - accuracy: 0.9990 - val_loss: 15.6184 - val_accuracy: 0.0061\n",
      "Epoch 474/512\n",
      "48/48 [==============================] - 36s 740ms/step - loss: 0.0043 - accuracy: 0.9992 - val_loss: 15.6136 - val_accuracy: 0.0062\n",
      "Epoch 475/512\n",
      "48/48 [==============================] - 36s 740ms/step - loss: 0.0044 - accuracy: 0.9991 - val_loss: 15.6029 - val_accuracy: 0.0059\n",
      "Epoch 476/512\n",
      "48/48 [==============================] - 36s 740ms/step - loss: 0.0038 - accuracy: 0.9992 - val_loss: 15.5866 - val_accuracy: 0.0060\n",
      "Epoch 477/512\n",
      "48/48 [==============================] - 35s 740ms/step - loss: 0.0046 - accuracy: 0.9991 - val_loss: 15.5714 - val_accuracy: 0.0067\n",
      "Epoch 478/512\n",
      "48/48 [==============================] - 36s 740ms/step - loss: 0.0045 - accuracy: 0.9991 - val_loss: 15.5636 - val_accuracy: 0.0060\n",
      "Epoch 479/512\n",
      "48/48 [==============================] - 35s 740ms/step - loss: 0.0043 - accuracy: 0.9992 - val_loss: 15.5770 - val_accuracy: 0.0060\n",
      "Epoch 480/512\n",
      "48/48 [==============================] - 36s 740ms/step - loss: 0.0041 - accuracy: 0.9991 - val_loss: 15.5555 - val_accuracy: 0.0058\n",
      "Epoch 481/512\n",
      "48/48 [==============================] - 36s 740ms/step - loss: 0.0047 - accuracy: 0.9991 - val_loss: 15.5499 - val_accuracy: 0.0059\n",
      "Epoch 482/512\n",
      "48/48 [==============================] - 36s 740ms/step - loss: 0.0049 - accuracy: 0.9991 - val_loss: 15.5382 - val_accuracy: 0.0067\n",
      "Epoch 483/512\n",
      "48/48 [==============================] - 36s 740ms/step - loss: 0.0047 - accuracy: 0.9990 - val_loss: 15.5458 - val_accuracy: 0.0052\n",
      "Epoch 484/512\n",
      "48/48 [==============================] - 36s 740ms/step - loss: 0.0046 - accuracy: 0.9991 - val_loss: 15.5530 - val_accuracy: 0.0054\n",
      "Epoch 485/512\n",
      "48/48 [==============================] - 36s 740ms/step - loss: 0.0045 - accuracy: 0.9991 - val_loss: 15.5515 - val_accuracy: 0.0060\n",
      "Epoch 486/512\n",
      "48/48 [==============================] - 36s 740ms/step - loss: 0.0044 - accuracy: 0.9991 - val_loss: 15.5418 - val_accuracy: 0.0055\n",
      "Epoch 487/512\n",
      "48/48 [==============================] - 36s 740ms/step - loss: 0.0045 - accuracy: 0.9991 - val_loss: 15.5400 - val_accuracy: 0.0056\n",
      "Epoch 488/512\n",
      "48/48 [==============================] - 35s 739ms/step - loss: 0.0043 - accuracy: 0.9992 - val_loss: 15.4989 - val_accuracy: 0.0058\n",
      "Epoch 489/512\n",
      "48/48 [==============================] - 36s 740ms/step - loss: 0.0046 - accuracy: 0.9991 - val_loss: 15.5064 - val_accuracy: 0.0056\n",
      "Epoch 490/512\n",
      "48/48 [==============================] - 36s 740ms/step - loss: 0.0044 - accuracy: 0.9991 - val_loss: 15.5056 - val_accuracy: 0.0058\n",
      "Epoch 491/512\n",
      "48/48 [==============================] - 36s 740ms/step - loss: 0.0047 - accuracy: 0.9990 - val_loss: 15.5155 - val_accuracy: 0.0056\n",
      "Epoch 492/512\n",
      "48/48 [==============================] - 36s 740ms/step - loss: 0.0040 - accuracy: 0.9992 - val_loss: 15.5020 - val_accuracy: 0.0054\n",
      "Epoch 493/512\n",
      "48/48 [==============================] - 36s 740ms/step - loss: 0.0049 - accuracy: 0.9991 - val_loss: 15.5018 - val_accuracy: 0.0054\n",
      "Epoch 494/512\n",
      "48/48 [==============================] - 36s 740ms/step - loss: 0.0043 - accuracy: 0.9991 - val_loss: 15.4801 - val_accuracy: 0.0051\n",
      "Epoch 495/512\n",
      "48/48 [==============================] - 35s 740ms/step - loss: 0.0049 - accuracy: 0.9991 - val_loss: 15.4851 - val_accuracy: 0.0062\n",
      "Epoch 496/512\n",
      "48/48 [==============================] - 36s 740ms/step - loss: 0.0048 - accuracy: 0.9990 - val_loss: 15.4834 - val_accuracy: 0.0061\n",
      "Epoch 497/512\n",
      "48/48 [==============================] - 36s 740ms/step - loss: 0.0051 - accuracy: 0.9990 - val_loss: 15.4570 - val_accuracy: 0.0058\n",
      "Epoch 498/512\n",
      "48/48 [==============================] - 35s 739ms/step - loss: 0.0043 - accuracy: 0.9991 - val_loss: 15.4692 - val_accuracy: 0.0061\n",
      "Epoch 499/512\n",
      "48/48 [==============================] - 36s 740ms/step - loss: 0.0044 - accuracy: 0.9992 - val_loss: 15.4521 - val_accuracy: 0.0054\n",
      "Epoch 500/512\n",
      "48/48 [==============================] - 35s 739ms/step - loss: 0.0047 - accuracy: 0.9991 - val_loss: 15.4661 - val_accuracy: 0.0059\n",
      "Epoch 501/512\n",
      "48/48 [==============================] - 35s 739ms/step - loss: 0.0045 - accuracy: 0.9991 - val_loss: 15.4811 - val_accuracy: 0.0059\n",
      "Epoch 502/512\n",
      "48/48 [==============================] - 36s 740ms/step - loss: 0.0046 - accuracy: 0.9991 - val_loss: 15.4679 - val_accuracy: 0.0060\n",
      "Epoch 503/512\n",
      "48/48 [==============================] - 36s 741ms/step - loss: 0.0045 - accuracy: 0.9990 - val_loss: 15.4377 - val_accuracy: 0.0058\n",
      "Epoch 504/512\n",
      "48/48 [==============================] - 36s 740ms/step - loss: 0.0044 - accuracy: 0.9992 - val_loss: 15.4688 - val_accuracy: 0.0057\n"
     ]
    },
    {
     "name": "stdout",
     "output_type": "stream",
     "text": [
      "Epoch 505/512\n",
      "48/48 [==============================] - 35s 739ms/step - loss: 0.0045 - accuracy: 0.9991 - val_loss: 15.4586 - val_accuracy: 0.0054\n",
      "Epoch 506/512\n",
      "48/48 [==============================] - 35s 739ms/step - loss: 0.0041 - accuracy: 0.9992 - val_loss: 15.4450 - val_accuracy: 0.0052\n",
      "Epoch 507/512\n",
      "48/48 [==============================] - 35s 739ms/step - loss: 0.0047 - accuracy: 0.9991 - val_loss: 15.4489 - val_accuracy: 0.0058\n",
      "Epoch 508/512\n",
      "48/48 [==============================] - 36s 740ms/step - loss: 0.0042 - accuracy: 0.9992 - val_loss: 15.4233 - val_accuracy: 0.0056\n",
      "Epoch 509/512\n",
      "48/48 [==============================] - 36s 740ms/step - loss: 0.0047 - accuracy: 0.9990 - val_loss: 15.4208 - val_accuracy: 0.0058\n",
      "Epoch 510/512\n",
      "48/48 [==============================] - 36s 741ms/step - loss: 0.0042 - accuracy: 0.9992 - val_loss: 15.4108 - val_accuracy: 0.0059\n",
      "Epoch 511/512\n",
      "48/48 [==============================] - 36s 740ms/step - loss: 0.0042 - accuracy: 0.9991 - val_loss: 15.4044 - val_accuracy: 0.0055\n",
      "Epoch 512/512\n",
      "48/48 [==============================] - 36s 740ms/step - loss: 0.0045 - accuracy: 0.9991 - val_loss: 15.3908 - val_accuracy: 0.0052\n",
      "CPU times: user 3h 23min 24s, sys: 20min 28s, total: 3h 43min 53s\n",
      "Wall time: 5h 8min 58s\n"
     ]
    }
   ],
   "source": [
    "%%time\n",
    "import kashgari\n",
    "from kashgari.tasks.labeling import BiLSTM_CRF_Model\n",
    "from kashgari.embeddings import BertEmbedding\n",
    "kashgari.config.use_cudnn_cell = True\n",
    "bert_embedding = BertEmbedding(embedding_path, \n",
    "                           sequence_length='auto',\n",
    "                           trainable=True,\n",
    "                           task='kashgari.LABELING', \n",
    "                          )\n",
    "model = BiLSTM_CRF_Model(bert_embedding)\n",
    "history = model.fit(train_x,\n",
    "                    train_y,\n",
    "                    valid_x,\n",
    "                    valid_y,\n",
    "                    epochs=epochs,\n",
    "                    batch_size=batch_size,\n",
    "                   )"
   ]
  },
  {
   "cell_type": "code",
   "execution_count": 17,
   "metadata": {},
   "outputs": [
    {
     "name": "stderr",
     "output_type": "stream",
     "text": [
      "2020-12-17 22:14:41,634 [WARNING] kashgari - Sequence length is None, will use the max length of the samples, which is 102\n",
      "2020-12-17 22:14:41,725 [DEBUG] kashgari - predict seq_length: None, input: (2, 15673, 102)\n"
     ]
    },
    {
     "name": "stdout",
     "output_type": "stream",
     "text": [
      "490/490 [==============================] - 62s 126ms/step\n"
     ]
    },
    {
     "name": "stderr",
     "output_type": "stream",
     "text": [
      "2020-12-17 22:15:47,161 [DEBUG] kashgari - predict output: (15673, 102)\n",
      "2020-12-17 22:15:47,162 [DEBUG] kashgari - predict output argmax: [[0 1 1 ... 1 1 1]\n",
      " [0 1 1 ... 1 1 1]\n",
      " [0 1 1 ... 1 1 1]\n",
      " ...\n",
      " [0 4 2 ... 1 1 1]\n",
      " [0 1 1 ... 1 1 1]\n",
      " [0 1 1 ... 1 1 1]]\n"
     ]
    },
    {
     "name": "stdout",
     "output_type": "stream",
     "text": [
      "\n",
      "                precision    recall  f1-score   support\n",
      "\n",
      "    profession     0.9192    0.9286    0.9239        98\n",
      "          time     0.8448    0.8124    0.8283       858\n",
      "       contact     0.9348    0.9149    0.9247        47\n",
      "      location     0.9310    0.8617    0.8950        94\n",
      "     education     1.0000    0.9907    0.9953       108\n",
      "      med_exam     0.9103    0.8875    0.8987       160\n",
      "          name     0.9451    0.8866    0.9149        97\n",
      "        family     0.9835    0.9835    0.9835       121\n",
      "clinical_event     0.9691    0.9307    0.9495       101\n",
      "         money     0.8500    0.7391    0.7907        46\n",
      "            ID     0.7500    0.5000    0.6000         6\n",
      "        others     0.0000    0.0000    0.0000         2\n",
      "  organization     0.0000    0.0000    0.0000         1\n",
      "\n",
      "     micro avg     0.8948    0.8608    0.8775      1739\n",
      "     macro avg     0.8926    0.8608    0.8762      1739\n",
      "\n"
     ]
    },
    {
     "name": "stderr",
     "output_type": "stream",
     "text": [
      "2020-12-17 22:15:56,011 [INFO] kashgari - model saved to /home/Danny/AI-CUP-2020/danny/bert/model/duplicates_augmentation_bert-chinese_epoch_512_batch_1024\n"
     ]
    },
    {
     "data": {
      "text/plain": [
       "'/home/Danny/AI-CUP-2020/danny/bert/model/duplicates_augmentation_bert-chinese_epoch_512_batch_1024'"
      ]
     },
     "execution_count": 17,
     "metadata": {},
     "output_type": "execute_result"
    }
   ],
   "source": [
    "model.evaluate(test_x, test_y)\n",
    "model_path = 'model/duplicates_augmentation_{}_epoch_{}_batch_{}'.format(model_name, epochs, batch_size)\n",
    "model.save(model_path)"
   ]
  },
  {
   "cell_type": "code",
   "execution_count": 18,
   "metadata": {},
   "outputs": [
    {
     "data": {
      "image/png": "[encoded data removed]",
      "text/plain": [
       "<Figure size 432x288 with 1 Axes>"
      ]
     },
     "metadata": {
      "needs_background": "light"
     },
     "output_type": "display_data"
    }
   ],
   "source": [
    "plt.plot(history.history['accuracy'])\n",
    "plt.plot(history.history['val_accuracy'])\n",
    "plt.plot(history.history['loss'])\n",
    "plt.plot(history.history['val_loss'])\n",
    "plt.title('model accuracy')\n",
    "plt.ylabel('accuracy')\n",
    "plt.xlabel('epoch')\n",
    "plt.legend(['accuracy', 'val_accuracy', 'loss', 'val_loss'])\n",
    "plt.show()"
   ]
  },
  {
   "cell_type": "code",
   "execution_count": 19,
   "metadata": {},
   "outputs": [],
   "source": [
    "# 需要儲存article_id, 轉成dataframe\n",
    "def predicting_txt_to_dataframe(path):    \n",
    "    with open(path, 'r') as f:\n",
    "        txt = str(f.read())\n",
    "        txt_list = txt.split('\\n')\n",
    "    row_list = list()\n",
    "    tmp_list = list()\n",
    "    for row in txt_list:\n",
    "        if row == '--------------------':\n",
    "            tmp_list[0] = tmp_list[0].replace('article_id:', '')\n",
    "            tmp_list[0] = int(tmp_list[0])\n",
    "            row_list.append(tmp_list)\n",
    "            tmp_list = list()\n",
    "            continue\n",
    "        if len(row) > 0:\n",
    "            tmp_list.append(row)\n",
    "    df = pd.DataFrame(row_list, columns=['article_id','text'])\n",
    "    return df"
   ]
  },
  {
   "cell_type": "code",
   "execution_count": 20,
   "metadata": {},
   "outputs": [],
   "source": [
    "def predict_NER(text):\n",
    "    x_list = list()    \n",
    "    text_list = re.split('\\uff0c|\\u3002|\\uff1f', text)\n",
    "    for article in text_list:\n",
    "        x_list.append([i for i in article])\n",
    "    y_list_list = model.predict(x_list)\n",
    "    y_list = list()\n",
    "    for sentence in y_list_list:\n",
    "        for word in sentence:\n",
    "            y_list.append(word)\n",
    "        y_list.append('O') # append(，。？)\n",
    "    y_list = y_list[:-1]\n",
    "    return y_list"
   ]
  },
  {
   "cell_type": "code",
   "execution_count": 21,
   "metadata": {},
   "outputs": [],
   "source": [
    "def output_NER(article_id, text, y_list):\n",
    "    output_str = str()\n",
    "    flag = False\n",
    "    for i, j in enumerate(y_list):\n",
    "        if j != 'O':\n",
    "            if j[0] == 'B':\n",
    "                start_position = i\n",
    "                entity_type = j.split('-')[-1]\n",
    "                flag = True\n",
    "        elif j == 'O' and flag == True:\n",
    "            end_position = i\n",
    "            flag = False\n",
    "            entity_text = text[start_position: end_position]\n",
    "            entity = '{}\\t{}\\t{}\\t{}\\t{}\\n'.format(article_id, start_position, end_position, entity_text, entity_type)  \n",
    "            output_str += entity\n",
    "    return output_str"
   ]
  },
  {
   "cell_type": "code",
   "execution_count": 22,
   "metadata": {},
   "outputs": [
    {
     "name": "stderr",
     "output_type": "stream",
     "text": [
      "2020-12-17 22:15:56,132 [DEBUG] kashgari - predict seq_length: None, input: (2, 70, 17)\n"
     ]
    },
    {
     "name": "stdout",
     "output_type": "stream",
     "text": [
      "3/3 [==============================] - 0s 20ms/step\n"
     ]
    },
    {
     "name": "stderr",
     "output_type": "stream",
     "text": [
      "2020-12-17 22:15:59,085 [DEBUG] kashgari - predict output: (70, 17)\n",
      "2020-12-17 22:15:59,086 [DEBUG] kashgari - predict output argmax: [[0 1 1 ... 1 0 1]\n",
      " [0 1 1 ... 1 1 1]\n",
      " [0 1 1 ... 1 1 1]\n",
      " ...\n",
      " [0 1 0 ... 1 1 1]\n",
      " [0 1 1 ... 1 1 1]\n",
      " [0 0 0 ... 0 0 0]]\n",
      "2020-12-17 22:15:59,088 [DEBUG] kashgari - predict seq_length: None, input: (2, 131, 28)\n"
     ]
    },
    {
     "name": "stdout",
     "output_type": "stream",
     "text": [
      "5/5 [==============================] - 0s 35ms/step\n"
     ]
    },
    {
     "name": "stderr",
     "output_type": "stream",
     "text": [
      "2020-12-17 22:16:02,165 [DEBUG] kashgari - predict output: (131, 28)\n",
      "2020-12-17 22:16:02,166 [DEBUG] kashgari - predict output argmax: [[0 1 1 ... 1 1 1]\n",
      " [0 1 1 ... 1 1 1]\n",
      " [0 4 2 ... 1 1 1]\n",
      " ...\n",
      " [0 1 1 ... 1 1 1]\n",
      " [0 1 1 ... 1 1 1]\n",
      " [0 0 0 ... 0 0 0]]\n",
      "2020-12-17 22:16:02,170 [DEBUG] kashgari - predict seq_length: None, input: (2, 198, 47)\n"
     ]
    },
    {
     "name": "stdout",
     "output_type": "stream",
     "text": [
      "7/7 [==============================] - 0s 55ms/step\n"
     ]
    },
    {
     "name": "stderr",
     "output_type": "stream",
     "text": [
      "2020-12-17 22:16:05,413 [DEBUG] kashgari - predict output: (198, 47)\n",
      "2020-12-17 22:16:05,414 [DEBUG] kashgari - predict output argmax: [[0 1 1 ... 1 1 1]\n",
      " [0 1 1 ... 1 1 1]\n",
      " [0 1 1 ... 1 1 1]\n",
      " ...\n",
      " [0 1 1 ... 1 1 1]\n",
      " [0 1 1 ... 1 1 1]\n",
      " [0 1 1 ... 1 1 1]]\n",
      "2020-12-17 22:16:05,416 [DEBUG] kashgari - predict seq_length: None, input: (2, 96, 41)\n"
     ]
    },
    {
     "name": "stdout",
     "output_type": "stream",
     "text": [
      "3/3 [==============================] - 0s 34ms/step\n"
     ]
    },
    {
     "name": "stderr",
     "output_type": "stream",
     "text": [
      "2020-12-17 22:16:07,918 [DEBUG] kashgari - predict output: (96, 41)\n",
      "2020-12-17 22:16:07,919 [DEBUG] kashgari - predict output argmax: [[0 1 1 ... 1 1 1]\n",
      " [0 1 1 ... 1 1 1]\n",
      " [0 1 1 ... 1 1 1]\n",
      " ...\n",
      " [0 1 1 ... 1 1 1]\n",
      " [0 1 1 ... 1 1 1]\n",
      " [0 0 0 ... 0 0 0]]\n",
      "2020-12-17 22:16:07,920 [DEBUG] kashgari - predict seq_length: None, input: (2, 73, 17)\n"
     ]
    },
    {
     "name": "stdout",
     "output_type": "stream",
     "text": [
      "3/3 [==============================] - 0s 20ms/step\n"
     ]
    },
    {
     "name": "stderr",
     "output_type": "stream",
     "text": [
      "2020-12-17 22:16:08,035 [DEBUG] kashgari - predict output: (73, 17)\n",
      "2020-12-17 22:16:08,036 [DEBUG] kashgari - predict output argmax: [[ 0  1  1 ...  1  1  1]\n",
      " [ 0  1 19 ...  1  1  1]\n",
      " [ 0  1  1 ...  1  1  1]\n",
      " ...\n",
      " [ 0  1  1 ...  1  1  1]\n",
      " [ 0  1  0 ...  1  1  1]\n",
      " [ 0  0  0 ...  0  0  0]]\n",
      "2020-12-17 22:16:08,040 [DEBUG] kashgari - predict seq_length: None, input: (2, 266, 23)\n"
     ]
    },
    {
     "name": "stdout",
     "output_type": "stream",
     "text": [
      "9/9 [==============================] - 0s 37ms/step\n"
     ]
    },
    {
     "name": "stderr",
     "output_type": "stream",
     "text": [
      "2020-12-17 22:16:11,260 [DEBUG] kashgari - predict output: (266, 23)\n",
      "2020-12-17 22:16:11,261 [DEBUG] kashgari - predict output argmax: [[0 1 1 ... 1 1 1]\n",
      " [0 1 1 ... 1 1 1]\n",
      " [0 1 1 ... 1 1 1]\n",
      " ...\n",
      " [0 1 1 ... 1 1 1]\n",
      " [0 1 1 ... 1 1 1]\n",
      " [0 1 1 ... 1 1 1]]\n",
      "2020-12-17 22:16:11,265 [DEBUG] kashgari - predict seq_length: None, input: (2, 308, 21)\n"
     ]
    },
    {
     "name": "stdout",
     "output_type": "stream",
     "text": [
      "10/10 [==============================] - 0s 34ms/step\n"
     ]
    },
    {
     "name": "stderr",
     "output_type": "stream",
     "text": [
      "2020-12-17 22:16:14,310 [DEBUG] kashgari - predict output: (308, 21)\n",
      "2020-12-17 22:16:14,311 [DEBUG] kashgari - predict output argmax: [[0 1 1 ... 1 1 1]\n",
      " [0 1 0 ... 1 1 1]\n",
      " [0 1 1 ... 1 1 1]\n",
      " ...\n",
      " [0 1 1 ... 1 1 1]\n",
      " [0 1 0 ... 1 1 1]\n",
      " [0 0 0 ... 0 0 0]]\n",
      "2020-12-17 22:16:14,315 [DEBUG] kashgari - predict seq_length: None, input: (2, 139, 38)\n"
     ]
    },
    {
     "name": "stdout",
     "output_type": "stream",
     "text": [
      "5/5 [==============================] - 0s 44ms/step\n"
     ]
    },
    {
     "name": "stderr",
     "output_type": "stream",
     "text": [
      "2020-12-17 22:16:17,510 [DEBUG] kashgari - predict output: (139, 38)\n",
      "2020-12-17 22:16:17,511 [DEBUG] kashgari - predict output argmax: [[0 1 1 ... 1 1 1]\n",
      " [0 1 1 ... 1 1 1]\n",
      " [0 1 1 ... 1 1 1]\n",
      " ...\n",
      " [0 1 1 ... 1 1 1]\n",
      " [0 1 1 ... 1 1 1]\n",
      " [0 0 0 ... 0 0 0]]\n",
      "2020-12-17 22:16:17,513 [DEBUG] kashgari - predict seq_length: None, input: (2, 167, 22)\n"
     ]
    },
    {
     "name": "stdout",
     "output_type": "stream",
     "text": [
      "6/6 [==============================] - 0s 32ms/step\n"
     ]
    },
    {
     "name": "stderr",
     "output_type": "stream",
     "text": [
      "2020-12-17 22:16:20,643 [DEBUG] kashgari - predict output: (167, 22)\n",
      "2020-12-17 22:16:20,644 [DEBUG] kashgari - predict output argmax: [[0 1 1 ... 9 9 9]\n",
      " [0 1 1 ... 1 1 1]\n",
      " [0 1 0 ... 1 1 1]\n",
      " ...\n",
      " [0 1 1 ... 1 1 1]\n",
      " [0 1 1 ... 2 2 2]\n",
      " [0 0 0 ... 0 0 0]]\n",
      "2020-12-17 22:16:20,649 [DEBUG] kashgari - predict seq_length: None, input: (2, 272, 41)\n"
     ]
    },
    {
     "name": "stdout",
     "output_type": "stream",
     "text": [
      "9/9 [==============================] - 0s 52ms/step\n"
     ]
    },
    {
     "name": "stderr",
     "output_type": "stream",
     "text": [
      "2020-12-17 22:16:23,906 [DEBUG] kashgari - predict output: (272, 41)\n",
      "2020-12-17 22:16:23,907 [DEBUG] kashgari - predict output argmax: [[ 0  1  1 ...  9  9  9]\n",
      " [ 0  1 11 ...  8  8  8]\n",
      " [ 0  1  1 ...  1  1  1]\n",
      " ...\n",
      " [ 0  1  1 ...  1  1  1]\n",
      " [ 0  1  1 ...  1  1  1]\n",
      " [ 0  0  0 ...  0  0  0]]\n",
      "2020-12-17 22:16:23,910 [DEBUG] kashgari - predict seq_length: None, input: (2, 143, 63)\n"
     ]
    },
    {
     "name": "stdout",
     "output_type": "stream",
     "text": [
      "5/5 [==============================] - 0s 64ms/step\n"
     ]
    },
    {
     "name": "stderr",
     "output_type": "stream",
     "text": [
      "2020-12-17 22:16:27,732 [DEBUG] kashgari - predict output: (143, 63)\n",
      "2020-12-17 22:16:27,733 [DEBUG] kashgari - predict output argmax: [[0 1 1 ... 1 1 1]\n",
      " [0 1 1 ... 1 1 1]\n",
      " [0 1 1 ... 1 1 1]\n",
      " ...\n",
      " [0 1 1 ... 1 1 1]\n",
      " [0 1 1 ... 1 1 1]\n",
      " [0 0 0 ... 0 0 0]]\n",
      "2020-12-17 22:16:27,739 [DEBUG] kashgari - predict seq_length: None, input: (2, 663, 42)\n"
     ]
    },
    {
     "name": "stdout",
     "output_type": "stream",
     "text": [
      "21/21 [==============================] - 1s 54ms/step\n"
     ]
    },
    {
     "name": "stderr",
     "output_type": "stream",
     "text": [
      "2020-12-17 22:16:31,713 [DEBUG] kashgari - predict output: (663, 42)\n",
      "2020-12-17 22:16:31,714 [DEBUG] kashgari - predict output argmax: [[0 1 1 ... 1 1 1]\n",
      " [0 1 1 ... 1 1 1]\n",
      " [0 1 1 ... 1 1 1]\n",
      " ...\n",
      " [0 1 1 ... 1 1 1]\n",
      " [0 1 1 ... 1 1 1]\n",
      " [0 0 0 ... 0 0 0]]\n",
      "2020-12-17 22:16:31,716 [DEBUG] kashgari - predict seq_length: None, input: (2, 39, 25)\n"
     ]
    },
    {
     "name": "stdout",
     "output_type": "stream",
     "text": [
      "2/2 [==============================] - 0s 15ms/step\n"
     ]
    },
    {
     "name": "stderr",
     "output_type": "stream",
     "text": [
      "2020-12-17 22:16:34,453 [DEBUG] kashgari - predict output: (39, 25)\n",
      "2020-12-17 22:16:34,456 [DEBUG] kashgari - predict output argmax: [[ 0  1  1  1  1  0  1  1  1  1  1  1  1  1  1  1  1  1  1  1  1  1  1  1\n",
      "   1]\n",
      " [ 0  1  1  1  1  0  1  1  1  1  1  1  1  1  1  1  1  1  1  1  1  1  1  1\n",
      "   1]\n",
      " [ 0  1  1  1  1  1  1  1  1  1  1  1  1  1  1  1  0  1  1  1  1  1  1  1\n",
      "   1]\n",
      " [ 0  1  1  1  1  1  1  1  1  1  1  0  1  1  1  1  1  1  1  1  1  1  1  1\n",
      "   1]\n",
      " [ 0  1  1  1  1  1  1  1  1  1  1  1  0  1  1  1  1  1  1  1  1  1  1  1\n",
      "   1]\n",
      " [ 0  1  1  1  1  0  1  1  1  1  1  1  1  1  1  1  1  1  1  1  1  1  1  1\n",
      "   1]\n",
      " [ 0  1  1  1  0  1  1  1  1  1  1  1  1  1  1  1  1  1  1  1  1  1  1  1\n",
      "   1]\n",
      " [ 0  1  1  1  1  0  1  1  1  1  1  1  1  1  1  1  1  1  1  1  1  1  1  1\n",
      "   1]\n",
      " [ 0  1  1  0  1  1  1  1  1  1  1  1  1  1  1  1  1  1  1  1  1  1  1  1\n",
      "   1]\n",
      " [ 0  1  1  1  1  1  1  1  1  1  1  1  0  1  1  1  1  1  1  1  1  1  1  1\n",
      "   1]\n",
      " [ 0  1  1  1  1  1  1  1  1  1  0  1  1  1  1  1  1  1  1  1  1  1  1  1\n",
      "   1]\n",
      " [ 0  1  1  1  1  1  1  0  1  1  1  1  1  1  1  1  1  1  1  1  1  1  1  1\n",
      "   1]\n",
      " [ 0  1  1  1  1  0  1  1  1  1  1  1  1  1  1  1  1  1  1  1  1  1  1  1\n",
      "   1]\n",
      " [ 0  1  1  1  1  0  1  1  1  1  1  1  1  1  1  1  1  1  1  1  1  1  1  1\n",
      "   1]\n",
      " [ 0  1  1  1  1  1  1  1  1  1  1  1  1  1  0  1  1  1  1  1  1  1  1  1\n",
      "   1]\n",
      " [ 0  1  1  1  1  0  1  1  1  1  1  1  1  1  1  1  1  1  1  1  1  1  1  1\n",
      "   1]\n",
      " [ 0  1  1  1  0  1  1  1  1  1  1  1  1  1  1  1  1  1  1  1  1  1  1  1\n",
      "   1]\n",
      " [ 0  1  1  1  1  1  1  1 14  5  5  5  1  1  0  1  1  1  1  1  1  1  1  1\n",
      "   1]\n",
      " [ 0  1  1  1  1  1  0  1  1  1  1  1  1  1  1  1  1  1  1  1  1  1  1  1\n",
      "   1]\n",
      " [ 0  1  1  1  1  1  1  1  1  1  1  1  1  1  1  1  1  0  1  1  1  1  1  1\n",
      "   1]\n",
      " [ 0  1  1  1  1  1  1  1  1  1  1  0  1  1  1  1  1  1  1  1  1  1  1  1\n",
      "   1]\n",
      " [ 0  1  1  1  1  0  1  1  1  1  1  1  1  1  1  1  1  1  1  1  1  1  1  1\n",
      "   1]\n",
      " [ 0  1  1  1  1  1  1  1  1  1  1  0  1  1  1  1  1  1  1  1  1  1  1  1\n",
      "   1]\n",
      " [ 0  1  1  1  1  0  1  1  1  1  1  1  1  1  1  1  1  1  1  1  1  1  1  1\n",
      "   1]\n",
      " [ 0  1  1  1  1  1  0  1  1  1  1  1  1  1  1  1  1  1  1  1  1  1  1  1\n",
      "   1]\n",
      " [ 0  1  1  1  1  0  1  1  1  1  1  1  1  1  1  1  1  1  1  1  1  1  1  1\n",
      "   1]\n",
      " [ 0  1  1  1  1  1  1  1  1  1  1  1  1  1  1  1  1  1  1  1  1  1  1  1\n",
      "   0]\n",
      " [ 0  1  1  1  1  0  1  1  1  1  1  1  1  1  1  1  1  1  1  1  1  1  1  1\n",
      "   1]\n",
      " [ 0  1  1  1  0  1  1  1  1  1  1  1  1  1  1  1  1  1  1  1  1  1  1  1\n",
      "   1]\n",
      " [ 0  1  1  1  1  1  0  1  1  1  1  1  1  1  1  1  1  1  1  1  1  1  1  1\n",
      "   1]\n",
      " [ 0  1  1  1  1  1  0  1  1  1  1  1  1  1  1  1  1  1  1  1  1  1  1  1\n",
      "   1]\n",
      " [ 0  1  0  1  1  1  1  1  1  1  1  1  1  1  1  1  1  1  1  1  1  1  1  1\n",
      "   1]\n",
      " [ 0  1  1  1  1  1  1  1  1  1  1  1  0  1  1  1  1  1  1  1  1  1  1  1\n",
      "   1]\n",
      " [ 0  1  1  1  1  0  1  1  1  1  1  1  1  1  1  1  1  1  1  1  1  1  1  1\n",
      "   1]\n",
      " [ 0  1  1  1  1  4  2  2  2  1  1  1  1  1  0  1  1  1  1  1  1  1  1  1\n",
      "   1]\n",
      " [ 0  1  1  1  1  0  1  1  1  1  1  1  1  1  1  1  1  1  1  1  1  1  1  1\n",
      "   1]\n",
      " [ 0  1  1  1  1  1  0  1  1  1  1  1  1  1  1  1  1  1  1  1  1  1  1  1\n",
      "   1]\n",
      " [ 0  1  1  0  1  1  1  1  1  1  1  1  1  1  1  1  1  1  1  1  1  1  1  1\n",
      "   1]\n",
      " [ 0  0  0  0  0  0  0  0  0  0  0  0  0  0  0  0  0  0  0  0  0  0  0  0\n",
      "   0]]\n",
      "2020-12-17 22:16:34,458 [DEBUG] kashgari - predict seq_length: None, input: (2, 175, 22)\n"
     ]
    },
    {
     "name": "stdout",
     "output_type": "stream",
     "text": [
      "6/6 [==============================] - 0s 32ms/step\n"
     ]
    },
    {
     "name": "stderr",
     "output_type": "stream",
     "text": [
      "2020-12-17 22:16:34,712 [DEBUG] kashgari - predict output: (175, 22)\n",
      "2020-12-17 22:16:34,712 [DEBUG] kashgari - predict output argmax: [[0 1 1 ... 1 1 1]\n",
      " [0 1 1 ... 1 1 1]\n",
      " [0 1 1 ... 1 1 1]\n",
      " ...\n",
      " [0 1 1 ... 1 1 1]\n",
      " [0 1 1 ... 1 1 1]\n",
      " [0 0 0 ... 0 0 0]]\n",
      "2020-12-17 22:16:34,715 [DEBUG] kashgari - predict seq_length: None, input: (2, 143, 28)\n"
     ]
    },
    {
     "name": "stdout",
     "output_type": "stream",
     "text": [
      "5/5 [==============================] - 0s 33ms/step\n"
     ]
    },
    {
     "name": "stderr",
     "output_type": "stream",
     "text": [
      "2020-12-17 22:16:34,944 [DEBUG] kashgari - predict output: (143, 28)\n",
      "2020-12-17 22:16:34,945 [DEBUG] kashgari - predict output argmax: [[0 1 1 ... 1 1 1]\n",
      " [0 1 1 ... 1 1 1]\n",
      " [0 1 1 ... 1 1 1]\n",
      " ...\n",
      " [0 1 1 ... 1 1 1]\n",
      " [0 1 1 ... 1 1 1]\n",
      " [0 0 0 ... 0 0 0]]\n",
      "2020-12-17 22:16:34,947 [DEBUG] kashgari - predict seq_length: None, input: (2, 88, 21)\n"
     ]
    },
    {
     "name": "stdout",
     "output_type": "stream",
     "text": [
      "3/3 [==============================] - 0s 22ms/step\n"
     ]
    },
    {
     "name": "stderr",
     "output_type": "stream",
     "text": [
      "2020-12-17 22:16:35,069 [DEBUG] kashgari - predict output: (88, 21)\n",
      "2020-12-17 22:16:35,070 [DEBUG] kashgari - predict output argmax: [[0 1 1 ... 1 1 1]\n",
      " [0 1 1 ... 1 1 1]\n",
      " [0 1 1 ... 1 1 1]\n",
      " ...\n",
      " [0 1 1 ... 2 2 2]\n",
      " [0 1 1 ... 1 1 1]\n",
      " [0 0 0 ... 0 0 0]]\n",
      "2020-12-17 22:16:35,072 [DEBUG] kashgari - predict seq_length: None, input: (2, 121, 28)\n"
     ]
    },
    {
     "name": "stdout",
     "output_type": "stream",
     "text": [
      "4/4 [==============================] - 0s 30ms/step\n"
     ]
    },
    {
     "name": "stderr",
     "output_type": "stream",
     "text": [
      "2020-12-17 22:16:35,254 [DEBUG] kashgari - predict output: (121, 28)\n",
      "2020-12-17 22:16:35,254 [DEBUG] kashgari - predict output argmax: [[0 1 1 ... 1 1 1]\n",
      " [0 1 1 ... 1 1 1]\n",
      " [0 1 1 ... 1 1 1]\n",
      " ...\n",
      " [0 1 1 ... 1 1 1]\n",
      " [0 1 1 ... 1 1 1]\n",
      " [0 0 0 ... 0 0 0]]\n",
      "2020-12-17 22:16:35,257 [DEBUG] kashgari - predict seq_length: None, input: (2, 85, 27)\n"
     ]
    },
    {
     "name": "stdout",
     "output_type": "stream",
     "text": [
      "3/3 [==============================] - 0s 29ms/step\n"
     ]
    },
    {
     "name": "stderr",
     "output_type": "stream",
     "text": [
      "2020-12-17 22:16:38,072 [DEBUG] kashgari - predict output: (85, 27)\n",
      "2020-12-17 22:16:38,073 [DEBUG] kashgari - predict output argmax: [[0 1 1 ... 1 1 1]\n",
      " [0 1 1 ... 1 1 1]\n",
      " [0 1 1 ... 1 1 1]\n",
      " ...\n",
      " [0 1 1 ... 1 1 1]\n",
      " [0 1 1 ... 1 1 1]\n",
      " [0 0 0 ... 0 0 0]]\n",
      "2020-12-17 22:16:38,077 [DEBUG] kashgari - predict seq_length: None, input: (2, 255, 19)\n"
     ]
    },
    {
     "name": "stdout",
     "output_type": "stream",
     "text": [
      "8/8 [==============================] - 0s 34ms/step\n"
     ]
    },
    {
     "name": "stderr",
     "output_type": "stream",
     "text": [
      "2020-12-17 22:16:41,120 [DEBUG] kashgari - predict output: (255, 19)\n",
      "2020-12-17 22:16:41,121 [DEBUG] kashgari - predict output argmax: [[0 1 1 ... 1 1 1]\n",
      " [0 1 1 ... 1 1 1]\n",
      " [0 1 1 ... 1 1 1]\n",
      " ...\n",
      " [0 1 1 ... 1 1 1]\n",
      " [0 1 1 ... 1 1 1]\n",
      " [0 0 0 ... 0 0 0]]\n",
      "2020-12-17 22:16:41,126 [DEBUG] kashgari - predict seq_length: None, input: (2, 202, 29)\n"
     ]
    },
    {
     "name": "stdout",
     "output_type": "stream",
     "text": [
      "7/7 [==============================] - 0s 38ms/step\n"
     ]
    },
    {
     "name": "stderr",
     "output_type": "stream",
     "text": [
      "2020-12-17 22:16:44,143 [DEBUG] kashgari - predict output: (202, 29)\n",
      "2020-12-17 22:16:44,144 [DEBUG] kashgari - predict output argmax: [[0 1 1 ... 1 1 1]\n",
      " [0 1 1 ... 1 1 1]\n",
      " [0 1 1 ... 1 1 0]\n",
      " ...\n",
      " [0 1 1 ... 1 1 1]\n",
      " [0 1 1 ... 1 1 1]\n",
      " [0 0 0 ... 0 0 0]]\n",
      "2020-12-17 22:16:44,147 [DEBUG] kashgari - predict seq_length: None, input: (2, 198, 19)\n"
     ]
    },
    {
     "name": "stdout",
     "output_type": "stream",
     "text": [
      "7/7 [==============================] - 0s 28ms/step\n"
     ]
    },
    {
     "name": "stderr",
     "output_type": "stream",
     "text": [
      "2020-12-17 22:16:44,396 [DEBUG] kashgari - predict output: (198, 19)\n",
      "2020-12-17 22:16:44,397 [DEBUG] kashgari - predict output argmax: [[ 0  1  1 ...  1  1  1]\n",
      " [ 0  1  1 ...  1  1  1]\n",
      " [ 0  1  1 ...  1  1  1]\n",
      " ...\n",
      " [ 0 18 10 ... 10 10 10]\n",
      " [ 0  1  1 ... 10 10 10]\n",
      " [ 0  0  0 ...  0  0  0]]\n",
      "2020-12-17 22:16:44,400 [DEBUG] kashgari - predict seq_length: None, input: (2, 102, 39)\n"
     ]
    },
    {
     "name": "stdout",
     "output_type": "stream",
     "text": [
      "4/4 [==============================] - 0s 39ms/step\n"
     ]
    },
    {
     "name": "stderr",
     "output_type": "stream",
     "text": [
      "2020-12-17 22:16:47,286 [DEBUG] kashgari - predict output: (102, 39)\n",
      "2020-12-17 22:16:47,287 [DEBUG] kashgari - predict output argmax: [[0 1 1 ... 1 1 1]\n",
      " [0 1 1 ... 1 1 1]\n",
      " [0 1 1 ... 1 1 1]\n",
      " ...\n",
      " [0 1 1 ... 1 1 1]\n",
      " [0 1 1 ... 1 1 1]\n",
      " [0 0 0 ... 0 0 0]]\n",
      "2020-12-17 22:16:47,290 [DEBUG] kashgari - predict seq_length: None, input: (2, 72, 36)\n"
     ]
    },
    {
     "name": "stdout",
     "output_type": "stream",
     "text": [
      "3/3 [==============================] - 0s 30ms/step\n"
     ]
    },
    {
     "name": "stderr",
     "output_type": "stream",
     "text": [
      "2020-12-17 22:16:51,003 [DEBUG] kashgari - predict output: (72, 36)\n",
      "2020-12-17 22:16:51,003 [DEBUG] kashgari - predict output argmax: [[0 1 1 ... 1 1 1]\n",
      " [0 1 0 ... 1 1 1]\n",
      " [0 1 1 ... 1 1 1]\n",
      " ...\n",
      " [0 1 1 ... 1 1 1]\n",
      " [0 1 1 ... 1 1 1]\n",
      " [0 0 0 ... 0 0 0]]\n",
      "2020-12-17 22:16:51,008 [DEBUG] kashgari - predict seq_length: None, input: (2, 246, 27)\n"
     ]
    },
    {
     "name": "stdout",
     "output_type": "stream",
     "text": [
      "8/8 [==============================] - 0s 38ms/step\n"
     ]
    },
    {
     "name": "stderr",
     "output_type": "stream",
     "text": [
      "2020-12-17 22:16:51,384 [DEBUG] kashgari - predict output: (246, 27)\n",
      "2020-12-17 22:16:51,384 [DEBUG] kashgari - predict output argmax: [[0 1 1 ... 1 1 1]\n",
      " [0 1 1 ... 1 1 1]\n",
      " [0 1 1 ... 1 1 1]\n",
      " ...\n",
      " [0 1 1 ... 1 1 1]\n",
      " [0 1 1 ... 1 1 1]\n",
      " [0 0 0 ... 0 0 0]]\n",
      "2020-12-17 22:16:51,387 [DEBUG] kashgari - predict seq_length: None, input: (2, 57, 34)\n"
     ]
    },
    {
     "name": "stdout",
     "output_type": "stream",
     "text": [
      "2/2 [==============================] - 0s 26ms/step\n"
     ]
    },
    {
     "name": "stderr",
     "output_type": "stream",
     "text": [
      "2020-12-17 22:16:54,186 [DEBUG] kashgari - predict output: (57, 34)\n",
      "2020-12-17 22:16:54,187 [DEBUG] kashgari - predict output argmax: [[0 1 1 ... 1 1 1]\n",
      " [0 1 1 ... 1 1 1]\n",
      " [0 1 1 ... 1 1 1]\n",
      " ...\n",
      " [0 1 1 ... 1 1 1]\n",
      " [0 1 1 ... 1 1 1]\n",
      " [0 0 0 ... 0 0 0]]\n",
      "2020-12-17 22:16:54,188 [DEBUG] kashgari - predict seq_length: None, input: (2, 82, 21)\n"
     ]
    },
    {
     "name": "stdout",
     "output_type": "stream",
     "text": [
      "3/3 [==============================] - 0s 25ms/step\n"
     ]
    },
    {
     "name": "stderr",
     "output_type": "stream",
     "text": [
      "2020-12-17 22:16:54,322 [DEBUG] kashgari - predict output: (82, 21)\n",
      "2020-12-17 22:16:54,323 [DEBUG] kashgari - predict output argmax: [[0 1 1 ... 1 1 1]\n",
      " [0 1 1 ... 1 1 1]\n",
      " [0 1 1 ... 1 1 1]\n",
      " ...\n",
      " [0 1 1 ... 1 1 1]\n",
      " [0 1 1 ... 1 1 1]\n",
      " [0 0 0 ... 0 0 0]]\n",
      "2020-12-17 22:16:54,327 [DEBUG] kashgari - predict seq_length: None, input: (2, 185, 32)\n"
     ]
    },
    {
     "name": "stdout",
     "output_type": "stream",
     "text": [
      "6/6 [==============================] - 0s 43ms/step\n"
     ]
    },
    {
     "name": "stderr",
     "output_type": "stream",
     "text": [
      "2020-12-17 22:16:57,483 [DEBUG] kashgari - predict output: (185, 32)\n",
      "2020-12-17 22:16:57,484 [DEBUG] kashgari - predict output argmax: [[0 1 1 ... 1 1 1]\n",
      " [0 1 1 ... 1 1 1]\n",
      " [0 1 1 ... 1 1 1]\n",
      " ...\n",
      " [0 1 1 ... 1 1 1]\n",
      " [0 1 1 ... 1 1 1]\n",
      " [0 0 0 ... 0 0 0]]\n",
      "2020-12-17 22:16:57,486 [DEBUG] kashgari - predict seq_length: None, input: (2, 148, 28)\n"
     ]
    },
    {
     "name": "stdout",
     "output_type": "stream",
     "text": [
      "5/5 [==============================] - 0s 33ms/step\n"
     ]
    },
    {
     "name": "stderr",
     "output_type": "stream",
     "text": [
      "2020-12-17 22:16:57,714 [DEBUG] kashgari - predict output: (148, 28)\n",
      "2020-12-17 22:16:57,715 [DEBUG] kashgari - predict output argmax: [[0 1 1 ... 1 1 1]\n",
      " [0 1 1 ... 1 1 1]\n",
      " [0 1 1 ... 1 1 1]\n",
      " ...\n",
      " [0 1 1 ... 1 1 1]\n",
      " [0 1 1 ... 1 1 1]\n",
      " [0 0 0 ... 0 0 0]]\n",
      "2020-12-17 22:16:57,719 [DEBUG] kashgari - predict seq_length: None, input: (2, 281, 23)\n"
     ]
    },
    {
     "name": "stdout",
     "output_type": "stream",
     "text": [
      "9/9 [==============================] - 0s 34ms/step\n"
     ]
    },
    {
     "name": "stderr",
     "output_type": "stream",
     "text": [
      "2020-12-17 22:16:58,081 [DEBUG] kashgari - predict output: (281, 23)\n",
      "2020-12-17 22:16:58,082 [DEBUG] kashgari - predict output argmax: [[0 1 1 ... 1 1 1]\n",
      " [0 1 1 ... 1 1 1]\n",
      " [0 1 1 ... 1 1 1]\n",
      " ...\n",
      " [0 1 0 ... 1 1 1]\n",
      " [0 1 1 ... 1 1 1]\n",
      " [0 0 0 ... 0 0 0]]\n",
      "2020-12-17 22:16:58,084 [DEBUG] kashgari - predict seq_length: None, input: (2, 116, 20)\n"
     ]
    },
    {
     "name": "stdout",
     "output_type": "stream",
     "text": [
      "4/4 [==============================] - 0s 29ms/step\n"
     ]
    },
    {
     "name": "stderr",
     "output_type": "stream",
     "text": [
      "2020-12-17 22:17:00,946 [DEBUG] kashgari - predict output: (116, 20)\n",
      "2020-12-17 22:17:00,947 [DEBUG] kashgari - predict output argmax: [[0 1 1 ... 1 1 1]\n",
      " [0 1 1 ... 1 1 1]\n",
      " [0 1 1 ... 1 1 1]\n",
      " ...\n",
      " [0 1 1 ... 1 1 1]\n",
      " [0 1 1 ... 1 1 1]\n",
      " [0 0 0 ... 0 0 0]]\n",
      "2020-12-17 22:17:00,950 [DEBUG] kashgari - predict seq_length: None, input: (2, 168, 25)\n"
     ]
    },
    {
     "name": "stdout",
     "output_type": "stream",
     "text": [
      "6/6 [==============================] - 0s 33ms/step\n"
     ]
    },
    {
     "name": "stderr",
     "output_type": "stream",
     "text": [
      "2020-12-17 22:17:01,214 [DEBUG] kashgari - predict output: (168, 25)\n",
      "2020-12-17 22:17:01,215 [DEBUG] kashgari - predict output argmax: [[0 1 1 ... 1 1 1]\n",
      " [0 1 1 ... 1 1 1]\n",
      " [0 4 2 ... 1 1 1]\n",
      " ...\n",
      " [0 1 1 ... 1 1 1]\n",
      " [0 1 1 ... 1 1 1]\n",
      " [0 0 0 ... 0 0 0]]\n",
      "2020-12-17 22:17:01,219 [DEBUG] kashgari - predict seq_length: None, input: (2, 218, 30)\n"
     ]
    },
    {
     "name": "stdout",
     "output_type": "stream",
     "text": [
      "7/7 [==============================] - 0s 42ms/step\n"
     ]
    },
    {
     "name": "stderr",
     "output_type": "stream",
     "text": [
      "2020-12-17 22:17:04,259 [DEBUG] kashgari - predict output: (218, 30)\n",
      "2020-12-17 22:17:04,260 [DEBUG] kashgari - predict output argmax: [[0 1 1 ... 1 1 1]\n",
      " [0 1 1 ... 1 1 1]\n",
      " [0 1 1 ... 1 1 1]\n",
      " ...\n",
      " [0 1 1 ... 1 1 1]\n",
      " [0 1 1 ... 1 1 1]\n",
      " [0 0 0 ... 0 0 0]]\n",
      "2020-12-17 22:17:04,263 [DEBUG] kashgari - predict seq_length: None, input: (2, 123, 32)\n"
     ]
    },
    {
     "name": "stdout",
     "output_type": "stream",
     "text": [
      "4/4 [==============================] - 0s 35ms/step\n"
     ]
    },
    {
     "name": "stderr",
     "output_type": "stream",
     "text": [
      "2020-12-17 22:17:04,476 [DEBUG] kashgari - predict output: (123, 32)\n",
      "2020-12-17 22:17:04,477 [DEBUG] kashgari - predict output argmax: [[0 1 1 ... 1 1 1]\n",
      " [0 1 1 ... 1 1 1]\n",
      " [0 1 1 ... 1 1 1]\n",
      " ...\n",
      " [0 1 1 ... 1 1 1]\n",
      " [0 1 1 ... 1 1 1]\n",
      " [0 0 0 ... 0 0 0]]\n",
      "2020-12-17 22:17:04,479 [DEBUG] kashgari - predict seq_length: None, input: (2, 82, 21)\n"
     ]
    },
    {
     "name": "stdout",
     "output_type": "stream",
     "text": [
      "3/3 [==============================] - 0s 22ms/step\n"
     ]
    },
    {
     "name": "stderr",
     "output_type": "stream",
     "text": [
      "2020-12-17 22:17:04,598 [DEBUG] kashgari - predict output: (82, 21)\n",
      "2020-12-17 22:17:04,599 [DEBUG] kashgari - predict output argmax: [[0 1 1 ... 1 1 1]\n",
      " [0 1 1 ... 1 1 1]\n",
      " [0 4 2 ... 1 1 1]\n",
      " ...\n",
      " [0 1 1 ... 1 1 1]\n",
      " [0 1 1 ... 1 1 1]\n",
      " [0 0 0 ... 0 0 0]]\n",
      "2020-12-17 22:17:04,601 [DEBUG] kashgari - predict seq_length: None, input: (2, 95, 19)\n"
     ]
    },
    {
     "name": "stdout",
     "output_type": "stream",
     "text": [
      "3/3 [==============================] - 0s 22ms/step\n"
     ]
    },
    {
     "name": "stderr",
     "output_type": "stream",
     "text": [
      "2020-12-17 22:17:04,719 [DEBUG] kashgari - predict output: (95, 19)\n",
      "2020-12-17 22:17:04,720 [DEBUG] kashgari - predict output argmax: [[0 1 1 ... 2 2 2]\n",
      " [0 4 2 ... 1 1 1]\n",
      " [0 1 1 ... 1 1 1]\n",
      " ...\n",
      " [0 1 0 ... 1 1 1]\n",
      " [0 1 1 ... 1 1 1]\n",
      " [0 0 0 ... 0 0 0]]\n",
      "2020-12-17 22:17:04,724 [DEBUG] kashgari - predict seq_length: None, input: (2, 245, 24)\n"
     ]
    },
    {
     "name": "stdout",
     "output_type": "stream",
     "text": [
      "8/8 [==============================] - 0s 38ms/step\n"
     ]
    },
    {
     "name": "stderr",
     "output_type": "stream",
     "text": [
      "2020-12-17 22:17:07,766 [DEBUG] kashgari - predict output: (245, 24)\n",
      "2020-12-17 22:17:07,767 [DEBUG] kashgari - predict output argmax: [[ 0  1  1 ...  1  1  1]\n",
      " [ 0  1  1 ...  1  1  1]\n",
      " [ 0  1  1 ...  1  1  1]\n",
      " ...\n",
      " [ 0 20  8 ...  1  1  1]\n",
      " [ 0  1  1 ...  1  1  1]\n",
      " [ 0  0  0 ...  0  0  0]]\n",
      "2020-12-17 22:17:07,770 [DEBUG] kashgari - predict seq_length: None, input: (2, 126, 31)\n"
     ]
    },
    {
     "name": "stdout",
     "output_type": "stream",
     "text": [
      "4/4 [==============================] - 0s 39ms/step\n"
     ]
    },
    {
     "name": "stderr",
     "output_type": "stream",
     "text": [
      "2020-12-17 22:17:10,670 [DEBUG] kashgari - predict output: (126, 31)\n",
      "2020-12-17 22:17:10,671 [DEBUG] kashgari - predict output argmax: [[ 0  1  1 ...  1  1  1]\n",
      " [ 0  1  1 ...  2  2  2]\n",
      " [ 0  1  1 ...  1  1  1]\n",
      " ...\n",
      " [ 0 20  8 ...  1  1  1]\n",
      " [ 0  1  1 ...  1  1  1]\n",
      " [ 0  0  0 ...  0  0  0]]\n",
      "2020-12-17 22:17:10,673 [DEBUG] kashgari - predict seq_length: None, input: (2, 64, 19)\n"
     ]
    },
    {
     "name": "stdout",
     "output_type": "stream",
     "text": [
      "2/2 [==============================] - 0s 15ms/step\n"
     ]
    },
    {
     "name": "stderr",
     "output_type": "stream",
     "text": [
      "2020-12-17 22:17:12,635 [DEBUG] kashgari - predict output: (64, 19)\n",
      "2020-12-17 22:17:12,635 [DEBUG] kashgari - predict output argmax: [[0 1 1 ... 1 1 1]\n",
      " [0 1 1 ... 1 1 1]\n",
      " [0 1 1 ... 1 1 1]\n",
      " ...\n",
      " [0 1 1 ... 1 1 1]\n",
      " [0 1 1 ... 1 1 1]\n",
      " [0 0 0 ... 0 0 0]]\n",
      "2020-12-17 22:17:12,637 [DEBUG] kashgari - predict seq_length: None, input: (2, 93, 24)\n"
     ]
    },
    {
     "name": "stdout",
     "output_type": "stream",
     "text": [
      "3/3 [==============================] - 0s 29ms/step\n"
     ]
    },
    {
     "name": "stderr",
     "output_type": "stream",
     "text": [
      "2020-12-17 22:17:12,791 [DEBUG] kashgari - predict output: (93, 24)\n",
      "2020-12-17 22:17:12,792 [DEBUG] kashgari - predict output argmax: [[0 1 1 ... 1 1 1]\n",
      " [0 1 1 ... 1 1 1]\n",
      " [0 1 1 ... 1 1 1]\n",
      " ...\n",
      " [0 1 1 ... 1 1 1]\n",
      " [0 1 1 ... 1 1 1]\n",
      " [0 0 0 ... 0 0 0]]\n",
      "2020-12-17 22:17:12,795 [DEBUG] kashgari - predict seq_length: None, input: (2, 214, 16)\n"
     ]
    },
    {
     "name": "stdout",
     "output_type": "stream",
     "text": [
      "7/7 [==============================] - 0s 29ms/step\n"
     ]
    },
    {
     "name": "stderr",
     "output_type": "stream",
     "text": [
      "2020-12-17 22:17:15,696 [DEBUG] kashgari - predict output: (214, 16)\n",
      "2020-12-17 22:17:15,697 [DEBUG] kashgari - predict output argmax: [[0 1 1 ... 1 1 1]\n",
      " [0 1 1 ... 1 1 1]\n",
      " [0 1 1 ... 1 1 1]\n",
      " ...\n",
      " [0 1 1 ... 1 1 1]\n",
      " [0 1 1 ... 1 1 1]\n",
      " [0 0 0 ... 0 0 0]]\n",
      "2020-12-17 22:17:15,699 [DEBUG] kashgari - predict seq_length: None, input: (2, 53, 20)\n"
     ]
    },
    {
     "name": "stdout",
     "output_type": "stream",
     "text": [
      "2/2 [==============================] - 0s 18ms/step\n"
     ]
    },
    {
     "name": "stderr",
     "output_type": "stream",
     "text": [
      "2020-12-17 22:17:15,795 [DEBUG] kashgari - predict output: (53, 20)\n",
      "2020-12-17 22:17:15,796 [DEBUG] kashgari - predict output argmax: [[0 1 1 ... 1 1 1]\n",
      " [0 1 1 ... 1 1 1]\n",
      " [0 1 1 ... 1 1 1]\n",
      " ...\n",
      " [0 1 1 ... 1 1 1]\n",
      " [0 1 1 ... 1 1 1]\n",
      " [0 0 0 ... 0 0 0]]\n",
      "2020-12-17 22:17:15,803 [DEBUG] kashgari - predict seq_length: None, input: (2, 384, 18)\n"
     ]
    },
    {
     "name": "stdout",
     "output_type": "stream",
     "text": [
      "12/12 [==============================] - 0s 24ms/step\n"
     ]
    },
    {
     "name": "stderr",
     "output_type": "stream",
     "text": [
      "2020-12-17 22:17:18,916 [DEBUG] kashgari - predict output: (384, 18)\n",
      "2020-12-17 22:17:18,917 [DEBUG] kashgari - predict output argmax: [[0 1 1 ... 1 1 1]\n",
      " [0 1 1 ... 1 1 1]\n",
      " [0 1 1 ... 1 1 1]\n",
      " ...\n",
      " [0 1 1 ... 1 1 1]\n",
      " [0 1 1 ... 1 1 1]\n",
      " [0 0 0 ... 0 0 0]]\n",
      "2020-12-17 22:17:18,919 [DEBUG] kashgari - predict seq_length: None, input: (2, 172, 24)\n"
     ]
    },
    {
     "name": "stdout",
     "output_type": "stream",
     "text": [
      "6/6 [==============================] - 0s 30ms/step\n"
     ]
    },
    {
     "name": "stderr",
     "output_type": "stream",
     "text": [
      "2020-12-17 22:17:19,156 [DEBUG] kashgari - predict output: (172, 24)\n",
      "2020-12-17 22:17:19,157 [DEBUG] kashgari - predict output argmax: [[0 1 1 ... 9 9 9]\n",
      " [0 1 1 ... 1 1 1]\n",
      " [0 1 1 ... 1 1 1]\n",
      " ...\n",
      " [0 1 1 ... 1 1 1]\n",
      " [0 1 1 ... 1 1 1]\n",
      " [0 0 0 ... 0 0 0]]\n",
      "2020-12-17 22:17:19,159 [DEBUG] kashgari - predict seq_length: None, input: (2, 114, 24)\n"
     ]
    },
    {
     "name": "stdout",
     "output_type": "stream",
     "text": [
      "4/4 [==============================] - 0s 26ms/step\n"
     ]
    },
    {
     "name": "stderr",
     "output_type": "stream",
     "text": [
      "2020-12-17 22:17:19,323 [DEBUG] kashgari - predict output: (114, 24)\n",
      "2020-12-17 22:17:19,324 [DEBUG] kashgari - predict output argmax: [[0 1 1 ... 1 1 1]\n",
      " [0 1 1 ... 1 1 0]\n",
      " [0 1 1 ... 1 1 1]\n",
      " ...\n",
      " [0 1 1 ... 1 1 1]\n",
      " [0 1 1 ... 2 2 2]\n",
      " [0 0 0 ... 0 0 0]]\n",
      "2020-12-17 22:17:19,327 [DEBUG] kashgari - predict seq_length: None, input: (2, 111, 47)\n"
     ]
    },
    {
     "name": "stdout",
     "output_type": "stream",
     "text": [
      "4/4 [==============================] - 0s 44ms/step\n"
     ]
    },
    {
     "name": "stderr",
     "output_type": "stream",
     "text": [
      "2020-12-17 22:17:19,589 [DEBUG] kashgari - predict output: (111, 47)\n",
      "2020-12-17 22:17:19,590 [DEBUG] kashgari - predict output argmax: [[0 1 1 ... 2 2 2]\n",
      " [0 1 1 ... 1 1 1]\n",
      " [0 1 0 ... 1 1 1]\n",
      " ...\n",
      " [0 1 1 ... 1 1 1]\n",
      " [0 1 1 ... 1 1 1]\n",
      " [0 0 0 ... 0 0 0]]\n",
      "2020-12-17 22:17:19,594 [DEBUG] kashgari - predict seq_length: None, input: (2, 350, 34)\n"
     ]
    },
    {
     "name": "stdout",
     "output_type": "stream",
     "text": [
      "11/11 [==============================] - 0s 43ms/step\n"
     ]
    },
    {
     "name": "stderr",
     "output_type": "stream",
     "text": [
      "2020-12-17 22:17:20,141 [DEBUG] kashgari - predict output: (350, 34)\n",
      "2020-12-17 22:17:20,142 [DEBUG] kashgari - predict output argmax: [[ 0  1  1 ...  1  1  1]\n",
      " [ 0  1  1 ...  1  1  1]\n",
      " [ 0  1  1 ...  1  1  1]\n",
      " ...\n",
      " [ 0  1  1 ... 22 22 22]\n",
      " [ 0  1  1 ...  1  1  1]\n",
      " [ 0  0  0 ...  0  0  0]]\n",
      "2020-12-17 22:17:20,143 [DEBUG] kashgari - predict seq_length: None, input: (2, 56, 20)\n"
     ]
    },
    {
     "name": "stdout",
     "output_type": "stream",
     "text": [
      "2/2 [==============================] - 0s 16ms/step\n"
     ]
    },
    {
     "name": "stderr",
     "output_type": "stream",
     "text": [
      "2020-12-17 22:17:20,228 [DEBUG] kashgari - predict output: (56, 20)\n",
      "2020-12-17 22:17:20,228 [DEBUG] kashgari - predict output argmax: [[0 1 1 ... 1 1 1]\n",
      " [0 1 1 ... 1 1 1]\n",
      " [0 1 1 ... 1 1 1]\n",
      " ...\n",
      " [0 1 1 ... 1 1 1]\n",
      " [0 1 1 ... 1 1 1]\n",
      " [0 0 0 ... 0 0 0]]\n",
      "2020-12-17 22:17:20,231 [DEBUG] kashgari - predict seq_length: None, input: (2, 131, 17)\n"
     ]
    },
    {
     "name": "stdout",
     "output_type": "stream",
     "text": [
      "5/5 [==============================] - 0s 24ms/step\n"
     ]
    },
    {
     "name": "stderr",
     "output_type": "stream",
     "text": [
      "2020-12-17 22:17:20,408 [DEBUG] kashgari - predict output: (131, 17)\n",
      "2020-12-17 22:17:20,409 [DEBUG] kashgari - predict output argmax: [[0 1 1 ... 1 1 1]\n",
      " [0 1 1 ... 1 1 1]\n",
      " [0 1 1 ... 1 1 1]\n",
      " ...\n",
      " [0 1 1 ... 1 1 1]\n",
      " [0 1 1 ... 1 1 1]\n",
      " [0 0 0 ... 0 0 0]]\n",
      "2020-12-17 22:17:20,413 [DEBUG] kashgari - predict seq_length: None, input: (2, 184, 34)\n"
     ]
    },
    {
     "name": "stdout",
     "output_type": "stream",
     "text": [
      "6/6 [==============================] - 0s 38ms/step\n"
     ]
    },
    {
     "name": "stderr",
     "output_type": "stream",
     "text": [
      "2020-12-17 22:17:20,711 [DEBUG] kashgari - predict output: (184, 34)\n",
      "2020-12-17 22:17:20,712 [DEBUG] kashgari - predict output argmax: [[0 1 1 ... 1 1 1]\n",
      " [0 1 1 ... 1 1 1]\n",
      " [0 1 1 ... 1 1 1]\n",
      " ...\n",
      " [0 1 1 ... 1 1 1]\n",
      " [0 1 1 ... 1 1 1]\n",
      " [0 0 0 ... 0 0 0]]\n",
      "2020-12-17 22:17:20,715 [DEBUG] kashgari - predict seq_length: None, input: (2, 133, 51)\n"
     ]
    },
    {
     "name": "stdout",
     "output_type": "stream",
     "text": [
      "5/5 [==============================] - 0s 52ms/step\n"
     ]
    },
    {
     "name": "stderr",
     "output_type": "stream",
     "text": [
      "2020-12-17 22:17:23,926 [DEBUG] kashgari - predict output: (133, 51)\n",
      "2020-12-17 22:17:23,927 [DEBUG] kashgari - predict output argmax: [[0 1 1 ... 1 1 1]\n",
      " [0 1 1 ... 2 2 2]\n",
      " [0 1 1 ... 1 1 1]\n",
      " ...\n",
      " [0 1 0 ... 1 1 1]\n",
      " [0 1 1 ... 1 1 1]\n",
      " [0 0 0 ... 0 0 0]]\n",
      "2020-12-17 22:17:23,931 [DEBUG] kashgari - predict seq_length: None, input: (2, 210, 53)\n"
     ]
    },
    {
     "name": "stdout",
     "output_type": "stream",
     "text": [
      "7/7 [==============================] - 0s 62ms/step\n"
     ]
    },
    {
     "name": "stderr",
     "output_type": "stream",
     "text": [
      "2020-12-17 22:17:27,337 [DEBUG] kashgari - predict output: (210, 53)\n",
      "2020-12-17 22:17:27,337 [DEBUG] kashgari - predict output argmax: [[0 1 1 ... 1 1 1]\n",
      " [0 1 1 ... 1 1 1]\n",
      " [0 1 1 ... 9 9 9]\n",
      " ...\n",
      " [0 1 1 ... 1 1 1]\n",
      " [0 1 1 ... 1 1 1]\n",
      " [0 0 0 ... 0 0 0]]\n",
      "2020-12-17 22:17:27,340 [DEBUG] kashgari - predict seq_length: None, input: (2, 193, 55)\n"
     ]
    },
    {
     "name": "stdout",
     "output_type": "stream",
     "text": [
      "7/7 [==============================] - 0s 59ms/step\n"
     ]
    },
    {
     "name": "stderr",
     "output_type": "stream",
     "text": [
      "2020-12-17 22:17:30,735 [DEBUG] kashgari - predict output: (193, 55)\n",
      "2020-12-17 22:17:30,736 [DEBUG] kashgari - predict output argmax: [[ 0  1  1 ...  1  1  1]\n",
      " [ 0 19  9 ...  8  8  8]\n",
      " [ 0  1  1 ...  1  1  1]\n",
      " ...\n",
      " [ 0  1  1 ...  1  1  1]\n",
      " [ 0  1  1 ...  1  1  1]\n",
      " [ 0  0  0 ...  0  0  0]]\n",
      "2020-12-17 22:17:30,737 [DEBUG] kashgari - predict seq_length: None, input: (2, 75, 30)\n"
     ]
    },
    {
     "name": "stdout",
     "output_type": "stream",
     "text": [
      "3/3 [==============================] - 0s 24ms/step\n"
     ]
    },
    {
     "name": "stderr",
     "output_type": "stream",
     "text": [
      "2020-12-17 22:17:30,871 [DEBUG] kashgari - predict output: (75, 30)\n",
      "2020-12-17 22:17:30,872 [DEBUG] kashgari - predict output argmax: [[0 1 1 ... 1 1 1]\n",
      " [0 1 1 ... 1 1 1]\n",
      " [0 1 1 ... 0 1 1]\n",
      " ...\n",
      " [0 1 0 ... 1 1 1]\n",
      " [0 1 1 ... 1 1 1]\n",
      " [0 0 0 ... 0 0 0]]\n",
      "2020-12-17 22:17:30,876 [DEBUG] kashgari - predict seq_length: None, input: (2, 280, 46)\n"
     ]
    },
    {
     "name": "stdout",
     "output_type": "stream",
     "text": [
      "9/9 [==============================] - 1s 60ms/step\n"
     ]
    },
    {
     "name": "stderr",
     "output_type": "stream",
     "text": [
      "2020-12-17 22:17:34,358 [DEBUG] kashgari - predict output: (280, 46)\n",
      "2020-12-17 22:17:34,358 [DEBUG] kashgari - predict output argmax: [[0 1 1 ... 1 1 1]\n",
      " [0 1 1 ... 1 1 1]\n",
      " [0 1 1 ... 1 1 1]\n",
      " ...\n",
      " [0 1 1 ... 1 1 1]\n",
      " [0 1 1 ... 1 1 1]\n",
      " [0 0 0 ... 0 0 0]]\n",
      "2020-12-17 22:17:34,361 [DEBUG] kashgari - predict seq_length: None, input: (2, 210, 20)\n"
     ]
    },
    {
     "name": "stdout",
     "output_type": "stream",
     "text": [
      "7/7 [==============================] - 0s 29ms/step\n"
     ]
    },
    {
     "name": "stderr",
     "output_type": "stream",
     "text": [
      "2020-12-17 22:17:34,615 [DEBUG] kashgari - predict output: (210, 20)\n",
      "2020-12-17 22:17:34,616 [DEBUG] kashgari - predict output argmax: [[0 1 1 ... 1 1 1]\n",
      " [0 1 1 ... 1 1 1]\n",
      " [0 1 0 ... 1 1 1]\n",
      " ...\n",
      " [0 1 0 ... 1 1 1]\n",
      " [0 1 1 ... 1 1 1]\n",
      " [0 0 0 ... 0 0 0]]\n",
      "2020-12-17 22:17:34,620 [DEBUG] kashgari - predict seq_length: None, input: (2, 176, 24)\n"
     ]
    },
    {
     "name": "stdout",
     "output_type": "stream",
     "text": [
      "6/6 [==============================] - 0s 31ms/step\n"
     ]
    },
    {
     "name": "stderr",
     "output_type": "stream",
     "text": [
      "2020-12-17 22:17:34,862 [DEBUG] kashgari - predict output: (176, 24)\n",
      "2020-12-17 22:17:34,863 [DEBUG] kashgari - predict output argmax: [[0 1 1 ... 1 1 1]\n",
      " [0 1 1 ... 1 1 1]\n",
      " [0 1 1 ... 1 1 1]\n",
      " ...\n",
      " [0 1 1 ... 1 1 1]\n",
      " [0 1 1 ... 1 1 1]\n",
      " [0 0 0 ... 0 0 0]]\n",
      "2020-12-17 22:17:34,867 [DEBUG] kashgari - predict seq_length: None, input: (2, 218, 25)\n"
     ]
    },
    {
     "name": "stdout",
     "output_type": "stream",
     "text": [
      "7/7 [==============================] - 0s 33ms/step\n"
     ]
    },
    {
     "name": "stderr",
     "output_type": "stream",
     "text": [
      "2020-12-17 22:17:35,156 [DEBUG] kashgari - predict output: (218, 25)\n",
      "2020-12-17 22:17:35,156 [DEBUG] kashgari - predict output argmax: [[0 1 1 ... 1 1 1]\n",
      " [0 1 1 ... 1 1 1]\n",
      " [0 1 1 ... 1 1 1]\n",
      " ...\n",
      " [0 1 1 ... 1 1 1]\n",
      " [0 1 1 ... 1 1 1]\n",
      " [0 0 0 ... 0 0 0]]\n",
      "2020-12-17 22:17:35,159 [DEBUG] kashgari - predict seq_length: None, input: (2, 91, 23)\n"
     ]
    },
    {
     "name": "stdout",
     "output_type": "stream",
     "text": [
      "3/3 [==============================] - 0s 25ms/step\n"
     ]
    },
    {
     "name": "stderr",
     "output_type": "stream",
     "text": [
      "2020-12-17 22:17:35,294 [DEBUG] kashgari - predict output: (91, 23)\n",
      "2020-12-17 22:17:35,295 [DEBUG] kashgari - predict output argmax: [[0 1 1 ... 1 1 1]\n",
      " [0 1 1 ... 1 1 1]\n",
      " [0 1 1 ... 1 1 1]\n",
      " ...\n",
      " [0 1 1 ... 1 1 1]\n",
      " [0 1 1 ... 1 1 1]\n",
      " [0 0 0 ... 0 0 0]]\n",
      "2020-12-17 22:17:35,299 [DEBUG] kashgari - predict seq_length: None, input: (2, 194, 28)\n"
     ]
    },
    {
     "name": "stdout",
     "output_type": "stream",
     "text": [
      "7/7 [==============================] - 0s 34ms/step\n"
     ]
    },
    {
     "name": "stderr",
     "output_type": "stream",
     "text": [
      "2020-12-17 22:17:35,602 [DEBUG] kashgari - predict output: (194, 28)\n",
      "2020-12-17 22:17:35,603 [DEBUG] kashgari - predict output argmax: [[0 1 1 ... 1 1 1]\n",
      " [0 1 1 ... 1 1 1]\n",
      " [0 1 1 ... 7 7 7]\n",
      " ...\n",
      " [0 4 2 ... 1 1 1]\n",
      " [0 1 1 ... 1 1 1]\n",
      " [0 0 0 ... 0 0 0]]\n",
      "2020-12-17 22:17:35,606 [DEBUG] kashgari - predict seq_length: None, input: (2, 179, 23)\n"
     ]
    },
    {
     "name": "stdout",
     "output_type": "stream",
     "text": [
      "6/6 [==============================] - 0s 31ms/step\n"
     ]
    },
    {
     "name": "stderr",
     "output_type": "stream",
     "text": [
      "2020-12-17 22:17:35,852 [DEBUG] kashgari - predict output: (179, 23)\n",
      "2020-12-17 22:17:35,853 [DEBUG] kashgari - predict output argmax: [[0 1 1 ... 1 1 1]\n",
      " [0 1 1 ... 1 1 1]\n",
      " [0 1 1 ... 1 1 1]\n",
      " ...\n",
      " [0 1 1 ... 1 1 1]\n",
      " [0 1 1 ... 1 1 1]\n",
      " [0 0 0 ... 0 0 0]]\n",
      "2020-12-17 22:17:35,857 [DEBUG] kashgari - predict seq_length: None, input: (2, 234, 40)\n"
     ]
    },
    {
     "name": "stdout",
     "output_type": "stream",
     "text": [
      "8/8 [==============================] - 0s 47ms/step\n"
     ]
    },
    {
     "name": "stderr",
     "output_type": "stream",
     "text": [
      "2020-12-17 22:17:39,083 [DEBUG] kashgari - predict output: (234, 40)\n",
      "2020-12-17 22:17:39,084 [DEBUG] kashgari - predict output argmax: [[0 1 1 ... 1 1 1]\n",
      " [0 1 1 ... 1 1 1]\n",
      " [0 1 1 ... 1 1 1]\n",
      " ...\n",
      " [0 1 1 ... 1 1 1]\n",
      " [0 1 1 ... 1 1 1]\n",
      " [0 0 0 ... 0 0 0]]\n",
      "2020-12-17 22:17:39,087 [DEBUG] kashgari - predict seq_length: None, input: (2, 250, 26)\n"
     ]
    },
    {
     "name": "stdout",
     "output_type": "stream",
     "text": [
      "8/8 [==============================] - 0s 40ms/step\n"
     ]
    },
    {
     "name": "stderr",
     "output_type": "stream",
     "text": [
      "2020-12-17 22:17:42,346 [DEBUG] kashgari - predict output: (250, 26)\n",
      "2020-12-17 22:17:42,347 [DEBUG] kashgari - predict output argmax: [[0 1 1 ... 1 1 1]\n",
      " [0 1 0 ... 1 1 1]\n",
      " [0 1 1 ... 1 1 1]\n",
      " ...\n",
      " [0 1 1 ... 1 1 1]\n",
      " [0 1 1 ... 1 1 1]\n",
      " [0 0 0 ... 0 0 0]]\n",
      "2020-12-17 22:17:42,349 [DEBUG] kashgari - predict seq_length: None, input: (2, 170, 43)\n"
     ]
    },
    {
     "name": "stdout",
     "output_type": "stream",
     "text": [
      "6/6 [==============================] - 0s 48ms/step\n"
     ]
    },
    {
     "name": "stderr",
     "output_type": "stream",
     "text": [
      "2020-12-17 22:17:45,396 [DEBUG] kashgari - predict output: (170, 43)\n",
      "2020-12-17 22:17:45,397 [DEBUG] kashgari - predict output argmax: [[0 1 1 ... 1 1 1]\n",
      " [0 1 1 ... 1 1 1]\n",
      " [0 1 1 ... 1 1 0]\n",
      " ...\n",
      " [0 1 1 ... 1 1 1]\n",
      " [0 1 1 ... 1 1 1]\n",
      " [0 0 0 ... 0 0 0]]\n",
      "2020-12-17 22:17:45,400 [DEBUG] kashgari - predict seq_length: None, input: (2, 145, 34)\n"
     ]
    },
    {
     "name": "stdout",
     "output_type": "stream",
     "text": [
      "5/5 [==============================] - 0s 37ms/step\n"
     ]
    },
    {
     "name": "stderr",
     "output_type": "stream",
     "text": [
      "2020-12-17 22:17:45,654 [DEBUG] kashgari - predict output: (145, 34)\n",
      "2020-12-17 22:17:45,655 [DEBUG] kashgari - predict output argmax: [[0 1 1 ... 9 9 9]\n",
      " [0 4 2 ... 1 1 1]\n",
      " [0 1 1 ... 1 1 1]\n",
      " ...\n",
      " [0 1 1 ... 1 1 1]\n",
      " [0 1 0 ... 1 1 1]\n",
      " [0 0 0 ... 0 0 0]]\n",
      "2020-12-17 22:17:45,656 [DEBUG] kashgari - predict seq_length: None, input: (2, 102, 29)\n"
     ]
    },
    {
     "name": "stdout",
     "output_type": "stream",
     "text": [
      "4/4 [==============================] - 0s 28ms/step\n"
     ]
    },
    {
     "name": "stderr",
     "output_type": "stream",
     "text": [
      "2020-12-17 22:17:45,830 [DEBUG] kashgari - predict output: (102, 29)\n",
      "2020-12-17 22:17:45,830 [DEBUG] kashgari - predict output argmax: [[0 1 1 ... 1 1 1]\n",
      " [0 1 1 ... 1 1 1]\n",
      " [0 1 1 ... 1 1 1]\n",
      " ...\n",
      " [0 1 1 ... 1 1 1]\n",
      " [0 1 1 ... 1 1 1]\n",
      " [0 0 0 ... 0 0 0]]\n",
      "2020-12-17 22:17:45,836 [DEBUG] kashgari - predict seq_length: None, input: (2, 340, 20)\n"
     ]
    },
    {
     "name": "stdout",
     "output_type": "stream",
     "text": [
      "11/11 [==============================] - 0s 30ms/step\n"
     ]
    },
    {
     "name": "stderr",
     "output_type": "stream",
     "text": [
      "2020-12-17 22:17:46,223 [DEBUG] kashgari - predict output: (340, 20)\n",
      "2020-12-17 22:17:46,224 [DEBUG] kashgari - predict output argmax: [[0 1 1 ... 1 1 1]\n",
      " [0 1 1 ... 1 1 1]\n",
      " [0 1 1 ... 1 1 1]\n",
      " ...\n",
      " [0 1 1 ... 1 1 1]\n",
      " [0 1 1 ... 1 1 1]\n",
      " [0 0 0 ... 0 0 0]]\n",
      "2020-12-17 22:17:46,226 [DEBUG] kashgari - predict seq_length: None, input: (2, 122, 23)\n"
     ]
    },
    {
     "name": "stdout",
     "output_type": "stream",
     "text": [
      "4/4 [==============================] - 0s 28ms/step\n"
     ]
    },
    {
     "name": "stderr",
     "output_type": "stream",
     "text": [
      "2020-12-17 22:17:46,399 [DEBUG] kashgari - predict output: (122, 23)\n",
      "2020-12-17 22:17:46,400 [DEBUG] kashgari - predict output argmax: [[0 1 1 ... 9 9 9]\n",
      " [0 1 1 ... 1 1 1]\n",
      " [0 1 1 ... 1 1 1]\n",
      " ...\n",
      " [0 1 1 ... 1 1 1]\n",
      " [0 1 1 ... 1 1 1]\n",
      " [0 0 0 ... 0 0 0]]\n",
      "2020-12-17 22:17:46,405 [DEBUG] kashgari - predict seq_length: None, input: (2, 381, 28)\n"
     ]
    },
    {
     "name": "stdout",
     "output_type": "stream",
     "text": [
      "12/12 [==============================] - 0s 38ms/step\n"
     ]
    },
    {
     "name": "stderr",
     "output_type": "stream",
     "text": [
      "2020-12-17 22:17:46,929 [DEBUG] kashgari - predict output: (381, 28)\n",
      "2020-12-17 22:17:46,930 [DEBUG] kashgari - predict output argmax: [[0 1 1 ... 1 1 1]\n",
      " [0 1 1 ... 1 1 1]\n",
      " [0 1 1 ... 1 1 1]\n",
      " ...\n",
      " [0 1 1 ... 1 1 1]\n",
      " [0 1 0 ... 1 1 1]\n",
      " [0 0 0 ... 0 0 0]]\n",
      "2020-12-17 22:17:46,933 [DEBUG] kashgari - predict seq_length: None, input: (2, 244, 27)\n"
     ]
    },
    {
     "name": "stdout",
     "output_type": "stream",
     "text": [
      "8/8 [==============================] - 0s 36ms/step\n"
     ]
    },
    {
     "name": "stderr",
     "output_type": "stream",
     "text": [
      "2020-12-17 22:17:47,281 [DEBUG] kashgari - predict output: (244, 27)\n",
      "2020-12-17 22:17:47,282 [DEBUG] kashgari - predict output argmax: [[0 1 1 ... 1 1 1]\n",
      " [0 1 1 ... 1 1 1]\n",
      " [0 1 1 ... 1 1 1]\n",
      " ...\n",
      " [0 1 1 ... 1 1 1]\n",
      " [0 1 1 ... 1 1 1]\n",
      " [0 0 0 ... 0 0 0]]\n",
      "2020-12-17 22:17:47,285 [DEBUG] kashgari - predict seq_length: None, input: (2, 91, 46)\n"
     ]
    },
    {
     "name": "stdout",
     "output_type": "stream",
     "text": [
      "3/3 [==============================] - 0s 41ms/step\n"
     ]
    },
    {
     "name": "stderr",
     "output_type": "stream",
     "text": [
      "2020-12-17 22:17:47,491 [DEBUG] kashgari - predict output: (91, 46)\n",
      "2020-12-17 22:17:47,492 [DEBUG] kashgari - predict output argmax: [[0 1 1 ... 1 1 1]\n",
      " [0 1 1 ... 1 1 1]\n",
      " [0 1 1 ... 1 1 1]\n",
      " ...\n",
      " [0 1 1 ... 1 1 1]\n",
      " [0 1 1 ... 1 1 1]\n",
      " [0 0 0 ... 0 0 0]]\n",
      "2020-12-17 22:17:47,496 [DEBUG] kashgari - predict seq_length: None, input: (2, 223, 42)\n"
     ]
    },
    {
     "name": "stdout",
     "output_type": "stream",
     "text": [
      "7/7 [==============================] - 0s 48ms/step\n"
     ]
    },
    {
     "name": "stderr",
     "output_type": "stream",
     "text": [
      "2020-12-17 22:17:47,909 [DEBUG] kashgari - predict output: (223, 42)\n",
      "2020-12-17 22:17:47,909 [DEBUG] kashgari - predict output argmax: [[0 1 1 ... 1 1 1]\n",
      " [0 1 1 ... 1 1 1]\n",
      " [0 1 0 ... 1 1 1]\n",
      " ...\n",
      " [0 1 1 ... 1 1 1]\n",
      " [0 1 1 ... 1 1 1]\n",
      " [0 0 0 ... 0 0 0]]\n",
      "2020-12-17 22:17:47,911 [DEBUG] kashgari - predict seq_length: None, input: (2, 146, 25)\n"
     ]
    },
    {
     "name": "stdout",
     "output_type": "stream",
     "text": [
      "5/5 [==============================] - 0s 30ms/step\n"
     ]
    },
    {
     "name": "stderr",
     "output_type": "stream",
     "text": [
      "2020-12-17 22:17:48,123 [DEBUG] kashgari - predict output: (146, 25)\n",
      "2020-12-17 22:17:48,123 [DEBUG] kashgari - predict output argmax: [[0 1 1 ... 1 1 1]\n",
      " [0 1 1 ... 1 1 1]\n",
      " [0 1 1 ... 1 1 1]\n",
      " ...\n",
      " [0 1 1 ... 1 1 1]\n",
      " [0 1 1 ... 1 1 1]\n",
      " [0 0 0 ... 0 0 0]]\n",
      "2020-12-17 22:17:48,127 [DEBUG] kashgari - predict seq_length: None, input: (2, 162, 23)\n"
     ]
    },
    {
     "name": "stdout",
     "output_type": "stream",
     "text": [
      "6/6 [==============================] - 0s 30ms/step\n"
     ]
    },
    {
     "name": "stderr",
     "output_type": "stream",
     "text": [
      "2020-12-17 22:17:48,362 [DEBUG] kashgari - predict output: (162, 23)\n",
      "2020-12-17 22:17:48,363 [DEBUG] kashgari - predict output argmax: [[0 1 1 ... 1 1 1]\n",
      " [0 1 1 ... 1 1 1]\n",
      " [0 1 1 ... 1 1 1]\n",
      " ...\n",
      " [0 1 1 ... 1 1 1]\n",
      " [0 1 1 ... 1 1 1]\n",
      " [0 0 0 ... 0 0 0]]\n",
      "2020-12-17 22:17:48,366 [DEBUG] kashgari - predict seq_length: None, input: (2, 244, 27)\n"
     ]
    },
    {
     "name": "stdout",
     "output_type": "stream",
     "text": [
      "8/8 [==============================] - 0s 35ms/step\n"
     ]
    },
    {
     "name": "stderr",
     "output_type": "stream",
     "text": [
      "2020-12-17 22:17:48,718 [DEBUG] kashgari - predict output: (244, 27)\n",
      "2020-12-17 22:17:48,719 [DEBUG] kashgari - predict output argmax: [[ 0  1  1 ...  1  1  1]\n",
      " [ 0 19  9 ...  9  9  9]\n",
      " [ 0  1  1 ...  1  1  1]\n",
      " ...\n",
      " [ 0  1  1 ...  1  1  1]\n",
      " [ 0  1  1 ...  0  1  1]\n",
      " [ 0  0  0 ...  0  0  0]]\n",
      "2020-12-17 22:17:48,721 [DEBUG] kashgari - predict seq_length: None, input: (2, 170, 18)\n"
     ]
    },
    {
     "name": "stdout",
     "output_type": "stream",
     "text": [
      "6/6 [==============================] - 0s 29ms/step\n"
     ]
    },
    {
     "name": "stderr",
     "output_type": "stream",
     "text": [
      "2020-12-17 22:17:51,903 [DEBUG] kashgari - predict output: (170, 18)\n",
      "2020-12-17 22:17:51,904 [DEBUG] kashgari - predict output argmax: [[0 1 1 ... 0 1 1]\n",
      " [0 1 1 ... 1 1 1]\n",
      " [0 1 1 ... 1 1 1]\n",
      " ...\n",
      " [0 1 1 ... 1 1 1]\n",
      " [0 1 1 ... 1 1 1]\n",
      " [0 0 0 ... 0 0 0]]\n",
      "2020-12-17 22:17:51,908 [DEBUG] kashgari - predict seq_length: None, input: (2, 199, 36)\n"
     ]
    },
    {
     "name": "stdout",
     "output_type": "stream",
     "text": [
      "7/7 [==============================] - 0s 40ms/step\n"
     ]
    },
    {
     "name": "stderr",
     "output_type": "stream",
     "text": [
      "2020-12-17 22:17:52,271 [DEBUG] kashgari - predict output: (199, 36)\n",
      "2020-12-17 22:17:52,272 [DEBUG] kashgari - predict output argmax: [[0 1 1 ... 1 1 1]\n",
      " [0 1 1 ... 1 1 1]\n",
      " [0 1 1 ... 1 1 1]\n",
      " ...\n",
      " [0 1 1 ... 1 1 1]\n",
      " [0 1 1 ... 1 1 1]\n",
      " [0 0 0 ... 0 0 0]]\n",
      "2020-12-17 22:17:52,276 [DEBUG] kashgari - predict seq_length: None, input: (2, 557, 17)\n"
     ]
    },
    {
     "name": "stdout",
     "output_type": "stream",
     "text": [
      "18/18 [==============================] - 1s 30ms/step\n"
     ]
    },
    {
     "name": "stderr",
     "output_type": "stream",
     "text": [
      "2020-12-17 22:17:52,876 [DEBUG] kashgari - predict output: (557, 17)\n",
      "2020-12-17 22:17:52,877 [DEBUG] kashgari - predict output argmax: [[ 0  1  1 ...  1  1  1]\n",
      " [ 0  1  0 ...  1  1  1]\n",
      " [ 0 19  9 ...  9  9  9]\n",
      " ...\n",
      " [ 0  1  1 ...  1  1  1]\n",
      " [ 0  1  1 ...  1  1  1]\n",
      " [ 0  0  0 ...  0  0  0]]\n",
      "2020-12-17 22:17:52,882 [DEBUG] kashgari - predict seq_length: None, input: (2, 278, 42)\n"
     ]
    },
    {
     "name": "stdout",
     "output_type": "stream",
     "text": [
      "9/9 [==============================] - 0s 50ms/step\n"
     ]
    },
    {
     "name": "stderr",
     "output_type": "stream",
     "text": [
      "2020-12-17 22:17:53,409 [DEBUG] kashgari - predict output: (278, 42)\n",
      "2020-12-17 22:17:53,410 [DEBUG] kashgari - predict output argmax: [[0 1 1 ... 1 1 1]\n",
      " [0 1 1 ... 1 1 1]\n",
      " [0 1 1 ... 1 1 1]\n",
      " ...\n",
      " [0 1 0 ... 1 1 1]\n",
      " [0 1 1 ... 1 1 1]\n",
      " [0 0 0 ... 0 0 0]]\n",
      "2020-12-17 22:17:53,412 [DEBUG] kashgari - predict seq_length: None, input: (2, 91, 19)\n"
     ]
    },
    {
     "name": "stdout",
     "output_type": "stream",
     "text": [
      "3/3 [==============================] - 0s 22ms/step\n"
     ]
    },
    {
     "name": "stderr",
     "output_type": "stream",
     "text": [
      "2020-12-17 22:17:53,536 [DEBUG] kashgari - predict output: (91, 19)\n",
      "2020-12-17 22:17:53,537 [DEBUG] kashgari - predict output argmax: [[0 1 1 ... 1 1 1]\n",
      " [0 1 1 ... 1 1 1]\n",
      " [0 1 1 ... 1 1 1]\n",
      " ...\n",
      " [0 1 0 ... 1 1 1]\n",
      " [0 1 1 ... 1 1 1]\n",
      " [0 0 0 ... 0 0 0]]\n",
      "2020-12-17 22:17:53,542 [DEBUG] kashgari - predict seq_length: None, input: (2, 296, 24)\n"
     ]
    },
    {
     "name": "stdout",
     "output_type": "stream",
     "text": [
      "10/10 [==============================] - 0s 34ms/step\n"
     ]
    },
    {
     "name": "stderr",
     "output_type": "stream",
     "text": [
      "2020-12-17 22:17:53,939 [DEBUG] kashgari - predict output: (296, 24)\n",
      "2020-12-17 22:17:53,940 [DEBUG] kashgari - predict output argmax: [[0 1 1 ... 1 1 1]\n",
      " [0 1 1 ... 1 1 1]\n",
      " [0 1 1 ... 1 1 1]\n",
      " ...\n",
      " [0 1 1 ... 1 1 1]\n",
      " [0 1 1 ... 1 1 1]\n",
      " [0 0 0 ... 0 0 0]]\n",
      "2020-12-17 22:17:53,942 [DEBUG] kashgari - predict seq_length: None, input: (2, 154, 48)\n"
     ]
    },
    {
     "name": "stdout",
     "output_type": "stream",
     "text": [
      "5/5 [==============================] - 0s 58ms/step\n"
     ]
    },
    {
     "name": "stderr",
     "output_type": "stream",
     "text": [
      "2020-12-17 22:17:57,191 [DEBUG] kashgari - predict output: (154, 48)\n",
      "2020-12-17 22:17:57,192 [DEBUG] kashgari - predict output argmax: [[0 1 1 ... 1 1 1]\n",
      " [0 1 1 ... 1 1 1]\n",
      " [0 1 1 ... 1 1 1]\n",
      " ...\n",
      " [0 1 1 ... 1 1 1]\n",
      " [0 1 1 ... 1 1 1]\n",
      " [0 0 0 ... 0 0 0]]\n",
      "2020-12-17 22:17:57,195 [DEBUG] kashgari - predict seq_length: None, input: (2, 206, 37)\n"
     ]
    },
    {
     "name": "stdout",
     "output_type": "stream",
     "text": [
      "7/7 [==============================] - 0s 47ms/step\n"
     ]
    },
    {
     "name": "stderr",
     "output_type": "stream",
     "text": [
      "2020-12-17 22:18:00,314 [DEBUG] kashgari - predict output: (206, 37)\n",
      "2020-12-17 22:18:00,315 [DEBUG] kashgari - predict output argmax: [[ 0  1  1 ...  1  1  1]\n",
      " [ 0  1  1 ...  1  1  1]\n",
      " [ 0  1  1 ...  1  1  1]\n",
      " ...\n",
      " [ 0  1  1 ...  1  1  1]\n",
      " [ 0  1 19 ...  1  1  1]\n",
      " [ 0  0  0 ...  0  0  0]]\n",
      "2020-12-17 22:18:00,318 [DEBUG] kashgari - predict seq_length: None, input: (2, 241, 20)\n"
     ]
    },
    {
     "name": "stdout",
     "output_type": "stream",
     "text": [
      "8/8 [==============================] - 0s 28ms/step\n"
     ]
    },
    {
     "name": "stderr",
     "output_type": "stream",
     "text": [
      "2020-12-17 22:18:00,600 [DEBUG] kashgari - predict output: (241, 20)\n",
      "2020-12-17 22:18:00,601 [DEBUG] kashgari - predict output argmax: [[0 1 1 ... 1 1 1]\n",
      " [0 4 2 ... 2 2 2]\n",
      " [0 1 0 ... 1 1 1]\n",
      " ...\n",
      " [0 1 1 ... 1 1 1]\n",
      " [0 1 1 ... 1 1 1]\n",
      " [0 0 0 ... 0 0 0]]\n",
      "2020-12-17 22:18:00,608 [DEBUG] kashgari - predict seq_length: None, input: (2, 459, 31)\n"
     ]
    },
    {
     "name": "stdout",
     "output_type": "stream",
     "text": [
      "15/15 [==============================] - 1s 41ms/step\n"
     ]
    },
    {
     "name": "stderr",
     "output_type": "stream",
     "text": [
      "2020-12-17 22:18:01,298 [DEBUG] kashgari - predict output: (459, 31)\n",
      "2020-12-17 22:18:01,298 [DEBUG] kashgari - predict output argmax: [[0 1 1 ... 1 1 1]\n",
      " [0 1 1 ... 1 1 1]\n",
      " [0 1 1 ... 1 1 1]\n",
      " ...\n",
      " [0 1 1 ... 1 1 1]\n",
      " [0 1 1 ... 1 1 1]\n",
      " [0 0 0 ... 0 0 0]]\n",
      "2020-12-17 22:18:01,302 [DEBUG] kashgari - predict seq_length: None, input: (2, 223, 34)\n"
     ]
    },
    {
     "name": "stdout",
     "output_type": "stream",
     "text": [
      "7/7 [==============================] - 0s 41ms/step\n"
     ]
    },
    {
     "name": "stderr",
     "output_type": "stream",
     "text": [
      "2020-12-17 22:18:01,662 [DEBUG] kashgari - predict output: (223, 34)\n",
      "2020-12-17 22:18:01,663 [DEBUG] kashgari - predict output argmax: [[0 1 1 ... 1 1 1]\n",
      " [0 1 1 ... 1 1 1]\n",
      " [0 1 1 ... 1 1 1]\n",
      " ...\n",
      " [0 1 1 ... 1 1 1]\n",
      " [0 1 1 ... 1 1 1]\n",
      " [0 0 0 ... 0 0 0]]\n",
      "2020-12-17 22:18:01,667 [DEBUG] kashgari - predict seq_length: None, input: (2, 358, 26)\n"
     ]
    },
    {
     "name": "stdout",
     "output_type": "stream",
     "text": [
      "12/12 [==============================] - 0s 37ms/step\n"
     ]
    },
    {
     "name": "stderr",
     "output_type": "stream",
     "text": [
      "2020-12-17 22:18:02,171 [DEBUG] kashgari - predict output: (358, 26)\n",
      "2020-12-17 22:18:02,172 [DEBUG] kashgari - predict output argmax: [[0 1 1 ... 1 1 1]\n",
      " [0 1 1 ... 1 1 1]\n",
      " [0 1 0 ... 1 1 1]\n",
      " ...\n",
      " [0 1 1 ... 1 1 1]\n",
      " [0 1 1 ... 1 1 1]\n",
      " [0 0 0 ... 0 0 0]]\n",
      "2020-12-17 22:18:02,174 [DEBUG] kashgari - predict seq_length: None, input: (2, 72, 20)\n"
     ]
    },
    {
     "name": "stdout",
     "output_type": "stream",
     "text": [
      "3/3 [==============================] - 0s 19ms/step\n"
     ]
    },
    {
     "name": "stderr",
     "output_type": "stream",
     "text": [
      "2020-12-17 22:18:02,284 [DEBUG] kashgari - predict output: (72, 20)\n",
      "2020-12-17 22:18:02,285 [DEBUG] kashgari - predict output argmax: [[0 1 1 ... 1 1 1]\n",
      " [0 1 1 ... 1 1 1]\n",
      " [0 1 1 ... 1 1 1]\n",
      " ...\n",
      " [0 1 1 ... 1 1 1]\n",
      " [0 1 1 ... 1 1 1]\n",
      " [0 0 0 ... 0 0 0]]\n",
      "2020-12-17 22:18:02,287 [DEBUG] kashgari - predict seq_length: None, input: (2, 75, 24)\n"
     ]
    },
    {
     "name": "stdout",
     "output_type": "stream",
     "text": [
      "3/3 [==============================] - 0s 21ms/step\n"
     ]
    },
    {
     "name": "stderr",
     "output_type": "stream",
     "text": [
      "2020-12-17 22:18:02,409 [DEBUG] kashgari - predict output: (75, 24)\n",
      "2020-12-17 22:18:02,410 [DEBUG] kashgari - predict output argmax: [[0 1 1 ... 1 1 1]\n",
      " [0 1 1 ... 1 1 1]\n",
      " [0 1 1 ... 1 1 1]\n",
      " ...\n",
      " [0 1 1 ... 1 1 1]\n",
      " [0 1 1 ... 1 1 1]\n",
      " [0 0 0 ... 0 0 0]]\n",
      "2020-12-17 22:18:02,414 [DEBUG] kashgari - predict seq_length: None, input: (2, 191, 36)\n"
     ]
    },
    {
     "name": "stdout",
     "output_type": "stream",
     "text": [
      "6/6 [==============================] - 0s 42ms/step\n"
     ]
    },
    {
     "name": "stderr",
     "output_type": "stream",
     "text": [
      "2020-12-17 22:18:02,736 [DEBUG] kashgari - predict output: (191, 36)\n",
      "2020-12-17 22:18:02,737 [DEBUG] kashgari - predict output argmax: [[0 1 1 ... 1 1 1]\n",
      " [0 1 1 ... 1 1 1]\n",
      " [0 1 1 ... 1 1 1]\n",
      " ...\n",
      " [0 1 1 ... 1 1 1]\n",
      " [0 1 1 ... 1 1 1]\n",
      " [0 0 0 ... 0 0 0]]\n",
      "2020-12-17 22:18:02,740 [DEBUG] kashgari - predict seq_length: None, input: (2, 149, 19)\n"
     ]
    },
    {
     "name": "stdout",
     "output_type": "stream",
     "text": [
      "5/5 [==============================] - 0s 26ms/step\n"
     ]
    },
    {
     "name": "stderr",
     "output_type": "stream",
     "text": [
      "2020-12-17 22:18:02,919 [DEBUG] kashgari - predict output: (149, 19)\n",
      "2020-12-17 22:18:02,920 [DEBUG] kashgari - predict output argmax: [[ 0  1  1 ...  9  9  9]\n",
      " [ 0  1  1 ... 22 22 22]\n",
      " [ 0  1  1 ...  1  1  1]\n",
      " ...\n",
      " [ 0  1  1 ...  1  1  1]\n",
      " [ 0  1  1 ...  1  1  1]\n",
      " [ 0  0  0 ...  0  0  0]]\n",
      "2020-12-17 22:18:02,923 [DEBUG] kashgari - predict seq_length: None, input: (2, 176, 22)\n"
     ]
    },
    {
     "name": "stdout",
     "output_type": "stream",
     "text": [
      "6/6 [==============================] - 0s 28ms/step\n"
     ]
    },
    {
     "name": "stderr",
     "output_type": "stream",
     "text": [
      "2020-12-17 22:18:03,147 [DEBUG] kashgari - predict output: (176, 22)\n",
      "2020-12-17 22:18:03,148 [DEBUG] kashgari - predict output argmax: [[0 1 1 ... 1 1 1]\n",
      " [0 1 1 ... 1 1 1]\n",
      " [0 1 1 ... 1 1 1]\n",
      " ...\n",
      " [0 1 4 ... 2 2 2]\n",
      " [0 1 1 ... 1 1 1]\n",
      " [0 0 0 ... 0 0 0]]\n",
      "2020-12-17 22:18:03,151 [DEBUG] kashgari - predict seq_length: None, input: (2, 112, 45)\n"
     ]
    },
    {
     "name": "stdout",
     "output_type": "stream",
     "text": [
      "4/4 [==============================] - 0s 49ms/step\n"
     ]
    },
    {
     "name": "stderr",
     "output_type": "stream",
     "text": [
      "2020-12-17 22:18:07,198 [DEBUG] kashgari - predict output: (112, 45)\n",
      "2020-12-17 22:18:07,199 [DEBUG] kashgari - predict output argmax: [[0 1 1 ... 2 2 2]\n",
      " [0 1 1 ... 1 1 1]\n",
      " [0 1 1 ... 1 1 1]\n",
      " ...\n",
      " [0 1 1 ... 1 1 1]\n",
      " [0 1 1 ... 1 1 1]\n",
      " [0 0 0 ... 0 0 0]]\n",
      "2020-12-17 22:18:07,201 [DEBUG] kashgari - predict seq_length: None, input: (2, 269, 21)\n"
     ]
    },
    {
     "name": "stdout",
     "output_type": "stream",
     "text": [
      "9/9 [==============================] - 0s 30ms/step\n"
     ]
    },
    {
     "name": "stderr",
     "output_type": "stream",
     "text": [
      "2020-12-17 22:18:07,538 [DEBUG] kashgari - predict output: (269, 21)\n",
      "2020-12-17 22:18:07,539 [DEBUG] kashgari - predict output argmax: [[0 1 1 ... 1 1 1]\n",
      " [0 1 1 ... 1 1 1]\n",
      " [0 1 1 ... 1 1 1]\n",
      " ...\n",
      " [0 1 1 ... 1 1 1]\n",
      " [0 1 1 ... 1 1 1]\n",
      " [0 0 0 ... 0 0 0]]\n",
      "2020-12-17 22:18:07,541 [DEBUG] kashgari - predict seq_length: None, input: (2, 112, 18)\n"
     ]
    },
    {
     "name": "stdout",
     "output_type": "stream",
     "text": [
      "4/4 [==============================] - 0s 23ms/step\n"
     ]
    },
    {
     "name": "stderr",
     "output_type": "stream",
     "text": [
      "2020-12-17 22:18:07,681 [DEBUG] kashgari - predict output: (112, 18)\n",
      "2020-12-17 22:18:07,682 [DEBUG] kashgari - predict output argmax: [[ 0  1  1 ...  1  1  1]\n",
      " [ 0  1  1 ...  1  1  1]\n",
      " [ 0  1  1 ...  1  1  1]\n",
      " ...\n",
      " [ 0  1  1 ...  1  1  1]\n",
      " [ 0  1 11 ...  1  1  1]\n",
      " [ 0  0  0 ...  0  0  0]]\n",
      "2020-12-17 22:18:07,686 [DEBUG] kashgari - predict seq_length: None, input: (2, 352, 22)\n"
     ]
    },
    {
     "name": "stdout",
     "output_type": "stream",
     "text": [
      "11/11 [==============================] - 0s 27ms/step\n"
     ]
    },
    {
     "name": "stderr",
     "output_type": "stream",
     "text": [
      "2020-12-17 22:18:09,925 [DEBUG] kashgari - predict output: (352, 22)\n",
      "2020-12-17 22:18:09,926 [DEBUG] kashgari - predict output argmax: [[0 1 1 ... 1 1 1]\n",
      " [0 1 1 ... 1 1 1]\n",
      " [0 1 1 ... 1 1 1]\n",
      " ...\n",
      " [0 1 1 ... 1 1 1]\n",
      " [0 1 1 ... 1 1 1]\n",
      " [0 0 0 ... 0 0 0]]\n",
      "2020-12-17 22:18:09,930 [DEBUG] kashgari - predict seq_length: None, input: (2, 243, 24)\n"
     ]
    },
    {
     "name": "stdout",
     "output_type": "stream",
     "text": [
      "8/8 [==============================] - 0s 33ms/step\n"
     ]
    },
    {
     "name": "stderr",
     "output_type": "stream",
     "text": [
      "2020-12-17 22:18:10,258 [DEBUG] kashgari - predict output: (243, 24)\n",
      "2020-12-17 22:18:10,259 [DEBUG] kashgari - predict output argmax: [[0 1 1 ... 1 1 1]\n",
      " [0 1 1 ... 1 1 1]\n",
      " [0 1 1 ... 1 1 1]\n",
      " ...\n",
      " [0 1 1 ... 1 1 1]\n",
      " [0 1 1 ... 1 1 1]\n",
      " [0 0 0 ... 0 0 0]]\n",
      "2020-12-17 22:18:10,263 [DEBUG] kashgari - predict seq_length: None, input: (2, 340, 27)\n"
     ]
    },
    {
     "name": "stdout",
     "output_type": "stream",
     "text": [
      "11/11 [==============================] - 0s 37ms/step\n"
     ]
    },
    {
     "name": "stderr",
     "output_type": "stream",
     "text": [
      "2020-12-17 22:18:10,730 [DEBUG] kashgari - predict output: (340, 27)\n",
      "2020-12-17 22:18:10,730 [DEBUG] kashgari - predict output argmax: [[0 1 1 ... 1 1 1]\n",
      " [0 1 1 ... 1 1 1]\n",
      " [0 1 1 ... 1 1 1]\n",
      " ...\n",
      " [0 1 1 ... 1 1 1]\n",
      " [0 1 1 ... 1 1 1]\n",
      " [0 0 0 ... 0 0 0]]\n",
      "2020-12-17 22:18:10,735 [DEBUG] kashgari - predict seq_length: None, input: (2, 384, 25)\n"
     ]
    },
    {
     "name": "stdout",
     "output_type": "stream",
     "text": [
      "12/12 [==============================] - 0s 31ms/step\n"
     ]
    },
    {
     "name": "stderr",
     "output_type": "stream",
     "text": [
      "2020-12-17 22:18:13,030 [DEBUG] kashgari - predict output: (384, 25)\n",
      "2020-12-17 22:18:13,030 [DEBUG] kashgari - predict output argmax: [[0 1 1 ... 1 1 1]\n",
      " [0 1 1 ... 1 1 1]\n",
      " [0 1 1 ... 1 1 1]\n",
      " ...\n",
      " [0 1 1 ... 1 1 1]\n",
      " [0 1 1 ... 1 1 1]\n",
      " [0 0 0 ... 0 0 0]]\n",
      "2020-12-17 22:18:13,034 [DEBUG] kashgari - predict seq_length: None, input: (2, 112, 36)\n"
     ]
    },
    {
     "name": "stdout",
     "output_type": "stream",
     "text": [
      "4/4 [==============================] - 0s 35ms/step\n"
     ]
    },
    {
     "name": "stderr",
     "output_type": "stream",
     "text": [
      "2020-12-17 22:18:13,242 [DEBUG] kashgari - predict output: (112, 36)\n",
      "2020-12-17 22:18:13,242 [DEBUG] kashgari - predict output argmax: [[0 1 1 ... 1 1 1]\n",
      " [0 1 1 ... 1 1 1]\n",
      " [0 1 1 ... 1 1 1]\n",
      " ...\n",
      " [0 1 1 ... 1 1 1]\n",
      " [0 1 0 ... 1 1 1]\n",
      " [0 0 0 ... 0 0 0]]\n",
      "2020-12-17 22:18:13,245 [DEBUG] kashgari - predict seq_length: None, input: (2, 222, 28)\n"
     ]
    },
    {
     "name": "stdout",
     "output_type": "stream",
     "text": [
      "7/7 [==============================] - 0s 36ms/step\n"
     ]
    },
    {
     "name": "stderr",
     "output_type": "stream",
     "text": [
      "2020-12-17 22:18:13,561 [DEBUG] kashgari - predict output: (222, 28)\n",
      "2020-12-17 22:18:13,562 [DEBUG] kashgari - predict output argmax: [[0 1 1 ... 1 1 1]\n",
      " [0 1 1 ... 1 1 1]\n",
      " [0 1 1 ... 1 1 1]\n",
      " ...\n",
      " [0 1 1 ... 1 1 1]\n",
      " [0 1 1 ... 1 1 1]\n",
      " [0 0 0 ... 0 0 0]]\n",
      "2020-12-17 22:18:13,566 [DEBUG] kashgari - predict seq_length: None, input: (2, 255, 34)\n"
     ]
    },
    {
     "name": "stdout",
     "output_type": "stream",
     "text": [
      "8/8 [==============================] - 0s 42ms/step\n"
     ]
    },
    {
     "name": "stderr",
     "output_type": "stream",
     "text": [
      "2020-12-17 22:18:13,968 [DEBUG] kashgari - predict output: (255, 34)\n",
      "2020-12-17 22:18:13,969 [DEBUG] kashgari - predict output argmax: [[0 1 1 ... 1 1 1]\n",
      " [0 1 1 ... 1 1 1]\n",
      " [0 1 1 ... 1 1 1]\n",
      " ...\n",
      " [0 1 1 ... 1 1 1]\n",
      " [0 1 1 ... 1 1 1]\n",
      " [0 0 0 ... 0 0 0]]\n",
      "2020-12-17 22:18:13,970 [DEBUG] kashgari - predict seq_length: None, input: (2, 67, 25)\n"
     ]
    },
    {
     "name": "stdout",
     "output_type": "stream",
     "text": [
      "3/3 [==============================] - 0s 22ms/step\n"
     ]
    },
    {
     "name": "stderr",
     "output_type": "stream",
     "text": [
      "2020-12-17 22:18:14,090 [DEBUG] kashgari - predict output: (67, 25)\n",
      "2020-12-17 22:18:14,091 [DEBUG] kashgari - predict output argmax: [[0 1 1 ... 1 1 1]\n",
      " [0 1 1 ... 1 1 1]\n",
      " [0 4 2 ... 1 1 1]\n",
      " ...\n",
      " [0 1 1 ... 1 1 1]\n",
      " [0 1 1 ... 1 1 1]\n",
      " [0 0 0 ... 0 0 0]]\n",
      "2020-12-17 22:18:14,093 [DEBUG] kashgari - predict seq_length: None, input: (2, 77, 53)\n"
     ]
    },
    {
     "name": "stdout",
     "output_type": "stream",
     "text": [
      "3/3 [==============================] - 0s 38ms/step\n"
     ]
    },
    {
     "name": "stderr",
     "output_type": "stream",
     "text": [
      "2020-12-17 22:18:14,297 [DEBUG] kashgari - predict output: (77, 53)\n",
      "2020-12-17 22:18:14,297 [DEBUG] kashgari - predict output argmax: [[0 1 1 ... 1 1 1]\n",
      " [0 1 1 ... 1 1 1]\n",
      " [0 1 1 ... 1 1 1]\n",
      " ...\n",
      " [0 1 1 ... 1 1 1]\n",
      " [0 1 1 ... 1 1 1]\n",
      " [0 0 0 ... 0 0 0]]\n",
      "2020-12-17 22:18:14,299 [DEBUG] kashgari - predict seq_length: None, input: (2, 67, 27)\n"
     ]
    },
    {
     "name": "stdout",
     "output_type": "stream",
     "text": [
      "3/3 [==============================] - 0s 23ms/step\n"
     ]
    },
    {
     "name": "stderr",
     "output_type": "stream",
     "text": [
      "2020-12-17 22:18:14,427 [DEBUG] kashgari - predict output: (67, 27)\n",
      "2020-12-17 22:18:14,427 [DEBUG] kashgari - predict output argmax: [[0 1 1 ... 1 1 1]\n",
      " [0 1 1 ... 1 1 1]\n",
      " [0 1 1 ... 1 1 1]\n",
      " ...\n",
      " [0 1 1 ... 8 8 8]\n",
      " [0 1 1 ... 1 1 1]\n",
      " [0 0 0 ... 0 0 0]]\n",
      "2020-12-17 22:18:14,429 [DEBUG] kashgari - predict seq_length: None, input: (2, 72, 19)\n"
     ]
    },
    {
     "name": "stdout",
     "output_type": "stream",
     "text": [
      "3/3 [==============================] - 0s 19ms/step\n"
     ]
    },
    {
     "name": "stderr",
     "output_type": "stream",
     "text": [
      "2020-12-17 22:18:14,539 [DEBUG] kashgari - predict output: (72, 19)\n",
      "2020-12-17 22:18:14,539 [DEBUG] kashgari - predict output argmax: [[0 1 1 ... 1 1 0]\n",
      " [0 1 1 ... 1 1 1]\n",
      " [0 1 1 ... 1 1 1]\n",
      " ...\n",
      " [0 1 1 ... 1 1 1]\n",
      " [0 1 1 ... 1 1 1]\n",
      " [0 0 0 ... 0 0 0]]\n",
      "2020-12-17 22:18:14,542 [DEBUG] kashgari - predict seq_length: None, input: (2, 98, 24)\n"
     ]
    },
    {
     "name": "stdout",
     "output_type": "stream",
     "text": [
      "4/4 [==============================] - 0s 26ms/step\n"
     ]
    },
    {
     "name": "stderr",
     "output_type": "stream",
     "text": [
      "2020-12-17 22:18:14,703 [DEBUG] kashgari - predict output: (98, 24)\n",
      "2020-12-17 22:18:14,704 [DEBUG] kashgari - predict output argmax: [[0 1 1 ... 1 1 1]\n",
      " [0 1 1 ... 1 1 1]\n",
      " [0 1 1 ... 1 1 1]\n",
      " ...\n",
      " [0 1 1 ... 1 1 1]\n",
      " [0 1 1 ... 1 1 1]\n",
      " [0 0 0 ... 0 0 0]]\n",
      "2020-12-17 22:18:14,706 [DEBUG] kashgari - predict seq_length: None, input: (2, 87, 37)\n"
     ]
    },
    {
     "name": "stdout",
     "output_type": "stream",
     "text": [
      "3/3 [==============================] - 0s 32ms/step\n"
     ]
    },
    {
     "name": "stderr",
     "output_type": "stream",
     "text": [
      "2020-12-17 22:18:14,873 [DEBUG] kashgari - predict output: (87, 37)\n",
      "2020-12-17 22:18:14,874 [DEBUG] kashgari - predict output argmax: [[0 1 1 ... 1 1 1]\n",
      " [0 1 1 ... 1 1 1]\n",
      " [0 1 1 ... 1 1 1]\n",
      " ...\n",
      " [0 1 1 ... 1 1 1]\n",
      " [0 1 1 ... 1 1 1]\n",
      " [0 0 0 ... 0 0 0]]\n",
      "2020-12-17 22:18:14,882 [DEBUG] kashgari - predict seq_length: None, input: (2, 311, 29)\n"
     ]
    },
    {
     "name": "stdout",
     "output_type": "stream",
     "text": [
      "10/10 [==============================] - 0s 38ms/step\n"
     ]
    },
    {
     "name": "stderr",
     "output_type": "stream",
     "text": [
      "2020-12-17 22:18:15,326 [DEBUG] kashgari - predict output: (311, 29)\n",
      "2020-12-17 22:18:15,326 [DEBUG] kashgari - predict output argmax: [[0 1 1 ... 1 1 1]\n",
      " [0 1 1 ... 1 1 1]\n",
      " [0 1 1 ... 1 1 1]\n",
      " ...\n",
      " [0 1 1 ... 1 1 1]\n",
      " [0 1 1 ... 1 1 1]\n",
      " [0 0 0 ... 0 0 0]]\n",
      "2020-12-17 22:18:15,331 [DEBUG] kashgari - predict seq_length: None, input: (2, 447, 20)\n"
     ]
    },
    {
     "name": "stdout",
     "output_type": "stream",
     "text": [
      "14/14 [==============================] - 0s 32ms/step\n"
     ]
    },
    {
     "name": "stderr",
     "output_type": "stream",
     "text": [
      "2020-12-17 22:18:15,831 [DEBUG] kashgari - predict output: (447, 20)\n",
      "2020-12-17 22:18:15,832 [DEBUG] kashgari - predict output argmax: [[0 1 1 ... 1 1 1]\n",
      " [0 1 1 ... 1 1 1]\n",
      " [0 1 1 ... 1 1 1]\n",
      " ...\n",
      " [0 1 1 ... 1 1 1]\n",
      " [0 1 0 ... 1 1 1]\n",
      " [0 0 0 ... 0 0 0]]\n",
      "2020-12-17 22:18:15,835 [DEBUG] kashgari - predict seq_length: None, input: (2, 218, 19)\n"
     ]
    },
    {
     "name": "stdout",
     "output_type": "stream",
     "text": [
      "7/7 [==============================] - 0s 28ms/step\n"
     ]
    },
    {
     "name": "stderr",
     "output_type": "stream",
     "text": [
      "2020-12-17 22:18:16,087 [DEBUG] kashgari - predict output: (218, 19)\n",
      "2020-12-17 22:18:16,088 [DEBUG] kashgari - predict output argmax: [[0 1 1 ... 1 1 1]\n",
      " [0 1 1 ... 1 1 1]\n",
      " [0 1 1 ... 1 1 1]\n",
      " ...\n",
      " [0 1 1 ... 1 1 1]\n",
      " [0 1 1 ... 1 1 1]\n",
      " [0 0 0 ... 0 0 0]]\n",
      "2020-12-17 22:18:16,093 [DEBUG] kashgari - predict seq_length: None, input: (2, 285, 30)\n"
     ]
    },
    {
     "name": "stdout",
     "output_type": "stream",
     "text": [
      "9/9 [==============================] - 0s 39ms/step\n"
     ]
    },
    {
     "name": "stderr",
     "output_type": "stream",
     "text": [
      "2020-12-17 22:18:16,507 [DEBUG] kashgari - predict output: (285, 30)\n",
      "2020-12-17 22:18:16,507 [DEBUG] kashgari - predict output argmax: [[0 1 1 ... 7 7 7]\n",
      " [0 1 1 ... 7 7 7]\n",
      " [0 1 1 ... 1 1 1]\n",
      " ...\n",
      " [0 1 1 ... 1 1 1]\n",
      " [0 1 1 ... 1 1 1]\n",
      " [0 0 0 ... 0 0 0]]\n",
      "2020-12-17 22:18:16,511 [DEBUG] kashgari - predict seq_length: None, input: (2, 424, 21)\n"
     ]
    },
    {
     "name": "stdout",
     "output_type": "stream",
     "text": [
      "14/14 [==============================] - 0s 32ms/step\n"
     ]
    },
    {
     "name": "stderr",
     "output_type": "stream",
     "text": [
      "2020-12-17 22:18:17,021 [DEBUG] kashgari - predict output: (424, 21)\n",
      "2020-12-17 22:18:17,022 [DEBUG] kashgari - predict output argmax: [[0 1 1 ... 1 1 1]\n",
      " [0 1 1 ... 1 1 1]\n",
      " [0 1 1 ... 1 1 1]\n",
      " ...\n",
      " [0 1 1 ... 1 1 1]\n",
      " [0 1 1 ... 1 1 1]\n",
      " [0 0 0 ... 0 0 0]]\n",
      "2020-12-17 22:18:17,023 [DEBUG] kashgari - predict seq_length: None, input: (2, 94, 30)\n"
     ]
    },
    {
     "name": "stdout",
     "output_type": "stream",
     "text": [
      "3/3 [==============================] - 0s 29ms/step\n"
     ]
    },
    {
     "name": "stderr",
     "output_type": "stream",
     "text": [
      "2020-12-17 22:18:17,172 [DEBUG] kashgari - predict output: (94, 30)\n",
      "2020-12-17 22:18:17,173 [DEBUG] kashgari - predict output argmax: [[0 1 1 ... 1 1 1]\n",
      " [0 1 1 ... 1 1 1]\n",
      " [0 1 1 ... 1 1 1]\n",
      " ...\n",
      " [0 1 1 ... 1 1 1]\n",
      " [0 1 1 ... 1 1 1]\n",
      " [0 0 0 ... 0 0 0]]\n",
      "2020-12-17 22:18:17,177 [DEBUG] kashgari - predict seq_length: None, input: (2, 202, 34)\n"
     ]
    },
    {
     "name": "stdout",
     "output_type": "stream",
     "text": [
      "7/7 [==============================] - 0s 39ms/step\n"
     ]
    },
    {
     "name": "stderr",
     "output_type": "stream",
     "text": [
      "2020-12-17 22:18:17,520 [DEBUG] kashgari - predict output: (202, 34)\n",
      "2020-12-17 22:18:17,521 [DEBUG] kashgari - predict output argmax: [[0 1 1 ... 1 1 1]\n",
      " [0 1 1 ... 1 1 1]\n",
      " [0 1 1 ... 1 1 1]\n",
      " ...\n",
      " [0 1 1 ... 1 1 1]\n",
      " [0 1 1 ... 1 1 1]\n",
      " [0 0 0 ... 0 0 0]]\n",
      "2020-12-17 22:18:17,523 [DEBUG] kashgari - predict seq_length: None, input: (2, 242, 50)\n"
     ]
    },
    {
     "name": "stdout",
     "output_type": "stream",
     "text": [
      "8/8 [==============================] - 0s 60ms/step\n"
     ]
    },
    {
     "name": "stderr",
     "output_type": "stream",
     "text": [
      "2020-12-17 22:18:20,755 [DEBUG] kashgari - predict output: (242, 50)\n",
      "2020-12-17 22:18:20,756 [DEBUG] kashgari - predict output argmax: [[0 1 1 ... 1 1 1]\n",
      " [0 1 1 ... 1 1 1]\n",
      " [0 1 1 ... 1 1 1]\n",
      " ...\n",
      " [0 1 1 ... 1 1 1]\n",
      " [0 1 1 ... 1 1 1]\n",
      " [0 1 1 ... 1 1 1]]\n",
      "2020-12-17 22:18:20,759 [DEBUG] kashgari - predict seq_length: None, input: (2, 269, 38)\n"
     ]
    },
    {
     "name": "stdout",
     "output_type": "stream",
     "text": [
      "9/9 [==============================] - 0s 46ms/step\n"
     ]
    },
    {
     "name": "stderr",
     "output_type": "stream",
     "text": [
      "2020-12-17 22:18:21,247 [DEBUG] kashgari - predict output: (269, 38)\n",
      "2020-12-17 22:18:21,248 [DEBUG] kashgari - predict output argmax: [[0 1 1 ... 1 1 1]\n",
      " [0 1 1 ... 1 1 1]\n",
      " [0 1 1 ... 1 1 1]\n",
      " ...\n",
      " [0 1 1 ... 1 1 1]\n",
      " [0 1 1 ... 1 1 1]\n",
      " [0 0 0 ... 0 0 0]]\n",
      "2020-12-17 22:18:21,249 [DEBUG] kashgari - predict seq_length: None, input: (2, 108, 35)\n"
     ]
    },
    {
     "name": "stdout",
     "output_type": "stream",
     "text": [
      "4/4 [==============================] - 0s 39ms/step\n"
     ]
    },
    {
     "name": "stderr",
     "output_type": "stream",
     "text": [
      "2020-12-17 22:18:24,085 [DEBUG] kashgari - predict output: (108, 35)\n",
      "2020-12-17 22:18:24,086 [DEBUG] kashgari - predict output argmax: [[0 1 1 ... 1 1 1]\n",
      " [0 1 0 ... 1 1 1]\n",
      " [0 1 1 ... 1 1 1]\n",
      " ...\n",
      " [0 1 1 ... 1 1 1]\n",
      " [0 1 1 ... 1 1 1]\n",
      " [0 0 0 ... 0 0 0]]\n",
      "2020-12-17 22:18:24,088 [DEBUG] kashgari - predict seq_length: None, input: (2, 136, 30)\n"
     ]
    },
    {
     "name": "stdout",
     "output_type": "stream",
     "text": [
      "5/5 [==============================] - 0s 34ms/step\n"
     ]
    },
    {
     "name": "stderr",
     "output_type": "stream",
     "text": [
      "2020-12-17 22:18:24,330 [DEBUG] kashgari - predict output: (136, 30)\n",
      "2020-12-17 22:18:24,331 [DEBUG] kashgari - predict output argmax: [[0 1 1 ... 1 1 1]\n",
      " [0 1 1 ... 1 1 1]\n",
      " [0 1 1 ... 1 1 1]\n",
      " ...\n",
      " [0 1 1 ... 1 1 1]\n",
      " [0 1 1 ... 1 1 1]\n",
      " [0 0 0 ... 0 0 0]]\n",
      "2020-12-17 22:18:24,335 [DEBUG] kashgari - predict seq_length: None, input: (2, 217, 28)\n"
     ]
    },
    {
     "name": "stdout",
     "output_type": "stream",
     "text": [
      "7/7 [==============================] - 0s 35ms/step\n"
     ]
    },
    {
     "name": "stderr",
     "output_type": "stream",
     "text": [
      "2020-12-17 22:18:24,642 [DEBUG] kashgari - predict output: (217, 28)\n",
      "2020-12-17 22:18:24,642 [DEBUG] kashgari - predict output argmax: [[0 1 1 ... 1 1 1]\n",
      " [0 1 1 ... 1 1 1]\n",
      " [0 1 1 ... 1 1 1]\n",
      " ...\n",
      " [0 1 1 ... 1 1 1]\n",
      " [0 1 1 ... 1 1 1]\n",
      " [0 0 0 ... 0 0 0]]\n",
      "2020-12-17 22:18:24,644 [DEBUG] kashgari - predict seq_length: None, input: (2, 83, 27)\n"
     ]
    },
    {
     "name": "stdout",
     "output_type": "stream",
     "text": [
      "3/3 [==============================] - 0s 26ms/step\n"
     ]
    },
    {
     "name": "stderr",
     "output_type": "stream",
     "text": [
      "2020-12-17 22:18:24,780 [DEBUG] kashgari - predict output: (83, 27)\n",
      "2020-12-17 22:18:24,781 [DEBUG] kashgari - predict output argmax: [[0 1 1 ... 1 1 1]\n",
      " [0 1 1 ... 1 1 1]\n",
      " [0 1 1 ... 1 1 1]\n",
      " ...\n",
      " [0 1 1 ... 1 1 1]\n",
      " [0 1 1 ... 1 1 1]\n",
      " [0 0 0 ... 0 0 0]]\n",
      "2020-12-17 22:18:24,786 [DEBUG] kashgari - predict seq_length: None, input: (2, 392, 36)\n"
     ]
    },
    {
     "name": "stdout",
     "output_type": "stream",
     "text": [
      "13/13 [==============================] - 1s 45ms/step\n"
     ]
    },
    {
     "name": "stderr",
     "output_type": "stream",
     "text": [
      "2020-12-17 22:18:25,444 [DEBUG] kashgari - predict output: (392, 36)\n",
      "2020-12-17 22:18:25,445 [DEBUG] kashgari - predict output argmax: [[0 1 1 ... 1 1 1]\n",
      " [0 1 1 ... 1 1 1]\n",
      " [0 1 1 ... 1 1 1]\n",
      " ...\n",
      " [0 1 1 ... 1 1 1]\n",
      " [0 1 1 ... 1 1 1]\n",
      " [0 0 0 ... 0 0 0]]\n",
      "2020-12-17 22:18:25,447 [DEBUG] kashgari - predict seq_length: None, input: (2, 108, 41)\n"
     ]
    },
    {
     "name": "stdout",
     "output_type": "stream",
     "text": [
      "4/4 [==============================] - 0s 37ms/step\n"
     ]
    },
    {
     "name": "stderr",
     "output_type": "stream",
     "text": [
      "2020-12-17 22:18:25,672 [DEBUG] kashgari - predict output: (108, 41)\n",
      "2020-12-17 22:18:25,672 [DEBUG] kashgari - predict output argmax: [[0 1 1 ... 1 1 1]\n",
      " [0 1 1 ... 1 1 1]\n",
      " [0 1 1 ... 1 1 1]\n",
      " ...\n",
      " [0 1 1 ... 1 1 1]\n",
      " [0 1 1 ... 1 1 1]\n",
      " [0 0 0 ... 0 0 0]]\n",
      "2020-12-17 22:18:25,676 [DEBUG] kashgari - predict seq_length: None, input: (2, 221, 26)\n"
     ]
    },
    {
     "name": "stdout",
     "output_type": "stream",
     "text": [
      "7/7 [==============================] - 0s 35ms/step\n"
     ]
    },
    {
     "name": "stderr",
     "output_type": "stream",
     "text": [
      "2020-12-17 22:18:25,983 [DEBUG] kashgari - predict output: (221, 26)\n",
      "2020-12-17 22:18:25,984 [DEBUG] kashgari - predict output argmax: [[0 1 1 ... 1 1 1]\n",
      " [0 1 1 ... 1 1 1]\n",
      " [0 1 1 ... 1 1 1]\n",
      " ...\n",
      " [0 1 1 ... 1 1 1]\n",
      " [0 1 1 ... 1 1 1]\n",
      " [0 0 0 ... 0 0 0]]\n",
      "2020-12-17 22:18:25,986 [DEBUG] kashgari - predict seq_length: None, input: (2, 94, 45)\n"
     ]
    },
    {
     "name": "stdout",
     "output_type": "stream",
     "text": [
      "3/3 [==============================] - 0s 40ms/step\n"
     ]
    },
    {
     "name": "stderr",
     "output_type": "stream",
     "text": [
      "2020-12-17 22:18:26,195 [DEBUG] kashgari - predict output: (94, 45)\n",
      "2020-12-17 22:18:26,195 [DEBUG] kashgari - predict output argmax: [[0 1 1 ... 1 1 1]\n",
      " [0 1 1 ... 1 1 1]\n",
      " [0 1 1 ... 1 1 1]\n",
      " ...\n",
      " [0 1 1 ... 1 1 1]\n",
      " [0 1 1 ... 1 1 1]\n",
      " [0 0 0 ... 0 0 0]]\n",
      "2020-12-17 22:18:26,197 [DEBUG] kashgari - predict seq_length: None, input: (2, 59, 21)\n"
     ]
    },
    {
     "name": "stdout",
     "output_type": "stream",
     "text": [
      "2/2 [==============================] - 0s 17ms/step\n"
     ]
    },
    {
     "name": "stderr",
     "output_type": "stream",
     "text": [
      "2020-12-17 22:18:26,284 [DEBUG] kashgari - predict output: (59, 21)\n",
      "2020-12-17 22:18:26,285 [DEBUG] kashgari - predict output argmax: [[0 1 1 ... 1 1 1]\n",
      " [0 1 1 ... 1 1 1]\n",
      " [0 1 1 ... 1 1 1]\n",
      " ...\n",
      " [0 1 1 ... 1 1 1]\n",
      " [0 1 1 ... 1 1 1]\n",
      " [0 0 0 ... 0 0 0]]\n",
      "2020-12-17 22:18:26,288 [DEBUG] kashgari - predict seq_length: None, input: (2, 101, 33)\n"
     ]
    },
    {
     "name": "stdout",
     "output_type": "stream",
     "text": [
      "4/4 [==============================] - 0s 35ms/step\n"
     ]
    },
    {
     "name": "stderr",
     "output_type": "stream",
     "text": [
      "2020-12-17 22:18:29,381 [DEBUG] kashgari - predict output: (101, 33)\n",
      "2020-12-17 22:18:29,382 [DEBUG] kashgari - predict output argmax: [[0 1 1 ... 1 1 1]\n",
      " [0 1 1 ... 1 1 1]\n",
      " [0 1 1 ... 1 1 1]\n",
      " ...\n",
      " [0 1 1 ... 1 1 1]\n",
      " [0 1 1 ... 1 1 1]\n",
      " [0 0 0 ... 0 0 0]]\n",
      "2020-12-17 22:18:29,384 [DEBUG] kashgari - predict seq_length: None, input: (2, 64, 33)\n"
     ]
    },
    {
     "name": "stdout",
     "output_type": "stream",
     "text": [
      "2/2 [==============================] - 0s 23ms/step\n"
     ]
    },
    {
     "name": "stderr",
     "output_type": "stream",
     "text": [
      "2020-12-17 22:18:31,356 [DEBUG] kashgari - predict output: (64, 33)\n",
      "2020-12-17 22:18:31,357 [DEBUG] kashgari - predict output argmax: [[0 1 1 ... 1 1 1]\n",
      " [0 1 1 ... 1 1 0]\n",
      " [0 1 1 ... 1 1 1]\n",
      " ...\n",
      " [0 1 1 ... 8 8 8]\n",
      " [0 1 1 ... 1 1 1]\n",
      " [0 0 0 ... 0 0 0]]\n",
      "2020-12-17 22:18:31,358 [DEBUG] kashgari - predict seq_length: None, input: (2, 85, 30)\n"
     ]
    },
    {
     "name": "stdout",
     "output_type": "stream",
     "text": [
      "3/3 [==============================] - 0s 30ms/step\n"
     ]
    },
    {
     "name": "stderr",
     "output_type": "stream",
     "text": [
      "2020-12-17 22:18:31,523 [DEBUG] kashgari - predict output: (85, 30)\n",
      "2020-12-17 22:18:31,523 [DEBUG] kashgari - predict output argmax: [[0 1 1 ... 1 1 1]\n",
      " [0 1 1 ... 1 1 1]\n",
      " [0 1 1 ... 1 1 1]\n",
      " ...\n",
      " [0 1 1 ... 1 1 1]\n",
      " [0 1 1 ... 1 1 1]\n",
      " [0 0 0 ... 0 0 0]]\n",
      "2020-12-17 22:18:31,525 [DEBUG] kashgari - predict seq_length: None, input: (2, 89, 33)\n"
     ]
    },
    {
     "name": "stdout",
     "output_type": "stream",
     "text": [
      "3/3 [==============================] - 0s 31ms/step\n"
     ]
    },
    {
     "name": "stderr",
     "output_type": "stream",
     "text": [
      "2020-12-17 22:18:31,695 [DEBUG] kashgari - predict output: (89, 33)\n",
      "2020-12-17 22:18:31,695 [DEBUG] kashgari - predict output argmax: [[0 1 1 ... 2 2 2]\n",
      " [0 1 1 ... 1 1 1]\n",
      " [0 1 1 ... 1 1 1]\n",
      " ...\n",
      " [0 1 1 ... 1 1 1]\n",
      " [0 1 1 ... 1 1 1]\n",
      " [0 0 0 ... 0 0 0]]\n",
      "2020-12-17 22:18:31,700 [DEBUG] kashgari - predict seq_length: None, input: (2, 254, 27)\n"
     ]
    },
    {
     "name": "stdout",
     "output_type": "stream",
     "text": [
      "8/8 [==============================] - 0s 36ms/step\n"
     ]
    },
    {
     "name": "stderr",
     "output_type": "stream",
     "text": [
      "2020-12-17 22:18:32,056 [DEBUG] kashgari - predict output: (254, 27)\n",
      "2020-12-17 22:18:32,057 [DEBUG] kashgari - predict output argmax: [[0 1 1 ... 1 1 1]\n",
      " [0 4 2 ... 1 1 1]\n",
      " [0 1 1 ... 1 1 1]\n",
      " ...\n",
      " [0 1 1 ... 1 1 1]\n",
      " [0 1 1 ... 1 1 1]\n",
      " [0 0 0 ... 0 0 0]]\n",
      "2020-12-17 22:18:32,060 [DEBUG] kashgari - predict seq_length: None, input: (2, 129, 29)\n"
     ]
    },
    {
     "name": "stdout",
     "output_type": "stream",
     "text": [
      "5/5 [==============================] - 0s 30ms/step\n"
     ]
    },
    {
     "name": "stderr",
     "output_type": "stream",
     "text": [
      "2020-12-17 22:18:32,275 [DEBUG] kashgari - predict output: (129, 29)\n",
      "2020-12-17 22:18:32,276 [DEBUG] kashgari - predict output argmax: [[0 1 1 ... 1 1 1]\n",
      " [0 1 1 ... 1 1 1]\n",
      " [0 1 1 ... 1 1 1]\n",
      " ...\n",
      " [0 1 1 ... 1 1 1]\n",
      " [0 1 1 ... 1 1 1]\n",
      " [0 0 0 ... 0 0 0]]\n",
      "2020-12-17 22:18:32,279 [DEBUG] kashgari - predict seq_length: None, input: (2, 130, 26)\n"
     ]
    },
    {
     "name": "stdout",
     "output_type": "stream",
     "text": [
      "5/5 [==============================] - 0s 29ms/step\n"
     ]
    },
    {
     "name": "stderr",
     "output_type": "stream",
     "text": [
      "2020-12-17 22:18:32,486 [DEBUG] kashgari - predict output: (130, 26)\n",
      "2020-12-17 22:18:32,487 [DEBUG] kashgari - predict output argmax: [[ 0  1  1 ...  1  1  1]\n",
      " [ 0  1  1 ...  1  1  1]\n",
      " [ 0  1  1 ...  1  1  1]\n",
      " ...\n",
      " [ 0  1  1 ...  1  1  1]\n",
      " [ 0  1  1 ... 22 22 22]\n",
      " [ 0  0  0 ...  0  0  0]]\n",
      "2020-12-17 22:18:32,490 [DEBUG] kashgari - predict seq_length: None, input: (2, 143, 37)\n"
     ]
    },
    {
     "name": "stdout",
     "output_type": "stream",
     "text": [
      "5/5 [==============================] - 0s 39ms/step\n"
     ]
    },
    {
     "name": "stderr",
     "output_type": "stream",
     "text": [
      "2020-12-17 22:18:32,763 [DEBUG] kashgari - predict output: (143, 37)\n",
      "2020-12-17 22:18:32,764 [DEBUG] kashgari - predict output argmax: [[0 1 1 ... 1 1 1]\n",
      " [0 1 1 ... 1 1 1]\n",
      " [0 1 1 ... 1 1 1]\n",
      " ...\n",
      " [0 1 1 ... 1 1 1]\n",
      " [0 1 1 ... 1 1 1]\n",
      " [0 0 0 ... 0 0 0]]\n",
      "2020-12-17 22:18:32,767 [DEBUG] kashgari - predict seq_length: None, input: (2, 107, 36)\n"
     ]
    },
    {
     "name": "stdout",
     "output_type": "stream",
     "text": [
      "4/4 [==============================] - 0s 33ms/step\n"
     ]
    },
    {
     "name": "stderr",
     "output_type": "stream",
     "text": [
      "2020-12-17 22:18:32,967 [DEBUG] kashgari - predict output: (107, 36)\n",
      "2020-12-17 22:18:32,968 [DEBUG] kashgari - predict output argmax: [[0 1 1 ... 1 1 1]\n",
      " [0 1 1 ... 1 1 1]\n",
      " [0 1 1 ... 1 1 1]\n",
      " ...\n",
      " [0 1 1 ... 1 1 1]\n",
      " [0 1 1 ... 1 1 1]\n",
      " [0 0 0 ... 0 0 0]]\n",
      "2020-12-17 22:18:32,970 [DEBUG] kashgari - predict seq_length: None, input: (2, 70, 28)\n"
     ]
    },
    {
     "name": "stdout",
     "output_type": "stream",
     "text": [
      "3/3 [==============================] - 0s 23ms/step\n"
     ]
    },
    {
     "name": "stderr",
     "output_type": "stream",
     "text": [
      "2020-12-17 22:18:33,100 [DEBUG] kashgari - predict output: (70, 28)\n",
      "2020-12-17 22:18:33,101 [DEBUG] kashgari - predict output argmax: [[0 1 1 ... 1 1 1]\n",
      " [0 1 1 ... 1 1 1]\n",
      " [0 1 1 ... 1 1 1]\n",
      " ...\n",
      " [0 1 1 ... 1 1 1]\n",
      " [0 1 1 ... 1 1 1]\n",
      " [0 0 0 ... 0 0 0]]\n",
      "2020-12-17 22:18:33,105 [DEBUG] kashgari - predict seq_length: None, input: (2, 189, 26)\n"
     ]
    },
    {
     "name": "stdout",
     "output_type": "stream",
     "text": [
      "6/6 [==============================] - 0s 35ms/step\n"
     ]
    },
    {
     "name": "stderr",
     "output_type": "stream",
     "text": [
      "2020-12-17 22:18:33,379 [DEBUG] kashgari - predict output: (189, 26)\n",
      "2020-12-17 22:18:33,380 [DEBUG] kashgari - predict output argmax: [[0 1 1 ... 1 1 1]\n",
      " [0 1 1 ... 1 1 1]\n",
      " [0 1 1 ... 1 1 1]\n",
      " ...\n",
      " [0 1 1 ... 1 1 1]\n",
      " [0 1 1 ... 1 1 1]\n",
      " [0 0 0 ... 0 0 0]]\n",
      "2020-12-17 22:18:33,383 [DEBUG] kashgari - predict seq_length: None, input: (2, 99, 48)\n"
     ]
    },
    {
     "name": "stdout",
     "output_type": "stream",
     "text": [
      "4/4 [==============================] - 0s 40ms/step\n"
     ]
    },
    {
     "name": "stderr",
     "output_type": "stream",
     "text": [
      "2020-12-17 22:18:33,628 [DEBUG] kashgari - predict output: (99, 48)\n",
      "2020-12-17 22:18:33,629 [DEBUG] kashgari - predict output argmax: [[0 1 1 ... 1 1 1]\n",
      " [0 1 1 ... 1 1 1]\n",
      " [0 1 1 ... 1 1 1]\n",
      " ...\n",
      " [0 1 1 ... 1 1 1]\n",
      " [0 1 1 ... 1 1 1]\n",
      " [0 0 0 ... 0 0 0]]\n",
      "2020-12-17 22:18:33,633 [DEBUG] kashgari - predict seq_length: None, input: (2, 213, 35)\n"
     ]
    },
    {
     "name": "stdout",
     "output_type": "stream",
     "text": [
      "7/7 [==============================] - 0s 42ms/step\n"
     ]
    },
    {
     "name": "stderr",
     "output_type": "stream",
     "text": [
      "2020-12-17 22:18:33,999 [DEBUG] kashgari - predict output: (213, 35)\n",
      "2020-12-17 22:18:34,000 [DEBUG] kashgari - predict output argmax: [[0 1 1 ... 1 1 1]\n",
      " [0 1 1 ... 1 1 1]\n",
      " [0 1 1 ... 1 1 1]\n",
      " ...\n",
      " [0 1 1 ... 1 1 1]\n",
      " [0 1 0 ... 1 1 1]\n",
      " [0 0 0 ... 0 0 0]]\n",
      "2020-12-17 22:18:34,004 [DEBUG] kashgari - predict seq_length: None, input: (2, 181, 40)\n"
     ]
    },
    {
     "name": "stdout",
     "output_type": "stream",
     "text": [
      "6/6 [==============================] - 0s 44ms/step\n"
     ]
    },
    {
     "name": "stderr",
     "output_type": "stream",
     "text": [
      "2020-12-17 22:18:34,344 [DEBUG] kashgari - predict output: (181, 40)\n",
      "2020-12-17 22:18:34,345 [DEBUG] kashgari - predict output argmax: [[0 1 1 ... 1 1 1]\n",
      " [0 1 1 ... 1 1 1]\n",
      " [0 1 1 ... 1 1 1]\n",
      " ...\n",
      " [0 1 1 ... 1 1 1]\n",
      " [0 1 1 ... 1 1 1]\n",
      " [0 0 0 ... 0 0 0]]\n",
      "2020-12-17 22:18:34,347 [DEBUG] kashgari - predict seq_length: None, input: (2, 119, 34)\n"
     ]
    },
    {
     "name": "stdout",
     "output_type": "stream",
     "text": [
      "4/4 [==============================] - 0s 35ms/step\n"
     ]
    },
    {
     "name": "stderr",
     "output_type": "stream",
     "text": [
      "2020-12-17 22:18:34,554 [DEBUG] kashgari - predict output: (119, 34)\n",
      "2020-12-17 22:18:34,555 [DEBUG] kashgari - predict output argmax: [[0 1 1 ... 1 1 1]\n",
      " [0 1 0 ... 1 1 1]\n",
      " [0 1 1 ... 1 1 1]\n",
      " ...\n",
      " [0 1 1 ... 1 1 1]\n",
      " [0 1 1 ... 1 1 1]\n",
      " [0 0 0 ... 0 0 0]]\n",
      "2020-12-17 22:18:34,559 [DEBUG] kashgari - predict seq_length: None, input: (2, 188, 52)\n"
     ]
    },
    {
     "name": "stdout",
     "output_type": "stream",
     "text": [
      "6/6 [==============================] - 0s 61ms/step\n"
     ]
    },
    {
     "name": "stderr",
     "output_type": "stream",
     "text": [
      "2020-12-17 22:18:37,852 [DEBUG] kashgari - predict output: (188, 52)\n",
      "2020-12-17 22:18:37,853 [DEBUG] kashgari - predict output argmax: [[0 1 1 ... 1 1 1]\n",
      " [0 1 1 ... 1 1 1]\n",
      " [0 1 1 ... 1 1 1]\n",
      " ...\n",
      " [0 1 1 ... 1 1 1]\n",
      " [0 1 1 ... 1 1 1]\n",
      " [0 0 0 ... 0 0 0]]\n",
      "2020-12-17 22:18:37,858 [DEBUG] kashgari - predict seq_length: None, input: (2, 252, 30)\n"
     ]
    },
    {
     "name": "stdout",
     "output_type": "stream",
     "text": [
      "8/8 [==============================] - 0s 38ms/step\n"
     ]
    },
    {
     "name": "stderr",
     "output_type": "stream",
     "text": [
      "2020-12-17 22:18:38,228 [DEBUG] kashgari - predict output: (252, 30)\n",
      "2020-12-17 22:18:38,228 [DEBUG] kashgari - predict output argmax: [[0 1 1 ... 1 1 1]\n",
      " [0 1 1 ... 1 1 1]\n",
      " [0 1 1 ... 1 1 1]\n",
      " ...\n",
      " [0 1 1 ... 1 1 1]\n",
      " [0 1 1 ... 1 1 1]\n",
      " [0 0 0 ... 0 0 0]]\n",
      "2020-12-17 22:18:38,231 [DEBUG] kashgari - predict seq_length: None, input: (2, 249, 38)\n"
     ]
    },
    {
     "name": "stdout",
     "output_type": "stream",
     "text": [
      "8/8 [==============================] - 0s 46ms/step\n"
     ]
    },
    {
     "name": "stderr",
     "output_type": "stream",
     "text": [
      "2020-12-17 22:18:38,675 [DEBUG] kashgari - predict output: (249, 38)\n",
      "2020-12-17 22:18:38,676 [DEBUG] kashgari - predict output argmax: [[0 1 1 ... 1 1 1]\n",
      " [0 1 1 ... 1 1 1]\n",
      " [0 1 4 ... 1 1 1]\n",
      " ...\n",
      " [0 1 1 ... 1 1 1]\n",
      " [0 1 1 ... 1 1 1]\n",
      " [0 0 0 ... 0 0 0]]\n",
      "2020-12-17 22:18:38,678 [DEBUG] kashgari - predict seq_length: None, input: (2, 65, 44)\n"
     ]
    },
    {
     "name": "stdout",
     "output_type": "stream",
     "text": [
      "3/3 [==============================] - 0s 32ms/step\n"
     ]
    },
    {
     "name": "stderr",
     "output_type": "stream",
     "text": [
      "2020-12-17 22:18:41,707 [DEBUG] kashgari - predict output: (65, 44)\n",
      "2020-12-17 22:18:41,708 [DEBUG] kashgari - predict output argmax: [[0 1 1 ... 1 1 1]\n",
      " [0 1 1 ... 1 1 1]\n",
      " [0 1 1 ... 1 1 1]\n",
      " ...\n",
      " [0 1 1 ... 8 8 8]\n",
      " [0 1 1 ... 1 1 1]\n",
      " [0 0 0 ... 0 0 0]]\n",
      "2020-12-17 22:18:41,715 [DEBUG] kashgari - predict seq_length: None, input: (2, 265, 41)\n"
     ]
    },
    {
     "name": "stdout",
     "output_type": "stream",
     "text": [
      "9/9 [==============================] - 0s 48ms/step\n"
     ]
    },
    {
     "name": "stderr",
     "output_type": "stream",
     "text": [
      "2020-12-17 22:18:42,239 [DEBUG] kashgari - predict output: (265, 41)\n",
      "2020-12-17 22:18:42,240 [DEBUG] kashgari - predict output argmax: [[0 1 1 ... 1 1 1]\n",
      " [0 1 1 ... 1 1 1]\n",
      " [0 1 1 ... 1 1 1]\n",
      " ...\n",
      " [0 1 1 ... 1 1 1]\n",
      " [0 1 1 ... 1 1 1]\n",
      " [0 0 0 ... 0 0 0]]\n",
      "2020-12-17 22:18:42,242 [DEBUG] kashgari - predict seq_length: None, input: (2, 163, 33)\n"
     ]
    },
    {
     "name": "stdout",
     "output_type": "stream",
     "text": [
      "6/6 [==============================] - 0s 36ms/step\n"
     ]
    },
    {
     "name": "stderr",
     "output_type": "stream",
     "text": [
      "2020-12-17 22:18:42,529 [DEBUG] kashgari - predict output: (163, 33)\n",
      "2020-12-17 22:18:42,529 [DEBUG] kashgari - predict output argmax: [[0 1 1 ... 2 2 2]\n",
      " [0 1 1 ... 2 2 2]\n",
      " [0 1 1 ... 2 2 2]\n",
      " ...\n",
      " [0 1 1 ... 1 1 1]\n",
      " [0 1 1 ... 1 1 1]\n",
      " [0 0 0 ... 0 0 0]]\n",
      "2020-12-17 22:18:42,533 [DEBUG] kashgari - predict seq_length: None, input: (2, 166, 33)\n"
     ]
    },
    {
     "name": "stdout",
     "output_type": "stream",
     "text": [
      "6/6 [==============================] - 0s 36ms/step\n"
     ]
    },
    {
     "name": "stderr",
     "output_type": "stream",
     "text": [
      "2020-12-17 22:18:42,815 [DEBUG] kashgari - predict output: (166, 33)\n",
      "2020-12-17 22:18:42,815 [DEBUG] kashgari - predict output argmax: [[ 0  1  1 ...  9  9  9]\n",
      " [ 0 20  8 ...  8  8  8]\n",
      " [ 0  1  1 ...  1  1  1]\n",
      " ...\n",
      " [ 0  1  1 ...  1  1  1]\n",
      " [ 0  1  1 ...  1  1  1]\n",
      " [ 0  0  0 ...  0  0  0]]\n",
      "2020-12-17 22:18:42,818 [DEBUG] kashgari - predict seq_length: None, input: (2, 152, 37)\n"
     ]
    },
    {
     "name": "stdout",
     "output_type": "stream",
     "text": [
      "5/5 [==============================] - 0s 40ms/step\n"
     ]
    },
    {
     "name": "stderr",
     "output_type": "stream",
     "text": [
      "2020-12-17 22:18:43,093 [DEBUG] kashgari - predict output: (152, 37)\n",
      "2020-12-17 22:18:43,094 [DEBUG] kashgari - predict output argmax: [[0 1 1 ... 1 1 1]\n",
      " [0 1 1 ... 1 1 1]\n",
      " [0 1 1 ... 1 1 1]\n",
      " ...\n",
      " [0 1 1 ... 1 1 1]\n",
      " [0 1 1 ... 1 1 1]\n",
      " [0 0 0 ... 0 0 0]]\n",
      "2020-12-17 22:18:43,097 [DEBUG] kashgari - predict seq_length: None, input: (2, 129, 26)\n"
     ]
    },
    {
     "name": "stdout",
     "output_type": "stream",
     "text": [
      "5/5 [==============================] - 0s 29ms/step\n"
     ]
    },
    {
     "name": "stderr",
     "output_type": "stream",
     "text": [
      "2020-12-17 22:18:43,303 [DEBUG] kashgari - predict output: (129, 26)\n",
      "2020-12-17 22:18:43,304 [DEBUG] kashgari - predict output argmax: [[0 1 1 ... 1 1 1]\n",
      " [0 1 1 ... 1 1 1]\n",
      " [0 1 1 ... 1 1 1]\n",
      " ...\n",
      " [0 1 1 ... 1 1 1]\n",
      " [0 1 1 ... 1 1 1]\n",
      " [0 0 0 ... 0 0 0]]\n",
      "2020-12-17 22:18:43,308 [DEBUG] kashgari - predict seq_length: None, input: (2, 260, 42)\n"
     ]
    },
    {
     "name": "stdout",
     "output_type": "stream",
     "text": [
      "9/9 [==============================] - 0s 47ms/step\n"
     ]
    },
    {
     "name": "stderr",
     "output_type": "stream",
     "text": [
      "2020-12-17 22:18:43,805 [DEBUG] kashgari - predict output: (260, 42)\n",
      "2020-12-17 22:18:43,806 [DEBUG] kashgari - predict output argmax: [[0 1 1 ... 1 1 1]\n",
      " [0 1 1 ... 1 1 1]\n",
      " [0 1 1 ... 1 1 1]\n",
      " ...\n",
      " [0 1 1 ... 1 1 1]\n",
      " [0 1 1 ... 1 1 1]\n",
      " [0 0 0 ... 0 0 0]]\n",
      "2020-12-17 22:18:43,812 [DEBUG] kashgari - predict seq_length: None, input: (2, 557, 59)\n"
     ]
    },
    {
     "name": "stdout",
     "output_type": "stream",
     "text": [
      "18/18 [==============================] - 1s 72ms/step\n"
     ]
    },
    {
     "name": "stderr",
     "output_type": "stream",
     "text": [
      "2020-12-17 22:18:47,949 [DEBUG] kashgari - predict output: (557, 59)\n",
      "2020-12-17 22:18:47,950 [DEBUG] kashgari - predict output argmax: [[ 0  1  1 ...  1  1  1]\n",
      " [ 0  1  1 ...  1  1  1]\n",
      " [ 0  1  1 ...  1  1  1]\n",
      " ...\n",
      " [ 0  1  1 ... 22 22 22]\n",
      " [ 0  1  1 ...  1  1  1]\n",
      " [ 0  0  0 ...  0  0  0]]\n",
      "2020-12-17 22:18:47,952 [DEBUG] kashgari - predict seq_length: None, input: (2, 144, 72)\n"
     ]
    },
    {
     "name": "stdout",
     "output_type": "stream",
     "text": [
      "5/5 [==============================] - 0s 72ms/step\n"
     ]
    },
    {
     "name": "stderr",
     "output_type": "stream",
     "text": [
      "2020-12-17 22:18:51,068 [DEBUG] kashgari - predict output: (144, 72)\n",
      "2020-12-17 22:18:51,069 [DEBUG] kashgari - predict output argmax: [[0 1 1 ... 1 1 1]\n",
      " [0 1 1 ... 1 1 1]\n",
      " [0 1 1 ... 1 1 1]\n",
      " ...\n",
      " [0 1 1 ... 1 1 1]\n",
      " [0 1 1 ... 1 1 1]\n",
      " [0 0 0 ... 0 0 0]]\n",
      "2020-12-17 22:18:51,074 [DEBUG] kashgari - predict seq_length: None, input: (2, 474, 27)\n"
     ]
    },
    {
     "name": "stdout",
     "output_type": "stream",
     "text": [
      "15/15 [==============================] - 1s 38ms/step\n"
     ]
    },
    {
     "name": "stderr",
     "output_type": "stream",
     "text": [
      "2020-12-17 22:18:51,709 [DEBUG] kashgari - predict output: (474, 27)\n",
      "2020-12-17 22:18:51,710 [DEBUG] kashgari - predict output argmax: [[0 1 1 ... 1 1 1]\n",
      " [0 1 1 ... 1 1 1]\n",
      " [0 1 1 ... 1 1 1]\n",
      " ...\n",
      " [0 1 1 ... 1 1 1]\n",
      " [0 1 1 ... 1 1 1]\n",
      " [0 0 0 ... 0 0 0]]\n",
      "2020-12-17 22:18:51,713 [DEBUG] kashgari - predict seq_length: None, input: (2, 253, 34)\n"
     ]
    },
    {
     "name": "stdout",
     "output_type": "stream",
     "text": [
      "8/8 [==============================] - 0s 42ms/step\n"
     ]
    },
    {
     "name": "stderr",
     "output_type": "stream",
     "text": [
      "2020-12-17 22:18:52,117 [DEBUG] kashgari - predict output: (253, 34)\n",
      "2020-12-17 22:18:52,118 [DEBUG] kashgari - predict output argmax: [[0 1 1 ... 1 1 1]\n",
      " [0 1 1 ... 1 1 1]\n",
      " [0 1 1 ... 1 1 1]\n",
      " ...\n",
      " [0 1 1 ... 1 1 1]\n",
      " [0 1 1 ... 1 1 1]\n",
      " [0 0 0 ... 0 0 0]]\n",
      "2020-12-17 22:18:52,121 [DEBUG] kashgari - predict seq_length: None, input: (2, 210, 45)\n"
     ]
    },
    {
     "name": "stdout",
     "output_type": "stream",
     "text": [
      "7/7 [==============================] - 0s 52ms/step\n"
     ]
    },
    {
     "name": "stderr",
     "output_type": "stream",
     "text": [
      "2020-12-17 22:18:52,571 [DEBUG] kashgari - predict output: (210, 45)\n",
      "2020-12-17 22:18:52,572 [DEBUG] kashgari - predict output argmax: [[0 1 1 ... 1 1 1]\n",
      " [0 1 1 ... 1 1 1]\n",
      " [0 1 1 ... 1 1 1]\n",
      " ...\n",
      " [0 1 1 ... 2 2 2]\n",
      " [0 1 1 ... 1 1 1]\n",
      " [0 0 0 ... 0 0 0]]\n",
      "2020-12-17 22:18:52,575 [DEBUG] kashgari - predict seq_length: None, input: (2, 244, 32)\n"
     ]
    },
    {
     "name": "stdout",
     "output_type": "stream",
     "text": [
      "8/8 [==============================] - 0s 39ms/step\n"
     ]
    },
    {
     "name": "stderr",
     "output_type": "stream",
     "text": [
      "2020-12-17 22:18:52,958 [DEBUG] kashgari - predict output: (244, 32)\n",
      "2020-12-17 22:18:52,958 [DEBUG] kashgari - predict output argmax: [[0 1 1 ... 1 1 1]\n",
      " [0 1 1 ... 1 1 1]\n",
      " [0 1 1 ... 1 1 1]\n",
      " ...\n",
      " [0 1 1 ... 1 1 1]\n",
      " [0 1 0 ... 1 1 1]\n",
      " [0 0 0 ... 0 0 0]]\n",
      "2020-12-17 22:18:52,961 [DEBUG] kashgari - predict seq_length: None, input: (2, 319, 36)\n"
     ]
    },
    {
     "name": "stdout",
     "output_type": "stream",
     "text": [
      "10/10 [==============================] - 0s 45ms/step\n"
     ]
    },
    {
     "name": "stderr",
     "output_type": "stream",
     "text": [
      "2020-12-17 22:18:53,487 [DEBUG] kashgari - predict output: (319, 36)\n",
      "2020-12-17 22:18:53,488 [DEBUG] kashgari - predict output argmax: [[0 1 1 ... 1 1 1]\n",
      " [0 1 1 ... 1 1 1]\n",
      " [0 1 1 ... 1 1 1]\n",
      " ...\n",
      " [0 1 1 ... 1 1 1]\n",
      " [0 1 1 ... 1 1 1]\n",
      " [0 0 0 ... 0 0 0]]\n",
      "2020-12-17 22:18:53,492 [DEBUG] kashgari - predict seq_length: None, input: (2, 437, 36)\n"
     ]
    },
    {
     "name": "stdout",
     "output_type": "stream",
     "text": [
      "14/14 [==============================] - 1s 46ms/step\n"
     ]
    },
    {
     "name": "stderr",
     "output_type": "stream",
     "text": [
      "2020-12-17 22:18:54,209 [DEBUG] kashgari - predict output: (437, 36)\n",
      "2020-12-17 22:18:54,210 [DEBUG] kashgari - predict output argmax: [[0 1 1 ... 1 1 1]\n",
      " [0 1 1 ... 1 1 1]\n",
      " [0 1 1 ... 1 1 1]\n",
      " ...\n",
      " [0 1 1 ... 1 1 1]\n",
      " [0 1 1 ... 1 1 1]\n",
      " [0 0 0 ... 0 0 0]]\n",
      "2020-12-17 22:18:54,213 [DEBUG] kashgari - predict seq_length: None, input: (2, 171, 78)\n"
     ]
    },
    {
     "name": "stdout",
     "output_type": "stream",
     "text": [
      "6/6 [==============================] - 0s 78ms/step\n"
     ]
    },
    {
     "name": "stderr",
     "output_type": "stream",
     "text": [
      "2020-12-17 22:18:57,664 [DEBUG] kashgari - predict output: (171, 78)\n",
      "2020-12-17 22:18:57,664 [DEBUG] kashgari - predict output argmax: [[0 1 1 ... 1 1 1]\n",
      " [0 1 1 ... 1 1 1]\n",
      " [0 1 1 ... 1 1 1]\n",
      " ...\n",
      " [0 1 1 ... 1 1 1]\n",
      " [0 1 1 ... 1 1 1]\n",
      " [0 0 0 ... 0 0 0]]\n"
     ]
    }
   ],
   "source": [
    "df = predicting_txt_to_dataframe('/home/Danny/AI-CUP-2020/datasets/stage5/test.txt')\n",
    "output_str = \"article_id\\tstart_position\\tend_position\\tentity_text\\tentity_type\\n\"\n",
    "\n",
    "for article_id, text in zip(df['article_id'], df['text']):\n",
    "    x_list = [word for word in text]\n",
    "    y_list = predict_NER(text)\n",
    "    output_str += output_NER(article_id, text, y_list)"
   ]
  },
  {
   "cell_type": "code",
   "execution_count": 23,
   "metadata": {},
   "outputs": [],
   "source": [
    "output_path = 'output/duplicates_augmentation_{}_epoch_{}_batch_{}.tsv'.format(model_name, epochs, batch_size)\n",
    "with open(output_path, 'w', encoding='utf-8') as f:\n",
    "    f.write(output_str)"
   ]
  },
  {
   "cell_type": "code",
   "execution_count": 24,
   "metadata": {},
   "outputs": [
    {
     "data": {
      "text/html": [
       "<div>\n",
       "<style scoped>\n",
       "    .dataframe tbody tr th:only-of-type {\n",
       "        vertical-align: middle;\n",
       "    }\n",
       "\n",
       "    .dataframe tbody tr th {\n",
       "        vertical-align: top;\n",
       "    }\n",
       "\n",
       "    .dataframe thead th {\n",
       "        text-align: right;\n",
       "    }\n",
       "</style>\n",
       "<table border=\"1\" class=\"dataframe\">\n",
       "  <thead>\n",
       "    <tr style=\"text-align: right;\">\n",
       "      <th></th>\n",
       "      <th>article_id</th>\n",
       "      <th>start_position</th>\n",
       "      <th>end_position</th>\n",
       "      <th>entity_text</th>\n",
       "      <th>entity_type</th>\n",
       "    </tr>\n",
       "  </thead>\n",
       "  <tbody>\n",
       "    <tr>\n",
       "      <th>0</th>\n",
       "      <td>0</td>\n",
       "      <td>36</td>\n",
       "      <td>38</td>\n",
       "      <td>年底</td>\n",
       "      <td>time</td>\n",
       "    </tr>\n",
       "    <tr>\n",
       "      <th>1</th>\n",
       "      <td>0</td>\n",
       "      <td>227</td>\n",
       "      <td>229</td>\n",
       "      <td>麻豆</td>\n",
       "      <td>location</td>\n",
       "    </tr>\n",
       "    <tr>\n",
       "      <th>2</th>\n",
       "      <td>0</td>\n",
       "      <td>237</td>\n",
       "      <td>239</td>\n",
       "      <td>麻豆</td>\n",
       "      <td>location</td>\n",
       "    </tr>\n",
       "    <tr>\n",
       "      <th>3</th>\n",
       "      <td>1</td>\n",
       "      <td>15</td>\n",
       "      <td>18</td>\n",
       "      <td>這學期</td>\n",
       "      <td>time</td>\n",
       "    </tr>\n",
       "    <tr>\n",
       "      <th>4</th>\n",
       "      <td>1</td>\n",
       "      <td>40</td>\n",
       "      <td>42</td>\n",
       "      <td>昨天</td>\n",
       "      <td>time</td>\n",
       "    </tr>\n",
       "    <tr>\n",
       "      <th>...</th>\n",
       "      <td>...</td>\n",
       "      <td>...</td>\n",
       "      <td>...</td>\n",
       "      <td>...</td>\n",
       "      <td>...</td>\n",
       "    </tr>\n",
       "    <tr>\n",
       "      <th>2565</th>\n",
       "      <td>158</td>\n",
       "      <td>431</td>\n",
       "      <td>435</td>\n",
       "      <td>二十二十</td>\n",
       "      <td>time</td>\n",
       "    </tr>\n",
       "    <tr>\n",
       "      <th>2566</th>\n",
       "      <td>158</td>\n",
       "      <td>1082</td>\n",
       "      <td>1086</td>\n",
       "      <td>第三個月</td>\n",
       "      <td>time</td>\n",
       "    </tr>\n",
       "    <tr>\n",
       "      <th>2567</th>\n",
       "      <td>158</td>\n",
       "      <td>1143</td>\n",
       "      <td>1145</td>\n",
       "      <td>今天</td>\n",
       "      <td>time</td>\n",
       "    </tr>\n",
       "    <tr>\n",
       "      <th>2568</th>\n",
       "      <td>158</td>\n",
       "      <td>1199</td>\n",
       "      <td>1201</td>\n",
       "      <td>小安</td>\n",
       "      <td>name</td>\n",
       "    </tr>\n",
       "    <tr>\n",
       "      <th>2569</th>\n",
       "      <td>158</td>\n",
       "      <td>1381</td>\n",
       "      <td>1390</td>\n",
       "      <td>124699678</td>\n",
       "      <td>med_exam</td>\n",
       "    </tr>\n",
       "  </tbody>\n",
       "</table>\n",
       "<p>2570 rows × 5 columns</p>\n",
       "</div>"
      ],
      "text/plain": [
       "      article_id  start_position  end_position entity_text entity_type\n",
       "0              0              36            38          年底        time\n",
       "1              0             227           229          麻豆    location\n",
       "2              0             237           239          麻豆    location\n",
       "3              1              15            18         這學期        time\n",
       "4              1              40            42          昨天        time\n",
       "...          ...             ...           ...         ...         ...\n",
       "2565         158             431           435        二十二十        time\n",
       "2566         158            1082          1086        第三個月        time\n",
       "2567         158            1143          1145          今天        time\n",
       "2568         158            1199          1201          小安        name\n",
       "2569         158            1381          1390   124699678    med_exam\n",
       "\n",
       "[2570 rows x 5 columns]"
      ]
     },
     "execution_count": 24,
     "metadata": {},
     "output_type": "execute_result"
    }
   ],
   "source": [
    "df = pd.read_csv(output_path, sep='\\t')\n",
    "df"
   ]
  },
  {
   "cell_type": "code",
   "execution_count": null,
   "metadata": {},
   "outputs": [],
   "source": []
  }
 ],
 "metadata": {
  "kernelspec": {
   "display_name": "Python 3",
   "language": "python",
   "name": "python3"
  },
  "language_info": {
   "codemirror_mode": {
    "name": "ipython",
    "version": 3
   },
   "file_extension": ".py",
   "mimetype": "text/x-python",
   "name": "python",
   "nbconvert_exporter": "python",
   "pygments_lexer": "ipython3",
   "version": "3.6.10"
  }
 },
 "nbformat": 4,
 "nbformat_minor": 4
}
