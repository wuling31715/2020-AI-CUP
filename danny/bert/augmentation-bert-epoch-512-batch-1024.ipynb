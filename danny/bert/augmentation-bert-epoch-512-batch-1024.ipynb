{
 "cells": [
  {
   "cell_type": "code",
   "execution_count": 1,
   "metadata": {},
   "outputs": [],
   "source": [
    "import re\n",
    "import pandas as pd\n",
    "import tensorflow as tf\n",
    "from matplotlib import pyplot as plt"
   ]
  },
  {
   "cell_type": "code",
   "execution_count": 2,
   "metadata": {},
   "outputs": [],
   "source": [
    "def select_gpu(N):\n",
    "    gpus = tf.config.experimental.list_physical_devices('GPU')\n",
    "    print(gpus)\n",
    "    if gpus:\n",
    "        try:\n",
    "            for gpu in gpus:\n",
    "                tf.config.experimental.set_memory_growth(gpu, True)\n",
    "            tf.config.experimental.set_visible_devices(gpus[N], 'GPU')\n",
    "            logical_gpus = tf.config.experimental.list_logical_devices('GPU')\n",
    "            print(len(gpus), \"Physical GPUs,\", len(logical_gpus), \"Logical GPUs\")\n",
    "        except RuntimeError as e:\n",
    "            print(e)    "
   ]
  },
  {
   "cell_type": "code",
   "execution_count": 3,
   "metadata": {},
   "outputs": [
    {
     "name": "stdout",
     "output_type": "stream",
     "text": [
      "[PhysicalDevice(name='/physical_device:GPU:0', device_type='GPU'), PhysicalDevice(name='/physical_device:GPU:1', device_type='GPU'), PhysicalDevice(name='/physical_device:GPU:2', device_type='GPU')]\n",
      "3 Physical GPUs, 1 Logical GPUs\n"
     ]
    }
   ],
   "source": [
    "select_gpu(1)\n",
    "epochs = 512\n",
    "batch_size = 1024\n",
    "model_name = 'bert-chinese'\n",
    "embedding_path = '/home/Danny/pretrain_model/{}'.format(model_name)"
   ]
  },
  {
   "cell_type": "code",
   "execution_count": 4,
   "metadata": {},
   "outputs": [],
   "source": [
    "# 不用儲存article_id, 轉成list\n",
    "def training_txt_to_list(path):\n",
    "    with open(path, 'r') as f:\n",
    "        txt = str(f.read())\n",
    "    txt_list = txt.split('\\n')\n",
    "    text_label_list = list()\n",
    "    tmp = list()\n",
    "    for line in txt_list:\n",
    "        if line == '--------------------':\n",
    "            text_label_list.append(tmp)\n",
    "            tmp = list()\n",
    "            continue\n",
    "        if line == '':\n",
    "            continue\n",
    "        tmp.append(line)\n",
    "    x = list()\n",
    "    y = list()\n",
    "    for text_label in text_label_list:\n",
    "        text = text_label[0]\n",
    "        label = text_label[2:]\n",
    "        label_list = ['O' for i in range(len(text))]\n",
    "        for i in label:\n",
    "            entity = i.split('\\t')\n",
    "            if int(entity[1]) > int(entity[2]):\n",
    "                continue\n",
    "            b = int(entity[1])\n",
    "            label_list[b] = 'B-{}'.format(entity[-1])\n",
    "            for j in range(int(entity[1])+1, int(entity[2])):\n",
    "                label_list[j] = 'I-{}'.format(entity[-1])\n",
    "        for i, j in enumerate(text):\n",
    "            if j == '，' or j == '。' or j == '？':\n",
    "                label_list[i] = j\n",
    "                \n",
    "        text_list = re.split('\\uff0c|\\u3002|\\uff1f', text)\n",
    "        for sentence in text_list:\n",
    "            x.append([i for i in sentence])\n",
    "        x = x[:-1]\n",
    "            \n",
    "        sentence = list()\n",
    "        for i in label_list:\n",
    "            if i == '，' or i == '。' or i == '？':\n",
    "                y.append(sentence)\n",
    "                sentence = list()\n",
    "            else:\n",
    "                sentence.append(i)\n",
    "                \n",
    "    return [x, y]"
   ]
  },
  {
   "cell_type": "code",
   "execution_count": 5,
   "metadata": {},
   "outputs": [],
   "source": [
    "x1, y1 = training_txt_to_list('/home/Danny/AI-CUP-2020/datasets/stage1/SampleData_deid.txt')"
   ]
  },
  {
   "cell_type": "code",
   "execution_count": 6,
   "metadata": {},
   "outputs": [],
   "source": [
    "x2, y2 = training_txt_to_list('/home/Danny/AI-CUP-2020/datasets/stage2/train_1_update.txt')"
   ]
  },
  {
   "cell_type": "code",
   "execution_count": 7,
   "metadata": {},
   "outputs": [],
   "source": [
    "x4, y4 = training_txt_to_list('/home/Danny/AI-CUP-2020/datasets/stage4/train_2.txt')"
   ]
  },
  {
   "cell_type": "code",
   "execution_count": 8,
   "metadata": {},
   "outputs": [
    {
     "name": "stdout",
     "output_type": "stream",
     "text": [
      "76162\n",
      "76162\n"
     ]
    }
   ],
   "source": [
    "x = x1 + x2 + x4\n",
    "y = y1 + y2 + y4\n",
    "print(len(x))\n",
    "print(len(y))"
   ]
  },
  {
   "cell_type": "code",
   "execution_count": 9,
   "metadata": {},
   "outputs": [
    {
     "data": {
      "text/html": [
       "<div>\n",
       "<style scoped>\n",
       "    .dataframe tbody tr th:only-of-type {\n",
       "        vertical-align: middle;\n",
       "    }\n",
       "\n",
       "    .dataframe tbody tr th {\n",
       "        vertical-align: top;\n",
       "    }\n",
       "\n",
       "    .dataframe thead th {\n",
       "        text-align: right;\n",
       "    }\n",
       "</style>\n",
       "<table border=\"1\" class=\"dataframe\">\n",
       "  <thead>\n",
       "    <tr style=\"text-align: right;\">\n",
       "      <th></th>\n",
       "      <th>x</th>\n",
       "      <th>y</th>\n",
       "    </tr>\n",
       "  </thead>\n",
       "  <tbody>\n",
       "    <tr>\n",
       "      <th>0</th>\n",
       "      <td>[醫, 師, ：, 你, 有, 做, 超, 音, 波, 嘛]</td>\n",
       "      <td>[O, O, O, O, O, O, O, O, O, O]</td>\n",
       "    </tr>\n",
       "    <tr>\n",
       "      <th>1</th>\n",
       "      <td>[那, 我, 們, 來, 看, 報, 告]</td>\n",
       "      <td>[O, O, O, O, O, O, O]</td>\n",
       "    </tr>\n",
       "    <tr>\n",
       "      <th>2</th>\n",
       "      <td>[有, 些, 部, 分, 有, 紅, 字, 耶]</td>\n",
       "      <td>[O, O, O, O, O, O, O, O]</td>\n",
       "    </tr>\n",
       "    <tr>\n",
       "      <th>3</th>\n",
       "      <td>[民, 眾, ：, 紅, 字, 是, 甚, 麼, 意, 思]</td>\n",
       "      <td>[O, O, O, O, O, O, O, O, O, O]</td>\n",
       "    </tr>\n",
       "    <tr>\n",
       "      <th>4</th>\n",
       "      <td>[醫, 師, ：, 就, 是, 肝, 功, 能, 有, 比, 較, 高]</td>\n",
       "      <td>[O, O, O, O, O, O, O, O, O, O, O, O]</td>\n",
       "    </tr>\n",
       "    <tr>\n",
       "      <th>...</th>\n",
       "      <td>...</td>\n",
       "      <td>...</td>\n",
       "    </tr>\n",
       "    <tr>\n",
       "      <th>76157</th>\n",
       "      <td>[醫, 師, ：, 他, 有, 在, 騎, 腳, 踏, 車]</td>\n",
       "      <td>[O, O, O, O, O, O, O, O, O, O]</td>\n",
       "    </tr>\n",
       "    <tr>\n",
       "      <th>76158</th>\n",
       "      <td>[民, 眾, ：, 恩]</td>\n",
       "      <td>[O, O, O, O]</td>\n",
       "    </tr>\n",
       "    <tr>\n",
       "      <th>76159</th>\n",
       "      <td>[醫, 師, ：, 騎, 腳, 踏, 車, 可, 以]</td>\n",
       "      <td>[O, O, O, O, O, O, O, O, O]</td>\n",
       "    </tr>\n",
       "    <tr>\n",
       "      <th>76160</th>\n",
       "      <td>[小, 美]</td>\n",
       "      <td>[B-name, I-name]</td>\n",
       "    </tr>\n",
       "    <tr>\n",
       "      <th>76161</th>\n",
       "      <td>[那, 我, 們, 先, 讓, 他, 去, 照, 個, X, 光]</td>\n",
       "      <td>[O, O, O, O, O, O, O, O, O, O, O]</td>\n",
       "    </tr>\n",
       "  </tbody>\n",
       "</table>\n",
       "<p>76162 rows × 2 columns</p>\n",
       "</div>"
      ],
      "text/plain": [
       "                                          x  \\\n",
       "0            [醫, 師, ：, 你, 有, 做, 超, 音, 波, 嘛]   \n",
       "1                     [那, 我, 們, 來, 看, 報, 告]   \n",
       "2                  [有, 些, 部, 分, 有, 紅, 字, 耶]   \n",
       "3            [民, 眾, ：, 紅, 字, 是, 甚, 麼, 意, 思]   \n",
       "4      [醫, 師, ：, 就, 是, 肝, 功, 能, 有, 比, 較, 高]   \n",
       "...                                     ...   \n",
       "76157        [醫, 師, ：, 他, 有, 在, 騎, 腳, 踏, 車]   \n",
       "76158                          [民, 眾, ：, 恩]   \n",
       "76159           [醫, 師, ：, 騎, 腳, 踏, 車, 可, 以]   \n",
       "76160                                [小, 美]   \n",
       "76161     [那, 我, 們, 先, 讓, 他, 去, 照, 個, X, 光]   \n",
       "\n",
       "                                          y  \n",
       "0            [O, O, O, O, O, O, O, O, O, O]  \n",
       "1                     [O, O, O, O, O, O, O]  \n",
       "2                  [O, O, O, O, O, O, O, O]  \n",
       "3            [O, O, O, O, O, O, O, O, O, O]  \n",
       "4      [O, O, O, O, O, O, O, O, O, O, O, O]  \n",
       "...                                     ...  \n",
       "76157        [O, O, O, O, O, O, O, O, O, O]  \n",
       "76158                          [O, O, O, O]  \n",
       "76159           [O, O, O, O, O, O, O, O, O]  \n",
       "76160                      [B-name, I-name]  \n",
       "76161     [O, O, O, O, O, O, O, O, O, O, O]  \n",
       "\n",
       "[76162 rows x 2 columns]"
      ]
     },
     "execution_count": 9,
     "metadata": {},
     "output_type": "execute_result"
    }
   ],
   "source": [
    "df = pd.DataFrame({'x': x, 'y': y})\n",
    "df"
   ]
  },
  {
   "cell_type": "code",
   "execution_count": 10,
   "metadata": {},
   "outputs": [],
   "source": [
    "clinical_event = pd.read_csv('/home/Danny/AI-CUP-2020/datasets/augmentation/clinical_event.csv')\n",
    "contact = pd.read_csv('/home/Danny/AI-CUP-2020/datasets/augmentation/contact.csv')\n",
    "education = pd.read_csv('/home/Danny/AI-CUP-2020/datasets/augmentation/education.csv')\n",
    "family = pd.read_csv('/home/Danny/AI-CUP-2020/datasets/augmentation/family.csv')\n",
    "profession = pd.read_csv('/home/Danny/AI-CUP-2020/datasets/augmentation/profession.csv')"
   ]
  },
  {
   "cell_type": "code",
   "execution_count": 11,
   "metadata": {},
   "outputs": [
    {
     "data": {
      "text/html": [
       "<div>\n",
       "<style scoped>\n",
       "    .dataframe tbody tr th:only-of-type {\n",
       "        vertical-align: middle;\n",
       "    }\n",
       "\n",
       "    .dataframe tbody tr th {\n",
       "        vertical-align: top;\n",
       "    }\n",
       "\n",
       "    .dataframe thead th {\n",
       "        text-align: right;\n",
       "    }\n",
       "</style>\n",
       "<table border=\"1\" class=\"dataframe\">\n",
       "  <thead>\n",
       "    <tr style=\"text-align: right;\">\n",
       "      <th></th>\n",
       "      <th>x</th>\n",
       "      <th>y</th>\n",
       "    </tr>\n",
       "  </thead>\n",
       "  <tbody>\n",
       "    <tr>\n",
       "      <th>0</th>\n",
       "      <td>[醫, 師, ：, 你, 有, 做, 超, 音, 波, 嘛]</td>\n",
       "      <td>[O, O, O, O, O, O, O, O, O, O]</td>\n",
       "    </tr>\n",
       "    <tr>\n",
       "      <th>1</th>\n",
       "      <td>[那, 我, 們, 來, 看, 報, 告]</td>\n",
       "      <td>[O, O, O, O, O, O, O]</td>\n",
       "    </tr>\n",
       "    <tr>\n",
       "      <th>2</th>\n",
       "      <td>[有, 些, 部, 分, 有, 紅, 字, 耶]</td>\n",
       "      <td>[O, O, O, O, O, O, O, O]</td>\n",
       "    </tr>\n",
       "    <tr>\n",
       "      <th>3</th>\n",
       "      <td>[民, 眾, ：, 紅, 字, 是, 甚, 麼, 意, 思]</td>\n",
       "      <td>[O, O, O, O, O, O, O, O, O, O]</td>\n",
       "    </tr>\n",
       "    <tr>\n",
       "      <th>4</th>\n",
       "      <td>[醫, 師, ：, 就, 是, 肝, 功, 能, 有, 比, 較, 高]</td>\n",
       "      <td>[O, O, O, O, O, O, O, O, O, O, O, O]</td>\n",
       "    </tr>\n",
       "    <tr>\n",
       "      <th>...</th>\n",
       "      <td>...</td>\n",
       "      <td>...</td>\n",
       "    </tr>\n",
       "    <tr>\n",
       "      <th>495</th>\n",
       "      <td>['那', '個', '時', '候', '是', '白', '天', '釣', '具', ...</td>\n",
       "      <td>['O', 'O', 'O', 'O', 'O', 'O', 'O', 'B-profess...</td>\n",
       "    </tr>\n",
       "    <tr>\n",
       "      <th>496</th>\n",
       "      <td>['因', '為', '我', '是', '還', '是', '網', '球', '球', ...</td>\n",
       "      <td>['O', 'O', 'O', 'O', 'O', 'O', 'B-profession',...</td>\n",
       "    </tr>\n",
       "    <tr>\n",
       "      <th>497</th>\n",
       "      <td>['醫', '師', '：', '你', '是', '採', '椰', '子', '工', ...</td>\n",
       "      <td>['O', 'O', 'O', 'O', 'O', 'B-profession', 'I-p...</td>\n",
       "    </tr>\n",
       "    <tr>\n",
       "      <th>498</th>\n",
       "      <td>['安', '養', '院', '工', '作', '人', '員']</td>\n",
       "      <td>['B-profession', 'I-profession', 'I-profession...</td>\n",
       "    </tr>\n",
       "    <tr>\n",
       "      <th>499</th>\n",
       "      <td>['我', '在', '駕', '駛', '人', '員', '的']</td>\n",
       "      <td>['O', 'O', 'B-profession', 'I-profession', 'I-...</td>\n",
       "    </tr>\n",
       "  </tbody>\n",
       "</table>\n",
       "<p>78362 rows × 2 columns</p>\n",
       "</div>"
      ],
      "text/plain": [
       "                                                     x  \\\n",
       "0                       [醫, 師, ：, 你, 有, 做, 超, 音, 波, 嘛]   \n",
       "1                                [那, 我, 們, 來, 看, 報, 告]   \n",
       "2                             [有, 些, 部, 分, 有, 紅, 字, 耶]   \n",
       "3                       [民, 眾, ：, 紅, 字, 是, 甚, 麼, 意, 思]   \n",
       "4                 [醫, 師, ：, 就, 是, 肝, 功, 能, 有, 比, 較, 高]   \n",
       "..                                                 ...   \n",
       "495  ['那', '個', '時', '候', '是', '白', '天', '釣', '具', ...   \n",
       "496  ['因', '為', '我', '是', '還', '是', '網', '球', '球', ...   \n",
       "497  ['醫', '師', '：', '你', '是', '採', '椰', '子', '工', ...   \n",
       "498                ['安', '養', '院', '工', '作', '人', '員']   \n",
       "499                ['我', '在', '駕', '駛', '人', '員', '的']   \n",
       "\n",
       "                                                     y  \n",
       "0                       [O, O, O, O, O, O, O, O, O, O]  \n",
       "1                                [O, O, O, O, O, O, O]  \n",
       "2                             [O, O, O, O, O, O, O, O]  \n",
       "3                       [O, O, O, O, O, O, O, O, O, O]  \n",
       "4                 [O, O, O, O, O, O, O, O, O, O, O, O]  \n",
       "..                                                 ...  \n",
       "495  ['O', 'O', 'O', 'O', 'O', 'O', 'O', 'B-profess...  \n",
       "496  ['O', 'O', 'O', 'O', 'O', 'O', 'B-profession',...  \n",
       "497  ['O', 'O', 'O', 'O', 'O', 'B-profession', 'I-p...  \n",
       "498  ['B-profession', 'I-profession', 'I-profession...  \n",
       "499  ['O', 'O', 'B-profession', 'I-profession', 'I-...  \n",
       "\n",
       "[78362 rows x 2 columns]"
      ]
     },
     "execution_count": 11,
     "metadata": {},
     "output_type": "execute_result"
    }
   ],
   "source": [
    "df = df.append(clinical_event)\n",
    "df = df.append(contact)\n",
    "df = df.append(education)\n",
    "df = df.append(family)\n",
    "df = df.append(profession)\n",
    "df"
   ]
  },
  {
   "cell_type": "code",
   "execution_count": 12,
   "metadata": {},
   "outputs": [
    {
     "name": "stderr",
     "output_type": "stream",
     "text": [
      "/home/Danny/anaconda3/lib/python3.6/site-packages/ipykernel_launcher.py:4: SettingWithCopyWarning: \n",
      "A value is trying to be set on a copy of a slice from a DataFrame.\n",
      "Try using .loc[row_indexer,col_indexer] = value instead\n",
      "\n",
      "See the caveats in the documentation: https://pandas.pydata.org/pandas-docs/stable/user_guide/indexing.html#returning-a-view-versus-a-copy\n",
      "  after removing the cwd from sys.path.\n",
      "/home/Danny/anaconda3/lib/python3.6/site-packages/ipykernel_launcher.py:5: SettingWithCopyWarning: \n",
      "A value is trying to be set on a copy of a slice from a DataFrame.\n",
      "Try using .loc[row_indexer,col_indexer] = value instead\n",
      "\n",
      "See the caveats in the documentation: https://pandas.pydata.org/pandas-docs/stable/user_guide/indexing.html#returning-a-view-versus-a-copy\n",
      "  \"\"\"\n"
     ]
    },
    {
     "data": {
      "text/html": [
       "<div>\n",
       "<style scoped>\n",
       "    .dataframe tbody tr th:only-of-type {\n",
       "        vertical-align: middle;\n",
       "    }\n",
       "\n",
       "    .dataframe tbody tr th {\n",
       "        vertical-align: top;\n",
       "    }\n",
       "\n",
       "    .dataframe thead th {\n",
       "        text-align: right;\n",
       "    }\n",
       "</style>\n",
       "<table border=\"1\" class=\"dataframe\">\n",
       "  <thead>\n",
       "    <tr style=\"text-align: right;\">\n",
       "      <th></th>\n",
       "      <th>x</th>\n",
       "      <th>y</th>\n",
       "    </tr>\n",
       "  </thead>\n",
       "  <tbody>\n",
       "    <tr>\n",
       "      <th>0</th>\n",
       "      <td>[醫, 師, ：, 你, 有, 做, 超, 音, 波, 嘛]</td>\n",
       "      <td>[O, O, O, O, O, O, O, O, O, O]</td>\n",
       "    </tr>\n",
       "    <tr>\n",
       "      <th>1</th>\n",
       "      <td>[那, 我, 們, 來, 看, 報, 告]</td>\n",
       "      <td>[O, O, O, O, O, O, O]</td>\n",
       "    </tr>\n",
       "    <tr>\n",
       "      <th>2</th>\n",
       "      <td>[有, 些, 部, 分, 有, 紅, 字, 耶]</td>\n",
       "      <td>[O, O, O, O, O, O, O, O]</td>\n",
       "    </tr>\n",
       "    <tr>\n",
       "      <th>3</th>\n",
       "      <td>[民, 眾, ：, 紅, 字, 是, 甚, 麼, 意, 思]</td>\n",
       "      <td>[O, O, O, O, O, O, O, O, O, O]</td>\n",
       "    </tr>\n",
       "    <tr>\n",
       "      <th>4</th>\n",
       "      <td>[醫, 師, ：, 就, 是, 肝, 功, 能, 有, 比, 較, 高]</td>\n",
       "      <td>[O, O, O, O, O, O, O, O, O, O, O, O]</td>\n",
       "    </tr>\n",
       "    <tr>\n",
       "      <th>...</th>\n",
       "      <td>...</td>\n",
       "      <td>...</td>\n",
       "    </tr>\n",
       "    <tr>\n",
       "      <th>495</th>\n",
       "      <td>[那, 個, 時, 候, 是, 白, 天, 釣, 具, 製, 造, 工, 人]</td>\n",
       "      <td>[O, O, O, O, O, O, O, B-profession, I-professi...</td>\n",
       "    </tr>\n",
       "    <tr>\n",
       "      <th>496</th>\n",
       "      <td>[因, 為, 我, 是, 還, 是, 網, 球, 球, 員, 嘛]</td>\n",
       "      <td>[O, O, O, O, O, O, B-profession, I-profession,...</td>\n",
       "    </tr>\n",
       "    <tr>\n",
       "      <th>497</th>\n",
       "      <td>[醫, 師, ：, 你, 是, 採, 椰, 子, 工, 是, 不, 是]</td>\n",
       "      <td>[O, O, O, O, O, B-profession, I-profession, I-...</td>\n",
       "    </tr>\n",
       "    <tr>\n",
       "      <th>498</th>\n",
       "      <td>[安, 養, 院, 工, 作, 人, 員]</td>\n",
       "      <td>[B-profession, I-profession, I-profession, I-p...</td>\n",
       "    </tr>\n",
       "    <tr>\n",
       "      <th>499</th>\n",
       "      <td>[我, 在, 駕, 駛, 人, 員, 的]</td>\n",
       "      <td>[O, O, B-profession, I-profession, I-professio...</td>\n",
       "    </tr>\n",
       "  </tbody>\n",
       "</table>\n",
       "<p>33706 rows × 2 columns</p>\n",
       "</div>"
      ],
      "text/plain": [
       "                                           x  \\\n",
       "0             [醫, 師, ：, 你, 有, 做, 超, 音, 波, 嘛]   \n",
       "1                      [那, 我, 們, 來, 看, 報, 告]   \n",
       "2                   [有, 些, 部, 分, 有, 紅, 字, 耶]   \n",
       "3             [民, 眾, ：, 紅, 字, 是, 甚, 麼, 意, 思]   \n",
       "4       [醫, 師, ：, 就, 是, 肝, 功, 能, 有, 比, 較, 高]   \n",
       "..                                       ...   \n",
       "495  [那, 個, 時, 候, 是, 白, 天, 釣, 具, 製, 造, 工, 人]   \n",
       "496        [因, 為, 我, 是, 還, 是, 網, 球, 球, 員, 嘛]   \n",
       "497     [醫, 師, ：, 你, 是, 採, 椰, 子, 工, 是, 不, 是]   \n",
       "498                    [安, 養, 院, 工, 作, 人, 員]   \n",
       "499                    [我, 在, 駕, 駛, 人, 員, 的]   \n",
       "\n",
       "                                                     y  \n",
       "0                       [O, O, O, O, O, O, O, O, O, O]  \n",
       "1                                [O, O, O, O, O, O, O]  \n",
       "2                             [O, O, O, O, O, O, O, O]  \n",
       "3                       [O, O, O, O, O, O, O, O, O, O]  \n",
       "4                 [O, O, O, O, O, O, O, O, O, O, O, O]  \n",
       "..                                                 ...  \n",
       "495  [O, O, O, O, O, O, O, B-profession, I-professi...  \n",
       "496  [O, O, O, O, O, O, B-profession, I-profession,...  \n",
       "497  [O, O, O, O, O, B-profession, I-profession, I-...  \n",
       "498  [B-profession, I-profession, I-profession, I-p...  \n",
       "499  [O, O, B-profession, I-profession, I-professio...  \n",
       "\n",
       "[33706 rows x 2 columns]"
      ]
     },
     "execution_count": 12,
     "metadata": {},
     "output_type": "execute_result"
    }
   ],
   "source": [
    "df['x'] = df['x'].apply(lambda row : str(row))\n",
    "df['y'] = df['y'].apply(lambda row : str(row))\n",
    "df = df.drop_duplicates()\n",
    "df['x'] = df['x'].apply(lambda row : eval(row))\n",
    "df['y'] = df['y'].apply(lambda row : eval(row))\n",
    "df"
   ]
  },
  {
   "cell_type": "code",
   "execution_count": 13,
   "metadata": {},
   "outputs": [],
   "source": [
    "x = df['x'].to_list()\n",
    "y = df['y'].to_list()"
   ]
  },
  {
   "cell_type": "code",
   "execution_count": 14,
   "metadata": {},
   "outputs": [
    {
     "name": "stdout",
     "output_type": "stream",
     "text": [
      "21571 21571\n",
      "5393 5393\n",
      "6742 6742\n"
     ]
    }
   ],
   "source": [
    "from sklearn.model_selection import train_test_split\n",
    "train_x, test_x, train_y, test_y = train_test_split(x, y, test_size=0.2, random_state=42)\n",
    "train_x, valid_x, train_y, valid_y = train_test_split(train_x, train_y, test_size=0.2, random_state=42)\n",
    "print(len(train_x), len(train_y))\n",
    "print(len(valid_x), len(valid_y))\n",
    "print(len(test_x), len(test_y))"
   ]
  },
  {
   "cell_type": "code",
   "execution_count": 15,
   "metadata": {
    "scrolled": true
   },
   "outputs": [
    {
     "name": "stderr",
     "output_type": "stream",
     "text": [
      "2020-12-17 17:11:00,154 [DEBUG] kashgari - ------------------------------------------------\n",
      "2020-12-17 17:11:00,155 [DEBUG] kashgari - Loaded transformer model's vocab\n",
      "2020-12-17 17:11:00,155 [DEBUG] kashgari - config_path       : /home/Danny/pretrain_model/bert-chinese/bert_config.json\n",
      "2020-12-17 17:11:00,156 [DEBUG] kashgari - vocab_path      : /home/Danny/pretrain_model/bert-chinese/vocab.txt\n",
      "2020-12-17 17:11:00,156 [DEBUG] kashgari - checkpoint_path : /home/Danny/pretrain_model/bert-chinese/bert_model.ckpt\n",
      "2020-12-17 17:11:00,156 [DEBUG] kashgari - Top 50 words    : ['[PAD]', '[unused1]', '[unused2]', '[unused3]', '[unused4]', '[unused5]', '[unused6]', '[unused7]', '[unused8]', '[unused9]', '[unused10]', '[unused11]', '[unused12]', '[unused13]', '[unused14]', '[unused15]', '[unused16]', '[unused17]', '[unused18]', '[unused19]', '[unused20]', '[unused21]', '[unused22]', '[unused23]', '[unused24]', '[unused25]', '[unused26]', '[unused27]', '[unused28]', '[unused29]', '[unused30]', '[unused31]', '[unused32]', '[unused33]', '[unused34]', '[unused35]', '[unused36]', '[unused37]', '[unused38]', '[unused39]', '[unused40]', '[unused41]', '[unused42]', '[unused43]', '[unused44]', '[unused45]', '[unused46]', '[unused47]', '[unused48]', '[unused49]']\n",
      "2020-12-17 17:11:00,156 [DEBUG] kashgari - ------------------------------------------------\n",
      "Preparing text vocab dict: 100%|██████████| 21571/21571 [00:00<00:00, 438283.65it/s]\n",
      "Preparing text vocab dict: 100%|██████████| 5393/5393 [00:00<00:00, 462886.64it/s]\n",
      "2020-12-17 17:11:00,222 [DEBUG] kashgari - --- Build vocab dict finished, Total: 1689 ---\n",
      "2020-12-17 17:11:00,222 [DEBUG] kashgari - Top-10: ['[PAD]', '[UNK]', '[CLS]', '[SEP]', '：', '是', '師', '醫', '有', '個']\n",
      "Preparing text vocab dict: 100%|██████████| 21571/21571 [00:00<00:00, 592468.89it/s]\n",
      "Preparing text vocab dict: 100%|██████████| 5393/5393 [00:00<00:00, 624910.39it/s]\n",
      "2020-12-17 17:11:00,270 [DEBUG] kashgari - --- Build vocab dict finished, Total: 28 ---\n",
      "2020-12-17 17:11:00,271 [DEBUG] kashgari - Top-10: ['[PAD]', 'O', 'I-time', 'I-education', 'B-time', 'I-profession', 'I-clinical_event', 'I-contact', 'I-med_exam', 'I-family']\n",
      "Calculating sequence length: 100%|██████████| 21571/21571 [00:00<00:00, 1879811.58it/s]\n",
      "Calculating sequence length: 100%|██████████| 5393/5393 [00:00<00:00, 1938625.43it/s]\n",
      "2020-12-17 17:11:02,654 [DEBUG] kashgari - Calculated sequence length = 21\n",
      "2020-12-17 17:11:04,401 [DEBUG] kashgari - fit input shape: (2, 1024, 21)\n",
      "2020-12-17 17:11:04,402 [DEBUG] kashgari - fit input shape: (1024, 21)\n"
     ]
    },
    {
     "name": "stdout",
     "output_type": "stream",
     "text": [
      "Epoch 1/512\n",
      "21/21 [==============================] - 18s 871ms/step - loss: 4.8184 - accuracy: 0.8477 - val_loss: 28.9249 - val_accuracy: 0.9395\n",
      "Epoch 2/512\n",
      "21/21 [==============================] - 15s 715ms/step - loss: 1.7092 - accuracy: 0.9498 - val_loss: 28.6780 - val_accuracy: 0.9481\n",
      "Epoch 3/512\n",
      "21/21 [==============================] - 15s 695ms/step - loss: 1.1980 - accuracy: 0.9576 - val_loss: 28.4858 - val_accuracy: 0.9626\n",
      "Epoch 4/512\n",
      "21/21 [==============================] - 15s 698ms/step - loss: 0.9386 - accuracy: 0.9627 - val_loss: 28.4013 - val_accuracy: 0.9674\n",
      "Epoch 5/512\n",
      "21/21 [==============================] - 15s 702ms/step - loss: 0.7514 - accuracy: 0.9679 - val_loss: 28.3054 - val_accuracy: 0.9705\n",
      "Epoch 6/512\n",
      "21/21 [==============================] - 15s 703ms/step - loss: 0.6486 - accuracy: 0.9707 - val_loss: 28.2514 - val_accuracy: 0.9735\n",
      "Epoch 7/512\n",
      "21/21 [==============================] - 15s 705ms/step - loss: 0.5690 - accuracy: 0.9728 - val_loss: 28.0966 - val_accuracy: 0.9765\n",
      "Epoch 8/512\n",
      "21/21 [==============================] - 15s 706ms/step - loss: 0.4994 - accuracy: 0.9766 - val_loss: 28.0563 - val_accuracy: 0.9790\n",
      "Epoch 9/512\n",
      "21/21 [==============================] - 15s 707ms/step - loss: 0.4495 - accuracy: 0.9786 - val_loss: 28.0096 - val_accuracy: 0.9803\n",
      "Epoch 10/512\n",
      "21/21 [==============================] - 15s 709ms/step - loss: 0.4035 - accuracy: 0.9801 - val_loss: 27.9712 - val_accuracy: 0.9809\n",
      "Epoch 11/512\n",
      "21/21 [==============================] - 15s 710ms/step - loss: 0.3827 - accuracy: 0.9814 - val_loss: 27.9104 - val_accuracy: 0.9822\n",
      "Epoch 12/512\n",
      "21/21 [==============================] - 15s 712ms/step - loss: 0.3584 - accuracy: 0.9821 - val_loss: 27.8796 - val_accuracy: 0.9823\n",
      "Epoch 13/512\n",
      "21/21 [==============================] - 15s 711ms/step - loss: 0.3267 - accuracy: 0.9835 - val_loss: 27.8480 - val_accuracy: 0.9826\n",
      "Epoch 14/512\n",
      "21/21 [==============================] - 15s 712ms/step - loss: 0.3103 - accuracy: 0.9842 - val_loss: 27.8657 - val_accuracy: 0.9834\n",
      "Epoch 15/512\n",
      "21/21 [==============================] - 15s 713ms/step - loss: 0.2928 - accuracy: 0.9844 - val_loss: 27.7204 - val_accuracy: 0.9834\n",
      "Epoch 16/512\n",
      "21/21 [==============================] - 15s 714ms/step - loss: 0.2809 - accuracy: 0.9854 - val_loss: 27.7036 - val_accuracy: 0.9841\n",
      "Epoch 17/512\n",
      "21/21 [==============================] - 15s 713ms/step - loss: 0.2686 - accuracy: 0.9856 - val_loss: 27.6529 - val_accuracy: 0.9840\n",
      "Epoch 18/512\n",
      "21/21 [==============================] - 15s 714ms/step - loss: 0.2503 - accuracy: 0.9873 - val_loss: 27.6146 - val_accuracy: 0.9848\n",
      "Epoch 19/512\n",
      "21/21 [==============================] - 15s 716ms/step - loss: 0.2365 - accuracy: 0.9876 - val_loss: 27.5208 - val_accuracy: 0.9849\n",
      "Epoch 20/512\n",
      "21/21 [==============================] - 15s 716ms/step - loss: 0.2281 - accuracy: 0.9883 - val_loss: 27.5944 - val_accuracy: 0.9853\n",
      "Epoch 21/512\n",
      "21/21 [==============================] - 15s 714ms/step - loss: 0.2211 - accuracy: 0.9881 - val_loss: 27.5684 - val_accuracy: 0.9856\n",
      "Epoch 22/512\n",
      "21/21 [==============================] - 15s 715ms/step - loss: 0.2185 - accuracy: 0.9882 - val_loss: 27.4961 - val_accuracy: 0.9858\n",
      "Epoch 23/512\n",
      "21/21 [==============================] - 16s 742ms/step - loss: 0.2006 - accuracy: 0.9889 - val_loss: 27.4779 - val_accuracy: 0.9863\n",
      "Epoch 24/512\n",
      "21/21 [==============================] - 16s 743ms/step - loss: 0.1996 - accuracy: 0.9891 - val_loss: 27.4022 - val_accuracy: 0.9850\n",
      "Epoch 25/512\n",
      "21/21 [==============================] - 15s 715ms/step - loss: 0.1871 - accuracy: 0.9898 - val_loss: 27.3531 - val_accuracy: 0.9862\n",
      "Epoch 26/512\n",
      "21/21 [==============================] - 15s 716ms/step - loss: 0.1783 - accuracy: 0.9904 - val_loss: 27.3530 - val_accuracy: 0.9866\n",
      "Epoch 27/512\n",
      "21/21 [==============================] - 15s 715ms/step - loss: 0.1836 - accuracy: 0.9896 - val_loss: 27.3900 - val_accuracy: 0.9866\n",
      "Epoch 28/512\n",
      "21/21 [==============================] - 15s 716ms/step - loss: 0.1791 - accuracy: 0.9896 - val_loss: 27.2686 - val_accuracy: 0.9864\n",
      "Epoch 29/512\n",
      "21/21 [==============================] - 15s 717ms/step - loss: 0.1651 - accuracy: 0.9912 - val_loss: 27.2930 - val_accuracy: 0.9864\n",
      "Epoch 30/512\n",
      "21/21 [==============================] - 15s 717ms/step - loss: 0.1519 - accuracy: 0.9916 - val_loss: 27.2694 - val_accuracy: 0.9868\n",
      "Epoch 31/512\n",
      "21/21 [==============================] - 15s 718ms/step - loss: 0.1514 - accuracy: 0.9916 - val_loss: 27.1958 - val_accuracy: 0.9869\n",
      "Epoch 32/512\n",
      "21/21 [==============================] - 15s 717ms/step - loss: 0.1448 - accuracy: 0.9914 - val_loss: 27.1717 - val_accuracy: 0.9858\n",
      "Epoch 33/512\n",
      "21/21 [==============================] - 15s 716ms/step - loss: 0.1407 - accuracy: 0.9921 - val_loss: 27.1321 - val_accuracy: 0.9865\n",
      "Epoch 34/512\n",
      "21/21 [==============================] - 15s 716ms/step - loss: 0.1357 - accuracy: 0.9924 - val_loss: 27.1513 - val_accuracy: 0.9861\n",
      "Epoch 35/512\n",
      "21/21 [==============================] - 15s 716ms/step - loss: 0.1292 - accuracy: 0.9929 - val_loss: 27.1602 - val_accuracy: 0.9865\n",
      "Epoch 36/512\n",
      "21/21 [==============================] - 15s 716ms/step - loss: 0.1220 - accuracy: 0.9930 - val_loss: 27.0879 - val_accuracy: 0.9866\n",
      "Epoch 37/512\n",
      "21/21 [==============================] - 15s 716ms/step - loss: 0.1198 - accuracy: 0.9932 - val_loss: 27.1240 - val_accuracy: 0.9864\n",
      "Epoch 38/512\n",
      "21/21 [==============================] - 15s 715ms/step - loss: 0.1166 - accuracy: 0.9936 - val_loss: 27.0268 - val_accuracy: 0.9861\n",
      "Epoch 39/512\n",
      "21/21 [==============================] - 15s 717ms/step - loss: 0.1145 - accuracy: 0.9932 - val_loss: 27.0212 - val_accuracy: 0.9856\n",
      "Epoch 40/512\n",
      "21/21 [==============================] - 15s 715ms/step - loss: 0.1181 - accuracy: 0.9935 - val_loss: 26.9953 - val_accuracy: 0.9865\n",
      "Epoch 41/512\n",
      "21/21 [==============================] - 15s 716ms/step - loss: 0.1096 - accuracy: 0.9937 - val_loss: 27.0281 - val_accuracy: 0.9864\n",
      "Epoch 42/512\n",
      "21/21 [==============================] - 15s 717ms/step - loss: 0.1067 - accuracy: 0.9940 - val_loss: 26.9527 - val_accuracy: 0.9865\n",
      "Epoch 43/512\n",
      "21/21 [==============================] - 15s 726ms/step - loss: 0.1014 - accuracy: 0.9944 - val_loss: 26.8997 - val_accuracy: 0.9862\n",
      "Epoch 44/512\n",
      "21/21 [==============================] - 15s 717ms/step - loss: 0.0982 - accuracy: 0.9944 - val_loss: 26.9253 - val_accuracy: 0.9866\n",
      "Epoch 45/512\n",
      "21/21 [==============================] - 16s 744ms/step - loss: 0.0938 - accuracy: 0.9946 - val_loss: 26.8945 - val_accuracy: 0.9865\n",
      "Epoch 46/512\n",
      "21/21 [==============================] - 16s 743ms/step - loss: 0.0921 - accuracy: 0.9950 - val_loss: 26.8183 - val_accuracy: 0.9865\n",
      "Epoch 47/512\n",
      "21/21 [==============================] - 15s 717ms/step - loss: 0.0921 - accuracy: 0.9943 - val_loss: 26.7936 - val_accuracy: 0.9863\n",
      "Epoch 48/512\n",
      "21/21 [==============================] - 15s 716ms/step - loss: 0.0890 - accuracy: 0.9950 - val_loss: 26.7574 - val_accuracy: 0.9868\n",
      "Epoch 49/512\n",
      "21/21 [==============================] - 15s 717ms/step - loss: 0.0850 - accuracy: 0.9952 - val_loss: 26.8187 - val_accuracy: 0.9860\n",
      "Epoch 50/512\n",
      "21/21 [==============================] - 15s 716ms/step - loss: 0.0823 - accuracy: 0.9954 - val_loss: 26.7466 - val_accuracy: 0.9861\n",
      "Epoch 51/512\n",
      "21/21 [==============================] - 15s 717ms/step - loss: 0.0816 - accuracy: 0.9954 - val_loss: 26.7118 - val_accuracy: 0.9867\n",
      "Epoch 52/512\n",
      "21/21 [==============================] - 15s 717ms/step - loss: 0.0749 - accuracy: 0.9960 - val_loss: 26.7562 - val_accuracy: 0.9869\n",
      "Epoch 53/512\n",
      "21/21 [==============================] - 15s 717ms/step - loss: 0.0747 - accuracy: 0.9958 - val_loss: 26.7354 - val_accuracy: 0.9866\n",
      "Epoch 54/512\n",
      "21/21 [==============================] - 15s 717ms/step - loss: 0.0772 - accuracy: 0.9954 - val_loss: 26.6801 - val_accuracy: 0.9866\n",
      "Epoch 55/512\n",
      "21/21 [==============================] - 15s 716ms/step - loss: 0.0702 - accuracy: 0.9961 - val_loss: 26.6622 - val_accuracy: 0.9862\n",
      "Epoch 56/512\n",
      "21/21 [==============================] - 15s 716ms/step - loss: 0.0697 - accuracy: 0.9961 - val_loss: 26.7229 - val_accuracy: 0.9858\n",
      "Epoch 57/512\n"
     ]
    },
    {
     "name": "stdout",
     "output_type": "stream",
     "text": [
      "21/21 [==============================] - 15s 718ms/step - loss: 0.0676 - accuracy: 0.9962 - val_loss: 26.6653 - val_accuracy: 0.9861\n",
      "Epoch 58/512\n",
      "21/21 [==============================] - 15s 717ms/step - loss: 0.0659 - accuracy: 0.9962 - val_loss: 26.5994 - val_accuracy: 0.9862\n",
      "Epoch 59/512\n",
      "21/21 [==============================] - 15s 716ms/step - loss: 0.0607 - accuracy: 0.9967 - val_loss: 26.6461 - val_accuracy: 0.9864\n",
      "Epoch 60/512\n",
      "21/21 [==============================] - 15s 717ms/step - loss: 0.0642 - accuracy: 0.9964 - val_loss: 26.5872 - val_accuracy: 0.9859\n",
      "Epoch 61/512\n",
      "21/21 [==============================] - 15s 717ms/step - loss: 0.0611 - accuracy: 0.9967 - val_loss: 26.6011 - val_accuracy: 0.9863\n",
      "Epoch 62/512\n",
      "21/21 [==============================] - 15s 727ms/step - loss: 0.0571 - accuracy: 0.9968 - val_loss: 26.5534 - val_accuracy: 0.9861\n",
      "Epoch 63/512\n",
      "21/21 [==============================] - 15s 717ms/step - loss: 0.0558 - accuracy: 0.9971 - val_loss: 26.5669 - val_accuracy: 0.9861\n",
      "Epoch 64/512\n",
      "21/21 [==============================] - 15s 717ms/step - loss: 0.0573 - accuracy: 0.9968 - val_loss: 26.5427 - val_accuracy: 0.9858\n",
      "Epoch 65/512\n",
      "21/21 [==============================] - 15s 716ms/step - loss: 0.0583 - accuracy: 0.9965 - val_loss: 26.5555 - val_accuracy: 0.9861\n",
      "Epoch 66/512\n",
      "21/21 [==============================] - 15s 717ms/step - loss: 0.0566 - accuracy: 0.9970 - val_loss: 26.5146 - val_accuracy: 0.9863\n",
      "Epoch 67/512\n",
      "21/21 [==============================] - 16s 743ms/step - loss: 0.0528 - accuracy: 0.9972 - val_loss: 26.5242 - val_accuracy: 0.9865\n",
      "Epoch 68/512\n",
      "21/21 [==============================] - 16s 745ms/step - loss: 0.0542 - accuracy: 0.9969 - val_loss: 26.4738 - val_accuracy: 0.9868\n",
      "Epoch 69/512\n",
      "21/21 [==============================] - 15s 718ms/step - loss: 0.0521 - accuracy: 0.9970 - val_loss: 26.4495 - val_accuracy: 0.9865\n",
      "Epoch 70/512\n",
      "21/21 [==============================] - 15s 718ms/step - loss: 0.0481 - accuracy: 0.9975 - val_loss: 26.4180 - val_accuracy: 0.9863\n",
      "Epoch 71/512\n",
      "21/21 [==============================] - 15s 718ms/step - loss: 0.0516 - accuracy: 0.9971 - val_loss: 26.4482 - val_accuracy: 0.9863\n",
      "Epoch 72/512\n",
      "21/21 [==============================] - 15s 717ms/step - loss: 0.0479 - accuracy: 0.9974 - val_loss: 26.4036 - val_accuracy: 0.9861\n",
      "Epoch 73/512\n",
      "21/21 [==============================] - 15s 717ms/step - loss: 0.0478 - accuracy: 0.9974 - val_loss: 26.3900 - val_accuracy: 0.9866\n",
      "Epoch 74/512\n",
      "21/21 [==============================] - 15s 718ms/step - loss: 0.0470 - accuracy: 0.9974 - val_loss: 26.3894 - val_accuracy: 0.9869\n",
      "Epoch 75/512\n",
      "21/21 [==============================] - 15s 717ms/step - loss: 0.0495 - accuracy: 0.9973 - val_loss: 26.4302 - val_accuracy: 0.9861\n",
      "Epoch 76/512\n",
      "21/21 [==============================] - 15s 718ms/step - loss: 0.0474 - accuracy: 0.9973 - val_loss: 26.3803 - val_accuracy: 0.9866\n",
      "Epoch 77/512\n",
      "21/21 [==============================] - 15s 718ms/step - loss: 0.0461 - accuracy: 0.9977 - val_loss: 26.3196 - val_accuracy: 0.9863\n",
      "Epoch 78/512\n",
      "21/21 [==============================] - 15s 717ms/step - loss: 0.0423 - accuracy: 0.9977 - val_loss: 26.3546 - val_accuracy: 0.9858\n",
      "Epoch 79/512\n",
      "21/21 [==============================] - 15s 717ms/step - loss: 0.0422 - accuracy: 0.9978 - val_loss: 26.2963 - val_accuracy: 0.9867\n",
      "Epoch 80/512\n",
      "21/21 [==============================] - 15s 718ms/step - loss: 0.0414 - accuracy: 0.9977 - val_loss: 26.2971 - val_accuracy: 0.9863\n",
      "Epoch 81/512\n",
      "21/21 [==============================] - 15s 718ms/step - loss: 0.0410 - accuracy: 0.9977 - val_loss: 26.2870 - val_accuracy: 0.9861\n",
      "Epoch 82/512\n",
      "21/21 [==============================] - 15s 718ms/step - loss: 0.0420 - accuracy: 0.9978 - val_loss: 26.3346 - val_accuracy: 0.9862\n",
      "Epoch 83/512\n",
      "21/21 [==============================] - 15s 717ms/step - loss: 0.0423 - accuracy: 0.9976 - val_loss: 26.3010 - val_accuracy: 0.9863\n",
      "Epoch 84/512\n",
      "21/21 [==============================] - 15s 717ms/step - loss: 0.0381 - accuracy: 0.9979 - val_loss: 26.2389 - val_accuracy: 0.9865\n",
      "Epoch 85/512\n",
      "21/21 [==============================] - 15s 717ms/step - loss: 0.0368 - accuracy: 0.9978 - val_loss: 26.1679 - val_accuracy: 0.9867\n",
      "Epoch 86/512\n",
      "21/21 [==============================] - 15s 717ms/step - loss: 0.0388 - accuracy: 0.9978 - val_loss: 26.1703 - val_accuracy: 0.9865\n",
      "Epoch 87/512\n",
      "21/21 [==============================] - 15s 716ms/step - loss: 0.0402 - accuracy: 0.9979 - val_loss: 26.1978 - val_accuracy: 0.9858\n",
      "Epoch 88/512\n",
      "21/21 [==============================] - 15s 717ms/step - loss: 0.0384 - accuracy: 0.9980 - val_loss: 26.2026 - val_accuracy: 0.9868\n",
      "Epoch 89/512\n",
      "21/21 [==============================] - 16s 744ms/step - loss: 0.0385 - accuracy: 0.9978 - val_loss: 26.1464 - val_accuracy: 0.9863\n",
      "Epoch 90/512\n",
      "21/21 [==============================] - 16s 743ms/step - loss: 0.0391 - accuracy: 0.9976 - val_loss: 26.1594 - val_accuracy: 0.9865\n",
      "Epoch 91/512\n",
      "21/21 [==============================] - 15s 718ms/step - loss: 0.0375 - accuracy: 0.9979 - val_loss: 26.1576 - val_accuracy: 0.9865\n",
      "Epoch 92/512\n",
      "21/21 [==============================] - 15s 716ms/step - loss: 0.0334 - accuracy: 0.9983 - val_loss: 26.1166 - val_accuracy: 0.9865\n",
      "Epoch 93/512\n",
      "21/21 [==============================] - 15s 717ms/step - loss: 0.0326 - accuracy: 0.9983 - val_loss: 26.1407 - val_accuracy: 0.9843\n",
      "Epoch 94/512\n",
      "21/21 [==============================] - 15s 717ms/step - loss: 0.0366 - accuracy: 0.9977 - val_loss: 26.0958 - val_accuracy: 0.9843\n",
      "Epoch 95/512\n",
      "21/21 [==============================] - 15s 718ms/step - loss: 0.0373 - accuracy: 0.9978 - val_loss: 26.1068 - val_accuracy: 0.9838\n",
      "Epoch 96/512\n",
      "21/21 [==============================] - 15s 718ms/step - loss: 0.0340 - accuracy: 0.9980 - val_loss: 26.0391 - val_accuracy: 0.9826\n",
      "Epoch 97/512\n",
      "21/21 [==============================] - 15s 717ms/step - loss: 0.0320 - accuracy: 0.9982 - val_loss: 26.0910 - val_accuracy: 0.9832\n",
      "Epoch 98/512\n",
      "21/21 [==============================] - 15s 717ms/step - loss: 0.0331 - accuracy: 0.9979 - val_loss: 26.0583 - val_accuracy: 0.9808\n",
      "Epoch 99/512\n",
      "21/21 [==============================] - 15s 717ms/step - loss: 0.0338 - accuracy: 0.9980 - val_loss: 26.0542 - val_accuracy: 0.9807\n",
      "Epoch 100/512\n",
      "21/21 [==============================] - 15s 716ms/step - loss: 0.0311 - accuracy: 0.9983 - val_loss: 26.0568 - val_accuracy: 0.9808\n",
      "Epoch 101/512\n",
      "21/21 [==============================] - 15s 725ms/step - loss: 0.0318 - accuracy: 0.9980 - val_loss: 26.0164 - val_accuracy: 0.9799\n",
      "Epoch 102/512\n",
      "21/21 [==============================] - 15s 717ms/step - loss: 0.0275 - accuracy: 0.9985 - val_loss: 26.0172 - val_accuracy: 0.9790\n",
      "Epoch 103/512\n",
      "21/21 [==============================] - 15s 717ms/step - loss: 0.0287 - accuracy: 0.9981 - val_loss: 25.9901 - val_accuracy: 0.9784\n",
      "Epoch 104/512\n",
      "21/21 [==============================] - 15s 717ms/step - loss: 0.0303 - accuracy: 0.9982 - val_loss: 25.9941 - val_accuracy: 0.9783\n",
      "Epoch 105/512\n",
      "21/21 [==============================] - 15s 717ms/step - loss: 0.0296 - accuracy: 0.9982 - val_loss: 25.9957 - val_accuracy: 0.9776\n",
      "Epoch 106/512\n",
      "21/21 [==============================] - 15s 717ms/step - loss: 0.0282 - accuracy: 0.9984 - val_loss: 25.9577 - val_accuracy: 0.9782\n",
      "Epoch 107/512\n",
      "21/21 [==============================] - 15s 717ms/step - loss: 0.0279 - accuracy: 0.9983 - val_loss: 25.9458 - val_accuracy: 0.9782\n",
      "Epoch 108/512\n",
      "21/21 [==============================] - 15s 717ms/step - loss: 0.0312 - accuracy: 0.9980 - val_loss: 25.9610 - val_accuracy: 0.9780\n",
      "Epoch 109/512\n",
      "21/21 [==============================] - 15s 718ms/step - loss: 0.0314 - accuracy: 0.9982 - val_loss: 25.9247 - val_accuracy: 0.9777\n",
      "Epoch 110/512\n",
      "21/21 [==============================] - 15s 717ms/step - loss: 0.0284 - accuracy: 0.9984 - val_loss: 25.9042 - val_accuracy: 0.9767\n",
      "Epoch 111/512\n",
      "21/21 [==============================] - 16s 743ms/step - loss: 0.0267 - accuracy: 0.9983 - val_loss: 25.9305 - val_accuracy: 0.9766\n",
      "Epoch 112/512\n",
      "21/21 [==============================] - 16s 744ms/step - loss: 0.0260 - accuracy: 0.9985 - val_loss: 25.8564 - val_accuracy: 0.9771\n",
      "Epoch 113/512\n"
     ]
    },
    {
     "name": "stdout",
     "output_type": "stream",
     "text": [
      "21/21 [==============================] - 15s 717ms/step - loss: 0.0266 - accuracy: 0.9984 - val_loss: 25.9311 - val_accuracy: 0.9768\n",
      "Epoch 114/512\n",
      "21/21 [==============================] - 15s 717ms/step - loss: 0.0279 - accuracy: 0.9983 - val_loss: 25.8904 - val_accuracy: 0.9759\n",
      "Epoch 115/512\n",
      "21/21 [==============================] - 15s 718ms/step - loss: 0.0302 - accuracy: 0.9981 - val_loss: 25.8411 - val_accuracy: 0.9744\n",
      "Epoch 116/512\n",
      "21/21 [==============================] - 15s 717ms/step - loss: 0.0262 - accuracy: 0.9985 - val_loss: 25.8473 - val_accuracy: 0.9761\n",
      "Epoch 117/512\n",
      "21/21 [==============================] - 15s 716ms/step - loss: 0.0249 - accuracy: 0.9986 - val_loss: 25.8272 - val_accuracy: 0.9762\n",
      "Epoch 118/512\n",
      "21/21 [==============================] - 15s 718ms/step - loss: 0.0247 - accuracy: 0.9985 - val_loss: 25.8900 - val_accuracy: 0.9748\n",
      "Epoch 119/512\n",
      "21/21 [==============================] - 15s 716ms/step - loss: 0.0263 - accuracy: 0.9984 - val_loss: 25.8611 - val_accuracy: 0.9749\n",
      "Epoch 120/512\n",
      "21/21 [==============================] - 15s 717ms/step - loss: 0.0272 - accuracy: 0.9983 - val_loss: 25.8322 - val_accuracy: 0.9751\n",
      "Epoch 121/512\n",
      "21/21 [==============================] - 15s 718ms/step - loss: 0.0277 - accuracy: 0.9984 - val_loss: 25.7418 - val_accuracy: 0.9758\n",
      "Epoch 122/512\n",
      "21/21 [==============================] - 15s 718ms/step - loss: 0.0250 - accuracy: 0.9985 - val_loss: 25.7715 - val_accuracy: 0.9756\n",
      "Epoch 123/512\n",
      "21/21 [==============================] - 15s 718ms/step - loss: 0.0230 - accuracy: 0.9987 - val_loss: 25.7794 - val_accuracy: 0.9743\n",
      "Epoch 124/512\n",
      "21/21 [==============================] - 15s 716ms/step - loss: 0.0240 - accuracy: 0.9986 - val_loss: 25.7650 - val_accuracy: 0.9749\n",
      "Epoch 125/512\n",
      "21/21 [==============================] - 15s 716ms/step - loss: 0.0216 - accuracy: 0.9989 - val_loss: 25.7616 - val_accuracy: 0.9737\n",
      "Epoch 126/512\n",
      "21/21 [==============================] - 15s 716ms/step - loss: 0.0239 - accuracy: 0.9985 - val_loss: 25.6920 - val_accuracy: 0.9739\n",
      "Epoch 127/512\n",
      "21/21 [==============================] - 15s 716ms/step - loss: 0.0235 - accuracy: 0.9983 - val_loss: 25.7226 - val_accuracy: 0.9746\n",
      "Epoch 128/512\n",
      "21/21 [==============================] - 15s 717ms/step - loss: 0.0291 - accuracy: 0.9982 - val_loss: 25.6970 - val_accuracy: 0.9743\n",
      "Epoch 129/512\n",
      "21/21 [==============================] - 15s 718ms/step - loss: 0.0215 - accuracy: 0.9988 - val_loss: 25.6945 - val_accuracy: 0.9740\n",
      "Epoch 130/512\n",
      "21/21 [==============================] - 15s 718ms/step - loss: 0.0253 - accuracy: 0.9984 - val_loss: 25.6396 - val_accuracy: 0.9748\n",
      "Epoch 131/512\n",
      "21/21 [==============================] - 15s 715ms/step - loss: 0.0217 - accuracy: 0.9987 - val_loss: 25.7064 - val_accuracy: 0.9743\n",
      "Epoch 132/512\n",
      "21/21 [==============================] - 15s 717ms/step - loss: 0.0213 - accuracy: 0.9988 - val_loss: 25.6349 - val_accuracy: 0.9734\n",
      "Epoch 133/512\n",
      "21/21 [==============================] - 16s 744ms/step - loss: 0.0206 - accuracy: 0.9987 - val_loss: 25.6569 - val_accuracy: 0.9737\n",
      "Epoch 134/512\n",
      "21/21 [==============================] - 16s 743ms/step - loss: 0.0208 - accuracy: 0.9987 - val_loss: 25.5906 - val_accuracy: 0.9733\n",
      "Epoch 135/512\n",
      "21/21 [==============================] - 15s 716ms/step - loss: 0.0250 - accuracy: 0.9984 - val_loss: 25.6241 - val_accuracy: 0.9732\n",
      "Epoch 136/512\n",
      "21/21 [==============================] - 15s 717ms/step - loss: 0.0288 - accuracy: 0.9980 - val_loss: 25.5645 - val_accuracy: 0.9738\n",
      "Epoch 137/512\n",
      "21/21 [==============================] - 15s 716ms/step - loss: 0.0261 - accuracy: 0.9984 - val_loss: 25.6060 - val_accuracy: 0.9741\n",
      "Epoch 138/512\n",
      "21/21 [==============================] - 15s 717ms/step - loss: 0.0214 - accuracy: 0.9987 - val_loss: 25.5867 - val_accuracy: 0.9738\n",
      "Epoch 139/512\n",
      "21/21 [==============================] - 15s 717ms/step - loss: 0.0197 - accuracy: 0.9987 - val_loss: 25.5393 - val_accuracy: 0.9741\n",
      "Epoch 140/512\n",
      "21/21 [==============================] - 15s 717ms/step - loss: 0.0207 - accuracy: 0.9986 - val_loss: 25.5744 - val_accuracy: 0.9737\n",
      "Epoch 141/512\n",
      "21/21 [==============================] - 15s 717ms/step - loss: 0.0205 - accuracy: 0.9988 - val_loss: 25.5138 - val_accuracy: 0.9731\n",
      "Epoch 142/512\n",
      "21/21 [==============================] - 15s 717ms/step - loss: 0.0186 - accuracy: 0.9989 - val_loss: 25.4917 - val_accuracy: 0.9740\n",
      "Epoch 143/512\n",
      "21/21 [==============================] - 15s 717ms/step - loss: 0.0184 - accuracy: 0.9987 - val_loss: 25.5150 - val_accuracy: 0.9750\n",
      "Epoch 144/512\n",
      "21/21 [==============================] - 15s 716ms/step - loss: 0.0198 - accuracy: 0.9987 - val_loss: 25.5720 - val_accuracy: 0.9725\n",
      "Epoch 145/512\n",
      "21/21 [==============================] - 15s 718ms/step - loss: 0.0192 - accuracy: 0.9989 - val_loss: 25.5078 - val_accuracy: 0.9737\n",
      "Epoch 146/512\n",
      "21/21 [==============================] - 15s 716ms/step - loss: 0.0202 - accuracy: 0.9986 - val_loss: 25.5319 - val_accuracy: 0.9733\n",
      "Epoch 147/512\n",
      "21/21 [==============================] - 15s 717ms/step - loss: 0.0233 - accuracy: 0.9984 - val_loss: 25.4406 - val_accuracy: 0.9737\n",
      "Epoch 148/512\n",
      "21/21 [==============================] - 15s 717ms/step - loss: 0.0210 - accuracy: 0.9986 - val_loss: 25.5123 - val_accuracy: 0.9732\n",
      "Epoch 149/512\n",
      "21/21 [==============================] - 15s 716ms/step - loss: 0.0210 - accuracy: 0.9985 - val_loss: 25.4616 - val_accuracy: 0.9740\n",
      "Epoch 150/512\n",
      "21/21 [==============================] - 15s 718ms/step - loss: 0.0195 - accuracy: 0.9988 - val_loss: 25.4663 - val_accuracy: 0.9725\n",
      "Epoch 151/512\n",
      "21/21 [==============================] - 15s 716ms/step - loss: 0.0199 - accuracy: 0.9987 - val_loss: 25.3948 - val_accuracy: 0.9739\n",
      "Epoch 152/512\n",
      "21/21 [==============================] - 15s 716ms/step - loss: 0.0197 - accuracy: 0.9984 - val_loss: 25.4200 - val_accuracy: 0.9738\n",
      "Epoch 153/512\n",
      "21/21 [==============================] - 15s 717ms/step - loss: 0.0266 - accuracy: 0.9981 - val_loss: 25.4116 - val_accuracy: 0.9711\n",
      "Epoch 154/512\n",
      "21/21 [==============================] - 15s 717ms/step - loss: 0.0374 - accuracy: 0.9975 - val_loss: 25.3623 - val_accuracy: 0.9716\n",
      "Epoch 155/512\n",
      "21/21 [==============================] - 16s 745ms/step - loss: 0.0367 - accuracy: 0.9977 - val_loss: 25.3573 - val_accuracy: 0.9738\n",
      "Epoch 156/512\n",
      "21/21 [==============================] - 16s 744ms/step - loss: 0.0274 - accuracy: 0.9983 - val_loss: 25.3202 - val_accuracy: 0.9736\n",
      "Epoch 157/512\n",
      "21/21 [==============================] - 15s 717ms/step - loss: 0.0228 - accuracy: 0.9986 - val_loss: 25.3156 - val_accuracy: 0.9740\n",
      "Epoch 158/512\n",
      "21/21 [==============================] - 15s 717ms/step - loss: 0.0235 - accuracy: 0.9986 - val_loss: 25.2580 - val_accuracy: 0.9737\n",
      "Epoch 159/512\n",
      "21/21 [==============================] - 15s 717ms/step - loss: 0.0213 - accuracy: 0.9985 - val_loss: 25.3162 - val_accuracy: 0.9735\n",
      "Epoch 160/512\n",
      "21/21 [==============================] - 15s 727ms/step - loss: 0.0255 - accuracy: 0.9982 - val_loss: 25.2690 - val_accuracy: 0.9739\n",
      "Epoch 161/512\n",
      "21/21 [==============================] - 15s 715ms/step - loss: 0.0210 - accuracy: 0.9986 - val_loss: 25.3211 - val_accuracy: 0.9734\n",
      "Epoch 162/512\n",
      "21/21 [==============================] - 15s 717ms/step - loss: 0.0206 - accuracy: 0.9986 - val_loss: 25.2807 - val_accuracy: 0.9734\n",
      "Epoch 163/512\n",
      "21/21 [==============================] - 15s 718ms/step - loss: 0.0199 - accuracy: 0.9987 - val_loss: 25.2606 - val_accuracy: 0.9728\n",
      "Epoch 164/512\n",
      "21/21 [==============================] - 15s 718ms/step - loss: 0.0179 - accuracy: 0.9988 - val_loss: 25.2686 - val_accuracy: 0.9728\n",
      "Epoch 165/512\n",
      "21/21 [==============================] - 15s 716ms/step - loss: 0.0181 - accuracy: 0.9987 - val_loss: 25.2630 - val_accuracy: 0.9729\n",
      "Epoch 166/512\n",
      "21/21 [==============================] - 15s 718ms/step - loss: 0.0168 - accuracy: 0.9990 - val_loss: 25.2362 - val_accuracy: 0.9730\n",
      "Epoch 167/512\n",
      "21/21 [==============================] - 15s 717ms/step - loss: 0.0170 - accuracy: 0.9988 - val_loss: 25.1999 - val_accuracy: 0.9738\n",
      "Epoch 168/512\n",
      "21/21 [==============================] - 15s 717ms/step - loss: 0.0171 - accuracy: 0.9988 - val_loss: 25.2096 - val_accuracy: 0.9723\n"
     ]
    },
    {
     "name": "stdout",
     "output_type": "stream",
     "text": [
      "Epoch 169/512\n",
      "21/21 [==============================] - 15s 718ms/step - loss: 0.0165 - accuracy: 0.9989 - val_loss: 25.1696 - val_accuracy: 0.9721\n",
      "Epoch 170/512\n",
      "21/21 [==============================] - 15s 718ms/step - loss: 0.0173 - accuracy: 0.9985 - val_loss: 25.1761 - val_accuracy: 0.9713\n",
      "Epoch 171/512\n",
      "21/21 [==============================] - 15s 716ms/step - loss: 0.0184 - accuracy: 0.9988 - val_loss: 25.1753 - val_accuracy: 0.9706\n",
      "Epoch 172/512\n",
      "21/21 [==============================] - 15s 716ms/step - loss: 0.0185 - accuracy: 0.9988 - val_loss: 25.0807 - val_accuracy: 0.9716\n",
      "Epoch 173/512\n",
      "21/21 [==============================] - 15s 716ms/step - loss: 0.0191 - accuracy: 0.9985 - val_loss: 25.0708 - val_accuracy: 0.9723\n",
      "Epoch 174/512\n",
      "21/21 [==============================] - 15s 716ms/step - loss: 0.0168 - accuracy: 0.9989 - val_loss: 25.1490 - val_accuracy: 0.9707\n",
      "Epoch 175/512\n",
      "21/21 [==============================] - 15s 717ms/step - loss: 0.0184 - accuracy: 0.9985 - val_loss: 25.0669 - val_accuracy: 0.9723\n",
      "Epoch 176/512\n",
      "21/21 [==============================] - 15s 718ms/step - loss: 0.0173 - accuracy: 0.9988 - val_loss: 25.0845 - val_accuracy: 0.9708\n",
      "Epoch 177/512\n",
      "21/21 [==============================] - 16s 745ms/step - loss: 0.0195 - accuracy: 0.9986 - val_loss: 25.0260 - val_accuracy: 0.9719\n",
      "Epoch 178/512\n",
      "21/21 [==============================] - 16s 744ms/step - loss: 0.0188 - accuracy: 0.9987 - val_loss: 25.0316 - val_accuracy: 0.9715\n",
      "Epoch 179/512\n",
      "21/21 [==============================] - 15s 717ms/step - loss: 0.0163 - accuracy: 0.9988 - val_loss: 25.0524 - val_accuracy: 0.9718\n",
      "Epoch 180/512\n",
      "21/21 [==============================] - 15s 725ms/step - loss: 0.0160 - accuracy: 0.9988 - val_loss: 25.0445 - val_accuracy: 0.9714\n",
      "Epoch 181/512\n",
      "21/21 [==============================] - 15s 718ms/step - loss: 0.0218 - accuracy: 0.9983 - val_loss: 25.0407 - val_accuracy: 0.9712\n",
      "Epoch 182/512\n",
      "21/21 [==============================] - 15s 718ms/step - loss: 0.0183 - accuracy: 0.9986 - val_loss: 25.0036 - val_accuracy: 0.9719\n",
      "Epoch 183/512\n",
      "21/21 [==============================] - 15s 717ms/step - loss: 0.0168 - accuracy: 0.9987 - val_loss: 24.9750 - val_accuracy: 0.9724\n",
      "Epoch 184/512\n",
      "21/21 [==============================] - 15s 717ms/step - loss: 0.0154 - accuracy: 0.9989 - val_loss: 24.9682 - val_accuracy: 0.9719\n",
      "Epoch 185/512\n",
      "21/21 [==============================] - 15s 716ms/step - loss: 0.0160 - accuracy: 0.9987 - val_loss: 24.9949 - val_accuracy: 0.9708\n",
      "Epoch 186/512\n",
      "21/21 [==============================] - 15s 716ms/step - loss: 0.0164 - accuracy: 0.9987 - val_loss: 24.9394 - val_accuracy: 0.9720\n",
      "Epoch 187/512\n",
      "21/21 [==============================] - 15s 719ms/step - loss: 0.0169 - accuracy: 0.9988 - val_loss: 24.9708 - val_accuracy: 0.9713\n",
      "Epoch 188/512\n",
      "21/21 [==============================] - 15s 717ms/step - loss: 0.0167 - accuracy: 0.9988 - val_loss: 24.9326 - val_accuracy: 0.9712\n",
      "Epoch 189/512\n",
      "21/21 [==============================] - 15s 717ms/step - loss: 0.0137 - accuracy: 0.9990 - val_loss: 24.9106 - val_accuracy: 0.9713\n",
      "Epoch 190/512\n",
      "21/21 [==============================] - 15s 718ms/step - loss: 0.0139 - accuracy: 0.9990 - val_loss: 24.9135 - val_accuracy: 0.9716\n",
      "Epoch 191/512\n",
      "21/21 [==============================] - 15s 716ms/step - loss: 0.0159 - accuracy: 0.9989 - val_loss: 24.9295 - val_accuracy: 0.9709\n",
      "Epoch 192/512\n",
      "21/21 [==============================] - 15s 717ms/step - loss: 0.0135 - accuracy: 0.9990 - val_loss: 24.8778 - val_accuracy: 0.9719\n",
      "Epoch 193/512\n",
      "21/21 [==============================] - 15s 717ms/step - loss: 0.0143 - accuracy: 0.9990 - val_loss: 24.8375 - val_accuracy: 0.9715\n",
      "Epoch 194/512\n",
      "21/21 [==============================] - 15s 718ms/step - loss: 0.0145 - accuracy: 0.9988 - val_loss: 24.9155 - val_accuracy: 0.9714\n",
      "Epoch 195/512\n",
      "21/21 [==============================] - 15s 717ms/step - loss: 0.0150 - accuracy: 0.9989 - val_loss: 24.8871 - val_accuracy: 0.9687\n",
      "Epoch 196/512\n",
      "21/21 [==============================] - 15s 717ms/step - loss: 0.0150 - accuracy: 0.9990 - val_loss: 24.8667 - val_accuracy: 0.9653\n",
      "Epoch 197/512\n",
      "21/21 [==============================] - 15s 719ms/step - loss: 0.0140 - accuracy: 0.9989 - val_loss: 24.8383 - val_accuracy: 0.9666\n",
      "Epoch 198/512\n",
      "21/21 [==============================] - 15s 718ms/step - loss: 0.0145 - accuracy: 0.9989 - val_loss: 24.8680 - val_accuracy: 0.9663\n",
      "Epoch 199/512\n",
      "21/21 [==============================] - 16s 743ms/step - loss: 0.0140 - accuracy: 0.9989 - val_loss: 24.8536 - val_accuracy: 0.9665\n",
      "Epoch 200/512\n",
      "21/21 [==============================] - 16s 743ms/step - loss: 0.0146 - accuracy: 0.9990 - val_loss: 24.7870 - val_accuracy: 0.9677\n",
      "Epoch 201/512\n",
      "21/21 [==============================] - 15s 716ms/step - loss: 0.0124 - accuracy: 0.9991 - val_loss: 24.8084 - val_accuracy: 0.9671\n",
      "Epoch 202/512\n",
      "21/21 [==============================] - 15s 717ms/step - loss: 0.0126 - accuracy: 0.9990 - val_loss: 24.7826 - val_accuracy: 0.9680\n",
      "Epoch 203/512\n",
      "21/21 [==============================] - 15s 716ms/step - loss: 0.0208 - accuracy: 0.9982 - val_loss: 24.7926 - val_accuracy: 0.9674\n",
      "Epoch 204/512\n",
      "21/21 [==============================] - 15s 717ms/step - loss: 0.0157 - accuracy: 0.9989 - val_loss: 24.7371 - val_accuracy: 0.9675\n",
      "Epoch 205/512\n",
      "21/21 [==============================] - 15s 716ms/step - loss: 0.0152 - accuracy: 0.9988 - val_loss: 24.6819 - val_accuracy: 0.9684\n",
      "Epoch 206/512\n",
      "21/21 [==============================] - 15s 719ms/step - loss: 0.0141 - accuracy: 0.9990 - val_loss: 24.7182 - val_accuracy: 0.9675\n",
      "Epoch 207/512\n",
      "21/21 [==============================] - 15s 717ms/step - loss: 0.0127 - accuracy: 0.9991 - val_loss: 24.7463 - val_accuracy: 0.9678\n",
      "Epoch 208/512\n",
      "21/21 [==============================] - 15s 717ms/step - loss: 0.0142 - accuracy: 0.9989 - val_loss: 24.7225 - val_accuracy: 0.9687\n",
      "Epoch 209/512\n",
      "21/21 [==============================] - 15s 716ms/step - loss: 0.0133 - accuracy: 0.9989 - val_loss: 24.6411 - val_accuracy: 0.9682\n",
      "Epoch 210/512\n",
      "21/21 [==============================] - 15s 718ms/step - loss: 0.0146 - accuracy: 0.9987 - val_loss: 24.6976 - val_accuracy: 0.9666\n",
      "Epoch 211/512\n",
      "21/21 [==============================] - 15s 717ms/step - loss: 0.0149 - accuracy: 0.9988 - val_loss: 24.6909 - val_accuracy: 0.9649\n",
      "Epoch 212/512\n",
      "21/21 [==============================] - 15s 716ms/step - loss: 0.0157 - accuracy: 0.9987 - val_loss: 24.6659 - val_accuracy: 0.9631\n",
      "Epoch 213/512\n",
      "21/21 [==============================] - 15s 718ms/step - loss: 0.0154 - accuracy: 0.9987 - val_loss: 24.6200 - val_accuracy: 0.9624\n",
      "Epoch 214/512\n",
      "21/21 [==============================] - 15s 716ms/step - loss: 0.0132 - accuracy: 0.9990 - val_loss: 24.6408 - val_accuracy: 0.9635\n",
      "Epoch 215/512\n",
      "21/21 [==============================] - 15s 718ms/step - loss: 0.0144 - accuracy: 0.9987 - val_loss: 24.6100 - val_accuracy: 0.9607\n",
      "Epoch 216/512\n",
      "21/21 [==============================] - 15s 718ms/step - loss: 0.0157 - accuracy: 0.9988 - val_loss: 24.6005 - val_accuracy: 0.9596\n",
      "Epoch 217/512\n",
      "21/21 [==============================] - 15s 718ms/step - loss: 0.0161 - accuracy: 0.9987 - val_loss: 24.5745 - val_accuracy: 0.9586\n",
      "Epoch 218/512\n",
      "21/21 [==============================] - 15s 716ms/step - loss: 0.0198 - accuracy: 0.9985 - val_loss: 24.5396 - val_accuracy: 0.9589\n",
      "Epoch 219/512\n",
      "21/21 [==============================] - 15s 717ms/step - loss: 0.0145 - accuracy: 0.9989 - val_loss: 24.5604 - val_accuracy: 0.9603\n",
      "Epoch 220/512\n",
      "21/21 [==============================] - 15s 717ms/step - loss: 0.0134 - accuracy: 0.9989 - val_loss: 24.5372 - val_accuracy: 0.9602\n",
      "Epoch 221/512\n",
      "21/21 [==============================] - 16s 744ms/step - loss: 0.0130 - accuracy: 0.9988 - val_loss: 24.4960 - val_accuracy: 0.9595\n",
      "Epoch 222/512\n",
      "21/21 [==============================] - 16s 744ms/step - loss: 0.0133 - accuracy: 0.9990 - val_loss: 24.4957 - val_accuracy: 0.9603\n",
      "Epoch 223/512\n",
      "21/21 [==============================] - 15s 717ms/step - loss: 0.0145 - accuracy: 0.9988 - val_loss: 24.4921 - val_accuracy: 0.9592\n",
      "Epoch 224/512\n",
      "21/21 [==============================] - 15s 718ms/step - loss: 0.0115 - accuracy: 0.9992 - val_loss: 24.4613 - val_accuracy: 0.9616\n"
     ]
    },
    {
     "name": "stdout",
     "output_type": "stream",
     "text": [
      "Epoch 225/512\n",
      "21/21 [==============================] - 15s 717ms/step - loss: 0.0151 - accuracy: 0.9986 - val_loss: 24.4714 - val_accuracy: 0.9623\n",
      "Epoch 226/512\n",
      "21/21 [==============================] - 15s 716ms/step - loss: 0.0121 - accuracy: 0.9990 - val_loss: 24.4690 - val_accuracy: 0.9615\n",
      "Epoch 227/512\n",
      "21/21 [==============================] - 15s 717ms/step - loss: 0.0134 - accuracy: 0.9988 - val_loss: 24.4567 - val_accuracy: 0.9607\n",
      "Epoch 228/512\n",
      "21/21 [==============================] - 15s 718ms/step - loss: 0.0143 - accuracy: 0.9990 - val_loss: 24.4804 - val_accuracy: 0.9613\n",
      "Epoch 229/512\n",
      "21/21 [==============================] - 15s 717ms/step - loss: 0.0135 - accuracy: 0.9989 - val_loss: 24.4081 - val_accuracy: 0.9599\n",
      "Epoch 230/512\n",
      "21/21 [==============================] - 15s 717ms/step - loss: 0.0132 - accuracy: 0.9987 - val_loss: 24.3657 - val_accuracy: 0.9592\n",
      "Epoch 231/512\n",
      "21/21 [==============================] - 15s 717ms/step - loss: 0.0157 - accuracy: 0.9986 - val_loss: 24.3664 - val_accuracy: 0.9571\n",
      "Epoch 232/512\n",
      "21/21 [==============================] - 15s 716ms/step - loss: 0.0153 - accuracy: 0.9988 - val_loss: 24.3947 - val_accuracy: 0.9569\n",
      "Epoch 233/512\n",
      "21/21 [==============================] - 15s 717ms/step - loss: 0.0134 - accuracy: 0.9990 - val_loss: 24.3593 - val_accuracy: 0.9561\n",
      "Epoch 234/512\n",
      "21/21 [==============================] - 15s 717ms/step - loss: 0.0124 - accuracy: 0.9989 - val_loss: 24.3515 - val_accuracy: 0.9559\n",
      "Epoch 235/512\n",
      "21/21 [==============================] - 15s 717ms/step - loss: 0.0133 - accuracy: 0.9989 - val_loss: 24.2975 - val_accuracy: 0.9553\n",
      "Epoch 236/512\n",
      "21/21 [==============================] - 15s 717ms/step - loss: 0.0117 - accuracy: 0.9990 - val_loss: 24.3617 - val_accuracy: 0.9554\n",
      "Epoch 237/512\n",
      "21/21 [==============================] - 15s 717ms/step - loss: 0.0119 - accuracy: 0.9990 - val_loss: 24.2914 - val_accuracy: 0.9556\n",
      "Epoch 238/512\n",
      "21/21 [==============================] - 15s 718ms/step - loss: 0.0139 - accuracy: 0.9989 - val_loss: 24.2777 - val_accuracy: 0.9552\n",
      "Epoch 239/512\n",
      "21/21 [==============================] - 15s 718ms/step - loss: 0.0116 - accuracy: 0.9991 - val_loss: 24.2952 - val_accuracy: 0.9562\n",
      "Epoch 240/512\n",
      "21/21 [==============================] - 15s 716ms/step - loss: 0.0115 - accuracy: 0.9990 - val_loss: 24.2583 - val_accuracy: 0.9561\n",
      "Epoch 241/512\n",
      "21/21 [==============================] - 15s 718ms/step - loss: 0.0130 - accuracy: 0.9990 - val_loss: 24.2361 - val_accuracy: 0.9561\n",
      "Epoch 242/512\n",
      "21/21 [==============================] - 15s 717ms/step - loss: 0.0112 - accuracy: 0.9991 - val_loss: 24.2452 - val_accuracy: 0.9570\n",
      "Epoch 243/512\n",
      "21/21 [==============================] - 16s 744ms/step - loss: 0.0130 - accuracy: 0.9988 - val_loss: 24.2605 - val_accuracy: 0.9578\n",
      "Epoch 244/512\n",
      "21/21 [==============================] - 16s 743ms/step - loss: 0.0125 - accuracy: 0.9988 - val_loss: 24.2305 - val_accuracy: 0.9569\n",
      "Epoch 245/512\n",
      "21/21 [==============================] - 15s 716ms/step - loss: 0.0141 - accuracy: 0.9987 - val_loss: 24.2120 - val_accuracy: 0.9584\n",
      "Epoch 246/512\n",
      "21/21 [==============================] - 15s 717ms/step - loss: 0.0140 - accuracy: 0.9988 - val_loss: 24.1769 - val_accuracy: 0.9566\n",
      "Epoch 247/512\n",
      "21/21 [==============================] - 15s 717ms/step - loss: 0.0193 - accuracy: 0.9981 - val_loss: 24.1863 - val_accuracy: 0.9570\n",
      "Epoch 248/512\n",
      "21/21 [==============================] - 15s 717ms/step - loss: 0.0270 - accuracy: 0.9975 - val_loss: 24.1798 - val_accuracy: 0.9532\n",
      "Epoch 249/512\n",
      "21/21 [==============================] - 15s 716ms/step - loss: 0.0220 - accuracy: 0.9982 - val_loss: 24.1384 - val_accuracy: 0.9559\n",
      "Epoch 250/512\n",
      "21/21 [==============================] - 15s 717ms/step - loss: 0.0165 - accuracy: 0.9987 - val_loss: 24.1138 - val_accuracy: 0.9552\n",
      "Epoch 251/512\n",
      "21/21 [==============================] - 15s 717ms/step - loss: 0.0143 - accuracy: 0.9989 - val_loss: 24.0226 - val_accuracy: 0.9556\n",
      "Epoch 252/512\n",
      "21/21 [==============================] - 15s 717ms/step - loss: 0.0147 - accuracy: 0.9988 - val_loss: 24.0912 - val_accuracy: 0.9549\n",
      "Epoch 253/512\n",
      "21/21 [==============================] - 15s 715ms/step - loss: 0.0136 - accuracy: 0.9988 - val_loss: 24.0810 - val_accuracy: 0.9519\n",
      "Epoch 254/512\n",
      "21/21 [==============================] - 15s 716ms/step - loss: 0.0134 - accuracy: 0.9989 - val_loss: 23.9931 - val_accuracy: 0.9529\n",
      "Epoch 255/512\n",
      "21/21 [==============================] - 15s 716ms/step - loss: 0.0146 - accuracy: 0.9987 - val_loss: 24.0404 - val_accuracy: 0.9517\n",
      "Epoch 256/512\n",
      "21/21 [==============================] - 15s 716ms/step - loss: 0.0126 - accuracy: 0.9989 - val_loss: 23.9713 - val_accuracy: 0.9515\n",
      "Epoch 257/512\n",
      "21/21 [==============================] - 15s 717ms/step - loss: 0.0120 - accuracy: 0.9989 - val_loss: 23.9422 - val_accuracy: 0.9500\n",
      "Epoch 258/512\n",
      "21/21 [==============================] - 15s 718ms/step - loss: 0.0125 - accuracy: 0.9990 - val_loss: 24.0298 - val_accuracy: 0.9504\n",
      "Epoch 259/512\n",
      "21/21 [==============================] - 15s 718ms/step - loss: 0.0128 - accuracy: 0.9988 - val_loss: 23.9620 - val_accuracy: 0.9486\n",
      "Epoch 260/512\n",
      "21/21 [==============================] - 15s 715ms/step - loss: 0.0114 - accuracy: 0.9991 - val_loss: 23.9418 - val_accuracy: 0.9491\n",
      "Epoch 261/512\n",
      "21/21 [==============================] - 15s 718ms/step - loss: 0.0117 - accuracy: 0.9990 - val_loss: 23.8960 - val_accuracy: 0.9476\n",
      "Epoch 262/512\n",
      "21/21 [==============================] - 15s 715ms/step - loss: 0.0122 - accuracy: 0.9989 - val_loss: 23.9596 - val_accuracy: 0.9503\n",
      "Epoch 263/512\n",
      "21/21 [==============================] - 15s 715ms/step - loss: 0.0113 - accuracy: 0.9990 - val_loss: 23.9108 - val_accuracy: 0.9510\n",
      "Epoch 264/512\n",
      "21/21 [==============================] - 15s 717ms/step - loss: 0.0128 - accuracy: 0.9989 - val_loss: 23.8711 - val_accuracy: 0.9514\n",
      "Epoch 265/512\n",
      "21/21 [==============================] - 16s 742ms/step - loss: 0.0116 - accuracy: 0.9990 - val_loss: 23.8679 - val_accuracy: 0.9539\n",
      "Epoch 266/512\n",
      "21/21 [==============================] - 16s 744ms/step - loss: 0.0114 - accuracy: 0.9989 - val_loss: 23.8747 - val_accuracy: 0.9526\n",
      "Epoch 267/512\n",
      "21/21 [==============================] - 15s 717ms/step - loss: 0.0121 - accuracy: 0.9990 - val_loss: 23.7871 - val_accuracy: 0.9531\n",
      "Epoch 268/512\n",
      "21/21 [==============================] - 15s 717ms/step - loss: 0.0143 - accuracy: 0.9985 - val_loss: 23.8465 - val_accuracy: 0.9535\n",
      "Epoch 269/512\n",
      "21/21 [==============================] - 15s 717ms/step - loss: 0.0145 - accuracy: 0.9987 - val_loss: 23.7895 - val_accuracy: 0.9515\n",
      "Epoch 270/512\n",
      "21/21 [==============================] - 15s 717ms/step - loss: 0.0120 - accuracy: 0.9989 - val_loss: 23.8167 - val_accuracy: 0.9490\n",
      "Epoch 271/512\n",
      "21/21 [==============================] - 15s 716ms/step - loss: 0.0131 - accuracy: 0.9990 - val_loss: 23.7739 - val_accuracy: 0.9526\n",
      "Epoch 272/512\n",
      "21/21 [==============================] - 15s 718ms/step - loss: 0.0111 - accuracy: 0.9989 - val_loss: 23.7661 - val_accuracy: 0.9516\n",
      "Epoch 273/512\n",
      "21/21 [==============================] - 15s 717ms/step - loss: 0.0122 - accuracy: 0.9989 - val_loss: 23.7594 - val_accuracy: 0.9526\n",
      "Epoch 274/512\n",
      "21/21 [==============================] - 15s 713ms/step - loss: 0.0125 - accuracy: 0.9988 - val_loss: 23.7161 - val_accuracy: 0.9486\n",
      "Epoch 275/512\n",
      "21/21 [==============================] - 15s 716ms/step - loss: 0.0121 - accuracy: 0.9990 - val_loss: 23.7288 - val_accuracy: 0.9493\n",
      "Epoch 276/512\n",
      "21/21 [==============================] - 15s 717ms/step - loss: 0.0114 - accuracy: 0.9990 - val_loss: 23.7029 - val_accuracy: 0.9468\n",
      "Epoch 277/512\n",
      "21/21 [==============================] - 15s 717ms/step - loss: 0.0121 - accuracy: 0.9991 - val_loss: 23.6658 - val_accuracy: 0.9452\n",
      "Epoch 278/512\n",
      "21/21 [==============================] - 15s 717ms/step - loss: 0.0109 - accuracy: 0.9990 - val_loss: 23.7159 - val_accuracy: 0.9456\n",
      "Epoch 279/512\n",
      "21/21 [==============================] - 15s 716ms/step - loss: 0.0103 - accuracy: 0.9988 - val_loss: 23.6869 - val_accuracy: 0.9439\n",
      "Epoch 280/512\n",
      "21/21 [==============================] - 15s 718ms/step - loss: 0.0124 - accuracy: 0.9989 - val_loss: 23.6484 - val_accuracy: 0.9448\n"
     ]
    },
    {
     "name": "stdout",
     "output_type": "stream",
     "text": [
      "Epoch 281/512\n",
      "21/21 [==============================] - 15s 717ms/step - loss: 0.0116 - accuracy: 0.9990 - val_loss: 23.6468 - val_accuracy: 0.9458\n",
      "Epoch 282/512\n",
      "21/21 [==============================] - 15s 718ms/step - loss: 0.0117 - accuracy: 0.9988 - val_loss: 23.6039 - val_accuracy: 0.9472\n",
      "Epoch 283/512\n",
      "21/21 [==============================] - 15s 718ms/step - loss: 0.0111 - accuracy: 0.9990 - val_loss: 23.6083 - val_accuracy: 0.9472\n",
      "Epoch 284/512\n",
      "21/21 [==============================] - 15s 715ms/step - loss: 0.0108 - accuracy: 0.9990 - val_loss: 23.5793 - val_accuracy: 0.9491\n",
      "Epoch 285/512\n",
      "21/21 [==============================] - 15s 717ms/step - loss: 0.0113 - accuracy: 0.9989 - val_loss: 23.5758 - val_accuracy: 0.9453\n",
      "Epoch 286/512\n",
      "21/21 [==============================] - 15s 716ms/step - loss: 0.0099 - accuracy: 0.9992 - val_loss: 23.6238 - val_accuracy: 0.9495\n",
      "Epoch 287/512\n",
      "21/21 [==============================] - 16s 742ms/step - loss: 0.0094 - accuracy: 0.9991 - val_loss: 23.5695 - val_accuracy: 0.9497\n",
      "Epoch 288/512\n",
      "21/21 [==============================] - 16s 742ms/step - loss: 0.0109 - accuracy: 0.9989 - val_loss: 23.5281 - val_accuracy: 0.9494\n",
      "Epoch 289/512\n",
      "21/21 [==============================] - 15s 717ms/step - loss: 0.0113 - accuracy: 0.9988 - val_loss: 23.4797 - val_accuracy: 0.9503\n",
      "Epoch 290/512\n",
      "21/21 [==============================] - 15s 716ms/step - loss: 0.0107 - accuracy: 0.9990 - val_loss: 23.5391 - val_accuracy: 0.9512\n",
      "Epoch 291/512\n",
      "21/21 [==============================] - 15s 715ms/step - loss: 0.0110 - accuracy: 0.9989 - val_loss: 23.4708 - val_accuracy: 0.9519\n",
      "Epoch 292/512\n",
      "21/21 [==============================] - 15s 718ms/step - loss: 0.0123 - accuracy: 0.9987 - val_loss: 23.5086 - val_accuracy: 0.9507\n",
      "Epoch 293/512\n",
      "21/21 [==============================] - 15s 716ms/step - loss: 0.0120 - accuracy: 0.9990 - val_loss: 23.4394 - val_accuracy: 0.9495\n",
      "Epoch 294/512\n",
      "21/21 [==============================] - 15s 717ms/step - loss: 0.0110 - accuracy: 0.9990 - val_loss: 23.4846 - val_accuracy: 0.9477\n",
      "Epoch 295/512\n",
      "21/21 [==============================] - 15s 718ms/step - loss: 0.0112 - accuracy: 0.9989 - val_loss: 23.4734 - val_accuracy: 0.9473\n",
      "Epoch 296/512\n",
      "21/21 [==============================] - 15s 717ms/step - loss: 0.0129 - accuracy: 0.9987 - val_loss: 23.4295 - val_accuracy: 0.9474\n",
      "Epoch 297/512\n",
      "21/21 [==============================] - 15s 717ms/step - loss: 0.0193 - accuracy: 0.9983 - val_loss: 23.3824 - val_accuracy: 0.9505\n",
      "Epoch 298/512\n",
      "21/21 [==============================] - 15s 716ms/step - loss: 0.0175 - accuracy: 0.9986 - val_loss: 23.3160 - val_accuracy: 0.9450\n",
      "Epoch 299/512\n",
      "21/21 [==============================] - 15s 715ms/step - loss: 0.0115 - accuracy: 0.9989 - val_loss: 23.3424 - val_accuracy: 0.9406\n",
      "Epoch 300/512\n",
      "21/21 [==============================] - 15s 718ms/step - loss: 0.0124 - accuracy: 0.9989 - val_loss: 23.3230 - val_accuracy: 0.9397\n",
      "Epoch 301/512\n",
      "21/21 [==============================] - 15s 716ms/step - loss: 0.0138 - accuracy: 0.9987 - val_loss: 23.2548 - val_accuracy: 0.9421\n",
      "Epoch 302/512\n",
      "21/21 [==============================] - 15s 716ms/step - loss: 0.0131 - accuracy: 0.9988 - val_loss: 23.2859 - val_accuracy: 0.9405\n",
      "Epoch 303/512\n",
      "21/21 [==============================] - 15s 716ms/step - loss: 0.0135 - accuracy: 0.9986 - val_loss: 23.2219 - val_accuracy: 0.9420\n",
      "Epoch 304/512\n",
      "21/21 [==============================] - 15s 717ms/step - loss: 0.0132 - accuracy: 0.9988 - val_loss: 23.1727 - val_accuracy: 0.9442\n",
      "Epoch 305/512\n",
      "21/21 [==============================] - 15s 717ms/step - loss: 0.0125 - accuracy: 0.9988 - val_loss: 23.2082 - val_accuracy: 0.9448\n",
      "Epoch 306/512\n",
      "21/21 [==============================] - 15s 714ms/step - loss: 0.0114 - accuracy: 0.9990 - val_loss: 23.1536 - val_accuracy: 0.9475\n",
      "Epoch 307/512\n",
      "21/21 [==============================] - 15s 717ms/step - loss: 0.0106 - accuracy: 0.9987 - val_loss: 23.1248 - val_accuracy: 0.9445\n",
      "Epoch 308/512\n",
      "21/21 [==============================] - 15s 716ms/step - loss: 0.0114 - accuracy: 0.9989 - val_loss: 23.1244 - val_accuracy: 0.9454\n",
      "Epoch 309/512\n",
      "21/21 [==============================] - 16s 742ms/step - loss: 0.0126 - accuracy: 0.9987 - val_loss: 23.1414 - val_accuracy: 0.9470\n",
      "Epoch 310/512\n",
      "21/21 [==============================] - 16s 745ms/step - loss: 0.0132 - accuracy: 0.9988 - val_loss: 23.0930 - val_accuracy: 0.9464\n",
      "Epoch 311/512\n",
      "21/21 [==============================] - 15s 716ms/step - loss: 0.0125 - accuracy: 0.9989 - val_loss: 23.0865 - val_accuracy: 0.9479\n",
      "Epoch 312/512\n",
      "21/21 [==============================] - 15s 717ms/step - loss: 0.0108 - accuracy: 0.9989 - val_loss: 23.0591 - val_accuracy: 0.9483\n",
      "Epoch 313/512\n",
      "21/21 [==============================] - 15s 716ms/step - loss: 0.0103 - accuracy: 0.9990 - val_loss: 23.0320 - val_accuracy: 0.9478\n",
      "Epoch 314/512\n",
      "21/21 [==============================] - 15s 717ms/step - loss: 0.0105 - accuracy: 0.9988 - val_loss: 23.0232 - val_accuracy: 0.9466\n",
      "Epoch 315/512\n",
      "21/21 [==============================] - 15s 718ms/step - loss: 0.0121 - accuracy: 0.9989 - val_loss: 22.9515 - val_accuracy: 0.9456\n",
      "Epoch 316/512\n",
      "21/21 [==============================] - 15s 717ms/step - loss: 0.0110 - accuracy: 0.9989 - val_loss: 23.0084 - val_accuracy: 0.9432\n",
      "Epoch 317/512\n",
      "21/21 [==============================] - 15s 718ms/step - loss: 0.0105 - accuracy: 0.9989 - val_loss: 22.9822 - val_accuracy: 0.9391\n",
      "Epoch 318/512\n",
      "21/21 [==============================] - 15s 717ms/step - loss: 0.0116 - accuracy: 0.9989 - val_loss: 22.9097 - val_accuracy: 0.9375\n",
      "Epoch 319/512\n",
      "21/21 [==============================] - 15s 717ms/step - loss: 0.0106 - accuracy: 0.9986 - val_loss: 22.9600 - val_accuracy: 0.9404\n",
      "Epoch 320/512\n",
      "21/21 [==============================] - 15s 717ms/step - loss: 0.0140 - accuracy: 0.9986 - val_loss: 22.9102 - val_accuracy: 0.9423\n",
      "Epoch 321/512\n",
      "21/21 [==============================] - 15s 716ms/step - loss: 0.0120 - accuracy: 0.9989 - val_loss: 22.9152 - val_accuracy: 0.9398\n",
      "Epoch 322/512\n",
      "21/21 [==============================] - 15s 716ms/step - loss: 0.0123 - accuracy: 0.9984 - val_loss: 22.9195 - val_accuracy: 0.9390\n",
      "Epoch 323/512\n",
      "21/21 [==============================] - 15s 717ms/step - loss: 0.0142 - accuracy: 0.9986 - val_loss: 22.8918 - val_accuracy: 0.9392\n",
      "Epoch 324/512\n",
      "21/21 [==============================] - 15s 717ms/step - loss: 0.0122 - accuracy: 0.9989 - val_loss: 22.8313 - val_accuracy: 0.9411\n",
      "Epoch 325/512\n",
      "21/21 [==============================] - 15s 716ms/step - loss: 0.0102 - accuracy: 0.9991 - val_loss: 22.8016 - val_accuracy: 0.9426\n",
      "Epoch 326/512\n",
      "21/21 [==============================] - 15s 729ms/step - loss: 0.0120 - accuracy: 0.9986 - val_loss: 22.8236 - val_accuracy: 0.9453\n",
      "Epoch 327/512\n",
      "21/21 [==============================] - 15s 717ms/step - loss: 0.0161 - accuracy: 0.9983 - val_loss: 22.7550 - val_accuracy: 0.9374\n",
      "Epoch 328/512\n",
      "21/21 [==============================] - 15s 716ms/step - loss: 0.0116 - accuracy: 0.9990 - val_loss: 22.7651 - val_accuracy: 0.9454\n",
      "Epoch 329/512\n",
      "21/21 [==============================] - 15s 717ms/step - loss: 0.0096 - accuracy: 0.9989 - val_loss: 22.7242 - val_accuracy: 0.9466\n",
      "Epoch 330/512\n",
      "21/21 [==============================] - 15s 715ms/step - loss: 0.0114 - accuracy: 0.9988 - val_loss: 22.7008 - val_accuracy: 0.9472\n",
      "Epoch 331/512\n",
      "21/21 [==============================] - 16s 744ms/step - loss: 0.0104 - accuracy: 0.9988 - val_loss: 22.6968 - val_accuracy: 0.9434\n",
      "Epoch 332/512\n",
      "21/21 [==============================] - 16s 743ms/step - loss: 0.0104 - accuracy: 0.9989 - val_loss: 22.7084 - val_accuracy: 0.9449\n",
      "Epoch 333/512\n",
      "21/21 [==============================] - 15s 716ms/step - loss: 0.0108 - accuracy: 0.9988 - val_loss: 22.6968 - val_accuracy: 0.9415\n",
      "Epoch 334/512\n",
      "21/21 [==============================] - 15s 718ms/step - loss: 0.0110 - accuracy: 0.9990 - val_loss: 22.6712 - val_accuracy: 0.9414\n",
      "Epoch 335/512\n",
      "21/21 [==============================] - 15s 716ms/step - loss: 0.0100 - accuracy: 0.9989 - val_loss: 22.6054 - val_accuracy: 0.9391\n",
      "Epoch 336/512\n",
      "21/21 [==============================] - 15s 717ms/step - loss: 0.0109 - accuracy: 0.9990 - val_loss: 22.6512 - val_accuracy: 0.9375\n"
     ]
    },
    {
     "name": "stdout",
     "output_type": "stream",
     "text": [
      "Epoch 337/512\n",
      "21/21 [==============================] - 15s 717ms/step - loss: 0.0103 - accuracy: 0.9990 - val_loss: 22.5807 - val_accuracy: 0.9388\n",
      "Epoch 338/512\n",
      "21/21 [==============================] - 15s 717ms/step - loss: 0.0093 - accuracy: 0.9991 - val_loss: 22.5938 - val_accuracy: 0.9368\n",
      "Epoch 339/512\n",
      "21/21 [==============================] - 15s 717ms/step - loss: 0.0100 - accuracy: 0.9989 - val_loss: 22.5594 - val_accuracy: 0.9380\n",
      "Epoch 340/512\n",
      "21/21 [==============================] - 15s 718ms/step - loss: 0.0099 - accuracy: 0.9990 - val_loss: 22.6030 - val_accuracy: 0.9323\n",
      "Epoch 341/512\n",
      "21/21 [==============================] - 15s 716ms/step - loss: 0.0080 - accuracy: 0.9989 - val_loss: 22.5380 - val_accuracy: 0.9421\n",
      "Epoch 342/512\n",
      "21/21 [==============================] - 15s 719ms/step - loss: 0.0102 - accuracy: 0.9988 - val_loss: 22.4979 - val_accuracy: 0.9300\n",
      "Epoch 343/512\n",
      "21/21 [==============================] - 15s 718ms/step - loss: 0.0094 - accuracy: 0.9990 - val_loss: 22.4321 - val_accuracy: 0.9374\n",
      "Epoch 344/512\n",
      "21/21 [==============================] - 15s 717ms/step - loss: 0.0099 - accuracy: 0.9989 - val_loss: 22.4891 - val_accuracy: 0.9399\n",
      "Epoch 345/512\n",
      "21/21 [==============================] - 15s 718ms/step - loss: 0.0092 - accuracy: 0.9991 - val_loss: 22.4654 - val_accuracy: 0.9399\n",
      "Epoch 346/512\n",
      "21/21 [==============================] - 15s 716ms/step - loss: 0.0082 - accuracy: 0.9990 - val_loss: 22.4697 - val_accuracy: 0.9419\n",
      "Epoch 347/512\n",
      "21/21 [==============================] - 15s 717ms/step - loss: 0.0078 - accuracy: 0.9991 - val_loss: 22.4593 - val_accuracy: 0.9424\n",
      "Epoch 348/512\n",
      "21/21 [==============================] - 15s 715ms/step - loss: 0.0085 - accuracy: 0.9990 - val_loss: 22.4002 - val_accuracy: 0.9388\n",
      "Epoch 349/512\n",
      "21/21 [==============================] - 15s 718ms/step - loss: 0.0100 - accuracy: 0.9989 - val_loss: 22.4233 - val_accuracy: 0.9449\n",
      "Epoch 350/512\n",
      "21/21 [==============================] - 15s 716ms/step - loss: 0.0090 - accuracy: 0.9991 - val_loss: 22.4098 - val_accuracy: 0.9417\n",
      "Epoch 351/512\n",
      "21/21 [==============================] - 15s 717ms/step - loss: 0.0090 - accuracy: 0.9991 - val_loss: 22.3882 - val_accuracy: 0.9356\n",
      "Epoch 352/512\n",
      "21/21 [==============================] - 15s 716ms/step - loss: 0.0084 - accuracy: 0.9991 - val_loss: 22.3723 - val_accuracy: 0.9341\n",
      "Epoch 353/512\n",
      "21/21 [==============================] - 16s 744ms/step - loss: 0.0071 - accuracy: 0.9991 - val_loss: 22.3657 - val_accuracy: 0.9321\n",
      "Epoch 354/512\n",
      "21/21 [==============================] - 16s 745ms/step - loss: 0.0086 - accuracy: 0.9990 - val_loss: 22.3268 - val_accuracy: 0.9339\n",
      "Epoch 355/512\n",
      "21/21 [==============================] - 15s 716ms/step - loss: 0.0081 - accuracy: 0.9991 - val_loss: 22.3344 - val_accuracy: 0.9329\n",
      "Epoch 356/512\n",
      "21/21 [==============================] - 15s 717ms/step - loss: 0.0083 - accuracy: 0.9991 - val_loss: 22.3323 - val_accuracy: 0.9343\n",
      "Epoch 357/512\n",
      "21/21 [==============================] - 15s 717ms/step - loss: 0.0102 - accuracy: 0.9987 - val_loss: 22.2778 - val_accuracy: 0.9337\n",
      "Epoch 358/512\n",
      "21/21 [==============================] - 15s 717ms/step - loss: 0.0096 - accuracy: 0.9990 - val_loss: 22.3451 - val_accuracy: 0.9345\n",
      "Epoch 359/512\n",
      "21/21 [==============================] - 15s 716ms/step - loss: 0.0084 - accuracy: 0.9990 - val_loss: 22.2798 - val_accuracy: 0.9345\n",
      "Epoch 360/512\n",
      "21/21 [==============================] - 15s 716ms/step - loss: 0.0082 - accuracy: 0.9991 - val_loss: 22.2743 - val_accuracy: 0.9344\n",
      "Epoch 361/512\n",
      "21/21 [==============================] - 15s 716ms/step - loss: 0.0087 - accuracy: 0.9991 - val_loss: 22.2264 - val_accuracy: 0.9358\n",
      "Epoch 362/512\n",
      "21/21 [==============================] - 15s 717ms/step - loss: 0.0091 - accuracy: 0.9990 - val_loss: 22.2342 - val_accuracy: 0.9347\n",
      "Epoch 363/512\n",
      "21/21 [==============================] - 15s 717ms/step - loss: 0.0085 - accuracy: 0.9990 - val_loss: 22.2278 - val_accuracy: 0.9346\n",
      "Epoch 364/512\n",
      "21/21 [==============================] - 15s 717ms/step - loss: 0.0083 - accuracy: 0.9990 - val_loss: 22.2358 - val_accuracy: 0.9339\n",
      "Epoch 365/512\n",
      "21/21 [==============================] - 15s 718ms/step - loss: 0.0072 - accuracy: 0.9991 - val_loss: 22.2303 - val_accuracy: 0.9329\n",
      "Epoch 366/512\n",
      "21/21 [==============================] - 15s 717ms/step - loss: 0.0088 - accuracy: 0.9989 - val_loss: 22.1678 - val_accuracy: 0.9351\n",
      "Epoch 367/512\n",
      "21/21 [==============================] - 15s 717ms/step - loss: 0.0091 - accuracy: 0.9991 - val_loss: 22.1216 - val_accuracy: 0.9404\n",
      "Epoch 368/512\n",
      "21/21 [==============================] - 15s 716ms/step - loss: 0.0119 - accuracy: 0.9986 - val_loss: 22.1585 - val_accuracy: 0.9303\n",
      "Epoch 369/512\n",
      "21/21 [==============================] - 15s 718ms/step - loss: 0.0132 - accuracy: 0.9986 - val_loss: 22.1542 - val_accuracy: 0.9406\n",
      "Epoch 370/512\n",
      "21/21 [==============================] - 15s 716ms/step - loss: 0.0100 - accuracy: 0.9989 - val_loss: 22.1240 - val_accuracy: 0.9322\n",
      "Epoch 371/512\n",
      "21/21 [==============================] - 15s 729ms/step - loss: 0.0094 - accuracy: 0.9990 - val_loss: 22.0949 - val_accuracy: 0.9377\n",
      "Epoch 372/512\n",
      "21/21 [==============================] - 15s 716ms/step - loss: 0.0088 - accuracy: 0.9988 - val_loss: 22.0386 - val_accuracy: 0.9345\n",
      "Epoch 373/512\n",
      "21/21 [==============================] - 15s 715ms/step - loss: 0.0104 - accuracy: 0.9990 - val_loss: 22.0537 - val_accuracy: 0.9327\n",
      "Epoch 374/512\n",
      "21/21 [==============================] - 15s 718ms/step - loss: 0.0093 - accuracy: 0.9991 - val_loss: 22.0486 - val_accuracy: 0.9341\n",
      "Epoch 375/512\n",
      "21/21 [==============================] - 16s 745ms/step - loss: 0.0075 - accuracy: 0.9992 - val_loss: 22.0326 - val_accuracy: 0.9332\n",
      "Epoch 376/512\n",
      "21/21 [==============================] - 16s 742ms/step - loss: 0.0085 - accuracy: 0.9991 - val_loss: 22.0149 - val_accuracy: 0.9329\n",
      "Epoch 377/512\n",
      "21/21 [==============================] - 15s 717ms/step - loss: 0.0084 - accuracy: 0.9991 - val_loss: 21.9888 - val_accuracy: 0.9335\n",
      "Epoch 378/512\n",
      "21/21 [==============================] - 15s 717ms/step - loss: 0.0081 - accuracy: 0.9991 - val_loss: 21.9632 - val_accuracy: 0.9331\n",
      "Epoch 379/512\n",
      "21/21 [==============================] - 15s 716ms/step - loss: 0.0113 - accuracy: 0.9986 - val_loss: 21.9836 - val_accuracy: 0.9351\n",
      "Epoch 380/512\n",
      "21/21 [==============================] - 15s 716ms/step - loss: 0.0082 - accuracy: 0.9991 - val_loss: 21.9676 - val_accuracy: 0.9333\n",
      "Epoch 381/512\n",
      "21/21 [==============================] - 15s 716ms/step - loss: 0.0097 - accuracy: 0.9988 - val_loss: 21.9513 - val_accuracy: 0.9361\n",
      "Epoch 382/512\n",
      "21/21 [==============================] - 15s 715ms/step - loss: 0.0107 - accuracy: 0.9989 - val_loss: 21.9414 - val_accuracy: 0.9357\n",
      "Epoch 383/512\n",
      "21/21 [==============================] - 15s 717ms/step - loss: 0.0094 - accuracy: 0.9991 - val_loss: 21.8807 - val_accuracy: 0.9362\n",
      "Epoch 384/512\n",
      "21/21 [==============================] - 15s 717ms/step - loss: 0.0104 - accuracy: 0.9987 - val_loss: 21.8944 - val_accuracy: 0.9339\n",
      "Epoch 385/512\n",
      "21/21 [==============================] - 15s 717ms/step - loss: 0.0100 - accuracy: 0.9988 - val_loss: 21.8271 - val_accuracy: 0.9343\n",
      "Epoch 386/512\n",
      "21/21 [==============================] - 15s 717ms/step - loss: 0.0129 - accuracy: 0.9987 - val_loss: 21.8954 - val_accuracy: 0.9276\n",
      "Epoch 387/512\n",
      "21/21 [==============================] - 15s 717ms/step - loss: 0.0129 - accuracy: 0.9988 - val_loss: 21.7950 - val_accuracy: 0.9353\n",
      "Epoch 388/512\n",
      "21/21 [==============================] - 15s 716ms/step - loss: 0.0104 - accuracy: 0.9987 - val_loss: 21.7534 - val_accuracy: 0.9353\n",
      "Epoch 389/512\n",
      "21/21 [==============================] - 15s 717ms/step - loss: 0.0087 - accuracy: 0.9990 - val_loss: 21.7822 - val_accuracy: 0.9307\n",
      "Epoch 390/512\n",
      "21/21 [==============================] - 15s 717ms/step - loss: 0.0098 - accuracy: 0.9990 - val_loss: 21.7357 - val_accuracy: 0.9305\n",
      "Epoch 391/512\n",
      "21/21 [==============================] - 15s 717ms/step - loss: 0.0085 - accuracy: 0.9990 - val_loss: 21.7279 - val_accuracy: 0.9284\n",
      "Epoch 392/512\n",
      "21/21 [==============================] - 15s 719ms/step - loss: 0.0087 - accuracy: 0.9990 - val_loss: 21.7102 - val_accuracy: 0.9319\n"
     ]
    },
    {
     "name": "stdout",
     "output_type": "stream",
     "text": [
      "Epoch 393/512\n",
      "21/21 [==============================] - 15s 718ms/step - loss: 0.0085 - accuracy: 0.9990 - val_loss: 21.7358 - val_accuracy: 0.9343\n",
      "Epoch 394/512\n",
      "21/21 [==============================] - 15s 717ms/step - loss: 0.0079 - accuracy: 0.9991 - val_loss: 21.7268 - val_accuracy: 0.9370\n",
      "Epoch 395/512\n",
      "21/21 [==============================] - 15s 716ms/step - loss: 0.0083 - accuracy: 0.9991 - val_loss: 21.7090 - val_accuracy: 0.9352\n",
      "Epoch 396/512\n",
      "21/21 [==============================] - 15s 716ms/step - loss: 0.0074 - accuracy: 0.9991 - val_loss: 21.6565 - val_accuracy: 0.9359\n",
      "Epoch 397/512\n",
      "21/21 [==============================] - 16s 744ms/step - loss: 0.0076 - accuracy: 0.9990 - val_loss: 21.6551 - val_accuracy: 0.9348\n",
      "Epoch 398/512\n",
      "21/21 [==============================] - 16s 742ms/step - loss: 0.0070 - accuracy: 0.9991 - val_loss: 21.6496 - val_accuracy: 0.9341\n",
      "Epoch 399/512\n",
      "21/21 [==============================] - 15s 716ms/step - loss: 0.0085 - accuracy: 0.9990 - val_loss: 21.6565 - val_accuracy: 0.9335\n",
      "Epoch 400/512\n",
      "21/21 [==============================] - 15s 717ms/step - loss: 0.0089 - accuracy: 0.9989 - val_loss: 21.5567 - val_accuracy: 0.9323\n",
      "Epoch 401/512\n",
      "21/21 [==============================] - 15s 717ms/step - loss: 0.0093 - accuracy: 0.9990 - val_loss: 21.6046 - val_accuracy: 0.9334\n",
      "Epoch 402/512\n",
      "21/21 [==============================] - 15s 716ms/step - loss: 0.0089 - accuracy: 0.9990 - val_loss: 21.5746 - val_accuracy: 0.9337\n",
      "Epoch 403/512\n",
      "21/21 [==============================] - 15s 717ms/step - loss: 0.0073 - accuracy: 0.9991 - val_loss: 21.5827 - val_accuracy: 0.9331\n",
      "Epoch 404/512\n",
      "21/21 [==============================] - 15s 717ms/step - loss: 0.0074 - accuracy: 0.9991 - val_loss: 21.5389 - val_accuracy: 0.9305\n",
      "Epoch 405/512\n",
      "21/21 [==============================] - 15s 718ms/step - loss: 0.0088 - accuracy: 0.9989 - val_loss: 21.5845 - val_accuracy: 0.9332\n",
      "Epoch 406/512\n",
      "21/21 [==============================] - 15s 718ms/step - loss: 0.0093 - accuracy: 0.9989 - val_loss: 21.5326 - val_accuracy: 0.9328\n",
      "Epoch 407/512\n",
      "21/21 [==============================] - 15s 716ms/step - loss: 0.0090 - accuracy: 0.9991 - val_loss: 21.5327 - val_accuracy: 0.9319\n",
      "Epoch 408/512\n",
      "21/21 [==============================] - 15s 718ms/step - loss: 0.0080 - accuracy: 0.9991 - val_loss: 21.4896 - val_accuracy: 0.9338\n",
      "Epoch 409/512\n",
      "21/21 [==============================] - 15s 718ms/step - loss: 0.0072 - accuracy: 0.9992 - val_loss: 21.4657 - val_accuracy: 0.9327\n",
      "Epoch 410/512\n",
      "21/21 [==============================] - 15s 716ms/step - loss: 0.0071 - accuracy: 0.9992 - val_loss: 21.4667 - val_accuracy: 0.9318\n",
      "Epoch 411/512\n",
      "21/21 [==============================] - 15s 717ms/step - loss: 0.0077 - accuracy: 0.9991 - val_loss: 21.4315 - val_accuracy: 0.9310\n",
      "Epoch 412/512\n",
      "21/21 [==============================] - 15s 717ms/step - loss: 0.0078 - accuracy: 0.9990 - val_loss: 21.4711 - val_accuracy: 0.9311\n",
      "Epoch 413/512\n",
      "21/21 [==============================] - 15s 717ms/step - loss: 0.0070 - accuracy: 0.9992 - val_loss: 21.3639 - val_accuracy: 0.9327\n",
      "Epoch 414/512\n",
      "21/21 [==============================] - 15s 717ms/step - loss: 0.0083 - accuracy: 0.9990 - val_loss: 21.4013 - val_accuracy: 0.9331\n",
      "Epoch 415/512\n",
      "21/21 [==============================] - 15s 716ms/step - loss: 0.0095 - accuracy: 0.9988 - val_loss: 21.3750 - val_accuracy: 0.9339\n",
      "Epoch 416/512\n",
      "21/21 [==============================] - 15s 716ms/step - loss: 0.0090 - accuracy: 0.9989 - val_loss: 21.3788 - val_accuracy: 0.9324\n",
      "Epoch 417/512\n",
      "21/21 [==============================] - 15s 717ms/step - loss: 0.0089 - accuracy: 0.9991 - val_loss: 21.3876 - val_accuracy: 0.9328\n",
      "Epoch 418/512\n",
      "21/21 [==============================] - 15s 718ms/step - loss: 0.0089 - accuracy: 0.9990 - val_loss: 21.3958 - val_accuracy: 0.9308\n",
      "Epoch 419/512\n",
      "21/21 [==============================] - 16s 744ms/step - loss: 0.0076 - accuracy: 0.9991 - val_loss: 21.4050 - val_accuracy: 0.9318\n",
      "Epoch 420/512\n",
      "21/21 [==============================] - 16s 744ms/step - loss: 0.0077 - accuracy: 0.9991 - val_loss: 21.3596 - val_accuracy: 0.9339\n",
      "Epoch 421/512\n",
      "21/21 [==============================] - 15s 719ms/step - loss: 0.0069 - accuracy: 0.9992 - val_loss: 21.2976 - val_accuracy: 0.9337\n",
      "Epoch 422/512\n",
      "21/21 [==============================] - 15s 719ms/step - loss: 0.0087 - accuracy: 0.9989 - val_loss: 21.2769 - val_accuracy: 0.9315\n",
      "Epoch 423/512\n",
      "21/21 [==============================] - 15s 716ms/step - loss: 0.0086 - accuracy: 0.9989 - val_loss: 21.2381 - val_accuracy: 0.9298\n",
      "Epoch 424/512\n",
      "21/21 [==============================] - 15s 717ms/step - loss: 0.0082 - accuracy: 0.9990 - val_loss: 21.3072 - val_accuracy: 0.9276\n",
      "Epoch 425/512\n",
      "21/21 [==============================] - 15s 717ms/step - loss: 0.0091 - accuracy: 0.9989 - val_loss: 21.2494 - val_accuracy: 0.9231\n",
      "Epoch 426/512\n",
      "21/21 [==============================] - 15s 717ms/step - loss: 0.0088 - accuracy: 0.9986 - val_loss: 21.2017 - val_accuracy: 0.9281\n",
      "Epoch 427/512\n",
      "21/21 [==============================] - 15s 718ms/step - loss: 0.0082 - accuracy: 0.9990 - val_loss: 21.1713 - val_accuracy: 0.9291\n",
      "Epoch 428/512\n",
      "21/21 [==============================] - 15s 716ms/step - loss: 0.0087 - accuracy: 0.9990 - val_loss: 21.2195 - val_accuracy: 0.9297\n",
      "Epoch 429/512\n",
      "21/21 [==============================] - 15s 717ms/step - loss: 0.0082 - accuracy: 0.9990 - val_loss: 21.1680 - val_accuracy: 0.9298\n",
      "Epoch 430/512\n",
      "21/21 [==============================] - 15s 718ms/step - loss: 0.0064 - accuracy: 0.9991 - val_loss: 21.0992 - val_accuracy: 0.9309\n",
      "Epoch 431/512\n",
      "21/21 [==============================] - 15s 716ms/step - loss: 0.0086 - accuracy: 0.9989 - val_loss: 21.1760 - val_accuracy: 0.9302\n",
      "Epoch 432/512\n",
      "21/21 [==============================] - 15s 717ms/step - loss: 0.0080 - accuracy: 0.9991 - val_loss: 21.1043 - val_accuracy: 0.9276\n",
      "Epoch 433/512\n",
      "21/21 [==============================] - 15s 717ms/step - loss: 0.0086 - accuracy: 0.9991 - val_loss: 21.0888 - val_accuracy: 0.9265\n",
      "Epoch 434/512\n",
      "21/21 [==============================] - 15s 718ms/step - loss: 0.0069 - accuracy: 0.9991 - val_loss: 21.1040 - val_accuracy: 0.9270\n",
      "Epoch 435/512\n",
      "21/21 [==============================] - 15s 717ms/step - loss: 0.0070 - accuracy: 0.9991 - val_loss: 21.0798 - val_accuracy: 0.9288\n",
      "Epoch 436/512\n",
      "21/21 [==============================] - 15s 718ms/step - loss: 0.0071 - accuracy: 0.9992 - val_loss: 21.0727 - val_accuracy: 0.9252\n",
      "Epoch 437/512\n",
      "21/21 [==============================] - 15s 715ms/step - loss: 0.0074 - accuracy: 0.9990 - val_loss: 21.0060 - val_accuracy: 0.9259\n",
      "Epoch 438/512\n",
      "21/21 [==============================] - 15s 728ms/step - loss: 0.0076 - accuracy: 0.9990 - val_loss: 21.0153 - val_accuracy: 0.9267\n",
      "Epoch 439/512\n",
      "21/21 [==============================] - 15s 718ms/step - loss: 0.0072 - accuracy: 0.9990 - val_loss: 21.0919 - val_accuracy: 0.9255\n",
      "Epoch 440/512\n",
      "21/21 [==============================] - 15s 717ms/step - loss: 0.0077 - accuracy: 0.9990 - val_loss: 21.0153 - val_accuracy: 0.9245\n",
      "Epoch 441/512\n",
      "21/21 [==============================] - 16s 744ms/step - loss: 0.0077 - accuracy: 0.9990 - val_loss: 20.9813 - val_accuracy: 0.9252\n",
      "Epoch 442/512\n",
      "21/21 [==============================] - 16s 740ms/step - loss: 0.0074 - accuracy: 0.9991 - val_loss: 20.9956 - val_accuracy: 0.9236\n",
      "Epoch 443/512\n",
      "21/21 [==============================] - 15s 718ms/step - loss: 0.0078 - accuracy: 0.9990 - val_loss: 20.9368 - val_accuracy: 0.9234\n",
      "Epoch 444/512\n",
      "21/21 [==============================] - 15s 717ms/step - loss: 0.0080 - accuracy: 0.9989 - val_loss: 20.9528 - val_accuracy: 0.9220\n",
      "Epoch 445/512\n",
      "21/21 [==============================] - 15s 716ms/step - loss: 0.0078 - accuracy: 0.9991 - val_loss: 20.9685 - val_accuracy: 0.9225\n",
      "Epoch 446/512\n",
      "21/21 [==============================] - 15s 718ms/step - loss: 0.0076 - accuracy: 0.9991 - val_loss: 20.9284 - val_accuracy: 0.9260\n",
      "Epoch 447/512\n",
      "21/21 [==============================] - 15s 716ms/step - loss: 0.0071 - accuracy: 0.9991 - val_loss: 20.8734 - val_accuracy: 0.9230\n",
      "Epoch 448/512\n",
      "21/21 [==============================] - 15s 717ms/step - loss: 0.0067 - accuracy: 0.9991 - val_loss: 20.8820 - val_accuracy: 0.9259\n"
     ]
    },
    {
     "name": "stdout",
     "output_type": "stream",
     "text": [
      "Epoch 449/512\n",
      "21/21 [==============================] - 15s 718ms/step - loss: 0.0072 - accuracy: 0.9992 - val_loss: 20.9224 - val_accuracy: 0.9240\n",
      "Epoch 450/512\n",
      "21/21 [==============================] - 15s 716ms/step - loss: 0.0070 - accuracy: 0.9991 - val_loss: 20.8883 - val_accuracy: 0.9241\n",
      "Epoch 451/512\n",
      "21/21 [==============================] - 15s 717ms/step - loss: 0.0106 - accuracy: 0.9987 - val_loss: 20.8614 - val_accuracy: 0.9240\n",
      "Epoch 452/512\n",
      "21/21 [==============================] - 15s 716ms/step - loss: 0.0110 - accuracy: 0.9987 - val_loss: 20.8119 - val_accuracy: 0.9259\n",
      "Epoch 453/512\n",
      "21/21 [==============================] - 15s 718ms/step - loss: 0.0090 - accuracy: 0.9990 - val_loss: 20.8274 - val_accuracy: 0.9271\n",
      "Epoch 454/512\n",
      "21/21 [==============================] - 15s 716ms/step - loss: 0.0081 - accuracy: 0.9990 - val_loss: 20.7709 - val_accuracy: 0.9248\n",
      "Epoch 455/512\n",
      "21/21 [==============================] - 15s 718ms/step - loss: 0.0080 - accuracy: 0.9990 - val_loss: 20.7974 - val_accuracy: 0.9236\n",
      "Epoch 456/512\n",
      "21/21 [==============================] - 15s 717ms/step - loss: 0.0077 - accuracy: 0.9990 - val_loss: 20.7671 - val_accuracy: 0.9217\n",
      "Epoch 457/512\n",
      "21/21 [==============================] - 15s 718ms/step - loss: 0.0083 - accuracy: 0.9987 - val_loss: 20.7626 - val_accuracy: 0.9274\n",
      "Epoch 458/512\n",
      "21/21 [==============================] - 15s 717ms/step - loss: 0.0085 - accuracy: 0.9991 - val_loss: 20.6880 - val_accuracy: 0.9218\n",
      "Epoch 459/512\n",
      "21/21 [==============================] - 15s 716ms/step - loss: 0.0078 - accuracy: 0.9990 - val_loss: 20.6585 - val_accuracy: 0.9299\n",
      "Epoch 460/512\n",
      "21/21 [==============================] - 15s 718ms/step - loss: 0.0093 - accuracy: 0.9989 - val_loss: 20.6667 - val_accuracy: 0.9212\n",
      "Epoch 461/512\n",
      "21/21 [==============================] - 15s 729ms/step - loss: 0.0103 - accuracy: 0.9987 - val_loss: 20.6116 - val_accuracy: 0.9270\n",
      "Epoch 462/512\n",
      "21/21 [==============================] - 15s 716ms/step - loss: 0.0090 - accuracy: 0.9990 - val_loss: 20.6687 - val_accuracy: 0.9236\n",
      "Epoch 463/512\n",
      "21/21 [==============================] - 16s 744ms/step - loss: 0.0075 - accuracy: 0.9990 - val_loss: 20.6069 - val_accuracy: 0.9213\n",
      "Epoch 464/512\n",
      "21/21 [==============================] - 16s 744ms/step - loss: 0.0077 - accuracy: 0.9990 - val_loss: 20.6176 - val_accuracy: 0.9233\n",
      "Epoch 465/512\n",
      "21/21 [==============================] - 15s 717ms/step - loss: 0.0082 - accuracy: 0.9990 - val_loss: 20.5739 - val_accuracy: 0.9236\n",
      "Epoch 466/512\n",
      "21/21 [==============================] - 15s 717ms/step - loss: 0.0076 - accuracy: 0.9990 - val_loss: 20.6032 - val_accuracy: 0.9248\n",
      "Epoch 467/512\n",
      "21/21 [==============================] - 15s 717ms/step - loss: 0.0078 - accuracy: 0.9990 - val_loss: 20.5837 - val_accuracy: 0.9247\n",
      "Epoch 468/512\n",
      "21/21 [==============================] - 15s 717ms/step - loss: 0.0076 - accuracy: 0.9990 - val_loss: 20.5441 - val_accuracy: 0.9234\n",
      "Epoch 469/512\n",
      "21/21 [==============================] - 15s 716ms/step - loss: 0.0071 - accuracy: 0.9990 - val_loss: 20.5429 - val_accuracy: 0.9223\n",
      "Epoch 470/512\n",
      "21/21 [==============================] - 15s 718ms/step - loss: 0.0104 - accuracy: 0.9984 - val_loss: 20.5764 - val_accuracy: 0.9234\n",
      "Epoch 471/512\n",
      "21/21 [==============================] - 15s 718ms/step - loss: 0.0094 - accuracy: 0.9989 - val_loss: 20.5429 - val_accuracy: 0.9031\n",
      "Epoch 472/512\n",
      "21/21 [==============================] - 15s 718ms/step - loss: 0.0093 - accuracy: 0.9990 - val_loss: 20.5009 - val_accuracy: 0.9077\n",
      "Epoch 473/512\n",
      "21/21 [==============================] - 15s 719ms/step - loss: 0.0085 - accuracy: 0.9990 - val_loss: 20.5281 - val_accuracy: 0.9114\n",
      "Epoch 474/512\n",
      "21/21 [==============================] - 15s 717ms/step - loss: 0.0080 - accuracy: 0.9990 - val_loss: 20.5143 - val_accuracy: 0.7690\n",
      "Epoch 475/512\n",
      "21/21 [==============================] - 15s 718ms/step - loss: 0.0086 - accuracy: 0.9989 - val_loss: 20.5194 - val_accuracy: 0.7408\n",
      "Epoch 476/512\n",
      "21/21 [==============================] - 15s 717ms/step - loss: 0.0075 - accuracy: 0.9989 - val_loss: 20.4672 - val_accuracy: 0.8848\n",
      "Epoch 477/512\n",
      "21/21 [==============================] - 15s 716ms/step - loss: 0.0086 - accuracy: 0.9990 - val_loss: 20.4240 - val_accuracy: 0.8821\n",
      "Epoch 478/512\n",
      "21/21 [==============================] - 15s 717ms/step - loss: 0.0080 - accuracy: 0.9990 - val_loss: 20.4345 - val_accuracy: 0.8484\n",
      "Epoch 479/512\n",
      "21/21 [==============================] - 15s 717ms/step - loss: 0.0071 - accuracy: 0.9991 - val_loss: 20.4287 - val_accuracy: 0.7942\n",
      "Epoch 480/512\n",
      "21/21 [==============================] - 15s 717ms/step - loss: 0.0079 - accuracy: 0.9990 - val_loss: 20.4117 - val_accuracy: 0.8482\n",
      "Epoch 481/512\n",
      "21/21 [==============================] - 15s 718ms/step - loss: 0.0072 - accuracy: 0.9991 - val_loss: 20.4328 - val_accuracy: 0.8497\n",
      "Epoch 482/512\n",
      "21/21 [==============================] - 15s 717ms/step - loss: 0.0070 - accuracy: 0.9992 - val_loss: 20.3944 - val_accuracy: 0.8833\n",
      "Epoch 483/512\n",
      "21/21 [==============================] - 15s 717ms/step - loss: 0.0073 - accuracy: 0.9991 - val_loss: 20.3988 - val_accuracy: 0.8483\n",
      "Epoch 484/512\n",
      "21/21 [==============================] - 15s 720ms/step - loss: 0.0069 - accuracy: 0.9991 - val_loss: 20.3163 - val_accuracy: 0.8873\n",
      "Epoch 485/512\n",
      "21/21 [==============================] - 16s 747ms/step - loss: 0.0064 - accuracy: 0.9992 - val_loss: 20.3068 - val_accuracy: 0.8497\n",
      "Epoch 486/512\n",
      "21/21 [==============================] - 16s 748ms/step - loss: 0.0065 - accuracy: 0.9992 - val_loss: 20.3046 - val_accuracy: 0.8500\n",
      "Epoch 487/512\n",
      "21/21 [==============================] - 15s 720ms/step - loss: 0.0071 - accuracy: 0.9991 - val_loss: 20.3275 - val_accuracy: 0.7968\n",
      "Epoch 488/512\n",
      "21/21 [==============================] - 15s 719ms/step - loss: 0.0070 - accuracy: 0.9991 - val_loss: 20.2863 - val_accuracy: 0.7945\n",
      "Epoch 489/512\n",
      "21/21 [==============================] - 15s 719ms/step - loss: 0.0075 - accuracy: 0.9991 - val_loss: 20.2799 - val_accuracy: 0.8480\n",
      "Epoch 490/512\n",
      "21/21 [==============================] - 15s 721ms/step - loss: 0.0090 - accuracy: 0.9989 - val_loss: 20.3114 - val_accuracy: 0.7992\n",
      "Epoch 491/512\n",
      "21/21 [==============================] - 15s 721ms/step - loss: 0.0090 - accuracy: 0.9989 - val_loss: 20.2458 - val_accuracy: 0.7928\n",
      "Epoch 492/512\n",
      "21/21 [==============================] - 15s 720ms/step - loss: 0.0088 - accuracy: 0.9989 - val_loss: 20.2410 - val_accuracy: 0.7901\n",
      "Epoch 493/512\n",
      "21/21 [==============================] - 15s 720ms/step - loss: 0.0078 - accuracy: 0.9991 - val_loss: 20.1937 - val_accuracy: 0.7941\n",
      "Epoch 494/512\n",
      "21/21 [==============================] - 15s 719ms/step - loss: 0.0093 - accuracy: 0.9987 - val_loss: 20.1432 - val_accuracy: 0.7911\n",
      "Epoch 495/512\n",
      "21/21 [==============================] - 15s 720ms/step - loss: 0.0080 - accuracy: 0.9990 - val_loss: 20.1811 - val_accuracy: 0.7925\n",
      "Epoch 496/512\n",
      "21/21 [==============================] - 15s 719ms/step - loss: 0.0072 - accuracy: 0.9988 - val_loss: 20.1654 - val_accuracy: 0.7971\n",
      "Epoch 497/512\n",
      "21/21 [==============================] - 15s 720ms/step - loss: 0.0073 - accuracy: 0.9990 - val_loss: 20.1833 - val_accuracy: 0.7317\n",
      "Epoch 498/512\n",
      "21/21 [==============================] - 15s 720ms/step - loss: 0.0076 - accuracy: 0.9990 - val_loss: 20.1212 - val_accuracy: 0.7327\n",
      "Epoch 499/512\n",
      "21/21 [==============================] - 15s 719ms/step - loss: 0.0058 - accuracy: 0.9992 - val_loss: 20.1086 - val_accuracy: 0.6645\n",
      "Epoch 500/512\n",
      "21/21 [==============================] - 15s 719ms/step - loss: 0.0069 - accuracy: 0.9991 - val_loss: 20.1494 - val_accuracy: 0.6658\n",
      "Epoch 501/512\n",
      "21/21 [==============================] - 15s 718ms/step - loss: 0.0066 - accuracy: 0.9991 - val_loss: 20.0804 - val_accuracy: 0.6652\n",
      "Epoch 502/512\n",
      "21/21 [==============================] - 15s 719ms/step - loss: 0.0069 - accuracy: 0.9988 - val_loss: 20.0568 - val_accuracy: 0.7346\n",
      "Epoch 503/512\n",
      "21/21 [==============================] - 15s 719ms/step - loss: 0.0098 - accuracy: 0.9989 - val_loss: 20.0396 - val_accuracy: 0.7311\n",
      "Epoch 504/512\n",
      "21/21 [==============================] - 15s 720ms/step - loss: 0.0078 - accuracy: 0.9991 - val_loss: 20.0246 - val_accuracy: 0.6660\n"
     ]
    },
    {
     "name": "stdout",
     "output_type": "stream",
     "text": [
      "Epoch 505/512\n",
      "21/21 [==============================] - 15s 719ms/step - loss: 0.0080 - accuracy: 0.9990 - val_loss: 19.9741 - val_accuracy: 0.7298\n",
      "Epoch 506/512\n",
      "21/21 [==============================] - 15s 719ms/step - loss: 0.0057 - accuracy: 0.9993 - val_loss: 20.0133 - val_accuracy: 0.6643\n",
      "Epoch 507/512\n",
      "21/21 [==============================] - 16s 746ms/step - loss: 0.0070 - accuracy: 0.9990 - val_loss: 19.9781 - val_accuracy: 0.6630\n",
      "Epoch 508/512\n",
      "21/21 [==============================] - 16s 746ms/step - loss: 0.0072 - accuracy: 0.9990 - val_loss: 19.9853 - val_accuracy: 0.5316\n",
      "Epoch 509/512\n",
      "21/21 [==============================] - 15s 719ms/step - loss: 0.0071 - accuracy: 0.9990 - val_loss: 19.9516 - val_accuracy: 0.4105\n",
      "Epoch 510/512\n",
      "21/21 [==============================] - 15s 720ms/step - loss: 0.0069 - accuracy: 0.9991 - val_loss: 19.9762 - val_accuracy: 0.3287\n",
      "Epoch 511/512\n",
      "21/21 [==============================] - 15s 721ms/step - loss: 0.0063 - accuracy: 0.9992 - val_loss: 19.9677 - val_accuracy: 0.2030\n",
      "Epoch 512/512\n",
      "21/21 [==============================] - 15s 719ms/step - loss: 0.0061 - accuracy: 0.9992 - val_loss: 19.8966 - val_accuracy: 0.2529\n",
      "CPU times: user 1h 34min 23s, sys: 8min 56s, total: 1h 43min 19s\n",
      "Wall time: 2h 14min 27s\n"
     ]
    }
   ],
   "source": [
    "%%time\n",
    "import kashgari\n",
    "from kashgari.tasks.labeling import BiLSTM_CRF_Model\n",
    "from kashgari.embeddings import BertEmbedding\n",
    "kashgari.config.use_cudnn_cell = True\n",
    "bert_embedding = BertEmbedding(embedding_path, \n",
    "                           sequence_length='auto',\n",
    "                           trainable=True,\n",
    "                           task='kashgari.LABELING', \n",
    "                          )\n",
    "model = BiLSTM_CRF_Model(bert_embedding)\n",
    "history = model.fit(train_x,\n",
    "                    train_y,\n",
    "                    valid_x,\n",
    "                    valid_y,\n",
    "                    epochs=epochs,\n",
    "                    batch_size=batch_size,\n",
    "                   )"
   ]
  },
  {
   "cell_type": "code",
   "execution_count": 16,
   "metadata": {},
   "outputs": [
    {
     "name": "stderr",
     "output_type": "stream",
     "text": [
      "2020-12-17 19:25:27,618 [WARNING] kashgari - Sequence length is None, will use the max length of the samples, which is 72\n",
      "2020-12-17 19:25:27,664 [DEBUG] kashgari - predict seq_length: None, input: (2, 6742, 72)\n"
     ]
    },
    {
     "name": "stdout",
     "output_type": "stream",
     "text": [
      "211/211 [==============================] - 19s 89ms/step\n"
     ]
    },
    {
     "name": "stderr",
     "output_type": "stream",
     "text": [
      "2020-12-17 19:25:49,799 [DEBUG] kashgari - predict output: (6742, 72)\n",
      "2020-12-17 19:25:49,799 [DEBUG] kashgari - predict output argmax: [[0 1 1 ... 1 1 1]\n",
      " [0 1 1 ... 1 1 1]\n",
      " [0 1 1 ... 1 1 1]\n",
      " ...\n",
      " [0 1 1 ... 1 1 1]\n",
      " [0 1 1 ... 1 1 1]\n",
      " [0 1 1 ... 1 1 1]]\n"
     ]
    },
    {
     "name": "stdout",
     "output_type": "stream",
     "text": [
      "\n",
      "                precision    recall  f1-score   support\n",
      "\n",
      "          time     0.6709    0.7053    0.6877       526\n",
      "clinical_event     0.9438    0.9545    0.9492        88\n",
      "        family     0.8909    0.9703    0.9289       101\n",
      "      med_exam     0.8539    0.7525    0.8000       101\n",
      "    profession     0.9388    0.9020    0.9200       102\n",
      "     education     0.9902    1.0000    0.9951       101\n",
      "       contact     0.9130    0.7636    0.8317        55\n",
      "      location     0.8814    0.8000    0.8387        65\n",
      "          name     0.7925    0.7925    0.7925        53\n",
      "         money     0.6000    0.7059    0.6486        17\n",
      "            ID     0.5000    0.5000    0.5000         4\n",
      "  organization     0.0000    0.0000    0.0000         1\n",
      "        others     1.0000    0.5000    0.6667         2\n",
      "\n",
      "     micro avg     0.7949    0.8002    0.7975      1216\n",
      "     macro avg     0.7990    0.8002    0.7984      1216\n",
      "\n"
     ]
    },
    {
     "name": "stderr",
     "output_type": "stream",
     "text": [
      "2020-12-17 19:25:58,319 [INFO] kashgari - model saved to /home/Danny/AI-CUP-2020/danny/bert/model/augmentation_bert-chinese_epoch_512_batch_1024\n"
     ]
    },
    {
     "data": {
      "text/plain": [
       "'/home/Danny/AI-CUP-2020/danny/bert/model/augmentation_bert-chinese_epoch_512_batch_1024'"
      ]
     },
     "execution_count": 16,
     "metadata": {},
     "output_type": "execute_result"
    }
   ],
   "source": [
    "model.evaluate(test_x, test_y)\n",
    "model_path = 'model/augmentation_{}_epoch_{}_batch_{}'.format(model_name, epochs, batch_size)\n",
    "model.save(model_path)"
   ]
  },
  {
   "cell_type": "code",
   "execution_count": 17,
   "metadata": {},
   "outputs": [
    {
     "data": {
      "image/png": "[encoded data removed]",
      "text/plain": [
       "<Figure size 432x288 with 1 Axes>"
      ]
     },
     "metadata": {
      "needs_background": "light"
     },
     "output_type": "display_data"
    }
   ],
   "source": [
    "plt.plot(history.history['accuracy'])\n",
    "plt.plot(history.history['val_accuracy'])\n",
    "plt.plot(history.history['loss'])\n",
    "plt.plot(history.history['val_loss'])\n",
    "plt.title('model accuracy')\n",
    "plt.ylabel('accuracy')\n",
    "plt.xlabel('epoch')\n",
    "plt.legend(['accuracy', 'val_accuracy', 'loss', 'val_loss'])\n",
    "plt.show()"
   ]
  },
  {
   "cell_type": "code",
   "execution_count": 18,
   "metadata": {},
   "outputs": [],
   "source": [
    "# 需要儲存article_id, 轉成dataframe\n",
    "def predicting_txt_to_dataframe(path):    \n",
    "    with open(path, 'r') as f:\n",
    "        txt = str(f.read())\n",
    "        txt_list = txt.split('\\n')\n",
    "    row_list = list()\n",
    "    tmp_list = list()\n",
    "    for row in txt_list:\n",
    "        if row == '--------------------':\n",
    "            tmp_list[0] = tmp_list[0].replace('article_id:', '')\n",
    "            tmp_list[0] = int(tmp_list[0])\n",
    "            row_list.append(tmp_list)\n",
    "            tmp_list = list()\n",
    "            continue\n",
    "        if len(row) > 0:\n",
    "            tmp_list.append(row)\n",
    "    df = pd.DataFrame(row_list, columns=['article_id','text'])\n",
    "    return df"
   ]
  },
  {
   "cell_type": "code",
   "execution_count": 19,
   "metadata": {},
   "outputs": [],
   "source": [
    "def predict_NER(text):\n",
    "    x_list = list()    \n",
    "    text_list = re.split('\\uff0c|\\u3002|\\uff1f', text)\n",
    "    for article in text_list:\n",
    "        x_list.append([i for i in article])\n",
    "    y_list_list = model.predict(x_list)\n",
    "    y_list = list()\n",
    "    for sentence in y_list_list:\n",
    "        for word in sentence:\n",
    "            y_list.append(word)\n",
    "        y_list.append('O') # append(，。？)\n",
    "    y_list = y_list[:-1]\n",
    "    return y_list"
   ]
  },
  {
   "cell_type": "code",
   "execution_count": 20,
   "metadata": {},
   "outputs": [],
   "source": [
    "def output_NER(article_id, text, y_list):\n",
    "    output_str = str()\n",
    "    flag = False\n",
    "    for i, j in enumerate(y_list):\n",
    "        if j != 'O':\n",
    "            if j[0] == 'B':\n",
    "                start_position = i\n",
    "                entity_type = j.split('-')[-1]\n",
    "                flag = True\n",
    "        elif j == 'O' and flag == True:\n",
    "            end_position = i\n",
    "            flag = False\n",
    "            entity_text = text[start_position: end_position]\n",
    "            entity = '{}\\t{}\\t{}\\t{}\\t{}\\n'.format(article_id, start_position, end_position, entity_text, entity_type)  \n",
    "            output_str += entity\n",
    "    return output_str"
   ]
  },
  {
   "cell_type": "code",
   "execution_count": 21,
   "metadata": {},
   "outputs": [
    {
     "name": "stderr",
     "output_type": "stream",
     "text": [
      "2020-12-17 19:25:58,747 [DEBUG] kashgari - predict seq_length: None, input: (2, 70, 17)\n"
     ]
    },
    {
     "name": "stdout",
     "output_type": "stream",
     "text": [
      "3/3 [==============================] - 0s 21ms/step\n"
     ]
    },
    {
     "name": "stderr",
     "output_type": "stream",
     "text": [
      "2020-12-17 19:26:01,847 [DEBUG] kashgari - predict output: (70, 17)\n",
      "2020-12-17 19:26:01,848 [DEBUG] kashgari - predict output argmax: [[0 1 1 ... 1 0 1]\n",
      " [0 1 1 ... 1 1 1]\n",
      " [0 1 1 ... 1 1 1]\n",
      " ...\n",
      " [0 1 0 ... 1 1 1]\n",
      " [0 1 1 ... 1 1 1]\n",
      " [0 0 0 ... 0 0 0]]\n",
      "2020-12-17 19:26:01,850 [DEBUG] kashgari - predict seq_length: None, input: (2, 131, 28)\n"
     ]
    },
    {
     "name": "stdout",
     "output_type": "stream",
     "text": [
      "5/5 [==============================] - 0s 34ms/step\n"
     ]
    },
    {
     "name": "stderr",
     "output_type": "stream",
     "text": [
      "2020-12-17 19:26:05,112 [DEBUG] kashgari - predict output: (131, 28)\n",
      "2020-12-17 19:26:05,113 [DEBUG] kashgari - predict output argmax: [[0 1 1 ... 1 1 1]\n",
      " [0 1 1 ... 1 1 1]\n",
      " [0 1 1 ... 1 1 1]\n",
      " ...\n",
      " [0 1 1 ... 1 1 1]\n",
      " [0 1 1 ... 1 1 1]\n",
      " [0 0 0 ... 0 0 0]]\n",
      "2020-12-17 19:26:05,116 [DEBUG] kashgari - predict seq_length: None, input: (2, 198, 47)\n"
     ]
    },
    {
     "name": "stdout",
     "output_type": "stream",
     "text": [
      "7/7 [==============================] - 0s 54ms/step\n"
     ]
    },
    {
     "name": "stderr",
     "output_type": "stream",
     "text": [
      "2020-12-17 19:26:09,031 [DEBUG] kashgari - predict output: (198, 47)\n",
      "2020-12-17 19:26:09,032 [DEBUG] kashgari - predict output argmax: [[0 1 1 ... 1 1 1]\n",
      " [0 1 1 ... 1 1 1]\n",
      " [0 1 1 ... 1 1 1]\n",
      " ...\n",
      " [0 1 1 ... 1 1 1]\n",
      " [0 1 1 ... 1 1 1]\n",
      " [0 1 1 ... 1 1 1]]\n",
      "2020-12-17 19:26:09,034 [DEBUG] kashgari - predict seq_length: None, input: (2, 96, 41)\n"
     ]
    },
    {
     "name": "stdout",
     "output_type": "stream",
     "text": [
      "3/3 [==============================] - 0s 36ms/step\n"
     ]
    },
    {
     "name": "stderr",
     "output_type": "stream",
     "text": [
      "2020-12-17 19:26:11,322 [DEBUG] kashgari - predict output: (96, 41)\n",
      "2020-12-17 19:26:11,323 [DEBUG] kashgari - predict output argmax: [[0 1 1 ... 1 1 1]\n",
      " [0 1 1 ... 1 1 1]\n",
      " [0 1 1 ... 1 1 1]\n",
      " ...\n",
      " [0 1 1 ... 1 1 1]\n",
      " [0 1 1 ... 1 1 1]\n",
      " [0 0 0 ... 0 0 0]]\n",
      "2020-12-17 19:26:11,325 [DEBUG] kashgari - predict seq_length: None, input: (2, 73, 17)\n"
     ]
    },
    {
     "name": "stdout",
     "output_type": "stream",
     "text": [
      "3/3 [==============================] - 0s 21ms/step\n"
     ]
    },
    {
     "name": "stderr",
     "output_type": "stream",
     "text": [
      "2020-12-17 19:26:11,442 [DEBUG] kashgari - predict output: (73, 17)\n",
      "2020-12-17 19:26:11,443 [DEBUG] kashgari - predict output argmax: [[ 0  1  1 ...  1  1  1]\n",
      " [ 0  1 18 ...  1  1  1]\n",
      " [ 0  1  1 ...  1  1  1]\n",
      " ...\n",
      " [ 0 12  6 ...  6  6  6]\n",
      " [ 0  1  0 ...  1  1  1]\n",
      " [ 0  0  0 ...  0  0  0]]\n",
      "2020-12-17 19:26:11,447 [DEBUG] kashgari - predict seq_length: None, input: (2, 266, 23)\n"
     ]
    },
    {
     "name": "stdout",
     "output_type": "stream",
     "text": [
      "9/9 [==============================] - 0s 35ms/step\n"
     ]
    },
    {
     "name": "stderr",
     "output_type": "stream",
     "text": [
      "2020-12-17 19:26:14,823 [DEBUG] kashgari - predict output: (266, 23)\n",
      "2020-12-17 19:26:14,824 [DEBUG] kashgari - predict output argmax: [[0 1 1 ... 1 1 1]\n",
      " [0 1 1 ... 1 1 1]\n",
      " [0 1 1 ... 1 1 1]\n",
      " ...\n",
      " [0 1 1 ... 1 1 1]\n",
      " [0 1 1 ... 1 1 1]\n",
      " [0 1 1 ... 1 1 1]]\n",
      "2020-12-17 19:26:14,827 [DEBUG] kashgari - predict seq_length: None, input: (2, 308, 21)\n"
     ]
    },
    {
     "name": "stdout",
     "output_type": "stream",
     "text": [
      "10/10 [==============================] - 0s 36ms/step\n"
     ]
    },
    {
     "name": "stderr",
     "output_type": "stream",
     "text": [
      "2020-12-17 19:26:18,116 [DEBUG] kashgari - predict output: (308, 21)\n",
      "2020-12-17 19:26:18,116 [DEBUG] kashgari - predict output argmax: [[ 0  1  1 ...  1  1  1]\n",
      " [ 0  1  0 ...  1  1  1]\n",
      " [ 0  1  1 ...  1  1  1]\n",
      " ...\n",
      " [ 0  1 10 ...  1  1  1]\n",
      " [ 0  1  0 ...  1  1  1]\n",
      " [ 0  0  0 ...  0  0  0]]\n",
      "2020-12-17 19:26:18,118 [DEBUG] kashgari - predict seq_length: None, input: (2, 139, 38)\n"
     ]
    },
    {
     "name": "stdout",
     "output_type": "stream",
     "text": [
      "5/5 [==============================] - 0s 42ms/step\n"
     ]
    },
    {
     "name": "stderr",
     "output_type": "stream",
     "text": [
      "2020-12-17 19:26:21,382 [DEBUG] kashgari - predict output: (139, 38)\n",
      "2020-12-17 19:26:21,382 [DEBUG] kashgari - predict output argmax: [[0 1 1 ... 1 1 1]\n",
      " [0 1 1 ... 1 1 1]\n",
      " [0 1 1 ... 1 1 1]\n",
      " ...\n",
      " [0 1 1 ... 1 1 1]\n",
      " [0 1 1 ... 1 1 1]\n",
      " [0 0 0 ... 0 0 0]]\n",
      "2020-12-17 19:26:21,385 [DEBUG] kashgari - predict seq_length: None, input: (2, 167, 22)\n"
     ]
    },
    {
     "name": "stdout",
     "output_type": "stream",
     "text": [
      "6/6 [==============================] - 0s 29ms/step\n"
     ]
    },
    {
     "name": "stderr",
     "output_type": "stream",
     "text": [
      "2020-12-17 19:26:24,567 [DEBUG] kashgari - predict output: (167, 22)\n",
      "2020-12-17 19:26:24,567 [DEBUG] kashgari - predict output argmax: [[0 1 1 ... 1 1 1]\n",
      " [0 1 1 ... 1 1 1]\n",
      " [0 1 0 ... 1 1 1]\n",
      " ...\n",
      " [0 1 1 ... 1 1 1]\n",
      " [0 1 1 ... 2 2 2]\n",
      " [0 0 0 ... 0 0 0]]\n",
      "2020-12-17 19:26:24,572 [DEBUG] kashgari - predict seq_length: None, input: (2, 272, 41)\n"
     ]
    },
    {
     "name": "stdout",
     "output_type": "stream",
     "text": [
      "9/9 [==============================] - 0s 51ms/step\n"
     ]
    },
    {
     "name": "stderr",
     "output_type": "stream",
     "text": [
      "2020-12-17 19:26:28,471 [DEBUG] kashgari - predict output: (272, 41)\n",
      "2020-12-17 19:26:28,472 [DEBUG] kashgari - predict output argmax: [[ 0  1  1 ... 14 14 14]\n",
      " [ 0 20  7 ...  7  7  7]\n",
      " [ 0  1  1 ...  1  1  1]\n",
      " ...\n",
      " [ 0  1  1 ...  1  1  1]\n",
      " [ 0  1  1 ...  1  1  1]\n",
      " [ 0  0  0 ...  0  0  0]]\n",
      "2020-12-17 19:26:28,475 [DEBUG] kashgari - predict seq_length: None, input: (2, 143, 63)\n"
     ]
    },
    {
     "name": "stdout",
     "output_type": "stream",
     "text": [
      "5/5 [==============================] - 0s 63ms/step\n"
     ]
    },
    {
     "name": "stderr",
     "output_type": "stream",
     "text": [
      "2020-12-17 19:26:31,820 [DEBUG] kashgari - predict output: (143, 63)\n",
      "2020-12-17 19:26:31,821 [DEBUG] kashgari - predict output argmax: [[0 1 1 ... 1 1 1]\n",
      " [0 1 1 ... 1 1 1]\n",
      " [0 1 1 ... 1 1 1]\n",
      " ...\n",
      " [0 1 1 ... 1 1 1]\n",
      " [0 1 1 ... 1 1 1]\n",
      " [0 0 0 ... 0 0 0]]\n",
      "2020-12-17 19:26:31,827 [DEBUG] kashgari - predict seq_length: None, input: (2, 663, 42)\n"
     ]
    },
    {
     "name": "stdout",
     "output_type": "stream",
     "text": [
      "21/21 [==============================] - 1s 54ms/step\n"
     ]
    },
    {
     "name": "stderr",
     "output_type": "stream",
     "text": [
      "2020-12-17 19:26:36,042 [DEBUG] kashgari - predict output: (663, 42)\n",
      "2020-12-17 19:26:36,042 [DEBUG] kashgari - predict output argmax: [[0 1 1 ... 1 1 1]\n",
      " [0 1 1 ... 1 1 1]\n",
      " [0 1 1 ... 1 1 1]\n",
      " ...\n",
      " [0 1 1 ... 1 1 1]\n",
      " [0 1 1 ... 1 1 1]\n",
      " [0 0 0 ... 0 0 0]]\n",
      "2020-12-17 19:26:36,044 [DEBUG] kashgari - predict seq_length: None, input: (2, 39, 25)\n"
     ]
    },
    {
     "name": "stdout",
     "output_type": "stream",
     "text": [
      "2/2 [==============================] - 0s 15ms/step\n"
     ]
    },
    {
     "name": "stderr",
     "output_type": "stream",
     "text": [
      "2020-12-17 19:26:39,161 [DEBUG] kashgari - predict output: (39, 25)\n",
      "2020-12-17 19:26:39,163 [DEBUG] kashgari - predict output argmax: [[ 0  1  1  1  1  0  1  1  1  1  1  1  1  1  1  1  1  1  1  1  1  1  1  1\n",
      "   1]\n",
      " [ 0  1  1  1  1  0  1  1  1  1  1  1  1  1  1  1  1  1  1  1  1  1  1  1\n",
      "   1]\n",
      " [ 0  1  1  1  1  1  1  1  1  1  1  1  1  1  1  1  0  1  1  1  1  1  1  1\n",
      "   1]\n",
      " [ 0  1  1  1  1  1  1  1  1  1  1  0  1  1  1  1  1  1  1  1  1  1  1  1\n",
      "   1]\n",
      " [ 0  1  1  1  1  1  1  1  1  1  1  1  0  1  1  1  1  1  1  1  1  1  1  1\n",
      "   1]\n",
      " [ 0  1  1  1  1  0  1  1  1  1  1  1  1  1  1  1  1  1  1  1  1  1  1  1\n",
      "   1]\n",
      " [ 0  1  1  1  0  1  1  1  1  1  1  1  1  1  1  1  1  1  1  1  1  1  1  1\n",
      "   1]\n",
      " [ 0  1  1  1  1  0  1  1  1  1  1  1  1  1  1  1  1  1  1  1  1  1  1  1\n",
      "   1]\n",
      " [ 0  1  1  0  1  1  1  1  1  1  1  1  1  1  1  1  1  1  1  1  1  1  1  1\n",
      "   1]\n",
      " [ 0  1  1  1  1  1  1  1  1  1  1  1  0  1  1  1  1  1  1  1  1  1  1  1\n",
      "   1]\n",
      " [ 0  1  1  1  1  1  1  1  1  1  0  1  1  1  1  1  1  1  1  1  1  1  1  1\n",
      "   1]\n",
      " [ 0  1  1  1  1  1  1  0  1  1  1  1  1  1  1  1  1  1  1  1  1  1  1  1\n",
      "   1]\n",
      " [ 0  1  1  1  1  0  1  1  1  1  1  1  1  1  1  1  1  1  1  1  1  1  1  1\n",
      "   1]\n",
      " [ 0  1  1  1  1  0  1  1  1  1  1  1  1  1  1  1  1  1  1  1  1  1  1  1\n",
      "   1]\n",
      " [ 0  1  1  1  1  1  1  1  1  1  1  1  1  1  0  1  1  1  1  1  1  1  1  1\n",
      "   1]\n",
      " [ 0  1  1  1  1  0  1  1  1  1  1  1  1  1  1  1  1  1  1  1  1  1  1  1\n",
      "   1]\n",
      " [ 0  1  1  1  0  1  1  1  1  1  1  1  1  1  1  1  1  1  1  1  1  1  1  1\n",
      "   1]\n",
      " [ 0  1  1  1  1  1  1  1 11  5  5  5  1  1  0  1  1  1  1  1  1  1  1  1\n",
      "   1]\n",
      " [ 0  1  1  1  1  1  0  1  1  1  1  1  1  1  1  1  1  1  1  1  1  1  1  1\n",
      "   1]\n",
      " [ 0  1  1  1  1  1  1  1  1  1  1  1  1  1  1  1  1  0  1  1  1  1  1  1\n",
      "   1]\n",
      " [ 0  1  1  1  1  4  2  1  1  1  1  0  1  1  1  1  1  1  1  1  1  1  1  1\n",
      "   1]\n",
      " [ 0  1  1  1  1  0  1  1  1  1  1  1  1  1  1  1  1  1  1  1  1  1  1  1\n",
      "   1]\n",
      " [ 0  1  1  1  1  1  1  1  1  1  1  0  1  1  1  1  1  1  1  1  1  1  1  1\n",
      "   1]\n",
      " [ 0  1  1  1  1  0  1  1  1  1  1  1  1  1  1  1  1  1  1  1  1  1  1  1\n",
      "   1]\n",
      " [ 0  1  1  1  1  1  0  1  1  1  1  1  1  1  1  1  1  1  1  1  1  1  1  1\n",
      "   1]\n",
      " [ 0  1  1  1  1  0  1  1  1  1  1  1  1  1  1  1  1  1  1  1  1  1  1  1\n",
      "   1]\n",
      " [ 0  1  1  1  1  1  1  1  1  1  1  1  1  1  1  1  1  1  1  1  1  1  1  1\n",
      "   0]\n",
      " [ 0  1  1  1  1  0  1  1  1  1  1  1  1  1  1  1  1  1  1  1  1  1  1  1\n",
      "   1]\n",
      " [ 0  1  1  1  0  1  1  1  1  1  1  1  1  1  1  1  1  1  1  1  1  1  1  1\n",
      "   1]\n",
      " [ 0  1  1  1  1  1  0  1  1  1  1  1  1  1  1  1  1  1  1  1  1  1  1  1\n",
      "   1]\n",
      " [ 0  1  1  1  1  1  0  1  1  1  1  1  1  1  1  1  1  1  1  1  1  1  1  1\n",
      "   1]\n",
      " [ 0  1  0  1  1  1  1  1  1  1  1  1  1  1  1  1  1  1  1  1  1  1  1  1\n",
      "   1]\n",
      " [ 0  1  1  1  1  1  1  1  1  1  1  1  0  1  1  1  1  1  1  1  1  1  1  1\n",
      "   1]\n",
      " [ 0  1  1  1  1  0  1  1  1  1  1  1  1  1  1  1  1  1  1  1  1  1  1  1\n",
      "   1]\n",
      " [ 0  1  1  1  1  4  2  2  2  1  1  1  1  1  0  1  1  1  1  1  1  1  1  1\n",
      "   1]\n",
      " [ 0  1  1  1  1  0  1  1  1  1  1  1  1  1  1  1  1  1  1  1  1  1  1  1\n",
      "   1]\n",
      " [ 0  1  1  1  1  1  0  1  1  1  1  1  1  1  1  1  1  1  1  1  1  1  1  1\n",
      "   1]\n",
      " [ 0  1  1  0  1  1  1  1  1  1  1  1  1  1  1  1  1  1  1  1  1  1  1  1\n",
      "   1]\n",
      " [ 0  0  0  0  0  0  0  0  0  0  0  0  0  0  0  0  0  0  0  0  0  0  0  0\n",
      "   0]]\n",
      "2020-12-17 19:26:39,166 [DEBUG] kashgari - predict seq_length: None, input: (2, 175, 22)\n"
     ]
    },
    {
     "name": "stdout",
     "output_type": "stream",
     "text": [
      "6/6 [==============================] - 0s 31ms/step\n"
     ]
    },
    {
     "name": "stderr",
     "output_type": "stream",
     "text": [
      "2020-12-17 19:26:39,417 [DEBUG] kashgari - predict output: (175, 22)\n",
      "2020-12-17 19:26:39,418 [DEBUG] kashgari - predict output argmax: [[0 1 1 ... 1 1 1]\n",
      " [0 1 1 ... 1 1 1]\n",
      " [0 1 1 ... 1 1 1]\n",
      " ...\n",
      " [0 1 1 ... 1 1 1]\n",
      " [0 1 1 ... 1 1 1]\n",
      " [0 0 0 ... 0 0 0]]\n",
      "2020-12-17 19:26:39,421 [DEBUG] kashgari - predict seq_length: None, input: (2, 143, 28)\n"
     ]
    },
    {
     "name": "stdout",
     "output_type": "stream",
     "text": [
      "5/5 [==============================] - 0s 32ms/step\n"
     ]
    },
    {
     "name": "stderr",
     "output_type": "stream",
     "text": [
      "2020-12-17 19:26:39,642 [DEBUG] kashgari - predict output: (143, 28)\n",
      "2020-12-17 19:26:39,642 [DEBUG] kashgari - predict output argmax: [[0 1 1 ... 1 1 1]\n",
      " [0 1 1 ... 1 1 1]\n",
      " [0 1 1 ... 1 1 1]\n",
      " ...\n",
      " [0 1 1 ... 1 1 1]\n",
      " [0 1 1 ... 1 1 1]\n",
      " [0 0 0 ... 0 0 0]]\n",
      "2020-12-17 19:26:39,645 [DEBUG] kashgari - predict seq_length: None, input: (2, 88, 21)\n"
     ]
    },
    {
     "name": "stdout",
     "output_type": "stream",
     "text": [
      "3/3 [==============================] - 0s 21ms/step\n"
     ]
    },
    {
     "name": "stderr",
     "output_type": "stream",
     "text": [
      "2020-12-17 19:26:39,765 [DEBUG] kashgari - predict output: (88, 21)\n",
      "2020-12-17 19:26:39,766 [DEBUG] kashgari - predict output argmax: [[0 1 1 ... 1 1 1]\n",
      " [0 1 1 ... 1 1 1]\n",
      " [0 1 1 ... 1 1 1]\n",
      " ...\n",
      " [0 1 1 ... 1 1 1]\n",
      " [0 1 1 ... 1 1 1]\n",
      " [0 0 0 ... 0 0 0]]\n",
      "2020-12-17 19:26:39,769 [DEBUG] kashgari - predict seq_length: None, input: (2, 121, 28)\n"
     ]
    },
    {
     "name": "stdout",
     "output_type": "stream",
     "text": [
      "4/4 [==============================] - 0s 30ms/step\n"
     ]
    },
    {
     "name": "stderr",
     "output_type": "stream",
     "text": [
      "2020-12-17 19:26:39,955 [DEBUG] kashgari - predict output: (121, 28)\n",
      "2020-12-17 19:26:39,956 [DEBUG] kashgari - predict output argmax: [[0 1 1 ... 1 1 1]\n",
      " [0 1 1 ... 1 1 1]\n",
      " [0 1 1 ... 1 1 1]\n",
      " ...\n",
      " [0 1 1 ... 1 1 1]\n",
      " [0 1 1 ... 1 1 1]\n",
      " [0 0 0 ... 0 0 0]]\n",
      "2020-12-17 19:26:39,958 [DEBUG] kashgari - predict seq_length: None, input: (2, 85, 27)\n"
     ]
    },
    {
     "name": "stdout",
     "output_type": "stream",
     "text": [
      "3/3 [==============================] - 0s 27ms/step\n"
     ]
    },
    {
     "name": "stderr",
     "output_type": "stream",
     "text": [
      "2020-12-17 19:26:43,055 [DEBUG] kashgari - predict output: (85, 27)\n",
      "2020-12-17 19:26:43,056 [DEBUG] kashgari - predict output argmax: [[0 1 1 ... 1 1 1]\n",
      " [0 1 1 ... 1 1 1]\n",
      " [0 1 1 ... 1 1 1]\n",
      " ...\n",
      " [0 1 1 ... 1 1 1]\n",
      " [0 1 1 ... 1 1 1]\n",
      " [0 0 0 ... 0 0 0]]\n",
      "2020-12-17 19:26:43,059 [DEBUG] kashgari - predict seq_length: None, input: (2, 255, 19)\n"
     ]
    },
    {
     "name": "stdout",
     "output_type": "stream",
     "text": [
      "8/8 [==============================] - 0s 34ms/step\n"
     ]
    },
    {
     "name": "stderr",
     "output_type": "stream",
     "text": [
      "2020-12-17 19:26:46,437 [DEBUG] kashgari - predict output: (255, 19)\n",
      "2020-12-17 19:26:46,438 [DEBUG] kashgari - predict output argmax: [[0 1 1 ... 1 1 1]\n",
      " [0 1 1 ... 1 1 1]\n",
      " [0 1 1 ... 1 1 1]\n",
      " ...\n",
      " [0 1 1 ... 1 1 1]\n",
      " [0 1 1 ... 1 1 1]\n",
      " [0 0 0 ... 0 0 0]]\n",
      "2020-12-17 19:26:46,441 [DEBUG] kashgari - predict seq_length: None, input: (2, 202, 29)\n"
     ]
    },
    {
     "name": "stdout",
     "output_type": "stream",
     "text": [
      "7/7 [==============================] - 0s 38ms/step\n"
     ]
    },
    {
     "name": "stderr",
     "output_type": "stream",
     "text": [
      "2020-12-17 19:26:50,252 [DEBUG] kashgari - predict output: (202, 29)\n",
      "2020-12-17 19:26:50,253 [DEBUG] kashgari - predict output argmax: [[0 1 1 ... 1 1 1]\n",
      " [0 1 1 ... 1 1 1]\n",
      " [0 1 1 ... 1 1 0]\n",
      " ...\n",
      " [0 1 1 ... 1 1 1]\n",
      " [0 1 1 ... 1 1 1]\n",
      " [0 0 0 ... 0 0 0]]\n",
      "2020-12-17 19:26:50,255 [DEBUG] kashgari - predict seq_length: None, input: (2, 198, 19)\n"
     ]
    },
    {
     "name": "stdout",
     "output_type": "stream",
     "text": [
      "7/7 [==============================] - 0s 28ms/step\n"
     ]
    },
    {
     "name": "stderr",
     "output_type": "stream",
     "text": [
      "2020-12-17 19:26:50,502 [DEBUG] kashgari - predict output: (198, 19)\n",
      "2020-12-17 19:26:50,503 [DEBUG] kashgari - predict output argmax: [[ 0  1  1 ...  1  1  1]\n",
      " [ 0  1  1 ...  1  1  1]\n",
      " [ 0  1  1 ...  1  1  1]\n",
      " ...\n",
      " [ 0  1  1 ...  1  1  1]\n",
      " [ 0  1  1 ... 16 16 16]\n",
      " [ 0  0  0 ...  0  0  0]]\n",
      "2020-12-17 19:26:50,505 [DEBUG] kashgari - predict seq_length: None, input: (2, 102, 39)\n"
     ]
    },
    {
     "name": "stdout",
     "output_type": "stream",
     "text": [
      "4/4 [==============================] - 0s 39ms/step\n"
     ]
    },
    {
     "name": "stderr",
     "output_type": "stream",
     "text": [
      "2020-12-17 19:26:53,635 [DEBUG] kashgari - predict output: (102, 39)\n",
      "2020-12-17 19:26:53,635 [DEBUG] kashgari - predict output argmax: [[0 1 1 ... 1 1 1]\n",
      " [0 1 1 ... 1 1 1]\n",
      " [0 1 1 ... 1 1 1]\n",
      " ...\n",
      " [0 1 1 ... 1 1 1]\n",
      " [0 1 1 ... 1 1 1]\n",
      " [0 0 0 ... 0 0 0]]\n",
      "2020-12-17 19:26:53,636 [DEBUG] kashgari - predict seq_length: None, input: (2, 72, 36)\n"
     ]
    },
    {
     "name": "stdout",
     "output_type": "stream",
     "text": [
      "3/3 [==============================] - 0s 29ms/step\n"
     ]
    },
    {
     "name": "stderr",
     "output_type": "stream",
     "text": [
      "2020-12-17 19:26:56,749 [DEBUG] kashgari - predict output: (72, 36)\n",
      "2020-12-17 19:26:56,750 [DEBUG] kashgari - predict output argmax: [[0 1 1 ... 1 1 1]\n",
      " [0 1 0 ... 1 1 1]\n",
      " [0 1 1 ... 1 1 1]\n",
      " ...\n",
      " [0 1 1 ... 1 1 1]\n",
      " [0 1 1 ... 1 1 1]\n",
      " [0 0 0 ... 0 0 0]]\n",
      "2020-12-17 19:26:56,753 [DEBUG] kashgari - predict seq_length: None, input: (2, 246, 27)\n"
     ]
    },
    {
     "name": "stdout",
     "output_type": "stream",
     "text": [
      "8/8 [==============================] - 0s 36ms/step\n"
     ]
    },
    {
     "name": "stderr",
     "output_type": "stream",
     "text": [
      "2020-12-17 19:26:57,114 [DEBUG] kashgari - predict output: (246, 27)\n",
      "2020-12-17 19:26:57,115 [DEBUG] kashgari - predict output argmax: [[0 1 1 ... 1 1 1]\n",
      " [0 1 1 ... 1 1 1]\n",
      " [0 1 1 ... 1 1 1]\n",
      " ...\n",
      " [0 1 1 ... 1 1 1]\n",
      " [0 1 1 ... 1 1 1]\n",
      " [0 0 0 ... 0 0 0]]\n",
      "2020-12-17 19:26:57,116 [DEBUG] kashgari - predict seq_length: None, input: (2, 57, 34)\n"
     ]
    },
    {
     "name": "stdout",
     "output_type": "stream",
     "text": [
      "2/2 [==============================] - 0s 25ms/step\n"
     ]
    },
    {
     "name": "stderr",
     "output_type": "stream",
     "text": [
      "2020-12-17 19:27:00,202 [DEBUG] kashgari - predict output: (57, 34)\n",
      "2020-12-17 19:27:00,202 [DEBUG] kashgari - predict output argmax: [[0 1 1 ... 1 1 1]\n",
      " [0 1 1 ... 1 1 1]\n",
      " [0 1 1 ... 1 1 1]\n",
      " ...\n",
      " [0 1 1 ... 1 1 1]\n",
      " [0 1 1 ... 1 1 1]\n",
      " [0 0 0 ... 0 0 0]]\n",
      "2020-12-17 19:27:00,204 [DEBUG] kashgari - predict seq_length: None, input: (2, 82, 21)\n"
     ]
    },
    {
     "name": "stdout",
     "output_type": "stream",
     "text": [
      "3/3 [==============================] - 0s 27ms/step\n"
     ]
    },
    {
     "name": "stderr",
     "output_type": "stream",
     "text": [
      "2020-12-17 19:27:00,344 [DEBUG] kashgari - predict output: (82, 21)\n",
      "2020-12-17 19:27:00,345 [DEBUG] kashgari - predict output argmax: [[0 1 1 ... 1 1 1]\n",
      " [0 1 1 ... 1 1 1]\n",
      " [0 1 1 ... 1 1 1]\n",
      " ...\n",
      " [0 1 1 ... 1 1 1]\n",
      " [0 1 1 ... 1 1 1]\n",
      " [0 0 0 ... 0 0 0]]\n",
      "2020-12-17 19:27:00,348 [DEBUG] kashgari - predict seq_length: None, input: (2, 185, 32)\n"
     ]
    },
    {
     "name": "stdout",
     "output_type": "stream",
     "text": [
      "6/6 [==============================] - 0s 42ms/step\n"
     ]
    },
    {
     "name": "stderr",
     "output_type": "stream",
     "text": [
      "2020-12-17 19:27:03,718 [DEBUG] kashgari - predict output: (185, 32)\n",
      "2020-12-17 19:27:03,718 [DEBUG] kashgari - predict output argmax: [[0 1 1 ... 1 1 1]\n",
      " [0 1 1 ... 1 1 1]\n",
      " [0 1 1 ... 1 1 1]\n",
      " ...\n",
      " [0 1 1 ... 1 1 1]\n",
      " [0 1 1 ... 1 1 1]\n",
      " [0 0 0 ... 0 0 0]]\n",
      "2020-12-17 19:27:03,721 [DEBUG] kashgari - predict seq_length: None, input: (2, 148, 28)\n"
     ]
    },
    {
     "name": "stdout",
     "output_type": "stream",
     "text": [
      "5/5 [==============================] - 0s 32ms/step\n"
     ]
    },
    {
     "name": "stderr",
     "output_type": "stream",
     "text": [
      "2020-12-17 19:27:03,942 [DEBUG] kashgari - predict output: (148, 28)\n",
      "2020-12-17 19:27:03,942 [DEBUG] kashgari - predict output argmax: [[0 1 1 ... 1 1 1]\n",
      " [0 1 1 ... 1 1 1]\n",
      " [0 1 1 ... 1 1 1]\n",
      " ...\n",
      " [0 1 1 ... 1 1 1]\n",
      " [0 1 1 ... 1 1 1]\n",
      " [0 0 0 ... 0 0 0]]\n",
      "2020-12-17 19:27:03,945 [DEBUG] kashgari - predict seq_length: None, input: (2, 281, 23)\n"
     ]
    },
    {
     "name": "stdout",
     "output_type": "stream",
     "text": [
      "9/9 [==============================] - 0s 33ms/step\n"
     ]
    },
    {
     "name": "stderr",
     "output_type": "stream",
     "text": [
      "2020-12-17 19:27:04,308 [DEBUG] kashgari - predict output: (281, 23)\n",
      "2020-12-17 19:27:04,308 [DEBUG] kashgari - predict output argmax: [[0 1 1 ... 1 1 1]\n",
      " [0 1 1 ... 1 1 1]\n",
      " [0 1 1 ... 1 1 1]\n",
      " ...\n",
      " [0 1 0 ... 1 1 1]\n",
      " [0 1 1 ... 1 1 1]\n",
      " [0 0 0 ... 0 0 0]]\n",
      "2020-12-17 19:27:04,310 [DEBUG] kashgari - predict seq_length: None, input: (2, 116, 20)\n"
     ]
    },
    {
     "name": "stdout",
     "output_type": "stream",
     "text": [
      "4/4 [==============================] - 0s 27ms/step\n"
     ]
    },
    {
     "name": "stderr",
     "output_type": "stream",
     "text": [
      "2020-12-17 19:27:07,517 [DEBUG] kashgari - predict output: (116, 20)\n",
      "2020-12-17 19:27:07,518 [DEBUG] kashgari - predict output argmax: [[0 1 1 ... 1 1 1]\n",
      " [0 1 1 ... 1 1 1]\n",
      " [0 1 1 ... 1 1 1]\n",
      " ...\n",
      " [0 1 1 ... 1 1 1]\n",
      " [0 1 1 ... 1 1 1]\n",
      " [0 0 0 ... 0 0 0]]\n",
      "2020-12-17 19:27:07,521 [DEBUG] kashgari - predict seq_length: None, input: (2, 168, 25)\n"
     ]
    },
    {
     "name": "stdout",
     "output_type": "stream",
     "text": [
      "6/6 [==============================] - 0s 33ms/step\n"
     ]
    },
    {
     "name": "stderr",
     "output_type": "stream",
     "text": [
      "2020-12-17 19:27:07,782 [DEBUG] kashgari - predict output: (168, 25)\n",
      "2020-12-17 19:27:07,783 [DEBUG] kashgari - predict output argmax: [[ 0  1  1 ...  1  1  1]\n",
      " [ 0  1  1 ...  1  1  1]\n",
      " [ 0  4  2 ...  1  1  1]\n",
      " ...\n",
      " [ 0 12  6 ...  6  6  6]\n",
      " [ 0  1  1 ...  1  1  1]\n",
      " [ 0  0  0 ...  0  0  0]]\n",
      "2020-12-17 19:27:07,786 [DEBUG] kashgari - predict seq_length: None, input: (2, 218, 30)\n"
     ]
    },
    {
     "name": "stdout",
     "output_type": "stream",
     "text": [
      "7/7 [==============================] - 0s 42ms/step\n"
     ]
    },
    {
     "name": "stderr",
     "output_type": "stream",
     "text": [
      "2020-12-17 19:27:11,237 [DEBUG] kashgari - predict output: (218, 30)\n",
      "2020-12-17 19:27:11,238 [DEBUG] kashgari - predict output argmax: [[0 1 1 ... 1 1 1]\n",
      " [0 1 1 ... 1 1 1]\n",
      " [0 1 1 ... 1 1 1]\n",
      " ...\n",
      " [0 1 1 ... 1 1 1]\n",
      " [0 1 1 ... 1 1 1]\n",
      " [0 0 0 ... 0 0 0]]\n",
      "2020-12-17 19:27:11,240 [DEBUG] kashgari - predict seq_length: None, input: (2, 123, 32)\n"
     ]
    },
    {
     "name": "stdout",
     "output_type": "stream",
     "text": [
      "4/4 [==============================] - 0s 33ms/step\n"
     ]
    },
    {
     "name": "stderr",
     "output_type": "stream",
     "text": [
      "2020-12-17 19:27:11,439 [DEBUG] kashgari - predict output: (123, 32)\n",
      "2020-12-17 19:27:11,440 [DEBUG] kashgari - predict output argmax: [[0 1 1 ... 1 1 1]\n",
      " [0 1 1 ... 1 1 1]\n",
      " [0 1 1 ... 1 1 1]\n",
      " ...\n",
      " [0 1 1 ... 1 1 1]\n",
      " [0 1 1 ... 1 1 1]\n",
      " [0 0 0 ... 0 0 0]]\n",
      "2020-12-17 19:27:11,442 [DEBUG] kashgari - predict seq_length: None, input: (2, 82, 21)\n"
     ]
    },
    {
     "name": "stdout",
     "output_type": "stream",
     "text": [
      "3/3 [==============================] - 0s 22ms/step\n"
     ]
    },
    {
     "name": "stderr",
     "output_type": "stream",
     "text": [
      "2020-12-17 19:27:11,564 [DEBUG] kashgari - predict output: (82, 21)\n",
      "2020-12-17 19:27:11,565 [DEBUG] kashgari - predict output argmax: [[0 1 1 ... 1 1 1]\n",
      " [0 1 1 ... 1 1 1]\n",
      " [0 4 2 ... 1 1 1]\n",
      " ...\n",
      " [0 1 1 ... 1 1 1]\n",
      " [0 1 1 ... 1 1 1]\n",
      " [0 0 0 ... 0 0 0]]\n",
      "2020-12-17 19:27:11,567 [DEBUG] kashgari - predict seq_length: None, input: (2, 95, 19)\n"
     ]
    },
    {
     "name": "stdout",
     "output_type": "stream",
     "text": [
      "3/3 [==============================] - 0s 22ms/step\n"
     ]
    },
    {
     "name": "stderr",
     "output_type": "stream",
     "text": [
      "2020-12-17 19:27:11,688 [DEBUG] kashgari - predict output: (95, 19)\n",
      "2020-12-17 19:27:11,689 [DEBUG] kashgari - predict output argmax: [[0 1 1 ... 2 2 2]\n",
      " [0 4 2 ... 1 1 1]\n",
      " [0 1 1 ... 1 1 1]\n",
      " ...\n",
      " [0 1 0 ... 1 1 1]\n",
      " [0 1 1 ... 1 1 1]\n",
      " [0 0 0 ... 0 0 0]]\n",
      "2020-12-17 19:27:11,693 [DEBUG] kashgari - predict seq_length: None, input: (2, 245, 24)\n"
     ]
    },
    {
     "name": "stdout",
     "output_type": "stream",
     "text": [
      "8/8 [==============================] - 0s 36ms/step\n"
     ]
    },
    {
     "name": "stderr",
     "output_type": "stream",
     "text": [
      "2020-12-17 19:27:15,074 [DEBUG] kashgari - predict output: (245, 24)\n",
      "2020-12-17 19:27:15,075 [DEBUG] kashgari - predict output argmax: [[0 1 1 ... 1 1 1]\n",
      " [0 1 1 ... 1 1 1]\n",
      " [0 1 1 ... 1 1 1]\n",
      " ...\n",
      " [0 1 4 ... 1 1 1]\n",
      " [0 1 1 ... 1 1 1]\n",
      " [0 0 0 ... 0 0 0]]\n",
      "2020-12-17 19:27:15,077 [DEBUG] kashgari - predict seq_length: None, input: (2, 126, 31)\n"
     ]
    },
    {
     "name": "stdout",
     "output_type": "stream",
     "text": [
      "4/4 [==============================] - 0s 37ms/step\n"
     ]
    },
    {
     "name": "stderr",
     "output_type": "stream",
     "text": [
      "2020-12-17 19:27:19,016 [DEBUG] kashgari - predict output: (126, 31)\n",
      "2020-12-17 19:27:19,017 [DEBUG] kashgari - predict output argmax: [[ 0  1  1 ...  1  1  1]\n",
      " [ 0 12  6 ...  8  8  8]\n",
      " [ 0  1  1 ...  1  1  1]\n",
      " ...\n",
      " [ 0  1 15 ...  1  1  1]\n",
      " [ 0  1  1 ...  1  1  1]\n",
      " [ 0  0  0 ...  0  0  0]]\n",
      "2020-12-17 19:27:19,018 [DEBUG] kashgari - predict seq_length: None, input: (2, 64, 19)\n"
     ]
    },
    {
     "name": "stdout",
     "output_type": "stream",
     "text": [
      "2/2 [==============================] - 0s 14ms/step\n"
     ]
    },
    {
     "name": "stderr",
     "output_type": "stream",
     "text": [
      "2020-12-17 19:27:21,271 [DEBUG] kashgari - predict output: (64, 19)\n",
      "2020-12-17 19:27:21,271 [DEBUG] kashgari - predict output argmax: [[0 1 1 ... 1 1 1]\n",
      " [0 1 1 ... 1 1 1]\n",
      " [0 1 1 ... 1 1 1]\n",
      " ...\n",
      " [0 1 1 ... 1 1 1]\n",
      " [0 1 1 ... 1 1 1]\n",
      " [0 0 0 ... 0 0 0]]\n",
      "2020-12-17 19:27:21,273 [DEBUG] kashgari - predict seq_length: None, input: (2, 93, 24)\n"
     ]
    },
    {
     "name": "stdout",
     "output_type": "stream",
     "text": [
      "3/3 [==============================] - 0s 28ms/step\n"
     ]
    },
    {
     "name": "stderr",
     "output_type": "stream",
     "text": [
      "2020-12-17 19:27:21,421 [DEBUG] kashgari - predict output: (93, 24)\n",
      "2020-12-17 19:27:21,422 [DEBUG] kashgari - predict output argmax: [[0 1 1 ... 1 1 1]\n",
      " [0 1 1 ... 1 1 1]\n",
      " [0 1 1 ... 1 1 1]\n",
      " ...\n",
      " [0 1 1 ... 1 1 1]\n",
      " [0 1 1 ... 1 1 1]\n",
      " [0 0 0 ... 0 0 0]]\n",
      "2020-12-17 19:27:21,426 [DEBUG] kashgari - predict seq_length: None, input: (2, 214, 16)\n"
     ]
    },
    {
     "name": "stdout",
     "output_type": "stream",
     "text": [
      "7/7 [==============================] - 0s 28ms/step\n"
     ]
    },
    {
     "name": "stderr",
     "output_type": "stream",
     "text": [
      "2020-12-17 19:27:24,727 [DEBUG] kashgari - predict output: (214, 16)\n",
      "2020-12-17 19:27:24,727 [DEBUG] kashgari - predict output argmax: [[0 1 1 ... 1 1 1]\n",
      " [0 1 1 ... 1 1 1]\n",
      " [0 1 1 ... 1 1 1]\n",
      " ...\n",
      " [0 1 1 ... 1 1 1]\n",
      " [0 1 1 ... 1 1 1]\n",
      " [0 0 0 ... 0 0 0]]\n",
      "2020-12-17 19:27:24,729 [DEBUG] kashgari - predict seq_length: None, input: (2, 53, 20)\n"
     ]
    },
    {
     "name": "stdout",
     "output_type": "stream",
     "text": [
      "2/2 [==============================] - 0s 16ms/step\n"
     ]
    },
    {
     "name": "stderr",
     "output_type": "stream",
     "text": [
      "2020-12-17 19:27:24,824 [DEBUG] kashgari - predict output: (53, 20)\n",
      "2020-12-17 19:27:24,825 [DEBUG] kashgari - predict output argmax: [[0 1 1 ... 1 1 1]\n",
      " [0 1 1 ... 1 1 1]\n",
      " [0 1 1 ... 1 1 1]\n",
      " ...\n",
      " [0 1 1 ... 1 1 1]\n",
      " [0 1 1 ... 1 1 1]\n",
      " [0 0 0 ... 0 0 0]]\n",
      "2020-12-17 19:27:24,830 [DEBUG] kashgari - predict seq_length: None, input: (2, 384, 18)\n"
     ]
    },
    {
     "name": "stdout",
     "output_type": "stream",
     "text": [
      "12/12 [==============================] - 0s 24ms/step\n"
     ]
    },
    {
     "name": "stderr",
     "output_type": "stream",
     "text": [
      "2020-12-17 19:27:27,301 [DEBUG] kashgari - predict output: (384, 18)\n",
      "2020-12-17 19:27:27,302 [DEBUG] kashgari - predict output argmax: [[0 1 1 ... 1 1 1]\n",
      " [0 1 1 ... 1 1 1]\n",
      " [0 1 1 ... 1 1 1]\n",
      " ...\n",
      " [0 1 1 ... 1 1 1]\n",
      " [0 1 1 ... 1 1 1]\n",
      " [0 0 0 ... 0 0 0]]\n",
      "2020-12-17 19:27:27,304 [DEBUG] kashgari - predict seq_length: None, input: (2, 172, 24)\n"
     ]
    },
    {
     "name": "stdout",
     "output_type": "stream",
     "text": [
      "6/6 [==============================] - 0s 28ms/step\n"
     ]
    },
    {
     "name": "stderr",
     "output_type": "stream",
     "text": [
      "2020-12-17 19:27:27,529 [DEBUG] kashgari - predict output: (172, 24)\n",
      "2020-12-17 19:27:27,529 [DEBUG] kashgari - predict output argmax: [[ 0  1  1 ... 14 14 14]\n",
      " [ 0  1  1 ...  1  1  1]\n",
      " [ 0  1  1 ...  1  1  1]\n",
      " ...\n",
      " [ 0  1  1 ...  1  1  1]\n",
      " [ 0  1  1 ...  1  1  1]\n",
      " [ 0  0  0 ...  0  0  0]]\n",
      "2020-12-17 19:27:27,531 [DEBUG] kashgari - predict seq_length: None, input: (2, 114, 24)\n"
     ]
    },
    {
     "name": "stdout",
     "output_type": "stream",
     "text": [
      "4/4 [==============================] - 0s 26ms/step\n"
     ]
    },
    {
     "name": "stderr",
     "output_type": "stream",
     "text": [
      "2020-12-17 19:27:27,690 [DEBUG] kashgari - predict output: (114, 24)\n",
      "2020-12-17 19:27:27,691 [DEBUG] kashgari - predict output argmax: [[0 1 1 ... 1 1 1]\n",
      " [0 1 1 ... 1 1 0]\n",
      " [0 1 1 ... 1 1 1]\n",
      " ...\n",
      " [0 1 1 ... 1 1 1]\n",
      " [0 1 1 ... 2 2 2]\n",
      " [0 0 0 ... 0 0 0]]\n",
      "2020-12-17 19:27:27,693 [DEBUG] kashgari - predict seq_length: None, input: (2, 111, 47)\n"
     ]
    },
    {
     "name": "stdout",
     "output_type": "stream",
     "text": [
      "4/4 [==============================] - 0s 42ms/step\n"
     ]
    },
    {
     "name": "stderr",
     "output_type": "stream",
     "text": [
      "2020-12-17 19:27:27,946 [DEBUG] kashgari - predict output: (111, 47)\n",
      "2020-12-17 19:27:27,946 [DEBUG] kashgari - predict output argmax: [[0 1 1 ... 8 8 8]\n",
      " [0 1 1 ... 1 1 1]\n",
      " [0 1 0 ... 1 1 1]\n",
      " ...\n",
      " [0 1 1 ... 1 1 1]\n",
      " [0 1 1 ... 1 1 1]\n",
      " [0 0 0 ... 0 0 0]]\n",
      "2020-12-17 19:27:27,951 [DEBUG] kashgari - predict seq_length: None, input: (2, 350, 34)\n"
     ]
    },
    {
     "name": "stdout",
     "output_type": "stream",
     "text": [
      "11/11 [==============================] - 0s 42ms/step\n"
     ]
    },
    {
     "name": "stderr",
     "output_type": "stream",
     "text": [
      "2020-12-17 19:27:28,477 [DEBUG] kashgari - predict output: (350, 34)\n",
      "2020-12-17 19:27:28,477 [DEBUG] kashgari - predict output argmax: [[0 1 1 ... 1 1 1]\n",
      " [0 1 1 ... 1 1 1]\n",
      " [0 1 1 ... 1 1 1]\n",
      " ...\n",
      " [0 1 1 ... 2 2 2]\n",
      " [0 1 1 ... 1 1 1]\n",
      " [0 0 0 ... 0 0 0]]\n",
      "2020-12-17 19:27:28,478 [DEBUG] kashgari - predict seq_length: None, input: (2, 56, 20)\n"
     ]
    },
    {
     "name": "stdout",
     "output_type": "stream",
     "text": [
      "2/2 [==============================] - 0s 15ms/step\n"
     ]
    },
    {
     "name": "stderr",
     "output_type": "stream",
     "text": [
      "2020-12-17 19:27:28,558 [DEBUG] kashgari - predict output: (56, 20)\n",
      "2020-12-17 19:27:28,559 [DEBUG] kashgari - predict output argmax: [[0 1 1 ... 1 1 1]\n",
      " [0 1 1 ... 1 1 1]\n",
      " [0 1 1 ... 1 1 1]\n",
      " ...\n",
      " [0 1 1 ... 1 1 1]\n",
      " [0 1 1 ... 1 1 1]\n",
      " [0 0 0 ... 0 0 0]]\n",
      "2020-12-17 19:27:28,561 [DEBUG] kashgari - predict seq_length: None, input: (2, 131, 17)\n"
     ]
    },
    {
     "name": "stdout",
     "output_type": "stream",
     "text": [
      "5/5 [==============================] - 0s 25ms/step\n"
     ]
    },
    {
     "name": "stderr",
     "output_type": "stream",
     "text": [
      "2020-12-17 19:27:28,739 [DEBUG] kashgari - predict output: (131, 17)\n",
      "2020-12-17 19:27:28,740 [DEBUG] kashgari - predict output argmax: [[0 1 1 ... 1 1 1]\n",
      " [0 1 1 ... 1 1 1]\n",
      " [0 1 1 ... 1 1 1]\n",
      " ...\n",
      " [0 1 1 ... 1 1 1]\n",
      " [0 1 1 ... 1 1 1]\n",
      " [0 0 0 ... 0 0 0]]\n",
      "2020-12-17 19:27:28,744 [DEBUG] kashgari - predict seq_length: None, input: (2, 184, 34)\n"
     ]
    },
    {
     "name": "stdout",
     "output_type": "stream",
     "text": [
      "6/6 [==============================] - 0s 38ms/step\n"
     ]
    },
    {
     "name": "stderr",
     "output_type": "stream",
     "text": [
      "2020-12-17 19:27:29,045 [DEBUG] kashgari - predict output: (184, 34)\n",
      "2020-12-17 19:27:29,046 [DEBUG] kashgari - predict output argmax: [[0 1 1 ... 1 1 1]\n",
      " [0 1 1 ... 1 1 1]\n",
      " [0 1 1 ... 1 1 1]\n",
      " ...\n",
      " [0 1 1 ... 1 1 1]\n",
      " [0 1 1 ... 1 1 1]\n",
      " [0 0 0 ... 0 0 0]]\n",
      "2020-12-17 19:27:29,049 [DEBUG] kashgari - predict seq_length: None, input: (2, 133, 51)\n"
     ]
    },
    {
     "name": "stdout",
     "output_type": "stream",
     "text": [
      "5/5 [==============================] - 0s 51ms/step\n"
     ]
    },
    {
     "name": "stderr",
     "output_type": "stream",
     "text": [
      "2020-12-17 19:27:32,417 [DEBUG] kashgari - predict output: (133, 51)\n",
      "2020-12-17 19:27:32,418 [DEBUG] kashgari - predict output argmax: [[0 1 1 ... 1 1 1]\n",
      " [0 1 1 ... 8 8 8]\n",
      " [0 1 1 ... 1 1 1]\n",
      " ...\n",
      " [0 1 0 ... 1 1 1]\n",
      " [0 1 1 ... 1 1 1]\n",
      " [0 0 0 ... 0 0 0]]\n",
      "2020-12-17 19:27:32,422 [DEBUG] kashgari - predict seq_length: None, input: (2, 210, 53)\n"
     ]
    },
    {
     "name": "stdout",
     "output_type": "stream",
     "text": [
      "7/7 [==============================] - 0s 58ms/step\n"
     ]
    },
    {
     "name": "stderr",
     "output_type": "stream",
     "text": [
      "2020-12-17 19:27:36,043 [DEBUG] kashgari - predict output: (210, 53)\n",
      "2020-12-17 19:27:36,044 [DEBUG] kashgari - predict output argmax: [[ 0  1  1 ...  1  1  1]\n",
      " [ 0  1  1 ...  1  1  1]\n",
      " [ 0  1  1 ... 14 14 14]\n",
      " ...\n",
      " [ 0  1  1 ...  1  1  1]\n",
      " [ 0  1  1 ...  1  1  1]\n",
      " [ 0  0  0 ...  0  0  0]]\n",
      "2020-12-17 19:27:36,047 [DEBUG] kashgari - predict seq_length: None, input: (2, 193, 55)\n"
     ]
    },
    {
     "name": "stdout",
     "output_type": "stream",
     "text": [
      "7/7 [==============================] - 0s 57ms/step\n"
     ]
    },
    {
     "name": "stderr",
     "output_type": "stream",
     "text": [
      "2020-12-17 19:27:39,721 [DEBUG] kashgari - predict output: (193, 55)\n",
      "2020-12-17 19:27:39,722 [DEBUG] kashgari - predict output argmax: [[ 0  1  1 ...  1  1  1]\n",
      " [ 0 18 14 ...  7  7  7]\n",
      " [ 0  1  1 ...  1  1  1]\n",
      " ...\n",
      " [ 0  1  1 ...  1  1  1]\n",
      " [ 0  1  1 ...  1  1  1]\n",
      " [ 0  0  0 ...  0  0  0]]\n",
      "2020-12-17 19:27:39,723 [DEBUG] kashgari - predict seq_length: None, input: (2, 75, 30)\n"
     ]
    },
    {
     "name": "stdout",
     "output_type": "stream",
     "text": [
      "3/3 [==============================] - 0s 24ms/step\n"
     ]
    },
    {
     "name": "stderr",
     "output_type": "stream",
     "text": [
      "2020-12-17 19:27:39,856 [DEBUG] kashgari - predict output: (75, 30)\n",
      "2020-12-17 19:27:39,857 [DEBUG] kashgari - predict output argmax: [[0 1 1 ... 1 1 1]\n",
      " [0 1 1 ... 1 1 1]\n",
      " [0 1 1 ... 0 1 1]\n",
      " ...\n",
      " [0 1 0 ... 1 1 1]\n",
      " [0 1 1 ... 1 1 1]\n",
      " [0 0 0 ... 0 0 0]]\n",
      "2020-12-17 19:27:39,861 [DEBUG] kashgari - predict seq_length: None, input: (2, 280, 46)\n"
     ]
    },
    {
     "name": "stdout",
     "output_type": "stream",
     "text": [
      "9/9 [==============================] - 1s 58ms/step\n"
     ]
    },
    {
     "name": "stderr",
     "output_type": "stream",
     "text": [
      "2020-12-17 19:27:43,597 [DEBUG] kashgari - predict output: (280, 46)\n",
      "2020-12-17 19:27:43,598 [DEBUG] kashgari - predict output argmax: [[0 1 1 ... 1 1 1]\n",
      " [0 1 1 ... 1 1 1]\n",
      " [0 1 1 ... 1 1 1]\n",
      " ...\n",
      " [0 1 1 ... 1 1 1]\n",
      " [0 1 1 ... 1 1 1]\n",
      " [0 0 0 ... 0 0 0]]\n",
      "2020-12-17 19:27:43,603 [DEBUG] kashgari - predict seq_length: None, input: (2, 210, 20)\n"
     ]
    },
    {
     "name": "stdout",
     "output_type": "stream",
     "text": [
      "7/7 [==============================] - 0s 30ms/step\n"
     ]
    },
    {
     "name": "stderr",
     "output_type": "stream",
     "text": [
      "2020-12-17 19:27:43,868 [DEBUG] kashgari - predict output: (210, 20)\n",
      "2020-12-17 19:27:43,868 [DEBUG] kashgari - predict output argmax: [[0 1 1 ... 1 1 1]\n",
      " [0 1 1 ... 1 1 1]\n",
      " [0 1 0 ... 1 1 1]\n",
      " ...\n",
      " [0 1 0 ... 1 1 1]\n",
      " [0 1 1 ... 1 1 1]\n",
      " [0 0 0 ... 0 0 0]]\n",
      "2020-12-17 19:27:43,873 [DEBUG] kashgari - predict seq_length: None, input: (2, 176, 24)\n"
     ]
    },
    {
     "name": "stdout",
     "output_type": "stream",
     "text": [
      "6/6 [==============================] - 0s 31ms/step\n"
     ]
    },
    {
     "name": "stderr",
     "output_type": "stream",
     "text": [
      "2020-12-17 19:27:44,113 [DEBUG] kashgari - predict output: (176, 24)\n",
      "2020-12-17 19:27:44,114 [DEBUG] kashgari - predict output argmax: [[0 1 1 ... 1 1 1]\n",
      " [0 1 1 ... 1 1 1]\n",
      " [0 1 1 ... 1 1 1]\n",
      " ...\n",
      " [0 1 1 ... 1 1 1]\n",
      " [0 1 1 ... 1 1 1]\n",
      " [0 0 0 ... 0 0 0]]\n",
      "2020-12-17 19:27:44,118 [DEBUG] kashgari - predict seq_length: None, input: (2, 218, 25)\n"
     ]
    },
    {
     "name": "stdout",
     "output_type": "stream",
     "text": [
      "7/7 [==============================] - 0s 32ms/step\n"
     ]
    },
    {
     "name": "stderr",
     "output_type": "stream",
     "text": [
      "2020-12-17 19:27:44,401 [DEBUG] kashgari - predict output: (218, 25)\n",
      "2020-12-17 19:27:44,402 [DEBUG] kashgari - predict output argmax: [[0 1 1 ... 1 1 1]\n",
      " [0 1 1 ... 1 1 1]\n",
      " [0 1 1 ... 1 1 1]\n",
      " ...\n",
      " [0 1 1 ... 1 1 1]\n",
      " [0 1 1 ... 1 1 1]\n",
      " [0 0 0 ... 0 0 0]]\n",
      "2020-12-17 19:27:44,404 [DEBUG] kashgari - predict seq_length: None, input: (2, 91, 23)\n"
     ]
    },
    {
     "name": "stdout",
     "output_type": "stream",
     "text": [
      "3/3 [==============================] - 0s 24ms/step\n"
     ]
    },
    {
     "name": "stderr",
     "output_type": "stream",
     "text": [
      "2020-12-17 19:27:44,541 [DEBUG] kashgari - predict output: (91, 23)\n",
      "2020-12-17 19:27:44,542 [DEBUG] kashgari - predict output argmax: [[0 1 1 ... 1 1 1]\n",
      " [0 1 1 ... 1 1 1]\n",
      " [0 1 1 ... 1 1 1]\n",
      " ...\n",
      " [0 1 1 ... 1 1 1]\n",
      " [0 1 1 ... 1 1 1]\n",
      " [0 0 0 ... 0 0 0]]\n",
      "2020-12-17 19:27:44,545 [DEBUG] kashgari - predict seq_length: None, input: (2, 194, 28)\n"
     ]
    },
    {
     "name": "stdout",
     "output_type": "stream",
     "text": [
      "7/7 [==============================] - 0s 33ms/step\n"
     ]
    },
    {
     "name": "stderr",
     "output_type": "stream",
     "text": [
      "2020-12-17 19:27:44,840 [DEBUG] kashgari - predict output: (194, 28)\n",
      "2020-12-17 19:27:44,841 [DEBUG] kashgari - predict output argmax: [[0 1 1 ... 1 1 1]\n",
      " [0 1 1 ... 1 1 1]\n",
      " [0 1 1 ... 8 8 8]\n",
      " ...\n",
      " [0 4 2 ... 1 1 1]\n",
      " [0 1 1 ... 1 1 1]\n",
      " [0 0 0 ... 0 0 0]]\n",
      "2020-12-17 19:27:44,844 [DEBUG] kashgari - predict seq_length: None, input: (2, 179, 23)\n"
     ]
    },
    {
     "name": "stdout",
     "output_type": "stream",
     "text": [
      "6/6 [==============================] - 0s 31ms/step\n"
     ]
    },
    {
     "name": "stderr",
     "output_type": "stream",
     "text": [
      "2020-12-17 19:27:45,089 [DEBUG] kashgari - predict output: (179, 23)\n",
      "2020-12-17 19:27:45,089 [DEBUG] kashgari - predict output argmax: [[0 1 1 ... 1 1 1]\n",
      " [0 1 1 ... 1 1 1]\n",
      " [0 1 1 ... 1 1 1]\n",
      " ...\n",
      " [0 1 1 ... 1 1 1]\n",
      " [0 1 1 ... 1 1 1]\n",
      " [0 0 0 ... 0 0 0]]\n",
      "2020-12-17 19:27:45,093 [DEBUG] kashgari - predict seq_length: None, input: (2, 234, 40)\n"
     ]
    },
    {
     "name": "stdout",
     "output_type": "stream",
     "text": [
      "8/8 [==============================] - 0s 49ms/step\n"
     ]
    },
    {
     "name": "stderr",
     "output_type": "stream",
     "text": [
      "2020-12-17 19:27:48,582 [DEBUG] kashgari - predict output: (234, 40)\n",
      "2020-12-17 19:27:48,582 [DEBUG] kashgari - predict output argmax: [[0 1 1 ... 1 1 1]\n",
      " [0 1 1 ... 1 1 1]\n",
      " [0 1 1 ... 1 1 1]\n",
      " ...\n",
      " [0 1 1 ... 1 1 1]\n",
      " [0 1 1 ... 1 1 1]\n",
      " [0 0 0 ... 0 0 0]]\n",
      "2020-12-17 19:27:48,585 [DEBUG] kashgari - predict seq_length: None, input: (2, 250, 26)\n"
     ]
    },
    {
     "name": "stdout",
     "output_type": "stream",
     "text": [
      "8/8 [==============================] - 0s 38ms/step\n"
     ]
    },
    {
     "name": "stderr",
     "output_type": "stream",
     "text": [
      "2020-12-17 19:27:51,973 [DEBUG] kashgari - predict output: (250, 26)\n",
      "2020-12-17 19:27:51,973 [DEBUG] kashgari - predict output argmax: [[0 1 1 ... 1 1 1]\n",
      " [0 1 0 ... 1 1 1]\n",
      " [0 1 1 ... 1 1 1]\n",
      " ...\n",
      " [0 1 1 ... 1 1 1]\n",
      " [0 1 1 ... 1 1 1]\n",
      " [0 0 0 ... 0 0 0]]\n",
      "2020-12-17 19:27:51,978 [DEBUG] kashgari - predict seq_length: None, input: (2, 170, 43)\n"
     ]
    },
    {
     "name": "stdout",
     "output_type": "stream",
     "text": [
      "6/6 [==============================] - 0s 47ms/step\n"
     ]
    },
    {
     "name": "stderr",
     "output_type": "stream",
     "text": [
      "2020-12-17 19:27:55,372 [DEBUG] kashgari - predict output: (170, 43)\n",
      "2020-12-17 19:27:55,372 [DEBUG] kashgari - predict output argmax: [[0 1 1 ... 1 1 1]\n",
      " [0 1 1 ... 1 1 1]\n",
      " [0 1 1 ... 1 1 0]\n",
      " ...\n",
      " [0 1 1 ... 1 1 1]\n",
      " [0 1 1 ... 1 1 1]\n",
      " [0 0 0 ... 0 0 0]]\n",
      "2020-12-17 19:27:55,375 [DEBUG] kashgari - predict seq_length: None, input: (2, 145, 34)\n"
     ]
    },
    {
     "name": "stdout",
     "output_type": "stream",
     "text": [
      "5/5 [==============================] - 0s 37ms/step\n"
     ]
    },
    {
     "name": "stderr",
     "output_type": "stream",
     "text": [
      "2020-12-17 19:27:55,630 [DEBUG] kashgari - predict output: (145, 34)\n",
      "2020-12-17 19:27:55,630 [DEBUG] kashgari - predict output argmax: [[0 1 1 ... 1 1 1]\n",
      " [0 4 2 ... 1 1 1]\n",
      " [0 1 1 ... 1 1 1]\n",
      " ...\n",
      " [0 1 1 ... 1 1 1]\n",
      " [0 1 0 ... 1 1 1]\n",
      " [0 0 0 ... 0 0 0]]\n",
      "2020-12-17 19:27:55,633 [DEBUG] kashgari - predict seq_length: None, input: (2, 102, 29)\n"
     ]
    },
    {
     "name": "stdout",
     "output_type": "stream",
     "text": [
      "4/4 [==============================] - 0s 28ms/step\n"
     ]
    },
    {
     "name": "stderr",
     "output_type": "stream",
     "text": [
      "2020-12-17 19:27:55,809 [DEBUG] kashgari - predict output: (102, 29)\n",
      "2020-12-17 19:27:55,810 [DEBUG] kashgari - predict output argmax: [[0 1 1 ... 1 1 1]\n",
      " [0 1 1 ... 1 1 1]\n",
      " [0 1 1 ... 1 1 1]\n",
      " ...\n",
      " [0 1 1 ... 1 1 1]\n",
      " [0 1 1 ... 1 1 1]\n",
      " [0 0 0 ... 0 0 0]]\n",
      "2020-12-17 19:27:55,814 [DEBUG] kashgari - predict seq_length: None, input: (2, 340, 20)\n"
     ]
    },
    {
     "name": "stdout",
     "output_type": "stream",
     "text": [
      "11/11 [==============================] - 0s 30ms/step\n"
     ]
    },
    {
     "name": "stderr",
     "output_type": "stream",
     "text": [
      "2020-12-17 19:27:56,205 [DEBUG] kashgari - predict output: (340, 20)\n",
      "2020-12-17 19:27:56,206 [DEBUG] kashgari - predict output argmax: [[0 1 1 ... 1 1 1]\n",
      " [0 1 1 ... 1 1 1]\n",
      " [0 1 1 ... 1 1 1]\n",
      " ...\n",
      " [0 1 1 ... 1 1 1]\n",
      " [0 1 1 ... 1 1 1]\n",
      " [0 0 0 ... 0 0 0]]\n",
      "2020-12-17 19:27:56,208 [DEBUG] kashgari - predict seq_length: None, input: (2, 122, 23)\n"
     ]
    },
    {
     "name": "stdout",
     "output_type": "stream",
     "text": [
      "4/4 [==============================] - 0s 28ms/step\n"
     ]
    },
    {
     "name": "stderr",
     "output_type": "stream",
     "text": [
      "2020-12-17 19:27:56,377 [DEBUG] kashgari - predict output: (122, 23)\n",
      "2020-12-17 19:27:56,378 [DEBUG] kashgari - predict output argmax: [[ 0  1  1 ... 14 14 14]\n",
      " [ 0  1  1 ...  1  1  1]\n",
      " [ 0  1  1 ...  1  1  1]\n",
      " ...\n",
      " [ 0  1  1 ...  1  1  1]\n",
      " [ 0  1  1 ...  1  1  1]\n",
      " [ 0  0  0 ...  0  0  0]]\n",
      "2020-12-17 19:27:56,384 [DEBUG] kashgari - predict seq_length: None, input: (2, 381, 28)\n"
     ]
    },
    {
     "name": "stdout",
     "output_type": "stream",
     "text": [
      "12/12 [==============================] - 0s 38ms/step\n"
     ]
    },
    {
     "name": "stderr",
     "output_type": "stream",
     "text": [
      "2020-12-17 19:27:56,905 [DEBUG] kashgari - predict output: (381, 28)\n",
      "2020-12-17 19:27:56,906 [DEBUG] kashgari - predict output argmax: [[0 1 1 ... 1 1 1]\n",
      " [0 1 1 ... 1 1 1]\n",
      " [0 1 1 ... 1 1 1]\n",
      " ...\n",
      " [0 1 1 ... 1 1 1]\n",
      " [0 1 0 ... 1 1 1]\n",
      " [0 0 0 ... 0 0 0]]\n",
      "2020-12-17 19:27:56,909 [DEBUG] kashgari - predict seq_length: None, input: (2, 244, 27)\n"
     ]
    },
    {
     "name": "stdout",
     "output_type": "stream",
     "text": [
      "8/8 [==============================] - 0s 34ms/step\n"
     ]
    },
    {
     "name": "stderr",
     "output_type": "stream",
     "text": [
      "2020-12-17 19:27:57,243 [DEBUG] kashgari - predict output: (244, 27)\n",
      "2020-12-17 19:27:57,244 [DEBUG] kashgari - predict output argmax: [[0 1 1 ... 1 1 1]\n",
      " [0 1 1 ... 1 1 1]\n",
      " [0 1 1 ... 1 1 1]\n",
      " ...\n",
      " [0 1 1 ... 1 1 1]\n",
      " [0 1 1 ... 1 1 1]\n",
      " [0 0 0 ... 0 0 0]]\n",
      "2020-12-17 19:27:57,246 [DEBUG] kashgari - predict seq_length: None, input: (2, 91, 46)\n"
     ]
    },
    {
     "name": "stdout",
     "output_type": "stream",
     "text": [
      "3/3 [==============================] - 0s 40ms/step\n"
     ]
    },
    {
     "name": "stderr",
     "output_type": "stream",
     "text": [
      "2020-12-17 19:27:57,453 [DEBUG] kashgari - predict output: (91, 46)\n",
      "2020-12-17 19:27:57,454 [DEBUG] kashgari - predict output argmax: [[0 1 1 ... 1 1 1]\n",
      " [0 1 1 ... 1 1 1]\n",
      " [0 1 1 ... 1 1 1]\n",
      " ...\n",
      " [0 1 1 ... 1 1 1]\n",
      " [0 1 1 ... 1 1 1]\n",
      " [0 0 0 ... 0 0 0]]\n",
      "2020-12-17 19:27:57,457 [DEBUG] kashgari - predict seq_length: None, input: (2, 223, 42)\n"
     ]
    },
    {
     "name": "stdout",
     "output_type": "stream",
     "text": [
      "7/7 [==============================] - 0s 46ms/step\n"
     ]
    },
    {
     "name": "stderr",
     "output_type": "stream",
     "text": [
      "2020-12-17 19:27:57,856 [DEBUG] kashgari - predict output: (223, 42)\n",
      "2020-12-17 19:27:57,857 [DEBUG] kashgari - predict output argmax: [[0 1 1 ... 1 1 1]\n",
      " [0 1 1 ... 1 1 1]\n",
      " [0 1 0 ... 1 1 1]\n",
      " ...\n",
      " [0 1 1 ... 1 1 1]\n",
      " [0 1 1 ... 1 1 1]\n",
      " [0 0 0 ... 0 0 0]]\n",
      "2020-12-17 19:27:57,859 [DEBUG] kashgari - predict seq_length: None, input: (2, 146, 25)\n"
     ]
    },
    {
     "name": "stdout",
     "output_type": "stream",
     "text": [
      "5/5 [==============================] - 0s 29ms/step\n"
     ]
    },
    {
     "name": "stderr",
     "output_type": "stream",
     "text": [
      "2020-12-17 19:27:58,067 [DEBUG] kashgari - predict output: (146, 25)\n",
      "2020-12-17 19:27:58,068 [DEBUG] kashgari - predict output argmax: [[0 1 1 ... 1 1 1]\n",
      " [0 1 1 ... 1 1 1]\n",
      " [0 1 1 ... 1 1 1]\n",
      " ...\n",
      " [0 1 1 ... 1 1 1]\n",
      " [0 1 1 ... 1 1 1]\n",
      " [0 0 0 ... 0 0 0]]\n",
      "2020-12-17 19:27:58,071 [DEBUG] kashgari - predict seq_length: None, input: (2, 162, 23)\n"
     ]
    },
    {
     "name": "stdout",
     "output_type": "stream",
     "text": [
      "6/6 [==============================] - 0s 29ms/step\n"
     ]
    },
    {
     "name": "stderr",
     "output_type": "stream",
     "text": [
      "2020-12-17 19:27:58,309 [DEBUG] kashgari - predict output: (162, 23)\n",
      "2020-12-17 19:27:58,309 [DEBUG] kashgari - predict output argmax: [[0 1 1 ... 1 1 1]\n",
      " [0 1 1 ... 1 1 1]\n",
      " [0 1 1 ... 1 1 1]\n",
      " ...\n",
      " [0 1 1 ... 1 1 1]\n",
      " [0 1 1 ... 1 1 1]\n",
      " [0 0 0 ... 0 0 0]]\n",
      "2020-12-17 19:27:58,313 [DEBUG] kashgari - predict seq_length: None, input: (2, 244, 27)\n"
     ]
    },
    {
     "name": "stdout",
     "output_type": "stream",
     "text": [
      "8/8 [==============================] - 0s 35ms/step\n"
     ]
    },
    {
     "name": "stderr",
     "output_type": "stream",
     "text": [
      "2020-12-17 19:27:58,655 [DEBUG] kashgari - predict output: (244, 27)\n",
      "2020-12-17 19:27:58,655 [DEBUG] kashgari - predict output argmax: [[ 0  1  1 ...  1  1  1]\n",
      " [ 0 18 14 ... 14 14 14]\n",
      " [ 0  1  1 ...  1  1  1]\n",
      " ...\n",
      " [ 0  1  1 ...  1  1  1]\n",
      " [ 0  1  1 ...  0  1  1]\n",
      " [ 0  0  0 ...  0  0  0]]\n",
      "2020-12-17 19:27:58,658 [DEBUG] kashgari - predict seq_length: None, input: (2, 170, 18)\n"
     ]
    },
    {
     "name": "stdout",
     "output_type": "stream",
     "text": [
      "6/6 [==============================] - 0s 28ms/step\n"
     ]
    },
    {
     "name": "stderr",
     "output_type": "stream",
     "text": [
      "2020-12-17 19:28:02,783 [DEBUG] kashgari - predict output: (170, 18)\n",
      "2020-12-17 19:28:02,784 [DEBUG] kashgari - predict output argmax: [[0 1 1 ... 0 1 1]\n",
      " [0 1 1 ... 1 1 1]\n",
      " [0 1 1 ... 1 1 1]\n",
      " ...\n",
      " [0 1 1 ... 1 1 1]\n",
      " [0 1 1 ... 1 1 1]\n",
      " [0 0 0 ... 0 0 0]]\n",
      "2020-12-17 19:28:02,788 [DEBUG] kashgari - predict seq_length: None, input: (2, 199, 36)\n"
     ]
    },
    {
     "name": "stdout",
     "output_type": "stream",
     "text": [
      "7/7 [==============================] - 0s 39ms/step\n"
     ]
    },
    {
     "name": "stderr",
     "output_type": "stream",
     "text": [
      "2020-12-17 19:28:03,145 [DEBUG] kashgari - predict output: (199, 36)\n",
      "2020-12-17 19:28:03,146 [DEBUG] kashgari - predict output argmax: [[0 1 1 ... 1 1 1]\n",
      " [0 1 1 ... 1 1 1]\n",
      " [0 1 1 ... 1 1 1]\n",
      " ...\n",
      " [0 1 1 ... 1 1 1]\n",
      " [0 1 1 ... 1 1 1]\n",
      " [0 0 0 ... 0 0 0]]\n",
      "2020-12-17 19:28:03,152 [DEBUG] kashgari - predict seq_length: None, input: (2, 557, 17)\n"
     ]
    },
    {
     "name": "stdout",
     "output_type": "stream",
     "text": [
      "18/18 [==============================] - 1s 30ms/step\n"
     ]
    },
    {
     "name": "stderr",
     "output_type": "stream",
     "text": [
      "2020-12-17 19:28:03,750 [DEBUG] kashgari - predict output: (557, 17)\n",
      "2020-12-17 19:28:03,751 [DEBUG] kashgari - predict output argmax: [[ 0  1  1 ...  1  1  1]\n",
      " [ 0  1  0 ...  1  1  1]\n",
      " [ 0 18 14 ... 14 14 14]\n",
      " ...\n",
      " [ 0  1  1 ...  1  1  1]\n",
      " [ 0  1  1 ...  1  1  1]\n",
      " [ 0  0  0 ...  0  0  0]]\n",
      "2020-12-17 19:28:03,754 [DEBUG] kashgari - predict seq_length: None, input: (2, 278, 42)\n"
     ]
    },
    {
     "name": "stdout",
     "output_type": "stream",
     "text": [
      "9/9 [==============================] - 0s 48ms/step\n"
     ]
    },
    {
     "name": "stderr",
     "output_type": "stream",
     "text": [
      "2020-12-17 19:28:04,262 [DEBUG] kashgari - predict output: (278, 42)\n",
      "2020-12-17 19:28:04,263 [DEBUG] kashgari - predict output argmax: [[0 1 1 ... 1 1 1]\n",
      " [0 1 1 ... 1 1 1]\n",
      " [0 1 1 ... 1 1 1]\n",
      " ...\n",
      " [0 1 0 ... 1 1 1]\n",
      " [0 1 1 ... 1 1 1]\n",
      " [0 0 0 ... 0 0 0]]\n",
      "2020-12-17 19:28:04,265 [DEBUG] kashgari - predict seq_length: None, input: (2, 91, 19)\n"
     ]
    },
    {
     "name": "stdout",
     "output_type": "stream",
     "text": [
      "3/3 [==============================] - 0s 21ms/step\n"
     ]
    },
    {
     "name": "stderr",
     "output_type": "stream",
     "text": [
      "2020-12-17 19:28:04,383 [DEBUG] kashgari - predict output: (91, 19)\n",
      "2020-12-17 19:28:04,384 [DEBUG] kashgari - predict output argmax: [[0 1 1 ... 1 1 1]\n",
      " [0 1 1 ... 1 1 1]\n",
      " [0 1 1 ... 1 1 1]\n",
      " ...\n",
      " [0 1 0 ... 1 1 1]\n",
      " [0 1 1 ... 1 1 1]\n",
      " [0 0 0 ... 0 0 0]]\n",
      "2020-12-17 19:28:04,389 [DEBUG] kashgari - predict seq_length: None, input: (2, 296, 24)\n"
     ]
    },
    {
     "name": "stdout",
     "output_type": "stream",
     "text": [
      "10/10 [==============================] - 0s 35ms/step\n"
     ]
    },
    {
     "name": "stderr",
     "output_type": "stream",
     "text": [
      "2020-12-17 19:28:04,798 [DEBUG] kashgari - predict output: (296, 24)\n",
      "2020-12-17 19:28:04,799 [DEBUG] kashgari - predict output argmax: [[0 1 1 ... 1 1 1]\n",
      " [0 1 1 ... 1 1 1]\n",
      " [0 1 1 ... 1 1 1]\n",
      " ...\n",
      " [0 1 1 ... 1 1 1]\n",
      " [0 1 1 ... 1 1 1]\n",
      " [0 0 0 ... 0 0 0]]\n",
      "2020-12-17 19:28:04,802 [DEBUG] kashgari - predict seq_length: None, input: (2, 154, 48)\n"
     ]
    },
    {
     "name": "stdout",
     "output_type": "stream",
     "text": [
      "5/5 [==============================] - 0s 54ms/step\n"
     ]
    },
    {
     "name": "stderr",
     "output_type": "stream",
     "text": [
      "2020-12-17 19:28:08,211 [DEBUG] kashgari - predict output: (154, 48)\n",
      "2020-12-17 19:28:08,212 [DEBUG] kashgari - predict output argmax: [[0 1 1 ... 1 1 1]\n",
      " [0 1 1 ... 1 1 1]\n",
      " [0 1 1 ... 1 1 1]\n",
      " ...\n",
      " [0 1 1 ... 1 1 1]\n",
      " [0 1 1 ... 1 1 1]\n",
      " [0 0 0 ... 0 0 0]]\n",
      "2020-12-17 19:28:08,217 [DEBUG] kashgari - predict seq_length: None, input: (2, 206, 37)\n"
     ]
    },
    {
     "name": "stdout",
     "output_type": "stream",
     "text": [
      "7/7 [==============================] - 0s 47ms/step\n"
     ]
    },
    {
     "name": "stderr",
     "output_type": "stream",
     "text": [
      "2020-12-17 19:28:11,719 [DEBUG] kashgari - predict output: (206, 37)\n",
      "2020-12-17 19:28:11,720 [DEBUG] kashgari - predict output argmax: [[ 0  1  1 ...  1  1  1]\n",
      " [ 0  1  1 ...  1  1  1]\n",
      " [ 0  1  1 ...  1  1  1]\n",
      " ...\n",
      " [ 0  1  1 ...  1  1  1]\n",
      " [ 0  1 18 ...  1  1  1]\n",
      " [ 0  0  0 ...  0  0  0]]\n",
      "2020-12-17 19:28:11,724 [DEBUG] kashgari - predict seq_length: None, input: (2, 241, 20)\n"
     ]
    },
    {
     "name": "stdout",
     "output_type": "stream",
     "text": [
      "8/8 [==============================] - 0s 30ms/step\n"
     ]
    },
    {
     "name": "stderr",
     "output_type": "stream",
     "text": [
      "2020-12-17 19:28:12,019 [DEBUG] kashgari - predict output: (241, 20)\n",
      "2020-12-17 19:28:12,020 [DEBUG] kashgari - predict output argmax: [[0 1 1 ... 1 1 1]\n",
      " [0 1 1 ... 1 1 1]\n",
      " [0 1 0 ... 1 1 1]\n",
      " ...\n",
      " [0 1 1 ... 1 1 1]\n",
      " [0 1 1 ... 1 1 1]\n",
      " [0 0 0 ... 0 0 0]]\n",
      "2020-12-17 19:28:12,026 [DEBUG] kashgari - predict seq_length: None, input: (2, 459, 31)\n"
     ]
    },
    {
     "name": "stdout",
     "output_type": "stream",
     "text": [
      "15/15 [==============================] - 1s 40ms/step\n"
     ]
    },
    {
     "name": "stderr",
     "output_type": "stream",
     "text": [
      "2020-12-17 19:28:12,711 [DEBUG] kashgari - predict output: (459, 31)\n",
      "2020-12-17 19:28:12,712 [DEBUG] kashgari - predict output argmax: [[0 1 1 ... 1 1 1]\n",
      " [0 1 1 ... 1 1 1]\n",
      " [0 1 1 ... 1 1 1]\n",
      " ...\n",
      " [0 1 1 ... 1 1 1]\n",
      " [0 1 1 ... 1 1 1]\n",
      " [0 0 0 ... 0 0 0]]\n",
      "2020-12-17 19:28:12,715 [DEBUG] kashgari - predict seq_length: None, input: (2, 223, 34)\n"
     ]
    },
    {
     "name": "stdout",
     "output_type": "stream",
     "text": [
      "7/7 [==============================] - 0s 40ms/step\n"
     ]
    },
    {
     "name": "stderr",
     "output_type": "stream",
     "text": [
      "2020-12-17 19:28:13,061 [DEBUG] kashgari - predict output: (223, 34)\n",
      "2020-12-17 19:28:13,062 [DEBUG] kashgari - predict output argmax: [[0 1 1 ... 1 1 1]\n",
      " [0 1 1 ... 1 1 1]\n",
      " [0 1 1 ... 1 1 1]\n",
      " ...\n",
      " [0 1 1 ... 1 1 1]\n",
      " [0 1 1 ... 1 1 1]\n",
      " [0 0 0 ... 0 0 0]]\n",
      "2020-12-17 19:28:13,070 [DEBUG] kashgari - predict seq_length: None, input: (2, 358, 26)\n"
     ]
    },
    {
     "name": "stdout",
     "output_type": "stream",
     "text": [
      "12/12 [==============================] - 0s 36ms/step\n"
     ]
    },
    {
     "name": "stderr",
     "output_type": "stream",
     "text": [
      "2020-12-17 19:28:13,574 [DEBUG] kashgari - predict output: (358, 26)\n",
      "2020-12-17 19:28:13,574 [DEBUG] kashgari - predict output argmax: [[0 1 1 ... 1 1 1]\n",
      " [0 1 1 ... 1 1 1]\n",
      " [0 1 0 ... 1 1 1]\n",
      " ...\n",
      " [0 1 1 ... 1 1 1]\n",
      " [0 1 1 ... 1 1 1]\n",
      " [0 0 0 ... 0 0 0]]\n",
      "2020-12-17 19:28:13,576 [DEBUG] kashgari - predict seq_length: None, input: (2, 72, 20)\n"
     ]
    },
    {
     "name": "stdout",
     "output_type": "stream",
     "text": [
      "3/3 [==============================] - 0s 20ms/step\n"
     ]
    },
    {
     "name": "stderr",
     "output_type": "stream",
     "text": [
      "2020-12-17 19:28:13,695 [DEBUG] kashgari - predict output: (72, 20)\n",
      "2020-12-17 19:28:13,696 [DEBUG] kashgari - predict output argmax: [[0 1 1 ... 1 1 1]\n",
      " [0 1 1 ... 1 1 1]\n",
      " [0 1 1 ... 1 1 1]\n",
      " ...\n",
      " [0 1 1 ... 1 1 1]\n",
      " [0 1 1 ... 1 1 1]\n",
      " [0 0 0 ... 0 0 0]]\n",
      "2020-12-17 19:28:13,698 [DEBUG] kashgari - predict seq_length: None, input: (2, 75, 24)\n"
     ]
    },
    {
     "name": "stdout",
     "output_type": "stream",
     "text": [
      "3/3 [==============================] - 0s 23ms/step\n"
     ]
    },
    {
     "name": "stderr",
     "output_type": "stream",
     "text": [
      "2020-12-17 19:28:13,832 [DEBUG] kashgari - predict output: (75, 24)\n",
      "2020-12-17 19:28:13,833 [DEBUG] kashgari - predict output argmax: [[0 1 1 ... 1 1 1]\n",
      " [0 1 1 ... 1 1 1]\n",
      " [0 1 1 ... 1 1 1]\n",
      " ...\n",
      " [0 1 1 ... 1 1 1]\n",
      " [0 1 1 ... 1 1 1]\n",
      " [0 0 0 ... 0 0 0]]\n",
      "2020-12-17 19:28:13,837 [DEBUG] kashgari - predict seq_length: None, input: (2, 191, 36)\n"
     ]
    },
    {
     "name": "stdout",
     "output_type": "stream",
     "text": [
      "6/6 [==============================] - 0s 42ms/step\n"
     ]
    },
    {
     "name": "stderr",
     "output_type": "stream",
     "text": [
      "2020-12-17 19:28:14,168 [DEBUG] kashgari - predict output: (191, 36)\n",
      "2020-12-17 19:28:14,169 [DEBUG] kashgari - predict output argmax: [[0 1 1 ... 1 1 1]\n",
      " [0 1 1 ... 1 1 1]\n",
      " [0 1 1 ... 1 1 1]\n",
      " ...\n",
      " [0 1 1 ... 1 1 1]\n",
      " [0 1 1 ... 1 1 1]\n",
      " [0 0 0 ... 0 0 0]]\n",
      "2020-12-17 19:28:14,171 [DEBUG] kashgari - predict seq_length: None, input: (2, 149, 19)\n"
     ]
    },
    {
     "name": "stdout",
     "output_type": "stream",
     "text": [
      "5/5 [==============================] - 0s 27ms/step\n"
     ]
    },
    {
     "name": "stderr",
     "output_type": "stream",
     "text": [
      "2020-12-17 19:28:14,358 [DEBUG] kashgari - predict output: (149, 19)\n",
      "2020-12-17 19:28:14,359 [DEBUG] kashgari - predict output argmax: [[ 0  1  1 ... 14 14 14]\n",
      " [ 0  1  1 ...  8  8  8]\n",
      " [ 0  1  1 ...  1  1  1]\n",
      " ...\n",
      " [ 0  1  1 ...  1  1  1]\n",
      " [ 0  1  1 ...  1  1  1]\n",
      " [ 0  0  0 ...  0  0  0]]\n",
      "2020-12-17 19:28:14,362 [DEBUG] kashgari - predict seq_length: None, input: (2, 176, 22)\n"
     ]
    },
    {
     "name": "stdout",
     "output_type": "stream",
     "text": [
      "6/6 [==============================] - 0s 30ms/step\n"
     ]
    },
    {
     "name": "stderr",
     "output_type": "stream",
     "text": [
      "2020-12-17 19:28:14,599 [DEBUG] kashgari - predict output: (176, 22)\n",
      "2020-12-17 19:28:14,600 [DEBUG] kashgari - predict output argmax: [[ 0  1  1 ...  1  1  1]\n",
      " [ 0  1  1 ...  1  1  1]\n",
      " [ 0  1  1 ...  1  1  1]\n",
      " ...\n",
      " [ 0 20  7 ...  7  7  7]\n",
      " [ 0  1  1 ...  1  1  1]\n",
      " [ 0  0  0 ...  0  0  0]]\n",
      "2020-12-17 19:28:14,603 [DEBUG] kashgari - predict seq_length: None, input: (2, 112, 45)\n"
     ]
    },
    {
     "name": "stdout",
     "output_type": "stream",
     "text": [
      "4/4 [==============================] - 0s 48ms/step\n"
     ]
    },
    {
     "name": "stderr",
     "output_type": "stream",
     "text": [
      "2020-12-17 19:28:18,081 [DEBUG] kashgari - predict output: (112, 45)\n",
      "2020-12-17 19:28:18,082 [DEBUG] kashgari - predict output argmax: [[0 1 1 ... 8 8 8]\n",
      " [0 1 1 ... 1 1 1]\n",
      " [0 1 1 ... 1 1 1]\n",
      " ...\n",
      " [0 1 1 ... 1 1 1]\n",
      " [0 1 1 ... 1 1 1]\n",
      " [0 0 0 ... 0 0 0]]\n",
      "2020-12-17 19:28:18,087 [DEBUG] kashgari - predict seq_length: None, input: (2, 269, 21)\n"
     ]
    },
    {
     "name": "stdout",
     "output_type": "stream",
     "text": [
      "9/9 [==============================] - 0s 31ms/step\n"
     ]
    },
    {
     "name": "stderr",
     "output_type": "stream",
     "text": [
      "2020-12-17 19:28:18,425 [DEBUG] kashgari - predict output: (269, 21)\n",
      "2020-12-17 19:28:18,426 [DEBUG] kashgari - predict output argmax: [[0 1 1 ... 1 1 1]\n",
      " [0 1 1 ... 1 1 1]\n",
      " [0 1 1 ... 1 1 1]\n",
      " ...\n",
      " [0 1 1 ... 1 1 1]\n",
      " [0 1 1 ... 1 1 1]\n",
      " [0 0 0 ... 0 0 0]]\n",
      "2020-12-17 19:28:18,428 [DEBUG] kashgari - predict seq_length: None, input: (2, 112, 18)\n"
     ]
    },
    {
     "name": "stdout",
     "output_type": "stream",
     "text": [
      "4/4 [==============================] - 0s 23ms/step\n"
     ]
    },
    {
     "name": "stderr",
     "output_type": "stream",
     "text": [
      "2020-12-17 19:28:18,574 [DEBUG] kashgari - predict output: (112, 18)\n",
      "2020-12-17 19:28:18,575 [DEBUG] kashgari - predict output argmax: [[0 1 1 ... 1 1 1]\n",
      " [0 1 1 ... 1 1 1]\n",
      " [0 1 1 ... 1 1 1]\n",
      " ...\n",
      " [0 1 1 ... 1 1 1]\n",
      " [0 1 4 ... 1 1 1]\n",
      " [0 0 0 ... 0 0 0]]\n",
      "2020-12-17 19:28:18,581 [DEBUG] kashgari - predict seq_length: None, input: (2, 352, 22)\n"
     ]
    },
    {
     "name": "stdout",
     "output_type": "stream",
     "text": [
      "11/11 [==============================] - 0s 27ms/step\n"
     ]
    },
    {
     "name": "stderr",
     "output_type": "stream",
     "text": [
      "2020-12-17 19:28:21,126 [DEBUG] kashgari - predict output: (352, 22)\n",
      "2020-12-17 19:28:21,127 [DEBUG] kashgari - predict output argmax: [[0 1 1 ... 1 1 1]\n",
      " [0 1 1 ... 1 1 1]\n",
      " [0 1 1 ... 1 1 1]\n",
      " ...\n",
      " [0 1 1 ... 1 1 1]\n",
      " [0 1 1 ... 1 1 1]\n",
      " [0 0 0 ... 0 0 0]]\n",
      "2020-12-17 19:28:21,130 [DEBUG] kashgari - predict seq_length: None, input: (2, 243, 24)\n"
     ]
    },
    {
     "name": "stdout",
     "output_type": "stream",
     "text": [
      "8/8 [==============================] - 0s 33ms/step\n"
     ]
    },
    {
     "name": "stderr",
     "output_type": "stream",
     "text": [
      "2020-12-17 19:28:21,454 [DEBUG] kashgari - predict output: (243, 24)\n",
      "2020-12-17 19:28:21,455 [DEBUG] kashgari - predict output argmax: [[ 0  1  1 ...  1  1  1]\n",
      " [ 0  1  1 ...  1  1  1]\n",
      " [ 0  1  1 ...  1  1  1]\n",
      " ...\n",
      " [ 0  1  1 ...  1  1  1]\n",
      " [ 0 12  6 ...  6  6  6]\n",
      " [ 0  0  0 ...  0  0  0]]\n",
      "2020-12-17 19:28:21,458 [DEBUG] kashgari - predict seq_length: None, input: (2, 340, 27)\n"
     ]
    },
    {
     "name": "stdout",
     "output_type": "stream",
     "text": [
      "11/11 [==============================] - 0s 36ms/step\n"
     ]
    },
    {
     "name": "stderr",
     "output_type": "stream",
     "text": [
      "2020-12-17 19:28:21,917 [DEBUG] kashgari - predict output: (340, 27)\n",
      "2020-12-17 19:28:21,918 [DEBUG] kashgari - predict output argmax: [[0 1 1 ... 1 1 1]\n",
      " [0 1 1 ... 1 1 1]\n",
      " [0 1 1 ... 1 1 1]\n",
      " ...\n",
      " [0 1 1 ... 1 1 1]\n",
      " [0 1 1 ... 1 1 1]\n",
      " [0 0 0 ... 0 0 0]]\n",
      "2020-12-17 19:28:21,922 [DEBUG] kashgari - predict seq_length: None, input: (2, 384, 25)\n"
     ]
    },
    {
     "name": "stdout",
     "output_type": "stream",
     "text": [
      "12/12 [==============================] - 0s 30ms/step\n"
     ]
    },
    {
     "name": "stderr",
     "output_type": "stream",
     "text": [
      "2020-12-17 19:28:24,435 [DEBUG] kashgari - predict output: (384, 25)\n",
      "2020-12-17 19:28:24,436 [DEBUG] kashgari - predict output argmax: [[0 1 1 ... 1 1 1]\n",
      " [0 1 1 ... 1 1 1]\n",
      " [0 1 1 ... 1 1 1]\n",
      " ...\n",
      " [0 1 1 ... 1 1 1]\n",
      " [0 1 1 ... 1 1 1]\n",
      " [0 0 0 ... 0 0 0]]\n",
      "2020-12-17 19:28:24,438 [DEBUG] kashgari - predict seq_length: None, input: (2, 112, 36)\n"
     ]
    },
    {
     "name": "stdout",
     "output_type": "stream",
     "text": [
      "4/4 [==============================] - 0s 34ms/step\n"
     ]
    },
    {
     "name": "stderr",
     "output_type": "stream",
     "text": [
      "2020-12-17 19:28:24,640 [DEBUG] kashgari - predict output: (112, 36)\n",
      "2020-12-17 19:28:24,641 [DEBUG] kashgari - predict output argmax: [[0 1 1 ... 1 1 1]\n",
      " [0 1 1 ... 1 1 1]\n",
      " [0 1 1 ... 1 1 1]\n",
      " ...\n",
      " [0 1 1 ... 1 1 1]\n",
      " [0 1 0 ... 1 1 1]\n",
      " [0 0 0 ... 0 0 0]]\n",
      "2020-12-17 19:28:24,643 [DEBUG] kashgari - predict seq_length: None, input: (2, 222, 28)\n"
     ]
    },
    {
     "name": "stdout",
     "output_type": "stream",
     "text": [
      "7/7 [==============================] - 0s 35ms/step\n"
     ]
    },
    {
     "name": "stderr",
     "output_type": "stream",
     "text": [
      "2020-12-17 19:28:24,960 [DEBUG] kashgari - predict output: (222, 28)\n",
      "2020-12-17 19:28:24,961 [DEBUG] kashgari - predict output argmax: [[0 1 1 ... 1 1 1]\n",
      " [0 1 1 ... 1 1 1]\n",
      " [0 1 1 ... 1 1 1]\n",
      " ...\n",
      " [0 1 1 ... 1 1 1]\n",
      " [0 1 1 ... 1 1 1]\n",
      " [0 0 0 ... 0 0 0]]\n",
      "2020-12-17 19:28:24,964 [DEBUG] kashgari - predict seq_length: None, input: (2, 255, 34)\n"
     ]
    },
    {
     "name": "stdout",
     "output_type": "stream",
     "text": [
      "8/8 [==============================] - 0s 42ms/step\n"
     ]
    },
    {
     "name": "stderr",
     "output_type": "stream",
     "text": [
      "2020-12-17 19:28:25,368 [DEBUG] kashgari - predict output: (255, 34)\n",
      "2020-12-17 19:28:25,369 [DEBUG] kashgari - predict output argmax: [[0 1 1 ... 1 1 1]\n",
      " [0 1 1 ... 1 1 1]\n",
      " [0 1 1 ... 1 1 1]\n",
      " ...\n",
      " [0 1 1 ... 1 1 1]\n",
      " [0 1 1 ... 1 1 1]\n",
      " [0 0 0 ... 0 0 0]]\n",
      "2020-12-17 19:28:25,370 [DEBUG] kashgari - predict seq_length: None, input: (2, 67, 25)\n"
     ]
    },
    {
     "name": "stdout",
     "output_type": "stream",
     "text": [
      "3/3 [==============================] - 0s 21ms/step\n"
     ]
    },
    {
     "name": "stderr",
     "output_type": "stream",
     "text": [
      "2020-12-17 19:28:25,489 [DEBUG] kashgari - predict output: (67, 25)\n",
      "2020-12-17 19:28:25,490 [DEBUG] kashgari - predict output argmax: [[0 1 1 ... 1 1 1]\n",
      " [0 1 1 ... 1 1 1]\n",
      " [0 1 1 ... 1 1 1]\n",
      " ...\n",
      " [0 1 1 ... 1 1 1]\n",
      " [0 1 1 ... 1 1 1]\n",
      " [0 0 0 ... 0 0 0]]\n",
      "2020-12-17 19:28:25,491 [DEBUG] kashgari - predict seq_length: None, input: (2, 77, 53)\n"
     ]
    },
    {
     "name": "stdout",
     "output_type": "stream",
     "text": [
      "3/3 [==============================] - 0s 36ms/step\n"
     ]
    },
    {
     "name": "stderr",
     "output_type": "stream",
     "text": [
      "2020-12-17 19:28:25,685 [DEBUG] kashgari - predict output: (77, 53)\n",
      "2020-12-17 19:28:25,685 [DEBUG] kashgari - predict output argmax: [[0 1 1 ... 1 1 1]\n",
      " [0 1 1 ... 1 1 1]\n",
      " [0 1 1 ... 1 1 1]\n",
      " ...\n",
      " [0 1 1 ... 1 1 1]\n",
      " [0 1 1 ... 1 1 1]\n",
      " [0 0 0 ... 0 0 0]]\n",
      "2020-12-17 19:28:25,686 [DEBUG] kashgari - predict seq_length: None, input: (2, 67, 27)\n"
     ]
    },
    {
     "name": "stdout",
     "output_type": "stream",
     "text": [
      "3/3 [==============================] - 0s 24ms/step\n"
     ]
    },
    {
     "name": "stderr",
     "output_type": "stream",
     "text": [
      "2020-12-17 19:28:25,812 [DEBUG] kashgari - predict output: (67, 27)\n",
      "2020-12-17 19:28:25,813 [DEBUG] kashgari - predict output argmax: [[0 1 1 ... 1 1 1]\n",
      " [0 1 1 ... 1 1 1]\n",
      " [0 1 1 ... 1 1 1]\n",
      " ...\n",
      " [0 1 1 ... 7 7 7]\n",
      " [0 1 1 ... 1 1 1]\n",
      " [0 0 0 ... 0 0 0]]\n",
      "2020-12-17 19:28:25,814 [DEBUG] kashgari - predict seq_length: None, input: (2, 72, 19)\n"
     ]
    },
    {
     "name": "stdout",
     "output_type": "stream",
     "text": [
      "3/3 [==============================] - 0s 20ms/step\n"
     ]
    },
    {
     "name": "stderr",
     "output_type": "stream",
     "text": [
      "2020-12-17 19:28:25,925 [DEBUG] kashgari - predict output: (72, 19)\n",
      "2020-12-17 19:28:25,926 [DEBUG] kashgari - predict output argmax: [[0 1 1 ... 1 1 0]\n",
      " [0 1 1 ... 1 1 1]\n",
      " [0 1 1 ... 1 1 1]\n",
      " ...\n",
      " [0 1 1 ... 1 1 1]\n",
      " [0 1 1 ... 1 1 1]\n",
      " [0 0 0 ... 0 0 0]]\n",
      "2020-12-17 19:28:25,927 [DEBUG] kashgari - predict seq_length: None, input: (2, 98, 24)\n"
     ]
    },
    {
     "name": "stdout",
     "output_type": "stream",
     "text": [
      "4/4 [==============================] - 0s 26ms/step\n"
     ]
    },
    {
     "name": "stderr",
     "output_type": "stream",
     "text": [
      "2020-12-17 19:28:26,094 [DEBUG] kashgari - predict output: (98, 24)\n",
      "2020-12-17 19:28:26,094 [DEBUG] kashgari - predict output argmax: [[0 1 1 ... 1 1 1]\n",
      " [0 1 1 ... 1 1 1]\n",
      " [0 1 1 ... 1 1 1]\n",
      " ...\n",
      " [0 1 1 ... 1 1 1]\n",
      " [0 1 1 ... 1 1 1]\n",
      " [0 0 0 ... 0 0 0]]\n",
      "2020-12-17 19:28:26,096 [DEBUG] kashgari - predict seq_length: None, input: (2, 87, 37)\n"
     ]
    },
    {
     "name": "stdout",
     "output_type": "stream",
     "text": [
      "3/3 [==============================] - 0s 31ms/step\n"
     ]
    },
    {
     "name": "stderr",
     "output_type": "stream",
     "text": [
      "2020-12-17 19:28:26,262 [DEBUG] kashgari - predict output: (87, 37)\n",
      "2020-12-17 19:28:26,262 [DEBUG] kashgari - predict output argmax: [[0 1 1 ... 1 1 1]\n",
      " [0 1 1 ... 1 1 1]\n",
      " [0 1 1 ... 1 1 1]\n",
      " ...\n",
      " [0 1 1 ... 1 1 1]\n",
      " [0 1 1 ... 1 1 1]\n",
      " [0 0 0 ... 0 0 0]]\n",
      "2020-12-17 19:28:26,267 [DEBUG] kashgari - predict seq_length: None, input: (2, 311, 29)\n"
     ]
    },
    {
     "name": "stdout",
     "output_type": "stream",
     "text": [
      "10/10 [==============================] - 0s 38ms/step\n"
     ]
    },
    {
     "name": "stderr",
     "output_type": "stream",
     "text": [
      "2020-12-17 19:28:26,713 [DEBUG] kashgari - predict output: (311, 29)\n",
      "2020-12-17 19:28:26,714 [DEBUG] kashgari - predict output argmax: [[0 1 1 ... 1 1 1]\n",
      " [0 1 1 ... 1 1 1]\n",
      " [0 1 1 ... 1 1 1]\n",
      " ...\n",
      " [0 1 1 ... 1 1 1]\n",
      " [0 1 1 ... 1 1 1]\n",
      " [0 0 0 ... 0 0 0]]\n",
      "2020-12-17 19:28:26,721 [DEBUG] kashgari - predict seq_length: None, input: (2, 447, 20)\n"
     ]
    },
    {
     "name": "stdout",
     "output_type": "stream",
     "text": [
      "14/14 [==============================] - 0s 31ms/step\n"
     ]
    },
    {
     "name": "stderr",
     "output_type": "stream",
     "text": [
      "2020-12-17 19:28:27,214 [DEBUG] kashgari - predict output: (447, 20)\n",
      "2020-12-17 19:28:27,215 [DEBUG] kashgari - predict output argmax: [[0 1 1 ... 1 1 1]\n",
      " [0 1 1 ... 1 1 1]\n",
      " [0 1 1 ... 1 1 1]\n",
      " ...\n",
      " [0 1 1 ... 1 1 1]\n",
      " [0 1 0 ... 1 1 1]\n",
      " [0 0 0 ... 0 0 0]]\n",
      "2020-12-17 19:28:27,218 [DEBUG] kashgari - predict seq_length: None, input: (2, 218, 19)\n"
     ]
    },
    {
     "name": "stdout",
     "output_type": "stream",
     "text": [
      "7/7 [==============================] - 0s 28ms/step\n"
     ]
    },
    {
     "name": "stderr",
     "output_type": "stream",
     "text": [
      "2020-12-17 19:28:27,467 [DEBUG] kashgari - predict output: (218, 19)\n",
      "2020-12-17 19:28:27,468 [DEBUG] kashgari - predict output argmax: [[0 1 1 ... 1 1 1]\n",
      " [0 1 1 ... 1 1 1]\n",
      " [0 1 1 ... 1 1 1]\n",
      " ...\n",
      " [0 1 1 ... 1 1 1]\n",
      " [0 1 1 ... 1 1 1]\n",
      " [0 0 0 ... 0 0 0]]\n",
      "2020-12-17 19:28:27,472 [DEBUG] kashgari - predict seq_length: None, input: (2, 285, 30)\n"
     ]
    },
    {
     "name": "stdout",
     "output_type": "stream",
     "text": [
      "9/9 [==============================] - 0s 37ms/step\n"
     ]
    },
    {
     "name": "stderr",
     "output_type": "stream",
     "text": [
      "2020-12-17 19:28:27,867 [DEBUG] kashgari - predict output: (285, 30)\n",
      "2020-12-17 19:28:27,868 [DEBUG] kashgari - predict output argmax: [[0 1 1 ... 8 8 8]\n",
      " [0 1 1 ... 8 8 8]\n",
      " [0 1 1 ... 1 1 1]\n",
      " ...\n",
      " [0 1 1 ... 1 1 1]\n",
      " [0 1 1 ... 1 1 1]\n",
      " [0 0 0 ... 0 0 0]]\n",
      "2020-12-17 19:28:27,872 [DEBUG] kashgari - predict seq_length: None, input: (2, 424, 21)\n"
     ]
    },
    {
     "name": "stdout",
     "output_type": "stream",
     "text": [
      "14/14 [==============================] - 0s 32ms/step\n"
     ]
    },
    {
     "name": "stderr",
     "output_type": "stream",
     "text": [
      "2020-12-17 19:28:28,376 [DEBUG] kashgari - predict output: (424, 21)\n",
      "2020-12-17 19:28:28,377 [DEBUG] kashgari - predict output argmax: [[0 1 1 ... 1 1 1]\n",
      " [0 1 1 ... 1 1 1]\n",
      " [0 1 1 ... 1 1 1]\n",
      " ...\n",
      " [0 1 1 ... 1 1 1]\n",
      " [0 1 1 ... 1 1 1]\n",
      " [0 0 0 ... 0 0 0]]\n",
      "2020-12-17 19:28:28,379 [DEBUG] kashgari - predict seq_length: None, input: (2, 94, 30)\n"
     ]
    },
    {
     "name": "stdout",
     "output_type": "stream",
     "text": [
      "3/3 [==============================] - 0s 28ms/step\n"
     ]
    },
    {
     "name": "stderr",
     "output_type": "stream",
     "text": [
      "2020-12-17 19:28:28,525 [DEBUG] kashgari - predict output: (94, 30)\n",
      "2020-12-17 19:28:28,526 [DEBUG] kashgari - predict output argmax: [[0 1 1 ... 1 1 1]\n",
      " [0 1 1 ... 1 1 1]\n",
      " [0 1 1 ... 1 1 1]\n",
      " ...\n",
      " [0 1 1 ... 1 1 1]\n",
      " [0 1 1 ... 1 1 1]\n",
      " [0 0 0 ... 0 0 0]]\n",
      "2020-12-17 19:28:28,530 [DEBUG] kashgari - predict seq_length: None, input: (2, 202, 34)\n"
     ]
    },
    {
     "name": "stdout",
     "output_type": "stream",
     "text": [
      "7/7 [==============================] - 0s 38ms/step\n"
     ]
    },
    {
     "name": "stderr",
     "output_type": "stream",
     "text": [
      "2020-12-17 19:28:28,869 [DEBUG] kashgari - predict output: (202, 34)\n",
      "2020-12-17 19:28:28,869 [DEBUG] kashgari - predict output argmax: [[0 1 1 ... 1 1 1]\n",
      " [0 1 1 ... 1 1 1]\n",
      " [0 1 1 ... 1 1 1]\n",
      " ...\n",
      " [0 1 1 ... 1 1 1]\n",
      " [0 1 1 ... 1 1 1]\n",
      " [0 0 0 ... 0 0 0]]\n",
      "2020-12-17 19:28:28,871 [DEBUG] kashgari - predict seq_length: None, input: (2, 242, 50)\n"
     ]
    },
    {
     "name": "stdout",
     "output_type": "stream",
     "text": [
      "8/8 [==============================] - 0s 59ms/step\n"
     ]
    },
    {
     "name": "stderr",
     "output_type": "stream",
     "text": [
      "2020-12-17 19:28:32,409 [DEBUG] kashgari - predict output: (242, 50)\n",
      "2020-12-17 19:28:32,410 [DEBUG] kashgari - predict output argmax: [[0 1 1 ... 1 1 1]\n",
      " [0 1 1 ... 1 1 1]\n",
      " [0 1 1 ... 1 1 1]\n",
      " ...\n",
      " [0 1 1 ... 1 1 1]\n",
      " [0 1 1 ... 1 1 1]\n",
      " [0 1 1 ... 1 1 1]]\n",
      "2020-12-17 19:28:32,413 [DEBUG] kashgari - predict seq_length: None, input: (2, 269, 38)\n"
     ]
    },
    {
     "name": "stdout",
     "output_type": "stream",
     "text": [
      "9/9 [==============================] - 0s 45ms/step\n"
     ]
    },
    {
     "name": "stderr",
     "output_type": "stream",
     "text": [
      "2020-12-17 19:28:32,891 [DEBUG] kashgari - predict output: (269, 38)\n",
      "2020-12-17 19:28:32,892 [DEBUG] kashgari - predict output argmax: [[0 1 1 ... 1 1 1]\n",
      " [0 1 1 ... 1 1 1]\n",
      " [0 1 1 ... 1 1 1]\n",
      " ...\n",
      " [0 1 1 ... 1 1 1]\n",
      " [0 1 1 ... 1 1 1]\n",
      " [0 0 0 ... 0 0 0]]\n",
      "2020-12-17 19:28:32,894 [DEBUG] kashgari - predict seq_length: None, input: (2, 108, 35)\n"
     ]
    },
    {
     "name": "stdout",
     "output_type": "stream",
     "text": [
      "4/4 [==============================] - 0s 35ms/step\n"
     ]
    },
    {
     "name": "stderr",
     "output_type": "stream",
     "text": [
      "2020-12-17 19:28:36,155 [DEBUG] kashgari - predict output: (108, 35)\n",
      "2020-12-17 19:28:36,156 [DEBUG] kashgari - predict output argmax: [[0 1 1 ... 1 1 1]\n",
      " [0 1 0 ... 1 1 1]\n",
      " [0 1 1 ... 1 1 1]\n",
      " ...\n",
      " [0 1 1 ... 1 1 1]\n",
      " [0 1 1 ... 1 1 1]\n",
      " [0 0 0 ... 0 0 0]]\n",
      "2020-12-17 19:28:36,159 [DEBUG] kashgari - predict seq_length: None, input: (2, 136, 30)\n"
     ]
    },
    {
     "name": "stdout",
     "output_type": "stream",
     "text": [
      "5/5 [==============================] - 0s 34ms/step\n"
     ]
    },
    {
     "name": "stderr",
     "output_type": "stream",
     "text": [
      "2020-12-17 19:28:36,400 [DEBUG] kashgari - predict output: (136, 30)\n",
      "2020-12-17 19:28:36,400 [DEBUG] kashgari - predict output argmax: [[0 1 1 ... 1 1 1]\n",
      " [0 1 1 ... 1 1 1]\n",
      " [0 1 1 ... 1 1 1]\n",
      " ...\n",
      " [0 1 1 ... 1 1 1]\n",
      " [0 1 1 ... 1 1 1]\n",
      " [0 0 0 ... 0 0 0]]\n",
      "2020-12-17 19:28:36,403 [DEBUG] kashgari - predict seq_length: None, input: (2, 217, 28)\n"
     ]
    },
    {
     "name": "stdout",
     "output_type": "stream",
     "text": [
      "7/7 [==============================] - 0s 35ms/step\n"
     ]
    },
    {
     "name": "stderr",
     "output_type": "stream",
     "text": [
      "2020-12-17 19:28:36,711 [DEBUG] kashgari - predict output: (217, 28)\n",
      "2020-12-17 19:28:36,712 [DEBUG] kashgari - predict output argmax: [[0 1 1 ... 1 1 1]\n",
      " [0 1 1 ... 1 1 1]\n",
      " [0 1 1 ... 1 1 1]\n",
      " ...\n",
      " [0 1 1 ... 1 1 1]\n",
      " [0 1 1 ... 1 1 1]\n",
      " [0 0 0 ... 0 0 0]]\n",
      "2020-12-17 19:28:36,713 [DEBUG] kashgari - predict seq_length: None, input: (2, 83, 27)\n"
     ]
    },
    {
     "name": "stdout",
     "output_type": "stream",
     "text": [
      "3/3 [==============================] - 0s 24ms/step\n"
     ]
    },
    {
     "name": "stderr",
     "output_type": "stream",
     "text": [
      "2020-12-17 19:28:36,845 [DEBUG] kashgari - predict output: (83, 27)\n",
      "2020-12-17 19:28:36,845 [DEBUG] kashgari - predict output argmax: [[0 1 1 ... 1 1 1]\n",
      " [0 1 1 ... 1 1 1]\n",
      " [0 1 1 ... 1 1 1]\n",
      " ...\n",
      " [0 1 1 ... 1 1 1]\n",
      " [0 1 1 ... 1 1 1]\n",
      " [0 0 0 ... 0 0 0]]\n",
      "2020-12-17 19:28:36,849 [DEBUG] kashgari - predict seq_length: None, input: (2, 392, 36)\n"
     ]
    },
    {
     "name": "stdout",
     "output_type": "stream",
     "text": [
      "13/13 [==============================] - 1s 43ms/step\n"
     ]
    },
    {
     "name": "stderr",
     "output_type": "stream",
     "text": [
      "2020-12-17 19:28:37,491 [DEBUG] kashgari - predict output: (392, 36)\n",
      "2020-12-17 19:28:37,491 [DEBUG] kashgari - predict output argmax: [[0 1 1 ... 1 1 1]\n",
      " [0 1 1 ... 1 1 1]\n",
      " [0 1 1 ... 1 1 1]\n",
      " ...\n",
      " [0 1 1 ... 1 1 1]\n",
      " [0 1 1 ... 1 1 1]\n",
      " [0 0 0 ... 0 0 0]]\n",
      "2020-12-17 19:28:37,494 [DEBUG] kashgari - predict seq_length: None, input: (2, 108, 41)\n"
     ]
    },
    {
     "name": "stdout",
     "output_type": "stream",
     "text": [
      "4/4 [==============================] - 0s 36ms/step\n"
     ]
    },
    {
     "name": "stderr",
     "output_type": "stream",
     "text": [
      "2020-12-17 19:28:37,711 [DEBUG] kashgari - predict output: (108, 41)\n",
      "2020-12-17 19:28:37,712 [DEBUG] kashgari - predict output argmax: [[0 1 1 ... 1 1 1]\n",
      " [0 1 1 ... 1 1 1]\n",
      " [0 1 1 ... 1 1 1]\n",
      " ...\n",
      " [0 1 1 ... 1 1 1]\n",
      " [0 1 1 ... 1 1 1]\n",
      " [0 0 0 ... 0 0 0]]\n",
      "2020-12-17 19:28:37,716 [DEBUG] kashgari - predict seq_length: None, input: (2, 221, 26)\n"
     ]
    },
    {
     "name": "stdout",
     "output_type": "stream",
     "text": [
      "7/7 [==============================] - 0s 34ms/step\n"
     ]
    },
    {
     "name": "stderr",
     "output_type": "stream",
     "text": [
      "2020-12-17 19:28:38,018 [DEBUG] kashgari - predict output: (221, 26)\n",
      "2020-12-17 19:28:38,018 [DEBUG] kashgari - predict output argmax: [[0 1 1 ... 1 1 1]\n",
      " [0 1 1 ... 1 1 1]\n",
      " [0 1 1 ... 1 1 1]\n",
      " ...\n",
      " [0 1 1 ... 1 1 1]\n",
      " [0 1 1 ... 1 1 1]\n",
      " [0 0 0 ... 0 0 0]]\n",
      "2020-12-17 19:28:38,021 [DEBUG] kashgari - predict seq_length: None, input: (2, 94, 45)\n"
     ]
    },
    {
     "name": "stdout",
     "output_type": "stream",
     "text": [
      "3/3 [==============================] - 0s 40ms/step\n"
     ]
    },
    {
     "name": "stderr",
     "output_type": "stream",
     "text": [
      "2020-12-17 19:28:38,223 [DEBUG] kashgari - predict output: (94, 45)\n",
      "2020-12-17 19:28:38,224 [DEBUG] kashgari - predict output argmax: [[0 1 1 ... 1 1 1]\n",
      " [0 1 1 ... 1 1 1]\n",
      " [0 1 1 ... 1 1 1]\n",
      " ...\n",
      " [0 1 1 ... 1 1 1]\n",
      " [0 1 1 ... 1 1 1]\n",
      " [0 0 0 ... 0 0 0]]\n",
      "2020-12-17 19:28:38,225 [DEBUG] kashgari - predict seq_length: None, input: (2, 59, 21)\n"
     ]
    },
    {
     "name": "stdout",
     "output_type": "stream",
     "text": [
      "2/2 [==============================] - 0s 16ms/step\n"
     ]
    },
    {
     "name": "stderr",
     "output_type": "stream",
     "text": [
      "2020-12-17 19:28:38,313 [DEBUG] kashgari - predict output: (59, 21)\n",
      "2020-12-17 19:28:38,313 [DEBUG] kashgari - predict output argmax: [[0 1 1 ... 1 1 1]\n",
      " [0 1 1 ... 1 1 1]\n",
      " [0 1 1 ... 1 1 1]\n",
      " ...\n",
      " [0 1 1 ... 1 1 1]\n",
      " [0 1 1 ... 1 1 1]\n",
      " [0 0 0 ... 0 0 0]]\n",
      "2020-12-17 19:28:38,315 [DEBUG] kashgari - predict seq_length: None, input: (2, 101, 33)\n"
     ]
    },
    {
     "name": "stdout",
     "output_type": "stream",
     "text": [
      "4/4 [==============================] - 0s 35ms/step\n"
     ]
    },
    {
     "name": "stderr",
     "output_type": "stream",
     "text": [
      "2020-12-17 19:28:41,566 [DEBUG] kashgari - predict output: (101, 33)\n",
      "2020-12-17 19:28:41,567 [DEBUG] kashgari - predict output argmax: [[0 1 1 ... 1 1 1]\n",
      " [0 1 1 ... 1 1 1]\n",
      " [0 1 1 ... 1 1 1]\n",
      " ...\n",
      " [0 1 1 ... 1 1 1]\n",
      " [0 1 1 ... 1 1 1]\n",
      " [0 0 0 ... 0 0 0]]\n",
      "2020-12-17 19:28:41,569 [DEBUG] kashgari - predict seq_length: None, input: (2, 64, 33)\n"
     ]
    },
    {
     "name": "stdout",
     "output_type": "stream",
     "text": [
      "2/2 [==============================] - 0s 21ms/step\n"
     ]
    },
    {
     "name": "stderr",
     "output_type": "stream",
     "text": [
      "2020-12-17 19:28:43,809 [DEBUG] kashgari - predict output: (64, 33)\n",
      "2020-12-17 19:28:43,809 [DEBUG] kashgari - predict output argmax: [[0 1 1 ... 1 1 1]\n",
      " [0 1 1 ... 1 1 0]\n",
      " [0 1 1 ... 1 1 1]\n",
      " ...\n",
      " [0 1 1 ... 7 7 7]\n",
      " [0 1 1 ... 1 1 1]\n",
      " [0 0 0 ... 0 0 0]]\n",
      "2020-12-17 19:28:43,811 [DEBUG] kashgari - predict seq_length: None, input: (2, 85, 30)\n"
     ]
    },
    {
     "name": "stdout",
     "output_type": "stream",
     "text": [
      "3/3 [==============================] - 0s 31ms/step\n"
     ]
    },
    {
     "name": "stderr",
     "output_type": "stream",
     "text": [
      "2020-12-17 19:28:43,971 [DEBUG] kashgari - predict output: (85, 30)\n",
      "2020-12-17 19:28:43,971 [DEBUG] kashgari - predict output argmax: [[0 1 1 ... 1 1 1]\n",
      " [0 1 1 ... 1 1 1]\n",
      " [0 1 1 ... 1 1 1]\n",
      " ...\n",
      " [0 1 1 ... 1 1 1]\n",
      " [0 1 1 ... 1 1 1]\n",
      " [0 0 0 ... 0 0 0]]\n",
      "2020-12-17 19:28:43,974 [DEBUG] kashgari - predict seq_length: None, input: (2, 89, 33)\n"
     ]
    },
    {
     "name": "stdout",
     "output_type": "stream",
     "text": [
      "3/3 [==============================] - 0s 32ms/step\n"
     ]
    },
    {
     "name": "stderr",
     "output_type": "stream",
     "text": [
      "2020-12-17 19:28:44,139 [DEBUG] kashgari - predict output: (89, 33)\n",
      "2020-12-17 19:28:44,139 [DEBUG] kashgari - predict output argmax: [[0 1 1 ... 2 2 2]\n",
      " [0 1 1 ... 1 1 1]\n",
      " [0 1 1 ... 1 1 1]\n",
      " ...\n",
      " [0 1 1 ... 1 1 1]\n",
      " [0 1 1 ... 1 1 1]\n",
      " [0 0 0 ... 0 0 0]]\n",
      "2020-12-17 19:28:44,145 [DEBUG] kashgari - predict seq_length: None, input: (2, 254, 27)\n"
     ]
    },
    {
     "name": "stdout",
     "output_type": "stream",
     "text": [
      "8/8 [==============================] - 0s 35ms/step\n"
     ]
    },
    {
     "name": "stderr",
     "output_type": "stream",
     "text": [
      "2020-12-17 19:28:44,495 [DEBUG] kashgari - predict output: (254, 27)\n",
      "2020-12-17 19:28:44,496 [DEBUG] kashgari - predict output argmax: [[0 1 1 ... 1 1 1]\n",
      " [0 4 2 ... 1 1 1]\n",
      " [0 1 1 ... 1 1 1]\n",
      " ...\n",
      " [0 1 1 ... 1 1 1]\n",
      " [0 1 1 ... 1 1 1]\n",
      " [0 0 0 ... 0 0 0]]\n",
      "2020-12-17 19:28:44,498 [DEBUG] kashgari - predict seq_length: None, input: (2, 129, 29)\n"
     ]
    },
    {
     "name": "stdout",
     "output_type": "stream",
     "text": [
      "5/5 [==============================] - 0s 31ms/step\n"
     ]
    },
    {
     "name": "stderr",
     "output_type": "stream",
     "text": [
      "2020-12-17 19:28:44,720 [DEBUG] kashgari - predict output: (129, 29)\n",
      "2020-12-17 19:28:44,721 [DEBUG] kashgari - predict output argmax: [[0 1 1 ... 1 1 1]\n",
      " [0 1 1 ... 1 1 1]\n",
      " [0 1 1 ... 1 1 1]\n",
      " ...\n",
      " [0 1 1 ... 1 1 1]\n",
      " [0 1 1 ... 1 1 1]\n",
      " [0 0 0 ... 0 0 0]]\n",
      "2020-12-17 19:28:44,723 [DEBUG] kashgari - predict seq_length: None, input: (2, 130, 26)\n"
     ]
    },
    {
     "name": "stdout",
     "output_type": "stream",
     "text": [
      "5/5 [==============================] - 0s 29ms/step\n"
     ]
    },
    {
     "name": "stderr",
     "output_type": "stream",
     "text": [
      "2020-12-17 19:28:44,929 [DEBUG] kashgari - predict output: (130, 26)\n",
      "2020-12-17 19:28:44,929 [DEBUG] kashgari - predict output argmax: [[ 0  1  1 ...  1  1  1]\n",
      " [ 0  1  1 ...  1  1  1]\n",
      " [ 0  1  1 ...  1  1  1]\n",
      " ...\n",
      " [ 0  1  1 ...  1  1  1]\n",
      " [ 0  1  1 ... 22 22 22]\n",
      " [ 0  0  0 ...  0  0  0]]\n",
      "2020-12-17 19:28:44,933 [DEBUG] kashgari - predict seq_length: None, input: (2, 143, 37)\n"
     ]
    },
    {
     "name": "stdout",
     "output_type": "stream",
     "text": [
      "5/5 [==============================] - 0s 39ms/step\n"
     ]
    },
    {
     "name": "stderr",
     "output_type": "stream",
     "text": [
      "2020-12-17 19:28:45,200 [DEBUG] kashgari - predict output: (143, 37)\n",
      "2020-12-17 19:28:45,200 [DEBUG] kashgari - predict output argmax: [[0 1 1 ... 1 1 1]\n",
      " [0 1 1 ... 1 1 1]\n",
      " [0 1 1 ... 1 1 1]\n",
      " ...\n",
      " [0 1 1 ... 1 1 1]\n",
      " [0 1 1 ... 1 1 1]\n",
      " [0 0 0 ... 0 0 0]]\n",
      "2020-12-17 19:28:45,203 [DEBUG] kashgari - predict seq_length: None, input: (2, 107, 36)\n"
     ]
    },
    {
     "name": "stdout",
     "output_type": "stream",
     "text": [
      "4/4 [==============================] - 0s 33ms/step\n"
     ]
    },
    {
     "name": "stderr",
     "output_type": "stream",
     "text": [
      "2020-12-17 19:28:45,402 [DEBUG] kashgari - predict output: (107, 36)\n",
      "2020-12-17 19:28:45,402 [DEBUG] kashgari - predict output argmax: [[0 1 1 ... 1 1 1]\n",
      " [0 1 1 ... 1 1 1]\n",
      " [0 1 1 ... 1 1 1]\n",
      " ...\n",
      " [0 1 1 ... 1 1 1]\n",
      " [0 1 1 ... 1 1 1]\n",
      " [0 0 0 ... 0 0 0]]\n",
      "2020-12-17 19:28:45,404 [DEBUG] kashgari - predict seq_length: None, input: (2, 70, 28)\n"
     ]
    },
    {
     "name": "stdout",
     "output_type": "stream",
     "text": [
      "3/3 [==============================] - 0s 23ms/step\n"
     ]
    },
    {
     "name": "stderr",
     "output_type": "stream",
     "text": [
      "2020-12-17 19:28:45,535 [DEBUG] kashgari - predict output: (70, 28)\n",
      "2020-12-17 19:28:45,536 [DEBUG] kashgari - predict output argmax: [[0 1 1 ... 1 1 1]\n",
      " [0 1 1 ... 1 1 1]\n",
      " [0 1 1 ... 1 1 1]\n",
      " ...\n",
      " [0 1 1 ... 1 1 1]\n",
      " [0 1 1 ... 1 1 1]\n",
      " [0 0 0 ... 0 0 0]]\n",
      "2020-12-17 19:28:45,539 [DEBUG] kashgari - predict seq_length: None, input: (2, 189, 26)\n"
     ]
    },
    {
     "name": "stdout",
     "output_type": "stream",
     "text": [
      "6/6 [==============================] - 0s 34ms/step\n"
     ]
    },
    {
     "name": "stderr",
     "output_type": "stream",
     "text": [
      "2020-12-17 19:28:45,808 [DEBUG] kashgari - predict output: (189, 26)\n",
      "2020-12-17 19:28:45,809 [DEBUG] kashgari - predict output argmax: [[0 1 1 ... 1 1 1]\n",
      " [0 1 1 ... 1 1 1]\n",
      " [0 1 1 ... 1 1 1]\n",
      " ...\n",
      " [0 1 1 ... 1 1 1]\n",
      " [0 1 1 ... 1 1 1]\n",
      " [0 0 0 ... 0 0 0]]\n",
      "2020-12-17 19:28:45,811 [DEBUG] kashgari - predict seq_length: None, input: (2, 99, 48)\n"
     ]
    },
    {
     "name": "stdout",
     "output_type": "stream",
     "text": [
      "4/4 [==============================] - 0s 39ms/step\n"
     ]
    },
    {
     "name": "stderr",
     "output_type": "stream",
     "text": [
      "2020-12-17 19:28:46,055 [DEBUG] kashgari - predict output: (99, 48)\n",
      "2020-12-17 19:28:46,056 [DEBUG] kashgari - predict output argmax: [[0 1 1 ... 1 1 1]\n",
      " [0 1 1 ... 1 1 1]\n",
      " [0 1 1 ... 1 1 1]\n",
      " ...\n",
      " [0 1 1 ... 1 1 1]\n",
      " [0 1 1 ... 1 1 1]\n",
      " [0 0 0 ... 0 0 0]]\n",
      "2020-12-17 19:28:46,059 [DEBUG] kashgari - predict seq_length: None, input: (2, 213, 35)\n"
     ]
    },
    {
     "name": "stdout",
     "output_type": "stream",
     "text": [
      "7/7 [==============================] - 0s 40ms/step\n"
     ]
    },
    {
     "name": "stderr",
     "output_type": "stream",
     "text": [
      "2020-12-17 19:28:46,421 [DEBUG] kashgari - predict output: (213, 35)\n",
      "2020-12-17 19:28:46,421 [DEBUG] kashgari - predict output argmax: [[0 1 1 ... 1 1 1]\n",
      " [0 1 1 ... 1 1 1]\n",
      " [0 1 1 ... 1 1 1]\n",
      " ...\n",
      " [0 1 1 ... 1 1 1]\n",
      " [0 1 0 ... 1 1 1]\n",
      " [0 0 0 ... 0 0 0]]\n",
      "2020-12-17 19:28:46,423 [DEBUG] kashgari - predict seq_length: None, input: (2, 181, 40)\n"
     ]
    },
    {
     "name": "stdout",
     "output_type": "stream",
     "text": [
      "6/6 [==============================] - 0s 44ms/step\n"
     ]
    },
    {
     "name": "stderr",
     "output_type": "stream",
     "text": [
      "2020-12-17 19:28:46,757 [DEBUG] kashgari - predict output: (181, 40)\n",
      "2020-12-17 19:28:46,757 [DEBUG] kashgari - predict output argmax: [[0 1 1 ... 1 1 1]\n",
      " [0 1 1 ... 1 1 1]\n",
      " [0 1 1 ... 1 1 1]\n",
      " ...\n",
      " [0 1 1 ... 1 1 1]\n",
      " [0 1 1 ... 1 1 1]\n",
      " [0 0 0 ... 0 0 0]]\n",
      "2020-12-17 19:28:46,759 [DEBUG] kashgari - predict seq_length: None, input: (2, 119, 34)\n"
     ]
    },
    {
     "name": "stdout",
     "output_type": "stream",
     "text": [
      "4/4 [==============================] - 0s 33ms/step\n"
     ]
    },
    {
     "name": "stderr",
     "output_type": "stream",
     "text": [
      "2020-12-17 19:28:46,959 [DEBUG] kashgari - predict output: (119, 34)\n",
      "2020-12-17 19:28:46,960 [DEBUG] kashgari - predict output argmax: [[0 1 1 ... 1 1 1]\n",
      " [0 1 0 ... 1 1 1]\n",
      " [0 1 1 ... 1 1 1]\n",
      " ...\n",
      " [0 1 1 ... 1 1 1]\n",
      " [0 1 1 ... 1 1 1]\n",
      " [0 0 0 ... 0 0 0]]\n",
      "2020-12-17 19:28:46,962 [DEBUG] kashgari - predict seq_length: None, input: (2, 188, 52)\n"
     ]
    },
    {
     "name": "stdout",
     "output_type": "stream",
     "text": [
      "6/6 [==============================] - 0s 57ms/step\n"
     ]
    },
    {
     "name": "stderr",
     "output_type": "stream",
     "text": [
      "2020-12-17 19:28:50,476 [DEBUG] kashgari - predict output: (188, 52)\n",
      "2020-12-17 19:28:50,476 [DEBUG] kashgari - predict output argmax: [[0 1 1 ... 1 1 1]\n",
      " [0 1 1 ... 1 1 1]\n",
      " [0 1 1 ... 1 1 1]\n",
      " ...\n",
      " [0 1 1 ... 1 1 1]\n",
      " [0 1 1 ... 1 1 1]\n",
      " [0 0 0 ... 0 0 0]]\n",
      "2020-12-17 19:28:50,479 [DEBUG] kashgari - predict seq_length: None, input: (2, 252, 30)\n"
     ]
    },
    {
     "name": "stdout",
     "output_type": "stream",
     "text": [
      "8/8 [==============================] - 0s 38ms/step\n"
     ]
    },
    {
     "name": "stderr",
     "output_type": "stream",
     "text": [
      "2020-12-17 19:28:50,852 [DEBUG] kashgari - predict output: (252, 30)\n",
      "2020-12-17 19:28:50,853 [DEBUG] kashgari - predict output argmax: [[0 1 1 ... 1 1 1]\n",
      " [0 1 1 ... 1 1 1]\n",
      " [0 1 1 ... 1 1 1]\n",
      " ...\n",
      " [0 1 1 ... 1 1 1]\n",
      " [0 1 1 ... 1 1 1]\n",
      " [0 0 0 ... 0 0 0]]\n",
      "2020-12-17 19:28:50,856 [DEBUG] kashgari - predict seq_length: None, input: (2, 249, 38)\n"
     ]
    },
    {
     "name": "stdout",
     "output_type": "stream",
     "text": [
      "8/8 [==============================] - 0s 46ms/step\n"
     ]
    },
    {
     "name": "stderr",
     "output_type": "stream",
     "text": [
      "2020-12-17 19:28:51,313 [DEBUG] kashgari - predict output: (249, 38)\n",
      "2020-12-17 19:28:51,314 [DEBUG] kashgari - predict output argmax: [[0 1 1 ... 1 1 1]\n",
      " [0 1 1 ... 1 1 1]\n",
      " [0 1 4 ... 1 1 1]\n",
      " ...\n",
      " [0 1 1 ... 1 1 1]\n",
      " [0 1 1 ... 1 1 1]\n",
      " [0 0 0 ... 0 0 0]]\n",
      "2020-12-17 19:28:51,316 [DEBUG] kashgari - predict seq_length: None, input: (2, 65, 44)\n"
     ]
    },
    {
     "name": "stdout",
     "output_type": "stream",
     "text": [
      "3/3 [==============================] - 0s 31ms/step\n"
     ]
    },
    {
     "name": "stderr",
     "output_type": "stream",
     "text": [
      "2020-12-17 19:28:54,593 [DEBUG] kashgari - predict output: (65, 44)\n",
      "2020-12-17 19:28:54,593 [DEBUG] kashgari - predict output argmax: [[0 1 1 ... 1 1 1]\n",
      " [0 1 1 ... 1 1 1]\n",
      " [0 1 1 ... 1 1 1]\n",
      " ...\n",
      " [0 1 1 ... 7 7 7]\n",
      " [0 1 1 ... 1 1 1]\n",
      " [0 0 0 ... 0 0 0]]\n",
      "2020-12-17 19:28:54,598 [DEBUG] kashgari - predict seq_length: None, input: (2, 265, 41)\n"
     ]
    },
    {
     "name": "stdout",
     "output_type": "stream",
     "text": [
      "9/9 [==============================] - 0s 48ms/step\n"
     ]
    },
    {
     "name": "stderr",
     "output_type": "stream",
     "text": [
      "2020-12-17 19:28:55,115 [DEBUG] kashgari - predict output: (265, 41)\n",
      "2020-12-17 19:28:55,116 [DEBUG] kashgari - predict output argmax: [[0 1 1 ... 1 1 1]\n",
      " [0 1 1 ... 1 1 1]\n",
      " [0 1 1 ... 1 1 1]\n",
      " ...\n",
      " [0 1 1 ... 1 1 1]\n",
      " [0 1 1 ... 1 1 1]\n",
      " [0 0 0 ... 0 0 0]]\n",
      "2020-12-17 19:28:55,119 [DEBUG] kashgari - predict seq_length: None, input: (2, 163, 33)\n"
     ]
    },
    {
     "name": "stdout",
     "output_type": "stream",
     "text": [
      "6/6 [==============================] - 0s 35ms/step\n"
     ]
    },
    {
     "name": "stderr",
     "output_type": "stream",
     "text": [
      "2020-12-17 19:28:55,405 [DEBUG] kashgari - predict output: (163, 33)\n",
      "2020-12-17 19:28:55,405 [DEBUG] kashgari - predict output argmax: [[0 1 1 ... 2 2 2]\n",
      " [0 1 1 ... 2 2 2]\n",
      " [0 1 1 ... 2 2 2]\n",
      " ...\n",
      " [0 1 1 ... 1 1 1]\n",
      " [0 1 1 ... 1 1 1]\n",
      " [0 0 0 ... 0 0 0]]\n",
      "2020-12-17 19:28:55,409 [DEBUG] kashgari - predict seq_length: None, input: (2, 166, 33)\n"
     ]
    },
    {
     "name": "stdout",
     "output_type": "stream",
     "text": [
      "6/6 [==============================] - 0s 37ms/step\n"
     ]
    },
    {
     "name": "stderr",
     "output_type": "stream",
     "text": [
      "2020-12-17 19:28:55,698 [DEBUG] kashgari - predict output: (166, 33)\n",
      "2020-12-17 19:28:55,698 [DEBUG] kashgari - predict output argmax: [[ 0  1  1 ... 14 14 14]\n",
      " [ 0 20  7 ...  7  7  7]\n",
      " [ 0  1  1 ...  1  1  1]\n",
      " ...\n",
      " [ 0  1  1 ...  1  1  1]\n",
      " [ 0  1  1 ...  1  1  1]\n",
      " [ 0  0  0 ...  0  0  0]]\n",
      "2020-12-17 19:28:55,702 [DEBUG] kashgari - predict seq_length: None, input: (2, 152, 37)\n"
     ]
    },
    {
     "name": "stdout",
     "output_type": "stream",
     "text": [
      "5/5 [==============================] - 0s 38ms/step\n"
     ]
    },
    {
     "name": "stderr",
     "output_type": "stream",
     "text": [
      "2020-12-17 19:28:55,969 [DEBUG] kashgari - predict output: (152, 37)\n",
      "2020-12-17 19:28:55,969 [DEBUG] kashgari - predict output argmax: [[0 1 1 ... 1 1 1]\n",
      " [0 1 1 ... 1 1 1]\n",
      " [0 1 1 ... 1 1 1]\n",
      " ...\n",
      " [0 1 1 ... 1 1 1]\n",
      " [0 1 1 ... 1 1 1]\n",
      " [0 0 0 ... 0 0 0]]\n",
      "2020-12-17 19:28:55,973 [DEBUG] kashgari - predict seq_length: None, input: (2, 129, 26)\n"
     ]
    },
    {
     "name": "stdout",
     "output_type": "stream",
     "text": [
      "5/5 [==============================] - 0s 30ms/step\n"
     ]
    },
    {
     "name": "stderr",
     "output_type": "stream",
     "text": [
      "2020-12-17 19:28:56,187 [DEBUG] kashgari - predict output: (129, 26)\n",
      "2020-12-17 19:28:56,187 [DEBUG] kashgari - predict output argmax: [[0 1 1 ... 1 1 1]\n",
      " [0 1 1 ... 1 1 1]\n",
      " [0 1 1 ... 1 1 1]\n",
      " ...\n",
      " [0 1 1 ... 1 1 1]\n",
      " [0 1 1 ... 1 1 1]\n",
      " [0 0 0 ... 0 0 0]]\n",
      "2020-12-17 19:28:56,193 [DEBUG] kashgari - predict seq_length: None, input: (2, 260, 42)\n"
     ]
    },
    {
     "name": "stdout",
     "output_type": "stream",
     "text": [
      "9/9 [==============================] - 0s 46ms/step\n"
     ]
    },
    {
     "name": "stderr",
     "output_type": "stream",
     "text": [
      "2020-12-17 19:28:56,683 [DEBUG] kashgari - predict output: (260, 42)\n",
      "2020-12-17 19:28:56,683 [DEBUG] kashgari - predict output argmax: [[0 1 1 ... 1 1 1]\n",
      " [0 1 1 ... 1 1 1]\n",
      " [0 1 1 ... 1 1 1]\n",
      " ...\n",
      " [0 1 1 ... 1 1 1]\n",
      " [0 1 1 ... 1 1 1]\n",
      " [0 0 0 ... 0 0 0]]\n",
      "2020-12-17 19:28:56,691 [DEBUG] kashgari - predict seq_length: None, input: (2, 557, 59)\n"
     ]
    },
    {
     "name": "stdout",
     "output_type": "stream",
     "text": [
      "18/18 [==============================] - 1s 70ms/step\n"
     ]
    },
    {
     "name": "stderr",
     "output_type": "stream",
     "text": [
      "2020-12-17 19:29:02,315 [DEBUG] kashgari - predict output: (557, 59)\n",
      "2020-12-17 19:29:02,316 [DEBUG] kashgari - predict output argmax: [[ 0  1  1 ...  1  1  1]\n",
      " [ 0  1  1 ...  1  1  1]\n",
      " [ 0  1  1 ...  1  1  1]\n",
      " ...\n",
      " [ 0  1  1 ... 22 22 22]\n",
      " [ 0  1  1 ...  1  1  1]\n",
      " [ 0  0  0 ...  0  0  0]]\n",
      "2020-12-17 19:29:02,319 [DEBUG] kashgari - predict seq_length: None, input: (2, 144, 72)\n"
     ]
    },
    {
     "name": "stdout",
     "output_type": "stream",
     "text": [
      "5/5 [==============================] - 0s 65ms/step\n"
     ]
    },
    {
     "name": "stderr",
     "output_type": "stream",
     "text": [
      "2020-12-17 19:29:02,754 [DEBUG] kashgari - predict output: (144, 72)\n",
      "2020-12-17 19:29:02,754 [DEBUG] kashgari - predict output argmax: [[0 1 1 ... 1 1 1]\n",
      " [0 1 1 ... 1 1 1]\n",
      " [0 1 1 ... 1 1 1]\n",
      " ...\n",
      " [0 1 1 ... 1 1 1]\n",
      " [0 1 1 ... 1 1 1]\n",
      " [0 0 0 ... 0 0 0]]\n",
      "2020-12-17 19:29:02,759 [DEBUG] kashgari - predict seq_length: None, input: (2, 474, 27)\n"
     ]
    },
    {
     "name": "stdout",
     "output_type": "stream",
     "text": [
      "15/15 [==============================] - 1s 38ms/step\n"
     ]
    },
    {
     "name": "stderr",
     "output_type": "stream",
     "text": [
      "2020-12-17 19:29:03,390 [DEBUG] kashgari - predict output: (474, 27)\n",
      "2020-12-17 19:29:03,390 [DEBUG] kashgari - predict output argmax: [[0 1 1 ... 1 1 1]\n",
      " [0 1 1 ... 2 2 2]\n",
      " [0 1 1 ... 1 1 1]\n",
      " ...\n",
      " [0 1 1 ... 1 1 1]\n",
      " [0 1 1 ... 1 1 1]\n",
      " [0 0 0 ... 0 0 0]]\n",
      "2020-12-17 19:29:03,393 [DEBUG] kashgari - predict seq_length: None, input: (2, 253, 34)\n"
     ]
    },
    {
     "name": "stdout",
     "output_type": "stream",
     "text": [
      "8/8 [==============================] - 0s 41ms/step\n"
     ]
    },
    {
     "name": "stderr",
     "output_type": "stream",
     "text": [
      "2020-12-17 19:29:03,796 [DEBUG] kashgari - predict output: (253, 34)\n",
      "2020-12-17 19:29:03,797 [DEBUG] kashgari - predict output argmax: [[0 1 1 ... 1 1 1]\n",
      " [0 1 1 ... 1 1 1]\n",
      " [0 1 1 ... 1 1 1]\n",
      " ...\n",
      " [0 1 1 ... 1 1 1]\n",
      " [0 1 1 ... 1 1 1]\n",
      " [0 0 0 ... 0 0 0]]\n",
      "2020-12-17 19:29:03,800 [DEBUG] kashgari - predict seq_length: None, input: (2, 210, 45)\n"
     ]
    },
    {
     "name": "stdout",
     "output_type": "stream",
     "text": [
      "7/7 [==============================] - 0s 51ms/step\n"
     ]
    },
    {
     "name": "stderr",
     "output_type": "stream",
     "text": [
      "2020-12-17 19:29:04,242 [DEBUG] kashgari - predict output: (210, 45)\n",
      "2020-12-17 19:29:04,242 [DEBUG] kashgari - predict output argmax: [[0 1 1 ... 1 1 1]\n",
      " [0 1 1 ... 1 1 1]\n",
      " [0 1 1 ... 1 1 1]\n",
      " ...\n",
      " [0 1 1 ... 2 2 2]\n",
      " [0 1 1 ... 1 1 1]\n",
      " [0 0 0 ... 0 0 0]]\n",
      "2020-12-17 19:29:04,245 [DEBUG] kashgari - predict seq_length: None, input: (2, 244, 32)\n"
     ]
    },
    {
     "name": "stdout",
     "output_type": "stream",
     "text": [
      "8/8 [==============================] - 0s 38ms/step\n"
     ]
    },
    {
     "name": "stderr",
     "output_type": "stream",
     "text": [
      "2020-12-17 19:29:04,619 [DEBUG] kashgari - predict output: (244, 32)\n",
      "2020-12-17 19:29:04,620 [DEBUG] kashgari - predict output argmax: [[0 1 1 ... 1 1 1]\n",
      " [0 1 1 ... 1 1 1]\n",
      " [0 1 1 ... 1 1 1]\n",
      " ...\n",
      " [0 1 1 ... 1 1 1]\n",
      " [0 1 0 ... 1 1 1]\n",
      " [0 0 0 ... 0 0 0]]\n",
      "2020-12-17 19:29:04,624 [DEBUG] kashgari - predict seq_length: None, input: (2, 319, 36)\n"
     ]
    },
    {
     "name": "stdout",
     "output_type": "stream",
     "text": [
      "10/10 [==============================] - 0s 44ms/step\n"
     ]
    },
    {
     "name": "stderr",
     "output_type": "stream",
     "text": [
      "2020-12-17 19:29:05,137 [DEBUG] kashgari - predict output: (319, 36)\n",
      "2020-12-17 19:29:05,137 [DEBUG] kashgari - predict output argmax: [[0 1 1 ... 1 1 1]\n",
      " [0 1 1 ... 1 1 1]\n",
      " [0 1 1 ... 1 1 1]\n",
      " ...\n",
      " [0 1 1 ... 1 1 1]\n",
      " [0 1 1 ... 1 1 1]\n",
      " [0 0 0 ... 0 0 0]]\n",
      "2020-12-17 19:29:05,142 [DEBUG] kashgari - predict seq_length: None, input: (2, 437, 36)\n"
     ]
    },
    {
     "name": "stdout",
     "output_type": "stream",
     "text": [
      "14/14 [==============================] - 1s 47ms/step\n"
     ]
    },
    {
     "name": "stderr",
     "output_type": "stream",
     "text": [
      "2020-12-17 19:29:05,872 [DEBUG] kashgari - predict output: (437, 36)\n",
      "2020-12-17 19:29:05,873 [DEBUG] kashgari - predict output argmax: [[0 1 1 ... 1 1 1]\n",
      " [0 1 1 ... 1 1 1]\n",
      " [0 1 1 ... 1 1 1]\n",
      " ...\n",
      " [0 1 1 ... 1 1 1]\n",
      " [0 1 1 ... 1 1 1]\n",
      " [0 0 0 ... 0 0 0]]\n",
      "2020-12-17 19:29:05,876 [DEBUG] kashgari - predict seq_length: None, input: (2, 171, 78)\n"
     ]
    },
    {
     "name": "stdout",
     "output_type": "stream",
     "text": [
      "6/6 [==============================] - 0s 77ms/step\n"
     ]
    },
    {
     "name": "stderr",
     "output_type": "stream",
     "text": [
      "2020-12-17 19:29:09,570 [DEBUG] kashgari - predict output: (171, 78)\n",
      "2020-12-17 19:29:09,571 [DEBUG] kashgari - predict output argmax: [[0 1 1 ... 1 1 1]\n",
      " [0 1 1 ... 1 1 1]\n",
      " [0 1 1 ... 1 1 1]\n",
      " ...\n",
      " [0 1 1 ... 1 1 1]\n",
      " [0 1 1 ... 1 1 1]\n",
      " [0 0 0 ... 0 0 0]]\n"
     ]
    }
   ],
   "source": [
    "df = predicting_txt_to_dataframe('/home/Danny/AI-CUP-2020/datasets/stage5/test.txt')\n",
    "output_str = \"article_id\\tstart_position\\tend_position\\tentity_text\\tentity_type\\n\"\n",
    "\n",
    "for article_id, text in zip(df['article_id'], df['text']):\n",
    "    x_list = [word for word in text]\n",
    "    y_list = predict_NER(text)\n",
    "    output_str += output_NER(article_id, text, y_list)"
   ]
  },
  {
   "cell_type": "code",
   "execution_count": 22,
   "metadata": {},
   "outputs": [],
   "source": [
    "output_path = 'output/augmentation_{}_epoch_{}_batch_{}.tsv'.format(model_name, epochs, batch_size)\n",
    "with open(output_path, 'w', encoding='utf-8') as f:\n",
    "    f.write(output_str)"
   ]
  },
  {
   "cell_type": "code",
   "execution_count": 23,
   "metadata": {},
   "outputs": [
    {
     "data": {
      "text/html": [
       "<div>\n",
       "<style scoped>\n",
       "    .dataframe tbody tr th:only-of-type {\n",
       "        vertical-align: middle;\n",
       "    }\n",
       "\n",
       "    .dataframe tbody tr th {\n",
       "        vertical-align: top;\n",
       "    }\n",
       "\n",
       "    .dataframe thead th {\n",
       "        text-align: right;\n",
       "    }\n",
       "</style>\n",
       "<table border=\"1\" class=\"dataframe\">\n",
       "  <thead>\n",
       "    <tr style=\"text-align: right;\">\n",
       "      <th></th>\n",
       "      <th>article_id</th>\n",
       "      <th>start_position</th>\n",
       "      <th>end_position</th>\n",
       "      <th>entity_text</th>\n",
       "      <th>entity_type</th>\n",
       "    </tr>\n",
       "  </thead>\n",
       "  <tbody>\n",
       "    <tr>\n",
       "      <th>0</th>\n",
       "      <td>0</td>\n",
       "      <td>113</td>\n",
       "      <td>115</td>\n",
       "      <td>今天</td>\n",
       "      <td>time</td>\n",
       "    </tr>\n",
       "    <tr>\n",
       "      <th>1</th>\n",
       "      <td>0</td>\n",
       "      <td>227</td>\n",
       "      <td>229</td>\n",
       "      <td>麻豆</td>\n",
       "      <td>location</td>\n",
       "    </tr>\n",
       "    <tr>\n",
       "      <th>2</th>\n",
       "      <td>0</td>\n",
       "      <td>237</td>\n",
       "      <td>239</td>\n",
       "      <td>麻豆</td>\n",
       "      <td>location</td>\n",
       "    </tr>\n",
       "    <tr>\n",
       "      <th>3</th>\n",
       "      <td>0</td>\n",
       "      <td>484</td>\n",
       "      <td>486</td>\n",
       "      <td>年底</td>\n",
       "      <td>time</td>\n",
       "    </tr>\n",
       "    <tr>\n",
       "      <th>4</th>\n",
       "      <td>1</td>\n",
       "      <td>40</td>\n",
       "      <td>42</td>\n",
       "      <td>昨天</td>\n",
       "      <td>time</td>\n",
       "    </tr>\n",
       "    <tr>\n",
       "      <th>...</th>\n",
       "      <td>...</td>\n",
       "      <td>...</td>\n",
       "      <td>...</td>\n",
       "      <td>...</td>\n",
       "      <td>...</td>\n",
       "    </tr>\n",
       "    <tr>\n",
       "      <th>2790</th>\n",
       "      <td>158</td>\n",
       "      <td>1165</td>\n",
       "      <td>1167</td>\n",
       "      <td>OK</td>\n",
       "      <td>clinical_event</td>\n",
       "    </tr>\n",
       "    <tr>\n",
       "      <th>2791</th>\n",
       "      <td>158</td>\n",
       "      <td>1199</td>\n",
       "      <td>1201</td>\n",
       "      <td>小安</td>\n",
       "      <td>name</td>\n",
       "    </tr>\n",
       "    <tr>\n",
       "      <th>2792</th>\n",
       "      <td>158</td>\n",
       "      <td>1377</td>\n",
       "      <td>1379</td>\n",
       "      <td>OK</td>\n",
       "      <td>clinical_event</td>\n",
       "    </tr>\n",
       "    <tr>\n",
       "      <th>2793</th>\n",
       "      <td>158</td>\n",
       "      <td>1381</td>\n",
       "      <td>1390</td>\n",
       "      <td>124699678</td>\n",
       "      <td>contact</td>\n",
       "    </tr>\n",
       "    <tr>\n",
       "      <th>2794</th>\n",
       "      <td>158</td>\n",
       "      <td>1514</td>\n",
       "      <td>1516</td>\n",
       "      <td>OK</td>\n",
       "      <td>clinical_event</td>\n",
       "    </tr>\n",
       "  </tbody>\n",
       "</table>\n",
       "<p>2795 rows × 5 columns</p>\n",
       "</div>"
      ],
      "text/plain": [
       "      article_id  start_position  end_position entity_text     entity_type\n",
       "0              0             113           115          今天            time\n",
       "1              0             227           229          麻豆        location\n",
       "2              0             237           239          麻豆        location\n",
       "3              0             484           486          年底            time\n",
       "4              1              40            42          昨天            time\n",
       "...          ...             ...           ...         ...             ...\n",
       "2790         158            1165          1167          OK  clinical_event\n",
       "2791         158            1199          1201          小安            name\n",
       "2792         158            1377          1379          OK  clinical_event\n",
       "2793         158            1381          1390   124699678         contact\n",
       "2794         158            1514          1516          OK  clinical_event\n",
       "\n",
       "[2795 rows x 5 columns]"
      ]
     },
     "execution_count": 23,
     "metadata": {},
     "output_type": "execute_result"
    }
   ],
   "source": [
    "df = pd.read_csv(output_path, sep='\\t')\n",
    "df"
   ]
  },
  {
   "cell_type": "code",
   "execution_count": null,
   "metadata": {},
   "outputs": [],
   "source": []
  }
 ],
 "metadata": {
  "kernelspec": {
   "display_name": "Python 3",
   "language": "python",
   "name": "python3"
  },
  "language_info": {
   "codemirror_mode": {
    "name": "ipython",
    "version": 3
   },
   "file_extension": ".py",
   "mimetype": "text/x-python",
   "name": "python",
   "nbconvert_exporter": "python",
   "pygments_lexer": "ipython3",
   "version": "3.6.10"
  }
 },
 "nbformat": 4,
 "nbformat_minor": 4
}
