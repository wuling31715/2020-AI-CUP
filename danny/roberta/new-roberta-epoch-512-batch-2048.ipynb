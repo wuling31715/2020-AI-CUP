{
 "cells": [
  {
   "cell_type": "code",
   "execution_count": 1,
   "metadata": {},
   "outputs": [],
   "source": [
    "import re\n",
    "import os\n",
    "import pandas as pd\n",
    "import tensorflow as tf\n",
    "from matplotlib import pyplot as plt"
   ]
  },
  {
   "cell_type": "code",
   "execution_count": 2,
   "metadata": {},
   "outputs": [],
   "source": [
    "def select_gpu(N):\n",
    "    gpus = tf.config.experimental.list_physical_devices('GPU')\n",
    "    print(gpus)\n",
    "    if gpus:\n",
    "        try:\n",
    "            for gpu in gpus:\n",
    "                tf.config.experimental.set_memory_growth(gpu, True)\n",
    "            tf.config.experimental.set_visible_devices(gpus[N], 'GPU')\n",
    "            logical_gpus = tf.config.experimental.list_logical_devices('GPU')\n",
    "            print(len(gpus), \"Physical GPUs,\", len(logical_gpus), \"Logical GPUs\")\n",
    "        except RuntimeError as e:\n",
    "            print(e)    "
   ]
  },
  {
   "cell_type": "code",
   "execution_count": 3,
   "metadata": {},
   "outputs": [
    {
     "name": "stdout",
     "output_type": "stream",
     "text": [
      "[PhysicalDevice(name='/physical_device:GPU:0', device_type='GPU'), PhysicalDevice(name='/physical_device:GPU:1', device_type='GPU'), PhysicalDevice(name='/physical_device:GPU:2', device_type='GPU')]\n",
      "3 Physical GPUs, 1 Logical GPUs\n"
     ]
    }
   ],
   "source": [
    "select_gpu(2)\n",
    "epochs = 64\n",
    "batch_size = 2048\n",
    "model_name = 'chinese_roberta_wwm_large_ext_L-24_H-1024_A-16'\n",
    "embedding_path = '/home/Danny/pretrain_model/{}'.format(model_name)"
   ]
  },
  {
   "cell_type": "code",
   "execution_count": 4,
   "metadata": {},
   "outputs": [],
   "source": [
    "# 不用儲存article_id, 轉成list\n",
    "def training_txt_to_list(path):\n",
    "    with open(path, 'r') as f:\n",
    "        txt = str(f.read())\n",
    "    txt_list = txt.split('\\n')\n",
    "    text_label_list = list()\n",
    "    tmp = list()\n",
    "    for line in txt_list:\n",
    "        if line == '--------------------':\n",
    "            text_label_list.append(tmp)\n",
    "            tmp = list()\n",
    "            continue\n",
    "        if line == '':\n",
    "            continue\n",
    "        tmp.append(line)\n",
    "    x = list()\n",
    "    y = list()\n",
    "    for text_label in text_label_list:\n",
    "        text = text_label[0]\n",
    "        label = text_label[2:]\n",
    "        label_list = ['O' for i in range(len(text))]\n",
    "        for i in label:\n",
    "            entity = i.split('\\t')\n",
    "            if int(entity[1]) > int(entity[2]):\n",
    "                continue\n",
    "            b = int(entity[1])\n",
    "            label_list[b] = 'B-{}'.format(entity[-1])\n",
    "            for j in range(int(entity[1])+1, int(entity[2])):\n",
    "                label_list[j] = 'I-{}'.format(entity[-1])\n",
    "        for i, j in enumerate(text):\n",
    "            if j == '。' or j == '？':\n",
    "                label_list[i] = j\n",
    "                \n",
    "        text_list = re.split('\\u3002|\\uff1f', text)\n",
    "        for sentence in text_list:\n",
    "            x.append([i for i in sentence])\n",
    "        x = x[:-1]\n",
    "            \n",
    "        sentence = list()\n",
    "        for i in label_list:\n",
    "            if i == '。' or i == '？':\n",
    "                y.append(sentence)\n",
    "                sentence = list()\n",
    "            else:\n",
    "                sentence.append(i)\n",
    "                \n",
    "    return [x, y]"
   ]
  },
  {
   "cell_type": "code",
   "execution_count": 5,
   "metadata": {},
   "outputs": [],
   "source": [
    "x1, y1 = training_txt_to_list('/home/Danny/ai-cup-2020/datasets/stage1/SampleData_deid.txt')"
   ]
  },
  {
   "cell_type": "code",
   "execution_count": 6,
   "metadata": {},
   "outputs": [],
   "source": [
    "x2, y2 = training_txt_to_list('/home/Danny/ai-cup-2020/datasets/stage2/train_1_update.txt')"
   ]
  },
  {
   "cell_type": "code",
   "execution_count": 7,
   "metadata": {},
   "outputs": [],
   "source": [
    "x4, y4 = training_txt_to_list('/home/Danny/ai-cup-2020/datasets/stage4/train_2.txt')"
   ]
  },
  {
   "cell_type": "code",
   "execution_count": 8,
   "metadata": {},
   "outputs": [
    {
     "name": "stdout",
     "output_type": "stream",
     "text": [
      "44334\n",
      "44334\n"
     ]
    }
   ],
   "source": [
    "x = x1 + x2 + x4\n",
    "y = y1 + y2 + y4\n",
    "print(len(x))\n",
    "print(len(y))"
   ]
  },
  {
   "cell_type": "code",
   "execution_count": 9,
   "metadata": {},
   "outputs": [
    {
     "name": "stdout",
     "output_type": "stream",
     "text": [
      "28373 28373\n",
      "7094 7094\n",
      "8867 8867\n"
     ]
    }
   ],
   "source": [
    "from sklearn.model_selection import train_test_split\n",
    "train_x, test_x, train_y, test_y = train_test_split(x, y, test_size=0.2, random_state=42)\n",
    "train_x, valid_x, train_y, valid_y = train_test_split(train_x, train_y, test_size=0.2, random_state=42)\n",
    "print(len(train_x), len(train_y))\n",
    "print(len(valid_x), len(valid_y))\n",
    "print(len(test_x), len(test_y))"
   ]
  },
  {
   "cell_type": "code",
   "execution_count": 10,
   "metadata": {},
   "outputs": [
    {
     "name": "stderr",
     "output_type": "stream",
     "text": [
      "2020-12-23 13:25:16,658 [DEBUG] kashgari - ------------------------------------------------\n",
      "2020-12-23 13:25:16,659 [DEBUG] kashgari - Loaded transformer model's vocab\n",
      "2020-12-23 13:25:16,659 [DEBUG] kashgari - config_path       : /home/Danny/pretrain_model/chinese_roberta_wwm_large_ext_L-24_H-1024_A-16/bert_config.json\n",
      "2020-12-23 13:25:16,660 [DEBUG] kashgari - vocab_path      : /home/Danny/pretrain_model/chinese_roberta_wwm_large_ext_L-24_H-1024_A-16/vocab.txt\n",
      "2020-12-23 13:25:16,660 [DEBUG] kashgari - checkpoint_path : /home/Danny/pretrain_model/chinese_roberta_wwm_large_ext_L-24_H-1024_A-16/bert_model.ckpt\n",
      "2020-12-23 13:25:16,661 [DEBUG] kashgari - Top 50 words    : ['[PAD]', '[unused1]', '[unused2]', '[unused3]', '[unused4]', '[unused5]', '[unused6]', '[unused7]', '[unused8]', '[unused9]', '[unused10]', '[unused11]', '[unused12]', '[unused13]', '[unused14]', '[unused15]', '[unused16]', '[unused17]', '[unused18]', '[unused19]', '[unused20]', '[unused21]', '[unused22]', '[unused23]', '[unused24]', '[unused25]', '[unused26]', '[unused27]', '[unused28]', '[unused29]', '[unused30]', '[unused31]', '[unused32]', '[unused33]', '[unused34]', '[unused35]', '[unused36]', '[unused37]', '[unused38]', '[unused39]', '[unused40]', '[unused41]', '[unused42]', '[unused43]', '[unused44]', '[unused45]', '[unused46]', '[unused47]', '[unused48]', '[unused49]']\n",
      "2020-12-23 13:25:16,661 [DEBUG] kashgari - ------------------------------------------------\n"
     ]
    }
   ],
   "source": [
    "import kashgari\n",
    "from kashgari.tasks.labeling import BiLSTM_CRF_Model\n",
    "from kashgari.embeddings import TransformerEmbedding\n",
    "from keras_radam import RAdam\n",
    "kashgari.config.use_cudnn_cell = True\n",
    "\n",
    "embedding_path = '/home/Danny/pretrain_model/{}'.format(model_name)\n",
    "vocab_path = os.path.join(embedding_path, 'vocab.txt')\n",
    "config_path = os.path.join(embedding_path, 'bert_config.json')\n",
    "checkpoint_path = os.path.join(embedding_path, 'bert_model.ckpt')\n",
    "embedding = TransformerEmbedding(vocab_path, \n",
    "                                 config_path, \n",
    "                                 checkpoint_path,\n",
    "                                 bert_type='bert',\n",
    "                                 sequence_length='auto',\n",
    "                                 trainable=True,\n",
    "                                 task='kashgari.LABELING',\n",
    "                                )\n",
    "\n",
    "model = BiLSTM_CRF_Model(embedding)\n",
    "# model.build_model(train_x, train_y)\n",
    "# model.compile_model(optimizer=RAdam(lr=3e-5))\n",
    "# hyper = model.default_hyper_parameters()\n",
    "# print(hyper)"
   ]
  },
  {
   "cell_type": "code",
   "execution_count": null,
   "metadata": {},
   "outputs": [
    {
     "name": "stderr",
     "output_type": "stream",
     "text": [
      "Preparing text vocab dict: 100%|██████████| 28373/28373 [00:00<00:00, 285114.27it/s]\n",
      "Preparing text vocab dict: 100%|██████████| 7094/7094 [00:00<00:00, 290931.06it/s]\n",
      "2020-12-23 13:25:16,796 [DEBUG] kashgari - --- Build vocab dict finished, Total: 1731 ---\n",
      "2020-12-23 13:25:16,796 [DEBUG] kashgari - Top-10: ['[PAD]', '[UNK]', '[CLS]', '[SEP]', '：', '，', '師', '是', '民', '眾']\n",
      "Preparing text vocab dict: 100%|██████████| 28373/28373 [00:00<00:00, 396761.32it/s]\n",
      "Preparing text vocab dict: 100%|██████████| 7094/7094 [00:00<00:00, 392015.82it/s]\n",
      "2020-12-23 13:25:16,890 [DEBUG] kashgari - --- Build vocab dict finished, Total: 28 ---\n",
      "2020-12-23 13:25:16,891 [DEBUG] kashgari - Top-10: ['[PAD]', 'O', 'I-time', 'B-time', 'I-med_exam', 'I-name', 'B-med_exam', 'I-location', 'I-money', 'B-name']\n"
     ]
    }
   ],
   "source": [
    "%%time\n",
    "history = model.fit(train_x,\n",
    "                    train_y,\n",
    "                    valid_x,\n",
    "                    valid_y,\n",
    "                    epochs=epochs,\n",
    "                    batch_size=batch_size,\n",
    "                   )"
   ]
  },
  {
   "cell_type": "code",
   "execution_count": null,
   "metadata": {},
   "outputs": [],
   "source": [
    "model_path = 'model/{}_epoch_{}_batch_{}'.format(model_name, epochs, batch_size)\n",
    "model.save(model_path)"
   ]
  },
  {
   "cell_type": "code",
   "execution_count": null,
   "metadata": {},
   "outputs": [],
   "source": [
    "from kashgari.utils import load_model\n",
    "model_path = 'model/{}_epoch_{}_batch_{}'.format(model_name, epochs, batch_size)\n",
    "model = load_model(model_path)\n",
    "model.evaluate(test_x, test_y)"
   ]
  },
  {
   "cell_type": "code",
   "execution_count": null,
   "metadata": {},
   "outputs": [],
   "source": [
    "plt.plot(history.history['accuracy'])\n",
    "plt.plot(history.history['val_accuracy'])\n",
    "plt.plot(history.history['loss'])\n",
    "plt.plot(history.history['val_loss'])\n",
    "plt.title('model accuracy')\n",
    "plt.ylabel('accuracy')\n",
    "plt.xlabel('epoch')\n",
    "plt.legend(['accuracy', 'val_accuracy', 'loss', 'val_loss'])\n",
    "plt.show()"
   ]
  },
  {
   "cell_type": "code",
   "execution_count": null,
   "metadata": {},
   "outputs": [],
   "source": [
    "# 需要儲存article_id, 轉成dataframe\n",
    "def predicting_txt_to_dataframe(path):    \n",
    "    with open(path, 'r') as f:\n",
    "        txt = str(f.read())\n",
    "        txt_list = txt.split('\\n')\n",
    "    row_list = list()\n",
    "    tmp_list = list()\n",
    "    for row in txt_list:\n",
    "        if row == '--------------------':\n",
    "            tmp_list[0] = tmp_list[0].replace('article_id:', '')\n",
    "            tmp_list[0] = int(tmp_list[0])\n",
    "            row_list.append(tmp_list)\n",
    "            tmp_list = list()\n",
    "            continue\n",
    "        if len(row) > 0:\n",
    "            tmp_list.append(row)\n",
    "    df = pd.DataFrame(row_list, columns=['article_id','text'])\n",
    "    return df"
   ]
  },
  {
   "cell_type": "code",
   "execution_count": null,
   "metadata": {},
   "outputs": [],
   "source": [
    "def predict_NER(text):\n",
    "    x_list = list()    \n",
    "    text_list = re.split('\\u3002|\\uff1f', text)\n",
    "    for article in text_list:\n",
    "        x_list.append([i for i in article])\n",
    "    y_list_list = model.predict(x_list)\n",
    "    y_list = list()\n",
    "    for sentence in y_list_list:\n",
    "        for word in sentence:\n",
    "            y_list.append(word)\n",
    "        y_list.append('O') # append(，。？)\n",
    "    y_list = y_list[:-1]\n",
    "    return y_list"
   ]
  },
  {
   "cell_type": "code",
   "execution_count": null,
   "metadata": {},
   "outputs": [],
   "source": [
    "def output_NER(article_id, text, y_list):\n",
    "    output_str = str()\n",
    "    flag = False\n",
    "    for i, j in enumerate(y_list):\n",
    "        if j != 'O':\n",
    "            if j[0] == 'B':\n",
    "                start_position = i\n",
    "                entity_type = j.split('-')[-1]\n",
    "                flag = True\n",
    "        elif j == 'O' and flag == True:\n",
    "            end_position = i\n",
    "            flag = False\n",
    "            entity_text = text[start_position: end_position]\n",
    "            entity = '{}\\t{}\\t{}\\t{}\\t{}\\n'.format(article_id, start_position, end_position, entity_text, entity_type)  \n",
    "            output_str += entity\n",
    "    return output_str"
   ]
  },
  {
   "cell_type": "code",
   "execution_count": null,
   "metadata": {},
   "outputs": [],
   "source": [
    "df = predicting_txt_to_dataframe('/home/Danny/ai-cup-2020/datasets/stage5/test.txt')\n",
    "output_str = \"article_id\\tstart_position\\tend_position\\tentity_text\\tentity_type\\n\"\n",
    "\n",
    "for article_id, text in zip(df['article_id'], df['text']):\n",
    "    x_list = [word for word in text]\n",
    "    y_list = predict_NER(text)\n",
    "    output_str += output_NER(article_id, text, y_list)"
   ]
  },
  {
   "cell_type": "code",
   "execution_count": null,
   "metadata": {},
   "outputs": [],
   "source": [
    "# print(output_str)"
   ]
  },
  {
   "cell_type": "code",
   "execution_count": null,
   "metadata": {},
   "outputs": [],
   "source": [
    "output_path = 'output/{}_epoch_{}_batch_{}.tsv'.format(model_name, epochs, batch_size)\n",
    "with open(output_path, 'w', encoding='utf-8') as f:\n",
    "    f.write(output_str)"
   ]
  },
  {
   "cell_type": "code",
   "execution_count": null,
   "metadata": {},
   "outputs": [],
   "source": [
    "df = pd.read_csv(output_path, sep='\\t')\n",
    "df"
   ]
  },
  {
   "cell_type": "code",
   "execution_count": null,
   "metadata": {},
   "outputs": [],
   "source": []
  }
 ],
 "metadata": {
  "kernelspec": {
   "display_name": "Python 3",
   "language": "python",
   "name": "python3"
  },
  "language_info": {
   "codemirror_mode": {
    "name": "ipython",
    "version": 3
   },
   "file_extension": ".py",
   "mimetype": "text/x-python",
   "name": "python",
   "nbconvert_exporter": "python",
   "pygments_lexer": "ipython3",
   "version": "3.6.10"
  }
 },
 "nbformat": 4,
 "nbformat_minor": 4
}
