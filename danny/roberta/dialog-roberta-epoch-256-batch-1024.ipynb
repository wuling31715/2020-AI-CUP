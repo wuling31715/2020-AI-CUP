{
 "cells": [
  {
   "cell_type": "code",
   "execution_count": 1,
   "metadata": {},
   "outputs": [],
   "source": [
    "import re\n",
    "import os\n",
    "import pandas as pd\n",
    "import tensorflow as tf\n",
    "from matplotlib import pyplot as plt"
   ]
  },
  {
   "cell_type": "code",
   "execution_count": 2,
   "metadata": {},
   "outputs": [],
   "source": [
    "def select_gpu(N):\n",
    "    gpus = tf.config.experimental.list_physical_devices('GPU')\n",
    "    print(gpus)\n",
    "    if gpus:\n",
    "        try:\n",
    "            for gpu in gpus:\n",
    "                tf.config.experimental.set_memory_growth(gpu, True)\n",
    "            tf.config.experimental.set_visible_devices(gpus[N], 'GPU')\n",
    "            logical_gpus = tf.config.experimental.list_logical_devices('GPU')\n",
    "            print(len(gpus), \"Physical GPUs,\", len(logical_gpus), \"Logical GPUs\")\n",
    "        except RuntimeError as e:\n",
    "            print(e)    "
   ]
  },
  {
   "cell_type": "code",
   "execution_count": 3,
   "metadata": {},
   "outputs": [
    {
     "name": "stdout",
     "output_type": "stream",
     "text": [
      "[PhysicalDevice(name='/physical_device:GPU:0', device_type='GPU'), PhysicalDevice(name='/physical_device:GPU:1', device_type='GPU'), PhysicalDevice(name='/physical_device:GPU:2', device_type='GPU')]\n",
      "3 Physical GPUs, 1 Logical GPUs\n"
     ]
    }
   ],
   "source": [
    "select_gpu(2)\n",
    "epochs = 256\n",
    "batch_size = 1024\n",
    "model_name = 'chinese_roberta_wwm_large_ext_L-24_H-1024_A-16'\n",
    "embedding_path = '/home/Danny/pretrain_model/{}'.format(model_name)"
   ]
  },
  {
   "cell_type": "code",
   "execution_count": 4,
   "metadata": {},
   "outputs": [],
   "source": [
    "# 不用儲存article_id, 轉成list\n",
    "def training_txt_to_list_one_dialog(path):\n",
    "    with open(path, 'r') as f:\n",
    "        txt = str(f.read())\n",
    "    txt_list = txt.split('\\n')\n",
    "    text_label_list = list()\n",
    "    tmp = list()\n",
    "    for line in txt_list:\n",
    "        if line == '--------------------':\n",
    "            text_label_list.append(tmp)\n",
    "            tmp = list()\n",
    "            continue\n",
    "        if line == '':\n",
    "            continue\n",
    "        tmp.append(line)\n",
    "    x = list()\n",
    "    y = list()\n",
    "    for text_label in text_label_list:\n",
    "        text = text_label[0]\n",
    "        label = text_label[2:]\n",
    "        label_list = ['O' for i in range(len(text))]\n",
    "        for i in label:\n",
    "            entity = i.split('\\t')\n",
    "            if int(entity[1]) > int(entity[2]):\n",
    "                continue\n",
    "            b = int(entity[1])\n",
    "            label_list[b] = 'B-{}'.format(entity[-1])\n",
    "            for j in range(int(entity[1])+1, int(entity[2])):\n",
    "                label_list[j] = 'I-{}'.format(entity[-1])\n",
    "\n",
    "        text_list = re.split('：', text)\n",
    "        #print(text_list)\n",
    "        last_end_pos = 0\n",
    "        char_num = 0\n",
    "        for idx in range(1,len(text_list)):\n",
    "            string = []\n",
    "            labels = []\n",
    "            end_pos = 0\n",
    "            for idx_iterate_sentence in range(len(text_list[idx])-1,-1,-1):\n",
    "                #print(idx_iterate_sentence)\n",
    "                if text_list[idx][idx_iterate_sentence] == '。' or text_list[idx][idx_iterate_sentence] == '？' or text_list[idx][idx_iterate_sentence] == '！' or text_list[idx][idx_iterate_sentence] == '～' or text_list[idx][idx_iterate_sentence] == '…' or text_list[idx][idx_iterate_sentence] == '.' or text_list[idx][idx_iterate_sentence] == '⋯⋯':\n",
    "                    end_pos = idx_iterate_sentence + 1\n",
    "                    break\n",
    "            for s in text_list[idx-1][last_end_pos:]:\n",
    "                string.append(s)\n",
    "            string.append('：')\n",
    "            #print(string)\n",
    "            for s in text_list[idx][:end_pos]:\n",
    "                string.append(s)\n",
    "            x.append(string)\n",
    "            for label_idx in range(char_num, char_num + len(string)):\n",
    "                try:\n",
    "                    labels.append(label_list[label_idx])\n",
    "                except(IndexError):\n",
    "                    print(labels)\n",
    "            y.append(labels)\n",
    "            char_num += len(string)\n",
    "            last_end_pos = end_pos\n",
    "\n",
    "                \n",
    "    return [x, y]"
   ]
  },
  {
   "cell_type": "code",
   "execution_count": 5,
   "metadata": {},
   "outputs": [],
   "source": [
    "x1, y1 = training_txt_to_list_one_dialog('/home/Danny/ai-cup-2020/datasets/stage1/SampleData_deid.txt')"
   ]
  },
  {
   "cell_type": "code",
   "execution_count": 6,
   "metadata": {},
   "outputs": [],
   "source": [
    "x2, y2 = training_txt_to_list_one_dialog('/home/Danny/ai-cup-2020/datasets/stage2/train_1_update.txt')"
   ]
  },
  {
   "cell_type": "code",
   "execution_count": 7,
   "metadata": {},
   "outputs": [],
   "source": [
    "x4, y4 = training_txt_to_list_one_dialog('/home/Danny/ai-cup-2020/datasets/stage4/train_2.txt')"
   ]
  },
  {
   "cell_type": "code",
   "execution_count": 8,
   "metadata": {},
   "outputs": [
    {
     "data": {
      "text/html": [
       "<div>\n",
       "<style scoped>\n",
       "    .dataframe tbody tr th:only-of-type {\n",
       "        vertical-align: middle;\n",
       "    }\n",
       "\n",
       "    .dataframe tbody tr th {\n",
       "        vertical-align: top;\n",
       "    }\n",
       "\n",
       "    .dataframe thead th {\n",
       "        text-align: right;\n",
       "    }\n",
       "</style>\n",
       "<table border=\"1\" class=\"dataframe\">\n",
       "  <thead>\n",
       "    <tr style=\"text-align: right;\">\n",
       "      <th></th>\n",
       "      <th>x</th>\n",
       "      <th>y</th>\n",
       "    </tr>\n",
       "  </thead>\n",
       "  <tbody>\n",
       "    <tr>\n",
       "      <th>0</th>\n",
       "      <td>['醫', '師', '：', '那', '時', '候', '在', '做', 'S', ...</td>\n",
       "      <td>['O', 'O', 'O', 'O', 'O', 'O', 'O', 'O', 'B-cl...</td>\n",
       "    </tr>\n",
       "    <tr>\n",
       "      <th>1</th>\n",
       "      <td>['醫', '師', '：', '那', '時', '候', '在', '做', 's', ...</td>\n",
       "      <td>['O', 'O', 'O', 'O', 'O', 'O', 'O', 'O', 'B-cl...</td>\n",
       "    </tr>\n",
       "    <tr>\n",
       "      <th>2</th>\n",
       "      <td>['醫', '師', '：', '那', '時', '候', '在', '做', 'C', ...</td>\n",
       "      <td>['O', 'O', 'O', 'O', 'O', 'O', 'O', 'O', 'B-cl...</td>\n",
       "    </tr>\n",
       "    <tr>\n",
       "      <th>3</th>\n",
       "      <td>['醫', '師', '：', '那', '時', '候', '在', '做', 'c', ...</td>\n",
       "      <td>['O', 'O', 'O', 'O', 'O', 'O', 'O', 'O', 'B-cl...</td>\n",
       "    </tr>\n",
       "    <tr>\n",
       "      <th>4</th>\n",
       "      <td>['醫', '師', '：', '那', '時', '候', '在', '做', 'C', ...</td>\n",
       "      <td>['O', 'O', 'O', 'O', 'O', 'O', 'O', 'O', 'B-cl...</td>\n",
       "    </tr>\n",
       "    <tr>\n",
       "      <th>...</th>\n",
       "      <td>...</td>\n",
       "      <td>...</td>\n",
       "    </tr>\n",
       "    <tr>\n",
       "      <th>495</th>\n",
       "      <td>['民', '眾', '：', '第', '二', '支', '7', '8', '0', ...</td>\n",
       "      <td>['O', 'O', 'O', 'O', 'O', 'O', 'B-money', 'I-m...</td>\n",
       "    </tr>\n",
       "    <tr>\n",
       "      <th>496</th>\n",
       "      <td>['民', '眾', '：', '我', '是', '帶', '十', '塊', '錢', ...</td>\n",
       "      <td>['O', 'O', 'O', 'O', 'O', 'O', 'B-money', 'I-m...</td>\n",
       "    </tr>\n",
       "    <tr>\n",
       "      <th>497</th>\n",
       "      <td>['醫', '師', '：', '那', '是', '1', '2', '0', '0', ...</td>\n",
       "      <td>['O', 'O', 'O', 'O', 'O', 'B-money', 'I-money'...</td>\n",
       "    </tr>\n",
       "    <tr>\n",
       "      <th>498</th>\n",
       "      <td>['醫', '師', '：', '齁', '所', '以', '你', '今', '天', ...</td>\n",
       "      <td>['O', 'O', 'O', 'O', 'O', 'O', 'O', 'O', 'O', ...</td>\n",
       "    </tr>\n",
       "    <tr>\n",
       "      <th>499</th>\n",
       "      <td>['醫', '師', '：', '阿', '不', '過', '自', '費', '可', ...</td>\n",
       "      <td>['O', 'O', 'O', 'O', 'O', 'O', 'O', 'O', 'O', ...</td>\n",
       "    </tr>\n",
       "  </tbody>\n",
       "</table>\n",
       "<p>1605 rows × 2 columns</p>\n",
       "</div>"
      ],
      "text/plain": [
       "                                                     x  \\\n",
       "0    ['醫', '師', '：', '那', '時', '候', '在', '做', 'S', ...   \n",
       "1    ['醫', '師', '：', '那', '時', '候', '在', '做', 's', ...   \n",
       "2    ['醫', '師', '：', '那', '時', '候', '在', '做', 'C', ...   \n",
       "3    ['醫', '師', '：', '那', '時', '候', '在', '做', 'c', ...   \n",
       "4    ['醫', '師', '：', '那', '時', '候', '在', '做', 'C', ...   \n",
       "..                                                 ...   \n",
       "495  ['民', '眾', '：', '第', '二', '支', '7', '8', '0', ...   \n",
       "496  ['民', '眾', '：', '我', '是', '帶', '十', '塊', '錢', ...   \n",
       "497  ['醫', '師', '：', '那', '是', '1', '2', '0', '0', ...   \n",
       "498  ['醫', '師', '：', '齁', '所', '以', '你', '今', '天', ...   \n",
       "499  ['醫', '師', '：', '阿', '不', '過', '自', '費', '可', ...   \n",
       "\n",
       "                                                     y  \n",
       "0    ['O', 'O', 'O', 'O', 'O', 'O', 'O', 'O', 'B-cl...  \n",
       "1    ['O', 'O', 'O', 'O', 'O', 'O', 'O', 'O', 'B-cl...  \n",
       "2    ['O', 'O', 'O', 'O', 'O', 'O', 'O', 'O', 'B-cl...  \n",
       "3    ['O', 'O', 'O', 'O', 'O', 'O', 'O', 'O', 'B-cl...  \n",
       "4    ['O', 'O', 'O', 'O', 'O', 'O', 'O', 'O', 'B-cl...  \n",
       "..                                                 ...  \n",
       "495  ['O', 'O', 'O', 'O', 'O', 'O', 'B-money', 'I-m...  \n",
       "496  ['O', 'O', 'O', 'O', 'O', 'O', 'B-money', 'I-m...  \n",
       "497  ['O', 'O', 'O', 'O', 'O', 'B-money', 'I-money'...  \n",
       "498  ['O', 'O', 'O', 'O', 'O', 'O', 'O', 'O', 'O', ...  \n",
       "499  ['O', 'O', 'O', 'O', 'O', 'O', 'O', 'O', 'O', ...  \n",
       "\n",
       "[1605 rows x 2 columns]"
      ]
     },
     "execution_count": 8,
     "metadata": {},
     "output_type": "execute_result"
    }
   ],
   "source": [
    "augmentation_df = pd.DataFrame(columns=['x', 'y'])\n",
    "clinical_event_augmentation_df = pd.read_csv('/home/Danny/ai-cup-2020/datasets/data_augmentation_dialog/clinical_event_augmentation_from_train_label_1223.csv')\n",
    "contact_augmentation_df = pd.read_csv('/home/Danny/ai-cup-2020/datasets/data_augmentation_dialog/contact_augmentation_from_train_label_1223.csv')\n",
    "education_dialog_augmentation_df = pd.read_csv('/home/Danny/ai-cup-2020/datasets/data_augmentation_dialog/education_dialog_augmentation_train_label_1223.csv')\n",
    "family_dialog_augmentation_df = pd.read_csv('/home/Danny/ai-cup-2020/datasets/data_augmentation_dialog/family_dialog_augmentation_from_train_label_1223.csv')\n",
    "med_exam_dialog_augmentation_df = pd.read_csv('/home/Danny/ai-cup-2020/datasets/data_augmentation_dialog/med_exam_dialog_augmentation_from_train_label_1223.csv')\n",
    "money_dialog_augmentation_df = pd.read_csv('/home/Danny/ai-cup-2020/datasets/data_augmentation_dialog/money_dialog_augmentation_from_train_label_1223.csv')\n",
    "augmentation_df = augmentation_df.append(clinical_event_augmentation_df)\n",
    "augmentation_df = augmentation_df.append(contact_augmentation_df)\n",
    "augmentation_df = augmentation_df.append(education_dialog_augmentation_df)\n",
    "augmentation_df = augmentation_df.append(family_dialog_augmentation_df)\n",
    "augmentation_df = augmentation_df.append(med_exam_dialog_augmentation_df)\n",
    "augmentation_df = augmentation_df.append(money_dialog_augmentation_df)\n",
    "augmentation_df"
   ]
  },
  {
   "cell_type": "code",
   "execution_count": 9,
   "metadata": {},
   "outputs": [],
   "source": [
    "augmentation_x_list = augmentation_df['x'].tolist()\n",
    "augmentation_y_list = augmentation_df['y'].tolist()"
   ]
  },
  {
   "cell_type": "code",
   "execution_count": 10,
   "metadata": {},
   "outputs": [
    {
     "name": "stdout",
     "output_type": "stream",
     "text": [
      "42623\n",
      "42623\n"
     ]
    }
   ],
   "source": [
    "x = x1 + x2 + x4 + augmentation_x_list\n",
    "y = y1 + y2 + y4 + augmentation_y_list\n",
    "print(len(x))\n",
    "print(len(y))"
   ]
  },
  {
   "cell_type": "code",
   "execution_count": 11,
   "metadata": {},
   "outputs": [
    {
     "data": {
      "text/html": [
       "<div>\n",
       "<style scoped>\n",
       "    .dataframe tbody tr th:only-of-type {\n",
       "        vertical-align: middle;\n",
       "    }\n",
       "\n",
       "    .dataframe tbody tr th {\n",
       "        vertical-align: top;\n",
       "    }\n",
       "\n",
       "    .dataframe thead th {\n",
       "        text-align: right;\n",
       "    }\n",
       "</style>\n",
       "<table border=\"1\" class=\"dataframe\">\n",
       "  <thead>\n",
       "    <tr style=\"text-align: right;\">\n",
       "      <th></th>\n",
       "      <th>x</th>\n",
       "      <th>y</th>\n",
       "    </tr>\n",
       "  </thead>\n",
       "  <tbody>\n",
       "    <tr>\n",
       "      <th>0</th>\n",
       "      <td>[醫, 師, ：, 你, 有, 做, 超, 音, 波, 嘛, ，, 那, 我, 們, 來, ...</td>\n",
       "      <td>[O, O, O, O, O, O, O, O, O, O, O, O, O, O, O, ...</td>\n",
       "    </tr>\n",
       "    <tr>\n",
       "      <th>1</th>\n",
       "      <td>[民, 眾, ：, 紅, 字, 是, 甚, 麼, 意, 思, ？]</td>\n",
       "      <td>[O, O, O, O, O, O, O, O, O, O, O]</td>\n",
       "    </tr>\n",
       "    <tr>\n",
       "      <th>2</th>\n",
       "      <td>[醫, 師, ：, 就, 是, 肝, 功, 能, 有, 比, 較, 高, ，, 肝, 功, ...</td>\n",
       "      <td>[O, O, O, O, O, O, O, O, O, O, O, O, O, O, O, ...</td>\n",
       "    </tr>\n",
       "    <tr>\n",
       "      <th>3</th>\n",
       "      <td>[民, 眾, ：, 它, 會, 自, 動, 修, 復, 阿, 。]</td>\n",
       "      <td>[O, O, O, O, O, O, O, O, O, O, O]</td>\n",
       "    </tr>\n",
       "    <tr>\n",
       "      <th>4</th>\n",
       "      <td>[醫, 師, ：, 你, 有, 抗, 體, 了, 阿, ，, 所, 以, 你, B, 肝, ...</td>\n",
       "      <td>[O, O, O, O, O, O, O, O, O, O, O, O, O, O, O, ...</td>\n",
       "    </tr>\n",
       "    <tr>\n",
       "      <th>...</th>\n",
       "      <td>...</td>\n",
       "      <td>...</td>\n",
       "    </tr>\n",
       "    <tr>\n",
       "      <th>42618</th>\n",
       "      <td>['民', '眾', '：', '第', '二', '支', '7', '8', '0', ...</td>\n",
       "      <td>['O', 'O', 'O', 'O', 'O', 'O', 'B-money', 'I-m...</td>\n",
       "    </tr>\n",
       "    <tr>\n",
       "      <th>42619</th>\n",
       "      <td>['民', '眾', '：', '我', '是', '帶', '十', '塊', '錢', ...</td>\n",
       "      <td>['O', 'O', 'O', 'O', 'O', 'O', 'B-money', 'I-m...</td>\n",
       "    </tr>\n",
       "    <tr>\n",
       "      <th>42620</th>\n",
       "      <td>['醫', '師', '：', '那', '是', '1', '2', '0', '0', ...</td>\n",
       "      <td>['O', 'O', 'O', 'O', 'O', 'B-money', 'I-money'...</td>\n",
       "    </tr>\n",
       "    <tr>\n",
       "      <th>42621</th>\n",
       "      <td>['醫', '師', '：', '齁', '所', '以', '你', '今', '天', ...</td>\n",
       "      <td>['O', 'O', 'O', 'O', 'O', 'O', 'O', 'O', 'O', ...</td>\n",
       "    </tr>\n",
       "    <tr>\n",
       "      <th>42622</th>\n",
       "      <td>['醫', '師', '：', '阿', '不', '過', '自', '費', '可', ...</td>\n",
       "      <td>['O', 'O', 'O', 'O', 'O', 'O', 'O', 'O', 'O', ...</td>\n",
       "    </tr>\n",
       "  </tbody>\n",
       "</table>\n",
       "<p>42623 rows × 2 columns</p>\n",
       "</div>"
      ],
      "text/plain": [
       "                                                       x  \\\n",
       "0      [醫, 師, ：, 你, 有, 做, 超, 音, 波, 嘛, ，, 那, 我, 們, 來, ...   \n",
       "1                      [民, 眾, ：, 紅, 字, 是, 甚, 麼, 意, 思, ？]   \n",
       "2      [醫, 師, ：, 就, 是, 肝, 功, 能, 有, 比, 較, 高, ，, 肝, 功, ...   \n",
       "3                      [民, 眾, ：, 它, 會, 自, 動, 修, 復, 阿, 。]   \n",
       "4      [醫, 師, ：, 你, 有, 抗, 體, 了, 阿, ，, 所, 以, 你, B, 肝, ...   \n",
       "...                                                  ...   \n",
       "42618  ['民', '眾', '：', '第', '二', '支', '7', '8', '0', ...   \n",
       "42619  ['民', '眾', '：', '我', '是', '帶', '十', '塊', '錢', ...   \n",
       "42620  ['醫', '師', '：', '那', '是', '1', '2', '0', '0', ...   \n",
       "42621  ['醫', '師', '：', '齁', '所', '以', '你', '今', '天', ...   \n",
       "42622  ['醫', '師', '：', '阿', '不', '過', '自', '費', '可', ...   \n",
       "\n",
       "                                                       y  \n",
       "0      [O, O, O, O, O, O, O, O, O, O, O, O, O, O, O, ...  \n",
       "1                      [O, O, O, O, O, O, O, O, O, O, O]  \n",
       "2      [O, O, O, O, O, O, O, O, O, O, O, O, O, O, O, ...  \n",
       "3                      [O, O, O, O, O, O, O, O, O, O, O]  \n",
       "4      [O, O, O, O, O, O, O, O, O, O, O, O, O, O, O, ...  \n",
       "...                                                  ...  \n",
       "42618  ['O', 'O', 'O', 'O', 'O', 'O', 'B-money', 'I-m...  \n",
       "42619  ['O', 'O', 'O', 'O', 'O', 'O', 'B-money', 'I-m...  \n",
       "42620  ['O', 'O', 'O', 'O', 'O', 'B-money', 'I-money'...  \n",
       "42621  ['O', 'O', 'O', 'O', 'O', 'O', 'O', 'O', 'O', ...  \n",
       "42622  ['O', 'O', 'O', 'O', 'O', 'O', 'O', 'O', 'O', ...  \n",
       "\n",
       "[42623 rows x 2 columns]"
      ]
     },
     "execution_count": 11,
     "metadata": {},
     "output_type": "execute_result"
    }
   ],
   "source": [
    "df = pd.DataFrame({'x': x, 'y': y})\n",
    "df"
   ]
  },
  {
   "cell_type": "code",
   "execution_count": 12,
   "metadata": {},
   "outputs": [
    {
     "name": "stderr",
     "output_type": "stream",
     "text": [
      "/home/Danny/anaconda3/lib/python3.6/site-packages/ipykernel_launcher.py:4: SettingWithCopyWarning: \n",
      "A value is trying to be set on a copy of a slice from a DataFrame.\n",
      "Try using .loc[row_indexer,col_indexer] = value instead\n",
      "\n",
      "See the caveats in the documentation: https://pandas.pydata.org/pandas-docs/stable/user_guide/indexing.html#returning-a-view-versus-a-copy\n",
      "  after removing the cwd from sys.path.\n",
      "/home/Danny/anaconda3/lib/python3.6/site-packages/ipykernel_launcher.py:5: SettingWithCopyWarning: \n",
      "A value is trying to be set on a copy of a slice from a DataFrame.\n",
      "Try using .loc[row_indexer,col_indexer] = value instead\n",
      "\n",
      "See the caveats in the documentation: https://pandas.pydata.org/pandas-docs/stable/user_guide/indexing.html#returning-a-view-versus-a-copy\n",
      "  \"\"\"\n"
     ]
    },
    {
     "data": {
      "text/html": [
       "<div>\n",
       "<style scoped>\n",
       "    .dataframe tbody tr th:only-of-type {\n",
       "        vertical-align: middle;\n",
       "    }\n",
       "\n",
       "    .dataframe tbody tr th {\n",
       "        vertical-align: top;\n",
       "    }\n",
       "\n",
       "    .dataframe thead th {\n",
       "        text-align: right;\n",
       "    }\n",
       "</style>\n",
       "<table border=\"1\" class=\"dataframe\">\n",
       "  <thead>\n",
       "    <tr style=\"text-align: right;\">\n",
       "      <th></th>\n",
       "      <th>x</th>\n",
       "      <th>y</th>\n",
       "    </tr>\n",
       "  </thead>\n",
       "  <tbody>\n",
       "    <tr>\n",
       "      <th>0</th>\n",
       "      <td>[醫, 師, ：, 你, 有, 做, 超, 音, 波, 嘛, ，, 那, 我, 們, 來, ...</td>\n",
       "      <td>[O, O, O, O, O, O, O, O, O, O, O, O, O, O, O, ...</td>\n",
       "    </tr>\n",
       "    <tr>\n",
       "      <th>1</th>\n",
       "      <td>[民, 眾, ：, 紅, 字, 是, 甚, 麼, 意, 思, ？]</td>\n",
       "      <td>[O, O, O, O, O, O, O, O, O, O, O]</td>\n",
       "    </tr>\n",
       "    <tr>\n",
       "      <th>2</th>\n",
       "      <td>[醫, 師, ：, 就, 是, 肝, 功, 能, 有, 比, 較, 高, ，, 肝, 功, ...</td>\n",
       "      <td>[O, O, O, O, O, O, O, O, O, O, O, O, O, O, O, ...</td>\n",
       "    </tr>\n",
       "    <tr>\n",
       "      <th>3</th>\n",
       "      <td>[民, 眾, ：, 它, 會, 自, 動, 修, 復, 阿, 。]</td>\n",
       "      <td>[O, O, O, O, O, O, O, O, O, O, O]</td>\n",
       "    </tr>\n",
       "    <tr>\n",
       "      <th>4</th>\n",
       "      <td>[醫, 師, ：, 你, 有, 抗, 體, 了, 阿, ，, 所, 以, 你, B, 肝, ...</td>\n",
       "      <td>[O, O, O, O, O, O, O, O, O, O, O, O, O, O, O, ...</td>\n",
       "    </tr>\n",
       "    <tr>\n",
       "      <th>...</th>\n",
       "      <td>...</td>\n",
       "      <td>...</td>\n",
       "    </tr>\n",
       "    <tr>\n",
       "      <th>42618</th>\n",
       "      <td>[民, 眾, ：, 第, 二, 支, 7, 8, 0, 0, 那, 支, 喔, ？]</td>\n",
       "      <td>[O, O, O, O, O, O, B-money, I-money, I-money, ...</td>\n",
       "    </tr>\n",
       "    <tr>\n",
       "      <th>42619</th>\n",
       "      <td>[民, 眾, ：, 我, 是, 帶, 十, 塊, 錢, 餒, 。]</td>\n",
       "      <td>[O, O, O, O, O, O, B-money, I-money, I-money, ...</td>\n",
       "    </tr>\n",
       "    <tr>\n",
       "      <th>42620</th>\n",
       "      <td>[醫, 師, ：, 那, 是, 1, 2, 0, 0, 。]</td>\n",
       "      <td>[O, O, O, O, O, B-money, I-money, I-money, I-m...</td>\n",
       "    </tr>\n",
       "    <tr>\n",
       "      <th>42621</th>\n",
       "      <td>[醫, 師, ：, 齁, 所, 以, 你, 今, 天, 大, 概, 會, 花, 到, 二, ...</td>\n",
       "      <td>[O, O, O, O, O, O, O, O, O, O, O, O, O, O, B-m...</td>\n",
       "    </tr>\n",
       "    <tr>\n",
       "      <th>42622</th>\n",
       "      <td>[醫, 師, ：, 阿, 不, 過, 自, 費, 可, 不, 可, 以, ？, 好, 像, ...</td>\n",
       "      <td>[O, O, O, O, O, O, O, O, O, O, O, O, O, O, O, ...</td>\n",
       "    </tr>\n",
       "  </tbody>\n",
       "</table>\n",
       "<p>20223 rows × 2 columns</p>\n",
       "</div>"
      ],
      "text/plain": [
       "                                                       x  \\\n",
       "0      [醫, 師, ：, 你, 有, 做, 超, 音, 波, 嘛, ，, 那, 我, 們, 來, ...   \n",
       "1                      [民, 眾, ：, 紅, 字, 是, 甚, 麼, 意, 思, ？]   \n",
       "2      [醫, 師, ：, 就, 是, 肝, 功, 能, 有, 比, 較, 高, ，, 肝, 功, ...   \n",
       "3                      [民, 眾, ：, 它, 會, 自, 動, 修, 復, 阿, 。]   \n",
       "4      [醫, 師, ：, 你, 有, 抗, 體, 了, 阿, ，, 所, 以, 你, B, 肝, ...   \n",
       "...                                                  ...   \n",
       "42618         [民, 眾, ：, 第, 二, 支, 7, 8, 0, 0, 那, 支, 喔, ？]   \n",
       "42619                  [民, 眾, ：, 我, 是, 帶, 十, 塊, 錢, 餒, 。]   \n",
       "42620                     [醫, 師, ：, 那, 是, 1, 2, 0, 0, 。]   \n",
       "42621  [醫, 師, ：, 齁, 所, 以, 你, 今, 天, 大, 概, 會, 花, 到, 二, ...   \n",
       "42622  [醫, 師, ：, 阿, 不, 過, 自, 費, 可, 不, 可, 以, ？, 好, 像, ...   \n",
       "\n",
       "                                                       y  \n",
       "0      [O, O, O, O, O, O, O, O, O, O, O, O, O, O, O, ...  \n",
       "1                      [O, O, O, O, O, O, O, O, O, O, O]  \n",
       "2      [O, O, O, O, O, O, O, O, O, O, O, O, O, O, O, ...  \n",
       "3                      [O, O, O, O, O, O, O, O, O, O, O]  \n",
       "4      [O, O, O, O, O, O, O, O, O, O, O, O, O, O, O, ...  \n",
       "...                                                  ...  \n",
       "42618  [O, O, O, O, O, O, B-money, I-money, I-money, ...  \n",
       "42619  [O, O, O, O, O, O, B-money, I-money, I-money, ...  \n",
       "42620  [O, O, O, O, O, B-money, I-money, I-money, I-m...  \n",
       "42621  [O, O, O, O, O, O, O, O, O, O, O, O, O, O, B-m...  \n",
       "42622  [O, O, O, O, O, O, O, O, O, O, O, O, O, O, O, ...  \n",
       "\n",
       "[20223 rows x 2 columns]"
      ]
     },
     "execution_count": 12,
     "metadata": {},
     "output_type": "execute_result"
    }
   ],
   "source": [
    "df['x'] = df['x'].apply(lambda row : str(row))\n",
    "df['y'] = df['y'].apply(lambda row : str(row))\n",
    "df = df.drop_duplicates()\n",
    "df['x'] = df['x'].apply(lambda row : eval(row))\n",
    "df['y'] = df['y'].apply(lambda row : eval(row))\n",
    "df"
   ]
  },
  {
   "cell_type": "code",
   "execution_count": 13,
   "metadata": {},
   "outputs": [],
   "source": [
    "x = df['x'].to_list()\n",
    "y = df['y'].to_list()"
   ]
  },
  {
   "cell_type": "code",
   "execution_count": 14,
   "metadata": {},
   "outputs": [
    {
     "name": "stdout",
     "output_type": "stream",
     "text": [
      "12942 12942\n",
      "3236 3236\n",
      "4045 4045\n"
     ]
    }
   ],
   "source": [
    "from sklearn.model_selection import train_test_split\n",
    "train_x, test_x, train_y, test_y = train_test_split(x, y, test_size=0.2, random_state=42)\n",
    "train_x, valid_x, train_y, valid_y = train_test_split(train_x, train_y, test_size=0.2, random_state=42)\n",
    "print(len(train_x), len(train_y))\n",
    "print(len(valid_x), len(valid_y))\n",
    "print(len(test_x), len(test_y))"
   ]
  },
  {
   "cell_type": "code",
   "execution_count": 15,
   "metadata": {},
   "outputs": [
    {
     "name": "stderr",
     "output_type": "stream",
     "text": [
      "2020-12-24 00:25:43,464 [DEBUG] kashgari - ------------------------------------------------\n",
      "2020-12-24 00:25:43,465 [DEBUG] kashgari - Loaded transformer model's vocab\n",
      "2020-12-24 00:25:43,465 [DEBUG] kashgari - config_path       : /home/Danny/pretrain_model/chinese_roberta_wwm_large_ext_L-24_H-1024_A-16/bert_config.json\n",
      "2020-12-24 00:25:43,465 [DEBUG] kashgari - vocab_path      : /home/Danny/pretrain_model/chinese_roberta_wwm_large_ext_L-24_H-1024_A-16/vocab.txt\n",
      "2020-12-24 00:25:43,466 [DEBUG] kashgari - checkpoint_path : /home/Danny/pretrain_model/chinese_roberta_wwm_large_ext_L-24_H-1024_A-16/bert_model.ckpt\n",
      "2020-12-24 00:25:43,466 [DEBUG] kashgari - Top 50 words    : ['[PAD]', '[unused1]', '[unused2]', '[unused3]', '[unused4]', '[unused5]', '[unused6]', '[unused7]', '[unused8]', '[unused9]', '[unused10]', '[unused11]', '[unused12]', '[unused13]', '[unused14]', '[unused15]', '[unused16]', '[unused17]', '[unused18]', '[unused19]', '[unused20]', '[unused21]', '[unused22]', '[unused23]', '[unused24]', '[unused25]', '[unused26]', '[unused27]', '[unused28]', '[unused29]', '[unused30]', '[unused31]', '[unused32]', '[unused33]', '[unused34]', '[unused35]', '[unused36]', '[unused37]', '[unused38]', '[unused39]', '[unused40]', '[unused41]', '[unused42]', '[unused43]', '[unused44]', '[unused45]', '[unused46]', '[unused47]', '[unused48]', '[unused49]']\n",
      "2020-12-24 00:25:43,467 [DEBUG] kashgari - ------------------------------------------------\n"
     ]
    }
   ],
   "source": [
    "import kashgari\n",
    "from kashgari.tasks.labeling import BiLSTM_CRF_Model\n",
    "from kashgari.embeddings import TransformerEmbedding\n",
    "from keras_radam import RAdam\n",
    "kashgari.config.use_cudnn_cell = True\n",
    "\n",
    "embedding_path = '/home/Danny/pretrain_model/{}'.format(model_name)\n",
    "vocab_path = os.path.join(embedding_path, 'vocab.txt')\n",
    "config_path = os.path.join(embedding_path, 'bert_config.json')\n",
    "checkpoint_path = os.path.join(embedding_path, 'bert_model.ckpt')\n",
    "embedding = TransformerEmbedding(vocab_path, \n",
    "                                 config_path, \n",
    "                                 checkpoint_path,\n",
    "                                 bert_type='bert',\n",
    "                                 sequence_length='auto',\n",
    "                                 trainable=True,\n",
    "                                 task='kashgari.LABELING',\n",
    "                                )\n",
    "\n",
    "model = BiLSTM_CRF_Model(embedding)\n",
    "# model.build_model(train_x, train_y)\n",
    "# model.compile_model(optimizer=RAdam(lr=3e-5))\n",
    "# hyper = model.default_hyper_parameters()\n",
    "# print(hyper)"
   ]
  },
  {
   "cell_type": "code",
   "execution_count": 16,
   "metadata": {},
   "outputs": [
    {
     "name": "stderr",
     "output_type": "stream",
     "text": [
      "Preparing text vocab dict: 100%|██████████| 12942/12942 [00:00<00:00, 220343.34it/s]\n",
      "Preparing text vocab dict: 100%|██████████| 3236/3236 [00:00<00:00, 216949.07it/s]\n",
      "2020-12-24 00:25:43,551 [DEBUG] kashgari - --- Build vocab dict finished, Total: 1572 ---\n",
      "2020-12-24 00:25:43,552 [DEBUG] kashgari - Top-10: ['[PAD]', '[UNK]', '[CLS]', '[SEP]', '，', '：', '。', '是', '師', '醫']\n",
      "Preparing text vocab dict: 100%|██████████| 12942/12942 [00:00<00:00, 300377.29it/s]\n",
      "Preparing text vocab dict: 100%|██████████| 3236/3236 [00:00<00:00, 280846.87it/s]\n",
      "2020-12-24 00:25:43,610 [DEBUG] kashgari - --- Build vocab dict finished, Total: 28 ---\n",
      "2020-12-24 00:25:43,610 [DEBUG] kashgari - Top-10: ['[PAD]', 'O', 'I-time', 'B-time', 'I-contact', 'I-money', 'I-med_exam', 'B-money', 'I-family', 'B-family']\n",
      "Calculating sequence length: 100%|██████████| 12942/12942 [00:00<00:00, 1453624.04it/s]\n",
      "Calculating sequence length: 100%|██████████| 3236/3236 [00:00<00:00, 1379486.51it/s]\n",
      "2020-12-24 00:25:50,584 [DEBUG] kashgari - Calculated sequence length = 57\n",
      "2020-12-24 00:25:52,823 [DEBUG] kashgari - fit input shape: (2, 1024, 57)\n",
      "2020-12-24 00:25:52,824 [DEBUG] kashgari - fit input shape: (1024, 57)\n"
     ]
    },
    {
     "name": "stdout",
     "output_type": "stream",
     "text": [
      "Epoch 1/256\n",
      "12/12 [==============================] - 100s 8s/step - loss: 6.8309 - accuracy: 0.8374 - val_loss: 58.8424 - val_accuracy: 0.9449\n",
      "Epoch 2/256\n",
      "12/12 [==============================] - 124s 10s/step - loss: 2.4530 - accuracy: 0.9496 - val_loss: 58.7396 - val_accuracy: 0.9510\n",
      "Epoch 3/256\n",
      "12/12 [==============================] - 129s 11s/step - loss: 1.8099 - accuracy: 0.9549 - val_loss: 58.8011 - val_accuracy: 0.9561\n",
      "Epoch 4/256\n",
      "12/12 [==============================] - 132s 11s/step - loss: 1.4555 - accuracy: 0.9600 - val_loss: 58.4781 - val_accuracy: 0.9611\n",
      "Epoch 5/256\n",
      "12/12 [==============================] - 132s 11s/step - loss: 1.1982 - accuracy: 0.9643 - val_loss: 58.2325 - val_accuracy: 0.9671\n",
      "Epoch 6/256\n",
      "12/12 [==============================] - 131s 11s/step - loss: 1.0155 - accuracy: 0.9680 - val_loss: 58.0921 - val_accuracy: 0.9705\n",
      "Epoch 7/256\n",
      "12/12 [==============================] - 129s 11s/step - loss: 0.9166 - accuracy: 0.9704 - val_loss: 57.8191 - val_accuracy: 0.9722\n",
      "Epoch 8/256\n",
      "12/12 [==============================] - 135s 11s/step - loss: 0.8024 - accuracy: 0.9728 - val_loss: 58.0294 - val_accuracy: 0.9746\n",
      "Epoch 9/256\n",
      "12/12 [==============================] - 130s 11s/step - loss: 0.7098 - accuracy: 0.9753 - val_loss: 57.8835 - val_accuracy: 0.9768\n",
      "Epoch 10/256\n",
      "12/12 [==============================] - 130s 11s/step - loss: 0.6558 - accuracy: 0.9770 - val_loss: 57.6606 - val_accuracy: 0.9787\n",
      "Epoch 11/256\n",
      "12/12 [==============================] - 130s 11s/step - loss: 0.5789 - accuracy: 0.9788 - val_loss: 57.9830 - val_accuracy: 0.9798\n",
      "Epoch 12/256\n",
      "12/12 [==============================] - 131s 11s/step - loss: 0.5506 - accuracy: 0.9797 - val_loss: 57.4674 - val_accuracy: 0.9817\n",
      "Epoch 13/256\n",
      "12/12 [==============================] - 134s 11s/step - loss: 0.4998 - accuracy: 0.9813 - val_loss: 57.4998 - val_accuracy: 0.9823\n",
      "Epoch 14/256\n",
      "12/12 [==============================] - 135s 11s/step - loss: 0.4589 - accuracy: 0.9829 - val_loss: 57.3461 - val_accuracy: 0.9831\n",
      "Epoch 15/256\n",
      "12/12 [==============================] - 132s 11s/step - loss: 0.4235 - accuracy: 0.9841 - val_loss: 57.3551 - val_accuracy: 0.9841\n",
      "Epoch 16/256\n",
      "12/12 [==============================] - 131s 11s/step - loss: 0.4045 - accuracy: 0.9847 - val_loss: 57.4462 - val_accuracy: 0.9850\n",
      "Epoch 17/256\n",
      "12/12 [==============================] - 133s 11s/step - loss: 0.3717 - accuracy: 0.9859 - val_loss: 57.3133 - val_accuracy: 0.9854\n",
      "Epoch 18/256\n",
      "12/12 [==============================] - 131s 11s/step - loss: 0.3532 - accuracy: 0.9865 - val_loss: 56.9910 - val_accuracy: 0.9857\n",
      "Epoch 19/256\n",
      "12/12 [==============================] - 100s 8s/step - loss: 0.3382 - accuracy: 0.9872 - val_loss: 57.3788 - val_accuracy: 0.9859\n",
      "Epoch 20/256\n",
      "12/12 [==============================] - 93s 8s/step - loss: 0.3197 - accuracy: 0.9880 - val_loss: 57.2289 - val_accuracy: 0.9861\n",
      "Epoch 21/256\n",
      "12/12 [==============================] - 117s 10s/step - loss: 0.3121 - accuracy: 0.9880 - val_loss: 57.2328 - val_accuracy: 0.9869\n",
      "Epoch 22/256\n",
      "12/12 [==============================] - 129s 11s/step - loss: 0.2951 - accuracy: 0.9889 - val_loss: 57.2191 - val_accuracy: 0.9871\n",
      "Epoch 23/256\n",
      "12/12 [==============================] - 133s 11s/step - loss: 0.2846 - accuracy: 0.9891 - val_loss: 57.0943 - val_accuracy: 0.9869\n",
      "Epoch 24/256\n",
      "12/12 [==============================] - 130s 11s/step - loss: 0.2732 - accuracy: 0.9894 - val_loss: 57.0313 - val_accuracy: 0.9877\n",
      "Epoch 25/256\n",
      "12/12 [==============================] - 131s 11s/step - loss: 0.2555 - accuracy: 0.9901 - val_loss: 57.1945 - val_accuracy: 0.9879\n",
      "Epoch 26/256\n",
      "12/12 [==============================] - 131s 11s/step - loss: 0.2527 - accuracy: 0.9904 - val_loss: 56.9984 - val_accuracy: 0.9873\n",
      "Epoch 27/256\n",
      "12/12 [==============================] - 135s 11s/step - loss: 0.2439 - accuracy: 0.9904 - val_loss: 56.7890 - val_accuracy: 0.9879\n",
      "Epoch 28/256\n",
      "12/12 [==============================] - 134s 11s/step - loss: 0.2295 - accuracy: 0.9909 - val_loss: 56.8668 - val_accuracy: 0.9879\n",
      "Epoch 29/256\n",
      "12/12 [==============================] - 134s 11s/step - loss: 0.2237 - accuracy: 0.9907 - val_loss: 56.6716 - val_accuracy: 0.9878\n",
      "Epoch 30/256\n",
      "12/12 [==============================] - 132s 11s/step - loss: 0.2141 - accuracy: 0.9913 - val_loss: 56.8233 - val_accuracy: 0.9876\n",
      "Epoch 31/256\n",
      "12/12 [==============================] - 133s 11s/step - loss: 0.2134 - accuracy: 0.9915 - val_loss: 57.0132 - val_accuracy: 0.9884\n",
      "Epoch 32/256\n",
      "12/12 [==============================] - 131s 11s/step - loss: 0.2037 - accuracy: 0.9921 - val_loss: 56.9555 - val_accuracy: 0.9881\n",
      "Epoch 33/256\n",
      "12/12 [==============================] - 130s 11s/step - loss: 0.1971 - accuracy: 0.9921 - val_loss: 56.4069 - val_accuracy: 0.9880\n",
      "Epoch 34/256\n",
      "12/12 [==============================] - 132s 11s/step - loss: 0.1881 - accuracy: 0.9924 - val_loss: 56.7669 - val_accuracy: 0.9885\n",
      "Epoch 35/256\n",
      "12/12 [==============================] - 132s 11s/step - loss: 0.1812 - accuracy: 0.9926 - val_loss: 56.8011 - val_accuracy: 0.9889\n",
      "Epoch 36/256\n",
      "12/12 [==============================] - 131s 11s/step - loss: 0.1777 - accuracy: 0.9929 - val_loss: 56.7911 - val_accuracy: 0.9886\n",
      "Epoch 37/256\n",
      "12/12 [==============================] - 132s 11s/step - loss: 0.1699 - accuracy: 0.9934 - val_loss: 56.4805 - val_accuracy: 0.9888\n",
      "Epoch 38/256\n",
      "12/12 [==============================] - 130s 11s/step - loss: 0.1659 - accuracy: 0.9934 - val_loss: 56.6436 - val_accuracy: 0.9886\n",
      "Epoch 39/256\n",
      "12/12 [==============================] - 129s 11s/step - loss: 0.1577 - accuracy: 0.9936 - val_loss: 56.5669 - val_accuracy: 0.9888\n",
      "Epoch 40/256\n",
      "12/12 [==============================] - 135s 11s/step - loss: 0.1536 - accuracy: 0.9937 - val_loss: 56.7234 - val_accuracy: 0.9887\n",
      "Epoch 41/256\n",
      "12/12 [==============================] - 134s 11s/step - loss: 0.1424 - accuracy: 0.9944 - val_loss: 56.6045 - val_accuracy: 0.9889\n",
      "Epoch 42/256\n",
      "12/12 [==============================] - 130s 11s/step - loss: 0.1403 - accuracy: 0.9942 - val_loss: 56.4327 - val_accuracy: 0.9882\n",
      "Epoch 43/256\n",
      "12/12 [==============================] - 133s 11s/step - loss: 0.1434 - accuracy: 0.9942 - val_loss: 56.5667 - val_accuracy: 0.9884\n",
      "Epoch 44/256\n",
      "12/12 [==============================] - 133s 11s/step - loss: 0.1419 - accuracy: 0.9944 - val_loss: 56.8165 - val_accuracy: 0.9890\n",
      "Epoch 45/256\n",
      "12/12 [==============================] - 134s 11s/step - loss: 0.1315 - accuracy: 0.9946 - val_loss: 56.6290 - val_accuracy: 0.9890\n",
      "Epoch 46/256\n",
      "12/12 [==============================] - 131s 11s/step - loss: 0.1241 - accuracy: 0.9950 - val_loss: 56.6892 - val_accuracy: 0.9888\n",
      "Epoch 47/256\n",
      "12/12 [==============================] - 128s 11s/step - loss: 0.1301 - accuracy: 0.9948 - val_loss: 56.4473 - val_accuracy: 0.9886\n",
      "Epoch 48/256\n",
      "12/12 [==============================] - 129s 11s/step - loss: 0.1266 - accuracy: 0.9949 - val_loss: 56.5599 - val_accuracy: 0.9885\n",
      "Epoch 49/256\n",
      "12/12 [==============================] - 130s 11s/step - loss: 0.1171 - accuracy: 0.9954 - val_loss: 56.4139 - val_accuracy: 0.9892\n",
      "Epoch 50/256\n",
      "12/12 [==============================] - 132s 11s/step - loss: 0.1101 - accuracy: 0.9956 - val_loss: 56.5894 - val_accuracy: 0.9891\n",
      "Epoch 51/256\n",
      "12/12 [==============================] - 129s 11s/step - loss: 0.1168 - accuracy: 0.9955 - val_loss: 56.6758 - val_accuracy: 0.9889\n",
      "Epoch 52/256\n",
      "12/12 [==============================] - 132s 11s/step - loss: 0.1106 - accuracy: 0.9955 - val_loss: 56.3965 - val_accuracy: 0.9882\n",
      "Epoch 53/256\n",
      "12/12 [==============================] - 135s 11s/step - loss: 0.1091 - accuracy: 0.9955 - val_loss: 56.3912 - val_accuracy: 0.9886\n",
      "Epoch 54/256\n",
      "12/12 [==============================] - 133s 11s/step - loss: 0.1004 - accuracy: 0.9960 - val_loss: 56.4748 - val_accuracy: 0.9895\n",
      "Epoch 55/256\n",
      "12/12 [==============================] - 131s 11s/step - loss: 0.0995 - accuracy: 0.9959 - val_loss: 56.1490 - val_accuracy: 0.9888\n",
      "Epoch 56/256\n",
      "12/12 [==============================] - 132s 11s/step - loss: 0.0949 - accuracy: 0.9963 - val_loss: 56.2485 - val_accuracy: 0.9892\n",
      "Epoch 57/256\n"
     ]
    },
    {
     "name": "stdout",
     "output_type": "stream",
     "text": [
      "12/12 [==============================] - 128s 11s/step - loss: 0.0907 - accuracy: 0.9964 - val_loss: 56.3491 - val_accuracy: 0.9888\n",
      "Epoch 58/256\n",
      "12/12 [==============================] - 129s 11s/step - loss: 0.0880 - accuracy: 0.9968 - val_loss: 55.9197 - val_accuracy: 0.9888\n",
      "Epoch 59/256\n",
      "12/12 [==============================] - 129s 11s/step - loss: 0.0836 - accuracy: 0.9969 - val_loss: 56.2905 - val_accuracy: 0.9888\n",
      "Epoch 60/256\n",
      "12/12 [==============================] - 131s 11s/step - loss: 0.0835 - accuracy: 0.9967 - val_loss: 56.4500 - val_accuracy: 0.9887\n",
      "Epoch 61/256\n",
      "12/12 [==============================] - 131s 11s/step - loss: 0.0835 - accuracy: 0.9967 - val_loss: 56.2988 - val_accuracy: 0.9889\n",
      "Epoch 62/256\n",
      "12/12 [==============================] - 131s 11s/step - loss: 0.0789 - accuracy: 0.9969 - val_loss: 56.2550 - val_accuracy: 0.9892\n",
      "Epoch 63/256\n",
      "12/12 [==============================] - 131s 11s/step - loss: 0.0793 - accuracy: 0.9968 - val_loss: 55.9870 - val_accuracy: 0.9887\n",
      "Epoch 64/256\n",
      "12/12 [==============================] - 130s 11s/step - loss: 0.0717 - accuracy: 0.9972 - val_loss: 56.0964 - val_accuracy: 0.9892\n",
      "Epoch 65/256\n",
      "12/12 [==============================] - 130s 11s/step - loss: 0.0721 - accuracy: 0.9972 - val_loss: 56.0534 - val_accuracy: 0.9893\n",
      "Epoch 66/256\n",
      "12/12 [==============================] - 136s 11s/step - loss: 0.0678 - accuracy: 0.9974 - val_loss: 56.1626 - val_accuracy: 0.9891\n",
      "Epoch 67/256\n",
      "12/12 [==============================] - 135s 11s/step - loss: 0.0679 - accuracy: 0.9974 - val_loss: 56.2537 - val_accuracy: 0.9893\n",
      "Epoch 68/256\n",
      "12/12 [==============================] - 129s 11s/step - loss: 0.0670 - accuracy: 0.9974 - val_loss: 56.2397 - val_accuracy: 0.9893\n",
      "Epoch 69/256\n",
      "12/12 [==============================] - 129s 11s/step - loss: 0.0620 - accuracy: 0.9976 - val_loss: 56.1250 - val_accuracy: 0.9888\n",
      "Epoch 70/256\n",
      "12/12 [==============================] - 130s 11s/step - loss: 0.0627 - accuracy: 0.9976 - val_loss: 56.1581 - val_accuracy: 0.9891\n",
      "Epoch 71/256\n",
      "12/12 [==============================] - 133s 11s/step - loss: 0.0675 - accuracy: 0.9973 - val_loss: 56.1852 - val_accuracy: 0.9882\n",
      "Epoch 72/256\n",
      "12/12 [==============================] - 131s 11s/step - loss: 0.0667 - accuracy: 0.9973 - val_loss: 55.9360 - val_accuracy: 0.9881\n",
      "Epoch 73/256\n",
      "12/12 [==============================] - 130s 11s/step - loss: 0.0610 - accuracy: 0.9976 - val_loss: 56.1181 - val_accuracy: 0.9881\n",
      "Epoch 74/256\n",
      "12/12 [==============================] - 128s 11s/step - loss: 0.0588 - accuracy: 0.9976 - val_loss: 56.2711 - val_accuracy: 0.9883\n",
      "Epoch 75/256\n",
      "12/12 [==============================] - 128s 11s/step - loss: 0.0577 - accuracy: 0.9977 - val_loss: 56.3277 - val_accuracy: 0.9880\n",
      "Epoch 76/256\n",
      "12/12 [==============================] - 126s 11s/step - loss: 0.0581 - accuracy: 0.9978 - val_loss: 56.0012 - val_accuracy: 0.9883\n",
      "Epoch 77/256\n",
      "12/12 [==============================] - 129s 11s/step - loss: 0.0548 - accuracy: 0.9980 - val_loss: 55.8435 - val_accuracy: 0.9881\n",
      "Epoch 78/256\n",
      "12/12 [==============================] - 127s 11s/step - loss: 0.0564 - accuracy: 0.9978 - val_loss: 56.1075 - val_accuracy: 0.9881\n",
      "Epoch 79/256\n",
      "12/12 [==============================] - 133s 11s/step - loss: 0.0542 - accuracy: 0.9978 - val_loss: 56.1022 - val_accuracy: 0.9884\n",
      "Epoch 80/256\n",
      "12/12 [==============================] - 133s 11s/step - loss: 0.0555 - accuracy: 0.9978 - val_loss: 56.0408 - val_accuracy: 0.9876\n",
      "Epoch 81/256\n",
      "12/12 [==============================] - 131s 11s/step - loss: 0.0506 - accuracy: 0.9981 - val_loss: 55.9809 - val_accuracy: 0.9885\n",
      "Epoch 82/256\n",
      "12/12 [==============================] - 127s 11s/step - loss: 0.0499 - accuracy: 0.9981 - val_loss: 56.0309 - val_accuracy: 0.9884\n",
      "Epoch 83/256\n",
      "12/12 [==============================] - 126s 11s/step - loss: 0.0465 - accuracy: 0.9983 - val_loss: 56.0633 - val_accuracy: 0.9880\n",
      "Epoch 84/256\n",
      "12/12 [==============================] - 130s 11s/step - loss: 0.0475 - accuracy: 0.9982 - val_loss: 55.8654 - val_accuracy: 0.9882\n",
      "Epoch 85/256\n",
      "12/12 [==============================] - 130s 11s/step - loss: 0.0464 - accuracy: 0.9983 - val_loss: 56.2173 - val_accuracy: 0.9882\n",
      "Epoch 86/256\n",
      "12/12 [==============================] - 130s 11s/step - loss: 0.0442 - accuracy: 0.9984 - val_loss: 56.0732 - val_accuracy: 0.9884\n",
      "Epoch 87/256\n",
      "12/12 [==============================] - 128s 11s/step - loss: 0.0408 - accuracy: 0.9985 - val_loss: 55.7717 - val_accuracy: 0.9882\n",
      "Epoch 88/256\n",
      "12/12 [==============================] - 129s 11s/step - loss: 0.0437 - accuracy: 0.9984 - val_loss: 55.8494 - val_accuracy: 0.9883\n",
      "Epoch 89/256\n",
      "12/12 [==============================] - 128s 11s/step - loss: 0.0418 - accuracy: 0.9984 - val_loss: 55.9817 - val_accuracy: 0.9881\n",
      "Epoch 90/256\n",
      "12/12 [==============================] - 130s 11s/step - loss: 0.0397 - accuracy: 0.9986 - val_loss: 55.9788 - val_accuracy: 0.9882\n",
      "Epoch 91/256\n",
      "12/12 [==============================] - 130s 11s/step - loss: 0.0398 - accuracy: 0.9986 - val_loss: 55.7531 - val_accuracy: 0.9876\n",
      "Epoch 92/256\n",
      "12/12 [==============================] - 132s 11s/step - loss: 0.0427 - accuracy: 0.9983 - val_loss: 56.0681 - val_accuracy: 0.9881\n",
      "Epoch 93/256\n",
      "12/12 [==============================] - 134s 11s/step - loss: 0.0418 - accuracy: 0.9983 - val_loss: 56.0827 - val_accuracy: 0.9882\n",
      "Epoch 94/256\n",
      "12/12 [==============================] - 127s 11s/step - loss: 0.0362 - accuracy: 0.9987 - val_loss: 55.7242 - val_accuracy: 0.9886\n",
      "Epoch 95/256\n",
      "12/12 [==============================] - 126s 11s/step - loss: 0.0396 - accuracy: 0.9985 - val_loss: 55.7920 - val_accuracy: 0.9878\n",
      "Epoch 96/256\n",
      "12/12 [==============================] - 127s 11s/step - loss: 0.0385 - accuracy: 0.9985 - val_loss: 56.0064 - val_accuracy: 0.9882\n",
      "Epoch 97/256\n",
      "12/12 [==============================] - 126s 11s/step - loss: 0.0394 - accuracy: 0.9984 - val_loss: 55.7841 - val_accuracy: 0.9883\n",
      "Epoch 98/256\n",
      "12/12 [==============================] - 127s 11s/step - loss: 0.0373 - accuracy: 0.9986 - val_loss: 55.7847 - val_accuracy: 0.9886\n",
      "Epoch 99/256\n",
      "12/12 [==============================] - 128s 11s/step - loss: 0.0346 - accuracy: 0.9987 - val_loss: 55.8305 - val_accuracy: 0.9880\n",
      "Epoch 100/256\n",
      "12/12 [==============================] - 129s 11s/step - loss: 0.0372 - accuracy: 0.9986 - val_loss: 56.0083 - val_accuracy: 0.9886\n",
      "Epoch 101/256\n",
      "12/12 [==============================] - 127s 11s/step - loss: 0.0365 - accuracy: 0.9985 - val_loss: 56.0397 - val_accuracy: 0.9884\n",
      "Epoch 102/256\n",
      "12/12 [==============================] - 128s 11s/step - loss: 0.0333 - accuracy: 0.9987 - val_loss: 55.6676 - val_accuracy: 0.9887\n",
      "Epoch 103/256\n",
      "12/12 [==============================] - 128s 11s/step - loss: 0.0341 - accuracy: 0.9986 - val_loss: 55.8667 - val_accuracy: 0.9888\n",
      "Epoch 104/256\n",
      "12/12 [==============================] - 127s 11s/step - loss: 0.0342 - accuracy: 0.9987 - val_loss: 55.7985 - val_accuracy: 0.9886\n",
      "Epoch 105/256\n",
      "12/12 [==============================] - 131s 11s/step - loss: 0.0318 - accuracy: 0.9988 - val_loss: 55.9080 - val_accuracy: 0.9881\n",
      "Epoch 106/256\n",
      "12/12 [==============================] - 131s 11s/step - loss: 0.0322 - accuracy: 0.9987 - val_loss: 55.7618 - val_accuracy: 0.9882\n",
      "Epoch 107/256\n",
      "12/12 [==============================] - 128s 11s/step - loss: 0.0370 - accuracy: 0.9985 - val_loss: 55.6957 - val_accuracy: 0.9883\n",
      "Epoch 108/256\n",
      "12/12 [==============================] - 130s 11s/step - loss: 0.0336 - accuracy: 0.9986 - val_loss: 55.8792 - val_accuracy: 0.9877\n",
      "Epoch 109/256\n",
      "12/12 [==============================] - 132s 11s/step - loss: 0.0340 - accuracy: 0.9986 - val_loss: 55.6155 - val_accuracy: 0.9878\n",
      "Epoch 110/256\n",
      "12/12 [==============================] - 128s 11s/step - loss: 0.0306 - accuracy: 0.9988 - val_loss: 55.9854 - val_accuracy: 0.9878\n",
      "Epoch 111/256\n",
      "12/12 [==============================] - 130s 11s/step - loss: 0.0329 - accuracy: 0.9986 - val_loss: 55.6614 - val_accuracy: 0.9888\n",
      "Epoch 112/256\n",
      "12/12 [==============================] - 128s 11s/step - loss: 0.0298 - accuracy: 0.9988 - val_loss: 55.6887 - val_accuracy: 0.9883\n",
      "Epoch 113/256\n"
     ]
    },
    {
     "name": "stdout",
     "output_type": "stream",
     "text": [
      "12/12 [==============================] - 128s 11s/step - loss: 0.0279 - accuracy: 0.9989 - val_loss: 55.5488 - val_accuracy: 0.9882\n",
      "Epoch 114/256\n",
      "12/12 [==============================] - 132s 11s/step - loss: 0.0273 - accuracy: 0.9990 - val_loss: 55.5190 - val_accuracy: 0.9880\n",
      "Epoch 115/256\n",
      "12/12 [==============================] - 130s 11s/step - loss: 0.0270 - accuracy: 0.9989 - val_loss: 55.5672 - val_accuracy: 0.9883\n",
      "Epoch 116/256\n",
      "12/12 [==============================] - 127s 11s/step - loss: 0.0259 - accuracy: 0.9990 - val_loss: 55.5852 - val_accuracy: 0.9885\n",
      "Epoch 117/256\n",
      "12/12 [==============================] - 129s 11s/step - loss: 0.0264 - accuracy: 0.9990 - val_loss: 55.6615 - val_accuracy: 0.9882\n",
      "Epoch 118/256\n",
      "12/12 [==============================] - 135s 11s/step - loss: 0.0262 - accuracy: 0.9989 - val_loss: 55.4264 - val_accuracy: 0.9880\n",
      "Epoch 119/256\n",
      "12/12 [==============================] - 132s 11s/step - loss: 0.0258 - accuracy: 0.9989 - val_loss: 55.6476 - val_accuracy: 0.9882\n",
      "Epoch 120/256\n",
      "12/12 [==============================] - 129s 11s/step - loss: 0.0241 - accuracy: 0.9990 - val_loss: 55.3438 - val_accuracy: 0.9884\n",
      "Epoch 121/256\n",
      "12/12 [==============================] - 129s 11s/step - loss: 0.0226 - accuracy: 0.9991 - val_loss: 55.3864 - val_accuracy: 0.9882\n",
      "Epoch 122/256\n",
      "12/12 [==============================] - 128s 11s/step - loss: 0.0285 - accuracy: 0.9988 - val_loss: 55.6053 - val_accuracy: 0.9886\n",
      "Epoch 123/256\n",
      "12/12 [==============================] - 129s 11s/step - loss: 0.0271 - accuracy: 0.9988 - val_loss: 56.0177 - val_accuracy: 0.9880\n",
      "Epoch 124/256\n",
      "12/12 [==============================] - 131s 11s/step - loss: 0.0251 - accuracy: 0.9990 - val_loss: 55.5437 - val_accuracy: 0.9881\n",
      "Epoch 125/256\n",
      "12/12 [==============================] - 131s 11s/step - loss: 0.0260 - accuracy: 0.9988 - val_loss: 55.8691 - val_accuracy: 0.9883\n",
      "Epoch 126/256\n",
      "12/12 [==============================] - 129s 11s/step - loss: 0.0244 - accuracy: 0.9989 - val_loss: 55.5375 - val_accuracy: 0.9884\n",
      "Epoch 127/256\n",
      "12/12 [==============================] - 128s 11s/step - loss: 0.0248 - accuracy: 0.9990 - val_loss: 55.7962 - val_accuracy: 0.9882\n",
      "Epoch 128/256\n",
      "12/12 [==============================] - 130s 11s/step - loss: 0.0228 - accuracy: 0.9991 - val_loss: 55.5774 - val_accuracy: 0.9878\n",
      "Epoch 129/256\n",
      "12/12 [==============================] - 130s 11s/step - loss: 0.0240 - accuracy: 0.9990 - val_loss: 55.4469 - val_accuracy: 0.9888\n",
      "Epoch 130/256\n",
      "12/12 [==============================] - 132s 11s/step - loss: 0.0231 - accuracy: 0.9991 - val_loss: 55.3060 - val_accuracy: 0.9880\n",
      "Epoch 131/256\n",
      "12/12 [==============================] - 136s 11s/step - loss: 0.0250 - accuracy: 0.9990 - val_loss: 55.5460 - val_accuracy: 0.9884\n",
      "Epoch 132/256\n",
      "12/12 [==============================] - 132s 11s/step - loss: 0.0228 - accuracy: 0.9990 - val_loss: 55.3691 - val_accuracy: 0.9877\n",
      "Epoch 133/256\n",
      "12/12 [==============================] - 130s 11s/step - loss: 0.0222 - accuracy: 0.9990 - val_loss: 55.4841 - val_accuracy: 0.9882\n",
      "Epoch 134/256\n",
      "12/12 [==============================] - 130s 11s/step - loss: 0.0229 - accuracy: 0.9990 - val_loss: 55.3999 - val_accuracy: 0.9878\n",
      "Epoch 135/256\n",
      "12/12 [==============================] - 132s 11s/step - loss: 0.0223 - accuracy: 0.9991 - val_loss: 55.1971 - val_accuracy: 0.9886\n",
      "Epoch 136/256\n",
      "12/12 [==============================] - 133s 11s/step - loss: 0.0214 - accuracy: 0.9991 - val_loss: 55.3686 - val_accuracy: 0.9885\n",
      "Epoch 137/256\n",
      "12/12 [==============================] - 133s 11s/step - loss: 0.0222 - accuracy: 0.9991 - val_loss: 55.2548 - val_accuracy: 0.9878\n",
      "Epoch 138/256\n",
      "12/12 [==============================] - 132s 11s/step - loss: 0.0214 - accuracy: 0.9990 - val_loss: 55.3751 - val_accuracy: 0.9881\n",
      "Epoch 139/256\n",
      "12/12 [==============================] - 129s 11s/step - loss: 0.0224 - accuracy: 0.9990 - val_loss: 55.7428 - val_accuracy: 0.9881\n",
      "Epoch 140/256\n",
      "12/12 [==============================] - 131s 11s/step - loss: 0.0206 - accuracy: 0.9992 - val_loss: 55.3357 - val_accuracy: 0.9881\n",
      "Epoch 141/256\n",
      "12/12 [==============================] - 130s 11s/step - loss: 0.0210 - accuracy: 0.9991 - val_loss: 54.9195 - val_accuracy: 0.9881\n",
      "Epoch 142/256\n",
      "12/12 [==============================] - 132s 11s/step - loss: 0.0196 - accuracy: 0.9992 - val_loss: 55.3627 - val_accuracy: 0.9881\n",
      "Epoch 143/256\n",
      "12/12 [==============================] - 131s 11s/step - loss: 0.0190 - accuracy: 0.9992 - val_loss: 55.5287 - val_accuracy: 0.9878\n",
      "Epoch 144/256\n",
      "12/12 [==============================] - 133s 11s/step - loss: 0.0186 - accuracy: 0.9992 - val_loss: 55.3616 - val_accuracy: 0.9876\n",
      "Epoch 145/256\n",
      "12/12 [==============================] - 133s 11s/step - loss: 0.0212 - accuracy: 0.9991 - val_loss: 55.2979 - val_accuracy: 0.9880\n",
      "Epoch 146/256\n",
      "12/12 [==============================] - 130s 11s/step - loss: 0.0207 - accuracy: 0.9992 - val_loss: 55.4158 - val_accuracy: 0.9879\n",
      "Epoch 147/256\n",
      "12/12 [==============================] - 128s 11s/step - loss: 0.0199 - accuracy: 0.9990 - val_loss: 55.4515 - val_accuracy: 0.9869\n",
      "Epoch 148/256\n",
      "12/12 [==============================] - 131s 11s/step - loss: 0.0203 - accuracy: 0.9991 - val_loss: 55.2024 - val_accuracy: 0.9871\n",
      "Epoch 149/256\n",
      "12/12 [==============================] - 130s 11s/step - loss: 0.0179 - accuracy: 0.9993 - val_loss: 55.3424 - val_accuracy: 0.9872\n",
      "Epoch 150/256\n",
      "12/12 [==============================] - 130s 11s/step - loss: 0.0183 - accuracy: 0.9992 - val_loss: 55.1770 - val_accuracy: 0.9869\n",
      "Epoch 151/256\n",
      "12/12 [==============================] - 131s 11s/step - loss: 0.0197 - accuracy: 0.9991 - val_loss: 55.5302 - val_accuracy: 0.9867\n",
      "Epoch 152/256\n",
      "12/12 [==============================] - 131s 11s/step - loss: 0.0219 - accuracy: 0.9990 - val_loss: 55.3845 - val_accuracy: 0.9869\n",
      "Epoch 153/256\n",
      "12/12 [==============================] - 131s 11s/step - loss: 0.0196 - accuracy: 0.9991 - val_loss: 55.3857 - val_accuracy: 0.9868\n",
      "Epoch 154/256\n",
      "12/12 [==============================] - 129s 11s/step - loss: 0.0207 - accuracy: 0.9990 - val_loss: 55.4056 - val_accuracy: 0.9869\n",
      "Epoch 155/256\n",
      "12/12 [==============================] - 128s 11s/step - loss: 0.0199 - accuracy: 0.9990 - val_loss: 55.2969 - val_accuracy: 0.9865\n",
      "Epoch 156/256\n",
      "12/12 [==============================] - 131s 11s/step - loss: 0.0188 - accuracy: 0.9991 - val_loss: 55.1442 - val_accuracy: 0.9867\n",
      "Epoch 157/256\n",
      "12/12 [==============================] - 132s 11s/step - loss: 0.0183 - accuracy: 0.9991 - val_loss: 55.2053 - val_accuracy: 0.9874\n",
      "Epoch 158/256\n",
      "12/12 [==============================] - 133s 11s/step - loss: 0.0172 - accuracy: 0.9992 - val_loss: 55.2414 - val_accuracy: 0.9869\n",
      "Epoch 159/256\n",
      "12/12 [==============================] - 129s 11s/step - loss: 0.0188 - accuracy: 0.9991 - val_loss: 55.7812 - val_accuracy: 0.9870\n",
      "Epoch 160/256\n",
      "12/12 [==============================] - 108s 9s/step - loss: 0.0178 - accuracy: 0.9992 - val_loss: 55.4478 - val_accuracy: 0.9868\n",
      "Epoch 161/256\n",
      "12/12 [==============================] - 88s 7s/step - loss: 0.0194 - accuracy: 0.9991 - val_loss: 55.3678 - val_accuracy: 0.9873\n",
      "Epoch 162/256\n",
      "12/12 [==============================] - 94s 8s/step - loss: 0.0201 - accuracy: 0.9991 - val_loss: 55.1884 - val_accuracy: 0.9867\n",
      "Epoch 163/256\n",
      "12/12 [==============================] - 120s 10s/step - loss: 0.0189 - accuracy: 0.9992 - val_loss: 55.5881 - val_accuracy: 0.9870\n",
      "Epoch 164/256\n",
      "12/12 [==============================] - 124s 10s/step - loss: 0.0185 - accuracy: 0.9992 - val_loss: 55.2375 - val_accuracy: 0.9875\n",
      "Epoch 165/256\n",
      "12/12 [==============================] - 129s 11s/step - loss: 0.0178 - accuracy: 0.9992 - val_loss: 55.2691 - val_accuracy: 0.9868\n",
      "Epoch 166/256\n",
      "12/12 [==============================] - 127s 11s/step - loss: 0.0176 - accuracy: 0.9992 - val_loss: 55.3486 - val_accuracy: 0.9871\n",
      "Epoch 167/256\n",
      "12/12 [==============================] - 129s 11s/step - loss: 0.0199 - accuracy: 0.9991 - val_loss: 55.2945 - val_accuracy: 0.9866\n",
      "Epoch 168/256\n",
      "12/12 [==============================] - 128s 11s/step - loss: 0.0189 - accuracy: 0.9991 - val_loss: 55.2950 - val_accuracy: 0.9870\n",
      "Epoch 169/256\n"
     ]
    },
    {
     "name": "stdout",
     "output_type": "stream",
     "text": [
      "12/12 [==============================] - 129s 11s/step - loss: 0.0191 - accuracy: 0.9991 - val_loss: 55.4700 - val_accuracy: 0.9871\n",
      "Epoch 170/256\n",
      "12/12 [==============================] - 135s 11s/step - loss: 0.0167 - accuracy: 0.9992 - val_loss: 55.0897 - val_accuracy: 0.9865\n",
      "Epoch 171/256\n",
      "12/12 [==============================] - 130s 11s/step - loss: 0.0165 - accuracy: 0.9992 - val_loss: 55.3769 - val_accuracy: 0.9868\n",
      "Epoch 172/256\n",
      "12/12 [==============================] - 128s 11s/step - loss: 0.0189 - accuracy: 0.9990 - val_loss: 55.1607 - val_accuracy: 0.9868\n",
      "Epoch 173/256\n",
      "12/12 [==============================] - 129s 11s/step - loss: 0.0165 - accuracy: 0.9991 - val_loss: 55.0857 - val_accuracy: 0.9871\n",
      "Epoch 174/256\n",
      "12/12 [==============================] - 127s 11s/step - loss: 0.0177 - accuracy: 0.9991 - val_loss: 55.3983 - val_accuracy: 0.9859\n",
      "Epoch 175/256\n",
      "12/12 [==============================] - 128s 11s/step - loss: 0.0170 - accuracy: 0.9991 - val_loss: 55.2039 - val_accuracy: 0.9854\n",
      "Epoch 176/256\n",
      "12/12 [==============================] - 129s 11s/step - loss: 0.0171 - accuracy: 0.9992 - val_loss: 55.3665 - val_accuracy: 0.9856\n",
      "Epoch 177/256\n",
      "12/12 [==============================] - 127s 11s/step - loss: 0.0172 - accuracy: 0.9991 - val_loss: 55.0435 - val_accuracy: 0.9854\n",
      "Epoch 178/256\n",
      "12/12 [==============================] - 130s 11s/step - loss: 0.0177 - accuracy: 0.9991 - val_loss: 55.3790 - val_accuracy: 0.9849\n",
      "Epoch 179/256\n",
      "12/12 [==============================] - 127s 11s/step - loss: 0.0196 - accuracy: 0.9991 - val_loss: 55.3627 - val_accuracy: 0.9854\n",
      "Epoch 180/256\n",
      "12/12 [==============================] - 129s 11s/step - loss: 0.0170 - accuracy: 0.9992 - val_loss: 55.1017 - val_accuracy: 0.9851\n",
      "Epoch 181/256\n",
      "12/12 [==============================] - 127s 11s/step - loss: 0.0146 - accuracy: 0.9993 - val_loss: 55.3021 - val_accuracy: 0.9851\n",
      "Epoch 182/256\n",
      "12/12 [==============================] - 127s 11s/step - loss: 0.0152 - accuracy: 0.9993 - val_loss: 55.0746 - val_accuracy: 0.9857\n",
      "Epoch 183/256\n",
      "12/12 [==============================] - 131s 11s/step - loss: 0.0155 - accuracy: 0.9992 - val_loss: 55.2856 - val_accuracy: 0.9859\n",
      "Epoch 184/256\n",
      "12/12 [==============================] - 131s 11s/step - loss: 0.0158 - accuracy: 0.9992 - val_loss: 54.9849 - val_accuracy: 0.9853\n",
      "Epoch 185/256\n",
      "12/12 [==============================] - 130s 11s/step - loss: 0.0163 - accuracy: 0.9991 - val_loss: 54.9466 - val_accuracy: 0.9854\n",
      "Epoch 186/256\n",
      "12/12 [==============================] - 129s 11s/step - loss: 0.0167 - accuracy: 0.9993 - val_loss: 55.1216 - val_accuracy: 0.9851\n",
      "Epoch 187/256\n",
      "12/12 [==============================] - 128s 11s/step - loss: 0.0153 - accuracy: 0.9991 - val_loss: 55.4880 - val_accuracy: 0.9840\n",
      "Epoch 188/256\n",
      "12/12 [==============================] - 125s 10s/step - loss: 0.0138 - accuracy: 0.9993 - val_loss: 55.1236 - val_accuracy: 0.9841\n",
      "Epoch 189/256\n",
      "12/12 [==============================] - 127s 11s/step - loss: 0.0149 - accuracy: 0.9992 - val_loss: 54.8830 - val_accuracy: 0.9840\n",
      "Epoch 190/256\n",
      "12/12 [==============================] - 128s 11s/step - loss: 0.0147 - accuracy: 0.9992 - val_loss: 55.1195 - val_accuracy: 0.9836\n",
      "Epoch 191/256\n",
      "12/12 [==============================] - 126s 11s/step - loss: 0.0154 - accuracy: 0.9991 - val_loss: 55.2346 - val_accuracy: 0.9836\n",
      "Epoch 192/256\n",
      "12/12 [==============================] - 129s 11s/step - loss: 0.0145 - accuracy: 0.9993 - val_loss: 55.2426 - val_accuracy: 0.9824\n",
      "Epoch 193/256\n",
      "12/12 [==============================] - 127s 11s/step - loss: 0.0152 - accuracy: 0.9992 - val_loss: 55.1727 - val_accuracy: 0.9833\n",
      "Epoch 194/256\n",
      "12/12 [==============================] - 126s 11s/step - loss: 0.0160 - accuracy: 0.9991 - val_loss: 55.1047 - val_accuracy: 0.9832\n",
      "Epoch 195/256\n",
      "12/12 [==============================] - 128s 11s/step - loss: 0.0152 - accuracy: 0.9992 - val_loss: 55.0764 - val_accuracy: 0.9832\n",
      "Epoch 196/256\n",
      "12/12 [==============================] - 130s 11s/step - loss: 0.0146 - accuracy: 0.9991 - val_loss: 55.3001 - val_accuracy: 0.9836\n",
      "Epoch 197/256\n",
      "12/12 [==============================] - 131s 11s/step - loss: 0.0141 - accuracy: 0.9993 - val_loss: 55.2723 - val_accuracy: 0.9834\n",
      "Epoch 198/256\n",
      "12/12 [==============================] - 126s 10s/step - loss: 0.0165 - accuracy: 0.9992 - val_loss: 55.2157 - val_accuracy: 0.9833\n",
      "Epoch 199/256\n",
      "12/12 [==============================] - 127s 11s/step - loss: 0.0146 - accuracy: 0.9992 - val_loss: 54.9296 - val_accuracy: 0.9834\n",
      "Epoch 200/256\n",
      "12/12 [==============================] - 129s 11s/step - loss: 0.0137 - accuracy: 0.9994 - val_loss: 54.7509 - val_accuracy: 0.9827\n",
      "Epoch 201/256\n",
      "12/12 [==============================] - 130s 11s/step - loss: 0.0155 - accuracy: 0.9992 - val_loss: 55.1592 - val_accuracy: 0.9832\n",
      "Epoch 202/256\n",
      "12/12 [==============================] - 128s 11s/step - loss: 0.0146 - accuracy: 0.9992 - val_loss: 55.1450 - val_accuracy: 0.9836\n",
      "Epoch 203/256\n",
      "12/12 [==============================] - 127s 11s/step - loss: 0.0165 - accuracy: 0.9992 - val_loss: 55.0353 - val_accuracy: 0.9831\n",
      "Epoch 204/256\n",
      "12/12 [==============================] - 126s 11s/step - loss: 0.0154 - accuracy: 0.9992 - val_loss: 55.0453 - val_accuracy: 0.9831\n",
      "Epoch 205/256\n",
      "12/12 [==============================] - 131s 11s/step - loss: 0.0134 - accuracy: 0.9994 - val_loss: 54.8513 - val_accuracy: 0.9828\n",
      "Epoch 206/256\n",
      "12/12 [==============================] - 129s 11s/step - loss: 0.0142 - accuracy: 0.9993 - val_loss: 55.1653 - val_accuracy: 0.9829\n",
      "Epoch 207/256\n",
      "12/12 [==============================] - 129s 11s/step - loss: 0.0134 - accuracy: 0.9993 - val_loss: 54.9367 - val_accuracy: 0.9809\n",
      "Epoch 208/256\n",
      "12/12 [==============================] - 128s 11s/step - loss: 0.0143 - accuracy: 0.9992 - val_loss: 55.0442 - val_accuracy: 0.9811\n",
      "Epoch 209/256\n",
      "12/12 [==============================] - 131s 11s/step - loss: 0.0135 - accuracy: 0.9993 - val_loss: 54.9388 - val_accuracy: 0.9808\n",
      "Epoch 210/256\n",
      "12/12 [==============================] - 132s 11s/step - loss: 0.0143 - accuracy: 0.9993 - val_loss: 54.8721 - val_accuracy: 0.9776\n",
      "Epoch 211/256\n",
      "12/12 [==============================] - 127s 11s/step - loss: 0.0138 - accuracy: 0.9994 - val_loss: 55.1654 - val_accuracy: 0.9777\n",
      "Epoch 212/256\n",
      "12/12 [==============================] - 129s 11s/step - loss: 0.0137 - accuracy: 0.9993 - val_loss: 55.0994 - val_accuracy: 0.9741\n",
      "Epoch 213/256\n",
      "12/12 [==============================] - 129s 11s/step - loss: 0.0135 - accuracy: 0.9992 - val_loss: 55.0349 - val_accuracy: 0.9735\n",
      "Epoch 214/256\n",
      "12/12 [==============================] - 129s 11s/step - loss: 0.0140 - accuracy: 0.9992 - val_loss: 54.9571 - val_accuracy: 0.9720\n",
      "Epoch 215/256\n",
      "12/12 [==============================] - 127s 11s/step - loss: 0.0142 - accuracy: 0.9992 - val_loss: 54.9215 - val_accuracy: 0.9604\n",
      "Epoch 216/256\n",
      "12/12 [==============================] - 129s 11s/step - loss: 0.0156 - accuracy: 0.9992 - val_loss: 54.8253 - val_accuracy: 0.9592\n",
      "Epoch 217/256\n",
      "12/12 [==============================] - 128s 11s/step - loss: 0.0136 - accuracy: 0.9993 - val_loss: 54.8940 - val_accuracy: 0.9558\n",
      "Epoch 218/256\n",
      "12/12 [==============================] - 130s 11s/step - loss: 0.0156 - accuracy: 0.9992 - val_loss: 54.8308 - val_accuracy: 0.9381\n",
      "Epoch 219/256\n",
      "12/12 [==============================] - 128s 11s/step - loss: 0.0139 - accuracy: 0.9992 - val_loss: 54.8560 - val_accuracy: 0.8366\n",
      "Epoch 220/256\n",
      "12/12 [==============================] - 127s 11s/step - loss: 0.0136 - accuracy: 0.9993 - val_loss: 54.7942 - val_accuracy: 0.8354\n",
      "Epoch 221/256\n",
      "12/12 [==============================] - 128s 11s/step - loss: 0.0133 - accuracy: 0.9993 - val_loss: 54.9842 - val_accuracy: 0.8388\n",
      "Epoch 222/256\n",
      "12/12 [==============================] - 130s 11s/step - loss: 0.0138 - accuracy: 0.9992 - val_loss: 55.0480 - val_accuracy: 0.8070\n",
      "Epoch 223/256\n",
      "12/12 [==============================] - 134s 11s/step - loss: 0.0138 - accuracy: 0.9992 - val_loss: 55.0996 - val_accuracy: 0.7557\n",
      "Epoch 224/256\n",
      "12/12 [==============================] - 127s 11s/step - loss: 0.0125 - accuracy: 0.9994 - val_loss: 54.8219 - val_accuracy: 0.7228\n",
      "Epoch 225/256\n"
     ]
    },
    {
     "name": "stdout",
     "output_type": "stream",
     "text": [
      "12/12 [==============================] - 127s 11s/step - loss: 0.0127 - accuracy: 0.9993 - val_loss: 55.0675 - val_accuracy: 0.7001\n",
      "Epoch 226/256\n",
      "12/12 [==============================] - 127s 11s/step - loss: 0.0126 - accuracy: 0.9994 - val_loss: 54.8868 - val_accuracy: 0.6928\n",
      "Epoch 227/256\n",
      "12/12 [==============================] - 129s 11s/step - loss: 0.0143 - accuracy: 0.9992 - val_loss: 54.8042 - val_accuracy: 0.6603\n",
      "Epoch 228/256\n",
      "12/12 [==============================] - 126s 11s/step - loss: 0.0132 - accuracy: 0.9992 - val_loss: 55.1665 - val_accuracy: 0.6618\n",
      "Epoch 229/256\n",
      "12/12 [==============================] - 128s 11s/step - loss: 0.0128 - accuracy: 0.9992 - val_loss: 54.8446 - val_accuracy: 0.6193\n",
      "Epoch 230/256\n",
      "12/12 [==============================] - 129s 11s/step - loss: 0.0114 - accuracy: 0.9994 - val_loss: 54.9596 - val_accuracy: 0.6063\n",
      "Epoch 231/256\n",
      "12/12 [==============================] - 128s 11s/step - loss: 0.0135 - accuracy: 0.9992 - val_loss: 54.8153 - val_accuracy: 0.6198\n",
      "Epoch 232/256\n",
      "12/12 [==============================] - 127s 11s/step - loss: 0.0128 - accuracy: 0.9992 - val_loss: 54.7320 - val_accuracy: 0.5826\n",
      "Epoch 233/256\n",
      "12/12 [==============================] - 126s 11s/step - loss: 0.0135 - accuracy: 0.9992 - val_loss: 54.9048 - val_accuracy: 0.5620\n",
      "Epoch 234/256\n",
      "12/12 [==============================] - 121s 10s/step - loss: 0.0163 - accuracy: 0.9991 - val_loss: 54.5980 - val_accuracy: 0.5544\n",
      "Epoch 235/256\n",
      "12/12 [==============================] - 91s 8s/step - loss: 0.0144 - accuracy: 0.9993 - val_loss: 54.6925 - val_accuracy: 0.5443\n",
      "Epoch 236/256\n",
      "12/12 [==============================] - 79s 7s/step - loss: 0.0122 - accuracy: 0.9993 - val_loss: 54.8199 - val_accuracy: 0.5341\n",
      "Epoch 237/256\n",
      "12/12 [==============================] - 95s 8s/step - loss: 0.0133 - accuracy: 0.9992 - val_loss: 54.7451 - val_accuracy: 0.5207\n",
      "Epoch 238/256\n",
      "12/12 [==============================] - 116s 10s/step - loss: 0.0123 - accuracy: 0.9993 - val_loss: 54.7685 - val_accuracy: 0.5152\n",
      "Epoch 239/256\n",
      "12/12 [==============================] - 116s 10s/step - loss: 0.0130 - accuracy: 0.9992 - val_loss: 54.6839 - val_accuracy: 0.4947\n",
      "Epoch 240/256\n",
      "12/12 [==============================] - 109s 9s/step - loss: 0.0131 - accuracy: 0.9992 - val_loss: 54.8521 - val_accuracy: 0.4914\n",
      "Epoch 241/256\n",
      "12/12 [==============================] - 103s 9s/step - loss: 0.0127 - accuracy: 0.9993 - val_loss: 54.6848 - val_accuracy: 0.4762\n",
      "Epoch 242/256\n",
      "12/12 [==============================] - 99s 8s/step - loss: 0.0120 - accuracy: 0.9993 - val_loss: 54.7655 - val_accuracy: 0.4747\n",
      "Epoch 243/256\n",
      "12/12 [==============================] - 103s 9s/step - loss: 0.0131 - accuracy: 0.9992 - val_loss: 54.9504 - val_accuracy: 0.4541\n",
      "Epoch 244/256\n",
      "12/12 [==============================] - 102s 9s/step - loss: 0.0138 - accuracy: 0.9991 - val_loss: 54.8166 - val_accuracy: 0.4515\n",
      "Epoch 245/256\n",
      "12/12 [==============================] - 102s 9s/step - loss: 0.0115 - accuracy: 0.9994 - val_loss: 54.8966 - val_accuracy: 0.4499\n",
      "Epoch 246/256\n",
      "12/12 [==============================] - 99s 8s/step - loss: 0.0116 - accuracy: 0.9993 - val_loss: 54.8385 - val_accuracy: 0.4259\n",
      "Epoch 247/256\n",
      "12/12 [==============================] - 95s 8s/step - loss: 0.0121 - accuracy: 0.9992 - val_loss: 54.6628 - val_accuracy: 0.4214\n",
      "Epoch 248/256\n",
      "12/12 [==============================] - 94s 8s/step - loss: 0.0124 - accuracy: 0.9993 - val_loss: 54.7714 - val_accuracy: 0.4222\n",
      "Epoch 249/256\n",
      "12/12 [==============================] - 94s 8s/step - loss: 0.0112 - accuracy: 0.9993 - val_loss: 54.8824 - val_accuracy: 0.3951\n",
      "Epoch 250/256\n",
      "12/12 [==============================] - 92s 8s/step - loss: 0.0122 - accuracy: 0.9993 - val_loss: 54.6205 - val_accuracy: 0.3977\n",
      "Epoch 251/256\n",
      "12/12 [==============================] - 91s 8s/step - loss: 0.0129 - accuracy: 0.9993 - val_loss: 54.6213 - val_accuracy: 0.3761\n",
      "Epoch 252/256\n",
      "12/12 [==============================] - 91s 8s/step - loss: 0.0136 - accuracy: 0.9993 - val_loss: 54.7859 - val_accuracy: 0.3688\n",
      "Epoch 253/256\n",
      "12/12 [==============================] - 91s 8s/step - loss: 0.0127 - accuracy: 0.9993 - val_loss: 54.7621 - val_accuracy: 0.3695\n",
      "Epoch 254/256\n",
      "12/12 [==============================] - 89s 7s/step - loss: 0.0129 - accuracy: 0.9992 - val_loss: 54.6666 - val_accuracy: 0.3750\n",
      "Epoch 255/256\n",
      "12/12 [==============================] - 90s 8s/step - loss: 0.0141 - accuracy: 0.9991 - val_loss: 54.5352 - val_accuracy: 0.3726\n",
      "Epoch 256/256\n",
      "12/12 [==============================] - 90s 7s/step - loss: 0.0112 - accuracy: 0.9993 - val_loss: 54.6877 - val_accuracy: 0.3755\n",
      "CPU times: user 2h 33min 42s, sys: 57min 18s, total: 3h 31min\n",
      "Wall time: 9h 37min 27s\n"
     ]
    }
   ],
   "source": [
    "%%time\n",
    "history = model.fit(train_x,\n",
    "                    train_y,\n",
    "                    valid_x,\n",
    "                    valid_y,\n",
    "                    epochs=epochs,\n",
    "                    batch_size=batch_size,\n",
    "                   )"
   ]
  },
  {
   "cell_type": "code",
   "execution_count": 17,
   "metadata": {},
   "outputs": [
    {
     "name": "stderr",
     "output_type": "stream",
     "text": [
      "2020-12-24 10:03:10,825 [WARNING] kashgari - Sequence length is None, will use the max length of the samples, which is 358\n",
      "2020-12-24 10:03:10,879 [DEBUG] kashgari - predict seq_length: None, input: (2, 4045, 358)\n"
     ]
    },
    {
     "name": "stdout",
     "output_type": "stream",
     "text": [
      "127/127 [==============================] - 174s 1s/step\n"
     ]
    },
    {
     "name": "stderr",
     "output_type": "stream",
     "text": [
      "2020-12-24 10:06:25,435 [DEBUG] kashgari - predict output: (4045, 358)\n",
      "2020-12-24 10:06:25,436 [DEBUG] kashgari - predict output argmax: [[0 1 1 ... 1 1 1]\n",
      " [0 1 1 ... 1 1 1]\n",
      " [0 1 1 ... 1 1 1]\n",
      " ...\n",
      " [0 1 1 ... 1 1 1]\n",
      " [0 1 1 ... 1 1 1]\n",
      " [0 1 1 ... 1 1 1]]\n"
     ]
    },
    {
     "name": "stdout",
     "output_type": "stream",
     "text": [
      "\n",
      "                precision    recall  f1-score   support\n",
      "\n",
      "        family     0.9470    0.9843    0.9653       127\n",
      "          name     0.8413    0.7571    0.7970        70\n",
      "       contact     0.9580    0.9661    0.9620       118\n",
      "          time     0.6552    0.7353    0.6930       597\n",
      "      location     0.7671    0.8000    0.7832        70\n",
      "         money     0.8726    0.9514    0.9103       144\n",
      "      med_exam     0.8085    0.7525    0.7795       101\n",
      "clinical_event     1.0000    1.0000    1.0000         6\n",
      "    profession     1.0000    0.2727    0.4286        11\n",
      "     education     0.7500    0.8571    0.8000         7\n",
      "            ID     0.0000    0.0000    0.0000         4\n",
      "        others     0.0000    0.0000    0.0000         1\n",
      "  organization     0.0000    0.0000    0.0000         1\n",
      "\n",
      "     micro avg     0.7637    0.8075    0.7850      1257\n",
      "     macro avg     0.7690    0.8075    0.7848      1257\n",
      "\n"
     ]
    },
    {
     "name": "stderr",
     "output_type": "stream",
     "text": [
      "2020-12-24 10:10:18,461 [INFO] kashgari - model saved to /home/Danny/ai-cup-2020/danny/roberta/model/dialog_chinese_roberta_wwm_large_ext_L-24_H-1024_A-16_epoch_256_batch_1024\n"
     ]
    },
    {
     "data": {
      "text/plain": [
       "'/home/Danny/ai-cup-2020/danny/roberta/model/dialog_chinese_roberta_wwm_large_ext_L-24_H-1024_A-16_epoch_256_batch_1024'"
      ]
     },
     "execution_count": 17,
     "metadata": {},
     "output_type": "execute_result"
    }
   ],
   "source": [
    "model.evaluate(test_x, test_y)\n",
    "model_path = 'model/dialog_{}_epoch_{}_batch_{}'.format(model_name, epochs, batch_size)\n",
    "model.save(model_path)"
   ]
  },
  {
   "cell_type": "code",
   "execution_count": 18,
   "metadata": {},
   "outputs": [],
   "source": [
    "# from kashgari.utils import load_model\n",
    "# model_path = 'model/dialog_{}_epoch_{}_batch_{}'.format(model_name, epochs, batch_size)\n",
    "# model = load_model(model_path)\n",
    "# model.evaluate(test_x, test_y)"
   ]
  },
  {
   "cell_type": "code",
   "execution_count": 19,
   "metadata": {},
   "outputs": [
    {
     "data": {
      "image/png": "[encoded data removed]",
      "text/plain": [
       "<Figure size 432x288 with 1 Axes>"
      ]
     },
     "metadata": {
      "needs_background": "light"
     },
     "output_type": "display_data"
    }
   ],
   "source": [
    "plt.plot(history.history['accuracy'])\n",
    "plt.plot(history.history['val_accuracy'])\n",
    "plt.plot(history.history['loss'])\n",
    "plt.plot(history.history['val_loss'])\n",
    "plt.title('model accuracy')\n",
    "plt.ylabel('accuracy')\n",
    "plt.xlabel('epoch')\n",
    "plt.legend(['accuracy', 'val_accuracy', 'loss', 'val_loss'])\n",
    "plt.show()"
   ]
  },
  {
   "cell_type": "code",
   "execution_count": 20,
   "metadata": {},
   "outputs": [],
   "source": [
    "# 需要儲存article_id, 轉成dataframe\n",
    "def predicting_txt_to_dataframe(path):    \n",
    "    with open(path, 'r') as f:\n",
    "        txt = str(f.read())\n",
    "        txt_list = txt.split('\\n')\n",
    "    row_list = list()\n",
    "    tmp_list = list()\n",
    "    for row in txt_list:\n",
    "        if row == '--------------------':\n",
    "            tmp_list[0] = tmp_list[0].replace('article_id:', '')\n",
    "            tmp_list[0] = int(tmp_list[0])\n",
    "            row_list.append(tmp_list)\n",
    "            tmp_list = list()\n",
    "            continue\n",
    "        if len(row) > 0:\n",
    "            tmp_list.append(row)\n",
    "    df = pd.DataFrame(row_list, columns=['article_id','text'])\n",
    "    return df"
   ]
  },
  {
   "cell_type": "code",
   "execution_count": 21,
   "metadata": {},
   "outputs": [],
   "source": [
    "def predict_NER(text):\n",
    "    x_list = list()    \n",
    "    text_list = re.split('\\u3002|\\uff1f', text)\n",
    "    for article in text_list:\n",
    "        x_list.append([i for i in article])\n",
    "    y_list_list = model.predict(x_list)\n",
    "    y_list = list()\n",
    "    for sentence in y_list_list:\n",
    "        for word in sentence:\n",
    "            y_list.append(word)\n",
    "        y_list.append('O') # append(，。？)\n",
    "    y_list = y_list[:-1]\n",
    "    \n",
    "    return y_list"
   ]
  },
  {
   "cell_type": "code",
   "execution_count": 22,
   "metadata": {},
   "outputs": [],
   "source": [
    "def output_NER(article_id, text, y_list):\n",
    "    output_str = str()\n",
    "    flag = False\n",
    "    for i, j in enumerate(y_list):\n",
    "        if j != 'O':\n",
    "            if j[0] == 'B':\n",
    "                start_position = i\n",
    "                entity_type = j.split('-')[-1]\n",
    "                flag = True\n",
    "        elif j == 'O' and flag == True:\n",
    "            end_position = i\n",
    "            flag = False\n",
    "            entity_text = text[start_position: end_position]\n",
    "            entity = '{}\\t{}\\t{}\\t{}\\t{}\\n'.format(article_id, start_position, end_position, entity_text, entity_type)  \n",
    "            output_str += entity\n",
    "    return output_str"
   ]
  },
  {
   "cell_type": "code",
   "execution_count": 23,
   "metadata": {},
   "outputs": [
    {
     "name": "stderr",
     "output_type": "stream",
     "text": [
      "2020-12-24 10:10:18,773 [DEBUG] kashgari - predict seq_length: None, input: (2, 46, 34)\n"
     ]
    },
    {
     "name": "stdout",
     "output_type": "stream",
     "text": [
      "2/2 [==============================] - 0s 40ms/step\n"
     ]
    },
    {
     "name": "stderr",
     "output_type": "stream",
     "text": [
      "2020-12-24 10:10:26,658 [DEBUG] kashgari - predict output: (46, 34)\n",
      "2020-12-24 10:10:26,659 [DEBUG] kashgari - predict output argmax: [[0 1 1 ... 1 1 1]\n",
      " [0 1 1 ... 1 1 1]\n",
      " [0 1 1 ... 1 1 1]\n",
      " ...\n",
      " [0 1 1 ... 1 1 1]\n",
      " [0 1 1 ... 1 1 1]\n",
      " [0 0 0 ... 0 0 0]]\n",
      "2020-12-24 10:10:26,661 [DEBUG] kashgari - predict seq_length: None, input: (2, 88, 41)\n"
     ]
    },
    {
     "name": "stdout",
     "output_type": "stream",
     "text": [
      "3/3 [==============================] - 0s 91ms/step\n"
     ]
    },
    {
     "name": "stderr",
     "output_type": "stream",
     "text": [
      "2020-12-24 10:10:33,341 [DEBUG] kashgari - predict output: (88, 41)\n",
      "2020-12-24 10:10:33,341 [DEBUG] kashgari - predict output argmax: [[0 1 1 ... 1 1 1]\n",
      " [0 1 1 ... 1 1 1]\n",
      " [0 3 2 ... 1 1 1]\n",
      " ...\n",
      " [0 1 1 ... 1 1 1]\n",
      " [0 1 1 ... 1 1 1]\n",
      " [0 0 0 ... 0 0 0]]\n",
      "2020-12-24 10:10:33,344 [DEBUG] kashgari - predict seq_length: None, input: (2, 88, 163)\n"
     ]
    },
    {
     "name": "stdout",
     "output_type": "stream",
     "text": [
      "3/3 [==============================] - 1s 312ms/step\n"
     ]
    },
    {
     "name": "stderr",
     "output_type": "stream",
     "text": [
      "2020-12-24 10:10:41,550 [DEBUG] kashgari - predict output: (88, 163)\n",
      "2020-12-24 10:10:41,550 [DEBUG] kashgari - predict output argmax: [[0 1 1 ... 1 1 1]\n",
      " [0 1 1 ... 1 1 1]\n",
      " [0 1 1 ... 1 1 1]\n",
      " ...\n",
      " [0 1 1 ... 1 1 1]\n",
      " [0 1 1 ... 1 1 1]\n",
      " [0 1 1 ... 1 1 0]]\n",
      "2020-12-24 10:10:41,552 [DEBUG] kashgari - predict seq_length: None, input: (2, 41, 86)\n"
     ]
    },
    {
     "name": "stdout",
     "output_type": "stream",
     "text": [
      "WARNING:tensorflow:5 out of the last 136 calls to <function Model.make_predict_function.<locals>.predict_function at 0x7f64f5dfe268> triggered tf.function retracing. Tracing is expensive and the excessive number of tracings is likely due to passing python objects instead of tensors. Also, tf.function has experimental_relax_shapes=True option that relaxes argument shapes that can avoid unnecessary retracing. Please refer to https://www.tensorflow.org/tutorials/customization/performance#python_or_tensor_args and https://www.tensorflow.org/api_docs/python/tf/function for more details.\n",
      "2/2 [==============================] - 0s 60ms/step\n"
     ]
    },
    {
     "name": "stderr",
     "output_type": "stream",
     "text": [
      "2020-12-24 10:10:48,209 [DEBUG] kashgari - predict output: (41, 86)\n",
      "2020-12-24 10:10:48,209 [DEBUG] kashgari - predict output argmax: [[0 1 1 ... 1 1 1]\n",
      " [0 1 1 ... 1 1 1]\n",
      " [0 1 1 ... 1 1 1]\n",
      " ...\n",
      " [0 1 1 ... 1 1 1]\n",
      " [0 1 1 ... 1 1 1]\n",
      " [0 0 0 ... 0 0 0]]\n",
      "2020-12-24 10:10:48,211 [DEBUG] kashgari - predict seq_length: None, input: (2, 39, 90)\n"
     ]
    },
    {
     "name": "stdout",
     "output_type": "stream",
     "text": [
      "WARNING:tensorflow:5 out of the last 11 calls to <function Model.make_predict_function.<locals>.predict_function at 0x7f64f5dfe268> triggered tf.function retracing. Tracing is expensive and the excessive number of tracings is likely due to passing python objects instead of tensors. Also, tf.function has experimental_relax_shapes=True option that relaxes argument shapes that can avoid unnecessary retracing. Please refer to https://www.tensorflow.org/tutorials/customization/performance#python_or_tensor_args and https://www.tensorflow.org/api_docs/python/tf/function for more details.\n",
      "2/2 [==============================] - 0s 54ms/step\n"
     ]
    },
    {
     "name": "stderr",
     "output_type": "stream",
     "text": [
      "2020-12-24 10:10:55,502 [DEBUG] kashgari - predict output: (39, 90)\n",
      "2020-12-24 10:10:55,503 [DEBUG] kashgari - predict output argmax: [[0 1 1 ... 1 1 1]\n",
      " [0 1 1 ... 1 1 1]\n",
      " [0 1 1 ... 1 1 1]\n",
      " ...\n",
      " [0 1 1 ... 1 1 1]\n",
      " [0 1 1 ... 1 1 1]\n",
      " [0 0 0 ... 0 0 0]]\n",
      "2020-12-24 10:10:55,507 [DEBUG] kashgari - predict seq_length: None, input: (2, 157, 57)\n"
     ]
    },
    {
     "name": "stdout",
     "output_type": "stream",
     "text": [
      "WARNING:tensorflow:5 out of the last 11 calls to <function Model.make_predict_function.<locals>.predict_function at 0x7f64f5dfe268> triggered tf.function retracing. Tracing is expensive and the excessive number of tracings is likely due to passing python objects instead of tensors. Also, tf.function has experimental_relax_shapes=True option that relaxes argument shapes that can avoid unnecessary retracing. Please refer to https://www.tensorflow.org/tutorials/customization/performance#python_or_tensor_args and https://www.tensorflow.org/api_docs/python/tf/function for more details.\n",
      "5/5 [==============================] - 1s 151ms/step\n"
     ]
    },
    {
     "name": "stderr",
     "output_type": "stream",
     "text": [
      "2020-12-24 10:11:02,674 [DEBUG] kashgari - predict output: (157, 57)\n",
      "2020-12-24 10:11:02,675 [DEBUG] kashgari - predict output argmax: [[0 1 1 ... 1 1 1]\n",
      " [0 1 1 ... 1 1 1]\n",
      " [0 1 1 ... 1 1 1]\n",
      " ...\n",
      " [0 1 1 ... 1 1 1]\n",
      " [0 1 1 ... 1 1 1]\n",
      " [0 1 1 ... 1 1 1]]\n",
      "2020-12-24 10:11:02,679 [DEBUG] kashgari - predict seq_length: None, input: (2, 174, 65)\n"
     ]
    },
    {
     "name": "stdout",
     "output_type": "stream",
     "text": [
      "WARNING:tensorflow:5 out of the last 13 calls to <function Model.make_predict_function.<locals>.predict_function at 0x7f64f5dfe268> triggered tf.function retracing. Tracing is expensive and the excessive number of tracings is likely due to passing python objects instead of tensors. Also, tf.function has experimental_relax_shapes=True option that relaxes argument shapes that can avoid unnecessary retracing. Please refer to https://www.tensorflow.org/tutorials/customization/performance#python_or_tensor_args and https://www.tensorflow.org/api_docs/python/tf/function for more details.\n",
      "6/6 [==============================] - 1s 164ms/step\n"
     ]
    },
    {
     "name": "stderr",
     "output_type": "stream",
     "text": [
      "2020-12-24 10:11:10,180 [DEBUG] kashgari - predict output: (174, 65)\n",
      "2020-12-24 10:11:10,181 [DEBUG] kashgari - predict output argmax: [[ 0  1  1 ...  1  1  1]\n",
      " [ 0  1  1 ...  1  1  1]\n",
      " [ 0  1  1 ...  1  1  1]\n",
      " ...\n",
      " [ 0 12  6 ...  6  6  6]\n",
      " [ 0  1  1 ...  1  1  1]\n",
      " [ 0  0  0 ...  0  0  0]]\n",
      "2020-12-24 10:11:10,184 [DEBUG] kashgari - predict seq_length: None, input: (2, 83, 57)\n"
     ]
    },
    {
     "name": "stdout",
     "output_type": "stream",
     "text": [
      "3/3 [==============================] - 0s 108ms/step\n"
     ]
    },
    {
     "name": "stderr",
     "output_type": "stream",
     "text": [
      "2020-12-24 10:11:10,732 [DEBUG] kashgari - predict output: (83, 57)\n",
      "2020-12-24 10:11:10,733 [DEBUG] kashgari - predict output argmax: [[0 1 1 ... 1 1 1]\n",
      " [0 1 1 ... 1 1 1]\n",
      " [0 1 1 ... 1 1 0]\n",
      " ...\n",
      " [0 1 1 ... 1 1 1]\n",
      " [0 1 1 ... 1 1 1]\n",
      " [0 0 0 ... 0 0 0]]\n",
      "2020-12-24 10:11:10,736 [DEBUG] kashgari - predict seq_length: None, input: (2, 98, 53)\n"
     ]
    },
    {
     "name": "stdout",
     "output_type": "stream",
     "text": [
      "4/4 [==============================] - 0s 109ms/step\n"
     ]
    },
    {
     "name": "stderr",
     "output_type": "stream",
     "text": [
      "2020-12-24 10:11:17,672 [DEBUG] kashgari - predict output: (98, 53)\n",
      "2020-12-24 10:11:17,673 [DEBUG] kashgari - predict output argmax: [[0 1 1 ... 1 1 1]\n",
      " [0 1 1 ... 1 1 1]\n",
      " [0 1 1 ... 6 6 6]\n",
      " ...\n",
      " [0 1 1 ... 1 1 1]\n",
      " [0 1 1 ... 2 2 2]\n",
      " [0 0 0 ... 0 0 0]]\n",
      "2020-12-24 10:11:17,679 [DEBUG] kashgari - predict seq_length: None, input: (2, 193, 84)\n"
     ]
    },
    {
     "name": "stdout",
     "output_type": "stream",
     "text": [
      "7/7 [==============================] - 1s 205ms/step\n"
     ]
    },
    {
     "name": "stderr",
     "output_type": "stream",
     "text": [
      "2020-12-24 10:11:26,634 [DEBUG] kashgari - predict output: (193, 84)\n",
      "2020-12-24 10:11:26,635 [DEBUG] kashgari - predict output argmax: [[0 1 1 ... 1 1 1]\n",
      " [0 1 1 ... 1 1 1]\n",
      " [0 1 1 ... 1 1 1]\n",
      " ...\n",
      " [0 1 1 ... 1 1 1]\n",
      " [0 1 1 ... 1 1 1]\n",
      " [0 0 0 ... 0 0 0]]\n",
      "2020-12-24 10:11:26,638 [DEBUG] kashgari - predict seq_length: None, input: (2, 98, 84)\n"
     ]
    },
    {
     "name": "stdout",
     "output_type": "stream",
     "text": [
      "4/4 [==============================] - 1s 157ms/step\n"
     ]
    },
    {
     "name": "stderr",
     "output_type": "stream",
     "text": [
      "2020-12-24 10:11:27,575 [DEBUG] kashgari - predict output: (98, 84)\n",
      "2020-12-24 10:11:27,576 [DEBUG] kashgari - predict output argmax: [[0 1 1 ... 1 1 1]\n",
      " [0 1 1 ... 1 1 1]\n",
      " [0 1 1 ... 1 1 1]\n",
      " ...\n",
      " [0 1 1 ... 1 1 1]\n",
      " [0 1 1 ... 1 1 1]\n",
      " [0 0 0 ... 0 0 0]]\n",
      "2020-12-24 10:11:27,584 [DEBUG] kashgari - predict seq_length: None, input: (2, 362, 94)\n"
     ]
    },
    {
     "name": "stdout",
     "output_type": "stream",
     "text": [
      "12/12 [==============================] - 3s 267ms/step\n"
     ]
    },
    {
     "name": "stderr",
     "output_type": "stream",
     "text": [
      "2020-12-24 10:11:37,451 [DEBUG] kashgari - predict output: (362, 94)\n",
      "2020-12-24 10:11:37,452 [DEBUG] kashgari - predict output argmax: [[0 1 1 ... 1 1 1]\n",
      " [0 1 1 ... 1 1 1]\n",
      " [0 1 1 ... 1 1 1]\n",
      " ...\n",
      " [0 1 1 ... 1 1 1]\n",
      " [0 1 1 ... 1 1 1]\n",
      " [0 0 0 ... 0 0 0]]\n",
      "2020-12-24 10:11:37,454 [DEBUG] kashgari - predict seq_length: None, input: (2, 29, 34)\n"
     ]
    },
    {
     "name": "stdout",
     "output_type": "stream",
     "text": [
      "1/1 [==============================] - 0s 926us/step\n"
     ]
    },
    {
     "name": "stderr",
     "output_type": "stream",
     "text": [
      "2020-12-24 10:11:37,592 [DEBUG] kashgari - predict output: (29, 34)\n",
      "2020-12-24 10:11:37,594 [DEBUG] kashgari - predict output argmax: [[ 0  1  1  1  1  1  1  1  1  1  0  1  1  1  1  1  1  1  1  1  1  1  1  1\n",
      "   1  1  1  1  1  1  1  1  1  1]\n",
      " [ 0  1  1  1  1  1  1  1  1  1  1  1  1  1  1  1  0  1  1  1  1  1  1  1\n",
      "   1  1  1  1  1  1  1  1  1  1]\n",
      " [ 0  1  1  1  1  1  1  1  1  1  1  1  1  1  1  1  1  1  1  1  1  1  1  0\n",
      "   1  1  1  1  1  1  1  1  1  1]\n",
      " [ 0  1  1  1  1  1  1  1  1  0  1  1  1  1  1  1  1  1  1  1  1  1  1  1\n",
      "   1  1  1  1  1  1  1  1  1  1]\n",
      " [ 0  1  1  1  1  1  1  1  0  1  1  1  1  1  1  1  1  1  1  1  1  1  1  1\n",
      "   1  1  1  1  1  1  1  1  1  1]\n",
      " [ 0  1  1  1  1  1  1  1  1  1  1  1  0  1  1  1  1  1  1  1  1  1  1  1\n",
      "   1  1  1  1  1  1  1  1  1  1]\n",
      " [ 0  1  1  1  1  1  1  1  1  1  0  1  1  1  1  1  1  1  1  1  1  1  1  1\n",
      "   1  1  1  1  1  1  1  1  1  1]\n",
      " [ 0  1  1  1  1  1  1  0  1  1  1  1  1  1  1  1  1  1  1  1  1  1  1  1\n",
      "   1  1  1  1  1  1  1  1  1  1]\n",
      " [ 0  1  1  1  1  0  1  1  1  1  1  1  1  1  1  1  1  1  1  1  1  1  1  1\n",
      "   1  1  1  1  1  1  1  1  1  1]\n",
      " [ 0  1  1  1  1  0  1  1  1  1  1  1  1  1  1  1  1  1  1  1  1  1  1  1\n",
      "   1  1  1  1  1  1  1  1  1  1]\n",
      " [ 0  1  1  1  1  1  1  1  1  1  1  1  1  1  0  1  1  1  1  1  1  1  1  1\n",
      "   1  1  1  1  1  1  1  1  1  1]\n",
      " [ 0  1  1  1  1  1  1  1  1  0  1  1  1  1  1  1  1  1  1  1  1  1  1  1\n",
      "   1  1  1  1  1  1  1  1  1  1]\n",
      " [ 0  1  1  1  1  1  1  1 20 17  1  1  1  1  0  1  1  1  1  1  1  1  1  1\n",
      "   1  1  1  1  1  1  1  1  1  1]\n",
      " [ 0  1  1  1  1  1  0  1  1  1  1  1  1  1  1  1  1  1  1  1  1  1  1  1\n",
      "   1  1  1  1  1  1  1  1  1  1]\n",
      " [ 0  1  1  1  1  1  1  1  1  1  1  1  1  1  1  1  1  0  1  1  1  1  1  1\n",
      "   1  1  1  1  1  1  1  1  1  1]\n",
      " [ 0  1  1  1  1  1  1  1  1  1  1  0  1  1  1  1  1  1  1  1  1  1  1  1\n",
      "   1  1  1  1  1  1  1  1  1  1]\n",
      " [ 0  1  1  1  1  0  1  1  1  1  1  1  1  1  1  1  1  1  1  1  1  1  1  1\n",
      "   1  1  1  1  1  1  1  1  1  1]\n",
      " [ 0  1  1  1  1  1  1  1  1  1  1  0  1  1  1  1  1  1  1  1  1  1  1  1\n",
      "   1  1  1  1  1  1  1  1  1  1]\n",
      " [ 0  1  1  1  1  0  1  1  1  1  1  1  1  1  1  1  1  1  1  1  1  1  1  1\n",
      "   1  1  1  1  1  1  1  1  1  1]\n",
      " [ 0  1  1  1  1  1  0  1  1  1  1  1  1  1  1  1  1  1  1  1  1  1  1  1\n",
      "   1  1  1  1  1  1  1  1  1  1]\n",
      " [ 0  1  1  1  1  0  1  1  1  1  1  1  1  1  1  1  1  1  1  1  1  1  1  1\n",
      "   1  1  1  1  1  1  1  1  1  1]\n",
      " [ 0  1  1  1  1  1  1  1  1  1  1  1  1  1  1  1  1  1  1  1  1  1  1  1\n",
      "   1  1  1  1  1  1  1  1  1  0]\n",
      " [ 0  1  1  1  1  1  0  1  1  1  1  1  1  1  1  1  1  1  1  1  1  1  1  1\n",
      "   1  1  1  1  1  1  1  1  1  1]\n",
      " [ 0  1  1  1  1  1  1  1  1  1  1  1  1  1  1  1  1  1  1  1  0  1  1  1\n",
      "   1  1  1  1  1  1  1  1  1  1]\n",
      " [ 0  1  1  1  1  0  1  1  1  1  1  1  1  1  1  1  1  1  1  1  1  1  1  1\n",
      "   1  1  1  1  1  1  1  1  1  1]\n",
      " [ 0  1  1  1  1  3  2  2  2  1  1  1  1  1  0  1  1  1  1  1  1  1  1  1\n",
      "   1  1  1  1  1  1  1  1  1  1]\n",
      " [ 0  1  1  1  1  0  1  1  1  1  1  1  1  1  1  1  1  1  1  1  1  1  1  1\n",
      "   1  1  1  1  1  1  1  1  1  1]\n",
      " [ 0  1  1  1  1  1  1  1  1  0  1  1  1  1  1  1  1  1  1  1  1  1  1  1\n",
      "   1  1  1  1  1  1  1  1  1  1]\n",
      " [ 0  0  0  0  0  0  0  0  0  0  0  0  0  0  0  0  0  0  0  0  0  0  0  0\n",
      "   0  0  0  0  0  0  0  0  0  0]]\n",
      "2020-12-24 10:11:37,596 [DEBUG] kashgari - predict seq_length: None, input: (2, 111, 43)\n"
     ]
    },
    {
     "name": "stdout",
     "output_type": "stream",
     "text": [
      "4/4 [==============================] - 0s 99ms/step\n"
     ]
    },
    {
     "name": "stderr",
     "output_type": "stream",
     "text": [
      "2020-12-24 10:11:44,598 [DEBUG] kashgari - predict output: (111, 43)\n",
      "2020-12-24 10:11:44,599 [DEBUG] kashgari - predict output argmax: [[0 1 1 ... 1 1 1]\n",
      " [0 1 1 ... 1 1 1]\n",
      " [0 1 1 ... 1 1 1]\n",
      " ...\n",
      " [0 1 1 ... 4 4 4]\n",
      " [0 1 1 ... 1 1 1]\n",
      " [0 0 0 ... 0 0 0]]\n",
      "2020-12-24 10:11:44,600 [DEBUG] kashgari - predict seq_length: None, input: (2, 101, 54)\n"
     ]
    },
    {
     "name": "stdout",
     "output_type": "stream",
     "text": [
      "4/4 [==============================] - 0s 110ms/step\n"
     ]
    },
    {
     "name": "stderr",
     "output_type": "stream",
     "text": [
      "2020-12-24 10:11:51,795 [DEBUG] kashgari - predict output: (101, 54)\n",
      "2020-12-24 10:11:51,796 [DEBUG] kashgari - predict output argmax: [[0 1 1 ... 1 1 1]\n",
      " [0 1 1 ... 1 1 1]\n",
      " [0 1 1 ... 1 1 1]\n",
      " ...\n",
      " [0 1 1 ... 1 1 1]\n",
      " [0 1 1 ... 1 1 1]\n",
      " [0 0 0 ... 0 0 0]]\n",
      "2020-12-24 10:11:51,798 [DEBUG] kashgari - predict seq_length: None, input: (2, 51, 41)\n"
     ]
    },
    {
     "name": "stdout",
     "output_type": "stream",
     "text": [
      "2/2 [==============================] - 0s 54ms/step\n"
     ]
    },
    {
     "name": "stderr",
     "output_type": "stream",
     "text": [
      "2020-12-24 10:11:52,074 [DEBUG] kashgari - predict output: (51, 41)\n",
      "2020-12-24 10:11:52,075 [DEBUG] kashgari - predict output argmax: [[0 1 1 ... 1 1 1]\n",
      " [0 1 1 ... 1 1 1]\n",
      " [0 1 1 ... 1 1 1]\n",
      " ...\n",
      " [0 1 1 ... 2 2 2]\n",
      " [0 1 1 ... 1 1 1]\n",
      " [0 0 0 ... 0 0 0]]\n",
      "2020-12-24 10:11:52,077 [DEBUG] kashgari - predict seq_length: None, input: (2, 51, 151)\n"
     ]
    },
    {
     "name": "stdout",
     "output_type": "stream",
     "text": [
      "2/2 [==============================] - 0s 160ms/step\n"
     ]
    },
    {
     "name": "stderr",
     "output_type": "stream",
     "text": [
      "2020-12-24 10:11:59,263 [DEBUG] kashgari - predict output: (51, 151)\n",
      "2020-12-24 10:11:59,264 [DEBUG] kashgari - predict output argmax: [[0 1 1 ... 1 1 1]\n",
      " [0 1 1 ... 1 1 1]\n",
      " [0 1 1 ... 1 1 1]\n",
      " ...\n",
      " [0 1 1 ... 1 1 1]\n",
      " [0 1 1 ... 1 1 1]\n",
      " [0 0 0 ... 0 0 0]]\n",
      "2020-12-24 10:11:59,266 [DEBUG] kashgari - predict seq_length: None, input: (2, 60, 38)\n"
     ]
    },
    {
     "name": "stdout",
     "output_type": "stream",
     "text": [
      "2/2 [==============================] - 0s 59ms/step\n"
     ]
    },
    {
     "name": "stderr",
     "output_type": "stream",
     "text": [
      "2020-12-24 10:12:07,002 [DEBUG] kashgari - predict output: (60, 38)\n",
      "2020-12-24 10:12:07,003 [DEBUG] kashgari - predict output argmax: [[0 1 1 ... 1 1 1]\n",
      " [0 1 1 ... 1 1 1]\n",
      " [0 1 1 ... 1 1 1]\n",
      " ...\n",
      " [0 1 1 ... 1 1 1]\n",
      " [0 1 1 ... 1 1 1]\n",
      " [0 0 0 ... 0 0 0]]\n",
      "2020-12-24 10:12:07,007 [DEBUG] kashgari - predict seq_length: None, input: (2, 150, 48)\n"
     ]
    },
    {
     "name": "stdout",
     "output_type": "stream",
     "text": [
      "5/5 [==============================] - 1s 122ms/step\n"
     ]
    },
    {
     "name": "stderr",
     "output_type": "stream",
     "text": [
      "2020-12-24 10:12:14,198 [DEBUG] kashgari - predict output: (150, 48)\n",
      "2020-12-24 10:12:14,199 [DEBUG] kashgari - predict output argmax: [[0 1 1 ... 1 1 1]\n",
      " [0 1 1 ... 1 1 1]\n",
      " [0 1 1 ... 1 1 1]\n",
      " ...\n",
      " [0 1 1 ... 1 1 1]\n",
      " [0 1 1 ... 1 1 1]\n",
      " [0 0 0 ... 0 0 0]]\n",
      "2020-12-24 10:12:14,203 [DEBUG] kashgari - predict seq_length: None, input: (2, 133, 75)\n"
     ]
    },
    {
     "name": "stdout",
     "output_type": "stream",
     "text": [
      "WARNING:tensorflow:5 out of the last 16 calls to <function Model.make_predict_function.<locals>.predict_function at 0x7f64f5dfe268> triggered tf.function retracing. Tracing is expensive and the excessive number of tracings is likely due to passing python objects instead of tensors. Also, tf.function has experimental_relax_shapes=True option that relaxes argument shapes that can avoid unnecessary retracing. Please refer to https://www.tensorflow.org/tutorials/customization/performance#python_or_tensor_args and https://www.tensorflow.org/api_docs/python/tf/function for more details.\n",
      "5/5 [==============================] - 1s 166ms/step\n"
     ]
    },
    {
     "name": "stderr",
     "output_type": "stream",
     "text": [
      "2020-12-24 10:12:21,595 [DEBUG] kashgari - predict output: (133, 75)\n",
      "2020-12-24 10:12:21,596 [DEBUG] kashgari - predict output argmax: [[0 1 1 ... 1 1 0]\n",
      " [0 1 1 ... 1 1 1]\n",
      " [0 1 1 ... 1 1 1]\n",
      " ...\n",
      " [0 1 1 ... 1 1 1]\n",
      " [0 1 1 ... 1 1 1]\n",
      " [0 0 0 ... 0 0 0]]\n",
      "2020-12-24 10:12:21,600 [DEBUG] kashgari - predict seq_length: None, input: (2, 108, 42)\n"
     ]
    },
    {
     "name": "stdout",
     "output_type": "stream",
     "text": [
      "4/4 [==============================] - 0s 94ms/step\n"
     ]
    },
    {
     "name": "stderr",
     "output_type": "stream",
     "text": [
      "2020-12-24 10:12:28,578 [DEBUG] kashgari - predict output: (108, 42)\n",
      "2020-12-24 10:12:28,579 [DEBUG] kashgari - predict output argmax: [[ 0  1  1 ...  1  1  1]\n",
      " [ 0  1  1 ...  1  1  1]\n",
      " [ 0  1  1 ...  1  1  1]\n",
      " ...\n",
      " [ 0  1  1 ...  1  1  1]\n",
      " [ 0  1  1 ... 13 13 13]\n",
      " [ 0  0  0 ...  0  0  0]]\n",
      "2020-12-24 10:12:28,582 [DEBUG] kashgari - predict seq_length: None, input: (2, 59, 63)\n"
     ]
    },
    {
     "name": "stdout",
     "output_type": "stream",
     "text": [
      "2/2 [==============================] - 0s 96ms/step\n"
     ]
    },
    {
     "name": "stderr",
     "output_type": "stream",
     "text": [
      "2020-12-24 10:12:35,517 [DEBUG] kashgari - predict output: (59, 63)\n",
      "2020-12-24 10:12:35,518 [DEBUG] kashgari - predict output argmax: [[0 1 1 ... 1 1 1]\n",
      " [0 1 1 ... 6 6 6]\n",
      " [0 1 1 ... 1 1 1]\n",
      " ...\n",
      " [0 1 1 ... 1 1 1]\n",
      " [0 1 1 ... 1 1 1]\n",
      " [0 0 0 ... 0 0 0]]\n",
      "2020-12-24 10:12:35,519 [DEBUG] kashgari - predict seq_length: None, input: (2, 47, 75)\n"
     ]
    },
    {
     "name": "stdout",
     "output_type": "stream",
     "text": [
      "2/2 [==============================] - 0s 76ms/step\n"
     ]
    },
    {
     "name": "stderr",
     "output_type": "stream",
     "text": [
      "2020-12-24 10:12:35,956 [DEBUG] kashgari - predict output: (47, 75)\n",
      "2020-12-24 10:12:35,958 [DEBUG] kashgari - predict output argmax: [[0 1 1 ... 1 1 1]\n",
      " [0 1 1 ... 1 1 1]\n",
      " [0 1 1 ... 1 1 1]\n",
      " ...\n",
      " [0 1 1 ... 1 1 1]\n",
      " [0 1 1 ... 1 1 1]\n",
      " [0 0 0 ... 0 0 0]]\n",
      "2020-12-24 10:12:35,963 [DEBUG] kashgari - predict seq_length: None, input: (2, 148, 91)\n"
     ]
    },
    {
     "name": "stdout",
     "output_type": "stream",
     "text": [
      "5/5 [==============================] - 1s 220ms/step\n"
     ]
    },
    {
     "name": "stderr",
     "output_type": "stream",
     "text": [
      "2020-12-24 10:12:43,647 [DEBUG] kashgari - predict output: (148, 91)\n",
      "2020-12-24 10:12:43,648 [DEBUG] kashgari - predict output argmax: [[0 1 1 ... 1 1 1]\n",
      " [0 1 1 ... 1 1 1]\n",
      " [0 1 1 ... 1 1 1]\n",
      " ...\n",
      " [0 1 1 ... 1 1 1]\n",
      " [0 1 1 ... 1 1 1]\n",
      " [0 0 0 ... 0 0 0]]\n",
      "2020-12-24 10:12:43,650 [DEBUG] kashgari - predict seq_length: None, input: (2, 39, 37)\n"
     ]
    },
    {
     "name": "stdout",
     "output_type": "stream",
     "text": [
      "2/2 [==============================] - 0s 33ms/step\n"
     ]
    },
    {
     "name": "stderr",
     "output_type": "stream",
     "text": [
      "2020-12-24 10:12:50,161 [DEBUG] kashgari - predict output: (39, 37)\n",
      "2020-12-24 10:12:50,162 [DEBUG] kashgari - predict output argmax: [[0 1 1 ... 1 1 1]\n",
      " [0 1 1 ... 1 1 1]\n",
      " [0 1 1 ... 1 1 1]\n",
      " ...\n",
      " [0 1 1 ... 1 1 1]\n",
      " [0 1 1 ... 1 1 1]\n",
      " [0 0 0 ... 0 0 0]]\n",
      "2020-12-24 10:12:50,165 [DEBUG] kashgari - predict seq_length: None, input: (2, 57, 33)\n"
     ]
    },
    {
     "name": "stdout",
     "output_type": "stream",
     "text": [
      "2/2 [==============================] - 0s 57ms/step\n"
     ]
    },
    {
     "name": "stderr",
     "output_type": "stream",
     "text": [
      "2020-12-24 10:12:57,947 [DEBUG] kashgari - predict output: (57, 33)\n",
      "2020-12-24 10:12:57,948 [DEBUG] kashgari - predict output argmax: [[0 1 1 ... 1 1 1]\n",
      " [0 1 1 ... 1 1 1]\n",
      " [0 1 1 ... 1 1 1]\n",
      " ...\n",
      " [0 1 1 ... 1 1 1]\n",
      " [0 1 1 ... 1 1 1]\n",
      " [0 0 0 ... 0 0 0]]\n",
      "2020-12-24 10:12:57,951 [DEBUG] kashgari - predict seq_length: None, input: (2, 91, 111)\n"
     ]
    },
    {
     "name": "stdout",
     "output_type": "stream",
     "text": [
      "WARNING:tensorflow:5 out of the last 14 calls to <function Model.make_predict_function.<locals>.predict_function at 0x7f64f5dfe268> triggered tf.function retracing. Tracing is expensive and the excessive number of tracings is likely due to passing python objects instead of tensors. Also, tf.function has experimental_relax_shapes=True option that relaxes argument shapes that can avoid unnecessary retracing. Please refer to https://www.tensorflow.org/tutorials/customization/performance#python_or_tensor_args and https://www.tensorflow.org/api_docs/python/tf/function for more details.\n",
      "3/3 [==============================] - 1s 225ms/step\n"
     ]
    },
    {
     "name": "stderr",
     "output_type": "stream",
     "text": [
      "2020-12-24 10:13:05,764 [DEBUG] kashgari - predict output: (91, 111)\n",
      "2020-12-24 10:13:05,765 [DEBUG] kashgari - predict output argmax: [[0 1 1 ... 1 1 1]\n",
      " [0 1 1 ... 1 1 1]\n",
      " [0 1 1 ... 1 1 1]\n",
      " ...\n",
      " [0 1 1 ... 1 1 1]\n",
      " [0 1 1 ... 1 1 1]\n",
      " [0 0 0 ... 0 0 0]]\n",
      "2020-12-24 10:13:05,767 [DEBUG] kashgari - predict seq_length: None, input: (2, 86, 73)\n"
     ]
    },
    {
     "name": "stdout",
     "output_type": "stream",
     "text": [
      "WARNING:tensorflow:5 out of the last 13 calls to <function Model.make_predict_function.<locals>.predict_function at 0x7f64f5dfe268> triggered tf.function retracing. Tracing is expensive and the excessive number of tracings is likely due to passing python objects instead of tensors. Also, tf.function has experimental_relax_shapes=True option that relaxes argument shapes that can avoid unnecessary retracing. Please refer to https://www.tensorflow.org/tutorials/customization/performance#python_or_tensor_args and https://www.tensorflow.org/api_docs/python/tf/function for more details.\n",
      "3/3 [==============================] - 0s 147ms/step\n"
     ]
    },
    {
     "name": "stderr",
     "output_type": "stream",
     "text": [
      "2020-12-24 10:13:12,874 [DEBUG] kashgari - predict output: (86, 73)\n",
      "2020-12-24 10:13:12,875 [DEBUG] kashgari - predict output argmax: [[0 1 1 ... 1 1 1]\n",
      " [0 1 1 ... 1 1 1]\n",
      " [0 1 1 ... 1 1 1]\n",
      " ...\n",
      " [0 1 1 ... 1 1 1]\n",
      " [0 1 1 ... 1 1 1]\n",
      " [0 0 0 ... 0 0 0]]\n",
      "2020-12-24 10:13:12,878 [DEBUG] kashgari - predict seq_length: None, input: (2, 156, 49)\n"
     ]
    },
    {
     "name": "stdout",
     "output_type": "stream",
     "text": [
      "WARNING:tensorflow:5 out of the last 11 calls to <function Model.make_predict_function.<locals>.predict_function at 0x7f64f5dfe268> triggered tf.function retracing. Tracing is expensive and the excessive number of tracings is likely due to passing python objects instead of tensors. Also, tf.function has experimental_relax_shapes=True option that relaxes argument shapes that can avoid unnecessary retracing. Please refer to https://www.tensorflow.org/tutorials/customization/performance#python_or_tensor_args and https://www.tensorflow.org/api_docs/python/tf/function for more details.\n",
      "5/5 [==============================] - 1s 132ms/step\n"
     ]
    },
    {
     "name": "stderr",
     "output_type": "stream",
     "text": [
      "2020-12-24 10:13:20,808 [DEBUG] kashgari - predict output: (156, 49)\n",
      "2020-12-24 10:13:20,809 [DEBUG] kashgari - predict output argmax: [[0 1 1 ... 1 1 1]\n",
      " [0 1 1 ... 1 1 1]\n",
      " [0 1 1 ... 1 1 1]\n",
      " ...\n",
      " [0 1 1 ... 1 1 1]\n",
      " [0 1 1 ... 1 1 1]\n",
      " [0 0 0 ... 0 0 0]]\n",
      "2020-12-24 10:13:20,811 [DEBUG] kashgari - predict seq_length: None, input: (2, 68, 37)\n"
     ]
    },
    {
     "name": "stdout",
     "output_type": "stream",
     "text": [
      "3/3 [==============================] - 0s 66ms/step\n"
     ]
    },
    {
     "name": "stderr",
     "output_type": "stream",
     "text": [
      "2020-12-24 10:13:21,164 [DEBUG] kashgari - predict output: (68, 37)\n",
      "2020-12-24 10:13:21,165 [DEBUG] kashgari - predict output argmax: [[0 1 1 ... 1 1 1]\n",
      " [0 1 1 ... 1 1 1]\n",
      " [0 1 1 ... 0 6 6]\n",
      " ...\n",
      " [0 1 1 ... 1 1 1]\n",
      " [0 1 1 ... 1 1 1]\n",
      " [0 0 0 ... 0 0 0]]\n",
      "2020-12-24 10:13:21,169 [DEBUG] kashgari - predict seq_length: None, input: (2, 90, 56)\n"
     ]
    },
    {
     "name": "stdout",
     "output_type": "stream",
     "text": [
      "3/3 [==============================] - 0s 117ms/step\n"
     ]
    },
    {
     "name": "stderr",
     "output_type": "stream",
     "text": [
      "2020-12-24 10:13:27,976 [DEBUG] kashgari - predict output: (90, 56)\n",
      "2020-12-24 10:13:27,977 [DEBUG] kashgari - predict output argmax: [[0 1 1 ... 6 6 6]\n",
      " [0 1 1 ... 1 1 1]\n",
      " [0 1 1 ... 1 1 1]\n",
      " ...\n",
      " [0 1 1 ... 1 1 1]\n",
      " [0 1 1 ... 1 1 1]\n",
      " [0 0 0 ... 0 0 0]]\n",
      "2020-12-24 10:13:27,979 [DEBUG] kashgari - predict seq_length: None, input: (2, 147, 40)\n"
     ]
    },
    {
     "name": "stdout",
     "output_type": "stream",
     "text": [
      "5/5 [==============================] - 1s 106ms/step\n"
     ]
    },
    {
     "name": "stderr",
     "output_type": "stream",
     "text": [
      "2020-12-24 10:13:35,029 [DEBUG] kashgari - predict output: (147, 40)\n",
      "2020-12-24 10:13:35,029 [DEBUG] kashgari - predict output argmax: [[0 1 1 ... 1 1 1]\n",
      " [0 1 1 ... 1 1 1]\n",
      " [0 1 1 ... 1 1 1]\n",
      " ...\n",
      " [0 1 1 ... 1 1 1]\n",
      " [0 1 1 ... 1 1 1]\n",
      " [0 0 0 ... 0 0 0]]\n",
      "2020-12-24 10:13:35,032 [DEBUG] kashgari - predict seq_length: None, input: (2, 82, 54)\n"
     ]
    },
    {
     "name": "stdout",
     "output_type": "stream",
     "text": [
      "3/3 [==============================] - 0s 103ms/step\n"
     ]
    },
    {
     "name": "stderr",
     "output_type": "stream",
     "text": [
      "2020-12-24 10:13:35,562 [DEBUG] kashgari - predict output: (82, 54)\n",
      "2020-12-24 10:13:35,562 [DEBUG] kashgari - predict output argmax: [[0 1 1 ... 1 1 1]\n",
      " [0 1 1 ... 1 1 1]\n",
      " [0 1 1 ... 1 1 1]\n",
      " ...\n",
      " [0 1 1 ... 1 1 1]\n",
      " [0 1 1 ... 1 1 1]\n",
      " [0 0 0 ... 0 0 0]]\n",
      "2020-12-24 10:13:35,565 [DEBUG] kashgari - predict seq_length: None, input: (2, 42, 45)\n"
     ]
    },
    {
     "name": "stdout",
     "output_type": "stream",
     "text": [
      "2/2 [==============================] - 0s 40ms/step\n"
     ]
    },
    {
     "name": "stderr",
     "output_type": "stream",
     "text": [
      "2020-12-24 10:13:42,239 [DEBUG] kashgari - predict output: (42, 45)\n",
      "2020-12-24 10:13:42,240 [DEBUG] kashgari - predict output argmax: [[0 1 1 ... 1 1 1]\n",
      " [0 1 1 ... 1 1 1]\n",
      " [0 1 1 ... 1 1 1]\n",
      " ...\n",
      " [0 1 1 ... 1 1 1]\n",
      " [0 1 1 ... 1 1 1]\n",
      " [0 0 0 ... 0 0 0]]\n",
      "2020-12-24 10:13:42,242 [DEBUG] kashgari - predict seq_length: None, input: (2, 56, 43)\n"
     ]
    },
    {
     "name": "stdout",
     "output_type": "stream",
     "text": [
      "2/2 [==============================] - 0s 60ms/step\n"
     ]
    },
    {
     "name": "stderr",
     "output_type": "stream",
     "text": [
      "2020-12-24 10:13:42,544 [DEBUG] kashgari - predict output: (56, 43)\n",
      "2020-12-24 10:13:42,544 [DEBUG] kashgari - predict output argmax: [[0 1 1 ... 1 1 1]\n",
      " [0 1 1 ... 1 1 1]\n",
      " [0 1 1 ... 1 1 1]\n",
      " ...\n",
      " [0 1 1 ... 1 1 1]\n",
      " [0 1 1 ... 1 1 1]\n",
      " [0 0 0 ... 0 0 0]]\n",
      "2020-12-24 10:13:42,549 [DEBUG] kashgari - predict seq_length: None, input: (2, 163, 31)\n"
     ]
    },
    {
     "name": "stdout",
     "output_type": "stream",
     "text": [
      "6/6 [==============================] - 1s 91ms/step\n"
     ]
    },
    {
     "name": "stderr",
     "output_type": "stream",
     "text": [
      "2020-12-24 10:13:49,519 [DEBUG] kashgari - predict output: (163, 31)\n",
      "2020-12-24 10:13:49,520 [DEBUG] kashgari - predict output argmax: [[0 1 1 ... 1 1 1]\n",
      " [0 1 1 ... 1 1 1]\n",
      " [0 1 1 ... 1 1 1]\n",
      " ...\n",
      " [0 1 1 ... 1 1 1]\n",
      " [0 1 1 ... 1 1 1]\n",
      " [0 0 0 ... 0 0 0]]\n",
      "2020-12-24 10:13:49,522 [DEBUG] kashgari - predict seq_length: None, input: (2, 96, 38)\n"
     ]
    },
    {
     "name": "stdout",
     "output_type": "stream",
     "text": [
      "3/3 [==============================] - 0s 77ms/step\n"
     ]
    },
    {
     "name": "stderr",
     "output_type": "stream",
     "text": [
      "2020-12-24 10:13:55,722 [DEBUG] kashgari - predict output: (96, 38)\n",
      "2020-12-24 10:13:55,723 [DEBUG] kashgari - predict output argmax: [[0 1 1 ... 1 1 1]\n",
      " [0 1 1 ... 6 6 6]\n",
      " [0 1 1 ... 1 1 1]\n",
      " ...\n",
      " [0 1 1 ... 1 1 1]\n",
      " [0 1 1 ... 1 1 1]\n",
      " [0 0 0 ... 0 0 0]]\n",
      "2020-12-24 10:13:55,726 [DEBUG] kashgari - predict seq_length: None, input: (2, 42, 54)\n"
     ]
    },
    {
     "name": "stdout",
     "output_type": "stream",
     "text": [
      "2/2 [==============================] - 0s 48ms/step\n"
     ]
    },
    {
     "name": "stderr",
     "output_type": "stream",
     "text": [
      "2020-12-24 10:13:56,029 [DEBUG] kashgari - predict output: (42, 54)\n",
      "2020-12-24 10:13:56,030 [DEBUG] kashgari - predict output argmax: [[0 1 1 ... 1 1 1]\n",
      " [0 1 1 ... 1 1 1]\n",
      " [0 1 1 ... 1 1 1]\n",
      " ...\n",
      " [0 1 1 ... 1 1 1]\n",
      " [0 1 1 ... 1 1 1]\n",
      " [0 0 0 ... 0 0 0]]\n",
      "2020-12-24 10:13:56,032 [DEBUG] kashgari - predict seq_length: None, input: (2, 54, 81)\n"
     ]
    },
    {
     "name": "stdout",
     "output_type": "stream",
     "text": [
      "2/2 [==============================] - 0s 102ms/step\n"
     ]
    },
    {
     "name": "stderr",
     "output_type": "stream",
     "text": [
      "2020-12-24 10:14:02,893 [DEBUG] kashgari - predict output: (54, 81)\n",
      "2020-12-24 10:14:02,894 [DEBUG] kashgari - predict output argmax: [[0 1 1 ... 1 1 1]\n",
      " [0 1 1 ... 1 1 1]\n",
      " [0 1 1 ... 1 1 1]\n",
      " ...\n",
      " [0 1 1 ... 2 2 2]\n",
      " [0 1 1 ... 1 1 1]\n",
      " [0 0 0 ... 0 0 0]]\n",
      "2020-12-24 10:14:02,897 [DEBUG] kashgari - predict seq_length: None, input: (2, 115, 78)\n"
     ]
    },
    {
     "name": "stdout",
     "output_type": "stream",
     "text": [
      "4/4 [==============================] - 1s 172ms/step\n"
     ]
    },
    {
     "name": "stderr",
     "output_type": "stream",
     "text": [
      "2020-12-24 10:14:10,163 [DEBUG] kashgari - predict output: (115, 78)\n",
      "2020-12-24 10:14:10,164 [DEBUG] kashgari - predict output argmax: [[0 1 1 ... 1 1 1]\n",
      " [0 1 1 ... 1 1 1]\n",
      " [0 1 1 ... 1 1 1]\n",
      " ...\n",
      " [0 1 1 ... 1 1 1]\n",
      " [0 1 1 ... 1 1 1]\n",
      " [0 0 0 ... 0 0 0]]\n",
      "2020-12-24 10:14:10,165 [DEBUG] kashgari - predict seq_length: None, input: (2, 39, 36)\n"
     ]
    },
    {
     "name": "stdout",
     "output_type": "stream",
     "text": [
      "2/2 [==============================] - 0s 31ms/step\n"
     ]
    },
    {
     "name": "stderr",
     "output_type": "stream",
     "text": [
      "2020-12-24 10:14:16,615 [DEBUG] kashgari - predict output: (39, 36)\n",
      "2020-12-24 10:14:16,615 [DEBUG] kashgari - predict output argmax: [[0 1 1 ... 1 1 1]\n",
      " [0 1 1 ... 1 1 1]\n",
      " [0 1 1 ... 1 1 1]\n",
      " ...\n",
      " [0 1 1 ... 1 1 1]\n",
      " [0 1 1 ... 1 1 1]\n",
      " [0 0 0 ... 0 0 0]]\n",
      "2020-12-24 10:14:16,621 [DEBUG] kashgari - predict seq_length: None, input: (2, 233, 62)\n"
     ]
    },
    {
     "name": "stdout",
     "output_type": "stream",
     "text": [
      "WARNING:tensorflow:5 out of the last 14 calls to <function Model.make_predict_function.<locals>.predict_function at 0x7f64f5dfe268> triggered tf.function retracing. Tracing is expensive and the excessive number of tracings is likely due to passing python objects instead of tensors. Also, tf.function has experimental_relax_shapes=True option that relaxes argument shapes that can avoid unnecessary retracing. Please refer to https://www.tensorflow.org/tutorials/customization/performance#python_or_tensor_args and https://www.tensorflow.org/api_docs/python/tf/function for more details.\n",
      "8/8 [==============================] - 1s 169ms/step\n"
     ]
    },
    {
     "name": "stderr",
     "output_type": "stream",
     "text": [
      "2020-12-24 10:14:24,521 [DEBUG] kashgari - predict output: (233, 62)\n",
      "2020-12-24 10:14:24,522 [DEBUG] kashgari - predict output argmax: [[0 1 1 ... 1 1 1]\n",
      " [0 1 1 ... 1 1 1]\n",
      " [0 1 1 ... 1 1 1]\n",
      " ...\n",
      " [0 1 1 ... 1 1 1]\n",
      " [0 1 1 ... 1 1 1]\n",
      " [0 0 0 ... 0 0 0]]\n",
      "2020-12-24 10:14:24,526 [DEBUG] kashgari - predict seq_length: None, input: (2, 115, 50)\n"
     ]
    },
    {
     "name": "stdout",
     "output_type": "stream",
     "text": [
      "4/4 [==============================] - 0s 115ms/step\n"
     ]
    },
    {
     "name": "stderr",
     "output_type": "stream",
     "text": [
      "2020-12-24 10:14:31,442 [DEBUG] kashgari - predict output: (115, 50)\n",
      "2020-12-24 10:14:31,443 [DEBUG] kashgari - predict output argmax: [[ 0  1  1 ... 11 11 11]\n",
      " [ 0  1  1 ...  1  1  1]\n",
      " [ 0  1  1 ...  1  1  1]\n",
      " ...\n",
      " [ 0  1  1 ...  1  1  1]\n",
      " [ 0  1  1 ...  1  1  1]\n",
      " [ 0  0  0 ...  0  0  0]]\n",
      "2020-12-24 10:14:31,446 [DEBUG] kashgari - predict seq_length: None, input: (2, 68, 59)\n"
     ]
    },
    {
     "name": "stdout",
     "output_type": "stream",
     "text": [
      "3/3 [==============================] - 0s 90ms/step\n"
     ]
    },
    {
     "name": "stderr",
     "output_type": "stream",
     "text": [
      "2020-12-24 10:14:38,269 [DEBUG] kashgari - predict output: (68, 59)\n",
      "2020-12-24 10:14:38,270 [DEBUG] kashgari - predict output argmax: [[0 1 1 ... 1 1 1]\n",
      " [0 1 1 ... 1 1 1]\n",
      " [0 1 1 ... 1 1 1]\n",
      " ...\n",
      " [0 1 1 ... 1 1 1]\n",
      " [0 1 1 ... 2 2 2]\n",
      " [0 0 0 ... 0 0 0]]\n",
      "2020-12-24 10:14:38,273 [DEBUG] kashgari - predict seq_length: None, input: (2, 81, 53)\n"
     ]
    },
    {
     "name": "stdout",
     "output_type": "stream",
     "text": [
      "3/3 [==============================] - 0s 102ms/step\n"
     ]
    },
    {
     "name": "stderr",
     "output_type": "stream",
     "text": [
      "2020-12-24 10:14:38,799 [DEBUG] kashgari - predict output: (81, 53)\n",
      "2020-12-24 10:14:38,800 [DEBUG] kashgari - predict output argmax: [[0 1 1 ... 1 1 1]\n",
      " [0 1 1 ... 1 1 1]\n",
      " [0 1 1 ... 1 1 1]\n",
      " ...\n",
      " [0 1 1 ... 1 1 1]\n",
      " [0 1 1 ... 1 1 1]\n",
      " [0 0 0 ... 0 0 0]]\n",
      "2020-12-24 10:14:38,804 [DEBUG] kashgari - predict seq_length: None, input: (2, 225, 75)\n"
     ]
    },
    {
     "name": "stdout",
     "output_type": "stream",
     "text": [
      "8/8 [==============================] - 2s 195ms/step\n"
     ]
    },
    {
     "name": "stderr",
     "output_type": "stream",
     "text": [
      "2020-12-24 10:14:40,655 [DEBUG] kashgari - predict output: (225, 75)\n",
      "2020-12-24 10:14:40,656 [DEBUG] kashgari - predict output argmax: [[0 1 1 ... 1 1 1]\n",
      " [0 1 1 ... 1 1 1]\n",
      " [0 1 1 ... 1 1 1]\n",
      " ...\n",
      " [0 1 1 ... 1 1 1]\n",
      " [0 1 1 ... 1 1 1]\n",
      " [0 0 0 ... 0 0 0]]\n",
      "2020-12-24 10:14:40,658 [DEBUG] kashgari - predict seq_length: None, input: (2, 30, 39)\n"
     ]
    },
    {
     "name": "stdout",
     "output_type": "stream",
     "text": [
      "1/1 [==============================] - 0s 1ms/step\n"
     ]
    },
    {
     "name": "stderr",
     "output_type": "stream",
     "text": [
      "2020-12-24 10:14:47,822 [DEBUG] kashgari - predict output: (30, 39)\n",
      "2020-12-24 10:14:47,823 [DEBUG] kashgari - predict output argmax: [[0 1 1 ... 1 1 1]\n",
      " [0 1 1 ... 1 1 1]\n",
      " [0 1 1 ... 1 1 1]\n",
      " ...\n",
      " [0 1 1 ... 2 2 2]\n",
      " [0 1 1 ... 1 1 1]\n",
      " [0 0 0 ... 0 0 0]]\n",
      "2020-12-24 10:14:47,825 [DEBUG] kashgari - predict seq_length: None, input: (2, 95, 28)\n"
     ]
    },
    {
     "name": "stdout",
     "output_type": "stream",
     "text": [
      "3/3 [==============================] - 0s 77ms/step\n"
     ]
    },
    {
     "name": "stderr",
     "output_type": "stream",
     "text": [
      "2020-12-24 10:14:54,635 [DEBUG] kashgari - predict output: (95, 28)\n",
      "2020-12-24 10:14:54,636 [DEBUG] kashgari - predict output argmax: [[0 1 1 ... 1 1 1]\n",
      " [0 1 1 ... 1 1 1]\n",
      " [0 1 1 ... 1 1 1]\n",
      " ...\n",
      " [0 1 1 ... 1 1 1]\n",
      " [0 1 1 ... 1 1 1]\n",
      " [0 0 0 ... 0 0 0]]\n",
      "2020-12-24 10:14:54,640 [DEBUG] kashgari - predict seq_length: None, input: (2, 128, 99)\n"
     ]
    },
    {
     "name": "stdout",
     "output_type": "stream",
     "text": [
      "4/4 [==============================] - 1s 303ms/step\n"
     ]
    },
    {
     "name": "stderr",
     "output_type": "stream",
     "text": [
      "2020-12-24 10:15:08,468 [DEBUG] kashgari - predict output: (128, 99)\n",
      "2020-12-24 10:15:08,473 [DEBUG] kashgari - predict output argmax: [[0 1 1 ... 1 1 1]\n",
      " [0 1 1 ... 1 1 1]\n",
      " [0 1 1 ... 1 1 1]\n",
      " ...\n",
      " [0 1 1 ... 1 1 1]\n",
      " [0 1 1 ... 1 1 1]\n",
      " [0 0 0 ... 0 0 0]]\n",
      "2020-12-24 10:15:08,478 [DEBUG] kashgari - predict seq_length: None, input: (2, 83, 95)\n"
     ]
    },
    {
     "name": "stdout",
     "output_type": "stream",
     "text": [
      "WARNING:tensorflow:5 out of the last 23 calls to <function Model.make_predict_function.<locals>.predict_function at 0x7f64f5dfe268> triggered tf.function retracing. Tracing is expensive and the excessive number of tracings is likely due to passing python objects instead of tensors. Also, tf.function has experimental_relax_shapes=True option that relaxes argument shapes that can avoid unnecessary retracing. Please refer to https://www.tensorflow.org/tutorials/customization/performance#python_or_tensor_args and https://www.tensorflow.org/api_docs/python/tf/function for more details.\n",
      "3/3 [==============================] - 1s 175ms/step\n"
     ]
    },
    {
     "name": "stderr",
     "output_type": "stream",
     "text": [
      "2020-12-24 10:15:21,173 [DEBUG] kashgari - predict output: (83, 95)\n",
      "2020-12-24 10:15:21,174 [DEBUG] kashgari - predict output argmax: [[ 0  1  1 ... 19 19 19]\n",
      " [ 0  1  1 ...  1  1  1]\n",
      " [ 0  1  1 ...  1  1  1]\n",
      " ...\n",
      " [ 0  1  1 ...  1  1  1]\n",
      " [ 0  1  1 ...  1  1  1]\n",
      " [ 0  0  0 ...  0  0  0]]\n",
      "2020-12-24 10:15:21,179 [DEBUG] kashgari - predict seq_length: None, input: (2, 115, 84)\n"
     ]
    },
    {
     "name": "stdout",
     "output_type": "stream",
     "text": [
      "4/4 [==============================] - 1s 187ms/step\n"
     ]
    },
    {
     "name": "stderr",
     "output_type": "stream",
     "text": [
      "2020-12-24 10:15:22,242 [DEBUG] kashgari - predict output: (115, 84)\n",
      "2020-12-24 10:15:22,243 [DEBUG] kashgari - predict output argmax: [[0 1 1 ... 1 1 1]\n",
      " [0 1 1 ... 1 1 1]\n",
      " [0 1 1 ... 1 1 1]\n",
      " ...\n",
      " [0 1 1 ... 1 1 1]\n",
      " [0 1 1 ... 1 1 1]\n",
      " [0 0 0 ... 0 0 0]]\n",
      "2020-12-24 10:15:22,246 [DEBUG] kashgari - predict seq_length: None, input: (2, 137, 65)\n"
     ]
    },
    {
     "name": "stdout",
     "output_type": "stream",
     "text": [
      "5/5 [==============================] - 1s 152ms/step\n"
     ]
    },
    {
     "name": "stderr",
     "output_type": "stream",
     "text": [
      "2020-12-24 10:15:23,263 [DEBUG] kashgari - predict output: (137, 65)\n",
      "2020-12-24 10:15:23,264 [DEBUG] kashgari - predict output argmax: [[ 0  1  1 ... 19 19 19]\n",
      " [ 0  1  1 ...  1  1  1]\n",
      " [ 0  1  1 ...  1  1  1]\n",
      " ...\n",
      " [ 0  1  1 ...  1  1  1]\n",
      " [ 0  1  1 ...  1  1  1]\n",
      " [ 0  0  0 ...  0  0  0]]\n",
      "2020-12-24 10:15:23,266 [DEBUG] kashgari - predict seq_length: None, input: (2, 53, 56)\n"
     ]
    },
    {
     "name": "stdout",
     "output_type": "stream",
     "text": [
      "2/2 [==============================] - 0s 72ms/step\n"
     ]
    },
    {
     "name": "stderr",
     "output_type": "stream",
     "text": [
      "2020-12-24 10:15:23,633 [DEBUG] kashgari - predict output: (53, 56)\n",
      "2020-12-24 10:15:23,634 [DEBUG] kashgari - predict output argmax: [[0 1 1 ... 1 1 1]\n",
      " [0 1 1 ... 1 1 1]\n",
      " [0 1 1 ... 1 1 1]\n",
      " ...\n",
      " [0 1 1 ... 1 1 1]\n",
      " [0 1 1 ... 1 1 1]\n",
      " [0 0 0 ... 0 0 0]]\n",
      "2020-12-24 10:15:23,639 [DEBUG] kashgari - predict seq_length: None, input: (2, 161, 76)\n"
     ]
    },
    {
     "name": "stdout",
     "output_type": "stream",
     "text": [
      "6/6 [==============================] - 1s 180ms/step\n"
     ]
    },
    {
     "name": "stderr",
     "output_type": "stream",
     "text": [
      "2020-12-24 10:15:31,358 [DEBUG] kashgari - predict output: (161, 76)\n",
      "2020-12-24 10:15:31,359 [DEBUG] kashgari - predict output argmax: [[0 1 1 ... 1 1 1]\n",
      " [0 1 1 ... 1 1 1]\n",
      " [0 1 1 ... 1 1 1]\n",
      " ...\n",
      " [0 1 1 ... 1 1 1]\n",
      " [0 1 1 ... 1 1 1]\n",
      " [0 0 0 ... 0 0 0]]\n",
      "2020-12-24 10:15:31,361 [DEBUG] kashgari - predict seq_length: None, input: (2, 137, 35)\n"
     ]
    },
    {
     "name": "stdout",
     "output_type": "stream",
     "text": [
      "5/5 [==============================] - 0s 89ms/step\n"
     ]
    },
    {
     "name": "stderr",
     "output_type": "stream",
     "text": [
      "2020-12-24 10:15:38,269 [DEBUG] kashgari - predict output: (137, 35)\n",
      "2020-12-24 10:15:38,269 [DEBUG] kashgari - predict output argmax: [[0 1 1 ... 1 1 1]\n",
      " [0 1 1 ... 1 1 1]\n",
      " [0 1 1 ... 1 1 1]\n",
      " ...\n",
      " [0 1 1 ... 1 1 1]\n",
      " [0 1 1 ... 1 1 1]\n",
      " [0 0 0 ... 0 0 0]]\n",
      "2020-12-24 10:15:38,272 [DEBUG] kashgari - predict seq_length: None, input: (2, 98, 73)\n"
     ]
    },
    {
     "name": "stdout",
     "output_type": "stream",
     "text": [
      "4/4 [==============================] - 1s 142ms/step\n"
     ]
    },
    {
     "name": "stderr",
     "output_type": "stream",
     "text": [
      "2020-12-24 10:15:39,117 [DEBUG] kashgari - predict output: (98, 73)\n",
      "2020-12-24 10:15:39,118 [DEBUG] kashgari - predict output argmax: [[0 1 1 ... 1 1 1]\n",
      " [0 1 1 ... 1 1 1]\n",
      " [0 1 1 ... 1 1 1]\n",
      " ...\n",
      " [0 1 1 ... 1 1 1]\n",
      " [0 1 1 ... 1 1 1]\n",
      " [0 0 0 ... 0 0 0]]\n",
      "2020-12-24 10:15:39,121 [DEBUG] kashgari - predict seq_length: None, input: (2, 154, 26)\n"
     ]
    },
    {
     "name": "stdout",
     "output_type": "stream",
     "text": [
      "5/5 [==============================] - 0s 85ms/step\n"
     ]
    },
    {
     "name": "stderr",
     "output_type": "stream",
     "text": [
      "2020-12-24 10:15:45,969 [DEBUG] kashgari - predict output: (154, 26)\n",
      "2020-12-24 10:15:45,970 [DEBUG] kashgari - predict output argmax: [[0 1 1 ... 1 1 1]\n",
      " [0 1 1 ... 1 1 1]\n",
      " [0 1 1 ... 1 1 1]\n",
      " ...\n",
      " [0 1 0 ... 1 1 1]\n",
      " [0 1 1 ... 1 1 1]\n",
      " [0 0 0 ... 0 0 0]]\n",
      "2020-12-24 10:15:45,972 [DEBUG] kashgari - predict seq_length: None, input: (2, 69, 41)\n"
     ]
    },
    {
     "name": "stdout",
     "output_type": "stream",
     "text": [
      "3/3 [==============================] - 0s 69ms/step\n"
     ]
    },
    {
     "name": "stderr",
     "output_type": "stream",
     "text": [
      "2020-12-24 10:15:46,352 [DEBUG] kashgari - predict output: (69, 41)\n",
      "2020-12-24 10:15:46,353 [DEBUG] kashgari - predict output argmax: [[0 1 1 ... 1 1 1]\n",
      " [0 1 1 ... 1 1 1]\n",
      " [0 1 1 ... 1 1 1]\n",
      " ...\n",
      " [0 1 1 ... 1 1 1]\n",
      " [0 1 1 ... 1 1 1]\n",
      " [0 0 0 ... 0 0 0]]\n",
      "2020-12-24 10:15:46,356 [DEBUG] kashgari - predict seq_length: None, input: (2, 121, 61)\n"
     ]
    },
    {
     "name": "stdout",
     "output_type": "stream",
     "text": [
      "4/4 [==============================] - 1s 146ms/step\n"
     ]
    },
    {
     "name": "stderr",
     "output_type": "stream",
     "text": [
      "2020-12-24 10:15:53,871 [DEBUG] kashgari - predict output: (121, 61)\n",
      "2020-12-24 10:15:53,872 [DEBUG] kashgari - predict output argmax: [[0 1 1 ... 1 1 1]\n",
      " [0 1 1 ... 1 1 1]\n",
      " [0 1 1 ... 6 6 6]\n",
      " ...\n",
      " [0 3 2 ... 1 1 1]\n",
      " [0 1 1 ... 1 1 1]\n",
      " [0 0 0 ... 0 0 0]]\n",
      "2020-12-24 10:15:53,875 [DEBUG] kashgari - predict seq_length: None, input: (2, 143, 31)\n"
     ]
    },
    {
     "name": "stdout",
     "output_type": "stream",
     "text": [
      "5/5 [==============================] - 0s 84ms/step\n"
     ]
    },
    {
     "name": "stderr",
     "output_type": "stream",
     "text": [
      "2020-12-24 10:15:54,436 [DEBUG] kashgari - predict output: (143, 31)\n",
      "2020-12-24 10:15:54,437 [DEBUG] kashgari - predict output argmax: [[0 1 1 ... 1 1 1]\n",
      " [0 1 1 ... 1 1 1]\n",
      " [0 1 1 ... 1 1 1]\n",
      " ...\n",
      " [0 1 1 ... 1 1 1]\n",
      " [0 1 1 ... 1 1 1]\n",
      " [0 0 0 ... 0 0 0]]\n",
      "2020-12-24 10:15:54,441 [DEBUG] kashgari - predict seq_length: None, input: (2, 139, 66)\n"
     ]
    },
    {
     "name": "stdout",
     "output_type": "stream",
     "text": [
      "5/5 [==============================] - 1s 153ms/step\n"
     ]
    },
    {
     "name": "stderr",
     "output_type": "stream",
     "text": [
      "2020-12-24 10:16:01,946 [DEBUG] kashgari - predict output: (139, 66)\n",
      "2020-12-24 10:16:01,947 [DEBUG] kashgari - predict output argmax: [[0 1 1 ... 1 1 1]\n",
      " [0 1 1 ... 1 1 1]\n",
      " [0 1 1 ... 1 1 1]\n",
      " ...\n",
      " [0 1 1 ... 1 1 1]\n",
      " [0 1 1 ... 1 1 1]\n",
      " [0 0 0 ... 0 0 0]]\n",
      "2020-12-24 10:16:01,949 [DEBUG] kashgari - predict seq_length: None, input: (2, 139, 38)\n"
     ]
    },
    {
     "name": "stdout",
     "output_type": "stream",
     "text": [
      "5/5 [==============================] - 0s 100ms/step\n"
     ]
    },
    {
     "name": "stderr",
     "output_type": "stream",
     "text": [
      "2020-12-24 10:16:02,618 [DEBUG] kashgari - predict output: (139, 38)\n",
      "2020-12-24 10:16:02,619 [DEBUG] kashgari - predict output argmax: [[0 1 1 ... 1 1 1]\n",
      " [0 1 1 ... 1 1 1]\n",
      " [0 1 1 ... 1 1 1]\n",
      " ...\n",
      " [0 1 1 ... 1 1 1]\n",
      " [0 1 1 ... 1 1 1]\n",
      " [0 0 0 ... 0 0 0]]\n",
      "2020-12-24 10:16:02,622 [DEBUG] kashgari - predict seq_length: None, input: (2, 135, 55)\n"
     ]
    },
    {
     "name": "stdout",
     "output_type": "stream",
     "text": [
      "5/5 [==============================] - 1s 131ms/step\n"
     ]
    },
    {
     "name": "stderr",
     "output_type": "stream",
     "text": [
      "2020-12-24 10:16:09,811 [DEBUG] kashgari - predict output: (135, 55)\n",
      "2020-12-24 10:16:09,812 [DEBUG] kashgari - predict output argmax: [[0 1 1 ... 1 1 1]\n",
      " [0 1 1 ... 1 1 1]\n",
      " [0 1 1 ... 1 1 1]\n",
      " ...\n",
      " [0 1 1 ... 1 1 0]\n",
      " [0 1 1 ... 1 1 1]\n",
      " [0 0 0 ... 0 0 0]]\n",
      "2020-12-24 10:16:09,814 [DEBUG] kashgari - predict seq_length: None, input: (2, 72, 77)\n"
     ]
    },
    {
     "name": "stdout",
     "output_type": "stream",
     "text": [
      "3/3 [==============================] - 0s 121ms/step\n"
     ]
    },
    {
     "name": "stderr",
     "output_type": "stream",
     "text": [
      "2020-12-24 10:16:16,702 [DEBUG] kashgari - predict output: (72, 77)\n",
      "2020-12-24 10:16:16,703 [DEBUG] kashgari - predict output argmax: [[0 1 1 ... 1 1 1]\n",
      " [0 1 1 ... 1 1 1]\n",
      " [0 1 1 ... 1 1 1]\n",
      " ...\n",
      " [0 1 1 ... 1 1 1]\n",
      " [0 1 1 ... 1 1 1]\n",
      " [0 0 0 ... 0 0 0]]\n",
      "2020-12-24 10:16:16,705 [DEBUG] kashgari - predict seq_length: None, input: (2, 74, 57)\n"
     ]
    },
    {
     "name": "stdout",
     "output_type": "stream",
     "text": [
      "3/3 [==============================] - 0s 98ms/step\n"
     ]
    },
    {
     "name": "stderr",
     "output_type": "stream",
     "text": [
      "2020-12-24 10:16:17,219 [DEBUG] kashgari - predict output: (74, 57)\n",
      "2020-12-24 10:16:17,220 [DEBUG] kashgari - predict output argmax: [[0 1 1 ... 1 1 1]\n",
      " [0 1 1 ... 1 1 1]\n",
      " [0 1 1 ... 6 6 6]\n",
      " ...\n",
      " [0 1 1 ... 1 1 1]\n",
      " [0 1 1 ... 1 1 1]\n",
      " [0 0 0 ... 0 0 0]]\n",
      "2020-12-24 10:16:17,224 [DEBUG] kashgari - predict seq_length: None, input: (2, 218, 36)\n"
     ]
    },
    {
     "name": "stdout",
     "output_type": "stream",
     "text": [
      "7/7 [==============================] - 1s 109ms/step\n"
     ]
    },
    {
     "name": "stderr",
     "output_type": "stream",
     "text": [
      "2020-12-24 10:16:18,147 [DEBUG] kashgari - predict output: (218, 36)\n",
      "2020-12-24 10:16:18,147 [DEBUG] kashgari - predict output argmax: [[0 1 1 ... 1 1 1]\n",
      " [0 1 1 ... 1 1 1]\n",
      " [0 1 1 ... 1 1 1]\n",
      " ...\n",
      " [0 1 1 ... 1 1 1]\n",
      " [0 1 1 ... 1 1 1]\n",
      " [0 0 0 ... 0 0 0]]\n",
      "2020-12-24 10:16:18,150 [DEBUG] kashgari - predict seq_length: None, input: (2, 89, 47)\n"
     ]
    },
    {
     "name": "stdout",
     "output_type": "stream",
     "text": [
      "3/3 [==============================] - 0s 102ms/step\n"
     ]
    },
    {
     "name": "stderr",
     "output_type": "stream",
     "text": [
      "2020-12-24 10:16:24,969 [DEBUG] kashgari - predict output: (89, 47)\n",
      "2020-12-24 10:16:24,970 [DEBUG] kashgari - predict output argmax: [[0 1 1 ... 1 1 1]\n",
      " [0 1 1 ... 1 1 1]\n",
      " [0 1 1 ... 1 1 1]\n",
      " ...\n",
      " [0 1 1 ... 1 1 1]\n",
      " [0 1 1 ... 1 1 1]\n",
      " [0 0 0 ... 0 0 0]]\n",
      "2020-12-24 10:16:24,974 [DEBUG] kashgari - predict seq_length: None, input: (2, 246, 115)\n"
     ]
    },
    {
     "name": "stdout",
     "output_type": "stream",
     "text": [
      "8/8 [==============================] - 3s 313ms/step\n"
     ]
    },
    {
     "name": "stderr",
     "output_type": "stream",
     "text": [
      "2020-12-24 10:16:34,164 [DEBUG] kashgari - predict output: (246, 115)\n",
      "2020-12-24 10:16:34,165 [DEBUG] kashgari - predict output argmax: [[0 1 1 ... 1 1 1]\n",
      " [0 1 1 ... 1 1 1]\n",
      " [0 1 1 ... 2 2 2]\n",
      " ...\n",
      " [0 1 1 ... 1 1 1]\n",
      " [0 1 0 ... 1 1 1]\n",
      " [0 0 0 ... 0 0 0]]\n",
      "2020-12-24 10:16:34,168 [DEBUG] kashgari - predict seq_length: None, input: (2, 169, 56)\n"
     ]
    },
    {
     "name": "stdout",
     "output_type": "stream",
     "text": [
      "6/6 [==============================] - 1s 146ms/step\n"
     ]
    },
    {
     "name": "stderr",
     "output_type": "stream",
     "text": [
      "2020-12-24 10:16:35,268 [DEBUG] kashgari - predict output: (169, 56)\n",
      "2020-12-24 10:16:35,269 [DEBUG] kashgari - predict output argmax: [[0 1 1 ... 1 1 1]\n",
      " [0 1 1 ... 1 1 1]\n",
      " [0 1 1 ... 1 1 1]\n",
      " ...\n",
      " [0 1 1 ... 1 1 1]\n",
      " [0 1 1 ... 1 1 1]\n",
      " [0 0 0 ... 0 0 0]]\n",
      "2020-12-24 10:16:35,272 [DEBUG] kashgari - predict seq_length: None, input: (2, 60, 62)\n"
     ]
    },
    {
     "name": "stdout",
     "output_type": "stream",
     "text": [
      "2/2 [==============================] - 0s 102ms/step\n"
     ]
    },
    {
     "name": "stderr",
     "output_type": "stream",
     "text": [
      "2020-12-24 10:16:35,728 [DEBUG] kashgari - predict output: (60, 62)\n",
      "2020-12-24 10:16:35,729 [DEBUG] kashgari - predict output argmax: [[0 1 1 ... 1 1 1]\n",
      " [0 1 1 ... 1 1 1]\n",
      " [0 1 1 ... 1 1 1]\n",
      " ...\n",
      " [0 1 1 ... 1 1 1]\n",
      " [0 1 1 ... 1 1 1]\n",
      " [0 0 0 ... 0 0 0]]\n",
      "2020-12-24 10:16:35,732 [DEBUG] kashgari - predict seq_length: None, input: (2, 104, 163)\n"
     ]
    },
    {
     "name": "stdout",
     "output_type": "stream",
     "text": [
      "4/4 [==============================] - 1s 315ms/step\n"
     ]
    },
    {
     "name": "stderr",
     "output_type": "stream",
     "text": [
      "2020-12-24 10:16:37,572 [DEBUG] kashgari - predict output: (104, 163)\n",
      "2020-12-24 10:16:37,573 [DEBUG] kashgari - predict output argmax: [[0 1 1 ... 1 1 1]\n",
      " [0 1 1 ... 1 1 1]\n",
      " [0 1 1 ... 1 1 1]\n",
      " ...\n",
      " [0 1 1 ... 1 1 1]\n",
      " [0 1 1 ... 1 1 1]\n",
      " [0 0 0 ... 0 0 0]]\n",
      "2020-12-24 10:16:37,576 [DEBUG] kashgari - predict seq_length: None, input: (2, 96, 57)\n"
     ]
    },
    {
     "name": "stdout",
     "output_type": "stream",
     "text": [
      "3/3 [==============================] - 0s 115ms/step\n"
     ]
    },
    {
     "name": "stderr",
     "output_type": "stream",
     "text": [
      "2020-12-24 10:16:42,316 [DEBUG] kashgari - predict output: (96, 57)\n",
      "2020-12-24 10:16:42,317 [DEBUG] kashgari - predict output argmax: [[0 1 1 ... 2 2 2]\n",
      " [0 1 1 ... 1 1 1]\n",
      " [0 1 1 ... 1 1 1]\n",
      " ...\n",
      " [0 1 1 ... 1 1 1]\n",
      " [0 1 1 ... 1 1 1]\n",
      " [0 0 0 ... 0 0 0]]\n",
      "2020-12-24 10:16:42,321 [DEBUG] kashgari - predict seq_length: None, input: (2, 111, 42)\n"
     ]
    },
    {
     "name": "stdout",
     "output_type": "stream",
     "text": [
      "4/4 [==============================] - 0s 98ms/step\n"
     ]
    },
    {
     "name": "stderr",
     "output_type": "stream",
     "text": [
      "2020-12-24 10:16:42,894 [DEBUG] kashgari - predict output: (111, 42)\n",
      "2020-12-24 10:16:42,894 [DEBUG] kashgari - predict output argmax: [[0 1 1 ... 1 1 1]\n",
      " [0 1 1 ... 1 1 1]\n",
      " [0 1 1 ... 1 1 1]\n",
      " ...\n",
      " [0 1 1 ... 1 1 1]\n",
      " [0 1 1 ... 1 1 1]\n",
      " [0 0 0 ... 0 0 0]]\n",
      "2020-12-24 10:16:42,897 [DEBUG] kashgari - predict seq_length: None, input: (2, 159, 61)\n"
     ]
    },
    {
     "name": "stdout",
     "output_type": "stream",
     "text": [
      "5/5 [==============================] - 1s 167ms/step\n"
     ]
    },
    {
     "name": "stderr",
     "output_type": "stream",
     "text": [
      "2020-12-24 10:16:43,969 [DEBUG] kashgari - predict output: (159, 61)\n",
      "2020-12-24 10:16:43,969 [DEBUG] kashgari - predict output argmax: [[0 1 1 ... 1 1 1]\n",
      " [0 1 1 ... 2 2 2]\n",
      " [0 1 1 ... 1 1 1]\n",
      " ...\n",
      " [0 1 1 ... 1 1 1]\n",
      " [0 1 1 ... 1 1 1]\n",
      " [0 0 0 ... 0 0 0]]\n",
      "2020-12-24 10:16:43,972 [DEBUG] kashgari - predict seq_length: None, input: (2, 102, 38)\n"
     ]
    },
    {
     "name": "stdout",
     "output_type": "stream",
     "text": [
      "4/4 [==============================] - 0s 84ms/step\n"
     ]
    },
    {
     "name": "stderr",
     "output_type": "stream",
     "text": [
      "2020-12-24 10:16:44,471 [DEBUG] kashgari - predict output: (102, 38)\n",
      "2020-12-24 10:16:44,472 [DEBUG] kashgari - predict output argmax: [[0 1 1 ... 1 1 1]\n",
      " [0 1 1 ... 1 1 1]\n",
      " [0 1 1 ... 1 1 1]\n",
      " ...\n",
      " [0 1 1 ... 1 1 1]\n",
      " [0 1 1 ... 1 1 1]\n",
      " [0 0 0 ... 0 0 0]]\n",
      "2020-12-24 10:16:44,476 [DEBUG] kashgari - predict seq_length: None, input: (2, 127, 46)\n"
     ]
    },
    {
     "name": "stdout",
     "output_type": "stream",
     "text": [
      "4/4 [==============================] - 0s 118ms/step\n"
     ]
    },
    {
     "name": "stderr",
     "output_type": "stream",
     "text": [
      "2020-12-24 10:16:51,501 [DEBUG] kashgari - predict output: (127, 46)\n",
      "2020-12-24 10:16:51,502 [DEBUG] kashgari - predict output argmax: [[0 1 1 ... 1 1 1]\n",
      " [0 1 1 ... 1 1 1]\n",
      " [0 1 1 ... 1 1 1]\n",
      " ...\n",
      " [0 1 1 ... 1 1 1]\n",
      " [0 1 1 ... 1 1 1]\n",
      " [0 0 0 ... 0 0 0]]\n",
      "2020-12-24 10:16:51,506 [DEBUG] kashgari - predict seq_length: None, input: (2, 271, 83)\n"
     ]
    },
    {
     "name": "stdout",
     "output_type": "stream",
     "text": [
      "9/9 [==============================] - 2s 231ms/step\n"
     ]
    },
    {
     "name": "stderr",
     "output_type": "stream",
     "text": [
      "2020-12-24 10:17:00,126 [DEBUG] kashgari - predict output: (271, 83)\n",
      "2020-12-24 10:17:00,126 [DEBUG] kashgari - predict output argmax: [[0 1 1 ... 1 1 1]\n",
      " [0 1 1 ... 1 1 1]\n",
      " [0 1 1 ... 1 1 1]\n",
      " ...\n",
      " [0 1 1 ... 1 1 1]\n",
      " [0 1 1 ... 1 1 1]\n",
      " [0 0 0 ... 0 0 0]]\n",
      "2020-12-24 10:17:00,129 [DEBUG] kashgari - predict seq_length: None, input: (2, 163, 53)\n"
     ]
    },
    {
     "name": "stdout",
     "output_type": "stream",
     "text": [
      "6/6 [==============================] - 1s 135ms/step\n"
     ]
    },
    {
     "name": "stderr",
     "output_type": "stream",
     "text": [
      "2020-12-24 10:17:01,156 [DEBUG] kashgari - predict output: (163, 53)\n",
      "2020-12-24 10:17:01,157 [DEBUG] kashgari - predict output argmax: [[0 1 1 ... 1 1 1]\n",
      " [0 1 1 ... 1 1 1]\n",
      " [0 1 1 ... 1 1 1]\n",
      " ...\n",
      " [0 1 1 ... 1 1 1]\n",
      " [0 1 1 ... 1 1 1]\n",
      " [0 0 0 ... 0 0 0]]\n",
      "2020-12-24 10:17:01,159 [DEBUG] kashgari - predict seq_length: None, input: (2, 67, 27)\n"
     ]
    },
    {
     "name": "stdout",
     "output_type": "stream",
     "text": [
      "3/3 [==============================] - 0s 57ms/step\n"
     ]
    },
    {
     "name": "stderr",
     "output_type": "stream",
     "text": [
      "2020-12-24 10:17:10,219 [DEBUG] kashgari - predict output: (67, 27)\n",
      "2020-12-24 10:17:10,220 [DEBUG] kashgari - predict output argmax: [[0 1 1 ... 1 1 1]\n",
      " [0 1 1 ... 1 1 1]\n",
      " [0 1 1 ... 2 2 2]\n",
      " ...\n",
      " [0 1 1 ... 1 1 1]\n",
      " [0 1 1 ... 1 1 1]\n",
      " [0 0 0 ... 0 0 0]]\n",
      "2020-12-24 10:17:10,224 [DEBUG] kashgari - predict seq_length: None, input: (2, 190, 56)\n"
     ]
    },
    {
     "name": "stdout",
     "output_type": "stream",
     "text": [
      "6/6 [==============================] - 1s 158ms/step\n"
     ]
    },
    {
     "name": "stderr",
     "output_type": "stream",
     "text": [
      "2020-12-24 10:17:11,392 [DEBUG] kashgari - predict output: (190, 56)\n",
      "2020-12-24 10:17:11,393 [DEBUG] kashgari - predict output argmax: [[0 1 1 ... 1 1 1]\n",
      " [0 1 1 ... 1 1 1]\n",
      " [0 1 1 ... 1 1 1]\n",
      " ...\n",
      " [0 1 1 ... 1 1 1]\n",
      " [0 1 1 ... 1 1 1]\n",
      " [0 0 0 ... 0 0 0]]\n",
      "2020-12-24 10:17:11,395 [DEBUG] kashgari - predict seq_length: None, input: (2, 109, 53)\n"
     ]
    },
    {
     "name": "stdout",
     "output_type": "stream",
     "text": [
      "4/4 [==============================] - 0s 120ms/step\n"
     ]
    },
    {
     "name": "stderr",
     "output_type": "stream",
     "text": [
      "2020-12-24 10:17:12,095 [DEBUG] kashgari - predict output: (109, 53)\n",
      "2020-12-24 10:17:12,096 [DEBUG] kashgari - predict output argmax: [[0 1 1 ... 1 1 1]\n",
      " [0 1 1 ... 1 1 1]\n",
      " [0 1 1 ... 1 1 1]\n",
      " ...\n",
      " [0 1 1 ... 1 1 1]\n",
      " [0 1 1 ... 1 1 1]\n",
      " [0 0 0 ... 0 0 0]]\n",
      "2020-12-24 10:17:12,099 [DEBUG] kashgari - predict seq_length: None, input: (2, 107, 104)\n"
     ]
    },
    {
     "name": "stdout",
     "output_type": "stream",
     "text": [
      "4/4 [==============================] - 1s 214ms/step\n"
     ]
    },
    {
     "name": "stderr",
     "output_type": "stream",
     "text": [
      "2020-12-24 10:17:19,596 [DEBUG] kashgari - predict output: (107, 104)\n",
      "2020-12-24 10:17:19,597 [DEBUG] kashgari - predict output argmax: [[0 1 1 ... 1 1 1]\n",
      " [0 1 1 ... 1 1 1]\n",
      " [0 1 1 ... 1 1 1]\n",
      " ...\n",
      " [0 1 1 ... 1 1 1]\n",
      " [0 1 1 ... 1 1 1]\n",
      " [0 0 0 ... 0 0 0]]\n",
      "2020-12-24 10:17:19,600 [DEBUG] kashgari - predict seq_length: None, input: (2, 158, 30)\n"
     ]
    },
    {
     "name": "stdout",
     "output_type": "stream",
     "text": [
      "5/5 [==============================] - 0s 97ms/step\n"
     ]
    },
    {
     "name": "stderr",
     "output_type": "stream",
     "text": [
      "2020-12-24 10:17:26,754 [DEBUG] kashgari - predict output: (158, 30)\n",
      "2020-12-24 10:17:26,755 [DEBUG] kashgari - predict output argmax: [[0 1 1 ... 1 1 1]\n",
      " [0 1 1 ... 1 1 1]\n",
      " [0 1 1 ... 1 1 1]\n",
      " ...\n",
      " [0 1 1 ... 1 1 1]\n",
      " [0 1 1 ... 1 1 1]\n",
      " [0 0 0 ... 0 0 0]]\n",
      "2020-12-24 10:17:26,759 [DEBUG] kashgari - predict seq_length: None, input: (2, 264, 121)\n"
     ]
    },
    {
     "name": "stdout",
     "output_type": "stream",
     "text": [
      "9/9 [==============================] - 3s 320ms/step\n"
     ]
    },
    {
     "name": "stderr",
     "output_type": "stream",
     "text": [
      "2020-12-24 10:17:36,340 [DEBUG] kashgari - predict output: (264, 121)\n",
      "2020-12-24 10:17:36,341 [DEBUG] kashgari - predict output argmax: [[0 1 1 ... 1 1 1]\n",
      " [0 1 1 ... 1 1 1]\n",
      " [0 1 1 ... 1 1 1]\n",
      " ...\n",
      " [0 1 1 ... 1 1 1]\n",
      " [0 1 1 ... 1 1 1]\n",
      " [0 0 0 ... 0 0 0]]\n",
      "2020-12-24 10:17:36,344 [DEBUG] kashgari - predict seq_length: None, input: (2, 112, 110)\n"
     ]
    },
    {
     "name": "stdout",
     "output_type": "stream",
     "text": [
      "4/4 [==============================] - 1s 223ms/step\n"
     ]
    },
    {
     "name": "stderr",
     "output_type": "stream",
     "text": [
      "2020-12-24 10:17:43,920 [DEBUG] kashgari - predict output: (112, 110)\n",
      "2020-12-24 10:17:43,921 [DEBUG] kashgari - predict output argmax: [[0 1 1 ... 1 1 1]\n",
      " [0 1 1 ... 1 1 1]\n",
      " [0 1 1 ... 1 1 1]\n",
      " ...\n",
      " [0 1 1 ... 1 1 1]\n",
      " [0 1 1 ... 1 1 1]\n",
      " [0 0 0 ... 0 0 0]]\n",
      "2020-12-24 10:17:43,925 [DEBUG] kashgari - predict seq_length: None, input: (2, 188, 95)\n"
     ]
    },
    {
     "name": "stdout",
     "output_type": "stream",
     "text": [
      "6/6 [==============================] - 2s 256ms/step\n"
     ]
    },
    {
     "name": "stderr",
     "output_type": "stream",
     "text": [
      "2020-12-24 10:17:45,813 [DEBUG] kashgari - predict output: (188, 95)\n",
      "2020-12-24 10:17:45,814 [DEBUG] kashgari - predict output argmax: [[0 1 1 ... 1 1 1]\n",
      " [0 1 1 ... 1 1 1]\n",
      " [0 1 1 ... 1 1 1]\n",
      " ...\n",
      " [0 1 1 ... 1 1 1]\n",
      " [0 1 1 ... 1 1 1]\n",
      " [0 0 0 ... 0 0 0]]\n",
      "2020-12-24 10:17:45,816 [DEBUG] kashgari - predict seq_length: None, input: (2, 51, 48)\n"
     ]
    },
    {
     "name": "stdout",
     "output_type": "stream",
     "text": [
      "2/2 [==============================] - 0s 62ms/step\n"
     ]
    },
    {
     "name": "stderr",
     "output_type": "stream",
     "text": [
      "2020-12-24 10:17:46,133 [DEBUG] kashgari - predict output: (51, 48)\n",
      "2020-12-24 10:17:46,134 [DEBUG] kashgari - predict output argmax: [[0 1 1 ... 1 1 1]\n",
      " [0 1 1 ... 1 1 1]\n",
      " [0 1 1 ... 1 1 1]\n",
      " ...\n",
      " [0 1 1 ... 1 1 1]\n",
      " [0 1 1 ... 1 1 1]\n",
      " [0 0 0 ... 0 0 0]]\n",
      "2020-12-24 10:17:46,137 [DEBUG] kashgari - predict seq_length: None, input: (2, 55, 50)\n"
     ]
    },
    {
     "name": "stdout",
     "output_type": "stream",
     "text": [
      "2/2 [==============================] - 0s 69ms/step\n"
     ]
    },
    {
     "name": "stderr",
     "output_type": "stream",
     "text": [
      "2020-12-24 10:17:46,480 [DEBUG] kashgari - predict output: (55, 50)\n",
      "2020-12-24 10:17:46,482 [DEBUG] kashgari - predict output argmax: [[0 1 1 ... 1 1 1]\n",
      " [0 1 1 ... 1 1 1]\n",
      " [0 1 1 ... 1 1 1]\n",
      " ...\n",
      " [0 1 1 ... 1 1 1]\n",
      " [0 1 1 ... 1 1 1]\n",
      " [0 0 0 ... 0 0 0]]\n",
      "2020-12-24 10:17:46,486 [DEBUG] kashgari - predict seq_length: None, input: (2, 128, 81)\n"
     ]
    },
    {
     "name": "stdout",
     "output_type": "stream",
     "text": [
      "4/4 [==============================] - 1s 181ms/step\n"
     ]
    },
    {
     "name": "stderr",
     "output_type": "stream",
     "text": [
      "2020-12-24 10:17:51,641 [DEBUG] kashgari - predict output: (128, 81)\n",
      "2020-12-24 10:17:51,641 [DEBUG] kashgari - predict output argmax: [[0 1 1 ... 1 1 1]\n",
      " [0 1 1 ... 1 1 1]\n",
      " [0 1 1 ... 1 1 1]\n",
      " ...\n",
      " [0 1 1 ... 1 1 1]\n",
      " [0 1 1 ... 1 1 1]\n",
      " [0 0 0 ... 0 0 0]]\n",
      "2020-12-24 10:17:51,644 [DEBUG] kashgari - predict seq_length: None, input: (2, 90, 51)\n"
     ]
    },
    {
     "name": "stdout",
     "output_type": "stream",
     "text": [
      "3/3 [==============================] - 0s 112ms/step\n"
     ]
    },
    {
     "name": "stderr",
     "output_type": "stream",
     "text": [
      "2020-12-24 10:17:58,378 [DEBUG] kashgari - predict output: (90, 51)\n",
      "2020-12-24 10:17:58,379 [DEBUG] kashgari - predict output argmax: [[0 1 1 ... 6 6 6]\n",
      " [0 1 1 ... 1 1 1]\n",
      " [0 1 1 ... 1 1 1]\n",
      " ...\n",
      " [0 1 1 ... 1 1 1]\n",
      " [0 1 1 ... 1 1 1]\n",
      " [0 0 0 ... 0 0 0]]\n",
      "2020-12-24 10:17:58,382 [DEBUG] kashgari - predict seq_length: None, input: (2, 129, 47)\n"
     ]
    },
    {
     "name": "stdout",
     "output_type": "stream",
     "text": [
      "5/5 [==============================] - 1s 114ms/step\n"
     ]
    },
    {
     "name": "stderr",
     "output_type": "stream",
     "text": [
      "2020-12-24 10:17:59,150 [DEBUG] kashgari - predict output: (129, 47)\n",
      "2020-12-24 10:17:59,151 [DEBUG] kashgari - predict output argmax: [[0 1 1 ... 1 1 1]\n",
      " [0 1 1 ... 1 1 1]\n",
      " [0 1 1 ... 1 1 1]\n",
      " ...\n",
      " [0 1 1 ... 2 2 2]\n",
      " [0 1 1 ... 1 1 1]\n",
      " [0 0 0 ... 0 0 0]]\n",
      "2020-12-24 10:17:59,153 [DEBUG] kashgari - predict seq_length: None, input: (2, 93, 46)\n"
     ]
    },
    {
     "name": "stdout",
     "output_type": "stream",
     "text": [
      "3/3 [==============================] - 0s 104ms/step\n"
     ]
    },
    {
     "name": "stderr",
     "output_type": "stream",
     "text": [
      "2020-12-24 10:17:59,661 [DEBUG] kashgari - predict output: (93, 46)\n",
      "2020-12-24 10:17:59,662 [DEBUG] kashgari - predict output argmax: [[0 1 1 ... 1 1 1]\n",
      " [0 1 1 ... 1 1 1]\n",
      " [0 1 1 ... 1 1 1]\n",
      " ...\n",
      " [0 1 1 ... 1 1 1]\n",
      " [0 1 1 ... 1 1 1]\n",
      " [0 0 0 ... 0 0 0]]\n",
      "2020-12-24 10:17:59,667 [DEBUG] kashgari - predict seq_length: None, input: (2, 176, 31)\n"
     ]
    },
    {
     "name": "stdout",
     "output_type": "stream",
     "text": [
      "6/6 [==============================] - 1s 90ms/step\n"
     ]
    },
    {
     "name": "stderr",
     "output_type": "stream",
     "text": [
      "2020-12-24 10:18:00,354 [DEBUG] kashgari - predict output: (176, 31)\n",
      "2020-12-24 10:18:00,355 [DEBUG] kashgari - predict output argmax: [[0 1 1 ... 1 1 1]\n",
      " [0 1 1 ... 1 1 1]\n",
      " [0 1 1 ... 1 1 1]\n",
      " ...\n",
      " [0 1 1 ... 1 1 1]\n",
      " [0 1 1 ... 1 1 1]\n",
      " [0 0 0 ... 0 0 0]]\n",
      "2020-12-24 10:18:00,357 [DEBUG] kashgari - predict seq_length: None, input: (2, 78, 45)\n"
     ]
    },
    {
     "name": "stdout",
     "output_type": "stream",
     "text": [
      "3/3 [==============================] - 0s 87ms/step\n"
     ]
    },
    {
     "name": "stderr",
     "output_type": "stream",
     "text": [
      "2020-12-24 10:18:00,808 [DEBUG] kashgari - predict output: (78, 45)\n",
      "2020-12-24 10:18:00,809 [DEBUG] kashgari - predict output argmax: [[0 1 1 ... 1 1 1]\n",
      " [0 1 1 ... 1 1 1]\n",
      " [0 1 1 ... 1 1 1]\n",
      " ...\n",
      " [0 1 1 ... 1 1 1]\n",
      " [0 1 1 ... 1 1 1]\n",
      " [0 0 0 ... 0 0 0]]\n",
      "2020-12-24 10:18:00,813 [DEBUG] kashgari - predict seq_length: None, input: (2, 230, 61)\n"
     ]
    },
    {
     "name": "stdout",
     "output_type": "stream",
     "text": [
      "8/8 [==============================] - 1s 170ms/step\n"
     ]
    },
    {
     "name": "stderr",
     "output_type": "stream",
     "text": [
      "2020-12-24 10:18:02,421 [DEBUG] kashgari - predict output: (230, 61)\n",
      "2020-12-24 10:18:02,422 [DEBUG] kashgari - predict output argmax: [[0 1 1 ... 1 1 1]\n",
      " [0 1 1 ... 1 1 1]\n",
      " [0 1 1 ... 1 1 1]\n",
      " ...\n",
      " [0 1 1 ... 1 1 1]\n",
      " [0 1 1 ... 1 1 1]\n",
      " [0 0 0 ... 0 0 0]]\n",
      "2020-12-24 10:18:02,425 [DEBUG] kashgari - predict seq_length: None, input: (2, 154, 42)\n"
     ]
    },
    {
     "name": "stdout",
     "output_type": "stream",
     "text": [
      "5/5 [==============================] - 1s 120ms/step\n"
     ]
    },
    {
     "name": "stderr",
     "output_type": "stream",
     "text": [
      "2020-12-24 10:18:03,216 [DEBUG] kashgari - predict output: (154, 42)\n",
      "2020-12-24 10:18:03,217 [DEBUG] kashgari - predict output argmax: [[0 1 1 ... 1 1 1]\n",
      " [0 1 1 ... 1 1 1]\n",
      " [0 1 1 ... 1 1 1]\n",
      " ...\n",
      " [0 1 1 ... 1 1 1]\n",
      " [0 1 1 ... 1 1 1]\n",
      " [0 0 0 ... 0 0 0]]\n",
      "2020-12-24 10:18:03,221 [DEBUG] kashgari - predict seq_length: None, input: (2, 197, 50)\n"
     ]
    },
    {
     "name": "stdout",
     "output_type": "stream",
     "text": [
      "7/7 [==============================] - 1s 135ms/step\n"
     ]
    },
    {
     "name": "stderr",
     "output_type": "stream",
     "text": [
      "2020-12-24 10:18:04,380 [DEBUG] kashgari - predict output: (197, 50)\n",
      "2020-12-24 10:18:04,381 [DEBUG] kashgari - predict output argmax: [[0 1 1 ... 1 1 1]\n",
      " [0 1 1 ... 1 1 1]\n",
      " [0 1 1 ... 1 1 1]\n",
      " ...\n",
      " [0 1 1 ... 1 1 1]\n",
      " [0 1 1 ... 1 1 1]\n",
      " [0 0 0 ... 0 0 0]]\n",
      "2020-12-24 10:18:04,387 [DEBUG] kashgari - predict seq_length: None, input: (2, 209, 64)\n"
     ]
    },
    {
     "name": "stdout",
     "output_type": "stream",
     "text": [
      "7/7 [==============================] - 1s 174ms/step\n"
     ]
    },
    {
     "name": "stderr",
     "output_type": "stream",
     "text": [
      "2020-12-24 10:18:12,126 [DEBUG] kashgari - predict output: (209, 64)\n",
      "2020-12-24 10:18:12,126 [DEBUG] kashgari - predict output argmax: [[0 1 1 ... 1 1 1]\n",
      " [0 1 1 ... 1 1 1]\n",
      " [0 1 1 ... 1 1 1]\n",
      " ...\n",
      " [0 1 1 ... 1 1 1]\n",
      " [0 1 1 ... 1 1 1]\n",
      " [0 0 0 ... 0 0 0]]\n",
      "2020-12-24 10:18:12,129 [DEBUG] kashgari - predict seq_length: None, input: (2, 75, 51)\n"
     ]
    },
    {
     "name": "stdout",
     "output_type": "stream",
     "text": [
      "3/3 [==============================] - 0s 98ms/step\n"
     ]
    },
    {
     "name": "stderr",
     "output_type": "stream",
     "text": [
      "2020-12-24 10:18:12,637 [DEBUG] kashgari - predict output: (75, 51)\n",
      "2020-12-24 10:18:12,638 [DEBUG] kashgari - predict output argmax: [[0 1 1 ... 1 1 1]\n",
      " [0 1 1 ... 1 1 1]\n",
      " [0 1 1 ... 1 1 1]\n",
      " ...\n",
      " [0 1 1 ... 1 1 1]\n",
      " [0 1 1 ... 1 1 1]\n",
      " [0 0 0 ... 0 0 0]]\n",
      "2020-12-24 10:18:12,642 [DEBUG] kashgari - predict seq_length: None, input: (2, 104, 148)\n"
     ]
    },
    {
     "name": "stdout",
     "output_type": "stream",
     "text": [
      "4/4 [==============================] - 1s 283ms/step\n"
     ]
    },
    {
     "name": "stderr",
     "output_type": "stream",
     "text": [
      "2020-12-24 10:18:20,564 [DEBUG] kashgari - predict output: (104, 148)\n",
      "2020-12-24 10:18:20,565 [DEBUG] kashgari - predict output argmax: [[0 1 1 ... 1 1 1]\n",
      " [0 1 1 ... 1 1 1]\n",
      " [0 1 1 ... 1 1 1]\n",
      " ...\n",
      " [0 1 1 ... 1 1 1]\n",
      " [0 1 1 ... 1 1 1]\n",
      " [0 0 0 ... 0 0 0]]\n",
      "2020-12-24 10:18:20,569 [DEBUG] kashgari - predict seq_length: None, input: (2, 161, 67)\n"
     ]
    },
    {
     "name": "stdout",
     "output_type": "stream",
     "text": [
      "6/6 [==============================] - 1s 163ms/step\n"
     ]
    },
    {
     "name": "stderr",
     "output_type": "stream",
     "text": [
      "2020-12-24 10:18:28,057 [DEBUG] kashgari - predict output: (161, 67)\n",
      "2020-12-24 10:18:28,058 [DEBUG] kashgari - predict output argmax: [[0 1 1 ... 1 1 1]\n",
      " [0 1 1 ... 1 1 1]\n",
      " [0 1 1 ... 1 1 1]\n",
      " ...\n",
      " [0 1 1 ... 1 1 1]\n",
      " [0 1 1 ... 1 1 1]\n",
      " [0 0 0 ... 0 0 0]]\n",
      "2020-12-24 10:18:28,061 [DEBUG] kashgari - predict seq_length: None, input: (2, 50, 50)\n"
     ]
    },
    {
     "name": "stdout",
     "output_type": "stream",
     "text": [
      "2/2 [==============================] - 0s 63ms/step\n"
     ]
    },
    {
     "name": "stderr",
     "output_type": "stream",
     "text": [
      "2020-12-24 10:18:28,386 [DEBUG] kashgari - predict output: (50, 50)\n",
      "2020-12-24 10:18:28,387 [DEBUG] kashgari - predict output argmax: [[0 1 1 ... 1 1 1]\n",
      " [0 1 1 ... 1 1 1]\n",
      " [0 1 1 ... 1 1 1]\n",
      " ...\n",
      " [0 1 1 ... 1 1 1]\n",
      " [0 1 1 ... 1 1 1]\n",
      " [0 0 0 ... 0 0 0]]\n",
      "2020-12-24 10:18:28,388 [DEBUG] kashgari - predict seq_length: None, input: (2, 61, 77)\n"
     ]
    },
    {
     "name": "stdout",
     "output_type": "stream",
     "text": [
      "2/2 [==============================] - 0s 127ms/step\n"
     ]
    },
    {
     "name": "stderr",
     "output_type": "stream",
     "text": [
      "2020-12-24 10:18:28,930 [DEBUG] kashgari - predict output: (61, 77)\n",
      "2020-12-24 10:18:28,930 [DEBUG] kashgari - predict output argmax: [[0 1 1 ... 1 1 1]\n",
      " [0 1 1 ... 1 1 1]\n",
      " [0 1 1 ... 1 1 1]\n",
      " ...\n",
      " [0 1 1 ... 1 1 1]\n",
      " [0 1 1 ... 1 1 1]\n",
      " [0 0 0 ... 0 0 0]]\n",
      "2020-12-24 10:18:28,932 [DEBUG] kashgari - predict seq_length: None, input: (2, 53, 36)\n"
     ]
    },
    {
     "name": "stdout",
     "output_type": "stream",
     "text": [
      "2/2 [==============================] - 0s 50ms/step\n"
     ]
    },
    {
     "name": "stderr",
     "output_type": "stream",
     "text": [
      "2020-12-24 10:18:29,191 [DEBUG] kashgari - predict output: (53, 36)\n",
      "2020-12-24 10:18:29,192 [DEBUG] kashgari - predict output argmax: [[0 1 1 ... 1 1 1]\n",
      " [0 1 1 ... 1 1 1]\n",
      " [0 1 1 ... 1 1 1]\n",
      " ...\n",
      " [0 1 1 ... 4 4 4]\n",
      " [0 1 1 ... 1 1 1]\n",
      " [0 0 0 ... 0 0 0]]\n",
      "2020-12-24 10:18:29,194 [DEBUG] kashgari - predict seq_length: None, input: (2, 41, 51)\n"
     ]
    },
    {
     "name": "stdout",
     "output_type": "stream",
     "text": [
      "2/2 [==============================] - 0s 43ms/step\n"
     ]
    },
    {
     "name": "stderr",
     "output_type": "stream",
     "text": [
      "2020-12-24 10:18:29,492 [DEBUG] kashgari - predict output: (41, 51)\n",
      "2020-12-24 10:18:29,492 [DEBUG] kashgari - predict output argmax: [[0 1 1 ... 1 1 1]\n",
      " [0 1 1 ... 1 1 1]\n",
      " [0 1 1 ... 1 1 1]\n",
      " ...\n",
      " [0 1 1 ... 1 1 1]\n",
      " [0 1 1 ... 1 1 1]\n",
      " [0 0 0 ... 0 0 0]]\n",
      "2020-12-24 10:18:29,494 [DEBUG] kashgari - predict seq_length: None, input: (2, 78, 49)\n"
     ]
    },
    {
     "name": "stdout",
     "output_type": "stream",
     "text": [
      "3/3 [==============================] - 0s 92ms/step\n"
     ]
    },
    {
     "name": "stderr",
     "output_type": "stream",
     "text": [
      "2020-12-24 10:18:29,978 [DEBUG] kashgari - predict output: (78, 49)\n",
      "2020-12-24 10:18:29,979 [DEBUG] kashgari - predict output argmax: [[0 1 1 ... 1 1 1]\n",
      " [0 1 1 ... 1 1 1]\n",
      " [0 1 1 ... 1 1 1]\n",
      " ...\n",
      " [0 1 1 ... 1 1 1]\n",
      " [0 1 1 ... 1 1 1]\n",
      " [0 0 0 ... 0 0 0]]\n",
      "2020-12-24 10:18:29,981 [DEBUG] kashgari - predict seq_length: None, input: (2, 65, 37)\n"
     ]
    },
    {
     "name": "stdout",
     "output_type": "stream",
     "text": [
      "3/3 [==============================] - 0s 64ms/step\n"
     ]
    },
    {
     "name": "stderr",
     "output_type": "stream",
     "text": [
      "2020-12-24 10:18:30,337 [DEBUG] kashgari - predict output: (65, 37)\n",
      "2020-12-24 10:18:30,338 [DEBUG] kashgari - predict output argmax: [[0 1 1 ... 1 1 1]\n",
      " [0 1 1 ... 1 1 1]\n",
      " [0 1 1 ... 1 1 1]\n",
      " ...\n",
      " [0 1 1 ... 1 1 1]\n",
      " [0 1 1 ... 1 1 1]\n",
      " [0 0 0 ... 0 0 0]]\n",
      "2020-12-24 10:18:30,342 [DEBUG] kashgari - predict seq_length: None, input: (2, 129, 127)\n"
     ]
    },
    {
     "name": "stdout",
     "output_type": "stream",
     "text": [
      "5/5 [==============================] - 1s 271ms/step\n"
     ]
    },
    {
     "name": "stderr",
     "output_type": "stream",
     "text": [
      "2020-12-24 10:18:38,926 [DEBUG] kashgari - predict output: (129, 127)\n",
      "2020-12-24 10:18:38,927 [DEBUG] kashgari - predict output argmax: [[0 1 1 ... 1 1 1]\n",
      " [0 1 1 ... 1 1 1]\n",
      " [0 1 1 ... 1 1 1]\n",
      " ...\n",
      " [0 1 1 ... 1 1 1]\n",
      " [0 1 1 ... 1 1 1]\n",
      " [0 0 0 ... 0 0 0]]\n",
      "2020-12-24 10:18:38,930 [DEBUG] kashgari - predict seq_length: None, input: (2, 240, 47)\n"
     ]
    },
    {
     "name": "stdout",
     "output_type": "stream",
     "text": [
      "8/8 [==============================] - 1s 141ms/step\n"
     ]
    },
    {
     "name": "stderr",
     "output_type": "stream",
     "text": [
      "2020-12-24 10:18:40,261 [DEBUG] kashgari - predict output: (240, 47)\n",
      "2020-12-24 10:18:40,262 [DEBUG] kashgari - predict output argmax: [[0 1 1 ... 1 1 1]\n",
      " [0 1 1 ... 1 1 1]\n",
      " [0 1 1 ... 1 1 1]\n",
      " ...\n",
      " [0 1 1 ... 1 1 1]\n",
      " [0 1 1 ... 1 1 1]\n",
      " [0 0 0 ... 0 0 0]]\n",
      "2020-12-24 10:18:40,265 [DEBUG] kashgari - predict seq_length: None, input: (2, 144, 42)\n"
     ]
    },
    {
     "name": "stdout",
     "output_type": "stream",
     "text": [
      "5/5 [==============================] - 1s 111ms/step\n"
     ]
    },
    {
     "name": "stderr",
     "output_type": "stream",
     "text": [
      "2020-12-24 10:18:41,011 [DEBUG] kashgari - predict output: (144, 42)\n",
      "2020-12-24 10:18:41,012 [DEBUG] kashgari - predict output argmax: [[0 1 1 ... 1 1 1]\n",
      " [0 1 1 ... 1 1 1]\n",
      " [0 1 1 ... 1 1 1]\n",
      " ...\n",
      " [0 1 1 ... 1 1 1]\n",
      " [0 1 1 ... 1 1 1]\n",
      " [0 0 0 ... 0 0 0]]\n",
      "2020-12-24 10:18:41,016 [DEBUG] kashgari - predict seq_length: None, input: (2, 161, 43)\n"
     ]
    },
    {
     "name": "stdout",
     "output_type": "stream",
     "text": [
      "6/6 [==============================] - 1s 115ms/step\n"
     ]
    },
    {
     "name": "stderr",
     "output_type": "stream",
     "text": [
      "2020-12-24 10:18:41,898 [DEBUG] kashgari - predict output: (161, 43)\n",
      "2020-12-24 10:18:41,899 [DEBUG] kashgari - predict output argmax: [[0 1 1 ... 6 6 6]\n",
      " [0 1 1 ... 6 6 6]\n",
      " [0 1 1 ... 1 1 1]\n",
      " ...\n",
      " [0 1 1 ... 1 1 1]\n",
      " [0 1 1 ... 1 1 1]\n",
      " [0 0 0 ... 0 0 0]]\n",
      "2020-12-24 10:18:41,902 [DEBUG] kashgari - predict seq_length: None, input: (2, 268, 40)\n"
     ]
    },
    {
     "name": "stdout",
     "output_type": "stream",
     "text": [
      "9/9 [==============================] - 1s 125ms/step\n"
     ]
    },
    {
     "name": "stderr",
     "output_type": "stream",
     "text": [
      "2020-12-24 10:18:43,220 [DEBUG] kashgari - predict output: (268, 40)\n",
      "2020-12-24 10:18:43,220 [DEBUG] kashgari - predict output argmax: [[0 1 1 ... 1 1 1]\n",
      " [0 1 1 ... 1 1 1]\n",
      " [0 1 1 ... 1 1 1]\n",
      " ...\n",
      " [0 1 1 ... 1 1 1]\n",
      " [0 1 1 ... 1 1 1]\n",
      " [0 0 0 ... 0 0 0]]\n",
      "2020-12-24 10:18:43,223 [DEBUG] kashgari - predict seq_length: None, input: (2, 51, 98)\n"
     ]
    },
    {
     "name": "stdout",
     "output_type": "stream",
     "text": [
      "2/2 [==============================] - 0s 109ms/step\n"
     ]
    },
    {
     "name": "stderr",
     "output_type": "stream",
     "text": [
      "2020-12-24 10:18:50,290 [DEBUG] kashgari - predict output: (51, 98)\n",
      "2020-12-24 10:18:50,291 [DEBUG] kashgari - predict output argmax: [[0 1 1 ... 1 1 1]\n",
      " [0 1 1 ... 1 1 1]\n",
      " [0 1 1 ... 1 1 1]\n",
      " ...\n",
      " [0 1 1 ... 1 1 1]\n",
      " [0 1 1 ... 1 1 1]\n",
      " [0 0 0 ... 0 0 0]]\n",
      "2020-12-24 10:18:50,295 [DEBUG] kashgari - predict seq_length: None, input: (2, 104, 133)\n"
     ]
    },
    {
     "name": "stdout",
     "output_type": "stream",
     "text": [
      "4/4 [==============================] - 1s 258ms/step\n"
     ]
    },
    {
     "name": "stderr",
     "output_type": "stream",
     "text": [
      "2020-12-24 10:18:58,013 [DEBUG] kashgari - predict output: (104, 133)\n",
      "2020-12-24 10:18:58,014 [DEBUG] kashgari - predict output argmax: [[0 1 1 ... 1 1 1]\n",
      " [0 1 1 ... 1 1 1]\n",
      " [0 1 1 ... 1 1 1]\n",
      " ...\n",
      " [0 1 1 ... 1 1 1]\n",
      " [0 1 1 ... 1 1 1]\n",
      " [0 0 0 ... 0 0 0]]\n",
      "2020-12-24 10:18:58,017 [DEBUG] kashgari - predict seq_length: None, input: (2, 159, 103)\n"
     ]
    },
    {
     "name": "stdout",
     "output_type": "stream",
     "text": [
      "5/5 [==============================] - 1s 273ms/step\n"
     ]
    },
    {
     "name": "stderr",
     "output_type": "stream",
     "text": [
      "2020-12-24 10:19:05,990 [DEBUG] kashgari - predict output: (159, 103)\n",
      "2020-12-24 10:19:05,990 [DEBUG] kashgari - predict output argmax: [[0 1 1 ... 1 1 1]\n",
      " [0 1 1 ... 1 1 1]\n",
      " [0 1 1 ... 1 1 1]\n",
      " ...\n",
      " [0 1 1 ... 1 1 1]\n",
      " [0 1 1 ... 1 1 1]\n",
      " [0 1 1 ... 1 1 1]]\n",
      "2020-12-24 10:19:05,994 [DEBUG] kashgari - predict seq_length: None, input: (2, 143, 74)\n"
     ]
    },
    {
     "name": "stdout",
     "output_type": "stream",
     "text": [
      "5/5 [==============================] - 1s 181ms/step\n"
     ]
    },
    {
     "name": "stderr",
     "output_type": "stream",
     "text": [
      "2020-12-24 10:19:13,525 [DEBUG] kashgari - predict output: (143, 74)\n",
      "2020-12-24 10:19:13,526 [DEBUG] kashgari - predict output argmax: [[0 1 1 ... 2 2 2]\n",
      " [0 1 1 ... 1 1 1]\n",
      " [0 1 1 ... 2 2 2]\n",
      " ...\n",
      " [0 1 1 ... 1 1 1]\n",
      " [0 1 1 ... 1 1 1]\n",
      " [0 0 0 ... 0 0 0]]\n",
      "2020-12-24 10:19:13,529 [DEBUG] kashgari - predict seq_length: None, input: (2, 58, 168)\n"
     ]
    },
    {
     "name": "stdout",
     "output_type": "stream",
     "text": [
      "2/2 [==============================] - 0s 236ms/step\n"
     ]
    },
    {
     "name": "stderr",
     "output_type": "stream",
     "text": [
      "2020-12-24 10:19:24,053 [DEBUG] kashgari - predict output: (58, 168)\n",
      "2020-12-24 10:19:24,054 [DEBUG] kashgari - predict output argmax: [[0 1 1 ... 1 1 1]\n",
      " [0 1 1 ... 1 1 1]\n",
      " [0 1 1 ... 1 1 1]\n",
      " ...\n",
      " [0 1 1 ... 1 1 1]\n",
      " [0 1 1 ... 1 1 1]\n",
      " [0 0 0 ... 0 0 0]]\n",
      "2020-12-24 10:19:24,057 [DEBUG] kashgari - predict seq_length: None, input: (2, 82, 50)\n"
     ]
    },
    {
     "name": "stdout",
     "output_type": "stream",
     "text": [
      "3/3 [==============================] - 0s 97ms/step\n"
     ]
    },
    {
     "name": "stderr",
     "output_type": "stream",
     "text": [
      "2020-12-24 10:19:24,550 [DEBUG] kashgari - predict output: (82, 50)\n",
      "2020-12-24 10:19:24,551 [DEBUG] kashgari - predict output argmax: [[0 1 1 ... 1 1 1]\n",
      " [0 1 1 ... 1 1 1]\n",
      " [0 1 1 ... 1 1 1]\n",
      " ...\n",
      " [0 1 1 ... 1 1 1]\n",
      " [0 1 1 ... 1 1 1]\n",
      " [0 0 0 ... 0 0 0]]\n",
      "2020-12-24 10:19:24,556 [DEBUG] kashgari - predict seq_length: None, input: (2, 125, 69)\n"
     ]
    },
    {
     "name": "stdout",
     "output_type": "stream",
     "text": [
      "4/4 [==============================] - 1s 177ms/step\n"
     ]
    },
    {
     "name": "stderr",
     "output_type": "stream",
     "text": [
      "2020-12-24 10:19:31,794 [DEBUG] kashgari - predict output: (125, 69)\n",
      "2020-12-24 10:19:31,795 [DEBUG] kashgari - predict output argmax: [[0 1 1 ... 1 1 1]\n",
      " [0 1 1 ... 1 1 1]\n",
      " [0 1 1 ... 1 1 1]\n",
      " ...\n",
      " [0 1 1 ... 1 1 1]\n",
      " [0 1 1 ... 1 1 1]\n",
      " [0 0 0 ... 0 0 0]]\n",
      "2020-12-24 10:19:31,797 [DEBUG] kashgari - predict seq_length: None, input: (2, 49, 60)\n"
     ]
    },
    {
     "name": "stdout",
     "output_type": "stream",
     "text": [
      "2/2 [==============================] - 0s 63ms/step\n"
     ]
    },
    {
     "name": "stderr",
     "output_type": "stream",
     "text": [
      "2020-12-24 10:19:38,418 [DEBUG] kashgari - predict output: (49, 60)\n",
      "2020-12-24 10:19:38,419 [DEBUG] kashgari - predict output argmax: [[0 1 1 ... 1 1 1]\n",
      " [0 1 1 ... 1 1 1]\n",
      " [0 1 1 ... 1 1 1]\n",
      " ...\n",
      " [0 1 1 ... 1 1 1]\n",
      " [0 1 1 ... 1 1 1]\n",
      " [0 0 0 ... 0 0 0]]\n",
      "2020-12-24 10:19:38,422 [DEBUG] kashgari - predict seq_length: None, input: (2, 234, 91)\n"
     ]
    },
    {
     "name": "stdout",
     "output_type": "stream",
     "text": [
      "8/8 [==============================] - 2s 248ms/step\n"
     ]
    },
    {
     "name": "stderr",
     "output_type": "stream",
     "text": [
      "2020-12-24 10:19:40,745 [DEBUG] kashgari - predict output: (234, 91)\n",
      "2020-12-24 10:19:40,746 [DEBUG] kashgari - predict output argmax: [[0 1 1 ... 1 1 1]\n",
      " [0 1 1 ... 1 1 1]\n",
      " [0 1 1 ... 1 1 1]\n",
      " ...\n",
      " [0 1 1 ... 1 1 1]\n",
      " [0 1 1 ... 1 1 1]\n",
      " [0 0 0 ... 0 0 0]]\n",
      "2020-12-24 10:19:40,748 [DEBUG] kashgari - predict seq_length: None, input: (2, 58, 132)\n"
     ]
    },
    {
     "name": "stdout",
     "output_type": "stream",
     "text": [
      "2/2 [==============================] - 0s 185ms/step\n"
     ]
    },
    {
     "name": "stderr",
     "output_type": "stream",
     "text": [
      "2020-12-24 10:19:47,847 [DEBUG] kashgari - predict output: (58, 132)\n",
      "2020-12-24 10:19:47,847 [DEBUG] kashgari - predict output argmax: [[0 1 1 ... 1 1 1]\n",
      " [0 1 1 ... 1 1 1]\n",
      " [0 1 1 ... 1 1 1]\n",
      " ...\n",
      " [0 1 1 ... 2 2 2]\n",
      " [0 1 1 ... 1 1 1]\n",
      " [0 0 0 ... 0 0 0]]\n",
      "2020-12-24 10:19:47,851 [DEBUG] kashgari - predict seq_length: None, input: (2, 123, 123)\n"
     ]
    },
    {
     "name": "stdout",
     "output_type": "stream",
     "text": [
      "4/4 [==============================] - 2s 543ms/step\n"
     ]
    },
    {
     "name": "stderr",
     "output_type": "stream",
     "text": [
      "2020-12-24 10:19:57,433 [DEBUG] kashgari - predict output: (123, 123)\n",
      "2020-12-24 10:19:57,436 [DEBUG] kashgari - predict output argmax: [[0 1 1 ... 1 1 1]\n",
      " [0 1 1 ... 1 1 1]\n",
      " [0 1 1 ... 1 1 1]\n",
      " ...\n",
      " [0 1 1 ... 1 1 1]\n",
      " [0 1 1 ... 1 1 1]\n",
      " [0 0 0 ... 0 0 0]]\n",
      "2020-12-24 10:19:57,442 [DEBUG] kashgari - predict seq_length: None, input: (2, 48, 341)\n"
     ]
    },
    {
     "name": "stdout",
     "output_type": "stream",
     "text": [
      "2/2 [==============================] - 1s 320ms/step\n"
     ]
    },
    {
     "name": "stderr",
     "output_type": "stream",
     "text": [
      "2020-12-24 10:20:15,883 [DEBUG] kashgari - predict output: (48, 341)\n",
      "2020-12-24 10:20:15,884 [DEBUG] kashgari - predict output argmax: [[0 1 1 ... 1 1 1]\n",
      " [0 1 1 ... 1 1 1]\n",
      " [0 1 1 ... 1 1 1]\n",
      " ...\n",
      " [0 1 1 ... 1 1 1]\n",
      " [0 1 1 ... 1 1 1]\n",
      " [0 0 0 ... 0 0 0]]\n",
      "2020-12-24 10:20:15,886 [DEBUG] kashgari - predict seq_length: None, input: (2, 45, 29)\n"
     ]
    },
    {
     "name": "stdout",
     "output_type": "stream",
     "text": [
      "WARNING:tensorflow:5 out of the last 19 calls to <function Model.make_predict_function.<locals>.predict_function at 0x7f64f5dfe268> triggered tf.function retracing. Tracing is expensive and the excessive number of tracings is likely due to passing python objects instead of tensors. Also, tf.function has experimental_relax_shapes=True option that relaxes argument shapes that can avoid unnecessary retracing. Please refer to https://www.tensorflow.org/tutorials/customization/performance#python_or_tensor_args and https://www.tensorflow.org/api_docs/python/tf/function for more details.\n",
      "2/2 [==============================] - 0s 39ms/step\n"
     ]
    },
    {
     "name": "stderr",
     "output_type": "stream",
     "text": [
      "2020-12-24 10:20:22,391 [DEBUG] kashgari - predict output: (45, 29)\n",
      "2020-12-24 10:20:22,392 [DEBUG] kashgari - predict output argmax: [[0 1 1 ... 1 1 1]\n",
      " [0 1 1 ... 1 1 1]\n",
      " [0 1 1 ... 1 1 1]\n",
      " ...\n",
      " [0 1 1 ... 1 1 1]\n",
      " [0 1 1 ... 1 1 1]\n",
      " [0 0 0 ... 0 0 0]]\n",
      "2020-12-24 10:20:22,395 [DEBUG] kashgari - predict seq_length: None, input: (2, 61, 60)\n"
     ]
    },
    {
     "name": "stdout",
     "output_type": "stream",
     "text": [
      "2/2 [==============================] - 0s 97ms/step\n"
     ]
    },
    {
     "name": "stderr",
     "output_type": "stream",
     "text": [
      "2020-12-24 10:20:22,831 [DEBUG] kashgari - predict output: (61, 60)\n",
      "2020-12-24 10:20:22,832 [DEBUG] kashgari - predict output argmax: [[0 1 1 ... 1 1 1]\n",
      " [0 1 1 ... 1 1 1]\n",
      " [0 1 1 ... 1 1 1]\n",
      " ...\n",
      " [0 1 1 ... 1 1 1]\n",
      " [0 1 1 ... 1 1 1]\n",
      " [0 0 0 ... 0 0 0]]\n",
      "2020-12-24 10:20:22,834 [DEBUG] kashgari - predict seq_length: None, input: (2, 43, 159)\n"
     ]
    },
    {
     "name": "stdout",
     "output_type": "stream",
     "text": [
      "2/2 [==============================] - 0s 111ms/step\n"
     ]
    },
    {
     "name": "stderr",
     "output_type": "stream",
     "text": [
      "2020-12-24 10:20:29,846 [DEBUG] kashgari - predict output: (43, 159)\n",
      "2020-12-24 10:20:29,846 [DEBUG] kashgari - predict output argmax: [[0 1 1 ... 1 1 1]\n",
      " [0 1 1 ... 1 1 1]\n",
      " [0 1 1 ... 1 1 1]\n",
      " ...\n",
      " [0 1 1 ... 2 2 2]\n",
      " [0 1 1 ... 1 1 1]\n",
      " [0 0 0 ... 0 0 0]]\n",
      "2020-12-24 10:20:29,848 [DEBUG] kashgari - predict seq_length: None, input: (2, 46, 51)\n"
     ]
    },
    {
     "name": "stdout",
     "output_type": "stream",
     "text": [
      "2/2 [==============================] - 0s 53ms/step\n"
     ]
    },
    {
     "name": "stderr",
     "output_type": "stream",
     "text": [
      "2020-12-24 10:20:30,157 [DEBUG] kashgari - predict output: (46, 51)\n",
      "2020-12-24 10:20:30,159 [DEBUG] kashgari - predict output argmax: [[0 1 1 ... 1 1 1]\n",
      " [0 1 1 ... 1 1 1]\n",
      " [0 1 1 ... 1 1 1]\n",
      " ...\n",
      " [0 1 1 ... 1 1 1]\n",
      " [0 1 1 ... 1 1 1]\n",
      " [0 0 0 ... 0 0 0]]\n",
      "2020-12-24 10:20:30,161 [DEBUG] kashgari - predict seq_length: None, input: (2, 52, 89)\n"
     ]
    },
    {
     "name": "stdout",
     "output_type": "stream",
     "text": [
      "2/2 [==============================] - 0s 106ms/step\n"
     ]
    },
    {
     "name": "stderr",
     "output_type": "stream",
     "text": [
      "2020-12-24 10:20:36,961 [DEBUG] kashgari - predict output: (52, 89)\n",
      "2020-12-24 10:20:36,962 [DEBUG] kashgari - predict output argmax: [[0 1 1 ... 1 1 1]\n",
      " [0 1 1 ... 1 1 1]\n",
      " [0 1 1 ... 1 1 1]\n",
      " ...\n",
      " [0 1 1 ... 1 1 1]\n",
      " [0 1 1 ... 1 1 1]\n",
      " [0 0 0 ... 0 0 0]]\n",
      "2020-12-24 10:20:36,965 [DEBUG] kashgari - predict seq_length: None, input: (2, 134, 81)\n"
     ]
    },
    {
     "name": "stdout",
     "output_type": "stream",
     "text": [
      "5/5 [==============================] - 1s 184ms/step\n"
     ]
    },
    {
     "name": "stderr",
     "output_type": "stream",
     "text": [
      "2020-12-24 10:20:38,200 [DEBUG] kashgari - predict output: (134, 81)\n",
      "2020-12-24 10:20:38,201 [DEBUG] kashgari - predict output argmax: [[0 1 1 ... 1 1 1]\n",
      " [0 1 1 ... 1 1 1]\n",
      " [0 1 1 ... 1 1 1]\n",
      " ...\n",
      " [0 1 1 ... 1 1 1]\n",
      " [0 1 1 ... 1 1 1]\n",
      " [0 0 0 ... 0 0 0]]\n",
      "2020-12-24 10:20:38,204 [DEBUG] kashgari - predict seq_length: None, input: (2, 67, 48)\n"
     ]
    },
    {
     "name": "stdout",
     "output_type": "stream",
     "text": [
      "3/3 [==============================] - 0s 76ms/step\n"
     ]
    },
    {
     "name": "stderr",
     "output_type": "stream",
     "text": [
      "2020-12-24 10:20:38,624 [DEBUG] kashgari - predict output: (67, 48)\n",
      "2020-12-24 10:20:38,625 [DEBUG] kashgari - predict output argmax: [[0 1 1 ... 1 1 1]\n",
      " [0 1 1 ... 1 1 1]\n",
      " [0 1 1 ... 1 1 1]\n",
      " ...\n",
      " [0 1 1 ... 1 1 1]\n",
      " [0 1 1 ... 1 1 1]\n",
      " [0 0 0 ... 0 0 0]]\n",
      "2020-12-24 10:20:38,628 [DEBUG] kashgari - predict seq_length: None, input: (2, 50, 114)\n"
     ]
    },
    {
     "name": "stdout",
     "output_type": "stream",
     "text": [
      "2/2 [==============================] - 0s 123ms/step\n"
     ]
    },
    {
     "name": "stderr",
     "output_type": "stream",
     "text": [
      "2020-12-24 10:20:46,014 [DEBUG] kashgari - predict output: (50, 114)\n",
      "2020-12-24 10:20:46,015 [DEBUG] kashgari - predict output argmax: [[ 0  1  1 ...  1  1  1]\n",
      " [ 0  1  1 ...  1  1  1]\n",
      " [ 0  1  1 ...  1  1  1]\n",
      " ...\n",
      " [ 0  1  1 ...  1  1  1]\n",
      " [ 0  1  1 ... 19 19 19]\n",
      " [ 0  0  0 ...  0  0  0]]\n",
      "2020-12-24 10:20:46,018 [DEBUG] kashgari - predict seq_length: None, input: (2, 103, 57)\n"
     ]
    },
    {
     "name": "stdout",
     "output_type": "stream",
     "text": [
      "4/4 [==============================] - 0s 121ms/step\n"
     ]
    },
    {
     "name": "stderr",
     "output_type": "stream",
     "text": [
      "2020-12-24 10:20:46,731 [DEBUG] kashgari - predict output: (103, 57)\n",
      "2020-12-24 10:20:46,732 [DEBUG] kashgari - predict output argmax: [[0 1 1 ... 1 1 1]\n",
      " [0 1 1 ... 1 1 1]\n",
      " [0 1 1 ... 1 1 1]\n",
      " ...\n",
      " [0 1 1 ... 1 1 1]\n",
      " [0 1 1 ... 1 1 1]\n",
      " [0 0 0 ... 0 0 0]]\n",
      "2020-12-24 10:20:46,734 [DEBUG] kashgari - predict seq_length: None, input: (2, 62, 154)\n"
     ]
    },
    {
     "name": "stdout",
     "output_type": "stream",
     "text": [
      "2/2 [==============================] - 0s 244ms/step\n"
     ]
    },
    {
     "name": "stderr",
     "output_type": "stream",
     "text": [
      "2020-12-24 10:20:54,004 [DEBUG] kashgari - predict output: (62, 154)\n",
      "2020-12-24 10:20:54,005 [DEBUG] kashgari - predict output argmax: [[0 1 1 ... 1 1 1]\n",
      " [0 1 1 ... 1 1 1]\n",
      " [0 1 1 ... 1 1 1]\n",
      " ...\n",
      " [0 1 1 ... 1 1 1]\n",
      " [0 1 1 ... 1 1 1]\n",
      " [0 0 0 ... 0 0 0]]\n",
      "2020-12-24 10:20:54,007 [DEBUG] kashgari - predict seq_length: None, input: (2, 41, 44)\n"
     ]
    },
    {
     "name": "stdout",
     "output_type": "stream",
     "text": [
      "2/2 [==============================] - 0s 39ms/step\n"
     ]
    },
    {
     "name": "stderr",
     "output_type": "stream",
     "text": [
      "2020-12-24 10:21:01,564 [DEBUG] kashgari - predict output: (41, 44)\n",
      "2020-12-24 10:21:01,565 [DEBUG] kashgari - predict output argmax: [[0 1 1 ... 1 1 1]\n",
      " [0 1 1 ... 1 1 1]\n",
      " [0 1 1 ... 1 1 1]\n",
      " ...\n",
      " [0 1 1 ... 1 1 1]\n",
      " [0 1 1 ... 1 1 1]\n",
      " [0 0 0 ... 0 0 0]]\n",
      "2020-12-24 10:21:01,568 [DEBUG] kashgari - predict seq_length: None, input: (2, 92, 74)\n"
     ]
    },
    {
     "name": "stdout",
     "output_type": "stream",
     "text": [
      "3/3 [==============================] - 0s 157ms/step\n"
     ]
    },
    {
     "name": "stderr",
     "output_type": "stream",
     "text": [
      "2020-12-24 10:21:02,319 [DEBUG] kashgari - predict output: (92, 74)\n",
      "2020-12-24 10:21:02,321 [DEBUG] kashgari - predict output argmax: [[0 1 1 ... 1 1 1]\n",
      " [0 1 1 ... 1 1 1]\n",
      " [0 1 1 ... 1 1 1]\n",
      " ...\n",
      " [0 1 1 ... 1 1 1]\n",
      " [0 1 1 ... 1 1 1]\n",
      " [0 0 0 ... 0 0 0]]\n",
      "2020-12-24 10:21:02,324 [DEBUG] kashgari - predict seq_length: None, input: (2, 58, 57)\n"
     ]
    },
    {
     "name": "stdout",
     "output_type": "stream",
     "text": [
      "2/2 [==============================] - 0s 83ms/step\n"
     ]
    },
    {
     "name": "stderr",
     "output_type": "stream",
     "text": [
      "2020-12-24 10:21:02,723 [DEBUG] kashgari - predict output: (58, 57)\n",
      "2020-12-24 10:21:02,724 [DEBUG] kashgari - predict output argmax: [[0 1 1 ... 1 1 1]\n",
      " [0 1 1 ... 1 1 1]\n",
      " [0 1 1 ... 1 1 1]\n",
      " ...\n",
      " [0 1 1 ... 1 1 1]\n",
      " [0 1 1 ... 1 1 1]\n",
      " [0 0 0 ... 0 0 0]]\n",
      "2020-12-24 10:21:02,728 [DEBUG] kashgari - predict seq_length: None, input: (2, 128, 72)\n"
     ]
    },
    {
     "name": "stdout",
     "output_type": "stream",
     "text": [
      "4/4 [==============================] - 1s 161ms/step\n"
     ]
    },
    {
     "name": "stderr",
     "output_type": "stream",
     "text": [
      "2020-12-24 10:21:07,793 [DEBUG] kashgari - predict output: (128, 72)\n",
      "2020-12-24 10:21:07,794 [DEBUG] kashgari - predict output argmax: [[0 1 1 ... 1 1 1]\n",
      " [0 1 1 ... 1 1 1]\n",
      " [0 1 1 ... 1 1 1]\n",
      " ...\n",
      " [0 1 1 ... 1 1 1]\n",
      " [0 1 1 ... 1 1 1]\n",
      " [0 0 0 ... 0 0 0]]\n",
      "2020-12-24 10:21:07,796 [DEBUG] kashgari - predict seq_length: None, input: (2, 100, 77)\n"
     ]
    },
    {
     "name": "stdout",
     "output_type": "stream",
     "text": [
      "4/4 [==============================] - 1s 152ms/step\n"
     ]
    },
    {
     "name": "stderr",
     "output_type": "stream",
     "text": [
      "2020-12-24 10:21:08,690 [DEBUG] kashgari - predict output: (100, 77)\n",
      "2020-12-24 10:21:08,691 [DEBUG] kashgari - predict output argmax: [[0 1 1 ... 1 1 1]\n",
      " [0 1 1 ... 1 1 1]\n",
      " [0 1 1 ... 1 1 1]\n",
      " ...\n",
      " [0 1 1 ... 1 1 1]\n",
      " [0 1 1 ... 1 1 1]\n",
      " [0 0 0 ... 0 0 0]]\n",
      "2020-12-24 10:21:08,693 [DEBUG] kashgari - predict seq_length: None, input: (2, 59, 61)\n"
     ]
    },
    {
     "name": "stdout",
     "output_type": "stream",
     "text": [
      "2/2 [==============================] - 0s 96ms/step\n"
     ]
    },
    {
     "name": "stderr",
     "output_type": "stream",
     "text": [
      "2020-12-24 10:21:09,129 [DEBUG] kashgari - predict output: (59, 61)\n",
      "2020-12-24 10:21:09,130 [DEBUG] kashgari - predict output argmax: [[0 1 1 ... 1 1 1]\n",
      " [0 1 1 ... 1 1 1]\n",
      " [0 1 1 ... 1 1 1]\n",
      " ...\n",
      " [0 1 1 ... 1 1 1]\n",
      " [0 1 1 ... 1 1 1]\n",
      " [0 0 0 ... 0 0 0]]\n",
      "2020-12-24 10:21:09,134 [DEBUG] kashgari - predict seq_length: None, input: (2, 111, 77)\n"
     ]
    },
    {
     "name": "stdout",
     "output_type": "stream",
     "text": [
      "4/4 [==============================] - 1s 170ms/step\n"
     ]
    },
    {
     "name": "stderr",
     "output_type": "stream",
     "text": [
      "2020-12-24 10:21:10,104 [DEBUG] kashgari - predict output: (111, 77)\n",
      "2020-12-24 10:21:10,105 [DEBUG] kashgari - predict output argmax: [[0 1 1 ... 1 1 1]\n",
      " [0 1 1 ... 1 1 1]\n",
      " [0 1 1 ... 1 1 1]\n",
      " ...\n",
      " [0 1 1 ... 1 1 1]\n",
      " [0 1 1 ... 1 1 1]\n",
      " [0 0 0 ... 0 0 0]]\n",
      "2020-12-24 10:21:10,108 [DEBUG] kashgari - predict seq_length: None, input: (2, 128, 96)\n"
     ]
    },
    {
     "name": "stdout",
     "output_type": "stream",
     "text": [
      "4/4 [==============================] - 1s 213ms/step\n"
     ]
    },
    {
     "name": "stderr",
     "output_type": "stream",
     "text": [
      "2020-12-24 10:21:15,437 [DEBUG] kashgari - predict output: (128, 96)\n",
      "2020-12-24 10:21:15,438 [DEBUG] kashgari - predict output argmax: [[0 1 1 ... 1 1 1]\n",
      " [0 1 1 ... 1 1 1]\n",
      " [0 1 1 ... 1 1 1]\n",
      " ...\n",
      " [0 1 1 ... 1 1 1]\n",
      " [0 1 1 ... 1 1 1]\n",
      " [0 0 0 ... 0 0 0]]\n",
      "2020-12-24 10:21:15,441 [DEBUG] kashgari - predict seq_length: None, input: (2, 149, 78)\n"
     ]
    },
    {
     "name": "stdout",
     "output_type": "stream",
     "text": [
      "5/5 [==============================] - 1s 194ms/step\n"
     ]
    },
    {
     "name": "stderr",
     "output_type": "stream",
     "text": [
      "2020-12-24 10:21:16,697 [DEBUG] kashgari - predict output: (149, 78)\n",
      "2020-12-24 10:21:16,698 [DEBUG] kashgari - predict output argmax: [[0 1 1 ... 1 1 1]\n",
      " [0 1 1 ... 1 1 1]\n",
      " [0 1 1 ... 1 1 1]\n",
      " ...\n",
      " [0 1 1 ... 1 1 1]\n",
      " [0 1 1 ... 1 1 1]\n",
      " [0 0 0 ... 0 0 0]]\n",
      "2020-12-24 10:21:16,700 [DEBUG] kashgari - predict seq_length: None, input: (2, 40, 87)\n"
     ]
    },
    {
     "name": "stdout",
     "output_type": "stream",
     "text": [
      "2/2 [==============================] - 0s 52ms/step\n"
     ]
    },
    {
     "name": "stderr",
     "output_type": "stream",
     "text": [
      "2020-12-24 10:21:23,373 [DEBUG] kashgari - predict output: (40, 87)\n",
      "2020-12-24 10:21:23,374 [DEBUG] kashgari - predict output argmax: [[0 1 1 ... 1 1 1]\n",
      " [0 1 1 ... 1 1 1]\n",
      " [0 1 1 ... 1 1 1]\n",
      " ...\n",
      " [0 1 1 ... 2 2 2]\n",
      " [0 1 1 ... 1 1 1]\n",
      " [0 0 0 ... 0 0 0]]\n",
      "2020-12-24 10:21:23,379 [DEBUG] kashgari - predict seq_length: None, input: (2, 129, 84)\n"
     ]
    },
    {
     "name": "stdout",
     "output_type": "stream",
     "text": [
      "5/5 [==============================] - 1s 180ms/step\n"
     ]
    },
    {
     "name": "stderr",
     "output_type": "stream",
     "text": [
      "2020-12-24 10:21:24,597 [DEBUG] kashgari - predict output: (129, 84)\n",
      "2020-12-24 10:21:24,598 [DEBUG] kashgari - predict output argmax: [[0 1 1 ... 1 1 1]\n",
      " [0 1 1 ... 1 1 1]\n",
      " [0 1 1 ... 1 1 1]\n",
      " ...\n",
      " [0 1 1 ... 1 1 1]\n",
      " [0 1 1 ... 1 1 1]\n",
      " [0 0 0 ... 0 0 0]]\n",
      "2020-12-24 10:21:24,601 [DEBUG] kashgari - predict seq_length: None, input: (2, 98, 77)\n"
     ]
    },
    {
     "name": "stdout",
     "output_type": "stream",
     "text": [
      "4/4 [==============================] - 1s 150ms/step\n"
     ]
    },
    {
     "name": "stderr",
     "output_type": "stream",
     "text": [
      "2020-12-24 10:21:25,492 [DEBUG] kashgari - predict output: (98, 77)\n",
      "2020-12-24 10:21:25,493 [DEBUG] kashgari - predict output argmax: [[0 1 1 ... 2 2 2]\n",
      " [0 1 1 ... 2 2 2]\n",
      " [0 1 1 ... 2 2 2]\n",
      " ...\n",
      " [0 1 1 ... 1 1 1]\n",
      " [0 1 1 ... 1 1 1]\n",
      " [0 0 0 ... 0 0 0]]\n",
      "2020-12-24 10:21:25,496 [DEBUG] kashgari - predict seq_length: None, input: (2, 97, 60)\n"
     ]
    },
    {
     "name": "stdout",
     "output_type": "stream",
     "text": [
      "4/4 [==============================] - 0s 120ms/step\n"
     ]
    },
    {
     "name": "stderr",
     "output_type": "stream",
     "text": [
      "2020-12-24 10:21:26,213 [DEBUG] kashgari - predict output: (97, 60)\n",
      "2020-12-24 10:21:26,214 [DEBUG] kashgari - predict output argmax: [[0 1 1 ... 1 1 1]\n",
      " [0 1 1 ... 1 1 1]\n",
      " [0 1 1 ... 1 1 1]\n",
      " ...\n",
      " [0 1 1 ... 1 1 1]\n",
      " [0 1 1 ... 1 1 1]\n",
      " [0 0 0 ... 0 0 0]]\n",
      "2020-12-24 10:21:26,216 [DEBUG] kashgari - predict seq_length: None, input: (2, 67, 241)\n"
     ]
    },
    {
     "name": "stdout",
     "output_type": "stream",
     "text": [
      "3/3 [==============================] - 1s 328ms/step\n"
     ]
    },
    {
     "name": "stderr",
     "output_type": "stream",
     "text": [
      "2020-12-24 10:21:34,275 [DEBUG] kashgari - predict output: (67, 241)\n",
      "2020-12-24 10:21:34,276 [DEBUG] kashgari - predict output argmax: [[0 1 1 ... 1 1 1]\n",
      " [0 1 1 ... 1 1 1]\n",
      " [0 1 1 ... 1 1 1]\n",
      " ...\n",
      " [0 1 1 ... 1 1 1]\n",
      " [0 1 1 ... 1 1 1]\n",
      " [0 0 0 ... 0 0 0]]\n",
      "2020-12-24 10:21:34,279 [DEBUG] kashgari - predict seq_length: None, input: (2, 52, 97)\n"
     ]
    },
    {
     "name": "stdout",
     "output_type": "stream",
     "text": [
      "2/2 [==============================] - 0s 114ms/step\n"
     ]
    },
    {
     "name": "stderr",
     "output_type": "stream",
     "text": [
      "2020-12-24 10:21:41,144 [DEBUG] kashgari - predict output: (52, 97)\n",
      "2020-12-24 10:21:41,145 [DEBUG] kashgari - predict output argmax: [[0 1 1 ... 1 1 1]\n",
      " [0 1 1 ... 1 1 1]\n",
      " [0 1 1 ... 1 1 1]\n",
      " ...\n",
      " [0 1 1 ... 1 1 1]\n",
      " [0 1 1 ... 1 1 1]\n",
      " [0 0 0 ... 0 0 0]]\n",
      "2020-12-24 10:21:41,149 [DEBUG] kashgari - predict seq_length: None, input: (2, 120, 73)\n"
     ]
    },
    {
     "name": "stdout",
     "output_type": "stream",
     "text": [
      "4/4 [==============================] - 1s 175ms/step\n"
     ]
    },
    {
     "name": "stderr",
     "output_type": "stream",
     "text": [
      "2020-12-24 10:21:42,135 [DEBUG] kashgari - predict output: (120, 73)\n",
      "2020-12-24 10:21:42,136 [DEBUG] kashgari - predict output argmax: [[0 1 1 ... 1 1 1]\n",
      " [0 1 1 ... 1 1 1]\n",
      " [0 1 1 ... 1 1 1]\n",
      " ...\n",
      " [0 1 1 ... 1 1 1]\n",
      " [0 1 1 ... 1 1 1]\n",
      " [0 0 0 ... 0 0 0]]\n",
      "2020-12-24 10:21:42,142 [DEBUG] kashgari - predict seq_length: None, input: (2, 346, 151)\n"
     ]
    },
    {
     "name": "stdout",
     "output_type": "stream",
     "text": [
      "11/11 [==============================] - 5s 445ms/step\n"
     ]
    },
    {
     "name": "stderr",
     "output_type": "stream",
     "text": [
      "2020-12-24 10:21:47,587 [DEBUG] kashgari - predict output: (346, 151)\n",
      "2020-12-24 10:21:47,588 [DEBUG] kashgari - predict output argmax: [[ 0  1  1 ...  1  1  1]\n",
      " [ 0  1  1 ...  1  1  1]\n",
      " [ 0  1  1 ...  1  1  1]\n",
      " ...\n",
      " [ 0  1  1 ... 19 19 19]\n",
      " [ 0  1  1 ...  1  1  1]\n",
      " [ 0  0  0 ...  0  0  0]]\n",
      "2020-12-24 10:21:47,592 [DEBUG] kashgari - predict seq_length: None, input: (2, 98, 97)\n"
     ]
    },
    {
     "name": "stdout",
     "output_type": "stream",
     "text": [
      "4/4 [==============================] - 1s 186ms/step\n"
     ]
    },
    {
     "name": "stderr",
     "output_type": "stream",
     "text": [
      "2020-12-24 10:21:48,700 [DEBUG] kashgari - predict output: (98, 97)\n",
      "2020-12-24 10:21:48,701 [DEBUG] kashgari - predict output argmax: [[0 1 1 ... 1 1 1]\n",
      " [0 1 1 ... 1 1 1]\n",
      " [0 1 1 ... 1 1 1]\n",
      " ...\n",
      " [0 1 0 ... 1 1 1]\n",
      " [0 1 1 ... 1 1 1]\n",
      " [0 0 0 ... 0 0 0]]\n",
      "2020-12-24 10:21:48,706 [DEBUG] kashgari - predict seq_length: None, input: (2, 185, 121)\n"
     ]
    },
    {
     "name": "stdout",
     "output_type": "stream",
     "text": [
      "6/6 [==============================] - 2s 329ms/step\n"
     ]
    },
    {
     "name": "stderr",
     "output_type": "stream",
     "text": [
      "2020-12-24 10:21:51,113 [DEBUG] kashgari - predict output: (185, 121)\n",
      "2020-12-24 10:21:51,114 [DEBUG] kashgari - predict output argmax: [[0 1 1 ... 1 1 1]\n",
      " [0 1 1 ... 1 1 1]\n",
      " [0 1 1 ... 1 1 1]\n",
      " ...\n",
      " [0 1 1 ... 1 1 1]\n",
      " [0 1 1 ... 1 1 1]\n",
      " [0 0 0 ... 0 0 0]]\n",
      "2020-12-24 10:21:51,117 [DEBUG] kashgari - predict seq_length: None, input: (2, 112, 109)\n"
     ]
    },
    {
     "name": "stdout",
     "output_type": "stream",
     "text": [
      "4/4 [==============================] - 1s 239ms/step\n"
     ]
    },
    {
     "name": "stderr",
     "output_type": "stream",
     "text": [
      "2020-12-24 10:21:58,904 [DEBUG] kashgari - predict output: (112, 109)\n",
      "2020-12-24 10:21:58,905 [DEBUG] kashgari - predict output argmax: [[0 1 1 ... 1 1 1]\n",
      " [0 1 1 ... 1 1 1]\n",
      " [0 1 1 ... 1 1 1]\n",
      " ...\n",
      " [0 1 1 ... 1 1 1]\n",
      " [0 1 1 ... 1 1 1]\n",
      " [0 0 0 ... 0 0 0]]\n",
      "2020-12-24 10:21:58,907 [DEBUG] kashgari - predict seq_length: None, input: (2, 96, 193)\n"
     ]
    },
    {
     "name": "stdout",
     "output_type": "stream",
     "text": [
      "3/3 [==============================] - 1s 397ms/step\n"
     ]
    },
    {
     "name": "stderr",
     "output_type": "stream",
     "text": [
      "2020-12-24 10:22:05,191 [DEBUG] kashgari - predict output: (96, 193)\n",
      "2020-12-24 10:22:05,192 [DEBUG] kashgari - predict output argmax: [[0 1 1 ... 1 1 1]\n",
      " [0 1 1 ... 1 1 1]\n",
      " [0 1 1 ... 1 1 1]\n",
      " ...\n",
      " [0 1 1 ... 2 2 2]\n",
      " [0 1 1 ... 1 1 1]\n",
      " [0 0 0 ... 0 0 0]]\n",
      "2020-12-24 10:22:05,195 [DEBUG] kashgari - predict seq_length: None, input: (2, 92, 272)\n"
     ]
    },
    {
     "name": "stdout",
     "output_type": "stream",
     "text": [
      "3/3 [==============================] - 2s 566ms/step\n"
     ]
    },
    {
     "name": "stderr",
     "output_type": "stream",
     "text": [
      "2020-12-24 10:22:18,046 [DEBUG] kashgari - predict output: (92, 272)\n",
      "2020-12-24 10:22:18,047 [DEBUG] kashgari - predict output argmax: [[0 1 1 ... 1 1 1]\n",
      " [0 1 1 ... 1 1 1]\n",
      " [0 1 1 ... 1 1 1]\n",
      " ...\n",
      " [0 1 1 ... 1 1 1]\n",
      " [0 1 1 ... 1 1 1]\n",
      " [0 0 0 ... 0 0 0]]\n",
      "2020-12-24 10:22:18,051 [DEBUG] kashgari - predict seq_length: None, input: (2, 158, 114)\n"
     ]
    },
    {
     "name": "stdout",
     "output_type": "stream",
     "text": [
      "5/5 [==============================] - 1s 296ms/step\n"
     ]
    },
    {
     "name": "stderr",
     "output_type": "stream",
     "text": [
      "2020-12-24 10:22:19,950 [DEBUG] kashgari - predict output: (158, 114)\n",
      "2020-12-24 10:22:19,951 [DEBUG] kashgari - predict output argmax: [[0 1 1 ... 1 1 1]\n",
      " [0 1 1 ... 1 1 1]\n",
      " [0 1 1 ... 1 1 1]\n",
      " ...\n",
      " [0 1 1 ... 1 1 1]\n",
      " [0 1 1 ... 1 1 1]\n",
      " [0 0 0 ... 0 0 0]]\n",
      "2020-12-24 10:22:19,955 [DEBUG] kashgari - predict seq_length: None, input: (2, 173, 146)\n"
     ]
    },
    {
     "name": "stdout",
     "output_type": "stream",
     "text": [
      "6/6 [==============================] - 2s 364ms/step\n"
     ]
    },
    {
     "name": "stderr",
     "output_type": "stream",
     "text": [
      "2020-12-24 10:22:29,170 [DEBUG] kashgari - predict output: (173, 146)\n",
      "2020-12-24 10:22:29,171 [DEBUG] kashgari - predict output argmax: [[0 1 1 ... 1 1 1]\n",
      " [0 1 1 ... 1 1 1]\n",
      " [0 1 1 ... 1 1 1]\n",
      " ...\n",
      " [0 1 1 ... 1 1 1]\n",
      " [0 1 1 ... 1 1 1]\n",
      " [0 0 0 ... 0 0 0]]\n",
      "2020-12-24 10:22:29,174 [DEBUG] kashgari - predict seq_length: None, input: (2, 92, 120)\n"
     ]
    },
    {
     "name": "stdout",
     "output_type": "stream",
     "text": [
      "3/3 [==============================] - 1s 249ms/step\n"
     ]
    },
    {
     "name": "stderr",
     "output_type": "stream",
     "text": [
      "2020-12-24 10:22:36,556 [DEBUG] kashgari - predict output: (92, 120)\n",
      "2020-12-24 10:22:36,557 [DEBUG] kashgari - predict output argmax: [[0 1 1 ... 1 1 1]\n",
      " [0 1 1 ... 1 1 1]\n",
      " [0 1 1 ... 1 1 1]\n",
      " ...\n",
      " [0 1 1 ... 1 1 1]\n",
      " [0 1 1 ... 1 1 1]\n",
      " [0 0 0 ... 0 0 0]]\n"
     ]
    }
   ],
   "source": [
    "df = predicting_txt_to_dataframe('/home/Danny/ai-cup-2020/datasets/stage5/test.txt')\n",
    "output_str = \"article_id\\tstart_position\\tend_position\\tentity_text\\tentity_type\\n\"\n",
    "\n",
    "for article_id, text in zip(df['article_id'], df['text']):\n",
    "    x_list = [word for word in text]\n",
    "    y_list = predict_NER(text)\n",
    "    output_str += output_NER(article_id, text, y_list)"
   ]
  },
  {
   "cell_type": "code",
   "execution_count": 24,
   "metadata": {},
   "outputs": [],
   "source": [
    "# print(output_str)"
   ]
  },
  {
   "cell_type": "code",
   "execution_count": 25,
   "metadata": {},
   "outputs": [],
   "source": [
    "output_path = 'output/dialog_{}_epoch_{}_batch_{}.tsv'.format(model_name, epochs, batch_size)\n",
    "with open(output_path, 'w', encoding='utf-8') as f:\n",
    "    f.write(output_str)"
   ]
  },
  {
   "cell_type": "code",
   "execution_count": 26,
   "metadata": {},
   "outputs": [
    {
     "data": {
      "text/html": [
       "<div>\n",
       "<style scoped>\n",
       "    .dataframe tbody tr th:only-of-type {\n",
       "        vertical-align: middle;\n",
       "    }\n",
       "\n",
       "    .dataframe tbody tr th {\n",
       "        vertical-align: top;\n",
       "    }\n",
       "\n",
       "    .dataframe thead th {\n",
       "        text-align: right;\n",
       "    }\n",
       "</style>\n",
       "<table border=\"1\" class=\"dataframe\">\n",
       "  <thead>\n",
       "    <tr style=\"text-align: right;\">\n",
       "      <th></th>\n",
       "      <th>article_id</th>\n",
       "      <th>start_position</th>\n",
       "      <th>end_position</th>\n",
       "      <th>entity_text</th>\n",
       "      <th>entity_type</th>\n",
       "    </tr>\n",
       "  </thead>\n",
       "  <tbody>\n",
       "    <tr>\n",
       "      <th>0</th>\n",
       "      <td>0</td>\n",
       "      <td>113</td>\n",
       "      <td>115</td>\n",
       "      <td>今天</td>\n",
       "      <td>time</td>\n",
       "    </tr>\n",
       "    <tr>\n",
       "      <th>1</th>\n",
       "      <td>0</td>\n",
       "      <td>198</td>\n",
       "      <td>200</td>\n",
       "      <td>新樓</td>\n",
       "      <td>location</td>\n",
       "    </tr>\n",
       "    <tr>\n",
       "      <th>2</th>\n",
       "      <td>0</td>\n",
       "      <td>227</td>\n",
       "      <td>229</td>\n",
       "      <td>麻豆</td>\n",
       "      <td>location</td>\n",
       "    </tr>\n",
       "    <tr>\n",
       "      <th>3</th>\n",
       "      <td>0</td>\n",
       "      <td>295</td>\n",
       "      <td>297</td>\n",
       "      <td>今年</td>\n",
       "      <td>time</td>\n",
       "    </tr>\n",
       "    <tr>\n",
       "      <th>4</th>\n",
       "      <td>1</td>\n",
       "      <td>15</td>\n",
       "      <td>18</td>\n",
       "      <td>這學期</td>\n",
       "      <td>time</td>\n",
       "    </tr>\n",
       "    <tr>\n",
       "      <th>...</th>\n",
       "      <td>...</td>\n",
       "      <td>...</td>\n",
       "      <td>...</td>\n",
       "      <td>...</td>\n",
       "      <td>...</td>\n",
       "    </tr>\n",
       "    <tr>\n",
       "      <th>2928</th>\n",
       "      <td>158</td>\n",
       "      <td>335</td>\n",
       "      <td>337</td>\n",
       "      <td>今天</td>\n",
       "      <td>time</td>\n",
       "    </tr>\n",
       "    <tr>\n",
       "      <th>2929</th>\n",
       "      <td>158</td>\n",
       "      <td>1143</td>\n",
       "      <td>1145</td>\n",
       "      <td>今天</td>\n",
       "      <td>time</td>\n",
       "    </tr>\n",
       "    <tr>\n",
       "      <th>2930</th>\n",
       "      <td>158</td>\n",
       "      <td>1353</td>\n",
       "      <td>1355</td>\n",
       "      <td>今天</td>\n",
       "      <td>time</td>\n",
       "    </tr>\n",
       "    <tr>\n",
       "      <th>2931</th>\n",
       "      <td>158</td>\n",
       "      <td>1381</td>\n",
       "      <td>1390</td>\n",
       "      <td>124699678</td>\n",
       "      <td>time</td>\n",
       "    </tr>\n",
       "    <tr>\n",
       "      <th>2932</th>\n",
       "      <td>158</td>\n",
       "      <td>1489</td>\n",
       "      <td>1491</td>\n",
       "      <td>明年</td>\n",
       "      <td>time</td>\n",
       "    </tr>\n",
       "  </tbody>\n",
       "</table>\n",
       "<p>2933 rows × 5 columns</p>\n",
       "</div>"
      ],
      "text/plain": [
       "      article_id  start_position  end_position entity_text entity_type\n",
       "0              0             113           115          今天        time\n",
       "1              0             198           200          新樓    location\n",
       "2              0             227           229          麻豆    location\n",
       "3              0             295           297          今年        time\n",
       "4              1              15            18         這學期        time\n",
       "...          ...             ...           ...         ...         ...\n",
       "2928         158             335           337          今天        time\n",
       "2929         158            1143          1145          今天        time\n",
       "2930         158            1353          1355          今天        time\n",
       "2931         158            1381          1390   124699678        time\n",
       "2932         158            1489          1491          明年        time\n",
       "\n",
       "[2933 rows x 5 columns]"
      ]
     },
     "execution_count": 26,
     "metadata": {},
     "output_type": "execute_result"
    }
   ],
   "source": [
    "df = pd.read_csv(output_path, sep='\\t')\n",
    "df"
   ]
  },
  {
   "cell_type": "code",
   "execution_count": null,
   "metadata": {},
   "outputs": [],
   "source": []
  },
  {
   "cell_type": "code",
   "execution_count": null,
   "metadata": {},
   "outputs": [],
   "source": []
  }
 ],
 "metadata": {
  "kernelspec": {
   "display_name": "Python 3",
   "language": "python",
   "name": "python3"
  },
  "language_info": {
   "codemirror_mode": {
    "name": "ipython",
    "version": 3
   },
   "file_extension": ".py",
   "mimetype": "text/x-python",
   "name": "python",
   "nbconvert_exporter": "python",
   "pygments_lexer": "ipython3",
   "version": "3.6.10"
  }
 },
 "nbformat": 4,
 "nbformat_minor": 4
}
