{
 "cells": [
  {
   "cell_type": "code",
   "execution_count": 1,
   "metadata": {},
   "outputs": [],
   "source": [
    "import re\n",
    "import os\n",
    "import pandas as pd\n",
    "import tensorflow as tf\n",
    "from matplotlib import pyplot as plt"
   ]
  },
  {
   "cell_type": "code",
   "execution_count": 2,
   "metadata": {},
   "outputs": [],
   "source": [
    "def select_gpu(N):\n",
    "    gpus = tf.config.experimental.list_physical_devices('GPU')\n",
    "    print(gpus)\n",
    "    if gpus:\n",
    "        try:\n",
    "            for gpu in gpus:\n",
    "                tf.config.experimental.set_memory_growth(gpu, True)\n",
    "            tf.config.experimental.set_visible_devices(gpus[N], 'GPU')\n",
    "            logical_gpus = tf.config.experimental.list_logical_devices('GPU')\n",
    "            print(len(gpus), \"Physical GPUs,\", len(logical_gpus), \"Logical GPUs\")\n",
    "        except RuntimeError as e:\n",
    "            print(e)    "
   ]
  },
  {
   "cell_type": "code",
   "execution_count": 3,
   "metadata": {},
   "outputs": [
    {
     "name": "stdout",
     "output_type": "stream",
     "text": [
      "[PhysicalDevice(name='/physical_device:GPU:0', device_type='GPU'), PhysicalDevice(name='/physical_device:GPU:1', device_type='GPU'), PhysicalDevice(name='/physical_device:GPU:2', device_type='GPU')]\n",
      "3 Physical GPUs, 1 Logical GPUs\n"
     ]
    }
   ],
   "source": [
    "select_gpu(0)\n",
    "epochs = 512\n",
    "batch_size = 2048\n",
    "model_name = 'chinese_roberta_wwm_large_ext_L-24_H-1024_A-16'\n",
    "embedding_path = '/home/Danny/pretrain_model/{}'.format(model_name)"
   ]
  },
  {
   "cell_type": "code",
   "execution_count": 4,
   "metadata": {},
   "outputs": [],
   "source": [
    "# 不用儲存article_id, 轉成list\n",
    "def training_txt_to_list_one_dialog(path):\n",
    "    with open(path, 'r') as f:\n",
    "        txt = str(f.read())\n",
    "    txt_list = txt.split('\\n')\n",
    "    text_label_list = list()\n",
    "    tmp = list()\n",
    "    for line in txt_list:\n",
    "        if line == '--------------------':\n",
    "            text_label_list.append(tmp)\n",
    "            tmp = list()\n",
    "            continue\n",
    "        if line == '':\n",
    "            continue\n",
    "        tmp.append(line)\n",
    "    x = list()\n",
    "    y = list()\n",
    "    for text_label in text_label_list:\n",
    "        text = text_label[0]\n",
    "        label = text_label[2:]\n",
    "        label_list = ['O' for i in range(len(text))]\n",
    "        for i in label:\n",
    "            entity = i.split('\\t')\n",
    "            if int(entity[1]) > int(entity[2]):\n",
    "                continue\n",
    "            b = int(entity[1])\n",
    "            label_list[b] = 'B-{}'.format(entity[-1])\n",
    "            for j in range(int(entity[1])+1, int(entity[2])):\n",
    "                label_list[j] = 'I-{}'.format(entity[-1])\n",
    "\n",
    "        text_list = re.split('：', text)\n",
    "        #print(text_list)\n",
    "        last_end_pos = 0\n",
    "        char_num = 0\n",
    "        for idx in range(1,len(text_list)):\n",
    "            string = []\n",
    "            labels = []\n",
    "            end_pos = 0\n",
    "            for idx_iterate_sentence in range(len(text_list[idx])-1,-1,-1):\n",
    "                #print(idx_iterate_sentence)\n",
    "                if text_list[idx][idx_iterate_sentence] == '。' or text_list[idx][idx_iterate_sentence] == '？' or text_list[idx][idx_iterate_sentence] == '！' or text_list[idx][idx_iterate_sentence] == '～' or text_list[idx][idx_iterate_sentence] == '…' or text_list[idx][idx_iterate_sentence] == '.' or text_list[idx][idx_iterate_sentence] == '⋯⋯':\n",
    "                    end_pos = idx_iterate_sentence + 1\n",
    "                    break\n",
    "            for s in text_list[idx-1][last_end_pos:]:\n",
    "                string.append(s)\n",
    "            string.append('：')\n",
    "            #print(string)\n",
    "            for s in text_list[idx][:end_pos]:\n",
    "                string.append(s)\n",
    "            x.append(string)\n",
    "            for label_idx in range(char_num, char_num + len(string)):\n",
    "                try:\n",
    "                    labels.append(label_list[label_idx])\n",
    "                except(IndexError):\n",
    "                    print(labels)\n",
    "            y.append(labels)\n",
    "            char_num += len(string)\n",
    "            last_end_pos = end_pos\n",
    "\n",
    "                \n",
    "    return [x, y]"
   ]
  },
  {
   "cell_type": "code",
   "execution_count": 5,
   "metadata": {},
   "outputs": [],
   "source": [
    "x1, y1 = training_txt_to_list_one_dialog('/home/Danny/ai-cup-2020/datasets/stage1/SampleData_deid.txt')"
   ]
  },
  {
   "cell_type": "code",
   "execution_count": 6,
   "metadata": {},
   "outputs": [],
   "source": [
    "x2, y2 = training_txt_to_list_one_dialog('/home/Danny/ai-cup-2020/datasets/stage2/train_1_update.txt')"
   ]
  },
  {
   "cell_type": "code",
   "execution_count": 7,
   "metadata": {},
   "outputs": [],
   "source": [
    "x4, y4 = training_txt_to_list_one_dialog('/home/Danny/ai-cup-2020/datasets/stage4/train_2.txt')"
   ]
  },
  {
   "cell_type": "code",
   "execution_count": 8,
   "metadata": {},
   "outputs": [
    {
     "data": {
      "text/html": [
       "<div>\n",
       "<style scoped>\n",
       "    .dataframe tbody tr th:only-of-type {\n",
       "        vertical-align: middle;\n",
       "    }\n",
       "\n",
       "    .dataframe tbody tr th {\n",
       "        vertical-align: top;\n",
       "    }\n",
       "\n",
       "    .dataframe thead th {\n",
       "        text-align: right;\n",
       "    }\n",
       "</style>\n",
       "<table border=\"1\" class=\"dataframe\">\n",
       "  <thead>\n",
       "    <tr style=\"text-align: right;\">\n",
       "      <th></th>\n",
       "      <th>x</th>\n",
       "      <th>y</th>\n",
       "    </tr>\n",
       "  </thead>\n",
       "  <tbody>\n",
       "    <tr>\n",
       "      <th>0</th>\n",
       "      <td>['醫', '師', '：', '那', '時', '候', '在', '做', 'S', ...</td>\n",
       "      <td>['O', 'O', 'O', 'O', 'O', 'O', 'O', 'O', 'B-cl...</td>\n",
       "    </tr>\n",
       "    <tr>\n",
       "      <th>1</th>\n",
       "      <td>['醫', '師', '：', '那', '時', '候', '在', '做', 's', ...</td>\n",
       "      <td>['O', 'O', 'O', 'O', 'O', 'O', 'O', 'O', 'B-cl...</td>\n",
       "    </tr>\n",
       "    <tr>\n",
       "      <th>2</th>\n",
       "      <td>['醫', '師', '：', '那', '時', '候', '在', '做', 'C', ...</td>\n",
       "      <td>['O', 'O', 'O', 'O', 'O', 'O', 'O', 'O', 'B-cl...</td>\n",
       "    </tr>\n",
       "    <tr>\n",
       "      <th>3</th>\n",
       "      <td>['醫', '師', '：', '那', '時', '候', '在', '做', 'c', ...</td>\n",
       "      <td>['O', 'O', 'O', 'O', 'O', 'O', 'O', 'O', 'B-cl...</td>\n",
       "    </tr>\n",
       "    <tr>\n",
       "      <th>4</th>\n",
       "      <td>['醫', '師', '：', '那', '時', '候', '在', '做', 'C', ...</td>\n",
       "      <td>['O', 'O', 'O', 'O', 'O', 'O', 'O', 'O', 'B-cl...</td>\n",
       "    </tr>\n",
       "    <tr>\n",
       "      <th>...</th>\n",
       "      <td>...</td>\n",
       "      <td>...</td>\n",
       "    </tr>\n",
       "    <tr>\n",
       "      <th>495</th>\n",
       "      <td>['民', '眾', '：', '第', '二', '支', '7', '8', '0', ...</td>\n",
       "      <td>['O', 'O', 'O', 'O', 'O', 'O', 'B-money', 'I-m...</td>\n",
       "    </tr>\n",
       "    <tr>\n",
       "      <th>496</th>\n",
       "      <td>['民', '眾', '：', '我', '是', '帶', '十', '塊', '錢', ...</td>\n",
       "      <td>['O', 'O', 'O', 'O', 'O', 'O', 'B-money', 'I-m...</td>\n",
       "    </tr>\n",
       "    <tr>\n",
       "      <th>497</th>\n",
       "      <td>['醫', '師', '：', '那', '是', '1', '2', '0', '0', ...</td>\n",
       "      <td>['O', 'O', 'O', 'O', 'O', 'B-money', 'I-money'...</td>\n",
       "    </tr>\n",
       "    <tr>\n",
       "      <th>498</th>\n",
       "      <td>['醫', '師', '：', '齁', '所', '以', '你', '今', '天', ...</td>\n",
       "      <td>['O', 'O', 'O', 'O', 'O', 'O', 'O', 'O', 'O', ...</td>\n",
       "    </tr>\n",
       "    <tr>\n",
       "      <th>499</th>\n",
       "      <td>['醫', '師', '：', '阿', '不', '過', '自', '費', '可', ...</td>\n",
       "      <td>['O', 'O', 'O', 'O', 'O', 'O', 'O', 'O', 'O', ...</td>\n",
       "    </tr>\n",
       "  </tbody>\n",
       "</table>\n",
       "<p>1605 rows × 2 columns</p>\n",
       "</div>"
      ],
      "text/plain": [
       "                                                     x  \\\n",
       "0    ['醫', '師', '：', '那', '時', '候', '在', '做', 'S', ...   \n",
       "1    ['醫', '師', '：', '那', '時', '候', '在', '做', 's', ...   \n",
       "2    ['醫', '師', '：', '那', '時', '候', '在', '做', 'C', ...   \n",
       "3    ['醫', '師', '：', '那', '時', '候', '在', '做', 'c', ...   \n",
       "4    ['醫', '師', '：', '那', '時', '候', '在', '做', 'C', ...   \n",
       "..                                                 ...   \n",
       "495  ['民', '眾', '：', '第', '二', '支', '7', '8', '0', ...   \n",
       "496  ['民', '眾', '：', '我', '是', '帶', '十', '塊', '錢', ...   \n",
       "497  ['醫', '師', '：', '那', '是', '1', '2', '0', '0', ...   \n",
       "498  ['醫', '師', '：', '齁', '所', '以', '你', '今', '天', ...   \n",
       "499  ['醫', '師', '：', '阿', '不', '過', '自', '費', '可', ...   \n",
       "\n",
       "                                                     y  \n",
       "0    ['O', 'O', 'O', 'O', 'O', 'O', 'O', 'O', 'B-cl...  \n",
       "1    ['O', 'O', 'O', 'O', 'O', 'O', 'O', 'O', 'B-cl...  \n",
       "2    ['O', 'O', 'O', 'O', 'O', 'O', 'O', 'O', 'B-cl...  \n",
       "3    ['O', 'O', 'O', 'O', 'O', 'O', 'O', 'O', 'B-cl...  \n",
       "4    ['O', 'O', 'O', 'O', 'O', 'O', 'O', 'O', 'B-cl...  \n",
       "..                                                 ...  \n",
       "495  ['O', 'O', 'O', 'O', 'O', 'O', 'B-money', 'I-m...  \n",
       "496  ['O', 'O', 'O', 'O', 'O', 'O', 'B-money', 'I-m...  \n",
       "497  ['O', 'O', 'O', 'O', 'O', 'B-money', 'I-money'...  \n",
       "498  ['O', 'O', 'O', 'O', 'O', 'O', 'O', 'O', 'O', ...  \n",
       "499  ['O', 'O', 'O', 'O', 'O', 'O', 'O', 'O', 'O', ...  \n",
       "\n",
       "[1605 rows x 2 columns]"
      ]
     },
     "execution_count": 8,
     "metadata": {},
     "output_type": "execute_result"
    }
   ],
   "source": [
    "augmentation_df = pd.DataFrame(columns=['x', 'y'])\n",
    "clinical_event_augmentation_df = pd.read_csv('/home/Danny/ai-cup-2020/datasets/data_augmentation_dialog/clinical_event_augmentation_from_train_label_1223.csv')\n",
    "contact_augmentation_df = pd.read_csv('/home/Danny/ai-cup-2020/datasets/data_augmentation_dialog/contact_augmentation_from_train_label_1223.csv')\n",
    "education_dialog_augmentation_df = pd.read_csv('/home/Danny/ai-cup-2020/datasets/data_augmentation_dialog/education_dialog_augmentation_train_label_1223.csv')\n",
    "family_dialog_augmentation_df = pd.read_csv('/home/Danny/ai-cup-2020/datasets/data_augmentation_dialog/family_dialog_augmentation_from_train_label_1223.csv')\n",
    "med_exam_dialog_augmentation_df = pd.read_csv('/home/Danny/ai-cup-2020/datasets/data_augmentation_dialog/med_exam_dialog_augmentation_from_train_label_1223.csv')\n",
    "money_dialog_augmentation_df = pd.read_csv('/home/Danny/ai-cup-2020/datasets/data_augmentation_dialog/money_dialog_augmentation_from_train_label_1223.csv')\n",
    "augmentation_df = augmentation_df.append(clinical_event_augmentation_df)\n",
    "augmentation_df = augmentation_df.append(contact_augmentation_df)\n",
    "augmentation_df = augmentation_df.append(education_dialog_augmentation_df)\n",
    "augmentation_df = augmentation_df.append(family_dialog_augmentation_df)\n",
    "augmentation_df = augmentation_df.append(med_exam_dialog_augmentation_df)\n",
    "augmentation_df = augmentation_df.append(money_dialog_augmentation_df)\n",
    "augmentation_df"
   ]
  },
  {
   "cell_type": "code",
   "execution_count": 9,
   "metadata": {},
   "outputs": [],
   "source": [
    "augmentation_x_list = augmentation_df['x'].tolist()\n",
    "augmentation_y_list = augmentation_df['y'].tolist()"
   ]
  },
  {
   "cell_type": "code",
   "execution_count": 10,
   "metadata": {},
   "outputs": [
    {
     "name": "stdout",
     "output_type": "stream",
     "text": [
      "42623\n",
      "42623\n"
     ]
    }
   ],
   "source": [
    "x = x1 + x2 + x4 + augmentation_x_list\n",
    "y = y1 + y2 + y4 + augmentation_y_list\n",
    "print(len(x))\n",
    "print(len(y))"
   ]
  },
  {
   "cell_type": "code",
   "execution_count": 11,
   "metadata": {},
   "outputs": [
    {
     "data": {
      "text/html": [
       "<div>\n",
       "<style scoped>\n",
       "    .dataframe tbody tr th:only-of-type {\n",
       "        vertical-align: middle;\n",
       "    }\n",
       "\n",
       "    .dataframe tbody tr th {\n",
       "        vertical-align: top;\n",
       "    }\n",
       "\n",
       "    .dataframe thead th {\n",
       "        text-align: right;\n",
       "    }\n",
       "</style>\n",
       "<table border=\"1\" class=\"dataframe\">\n",
       "  <thead>\n",
       "    <tr style=\"text-align: right;\">\n",
       "      <th></th>\n",
       "      <th>x</th>\n",
       "      <th>y</th>\n",
       "    </tr>\n",
       "  </thead>\n",
       "  <tbody>\n",
       "    <tr>\n",
       "      <th>0</th>\n",
       "      <td>[醫, 師, ：, 你, 有, 做, 超, 音, 波, 嘛, ，, 那, 我, 們, 來, ...</td>\n",
       "      <td>[O, O, O, O, O, O, O, O, O, O, O, O, O, O, O, ...</td>\n",
       "    </tr>\n",
       "    <tr>\n",
       "      <th>1</th>\n",
       "      <td>[民, 眾, ：, 紅, 字, 是, 甚, 麼, 意, 思, ？]</td>\n",
       "      <td>[O, O, O, O, O, O, O, O, O, O, O]</td>\n",
       "    </tr>\n",
       "    <tr>\n",
       "      <th>2</th>\n",
       "      <td>[醫, 師, ：, 就, 是, 肝, 功, 能, 有, 比, 較, 高, ，, 肝, 功, ...</td>\n",
       "      <td>[O, O, O, O, O, O, O, O, O, O, O, O, O, O, O, ...</td>\n",
       "    </tr>\n",
       "    <tr>\n",
       "      <th>3</th>\n",
       "      <td>[民, 眾, ：, 它, 會, 自, 動, 修, 復, 阿, 。]</td>\n",
       "      <td>[O, O, O, O, O, O, O, O, O, O, O]</td>\n",
       "    </tr>\n",
       "    <tr>\n",
       "      <th>4</th>\n",
       "      <td>[醫, 師, ：, 你, 有, 抗, 體, 了, 阿, ，, 所, 以, 你, B, 肝, ...</td>\n",
       "      <td>[O, O, O, O, O, O, O, O, O, O, O, O, O, O, O, ...</td>\n",
       "    </tr>\n",
       "    <tr>\n",
       "      <th>...</th>\n",
       "      <td>...</td>\n",
       "      <td>...</td>\n",
       "    </tr>\n",
       "    <tr>\n",
       "      <th>42618</th>\n",
       "      <td>['民', '眾', '：', '第', '二', '支', '7', '8', '0', ...</td>\n",
       "      <td>['O', 'O', 'O', 'O', 'O', 'O', 'B-money', 'I-m...</td>\n",
       "    </tr>\n",
       "    <tr>\n",
       "      <th>42619</th>\n",
       "      <td>['民', '眾', '：', '我', '是', '帶', '十', '塊', '錢', ...</td>\n",
       "      <td>['O', 'O', 'O', 'O', 'O', 'O', 'B-money', 'I-m...</td>\n",
       "    </tr>\n",
       "    <tr>\n",
       "      <th>42620</th>\n",
       "      <td>['醫', '師', '：', '那', '是', '1', '2', '0', '0', ...</td>\n",
       "      <td>['O', 'O', 'O', 'O', 'O', 'B-money', 'I-money'...</td>\n",
       "    </tr>\n",
       "    <tr>\n",
       "      <th>42621</th>\n",
       "      <td>['醫', '師', '：', '齁', '所', '以', '你', '今', '天', ...</td>\n",
       "      <td>['O', 'O', 'O', 'O', 'O', 'O', 'O', 'O', 'O', ...</td>\n",
       "    </tr>\n",
       "    <tr>\n",
       "      <th>42622</th>\n",
       "      <td>['醫', '師', '：', '阿', '不', '過', '自', '費', '可', ...</td>\n",
       "      <td>['O', 'O', 'O', 'O', 'O', 'O', 'O', 'O', 'O', ...</td>\n",
       "    </tr>\n",
       "  </tbody>\n",
       "</table>\n",
       "<p>42623 rows × 2 columns</p>\n",
       "</div>"
      ],
      "text/plain": [
       "                                                       x  \\\n",
       "0      [醫, 師, ：, 你, 有, 做, 超, 音, 波, 嘛, ，, 那, 我, 們, 來, ...   \n",
       "1                      [民, 眾, ：, 紅, 字, 是, 甚, 麼, 意, 思, ？]   \n",
       "2      [醫, 師, ：, 就, 是, 肝, 功, 能, 有, 比, 較, 高, ，, 肝, 功, ...   \n",
       "3                      [民, 眾, ：, 它, 會, 自, 動, 修, 復, 阿, 。]   \n",
       "4      [醫, 師, ：, 你, 有, 抗, 體, 了, 阿, ，, 所, 以, 你, B, 肝, ...   \n",
       "...                                                  ...   \n",
       "42618  ['民', '眾', '：', '第', '二', '支', '7', '8', '0', ...   \n",
       "42619  ['民', '眾', '：', '我', '是', '帶', '十', '塊', '錢', ...   \n",
       "42620  ['醫', '師', '：', '那', '是', '1', '2', '0', '0', ...   \n",
       "42621  ['醫', '師', '：', '齁', '所', '以', '你', '今', '天', ...   \n",
       "42622  ['醫', '師', '：', '阿', '不', '過', '自', '費', '可', ...   \n",
       "\n",
       "                                                       y  \n",
       "0      [O, O, O, O, O, O, O, O, O, O, O, O, O, O, O, ...  \n",
       "1                      [O, O, O, O, O, O, O, O, O, O, O]  \n",
       "2      [O, O, O, O, O, O, O, O, O, O, O, O, O, O, O, ...  \n",
       "3                      [O, O, O, O, O, O, O, O, O, O, O]  \n",
       "4      [O, O, O, O, O, O, O, O, O, O, O, O, O, O, O, ...  \n",
       "...                                                  ...  \n",
       "42618  ['O', 'O', 'O', 'O', 'O', 'O', 'B-money', 'I-m...  \n",
       "42619  ['O', 'O', 'O', 'O', 'O', 'O', 'B-money', 'I-m...  \n",
       "42620  ['O', 'O', 'O', 'O', 'O', 'B-money', 'I-money'...  \n",
       "42621  ['O', 'O', 'O', 'O', 'O', 'O', 'O', 'O', 'O', ...  \n",
       "42622  ['O', 'O', 'O', 'O', 'O', 'O', 'O', 'O', 'O', ...  \n",
       "\n",
       "[42623 rows x 2 columns]"
      ]
     },
     "execution_count": 11,
     "metadata": {},
     "output_type": "execute_result"
    }
   ],
   "source": [
    "df = pd.DataFrame({'x': x, 'y': y})\n",
    "df"
   ]
  },
  {
   "cell_type": "code",
   "execution_count": 12,
   "metadata": {},
   "outputs": [
    {
     "name": "stderr",
     "output_type": "stream",
     "text": [
      "/home/Danny/anaconda3/lib/python3.6/site-packages/ipykernel_launcher.py:4: SettingWithCopyWarning: \n",
      "A value is trying to be set on a copy of a slice from a DataFrame.\n",
      "Try using .loc[row_indexer,col_indexer] = value instead\n",
      "\n",
      "See the caveats in the documentation: https://pandas.pydata.org/pandas-docs/stable/user_guide/indexing.html#returning-a-view-versus-a-copy\n",
      "  after removing the cwd from sys.path.\n",
      "/home/Danny/anaconda3/lib/python3.6/site-packages/ipykernel_launcher.py:5: SettingWithCopyWarning: \n",
      "A value is trying to be set on a copy of a slice from a DataFrame.\n",
      "Try using .loc[row_indexer,col_indexer] = value instead\n",
      "\n",
      "See the caveats in the documentation: https://pandas.pydata.org/pandas-docs/stable/user_guide/indexing.html#returning-a-view-versus-a-copy\n",
      "  \"\"\"\n"
     ]
    },
    {
     "data": {
      "text/html": [
       "<div>\n",
       "<style scoped>\n",
       "    .dataframe tbody tr th:only-of-type {\n",
       "        vertical-align: middle;\n",
       "    }\n",
       "\n",
       "    .dataframe tbody tr th {\n",
       "        vertical-align: top;\n",
       "    }\n",
       "\n",
       "    .dataframe thead th {\n",
       "        text-align: right;\n",
       "    }\n",
       "</style>\n",
       "<table border=\"1\" class=\"dataframe\">\n",
       "  <thead>\n",
       "    <tr style=\"text-align: right;\">\n",
       "      <th></th>\n",
       "      <th>x</th>\n",
       "      <th>y</th>\n",
       "    </tr>\n",
       "  </thead>\n",
       "  <tbody>\n",
       "    <tr>\n",
       "      <th>0</th>\n",
       "      <td>[醫, 師, ：, 你, 有, 做, 超, 音, 波, 嘛, ，, 那, 我, 們, 來, ...</td>\n",
       "      <td>[O, O, O, O, O, O, O, O, O, O, O, O, O, O, O, ...</td>\n",
       "    </tr>\n",
       "    <tr>\n",
       "      <th>1</th>\n",
       "      <td>[民, 眾, ：, 紅, 字, 是, 甚, 麼, 意, 思, ？]</td>\n",
       "      <td>[O, O, O, O, O, O, O, O, O, O, O]</td>\n",
       "    </tr>\n",
       "    <tr>\n",
       "      <th>2</th>\n",
       "      <td>[醫, 師, ：, 就, 是, 肝, 功, 能, 有, 比, 較, 高, ，, 肝, 功, ...</td>\n",
       "      <td>[O, O, O, O, O, O, O, O, O, O, O, O, O, O, O, ...</td>\n",
       "    </tr>\n",
       "    <tr>\n",
       "      <th>3</th>\n",
       "      <td>[民, 眾, ：, 它, 會, 自, 動, 修, 復, 阿, 。]</td>\n",
       "      <td>[O, O, O, O, O, O, O, O, O, O, O]</td>\n",
       "    </tr>\n",
       "    <tr>\n",
       "      <th>4</th>\n",
       "      <td>[醫, 師, ：, 你, 有, 抗, 體, 了, 阿, ，, 所, 以, 你, B, 肝, ...</td>\n",
       "      <td>[O, O, O, O, O, O, O, O, O, O, O, O, O, O, O, ...</td>\n",
       "    </tr>\n",
       "    <tr>\n",
       "      <th>...</th>\n",
       "      <td>...</td>\n",
       "      <td>...</td>\n",
       "    </tr>\n",
       "    <tr>\n",
       "      <th>42618</th>\n",
       "      <td>[民, 眾, ：, 第, 二, 支, 7, 8, 0, 0, 那, 支, 喔, ？]</td>\n",
       "      <td>[O, O, O, O, O, O, B-money, I-money, I-money, ...</td>\n",
       "    </tr>\n",
       "    <tr>\n",
       "      <th>42619</th>\n",
       "      <td>[民, 眾, ：, 我, 是, 帶, 十, 塊, 錢, 餒, 。]</td>\n",
       "      <td>[O, O, O, O, O, O, B-money, I-money, I-money, ...</td>\n",
       "    </tr>\n",
       "    <tr>\n",
       "      <th>42620</th>\n",
       "      <td>[醫, 師, ：, 那, 是, 1, 2, 0, 0, 。]</td>\n",
       "      <td>[O, O, O, O, O, B-money, I-money, I-money, I-m...</td>\n",
       "    </tr>\n",
       "    <tr>\n",
       "      <th>42621</th>\n",
       "      <td>[醫, 師, ：, 齁, 所, 以, 你, 今, 天, 大, 概, 會, 花, 到, 二, ...</td>\n",
       "      <td>[O, O, O, O, O, O, O, O, O, O, O, O, O, O, B-m...</td>\n",
       "    </tr>\n",
       "    <tr>\n",
       "      <th>42622</th>\n",
       "      <td>[醫, 師, ：, 阿, 不, 過, 自, 費, 可, 不, 可, 以, ？, 好, 像, ...</td>\n",
       "      <td>[O, O, O, O, O, O, O, O, O, O, O, O, O, O, O, ...</td>\n",
       "    </tr>\n",
       "  </tbody>\n",
       "</table>\n",
       "<p>20223 rows × 2 columns</p>\n",
       "</div>"
      ],
      "text/plain": [
       "                                                       x  \\\n",
       "0      [醫, 師, ：, 你, 有, 做, 超, 音, 波, 嘛, ，, 那, 我, 們, 來, ...   \n",
       "1                      [民, 眾, ：, 紅, 字, 是, 甚, 麼, 意, 思, ？]   \n",
       "2      [醫, 師, ：, 就, 是, 肝, 功, 能, 有, 比, 較, 高, ，, 肝, 功, ...   \n",
       "3                      [民, 眾, ：, 它, 會, 自, 動, 修, 復, 阿, 。]   \n",
       "4      [醫, 師, ：, 你, 有, 抗, 體, 了, 阿, ，, 所, 以, 你, B, 肝, ...   \n",
       "...                                                  ...   \n",
       "42618         [民, 眾, ：, 第, 二, 支, 7, 8, 0, 0, 那, 支, 喔, ？]   \n",
       "42619                  [民, 眾, ：, 我, 是, 帶, 十, 塊, 錢, 餒, 。]   \n",
       "42620                     [醫, 師, ：, 那, 是, 1, 2, 0, 0, 。]   \n",
       "42621  [醫, 師, ：, 齁, 所, 以, 你, 今, 天, 大, 概, 會, 花, 到, 二, ...   \n",
       "42622  [醫, 師, ：, 阿, 不, 過, 自, 費, 可, 不, 可, 以, ？, 好, 像, ...   \n",
       "\n",
       "                                                       y  \n",
       "0      [O, O, O, O, O, O, O, O, O, O, O, O, O, O, O, ...  \n",
       "1                      [O, O, O, O, O, O, O, O, O, O, O]  \n",
       "2      [O, O, O, O, O, O, O, O, O, O, O, O, O, O, O, ...  \n",
       "3                      [O, O, O, O, O, O, O, O, O, O, O]  \n",
       "4      [O, O, O, O, O, O, O, O, O, O, O, O, O, O, O, ...  \n",
       "...                                                  ...  \n",
       "42618  [O, O, O, O, O, O, B-money, I-money, I-money, ...  \n",
       "42619  [O, O, O, O, O, O, B-money, I-money, I-money, ...  \n",
       "42620  [O, O, O, O, O, B-money, I-money, I-money, I-m...  \n",
       "42621  [O, O, O, O, O, O, O, O, O, O, O, O, O, O, B-m...  \n",
       "42622  [O, O, O, O, O, O, O, O, O, O, O, O, O, O, O, ...  \n",
       "\n",
       "[20223 rows x 2 columns]"
      ]
     },
     "execution_count": 12,
     "metadata": {},
     "output_type": "execute_result"
    }
   ],
   "source": [
    "df['x'] = df['x'].apply(lambda row : str(row))\n",
    "df['y'] = df['y'].apply(lambda row : str(row))\n",
    "df = df.drop_duplicates()\n",
    "df['x'] = df['x'].apply(lambda row : eval(row))\n",
    "df['y'] = df['y'].apply(lambda row : eval(row))\n",
    "df"
   ]
  },
  {
   "cell_type": "code",
   "execution_count": 13,
   "metadata": {},
   "outputs": [],
   "source": [
    "x = df['x'].to_list()\n",
    "y = df['y'].to_list()"
   ]
  },
  {
   "cell_type": "code",
   "execution_count": 14,
   "metadata": {},
   "outputs": [
    {
     "name": "stdout",
     "output_type": "stream",
     "text": [
      "12942 12942\n",
      "3236 3236\n",
      "4045 4045\n"
     ]
    }
   ],
   "source": [
    "from sklearn.model_selection import train_test_split\n",
    "train_x, test_x, train_y, test_y = train_test_split(x, y, test_size=0.2, random_state=42)\n",
    "train_x, valid_x, train_y, valid_y = train_test_split(train_x, train_y, test_size=0.2, random_state=42)\n",
    "print(len(train_x), len(train_y))\n",
    "print(len(valid_x), len(valid_y))\n",
    "print(len(test_x), len(test_y))"
   ]
  },
  {
   "cell_type": "code",
   "execution_count": 15,
   "metadata": {
    "collapsed": true
   },
   "outputs": [
    {
     "name": "stderr",
     "output_type": "stream",
     "text": [
      "2020-12-24 13:05:06,922 [DEBUG] kashgari - ------------------------------------------------\n",
      "2020-12-24 13:05:06,923 [DEBUG] kashgari - Loaded transformer model's vocab\n",
      "2020-12-24 13:05:06,924 [DEBUG] kashgari - config_path       : /home/Danny/pretrain_model/chinese_roberta_wwm_large_ext_L-24_H-1024_A-16/bert_config.json\n",
      "2020-12-24 13:05:06,924 [DEBUG] kashgari - vocab_path      : /home/Danny/pretrain_model/chinese_roberta_wwm_large_ext_L-24_H-1024_A-16/vocab.txt\n",
      "2020-12-24 13:05:06,925 [DEBUG] kashgari - checkpoint_path : /home/Danny/pretrain_model/chinese_roberta_wwm_large_ext_L-24_H-1024_A-16/bert_model.ckpt\n",
      "2020-12-24 13:05:06,925 [DEBUG] kashgari - Top 50 words    : ['[PAD]', '[unused1]', '[unused2]', '[unused3]', '[unused4]', '[unused5]', '[unused6]', '[unused7]', '[unused8]', '[unused9]', '[unused10]', '[unused11]', '[unused12]', '[unused13]', '[unused14]', '[unused15]', '[unused16]', '[unused17]', '[unused18]', '[unused19]', '[unused20]', '[unused21]', '[unused22]', '[unused23]', '[unused24]', '[unused25]', '[unused26]', '[unused27]', '[unused28]', '[unused29]', '[unused30]', '[unused31]', '[unused32]', '[unused33]', '[unused34]', '[unused35]', '[unused36]', '[unused37]', '[unused38]', '[unused39]', '[unused40]', '[unused41]', '[unused42]', '[unused43]', '[unused44]', '[unused45]', '[unused46]', '[unused47]', '[unused48]', '[unused49]']\n",
      "2020-12-24 13:05:06,925 [DEBUG] kashgari - ------------------------------------------------\n"
     ]
    }
   ],
   "source": [
    "import kashgari\n",
    "from kashgari.tasks.labeling import BiLSTM_CRF_Model\n",
    "from kashgari.embeddings import TransformerEmbedding\n",
    "from keras_radam import RAdam\n",
    "kashgari.config.use_cudnn_cell = True\n",
    "\n",
    "embedding_path = '/home/Danny/pretrain_model/{}'.format(model_name)\n",
    "vocab_path = os.path.join(embedding_path, 'vocab.txt')\n",
    "config_path = os.path.join(embedding_path, 'bert_config.json')\n",
    "checkpoint_path = os.path.join(embedding_path, 'bert_model.ckpt')\n",
    "embedding = TransformerEmbedding(vocab_path, \n",
    "                                 config_path, \n",
    "                                 checkpoint_path,\n",
    "                                 bert_type='bert',\n",
    "                                 sequence_length='auto',\n",
    "                                 trainable=True,\n",
    "                                 task='kashgari.LABELING',\n",
    "                                )\n",
    "\n",
    "model = BiLSTM_CRF_Model(embedding)\n",
    "# model.build_model(train_x, train_y)\n",
    "# model.compile_model(optimizer=RAdam(lr=3e-5))\n",
    "# hyper = model.default_hyper_parameters()\n",
    "# print(hyper)"
   ]
  },
  {
   "cell_type": "code",
   "execution_count": null,
   "metadata": {
    "collapsed": true
   },
   "outputs": [
    {
     "name": "stderr",
     "output_type": "stream",
     "text": [
      "Preparing text vocab dict: 100%|██████████| 12942/12942 [00:00<00:00, 224799.08it/s]\n",
      "Preparing text vocab dict: 100%|██████████| 3236/3236 [00:00<00:00, 178607.85it/s]\n",
      "2020-12-24 13:05:07,013 [DEBUG] kashgari - --- Build vocab dict finished, Total: 1572 ---\n",
      "2020-12-24 13:05:07,013 [DEBUG] kashgari - Top-10: ['[PAD]', '[UNK]', '[CLS]', '[SEP]', '，', '：', '。', '是', '師', '醫']\n",
      "Preparing text vocab dict: 100%|██████████| 12942/12942 [00:00<00:00, 298596.11it/s]\n",
      "Preparing text vocab dict: 100%|██████████| 3236/3236 [00:00<00:00, 294842.24it/s]\n",
      "2020-12-24 13:05:07,071 [DEBUG] kashgari - --- Build vocab dict finished, Total: 28 ---\n",
      "2020-12-24 13:05:07,071 [DEBUG] kashgari - Top-10: ['[PAD]', 'O', 'I-time', 'B-time', 'I-contact', 'I-money', 'I-med_exam', 'B-money', 'I-family', 'B-family']\n",
      "Calculating sequence length: 100%|██████████| 12942/12942 [00:00<00:00, 1346730.90it/s]\n",
      "Calculating sequence length: 100%|██████████| 3236/3236 [00:00<00:00, 961857.26it/s]\n",
      "2020-12-24 13:05:13,250 [DEBUG] kashgari - Calculated sequence length = 57\n",
      "2020-12-24 13:05:15,459 [DEBUG] kashgari - fit input shape: (2, 2048, 57)\n",
      "2020-12-24 13:05:15,460 [DEBUG] kashgari - fit input shape: (2048, 57)\n"
     ]
    },
    {
     "name": "stdout",
     "output_type": "stream",
     "text": [
      "Epoch 1/512\n",
      "6/6 [==============================] - 63s 11s/step - loss: 9.4542 - accuracy: 0.7391 - val_loss: 58.5916 - val_accuracy: 0.9094\n",
      "Epoch 2/512\n",
      "6/6 [==============================] - 56s 9s/step - loss: 3.2016 - accuracy: 0.9421 - val_loss: 58.9108 - val_accuracy: 0.9474\n",
      "Epoch 3/512\n",
      "6/6 [==============================] - 50s 8s/step - loss: 2.6008 - accuracy: 0.9477 - val_loss: 58.9150 - val_accuracy: 0.9425\n",
      "Epoch 4/512\n",
      "6/6 [==============================] - 50s 8s/step - loss: 2.1684 - accuracy: 0.9492 - val_loss: 57.8131 - val_accuracy: 0.9520\n",
      "Epoch 5/512\n",
      "4/6 [===================>..........] - ETA: 11s - loss: 1.9753 - accuracy: 0.9535"
     ]
    }
   ],
   "source": [
    "%%time\n",
    "history = model.fit(train_x,\n",
    "                    train_y,\n",
    "                    valid_x,\n",
    "                    valid_y,\n",
    "                    epochs=epochs,\n",
    "                    batch_size=batch_size,\n",
    "                   )"
   ]
  },
  {
   "cell_type": "code",
   "execution_count": null,
   "metadata": {},
   "outputs": [],
   "source": [
    "model.evaluate(test_x, test_y)\n",
    "model_path = 'model/dialog_{}_epoch_{}_batch_{}'.format(model_name, epochs, batch_size)\n",
    "model.save(model_path)"
   ]
  },
  {
   "cell_type": "code",
   "execution_count": null,
   "metadata": {},
   "outputs": [],
   "source": [
    "# from kashgari.utils import load_model\n",
    "# model_path = 'model/dialog_{}_epoch_{}_batch_{}'.format(model_name, epochs, batch_size)\n",
    "# model = load_model(model_path)\n",
    "# model.evaluate(test_x, test_y)"
   ]
  },
  {
   "cell_type": "code",
   "execution_count": null,
   "metadata": {},
   "outputs": [],
   "source": [
    "plt.plot(history.history['accuracy'])\n",
    "plt.plot(history.history['val_accuracy'])\n",
    "plt.plot(history.history['loss'])\n",
    "plt.plot(history.history['val_loss'])\n",
    "plt.title('model accuracy')\n",
    "plt.ylabel('accuracy')\n",
    "plt.xlabel('epoch')\n",
    "plt.legend(['accuracy', 'val_accuracy', 'loss', 'val_loss'])\n",
    "plt.show()"
   ]
  },
  {
   "cell_type": "code",
   "execution_count": null,
   "metadata": {},
   "outputs": [],
   "source": [
    "# 需要儲存article_id, 轉成dataframe\n",
    "def predicting_txt_to_dataframe(path):    \n",
    "    with open(path, 'r') as f:\n",
    "        txt = str(f.read())\n",
    "        txt_list = txt.split('\\n')\n",
    "    row_list = list()\n",
    "    tmp_list = list()\n",
    "    for row in txt_list:\n",
    "        if row == '--------------------':\n",
    "            tmp_list[0] = tmp_list[0].replace('article_id:', '')\n",
    "            tmp_list[0] = int(tmp_list[0])\n",
    "            row_list.append(tmp_list)\n",
    "            tmp_list = list()\n",
    "            continue\n",
    "        if len(row) > 0:\n",
    "            tmp_list.append(row)\n",
    "    df = pd.DataFrame(row_list, columns=['article_id','text'])\n",
    "    return df"
   ]
  },
  {
   "cell_type": "code",
   "execution_count": null,
   "metadata": {},
   "outputs": [],
   "source": [
    "def predict_NER(text):\n",
    "    x_list = list()    \n",
    "    text_list = re.split('\\u3002|\\uff1f', text)\n",
    "    for article in text_list:\n",
    "        x_list.append([i for i in article])\n",
    "    y_list_list = model.predict(x_list)\n",
    "    y_list = list()\n",
    "    for sentence in y_list_list:\n",
    "        for word in sentence:\n",
    "            y_list.append(word)\n",
    "        y_list.append('O') # append(，。？)\n",
    "    y_list = y_list[:-1]\n",
    "    \n",
    "    return y_list"
   ]
  },
  {
   "cell_type": "code",
   "execution_count": null,
   "metadata": {},
   "outputs": [],
   "source": [
    "def output_NER(article_id, text, y_list):\n",
    "    output_str = str()\n",
    "    flag = False\n",
    "    for i, j in enumerate(y_list):\n",
    "        if j != 'O':\n",
    "            if j[0] == 'B':\n",
    "                start_position = i\n",
    "                entity_type = j.split('-')[-1]\n",
    "                flag = True\n",
    "        elif j == 'O' and flag == True:\n",
    "            end_position = i\n",
    "            flag = False\n",
    "            entity_text = text[start_position: end_position]\n",
    "            entity = '{}\\t{}\\t{}\\t{}\\t{}\\n'.format(article_id, start_position, end_position, entity_text, entity_type)  \n",
    "            output_str += entity\n",
    "    return output_str"
   ]
  },
  {
   "cell_type": "code",
   "execution_count": null,
   "metadata": {},
   "outputs": [],
   "source": [
    "df = predicting_txt_to_dataframe('/home/Danny/ai-cup-2020/datasets/stage5/test.txt')\n",
    "output_str = \"article_id\\tstart_position\\tend_position\\tentity_text\\tentity_type\\n\"\n",
    "\n",
    "for article_id, text in zip(df['article_id'], df['text']):\n",
    "    x_list = [word for word in text]\n",
    "    y_list = predict_NER(text)\n",
    "    output_str += output_NER(article_id, text, y_list)"
   ]
  },
  {
   "cell_type": "code",
   "execution_count": null,
   "metadata": {},
   "outputs": [],
   "source": [
    "# print(output_str)"
   ]
  },
  {
   "cell_type": "code",
   "execution_count": null,
   "metadata": {},
   "outputs": [],
   "source": [
    "output_path = 'output/dialog_{}_epoch_{}_batch_{}.tsv'.format(model_name, epochs, batch_size)\n",
    "with open(output_path, 'w', encoding='utf-8') as f:\n",
    "    f.write(output_str)"
   ]
  },
  {
   "cell_type": "code",
   "execution_count": null,
   "metadata": {},
   "outputs": [],
   "source": [
    "df = pd.read_csv(output_path, sep='\\t')\n",
    "df"
   ]
  },
  {
   "cell_type": "code",
   "execution_count": null,
   "metadata": {},
   "outputs": [],
   "source": []
  },
  {
   "cell_type": "code",
   "execution_count": null,
   "metadata": {},
   "outputs": [],
   "source": []
  }
 ],
 "metadata": {
  "kernelspec": {
   "display_name": "Python 3",
   "language": "python",
   "name": "python3"
  },
  "language_info": {
   "codemirror_mode": {
    "name": "ipython",
    "version": 3
   },
   "file_extension": ".py",
   "mimetype": "text/x-python",
   "name": "python",
   "nbconvert_exporter": "python",
   "pygments_lexer": "ipython3",
   "version": "3.6.9"
  }
 },
 "nbformat": 4,
 "nbformat_minor": 4
}
