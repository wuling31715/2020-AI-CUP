{
 "cells": [
  {
   "cell_type": "code",
   "execution_count": 1,
   "metadata": {},
   "outputs": [],
   "source": [
    "import re\n",
    "import os\n",
    "import pandas as pd\n",
    "import tensorflow as tf\n",
    "from matplotlib import pyplot as plt"
   ]
  },
  {
   "cell_type": "code",
   "execution_count": 2,
   "metadata": {},
   "outputs": [],
   "source": [
    "def select_gpu(N):\n",
    "    gpus = tf.config.experimental.list_physical_devices('GPU')\n",
    "    print(gpus)\n",
    "    if gpus:\n",
    "        try:\n",
    "            for gpu in gpus:\n",
    "                tf.config.experimental.set_memory_growth(gpu, True)\n",
    "            tf.config.experimental.set_visible_devices(gpus[N], 'GPU')\n",
    "            logical_gpus = tf.config.experimental.list_logical_devices('GPU')\n",
    "            print(len(gpus), \"Physical GPUs,\", len(logical_gpus), \"Logical GPUs\")\n",
    "        except RuntimeError as e:\n",
    "            print(e)    "
   ]
  },
  {
   "cell_type": "code",
   "execution_count": 3,
   "metadata": {},
   "outputs": [
    {
     "name": "stdout",
     "output_type": "stream",
     "text": [
      "[PhysicalDevice(name='/physical_device:GPU:0', device_type='GPU'), PhysicalDevice(name='/physical_device:GPU:1', device_type='GPU'), PhysicalDevice(name='/physical_device:GPU:2', device_type='GPU')]\n",
      "3 Physical GPUs, 1 Logical GPUs\n"
     ]
    }
   ],
   "source": [
    "select_gpu(2)\n",
    "epochs = 64\n",
    "batch_size = 2048\n",
    "model_name = 'chinese_roberta_wwm_large_ext_L-24_H-1024_A-16'\n",
    "embedding_path = '/home/Danny/pretrain_model/{}'.format(model_name)"
   ]
  },
  {
   "cell_type": "code",
   "execution_count": 4,
   "metadata": {},
   "outputs": [],
   "source": [
    "# 不用儲存article_id, 轉成list\n",
    "def training_txt_to_list(path):\n",
    "    with open(path, 'r') as f:\n",
    "        txt = str(f.read())\n",
    "    txt_list = txt.split('\\n')\n",
    "    text_label_list = list()\n",
    "    tmp = list()\n",
    "    for line in txt_list:\n",
    "        if line == '--------------------':\n",
    "            text_label_list.append(tmp)\n",
    "            tmp = list()\n",
    "            continue\n",
    "        if line == '':\n",
    "            continue\n",
    "        tmp.append(line)\n",
    "    x = list()\n",
    "    y = list()\n",
    "    for text_label in text_label_list:\n",
    "        text = text_label[0]\n",
    "        label = text_label[2:]\n",
    "        label_list = ['O' for i in range(len(text))]\n",
    "        for i in label:\n",
    "            entity = i.split('\\t')\n",
    "            if int(entity[1]) > int(entity[2]):\n",
    "                continue\n",
    "            b = int(entity[1])\n",
    "            label_list[b] = 'B-{}'.format(entity[-1])\n",
    "            for j in range(int(entity[1])+1, int(entity[2])):\n",
    "                label_list[j] = 'I-{}'.format(entity[-1])\n",
    "        for i, j in enumerate(text):\n",
    "            if j == '。' or j == '？':\n",
    "                label_list[i] = j\n",
    "                \n",
    "        text_list = re.split('\\u3002|\\uff1f', text)\n",
    "        for sentence in text_list:\n",
    "            x.append([i for i in sentence])\n",
    "        x = x[:-1]\n",
    "            \n",
    "        sentence = list()\n",
    "        for i in label_list:\n",
    "            if i == '。' or i == '？':\n",
    "                y.append(sentence)\n",
    "                sentence = list()\n",
    "            else:\n",
    "                sentence.append(i)\n",
    "                \n",
    "    return [x, y]"
   ]
  },
  {
   "cell_type": "code",
   "execution_count": 5,
   "metadata": {},
   "outputs": [],
   "source": [
    "x1, y1 = training_txt_to_list('/home/Danny/ai-cup-2020/datasets/stage1/SampleData_deid.txt')"
   ]
  },
  {
   "cell_type": "code",
   "execution_count": 6,
   "metadata": {},
   "outputs": [],
   "source": [
    "x2, y2 = training_txt_to_list('/home/Danny/ai-cup-2020/datasets/stage2/train_1_update.txt')"
   ]
  },
  {
   "cell_type": "code",
   "execution_count": 7,
   "metadata": {},
   "outputs": [],
   "source": [
    "x4, y4 = training_txt_to_list('/home/Danny/ai-cup-2020/datasets/stage4/train_2.txt')"
   ]
  },
  {
   "cell_type": "code",
   "execution_count": 8,
   "metadata": {},
   "outputs": [
    {
     "name": "stdout",
     "output_type": "stream",
     "text": [
      "44334\n",
      "44334\n"
     ]
    }
   ],
   "source": [
    "x = x1 + x2 + x4\n",
    "y = y1 + y2 + y4\n",
    "print(len(x))\n",
    "print(len(y))"
   ]
  },
  {
   "cell_type": "code",
   "execution_count": 9,
   "metadata": {},
   "outputs": [
    {
     "name": "stdout",
     "output_type": "stream",
     "text": [
      "28373 28373\n",
      "7094 7094\n",
      "8867 8867\n"
     ]
    }
   ],
   "source": [
    "from sklearn.model_selection import train_test_split\n",
    "train_x, test_x, train_y, test_y = train_test_split(x, y, test_size=0.2, random_state=42)\n",
    "train_x, valid_x, train_y, valid_y = train_test_split(train_x, train_y, test_size=0.2, random_state=42)\n",
    "print(len(train_x), len(train_y))\n",
    "print(len(valid_x), len(valid_y))\n",
    "print(len(test_x), len(test_y))"
   ]
  },
  {
   "cell_type": "code",
   "execution_count": 10,
   "metadata": {},
   "outputs": [
    {
     "name": "stderr",
     "output_type": "stream",
     "text": [
      "2020-12-23 13:25:16,658 [DEBUG] kashgari - ------------------------------------------------\n",
      "2020-12-23 13:25:16,659 [DEBUG] kashgari - Loaded transformer model's vocab\n",
      "2020-12-23 13:25:16,659 [DEBUG] kashgari - config_path       : /home/Danny/pretrain_model/chinese_roberta_wwm_large_ext_L-24_H-1024_A-16/bert_config.json\n",
      "2020-12-23 13:25:16,660 [DEBUG] kashgari - vocab_path      : /home/Danny/pretrain_model/chinese_roberta_wwm_large_ext_L-24_H-1024_A-16/vocab.txt\n",
      "2020-12-23 13:25:16,660 [DEBUG] kashgari - checkpoint_path : /home/Danny/pretrain_model/chinese_roberta_wwm_large_ext_L-24_H-1024_A-16/bert_model.ckpt\n",
      "2020-12-23 13:25:16,661 [DEBUG] kashgari - Top 50 words    : ['[PAD]', '[unused1]', '[unused2]', '[unused3]', '[unused4]', '[unused5]', '[unused6]', '[unused7]', '[unused8]', '[unused9]', '[unused10]', '[unused11]', '[unused12]', '[unused13]', '[unused14]', '[unused15]', '[unused16]', '[unused17]', '[unused18]', '[unused19]', '[unused20]', '[unused21]', '[unused22]', '[unused23]', '[unused24]', '[unused25]', '[unused26]', '[unused27]', '[unused28]', '[unused29]', '[unused30]', '[unused31]', '[unused32]', '[unused33]', '[unused34]', '[unused35]', '[unused36]', '[unused37]', '[unused38]', '[unused39]', '[unused40]', '[unused41]', '[unused42]', '[unused43]', '[unused44]', '[unused45]', '[unused46]', '[unused47]', '[unused48]', '[unused49]']\n",
      "2020-12-23 13:25:16,661 [DEBUG] kashgari - ------------------------------------------------\n"
     ]
    }
   ],
   "source": [
    "import kashgari\n",
    "from kashgari.tasks.labeling import BiLSTM_CRF_Model\n",
    "from kashgari.embeddings import TransformerEmbedding\n",
    "from keras_radam import RAdam\n",
    "kashgari.config.use_cudnn_cell = True\n",
    "\n",
    "embedding_path = '/home/Danny/pretrain_model/{}'.format(model_name)\n",
    "vocab_path = os.path.join(embedding_path, 'vocab.txt')\n",
    "config_path = os.path.join(embedding_path, 'bert_config.json')\n",
    "checkpoint_path = os.path.join(embedding_path, 'bert_model.ckpt')\n",
    "embedding = TransformerEmbedding(vocab_path, \n",
    "                                 config_path, \n",
    "                                 checkpoint_path,\n",
    "                                 bert_type='bert',\n",
    "                                 sequence_length='auto',\n",
    "                                 trainable=True,\n",
    "                                 task='kashgari.LABELING',\n",
    "                                )\n",
    "\n",
    "model = BiLSTM_CRF_Model(embedding)\n",
    "# model.build_model(train_x, train_y)\n",
    "# model.compile_model(optimizer=RAdam(lr=3e-5))\n",
    "# hyper = model.default_hyper_parameters()\n",
    "# print(hyper)"
   ]
  },
  {
   "cell_type": "code",
   "execution_count": 11,
   "metadata": {
    "scrolled": false
   },
   "outputs": [
    {
     "name": "stderr",
     "output_type": "stream",
     "text": [
      "Preparing text vocab dict: 100%|██████████| 28373/28373 [00:00<00:00, 285114.27it/s]\n",
      "Preparing text vocab dict: 100%|██████████| 7094/7094 [00:00<00:00, 290931.06it/s]\n",
      "2020-12-23 13:25:16,796 [DEBUG] kashgari - --- Build vocab dict finished, Total: 1731 ---\n",
      "2020-12-23 13:25:16,796 [DEBUG] kashgari - Top-10: ['[PAD]', '[UNK]', '[CLS]', '[SEP]', '：', '，', '師', '是', '民', '眾']\n",
      "Preparing text vocab dict: 100%|██████████| 28373/28373 [00:00<00:00, 396761.32it/s]\n",
      "Preparing text vocab dict: 100%|██████████| 7094/7094 [00:00<00:00, 392015.82it/s]\n",
      "2020-12-23 13:25:16,890 [DEBUG] kashgari - --- Build vocab dict finished, Total: 28 ---\n",
      "2020-12-23 13:25:16,891 [DEBUG] kashgari - Top-10: ['[PAD]', 'O', 'I-time', 'B-time', 'I-med_exam', 'I-name', 'B-med_exam', 'I-location', 'I-money', 'B-name']\n",
      "Calculating sequence length: 100%|██████████| 28373/28373 [00:00<00:00, 1370614.65it/s]\n",
      "Calculating sequence length: 100%|██████████| 7094/7094 [00:00<00:00, 1379945.86it/s]\n",
      "2020-12-23 13:25:23,895 [DEBUG] kashgari - Calculated sequence length = 42\n",
      "2020-12-23 13:25:26,165 [DEBUG] kashgari - fit input shape: (2, 2048, 42)\n",
      "2020-12-23 13:25:26,166 [DEBUG] kashgari - fit input shape: (2048, 42)\n"
     ]
    },
    {
     "name": "stdout",
     "output_type": "stream",
     "text": [
      "Epoch 1/64\n",
      "13/13 [==============================] - 143s 11s/step - loss: 3.8081 - accuracy: 0.8503 - val_loss: 37.0148 - val_accuracy: 0.9674\n",
      "Epoch 2/64\n",
      "13/13 [==============================] - 155s 12s/step - loss: 1.1030 - accuracy: 0.9680 - val_loss: 37.0472 - val_accuracy: 0.9692\n",
      "Epoch 3/64\n",
      "13/13 [==============================] - 154s 12s/step - loss: 0.7911 - accuracy: 0.9721 - val_loss: 36.8715 - val_accuracy: 0.9750\n",
      "Epoch 4/64\n",
      "13/13 [==============================] - 153s 12s/step - loss: 0.6287 - accuracy: 0.9760 - val_loss: 36.9231 - val_accuracy: 0.9780\n",
      "Epoch 5/64\n",
      "13/13 [==============================] - 154s 12s/step - loss: 0.5437 - accuracy: 0.9781 - val_loss: 36.7053 - val_accuracy: 0.9798\n",
      "Epoch 6/64\n",
      "13/13 [==============================] - 155s 12s/step - loss: 0.4867 - accuracy: 0.9797 - val_loss: 36.6653 - val_accuracy: 0.9804\n",
      "Epoch 7/64\n",
      "13/13 [==============================] - 155s 12s/step - loss: 0.4325 - accuracy: 0.9809 - val_loss: 36.6349 - val_accuracy: 0.9813\n",
      "Epoch 8/64\n",
      "13/13 [==============================] - 154s 12s/step - loss: 0.3992 - accuracy: 0.9815 - val_loss: 36.6785 - val_accuracy: 0.9822\n",
      "Epoch 9/64\n",
      "13/13 [==============================] - 154s 12s/step - loss: 0.3692 - accuracy: 0.9823 - val_loss: 36.5418 - val_accuracy: 0.9828\n",
      "Epoch 10/64\n",
      "13/13 [==============================] - 152s 12s/step - loss: 0.3353 - accuracy: 0.9832 - val_loss: 36.6433 - val_accuracy: 0.9838\n",
      "Epoch 11/64\n",
      "13/13 [==============================] - 154s 12s/step - loss: 0.3161 - accuracy: 0.9834 - val_loss: 36.4958 - val_accuracy: 0.9840\n",
      "Epoch 12/64\n",
      "13/13 [==============================] - 156s 12s/step - loss: 0.2904 - accuracy: 0.9845 - val_loss: 36.5886 - val_accuracy: 0.9849\n",
      "Epoch 13/64\n",
      "13/13 [==============================] - 150s 12s/step - loss: 0.2685 - accuracy: 0.9853 - val_loss: 36.5481 - val_accuracy: 0.9856\n",
      "Epoch 14/64\n",
      "13/13 [==============================] - 138s 11s/step - loss: 0.2514 - accuracy: 0.9859 - val_loss: 36.5351 - val_accuracy: 0.9863\n",
      "Epoch 15/64\n",
      "13/13 [==============================] - 153s 12s/step - loss: 0.2387 - accuracy: 0.9866 - val_loss: 36.5664 - val_accuracy: 0.9866\n",
      "Epoch 16/64\n",
      "13/13 [==============================] - 153s 12s/step - loss: 0.2286 - accuracy: 0.9872 - val_loss: 36.3051 - val_accuracy: 0.9871\n",
      "Epoch 17/64\n",
      "13/13 [==============================] - 154s 12s/step - loss: 0.2084 - accuracy: 0.9883 - val_loss: 36.4214 - val_accuracy: 0.9872\n",
      "Epoch 18/64\n",
      "13/13 [==============================] - 155s 12s/step - loss: 0.2077 - accuracy: 0.9884 - val_loss: 36.3010 - val_accuracy: 0.9878\n",
      "Epoch 19/64\n",
      "13/13 [==============================] - 153s 12s/step - loss: 0.1959 - accuracy: 0.9890 - val_loss: 36.1652 - val_accuracy: 0.9883\n",
      "Epoch 20/64\n",
      "13/13 [==============================] - 154s 12s/step - loss: 0.1858 - accuracy: 0.9896 - val_loss: 36.3501 - val_accuracy: 0.9887\n",
      "Epoch 21/64\n",
      "13/13 [==============================] - 154s 12s/step - loss: 0.1787 - accuracy: 0.9899 - val_loss: 36.5328 - val_accuracy: 0.9887\n",
      "Epoch 22/64\n",
      "13/13 [==============================] - 155s 12s/step - loss: 0.1721 - accuracy: 0.9902 - val_loss: 36.3958 - val_accuracy: 0.9893\n",
      "Epoch 23/64\n",
      "13/13 [==============================] - 151s 12s/step - loss: 0.1640 - accuracy: 0.9906 - val_loss: 36.3360 - val_accuracy: 0.9895\n",
      "Epoch 24/64\n",
      "13/13 [==============================] - 155s 12s/step - loss: 0.1572 - accuracy: 0.9911 - val_loss: 36.1352 - val_accuracy: 0.9892\n",
      "Epoch 25/64\n",
      "13/13 [==============================] - 154s 12s/step - loss: 0.1544 - accuracy: 0.9913 - val_loss: 36.3396 - val_accuracy: 0.9904\n",
      "Epoch 26/64\n",
      "13/13 [==============================] - 156s 12s/step - loss: 0.1496 - accuracy: 0.9915 - val_loss: 36.2312 - val_accuracy: 0.9902\n",
      "Epoch 27/64\n",
      "13/13 [==============================] - 154s 12s/step - loss: 0.1428 - accuracy: 0.9919 - val_loss: 36.1026 - val_accuracy: 0.9897\n",
      "Epoch 28/64\n",
      "13/13 [==============================] - 155s 12s/step - loss: 0.1415 - accuracy: 0.9918 - val_loss: 36.1577 - val_accuracy: 0.9908\n",
      "Epoch 29/64\n",
      "13/13 [==============================] - 158s 12s/step - loss: 0.1377 - accuracy: 0.9920 - val_loss: 36.2835 - val_accuracy: 0.9900\n",
      "Epoch 30/64\n",
      "13/13 [==============================] - 157s 12s/step - loss: 0.1261 - accuracy: 0.9926 - val_loss: 36.0725 - val_accuracy: 0.9904\n",
      "Epoch 31/64\n",
      "13/13 [==============================] - 156s 12s/step - loss: 0.1259 - accuracy: 0.9929 - val_loss: 36.1988 - val_accuracy: 0.9909\n",
      "Epoch 32/64\n",
      "13/13 [==============================] - 154s 12s/step - loss: 0.1176 - accuracy: 0.9933 - val_loss: 36.1269 - val_accuracy: 0.9909\n",
      "Epoch 33/64\n",
      "13/13 [==============================] - 154s 12s/step - loss: 0.1127 - accuracy: 0.9935 - val_loss: 36.0602 - val_accuracy: 0.9907\n",
      "Epoch 34/64\n",
      "13/13 [==============================] - 152s 12s/step - loss: 0.1126 - accuracy: 0.9933 - val_loss: 35.9607 - val_accuracy: 0.9909\n",
      "Epoch 35/64\n",
      "13/13 [==============================] - 154s 12s/step - loss: 0.1044 - accuracy: 0.9940 - val_loss: 35.9973 - val_accuracy: 0.9911\n",
      "Epoch 36/64\n",
      "13/13 [==============================] - 154s 12s/step - loss: 0.1037 - accuracy: 0.9940 - val_loss: 36.1653 - val_accuracy: 0.9909\n",
      "Epoch 37/64\n",
      "13/13 [==============================] - 157s 12s/step - loss: 0.0990 - accuracy: 0.9944 - val_loss: 35.9326 - val_accuracy: 0.9908\n",
      "Epoch 38/64\n",
      "13/13 [==============================] - 152s 12s/step - loss: 0.0929 - accuracy: 0.9947 - val_loss: 36.0201 - val_accuracy: 0.9918\n",
      "Epoch 39/64\n",
      "13/13 [==============================] - 155s 12s/step - loss: 0.0928 - accuracy: 0.9945 - val_loss: 36.0496 - val_accuracy: 0.9918\n",
      "Epoch 40/64\n",
      "13/13 [==============================] - 152s 12s/step - loss: 0.0895 - accuracy: 0.9948 - val_loss: 35.9919 - val_accuracy: 0.9919\n",
      "Epoch 41/64\n",
      "13/13 [==============================] - 152s 12s/step - loss: 0.0842 - accuracy: 0.9952 - val_loss: 35.8358 - val_accuracy: 0.9920\n",
      "Epoch 42/64\n",
      "13/13 [==============================] - 154s 12s/step - loss: 0.0804 - accuracy: 0.9954 - val_loss: 35.7446 - val_accuracy: 0.9915\n",
      "Epoch 43/64\n",
      "13/13 [==============================] - 154s 12s/step - loss: 0.0815 - accuracy: 0.9953 - val_loss: 35.8051 - val_accuracy: 0.9920\n",
      "Epoch 44/64\n",
      "13/13 [==============================] - 158s 12s/step - loss: 0.0772 - accuracy: 0.9955 - val_loss: 35.7628 - val_accuracy: 0.9922\n",
      "Epoch 45/64\n",
      "13/13 [==============================] - 152s 12s/step - loss: 0.0761 - accuracy: 0.9955 - val_loss: 35.8732 - val_accuracy: 0.9920\n",
      "Epoch 46/64\n",
      "13/13 [==============================] - 155s 12s/step - loss: 0.0715 - accuracy: 0.9959 - val_loss: 35.8045 - val_accuracy: 0.9924\n",
      "Epoch 47/64\n",
      "13/13 [==============================] - 152s 12s/step - loss: 0.0687 - accuracy: 0.9959 - val_loss: 35.8048 - val_accuracy: 0.9918\n",
      "Epoch 48/64\n",
      "13/13 [==============================] - 153s 12s/step - loss: 0.0669 - accuracy: 0.9962 - val_loss: 35.8374 - val_accuracy: 0.9922\n",
      "Epoch 49/64\n",
      "13/13 [==============================] - 150s 12s/step - loss: 0.0636 - accuracy: 0.9963 - val_loss: 35.6621 - val_accuracy: 0.9919\n",
      "Epoch 50/64\n",
      "13/13 [==============================] - 153s 12s/step - loss: 0.0635 - accuracy: 0.9963 - val_loss: 35.9074 - val_accuracy: 0.9922\n",
      "Epoch 51/64\n",
      "13/13 [==============================] - 154s 12s/step - loss: 0.0601 - accuracy: 0.9966 - val_loss: 35.7294 - val_accuracy: 0.9927\n",
      "Epoch 52/64\n",
      "13/13 [==============================] - 156s 12s/step - loss: 0.0608 - accuracy: 0.9966 - val_loss: 35.6639 - val_accuracy: 0.9923\n",
      "Epoch 53/64\n",
      "13/13 [==============================] - 157s 12s/step - loss: 0.0549 - accuracy: 0.9970 - val_loss: 35.7594 - val_accuracy: 0.9931\n",
      "Epoch 54/64\n",
      "13/13 [==============================] - 158s 12s/step - loss: 0.0539 - accuracy: 0.9971 - val_loss: 35.6594 - val_accuracy: 0.9930\n",
      "Epoch 55/64\n",
      "13/13 [==============================] - 158s 12s/step - loss: 0.0516 - accuracy: 0.9971 - val_loss: 35.5315 - val_accuracy: 0.9930\n",
      "Epoch 56/64\n",
      "13/13 [==============================] - 157s 12s/step - loss: 0.0503 - accuracy: 0.9972 - val_loss: 35.7005 - val_accuracy: 0.9926\n",
      "Epoch 57/64\n",
      "13/13 [==============================] - 160s 12s/step - loss: 0.0520 - accuracy: 0.9971 - val_loss: 35.9512 - val_accuracy: 0.9917\n"
     ]
    },
    {
     "name": "stdout",
     "output_type": "stream",
     "text": [
      "Epoch 58/64\n",
      "13/13 [==============================] - 139s 11s/step - loss: 0.0501 - accuracy: 0.9972 - val_loss: 35.7050 - val_accuracy: 0.9921\n",
      "Epoch 59/64\n",
      "13/13 [==============================] - 120s 9s/step - loss: 0.0461 - accuracy: 0.9976 - val_loss: 35.7054 - val_accuracy: 0.9930\n",
      "Epoch 60/64\n",
      "13/13 [==============================] - 122s 9s/step - loss: 0.0446 - accuracy: 0.9975 - val_loss: 35.8339 - val_accuracy: 0.9931\n",
      "Epoch 61/64\n",
      "13/13 [==============================] - 144s 11s/step - loss: 0.0440 - accuracy: 0.9976 - val_loss: 35.6726 - val_accuracy: 0.9932\n",
      "Epoch 62/64\n",
      "13/13 [==============================] - 149s 11s/step - loss: 0.0414 - accuracy: 0.9978 - val_loss: 35.6354 - val_accuracy: 0.9930\n",
      "Epoch 63/64\n",
      "13/13 [==============================] - 151s 12s/step - loss: 0.0424 - accuracy: 0.9976 - val_loss: 35.6470 - val_accuracy: 0.9928\n",
      "Epoch 64/64\n",
      "13/13 [==============================] - 150s 12s/step - loss: 0.0408 - accuracy: 0.9978 - val_loss: 35.6158 - val_accuracy: 0.9929\n",
      "CPU times: user 48min 8s, sys: 15min 47s, total: 1h 3min 55s\n",
      "Wall time: 2h 53min 45s\n"
     ]
    }
   ],
   "source": [
    "%%time\n",
    "history = model.fit(train_x,\n",
    "                    train_y,\n",
    "                    valid_x,\n",
    "                    valid_y,\n",
    "                    epochs=epochs,\n",
    "                    batch_size=batch_size,\n",
    "                   )"
   ]
  },
  {
   "cell_type": "code",
   "execution_count": 12,
   "metadata": {},
   "outputs": [
    {
     "name": "stderr",
     "output_type": "stream",
     "text": [
      "2020-12-23 16:22:53,500 [INFO] kashgari - model saved to /home/Danny/ai-cup-2020/danny/roberta/model/chinese_roberta_wwm_large_ext_L-24_H-1024_A-16_epoch_64_batch_2048\n"
     ]
    },
    {
     "data": {
      "text/plain": [
       "'/home/Danny/ai-cup-2020/danny/roberta/model/chinese_roberta_wwm_large_ext_L-24_H-1024_A-16_epoch_64_batch_2048'"
      ]
     },
     "execution_count": 12,
     "metadata": {},
     "output_type": "execute_result"
    }
   ],
   "source": [
    "model.evaluate(test_x, test_y)\n",
    "model_path = 'model/{}_epoch_{}_batch_{}'.format(model_name, epochs, batch_size)\n",
    "model.save(model_path)"
   ]
  },
  {
   "cell_type": "code",
   "execution_count": 13,
   "metadata": {},
   "outputs": [
    {
     "name": "stderr",
     "output_type": "stream",
     "text": [
      "/home/Danny/anaconda3/lib/python3.6/site-packages/ipykernel_launcher.py:3: DeprecationWarning: The 'load_model' function is deprecated, use 'XX_Model.load_model' instead\n",
      "  This is separate from the ipykernel package so we can avoid doing imports until\n",
      "2020-12-23 16:22:53,666 [DEBUG] kashgari - ------------------------------------------------\n",
      "2020-12-23 16:22:53,671 [DEBUG] kashgari - Loaded transformer model's vocab\n",
      "2020-12-23 16:22:53,675 [DEBUG] kashgari - config_path       : /home/Danny/pretrain_model/chinese_roberta_wwm_large_ext_L-24_H-1024_A-16/bert_config.json\n",
      "2020-12-23 16:22:53,676 [DEBUG] kashgari - vocab_path      : /home/Danny/pretrain_model/chinese_roberta_wwm_large_ext_L-24_H-1024_A-16/vocab.txt\n",
      "2020-12-23 16:22:53,676 [DEBUG] kashgari - checkpoint_path : /home/Danny/pretrain_model/chinese_roberta_wwm_large_ext_L-24_H-1024_A-16/bert_model.ckpt\n",
      "2020-12-23 16:22:53,676 [DEBUG] kashgari - Top 50 words    : ['[PAD]', '[unused1]', '[unused2]', '[unused3]', '[unused4]', '[unused5]', '[unused6]', '[unused7]', '[unused8]', '[unused9]', '[unused10]', '[unused11]', '[unused12]', '[unused13]', '[unused14]', '[unused15]', '[unused16]', '[unused17]', '[unused18]', '[unused19]', '[unused20]', '[unused21]', '[unused22]', '[unused23]', '[unused24]', '[unused25]', '[unused26]', '[unused27]', '[unused28]', '[unused29]', '[unused30]', '[unused31]', '[unused32]', '[unused33]', '[unused34]', '[unused35]', '[unused36]', '[unused37]', '[unused38]', '[unused39]', '[unused40]', '[unused41]', '[unused42]', '[unused43]', '[unused44]', '[unused45]', '[unused46]', '[unused47]', '[unused48]', '[unused49]']\n",
      "2020-12-23 16:22:53,677 [DEBUG] kashgari - ------------------------------------------------\n",
      "2020-12-23 16:23:12,714 [WARNING] kashgari - Sequence length is None, will use the max length of the samples, which is 295\n",
      "2020-12-23 16:23:12,794 [DEBUG] kashgari - predict seq_length: None, input: (2, 8867, 295)\n"
     ]
    },
    {
     "name": "stdout",
     "output_type": "stream",
     "text": [
      "278/278 [==============================] - 297s 1s/step\n"
     ]
    },
    {
     "name": "stderr",
     "output_type": "stream",
     "text": [
      "2020-12-23 16:28:18,473 [DEBUG] kashgari - predict output: (8867, 295)\n",
      "2020-12-23 16:28:18,474 [DEBUG] kashgari - predict output argmax: [[0 1 1 ... 1 1 1]\n",
      " [0 1 1 ... 1 1 1]\n",
      " [0 1 1 ... 1 1 1]\n",
      " ...\n",
      " [0 1 1 ... 1 1 1]\n",
      " [0 1 1 ... 1 1 1]\n",
      " [0 1 1 ... 1 1 1]]\n"
     ]
    },
    {
     "name": "stdout",
     "output_type": "stream",
     "text": [
      "\n",
      "                precision    recall  f1-score   support\n",
      "\n",
      "          time     0.7682    0.8488    0.8065       820\n",
      "      location     0.8846    0.8364    0.8598       110\n",
      "      med_exam     0.7466    0.9008    0.8165       121\n",
      "         money     0.8511    0.8333    0.8421        48\n",
      "          name     0.8229    0.8229    0.8229        96\n",
      "        family     0.7500    0.6667    0.7059         9\n",
      "            ID     0.0000    0.0000    0.0000         6\n",
      "       contact     0.6667    0.5000    0.5714         4\n",
      "    profession     0.2500    0.1250    0.1667         8\n",
      "clinical_event     0.0000    0.0000    0.0000         3\n",
      "        others     0.0000    0.0000    0.0000         1\n",
      "\n",
      "     micro avg     0.7771    0.8361    0.8055      1226\n",
      "     macro avg     0.7739    0.8361    0.8027      1226\n",
      "\n"
     ]
    },
    {
     "data": {
      "text/plain": [
       "{'detail': {'time': {'precision': 0.7682119205298014,\n",
       "   'recall': 0.848780487804878,\n",
       "   'f1-score': 0.8064889918887601,\n",
       "   'support': 820},\n",
       "  'location': {'precision': 0.8846153846153846,\n",
       "   'recall': 0.8363636363636363,\n",
       "   'f1-score': 0.8598130841121494,\n",
       "   'support': 110},\n",
       "  'med_exam': {'precision': 0.7465753424657534,\n",
       "   'recall': 0.9008264462809917,\n",
       "   'f1-score': 0.8164794007490637,\n",
       "   'support': 121},\n",
       "  'money': {'precision': 0.851063829787234,\n",
       "   'recall': 0.8333333333333334,\n",
       "   'f1-score': 0.8421052631578947,\n",
       "   'support': 48},\n",
       "  'name': {'precision': 0.8229166666666666,\n",
       "   'recall': 0.8229166666666666,\n",
       "   'f1-score': 0.8229166666666666,\n",
       "   'support': 96},\n",
       "  'family': {'precision': 0.75,\n",
       "   'recall': 0.6666666666666666,\n",
       "   'f1-score': 0.7058823529411765,\n",
       "   'support': 9},\n",
       "  'ID': {'precision': 0.0, 'recall': 0.0, 'f1-score': 0, 'support': 6},\n",
       "  'contact': {'precision': 0.6666666666666666,\n",
       "   'recall': 0.5,\n",
       "   'f1-score': 0.5714285714285715,\n",
       "   'support': 4},\n",
       "  'profession': {'precision': 0.25,\n",
       "   'recall': 0.125,\n",
       "   'f1-score': 0.16666666666666666,\n",
       "   'support': 8},\n",
       "  'clinical_event': {'precision': 0,\n",
       "   'recall': 0.0,\n",
       "   'f1-score': 0,\n",
       "   'support': 3},\n",
       "  'others': {'precision': 0, 'recall': 0.0, 'f1-score': 0, 'support': 1}},\n",
       " 'precision': 0.7739354111557418,\n",
       " 'recall': 0.8360522022838499,\n",
       " 'f1-score': 0.8026814531148887,\n",
       " 'support': 1226}"
      ]
     },
     "execution_count": 13,
     "metadata": {},
     "output_type": "execute_result"
    }
   ],
   "source": [
    "from kashgari.utils import load_model\n",
    "model_path = 'model/{}_epoch_{}_batch_{}'.format(model_name, epochs, batch_size)\n",
    "model = load_model(model_path)\n",
    "model.evaluate(test_x, test_y)"
   ]
  },
  {
   "cell_type": "code",
   "execution_count": 14,
   "metadata": {},
   "outputs": [
    {
     "data": {
      "image/png": "[encoded data removed]",
      "text/plain": [
       "<Figure size 432x288 with 1 Axes>"
      ]
     },
     "metadata": {
      "needs_background": "light"
     },
     "output_type": "display_data"
    }
   ],
   "source": [
    "plt.plot(history.history['accuracy'])\n",
    "plt.plot(history.history['val_accuracy'])\n",
    "plt.plot(history.history['loss'])\n",
    "plt.plot(history.history['val_loss'])\n",
    "plt.title('model accuracy')\n",
    "plt.ylabel('accuracy')\n",
    "plt.xlabel('epoch')\n",
    "plt.legend(['accuracy', 'val_accuracy', 'loss', 'val_loss'])\n",
    "plt.show()"
   ]
  },
  {
   "cell_type": "code",
   "execution_count": 15,
   "metadata": {},
   "outputs": [],
   "source": [
    "# 需要儲存article_id, 轉成dataframe\n",
    "def predicting_txt_to_dataframe(path):    \n",
    "    with open(path, 'r') as f:\n",
    "        txt = str(f.read())\n",
    "        txt_list = txt.split('\\n')\n",
    "    row_list = list()\n",
    "    tmp_list = list()\n",
    "    for row in txt_list:\n",
    "        if row == '--------------------':\n",
    "            tmp_list[0] = tmp_list[0].replace('article_id:', '')\n",
    "            tmp_list[0] = int(tmp_list[0])\n",
    "            row_list.append(tmp_list)\n",
    "            tmp_list = list()\n",
    "            continue\n",
    "        if len(row) > 0:\n",
    "            tmp_list.append(row)\n",
    "    df = pd.DataFrame(row_list, columns=['article_id','text'])\n",
    "    return df"
   ]
  },
  {
   "cell_type": "code",
   "execution_count": 16,
   "metadata": {},
   "outputs": [],
   "source": [
    "def predict_NER(text):\n",
    "    x_list = list()    \n",
    "    text_list = re.split('\\u3002|\\uff1f', text)\n",
    "    for article in text_list:\n",
    "        x_list.append([i for i in article])\n",
    "    y_list_list = model.predict(x_list)\n",
    "    y_list = list()\n",
    "    for sentence in y_list_list:\n",
    "        for word in sentence:\n",
    "            y_list.append(word)\n",
    "        y_list.append('O') # append(，。？)\n",
    "    y_list = y_list[:-1]\n",
    "    return y_list"
   ]
  },
  {
   "cell_type": "code",
   "execution_count": 17,
   "metadata": {},
   "outputs": [],
   "source": [
    "def output_NER(article_id, text, y_list):\n",
    "    output_str = str()\n",
    "    flag = False\n",
    "    for i, j in enumerate(y_list):\n",
    "        if j != 'O':\n",
    "            if j[0] == 'B':\n",
    "                start_position = i\n",
    "                entity_type = j.split('-')[-1]\n",
    "                flag = True\n",
    "        elif j == 'O' and flag == True:\n",
    "            end_position = i\n",
    "            flag = False\n",
    "            entity_text = text[start_position: end_position]\n",
    "            entity = '{}\\t{}\\t{}\\t{}\\t{}\\n'.format(article_id, start_position, end_position, entity_text, entity_type)  \n",
    "            output_str += entity\n",
    "    return output_str"
   ]
  },
  {
   "cell_type": "code",
   "execution_count": 18,
   "metadata": {},
   "outputs": [
    {
     "name": "stderr",
     "output_type": "stream",
     "text": [
      "2020-12-23 16:28:19,609 [DEBUG] kashgari - predict seq_length: None, input: (2, 46, 34)\n"
     ]
    },
    {
     "name": "stdout",
     "output_type": "stream",
     "text": [
      "2/2 [==============================] - 0s 42ms/step\n"
     ]
    },
    {
     "name": "stderr",
     "output_type": "stream",
     "text": [
      "2020-12-23 16:28:26,424 [DEBUG] kashgari - predict output: (46, 34)\n",
      "2020-12-23 16:28:26,425 [DEBUG] kashgari - predict output argmax: [[0 1 1 ... 1 1 1]\n",
      " [0 1 1 ... 1 1 1]\n",
      " [0 1 1 ... 1 1 1]\n",
      " ...\n",
      " [0 1 1 ... 1 1 1]\n",
      " [0 1 1 ... 1 1 1]\n",
      " [0 0 0 ... 0 0 0]]\n",
      "2020-12-23 16:28:26,427 [DEBUG] kashgari - predict seq_length: None, input: (2, 88, 41)\n"
     ]
    },
    {
     "name": "stdout",
     "output_type": "stream",
     "text": [
      "3/3 [==============================] - 0s 93ms/step\n"
     ]
    },
    {
     "name": "stderr",
     "output_type": "stream",
     "text": [
      "2020-12-23 16:28:33,217 [DEBUG] kashgari - predict output: (88, 41)\n",
      "2020-12-23 16:28:33,218 [DEBUG] kashgari - predict output argmax: [[0 1 1 ... 1 1 1]\n",
      " [0 1 1 ... 1 1 1]\n",
      " [0 1 1 ... 1 1 1]\n",
      " ...\n",
      " [0 1 1 ... 1 1 1]\n",
      " [0 1 1 ... 1 1 1]\n",
      " [0 0 0 ... 0 0 0]]\n",
      "2020-12-23 16:28:33,222 [DEBUG] kashgari - predict seq_length: None, input: (2, 88, 163)\n"
     ]
    },
    {
     "name": "stdout",
     "output_type": "stream",
     "text": [
      "3/3 [==============================] - 1s 327ms/step\n"
     ]
    },
    {
     "name": "stderr",
     "output_type": "stream",
     "text": [
      "2020-12-23 16:28:40,908 [DEBUG] kashgari - predict output: (88, 163)\n",
      "2020-12-23 16:28:40,909 [DEBUG] kashgari - predict output argmax: [[0 1 1 ... 1 1 1]\n",
      " [0 1 1 ... 1 1 1]\n",
      " [0 1 1 ... 1 1 1]\n",
      " ...\n",
      " [0 1 1 ... 1 1 1]\n",
      " [0 1 1 ... 1 1 1]\n",
      " [0 1 1 ... 1 1 0]]\n",
      "2020-12-23 16:28:40,911 [DEBUG] kashgari - predict seq_length: None, input: (2, 41, 86)\n"
     ]
    },
    {
     "name": "stdout",
     "output_type": "stream",
     "text": [
      "WARNING:tensorflow:5 out of the last 287 calls to <function Model.make_predict_function.<locals>.predict_function at 0x7f48c9928a60> triggered tf.function retracing. Tracing is expensive and the excessive number of tracings is likely due to passing python objects instead of tensors. Also, tf.function has experimental_relax_shapes=True option that relaxes argument shapes that can avoid unnecessary retracing. Please refer to https://www.tensorflow.org/tutorials/customization/performance#python_or_tensor_args and https://www.tensorflow.org/api_docs/python/tf/function for more details.\n",
      "2/2 [==============================] - 0s 64ms/step\n"
     ]
    },
    {
     "name": "stderr",
     "output_type": "stream",
     "text": [
      "2020-12-23 16:28:48,101 [DEBUG] kashgari - predict output: (41, 86)\n",
      "2020-12-23 16:28:48,102 [DEBUG] kashgari - predict output argmax: [[0 1 1 ... 1 1 1]\n",
      " [0 1 1 ... 1 1 1]\n",
      " [0 1 1 ... 1 1 1]\n",
      " ...\n",
      " [0 1 1 ... 1 1 1]\n",
      " [0 1 1 ... 1 1 1]\n",
      " [0 0 0 ... 0 0 0]]\n",
      "2020-12-23 16:28:48,103 [DEBUG] kashgari - predict seq_length: None, input: (2, 39, 90)\n"
     ]
    },
    {
     "name": "stdout",
     "output_type": "stream",
     "text": [
      "WARNING:tensorflow:5 out of the last 11 calls to <function Model.make_predict_function.<locals>.predict_function at 0x7f48c9928a60> triggered tf.function retracing. Tracing is expensive and the excessive number of tracings is likely due to passing python objects instead of tensors. Also, tf.function has experimental_relax_shapes=True option that relaxes argument shapes that can avoid unnecessary retracing. Please refer to https://www.tensorflow.org/tutorials/customization/performance#python_or_tensor_args and https://www.tensorflow.org/api_docs/python/tf/function for more details.\n",
      "2/2 [==============================] - 0s 50ms/step\n"
     ]
    },
    {
     "name": "stderr",
     "output_type": "stream",
     "text": [
      "2020-12-23 16:28:54,686 [DEBUG] kashgari - predict output: (39, 90)\n",
      "2020-12-23 16:28:54,687 [DEBUG] kashgari - predict output argmax: [[0 1 1 ... 1 1 1]\n",
      " [0 1 1 ... 1 1 1]\n",
      " [0 1 1 ... 1 1 1]\n",
      " ...\n",
      " [0 1 1 ... 1 1 1]\n",
      " [0 1 1 ... 1 1 1]\n",
      " [0 0 0 ... 0 0 0]]\n",
      "2020-12-23 16:28:54,691 [DEBUG] kashgari - predict seq_length: None, input: (2, 157, 57)\n"
     ]
    },
    {
     "name": "stdout",
     "output_type": "stream",
     "text": [
      "WARNING:tensorflow:5 out of the last 11 calls to <function Model.make_predict_function.<locals>.predict_function at 0x7f48c9928a60> triggered tf.function retracing. Tracing is expensive and the excessive number of tracings is likely due to passing python objects instead of tensors. Also, tf.function has experimental_relax_shapes=True option that relaxes argument shapes that can avoid unnecessary retracing. Please refer to https://www.tensorflow.org/tutorials/customization/performance#python_or_tensor_args and https://www.tensorflow.org/api_docs/python/tf/function for more details.\n",
      "5/5 [==============================] - 1s 156ms/step\n"
     ]
    },
    {
     "name": "stderr",
     "output_type": "stream",
     "text": [
      "2020-12-23 16:29:02,276 [DEBUG] kashgari - predict output: (157, 57)\n",
      "2020-12-23 16:29:02,276 [DEBUG] kashgari - predict output argmax: [[0 1 1 ... 1 1 1]\n",
      " [0 1 1 ... 1 1 1]\n",
      " [0 1 1 ... 1 1 1]\n",
      " ...\n",
      " [0 1 1 ... 1 1 1]\n",
      " [0 1 1 ... 1 1 1]\n",
      " [0 1 1 ... 1 1 1]]\n",
      "2020-12-23 16:29:02,280 [DEBUG] kashgari - predict seq_length: None, input: (2, 174, 65)\n"
     ]
    },
    {
     "name": "stdout",
     "output_type": "stream",
     "text": [
      "WARNING:tensorflow:5 out of the last 13 calls to <function Model.make_predict_function.<locals>.predict_function at 0x7f48c9928a60> triggered tf.function retracing. Tracing is expensive and the excessive number of tracings is likely due to passing python objects instead of tensors. Also, tf.function has experimental_relax_shapes=True option that relaxes argument shapes that can avoid unnecessary retracing. Please refer to https://www.tensorflow.org/tutorials/customization/performance#python_or_tensor_args and https://www.tensorflow.org/api_docs/python/tf/function for more details.\n",
      "6/6 [==============================] - 1s 167ms/step\n"
     ]
    },
    {
     "name": "stderr",
     "output_type": "stream",
     "text": [
      "2020-12-23 16:29:09,750 [DEBUG] kashgari - predict output: (174, 65)\n",
      "2020-12-23 16:29:09,752 [DEBUG] kashgari - predict output argmax: [[0 1 1 ... 1 1 1]\n",
      " [0 1 1 ... 1 1 1]\n",
      " [0 1 1 ... 1 1 1]\n",
      " ...\n",
      " [0 6 4 ... 4 4 4]\n",
      " [0 1 1 ... 1 1 1]\n",
      " [0 0 0 ... 0 0 0]]\n",
      "2020-12-23 16:29:09,754 [DEBUG] kashgari - predict seq_length: None, input: (2, 83, 57)\n"
     ]
    },
    {
     "name": "stdout",
     "output_type": "stream",
     "text": [
      "3/3 [==============================] - 0s 110ms/step\n"
     ]
    },
    {
     "name": "stderr",
     "output_type": "stream",
     "text": [
      "2020-12-23 16:29:10,316 [DEBUG] kashgari - predict output: (83, 57)\n",
      "2020-12-23 16:29:10,317 [DEBUG] kashgari - predict output argmax: [[0 1 1 ... 1 1 1]\n",
      " [0 1 1 ... 1 1 1]\n",
      " [0 1 1 ... 1 1 0]\n",
      " ...\n",
      " [0 1 1 ... 1 1 1]\n",
      " [0 1 1 ... 1 1 1]\n",
      " [0 0 0 ... 0 0 0]]\n",
      "2020-12-23 16:29:10,320 [DEBUG] kashgari - predict seq_length: None, input: (2, 98, 53)\n"
     ]
    },
    {
     "name": "stdout",
     "output_type": "stream",
     "text": [
      "4/4 [==============================] - 0s 107ms/step\n"
     ]
    },
    {
     "name": "stderr",
     "output_type": "stream",
     "text": [
      "2020-12-23 16:29:18,702 [DEBUG] kashgari - predict output: (98, 53)\n",
      "2020-12-23 16:29:18,702 [DEBUG] kashgari - predict output argmax: [[ 0  1  1 ...  1  1  1]\n",
      " [ 0  1  1 ...  1  1  1]\n",
      " [ 0  1  1 ...  4  4  4]\n",
      " ...\n",
      " [ 0  1  1 ...  1  1  1]\n",
      " [ 0  1  1 ... 11 11 11]\n",
      " [ 0  0  0 ...  0  0  0]]\n",
      "2020-12-23 16:29:18,706 [DEBUG] kashgari - predict seq_length: None, input: (2, 193, 84)\n"
     ]
    },
    {
     "name": "stdout",
     "output_type": "stream",
     "text": [
      "7/7 [==============================] - 1s 208ms/step\n"
     ]
    },
    {
     "name": "stderr",
     "output_type": "stream",
     "text": [
      "2020-12-23 16:29:27,640 [DEBUG] kashgari - predict output: (193, 84)\n",
      "2020-12-23 16:29:27,640 [DEBUG] kashgari - predict output argmax: [[0 1 1 ... 1 1 1]\n",
      " [0 1 1 ... 1 1 1]\n",
      " [0 1 1 ... 1 1 1]\n",
      " ...\n",
      " [0 1 1 ... 1 1 1]\n",
      " [0 1 1 ... 1 1 1]\n",
      " [0 0 0 ... 0 0 0]]\n",
      "2020-12-23 16:29:27,643 [DEBUG] kashgari - predict seq_length: None, input: (2, 98, 84)\n"
     ]
    },
    {
     "name": "stdout",
     "output_type": "stream",
     "text": [
      "4/4 [==============================] - 1s 157ms/step\n"
     ]
    },
    {
     "name": "stderr",
     "output_type": "stream",
     "text": [
      "2020-12-23 16:29:28,584 [DEBUG] kashgari - predict output: (98, 84)\n",
      "2020-12-23 16:29:28,586 [DEBUG] kashgari - predict output argmax: [[0 1 1 ... 1 1 1]\n",
      " [0 1 1 ... 1 1 1]\n",
      " [0 1 1 ... 1 1 1]\n",
      " ...\n",
      " [0 1 1 ... 1 1 1]\n",
      " [0 1 1 ... 1 1 1]\n",
      " [0 0 0 ... 0 0 0]]\n",
      "2020-12-23 16:29:28,593 [DEBUG] kashgari - predict seq_length: None, input: (2, 362, 94)\n"
     ]
    },
    {
     "name": "stdout",
     "output_type": "stream",
     "text": [
      "12/12 [==============================] - 3s 268ms/step\n"
     ]
    },
    {
     "name": "stderr",
     "output_type": "stream",
     "text": [
      "2020-12-23 16:29:38,762 [DEBUG] kashgari - predict output: (362, 94)\n",
      "2020-12-23 16:29:38,763 [DEBUG] kashgari - predict output argmax: [[0 1 1 ... 1 1 1]\n",
      " [0 1 1 ... 1 1 1]\n",
      " [0 1 1 ... 1 1 1]\n",
      " ...\n",
      " [0 1 1 ... 1 1 1]\n",
      " [0 1 1 ... 1 1 1]\n",
      " [0 0 0 ... 0 0 0]]\n",
      "2020-12-23 16:29:38,765 [DEBUG] kashgari - predict seq_length: None, input: (2, 29, 34)\n"
     ]
    },
    {
     "name": "stdout",
     "output_type": "stream",
     "text": [
      "1/1 [==============================] - 0s 840us/step\n"
     ]
    },
    {
     "name": "stderr",
     "output_type": "stream",
     "text": [
      "2020-12-23 16:29:38,914 [DEBUG] kashgari - predict output: (29, 34)\n",
      "2020-12-23 16:29:38,917 [DEBUG] kashgari - predict output argmax: [[ 0  1  1  1  1  1  1  1  1  1  0  1  1  1  1  1  1  1  1  1  1  1  1  1\n",
      "   1  1  1  1  1  1  1  1  1  1]\n",
      " [ 0  1  1  1  1  1  1  1  1  1  1  1  1  1  1  1  0  1  1  1  1  1  1  1\n",
      "   1  1  1  1  1  1  1  1  1  1]\n",
      " [ 0  1  1  1  1  1  1  1  1  1  1  1  1  1  1  1  1  1  1  1  1  1  1  0\n",
      "   1  1  1  1  1  1  1  1  1  1]\n",
      " [ 0  1  1  1  1  1  1  1  1  0  1  1  1  1  1  1  1  1  1  1  1  1  1  1\n",
      "   1  1  1  1  1  1  1  1  1  1]\n",
      " [ 0  1  1  1  1  1  1  1  0  1  1  1  1  1  1  1  1  1  1  1  1  1  1  1\n",
      "   1  1  1  1  1  1  1  1  1  1]\n",
      " [ 0  1  1  1  1  1  1  1  1  1  1  1  0  1  1  1  1  1  1  1  1  1  1  1\n",
      "   1  1  1  1  1  1  1  1  1  1]\n",
      " [ 0  1  1  1  1  1  1  1  1  1  0  1  1  1  1  1  1  1  1  1  1  1  1  1\n",
      "   1  1  1  1  1  1  1  1  1  1]\n",
      " [ 0  1  1  1  1  1  1  0  1  1  1  1  1  1  1  1  1  1  1  1  1  1  1  1\n",
      "   1  1  1  1  1  1  1  1  1  1]\n",
      " [ 0  1  1  1  1  0  1  1  1  1  1  1  1  1  1  1  1  1  1  1  1  1  1  1\n",
      "   1  1  1  1  1  1  1  1  1  1]\n",
      " [ 0  1  1  1  1  0  1  1  1  1  1  1  1  1  1  1  1  1  1  1  1  1  1  1\n",
      "   1  1  1  1  1  1  1  1  1  1]\n",
      " [ 0  1  1  1  1  1  1  1  1  1  1  1  1  1  0  1  1  1  1  1  1  1  1  1\n",
      "   1  1  1  1  1  1  1  1  1  1]\n",
      " [ 0  1  1  1  1  1  1  1  1  0  1  1  1  1  1  1  1  1  1  1  1  1  1  1\n",
      "   1  1  1  1  1  1  1  1  1  1]\n",
      " [ 0  1  1  1  1  1  1  1 18 13  1  1  1  1  0  1  1  1  1  1  1  1  1  1\n",
      "   1  1  1  1  1  1  1  1  1  1]\n",
      " [ 0  1  1  1  1  1  0  1  1  1  1  1  1  1  1  1  1  1  1  1  1  1  1  1\n",
      "   1  1  1  1  1  1  1  1  1  1]\n",
      " [ 0  1  1  1  1  1  1  1  1  1  1  1  1  1  1  1  1  0  1  1  1  1  1  1\n",
      "   1  1  1  1  1  1  1  1  1  1]\n",
      " [ 0  1  1  1  1  1  1  1  1  1  1  0  1  1  1  1  1  1  1  1  1  1  1  1\n",
      "   1  1  1  1  1  1  1  1  1  1]\n",
      " [ 0  1  1  1  1  0  1  1  1  1  1  1  1  1  1  1  1  1  1  1  1  1  1  1\n",
      "   1  1  1  1  1  1  1  1  1  1]\n",
      " [ 0  1  1  1  1  1  1  1  1  1  1  0  1  1  1  1  1  1  1  1  1  1  1  1\n",
      "   1  1  1  1  1  1  1  1  1  1]\n",
      " [ 0  1  1  1  1  0  1  1  1  1  1  1  1  1  1  1  1  1  1  1  1  1  1  1\n",
      "   1  1  1  1  1  1  1  1  1  1]\n",
      " [ 0  1  1  1  1  1  0  1  1  1  1  1  1  1  1  1  1  1  1  1  1  1  1  1\n",
      "   1  1  1  1  1  1  1  1  1  1]\n",
      " [ 0  1  1  1  1  0  1  1  1  1  1  1  1  1  1  1  1  1  1  1  1  1  1  1\n",
      "   1  1  1  1  1  1  1  1  1  1]\n",
      " [ 0  1  1  1  1  1  1  1  1  1  1  1  1  1  1  1  1  1  1  1  1  1  1  1\n",
      "   1  1  1  1  1  1  1  1  1  0]\n",
      " [ 0  1  1  1  1  1  0  1  1  1  1  1  1  1  1  1  1  1  1  1  1  1  1  1\n",
      "   1  1  1  1  1  1  1  1  1  1]\n",
      " [ 0  1  1  1  1  1  1  1  1  1  1  1  1  1  1  1  1  1  1  1  0  1  1  1\n",
      "   1  1  1  1  1  1  1  1  1  1]\n",
      " [ 0  1  1  1  1  0  1  1  1  1  1  1  1  1  1  1  1  1  1  1  1  1  1  1\n",
      "   1  1  1  1  1  1  1  1  1  1]\n",
      " [ 0  1  1  1  1  3  2  2  2  1  1  1  1  1  0  1  1  1  1  1  1  1  1  1\n",
      "   1  1  1  1  1  1  1  1  1  1]\n",
      " [ 0  1  1  1  1  0  1  1  1  1  1  1  1  1  1  1  1  1  1  1  1  1  1  1\n",
      "   1  1  1  1  1  1  1  1  1  1]\n",
      " [ 0  1  1  1  1  1  1  1  1  0  1  1  1  1  1  1  1  1  1  1  1  1  1  1\n",
      "   1  1  1  1  1  1  1  1  1  1]\n",
      " [ 0  0  0  0  0  0  0  0  0  0  0  0  0  0  0  0  0  0  0  0  0  0  0  0\n",
      "   0  0  0  0  0  0  0  0  0  0]]\n",
      "2020-12-23 16:29:38,919 [DEBUG] kashgari - predict seq_length: None, input: (2, 111, 43)\n"
     ]
    },
    {
     "name": "stdout",
     "output_type": "stream",
     "text": [
      "4/4 [==============================] - 0s 100ms/step\n"
     ]
    },
    {
     "name": "stderr",
     "output_type": "stream",
     "text": [
      "2020-12-23 16:29:46,645 [DEBUG] kashgari - predict output: (111, 43)\n",
      "2020-12-23 16:29:46,646 [DEBUG] kashgari - predict output argmax: [[ 0  1  1 ...  1  1  1]\n",
      " [ 0  1  1 ...  1  1  1]\n",
      " [ 0  1  1 ...  1  1  1]\n",
      " ...\n",
      " [ 0  1  1 ... 11 11 11]\n",
      " [ 0  1  1 ...  1  1  1]\n",
      " [ 0  0  0 ...  0  0  0]]\n",
      "2020-12-23 16:29:46,648 [DEBUG] kashgari - predict seq_length: None, input: (2, 101, 54)\n"
     ]
    },
    {
     "name": "stdout",
     "output_type": "stream",
     "text": [
      "4/4 [==============================] - 0s 114ms/step\n"
     ]
    },
    {
     "name": "stderr",
     "output_type": "stream",
     "text": [
      "2020-12-23 16:29:53,673 [DEBUG] kashgari - predict output: (101, 54)\n",
      "2020-12-23 16:29:53,674 [DEBUG] kashgari - predict output argmax: [[0 1 1 ... 1 1 1]\n",
      " [0 1 1 ... 1 1 1]\n",
      " [0 1 1 ... 1 1 1]\n",
      " ...\n",
      " [0 1 1 ... 1 1 1]\n",
      " [0 1 1 ... 1 1 1]\n",
      " [0 0 0 ... 0 0 0]]\n",
      "2020-12-23 16:29:53,675 [DEBUG] kashgari - predict seq_length: None, input: (2, 51, 41)\n"
     ]
    },
    {
     "name": "stdout",
     "output_type": "stream",
     "text": [
      "2/2 [==============================] - 0s 54ms/step\n"
     ]
    },
    {
     "name": "stderr",
     "output_type": "stream",
     "text": [
      "2020-12-23 16:29:53,954 [DEBUG] kashgari - predict output: (51, 41)\n",
      "2020-12-23 16:29:53,955 [DEBUG] kashgari - predict output argmax: [[0 1 1 ... 1 1 1]\n",
      " [0 1 1 ... 1 1 1]\n",
      " [0 1 1 ... 1 1 1]\n",
      " ...\n",
      " [0 1 1 ... 2 2 2]\n",
      " [0 1 1 ... 1 1 1]\n",
      " [0 0 0 ... 0 0 0]]\n",
      "2020-12-23 16:29:53,957 [DEBUG] kashgari - predict seq_length: None, input: (2, 51, 151)\n"
     ]
    },
    {
     "name": "stdout",
     "output_type": "stream",
     "text": [
      "2/2 [==============================] - 0s 162ms/step\n"
     ]
    },
    {
     "name": "stderr",
     "output_type": "stream",
     "text": [
      "2020-12-23 16:30:02,117 [DEBUG] kashgari - predict output: (51, 151)\n",
      "2020-12-23 16:30:02,118 [DEBUG] kashgari - predict output argmax: [[0 1 1 ... 1 1 1]\n",
      " [0 1 1 ... 1 1 1]\n",
      " [0 1 1 ... 1 1 1]\n",
      " ...\n",
      " [0 1 1 ... 1 1 1]\n",
      " [0 1 1 ... 1 1 1]\n",
      " [0 0 0 ... 0 0 0]]\n",
      "2020-12-23 16:30:02,119 [DEBUG] kashgari - predict seq_length: None, input: (2, 60, 38)\n"
     ]
    },
    {
     "name": "stdout",
     "output_type": "stream",
     "text": [
      "2/2 [==============================] - 0s 67ms/step\n"
     ]
    },
    {
     "name": "stderr",
     "output_type": "stream",
     "text": [
      "2020-12-23 16:30:09,345 [DEBUG] kashgari - predict output: (60, 38)\n",
      "2020-12-23 16:30:09,346 [DEBUG] kashgari - predict output argmax: [[0 1 1 ... 1 1 1]\n",
      " [0 1 1 ... 1 1 1]\n",
      " [0 1 1 ... 1 1 1]\n",
      " ...\n",
      " [0 1 1 ... 1 1 1]\n",
      " [0 1 1 ... 1 1 1]\n",
      " [0 0 0 ... 0 0 0]]\n",
      "2020-12-23 16:30:09,351 [DEBUG] kashgari - predict seq_length: None, input: (2, 150, 48)\n"
     ]
    },
    {
     "name": "stdout",
     "output_type": "stream",
     "text": [
      "5/5 [==============================] - 1s 123ms/step\n"
     ]
    },
    {
     "name": "stderr",
     "output_type": "stream",
     "text": [
      "2020-12-23 16:30:16,779 [DEBUG] kashgari - predict output: (150, 48)\n",
      "2020-12-23 16:30:16,780 [DEBUG] kashgari - predict output argmax: [[0 1 1 ... 1 1 1]\n",
      " [0 1 1 ... 1 1 1]\n",
      " [0 1 1 ... 1 1 1]\n",
      " ...\n",
      " [0 1 1 ... 1 1 1]\n",
      " [0 1 1 ... 1 1 1]\n",
      " [0 0 0 ... 0 0 0]]\n",
      "2020-12-23 16:30:16,784 [DEBUG] kashgari - predict seq_length: None, input: (2, 133, 75)\n"
     ]
    },
    {
     "name": "stdout",
     "output_type": "stream",
     "text": [
      "WARNING:tensorflow:5 out of the last 16 calls to <function Model.make_predict_function.<locals>.predict_function at 0x7f48c9928a60> triggered tf.function retracing. Tracing is expensive and the excessive number of tracings is likely due to passing python objects instead of tensors. Also, tf.function has experimental_relax_shapes=True option that relaxes argument shapes that can avoid unnecessary retracing. Please refer to https://www.tensorflow.org/tutorials/customization/performance#python_or_tensor_args and https://www.tensorflow.org/api_docs/python/tf/function for more details.\n",
      "5/5 [==============================] - 1s 163ms/step\n"
     ]
    },
    {
     "name": "stderr",
     "output_type": "stream",
     "text": [
      "2020-12-23 16:30:24,206 [DEBUG] kashgari - predict output: (133, 75)\n",
      "2020-12-23 16:30:24,207 [DEBUG] kashgari - predict output argmax: [[0 1 1 ... 1 1 0]\n",
      " [0 1 1 ... 1 1 1]\n",
      " [0 1 1 ... 1 1 1]\n",
      " ...\n",
      " [0 1 1 ... 1 1 1]\n",
      " [0 1 1 ... 1 1 1]\n",
      " [0 0 0 ... 0 0 0]]\n",
      "2020-12-23 16:30:24,209 [DEBUG] kashgari - predict seq_length: None, input: (2, 108, 42)\n"
     ]
    },
    {
     "name": "stdout",
     "output_type": "stream",
     "text": [
      "4/4 [==============================] - 0s 92ms/step\n"
     ]
    },
    {
     "name": "stderr",
     "output_type": "stream",
     "text": [
      "2020-12-23 16:30:31,639 [DEBUG] kashgari - predict output: (108, 42)\n",
      "2020-12-23 16:30:31,640 [DEBUG] kashgari - predict output argmax: [[0 1 1 ... 1 1 1]\n",
      " [0 1 1 ... 1 1 1]\n",
      " [0 1 1 ... 1 1 1]\n",
      " ...\n",
      " [0 1 1 ... 7 7 7]\n",
      " [0 1 1 ... 7 7 7]\n",
      " [0 0 0 ... 0 0 0]]\n",
      "2020-12-23 16:30:31,642 [DEBUG] kashgari - predict seq_length: None, input: (2, 59, 63)\n"
     ]
    },
    {
     "name": "stdout",
     "output_type": "stream",
     "text": [
      "2/2 [==============================] - 0s 92ms/step\n"
     ]
    },
    {
     "name": "stderr",
     "output_type": "stream",
     "text": [
      "2020-12-23 16:30:38,959 [DEBUG] kashgari - predict output: (59, 63)\n",
      "2020-12-23 16:30:38,960 [DEBUG] kashgari - predict output argmax: [[0 1 1 ... 1 1 1]\n",
      " [0 1 1 ... 4 4 4]\n",
      " [0 1 1 ... 1 1 1]\n",
      " ...\n",
      " [0 1 1 ... 1 1 1]\n",
      " [0 1 1 ... 1 1 1]\n",
      " [0 0 0 ... 0 0 0]]\n",
      "2020-12-23 16:30:38,962 [DEBUG] kashgari - predict seq_length: None, input: (2, 47, 75)\n"
     ]
    },
    {
     "name": "stdout",
     "output_type": "stream",
     "text": [
      "2/2 [==============================] - 0s 70ms/step\n"
     ]
    },
    {
     "name": "stderr",
     "output_type": "stream",
     "text": [
      "2020-12-23 16:30:39,376 [DEBUG] kashgari - predict output: (47, 75)\n",
      "2020-12-23 16:30:39,377 [DEBUG] kashgari - predict output argmax: [[0 1 1 ... 1 1 1]\n",
      " [0 1 1 ... 1 1 1]\n",
      " [0 1 1 ... 1 1 1]\n",
      " ...\n",
      " [0 1 1 ... 1 1 1]\n",
      " [0 1 1 ... 1 1 1]\n",
      " [0 0 0 ... 0 0 0]]\n",
      "2020-12-23 16:30:39,381 [DEBUG] kashgari - predict seq_length: None, input: (2, 148, 91)\n"
     ]
    },
    {
     "name": "stdout",
     "output_type": "stream",
     "text": [
      "5/5 [==============================] - 1s 223ms/step\n"
     ]
    },
    {
     "name": "stderr",
     "output_type": "stream",
     "text": [
      "2020-12-23 16:30:47,142 [DEBUG] kashgari - predict output: (148, 91)\n",
      "2020-12-23 16:30:47,143 [DEBUG] kashgari - predict output argmax: [[0 1 1 ... 1 1 1]\n",
      " [0 1 1 ... 1 1 1]\n",
      " [0 1 1 ... 1 1 1]\n",
      " ...\n",
      " [0 1 1 ... 1 1 1]\n",
      " [0 1 1 ... 1 1 1]\n",
      " [0 0 0 ... 0 0 0]]\n",
      "2020-12-23 16:30:47,145 [DEBUG] kashgari - predict seq_length: None, input: (2, 39, 37)\n"
     ]
    },
    {
     "name": "stdout",
     "output_type": "stream",
     "text": [
      "2/2 [==============================] - 0s 38ms/step\n"
     ]
    },
    {
     "name": "stderr",
     "output_type": "stream",
     "text": [
      "2020-12-23 16:30:54,975 [DEBUG] kashgari - predict output: (39, 37)\n",
      "2020-12-23 16:30:54,977 [DEBUG] kashgari - predict output argmax: [[0 1 1 ... 1 1 1]\n",
      " [0 1 1 ... 1 1 1]\n",
      " [0 1 1 ... 1 1 1]\n",
      " ...\n",
      " [0 1 1 ... 1 1 1]\n",
      " [0 1 1 ... 1 1 1]\n",
      " [0 0 0 ... 0 0 0]]\n",
      "2020-12-23 16:30:54,979 [DEBUG] kashgari - predict seq_length: None, input: (2, 57, 33)\n"
     ]
    },
    {
     "name": "stdout",
     "output_type": "stream",
     "text": [
      "2/2 [==============================] - 0s 56ms/step\n"
     ]
    },
    {
     "name": "stderr",
     "output_type": "stream",
     "text": [
      "2020-12-23 16:31:01,706 [DEBUG] kashgari - predict output: (57, 33)\n",
      "2020-12-23 16:31:01,707 [DEBUG] kashgari - predict output argmax: [[0 1 1 ... 1 1 1]\n",
      " [0 1 1 ... 1 1 1]\n",
      " [0 1 1 ... 1 1 1]\n",
      " ...\n",
      " [0 1 1 ... 1 1 1]\n",
      " [0 1 1 ... 1 1 1]\n",
      " [0 0 0 ... 0 0 0]]\n",
      "2020-12-23 16:31:01,710 [DEBUG] kashgari - predict seq_length: None, input: (2, 91, 111)\n"
     ]
    },
    {
     "name": "stdout",
     "output_type": "stream",
     "text": [
      "WARNING:tensorflow:5 out of the last 14 calls to <function Model.make_predict_function.<locals>.predict_function at 0x7f48c9928a60> triggered tf.function retracing. Tracing is expensive and the excessive number of tracings is likely due to passing python objects instead of tensors. Also, tf.function has experimental_relax_shapes=True option that relaxes argument shapes that can avoid unnecessary retracing. Please refer to https://www.tensorflow.org/tutorials/customization/performance#python_or_tensor_args and https://www.tensorflow.org/api_docs/python/tf/function for more details.\n",
      "3/3 [==============================] - 1s 224ms/step\n"
     ]
    },
    {
     "name": "stderr",
     "output_type": "stream",
     "text": [
      "2020-12-23 16:31:09,076 [DEBUG] kashgari - predict output: (91, 111)\n",
      "2020-12-23 16:31:09,077 [DEBUG] kashgari - predict output argmax: [[0 1 1 ... 1 1 1]\n",
      " [0 1 1 ... 1 1 1]\n",
      " [0 1 1 ... 1 1 1]\n",
      " ...\n",
      " [0 1 1 ... 1 1 1]\n",
      " [0 1 1 ... 1 1 1]\n",
      " [0 0 0 ... 0 0 0]]\n",
      "2020-12-23 16:31:09,080 [DEBUG] kashgari - predict seq_length: None, input: (2, 86, 73)\n"
     ]
    },
    {
     "name": "stdout",
     "output_type": "stream",
     "text": [
      "WARNING:tensorflow:5 out of the last 13 calls to <function Model.make_predict_function.<locals>.predict_function at 0x7f48c9928a60> triggered tf.function retracing. Tracing is expensive and the excessive number of tracings is likely due to passing python objects instead of tensors. Also, tf.function has experimental_relax_shapes=True option that relaxes argument shapes that can avoid unnecessary retracing. Please refer to https://www.tensorflow.org/tutorials/customization/performance#python_or_tensor_args and https://www.tensorflow.org/api_docs/python/tf/function for more details.\n",
      "3/3 [==============================] - 0s 141ms/step\n"
     ]
    },
    {
     "name": "stderr",
     "output_type": "stream",
     "text": [
      "2020-12-23 16:31:16,121 [DEBUG] kashgari - predict output: (86, 73)\n",
      "2020-12-23 16:31:16,122 [DEBUG] kashgari - predict output argmax: [[0 1 1 ... 1 1 1]\n",
      " [0 1 1 ... 1 1 1]\n",
      " [0 1 1 ... 1 1 1]\n",
      " ...\n",
      " [0 1 1 ... 1 1 1]\n",
      " [0 1 1 ... 1 1 1]\n",
      " [0 0 0 ... 0 0 0]]\n",
      "2020-12-23 16:31:16,124 [DEBUG] kashgari - predict seq_length: None, input: (2, 156, 49)\n"
     ]
    },
    {
     "name": "stdout",
     "output_type": "stream",
     "text": [
      "WARNING:tensorflow:5 out of the last 11 calls to <function Model.make_predict_function.<locals>.predict_function at 0x7f48c9928a60> triggered tf.function retracing. Tracing is expensive and the excessive number of tracings is likely due to passing python objects instead of tensors. Also, tf.function has experimental_relax_shapes=True option that relaxes argument shapes that can avoid unnecessary retracing. Please refer to https://www.tensorflow.org/tutorials/customization/performance#python_or_tensor_args and https://www.tensorflow.org/api_docs/python/tf/function for more details.\n",
      "5/5 [==============================] - 1s 132ms/step\n"
     ]
    },
    {
     "name": "stderr",
     "output_type": "stream",
     "text": [
      "2020-12-23 16:31:23,319 [DEBUG] kashgari - predict output: (156, 49)\n",
      "2020-12-23 16:31:23,320 [DEBUG] kashgari - predict output argmax: [[0 1 1 ... 1 1 1]\n",
      " [0 1 1 ... 1 1 1]\n",
      " [0 1 1 ... 1 1 1]\n",
      " ...\n",
      " [0 1 1 ... 1 1 1]\n",
      " [0 1 1 ... 1 1 1]\n",
      " [0 0 0 ... 0 0 0]]\n",
      "2020-12-23 16:31:23,322 [DEBUG] kashgari - predict seq_length: None, input: (2, 68, 37)\n"
     ]
    },
    {
     "name": "stdout",
     "output_type": "stream",
     "text": [
      "3/3 [==============================] - 0s 62ms/step\n"
     ]
    },
    {
     "name": "stderr",
     "output_type": "stream",
     "text": [
      "2020-12-23 16:31:23,670 [DEBUG] kashgari - predict output: (68, 37)\n",
      "2020-12-23 16:31:23,671 [DEBUG] kashgari - predict output argmax: [[0 1 1 ... 1 1 1]\n",
      " [0 1 1 ... 1 1 1]\n",
      " [0 1 1 ... 0 4 4]\n",
      " ...\n",
      " [0 1 1 ... 1 1 1]\n",
      " [0 1 1 ... 1 1 1]\n",
      " [0 0 0 ... 0 0 0]]\n",
      "2020-12-23 16:31:23,674 [DEBUG] kashgari - predict seq_length: None, input: (2, 90, 56)\n"
     ]
    },
    {
     "name": "stdout",
     "output_type": "stream",
     "text": [
      "3/3 [==============================] - 0s 120ms/step\n"
     ]
    },
    {
     "name": "stderr",
     "output_type": "stream",
     "text": [
      "2020-12-23 16:31:30,609 [DEBUG] kashgari - predict output: (90, 56)\n",
      "2020-12-23 16:31:30,610 [DEBUG] kashgari - predict output argmax: [[0 1 1 ... 4 4 4]\n",
      " [0 1 1 ... 1 1 1]\n",
      " [0 1 1 ... 1 1 1]\n",
      " ...\n",
      " [0 1 1 ... 1 1 1]\n",
      " [0 1 1 ... 1 1 1]\n",
      " [0 0 0 ... 0 0 0]]\n",
      "2020-12-23 16:31:30,612 [DEBUG] kashgari - predict seq_length: None, input: (2, 147, 40)\n"
     ]
    },
    {
     "name": "stdout",
     "output_type": "stream",
     "text": [
      "5/5 [==============================] - 1s 109ms/step\n"
     ]
    },
    {
     "name": "stderr",
     "output_type": "stream",
     "text": [
      "2020-12-23 16:31:37,988 [DEBUG] kashgari - predict output: (147, 40)\n",
      "2020-12-23 16:31:37,989 [DEBUG] kashgari - predict output argmax: [[0 1 1 ... 1 1 1]\n",
      " [0 1 1 ... 1 1 1]\n",
      " [0 1 1 ... 1 1 1]\n",
      " ...\n",
      " [0 1 1 ... 1 1 1]\n",
      " [0 1 1 ... 1 1 1]\n",
      " [0 0 0 ... 0 0 0]]\n",
      "2020-12-23 16:31:37,991 [DEBUG] kashgari - predict seq_length: None, input: (2, 82, 54)\n"
     ]
    },
    {
     "name": "stdout",
     "output_type": "stream",
     "text": [
      "3/3 [==============================] - 0s 103ms/step\n"
     ]
    },
    {
     "name": "stderr",
     "output_type": "stream",
     "text": [
      "2020-12-23 16:31:38,518 [DEBUG] kashgari - predict output: (82, 54)\n",
      "2020-12-23 16:31:38,519 [DEBUG] kashgari - predict output argmax: [[0 1 1 ... 1 1 1]\n",
      " [0 1 1 ... 1 1 1]\n",
      " [0 1 1 ... 1 1 1]\n",
      " ...\n",
      " [0 1 1 ... 1 1 1]\n",
      " [0 1 1 ... 1 1 1]\n",
      " [0 0 0 ... 0 0 0]]\n",
      "2020-12-23 16:31:38,521 [DEBUG] kashgari - predict seq_length: None, input: (2, 42, 45)\n"
     ]
    },
    {
     "name": "stdout",
     "output_type": "stream",
     "text": [
      "2/2 [==============================] - 0s 41ms/step\n"
     ]
    },
    {
     "name": "stderr",
     "output_type": "stream",
     "text": [
      "2020-12-23 16:31:45,138 [DEBUG] kashgari - predict output: (42, 45)\n",
      "2020-12-23 16:31:45,139 [DEBUG] kashgari - predict output argmax: [[0 1 1 ... 1 1 1]\n",
      " [0 1 1 ... 1 1 1]\n",
      " [0 1 1 ... 1 1 1]\n",
      " ...\n",
      " [0 1 1 ... 1 1 1]\n",
      " [0 1 1 ... 1 1 1]\n",
      " [0 0 0 ... 0 0 0]]\n",
      "2020-12-23 16:31:45,141 [DEBUG] kashgari - predict seq_length: None, input: (2, 56, 43)\n"
     ]
    },
    {
     "name": "stdout",
     "output_type": "stream",
     "text": [
      "2/2 [==============================] - 0s 60ms/step\n"
     ]
    },
    {
     "name": "stderr",
     "output_type": "stream",
     "text": [
      "2020-12-23 16:31:45,438 [DEBUG] kashgari - predict output: (56, 43)\n",
      "2020-12-23 16:31:45,439 [DEBUG] kashgari - predict output argmax: [[0 1 1 ... 1 1 1]\n",
      " [0 1 1 ... 1 1 1]\n",
      " [0 1 1 ... 1 1 1]\n",
      " ...\n",
      " [0 1 1 ... 1 1 1]\n",
      " [0 1 1 ... 1 1 1]\n",
      " [0 0 0 ... 0 0 0]]\n",
      "2020-12-23 16:31:45,443 [DEBUG] kashgari - predict seq_length: None, input: (2, 163, 31)\n"
     ]
    },
    {
     "name": "stdout",
     "output_type": "stream",
     "text": [
      "6/6 [==============================] - 1s 89ms/step\n"
     ]
    },
    {
     "name": "stderr",
     "output_type": "stream",
     "text": [
      "2020-12-23 16:31:54,757 [DEBUG] kashgari - predict output: (163, 31)\n",
      "2020-12-23 16:31:54,758 [DEBUG] kashgari - predict output argmax: [[0 1 1 ... 1 1 1]\n",
      " [0 1 1 ... 1 1 1]\n",
      " [0 1 1 ... 1 1 1]\n",
      " ...\n",
      " [0 1 1 ... 5 5 5]\n",
      " [0 1 1 ... 1 1 1]\n",
      " [0 0 0 ... 0 0 0]]\n",
      "2020-12-23 16:31:54,760 [DEBUG] kashgari - predict seq_length: None, input: (2, 96, 38)\n"
     ]
    },
    {
     "name": "stdout",
     "output_type": "stream",
     "text": [
      "3/3 [==============================] - 0s 77ms/step\n"
     ]
    },
    {
     "name": "stderr",
     "output_type": "stream",
     "text": [
      "2020-12-23 16:31:59,323 [DEBUG] kashgari - predict output: (96, 38)\n",
      "2020-12-23 16:31:59,324 [DEBUG] kashgari - predict output argmax: [[0 1 1 ... 1 1 1]\n",
      " [0 1 1 ... 4 4 4]\n",
      " [0 1 1 ... 1 1 1]\n",
      " ...\n",
      " [0 1 1 ... 1 1 1]\n",
      " [0 1 1 ... 1 1 1]\n",
      " [0 0 0 ... 0 0 0]]\n",
      "2020-12-23 16:31:59,326 [DEBUG] kashgari - predict seq_length: None, input: (2, 42, 54)\n"
     ]
    },
    {
     "name": "stdout",
     "output_type": "stream",
     "text": [
      "2/2 [==============================] - 0s 47ms/step\n"
     ]
    },
    {
     "name": "stderr",
     "output_type": "stream",
     "text": [
      "2020-12-23 16:31:59,632 [DEBUG] kashgari - predict output: (42, 54)\n",
      "2020-12-23 16:31:59,633 [DEBUG] kashgari - predict output argmax: [[0 1 1 ... 1 1 1]\n",
      " [0 1 1 ... 1 1 1]\n",
      " [0 1 1 ... 1 1 1]\n",
      " ...\n",
      " [0 1 1 ... 1 1 1]\n",
      " [0 1 1 ... 1 1 1]\n",
      " [0 0 0 ... 0 0 0]]\n",
      "2020-12-23 16:31:59,634 [DEBUG] kashgari - predict seq_length: None, input: (2, 54, 81)\n"
     ]
    },
    {
     "name": "stdout",
     "output_type": "stream",
     "text": [
      "2/2 [==============================] - 0s 100ms/step\n"
     ]
    },
    {
     "name": "stderr",
     "output_type": "stream",
     "text": [
      "2020-12-23 16:32:06,885 [DEBUG] kashgari - predict output: (54, 81)\n",
      "2020-12-23 16:32:06,886 [DEBUG] kashgari - predict output argmax: [[ 0  1  1 ...  1  1  1]\n",
      " [ 0  1  1 ...  1  1  1]\n",
      " [ 0  1  1 ...  1  1  1]\n",
      " ...\n",
      " [ 0  1  1 ... 11 11 11]\n",
      " [ 0  1  1 ...  1  1  1]\n",
      " [ 0  0  0 ...  0  0  0]]\n",
      "2020-12-23 16:32:06,888 [DEBUG] kashgari - predict seq_length: None, input: (2, 115, 78)\n"
     ]
    },
    {
     "name": "stdout",
     "output_type": "stream",
     "text": [
      "4/4 [==============================] - 1s 171ms/step\n"
     ]
    },
    {
     "name": "stderr",
     "output_type": "stream",
     "text": [
      "2020-12-23 16:32:14,768 [DEBUG] kashgari - predict output: (115, 78)\n",
      "2020-12-23 16:32:14,769 [DEBUG] kashgari - predict output argmax: [[0 1 1 ... 1 1 1]\n",
      " [0 1 1 ... 1 1 1]\n",
      " [0 1 1 ... 1 1 1]\n",
      " ...\n",
      " [0 1 1 ... 1 1 1]\n",
      " [0 1 1 ... 1 1 1]\n",
      " [0 0 0 ... 0 0 0]]\n",
      "2020-12-23 16:32:14,771 [DEBUG] kashgari - predict seq_length: None, input: (2, 39, 36)\n"
     ]
    },
    {
     "name": "stdout",
     "output_type": "stream",
     "text": [
      "2/2 [==============================] - 0s 26ms/step\n"
     ]
    },
    {
     "name": "stderr",
     "output_type": "stream",
     "text": [
      "2020-12-23 16:32:21,349 [DEBUG] kashgari - predict output: (39, 36)\n",
      "2020-12-23 16:32:21,350 [DEBUG] kashgari - predict output argmax: [[0 1 1 ... 1 1 1]\n",
      " [0 1 1 ... 1 1 1]\n",
      " [0 1 1 ... 1 1 1]\n",
      " ...\n",
      " [0 1 1 ... 1 1 1]\n",
      " [0 1 1 ... 1 1 1]\n",
      " [0 0 0 ... 0 0 0]]\n",
      "2020-12-23 16:32:21,355 [DEBUG] kashgari - predict seq_length: None, input: (2, 233, 62)\n"
     ]
    },
    {
     "name": "stdout",
     "output_type": "stream",
     "text": [
      "WARNING:tensorflow:5 out of the last 14 calls to <function Model.make_predict_function.<locals>.predict_function at 0x7f48c9928a60> triggered tf.function retracing. Tracing is expensive and the excessive number of tracings is likely due to passing python objects instead of tensors. Also, tf.function has experimental_relax_shapes=True option that relaxes argument shapes that can avoid unnecessary retracing. Please refer to https://www.tensorflow.org/tutorials/customization/performance#python_or_tensor_args and https://www.tensorflow.org/api_docs/python/tf/function for more details.\n",
      "8/8 [==============================] - 1s 165ms/step\n"
     ]
    },
    {
     "name": "stderr",
     "output_type": "stream",
     "text": [
      "2020-12-23 16:32:29,281 [DEBUG] kashgari - predict output: (233, 62)\n",
      "2020-12-23 16:32:29,282 [DEBUG] kashgari - predict output argmax: [[0 1 1 ... 1 1 1]\n",
      " [0 1 1 ... 1 1 1]\n",
      " [0 1 1 ... 1 1 1]\n",
      " ...\n",
      " [0 1 1 ... 1 1 1]\n",
      " [0 1 1 ... 1 1 1]\n",
      " [0 0 0 ... 0 0 0]]\n",
      "2020-12-23 16:32:29,284 [DEBUG] kashgari - predict seq_length: None, input: (2, 115, 50)\n"
     ]
    },
    {
     "name": "stdout",
     "output_type": "stream",
     "text": [
      "4/4 [==============================] - 0s 117ms/step\n"
     ]
    },
    {
     "name": "stderr",
     "output_type": "stream",
     "text": [
      "2020-12-23 16:32:36,274 [DEBUG] kashgari - predict output: (115, 50)\n",
      "2020-12-23 16:32:36,275 [DEBUG] kashgari - predict output argmax: [[0 1 1 ... 5 5 5]\n",
      " [0 1 1 ... 1 1 1]\n",
      " [0 1 1 ... 1 1 1]\n",
      " ...\n",
      " [0 1 1 ... 1 1 1]\n",
      " [0 1 1 ... 1 1 1]\n",
      " [0 0 0 ... 0 0 0]]\n",
      "2020-12-23 16:32:36,277 [DEBUG] kashgari - predict seq_length: None, input: (2, 68, 59)\n"
     ]
    },
    {
     "name": "stdout",
     "output_type": "stream",
     "text": [
      "3/3 [==============================] - 1s 178ms/step\n"
     ]
    },
    {
     "name": "stderr",
     "output_type": "stream",
     "text": [
      "2020-12-23 16:32:46,013 [DEBUG] kashgari - predict output: (68, 59)\n",
      "2020-12-23 16:32:46,018 [DEBUG] kashgari - predict output argmax: [[0 1 1 ... 1 1 1]\n",
      " [0 1 1 ... 1 1 1]\n",
      " [0 1 1 ... 1 1 1]\n",
      " ...\n",
      " [0 1 1 ... 7 7 7]\n",
      " [0 1 1 ... 2 2 2]\n",
      " [0 0 0 ... 0 0 0]]\n",
      "2020-12-23 16:32:46,024 [DEBUG] kashgari - predict seq_length: None, input: (2, 81, 53)\n"
     ]
    },
    {
     "name": "stdout",
     "output_type": "stream",
     "text": [
      "3/3 [==============================] - 1s 289ms/step\n"
     ]
    },
    {
     "name": "stderr",
     "output_type": "stream",
     "text": [
      "2020-12-23 16:32:47,500 [DEBUG] kashgari - predict output: (81, 53)\n",
      "2020-12-23 16:32:47,501 [DEBUG] kashgari - predict output argmax: [[0 1 1 ... 1 1 1]\n",
      " [0 1 1 ... 1 1 1]\n",
      " [0 1 1 ... 1 1 1]\n",
      " ...\n",
      " [0 1 1 ... 1 1 1]\n",
      " [0 1 1 ... 1 1 1]\n",
      " [0 0 0 ... 0 0 0]]\n",
      "2020-12-23 16:32:47,511 [DEBUG] kashgari - predict seq_length: None, input: (2, 225, 75)\n"
     ]
    },
    {
     "name": "stdout",
     "output_type": "stream",
     "text": [
      "8/8 [==============================] - 3s 416ms/step\n"
     ]
    },
    {
     "name": "stderr",
     "output_type": "stream",
     "text": [
      "2020-12-23 16:32:51,528 [DEBUG] kashgari - predict output: (225, 75)\n",
      "2020-12-23 16:32:51,531 [DEBUG] kashgari - predict output argmax: [[0 1 1 ... 1 1 1]\n",
      " [0 1 1 ... 1 1 1]\n",
      " [0 1 1 ... 1 1 1]\n",
      " ...\n",
      " [0 1 1 ... 1 1 1]\n",
      " [0 1 1 ... 1 1 1]\n",
      " [0 0 0 ... 0 0 0]]\n",
      "2020-12-23 16:32:51,538 [DEBUG] kashgari - predict seq_length: None, input: (2, 30, 39)\n"
     ]
    },
    {
     "name": "stdout",
     "output_type": "stream",
     "text": [
      "1/1 [==============================] - 0s 1ms/step\n"
     ]
    },
    {
     "name": "stderr",
     "output_type": "stream",
     "text": [
      "2020-12-23 16:33:02,902 [DEBUG] kashgari - predict output: (30, 39)\n",
      "2020-12-23 16:33:02,903 [DEBUG] kashgari - predict output argmax: [[ 0  1  1 ...  1  1  1]\n",
      " [ 0  1  1 ...  1  1  1]\n",
      " [ 0  1  1 ...  1  1  1]\n",
      " ...\n",
      " [ 0  1  1 ... 11 11 11]\n",
      " [ 0  1  1 ...  1  1  1]\n",
      " [ 0  0  0 ...  0  0  0]]\n",
      "2020-12-23 16:33:02,905 [DEBUG] kashgari - predict seq_length: None, input: (2, 95, 28)\n"
     ]
    },
    {
     "name": "stdout",
     "output_type": "stream",
     "text": [
      "3/3 [==============================] - 0s 78ms/step\n"
     ]
    },
    {
     "name": "stderr",
     "output_type": "stream",
     "text": [
      "2020-12-23 16:33:09,638 [DEBUG] kashgari - predict output: (95, 28)\n",
      "2020-12-23 16:33:09,638 [DEBUG] kashgari - predict output argmax: [[0 1 1 ... 1 1 1]\n",
      " [0 1 1 ... 1 1 1]\n",
      " [0 1 1 ... 1 1 1]\n",
      " ...\n",
      " [0 1 1 ... 1 1 1]\n",
      " [0 1 1 ... 1 1 1]\n",
      " [0 0 0 ... 0 0 0]]\n",
      "2020-12-23 16:33:09,641 [DEBUG] kashgari - predict seq_length: None, input: (2, 128, 99)\n"
     ]
    },
    {
     "name": "stdout",
     "output_type": "stream",
     "text": [
      "4/4 [==============================] - 1s 218ms/step\n"
     ]
    },
    {
     "name": "stderr",
     "output_type": "stream",
     "text": [
      "2020-12-23 16:33:17,018 [DEBUG] kashgari - predict output: (128, 99)\n",
      "2020-12-23 16:33:17,019 [DEBUG] kashgari - predict output argmax: [[0 1 1 ... 1 1 1]\n",
      " [0 1 1 ... 1 1 1]\n",
      " [0 1 1 ... 1 1 1]\n",
      " ...\n",
      " [0 1 1 ... 1 1 1]\n",
      " [0 1 1 ... 1 1 1]\n",
      " [0 0 0 ... 0 0 0]]\n",
      "2020-12-23 16:33:17,021 [DEBUG] kashgari - predict seq_length: None, input: (2, 83, 95)\n"
     ]
    },
    {
     "name": "stdout",
     "output_type": "stream",
     "text": [
      "WARNING:tensorflow:5 out of the last 23 calls to <function Model.make_predict_function.<locals>.predict_function at 0x7f48c9928a60> triggered tf.function retracing. Tracing is expensive and the excessive number of tracings is likely due to passing python objects instead of tensors. Also, tf.function has experimental_relax_shapes=True option that relaxes argument shapes that can avoid unnecessary retracing. Please refer to https://www.tensorflow.org/tutorials/customization/performance#python_or_tensor_args and https://www.tensorflow.org/api_docs/python/tf/function for more details.\n",
      "3/3 [==============================] - 1s 169ms/step\n"
     ]
    },
    {
     "name": "stderr",
     "output_type": "stream",
     "text": [
      "2020-12-23 16:33:24,319 [DEBUG] kashgari - predict output: (83, 95)\n",
      "2020-12-23 16:33:24,320 [DEBUG] kashgari - predict output argmax: [[ 0  1  1 ... 11 11 11]\n",
      " [ 0  1  1 ...  1  1  1]\n",
      " [ 0  1  1 ...  1  1  1]\n",
      " ...\n",
      " [ 0  1  1 ...  1  1  1]\n",
      " [ 0  1  1 ...  1  1  1]\n",
      " [ 0  0  0 ...  0  0  0]]\n",
      "2020-12-23 16:33:24,323 [DEBUG] kashgari - predict seq_length: None, input: (2, 115, 84)\n"
     ]
    },
    {
     "name": "stdout",
     "output_type": "stream",
     "text": [
      "4/4 [==============================] - 1s 177ms/step\n"
     ]
    },
    {
     "name": "stderr",
     "output_type": "stream",
     "text": [
      "2020-12-23 16:33:25,332 [DEBUG] kashgari - predict output: (115, 84)\n",
      "2020-12-23 16:33:25,333 [DEBUG] kashgari - predict output argmax: [[0 1 1 ... 1 1 1]\n",
      " [0 1 1 ... 1 1 1]\n",
      " [0 1 1 ... 1 1 1]\n",
      " ...\n",
      " [0 1 1 ... 1 1 1]\n",
      " [0 1 1 ... 1 1 1]\n",
      " [0 0 0 ... 0 0 0]]\n",
      "2020-12-23 16:33:25,336 [DEBUG] kashgari - predict seq_length: None, input: (2, 137, 65)\n"
     ]
    },
    {
     "name": "stdout",
     "output_type": "stream",
     "text": [
      "5/5 [==============================] - 1s 150ms/step\n"
     ]
    },
    {
     "name": "stderr",
     "output_type": "stream",
     "text": [
      "2020-12-23 16:33:26,333 [DEBUG] kashgari - predict output: (137, 65)\n",
      "2020-12-23 16:33:26,334 [DEBUG] kashgari - predict output argmax: [[ 0  1  1 ... 11 11 11]\n",
      " [ 0  1  1 ...  1  1  1]\n",
      " [ 0  1  1 ...  1  1  1]\n",
      " ...\n",
      " [ 0  1  1 ...  1  1  1]\n",
      " [ 0  1  1 ...  1  1  1]\n",
      " [ 0  0  0 ...  0  0  0]]\n",
      "2020-12-23 16:33:26,336 [DEBUG] kashgari - predict seq_length: None, input: (2, 53, 56)\n"
     ]
    },
    {
     "name": "stdout",
     "output_type": "stream",
     "text": [
      "2/2 [==============================] - 0s 71ms/step\n"
     ]
    },
    {
     "name": "stderr",
     "output_type": "stream",
     "text": [
      "2020-12-23 16:33:26,696 [DEBUG] kashgari - predict output: (53, 56)\n",
      "2020-12-23 16:33:26,697 [DEBUG] kashgari - predict output argmax: [[0 1 1 ... 1 1 1]\n",
      " [0 1 1 ... 1 1 1]\n",
      " [0 1 1 ... 1 1 1]\n",
      " ...\n",
      " [0 1 1 ... 1 1 1]\n",
      " [0 1 1 ... 1 1 1]\n",
      " [0 0 0 ... 0 0 0]]\n",
      "2020-12-23 16:33:26,701 [DEBUG] kashgari - predict seq_length: None, input: (2, 161, 76)\n"
     ]
    },
    {
     "name": "stdout",
     "output_type": "stream",
     "text": [
      "6/6 [==============================] - 1s 176ms/step\n"
     ]
    },
    {
     "name": "stderr",
     "output_type": "stream",
     "text": [
      "2020-12-23 16:33:34,481 [DEBUG] kashgari - predict output: (161, 76)\n",
      "2020-12-23 16:33:34,481 [DEBUG] kashgari - predict output argmax: [[0 1 1 ... 1 1 1]\n",
      " [0 1 1 ... 1 1 1]\n",
      " [0 1 1 ... 1 1 1]\n",
      " ...\n",
      " [0 1 1 ... 1 1 1]\n",
      " [0 1 1 ... 1 1 1]\n",
      " [0 0 0 ... 0 0 0]]\n",
      "2020-12-23 16:33:34,484 [DEBUG] kashgari - predict seq_length: None, input: (2, 137, 35)\n"
     ]
    },
    {
     "name": "stdout",
     "output_type": "stream",
     "text": [
      "5/5 [==============================] - 0s 88ms/step\n"
     ]
    },
    {
     "name": "stderr",
     "output_type": "stream",
     "text": [
      "2020-12-23 16:33:41,501 [DEBUG] kashgari - predict output: (137, 35)\n",
      "2020-12-23 16:33:41,502 [DEBUG] kashgari - predict output argmax: [[0 1 1 ... 1 1 1]\n",
      " [0 1 1 ... 1 1 1]\n",
      " [0 1 1 ... 1 1 1]\n",
      " ...\n",
      " [0 1 1 ... 1 1 1]\n",
      " [0 1 1 ... 1 1 1]\n",
      " [0 0 0 ... 0 0 0]]\n",
      "2020-12-23 16:33:41,506 [DEBUG] kashgari - predict seq_length: None, input: (2, 98, 73)\n"
     ]
    },
    {
     "name": "stdout",
     "output_type": "stream",
     "text": [
      "4/4 [==============================] - 1s 138ms/step\n"
     ]
    },
    {
     "name": "stderr",
     "output_type": "stream",
     "text": [
      "2020-12-23 16:33:42,325 [DEBUG] kashgari - predict output: (98, 73)\n",
      "2020-12-23 16:33:42,326 [DEBUG] kashgari - predict output argmax: [[0 1 1 ... 1 1 1]\n",
      " [0 1 1 ... 1 1 1]\n",
      " [0 1 1 ... 1 1 1]\n",
      " ...\n",
      " [0 1 1 ... 1 1 1]\n",
      " [0 1 1 ... 1 1 1]\n",
      " [0 0 0 ... 0 0 0]]\n",
      "2020-12-23 16:33:42,329 [DEBUG] kashgari - predict seq_length: None, input: (2, 154, 26)\n"
     ]
    },
    {
     "name": "stdout",
     "output_type": "stream",
     "text": [
      "5/5 [==============================] - 0s 87ms/step\n"
     ]
    },
    {
     "name": "stderr",
     "output_type": "stream",
     "text": [
      "2020-12-23 16:33:49,313 [DEBUG] kashgari - predict output: (154, 26)\n",
      "2020-12-23 16:33:49,314 [DEBUG] kashgari - predict output argmax: [[0 1 1 ... 1 1 1]\n",
      " [0 1 1 ... 1 1 1]\n",
      " [0 1 1 ... 1 1 1]\n",
      " ...\n",
      " [0 1 0 ... 1 1 1]\n",
      " [0 1 1 ... 1 1 1]\n",
      " [0 0 0 ... 0 0 0]]\n",
      "2020-12-23 16:33:49,316 [DEBUG] kashgari - predict seq_length: None, input: (2, 69, 41)\n"
     ]
    },
    {
     "name": "stdout",
     "output_type": "stream",
     "text": [
      "3/3 [==============================] - 0s 68ms/step\n"
     ]
    },
    {
     "name": "stderr",
     "output_type": "stream",
     "text": [
      "2020-12-23 16:33:49,691 [DEBUG] kashgari - predict output: (69, 41)\n",
      "2020-12-23 16:33:49,692 [DEBUG] kashgari - predict output argmax: [[0 1 1 ... 1 1 1]\n",
      " [0 1 1 ... 1 1 1]\n",
      " [0 1 1 ... 1 1 1]\n",
      " ...\n",
      " [0 1 1 ... 1 1 1]\n",
      " [0 1 1 ... 1 1 1]\n",
      " [0 0 0 ... 0 0 0]]\n",
      "2020-12-23 16:33:49,696 [DEBUG] kashgari - predict seq_length: None, input: (2, 121, 61)\n"
     ]
    },
    {
     "name": "stdout",
     "output_type": "stream",
     "text": [
      "4/4 [==============================] - 1s 145ms/step\n"
     ]
    },
    {
     "name": "stderr",
     "output_type": "stream",
     "text": [
      "2020-12-23 16:33:56,866 [DEBUG] kashgari - predict output: (121, 61)\n",
      "2020-12-23 16:33:56,867 [DEBUG] kashgari - predict output argmax: [[0 1 1 ... 1 1 1]\n",
      " [0 1 1 ... 1 1 1]\n",
      " [0 1 1 ... 4 4 4]\n",
      " ...\n",
      " [0 3 2 ... 1 1 1]\n",
      " [0 1 1 ... 1 1 1]\n",
      " [0 0 0 ... 0 0 0]]\n",
      "2020-12-23 16:33:56,870 [DEBUG] kashgari - predict seq_length: None, input: (2, 143, 31)\n"
     ]
    },
    {
     "name": "stdout",
     "output_type": "stream",
     "text": [
      "5/5 [==============================] - 0s 85ms/step\n"
     ]
    },
    {
     "name": "stderr",
     "output_type": "stream",
     "text": [
      "2020-12-23 16:33:57,443 [DEBUG] kashgari - predict output: (143, 31)\n",
      "2020-12-23 16:33:57,444 [DEBUG] kashgari - predict output argmax: [[0 1 1 ... 1 1 1]\n",
      " [0 1 1 ... 1 1 1]\n",
      " [0 1 1 ... 1 1 1]\n",
      " ...\n",
      " [0 1 1 ... 1 1 1]\n",
      " [0 1 1 ... 1 1 1]\n",
      " [0 0 0 ... 0 0 0]]\n",
      "2020-12-23 16:33:57,448 [DEBUG] kashgari - predict seq_length: None, input: (2, 139, 66)\n"
     ]
    },
    {
     "name": "stdout",
     "output_type": "stream",
     "text": [
      "5/5 [==============================] - 1s 155ms/step\n"
     ]
    },
    {
     "name": "stderr",
     "output_type": "stream",
     "text": [
      "2020-12-23 16:34:05,264 [DEBUG] kashgari - predict output: (139, 66)\n",
      "2020-12-23 16:34:05,264 [DEBUG] kashgari - predict output argmax: [[0 1 1 ... 1 1 1]\n",
      " [0 1 1 ... 1 1 1]\n",
      " [0 1 1 ... 1 1 1]\n",
      " ...\n",
      " [0 1 1 ... 1 1 1]\n",
      " [0 1 1 ... 1 1 1]\n",
      " [0 0 0 ... 0 0 0]]\n",
      "2020-12-23 16:34:05,267 [DEBUG] kashgari - predict seq_length: None, input: (2, 139, 38)\n"
     ]
    },
    {
     "name": "stdout",
     "output_type": "stream",
     "text": [
      "5/5 [==============================] - 0s 98ms/step\n"
     ]
    },
    {
     "name": "stderr",
     "output_type": "stream",
     "text": [
      "2020-12-23 16:34:05,925 [DEBUG] kashgari - predict output: (139, 38)\n",
      "2020-12-23 16:34:05,925 [DEBUG] kashgari - predict output argmax: [[0 1 1 ... 1 1 1]\n",
      " [0 1 1 ... 1 1 1]\n",
      " [0 1 1 ... 1 1 1]\n",
      " ...\n",
      " [0 1 1 ... 1 1 1]\n",
      " [0 1 1 ... 1 1 1]\n",
      " [0 0 0 ... 0 0 0]]\n",
      "2020-12-23 16:34:05,930 [DEBUG] kashgari - predict seq_length: None, input: (2, 135, 55)\n"
     ]
    },
    {
     "name": "stdout",
     "output_type": "stream",
     "text": [
      "5/5 [==============================] - 1s 128ms/step\n"
     ]
    },
    {
     "name": "stderr",
     "output_type": "stream",
     "text": [
      "2020-12-23 16:34:13,178 [DEBUG] kashgari - predict output: (135, 55)\n",
      "2020-12-23 16:34:13,179 [DEBUG] kashgari - predict output argmax: [[0 1 1 ... 1 1 1]\n",
      " [0 1 1 ... 1 1 1]\n",
      " [0 1 1 ... 1 1 1]\n",
      " ...\n",
      " [0 1 1 ... 1 1 0]\n",
      " [0 1 1 ... 1 1 1]\n",
      " [0 0 0 ... 0 0 0]]\n",
      "2020-12-23 16:34:13,181 [DEBUG] kashgari - predict seq_length: None, input: (2, 72, 77)\n"
     ]
    },
    {
     "name": "stdout",
     "output_type": "stream",
     "text": [
      "3/3 [==============================] - 0s 117ms/step\n"
     ]
    },
    {
     "name": "stderr",
     "output_type": "stream",
     "text": [
      "2020-12-23 16:34:20,249 [DEBUG] kashgari - predict output: (72, 77)\n",
      "2020-12-23 16:34:20,250 [DEBUG] kashgari - predict output argmax: [[0 1 1 ... 1 1 1]\n",
      " [0 1 1 ... 1 1 1]\n",
      " [0 1 1 ... 1 1 1]\n",
      " ...\n",
      " [0 1 1 ... 1 1 1]\n",
      " [0 1 1 ... 1 1 1]\n",
      " [0 0 0 ... 0 0 0]]\n",
      "2020-12-23 16:34:20,252 [DEBUG] kashgari - predict seq_length: None, input: (2, 74, 57)\n"
     ]
    },
    {
     "name": "stdout",
     "output_type": "stream",
     "text": [
      "3/3 [==============================] - 0s 97ms/step\n"
     ]
    },
    {
     "name": "stderr",
     "output_type": "stream",
     "text": [
      "2020-12-23 16:34:20,770 [DEBUG] kashgari - predict output: (74, 57)\n",
      "2020-12-23 16:34:20,771 [DEBUG] kashgari - predict output argmax: [[0 1 1 ... 1 1 1]\n",
      " [0 1 1 ... 1 1 1]\n",
      " [0 1 1 ... 4 4 4]\n",
      " ...\n",
      " [0 1 1 ... 1 1 1]\n",
      " [0 1 1 ... 1 1 1]\n",
      " [0 0 0 ... 0 0 0]]\n",
      "2020-12-23 16:34:20,774 [DEBUG] kashgari - predict seq_length: None, input: (2, 218, 36)\n"
     ]
    },
    {
     "name": "stdout",
     "output_type": "stream",
     "text": [
      "7/7 [==============================] - 1s 110ms/step\n"
     ]
    },
    {
     "name": "stderr",
     "output_type": "stream",
     "text": [
      "2020-12-23 16:34:21,710 [DEBUG] kashgari - predict output: (218, 36)\n",
      "2020-12-23 16:34:21,711 [DEBUG] kashgari - predict output argmax: [[0 1 1 ... 1 1 1]\n",
      " [0 1 1 ... 1 1 1]\n",
      " [0 1 1 ... 1 1 1]\n",
      " ...\n",
      " [0 1 1 ... 1 1 1]\n",
      " [0 1 1 ... 1 1 1]\n",
      " [0 0 0 ... 0 0 0]]\n",
      "2020-12-23 16:34:21,714 [DEBUG] kashgari - predict seq_length: None, input: (2, 89, 47)\n"
     ]
    },
    {
     "name": "stdout",
     "output_type": "stream",
     "text": [
      "3/3 [==============================] - 0s 105ms/step\n"
     ]
    },
    {
     "name": "stderr",
     "output_type": "stream",
     "text": [
      "2020-12-23 16:34:28,964 [DEBUG] kashgari - predict output: (89, 47)\n",
      "2020-12-23 16:34:28,965 [DEBUG] kashgari - predict output argmax: [[0 1 1 ... 1 1 1]\n",
      " [0 1 1 ... 1 1 1]\n",
      " [0 1 1 ... 1 1 1]\n",
      " ...\n",
      " [0 1 1 ... 1 1 1]\n",
      " [0 1 1 ... 1 1 1]\n",
      " [0 0 0 ... 0 0 0]]\n",
      "2020-12-23 16:34:28,969 [DEBUG] kashgari - predict seq_length: None, input: (2, 246, 115)\n"
     ]
    },
    {
     "name": "stdout",
     "output_type": "stream",
     "text": [
      "8/8 [==============================] - 3s 314ms/step\n"
     ]
    },
    {
     "name": "stderr",
     "output_type": "stream",
     "text": [
      "2020-12-23 16:34:38,467 [DEBUG] kashgari - predict output: (246, 115)\n",
      "2020-12-23 16:34:38,468 [DEBUG] kashgari - predict output argmax: [[0 1 1 ... 1 1 1]\n",
      " [0 1 1 ... 1 1 1]\n",
      " [0 1 1 ... 2 2 2]\n",
      " ...\n",
      " [0 1 1 ... 1 1 1]\n",
      " [0 1 0 ... 1 1 1]\n",
      " [0 0 0 ... 0 0 0]]\n",
      "2020-12-23 16:34:38,472 [DEBUG] kashgari - predict seq_length: None, input: (2, 169, 56)\n"
     ]
    },
    {
     "name": "stdout",
     "output_type": "stream",
     "text": [
      "6/6 [==============================] - 1s 144ms/step\n"
     ]
    },
    {
     "name": "stderr",
     "output_type": "stream",
     "text": [
      "2020-12-23 16:34:39,562 [DEBUG] kashgari - predict output: (169, 56)\n",
      "2020-12-23 16:34:39,563 [DEBUG] kashgari - predict output argmax: [[0 1 1 ... 1 1 1]\n",
      " [0 1 1 ... 1 1 1]\n",
      " [0 1 1 ... 1 1 1]\n",
      " ...\n",
      " [0 1 1 ... 1 1 1]\n",
      " [0 1 1 ... 1 1 1]\n",
      " [0 0 0 ... 0 0 0]]\n",
      "2020-12-23 16:34:39,566 [DEBUG] kashgari - predict seq_length: None, input: (2, 60, 62)\n"
     ]
    },
    {
     "name": "stdout",
     "output_type": "stream",
     "text": [
      "2/2 [==============================] - 0s 99ms/step\n"
     ]
    },
    {
     "name": "stderr",
     "output_type": "stream",
     "text": [
      "2020-12-23 16:34:40,005 [DEBUG] kashgari - predict output: (60, 62)\n",
      "2020-12-23 16:34:40,006 [DEBUG] kashgari - predict output argmax: [[0 1 1 ... 1 1 1]\n",
      " [0 1 1 ... 1 1 1]\n",
      " [0 1 1 ... 1 1 1]\n",
      " ...\n",
      " [0 1 1 ... 1 1 1]\n",
      " [0 1 1 ... 1 1 1]\n",
      " [0 0 0 ... 0 0 0]]\n",
      "2020-12-23 16:34:40,010 [DEBUG] kashgari - predict seq_length: None, input: (2, 104, 163)\n"
     ]
    },
    {
     "name": "stdout",
     "output_type": "stream",
     "text": [
      "4/4 [==============================] - 1s 316ms/step\n"
     ]
    },
    {
     "name": "stderr",
     "output_type": "stream",
     "text": [
      "2020-12-23 16:34:41,840 [DEBUG] kashgari - predict output: (104, 163)\n",
      "2020-12-23 16:34:41,841 [DEBUG] kashgari - predict output argmax: [[0 1 1 ... 1 1 1]\n",
      " [0 1 1 ... 1 1 1]\n",
      " [0 1 1 ... 1 1 1]\n",
      " ...\n",
      " [0 1 1 ... 1 1 1]\n",
      " [0 1 1 ... 1 1 1]\n",
      " [0 0 0 ... 0 0 0]]\n",
      "2020-12-23 16:34:41,844 [DEBUG] kashgari - predict seq_length: None, input: (2, 96, 57)\n"
     ]
    },
    {
     "name": "stdout",
     "output_type": "stream",
     "text": [
      "3/3 [==============================] - 0s 116ms/step\n"
     ]
    },
    {
     "name": "stderr",
     "output_type": "stream",
     "text": [
      "2020-12-23 16:34:46,646 [DEBUG] kashgari - predict output: (96, 57)\n",
      "2020-12-23 16:34:46,646 [DEBUG] kashgari - predict output argmax: [[0 1 1 ... 2 2 2]\n",
      " [0 1 1 ... 1 1 1]\n",
      " [0 1 1 ... 1 1 1]\n",
      " ...\n",
      " [0 1 1 ... 1 1 1]\n",
      " [0 1 1 ... 1 1 1]\n",
      " [0 0 0 ... 0 0 0]]\n",
      "2020-12-23 16:34:46,649 [DEBUG] kashgari - predict seq_length: None, input: (2, 111, 42)\n"
     ]
    },
    {
     "name": "stdout",
     "output_type": "stream",
     "text": [
      "4/4 [==============================] - 0s 96ms/step\n"
     ]
    },
    {
     "name": "stderr",
     "output_type": "stream",
     "text": [
      "2020-12-23 16:34:47,213 [DEBUG] kashgari - predict output: (111, 42)\n",
      "2020-12-23 16:34:47,213 [DEBUG] kashgari - predict output argmax: [[0 1 1 ... 1 1 1]\n",
      " [0 1 1 ... 1 1 1]\n",
      " [0 1 1 ... 1 1 1]\n",
      " ...\n",
      " [0 1 1 ... 1 1 1]\n",
      " [0 1 1 ... 1 1 1]\n",
      " [0 0 0 ... 0 0 0]]\n",
      "2020-12-23 16:34:47,218 [DEBUG] kashgari - predict seq_length: None, input: (2, 159, 61)\n"
     ]
    },
    {
     "name": "stdout",
     "output_type": "stream",
     "text": [
      "5/5 [==============================] - 1s 167ms/step\n"
     ]
    },
    {
     "name": "stderr",
     "output_type": "stream",
     "text": [
      "2020-12-23 16:34:48,299 [DEBUG] kashgari - predict output: (159, 61)\n",
      "2020-12-23 16:34:48,300 [DEBUG] kashgari - predict output argmax: [[0 1 1 ... 1 1 1]\n",
      " [0 1 2 ... 2 2 2]\n",
      " [0 1 1 ... 1 1 1]\n",
      " ...\n",
      " [0 1 1 ... 1 1 1]\n",
      " [0 1 1 ... 1 1 1]\n",
      " [0 0 0 ... 0 0 0]]\n",
      "2020-12-23 16:34:48,302 [DEBUG] kashgari - predict seq_length: None, input: (2, 102, 38)\n"
     ]
    },
    {
     "name": "stdout",
     "output_type": "stream",
     "text": [
      "4/4 [==============================] - 0s 86ms/step\n"
     ]
    },
    {
     "name": "stderr",
     "output_type": "stream",
     "text": [
      "2020-12-23 16:34:48,817 [DEBUG] kashgari - predict output: (102, 38)\n",
      "2020-12-23 16:34:48,818 [DEBUG] kashgari - predict output argmax: [[0 1 1 ... 1 1 1]\n",
      " [0 1 1 ... 1 1 1]\n",
      " [0 1 1 ... 1 1 1]\n",
      " ...\n",
      " [0 1 1 ... 1 1 1]\n",
      " [0 1 1 ... 1 1 1]\n",
      " [0 0 0 ... 0 0 0]]\n",
      "2020-12-23 16:34:48,822 [DEBUG] kashgari - predict seq_length: None, input: (2, 127, 46)\n"
     ]
    },
    {
     "name": "stdout",
     "output_type": "stream",
     "text": [
      "4/4 [==============================] - 0s 117ms/step\n"
     ]
    },
    {
     "name": "stderr",
     "output_type": "stream",
     "text": [
      "2020-12-23 16:34:56,341 [DEBUG] kashgari - predict output: (127, 46)\n",
      "2020-12-23 16:34:56,342 [DEBUG] kashgari - predict output argmax: [[0 1 1 ... 1 1 1]\n",
      " [0 1 1 ... 1 1 1]\n",
      " [0 1 1 ... 1 1 1]\n",
      " ...\n",
      " [0 1 1 ... 1 1 1]\n",
      " [0 1 1 ... 1 1 1]\n",
      " [0 0 0 ... 0 0 0]]\n",
      "2020-12-23 16:34:56,346 [DEBUG] kashgari - predict seq_length: None, input: (2, 271, 83)\n"
     ]
    },
    {
     "name": "stdout",
     "output_type": "stream",
     "text": [
      "9/9 [==============================] - 2s 229ms/step\n"
     ]
    },
    {
     "name": "stderr",
     "output_type": "stream",
     "text": [
      "2020-12-23 16:35:07,685 [DEBUG] kashgari - predict output: (271, 83)\n",
      "2020-12-23 16:35:07,686 [DEBUG] kashgari - predict output argmax: [[0 1 1 ... 1 1 1]\n",
      " [0 1 1 ... 1 1 1]\n",
      " [0 1 1 ... 1 1 1]\n",
      " ...\n",
      " [0 1 1 ... 1 1 1]\n",
      " [0 1 1 ... 1 1 1]\n",
      " [0 0 0 ... 0 0 0]]\n",
      "2020-12-23 16:35:07,689 [DEBUG] kashgari - predict seq_length: None, input: (2, 163, 53)\n"
     ]
    },
    {
     "name": "stdout",
     "output_type": "stream",
     "text": [
      "6/6 [==============================] - 1s 134ms/step\n"
     ]
    },
    {
     "name": "stderr",
     "output_type": "stream",
     "text": [
      "2020-12-23 16:35:08,710 [DEBUG] kashgari - predict output: (163, 53)\n",
      "2020-12-23 16:35:08,712 [DEBUG] kashgari - predict output argmax: [[0 1 1 ... 1 1 1]\n",
      " [0 1 1 ... 1 1 1]\n",
      " [0 1 1 ... 1 1 1]\n",
      " ...\n",
      " [0 1 1 ... 1 1 1]\n",
      " [0 1 1 ... 1 1 1]\n",
      " [0 0 0 ... 0 0 0]]\n",
      "2020-12-23 16:35:08,715 [DEBUG] kashgari - predict seq_length: None, input: (2, 67, 27)\n"
     ]
    },
    {
     "name": "stdout",
     "output_type": "stream",
     "text": [
      "3/3 [==============================] - 0s 58ms/step\n"
     ]
    },
    {
     "name": "stderr",
     "output_type": "stream",
     "text": [
      "2020-12-23 16:35:15,652 [DEBUG] kashgari - predict output: (67, 27)\n",
      "2020-12-23 16:35:15,652 [DEBUG] kashgari - predict output argmax: [[0 1 1 ... 1 1 1]\n",
      " [0 1 1 ... 1 1 1]\n",
      " [0 1 1 ... 2 2 2]\n",
      " ...\n",
      " [0 1 1 ... 1 1 1]\n",
      " [0 1 1 ... 1 1 1]\n",
      " [0 0 0 ... 0 0 0]]\n",
      "2020-12-23 16:35:15,655 [DEBUG] kashgari - predict seq_length: None, input: (2, 190, 56)\n"
     ]
    },
    {
     "name": "stdout",
     "output_type": "stream",
     "text": [
      "6/6 [==============================] - 1s 159ms/step\n"
     ]
    },
    {
     "name": "stderr",
     "output_type": "stream",
     "text": [
      "2020-12-23 16:35:16,833 [DEBUG] kashgari - predict output: (190, 56)\n",
      "2020-12-23 16:35:16,834 [DEBUG] kashgari - predict output argmax: [[0 1 1 ... 1 1 1]\n",
      " [0 1 1 ... 1 1 1]\n",
      " [0 1 1 ... 1 1 1]\n",
      " ...\n",
      " [0 1 1 ... 1 1 1]\n",
      " [0 1 1 ... 1 1 1]\n",
      " [0 0 0 ... 0 0 0]]\n",
      "2020-12-23 16:35:16,838 [DEBUG] kashgari - predict seq_length: None, input: (2, 109, 53)\n"
     ]
    },
    {
     "name": "stdout",
     "output_type": "stream",
     "text": [
      "4/4 [==============================] - 0s 122ms/step\n"
     ]
    },
    {
     "name": "stderr",
     "output_type": "stream",
     "text": [
      "2020-12-23 16:35:17,546 [DEBUG] kashgari - predict output: (109, 53)\n",
      "2020-12-23 16:35:17,547 [DEBUG] kashgari - predict output argmax: [[0 1 1 ... 1 1 1]\n",
      " [0 1 1 ... 1 1 1]\n",
      " [0 1 1 ... 1 1 1]\n",
      " ...\n",
      " [0 1 1 ... 1 1 1]\n",
      " [0 1 1 ... 1 1 1]\n",
      " [0 0 0 ... 0 0 0]]\n",
      "2020-12-23 16:35:17,549 [DEBUG] kashgari - predict seq_length: None, input: (2, 107, 104)\n"
     ]
    },
    {
     "name": "stdout",
     "output_type": "stream",
     "text": [
      "4/4 [==============================] - 1s 200ms/step\n"
     ]
    },
    {
     "name": "stderr",
     "output_type": "stream",
     "text": [
      "2020-12-23 16:35:25,037 [DEBUG] kashgari - predict output: (107, 104)\n",
      "2020-12-23 16:35:25,038 [DEBUG] kashgari - predict output argmax: [[0 1 1 ... 1 1 1]\n",
      " [0 1 1 ... 1 1 1]\n",
      " [0 1 1 ... 1 1 1]\n",
      " ...\n",
      " [0 1 1 ... 1 1 1]\n",
      " [0 1 1 ... 1 1 1]\n",
      " [0 0 0 ... 0 0 0]]\n",
      "2020-12-23 16:35:25,040 [DEBUG] kashgari - predict seq_length: None, input: (2, 158, 30)\n"
     ]
    },
    {
     "name": "stdout",
     "output_type": "stream",
     "text": [
      "5/5 [==============================] - 0s 90ms/step\n"
     ]
    },
    {
     "name": "stderr",
     "output_type": "stream",
     "text": [
      "2020-12-23 16:35:31,968 [DEBUG] kashgari - predict output: (158, 30)\n",
      "2020-12-23 16:35:31,969 [DEBUG] kashgari - predict output argmax: [[0 1 1 ... 1 1 1]\n",
      " [0 1 1 ... 1 1 1]\n",
      " [0 1 1 ... 1 1 1]\n",
      " ...\n",
      " [0 1 1 ... 1 1 1]\n",
      " [0 1 1 ... 1 1 1]\n",
      " [0 0 0 ... 0 0 0]]\n",
      "2020-12-23 16:35:31,973 [DEBUG] kashgari - predict seq_length: None, input: (2, 264, 121)\n"
     ]
    },
    {
     "name": "stdout",
     "output_type": "stream",
     "text": [
      "9/9 [==============================] - 3s 319ms/step\n"
     ]
    },
    {
     "name": "stderr",
     "output_type": "stream",
     "text": [
      "2020-12-23 16:35:41,601 [DEBUG] kashgari - predict output: (264, 121)\n",
      "2020-12-23 16:35:41,602 [DEBUG] kashgari - predict output argmax: [[0 1 1 ... 1 1 1]\n",
      " [0 1 1 ... 1 1 1]\n",
      " [0 1 1 ... 1 1 1]\n",
      " ...\n",
      " [0 1 1 ... 1 1 1]\n",
      " [0 1 1 ... 1 1 1]\n",
      " [0 0 0 ... 0 0 0]]\n",
      "2020-12-23 16:35:41,605 [DEBUG] kashgari - predict seq_length: None, input: (2, 112, 110)\n"
     ]
    },
    {
     "name": "stdout",
     "output_type": "stream",
     "text": [
      "4/4 [==============================] - 1s 227ms/step\n"
     ]
    },
    {
     "name": "stderr",
     "output_type": "stream",
     "text": [
      "2020-12-23 16:35:49,222 [DEBUG] kashgari - predict output: (112, 110)\n",
      "2020-12-23 16:35:49,223 [DEBUG] kashgari - predict output argmax: [[0 1 1 ... 1 1 1]\n",
      " [0 1 1 ... 1 1 1]\n",
      " [0 1 1 ... 1 1 1]\n",
      " ...\n",
      " [0 1 1 ... 1 1 1]\n",
      " [0 1 1 ... 1 1 1]\n",
      " [0 0 0 ... 0 0 0]]\n",
      "2020-12-23 16:35:49,226 [DEBUG] kashgari - predict seq_length: None, input: (2, 188, 95)\n"
     ]
    },
    {
     "name": "stdout",
     "output_type": "stream",
     "text": [
      "6/6 [==============================] - 2s 260ms/step\n"
     ]
    },
    {
     "name": "stderr",
     "output_type": "stream",
     "text": [
      "2020-12-23 16:35:51,148 [DEBUG] kashgari - predict output: (188, 95)\n",
      "2020-12-23 16:35:51,149 [DEBUG] kashgari - predict output argmax: [[0 1 1 ... 1 1 1]\n",
      " [0 1 1 ... 1 1 1]\n",
      " [0 1 1 ... 1 1 1]\n",
      " ...\n",
      " [0 1 1 ... 1 1 1]\n",
      " [0 1 1 ... 1 1 1]\n",
      " [0 0 0 ... 0 0 0]]\n",
      "2020-12-23 16:35:51,151 [DEBUG] kashgari - predict seq_length: None, input: (2, 51, 48)\n"
     ]
    },
    {
     "name": "stdout",
     "output_type": "stream",
     "text": [
      "2/2 [==============================] - 0s 63ms/step\n"
     ]
    },
    {
     "name": "stderr",
     "output_type": "stream",
     "text": [
      "2020-12-23 16:35:51,472 [DEBUG] kashgari - predict output: (51, 48)\n",
      "2020-12-23 16:35:51,472 [DEBUG] kashgari - predict output argmax: [[0 1 1 ... 1 1 1]\n",
      " [0 1 1 ... 1 1 1]\n",
      " [0 1 1 ... 1 1 1]\n",
      " ...\n",
      " [0 1 1 ... 1 1 1]\n",
      " [0 1 1 ... 1 1 1]\n",
      " [0 0 0 ... 0 0 0]]\n",
      "2020-12-23 16:35:51,474 [DEBUG] kashgari - predict seq_length: None, input: (2, 55, 50)\n"
     ]
    },
    {
     "name": "stdout",
     "output_type": "stream",
     "text": [
      "2/2 [==============================] - 0s 70ms/step\n"
     ]
    },
    {
     "name": "stderr",
     "output_type": "stream",
     "text": [
      "2020-12-23 16:35:51,829 [DEBUG] kashgari - predict output: (55, 50)\n",
      "2020-12-23 16:35:51,831 [DEBUG] kashgari - predict output argmax: [[0 1 1 ... 1 1 1]\n",
      " [0 1 1 ... 1 1 1]\n",
      " [0 1 1 ... 1 1 1]\n",
      " ...\n",
      " [0 1 1 ... 1 1 1]\n",
      " [0 1 1 ... 1 1 1]\n",
      " [0 0 0 ... 0 0 0]]\n",
      "2020-12-23 16:35:51,835 [DEBUG] kashgari - predict seq_length: None, input: (2, 128, 81)\n"
     ]
    },
    {
     "name": "stdout",
     "output_type": "stream",
     "text": [
      "4/4 [==============================] - 1s 181ms/step\n"
     ]
    },
    {
     "name": "stderr",
     "output_type": "stream",
     "text": [
      "2020-12-23 16:35:57,106 [DEBUG] kashgari - predict output: (128, 81)\n",
      "2020-12-23 16:35:57,107 [DEBUG] kashgari - predict output argmax: [[0 1 1 ... 1 1 1]\n",
      " [0 1 1 ... 1 1 1]\n",
      " [0 1 1 ... 1 1 1]\n",
      " ...\n",
      " [0 1 1 ... 1 1 1]\n",
      " [0 1 1 ... 1 1 1]\n",
      " [0 0 0 ... 0 0 0]]\n",
      "2020-12-23 16:35:57,110 [DEBUG] kashgari - predict seq_length: None, input: (2, 90, 51)\n"
     ]
    },
    {
     "name": "stdout",
     "output_type": "stream",
     "text": [
      "3/3 [==============================] - 0s 112ms/step\n"
     ]
    },
    {
     "name": "stderr",
     "output_type": "stream",
     "text": [
      "2020-12-23 16:36:04,754 [DEBUG] kashgari - predict output: (90, 51)\n",
      "2020-12-23 16:36:04,755 [DEBUG] kashgari - predict output argmax: [[0 1 1 ... 4 4 4]\n",
      " [0 1 1 ... 1 1 1]\n",
      " [0 1 1 ... 1 1 1]\n",
      " ...\n",
      " [0 1 1 ... 1 1 1]\n",
      " [0 1 1 ... 1 1 1]\n",
      " [0 0 0 ... 0 0 0]]\n",
      "2020-12-23 16:36:04,759 [DEBUG] kashgari - predict seq_length: None, input: (2, 129, 47)\n"
     ]
    },
    {
     "name": "stdout",
     "output_type": "stream",
     "text": [
      "5/5 [==============================] - 1s 109ms/step\n"
     ]
    },
    {
     "name": "stderr",
     "output_type": "stream",
     "text": [
      "2020-12-23 16:36:05,499 [DEBUG] kashgari - predict output: (129, 47)\n",
      "2020-12-23 16:36:05,500 [DEBUG] kashgari - predict output argmax: [[ 0  1  1 ...  1  1  1]\n",
      " [ 0  1  1 ...  1  1  1]\n",
      " [ 0  1  1 ...  1  1  1]\n",
      " ...\n",
      " [ 0  1  1 ... 17 17 17]\n",
      " [ 0  1  1 ...  1  1  1]\n",
      " [ 0  0  0 ...  0  0  0]]\n",
      "2020-12-23 16:36:05,503 [DEBUG] kashgari - predict seq_length: None, input: (2, 93, 46)\n"
     ]
    },
    {
     "name": "stdout",
     "output_type": "stream",
     "text": [
      "3/3 [==============================] - 0s 102ms/step\n"
     ]
    },
    {
     "name": "stderr",
     "output_type": "stream",
     "text": [
      "2020-12-23 16:36:06,002 [DEBUG] kashgari - predict output: (93, 46)\n",
      "2020-12-23 16:36:06,003 [DEBUG] kashgari - predict output argmax: [[0 1 1 ... 1 1 1]\n",
      " [0 1 1 ... 1 1 1]\n",
      " [0 1 1 ... 1 1 1]\n",
      " ...\n",
      " [0 1 1 ... 1 1 1]\n",
      " [0 1 1 ... 1 1 1]\n",
      " [0 0 0 ... 0 0 0]]\n",
      "2020-12-23 16:36:06,008 [DEBUG] kashgari - predict seq_length: None, input: (2, 176, 31)\n"
     ]
    },
    {
     "name": "stdout",
     "output_type": "stream",
     "text": [
      "6/6 [==============================] - 1s 93ms/step\n"
     ]
    },
    {
     "name": "stderr",
     "output_type": "stream",
     "text": [
      "2020-12-23 16:36:06,715 [DEBUG] kashgari - predict output: (176, 31)\n",
      "2020-12-23 16:36:06,716 [DEBUG] kashgari - predict output argmax: [[0 1 1 ... 1 1 1]\n",
      " [0 1 1 ... 1 1 1]\n",
      " [0 1 1 ... 1 1 1]\n",
      " ...\n",
      " [0 1 1 ... 1 1 1]\n",
      " [0 1 1 ... 1 1 1]\n",
      " [0 0 0 ... 0 0 0]]\n",
      "2020-12-23 16:36:06,718 [DEBUG] kashgari - predict seq_length: None, input: (2, 78, 45)\n"
     ]
    },
    {
     "name": "stdout",
     "output_type": "stream",
     "text": [
      "3/3 [==============================] - 0s 89ms/step\n"
     ]
    },
    {
     "name": "stderr",
     "output_type": "stream",
     "text": [
      "2020-12-23 16:36:07,173 [DEBUG] kashgari - predict output: (78, 45)\n",
      "2020-12-23 16:36:07,174 [DEBUG] kashgari - predict output argmax: [[0 1 1 ... 1 1 1]\n",
      " [0 1 1 ... 1 1 1]\n",
      " [0 1 1 ... 1 1 1]\n",
      " ...\n",
      " [0 1 1 ... 1 1 1]\n",
      " [0 1 1 ... 1 1 1]\n",
      " [0 0 0 ... 0 0 0]]\n",
      "2020-12-23 16:36:07,178 [DEBUG] kashgari - predict seq_length: None, input: (2, 230, 61)\n"
     ]
    },
    {
     "name": "stdout",
     "output_type": "stream",
     "text": [
      "8/8 [==============================] - 1s 168ms/step\n"
     ]
    },
    {
     "name": "stderr",
     "output_type": "stream",
     "text": [
      "2020-12-23 16:36:08,770 [DEBUG] kashgari - predict output: (230, 61)\n",
      "2020-12-23 16:36:08,770 [DEBUG] kashgari - predict output argmax: [[0 1 1 ... 1 1 1]\n",
      " [0 1 1 ... 1 1 1]\n",
      " [0 1 1 ... 1 1 1]\n",
      " ...\n",
      " [0 1 1 ... 1 1 1]\n",
      " [0 1 1 ... 1 1 1]\n",
      " [0 0 0 ... 0 0 0]]\n",
      "2020-12-23 16:36:08,774 [DEBUG] kashgari - predict seq_length: None, input: (2, 154, 42)\n"
     ]
    },
    {
     "name": "stdout",
     "output_type": "stream",
     "text": [
      "5/5 [==============================] - 1s 119ms/step\n"
     ]
    },
    {
     "name": "stderr",
     "output_type": "stream",
     "text": [
      "2020-12-23 16:36:09,559 [DEBUG] kashgari - predict output: (154, 42)\n",
      "2020-12-23 16:36:09,560 [DEBUG] kashgari - predict output argmax: [[0 1 1 ... 1 1 1]\n",
      " [0 1 1 ... 1 1 1]\n",
      " [0 1 1 ... 1 1 1]\n",
      " ...\n",
      " [0 1 1 ... 1 1 1]\n",
      " [0 1 1 ... 1 1 1]\n",
      " [0 0 0 ... 0 0 0]]\n",
      "2020-12-23 16:36:09,564 [DEBUG] kashgari - predict seq_length: None, input: (2, 197, 50)\n"
     ]
    },
    {
     "name": "stdout",
     "output_type": "stream",
     "text": [
      "7/7 [==============================] - 1s 135ms/step\n"
     ]
    },
    {
     "name": "stderr",
     "output_type": "stream",
     "text": [
      "2020-12-23 16:36:10,723 [DEBUG] kashgari - predict output: (197, 50)\n",
      "2020-12-23 16:36:10,724 [DEBUG] kashgari - predict output argmax: [[0 1 1 ... 1 1 1]\n",
      " [0 1 1 ... 1 1 1]\n",
      " [0 1 1 ... 1 1 1]\n",
      " ...\n",
      " [0 1 1 ... 1 1 1]\n",
      " [0 1 1 ... 1 1 1]\n",
      " [0 0 0 ... 0 0 0]]\n",
      "2020-12-23 16:36:10,730 [DEBUG] kashgari - predict seq_length: None, input: (2, 209, 64)\n"
     ]
    },
    {
     "name": "stdout",
     "output_type": "stream",
     "text": [
      "7/7 [==============================] - 1s 174ms/step\n"
     ]
    },
    {
     "name": "stderr",
     "output_type": "stream",
     "text": [
      "2020-12-23 16:36:18,574 [DEBUG] kashgari - predict output: (209, 64)\n",
      "2020-12-23 16:36:18,575 [DEBUG] kashgari - predict output argmax: [[0 1 1 ... 1 1 1]\n",
      " [0 1 1 ... 1 1 1]\n",
      " [0 1 1 ... 1 1 1]\n",
      " ...\n",
      " [0 1 1 ... 1 1 1]\n",
      " [0 1 1 ... 1 1 1]\n",
      " [0 0 0 ... 0 0 0]]\n",
      "2020-12-23 16:36:18,577 [DEBUG] kashgari - predict seq_length: None, input: (2, 75, 51)\n"
     ]
    },
    {
     "name": "stdout",
     "output_type": "stream",
     "text": [
      "3/3 [==============================] - 0s 94ms/step\n"
     ]
    },
    {
     "name": "stderr",
     "output_type": "stream",
     "text": [
      "2020-12-23 16:36:19,070 [DEBUG] kashgari - predict output: (75, 51)\n",
      "2020-12-23 16:36:19,071 [DEBUG] kashgari - predict output argmax: [[0 1 1 ... 1 1 1]\n",
      " [0 1 1 ... 1 1 1]\n",
      " [0 1 1 ... 1 1 1]\n",
      " ...\n",
      " [0 1 1 ... 1 1 1]\n",
      " [0 1 1 ... 1 1 1]\n",
      " [0 0 0 ... 0 0 0]]\n",
      "2020-12-23 16:36:19,073 [DEBUG] kashgari - predict seq_length: None, input: (2, 104, 148)\n"
     ]
    },
    {
     "name": "stdout",
     "output_type": "stream",
     "text": [
      "4/4 [==============================] - 1s 289ms/step\n"
     ]
    },
    {
     "name": "stderr",
     "output_type": "stream",
     "text": [
      "2020-12-23 16:36:27,080 [DEBUG] kashgari - predict output: (104, 148)\n",
      "2020-12-23 16:36:27,081 [DEBUG] kashgari - predict output argmax: [[0 1 1 ... 1 1 1]\n",
      " [0 1 1 ... 1 1 1]\n",
      " [0 1 1 ... 1 1 1]\n",
      " ...\n",
      " [0 1 1 ... 1 1 1]\n",
      " [0 1 1 ... 1 1 1]\n",
      " [0 0 0 ... 0 0 0]]\n",
      "2020-12-23 16:36:27,085 [DEBUG] kashgari - predict seq_length: None, input: (2, 161, 67)\n"
     ]
    },
    {
     "name": "stdout",
     "output_type": "stream",
     "text": [
      "6/6 [==============================] - 1s 161ms/step\n"
     ]
    },
    {
     "name": "stderr",
     "output_type": "stream",
     "text": [
      "2020-12-23 16:36:34,701 [DEBUG] kashgari - predict output: (161, 67)\n",
      "2020-12-23 16:36:34,702 [DEBUG] kashgari - predict output argmax: [[0 1 1 ... 1 1 1]\n",
      " [0 1 1 ... 1 1 1]\n",
      " [0 1 1 ... 1 1 1]\n",
      " ...\n",
      " [0 1 1 ... 1 1 1]\n",
      " [0 1 1 ... 1 1 1]\n",
      " [0 0 0 ... 0 0 0]]\n",
      "2020-12-23 16:36:34,704 [DEBUG] kashgari - predict seq_length: None, input: (2, 50, 50)\n"
     ]
    },
    {
     "name": "stdout",
     "output_type": "stream",
     "text": [
      "2/2 [==============================] - 0s 56ms/step\n"
     ]
    },
    {
     "name": "stderr",
     "output_type": "stream",
     "text": [
      "2020-12-23 16:36:35,013 [DEBUG] kashgari - predict output: (50, 50)\n",
      "2020-12-23 16:36:35,014 [DEBUG] kashgari - predict output argmax: [[0 1 1 ... 1 1 1]\n",
      " [0 1 1 ... 1 1 1]\n",
      " [0 1 1 ... 1 1 1]\n",
      " ...\n",
      " [0 1 1 ... 1 1 1]\n",
      " [0 1 1 ... 1 1 1]\n",
      " [0 0 0 ... 0 0 0]]\n",
      "2020-12-23 16:36:35,016 [DEBUG] kashgari - predict seq_length: None, input: (2, 61, 77)\n"
     ]
    },
    {
     "name": "stdout",
     "output_type": "stream",
     "text": [
      "2/2 [==============================] - 0s 122ms/step\n"
     ]
    },
    {
     "name": "stderr",
     "output_type": "stream",
     "text": [
      "2020-12-23 16:36:35,560 [DEBUG] kashgari - predict output: (61, 77)\n",
      "2020-12-23 16:36:35,561 [DEBUG] kashgari - predict output argmax: [[0 1 1 ... 1 1 1]\n",
      " [0 1 1 ... 1 1 1]\n",
      " [0 1 1 ... 1 1 1]\n",
      " ...\n",
      " [0 1 1 ... 1 1 1]\n",
      " [0 1 1 ... 1 1 1]\n",
      " [0 0 0 ... 0 0 0]]\n",
      "2020-12-23 16:36:35,563 [DEBUG] kashgari - predict seq_length: None, input: (2, 53, 36)\n"
     ]
    },
    {
     "name": "stdout",
     "output_type": "stream",
     "text": [
      "2/2 [==============================] - 0s 52ms/step\n"
     ]
    },
    {
     "name": "stderr",
     "output_type": "stream",
     "text": [
      "2020-12-23 16:36:35,832 [DEBUG] kashgari - predict output: (53, 36)\n",
      "2020-12-23 16:36:35,833 [DEBUG] kashgari - predict output argmax: [[ 0  1  1 ...  1  1  1]\n",
      " [ 0  1  1 ...  1  1  1]\n",
      " [ 0  1  1 ...  1  1  1]\n",
      " ...\n",
      " [ 0  1  1 ... 11 11 11]\n",
      " [ 0  1  1 ...  1  1  1]\n",
      " [ 0  0  0 ...  0  0  0]]\n",
      "2020-12-23 16:36:35,835 [DEBUG] kashgari - predict seq_length: None, input: (2, 41, 51)\n"
     ]
    },
    {
     "name": "stdout",
     "output_type": "stream",
     "text": [
      "2/2 [==============================] - 0s 44ms/step\n"
     ]
    },
    {
     "name": "stderr",
     "output_type": "stream",
     "text": [
      "2020-12-23 16:36:36,140 [DEBUG] kashgari - predict output: (41, 51)\n",
      "2020-12-23 16:36:36,141 [DEBUG] kashgari - predict output argmax: [[0 1 1 ... 1 1 1]\n",
      " [0 1 1 ... 1 1 1]\n",
      " [0 1 1 ... 1 1 1]\n",
      " ...\n",
      " [0 1 1 ... 1 1 1]\n",
      " [0 1 1 ... 1 1 1]\n",
      " [0 0 0 ... 0 0 0]]\n",
      "2020-12-23 16:36:36,143 [DEBUG] kashgari - predict seq_length: None, input: (2, 78, 49)\n"
     ]
    },
    {
     "name": "stdout",
     "output_type": "stream",
     "text": [
      "3/3 [==============================] - 0s 92ms/step\n"
     ]
    },
    {
     "name": "stderr",
     "output_type": "stream",
     "text": [
      "2020-12-23 16:36:36,629 [DEBUG] kashgari - predict output: (78, 49)\n",
      "2020-12-23 16:36:36,629 [DEBUG] kashgari - predict output argmax: [[0 1 1 ... 1 1 1]\n",
      " [0 1 1 ... 1 1 1]\n",
      " [0 1 1 ... 1 1 1]\n",
      " ...\n",
      " [0 1 1 ... 1 1 1]\n",
      " [0 1 1 ... 1 1 1]\n",
      " [0 0 0 ... 0 0 0]]\n",
      "2020-12-23 16:36:36,631 [DEBUG] kashgari - predict seq_length: None, input: (2, 65, 37)\n"
     ]
    },
    {
     "name": "stdout",
     "output_type": "stream",
     "text": [
      "3/3 [==============================] - 0s 62ms/step\n"
     ]
    },
    {
     "name": "stderr",
     "output_type": "stream",
     "text": [
      "2020-12-23 16:36:36,992 [DEBUG] kashgari - predict output: (65, 37)\n",
      "2020-12-23 16:36:36,993 [DEBUG] kashgari - predict output argmax: [[0 1 1 ... 1 1 1]\n",
      " [0 1 1 ... 1 1 1]\n",
      " [0 1 1 ... 1 1 1]\n",
      " ...\n",
      " [0 1 1 ... 1 1 1]\n",
      " [0 1 1 ... 1 1 1]\n",
      " [0 0 0 ... 0 0 0]]\n",
      "2020-12-23 16:36:36,997 [DEBUG] kashgari - predict seq_length: None, input: (2, 129, 127)\n"
     ]
    },
    {
     "name": "stdout",
     "output_type": "stream",
     "text": [
      "5/5 [==============================] - 1s 266ms/step\n"
     ]
    },
    {
     "name": "stderr",
     "output_type": "stream",
     "text": [
      "2020-12-23 16:36:45,114 [DEBUG] kashgari - predict output: (129, 127)\n",
      "2020-12-23 16:36:45,115 [DEBUG] kashgari - predict output argmax: [[0 1 1 ... 1 1 1]\n",
      " [0 1 1 ... 1 1 1]\n",
      " [0 1 1 ... 1 1 1]\n",
      " ...\n",
      " [0 1 1 ... 1 1 1]\n",
      " [0 1 1 ... 1 1 1]\n",
      " [0 0 0 ... 0 0 0]]\n",
      "2020-12-23 16:36:45,119 [DEBUG] kashgari - predict seq_length: None, input: (2, 240, 47)\n"
     ]
    },
    {
     "name": "stdout",
     "output_type": "stream",
     "text": [
      "8/8 [==============================] - 1s 142ms/step\n"
     ]
    },
    {
     "name": "stderr",
     "output_type": "stream",
     "text": [
      "2020-12-23 16:36:46,455 [DEBUG] kashgari - predict output: (240, 47)\n",
      "2020-12-23 16:36:46,455 [DEBUG] kashgari - predict output argmax: [[0 1 1 ... 1 1 1]\n",
      " [0 1 1 ... 1 1 1]\n",
      " [0 1 1 ... 1 1 1]\n",
      " ...\n",
      " [0 1 1 ... 1 1 1]\n",
      " [0 1 1 ... 1 1 1]\n",
      " [0 0 0 ... 0 0 0]]\n",
      "2020-12-23 16:36:46,459 [DEBUG] kashgari - predict seq_length: None, input: (2, 144, 42)\n"
     ]
    },
    {
     "name": "stdout",
     "output_type": "stream",
     "text": [
      "5/5 [==============================] - 1s 111ms/step\n"
     ]
    },
    {
     "name": "stderr",
     "output_type": "stream",
     "text": [
      "2020-12-23 16:36:47,200 [DEBUG] kashgari - predict output: (144, 42)\n",
      "2020-12-23 16:36:47,201 [DEBUG] kashgari - predict output argmax: [[0 1 1 ... 1 1 1]\n",
      " [0 1 1 ... 1 1 1]\n",
      " [0 1 1 ... 1 1 1]\n",
      " ...\n",
      " [0 1 1 ... 1 1 1]\n",
      " [0 1 1 ... 1 1 1]\n",
      " [0 0 0 ... 0 0 0]]\n",
      "2020-12-23 16:36:47,204 [DEBUG] kashgari - predict seq_length: None, input: (2, 161, 43)\n"
     ]
    },
    {
     "name": "stdout",
     "output_type": "stream",
     "text": [
      "6/6 [==============================] - 1s 115ms/step\n"
     ]
    },
    {
     "name": "stderr",
     "output_type": "stream",
     "text": [
      "2020-12-23 16:36:48,083 [DEBUG] kashgari - predict output: (161, 43)\n",
      "2020-12-23 16:36:48,084 [DEBUG] kashgari - predict output argmax: [[0 1 1 ... 4 4 4]\n",
      " [0 1 1 ... 4 4 4]\n",
      " [0 1 1 ... 1 1 1]\n",
      " ...\n",
      " [0 1 1 ... 1 1 1]\n",
      " [0 1 1 ... 1 1 1]\n",
      " [0 0 0 ... 0 0 0]]\n",
      "2020-12-23 16:36:48,088 [DEBUG] kashgari - predict seq_length: None, input: (2, 268, 40)\n"
     ]
    },
    {
     "name": "stdout",
     "output_type": "stream",
     "text": [
      "9/9 [==============================] - 1s 123ms/step\n"
     ]
    },
    {
     "name": "stderr",
     "output_type": "stream",
     "text": [
      "2020-12-23 16:36:49,387 [DEBUG] kashgari - predict output: (268, 40)\n",
      "2020-12-23 16:36:49,388 [DEBUG] kashgari - predict output argmax: [[0 1 1 ... 1 1 1]\n",
      " [0 1 1 ... 1 1 1]\n",
      " [0 1 1 ... 1 1 1]\n",
      " ...\n",
      " [0 1 1 ... 1 1 1]\n",
      " [0 1 1 ... 1 1 1]\n",
      " [0 0 0 ... 0 0 0]]\n",
      "2020-12-23 16:36:49,390 [DEBUG] kashgari - predict seq_length: None, input: (2, 51, 98)\n"
     ]
    },
    {
     "name": "stdout",
     "output_type": "stream",
     "text": [
      "2/2 [==============================] - 0s 109ms/step\n"
     ]
    },
    {
     "name": "stderr",
     "output_type": "stream",
     "text": [
      "2020-12-23 16:36:56,260 [DEBUG] kashgari - predict output: (51, 98)\n",
      "2020-12-23 16:36:56,261 [DEBUG] kashgari - predict output argmax: [[0 1 1 ... 1 1 1]\n",
      " [0 1 1 ... 1 1 1]\n",
      " [0 1 1 ... 1 1 1]\n",
      " ...\n",
      " [0 1 1 ... 1 1 1]\n",
      " [0 1 1 ... 1 1 1]\n",
      " [0 0 0 ... 0 0 0]]\n",
      "2020-12-23 16:36:56,265 [DEBUG] kashgari - predict seq_length: None, input: (2, 104, 133)\n"
     ]
    },
    {
     "name": "stdout",
     "output_type": "stream",
     "text": [
      "4/4 [==============================] - 1s 250ms/step\n"
     ]
    },
    {
     "name": "stderr",
     "output_type": "stream",
     "text": [
      "2020-12-23 16:37:04,071 [DEBUG] kashgari - predict output: (104, 133)\n",
      "2020-12-23 16:37:04,072 [DEBUG] kashgari - predict output argmax: [[0 1 1 ... 1 1 1]\n",
      " [0 1 1 ... 1 1 1]\n",
      " [0 1 1 ... 1 1 1]\n",
      " ...\n",
      " [0 1 1 ... 1 1 1]\n",
      " [0 1 1 ... 1 1 1]\n",
      " [0 0 0 ... 0 0 0]]\n",
      "2020-12-23 16:37:04,075 [DEBUG] kashgari - predict seq_length: None, input: (2, 159, 103)\n"
     ]
    },
    {
     "name": "stdout",
     "output_type": "stream",
     "text": [
      "5/5 [==============================] - 1s 270ms/step\n"
     ]
    },
    {
     "name": "stderr",
     "output_type": "stream",
     "text": [
      "2020-12-23 16:37:12,305 [DEBUG] kashgari - predict output: (159, 103)\n",
      "2020-12-23 16:37:12,306 [DEBUG] kashgari - predict output argmax: [[0 1 1 ... 1 1 1]\n",
      " [0 1 1 ... 1 1 1]\n",
      " [0 1 1 ... 1 1 1]\n",
      " ...\n",
      " [0 1 1 ... 1 1 1]\n",
      " [0 1 1 ... 1 1 1]\n",
      " [0 1 1 ... 1 1 1]]\n",
      "2020-12-23 16:37:12,309 [DEBUG] kashgari - predict seq_length: None, input: (2, 143, 74)\n"
     ]
    },
    {
     "name": "stdout",
     "output_type": "stream",
     "text": [
      "5/5 [==============================] - 1s 176ms/step\n"
     ]
    },
    {
     "name": "stderr",
     "output_type": "stream",
     "text": [
      "2020-12-23 16:37:23,540 [DEBUG] kashgari - predict output: (143, 74)\n",
      "2020-12-23 16:37:23,541 [DEBUG] kashgari - predict output argmax: [[0 1 1 ... 2 2 2]\n",
      " [0 1 1 ... 1 1 1]\n",
      " [0 1 1 ... 2 2 2]\n",
      " ...\n",
      " [0 1 1 ... 1 1 1]\n",
      " [0 1 1 ... 1 1 1]\n",
      " [0 0 0 ... 0 0 0]]\n",
      "2020-12-23 16:37:23,544 [DEBUG] kashgari - predict seq_length: None, input: (2, 58, 168)\n"
     ]
    },
    {
     "name": "stdout",
     "output_type": "stream",
     "text": [
      "2/2 [==============================] - 0s 229ms/step\n"
     ]
    },
    {
     "name": "stderr",
     "output_type": "stream",
     "text": [
      "2020-12-23 16:37:30,929 [DEBUG] kashgari - predict output: (58, 168)\n",
      "2020-12-23 16:37:30,930 [DEBUG] kashgari - predict output argmax: [[0 1 1 ... 1 1 1]\n",
      " [0 1 1 ... 1 1 1]\n",
      " [0 1 1 ... 1 1 1]\n",
      " ...\n",
      " [0 1 1 ... 1 1 1]\n",
      " [0 1 1 ... 1 1 1]\n",
      " [0 0 0 ... 0 0 0]]\n",
      "2020-12-23 16:37:30,932 [DEBUG] kashgari - predict seq_length: None, input: (2, 82, 50)\n"
     ]
    },
    {
     "name": "stdout",
     "output_type": "stream",
     "text": [
      "3/3 [==============================] - 0s 96ms/step\n"
     ]
    },
    {
     "name": "stderr",
     "output_type": "stream",
     "text": [
      "2020-12-23 16:37:31,419 [DEBUG] kashgari - predict output: (82, 50)\n",
      "2020-12-23 16:37:31,420 [DEBUG] kashgari - predict output argmax: [[0 1 1 ... 1 1 1]\n",
      " [0 1 1 ... 1 1 1]\n",
      " [0 1 1 ... 1 1 1]\n",
      " ...\n",
      " [0 1 1 ... 1 1 1]\n",
      " [0 1 1 ... 1 1 1]\n",
      " [0 0 0 ... 0 0 0]]\n",
      "2020-12-23 16:37:31,424 [DEBUG] kashgari - predict seq_length: None, input: (2, 125, 69)\n"
     ]
    },
    {
     "name": "stdout",
     "output_type": "stream",
     "text": [
      "4/4 [==============================] - 1s 177ms/step\n"
     ]
    },
    {
     "name": "stderr",
     "output_type": "stream",
     "text": [
      "2020-12-23 16:37:38,743 [DEBUG] kashgari - predict output: (125, 69)\n",
      "2020-12-23 16:37:38,744 [DEBUG] kashgari - predict output argmax: [[0 1 1 ... 1 1 1]\n",
      " [0 1 1 ... 1 1 1]\n",
      " [0 1 1 ... 1 1 1]\n",
      " ...\n",
      " [0 1 1 ... 1 1 1]\n",
      " [0 1 1 ... 1 1 1]\n",
      " [0 0 0 ... 0 0 0]]\n",
      "2020-12-23 16:37:38,747 [DEBUG] kashgari - predict seq_length: None, input: (2, 49, 60)\n"
     ]
    },
    {
     "name": "stdout",
     "output_type": "stream",
     "text": [
      "2/2 [==============================] - 0s 141ms/step\n"
     ]
    },
    {
     "name": "stderr",
     "output_type": "stream",
     "text": [
      "2020-12-23 16:37:57,320 [DEBUG] kashgari - predict output: (49, 60)\n",
      "2020-12-23 16:37:57,321 [DEBUG] kashgari - predict output argmax: [[0 1 1 ... 1 1 1]\n",
      " [0 1 1 ... 1 1 1]\n",
      " [0 1 1 ... 1 1 1]\n",
      " ...\n",
      " [0 1 1 ... 1 1 1]\n",
      " [0 1 1 ... 1 1 1]\n",
      " [0 0 0 ... 0 0 0]]\n",
      "2020-12-23 16:37:57,326 [DEBUG] kashgari - predict seq_length: None, input: (2, 234, 91)\n"
     ]
    },
    {
     "name": "stdout",
     "output_type": "stream",
     "text": [
      "8/8 [==============================] - 2s 242ms/step\n"
     ]
    },
    {
     "name": "stderr",
     "output_type": "stream",
     "text": [
      "2020-12-23 16:37:59,589 [DEBUG] kashgari - predict output: (234, 91)\n",
      "2020-12-23 16:37:59,590 [DEBUG] kashgari - predict output argmax: [[0 1 1 ... 1 1 1]\n",
      " [0 1 1 ... 1 1 1]\n",
      " [0 1 1 ... 1 1 1]\n",
      " ...\n",
      " [0 1 1 ... 1 1 1]\n",
      " [0 1 1 ... 1 1 1]\n",
      " [0 0 0 ... 0 0 0]]\n",
      "2020-12-23 16:37:59,593 [DEBUG] kashgari - predict seq_length: None, input: (2, 58, 132)\n"
     ]
    },
    {
     "name": "stdout",
     "output_type": "stream",
     "text": [
      "2/2 [==============================] - 0s 184ms/step\n"
     ]
    },
    {
     "name": "stderr",
     "output_type": "stream",
     "text": [
      "2020-12-23 16:38:06,762 [DEBUG] kashgari - predict output: (58, 132)\n",
      "2020-12-23 16:38:06,763 [DEBUG] kashgari - predict output argmax: [[ 0  1  1 ...  1  1  1]\n",
      " [ 0  1  1 ...  1  1  1]\n",
      " [ 0  1  1 ...  1  1  1]\n",
      " ...\n",
      " [ 0  1  1 ... 11 11 11]\n",
      " [ 0  1  1 ...  1  1  1]\n",
      " [ 0  0  0 ...  0  0  0]]\n",
      "2020-12-23 16:38:06,766 [DEBUG] kashgari - predict seq_length: None, input: (2, 123, 123)\n"
     ]
    },
    {
     "name": "stdout",
     "output_type": "stream",
     "text": [
      "4/4 [==============================] - 1s 278ms/step\n"
     ]
    },
    {
     "name": "stderr",
     "output_type": "stream",
     "text": [
      "2020-12-23 16:38:14,668 [DEBUG] kashgari - predict output: (123, 123)\n",
      "2020-12-23 16:38:14,668 [DEBUG] kashgari - predict output argmax: [[0 1 1 ... 1 1 1]\n",
      " [0 1 1 ... 1 1 1]\n",
      " [0 1 1 ... 1 1 1]\n",
      " ...\n",
      " [0 1 1 ... 1 1 1]\n",
      " [0 1 1 ... 1 1 1]\n",
      " [0 0 0 ... 0 0 0]]\n",
      "2020-12-23 16:38:14,671 [DEBUG] kashgari - predict seq_length: None, input: (2, 48, 341)\n"
     ]
    },
    {
     "name": "stdout",
     "output_type": "stream",
     "text": [
      "2/2 [==============================] - 1s 309ms/step\n"
     ]
    },
    {
     "name": "stderr",
     "output_type": "stream",
     "text": [
      "2020-12-23 16:38:22,975 [DEBUG] kashgari - predict output: (48, 341)\n",
      "2020-12-23 16:38:22,976 [DEBUG] kashgari - predict output argmax: [[0 1 1 ... 1 1 1]\n",
      " [0 1 1 ... 1 1 1]\n",
      " [0 1 1 ... 1 1 1]\n",
      " ...\n",
      " [0 1 1 ... 1 1 1]\n",
      " [0 1 1 ... 1 1 1]\n",
      " [0 0 0 ... 0 0 0]]\n",
      "2020-12-23 16:38:22,977 [DEBUG] kashgari - predict seq_length: None, input: (2, 45, 29)\n"
     ]
    },
    {
     "name": "stdout",
     "output_type": "stream",
     "text": [
      "WARNING:tensorflow:5 out of the last 19 calls to <function Model.make_predict_function.<locals>.predict_function at 0x7f48c9928a60> triggered tf.function retracing. Tracing is expensive and the excessive number of tracings is likely due to passing python objects instead of tensors. Also, tf.function has experimental_relax_shapes=True option that relaxes argument shapes that can avoid unnecessary retracing. Please refer to https://www.tensorflow.org/tutorials/customization/performance#python_or_tensor_args and https://www.tensorflow.org/api_docs/python/tf/function for more details.\n",
      "2/2 [==============================] - 0s 36ms/step\n"
     ]
    },
    {
     "name": "stderr",
     "output_type": "stream",
     "text": [
      "2020-12-23 16:38:29,679 [DEBUG] kashgari - predict output: (45, 29)\n",
      "2020-12-23 16:38:29,680 [DEBUG] kashgari - predict output argmax: [[0 1 1 ... 1 1 1]\n",
      " [0 1 1 ... 1 1 1]\n",
      " [0 1 1 ... 1 1 1]\n",
      " ...\n",
      " [0 1 1 ... 1 1 1]\n",
      " [0 1 1 ... 1 1 1]\n",
      " [0 0 0 ... 0 0 0]]\n",
      "2020-12-23 16:38:29,683 [DEBUG] kashgari - predict seq_length: None, input: (2, 61, 60)\n"
     ]
    },
    {
     "name": "stdout",
     "output_type": "stream",
     "text": [
      "2/2 [==============================] - 0s 95ms/step\n"
     ]
    },
    {
     "name": "stderr",
     "output_type": "stream",
     "text": [
      "2020-12-23 16:38:30,110 [DEBUG] kashgari - predict output: (61, 60)\n",
      "2020-12-23 16:38:30,111 [DEBUG] kashgari - predict output argmax: [[0 1 1 ... 1 1 1]\n",
      " [0 1 1 ... 1 1 1]\n",
      " [0 1 1 ... 1 1 1]\n",
      " ...\n",
      " [0 1 1 ... 1 1 1]\n",
      " [0 1 1 ... 1 1 1]\n",
      " [0 0 0 ... 0 0 0]]\n",
      "2020-12-23 16:38:30,113 [DEBUG] kashgari - predict seq_length: None, input: (2, 43, 159)\n"
     ]
    },
    {
     "name": "stdout",
     "output_type": "stream",
     "text": [
      "2/2 [==============================] - 0s 114ms/step\n"
     ]
    },
    {
     "name": "stderr",
     "output_type": "stream",
     "text": [
      "2020-12-23 16:38:37,257 [DEBUG] kashgari - predict output: (43, 159)\n",
      "2020-12-23 16:38:37,258 [DEBUG] kashgari - predict output argmax: [[ 0  1  1 ...  1  1  1]\n",
      " [ 0  1  1 ...  1  1  1]\n",
      " [ 0  1  1 ...  1  1  1]\n",
      " ...\n",
      " [ 0  1  1 ... 11 11 11]\n",
      " [ 0  1  1 ...  1  1  1]\n",
      " [ 0  0  0 ...  0  0  0]]\n",
      "2020-12-23 16:38:37,260 [DEBUG] kashgari - predict seq_length: None, input: (2, 46, 51)\n"
     ]
    },
    {
     "name": "stdout",
     "output_type": "stream",
     "text": [
      "2/2 [==============================] - 0s 53ms/step\n"
     ]
    },
    {
     "name": "stderr",
     "output_type": "stream",
     "text": [
      "2020-12-23 16:38:37,571 [DEBUG] kashgari - predict output: (46, 51)\n",
      "2020-12-23 16:38:37,571 [DEBUG] kashgari - predict output argmax: [[0 1 1 ... 1 1 1]\n",
      " [0 1 1 ... 1 1 1]\n",
      " [0 1 1 ... 1 1 1]\n",
      " ...\n",
      " [0 1 1 ... 1 1 1]\n",
      " [0 1 1 ... 1 1 1]\n",
      " [0 0 0 ... 0 0 0]]\n",
      "2020-12-23 16:38:37,573 [DEBUG] kashgari - predict seq_length: None, input: (2, 52, 89)\n"
     ]
    },
    {
     "name": "stdout",
     "output_type": "stream",
     "text": [
      "2/2 [==============================] - 0s 100ms/step\n"
     ]
    },
    {
     "name": "stderr",
     "output_type": "stream",
     "text": [
      "2020-12-23 16:38:44,661 [DEBUG] kashgari - predict output: (52, 89)\n",
      "2020-12-23 16:38:44,662 [DEBUG] kashgari - predict output argmax: [[0 1 1 ... 1 1 1]\n",
      " [0 1 1 ... 1 1 1]\n",
      " [0 1 1 ... 1 1 1]\n",
      " ...\n",
      " [0 1 1 ... 1 1 1]\n",
      " [0 1 1 ... 1 1 1]\n",
      " [0 0 0 ... 0 0 0]]\n",
      "2020-12-23 16:38:44,664 [DEBUG] kashgari - predict seq_length: None, input: (2, 134, 81)\n"
     ]
    },
    {
     "name": "stdout",
     "output_type": "stream",
     "text": [
      "5/5 [==============================] - 1s 181ms/step\n"
     ]
    },
    {
     "name": "stderr",
     "output_type": "stream",
     "text": [
      "2020-12-23 16:38:45,864 [DEBUG] kashgari - predict output: (134, 81)\n",
      "2020-12-23 16:38:45,865 [DEBUG] kashgari - predict output argmax: [[0 1 1 ... 1 1 1]\n",
      " [0 1 1 ... 1 1 1]\n",
      " [0 1 1 ... 1 1 1]\n",
      " ...\n",
      " [0 1 1 ... 1 1 1]\n",
      " [0 1 1 ... 1 1 1]\n",
      " [0 0 0 ... 0 0 0]]\n",
      "2020-12-23 16:38:45,868 [DEBUG] kashgari - predict seq_length: None, input: (2, 67, 48)\n"
     ]
    },
    {
     "name": "stdout",
     "output_type": "stream",
     "text": [
      "3/3 [==============================] - 0s 78ms/step\n"
     ]
    },
    {
     "name": "stderr",
     "output_type": "stream",
     "text": [
      "2020-12-23 16:38:46,295 [DEBUG] kashgari - predict output: (67, 48)\n",
      "2020-12-23 16:38:46,296 [DEBUG] kashgari - predict output argmax: [[0 1 1 ... 1 1 1]\n",
      " [0 1 1 ... 1 1 1]\n",
      " [0 1 1 ... 1 1 1]\n",
      " ...\n",
      " [0 1 1 ... 1 1 1]\n",
      " [0 1 1 ... 1 1 1]\n",
      " [0 0 0 ... 0 0 0]]\n",
      "2020-12-23 16:38:46,299 [DEBUG] kashgari - predict seq_length: None, input: (2, 50, 114)\n"
     ]
    },
    {
     "name": "stdout",
     "output_type": "stream",
     "text": [
      "2/2 [==============================] - 0s 120ms/step\n"
     ]
    },
    {
     "name": "stderr",
     "output_type": "stream",
     "text": [
      "2020-12-23 16:38:53,375 [DEBUG] kashgari - predict output: (50, 114)\n",
      "2020-12-23 16:38:53,376 [DEBUG] kashgari - predict output argmax: [[ 0  1  1 ...  1  1  1]\n",
      " [ 0  1  1 ...  1  1  1]\n",
      " [ 0  1  1 ...  1  1  1]\n",
      " ...\n",
      " [ 0  1  1 ...  1  1  1]\n",
      " [ 0  1  1 ... 17 17 17]\n",
      " [ 0  0  0 ...  0  0  0]]\n",
      "2020-12-23 16:38:53,378 [DEBUG] kashgari - predict seq_length: None, input: (2, 103, 57)\n"
     ]
    },
    {
     "name": "stdout",
     "output_type": "stream",
     "text": [
      "4/4 [==============================] - 0s 118ms/step\n"
     ]
    },
    {
     "name": "stderr",
     "output_type": "stream",
     "text": [
      "2020-12-23 16:38:54,075 [DEBUG] kashgari - predict output: (103, 57)\n",
      "2020-12-23 16:38:54,076 [DEBUG] kashgari - predict output argmax: [[0 1 1 ... 1 1 1]\n",
      " [0 1 1 ... 1 1 1]\n",
      " [0 1 1 ... 1 1 1]\n",
      " ...\n",
      " [0 1 1 ... 1 1 1]\n",
      " [0 1 1 ... 1 1 1]\n",
      " [0 0 0 ... 0 0 0]]\n",
      "2020-12-23 16:38:54,079 [DEBUG] kashgari - predict seq_length: None, input: (2, 62, 154)\n"
     ]
    },
    {
     "name": "stdout",
     "output_type": "stream",
     "text": [
      "2/2 [==============================] - 0s 241ms/step\n"
     ]
    },
    {
     "name": "stderr",
     "output_type": "stream",
     "text": [
      "2020-12-23 16:39:01,503 [DEBUG] kashgari - predict output: (62, 154)\n",
      "2020-12-23 16:39:01,504 [DEBUG] kashgari - predict output argmax: [[0 1 1 ... 1 1 1]\n",
      " [0 1 1 ... 1 1 1]\n",
      " [0 1 1 ... 1 1 1]\n",
      " ...\n",
      " [0 1 1 ... 1 1 1]\n",
      " [0 1 1 ... 1 1 0]\n",
      " [0 0 0 ... 0 0 0]]\n",
      "2020-12-23 16:39:01,506 [DEBUG] kashgari - predict seq_length: None, input: (2, 41, 44)\n"
     ]
    },
    {
     "name": "stdout",
     "output_type": "stream",
     "text": [
      "2/2 [==============================] - 0s 43ms/step\n"
     ]
    },
    {
     "name": "stderr",
     "output_type": "stream",
     "text": [
      "2020-12-23 16:39:08,172 [DEBUG] kashgari - predict output: (41, 44)\n",
      "2020-12-23 16:39:08,173 [DEBUG] kashgari - predict output argmax: [[0 1 1 ... 1 1 1]\n",
      " [0 1 1 ... 1 1 1]\n",
      " [0 1 1 ... 1 1 1]\n",
      " ...\n",
      " [0 1 1 ... 1 1 1]\n",
      " [0 1 1 ... 1 1 1]\n",
      " [0 0 0 ... 0 0 0]]\n",
      "2020-12-23 16:39:08,175 [DEBUG] kashgari - predict seq_length: None, input: (2, 92, 74)\n"
     ]
    },
    {
     "name": "stdout",
     "output_type": "stream",
     "text": [
      "3/3 [==============================] - 0s 159ms/step\n"
     ]
    },
    {
     "name": "stderr",
     "output_type": "stream",
     "text": [
      "2020-12-23 16:39:08,944 [DEBUG] kashgari - predict output: (92, 74)\n",
      "2020-12-23 16:39:08,945 [DEBUG] kashgari - predict output argmax: [[0 1 1 ... 1 1 1]\n",
      " [0 1 1 ... 1 1 1]\n",
      " [0 1 1 ... 1 1 1]\n",
      " ...\n",
      " [0 1 1 ... 1 1 1]\n",
      " [0 1 1 ... 1 1 1]\n",
      " [0 0 0 ... 0 0 0]]\n",
      "2020-12-23 16:39:08,948 [DEBUG] kashgari - predict seq_length: None, input: (2, 58, 57)\n"
     ]
    },
    {
     "name": "stdout",
     "output_type": "stream",
     "text": [
      "2/2 [==============================] - 0s 85ms/step\n"
     ]
    },
    {
     "name": "stderr",
     "output_type": "stream",
     "text": [
      "2020-12-23 16:39:09,346 [DEBUG] kashgari - predict output: (58, 57)\n",
      "2020-12-23 16:39:09,347 [DEBUG] kashgari - predict output argmax: [[0 1 1 ... 1 1 1]\n",
      " [0 1 1 ... 1 1 1]\n",
      " [0 1 1 ... 1 1 1]\n",
      " ...\n",
      " [0 1 1 ... 1 1 1]\n",
      " [0 1 1 ... 1 1 1]\n",
      " [0 0 0 ... 0 0 0]]\n",
      "2020-12-23 16:39:09,351 [DEBUG] kashgari - predict seq_length: None, input: (2, 128, 72)\n"
     ]
    },
    {
     "name": "stdout",
     "output_type": "stream",
     "text": [
      "4/4 [==============================] - 1s 163ms/step\n"
     ]
    },
    {
     "name": "stderr",
     "output_type": "stream",
     "text": [
      "2020-12-23 16:39:14,570 [DEBUG] kashgari - predict output: (128, 72)\n",
      "2020-12-23 16:39:14,571 [DEBUG] kashgari - predict output argmax: [[0 1 1 ... 1 1 1]\n",
      " [0 1 1 ... 1 1 1]\n",
      " [0 1 1 ... 1 1 1]\n",
      " ...\n",
      " [0 1 1 ... 1 1 1]\n",
      " [0 1 1 ... 1 1 1]\n",
      " [0 0 0 ... 0 0 0]]\n",
      "2020-12-23 16:39:14,575 [DEBUG] kashgari - predict seq_length: None, input: (2, 100, 77)\n"
     ]
    },
    {
     "name": "stdout",
     "output_type": "stream",
     "text": [
      "4/4 [==============================] - 1s 147ms/step\n"
     ]
    },
    {
     "name": "stderr",
     "output_type": "stream",
     "text": [
      "2020-12-23 16:39:15,453 [DEBUG] kashgari - predict output: (100, 77)\n",
      "2020-12-23 16:39:15,454 [DEBUG] kashgari - predict output argmax: [[0 1 1 ... 1 1 1]\n",
      " [0 1 1 ... 1 1 1]\n",
      " [0 1 1 ... 1 1 1]\n",
      " ...\n",
      " [0 1 1 ... 1 1 1]\n",
      " [0 1 1 ... 1 1 1]\n",
      " [0 0 0 ... 0 0 0]]\n",
      "2020-12-23 16:39:15,456 [DEBUG] kashgari - predict seq_length: None, input: (2, 59, 61)\n"
     ]
    },
    {
     "name": "stdout",
     "output_type": "stream",
     "text": [
      "2/2 [==============================] - 0s 94ms/step\n"
     ]
    },
    {
     "name": "stderr",
     "output_type": "stream",
     "text": [
      "2020-12-23 16:39:15,881 [DEBUG] kashgari - predict output: (59, 61)\n",
      "2020-12-23 16:39:15,882 [DEBUG] kashgari - predict output argmax: [[0 1 1 ... 1 1 1]\n",
      " [0 1 1 ... 1 1 1]\n",
      " [0 1 1 ... 1 1 1]\n",
      " ...\n",
      " [0 1 1 ... 1 1 1]\n",
      " [0 1 1 ... 1 1 1]\n",
      " [0 0 0 ... 0 0 0]]\n",
      "2020-12-23 16:39:15,885 [DEBUG] kashgari - predict seq_length: None, input: (2, 111, 77)\n"
     ]
    },
    {
     "name": "stdout",
     "output_type": "stream",
     "text": [
      "4/4 [==============================] - 1s 169ms/step\n"
     ]
    },
    {
     "name": "stderr",
     "output_type": "stream",
     "text": [
      "2020-12-23 16:39:16,853 [DEBUG] kashgari - predict output: (111, 77)\n",
      "2020-12-23 16:39:16,854 [DEBUG] kashgari - predict output argmax: [[0 1 1 ... 1 1 1]\n",
      " [0 1 1 ... 1 1 1]\n",
      " [0 1 1 ... 1 1 1]\n",
      " ...\n",
      " [0 1 1 ... 1 1 1]\n",
      " [0 1 1 ... 1 1 1]\n",
      " [0 0 0 ... 0 0 0]]\n",
      "2020-12-23 16:39:16,857 [DEBUG] kashgari - predict seq_length: None, input: (2, 128, 96)\n"
     ]
    },
    {
     "name": "stdout",
     "output_type": "stream",
     "text": [
      "4/4 [==============================] - 1s 215ms/step\n"
     ]
    },
    {
     "name": "stderr",
     "output_type": "stream",
     "text": [
      "2020-12-23 16:39:22,778 [DEBUG] kashgari - predict output: (128, 96)\n",
      "2020-12-23 16:39:22,779 [DEBUG] kashgari - predict output argmax: [[0 1 1 ... 1 1 1]\n",
      " [0 1 1 ... 1 1 1]\n",
      " [0 1 1 ... 1 1 1]\n",
      " ...\n",
      " [0 1 1 ... 1 1 1]\n",
      " [0 1 1 ... 1 1 1]\n",
      " [0 0 0 ... 0 0 0]]\n",
      "2020-12-23 16:39:22,784 [DEBUG] kashgari - predict seq_length: None, input: (2, 149, 78)\n"
     ]
    },
    {
     "name": "stdout",
     "output_type": "stream",
     "text": [
      "5/5 [==============================] - 1s 199ms/step\n"
     ]
    },
    {
     "name": "stderr",
     "output_type": "stream",
     "text": [
      "2020-12-23 16:39:24,083 [DEBUG] kashgari - predict output: (149, 78)\n",
      "2020-12-23 16:39:24,084 [DEBUG] kashgari - predict output argmax: [[0 1 1 ... 1 1 1]\n",
      " [0 1 1 ... 1 1 1]\n",
      " [0 1 1 ... 1 1 1]\n",
      " ...\n",
      " [0 1 1 ... 1 1 1]\n",
      " [0 1 1 ... 1 1 1]\n",
      " [0 0 0 ... 0 0 0]]\n",
      "2020-12-23 16:39:24,086 [DEBUG] kashgari - predict seq_length: None, input: (2, 40, 87)\n"
     ]
    },
    {
     "name": "stdout",
     "output_type": "stream",
     "text": [
      "2/2 [==============================] - 0s 53ms/step\n"
     ]
    },
    {
     "name": "stderr",
     "output_type": "stream",
     "text": [
      "2020-12-23 16:39:31,067 [DEBUG] kashgari - predict output: (40, 87)\n",
      "2020-12-23 16:39:31,068 [DEBUG] kashgari - predict output argmax: [[0 1 1 ... 1 1 1]\n",
      " [0 1 1 ... 1 1 1]\n",
      " [0 1 1 ... 1 1 1]\n",
      " ...\n",
      " [0 1 1 ... 4 4 4]\n",
      " [0 1 1 ... 1 1 1]\n",
      " [0 0 0 ... 0 0 0]]\n",
      "2020-12-23 16:39:31,072 [DEBUG] kashgari - predict seq_length: None, input: (2, 129, 84)\n"
     ]
    },
    {
     "name": "stdout",
     "output_type": "stream",
     "text": [
      "5/5 [==============================] - 1s 181ms/step\n"
     ]
    },
    {
     "name": "stderr",
     "output_type": "stream",
     "text": [
      "2020-12-23 16:39:32,292 [DEBUG] kashgari - predict output: (129, 84)\n",
      "2020-12-23 16:39:32,293 [DEBUG] kashgari - predict output argmax: [[0 1 1 ... 1 1 1]\n",
      " [0 1 1 ... 1 1 1]\n",
      " [0 1 1 ... 1 1 1]\n",
      " ...\n",
      " [0 1 1 ... 1 1 1]\n",
      " [0 1 1 ... 1 1 1]\n",
      " [0 0 0 ... 0 0 0]]\n",
      "2020-12-23 16:39:32,296 [DEBUG] kashgari - predict seq_length: None, input: (2, 98, 77)\n"
     ]
    },
    {
     "name": "stdout",
     "output_type": "stream",
     "text": [
      "4/4 [==============================] - 1s 150ms/step\n"
     ]
    },
    {
     "name": "stderr",
     "output_type": "stream",
     "text": [
      "2020-12-23 16:39:33,194 [DEBUG] kashgari - predict output: (98, 77)\n",
      "2020-12-23 16:39:33,195 [DEBUG] kashgari - predict output argmax: [[0 1 1 ... 2 2 2]\n",
      " [0 1 1 ... 2 2 2]\n",
      " [0 1 1 ... 2 2 2]\n",
      " ...\n",
      " [0 1 1 ... 1 1 1]\n",
      " [0 1 1 ... 1 1 1]\n",
      " [0 0 0 ... 0 0 0]]\n",
      "2020-12-23 16:39:33,198 [DEBUG] kashgari - predict seq_length: None, input: (2, 97, 60)\n"
     ]
    },
    {
     "name": "stdout",
     "output_type": "stream",
     "text": [
      "4/4 [==============================] - 0s 117ms/step\n"
     ]
    },
    {
     "name": "stderr",
     "output_type": "stream",
     "text": [
      "2020-12-23 16:39:33,903 [DEBUG] kashgari - predict output: (97, 60)\n",
      "2020-12-23 16:39:33,904 [DEBUG] kashgari - predict output argmax: [[0 1 1 ... 1 1 1]\n",
      " [0 1 1 ... 1 1 1]\n",
      " [0 1 1 ... 1 1 1]\n",
      " ...\n",
      " [0 1 1 ... 1 1 1]\n",
      " [0 1 1 ... 1 1 1]\n",
      " [0 0 0 ... 0 0 0]]\n",
      "2020-12-23 16:39:33,906 [DEBUG] kashgari - predict seq_length: None, input: (2, 67, 241)\n"
     ]
    },
    {
     "name": "stdout",
     "output_type": "stream",
     "text": [
      "3/3 [==============================] - 1s 331ms/step\n"
     ]
    },
    {
     "name": "stderr",
     "output_type": "stream",
     "text": [
      "2020-12-23 16:39:42,191 [DEBUG] kashgari - predict output: (67, 241)\n",
      "2020-12-23 16:39:42,191 [DEBUG] kashgari - predict output argmax: [[0 1 1 ... 1 1 1]\n",
      " [0 1 1 ... 1 1 1]\n",
      " [0 1 1 ... 1 1 1]\n",
      " ...\n",
      " [0 1 1 ... 1 1 1]\n",
      " [0 1 1 ... 1 1 1]\n",
      " [0 0 0 ... 0 0 0]]\n",
      "2020-12-23 16:39:42,193 [DEBUG] kashgari - predict seq_length: None, input: (2, 52, 97)\n"
     ]
    },
    {
     "name": "stdout",
     "output_type": "stream",
     "text": [
      "2/2 [==============================] - 0s 107ms/step\n"
     ]
    },
    {
     "name": "stderr",
     "output_type": "stream",
     "text": [
      "2020-12-23 16:39:49,114 [DEBUG] kashgari - predict output: (52, 97)\n",
      "2020-12-23 16:39:49,115 [DEBUG] kashgari - predict output argmax: [[0 1 1 ... 1 1 1]\n",
      " [0 1 1 ... 1 1 1]\n",
      " [0 1 1 ... 1 1 1]\n",
      " ...\n",
      " [0 1 1 ... 1 1 1]\n",
      " [0 1 1 ... 1 1 1]\n",
      " [0 0 0 ... 0 0 0]]\n",
      "2020-12-23 16:39:49,119 [DEBUG] kashgari - predict seq_length: None, input: (2, 120, 73)\n"
     ]
    },
    {
     "name": "stdout",
     "output_type": "stream",
     "text": [
      "4/4 [==============================] - 1s 171ms/step\n"
     ]
    },
    {
     "name": "stderr",
     "output_type": "stream",
     "text": [
      "2020-12-23 16:39:50,078 [DEBUG] kashgari - predict output: (120, 73)\n",
      "2020-12-23 16:39:50,079 [DEBUG] kashgari - predict output argmax: [[0 1 1 ... 1 1 1]\n",
      " [0 1 1 ... 1 1 1]\n",
      " [0 1 1 ... 1 1 1]\n",
      " ...\n",
      " [0 1 1 ... 1 1 1]\n",
      " [0 1 1 ... 1 1 1]\n",
      " [0 0 0 ... 0 0 0]]\n",
      "2020-12-23 16:39:50,088 [DEBUG] kashgari - predict seq_length: None, input: (2, 346, 151)\n"
     ]
    },
    {
     "name": "stdout",
     "output_type": "stream",
     "text": [
      "11/11 [==============================] - 5s 435ms/step\n"
     ]
    },
    {
     "name": "stderr",
     "output_type": "stream",
     "text": [
      "2020-12-23 16:39:55,408 [DEBUG] kashgari - predict output: (346, 151)\n",
      "2020-12-23 16:39:55,409 [DEBUG] kashgari - predict output argmax: [[ 0  1  1 ...  1  1  1]\n",
      " [ 0  1  1 ...  1  1  1]\n",
      " [ 0  1  1 ...  1  1  1]\n",
      " ...\n",
      " [ 0  1  1 ... 11 11 11]\n",
      " [ 0  1  1 ...  1  1  1]\n",
      " [ 0  0  0 ...  0  0  0]]\n",
      "2020-12-23 16:39:55,413 [DEBUG] kashgari - predict seq_length: None, input: (2, 98, 97)\n"
     ]
    },
    {
     "name": "stdout",
     "output_type": "stream",
     "text": [
      "4/4 [==============================] - 1s 185ms/step\n"
     ]
    },
    {
     "name": "stderr",
     "output_type": "stream",
     "text": [
      "2020-12-23 16:39:56,510 [DEBUG] kashgari - predict output: (98, 97)\n",
      "2020-12-23 16:39:56,511 [DEBUG] kashgari - predict output argmax: [[0 1 1 ... 1 1 1]\n",
      " [0 1 1 ... 1 1 1]\n",
      " [0 1 1 ... 1 1 1]\n",
      " ...\n",
      " [0 1 0 ... 1 1 1]\n",
      " [0 1 1 ... 1 1 1]\n",
      " [0 0 0 ... 0 0 0]]\n",
      "2020-12-23 16:39:56,515 [DEBUG] kashgari - predict seq_length: None, input: (2, 185, 121)\n"
     ]
    },
    {
     "name": "stdout",
     "output_type": "stream",
     "text": [
      "6/6 [==============================] - 2s 323ms/step\n"
     ]
    },
    {
     "name": "stderr",
     "output_type": "stream",
     "text": [
      "2020-12-23 16:39:58,898 [DEBUG] kashgari - predict output: (185, 121)\n",
      "2020-12-23 16:39:58,899 [DEBUG] kashgari - predict output argmax: [[0 1 1 ... 1 1 1]\n",
      " [0 1 1 ... 1 1 1]\n",
      " [0 1 1 ... 1 1 1]\n",
      " ...\n",
      " [0 1 1 ... 1 1 1]\n",
      " [0 1 1 ... 1 1 1]\n",
      " [0 0 0 ... 0 0 0]]\n",
      "2020-12-23 16:39:58,903 [DEBUG] kashgari - predict seq_length: None, input: (2, 112, 109)\n"
     ]
    },
    {
     "name": "stdout",
     "output_type": "stream",
     "text": [
      "4/4 [==============================] - 1s 236ms/step\n"
     ]
    },
    {
     "name": "stderr",
     "output_type": "stream",
     "text": [
      "2020-12-23 16:40:06,580 [DEBUG] kashgari - predict output: (112, 109)\n",
      "2020-12-23 16:40:06,581 [DEBUG] kashgari - predict output argmax: [[0 1 1 ... 1 1 1]\n",
      " [0 1 1 ... 1 1 1]\n",
      " [0 1 1 ... 1 1 1]\n",
      " ...\n",
      " [0 1 1 ... 1 1 1]\n",
      " [0 1 1 ... 1 1 1]\n",
      " [0 0 0 ... 0 0 0]]\n",
      "2020-12-23 16:40:06,584 [DEBUG] kashgari - predict seq_length: None, input: (2, 96, 193)\n"
     ]
    },
    {
     "name": "stdout",
     "output_type": "stream",
     "text": [
      "3/3 [==============================] - 1s 391ms/step\n"
     ]
    },
    {
     "name": "stderr",
     "output_type": "stream",
     "text": [
      "2020-12-23 16:40:17,019 [DEBUG] kashgari - predict output: (96, 193)\n",
      "2020-12-23 16:40:17,020 [DEBUG] kashgari - predict output argmax: [[0 1 1 ... 1 1 1]\n",
      " [0 1 1 ... 1 1 1]\n",
      " [0 1 1 ... 1 1 1]\n",
      " ...\n",
      " [0 1 1 ... 2 2 2]\n",
      " [0 1 1 ... 1 1 1]\n",
      " [0 0 0 ... 0 0 0]]\n",
      "2020-12-23 16:40:17,023 [DEBUG] kashgari - predict seq_length: None, input: (2, 92, 272)\n"
     ]
    },
    {
     "name": "stdout",
     "output_type": "stream",
     "text": [
      "3/3 [==============================] - 2s 569ms/step\n"
     ]
    },
    {
     "name": "stderr",
     "output_type": "stream",
     "text": [
      "2020-12-23 16:40:26,100 [DEBUG] kashgari - predict output: (92, 272)\n",
      "2020-12-23 16:40:26,100 [DEBUG] kashgari - predict output argmax: [[0 1 1 ... 1 1 1]\n",
      " [0 1 1 ... 1 1 1]\n",
      " [0 1 1 ... 1 1 1]\n",
      " ...\n",
      " [0 1 1 ... 1 1 1]\n",
      " [0 1 1 ... 1 1 1]\n",
      " [0 0 0 ... 0 0 0]]\n",
      "2020-12-23 16:40:26,104 [DEBUG] kashgari - predict seq_length: None, input: (2, 158, 114)\n"
     ]
    },
    {
     "name": "stdout",
     "output_type": "stream",
     "text": [
      "5/5 [==============================] - 1s 295ms/step\n"
     ]
    },
    {
     "name": "stderr",
     "output_type": "stream",
     "text": [
      "2020-12-23 16:40:27,998 [DEBUG] kashgari - predict output: (158, 114)\n",
      "2020-12-23 16:40:27,999 [DEBUG] kashgari - predict output argmax: [[0 1 1 ... 1 1 1]\n",
      " [0 1 1 ... 1 1 1]\n",
      " [0 1 1 ... 1 1 1]\n",
      " ...\n",
      " [0 1 1 ... 1 1 1]\n",
      " [0 1 1 ... 1 1 1]\n",
      " [0 0 0 ... 0 0 0]]\n",
      "2020-12-23 16:40:28,003 [DEBUG] kashgari - predict seq_length: None, input: (2, 173, 146)\n"
     ]
    },
    {
     "name": "stdout",
     "output_type": "stream",
     "text": [
      "6/6 [==============================] - 2s 358ms/step\n"
     ]
    },
    {
     "name": "stderr",
     "output_type": "stream",
     "text": [
      "2020-12-23 16:40:37,000 [DEBUG] kashgari - predict output: (173, 146)\n",
      "2020-12-23 16:40:37,000 [DEBUG] kashgari - predict output argmax: [[0 1 1 ... 1 1 1]\n",
      " [0 1 1 ... 1 1 1]\n",
      " [0 1 1 ... 1 1 1]\n",
      " ...\n",
      " [0 1 1 ... 1 1 1]\n",
      " [0 1 1 ... 1 1 1]\n",
      " [0 0 0 ... 0 0 0]]\n",
      "2020-12-23 16:40:37,004 [DEBUG] kashgari - predict seq_length: None, input: (2, 92, 120)\n"
     ]
    },
    {
     "name": "stdout",
     "output_type": "stream",
     "text": [
      "3/3 [==============================] - 1s 244ms/step\n"
     ]
    },
    {
     "name": "stderr",
     "output_type": "stream",
     "text": [
      "2020-12-23 16:40:44,518 [DEBUG] kashgari - predict output: (92, 120)\n",
      "2020-12-23 16:40:44,518 [DEBUG] kashgari - predict output argmax: [[0 1 1 ... 1 1 1]\n",
      " [0 1 1 ... 1 1 1]\n",
      " [0 1 1 ... 1 1 1]\n",
      " ...\n",
      " [0 1 1 ... 1 1 1]\n",
      " [0 1 1 ... 1 1 1]\n",
      " [0 0 0 ... 0 0 0]]\n"
     ]
    }
   ],
   "source": [
    "df = predicting_txt_to_dataframe('/home/Danny/ai-cup-2020/datasets/stage5/test.txt')\n",
    "output_str = \"article_id\\tstart_position\\tend_position\\tentity_text\\tentity_type\\n\"\n",
    "\n",
    "for article_id, text in zip(df['article_id'], df['text']):\n",
    "    x_list = [word for word in text]\n",
    "    y_list = predict_NER(text)\n",
    "    output_str += output_NER(article_id, text, y_list)"
   ]
  },
  {
   "cell_type": "code",
   "execution_count": 19,
   "metadata": {},
   "outputs": [],
   "source": [
    "# print(output_str)"
   ]
  },
  {
   "cell_type": "code",
   "execution_count": 20,
   "metadata": {},
   "outputs": [],
   "source": [
    "output_path = 'output/{}_epoch_{}_batch_{}.tsv'.format(model_name, epochs, batch_size)\n",
    "with open(output_path, 'w', encoding='utf-8') as f:\n",
    "    f.write(output_str)"
   ]
  },
  {
   "cell_type": "code",
   "execution_count": 21,
   "metadata": {},
   "outputs": [
    {
     "data": {
      "text/html": [
       "<div>\n",
       "<style scoped>\n",
       "    .dataframe tbody tr th:only-of-type {\n",
       "        vertical-align: middle;\n",
       "    }\n",
       "\n",
       "    .dataframe tbody tr th {\n",
       "        vertical-align: top;\n",
       "    }\n",
       "\n",
       "    .dataframe thead th {\n",
       "        text-align: right;\n",
       "    }\n",
       "</style>\n",
       "<table border=\"1\" class=\"dataframe\">\n",
       "  <thead>\n",
       "    <tr style=\"text-align: right;\">\n",
       "      <th></th>\n",
       "      <th>article_id</th>\n",
       "      <th>start_position</th>\n",
       "      <th>end_position</th>\n",
       "      <th>entity_text</th>\n",
       "      <th>entity_type</th>\n",
       "    </tr>\n",
       "  </thead>\n",
       "  <tbody>\n",
       "    <tr>\n",
       "      <th>0</th>\n",
       "      <td>0</td>\n",
       "      <td>227</td>\n",
       "      <td>229</td>\n",
       "      <td>麻豆</td>\n",
       "      <td>location</td>\n",
       "    </tr>\n",
       "    <tr>\n",
       "      <th>1</th>\n",
       "      <td>1</td>\n",
       "      <td>31</td>\n",
       "      <td>33</td>\n",
       "      <td>今天</td>\n",
       "      <td>time</td>\n",
       "    </tr>\n",
       "    <tr>\n",
       "      <th>2</th>\n",
       "      <td>1</td>\n",
       "      <td>40</td>\n",
       "      <td>42</td>\n",
       "      <td>昨天</td>\n",
       "      <td>time</td>\n",
       "    </tr>\n",
       "    <tr>\n",
       "      <th>3</th>\n",
       "      <td>1</td>\n",
       "      <td>76</td>\n",
       "      <td>80</td>\n",
       "      <td>0.79</td>\n",
       "      <td>med_exam</td>\n",
       "    </tr>\n",
       "    <tr>\n",
       "      <th>4</th>\n",
       "      <td>1</td>\n",
       "      <td>94</td>\n",
       "      <td>96</td>\n",
       "      <td>88</td>\n",
       "      <td>med_exam</td>\n",
       "    </tr>\n",
       "    <tr>\n",
       "      <th>...</th>\n",
       "      <td>...</td>\n",
       "      <td>...</td>\n",
       "      <td>...</td>\n",
       "      <td>...</td>\n",
       "      <td>...</td>\n",
       "    </tr>\n",
       "    <tr>\n",
       "      <th>2846</th>\n",
       "      <td>158</td>\n",
       "      <td>335</td>\n",
       "      <td>337</td>\n",
       "      <td>今天</td>\n",
       "      <td>time</td>\n",
       "    </tr>\n",
       "    <tr>\n",
       "      <th>2847</th>\n",
       "      <td>158</td>\n",
       "      <td>1082</td>\n",
       "      <td>1086</td>\n",
       "      <td>第三個月</td>\n",
       "      <td>time</td>\n",
       "    </tr>\n",
       "    <tr>\n",
       "      <th>2848</th>\n",
       "      <td>158</td>\n",
       "      <td>1199</td>\n",
       "      <td>1201</td>\n",
       "      <td>小安</td>\n",
       "      <td>name</td>\n",
       "    </tr>\n",
       "    <tr>\n",
       "      <th>2849</th>\n",
       "      <td>158</td>\n",
       "      <td>1380</td>\n",
       "      <td>1390</td>\n",
       "      <td>A124699678</td>\n",
       "      <td>contact</td>\n",
       "    </tr>\n",
       "    <tr>\n",
       "      <th>2850</th>\n",
       "      <td>158</td>\n",
       "      <td>1489</td>\n",
       "      <td>1491</td>\n",
       "      <td>明年</td>\n",
       "      <td>time</td>\n",
       "    </tr>\n",
       "  </tbody>\n",
       "</table>\n",
       "<p>2851 rows × 5 columns</p>\n",
       "</div>"
      ],
      "text/plain": [
       "      article_id  start_position  end_position entity_text entity_type\n",
       "0              0             227           229          麻豆    location\n",
       "1              1              31            33          今天        time\n",
       "2              1              40            42          昨天        time\n",
       "3              1              76            80        0.79    med_exam\n",
       "4              1              94            96          88    med_exam\n",
       "...          ...             ...           ...         ...         ...\n",
       "2846         158             335           337          今天        time\n",
       "2847         158            1082          1086        第三個月        time\n",
       "2848         158            1199          1201          小安        name\n",
       "2849         158            1380          1390  A124699678     contact\n",
       "2850         158            1489          1491          明年        time\n",
       "\n",
       "[2851 rows x 5 columns]"
      ]
     },
     "execution_count": 21,
     "metadata": {},
     "output_type": "execute_result"
    }
   ],
   "source": [
    "df = pd.read_csv(output_path, sep='\\t')\n",
    "df"
   ]
  },
  {
   "cell_type": "code",
   "execution_count": null,
   "metadata": {},
   "outputs": [],
   "source": []
  }
 ],
 "metadata": {
  "kernelspec": {
   "display_name": "Python 3",
   "language": "python",
   "name": "python3"
  },
  "language_info": {
   "codemirror_mode": {
    "name": "ipython",
    "version": 3
   },
   "file_extension": ".py",
   "mimetype": "text/x-python",
   "name": "python",
   "nbconvert_exporter": "python",
   "pygments_lexer": "ipython3",
   "version": "3.6.10"
  }
 },
 "nbformat": 4,
 "nbformat_minor": 4
}
