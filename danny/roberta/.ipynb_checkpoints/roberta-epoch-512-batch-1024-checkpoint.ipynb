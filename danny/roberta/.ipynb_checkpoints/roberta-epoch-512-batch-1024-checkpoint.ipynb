{
 "cells": [
  {
   "cell_type": "code",
   "execution_count": 1,
   "metadata": {},
   "outputs": [],
   "source": [
    "import re\n",
    "import os\n",
    "import pandas as pd\n",
    "import tensorflow as tf\n",
    "from matplotlib import pyplot as plt"
   ]
  },
  {
   "cell_type": "code",
   "execution_count": 2,
   "metadata": {},
   "outputs": [],
   "source": [
    "def select_gpu(N):\n",
    "    gpus = tf.config.experimental.list_physical_devices('GPU')\n",
    "    print(gpus)\n",
    "    if gpus:\n",
    "        try:\n",
    "            for gpu in gpus:\n",
    "                tf.config.experimental.set_memory_growth(gpu, True)\n",
    "            tf.config.experimental.set_visible_devices(gpus[N], 'GPU')\n",
    "            logical_gpus = tf.config.experimental.list_logical_devices('GPU')\n",
    "            print(len(gpus), \"Physical GPUs,\", len(logical_gpus), \"Logical GPUs\")\n",
    "        except RuntimeError as e:\n",
    "            print(e)    "
   ]
  },
  {
   "cell_type": "code",
   "execution_count": 3,
   "metadata": {},
   "outputs": [
    {
     "name": "stdout",
     "output_type": "stream",
     "text": [
      "[PhysicalDevice(name='/physical_device:GPU:0', device_type='GPU'), PhysicalDevice(name='/physical_device:GPU:1', device_type='GPU'), PhysicalDevice(name='/physical_device:GPU:2', device_type='GPU')]\n",
      "3 Physical GPUs, 1 Logical GPUs\n"
     ]
    }
   ],
   "source": [
    "select_gpu(2)\n",
    "epochs = 2\n",
    "batch_size = 1024\n",
    "model_name = 'roberta-chinese'\n",
    "embedding_path = '/home/Danny/pretrain_model/{}'.format(model_name)"
   ]
  },
  {
   "cell_type": "code",
   "execution_count": 4,
   "metadata": {},
   "outputs": [],
   "source": [
    "# 不用儲存article_id, 轉成list\n",
    "def training_txt_to_list(path):\n",
    "    with open(path, 'r') as f:\n",
    "        txt = str(f.read())\n",
    "    txt_list = txt.split('\\n')\n",
    "    text_label_list = list()\n",
    "    tmp = list()\n",
    "    for line in txt_list:\n",
    "        if line == '--------------------':\n",
    "            text_label_list.append(tmp)\n",
    "            tmp = list()\n",
    "            continue\n",
    "        if line == '':\n",
    "            continue\n",
    "        tmp.append(line)\n",
    "    x = list()\n",
    "    y = list()\n",
    "    for text_label in text_label_list:\n",
    "        text = text_label[0]\n",
    "        label = text_label[2:]\n",
    "        label_list = ['O' for i in range(len(text))]\n",
    "        for i in label:\n",
    "            entity = i.split('\\t')\n",
    "            if int(entity[1]) > int(entity[2]):\n",
    "                continue\n",
    "            b = int(entity[1])\n",
    "            label_list[b] = 'B-{}'.format(entity[-1])\n",
    "            for j in range(int(entity[1])+1, int(entity[2])):\n",
    "                label_list[j] = 'I-{}'.format(entity[-1])\n",
    "        for i, j in enumerate(text):\n",
    "            if j == '，' or j == '。' or j == '？':\n",
    "                label_list[i] = j\n",
    "                \n",
    "        text_list = re.split('\\uff0c|\\u3002|\\uff1f', text)\n",
    "        for sentence in text_list:\n",
    "            x.append([i for i in sentence])\n",
    "        x = x[:-1]\n",
    "            \n",
    "        sentence = list()\n",
    "        for i in label_list:\n",
    "            if i == '，' or i == '。' or i == '？':\n",
    "                y.append(sentence)\n",
    "                sentence = list()\n",
    "            else:\n",
    "                sentence.append(i)\n",
    "                \n",
    "    return [x, y]"
   ]
  },
  {
   "cell_type": "code",
   "execution_count": 5,
   "metadata": {},
   "outputs": [],
   "source": [
    "x1, y1 = training_txt_to_list('/home/Danny/ai-cup-2020/datasets/stage1/SampleData_deid.txt')"
   ]
  },
  {
   "cell_type": "code",
   "execution_count": 6,
   "metadata": {},
   "outputs": [],
   "source": [
    "x2, y2 = training_txt_to_list('/home/Danny/ai-cup-2020/datasets/stage2/train_1_update.txt')"
   ]
  },
  {
   "cell_type": "code",
   "execution_count": 7,
   "metadata": {},
   "outputs": [],
   "source": [
    "x4, y4 = training_txt_to_list('/home/Danny/ai-cup-2020/datasets/stage4/train_2.txt')"
   ]
  },
  {
   "cell_type": "code",
   "execution_count": 8,
   "metadata": {},
   "outputs": [
    {
     "name": "stdout",
     "output_type": "stream",
     "text": [
      "76162\n",
      "76162\n"
     ]
    }
   ],
   "source": [
    "x = x1 + x2 + x4\n",
    "y = y1 + y2 + y4\n",
    "print(len(x))\n",
    "print(len(y))"
   ]
  },
  {
   "cell_type": "code",
   "execution_count": 9,
   "metadata": {},
   "outputs": [
    {
     "name": "stdout",
     "output_type": "stream",
     "text": [
      "48743 48743\n",
      "12186 12186\n",
      "15233 15233\n"
     ]
    }
   ],
   "source": [
    "from sklearn.model_selection import train_test_split\n",
    "train_x, test_x, train_y, test_y = train_test_split(x, y, test_size=0.2, random_state=42)\n",
    "train_x, valid_x, train_y, valid_y = train_test_split(train_x, train_y, test_size=0.2, random_state=42)\n",
    "print(len(train_x), len(train_y))\n",
    "print(len(valid_x), len(valid_y))\n",
    "print(len(test_x), len(test_y))"
   ]
  },
  {
   "cell_type": "code",
   "execution_count": 10,
   "metadata": {},
   "outputs": [
    {
     "name": "stderr",
     "output_type": "stream",
     "text": [
      "2020-12-14 14:30:15,169 [DEBUG] kashgari - ------------------------------------------------\n",
      "2020-12-14 14:30:15,170 [DEBUG] kashgari - Loaded transformer model's vocab\n",
      "2020-12-14 14:30:15,170 [DEBUG] kashgari - config_path       : /home/Danny/pretrain_model/roberta-chinese/bert_config.json\n",
      "2020-12-14 14:30:15,171 [DEBUG] kashgari - vocab_path      : /home/Danny/pretrain_model/roberta-chinese/vocab.txt\n",
      "2020-12-14 14:30:15,172 [DEBUG] kashgari - checkpoint_path : /home/Danny/pretrain_model/roberta-chinese/bert_model.ckpt\n",
      "2020-12-14 14:30:15,172 [DEBUG] kashgari - Top 50 words    : ['[PAD]', '[unused1]', '[unused2]', '[unused3]', '[unused4]', '[unused5]', '[unused6]', '[unused7]', '[unused8]', '[unused9]', '[unused10]', '[unused11]', '[unused12]', '[unused13]', '[unused14]', '[unused15]', '[unused16]', '[unused17]', '[unused18]', '[unused19]', '[unused20]', '[unused21]', '[unused22]', '[unused23]', '[unused24]', '[unused25]', '[unused26]', '[unused27]', '[unused28]', '[unused29]', '[unused30]', '[unused31]', '[unused32]', '[unused33]', '[unused34]', '[unused35]', '[unused36]', '[unused37]', '[unused38]', '[unused39]', '[unused40]', '[unused41]', '[unused42]', '[unused43]', '[unused44]', '[unused45]', '[unused46]', '[unused47]', '[unused48]', '[unused49]']\n",
      "2020-12-14 14:30:15,173 [DEBUG] kashgari - ------------------------------------------------\n",
      "Preparing text vocab dict: 100%|██████████| 48743/48743 [00:00<00:00, 410746.60it/s]\n",
      "Preparing text vocab dict: 100%|██████████| 12186/12186 [00:00<00:00, 372632.68it/s]\n",
      "2020-12-14 14:30:15,331 [DEBUG] kashgari - --- Build vocab dict finished, Total: 1742 ---\n",
      "2020-12-14 14:30:15,332 [DEBUG] kashgari - Top-10: ['[PAD]', '[UNK]', '[CLS]', '[SEP]', '：', '師', '是', '民', '眾', '醫']\n",
      "Preparing text vocab dict: 100%|██████████| 48743/48743 [00:00<00:00, 572260.60it/s]\n",
      "Preparing text vocab dict: 100%|██████████| 12186/12186 [00:00<00:00, 571669.07it/s]\n",
      "2020-12-14 14:30:15,442 [DEBUG] kashgari - --- Build vocab dict finished, Total: 28 ---\n",
      "2020-12-14 14:30:15,443 [DEBUG] kashgari - Top-10: ['[PAD]', 'O', 'I-time', 'B-time', 'I-med_exam', 'I-name', 'I-location', 'B-med_exam', 'I-money', 'B-name']\n",
      "Calculating sequence length: 100%|██████████| 48743/48743 [00:00<00:00, 1102796.11it/s]\n",
      "Calculating sequence length: 100%|██████████| 12186/12186 [00:00<00:00, 946286.79it/s]\n",
      "2020-12-14 14:30:18,844 [DEBUG] kashgari - Calculated sequence length = 19\n",
      "2020-12-14 14:30:21,008 [DEBUG] kashgari - fit input shape: (2, 1024, 19)\n",
      "2020-12-14 14:30:21,009 [DEBUG] kashgari - fit input shape: (1024, 19)\n"
     ]
    },
    {
     "name": "stdout",
     "output_type": "stream",
     "text": [
      "Epoch 1/512\n",
      "47/47 [==============================] - 38s 799ms/step - loss: 2.1298 - accuracy: 0.9052 - val_loss: 23.6896 - val_accuracy: 0.9610\n",
      "Epoch 2/512\n",
      "47/47 [==============================] - 33s 698ms/step - loss: 0.6873 - accuracy: 0.9645 - val_loss: 23.4731 - val_accuracy: 0.9789\n",
      "Epoch 3/512\n",
      "47/47 [==============================] - 33s 696ms/step - loss: 0.4505 - accuracy: 0.9780 - val_loss: 23.4278 - val_accuracy: 0.9820\n",
      "Epoch 4/512\n",
      "47/47 [==============================] - 33s 696ms/step - loss: 0.3416 - accuracy: 0.9816 - val_loss: 23.3056 - val_accuracy: 0.9840\n",
      "Epoch 5/512\n",
      "47/47 [==============================] - 33s 695ms/step - loss: 0.2760 - accuracy: 0.9838 - val_loss: 23.2606 - val_accuracy: 0.9857\n",
      "Epoch 6/512\n",
      "47/47 [==============================] - 33s 702ms/step - loss: 0.2427 - accuracy: 0.9850 - val_loss: 23.2088 - val_accuracy: 0.9873\n",
      "Epoch 7/512\n",
      "47/47 [==============================] - 33s 696ms/step - loss: 0.2164 - accuracy: 0.9864 - val_loss: 23.1291 - val_accuracy: 0.9876\n",
      "Epoch 8/512\n",
      "47/47 [==============================] - 33s 697ms/step - loss: 0.1965 - accuracy: 0.9874 - val_loss: 23.0559 - val_accuracy: 0.9885\n",
      "Epoch 9/512\n",
      "47/47 [==============================] - 33s 696ms/step - loss: 0.1876 - accuracy: 0.9875 - val_loss: 23.0475 - val_accuracy: 0.9891\n",
      "Epoch 10/512\n",
      "47/47 [==============================] - 33s 697ms/step - loss: 0.1708 - accuracy: 0.9886 - val_loss: 23.0324 - val_accuracy: 0.9891\n",
      "Epoch 11/512\n",
      "47/47 [==============================] - 33s 697ms/step - loss: 0.1598 - accuracy: 0.9891 - val_loss: 22.9777 - val_accuracy: 0.9894\n",
      "Epoch 12/512\n",
      "47/47 [==============================] - 33s 697ms/step - loss: 0.1517 - accuracy: 0.9894 - val_loss: 22.8908 - val_accuracy: 0.9899\n",
      "Epoch 13/512\n",
      "47/47 [==============================] - 33s 698ms/step - loss: 0.1435 - accuracy: 0.9898 - val_loss: 22.8335 - val_accuracy: 0.9893\n",
      "Epoch 14/512\n",
      "47/47 [==============================] - 33s 696ms/step - loss: 0.1363 - accuracy: 0.9901 - val_loss: 22.8011 - val_accuracy: 0.9898\n",
      "Epoch 15/512\n",
      "47/47 [==============================] - 33s 692ms/step - loss: 0.1322 - accuracy: 0.9906 - val_loss: 22.7772 - val_accuracy: 0.9897\n",
      "Epoch 16/512\n",
      "47/47 [==============================] - 32s 691ms/step - loss: 0.1235 - accuracy: 0.9911 - val_loss: 22.6933 - val_accuracy: 0.9903\n",
      "Epoch 17/512\n",
      "47/47 [==============================] - 32s 691ms/step - loss: 0.1171 - accuracy: 0.9914 - val_loss: 22.6109 - val_accuracy: 0.9901\n",
      "Epoch 18/512\n",
      "47/47 [==============================] - 32s 691ms/step - loss: 0.1110 - accuracy: 0.9917 - val_loss: 22.5625 - val_accuracy: 0.9902\n",
      "Epoch 19/512\n",
      "47/47 [==============================] - 33s 693ms/step - loss: 0.1047 - accuracy: 0.9920 - val_loss: 22.5657 - val_accuracy: 0.9907\n",
      "Epoch 20/512\n",
      "47/47 [==============================] - 33s 693ms/step - loss: 0.1006 - accuracy: 0.9922 - val_loss: 22.5213 - val_accuracy: 0.9909\n",
      "Epoch 21/512\n",
      "47/47 [==============================] - 32s 691ms/step - loss: 0.0951 - accuracy: 0.9930 - val_loss: 22.4975 - val_accuracy: 0.9906\n",
      "Epoch 22/512\n",
      "47/47 [==============================] - 33s 693ms/step - loss: 0.0929 - accuracy: 0.9926 - val_loss: 22.4221 - val_accuracy: 0.9912\n",
      "Epoch 23/512\n",
      "47/47 [==============================] - 33s 693ms/step - loss: 0.0894 - accuracy: 0.9929 - val_loss: 22.4070 - val_accuracy: 0.9906\n",
      "Epoch 24/512\n",
      "47/47 [==============================] - 33s 693ms/step - loss: 0.0866 - accuracy: 0.9931 - val_loss: 22.3729 - val_accuracy: 0.9911\n",
      "Epoch 25/512\n",
      "47/47 [==============================] - 33s 693ms/step - loss: 0.0803 - accuracy: 0.9935 - val_loss: 22.3216 - val_accuracy: 0.9912\n",
      "Epoch 26/512\n",
      "47/47 [==============================] - 33s 693ms/step - loss: 0.0754 - accuracy: 0.9940 - val_loss: 22.2994 - val_accuracy: 0.9916\n",
      "Epoch 27/512\n",
      "47/47 [==============================] - 33s 693ms/step - loss: 0.0750 - accuracy: 0.9938 - val_loss: 22.2242 - val_accuracy: 0.9911\n",
      "Epoch 28/512\n",
      "47/47 [==============================] - 33s 693ms/step - loss: 0.0710 - accuracy: 0.9943 - val_loss: 22.2308 - val_accuracy: 0.9912\n",
      "Epoch 29/512\n",
      "47/47 [==============================] - 33s 693ms/step - loss: 0.0688 - accuracy: 0.9945 - val_loss: 22.1453 - val_accuracy: 0.9915\n",
      "Epoch 30/512\n",
      "47/47 [==============================] - 33s 692ms/step - loss: 0.0660 - accuracy: 0.9945 - val_loss: 22.1374 - val_accuracy: 0.9913\n",
      "Epoch 31/512\n",
      "47/47 [==============================] - 33s 692ms/step - loss: 0.0638 - accuracy: 0.9947 - val_loss: 22.1516 - val_accuracy: 0.9918\n",
      "Epoch 32/512\n",
      "47/47 [==============================] - 33s 692ms/step - loss: 0.0611 - accuracy: 0.9952 - val_loss: 22.0307 - val_accuracy: 0.9909\n",
      "Epoch 33/512\n",
      "47/47 [==============================] - 33s 692ms/step - loss: 0.0605 - accuracy: 0.9951 - val_loss: 22.0311 - val_accuracy: 0.9911\n",
      "Epoch 34/512\n",
      "47/47 [==============================] - 33s 693ms/step - loss: 0.0541 - accuracy: 0.9955 - val_loss: 21.9573 - val_accuracy: 0.9909\n",
      "Epoch 35/512\n",
      "47/47 [==============================] - 33s 693ms/step - loss: 0.0540 - accuracy: 0.9956 - val_loss: 21.9806 - val_accuracy: 0.9912\n",
      "Epoch 36/512\n",
      "47/47 [==============================] - 33s 692ms/step - loss: 0.0493 - accuracy: 0.9961 - val_loss: 21.9253 - val_accuracy: 0.9911\n",
      "Epoch 37/512\n",
      "47/47 [==============================] - 33s 692ms/step - loss: 0.0486 - accuracy: 0.9960 - val_loss: 21.8982 - val_accuracy: 0.9913\n",
      "Epoch 38/512\n",
      "47/47 [==============================] - 33s 692ms/step - loss: 0.0500 - accuracy: 0.9959 - val_loss: 21.8614 - val_accuracy: 0.9912\n",
      "Epoch 39/512\n",
      "47/47 [==============================] - 32s 691ms/step - loss: 0.0470 - accuracy: 0.9962 - val_loss: 21.8646 - val_accuracy: 0.9912\n",
      "Epoch 40/512\n",
      "47/47 [==============================] - 33s 692ms/step - loss: 0.0472 - accuracy: 0.9960 - val_loss: 21.7812 - val_accuracy: 0.9911\n",
      "Epoch 41/512\n",
      "47/47 [==============================] - 33s 692ms/step - loss: 0.0442 - accuracy: 0.9964 - val_loss: 21.7661 - val_accuracy: 0.9916\n",
      "Epoch 42/512\n",
      "47/47 [==============================] - 32s 691ms/step - loss: 0.0412 - accuracy: 0.9967 - val_loss: 21.7254 - val_accuracy: 0.9911\n",
      "Epoch 43/512\n",
      "47/47 [==============================] - 32s 691ms/step - loss: 0.0411 - accuracy: 0.9966 - val_loss: 21.7436 - val_accuracy: 0.9908\n",
      "Epoch 44/512\n",
      "47/47 [==============================] - 32s 691ms/step - loss: 0.0394 - accuracy: 0.9967 - val_loss: 21.7329 - val_accuracy: 0.9907\n",
      "Epoch 45/512\n",
      "47/47 [==============================] - 33s 691ms/step - loss: 0.0409 - accuracy: 0.9966 - val_loss: 21.6753 - val_accuracy: 0.9917\n",
      "Epoch 46/512\n",
      "47/47 [==============================] - 32s 691ms/step - loss: 0.0366 - accuracy: 0.9970 - val_loss: 21.6817 - val_accuracy: 0.9910\n",
      "Epoch 47/512\n",
      "47/47 [==============================] - 33s 691ms/step - loss: 0.0360 - accuracy: 0.9971 - val_loss: 21.6138 - val_accuracy: 0.9914\n",
      "Epoch 48/512\n",
      "47/47 [==============================] - 33s 692ms/step - loss: 0.0371 - accuracy: 0.9968 - val_loss: 21.6437 - val_accuracy: 0.9913\n",
      "Epoch 49/512\n",
      "47/47 [==============================] - 33s 697ms/step - loss: 0.0342 - accuracy: 0.9972 - val_loss: 21.5660 - val_accuracy: 0.9918\n",
      "Epoch 50/512\n",
      "47/47 [==============================] - 33s 696ms/step - loss: 0.0344 - accuracy: 0.9971 - val_loss: 21.5695 - val_accuracy: 0.9917\n",
      "Epoch 51/512\n",
      "47/47 [==============================] - 33s 692ms/step - loss: 0.0346 - accuracy: 0.9970 - val_loss: 21.5115 - val_accuracy: 0.9907\n",
      "Epoch 52/512\n",
      "47/47 [==============================] - 33s 692ms/step - loss: 0.0333 - accuracy: 0.9970 - val_loss: 21.5061 - val_accuracy: 0.9908\n",
      "Epoch 53/512\n",
      "47/47 [==============================] - 33s 692ms/step - loss: 0.0331 - accuracy: 0.9972 - val_loss: 21.4061 - val_accuracy: 0.9911\n",
      "Epoch 54/512\n",
      "47/47 [==============================] - 32s 691ms/step - loss: 0.0316 - accuracy: 0.9973 - val_loss: 21.4340 - val_accuracy: 0.9896\n",
      "Epoch 55/512\n",
      "47/47 [==============================] - 32s 691ms/step - loss: 0.0302 - accuracy: 0.9975 - val_loss: 21.4301 - val_accuracy: 0.9894\n",
      "Epoch 56/512\n",
      "47/47 [==============================] - 33s 692ms/step - loss: 0.0301 - accuracy: 0.9973 - val_loss: 21.3916 - val_accuracy: 0.9891\n",
      "Epoch 57/512\n",
      "47/47 [==============================] - 32s 691ms/step - loss: 0.0300 - accuracy: 0.9974 - val_loss: 21.3529 - val_accuracy: 0.9897\n",
      "Epoch 58/512\n",
      "47/47 [==============================] - 32s 691ms/step - loss: 0.0311 - accuracy: 0.9972 - val_loss: 21.3478 - val_accuracy: 0.9883\n",
      "Epoch 59/512\n",
      "47/47 [==============================] - 33s 693ms/step - loss: 0.0292 - accuracy: 0.9976 - val_loss: 21.3177 - val_accuracy: 0.9895\n",
      "Epoch 60/512\n",
      "47/47 [==============================] - 33s 692ms/step - loss: 0.0272 - accuracy: 0.9975 - val_loss: 21.2970 - val_accuracy: 0.9896\n",
      "Epoch 61/512\n",
      "47/47 [==============================] - 33s 693ms/step - loss: 0.0254 - accuracy: 0.9979 - val_loss: 21.2907 - val_accuracy: 0.9899\n",
      "Epoch 62/512\n",
      "47/47 [==============================] - 33s 692ms/step - loss: 0.0264 - accuracy: 0.9978 - val_loss: 21.2392 - val_accuracy: 0.9896\n",
      "Epoch 63/512\n",
      "47/47 [==============================] - 33s 692ms/step - loss: 0.0249 - accuracy: 0.9980 - val_loss: 21.2103 - val_accuracy: 0.9902\n",
      "Epoch 64/512\n",
      "47/47 [==============================] - 33s 702ms/step - loss: 0.0253 - accuracy: 0.9977 - val_loss: 21.2613 - val_accuracy: 0.9898\n",
      "Epoch 65/512\n",
      "47/47 [==============================] - 33s 701ms/step - loss: 0.0237 - accuracy: 0.9980 - val_loss: 21.1784 - val_accuracy: 0.9896\n",
      "Epoch 66/512\n",
      "47/47 [==============================] - 33s 701ms/step - loss: 0.0236 - accuracy: 0.9979 - val_loss: 21.1588 - val_accuracy: 0.9893\n",
      "Epoch 67/512\n",
      "47/47 [==============================] - 33s 701ms/step - loss: 0.0233 - accuracy: 0.9979 - val_loss: 21.1565 - val_accuracy: 0.9892\n",
      "Epoch 68/512\n",
      "47/47 [==============================] - 33s 701ms/step - loss: 0.0232 - accuracy: 0.9978 - val_loss: 21.1170 - val_accuracy: 0.9892\n",
      "Epoch 69/512\n",
      "47/47 [==============================] - 33s 701ms/step - loss: 0.0235 - accuracy: 0.9980 - val_loss: 21.1037 - val_accuracy: 0.9885\n",
      "Epoch 70/512\n",
      "47/47 [==============================] - 33s 701ms/step - loss: 0.0222 - accuracy: 0.9980 - val_loss: 21.0480 - val_accuracy: 0.9891\n",
      "Epoch 71/512\n",
      "47/47 [==============================] - 33s 696ms/step - loss: 0.0238 - accuracy: 0.9979 - val_loss: 21.0254 - val_accuracy: 0.9871\n",
      "Epoch 72/512\n",
      "47/47 [==============================] - 33s 692ms/step - loss: 0.0224 - accuracy: 0.9981 - val_loss: 21.0468 - val_accuracy: 0.9869\n",
      "Epoch 73/512\n",
      "47/47 [==============================] - 32s 691ms/step - loss: 0.0224 - accuracy: 0.9980 - val_loss: 20.9893 - val_accuracy: 0.9871\n",
      "Epoch 74/512\n",
      "47/47 [==============================] - 32s 691ms/step - loss: 0.0196 - accuracy: 0.9983 - val_loss: 20.9481 - val_accuracy: 0.9870\n",
      "Epoch 75/512\n",
      "47/47 [==============================] - 32s 691ms/step - loss: 0.0210 - accuracy: 0.9982 - val_loss: 20.9805 - val_accuracy: 0.9867\n",
      "Epoch 76/512\n",
      "47/47 [==============================] - 32s 691ms/step - loss: 0.0211 - accuracy: 0.9981 - val_loss: 20.9242 - val_accuracy: 0.9871\n",
      "Epoch 77/512\n",
      "47/47 [==============================] - 32s 691ms/step - loss: 0.0202 - accuracy: 0.9982 - val_loss: 20.9109 - val_accuracy: 0.9851\n",
      "Epoch 78/512\n",
      "47/47 [==============================] - 32s 691ms/step - loss: 0.0200 - accuracy: 0.9981 - val_loss: 20.8836 - val_accuracy: 0.9851\n",
      "Epoch 79/512\n",
      "47/47 [==============================] - 33s 692ms/step - loss: 0.0205 - accuracy: 0.9982 - val_loss: 20.8841 - val_accuracy: 0.9846\n",
      "Epoch 80/512\n",
      "47/47 [==============================] - 33s 692ms/step - loss: 0.0197 - accuracy: 0.9982 - val_loss: 20.8513 - val_accuracy: 0.9836\n",
      "Epoch 81/512\n",
      "47/47 [==============================] - 32s 691ms/step - loss: 0.0188 - accuracy: 0.9983 - val_loss: 20.8411 - val_accuracy: 0.9844\n",
      "Epoch 82/512\n",
      "47/47 [==============================] - 33s 692ms/step - loss: 0.0198 - accuracy: 0.9981 - val_loss: 20.8091 - val_accuracy: 0.9847\n",
      "Epoch 83/512\n",
      "47/47 [==============================] - 33s 694ms/step - loss: 0.0191 - accuracy: 0.9982 - val_loss: 20.7277 - val_accuracy: 0.9842\n",
      "Epoch 84/512\n",
      "47/47 [==============================] - 32s 691ms/step - loss: 0.0191 - accuracy: 0.9982 - val_loss: 20.7416 - val_accuracy: 0.9851\n",
      "Epoch 85/512\n",
      "47/47 [==============================] - 33s 692ms/step - loss: 0.0187 - accuracy: 0.9982 - val_loss: 20.7162 - val_accuracy: 0.9802\n",
      "Epoch 86/512\n",
      "47/47 [==============================] - 33s 692ms/step - loss: 0.0184 - accuracy: 0.9983 - val_loss: 20.7118 - val_accuracy: 0.9812\n",
      "Epoch 87/512\n",
      "47/47 [==============================] - 33s 694ms/step - loss: 0.0197 - accuracy: 0.9980 - val_loss: 20.6561 - val_accuracy: 0.9799\n",
      "Epoch 88/512\n",
      "47/47 [==============================] - 33s 693ms/step - loss: 0.0185 - accuracy: 0.9982 - val_loss: 20.6378 - val_accuracy: 0.9791\n",
      "Epoch 89/512\n",
      "47/47 [==============================] - 33s 693ms/step - loss: 0.0176 - accuracy: 0.9983 - val_loss: 20.6123 - val_accuracy: 0.9778\n",
      "Epoch 90/512\n",
      "47/47 [==============================] - 33s 692ms/step - loss: 0.0175 - accuracy: 0.9984 - val_loss: 20.6249 - val_accuracy: 0.9787\n",
      "Epoch 91/512\n",
      "47/47 [==============================] - 33s 693ms/step - loss: 0.0172 - accuracy: 0.9983 - val_loss: 20.5769 - val_accuracy: 0.9794\n",
      "Epoch 92/512\n",
      "47/47 [==============================] - 33s 693ms/step - loss: 0.0168 - accuracy: 0.9985 - val_loss: 20.5735 - val_accuracy: 0.9793\n",
      "Epoch 93/512\n",
      "47/47 [==============================] - 33s 693ms/step - loss: 0.0155 - accuracy: 0.9986 - val_loss: 20.5162 - val_accuracy: 0.9788\n",
      "Epoch 94/512\n",
      "47/47 [==============================] - 33s 692ms/step - loss: 0.0145 - accuracy: 0.9987 - val_loss: 20.4638 - val_accuracy: 0.9790\n",
      "Epoch 95/512\n",
      "47/47 [==============================] - 33s 692ms/step - loss: 0.0166 - accuracy: 0.9984 - val_loss: 20.4984 - val_accuracy: 0.9774\n",
      "Epoch 96/512\n",
      "47/47 [==============================] - 33s 692ms/step - loss: 0.0161 - accuracy: 0.9985 - val_loss: 20.4821 - val_accuracy: 0.9788\n",
      "Epoch 97/512\n",
      "47/47 [==============================] - 33s 697ms/step - loss: 0.0164 - accuracy: 0.9984 - val_loss: 20.4274 - val_accuracy: 0.9796\n",
      "Epoch 98/512\n",
      "47/47 [==============================] - 33s 697ms/step - loss: 0.0152 - accuracy: 0.9985 - val_loss: 20.4228 - val_accuracy: 0.9779\n",
      "Epoch 99/512\n",
      "47/47 [==============================] - 33s 692ms/step - loss: 0.0157 - accuracy: 0.9984 - val_loss: 20.4275 - val_accuracy: 0.8096\n",
      "Epoch 100/512\n",
      "47/47 [==============================] - 33s 692ms/step - loss: 0.0139 - accuracy: 0.9986 - val_loss: 20.3741 - val_accuracy: 0.8096\n",
      "Epoch 101/512\n",
      "47/47 [==============================] - 33s 692ms/step - loss: 0.0135 - accuracy: 0.9986 - val_loss: 20.3349 - val_accuracy: 0.8088\n",
      "Epoch 102/512\n",
      "47/47 [==============================] - 33s 693ms/step - loss: 0.0149 - accuracy: 0.9986 - val_loss: 20.3342 - val_accuracy: 0.8083\n",
      "Epoch 103/512\n",
      "47/47 [==============================] - 33s 692ms/step - loss: 0.0158 - accuracy: 0.9984 - val_loss: 20.3239 - val_accuracy: 0.8089\n",
      "Epoch 104/512\n",
      "47/47 [==============================] - 33s 693ms/step - loss: 0.0141 - accuracy: 0.9987 - val_loss: 20.3184 - val_accuracy: 0.8085\n",
      "Epoch 105/512\n",
      "47/47 [==============================] - 33s 693ms/step - loss: 0.0130 - accuracy: 0.9987 - val_loss: 20.2402 - val_accuracy: 0.8077\n",
      "Epoch 106/512\n",
      "47/47 [==============================] - 33s 694ms/step - loss: 0.0149 - accuracy: 0.9986 - val_loss: 20.2907 - val_accuracy: 0.8087\n",
      "Epoch 107/512\n",
      "47/47 [==============================] - 33s 692ms/step - loss: 0.0149 - accuracy: 0.9986 - val_loss: 20.2455 - val_accuracy: 0.8089\n",
      "Epoch 108/512\n",
      "47/47 [==============================] - 33s 693ms/step - loss: 0.0138 - accuracy: 0.9986 - val_loss: 20.2342 - val_accuracy: 0.7987\n",
      "Epoch 109/512\n",
      "47/47 [==============================] - 33s 694ms/step - loss: 0.0126 - accuracy: 0.9988 - val_loss: 20.1717 - val_accuracy: 0.7986\n",
      "Epoch 110/512\n",
      "47/47 [==============================] - 33s 692ms/step - loss: 0.0131 - accuracy: 0.9987 - val_loss: 20.1658 - val_accuracy: 0.7988\n",
      "Epoch 111/512\n",
      "47/47 [==============================] - 33s 692ms/step - loss: 0.0136 - accuracy: 0.9987 - val_loss: 20.1629 - val_accuracy: 0.7982\n",
      "Epoch 112/512\n",
      "47/47 [==============================] - 33s 692ms/step - loss: 0.0118 - accuracy: 0.9989 - val_loss: 20.1180 - val_accuracy: 0.7978\n",
      "Epoch 113/512\n"
     ]
    },
    {
     "name": "stdout",
     "output_type": "stream",
     "text": [
      "47/47 [==============================] - 33s 693ms/step - loss: 0.0141 - accuracy: 0.9987 - val_loss: 20.1039 - val_accuracy: 0.7990\n",
      "Epoch 114/512\n",
      "47/47 [==============================] - 33s 692ms/step - loss: 0.0134 - accuracy: 0.9986 - val_loss: 20.0775 - val_accuracy: 0.7978\n",
      "Epoch 115/512\n",
      "47/47 [==============================] - 33s 691ms/step - loss: 0.0126 - accuracy: 0.9988 - val_loss: 20.0333 - val_accuracy: 0.7978\n",
      "Epoch 116/512\n",
      "47/47 [==============================] - 33s 692ms/step - loss: 0.0123 - accuracy: 0.9988 - val_loss: 20.0517 - val_accuracy: 0.7980\n",
      "Epoch 117/512\n",
      "47/47 [==============================] - 33s 692ms/step - loss: 0.0142 - accuracy: 0.9985 - val_loss: 20.0064 - val_accuracy: 0.7979\n",
      "Epoch 118/512\n",
      "47/47 [==============================] - 33s 692ms/step - loss: 0.0133 - accuracy: 0.9986 - val_loss: 19.9709 - val_accuracy: 0.7979\n",
      "Epoch 119/512\n",
      "47/47 [==============================] - 32s 691ms/step - loss: 0.0133 - accuracy: 0.9986 - val_loss: 19.9655 - val_accuracy: 0.7980\n",
      "Epoch 120/512\n",
      "47/47 [==============================] - 32s 691ms/step - loss: 0.0134 - accuracy: 0.9986 - val_loss: 19.9469 - val_accuracy: 0.7980\n",
      "Epoch 121/512\n",
      "47/47 [==============================] - 32s 691ms/step - loss: 0.0127 - accuracy: 0.9987 - val_loss: 19.9504 - val_accuracy: 0.7978\n",
      "Epoch 122/512\n",
      "47/47 [==============================] - 33s 692ms/step - loss: 0.0124 - accuracy: 0.9987 - val_loss: 19.8871 - val_accuracy: 0.7964\n",
      "Epoch 123/512\n",
      "47/47 [==============================] - 32s 691ms/step - loss: 0.0120 - accuracy: 0.9987 - val_loss: 19.8444 - val_accuracy: 0.7965\n",
      "Epoch 124/512\n",
      "47/47 [==============================] - 32s 691ms/step - loss: 0.0136 - accuracy: 0.9986 - val_loss: 19.8323 - val_accuracy: 0.7969\n",
      "Epoch 125/512\n",
      "47/47 [==============================] - 33s 692ms/step - loss: 0.0118 - accuracy: 0.9987 - val_loss: 19.8158 - val_accuracy: 0.7970\n",
      "Epoch 126/512\n",
      "47/47 [==============================] - 33s 692ms/step - loss: 0.0118 - accuracy: 0.9988 - val_loss: 19.8012 - val_accuracy: 0.7957\n",
      "Epoch 127/512\n",
      "47/47 [==============================] - 32s 691ms/step - loss: 0.0112 - accuracy: 0.9988 - val_loss: 19.7548 - val_accuracy: 0.7956\n",
      "Epoch 128/512\n",
      "47/47 [==============================] - 32s 691ms/step - loss: 0.0115 - accuracy: 0.9988 - val_loss: 19.7300 - val_accuracy: 0.7954\n",
      "Epoch 129/512\n",
      "47/47 [==============================] - 32s 691ms/step - loss: 0.0110 - accuracy: 0.9988 - val_loss: 19.7455 - val_accuracy: 0.7958\n",
      "Epoch 130/512\n",
      "47/47 [==============================] - 33s 692ms/step - loss: 0.0117 - accuracy: 0.9987 - val_loss: 19.6683 - val_accuracy: 0.7951\n",
      "Epoch 131/512\n",
      "47/47 [==============================] - 32s 691ms/step - loss: 0.0113 - accuracy: 0.9988 - val_loss: 19.6965 - val_accuracy: 0.7888\n",
      "Epoch 132/512\n",
      "47/47 [==============================] - 32s 691ms/step - loss: 0.0113 - accuracy: 0.9988 - val_loss: 19.6603 - val_accuracy: 0.7879\n",
      "Epoch 133/512\n",
      "47/47 [==============================] - 32s 691ms/step - loss: 0.0116 - accuracy: 0.9987 - val_loss: 19.6020 - val_accuracy: 0.7874\n",
      "Epoch 134/512\n",
      "47/47 [==============================] - 33s 692ms/step - loss: 0.0113 - accuracy: 0.9987 - val_loss: 19.6345 - val_accuracy: 0.7879\n",
      "Epoch 135/512\n",
      "47/47 [==============================] - 32s 691ms/step - loss: 0.0112 - accuracy: 0.9988 - val_loss: 19.5827 - val_accuracy: 0.7878\n",
      "Epoch 136/512\n",
      "47/47 [==============================] - 32s 691ms/step - loss: 0.0111 - accuracy: 0.9988 - val_loss: 19.5545 - val_accuracy: 0.7878\n",
      "Epoch 137/512\n",
      "47/47 [==============================] - 33s 692ms/step - loss: 0.0102 - accuracy: 0.9988 - val_loss: 19.5215 - val_accuracy: 0.7864\n",
      "Epoch 138/512\n",
      "47/47 [==============================] - 33s 692ms/step - loss: 0.0113 - accuracy: 0.9987 - val_loss: 19.4999 - val_accuracy: 0.7868\n",
      "Epoch 139/512\n",
      "47/47 [==============================] - 33s 699ms/step - loss: 0.0124 - accuracy: 0.9986 - val_loss: 19.4507 - val_accuracy: 0.7769\n",
      "Epoch 140/512\n",
      "47/47 [==============================] - 33s 701ms/step - loss: 0.0106 - accuracy: 0.9989 - val_loss: 19.4215 - val_accuracy: 0.7772\n",
      "Epoch 141/512\n",
      "47/47 [==============================] - 33s 700ms/step - loss: 0.0104 - accuracy: 0.9989 - val_loss: 19.4140 - val_accuracy: 0.7769\n",
      "Epoch 142/512\n",
      "47/47 [==============================] - 33s 702ms/step - loss: 0.0104 - accuracy: 0.9989 - val_loss: 19.3683 - val_accuracy: 0.7782\n",
      "Epoch 143/512\n",
      "47/47 [==============================] - 33s 698ms/step - loss: 0.0112 - accuracy: 0.9987 - val_loss: 19.3831 - val_accuracy: 0.7785\n",
      "Epoch 144/512\n",
      "47/47 [==============================] - 33s 700ms/step - loss: 0.0109 - accuracy: 0.9988 - val_loss: 19.3496 - val_accuracy: 0.7144\n",
      "Epoch 145/512\n",
      "47/47 [==============================] - 33s 705ms/step - loss: 0.0111 - accuracy: 0.9987 - val_loss: 19.2997 - val_accuracy: 0.7141\n",
      "Epoch 146/512\n",
      "47/47 [==============================] - 33s 702ms/step - loss: 0.0104 - accuracy: 0.9989 - val_loss: 19.2569 - val_accuracy: 0.7142\n",
      "Epoch 147/512\n",
      "47/47 [==============================] - 32s 690ms/step - loss: 0.0101 - accuracy: 0.9988 - val_loss: 19.2591 - val_accuracy: 0.6633\n",
      "Epoch 148/512\n",
      "47/47 [==============================] - 32s 691ms/step - loss: 0.0093 - accuracy: 0.9990 - val_loss: 19.1802 - val_accuracy: 0.6600\n",
      "Epoch 149/512\n",
      "47/47 [==============================] - 32s 690ms/step - loss: 0.0104 - accuracy: 0.9989 - val_loss: 19.1946 - val_accuracy: 0.6611\n",
      "Epoch 150/512\n",
      "47/47 [==============================] - 32s 691ms/step - loss: 0.0099 - accuracy: 0.9989 - val_loss: 19.1968 - val_accuracy: 0.6086\n",
      "Epoch 151/512\n",
      "47/47 [==============================] - 32s 690ms/step - loss: 0.0102 - accuracy: 0.9989 - val_loss: 19.1417 - val_accuracy: 0.6069\n",
      "Epoch 152/512\n",
      "47/47 [==============================] - 32s 690ms/step - loss: 0.0108 - accuracy: 0.9988 - val_loss: 19.0859 - val_accuracy: 0.5583\n",
      "Epoch 153/512\n",
      "47/47 [==============================] - 32s 690ms/step - loss: 0.0098 - accuracy: 0.9989 - val_loss: 19.0569 - val_accuracy: 0.6064\n",
      "Epoch 154/512\n",
      "47/47 [==============================] - 32s 691ms/step - loss: 0.0106 - accuracy: 0.9988 - val_loss: 19.0549 - val_accuracy: 0.5087\n",
      "Epoch 155/512\n",
      "47/47 [==============================] - 32s 690ms/step - loss: 0.0094 - accuracy: 0.9990 - val_loss: 19.0322 - val_accuracy: 0.5092\n",
      "Epoch 156/512\n",
      "47/47 [==============================] - 32s 691ms/step - loss: 0.0110 - accuracy: 0.9987 - val_loss: 18.9701 - val_accuracy: 0.5072\n",
      "Epoch 157/512\n",
      "47/47 [==============================] - 32s 691ms/step - loss: 0.0094 - accuracy: 0.9989 - val_loss: 18.9742 - val_accuracy: 0.4595\n",
      "Epoch 158/512\n",
      "47/47 [==============================] - 32s 690ms/step - loss: 0.0095 - accuracy: 0.9989 - val_loss: 18.9270 - val_accuracy: 0.4576\n",
      "Epoch 159/512\n",
      "47/47 [==============================] - 33s 697ms/step - loss: 0.0101 - accuracy: 0.9988 - val_loss: 18.9417 - val_accuracy: 0.4168\n",
      "Epoch 160/512\n",
      "47/47 [==============================] - 32s 691ms/step - loss: 0.0096 - accuracy: 0.9988 - val_loss: 18.8754 - val_accuracy: 0.4145\n",
      "Epoch 161/512\n",
      "47/47 [==============================] - 32s 691ms/step - loss: 0.0089 - accuracy: 0.9989 - val_loss: 18.8320 - val_accuracy: 0.3684\n",
      "Epoch 162/512\n",
      "47/47 [==============================] - 32s 691ms/step - loss: 0.0102 - accuracy: 0.9988 - val_loss: 18.8585 - val_accuracy: 0.2884\n",
      "Epoch 163/512\n",
      "47/47 [==============================] - 33s 692ms/step - loss: 0.0103 - accuracy: 0.9987 - val_loss: 18.7899 - val_accuracy: 0.2843\n",
      "Epoch 164/512\n",
      "47/47 [==============================] - 33s 692ms/step - loss: 0.0103 - accuracy: 0.9989 - val_loss: 18.8291 - val_accuracy: 0.2881\n",
      "Epoch 165/512\n",
      "47/47 [==============================] - 32s 691ms/step - loss: 0.0109 - accuracy: 0.9987 - val_loss: 18.7475 - val_accuracy: 0.2512\n",
      "Epoch 166/512\n",
      "47/47 [==============================] - 32s 690ms/step - loss: 0.0092 - accuracy: 0.9990 - val_loss: 18.7472 - val_accuracy: 0.2208\n",
      "Epoch 167/512\n",
      "47/47 [==============================] - 32s 691ms/step - loss: 0.0096 - accuracy: 0.9989 - val_loss: 18.6788 - val_accuracy: 0.1733\n",
      "Epoch 168/512\n",
      "47/47 [==============================] - 33s 692ms/step - loss: 0.0093 - accuracy: 0.9990 - val_loss: 18.6733 - val_accuracy: 0.1737\n"
     ]
    },
    {
     "name": "stdout",
     "output_type": "stream",
     "text": [
      "Epoch 169/512\n",
      "47/47 [==============================] - 33s 692ms/step - loss: 0.0092 - accuracy: 0.9989 - val_loss: 18.6700 - val_accuracy: 0.1733\n",
      "Epoch 170/512\n",
      "47/47 [==============================] - 32s 691ms/step - loss: 0.0089 - accuracy: 0.9990 - val_loss: 18.5982 - val_accuracy: 0.1708\n",
      "Epoch 171/512\n",
      "47/47 [==============================] - 32s 691ms/step - loss: 0.0100 - accuracy: 0.9987 - val_loss: 18.5939 - val_accuracy: 0.1715\n",
      "Epoch 172/512\n",
      "47/47 [==============================] - 32s 691ms/step - loss: 0.0089 - accuracy: 0.9989 - val_loss: 18.5700 - val_accuracy: 0.1738\n",
      "Epoch 173/512\n",
      "47/47 [==============================] - 32s 690ms/step - loss: 0.0099 - accuracy: 0.9988 - val_loss: 18.5211 - val_accuracy: 0.1738\n",
      "Epoch 174/512\n",
      "47/47 [==============================] - 32s 691ms/step - loss: 0.0079 - accuracy: 0.9991 - val_loss: 18.5159 - val_accuracy: 0.1724\n",
      "Epoch 175/512\n",
      "47/47 [==============================] - 32s 691ms/step - loss: 0.0098 - accuracy: 0.9987 - val_loss: 18.4975 - val_accuracy: 0.1704\n",
      "Epoch 176/512\n",
      "47/47 [==============================] - 32s 691ms/step - loss: 0.0090 - accuracy: 0.9988 - val_loss: 18.4478 - val_accuracy: 0.1705\n",
      "Epoch 177/512\n",
      "47/47 [==============================] - 32s 691ms/step - loss: 0.0094 - accuracy: 0.9989 - val_loss: 18.3873 - val_accuracy: 0.1697\n",
      "Epoch 178/512\n",
      "47/47 [==============================] - 33s 692ms/step - loss: 0.0090 - accuracy: 0.9990 - val_loss: 18.3751 - val_accuracy: 0.1730\n",
      "Epoch 179/512\n",
      "47/47 [==============================] - 32s 691ms/step - loss: 0.0099 - accuracy: 0.9989 - val_loss: 18.3738 - val_accuracy: 0.1724\n",
      "Epoch 180/512\n",
      "47/47 [==============================] - 32s 690ms/step - loss: 0.0092 - accuracy: 0.9990 - val_loss: 18.3701 - val_accuracy: 0.0560\n",
      "Epoch 181/512\n",
      "47/47 [==============================] - 32s 691ms/step - loss: 0.0086 - accuracy: 0.9990 - val_loss: 18.3288 - val_accuracy: 0.0556\n",
      "Epoch 182/512\n",
      "47/47 [==============================] - 32s 691ms/step - loss: 0.0086 - accuracy: 0.9989 - val_loss: 18.3135 - val_accuracy: 0.0575\n",
      "Epoch 183/512\n",
      "47/47 [==============================] - 32s 691ms/step - loss: 0.0080 - accuracy: 0.9990 - val_loss: 18.2746 - val_accuracy: 0.0565\n",
      "Epoch 184/512\n",
      "47/47 [==============================] - 32s 691ms/step - loss: 0.0090 - accuracy: 0.9988 - val_loss: 18.2309 - val_accuracy: 0.0570\n",
      "Epoch 185/512\n",
      "47/47 [==============================] - 32s 690ms/step - loss: 0.0079 - accuracy: 0.9990 - val_loss: 18.2137 - val_accuracy: 0.0550\n",
      "Epoch 186/512\n",
      "47/47 [==============================] - 33s 692ms/step - loss: 0.0084 - accuracy: 0.9991 - val_loss: 18.2218 - val_accuracy: 0.0541\n",
      "Epoch 187/512\n",
      "47/47 [==============================] - 32s 691ms/step - loss: 0.0083 - accuracy: 0.9990 - val_loss: 18.1552 - val_accuracy: 0.0538\n",
      "Epoch 188/512\n",
      "47/47 [==============================] - 32s 691ms/step - loss: 0.0081 - accuracy: 0.9990 - val_loss: 18.1713 - val_accuracy: 0.0526\n",
      "Epoch 189/512\n",
      "47/47 [==============================] - 32s 690ms/step - loss: 0.0097 - accuracy: 0.9989 - val_loss: 18.1484 - val_accuracy: 0.0514\n",
      "Epoch 190/512\n",
      "47/47 [==============================] - 32s 691ms/step - loss: 0.0085 - accuracy: 0.9989 - val_loss: 18.0962 - val_accuracy: 0.0532\n",
      "Epoch 191/512\n",
      "47/47 [==============================] - 32s 691ms/step - loss: 0.0082 - accuracy: 0.9990 - val_loss: 18.0914 - val_accuracy: 0.0497\n",
      "Epoch 192/512\n",
      "47/47 [==============================] - 32s 690ms/step - loss: 0.0092 - accuracy: 0.9988 - val_loss: 18.0569 - val_accuracy: 0.0514\n",
      "Epoch 193/512\n",
      "47/47 [==============================] - 33s 697ms/step - loss: 0.0090 - accuracy: 0.9988 - val_loss: 18.0189 - val_accuracy: 0.0496\n",
      "Epoch 194/512\n",
      "47/47 [==============================] - 33s 696ms/step - loss: 0.0078 - accuracy: 0.9990 - val_loss: 18.0065 - val_accuracy: 0.0483\n",
      "Epoch 195/512\n",
      "47/47 [==============================] - 32s 691ms/step - loss: 0.0080 - accuracy: 0.9990 - val_loss: 17.9714 - val_accuracy: 0.0478\n",
      "Epoch 196/512\n",
      "47/47 [==============================] - 32s 691ms/step - loss: 0.0089 - accuracy: 0.9989 - val_loss: 17.9453 - val_accuracy: 0.0487\n",
      "Epoch 197/512\n",
      "47/47 [==============================] - 32s 691ms/step - loss: 0.0085 - accuracy: 0.9989 - val_loss: 17.9549 - val_accuracy: 0.0489\n",
      "Epoch 198/512\n",
      "47/47 [==============================] - 33s 692ms/step - loss: 0.0073 - accuracy: 0.9990 - val_loss: 17.8852 - val_accuracy: 0.0470\n",
      "Epoch 199/512\n",
      "47/47 [==============================] - 33s 692ms/step - loss: 0.0083 - accuracy: 0.9989 - val_loss: 17.8895 - val_accuracy: 0.0479\n",
      "Epoch 200/512\n",
      "47/47 [==============================] - 33s 692ms/step - loss: 0.0083 - accuracy: 0.9990 - val_loss: 17.8811 - val_accuracy: 0.0507\n",
      "Epoch 201/512\n",
      "47/47 [==============================] - 33s 692ms/step - loss: 0.0085 - accuracy: 0.9989 - val_loss: 17.8370 - val_accuracy: 0.0486\n",
      "Epoch 202/512\n",
      "47/47 [==============================] - 33s 692ms/step - loss: 0.0092 - accuracy: 0.9988 - val_loss: 17.8209 - val_accuracy: 0.0470\n",
      "Epoch 203/512\n",
      "47/47 [==============================] - 32s 691ms/step - loss: 0.0087 - accuracy: 0.9989 - val_loss: 17.7931 - val_accuracy: 0.0481\n",
      "Epoch 204/512\n",
      "47/47 [==============================] - 33s 692ms/step - loss: 0.0076 - accuracy: 0.9990 - val_loss: 17.7895 - val_accuracy: 0.0456\n",
      "Epoch 205/512\n",
      "47/47 [==============================] - 32s 691ms/step - loss: 0.0087 - accuracy: 0.9989 - val_loss: 17.7716 - val_accuracy: 0.0479\n",
      "Epoch 206/512\n",
      "47/47 [==============================] - 33s 692ms/step - loss: 0.0083 - accuracy: 0.9989 - val_loss: 17.7070 - val_accuracy: 0.0470\n",
      "Epoch 207/512\n",
      "47/47 [==============================] - 33s 692ms/step - loss: 0.0085 - accuracy: 0.9990 - val_loss: 17.7129 - val_accuracy: 0.0464\n",
      "Epoch 208/512\n",
      "47/47 [==============================] - 32s 691ms/step - loss: 0.0081 - accuracy: 0.9991 - val_loss: 17.6927 - val_accuracy: 0.0472\n",
      "Epoch 209/512\n",
      "47/47 [==============================] - 32s 691ms/step - loss: 0.0091 - accuracy: 0.9988 - val_loss: 17.6369 - val_accuracy: 0.0455\n",
      "Epoch 210/512\n",
      "47/47 [==============================] - 33s 692ms/step - loss: 0.0079 - accuracy: 0.9989 - val_loss: 17.6235 - val_accuracy: 0.0487\n",
      "Epoch 211/512\n",
      "47/47 [==============================] - 32s 691ms/step - loss: 0.0083 - accuracy: 0.9990 - val_loss: 17.5992 - val_accuracy: 0.0478\n",
      "Epoch 212/512\n",
      "47/47 [==============================] - 32s 691ms/step - loss: 0.0078 - accuracy: 0.9990 - val_loss: 17.5884 - val_accuracy: 0.0470\n",
      "Epoch 213/512\n",
      "47/47 [==============================] - 32s 691ms/step - loss: 0.0082 - accuracy: 0.9990 - val_loss: 17.5451 - val_accuracy: 0.0476\n",
      "Epoch 214/512\n",
      "47/47 [==============================] - 33s 692ms/step - loss: 0.0075 - accuracy: 0.9990 - val_loss: 17.5465 - val_accuracy: 0.0456\n",
      "Epoch 215/512\n",
      "47/47 [==============================] - 32s 691ms/step - loss: 0.0077 - accuracy: 0.9990 - val_loss: 17.5337 - val_accuracy: 0.0487\n",
      "Epoch 216/512\n",
      "47/47 [==============================] - 32s 691ms/step - loss: 0.0079 - accuracy: 0.9990 - val_loss: 17.4845 - val_accuracy: 0.0471\n",
      "Epoch 217/512\n",
      "47/47 [==============================] - 33s 692ms/step - loss: 0.0075 - accuracy: 0.9991 - val_loss: 17.4545 - val_accuracy: 0.0493\n",
      "Epoch 218/512\n",
      "47/47 [==============================] - 33s 692ms/step - loss: 0.0078 - accuracy: 0.9990 - val_loss: 17.4816 - val_accuracy: 0.0476\n",
      "Epoch 219/512\n",
      "47/47 [==============================] - 32s 690ms/step - loss: 0.0077 - accuracy: 0.9990 - val_loss: 17.4213 - val_accuracy: 0.0484\n",
      "Epoch 220/512\n",
      "47/47 [==============================] - 32s 691ms/step - loss: 0.0081 - accuracy: 0.9990 - val_loss: 17.4044 - val_accuracy: 0.0456\n",
      "Epoch 221/512\n",
      "47/47 [==============================] - 32s 690ms/step - loss: 0.0082 - accuracy: 0.9989 - val_loss: 17.3813 - val_accuracy: 0.0479\n",
      "Epoch 222/512\n",
      "47/47 [==============================] - 33s 692ms/step - loss: 0.0076 - accuracy: 0.9990 - val_loss: 17.3787 - val_accuracy: 0.0481\n",
      "Epoch 223/512\n",
      "47/47 [==============================] - 32s 690ms/step - loss: 0.0079 - accuracy: 0.9989 - val_loss: 17.3276 - val_accuracy: 0.0463\n",
      "Epoch 224/512\n",
      "47/47 [==============================] - 32s 691ms/step - loss: 0.0079 - accuracy: 0.9989 - val_loss: 17.3263 - val_accuracy: 0.0457\n"
     ]
    },
    {
     "name": "stdout",
     "output_type": "stream",
     "text": [
      "Epoch 225/512\n",
      "47/47 [==============================] - 32s 691ms/step - loss: 0.0076 - accuracy: 0.9990 - val_loss: 17.3236 - val_accuracy: 0.0447\n",
      "Epoch 226/512\n",
      "47/47 [==============================] - 32s 690ms/step - loss: 0.0072 - accuracy: 0.9991 - val_loss: 17.3088 - val_accuracy: 0.0440\n",
      "Epoch 227/512\n",
      "47/47 [==============================] - 32s 691ms/step - loss: 0.0067 - accuracy: 0.9992 - val_loss: 17.2790 - val_accuracy: 0.0442\n",
      "Epoch 228/512\n",
      "47/47 [==============================] - 32s 691ms/step - loss: 0.0069 - accuracy: 0.9991 - val_loss: 17.2577 - val_accuracy: 0.0431\n",
      "Epoch 229/512\n",
      "47/47 [==============================] - 33s 699ms/step - loss: 0.0083 - accuracy: 0.9990 - val_loss: 17.2406 - val_accuracy: 0.0425\n",
      "Epoch 230/512\n",
      "47/47 [==============================] - 32s 691ms/step - loss: 0.0084 - accuracy: 0.9989 - val_loss: 17.2074 - val_accuracy: 0.0416\n",
      "Epoch 231/512\n",
      "47/47 [==============================] - 32s 690ms/step - loss: 0.0077 - accuracy: 0.9989 - val_loss: 17.1973 - val_accuracy: 0.0440\n",
      "Epoch 232/512\n",
      "47/47 [==============================] - 33s 692ms/step - loss: 0.0074 - accuracy: 0.9990 - val_loss: 17.1576 - val_accuracy: 0.0435\n",
      "Epoch 233/512\n",
      "47/47 [==============================] - 32s 691ms/step - loss: 0.0067 - accuracy: 0.9992 - val_loss: 17.1054 - val_accuracy: 0.0438\n",
      "Epoch 234/512\n",
      "47/47 [==============================] - 32s 691ms/step - loss: 0.0074 - accuracy: 0.9990 - val_loss: 17.0961 - val_accuracy: 0.0426\n",
      "Epoch 235/512\n",
      "47/47 [==============================] - 32s 691ms/step - loss: 0.0079 - accuracy: 0.9989 - val_loss: 17.0833 - val_accuracy: 0.0415\n",
      "Epoch 236/512\n",
      "47/47 [==============================] - 32s 691ms/step - loss: 0.0074 - accuracy: 0.9991 - val_loss: 17.0371 - val_accuracy: 0.0432\n",
      "Epoch 237/512\n",
      "47/47 [==============================] - 32s 691ms/step - loss: 0.0067 - accuracy: 0.9991 - val_loss: 17.0666 - val_accuracy: 0.0423\n",
      "Epoch 238/512\n",
      "47/47 [==============================] - 32s 690ms/step - loss: 0.0071 - accuracy: 0.9991 - val_loss: 17.0476 - val_accuracy: 0.0405\n",
      "Epoch 239/512\n",
      "47/47 [==============================] - 32s 691ms/step - loss: 0.0075 - accuracy: 0.9990 - val_loss: 17.0582 - val_accuracy: 0.0411\n",
      "Epoch 240/512\n",
      "47/47 [==============================] - 32s 690ms/step - loss: 0.0080 - accuracy: 0.9990 - val_loss: 17.0329 - val_accuracy: 0.0392\n",
      "Epoch 241/512\n",
      "47/47 [==============================] - 33s 696ms/step - loss: 0.0071 - accuracy: 0.9990 - val_loss: 16.9887 - val_accuracy: 0.0388\n",
      "Epoch 242/512\n",
      "47/47 [==============================] - 33s 695ms/step - loss: 0.0071 - accuracy: 0.9990 - val_loss: 16.9795 - val_accuracy: 0.0405\n",
      "Epoch 243/512\n",
      "47/47 [==============================] - 32s 691ms/step - loss: 0.0073 - accuracy: 0.9990 - val_loss: 16.9759 - val_accuracy: 0.0400\n",
      "Epoch 244/512\n",
      "47/47 [==============================] - 33s 692ms/step - loss: 0.0071 - accuracy: 0.9990 - val_loss: 16.9384 - val_accuracy: 0.0393\n",
      "Epoch 245/512\n",
      "47/47 [==============================] - 32s 691ms/step - loss: 0.0063 - accuracy: 0.9991 - val_loss: 16.9384 - val_accuracy: 0.0393\n",
      "Epoch 246/512\n",
      "47/47 [==============================] - 32s 691ms/step - loss: 0.0070 - accuracy: 0.9991 - val_loss: 16.9338 - val_accuracy: 0.0392\n",
      "Epoch 247/512\n",
      "47/47 [==============================] - 32s 691ms/step - loss: 0.0075 - accuracy: 0.9990 - val_loss: 16.8906 - val_accuracy: 0.0411\n",
      "Epoch 248/512\n",
      "47/47 [==============================] - 32s 691ms/step - loss: 0.0073 - accuracy: 0.9991 - val_loss: 16.8968 - val_accuracy: 0.0375\n",
      "Epoch 249/512\n",
      "47/47 [==============================] - 32s 691ms/step - loss: 0.0079 - accuracy: 0.9989 - val_loss: 16.8869 - val_accuracy: 0.0393\n",
      "Epoch 250/512\n",
      "47/47 [==============================] - 32s 691ms/step - loss: 0.0076 - accuracy: 0.9990 - val_loss: 16.8608 - val_accuracy: 0.0377\n",
      "Epoch 251/512\n",
      "47/47 [==============================] - 33s 692ms/step - loss: 0.0068 - accuracy: 0.9990 - val_loss: 16.8112 - val_accuracy: 0.0376\n",
      "Epoch 252/512\n",
      "47/47 [==============================] - 32s 691ms/step - loss: 0.0068 - accuracy: 0.9991 - val_loss: 16.8149 - val_accuracy: 0.0375\n",
      "Epoch 253/512\n",
      "47/47 [==============================] - 32s 691ms/step - loss: 0.0073 - accuracy: 0.9990 - val_loss: 16.7749 - val_accuracy: 0.0383\n",
      "Epoch 254/512\n",
      "47/47 [==============================] - 32s 691ms/step - loss: 0.0067 - accuracy: 0.9991 - val_loss: 16.7841 - val_accuracy: 0.0368\n",
      "Epoch 255/512\n",
      "47/47 [==============================] - 32s 690ms/step - loss: 0.0073 - accuracy: 0.9990 - val_loss: 16.7504 - val_accuracy: 0.0350\n",
      "Epoch 256/512\n",
      "47/47 [==============================] - 32s 691ms/step - loss: 0.0066 - accuracy: 0.9990 - val_loss: 16.7141 - val_accuracy: 0.0358\n",
      "Epoch 257/512\n",
      "47/47 [==============================] - 32s 690ms/step - loss: 0.0064 - accuracy: 0.9991 - val_loss: 16.7247 - val_accuracy: 0.0352\n",
      "Epoch 258/512\n",
      "47/47 [==============================] - 32s 690ms/step - loss: 0.0068 - accuracy: 0.9991 - val_loss: 16.6653 - val_accuracy: 0.0363\n",
      "Epoch 259/512\n",
      "47/47 [==============================] - 32s 691ms/step - loss: 0.0071 - accuracy: 0.9991 - val_loss: 16.6947 - val_accuracy: 0.0355\n",
      "Epoch 260/512\n",
      "47/47 [==============================] - 32s 691ms/step - loss: 0.0065 - accuracy: 0.9991 - val_loss: 16.6565 - val_accuracy: 0.0345\n",
      "Epoch 261/512\n",
      "47/47 [==============================] - 32s 691ms/step - loss: 0.0066 - accuracy: 0.9991 - val_loss: 16.6622 - val_accuracy: 0.0357\n",
      "Epoch 262/512\n",
      "47/47 [==============================] - 32s 691ms/step - loss: 0.0065 - accuracy: 0.9992 - val_loss: 16.6550 - val_accuracy: 0.0364\n",
      "Epoch 263/512\n",
      "47/47 [==============================] - 32s 691ms/step - loss: 0.0064 - accuracy: 0.9991 - val_loss: 16.6431 - val_accuracy: 0.0332\n",
      "Epoch 264/512\n",
      "47/47 [==============================] - 32s 691ms/step - loss: 0.0074 - accuracy: 0.9990 - val_loss: 16.6411 - val_accuracy: 0.0333\n",
      "Epoch 265/512\n",
      "47/47 [==============================] - 32s 690ms/step - loss: 0.0066 - accuracy: 0.9991 - val_loss: 16.6195 - val_accuracy: 0.0340\n",
      "Epoch 266/512\n",
      "47/47 [==============================] - 32s 691ms/step - loss: 0.0072 - accuracy: 0.9989 - val_loss: 16.5788 - val_accuracy: 0.0343\n",
      "Epoch 267/512\n",
      "47/47 [==============================] - 32s 691ms/step - loss: 0.0066 - accuracy: 0.9991 - val_loss: 16.5490 - val_accuracy: 0.0327\n",
      "Epoch 268/512\n",
      "47/47 [==============================] - 32s 691ms/step - loss: 0.0070 - accuracy: 0.9991 - val_loss: 16.5404 - val_accuracy: 0.0342\n",
      "Epoch 269/512\n",
      "47/47 [==============================] - 32s 690ms/step - loss: 0.0070 - accuracy: 0.9989 - val_loss: 16.5337 - val_accuracy: 0.0342\n",
      "Epoch 270/512\n",
      "47/47 [==============================] - 32s 691ms/step - loss: 0.0069 - accuracy: 0.9990 - val_loss: 16.5025 - val_accuracy: 0.0365\n",
      "Epoch 271/512\n",
      "47/47 [==============================] - 32s 690ms/step - loss: 0.0063 - accuracy: 0.9991 - val_loss: 16.4744 - val_accuracy: 0.0357\n",
      "Epoch 272/512\n",
      "47/47 [==============================] - 32s 690ms/step - loss: 0.0061 - accuracy: 0.9991 - val_loss: 16.4596 - val_accuracy: 0.0349\n",
      "Epoch 273/512\n",
      "47/47 [==============================] - 32s 690ms/step - loss: 0.0074 - accuracy: 0.9990 - val_loss: 16.4286 - val_accuracy: 0.0343\n",
      "Epoch 274/512\n",
      "47/47 [==============================] - 32s 690ms/step - loss: 0.0065 - accuracy: 0.9991 - val_loss: 16.4221 - val_accuracy: 0.0344\n",
      "Epoch 275/512\n",
      "47/47 [==============================] - 32s 691ms/step - loss: 0.0069 - accuracy: 0.9991 - val_loss: 16.4059 - val_accuracy: 0.0334\n",
      "Epoch 276/512\n",
      "47/47 [==============================] - 32s 691ms/step - loss: 0.0069 - accuracy: 0.9990 - val_loss: 16.3765 - val_accuracy: 0.0348\n",
      "Epoch 277/512\n",
      "47/47 [==============================] - 32s 690ms/step - loss: 0.0069 - accuracy: 0.9990 - val_loss: 16.4031 - val_accuracy: 0.0340\n",
      "Epoch 278/512\n",
      "47/47 [==============================] - 32s 691ms/step - loss: 0.0071 - accuracy: 0.9989 - val_loss: 16.3993 - val_accuracy: 0.0352\n",
      "Epoch 279/512\n",
      "47/47 [==============================] - 32s 691ms/step - loss: 0.0071 - accuracy: 0.9990 - val_loss: 16.3553 - val_accuracy: 0.0322\n",
      "Epoch 280/512\n",
      "47/47 [==============================] - 32s 691ms/step - loss: 0.0065 - accuracy: 0.9991 - val_loss: 16.3664 - val_accuracy: 0.0331\n"
     ]
    },
    {
     "name": "stdout",
     "output_type": "stream",
     "text": [
      "Epoch 281/512\n",
      "47/47 [==============================] - 32s 691ms/step - loss: 0.0066 - accuracy: 0.9990 - val_loss: 16.3490 - val_accuracy: 0.0330\n",
      "Epoch 282/512\n",
      "47/47 [==============================] - 32s 690ms/step - loss: 0.0063 - accuracy: 0.9992 - val_loss: 16.3275 - val_accuracy: 0.0336\n",
      "Epoch 283/512\n",
      "47/47 [==============================] - 32s 691ms/step - loss: 0.0072 - accuracy: 0.9990 - val_loss: 16.3177 - val_accuracy: 0.0331\n",
      "Epoch 284/512\n",
      "47/47 [==============================] - 32s 690ms/step - loss: 0.0079 - accuracy: 0.9989 - val_loss: 16.2892 - val_accuracy: 0.0302\n",
      "Epoch 285/512\n",
      "47/47 [==============================] - 32s 690ms/step - loss: 0.0066 - accuracy: 0.9991 - val_loss: 16.2847 - val_accuracy: 0.0286\n",
      "Epoch 286/512\n",
      "47/47 [==============================] - 32s 691ms/step - loss: 0.0064 - accuracy: 0.9991 - val_loss: 16.2870 - val_accuracy: 0.0300\n",
      "Epoch 287/512\n",
      "47/47 [==============================] - 32s 691ms/step - loss: 0.0068 - accuracy: 0.9989 - val_loss: 16.2550 - val_accuracy: 0.0293\n",
      "Epoch 288/512\n",
      "47/47 [==============================] - 32s 690ms/step - loss: 0.0070 - accuracy: 0.9991 - val_loss: 16.2037 - val_accuracy: 0.0299\n",
      "Epoch 289/512\n",
      "47/47 [==============================] - 33s 695ms/step - loss: 0.0070 - accuracy: 0.9991 - val_loss: 16.2338 - val_accuracy: 0.0301\n",
      "Epoch 290/512\n",
      "47/47 [==============================] - 33s 694ms/step - loss: 0.0069 - accuracy: 0.9990 - val_loss: 16.1823 - val_accuracy: 0.0316\n",
      "Epoch 291/512\n",
      "47/47 [==============================] - 32s 691ms/step - loss: 0.0068 - accuracy: 0.9990 - val_loss: 16.1501 - val_accuracy: 0.0314\n",
      "Epoch 292/512\n",
      "47/47 [==============================] - 32s 690ms/step - loss: 0.0070 - accuracy: 0.9990 - val_loss: 16.1442 - val_accuracy: 0.0285\n",
      "Epoch 293/512\n",
      "47/47 [==============================] - 32s 691ms/step - loss: 0.0068 - accuracy: 0.9990 - val_loss: 16.1417 - val_accuracy: 0.0289\n",
      "Epoch 294/512\n",
      "47/47 [==============================] - 32s 690ms/step - loss: 0.0068 - accuracy: 0.9990 - val_loss: 16.1394 - val_accuracy: 0.0300\n",
      "Epoch 295/512\n",
      "47/47 [==============================] - 32s 690ms/step - loss: 0.0063 - accuracy: 0.9992 - val_loss: 16.0942 - val_accuracy: 0.0292\n",
      "Epoch 296/512\n",
      "47/47 [==============================] - 32s 690ms/step - loss: 0.0058 - accuracy: 0.9991 - val_loss: 16.1106 - val_accuracy: 0.0294\n",
      "Epoch 297/512\n",
      "47/47 [==============================] - 32s 690ms/step - loss: 0.0055 - accuracy: 0.9991 - val_loss: 16.1091 - val_accuracy: 0.0292\n",
      "Epoch 298/512\n",
      "47/47 [==============================] - 32s 691ms/step - loss: 0.0063 - accuracy: 0.9991 - val_loss: 16.0732 - val_accuracy: 0.0301\n",
      "Epoch 299/512\n",
      "47/47 [==============================] - 32s 691ms/step - loss: 0.0066 - accuracy: 0.9991 - val_loss: 16.0794 - val_accuracy: 0.0298\n",
      "Epoch 300/512\n",
      "47/47 [==============================] - 32s 691ms/step - loss: 0.0060 - accuracy: 0.9991 - val_loss: 16.0482 - val_accuracy: 0.0305\n",
      "Epoch 301/512\n",
      "47/47 [==============================] - 32s 691ms/step - loss: 0.0067 - accuracy: 0.9992 - val_loss: 16.0600 - val_accuracy: 0.0294\n",
      "Epoch 302/512\n",
      "47/47 [==============================] - 32s 691ms/step - loss: 0.0055 - accuracy: 0.9992 - val_loss: 16.0203 - val_accuracy: 0.0294\n",
      "Epoch 303/512\n",
      "47/47 [==============================] - 32s 690ms/step - loss: 0.0065 - accuracy: 0.9991 - val_loss: 16.0111 - val_accuracy: 0.0289\n",
      "Epoch 304/512\n",
      "47/47 [==============================] - 32s 691ms/step - loss: 0.0065 - accuracy: 0.9991 - val_loss: 16.0161 - val_accuracy: 0.0288\n",
      "Epoch 305/512\n",
      "47/47 [==============================] - 32s 691ms/step - loss: 0.0070 - accuracy: 0.9990 - val_loss: 16.0067 - val_accuracy: 0.0304\n",
      "Epoch 306/512\n",
      "47/47 [==============================] - 32s 690ms/step - loss: 0.0060 - accuracy: 0.9991 - val_loss: 15.9638 - val_accuracy: 0.0294\n",
      "Epoch 307/512\n",
      "47/47 [==============================] - 32s 690ms/step - loss: 0.0056 - accuracy: 0.9992 - val_loss: 15.9852 - val_accuracy: 0.0296\n",
      "Epoch 308/512\n",
      "47/47 [==============================] - 32s 690ms/step - loss: 0.0057 - accuracy: 0.9992 - val_loss: 15.9667 - val_accuracy: 0.0298\n",
      "Epoch 309/512\n",
      "47/47 [==============================] - 32s 690ms/step - loss: 0.0062 - accuracy: 0.9991 - val_loss: 15.9220 - val_accuracy: 0.0284\n",
      "Epoch 310/512\n",
      "47/47 [==============================] - 33s 692ms/step - loss: 0.0056 - accuracy: 0.9991 - val_loss: 15.9130 - val_accuracy: 0.0288\n",
      "Epoch 311/512\n",
      "47/47 [==============================] - 32s 691ms/step - loss: 0.0062 - accuracy: 0.9991 - val_loss: 15.9104 - val_accuracy: 0.0289\n",
      "Epoch 312/512\n",
      "47/47 [==============================] - 32s 690ms/step - loss: 0.0068 - accuracy: 0.9991 - val_loss: 15.8767 - val_accuracy: 0.0299\n",
      "Epoch 313/512\n",
      "47/47 [==============================] - 32s 691ms/step - loss: 0.0067 - accuracy: 0.9990 - val_loss: 15.8694 - val_accuracy: 0.0309\n",
      "Epoch 314/512\n",
      "47/47 [==============================] - 33s 692ms/step - loss: 0.0067 - accuracy: 0.9991 - val_loss: 15.8320 - val_accuracy: 0.0280\n",
      "Epoch 315/512\n",
      "47/47 [==============================] - 32s 690ms/step - loss: 0.0059 - accuracy: 0.9992 - val_loss: 15.8439 - val_accuracy: 0.0285\n",
      "Epoch 316/512\n",
      "47/47 [==============================] - 32s 690ms/step - loss: 0.0064 - accuracy: 0.9991 - val_loss: 15.8419 - val_accuracy: 0.0273\n",
      "Epoch 317/512\n",
      "47/47 [==============================] - 32s 690ms/step - loss: 0.0066 - accuracy: 0.9990 - val_loss: 15.8537 - val_accuracy: 0.0285\n",
      "Epoch 318/512\n",
      "47/47 [==============================] - 32s 691ms/step - loss: 0.0065 - accuracy: 0.9991 - val_loss: 15.8279 - val_accuracy: 0.0272\n",
      "Epoch 319/512\n",
      "47/47 [==============================] - 32s 691ms/step - loss: 0.0066 - accuracy: 0.9990 - val_loss: 15.8024 - val_accuracy: 0.0278\n",
      "Epoch 320/512\n",
      "47/47 [==============================] - 32s 691ms/step - loss: 0.0053 - accuracy: 0.9992 - val_loss: 15.7950 - val_accuracy: 0.0273\n",
      "Epoch 321/512\n",
      "47/47 [==============================] - 32s 691ms/step - loss: 0.0064 - accuracy: 0.9991 - val_loss: 15.7635 - val_accuracy: 0.0274\n",
      "Epoch 322/512\n",
      "47/47 [==============================] - 32s 691ms/step - loss: 0.0066 - accuracy: 0.9991 - val_loss: 15.7626 - val_accuracy: 0.0272\n",
      "Epoch 323/512\n",
      "47/47 [==============================] - 32s 690ms/step - loss: 0.0069 - accuracy: 0.9990 - val_loss: 15.7655 - val_accuracy: 0.0279\n",
      "Epoch 324/512\n",
      "47/47 [==============================] - 32s 691ms/step - loss: 0.0060 - accuracy: 0.9991 - val_loss: 15.7477 - val_accuracy: 0.0269\n",
      "Epoch 325/512\n",
      "47/47 [==============================] - 32s 691ms/step - loss: 0.0058 - accuracy: 0.9992 - val_loss: 15.7258 - val_accuracy: 0.0265\n",
      "Epoch 326/512\n",
      "47/47 [==============================] - 32s 690ms/step - loss: 0.0061 - accuracy: 0.9991 - val_loss: 15.7517 - val_accuracy: 0.0280\n",
      "Epoch 327/512\n",
      "47/47 [==============================] - 32s 690ms/step - loss: 0.0056 - accuracy: 0.9991 - val_loss: 15.7238 - val_accuracy: 0.0279\n",
      "Epoch 328/512\n",
      "47/47 [==============================] - 32s 691ms/step - loss: 0.0064 - accuracy: 0.9991 - val_loss: 15.7314 - val_accuracy: 0.0279\n",
      "Epoch 329/512\n",
      "47/47 [==============================] - 32s 691ms/step - loss: 0.0053 - accuracy: 0.9992 - val_loss: 15.7242 - val_accuracy: 0.0293\n",
      "Epoch 330/512\n",
      "47/47 [==============================] - 32s 690ms/step - loss: 0.0066 - accuracy: 0.9991 - val_loss: 15.7369 - val_accuracy: 0.0278\n",
      "Epoch 331/512\n",
      "47/47 [==============================] - 32s 690ms/step - loss: 0.0058 - accuracy: 0.9991 - val_loss: 15.7045 - val_accuracy: 0.0274\n",
      "Epoch 332/512\n",
      "47/47 [==============================] - 32s 691ms/step - loss: 0.0065 - accuracy: 0.9991 - val_loss: 15.6733 - val_accuracy: 0.0271\n",
      "Epoch 333/512\n",
      "47/47 [==============================] - 32s 690ms/step - loss: 0.0066 - accuracy: 0.9990 - val_loss: 15.6763 - val_accuracy: 0.0271\n",
      "Epoch 334/512\n",
      "47/47 [==============================] - 32s 691ms/step - loss: 0.0064 - accuracy: 0.9991 - val_loss: 15.6715 - val_accuracy: 0.0262\n",
      "Epoch 335/512\n",
      "47/47 [==============================] - 32s 689ms/step - loss: 0.0062 - accuracy: 0.9991 - val_loss: 15.6596 - val_accuracy: 0.0250\n",
      "Epoch 336/512\n",
      "47/47 [==============================] - 32s 691ms/step - loss: 0.0057 - accuracy: 0.9992 - val_loss: 15.6333 - val_accuracy: 0.0250\n"
     ]
    },
    {
     "name": "stdout",
     "output_type": "stream",
     "text": [
      "Epoch 337/512\n",
      "47/47 [==============================] - 33s 697ms/step - loss: 0.0055 - accuracy: 0.9992 - val_loss: 15.6192 - val_accuracy: 0.0254\n",
      "Epoch 338/512\n",
      "47/47 [==============================] - 33s 696ms/step - loss: 0.0064 - accuracy: 0.9991 - val_loss: 15.6188 - val_accuracy: 0.0249\n",
      "Epoch 339/512\n",
      "47/47 [==============================] - 32s 689ms/step - loss: 0.0068 - accuracy: 0.9990 - val_loss: 15.5901 - val_accuracy: 0.0257\n",
      "Epoch 340/512\n",
      "47/47 [==============================] - 32s 691ms/step - loss: 0.0064 - accuracy: 0.9990 - val_loss: 15.5491 - val_accuracy: 0.0245\n",
      "Epoch 341/512\n",
      "47/47 [==============================] - 32s 690ms/step - loss: 0.0065 - accuracy: 0.9990 - val_loss: 15.5798 - val_accuracy: 0.0250\n",
      "Epoch 342/512\n",
      "47/47 [==============================] - 32s 691ms/step - loss: 0.0054 - accuracy: 0.9991 - val_loss: 15.5686 - val_accuracy: 0.0244\n",
      "Epoch 343/512\n",
      "47/47 [==============================] - 32s 691ms/step - loss: 0.0065 - accuracy: 0.9991 - val_loss: 15.5619 - val_accuracy: 0.0220\n",
      "Epoch 344/512\n",
      "47/47 [==============================] - 32s 691ms/step - loss: 0.0067 - accuracy: 0.9990 - val_loss: 15.5385 - val_accuracy: 0.0219\n",
      "Epoch 345/512\n",
      "47/47 [==============================] - 32s 691ms/step - loss: 0.0063 - accuracy: 0.9991 - val_loss: 15.5860 - val_accuracy: 0.0175\n",
      "Epoch 346/512\n",
      "47/47 [==============================] - 32s 691ms/step - loss: 0.0061 - accuracy: 0.9990 - val_loss: 15.5606 - val_accuracy: 0.0212\n",
      "Epoch 347/512\n",
      "47/47 [==============================] - 32s 691ms/step - loss: 0.0063 - accuracy: 0.9990 - val_loss: 15.5464 - val_accuracy: 0.0211\n",
      "Epoch 348/512\n",
      "47/47 [==============================] - 33s 697ms/step - loss: 0.0060 - accuracy: 0.9992 - val_loss: 15.5275 - val_accuracy: 0.0174\n",
      "Epoch 349/512\n",
      "47/47 [==============================] - 32s 690ms/step - loss: 0.0059 - accuracy: 0.9991 - val_loss: 15.5514 - val_accuracy: 0.0173\n",
      "Epoch 350/512\n",
      "47/47 [==============================] - 32s 691ms/step - loss: 0.0057 - accuracy: 0.9991 - val_loss: 15.4986 - val_accuracy: 0.0170\n",
      "Epoch 351/512\n",
      "47/47 [==============================] - 33s 692ms/step - loss: 0.0067 - accuracy: 0.9991 - val_loss: 15.5033 - val_accuracy: 0.0173\n",
      "Epoch 352/512\n",
      "47/47 [==============================] - 32s 691ms/step - loss: 0.0055 - accuracy: 0.9992 - val_loss: 15.4545 - val_accuracy: 0.0174\n",
      "Epoch 353/512\n",
      "47/47 [==============================] - 32s 691ms/step - loss: 0.0057 - accuracy: 0.9991 - val_loss: 15.4798 - val_accuracy: 0.0164\n",
      "Epoch 354/512\n",
      "47/47 [==============================] - 32s 690ms/step - loss: 0.0054 - accuracy: 0.9992 - val_loss: 15.4359 - val_accuracy: 0.0169\n",
      "Epoch 355/512\n",
      "47/47 [==============================] - 32s 691ms/step - loss: 0.0059 - accuracy: 0.9992 - val_loss: 15.4768 - val_accuracy: 0.0169\n",
      "Epoch 356/512\n",
      "47/47 [==============================] - 32s 691ms/step - loss: 0.0061 - accuracy: 0.9991 - val_loss: 15.4350 - val_accuracy: 0.0167\n",
      "Epoch 357/512\n",
      "47/47 [==============================] - 33s 692ms/step - loss: 0.0061 - accuracy: 0.9991 - val_loss: 15.4676 - val_accuracy: 0.0174\n",
      "Epoch 358/512\n",
      "47/47 [==============================] - 32s 691ms/step - loss: 0.0065 - accuracy: 0.9990 - val_loss: 15.4393 - val_accuracy: 0.0168\n",
      "Epoch 359/512\n",
      "47/47 [==============================] - 32s 691ms/step - loss: 0.0062 - accuracy: 0.9991 - val_loss: 15.4165 - val_accuracy: 0.0172\n",
      "Epoch 360/512\n",
      "47/47 [==============================] - 32s 691ms/step - loss: 0.0053 - accuracy: 0.9992 - val_loss: 15.4057 - val_accuracy: 0.0176\n",
      "Epoch 361/512\n",
      "47/47 [==============================] - 32s 690ms/step - loss: 0.0055 - accuracy: 0.9992 - val_loss: 15.3892 - val_accuracy: 0.0177\n",
      "Epoch 362/512\n",
      "47/47 [==============================] - 33s 692ms/step - loss: 0.0061 - accuracy: 0.9992 - val_loss: 15.4000 - val_accuracy: 0.0170\n",
      "Epoch 363/512\n",
      "47/47 [==============================] - 32s 691ms/step - loss: 0.0064 - accuracy: 0.9990 - val_loss: 15.3729 - val_accuracy: 0.0179\n",
      "Epoch 364/512\n",
      "47/47 [==============================] - 32s 691ms/step - loss: 0.0052 - accuracy: 0.9993 - val_loss: 15.3958 - val_accuracy: 0.0172\n",
      "Epoch 365/512\n",
      "47/47 [==============================] - 33s 692ms/step - loss: 0.0057 - accuracy: 0.9991 - val_loss: 15.3642 - val_accuracy: 0.0176\n",
      "Epoch 366/512\n",
      "47/47 [==============================] - 32s 691ms/step - loss: 0.0059 - accuracy: 0.9991 - val_loss: 15.3561 - val_accuracy: 0.0167\n",
      "Epoch 367/512\n",
      "47/47 [==============================] - 33s 692ms/step - loss: 0.0049 - accuracy: 0.9993 - val_loss: 15.3658 - val_accuracy: 0.0172\n",
      "Epoch 368/512\n",
      "47/47 [==============================] - 33s 692ms/step - loss: 0.0054 - accuracy: 0.9993 - val_loss: 15.3276 - val_accuracy: 0.0174\n",
      "Epoch 369/512\n",
      "47/47 [==============================] - 33s 692ms/step - loss: 0.0058 - accuracy: 0.9992 - val_loss: 15.3388 - val_accuracy: 0.0175\n",
      "Epoch 370/512\n",
      "47/47 [==============================] - 32s 691ms/step - loss: 0.0061 - accuracy: 0.9990 - val_loss: 15.2972 - val_accuracy: 0.0166\n",
      "Epoch 371/512\n",
      "47/47 [==============================] - 32s 691ms/step - loss: 0.0058 - accuracy: 0.9991 - val_loss: 15.3123 - val_accuracy: 0.0173\n",
      "Epoch 372/512\n",
      "47/47 [==============================] - 33s 692ms/step - loss: 0.0064 - accuracy: 0.9991 - val_loss: 15.3086 - val_accuracy: 0.0179\n",
      "Epoch 373/512\n",
      "47/47 [==============================] - 32s 691ms/step - loss: 0.0059 - accuracy: 0.9991 - val_loss: 15.2624 - val_accuracy: 0.0176\n",
      "Epoch 374/512\n",
      "47/47 [==============================] - 32s 691ms/step - loss: 0.0061 - accuracy: 0.9992 - val_loss: 15.2754 - val_accuracy: 0.0169\n",
      "Epoch 375/512\n",
      "47/47 [==============================] - 32s 691ms/step - loss: 0.0055 - accuracy: 0.9992 - val_loss: 15.2418 - val_accuracy: 0.0164\n",
      "Epoch 376/512\n",
      "47/47 [==============================] - 32s 690ms/step - loss: 0.0054 - accuracy: 0.9992 - val_loss: 15.2592 - val_accuracy: 0.0169\n",
      "Epoch 377/512\n",
      "47/47 [==============================] - 32s 691ms/step - loss: 0.0056 - accuracy: 0.9991 - val_loss: 15.2448 - val_accuracy: 0.0166\n",
      "Epoch 378/512\n",
      "47/47 [==============================] - 32s 691ms/step - loss: 0.0051 - accuracy: 0.9992 - val_loss: 15.2260 - val_accuracy: 0.0165\n",
      "Epoch 379/512\n",
      "47/47 [==============================] - 33s 692ms/step - loss: 0.0056 - accuracy: 0.9991 - val_loss: 15.1981 - val_accuracy: 0.0168\n",
      "Epoch 380/512\n",
      "47/47 [==============================] - 33s 692ms/step - loss: 0.0058 - accuracy: 0.9992 - val_loss: 15.2248 - val_accuracy: 0.0165\n",
      "Epoch 381/512\n",
      "47/47 [==============================] - 33s 692ms/step - loss: 0.0050 - accuracy: 0.9993 - val_loss: 15.2214 - val_accuracy: 0.0166\n",
      "Epoch 382/512\n",
      "47/47 [==============================] - 32s 691ms/step - loss: 0.0055 - accuracy: 0.9992 - val_loss: 15.1944 - val_accuracy: 0.0170\n",
      "Epoch 383/512\n",
      "47/47 [==============================] - 32s 691ms/step - loss: 0.0054 - accuracy: 0.9991 - val_loss: 15.1524 - val_accuracy: 0.0166\n",
      "Epoch 384/512\n",
      "47/47 [==============================] - 32s 691ms/step - loss: 0.0070 - accuracy: 0.9990 - val_loss: 15.1593 - val_accuracy: 0.0162\n",
      "Epoch 385/512\n",
      "47/47 [==============================] - 33s 696ms/step - loss: 0.0057 - accuracy: 0.9991 - val_loss: 15.1677 - val_accuracy: 0.0162\n",
      "Epoch 386/512\n",
      "47/47 [==============================] - 33s 696ms/step - loss: 0.0055 - accuracy: 0.9992 - val_loss: 15.1588 - val_accuracy: 0.0170\n",
      "Epoch 387/512\n",
      "47/47 [==============================] - 32s 691ms/step - loss: 0.0048 - accuracy: 0.9993 - val_loss: 15.1614 - val_accuracy: 0.0161\n",
      "Epoch 388/512\n",
      "47/47 [==============================] - 33s 693ms/step - loss: 0.0060 - accuracy: 0.9991 - val_loss: 15.1271 - val_accuracy: 0.0161\n",
      "Epoch 389/512\n",
      "47/47 [==============================] - 33s 692ms/step - loss: 0.0058 - accuracy: 0.9992 - val_loss: 15.1472 - val_accuracy: 0.0164\n",
      "Epoch 390/512\n",
      "47/47 [==============================] - 33s 692ms/step - loss: 0.0059 - accuracy: 0.9991 - val_loss: 15.1338 - val_accuracy: 0.0161\n",
      "Epoch 391/512\n",
      "47/47 [==============================] - 32s 691ms/step - loss: 0.0055 - accuracy: 0.9992 - val_loss: 15.1186 - val_accuracy: 0.0159\n",
      "Epoch 392/512\n",
      "47/47 [==============================] - 33s 692ms/step - loss: 0.0053 - accuracy: 0.9991 - val_loss: 15.1137 - val_accuracy: 0.0166\n"
     ]
    },
    {
     "name": "stdout",
     "output_type": "stream",
     "text": [
      "Epoch 393/512\n",
      "47/47 [==============================] - 32s 691ms/step - loss: 0.0052 - accuracy: 0.9993 - val_loss: 15.1493 - val_accuracy: 0.0170\n",
      "Epoch 394/512\n",
      "47/47 [==============================] - 32s 691ms/step - loss: 0.0055 - accuracy: 0.9992 - val_loss: 15.1004 - val_accuracy: 0.0163\n",
      "Epoch 395/512\n",
      "47/47 [==============================] - 32s 691ms/step - loss: 0.0055 - accuracy: 0.9992 - val_loss: 15.1409 - val_accuracy: 0.0161\n",
      "Epoch 396/512\n",
      "47/47 [==============================] - 33s 693ms/step - loss: 0.0054 - accuracy: 0.9992 - val_loss: 15.1251 - val_accuracy: 0.0171\n",
      "Epoch 397/512\n",
      "47/47 [==============================] - 32s 691ms/step - loss: 0.0059 - accuracy: 0.9991 - val_loss: 15.1277 - val_accuracy: 0.0168\n",
      "Epoch 398/512\n",
      "47/47 [==============================] - 32s 690ms/step - loss: 0.0054 - accuracy: 0.9992 - val_loss: 15.1363 - val_accuracy: 0.0174\n",
      "Epoch 399/512\n",
      "47/47 [==============================] - 32s 690ms/step - loss: 0.0052 - accuracy: 0.9992 - val_loss: 15.1214 - val_accuracy: 0.0172\n",
      "Epoch 400/512\n",
      "47/47 [==============================] - 32s 691ms/step - loss: 0.0062 - accuracy: 0.9991 - val_loss: 15.1063 - val_accuracy: 0.0164\n",
      "Epoch 401/512\n",
      "47/47 [==============================] - 32s 691ms/step - loss: 0.0060 - accuracy: 0.9992 - val_loss: 15.0655 - val_accuracy: 0.0162\n",
      "Epoch 402/512\n",
      "47/47 [==============================] - 33s 692ms/step - loss: 0.0057 - accuracy: 0.9992 - val_loss: 15.0605 - val_accuracy: 0.0164\n",
      "Epoch 403/512\n",
      "47/47 [==============================] - 32s 691ms/step - loss: 0.0059 - accuracy: 0.9992 - val_loss: 15.0617 - val_accuracy: 0.0153\n",
      "Epoch 404/512\n",
      "47/47 [==============================] - 33s 692ms/step - loss: 0.0063 - accuracy: 0.9990 - val_loss: 14.9920 - val_accuracy: 0.0177\n",
      "Epoch 405/512\n",
      "47/47 [==============================] - 33s 692ms/step - loss: 0.0055 - accuracy: 0.9991 - val_loss: 15.0083 - val_accuracy: 0.0171\n",
      "Epoch 406/512\n",
      "47/47 [==============================] - 32s 691ms/step - loss: 0.0056 - accuracy: 0.9991 - val_loss: 14.9875 - val_accuracy: 0.0173\n",
      "Epoch 407/512\n",
      "47/47 [==============================] - 32s 690ms/step - loss: 0.0052 - accuracy: 0.9992 - val_loss: 14.9930 - val_accuracy: 0.0174\n",
      "Epoch 408/512\n",
      "47/47 [==============================] - 32s 691ms/step - loss: 0.0052 - accuracy: 0.9992 - val_loss: 15.0076 - val_accuracy: 0.0165\n",
      "Epoch 409/512\n",
      "47/47 [==============================] - 32s 691ms/step - loss: 0.0064 - accuracy: 0.9990 - val_loss: 14.9814 - val_accuracy: 0.0170\n",
      "Epoch 410/512\n",
      "47/47 [==============================] - 32s 691ms/step - loss: 0.0052 - accuracy: 0.9991 - val_loss: 15.0197 - val_accuracy: 0.0176\n",
      "Epoch 411/512\n",
      "47/47 [==============================] - 32s 691ms/step - loss: 0.0056 - accuracy: 0.9992 - val_loss: 14.9852 - val_accuracy: 0.0167\n",
      "Epoch 412/512\n",
      "47/47 [==============================] - 32s 691ms/step - loss: 0.0053 - accuracy: 0.9992 - val_loss: 14.9757 - val_accuracy: 0.0172\n",
      "Epoch 413/512\n",
      "47/47 [==============================] - 32s 690ms/step - loss: 0.0055 - accuracy: 0.9991 - val_loss: 14.9782 - val_accuracy: 0.0171\n",
      "Epoch 414/512\n",
      "47/47 [==============================] - 32s 690ms/step - loss: 0.0061 - accuracy: 0.9991 - val_loss: 14.9937 - val_accuracy: 0.0178\n",
      "Epoch 415/512\n",
      "47/47 [==============================] - 32s 690ms/step - loss: 0.0060 - accuracy: 0.9991 - val_loss: 14.9606 - val_accuracy: 0.0178\n",
      "Epoch 416/512\n",
      "47/47 [==============================] - 32s 691ms/step - loss: 0.0056 - accuracy: 0.9991 - val_loss: 14.9729 - val_accuracy: 0.0175\n",
      "Epoch 417/512\n",
      "47/47 [==============================] - 32s 690ms/step - loss: 0.0060 - accuracy: 0.9992 - val_loss: 14.9663 - val_accuracy: 0.0175\n",
      "Epoch 418/512\n",
      "47/47 [==============================] - 32s 691ms/step - loss: 0.0068 - accuracy: 0.9990 - val_loss: 14.9543 - val_accuracy: 0.0179\n",
      "Epoch 419/512\n",
      "47/47 [==============================] - 32s 690ms/step - loss: 0.0057 - accuracy: 0.9990 - val_loss: 14.9520 - val_accuracy: 0.0173\n",
      "Epoch 420/512\n",
      "47/47 [==============================] - 33s 693ms/step - loss: 0.0060 - accuracy: 0.9991 - val_loss: 14.9492 - val_accuracy: 0.0188\n",
      "Epoch 421/512\n",
      "47/47 [==============================] - 32s 691ms/step - loss: 0.0062 - accuracy: 0.9991 - val_loss: 14.9157 - val_accuracy: 0.0170\n",
      "Epoch 422/512\n",
      "47/47 [==============================] - 32s 691ms/step - loss: 0.0056 - accuracy: 0.9992 - val_loss: 14.9101 - val_accuracy: 0.0171\n",
      "Epoch 423/512\n",
      "47/47 [==============================] - 32s 690ms/step - loss: 0.0064 - accuracy: 0.9990 - val_loss: 14.9204 - val_accuracy: 0.0173\n",
      "Epoch 424/512\n",
      "47/47 [==============================] - 32s 691ms/step - loss: 0.0060 - accuracy: 0.9991 - val_loss: 14.8839 - val_accuracy: 0.0177\n",
      "Epoch 425/512\n",
      "47/47 [==============================] - 32s 691ms/step - loss: 0.0063 - accuracy: 0.9992 - val_loss: 14.8909 - val_accuracy: 0.0177\n",
      "Epoch 426/512\n",
      "47/47 [==============================] - 33s 692ms/step - loss: 0.0049 - accuracy: 0.9993 - val_loss: 14.8976 - val_accuracy: 0.0173\n",
      "Epoch 427/512\n",
      "47/47 [==============================] - 32s 691ms/step - loss: 0.0051 - accuracy: 0.9992 - val_loss: 14.8904 - val_accuracy: 0.0180\n",
      "Epoch 428/512\n",
      "47/47 [==============================] - 32s 691ms/step - loss: 0.0049 - accuracy: 0.9992 - val_loss: 14.8655 - val_accuracy: 0.0175\n",
      "Epoch 429/512\n",
      "47/47 [==============================] - 32s 691ms/step - loss: 0.0055 - accuracy: 0.9992 - val_loss: 14.8780 - val_accuracy: 0.0172\n",
      "Epoch 430/512\n",
      "47/47 [==============================] - 32s 691ms/step - loss: 0.0053 - accuracy: 0.9992 - val_loss: 14.8374 - val_accuracy: 0.0170\n",
      "Epoch 431/512\n",
      "47/47 [==============================] - 32s 691ms/step - loss: 0.0059 - accuracy: 0.9991 - val_loss: 14.8468 - val_accuracy: 0.0170\n",
      "Epoch 432/512\n",
      "47/47 [==============================] - 33s 692ms/step - loss: 0.0049 - accuracy: 0.9992 - val_loss: 14.8439 - val_accuracy: 0.0166\n",
      "Epoch 433/512\n",
      "47/47 [==============================] - 33s 695ms/step - loss: 0.0055 - accuracy: 0.9992 - val_loss: 14.8515 - val_accuracy: 0.0162\n",
      "Epoch 434/512\n",
      "47/47 [==============================] - 33s 696ms/step - loss: 0.0051 - accuracy: 0.9992 - val_loss: 14.8290 - val_accuracy: 0.0169\n",
      "Epoch 435/512\n",
      "47/47 [==============================] - 33s 692ms/step - loss: 0.0055 - accuracy: 0.9991 - val_loss: 14.8521 - val_accuracy: 0.0165\n",
      "Epoch 436/512\n",
      "47/47 [==============================] - 32s 691ms/step - loss: 0.0054 - accuracy: 0.9992 - val_loss: 14.8190 - val_accuracy: 0.0160\n",
      "Epoch 437/512\n",
      "47/47 [==============================] - 32s 691ms/step - loss: 0.0056 - accuracy: 0.9991 - val_loss: 14.8065 - val_accuracy: 0.0163\n",
      "Epoch 438/512\n",
      "47/47 [==============================] - 32s 691ms/step - loss: 0.0051 - accuracy: 0.9992 - val_loss: 14.8099 - val_accuracy: 0.0168\n",
      "Epoch 439/512\n",
      "47/47 [==============================] - 33s 692ms/step - loss: 0.0049 - accuracy: 0.9992 - val_loss: 14.8241 - val_accuracy: 0.0161\n",
      "Epoch 440/512\n",
      "47/47 [==============================] - 32s 691ms/step - loss: 0.0056 - accuracy: 0.9991 - val_loss: 14.8386 - val_accuracy: 0.0167\n",
      "Epoch 441/512\n",
      "47/47 [==============================] - 32s 691ms/step - loss: 0.0043 - accuracy: 0.9993 - val_loss: 14.8095 - val_accuracy: 0.0161\n",
      "Epoch 442/512\n",
      "47/47 [==============================] - 32s 691ms/step - loss: 0.0051 - accuracy: 0.9993 - val_loss: 14.8195 - val_accuracy: 0.0161\n",
      "Epoch 443/512\n",
      "47/47 [==============================] - 32s 691ms/step - loss: 0.0050 - accuracy: 0.9992 - val_loss: 14.8078 - val_accuracy: 0.0155\n",
      "Epoch 444/512\n",
      "47/47 [==============================] - 32s 691ms/step - loss: 0.0052 - accuracy: 0.9992 - val_loss: 14.7838 - val_accuracy: 0.0161\n",
      "Epoch 445/512\n",
      "47/47 [==============================] - 33s 692ms/step - loss: 0.0043 - accuracy: 0.9994 - val_loss: 14.7805 - val_accuracy: 0.0165\n",
      "Epoch 446/512\n",
      "47/47 [==============================] - 32s 691ms/step - loss: 0.0050 - accuracy: 0.9993 - val_loss: 14.7717 - val_accuracy: 0.0164\n",
      "Epoch 447/512\n",
      "47/47 [==============================] - 33s 692ms/step - loss: 0.0056 - accuracy: 0.9993 - val_loss: 14.7876 - val_accuracy: 0.0165\n",
      "Epoch 448/512\n",
      "47/47 [==============================] - 32s 691ms/step - loss: 0.0047 - accuracy: 0.9993 - val_loss: 14.8035 - val_accuracy: 0.0166\n"
     ]
    },
    {
     "name": "stdout",
     "output_type": "stream",
     "text": [
      "Epoch 449/512\n",
      "47/47 [==============================] - 32s 691ms/step - loss: 0.0051 - accuracy: 0.9993 - val_loss: 14.7718 - val_accuracy: 0.0168\n",
      "Epoch 450/512\n",
      "47/47 [==============================] - 32s 691ms/step - loss: 0.0050 - accuracy: 0.9992 - val_loss: 14.7871 - val_accuracy: 0.0166\n",
      "Epoch 451/512\n",
      "47/47 [==============================] - 32s 691ms/step - loss: 0.0054 - accuracy: 0.9991 - val_loss: 14.7817 - val_accuracy: 0.0170\n",
      "Epoch 452/512\n",
      "47/47 [==============================] - 32s 691ms/step - loss: 0.0059 - accuracy: 0.9991 - val_loss: 14.7404 - val_accuracy: 0.0168\n",
      "Epoch 453/512\n",
      "47/47 [==============================] - 32s 691ms/step - loss: 0.0057 - accuracy: 0.9992 - val_loss: 14.7323 - val_accuracy: 0.0167\n",
      "Epoch 454/512\n",
      "47/47 [==============================] - 32s 691ms/step - loss: 0.0056 - accuracy: 0.9991 - val_loss: 14.7242 - val_accuracy: 0.0166\n",
      "Epoch 455/512\n",
      "47/47 [==============================] - 33s 692ms/step - loss: 0.0055 - accuracy: 0.9991 - val_loss: 14.7338 - val_accuracy: 0.0167\n",
      "Epoch 456/512\n",
      "47/47 [==============================] - 32s 691ms/step - loss: 0.0054 - accuracy: 0.9991 - val_loss: 14.7361 - val_accuracy: 0.0169\n",
      "Epoch 457/512\n",
      "47/47 [==============================] - 33s 692ms/step - loss: 0.0052 - accuracy: 0.9992 - val_loss: 14.7137 - val_accuracy: 0.0167\n",
      "Epoch 458/512\n",
      "47/47 [==============================] - 33s 692ms/step - loss: 0.0054 - accuracy: 0.9991 - val_loss: 14.6968 - val_accuracy: 0.0165\n",
      "Epoch 459/512\n",
      "47/47 [==============================] - 33s 692ms/step - loss: 0.0058 - accuracy: 0.9991 - val_loss: 14.7210 - val_accuracy: 0.0172\n",
      "Epoch 460/512\n",
      "47/47 [==============================] - 33s 692ms/step - loss: 0.0055 - accuracy: 0.9992 - val_loss: 14.7013 - val_accuracy: 0.0161\n",
      "Epoch 461/512\n",
      "47/47 [==============================] - 33s 693ms/step - loss: 0.0059 - accuracy: 0.9992 - val_loss: 14.7035 - val_accuracy: 0.0154\n",
      "Epoch 462/512\n",
      "47/47 [==============================] - 33s 692ms/step - loss: 0.0056 - accuracy: 0.9991 - val_loss: 14.7259 - val_accuracy: 0.0165\n",
      "Epoch 463/512\n",
      "47/47 [==============================] - 33s 692ms/step - loss: 0.0056 - accuracy: 0.9991 - val_loss: 14.6862 - val_accuracy: 0.0163\n",
      "Epoch 464/512\n",
      "47/47 [==============================] - 32s 691ms/step - loss: 0.0060 - accuracy: 0.9992 - val_loss: 14.6905 - val_accuracy: 0.0166\n",
      "Epoch 465/512\n",
      "47/47 [==============================] - 33s 693ms/step - loss: 0.0054 - accuracy: 0.9992 - val_loss: 14.7046 - val_accuracy: 0.0163\n",
      "Epoch 466/512\n",
      "47/47 [==============================] - 32s 691ms/step - loss: 0.0054 - accuracy: 0.9992 - val_loss: 14.6539 - val_accuracy: 0.0170\n",
      "Epoch 467/512\n",
      "47/47 [==============================] - 33s 693ms/step - loss: 0.0049 - accuracy: 0.9991 - val_loss: 14.6753 - val_accuracy: 0.0169\n",
      "Epoch 468/512\n",
      "47/47 [==============================] - 33s 693ms/step - loss: 0.0053 - accuracy: 0.9992 - val_loss: 14.6909 - val_accuracy: 0.0169\n",
      "Epoch 469/512\n",
      "47/47 [==============================] - 33s 693ms/step - loss: 0.0050 - accuracy: 0.9991 - val_loss: 14.7070 - val_accuracy: 0.0170\n",
      "Epoch 470/512\n",
      "47/47 [==============================] - 33s 692ms/step - loss: 0.0053 - accuracy: 0.9992 - val_loss: 14.6571 - val_accuracy: 0.0162\n",
      "Epoch 471/512\n",
      "47/47 [==============================] - 33s 693ms/step - loss: 0.0053 - accuracy: 0.9992 - val_loss: 14.7045 - val_accuracy: 0.0169\n",
      "Epoch 472/512\n",
      "47/47 [==============================] - 33s 693ms/step - loss: 0.0053 - accuracy: 0.9992 - val_loss: 14.6519 - val_accuracy: 0.0172\n",
      "Epoch 473/512\n",
      "47/47 [==============================] - 33s 692ms/step - loss: 0.0054 - accuracy: 0.9991 - val_loss: 14.6666 - val_accuracy: 0.0171\n",
      "Epoch 474/512\n",
      "47/47 [==============================] - 33s 692ms/step - loss: 0.0049 - accuracy: 0.9993 - val_loss: 14.6574 - val_accuracy: 0.0171\n",
      "Epoch 475/512\n",
      "47/47 [==============================] - 33s 692ms/step - loss: 0.0049 - accuracy: 0.9992 - val_loss: 14.6498 - val_accuracy: 0.0172\n",
      "Epoch 476/512\n",
      "47/47 [==============================] - 33s 692ms/step - loss: 0.0051 - accuracy: 0.9992 - val_loss: 14.6472 - val_accuracy: 0.0162\n",
      "Epoch 477/512\n",
      "47/47 [==============================] - 33s 693ms/step - loss: 0.0055 - accuracy: 0.9991 - val_loss: 14.6300 - val_accuracy: 0.0163\n",
      "Epoch 478/512\n",
      "47/47 [==============================] - 33s 693ms/step - loss: 0.0048 - accuracy: 0.9993 - val_loss: 14.6294 - val_accuracy: 0.0162\n",
      "Epoch 479/512\n",
      "47/47 [==============================] - 33s 693ms/step - loss: 0.0052 - accuracy: 0.9993 - val_loss: 14.6002 - val_accuracy: 0.0163\n",
      "Epoch 480/512\n",
      "47/47 [==============================] - 33s 692ms/step - loss: 0.0054 - accuracy: 0.9991 - val_loss: 14.6094 - val_accuracy: 0.0163\n",
      "Epoch 481/512\n",
      "47/47 [==============================] - 33s 698ms/step - loss: 0.0055 - accuracy: 0.9992 - val_loss: 14.5649 - val_accuracy: 0.0163\n",
      "Epoch 482/512\n",
      "47/47 [==============================] - 33s 697ms/step - loss: 0.0042 - accuracy: 0.9993 - val_loss: 14.6070 - val_accuracy: 0.0163\n",
      "Epoch 483/512\n",
      "47/47 [==============================] - 33s 692ms/step - loss: 0.0052 - accuracy: 0.9991 - val_loss: 14.6220 - val_accuracy: 0.0164\n",
      "Epoch 484/512\n",
      "47/47 [==============================] - 33s 692ms/step - loss: 0.0058 - accuracy: 0.9993 - val_loss: 14.5974 - val_accuracy: 0.0167\n",
      "Epoch 485/512\n",
      "47/47 [==============================] - 33s 693ms/step - loss: 0.0055 - accuracy: 0.9992 - val_loss: 14.6111 - val_accuracy: 0.0166\n",
      "Epoch 486/512\n",
      "47/47 [==============================] - 32s 691ms/step - loss: 0.0061 - accuracy: 0.9991 - val_loss: 14.5810 - val_accuracy: 0.0165\n",
      "Epoch 487/512\n",
      "47/47 [==============================] - 33s 692ms/step - loss: 0.0045 - accuracy: 0.9993 - val_loss: 14.5440 - val_accuracy: 0.0163\n",
      "Epoch 488/512\n",
      "47/47 [==============================] - 33s 692ms/step - loss: 0.0050 - accuracy: 0.9992 - val_loss: 14.5539 - val_accuracy: 0.0160\n",
      "Epoch 489/512\n",
      "47/47 [==============================] - 33s 692ms/step - loss: 0.0053 - accuracy: 0.9992 - val_loss: 14.5656 - val_accuracy: 0.0160\n",
      "Epoch 490/512\n",
      "47/47 [==============================] - 33s 692ms/step - loss: 0.0059 - accuracy: 0.9991 - val_loss: 14.5805 - val_accuracy: 0.0160\n",
      "Epoch 491/512\n",
      "47/47 [==============================] - 32s 691ms/step - loss: 0.0058 - accuracy: 0.9993 - val_loss: 14.5371 - val_accuracy: 0.0164\n",
      "Epoch 492/512\n",
      "47/47 [==============================] - 33s 692ms/step - loss: 0.0051 - accuracy: 0.9993 - val_loss: 14.5563 - val_accuracy: 0.0163\n",
      "Epoch 493/512\n",
      "47/47 [==============================] - 32s 691ms/step - loss: 0.0046 - accuracy: 0.9993 - val_loss: 14.5612 - val_accuracy: 0.0174\n",
      "Epoch 494/512\n",
      "47/47 [==============================] - 33s 692ms/step - loss: 0.0048 - accuracy: 0.9992 - val_loss: 14.5574 - val_accuracy: 0.0171\n",
      "Epoch 495/512\n",
      "47/47 [==============================] - 33s 692ms/step - loss: 0.0051 - accuracy: 0.9992 - val_loss: 14.5674 - val_accuracy: 0.0164\n",
      "Epoch 496/512\n",
      "47/47 [==============================] - 33s 692ms/step - loss: 0.0057 - accuracy: 0.9991 - val_loss: 14.5635 - val_accuracy: 0.0162\n",
      "Epoch 497/512\n",
      "47/47 [==============================] - 33s 693ms/step - loss: 0.0051 - accuracy: 0.9992 - val_loss: 14.5726 - val_accuracy: 0.0172\n",
      "Epoch 498/512\n",
      "47/47 [==============================] - 33s 693ms/step - loss: 0.0053 - accuracy: 0.9991 - val_loss: 14.5605 - val_accuracy: 0.0162\n",
      "Epoch 499/512\n",
      "47/47 [==============================] - 33s 693ms/step - loss: 0.0047 - accuracy: 0.9992 - val_loss: 14.5624 - val_accuracy: 0.0171\n",
      "Epoch 500/512\n",
      "47/47 [==============================] - 32s 691ms/step - loss: 0.0047 - accuracy: 0.9992 - val_loss: 14.5494 - val_accuracy: 0.0173\n",
      "Epoch 501/512\n",
      "47/47 [==============================] - 33s 692ms/step - loss: 0.0051 - accuracy: 0.9992 - val_loss: 14.5332 - val_accuracy: 0.0178\n",
      "Epoch 502/512\n",
      "47/47 [==============================] - 33s 692ms/step - loss: 0.0053 - accuracy: 0.9992 - val_loss: 14.5464 - val_accuracy: 0.0172\n",
      "Epoch 503/512\n",
      "47/47 [==============================] - 33s 692ms/step - loss: 0.0047 - accuracy: 0.9993 - val_loss: 14.5531 - val_accuracy: 0.0174\n",
      "Epoch 504/512\n",
      "47/47 [==============================] - 32s 691ms/step - loss: 0.0050 - accuracy: 0.9992 - val_loss: 14.5495 - val_accuracy: 0.0174\n"
     ]
    },
    {
     "name": "stdout",
     "output_type": "stream",
     "text": [
      "Epoch 505/512\n",
      "47/47 [==============================] - 33s 692ms/step - loss: 0.0053 - accuracy: 0.9992 - val_loss: 14.5867 - val_accuracy: 0.0173\n",
      "Epoch 506/512\n",
      "47/47 [==============================] - 33s 692ms/step - loss: 0.0053 - accuracy: 0.9992 - val_loss: 14.5545 - val_accuracy: 0.0176\n",
      "Epoch 507/512\n",
      "47/47 [==============================] - 33s 692ms/step - loss: 0.0054 - accuracy: 0.9992 - val_loss: 14.5358 - val_accuracy: 0.0175\n",
      "Epoch 508/512\n",
      "47/47 [==============================] - 33s 692ms/step - loss: 0.0044 - accuracy: 0.9993 - val_loss: 14.5162 - val_accuracy: 0.0162\n",
      "Epoch 509/512\n",
      "47/47 [==============================] - 33s 693ms/step - loss: 0.0053 - accuracy: 0.9992 - val_loss: 14.5062 - val_accuracy: 0.0175\n",
      "Epoch 510/512\n",
      "47/47 [==============================] - 33s 692ms/step - loss: 0.0054 - accuracy: 0.9991 - val_loss: 14.5089 - val_accuracy: 0.0178\n",
      "Epoch 511/512\n",
      "47/47 [==============================] - 33s 693ms/step - loss: 0.0050 - accuracy: 0.9992 - val_loss: 14.5281 - val_accuracy: 0.0179\n",
      "Epoch 512/512\n",
      "47/47 [==============================] - 33s 693ms/step - loss: 0.0050 - accuracy: 0.9992 - val_loss: 14.5463 - val_accuracy: 0.0181\n"
     ]
    }
   ],
   "source": [
    "%%time\n",
    "import kashgari\n",
    "from kashgari.tasks.labeling import BiLSTM_CRF_Model\n",
    "from kashgari.embeddings import TransformerEmbedding\n",
    "kashgari.config.use_cudnn_cell = True\n",
    "\n",
    "embedding_path = '/home/Danny/pretrain_model/{}'.format(model_name)\n",
    "vocab_path = os.path.join(embedding_path, 'vocab.txt')\n",
    "config_path = os.path.join(embedding_path, 'bert_config.json')\n",
    "checkpoint_path = os.path.join(embedding_path, 'bert_model.ckpt')\n",
    "embedding = TransformerEmbedding(vocab_path, \n",
    "                                 config_path, \n",
    "                                 checkpoint_path,\n",
    "                                 bert_type='bert',\n",
    "                                 sequence_length='auto',\n",
    "                                 trainable=True,\n",
    "                                 task='kashgari.LABELING',\n",
    "                                )\n",
    "\n",
    "model = BiLSTM_CRF_Model(embedding)\n",
    "history = model.fit(train_x,\n",
    "                    train_y,\n",
    "                    valid_x,\n",
    "                    valid_y,\n",
    "                    epochs=epochs,\n",
    "                    batch_size=batch_size,\n",
    "                   )"
   ]
  },
  {
   "cell_type": "code",
   "execution_count": 11,
   "metadata": {},
   "outputs": [
    {
     "name": "stderr",
     "output_type": "stream",
     "text": [
      "2020-12-14 19:13:13,073 [WARNING] kashgari - Sequence length is None, will use the max length of the samples, which is 65\n",
      "2020-12-14 19:13:13,197 [DEBUG] kashgari - predict seq_length: None, input: (2, 15233, 65)\n"
     ]
    },
    {
     "name": "stdout",
     "output_type": "stream",
     "text": [
      "477/477 [==============================] - 42s 89ms/step\n"
     ]
    },
    {
     "name": "stderr",
     "output_type": "stream",
     "text": [
      "2020-12-14 19:14:00,303 [DEBUG] kashgari - predict output: (15233, 65)\n",
      "2020-12-14 19:14:00,304 [DEBUG] kashgari - predict output argmax: [[0 1 1 ... 1 1 1]\n",
      " [0 1 1 ... 1 1 1]\n",
      " [0 1 1 ... 1 1 1]\n",
      " ...\n",
      " [0 1 1 ... 1 1 1]\n",
      " [0 1 1 ... 1 1 1]\n",
      " [0 1 1 ... 1 1 1]]\n"
     ]
    },
    {
     "name": "stdout",
     "output_type": "stream",
     "text": [
      "\n",
      "                precision    recall  f1-score   support\n",
      "\n",
      "          time     0.8505    0.8292    0.8397       878\n",
      "      med_exam     0.8963    0.9030    0.8996       134\n",
      "         money     0.9524    0.9302    0.9412        43\n",
      "          name     0.9744    0.8636    0.9157        88\n",
      "      location     0.9663    0.8431    0.9005       102\n",
      "       contact     0.9167    0.6111    0.7333        18\n",
      "    profession     0.8750    0.4118    0.5600        17\n",
      "        family     1.0000    0.4545    0.6250        11\n",
      "  organization     1.0000    0.5000    0.6667         2\n",
      "            ID     1.0000    0.5556    0.7143         9\n",
      "     education     1.0000    0.5000    0.6667         2\n",
      "        others     0.0000    0.0000    0.0000         1\n",
      "clinical_event     1.0000    1.0000    1.0000         1\n",
      "\n",
      "     micro avg     0.8775    0.8285    0.8523      1306\n",
      "     macro avg     0.8794    0.8285    0.8502      1306\n",
      "\n"
     ]
    },
    {
     "name": "stderr",
     "output_type": "stream",
     "text": [
      "2020-12-14 19:15:12,725 [INFO] kashgari - model saved to /home/Danny/AI-CUP-2020/Danny/kashgari/model/roberta-chinese_epoch_512_batch_1024\n"
     ]
    },
    {
     "data": {
      "text/plain": [
       "'/home/Danny/AI-CUP-2020/Danny/kashgari/model/roberta-chinese_epoch_512_batch_1024'"
      ]
     },
     "execution_count": 11,
     "metadata": {},
     "output_type": "execute_result"
    }
   ],
   "source": [
    "model.evaluate(test_x, test_y)\n",
    "model_path = 'model/{}_epoch_{}_batch_{}'.format(model_name, epochs, batch_size)\n",
    "model.save(model_path)"
   ]
  },
  {
   "cell_type": "code",
   "execution_count": 12,
   "metadata": {},
   "outputs": [
    {
     "data": {
      "image/png": "[encoded data removed]",
      "text/plain": [
       "<Figure size 432x288 with 1 Axes>"
      ]
     },
     "metadata": {
      "needs_background": "light"
     },
     "output_type": "display_data"
    }
   ],
   "source": [
    "plt.plot(history.history['accuracy'])\n",
    "plt.plot(history.history['val_accuracy'])\n",
    "plt.plot(history.history['loss'])\n",
    "plt.plot(history.history['val_loss'])\n",
    "plt.title('model accuracy')\n",
    "plt.ylabel('accuracy')\n",
    "plt.xlabel('epoch')\n",
    "plt.legend(['accuracy', 'val_accuracy', 'loss', 'val_loss'])\n",
    "plt.show()"
   ]
  },
  {
   "cell_type": "code",
   "execution_count": 13,
   "metadata": {},
   "outputs": [],
   "source": [
    "# 需要儲存article_id, 轉成dataframe\n",
    "def predicting_txt_to_dataframe(path):    \n",
    "    with open(path, 'r') as f:\n",
    "        txt = str(f.read())\n",
    "        txt_list = txt.split('\\n')\n",
    "    row_list = list()\n",
    "    tmp_list = list()\n",
    "    for row in txt_list:\n",
    "        if row == '--------------------':\n",
    "            tmp_list[0] = tmp_list[0].replace('article_id:', '')\n",
    "            tmp_list[0] = int(tmp_list[0])\n",
    "            row_list.append(tmp_list)\n",
    "            tmp_list = list()\n",
    "            continue\n",
    "        if len(row) > 0:\n",
    "            tmp_list.append(row)\n",
    "    df = pd.DataFrame(row_list, columns=['article_id','text'])\n",
    "    return df"
   ]
  },
  {
   "cell_type": "code",
   "execution_count": 14,
   "metadata": {},
   "outputs": [],
   "source": [
    "def predict_NER(text):\n",
    "    x_list = list()    \n",
    "    text_list = re.split('\\uff0c|\\u3002|\\uff1f', text)\n",
    "    for article in text_list:\n",
    "        x_list.append([i for i in article])\n",
    "    y_list_list = model.predict(x_list)\n",
    "    y_list = list()\n",
    "    for sentence in y_list_list:\n",
    "        for word in sentence:\n",
    "            y_list.append(word)\n",
    "        y_list.append('O') # append(，。？)\n",
    "    y_list = y_list[:-1]\n",
    "    return y_list"
   ]
  },
  {
   "cell_type": "code",
   "execution_count": 15,
   "metadata": {},
   "outputs": [],
   "source": [
    "def output_NER(article_id, text, y_list):\n",
    "    output_str = str()\n",
    "    flag = False\n",
    "    for i, j in enumerate(y_list):\n",
    "        if j != 'O':\n",
    "            if j[0] == 'B':\n",
    "                start_position = i\n",
    "                entity_type = j.split('-')[-1]\n",
    "                flag = True\n",
    "        elif j == 'O' and flag == True:\n",
    "            end_position = i\n",
    "            flag = False\n",
    "            entity_text = text[start_position: end_position]\n",
    "            entity = '{}\\t{}\\t{}\\t{}\\t{}\\n'.format(article_id, start_position, end_position, entity_text, entity_type)  \n",
    "            output_str += entity\n",
    "    return output_str"
   ]
  },
  {
   "cell_type": "code",
   "execution_count": 21,
   "metadata": {},
   "outputs": [
    {
     "name": "stderr",
     "output_type": "stream",
     "text": [
      "2020-12-14 22:09:40,899 [DEBUG] kashgari - predict seq_length: None, input: (2, 70, 17)\n"
     ]
    },
    {
     "name": "stdout",
     "output_type": "stream",
     "text": [
      "3/3 [==============================] - 0s 24ms/step\n"
     ]
    },
    {
     "name": "stderr",
     "output_type": "stream",
     "text": [
      "2020-12-14 22:09:45,288 [DEBUG] kashgari - predict output: (70, 17)\n",
      "2020-12-14 22:09:45,289 [DEBUG] kashgari - predict output argmax: [[0 1 1 ... 1 0 1]\n",
      " [0 1 1 ... 1 1 1]\n",
      " [0 1 1 ... 1 1 1]\n",
      " ...\n",
      " [0 1 0 ... 1 1 1]\n",
      " [0 1 1 ... 1 1 1]\n",
      " [0 0 0 ... 0 0 0]]\n",
      "2020-12-14 22:09:45,293 [DEBUG] kashgari - predict seq_length: None, input: (2, 131, 28)\n"
     ]
    },
    {
     "name": "stdout",
     "output_type": "stream",
     "text": [
      "5/5 [==============================] - 0s 42ms/step\n"
     ]
    },
    {
     "name": "stderr",
     "output_type": "stream",
     "text": [
      "2020-12-14 22:09:45,583 [DEBUG] kashgari - predict output: (131, 28)\n",
      "2020-12-14 22:09:45,584 [DEBUG] kashgari - predict output argmax: [[0 1 1 ... 1 1 1]\n",
      " [0 1 1 ... 1 1 1]\n",
      " [0 1 1 ... 1 1 1]\n",
      " ...\n",
      " [0 1 1 ... 1 1 1]\n",
      " [0 1 1 ... 1 1 1]\n",
      " [0 0 0 ... 0 0 0]]\n",
      "2020-12-14 22:09:45,588 [DEBUG] kashgari - predict seq_length: None, input: (2, 198, 47)\n"
     ]
    },
    {
     "name": "stdout",
     "output_type": "stream",
     "text": [
      "7/7 [==============================] - 0s 64ms/step\n"
     ]
    },
    {
     "name": "stderr",
     "output_type": "stream",
     "text": [
      "2020-12-14 22:09:46,156 [DEBUG] kashgari - predict output: (198, 47)\n",
      "2020-12-14 22:09:46,157 [DEBUG] kashgari - predict output argmax: [[0 1 1 ... 1 1 1]\n",
      " [0 1 1 ... 1 1 1]\n",
      " [0 1 1 ... 1 1 1]\n",
      " ...\n",
      " [0 1 1 ... 1 1 1]\n",
      " [0 1 1 ... 1 1 1]\n",
      " [0 1 1 ... 1 1 1]]\n",
      "2020-12-14 22:09:46,160 [DEBUG] kashgari - predict seq_length: None, input: (2, 96, 41)\n"
     ]
    },
    {
     "name": "stdout",
     "output_type": "stream",
     "text": [
      "3/3 [==============================] - 0s 38ms/step\n"
     ]
    },
    {
     "name": "stderr",
     "output_type": "stream",
     "text": [
      "2020-12-14 22:09:49,444 [DEBUG] kashgari - predict output: (96, 41)\n",
      "2020-12-14 22:09:49,445 [DEBUG] kashgari - predict output argmax: [[0 1 1 ... 1 1 1]\n",
      " [0 1 1 ... 1 1 1]\n",
      " [0 1 1 ... 1 1 1]\n",
      " ...\n",
      " [0 1 1 ... 1 1 1]\n",
      " [0 1 1 ... 1 1 1]\n",
      " [0 0 0 ... 0 0 0]]\n",
      "2020-12-14 22:09:49,448 [DEBUG] kashgari - predict seq_length: None, input: (2, 73, 17)\n"
     ]
    },
    {
     "name": "stdout",
     "output_type": "stream",
     "text": [
      "3/3 [==============================] - 0s 24ms/step\n"
     ]
    },
    {
     "name": "stderr",
     "output_type": "stream",
     "text": [
      "2020-12-14 22:09:49,594 [DEBUG] kashgari - predict output: (73, 17)\n",
      "2020-12-14 22:09:49,595 [DEBUG] kashgari - predict output argmax: [[0 1 1 ... 1 1 1]\n",
      " [0 1 9 ... 1 1 1]\n",
      " [0 1 1 ... 1 1 1]\n",
      " ...\n",
      " [0 1 1 ... 1 1 1]\n",
      " [0 1 0 ... 1 1 1]\n",
      " [0 0 0 ... 0 0 0]]\n",
      "2020-12-14 22:09:49,601 [DEBUG] kashgari - predict seq_length: None, input: (2, 266, 23)\n"
     ]
    },
    {
     "name": "stdout",
     "output_type": "stream",
     "text": [
      "9/9 [==============================] - 0s 42ms/step\n"
     ]
    },
    {
     "name": "stderr",
     "output_type": "stream",
     "text": [
      "2020-12-14 22:09:50,059 [DEBUG] kashgari - predict output: (266, 23)\n",
      "2020-12-14 22:09:50,060 [DEBUG] kashgari - predict output argmax: [[0 1 1 ... 1 1 1]\n",
      " [0 1 1 ... 1 1 1]\n",
      " [0 1 1 ... 1 1 1]\n",
      " ...\n",
      " [0 1 1 ... 1 1 1]\n",
      " [0 1 1 ... 1 1 1]\n",
      " [0 1 1 ... 1 1 1]]\n",
      "2020-12-14 22:09:50,066 [DEBUG] kashgari - predict seq_length: None, input: (2, 308, 21)\n"
     ]
    },
    {
     "name": "stdout",
     "output_type": "stream",
     "text": [
      "10/10 [==============================] - 0s 38ms/step\n"
     ]
    },
    {
     "name": "stderr",
     "output_type": "stream",
     "text": [
      "2020-12-14 22:09:50,518 [DEBUG] kashgari - predict output: (308, 21)\n",
      "2020-12-14 22:09:50,519 [DEBUG] kashgari - predict output argmax: [[0 1 1 ... 1 1 1]\n",
      " [0 1 0 ... 1 1 1]\n",
      " [0 1 1 ... 1 1 1]\n",
      " ...\n",
      " [0 1 1 ... 1 1 1]\n",
      " [0 1 0 ... 1 1 1]\n",
      " [0 0 0 ... 0 0 0]]\n",
      "2020-12-14 22:09:50,522 [DEBUG] kashgari - predict seq_length: None, input: (2, 139, 38)\n"
     ]
    },
    {
     "name": "stdout",
     "output_type": "stream",
     "text": [
      "5/5 [==============================] - 0s 44ms/step\n"
     ]
    },
    {
     "name": "stderr",
     "output_type": "stream",
     "text": [
      "2020-12-14 22:09:50,822 [DEBUG] kashgari - predict output: (139, 38)\n",
      "2020-12-14 22:09:50,823 [DEBUG] kashgari - predict output argmax: [[0 1 1 ... 1 1 1]\n",
      " [0 1 1 ... 1 1 1]\n",
      " [0 1 1 ... 1 1 1]\n",
      " ...\n",
      " [0 1 1 ... 1 1 1]\n",
      " [0 1 1 ... 1 1 1]\n",
      " [0 0 0 ... 0 0 0]]\n",
      "2020-12-14 22:09:50,827 [DEBUG] kashgari - predict seq_length: None, input: (2, 167, 22)\n"
     ]
    },
    {
     "name": "stdout",
     "output_type": "stream",
     "text": [
      "6/6 [==============================] - 0s 33ms/step\n"
     ]
    },
    {
     "name": "stderr",
     "output_type": "stream",
     "text": [
      "2020-12-14 22:09:51,107 [DEBUG] kashgari - predict output: (167, 22)\n",
      "2020-12-14 22:09:51,108 [DEBUG] kashgari - predict output argmax: [[0 1 1 ... 1 1 1]\n",
      " [0 1 1 ... 1 1 1]\n",
      " [0 1 0 ... 1 1 1]\n",
      " ...\n",
      " [0 1 1 ... 1 1 1]\n",
      " [0 1 1 ... 2 2 2]\n",
      " [0 0 0 ... 0 0 0]]\n",
      "2020-12-14 22:09:51,114 [DEBUG] kashgari - predict seq_length: None, input: (2, 272, 41)\n"
     ]
    },
    {
     "name": "stdout",
     "output_type": "stream",
     "text": [
      "9/9 [==============================] - 0s 55ms/step\n"
     ]
    },
    {
     "name": "stderr",
     "output_type": "stream",
     "text": [
      "2020-12-14 22:09:51,704 [DEBUG] kashgari - predict output: (272, 41)\n",
      "2020-12-14 22:09:51,705 [DEBUG] kashgari - predict output argmax: [[0 1 1 ... 5 5 5]\n",
      " [0 1 3 ... 2 2 2]\n",
      " [0 1 1 ... 1 1 1]\n",
      " ...\n",
      " [0 1 1 ... 1 1 1]\n",
      " [0 1 1 ... 1 1 1]\n",
      " [0 0 0 ... 0 0 0]]\n",
      "2020-12-14 22:09:51,709 [DEBUG] kashgari - predict seq_length: None, input: (2, 143, 63)\n"
     ]
    },
    {
     "name": "stdout",
     "output_type": "stream",
     "text": [
      "5/5 [==============================] - 0s 73ms/step\n"
     ]
    },
    {
     "name": "stderr",
     "output_type": "stream",
     "text": [
      "2020-12-14 22:09:56,418 [DEBUG] kashgari - predict output: (143, 63)\n",
      "2020-12-14 22:09:56,419 [DEBUG] kashgari - predict output argmax: [[0 1 1 ... 1 1 1]\n",
      " [0 1 1 ... 1 1 1]\n",
      " [0 1 1 ... 1 1 1]\n",
      " ...\n",
      " [0 1 1 ... 1 1 1]\n",
      " [0 1 1 ... 1 1 1]\n",
      " [0 0 0 ... 0 0 0]]\n",
      "2020-12-14 22:09:56,426 [DEBUG] kashgari - predict seq_length: None, input: (2, 663, 42)\n"
     ]
    },
    {
     "name": "stdout",
     "output_type": "stream",
     "text": [
      "21/21 [==============================] - 1s 60ms/step\n"
     ]
    },
    {
     "name": "stderr",
     "output_type": "stream",
     "text": [
      "2020-12-14 22:09:57,786 [DEBUG] kashgari - predict output: (663, 42)\n",
      "2020-12-14 22:09:57,786 [DEBUG] kashgari - predict output argmax: [[0 1 1 ... 1 1 1]\n",
      " [0 1 1 ... 1 1 1]\n",
      " [0 1 1 ... 1 1 1]\n",
      " ...\n",
      " [0 1 1 ... 1 1 1]\n",
      " [0 1 1 ... 1 1 1]\n",
      " [0 0 0 ... 0 0 0]]\n",
      "2020-12-14 22:09:57,788 [DEBUG] kashgari - predict seq_length: None, input: (2, 39, 25)\n"
     ]
    },
    {
     "name": "stdout",
     "output_type": "stream",
     "text": [
      "2/2 [==============================] - 0s 22ms/step\n"
     ]
    },
    {
     "name": "stderr",
     "output_type": "stream",
     "text": [
      "2020-12-14 22:09:57,899 [DEBUG] kashgari - predict output: (39, 25)\n",
      "2020-12-14 22:09:57,901 [DEBUG] kashgari - predict output argmax: [[0 1 1 1 1 0 1 1 1 1 1 1 1 1 1 1 1 1 1 1 1 1 1 1 1]\n",
      " [0 1 1 1 1 0 1 1 1 1 1 1 1 1 1 1 1 1 1 1 1 1 1 1 1]\n",
      " [0 1 1 1 1 1 1 1 1 1 1 1 1 1 1 1 0 1 1 1 1 1 1 1 1]\n",
      " [0 1 1 1 1 1 1 1 1 1 1 0 1 1 1 1 1 1 1 1 1 1 1 1 1]\n",
      " [0 1 1 1 1 1 1 1 1 1 1 1 0 1 1 1 1 1 1 1 1 1 1 1 1]\n",
      " [0 1 1 1 1 0 1 1 1 1 1 1 1 1 1 1 1 1 1 1 1 1 1 1 1]\n",
      " [0 1 1 1 0 1 1 1 1 1 1 1 1 1 1 1 1 1 1 1 1 1 1 1 1]\n",
      " [0 1 1 1 1 0 1 1 1 1 1 1 1 1 1 1 1 1 1 1 1 1 1 1 1]\n",
      " [0 1 1 0 1 1 1 1 1 1 1 1 1 1 1 1 1 1 1 1 1 1 1 1 1]\n",
      " [0 1 1 1 1 1 1 1 1 1 1 1 0 1 1 1 1 1 1 1 1 1 1 1 1]\n",
      " [0 1 1 1 1 1 1 1 1 1 0 1 1 1 1 1 1 1 1 1 1 1 1 1 1]\n",
      " [0 1 1 1 1 1 1 0 1 1 1 1 1 1 1 1 1 1 1 1 1 1 1 1 1]\n",
      " [0 1 1 1 1 0 1 1 1 1 1 1 1 1 1 1 1 1 1 1 1 1 1 1 1]\n",
      " [0 1 1 1 1 0 1 1 1 1 1 1 1 1 1 1 1 1 1 1 1 1 1 1 1]\n",
      " [0 1 1 1 1 1 1 1 1 1 1 1 1 1 0 1 1 1 1 1 1 1 1 1 1]\n",
      " [0 1 1 1 1 0 1 1 1 1 1 1 1 1 1 1 1 1 1 1 1 1 1 1 1]\n",
      " [0 1 1 1 0 1 1 1 1 1 1 1 1 1 1 1 1 1 1 1 1 1 1 1 1]\n",
      " [0 1 1 1 1 1 1 1 1 1 1 1 1 1 0 1 1 1 1 1 1 1 1 1 1]\n",
      " [0 1 1 1 1 1 0 1 1 1 1 1 1 1 1 1 1 1 1 1 1 1 1 1 1]\n",
      " [0 1 1 1 1 1 1 1 1 1 1 1 1 1 1 1 1 0 1 1 1 1 1 1 1]\n",
      " [0 1 1 1 1 3 2 1 1 1 1 0 1 1 1 1 1 1 1 1 1 1 1 1 1]\n",
      " [0 1 1 1 1 0 1 1 1 1 1 1 1 1 1 1 1 1 1 1 1 1 1 1 1]\n",
      " [0 1 1 1 1 1 1 1 1 1 1 0 1 1 1 1 1 1 1 1 1 1 1 1 1]\n",
      " [0 1 1 1 1 0 1 1 1 1 1 1 1 1 1 1 1 1 1 1 1 1 1 1 1]\n",
      " [0 1 1 1 1 1 0 1 1 1 1 1 1 1 1 1 1 1 1 1 1 1 1 1 1]\n",
      " [0 1 1 1 1 0 1 1 1 1 1 1 1 1 1 1 1 1 1 1 1 1 1 1 1]\n",
      " [0 1 1 1 1 1 1 1 1 1 1 1 1 1 1 1 1 1 1 1 1 1 1 1 0]\n",
      " [0 1 1 1 1 0 1 1 1 1 1 1 1 1 1 1 1 1 1 1 1 1 1 1 1]\n",
      " [0 1 1 1 0 1 1 1 1 1 1 1 1 1 1 1 1 1 1 1 1 1 1 1 1]\n",
      " [0 1 1 1 1 1 0 1 1 1 1 1 1 1 1 1 1 1 1 1 1 1 1 1 1]\n",
      " [0 1 1 1 1 1 0 1 1 1 1 1 1 1 1 1 1 1 1 1 1 1 1 1 1]\n",
      " [0 1 0 1 1 1 1 1 1 1 1 1 1 1 1 1 1 1 1 1 1 1 1 1 1]\n",
      " [0 1 1 1 1 1 1 1 1 1 1 1 0 1 1 1 1 1 1 1 1 1 1 1 1]\n",
      " [0 1 1 1 1 0 1 1 1 1 1 1 1 1 1 1 1 1 1 1 1 1 1 1 1]\n",
      " [0 1 1 1 1 3 2 2 2 1 1 1 1 1 0 1 1 1 1 1 1 1 1 1 1]\n",
      " [0 1 1 1 1 0 1 1 1 1 1 1 1 1 1 1 1 1 1 1 1 1 1 1 1]\n",
      " [0 1 1 1 1 1 0 1 1 1 1 1 1 1 1 1 1 1 1 1 1 1 1 1 1]\n",
      " [0 1 1 0 1 1 1 1 1 1 1 1 1 1 1 1 1 1 1 1 1 1 1 1 1]\n",
      " [0 0 0 0 0 0 0 0 0 0 0 0 0 0 0 0 0 0 0 0 0 0 0 0 0]]\n",
      "2020-12-14 22:09:57,904 [DEBUG] kashgari - predict seq_length: None, input: (2, 175, 22)\n"
     ]
    },
    {
     "name": "stdout",
     "output_type": "stream",
     "text": [
      "6/6 [==============================] - 0s 35ms/step\n"
     ]
    },
    {
     "name": "stderr",
     "output_type": "stream",
     "text": [
      "2020-12-14 22:09:58,186 [DEBUG] kashgari - predict output: (175, 22)\n",
      "2020-12-14 22:09:58,187 [DEBUG] kashgari - predict output argmax: [[0 1 1 ... 1 1 1]\n",
      " [0 1 1 ... 1 1 1]\n",
      " [0 1 1 ... 1 1 1]\n",
      " ...\n",
      " [0 1 1 ... 1 1 1]\n",
      " [0 1 1 ... 1 1 1]\n",
      " [0 0 0 ... 0 0 0]]\n",
      "2020-12-14 22:09:58,191 [DEBUG] kashgari - predict seq_length: None, input: (2, 143, 28)\n"
     ]
    },
    {
     "name": "stdout",
     "output_type": "stream",
     "text": [
      "5/5 [==============================] - 0s 38ms/step\n"
     ]
    },
    {
     "name": "stderr",
     "output_type": "stream",
     "text": [
      "2020-12-14 22:09:58,454 [DEBUG] kashgari - predict output: (143, 28)\n",
      "2020-12-14 22:09:58,455 [DEBUG] kashgari - predict output argmax: [[0 1 1 ... 1 1 1]\n",
      " [0 1 1 ... 1 1 1]\n",
      " [0 1 1 ... 1 1 1]\n",
      " ...\n",
      " [0 1 1 ... 1 1 1]\n",
      " [0 1 1 ... 1 1 1]\n",
      " [0 0 0 ... 0 0 0]]\n",
      "2020-12-14 22:09:58,457 [DEBUG] kashgari - predict seq_length: None, input: (2, 88, 21)\n"
     ]
    },
    {
     "name": "stdout",
     "output_type": "stream",
     "text": [
      "3/3 [==============================] - 0s 30ms/step\n"
     ]
    },
    {
     "name": "stderr",
     "output_type": "stream",
     "text": [
      "2020-12-14 22:09:58,614 [DEBUG] kashgari - predict output: (88, 21)\n",
      "2020-12-14 22:09:58,615 [DEBUG] kashgari - predict output argmax: [[0 1 1 ... 1 1 1]\n",
      " [0 1 1 ... 1 1 1]\n",
      " [0 1 1 ... 1 1 1]\n",
      " ...\n",
      " [0 1 1 ... 2 2 2]\n",
      " [0 1 1 ... 1 1 1]\n",
      " [0 0 0 ... 0 0 0]]\n",
      "2020-12-14 22:09:58,617 [DEBUG] kashgari - predict seq_length: None, input: (2, 121, 28)\n"
     ]
    },
    {
     "name": "stdout",
     "output_type": "stream",
     "text": [
      "4/4 [==============================] - 0s 39ms/step\n"
     ]
    },
    {
     "name": "stderr",
     "output_type": "stream",
     "text": [
      "2020-12-14 22:09:58,845 [DEBUG] kashgari - predict output: (121, 28)\n",
      "2020-12-14 22:09:58,846 [DEBUG] kashgari - predict output argmax: [[0 1 1 ... 1 1 1]\n",
      " [0 1 1 ... 1 1 1]\n",
      " [0 1 1 ... 1 1 1]\n",
      " ...\n",
      " [0 1 1 ... 1 1 1]\n",
      " [0 1 1 ... 1 1 1]\n",
      " [0 0 0 ... 0 0 0]]\n",
      "2020-12-14 22:09:58,849 [DEBUG] kashgari - predict seq_length: None, input: (2, 85, 27)\n"
     ]
    },
    {
     "name": "stdout",
     "output_type": "stream",
     "text": [
      "3/3 [==============================] - 0s 33ms/step\n"
     ]
    },
    {
     "name": "stderr",
     "output_type": "stream",
     "text": [
      "2020-12-14 22:09:59,025 [DEBUG] kashgari - predict output: (85, 27)\n",
      "2020-12-14 22:09:59,025 [DEBUG] kashgari - predict output argmax: [[0 1 1 ... 1 1 1]\n",
      " [0 1 1 ... 1 1 1]\n",
      " [0 1 1 ... 1 1 1]\n",
      " ...\n",
      " [0 1 1 ... 1 1 1]\n",
      " [0 1 1 ... 1 1 1]\n",
      " [0 0 0 ... 0 0 0]]\n",
      "2020-12-14 22:09:59,031 [DEBUG] kashgari - predict seq_length: None, input: (2, 255, 19)\n"
     ]
    },
    {
     "name": "stdout",
     "output_type": "stream",
     "text": [
      "8/8 [==============================] - 0s 36ms/step\n"
     ]
    },
    {
     "name": "stderr",
     "output_type": "stream",
     "text": [
      "2020-12-14 22:09:59,388 [DEBUG] kashgari - predict output: (255, 19)\n",
      "2020-12-14 22:09:59,389 [DEBUG] kashgari - predict output argmax: [[0 1 1 ... 1 1 1]\n",
      " [0 1 1 ... 1 1 1]\n",
      " [0 1 1 ... 1 1 1]\n",
      " ...\n",
      " [0 1 1 ... 1 1 1]\n",
      " [0 1 1 ... 1 1 1]\n",
      " [0 0 0 ... 0 0 0]]\n",
      "2020-12-14 22:09:59,393 [DEBUG] kashgari - predict seq_length: None, input: (2, 202, 29)\n"
     ]
    },
    {
     "name": "stdout",
     "output_type": "stream",
     "text": [
      "7/7 [==============================] - 0s 43ms/step\n"
     ]
    },
    {
     "name": "stderr",
     "output_type": "stream",
     "text": [
      "2020-12-14 22:09:59,776 [DEBUG] kashgari - predict output: (202, 29)\n",
      "2020-12-14 22:09:59,777 [DEBUG] kashgari - predict output argmax: [[0 1 1 ... 1 1 1]\n",
      " [0 1 1 ... 1 1 1]\n",
      " [0 1 1 ... 1 1 0]\n",
      " ...\n",
      " [0 1 1 ... 1 1 1]\n",
      " [0 1 1 ... 1 1 1]\n",
      " [0 0 0 ... 0 0 0]]\n",
      "2020-12-14 22:09:59,781 [DEBUG] kashgari - predict seq_length: None, input: (2, 198, 19)\n"
     ]
    },
    {
     "name": "stdout",
     "output_type": "stream",
     "text": [
      "7/7 [==============================] - 0s 34ms/step\n"
     ]
    },
    {
     "name": "stderr",
     "output_type": "stream",
     "text": [
      "2020-12-14 22:10:00,089 [DEBUG] kashgari - predict output: (198, 19)\n",
      "2020-12-14 22:10:00,090 [DEBUG] kashgari - predict output argmax: [[0 1 1 ... 1 1 1]\n",
      " [0 1 1 ... 1 1 1]\n",
      " [0 1 1 ... 1 1 1]\n",
      " ...\n",
      " [0 1 1 ... 1 1 1]\n",
      " [0 1 1 ... 6 6 6]\n",
      " [0 0 0 ... 0 0 0]]\n",
      "2020-12-14 22:10:00,092 [DEBUG] kashgari - predict seq_length: None, input: (2, 102, 39)\n"
     ]
    },
    {
     "name": "stdout",
     "output_type": "stream",
     "text": [
      "4/4 [==============================] - 0s 42ms/step\n"
     ]
    },
    {
     "name": "stderr",
     "output_type": "stream",
     "text": [
      "2020-12-14 22:10:00,364 [DEBUG] kashgari - predict output: (102, 39)\n",
      "2020-12-14 22:10:00,365 [DEBUG] kashgari - predict output argmax: [[0 1 1 ... 1 1 1]\n",
      " [0 1 1 ... 1 1 1]\n",
      " [0 1 1 ... 1 1 1]\n",
      " ...\n",
      " [0 1 1 ... 1 1 1]\n",
      " [0 1 1 ... 1 1 1]\n",
      " [0 0 0 ... 0 0 0]]\n",
      "2020-12-14 22:10:00,366 [DEBUG] kashgari - predict seq_length: None, input: (2, 72, 36)\n"
     ]
    },
    {
     "name": "stdout",
     "output_type": "stream",
     "text": [
      "3/3 [==============================] - 0s 30ms/step\n"
     ]
    },
    {
     "name": "stderr",
     "output_type": "stream",
     "text": [
      "2020-12-14 22:10:00,557 [DEBUG] kashgari - predict output: (72, 36)\n",
      "2020-12-14 22:10:00,558 [DEBUG] kashgari - predict output argmax: [[0 1 1 ... 1 1 1]\n",
      " [0 1 0 ... 1 1 1]\n",
      " [0 1 1 ... 1 1 1]\n",
      " ...\n",
      " [0 1 1 ... 1 1 1]\n",
      " [0 1 1 ... 1 1 1]\n",
      " [0 0 0 ... 0 0 0]]\n",
      "2020-12-14 22:10:00,562 [DEBUG] kashgari - predict seq_length: None, input: (2, 246, 27)\n"
     ]
    },
    {
     "name": "stdout",
     "output_type": "stream",
     "text": [
      "8/8 [==============================] - 0s 42ms/step\n"
     ]
    },
    {
     "name": "stderr",
     "output_type": "stream",
     "text": [
      "2020-12-14 22:10:00,985 [DEBUG] kashgari - predict output: (246, 27)\n",
      "2020-12-14 22:10:00,986 [DEBUG] kashgari - predict output argmax: [[0 1 1 ... 1 1 1]\n",
      " [0 1 1 ... 1 1 1]\n",
      " [0 1 1 ... 1 1 1]\n",
      " ...\n",
      " [0 1 1 ... 1 1 1]\n",
      " [0 1 1 ... 1 1 1]\n",
      " [0 0 0 ... 0 0 0]]\n",
      "2020-12-14 22:10:00,988 [DEBUG] kashgari - predict seq_length: None, input: (2, 57, 34)\n"
     ]
    },
    {
     "name": "stdout",
     "output_type": "stream",
     "text": [
      "2/2 [==============================] - 0s 26ms/step\n"
     ]
    },
    {
     "name": "stderr",
     "output_type": "stream",
     "text": [
      "2020-12-14 22:10:01,127 [DEBUG] kashgari - predict output: (57, 34)\n",
      "2020-12-14 22:10:01,128 [DEBUG] kashgari - predict output argmax: [[0 1 1 ... 1 1 1]\n",
      " [0 1 1 ... 1 1 1]\n",
      " [0 1 1 ... 1 1 1]\n",
      " ...\n",
      " [0 1 1 ... 1 1 1]\n",
      " [0 1 1 ... 1 1 1]\n",
      " [0 0 0 ... 0 0 0]]\n",
      "2020-12-14 22:10:01,131 [DEBUG] kashgari - predict seq_length: None, input: (2, 82, 21)\n"
     ]
    },
    {
     "name": "stdout",
     "output_type": "stream",
     "text": [
      "3/3 [==============================] - 0s 27ms/step\n"
     ]
    },
    {
     "name": "stderr",
     "output_type": "stream",
     "text": [
      "2020-12-14 22:10:01,276 [DEBUG] kashgari - predict output: (82, 21)\n",
      "2020-12-14 22:10:01,277 [DEBUG] kashgari - predict output argmax: [[0 1 1 ... 1 1 1]\n",
      " [0 1 1 ... 1 1 1]\n",
      " [0 1 1 ... 1 1 1]\n",
      " ...\n",
      " [0 1 1 ... 1 1 1]\n",
      " [0 1 1 ... 1 1 1]\n",
      " [0 0 0 ... 0 0 0]]\n",
      "2020-12-14 22:10:01,281 [DEBUG] kashgari - predict seq_length: None, input: (2, 185, 32)\n"
     ]
    },
    {
     "name": "stdout",
     "output_type": "stream",
     "text": [
      "6/6 [==============================] - 0s 44ms/step\n"
     ]
    },
    {
     "name": "stderr",
     "output_type": "stream",
     "text": [
      "2020-12-14 22:10:01,636 [DEBUG] kashgari - predict output: (185, 32)\n",
      "2020-12-14 22:10:01,637 [DEBUG] kashgari - predict output argmax: [[0 1 1 ... 1 1 1]\n",
      " [0 1 1 ... 1 1 1]\n",
      " [0 1 1 ... 1 1 1]\n",
      " ...\n",
      " [0 1 1 ... 1 1 1]\n",
      " [0 1 1 ... 1 1 1]\n",
      " [0 0 0 ... 0 0 0]]\n",
      "2020-12-14 22:10:01,640 [DEBUG] kashgari - predict seq_length: None, input: (2, 148, 28)\n"
     ]
    },
    {
     "name": "stdout",
     "output_type": "stream",
     "text": [
      "5/5 [==============================] - 0s 40ms/step\n"
     ]
    },
    {
     "name": "stderr",
     "output_type": "stream",
     "text": [
      "2020-12-14 22:10:01,913 [DEBUG] kashgari - predict output: (148, 28)\n",
      "2020-12-14 22:10:01,914 [DEBUG] kashgari - predict output argmax: [[0 1 1 ... 1 1 1]\n",
      " [0 1 1 ... 1 1 1]\n",
      " [0 1 1 ... 1 1 1]\n",
      " ...\n",
      " [0 1 1 ... 1 1 1]\n",
      " [0 1 1 ... 1 1 1]\n",
      " [0 0 0 ... 0 0 0]]\n",
      "2020-12-14 22:10:01,918 [DEBUG] kashgari - predict seq_length: None, input: (2, 281, 23)\n"
     ]
    },
    {
     "name": "stdout",
     "output_type": "stream",
     "text": [
      "9/9 [==============================] - 0s 41ms/step\n"
     ]
    },
    {
     "name": "stderr",
     "output_type": "stream",
     "text": [
      "2020-12-14 22:10:02,369 [DEBUG] kashgari - predict output: (281, 23)\n",
      "2020-12-14 22:10:02,370 [DEBUG] kashgari - predict output argmax: [[0 1 1 ... 1 1 1]\n",
      " [0 1 1 ... 1 1 1]\n",
      " [0 1 1 ... 1 1 1]\n",
      " ...\n",
      " [0 1 0 ... 1 1 1]\n",
      " [0 1 1 ... 1 1 1]\n",
      " [0 0 0 ... 0 0 0]]\n",
      "2020-12-14 22:10:02,373 [DEBUG] kashgari - predict seq_length: None, input: (2, 116, 20)\n"
     ]
    },
    {
     "name": "stdout",
     "output_type": "stream",
     "text": [
      "4/4 [==============================] - 0s 30ms/step\n"
     ]
    },
    {
     "name": "stderr",
     "output_type": "stream",
     "text": [
      "2020-12-14 22:10:02,569 [DEBUG] kashgari - predict output: (116, 20)\n",
      "2020-12-14 22:10:02,569 [DEBUG] kashgari - predict output argmax: [[0 1 1 ... 1 1 1]\n",
      " [0 1 1 ... 1 1 1]\n",
      " [0 1 1 ... 1 1 1]\n",
      " ...\n",
      " [0 1 1 ... 1 1 1]\n",
      " [0 1 1 ... 1 1 1]\n",
      " [0 0 0 ... 0 0 0]]\n",
      "2020-12-14 22:10:02,572 [DEBUG] kashgari - predict seq_length: None, input: (2, 168, 25)\n"
     ]
    },
    {
     "name": "stdout",
     "output_type": "stream",
     "text": [
      "6/6 [==============================] - 0s 36ms/step\n"
     ]
    },
    {
     "name": "stderr",
     "output_type": "stream",
     "text": [
      "2020-12-14 22:10:02,881 [DEBUG] kashgari - predict output: (168, 25)\n",
      "2020-12-14 22:10:02,882 [DEBUG] kashgari - predict output argmax: [[0 1 1 ... 1 1 1]\n",
      " [0 1 1 ... 1 1 1]\n",
      " [0 3 2 ... 1 1 1]\n",
      " ...\n",
      " [0 1 1 ... 1 1 1]\n",
      " [0 1 1 ... 1 1 1]\n",
      " [0 0 0 ... 0 0 0]]\n",
      "2020-12-14 22:10:02,885 [DEBUG] kashgari - predict seq_length: None, input: (2, 218, 30)\n"
     ]
    },
    {
     "name": "stdout",
     "output_type": "stream",
     "text": [
      "7/7 [==============================] - 0s 43ms/step\n"
     ]
    },
    {
     "name": "stderr",
     "output_type": "stream",
     "text": [
      "2020-12-14 22:10:03,276 [DEBUG] kashgari - predict output: (218, 30)\n",
      "2020-12-14 22:10:03,277 [DEBUG] kashgari - predict output argmax: [[0 1 1 ... 1 1 1]\n",
      " [0 1 1 ... 1 1 1]\n",
      " [0 1 1 ... 1 1 1]\n",
      " ...\n",
      " [0 1 1 ... 1 1 1]\n",
      " [0 1 1 ... 1 1 1]\n",
      " [0 0 0 ... 0 0 0]]\n",
      "2020-12-14 22:10:03,280 [DEBUG] kashgari - predict seq_length: None, input: (2, 123, 32)\n"
     ]
    },
    {
     "name": "stdout",
     "output_type": "stream",
     "text": [
      "4/4 [==============================] - 0s 38ms/step\n"
     ]
    },
    {
     "name": "stderr",
     "output_type": "stream",
     "text": [
      "2020-12-14 22:10:03,522 [DEBUG] kashgari - predict output: (123, 32)\n",
      "2020-12-14 22:10:03,523 [DEBUG] kashgari - predict output argmax: [[0 1 1 ... 1 1 1]\n",
      " [0 1 1 ... 1 1 1]\n",
      " [0 1 1 ... 1 1 1]\n",
      " ...\n",
      " [0 1 1 ... 1 1 1]\n",
      " [0 1 1 ... 1 1 1]\n",
      " [0 0 0 ... 0 0 0]]\n",
      "2020-12-14 22:10:03,525 [DEBUG] kashgari - predict seq_length: None, input: (2, 82, 21)\n"
     ]
    },
    {
     "name": "stdout",
     "output_type": "stream",
     "text": [
      "3/3 [==============================] - 0s 27ms/step\n"
     ]
    },
    {
     "name": "stderr",
     "output_type": "stream",
     "text": [
      "2020-12-14 22:10:03,684 [DEBUG] kashgari - predict output: (82, 21)\n",
      "2020-12-14 22:10:03,686 [DEBUG] kashgari - predict output argmax: [[0 1 1 ... 1 1 1]\n",
      " [0 1 1 ... 1 1 1]\n",
      " [0 3 2 ... 1 1 1]\n",
      " ...\n",
      " [0 1 1 ... 1 1 1]\n",
      " [0 1 1 ... 1 1 1]\n",
      " [0 0 0 ... 0 0 0]]\n",
      "2020-12-14 22:10:03,688 [DEBUG] kashgari - predict seq_length: None, input: (2, 95, 19)\n"
     ]
    },
    {
     "name": "stdout",
     "output_type": "stream",
     "text": [
      "3/3 [==============================] - 0s 25ms/step\n"
     ]
    },
    {
     "name": "stderr",
     "output_type": "stream",
     "text": [
      "2020-12-14 22:10:03,832 [DEBUG] kashgari - predict output: (95, 19)\n",
      "2020-12-14 22:10:03,833 [DEBUG] kashgari - predict output argmax: [[0 1 1 ... 2 2 2]\n",
      " [0 3 2 ... 1 1 1]\n",
      " [0 1 1 ... 1 1 1]\n",
      " ...\n",
      " [0 1 0 ... 1 1 1]\n",
      " [0 1 1 ... 1 1 1]\n",
      " [0 0 0 ... 0 0 0]]\n",
      "2020-12-14 22:10:03,838 [DEBUG] kashgari - predict seq_length: None, input: (2, 245, 24)\n"
     ]
    },
    {
     "name": "stdout",
     "output_type": "stream",
     "text": [
      "8/8 [==============================] - 0s 41ms/step\n"
     ]
    },
    {
     "name": "stderr",
     "output_type": "stream",
     "text": [
      "2020-12-14 22:10:08,683 [DEBUG] kashgari - predict output: (245, 24)\n",
      "2020-12-14 22:10:08,684 [DEBUG] kashgari - predict output argmax: [[0 1 1 ... 1 1 1]\n",
      " [0 1 1 ... 1 1 1]\n",
      " [0 1 1 ... 1 1 1]\n",
      " ...\n",
      " [0 1 3 ... 5 5 5]\n",
      " [0 1 1 ... 1 1 1]\n",
      " [0 0 0 ... 0 0 0]]\n",
      "2020-12-14 22:10:08,687 [DEBUG] kashgari - predict seq_length: None, input: (2, 126, 31)\n"
     ]
    },
    {
     "name": "stdout",
     "output_type": "stream",
     "text": [
      "4/4 [==============================] - 0s 40ms/step\n"
     ]
    },
    {
     "name": "stderr",
     "output_type": "stream",
     "text": [
      "2020-12-14 22:10:08,929 [DEBUG] kashgari - predict output: (126, 31)\n",
      "2020-12-14 22:10:08,930 [DEBUG] kashgari - predict output argmax: [[0 1 1 ... 1 1 1]\n",
      " [0 1 1 ... 4 4 4]\n",
      " [0 1 1 ... 1 1 1]\n",
      " ...\n",
      " [0 1 3 ... 1 1 1]\n",
      " [0 1 1 ... 1 1 1]\n",
      " [0 0 0 ... 0 0 0]]\n",
      "2020-12-14 22:10:08,931 [DEBUG] kashgari - predict seq_length: None, input: (2, 64, 19)\n"
     ]
    },
    {
     "name": "stdout",
     "output_type": "stream",
     "text": [
      "2/2 [==============================] - 0s 19ms/step\n"
     ]
    },
    {
     "name": "stderr",
     "output_type": "stream",
     "text": [
      "2020-12-14 22:10:11,949 [DEBUG] kashgari - predict output: (64, 19)\n",
      "2020-12-14 22:10:11,950 [DEBUG] kashgari - predict output argmax: [[0 1 1 ... 1 1 1]\n",
      " [0 1 1 ... 1 1 1]\n",
      " [0 1 1 ... 1 1 1]\n",
      " ...\n",
      " [0 1 1 ... 1 1 1]\n",
      " [0 1 1 ... 1 1 1]\n",
      " [0 0 0 ... 0 0 0]]\n",
      "2020-12-14 22:10:11,952 [DEBUG] kashgari - predict seq_length: None, input: (2, 93, 24)\n"
     ]
    },
    {
     "name": "stdout",
     "output_type": "stream",
     "text": [
      "3/3 [==============================] - 0s 32ms/step\n"
     ]
    },
    {
     "name": "stderr",
     "output_type": "stream",
     "text": [
      "2020-12-14 22:10:12,126 [DEBUG] kashgari - predict output: (93, 24)\n",
      "2020-12-14 22:10:12,127 [DEBUG] kashgari - predict output argmax: [[0 1 1 ... 1 1 1]\n",
      " [0 1 1 ... 1 1 1]\n",
      " [0 1 1 ... 1 1 1]\n",
      " ...\n",
      " [0 1 1 ... 1 1 1]\n",
      " [0 1 1 ... 1 1 1]\n",
      " [0 0 0 ... 0 0 0]]\n",
      "2020-12-14 22:10:12,132 [DEBUG] kashgari - predict seq_length: None, input: (2, 214, 16)\n"
     ]
    },
    {
     "name": "stdout",
     "output_type": "stream",
     "text": [
      "7/7 [==============================] - 0s 33ms/step\n"
     ]
    },
    {
     "name": "stderr",
     "output_type": "stream",
     "text": [
      "2020-12-14 22:10:12,439 [DEBUG] kashgari - predict output: (214, 16)\n",
      "2020-12-14 22:10:12,440 [DEBUG] kashgari - predict output argmax: [[0 1 1 ... 1 1 1]\n",
      " [0 1 1 ... 1 1 1]\n",
      " [0 1 1 ... 1 1 1]\n",
      " ...\n",
      " [0 1 1 ... 1 1 1]\n",
      " [0 1 1 ... 1 1 1]\n",
      " [0 0 0 ... 0 0 0]]\n",
      "2020-12-14 22:10:12,442 [DEBUG] kashgari - predict seq_length: None, input: (2, 53, 20)\n"
     ]
    },
    {
     "name": "stdout",
     "output_type": "stream",
     "text": [
      "2/2 [==============================] - 0s 18ms/step\n"
     ]
    },
    {
     "name": "stderr",
     "output_type": "stream",
     "text": [
      "2020-12-14 22:10:12,548 [DEBUG] kashgari - predict output: (53, 20)\n",
      "2020-12-14 22:10:12,549 [DEBUG] kashgari - predict output argmax: [[0 1 1 ... 1 1 1]\n",
      " [0 1 1 ... 1 1 1]\n",
      " [0 1 1 ... 1 1 1]\n",
      " ...\n",
      " [0 1 1 ... 1 1 1]\n",
      " [0 1 1 ... 1 1 1]\n",
      " [0 0 0 ... 0 0 0]]\n",
      "2020-12-14 22:10:12,556 [DEBUG] kashgari - predict seq_length: None, input: (2, 384, 18)\n"
     ]
    },
    {
     "name": "stdout",
     "output_type": "stream",
     "text": [
      "12/12 [==============================] - 0s 27ms/step\n"
     ]
    },
    {
     "name": "stderr",
     "output_type": "stream",
     "text": [
      "2020-12-14 22:10:16,144 [DEBUG] kashgari - predict output: (384, 18)\n",
      "2020-12-14 22:10:16,145 [DEBUG] kashgari - predict output argmax: [[0 1 1 ... 1 1 1]\n",
      " [0 1 1 ... 1 1 1]\n",
      " [0 1 1 ... 1 1 1]\n",
      " ...\n",
      " [0 1 1 ... 1 1 1]\n",
      " [0 1 1 ... 1 1 1]\n",
      " [0 0 0 ... 0 0 0]]\n",
      "2020-12-14 22:10:16,148 [DEBUG] kashgari - predict seq_length: None, input: (2, 172, 24)\n"
     ]
    },
    {
     "name": "stdout",
     "output_type": "stream",
     "text": [
      "6/6 [==============================] - 0s 37ms/step\n"
     ]
    },
    {
     "name": "stderr",
     "output_type": "stream",
     "text": [
      "2020-12-14 22:10:16,442 [DEBUG] kashgari - predict output: (172, 24)\n",
      "2020-12-14 22:10:16,443 [DEBUG] kashgari - predict output argmax: [[0 1 1 ... 5 5 5]\n",
      " [0 1 1 ... 1 1 1]\n",
      " [0 1 1 ... 1 1 1]\n",
      " ...\n",
      " [0 1 1 ... 1 1 1]\n",
      " [0 1 1 ... 1 1 1]\n",
      " [0 0 0 ... 0 0 0]]\n",
      "2020-12-14 22:10:16,445 [DEBUG] kashgari - predict seq_length: None, input: (2, 114, 24)\n"
     ]
    },
    {
     "name": "stdout",
     "output_type": "stream",
     "text": [
      "4/4 [==============================] - 0s 31ms/step\n"
     ]
    },
    {
     "name": "stderr",
     "output_type": "stream",
     "text": [
      "2020-12-14 22:10:16,646 [DEBUG] kashgari - predict output: (114, 24)\n",
      "2020-12-14 22:10:16,647 [DEBUG] kashgari - predict output argmax: [[0 1 1 ... 1 1 1]\n",
      " [0 1 1 ... 1 1 0]\n",
      " [0 1 1 ... 1 1 1]\n",
      " ...\n",
      " [0 1 1 ... 1 1 1]\n",
      " [0 1 1 ... 2 2 2]\n",
      " [0 0 0 ... 0 0 0]]\n",
      "2020-12-14 22:10:16,650 [DEBUG] kashgari - predict seq_length: None, input: (2, 111, 47)\n"
     ]
    },
    {
     "name": "stdout",
     "output_type": "stream",
     "text": [
      "4/4 [==============================] - 0s 48ms/step\n"
     ]
    },
    {
     "name": "stderr",
     "output_type": "stream",
     "text": [
      "2020-12-14 22:10:16,955 [DEBUG] kashgari - predict output: (111, 47)\n",
      "2020-12-14 22:10:16,956 [DEBUG] kashgari - predict output argmax: [[0 1 1 ... 2 2 2]\n",
      " [0 1 1 ... 1 1 1]\n",
      " [0 1 0 ... 1 1 1]\n",
      " ...\n",
      " [0 1 1 ... 1 1 1]\n",
      " [0 1 1 ... 1 1 1]\n",
      " [0 0 0 ... 0 0 0]]\n",
      "2020-12-14 22:10:16,962 [DEBUG] kashgari - predict seq_length: None, input: (2, 350, 34)\n"
     ]
    },
    {
     "name": "stdout",
     "output_type": "stream",
     "text": [
      "11/11 [==============================] - 1s 51ms/step\n"
     ]
    },
    {
     "name": "stderr",
     "output_type": "stream",
     "text": [
      "2020-12-14 22:10:17,613 [DEBUG] kashgari - predict output: (350, 34)\n",
      "2020-12-14 22:10:17,614 [DEBUG] kashgari - predict output argmax: [[ 0  1  1 ...  1  1  1]\n",
      " [ 0  1  1 ...  1  1  1]\n",
      " [ 0  1  1 ...  1  1  1]\n",
      " ...\n",
      " [ 0  1  1 ... 16 16 16]\n",
      " [ 0  1  1 ...  1  1  1]\n",
      " [ 0  0  0 ...  0  0  0]]\n",
      "2020-12-14 22:10:17,617 [DEBUG] kashgari - predict seq_length: None, input: (2, 56, 20)\n"
     ]
    },
    {
     "name": "stdout",
     "output_type": "stream",
     "text": [
      "2/2 [==============================] - 0s 18ms/step\n"
     ]
    },
    {
     "name": "stderr",
     "output_type": "stream",
     "text": [
      "2020-12-14 22:10:17,718 [DEBUG] kashgari - predict output: (56, 20)\n",
      "2020-12-14 22:10:17,719 [DEBUG] kashgari - predict output argmax: [[0 1 1 ... 1 1 1]\n",
      " [0 1 1 ... 1 1 1]\n",
      " [0 1 1 ... 1 1 1]\n",
      " ...\n",
      " [0 1 1 ... 1 1 1]\n",
      " [0 1 1 ... 1 1 1]\n",
      " [0 0 0 ... 0 0 0]]\n",
      "2020-12-14 22:10:17,722 [DEBUG] kashgari - predict seq_length: None, input: (2, 131, 17)\n"
     ]
    },
    {
     "name": "stdout",
     "output_type": "stream",
     "text": [
      "5/5 [==============================] - 0s 32ms/step\n"
     ]
    },
    {
     "name": "stderr",
     "output_type": "stream",
     "text": [
      "2020-12-14 22:10:17,952 [DEBUG] kashgari - predict output: (131, 17)\n",
      "2020-12-14 22:10:17,952 [DEBUG] kashgari - predict output argmax: [[0 1 1 ... 1 1 1]\n",
      " [0 1 1 ... 1 1 1]\n",
      " [0 1 1 ... 1 1 1]\n",
      " ...\n",
      " [0 1 1 ... 1 1 1]\n",
      " [0 1 1 ... 1 1 1]\n",
      " [0 0 0 ... 0 0 0]]\n",
      "2020-12-14 22:10:17,955 [DEBUG] kashgari - predict seq_length: None, input: (2, 184, 34)\n"
     ]
    },
    {
     "name": "stdout",
     "output_type": "stream",
     "text": [
      "6/6 [==============================] - 0s 47ms/step\n"
     ]
    },
    {
     "name": "stderr",
     "output_type": "stream",
     "text": [
      "2020-12-14 22:10:18,325 [DEBUG] kashgari - predict output: (184, 34)\n",
      "2020-12-14 22:10:18,326 [DEBUG] kashgari - predict output argmax: [[0 1 1 ... 1 1 1]\n",
      " [0 1 1 ... 1 1 1]\n",
      " [0 1 1 ... 1 1 1]\n",
      " ...\n",
      " [0 1 1 ... 1 1 1]\n",
      " [0 1 1 ... 1 1 1]\n",
      " [0 0 0 ... 0 0 0]]\n",
      "2020-12-14 22:10:18,329 [DEBUG] kashgari - predict seq_length: None, input: (2, 133, 51)\n"
     ]
    },
    {
     "name": "stdout",
     "output_type": "stream",
     "text": [
      "5/5 [==============================] - 0s 59ms/step\n"
     ]
    },
    {
     "name": "stderr",
     "output_type": "stream",
     "text": [
      "2020-12-14 22:10:23,170 [DEBUG] kashgari - predict output: (133, 51)\n",
      "2020-12-14 22:10:23,171 [DEBUG] kashgari - predict output argmax: [[0 1 1 ... 1 1 1]\n",
      " [0 1 1 ... 2 2 2]\n",
      " [0 1 1 ... 1 1 1]\n",
      " ...\n",
      " [0 1 0 ... 1 1 1]\n",
      " [0 1 1 ... 1 1 1]\n",
      " [0 0 0 ... 0 0 0]]\n",
      "2020-12-14 22:10:23,175 [DEBUG] kashgari - predict seq_length: None, input: (2, 210, 53)\n"
     ]
    },
    {
     "name": "stdout",
     "output_type": "stream",
     "text": [
      "7/7 [==============================] - 0s 69ms/step\n"
     ]
    },
    {
     "name": "stderr",
     "output_type": "stream",
     "text": [
      "2020-12-14 22:10:28,079 [DEBUG] kashgari - predict output: (210, 53)\n",
      "2020-12-14 22:10:28,080 [DEBUG] kashgari - predict output argmax: [[0 1 1 ... 1 1 1]\n",
      " [0 1 1 ... 1 1 1]\n",
      " [0 1 1 ... 5 5 5]\n",
      " ...\n",
      " [0 1 1 ... 1 1 1]\n",
      " [0 1 1 ... 1 1 1]\n",
      " [0 0 0 ... 0 0 0]]\n",
      "2020-12-14 22:10:28,084 [DEBUG] kashgari - predict seq_length: None, input: (2, 193, 55)\n"
     ]
    },
    {
     "name": "stdout",
     "output_type": "stream",
     "text": [
      "7/7 [==============================] - 0s 65ms/step\n"
     ]
    },
    {
     "name": "stderr",
     "output_type": "stream",
     "text": [
      "2020-12-14 22:10:28,654 [DEBUG] kashgari - predict output: (193, 55)\n",
      "2020-12-14 22:10:28,656 [DEBUG] kashgari - predict output argmax: [[0 1 1 ... 1 1 1]\n",
      " [0 1 1 ... 4 4 4]\n",
      " [0 1 1 ... 1 1 1]\n",
      " ...\n",
      " [0 1 1 ... 1 1 1]\n",
      " [0 1 1 ... 1 1 1]\n",
      " [0 0 0 ... 0 0 0]]\n",
      "2020-12-14 22:10:28,658 [DEBUG] kashgari - predict seq_length: None, input: (2, 75, 30)\n"
     ]
    },
    {
     "name": "stdout",
     "output_type": "stream",
     "text": [
      "3/3 [==============================] - 0s 30ms/step\n"
     ]
    },
    {
     "name": "stderr",
     "output_type": "stream",
     "text": [
      "2020-12-14 22:10:28,828 [DEBUG] kashgari - predict output: (75, 30)\n",
      "2020-12-14 22:10:28,829 [DEBUG] kashgari - predict output argmax: [[0 1 1 ... 1 1 1]\n",
      " [0 1 1 ... 1 1 1]\n",
      " [0 1 1 ... 0 1 1]\n",
      " ...\n",
      " [0 1 0 ... 1 1 1]\n",
      " [0 1 1 ... 1 1 1]\n",
      " [0 0 0 ... 0 0 0]]\n",
      "2020-12-14 22:10:28,835 [DEBUG] kashgari - predict seq_length: None, input: (2, 280, 46)\n"
     ]
    },
    {
     "name": "stdout",
     "output_type": "stream",
     "text": [
      "9/9 [==============================] - 1s 65ms/step\n"
     ]
    },
    {
     "name": "stderr",
     "output_type": "stream",
     "text": [
      "2020-12-14 22:10:29,530 [DEBUG] kashgari - predict output: (280, 46)\n",
      "2020-12-14 22:10:29,531 [DEBUG] kashgari - predict output argmax: [[0 1 1 ... 1 1 1]\n",
      " [0 1 1 ... 1 1 1]\n",
      " [0 1 1 ... 1 1 1]\n",
      " ...\n",
      " [0 1 1 ... 1 1 1]\n",
      " [0 1 1 ... 1 1 1]\n",
      " [0 0 0 ... 0 0 0]]\n",
      "2020-12-14 22:10:29,535 [DEBUG] kashgari - predict seq_length: None, input: (2, 210, 20)\n"
     ]
    },
    {
     "name": "stdout",
     "output_type": "stream",
     "text": [
      "7/7 [==============================] - 0s 35ms/step\n"
     ]
    },
    {
     "name": "stderr",
     "output_type": "stream",
     "text": [
      "2020-12-14 22:10:29,861 [DEBUG] kashgari - predict output: (210, 20)\n",
      "2020-12-14 22:10:29,862 [DEBUG] kashgari - predict output argmax: [[0 1 1 ... 1 1 1]\n",
      " [0 1 1 ... 1 1 1]\n",
      " [0 1 0 ... 1 1 1]\n",
      " ...\n",
      " [0 1 0 ... 1 1 1]\n",
      " [0 1 1 ... 1 1 1]\n",
      " [0 0 0 ... 0 0 0]]\n",
      "2020-12-14 22:10:29,866 [DEBUG] kashgari - predict seq_length: None, input: (2, 176, 24)\n"
     ]
    },
    {
     "name": "stdout",
     "output_type": "stream",
     "text": [
      "6/6 [==============================] - 0s 37ms/step\n"
     ]
    },
    {
     "name": "stderr",
     "output_type": "stream",
     "text": [
      "2020-12-14 22:10:30,161 [DEBUG] kashgari - predict output: (176, 24)\n",
      "2020-12-14 22:10:30,162 [DEBUG] kashgari - predict output argmax: [[0 1 1 ... 1 1 1]\n",
      " [0 1 1 ... 1 1 1]\n",
      " [0 1 1 ... 1 1 1]\n",
      " ...\n",
      " [0 1 1 ... 1 1 1]\n",
      " [0 1 1 ... 1 1 1]\n",
      " [0 0 0 ... 0 0 0]]\n",
      "2020-12-14 22:10:30,167 [DEBUG] kashgari - predict seq_length: None, input: (2, 218, 25)\n"
     ]
    },
    {
     "name": "stdout",
     "output_type": "stream",
     "text": [
      "7/7 [==============================] - 0s 38ms/step\n"
     ]
    },
    {
     "name": "stderr",
     "output_type": "stream",
     "text": [
      "2020-12-14 22:10:30,529 [DEBUG] kashgari - predict output: (218, 25)\n",
      "2020-12-14 22:10:30,530 [DEBUG] kashgari - predict output argmax: [[0 1 1 ... 1 1 1]\n",
      " [0 1 1 ... 1 1 1]\n",
      " [0 1 1 ... 1 1 1]\n",
      " ...\n",
      " [0 1 1 ... 1 1 1]\n",
      " [0 1 1 ... 1 1 1]\n",
      " [0 0 0 ... 0 0 0]]\n",
      "2020-12-14 22:10:30,532 [DEBUG] kashgari - predict seq_length: None, input: (2, 91, 23)\n"
     ]
    },
    {
     "name": "stdout",
     "output_type": "stream",
     "text": [
      "3/3 [==============================] - 0s 29ms/step\n"
     ]
    },
    {
     "name": "stderr",
     "output_type": "stream",
     "text": [
      "2020-12-14 22:10:30,697 [DEBUG] kashgari - predict output: (91, 23)\n",
      "2020-12-14 22:10:30,698 [DEBUG] kashgari - predict output argmax: [[0 1 1 ... 1 1 1]\n",
      " [0 1 1 ... 1 1 1]\n",
      " [0 1 1 ... 1 1 1]\n",
      " ...\n",
      " [0 1 1 ... 1 1 1]\n",
      " [0 1 1 ... 1 1 1]\n",
      " [0 0 0 ... 0 0 0]]\n",
      "2020-12-14 22:10:30,701 [DEBUG] kashgari - predict seq_length: None, input: (2, 194, 28)\n"
     ]
    },
    {
     "name": "stdout",
     "output_type": "stream",
     "text": [
      "7/7 [==============================] - 0s 41ms/step\n"
     ]
    },
    {
     "name": "stderr",
     "output_type": "stream",
     "text": [
      "2020-12-14 22:10:31,065 [DEBUG] kashgari - predict output: (194, 28)\n",
      "2020-12-14 22:10:31,066 [DEBUG] kashgari - predict output argmax: [[0 1 1 ... 1 1 1]\n",
      " [0 1 1 ... 1 1 1]\n",
      " [0 1 1 ... 1 1 1]\n",
      " ...\n",
      " [0 3 2 ... 1 1 1]\n",
      " [0 1 1 ... 1 1 1]\n",
      " [0 0 0 ... 0 0 0]]\n",
      "2020-12-14 22:10:31,070 [DEBUG] kashgari - predict seq_length: None, input: (2, 179, 23)\n"
     ]
    },
    {
     "name": "stdout",
     "output_type": "stream",
     "text": [
      "6/6 [==============================] - 0s 39ms/step\n"
     ]
    },
    {
     "name": "stderr",
     "output_type": "stream",
     "text": [
      "2020-12-14 22:10:31,379 [DEBUG] kashgari - predict output: (179, 23)\n",
      "2020-12-14 22:10:31,380 [DEBUG] kashgari - predict output argmax: [[0 1 1 ... 1 1 1]\n",
      " [0 1 1 ... 1 1 1]\n",
      " [0 1 1 ... 1 1 1]\n",
      " ...\n",
      " [0 1 1 ... 1 1 1]\n",
      " [0 1 1 ... 1 1 1]\n",
      " [0 0 0 ... 0 0 0]]\n",
      "2020-12-14 22:10:31,384 [DEBUG] kashgari - predict seq_length: None, input: (2, 234, 40)\n"
     ]
    },
    {
     "name": "stdout",
     "output_type": "stream",
     "text": [
      "8/8 [==============================] - 0s 54ms/step\n"
     ]
    },
    {
     "name": "stderr",
     "output_type": "stream",
     "text": [
      "2020-12-14 22:10:31,906 [DEBUG] kashgari - predict output: (234, 40)\n",
      "2020-12-14 22:10:31,907 [DEBUG] kashgari - predict output argmax: [[0 1 1 ... 1 1 1]\n",
      " [0 1 1 ... 1 1 1]\n",
      " [0 1 1 ... 1 1 1]\n",
      " ...\n",
      " [0 1 1 ... 1 1 1]\n",
      " [0 1 1 ... 1 1 1]\n",
      " [0 0 0 ... 0 0 0]]\n",
      "2020-12-14 22:10:31,911 [DEBUG] kashgari - predict seq_length: None, input: (2, 250, 26)\n"
     ]
    },
    {
     "name": "stdout",
     "output_type": "stream",
     "text": [
      "8/8 [==============================] - 0s 44ms/step\n"
     ]
    },
    {
     "name": "stderr",
     "output_type": "stream",
     "text": [
      "2020-12-14 22:10:32,341 [DEBUG] kashgari - predict output: (250, 26)\n",
      "2020-12-14 22:10:32,342 [DEBUG] kashgari - predict output argmax: [[0 1 1 ... 1 1 1]\n",
      " [0 1 0 ... 1 1 1]\n",
      " [0 1 1 ... 1 1 1]\n",
      " ...\n",
      " [0 1 1 ... 1 1 1]\n",
      " [0 1 1 ... 1 1 1]\n",
      " [0 0 0 ... 0 0 0]]\n",
      "2020-12-14 22:10:32,345 [DEBUG] kashgari - predict seq_length: None, input: (2, 170, 43)\n"
     ]
    },
    {
     "name": "stdout",
     "output_type": "stream",
     "text": [
      "6/6 [==============================] - 0s 53ms/step\n"
     ]
    },
    {
     "name": "stderr",
     "output_type": "stream",
     "text": [
      "2020-12-14 22:10:32,760 [DEBUG] kashgari - predict output: (170, 43)\n",
      "2020-12-14 22:10:32,761 [DEBUG] kashgari - predict output argmax: [[0 1 1 ... 1 1 1]\n",
      " [0 1 1 ... 1 1 1]\n",
      " [0 1 1 ... 1 1 0]\n",
      " ...\n",
      " [0 1 1 ... 1 1 1]\n",
      " [0 1 1 ... 1 1 1]\n",
      " [0 0 0 ... 0 0 0]]\n",
      "2020-12-14 22:10:32,763 [DEBUG] kashgari - predict seq_length: None, input: (2, 145, 34)\n"
     ]
    },
    {
     "name": "stdout",
     "output_type": "stream",
     "text": [
      "5/5 [==============================] - 0s 44ms/step\n"
     ]
    },
    {
     "name": "stderr",
     "output_type": "stream",
     "text": [
      "2020-12-14 22:10:33,066 [DEBUG] kashgari - predict output: (145, 34)\n",
      "2020-12-14 22:10:33,067 [DEBUG] kashgari - predict output argmax: [[0 1 1 ... 5 5 5]\n",
      " [0 3 2 ... 1 1 1]\n",
      " [0 1 1 ... 1 1 1]\n",
      " ...\n",
      " [0 1 1 ... 1 1 1]\n",
      " [0 1 0 ... 1 1 1]\n",
      " [0 0 0 ... 0 0 0]]\n",
      "2020-12-14 22:10:33,070 [DEBUG] kashgari - predict seq_length: None, input: (2, 102, 29)\n"
     ]
    },
    {
     "name": "stdout",
     "output_type": "stream",
     "text": [
      "4/4 [==============================] - 0s 37ms/step\n"
     ]
    },
    {
     "name": "stderr",
     "output_type": "stream",
     "text": [
      "2020-12-14 22:10:33,309 [DEBUG] kashgari - predict output: (102, 29)\n",
      "2020-12-14 22:10:33,310 [DEBUG] kashgari - predict output argmax: [[0 1 1 ... 1 1 1]\n",
      " [0 1 1 ... 1 1 1]\n",
      " [0 1 1 ... 1 1 1]\n",
      " ...\n",
      " [0 1 1 ... 1 1 1]\n",
      " [0 1 1 ... 1 1 1]\n",
      " [0 0 0 ... 0 0 0]]\n",
      "2020-12-14 22:10:33,315 [DEBUG] kashgari - predict seq_length: None, input: (2, 340, 20)\n"
     ]
    },
    {
     "name": "stdout",
     "output_type": "stream",
     "text": [
      "11/11 [==============================] - 0s 37ms/step\n"
     ]
    },
    {
     "name": "stderr",
     "output_type": "stream",
     "text": [
      "2020-12-14 22:10:33,805 [DEBUG] kashgari - predict output: (340, 20)\n",
      "2020-12-14 22:10:33,806 [DEBUG] kashgari - predict output argmax: [[0 1 1 ... 1 1 1]\n",
      " [0 1 1 ... 1 1 1]\n",
      " [0 1 1 ... 1 1 1]\n",
      " ...\n",
      " [0 1 1 ... 1 1 1]\n",
      " [0 1 1 ... 1 1 1]\n",
      " [0 0 0 ... 0 0 0]]\n",
      "2020-12-14 22:10:33,809 [DEBUG] kashgari - predict seq_length: None, input: (2, 122, 23)\n"
     ]
    },
    {
     "name": "stdout",
     "output_type": "stream",
     "text": [
      "4/4 [==============================] - 0s 32ms/step\n"
     ]
    },
    {
     "name": "stderr",
     "output_type": "stream",
     "text": [
      "2020-12-14 22:10:34,020 [DEBUG] kashgari - predict output: (122, 23)\n",
      "2020-12-14 22:10:34,021 [DEBUG] kashgari - predict output argmax: [[0 1 1 ... 5 5 5]\n",
      " [0 1 1 ... 1 1 1]\n",
      " [0 1 1 ... 1 1 1]\n",
      " ...\n",
      " [0 1 1 ... 1 1 1]\n",
      " [0 1 1 ... 1 1 1]\n",
      " [0 0 0 ... 0 0 0]]\n",
      "2020-12-14 22:10:34,026 [DEBUG] kashgari - predict seq_length: None, input: (2, 381, 28)\n"
     ]
    },
    {
     "name": "stdout",
     "output_type": "stream",
     "text": [
      "12/12 [==============================] - 1s 46ms/step\n"
     ]
    },
    {
     "name": "stderr",
     "output_type": "stream",
     "text": [
      "2020-12-14 22:10:34,671 [DEBUG] kashgari - predict output: (381, 28)\n",
      "2020-12-14 22:10:34,673 [DEBUG] kashgari - predict output argmax: [[0 1 1 ... 1 1 1]\n",
      " [0 1 1 ... 1 1 1]\n",
      " [0 1 1 ... 1 1 1]\n",
      " ...\n",
      " [0 1 1 ... 1 1 1]\n",
      " [0 1 0 ... 1 1 1]\n",
      " [0 0 0 ... 0 0 0]]\n",
      "2020-12-14 22:10:34,676 [DEBUG] kashgari - predict seq_length: None, input: (2, 244, 27)\n"
     ]
    },
    {
     "name": "stdout",
     "output_type": "stream",
     "text": [
      "8/8 [==============================] - 0s 41ms/step\n"
     ]
    },
    {
     "name": "stderr",
     "output_type": "stream",
     "text": [
      "2020-12-14 22:10:35,087 [DEBUG] kashgari - predict output: (244, 27)\n",
      "2020-12-14 22:10:35,088 [DEBUG] kashgari - predict output argmax: [[0 1 1 ... 1 1 1]\n",
      " [0 1 1 ... 1 1 1]\n",
      " [0 1 1 ... 1 1 1]\n",
      " ...\n",
      " [0 1 1 ... 1 1 1]\n",
      " [0 1 1 ... 1 1 1]\n",
      " [0 0 0 ... 0 0 0]]\n",
      "2020-12-14 22:10:35,091 [DEBUG] kashgari - predict seq_length: None, input: (2, 91, 46)\n"
     ]
    },
    {
     "name": "stdout",
     "output_type": "stream",
     "text": [
      "3/3 [==============================] - 0s 47ms/step\n"
     ]
    },
    {
     "name": "stderr",
     "output_type": "stream",
     "text": [
      "2020-12-14 22:10:35,332 [DEBUG] kashgari - predict output: (91, 46)\n",
      "2020-12-14 22:10:35,333 [DEBUG] kashgari - predict output argmax: [[0 1 1 ... 1 1 1]\n",
      " [0 1 1 ... 1 1 1]\n",
      " [0 1 1 ... 1 1 1]\n",
      " ...\n",
      " [0 1 1 ... 1 1 1]\n",
      " [0 1 1 ... 1 1 1]\n",
      " [0 0 0 ... 0 0 0]]\n",
      "2020-12-14 22:10:35,337 [DEBUG] kashgari - predict seq_length: None, input: (2, 223, 42)\n"
     ]
    },
    {
     "name": "stdout",
     "output_type": "stream",
     "text": [
      "7/7 [==============================] - 0s 54ms/step\n"
     ]
    },
    {
     "name": "stderr",
     "output_type": "stream",
     "text": [
      "2020-12-14 22:10:35,811 [DEBUG] kashgari - predict output: (223, 42)\n",
      "2020-12-14 22:10:35,811 [DEBUG] kashgari - predict output argmax: [[0 1 1 ... 1 1 1]\n",
      " [0 1 1 ... 1 1 1]\n",
      " [0 1 0 ... 1 1 1]\n",
      " ...\n",
      " [0 1 1 ... 1 1 1]\n",
      " [0 1 1 ... 1 1 1]\n",
      " [0 0 0 ... 0 0 0]]\n",
      "2020-12-14 22:10:35,815 [DEBUG] kashgari - predict seq_length: None, input: (2, 146, 25)\n"
     ]
    },
    {
     "name": "stdout",
     "output_type": "stream",
     "text": [
      "5/5 [==============================] - 0s 37ms/step\n"
     ]
    },
    {
     "name": "stderr",
     "output_type": "stream",
     "text": [
      "2020-12-14 22:10:36,071 [DEBUG] kashgari - predict output: (146, 25)\n",
      "2020-12-14 22:10:36,072 [DEBUG] kashgari - predict output argmax: [[0 1 1 ... 2 2 2]\n",
      " [0 1 1 ... 1 1 1]\n",
      " [0 1 1 ... 1 1 1]\n",
      " ...\n",
      " [0 1 1 ... 1 1 1]\n",
      " [0 1 1 ... 1 1 1]\n",
      " [0 0 0 ... 0 0 0]]\n",
      "2020-12-14 22:10:36,075 [DEBUG] kashgari - predict seq_length: None, input: (2, 162, 23)\n"
     ]
    },
    {
     "name": "stdout",
     "output_type": "stream",
     "text": [
      "6/6 [==============================] - 0s 37ms/step\n"
     ]
    },
    {
     "name": "stderr",
     "output_type": "stream",
     "text": [
      "2020-12-14 22:10:36,387 [DEBUG] kashgari - predict output: (162, 23)\n",
      "2020-12-14 22:10:36,387 [DEBUG] kashgari - predict output argmax: [[0 1 1 ... 1 1 1]\n",
      " [0 1 1 ... 1 1 1]\n",
      " [0 1 1 ... 1 1 1]\n",
      " ...\n",
      " [0 1 1 ... 1 1 1]\n",
      " [0 1 1 ... 1 1 1]\n",
      " [0 0 0 ... 0 0 0]]\n",
      "2020-12-14 22:10:36,393 [DEBUG] kashgari - predict seq_length: None, input: (2, 244, 27)\n"
     ]
    },
    {
     "name": "stdout",
     "output_type": "stream",
     "text": [
      "8/8 [==============================] - 0s 43ms/step\n"
     ]
    },
    {
     "name": "stderr",
     "output_type": "stream",
     "text": [
      "2020-12-14 22:10:36,815 [DEBUG] kashgari - predict output: (244, 27)\n",
      "2020-12-14 22:10:36,816 [DEBUG] kashgari - predict output argmax: [[0 1 1 ... 1 1 1]\n",
      " [0 9 5 ... 5 5 5]\n",
      " [0 1 1 ... 1 1 1]\n",
      " ...\n",
      " [0 1 1 ... 1 1 1]\n",
      " [0 1 1 ... 0 1 1]\n",
      " [0 0 0 ... 0 0 0]]\n",
      "2020-12-14 22:10:36,820 [DEBUG] kashgari - predict seq_length: None, input: (2, 170, 18)\n"
     ]
    },
    {
     "name": "stdout",
     "output_type": "stream",
     "text": [
      "6/6 [==============================] - 0s 35ms/step\n"
     ]
    },
    {
     "name": "stderr",
     "output_type": "stream",
     "text": [
      "2020-12-14 22:10:41,450 [DEBUG] kashgari - predict output: (170, 18)\n",
      "2020-12-14 22:10:41,451 [DEBUG] kashgari - predict output argmax: [[0 1 1 ... 0 1 1]\n",
      " [0 1 1 ... 1 1 1]\n",
      " [0 1 1 ... 1 1 1]\n",
      " ...\n",
      " [0 1 1 ... 1 1 1]\n",
      " [0 1 1 ... 1 1 1]\n",
      " [0 0 0 ... 0 0 0]]\n",
      "2020-12-14 22:10:41,455 [DEBUG] kashgari - predict seq_length: None, input: (2, 199, 36)\n"
     ]
    },
    {
     "name": "stdout",
     "output_type": "stream",
     "text": [
      "7/7 [==============================] - 0s 49ms/step\n"
     ]
    },
    {
     "name": "stderr",
     "output_type": "stream",
     "text": [
      "2020-12-14 22:10:41,896 [DEBUG] kashgari - predict output: (199, 36)\n",
      "2020-12-14 22:10:41,897 [DEBUG] kashgari - predict output argmax: [[0 1 1 ... 1 1 1]\n",
      " [0 1 1 ... 1 1 1]\n",
      " [0 1 1 ... 1 1 1]\n",
      " ...\n",
      " [0 1 1 ... 1 1 1]\n",
      " [0 1 1 ... 1 1 1]\n",
      " [0 0 0 ... 0 0 0]]\n",
      "2020-12-14 22:10:41,902 [DEBUG] kashgari - predict seq_length: None, input: (2, 557, 17)\n"
     ]
    },
    {
     "name": "stdout",
     "output_type": "stream",
     "text": [
      "18/18 [==============================] - 1s 36ms/step\n"
     ]
    },
    {
     "name": "stderr",
     "output_type": "stream",
     "text": [
      "2020-12-14 22:10:42,605 [DEBUG] kashgari - predict output: (557, 17)\n",
      "2020-12-14 22:10:42,606 [DEBUG] kashgari - predict output argmax: [[0 1 1 ... 1 1 1]\n",
      " [0 1 0 ... 1 1 1]\n",
      " [0 9 5 ... 5 5 5]\n",
      " ...\n",
      " [0 1 1 ... 1 1 1]\n",
      " [0 1 1 ... 1 1 1]\n",
      " [0 0 0 ... 0 0 0]]\n",
      "2020-12-14 22:10:42,613 [DEBUG] kashgari - predict seq_length: None, input: (2, 278, 42)\n"
     ]
    },
    {
     "name": "stdout",
     "output_type": "stream",
     "text": [
      "9/9 [==============================] - 0s 54ms/step\n"
     ]
    },
    {
     "name": "stderr",
     "output_type": "stream",
     "text": [
      "2020-12-14 22:10:43,202 [DEBUG] kashgari - predict output: (278, 42)\n",
      "2020-12-14 22:10:43,203 [DEBUG] kashgari - predict output argmax: [[0 1 1 ... 1 1 1]\n",
      " [0 1 1 ... 1 1 1]\n",
      " [0 1 1 ... 1 1 1]\n",
      " ...\n",
      " [0 1 0 ... 1 1 1]\n",
      " [0 1 1 ... 1 1 1]\n",
      " [0 0 0 ... 0 0 0]]\n",
      "2020-12-14 22:10:43,205 [DEBUG] kashgari - predict seq_length: None, input: (2, 91, 19)\n"
     ]
    },
    {
     "name": "stdout",
     "output_type": "stream",
     "text": [
      "3/3 [==============================] - 0s 27ms/step\n"
     ]
    },
    {
     "name": "stderr",
     "output_type": "stream",
     "text": [
      "2020-12-14 22:10:43,353 [DEBUG] kashgari - predict output: (91, 19)\n",
      "2020-12-14 22:10:43,354 [DEBUG] kashgari - predict output argmax: [[0 1 1 ... 1 1 1]\n",
      " [0 1 1 ... 1 1 1]\n",
      " [0 1 1 ... 1 1 1]\n",
      " ...\n",
      " [0 1 0 ... 1 1 1]\n",
      " [0 1 1 ... 1 1 1]\n",
      " [0 0 0 ... 0 0 0]]\n",
      "2020-12-14 22:10:43,360 [DEBUG] kashgari - predict seq_length: None, input: (2, 296, 24)\n"
     ]
    },
    {
     "name": "stdout",
     "output_type": "stream",
     "text": [
      "10/10 [==============================] - 0s 40ms/step\n"
     ]
    },
    {
     "name": "stderr",
     "output_type": "stream",
     "text": [
      "2020-12-14 22:10:43,855 [DEBUG] kashgari - predict output: (296, 24)\n",
      "2020-12-14 22:10:43,856 [DEBUG] kashgari - predict output argmax: [[0 1 1 ... 1 1 1]\n",
      " [0 1 1 ... 1 1 1]\n",
      " [0 1 1 ... 1 1 1]\n",
      " ...\n",
      " [0 1 1 ... 1 1 1]\n",
      " [0 1 1 ... 1 1 1]\n",
      " [0 0 0 ... 0 0 0]]\n",
      "2020-12-14 22:10:43,859 [DEBUG] kashgari - predict seq_length: None, input: (2, 154, 48)\n"
     ]
    },
    {
     "name": "stdout",
     "output_type": "stream",
     "text": [
      "5/5 [==============================] - 0s 57ms/step\n"
     ]
    },
    {
     "name": "stderr",
     "output_type": "stream",
     "text": [
      "2020-12-14 22:10:44,252 [DEBUG] kashgari - predict output: (154, 48)\n",
      "2020-12-14 22:10:44,253 [DEBUG] kashgari - predict output argmax: [[0 1 1 ... 1 1 1]\n",
      " [0 1 1 ... 1 1 1]\n",
      " [0 1 1 ... 1 1 1]\n",
      " ...\n",
      " [0 1 1 ... 1 1 1]\n",
      " [0 1 1 ... 1 1 1]\n",
      " [0 0 0 ... 0 0 0]]\n",
      "2020-12-14 22:10:44,257 [DEBUG] kashgari - predict seq_length: None, input: (2, 206, 37)\n"
     ]
    },
    {
     "name": "stdout",
     "output_type": "stream",
     "text": [
      "7/7 [==============================] - 0s 48ms/step\n"
     ]
    },
    {
     "name": "stderr",
     "output_type": "stream",
     "text": [
      "2020-12-14 22:10:44,697 [DEBUG] kashgari - predict output: (206, 37)\n",
      "2020-12-14 22:10:44,698 [DEBUG] kashgari - predict output argmax: [[0 1 1 ... 1 1 1]\n",
      " [0 1 1 ... 1 1 1]\n",
      " [0 1 1 ... 1 1 1]\n",
      " ...\n",
      " [0 1 1 ... 1 1 1]\n",
      " [0 1 9 ... 1 1 1]\n",
      " [0 0 0 ... 0 0 0]]\n",
      "2020-12-14 22:10:44,702 [DEBUG] kashgari - predict seq_length: None, input: (2, 241, 20)\n"
     ]
    },
    {
     "name": "stdout",
     "output_type": "stream",
     "text": [
      "8/8 [==============================] - 0s 35ms/step\n"
     ]
    },
    {
     "name": "stderr",
     "output_type": "stream",
     "text": [
      "2020-12-14 22:10:45,071 [DEBUG] kashgari - predict output: (241, 20)\n",
      "2020-12-14 22:10:45,072 [DEBUG] kashgari - predict output argmax: [[0 1 1 ... 1 1 1]\n",
      " [0 1 1 ... 1 1 1]\n",
      " [0 1 0 ... 1 1 1]\n",
      " ...\n",
      " [0 1 1 ... 1 1 1]\n",
      " [0 1 1 ... 1 1 1]\n",
      " [0 0 0 ... 0 0 0]]\n",
      "2020-12-14 22:10:45,078 [DEBUG] kashgari - predict seq_length: None, input: (2, 459, 31)\n"
     ]
    },
    {
     "name": "stdout",
     "output_type": "stream",
     "text": [
      "15/15 [==============================] - 1s 50ms/step\n"
     ]
    },
    {
     "name": "stderr",
     "output_type": "stream",
     "text": [
      "2020-12-14 22:10:45,925 [DEBUG] kashgari - predict output: (459, 31)\n",
      "2020-12-14 22:10:45,926 [DEBUG] kashgari - predict output argmax: [[0 1 1 ... 1 1 1]\n",
      " [0 1 1 ... 1 1 1]\n",
      " [0 1 1 ... 1 1 1]\n",
      " ...\n",
      " [0 1 1 ... 1 1 1]\n",
      " [0 1 1 ... 1 1 1]\n",
      " [0 0 0 ... 0 0 0]]\n",
      "2020-12-14 22:10:45,929 [DEBUG] kashgari - predict seq_length: None, input: (2, 223, 34)\n"
     ]
    },
    {
     "name": "stdout",
     "output_type": "stream",
     "text": [
      "7/7 [==============================] - 0s 51ms/step\n"
     ]
    },
    {
     "name": "stderr",
     "output_type": "stream",
     "text": [
      "2020-12-14 22:10:46,372 [DEBUG] kashgari - predict output: (223, 34)\n",
      "2020-12-14 22:10:46,373 [DEBUG] kashgari - predict output argmax: [[0 1 1 ... 1 1 1]\n",
      " [0 1 1 ... 1 1 1]\n",
      " [0 1 1 ... 1 1 1]\n",
      " ...\n",
      " [0 1 1 ... 1 1 1]\n",
      " [0 1 1 ... 1 1 1]\n",
      " [0 0 0 ... 0 0 0]]\n",
      "2020-12-14 22:10:46,378 [DEBUG] kashgari - predict seq_length: None, input: (2, 358, 26)\n"
     ]
    },
    {
     "name": "stdout",
     "output_type": "stream",
     "text": [
      "12/12 [==============================] - 1s 42ms/step\n"
     ]
    },
    {
     "name": "stderr",
     "output_type": "stream",
     "text": [
      "2020-12-14 22:10:46,964 [DEBUG] kashgari - predict output: (358, 26)\n",
      "2020-12-14 22:10:46,965 [DEBUG] kashgari - predict output argmax: [[0 1 1 ... 1 1 1]\n",
      " [0 1 1 ... 1 1 1]\n",
      " [0 1 0 ... 1 1 1]\n",
      " ...\n",
      " [0 1 1 ... 1 1 1]\n",
      " [0 1 1 ... 1 1 1]\n",
      " [0 0 0 ... 0 0 0]]\n",
      "2020-12-14 22:10:46,967 [DEBUG] kashgari - predict seq_length: None, input: (2, 72, 20)\n"
     ]
    },
    {
     "name": "stdout",
     "output_type": "stream",
     "text": [
      "3/3 [==============================] - 0s 25ms/step\n"
     ]
    },
    {
     "name": "stderr",
     "output_type": "stream",
     "text": [
      "2020-12-14 22:10:47,113 [DEBUG] kashgari - predict output: (72, 20)\n",
      "2020-12-14 22:10:47,114 [DEBUG] kashgari - predict output argmax: [[0 1 1 ... 1 1 1]\n",
      " [0 1 1 ... 1 1 1]\n",
      " [0 1 1 ... 1 1 1]\n",
      " ...\n",
      " [0 1 1 ... 1 1 1]\n",
      " [0 1 1 ... 1 1 1]\n",
      " [0 0 0 ... 0 0 0]]\n",
      "2020-12-14 22:10:47,116 [DEBUG] kashgari - predict seq_length: None, input: (2, 75, 24)\n"
     ]
    },
    {
     "name": "stdout",
     "output_type": "stream",
     "text": [
      "3/3 [==============================] - 0s 28ms/step\n"
     ]
    },
    {
     "name": "stderr",
     "output_type": "stream",
     "text": [
      "2020-12-14 22:10:47,271 [DEBUG] kashgari - predict output: (75, 24)\n",
      "2020-12-14 22:10:47,271 [DEBUG] kashgari - predict output argmax: [[0 1 1 ... 1 1 1]\n",
      " [0 1 1 ... 1 1 1]\n",
      " [0 1 1 ... 1 1 1]\n",
      " ...\n",
      " [0 1 1 ... 1 1 1]\n",
      " [0 1 1 ... 1 1 1]\n",
      " [0 0 0 ... 0 0 0]]\n",
      "2020-12-14 22:10:47,275 [DEBUG] kashgari - predict seq_length: None, input: (2, 191, 36)\n"
     ]
    },
    {
     "name": "stdout",
     "output_type": "stream",
     "text": [
      "6/6 [==============================] - 0s 48ms/step\n"
     ]
    },
    {
     "name": "stderr",
     "output_type": "stream",
     "text": [
      "2020-12-14 22:10:47,658 [DEBUG] kashgari - predict output: (191, 36)\n",
      "2020-12-14 22:10:47,659 [DEBUG] kashgari - predict output argmax: [[0 1 1 ... 1 1 1]\n",
      " [0 1 1 ... 1 1 1]\n",
      " [0 1 1 ... 1 1 1]\n",
      " ...\n",
      " [0 1 1 ... 1 1 1]\n",
      " [0 1 1 ... 1 1 1]\n",
      " [0 0 0 ... 0 0 0]]\n",
      "2020-12-14 22:10:47,663 [DEBUG] kashgari - predict seq_length: None, input: (2, 149, 19)\n"
     ]
    },
    {
     "name": "stdout",
     "output_type": "stream",
     "text": [
      "5/5 [==============================] - 0s 31ms/step\n"
     ]
    },
    {
     "name": "stderr",
     "output_type": "stream",
     "text": [
      "2020-12-14 22:10:47,898 [DEBUG] kashgari - predict output: (149, 19)\n",
      "2020-12-14 22:10:47,899 [DEBUG] kashgari - predict output argmax: [[0 1 1 ... 5 5 5]\n",
      " [0 1 1 ... 4 4 4]\n",
      " [0 1 1 ... 1 1 1]\n",
      " ...\n",
      " [0 1 1 ... 1 1 1]\n",
      " [0 1 1 ... 1 1 1]\n",
      " [0 0 0 ... 0 0 0]]\n",
      "2020-12-14 22:10:47,903 [DEBUG] kashgari - predict seq_length: None, input: (2, 176, 22)\n"
     ]
    },
    {
     "name": "stdout",
     "output_type": "stream",
     "text": [
      "6/6 [==============================] - 0s 35ms/step\n"
     ]
    },
    {
     "name": "stderr",
     "output_type": "stream",
     "text": [
      "2020-12-14 22:10:48,194 [DEBUG] kashgari - predict output: (176, 22)\n",
      "2020-12-14 22:10:48,195 [DEBUG] kashgari - predict output argmax: [[0 1 1 ... 1 1 1]\n",
      " [0 1 1 ... 1 1 1]\n",
      " [0 1 1 ... 1 1 1]\n",
      " ...\n",
      " [0 1 3 ... 2 2 2]\n",
      " [0 1 1 ... 1 1 1]\n",
      " [0 0 0 ... 0 0 0]]\n",
      "2020-12-14 22:10:48,197 [DEBUG] kashgari - predict seq_length: None, input: (2, 112, 45)\n"
     ]
    },
    {
     "name": "stdout",
     "output_type": "stream",
     "text": [
      "4/4 [==============================] - 0s 52ms/step\n"
     ]
    },
    {
     "name": "stderr",
     "output_type": "stream",
     "text": [
      "2020-12-14 22:10:52,715 [DEBUG] kashgari - predict output: (112, 45)\n",
      "2020-12-14 22:10:52,715 [DEBUG] kashgari - predict output argmax: [[0 1 1 ... 2 2 2]\n",
      " [0 1 1 ... 1 1 1]\n",
      " [0 1 1 ... 1 1 1]\n",
      " ...\n",
      " [0 1 1 ... 1 1 1]\n",
      " [0 1 1 ... 1 1 1]\n",
      " [0 0 0 ... 0 0 0]]\n",
      "2020-12-14 22:10:52,719 [DEBUG] kashgari - predict seq_length: None, input: (2, 269, 21)\n"
     ]
    },
    {
     "name": "stdout",
     "output_type": "stream",
     "text": [
      "9/9 [==============================] - 0s 36ms/step\n"
     ]
    },
    {
     "name": "stderr",
     "output_type": "stream",
     "text": [
      "2020-12-14 22:10:53,114 [DEBUG] kashgari - predict output: (269, 21)\n",
      "2020-12-14 22:10:53,115 [DEBUG] kashgari - predict output argmax: [[0 1 1 ... 1 1 1]\n",
      " [0 1 1 ... 1 1 1]\n",
      " [0 1 1 ... 1 1 1]\n",
      " ...\n",
      " [0 1 1 ... 1 1 1]\n",
      " [0 1 1 ... 1 1 1]\n",
      " [0 0 0 ... 0 0 0]]\n",
      "2020-12-14 22:10:53,118 [DEBUG] kashgari - predict seq_length: None, input: (2, 112, 18)\n"
     ]
    },
    {
     "name": "stdout",
     "output_type": "stream",
     "text": [
      "4/4 [==============================] - 0s 25ms/step\n"
     ]
    },
    {
     "name": "stderr",
     "output_type": "stream",
     "text": [
      "2020-12-14 22:10:53,287 [DEBUG] kashgari - predict output: (112, 18)\n",
      "2020-12-14 22:10:53,288 [DEBUG] kashgari - predict output argmax: [[0 1 1 ... 1 1 1]\n",
      " [0 1 1 ... 1 1 1]\n",
      " [0 1 1 ... 1 1 1]\n",
      " ...\n",
      " [0 1 1 ... 1 1 1]\n",
      " [0 1 7 ... 1 1 1]\n",
      " [0 0 0 ... 0 0 0]]\n",
      "2020-12-14 22:10:53,293 [DEBUG] kashgari - predict seq_length: None, input: (2, 352, 22)\n"
     ]
    },
    {
     "name": "stdout",
     "output_type": "stream",
     "text": [
      "11/11 [==============================] - 0s 30ms/step\n"
     ]
    },
    {
     "name": "stderr",
     "output_type": "stream",
     "text": [
      "2020-12-14 22:10:56,915 [DEBUG] kashgari - predict output: (352, 22)\n",
      "2020-12-14 22:10:56,916 [DEBUG] kashgari - predict output argmax: [[0 1 1 ... 1 1 1]\n",
      " [0 1 1 ... 1 1 1]\n",
      " [0 1 1 ... 1 1 1]\n",
      " ...\n",
      " [0 1 1 ... 1 1 1]\n",
      " [0 1 1 ... 1 1 1]\n",
      " [0 0 0 ... 0 0 0]]\n",
      "2020-12-14 22:10:56,920 [DEBUG] kashgari - predict seq_length: None, input: (2, 243, 24)\n"
     ]
    },
    {
     "name": "stdout",
     "output_type": "stream",
     "text": [
      "8/8 [==============================] - 0s 37ms/step\n"
     ]
    },
    {
     "name": "stderr",
     "output_type": "stream",
     "text": [
      "2020-12-14 22:10:57,294 [DEBUG] kashgari - predict output: (243, 24)\n",
      "2020-12-14 22:10:57,295 [DEBUG] kashgari - predict output argmax: [[0 1 1 ... 1 1 1]\n",
      " [0 1 1 ... 1 1 1]\n",
      " [0 1 1 ... 1 1 1]\n",
      " ...\n",
      " [0 1 1 ... 1 1 1]\n",
      " [0 1 1 ... 1 1 1]\n",
      " [0 0 0 ... 0 0 0]]\n",
      "2020-12-14 22:10:57,300 [DEBUG] kashgari - predict seq_length: None, input: (2, 340, 27)\n"
     ]
    },
    {
     "name": "stdout",
     "output_type": "stream",
     "text": [
      "11/11 [==============================] - 0s 44ms/step\n"
     ]
    },
    {
     "name": "stderr",
     "output_type": "stream",
     "text": [
      "2020-12-14 22:10:57,863 [DEBUG] kashgari - predict output: (340, 27)\n",
      "2020-12-14 22:10:57,864 [DEBUG] kashgari - predict output argmax: [[0 1 1 ... 1 1 1]\n",
      " [0 1 1 ... 1 1 1]\n",
      " [0 1 1 ... 1 1 1]\n",
      " ...\n",
      " [0 1 1 ... 1 1 1]\n",
      " [0 1 1 ... 1 1 1]\n",
      " [0 0 0 ... 0 0 0]]\n",
      "2020-12-14 22:10:57,869 [DEBUG] kashgari - predict seq_length: None, input: (2, 384, 25)\n"
     ]
    },
    {
     "name": "stdout",
     "output_type": "stream",
     "text": [
      "12/12 [==============================] - 0s 32ms/step\n"
     ]
    },
    {
     "name": "stderr",
     "output_type": "stream",
     "text": [
      "2020-12-14 22:10:58,324 [DEBUG] kashgari - predict output: (384, 25)\n",
      "2020-12-14 22:10:58,325 [DEBUG] kashgari - predict output argmax: [[0 1 1 ... 1 1 1]\n",
      " [0 1 1 ... 1 1 1]\n",
      " [0 1 1 ... 1 1 1]\n",
      " ...\n",
      " [0 1 1 ... 1 1 1]\n",
      " [0 1 1 ... 1 1 1]\n",
      " [0 0 0 ... 0 0 0]]\n",
      "2020-12-14 22:10:58,327 [DEBUG] kashgari - predict seq_length: None, input: (2, 112, 36)\n"
     ]
    },
    {
     "name": "stdout",
     "output_type": "stream",
     "text": [
      "4/4 [==============================] - 0s 39ms/step\n"
     ]
    },
    {
     "name": "stderr",
     "output_type": "stream",
     "text": [
      "2020-12-14 22:10:58,577 [DEBUG] kashgari - predict output: (112, 36)\n",
      "2020-12-14 22:10:58,578 [DEBUG] kashgari - predict output argmax: [[0 1 1 ... 1 1 1]\n",
      " [0 1 1 ... 1 1 1]\n",
      " [0 1 1 ... 1 1 1]\n",
      " ...\n",
      " [0 1 1 ... 1 1 1]\n",
      " [0 1 0 ... 1 1 1]\n",
      " [0 0 0 ... 0 0 0]]\n",
      "2020-12-14 22:10:58,584 [DEBUG] kashgari - predict seq_length: None, input: (2, 222, 28)\n"
     ]
    },
    {
     "name": "stdout",
     "output_type": "stream",
     "text": [
      "7/7 [==============================] - 0s 42ms/step\n"
     ]
    },
    {
     "name": "stderr",
     "output_type": "stream",
     "text": [
      "2020-12-14 22:10:58,956 [DEBUG] kashgari - predict output: (222, 28)\n",
      "2020-12-14 22:10:58,957 [DEBUG] kashgari - predict output argmax: [[0 1 1 ... 1 1 1]\n",
      " [0 1 1 ... 1 1 1]\n",
      " [0 1 1 ... 1 1 1]\n",
      " ...\n",
      " [0 1 1 ... 1 1 1]\n",
      " [0 1 1 ... 1 1 1]\n",
      " [0 0 0 ... 0 0 0]]\n",
      "2020-12-14 22:10:58,962 [DEBUG] kashgari - predict seq_length: None, input: (2, 255, 34)\n"
     ]
    },
    {
     "name": "stdout",
     "output_type": "stream",
     "text": [
      "8/8 [==============================] - 0s 48ms/step\n"
     ]
    },
    {
     "name": "stderr",
     "output_type": "stream",
     "text": [
      "2020-12-14 22:10:59,453 [DEBUG] kashgari - predict output: (255, 34)\n",
      "2020-12-14 22:10:59,453 [DEBUG] kashgari - predict output argmax: [[0 1 1 ... 1 1 1]\n",
      " [0 1 1 ... 1 1 1]\n",
      " [0 1 1 ... 1 1 1]\n",
      " ...\n",
      " [0 1 1 ... 1 1 1]\n",
      " [0 1 1 ... 1 1 1]\n",
      " [0 0 0 ... 0 0 0]]\n",
      "2020-12-14 22:10:59,456 [DEBUG] kashgari - predict seq_length: None, input: (2, 67, 25)\n"
     ]
    },
    {
     "name": "stdout",
     "output_type": "stream",
     "text": [
      "3/3 [==============================] - 0s 28ms/step\n"
     ]
    },
    {
     "name": "stderr",
     "output_type": "stream",
     "text": [
      "2020-12-14 22:10:59,621 [DEBUG] kashgari - predict output: (67, 25)\n",
      "2020-12-14 22:10:59,622 [DEBUG] kashgari - predict output argmax: [[0 1 1 ... 1 1 1]\n",
      " [0 1 1 ... 1 1 1]\n",
      " [0 3 2 ... 1 1 1]\n",
      " ...\n",
      " [0 1 1 ... 1 1 1]\n",
      " [0 1 1 ... 1 1 1]\n",
      " [0 0 0 ... 0 0 0]]\n",
      "2020-12-14 22:10:59,624 [DEBUG] kashgari - predict seq_length: None, input: (2, 77, 53)\n"
     ]
    },
    {
     "name": "stdout",
     "output_type": "stream",
     "text": [
      "3/3 [==============================] - 0s 43ms/step\n"
     ]
    },
    {
     "name": "stderr",
     "output_type": "stream",
     "text": [
      "2020-12-14 22:10:59,871 [DEBUG] kashgari - predict output: (77, 53)\n",
      "2020-12-14 22:10:59,872 [DEBUG] kashgari - predict output argmax: [[0 1 1 ... 1 1 1]\n",
      " [0 1 1 ... 1 1 1]\n",
      " [0 1 1 ... 1 1 1]\n",
      " ...\n",
      " [0 1 1 ... 1 1 1]\n",
      " [0 1 1 ... 1 1 1]\n",
      " [0 0 0 ... 0 0 0]]\n",
      "2020-12-14 22:10:59,874 [DEBUG] kashgari - predict seq_length: None, input: (2, 67, 27)\n"
     ]
    },
    {
     "name": "stdout",
     "output_type": "stream",
     "text": [
      "3/3 [==============================] - 0s 29ms/step\n"
     ]
    },
    {
     "name": "stderr",
     "output_type": "stream",
     "text": [
      "2020-12-14 22:11:00,040 [DEBUG] kashgari - predict output: (67, 27)\n",
      "2020-12-14 22:11:00,041 [DEBUG] kashgari - predict output argmax: [[0 1 1 ... 1 1 1]\n",
      " [0 1 1 ... 1 1 1]\n",
      " [0 1 1 ... 1 1 1]\n",
      " ...\n",
      " [0 1 1 ... 2 2 2]\n",
      " [0 1 1 ... 1 1 1]\n",
      " [0 0 0 ... 0 0 0]]\n",
      "2020-12-14 22:11:00,043 [DEBUG] kashgari - predict seq_length: None, input: (2, 72, 19)\n"
     ]
    },
    {
     "name": "stdout",
     "output_type": "stream",
     "text": [
      "3/3 [==============================] - 0s 24ms/step\n"
     ]
    },
    {
     "name": "stderr",
     "output_type": "stream",
     "text": [
      "2020-12-14 22:11:00,187 [DEBUG] kashgari - predict output: (72, 19)\n",
      "2020-12-14 22:11:00,189 [DEBUG] kashgari - predict output argmax: [[0 1 1 ... 1 1 0]\n",
      " [0 1 1 ... 1 1 1]\n",
      " [0 1 1 ... 1 1 1]\n",
      " ...\n",
      " [0 1 1 ... 1 1 1]\n",
      " [0 1 1 ... 1 1 1]\n",
      " [0 0 0 ... 0 0 0]]\n",
      "2020-12-14 22:11:00,191 [DEBUG] kashgari - predict seq_length: None, input: (2, 98, 24)\n"
     ]
    },
    {
     "name": "stdout",
     "output_type": "stream",
     "text": [
      "4/4 [==============================] - 0s 32ms/step\n"
     ]
    },
    {
     "name": "stderr",
     "output_type": "stream",
     "text": [
      "2020-12-14 22:11:00,397 [DEBUG] kashgari - predict output: (98, 24)\n",
      "2020-12-14 22:11:00,397 [DEBUG] kashgari - predict output argmax: [[0 1 1 ... 1 1 1]\n",
      " [0 1 1 ... 1 1 1]\n",
      " [0 1 1 ... 1 1 1]\n",
      " ...\n",
      " [0 1 1 ... 1 1 1]\n",
      " [0 1 1 ... 1 1 1]\n",
      " [0 0 0 ... 0 0 0]]\n",
      "2020-12-14 22:11:00,399 [DEBUG] kashgari - predict seq_length: None, input: (2, 87, 37)\n"
     ]
    },
    {
     "name": "stdout",
     "output_type": "stream",
     "text": [
      "3/3 [==============================] - 0s 35ms/step\n"
     ]
    },
    {
     "name": "stderr",
     "output_type": "stream",
     "text": [
      "2020-12-14 22:11:00,592 [DEBUG] kashgari - predict output: (87, 37)\n",
      "2020-12-14 22:11:00,593 [DEBUG] kashgari - predict output argmax: [[0 1 1 ... 1 1 1]\n",
      " [0 1 1 ... 1 1 1]\n",
      " [0 1 1 ... 1 1 1]\n",
      " ...\n",
      " [0 1 1 ... 1 1 1]\n",
      " [0 1 1 ... 1 1 1]\n",
      " [0 0 0 ... 0 0 0]]\n",
      "2020-12-14 22:11:00,600 [DEBUG] kashgari - predict seq_length: None, input: (2, 311, 29)\n"
     ]
    },
    {
     "name": "stdout",
     "output_type": "stream",
     "text": [
      "10/10 [==============================] - 0s 44ms/step\n"
     ]
    },
    {
     "name": "stderr",
     "output_type": "stream",
     "text": [
      "2020-12-14 22:11:01,132 [DEBUG] kashgari - predict output: (311, 29)\n",
      "2020-12-14 22:11:01,134 [DEBUG] kashgari - predict output argmax: [[0 1 1 ... 1 1 1]\n",
      " [0 1 1 ... 1 1 1]\n",
      " [0 1 1 ... 1 1 1]\n",
      " ...\n",
      " [0 1 1 ... 1 1 1]\n",
      " [0 1 1 ... 1 1 1]\n",
      " [0 0 0 ... 0 0 0]]\n",
      "2020-12-14 22:11:01,139 [DEBUG] kashgari - predict seq_length: None, input: (2, 447, 20)\n"
     ]
    },
    {
     "name": "stdout",
     "output_type": "stream",
     "text": [
      "14/14 [==============================] - 1s 37ms/step\n"
     ]
    },
    {
     "name": "stderr",
     "output_type": "stream",
     "text": [
      "2020-12-14 22:11:01,737 [DEBUG] kashgari - predict output: (447, 20)\n",
      "2020-12-14 22:11:01,738 [DEBUG] kashgari - predict output argmax: [[0 1 1 ... 1 1 1]\n",
      " [0 1 1 ... 1 1 1]\n",
      " [0 1 1 ... 1 1 1]\n",
      " ...\n",
      " [0 1 1 ... 1 1 1]\n",
      " [0 1 0 ... 1 1 1]\n",
      " [0 0 0 ... 0 0 0]]\n",
      "2020-12-14 22:11:01,741 [DEBUG] kashgari - predict seq_length: None, input: (2, 218, 19)\n"
     ]
    },
    {
     "name": "stdout",
     "output_type": "stream",
     "text": [
      "7/7 [==============================] - 0s 34ms/step\n"
     ]
    },
    {
     "name": "stderr",
     "output_type": "stream",
     "text": [
      "2020-12-14 22:11:02,053 [DEBUG] kashgari - predict output: (218, 19)\n",
      "2020-12-14 22:11:02,054 [DEBUG] kashgari - predict output argmax: [[0 1 1 ... 1 1 1]\n",
      " [0 1 1 ... 1 1 1]\n",
      " [0 1 1 ... 1 1 1]\n",
      " ...\n",
      " [0 1 1 ... 1 1 1]\n",
      " [0 1 1 ... 1 1 1]\n",
      " [0 0 0 ... 0 0 0]]\n",
      "2020-12-14 22:11:02,057 [DEBUG] kashgari - predict seq_length: None, input: (2, 285, 30)\n"
     ]
    },
    {
     "name": "stdout",
     "output_type": "stream",
     "text": [
      "9/9 [==============================] - 0s 44ms/step\n"
     ]
    },
    {
     "name": "stderr",
     "output_type": "stream",
     "text": [
      "2020-12-14 22:11:02,530 [DEBUG] kashgari - predict output: (285, 30)\n",
      "2020-12-14 22:11:02,531 [DEBUG] kashgari - predict output argmax: [[0 1 1 ... 4 4 4]\n",
      " [0 1 1 ... 4 4 4]\n",
      " [0 1 1 ... 1 1 1]\n",
      " ...\n",
      " [0 1 1 ... 1 1 1]\n",
      " [0 1 1 ... 1 1 1]\n",
      " [0 0 0 ... 0 0 0]]\n",
      "2020-12-14 22:11:02,539 [DEBUG] kashgari - predict seq_length: None, input: (2, 424, 21)\n"
     ]
    },
    {
     "name": "stdout",
     "output_type": "stream",
     "text": [
      "14/14 [==============================] - 1s 39ms/step\n"
     ]
    },
    {
     "name": "stderr",
     "output_type": "stream",
     "text": [
      "2020-12-14 22:11:03,155 [DEBUG] kashgari - predict output: (424, 21)\n",
      "2020-12-14 22:11:03,156 [DEBUG] kashgari - predict output argmax: [[0 1 1 ... 1 1 1]\n",
      " [0 1 1 ... 1 1 1]\n",
      " [0 1 1 ... 1 1 1]\n",
      " ...\n",
      " [0 1 1 ... 1 1 1]\n",
      " [0 1 1 ... 1 1 1]\n",
      " [0 0 0 ... 0 0 0]]\n",
      "2020-12-14 22:11:03,158 [DEBUG] kashgari - predict seq_length: None, input: (2, 94, 30)\n"
     ]
    },
    {
     "name": "stdout",
     "output_type": "stream",
     "text": [
      "3/3 [==============================] - 0s 34ms/step\n"
     ]
    },
    {
     "name": "stderr",
     "output_type": "stream",
     "text": [
      "2020-12-14 22:11:03,336 [DEBUG] kashgari - predict output: (94, 30)\n",
      "2020-12-14 22:11:03,337 [DEBUG] kashgari - predict output argmax: [[0 1 1 ... 1 1 1]\n",
      " [0 1 1 ... 1 1 1]\n",
      " [0 1 1 ... 1 1 1]\n",
      " ...\n",
      " [0 1 1 ... 1 1 1]\n",
      " [0 1 1 ... 1 1 1]\n",
      " [0 0 0 ... 0 0 0]]\n",
      "2020-12-14 22:11:03,341 [DEBUG] kashgari - predict seq_length: None, input: (2, 202, 34)\n"
     ]
    },
    {
     "name": "stdout",
     "output_type": "stream",
     "text": [
      "7/7 [==============================] - 0s 45ms/step\n"
     ]
    },
    {
     "name": "stderr",
     "output_type": "stream",
     "text": [
      "2020-12-14 22:11:03,744 [DEBUG] kashgari - predict output: (202, 34)\n",
      "2020-12-14 22:11:03,745 [DEBUG] kashgari - predict output argmax: [[0 1 1 ... 1 1 1]\n",
      " [0 1 1 ... 1 1 1]\n",
      " [0 1 1 ... 1 1 1]\n",
      " ...\n",
      " [0 1 1 ... 1 1 1]\n",
      " [0 1 1 ... 1 1 1]\n",
      " [0 0 0 ... 0 0 0]]\n",
      "2020-12-14 22:11:03,750 [DEBUG] kashgari - predict seq_length: None, input: (2, 242, 50)\n"
     ]
    },
    {
     "name": "stdout",
     "output_type": "stream",
     "text": [
      "8/8 [==============================] - 1s 64ms/step\n"
     ]
    },
    {
     "name": "stderr",
     "output_type": "stream",
     "text": [
      "2020-12-14 22:11:04,375 [DEBUG] kashgari - predict output: (242, 50)\n",
      "2020-12-14 22:11:04,376 [DEBUG] kashgari - predict output argmax: [[0 1 1 ... 1 1 1]\n",
      " [0 1 1 ... 1 1 1]\n",
      " [0 1 1 ... 1 1 1]\n",
      " ...\n",
      " [0 1 1 ... 1 1 1]\n",
      " [0 1 1 ... 1 1 1]\n",
      " [0 1 1 ... 1 1 1]]\n",
      "2020-12-14 22:11:04,381 [DEBUG] kashgari - predict seq_length: None, input: (2, 269, 38)\n"
     ]
    },
    {
     "name": "stdout",
     "output_type": "stream",
     "text": [
      "9/9 [==============================] - 0s 52ms/step\n"
     ]
    },
    {
     "name": "stderr",
     "output_type": "stream",
     "text": [
      "2020-12-14 22:11:04,938 [DEBUG] kashgari - predict output: (269, 38)\n",
      "2020-12-14 22:11:04,941 [DEBUG] kashgari - predict output argmax: [[0 1 1 ... 1 1 1]\n",
      " [0 1 1 ... 1 1 1]\n",
      " [0 1 1 ... 1 1 1]\n",
      " ...\n",
      " [0 1 1 ... 1 1 1]\n",
      " [0 1 1 ... 1 1 1]\n",
      " [0 0 0 ... 0 0 0]]\n",
      "2020-12-14 22:11:04,945 [DEBUG] kashgari - predict seq_length: None, input: (2, 108, 35)\n"
     ]
    },
    {
     "name": "stdout",
     "output_type": "stream",
     "text": [
      "4/4 [==============================] - 0s 41ms/step\n"
     ]
    },
    {
     "name": "stderr",
     "output_type": "stream",
     "text": [
      "2020-12-14 22:11:05,204 [DEBUG] kashgari - predict output: (108, 35)\n",
      "2020-12-14 22:11:05,205 [DEBUG] kashgari - predict output argmax: [[0 1 1 ... 1 1 1]\n",
      " [0 1 0 ... 1 1 1]\n",
      " [0 1 1 ... 1 1 1]\n",
      " ...\n",
      " [0 1 1 ... 1 1 1]\n",
      " [0 1 1 ... 1 1 1]\n",
      " [0 0 0 ... 0 0 0]]\n",
      "2020-12-14 22:11:05,209 [DEBUG] kashgari - predict seq_length: None, input: (2, 136, 30)\n"
     ]
    },
    {
     "name": "stdout",
     "output_type": "stream",
     "text": [
      "5/5 [==============================] - 0s 39ms/step\n"
     ]
    },
    {
     "name": "stderr",
     "output_type": "stream",
     "text": [
      "2020-12-14 22:11:05,488 [DEBUG] kashgari - predict output: (136, 30)\n",
      "2020-12-14 22:11:05,489 [DEBUG] kashgari - predict output argmax: [[0 1 1 ... 1 1 1]\n",
      " [0 1 1 ... 1 1 1]\n",
      " [0 1 1 ... 1 1 1]\n",
      " ...\n",
      " [0 1 1 ... 1 1 1]\n",
      " [0 1 1 ... 1 1 1]\n",
      " [0 0 0 ... 0 0 0]]\n",
      "2020-12-14 22:11:05,495 [DEBUG] kashgari - predict seq_length: None, input: (2, 217, 28)\n"
     ]
    },
    {
     "name": "stdout",
     "output_type": "stream",
     "text": [
      "7/7 [==============================] - 0s 40ms/step\n"
     ]
    },
    {
     "name": "stderr",
     "output_type": "stream",
     "text": [
      "2020-12-14 22:11:05,857 [DEBUG] kashgari - predict output: (217, 28)\n",
      "2020-12-14 22:11:05,857 [DEBUG] kashgari - predict output argmax: [[0 1 1 ... 1 1 1]\n",
      " [0 1 1 ... 1 1 1]\n",
      " [0 1 1 ... 1 1 1]\n",
      " ...\n",
      " [0 1 1 ... 1 1 1]\n",
      " [0 1 1 ... 1 1 1]\n",
      " [0 0 0 ... 0 0 0]]\n",
      "2020-12-14 22:11:05,860 [DEBUG] kashgari - predict seq_length: None, input: (2, 83, 27)\n"
     ]
    },
    {
     "name": "stdout",
     "output_type": "stream",
     "text": [
      "3/3 [==============================] - 0s 30ms/step\n"
     ]
    },
    {
     "name": "stderr",
     "output_type": "stream",
     "text": [
      "2020-12-14 22:11:06,028 [DEBUG] kashgari - predict output: (83, 27)\n",
      "2020-12-14 22:11:06,029 [DEBUG] kashgari - predict output argmax: [[0 1 1 ... 1 1 1]\n",
      " [0 1 1 ... 1 1 1]\n",
      " [0 1 1 ... 1 1 1]\n",
      " ...\n",
      " [0 1 1 ... 1 1 1]\n",
      " [0 1 1 ... 1 1 1]\n",
      " [0 0 0 ... 0 0 0]]\n",
      "2020-12-14 22:11:06,036 [DEBUG] kashgari - predict seq_length: None, input: (2, 392, 36)\n"
     ]
    },
    {
     "name": "stdout",
     "output_type": "stream",
     "text": [
      "13/13 [==============================] - 1s 52ms/step\n"
     ]
    },
    {
     "name": "stderr",
     "output_type": "stream",
     "text": [
      "2020-12-14 22:11:06,812 [DEBUG] kashgari - predict output: (392, 36)\n",
      "2020-12-14 22:11:06,813 [DEBUG] kashgari - predict output argmax: [[0 1 1 ... 1 1 1]\n",
      " [0 1 1 ... 1 1 1]\n",
      " [0 1 1 ... 1 1 1]\n",
      " ...\n",
      " [0 1 1 ... 1 1 1]\n",
      " [0 1 1 ... 1 1 1]\n",
      " [0 0 0 ... 0 0 0]]\n",
      "2020-12-14 22:11:06,815 [DEBUG] kashgari - predict seq_length: None, input: (2, 108, 41)\n"
     ]
    },
    {
     "name": "stdout",
     "output_type": "stream",
     "text": [
      "4/4 [==============================] - 0s 46ms/step\n"
     ]
    },
    {
     "name": "stderr",
     "output_type": "stream",
     "text": [
      "2020-12-14 22:11:07,083 [DEBUG] kashgari - predict output: (108, 41)\n",
      "2020-12-14 22:11:07,084 [DEBUG] kashgari - predict output argmax: [[0 1 1 ... 1 1 1]\n",
      " [0 1 1 ... 1 1 1]\n",
      " [0 1 1 ... 1 1 1]\n",
      " ...\n",
      " [0 1 1 ... 1 1 1]\n",
      " [0 1 1 ... 1 1 1]\n",
      " [0 0 0 ... 0 0 0]]\n",
      "2020-12-14 22:11:07,088 [DEBUG] kashgari - predict seq_length: None, input: (2, 221, 26)\n"
     ]
    },
    {
     "name": "stdout",
     "output_type": "stream",
     "text": [
      "7/7 [==============================] - 0s 42ms/step\n"
     ]
    },
    {
     "name": "stderr",
     "output_type": "stream",
     "text": [
      "2020-12-14 22:11:07,462 [DEBUG] kashgari - predict output: (221, 26)\n",
      "2020-12-14 22:11:07,463 [DEBUG] kashgari - predict output argmax: [[0 1 1 ... 1 1 1]\n",
      " [0 1 1 ... 1 1 1]\n",
      " [0 1 1 ... 1 1 1]\n",
      " ...\n",
      " [0 1 1 ... 1 1 1]\n",
      " [0 1 1 ... 1 1 1]\n",
      " [0 0 0 ... 0 0 0]]\n",
      "2020-12-14 22:11:07,466 [DEBUG] kashgari - predict seq_length: None, input: (2, 94, 45)\n"
     ]
    },
    {
     "name": "stdout",
     "output_type": "stream",
     "text": [
      "3/3 [==============================] - 0s 46ms/step\n"
     ]
    },
    {
     "name": "stderr",
     "output_type": "stream",
     "text": [
      "2020-12-14 22:11:07,701 [DEBUG] kashgari - predict output: (94, 45)\n",
      "2020-12-14 22:11:07,702 [DEBUG] kashgari - predict output argmax: [[0 1 1 ... 1 1 1]\n",
      " [0 1 1 ... 1 1 1]\n",
      " [0 1 1 ... 1 1 1]\n",
      " ...\n",
      " [0 1 1 ... 1 1 1]\n",
      " [0 1 1 ... 1 1 1]\n",
      " [0 0 0 ... 0 0 0]]\n",
      "2020-12-14 22:11:07,705 [DEBUG] kashgari - predict seq_length: None, input: (2, 59, 21)\n"
     ]
    },
    {
     "name": "stdout",
     "output_type": "stream",
     "text": [
      "2/2 [==============================] - 0s 19ms/step\n"
     ]
    },
    {
     "name": "stderr",
     "output_type": "stream",
     "text": [
      "2020-12-14 22:11:07,818 [DEBUG] kashgari - predict output: (59, 21)\n",
      "2020-12-14 22:11:07,819 [DEBUG] kashgari - predict output argmax: [[0 1 1 ... 1 1 1]\n",
      " [0 1 1 ... 1 1 1]\n",
      " [0 1 1 ... 1 1 1]\n",
      " ...\n",
      " [0 1 1 ... 1 1 1]\n",
      " [0 1 1 ... 1 1 1]\n",
      " [0 0 0 ... 0 0 0]]\n",
      "2020-12-14 22:11:07,822 [DEBUG] kashgari - predict seq_length: None, input: (2, 101, 33)\n"
     ]
    },
    {
     "name": "stdout",
     "output_type": "stream",
     "text": [
      "4/4 [==============================] - 0s 35ms/step\n"
     ]
    },
    {
     "name": "stderr",
     "output_type": "stream",
     "text": [
      "2020-12-14 22:11:08,051 [DEBUG] kashgari - predict output: (101, 33)\n",
      "2020-12-14 22:11:08,052 [DEBUG] kashgari - predict output argmax: [[0 1 1 ... 1 1 1]\n",
      " [0 1 1 ... 1 1 1]\n",
      " [0 1 1 ... 1 1 1]\n",
      " ...\n",
      " [0 1 1 ... 1 1 1]\n",
      " [0 1 1 ... 1 1 1]\n",
      " [0 0 0 ... 0 0 0]]\n",
      "2020-12-14 22:11:08,054 [DEBUG] kashgari - predict seq_length: None, input: (2, 64, 33)\n"
     ]
    },
    {
     "name": "stdout",
     "output_type": "stream",
     "text": [
      "2/2 [==============================] - 0s 24ms/step\n"
     ]
    },
    {
     "name": "stderr",
     "output_type": "stream",
     "text": [
      "2020-12-14 22:11:11,102 [DEBUG] kashgari - predict output: (64, 33)\n",
      "2020-12-14 22:11:11,103 [DEBUG] kashgari - predict output argmax: [[0 1 1 ... 1 1 1]\n",
      " [0 1 1 ... 1 1 0]\n",
      " [0 1 1 ... 1 1 1]\n",
      " ...\n",
      " [0 1 1 ... 2 2 2]\n",
      " [0 1 1 ... 1 1 1]\n",
      " [0 0 0 ... 0 0 0]]\n",
      "2020-12-14 22:11:11,105 [DEBUG] kashgari - predict seq_length: None, input: (2, 85, 30)\n"
     ]
    },
    {
     "name": "stdout",
     "output_type": "stream",
     "text": [
      "3/3 [==============================] - 0s 32ms/step\n"
     ]
    },
    {
     "name": "stderr",
     "output_type": "stream",
     "text": [
      "2020-12-14 22:11:11,274 [DEBUG] kashgari - predict output: (85, 30)\n",
      "2020-12-14 22:11:11,275 [DEBUG] kashgari - predict output argmax: [[0 1 1 ... 1 1 1]\n",
      " [0 1 1 ... 1 1 1]\n",
      " [0 1 1 ... 1 1 1]\n",
      " ...\n",
      " [0 1 1 ... 1 1 1]\n",
      " [0 1 1 ... 1 1 1]\n",
      " [0 0 0 ... 0 0 0]]\n",
      "2020-12-14 22:11:11,277 [DEBUG] kashgari - predict seq_length: None, input: (2, 89, 33)\n"
     ]
    },
    {
     "name": "stdout",
     "output_type": "stream",
     "text": [
      "3/3 [==============================] - 0s 35ms/step\n"
     ]
    },
    {
     "name": "stderr",
     "output_type": "stream",
     "text": [
      "2020-12-14 22:11:11,474 [DEBUG] kashgari - predict output: (89, 33)\n",
      "2020-12-14 22:11:11,475 [DEBUG] kashgari - predict output argmax: [[0 1 1 ... 2 2 2]\n",
      " [0 1 1 ... 1 1 1]\n",
      " [0 1 1 ... 1 1 1]\n",
      " ...\n",
      " [0 1 1 ... 1 1 1]\n",
      " [0 1 1 ... 1 1 1]\n",
      " [0 0 0 ... 0 0 0]]\n",
      "2020-12-14 22:11:11,482 [DEBUG] kashgari - predict seq_length: None, input: (2, 254, 27)\n"
     ]
    },
    {
     "name": "stdout",
     "output_type": "stream",
     "text": [
      "8/8 [==============================] - 0s 41ms/step\n"
     ]
    },
    {
     "name": "stderr",
     "output_type": "stream",
     "text": [
      "2020-12-14 22:11:11,904 [DEBUG] kashgari - predict output: (254, 27)\n",
      "2020-12-14 22:11:11,904 [DEBUG] kashgari - predict output argmax: [[0 1 1 ... 1 1 1]\n",
      " [0 3 2 ... 1 1 1]\n",
      " [0 1 1 ... 1 1 1]\n",
      " ...\n",
      " [0 1 1 ... 1 1 1]\n",
      " [0 1 1 ... 1 1 1]\n",
      " [0 0 0 ... 0 0 0]]\n",
      "2020-12-14 22:11:11,907 [DEBUG] kashgari - predict seq_length: None, input: (2, 129, 29)\n"
     ]
    },
    {
     "name": "stdout",
     "output_type": "stream",
     "text": [
      "5/5 [==============================] - 0s 34ms/step\n"
     ]
    },
    {
     "name": "stderr",
     "output_type": "stream",
     "text": [
      "2020-12-14 22:11:12,159 [DEBUG] kashgari - predict output: (129, 29)\n",
      "2020-12-14 22:11:12,160 [DEBUG] kashgari - predict output argmax: [[0 1 1 ... 1 1 1]\n",
      " [0 1 1 ... 1 1 1]\n",
      " [0 1 1 ... 1 1 1]\n",
      " ...\n",
      " [0 1 1 ... 1 1 1]\n",
      " [0 1 1 ... 1 1 1]\n",
      " [0 0 0 ... 0 0 0]]\n",
      "2020-12-14 22:11:12,163 [DEBUG] kashgari - predict seq_length: None, input: (2, 130, 26)\n"
     ]
    },
    {
     "name": "stdout",
     "output_type": "stream",
     "text": [
      "5/5 [==============================] - 0s 36ms/step\n"
     ]
    },
    {
     "name": "stderr",
     "output_type": "stream",
     "text": [
      "2020-12-14 22:11:12,425 [DEBUG] kashgari - predict output: (130, 26)\n",
      "2020-12-14 22:11:12,426 [DEBUG] kashgari - predict output argmax: [[0 1 1 ... 1 1 1]\n",
      " [0 1 1 ... 1 1 1]\n",
      " [0 1 1 ... 1 1 1]\n",
      " ...\n",
      " [0 1 1 ... 1 1 1]\n",
      " [0 1 1 ... 4 4 4]\n",
      " [0 0 0 ... 0 0 0]]\n",
      "2020-12-14 22:11:12,429 [DEBUG] kashgari - predict seq_length: None, input: (2, 143, 37)\n"
     ]
    },
    {
     "name": "stdout",
     "output_type": "stream",
     "text": [
      "5/5 [==============================] - 0s 45ms/step\n"
     ]
    },
    {
     "name": "stderr",
     "output_type": "stream",
     "text": [
      "2020-12-14 22:11:12,743 [DEBUG] kashgari - predict output: (143, 37)\n",
      "2020-12-14 22:11:12,744 [DEBUG] kashgari - predict output argmax: [[0 1 1 ... 1 1 1]\n",
      " [0 1 1 ... 1 1 1]\n",
      " [0 1 1 ... 1 1 1]\n",
      " ...\n",
      " [0 1 1 ... 1 1 1]\n",
      " [0 1 1 ... 1 1 1]\n",
      " [0 0 0 ... 0 0 0]]\n",
      "2020-12-14 22:11:12,748 [DEBUG] kashgari - predict seq_length: None, input: (2, 107, 36)\n"
     ]
    },
    {
     "name": "stdout",
     "output_type": "stream",
     "text": [
      "4/4 [==============================] - 0s 40ms/step\n"
     ]
    },
    {
     "name": "stderr",
     "output_type": "stream",
     "text": [
      "2020-12-14 22:11:12,992 [DEBUG] kashgari - predict output: (107, 36)\n",
      "2020-12-14 22:11:12,993 [DEBUG] kashgari - predict output argmax: [[0 1 1 ... 1 1 1]\n",
      " [0 1 1 ... 1 1 1]\n",
      " [0 1 1 ... 1 1 1]\n",
      " ...\n",
      " [0 1 1 ... 1 1 1]\n",
      " [0 1 1 ... 1 1 1]\n",
      " [0 0 0 ... 0 0 0]]\n",
      "2020-12-14 22:11:12,996 [DEBUG] kashgari - predict seq_length: None, input: (2, 70, 28)\n"
     ]
    },
    {
     "name": "stdout",
     "output_type": "stream",
     "text": [
      "3/3 [==============================] - 0s 29ms/step\n"
     ]
    },
    {
     "name": "stderr",
     "output_type": "stream",
     "text": [
      "2020-12-14 22:11:13,157 [DEBUG] kashgari - predict output: (70, 28)\n",
      "2020-12-14 22:11:13,158 [DEBUG] kashgari - predict output argmax: [[0 1 1 ... 1 1 1]\n",
      " [0 1 1 ... 1 1 1]\n",
      " [0 1 1 ... 1 1 1]\n",
      " ...\n",
      " [0 1 1 ... 1 1 1]\n",
      " [0 1 1 ... 1 1 1]\n",
      " [0 0 0 ... 0 0 0]]\n",
      "2020-12-14 22:11:13,162 [DEBUG] kashgari - predict seq_length: None, input: (2, 189, 26)\n"
     ]
    },
    {
     "name": "stdout",
     "output_type": "stream",
     "text": [
      "6/6 [==============================] - 0s 38ms/step\n"
     ]
    },
    {
     "name": "stderr",
     "output_type": "stream",
     "text": [
      "2020-12-14 22:11:13,469 [DEBUG] kashgari - predict output: (189, 26)\n",
      "2020-12-14 22:11:13,470 [DEBUG] kashgari - predict output argmax: [[0 1 1 ... 1 1 1]\n",
      " [0 1 1 ... 1 1 1]\n",
      " [0 1 1 ... 1 1 1]\n",
      " ...\n",
      " [0 1 1 ... 1 1 1]\n",
      " [0 1 1 ... 1 1 1]\n",
      " [0 0 0 ... 0 0 0]]\n",
      "2020-12-14 22:11:13,473 [DEBUG] kashgari - predict seq_length: None, input: (2, 99, 48)\n"
     ]
    },
    {
     "name": "stdout",
     "output_type": "stream",
     "text": [
      "4/4 [==============================] - 0s 48ms/step\n"
     ]
    },
    {
     "name": "stderr",
     "output_type": "stream",
     "text": [
      "2020-12-14 22:11:13,768 [DEBUG] kashgari - predict output: (99, 48)\n",
      "2020-12-14 22:11:13,770 [DEBUG] kashgari - predict output argmax: [[0 1 1 ... 1 1 1]\n",
      " [0 1 1 ... 1 1 1]\n",
      " [0 1 1 ... 1 1 1]\n",
      " ...\n",
      " [0 1 1 ... 1 1 1]\n",
      " [0 1 1 ... 1 1 1]\n",
      " [0 0 0 ... 0 0 0]]\n",
      "2020-12-14 22:11:13,773 [DEBUG] kashgari - predict seq_length: None, input: (2, 213, 35)\n"
     ]
    },
    {
     "name": "stdout",
     "output_type": "stream",
     "text": [
      "7/7 [==============================] - 0s 47ms/step\n"
     ]
    },
    {
     "name": "stderr",
     "output_type": "stream",
     "text": [
      "2020-12-14 22:11:14,209 [DEBUG] kashgari - predict output: (213, 35)\n",
      "2020-12-14 22:11:14,210 [DEBUG] kashgari - predict output argmax: [[0 1 1 ... 1 1 1]\n",
      " [0 1 1 ... 1 1 1]\n",
      " [0 1 1 ... 1 1 1]\n",
      " ...\n",
      " [0 1 1 ... 1 1 1]\n",
      " [0 1 0 ... 1 1 1]\n",
      " [0 0 0 ... 0 0 0]]\n",
      "2020-12-14 22:11:14,214 [DEBUG] kashgari - predict seq_length: None, input: (2, 181, 40)\n"
     ]
    },
    {
     "name": "stdout",
     "output_type": "stream",
     "text": [
      "6/6 [==============================] - 0s 50ms/step\n"
     ]
    },
    {
     "name": "stderr",
     "output_type": "stream",
     "text": [
      "2020-12-14 22:11:14,608 [DEBUG] kashgari - predict output: (181, 40)\n",
      "2020-12-14 22:11:14,609 [DEBUG] kashgari - predict output argmax: [[0 1 1 ... 1 1 1]\n",
      " [0 1 1 ... 1 1 1]\n",
      " [0 1 1 ... 1 1 1]\n",
      " ...\n",
      " [0 1 1 ... 1 1 1]\n",
      " [0 1 1 ... 1 1 1]\n",
      " [0 0 0 ... 0 0 0]]\n",
      "2020-12-14 22:11:14,611 [DEBUG] kashgari - predict seq_length: None, input: (2, 119, 34)\n"
     ]
    },
    {
     "name": "stdout",
     "output_type": "stream",
     "text": [
      "4/4 [==============================] - 0s 40ms/step\n"
     ]
    },
    {
     "name": "stderr",
     "output_type": "stream",
     "text": [
      "2020-12-14 22:11:14,850 [DEBUG] kashgari - predict output: (119, 34)\n",
      "2020-12-14 22:11:14,851 [DEBUG] kashgari - predict output argmax: [[0 1 1 ... 1 1 1]\n",
      " [0 1 0 ... 1 1 1]\n",
      " [0 1 1 ... 1 1 1]\n",
      " ...\n",
      " [0 1 1 ... 1 1 1]\n",
      " [0 1 1 ... 1 1 1]\n",
      " [0 0 0 ... 0 0 0]]\n",
      "2020-12-14 22:11:14,854 [DEBUG] kashgari - predict seq_length: None, input: (2, 188, 52)\n"
     ]
    },
    {
     "name": "stdout",
     "output_type": "stream",
     "text": [
      "6/6 [==============================] - 0s 63ms/step\n"
     ]
    },
    {
     "name": "stderr",
     "output_type": "stream",
     "text": [
      "2020-12-14 22:11:15,356 [DEBUG] kashgari - predict output: (188, 52)\n",
      "2020-12-14 22:11:15,357 [DEBUG] kashgari - predict output argmax: [[0 1 1 ... 1 1 1]\n",
      " [0 1 1 ... 1 1 1]\n",
      " [0 1 1 ... 1 1 1]\n",
      " ...\n",
      " [0 1 1 ... 1 1 1]\n",
      " [0 1 1 ... 1 1 1]\n",
      " [0 0 0 ... 0 0 0]]\n",
      "2020-12-14 22:11:15,361 [DEBUG] kashgari - predict seq_length: None, input: (2, 252, 30)\n"
     ]
    },
    {
     "name": "stdout",
     "output_type": "stream",
     "text": [
      "8/8 [==============================] - 0s 44ms/step\n"
     ]
    },
    {
     "name": "stderr",
     "output_type": "stream",
     "text": [
      "2020-12-14 22:11:15,802 [DEBUG] kashgari - predict output: (252, 30)\n",
      "2020-12-14 22:11:15,803 [DEBUG] kashgari - predict output argmax: [[0 1 1 ... 1 1 1]\n",
      " [0 1 1 ... 1 1 1]\n",
      " [0 1 1 ... 1 1 1]\n",
      " ...\n",
      " [0 1 1 ... 1 1 1]\n",
      " [0 3 2 ... 1 1 1]\n",
      " [0 0 0 ... 0 0 0]]\n",
      "2020-12-14 22:11:15,808 [DEBUG] kashgari - predict seq_length: None, input: (2, 249, 38)\n"
     ]
    },
    {
     "name": "stdout",
     "output_type": "stream",
     "text": [
      "8/8 [==============================] - 0s 53ms/step\n"
     ]
    },
    {
     "name": "stderr",
     "output_type": "stream",
     "text": [
      "2020-12-14 22:11:16,326 [DEBUG] kashgari - predict output: (249, 38)\n",
      "2020-12-14 22:11:16,327 [DEBUG] kashgari - predict output argmax: [[0 1 1 ... 1 1 1]\n",
      " [0 1 1 ... 1 1 1]\n",
      " [0 1 3 ... 1 1 1]\n",
      " ...\n",
      " [0 1 1 ... 1 1 1]\n",
      " [0 1 1 ... 1 1 1]\n",
      " [0 0 0 ... 0 0 0]]\n",
      "2020-12-14 22:11:16,329 [DEBUG] kashgari - predict seq_length: None, input: (2, 65, 44)\n"
     ]
    },
    {
     "name": "stdout",
     "output_type": "stream",
     "text": [
      "3/3 [==============================] - 0s 35ms/step\n"
     ]
    },
    {
     "name": "stderr",
     "output_type": "stream",
     "text": [
      "2020-12-14 22:11:22,454 [DEBUG] kashgari - predict output: (65, 44)\n",
      "2020-12-14 22:11:22,455 [DEBUG] kashgari - predict output argmax: [[ 0  1  1 ...  1  1  1]\n",
      " [ 0  1  1 ...  1  1  1]\n",
      " [ 0  1  1 ...  1  1  1]\n",
      " ...\n",
      " [ 0  1  1 ... 11 11 11]\n",
      " [ 0  1  1 ...  1  1  1]\n",
      " [ 0  0  0 ...  0  0  0]]\n",
      "2020-12-14 22:11:22,459 [DEBUG] kashgari - predict seq_length: None, input: (2, 265, 41)\n"
     ]
    },
    {
     "name": "stdout",
     "output_type": "stream",
     "text": [
      "9/9 [==============================] - 1s 56ms/step\n"
     ]
    },
    {
     "name": "stderr",
     "output_type": "stream",
     "text": [
      "2020-12-14 22:11:23,073 [DEBUG] kashgari - predict output: (265, 41)\n",
      "2020-12-14 22:11:23,075 [DEBUG] kashgari - predict output argmax: [[0 1 1 ... 1 1 1]\n",
      " [0 1 1 ... 1 1 1]\n",
      " [0 1 1 ... 1 1 1]\n",
      " ...\n",
      " [0 1 1 ... 1 1 1]\n",
      " [0 1 1 ... 1 1 1]\n",
      " [0 0 0 ... 0 0 0]]\n",
      "2020-12-14 22:11:23,078 [DEBUG] kashgari - predict seq_length: None, input: (2, 163, 33)\n"
     ]
    },
    {
     "name": "stdout",
     "output_type": "stream",
     "text": [
      "6/6 [==============================] - 0s 43ms/step\n"
     ]
    },
    {
     "name": "stderr",
     "output_type": "stream",
     "text": [
      "2020-12-14 22:11:23,420 [DEBUG] kashgari - predict output: (163, 33)\n",
      "2020-12-14 22:11:23,421 [DEBUG] kashgari - predict output argmax: [[0 1 1 ... 2 2 2]\n",
      " [0 1 1 ... 2 2 2]\n",
      " [0 1 1 ... 2 2 2]\n",
      " ...\n",
      " [0 1 1 ... 1 1 1]\n",
      " [0 1 1 ... 1 1 1]\n",
      " [0 0 0 ... 0 0 0]]\n",
      "2020-12-14 22:11:23,425 [DEBUG] kashgari - predict seq_length: None, input: (2, 166, 33)\n"
     ]
    },
    {
     "name": "stdout",
     "output_type": "stream",
     "text": [
      "6/6 [==============================] - 0s 42ms/step\n"
     ]
    },
    {
     "name": "stderr",
     "output_type": "stream",
     "text": [
      "2020-12-14 22:11:23,763 [DEBUG] kashgari - predict output: (166, 33)\n",
      "2020-12-14 22:11:23,764 [DEBUG] kashgari - predict output argmax: [[0 1 1 ... 5 5 5]\n",
      " [0 1 7 ... 4 4 4]\n",
      " [0 1 1 ... 1 1 1]\n",
      " ...\n",
      " [0 1 1 ... 1 1 1]\n",
      " [0 1 1 ... 1 1 1]\n",
      " [0 0 0 ... 0 0 0]]\n",
      "2020-12-14 22:11:23,766 [DEBUG] kashgari - predict seq_length: None, input: (2, 152, 37)\n"
     ]
    },
    {
     "name": "stdout",
     "output_type": "stream",
     "text": [
      "5/5 [==============================] - 0s 46ms/step\n"
     ]
    },
    {
     "name": "stderr",
     "output_type": "stream",
     "text": [
      "2020-12-14 22:11:24,085 [DEBUG] kashgari - predict output: (152, 37)\n",
      "2020-12-14 22:11:24,085 [DEBUG] kashgari - predict output argmax: [[0 1 1 ... 1 1 1]\n",
      " [0 1 1 ... 1 1 1]\n",
      " [0 1 1 ... 1 1 1]\n",
      " ...\n",
      " [0 1 1 ... 1 1 1]\n",
      " [0 1 1 ... 1 1 1]\n",
      " [0 0 0 ... 0 0 0]]\n",
      "2020-12-14 22:11:24,089 [DEBUG] kashgari - predict seq_length: None, input: (2, 129, 26)\n"
     ]
    },
    {
     "name": "stdout",
     "output_type": "stream",
     "text": [
      "5/5 [==============================] - 0s 35ms/step\n"
     ]
    },
    {
     "name": "stderr",
     "output_type": "stream",
     "text": [
      "2020-12-14 22:11:24,334 [DEBUG] kashgari - predict output: (129, 26)\n",
      "2020-12-14 22:11:24,336 [DEBUG] kashgari - predict output argmax: [[0 1 1 ... 1 1 1]\n",
      " [0 1 1 ... 1 1 1]\n",
      " [0 1 1 ... 1 1 1]\n",
      " ...\n",
      " [0 1 1 ... 1 1 1]\n",
      " [0 1 1 ... 1 1 1]\n",
      " [0 0 0 ... 0 0 0]]\n",
      "2020-12-14 22:11:24,339 [DEBUG] kashgari - predict seq_length: None, input: (2, 260, 42)\n"
     ]
    },
    {
     "name": "stdout",
     "output_type": "stream",
     "text": [
      "9/9 [==============================] - 0s 53ms/step\n"
     ]
    },
    {
     "name": "stderr",
     "output_type": "stream",
     "text": [
      "2020-12-14 22:11:24,911 [DEBUG] kashgari - predict output: (260, 42)\n",
      "2020-12-14 22:11:24,913 [DEBUG] kashgari - predict output argmax: [[0 1 1 ... 1 1 1]\n",
      " [0 1 1 ... 1 1 1]\n",
      " [0 1 1 ... 1 1 1]\n",
      " ...\n",
      " [0 1 1 ... 1 1 1]\n",
      " [0 1 1 ... 1 1 1]\n",
      " [0 0 0 ... 0 0 0]]\n",
      "2020-12-14 22:11:24,923 [DEBUG] kashgari - predict seq_length: None, input: (2, 557, 59)\n"
     ]
    },
    {
     "name": "stdout",
     "output_type": "stream",
     "text": [
      "18/18 [==============================] - 1s 78ms/step\n"
     ]
    },
    {
     "name": "stderr",
     "output_type": "stream",
     "text": [
      "2020-12-14 22:11:26,451 [DEBUG] kashgari - predict output: (557, 59)\n",
      "2020-12-14 22:11:26,452 [DEBUG] kashgari - predict output argmax: [[0 1 1 ... 1 1 1]\n",
      " [0 1 1 ... 1 1 1]\n",
      " [0 1 1 ... 1 1 1]\n",
      " ...\n",
      " [0 1 1 ... 2 2 2]\n",
      " [0 1 1 ... 1 1 1]\n",
      " [0 0 0 ... 0 0 0]]\n",
      "2020-12-14 22:11:26,456 [DEBUG] kashgari - predict seq_length: None, input: (2, 144, 72)\n"
     ]
    },
    {
     "name": "stdout",
     "output_type": "stream",
     "text": [
      "5/5 [==============================] - 0s 81ms/step\n"
     ]
    },
    {
     "name": "stderr",
     "output_type": "stream",
     "text": [
      "2020-12-14 22:11:30,956 [DEBUG] kashgari - predict output: (144, 72)\n",
      "2020-12-14 22:11:30,957 [DEBUG] kashgari - predict output argmax: [[0 1 1 ... 1 1 1]\n",
      " [0 1 1 ... 1 1 1]\n",
      " [0 1 1 ... 1 1 1]\n",
      " ...\n",
      " [0 1 1 ... 1 1 1]\n",
      " [0 1 1 ... 1 1 1]\n",
      " [0 0 0 ... 0 0 0]]\n",
      "2020-12-14 22:11:30,962 [DEBUG] kashgari - predict seq_length: None, input: (2, 474, 27)\n"
     ]
    },
    {
     "name": "stdout",
     "output_type": "stream",
     "text": [
      "15/15 [==============================] - 1s 43ms/step\n"
     ]
    },
    {
     "name": "stderr",
     "output_type": "stream",
     "text": [
      "2020-12-14 22:11:31,706 [DEBUG] kashgari - predict output: (474, 27)\n",
      "2020-12-14 22:11:31,707 [DEBUG] kashgari - predict output argmax: [[0 1 1 ... 1 1 1]\n",
      " [0 1 1 ... 1 1 1]\n",
      " [0 1 1 ... 1 1 1]\n",
      " ...\n",
      " [0 1 1 ... 1 1 1]\n",
      " [0 1 1 ... 1 1 1]\n",
      " [0 0 0 ... 0 0 0]]\n",
      "2020-12-14 22:11:31,711 [DEBUG] kashgari - predict seq_length: None, input: (2, 253, 34)\n"
     ]
    },
    {
     "name": "stdout",
     "output_type": "stream",
     "text": [
      "8/8 [==============================] - 0s 48ms/step\n"
     ]
    },
    {
     "name": "stderr",
     "output_type": "stream",
     "text": [
      "2020-12-14 22:11:32,181 [DEBUG] kashgari - predict output: (253, 34)\n",
      "2020-12-14 22:11:32,182 [DEBUG] kashgari - predict output argmax: [[0 1 1 ... 1 1 1]\n",
      " [0 1 1 ... 1 1 1]\n",
      " [0 1 1 ... 1 1 1]\n",
      " ...\n",
      " [0 1 1 ... 1 1 1]\n",
      " [0 1 1 ... 1 1 1]\n",
      " [0 0 0 ... 0 0 0]]\n",
      "2020-12-14 22:11:32,186 [DEBUG] kashgari - predict seq_length: None, input: (2, 210, 45)\n"
     ]
    },
    {
     "name": "stdout",
     "output_type": "stream",
     "text": [
      "7/7 [==============================] - 0s 59ms/step\n"
     ]
    },
    {
     "name": "stderr",
     "output_type": "stream",
     "text": [
      "2020-12-14 22:11:32,705 [DEBUG] kashgari - predict output: (210, 45)\n",
      "2020-12-14 22:11:32,706 [DEBUG] kashgari - predict output argmax: [[0 1 1 ... 1 1 1]\n",
      " [0 1 1 ... 1 1 1]\n",
      " [0 1 1 ... 1 1 1]\n",
      " ...\n",
      " [0 1 1 ... 2 2 2]\n",
      " [0 1 1 ... 1 1 1]\n",
      " [0 0 0 ... 0 0 0]]\n",
      "2020-12-14 22:11:32,709 [DEBUG] kashgari - predict seq_length: None, input: (2, 244, 32)\n"
     ]
    },
    {
     "name": "stdout",
     "output_type": "stream",
     "text": [
      "8/8 [==============================] - 0s 46ms/step\n"
     ]
    },
    {
     "name": "stderr",
     "output_type": "stream",
     "text": [
      "2020-12-14 22:11:33,155 [DEBUG] kashgari - predict output: (244, 32)\n",
      "2020-12-14 22:11:33,156 [DEBUG] kashgari - predict output argmax: [[0 1 1 ... 1 1 1]\n",
      " [0 1 1 ... 1 1 1]\n",
      " [0 1 1 ... 1 1 1]\n",
      " ...\n",
      " [0 1 1 ... 1 1 1]\n",
      " [0 1 0 ... 1 1 1]\n",
      " [0 0 0 ... 0 0 0]]\n",
      "2020-12-14 22:11:33,162 [DEBUG] kashgari - predict seq_length: None, input: (2, 319, 36)\n"
     ]
    },
    {
     "name": "stdout",
     "output_type": "stream",
     "text": [
      "10/10 [==============================] - 1s 53ms/step\n"
     ]
    },
    {
     "name": "stderr",
     "output_type": "stream",
     "text": [
      "2020-12-14 22:11:33,780 [DEBUG] kashgari - predict output: (319, 36)\n",
      "2020-12-14 22:11:33,781 [DEBUG] kashgari - predict output argmax: [[0 1 1 ... 1 1 1]\n",
      " [0 1 1 ... 1 1 1]\n",
      " [0 1 1 ... 1 1 1]\n",
      " ...\n",
      " [0 1 1 ... 1 1 1]\n",
      " [0 1 1 ... 1 1 1]\n",
      " [0 0 0 ... 0 0 0]]\n",
      "2020-12-14 22:11:33,789 [DEBUG] kashgari - predict seq_length: None, input: (2, 437, 36)\n"
     ]
    },
    {
     "name": "stdout",
     "output_type": "stream",
     "text": [
      "14/14 [==============================] - 1s 54ms/step\n"
     ]
    },
    {
     "name": "stderr",
     "output_type": "stream",
     "text": [
      "2020-12-14 22:11:34,641 [DEBUG] kashgari - predict output: (437, 36)\n",
      "2020-12-14 22:11:34,642 [DEBUG] kashgari - predict output argmax: [[0 1 1 ... 1 1 1]\n",
      " [0 1 1 ... 1 1 1]\n",
      " [0 1 1 ... 1 1 1]\n",
      " ...\n",
      " [0 1 1 ... 1 1 1]\n",
      " [0 1 1 ... 1 1 1]\n",
      " [0 0 0 ... 0 0 0]]\n",
      "2020-12-14 22:11:34,645 [DEBUG] kashgari - predict seq_length: None, input: (2, 171, 78)\n"
     ]
    },
    {
     "name": "stdout",
     "output_type": "stream",
     "text": [
      "6/6 [==============================] - 1s 85ms/step\n"
     ]
    },
    {
     "name": "stderr",
     "output_type": "stream",
     "text": [
      "2020-12-14 22:11:39,624 [DEBUG] kashgari - predict output: (171, 78)\n",
      "2020-12-14 22:11:39,627 [DEBUG] kashgari - predict output argmax: [[0 1 1 ... 1 1 1]\n",
      " [0 1 1 ... 1 1 1]\n",
      " [0 1 1 ... 1 1 1]\n",
      " ...\n",
      " [0 1 1 ... 1 1 1]\n",
      " [0 1 1 ... 1 1 1]\n",
      " [0 0 0 ... 0 0 0]]\n"
     ]
    }
   ],
   "source": [
    "df = predicting_txt_to_dataframe('/home/Danny/ai-cup-2020/datasets/stage5/test.txt')\n",
    "output_str = \"article_id\\tstart_position\\tend_position\\tentity_text\\tentity_type\\n\"\n",
    "\n",
    "for article_id, text in zip(df['article_id'], df['text']):\n",
    "    x_list = [word for word in text]\n",
    "    y_list = predict_NER(text)\n",
    "    output_str += output_NER(article_id, text, y_list)"
   ]
  },
  {
   "cell_type": "code",
   "execution_count": 22,
   "metadata": {},
   "outputs": [],
   "source": [
    "# print(output_str)"
   ]
  },
  {
   "cell_type": "code",
   "execution_count": 23,
   "metadata": {},
   "outputs": [],
   "source": [
    "output_path = 'output/{}_epoch_{}_batch_{}.tsv'.format(model_name, epochs, batch_size)\n",
    "with open(output_path, 'w', encoding='utf-8') as f:\n",
    "    f.write(output_str)"
   ]
  },
  {
   "cell_type": "code",
   "execution_count": null,
   "metadata": {},
   "outputs": [],
   "source": []
  }
 ],
 "metadata": {
  "kernelspec": {
   "display_name": "Python 3",
   "language": "python",
   "name": "python3"
  },
  "language_info": {
   "codemirror_mode": {
    "name": "ipython",
    "version": 3
   },
   "file_extension": ".py",
   "mimetype": "text/x-python",
   "name": "python",
   "nbconvert_exporter": "python",
   "pygments_lexer": "ipython3",
   "version": "3.6.10"
  }
 },
 "nbformat": 4,
 "nbformat_minor": 4
}
