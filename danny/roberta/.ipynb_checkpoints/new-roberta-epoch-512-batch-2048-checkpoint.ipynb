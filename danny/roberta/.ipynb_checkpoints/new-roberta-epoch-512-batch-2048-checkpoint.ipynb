{
 "cells": [
  {
   "cell_type": "code",
   "execution_count": 1,
   "metadata": {},
   "outputs": [],
   "source": [
    "import re\n",
    "import os\n",
    "import pandas as pd\n",
    "import tensorflow as tf\n",
    "from matplotlib import pyplot as plt"
   ]
  },
  {
   "cell_type": "code",
   "execution_count": 2,
   "metadata": {},
   "outputs": [],
   "source": [
    "def select_gpu(N):\n",
    "    gpus = tf.config.experimental.list_physical_devices('GPU')\n",
    "    print(gpus)\n",
    "    if gpus:\n",
    "        try:\n",
    "            for gpu in gpus:\n",
    "                tf.config.experimental.set_memory_growth(gpu, True)\n",
    "            tf.config.experimental.set_visible_devices(gpus[N], 'GPU')\n",
    "            logical_gpus = tf.config.experimental.list_logical_devices('GPU')\n",
    "            print(len(gpus), \"Physical GPUs,\", len(logical_gpus), \"Logical GPUs\")\n",
    "        except RuntimeError as e:\n",
    "            print(e)    "
   ]
  },
  {
   "cell_type": "code",
   "execution_count": 3,
   "metadata": {},
   "outputs": [
    {
     "name": "stdout",
     "output_type": "stream",
     "text": [
      "[PhysicalDevice(name='/physical_device:GPU:0', device_type='GPU'), PhysicalDevice(name='/physical_device:GPU:1', device_type='GPU'), PhysicalDevice(name='/physical_device:GPU:2', device_type='GPU')]\n",
      "3 Physical GPUs, 1 Logical GPUs\n"
     ]
    }
   ],
   "source": [
    "select_gpu(0)\n",
    "epochs = 256\n",
    "batch_size = 1024\n",
    "model_name = 'chinese_roberta_wwm_large_ext_L-24_H-1024_A-16'\n",
    "embedding_path = '/home/Danny/pretrain_model/{}'.format(model_name)"
   ]
  },
  {
   "cell_type": "code",
   "execution_count": 4,
   "metadata": {},
   "outputs": [],
   "source": [
    "# 不用儲存article_id, 轉成list\n",
    "def training_txt_to_list(path):\n",
    "    with open(path, 'r') as f:\n",
    "        txt = str(f.read())\n",
    "    txt_list = txt.split('\\n')\n",
    "    text_label_list = list()\n",
    "    tmp = list()\n",
    "    for line in txt_list:\n",
    "        if line == '--------------------':\n",
    "            text_label_list.append(tmp)\n",
    "            tmp = list()\n",
    "            continue\n",
    "        if line == '':\n",
    "            continue\n",
    "        tmp.append(line)\n",
    "    x = list()\n",
    "    y = list()\n",
    "    for text_label in text_label_list:\n",
    "        text = text_label[0]\n",
    "        label = text_label[2:]\n",
    "        label_list = ['O' for i in range(len(text))]\n",
    "        for i in label:\n",
    "            entity = i.split('\\t')\n",
    "            if int(entity[1]) > int(entity[2]):\n",
    "                continue\n",
    "            b = int(entity[1])\n",
    "            label_list[b] = 'B-{}'.format(entity[-1])\n",
    "            for j in range(int(entity[1])+1, int(entity[2])):\n",
    "                label_list[j] = 'I-{}'.format(entity[-1])\n",
    "        for i, j in enumerate(text):\n",
    "            if j == '。' or j == '？':\n",
    "                label_list[i] = j\n",
    "                \n",
    "        text_list = re.split('\\u3002|\\uff1f', text)\n",
    "        for sentence in text_list:\n",
    "            x.append([i for i in sentence])\n",
    "        x = x[:-1]\n",
    "            \n",
    "        sentence = list()\n",
    "        for i in label_list:\n",
    "            if i == '。' or i == '？':\n",
    "                y.append(sentence)\n",
    "                sentence = list()\n",
    "            else:\n",
    "                sentence.append(i)\n",
    "                \n",
    "    return [x, y]"
   ]
  },
  {
   "cell_type": "code",
   "execution_count": 5,
   "metadata": {},
   "outputs": [],
   "source": [
    "x1, y1 = training_txt_to_list('/home/Danny/ai-cup-2020/datasets/stage1/SampleData_deid.txt')"
   ]
  },
  {
   "cell_type": "code",
   "execution_count": 6,
   "metadata": {},
   "outputs": [],
   "source": [
    "x2, y2 = training_txt_to_list('/home/Danny/ai-cup-2020/datasets/stage2/train_1_update.txt')"
   ]
  },
  {
   "cell_type": "code",
   "execution_count": 7,
   "metadata": {},
   "outputs": [],
   "source": [
    "x4, y4 = training_txt_to_list('/home/Danny/ai-cup-2020/datasets/stage4/train_2.txt')"
   ]
  },
  {
   "cell_type": "code",
   "execution_count": 8,
   "metadata": {},
   "outputs": [
    {
     "data": {
      "text/html": [
       "<div>\n",
       "<style scoped>\n",
       "    .dataframe tbody tr th:only-of-type {\n",
       "        vertical-align: middle;\n",
       "    }\n",
       "\n",
       "    .dataframe tbody tr th {\n",
       "        vertical-align: top;\n",
       "    }\n",
       "\n",
       "    .dataframe thead th {\n",
       "        text-align: right;\n",
       "    }\n",
       "</style>\n",
       "<table border=\"1\" class=\"dataframe\">\n",
       "  <thead>\n",
       "    <tr style=\"text-align: right;\">\n",
       "      <th></th>\n",
       "      <th>x</th>\n",
       "      <th>y</th>\n",
       "    </tr>\n",
       "  </thead>\n",
       "  <tbody>\n",
       "    <tr>\n",
       "      <th>0</th>\n",
       "      <td>[醫, 師, ：, 那, 時, 候, 在, 做, S, A, R, S, 。]</td>\n",
       "      <td>[O, O, O, O, O, O, O, O, B-clinical_event, I-c...</td>\n",
       "    </tr>\n",
       "    <tr>\n",
       "      <th>1</th>\n",
       "      <td>[醫, 師, ：, 那, 時, 候, 在, 做, s, a, r, s, 。]</td>\n",
       "      <td>[O, O, O, O, O, O, O, O, B-clinical_event, I-c...</td>\n",
       "    </tr>\n",
       "    <tr>\n",
       "      <th>2</th>\n",
       "      <td>[醫, 師, ：, 那, 時, 候, 在, 做, C, O, V, I, D, -, 1, ...</td>\n",
       "      <td>[O, O, O, O, O, O, O, O, B-clinical_event, I-c...</td>\n",
       "    </tr>\n",
       "    <tr>\n",
       "      <th>3</th>\n",
       "      <td>[醫, 師, ：, 那, 時, 候, 在, 做, c, o, v, i, d, -, 1, ...</td>\n",
       "      <td>[O, O, O, O, O, O, O, O, B-clinical_event, I-c...</td>\n",
       "    </tr>\n",
       "    <tr>\n",
       "      <th>4</th>\n",
       "      <td>[醫, 師, ：, 那, 時, 候, 在, 做, C, O, V, I, D, 1, 9, 。]</td>\n",
       "      <td>[O, O, O, O, O, O, O, O, B-clinical_event, I-c...</td>\n",
       "    </tr>\n",
       "    <tr>\n",
       "      <th>...</th>\n",
       "      <td>...</td>\n",
       "      <td>...</td>\n",
       "    </tr>\n",
       "    <tr>\n",
       "      <th>495</th>\n",
       "      <td>[民, 眾, ：, 第, 二, 支, 7, 8, 0, 0, 那, 支, 喔, ？]</td>\n",
       "      <td>[O, O, O, O, O, O, B-money, I-money, I-money, ...</td>\n",
       "    </tr>\n",
       "    <tr>\n",
       "      <th>496</th>\n",
       "      <td>[民, 眾, ：, 我, 是, 帶, 十, 塊, 錢, 餒, 。]</td>\n",
       "      <td>[O, O, O, O, O, O, B-money, I-money, I-money, ...</td>\n",
       "    </tr>\n",
       "    <tr>\n",
       "      <th>497</th>\n",
       "      <td>[醫, 師, ：, 那, 是, 1, 2, 0, 0, 。]</td>\n",
       "      <td>[O, O, O, O, O, B-money, I-money, I-money, I-m...</td>\n",
       "    </tr>\n",
       "    <tr>\n",
       "      <th>498</th>\n",
       "      <td>[醫, 師, ：, 齁, 所, 以, 你, 今, 天, 大, 概, 會, 花, 到, 二, ...</td>\n",
       "      <td>[O, O, O, O, O, O, O, O, O, O, O, O, O, O, B-m...</td>\n",
       "    </tr>\n",
       "    <tr>\n",
       "      <th>499</th>\n",
       "      <td>[醫, 師, ：, 阿, 不, 過, 自, 費, 可, 不, 可, 以, ？, 好, 像, ...</td>\n",
       "      <td>[O, O, O, O, O, O, O, O, O, O, O, O, O, O, O, ...</td>\n",
       "    </tr>\n",
       "  </tbody>\n",
       "</table>\n",
       "<p>1605 rows × 2 columns</p>\n",
       "</div>"
      ],
      "text/plain": [
       "                                                     x  \\\n",
       "0              [醫, 師, ：, 那, 時, 候, 在, 做, S, A, R, S, 。]   \n",
       "1              [醫, 師, ：, 那, 時, 候, 在, 做, s, a, r, s, 。]   \n",
       "2    [醫, 師, ：, 那, 時, 候, 在, 做, C, O, V, I, D, -, 1, ...   \n",
       "3    [醫, 師, ：, 那, 時, 候, 在, 做, c, o, v, i, d, -, 1, ...   \n",
       "4     [醫, 師, ：, 那, 時, 候, 在, 做, C, O, V, I, D, 1, 9, 。]   \n",
       "..                                                 ...   \n",
       "495         [民, 眾, ：, 第, 二, 支, 7, 8, 0, 0, 那, 支, 喔, ？]   \n",
       "496                  [民, 眾, ：, 我, 是, 帶, 十, 塊, 錢, 餒, 。]   \n",
       "497                     [醫, 師, ：, 那, 是, 1, 2, 0, 0, 。]   \n",
       "498  [醫, 師, ：, 齁, 所, 以, 你, 今, 天, 大, 概, 會, 花, 到, 二, ...   \n",
       "499  [醫, 師, ：, 阿, 不, 過, 自, 費, 可, 不, 可, 以, ？, 好, 像, ...   \n",
       "\n",
       "                                                     y  \n",
       "0    [O, O, O, O, O, O, O, O, B-clinical_event, I-c...  \n",
       "1    [O, O, O, O, O, O, O, O, B-clinical_event, I-c...  \n",
       "2    [O, O, O, O, O, O, O, O, B-clinical_event, I-c...  \n",
       "3    [O, O, O, O, O, O, O, O, B-clinical_event, I-c...  \n",
       "4    [O, O, O, O, O, O, O, O, B-clinical_event, I-c...  \n",
       "..                                                 ...  \n",
       "495  [O, O, O, O, O, O, B-money, I-money, I-money, ...  \n",
       "496  [O, O, O, O, O, O, B-money, I-money, I-money, ...  \n",
       "497  [O, O, O, O, O, B-money, I-money, I-money, I-m...  \n",
       "498  [O, O, O, O, O, O, O, O, O, O, O, O, O, O, B-m...  \n",
       "499  [O, O, O, O, O, O, O, O, O, O, O, O, O, O, O, ...  \n",
       "\n",
       "[1605 rows x 2 columns]"
      ]
     },
     "execution_count": 8,
     "metadata": {},
     "output_type": "execute_result"
    }
   ],
   "source": [
    "augmentation_df = pd.DataFrame(columns=['x', 'y'])\n",
    "clinical_event_augmentation_df = pd.read_csv('/home/Danny/ai-cup-2020/datasets/data_augmentation_dialog/clinical_event_augmentation_from_train_label_1223.csv')\n",
    "contact_augmentation_df = pd.read_csv('/home/Danny/ai-cup-2020/datasets/data_augmentation_dialog/contact_augmentation_from_train_label_1223.csv')\n",
    "education_dialog_augmentation_df = pd.read_csv('/home/Danny/ai-cup-2020/datasets/data_augmentation_dialog/education_dialog_augmentation_train_label_1223.csv')\n",
    "family_dialog_augmentation_df = pd.read_csv('/home/Danny/ai-cup-2020/datasets/data_augmentation_dialog/family_dialog_augmentation_from_train_label_1223.csv')\n",
    "med_exam_dialog_augmentation_df = pd.read_csv('/home/Danny/ai-cup-2020/datasets/data_augmentation_dialog/med_exam_dialog_augmentation_from_train_label_1223.csv')\n",
    "money_dialog_augmentation_df = pd.read_csv('/home/Danny/ai-cup-2020/datasets/data_augmentation_dialog/money_dialog_augmentation_from_train_label_1223.csv')\n",
    "augmentation_df = augmentation_df.append(clinical_event_augmentation_df)\n",
    "augmentation_df = augmentation_df.append(contact_augmentation_df)\n",
    "augmentation_df = augmentation_df.append(education_dialog_augmentation_df)\n",
    "augmentation_df = augmentation_df.append(family_dialog_augmentation_df)\n",
    "augmentation_df = augmentation_df.append(med_exam_dialog_augmentation_df)\n",
    "augmentation_df = augmentation_df.append(money_dialog_augmentation_df)\n",
    "augmentation_df['x'] = augmentation_df['x'].apply(lambda row : eval(row))\n",
    "augmentation_df['y'] = augmentation_df['y'].apply(lambda row : eval(row))\n",
    "augmentation_df"
   ]
  },
  {
   "cell_type": "code",
   "execution_count": 9,
   "metadata": {},
   "outputs": [],
   "source": [
    "augmentation_x_list = augmentation_df['x'].tolist()\n",
    "augmentation_y_list = augmentation_df['y'].tolist()"
   ]
  },
  {
   "cell_type": "code",
   "execution_count": 10,
   "metadata": {},
   "outputs": [
    {
     "name": "stdout",
     "output_type": "stream",
     "text": [
      "45939\n",
      "45939\n"
     ]
    }
   ],
   "source": [
    "x = x1 + x2 + x4 + augmentation_x_list\n",
    "y = y1 + y2 + y4 + augmentation_y_list\n",
    "print(len(x))\n",
    "print(len(y))"
   ]
  },
  {
   "cell_type": "code",
   "execution_count": 11,
   "metadata": {},
   "outputs": [],
   "source": [
    "# df = pd.DataFrame({'x': x, 'y': y})\n",
    "# df"
   ]
  },
  {
   "cell_type": "code",
   "execution_count": 12,
   "metadata": {},
   "outputs": [],
   "source": [
    "# df['x'] = df['x'].apply(lambda row : str(row))\n",
    "# df['y'] = df['y'].apply(lambda row : str(row))\n",
    "# df = df.drop_duplicates()\n",
    "# df['x'] = df['x'].apply(lambda row : eval(row))\n",
    "# df['y'] = df['y'].apply(lambda row : eval(row))\n",
    "# df"
   ]
  },
  {
   "cell_type": "code",
   "execution_count": 13,
   "metadata": {},
   "outputs": [],
   "source": [
    "# x = df['x'].to_list()\n",
    "# y = df['y'].to_list()"
   ]
  },
  {
   "cell_type": "code",
   "execution_count": 14,
   "metadata": {},
   "outputs": [
    {
     "name": "stdout",
     "output_type": "stream",
     "text": [
      "29400 29400\n",
      "7351 7351\n",
      "9188 9188\n"
     ]
    }
   ],
   "source": [
    "from sklearn.model_selection import train_test_split\n",
    "train_x, test_x, train_y, test_y = train_test_split(x, y, test_size=0.2, random_state=42)\n",
    "train_x, valid_x, train_y, valid_y = train_test_split(train_x, train_y, test_size=0.2, random_state=42)\n",
    "print(len(train_x), len(train_y))\n",
    "print(len(valid_x), len(valid_y))\n",
    "print(len(test_x), len(test_y))"
   ]
  },
  {
   "cell_type": "code",
   "execution_count": 15,
   "metadata": {},
   "outputs": [
    {
     "name": "stderr",
     "output_type": "stream",
     "text": [
      "2020-12-24 00:26:01,602 [DEBUG] kashgari - ------------------------------------------------\n",
      "2020-12-24 00:26:01,603 [DEBUG] kashgari - Loaded transformer model's vocab\n",
      "2020-12-24 00:26:01,603 [DEBUG] kashgari - config_path       : /home/Danny/pretrain_model/chinese_roberta_wwm_large_ext_L-24_H-1024_A-16/bert_config.json\n",
      "2020-12-24 00:26:01,604 [DEBUG] kashgari - vocab_path      : /home/Danny/pretrain_model/chinese_roberta_wwm_large_ext_L-24_H-1024_A-16/vocab.txt\n",
      "2020-12-24 00:26:01,605 [DEBUG] kashgari - checkpoint_path : /home/Danny/pretrain_model/chinese_roberta_wwm_large_ext_L-24_H-1024_A-16/bert_model.ckpt\n",
      "2020-12-24 00:26:01,605 [DEBUG] kashgari - Top 50 words    : ['[PAD]', '[unused1]', '[unused2]', '[unused3]', '[unused4]', '[unused5]', '[unused6]', '[unused7]', '[unused8]', '[unused9]', '[unused10]', '[unused11]', '[unused12]', '[unused13]', '[unused14]', '[unused15]', '[unused16]', '[unused17]', '[unused18]', '[unused19]', '[unused20]', '[unused21]', '[unused22]', '[unused23]', '[unused24]', '[unused25]', '[unused26]', '[unused27]', '[unused28]', '[unused29]', '[unused30]', '[unused31]', '[unused32]', '[unused33]', '[unused34]', '[unused35]', '[unused36]', '[unused37]', '[unused38]', '[unused39]', '[unused40]', '[unused41]', '[unused42]', '[unused43]', '[unused44]', '[unused45]', '[unused46]', '[unused47]', '[unused48]', '[unused49]']\n",
      "2020-12-24 00:26:01,606 [DEBUG] kashgari - ------------------------------------------------\n"
     ]
    }
   ],
   "source": [
    "import kashgari\n",
    "from kashgari.tasks.labeling import BiLSTM_CRF_Model\n",
    "from kashgari.embeddings import TransformerEmbedding\n",
    "from keras_radam import RAdam\n",
    "kashgari.config.use_cudnn_cell = True\n",
    "\n",
    "embedding_path = '/home/Danny/pretrain_model/{}'.format(model_name)\n",
    "vocab_path = os.path.join(embedding_path, 'vocab.txt')\n",
    "config_path = os.path.join(embedding_path, 'bert_config.json')\n",
    "checkpoint_path = os.path.join(embedding_path, 'bert_model.ckpt')\n",
    "embedding = TransformerEmbedding(vocab_path, \n",
    "                                 config_path, \n",
    "                                 checkpoint_path,\n",
    "                                 bert_type='bert',\n",
    "                                 sequence_length='auto',\n",
    "                                 trainable=True,\n",
    "                                 task='kashgari.LABELING',\n",
    "                                )\n",
    "\n",
    "model = BiLSTM_CRF_Model(embedding)\n",
    "# model.build_model(train_x, train_y)\n",
    "# model.compile_model(optimizer=RAdam(lr=3e-5))\n",
    "# hyper = model.default_hyper_parameters()\n",
    "# print(hyper)"
   ]
  },
  {
   "cell_type": "code",
   "execution_count": 16,
   "metadata": {
    "scrolled": false
   },
   "outputs": [
    {
     "name": "stderr",
     "output_type": "stream",
     "text": [
      "Preparing text vocab dict: 100%|██████████| 29400/29400 [00:00<00:00, 270175.76it/s]\n",
      "Preparing text vocab dict: 100%|██████████| 7351/7351 [00:00<00:00, 283078.36it/s]\n",
      "2020-12-24 00:26:01,755 [DEBUG] kashgari - --- Build vocab dict finished, Total: 1744 ---\n",
      "2020-12-24 00:26:01,755 [DEBUG] kashgari - Top-10: ['[PAD]', '[UNK]', '[CLS]', '[SEP]', '：', '，', '師', '是', '民', '眾']\n",
      "Preparing text vocab dict: 100%|██████████| 29400/29400 [00:00<00:00, 353890.79it/s]\n",
      "Preparing text vocab dict: 100%|██████████| 7351/7351 [00:00<00:00, 371751.53it/s]\n",
      "2020-12-24 00:26:01,862 [DEBUG] kashgari - --- Build vocab dict finished, Total: 28 ---\n",
      "2020-12-24 00:26:01,863 [DEBUG] kashgari - Top-10: ['[PAD]', 'O', 'I-time', 'B-time', 'I-contact', 'I-money', 'I-med_exam', 'B-money', 'I-name', 'B-med_exam']\n",
      "Calculating sequence length: 100%|██████████| 29400/29400 [00:00<00:00, 1410430.61it/s]\n",
      "Calculating sequence length: 100%|██████████| 7351/7351 [00:00<00:00, 1383546.27it/s]\n",
      "2020-12-24 00:26:08,349 [DEBUG] kashgari - Calculated sequence length = 44\n",
      "2020-12-24 00:26:10,570 [DEBUG] kashgari - fit input shape: (2, 1024, 44)\n",
      "2020-12-24 00:26:10,571 [DEBUG] kashgari - fit input shape: (1024, 44)\n"
     ]
    },
    {
     "name": "stdout",
     "output_type": "stream",
     "text": [
      "Epoch 1/256\n",
      "28/28 [==============================] - 129s 5s/step - loss: 3.0414 - accuracy: 0.9085 - val_loss: 44.7085 - val_accuracy: 0.5858\n",
      "Epoch 2/256\n",
      "28/28 [==============================] - 122s 4s/step - loss: 0.9434 - accuracy: 0.9682 - val_loss: 44.4349 - val_accuracy: 0.5960\n",
      "Epoch 3/256\n",
      "28/28 [==============================] - 121s 4s/step - loss: 0.6650 - accuracy: 0.9734 - val_loss: 44.4151 - val_accuracy: 0.6012\n",
      "Epoch 4/256\n",
      "28/28 [==============================] - 122s 4s/step - loss: 0.5205 - accuracy: 0.9768 - val_loss: 44.2419 - val_accuracy: 0.6043\n",
      "Epoch 5/256\n",
      "28/28 [==============================] - 121s 4s/step - loss: 0.4283 - accuracy: 0.9791 - val_loss: 44.3250 - val_accuracy: 0.6059\n",
      "Epoch 6/256\n",
      "28/28 [==============================] - 121s 4s/step - loss: 0.3557 - accuracy: 0.9820 - val_loss: 44.0896 - val_accuracy: 0.6107\n",
      "Epoch 7/256\n",
      "28/28 [==============================] - 122s 4s/step - loss: 0.3058 - accuracy: 0.9843 - val_loss: 43.9213 - val_accuracy: 0.6133\n",
      "Epoch 8/256\n",
      "28/28 [==============================] - 121s 4s/step - loss: 0.2678 - accuracy: 0.9861 - val_loss: 43.9862 - val_accuracy: 0.6155\n",
      "Epoch 9/256\n",
      "28/28 [==============================] - 121s 4s/step - loss: 0.2400 - accuracy: 0.9874 - val_loss: 43.8851 - val_accuracy: 0.6169\n",
      "Epoch 10/256\n",
      "28/28 [==============================] - 121s 4s/step - loss: 0.2193 - accuracy: 0.9882 - val_loss: 43.7184 - val_accuracy: 0.6173\n",
      "Epoch 11/256\n",
      "28/28 [==============================] - 121s 4s/step - loss: 0.1975 - accuracy: 0.9894 - val_loss: 43.7794 - val_accuracy: 0.6154\n",
      "Epoch 12/256\n",
      "28/28 [==============================] - 121s 4s/step - loss: 0.1846 - accuracy: 0.9901 - val_loss: 43.6863 - val_accuracy: 0.6155\n",
      "Epoch 13/256\n",
      "28/28 [==============================] - 121s 4s/step - loss: 0.1688 - accuracy: 0.9909 - val_loss: 43.7014 - val_accuracy: 0.6161\n",
      "Epoch 14/256\n",
      "28/28 [==============================] - 122s 4s/step - loss: 0.1569 - accuracy: 0.9916 - val_loss: 43.5531 - val_accuracy: 0.6174\n",
      "Epoch 15/256\n",
      "28/28 [==============================] - 121s 4s/step - loss: 0.1436 - accuracy: 0.9923 - val_loss: 43.5219 - val_accuracy: 0.6165\n",
      "Epoch 16/256\n",
      "28/28 [==============================] - 121s 4s/step - loss: 0.1390 - accuracy: 0.9925 - val_loss: 43.4378 - val_accuracy: 0.6178\n",
      "Epoch 17/256\n",
      "28/28 [==============================] - 122s 4s/step - loss: 0.1291 - accuracy: 0.9931 - val_loss: 43.5774 - val_accuracy: 0.6180\n",
      "Epoch 18/256\n",
      "28/28 [==============================] - 121s 4s/step - loss: 0.1203 - accuracy: 0.9936 - val_loss: 43.4474 - val_accuracy: 0.6180\n",
      "Epoch 19/256\n",
      "28/28 [==============================] - 121s 4s/step - loss: 0.1120 - accuracy: 0.9939 - val_loss: 43.3799 - val_accuracy: 0.6189\n",
      "Epoch 20/256\n",
      "28/28 [==============================] - 121s 4s/step - loss: 0.1033 - accuracy: 0.9945 - val_loss: 43.2722 - val_accuracy: 0.6187\n",
      "Epoch 21/256\n",
      "28/28 [==============================] - 122s 4s/step - loss: 0.1004 - accuracy: 0.9945 - val_loss: 43.3783 - val_accuracy: 0.6179\n",
      "Epoch 22/256\n",
      "28/28 [==============================] - 121s 4s/step - loss: 0.0944 - accuracy: 0.9948 - val_loss: 43.2369 - val_accuracy: 0.6191\n",
      "Epoch 23/256\n",
      "28/28 [==============================] - 121s 4s/step - loss: 0.0879 - accuracy: 0.9953 - val_loss: 43.3189 - val_accuracy: 0.6174\n",
      "Epoch 24/256\n",
      "28/28 [==============================] - 122s 4s/step - loss: 0.0834 - accuracy: 0.9954 - val_loss: 43.1695 - val_accuracy: 0.9868\n",
      "Epoch 25/256\n",
      "28/28 [==============================] - 121s 4s/step - loss: 0.0771 - accuracy: 0.9959 - val_loss: 43.2839 - val_accuracy: 0.9870\n",
      "Epoch 26/256\n",
      "28/28 [==============================] - 121s 4s/step - loss: 0.0725 - accuracy: 0.9961 - val_loss: 43.1126 - val_accuracy: 0.9874\n",
      "Epoch 27/256\n",
      "28/28 [==============================] - 122s 4s/step - loss: 0.0687 - accuracy: 0.9963 - val_loss: 43.0205 - val_accuracy: 0.9868\n",
      "Epoch 28/256\n",
      "28/28 [==============================] - 121s 4s/step - loss: 0.0635 - accuracy: 0.9966 - val_loss: 43.0763 - val_accuracy: 0.9872\n",
      "Epoch 29/256\n",
      "28/28 [==============================] - 121s 4s/step - loss: 0.0602 - accuracy: 0.9967 - val_loss: 43.0581 - val_accuracy: 0.9869\n",
      "Epoch 30/256\n",
      "28/28 [==============================] - 123s 4s/step - loss: 0.0548 - accuracy: 0.9972 - val_loss: 43.0062 - val_accuracy: 0.9875\n",
      "Epoch 31/256\n",
      "28/28 [==============================] - 122s 4s/step - loss: 0.0551 - accuracy: 0.9971 - val_loss: 42.8628 - val_accuracy: 0.9873\n",
      "Epoch 32/256\n",
      "28/28 [==============================] - 121s 4s/step - loss: 0.0540 - accuracy: 0.9972 - val_loss: 43.0030 - val_accuracy: 0.9881\n",
      "Epoch 33/256\n",
      "28/28 [==============================] - 121s 4s/step - loss: 0.0501 - accuracy: 0.9973 - val_loss: 42.8301 - val_accuracy: 0.9873\n",
      "Epoch 34/256\n",
      "28/28 [==============================] - 122s 4s/step - loss: 0.0484 - accuracy: 0.9975 - val_loss: 42.9261 - val_accuracy: 0.9877\n",
      "Epoch 35/256\n",
      "28/28 [==============================] - 121s 4s/step - loss: 0.0444 - accuracy: 0.9977 - val_loss: 42.8826 - val_accuracy: 0.9881\n",
      "Epoch 36/256\n",
      "28/28 [==============================] - 121s 4s/step - loss: 0.0411 - accuracy: 0.9978 - val_loss: 42.8709 - val_accuracy: 0.9880\n",
      "Epoch 37/256\n",
      "28/28 [==============================] - 122s 4s/step - loss: 0.0400 - accuracy: 0.9979 - val_loss: 42.8974 - val_accuracy: 0.9881\n",
      "Epoch 38/256\n",
      "28/28 [==============================] - 121s 4s/step - loss: 0.0390 - accuracy: 0.9980 - val_loss: 42.7985 - val_accuracy: 0.9884\n",
      "Epoch 39/256\n",
      "28/28 [==============================] - 121s 4s/step - loss: 0.0360 - accuracy: 0.9981 - val_loss: 42.7694 - val_accuracy: 0.9881\n",
      "Epoch 40/256\n",
      "28/28 [==============================] - 122s 4s/step - loss: 0.0349 - accuracy: 0.9983 - val_loss: 42.7338 - val_accuracy: 0.9881\n",
      "Epoch 41/256\n",
      "28/28 [==============================] - 121s 4s/step - loss: 0.0327 - accuracy: 0.9984 - val_loss: 42.8038 - val_accuracy: 0.9882\n",
      "Epoch 42/256\n",
      "28/28 [==============================] - 121s 4s/step - loss: 0.0327 - accuracy: 0.9982 - val_loss: 42.8371 - val_accuracy: 0.9884\n",
      "Epoch 43/256\n",
      "28/28 [==============================] - 122s 4s/step - loss: 0.0314 - accuracy: 0.9983 - val_loss: 42.6181 - val_accuracy: 0.9886\n",
      "Epoch 44/256\n",
      "28/28 [==============================] - 121s 4s/step - loss: 0.0316 - accuracy: 0.9983 - val_loss: 42.6700 - val_accuracy: 0.9885\n",
      "Epoch 45/256\n",
      "28/28 [==============================] - 121s 4s/step - loss: 0.0301 - accuracy: 0.9985 - val_loss: 42.5886 - val_accuracy: 0.9885\n",
      "Epoch 46/256\n",
      "28/28 [==============================] - 122s 4s/step - loss: 0.0282 - accuracy: 0.9985 - val_loss: 42.6568 - val_accuracy: 0.9886\n",
      "Epoch 47/256\n",
      "28/28 [==============================] - 121s 4s/step - loss: 0.0269 - accuracy: 0.9986 - val_loss: 42.5573 - val_accuracy: 0.9885\n",
      "Epoch 48/256\n",
      "28/28 [==============================] - 121s 4s/step - loss: 0.0265 - accuracy: 0.9986 - val_loss: 42.5679 - val_accuracy: 0.9872\n",
      "Epoch 49/256\n",
      "28/28 [==============================] - 122s 4s/step - loss: 0.0263 - accuracy: 0.9985 - val_loss: 42.5231 - val_accuracy: 0.9877\n",
      "Epoch 50/256\n",
      "28/28 [==============================] - 121s 4s/step - loss: 0.0253 - accuracy: 0.9986 - val_loss: 42.6148 - val_accuracy: 0.9880\n",
      "Epoch 51/256\n",
      "28/28 [==============================] - 121s 4s/step - loss: 0.0266 - accuracy: 0.9986 - val_loss: 42.5707 - val_accuracy: 0.9885\n",
      "Epoch 52/256\n",
      "28/28 [==============================] - 121s 4s/step - loss: 0.0236 - accuracy: 0.9987 - val_loss: 42.5583 - val_accuracy: 0.9882\n",
      "Epoch 53/256\n",
      "28/28 [==============================] - 121s 4s/step - loss: 0.0226 - accuracy: 0.9988 - val_loss: 42.5224 - val_accuracy: 0.9883\n",
      "Epoch 54/256\n",
      "28/28 [==============================] - 121s 4s/step - loss: 0.0212 - accuracy: 0.9990 - val_loss: 42.5570 - val_accuracy: 0.9884\n",
      "Epoch 55/256\n",
      "28/28 [==============================] - 121s 4s/step - loss: 0.0213 - accuracy: 0.9989 - val_loss: 42.5064 - val_accuracy: 0.9885\n",
      "Epoch 56/256\n",
      "28/28 [==============================] - 122s 4s/step - loss: 0.0188 - accuracy: 0.9991 - val_loss: 42.4658 - val_accuracy: 0.9881\n",
      "Epoch 57/256\n",
      "28/28 [==============================] - 121s 4s/step - loss: 0.0203 - accuracy: 0.9990 - val_loss: 42.4845 - val_accuracy: 0.9888\n"
     ]
    },
    {
     "name": "stdout",
     "output_type": "stream",
     "text": [
      "Epoch 58/256\n",
      "28/28 [==============================] - 121s 4s/step - loss: 0.0186 - accuracy: 0.9990 - val_loss: 42.3841 - val_accuracy: 0.9882\n",
      "Epoch 59/256\n",
      "28/28 [==============================] - 123s 4s/step - loss: 0.0198 - accuracy: 0.9989 - val_loss: 42.4203 - val_accuracy: 0.9882\n",
      "Epoch 60/256\n",
      "28/28 [==============================] - 122s 4s/step - loss: 0.0187 - accuracy: 0.9990 - val_loss: 42.4285 - val_accuracy: 0.9885\n",
      "Epoch 61/256\n",
      "28/28 [==============================] - 121s 4s/step - loss: 0.0185 - accuracy: 0.9990 - val_loss: 42.3985 - val_accuracy: 0.9881\n",
      "Epoch 62/256\n",
      "28/28 [==============================] - 122s 4s/step - loss: 0.0190 - accuracy: 0.9990 - val_loss: 42.4809 - val_accuracy: 0.9884\n",
      "Epoch 63/256\n",
      "28/28 [==============================] - 121s 4s/step - loss: 0.0167 - accuracy: 0.9991 - val_loss: 42.3235 - val_accuracy: 0.9881\n",
      "Epoch 64/256\n",
      "28/28 [==============================] - 121s 4s/step - loss: 0.0187 - accuracy: 0.9990 - val_loss: 42.3207 - val_accuracy: 0.9878\n",
      "Epoch 65/256\n",
      "28/28 [==============================] - 122s 4s/step - loss: 0.0154 - accuracy: 0.9992 - val_loss: 42.4052 - val_accuracy: 0.9877\n",
      "Epoch 66/256\n",
      "28/28 [==============================] - 121s 4s/step - loss: 0.0159 - accuracy: 0.9991 - val_loss: 42.4256 - val_accuracy: 0.9877\n",
      "Epoch 67/256\n",
      "28/28 [==============================] - 121s 4s/step - loss: 0.0158 - accuracy: 0.9991 - val_loss: 42.3160 - val_accuracy: 0.9877\n",
      "Epoch 68/256\n",
      "28/28 [==============================] - 122s 4s/step - loss: 0.0145 - accuracy: 0.9992 - val_loss: 42.3951 - val_accuracy: 0.9875\n",
      "Epoch 69/256\n",
      "28/28 [==============================] - 121s 4s/step - loss: 0.0146 - accuracy: 0.9993 - val_loss: 42.4034 - val_accuracy: 0.9874\n",
      "Epoch 70/256\n",
      "28/28 [==============================] - 121s 4s/step - loss: 0.0150 - accuracy: 0.9991 - val_loss: 42.3252 - val_accuracy: 0.9874\n",
      "Epoch 71/256\n",
      "28/28 [==============================] - 122s 4s/step - loss: 0.0143 - accuracy: 0.9992 - val_loss: 42.3850 - val_accuracy: 0.9875\n",
      "Epoch 72/256\n",
      "28/28 [==============================] - 121s 4s/step - loss: 0.0146 - accuracy: 0.9991 - val_loss: 42.2460 - val_accuracy: 0.9869\n",
      "Epoch 73/256\n",
      "28/28 [==============================] - 121s 4s/step - loss: 0.0167 - accuracy: 0.9990 - val_loss: 42.2745 - val_accuracy: 0.9872\n",
      "Epoch 74/256\n",
      "28/28 [==============================] - 121s 4s/step - loss: 0.0152 - accuracy: 0.9991 - val_loss: 42.3072 - val_accuracy: 0.9856\n",
      "Epoch 75/256\n",
      "28/28 [==============================] - 122s 4s/step - loss: 0.0152 - accuracy: 0.9992 - val_loss: 42.3096 - val_accuracy: 0.9859\n",
      "Epoch 76/256\n",
      "28/28 [==============================] - 121s 4s/step - loss: 0.0140 - accuracy: 0.9991 - val_loss: 42.1802 - val_accuracy: 0.9858\n",
      "Epoch 77/256\n",
      "28/28 [==============================] - 121s 4s/step - loss: 0.0147 - accuracy: 0.9992 - val_loss: 42.2879 - val_accuracy: 0.9863\n",
      "Epoch 78/256\n",
      "28/28 [==============================] - 122s 4s/step - loss: 0.0159 - accuracy: 0.9991 - val_loss: 42.1494 - val_accuracy: 0.9860\n",
      "Epoch 79/256\n",
      "28/28 [==============================] - 121s 4s/step - loss: 0.0142 - accuracy: 0.9992 - val_loss: 42.2059 - val_accuracy: 0.9859\n",
      "Epoch 80/256\n",
      "28/28 [==============================] - 121s 4s/step - loss: 0.0156 - accuracy: 0.9991 - val_loss: 42.1563 - val_accuracy: 0.9857\n",
      "Epoch 81/256\n",
      "28/28 [==============================] - 122s 4s/step - loss: 0.0140 - accuracy: 0.9992 - val_loss: 42.1956 - val_accuracy: 0.9856\n",
      "Epoch 82/256\n",
      "28/28 [==============================] - 121s 4s/step - loss: 0.0117 - accuracy: 0.9993 - val_loss: 42.1923 - val_accuracy: 0.9857\n",
      "Epoch 83/256\n",
      "28/28 [==============================] - 121s 4s/step - loss: 0.0120 - accuracy: 0.9993 - val_loss: 42.0590 - val_accuracy: 0.9856\n",
      "Epoch 84/256\n",
      "28/28 [==============================] - 122s 4s/step - loss: 0.0116 - accuracy: 0.9993 - val_loss: 42.1897 - val_accuracy: 0.9858\n",
      "Epoch 85/256\n",
      "28/28 [==============================] - 121s 4s/step - loss: 0.0111 - accuracy: 0.9993 - val_loss: 42.1583 - val_accuracy: 0.9858\n",
      "Epoch 86/256\n",
      "28/28 [==============================] - 121s 4s/step - loss: 0.0108 - accuracy: 0.9994 - val_loss: 42.0856 - val_accuracy: 0.9859\n",
      "Epoch 87/256\n",
      "28/28 [==============================] - 122s 4s/step - loss: 0.0101 - accuracy: 0.9994 - val_loss: 42.0806 - val_accuracy: 0.9851\n",
      "Epoch 88/256\n",
      "28/28 [==============================] - 122s 4s/step - loss: 0.0105 - accuracy: 0.9994 - val_loss: 42.0921 - val_accuracy: 0.9853\n",
      "Epoch 89/256\n",
      "28/28 [==============================] - 122s 4s/step - loss: 0.0103 - accuracy: 0.9993 - val_loss: 42.1052 - val_accuracy: 0.9851\n",
      "Epoch 90/256\n",
      "28/28 [==============================] - 122s 4s/step - loss: 0.0101 - accuracy: 0.9994 - val_loss: 42.0490 - val_accuracy: 0.9851\n",
      "Epoch 91/256\n",
      "28/28 [==============================] - 121s 4s/step - loss: 0.0106 - accuracy: 0.9994 - val_loss: 42.0815 - val_accuracy: 0.9842\n",
      "Epoch 92/256\n",
      "28/28 [==============================] - 121s 4s/step - loss: 0.0101 - accuracy: 0.9994 - val_loss: 42.0657 - val_accuracy: 0.9842\n",
      "Epoch 93/256\n",
      "28/28 [==============================] - 122s 4s/step - loss: 0.0100 - accuracy: 0.9993 - val_loss: 42.0616 - val_accuracy: 0.3962\n",
      "Epoch 94/256\n",
      "28/28 [==============================] - 121s 4s/step - loss: 0.0102 - accuracy: 0.9994 - val_loss: 42.0243 - val_accuracy: 0.2996\n",
      "Epoch 95/256\n",
      "28/28 [==============================] - 121s 4s/step - loss: 0.0110 - accuracy: 0.9993 - val_loss: 41.9812 - val_accuracy: 0.3004\n",
      "Epoch 96/256\n",
      "28/28 [==============================] - 121s 4s/step - loss: 0.0090 - accuracy: 0.9994 - val_loss: 42.0407 - val_accuracy: 0.2816\n",
      "Epoch 97/256\n",
      "28/28 [==============================] - 121s 4s/step - loss: 0.0105 - accuracy: 0.9993 - val_loss: 42.0053 - val_accuracy: 0.2815\n",
      "Epoch 98/256\n",
      "28/28 [==============================] - 121s 4s/step - loss: 0.0102 - accuracy: 0.9993 - val_loss: 41.9317 - val_accuracy: 0.2827\n",
      "Epoch 99/256\n",
      "28/28 [==============================] - 121s 4s/step - loss: 0.0094 - accuracy: 0.9994 - val_loss: 41.9127 - val_accuracy: 0.2825\n",
      "Epoch 100/256\n",
      "28/28 [==============================] - 122s 4s/step - loss: 0.0092 - accuracy: 0.9994 - val_loss: 41.9275 - val_accuracy: 0.2819\n",
      "Epoch 101/256\n",
      "28/28 [==============================] - 121s 4s/step - loss: 0.0089 - accuracy: 0.9994 - val_loss: 41.7996 - val_accuracy: 0.2837\n",
      "Epoch 102/256\n",
      "28/28 [==============================] - 121s 4s/step - loss: 0.0088 - accuracy: 0.9994 - val_loss: 41.9591 - val_accuracy: 0.2822\n",
      "Epoch 103/256\n",
      "28/28 [==============================] - 122s 4s/step - loss: 0.0091 - accuracy: 0.9994 - val_loss: 41.9672 - val_accuracy: 0.2802\n",
      "Epoch 104/256\n",
      "28/28 [==============================] - 121s 4s/step - loss: 0.0091 - accuracy: 0.9994 - val_loss: 41.9316 - val_accuracy: 0.2812\n",
      "Epoch 105/256\n",
      "28/28 [==============================] - 121s 4s/step - loss: 0.0087 - accuracy: 0.9994 - val_loss: 41.9377 - val_accuracy: 0.2802\n",
      "Epoch 106/256\n",
      "28/28 [==============================] - 122s 4s/step - loss: 0.0079 - accuracy: 0.9995 - val_loss: 41.8405 - val_accuracy: 0.2804\n",
      "Epoch 107/256\n",
      "28/28 [==============================] - 121s 4s/step - loss: 0.0083 - accuracy: 0.9995 - val_loss: 41.8248 - val_accuracy: 0.2799\n",
      "Epoch 108/256\n",
      "28/28 [==============================] - 121s 4s/step - loss: 0.0091 - accuracy: 0.9994 - val_loss: 41.8476 - val_accuracy: 0.2806\n",
      "Epoch 109/256\n",
      "28/28 [==============================] - 122s 4s/step - loss: 0.0078 - accuracy: 0.9995 - val_loss: 41.8844 - val_accuracy: 0.2806\n",
      "Epoch 110/256\n",
      "28/28 [==============================] - 121s 4s/step - loss: 0.0081 - accuracy: 0.9995 - val_loss: 41.9654 - val_accuracy: 0.2800\n",
      "Epoch 111/256\n",
      "28/28 [==============================] - 121s 4s/step - loss: 0.0086 - accuracy: 0.9994 - val_loss: 41.9249 - val_accuracy: 0.2811\n",
      "Epoch 112/256\n",
      "28/28 [==============================] - 122s 4s/step - loss: 0.0081 - accuracy: 0.9994 - val_loss: 41.8283 - val_accuracy: 0.2806\n",
      "Epoch 113/256\n",
      "28/28 [==============================] - 121s 4s/step - loss: 0.0082 - accuracy: 0.9994 - val_loss: 41.9092 - val_accuracy: 0.2808\n",
      "Epoch 114/256\n",
      "28/28 [==============================] - 121s 4s/step - loss: 0.0084 - accuracy: 0.9994 - val_loss: 41.7918 - val_accuracy: 0.2795\n"
     ]
    },
    {
     "name": "stdout",
     "output_type": "stream",
     "text": [
      "Epoch 115/256\n",
      "28/28 [==============================] - 122s 4s/step - loss: 0.0071 - accuracy: 0.9995 - val_loss: 41.8269 - val_accuracy: 0.2799\n",
      "Epoch 116/256\n",
      "28/28 [==============================] - 121s 4s/step - loss: 0.0081 - accuracy: 0.9994 - val_loss: 41.8014 - val_accuracy: 0.2783\n",
      "Epoch 117/256\n",
      "28/28 [==============================] - 122s 4s/step - loss: 0.0084 - accuracy: 0.9994 - val_loss: 41.7338 - val_accuracy: 0.2793\n",
      "Epoch 118/256\n",
      "28/28 [==============================] - 123s 4s/step - loss: 0.0084 - accuracy: 0.9994 - val_loss: 41.7655 - val_accuracy: 0.2772\n",
      "Epoch 119/256\n",
      "28/28 [==============================] - 121s 4s/step - loss: 0.0082 - accuracy: 0.9994 - val_loss: 41.6563 - val_accuracy: 0.2781\n",
      "Epoch 120/256\n",
      "28/28 [==============================] - 120s 4s/step - loss: 0.0073 - accuracy: 0.9995 - val_loss: 41.8088 - val_accuracy: 0.2652\n",
      "Epoch 121/256\n",
      "28/28 [==============================] - 122s 4s/step - loss: 0.0077 - accuracy: 0.9995 - val_loss: 41.7771 - val_accuracy: 0.2644\n",
      "Epoch 122/256\n",
      "28/28 [==============================] - 121s 4s/step - loss: 0.0074 - accuracy: 0.9995 - val_loss: 41.7068 - val_accuracy: 0.2274\n",
      "Epoch 123/256\n",
      "28/28 [==============================] - 121s 4s/step - loss: 0.0076 - accuracy: 0.9995 - val_loss: 41.6355 - val_accuracy: 0.2273\n",
      "Epoch 124/256\n",
      "28/28 [==============================] - 122s 4s/step - loss: 0.0074 - accuracy: 0.9995 - val_loss: 41.6991 - val_accuracy: 0.2275\n",
      "Epoch 125/256\n",
      "28/28 [==============================] - 121s 4s/step - loss: 0.0076 - accuracy: 0.9995 - val_loss: 41.6750 - val_accuracy: 0.2272\n",
      "Epoch 126/256\n",
      "28/28 [==============================] - 121s 4s/step - loss: 0.0078 - accuracy: 0.9994 - val_loss: 41.6459 - val_accuracy: 0.2278\n",
      "Epoch 127/256\n",
      "28/28 [==============================] - 121s 4s/step - loss: 0.0101 - accuracy: 0.9993 - val_loss: 41.6314 - val_accuracy: 0.2264\n",
      "Epoch 128/256\n",
      "28/28 [==============================] - 121s 4s/step - loss: 0.0088 - accuracy: 0.9994 - val_loss: 41.6316 - val_accuracy: 0.2277\n",
      "Epoch 129/256\n",
      "28/28 [==============================] - 121s 4s/step - loss: 0.0082 - accuracy: 0.9994 - val_loss: 41.5448 - val_accuracy: 0.2268\n",
      "Epoch 130/256\n",
      "28/28 [==============================] - 120s 4s/step - loss: 0.0075 - accuracy: 0.9995 - val_loss: 41.6756 - val_accuracy: 0.2263\n",
      "Epoch 131/256\n",
      "28/28 [==============================] - 122s 4s/step - loss: 0.0068 - accuracy: 0.9995 - val_loss: 41.6542 - val_accuracy: 0.2266\n",
      "Epoch 132/256\n",
      "28/28 [==============================] - 121s 4s/step - loss: 0.0081 - accuracy: 0.9994 - val_loss: 41.6465 - val_accuracy: 0.2267\n",
      "Epoch 133/256\n",
      "28/28 [==============================] - 120s 4s/step - loss: 0.0075 - accuracy: 0.9994 - val_loss: 41.5188 - val_accuracy: 0.2256\n",
      "Epoch 134/256\n",
      "28/28 [==============================] - 122s 4s/step - loss: 0.0072 - accuracy: 0.9994 - val_loss: 41.6464 - val_accuracy: 0.2254\n",
      "Epoch 135/256\n",
      "28/28 [==============================] - 120s 4s/step - loss: 0.0068 - accuracy: 0.9994 - val_loss: 41.5631 - val_accuracy: 0.2252\n",
      "Epoch 136/256\n",
      "28/28 [==============================] - 121s 4s/step - loss: 0.0059 - accuracy: 0.9996 - val_loss: 41.4693 - val_accuracy: 0.2268\n",
      "Epoch 137/256\n",
      "28/28 [==============================] - 122s 4s/step - loss: 0.0063 - accuracy: 0.9995 - val_loss: 41.5460 - val_accuracy: 0.2273\n",
      "Epoch 138/256\n",
      "28/28 [==============================] - 121s 4s/step - loss: 0.0073 - accuracy: 0.9994 - val_loss: 41.6208 - val_accuracy: 0.2253\n",
      "Epoch 139/256\n",
      "28/28 [==============================] - 121s 4s/step - loss: 0.0071 - accuracy: 0.9994 - val_loss: 41.5057 - val_accuracy: 0.2269\n",
      "Epoch 140/256\n",
      "28/28 [==============================] - 122s 4s/step - loss: 0.0065 - accuracy: 0.9995 - val_loss: 41.4883 - val_accuracy: 0.2266\n",
      "Epoch 141/256\n",
      "28/28 [==============================] - 121s 4s/step - loss: 0.0064 - accuracy: 0.9995 - val_loss: 41.4786 - val_accuracy: 0.2262\n",
      "Epoch 142/256\n",
      "28/28 [==============================] - 121s 4s/step - loss: 0.0064 - accuracy: 0.9995 - val_loss: 41.4246 - val_accuracy: 0.2260\n",
      "Epoch 143/256\n",
      "28/28 [==============================] - 122s 4s/step - loss: 0.0074 - accuracy: 0.9994 - val_loss: 41.3290 - val_accuracy: 0.2255\n",
      "Epoch 144/256\n",
      "28/28 [==============================] - 121s 4s/step - loss: 0.0075 - accuracy: 0.9994 - val_loss: 41.4415 - val_accuracy: 0.2232\n",
      "Epoch 145/256\n",
      "28/28 [==============================] - 121s 4s/step - loss: 0.0063 - accuracy: 0.9995 - val_loss: 41.4212 - val_accuracy: 0.2235\n",
      "Epoch 146/256\n",
      "28/28 [==============================] - 123s 4s/step - loss: 0.0070 - accuracy: 0.9995 - val_loss: 41.3442 - val_accuracy: 0.2241\n",
      "Epoch 147/256\n",
      "28/28 [==============================] - 122s 4s/step - loss: 0.0073 - accuracy: 0.9994 - val_loss: 41.4669 - val_accuracy: 0.2226\n",
      "Epoch 148/256\n",
      "28/28 [==============================] - 121s 4s/step - loss: 0.0073 - accuracy: 0.9994 - val_loss: 41.3346 - val_accuracy: 0.2241\n",
      "Epoch 149/256\n",
      "28/28 [==============================] - 122s 4s/step - loss: 0.0065 - accuracy: 0.9995 - val_loss: 41.4017 - val_accuracy: 0.2233\n",
      "Epoch 150/256\n",
      "28/28 [==============================] - 121s 4s/step - loss: 0.0064 - accuracy: 0.9995 - val_loss: 41.3748 - val_accuracy: 0.2245\n",
      "Epoch 151/256\n",
      "28/28 [==============================] - 121s 4s/step - loss: 0.0061 - accuracy: 0.9995 - val_loss: 41.3618 - val_accuracy: 0.2260\n",
      "Epoch 152/256\n",
      "28/28 [==============================] - 121s 4s/step - loss: 0.0069 - accuracy: 0.9995 - val_loss: 41.2631 - val_accuracy: 0.2267\n",
      "Epoch 153/256\n",
      "28/28 [==============================] - 122s 4s/step - loss: 0.0066 - accuracy: 0.9994 - val_loss: 41.3246 - val_accuracy: 0.2266\n",
      "Epoch 154/256\n",
      "28/28 [==============================] - 121s 4s/step - loss: 0.0065 - accuracy: 0.9995 - val_loss: 41.3091 - val_accuracy: 0.2255\n",
      "Epoch 155/256\n",
      "28/28 [==============================] - 121s 4s/step - loss: 0.0068 - accuracy: 0.9994 - val_loss: 41.2269 - val_accuracy: 0.2246\n",
      "Epoch 156/256\n",
      "28/28 [==============================] - 122s 4s/step - loss: 0.0067 - accuracy: 0.9994 - val_loss: 41.2664 - val_accuracy: 0.2224\n",
      "Epoch 157/256\n",
      "28/28 [==============================] - 121s 4s/step - loss: 0.0073 - accuracy: 0.9994 - val_loss: 41.3054 - val_accuracy: 0.2236\n",
      "Epoch 158/256\n",
      "28/28 [==============================] - 121s 4s/step - loss: 0.0074 - accuracy: 0.9994 - val_loss: 41.1731 - val_accuracy: 0.2214\n",
      "Epoch 159/256\n",
      "28/28 [==============================] - 122s 4s/step - loss: 0.0060 - accuracy: 0.9995 - val_loss: 41.1903 - val_accuracy: 0.2223\n",
      "Epoch 160/256\n",
      "28/28 [==============================] - 121s 4s/step - loss: 0.0074 - accuracy: 0.9994 - val_loss: 41.2150 - val_accuracy: 0.2220\n",
      "Epoch 161/256\n",
      "28/28 [==============================] - 121s 4s/step - loss: 0.0065 - accuracy: 0.9995 - val_loss: 41.2030 - val_accuracy: 0.2220\n",
      "Epoch 162/256\n",
      "28/28 [==============================] - 122s 4s/step - loss: 0.0060 - accuracy: 0.9995 - val_loss: 41.1645 - val_accuracy: 0.2225\n",
      "Epoch 163/256\n",
      "28/28 [==============================] - 121s 4s/step - loss: 0.0060 - accuracy: 0.9995 - val_loss: 41.1652 - val_accuracy: 0.2224\n",
      "Epoch 164/256\n",
      "28/28 [==============================] - 121s 4s/step - loss: 0.0072 - accuracy: 0.9993 - val_loss: 41.0922 - val_accuracy: 0.2220\n",
      "Epoch 165/256\n",
      "28/28 [==============================] - 122s 4s/step - loss: 0.0066 - accuracy: 0.9994 - val_loss: 41.1295 - val_accuracy: 0.2221\n",
      "Epoch 166/256\n",
      "28/28 [==============================] - 121s 4s/step - loss: 0.0063 - accuracy: 0.9994 - val_loss: 41.0770 - val_accuracy: 0.2219\n",
      "Epoch 167/256\n",
      "28/28 [==============================] - 121s 4s/step - loss: 0.0063 - accuracy: 0.9994 - val_loss: 41.1065 - val_accuracy: 0.2218\n",
      "Epoch 168/256\n",
      "28/28 [==============================] - 122s 4s/step - loss: 0.0062 - accuracy: 0.9995 - val_loss: 41.1308 - val_accuracy: 0.2210\n",
      "Epoch 169/256\n",
      "28/28 [==============================] - 121s 4s/step - loss: 0.0058 - accuracy: 0.9995 - val_loss: 41.0870 - val_accuracy: 0.2206\n",
      "Epoch 170/256\n",
      "28/28 [==============================] - 121s 4s/step - loss: 0.0054 - accuracy: 0.9995 - val_loss: 41.0328 - val_accuracy: 0.2194\n",
      "Epoch 171/256\n"
     ]
    },
    {
     "name": "stdout",
     "output_type": "stream",
     "text": [
      "28/28 [==============================] - 121s 4s/step - loss: 0.0062 - accuracy: 0.9995 - val_loss: 41.1268 - val_accuracy: 0.2198\n",
      "Epoch 172/256\n",
      "28/28 [==============================] - 121s 4s/step - loss: 0.0060 - accuracy: 0.9995 - val_loss: 41.0099 - val_accuracy: 0.2197\n",
      "Epoch 173/256\n",
      "28/28 [==============================] - 121s 4s/step - loss: 0.0055 - accuracy: 0.9996 - val_loss: 41.0176 - val_accuracy: 0.2185\n",
      "Epoch 174/256\n",
      "28/28 [==============================] - 121s 4s/step - loss: 0.0061 - accuracy: 0.9995 - val_loss: 41.0992 - val_accuracy: 0.2185\n",
      "Epoch 175/256\n",
      "28/28 [==============================] - 123s 4s/step - loss: 0.0056 - accuracy: 0.9995 - val_loss: 40.9722 - val_accuracy: 0.2187\n",
      "Epoch 176/256\n",
      "28/28 [==============================] - 122s 4s/step - loss: 0.0055 - accuracy: 0.9995 - val_loss: 40.9707 - val_accuracy: 0.2190\n",
      "Epoch 177/256\n",
      "28/28 [==============================] - 121s 4s/step - loss: 0.0053 - accuracy: 0.9996 - val_loss: 40.9486 - val_accuracy: 0.2193\n",
      "Epoch 178/256\n",
      "28/28 [==============================] - 121s 4s/step - loss: 0.0054 - accuracy: 0.9995 - val_loss: 40.9885 - val_accuracy: 0.2188\n",
      "Epoch 179/256\n",
      "28/28 [==============================] - 122s 4s/step - loss: 0.0059 - accuracy: 0.9995 - val_loss: 41.0027 - val_accuracy: 0.2185\n",
      "Epoch 180/256\n",
      "28/28 [==============================] - 121s 4s/step - loss: 0.0054 - accuracy: 0.9995 - val_loss: 40.9414 - val_accuracy: 0.2193\n",
      "Epoch 181/256\n",
      "28/28 [==============================] - 121s 4s/step - loss: 0.0060 - accuracy: 0.9995 - val_loss: 40.8476 - val_accuracy: 0.2154\n",
      "Epoch 182/256\n",
      "28/28 [==============================] - 122s 4s/step - loss: 0.0054 - accuracy: 0.9995 - val_loss: 40.7991 - val_accuracy: 0.2151\n",
      "Epoch 183/256\n",
      "28/28 [==============================] - 121s 4s/step - loss: 0.0058 - accuracy: 0.9995 - val_loss: 40.8333 - val_accuracy: 0.2144\n",
      "Epoch 184/256\n",
      "28/28 [==============================] - 121s 4s/step - loss: 0.0048 - accuracy: 0.9996 - val_loss: 40.7676 - val_accuracy: 0.2144\n",
      "Epoch 185/256\n",
      "28/28 [==============================] - 122s 4s/step - loss: 0.0048 - accuracy: 0.9996 - val_loss: 40.8121 - val_accuracy: 0.2146\n",
      "Epoch 186/256\n",
      "28/28 [==============================] - 121s 4s/step - loss: 0.0050 - accuracy: 0.9995 - val_loss: 40.8022 - val_accuracy: 0.2140\n",
      "Epoch 187/256\n",
      "28/28 [==============================] - 121s 4s/step - loss: 0.0049 - accuracy: 0.9995 - val_loss: 40.8599 - val_accuracy: 0.2141\n",
      "Epoch 188/256\n",
      "28/28 [==============================] - 122s 4s/step - loss: 0.0054 - accuracy: 0.9995 - val_loss: 40.8573 - val_accuracy: 0.2134\n",
      "Epoch 189/256\n",
      "28/28 [==============================] - 121s 4s/step - loss: 0.0050 - accuracy: 0.9995 - val_loss: 40.8439 - val_accuracy: 0.2144\n",
      "Epoch 190/256\n",
      "28/28 [==============================] - 121s 4s/step - loss: 0.0048 - accuracy: 0.9995 - val_loss: 40.8147 - val_accuracy: 0.2133\n",
      "Epoch 191/256\n",
      "28/28 [==============================] - 122s 4s/step - loss: 0.0053 - accuracy: 0.9995 - val_loss: 40.6935 - val_accuracy: 0.2140\n",
      "Epoch 192/256\n",
      "28/28 [==============================] - 121s 4s/step - loss: 0.0051 - accuracy: 0.9995 - val_loss: 40.6419 - val_accuracy: 0.2143\n",
      "Epoch 193/256\n",
      "28/28 [==============================] - 121s 4s/step - loss: 0.0054 - accuracy: 0.9995 - val_loss: 40.7440 - val_accuracy: 0.2133\n",
      "Epoch 194/256\n",
      "28/28 [==============================] - 121s 4s/step - loss: 0.0055 - accuracy: 0.9994 - val_loss: 40.6659 - val_accuracy: 0.2132\n",
      "Epoch 195/256\n",
      "28/28 [==============================] - 121s 4s/step - loss: 0.0044 - accuracy: 0.9996 - val_loss: 40.7373 - val_accuracy: 0.2133\n",
      "Epoch 196/256\n",
      "28/28 [==============================] - 121s 4s/step - loss: 0.0057 - accuracy: 0.9994 - val_loss: 40.6747 - val_accuracy: 0.2119\n",
      "Epoch 197/256\n",
      "28/28 [==============================] - 121s 4s/step - loss: 0.0054 - accuracy: 0.9995 - val_loss: 40.5960 - val_accuracy: 0.2128\n",
      "Epoch 198/256\n",
      "28/28 [==============================] - 122s 4s/step - loss: 0.0074 - accuracy: 0.9993 - val_loss: 40.6623 - val_accuracy: 0.2110\n",
      "Epoch 199/256\n",
      "28/28 [==============================] - 121s 4s/step - loss: 0.0076 - accuracy: 0.9993 - val_loss: 40.6720 - val_accuracy: 0.2112\n",
      "Epoch 200/256\n",
      "28/28 [==============================] - 121s 4s/step - loss: 0.0066 - accuracy: 0.9994 - val_loss: 40.6524 - val_accuracy: 0.2114\n",
      "Epoch 201/256\n",
      "28/28 [==============================] - 122s 4s/step - loss: 0.0074 - accuracy: 0.9993 - val_loss: 40.6226 - val_accuracy: 0.2107\n",
      "Epoch 202/256\n",
      "28/28 [==============================] - 121s 4s/step - loss: 0.0059 - accuracy: 0.9994 - val_loss: 40.5247 - val_accuracy: 0.2111\n",
      "Epoch 203/256\n",
      "28/28 [==============================] - 121s 4s/step - loss: 0.0053 - accuracy: 0.9995 - val_loss: 40.5057 - val_accuracy: 0.2113\n",
      "Epoch 204/256\n",
      "28/28 [==============================] - 123s 4s/step - loss: 0.0049 - accuracy: 0.9995 - val_loss: 40.4465 - val_accuracy: 0.2112\n",
      "Epoch 205/256\n",
      "28/28 [==============================] - 122s 4s/step - loss: 0.0048 - accuracy: 0.9995 - val_loss: 40.5199 - val_accuracy: 0.2104\n",
      "Epoch 206/256\n",
      "28/28 [==============================] - 121s 4s/step - loss: 0.0046 - accuracy: 0.9995 - val_loss: 40.4458 - val_accuracy: 0.2099\n",
      "Epoch 207/256\n",
      "28/28 [==============================] - 122s 4s/step - loss: 0.0044 - accuracy: 0.9995 - val_loss: 40.4194 - val_accuracy: 0.2099\n",
      "Epoch 208/256\n",
      "28/28 [==============================] - 121s 4s/step - loss: 0.0053 - accuracy: 0.9995 - val_loss: 40.4006 - val_accuracy: 0.2088\n",
      "Epoch 209/256\n",
      "28/28 [==============================] - 121s 4s/step - loss: 0.0051 - accuracy: 0.9995 - val_loss: 40.4111 - val_accuracy: 0.2086\n",
      "Epoch 210/256\n",
      "28/28 [==============================] - 122s 4s/step - loss: 0.0053 - accuracy: 0.9995 - val_loss: 40.3577 - val_accuracy: 0.2087\n",
      "Epoch 211/256\n",
      "28/28 [==============================] - 121s 4s/step - loss: 0.0050 - accuracy: 0.9995 - val_loss: 40.4138 - val_accuracy: 0.2079\n",
      "Epoch 212/256\n",
      "28/28 [==============================] - 121s 4s/step - loss: 0.0046 - accuracy: 0.9995 - val_loss: 40.2817 - val_accuracy: 0.2082\n",
      "Epoch 213/256\n",
      "28/28 [==============================] - 122s 4s/step - loss: 0.0048 - accuracy: 0.9995 - val_loss: 40.3823 - val_accuracy: 0.2077\n",
      "Epoch 214/256\n",
      "28/28 [==============================] - 121s 4s/step - loss: 0.0042 - accuracy: 0.9996 - val_loss: 40.2984 - val_accuracy: 0.2084\n",
      "Epoch 215/256\n",
      "28/28 [==============================] - 120s 4s/step - loss: 0.0042 - accuracy: 0.9996 - val_loss: 40.3396 - val_accuracy: 0.2077\n",
      "Epoch 216/256\n",
      "28/28 [==============================] - 122s 4s/step - loss: 0.0045 - accuracy: 0.9995 - val_loss: 40.3278 - val_accuracy: 0.2067\n",
      "Epoch 217/256\n",
      "28/28 [==============================] - 121s 4s/step - loss: 0.0047 - accuracy: 0.9995 - val_loss: 40.3712 - val_accuracy: 0.2060\n",
      "Epoch 218/256\n",
      "28/28 [==============================] - 120s 4s/step - loss: 0.0041 - accuracy: 0.9996 - val_loss: 40.2232 - val_accuracy: 0.2069\n",
      "Epoch 219/256\n",
      "28/28 [==============================] - 122s 4s/step - loss: 0.0044 - accuracy: 0.9995 - val_loss: 40.2839 - val_accuracy: 0.1518\n",
      "Epoch 220/256\n",
      "28/28 [==============================] - 121s 4s/step - loss: 0.0041 - accuracy: 0.9995 - val_loss: 40.2533 - val_accuracy: 0.1514\n",
      "Epoch 221/256\n",
      "28/28 [==============================] - 121s 4s/step - loss: 0.0043 - accuracy: 0.9995 - val_loss: 40.1940 - val_accuracy: 0.1521\n",
      "Epoch 222/256\n",
      "28/28 [==============================] - 122s 4s/step - loss: 0.0044 - accuracy: 0.9996 - val_loss: 40.1834 - val_accuracy: 0.1510\n",
      "Epoch 223/256\n",
      "28/28 [==============================] - 121s 4s/step - loss: 0.0038 - accuracy: 0.9995 - val_loss: 40.2018 - val_accuracy: 0.1509\n",
      "Epoch 224/256\n",
      "28/28 [==============================] - 120s 4s/step - loss: 0.0033 - accuracy: 0.9996 - val_loss: 40.1868 - val_accuracy: 0.1504\n",
      "Epoch 225/256\n",
      "28/28 [==============================] - 122s 4s/step - loss: 0.0039 - accuracy: 0.9995 - val_loss: 40.1376 - val_accuracy: 0.1505\n",
      "Epoch 226/256\n",
      "28/28 [==============================] - 121s 4s/step - loss: 0.0044 - accuracy: 0.9995 - val_loss: 40.1176 - val_accuracy: 0.1506\n",
      "Epoch 227/256\n"
     ]
    },
    {
     "name": "stdout",
     "output_type": "stream",
     "text": [
      "28/28 [==============================] - 121s 4s/step - loss: 0.0032 - accuracy: 0.9996 - val_loss: 40.2032 - val_accuracy: 0.1495\n",
      "Epoch 228/256\n",
      "28/28 [==============================] - 122s 4s/step - loss: 0.0042 - accuracy: 0.9995 - val_loss: 40.0989 - val_accuracy: 0.1498\n",
      "Epoch 229/256\n",
      "28/28 [==============================] - 121s 4s/step - loss: 0.0039 - accuracy: 0.9995 - val_loss: 40.1194 - val_accuracy: 0.1501\n",
      "Epoch 230/256\n",
      "28/28 [==============================] - 120s 4s/step - loss: 0.0040 - accuracy: 0.9996 - val_loss: 40.1295 - val_accuracy: 0.1494\n",
      "Epoch 231/256\n",
      "28/28 [==============================] - 121s 4s/step - loss: 0.0048 - accuracy: 0.9995 - val_loss: 39.9862 - val_accuracy: 0.1502\n",
      "Epoch 232/256\n",
      "28/28 [==============================] - 121s 4s/step - loss: 0.0041 - accuracy: 0.9996 - val_loss: 40.0240 - val_accuracy: 0.1497\n",
      "Epoch 233/256\n",
      "28/28 [==============================] - 122s 4s/step - loss: 0.0041 - accuracy: 0.9996 - val_loss: 40.1014 - val_accuracy: 0.1488\n",
      "Epoch 234/256\n",
      "28/28 [==============================] - 122s 4s/step - loss: 0.0042 - accuracy: 0.9995 - val_loss: 40.0478 - val_accuracy: 0.1493\n",
      "Epoch 235/256\n",
      "28/28 [==============================] - 122s 4s/step - loss: 0.0045 - accuracy: 0.9995 - val_loss: 40.0698 - val_accuracy: 0.1488\n",
      "Epoch 236/256\n",
      "28/28 [==============================] - 121s 4s/step - loss: 0.0036 - accuracy: 0.9996 - val_loss: 40.0186 - val_accuracy: 0.1491\n",
      "Epoch 237/256\n",
      "28/28 [==============================] - 120s 4s/step - loss: 0.0043 - accuracy: 0.9995 - val_loss: 39.9146 - val_accuracy: 0.1494\n",
      "Epoch 238/256\n",
      "28/28 [==============================] - 122s 4s/step - loss: 0.0036 - accuracy: 0.9996 - val_loss: 39.8752 - val_accuracy: 0.1494\n",
      "Epoch 239/256\n",
      "28/28 [==============================] - 121s 4s/step - loss: 0.0037 - accuracy: 0.9995 - val_loss: 39.9889 - val_accuracy: 0.1492\n",
      "Epoch 240/256\n",
      "28/28 [==============================] - 121s 4s/step - loss: 0.0043 - accuracy: 0.9995 - val_loss: 39.8918 - val_accuracy: 0.1496\n",
      "Epoch 241/256\n",
      "28/28 [==============================] - 122s 4s/step - loss: 0.0098 - accuracy: 0.9992 - val_loss: 39.8499 - val_accuracy: 0.1492\n",
      "Epoch 242/256\n",
      "28/28 [==============================] - 121s 4s/step - loss: 0.0078 - accuracy: 0.9992 - val_loss: 39.7478 - val_accuracy: 0.1495\n",
      "Epoch 243/256\n",
      "28/28 [==============================] - 121s 4s/step - loss: 0.0059 - accuracy: 0.9994 - val_loss: 39.8351 - val_accuracy: 0.1491\n",
      "Epoch 244/256\n",
      "28/28 [==============================] - 122s 4s/step - loss: 0.0061 - accuracy: 0.9994 - val_loss: 39.7945 - val_accuracy: 0.1485\n",
      "Epoch 245/256\n",
      "28/28 [==============================] - 121s 4s/step - loss: 0.0053 - accuracy: 0.9995 - val_loss: 39.8027 - val_accuracy: 0.1484\n",
      "Epoch 246/256\n",
      "28/28 [==============================] - 121s 4s/step - loss: 0.0047 - accuracy: 0.9995 - val_loss: 39.7111 - val_accuracy: 0.1485\n",
      "Epoch 247/256\n",
      "28/28 [==============================] - 122s 4s/step - loss: 0.0045 - accuracy: 0.9995 - val_loss: 39.6334 - val_accuracy: 0.1491\n",
      "Epoch 248/256\n",
      "28/28 [==============================] - 121s 4s/step - loss: 0.0044 - accuracy: 0.9995 - val_loss: 39.6500 - val_accuracy: 0.1486\n",
      "Epoch 249/256\n",
      "28/28 [==============================] - 121s 4s/step - loss: 0.0044 - accuracy: 0.9995 - val_loss: 39.6685 - val_accuracy: 0.1489\n",
      "Epoch 250/256\n",
      "28/28 [==============================] - 122s 4s/step - loss: 0.0049 - accuracy: 0.9994 - val_loss: 39.6590 - val_accuracy: 0.1482\n",
      "Epoch 251/256\n",
      "28/28 [==============================] - 121s 4s/step - loss: 0.0049 - accuracy: 0.9995 - val_loss: 39.5685 - val_accuracy: 0.1486\n",
      "Epoch 252/256\n",
      "28/28 [==============================] - 121s 4s/step - loss: 0.0042 - accuracy: 0.9995 - val_loss: 39.6234 - val_accuracy: 0.1483\n",
      "Epoch 253/256\n",
      "28/28 [==============================] - 122s 4s/step - loss: 0.0050 - accuracy: 0.9994 - val_loss: 39.4715 - val_accuracy: 0.0321\n",
      "Epoch 254/256\n",
      "28/28 [==============================] - 121s 4s/step - loss: 0.0050 - accuracy: 0.9994 - val_loss: 39.5457 - val_accuracy: 0.0310\n",
      "Epoch 255/256\n",
      "28/28 [==============================] - 120s 4s/step - loss: 0.0042 - accuracy: 0.9995 - val_loss: 39.4922 - val_accuracy: 0.0306\n",
      "Epoch 256/256\n",
      "28/28 [==============================] - 122s 4s/step - loss: 0.0038 - accuracy: 0.9995 - val_loss: 39.5091 - val_accuracy: 0.0304\n",
      "CPU times: user 3h 5min 9s, sys: 49min 31s, total: 3h 54min 40s\n",
      "Wall time: 8h 52min 46s\n"
     ]
    }
   ],
   "source": [
    "%%time\n",
    "history = model.fit(train_x,\n",
    "                    train_y,\n",
    "                    valid_x,\n",
    "                    valid_y,\n",
    "                    epochs=epochs,\n",
    "                    batch_size=batch_size,\n",
    "                   )"
   ]
  },
  {
   "cell_type": "code",
   "execution_count": 17,
   "metadata": {},
   "outputs": [
    {
     "name": "stderr",
     "output_type": "stream",
     "text": [
      "2020-12-24 09:18:48,035 [WARNING] kashgari - Sequence length is None, will use the max length of the samples, which is 313\n",
      "2020-12-24 09:18:48,125 [DEBUG] kashgari - predict seq_length: None, input: (2, 9188, 313)\n"
     ]
    },
    {
     "name": "stdout",
     "output_type": "stream",
     "text": [
      "288/288 [==============================] - 275s 954ms/step\n"
     ]
    },
    {
     "name": "stderr",
     "output_type": "stream",
     "text": [
      "2020-12-24 09:23:31,607 [DEBUG] kashgari - predict output: (9188, 313)\n",
      "2020-12-24 09:23:31,608 [DEBUG] kashgari - predict output argmax: [[ 0  1  1 ...  1  1  1]\n",
      " [ 0  1  1 ...  1  1  1]\n",
      " [ 0  1  1 ...  1  1  1]\n",
      " ...\n",
      " [ 0  1  1 ...  1  1  1]\n",
      " [ 0  1  1 ...  1  1  1]\n",
      " [ 0  1  1 ... 19 19 19]]\n"
     ]
    },
    {
     "name": "stdout",
     "output_type": "stream",
     "text": [
      "\n",
      "                precision    recall  f1-score   support\n",
      "\n",
      "          time     0.8544    0.7794    0.8152       911\n",
      "          name     0.9268    0.7917    0.8539        96\n",
      "        family     0.9568    0.9366    0.9466       142\n",
      "         money     0.9231    0.9630    0.9426       162\n",
      "      med_exam     0.8889    0.8824    0.8856       136\n",
      "       contact     0.9635    0.9851    0.9742       134\n",
      "      location     0.8870    0.8870    0.8870       115\n",
      "    profession     1.0000    0.6923    0.8182        13\n",
      "     education     0.6000    0.6000    0.6000         5\n",
      "            ID     0.6667    0.2500    0.3636         8\n",
      "clinical_event     0.8333    0.6250    0.7143         8\n",
      "\n",
      "     micro avg     0.8878    0.8370    0.8616      1730\n",
      "     macro avg     0.8860    0.8370    0.8595      1730\n",
      "\n"
     ]
    },
    {
     "name": "stderr",
     "output_type": "stream",
     "text": [
      "2020-12-24 09:27:24,558 [INFO] kashgari - model saved to /home/Danny/ai-cup-2020/danny/roberta/model/chinese_roberta_wwm_large_ext_L-24_H-1024_A-16_epoch_256_batch_1024\n"
     ]
    },
    {
     "data": {
      "text/plain": [
       "'/home/Danny/ai-cup-2020/danny/roberta/model/chinese_roberta_wwm_large_ext_L-24_H-1024_A-16_epoch_256_batch_1024'"
      ]
     },
     "execution_count": 17,
     "metadata": {},
     "output_type": "execute_result"
    }
   ],
   "source": [
    "model.evaluate(test_x, test_y)\n",
    "model_path = 'model/{}_epoch_{}_batch_{}'.format(model_name, epochs, batch_size)\n",
    "model.save(model_path)"
   ]
  },
  {
   "cell_type": "code",
   "execution_count": 18,
   "metadata": {},
   "outputs": [
    {
     "name": "stderr",
     "output_type": "stream",
     "text": [
      "/home/Danny/anaconda3/lib/python3.6/site-packages/ipykernel_launcher.py:3: DeprecationWarning: The 'load_model' function is deprecated, use 'XX_Model.load_model' instead\n",
      "  This is separate from the ipykernel package so we can avoid doing imports until\n",
      "2020-12-24 09:27:24,620 [DEBUG] kashgari - ------------------------------------------------\n",
      "2020-12-24 09:27:24,620 [DEBUG] kashgari - Loaded transformer model's vocab\n",
      "2020-12-24 09:27:24,621 [DEBUG] kashgari - config_path       : /home/Danny/pretrain_model/chinese_roberta_wwm_large_ext_L-24_H-1024_A-16/bert_config.json\n",
      "2020-12-24 09:27:24,621 [DEBUG] kashgari - vocab_path      : /home/Danny/pretrain_model/chinese_roberta_wwm_large_ext_L-24_H-1024_A-16/vocab.txt\n",
      "2020-12-24 09:27:24,622 [DEBUG] kashgari - checkpoint_path : /home/Danny/pretrain_model/chinese_roberta_wwm_large_ext_L-24_H-1024_A-16/bert_model.ckpt\n",
      "2020-12-24 09:27:24,622 [DEBUG] kashgari - Top 50 words    : ['[PAD]', '[unused1]', '[unused2]', '[unused3]', '[unused4]', '[unused5]', '[unused6]', '[unused7]', '[unused8]', '[unused9]', '[unused10]', '[unused11]', '[unused12]', '[unused13]', '[unused14]', '[unused15]', '[unused16]', '[unused17]', '[unused18]', '[unused19]', '[unused20]', '[unused21]', '[unused22]', '[unused23]', '[unused24]', '[unused25]', '[unused26]', '[unused27]', '[unused28]', '[unused29]', '[unused30]', '[unused31]', '[unused32]', '[unused33]', '[unused34]', '[unused35]', '[unused36]', '[unused37]', '[unused38]', '[unused39]', '[unused40]', '[unused41]', '[unused42]', '[unused43]', '[unused44]', '[unused45]', '[unused46]', '[unused47]', '[unused48]', '[unused49]']\n",
      "2020-12-24 09:27:24,622 [DEBUG] kashgari - ------------------------------------------------\n",
      "2020-12-24 09:27:35,896 [WARNING] kashgari - Sequence length is None, will use the max length of the samples, which is 313\n",
      "2020-12-24 09:27:35,978 [DEBUG] kashgari - predict seq_length: None, input: (2, 9188, 313)\n"
     ]
    },
    {
     "name": "stdout",
     "output_type": "stream",
     "text": [
      "288/288 [==============================] - 278s 966ms/step\n"
     ]
    },
    {
     "name": "stderr",
     "output_type": "stream",
     "text": [
      "2020-12-24 09:32:23,552 [DEBUG] kashgari - predict output: (9188, 313)\n",
      "2020-12-24 09:32:23,558 [DEBUG] kashgari - predict output argmax: [[ 0  1  1 ...  1  1  1]\n",
      " [ 0  1  1 ...  1  1  1]\n",
      " [ 0  1  1 ...  1  1  1]\n",
      " ...\n",
      " [ 0  1  1 ...  1  1  1]\n",
      " [ 0  1  1 ...  1  1  1]\n",
      " [ 0  1  1 ... 19 19 19]]\n"
     ]
    },
    {
     "name": "stdout",
     "output_type": "stream",
     "text": [
      "\n",
      "                precision    recall  f1-score   support\n",
      "\n",
      "          time     0.8544    0.7794    0.8152       911\n",
      "          name     0.9268    0.7917    0.8539        96\n",
      "        family     0.9568    0.9366    0.9466       142\n",
      "         money     0.9231    0.9630    0.9426       162\n",
      "      med_exam     0.8889    0.8824    0.8856       136\n",
      "       contact     0.9635    0.9851    0.9742       134\n",
      "      location     0.8870    0.8870    0.8870       115\n",
      "    profession     1.0000    0.6923    0.8182        13\n",
      "     education     0.6000    0.6000    0.6000         5\n",
      "            ID     0.6667    0.2500    0.3636         8\n",
      "clinical_event     0.8333    0.6250    0.7143         8\n",
      "\n",
      "     micro avg     0.8878    0.8370    0.8616      1730\n",
      "     macro avg     0.8860    0.8370    0.8595      1730\n",
      "\n"
     ]
    },
    {
     "data": {
      "text/plain": [
       "{'detail': {'time': {'precision': 0.8543922984356197,\n",
       "   'recall': 0.7793633369923162,\n",
       "   'f1-score': 0.8151549942594719,\n",
       "   'support': 911},\n",
       "  'name': {'precision': 0.926829268292683,\n",
       "   'recall': 0.7916666666666666,\n",
       "   'f1-score': 0.8539325842696629,\n",
       "   'support': 96},\n",
       "  'family': {'precision': 0.9568345323741008,\n",
       "   'recall': 0.9366197183098591,\n",
       "   'f1-score': 0.9466192170818505,\n",
       "   'support': 142},\n",
       "  'money': {'precision': 0.9230769230769231,\n",
       "   'recall': 0.9629629629629629,\n",
       "   'f1-score': 0.9425981873111782,\n",
       "   'support': 162},\n",
       "  'med_exam': {'precision': 0.8888888888888888,\n",
       "   'recall': 0.8823529411764706,\n",
       "   'f1-score': 0.8856088560885608,\n",
       "   'support': 136},\n",
       "  'contact': {'precision': 0.9635036496350365,\n",
       "   'recall': 0.9850746268656716,\n",
       "   'f1-score': 0.9741697416974171,\n",
       "   'support': 134},\n",
       "  'location': {'precision': 0.8869565217391304,\n",
       "   'recall': 0.8869565217391304,\n",
       "   'f1-score': 0.8869565217391304,\n",
       "   'support': 115},\n",
       "  'profession': {'precision': 1.0,\n",
       "   'recall': 0.6923076923076923,\n",
       "   'f1-score': 0.8181818181818181,\n",
       "   'support': 13},\n",
       "  'education': {'precision': 0.6,\n",
       "   'recall': 0.6,\n",
       "   'f1-score': 0.6,\n",
       "   'support': 5},\n",
       "  'ID': {'precision': 0.6666666666666666,\n",
       "   'recall': 0.25,\n",
       "   'f1-score': 0.36363636363636365,\n",
       "   'support': 8},\n",
       "  'clinical_event': {'precision': 0.8333333333333334,\n",
       "   'recall': 0.625,\n",
       "   'f1-score': 0.7142857142857143,\n",
       "   'support': 8}},\n",
       " 'precision': 0.8859736050326675,\n",
       " 'recall': 0.8369942196531792,\n",
       " 'f1-score': 0.8595062734714096,\n",
       " 'support': 1730}"
      ]
     },
     "execution_count": 18,
     "metadata": {},
     "output_type": "execute_result"
    }
   ],
   "source": [
    "from kashgari.utils import load_model\n",
    "model_path = 'model/{}_epoch_{}_batch_{}'.format(model_name, epochs, batch_size)\n",
    "model = load_model(model_path)\n",
    "model.evaluate(test_x, test_y)"
   ]
  },
  {
   "cell_type": "code",
   "execution_count": 19,
   "metadata": {},
   "outputs": [
    {
     "data": {
      "image/png": "[encoded data removed]",
      "text/plain": [
       "<Figure size 432x288 with 1 Axes>"
      ]
     },
     "metadata": {
      "needs_background": "light"
     },
     "output_type": "display_data"
    }
   ],
   "source": [
    "plt.plot(history.history['accuracy'])\n",
    "plt.plot(history.history['val_accuracy'])\n",
    "plt.plot(history.history['loss'])\n",
    "plt.plot(history.history['val_loss'])\n",
    "plt.title('model accuracy')\n",
    "plt.ylabel('accuracy')\n",
    "plt.xlabel('epoch')\n",
    "plt.legend(['accuracy', 'val_accuracy', 'loss', 'val_loss'])\n",
    "plt.show()"
   ]
  },
  {
   "cell_type": "code",
   "execution_count": 20,
   "metadata": {},
   "outputs": [],
   "source": [
    "# 需要儲存article_id, 轉成dataframe\n",
    "def predicting_txt_to_dataframe(path):    \n",
    "    with open(path, 'r') as f:\n",
    "        txt = str(f.read())\n",
    "        txt_list = txt.split('\\n')\n",
    "    row_list = list()\n",
    "    tmp_list = list()\n",
    "    for row in txt_list:\n",
    "        if row == '--------------------':\n",
    "            tmp_list[0] = tmp_list[0].replace('article_id:', '')\n",
    "            tmp_list[0] = int(tmp_list[0])\n",
    "            row_list.append(tmp_list)\n",
    "            tmp_list = list()\n",
    "            continue\n",
    "        if len(row) > 0:\n",
    "            tmp_list.append(row)\n",
    "    df = pd.DataFrame(row_list, columns=['article_id','text'])\n",
    "    return df"
   ]
  },
  {
   "cell_type": "code",
   "execution_count": 21,
   "metadata": {},
   "outputs": [],
   "source": [
    "def predict_NER(text):\n",
    "    x_list = list()    \n",
    "    text_list = re.split('\\u3002|\\uff1f', text)\n",
    "    for article in text_list:\n",
    "        x_list.append([i for i in article])\n",
    "    y_list_list = model.predict(x_list)\n",
    "    y_list = list()\n",
    "    for sentence in y_list_list:\n",
    "        for word in sentence:\n",
    "            y_list.append(word)\n",
    "        y_list.append('O') # append(，。？)\n",
    "    y_list = y_list[:-1]\n",
    "    return y_list"
   ]
  },
  {
   "cell_type": "code",
   "execution_count": 22,
   "metadata": {},
   "outputs": [],
   "source": [
    "def output_NER(article_id, text, y_list):\n",
    "    output_str = str()\n",
    "    flag = False\n",
    "    for i, j in enumerate(y_list):\n",
    "        if j != 'O':\n",
    "            if j[0] == 'B':\n",
    "                start_position = i\n",
    "                entity_type = j.split('-')[-1]\n",
    "                flag = True\n",
    "        elif j == 'O' and flag == True:\n",
    "            end_position = i\n",
    "            flag = False\n",
    "            entity_text = text[start_position: end_position]\n",
    "            entity = '{}\\t{}\\t{}\\t{}\\t{}\\n'.format(article_id, start_position, end_position, entity_text, entity_type)  \n",
    "            output_str += entity\n",
    "    return output_str"
   ]
  },
  {
   "cell_type": "code",
   "execution_count": 23,
   "metadata": {},
   "outputs": [
    {
     "name": "stderr",
     "output_type": "stream",
     "text": [
      "2020-12-24 09:32:25,940 [DEBUG] kashgari - predict seq_length: None, input: (2, 46, 34)\n"
     ]
    },
    {
     "name": "stdout",
     "output_type": "stream",
     "text": [
      "2/2 [==============================] - 0s 42ms/step\n"
     ]
    },
    {
     "name": "stderr",
     "output_type": "stream",
     "text": [
      "2020-12-24 09:32:35,245 [DEBUG] kashgari - predict output: (46, 34)\n",
      "2020-12-24 09:32:35,246 [DEBUG] kashgari - predict output argmax: [[0 1 1 ... 1 1 1]\n",
      " [0 1 1 ... 1 1 1]\n",
      " [0 1 1 ... 1 1 1]\n",
      " ...\n",
      " [0 1 1 ... 1 1 1]\n",
      " [0 1 1 ... 1 1 1]\n",
      " [0 0 0 ... 0 0 0]]\n",
      "2020-12-24 09:32:35,247 [DEBUG] kashgari - predict seq_length: None, input: (2, 88, 41)\n"
     ]
    },
    {
     "name": "stdout",
     "output_type": "stream",
     "text": [
      "3/3 [==============================] - 0s 81ms/step\n"
     ]
    },
    {
     "name": "stderr",
     "output_type": "stream",
     "text": [
      "2020-12-24 09:32:41,804 [DEBUG] kashgari - predict output: (88, 41)\n",
      "2020-12-24 09:32:41,805 [DEBUG] kashgari - predict output argmax: [[0 1 1 ... 1 1 1]\n",
      " [0 1 1 ... 1 1 1]\n",
      " [0 1 1 ... 1 1 1]\n",
      " ...\n",
      " [0 1 1 ... 1 1 1]\n",
      " [0 1 1 ... 1 1 1]\n",
      " [0 0 0 ... 0 0 0]]\n",
      "2020-12-24 09:32:41,808 [DEBUG] kashgari - predict seq_length: None, input: (2, 88, 163)\n"
     ]
    },
    {
     "name": "stdout",
     "output_type": "stream",
     "text": [
      "3/3 [==============================] - 1s 295ms/step\n"
     ]
    },
    {
     "name": "stderr",
     "output_type": "stream",
     "text": [
      "2020-12-24 09:32:49,434 [DEBUG] kashgari - predict output: (88, 163)\n",
      "2020-12-24 09:32:49,435 [DEBUG] kashgari - predict output argmax: [[0 1 1 ... 1 1 1]\n",
      " [0 1 1 ... 1 1 1]\n",
      " [0 1 1 ... 1 1 1]\n",
      " ...\n",
      " [0 1 1 ... 1 1 1]\n",
      " [0 1 1 ... 1 1 1]\n",
      " [0 1 1 ... 1 1 0]]\n",
      "2020-12-24 09:32:49,437 [DEBUG] kashgari - predict seq_length: None, input: (2, 41, 86)\n"
     ]
    },
    {
     "name": "stdout",
     "output_type": "stream",
     "text": [
      "WARNING:tensorflow:5 out of the last 297 calls to <function Model.make_predict_function.<locals>.predict_function at 0x7f78ef041b70> triggered tf.function retracing. Tracing is expensive and the excessive number of tracings is likely due to passing python objects instead of tensors. Also, tf.function has experimental_relax_shapes=True option that relaxes argument shapes that can avoid unnecessary retracing. Please refer to https://www.tensorflow.org/tutorials/customization/performance#python_or_tensor_args and https://www.tensorflow.org/api_docs/python/tf/function for more details.\n",
      "2/2 [==============================] - 0s 56ms/step\n"
     ]
    },
    {
     "name": "stderr",
     "output_type": "stream",
     "text": [
      "2020-12-24 09:32:56,027 [DEBUG] kashgari - predict output: (41, 86)\n",
      "2020-12-24 09:32:56,028 [DEBUG] kashgari - predict output argmax: [[0 1 1 ... 1 1 1]\n",
      " [0 1 1 ... 1 1 1]\n",
      " [0 1 1 ... 1 1 1]\n",
      " ...\n",
      " [0 1 1 ... 1 1 1]\n",
      " [0 1 1 ... 1 1 1]\n",
      " [0 0 0 ... 0 0 0]]\n",
      "2020-12-24 09:32:56,030 [DEBUG] kashgari - predict seq_length: None, input: (2, 39, 90)\n"
     ]
    },
    {
     "name": "stdout",
     "output_type": "stream",
     "text": [
      "WARNING:tensorflow:5 out of the last 11 calls to <function Model.make_predict_function.<locals>.predict_function at 0x7f78ef041b70> triggered tf.function retracing. Tracing is expensive and the excessive number of tracings is likely due to passing python objects instead of tensors. Also, tf.function has experimental_relax_shapes=True option that relaxes argument shapes that can avoid unnecessary retracing. Please refer to https://www.tensorflow.org/tutorials/customization/performance#python_or_tensor_args and https://www.tensorflow.org/api_docs/python/tf/function for more details.\n",
      "2/2 [==============================] - 0s 53ms/step\n"
     ]
    },
    {
     "name": "stderr",
     "output_type": "stream",
     "text": [
      "2020-12-24 09:33:03,506 [DEBUG] kashgari - predict output: (39, 90)\n",
      "2020-12-24 09:33:03,506 [DEBUG] kashgari - predict output argmax: [[0 1 1 ... 1 1 1]\n",
      " [0 1 1 ... 1 1 1]\n",
      " [0 1 1 ... 1 1 1]\n",
      " ...\n",
      " [0 1 1 ... 1 1 1]\n",
      " [0 1 1 ... 1 1 1]\n",
      " [0 0 0 ... 0 0 0]]\n",
      "2020-12-24 09:33:03,509 [DEBUG] kashgari - predict seq_length: None, input: (2, 157, 57)\n"
     ]
    },
    {
     "name": "stdout",
     "output_type": "stream",
     "text": [
      "WARNING:tensorflow:5 out of the last 11 calls to <function Model.make_predict_function.<locals>.predict_function at 0x7f78ef041b70> triggered tf.function retracing. Tracing is expensive and the excessive number of tracings is likely due to passing python objects instead of tensors. Also, tf.function has experimental_relax_shapes=True option that relaxes argument shapes that can avoid unnecessary retracing. Please refer to https://www.tensorflow.org/tutorials/customization/performance#python_or_tensor_args and https://www.tensorflow.org/api_docs/python/tf/function for more details.\n",
      "5/5 [==============================] - 1s 138ms/step\n"
     ]
    },
    {
     "name": "stderr",
     "output_type": "stream",
     "text": [
      "2020-12-24 09:33:10,614 [DEBUG] kashgari - predict output: (157, 57)\n",
      "2020-12-24 09:33:10,615 [DEBUG] kashgari - predict output argmax: [[0 1 1 ... 1 1 1]\n",
      " [0 1 1 ... 1 1 1]\n",
      " [0 1 1 ... 1 1 1]\n",
      " ...\n",
      " [0 1 1 ... 1 1 1]\n",
      " [0 1 1 ... 1 1 1]\n",
      " [0 1 1 ... 1 1 1]]\n",
      "2020-12-24 09:33:10,619 [DEBUG] kashgari - predict seq_length: None, input: (2, 174, 65)\n"
     ]
    },
    {
     "name": "stdout",
     "output_type": "stream",
     "text": [
      "WARNING:tensorflow:5 out of the last 13 calls to <function Model.make_predict_function.<locals>.predict_function at 0x7f78ef041b70> triggered tf.function retracing. Tracing is expensive and the excessive number of tracings is likely due to passing python objects instead of tensors. Also, tf.function has experimental_relax_shapes=True option that relaxes argument shapes that can avoid unnecessary retracing. Please refer to https://www.tensorflow.org/tutorials/customization/performance#python_or_tensor_args and https://www.tensorflow.org/api_docs/python/tf/function for more details.\n",
      "6/6 [==============================] - 1s 155ms/step\n"
     ]
    },
    {
     "name": "stderr",
     "output_type": "stream",
     "text": [
      "2020-12-24 09:33:18,307 [DEBUG] kashgari - predict output: (174, 65)\n",
      "2020-12-24 09:33:18,308 [DEBUG] kashgari - predict output argmax: [[0 1 1 ... 1 1 1]\n",
      " [0 1 1 ... 1 1 1]\n",
      " [0 1 1 ... 1 1 1]\n",
      " ...\n",
      " [0 9 6 ... 6 6 6]\n",
      " [0 1 1 ... 1 1 1]\n",
      " [0 0 0 ... 0 0 0]]\n",
      "2020-12-24 09:33:18,312 [DEBUG] kashgari - predict seq_length: None, input: (2, 83, 57)\n"
     ]
    },
    {
     "name": "stdout",
     "output_type": "stream",
     "text": [
      "3/3 [==============================] - 0s 101ms/step\n"
     ]
    },
    {
     "name": "stderr",
     "output_type": "stream",
     "text": [
      "2020-12-24 09:33:18,833 [DEBUG] kashgari - predict output: (83, 57)\n",
      "2020-12-24 09:33:18,833 [DEBUG] kashgari - predict output argmax: [[0 1 1 ... 1 1 1]\n",
      " [0 1 1 ... 1 1 1]\n",
      " [0 1 1 ... 1 1 0]\n",
      " ...\n",
      " [0 1 1 ... 1 1 1]\n",
      " [0 1 1 ... 1 1 1]\n",
      " [0 0 0 ... 0 0 0]]\n",
      "2020-12-24 09:33:18,837 [DEBUG] kashgari - predict seq_length: None, input: (2, 98, 53)\n"
     ]
    },
    {
     "name": "stdout",
     "output_type": "stream",
     "text": [
      "4/4 [==============================] - 0s 100ms/step\n"
     ]
    },
    {
     "name": "stderr",
     "output_type": "stream",
     "text": [
      "2020-12-24 09:33:25,671 [DEBUG] kashgari - predict output: (98, 53)\n",
      "2020-12-24 09:33:25,672 [DEBUG] kashgari - predict output argmax: [[0 1 1 ... 1 1 1]\n",
      " [0 1 1 ... 1 1 1]\n",
      " [0 1 1 ... 6 6 6]\n",
      " ...\n",
      " [0 1 1 ... 1 1 1]\n",
      " [0 1 1 ... 6 6 6]\n",
      " [0 0 0 ... 0 0 0]]\n",
      "2020-12-24 09:33:25,675 [DEBUG] kashgari - predict seq_length: None, input: (2, 193, 84)\n"
     ]
    },
    {
     "name": "stdout",
     "output_type": "stream",
     "text": [
      "7/7 [==============================] - 1s 189ms/step\n"
     ]
    },
    {
     "name": "stderr",
     "output_type": "stream",
     "text": [
      "2020-12-24 09:33:33,681 [DEBUG] kashgari - predict output: (193, 84)\n",
      "2020-12-24 09:33:33,681 [DEBUG] kashgari - predict output argmax: [[0 1 1 ... 1 1 1]\n",
      " [0 1 1 ... 1 1 1]\n",
      " [0 1 1 ... 1 1 1]\n",
      " ...\n",
      " [0 1 1 ... 1 1 1]\n",
      " [0 1 1 ... 1 1 1]\n",
      " [0 0 0 ... 0 0 0]]\n",
      "2020-12-24 09:33:33,684 [DEBUG] kashgari - predict seq_length: None, input: (2, 98, 84)\n"
     ]
    },
    {
     "name": "stdout",
     "output_type": "stream",
     "text": [
      "4/4 [==============================] - 1s 146ms/step\n"
     ]
    },
    {
     "name": "stderr",
     "output_type": "stream",
     "text": [
      "2020-12-24 09:33:34,560 [DEBUG] kashgari - predict output: (98, 84)\n",
      "2020-12-24 09:33:34,561 [DEBUG] kashgari - predict output argmax: [[0 1 1 ... 1 1 1]\n",
      " [0 1 1 ... 1 1 1]\n",
      " [0 1 1 ... 1 1 1]\n",
      " ...\n",
      " [0 1 1 ... 1 1 1]\n",
      " [0 1 1 ... 1 1 1]\n",
      " [0 0 0 ... 0 0 0]]\n",
      "2020-12-24 09:33:34,567 [DEBUG] kashgari - predict seq_length: None, input: (2, 362, 94)\n"
     ]
    },
    {
     "name": "stdout",
     "output_type": "stream",
     "text": [
      "12/12 [==============================] - 3s 247ms/step\n"
     ]
    },
    {
     "name": "stderr",
     "output_type": "stream",
     "text": [
      "2020-12-24 09:33:45,082 [DEBUG] kashgari - predict output: (362, 94)\n",
      "2020-12-24 09:33:45,083 [DEBUG] kashgari - predict output argmax: [[0 1 1 ... 1 1 1]\n",
      " [0 1 1 ... 1 1 1]\n",
      " [0 1 1 ... 1 1 1]\n",
      " ...\n",
      " [0 1 1 ... 1 1 1]\n",
      " [0 1 1 ... 1 1 1]\n",
      " [0 0 0 ... 0 0 0]]\n",
      "2020-12-24 09:33:45,085 [DEBUG] kashgari - predict seq_length: None, input: (2, 29, 34)\n"
     ]
    },
    {
     "name": "stdout",
     "output_type": "stream",
     "text": [
      "1/1 [==============================] - 0s 999us/step\n"
     ]
    },
    {
     "name": "stderr",
     "output_type": "stream",
     "text": [
      "2020-12-24 09:33:45,222 [DEBUG] kashgari - predict output: (29, 34)\n",
      "2020-12-24 09:33:45,224 [DEBUG] kashgari - predict output argmax: [[0 1 1 1 1 1 1 1 1 1 0 1 1 1 1 1 1 1 1 1 1 1 1 1 1 1 1 1 1 1 1 1 1 1]\n",
      " [0 1 1 1 1 1 1 1 1 1 1 1 1 1 1 1 0 1 1 1 1 1 1 1 1 1 1 1 1 1 1 1 1 1]\n",
      " [0 1 1 1 1 1 1 1 1 1 1 1 1 1 1 1 1 1 1 1 1 1 1 0 1 1 1 1 1 1 1 1 1 1]\n",
      " [0 1 1 1 1 1 1 1 1 0 1 1 1 1 1 1 1 1 1 1 1 1 1 1 1 1 1 1 1 1 1 1 1 1]\n",
      " [0 1 1 1 1 1 1 1 0 1 1 1 1 1 1 1 1 1 1 1 1 1 1 1 1 1 1 1 1 1 1 1 1 1]\n",
      " [0 1 1 1 1 1 1 1 1 1 1 1 0 1 1 1 1 1 1 1 1 1 1 1 1 1 1 1 1 1 1 1 1 1]\n",
      " [0 1 1 1 1 1 1 1 1 1 0 1 1 1 1 1 1 1 1 1 1 1 1 1 1 1 1 1 1 1 1 1 1 1]\n",
      " [0 1 1 1 1 1 1 0 1 1 1 1 1 1 1 1 1 1 1 1 1 1 1 1 1 1 1 1 1 1 1 1 1 1]\n",
      " [0 1 1 1 1 0 1 1 1 1 1 1 1 1 1 1 1 1 1 1 1 1 1 1 1 1 1 1 1 1 1 1 1 1]\n",
      " [0 1 1 1 1 0 1 1 1 1 1 1 1 1 1 1 1 1 1 1 1 1 1 1 1 1 1 1 1 1 1 1 1 1]\n",
      " [0 1 1 1 1 1 1 1 1 1 1 1 1 1 0 1 1 1 1 1 1 1 1 1 1 1 1 1 1 1 1 1 1 1]\n",
      " [0 1 1 1 1 1 1 1 1 0 1 1 1 1 1 1 1 1 1 1 1 1 1 1 1 1 1 1 1 1 1 1 1 1]\n",
      " [0 1 1 1 1 1 1 1 1 1 1 1 1 1 0 1 1 1 1 1 1 1 1 1 1 1 1 1 1 1 1 1 1 1]\n",
      " [0 1 1 1 1 1 0 1 1 1 1 1 1 1 1 1 1 1 1 1 1 1 1 1 1 1 1 1 1 1 1 1 1 1]\n",
      " [0 1 1 1 1 1 1 1 1 1 1 1 1 1 1 1 1 0 1 1 1 1 1 1 1 1 1 1 1 1 1 1 1 1]\n",
      " [0 1 1 1 1 1 1 1 1 1 1 0 1 1 1 1 1 1 1 1 1 1 1 1 1 1 1 1 1 1 1 1 1 1]\n",
      " [0 1 1 1 1 0 1 1 1 1 1 1 1 1 1 1 1 1 1 1 1 1 1 1 1 1 1 1 1 1 1 1 1 1]\n",
      " [0 1 1 1 1 1 1 1 1 1 1 0 1 1 1 1 1 1 1 1 1 1 1 1 1 1 1 1 1 1 1 1 1 1]\n",
      " [0 1 1 1 1 0 1 1 1 1 1 1 1 1 1 1 1 1 1 1 1 1 1 1 1 1 1 1 1 1 1 1 1 1]\n",
      " [0 1 1 1 1 1 0 1 1 1 1 1 1 1 1 1 1 1 1 1 1 1 1 1 1 1 1 1 1 1 1 1 1 1]\n",
      " [0 1 1 1 1 0 1 1 1 1 1 1 1 1 1 1 1 1 1 1 1 1 1 1 1 1 1 1 1 1 1 1 1 1]\n",
      " [0 1 1 1 1 1 1 1 1 1 1 1 1 1 1 1 1 1 1 1 1 1 1 1 1 1 1 1 1 1 1 1 1 0]\n",
      " [0 1 1 1 1 1 0 1 1 1 1 1 1 1 1 1 1 1 1 1 1 1 1 1 1 1 1 1 1 1 1 1 1 1]\n",
      " [0 1 1 1 1 1 1 1 1 1 1 1 1 1 1 1 1 1 1 1 0 1 1 1 1 1 1 1 1 1 1 1 1 1]\n",
      " [0 1 1 1 1 0 1 1 1 1 1 1 1 1 1 1 1 1 1 1 1 1 1 1 1 1 1 1 1 1 1 1 1 1]\n",
      " [0 1 1 1 1 3 2 2 2 1 1 1 1 1 0 1 1 1 1 1 1 1 1 1 1 1 1 1 1 1 1 1 1 1]\n",
      " [0 1 1 1 1 0 1 1 1 1 1 1 1 1 1 1 1 1 1 1 1 1 1 1 1 1 1 1 1 1 1 1 1 1]\n",
      " [0 1 1 1 1 1 1 1 1 0 1 1 1 1 1 1 1 1 1 1 1 1 1 1 1 1 1 1 1 1 1 1 1 1]\n",
      " [0 0 0 0 0 0 0 0 0 0 0 0 0 0 0 0 0 0 0 0 0 0 0 0 0 0 0 0 0 0 0 0 0 0]]\n",
      "2020-12-24 09:33:45,226 [DEBUG] kashgari - predict seq_length: None, input: (2, 111, 43)\n"
     ]
    },
    {
     "name": "stdout",
     "output_type": "stream",
     "text": [
      "4/4 [==============================] - 0s 94ms/step\n"
     ]
    },
    {
     "name": "stderr",
     "output_type": "stream",
     "text": [
      "2020-12-24 09:33:52,133 [DEBUG] kashgari - predict output: (111, 43)\n",
      "2020-12-24 09:33:52,133 [DEBUG] kashgari - predict output argmax: [[0 1 1 ... 1 1 1]\n",
      " [0 1 1 ... 1 1 1]\n",
      " [0 1 1 ... 1 1 1]\n",
      " ...\n",
      " [0 1 1 ... 4 4 4]\n",
      " [0 1 1 ... 1 1 1]\n",
      " [0 0 0 ... 0 0 0]]\n",
      "2020-12-24 09:33:52,136 [DEBUG] kashgari - predict seq_length: None, input: (2, 101, 54)\n"
     ]
    },
    {
     "name": "stdout",
     "output_type": "stream",
     "text": [
      "4/4 [==============================] - 0s 102ms/step\n"
     ]
    },
    {
     "name": "stderr",
     "output_type": "stream",
     "text": [
      "2020-12-24 09:33:59,040 [DEBUG] kashgari - predict output: (101, 54)\n",
      "2020-12-24 09:33:59,041 [DEBUG] kashgari - predict output argmax: [[0 1 1 ... 1 1 1]\n",
      " [0 1 1 ... 1 1 1]\n",
      " [0 1 1 ... 1 1 1]\n",
      " ...\n",
      " [0 1 1 ... 1 1 1]\n",
      " [0 1 1 ... 1 1 1]\n",
      " [0 0 0 ... 0 0 0]]\n",
      "2020-12-24 09:33:59,043 [DEBUG] kashgari - predict seq_length: None, input: (2, 51, 41)\n"
     ]
    },
    {
     "name": "stdout",
     "output_type": "stream",
     "text": [
      "2/2 [==============================] - 0s 48ms/step\n"
     ]
    },
    {
     "name": "stderr",
     "output_type": "stream",
     "text": [
      "2020-12-24 09:33:59,295 [DEBUG] kashgari - predict output: (51, 41)\n",
      "2020-12-24 09:33:59,296 [DEBUG] kashgari - predict output argmax: [[0 1 1 ... 1 1 1]\n",
      " [0 1 1 ... 1 1 1]\n",
      " [0 1 1 ... 1 1 1]\n",
      " ...\n",
      " [0 1 1 ... 2 2 2]\n",
      " [0 1 1 ... 1 1 1]\n",
      " [0 0 0 ... 0 0 0]]\n",
      "2020-12-24 09:33:59,298 [DEBUG] kashgari - predict seq_length: None, input: (2, 51, 151)\n"
     ]
    },
    {
     "name": "stdout",
     "output_type": "stream",
     "text": [
      "2/2 [==============================] - 0s 153ms/step\n"
     ]
    },
    {
     "name": "stderr",
     "output_type": "stream",
     "text": [
      "2020-12-24 09:34:06,394 [DEBUG] kashgari - predict output: (51, 151)\n",
      "2020-12-24 09:34:06,395 [DEBUG] kashgari - predict output argmax: [[0 1 1 ... 1 1 1]\n",
      " [0 1 1 ... 1 1 1]\n",
      " [0 1 1 ... 1 1 1]\n",
      " ...\n",
      " [0 1 1 ... 1 1 1]\n",
      " [0 1 1 ... 1 1 1]\n",
      " [0 0 0 ... 0 0 0]]\n",
      "2020-12-24 09:34:06,397 [DEBUG] kashgari - predict seq_length: None, input: (2, 60, 38)\n"
     ]
    },
    {
     "name": "stdout",
     "output_type": "stream",
     "text": [
      "2/2 [==============================] - 0s 56ms/step\n"
     ]
    },
    {
     "name": "stderr",
     "output_type": "stream",
     "text": [
      "2020-12-24 09:34:12,939 [DEBUG] kashgari - predict output: (60, 38)\n",
      "2020-12-24 09:34:12,940 [DEBUG] kashgari - predict output argmax: [[0 1 1 ... 1 1 1]\n",
      " [0 1 1 ... 1 1 1]\n",
      " [0 1 1 ... 1 1 1]\n",
      " ...\n",
      " [0 1 1 ... 1 1 1]\n",
      " [0 1 1 ... 1 1 1]\n",
      " [0 0 0 ... 0 0 0]]\n",
      "2020-12-24 09:34:12,944 [DEBUG] kashgari - predict seq_length: None, input: (2, 150, 48)\n"
     ]
    },
    {
     "name": "stdout",
     "output_type": "stream",
     "text": [
      "5/5 [==============================] - 1s 114ms/step\n"
     ]
    },
    {
     "name": "stderr",
     "output_type": "stream",
     "text": [
      "2020-12-24 09:34:19,985 [DEBUG] kashgari - predict output: (150, 48)\n",
      "2020-12-24 09:34:19,986 [DEBUG] kashgari - predict output argmax: [[0 1 1 ... 1 1 1]\n",
      " [0 1 1 ... 1 1 1]\n",
      " [0 1 1 ... 1 1 1]\n",
      " ...\n",
      " [0 1 1 ... 1 1 1]\n",
      " [0 1 1 ... 1 1 1]\n",
      " [0 0 0 ... 0 0 0]]\n",
      "2020-12-24 09:34:19,991 [DEBUG] kashgari - predict seq_length: None, input: (2, 133, 75)\n"
     ]
    },
    {
     "name": "stdout",
     "output_type": "stream",
     "text": [
      "WARNING:tensorflow:5 out of the last 16 calls to <function Model.make_predict_function.<locals>.predict_function at 0x7f78ef041b70> triggered tf.function retracing. Tracing is expensive and the excessive number of tracings is likely due to passing python objects instead of tensors. Also, tf.function has experimental_relax_shapes=True option that relaxes argument shapes that can avoid unnecessary retracing. Please refer to https://www.tensorflow.org/tutorials/customization/performance#python_or_tensor_args and https://www.tensorflow.org/api_docs/python/tf/function for more details.\n",
      "5/5 [==============================] - 1s 149ms/step\n"
     ]
    },
    {
     "name": "stderr",
     "output_type": "stream",
     "text": [
      "2020-12-24 09:34:28,522 [DEBUG] kashgari - predict output: (133, 75)\n",
      "2020-12-24 09:34:28,523 [DEBUG] kashgari - predict output argmax: [[0 1 1 ... 1 1 0]\n",
      " [0 1 1 ... 1 1 1]\n",
      " [0 1 1 ... 1 1 1]\n",
      " ...\n",
      " [0 1 1 ... 1 1 1]\n",
      " [0 1 1 ... 1 1 1]\n",
      " [0 0 0 ... 0 0 0]]\n",
      "2020-12-24 09:34:28,525 [DEBUG] kashgari - predict seq_length: None, input: (2, 108, 42)\n"
     ]
    },
    {
     "name": "stdout",
     "output_type": "stream",
     "text": [
      "4/4 [==============================] - 0s 87ms/step\n"
     ]
    },
    {
     "name": "stderr",
     "output_type": "stream",
     "text": [
      "2020-12-24 09:34:35,393 [DEBUG] kashgari - predict output: (108, 42)\n",
      "2020-12-24 09:34:35,394 [DEBUG] kashgari - predict output argmax: [[ 0  1  1 ...  1  1  1]\n",
      " [ 0  1  1 ...  1  1  1]\n",
      " [ 0  1  1 ...  1  1  1]\n",
      " ...\n",
      " [ 0  1  1 ... 11 11 11]\n",
      " [ 0  1  1 ... 11 11 11]\n",
      " [ 0  0  0 ...  0  0  0]]\n",
      "2020-12-24 09:34:35,396 [DEBUG] kashgari - predict seq_length: None, input: (2, 59, 63)\n"
     ]
    },
    {
     "name": "stdout",
     "output_type": "stream",
     "text": [
      "2/2 [==============================] - 0s 84ms/step\n"
     ]
    },
    {
     "name": "stderr",
     "output_type": "stream",
     "text": [
      "2020-12-24 09:34:42,094 [DEBUG] kashgari - predict output: (59, 63)\n",
      "2020-12-24 09:34:42,095 [DEBUG] kashgari - predict output argmax: [[0 1 1 ... 1 1 1]\n",
      " [0 1 1 ... 6 6 6]\n",
      " [0 1 1 ... 1 1 1]\n",
      " ...\n",
      " [0 1 1 ... 1 1 1]\n",
      " [0 1 1 ... 1 1 1]\n",
      " [0 0 0 ... 0 0 0]]\n",
      "2020-12-24 09:34:42,097 [DEBUG] kashgari - predict seq_length: None, input: (2, 47, 75)\n"
     ]
    },
    {
     "name": "stdout",
     "output_type": "stream",
     "text": [
      "2/2 [==============================] - 0s 68ms/step\n"
     ]
    },
    {
     "name": "stderr",
     "output_type": "stream",
     "text": [
      "2020-12-24 09:34:42,495 [DEBUG] kashgari - predict output: (47, 75)\n",
      "2020-12-24 09:34:42,495 [DEBUG] kashgari - predict output argmax: [[0 1 1 ... 1 1 1]\n",
      " [0 1 1 ... 1 1 1]\n",
      " [0 1 1 ... 1 1 1]\n",
      " ...\n",
      " [0 1 1 ... 1 1 1]\n",
      " [0 1 1 ... 1 1 1]\n",
      " [0 0 0 ... 0 0 0]]\n",
      "2020-12-24 09:34:42,498 [DEBUG] kashgari - predict seq_length: None, input: (2, 148, 91)\n"
     ]
    },
    {
     "name": "stdout",
     "output_type": "stream",
     "text": [
      "5/5 [==============================] - 1s 206ms/step\n"
     ]
    },
    {
     "name": "stderr",
     "output_type": "stream",
     "text": [
      "2020-12-24 09:34:50,229 [DEBUG] kashgari - predict output: (148, 91)\n",
      "2020-12-24 09:34:50,230 [DEBUG] kashgari - predict output argmax: [[0 1 1 ... 1 1 1]\n",
      " [0 1 1 ... 1 1 1]\n",
      " [0 1 1 ... 1 1 1]\n",
      " ...\n",
      " [0 1 1 ... 1 1 1]\n",
      " [0 1 1 ... 1 1 1]\n",
      " [0 0 0 ... 0 0 0]]\n",
      "2020-12-24 09:34:50,232 [DEBUG] kashgari - predict seq_length: None, input: (2, 39, 37)\n"
     ]
    },
    {
     "name": "stdout",
     "output_type": "stream",
     "text": [
      "2/2 [==============================] - 0s 32ms/step\n"
     ]
    },
    {
     "name": "stderr",
     "output_type": "stream",
     "text": [
      "2020-12-24 09:34:56,799 [DEBUG] kashgari - predict output: (39, 37)\n",
      "2020-12-24 09:34:56,800 [DEBUG] kashgari - predict output argmax: [[0 1 1 ... 1 1 1]\n",
      " [0 1 1 ... 1 1 1]\n",
      " [0 1 1 ... 1 1 1]\n",
      " ...\n",
      " [0 1 1 ... 1 1 1]\n",
      " [0 1 1 ... 1 1 1]\n",
      " [0 0 0 ... 0 0 0]]\n",
      "2020-12-24 09:34:56,803 [DEBUG] kashgari - predict seq_length: None, input: (2, 57, 33)\n"
     ]
    },
    {
     "name": "stdout",
     "output_type": "stream",
     "text": [
      "2/2 [==============================] - 0s 54ms/step\n"
     ]
    },
    {
     "name": "stderr",
     "output_type": "stream",
     "text": [
      "2020-12-24 09:35:03,336 [DEBUG] kashgari - predict output: (57, 33)\n",
      "2020-12-24 09:35:03,337 [DEBUG] kashgari - predict output argmax: [[0 1 1 ... 1 1 1]\n",
      " [0 1 1 ... 1 1 1]\n",
      " [0 1 1 ... 1 1 1]\n",
      " ...\n",
      " [0 1 1 ... 1 1 1]\n",
      " [0 1 1 ... 1 1 1]\n",
      " [0 0 0 ... 0 0 0]]\n",
      "2020-12-24 09:35:03,340 [DEBUG] kashgari - predict seq_length: None, input: (2, 91, 111)\n"
     ]
    },
    {
     "name": "stdout",
     "output_type": "stream",
     "text": [
      "WARNING:tensorflow:5 out of the last 14 calls to <function Model.make_predict_function.<locals>.predict_function at 0x7f78ef041b70> triggered tf.function retracing. Tracing is expensive and the excessive number of tracings is likely due to passing python objects instead of tensors. Also, tf.function has experimental_relax_shapes=True option that relaxes argument shapes that can avoid unnecessary retracing. Please refer to https://www.tensorflow.org/tutorials/customization/performance#python_or_tensor_args and https://www.tensorflow.org/api_docs/python/tf/function for more details.\n",
      "3/3 [==============================] - 1s 212ms/step\n"
     ]
    },
    {
     "name": "stderr",
     "output_type": "stream",
     "text": [
      "2020-12-24 09:35:10,641 [DEBUG] kashgari - predict output: (91, 111)\n",
      "2020-12-24 09:35:10,641 [DEBUG] kashgari - predict output argmax: [[0 1 1 ... 1 1 1]\n",
      " [0 1 1 ... 1 1 1]\n",
      " [0 1 1 ... 1 1 1]\n",
      " ...\n",
      " [0 1 1 ... 1 1 1]\n",
      " [0 1 1 ... 1 1 1]\n",
      " [0 0 0 ... 0 0 0]]\n",
      "2020-12-24 09:35:10,644 [DEBUG] kashgari - predict seq_length: None, input: (2, 86, 73)\n"
     ]
    },
    {
     "name": "stdout",
     "output_type": "stream",
     "text": [
      "WARNING:tensorflow:5 out of the last 13 calls to <function Model.make_predict_function.<locals>.predict_function at 0x7f78ef041b70> triggered tf.function retracing. Tracing is expensive and the excessive number of tracings is likely due to passing python objects instead of tensors. Also, tf.function has experimental_relax_shapes=True option that relaxes argument shapes that can avoid unnecessary retracing. Please refer to https://www.tensorflow.org/tutorials/customization/performance#python_or_tensor_args and https://www.tensorflow.org/api_docs/python/tf/function for more details.\n",
      "3/3 [==============================] - 0s 135ms/step\n"
     ]
    },
    {
     "name": "stderr",
     "output_type": "stream",
     "text": [
      "2020-12-24 09:35:17,577 [DEBUG] kashgari - predict output: (86, 73)\n",
      "2020-12-24 09:35:17,578 [DEBUG] kashgari - predict output argmax: [[0 1 1 ... 1 1 1]\n",
      " [0 1 1 ... 1 1 1]\n",
      " [0 1 1 ... 1 1 1]\n",
      " ...\n",
      " [0 1 1 ... 1 1 1]\n",
      " [0 1 1 ... 1 1 1]\n",
      " [0 0 0 ... 0 0 0]]\n",
      "2020-12-24 09:35:17,580 [DEBUG] kashgari - predict seq_length: None, input: (2, 156, 49)\n"
     ]
    },
    {
     "name": "stdout",
     "output_type": "stream",
     "text": [
      "WARNING:tensorflow:5 out of the last 11 calls to <function Model.make_predict_function.<locals>.predict_function at 0x7f78ef041b70> triggered tf.function retracing. Tracing is expensive and the excessive number of tracings is likely due to passing python objects instead of tensors. Also, tf.function has experimental_relax_shapes=True option that relaxes argument shapes that can avoid unnecessary retracing. Please refer to https://www.tensorflow.org/tutorials/customization/performance#python_or_tensor_args and https://www.tensorflow.org/api_docs/python/tf/function for more details.\n",
      "5/5 [==============================] - 1s 128ms/step\n"
     ]
    },
    {
     "name": "stderr",
     "output_type": "stream",
     "text": [
      "2020-12-24 09:35:26,206 [DEBUG] kashgari - predict output: (156, 49)\n",
      "2020-12-24 09:35:26,207 [DEBUG] kashgari - predict output argmax: [[0 1 1 ... 1 1 1]\n",
      " [0 1 1 ... 1 1 1]\n",
      " [0 1 1 ... 1 1 1]\n",
      " ...\n",
      " [0 1 1 ... 1 1 1]\n",
      " [0 1 1 ... 1 1 1]\n",
      " [0 0 0 ... 0 0 0]]\n",
      "2020-12-24 09:35:26,209 [DEBUG] kashgari - predict seq_length: None, input: (2, 68, 37)\n"
     ]
    },
    {
     "name": "stdout",
     "output_type": "stream",
     "text": [
      "3/3 [==============================] - 0s 62ms/step\n"
     ]
    },
    {
     "name": "stderr",
     "output_type": "stream",
     "text": [
      "2020-12-24 09:35:26,548 [DEBUG] kashgari - predict output: (68, 37)\n",
      "2020-12-24 09:35:26,549 [DEBUG] kashgari - predict output argmax: [[0 1 1 ... 1 1 1]\n",
      " [0 1 1 ... 1 1 1]\n",
      " [0 1 1 ... 0 6 6]\n",
      " ...\n",
      " [0 1 1 ... 1 1 1]\n",
      " [0 1 1 ... 1 1 1]\n",
      " [0 0 0 ... 0 0 0]]\n",
      "2020-12-24 09:35:26,552 [DEBUG] kashgari - predict seq_length: None, input: (2, 90, 56)\n"
     ]
    },
    {
     "name": "stdout",
     "output_type": "stream",
     "text": [
      "3/3 [==============================] - 0s 114ms/step\n"
     ]
    },
    {
     "name": "stderr",
     "output_type": "stream",
     "text": [
      "2020-12-24 09:35:33,419 [DEBUG] kashgari - predict output: (90, 56)\n",
      "2020-12-24 09:35:33,420 [DEBUG] kashgari - predict output argmax: [[0 1 1 ... 6 6 6]\n",
      " [0 1 1 ... 1 1 1]\n",
      " [0 1 1 ... 1 1 1]\n",
      " ...\n",
      " [0 1 1 ... 1 1 1]\n",
      " [0 1 1 ... 1 1 1]\n",
      " [0 0 0 ... 0 0 0]]\n",
      "2020-12-24 09:35:33,422 [DEBUG] kashgari - predict seq_length: None, input: (2, 147, 40)\n"
     ]
    },
    {
     "name": "stdout",
     "output_type": "stream",
     "text": [
      "5/5 [==============================] - 1s 104ms/step\n"
     ]
    },
    {
     "name": "stderr",
     "output_type": "stream",
     "text": [
      "2020-12-24 09:35:40,441 [DEBUG] kashgari - predict output: (147, 40)\n",
      "2020-12-24 09:35:40,442 [DEBUG] kashgari - predict output argmax: [[0 1 1 ... 1 1 1]\n",
      " [0 1 1 ... 1 1 1]\n",
      " [0 1 1 ... 1 1 1]\n",
      " ...\n",
      " [0 1 1 ... 1 1 1]\n",
      " [0 1 1 ... 1 1 1]\n",
      " [0 0 0 ... 0 0 0]]\n",
      "2020-12-24 09:35:40,445 [DEBUG] kashgari - predict seq_length: None, input: (2, 82, 54)\n"
     ]
    },
    {
     "name": "stdout",
     "output_type": "stream",
     "text": [
      "3/3 [==============================] - 0s 96ms/step\n"
     ]
    },
    {
     "name": "stderr",
     "output_type": "stream",
     "text": [
      "2020-12-24 09:35:40,932 [DEBUG] kashgari - predict output: (82, 54)\n",
      "2020-12-24 09:35:40,933 [DEBUG] kashgari - predict output argmax: [[0 1 1 ... 1 1 1]\n",
      " [0 1 1 ... 1 1 1]\n",
      " [0 1 1 ... 1 1 1]\n",
      " ...\n",
      " [0 1 1 ... 1 1 1]\n",
      " [0 1 1 ... 1 1 1]\n",
      " [0 0 0 ... 0 0 0]]\n",
      "2020-12-24 09:35:40,936 [DEBUG] kashgari - predict seq_length: None, input: (2, 42, 45)\n"
     ]
    },
    {
     "name": "stdout",
     "output_type": "stream",
     "text": [
      "2/2 [==============================] - 0s 40ms/step\n"
     ]
    },
    {
     "name": "stderr",
     "output_type": "stream",
     "text": [
      "2020-12-24 09:35:47,561 [DEBUG] kashgari - predict output: (42, 45)\n",
      "2020-12-24 09:35:47,562 [DEBUG] kashgari - predict output argmax: [[0 1 1 ... 1 1 1]\n",
      " [0 1 1 ... 1 1 1]\n",
      " [0 1 1 ... 1 1 1]\n",
      " ...\n",
      " [0 1 1 ... 1 1 1]\n",
      " [0 1 1 ... 1 1 1]\n",
      " [0 0 0 ... 0 0 0]]\n",
      "2020-12-24 09:35:47,565 [DEBUG] kashgari - predict seq_length: None, input: (2, 56, 43)\n"
     ]
    },
    {
     "name": "stdout",
     "output_type": "stream",
     "text": [
      "2/2 [==============================] - 0s 57ms/step\n"
     ]
    },
    {
     "name": "stderr",
     "output_type": "stream",
     "text": [
      "2020-12-24 09:35:47,844 [DEBUG] kashgari - predict output: (56, 43)\n",
      "2020-12-24 09:35:47,845 [DEBUG] kashgari - predict output argmax: [[0 1 1 ... 1 1 1]\n",
      " [0 1 1 ... 1 1 1]\n",
      " [0 1 1 ... 1 1 1]\n",
      " ...\n",
      " [0 1 1 ... 1 1 1]\n",
      " [0 1 1 ... 1 1 1]\n",
      " [0 0 0 ... 0 0 0]]\n",
      "2020-12-24 09:35:47,849 [DEBUG] kashgari - predict seq_length: None, input: (2, 163, 31)\n"
     ]
    },
    {
     "name": "stdout",
     "output_type": "stream",
     "text": [
      "6/6 [==============================] - 1s 86ms/step\n"
     ]
    },
    {
     "name": "stderr",
     "output_type": "stream",
     "text": [
      "2020-12-24 09:35:54,831 [DEBUG] kashgari - predict output: (163, 31)\n",
      "2020-12-24 09:35:54,832 [DEBUG] kashgari - predict output argmax: [[0 1 1 ... 1 1 1]\n",
      " [0 1 1 ... 1 1 1]\n",
      " [0 1 1 ... 1 1 1]\n",
      " ...\n",
      " [0 1 1 ... 8 8 8]\n",
      " [0 1 1 ... 1 1 1]\n",
      " [0 0 0 ... 0 0 0]]\n",
      "2020-12-24 09:35:54,835 [DEBUG] kashgari - predict seq_length: None, input: (2, 96, 38)\n"
     ]
    },
    {
     "name": "stdout",
     "output_type": "stream",
     "text": [
      "3/3 [==============================] - 0s 70ms/step\n"
     ]
    },
    {
     "name": "stderr",
     "output_type": "stream",
     "text": [
      "2020-12-24 09:35:59,341 [DEBUG] kashgari - predict output: (96, 38)\n",
      "2020-12-24 09:35:59,342 [DEBUG] kashgari - predict output argmax: [[0 1 1 ... 1 1 1]\n",
      " [0 1 1 ... 6 6 6]\n",
      " [0 1 1 ... 1 1 1]\n",
      " ...\n",
      " [0 1 1 ... 1 1 1]\n",
      " [0 1 1 ... 1 1 1]\n",
      " [0 0 0 ... 0 0 0]]\n",
      "2020-12-24 09:35:59,344 [DEBUG] kashgari - predict seq_length: None, input: (2, 42, 54)\n"
     ]
    },
    {
     "name": "stdout",
     "output_type": "stream",
     "text": [
      "2/2 [==============================] - 0s 46ms/step\n"
     ]
    },
    {
     "name": "stderr",
     "output_type": "stream",
     "text": [
      "2020-12-24 09:35:59,632 [DEBUG] kashgari - predict output: (42, 54)\n",
      "2020-12-24 09:35:59,633 [DEBUG] kashgari - predict output argmax: [[0 1 1 ... 1 1 1]\n",
      " [0 1 1 ... 1 1 1]\n",
      " [0 1 1 ... 1 1 1]\n",
      " ...\n",
      " [0 1 1 ... 1 1 1]\n",
      " [0 1 1 ... 1 1 1]\n",
      " [0 0 0 ... 0 0 0]]\n",
      "2020-12-24 09:35:59,635 [DEBUG] kashgari - predict seq_length: None, input: (2, 54, 81)\n"
     ]
    },
    {
     "name": "stdout",
     "output_type": "stream",
     "text": [
      "2/2 [==============================] - 0s 96ms/step\n"
     ]
    },
    {
     "name": "stderr",
     "output_type": "stream",
     "text": [
      "2020-12-24 09:36:06,671 [DEBUG] kashgari - predict output: (54, 81)\n",
      "2020-12-24 09:36:06,672 [DEBUG] kashgari - predict output argmax: [[0 1 1 ... 1 1 1]\n",
      " [0 1 1 ... 1 1 1]\n",
      " [0 1 1 ... 1 1 1]\n",
      " ...\n",
      " [0 1 1 ... 4 4 4]\n",
      " [0 1 1 ... 1 1 1]\n",
      " [0 0 0 ... 0 0 0]]\n",
      "2020-12-24 09:36:06,675 [DEBUG] kashgari - predict seq_length: None, input: (2, 115, 78)\n"
     ]
    },
    {
     "name": "stdout",
     "output_type": "stream",
     "text": [
      "4/4 [==============================] - 1s 157ms/step\n"
     ]
    },
    {
     "name": "stderr",
     "output_type": "stream",
     "text": [
      "2020-12-24 09:36:13,984 [DEBUG] kashgari - predict output: (115, 78)\n",
      "2020-12-24 09:36:13,985 [DEBUG] kashgari - predict output argmax: [[0 1 1 ... 1 1 1]\n",
      " [0 1 1 ... 1 1 1]\n",
      " [0 1 1 ... 1 1 1]\n",
      " ...\n",
      " [0 1 1 ... 1 1 1]\n",
      " [0 1 1 ... 1 1 1]\n",
      " [0 0 0 ... 0 0 0]]\n",
      "2020-12-24 09:36:13,986 [DEBUG] kashgari - predict seq_length: None, input: (2, 39, 36)\n"
     ]
    },
    {
     "name": "stdout",
     "output_type": "stream",
     "text": [
      "2/2 [==============================] - 0s 32ms/step\n"
     ]
    },
    {
     "name": "stderr",
     "output_type": "stream",
     "text": [
      "2020-12-24 09:36:20,454 [DEBUG] kashgari - predict output: (39, 36)\n",
      "2020-12-24 09:36:20,455 [DEBUG] kashgari - predict output argmax: [[0 1 1 ... 1 1 1]\n",
      " [0 1 1 ... 1 1 1]\n",
      " [0 1 1 ... 1 1 1]\n",
      " ...\n",
      " [0 1 1 ... 1 1 1]\n",
      " [0 1 1 ... 1 1 1]\n",
      " [0 0 0 ... 0 0 0]]\n",
      "2020-12-24 09:36:20,460 [DEBUG] kashgari - predict seq_length: None, input: (2, 233, 62)\n"
     ]
    },
    {
     "name": "stdout",
     "output_type": "stream",
     "text": [
      "WARNING:tensorflow:5 out of the last 14 calls to <function Model.make_predict_function.<locals>.predict_function at 0x7f78ef041b70> triggered tf.function retracing. Tracing is expensive and the excessive number of tracings is likely due to passing python objects instead of tensors. Also, tf.function has experimental_relax_shapes=True option that relaxes argument shapes that can avoid unnecessary retracing. Please refer to https://www.tensorflow.org/tutorials/customization/performance#python_or_tensor_args and https://www.tensorflow.org/api_docs/python/tf/function for more details.\n",
      "8/8 [==============================] - 1s 157ms/step\n"
     ]
    },
    {
     "name": "stderr",
     "output_type": "stream",
     "text": [
      "2020-12-24 09:36:28,529 [DEBUG] kashgari - predict output: (233, 62)\n",
      "2020-12-24 09:36:28,530 [DEBUG] kashgari - predict output argmax: [[0 1 1 ... 1 1 1]\n",
      " [0 1 1 ... 1 1 1]\n",
      " [0 1 1 ... 1 1 1]\n",
      " ...\n",
      " [0 1 1 ... 1 1 1]\n",
      " [0 1 1 ... 1 1 1]\n",
      " [0 0 0 ... 0 0 0]]\n",
      "2020-12-24 09:36:28,533 [DEBUG] kashgari - predict seq_length: None, input: (2, 115, 50)\n"
     ]
    },
    {
     "name": "stdout",
     "output_type": "stream",
     "text": [
      "4/4 [==============================] - 0s 115ms/step\n"
     ]
    },
    {
     "name": "stderr",
     "output_type": "stream",
     "text": [
      "2020-12-24 09:36:37,591 [DEBUG] kashgari - predict output: (115, 50)\n",
      "2020-12-24 09:36:37,592 [DEBUG] kashgari - predict output argmax: [[0 1 1 ... 8 8 8]\n",
      " [0 1 1 ... 1 1 1]\n",
      " [0 1 1 ... 1 1 1]\n",
      " ...\n",
      " [0 1 1 ... 1 1 1]\n",
      " [0 1 1 ... 1 1 1]\n",
      " [0 0 0 ... 0 0 0]]\n",
      "2020-12-24 09:36:37,595 [DEBUG] kashgari - predict seq_length: None, input: (2, 68, 59)\n"
     ]
    },
    {
     "name": "stdout",
     "output_type": "stream",
     "text": [
      "3/3 [==============================] - 0s 83ms/step\n"
     ]
    },
    {
     "name": "stderr",
     "output_type": "stream",
     "text": [
      "2020-12-24 09:36:44,550 [DEBUG] kashgari - predict output: (68, 59)\n",
      "2020-12-24 09:36:44,551 [DEBUG] kashgari - predict output argmax: [[ 0  1  1 ...  1  1  1]\n",
      " [ 0  1  1 ...  1  1  1]\n",
      " [ 0  1  1 ...  1  1  1]\n",
      " ...\n",
      " [ 0  1  1 ... 11 11 11]\n",
      " [ 0  1  1 ...  2  2  2]\n",
      " [ 0  0  0 ...  0  0  0]]\n",
      "2020-12-24 09:36:44,554 [DEBUG] kashgari - predict seq_length: None, input: (2, 81, 53)\n"
     ]
    },
    {
     "name": "stdout",
     "output_type": "stream",
     "text": [
      "3/3 [==============================] - 0s 94ms/step\n"
     ]
    },
    {
     "name": "stderr",
     "output_type": "stream",
     "text": [
      "2020-12-24 09:36:45,036 [DEBUG] kashgari - predict output: (81, 53)\n",
      "2020-12-24 09:36:45,037 [DEBUG] kashgari - predict output argmax: [[0 1 1 ... 1 1 1]\n",
      " [0 1 1 ... 1 1 1]\n",
      " [0 1 1 ... 1 1 1]\n",
      " ...\n",
      " [0 1 1 ... 1 1 1]\n",
      " [0 1 1 ... 1 1 1]\n",
      " [0 0 0 ... 0 0 0]]\n",
      "2020-12-24 09:36:45,043 [DEBUG] kashgari - predict seq_length: None, input: (2, 225, 75)\n"
     ]
    },
    {
     "name": "stdout",
     "output_type": "stream",
     "text": [
      "8/8 [==============================] - 1s 179ms/step\n"
     ]
    },
    {
     "name": "stderr",
     "output_type": "stream",
     "text": [
      "2020-12-24 09:36:46,767 [DEBUG] kashgari - predict output: (225, 75)\n",
      "2020-12-24 09:36:46,768 [DEBUG] kashgari - predict output argmax: [[0 1 1 ... 1 1 1]\n",
      " [0 1 1 ... 1 1 1]\n",
      " [0 1 1 ... 1 1 1]\n",
      " ...\n",
      " [0 1 1 ... 1 1 1]\n",
      " [0 1 1 ... 1 1 1]\n",
      " [0 0 0 ... 0 0 0]]\n",
      "2020-12-24 09:36:46,770 [DEBUG] kashgari - predict seq_length: None, input: (2, 30, 39)\n"
     ]
    },
    {
     "name": "stdout",
     "output_type": "stream",
     "text": [
      "1/1 [==============================] - 0s 969us/step\n"
     ]
    },
    {
     "name": "stderr",
     "output_type": "stream",
     "text": [
      "2020-12-24 09:36:53,568 [DEBUG] kashgari - predict output: (30, 39)\n",
      "2020-12-24 09:36:53,569 [DEBUG] kashgari - predict output argmax: [[0 1 1 ... 1 1 1]\n",
      " [0 1 1 ... 1 1 1]\n",
      " [0 1 1 ... 1 1 1]\n",
      " ...\n",
      " [0 1 1 ... 4 4 4]\n",
      " [0 1 1 ... 1 1 1]\n",
      " [0 0 0 ... 0 0 0]]\n",
      "2020-12-24 09:36:53,572 [DEBUG] kashgari - predict seq_length: None, input: (2, 95, 28)\n"
     ]
    },
    {
     "name": "stdout",
     "output_type": "stream",
     "text": [
      "3/3 [==============================] - 0s 84ms/step\n"
     ]
    },
    {
     "name": "stderr",
     "output_type": "stream",
     "text": [
      "2020-12-24 09:37:00,314 [DEBUG] kashgari - predict output: (95, 28)\n",
      "2020-12-24 09:37:00,314 [DEBUG] kashgari - predict output argmax: [[0 1 1 ... 1 1 1]\n",
      " [0 1 1 ... 1 1 1]\n",
      " [0 1 1 ... 1 1 1]\n",
      " ...\n",
      " [0 1 1 ... 1 1 1]\n",
      " [0 1 1 ... 1 1 1]\n",
      " [0 0 0 ... 0 0 0]]\n",
      "2020-12-24 09:37:00,318 [DEBUG] kashgari - predict seq_length: None, input: (2, 128, 99)\n"
     ]
    },
    {
     "name": "stdout",
     "output_type": "stream",
     "text": [
      "4/4 [==============================] - 1s 201ms/step\n"
     ]
    },
    {
     "name": "stderr",
     "output_type": "stream",
     "text": [
      "2020-12-24 09:37:06,083 [DEBUG] kashgari - predict output: (128, 99)\n",
      "2020-12-24 09:37:06,084 [DEBUG] kashgari - predict output argmax: [[0 1 1 ... 1 1 1]\n",
      " [0 1 1 ... 1 1 1]\n",
      " [0 1 1 ... 1 1 1]\n",
      " ...\n",
      " [0 1 1 ... 1 1 1]\n",
      " [0 1 1 ... 1 1 1]\n",
      " [0 0 0 ... 0 0 0]]\n",
      "2020-12-24 09:37:06,087 [DEBUG] kashgari - predict seq_length: None, input: (2, 83, 95)\n"
     ]
    },
    {
     "name": "stdout",
     "output_type": "stream",
     "text": [
      "WARNING:tensorflow:5 out of the last 23 calls to <function Model.make_predict_function.<locals>.predict_function at 0x7f78ef041b70> triggered tf.function retracing. Tracing is expensive and the excessive number of tracings is likely due to passing python objects instead of tensors. Also, tf.function has experimental_relax_shapes=True option that relaxes argument shapes that can avoid unnecessary retracing. Please refer to https://www.tensorflow.org/tutorials/customization/performance#python_or_tensor_args and https://www.tensorflow.org/api_docs/python/tf/function for more details.\n",
      "3/3 [==============================] - 0s 164ms/step\n"
     ]
    },
    {
     "name": "stderr",
     "output_type": "stream",
     "text": [
      "2020-12-24 09:37:13,463 [DEBUG] kashgari - predict output: (83, 95)\n",
      "2020-12-24 09:37:13,464 [DEBUG] kashgari - predict output argmax: [[0 1 1 ... 6 6 6]\n",
      " [0 1 1 ... 1 1 1]\n",
      " [0 1 1 ... 1 1 1]\n",
      " ...\n",
      " [0 1 1 ... 1 1 1]\n",
      " [0 1 1 ... 1 1 1]\n",
      " [0 0 0 ... 0 0 0]]\n",
      "2020-12-24 09:37:13,468 [DEBUG] kashgari - predict seq_length: None, input: (2, 115, 84)\n"
     ]
    },
    {
     "name": "stdout",
     "output_type": "stream",
     "text": [
      "4/4 [==============================] - 1s 169ms/step\n"
     ]
    },
    {
     "name": "stderr",
     "output_type": "stream",
     "text": [
      "2020-12-24 09:37:14,431 [DEBUG] kashgari - predict output: (115, 84)\n",
      "2020-12-24 09:37:14,432 [DEBUG] kashgari - predict output argmax: [[0 1 1 ... 1 1 1]\n",
      " [0 1 1 ... 1 1 1]\n",
      " [0 1 1 ... 1 1 1]\n",
      " ...\n",
      " [0 1 1 ... 1 1 1]\n",
      " [0 1 1 ... 1 1 1]\n",
      " [0 0 0 ... 0 0 0]]\n",
      "2020-12-24 09:37:14,437 [DEBUG] kashgari - predict seq_length: None, input: (2, 137, 65)\n"
     ]
    },
    {
     "name": "stdout",
     "output_type": "stream",
     "text": [
      "5/5 [==============================] - 1s 141ms/step\n"
     ]
    },
    {
     "name": "stderr",
     "output_type": "stream",
     "text": [
      "2020-12-24 09:37:15,374 [DEBUG] kashgari - predict output: (137, 65)\n",
      "2020-12-24 09:37:15,375 [DEBUG] kashgari - predict output argmax: [[0 1 1 ... 2 2 2]\n",
      " [0 1 1 ... 1 1 1]\n",
      " [0 1 1 ... 1 1 1]\n",
      " ...\n",
      " [0 1 1 ... 1 1 1]\n",
      " [0 1 1 ... 1 1 1]\n",
      " [0 0 0 ... 0 0 0]]\n",
      "2020-12-24 09:37:15,378 [DEBUG] kashgari - predict seq_length: None, input: (2, 53, 56)\n"
     ]
    },
    {
     "name": "stdout",
     "output_type": "stream",
     "text": [
      "2/2 [==============================] - 0s 67ms/step\n"
     ]
    },
    {
     "name": "stderr",
     "output_type": "stream",
     "text": [
      "2020-12-24 09:37:15,713 [DEBUG] kashgari - predict output: (53, 56)\n",
      "2020-12-24 09:37:15,714 [DEBUG] kashgari - predict output argmax: [[0 1 1 ... 1 1 1]\n",
      " [0 1 1 ... 1 1 1]\n",
      " [0 1 1 ... 1 1 1]\n",
      " ...\n",
      " [0 1 1 ... 1 1 1]\n",
      " [0 1 1 ... 1 1 1]\n",
      " [0 0 0 ... 0 0 0]]\n",
      "2020-12-24 09:37:15,719 [DEBUG] kashgari - predict seq_length: None, input: (2, 161, 76)\n"
     ]
    },
    {
     "name": "stdout",
     "output_type": "stream",
     "text": [
      "6/6 [==============================] - 1s 164ms/step\n"
     ]
    },
    {
     "name": "stderr",
     "output_type": "stream",
     "text": [
      "2020-12-24 09:37:23,296 [DEBUG] kashgari - predict output: (161, 76)\n",
      "2020-12-24 09:37:23,297 [DEBUG] kashgari - predict output argmax: [[0 1 1 ... 1 1 1]\n",
      " [0 1 1 ... 1 1 1]\n",
      " [0 1 1 ... 1 1 1]\n",
      " ...\n",
      " [0 1 1 ... 1 1 1]\n",
      " [0 1 1 ... 1 1 1]\n",
      " [0 0 0 ... 0 0 0]]\n",
      "2020-12-24 09:37:23,300 [DEBUG] kashgari - predict seq_length: None, input: (2, 137, 35)\n"
     ]
    },
    {
     "name": "stdout",
     "output_type": "stream",
     "text": [
      "5/5 [==============================] - 0s 89ms/step\n"
     ]
    },
    {
     "name": "stderr",
     "output_type": "stream",
     "text": [
      "2020-12-24 09:37:30,174 [DEBUG] kashgari - predict output: (137, 35)\n",
      "2020-12-24 09:37:30,175 [DEBUG] kashgari - predict output argmax: [[0 1 1 ... 1 1 1]\n",
      " [0 1 1 ... 1 1 1]\n",
      " [0 1 1 ... 1 1 1]\n",
      " ...\n",
      " [0 1 1 ... 1 1 1]\n",
      " [0 1 1 ... 1 1 1]\n",
      " [0 0 0 ... 0 0 0]]\n",
      "2020-12-24 09:37:30,178 [DEBUG] kashgari - predict seq_length: None, input: (2, 98, 73)\n"
     ]
    },
    {
     "name": "stdout",
     "output_type": "stream",
     "text": [
      "4/4 [==============================] - 1s 134ms/step\n"
     ]
    },
    {
     "name": "stderr",
     "output_type": "stream",
     "text": [
      "2020-12-24 09:37:30,955 [DEBUG] kashgari - predict output: (98, 73)\n",
      "2020-12-24 09:37:30,956 [DEBUG] kashgari - predict output argmax: [[0 1 1 ... 1 1 1]\n",
      " [0 1 1 ... 1 1 1]\n",
      " [0 1 1 ... 1 1 1]\n",
      " ...\n",
      " [0 1 1 ... 1 1 1]\n",
      " [0 1 1 ... 1 1 1]\n",
      " [0 0 0 ... 0 0 0]]\n",
      "2020-12-24 09:37:30,958 [DEBUG] kashgari - predict seq_length: None, input: (2, 154, 26)\n"
     ]
    },
    {
     "name": "stdout",
     "output_type": "stream",
     "text": [
      "5/5 [==============================] - 0s 85ms/step\n"
     ]
    },
    {
     "name": "stderr",
     "output_type": "stream",
     "text": [
      "2020-12-24 09:37:37,797 [DEBUG] kashgari - predict output: (154, 26)\n",
      "2020-12-24 09:37:37,798 [DEBUG] kashgari - predict output argmax: [[0 1 1 ... 1 1 1]\n",
      " [0 1 1 ... 1 1 1]\n",
      " [0 1 1 ... 1 1 1]\n",
      " ...\n",
      " [0 1 0 ... 1 1 1]\n",
      " [0 1 1 ... 1 1 1]\n",
      " [0 0 0 ... 0 0 0]]\n",
      "2020-12-24 09:37:37,800 [DEBUG] kashgari - predict seq_length: None, input: (2, 69, 41)\n"
     ]
    },
    {
     "name": "stdout",
     "output_type": "stream",
     "text": [
      "3/3 [==============================] - 0s 65ms/step\n"
     ]
    },
    {
     "name": "stderr",
     "output_type": "stream",
     "text": [
      "2020-12-24 09:37:38,154 [DEBUG] kashgari - predict output: (69, 41)\n",
      "2020-12-24 09:37:38,155 [DEBUG] kashgari - predict output argmax: [[0 1 1 ... 1 1 1]\n",
      " [0 1 1 ... 1 1 1]\n",
      " [0 1 1 ... 1 1 1]\n",
      " ...\n",
      " [0 1 1 ... 1 1 1]\n",
      " [0 1 1 ... 1 1 1]\n",
      " [0 0 0 ... 0 0 0]]\n",
      "2020-12-24 09:37:38,158 [DEBUG] kashgari - predict seq_length: None, input: (2, 121, 61)\n"
     ]
    },
    {
     "name": "stdout",
     "output_type": "stream",
     "text": [
      "4/4 [==============================] - 1s 334ms/step\n"
     ]
    },
    {
     "name": "stderr",
     "output_type": "stream",
     "text": [
      "2020-12-24 09:37:50,986 [DEBUG] kashgari - predict output: (121, 61)\n",
      "2020-12-24 09:37:50,994 [DEBUG] kashgari - predict output argmax: [[0 1 1 ... 1 1 1]\n",
      " [0 1 1 ... 1 1 1]\n",
      " [0 1 1 ... 6 6 6]\n",
      " ...\n",
      " [0 3 2 ... 1 1 1]\n",
      " [0 1 1 ... 1 1 1]\n",
      " [0 0 0 ... 0 0 0]]\n",
      "2020-12-24 09:37:51,001 [DEBUG] kashgari - predict seq_length: None, input: (2, 143, 31)\n"
     ]
    },
    {
     "name": "stdout",
     "output_type": "stream",
     "text": [
      "5/5 [==============================] - 1s 251ms/step\n"
     ]
    },
    {
     "name": "stderr",
     "output_type": "stream",
     "text": [
      "2020-12-24 09:37:52,802 [DEBUG] kashgari - predict output: (143, 31)\n",
      "2020-12-24 09:37:52,806 [DEBUG] kashgari - predict output argmax: [[0 1 1 ... 1 1 1]\n",
      " [0 1 1 ... 1 1 1]\n",
      " [0 1 1 ... 1 1 1]\n",
      " ...\n",
      " [0 1 1 ... 1 1 1]\n",
      " [0 1 1 ... 1 1 1]\n",
      " [0 0 0 ... 0 0 0]]\n",
      "2020-12-24 09:37:52,816 [DEBUG] kashgari - predict seq_length: None, input: (2, 139, 66)\n"
     ]
    },
    {
     "name": "stdout",
     "output_type": "stream",
     "text": [
      "5/5 [==============================] - 1s 142ms/step\n"
     ]
    },
    {
     "name": "stderr",
     "output_type": "stream",
     "text": [
      "2020-12-24 09:38:05,587 [DEBUG] kashgari - predict output: (139, 66)\n",
      "2020-12-24 09:38:05,589 [DEBUG] kashgari - predict output argmax: [[0 1 1 ... 1 1 1]\n",
      " [0 1 1 ... 1 1 1]\n",
      " [0 1 1 ... 1 1 1]\n",
      " ...\n",
      " [0 1 1 ... 1 1 1]\n",
      " [0 1 1 ... 1 1 1]\n",
      " [0 0 0 ... 0 0 0]]\n",
      "2020-12-24 09:38:05,592 [DEBUG] kashgari - predict seq_length: None, input: (2, 139, 38)\n"
     ]
    },
    {
     "name": "stdout",
     "output_type": "stream",
     "text": [
      "5/5 [==============================] - 0s 93ms/step\n"
     ]
    },
    {
     "name": "stderr",
     "output_type": "stream",
     "text": [
      "2020-12-24 09:38:06,213 [DEBUG] kashgari - predict output: (139, 38)\n",
      "2020-12-24 09:38:06,214 [DEBUG] kashgari - predict output argmax: [[0 1 1 ... 1 1 1]\n",
      " [0 1 1 ... 1 1 1]\n",
      " [0 1 1 ... 1 1 1]\n",
      " ...\n",
      " [0 1 1 ... 1 1 1]\n",
      " [0 1 1 ... 1 1 1]\n",
      " [0 0 0 ... 0 0 0]]\n",
      "2020-12-24 09:38:06,218 [DEBUG] kashgari - predict seq_length: None, input: (2, 135, 55)\n"
     ]
    },
    {
     "name": "stdout",
     "output_type": "stream",
     "text": [
      "5/5 [==============================] - 1s 123ms/step\n"
     ]
    },
    {
     "name": "stderr",
     "output_type": "stream",
     "text": [
      "2020-12-24 09:38:13,471 [DEBUG] kashgari - predict output: (135, 55)\n",
      "2020-12-24 09:38:13,472 [DEBUG] kashgari - predict output argmax: [[0 1 1 ... 1 1 1]\n",
      " [0 1 1 ... 1 1 1]\n",
      " [0 1 1 ... 1 1 1]\n",
      " ...\n",
      " [0 1 1 ... 1 1 0]\n",
      " [0 1 1 ... 1 1 1]\n",
      " [0 0 0 ... 0 0 0]]\n",
      "2020-12-24 09:38:13,475 [DEBUG] kashgari - predict seq_length: None, input: (2, 72, 77)\n"
     ]
    },
    {
     "name": "stdout",
     "output_type": "stream",
     "text": [
      "3/3 [==============================] - 0s 112ms/step\n"
     ]
    },
    {
     "name": "stderr",
     "output_type": "stream",
     "text": [
      "2020-12-24 09:38:23,052 [DEBUG] kashgari - predict output: (72, 77)\n",
      "2020-12-24 09:38:23,053 [DEBUG] kashgari - predict output argmax: [[0 1 1 ... 1 1 1]\n",
      " [0 1 1 ... 1 1 1]\n",
      " [0 1 1 ... 1 1 1]\n",
      " ...\n",
      " [0 1 1 ... 1 1 1]\n",
      " [0 1 1 ... 1 1 1]\n",
      " [0 0 0 ... 0 0 0]]\n",
      "2020-12-24 09:38:23,054 [DEBUG] kashgari - predict seq_length: None, input: (2, 74, 57)\n"
     ]
    },
    {
     "name": "stdout",
     "output_type": "stream",
     "text": [
      "3/3 [==============================] - 0s 93ms/step\n"
     ]
    },
    {
     "name": "stderr",
     "output_type": "stream",
     "text": [
      "2020-12-24 09:38:23,544 [DEBUG] kashgari - predict output: (74, 57)\n",
      "2020-12-24 09:38:23,545 [DEBUG] kashgari - predict output argmax: [[0 1 1 ... 1 1 1]\n",
      " [0 1 1 ... 1 1 1]\n",
      " [0 1 1 ... 5 5 5]\n",
      " ...\n",
      " [0 1 1 ... 1 1 1]\n",
      " [0 1 1 ... 1 1 1]\n",
      " [0 0 0 ... 0 0 0]]\n",
      "2020-12-24 09:38:23,549 [DEBUG] kashgari - predict seq_length: None, input: (2, 218, 36)\n"
     ]
    },
    {
     "name": "stdout",
     "output_type": "stream",
     "text": [
      "7/7 [==============================] - 1s 104ms/step\n"
     ]
    },
    {
     "name": "stderr",
     "output_type": "stream",
     "text": [
      "2020-12-24 09:38:24,431 [DEBUG] kashgari - predict output: (218, 36)\n",
      "2020-12-24 09:38:24,431 [DEBUG] kashgari - predict output argmax: [[0 1 1 ... 1 1 1]\n",
      " [0 1 1 ... 1 1 1]\n",
      " [0 1 1 ... 1 1 1]\n",
      " ...\n",
      " [0 1 1 ... 1 1 1]\n",
      " [0 1 1 ... 1 1 1]\n",
      " [0 0 0 ... 0 0 0]]\n",
      "2020-12-24 09:38:24,434 [DEBUG] kashgari - predict seq_length: None, input: (2, 89, 47)\n"
     ]
    },
    {
     "name": "stdout",
     "output_type": "stream",
     "text": [
      "3/3 [==============================] - 0s 101ms/step\n"
     ]
    },
    {
     "name": "stderr",
     "output_type": "stream",
     "text": [
      "2020-12-24 09:38:31,182 [DEBUG] kashgari - predict output: (89, 47)\n",
      "2020-12-24 09:38:31,183 [DEBUG] kashgari - predict output argmax: [[0 1 1 ... 1 1 1]\n",
      " [0 1 1 ... 1 1 1]\n",
      " [0 1 1 ... 1 1 1]\n",
      " ...\n",
      " [0 1 1 ... 1 1 1]\n",
      " [0 1 1 ... 1 1 1]\n",
      " [0 0 0 ... 0 0 0]]\n",
      "2020-12-24 09:38:31,188 [DEBUG] kashgari - predict seq_length: None, input: (2, 246, 115)\n"
     ]
    },
    {
     "name": "stdout",
     "output_type": "stream",
     "text": [
      "8/8 [==============================] - 2s 289ms/step\n"
     ]
    },
    {
     "name": "stderr",
     "output_type": "stream",
     "text": [
      "2020-12-24 09:38:40,196 [DEBUG] kashgari - predict output: (246, 115)\n",
      "2020-12-24 09:38:40,197 [DEBUG] kashgari - predict output argmax: [[0 1 1 ... 1 1 1]\n",
      " [0 1 1 ... 1 1 1]\n",
      " [0 1 1 ... 2 2 2]\n",
      " ...\n",
      " [0 1 1 ... 1 1 1]\n",
      " [0 1 0 ... 1 1 1]\n",
      " [0 0 0 ... 0 0 0]]\n",
      "2020-12-24 09:38:40,202 [DEBUG] kashgari - predict seq_length: None, input: (2, 169, 56)\n"
     ]
    },
    {
     "name": "stdout",
     "output_type": "stream",
     "text": [
      "6/6 [==============================] - 1s 134ms/step\n"
     ]
    },
    {
     "name": "stderr",
     "output_type": "stream",
     "text": [
      "2020-12-24 09:38:41,221 [DEBUG] kashgari - predict output: (169, 56)\n",
      "2020-12-24 09:38:41,223 [DEBUG] kashgari - predict output argmax: [[0 1 1 ... 1 1 1]\n",
      " [0 1 1 ... 1 1 1]\n",
      " [0 1 1 ... 1 1 1]\n",
      " ...\n",
      " [0 1 1 ... 1 1 1]\n",
      " [0 1 1 ... 1 1 1]\n",
      " [0 0 0 ... 0 0 0]]\n",
      "2020-12-24 09:38:41,226 [DEBUG] kashgari - predict seq_length: None, input: (2, 60, 62)\n"
     ]
    },
    {
     "name": "stdout",
     "output_type": "stream",
     "text": [
      "2/2 [==============================] - 0s 90ms/step\n"
     ]
    },
    {
     "name": "stderr",
     "output_type": "stream",
     "text": [
      "2020-12-24 09:38:41,629 [DEBUG] kashgari - predict output: (60, 62)\n",
      "2020-12-24 09:38:41,630 [DEBUG] kashgari - predict output argmax: [[0 1 1 ... 1 1 1]\n",
      " [0 1 1 ... 1 1 1]\n",
      " [0 1 1 ... 1 1 1]\n",
      " ...\n",
      " [0 1 1 ... 1 1 1]\n",
      " [0 1 1 ... 1 1 1]\n",
      " [0 0 0 ... 0 0 0]]\n",
      "2020-12-24 09:38:41,633 [DEBUG] kashgari - predict seq_length: None, input: (2, 104, 163)\n"
     ]
    },
    {
     "name": "stdout",
     "output_type": "stream",
     "text": [
      "4/4 [==============================] - 1s 291ms/step\n"
     ]
    },
    {
     "name": "stderr",
     "output_type": "stream",
     "text": [
      "2020-12-24 09:38:43,317 [DEBUG] kashgari - predict output: (104, 163)\n",
      "2020-12-24 09:38:43,318 [DEBUG] kashgari - predict output argmax: [[0 1 1 ... 1 1 1]\n",
      " [0 1 1 ... 1 1 1]\n",
      " [0 1 1 ... 1 1 1]\n",
      " ...\n",
      " [0 1 1 ... 1 1 1]\n",
      " [0 1 1 ... 1 1 1]\n",
      " [0 0 0 ... 0 0 0]]\n",
      "2020-12-24 09:38:43,321 [DEBUG] kashgari - predict seq_length: None, input: (2, 96, 57)\n"
     ]
    },
    {
     "name": "stdout",
     "output_type": "stream",
     "text": [
      "3/3 [==============================] - 0s 109ms/step\n"
     ]
    },
    {
     "name": "stderr",
     "output_type": "stream",
     "text": [
      "2020-12-24 09:38:48,043 [DEBUG] kashgari - predict output: (96, 57)\n",
      "2020-12-24 09:38:48,044 [DEBUG] kashgari - predict output argmax: [[0 1 1 ... 2 2 2]\n",
      " [0 1 1 ... 1 1 1]\n",
      " [0 1 1 ... 1 1 1]\n",
      " ...\n",
      " [0 1 1 ... 1 1 1]\n",
      " [0 1 1 ... 1 1 1]\n",
      " [0 0 0 ... 0 0 0]]\n",
      "2020-12-24 09:38:48,046 [DEBUG] kashgari - predict seq_length: None, input: (2, 111, 42)\n"
     ]
    },
    {
     "name": "stdout",
     "output_type": "stream",
     "text": [
      "4/4 [==============================] - 0s 96ms/step\n"
     ]
    },
    {
     "name": "stderr",
     "output_type": "stream",
     "text": [
      "2020-12-24 09:38:48,598 [DEBUG] kashgari - predict output: (111, 42)\n",
      "2020-12-24 09:38:48,598 [DEBUG] kashgari - predict output argmax: [[0 1 1 ... 1 1 1]\n",
      " [0 1 1 ... 1 1 1]\n",
      " [0 1 1 ... 1 1 1]\n",
      " ...\n",
      " [0 1 1 ... 1 1 1]\n",
      " [0 1 1 ... 1 1 1]\n",
      " [0 0 0 ... 0 0 0]]\n",
      "2020-12-24 09:38:48,603 [DEBUG] kashgari - predict seq_length: None, input: (2, 159, 61)\n"
     ]
    },
    {
     "name": "stdout",
     "output_type": "stream",
     "text": [
      "5/5 [==============================] - 1s 157ms/step\n"
     ]
    },
    {
     "name": "stderr",
     "output_type": "stream",
     "text": [
      "2020-12-24 09:38:49,612 [DEBUG] kashgari - predict output: (159, 61)\n",
      "2020-12-24 09:38:49,613 [DEBUG] kashgari - predict output argmax: [[0 1 1 ... 1 1 1]\n",
      " [0 1 3 ... 2 2 2]\n",
      " [0 1 1 ... 1 1 1]\n",
      " ...\n",
      " [0 1 1 ... 1 1 1]\n",
      " [0 1 1 ... 1 1 1]\n",
      " [0 0 0 ... 0 0 0]]\n",
      "2020-12-24 09:38:49,616 [DEBUG] kashgari - predict seq_length: None, input: (2, 102, 38)\n"
     ]
    },
    {
     "name": "stdout",
     "output_type": "stream",
     "text": [
      "4/4 [==============================] - 0s 79ms/step\n"
     ]
    },
    {
     "name": "stderr",
     "output_type": "stream",
     "text": [
      "2020-12-24 09:38:50,084 [DEBUG] kashgari - predict output: (102, 38)\n",
      "2020-12-24 09:38:50,085 [DEBUG] kashgari - predict output argmax: [[0 1 1 ... 1 1 1]\n",
      " [0 1 1 ... 1 1 1]\n",
      " [0 1 1 ... 1 1 1]\n",
      " ...\n",
      " [0 1 1 ... 1 1 1]\n",
      " [0 1 1 ... 1 1 1]\n",
      " [0 0 0 ... 0 0 0]]\n",
      "2020-12-24 09:38:50,088 [DEBUG] kashgari - predict seq_length: None, input: (2, 127, 46)\n"
     ]
    },
    {
     "name": "stdout",
     "output_type": "stream",
     "text": [
      "4/4 [==============================] - 0s 113ms/step\n"
     ]
    },
    {
     "name": "stderr",
     "output_type": "stream",
     "text": [
      "2020-12-24 09:38:57,016 [DEBUG] kashgari - predict output: (127, 46)\n",
      "2020-12-24 09:38:57,018 [DEBUG] kashgari - predict output argmax: [[0 1 1 ... 1 1 1]\n",
      " [0 1 1 ... 1 1 1]\n",
      " [0 1 1 ... 1 1 1]\n",
      " ...\n",
      " [0 1 1 ... 1 1 1]\n",
      " [0 1 1 ... 1 1 1]\n",
      " [0 0 0 ... 0 0 0]]\n",
      "2020-12-24 09:38:57,024 [DEBUG] kashgari - predict seq_length: None, input: (2, 271, 83)\n"
     ]
    },
    {
     "name": "stdout",
     "output_type": "stream",
     "text": [
      "9/9 [==============================] - 2s 212ms/step\n"
     ]
    },
    {
     "name": "stderr",
     "output_type": "stream",
     "text": [
      "2020-12-24 09:39:05,835 [DEBUG] kashgari - predict output: (271, 83)\n",
      "2020-12-24 09:39:05,836 [DEBUG] kashgari - predict output argmax: [[0 1 1 ... 1 1 1]\n",
      " [0 1 1 ... 1 1 1]\n",
      " [0 1 1 ... 1 1 1]\n",
      " ...\n",
      " [0 1 1 ... 1 1 1]\n",
      " [0 1 1 ... 1 1 1]\n",
      " [0 0 0 ... 0 0 0]]\n",
      "2020-12-24 09:39:05,839 [DEBUG] kashgari - predict seq_length: None, input: (2, 163, 53)\n"
     ]
    },
    {
     "name": "stdout",
     "output_type": "stream",
     "text": [
      "6/6 [==============================] - 1s 126ms/step\n"
     ]
    },
    {
     "name": "stderr",
     "output_type": "stream",
     "text": [
      "2020-12-24 09:39:06,792 [DEBUG] kashgari - predict output: (163, 53)\n",
      "2020-12-24 09:39:06,793 [DEBUG] kashgari - predict output argmax: [[0 1 1 ... 1 1 1]\n",
      " [0 1 1 ... 1 1 1]\n",
      " [0 1 1 ... 1 1 1]\n",
      " ...\n",
      " [0 1 1 ... 1 1 1]\n",
      " [0 1 1 ... 1 1 1]\n",
      " [0 0 0 ... 0 0 0]]\n",
      "2020-12-24 09:39:06,796 [DEBUG] kashgari - predict seq_length: None, input: (2, 67, 27)\n"
     ]
    },
    {
     "name": "stdout",
     "output_type": "stream",
     "text": [
      "3/3 [==============================] - 0s 57ms/step\n"
     ]
    },
    {
     "name": "stderr",
     "output_type": "stream",
     "text": [
      "2020-12-24 09:39:13,508 [DEBUG] kashgari - predict output: (67, 27)\n",
      "2020-12-24 09:39:13,509 [DEBUG] kashgari - predict output argmax: [[0 1 1 ... 1 1 1]\n",
      " [0 1 1 ... 1 1 1]\n",
      " [0 1 1 ... 2 2 2]\n",
      " ...\n",
      " [0 1 1 ... 1 1 1]\n",
      " [0 1 1 ... 1 1 1]\n",
      " [0 0 0 ... 0 0 0]]\n",
      "2020-12-24 09:39:13,514 [DEBUG] kashgari - predict seq_length: None, input: (2, 190, 56)\n"
     ]
    },
    {
     "name": "stdout",
     "output_type": "stream",
     "text": [
      "6/6 [==============================] - 1s 147ms/step\n"
     ]
    },
    {
     "name": "stderr",
     "output_type": "stream",
     "text": [
      "2020-12-24 09:39:14,612 [DEBUG] kashgari - predict output: (190, 56)\n",
      "2020-12-24 09:39:14,613 [DEBUG] kashgari - predict output argmax: [[0 1 1 ... 1 1 1]\n",
      " [0 1 1 ... 1 1 1]\n",
      " [0 1 1 ... 1 1 1]\n",
      " ...\n",
      " [0 1 1 ... 1 1 1]\n",
      " [0 1 1 ... 1 1 1]\n",
      " [0 0 0 ... 0 0 0]]\n",
      "2020-12-24 09:39:14,617 [DEBUG] kashgari - predict seq_length: None, input: (2, 109, 53)\n"
     ]
    },
    {
     "name": "stdout",
     "output_type": "stream",
     "text": [
      "4/4 [==============================] - 0s 113ms/step\n"
     ]
    },
    {
     "name": "stderr",
     "output_type": "stream",
     "text": [
      "2020-12-24 09:39:15,269 [DEBUG] kashgari - predict output: (109, 53)\n",
      "2020-12-24 09:39:15,270 [DEBUG] kashgari - predict output argmax: [[0 1 1 ... 1 1 1]\n",
      " [0 1 1 ... 1 1 1]\n",
      " [0 1 1 ... 1 1 1]\n",
      " ...\n",
      " [0 1 1 ... 1 1 1]\n",
      " [0 1 1 ... 1 1 1]\n",
      " [0 0 0 ... 0 0 0]]\n",
      "2020-12-24 09:39:15,273 [DEBUG] kashgari - predict seq_length: None, input: (2, 107, 104)\n"
     ]
    },
    {
     "name": "stdout",
     "output_type": "stream",
     "text": [
      "4/4 [==============================] - 1s 186ms/step\n"
     ]
    },
    {
     "name": "stderr",
     "output_type": "stream",
     "text": [
      "2020-12-24 09:39:22,701 [DEBUG] kashgari - predict output: (107, 104)\n",
      "2020-12-24 09:39:22,703 [DEBUG] kashgari - predict output argmax: [[0 1 1 ... 1 1 1]\n",
      " [0 1 1 ... 1 1 1]\n",
      " [0 1 1 ... 1 1 1]\n",
      " ...\n",
      " [0 1 1 ... 1 1 1]\n",
      " [0 1 1 ... 1 1 1]\n",
      " [0 0 0 ... 0 0 0]]\n",
      "2020-12-24 09:39:22,706 [DEBUG] kashgari - predict seq_length: None, input: (2, 158, 30)\n"
     ]
    },
    {
     "name": "stdout",
     "output_type": "stream",
     "text": [
      "5/5 [==============================] - 0s 87ms/step\n"
     ]
    },
    {
     "name": "stderr",
     "output_type": "stream",
     "text": [
      "2020-12-24 09:39:29,616 [DEBUG] kashgari - predict output: (158, 30)\n",
      "2020-12-24 09:39:29,617 [DEBUG] kashgari - predict output argmax: [[0 1 1 ... 1 1 1]\n",
      " [0 1 1 ... 1 1 1]\n",
      " [0 1 1 ... 1 1 1]\n",
      " ...\n",
      " [0 1 1 ... 1 1 1]\n",
      " [0 1 1 ... 1 1 1]\n",
      " [0 0 0 ... 0 0 0]]\n",
      "2020-12-24 09:39:29,624 [DEBUG] kashgari - predict seq_length: None, input: (2, 264, 121)\n"
     ]
    },
    {
     "name": "stdout",
     "output_type": "stream",
     "text": [
      "9/9 [==============================] - 3s 297ms/step\n"
     ]
    },
    {
     "name": "stderr",
     "output_type": "stream",
     "text": [
      "2020-12-24 09:39:39,055 [DEBUG] kashgari - predict output: (264, 121)\n",
      "2020-12-24 09:39:39,056 [DEBUG] kashgari - predict output argmax: [[0 1 1 ... 1 1 1]\n",
      " [0 1 1 ... 1 1 1]\n",
      " [0 1 1 ... 1 1 1]\n",
      " ...\n",
      " [0 1 1 ... 1 1 1]\n",
      " [0 1 1 ... 1 1 1]\n",
      " [0 0 0 ... 0 0 0]]\n",
      "2020-12-24 09:39:39,059 [DEBUG] kashgari - predict seq_length: None, input: (2, 112, 110)\n"
     ]
    },
    {
     "name": "stdout",
     "output_type": "stream",
     "text": [
      "4/4 [==============================] - 1s 211ms/step\n"
     ]
    },
    {
     "name": "stderr",
     "output_type": "stream",
     "text": [
      "2020-12-24 09:39:46,588 [DEBUG] kashgari - predict output: (112, 110)\n",
      "2020-12-24 09:39:46,589 [DEBUG] kashgari - predict output argmax: [[0 1 1 ... 1 1 1]\n",
      " [0 1 1 ... 1 1 1]\n",
      " [0 1 1 ... 1 1 1]\n",
      " ...\n",
      " [0 1 1 ... 1 1 1]\n",
      " [0 1 1 ... 1 1 1]\n",
      " [0 0 0 ... 0 0 0]]\n",
      "2020-12-24 09:39:46,593 [DEBUG] kashgari - predict seq_length: None, input: (2, 188, 95)\n"
     ]
    },
    {
     "name": "stdout",
     "output_type": "stream",
     "text": [
      "6/6 [==============================] - 1s 239ms/step\n"
     ]
    },
    {
     "name": "stderr",
     "output_type": "stream",
     "text": [
      "2020-12-24 09:39:48,366 [DEBUG] kashgari - predict output: (188, 95)\n",
      "2020-12-24 09:39:48,367 [DEBUG] kashgari - predict output argmax: [[0 1 1 ... 1 1 1]\n",
      " [0 1 1 ... 1 1 1]\n",
      " [0 1 1 ... 1 1 1]\n",
      " ...\n",
      " [0 1 1 ... 1 1 1]\n",
      " [0 1 1 ... 1 1 1]\n",
      " [0 0 0 ... 0 0 0]]\n",
      "2020-12-24 09:39:48,369 [DEBUG] kashgari - predict seq_length: None, input: (2, 51, 48)\n"
     ]
    },
    {
     "name": "stdout",
     "output_type": "stream",
     "text": [
      "2/2 [==============================] - 0s 57ms/step\n"
     ]
    },
    {
     "name": "stderr",
     "output_type": "stream",
     "text": [
      "2020-12-24 09:39:48,667 [DEBUG] kashgari - predict output: (51, 48)\n",
      "2020-12-24 09:39:48,669 [DEBUG] kashgari - predict output argmax: [[0 1 1 ... 1 1 1]\n",
      " [0 1 1 ... 1 1 1]\n",
      " [0 1 1 ... 1 1 1]\n",
      " ...\n",
      " [0 1 1 ... 1 1 1]\n",
      " [0 1 1 ... 1 1 1]\n",
      " [0 0 0 ... 0 0 0]]\n",
      "2020-12-24 09:39:48,670 [DEBUG] kashgari - predict seq_length: None, input: (2, 55, 50)\n"
     ]
    },
    {
     "name": "stdout",
     "output_type": "stream",
     "text": [
      "2/2 [==============================] - 0s 66ms/step\n"
     ]
    },
    {
     "name": "stderr",
     "output_type": "stream",
     "text": [
      "2020-12-24 09:39:48,993 [DEBUG] kashgari - predict output: (55, 50)\n",
      "2020-12-24 09:39:48,994 [DEBUG] kashgari - predict output argmax: [[0 1 1 ... 1 1 1]\n",
      " [0 1 1 ... 1 1 1]\n",
      " [0 1 1 ... 1 1 1]\n",
      " ...\n",
      " [0 1 1 ... 1 1 1]\n",
      " [0 1 1 ... 1 1 1]\n",
      " [0 0 0 ... 0 0 0]]\n",
      "2020-12-24 09:39:48,998 [DEBUG] kashgari - predict seq_length: None, input: (2, 128, 81)\n"
     ]
    },
    {
     "name": "stdout",
     "output_type": "stream",
     "text": [
      "4/4 [==============================] - 1s 165ms/step\n"
     ]
    },
    {
     "name": "stderr",
     "output_type": "stream",
     "text": [
      "2020-12-24 09:39:54,088 [DEBUG] kashgari - predict output: (128, 81)\n",
      "2020-12-24 09:39:54,089 [DEBUG] kashgari - predict output argmax: [[0 1 1 ... 1 1 1]\n",
      " [0 1 1 ... 1 1 1]\n",
      " [0 1 1 ... 1 1 1]\n",
      " ...\n",
      " [0 1 1 ... 1 1 1]\n",
      " [0 1 1 ... 1 1 1]\n",
      " [0 0 0 ... 0 0 0]]\n",
      "2020-12-24 09:39:54,092 [DEBUG] kashgari - predict seq_length: None, input: (2, 90, 51)\n"
     ]
    },
    {
     "name": "stdout",
     "output_type": "stream",
     "text": [
      "3/3 [==============================] - 0s 112ms/step\n"
     ]
    },
    {
     "name": "stderr",
     "output_type": "stream",
     "text": [
      "2020-12-24 09:40:00,935 [DEBUG] kashgari - predict output: (90, 51)\n",
      "2020-12-24 09:40:00,936 [DEBUG] kashgari - predict output argmax: [[0 1 1 ... 6 6 6]\n",
      " [0 1 1 ... 1 1 1]\n",
      " [0 1 1 ... 1 1 1]\n",
      " ...\n",
      " [0 1 1 ... 1 1 1]\n",
      " [0 1 1 ... 1 1 1]\n",
      " [0 0 0 ... 0 0 0]]\n",
      "2020-12-24 09:40:00,939 [DEBUG] kashgari - predict seq_length: None, input: (2, 129, 47)\n"
     ]
    },
    {
     "name": "stdout",
     "output_type": "stream",
     "text": [
      "5/5 [==============================] - 1s 107ms/step\n"
     ]
    },
    {
     "name": "stderr",
     "output_type": "stream",
     "text": [
      "2020-12-24 09:40:01,656 [DEBUG] kashgari - predict output: (129, 47)\n",
      "2020-12-24 09:40:01,657 [DEBUG] kashgari - predict output argmax: [[0 1 1 ... 1 1 1]\n",
      " [0 1 1 ... 1 1 1]\n",
      " [0 1 1 ... 1 1 1]\n",
      " ...\n",
      " [0 1 1 ... 2 2 2]\n",
      " [0 1 1 ... 1 1 1]\n",
      " [0 0 0 ... 0 0 0]]\n",
      "2020-12-24 09:40:01,659 [DEBUG] kashgari - predict seq_length: None, input: (2, 93, 46)\n"
     ]
    },
    {
     "name": "stdout",
     "output_type": "stream",
     "text": [
      "3/3 [==============================] - 0s 98ms/step\n"
     ]
    },
    {
     "name": "stderr",
     "output_type": "stream",
     "text": [
      "2020-12-24 09:40:02,135 [DEBUG] kashgari - predict output: (93, 46)\n",
      "2020-12-24 09:40:02,136 [DEBUG] kashgari - predict output argmax: [[0 1 1 ... 1 1 1]\n",
      " [0 1 1 ... 1 1 1]\n",
      " [0 1 1 ... 1 1 1]\n",
      " ...\n",
      " [0 1 1 ... 1 1 1]\n",
      " [0 1 1 ... 1 1 1]\n",
      " [0 0 0 ... 0 0 0]]\n",
      "2020-12-24 09:40:02,140 [DEBUG] kashgari - predict seq_length: None, input: (2, 176, 31)\n"
     ]
    },
    {
     "name": "stdout",
     "output_type": "stream",
     "text": [
      "6/6 [==============================] - 1s 85ms/step\n"
     ]
    },
    {
     "name": "stderr",
     "output_type": "stream",
     "text": [
      "2020-12-24 09:40:02,794 [DEBUG] kashgari - predict output: (176, 31)\n",
      "2020-12-24 09:40:02,795 [DEBUG] kashgari - predict output argmax: [[0 1 1 ... 1 1 1]\n",
      " [0 1 1 ... 1 1 1]\n",
      " [0 1 1 ... 1 1 1]\n",
      " ...\n",
      " [0 1 1 ... 1 1 1]\n",
      " [0 1 1 ... 1 1 1]\n",
      " [0 0 0 ... 0 0 0]]\n",
      "2020-12-24 09:40:02,798 [DEBUG] kashgari - predict seq_length: None, input: (2, 78, 45)\n"
     ]
    },
    {
     "name": "stdout",
     "output_type": "stream",
     "text": [
      "3/3 [==============================] - 0s 79ms/step\n"
     ]
    },
    {
     "name": "stderr",
     "output_type": "stream",
     "text": [
      "2020-12-24 09:40:03,210 [DEBUG] kashgari - predict output: (78, 45)\n",
      "2020-12-24 09:40:03,211 [DEBUG] kashgari - predict output argmax: [[0 1 1 ... 1 1 1]\n",
      " [0 1 1 ... 1 1 1]\n",
      " [0 1 1 ... 1 1 1]\n",
      " ...\n",
      " [0 1 1 ... 1 1 1]\n",
      " [0 1 1 ... 1 1 1]\n",
      " [0 0 0 ... 0 0 0]]\n",
      "2020-12-24 09:40:03,215 [DEBUG] kashgari - predict seq_length: None, input: (2, 230, 61)\n"
     ]
    },
    {
     "name": "stdout",
     "output_type": "stream",
     "text": [
      "8/8 [==============================] - 1s 155ms/step\n"
     ]
    },
    {
     "name": "stderr",
     "output_type": "stream",
     "text": [
      "2020-12-24 09:40:04,676 [DEBUG] kashgari - predict output: (230, 61)\n",
      "2020-12-24 09:40:04,677 [DEBUG] kashgari - predict output argmax: [[0 1 1 ... 1 1 1]\n",
      " [0 1 1 ... 1 1 1]\n",
      " [0 1 1 ... 1 1 1]\n",
      " ...\n",
      " [0 1 1 ... 1 1 1]\n",
      " [0 1 1 ... 1 1 1]\n",
      " [0 0 0 ... 0 0 0]]\n",
      "2020-12-24 09:40:04,682 [DEBUG] kashgari - predict seq_length: None, input: (2, 154, 42)\n"
     ]
    },
    {
     "name": "stdout",
     "output_type": "stream",
     "text": [
      "5/5 [==============================] - 1s 109ms/step\n"
     ]
    },
    {
     "name": "stderr",
     "output_type": "stream",
     "text": [
      "2020-12-24 09:40:05,393 [DEBUG] kashgari - predict output: (154, 42)\n",
      "2020-12-24 09:40:05,393 [DEBUG] kashgari - predict output argmax: [[0 1 1 ... 1 1 1]\n",
      " [0 1 1 ... 1 1 1]\n",
      " [0 1 1 ... 1 1 1]\n",
      " ...\n",
      " [0 1 1 ... 1 1 1]\n",
      " [0 1 1 ... 1 1 1]\n",
      " [0 0 0 ... 0 0 0]]\n",
      "2020-12-24 09:40:05,396 [DEBUG] kashgari - predict seq_length: None, input: (2, 197, 50)\n"
     ]
    },
    {
     "name": "stdout",
     "output_type": "stream",
     "text": [
      "7/7 [==============================] - 1s 120ms/step\n"
     ]
    },
    {
     "name": "stderr",
     "output_type": "stream",
     "text": [
      "2020-12-24 09:40:06,428 [DEBUG] kashgari - predict output: (197, 50)\n",
      "2020-12-24 09:40:06,429 [DEBUG] kashgari - predict output argmax: [[0 1 1 ... 1 1 1]\n",
      " [0 1 1 ... 1 1 1]\n",
      " [0 1 1 ... 1 1 1]\n",
      " ...\n",
      " [0 1 1 ... 1 1 1]\n",
      " [0 1 1 ... 1 1 1]\n",
      " [0 0 0 ... 0 0 0]]\n",
      "2020-12-24 09:40:06,434 [DEBUG] kashgari - predict seq_length: None, input: (2, 209, 64)\n"
     ]
    },
    {
     "name": "stdout",
     "output_type": "stream",
     "text": [
      "7/7 [==============================] - 1s 159ms/step\n"
     ]
    },
    {
     "name": "stderr",
     "output_type": "stream",
     "text": [
      "2020-12-24 09:40:14,092 [DEBUG] kashgari - predict output: (209, 64)\n",
      "2020-12-24 09:40:14,093 [DEBUG] kashgari - predict output argmax: [[0 1 1 ... 1 1 1]\n",
      " [0 1 1 ... 1 1 1]\n",
      " [0 1 1 ... 1 1 1]\n",
      " ...\n",
      " [0 1 1 ... 1 1 1]\n",
      " [0 1 1 ... 1 1 1]\n",
      " [0 0 0 ... 0 0 0]]\n",
      "2020-12-24 09:40:14,095 [DEBUG] kashgari - predict seq_length: None, input: (2, 75, 51)\n"
     ]
    },
    {
     "name": "stdout",
     "output_type": "stream",
     "text": [
      "3/3 [==============================] - 0s 87ms/step\n"
     ]
    },
    {
     "name": "stderr",
     "output_type": "stream",
     "text": [
      "2020-12-24 09:40:14,554 [DEBUG] kashgari - predict output: (75, 51)\n",
      "2020-12-24 09:40:14,555 [DEBUG] kashgari - predict output argmax: [[0 1 1 ... 1 1 1]\n",
      " [0 1 1 ... 1 1 1]\n",
      " [0 1 1 ... 1 1 1]\n",
      " ...\n",
      " [0 1 1 ... 1 1 1]\n",
      " [0 1 1 ... 1 1 1]\n",
      " [0 0 0 ... 0 0 0]]\n",
      "2020-12-24 09:40:14,558 [DEBUG] kashgari - predict seq_length: None, input: (2, 104, 148)\n"
     ]
    },
    {
     "name": "stdout",
     "output_type": "stream",
     "text": [
      "4/4 [==============================] - 1s 257ms/step\n"
     ]
    },
    {
     "name": "stderr",
     "output_type": "stream",
     "text": [
      "2020-12-24 09:40:22,591 [DEBUG] kashgari - predict output: (104, 148)\n",
      "2020-12-24 09:40:22,591 [DEBUG] kashgari - predict output argmax: [[0 1 1 ... 1 1 1]\n",
      " [0 1 1 ... 1 1 1]\n",
      " [0 1 1 ... 1 1 1]\n",
      " ...\n",
      " [0 1 1 ... 1 1 1]\n",
      " [0 1 1 ... 1 1 1]\n",
      " [0 0 0 ... 0 0 0]]\n",
      "2020-12-24 09:40:22,595 [DEBUG] kashgari - predict seq_length: None, input: (2, 161, 67)\n"
     ]
    },
    {
     "name": "stdout",
     "output_type": "stream",
     "text": [
      "6/6 [==============================] - 1s 147ms/step\n"
     ]
    },
    {
     "name": "stderr",
     "output_type": "stream",
     "text": [
      "2020-12-24 09:40:33,526 [DEBUG] kashgari - predict output: (161, 67)\n",
      "2020-12-24 09:40:33,527 [DEBUG] kashgari - predict output argmax: [[0 1 1 ... 1 1 1]\n",
      " [0 1 1 ... 1 1 1]\n",
      " [0 1 1 ... 1 1 1]\n",
      " ...\n",
      " [0 1 1 ... 1 1 1]\n",
      " [0 1 1 ... 1 1 1]\n",
      " [0 0 0 ... 0 0 0]]\n",
      "2020-12-24 09:40:33,529 [DEBUG] kashgari - predict seq_length: None, input: (2, 50, 50)\n"
     ]
    },
    {
     "name": "stdout",
     "output_type": "stream",
     "text": [
      "2/2 [==============================] - 0s 57ms/step\n"
     ]
    },
    {
     "name": "stderr",
     "output_type": "stream",
     "text": [
      "2020-12-24 09:40:33,826 [DEBUG] kashgari - predict output: (50, 50)\n",
      "2020-12-24 09:40:33,827 [DEBUG] kashgari - predict output argmax: [[0 1 1 ... 1 1 1]\n",
      " [0 1 1 ... 1 1 1]\n",
      " [0 1 1 ... 1 1 1]\n",
      " ...\n",
      " [0 1 1 ... 1 1 1]\n",
      " [0 1 1 ... 1 1 1]\n",
      " [0 0 0 ... 0 0 0]]\n",
      "2020-12-24 09:40:33,828 [DEBUG] kashgari - predict seq_length: None, input: (2, 61, 77)\n"
     ]
    },
    {
     "name": "stdout",
     "output_type": "stream",
     "text": [
      "2/2 [==============================] - 0s 115ms/step\n"
     ]
    },
    {
     "name": "stderr",
     "output_type": "stream",
     "text": [
      "2020-12-24 09:40:34,328 [DEBUG] kashgari - predict output: (61, 77)\n",
      "2020-12-24 09:40:34,329 [DEBUG] kashgari - predict output argmax: [[0 1 1 ... 1 1 1]\n",
      " [0 1 1 ... 1 1 1]\n",
      " [0 1 1 ... 1 1 1]\n",
      " ...\n",
      " [0 1 1 ... 1 1 1]\n",
      " [0 1 1 ... 1 1 1]\n",
      " [0 0 0 ... 0 0 0]]\n",
      "2020-12-24 09:40:34,331 [DEBUG] kashgari - predict seq_length: None, input: (2, 53, 36)\n"
     ]
    },
    {
     "name": "stdout",
     "output_type": "stream",
     "text": [
      "2/2 [==============================] - 0s 49ms/step\n"
     ]
    },
    {
     "name": "stderr",
     "output_type": "stream",
     "text": [
      "2020-12-24 09:40:34,573 [DEBUG] kashgari - predict output: (53, 36)\n",
      "2020-12-24 09:40:34,574 [DEBUG] kashgari - predict output argmax: [[0 1 1 ... 1 1 1]\n",
      " [0 1 1 ... 1 1 1]\n",
      " [0 1 1 ... 1 1 1]\n",
      " ...\n",
      " [0 1 1 ... 4 4 4]\n",
      " [0 1 1 ... 1 1 1]\n",
      " [0 0 0 ... 0 0 0]]\n",
      "2020-12-24 09:40:34,576 [DEBUG] kashgari - predict seq_length: None, input: (2, 41, 51)\n"
     ]
    },
    {
     "name": "stdout",
     "output_type": "stream",
     "text": [
      "2/2 [==============================] - 0s 40ms/step\n"
     ]
    },
    {
     "name": "stderr",
     "output_type": "stream",
     "text": [
      "2020-12-24 09:40:34,852 [DEBUG] kashgari - predict output: (41, 51)\n",
      "2020-12-24 09:40:34,853 [DEBUG] kashgari - predict output argmax: [[0 1 1 ... 1 1 1]\n",
      " [0 1 1 ... 1 1 1]\n",
      " [0 1 1 ... 1 1 1]\n",
      " ...\n",
      " [0 1 1 ... 1 1 1]\n",
      " [0 1 1 ... 1 1 1]\n",
      " [0 0 0 ... 0 0 0]]\n",
      "2020-12-24 09:40:34,856 [DEBUG] kashgari - predict seq_length: None, input: (2, 78, 49)\n"
     ]
    },
    {
     "name": "stdout",
     "output_type": "stream",
     "text": [
      "3/3 [==============================] - 0s 85ms/step\n"
     ]
    },
    {
     "name": "stderr",
     "output_type": "stream",
     "text": [
      "2020-12-24 09:40:35,303 [DEBUG] kashgari - predict output: (78, 49)\n",
      "2020-12-24 09:40:35,304 [DEBUG] kashgari - predict output argmax: [[0 1 1 ... 1 1 1]\n",
      " [0 1 1 ... 1 1 1]\n",
      " [0 1 1 ... 1 1 1]\n",
      " ...\n",
      " [0 1 1 ... 1 1 1]\n",
      " [0 1 1 ... 1 1 1]\n",
      " [0 0 0 ... 0 0 0]]\n",
      "2020-12-24 09:40:35,306 [DEBUG] kashgari - predict seq_length: None, input: (2, 65, 37)\n"
     ]
    },
    {
     "name": "stdout",
     "output_type": "stream",
     "text": [
      "3/3 [==============================] - 0s 61ms/step\n"
     ]
    },
    {
     "name": "stderr",
     "output_type": "stream",
     "text": [
      "2020-12-24 09:40:35,643 [DEBUG] kashgari - predict output: (65, 37)\n",
      "2020-12-24 09:40:35,644 [DEBUG] kashgari - predict output argmax: [[0 1 1 ... 1 1 1]\n",
      " [0 1 1 ... 1 1 1]\n",
      " [0 1 1 ... 1 1 1]\n",
      " ...\n",
      " [0 1 1 ... 1 1 1]\n",
      " [0 1 1 ... 1 1 1]\n",
      " [0 0 0 ... 0 0 0]]\n",
      "2020-12-24 09:40:35,649 [DEBUG] kashgari - predict seq_length: None, input: (2, 129, 127)\n"
     ]
    },
    {
     "name": "stdout",
     "output_type": "stream",
     "text": [
      "5/5 [==============================] - 1s 248ms/step\n"
     ]
    },
    {
     "name": "stderr",
     "output_type": "stream",
     "text": [
      "2020-12-24 09:40:43,713 [DEBUG] kashgari - predict output: (129, 127)\n",
      "2020-12-24 09:40:43,714 [DEBUG] kashgari - predict output argmax: [[0 1 1 ... 1 1 1]\n",
      " [0 1 1 ... 1 1 1]\n",
      " [0 1 1 ... 1 1 1]\n",
      " ...\n",
      " [0 1 1 ... 1 1 1]\n",
      " [0 1 1 ... 1 1 1]\n",
      " [0 0 0 ... 0 0 0]]\n",
      "2020-12-24 09:40:43,719 [DEBUG] kashgari - predict seq_length: None, input: (2, 240, 47)\n"
     ]
    },
    {
     "name": "stdout",
     "output_type": "stream",
     "text": [
      "8/8 [==============================] - 1s 132ms/step\n"
     ]
    },
    {
     "name": "stderr",
     "output_type": "stream",
     "text": [
      "2020-12-24 09:40:44,970 [DEBUG] kashgari - predict output: (240, 47)\n",
      "2020-12-24 09:40:44,971 [DEBUG] kashgari - predict output argmax: [[0 1 1 ... 1 1 1]\n",
      " [0 1 1 ... 1 1 1]\n",
      " [0 1 1 ... 1 1 1]\n",
      " ...\n",
      " [0 1 1 ... 1 1 1]\n",
      " [0 1 1 ... 1 1 1]\n",
      " [0 0 0 ... 0 0 0]]\n",
      "2020-12-24 09:40:44,974 [DEBUG] kashgari - predict seq_length: None, input: (2, 144, 42)\n"
     ]
    },
    {
     "name": "stdout",
     "output_type": "stream",
     "text": [
      "5/5 [==============================] - 1s 101ms/step\n"
     ]
    },
    {
     "name": "stderr",
     "output_type": "stream",
     "text": [
      "2020-12-24 09:40:45,651 [DEBUG] kashgari - predict output: (144, 42)\n",
      "2020-12-24 09:40:45,652 [DEBUG] kashgari - predict output argmax: [[0 1 1 ... 1 1 1]\n",
      " [0 1 1 ... 1 1 1]\n",
      " [0 1 1 ... 1 1 1]\n",
      " ...\n",
      " [0 1 1 ... 1 1 1]\n",
      " [0 1 1 ... 1 1 1]\n",
      " [0 0 0 ... 0 0 0]]\n",
      "2020-12-24 09:40:45,657 [DEBUG] kashgari - predict seq_length: None, input: (2, 161, 43)\n"
     ]
    },
    {
     "name": "stdout",
     "output_type": "stream",
     "text": [
      "6/6 [==============================] - 1s 105ms/step\n"
     ]
    },
    {
     "name": "stderr",
     "output_type": "stream",
     "text": [
      "2020-12-24 09:40:46,465 [DEBUG] kashgari - predict output: (161, 43)\n",
      "2020-12-24 09:40:46,466 [DEBUG] kashgari - predict output argmax: [[0 1 1 ... 6 6 6]\n",
      " [0 1 1 ... 6 6 6]\n",
      " [0 1 1 ... 1 1 1]\n",
      " ...\n",
      " [0 1 1 ... 1 1 1]\n",
      " [0 1 1 ... 1 1 1]\n",
      " [0 0 0 ... 0 0 0]]\n",
      "2020-12-24 09:40:46,470 [DEBUG] kashgari - predict seq_length: None, input: (2, 268, 40)\n"
     ]
    },
    {
     "name": "stdout",
     "output_type": "stream",
     "text": [
      "9/9 [==============================] - 1s 111ms/step\n"
     ]
    },
    {
     "name": "stderr",
     "output_type": "stream",
     "text": [
      "2020-12-24 09:40:47,637 [DEBUG] kashgari - predict output: (268, 40)\n",
      "2020-12-24 09:40:47,638 [DEBUG] kashgari - predict output argmax: [[0 1 1 ... 1 1 1]\n",
      " [0 1 1 ... 1 1 1]\n",
      " [0 1 1 ... 1 1 1]\n",
      " ...\n",
      " [0 1 1 ... 1 1 1]\n",
      " [0 1 1 ... 1 1 1]\n",
      " [0 0 0 ... 0 0 0]]\n",
      "2020-12-24 09:40:47,641 [DEBUG] kashgari - predict seq_length: None, input: (2, 51, 98)\n"
     ]
    },
    {
     "name": "stdout",
     "output_type": "stream",
     "text": [
      "2/2 [==============================] - 0s 103ms/step\n"
     ]
    },
    {
     "name": "stderr",
     "output_type": "stream",
     "text": [
      "2020-12-24 09:40:54,971 [DEBUG] kashgari - predict output: (51, 98)\n",
      "2020-12-24 09:40:54,972 [DEBUG] kashgari - predict output argmax: [[0 1 1 ... 1 1 1]\n",
      " [0 1 1 ... 1 1 1]\n",
      " [0 1 1 ... 1 1 1]\n",
      " ...\n",
      " [0 1 1 ... 1 1 1]\n",
      " [0 1 1 ... 1 1 1]\n",
      " [0 0 0 ... 0 0 0]]\n",
      "2020-12-24 09:40:54,976 [DEBUG] kashgari - predict seq_length: None, input: (2, 104, 133)\n"
     ]
    },
    {
     "name": "stdout",
     "output_type": "stream",
     "text": [
      "4/4 [==============================] - 1s 236ms/step\n"
     ]
    },
    {
     "name": "stderr",
     "output_type": "stream",
     "text": [
      "2020-12-24 09:41:02,787 [DEBUG] kashgari - predict output: (104, 133)\n",
      "2020-12-24 09:41:02,788 [DEBUG] kashgari - predict output argmax: [[0 1 1 ... 1 1 1]\n",
      " [0 1 1 ... 1 1 1]\n",
      " [0 1 1 ... 1 1 1]\n",
      " ...\n",
      " [0 1 1 ... 1 1 1]\n",
      " [0 1 1 ... 1 1 1]\n",
      " [0 0 0 ... 0 0 0]]\n",
      "2020-12-24 09:41:02,791 [DEBUG] kashgari - predict seq_length: None, input: (2, 159, 103)\n"
     ]
    },
    {
     "name": "stdout",
     "output_type": "stream",
     "text": [
      "5/5 [==============================] - 1s 245ms/step\n"
     ]
    },
    {
     "name": "stderr",
     "output_type": "stream",
     "text": [
      "2020-12-24 09:41:10,722 [DEBUG] kashgari - predict output: (159, 103)\n",
      "2020-12-24 09:41:10,723 [DEBUG] kashgari - predict output argmax: [[0 1 1 ... 1 1 1]\n",
      " [0 1 1 ... 1 1 1]\n",
      " [0 1 1 ... 1 1 1]\n",
      " ...\n",
      " [0 1 1 ... 1 1 1]\n",
      " [0 1 1 ... 1 1 1]\n",
      " [0 1 1 ... 1 1 1]]\n",
      "2020-12-24 09:41:10,727 [DEBUG] kashgari - predict seq_length: None, input: (2, 143, 74)\n"
     ]
    },
    {
     "name": "stdout",
     "output_type": "stream",
     "text": [
      "5/5 [==============================] - 1s 163ms/step\n"
     ]
    },
    {
     "name": "stderr",
     "output_type": "stream",
     "text": [
      "2020-12-24 09:41:18,446 [DEBUG] kashgari - predict output: (143, 74)\n",
      "2020-12-24 09:41:18,447 [DEBUG] kashgari - predict output argmax: [[0 1 1 ... 2 2 2]\n",
      " [0 1 1 ... 1 1 1]\n",
      " [0 1 1 ... 2 2 2]\n",
      " ...\n",
      " [0 1 1 ... 1 1 1]\n",
      " [0 1 1 ... 1 1 1]\n",
      " [0 0 0 ... 0 0 0]]\n",
      "2020-12-24 09:41:18,449 [DEBUG] kashgari - predict seq_length: None, input: (2, 58, 168)\n"
     ]
    },
    {
     "name": "stdout",
     "output_type": "stream",
     "text": [
      "2/2 [==============================] - 0s 213ms/step\n"
     ]
    },
    {
     "name": "stderr",
     "output_type": "stream",
     "text": [
      "2020-12-24 09:41:25,719 [DEBUG] kashgari - predict output: (58, 168)\n",
      "2020-12-24 09:41:25,720 [DEBUG] kashgari - predict output argmax: [[0 1 1 ... 1 1 1]\n",
      " [0 1 1 ... 1 1 1]\n",
      " [0 1 1 ... 1 1 1]\n",
      " ...\n",
      " [0 1 1 ... 1 1 1]\n",
      " [0 1 1 ... 1 1 1]\n",
      " [0 0 0 ... 0 0 0]]\n",
      "2020-12-24 09:41:25,723 [DEBUG] kashgari - predict seq_length: None, input: (2, 82, 50)\n"
     ]
    },
    {
     "name": "stdout",
     "output_type": "stream",
     "text": [
      "3/3 [==============================] - 0s 92ms/step\n"
     ]
    },
    {
     "name": "stderr",
     "output_type": "stream",
     "text": [
      "2020-12-24 09:41:26,190 [DEBUG] kashgari - predict output: (82, 50)\n",
      "2020-12-24 09:41:26,191 [DEBUG] kashgari - predict output argmax: [[0 1 1 ... 1 1 1]\n",
      " [0 1 1 ... 1 1 1]\n",
      " [0 1 1 ... 1 1 1]\n",
      " ...\n",
      " [0 1 1 ... 1 1 1]\n",
      " [0 1 1 ... 1 1 1]\n",
      " [0 0 0 ... 0 0 0]]\n",
      "2020-12-24 09:41:26,196 [DEBUG] kashgari - predict seq_length: None, input: (2, 125, 69)\n"
     ]
    },
    {
     "name": "stdout",
     "output_type": "stream",
     "text": [
      "4/4 [==============================] - 1s 162ms/step\n"
     ]
    },
    {
     "name": "stderr",
     "output_type": "stream",
     "text": [
      "2020-12-24 09:41:33,470 [DEBUG] kashgari - predict output: (125, 69)\n",
      "2020-12-24 09:41:33,471 [DEBUG] kashgari - predict output argmax: [[0 1 1 ... 1 1 1]\n",
      " [0 1 1 ... 1 1 1]\n",
      " [0 1 1 ... 1 1 1]\n",
      " ...\n",
      " [0 1 1 ... 1 1 1]\n",
      " [0 1 1 ... 1 1 1]\n",
      " [0 0 0 ... 0 0 0]]\n",
      "2020-12-24 09:41:33,473 [DEBUG] kashgari - predict seq_length: None, input: (2, 49, 60)\n"
     ]
    },
    {
     "name": "stdout",
     "output_type": "stream",
     "text": [
      "2/2 [==============================] - 0s 58ms/step\n"
     ]
    },
    {
     "name": "stderr",
     "output_type": "stream",
     "text": [
      "2020-12-24 09:41:40,355 [DEBUG] kashgari - predict output: (49, 60)\n",
      "2020-12-24 09:41:40,356 [DEBUG] kashgari - predict output argmax: [[0 1 1 ... 1 1 1]\n",
      " [0 1 1 ... 1 1 1]\n",
      " [0 1 1 ... 1 1 1]\n",
      " ...\n",
      " [0 1 1 ... 1 1 1]\n",
      " [0 1 1 ... 1 1 1]\n",
      " [0 0 0 ... 0 0 0]]\n",
      "2020-12-24 09:41:40,364 [DEBUG] kashgari - predict seq_length: None, input: (2, 234, 91)\n"
     ]
    },
    {
     "name": "stdout",
     "output_type": "stream",
     "text": [
      "8/8 [==============================] - 2s 228ms/step\n"
     ]
    },
    {
     "name": "stderr",
     "output_type": "stream",
     "text": [
      "2020-12-24 09:41:42,503 [DEBUG] kashgari - predict output: (234, 91)\n",
      "2020-12-24 09:41:42,504 [DEBUG] kashgari - predict output argmax: [[0 1 1 ... 1 1 1]\n",
      " [0 1 1 ... 1 1 1]\n",
      " [0 1 1 ... 1 1 1]\n",
      " ...\n",
      " [0 1 1 ... 1 1 1]\n",
      " [0 1 1 ... 1 1 1]\n",
      " [0 0 0 ... 0 0 0]]\n",
      "2020-12-24 09:41:42,507 [DEBUG] kashgari - predict seq_length: None, input: (2, 58, 132)\n"
     ]
    },
    {
     "name": "stdout",
     "output_type": "stream",
     "text": [
      "2/2 [==============================] - 0s 166ms/step\n"
     ]
    },
    {
     "name": "stderr",
     "output_type": "stream",
     "text": [
      "2020-12-24 09:41:49,842 [DEBUG] kashgari - predict output: (58, 132)\n",
      "2020-12-24 09:41:49,843 [DEBUG] kashgari - predict output argmax: [[0 1 1 ... 1 1 1]\n",
      " [0 1 1 ... 1 1 1]\n",
      " [0 1 1 ... 1 1 1]\n",
      " ...\n",
      " [0 1 1 ... 4 4 4]\n",
      " [0 1 1 ... 1 1 1]\n",
      " [0 0 0 ... 0 0 0]]\n",
      "2020-12-24 09:41:49,846 [DEBUG] kashgari - predict seq_length: None, input: (2, 123, 123)\n"
     ]
    },
    {
     "name": "stdout",
     "output_type": "stream",
     "text": [
      "4/4 [==============================] - 1s 259ms/step\n"
     ]
    },
    {
     "name": "stderr",
     "output_type": "stream",
     "text": [
      "2020-12-24 09:41:57,945 [DEBUG] kashgari - predict output: (123, 123)\n",
      "2020-12-24 09:41:57,946 [DEBUG] kashgari - predict output argmax: [[0 1 1 ... 1 1 1]\n",
      " [0 1 1 ... 1 1 1]\n",
      " [0 1 1 ... 1 1 1]\n",
      " ...\n",
      " [0 1 1 ... 1 1 1]\n",
      " [0 1 1 ... 1 1 1]\n",
      " [0 0 0 ... 0 0 0]]\n",
      "2020-12-24 09:41:57,948 [DEBUG] kashgari - predict seq_length: None, input: (2, 48, 341)\n"
     ]
    },
    {
     "name": "stdout",
     "output_type": "stream",
     "text": [
      "2/2 [==============================] - 1s 305ms/step\n"
     ]
    },
    {
     "name": "stderr",
     "output_type": "stream",
     "text": [
      "2020-12-24 09:42:05,941 [DEBUG] kashgari - predict output: (48, 341)\n",
      "2020-12-24 09:42:05,942 [DEBUG] kashgari - predict output argmax: [[0 1 1 ... 1 1 1]\n",
      " [0 1 1 ... 1 1 1]\n",
      " [0 1 1 ... 1 1 1]\n",
      " ...\n",
      " [0 1 1 ... 1 1 1]\n",
      " [0 1 1 ... 1 1 1]\n",
      " [0 0 0 ... 0 0 0]]\n",
      "2020-12-24 09:42:05,944 [DEBUG] kashgari - predict seq_length: None, input: (2, 45, 29)\n"
     ]
    },
    {
     "name": "stdout",
     "output_type": "stream",
     "text": [
      "WARNING:tensorflow:5 out of the last 19 calls to <function Model.make_predict_function.<locals>.predict_function at 0x7f78ef041b70> triggered tf.function retracing. Tracing is expensive and the excessive number of tracings is likely due to passing python objects instead of tensors. Also, tf.function has experimental_relax_shapes=True option that relaxes argument shapes that can avoid unnecessary retracing. Please refer to https://www.tensorflow.org/tutorials/customization/performance#python_or_tensor_args and https://www.tensorflow.org/api_docs/python/tf/function for more details.\n",
      "2/2 [==============================] - 0s 36ms/step\n"
     ]
    },
    {
     "name": "stderr",
     "output_type": "stream",
     "text": [
      "2020-12-24 09:42:12,694 [DEBUG] kashgari - predict output: (45, 29)\n",
      "2020-12-24 09:42:12,695 [DEBUG] kashgari - predict output argmax: [[0 1 1 ... 1 1 1]\n",
      " [0 1 1 ... 1 1 1]\n",
      " [0 1 1 ... 1 1 1]\n",
      " ...\n",
      " [0 1 1 ... 1 1 1]\n",
      " [0 1 1 ... 1 1 1]\n",
      " [0 0 0 ... 0 0 0]]\n",
      "2020-12-24 09:42:12,697 [DEBUG] kashgari - predict seq_length: None, input: (2, 61, 60)\n"
     ]
    },
    {
     "name": "stdout",
     "output_type": "stream",
     "text": [
      "2/2 [==============================] - 0s 91ms/step\n"
     ]
    },
    {
     "name": "stderr",
     "output_type": "stream",
     "text": [
      "2020-12-24 09:42:13,123 [DEBUG] kashgari - predict output: (61, 60)\n",
      "2020-12-24 09:42:13,124 [DEBUG] kashgari - predict output argmax: [[0 1 1 ... 1 1 1]\n",
      " [0 1 1 ... 1 1 1]\n",
      " [0 1 1 ... 1 1 1]\n",
      " ...\n",
      " [0 1 1 ... 1 1 1]\n",
      " [0 1 1 ... 1 1 1]\n",
      " [0 0 0 ... 0 0 0]]\n",
      "2020-12-24 09:42:13,127 [DEBUG] kashgari - predict seq_length: None, input: (2, 43, 159)\n"
     ]
    },
    {
     "name": "stdout",
     "output_type": "stream",
     "text": [
      "2/2 [==============================] - 0s 106ms/step\n"
     ]
    },
    {
     "name": "stderr",
     "output_type": "stream",
     "text": [
      "2020-12-24 09:42:20,249 [DEBUG] kashgari - predict output: (43, 159)\n",
      "2020-12-24 09:42:20,250 [DEBUG] kashgari - predict output argmax: [[0 1 1 ... 1 1 1]\n",
      " [0 1 1 ... 1 1 1]\n",
      " [0 1 1 ... 1 1 1]\n",
      " ...\n",
      " [0 1 1 ... 2 2 2]\n",
      " [0 1 1 ... 1 1 1]\n",
      " [0 0 0 ... 0 0 0]]\n",
      "2020-12-24 09:42:20,252 [DEBUG] kashgari - predict seq_length: None, input: (2, 46, 51)\n"
     ]
    },
    {
     "name": "stdout",
     "output_type": "stream",
     "text": [
      "2/2 [==============================] - 0s 50ms/step\n"
     ]
    },
    {
     "name": "stderr",
     "output_type": "stream",
     "text": [
      "2020-12-24 09:42:20,543 [DEBUG] kashgari - predict output: (46, 51)\n",
      "2020-12-24 09:42:20,544 [DEBUG] kashgari - predict output argmax: [[0 1 1 ... 1 1 1]\n",
      " [0 1 1 ... 1 1 1]\n",
      " [0 1 1 ... 1 1 1]\n",
      " ...\n",
      " [0 1 1 ... 1 1 1]\n",
      " [0 1 1 ... 1 1 1]\n",
      " [0 0 0 ... 0 0 0]]\n",
      "2020-12-24 09:42:20,546 [DEBUG] kashgari - predict seq_length: None, input: (2, 52, 89)\n"
     ]
    },
    {
     "name": "stdout",
     "output_type": "stream",
     "text": [
      "2/2 [==============================] - 0s 98ms/step\n"
     ]
    },
    {
     "name": "stderr",
     "output_type": "stream",
     "text": [
      "2020-12-24 09:42:27,322 [DEBUG] kashgari - predict output: (52, 89)\n",
      "2020-12-24 09:42:27,323 [DEBUG] kashgari - predict output argmax: [[0 1 1 ... 1 1 1]\n",
      " [0 1 1 ... 1 1 1]\n",
      " [0 1 1 ... 1 1 1]\n",
      " ...\n",
      " [0 1 1 ... 1 1 1]\n",
      " [0 1 1 ... 1 1 1]\n",
      " [0 0 0 ... 0 0 0]]\n",
      "2020-12-24 09:42:27,325 [DEBUG] kashgari - predict seq_length: None, input: (2, 134, 81)\n"
     ]
    },
    {
     "name": "stdout",
     "output_type": "stream",
     "text": [
      "5/5 [==============================] - 1s 171ms/step\n"
     ]
    },
    {
     "name": "stderr",
     "output_type": "stream",
     "text": [
      "2020-12-24 09:42:28,459 [DEBUG] kashgari - predict output: (134, 81)\n",
      "2020-12-24 09:42:28,460 [DEBUG] kashgari - predict output argmax: [[0 1 1 ... 1 1 1]\n",
      " [0 1 1 ... 1 1 1]\n",
      " [0 1 1 ... 1 1 1]\n",
      " ...\n",
      " [0 1 1 ... 1 1 1]\n",
      " [0 1 1 ... 1 1 1]\n",
      " [0 0 0 ... 0 0 0]]\n",
      "2020-12-24 09:42:28,461 [DEBUG] kashgari - predict seq_length: None, input: (2, 67, 48)\n"
     ]
    },
    {
     "name": "stdout",
     "output_type": "stream",
     "text": [
      "3/3 [==============================] - 0s 73ms/step\n"
     ]
    },
    {
     "name": "stderr",
     "output_type": "stream",
     "text": [
      "2020-12-24 09:42:28,864 [DEBUG] kashgari - predict output: (67, 48)\n",
      "2020-12-24 09:42:28,865 [DEBUG] kashgari - predict output argmax: [[0 1 1 ... 1 1 1]\n",
      " [0 1 1 ... 1 1 1]\n",
      " [0 1 1 ... 1 1 1]\n",
      " ...\n",
      " [0 1 1 ... 1 1 1]\n",
      " [0 1 1 ... 1 1 1]\n",
      " [0 0 0 ... 0 0 0]]\n",
      "2020-12-24 09:42:28,868 [DEBUG] kashgari - predict seq_length: None, input: (2, 50, 114)\n"
     ]
    },
    {
     "name": "stdout",
     "output_type": "stream",
     "text": [
      "2/2 [==============================] - 0s 111ms/step\n"
     ]
    },
    {
     "name": "stderr",
     "output_type": "stream",
     "text": [
      "2020-12-24 09:42:35,783 [DEBUG] kashgari - predict output: (50, 114)\n",
      "2020-12-24 09:42:35,784 [DEBUG] kashgari - predict output argmax: [[0 1 1 ... 1 1 1]\n",
      " [0 1 1 ... 1 1 1]\n",
      " [0 1 1 ... 1 1 1]\n",
      " ...\n",
      " [0 1 1 ... 1 1 1]\n",
      " [0 1 1 ... 2 2 2]\n",
      " [0 0 0 ... 0 0 0]]\n",
      "2020-12-24 09:42:35,787 [DEBUG] kashgari - predict seq_length: None, input: (2, 103, 57)\n"
     ]
    },
    {
     "name": "stdout",
     "output_type": "stream",
     "text": [
      "4/4 [==============================] - 0s 108ms/step\n"
     ]
    },
    {
     "name": "stderr",
     "output_type": "stream",
     "text": [
      "2020-12-24 09:42:36,427 [DEBUG] kashgari - predict output: (103, 57)\n",
      "2020-12-24 09:42:36,428 [DEBUG] kashgari - predict output argmax: [[0 1 1 ... 1 1 1]\n",
      " [0 1 1 ... 1 1 1]\n",
      " [0 1 1 ... 1 1 1]\n",
      " ...\n",
      " [0 1 1 ... 1 1 1]\n",
      " [0 1 1 ... 1 1 1]\n",
      " [0 0 0 ... 0 0 0]]\n",
      "2020-12-24 09:42:36,431 [DEBUG] kashgari - predict seq_length: None, input: (2, 62, 154)\n"
     ]
    },
    {
     "name": "stdout",
     "output_type": "stream",
     "text": [
      "2/2 [==============================] - 0s 216ms/step\n"
     ]
    },
    {
     "name": "stderr",
     "output_type": "stream",
     "text": [
      "2020-12-24 09:42:43,653 [DEBUG] kashgari - predict output: (62, 154)\n",
      "2020-12-24 09:42:43,654 [DEBUG] kashgari - predict output argmax: [[0 1 1 ... 1 1 1]\n",
      " [0 1 1 ... 1 1 1]\n",
      " [0 1 1 ... 1 1 1]\n",
      " ...\n",
      " [0 1 1 ... 1 1 1]\n",
      " [0 1 1 ... 1 1 0]\n",
      " [0 0 0 ... 0 0 0]]\n",
      "2020-12-24 09:42:43,656 [DEBUG] kashgari - predict seq_length: None, input: (2, 41, 44)\n"
     ]
    },
    {
     "name": "stdout",
     "output_type": "stream",
     "text": [
      "2/2 [==============================] - 0s 39ms/step\n"
     ]
    },
    {
     "name": "stderr",
     "output_type": "stream",
     "text": [
      "2020-12-24 09:42:50,190 [DEBUG] kashgari - predict output: (41, 44)\n",
      "2020-12-24 09:42:50,191 [DEBUG] kashgari - predict output argmax: [[0 1 1 ... 1 1 1]\n",
      " [0 1 1 ... 1 1 1]\n",
      " [0 1 1 ... 1 1 1]\n",
      " ...\n",
      " [0 1 1 ... 1 1 1]\n",
      " [0 1 1 ... 1 1 1]\n",
      " [0 0 0 ... 0 0 0]]\n",
      "2020-12-24 09:42:50,194 [DEBUG] kashgari - predict seq_length: None, input: (2, 92, 74)\n"
     ]
    },
    {
     "name": "stdout",
     "output_type": "stream",
     "text": [
      "3/3 [==============================] - 0s 150ms/step\n"
     ]
    },
    {
     "name": "stderr",
     "output_type": "stream",
     "text": [
      "2020-12-24 09:42:50,915 [DEBUG] kashgari - predict output: (92, 74)\n",
      "2020-12-24 09:42:50,916 [DEBUG] kashgari - predict output argmax: [[0 1 1 ... 1 1 1]\n",
      " [0 1 1 ... 1 1 1]\n",
      " [0 1 1 ... 1 1 1]\n",
      " ...\n",
      " [0 1 1 ... 1 1 1]\n",
      " [0 1 1 ... 1 1 1]\n",
      " [0 0 0 ... 0 0 0]]\n",
      "2020-12-24 09:42:50,918 [DEBUG] kashgari - predict seq_length: None, input: (2, 58, 57)\n"
     ]
    },
    {
     "name": "stdout",
     "output_type": "stream",
     "text": [
      "2/2 [==============================] - 0s 80ms/step\n"
     ]
    },
    {
     "name": "stderr",
     "output_type": "stream",
     "text": [
      "2020-12-24 09:42:51,307 [DEBUG] kashgari - predict output: (58, 57)\n",
      "2020-12-24 09:42:51,308 [DEBUG] kashgari - predict output argmax: [[0 1 1 ... 1 1 1]\n",
      " [0 1 1 ... 1 1 1]\n",
      " [0 1 1 ... 1 1 1]\n",
      " ...\n",
      " [0 1 1 ... 1 1 1]\n",
      " [0 1 1 ... 1 1 1]\n",
      " [0 0 0 ... 0 0 0]]\n",
      "2020-12-24 09:42:51,313 [DEBUG] kashgari - predict seq_length: None, input: (2, 128, 72)\n"
     ]
    },
    {
     "name": "stdout",
     "output_type": "stream",
     "text": [
      "4/4 [==============================] - 1s 146ms/step\n"
     ]
    },
    {
     "name": "stderr",
     "output_type": "stream",
     "text": [
      "2020-12-24 09:43:00,182 [DEBUG] kashgari - predict output: (128, 72)\n",
      "2020-12-24 09:43:00,183 [DEBUG] kashgari - predict output argmax: [[0 1 1 ... 1 1 1]\n",
      " [0 1 1 ... 1 1 1]\n",
      " [0 1 1 ... 1 1 1]\n",
      " ...\n",
      " [0 1 1 ... 1 1 1]\n",
      " [0 1 1 ... 1 1 1]\n",
      " [0 0 0 ... 0 0 0]]\n",
      "2020-12-24 09:43:00,186 [DEBUG] kashgari - predict seq_length: None, input: (2, 100, 77)\n"
     ]
    },
    {
     "name": "stdout",
     "output_type": "stream",
     "text": [
      "4/4 [==============================] - 1s 142ms/step\n"
     ]
    },
    {
     "name": "stderr",
     "output_type": "stream",
     "text": [
      "2020-12-24 09:43:01,023 [DEBUG] kashgari - predict output: (100, 77)\n",
      "2020-12-24 09:43:01,024 [DEBUG] kashgari - predict output argmax: [[0 1 1 ... 1 1 1]\n",
      " [0 1 1 ... 1 1 1]\n",
      " [0 1 1 ... 1 1 1]\n",
      " ...\n",
      " [0 1 1 ... 1 1 1]\n",
      " [0 1 1 ... 1 1 1]\n",
      " [0 0 0 ... 0 0 0]]\n",
      "2020-12-24 09:43:01,027 [DEBUG] kashgari - predict seq_length: None, input: (2, 59, 61)\n"
     ]
    },
    {
     "name": "stdout",
     "output_type": "stream",
     "text": [
      "2/2 [==============================] - 0s 89ms/step\n"
     ]
    },
    {
     "name": "stderr",
     "output_type": "stream",
     "text": [
      "2020-12-24 09:43:01,426 [DEBUG] kashgari - predict output: (59, 61)\n",
      "2020-12-24 09:43:01,427 [DEBUG] kashgari - predict output argmax: [[0 1 1 ... 1 1 1]\n",
      " [0 1 1 ... 1 1 1]\n",
      " [0 1 1 ... 1 1 1]\n",
      " ...\n",
      " [0 1 1 ... 1 1 1]\n",
      " [0 1 1 ... 1 1 1]\n",
      " [0 0 0 ... 0 0 0]]\n",
      "2020-12-24 09:43:01,431 [DEBUG] kashgari - predict seq_length: None, input: (2, 111, 77)\n"
     ]
    },
    {
     "name": "stdout",
     "output_type": "stream",
     "text": [
      "4/4 [==============================] - 1s 152ms/step\n"
     ]
    },
    {
     "name": "stderr",
     "output_type": "stream",
     "text": [
      "2020-12-24 09:43:02,307 [DEBUG] kashgari - predict output: (111, 77)\n",
      "2020-12-24 09:43:02,307 [DEBUG] kashgari - predict output argmax: [[0 1 1 ... 1 1 1]\n",
      " [0 1 1 ... 1 1 1]\n",
      " [0 1 1 ... 1 1 1]\n",
      " ...\n",
      " [0 1 1 ... 1 1 1]\n",
      " [0 1 1 ... 1 1 1]\n",
      " [0 0 0 ... 0 0 0]]\n",
      "2020-12-24 09:43:02,311 [DEBUG] kashgari - predict seq_length: None, input: (2, 128, 96)\n"
     ]
    },
    {
     "name": "stdout",
     "output_type": "stream",
     "text": [
      "4/4 [==============================] - 1s 285ms/step\n"
     ]
    },
    {
     "name": "stderr",
     "output_type": "stream",
     "text": [
      "2020-12-24 09:43:12,395 [DEBUG] kashgari - predict output: (128, 96)\n",
      "2020-12-24 09:43:12,398 [DEBUG] kashgari - predict output argmax: [[0 1 1 ... 1 1 1]\n",
      " [0 1 1 ... 1 1 1]\n",
      " [0 1 1 ... 1 1 1]\n",
      " ...\n",
      " [0 1 1 ... 1 1 1]\n",
      " [0 1 1 ... 1 1 1]\n",
      " [0 0 0 ... 0 0 0]]\n",
      "2020-12-24 09:43:12,402 [DEBUG] kashgari - predict seq_length: None, input: (2, 149, 78)\n"
     ]
    },
    {
     "name": "stdout",
     "output_type": "stream",
     "text": [
      "5/5 [==============================] - 2s 397ms/step\n"
     ]
    },
    {
     "name": "stderr",
     "output_type": "stream",
     "text": [
      "2020-12-24 09:43:15,071 [DEBUG] kashgari - predict output: (149, 78)\n",
      "2020-12-24 09:43:15,075 [DEBUG] kashgari - predict output argmax: [[0 1 1 ... 1 1 1]\n",
      " [0 1 1 ... 1 1 1]\n",
      " [0 1 1 ... 1 1 1]\n",
      " ...\n",
      " [0 1 1 ... 1 1 1]\n",
      " [0 1 1 ... 1 1 1]\n",
      " [0 0 0 ... 0 0 0]]\n",
      "2020-12-24 09:43:15,083 [DEBUG] kashgari - predict seq_length: None, input: (2, 40, 87)\n"
     ]
    },
    {
     "name": "stdout",
     "output_type": "stream",
     "text": [
      "2/2 [==============================] - 0s 50ms/step\n"
     ]
    },
    {
     "name": "stderr",
     "output_type": "stream",
     "text": [
      "2020-12-24 09:43:26,599 [DEBUG] kashgari - predict output: (40, 87)\n",
      "2020-12-24 09:43:26,601 [DEBUG] kashgari - predict output argmax: [[0 1 1 ... 1 1 1]\n",
      " [0 1 1 ... 1 1 1]\n",
      " [0 1 1 ... 1 1 1]\n",
      " ...\n",
      " [0 1 1 ... 2 2 2]\n",
      " [0 1 1 ... 1 1 1]\n",
      " [0 0 0 ... 0 0 0]]\n",
      "2020-12-24 09:43:26,605 [DEBUG] kashgari - predict seq_length: None, input: (2, 129, 84)\n"
     ]
    },
    {
     "name": "stdout",
     "output_type": "stream",
     "text": [
      "5/5 [==============================] - 1s 166ms/step\n"
     ]
    },
    {
     "name": "stderr",
     "output_type": "stream",
     "text": [
      "2020-12-24 09:43:27,713 [DEBUG] kashgari - predict output: (129, 84)\n",
      "2020-12-24 09:43:27,714 [DEBUG] kashgari - predict output argmax: [[0 1 1 ... 1 1 1]\n",
      " [0 1 1 ... 1 1 1]\n",
      " [0 1 1 ... 1 1 1]\n",
      " ...\n",
      " [0 1 1 ... 1 1 1]\n",
      " [0 1 1 ... 1 1 1]\n",
      " [0 0 0 ... 0 0 0]]\n",
      "2020-12-24 09:43:27,718 [DEBUG] kashgari - predict seq_length: None, input: (2, 98, 77)\n"
     ]
    },
    {
     "name": "stdout",
     "output_type": "stream",
     "text": [
      "4/4 [==============================] - 1s 136ms/step\n"
     ]
    },
    {
     "name": "stderr",
     "output_type": "stream",
     "text": [
      "2020-12-24 09:43:28,544 [DEBUG] kashgari - predict output: (98, 77)\n",
      "2020-12-24 09:43:28,545 [DEBUG] kashgari - predict output argmax: [[0 1 1 ... 2 2 2]\n",
      " [0 1 1 ... 2 2 2]\n",
      " [0 1 1 ... 2 2 2]\n",
      " ...\n",
      " [0 1 1 ... 1 1 1]\n",
      " [0 1 1 ... 1 1 1]\n",
      " [0 0 0 ... 0 0 0]]\n",
      "2020-12-24 09:43:28,548 [DEBUG] kashgari - predict seq_length: None, input: (2, 97, 60)\n"
     ]
    },
    {
     "name": "stdout",
     "output_type": "stream",
     "text": [
      "4/4 [==============================] - 0s 112ms/step\n"
     ]
    },
    {
     "name": "stderr",
     "output_type": "stream",
     "text": [
      "2020-12-24 09:43:29,220 [DEBUG] kashgari - predict output: (97, 60)\n",
      "2020-12-24 09:43:29,220 [DEBUG] kashgari - predict output argmax: [[0 1 1 ... 1 1 1]\n",
      " [0 1 1 ... 1 1 1]\n",
      " [0 1 1 ... 1 1 1]\n",
      " ...\n",
      " [0 1 1 ... 1 1 1]\n",
      " [0 1 1 ... 1 1 1]\n",
      " [0 0 0 ... 0 0 0]]\n",
      "2020-12-24 09:43:29,224 [DEBUG] kashgari - predict seq_length: None, input: (2, 67, 241)\n"
     ]
    },
    {
     "name": "stdout",
     "output_type": "stream",
     "text": [
      "3/3 [==============================] - 1s 301ms/step\n"
     ]
    },
    {
     "name": "stderr",
     "output_type": "stream",
     "text": [
      "2020-12-24 09:43:37,557 [DEBUG] kashgari - predict output: (67, 241)\n",
      "2020-12-24 09:43:37,558 [DEBUG] kashgari - predict output argmax: [[0 1 1 ... 1 1 1]\n",
      " [0 1 1 ... 1 1 1]\n",
      " [0 1 1 ... 1 1 1]\n",
      " ...\n",
      " [0 1 1 ... 1 1 1]\n",
      " [0 1 1 ... 1 1 1]\n",
      " [0 0 0 ... 0 0 0]]\n",
      "2020-12-24 09:43:37,560 [DEBUG] kashgari - predict seq_length: None, input: (2, 52, 97)\n"
     ]
    },
    {
     "name": "stdout",
     "output_type": "stream",
     "text": [
      "2/2 [==============================] - 0s 107ms/step\n"
     ]
    },
    {
     "name": "stderr",
     "output_type": "stream",
     "text": [
      "2020-12-24 09:43:44,458 [DEBUG] kashgari - predict output: (52, 97)\n",
      "2020-12-24 09:43:44,459 [DEBUG] kashgari - predict output argmax: [[0 1 1 ... 1 1 1]\n",
      " [0 1 1 ... 1 1 1]\n",
      " [0 1 1 ... 1 1 1]\n",
      " ...\n",
      " [0 1 1 ... 1 1 1]\n",
      " [0 1 1 ... 1 1 1]\n",
      " [0 0 0 ... 0 0 0]]\n",
      "2020-12-24 09:43:44,461 [DEBUG] kashgari - predict seq_length: None, input: (2, 120, 73)\n"
     ]
    },
    {
     "name": "stdout",
     "output_type": "stream",
     "text": [
      "4/4 [==============================] - 1s 161ms/step\n"
     ]
    },
    {
     "name": "stderr",
     "output_type": "stream",
     "text": [
      "2020-12-24 09:43:45,376 [DEBUG] kashgari - predict output: (120, 73)\n",
      "2020-12-24 09:43:45,377 [DEBUG] kashgari - predict output argmax: [[0 1 1 ... 1 1 1]\n",
      " [0 1 1 ... 1 1 1]\n",
      " [0 1 1 ... 1 1 1]\n",
      " ...\n",
      " [0 1 1 ... 1 1 1]\n",
      " [0 1 1 ... 1 1 1]\n",
      " [0 0 0 ... 0 0 0]]\n",
      "2020-12-24 09:43:45,386 [DEBUG] kashgari - predict seq_length: None, input: (2, 346, 151)\n"
     ]
    },
    {
     "name": "stdout",
     "output_type": "stream",
     "text": [
      "11/11 [==============================] - 4s 405ms/step\n"
     ]
    },
    {
     "name": "stderr",
     "output_type": "stream",
     "text": [
      "2020-12-24 09:43:50,349 [DEBUG] kashgari - predict output: (346, 151)\n",
      "2020-12-24 09:43:50,350 [DEBUG] kashgari - predict output argmax: [[0 1 1 ... 1 1 1]\n",
      " [0 1 1 ... 1 1 1]\n",
      " [0 1 1 ... 1 1 1]\n",
      " ...\n",
      " [0 1 1 ... 6 6 6]\n",
      " [0 1 1 ... 1 1 1]\n",
      " [0 0 0 ... 0 0 0]]\n",
      "2020-12-24 09:43:50,353 [DEBUG] kashgari - predict seq_length: None, input: (2, 98, 97)\n"
     ]
    },
    {
     "name": "stdout",
     "output_type": "stream",
     "text": [
      "4/4 [==============================] - 1s 167ms/step\n"
     ]
    },
    {
     "name": "stderr",
     "output_type": "stream",
     "text": [
      "2020-12-24 09:43:51,343 [DEBUG] kashgari - predict output: (98, 97)\n",
      "2020-12-24 09:43:51,343 [DEBUG] kashgari - predict output argmax: [[0 1 1 ... 1 1 1]\n",
      " [0 1 1 ... 1 1 1]\n",
      " [0 1 1 ... 1 1 1]\n",
      " ...\n",
      " [0 1 0 ... 1 1 1]\n",
      " [0 1 1 ... 1 1 1]\n",
      " [0 0 0 ... 0 0 0]]\n",
      "2020-12-24 09:43:51,347 [DEBUG] kashgari - predict seq_length: None, input: (2, 185, 121)\n"
     ]
    },
    {
     "name": "stdout",
     "output_type": "stream",
     "text": [
      "6/6 [==============================] - 2s 292ms/step\n"
     ]
    },
    {
     "name": "stderr",
     "output_type": "stream",
     "text": [
      "2020-12-24 09:43:53,503 [DEBUG] kashgari - predict output: (185, 121)\n",
      "2020-12-24 09:43:53,503 [DEBUG] kashgari - predict output argmax: [[0 1 1 ... 1 1 1]\n",
      " [0 1 1 ... 1 1 1]\n",
      " [0 1 1 ... 1 1 1]\n",
      " ...\n",
      " [0 1 1 ... 1 1 1]\n",
      " [0 1 1 ... 1 1 1]\n",
      " [0 0 0 ... 0 0 0]]\n",
      "2020-12-24 09:43:53,507 [DEBUG] kashgari - predict seq_length: None, input: (2, 112, 109)\n"
     ]
    },
    {
     "name": "stdout",
     "output_type": "stream",
     "text": [
      "4/4 [==============================] - 1s 213ms/step\n"
     ]
    },
    {
     "name": "stderr",
     "output_type": "stream",
     "text": [
      "2020-12-24 09:44:01,039 [DEBUG] kashgari - predict output: (112, 109)\n",
      "2020-12-24 09:44:01,040 [DEBUG] kashgari - predict output argmax: [[0 1 1 ... 1 1 1]\n",
      " [0 1 1 ... 1 1 1]\n",
      " [0 1 1 ... 1 1 1]\n",
      " ...\n",
      " [0 1 1 ... 1 1 1]\n",
      " [0 1 1 ... 1 1 1]\n",
      " [0 0 0 ... 0 0 0]]\n",
      "2020-12-24 09:44:01,043 [DEBUG] kashgari - predict seq_length: None, input: (2, 96, 193)\n"
     ]
    },
    {
     "name": "stdout",
     "output_type": "stream",
     "text": [
      "3/3 [==============================] - 1s 359ms/step\n"
     ]
    },
    {
     "name": "stderr",
     "output_type": "stream",
     "text": [
      "2020-12-24 09:44:06,895 [DEBUG] kashgari - predict output: (96, 193)\n",
      "2020-12-24 09:44:06,896 [DEBUG] kashgari - predict output argmax: [[0 1 1 ... 1 1 1]\n",
      " [0 1 1 ... 1 1 1]\n",
      " [0 1 1 ... 1 1 1]\n",
      " ...\n",
      " [0 1 1 ... 2 2 2]\n",
      " [0 1 1 ... 1 1 1]\n",
      " [0 0 0 ... 0 0 0]]\n",
      "2020-12-24 09:44:06,899 [DEBUG] kashgari - predict seq_length: None, input: (2, 92, 272)\n"
     ]
    },
    {
     "name": "stdout",
     "output_type": "stream",
     "text": [
      "3/3 [==============================] - 2s 513ms/step\n"
     ]
    },
    {
     "name": "stderr",
     "output_type": "stream",
     "text": [
      "2020-12-24 09:44:15,589 [DEBUG] kashgari - predict output: (92, 272)\n",
      "2020-12-24 09:44:15,590 [DEBUG] kashgari - predict output argmax: [[0 1 1 ... 1 1 1]\n",
      " [0 1 1 ... 1 1 1]\n",
      " [0 1 1 ... 1 1 1]\n",
      " ...\n",
      " [0 1 1 ... 1 1 1]\n",
      " [0 1 1 ... 1 1 1]\n",
      " [0 0 0 ... 0 0 0]]\n",
      "2020-12-24 09:44:15,594 [DEBUG] kashgari - predict seq_length: None, input: (2, 158, 114)\n"
     ]
    },
    {
     "name": "stdout",
     "output_type": "stream",
     "text": [
      "5/5 [==============================] - 1s 271ms/step\n"
     ]
    },
    {
     "name": "stderr",
     "output_type": "stream",
     "text": [
      "2020-12-24 09:44:17,331 [DEBUG] kashgari - predict output: (158, 114)\n",
      "2020-12-24 09:44:17,332 [DEBUG] kashgari - predict output argmax: [[0 1 1 ... 1 1 1]\n",
      " [0 1 1 ... 1 1 1]\n",
      " [0 1 1 ... 1 1 1]\n",
      " ...\n",
      " [0 1 1 ... 1 1 1]\n",
      " [0 1 1 ... 1 1 1]\n",
      " [0 0 0 ... 0 0 0]]\n",
      "2020-12-24 09:44:17,336 [DEBUG] kashgari - predict seq_length: None, input: (2, 173, 146)\n"
     ]
    },
    {
     "name": "stdout",
     "output_type": "stream",
     "text": [
      "6/6 [==============================] - 2s 329ms/step\n"
     ]
    },
    {
     "name": "stderr",
     "output_type": "stream",
     "text": [
      "2020-12-24 09:44:26,579 [DEBUG] kashgari - predict output: (173, 146)\n",
      "2020-12-24 09:44:26,580 [DEBUG] kashgari - predict output argmax: [[0 1 1 ... 1 1 1]\n",
      " [0 1 1 ... 1 1 1]\n",
      " [0 1 1 ... 1 1 1]\n",
      " ...\n",
      " [0 1 1 ... 1 1 1]\n",
      " [0 1 1 ... 1 1 1]\n",
      " [0 0 0 ... 0 0 0]]\n",
      "2020-12-24 09:44:26,583 [DEBUG] kashgari - predict seq_length: None, input: (2, 92, 120)\n"
     ]
    },
    {
     "name": "stdout",
     "output_type": "stream",
     "text": [
      "3/3 [==============================] - 1s 226ms/step\n"
     ]
    },
    {
     "name": "stderr",
     "output_type": "stream",
     "text": [
      "2020-12-24 09:44:33,991 [DEBUG] kashgari - predict output: (92, 120)\n",
      "2020-12-24 09:44:33,993 [DEBUG] kashgari - predict output argmax: [[0 1 1 ... 1 1 1]\n",
      " [0 1 1 ... 1 1 1]\n",
      " [0 1 1 ... 1 1 1]\n",
      " ...\n",
      " [0 1 1 ... 1 1 1]\n",
      " [0 1 1 ... 1 1 1]\n",
      " [0 0 0 ... 0 0 0]]\n"
     ]
    }
   ],
   "source": [
    "df = predicting_txt_to_dataframe('/home/Danny/ai-cup-2020/datasets/stage5/test.txt')\n",
    "output_str = \"article_id\\tstart_position\\tend_position\\tentity_text\\tentity_type\\n\"\n",
    "\n",
    "for article_id, text in zip(df['article_id'], df['text']):\n",
    "    x_list = [word for word in text]\n",
    "    y_list = predict_NER(text)\n",
    "    output_str += output_NER(article_id, text, y_list)"
   ]
  },
  {
   "cell_type": "code",
   "execution_count": 24,
   "metadata": {},
   "outputs": [],
   "source": [
    "# print(output_str)"
   ]
  },
  {
   "cell_type": "code",
   "execution_count": 25,
   "metadata": {},
   "outputs": [],
   "source": [
    "output_path = 'output/{}_epoch_{}_batch_{}.tsv'.format(model_name, epochs, batch_size)\n",
    "with open(output_path, 'w', encoding='utf-8') as f:\n",
    "    f.write(output_str)"
   ]
  },
  {
   "cell_type": "code",
   "execution_count": 26,
   "metadata": {},
   "outputs": [
    {
     "data": {
      "text/html": [
       "<div>\n",
       "<style scoped>\n",
       "    .dataframe tbody tr th:only-of-type {\n",
       "        vertical-align: middle;\n",
       "    }\n",
       "\n",
       "    .dataframe tbody tr th {\n",
       "        vertical-align: top;\n",
       "    }\n",
       "\n",
       "    .dataframe thead th {\n",
       "        text-align: right;\n",
       "    }\n",
       "</style>\n",
       "<table border=\"1\" class=\"dataframe\">\n",
       "  <thead>\n",
       "    <tr style=\"text-align: right;\">\n",
       "      <th></th>\n",
       "      <th>article_id</th>\n",
       "      <th>start_position</th>\n",
       "      <th>end_position</th>\n",
       "      <th>entity_text</th>\n",
       "      <th>entity_type</th>\n",
       "    </tr>\n",
       "  </thead>\n",
       "  <tbody>\n",
       "    <tr>\n",
       "      <th>0</th>\n",
       "      <td>0</td>\n",
       "      <td>198</td>\n",
       "      <td>200</td>\n",
       "      <td>新樓</td>\n",
       "      <td>location</td>\n",
       "    </tr>\n",
       "    <tr>\n",
       "      <th>1</th>\n",
       "      <td>0</td>\n",
       "      <td>227</td>\n",
       "      <td>229</td>\n",
       "      <td>麻豆</td>\n",
       "      <td>location</td>\n",
       "    </tr>\n",
       "    <tr>\n",
       "      <th>2</th>\n",
       "      <td>0</td>\n",
       "      <td>237</td>\n",
       "      <td>239</td>\n",
       "      <td>麻豆</td>\n",
       "      <td>location</td>\n",
       "    </tr>\n",
       "    <tr>\n",
       "      <th>3</th>\n",
       "      <td>1</td>\n",
       "      <td>31</td>\n",
       "      <td>33</td>\n",
       "      <td>今天</td>\n",
       "      <td>time</td>\n",
       "    </tr>\n",
       "    <tr>\n",
       "      <th>4</th>\n",
       "      <td>1</td>\n",
       "      <td>40</td>\n",
       "      <td>42</td>\n",
       "      <td>昨天</td>\n",
       "      <td>time</td>\n",
       "    </tr>\n",
       "    <tr>\n",
       "      <th>...</th>\n",
       "      <td>...</td>\n",
       "      <td>...</td>\n",
       "      <td>...</td>\n",
       "      <td>...</td>\n",
       "      <td>...</td>\n",
       "    </tr>\n",
       "    <tr>\n",
       "      <th>2375</th>\n",
       "      <td>157</td>\n",
       "      <td>3822</td>\n",
       "      <td>3825</td>\n",
       "      <td>禮拜五</td>\n",
       "      <td>time</td>\n",
       "    </tr>\n",
       "    <tr>\n",
       "      <th>2376</th>\n",
       "      <td>158</td>\n",
       "      <td>193</td>\n",
       "      <td>197</td>\n",
       "      <td>四個禮拜</td>\n",
       "      <td>time</td>\n",
       "    </tr>\n",
       "    <tr>\n",
       "      <th>2377</th>\n",
       "      <td>158</td>\n",
       "      <td>1082</td>\n",
       "      <td>1086</td>\n",
       "      <td>第三個月</td>\n",
       "      <td>time</td>\n",
       "    </tr>\n",
       "    <tr>\n",
       "      <th>2378</th>\n",
       "      <td>158</td>\n",
       "      <td>1143</td>\n",
       "      <td>1145</td>\n",
       "      <td>今天</td>\n",
       "      <td>time</td>\n",
       "    </tr>\n",
       "    <tr>\n",
       "      <th>2379</th>\n",
       "      <td>158</td>\n",
       "      <td>1199</td>\n",
       "      <td>1201</td>\n",
       "      <td>小安</td>\n",
       "      <td>name</td>\n",
       "    </tr>\n",
       "  </tbody>\n",
       "</table>\n",
       "<p>2380 rows × 5 columns</p>\n",
       "</div>"
      ],
      "text/plain": [
       "      article_id  start_position  end_position entity_text entity_type\n",
       "0              0             198           200          新樓    location\n",
       "1              0             227           229          麻豆    location\n",
       "2              0             237           239          麻豆    location\n",
       "3              1              31            33          今天        time\n",
       "4              1              40            42          昨天        time\n",
       "...          ...             ...           ...         ...         ...\n",
       "2375         157            3822          3825         禮拜五        time\n",
       "2376         158             193           197        四個禮拜        time\n",
       "2377         158            1082          1086        第三個月        time\n",
       "2378         158            1143          1145          今天        time\n",
       "2379         158            1199          1201          小安        name\n",
       "\n",
       "[2380 rows x 5 columns]"
      ]
     },
     "execution_count": 26,
     "metadata": {},
     "output_type": "execute_result"
    }
   ],
   "source": [
    "df = pd.read_csv(output_path, sep='\\t')\n",
    "df"
   ]
  },
  {
   "cell_type": "code",
   "execution_count": null,
   "metadata": {},
   "outputs": [],
   "source": []
  },
  {
   "cell_type": "code",
   "execution_count": null,
   "metadata": {},
   "outputs": [],
   "source": []
  }
 ],
 "metadata": {
  "kernelspec": {
   "display_name": "Python 3",
   "language": "python",
   "name": "python3"
  },
  "language_info": {
   "codemirror_mode": {
    "name": "ipython",
    "version": 3
   },
   "file_extension": ".py",
   "mimetype": "text/x-python",
   "name": "python",
   "nbconvert_exporter": "python",
   "pygments_lexer": "ipython3",
   "version": "3.6.10"
  }
 },
 "nbformat": 4,
 "nbformat_minor": 4
}
