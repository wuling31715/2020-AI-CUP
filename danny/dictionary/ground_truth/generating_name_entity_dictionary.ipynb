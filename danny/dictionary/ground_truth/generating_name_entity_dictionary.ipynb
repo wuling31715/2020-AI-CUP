{
 "cells": [
  {
   "cell_type": "code",
   "execution_count": 1,
   "metadata": {},
   "outputs": [],
   "source": [
    "import pandas as pd"
   ]
  },
  {
   "cell_type": "code",
   "execution_count": 2,
   "metadata": {},
   "outputs": [],
   "source": [
    "df1 = pd.read_csv('/home/Danny/AI-CUP-2020/datasets/stage1/SampleData_deid.csv')"
   ]
  },
  {
   "cell_type": "code",
   "execution_count": 3,
   "metadata": {},
   "outputs": [],
   "source": [
    "df2 = pd.read_csv('/home/Danny/AI-CUP-2020/datasets/stage2/train_1_update.csv')"
   ]
  },
  {
   "cell_type": "code",
   "execution_count": 4,
   "metadata": {},
   "outputs": [],
   "source": [
    "df4 = pd.read_csv('/home/Danny/AI-CUP-2020/datasets/stage4/train_2.csv')"
   ]
  },
  {
   "cell_type": "code",
   "execution_count": 5,
   "metadata": {},
   "outputs": [],
   "source": [
    "df = df1.append(df2).append(df4)"
   ]
  },
  {
   "cell_type": "code",
   "execution_count": 6,
   "metadata": {},
   "outputs": [],
   "source": [
    "df = df[['entity_text', 'entity_type']]\n",
    "df.to_csv('all_entity_type.csv', index=False)"
   ]
  },
  {
   "cell_type": "code",
   "execution_count": 7,
   "metadata": {},
   "outputs": [
    {
     "data": {
      "text/plain": [
       "['med_exam',\n",
       " 'location',\n",
       " 'time',\n",
       " 'profession',\n",
       " 'name',\n",
       " 'money',\n",
       " 'organization',\n",
       " 'family',\n",
       " 'ID',\n",
       " 'clinical_event',\n",
       " 'education',\n",
       " 'contact',\n",
       " 'others']"
      ]
     },
     "execution_count": 7,
     "metadata": {},
     "output_type": "execute_result"
    }
   ],
   "source": [
    "entity_type_list = list(pd.unique(df['entity_type']))\n",
    "entity_type_list"
   ]
  },
  {
   "cell_type": "code",
   "execution_count": 8,
   "metadata": {},
   "outputs": [],
   "source": [
    "for entity_type in entity_type_list:\n",
    "    entity_type_df = df[df['entity_type'] == entity_type]\n",
    "    entity_type_df = entity_type_df['entity_text']\n",
    "    entity_type_df = entity_type_df.drop_duplicates()\n",
    "    entity_type_df.to_csv('{}.csv'.format(entity_type), index=False)"
   ]
  },
  {
   "cell_type": "code",
   "execution_count": 9,
   "metadata": {},
   "outputs": [],
   "source": [
    "# med_exam = df[df['entity_type'] == 'med_exam']\n",
    "# med_exam = med_exam.drop_duplicates()\n",
    "# med_exam.to_csv('med_exam.csv', index=False)"
   ]
  },
  {
   "cell_type": "code",
   "execution_count": 10,
   "metadata": {},
   "outputs": [],
   "source": [
    "# location = df[df['entity_type'] == 'location']\n",
    "# location = location.drop_duplicates()\n",
    "# location.to_csv('location.csv', index=False)"
   ]
  },
  {
   "cell_type": "code",
   "execution_count": 11,
   "metadata": {},
   "outputs": [],
   "source": [
    "# time = df[df['entity_type'] == 'time']\n",
    "# location = location.drop_duplicates()\n",
    "\n",
    "# time.to_csv('data2/time.csv', index=False)\n",
    "# time"
   ]
  },
  {
   "cell_type": "code",
   "execution_count": 12,
   "metadata": {},
   "outputs": [],
   "source": [
    "# profession = df[df['entity_type'] == 'profession']\n",
    "# location = location.drop_duplicates()\n",
    "\n",
    "# profession.to_csv('data2/profession.csv', index=False)\n",
    "# profession"
   ]
  },
  {
   "cell_type": "code",
   "execution_count": 13,
   "metadata": {},
   "outputs": [],
   "source": [
    "# name = df[df['entity_type'] == 'name']\n",
    "# location = location.drop_duplicates()\n",
    "\n",
    "# name.to_csv('data2/name.csv', index=False)\n",
    "# name"
   ]
  },
  {
   "cell_type": "code",
   "execution_count": 14,
   "metadata": {},
   "outputs": [],
   "source": [
    "# money = df[df['entity_type'] == 'money']\n",
    "# location = location.drop_duplicates()\n",
    "\n",
    "# money.to_csv('data2/money.csv', index=False)\n",
    "# money"
   ]
  },
  {
   "cell_type": "code",
   "execution_count": 15,
   "metadata": {},
   "outputs": [],
   "source": [
    "# organization = df[df['entity_type'] == 'organization']\n",
    "# location = location.drop_duplicates()\n",
    "\n",
    "# organization.to_csv('data2/organization.csv', index=False)\n",
    "# organization"
   ]
  },
  {
   "cell_type": "code",
   "execution_count": 16,
   "metadata": {},
   "outputs": [],
   "source": [
    "# family = df[df['entity_type'] == 'family']\n",
    "# location = location.drop_duplicates()\n",
    "\n",
    "# family.to_csv('data2/family.csv', index=False)\n",
    "# family"
   ]
  },
  {
   "cell_type": "code",
   "execution_count": 17,
   "metadata": {},
   "outputs": [],
   "source": [
    "# ID = df[df['entity_type'] == 'ID']\n",
    "# location = location.drop_duplicates()\n",
    "\n",
    "# ID.to_csv('data2/ID.csv', index=False)\n",
    "# ID"
   ]
  },
  {
   "cell_type": "code",
   "execution_count": 18,
   "metadata": {},
   "outputs": [],
   "source": [
    "# clinical_event = df[df['entity_type'] == 'clinical_event']\n",
    "# location = location.drop_duplicates()\n",
    "\n",
    "# clinical_event.to_csv('data/clinical_event.csv', index=False)\n",
    "# clinical_event"
   ]
  },
  {
   "cell_type": "code",
   "execution_count": 19,
   "metadata": {},
   "outputs": [],
   "source": [
    "# education = df[df['entity_type'] == 'education']\n",
    "# location = location.drop_duplicates()\n",
    "\n",
    "# education.to_csv('data2/education.csv', index=False)\n",
    "# education"
   ]
  },
  {
   "cell_type": "code",
   "execution_count": 20,
   "metadata": {},
   "outputs": [],
   "source": [
    "# contact = df[df['entity_type'] == 'contact']\n",
    "# location = location.drop_duplicates()\n",
    "\n",
    "# contact.to_csv('data2/contact.csv', index=False)\n",
    "# contact"
   ]
  },
  {
   "cell_type": "code",
   "execution_count": 21,
   "metadata": {},
   "outputs": [],
   "source": [
    "# others = df[df['entity_type'] == 'others']\n",
    "# location = location.drop_duplicates()\n",
    "# others.to_csv('data2/others.csv', index=False)\n",
    "# others"
   ]
  },
  {
   "cell_type": "code",
   "execution_count": null,
   "metadata": {},
   "outputs": [],
   "source": []
  }
 ],
 "metadata": {
  "kernelspec": {
   "display_name": "Python 3",
   "language": "python",
   "name": "python3"
  },
  "language_info": {
   "codemirror_mode": {
    "name": "ipython",
    "version": 3
   },
   "file_extension": ".py",
   "mimetype": "text/x-python",
   "name": "python",
   "nbconvert_exporter": "python",
   "pygments_lexer": "ipython3",
   "version": "3.6.10"
  }
 },
 "nbformat": 4,
 "nbformat_minor": 4
}
