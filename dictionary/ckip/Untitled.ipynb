{
 "cells": [
  {
   "cell_type": "code",
   "execution_count": 1,
   "metadata": {},
   "outputs": [],
   "source": [
    "import pandas as pd"
   ]
  },
  {
   "cell_type": "code",
   "execution_count": 2,
   "metadata": {},
   "outputs": [
    {
     "data": {
      "text/plain": [
       "['爸', '媽', '哥', '弟', '姐', '姊', '妹', '叔', '女兒', '兒子', '阿姨', '阿嬤']"
      ]
     },
     "execution_count": 2,
     "metadata": {},
     "output_type": "execute_result"
    }
   ],
   "source": [
    "family_list = pd.read_csv('family_0.csv')['entity_text'].tolist()\n",
    "family_list"
   ]
  },
  {
   "cell_type": "code",
   "execution_count": 3,
   "metadata": {},
   "outputs": [
    {
     "data": {
      "text/plain": [
       "['爸爸',\n",
       " '媽媽',\n",
       " '哥哥',\n",
       " '弟弟',\n",
       " '姐姐',\n",
       " '姊姊',\n",
       " '妹妹',\n",
       " '叔叔',\n",
       " '女兒女兒',\n",
       " '兒子兒子',\n",
       " '阿姨阿姨',\n",
       " '阿嬤阿嬤']"
      ]
     },
     "execution_count": 3,
     "metadata": {},
     "output_type": "execute_result"
    }
   ],
   "source": [
    "double_family_list = [2*i for i in family_list]\n",
    "double_family_list"
   ]
  },
  {
   "cell_type": "code",
   "execution_count": 4,
   "metadata": {},
   "outputs": [
    {
     "data": {
      "text/plain": [
       "['爸',\n",
       " '媽',\n",
       " '哥',\n",
       " '弟',\n",
       " '姐',\n",
       " '姊',\n",
       " '妹',\n",
       " '叔',\n",
       " '女兒',\n",
       " '兒子',\n",
       " '阿姨',\n",
       " '阿嬤',\n",
       " '爸爸',\n",
       " '媽媽',\n",
       " '哥哥',\n",
       " '弟弟',\n",
       " '姐姐',\n",
       " '姊姊',\n",
       " '妹妹',\n",
       " '叔叔',\n",
       " '女兒女兒',\n",
       " '兒子兒子',\n",
       " '阿姨阿姨',\n",
       " '阿嬤阿嬤']"
      ]
     },
     "execution_count": 4,
     "metadata": {},
     "output_type": "execute_result"
    }
   ],
   "source": [
    "family_list = family_list + double_family_list\n",
    "family_list"
   ]
  },
  {
   "cell_type": "code",
   "execution_count": 5,
   "metadata": {},
   "outputs": [
    {
     "data": {
      "text/plain": [
       "['', '你', '我', '他', '她', '你老', '我老', '他老', '她老']"
      ]
     },
     "execution_count": 5,
     "metadata": {},
     "output_type": "execute_result"
    }
   ],
   "source": [
    "subject_list = ['', '你', '我', '他', '她', '你老', '我老', '他老', '她老']\n",
    "subject_list"
   ]
  },
  {
   "cell_type": "code",
   "execution_count": 7,
   "metadata": {},
   "outputs": [],
   "source": [
    "combination_list = list()\n",
    "for subject in subject_list:\n",
    "    for family in family_list:\n",
    "        combination_list.append(subject + family)"
   ]
  },
  {
   "cell_type": "code",
   "execution_count": 8,
   "metadata": {},
   "outputs": [
    {
     "data": {
      "text/html": [
       "<div>\n",
       "<style scoped>\n",
       "    .dataframe tbody tr th:only-of-type {\n",
       "        vertical-align: middle;\n",
       "    }\n",
       "\n",
       "    .dataframe tbody tr th {\n",
       "        vertical-align: top;\n",
       "    }\n",
       "\n",
       "    .dataframe thead th {\n",
       "        text-align: right;\n",
       "    }\n",
       "</style>\n",
       "<table border=\"1\" class=\"dataframe\">\n",
       "  <thead>\n",
       "    <tr style=\"text-align: right;\">\n",
       "      <th></th>\n",
       "      <th>entity_text</th>\n",
       "    </tr>\n",
       "  </thead>\n",
       "  <tbody>\n",
       "    <tr>\n",
       "      <th>0</th>\n",
       "      <td>爸</td>\n",
       "    </tr>\n",
       "    <tr>\n",
       "      <th>1</th>\n",
       "      <td>媽</td>\n",
       "    </tr>\n",
       "    <tr>\n",
       "      <th>2</th>\n",
       "      <td>哥</td>\n",
       "    </tr>\n",
       "    <tr>\n",
       "      <th>3</th>\n",
       "      <td>弟</td>\n",
       "    </tr>\n",
       "    <tr>\n",
       "      <th>4</th>\n",
       "      <td>姐</td>\n",
       "    </tr>\n",
       "    <tr>\n",
       "      <th>...</th>\n",
       "      <td>...</td>\n",
       "    </tr>\n",
       "    <tr>\n",
       "      <th>211</th>\n",
       "      <td>她老叔叔</td>\n",
       "    </tr>\n",
       "    <tr>\n",
       "      <th>212</th>\n",
       "      <td>她老女兒女兒</td>\n",
       "    </tr>\n",
       "    <tr>\n",
       "      <th>213</th>\n",
       "      <td>她老兒子兒子</td>\n",
       "    </tr>\n",
       "    <tr>\n",
       "      <th>214</th>\n",
       "      <td>她老阿姨阿姨</td>\n",
       "    </tr>\n",
       "    <tr>\n",
       "      <th>215</th>\n",
       "      <td>她老阿嬤阿嬤</td>\n",
       "    </tr>\n",
       "  </tbody>\n",
       "</table>\n",
       "<p>216 rows × 1 columns</p>\n",
       "</div>"
      ],
      "text/plain": [
       "    entity_text\n",
       "0             爸\n",
       "1             媽\n",
       "2             哥\n",
       "3             弟\n",
       "4             姐\n",
       "..          ...\n",
       "211        她老叔叔\n",
       "212      她老女兒女兒\n",
       "213      她老兒子兒子\n",
       "214      她老阿姨阿姨\n",
       "215      她老阿嬤阿嬤\n",
       "\n",
       "[216 rows x 1 columns]"
      ]
     },
     "execution_count": 8,
     "metadata": {},
     "output_type": "execute_result"
    }
   ],
   "source": [
    "df = pd.DataFrame(combination_list, columns=['entity_text'])\n",
    "df"
   ]
  },
  {
   "cell_type": "code",
   "execution_count": 9,
   "metadata": {},
   "outputs": [],
   "source": [
    "df.to_csv('family.csv', index=False)"
   ]
  },
  {
   "cell_type": "code",
   "execution_count": null,
   "metadata": {},
   "outputs": [],
   "source": []
  }
 ],
 "metadata": {
  "kernelspec": {
   "display_name": "Python 3",
   "language": "python",
   "name": "python3"
  },
  "language_info": {
   "codemirror_mode": {
    "name": "ipython",
    "version": 3
   },
   "file_extension": ".py",
   "mimetype": "text/x-python",
   "name": "python",
   "nbconvert_exporter": "python",
   "pygments_lexer": "ipython3",
   "version": "3.6.9"
  }
 },
 "nbformat": 4,
 "nbformat_minor": 4
}
